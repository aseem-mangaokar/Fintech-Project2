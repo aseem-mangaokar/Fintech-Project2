{
 "cells": [
  {
   "cell_type": "code",
   "metadata": {
    "tags": [],
    "cell_id": "00000-e647ab39-f91c-4a06-8aa1-d94a81166e33",
    "deepnote_to_be_reexecuted": false,
    "source_hash": "7ad9c8a0",
    "execution_start": 1629332286192,
    "execution_millis": 9414,
    "deepnote_cell_type": "code"
   },
   "source": "# Initial imports\nimport pandas as pd\nimport numpy as np\nfrom sklearn.datasets import make_blobs, make_moons\nfrom sklearn.model_selection import train_test_split\nfrom sklearn.preprocessing import StandardScaler\nfrom tensorflow.keras.models import Sequential\nfrom tensorflow.keras.layers import Dense\n\n%matplotlib inline",
   "outputs": [
    {
     "name": "stderr",
     "text": "2021-08-19 00:18:08.377545: W tensorflow/stream_executor/platform/default/dso_loader.cc:60] Could not load dynamic library 'libcudart.so.11.0'; dlerror: libcudart.so.11.0: cannot open shared object file: No such file or directory\n2021-08-19 00:18:08.377689: I tensorflow/stream_executor/cuda/cudart_stub.cc:29] Ignore above cudart dlerror if you do not have a GPU set up on your machine.\n",
     "output_type": "stream"
    }
   ],
   "execution_count": 1
  },
  {
   "cell_type": "code",
   "metadata": {
    "tags": [],
    "cell_id": "00001-7bcd4a03-5a04-491d-b029-fc36ae0d472b",
    "deepnote_to_be_reexecuted": false,
    "source_hash": "e86e0ef4",
    "execution_start": 1629332295612,
    "execution_millis": 57,
    "deepnote_cell_type": "code"
   },
   "source": "df = pd.read_csv('/work/Fintech-Project2/STRATEGY NOTEBOOKS/Combination Hourly-Daily Strategy/SQ Signals and Binary Return for TrainTest.csv')\ndf.drop(columns = 'Unnamed: 0', inplace = True)\ndf.head()",
   "outputs": [
    {
     "output_type": "execute_result",
     "execution_count": 2,
     "data": {
      "application/vnd.deepnote.dataframe.v2+json": {
       "row_count": 5,
       "column_count": 4,
       "columns": [
        {
         "name": "macd_signal",
         "dtype": "int64",
         "stats": {
          "unique_count": 2,
          "nan_count": 0,
          "min": "-1",
          "max": "0",
          "histogram": [
           {
            "bin_start": -1,
            "bin_end": -0.9,
            "count": 1
           },
           {
            "bin_start": -0.9,
            "bin_end": -0.8,
            "count": 0
           },
           {
            "bin_start": -0.8,
            "bin_end": -0.7,
            "count": 0
           },
           {
            "bin_start": -0.7,
            "bin_end": -0.6,
            "count": 0
           },
           {
            "bin_start": -0.6,
            "bin_end": -0.5,
            "count": 0
           },
           {
            "bin_start": -0.5,
            "bin_end": -0.3999999999999999,
            "count": 0
           },
           {
            "bin_start": -0.3999999999999999,
            "bin_end": -0.29999999999999993,
            "count": 0
           },
           {
            "bin_start": -0.29999999999999993,
            "bin_end": -0.19999999999999996,
            "count": 0
           },
           {
            "bin_start": -0.19999999999999996,
            "bin_end": -0.09999999999999998,
            "count": 0
           },
           {
            "bin_start": -0.09999999999999998,
            "bin_end": 0,
            "count": 4
           }
          ]
         }
        },
        {
         "name": "rsi_signal",
         "dtype": "int64",
         "stats": {
          "unique_count": 1,
          "nan_count": 0,
          "min": "0",
          "max": "0",
          "histogram": [
           {
            "bin_start": -0.5,
            "bin_end": -0.4,
            "count": 0
           },
           {
            "bin_start": -0.4,
            "bin_end": -0.3,
            "count": 0
           },
           {
            "bin_start": -0.3,
            "bin_end": -0.19999999999999996,
            "count": 0
           },
           {
            "bin_start": -0.19999999999999996,
            "bin_end": -0.09999999999999998,
            "count": 0
           },
           {
            "bin_start": -0.09999999999999998,
            "bin_end": 0,
            "count": 0
           },
           {
            "bin_start": 0,
            "bin_end": 0.10000000000000009,
            "count": 5
           },
           {
            "bin_start": 0.10000000000000009,
            "bin_end": 0.20000000000000007,
            "count": 0
           },
           {
            "bin_start": 0.20000000000000007,
            "bin_end": 0.30000000000000004,
            "count": 0
           },
           {
            "bin_start": 0.30000000000000004,
            "bin_end": 0.4,
            "count": 0
           },
           {
            "bin_start": 0.4,
            "bin_end": 0.5,
            "count": 0
           }
          ]
         }
        },
        {
         "name": "aroon_signal",
         "dtype": "int64",
         "stats": {
          "unique_count": 1,
          "nan_count": 0,
          "min": "0",
          "max": "0",
          "histogram": [
           {
            "bin_start": -0.5,
            "bin_end": -0.4,
            "count": 0
           },
           {
            "bin_start": -0.4,
            "bin_end": -0.3,
            "count": 0
           },
           {
            "bin_start": -0.3,
            "bin_end": -0.19999999999999996,
            "count": 0
           },
           {
            "bin_start": -0.19999999999999996,
            "bin_end": -0.09999999999999998,
            "count": 0
           },
           {
            "bin_start": -0.09999999999999998,
            "bin_end": 0,
            "count": 0
           },
           {
            "bin_start": 0,
            "bin_end": 0.10000000000000009,
            "count": 5
           },
           {
            "bin_start": 0.10000000000000009,
            "bin_end": 0.20000000000000007,
            "count": 0
           },
           {
            "bin_start": 0.20000000000000007,
            "bin_end": 0.30000000000000004,
            "count": 0
           },
           {
            "bin_start": 0.30000000000000004,
            "bin_end": 0.4,
            "count": 0
           },
           {
            "bin_start": 0.4,
            "bin_end": 0.5,
            "count": 0
           }
          ]
         }
        },
        {
         "name": "Binary Return",
         "dtype": "int64",
         "stats": {
          "unique_count": 1,
          "nan_count": 0,
          "min": "0",
          "max": "0",
          "histogram": [
           {
            "bin_start": -0.5,
            "bin_end": -0.4,
            "count": 0
           },
           {
            "bin_start": -0.4,
            "bin_end": -0.3,
            "count": 0
           },
           {
            "bin_start": -0.3,
            "bin_end": -0.19999999999999996,
            "count": 0
           },
           {
            "bin_start": -0.19999999999999996,
            "bin_end": -0.09999999999999998,
            "count": 0
           },
           {
            "bin_start": -0.09999999999999998,
            "bin_end": 0,
            "count": 0
           },
           {
            "bin_start": 0,
            "bin_end": 0.10000000000000009,
            "count": 5
           },
           {
            "bin_start": 0.10000000000000009,
            "bin_end": 0.20000000000000007,
            "count": 0
           },
           {
            "bin_start": 0.20000000000000007,
            "bin_end": 0.30000000000000004,
            "count": 0
           },
           {
            "bin_start": 0.30000000000000004,
            "bin_end": 0.4,
            "count": 0
           },
           {
            "bin_start": 0.4,
            "bin_end": 0.5,
            "count": 0
           }
          ]
         }
        },
        {
         "name": "_deepnote_index_column",
         "dtype": "int64"
        }
       ],
       "rows_top": [
        {
         "macd_signal": 0,
         "rsi_signal": 0,
         "aroon_signal": 0,
         "Binary Return": 0,
         "_deepnote_index_column": 0
        },
        {
         "macd_signal": -1,
         "rsi_signal": 0,
         "aroon_signal": 0,
         "Binary Return": 0,
         "_deepnote_index_column": 1
        },
        {
         "macd_signal": 0,
         "rsi_signal": 0,
         "aroon_signal": 0,
         "Binary Return": 0,
         "_deepnote_index_column": 2
        },
        {
         "macd_signal": 0,
         "rsi_signal": 0,
         "aroon_signal": 0,
         "Binary Return": 0,
         "_deepnote_index_column": 3
        },
        {
         "macd_signal": 0,
         "rsi_signal": 0,
         "aroon_signal": 0,
         "Binary Return": 0,
         "_deepnote_index_column": 4
        }
       ],
       "rows_bottom": null
      },
      "text/plain": "   macd_signal  rsi_signal  aroon_signal  Binary Return\n0            0           0             0              0\n1           -1           0             0              0\n2            0           0             0              0\n3            0           0             0              0\n4            0           0             0              0",
      "text/html": "<div>\n<style scoped>\n    .dataframe tbody tr th:only-of-type {\n        vertical-align: middle;\n    }\n\n    .dataframe tbody tr th {\n        vertical-align: top;\n    }\n\n    .dataframe thead th {\n        text-align: right;\n    }\n</style>\n<table border=\"1\" class=\"dataframe\">\n  <thead>\n    <tr style=\"text-align: right;\">\n      <th></th>\n      <th>macd_signal</th>\n      <th>rsi_signal</th>\n      <th>aroon_signal</th>\n      <th>Binary Return</th>\n    </tr>\n  </thead>\n  <tbody>\n    <tr>\n      <th>0</th>\n      <td>0</td>\n      <td>0</td>\n      <td>0</td>\n      <td>0</td>\n    </tr>\n    <tr>\n      <th>1</th>\n      <td>-1</td>\n      <td>0</td>\n      <td>0</td>\n      <td>0</td>\n    </tr>\n    <tr>\n      <th>2</th>\n      <td>0</td>\n      <td>0</td>\n      <td>0</td>\n      <td>0</td>\n    </tr>\n    <tr>\n      <th>3</th>\n      <td>0</td>\n      <td>0</td>\n      <td>0</td>\n      <td>0</td>\n    </tr>\n    <tr>\n      <th>4</th>\n      <td>0</td>\n      <td>0</td>\n      <td>0</td>\n      <td>0</td>\n    </tr>\n  </tbody>\n</table>\n</div>"
     },
     "metadata": {}
    }
   ],
   "execution_count": 2
  },
  {
   "cell_type": "code",
   "metadata": {
    "tags": [],
    "cell_id": "00002-0791b051-ec6f-41d3-851a-ba1aed716706",
    "deepnote_to_be_reexecuted": false,
    "source_hash": "278dacce",
    "execution_start": 1629332295670,
    "execution_millis": 32,
    "deepnote_cell_type": "code"
   },
   "source": "X = df.copy()\nX = X.drop(columns = ['Binary Return'])\nX.head()",
   "outputs": [
    {
     "output_type": "execute_result",
     "execution_count": 3,
     "data": {
      "application/vnd.deepnote.dataframe.v2+json": {
       "row_count": 5,
       "column_count": 3,
       "columns": [
        {
         "name": "macd_signal",
         "dtype": "int64",
         "stats": {
          "unique_count": 2,
          "nan_count": 0,
          "min": "-1",
          "max": "0",
          "histogram": [
           {
            "bin_start": -1,
            "bin_end": -0.9,
            "count": 1
           },
           {
            "bin_start": -0.9,
            "bin_end": -0.8,
            "count": 0
           },
           {
            "bin_start": -0.8,
            "bin_end": -0.7,
            "count": 0
           },
           {
            "bin_start": -0.7,
            "bin_end": -0.6,
            "count": 0
           },
           {
            "bin_start": -0.6,
            "bin_end": -0.5,
            "count": 0
           },
           {
            "bin_start": -0.5,
            "bin_end": -0.3999999999999999,
            "count": 0
           },
           {
            "bin_start": -0.3999999999999999,
            "bin_end": -0.29999999999999993,
            "count": 0
           },
           {
            "bin_start": -0.29999999999999993,
            "bin_end": -0.19999999999999996,
            "count": 0
           },
           {
            "bin_start": -0.19999999999999996,
            "bin_end": -0.09999999999999998,
            "count": 0
           },
           {
            "bin_start": -0.09999999999999998,
            "bin_end": 0,
            "count": 4
           }
          ]
         }
        },
        {
         "name": "rsi_signal",
         "dtype": "int64",
         "stats": {
          "unique_count": 1,
          "nan_count": 0,
          "min": "0",
          "max": "0",
          "histogram": [
           {
            "bin_start": -0.5,
            "bin_end": -0.4,
            "count": 0
           },
           {
            "bin_start": -0.4,
            "bin_end": -0.3,
            "count": 0
           },
           {
            "bin_start": -0.3,
            "bin_end": -0.19999999999999996,
            "count": 0
           },
           {
            "bin_start": -0.19999999999999996,
            "bin_end": -0.09999999999999998,
            "count": 0
           },
           {
            "bin_start": -0.09999999999999998,
            "bin_end": 0,
            "count": 0
           },
           {
            "bin_start": 0,
            "bin_end": 0.10000000000000009,
            "count": 5
           },
           {
            "bin_start": 0.10000000000000009,
            "bin_end": 0.20000000000000007,
            "count": 0
           },
           {
            "bin_start": 0.20000000000000007,
            "bin_end": 0.30000000000000004,
            "count": 0
           },
           {
            "bin_start": 0.30000000000000004,
            "bin_end": 0.4,
            "count": 0
           },
           {
            "bin_start": 0.4,
            "bin_end": 0.5,
            "count": 0
           }
          ]
         }
        },
        {
         "name": "aroon_signal",
         "dtype": "int64",
         "stats": {
          "unique_count": 1,
          "nan_count": 0,
          "min": "0",
          "max": "0",
          "histogram": [
           {
            "bin_start": -0.5,
            "bin_end": -0.4,
            "count": 0
           },
           {
            "bin_start": -0.4,
            "bin_end": -0.3,
            "count": 0
           },
           {
            "bin_start": -0.3,
            "bin_end": -0.19999999999999996,
            "count": 0
           },
           {
            "bin_start": -0.19999999999999996,
            "bin_end": -0.09999999999999998,
            "count": 0
           },
           {
            "bin_start": -0.09999999999999998,
            "bin_end": 0,
            "count": 0
           },
           {
            "bin_start": 0,
            "bin_end": 0.10000000000000009,
            "count": 5
           },
           {
            "bin_start": 0.10000000000000009,
            "bin_end": 0.20000000000000007,
            "count": 0
           },
           {
            "bin_start": 0.20000000000000007,
            "bin_end": 0.30000000000000004,
            "count": 0
           },
           {
            "bin_start": 0.30000000000000004,
            "bin_end": 0.4,
            "count": 0
           },
           {
            "bin_start": 0.4,
            "bin_end": 0.5,
            "count": 0
           }
          ]
         }
        },
        {
         "name": "_deepnote_index_column",
         "dtype": "int64"
        }
       ],
       "rows_top": [
        {
         "macd_signal": 0,
         "rsi_signal": 0,
         "aroon_signal": 0,
         "_deepnote_index_column": 0
        },
        {
         "macd_signal": -1,
         "rsi_signal": 0,
         "aroon_signal": 0,
         "_deepnote_index_column": 1
        },
        {
         "macd_signal": 0,
         "rsi_signal": 0,
         "aroon_signal": 0,
         "_deepnote_index_column": 2
        },
        {
         "macd_signal": 0,
         "rsi_signal": 0,
         "aroon_signal": 0,
         "_deepnote_index_column": 3
        },
        {
         "macd_signal": 0,
         "rsi_signal": 0,
         "aroon_signal": 0,
         "_deepnote_index_column": 4
        }
       ],
       "rows_bottom": null
      },
      "text/plain": "   macd_signal  rsi_signal  aroon_signal\n0            0           0             0\n1           -1           0             0\n2            0           0             0\n3            0           0             0\n4            0           0             0",
      "text/html": "<div>\n<style scoped>\n    .dataframe tbody tr th:only-of-type {\n        vertical-align: middle;\n    }\n\n    .dataframe tbody tr th {\n        vertical-align: top;\n    }\n\n    .dataframe thead th {\n        text-align: right;\n    }\n</style>\n<table border=\"1\" class=\"dataframe\">\n  <thead>\n    <tr style=\"text-align: right;\">\n      <th></th>\n      <th>macd_signal</th>\n      <th>rsi_signal</th>\n      <th>aroon_signal</th>\n    </tr>\n  </thead>\n  <tbody>\n    <tr>\n      <th>0</th>\n      <td>0</td>\n      <td>0</td>\n      <td>0</td>\n    </tr>\n    <tr>\n      <th>1</th>\n      <td>-1</td>\n      <td>0</td>\n      <td>0</td>\n    </tr>\n    <tr>\n      <th>2</th>\n      <td>0</td>\n      <td>0</td>\n      <td>0</td>\n    </tr>\n    <tr>\n      <th>3</th>\n      <td>0</td>\n      <td>0</td>\n      <td>0</td>\n    </tr>\n    <tr>\n      <th>4</th>\n      <td>0</td>\n      <td>0</td>\n      <td>0</td>\n    </tr>\n  </tbody>\n</table>\n</div>"
     },
     "metadata": {}
    }
   ],
   "execution_count": 3
  },
  {
   "cell_type": "code",
   "metadata": {
    "tags": [],
    "cell_id": "00003-02183238-7dff-4b57-983f-25e2684b3b5f",
    "deepnote_to_be_reexecuted": false,
    "source_hash": "24867a23",
    "execution_start": 1629332295705,
    "execution_millis": 10,
    "deepnote_cell_type": "code"
   },
   "source": "y = df['Binary Return'].values\ny = y.reshape(-1,1)\ny[:5]",
   "outputs": [
    {
     "output_type": "execute_result",
     "execution_count": 4,
     "data": {
      "text/plain": "array([[0],\n       [0],\n       [0],\n       [0],\n       [0]])"
     },
     "metadata": {}
    }
   ],
   "execution_count": 4
  },
  {
   "cell_type": "code",
   "metadata": {
    "tags": [],
    "cell_id": "00004-d0f38474-7c75-4e11-aa7f-7e10f486deb3",
    "deepnote_to_be_reexecuted": false,
    "source_hash": "983f014",
    "execution_start": 1629332295755,
    "execution_millis": 0,
    "deepnote_cell_type": "code"
   },
   "source": "X_train, X_test, y_train, y_test = train_test_split(X, y, random_state=78)",
   "outputs": [],
   "execution_count": 5
  },
  {
   "cell_type": "code",
   "metadata": {
    "tags": [],
    "cell_id": "00005-556be44d-e2ea-4945-b217-e668d04902d7",
    "deepnote_to_be_reexecuted": false,
    "source_hash": "eb185e99",
    "execution_start": 1629332295755,
    "execution_millis": 1,
    "deepnote_cell_type": "code"
   },
   "source": "X_scaler = StandardScaler()\nX_scaler.fit(X_train)\nX_train_scaled = X_scaler.transform(X_train)\nX_test_scaled = X_scaler.transform(X_test)",
   "outputs": [],
   "execution_count": 6
  },
  {
   "cell_type": "code",
   "metadata": {
    "tags": [],
    "cell_id": "00006-fbd88451-882d-46e4-82fa-0cbe6fc7e437",
    "deepnote_to_be_reexecuted": false,
    "source_hash": "1ad1a781",
    "execution_start": 1629332295756,
    "execution_millis": 50,
    "deepnote_cell_type": "code"
   },
   "source": "number_inputs = 3\nnumber_hidden_nodes_layer1 = 21\nnumber_hidden_nodes_layer2 = 42\n\nnn = Sequential()\nnn.add(Dense(units = number_hidden_nodes_layer1, input_dim = number_inputs, activation = 'relu'))\nnn.add(Dense(units = number_hidden_nodes_layer2, activation = 'relu' ))\nnn.add(Dense(1, activation = 'sigmoid'))",
   "outputs": [
    {
     "name": "stderr",
     "text": "2021-08-19 00:18:15.756886: I tensorflow/compiler/jit/xla_cpu_device.cc:41] Not creating XLA devices, tf_xla_enable_xla_devices not set\n2021-08-19 00:18:15.757140: W tensorflow/stream_executor/platform/default/dso_loader.cc:60] Could not load dynamic library 'libcuda.so.1'; dlerror: libcuda.so.1: cannot open shared object file: No such file or directory\n2021-08-19 00:18:15.757156: W tensorflow/stream_executor/cuda/cuda_driver.cc:326] failed call to cuInit: UNKNOWN ERROR (303)\n2021-08-19 00:18:15.757182: I tensorflow/stream_executor/cuda/cuda_diagnostics.cc:156] kernel driver does not appear to be running on this host (p-d12c285c-6789-4c45-9ad7-1be9b4d60622): /proc/driver/nvidia/version does not exist\n2021-08-19 00:18:15.757446: I tensorflow/core/platform/cpu_feature_guard.cc:142] This TensorFlow binary is optimized with oneAPI Deep Neural Network Library (oneDNN) to use the following CPU instructions in performance-critical operations:  AVX2 FMA\nTo enable them in other operations, rebuild TensorFlow with the appropriate compiler flags.\n2021-08-19 00:18:15.757703: I tensorflow/compiler/jit/xla_gpu_device.cc:99] Not creating XLA devices, tf_xla_enable_xla_devices not set\n",
     "output_type": "stream"
    }
   ],
   "execution_count": 7
  },
  {
   "cell_type": "code",
   "metadata": {
    "tags": [],
    "cell_id": "00007-83aa2166-b8ff-4b41-abf5-5cee98c3d411",
    "deepnote_to_be_reexecuted": false,
    "source_hash": "63871a6d",
    "execution_start": 1629332295814,
    "execution_millis": 10,
    "deepnote_cell_type": "code"
   },
   "source": "nn.compile(loss = 'binary_crossentropy', optimizer = 'adam', metrics = ['accuracy'])",
   "outputs": [],
   "execution_count": 8
  },
  {
   "cell_type": "code",
   "metadata": {
    "tags": [],
    "cell_id": "00008-3a496f0b-4915-4577-b33e-c579e6221516",
    "deepnote_to_be_reexecuted": false,
    "source_hash": "253825ed",
    "execution_start": 1629332295873,
    "execution_millis": 11077,
    "deepnote_cell_type": "code"
   },
   "source": "model = nn.fit(X_train_scaled, y_train, epochs = 100)",
   "outputs": [
    {
     "name": "stderr",
     "text": "2021-08-19 00:18:15.883306: I tensorflow/compiler/mlir/mlir_graph_optimization_pass.cc:116] None of the MLIR optimization passes are enabled (registered 2)\n2021-08-19 00:18:15.902813: I tensorflow/core/platform/profile_utils/cpu_utils.cc:112] CPU Frequency: 2199970000 Hz\nEpoch 1/100\n80/80 [==============================] - 1s 1ms/step - loss: 0.6918 - accuracy: 0.5079\nEpoch 2/100\n80/80 [==============================] - 0s 1ms/step - loss: 0.6923 - accuracy: 0.5192\nEpoch 3/100\n80/80 [==============================] - 0s 1ms/step - loss: 0.6896 - accuracy: 0.5391\nEpoch 4/100\n80/80 [==============================] - 0s 1ms/step - loss: 0.6903 - accuracy: 0.5287\nEpoch 5/100\n80/80 [==============================] - 0s 1ms/step - loss: 0.6937 - accuracy: 0.5064\nEpoch 6/100\n80/80 [==============================] - 0s 1ms/step - loss: 0.6940 - accuracy: 0.5062\nEpoch 7/100\n80/80 [==============================] - 0s 1ms/step - loss: 0.6920 - accuracy: 0.5185\nEpoch 8/100\n80/80 [==============================] - 0s 1ms/step - loss: 0.6885 - accuracy: 0.5357\nEpoch 9/100\n80/80 [==============================] - 0s 1ms/step - loss: 0.6898 - accuracy: 0.5320\nEpoch 10/100\n80/80 [==============================] - 0s 1ms/step - loss: 0.6918 - accuracy: 0.5240\nEpoch 11/100\n80/80 [==============================] - 0s 1ms/step - loss: 0.6866 - accuracy: 0.5390\nEpoch 12/100\n80/80 [==============================] - 0s 1ms/step - loss: 0.6910 - accuracy: 0.5243\nEpoch 13/100\n80/80 [==============================] - 0s 1ms/step - loss: 0.6899 - accuracy: 0.5220\nEpoch 14/100\n80/80 [==============================] - 0s 1ms/step - loss: 0.6909 - accuracy: 0.5252\nEpoch 15/100\n80/80 [==============================] - 0s 1ms/step - loss: 0.6899 - accuracy: 0.5270\nEpoch 16/100\n80/80 [==============================] - 0s 1ms/step - loss: 0.6931 - accuracy: 0.5144\nEpoch 17/100\n80/80 [==============================] - 0s 1ms/step - loss: 0.6924 - accuracy: 0.5111\nEpoch 18/100\n80/80 [==============================] - 0s 1ms/step - loss: 0.6893 - accuracy: 0.5383\nEpoch 19/100\n80/80 [==============================] - 0s 1ms/step - loss: 0.6905 - accuracy: 0.5273\nEpoch 20/100\n80/80 [==============================] - 0s 1ms/step - loss: 0.6903 - accuracy: 0.5375\nEpoch 21/100\n80/80 [==============================] - 0s 1ms/step - loss: 0.6908 - accuracy: 0.5095\nEpoch 22/100\n80/80 [==============================] - 0s 1ms/step - loss: 0.6903 - accuracy: 0.5294\nEpoch 23/100\n80/80 [==============================] - 0s 1ms/step - loss: 0.6923 - accuracy: 0.5293\nEpoch 24/100\n80/80 [==============================] - 0s 1ms/step - loss: 0.6867 - accuracy: 0.5508\nEpoch 25/100\n80/80 [==============================] - 0s 1ms/step - loss: 0.6912 - accuracy: 0.5197\nEpoch 26/100\n80/80 [==============================] - 0s 1ms/step - loss: 0.6927 - accuracy: 0.5201\nEpoch 27/100\n80/80 [==============================] - 0s 2ms/step - loss: 0.6914 - accuracy: 0.5234\nEpoch 28/100\n80/80 [==============================] - 0s 2ms/step - loss: 0.6916 - accuracy: 0.5234\nEpoch 29/100\n80/80 [==============================] - 0s 1ms/step - loss: 0.6912 - accuracy: 0.5236\nEpoch 30/100\n80/80 [==============================] - 0s 1ms/step - loss: 0.6903 - accuracy: 0.5322\nEpoch 31/100\n80/80 [==============================] - 0s 1ms/step - loss: 0.6913 - accuracy: 0.5280\nEpoch 32/100\n80/80 [==============================] - 0s 1ms/step - loss: 0.6894 - accuracy: 0.5485\nEpoch 33/100\n80/80 [==============================] - 0s 1ms/step - loss: 0.6898 - accuracy: 0.5244\nEpoch 34/100\n80/80 [==============================] - 0s 1ms/step - loss: 0.6915 - accuracy: 0.5270\nEpoch 35/100\n80/80 [==============================] - 0s 1ms/step - loss: 0.6906 - accuracy: 0.5215\nEpoch 36/100\n80/80 [==============================] - 0s 1ms/step - loss: 0.6880 - accuracy: 0.5362\nEpoch 37/100\n80/80 [==============================] - 0s 1ms/step - loss: 0.6901 - accuracy: 0.5165\nEpoch 38/100\n80/80 [==============================] - 0s 1ms/step - loss: 0.6913 - accuracy: 0.5146\nEpoch 39/100\n80/80 [==============================] - 0s 1ms/step - loss: 0.6899 - accuracy: 0.5297\nEpoch 40/100\n80/80 [==============================] - 0s 1ms/step - loss: 0.6916 - accuracy: 0.5211\nEpoch 41/100\n80/80 [==============================] - 0s 1ms/step - loss: 0.6912 - accuracy: 0.5254\nEpoch 42/100\n80/80 [==============================] - 0s 1ms/step - loss: 0.6902 - accuracy: 0.5212\nEpoch 43/100\n80/80 [==============================] - 0s 1ms/step - loss: 0.6901 - accuracy: 0.5228\nEpoch 44/100\n80/80 [==============================] - 0s 1ms/step - loss: 0.6909 - accuracy: 0.5209\nEpoch 45/100\n80/80 [==============================] - 0s 1ms/step - loss: 0.6915 - accuracy: 0.5202\nEpoch 46/100\n80/80 [==============================] - 0s 1ms/step - loss: 0.6898 - accuracy: 0.5386\nEpoch 47/100\n80/80 [==============================] - 0s 1ms/step - loss: 0.6913 - accuracy: 0.5239\nEpoch 48/100\n80/80 [==============================] - 0s 1ms/step - loss: 0.6900 - accuracy: 0.5246\nEpoch 49/100\n80/80 [==============================] - 0s 1ms/step - loss: 0.6900 - accuracy: 0.5401\nEpoch 50/100\n80/80 [==============================] - 0s 1ms/step - loss: 0.6904 - accuracy: 0.5260\nEpoch 51/100\n80/80 [==============================] - 0s 1ms/step - loss: 0.6905 - accuracy: 0.5226\nEpoch 52/100\n80/80 [==============================] - 0s 1ms/step - loss: 0.6911 - accuracy: 0.5198\nEpoch 53/100\n80/80 [==============================] - 0s 1ms/step - loss: 0.6898 - accuracy: 0.5267\nEpoch 54/100\n80/80 [==============================] - 0s 1ms/step - loss: 0.6926 - accuracy: 0.5148\nEpoch 55/100\n80/80 [==============================] - 0s 1ms/step - loss: 0.6905 - accuracy: 0.5253\nEpoch 56/100\n80/80 [==============================] - 0s 1ms/step - loss: 0.6886 - accuracy: 0.5421\nEpoch 57/100\n80/80 [==============================] - 0s 1ms/step - loss: 0.6914 - accuracy: 0.5183\nEpoch 58/100\n80/80 [==============================] - 0s 1ms/step - loss: 0.6896 - accuracy: 0.5262\nEpoch 59/100\n80/80 [==============================] - 0s 1ms/step - loss: 0.6894 - accuracy: 0.5315\nEpoch 60/100\n80/80 [==============================] - 0s 1ms/step - loss: 0.6893 - accuracy: 0.5324\nEpoch 61/100\n80/80 [==============================] - 0s 1ms/step - loss: 0.6912 - accuracy: 0.5104\nEpoch 62/100\n80/80 [==============================] - 0s 1ms/step - loss: 0.6893 - accuracy: 0.5379\nEpoch 63/100\n80/80 [==============================] - 0s 1ms/step - loss: 0.6915 - accuracy: 0.5171\nEpoch 64/100\n80/80 [==============================] - 0s 1ms/step - loss: 0.6916 - accuracy: 0.5124\nEpoch 65/100\n80/80 [==============================] - 0s 1ms/step - loss: 0.6914 - accuracy: 0.5231\nEpoch 66/100\n80/80 [==============================] - 0s 2ms/step - loss: 0.6912 - accuracy: 0.5322\nEpoch 67/100\n80/80 [==============================] - 0s 1ms/step - loss: 0.6906 - accuracy: 0.5231\nEpoch 68/100\n80/80 [==============================] - 0s 1ms/step - loss: 0.6906 - accuracy: 0.5223\nEpoch 69/100\n80/80 [==============================] - 0s 2ms/step - loss: 0.6895 - accuracy: 0.5304\nEpoch 70/100\n80/80 [==============================] - 0s 1ms/step - loss: 0.6914 - accuracy: 0.5135\nEpoch 71/100\n80/80 [==============================] - 0s 1ms/step - loss: 0.6907 - accuracy: 0.5255\nEpoch 72/100\n80/80 [==============================] - 0s 1ms/step - loss: 0.6910 - accuracy: 0.5291\nEpoch 73/100\n80/80 [==============================] - 0s 1ms/step - loss: 0.6903 - accuracy: 0.5207\nEpoch 74/100\n80/80 [==============================] - 0s 1ms/step - loss: 0.6901 - accuracy: 0.5297\nEpoch 75/100\n80/80 [==============================] - 0s 1ms/step - loss: 0.6909 - accuracy: 0.5246\nEpoch 76/100\n80/80 [==============================] - 0s 1ms/step - loss: 0.6915 - accuracy: 0.5298\nEpoch 77/100\n80/80 [==============================] - 0s 1ms/step - loss: 0.6912 - accuracy: 0.5232\nEpoch 78/100\n80/80 [==============================] - 0s 1ms/step - loss: 0.6906 - accuracy: 0.5125\nEpoch 79/100\n80/80 [==============================] - 0s 1ms/step - loss: 0.6887 - accuracy: 0.5380\nEpoch 80/100\n80/80 [==============================] - 0s 1ms/step - loss: 0.6904 - accuracy: 0.5213\nEpoch 81/100\n80/80 [==============================] - 0s 1ms/step - loss: 0.6921 - accuracy: 0.5238\nEpoch 82/100\n80/80 [==============================] - 0s 1ms/step - loss: 0.6890 - accuracy: 0.5351\nEpoch 83/100\n80/80 [==============================] - 0s 1ms/step - loss: 0.6890 - accuracy: 0.5367\nEpoch 84/100\n80/80 [==============================] - 0s 1ms/step - loss: 0.6907 - accuracy: 0.5128\nEpoch 85/100\n80/80 [==============================] - 0s 1ms/step - loss: 0.6914 - accuracy: 0.5198\nEpoch 86/100\n80/80 [==============================] - 0s 1ms/step - loss: 0.6905 - accuracy: 0.5186\nEpoch 87/100\n80/80 [==============================] - 0s 1ms/step - loss: 0.6904 - accuracy: 0.5331\nEpoch 88/100\n80/80 [==============================] - 0s 2ms/step - loss: 0.6912 - accuracy: 0.5175\nEpoch 89/100\n80/80 [==============================] - 0s 1ms/step - loss: 0.6896 - accuracy: 0.5236\nEpoch 90/100\n80/80 [==============================] - 0s 1ms/step - loss: 0.6918 - accuracy: 0.5177\nEpoch 91/100\n80/80 [==============================] - 0s 1ms/step - loss: 0.6919 - accuracy: 0.5159\nEpoch 92/100\n80/80 [==============================] - 0s 1ms/step - loss: 0.6882 - accuracy: 0.5453\nEpoch 93/100\n80/80 [==============================] - 0s 2ms/step - loss: 0.6889 - accuracy: 0.5349\nEpoch 94/100\n80/80 [==============================] - 0s 1ms/step - loss: 0.6939 - accuracy: 0.5114\nEpoch 95/100\n80/80 [==============================] - 0s 1ms/step - loss: 0.6913 - accuracy: 0.5164\nEpoch 96/100\n80/80 [==============================] - 0s 1ms/step - loss: 0.6896 - accuracy: 0.5171\nEpoch 97/100\n80/80 [==============================] - 0s 1ms/step - loss: 0.6904 - accuracy: 0.5267\nEpoch 98/100\n80/80 [==============================] - 0s 1ms/step - loss: 0.6884 - accuracy: 0.5368\nEpoch 99/100\n80/80 [==============================] - 0s 1ms/step - loss: 0.6921 - accuracy: 0.5150\nEpoch 100/100\n80/80 [==============================] - 0s 1ms/step - loss: 0.6897 - accuracy: 0.5266\n",
     "output_type": "stream"
    }
   ],
   "execution_count": 9
  },
  {
   "cell_type": "code",
   "metadata": {
    "tags": [],
    "cell_id": "00009-91c024a5-88ae-4344-91d2-82ddc9037bed",
    "deepnote_to_be_reexecuted": false,
    "source_hash": "5d3251d3",
    "execution_start": 1629332306998,
    "execution_millis": 261,
    "deepnote_cell_type": "code"
   },
   "source": "df_plot = pd.DataFrame(model.history, index = range(1, len(model.history['loss'])+ 1))\n\ndf_plot.plot(y='loss')",
   "outputs": [
    {
     "output_type": "execute_result",
     "execution_count": 10,
     "data": {
      "text/plain": "<AxesSubplot:>"
     },
     "metadata": {}
    },
    {
     "data": {
      "text/plain": "<Figure size 432x288 with 1 Axes>",
      "image/png": "[encoded data removed]"
     },
     "metadata": {
      "needs_background": "light",
      "image/png": {
       "width": 391,
       "height": 248
      }
     },
     "output_type": "display_data"
    }
   ],
   "execution_count": 10
  },
  {
   "cell_type": "code",
   "metadata": {
    "tags": [],
    "cell_id": "00010-66606703-f607-4e6e-b3fc-d21a29af5e46",
    "deepnote_to_be_reexecuted": false,
    "source_hash": "4686e7e4",
    "execution_start": 1629332307305,
    "execution_millis": 187,
    "deepnote_cell_type": "code"
   },
   "source": "df_plot.plot(y='accuracy')",
   "outputs": [
    {
     "output_type": "execute_result",
     "execution_count": 11,
     "data": {
      "text/plain": "<AxesSubplot:>"
     },
     "metadata": {}
    },
    {
     "data": {
      "text/plain": "<Figure size 432x288 with 1 Axes>",
      "image/png": "[encoded data removed]"
     },
     "metadata": {
      "needs_background": "light",
      "image/png": {
       "width": 384,
       "height": 248
      }
     },
     "output_type": "display_data"
    }
   ],
   "execution_count": 11
  },
  {
   "cell_type": "code",
   "metadata": {
    "tags": [],
    "cell_id": "00011-a99ecf3d-0e44-41ee-994a-3fdb9ef37bcf",
    "deepnote_to_be_reexecuted": false,
    "source_hash": "4a1c37cf",
    "execution_start": 1629332307545,
    "execution_millis": 201,
    "deepnote_cell_type": "code"
   },
   "source": "model_loss, model_accuracy = nn.evaluate(X_test_scaled, y_test, verbose = 2)\nprint(f\"Loss: {model_loss}, Accuracy: {model_accuracy}\")",
   "outputs": [
    {
     "name": "stdout",
     "text": "27/27 - 0s - loss: 0.6951 - accuracy: 0.5029\nLoss: 0.6951295137405396, Accuracy: 0.5029308199882507\n",
     "output_type": "stream"
    }
   ],
   "execution_count": 12
  },
  {
   "cell_type": "markdown",
   "source": "<a style='text-decoration:none;line-height:16px;display:flex;color:#5B5B62;padding:10px;justify-content:end;' href='https://deepnote.com?utm_source=created-in-deepnote-cell&projectId=d12c285c-6789-4c45-9ad7-1be9b4d60622' target=\"_blank\">\n<img alt='Created in deepnote.com' style='display:inline;max-height:16px;margin:0px;margin-right:7.5px;' src='data:image/svg+xml;base64,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' > </img>\nCreated in <span style='font-weight:600;margin-left:4px;'>Deepnote</span></a>",
   "metadata": {
    "tags": [],
    "created_in_deepnote_cell": true,
    "deepnote_cell_type": "markdown"
   }
  }
 ],
 "nbformat": 4,
 "nbformat_minor": 2,
 "metadata": {
  "orig_nbformat": 2,
  "deepnote": {
   "is_reactive": false
  },
  "deepnote_notebook_id": "2b0a0196-e39f-4e98-819a-fde6ca166e36",
  "deepnote_execution_queue": []
 }
}