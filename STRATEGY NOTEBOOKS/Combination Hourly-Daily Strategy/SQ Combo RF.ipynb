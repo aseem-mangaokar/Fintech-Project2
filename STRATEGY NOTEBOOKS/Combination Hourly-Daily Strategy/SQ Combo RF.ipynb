{
 "cells": [
  {
   "cell_type": "code",
   "metadata": {
    "tags": [],
    "cell_id": "00000-4dddf234-0214-465a-be67-3e900eceb69a",
    "deepnote_to_be_reexecuted": false,
    "source_hash": "c32a955a",
    "execution_start": 1629241773664,
    "execution_millis": 1,
    "deepnote_cell_type": "code"
   },
   "source": "# Initial imports\nfrom dateutil.parser import parse\nimport numpy as np\nimport pandas as pd\nfrom pathlib import Path\nfrom sklearn.ensemble import RandomForestClassifier\nfrom sklearn.preprocessing import StandardScaler\nfrom sklearn.model_selection import train_test_split\nfrom sklearn.metrics import confusion_matrix, accuracy_score, classification_report\n%matplotlib inline\nfrom sklearn import *\nfrom tensorflow.keras.models import Sequential\nfrom tensorflow.keras.layers import Dense\nimport matplotlib.pyplot as plt\nimport hvplot.pandas as hvplot\n\n# Needed for decision tree visualization\nimport pydotplus\nfrom IPython.display import Image",
   "outputs": [],
   "execution_count": null
  },
  {
   "cell_type": "code",
   "metadata": {
    "tags": [],
    "cell_id": "00001-6c1514fa-1849-4a4f-88d8-b121f079835c",
    "deepnote_to_be_reexecuted": false,
    "source_hash": "8f8ceeb3",
    "execution_start": 1629241774571,
    "execution_millis": 84,
    "deepnote_cell_type": "code"
   },
   "source": "sq_aroon_df = pd.read_csv(Path('/work/Fintech-Project2/STRATEGY NOTEBOOKS/Daily Strategies/SQ DAILY AROON 25 TRADE STRATEGY.csv'), index_col = 'Date', infer_datetime_format= True)\ndaily_aroon = sq_aroon_df['aroon_signal'].to_frame()\ndaily_aroon.index = pd.to_datetime(daily_aroon.index, format = '%Y/%m/%d').strftime('%Y-%m-%d-%H:%M:%S')\ndaily_aroon.head()",
   "outputs": [
    {
     "output_type": "execute_result",
     "execution_count": 17,
     "data": {
      "application/vnd.deepnote.dataframe.v2+json": {
       "row_count": 5,
       "column_count": 1,
       "columns": [
        {
         "name": "aroon_signal",
         "dtype": "int64",
         "stats": {
          "unique_count": 1,
          "nan_count": 0,
          "min": "0",
          "max": "0",
          "histogram": [
           {
            "bin_start": -0.5,
            "bin_end": -0.4,
            "count": 0
           },
           {
            "bin_start": -0.4,
            "bin_end": -0.3,
            "count": 0
           },
           {
            "bin_start": -0.3,
            "bin_end": -0.19999999999999996,
            "count": 0
           },
           {
            "bin_start": -0.19999999999999996,
            "bin_end": -0.09999999999999998,
            "count": 0
           },
           {
            "bin_start": -0.09999999999999998,
            "bin_end": 0,
            "count": 0
           },
           {
            "bin_start": 0,
            "bin_end": 0.10000000000000009,
            "count": 5
           },
           {
            "bin_start": 0.10000000000000009,
            "bin_end": 0.20000000000000007,
            "count": 0
           },
           {
            "bin_start": 0.20000000000000007,
            "bin_end": 0.30000000000000004,
            "count": 0
           },
           {
            "bin_start": 0.30000000000000004,
            "bin_end": 0.4,
            "count": 0
           },
           {
            "bin_start": 0.4,
            "bin_end": 0.5,
            "count": 0
           }
          ]
         }
        },
        {
         "name": "_deepnote_index_column",
         "dtype": "object"
        }
       ],
       "rows_top": [
        {
         "aroon_signal": 0,
         "_deepnote_index_column": "2019-09-03-00:00:00"
        },
        {
         "aroon_signal": 0,
         "_deepnote_index_column": "2019-09-04-00:00:00"
        },
        {
         "aroon_signal": 0,
         "_deepnote_index_column": "2019-09-05-00:00:00"
        },
        {
         "aroon_signal": 0,
         "_deepnote_index_column": "2019-09-06-00:00:00"
        },
        {
         "aroon_signal": 0,
         "_deepnote_index_column": "2019-09-09-00:00:00"
        }
       ],
       "rows_bottom": null
      },
      "text/plain": "                     aroon_signal\nDate                             \n2019-09-03-00:00:00             0\n2019-09-04-00:00:00             0\n2019-09-05-00:00:00             0\n2019-09-06-00:00:00             0\n2019-09-09-00:00:00             0",
      "text/html": "<div>\n<style scoped>\n    .dataframe tbody tr th:only-of-type {\n        vertical-align: middle;\n    }\n\n    .dataframe tbody tr th {\n        vertical-align: top;\n    }\n\n    .dataframe thead th {\n        text-align: right;\n    }\n</style>\n<table border=\"1\" class=\"dataframe\">\n  <thead>\n    <tr style=\"text-align: right;\">\n      <th></th>\n      <th>aroon_signal</th>\n    </tr>\n    <tr>\n      <th>Date</th>\n      <th></th>\n    </tr>\n  </thead>\n  <tbody>\n    <tr>\n      <th>2019-09-03-00:00:00</th>\n      <td>0</td>\n    </tr>\n    <tr>\n      <th>2019-09-04-00:00:00</th>\n      <td>0</td>\n    </tr>\n    <tr>\n      <th>2019-09-05-00:00:00</th>\n      <td>0</td>\n    </tr>\n    <tr>\n      <th>2019-09-06-00:00:00</th>\n      <td>0</td>\n    </tr>\n    <tr>\n      <th>2019-09-09-00:00:00</th>\n      <td>0</td>\n    </tr>\n  </tbody>\n</table>\n</div>"
     },
     "metadata": {}
    }
   ],
   "execution_count": null
  },
  {
   "cell_type": "code",
   "metadata": {
    "tags": [],
    "cell_id": "00002-b147c2d5-39ef-4e27-af22-21352c740f67",
    "deepnote_to_be_reexecuted": false,
    "source_hash": "1bf6441f",
    "execution_start": 1629241775561,
    "execution_millis": 23,
    "deepnote_cell_type": "code"
   },
   "source": "sq_aroon_df = pd.read_csv(Path('/work/Fintech-Project2/STRATEGY NOTEBOOKS/Daily Strategies/SQ DAILY AROON 25 TRADE STRATEGY.csv'))\ndaily_aroon = sq_aroon_df[['Date','aroon_signal']]\ndaily_aroon[\"Date\"] = daily_aroon[\"Date\"].apply(lambda x : str(x) + ' 15:30:00')\ndaily_aroon.set_index('Date', inplace=True)\ndaily_aroon.head(1)",
   "outputs": [
    {
     "name": "stderr",
     "text": "/shared-libs/python3.7/py-core/lib/python3.7/site-packages/ipykernel_launcher.py:3: SettingWithCopyWarning: \nA value is trying to be set on a copy of a slice from a DataFrame.\nTry using .loc[row_indexer,col_indexer] = value instead\n\nSee the caveats in the documentation: https://pandas.pydata.org/pandas-docs/stable/user_guide/indexing.html#returning-a-view-versus-a-copy\n  This is separate from the ipykernel package so we can avoid doing imports until\n",
     "output_type": "stream"
    },
    {
     "output_type": "execute_result",
     "execution_count": 18,
     "data": {
      "application/vnd.deepnote.dataframe.v2+json": {
       "row_count": 1,
       "column_count": 1,
       "columns": [
        {
         "name": "aroon_signal",
         "dtype": "int64",
         "stats": {
          "unique_count": 1,
          "nan_count": 0,
          "min": "0",
          "max": "0",
          "histogram": [
           {
            "bin_start": -0.5,
            "bin_end": -0.4,
            "count": 0
           },
           {
            "bin_start": -0.4,
            "bin_end": -0.3,
            "count": 0
           },
           {
            "bin_start": -0.3,
            "bin_end": -0.19999999999999996,
            "count": 0
           },
           {
            "bin_start": -0.19999999999999996,
            "bin_end": -0.09999999999999998,
            "count": 0
           },
           {
            "bin_start": -0.09999999999999998,
            "bin_end": 0,
            "count": 0
           },
           {
            "bin_start": 0,
            "bin_end": 0.10000000000000009,
            "count": 1
           },
           {
            "bin_start": 0.10000000000000009,
            "bin_end": 0.20000000000000007,
            "count": 0
           },
           {
            "bin_start": 0.20000000000000007,
            "bin_end": 0.30000000000000004,
            "count": 0
           },
           {
            "bin_start": 0.30000000000000004,
            "bin_end": 0.4,
            "count": 0
           },
           {
            "bin_start": 0.4,
            "bin_end": 0.5,
            "count": 0
           }
          ]
         }
        },
        {
         "name": "_deepnote_index_column",
         "dtype": "object"
        }
       ],
       "rows_top": [
        {
         "aroon_signal": 0,
         "_deepnote_index_column": "2019-09-03 15:30:00"
        }
       ],
       "rows_bottom": null
      },
      "text/plain": "                     aroon_signal\nDate                             \n2019-09-03 15:30:00             0",
      "text/html": "<div>\n<style scoped>\n    .dataframe tbody tr th:only-of-type {\n        vertical-align: middle;\n    }\n\n    .dataframe tbody tr th {\n        vertical-align: top;\n    }\n\n    .dataframe thead th {\n        text-align: right;\n    }\n</style>\n<table border=\"1\" class=\"dataframe\">\n  <thead>\n    <tr style=\"text-align: right;\">\n      <th></th>\n      <th>aroon_signal</th>\n    </tr>\n    <tr>\n      <th>Date</th>\n      <th></th>\n    </tr>\n  </thead>\n  <tbody>\n    <tr>\n      <th>2019-09-03 15:30:00</th>\n      <td>0</td>\n    </tr>\n  </tbody>\n</table>\n</div>"
     },
     "metadata": {}
    }
   ],
   "execution_count": null
  },
  {
   "cell_type": "code",
   "metadata": {
    "tags": [],
    "cell_id": "00003-55f81366-dfbe-4dba-b13b-f384f49f39b3",
    "deepnote_to_be_reexecuted": false,
    "source_hash": "d880d6b5",
    "execution_start": 1629241776360,
    "execution_millis": 24,
    "deepnote_cell_type": "code"
   },
   "source": "sq_rsi_df = pd.read_csv('/work/Fintech-Project2/STRATEGY NOTEBOOKS/Daily Strategies/SQ DAILY RSI TRADE STRATEGY.csv')\ndaily_rsi = sq_rsi_df[['rsi_signal', 'Date']]\ndaily_rsi['Date'] = daily_rsi[\"Date\"].apply(lambda x : str(x) + ' 15:30:00')\ndaily_rsi.set_index('Date', inplace=True)\ndaily_rsi.head(1)",
   "outputs": [
    {
     "name": "stderr",
     "text": "/shared-libs/python3.7/py-core/lib/python3.7/site-packages/ipykernel_launcher.py:3: SettingWithCopyWarning: \nA value is trying to be set on a copy of a slice from a DataFrame.\nTry using .loc[row_indexer,col_indexer] = value instead\n\nSee the caveats in the documentation: https://pandas.pydata.org/pandas-docs/stable/user_guide/indexing.html#returning-a-view-versus-a-copy\n  This is separate from the ipykernel package so we can avoid doing imports until\n",
     "output_type": "stream"
    },
    {
     "output_type": "execute_result",
     "execution_count": 19,
     "data": {
      "application/vnd.deepnote.dataframe.v2+json": {
       "row_count": 1,
       "column_count": 1,
       "columns": [
        {
         "name": "rsi_signal",
         "dtype": "int64",
         "stats": {
          "unique_count": 1,
          "nan_count": 0,
          "min": "0",
          "max": "0",
          "histogram": [
           {
            "bin_start": -0.5,
            "bin_end": -0.4,
            "count": 0
           },
           {
            "bin_start": -0.4,
            "bin_end": -0.3,
            "count": 0
           },
           {
            "bin_start": -0.3,
            "bin_end": -0.19999999999999996,
            "count": 0
           },
           {
            "bin_start": -0.19999999999999996,
            "bin_end": -0.09999999999999998,
            "count": 0
           },
           {
            "bin_start": -0.09999999999999998,
            "bin_end": 0,
            "count": 0
           },
           {
            "bin_start": 0,
            "bin_end": 0.10000000000000009,
            "count": 1
           },
           {
            "bin_start": 0.10000000000000009,
            "bin_end": 0.20000000000000007,
            "count": 0
           },
           {
            "bin_start": 0.20000000000000007,
            "bin_end": 0.30000000000000004,
            "count": 0
           },
           {
            "bin_start": 0.30000000000000004,
            "bin_end": 0.4,
            "count": 0
           },
           {
            "bin_start": 0.4,
            "bin_end": 0.5,
            "count": 0
           }
          ]
         }
        },
        {
         "name": "_deepnote_index_column",
         "dtype": "object"
        }
       ],
       "rows_top": [
        {
         "rsi_signal": 0,
         "_deepnote_index_column": "2019-09-03 15:30:00"
        }
       ],
       "rows_bottom": null
      },
      "text/plain": "                     rsi_signal\nDate                           \n2019-09-03 15:30:00           0",
      "text/html": "<div>\n<style scoped>\n    .dataframe tbody tr th:only-of-type {\n        vertical-align: middle;\n    }\n\n    .dataframe tbody tr th {\n        vertical-align: top;\n    }\n\n    .dataframe thead th {\n        text-align: right;\n    }\n</style>\n<table border=\"1\" class=\"dataframe\">\n  <thead>\n    <tr style=\"text-align: right;\">\n      <th></th>\n      <th>rsi_signal</th>\n    </tr>\n    <tr>\n      <th>Date</th>\n      <th></th>\n    </tr>\n  </thead>\n  <tbody>\n    <tr>\n      <th>2019-09-03 15:30:00</th>\n      <td>0</td>\n    </tr>\n  </tbody>\n</table>\n</div>"
     },
     "metadata": {}
    }
   ],
   "execution_count": null
  },
  {
   "cell_type": "markdown",
   "source": "# sq_macd_df",
   "metadata": {
    "tags": [],
    "cell_id": "00004-5fb3e968-2c52-4f9c-ac33-46bb46a83423",
    "deepnote_cell_type": "markdown"
   }
  },
  {
   "cell_type": "code",
   "metadata": {
    "tags": [],
    "cell_id": "00002-683c56ab-6f4a-4a24-bd9f-305fc1d09a00",
    "deepnote_to_be_reexecuted": false,
    "source_hash": "850dfe14",
    "execution_start": 1629241778075,
    "execution_millis": 54,
    "deepnote_cell_type": "code"
   },
   "source": "sq_macd_df = pd.read_csv('/work/Fintech-Project2/TRADE_STRATS/SQ MACD TRADE STRATEGY.csv', infer_datetime_format = True, parse_dates=True)\nsq_macd_df[\"Date\"] = sq_macd_df[\"Unnamed: 0\"].apply(lambda x : x[:-6])\n#sq_macd_df['Date'] = sq_macd_df['Unnamed: 0'].apply(lambda x:parse(x))\nsq_macd_df.drop(\"Unnamed: 0\", axis=1, inplace = True)\nsq_macd_df.set_index('Date', inplace=True)\nsq_macd_df.head(1)",
   "outputs": [
    {
     "output_type": "execute_result",
     "execution_count": 20,
     "data": {
      "application/vnd.deepnote.dataframe.v2+json": {
       "row_count": 1,
       "column_count": 5,
       "columns": [
        {
         "name": "Close",
         "dtype": "float64",
         "stats": {
          "unique_count": 1,
          "nan_count": 0,
          "min": "62.959999084472656",
          "max": "62.959999084472656",
          "histogram": [
           {
            "bin_start": 62.459999084472656,
            "bin_end": 62.55999908447266,
            "count": 0
           },
           {
            "bin_start": 62.55999908447266,
            "bin_end": 62.65999908447266,
            "count": 0
           },
           {
            "bin_start": 62.65999908447266,
            "bin_end": 62.75999908447265,
            "count": 0
           },
           {
            "bin_start": 62.75999908447265,
            "bin_end": 62.859999084472655,
            "count": 0
           },
           {
            "bin_start": 62.859999084472655,
            "bin_end": 62.959999084472656,
            "count": 0
           },
           {
            "bin_start": 62.959999084472656,
            "bin_end": 63.05999908447266,
            "count": 1
           },
           {
            "bin_start": 63.05999908447266,
            "bin_end": 63.15999908447266,
            "count": 0
           },
           {
            "bin_start": 63.15999908447266,
            "bin_end": 63.25999908447265,
            "count": 0
           },
           {
            "bin_start": 63.25999908447265,
            "bin_end": 63.359999084472655,
            "count": 0
           },
           {
            "bin_start": 63.359999084472655,
            "bin_end": 63.459999084472656,
            "count": 0
           }
          ]
         }
        },
        {
         "name": "macd",
         "dtype": "float64",
         "stats": {
          "unique_count": 1,
          "nan_count": 0,
          "min": "0.0",
          "max": "0.0",
          "histogram": [
           {
            "bin_start": -0.5,
            "bin_end": -0.4,
            "count": 0
           },
           {
            "bin_start": -0.4,
            "bin_end": -0.3,
            "count": 0
           },
           {
            "bin_start": -0.3,
            "bin_end": -0.19999999999999996,
            "count": 0
           },
           {
            "bin_start": -0.19999999999999996,
            "bin_end": -0.09999999999999998,
            "count": 0
           },
           {
            "bin_start": -0.09999999999999998,
            "bin_end": 0,
            "count": 0
           },
           {
            "bin_start": 0,
            "bin_end": 0.10000000000000009,
            "count": 1
           },
           {
            "bin_start": 0.10000000000000009,
            "bin_end": 0.20000000000000007,
            "count": 0
           },
           {
            "bin_start": 0.20000000000000007,
            "bin_end": 0.30000000000000004,
            "count": 0
           },
           {
            "bin_start": 0.30000000000000004,
            "bin_end": 0.4,
            "count": 0
           },
           {
            "bin_start": 0.4,
            "bin_end": 0.5,
            "count": 0
           }
          ]
         }
        },
        {
         "name": "signal",
         "dtype": "float64",
         "stats": {
          "unique_count": 1,
          "nan_count": 0,
          "min": "0.0",
          "max": "0.0",
          "histogram": [
           {
            "bin_start": -0.5,
            "bin_end": -0.4,
            "count": 0
           },
           {
            "bin_start": -0.4,
            "bin_end": -0.3,
            "count": 0
           },
           {
            "bin_start": -0.3,
            "bin_end": -0.19999999999999996,
            "count": 0
           },
           {
            "bin_start": -0.19999999999999996,
            "bin_end": -0.09999999999999998,
            "count": 0
           },
           {
            "bin_start": -0.09999999999999998,
            "bin_end": 0,
            "count": 0
           },
           {
            "bin_start": 0,
            "bin_end": 0.10000000000000009,
            "count": 1
           },
           {
            "bin_start": 0.10000000000000009,
            "bin_end": 0.20000000000000007,
            "count": 0
           },
           {
            "bin_start": 0.20000000000000007,
            "bin_end": 0.30000000000000004,
            "count": 0
           },
           {
            "bin_start": 0.30000000000000004,
            "bin_end": 0.4,
            "count": 0
           },
           {
            "bin_start": 0.4,
            "bin_end": 0.5,
            "count": 0
           }
          ]
         }
        },
        {
         "name": "macd_signal",
         "dtype": "int64",
         "stats": {
          "unique_count": 1,
          "nan_count": 0,
          "min": "0",
          "max": "0",
          "histogram": [
           {
            "bin_start": -0.5,
            "bin_end": -0.4,
            "count": 0
           },
           {
            "bin_start": -0.4,
            "bin_end": -0.3,
            "count": 0
           },
           {
            "bin_start": -0.3,
            "bin_end": -0.19999999999999996,
            "count": 0
           },
           {
            "bin_start": -0.19999999999999996,
            "bin_end": -0.09999999999999998,
            "count": 0
           },
           {
            "bin_start": -0.09999999999999998,
            "bin_end": 0,
            "count": 0
           },
           {
            "bin_start": 0,
            "bin_end": 0.10000000000000009,
            "count": 1
           },
           {
            "bin_start": 0.10000000000000009,
            "bin_end": 0.20000000000000007,
            "count": 0
           },
           {
            "bin_start": 0.20000000000000007,
            "bin_end": 0.30000000000000004,
            "count": 0
           },
           {
            "bin_start": 0.30000000000000004,
            "bin_end": 0.4,
            "count": 0
           },
           {
            "bin_start": 0.4,
            "bin_end": 0.5,
            "count": 0
           }
          ]
         }
        },
        {
         "name": "macd_position",
         "dtype": "int64",
         "stats": {
          "unique_count": 1,
          "nan_count": 0,
          "min": "1",
          "max": "1",
          "histogram": [
           {
            "bin_start": 0.5,
            "bin_end": 0.6,
            "count": 0
           },
           {
            "bin_start": 0.6,
            "bin_end": 0.7,
            "count": 0
           },
           {
            "bin_start": 0.7,
            "bin_end": 0.8,
            "count": 0
           },
           {
            "bin_start": 0.8,
            "bin_end": 0.9,
            "count": 0
           },
           {
            "bin_start": 0.9,
            "bin_end": 1,
            "count": 0
           },
           {
            "bin_start": 1,
            "bin_end": 1.1,
            "count": 1
           },
           {
            "bin_start": 1.1,
            "bin_end": 1.2000000000000002,
            "count": 0
           },
           {
            "bin_start": 1.2000000000000002,
            "bin_end": 1.3,
            "count": 0
           },
           {
            "bin_start": 1.3,
            "bin_end": 1.4,
            "count": 0
           },
           {
            "bin_start": 1.4,
            "bin_end": 1.5,
            "count": 0
           }
          ]
         }
        },
        {
         "name": "_deepnote_index_column",
         "dtype": "object"
        }
       ],
       "rows_top": [
        {
         "Close": 62.959999084472656,
         "macd": 0,
         "signal": 0,
         "macd_signal": 0,
         "macd_position": 1,
         "_deepnote_index_column": "2019-09-03 09:30:00"
        }
       ],
       "rows_bottom": null
      },
      "text/plain": "                         Close  macd  signal  macd_signal  macd_position\nDate                                                                    \n2019-09-03 09:30:00  62.959999   0.0     0.0            0              1",
      "text/html": "<div>\n<style scoped>\n    .dataframe tbody tr th:only-of-type {\n        vertical-align: middle;\n    }\n\n    .dataframe tbody tr th {\n        vertical-align: top;\n    }\n\n    .dataframe thead th {\n        text-align: right;\n    }\n</style>\n<table border=\"1\" class=\"dataframe\">\n  <thead>\n    <tr style=\"text-align: right;\">\n      <th></th>\n      <th>Close</th>\n      <th>macd</th>\n      <th>signal</th>\n      <th>macd_signal</th>\n      <th>macd_position</th>\n    </tr>\n    <tr>\n      <th>Date</th>\n      <th></th>\n      <th></th>\n      <th></th>\n      <th></th>\n      <th></th>\n    </tr>\n  </thead>\n  <tbody>\n    <tr>\n      <th>2019-09-03 09:30:00</th>\n      <td>62.959999</td>\n      <td>0.0</td>\n      <td>0.0</td>\n      <td>0</td>\n      <td>1</td>\n    </tr>\n  </tbody>\n</table>\n</div>"
     },
     "metadata": {}
    }
   ],
   "execution_count": null
  },
  {
   "cell_type": "code",
   "metadata": {
    "tags": [],
    "cell_id": "00006-37477a63-3bba-4727-be7a-f38fbe320160",
    "deepnote_to_be_reexecuted": false,
    "source_hash": "305e02bc",
    "allow_embed": false,
    "execution_start": 1629241779354,
    "execution_millis": 0,
    "deepnote_cell_type": "code"
   },
   "source": "# # TINKERING\n\n# sq_macd_df = pd.read_csv('/work/Fintech-Project2/TRADE_STRATS/SQ MACD TRADE STRATEGY.csv', infer_datetime_format = True, parse_dates=True)\n# sq_macd_df[\"Date\"] = sq_macd_df[\"Unnamed: 0\"].apply(lambda x : x[:-6])\n# sq_macd_df['Date'] = sq_macd_df['Unnamed: 0'].apply(lambda x:parse(x))\n# sq_macd_df.drop(\"Unnamed: 0\", axis=1, inplace = True)\n\n# sq_macd_df.head(1)",
   "outputs": [],
   "execution_count": null
  },
  {
   "cell_type": "code",
   "metadata": {
    "tags": [],
    "cell_id": "00007-06eae5a6-36dd-44e9-a047-c2de14de1e2d",
    "deepnote_to_be_reexecuted": false,
    "source_hash": "c2e7d580",
    "execution_start": 1629241780555,
    "execution_millis": 2,
    "deepnote_cell_type": "code"
   },
   "source": "# sq_macd_df['Datetime'] = sq_macd_df['Date']\n# sq_macd_df.head()",
   "outputs": [],
   "execution_count": null
  },
  {
   "cell_type": "code",
   "metadata": {
    "tags": [],
    "cell_id": "00005-e71a58ba-3443-4da7-923d-0b3be51bd839",
    "deepnote_to_be_reexecuted": false,
    "source_hash": "fa1a1b85",
    "execution_start": 1629241780996,
    "execution_millis": 1,
    "deepnote_cell_type": "code"
   },
   "source": "# sq_macd_df.set_index('Date', inplace=True)\n# sq_macd_df.index",
   "outputs": [],
   "execution_count": null
  },
  {
   "cell_type": "code",
   "metadata": {
    "tags": [],
    "cell_id": "00009-3d81eb39-9205-4ea6-acc6-a11b9b622a13",
    "deepnote_to_be_reexecuted": false,
    "source_hash": "606e96f0",
    "execution_start": 1629241782165,
    "execution_millis": 0,
    "deepnote_cell_type": "code"
   },
   "source": "# sq_macd_df['Datetime'] = pd.to_datetime(sq_macd_df['Datetime'], utc = True)\nsq_macd_df.index = pd.to_datetime(sq_macd_df.index, format = '%Y/%m/%d').strftime('%Y-%m-%d-%H:%M:%S')",
   "outputs": [],
   "execution_count": null
  },
  {
   "cell_type": "code",
   "metadata": {
    "tags": [],
    "cell_id": "00003-b4b21571-babf-445e-85be-8448ae15fe6a",
    "deepnote_to_be_reexecuted": false,
    "source_hash": "385dc983",
    "allow_embed": false,
    "execution_start": 1629241783208,
    "execution_millis": 21,
    "deepnote_cell_type": "code"
   },
   "source": "hourly = sq_macd_df.groupby([sq_macd_df.index.dt.year, sq_macd_df.index.dt.hour]).mean()\nhourly.head()\n",
   "outputs": [
    {
     "output_type": "error",
     "ename": "AttributeError",
     "evalue": "'Index' object has no attribute 'dt'",
     "traceback": [
      "\u001b[0;31m---------------------------------------------------------------------------\u001b[0m",
      "\u001b[0;31mAttributeError\u001b[0m                            Traceback (most recent call last)",
      "\u001b[0;32m/tmp/ipykernel_2233/3201959074.py\u001b[0m in \u001b[0;36m<module>\u001b[0;34m\u001b[0m\n\u001b[0;32m----> 1\u001b[0;31m \u001b[0mhourly\u001b[0m \u001b[0;34m=\u001b[0m \u001b[0msq_macd_df\u001b[0m\u001b[0;34m.\u001b[0m\u001b[0mgroupby\u001b[0m\u001b[0;34m(\u001b[0m\u001b[0;34m[\u001b[0m\u001b[0msq_macd_df\u001b[0m\u001b[0;34m.\u001b[0m\u001b[0mindex\u001b[0m\u001b[0;34m.\u001b[0m\u001b[0mdt\u001b[0m\u001b[0;34m.\u001b[0m\u001b[0myear\u001b[0m\u001b[0;34m,\u001b[0m \u001b[0msq_macd_df\u001b[0m\u001b[0;34m.\u001b[0m\u001b[0mindex\u001b[0m\u001b[0;34m.\u001b[0m\u001b[0mdt\u001b[0m\u001b[0;34m.\u001b[0m\u001b[0mhour\u001b[0m\u001b[0;34m]\u001b[0m\u001b[0;34m)\u001b[0m\u001b[0;34m.\u001b[0m\u001b[0mmean\u001b[0m\u001b[0;34m(\u001b[0m\u001b[0;34m)\u001b[0m\u001b[0;34m\u001b[0m\u001b[0;34m\u001b[0m\u001b[0m\n\u001b[0m\u001b[1;32m      2\u001b[0m \u001b[0mhourly\u001b[0m\u001b[0;34m.\u001b[0m\u001b[0mhead\u001b[0m\u001b[0;34m(\u001b[0m\u001b[0;34m)\u001b[0m\u001b[0;34m\u001b[0m\u001b[0;34m\u001b[0m\u001b[0m\n",
      "\u001b[0;31mAttributeError\u001b[0m: 'Index' object has no attribute 'dt'"
     ]
    }
   ],
   "execution_count": null
  },
  {
   "cell_type": "code",
   "metadata": {
    "tags": [],
    "cell_id": "00009-d8e7c330-4302-4ae7-95b1-2703a791f423",
    "deepnote_to_be_reexecuted": false,
    "source_hash": "b0518b08",
    "execution_start": 1629241784485,
    "execution_millis": 107,
    "deepnote_cell_type": "code"
   },
   "source": "sq_macd_df[\"Year\"] = sq_macd_df[\"Date\"].apply(lambda x : x.year)\nsq_macd_df[\"Month\"] = sq_macd_df[\"Date\"].apply(lambda x : x.month)\nsq_macd_df[\"Day\"] = sq_macd_df[\"Date\"].apply(lambda x : x.day)\nsq_macd_df[\"Hour\"] = sq_macd_df[\"Date\"].apply(lambda x : x.hour)\nsq_macd_df[\"Minute\"] = sq_macd_df[\"Date\"].apply(lambda x : x.minute)\nhourly = sq_macd_df.groupby([sq_macd_df[\"Year\"], sq_macd_df[\"Month\"], sq_macd_df[\"Day\"], sq_macd_df[\"Hour\"]]).mean()\nhourly.drop('Minute', 1, inplace=True)\n",
   "outputs": [
    {
     "output_type": "error",
     "ename": "KeyError",
     "evalue": "'Date'",
     "traceback": [
      "\u001b[0;31m---------------------------------------------------------------------------\u001b[0m",
      "\u001b[0;31mKeyError\u001b[0m                                  Traceback (most recent call last)",
      "\u001b[0;32m/shared-libs/python3.7/py/lib/python3.7/site-packages/pandas/core/indexes/base.py\u001b[0m in \u001b[0;36mget_loc\u001b[0;34m(self, key, method, tolerance)\u001b[0m\n\u001b[1;32m   3080\u001b[0m             \u001b[0;32mtry\u001b[0m\u001b[0;34m:\u001b[0m\u001b[0;34m\u001b[0m\u001b[0;34m\u001b[0m\u001b[0m\n\u001b[0;32m-> 3081\u001b[0;31m                 \u001b[0;32mreturn\u001b[0m \u001b[0mself\u001b[0m\u001b[0;34m.\u001b[0m\u001b[0m_engine\u001b[0m\u001b[0;34m.\u001b[0m\u001b[0mget_loc\u001b[0m\u001b[0;34m(\u001b[0m\u001b[0mcasted_key\u001b[0m\u001b[0;34m)\u001b[0m\u001b[0;34m\u001b[0m\u001b[0;34m\u001b[0m\u001b[0m\n\u001b[0m\u001b[1;32m   3082\u001b[0m             \u001b[0;32mexcept\u001b[0m \u001b[0mKeyError\u001b[0m \u001b[0;32mas\u001b[0m \u001b[0merr\u001b[0m\u001b[0;34m:\u001b[0m\u001b[0;34m\u001b[0m\u001b[0;34m\u001b[0m\u001b[0m\n",
      "\u001b[0;32mpandas/_libs/index.pyx\u001b[0m in \u001b[0;36mpandas._libs.index.IndexEngine.get_loc\u001b[0;34m()\u001b[0m\n",
      "\u001b[0;32mpandas/_libs/index.pyx\u001b[0m in \u001b[0;36mpandas._libs.index.IndexEngine.get_loc\u001b[0;34m()\u001b[0m\n",
      "\u001b[0;32mpandas/_libs/hashtable_class_helper.pxi\u001b[0m in \u001b[0;36mpandas._libs.hashtable.PyObjectHashTable.get_item\u001b[0;34m()\u001b[0m\n",
      "\u001b[0;32mpandas/_libs/hashtable_class_helper.pxi\u001b[0m in \u001b[0;36mpandas._libs.hashtable.PyObjectHashTable.get_item\u001b[0;34m()\u001b[0m\n",
      "\u001b[0;31mKeyError\u001b[0m: 'Date'",
      "\nThe above exception was the direct cause of the following exception:\n",
      "\u001b[0;31mKeyError\u001b[0m                                  Traceback (most recent call last)",
      "\u001b[0;32m/tmp/ipykernel_2233/2936503439.py\u001b[0m in \u001b[0;36m<module>\u001b[0;34m\u001b[0m\n\u001b[0;32m----> 1\u001b[0;31m \u001b[0msq_macd_df\u001b[0m\u001b[0;34m[\u001b[0m\u001b[0;34m\"Year\"\u001b[0m\u001b[0;34m]\u001b[0m \u001b[0;34m=\u001b[0m \u001b[0msq_macd_df\u001b[0m\u001b[0;34m[\u001b[0m\u001b[0;34m\"Date\"\u001b[0m\u001b[0;34m]\u001b[0m\u001b[0;34m.\u001b[0m\u001b[0mapply\u001b[0m\u001b[0;34m(\u001b[0m\u001b[0;32mlambda\u001b[0m \u001b[0mx\u001b[0m \u001b[0;34m:\u001b[0m \u001b[0mx\u001b[0m\u001b[0;34m.\u001b[0m\u001b[0myear\u001b[0m\u001b[0;34m)\u001b[0m\u001b[0;34m\u001b[0m\u001b[0;34m\u001b[0m\u001b[0m\n\u001b[0m\u001b[1;32m      2\u001b[0m \u001b[0msq_macd_df\u001b[0m\u001b[0;34m[\u001b[0m\u001b[0;34m\"Month\"\u001b[0m\u001b[0;34m]\u001b[0m \u001b[0;34m=\u001b[0m \u001b[0msq_macd_df\u001b[0m\u001b[0;34m[\u001b[0m\u001b[0;34m\"Date\"\u001b[0m\u001b[0;34m]\u001b[0m\u001b[0;34m.\u001b[0m\u001b[0mapply\u001b[0m\u001b[0;34m(\u001b[0m\u001b[0;32mlambda\u001b[0m \u001b[0mx\u001b[0m \u001b[0;34m:\u001b[0m \u001b[0mx\u001b[0m\u001b[0;34m.\u001b[0m\u001b[0mmonth\u001b[0m\u001b[0;34m)\u001b[0m\u001b[0;34m\u001b[0m\u001b[0;34m\u001b[0m\u001b[0m\n\u001b[1;32m      3\u001b[0m \u001b[0msq_macd_df\u001b[0m\u001b[0;34m[\u001b[0m\u001b[0;34m\"Day\"\u001b[0m\u001b[0;34m]\u001b[0m \u001b[0;34m=\u001b[0m \u001b[0msq_macd_df\u001b[0m\u001b[0;34m[\u001b[0m\u001b[0;34m\"Date\"\u001b[0m\u001b[0;34m]\u001b[0m\u001b[0;34m.\u001b[0m\u001b[0mapply\u001b[0m\u001b[0;34m(\u001b[0m\u001b[0;32mlambda\u001b[0m \u001b[0mx\u001b[0m \u001b[0;34m:\u001b[0m \u001b[0mx\u001b[0m\u001b[0;34m.\u001b[0m\u001b[0mday\u001b[0m\u001b[0;34m)\u001b[0m\u001b[0;34m\u001b[0m\u001b[0;34m\u001b[0m\u001b[0m\n\u001b[1;32m      4\u001b[0m \u001b[0msq_macd_df\u001b[0m\u001b[0;34m[\u001b[0m\u001b[0;34m\"Hour\"\u001b[0m\u001b[0;34m]\u001b[0m \u001b[0;34m=\u001b[0m \u001b[0msq_macd_df\u001b[0m\u001b[0;34m[\u001b[0m\u001b[0;34m\"Date\"\u001b[0m\u001b[0;34m]\u001b[0m\u001b[0;34m.\u001b[0m\u001b[0mapply\u001b[0m\u001b[0;34m(\u001b[0m\u001b[0;32mlambda\u001b[0m \u001b[0mx\u001b[0m \u001b[0;34m:\u001b[0m \u001b[0mx\u001b[0m\u001b[0;34m.\u001b[0m\u001b[0mhour\u001b[0m\u001b[0;34m)\u001b[0m\u001b[0;34m\u001b[0m\u001b[0;34m\u001b[0m\u001b[0m\n\u001b[1;32m      5\u001b[0m \u001b[0msq_macd_df\u001b[0m\u001b[0;34m[\u001b[0m\u001b[0;34m\"Minute\"\u001b[0m\u001b[0;34m]\u001b[0m \u001b[0;34m=\u001b[0m \u001b[0msq_macd_df\u001b[0m\u001b[0;34m[\u001b[0m\u001b[0;34m\"Date\"\u001b[0m\u001b[0;34m]\u001b[0m\u001b[0;34m.\u001b[0m\u001b[0mapply\u001b[0m\u001b[0;34m(\u001b[0m\u001b[0;32mlambda\u001b[0m \u001b[0mx\u001b[0m \u001b[0;34m:\u001b[0m \u001b[0mx\u001b[0m\u001b[0;34m.\u001b[0m\u001b[0mminute\u001b[0m\u001b[0;34m)\u001b[0m\u001b[0;34m\u001b[0m\u001b[0;34m\u001b[0m\u001b[0m\n",
      "\u001b[0;32m/shared-libs/python3.7/py/lib/python3.7/site-packages/pandas/core/frame.py\u001b[0m in \u001b[0;36m__getitem__\u001b[0;34m(self, key)\u001b[0m\n\u001b[1;32m   3022\u001b[0m             \u001b[0;32mif\u001b[0m \u001b[0mself\u001b[0m\u001b[0;34m.\u001b[0m\u001b[0mcolumns\u001b[0m\u001b[0;34m.\u001b[0m\u001b[0mnlevels\u001b[0m \u001b[0;34m>\u001b[0m \u001b[0;36m1\u001b[0m\u001b[0;34m:\u001b[0m\u001b[0;34m\u001b[0m\u001b[0;34m\u001b[0m\u001b[0m\n\u001b[1;32m   3023\u001b[0m                 \u001b[0;32mreturn\u001b[0m \u001b[0mself\u001b[0m\u001b[0;34m.\u001b[0m\u001b[0m_getitem_multilevel\u001b[0m\u001b[0;34m(\u001b[0m\u001b[0mkey\u001b[0m\u001b[0;34m)\u001b[0m\u001b[0;34m\u001b[0m\u001b[0;34m\u001b[0m\u001b[0m\n\u001b[0;32m-> 3024\u001b[0;31m             \u001b[0mindexer\u001b[0m \u001b[0;34m=\u001b[0m \u001b[0mself\u001b[0m\u001b[0;34m.\u001b[0m\u001b[0mcolumns\u001b[0m\u001b[0;34m.\u001b[0m\u001b[0mget_loc\u001b[0m\u001b[0;34m(\u001b[0m\u001b[0mkey\u001b[0m\u001b[0;34m)\u001b[0m\u001b[0;34m\u001b[0m\u001b[0;34m\u001b[0m\u001b[0m\n\u001b[0m\u001b[1;32m   3025\u001b[0m             \u001b[0;32mif\u001b[0m \u001b[0mis_integer\u001b[0m\u001b[0;34m(\u001b[0m\u001b[0mindexer\u001b[0m\u001b[0;34m)\u001b[0m\u001b[0;34m:\u001b[0m\u001b[0;34m\u001b[0m\u001b[0;34m\u001b[0m\u001b[0m\n\u001b[1;32m   3026\u001b[0m                 \u001b[0mindexer\u001b[0m \u001b[0;34m=\u001b[0m \u001b[0;34m[\u001b[0m\u001b[0mindexer\u001b[0m\u001b[0;34m]\u001b[0m\u001b[0;34m\u001b[0m\u001b[0;34m\u001b[0m\u001b[0m\n",
      "\u001b[0;32m/shared-libs/python3.7/py/lib/python3.7/site-packages/pandas/core/indexes/base.py\u001b[0m in \u001b[0;36mget_loc\u001b[0;34m(self, key, method, tolerance)\u001b[0m\n\u001b[1;32m   3081\u001b[0m                 \u001b[0;32mreturn\u001b[0m \u001b[0mself\u001b[0m\u001b[0;34m.\u001b[0m\u001b[0m_engine\u001b[0m\u001b[0;34m.\u001b[0m\u001b[0mget_loc\u001b[0m\u001b[0;34m(\u001b[0m\u001b[0mcasted_key\u001b[0m\u001b[0;34m)\u001b[0m\u001b[0;34m\u001b[0m\u001b[0;34m\u001b[0m\u001b[0m\n\u001b[1;32m   3082\u001b[0m             \u001b[0;32mexcept\u001b[0m \u001b[0mKeyError\u001b[0m \u001b[0;32mas\u001b[0m \u001b[0merr\u001b[0m\u001b[0;34m:\u001b[0m\u001b[0;34m\u001b[0m\u001b[0;34m\u001b[0m\u001b[0m\n\u001b[0;32m-> 3083\u001b[0;31m                 \u001b[0;32mraise\u001b[0m \u001b[0mKeyError\u001b[0m\u001b[0;34m(\u001b[0m\u001b[0mkey\u001b[0m\u001b[0;34m)\u001b[0m \u001b[0;32mfrom\u001b[0m \u001b[0merr\u001b[0m\u001b[0;34m\u001b[0m\u001b[0;34m\u001b[0m\u001b[0m\n\u001b[0m\u001b[1;32m   3084\u001b[0m \u001b[0;34m\u001b[0m\u001b[0m\n\u001b[1;32m   3085\u001b[0m         \u001b[0;32mif\u001b[0m \u001b[0mtolerance\u001b[0m \u001b[0;32mis\u001b[0m \u001b[0;32mnot\u001b[0m \u001b[0;32mNone\u001b[0m\u001b[0;34m:\u001b[0m\u001b[0;34m\u001b[0m\u001b[0;34m\u001b[0m\u001b[0m\n",
      "\u001b[0;31mKeyError\u001b[0m: 'Date'"
     ]
    }
   ],
   "execution_count": null
  },
  {
   "cell_type": "code",
   "metadata": {
    "tags": [],
    "cell_id": "00012-4ebf5670-196e-4c93-9451-732185c5c0d8",
    "allow_embed": false,
    "deepnote_to_be_reexecuted": false,
    "source_hash": "a9757329",
    "execution_start": 1629241785162,
    "execution_millis": 1,
    "deepnote_cell_type": "code"
   },
   "source": "# # TINKERING\n\n# sq_macd_df[\"Year\"] = sq_macd_df[\"Datetime\"].apply(lambda x : x.year)\n# sq_macd_df[\"Month\"] = sq_macd_df[\"Datetime\"].apply(lambda x : x.month)\n# sq_macd_df[\"Day\"] = sq_macd_df[\"Datetime\"].apply(lambda x : x.day)\n# sq_macd_df[\"Hour\"] = sq_macd_df[\"Datetime\"].apply(lambda x : x.hour)\n# sq_macd_df[\"Minute\"] = sq_macd_df[\"Datetime\"].apply(lambda x : x.minute)\n# hourly = sq_macd_df.groupby([sq_macd_df[\"Year\"], sq_macd_df[\"Month\"], sq_macd_df[\"Day\"], sq_macd_df[\"Hour\"]]).mean()\n# hourly.drop('Minute', 1, inplace=True)\n\n\n",
   "outputs": [],
   "execution_count": null
  },
  {
   "cell_type": "code",
   "metadata": {
    "tags": [],
    "cell_id": "00013-828f3d8f-6cda-48b0-b329-a1a1dfd5b500",
    "deepnote_to_be_reexecuted": false,
    "source_hash": "b623e53d",
    "execution_start": 1629241788298,
    "execution_millis": 1,
    "deepnote_cell_type": "code"
   },
   "source": "",
   "outputs": [],
   "execution_count": null
  },
  {
   "cell_type": "code",
   "metadata": {
    "tags": [],
    "cell_id": "00013-bc775438-72c4-419a-b6af-a47a67d2cc13",
    "deepnote_to_be_reexecuted": false,
    "source_hash": "b42141a0",
    "execution_start": 1629241789146,
    "execution_millis": 14,
    "deepnote_cell_type": "code"
   },
   "source": "hourly",
   "outputs": [
    {
     "output_type": "error",
     "ename": "NameError",
     "evalue": "name 'hourly' is not defined",
     "traceback": [
      "\u001b[0;31m---------------------------------------------------------------------------\u001b[0m",
      "\u001b[0;31mNameError\u001b[0m                                 Traceback (most recent call last)",
      "\u001b[0;32m/tmp/ipykernel_2233/3855685989.py\u001b[0m in \u001b[0;36m<module>\u001b[0;34m\u001b[0m\n\u001b[0;32m----> 1\u001b[0;31m \u001b[0mhourly\u001b[0m\u001b[0;34m\u001b[0m\u001b[0;34m\u001b[0m\u001b[0m\n\u001b[0m",
      "\u001b[0;31mNameError\u001b[0m: name 'hourly' is not defined"
     ]
    }
   ],
   "execution_count": null
  },
  {
   "cell_type": "code",
   "metadata": {
    "tags": [],
    "cell_id": "00004-139e454f-365f-4d36-8a84-a5ede8a2d70a",
    "deepnote_to_be_reexecuted": false,
    "source_hash": "eeec79d6",
    "allow_embed": false,
    "execution_start": 1629241792037,
    "execution_millis": 7,
    "deepnote_cell_type": "code"
   },
   "source": "import datetime \nnew_hourly = hourly.reset_index()\nnew_hourly['Date'] = new_hourly['Year'].astype(str) + '-' + new_hourly['Month'].astype(str) + '-' + new_hourly['Day'].astype(str) + ' ' + new_hourly['Hour'].astype(str)\nnew_hourly.index = new_hourly['Date']\nnew_hourly.drop(['Year', 'Month', 'Day', 'Hour', 'Date'], 1, inplace=True)\nnew_hourly.head()\n",
   "outputs": [
    {
     "output_type": "error",
     "ename": "NameError",
     "evalue": "name 'hourly' is not defined",
     "traceback": [
      "\u001b[0;31m---------------------------------------------------------------------------\u001b[0m",
      "\u001b[0;31mNameError\u001b[0m                                 Traceback (most recent call last)",
      "\u001b[0;32m/tmp/ipykernel_2233/3502337078.py\u001b[0m in \u001b[0;36m<module>\u001b[0;34m\u001b[0m\n\u001b[1;32m      1\u001b[0m \u001b[0;32mimport\u001b[0m \u001b[0mdatetime\u001b[0m\u001b[0;34m\u001b[0m\u001b[0;34m\u001b[0m\u001b[0m\n\u001b[0;32m----> 2\u001b[0;31m \u001b[0mnew_hourly\u001b[0m \u001b[0;34m=\u001b[0m \u001b[0mhourly\u001b[0m\u001b[0;34m.\u001b[0m\u001b[0mreset_index\u001b[0m\u001b[0;34m(\u001b[0m\u001b[0;34m)\u001b[0m\u001b[0;34m\u001b[0m\u001b[0;34m\u001b[0m\u001b[0m\n\u001b[0m\u001b[1;32m      3\u001b[0m \u001b[0mnew_hourly\u001b[0m\u001b[0;34m[\u001b[0m\u001b[0;34m'Date'\u001b[0m\u001b[0;34m]\u001b[0m \u001b[0;34m=\u001b[0m \u001b[0mnew_hourly\u001b[0m\u001b[0;34m[\u001b[0m\u001b[0;34m'Year'\u001b[0m\u001b[0;34m]\u001b[0m\u001b[0;34m.\u001b[0m\u001b[0mastype\u001b[0m\u001b[0;34m(\u001b[0m\u001b[0mstr\u001b[0m\u001b[0;34m)\u001b[0m \u001b[0;34m+\u001b[0m \u001b[0;34m'-'\u001b[0m \u001b[0;34m+\u001b[0m \u001b[0mnew_hourly\u001b[0m\u001b[0;34m[\u001b[0m\u001b[0;34m'Month'\u001b[0m\u001b[0;34m]\u001b[0m\u001b[0;34m.\u001b[0m\u001b[0mastype\u001b[0m\u001b[0;34m(\u001b[0m\u001b[0mstr\u001b[0m\u001b[0;34m)\u001b[0m \u001b[0;34m+\u001b[0m \u001b[0;34m'-'\u001b[0m \u001b[0;34m+\u001b[0m \u001b[0mnew_hourly\u001b[0m\u001b[0;34m[\u001b[0m\u001b[0;34m'Day'\u001b[0m\u001b[0;34m]\u001b[0m\u001b[0;34m.\u001b[0m\u001b[0mastype\u001b[0m\u001b[0;34m(\u001b[0m\u001b[0mstr\u001b[0m\u001b[0;34m)\u001b[0m \u001b[0;34m+\u001b[0m \u001b[0;34m' '\u001b[0m \u001b[0;34m+\u001b[0m \u001b[0mnew_hourly\u001b[0m\u001b[0;34m[\u001b[0m\u001b[0;34m'Hour'\u001b[0m\u001b[0;34m]\u001b[0m\u001b[0;34m.\u001b[0m\u001b[0mastype\u001b[0m\u001b[0;34m(\u001b[0m\u001b[0mstr\u001b[0m\u001b[0;34m)\u001b[0m\u001b[0;34m\u001b[0m\u001b[0;34m\u001b[0m\u001b[0m\n\u001b[1;32m      4\u001b[0m \u001b[0mnew_hourly\u001b[0m\u001b[0;34m.\u001b[0m\u001b[0mindex\u001b[0m \u001b[0;34m=\u001b[0m \u001b[0mnew_hourly\u001b[0m\u001b[0;34m[\u001b[0m\u001b[0;34m'Date'\u001b[0m\u001b[0;34m]\u001b[0m\u001b[0;34m\u001b[0m\u001b[0;34m\u001b[0m\u001b[0m\n\u001b[1;32m      5\u001b[0m \u001b[0mnew_hourly\u001b[0m\u001b[0;34m.\u001b[0m\u001b[0mdrop\u001b[0m\u001b[0;34m(\u001b[0m\u001b[0;34m[\u001b[0m\u001b[0;34m'Year'\u001b[0m\u001b[0;34m,\u001b[0m \u001b[0;34m'Month'\u001b[0m\u001b[0;34m,\u001b[0m \u001b[0;34m'Day'\u001b[0m\u001b[0;34m,\u001b[0m \u001b[0;34m'Hour'\u001b[0m\u001b[0;34m,\u001b[0m \u001b[0;34m'Date'\u001b[0m\u001b[0;34m]\u001b[0m\u001b[0;34m,\u001b[0m \u001b[0;36m1\u001b[0m\u001b[0;34m,\u001b[0m \u001b[0minplace\u001b[0m\u001b[0;34m=\u001b[0m\u001b[0;32mTrue\u001b[0m\u001b[0;34m)\u001b[0m\u001b[0;34m\u001b[0m\u001b[0;34m\u001b[0m\u001b[0m\n",
      "\u001b[0;31mNameError\u001b[0m: name 'hourly' is not defined"
     ]
    }
   ],
   "execution_count": null
  },
  {
   "cell_type": "code",
   "metadata": {
    "tags": [],
    "cell_id": "00004-4c498265-ed35-4f97-96fa-350b5792542a",
    "deepnote_to_be_reexecuted": false,
    "source_hash": "1da3c87f",
    "execution_start": 1629241792700,
    "execution_millis": 17,
    "deepnote_cell_type": "code"
   },
   "source": "sq_rsi_df = pd.read_csv('/work/Fintech-Project2/STRATEGY NOTEBOOKS/Daily Strategies/SQ DAILY RSI TRADE STRATEGY.csv', infer_datetime_format= True, index_col= 'Date')\ndaily_rsi = sq_rsi_df['rsi_signal'].to_frame()\ndaily_rsi.index = pd.to_datetime(daily_rsi.index, format = '%Y/%m/%d').strftime('%Y-%m-%d-%H:%M:%S')\ndaily_rsi.tail()",
   "outputs": [
    {
     "output_type": "execute_result",
     "execution_count": 30,
     "data": {
      "application/vnd.deepnote.dataframe.v2+json": {
       "row_count": 5,
       "column_count": 1,
       "columns": [
        {
         "name": "rsi_signal",
         "dtype": "int64",
         "stats": {
          "unique_count": 1,
          "nan_count": 0,
          "min": "0",
          "max": "0",
          "histogram": [
           {
            "bin_start": -0.5,
            "bin_end": -0.4,
            "count": 0
           },
           {
            "bin_start": -0.4,
            "bin_end": -0.3,
            "count": 0
           },
           {
            "bin_start": -0.3,
            "bin_end": -0.19999999999999996,
            "count": 0
           },
           {
            "bin_start": -0.19999999999999996,
            "bin_end": -0.09999999999999998,
            "count": 0
           },
           {
            "bin_start": -0.09999999999999998,
            "bin_end": 0,
            "count": 0
           },
           {
            "bin_start": 0,
            "bin_end": 0.10000000000000009,
            "count": 5
           },
           {
            "bin_start": 0.10000000000000009,
            "bin_end": 0.20000000000000007,
            "count": 0
           },
           {
            "bin_start": 0.20000000000000007,
            "bin_end": 0.30000000000000004,
            "count": 0
           },
           {
            "bin_start": 0.30000000000000004,
            "bin_end": 0.4,
            "count": 0
           },
           {
            "bin_start": 0.4,
            "bin_end": 0.5,
            "count": 0
           }
          ]
         }
        },
        {
         "name": "_deepnote_index_column",
         "dtype": "object"
        }
       ],
       "rows_top": [
        {
         "rsi_signal": 0,
         "_deepnote_index_column": "2021-08-09-00:00:00"
        },
        {
         "rsi_signal": 0,
         "_deepnote_index_column": "2021-08-10-00:00:00"
        },
        {
         "rsi_signal": 0,
         "_deepnote_index_column": "2021-08-11-00:00:00"
        },
        {
         "rsi_signal": 0,
         "_deepnote_index_column": "2021-08-12-00:00:00"
        },
        {
         "rsi_signal": 0,
         "_deepnote_index_column": "2021-08-13-00:00:00"
        }
       ],
       "rows_bottom": null
      },
      "text/plain": "                     rsi_signal\nDate                           \n2021-08-09-00:00:00           0\n2021-08-10-00:00:00           0\n2021-08-11-00:00:00           0\n2021-08-12-00:00:00           0\n2021-08-13-00:00:00           0",
      "text/html": "<div>\n<style scoped>\n    .dataframe tbody tr th:only-of-type {\n        vertical-align: middle;\n    }\n\n    .dataframe tbody tr th {\n        vertical-align: top;\n    }\n\n    .dataframe thead th {\n        text-align: right;\n    }\n</style>\n<table border=\"1\" class=\"dataframe\">\n  <thead>\n    <tr style=\"text-align: right;\">\n      <th></th>\n      <th>rsi_signal</th>\n    </tr>\n    <tr>\n      <th>Date</th>\n      <th></th>\n    </tr>\n  </thead>\n  <tbody>\n    <tr>\n      <th>2021-08-09-00:00:00</th>\n      <td>0</td>\n    </tr>\n    <tr>\n      <th>2021-08-10-00:00:00</th>\n      <td>0</td>\n    </tr>\n    <tr>\n      <th>2021-08-11-00:00:00</th>\n      <td>0</td>\n    </tr>\n    <tr>\n      <th>2021-08-12-00:00:00</th>\n      <td>0</td>\n    </tr>\n    <tr>\n      <th>2021-08-13-00:00:00</th>\n      <td>0</td>\n    </tr>\n  </tbody>\n</table>\n</div>"
     },
     "metadata": {}
    }
   ],
   "execution_count": null
  },
  {
   "cell_type": "code",
   "metadata": {
    "tags": [],
    "cell_id": "00005-83c84d78-2e53-4bd3-8047-c48d72f8de7e",
    "deepnote_to_be_reexecuted": false,
    "source_hash": "8e51d041",
    "execution_start": 1629241793553,
    "execution_millis": 87,
    "deepnote_cell_type": "code"
   },
   "source": "combined_signals_df = pd.concat([daily_aroon, daily_rsi, sq_macd_df], axis = 1)\ncombined_signals_df",
   "outputs": [
    {
     "output_type": "execute_result",
     "execution_count": 31,
     "data": {
      "application/vnd.deepnote.dataframe.v2+json": {
       "row_count": 4395,
       "column_count": 7,
       "columns": [
        {
         "name": "aroon_signal",
         "dtype": "float64",
         "stats": {
          "unique_count": 3,
          "nan_count": 3903,
          "min": "-1.0",
          "max": "1.0",
          "histogram": [
           {
            "bin_start": -1,
            "bin_end": -0.8,
            "count": 5
           },
           {
            "bin_start": -0.8,
            "bin_end": -0.6,
            "count": 0
           },
           {
            "bin_start": -0.6,
            "bin_end": -0.3999999999999999,
            "count": 0
           },
           {
            "bin_start": -0.3999999999999999,
            "bin_end": -0.19999999999999996,
            "count": 0
           },
           {
            "bin_start": -0.19999999999999996,
            "bin_end": 0,
            "count": 0
           },
           {
            "bin_start": 0,
            "bin_end": 0.20000000000000018,
            "count": 481
           },
           {
            "bin_start": 0.20000000000000018,
            "bin_end": 0.40000000000000013,
            "count": 0
           },
           {
            "bin_start": 0.40000000000000013,
            "bin_end": 0.6000000000000001,
            "count": 0
           },
           {
            "bin_start": 0.6000000000000001,
            "bin_end": 0.8,
            "count": 0
           },
           {
            "bin_start": 0.8,
            "bin_end": 1,
            "count": 6
           }
          ]
         }
        },
        {
         "name": "rsi_signal",
         "dtype": "float64",
         "stats": {
          "unique_count": 3,
          "nan_count": 3903,
          "min": "-1.0",
          "max": "1.0",
          "histogram": [
           {
            "bin_start": -1,
            "bin_end": -0.8,
            "count": 2
           },
           {
            "bin_start": -0.8,
            "bin_end": -0.6,
            "count": 0
           },
           {
            "bin_start": -0.6,
            "bin_end": -0.3999999999999999,
            "count": 0
           },
           {
            "bin_start": -0.3999999999999999,
            "bin_end": -0.19999999999999996,
            "count": 0
           },
           {
            "bin_start": -0.19999999999999996,
            "bin_end": 0,
            "count": 0
           },
           {
            "bin_start": 0,
            "bin_end": 0.20000000000000018,
            "count": 488
           },
           {
            "bin_start": 0.20000000000000018,
            "bin_end": 0.40000000000000013,
            "count": 0
           },
           {
            "bin_start": 0.40000000000000013,
            "bin_end": 0.6000000000000001,
            "count": 0
           },
           {
            "bin_start": 0.6000000000000001,
            "bin_end": 0.8,
            "count": 0
           },
           {
            "bin_start": 0.8,
            "bin_end": 1,
            "count": 2
           }
          ]
         }
        },
        {
         "name": "Close",
         "dtype": "float64",
         "stats": {
          "unique_count": 3152,
          "nan_count": 984,
          "min": "33.119998931884766",
          "max": "287.32000732421875",
          "histogram": [
           {
            "bin_start": 33.119998931884766,
            "bin_end": 58.53999977111816,
            "count": 199
           },
           {
            "bin_start": 58.53999977111816,
            "bin_end": 83.96000061035156,
            "count": 1097
           },
           {
            "bin_start": 83.96000061035156,
            "bin_end": 109.38000144958497,
            "count": 161
           },
           {
            "bin_start": 109.38000144958497,
            "bin_end": 134.80000228881835,
            "count": 158
           },
           {
            "bin_start": 134.80000228881835,
            "bin_end": 160.22000312805176,
            "count": 277
           },
           {
            "bin_start": 160.22000312805176,
            "bin_end": 185.64000396728517,
            "count": 186
           },
           {
            "bin_start": 185.64000396728517,
            "bin_end": 211.06000480651855,
            "count": 245
           },
           {
            "bin_start": 211.06000480651855,
            "bin_end": 236.48000564575196,
            "count": 548
           },
           {
            "bin_start": 236.48000564575196,
            "bin_end": 261.9000064849854,
            "count": 401
           },
           {
            "bin_start": 261.9000064849854,
            "bin_end": 287.32000732421875,
            "count": 139
           }
          ]
         }
        },
        {
         "name": "macd",
         "dtype": "float64",
         "stats": {
          "unique_count": 3411,
          "nan_count": 984,
          "min": "-9.97544630560472",
          "max": "9.279604005968451",
          "histogram": [
           {
            "bin_start": -9.97544630560472,
            "bin_end": -8.049941274447402,
            "count": 20
           },
           {
            "bin_start": -8.049941274447402,
            "bin_end": -6.124436243290086,
            "count": 22
           },
           {
            "bin_start": -6.124436243290086,
            "bin_end": -4.198931212132768,
            "count": 94
           },
           {
            "bin_start": -4.198931212132768,
            "bin_end": -2.2734261809754512,
            "count": 243
           },
           {
            "bin_start": -2.2734261809754512,
            "bin_end": -0.34792114981813427,
            "count": 662
           },
           {
            "bin_start": -0.34792114981813427,
            "bin_end": 1.5775838813391836,
            "count": 1459
           },
           {
            "bin_start": 1.5775838813391836,
            "bin_end": 3.5030889124964997,
            "count": 582
           },
           {
            "bin_start": 3.5030889124964997,
            "bin_end": 5.4285939436538175,
            "count": 243
           },
           {
            "bin_start": 5.4285939436538175,
            "bin_end": 7.354098974811134,
            "count": 62
           },
           {
            "bin_start": 7.354098974811134,
            "bin_end": 9.279604005968451,
            "count": 24
           }
          ]
         }
        },
        {
         "name": "signal",
         "dtype": "float64",
         "stats": {
          "unique_count": 3411,
          "nan_count": 984,
          "min": "-8.933063939632522",
          "max": "7.726500700529528",
          "histogram": [
           {
            "bin_start": -8.933063939632522,
            "bin_end": -7.267107475616317,
            "count": 20
           },
           {
            "bin_start": -7.267107475616317,
            "bin_end": -5.601151011600112,
            "count": 23
           },
           {
            "bin_start": -5.601151011600112,
            "bin_end": -3.9351945475839063,
            "count": 87
           },
           {
            "bin_start": -3.9351945475839063,
            "bin_end": -2.2692380835677017,
            "count": 252
           },
           {
            "bin_start": -2.2692380835677017,
            "bin_end": -0.6032816195514972,
            "count": 424
           },
           {
            "bin_start": -0.6032816195514972,
            "bin_end": 1.0626748444647092,
            "count": 1474
           },
           {
            "bin_start": 1.0626748444647092,
            "bin_end": 2.7286313084809137,
            "count": 675
           },
           {
            "bin_start": 2.7286313084809137,
            "bin_end": 4.394587772497118,
            "count": 300
           },
           {
            "bin_start": 4.394587772497118,
            "bin_end": 6.060544236513323,
            "count": 112
           },
           {
            "bin_start": 6.060544236513323,
            "bin_end": 7.726500700529528,
            "count": 44
           }
          ]
         }
        },
        {
         "name": "macd_signal",
         "dtype": "float64",
         "stats": {
          "unique_count": 3,
          "nan_count": 984,
          "min": "-1.0",
          "max": "1.0",
          "histogram": [
           {
            "bin_start": -1,
            "bin_end": -0.8,
            "count": 130
           },
           {
            "bin_start": -0.8,
            "bin_end": -0.6,
            "count": 0
           },
           {
            "bin_start": -0.6,
            "bin_end": -0.3999999999999999,
            "count": 0
           },
           {
            "bin_start": -0.3999999999999999,
            "bin_end": -0.19999999999999996,
            "count": 0
           },
           {
            "bin_start": -0.19999999999999996,
            "bin_end": 0,
            "count": 0
           },
           {
            "bin_start": 0,
            "bin_end": 0.20000000000000018,
            "count": 3152
           },
           {
            "bin_start": 0.20000000000000018,
            "bin_end": 0.40000000000000013,
            "count": 0
           },
           {
            "bin_start": 0.40000000000000013,
            "bin_end": 0.6000000000000001,
            "count": 0
           },
           {
            "bin_start": 0.6000000000000001,
            "bin_end": 0.8,
            "count": 0
           },
           {
            "bin_start": 0.8,
            "bin_end": 1,
            "count": 129
           }
          ]
         }
        },
        {
         "name": "macd_position",
         "dtype": "float64",
         "stats": {
          "unique_count": 2,
          "nan_count": 984,
          "min": "0.0",
          "max": "1.0",
          "histogram": [
           {
            "bin_start": 0,
            "bin_end": 0.1,
            "count": 1726
           },
           {
            "bin_start": 0.1,
            "bin_end": 0.2,
            "count": 0
           },
           {
            "bin_start": 0.2,
            "bin_end": 0.30000000000000004,
            "count": 0
           },
           {
            "bin_start": 0.30000000000000004,
            "bin_end": 0.4,
            "count": 0
           },
           {
            "bin_start": 0.4,
            "bin_end": 0.5,
            "count": 0
           },
           {
            "bin_start": 0.5,
            "bin_end": 0.6000000000000001,
            "count": 0
           },
           {
            "bin_start": 0.6000000000000001,
            "bin_end": 0.7000000000000001,
            "count": 0
           },
           {
            "bin_start": 0.7000000000000001,
            "bin_end": 0.8,
            "count": 0
           },
           {
            "bin_start": 0.8,
            "bin_end": 0.9,
            "count": 0
           },
           {
            "bin_start": 0.9,
            "bin_end": 1,
            "count": 1685
           }
          ]
         }
        },
        {
         "name": "_deepnote_index_column",
         "dtype": "object"
        }
       ],
       "rows_top": [
        {
         "aroon_signal": 0,
         "rsi_signal": "nan",
         "Close": "nan",
         "macd": "nan",
         "signal": "nan",
         "macd_signal": "nan",
         "macd_position": "nan",
         "_deepnote_index_column": "2019-09-03 15:30:00"
        },
        {
         "aroon_signal": 0,
         "rsi_signal": "nan",
         "Close": "nan",
         "macd": "nan",
         "signal": "nan",
         "macd_signal": "nan",
         "macd_position": "nan",
         "_deepnote_index_column": "2019-09-04 15:30:00"
        },
        {
         "aroon_signal": 0,
         "rsi_signal": "nan",
         "Close": "nan",
         "macd": "nan",
         "signal": "nan",
         "macd_signal": "nan",
         "macd_position": "nan",
         "_deepnote_index_column": "2019-09-05 15:30:00"
        },
        {
         "aroon_signal": 0,
         "rsi_signal": "nan",
         "Close": "nan",
         "macd": "nan",
         "signal": "nan",
         "macd_signal": "nan",
         "macd_position": "nan",
         "_deepnote_index_column": "2019-09-06 15:30:00"
        },
        {
         "aroon_signal": 0,
         "rsi_signal": "nan",
         "Close": "nan",
         "macd": "nan",
         "signal": "nan",
         "macd_signal": "nan",
         "macd_position": "nan",
         "_deepnote_index_column": "2019-09-09 15:30:00"
        },
        {
         "aroon_signal": 0,
         "rsi_signal": "nan",
         "Close": "nan",
         "macd": "nan",
         "signal": "nan",
         "macd_signal": "nan",
         "macd_position": "nan",
         "_deepnote_index_column": "2019-09-10 15:30:00"
        },
        {
         "aroon_signal": 0,
         "rsi_signal": "nan",
         "Close": "nan",
         "macd": "nan",
         "signal": "nan",
         "macd_signal": "nan",
         "macd_position": "nan",
         "_deepnote_index_column": "2019-09-11 15:30:00"
        },
        {
         "aroon_signal": 0,
         "rsi_signal": "nan",
         "Close": "nan",
         "macd": "nan",
         "signal": "nan",
         "macd_signal": "nan",
         "macd_position": "nan",
         "_deepnote_index_column": "2019-09-12 15:30:00"
        },
        {
         "aroon_signal": 0,
         "rsi_signal": "nan",
         "Close": "nan",
         "macd": "nan",
         "signal": "nan",
         "macd_signal": "nan",
         "macd_position": "nan",
         "_deepnote_index_column": "2019-09-13 15:30:00"
        },
        {
         "aroon_signal": 0,
         "rsi_signal": "nan",
         "Close": "nan",
         "macd": "nan",
         "signal": "nan",
         "macd_signal": "nan",
         "macd_position": "nan",
         "_deepnote_index_column": "2019-09-16 15:30:00"
        },
        {
         "aroon_signal": 0,
         "rsi_signal": "nan",
         "Close": "nan",
         "macd": "nan",
         "signal": "nan",
         "macd_signal": "nan",
         "macd_position": "nan",
         "_deepnote_index_column": "2019-09-17 15:30:00"
        },
        {
         "aroon_signal": 0,
         "rsi_signal": "nan",
         "Close": "nan",
         "macd": "nan",
         "signal": "nan",
         "macd_signal": "nan",
         "macd_position": "nan",
         "_deepnote_index_column": "2019-09-18 15:30:00"
        },
        {
         "aroon_signal": 0,
         "rsi_signal": "nan",
         "Close": "nan",
         "macd": "nan",
         "signal": "nan",
         "macd_signal": "nan",
         "macd_position": "nan",
         "_deepnote_index_column": "2019-09-19 15:30:00"
        },
        {
         "aroon_signal": 0,
         "rsi_signal": "nan",
         "Close": "nan",
         "macd": "nan",
         "signal": "nan",
         "macd_signal": "nan",
         "macd_position": "nan",
         "_deepnote_index_column": "2019-09-20 15:30:00"
        },
        {
         "aroon_signal": 0,
         "rsi_signal": "nan",
         "Close": "nan",
         "macd": "nan",
         "signal": "nan",
         "macd_signal": "nan",
         "macd_position": "nan",
         "_deepnote_index_column": "2019-09-23 15:30:00"
        },
        {
         "aroon_signal": 0,
         "rsi_signal": "nan",
         "Close": "nan",
         "macd": "nan",
         "signal": "nan",
         "macd_signal": "nan",
         "macd_position": "nan",
         "_deepnote_index_column": "2019-09-24 15:30:00"
        },
        {
         "aroon_signal": 0,
         "rsi_signal": "nan",
         "Close": "nan",
         "macd": "nan",
         "signal": "nan",
         "macd_signal": "nan",
         "macd_position": "nan",
         "_deepnote_index_column": "2019-09-25 15:30:00"
        },
        {
         "aroon_signal": 0,
         "rsi_signal": "nan",
         "Close": "nan",
         "macd": "nan",
         "signal": "nan",
         "macd_signal": "nan",
         "macd_position": "nan",
         "_deepnote_index_column": "2019-09-26 15:30:00"
        },
        {
         "aroon_signal": 0,
         "rsi_signal": "nan",
         "Close": "nan",
         "macd": "nan",
         "signal": "nan",
         "macd_signal": "nan",
         "macd_position": "nan",
         "_deepnote_index_column": "2019-09-27 15:30:00"
        },
        {
         "aroon_signal": 0,
         "rsi_signal": "nan",
         "Close": "nan",
         "macd": "nan",
         "signal": "nan",
         "macd_signal": "nan",
         "macd_position": "nan",
         "_deepnote_index_column": "2019-09-30 15:30:00"
        },
        {
         "aroon_signal": 0,
         "rsi_signal": "nan",
         "Close": "nan",
         "macd": "nan",
         "signal": "nan",
         "macd_signal": "nan",
         "macd_position": "nan",
         "_deepnote_index_column": "2019-10-01 15:30:00"
        },
        {
         "aroon_signal": 0,
         "rsi_signal": "nan",
         "Close": "nan",
         "macd": "nan",
         "signal": "nan",
         "macd_signal": "nan",
         "macd_position": "nan",
         "_deepnote_index_column": "2019-10-02 15:30:00"
        },
        {
         "aroon_signal": 0,
         "rsi_signal": "nan",
         "Close": "nan",
         "macd": "nan",
         "signal": "nan",
         "macd_signal": "nan",
         "macd_position": "nan",
         "_deepnote_index_column": "2019-10-03 15:30:00"
        },
        {
         "aroon_signal": 0,
         "rsi_signal": "nan",
         "Close": "nan",
         "macd": "nan",
         "signal": "nan",
         "macd_signal": "nan",
         "macd_position": "nan",
         "_deepnote_index_column": "2019-10-04 15:30:00"
        },
        {
         "aroon_signal": 0,
         "rsi_signal": "nan",
         "Close": "nan",
         "macd": "nan",
         "signal": "nan",
         "macd_signal": "nan",
         "macd_position": "nan",
         "_deepnote_index_column": "2019-10-07 15:30:00"
        },
        {
         "aroon_signal": 0,
         "rsi_signal": "nan",
         "Close": "nan",
         "macd": "nan",
         "signal": "nan",
         "macd_signal": "nan",
         "macd_position": "nan",
         "_deepnote_index_column": "2019-10-08 15:30:00"
        },
        {
         "aroon_signal": 0,
         "rsi_signal": "nan",
         "Close": "nan",
         "macd": "nan",
         "signal": "nan",
         "macd_signal": "nan",
         "macd_position": "nan",
         "_deepnote_index_column": "2019-10-09 15:30:00"
        },
        {
         "aroon_signal": 0,
         "rsi_signal": "nan",
         "Close": "nan",
         "macd": "nan",
         "signal": "nan",
         "macd_signal": "nan",
         "macd_position": "nan",
         "_deepnote_index_column": "2019-10-10 15:30:00"
        },
        {
         "aroon_signal": 0,
         "rsi_signal": "nan",
         "Close": "nan",
         "macd": "nan",
         "signal": "nan",
         "macd_signal": "nan",
         "macd_position": "nan",
         "_deepnote_index_column": "2019-10-11 15:30:00"
        },
        {
         "aroon_signal": 0,
         "rsi_signal": "nan",
         "Close": "nan",
         "macd": "nan",
         "signal": "nan",
         "macd_signal": "nan",
         "macd_position": "nan",
         "_deepnote_index_column": "2019-10-14 15:30:00"
        },
        {
         "aroon_signal": 0,
         "rsi_signal": "nan",
         "Close": "nan",
         "macd": "nan",
         "signal": "nan",
         "macd_signal": "nan",
         "macd_position": "nan",
         "_deepnote_index_column": "2019-10-15 15:30:00"
        },
        {
         "aroon_signal": 0,
         "rsi_signal": "nan",
         "Close": "nan",
         "macd": "nan",
         "signal": "nan",
         "macd_signal": "nan",
         "macd_position": "nan",
         "_deepnote_index_column": "2019-10-16 15:30:00"
        },
        {
         "aroon_signal": 1,
         "rsi_signal": "nan",
         "Close": "nan",
         "macd": "nan",
         "signal": "nan",
         "macd_signal": "nan",
         "macd_position": "nan",
         "_deepnote_index_column": "2019-10-17 15:30:00"
        },
        {
         "aroon_signal": 0,
         "rsi_signal": "nan",
         "Close": "nan",
         "macd": "nan",
         "signal": "nan",
         "macd_signal": "nan",
         "macd_position": "nan",
         "_deepnote_index_column": "2019-10-18 15:30:00"
        },
        {
         "aroon_signal": 0,
         "rsi_signal": "nan",
         "Close": "nan",
         "macd": "nan",
         "signal": "nan",
         "macd_signal": "nan",
         "macd_position": "nan",
         "_deepnote_index_column": "2019-10-21 15:30:00"
        },
        {
         "aroon_signal": 0,
         "rsi_signal": "nan",
         "Close": "nan",
         "macd": "nan",
         "signal": "nan",
         "macd_signal": "nan",
         "macd_position": "nan",
         "_deepnote_index_column": "2019-10-22 15:30:00"
        },
        {
         "aroon_signal": 0,
         "rsi_signal": "nan",
         "Close": "nan",
         "macd": "nan",
         "signal": "nan",
         "macd_signal": "nan",
         "macd_position": "nan",
         "_deepnote_index_column": "2019-10-23 15:30:00"
        },
        {
         "aroon_signal": 0,
         "rsi_signal": "nan",
         "Close": "nan",
         "macd": "nan",
         "signal": "nan",
         "macd_signal": "nan",
         "macd_position": "nan",
         "_deepnote_index_column": "2019-10-24 15:30:00"
        },
        {
         "aroon_signal": 0,
         "rsi_signal": "nan",
         "Close": "nan",
         "macd": "nan",
         "signal": "nan",
         "macd_signal": "nan",
         "macd_position": "nan",
         "_deepnote_index_column": "2019-10-25 15:30:00"
        },
        {
         "aroon_signal": 0,
         "rsi_signal": "nan",
         "Close": "nan",
         "macd": "nan",
         "signal": "nan",
         "macd_signal": "nan",
         "macd_position": "nan",
         "_deepnote_index_column": "2019-10-28 15:30:00"
        },
        {
         "aroon_signal": 0,
         "rsi_signal": "nan",
         "Close": "nan",
         "macd": "nan",
         "signal": "nan",
         "macd_signal": "nan",
         "macd_position": "nan",
         "_deepnote_index_column": "2019-10-29 15:30:00"
        },
        {
         "aroon_signal": 0,
         "rsi_signal": "nan",
         "Close": "nan",
         "macd": "nan",
         "signal": "nan",
         "macd_signal": "nan",
         "macd_position": "nan",
         "_deepnote_index_column": "2019-10-30 15:30:00"
        },
        {
         "aroon_signal": 0,
         "rsi_signal": "nan",
         "Close": "nan",
         "macd": "nan",
         "signal": "nan",
         "macd_signal": "nan",
         "macd_position": "nan",
         "_deepnote_index_column": "2019-10-31 15:30:00"
        },
        {
         "aroon_signal": 0,
         "rsi_signal": "nan",
         "Close": "nan",
         "macd": "nan",
         "signal": "nan",
         "macd_signal": "nan",
         "macd_position": "nan",
         "_deepnote_index_column": "2019-11-01 15:30:00"
        },
        {
         "aroon_signal": 0,
         "rsi_signal": "nan",
         "Close": "nan",
         "macd": "nan",
         "signal": "nan",
         "macd_signal": "nan",
         "macd_position": "nan",
         "_deepnote_index_column": "2019-11-04 15:30:00"
        },
        {
         "aroon_signal": 0,
         "rsi_signal": "nan",
         "Close": "nan",
         "macd": "nan",
         "signal": "nan",
         "macd_signal": "nan",
         "macd_position": "nan",
         "_deepnote_index_column": "2019-11-05 15:30:00"
        },
        {
         "aroon_signal": 0,
         "rsi_signal": "nan",
         "Close": "nan",
         "macd": "nan",
         "signal": "nan",
         "macd_signal": "nan",
         "macd_position": "nan",
         "_deepnote_index_column": "2019-11-06 15:30:00"
        },
        {
         "aroon_signal": 0,
         "rsi_signal": "nan",
         "Close": "nan",
         "macd": "nan",
         "signal": "nan",
         "macd_signal": "nan",
         "macd_position": "nan",
         "_deepnote_index_column": "2019-11-07 15:30:00"
        },
        {
         "aroon_signal": 0,
         "rsi_signal": "nan",
         "Close": "nan",
         "macd": "nan",
         "signal": "nan",
         "macd_signal": "nan",
         "macd_position": "nan",
         "_deepnote_index_column": "2019-11-08 15:30:00"
        },
        {
         "aroon_signal": 0,
         "rsi_signal": "nan",
         "Close": "nan",
         "macd": "nan",
         "signal": "nan",
         "macd_signal": "nan",
         "macd_position": "nan",
         "_deepnote_index_column": "2019-11-11 15:30:00"
        },
        {
         "aroon_signal": 0,
         "rsi_signal": "nan",
         "Close": "nan",
         "macd": "nan",
         "signal": "nan",
         "macd_signal": "nan",
         "macd_position": "nan",
         "_deepnote_index_column": "2019-11-12 15:30:00"
        },
        {
         "aroon_signal": 0,
         "rsi_signal": "nan",
         "Close": "nan",
         "macd": "nan",
         "signal": "nan",
         "macd_signal": "nan",
         "macd_position": "nan",
         "_deepnote_index_column": "2019-11-13 15:30:00"
        },
        {
         "aroon_signal": 0,
         "rsi_signal": "nan",
         "Close": "nan",
         "macd": "nan",
         "signal": "nan",
         "macd_signal": "nan",
         "macd_position": "nan",
         "_deepnote_index_column": "2019-11-14 15:30:00"
        },
        {
         "aroon_signal": 0,
         "rsi_signal": "nan",
         "Close": "nan",
         "macd": "nan",
         "signal": "nan",
         "macd_signal": "nan",
         "macd_position": "nan",
         "_deepnote_index_column": "2019-11-15 15:30:00"
        },
        {
         "aroon_signal": 0,
         "rsi_signal": "nan",
         "Close": "nan",
         "macd": "nan",
         "signal": "nan",
         "macd_signal": "nan",
         "macd_position": "nan",
         "_deepnote_index_column": "2019-11-18 15:30:00"
        },
        {
         "aroon_signal": 0,
         "rsi_signal": "nan",
         "Close": "nan",
         "macd": "nan",
         "signal": "nan",
         "macd_signal": "nan",
         "macd_position": "nan",
         "_deepnote_index_column": "2019-11-19 15:30:00"
        },
        {
         "aroon_signal": 0,
         "rsi_signal": "nan",
         "Close": "nan",
         "macd": "nan",
         "signal": "nan",
         "macd_signal": "nan",
         "macd_position": "nan",
         "_deepnote_index_column": "2019-11-20 15:30:00"
        },
        {
         "aroon_signal": 0,
         "rsi_signal": "nan",
         "Close": "nan",
         "macd": "nan",
         "signal": "nan",
         "macd_signal": "nan",
         "macd_position": "nan",
         "_deepnote_index_column": "2019-11-21 15:30:00"
        },
        {
         "aroon_signal": 0,
         "rsi_signal": "nan",
         "Close": "nan",
         "macd": "nan",
         "signal": "nan",
         "macd_signal": "nan",
         "macd_position": "nan",
         "_deepnote_index_column": "2019-11-22 15:30:00"
        },
        {
         "aroon_signal": 0,
         "rsi_signal": "nan",
         "Close": "nan",
         "macd": "nan",
         "signal": "nan",
         "macd_signal": "nan",
         "macd_position": "nan",
         "_deepnote_index_column": "2019-11-25 15:30:00"
        },
        {
         "aroon_signal": 0,
         "rsi_signal": "nan",
         "Close": "nan",
         "macd": "nan",
         "signal": "nan",
         "macd_signal": "nan",
         "macd_position": "nan",
         "_deepnote_index_column": "2019-11-26 15:30:00"
        },
        {
         "aroon_signal": 0,
         "rsi_signal": "nan",
         "Close": "nan",
         "macd": "nan",
         "signal": "nan",
         "macd_signal": "nan",
         "macd_position": "nan",
         "_deepnote_index_column": "2019-11-27 15:30:00"
        },
        {
         "aroon_signal": 0,
         "rsi_signal": "nan",
         "Close": "nan",
         "macd": "nan",
         "signal": "nan",
         "macd_signal": "nan",
         "macd_position": "nan",
         "_deepnote_index_column": "2019-11-29 15:30:00"
        },
        {
         "aroon_signal": 0,
         "rsi_signal": "nan",
         "Close": "nan",
         "macd": "nan",
         "signal": "nan",
         "macd_signal": "nan",
         "macd_position": "nan",
         "_deepnote_index_column": "2019-12-02 15:30:00"
        },
        {
         "aroon_signal": 0,
         "rsi_signal": "nan",
         "Close": "nan",
         "macd": "nan",
         "signal": "nan",
         "macd_signal": "nan",
         "macd_position": "nan",
         "_deepnote_index_column": "2019-12-03 15:30:00"
        },
        {
         "aroon_signal": 0,
         "rsi_signal": "nan",
         "Close": "nan",
         "macd": "nan",
         "signal": "nan",
         "macd_signal": "nan",
         "macd_position": "nan",
         "_deepnote_index_column": "2019-12-04 15:30:00"
        },
        {
         "aroon_signal": 0,
         "rsi_signal": "nan",
         "Close": "nan",
         "macd": "nan",
         "signal": "nan",
         "macd_signal": "nan",
         "macd_position": "nan",
         "_deepnote_index_column": "2019-12-05 15:30:00"
        },
        {
         "aroon_signal": 0,
         "rsi_signal": "nan",
         "Close": "nan",
         "macd": "nan",
         "signal": "nan",
         "macd_signal": "nan",
         "macd_position": "nan",
         "_deepnote_index_column": "2019-12-06 15:30:00"
        },
        {
         "aroon_signal": 0,
         "rsi_signal": "nan",
         "Close": "nan",
         "macd": "nan",
         "signal": "nan",
         "macd_signal": "nan",
         "macd_position": "nan",
         "_deepnote_index_column": "2019-12-09 15:30:00"
        },
        {
         "aroon_signal": 0,
         "rsi_signal": "nan",
         "Close": "nan",
         "macd": "nan",
         "signal": "nan",
         "macd_signal": "nan",
         "macd_position": "nan",
         "_deepnote_index_column": "2019-12-10 15:30:00"
        },
        {
         "aroon_signal": 0,
         "rsi_signal": "nan",
         "Close": "nan",
         "macd": "nan",
         "signal": "nan",
         "macd_signal": "nan",
         "macd_position": "nan",
         "_deepnote_index_column": "2019-12-11 15:30:00"
        }
       ],
       "rows_bottom": [
        {
         "aroon_signal": "nan",
         "rsi_signal": "nan",
         "Close": 251.72999572753903,
         "macd": -1.4085460864287995,
         "signal": 0.2684756772310571,
         "macd_signal": 0,
         "macd_position": 0,
         "_deepnote_index_column": "2021-07-27-15:30:00"
        },
        {
         "aroon_signal": "nan",
         "rsi_signal": "nan",
         "Close": 256.29998779296875,
         "macd": -1.1292298367798708,
         "signal": -0.0110654255711284,
         "macd_signal": 0,
         "macd_position": 0,
         "_deepnote_index_column": "2021-07-28-09:30:00"
        },
        {
         "aroon_signal": "nan",
         "rsi_signal": "nan",
         "Close": 258.4150085449219,
         "macd": -0.7288039990155823,
         "signal": -0.1546131402600192,
         "macd_signal": 0,
         "macd_position": 0,
         "_deepnote_index_column": "2021-07-28-10:30:00"
        },
        {
         "aroon_signal": "nan",
         "rsi_signal": "nan",
         "Close": 258.95001220703125,
         "macd": -0.3640962385589148,
         "signal": -0.1965097599197983,
         "macd_signal": 0,
         "macd_position": 0,
         "_deepnote_index_column": "2021-07-28-11:30:00"
        },
        {
         "aroon_signal": "nan",
         "rsi_signal": "nan",
         "Close": 257.0400085449219,
         "macd": -0.2265722598102968,
         "signal": -0.202522259897898,
         "macd_signal": 0,
         "macd_position": 0,
         "_deepnote_index_column": "2021-07-28-12:30:00"
        },
        {
         "aroon_signal": "nan",
         "rsi_signal": "nan",
         "Close": 258.4800109863281,
         "macd": -0.0013715431308582,
         "signal": -0.1622921165444901,
         "macd_signal": 1,
         "macd_position": 1,
         "_deepnote_index_column": "2021-07-28-13:30:00"
        },
        {
         "aroon_signal": "nan",
         "rsi_signal": "nan",
         "Close": 259.7099914550781,
         "macd": 0.273201495001274,
         "signal": -0.0751933942353373,
         "macd_signal": 0,
         "macd_position": 1,
         "_deepnote_index_column": "2021-07-28-14:30:00"
        },
        {
         "aroon_signal": "nan",
         "rsi_signal": "nan",
         "Close": 258.4700012207031,
         "macd": 0.3862928139295718,
         "signal": 0.0171038473976445,
         "macd_signal": 0,
         "macd_position": 1,
         "_deepnote_index_column": "2021-07-28-15:30:00"
        },
        {
         "aroon_signal": "nan",
         "rsi_signal": "nan",
         "Close": 259.70001220703125,
         "macd": 0.5686154608433753,
         "signal": 0.1274061700867907,
         "macd_signal": 0,
         "macd_position": 1,
         "_deepnote_index_column": "2021-07-29-09:30:00"
        },
        {
         "aroon_signal": "nan",
         "rsi_signal": "nan",
         "Close": 260.1900939941406,
         "macd": 0.7440757346239479,
         "signal": 0.2507400829942221,
         "macd_signal": 0,
         "macd_position": 1,
         "_deepnote_index_column": "2021-07-29-10:30:00"
        },
        {
         "aroon_signal": "nan",
         "rsi_signal": "nan",
         "Close": 260.2200012207031,
         "macd": 0.8754508762049227,
         "signal": 0.3756822416363622,
         "macd_signal": 0,
         "macd_position": 1,
         "_deepnote_index_column": "2021-07-29-11:30:00"
        },
        {
         "aroon_signal": "nan",
         "rsi_signal": "nan",
         "Close": 257.864990234375,
         "macd": 0.7805393457569494,
         "signal": 0.4566536624604796,
         "macd_signal": 0,
         "macd_position": 1,
         "_deepnote_index_column": "2021-07-29-12:30:00"
        },
        {
         "aroon_signal": "nan",
         "rsi_signal": "nan",
         "Close": 255.4700927734375,
         "macd": 0.5062374734991977,
         "signal": 0.4665704246682233,
         "macd_signal": 0,
         "macd_position": 1,
         "_deepnote_index_column": "2021-07-29-13:30:00"
        },
        {
         "aroon_signal": "nan",
         "rsi_signal": "nan",
         "Close": 254.93499755859372,
         "macd": 0.2428738530419423,
         "signal": 0.4218311103429671,
         "macd_signal": -1,
         "macd_position": 0,
         "_deepnote_index_column": "2021-07-29-14:30:00"
        },
        {
         "aroon_signal": "nan",
         "rsi_signal": "nan",
         "Close": 255.2700042724609,
         "macd": 0.0604912232709011,
         "signal": 0.349563132928554,
         "macd_signal": 0,
         "macd_position": 0,
         "_deepnote_index_column": "2021-07-29-15:30:00"
        },
        {
         "aroon_signal": "nan",
         "rsi_signal": "nan",
         "Close": 251.60499572753903,
         "macd": -0.3754558631619602,
         "signal": 0.2045593337104511,
         "macd_signal": 0,
         "macd_position": 0,
         "_deepnote_index_column": "2021-07-30-09:30:00"
        },
        {
         "aroon_signal": "nan",
         "rsi_signal": "nan",
         "Close": 248.32000732421875,
         "macd": -0.9747815059236872,
         "signal": -0.0313088342163764,
         "macd_signal": 0,
         "macd_position": 0,
         "_deepnote_index_column": "2021-07-30-10:30:00"
        },
        {
         "aroon_signal": "nan",
         "rsi_signal": "nan",
         "Close": 247.17999267578125,
         "macd": -1.524171351769894,
         "signal": -0.32988133772708,
         "macd_signal": 0,
         "macd_position": 0,
         "_deepnote_index_column": "2021-07-30-11:30:00"
        },
        {
         "aroon_signal": "nan",
         "rsi_signal": "nan",
         "Close": 247.5984039306641,
         "macd": -1.9038579815816088,
         "signal": -0.6446766664979859,
         "macd_signal": 0,
         "macd_position": 0,
         "_deepnote_index_column": "2021-07-30-12:30:00"
        },
        {
         "aroon_signal": "nan",
         "rsi_signal": "nan",
         "Close": 245.7700042724609,
         "macd": -2.325492117483549,
         "signal": -0.9808397566950986,
         "macd_signal": 0,
         "macd_position": 0,
         "_deepnote_index_column": "2021-07-30-13:30:00"
        },
        {
         "aroon_signal": "nan",
         "rsi_signal": "nan",
         "Close": 245.9199981689453,
         "macd": -2.617365592701645,
         "signal": -1.308144923896408,
         "macd_signal": 0,
         "macd_position": 0,
         "_deepnote_index_column": "2021-07-30-14:30:00"
        },
        {
         "aroon_signal": "nan",
         "rsi_signal": "nan",
         "Close": 247.25,
         "macd": -2.710116852088049,
         "signal": -1.5885393095347362,
         "macd_signal": 0,
         "macd_position": 0,
         "_deepnote_index_column": "2021-07-30-15:30:00"
        },
        {
         "aroon_signal": "nan",
         "rsi_signal": "nan",
         "Close": 269.95001220703125,
         "macd": -0.9410735105667812,
         "signal": -1.459046149741145,
         "macd_signal": 1,
         "macd_position": 1,
         "_deepnote_index_column": "2021-08-02-09:30:00"
        },
        {
         "aroon_signal": "nan",
         "rsi_signal": "nan",
         "Close": 275.239990234375,
         "macd": 0.8776461410749334,
         "signal": -0.9917076915779296,
         "macd_signal": 0,
         "macd_position": 1,
         "_deepnote_index_column": "2021-08-02-10:30:00"
        },
        {
         "aroon_signal": "nan",
         "rsi_signal": "nan",
         "Close": 275.19000244140625,
         "macd": 2.288579649434041,
         "signal": -0.3356502233755353,
         "macd_signal": 0,
         "macd_position": 1,
         "_deepnote_index_column": "2021-08-02-11:30:00"
        },
        {
         "aroon_signal": "nan",
         "rsi_signal": "nan",
         "Close": 276.32000732421875,
         "macd": 3.458074045216847,
         "signal": 0.4230946303429412,
         "macd_signal": 0,
         "macd_position": 1,
         "_deepnote_index_column": "2021-08-02-12:30:00"
        },
        {
         "aroon_signal": "nan",
         "rsi_signal": "nan",
         "Close": 279.6247863769531,
         "macd": 4.598565430219594,
         "signal": 1.2581887903182718,
         "macd_signal": 0,
         "macd_position": 1,
         "_deepnote_index_column": "2021-08-02-13:30:00"
        },
        {
         "aroon_signal": "nan",
         "rsi_signal": "nan",
         "Close": 273.1388854980469,
         "macd": 4.922313705278043,
         "signal": 1.991013773310226,
         "macd_signal": 0,
         "macd_position": 1,
         "_deepnote_index_column": "2021-08-02-14:30:00"
        },
        {
         "aroon_signal": "nan",
         "rsi_signal": "nan",
         "Close": 272.3999938964844,
         "macd": 5.060924975865476,
         "signal": 2.6049960138212764,
         "macd_signal": 0,
         "macd_position": 1,
         "_deepnote_index_column": "2021-08-02-15:30:00"
        },
        {
         "aroon_signal": "nan",
         "rsi_signal": "nan",
         "Close": 266.0799865722656,
         "macd": 4.607689062560553,
         "signal": 3.005534623569132,
         "macd_signal": 0,
         "macd_position": 1,
         "_deepnote_index_column": "2021-08-03-09:30:00"
        },
        {
         "aroon_signal": "nan",
         "rsi_signal": "nan",
         "Close": 263.3099975585937,
         "macd": 3.9791126386519977,
         "signal": 3.2002502265857053,
         "macd_signal": 0,
         "macd_position": 1,
         "_deepnote_index_column": "2021-08-03-10:30:00"
        },
        {
         "aroon_signal": "nan",
         "rsi_signal": "nan",
         "Close": 271.67999267578125,
         "macd": 4.108984137659945,
         "signal": 3.3819970088005538,
         "macd_signal": 0,
         "macd_position": 1,
         "_deepnote_index_column": "2021-08-03-11:30:00"
        },
        {
         "aroon_signal": "nan",
         "rsi_signal": "nan",
         "Close": 268.8900146484375,
         "macd": 3.941346932277952,
         "signal": 3.4938669934960336,
         "macd_signal": 0,
         "macd_position": 1,
         "_deepnote_index_column": "2021-08-03-12:30:00"
        },
        {
         "aroon_signal": "nan",
         "rsi_signal": "nan",
         "Close": 266.9849853515625,
         "macd": 3.613123457857228,
         "signal": 3.517718286368273,
         "macd_signal": 0,
         "macd_position": 1,
         "_deepnote_index_column": "2021-08-03-13:30:00"
        },
        {
         "aroon_signal": "nan",
         "rsi_signal": "nan",
         "Close": 269.6798095703125,
         "macd": 3.5297648505292614,
         "signal": 3.5201275992004706,
         "macd_signal": 0,
         "macd_position": 1,
         "_deepnote_index_column": "2021-08-03-14:30:00"
        },
        {
         "aroon_signal": "nan",
         "rsi_signal": "nan",
         "Close": 269.3999938964844,
         "macd": 3.401908681627617,
         "signal": 3.4964838156859,
         "macd_signal": -1,
         "macd_position": 0,
         "_deepnote_index_column": "2021-08-03-15:30:00"
        },
        {
         "aroon_signal": "nan",
         "rsi_signal": "nan",
         "Close": 263.5899963378906,
         "macd": 2.7994926907014133,
         "signal": 3.3570855906890027,
         "macd_signal": 0,
         "macd_position": 0,
         "_deepnote_index_column": "2021-08-04-09:30:00"
        },
        {
         "aroon_signal": "nan",
         "rsi_signal": "nan",
         "Close": 265.6600036621094,
         "macd": 2.460740089022238,
         "signal": 3.17781649035565,
         "macd_signal": 0,
         "macd_position": 0,
         "_deepnote_index_column": "2021-08-04-10:30:00"
        },
        {
         "aroon_signal": "nan",
         "rsi_signal": "nan",
         "Close": 265.4100036621094,
         "macd": 2.147349986977076,
         "signal": 2.971723189679935,
         "macd_signal": 0,
         "macd_position": 0,
         "_deepnote_index_column": "2021-08-04-11:30:00"
        },
        {
         "aroon_signal": "nan",
         "rsi_signal": "nan",
         "Close": 266.4849853515625,
         "macd": 1.9630987314054096,
         "signal": 2.76999829802503,
         "macd_signal": 0,
         "macd_position": 0,
         "_deepnote_index_column": "2021-08-04-12:30:00"
        },
        {
         "aroon_signal": "nan",
         "rsi_signal": "nan",
         "Close": 265.9200134277344,
         "macd": 1.7513018536988056,
         "signal": 2.566259009159785,
         "macd_signal": 0,
         "macd_position": 0,
         "_deepnote_index_column": "2021-08-04-13:30:00"
        },
        {
         "aroon_signal": "nan",
         "rsi_signal": "nan",
         "Close": 265.5,
         "macd": 1.5319009284547178,
         "signal": 2.359387393018772,
         "macd_signal": 0,
         "macd_position": 0,
         "_deepnote_index_column": "2021-08-04-14:30:00"
        },
        {
         "aroon_signal": "nan",
         "rsi_signal": "nan",
         "Close": 266.45001220703125,
         "macd": 1.41833250577929,
         "signal": 2.171176415570876,
         "macd_signal": 0,
         "macd_position": 0,
         "_deepnote_index_column": "2021-08-04-15:30:00"
        },
        {
         "aroon_signal": "nan",
         "rsi_signal": "nan",
         "Close": 278.2344970703125,
         "macd": 2.253263930032915,
         "signal": 2.187593918463284,
         "macd_signal": 1,
         "macd_position": 1,
         "_deepnote_index_column": "2021-08-05-09:30:00"
        },
        {
         "aroon_signal": "nan",
         "rsi_signal": "nan",
         "Close": 287.25,
         "macd": 3.6009196792661555,
         "signal": 2.4702590706238583,
         "macd_signal": 0,
         "macd_position": 1,
         "_deepnote_index_column": "2021-08-05-10:30:00"
        },
        {
         "aroon_signal": "nan",
         "rsi_signal": "nan",
         "Close": 287.32000732421875,
         "macd": 4.621323831403458,
         "signal": 2.9004720227797787,
         "macd_signal": 0,
         "macd_position": 1,
         "_deepnote_index_column": "2021-08-05-11:30:00"
        },
        {
         "aroon_signal": "nan",
         "rsi_signal": "nan",
         "Close": 283.7300109863281,
         "macd": 5.081739640666172,
         "signal": 3.3367255463570573,
         "macd_signal": 0,
         "macd_position": 1,
         "_deepnote_index_column": "2021-08-05-12:30:00"
        },
        {
         "aroon_signal": "nan",
         "rsi_signal": "nan",
         "Close": 283.8900146484375,
         "macd": 5.39731653959393,
         "signal": 3.748843745004432,
         "macd_signal": 0,
         "macd_position": 1,
         "_deepnote_index_column": "2021-08-05-13:30:00"
        },
        {
         "aroon_signal": "nan",
         "rsi_signal": "nan",
         "Close": 282.4599914550781,
         "macd": 5.468979592678522,
         "signal": 4.092870914539251,
         "macd_signal": 0,
         "macd_position": 1,
         "_deepnote_index_column": "2021-08-05-14:30:00"
        },
        {
         "aroon_signal": "nan",
         "rsi_signal": "nan",
         "Close": 281.79998779296875,
         "macd": 5.410151440793868,
         "signal": 4.356327019790174,
         "macd_signal": 0,
         "macd_position": 1,
         "_deepnote_index_column": "2021-08-05-15:30:00"
        },
        {
         "aroon_signal": "nan",
         "rsi_signal": "nan",
         "Close": 279.1000061035156,
         "macd": 5.087023706217963,
         "signal": 4.502466357075732,
         "macd_signal": 0,
         "macd_position": 1,
         "_deepnote_index_column": "2021-08-06-09:30:00"
        },
        {
         "aroon_signal": "nan",
         "rsi_signal": "nan",
         "Close": 277.2200012207031,
         "macd": 4.625917271596848,
         "signal": 4.527156539979955,
         "macd_signal": 0,
         "macd_position": 1,
         "_deepnote_index_column": "2021-08-06-10:30:00"
        },
        {
         "aroon_signal": "nan",
         "rsi_signal": "nan",
         "Close": 278.6400146484375,
         "macd": 4.325211964956964,
         "signal": 4.486767624975357,
         "macd_signal": -1,
         "macd_position": 0,
         "_deepnote_index_column": "2021-08-06-11:30:00"
        },
        {
         "aroon_signal": "nan",
         "rsi_signal": "nan",
         "Close": 276.6119079589844,
         "macd": 3.8785401857817874,
         "signal": 4.365122137136644,
         "macd_signal": 0,
         "macd_position": 0,
         "_deepnote_index_column": "2021-08-06-12:30:00"
        },
        {
         "aroon_signal": "nan",
         "rsi_signal": "nan",
         "Close": 276.2349853515625,
         "macd": 3.454315875171801,
         "signal": 4.182960884743675,
         "macd_signal": 0,
         "macd_position": 0,
         "_deepnote_index_column": "2021-08-06-13:30:00"
        },
        {
         "aroon_signal": "nan",
         "rsi_signal": "nan",
         "Close": 276.0409851074219,
         "macd": 3.067105175016877,
         "signal": 3.959789742798316,
         "macd_signal": 0,
         "macd_position": 0,
         "_deepnote_index_column": "2021-08-06-14:30:00"
        },
        {
         "aroon_signal": "nan",
         "rsi_signal": "nan",
         "Close": 275.06500244140625,
         "macd": 2.650926035725945,
         "signal": 3.698017001383842,
         "macd_signal": 0,
         "macd_position": 0,
         "_deepnote_index_column": "2021-08-06-15:30:00"
        },
        {
         "aroon_signal": "nan",
         "rsi_signal": "nan",
         "Close": 281.2298889160156,
         "macd": 2.786435590828944,
         "signal": 3.5157007192728624,
         "macd_signal": 0,
         "macd_position": 0,
         "_deepnote_index_column": "2021-08-09-09:30:00"
        },
        {
         "aroon_signal": "nan",
         "rsi_signal": "nan",
         "Close": 280.7699890136719,
         "macd": 2.824162622237452,
         "signal": 3.3773930998657806,
         "macd_signal": 0,
         "macd_position": 0,
         "_deepnote_index_column": "2021-08-09-10:30:00"
        },
        {
         "aroon_signal": "nan",
         "rsi_signal": "nan",
         "Close": 282.9848022460937,
         "macd": 2.998216906158234,
         "signal": 3.3015578611242717,
         "macd_signal": 0,
         "macd_position": 0,
         "_deepnote_index_column": "2021-08-09-11:30:00"
        },
        {
         "aroon_signal": "nan",
         "rsi_signal": "nan",
         "Close": 284.364990234375,
         "macd": 3.2105169748917888,
         "signal": 3.2833496838777747,
         "macd_signal": 0,
         "macd_position": 0,
         "_deepnote_index_column": "2021-08-09-12:30:00"
        },
        {
         "aroon_signal": "nan",
         "rsi_signal": "nan",
         "Close": 282.67999267578125,
         "macd": 3.205846089881902,
         "signal": 3.2678489650786005,
         "macd_signal": 0,
         "macd_position": 0,
         "_deepnote_index_column": "2021-08-09-13:30:00"
        },
        {
         "aroon_signal": "nan",
         "rsi_signal": "nan",
         "Close": 280.5799865722656,
         "macd": 2.9981308516035483,
         "signal": 3.2139053423835904,
         "macd_signal": 0,
         "macd_position": 0,
         "_deepnote_index_column": "2021-08-09-14:30:00"
        },
        {
         "aroon_signal": "nan",
         "rsi_signal": "nan",
         "Close": 279.7099914550781,
         "macd": 2.7318229393123943,
         "signal": 3.1174888617693512,
         "macd_signal": 0,
         "macd_position": 0,
         "_deepnote_index_column": "2021-08-09-15:30:00"
        },
        {
         "aroon_signal": "nan",
         "rsi_signal": "nan",
         "Close": 278.1571960449219,
         "macd": 2.3681755344072712,
         "signal": 2.9676261962969352,
         "macd_signal": 0,
         "macd_position": 0,
         "_deepnote_index_column": "2021-08-10-09:30:00"
        },
        {
         "aroon_signal": "nan",
         "rsi_signal": "nan",
         "Close": 277.5,
         "macd": 2.00385294824099,
         "signal": 2.774871546685746,
         "macd_signal": 0,
         "macd_position": 0,
         "_deepnote_index_column": "2021-08-10-10:30:00"
        },
        {
         "aroon_signal": "nan",
         "rsi_signal": "nan",
         "Close": 277.697998046875,
         "macd": 1.7113738095624171,
         "signal": 2.5621719992610803,
         "macd_signal": 0,
         "macd_position": 0,
         "_deepnote_index_column": "2021-08-10-11:30:00"
        },
        {
         "aroon_signal": "nan",
         "rsi_signal": "nan",
         "Close": 276.7699890136719,
         "macd": 1.3886914411733642,
         "signal": 2.327475887643537,
         "macd_signal": 0,
         "macd_position": 0,
         "_deepnote_index_column": "2021-08-10-12:30:00"
        },
        {
         "aroon_signal": "nan",
         "rsi_signal": "nan",
         "Close": 275.375,
         "macd": 1.0087709014169943,
         "signal": 2.0637348903982287,
         "macd_signal": 0,
         "macd_position": 0,
         "_deepnote_index_column": "2021-08-10-13:30:00"
        },
        {
         "aroon_signal": "nan",
         "rsi_signal": "nan",
         "Close": 274.04998779296875,
         "macd": 0.5939174147059703,
         "signal": 1.7697713952597771,
         "macd_signal": 0,
         "macd_position": 0,
         "_deepnote_index_column": "2021-08-10-14:30:00"
        },
        {
         "aroon_signal": "nan",
         "rsi_signal": "nan",
         "Close": 272.92999267578125,
         "macd": 0.1727771247185501,
         "signal": 1.4503725411515318,
         "macd_signal": 0,
         "macd_position": 0,
         "_deepnote_index_column": "2021-08-10-15:30:00"
        }
       ]
      },
      "text/plain": "                     aroon_signal  rsi_signal       Close      macd    signal  \\\nDate                                                                            \n2019-09-03 15:30:00           0.0         NaN         NaN       NaN       NaN   \n2019-09-04 15:30:00           0.0         NaN         NaN       NaN       NaN   \n2019-09-05 15:30:00           0.0         NaN         NaN       NaN       NaN   \n2019-09-06 15:30:00           0.0         NaN         NaN       NaN       NaN   \n2019-09-09 15:30:00           0.0         NaN         NaN       NaN       NaN   \n...                           ...         ...         ...       ...       ...   \n2021-08-10-11:30:00           NaN         NaN  277.697998  1.711374  2.562172   \n2021-08-10-12:30:00           NaN         NaN  276.769989  1.388691  2.327476   \n2021-08-10-13:30:00           NaN         NaN  275.375000  1.008771  2.063735   \n2021-08-10-14:30:00           NaN         NaN  274.049988  0.593917  1.769771   \n2021-08-10-15:30:00           NaN         NaN  272.929993  0.172777  1.450373   \n\n                     macd_signal  macd_position  \nDate                                             \n2019-09-03 15:30:00          NaN            NaN  \n2019-09-04 15:30:00          NaN            NaN  \n2019-09-05 15:30:00          NaN            NaN  \n2019-09-06 15:30:00          NaN            NaN  \n2019-09-09 15:30:00          NaN            NaN  \n...                          ...            ...  \n2021-08-10-11:30:00          0.0            0.0  \n2021-08-10-12:30:00          0.0            0.0  \n2021-08-10-13:30:00          0.0            0.0  \n2021-08-10-14:30:00          0.0            0.0  \n2021-08-10-15:30:00          0.0            0.0  \n\n[4395 rows x 7 columns]",
      "text/html": "<div>\n<style scoped>\n    .dataframe tbody tr th:only-of-type {\n        vertical-align: middle;\n    }\n\n    .dataframe tbody tr th {\n        vertical-align: top;\n    }\n\n    .dataframe thead th {\n        text-align: right;\n    }\n</style>\n<table border=\"1\" class=\"dataframe\">\n  <thead>\n    <tr style=\"text-align: right;\">\n      <th></th>\n      <th>aroon_signal</th>\n      <th>rsi_signal</th>\n      <th>Close</th>\n      <th>macd</th>\n      <th>signal</th>\n      <th>macd_signal</th>\n      <th>macd_position</th>\n    </tr>\n    <tr>\n      <th>Date</th>\n      <th></th>\n      <th></th>\n      <th></th>\n      <th></th>\n      <th></th>\n      <th></th>\n      <th></th>\n    </tr>\n  </thead>\n  <tbody>\n    <tr>\n      <th>2019-09-03 15:30:00</th>\n      <td>0.0</td>\n      <td>NaN</td>\n      <td>NaN</td>\n      <td>NaN</td>\n      <td>NaN</td>\n      <td>NaN</td>\n      <td>NaN</td>\n    </tr>\n    <tr>\n      <th>2019-09-04 15:30:00</th>\n      <td>0.0</td>\n      <td>NaN</td>\n      <td>NaN</td>\n      <td>NaN</td>\n      <td>NaN</td>\n      <td>NaN</td>\n      <td>NaN</td>\n    </tr>\n    <tr>\n      <th>2019-09-05 15:30:00</th>\n      <td>0.0</td>\n      <td>NaN</td>\n      <td>NaN</td>\n      <td>NaN</td>\n      <td>NaN</td>\n      <td>NaN</td>\n      <td>NaN</td>\n    </tr>\n    <tr>\n      <th>2019-09-06 15:30:00</th>\n      <td>0.0</td>\n      <td>NaN</td>\n      <td>NaN</td>\n      <td>NaN</td>\n      <td>NaN</td>\n      <td>NaN</td>\n      <td>NaN</td>\n    </tr>\n    <tr>\n      <th>2019-09-09 15:30:00</th>\n      <td>0.0</td>\n      <td>NaN</td>\n      <td>NaN</td>\n      <td>NaN</td>\n      <td>NaN</td>\n      <td>NaN</td>\n      <td>NaN</td>\n    </tr>\n    <tr>\n      <th>...</th>\n      <td>...</td>\n      <td>...</td>\n      <td>...</td>\n      <td>...</td>\n      <td>...</td>\n      <td>...</td>\n      <td>...</td>\n    </tr>\n    <tr>\n      <th>2021-08-10-11:30:00</th>\n      <td>NaN</td>\n      <td>NaN</td>\n      <td>277.697998</td>\n      <td>1.711374</td>\n      <td>2.562172</td>\n      <td>0.0</td>\n      <td>0.0</td>\n    </tr>\n    <tr>\n      <th>2021-08-10-12:30:00</th>\n      <td>NaN</td>\n      <td>NaN</td>\n      <td>276.769989</td>\n      <td>1.388691</td>\n      <td>2.327476</td>\n      <td>0.0</td>\n      <td>0.0</td>\n    </tr>\n    <tr>\n      <th>2021-08-10-13:30:00</th>\n      <td>NaN</td>\n      <td>NaN</td>\n      <td>275.375000</td>\n      <td>1.008771</td>\n      <td>2.063735</td>\n      <td>0.0</td>\n      <td>0.0</td>\n    </tr>\n    <tr>\n      <th>2021-08-10-14:30:00</th>\n      <td>NaN</td>\n      <td>NaN</td>\n      <td>274.049988</td>\n      <td>0.593917</td>\n      <td>1.769771</td>\n      <td>0.0</td>\n      <td>0.0</td>\n    </tr>\n    <tr>\n      <th>2021-08-10-15:30:00</th>\n      <td>NaN</td>\n      <td>NaN</td>\n      <td>272.929993</td>\n      <td>0.172777</td>\n      <td>1.450373</td>\n      <td>0.0</td>\n      <td>0.0</td>\n    </tr>\n  </tbody>\n</table>\n<p>4395 rows × 7 columns</p>\n</div>"
     },
     "metadata": {}
    }
   ],
   "execution_count": null
  },
  {
   "cell_type": "code",
   "metadata": {
    "tags": [],
    "cell_id": "00002-260a46b6-05b2-481b-bee6-5a4353035c8a",
    "deepnote_to_be_reexecuted": true,
    "source_hash": "6f6147d9",
    "execution_start": 1629237376027,
    "execution_millis": 470,
    "deepnote_cell_type": "code"
   },
   "source": "# pd.concat([sq_macd_df, daily_aroon, daily_rsi], axis=1).dropna()",
   "outputs": [
    {
     "output_type": "error",
     "ename": "NameError",
     "evalue": "name 'sq_macd_df' is not defined",
     "traceback": [
      "\u001b[0;31m---------------------------------------------------------------------------\u001b[0m",
      "\u001b[0;31mNameError\u001b[0m                                 Traceback (most recent call last)",
      "\u001b[0;32m/tmp/ipykernel_1641/4250530236.py\u001b[0m in \u001b[0;36m<module>\u001b[0;34m\u001b[0m\n\u001b[0;32m----> 1\u001b[0;31m \u001b[0mpd\u001b[0m\u001b[0;34m.\u001b[0m\u001b[0mconcat\u001b[0m\u001b[0;34m(\u001b[0m\u001b[0;34m[\u001b[0m\u001b[0msq_macd_df\u001b[0m\u001b[0;34m,\u001b[0m \u001b[0mdaily_aroon\u001b[0m\u001b[0;34m,\u001b[0m \u001b[0mdaily_rsi\u001b[0m\u001b[0;34m]\u001b[0m\u001b[0;34m,\u001b[0m \u001b[0maxis\u001b[0m\u001b[0;34m=\u001b[0m\u001b[0;36m1\u001b[0m\u001b[0;34m)\u001b[0m\u001b[0;34m.\u001b[0m\u001b[0mdropna\u001b[0m\u001b[0;34m(\u001b[0m\u001b[0;34m)\u001b[0m\u001b[0;34m\u001b[0m\u001b[0;34m\u001b[0m\u001b[0m\n\u001b[0m",
      "\u001b[0;31mNameError\u001b[0m: name 'sq_macd_df' is not defined"
     ]
    }
   ],
   "execution_count": null
  },
  {
   "cell_type": "code",
   "metadata": {
    "tags": [],
    "cell_id": "00009-cb80a5f5-28c7-4e90-aa9c-ba6e5e1738ed",
    "deepnote_to_be_reexecuted": true,
    "source_hash": "c1e70b40",
    "execution_start": 1629229655572,
    "execution_millis": 13,
    "deepnote_cell_type": "code"
   },
   "source": "display(daily_aroon.index[0])\ndisplay(daily_rsi.index[0])\ndisplay(sq_macd_df.index[0])",
   "outputs": [
    {
     "data": {
      "text/plain": "'2019-09-03 00:00:00-00:00'"
     },
     "metadata": {},
     "output_type": "display_data"
    },
    {
     "data": {
      "text/plain": "'2019-09-03-00:00:00'"
     },
     "metadata": {},
     "output_type": "display_data"
    },
    {
     "data": {
      "text/plain": "'2019-09-03 09:30:00-04:00'"
     },
     "metadata": {},
     "output_type": "display_data"
    }
   ],
   "execution_count": null
  },
  {
   "cell_type": "code",
   "metadata": {
    "tags": [],
    "cell_id": "00006-11f44625-4c77-4ab9-86de-4ed570dc73a9",
    "deepnote_to_be_reexecuted": true,
    "source_hash": "4ce4d165",
    "execution_start": 1629229344813,
    "execution_millis": 58,
    "deepnote_cell_type": "code"
   },
   "source": "display(daily_aroon.head(1))\ndisplay(daily_rsi.head(1))\ndisplay(sq_macd_df.head(1))",
   "outputs": [
    {
     "data": {
      "application/vnd.deepnote.dataframe.v2+json": {
       "row_count": 1,
       "column_count": 1,
       "columns": [
        {
         "name": "aroon_signal",
         "dtype": "int64",
         "stats": {
          "unique_count": 1,
          "nan_count": 0,
          "min": "0",
          "max": "0",
          "histogram": [
           {
            "bin_start": -0.5,
            "bin_end": -0.4,
            "count": 0
           },
           {
            "bin_start": -0.4,
            "bin_end": -0.3,
            "count": 0
           },
           {
            "bin_start": -0.3,
            "bin_end": -0.19999999999999996,
            "count": 0
           },
           {
            "bin_start": -0.19999999999999996,
            "bin_end": -0.09999999999999998,
            "count": 0
           },
           {
            "bin_start": -0.09999999999999998,
            "bin_end": 0,
            "count": 0
           },
           {
            "bin_start": 0,
            "bin_end": 0.10000000000000009,
            "count": 1
           },
           {
            "bin_start": 0.10000000000000009,
            "bin_end": 0.20000000000000007,
            "count": 0
           },
           {
            "bin_start": 0.20000000000000007,
            "bin_end": 0.30000000000000004,
            "count": 0
           },
           {
            "bin_start": 0.30000000000000004,
            "bin_end": 0.4,
            "count": 0
           },
           {
            "bin_start": 0.4,
            "bin_end": 0.5,
            "count": 0
           }
          ]
         }
        },
        {
         "name": "_deepnote_index_column",
         "dtype": "object"
        }
       ],
       "rows_top": [
        {
         "aroon_signal": 0,
         "_deepnote_index_column": "2019-09-03 00:00:00-00:00"
        }
       ],
       "rows_bottom": null
      },
      "text/plain": "                           aroon_signal\nDate                                   \n2019-09-03 00:00:00-00:00             0",
      "text/html": "<div>\n<style scoped>\n    .dataframe tbody tr th:only-of-type {\n        vertical-align: middle;\n    }\n\n    .dataframe tbody tr th {\n        vertical-align: top;\n    }\n\n    .dataframe thead th {\n        text-align: right;\n    }\n</style>\n<table border=\"1\" class=\"dataframe\">\n  <thead>\n    <tr style=\"text-align: right;\">\n      <th></th>\n      <th>aroon_signal</th>\n    </tr>\n    <tr>\n      <th>Date</th>\n      <th></th>\n    </tr>\n  </thead>\n  <tbody>\n    <tr>\n      <th>2019-09-03 00:00:00-00:00</th>\n      <td>0</td>\n    </tr>\n  </tbody>\n</table>\n</div>"
     },
     "metadata": {},
     "output_type": "display_data"
    },
    {
     "data": {
      "application/vnd.deepnote.dataframe.v2+json": {
       "row_count": 1,
       "column_count": 1,
       "columns": [
        {
         "name": "rsi_signal",
         "dtype": "int64",
         "stats": {
          "unique_count": 1,
          "nan_count": 0,
          "min": "0",
          "max": "0",
          "histogram": [
           {
            "bin_start": -0.5,
            "bin_end": -0.4,
            "count": 0
           },
           {
            "bin_start": -0.4,
            "bin_end": -0.3,
            "count": 0
           },
           {
            "bin_start": -0.3,
            "bin_end": -0.19999999999999996,
            "count": 0
           },
           {
            "bin_start": -0.19999999999999996,
            "bin_end": -0.09999999999999998,
            "count": 0
           },
           {
            "bin_start": -0.09999999999999998,
            "bin_end": 0,
            "count": 0
           },
           {
            "bin_start": 0,
            "bin_end": 0.10000000000000009,
            "count": 1
           },
           {
            "bin_start": 0.10000000000000009,
            "bin_end": 0.20000000000000007,
            "count": 0
           },
           {
            "bin_start": 0.20000000000000007,
            "bin_end": 0.30000000000000004,
            "count": 0
           },
           {
            "bin_start": 0.30000000000000004,
            "bin_end": 0.4,
            "count": 0
           },
           {
            "bin_start": 0.4,
            "bin_end": 0.5,
            "count": 0
           }
          ]
         }
        },
        {
         "name": "_deepnote_index_column",
         "dtype": "object"
        }
       ],
       "rows_top": [
        {
         "rsi_signal": 0,
         "_deepnote_index_column": "2019-09-03-00:00:00"
        }
       ],
       "rows_bottom": null
      },
      "text/plain": "                     rsi_signal\nDate                           \n2019-09-03-00:00:00           0",
      "text/html": "<div>\n<style scoped>\n    .dataframe tbody tr th:only-of-type {\n        vertical-align: middle;\n    }\n\n    .dataframe tbody tr th {\n        vertical-align: top;\n    }\n\n    .dataframe thead th {\n        text-align: right;\n    }\n</style>\n<table border=\"1\" class=\"dataframe\">\n  <thead>\n    <tr style=\"text-align: right;\">\n      <th></th>\n      <th>rsi_signal</th>\n    </tr>\n    <tr>\n      <th>Date</th>\n      <th></th>\n    </tr>\n  </thead>\n  <tbody>\n    <tr>\n      <th>2019-09-03-00:00:00</th>\n      <td>0</td>\n    </tr>\n  </tbody>\n</table>\n</div>"
     },
     "metadata": {},
     "output_type": "display_data"
    },
    {
     "data": {
      "application/vnd.deepnote.dataframe.v2+json": {
       "row_count": 1,
       "column_count": 5,
       "columns": [
        {
         "name": "Close",
         "dtype": "float64",
         "stats": {
          "unique_count": 1,
          "nan_count": 0,
          "min": "62.959999084472656",
          "max": "62.959999084472656",
          "histogram": [
           {
            "bin_start": 62.459999084472656,
            "bin_end": 62.55999908447266,
            "count": 0
           },
           {
            "bin_start": 62.55999908447266,
            "bin_end": 62.65999908447266,
            "count": 0
           },
           {
            "bin_start": 62.65999908447266,
            "bin_end": 62.75999908447265,
            "count": 0
           },
           {
            "bin_start": 62.75999908447265,
            "bin_end": 62.859999084472655,
            "count": 0
           },
           {
            "bin_start": 62.859999084472655,
            "bin_end": 62.959999084472656,
            "count": 0
           },
           {
            "bin_start": 62.959999084472656,
            "bin_end": 63.05999908447266,
            "count": 1
           },
           {
            "bin_start": 63.05999908447266,
            "bin_end": 63.15999908447266,
            "count": 0
           },
           {
            "bin_start": 63.15999908447266,
            "bin_end": 63.25999908447265,
            "count": 0
           },
           {
            "bin_start": 63.25999908447265,
            "bin_end": 63.359999084472655,
            "count": 0
           },
           {
            "bin_start": 63.359999084472655,
            "bin_end": 63.459999084472656,
            "count": 0
           }
          ]
         }
        },
        {
         "name": "macd",
         "dtype": "float64",
         "stats": {
          "unique_count": 1,
          "nan_count": 0,
          "min": "0.0",
          "max": "0.0",
          "histogram": [
           {
            "bin_start": -0.5,
            "bin_end": -0.4,
            "count": 0
           },
           {
            "bin_start": -0.4,
            "bin_end": -0.3,
            "count": 0
           },
           {
            "bin_start": -0.3,
            "bin_end": -0.19999999999999996,
            "count": 0
           },
           {
            "bin_start": -0.19999999999999996,
            "bin_end": -0.09999999999999998,
            "count": 0
           },
           {
            "bin_start": -0.09999999999999998,
            "bin_end": 0,
            "count": 0
           },
           {
            "bin_start": 0,
            "bin_end": 0.10000000000000009,
            "count": 1
           },
           {
            "bin_start": 0.10000000000000009,
            "bin_end": 0.20000000000000007,
            "count": 0
           },
           {
            "bin_start": 0.20000000000000007,
            "bin_end": 0.30000000000000004,
            "count": 0
           },
           {
            "bin_start": 0.30000000000000004,
            "bin_end": 0.4,
            "count": 0
           },
           {
            "bin_start": 0.4,
            "bin_end": 0.5,
            "count": 0
           }
          ]
         }
        },
        {
         "name": "signal",
         "dtype": "float64",
         "stats": {
          "unique_count": 1,
          "nan_count": 0,
          "min": "0.0",
          "max": "0.0",
          "histogram": [
           {
            "bin_start": -0.5,
            "bin_end": -0.4,
            "count": 0
           },
           {
            "bin_start": -0.4,
            "bin_end": -0.3,
            "count": 0
           },
           {
            "bin_start": -0.3,
            "bin_end": -0.19999999999999996,
            "count": 0
           },
           {
            "bin_start": -0.19999999999999996,
            "bin_end": -0.09999999999999998,
            "count": 0
           },
           {
            "bin_start": -0.09999999999999998,
            "bin_end": 0,
            "count": 0
           },
           {
            "bin_start": 0,
            "bin_end": 0.10000000000000009,
            "count": 1
           },
           {
            "bin_start": 0.10000000000000009,
            "bin_end": 0.20000000000000007,
            "count": 0
           },
           {
            "bin_start": 0.20000000000000007,
            "bin_end": 0.30000000000000004,
            "count": 0
           },
           {
            "bin_start": 0.30000000000000004,
            "bin_end": 0.4,
            "count": 0
           },
           {
            "bin_start": 0.4,
            "bin_end": 0.5,
            "count": 0
           }
          ]
         }
        },
        {
         "name": "macd_signal",
         "dtype": "int64",
         "stats": {
          "unique_count": 1,
          "nan_count": 0,
          "min": "0",
          "max": "0",
          "histogram": [
           {
            "bin_start": -0.5,
            "bin_end": -0.4,
            "count": 0
           },
           {
            "bin_start": -0.4,
            "bin_end": -0.3,
            "count": 0
           },
           {
            "bin_start": -0.3,
            "bin_end": -0.19999999999999996,
            "count": 0
           },
           {
            "bin_start": -0.19999999999999996,
            "bin_end": -0.09999999999999998,
            "count": 0
           },
           {
            "bin_start": -0.09999999999999998,
            "bin_end": 0,
            "count": 0
           },
           {
            "bin_start": 0,
            "bin_end": 0.10000000000000009,
            "count": 1
           },
           {
            "bin_start": 0.10000000000000009,
            "bin_end": 0.20000000000000007,
            "count": 0
           },
           {
            "bin_start": 0.20000000000000007,
            "bin_end": 0.30000000000000004,
            "count": 0
           },
           {
            "bin_start": 0.30000000000000004,
            "bin_end": 0.4,
            "count": 0
           },
           {
            "bin_start": 0.4,
            "bin_end": 0.5,
            "count": 0
           }
          ]
         }
        },
        {
         "name": "macd_position",
         "dtype": "int64",
         "stats": {
          "unique_count": 1,
          "nan_count": 0,
          "min": "1",
          "max": "1",
          "histogram": [
           {
            "bin_start": 0.5,
            "bin_end": 0.6,
            "count": 0
           },
           {
            "bin_start": 0.6,
            "bin_end": 0.7,
            "count": 0
           },
           {
            "bin_start": 0.7,
            "bin_end": 0.8,
            "count": 0
           },
           {
            "bin_start": 0.8,
            "bin_end": 0.9,
            "count": 0
           },
           {
            "bin_start": 0.9,
            "bin_end": 1,
            "count": 0
           },
           {
            "bin_start": 1,
            "bin_end": 1.1,
            "count": 1
           },
           {
            "bin_start": 1.1,
            "bin_end": 1.2000000000000002,
            "count": 0
           },
           {
            "bin_start": 1.2000000000000002,
            "bin_end": 1.3,
            "count": 0
           },
           {
            "bin_start": 1.3,
            "bin_end": 1.4,
            "count": 0
           },
           {
            "bin_start": 1.4,
            "bin_end": 1.5,
            "count": 0
           }
          ]
         }
        },
        {
         "name": "_deepnote_index_column",
         "dtype": "object"
        }
       ],
       "rows_top": [
        {
         "Close": 62.959999084472656,
         "macd": 0,
         "signal": 0,
         "macd_signal": 0,
         "macd_position": 1,
         "_deepnote_index_column": "2019-09-03 09:30:00-04:00"
        }
       ],
       "rows_bottom": null
      },
      "text/plain": "                               Close  macd  signal  macd_signal  macd_position\n2019-09-03 09:30:00-04:00  62.959999   0.0     0.0            0              1",
      "text/html": "<div>\n<style scoped>\n    .dataframe tbody tr th:only-of-type {\n        vertical-align: middle;\n    }\n\n    .dataframe tbody tr th {\n        vertical-align: top;\n    }\n\n    .dataframe thead th {\n        text-align: right;\n    }\n</style>\n<table border=\"1\" class=\"dataframe\">\n  <thead>\n    <tr style=\"text-align: right;\">\n      <th></th>\n      <th>Close</th>\n      <th>macd</th>\n      <th>signal</th>\n      <th>macd_signal</th>\n      <th>macd_position</th>\n    </tr>\n  </thead>\n  <tbody>\n    <tr>\n      <th>2019-09-03 09:30:00-04:00</th>\n      <td>62.959999</td>\n      <td>0.0</td>\n      <td>0.0</td>\n      <td>0</td>\n      <td>1</td>\n    </tr>\n  </tbody>\n</table>\n</div>"
     },
     "metadata": {},
     "output_type": "display_data"
    }
   ],
   "execution_count": null
  },
  {
   "cell_type": "code",
   "metadata": {
    "tags": [],
    "cell_id": "00007-7497c6fa-823a-4e02-9e4a-01abe6c18ae7",
    "deepnote_to_be_reexecuted": true,
    "source_hash": "26deeaa0",
    "execution_start": 1629155760921,
    "execution_millis": 32,
    "deepnote_cell_type": "code"
   },
   "source": "daily_aroon.reset_index(inplace = True)\ndaily_aroon",
   "outputs": [],
   "execution_count": null
  },
  {
   "cell_type": "code",
   "metadata": {
    "tags": [],
    "cell_id": "00008-a6f57302-b7e9-4288-94bd-a676a76c8226",
    "deepnote_to_be_reexecuted": true,
    "source_hash": "c7c524e",
    "execution_start": 1629155762476,
    "execution_millis": 23,
    "deepnote_cell_type": "code"
   },
   "source": "daily_aroon['Date'].dt.date",
   "outputs": [
    {
     "output_type": "error",
     "ename": "AttributeError",
     "evalue": "Can only use .dt accessor with datetimelike values",
     "traceback": [
      "\u001b[0;31m---------------------------------------------------------------------------\u001b[0m",
      "\u001b[0;31mAttributeError\u001b[0m                            Traceback (most recent call last)",
      "\u001b[0;32m/tmp/ipykernel_656/2693802579.py\u001b[0m in \u001b[0;36m<module>\u001b[0;34m\u001b[0m\n\u001b[0;32m----> 1\u001b[0;31m \u001b[0mdaily_aroon\u001b[0m\u001b[0;34m[\u001b[0m\u001b[0;34m'Date'\u001b[0m\u001b[0;34m]\u001b[0m\u001b[0;34m.\u001b[0m\u001b[0mdt\u001b[0m\u001b[0;34m.\u001b[0m\u001b[0mdate\u001b[0m\u001b[0;34m\u001b[0m\u001b[0;34m\u001b[0m\u001b[0m\n\u001b[0m",
      "\u001b[0;32m/shared-libs/python3.7/py/lib/python3.7/site-packages/pandas/core/generic.py\u001b[0m in \u001b[0;36m__getattr__\u001b[0;34m(self, name)\u001b[0m\n\u001b[1;32m   5459\u001b[0m             \u001b[0;32mor\u001b[0m \u001b[0mname\u001b[0m \u001b[0;32min\u001b[0m \u001b[0mself\u001b[0m\u001b[0;34m.\u001b[0m\u001b[0m_accessors\u001b[0m\u001b[0;34m\u001b[0m\u001b[0;34m\u001b[0m\u001b[0m\n\u001b[1;32m   5460\u001b[0m         ):\n\u001b[0;32m-> 5461\u001b[0;31m             \u001b[0;32mreturn\u001b[0m \u001b[0mobject\u001b[0m\u001b[0;34m.\u001b[0m\u001b[0m__getattribute__\u001b[0m\u001b[0;34m(\u001b[0m\u001b[0mself\u001b[0m\u001b[0;34m,\u001b[0m \u001b[0mname\u001b[0m\u001b[0;34m)\u001b[0m\u001b[0;34m\u001b[0m\u001b[0;34m\u001b[0m\u001b[0m\n\u001b[0m\u001b[1;32m   5462\u001b[0m         \u001b[0;32melse\u001b[0m\u001b[0;34m:\u001b[0m\u001b[0;34m\u001b[0m\u001b[0;34m\u001b[0m\u001b[0m\n\u001b[1;32m   5463\u001b[0m             \u001b[0;32mif\u001b[0m \u001b[0mself\u001b[0m\u001b[0;34m.\u001b[0m\u001b[0m_info_axis\u001b[0m\u001b[0;34m.\u001b[0m\u001b[0m_can_hold_identifiers_and_holds_name\u001b[0m\u001b[0;34m(\u001b[0m\u001b[0mname\u001b[0m\u001b[0;34m)\u001b[0m\u001b[0;34m:\u001b[0m\u001b[0;34m\u001b[0m\u001b[0;34m\u001b[0m\u001b[0m\n",
      "\u001b[0;32m/shared-libs/python3.7/py/lib/python3.7/site-packages/pandas/core/accessor.py\u001b[0m in \u001b[0;36m__get__\u001b[0;34m(self, obj, cls)\u001b[0m\n\u001b[1;32m    178\u001b[0m             \u001b[0;31m# we're accessing the attribute of the class, i.e., Dataset.geo\u001b[0m\u001b[0;34m\u001b[0m\u001b[0;34m\u001b[0m\u001b[0;34m\u001b[0m\u001b[0m\n\u001b[1;32m    179\u001b[0m             \u001b[0;32mreturn\u001b[0m \u001b[0mself\u001b[0m\u001b[0;34m.\u001b[0m\u001b[0m_accessor\u001b[0m\u001b[0;34m\u001b[0m\u001b[0;34m\u001b[0m\u001b[0m\n\u001b[0;32m--> 180\u001b[0;31m         \u001b[0maccessor_obj\u001b[0m \u001b[0;34m=\u001b[0m \u001b[0mself\u001b[0m\u001b[0;34m.\u001b[0m\u001b[0m_accessor\u001b[0m\u001b[0;34m(\u001b[0m\u001b[0mobj\u001b[0m\u001b[0;34m)\u001b[0m\u001b[0;34m\u001b[0m\u001b[0;34m\u001b[0m\u001b[0m\n\u001b[0m\u001b[1;32m    181\u001b[0m         \u001b[0;31m# Replace the property with the accessor object. Inspired by:\u001b[0m\u001b[0;34m\u001b[0m\u001b[0;34m\u001b[0m\u001b[0;34m\u001b[0m\u001b[0m\n\u001b[1;32m    182\u001b[0m         \u001b[0;31m# https://www.pydanny.com/cached-property.html\u001b[0m\u001b[0;34m\u001b[0m\u001b[0;34m\u001b[0m\u001b[0;34m\u001b[0m\u001b[0m\n",
      "\u001b[0;32m/shared-libs/python3.7/py/lib/python3.7/site-packages/pandas/core/indexes/accessors.py\u001b[0m in \u001b[0;36m__new__\u001b[0;34m(cls, data)\u001b[0m\n\u001b[1;32m    492\u001b[0m             \u001b[0;32mreturn\u001b[0m \u001b[0mPeriodProperties\u001b[0m\u001b[0;34m(\u001b[0m\u001b[0mdata\u001b[0m\u001b[0;34m,\u001b[0m \u001b[0morig\u001b[0m\u001b[0;34m)\u001b[0m\u001b[0;34m\u001b[0m\u001b[0;34m\u001b[0m\u001b[0m\n\u001b[1;32m    493\u001b[0m \u001b[0;34m\u001b[0m\u001b[0m\n\u001b[0;32m--> 494\u001b[0;31m         \u001b[0;32mraise\u001b[0m \u001b[0mAttributeError\u001b[0m\u001b[0;34m(\u001b[0m\u001b[0;34m\"Can only use .dt accessor with datetimelike values\"\u001b[0m\u001b[0;34m)\u001b[0m\u001b[0;34m\u001b[0m\u001b[0;34m\u001b[0m\u001b[0m\n\u001b[0m",
      "\u001b[0;31mAttributeError\u001b[0m: Can only use .dt accessor with datetimelike values"
     ]
    }
   ],
   "execution_count": null
  },
  {
   "cell_type": "code",
   "metadata": {
    "tags": [],
    "cell_id": "00010-6200d95f-9a4c-41c8-b486-61b6b32a9768",
    "deepnote_to_be_reexecuted": true,
    "source_hash": "b623e53d",
    "deepnote_cell_type": "code"
   },
   "source": "",
   "outputs": [],
   "execution_count": null
  },
  {
   "cell_type": "markdown",
   "source": "<a style='text-decoration:none;line-height:16px;display:flex;color:#5B5B62;padding:10px;justify-content:end;' href='https://deepnote.com?utm_source=created-in-deepnote-cell&projectId=d12c285c-6789-4c45-9ad7-1be9b4d60622' target=\"_blank\">\n<img alt='Created in deepnote.com' style='display:inline;max-height:16px;margin:0px;margin-right:7.5px;' src='data:image/svg+xml;base64,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' > </img>\nCreated in <span style='font-weight:600;margin-left:4px;'>Deepnote</span></a>",
   "metadata": {
    "tags": [],
    "created_in_deepnote_cell": true,
    "deepnote_cell_type": "markdown"
   }
  }
 ],
 "nbformat": 4,
 "nbformat_minor": 2,
 "metadata": {
  "orig_nbformat": 2,
  "deepnote": {
   "is_reactive": false
  },
  "deepnote_notebook_id": "0aab5aba-afe6-4d5a-b374-53e902ac32c6",
  "deepnote_execution_queue": []
 }
}