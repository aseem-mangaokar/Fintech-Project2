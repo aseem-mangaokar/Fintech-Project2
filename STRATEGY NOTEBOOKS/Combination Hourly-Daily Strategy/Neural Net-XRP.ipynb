{
 "cells": [
  {
   "cell_type": "code",
   "metadata": {
    "tags": [],
    "deepnote_to_be_reexecuted": false,
    "source_hash": "7ad9c8a0",
    "execution_start": 1629332131947,
    "execution_millis": 4266,
    "cell_id": "00000-2a916efb-8f27-42e0-922d-e533ffd0118e",
    "deepnote_cell_type": "code"
   },
   "source": "# Initial imports\nimport pandas as pd\nimport numpy as np\nfrom sklearn.datasets import make_blobs, make_moons\nfrom sklearn.model_selection import train_test_split\nfrom sklearn.preprocessing import StandardScaler\nfrom tensorflow.keras.models import Sequential\nfrom tensorflow.keras.layers import Dense\n\n%matplotlib inline",
   "outputs": [
    {
     "name": "stderr",
     "text": "2021-08-19 00:15:33.188951: W tensorflow/stream_executor/platform/default/dso_loader.cc:60] Could not load dynamic library 'libcudart.so.11.0'; dlerror: libcudart.so.11.0: cannot open shared object file: No such file or directory\n2021-08-19 00:15:33.189004: I tensorflow/stream_executor/cuda/cudart_stub.cc:29] Ignore above cudart dlerror if you do not have a GPU set up on your machine.\n",
     "output_type": "stream"
    }
   ],
   "execution_count": 1
  },
  {
   "cell_type": "code",
   "metadata": {
    "tags": [],
    "deepnote_to_be_reexecuted": false,
    "source_hash": "bf9436d9",
    "execution_start": 1629332136237,
    "execution_millis": 78,
    "cell_id": "00001-c3b89d35-55a3-4f64-a2c3-64d87f797026",
    "deepnote_cell_type": "code"
   },
   "source": "df = pd.read_csv('/work/Fintech-Project2/STRATEGY NOTEBOOKS/Daily Strategies/XRP_Daily_signals_df', infer_datetime_format=True, index_col='Date')\ndf.head()",
   "outputs": [
    {
     "output_type": "execute_result",
     "execution_count": 2,
     "data": {
      "application/vnd.deepnote.dataframe.v2+json": {
       "row_count": 5,
       "column_count": 8,
       "columns": [
        {
         "name": "Close",
         "dtype": "float64",
         "stats": {
          "unique_count": 5,
          "nan_count": 0,
          "min": "0.2523399889469147",
          "max": "0.263139009475708",
          "histogram": [
           {
            "bin_start": 0.2523399889469147,
            "bin_end": 0.253419890999794,
            "count": 1
           },
           {
            "bin_start": 0.253419890999794,
            "bin_end": 0.25449979305267334,
            "count": 0
           },
           {
            "bin_start": 0.25449979305267334,
            "bin_end": 0.2555796951055527,
            "count": 0
           },
           {
            "bin_start": 0.2555796951055527,
            "bin_end": 0.256659597158432,
            "count": 1
           },
           {
            "bin_start": 0.256659597158432,
            "bin_end": 0.25773949921131134,
            "count": 0
           },
           {
            "bin_start": 0.25773949921131134,
            "bin_end": 0.2588194012641907,
            "count": 0
           },
           {
            "bin_start": 0.2588194012641907,
            "bin_end": 0.25989930331707,
            "count": 0
           },
           {
            "bin_start": 0.25989930331707,
            "bin_end": 0.26097920536994934,
            "count": 2
           },
           {
            "bin_start": 0.26097920536994934,
            "bin_end": 0.2620591074228287,
            "count": 0
           },
           {
            "bin_start": 0.2620591074228287,
            "bin_end": 0.263139009475708,
            "count": 1
           }
          ]
         }
        },
        {
         "name": "macd_signal",
         "dtype": "int64",
         "stats": {
          "unique_count": 2,
          "nan_count": 0,
          "min": "0",
          "max": "1",
          "histogram": [
           {
            "bin_start": 0,
            "bin_end": 0.1,
            "count": 4
           },
           {
            "bin_start": 0.1,
            "bin_end": 0.2,
            "count": 0
           },
           {
            "bin_start": 0.2,
            "bin_end": 0.30000000000000004,
            "count": 0
           },
           {
            "bin_start": 0.30000000000000004,
            "bin_end": 0.4,
            "count": 0
           },
           {
            "bin_start": 0.4,
            "bin_end": 0.5,
            "count": 0
           },
           {
            "bin_start": 0.5,
            "bin_end": 0.6000000000000001,
            "count": 0
           },
           {
            "bin_start": 0.6000000000000001,
            "bin_end": 0.7000000000000001,
            "count": 0
           },
           {
            "bin_start": 0.7000000000000001,
            "bin_end": 0.8,
            "count": 0
           },
           {
            "bin_start": 0.8,
            "bin_end": 0.9,
            "count": 0
           },
           {
            "bin_start": 0.9,
            "bin_end": 1,
            "count": 1
           }
          ]
         }
        },
        {
         "name": "aroon_signal",
         "dtype": "int64",
         "stats": {
          "unique_count": 1,
          "nan_count": 0,
          "min": "0",
          "max": "0",
          "histogram": [
           {
            "bin_start": -0.5,
            "bin_end": -0.4,
            "count": 0
           },
           {
            "bin_start": -0.4,
            "bin_end": -0.3,
            "count": 0
           },
           {
            "bin_start": -0.3,
            "bin_end": -0.19999999999999996,
            "count": 0
           },
           {
            "bin_start": -0.19999999999999996,
            "bin_end": -0.09999999999999998,
            "count": 0
           },
           {
            "bin_start": -0.09999999999999998,
            "bin_end": 0,
            "count": 0
           },
           {
            "bin_start": 0,
            "bin_end": 0.10000000000000009,
            "count": 5
           },
           {
            "bin_start": 0.10000000000000009,
            "bin_end": 0.20000000000000007,
            "count": 0
           },
           {
            "bin_start": 0.20000000000000007,
            "bin_end": 0.30000000000000004,
            "count": 0
           },
           {
            "bin_start": 0.30000000000000004,
            "bin_end": 0.4,
            "count": 0
           },
           {
            "bin_start": 0.4,
            "bin_end": 0.5,
            "count": 0
           }
          ]
         }
        },
        {
         "name": "rsi_signal",
         "dtype": "int64",
         "stats": {
          "unique_count": 2,
          "nan_count": 0,
          "min": "0",
          "max": "1",
          "histogram": [
           {
            "bin_start": 0,
            "bin_end": 0.1,
            "count": 4
           },
           {
            "bin_start": 0.1,
            "bin_end": 0.2,
            "count": 0
           },
           {
            "bin_start": 0.2,
            "bin_end": 0.30000000000000004,
            "count": 0
           },
           {
            "bin_start": 0.30000000000000004,
            "bin_end": 0.4,
            "count": 0
           },
           {
            "bin_start": 0.4,
            "bin_end": 0.5,
            "count": 0
           },
           {
            "bin_start": 0.5,
            "bin_end": 0.6000000000000001,
            "count": 0
           },
           {
            "bin_start": 0.6000000000000001,
            "bin_end": 0.7000000000000001,
            "count": 0
           },
           {
            "bin_start": 0.7000000000000001,
            "bin_end": 0.8,
            "count": 0
           },
           {
            "bin_start": 0.8,
            "bin_end": 0.9,
            "count": 0
           },
           {
            "bin_start": 0.9,
            "bin_end": 1,
            "count": 1
           }
          ]
         }
        },
        {
         "name": "ao_signal",
         "dtype": "int64",
         "stats": {
          "unique_count": 1,
          "nan_count": 0,
          "min": "0",
          "max": "0",
          "histogram": [
           {
            "bin_start": -0.5,
            "bin_end": -0.4,
            "count": 0
           },
           {
            "bin_start": -0.4,
            "bin_end": -0.3,
            "count": 0
           },
           {
            "bin_start": -0.3,
            "bin_end": -0.19999999999999996,
            "count": 0
           },
           {
            "bin_start": -0.19999999999999996,
            "bin_end": -0.09999999999999998,
            "count": 0
           },
           {
            "bin_start": -0.09999999999999998,
            "bin_end": 0,
            "count": 0
           },
           {
            "bin_start": 0,
            "bin_end": 0.10000000000000009,
            "count": 5
           },
           {
            "bin_start": 0.10000000000000009,
            "bin_end": 0.20000000000000007,
            "count": 0
           },
           {
            "bin_start": 0.20000000000000007,
            "bin_end": 0.30000000000000004,
            "count": 0
           },
           {
            "bin_start": 0.30000000000000004,
            "bin_end": 0.4,
            "count": 0
           },
           {
            "bin_start": 0.4,
            "bin_end": 0.5,
            "count": 0
           }
          ]
         }
        },
        {
         "name": "bollinger_signal",
         "dtype": "int64",
         "stats": {
          "unique_count": 1,
          "nan_count": 0,
          "min": "0",
          "max": "0",
          "histogram": [
           {
            "bin_start": -0.5,
            "bin_end": -0.4,
            "count": 0
           },
           {
            "bin_start": -0.4,
            "bin_end": -0.3,
            "count": 0
           },
           {
            "bin_start": -0.3,
            "bin_end": -0.19999999999999996,
            "count": 0
           },
           {
            "bin_start": -0.19999999999999996,
            "bin_end": -0.09999999999999998,
            "count": 0
           },
           {
            "bin_start": -0.09999999999999998,
            "bin_end": 0,
            "count": 0
           },
           {
            "bin_start": 0,
            "bin_end": 0.10000000000000009,
            "count": 5
           },
           {
            "bin_start": 0.10000000000000009,
            "bin_end": 0.20000000000000007,
            "count": 0
           },
           {
            "bin_start": 0.20000000000000007,
            "bin_end": 0.30000000000000004,
            "count": 0
           },
           {
            "bin_start": 0.30000000000000004,
            "bin_end": 0.4,
            "count": 0
           },
           {
            "bin_start": 0.4,
            "bin_end": 0.5,
            "count": 0
           }
          ]
         }
        },
        {
         "name": "Returns",
         "dtype": "float64",
         "stats": {
          "unique_count": 5,
          "nan_count": 0,
          "min": "-0.0156273106316726",
          "max": "0.0107187382165425",
          "histogram": [
           {
            "bin_start": -0.0156273106316726,
            "bin_end": -0.012992705746851092,
            "count": 2
           },
           {
            "bin_start": -0.012992705746851092,
            "bin_end": -0.010358100862029582,
            "count": 1
           },
           {
            "bin_start": -0.010358100862029582,
            "bin_end": -0.007723495977208072,
            "count": 0
           },
           {
            "bin_start": -0.007723495977208072,
            "bin_end": -0.005088891092386562,
            "count": 0
           },
           {
            "bin_start": -0.005088891092386562,
            "bin_end": -0.002454286207565052,
            "count": 0
           },
           {
            "bin_start": -0.002454286207565052,
            "bin_end": 0.000180318677256458,
            "count": 0
           },
           {
            "bin_start": 0.000180318677256458,
            "bin_end": 0.002814923562077968,
            "count": 0
           },
           {
            "bin_start": 0.002814923562077968,
            "bin_end": 0.005449528446899478,
            "count": 0
           },
           {
            "bin_start": 0.005449528446899478,
            "bin_end": 0.008084133331720988,
            "count": 0
           },
           {
            "bin_start": 0.008084133331720988,
            "bin_end": 0.0107187382165425,
            "count": 2
           }
          ]
         }
        },
        {
         "name": "Binary Return",
         "dtype": "int64",
         "stats": {
          "unique_count": 2,
          "nan_count": 0,
          "min": "0",
          "max": "1",
          "histogram": [
           {
            "bin_start": 0,
            "bin_end": 0.1,
            "count": 3
           },
           {
            "bin_start": 0.1,
            "bin_end": 0.2,
            "count": 0
           },
           {
            "bin_start": 0.2,
            "bin_end": 0.30000000000000004,
            "count": 0
           },
           {
            "bin_start": 0.30000000000000004,
            "bin_end": 0.4,
            "count": 0
           },
           {
            "bin_start": 0.4,
            "bin_end": 0.5,
            "count": 0
           },
           {
            "bin_start": 0.5,
            "bin_end": 0.6000000000000001,
            "count": 0
           },
           {
            "bin_start": 0.6000000000000001,
            "bin_end": 0.7000000000000001,
            "count": 0
           },
           {
            "bin_start": 0.7000000000000001,
            "bin_end": 0.8,
            "count": 0
           },
           {
            "bin_start": 0.8,
            "bin_end": 0.9,
            "count": 0
           },
           {
            "bin_start": 0.9,
            "bin_end": 1,
            "count": 2
           }
          ]
         }
        },
        {
         "name": "_deepnote_index_column",
         "dtype": "object"
        }
       ],
       "rows_top": [
        {
         "Close": 0.2608200013637543,
         "macd_signal": 0,
         "aroon_signal": 0,
         "rsi_signal": 0,
         "ao_signal": 0,
         "bollinger_signal": 0,
         "Returns": 0.0107187382165425,
         "Binary Return": 1,
         "_deepnote_index_column": "2019-09-02"
        },
        {
         "Close": 0.263139009475708,
         "macd_signal": 1,
         "aroon_signal": 0,
         "rsi_signal": 1,
         "ao_signal": 0,
         "bollinger_signal": 0,
         "Returns": 0.0088912203812141,
         "Binary Return": 1,
         "_deepnote_index_column": "2019-09-03"
        },
        {
         "Close": 0.2599050104618072,
         "macd_signal": 0,
         "aroon_signal": 0,
         "rsi_signal": 0,
         "ao_signal": 0,
         "bollinger_signal": 0,
         "Returns": -0.0122900782379032,
         "Binary Return": 0,
         "_deepnote_index_column": "2019-09-04"
        },
        {
         "Close": 0.2563459873199463,
         "macd_signal": 0,
         "aroon_signal": 0,
         "rsi_signal": 0,
         "ao_signal": 0,
         "bollinger_signal": 0,
         "Returns": -0.0136935534083668,
         "Binary Return": 0,
         "_deepnote_index_column": "2019-09-05"
        },
        {
         "Close": 0.2523399889469147,
         "macd_signal": 0,
         "aroon_signal": 0,
         "rsi_signal": 0,
         "ao_signal": 0,
         "bollinger_signal": 0,
         "Returns": -0.0156273106316726,
         "Binary Return": 0,
         "_deepnote_index_column": "2019-09-06"
        }
       ],
       "rows_bottom": null
      },
      "text/plain": "               Close  macd_signal  aroon_signal  rsi_signal  ao_signal  \\\nDate                                                                     \n2019-09-02  0.260820            0             0           0          0   \n2019-09-03  0.263139            1             0           1          0   \n2019-09-04  0.259905            0             0           0          0   \n2019-09-05  0.256346            0             0           0          0   \n2019-09-06  0.252340            0             0           0          0   \n\n            bollinger_signal   Returns  Binary Return  \nDate                                                   \n2019-09-02                 0  0.010719              1  \n2019-09-03                 0  0.008891              1  \n2019-09-04                 0 -0.012290              0  \n2019-09-05                 0 -0.013694              0  \n2019-09-06                 0 -0.015627              0  ",
      "text/html": "<div>\n<style scoped>\n    .dataframe tbody tr th:only-of-type {\n        vertical-align: middle;\n    }\n\n    .dataframe tbody tr th {\n        vertical-align: top;\n    }\n\n    .dataframe thead th {\n        text-align: right;\n    }\n</style>\n<table border=\"1\" class=\"dataframe\">\n  <thead>\n    <tr style=\"text-align: right;\">\n      <th></th>\n      <th>Close</th>\n      <th>macd_signal</th>\n      <th>aroon_signal</th>\n      <th>rsi_signal</th>\n      <th>ao_signal</th>\n      <th>bollinger_signal</th>\n      <th>Returns</th>\n      <th>Binary Return</th>\n    </tr>\n    <tr>\n      <th>Date</th>\n      <th></th>\n      <th></th>\n      <th></th>\n      <th></th>\n      <th></th>\n      <th></th>\n      <th></th>\n      <th></th>\n    </tr>\n  </thead>\n  <tbody>\n    <tr>\n      <th>2019-09-02</th>\n      <td>0.260820</td>\n      <td>0</td>\n      <td>0</td>\n      <td>0</td>\n      <td>0</td>\n      <td>0</td>\n      <td>0.010719</td>\n      <td>1</td>\n    </tr>\n    <tr>\n      <th>2019-09-03</th>\n      <td>0.263139</td>\n      <td>1</td>\n      <td>0</td>\n      <td>1</td>\n      <td>0</td>\n      <td>0</td>\n      <td>0.008891</td>\n      <td>1</td>\n    </tr>\n    <tr>\n      <th>2019-09-04</th>\n      <td>0.259905</td>\n      <td>0</td>\n      <td>0</td>\n      <td>0</td>\n      <td>0</td>\n      <td>0</td>\n      <td>-0.012290</td>\n      <td>0</td>\n    </tr>\n    <tr>\n      <th>2019-09-05</th>\n      <td>0.256346</td>\n      <td>0</td>\n      <td>0</td>\n      <td>0</td>\n      <td>0</td>\n      <td>0</td>\n      <td>-0.013694</td>\n      <td>0</td>\n    </tr>\n    <tr>\n      <th>2019-09-06</th>\n      <td>0.252340</td>\n      <td>0</td>\n      <td>0</td>\n      <td>0</td>\n      <td>0</td>\n      <td>0</td>\n      <td>-0.015627</td>\n      <td>0</td>\n    </tr>\n  </tbody>\n</table>\n</div>"
     },
     "metadata": {}
    }
   ],
   "execution_count": 2
  },
  {
   "cell_type": "code",
   "metadata": {
    "tags": [],
    "deepnote_to_be_reexecuted": false,
    "source_hash": "a1f909a3",
    "execution_start": 1629332136340,
    "execution_millis": 16,
    "cell_id": "00002-58603286-86f4-4e54-8d97-dc5242a250ba",
    "deepnote_cell_type": "code"
   },
   "source": "X = df.copy()\nX = X.drop(columns = ['Binary Return','Close','Returns'])\nX.head()",
   "outputs": [
    {
     "output_type": "execute_result",
     "execution_count": 3,
     "data": {
      "application/vnd.deepnote.dataframe.v2+json": {
       "row_count": 5,
       "column_count": 5,
       "columns": [
        {
         "name": "macd_signal",
         "dtype": "int64",
         "stats": {
          "unique_count": 2,
          "nan_count": 0,
          "min": "0",
          "max": "1",
          "histogram": [
           {
            "bin_start": 0,
            "bin_end": 0.1,
            "count": 4
           },
           {
            "bin_start": 0.1,
            "bin_end": 0.2,
            "count": 0
           },
           {
            "bin_start": 0.2,
            "bin_end": 0.30000000000000004,
            "count": 0
           },
           {
            "bin_start": 0.30000000000000004,
            "bin_end": 0.4,
            "count": 0
           },
           {
            "bin_start": 0.4,
            "bin_end": 0.5,
            "count": 0
           },
           {
            "bin_start": 0.5,
            "bin_end": 0.6000000000000001,
            "count": 0
           },
           {
            "bin_start": 0.6000000000000001,
            "bin_end": 0.7000000000000001,
            "count": 0
           },
           {
            "bin_start": 0.7000000000000001,
            "bin_end": 0.8,
            "count": 0
           },
           {
            "bin_start": 0.8,
            "bin_end": 0.9,
            "count": 0
           },
           {
            "bin_start": 0.9,
            "bin_end": 1,
            "count": 1
           }
          ]
         }
        },
        {
         "name": "aroon_signal",
         "dtype": "int64",
         "stats": {
          "unique_count": 1,
          "nan_count": 0,
          "min": "0",
          "max": "0",
          "histogram": [
           {
            "bin_start": -0.5,
            "bin_end": -0.4,
            "count": 0
           },
           {
            "bin_start": -0.4,
            "bin_end": -0.3,
            "count": 0
           },
           {
            "bin_start": -0.3,
            "bin_end": -0.19999999999999996,
            "count": 0
           },
           {
            "bin_start": -0.19999999999999996,
            "bin_end": -0.09999999999999998,
            "count": 0
           },
           {
            "bin_start": -0.09999999999999998,
            "bin_end": 0,
            "count": 0
           },
           {
            "bin_start": 0,
            "bin_end": 0.10000000000000009,
            "count": 5
           },
           {
            "bin_start": 0.10000000000000009,
            "bin_end": 0.20000000000000007,
            "count": 0
           },
           {
            "bin_start": 0.20000000000000007,
            "bin_end": 0.30000000000000004,
            "count": 0
           },
           {
            "bin_start": 0.30000000000000004,
            "bin_end": 0.4,
            "count": 0
           },
           {
            "bin_start": 0.4,
            "bin_end": 0.5,
            "count": 0
           }
          ]
         }
        },
        {
         "name": "rsi_signal",
         "dtype": "int64",
         "stats": {
          "unique_count": 2,
          "nan_count": 0,
          "min": "0",
          "max": "1",
          "histogram": [
           {
            "bin_start": 0,
            "bin_end": 0.1,
            "count": 4
           },
           {
            "bin_start": 0.1,
            "bin_end": 0.2,
            "count": 0
           },
           {
            "bin_start": 0.2,
            "bin_end": 0.30000000000000004,
            "count": 0
           },
           {
            "bin_start": 0.30000000000000004,
            "bin_end": 0.4,
            "count": 0
           },
           {
            "bin_start": 0.4,
            "bin_end": 0.5,
            "count": 0
           },
           {
            "bin_start": 0.5,
            "bin_end": 0.6000000000000001,
            "count": 0
           },
           {
            "bin_start": 0.6000000000000001,
            "bin_end": 0.7000000000000001,
            "count": 0
           },
           {
            "bin_start": 0.7000000000000001,
            "bin_end": 0.8,
            "count": 0
           },
           {
            "bin_start": 0.8,
            "bin_end": 0.9,
            "count": 0
           },
           {
            "bin_start": 0.9,
            "bin_end": 1,
            "count": 1
           }
          ]
         }
        },
        {
         "name": "ao_signal",
         "dtype": "int64",
         "stats": {
          "unique_count": 1,
          "nan_count": 0,
          "min": "0",
          "max": "0",
          "histogram": [
           {
            "bin_start": -0.5,
            "bin_end": -0.4,
            "count": 0
           },
           {
            "bin_start": -0.4,
            "bin_end": -0.3,
            "count": 0
           },
           {
            "bin_start": -0.3,
            "bin_end": -0.19999999999999996,
            "count": 0
           },
           {
            "bin_start": -0.19999999999999996,
            "bin_end": -0.09999999999999998,
            "count": 0
           },
           {
            "bin_start": -0.09999999999999998,
            "bin_end": 0,
            "count": 0
           },
           {
            "bin_start": 0,
            "bin_end": 0.10000000000000009,
            "count": 5
           },
           {
            "bin_start": 0.10000000000000009,
            "bin_end": 0.20000000000000007,
            "count": 0
           },
           {
            "bin_start": 0.20000000000000007,
            "bin_end": 0.30000000000000004,
            "count": 0
           },
           {
            "bin_start": 0.30000000000000004,
            "bin_end": 0.4,
            "count": 0
           },
           {
            "bin_start": 0.4,
            "bin_end": 0.5,
            "count": 0
           }
          ]
         }
        },
        {
         "name": "bollinger_signal",
         "dtype": "int64",
         "stats": {
          "unique_count": 1,
          "nan_count": 0,
          "min": "0",
          "max": "0",
          "histogram": [
           {
            "bin_start": -0.5,
            "bin_end": -0.4,
            "count": 0
           },
           {
            "bin_start": -0.4,
            "bin_end": -0.3,
            "count": 0
           },
           {
            "bin_start": -0.3,
            "bin_end": -0.19999999999999996,
            "count": 0
           },
           {
            "bin_start": -0.19999999999999996,
            "bin_end": -0.09999999999999998,
            "count": 0
           },
           {
            "bin_start": -0.09999999999999998,
            "bin_end": 0,
            "count": 0
           },
           {
            "bin_start": 0,
            "bin_end": 0.10000000000000009,
            "count": 5
           },
           {
            "bin_start": 0.10000000000000009,
            "bin_end": 0.20000000000000007,
            "count": 0
           },
           {
            "bin_start": 0.20000000000000007,
            "bin_end": 0.30000000000000004,
            "count": 0
           },
           {
            "bin_start": 0.30000000000000004,
            "bin_end": 0.4,
            "count": 0
           },
           {
            "bin_start": 0.4,
            "bin_end": 0.5,
            "count": 0
           }
          ]
         }
        },
        {
         "name": "_deepnote_index_column",
         "dtype": "object"
        }
       ],
       "rows_top": [
        {
         "macd_signal": 0,
         "aroon_signal": 0,
         "rsi_signal": 0,
         "ao_signal": 0,
         "bollinger_signal": 0,
         "_deepnote_index_column": "2019-09-02"
        },
        {
         "macd_signal": 1,
         "aroon_signal": 0,
         "rsi_signal": 1,
         "ao_signal": 0,
         "bollinger_signal": 0,
         "_deepnote_index_column": "2019-09-03"
        },
        {
         "macd_signal": 0,
         "aroon_signal": 0,
         "rsi_signal": 0,
         "ao_signal": 0,
         "bollinger_signal": 0,
         "_deepnote_index_column": "2019-09-04"
        },
        {
         "macd_signal": 0,
         "aroon_signal": 0,
         "rsi_signal": 0,
         "ao_signal": 0,
         "bollinger_signal": 0,
         "_deepnote_index_column": "2019-09-05"
        },
        {
         "macd_signal": 0,
         "aroon_signal": 0,
         "rsi_signal": 0,
         "ao_signal": 0,
         "bollinger_signal": 0,
         "_deepnote_index_column": "2019-09-06"
        }
       ],
       "rows_bottom": null
      },
      "text/plain": "            macd_signal  aroon_signal  rsi_signal  ao_signal  bollinger_signal\nDate                                                                          \n2019-09-02            0             0           0          0                 0\n2019-09-03            1             0           1          0                 0\n2019-09-04            0             0           0          0                 0\n2019-09-05            0             0           0          0                 0\n2019-09-06            0             0           0          0                 0",
      "text/html": "<div>\n<style scoped>\n    .dataframe tbody tr th:only-of-type {\n        vertical-align: middle;\n    }\n\n    .dataframe tbody tr th {\n        vertical-align: top;\n    }\n\n    .dataframe thead th {\n        text-align: right;\n    }\n</style>\n<table border=\"1\" class=\"dataframe\">\n  <thead>\n    <tr style=\"text-align: right;\">\n      <th></th>\n      <th>macd_signal</th>\n      <th>aroon_signal</th>\n      <th>rsi_signal</th>\n      <th>ao_signal</th>\n      <th>bollinger_signal</th>\n    </tr>\n    <tr>\n      <th>Date</th>\n      <th></th>\n      <th></th>\n      <th></th>\n      <th></th>\n      <th></th>\n    </tr>\n  </thead>\n  <tbody>\n    <tr>\n      <th>2019-09-02</th>\n      <td>0</td>\n      <td>0</td>\n      <td>0</td>\n      <td>0</td>\n      <td>0</td>\n    </tr>\n    <tr>\n      <th>2019-09-03</th>\n      <td>1</td>\n      <td>0</td>\n      <td>1</td>\n      <td>0</td>\n      <td>0</td>\n    </tr>\n    <tr>\n      <th>2019-09-04</th>\n      <td>0</td>\n      <td>0</td>\n      <td>0</td>\n      <td>0</td>\n      <td>0</td>\n    </tr>\n    <tr>\n      <th>2019-09-05</th>\n      <td>0</td>\n      <td>0</td>\n      <td>0</td>\n      <td>0</td>\n      <td>0</td>\n    </tr>\n    <tr>\n      <th>2019-09-06</th>\n      <td>0</td>\n      <td>0</td>\n      <td>0</td>\n      <td>0</td>\n      <td>0</td>\n    </tr>\n  </tbody>\n</table>\n</div>"
     },
     "metadata": {}
    }
   ],
   "execution_count": 3
  },
  {
   "cell_type": "code",
   "metadata": {
    "tags": [],
    "deepnote_to_be_reexecuted": false,
    "source_hash": "24867a23",
    "execution_start": 1629332136352,
    "execution_millis": 14,
    "cell_id": "00003-c5d485bc-95f8-40dc-bfb0-af248a3f1956",
    "deepnote_cell_type": "code"
   },
   "source": "y = df['Binary Return'].values\ny = y.reshape(-1,1)\ny[:5]",
   "outputs": [
    {
     "output_type": "execute_result",
     "execution_count": 4,
     "data": {
      "text/plain": "array([[1],\n       [1],\n       [0],\n       [0],\n       [0]])"
     },
     "metadata": {}
    }
   ],
   "execution_count": 4
  },
  {
   "cell_type": "code",
   "metadata": {
    "tags": [],
    "deepnote_to_be_reexecuted": false,
    "source_hash": "983f014",
    "execution_start": 1629332136402,
    "execution_millis": 0,
    "cell_id": "00004-8022c3bf-8c64-4037-8b11-6fb48129867b",
    "deepnote_cell_type": "code"
   },
   "source": "X_train, X_test, y_train, y_test = train_test_split(X, y, random_state=78)",
   "outputs": [],
   "execution_count": 5
  },
  {
   "cell_type": "code",
   "metadata": {
    "tags": [],
    "deepnote_to_be_reexecuted": false,
    "source_hash": "eb185e99",
    "execution_start": 1629332136403,
    "execution_millis": 0,
    "cell_id": "00005-cf48a50c-586d-45e3-b7f8-c7097c98d1b0",
    "deepnote_cell_type": "code"
   },
   "source": "X_scaler = StandardScaler()\nX_scaler.fit(X_train)\nX_train_scaled = X_scaler.transform(X_train)\nX_test_scaled = X_scaler.transform(X_test)",
   "outputs": [],
   "execution_count": 6
  },
  {
   "cell_type": "code",
   "metadata": {
    "tags": [],
    "deepnote_to_be_reexecuted": false,
    "source_hash": "cd53a962",
    "execution_start": 1629332136403,
    "execution_millis": 55,
    "cell_id": "00006-5bf249c2-3c19-4d1e-9992-73b5f395bf3b",
    "deepnote_cell_type": "code"
   },
   "source": "number_inputs = 5\nnumber_hidden_nodes = 69\n\nnn = Sequential()\nnn.add(Dense(units = number_hidden_nodes, input_dim = number_inputs, activation = 'relu'))\nnn.add(Dense(1, activation = 'sigmoid'))",
   "outputs": [
    {
     "name": "stderr",
     "text": "2021-08-19 00:15:36.393205: I tensorflow/compiler/jit/xla_cpu_device.cc:41] Not creating XLA devices, tf_xla_enable_xla_devices not set\n2021-08-19 00:15:36.393473: W tensorflow/stream_executor/platform/default/dso_loader.cc:60] Could not load dynamic library 'libcuda.so.1'; dlerror: libcuda.so.1: cannot open shared object file: No such file or directory\n2021-08-19 00:15:36.393489: W tensorflow/stream_executor/cuda/cuda_driver.cc:326] failed call to cuInit: UNKNOWN ERROR (303)\n2021-08-19 00:15:36.393513: I tensorflow/stream_executor/cuda/cuda_diagnostics.cc:156] kernel driver does not appear to be running on this host (p-d12c285c-6789-4c45-9ad7-1be9b4d60622): /proc/driver/nvidia/version does not exist\n2021-08-19 00:15:36.393742: I tensorflow/core/platform/cpu_feature_guard.cc:142] This TensorFlow binary is optimized with oneAPI Deep Neural Network Library (oneDNN) to use the following CPU instructions in performance-critical operations:  AVX2 FMA\nTo enable them in other operations, rebuild TensorFlow with the appropriate compiler flags.\n2021-08-19 00:15:36.393869: I tensorflow/compiler/jit/xla_gpu_device.cc:99] Not creating XLA devices, tf_xla_enable_xla_devices not set\n",
     "output_type": "stream"
    }
   ],
   "execution_count": 7
  },
  {
   "cell_type": "code",
   "metadata": {
    "tags": [],
    "deepnote_to_be_reexecuted": false,
    "source_hash": "63871a6d",
    "execution_start": 1629332136447,
    "execution_millis": 2,
    "cell_id": "00007-dd27af8a-d51b-44e3-8d50-e76700be2937",
    "deepnote_cell_type": "code"
   },
   "source": "nn.compile(loss = 'binary_crossentropy', optimizer = 'adam', metrics = ['accuracy'])",
   "outputs": [],
   "execution_count": 8
  },
  {
   "cell_type": "code",
   "metadata": {
    "tags": [],
    "deepnote_to_be_reexecuted": false,
    "source_hash": "394f8699",
    "execution_start": 1629332136497,
    "execution_millis": 5964,
    "cell_id": "00008-76f72433-e16e-475d-99b5-2d8d0c1a9f51",
    "deepnote_cell_type": "code"
   },
   "source": "model = nn.fit(X_train_scaled, y_train, epochs = 200)",
   "outputs": [
    {
     "name": "stderr",
     "text": "2021-08-19 00:15:36.498544: I tensorflow/compiler/mlir/mlir_graph_optimization_pass.cc:116] None of the MLIR optimization passes are enabled (registered 2)\n2021-08-19 00:15:36.499347: I tensorflow/core/platform/profile_utils/cpu_utils.cc:112] CPU Frequency: 2199970000 Hz\nEpoch 1/200\n17/17 [==============================] - 1s 1ms/step - loss: 0.6944 - accuracy: 0.5043\nEpoch 2/200\n17/17 [==============================] - 0s 1ms/step - loss: 0.6904 - accuracy: 0.5092\nEpoch 3/200\n17/17 [==============================] - 0s 1ms/step - loss: 0.6951 - accuracy: 0.5201\nEpoch 4/200\n17/17 [==============================] - 0s 1ms/step - loss: 0.6904 - accuracy: 0.5168\nEpoch 5/200\n17/17 [==============================] - 0s 1ms/step - loss: 0.6934 - accuracy: 0.5138\nEpoch 6/200\n17/17 [==============================] - 0s 1ms/step - loss: 0.6909 - accuracy: 0.5492\nEpoch 7/200\n17/17 [==============================] - 0s 1ms/step - loss: 0.6885 - accuracy: 0.5128\nEpoch 8/200\n17/17 [==============================] - 0s 1ms/step - loss: 0.6887 - accuracy: 0.5329\nEpoch 9/200\n17/17 [==============================] - 0s 1ms/step - loss: 0.6904 - accuracy: 0.5366\nEpoch 10/200\n17/17 [==============================] - 0s 1ms/step - loss: 0.6908 - accuracy: 0.5222\nEpoch 11/200\n17/17 [==============================] - 0s 2ms/step - loss: 0.6897 - accuracy: 0.5185\nEpoch 12/200\n17/17 [==============================] - 0s 2ms/step - loss: 0.6883 - accuracy: 0.5219\nEpoch 13/200\n17/17 [==============================] - 0s 1ms/step - loss: 0.6918 - accuracy: 0.5342\nEpoch 14/200\n17/17 [==============================] - 0s 1ms/step - loss: 0.6898 - accuracy: 0.5221\nEpoch 15/200\n17/17 [==============================] - 0s 1ms/step - loss: 0.6915 - accuracy: 0.5150\nEpoch 16/200\n17/17 [==============================] - 0s 1ms/step - loss: 0.6898 - accuracy: 0.5101\nEpoch 17/200\n17/17 [==============================] - 0s 1ms/step - loss: 0.6866 - accuracy: 0.5271\nEpoch 18/200\n17/17 [==============================] - 0s 1ms/step - loss: 0.6914 - accuracy: 0.5313\nEpoch 19/200\n17/17 [==============================] - 0s 1ms/step - loss: 0.6843 - accuracy: 0.5085\nEpoch 20/200\n17/17 [==============================] - 0s 1ms/step - loss: 0.6873 - accuracy: 0.5331\nEpoch 21/200\n17/17 [==============================] - 0s 1ms/step - loss: 0.6836 - accuracy: 0.5461\nEpoch 22/200\n17/17 [==============================] - 0s 1ms/step - loss: 0.6862 - accuracy: 0.5249\nEpoch 23/200\n17/17 [==============================] - 0s 1ms/step - loss: 0.6868 - accuracy: 0.5316\nEpoch 24/200\n17/17 [==============================] - 0s 1ms/step - loss: 0.6831 - accuracy: 0.5537\nEpoch 25/200\n17/17 [==============================] - 0s 2ms/step - loss: 0.6867 - accuracy: 0.5525\nEpoch 26/200\n17/17 [==============================] - 0s 2ms/step - loss: 0.6891 - accuracy: 0.5157\nEpoch 27/200\n17/17 [==============================] - 0s 2ms/step - loss: 0.6869 - accuracy: 0.5543\nEpoch 28/200\n17/17 [==============================] - 0s 1ms/step - loss: 0.6870 - accuracy: 0.5209\nEpoch 29/200\n17/17 [==============================] - 0s 1ms/step - loss: 0.6822 - accuracy: 0.5517\nEpoch 30/200\n17/17 [==============================] - 0s 1ms/step - loss: 0.6852 - accuracy: 0.5513\nEpoch 31/200\n17/17 [==============================] - 0s 1ms/step - loss: 0.6840 - accuracy: 0.5467\nEpoch 32/200\n17/17 [==============================] - 0s 1ms/step - loss: 0.6845 - accuracy: 0.5424\nEpoch 33/200\n17/17 [==============================] - 0s 1ms/step - loss: 0.6837 - accuracy: 0.5431\nEpoch 34/200\n17/17 [==============================] - 0s 1ms/step - loss: 0.6855 - accuracy: 0.5537\nEpoch 35/200\n17/17 [==============================] - 0s 1ms/step - loss: 0.6900 - accuracy: 0.5262\nEpoch 36/200\n17/17 [==============================] - 0s 1ms/step - loss: 0.6836 - accuracy: 0.5365\nEpoch 37/200\n17/17 [==============================] - 0s 1ms/step - loss: 0.6796 - accuracy: 0.5695\nEpoch 38/200\n17/17 [==============================] - 0s 1ms/step - loss: 0.6895 - accuracy: 0.5446\nEpoch 39/200\n17/17 [==============================] - 0s 1ms/step - loss: 0.6818 - accuracy: 0.5329\nEpoch 40/200\n17/17 [==============================] - 0s 1ms/step - loss: 0.6914 - accuracy: 0.5266\nEpoch 41/200\n17/17 [==============================] - 0s 1ms/step - loss: 0.6866 - accuracy: 0.5329\nEpoch 42/200\n17/17 [==============================] - 0s 1ms/step - loss: 0.6878 - accuracy: 0.5295\nEpoch 43/200\n17/17 [==============================] - 0s 1ms/step - loss: 0.6772 - accuracy: 0.5587\nEpoch 44/200\n17/17 [==============================] - 0s 1ms/step - loss: 0.6794 - accuracy: 0.5633\nEpoch 45/200\n17/17 [==============================] - 0s 1ms/step - loss: 0.6890 - accuracy: 0.5120\nEpoch 46/200\n17/17 [==============================] - 0s 1ms/step - loss: 0.6819 - accuracy: 0.5545\nEpoch 47/200\n17/17 [==============================] - 0s 1ms/step - loss: 0.6868 - accuracy: 0.5354\nEpoch 48/200\n17/17 [==============================] - 0s 1ms/step - loss: 0.6877 - accuracy: 0.5473\nEpoch 49/200\n17/17 [==============================] - 0s 2ms/step - loss: 0.6780 - accuracy: 0.5563\nEpoch 50/200\n17/17 [==============================] - 0s 2ms/step - loss: 0.6813 - accuracy: 0.5424\nEpoch 51/200\n17/17 [==============================] - 0s 1ms/step - loss: 0.6851 - accuracy: 0.5304\nEpoch 52/200\n17/17 [==============================] - 0s 1ms/step - loss: 0.6881 - accuracy: 0.5281\nEpoch 53/200\n17/17 [==============================] - 0s 1ms/step - loss: 0.6829 - accuracy: 0.5108\nEpoch 54/200\n17/17 [==============================] - 0s 1ms/step - loss: 0.6949 - accuracy: 0.5055\nEpoch 55/200\n17/17 [==============================] - 0s 1ms/step - loss: 0.6834 - accuracy: 0.5164\nEpoch 56/200\n17/17 [==============================] - 0s 1ms/step - loss: 0.6818 - accuracy: 0.5515\nEpoch 57/200\n17/17 [==============================] - 0s 1ms/step - loss: 0.6784 - accuracy: 0.5440\nEpoch 58/200\n17/17 [==============================] - 0s 1ms/step - loss: 0.6815 - accuracy: 0.5260\nEpoch 59/200\n17/17 [==============================] - 0s 1ms/step - loss: 0.6821 - accuracy: 0.5351\nEpoch 60/200\n17/17 [==============================] - 0s 1ms/step - loss: 0.6831 - accuracy: 0.5307\nEpoch 61/200\n17/17 [==============================] - 0s 1ms/step - loss: 0.6812 - accuracy: 0.5372\nEpoch 62/200\n17/17 [==============================] - 0s 1ms/step - loss: 0.6855 - accuracy: 0.5090\nEpoch 63/200\n17/17 [==============================] - 0s 1ms/step - loss: 0.6885 - accuracy: 0.4956\nEpoch 64/200\n17/17 [==============================] - 0s 2ms/step - loss: 0.6814 - accuracy: 0.5510\nEpoch 65/200\n17/17 [==============================] - 0s 3ms/step - loss: 0.6789 - accuracy: 0.5420\nIOPub message rate exceeded.\nThe notebook server will temporarily stop sending output\nto the client in order to avoid crashing it.\nTo change this limit, set the config variable\n`--NotebookApp.iopub_msg_rate_limit`.\n\nCurrent values:\nNotebookApp.iopub_msg_rate_limit=50.0 (msgs/sec)\nNotebookApp.rate_limit_window=3.0 (secs)\n\n17/17 [==============================] - 0s 2ms/step - loss: 0.6854 - accuracy: 0.5240\nEpoch 123/200\n17/17 [==============================] - 0s 1ms/step - loss: 0.6873 - accuracy: 0.5280\nEpoch 124/200\n17/17 [==============================] - 0s 1ms/step - loss: 0.6779 - accuracy: 0.5642\nEpoch 125/200\n17/17 [==============================] - 0s 1ms/step - loss: 0.6775 - accuracy: 0.5632\nEpoch 126/200\n17/17 [==============================] - 0s 1ms/step - loss: 0.6812 - accuracy: 0.5094\nEpoch 127/200\n17/17 [==============================] - 0s 1ms/step - loss: 0.6793 - accuracy: 0.5481\nEpoch 128/200\n17/17 [==============================] - 0s 1ms/step - loss: 0.6795 - accuracy: 0.5438\nEpoch 129/200\n17/17 [==============================] - 0s 1ms/step - loss: 0.6800 - accuracy: 0.5408\nEpoch 130/200\n17/17 [==============================] - 0s 1ms/step - loss: 0.6842 - accuracy: 0.5237\nEpoch 131/200\n17/17 [==============================] - 0s 1ms/step - loss: 0.6683 - accuracy: 0.5532\nEpoch 132/200\n17/17 [==============================] - 0s 1ms/step - loss: 0.6815 - accuracy: 0.5147\nEpoch 133/200\n17/17 [==============================] - 0s 1ms/step - loss: 0.6796 - accuracy: 0.5463\nEpoch 134/200\n17/17 [==============================] - 0s 1ms/step - loss: 0.6785 - accuracy: 0.5388\nEpoch 135/200\n17/17 [==============================] - 0s 1ms/step - loss: 0.6693 - accuracy: 0.5513\nEpoch 136/200\n17/17 [==============================] - 0s 1ms/step - loss: 0.6691 - accuracy: 0.5507\nEpoch 137/200\n17/17 [==============================] - 0s 1ms/step - loss: 0.6822 - accuracy: 0.5227\nEpoch 138/200\n17/17 [==============================] - 0s 1ms/step - loss: 0.6758 - accuracy: 0.5424\nEpoch 139/200\n17/17 [==============================] - 0s 1ms/step - loss: 0.6770 - accuracy: 0.5479\nEpoch 140/200\n17/17 [==============================] - 0s 1ms/step - loss: 0.6824 - accuracy: 0.5375\nEpoch 141/200\n17/17 [==============================] - 0s 1ms/step - loss: 0.6703 - accuracy: 0.5539\nEpoch 142/200\n17/17 [==============================] - 0s 1ms/step - loss: 0.6745 - accuracy: 0.5532\nEpoch 143/200\n17/17 [==============================] - 0s 1ms/step - loss: 0.6791 - accuracy: 0.5307\nEpoch 144/200\n17/17 [==============================] - 0s 1ms/step - loss: 0.6796 - accuracy: 0.5469\nEpoch 145/200\n17/17 [==============================] - 0s 1ms/step - loss: 0.6833 - accuracy: 0.5546\nEpoch 146/200\n17/17 [==============================] - 0s 1ms/step - loss: 0.6789 - accuracy: 0.5468\nEpoch 147/200\n17/17 [==============================] - 0s 1ms/step - loss: 0.6764 - accuracy: 0.5402\nEpoch 148/200\n17/17 [==============================] - 0s 1ms/step - loss: 0.6768 - accuracy: 0.5059\nEpoch 149/200\n17/17 [==============================] - 0s 1ms/step - loss: 0.6802 - accuracy: 0.5479\nEpoch 150/200\n17/17 [==============================] - 0s 1ms/step - loss: 0.6824 - accuracy: 0.5500\nEpoch 151/200\n17/17 [==============================] - 0s 1ms/step - loss: 0.6827 - accuracy: 0.5339\nEpoch 152/200\n17/17 [==============================] - 0s 1ms/step - loss: 0.6630 - accuracy: 0.5488\nEpoch 153/200\n17/17 [==============================] - 0s 1ms/step - loss: 0.6768 - accuracy: 0.5413\nEpoch 154/200\n17/17 [==============================] - 0s 1ms/step - loss: 0.6820 - accuracy: 0.5170\nEpoch 155/200\n17/17 [==============================] - 0s 1ms/step - loss: 0.6837 - accuracy: 0.4834\nEpoch 156/200\n17/17 [==============================] - 0s 1ms/step - loss: 0.6734 - accuracy: 0.5855\nEpoch 157/200\n17/17 [==============================] - 0s 1ms/step - loss: 0.6793 - accuracy: 0.5592\nEpoch 158/200\n17/17 [==============================] - 0s 2ms/step - loss: 0.6794 - accuracy: 0.5593\nEpoch 159/200\n17/17 [==============================] - 0s 1ms/step - loss: 0.6777 - accuracy: 0.5512\nEpoch 160/200\n17/17 [==============================] - 0s 1ms/step - loss: 0.6839 - accuracy: 0.5207\nEpoch 161/200\n17/17 [==============================] - 0s 1ms/step - loss: 0.6747 - accuracy: 0.5336\nEpoch 162/200\n17/17 [==============================] - 0s 2ms/step - loss: 0.6744 - accuracy: 0.5424\nEpoch 163/200\n17/17 [==============================] - 0s 1ms/step - loss: 0.6826 - accuracy: 0.5215\nEpoch 164/200\n17/17 [==============================] - 0s 1ms/step - loss: 0.6772 - accuracy: 0.5646\nEpoch 165/200\n17/17 [==============================] - 0s 1ms/step - loss: 0.6793 - accuracy: 0.5617\nEpoch 166/200\n17/17 [==============================] - 0s 1ms/step - loss: 0.6769 - accuracy: 0.5373\nEpoch 167/200\n17/17 [==============================] - 0s 1ms/step - loss: 0.6785 - accuracy: 0.5253\nEpoch 168/200\n17/17 [==============================] - 0s 1ms/step - loss: 0.6729 - accuracy: 0.5161\nEpoch 169/200\n17/17 [==============================] - 0s 1ms/step - loss: 0.6867 - accuracy: 0.5226\nEpoch 170/200\n17/17 [==============================] - 0s 1ms/step - loss: 0.6778 - accuracy: 0.5447\nEpoch 171/200\n17/17 [==============================] - 0s 3ms/step - loss: 0.6740 - accuracy: 0.5568\nEpoch 172/200\n17/17 [==============================] - 0s 2ms/step - loss: 0.6819 - accuracy: 0.5399\nEpoch 173/200\n17/17 [==============================] - 0s 1ms/step - loss: 0.6742 - accuracy: 0.5388\nEpoch 174/200\n17/17 [==============================] - 0s 1ms/step - loss: 0.6850 - accuracy: 0.5064\nEpoch 175/200\n17/17 [==============================] - 0s 1ms/step - loss: 0.6772 - accuracy: 0.5690\nEpoch 176/200\n17/17 [==============================] - 0s 1ms/step - loss: 0.6733 - accuracy: 0.5416\nEpoch 177/200\n17/17 [==============================] - 0s 1ms/step - loss: 0.6750 - accuracy: 0.5790\nEpoch 178/200\n17/17 [==============================] - 0s 1ms/step - loss: 0.6810 - accuracy: 0.5334\nEpoch 179/200\n17/17 [==============================] - 0s 1ms/step - loss: 0.6895 - accuracy: 0.5105\nEpoch 180/200\n17/17 [==============================] - 0s 1ms/step - loss: 0.6815 - accuracy: 0.5455\nEpoch 181/200\n17/17 [==============================] - 0s 2ms/step - loss: 0.6709 - accuracy: 0.5455\nEpoch 182/200\n17/17 [==============================] - 0s 1ms/step - loss: 0.6738 - accuracy: 0.5718\nEpoch 183/200\n17/17 [==============================] - 0s 1ms/step - loss: 0.6764 - accuracy: 0.5493\nEpoch 184/200\n17/17 [==============================] - 0s 1ms/step - loss: 0.6803 - accuracy: 0.5506\nEpoch 185/200\n17/17 [==============================] - 0s 1ms/step - loss: 0.6829 - accuracy: 0.5654\nEpoch 186/200\n17/17 [==============================] - 0s 1ms/step - loss: 0.6884 - accuracy: 0.5425\nEpoch 187/200\n17/17 [==============================] - 0s 1ms/step - loss: 0.6780 - accuracy: 0.5187\nEpoch 188/200\n17/17 [==============================] - 0s 1ms/step - loss: 0.6780 - accuracy: 0.5379\nEpoch 189/200\n17/17 [==============================] - 0s 1ms/step - loss: 0.6788 - accuracy: 0.5635\nEpoch 190/200\n17/17 [==============================] - 0s 1ms/step - loss: 0.6736 - accuracy: 0.5313\nEpoch 191/200\n17/17 [==============================] - 0s 1ms/step - loss: 0.6795 - accuracy: 0.5429\nEpoch 192/200\n 1/17 [>.............................] - ETA: 0s - loss: 0.6728 - accuracy: 0.5000IOPub message rate exceeded.\nThe notebook server will temporarily stop sending output\nto the client in order to avoid crashing it.\nTo change this limit, set the config variable\n`--NotebookApp.iopub_msg_rate_limit`.\n\nCurrent values:\nNotebookApp.iopub_msg_rate_limit=50.0 (msgs/sec)\nNotebookApp.rate_limit_window=3.0 (secs)\n\n",
     "output_type": "stream"
    }
   ],
   "execution_count": 9
  },
  {
   "cell_type": "code",
   "metadata": {
    "tags": [],
    "deepnote_to_be_reexecuted": false,
    "source_hash": "5d3251d3",
    "execution_start": 1629332142471,
    "execution_millis": 280,
    "cell_id": "00009-ccd33da1-e86d-4c35-8380-5a031bcea17e",
    "deepnote_cell_type": "code"
   },
   "source": "df_plot = pd.DataFrame(model.history, index = range(1, len(model.history['loss'])+ 1))\n\ndf_plot.plot(y='loss')",
   "outputs": [
    {
     "output_type": "execute_result",
     "execution_count": 10,
     "data": {
      "text/plain": "<AxesSubplot:>"
     },
     "metadata": {}
    },
    {
     "data": {
      "text/plain": "<Figure size 432x288 with 1 Axes>",
      "image/png": "[encoded data removed]"
     },
     "metadata": {
      "needs_background": "light",
      "image/png": {
       "width": 384,
       "height": 248
      }
     },
     "output_type": "display_data"
    }
   ],
   "execution_count": 10
  },
  {
   "cell_type": "code",
   "metadata": {
    "tags": [],
    "deepnote_to_be_reexecuted": false,
    "source_hash": "4686e7e4",
    "execution_start": 1629332142779,
    "execution_millis": 240,
    "cell_id": "00010-6408a1ca-3ef0-41aa-b072-b5ffc3e9a7f6",
    "deepnote_cell_type": "code"
   },
   "source": "df_plot.plot(y='accuracy')",
   "outputs": [
    {
     "output_type": "execute_result",
     "execution_count": 11,
     "data": {
      "text/plain": "<AxesSubplot:>"
     },
     "metadata": {}
    },
    {
     "data": {
      "text/plain": "<Figure size 432x288 with 1 Axes>",
      "image/png": "[encoded data removed]"
     },
     "metadata": {
      "needs_background": "light",
      "image/png": {
       "width": 378,
       "height": 248
      }
     },
     "output_type": "display_data"
    }
   ],
   "execution_count": 11
  },
  {
   "cell_type": "code",
   "metadata": {
    "tags": [],
    "deepnote_to_be_reexecuted": false,
    "source_hash": "4a1c37cf",
    "execution_start": 1629332143015,
    "execution_millis": 195,
    "cell_id": "00011-f73e24be-8ec2-4990-8180-eccb9fb4d195",
    "deepnote_cell_type": "code"
   },
   "source": "model_loss, model_accuracy = nn.evaluate(X_test_scaled, y_test, verbose = 2)\nprint(f\"Loss: {model_loss}, Accuracy: {model_accuracy}\")",
   "outputs": [
    {
     "name": "stdout",
     "text": "6/6 - 0s - loss: 0.7021 - accuracy: 0.5028\nLoss: 0.7021497488021851, Accuracy: 0.5028248429298401\n",
     "output_type": "stream"
    }
   ],
   "execution_count": 12
  },
  {
   "cell_type": "code",
   "source": "",
   "metadata": {
    "tags": [],
    "cell_id": "00012-4a3b8893-b97a-410a-a102-483598ae8c75",
    "deepnote_to_be_reexecuted": false,
    "source_hash": "b623e53d",
    "execution_start": 1629332143246,
    "execution_millis": 0,
    "deepnote_cell_type": "code"
   },
   "outputs": [],
   "execution_count": 12
  },
  {
   "cell_type": "markdown",
   "source": "<a style='text-decoration:none;line-height:16px;display:flex;color:#5B5B62;padding:10px;justify-content:end;' href='https://deepnote.com?utm_source=created-in-deepnote-cell&projectId=d12c285c-6789-4c45-9ad7-1be9b4d60622' target=\"_blank\">\n<img alt='Created in deepnote.com' style='display:inline;max-height:16px;margin:0px;margin-right:7.5px;' src='data:image/svg+xml;base64,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' > </img>\nCreated in <span style='font-weight:600;margin-left:4px;'>Deepnote</span></a>",
   "metadata": {
    "tags": [],
    "created_in_deepnote_cell": true,
    "deepnote_cell_type": "markdown"
   }
  }
 ],
 "nbformat": 4,
 "nbformat_minor": 2,
 "metadata": {
  "orig_nbformat": 2,
  "deepnote": {
   "is_reactive": false
  },
  "deepnote_notebook_id": "6e64f692-1aad-48e9-94a3-3398f43c09da",
  "deepnote_execution_queue": []
 }
}