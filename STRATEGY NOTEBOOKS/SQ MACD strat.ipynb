{
 "cells": [
  {
   "cell_type": "code",
   "metadata": {
    "tags": [],
    "cell_id": "00000-b52fd5fc-296a-4ddf-9883-e1a9d8bc4f50",
    "deepnote_to_be_reexecuted": false,
    "source_hash": "d7395ec9",
    "execution_start": 1628646911170,
    "execution_millis": 413,
    "deepnote_cell_type": "code"
   },
   "source": "import requests\nimport pandas as pd\nimport numpy as np\nfrom math import floor\nfrom termcolor import colored as cl\nimport matplotlib.pyplot as plt\nimport yfinance as yf\nplt.rcParams['figure.figsize'] = (20, 10)\nplt.style.use('fivethirtyeight')",
   "outputs": [],
   "execution_count": 1
  },
  {
   "cell_type": "code",
   "metadata": {
    "tags": [],
    "cell_id": "00001-e435a927-51a7-4d64-af4c-8f1dcc1bc090",
    "deepnote_to_be_reexecuted": false,
    "source_hash": "50e93f44",
    "execution_start": 1628646911587,
    "execution_millis": 577,
    "deepnote_cell_type": "code"
   },
   "source": "sq_1hr = yf.download(tickers='SQ', start='2019-09-01', interval='1h')\nsq_1hr.drop(columns = ['Open','High','Low','Adj Close','Volume'], inplace = True)\n# sq_1hr.reset_index(inplace = True)\n# sq_1hr.rename(columns = {'index' : 'DateTime'}, inplace = True)\n# sq_1hr.set_index(pd.to_datetime(sq_1hr['DateTime'], infer_datetime_format = True), inplace = True)\n# sq_1hr.drop(columns = 'DateTime', inplace = True)\nsq_1hr",
   "outputs": [
    {
     "name": "stdout",
     "text": "[*********************100%***********************]  1 of 1 completed\n",
     "output_type": "stream"
    },
    {
     "output_type": "execute_result",
     "execution_count": 2,
     "data": {
      "application/vnd.deepnote.dataframe.v2+json": {
       "row_count": 3411,
       "column_count": 1,
       "columns": [
        {
         "name": "Close",
         "dtype": "float64",
         "stats": {
          "unique_count": 3152,
          "nan_count": 0,
          "min": "33.119998931884766",
          "max": "287.32000732421875",
          "histogram": [
           {
            "bin_start": 33.119998931884766,
            "bin_end": 58.53999977111816,
            "count": 199
           },
           {
            "bin_start": 58.53999977111816,
            "bin_end": 83.96000061035156,
            "count": 1097
           },
           {
            "bin_start": 83.96000061035156,
            "bin_end": 109.38000144958497,
            "count": 161
           },
           {
            "bin_start": 109.38000144958497,
            "bin_end": 134.80000228881835,
            "count": 158
           },
           {
            "bin_start": 134.80000228881835,
            "bin_end": 160.22000312805176,
            "count": 277
           },
           {
            "bin_start": 160.22000312805176,
            "bin_end": 185.64000396728517,
            "count": 186
           },
           {
            "bin_start": 185.64000396728517,
            "bin_end": 211.06000480651855,
            "count": 245
           },
           {
            "bin_start": 211.06000480651855,
            "bin_end": 236.48000564575196,
            "count": 548
           },
           {
            "bin_start": 236.48000564575196,
            "bin_end": 261.9000064849854,
            "count": 401
           },
           {
            "bin_start": 261.9000064849854,
            "bin_end": 287.32000732421875,
            "count": 139
           }
          ]
         }
        },
        {
         "name": "_deepnote_index_column",
         "dtype": "datetime64[ns, America/New_York]"
        }
       ],
       "rows_top": [
        {
         "Close": 62.959999084472656,
         "_deepnote_index_column": "2019-09-03T09:30:00.000000"
        },
        {
         "Close": 62.31999969482422,
         "_deepnote_index_column": "2019-09-03T10:30:00.000000"
        },
        {
         "Close": 62,
         "_deepnote_index_column": "2019-09-03T11:30:00.000000"
        },
        {
         "Close": 61.774898529052734,
         "_deepnote_index_column": "2019-09-03T12:30:00.000000"
        },
        {
         "Close": 61.36000061035156,
         "_deepnote_index_column": "2019-09-03T13:30:00.000000"
        },
        {
         "Close": 61.125,
         "_deepnote_index_column": "2019-09-03T14:30:00.000000"
        },
        {
         "Close": 61.13999938964844,
         "_deepnote_index_column": "2019-09-03T15:30:00.000000"
        },
        {
         "Close": 61.93000030517578,
         "_deepnote_index_column": "2019-09-04T09:30:00.000000"
        },
        {
         "Close": 62.02000045776367,
         "_deepnote_index_column": "2019-09-04T10:30:00.000000"
        },
        {
         "Close": 61.41999816894531,
         "_deepnote_index_column": "2019-09-04T11:30:00.000000"
        },
        {
         "Close": 61.07500076293945,
         "_deepnote_index_column": "2019-09-04T12:30:00.000000"
        },
        {
         "Close": 61.11000061035156,
         "_deepnote_index_column": "2019-09-04T13:30:00.000000"
        },
        {
         "Close": 61.040000915527344,
         "_deepnote_index_column": "2019-09-04T14:30:00.000000"
        },
        {
         "Close": 61.08000183105469,
         "_deepnote_index_column": "2019-09-04T15:30:00.000000"
        },
        {
         "Close": 63.08250045776367,
         "_deepnote_index_column": "2019-09-05T09:30:00.000000"
        },
        {
         "Close": 62.67900085449219,
         "_deepnote_index_column": "2019-09-05T10:30:00.000000"
        },
        {
         "Close": 62.45280075073242,
         "_deepnote_index_column": "2019-09-05T11:30:00.000000"
        },
        {
         "Close": 62.83000183105469,
         "_deepnote_index_column": "2019-09-05T12:30:00.000000"
        },
        {
         "Close": 62.95500183105469,
         "_deepnote_index_column": "2019-09-05T13:30:00.000000"
        },
        {
         "Close": 63.150001525878906,
         "_deepnote_index_column": "2019-09-05T14:30:00.000000"
        },
        {
         "Close": 63.04499816894531,
         "_deepnote_index_column": "2019-09-05T15:30:00.000000"
        },
        {
         "Close": 63.31999969482422,
         "_deepnote_index_column": "2019-09-06T09:30:00.000000"
        },
        {
         "Close": 62.97610092163086,
         "_deepnote_index_column": "2019-09-06T10:30:00.000000"
        },
        {
         "Close": 63.279998779296875,
         "_deepnote_index_column": "2019-09-06T11:30:00.000000"
        },
        {
         "Close": 62.97600173950195,
         "_deepnote_index_column": "2019-09-06T12:30:00.000000"
        },
        {
         "Close": 62.650001525878906,
         "_deepnote_index_column": "2019-09-06T13:30:00.000000"
        },
        {
         "Close": 62.30500030517578,
         "_deepnote_index_column": "2019-09-06T14:30:00.000000"
        },
        {
         "Close": 61.97999954223633,
         "_deepnote_index_column": "2019-09-06T15:30:00.000000"
        },
        {
         "Close": 61.70000076293945,
         "_deepnote_index_column": "2019-09-09T09:30:00.000000"
        },
        {
         "Close": 61.68000030517578,
         "_deepnote_index_column": "2019-09-09T10:30:00.000000"
        },
        {
         "Close": 60.95000076293945,
         "_deepnote_index_column": "2019-09-09T11:30:00.000000"
        },
        {
         "Close": 59.92499923706055,
         "_deepnote_index_column": "2019-09-09T12:30:00.000000"
        },
        {
         "Close": 59.752201080322266,
         "_deepnote_index_column": "2019-09-09T13:30:00.000000"
        },
        {
         "Close": 60.86000061035156,
         "_deepnote_index_column": "2019-09-09T14:30:00.000000"
        },
        {
         "Close": 61.45000076293945,
         "_deepnote_index_column": "2019-09-09T15:30:00.000000"
        },
        {
         "Close": 61.380001068115234,
         "_deepnote_index_column": "2019-09-10T09:30:00.000000"
        },
        {
         "Close": 61.207298278808594,
         "_deepnote_index_column": "2019-09-10T10:30:00.000000"
        },
        {
         "Close": 61.38999938964844,
         "_deepnote_index_column": "2019-09-10T11:30:00.000000"
        },
        {
         "Close": 61.15800094604492,
         "_deepnote_index_column": "2019-09-10T12:30:00.000000"
        },
        {
         "Close": 60.58000183105469,
         "_deepnote_index_column": "2019-09-10T13:30:00.000000"
        },
        {
         "Close": 60.4900016784668,
         "_deepnote_index_column": "2019-09-10T14:30:00.000000"
        },
        {
         "Close": 60.5,
         "_deepnote_index_column": "2019-09-10T15:30:00.000000"
        },
        {
         "Close": 60.45000076293945,
         "_deepnote_index_column": "2019-09-11T09:30:00.000000"
        },
        {
         "Close": 59.97999954223633,
         "_deepnote_index_column": "2019-09-11T10:30:00.000000"
        },
        {
         "Close": 60.22999954223633,
         "_deepnote_index_column": "2019-09-11T11:30:00.000000"
        },
        {
         "Close": 60.201499938964844,
         "_deepnote_index_column": "2019-09-11T12:30:00.000000"
        },
        {
         "Close": 59.69340133666992,
         "_deepnote_index_column": "2019-09-11T13:30:00.000000"
        },
        {
         "Close": 59.014198303222656,
         "_deepnote_index_column": "2019-09-11T14:30:00.000000"
        },
        {
         "Close": 59.18000030517578,
         "_deepnote_index_column": "2019-09-11T15:30:00.000000"
        },
        {
         "Close": 58.959598541259766,
         "_deepnote_index_column": "2019-09-12T09:30:00.000000"
        },
        {
         "Close": 58.560001373291016,
         "_deepnote_index_column": "2019-09-12T10:30:00.000000"
        },
        {
         "Close": 58.310001373291016,
         "_deepnote_index_column": "2019-09-12T11:30:00.000000"
        },
        {
         "Close": 58.2400016784668,
         "_deepnote_index_column": "2019-09-12T12:30:00.000000"
        },
        {
         "Close": 58,
         "_deepnote_index_column": "2019-09-12T13:30:00.000000"
        },
        {
         "Close": 58.095001220703125,
         "_deepnote_index_column": "2019-09-12T14:30:00.000000"
        },
        {
         "Close": 57.790000915527344,
         "_deepnote_index_column": "2019-09-12T15:30:00.000000"
        },
        {
         "Close": 58.22999954223633,
         "_deepnote_index_column": "2019-09-13T09:30:00.000000"
        },
        {
         "Close": 58.279998779296875,
         "_deepnote_index_column": "2019-09-13T10:30:00.000000"
        },
        {
         "Close": 58.7599983215332,
         "_deepnote_index_column": "2019-09-13T11:30:00.000000"
        },
        {
         "Close": 58.483699798583984,
         "_deepnote_index_column": "2019-09-13T12:30:00.000000"
        },
        {
         "Close": 58.1349983215332,
         "_deepnote_index_column": "2019-09-13T13:30:00.000000"
        },
        {
         "Close": 58.290000915527344,
         "_deepnote_index_column": "2019-09-13T14:30:00.000000"
        },
        {
         "Close": 58.31999969482422,
         "_deepnote_index_column": "2019-09-13T15:30:00.000000"
        },
        {
         "Close": 57.529998779296875,
         "_deepnote_index_column": "2019-09-16T09:30:00.000000"
        },
        {
         "Close": 58.02510070800781,
         "_deepnote_index_column": "2019-09-16T10:30:00.000000"
        },
        {
         "Close": 58.14889907836914,
         "_deepnote_index_column": "2019-09-16T11:30:00.000000"
        },
        {
         "Close": 59.494998931884766,
         "_deepnote_index_column": "2019-09-16T12:30:00.000000"
        },
        {
         "Close": 59.470001220703125,
         "_deepnote_index_column": "2019-09-16T13:30:00.000000"
        },
        {
         "Close": 59.31999969482422,
         "_deepnote_index_column": "2019-09-16T14:30:00.000000"
        },
        {
         "Close": 59.25,
         "_deepnote_index_column": "2019-09-16T15:30:00.000000"
        },
        {
         "Close": 59.65999984741211,
         "_deepnote_index_column": "2019-09-17T09:30:00.000000"
        },
        {
         "Close": 59.529998779296875,
         "_deepnote_index_column": "2019-09-17T10:30:00.000000"
        },
        {
         "Close": 59.63999938964844,
         "_deepnote_index_column": "2019-09-17T11:30:00.000000"
        },
        {
         "Close": 59.40999984741211,
         "_deepnote_index_column": "2019-09-17T12:30:00.000000"
        },
        {
         "Close": 59.349998474121094,
         "_deepnote_index_column": "2019-09-17T13:30:00.000000"
        },
        {
         "Close": 59.54999923706055,
         "_deepnote_index_column": "2019-09-17T14:30:00.000000"
        },
        {
         "Close": 59.540000915527344,
         "_deepnote_index_column": "2019-09-17T15:30:00.000000"
        },
        {
         "Close": 59.77000045776367,
         "_deepnote_index_column": "2019-09-18T09:30:00.000000"
        },
        {
         "Close": 59.41999816894531,
         "_deepnote_index_column": "2019-09-18T10:30:00.000000"
        },
        {
         "Close": 59.27000045776367,
         "_deepnote_index_column": "2019-09-18T11:30:00.000000"
        },
        {
         "Close": 59.165000915527344,
         "_deepnote_index_column": "2019-09-18T12:30:00.000000"
        },
        {
         "Close": 58.9900016784668,
         "_deepnote_index_column": "2019-09-18T13:30:00.000000"
        },
        {
         "Close": 59.540000915527344,
         "_deepnote_index_column": "2019-09-18T14:30:00.000000"
        },
        {
         "Close": 59.72999954223633,
         "_deepnote_index_column": "2019-09-18T15:30:00.000000"
        },
        {
         "Close": 59.75,
         "_deepnote_index_column": "2019-09-19T09:30:00.000000"
        },
        {
         "Close": 59.709999084472656,
         "_deepnote_index_column": "2019-09-19T10:30:00.000000"
        },
        {
         "Close": 58.77109909057617,
         "_deepnote_index_column": "2019-09-19T11:30:00.000000"
        },
        {
         "Close": 58.7599983215332,
         "_deepnote_index_column": "2019-09-19T12:30:00.000000"
        },
        {
         "Close": 58.86009979248047,
         "_deepnote_index_column": "2019-09-19T13:30:00.000000"
        },
        {
         "Close": 58.900001525878906,
         "_deepnote_index_column": "2019-09-19T14:30:00.000000"
        },
        {
         "Close": 59.029998779296875,
         "_deepnote_index_column": "2019-09-19T15:30:00.000000"
        },
        {
         "Close": 58.279998779296875,
         "_deepnote_index_column": "2019-09-20T09:30:00.000000"
        },
        {
         "Close": 57.685001373291016,
         "_deepnote_index_column": "2019-09-20T10:30:00.000000"
        },
        {
         "Close": 57.41999816894531,
         "_deepnote_index_column": "2019-09-20T11:30:00.000000"
        },
        {
         "Close": 57.34000015258789,
         "_deepnote_index_column": "2019-09-20T12:30:00.000000"
        },
        {
         "Close": 57.45000076293945,
         "_deepnote_index_column": "2019-09-20T13:30:00.000000"
        },
        {
         "Close": 57.88010025024414,
         "_deepnote_index_column": "2019-09-20T14:30:00.000000"
        },
        {
         "Close": 57.83000183105469,
         "_deepnote_index_column": "2019-09-20T15:30:00.000000"
        },
        {
         "Close": 56.650001525878906,
         "_deepnote_index_column": "2019-09-23T09:30:00.000000"
        },
        {
         "Close": 56.790000915527344,
         "_deepnote_index_column": "2019-09-23T10:30:00.000000"
        },
        {
         "Close": 57,
         "_deepnote_index_column": "2019-09-23T11:30:00.000000"
        },
        {
         "Close": 56.689998626708984,
         "_deepnote_index_column": "2019-09-23T12:30:00.000000"
        },
        {
         "Close": 56.6599006652832,
         "_deepnote_index_column": "2019-09-23T13:30:00.000000"
        },
        {
         "Close": 56.7598991394043,
         "_deepnote_index_column": "2019-09-23T14:30:00.000000"
        },
        {
         "Close": 56.75,
         "_deepnote_index_column": "2019-09-23T15:30:00.000000"
        },
        {
         "Close": 56.790000915527344,
         "_deepnote_index_column": "2019-09-24T09:30:00.000000"
        },
        {
         "Close": 57.70000076293945,
         "_deepnote_index_column": "2019-09-24T10:30:00.000000"
        },
        {
         "Close": 56.25,
         "_deepnote_index_column": "2019-09-24T11:30:00.000000"
        },
        {
         "Close": 56.20000076293945,
         "_deepnote_index_column": "2019-09-24T12:30:00.000000"
        },
        {
         "Close": 57.09000015258789,
         "_deepnote_index_column": "2019-09-24T13:30:00.000000"
        },
        {
         "Close": 56.86000061035156,
         "_deepnote_index_column": "2019-09-24T14:30:00.000000"
        },
        {
         "Close": 57.529998779296875,
         "_deepnote_index_column": "2019-09-24T15:30:00.000000"
        },
        {
         "Close": 57.25,
         "_deepnote_index_column": "2019-09-25T09:30:00.000000"
        },
        {
         "Close": 57.900001525878906,
         "_deepnote_index_column": "2019-09-25T10:30:00.000000"
        },
        {
         "Close": 57.95000076293945,
         "_deepnote_index_column": "2019-09-25T11:30:00.000000"
        },
        {
         "Close": 57.9900016784668,
         "_deepnote_index_column": "2019-09-25T12:30:00.000000"
        },
        {
         "Close": 58.35639953613281,
         "_deepnote_index_column": "2019-09-25T13:30:00.000000"
        },
        {
         "Close": 58.80500030517578,
         "_deepnote_index_column": "2019-09-25T14:30:00.000000"
        },
        {
         "Close": 58.540000915527344,
         "_deepnote_index_column": "2019-09-25T15:30:00.000000"
        },
        {
         "Close": 60.994998931884766,
         "_deepnote_index_column": "2019-09-26T09:30:00.000000"
        },
        {
         "Close": 60.23500061035156,
         "_deepnote_index_column": "2019-09-26T10:30:00.000000"
        },
        {
         "Close": 60.43220138549805,
         "_deepnote_index_column": "2019-09-26T11:30:00.000000"
        },
        {
         "Close": 60.18000030517578,
         "_deepnote_index_column": "2019-09-26T12:30:00.000000"
        },
        {
         "Close": 60.79499816894531,
         "_deepnote_index_column": "2019-09-26T13:30:00.000000"
        },
        {
         "Close": 60.685001373291016,
         "_deepnote_index_column": "2019-09-26T14:30:00.000000"
        },
        {
         "Close": 60.79999923706055,
         "_deepnote_index_column": "2019-09-26T15:30:00.000000"
        },
        {
         "Close": 60.9922981262207,
         "_deepnote_index_column": "2019-09-27T09:30:00.000000"
        },
        {
         "Close": 61.529998779296875,
         "_deepnote_index_column": "2019-09-27T10:30:00.000000"
        },
        {
         "Close": 61.029998779296875,
         "_deepnote_index_column": "2019-09-27T11:30:00.000000"
        },
        {
         "Close": 60.529998779296875,
         "_deepnote_index_column": "2019-09-27T12:30:00.000000"
        },
        {
         "Close": 60.68000030517578,
         "_deepnote_index_column": "2019-09-27T13:30:00.000000"
        },
        {
         "Close": 60.494998931884766,
         "_deepnote_index_column": "2019-09-27T14:30:00.000000"
        },
        {
         "Close": 60.7599983215332,
         "_deepnote_index_column": "2019-09-27T15:30:00.000000"
        },
        {
         "Close": 61.72999954223633,
         "_deepnote_index_column": "2019-09-30T09:30:00.000000"
        },
        {
         "Close": 62.22999954223633,
         "_deepnote_index_column": "2019-09-30T10:30:00.000000"
        },
        {
         "Close": 62.02000045776367,
         "_deepnote_index_column": "2019-09-30T11:30:00.000000"
        },
        {
         "Close": 61.9900016784668,
         "_deepnote_index_column": "2019-09-30T12:30:00.000000"
        },
        {
         "Close": 62.244998931884766,
         "_deepnote_index_column": "2019-09-30T13:30:00.000000"
        },
        {
         "Close": 61.970001220703125,
         "_deepnote_index_column": "2019-09-30T14:30:00.000000"
        },
        {
         "Close": 62,
         "_deepnote_index_column": "2019-09-30T15:30:00.000000"
        },
        {
         "Close": 62.59640121459961,
         "_deepnote_index_column": "2019-10-01T09:30:00.000000"
        },
        {
         "Close": 62.65999984741211,
         "_deepnote_index_column": "2019-10-01T10:30:00.000000"
        },
        {
         "Close": 61.779998779296875,
         "_deepnote_index_column": "2019-10-01T11:30:00.000000"
        },
        {
         "Close": 61.45000076293945,
         "_deepnote_index_column": "2019-10-01T12:30:00.000000"
        },
        {
         "Close": 61.47999954223633,
         "_deepnote_index_column": "2019-10-01T13:30:00.000000"
        },
        {
         "Close": 61.54999923706055,
         "_deepnote_index_column": "2019-10-01T14:30:00.000000"
        },
        {
         "Close": 61.630001068115234,
         "_deepnote_index_column": "2019-10-01T15:30:00.000000"
        },
        {
         "Close": 60.459999084472656,
         "_deepnote_index_column": "2019-10-02T09:30:00.000000"
        },
        {
         "Close": 59.47999954223633,
         "_deepnote_index_column": "2019-10-02T10:30:00.000000"
        },
        {
         "Close": 59.47999954223633,
         "_deepnote_index_column": "2019-10-02T11:30:00.000000"
        },
        {
         "Close": 59.439998626708984,
         "_deepnote_index_column": "2019-10-02T12:30:00.000000"
        },
        {
         "Close": 59.237998962402344,
         "_deepnote_index_column": "2019-10-02T13:30:00.000000"
        },
        {
         "Close": 59.880001068115234,
         "_deepnote_index_column": "2019-10-02T14:30:00.000000"
        },
        {
         "Close": 60.060001373291016,
         "_deepnote_index_column": "2019-10-02T15:30:00.000000"
        },
        {
         "Close": 59.91999816894531,
         "_deepnote_index_column": "2019-10-03T09:30:00.000000"
        },
        {
         "Close": 60.79999923706055,
         "_deepnote_index_column": "2019-10-03T10:30:00.000000"
        },
        {
         "Close": 60.599998474121094,
         "_deepnote_index_column": "2019-10-03T11:30:00.000000"
        },
        {
         "Close": 60.615699768066406,
         "_deepnote_index_column": "2019-10-03T12:30:00.000000"
        },
        {
         "Close": 62.119998931884766,
         "_deepnote_index_column": "2019-10-03T13:30:00.000000"
        },
        {
         "Close": 62.11000061035156,
         "_deepnote_index_column": "2019-10-03T14:30:00.000000"
        },
        {
         "Close": 62.060001373291016,
         "_deepnote_index_column": "2019-10-03T15:30:00.000000"
        },
        {
         "Close": 62.040000915527344,
         "_deepnote_index_column": "2019-10-04T09:30:00.000000"
        },
        {
         "Close": 62.169700622558594,
         "_deepnote_index_column": "2019-10-04T10:30:00.000000"
        },
        {
         "Close": 62.11330032348633,
         "_deepnote_index_column": "2019-10-04T11:30:00.000000"
        },
        {
         "Close": 62.3650016784668,
         "_deepnote_index_column": "2019-10-04T12:30:00.000000"
        },
        {
         "Close": 62.38999938964844,
         "_deepnote_index_column": "2019-10-04T13:30:00.000000"
        },
        {
         "Close": 62.47159957885742,
         "_deepnote_index_column": "2019-10-04T14:30:00.000000"
        },
        {
         "Close": 62.65999984741211,
         "_deepnote_index_column": "2019-10-04T15:30:00.000000"
        },
        {
         "Close": 62.5099983215332,
         "_deepnote_index_column": "2019-10-07T09:30:00.000000"
        },
        {
         "Close": 62.51499938964844,
         "_deepnote_index_column": "2019-10-07T10:30:00.000000"
        },
        {
         "Close": 62.349998474121094,
         "_deepnote_index_column": "2019-10-07T11:30:00.000000"
        },
        {
         "Close": 62.2599983215332,
         "_deepnote_index_column": "2019-10-07T12:30:00.000000"
        },
        {
         "Close": 62.470001220703125,
         "_deepnote_index_column": "2019-10-07T13:30:00.000000"
        },
        {
         "Close": 62.47999954223633,
         "_deepnote_index_column": "2019-10-07T14:30:00.000000"
        },
        {
         "Close": 62.25,
         "_deepnote_index_column": "2019-10-07T15:30:00.000000"
        },
        {
         "Close": 61.310001373291016,
         "_deepnote_index_column": "2019-10-08T09:30:00.000000"
        },
        {
         "Close": 61.209999084472656,
         "_deepnote_index_column": "2019-10-08T10:30:00.000000"
        },
        {
         "Close": 61.52000045776367,
         "_deepnote_index_column": "2019-10-08T11:30:00.000000"
        },
        {
         "Close": 61.540000915527344,
         "_deepnote_index_column": "2019-10-08T12:30:00.000000"
        },
        {
         "Close": 61.41999816894531,
         "_deepnote_index_column": "2019-10-08T13:30:00.000000"
        },
        {
         "Close": 61.27000045776367,
         "_deepnote_index_column": "2019-10-08T14:30:00.000000"
        },
        {
         "Close": 60.810001373291016,
         "_deepnote_index_column": "2019-10-08T15:30:00.000000"
        },
        {
         "Close": 61.650001525878906,
         "_deepnote_index_column": "2019-10-09T09:30:00.000000"
        },
        {
         "Close": 61.46609878540039,
         "_deepnote_index_column": "2019-10-09T10:30:00.000000"
        },
        {
         "Close": 61.77000045776367,
         "_deepnote_index_column": "2019-10-09T11:30:00.000000"
        },
        {
         "Close": 61.970001220703125,
         "_deepnote_index_column": "2019-10-09T12:30:00.000000"
        },
        {
         "Close": 62.1693000793457,
         "_deepnote_index_column": "2019-10-09T13:30:00.000000"
        },
        {
         "Close": 62.380001068115234,
         "_deepnote_index_column": "2019-10-09T14:30:00.000000"
        },
        {
         "Close": 62.233299255371094,
         "_deepnote_index_column": "2019-10-09T15:30:00.000000"
        },
        {
         "Close": 62.209999084472656,
         "_deepnote_index_column": "2019-10-10T09:30:00.000000"
        },
        {
         "Close": 62.099998474121094,
         "_deepnote_index_column": "2019-10-10T10:30:00.000000"
        },
        {
         "Close": 61.86000061035156,
         "_deepnote_index_column": "2019-10-10T11:30:00.000000"
        },
        {
         "Close": 61.709999084472656,
         "_deepnote_index_column": "2019-10-10T12:30:00.000000"
        },
        {
         "Close": 61.79999923706055,
         "_deepnote_index_column": "2019-10-10T13:30:00.000000"
        },
        {
         "Close": 61.9900016784668,
         "_deepnote_index_column": "2019-10-10T14:30:00.000000"
        },
        {
         "Close": 62.0099983215332,
         "_deepnote_index_column": "2019-10-10T15:30:00.000000"
        },
        {
         "Close": 62.8119010925293,
         "_deepnote_index_column": "2019-10-11T09:30:00.000000"
        },
        {
         "Close": 62.6776008605957,
         "_deepnote_index_column": "2019-10-11T10:30:00.000000"
        },
        {
         "Close": 62.65800094604492,
         "_deepnote_index_column": "2019-10-11T11:30:00.000000"
        },
        {
         "Close": 62.181400299072266,
         "_deepnote_index_column": "2019-10-11T12:30:00.000000"
        },
        {
         "Close": 62.14500045776367,
         "_deepnote_index_column": "2019-10-11T13:30:00.000000"
        },
        {
         "Close": 62.34000015258789,
         "_deepnote_index_column": "2019-10-11T14:30:00.000000"
        },
        {
         "Close": 61.529998779296875,
         "_deepnote_index_column": "2019-10-11T15:30:00.000000"
        },
        {
         "Close": 61.880001068115234,
         "_deepnote_index_column": "2019-10-14T09:30:00.000000"
        },
        {
         "Close": 62.08000183105469,
         "_deepnote_index_column": "2019-10-14T10:30:00.000000"
        },
        {
         "Close": 62.16400146484375,
         "_deepnote_index_column": "2019-10-14T11:30:00.000000"
        },
        {
         "Close": 62.17179870605469,
         "_deepnote_index_column": "2019-10-14T12:30:00.000000"
        },
        {
         "Close": 62.025001525878906,
         "_deepnote_index_column": "2019-10-14T13:30:00.000000"
        },
        {
         "Close": 62.13100051879883,
         "_deepnote_index_column": "2019-10-14T14:30:00.000000"
        },
        {
         "Close": 61.83000183105469,
         "_deepnote_index_column": "2019-10-14T15:30:00.000000"
        },
        {
         "Close": 63.720001220703125,
         "_deepnote_index_column": "2019-10-15T09:30:00.000000"
        },
        {
         "Close": 63.70000076293945,
         "_deepnote_index_column": "2019-10-15T10:30:00.000000"
        },
        {
         "Close": 63.900001525878906,
         "_deepnote_index_column": "2019-10-15T11:30:00.000000"
        },
        {
         "Close": 64.13999938964844,
         "_deepnote_index_column": "2019-10-15T12:30:00.000000"
        },
        {
         "Close": 64.25,
         "_deepnote_index_column": "2019-10-15T13:30:00.000000"
        },
        {
         "Close": 64.05999755859375,
         "_deepnote_index_column": "2019-10-15T14:30:00.000000"
        },
        {
         "Close": 64.29000091552734,
         "_deepnote_index_column": "2019-10-15T15:30:00.000000"
        },
        {
         "Close": 63.04999923706055,
         "_deepnote_index_column": "2019-10-16T09:30:00.000000"
        },
        {
         "Close": 62.93830108642578,
         "_deepnote_index_column": "2019-10-16T10:30:00.000000"
        },
        {
         "Close": 62.97999954223633,
         "_deepnote_index_column": "2019-10-16T11:30:00.000000"
        },
        {
         "Close": 62.869998931884766,
         "_deepnote_index_column": "2019-10-16T12:30:00.000000"
        },
        {
         "Close": 62.875,
         "_deepnote_index_column": "2019-10-16T13:30:00.000000"
        },
        {
         "Close": 62.755001068115234,
         "_deepnote_index_column": "2019-10-16T14:30:00.000000"
        },
        {
         "Close": 63.0099983215332,
         "_deepnote_index_column": "2019-10-16T15:30:00.000000"
        },
        {
         "Close": 64.19999694824219,
         "_deepnote_index_column": "2019-10-17T09:30:00.000000"
        },
        {
         "Close": 63.560001373291016,
         "_deepnote_index_column": "2019-10-17T10:30:00.000000"
        },
        {
         "Close": 63.43000030517578,
         "_deepnote_index_column": "2019-10-17T11:30:00.000000"
        },
        {
         "Close": 63.42100143432617,
         "_deepnote_index_column": "2019-10-17T12:30:00.000000"
        },
        {
         "Close": 63.59000015258789,
         "_deepnote_index_column": "2019-10-17T13:30:00.000000"
        },
        {
         "Close": 63.41510009765625,
         "_deepnote_index_column": "2019-10-17T14:30:00.000000"
        },
        {
         "Close": 63.380001068115234,
         "_deepnote_index_column": "2019-10-17T15:30:00.000000"
        },
        {
         "Close": 61.90999984741211,
         "_deepnote_index_column": "2019-10-18T09:30:00.000000"
        },
        {
         "Close": 61.993900299072266,
         "_deepnote_index_column": "2019-10-18T10:30:00.000000"
        },
        {
         "Close": 60.02730178833008,
         "_deepnote_index_column": "2019-10-18T11:30:00.000000"
        },
        {
         "Close": 60.54999923706055,
         "_deepnote_index_column": "2019-10-18T12:30:00.000000"
        },
        {
         "Close": 60.56999969482422,
         "_deepnote_index_column": "2019-10-18T13:30:00.000000"
        },
        {
         "Close": 60.6245002746582,
         "_deepnote_index_column": "2019-10-18T14:30:00.000000"
        },
        {
         "Close": 60.459999084472656,
         "_deepnote_index_column": "2019-10-18T15:30:00.000000"
        },
        {
         "Close": 60.284400939941406,
         "_deepnote_index_column": "2019-10-21T09:30:00.000000"
        },
        {
         "Close": 60.95000076293945,
         "_deepnote_index_column": "2019-10-21T10:30:00.000000"
        },
        {
         "Close": 61.099998474121094,
         "_deepnote_index_column": "2019-10-21T11:30:00.000000"
        },
        {
         "Close": 61.35499954223633,
         "_deepnote_index_column": "2019-10-21T12:30:00.000000"
        },
        {
         "Close": 61.290000915527344,
         "_deepnote_index_column": "2019-10-21T13:30:00.000000"
        },
        {
         "Close": 61.354801177978516,
         "_deepnote_index_column": "2019-10-21T14:30:00.000000"
        },
        {
         "Close": 61.150001525878906,
         "_deepnote_index_column": "2019-10-21T15:30:00.000000"
        },
        {
         "Close": 60.209999084472656,
         "_deepnote_index_column": "2019-10-22T09:30:00.000000"
        },
        {
         "Close": 59.779998779296875,
         "_deepnote_index_column": "2019-10-22T10:30:00.000000"
        },
        {
         "Close": 59.83000183105469,
         "_deepnote_index_column": "2019-10-22T11:30:00.000000"
        },
        {
         "Close": 59.88999938964844,
         "_deepnote_index_column": "2019-10-22T12:30:00.000000"
        },
        {
         "Close": 59.029998779296875,
         "_deepnote_index_column": "2019-10-22T13:30:00.000000"
        },
        {
         "Close": 58.79650115966797,
         "_deepnote_index_column": "2019-10-22T14:30:00.000000"
        },
        {
         "Close": 58.81999969482422,
         "_deepnote_index_column": "2019-10-22T15:30:00.000000"
        },
        {
         "Close": 58.95800018310547,
         "_deepnote_index_column": "2019-10-23T09:30:00.000000"
        },
        {
         "Close": 59.08000183105469,
         "_deepnote_index_column": "2019-10-23T10:30:00.000000"
        },
        {
         "Close": 58.44449996948242,
         "_deepnote_index_column": "2019-10-23T11:30:00.000000"
        },
        {
         "Close": 58.41999816894531,
         "_deepnote_index_column": "2019-10-23T12:30:00.000000"
        },
        {
         "Close": 57.69279861450195,
         "_deepnote_index_column": "2019-10-23T13:30:00.000000"
        },
        {
         "Close": 58.040000915527344,
         "_deepnote_index_column": "2019-10-23T14:30:00.000000"
        },
        {
         "Close": 58.34000015258789,
         "_deepnote_index_column": "2019-10-23T15:30:00.000000"
        },
        {
         "Close": 60.11000061035156,
         "_deepnote_index_column": "2019-10-24T09:30:00.000000"
        },
        {
         "Close": 60.63999938964844,
         "_deepnote_index_column": "2019-10-24T10:30:00.000000"
        },
        {
         "Close": 61.02000045776367,
         "_deepnote_index_column": "2019-10-24T11:30:00.000000"
        },
        {
         "Close": 61.29999923706055,
         "_deepnote_index_column": "2019-10-24T12:30:00.000000"
        },
        {
         "Close": 61.4900016784668,
         "_deepnote_index_column": "2019-10-24T13:30:00.000000"
        },
        {
         "Close": 61.61000061035156,
         "_deepnote_index_column": "2019-10-24T14:30:00.000000"
        },
        {
         "Close": 61.689998626708984,
         "_deepnote_index_column": "2019-10-24T15:30:00.000000"
        },
        {
         "Close": 62.369998931884766,
         "_deepnote_index_column": "2019-10-25T09:30:00.000000"
        },
        {
         "Close": 62.560001373291016,
         "_deepnote_index_column": "2019-10-25T10:30:00.000000"
        },
        {
         "Close": 62.68000030517578,
         "_deepnote_index_column": "2019-10-25T11:30:00.000000"
        },
        {
         "Close": 62.84000015258789,
         "_deepnote_index_column": "2019-10-25T12:30:00.000000"
        },
        {
         "Close": 62.97999954223633,
         "_deepnote_index_column": "2019-10-25T13:30:00.000000"
        },
        {
         "Close": 62.80500030517578,
         "_deepnote_index_column": "2019-10-25T14:30:00.000000"
        },
        {
         "Close": 62.87009811401367,
         "_deepnote_index_column": "2019-10-25T15:30:00.000000"
        },
        {
         "Close": 62.290000915527344,
         "_deepnote_index_column": "2019-10-28T09:30:00.000000"
        },
        {
         "Close": 62.81999969482422,
         "_deepnote_index_column": "2019-10-28T10:30:00.000000"
        },
        {
         "Close": 63.31999969482422,
         "_deepnote_index_column": "2019-10-28T11:30:00.000000"
        },
        {
         "Close": 63.36909866333008,
         "_deepnote_index_column": "2019-10-28T12:30:00.000000"
        },
        {
         "Close": 63.021400451660156,
         "_deepnote_index_column": "2019-10-28T13:30:00.000000"
        },
        {
         "Close": 63.09000015258789,
         "_deepnote_index_column": "2019-10-28T14:30:00.000000"
        },
        {
         "Close": 62.81999969482422,
         "_deepnote_index_column": "2019-10-28T15:30:00.000000"
        },
        {
         "Close": 62.939998626708984,
         "_deepnote_index_column": "2019-10-29T09:30:00.000000"
        },
        {
         "Close": 62.88999938964844,
         "_deepnote_index_column": "2019-10-29T10:30:00.000000"
        },
        {
         "Close": 62.84000015258789,
         "_deepnote_index_column": "2019-10-29T11:30:00.000000"
        },
        {
         "Close": 62.84000015258789,
         "_deepnote_index_column": "2019-10-29T12:30:00.000000"
        },
        {
         "Close": 62.60340118408203,
         "_deepnote_index_column": "2019-10-29T13:30:00.000000"
        },
        {
         "Close": 62.619998931884766,
         "_deepnote_index_column": "2019-10-29T14:30:00.000000"
        },
        {
         "Close": 62.40999984741211,
         "_deepnote_index_column": "2019-10-29T15:30:00.000000"
        },
        {
         "Close": 62.43000030517578,
         "_deepnote_index_column": "2019-10-30T09:30:00.000000"
        },
        {
         "Close": 62.189998626708984,
         "_deepnote_index_column": "2019-10-30T10:30:00.000000"
        },
        {
         "Close": 61.63999938964844,
         "_deepnote_index_column": "2019-10-30T11:30:00.000000"
        },
        {
         "Close": 61.65999984741211,
         "_deepnote_index_column": "2019-10-30T12:30:00.000000"
        },
        {
         "Close": 62.04999923706055,
         "_deepnote_index_column": "2019-10-30T13:30:00.000000"
        },
        {
         "Close": 62.209999084472656,
         "_deepnote_index_column": "2019-10-30T14:30:00.000000"
        },
        {
         "Close": 62.1859016418457,
         "_deepnote_index_column": "2019-10-30T15:30:00.000000"
        },
        {
         "Close": 61.22999954223633,
         "_deepnote_index_column": "2019-10-31T09:30:00.000000"
        },
        {
         "Close": 61.279998779296875,
         "_deepnote_index_column": "2019-10-31T10:30:00.000000"
        },
        {
         "Close": 61.358699798583984,
         "_deepnote_index_column": "2019-10-31T11:30:00.000000"
        },
        {
         "Close": 61.369998931884766,
         "_deepnote_index_column": "2019-10-31T12:30:00.000000"
        },
        {
         "Close": 61.279998779296875,
         "_deepnote_index_column": "2019-10-31T13:30:00.000000"
        },
        {
         "Close": 61.185001373291016,
         "_deepnote_index_column": "2019-10-31T14:30:00.000000"
        },
        {
         "Close": 61.459999084472656,
         "_deepnote_index_column": "2019-10-31T15:30:00.000000"
        },
        {
         "Close": 62.724998474121094,
         "_deepnote_index_column": "2019-11-01T09:30:00.000000"
        },
        {
         "Close": 62.52000045776367,
         "_deepnote_index_column": "2019-11-01T10:30:00.000000"
        },
        {
         "Close": 62.31999969482422,
         "_deepnote_index_column": "2019-11-01T11:30:00.000000"
        },
        {
         "Close": 62.38999938964844,
         "_deepnote_index_column": "2019-11-01T12:30:00.000000"
        },
        {
         "Close": 62.33789825439453,
         "_deepnote_index_column": "2019-11-01T13:30:00.000000"
        },
        {
         "Close": 62.45000076293945,
         "_deepnote_index_column": "2019-11-01T14:30:00.000000"
        },
        {
         "Close": 62.54999923706055,
         "_deepnote_index_column": "2019-11-01T15:30:00.000000"
        },
        {
         "Close": 63.279998779296875,
         "_deepnote_index_column": "2019-11-04T09:30:00.000000"
        },
        {
         "Close": 62.75,
         "_deepnote_index_column": "2019-11-04T10:30:00.000000"
        },
        {
         "Close": 62.7130012512207,
         "_deepnote_index_column": "2019-11-04T11:30:00.000000"
        },
        {
         "Close": 62.72779846191406,
         "_deepnote_index_column": "2019-11-04T12:30:00.000000"
        },
        {
         "Close": 62.88999938964844,
         "_deepnote_index_column": "2019-11-04T13:30:00.000000"
        },
        {
         "Close": 62.51499938964844,
         "_deepnote_index_column": "2019-11-04T14:30:00.000000"
        },
        {
         "Close": 62.38999938964844,
         "_deepnote_index_column": "2019-11-04T15:30:00.000000"
        },
        {
         "Close": 60.16999816894531,
         "_deepnote_index_column": "2019-11-05T09:30:00.000000"
        },
        {
         "Close": 61.02000045776367,
         "_deepnote_index_column": "2019-11-05T10:30:00.000000"
        },
        {
         "Close": 61.349998474121094,
         "_deepnote_index_column": "2019-11-05T11:30:00.000000"
        },
        {
         "Close": 61.16999816894531,
         "_deepnote_index_column": "2019-11-05T12:30:00.000000"
        },
        {
         "Close": 61.13639831542969,
         "_deepnote_index_column": "2019-11-05T13:30:00.000000"
        },
        {
         "Close": 60.900001525878906,
         "_deepnote_index_column": "2019-11-05T14:30:00.000000"
        },
        {
         "Close": 61.04999923706055,
         "_deepnote_index_column": "2019-11-05T15:30:00.000000"
        },
        {
         "Close": 60.775001525878906,
         "_deepnote_index_column": "2019-11-06T09:30:00.000000"
        },
        {
         "Close": 60.959999084472656,
         "_deepnote_index_column": "2019-11-06T10:30:00.000000"
        },
        {
         "Close": 61.255001068115234,
         "_deepnote_index_column": "2019-11-06T11:30:00.000000"
        },
        {
         "Close": 61.21500015258789,
         "_deepnote_index_column": "2019-11-06T12:30:00.000000"
        },
        {
         "Close": 61.560001373291016,
         "_deepnote_index_column": "2019-11-06T13:30:00.000000"
        },
        {
         "Close": 61.48270034790039,
         "_deepnote_index_column": "2019-11-06T14:30:00.000000"
        },
        {
         "Close": 61.34000015258789,
         "_deepnote_index_column": "2019-11-06T15:30:00.000000"
        },
        {
         "Close": 64.80999755859375,
         "_deepnote_index_column": "2019-11-07T09:30:00.000000"
        },
        {
         "Close": 65.61000061035156,
         "_deepnote_index_column": "2019-11-07T10:30:00.000000"
        },
        {
         "Close": 64.66000366210938,
         "_deepnote_index_column": "2019-11-07T11:30:00.000000"
        },
        {
         "Close": 64.80999755859375,
         "_deepnote_index_column": "2019-11-07T12:30:00.000000"
        },
        {
         "Close": 64.77999877929688,
         "_deepnote_index_column": "2019-11-07T13:30:00.000000"
        },
        {
         "Close": 64.26499938964844,
         "_deepnote_index_column": "2019-11-07T14:30:00.000000"
        },
        {
         "Close": 64.41000366210938,
         "_deepnote_index_column": "2019-11-07T15:30:00.000000"
        },
        {
         "Close": 62.459999084472656,
         "_deepnote_index_column": "2019-11-08T09:30:00.000000"
        },
        {
         "Close": 61.75,
         "_deepnote_index_column": "2019-11-08T10:30:00.000000"
        },
        {
         "Close": 62.70000076293945,
         "_deepnote_index_column": "2019-11-08T11:30:00.000000"
        },
        {
         "Close": 62.29999923706055,
         "_deepnote_index_column": "2019-11-08T12:30:00.000000"
        },
        {
         "Close": 62.279998779296875,
         "_deepnote_index_column": "2019-11-08T13:30:00.000000"
        },
        {
         "Close": 62.375,
         "_deepnote_index_column": "2019-11-08T14:30:00.000000"
        },
        {
         "Close": 62.4900016784668,
         "_deepnote_index_column": "2019-11-08T15:30:00.000000"
        },
        {
         "Close": 63.900001525878906,
         "_deepnote_index_column": "2019-11-11T09:30:00.000000"
        },
        {
         "Close": 63.619998931884766,
         "_deepnote_index_column": "2019-11-11T10:30:00.000000"
        },
        {
         "Close": 63.90999984741211,
         "_deepnote_index_column": "2019-11-11T11:30:00.000000"
        },
        {
         "Close": 64.42500305175781,
         "_deepnote_index_column": "2019-11-11T12:30:00.000000"
        },
        {
         "Close": 64.30999755859375,
         "_deepnote_index_column": "2019-11-11T13:30:00.000000"
        },
        {
         "Close": 63.845001220703125,
         "_deepnote_index_column": "2019-11-11T14:30:00.000000"
        },
        {
         "Close": 63.77000045776367,
         "_deepnote_index_column": "2019-11-11T15:30:00.000000"
        },
        {
         "Close": 63.150001525878906,
         "_deepnote_index_column": "2019-11-12T09:30:00.000000"
        },
        {
         "Close": 62.929901123046875,
         "_deepnote_index_column": "2019-11-12T10:30:00.000000"
        },
        {
         "Close": 62.63999938964844,
         "_deepnote_index_column": "2019-11-12T11:30:00.000000"
        },
        {
         "Close": 62.164398193359375,
         "_deepnote_index_column": "2019-11-12T12:30:00.000000"
        },
        {
         "Close": 61.52000045776367,
         "_deepnote_index_column": "2019-11-12T13:30:00.000000"
        },
        {
         "Close": 61,
         "_deepnote_index_column": "2019-11-12T14:30:00.000000"
        },
        {
         "Close": 61.529998779296875,
         "_deepnote_index_column": "2019-11-12T15:30:00.000000"
        },
        {
         "Close": 61.558101654052734,
         "_deepnote_index_column": "2019-11-13T09:30:00.000000"
        },
        {
         "Close": 61.4202995300293,
         "_deepnote_index_column": "2019-11-13T10:30:00.000000"
        },
        {
         "Close": 61.689998626708984,
         "_deepnote_index_column": "2019-11-13T11:30:00.000000"
        },
        {
         "Close": 61.720001220703125,
         "_deepnote_index_column": "2019-11-13T12:30:00.000000"
        },
        {
         "Close": 61.38999938964844,
         "_deepnote_index_column": "2019-11-13T13:30:00.000000"
        },
        {
         "Close": 61.7400016784668,
         "_deepnote_index_column": "2019-11-13T14:30:00.000000"
        },
        {
         "Close": 61.52000045776367,
         "_deepnote_index_column": "2019-11-13T15:30:00.000000"
        },
        {
         "Close": 62.018798828125,
         "_deepnote_index_column": "2019-11-14T09:30:00.000000"
        },
        {
         "Close": 62.869998931884766,
         "_deepnote_index_column": "2019-11-14T10:30:00.000000"
        },
        {
         "Close": 62.900001525878906,
         "_deepnote_index_column": "2019-11-14T11:30:00.000000"
        },
        {
         "Close": 62.682498931884766,
         "_deepnote_index_column": "2019-11-14T12:30:00.000000"
        },
        {
         "Close": 62.70000076293945,
         "_deepnote_index_column": "2019-11-14T13:30:00.000000"
        },
        {
         "Close": 62.849998474121094,
         "_deepnote_index_column": "2019-11-14T14:30:00.000000"
        },
        {
         "Close": 63,
         "_deepnote_index_column": "2019-11-14T15:30:00.000000"
        },
        {
         "Close": 64.25,
         "_deepnote_index_column": "2019-11-15T09:30:00.000000"
        },
        {
         "Close": 64.41000366210938,
         "_deepnote_index_column": "2019-11-15T10:30:00.000000"
        },
        {
         "Close": 64.19000244140625,
         "_deepnote_index_column": "2019-11-15T11:30:00.000000"
        },
        {
         "Close": 64.22000122070312,
         "_deepnote_index_column": "2019-11-15T12:30:00.000000"
        },
        {
         "Close": 64.17500305175781,
         "_deepnote_index_column": "2019-11-15T13:30:00.000000"
        },
        {
         "Close": 64.30999755859375,
         "_deepnote_index_column": "2019-11-15T14:30:00.000000"
        },
        {
         "Close": 64.69999694824219,
         "_deepnote_index_column": "2019-11-15T15:30:00.000000"
        },
        {
         "Close": 65.0199966430664,
         "_deepnote_index_column": "2019-11-18T09:30:00.000000"
        },
        {
         "Close": 65.66000366210938,
         "_deepnote_index_column": "2019-11-18T10:30:00.000000"
        },
        {
         "Close": 65.94999694824219,
         "_deepnote_index_column": "2019-11-18T11:30:00.000000"
        },
        {
         "Close": 66.16999816894531,
         "_deepnote_index_column": "2019-11-18T12:30:00.000000"
        },
        {
         "Close": 66.33999633789062,
         "_deepnote_index_column": "2019-11-18T13:30:00.000000"
        },
        {
         "Close": 65.86000061035156,
         "_deepnote_index_column": "2019-11-18T14:30:00.000000"
        },
        {
         "Close": 65.73999786376953,
         "_deepnote_index_column": "2019-11-18T15:30:00.000000"
        },
        {
         "Close": 65.70999908447266,
         "_deepnote_index_column": "2019-11-19T09:30:00.000000"
        },
        {
         "Close": 65.5250015258789,
         "_deepnote_index_column": "2019-11-19T10:30:00.000000"
        },
        {
         "Close": 65.68000030517578,
         "_deepnote_index_column": "2019-11-19T11:30:00.000000"
        },
        {
         "Close": 66.05000305175781,
         "_deepnote_index_column": "2019-11-19T12:30:00.000000"
        },
        {
         "Close": 66.44309997558594,
         "_deepnote_index_column": "2019-11-19T13:30:00.000000"
        },
        {
         "Close": 66.34500122070312,
         "_deepnote_index_column": "2019-11-19T14:30:00.000000"
        },
        {
         "Close": 66.4000015258789,
         "_deepnote_index_column": "2019-11-19T15:30:00.000000"
        },
        {
         "Close": 66.91999816894531,
         "_deepnote_index_column": "2019-11-20T09:30:00.000000"
        },
        {
         "Close": 67.38999938964844,
         "_deepnote_index_column": "2019-11-20T10:30:00.000000"
        },
        {
         "Close": 67.41000366210938,
         "_deepnote_index_column": "2019-11-20T11:30:00.000000"
        },
        {
         "Close": 66.88500213623047,
         "_deepnote_index_column": "2019-11-20T12:30:00.000000"
        },
        {
         "Close": 67.0999984741211,
         "_deepnote_index_column": "2019-11-20T13:30:00.000000"
        },
        {
         "Close": 67.1166000366211,
         "_deepnote_index_column": "2019-11-20T14:30:00.000000"
        },
        {
         "Close": 67.18499755859375,
         "_deepnote_index_column": "2019-11-20T15:30:00.000000"
        },
        {
         "Close": 67.1500015258789,
         "_deepnote_index_column": "2019-11-21T09:30:00.000000"
        },
        {
         "Close": 67.0199966430664,
         "_deepnote_index_column": "2019-11-21T10:30:00.000000"
        },
        {
         "Close": 66.8499984741211,
         "_deepnote_index_column": "2019-11-21T11:30:00.000000"
        },
        {
         "Close": 67.05999755859375,
         "_deepnote_index_column": "2019-11-21T12:30:00.000000"
        },
        {
         "Close": 67.19999694824219,
         "_deepnote_index_column": "2019-11-21T13:30:00.000000"
        },
        {
         "Close": 67.1897964477539,
         "_deepnote_index_column": "2019-11-21T14:30:00.000000"
        },
        {
         "Close": 67.4000015258789,
         "_deepnote_index_column": "2019-11-21T15:30:00.000000"
        },
        {
         "Close": 67.66000366210938,
         "_deepnote_index_column": "2019-11-22T09:30:00.000000"
        },
        {
         "Close": 67.26000213623047,
         "_deepnote_index_column": "2019-11-22T10:30:00.000000"
        },
        {
         "Close": 67.63500213623047,
         "_deepnote_index_column": "2019-11-22T11:30:00.000000"
        },
        {
         "Close": 67.8301010131836,
         "_deepnote_index_column": "2019-11-22T12:30:00.000000"
        },
        {
         "Close": 67.69999694824219,
         "_deepnote_index_column": "2019-11-22T13:30:00.000000"
        },
        {
         "Close": 67.6500015258789,
         "_deepnote_index_column": "2019-11-22T14:30:00.000000"
        },
        {
         "Close": 67.75,
         "_deepnote_index_column": "2019-11-22T15:30:00.000000"
        },
        {
         "Close": 68.98999786376953,
         "_deepnote_index_column": "2019-11-25T09:30:00.000000"
        },
        {
         "Close": 69.26499938964844,
         "_deepnote_index_column": "2019-11-25T10:30:00.000000"
        },
        {
         "Close": 69.12580108642578,
         "_deepnote_index_column": "2019-11-25T11:30:00.000000"
        },
        {
         "Close": 69.34500122070312,
         "_deepnote_index_column": "2019-11-25T12:30:00.000000"
        },
        {
         "Close": 68.80999755859375,
         "_deepnote_index_column": "2019-11-25T13:30:00.000000"
        },
        {
         "Close": 68.38999938964844,
         "_deepnote_index_column": "2019-11-25T14:30:00.000000"
        },
        {
         "Close": 68.20999908447266,
         "_deepnote_index_column": "2019-11-25T15:30:00.000000"
        },
        {
         "Close": 68.67569732666016,
         "_deepnote_index_column": "2019-11-26T09:30:00.000000"
        },
        {
         "Close": 68.65499877929688,
         "_deepnote_index_column": "2019-11-26T10:30:00.000000"
        },
        {
         "Close": 68.58000183105469,
         "_deepnote_index_column": "2019-11-26T11:30:00.000000"
        },
        {
         "Close": 68.08000183105469,
         "_deepnote_index_column": "2019-11-26T12:30:00.000000"
        },
        {
         "Close": 68.86000061035156,
         "_deepnote_index_column": "2019-11-26T13:30:00.000000"
        },
        {
         "Close": 68.80999755859375,
         "_deepnote_index_column": "2019-11-26T14:30:00.000000"
        },
        {
         "Close": 68.97000122070312,
         "_deepnote_index_column": "2019-11-26T15:30:00.000000"
        },
        {
         "Close": 69.0458984375,
         "_deepnote_index_column": "2019-11-27T09:30:00.000000"
        },
        {
         "Close": 68.97000122070312,
         "_deepnote_index_column": "2019-11-27T10:30:00.000000"
        },
        {
         "Close": 69.02300262451172,
         "_deepnote_index_column": "2019-11-27T11:30:00.000000"
        },
        {
         "Close": 69.13729858398438,
         "_deepnote_index_column": "2019-11-27T12:30:00.000000"
        },
        {
         "Close": 69.47000122070312,
         "_deepnote_index_column": "2019-11-27T13:30:00.000000"
        },
        {
         "Close": 69.56999969482422,
         "_deepnote_index_column": "2019-11-27T14:30:00.000000"
        },
        {
         "Close": 69.6500015258789,
         "_deepnote_index_column": "2019-11-27T15:30:00.000000"
        },
        {
         "Close": 69.16000366210938,
         "_deepnote_index_column": "2019-11-29T09:30:00.000000"
        },
        {
         "Close": 69.4634017944336,
         "_deepnote_index_column": "2019-11-29T10:30:00.000000"
        },
        {
         "Close": 69.18820190429688,
         "_deepnote_index_column": "2019-11-29T11:30:00.000000"
        },
        {
         "Close": 69.24469757080078,
         "_deepnote_index_column": "2019-11-29T13:00:00.000000"
        },
        {
         "Close": 66.54000091552734,
         "_deepnote_index_column": "2019-12-02T09:30:00.000000"
        },
        {
         "Close": 66.77649688720703,
         "_deepnote_index_column": "2019-12-02T10:30:00.000000"
        },
        {
         "Close": 66.9000015258789,
         "_deepnote_index_column": "2019-12-02T11:30:00.000000"
        },
        {
         "Close": 67.18000030517578,
         "_deepnote_index_column": "2019-12-02T12:30:00.000000"
        },
        {
         "Close": 67.2874984741211,
         "_deepnote_index_column": "2019-12-02T13:30:00.000000"
        },
        {
         "Close": 66.95999908447266,
         "_deepnote_index_column": "2019-12-02T14:30:00.000000"
        },
        {
         "Close": 66.9000015258789,
         "_deepnote_index_column": "2019-12-02T15:30:00.000000"
        },
        {
         "Close": 66.24949645996094,
         "_deepnote_index_column": "2019-12-03T09:30:00.000000"
        },
        {
         "Close": 66.61000061035156,
         "_deepnote_index_column": "2019-12-03T10:30:00.000000"
        },
        {
         "Close": 66.78739929199219,
         "_deepnote_index_column": "2019-12-03T11:30:00.000000"
        },
        {
         "Close": 66.80999755859375,
         "_deepnote_index_column": "2019-12-03T12:30:00.000000"
        },
        {
         "Close": 66.7699966430664,
         "_deepnote_index_column": "2019-12-03T13:30:00.000000"
        },
        {
         "Close": 67.27880096435547,
         "_deepnote_index_column": "2019-12-03T14:30:00.000000"
        },
        {
         "Close": 67.05000305175781,
         "_deepnote_index_column": "2019-12-03T15:30:00.000000"
        },
        {
         "Close": 67.94000244140625,
         "_deepnote_index_column": "2019-12-04T09:30:00.000000"
        },
        {
         "Close": 67.7300033569336,
         "_deepnote_index_column": "2019-12-04T10:30:00.000000"
        },
        {
         "Close": 67.71499633789062,
         "_deepnote_index_column": "2019-12-04T11:30:00.000000"
        },
        {
         "Close": 67.80999755859375,
         "_deepnote_index_column": "2019-12-04T12:30:00.000000"
        },
        {
         "Close": 67.88999938964844,
         "_deepnote_index_column": "2019-12-04T13:30:00.000000"
        },
        {
         "Close": 67.7699966430664,
         "_deepnote_index_column": "2019-12-04T14:30:00.000000"
        },
        {
         "Close": 67.81999969482422,
         "_deepnote_index_column": "2019-12-04T15:30:00.000000"
        },
        {
         "Close": 67.11000061035156,
         "_deepnote_index_column": "2019-12-05T09:30:00.000000"
        },
        {
         "Close": 67.76000213623047,
         "_deepnote_index_column": "2019-12-05T10:30:00.000000"
        },
        {
         "Close": 67.1500015258789,
         "_deepnote_index_column": "2019-12-05T11:30:00.000000"
        },
        {
         "Close": 67.27999877929688,
         "_deepnote_index_column": "2019-12-05T12:30:00.000000"
        },
        {
         "Close": 67.30000305175781,
         "_deepnote_index_column": "2019-12-05T13:30:00.000000"
        },
        {
         "Close": 67.37000274658203,
         "_deepnote_index_column": "2019-12-05T14:30:00.000000"
        },
        {
         "Close": 67.16000366210938,
         "_deepnote_index_column": "2019-12-05T15:30:00.000000"
        },
        {
         "Close": 67.86499786376953,
         "_deepnote_index_column": "2019-12-06T09:30:00.000000"
        },
        {
         "Close": 68.06500244140625,
         "_deepnote_index_column": "2019-12-06T10:30:00.000000"
        },
        {
         "Close": 67.75399780273438,
         "_deepnote_index_column": "2019-12-06T11:30:00.000000"
        },
        {
         "Close": 67.80999755859375,
         "_deepnote_index_column": "2019-12-06T12:30:00.000000"
        },
        {
         "Close": 67.95999908447266,
         "_deepnote_index_column": "2019-12-06T13:30:00.000000"
        },
        {
         "Close": 67.88999938964844,
         "_deepnote_index_column": "2019-12-06T14:30:00.000000"
        },
        {
         "Close": 67.9800033569336,
         "_deepnote_index_column": "2019-12-06T15:30:00.000000"
        },
        {
         "Close": 67.37989807128906,
         "_deepnote_index_column": "2019-12-09T09:30:00.000000"
        },
        {
         "Close": 66.80999755859375,
         "_deepnote_index_column": "2019-12-09T10:30:00.000000"
        },
        {
         "Close": 67.33999633789062,
         "_deepnote_index_column": "2019-12-09T11:30:00.000000"
        },
        {
         "Close": 67.38999938964844,
         "_deepnote_index_column": "2019-12-09T12:30:00.000000"
        },
        {
         "Close": 67.30999755859375,
         "_deepnote_index_column": "2019-12-09T13:30:00.000000"
        },
        {
         "Close": 67.37000274658203,
         "_deepnote_index_column": "2019-12-09T14:30:00.000000"
        },
        {
         "Close": 67.11000061035156,
         "_deepnote_index_column": "2019-12-09T15:30:00.000000"
        },
        {
         "Close": 66.22000122070312,
         "_deepnote_index_column": "2019-12-10T09:30:00.000000"
        },
        {
         "Close": 65.83999633789062,
         "_deepnote_index_column": "2019-12-10T10:30:00.000000"
        },
        {
         "Close": 65.68000030517578,
         "_deepnote_index_column": "2019-12-10T11:30:00.000000"
        },
        {
         "Close": 65.58999633789062,
         "_deepnote_index_column": "2019-12-10T12:30:00.000000"
        },
        {
         "Close": 65.7699966430664,
         "_deepnote_index_column": "2019-12-10T13:30:00.000000"
        },
        {
         "Close": 65.69999694824219,
         "_deepnote_index_column": "2019-12-10T14:30:00.000000"
        },
        {
         "Close": 65.83000183105469,
         "_deepnote_index_column": "2019-12-10T15:30:00.000000"
        },
        {
         "Close": 65.19000244140625,
         "_deepnote_index_column": "2019-12-11T09:30:00.000000"
        },
        {
         "Close": 65.07990264892578,
         "_deepnote_index_column": "2019-12-11T10:30:00.000000"
        },
        {
         "Close": 65.45999908447266,
         "_deepnote_index_column": "2019-12-11T11:30:00.000000"
        },
        {
         "Close": 65.72779846191406,
         "_deepnote_index_column": "2019-12-11T12:30:00.000000"
        },
        {
         "Close": 65.88999938964844,
         "_deepnote_index_column": "2019-12-11T13:30:00.000000"
        },
        {
         "Close": 65.62999725341797,
         "_deepnote_index_column": "2019-12-11T14:30:00.000000"
        },
        {
         "Close": 65.69000244140625,
         "_deepnote_index_column": "2019-12-11T15:30:00.000000"
        },
        {
         "Close": 66.04859924316406,
         "_deepnote_index_column": "2019-12-12T09:30:00.000000"
        },
        {
         "Close": 65.27999877929688,
         "_deepnote_index_column": "2019-12-12T10:30:00.000000"
        },
        {
         "Close": 65.3499984741211,
         "_deepnote_index_column": "2019-12-12T11:30:00.000000"
        },
        {
         "Close": 65.36000061035156,
         "_deepnote_index_column": "2019-12-12T12:30:00.000000"
        },
        {
         "Close": 65.33809661865234,
         "_deepnote_index_column": "2019-12-12T13:30:00.000000"
        },
        {
         "Close": 65.97000122070312,
         "_deepnote_index_column": "2019-12-12T14:30:00.000000"
        }
       ],
       "rows_bottom": [
        {
         "Close": 246.54269409179688,
         "_deepnote_index_column": "2021-04-29T13:30:00.000000"
        },
        {
         "Close": 246.67999267578125,
         "_deepnote_index_column": "2021-04-29T14:30:00.000000"
        },
        {
         "Close": 247.75999450683594,
         "_deepnote_index_column": "2021-04-29T15:30:00.000000"
        },
        {
         "Close": 249.50999450683594,
         "_deepnote_index_column": "2021-04-30T09:30:00.000000"
        },
        {
         "Close": 245.8000946044922,
         "_deepnote_index_column": "2021-04-30T10:30:00.000000"
        },
        {
         "Close": 247.3800048828125,
         "_deepnote_index_column": "2021-04-30T11:30:00.000000"
        },
        {
         "Close": 247.13999938964844,
         "_deepnote_index_column": "2021-04-30T12:30:00.000000"
        },
        {
         "Close": 246.10000610351562,
         "_deepnote_index_column": "2021-04-30T13:30:00.000000"
        },
        {
         "Close": 244.9600067138672,
         "_deepnote_index_column": "2021-04-30T14:30:00.000000"
        },
        {
         "Close": 245,
         "_deepnote_index_column": "2021-04-30T15:30:00.000000"
        },
        {
         "Close": 246.5,
         "_deepnote_index_column": "2021-05-03T09:30:00.000000"
        },
        {
         "Close": 242.77560424804688,
         "_deepnote_index_column": "2021-05-03T10:30:00.000000"
        },
        {
         "Close": 243.52999877929688,
         "_deepnote_index_column": "2021-05-03T11:30:00.000000"
        },
        {
         "Close": 242.3300018310547,
         "_deepnote_index_column": "2021-05-03T12:30:00.000000"
        },
        {
         "Close": 244.42999267578125,
         "_deepnote_index_column": "2021-05-03T13:30:00.000000"
        },
        {
         "Close": 244.44000244140625,
         "_deepnote_index_column": "2021-05-03T14:30:00.000000"
        },
        {
         "Close": 243.55999755859375,
         "_deepnote_index_column": "2021-05-03T15:30:00.000000"
        },
        {
         "Close": 236.7899932861328,
         "_deepnote_index_column": "2021-05-04T09:30:00.000000"
        },
        {
         "Close": 232.52000427246094,
         "_deepnote_index_column": "2021-05-04T10:30:00.000000"
        },
        {
         "Close": 230.1199951171875,
         "_deepnote_index_column": "2021-05-04T11:30:00.000000"
        },
        {
         "Close": 231.64500427246094,
         "_deepnote_index_column": "2021-05-04T12:30:00.000000"
        },
        {
         "Close": 230.8800048828125,
         "_deepnote_index_column": "2021-05-04T13:30:00.000000"
        },
        {
         "Close": 230.5998992919922,
         "_deepnote_index_column": "2021-05-04T14:30:00.000000"
        },
        {
         "Close": 231.17999267578125,
         "_deepnote_index_column": "2021-05-04T15:30:00.000000"
        },
        {
         "Close": 235.1199951171875,
         "_deepnote_index_column": "2021-05-05T09:30:00.000000"
        },
        {
         "Close": 236.44000244140625,
         "_deepnote_index_column": "2021-05-05T10:30:00.000000"
        },
        {
         "Close": 237.16000366210938,
         "_deepnote_index_column": "2021-05-05T11:30:00.000000"
        },
        {
         "Close": 235.21060180664062,
         "_deepnote_index_column": "2021-05-05T12:30:00.000000"
        },
        {
         "Close": 235.27000427246094,
         "_deepnote_index_column": "2021-05-05T13:30:00.000000"
        },
        {
         "Close": 230.8000030517578,
         "_deepnote_index_column": "2021-05-05T14:30:00.000000"
        },
        {
         "Close": 231.75999450683594,
         "_deepnote_index_column": "2021-05-05T15:30:00.000000"
        },
        {
         "Close": 222.75,
         "_deepnote_index_column": "2021-05-06T09:30:00.000000"
        },
        {
         "Close": 224.9499969482422,
         "_deepnote_index_column": "2021-05-06T10:30:00.000000"
        },
        {
         "Close": 225.91819763183594,
         "_deepnote_index_column": "2021-05-06T11:30:00.000000"
        },
        {
         "Close": 223.3350067138672,
         "_deepnote_index_column": "2021-05-06T12:30:00.000000"
        },
        {
         "Close": 218.92999267578125,
         "_deepnote_index_column": "2021-05-06T13:30:00.000000"
        },
        {
         "Close": 221.64639282226562,
         "_deepnote_index_column": "2021-05-06T14:30:00.000000"
        },
        {
         "Close": 224.23519897460938,
         "_deepnote_index_column": "2021-05-06T15:30:00.000000"
        },
        {
         "Close": 237.5,
         "_deepnote_index_column": "2021-05-07T09:30:00.000000"
        },
        {
         "Close": 238.3800048828125,
         "_deepnote_index_column": "2021-05-07T10:30:00.000000"
        },
        {
         "Close": 237.80999755859375,
         "_deepnote_index_column": "2021-05-07T11:30:00.000000"
        },
        {
         "Close": 234.0749969482422,
         "_deepnote_index_column": "2021-05-07T12:30:00.000000"
        },
        {
         "Close": 232.44119262695312,
         "_deepnote_index_column": "2021-05-07T13:30:00.000000"
        },
        {
         "Close": 234.83999633789062,
         "_deepnote_index_column": "2021-05-07T14:30:00.000000"
        },
        {
         "Close": 233.0500030517578,
         "_deepnote_index_column": "2021-05-07T15:30:00.000000"
        },
        {
         "Close": 221.57000732421875,
         "_deepnote_index_column": "2021-05-10T09:30:00.000000"
        },
        {
         "Close": 218.8300018310547,
         "_deepnote_index_column": "2021-05-10T10:30:00.000000"
        },
        {
         "Close": 218.2100067138672,
         "_deepnote_index_column": "2021-05-10T11:30:00.000000"
        },
        {
         "Close": 218.94000244140625,
         "_deepnote_index_column": "2021-05-10T12:30:00.000000"
        },
        {
         "Close": 216.47000122070312,
         "_deepnote_index_column": "2021-05-10T13:30:00.000000"
        },
        {
         "Close": 217.4550018310547,
         "_deepnote_index_column": "2021-05-10T14:30:00.000000"
        },
        {
         "Close": 216.42999267578125,
         "_deepnote_index_column": "2021-05-10T15:30:00.000000"
        },
        {
         "Close": 209.96839904785156,
         "_deepnote_index_column": "2021-05-11T09:30:00.000000"
        },
        {
         "Close": 218.32000732421875,
         "_deepnote_index_column": "2021-05-11T10:30:00.000000"
        },
        {
         "Close": 220.32000732421875,
         "_deepnote_index_column": "2021-05-11T11:30:00.000000"
        },
        {
         "Close": 221.00999450683594,
         "_deepnote_index_column": "2021-05-11T12:30:00.000000"
        },
        {
         "Close": 221.24000549316406,
         "_deepnote_index_column": "2021-05-11T13:30:00.000000"
        },
        {
         "Close": 220.14999389648438,
         "_deepnote_index_column": "2021-05-11T14:30:00.000000"
        },
        {
         "Close": 220.64999389648438,
         "_deepnote_index_column": "2021-05-11T15:30:00.000000"
        },
        {
         "Close": 213.75999450683594,
         "_deepnote_index_column": "2021-05-12T09:30:00.000000"
        },
        {
         "Close": 209.25999450683594,
         "_deepnote_index_column": "2021-05-12T10:30:00.000000"
        },
        {
         "Close": 208.75,
         "_deepnote_index_column": "2021-05-12T11:30:00.000000"
        },
        {
         "Close": 209.2899932861328,
         "_deepnote_index_column": "2021-05-12T12:30:00.000000"
        },
        {
         "Close": 208.2899932861328,
         "_deepnote_index_column": "2021-05-12T13:30:00.000000"
        },
        {
         "Close": 206.41000366210938,
         "_deepnote_index_column": "2021-05-12T14:30:00.000000"
        },
        {
         "Close": 206.5500030517578,
         "_deepnote_index_column": "2021-05-12T15:30:00.000000"
        },
        {
         "Close": 207.72000122070312,
         "_deepnote_index_column": "2021-05-13T09:30:00.000000"
        },
        {
         "Close": 201.97000122070312,
         "_deepnote_index_column": "2021-05-13T10:30:00.000000"
        },
        {
         "Close": 199.9600067138672,
         "_deepnote_index_column": "2021-05-13T11:30:00.000000"
        },
        {
         "Close": 193.83999633789062,
         "_deepnote_index_column": "2021-05-13T12:30:00.000000"
        },
        {
         "Close": 197.00999450683594,
         "_deepnote_index_column": "2021-05-13T13:30:00.000000"
        },
        {
         "Close": 196.8300018310547,
         "_deepnote_index_column": "2021-05-13T14:30:00.000000"
        },
        {
         "Close": 197.24000549316406,
         "_deepnote_index_column": "2021-05-13T15:30:00.000000"
        },
        {
         "Close": 205.84010314941406,
         "_deepnote_index_column": "2021-05-14T09:30:00.000000"
        },
        {
         "Close": 206.13119506835938,
         "_deepnote_index_column": "2021-05-14T10:30:00.000000"
        },
        {
         "Close": 206.8231964111328,
         "_deepnote_index_column": "2021-05-14T11:30:00.000000"
        },
        {
         "Close": 207.0399932861328,
         "_deepnote_index_column": "2021-05-14T12:30:00.000000"
        },
        {
         "Close": 207.23500061035156,
         "_deepnote_index_column": "2021-05-14T13:30:00.000000"
        },
        {
         "Close": 207.26010131835938,
         "_deepnote_index_column": "2021-05-14T14:30:00.000000"
        },
        {
         "Close": 207.55999755859375,
         "_deepnote_index_column": "2021-05-14T15:30:00.000000"
        },
        {
         "Close": 200.10000610351562,
         "_deepnote_index_column": "2021-05-17T09:30:00.000000"
        },
        {
         "Close": 198.80999755859375,
         "_deepnote_index_column": "2021-05-17T10:30:00.000000"
        },
        {
         "Close": 197.08999633789062,
         "_deepnote_index_column": "2021-05-17T11:30:00.000000"
        },
        {
         "Close": 196.4149932861328,
         "_deepnote_index_column": "2021-05-17T12:30:00.000000"
        },
        {
         "Close": 198.0850067138672,
         "_deepnote_index_column": "2021-05-17T13:30:00.000000"
        },
        {
         "Close": 199.40989685058594,
         "_deepnote_index_column": "2021-05-17T14:30:00.000000"
        },
        {
         "Close": 203.02999877929688,
         "_deepnote_index_column": "2021-05-17T15:30:00.000000"
        },
        {
         "Close": 209.16000366210938,
         "_deepnote_index_column": "2021-05-18T09:30:00.000000"
        },
        {
         "Close": 206.851806640625,
         "_deepnote_index_column": "2021-05-18T10:30:00.000000"
        },
        {
         "Close": 207.3300018310547,
         "_deepnote_index_column": "2021-05-18T11:30:00.000000"
        },
        {
         "Close": 207.05999755859375,
         "_deepnote_index_column": "2021-05-18T12:30:00.000000"
        },
        {
         "Close": 205.27000427246094,
         "_deepnote_index_column": "2021-05-18T13:30:00.000000"
        },
        {
         "Close": 204.63299560546875,
         "_deepnote_index_column": "2021-05-18T14:30:00.000000"
        },
        {
         "Close": 203.14999389648438,
         "_deepnote_index_column": "2021-05-18T15:30:00.000000"
        },
        {
         "Close": 196.52000427246094,
         "_deepnote_index_column": "2021-05-19T09:30:00.000000"
        },
        {
         "Close": 197.4499969482422,
         "_deepnote_index_column": "2021-05-19T10:30:00.000000"
        },
        {
         "Close": 199.10000610351562,
         "_deepnote_index_column": "2021-05-19T11:30:00.000000"
        },
        {
         "Close": 199.91000366210938,
         "_deepnote_index_column": "2021-05-19T12:30:00.000000"
        },
        {
         "Close": 199.9759979248047,
         "_deepnote_index_column": "2021-05-19T13:30:00.000000"
        },
        {
         "Close": 199.07000732421875,
         "_deepnote_index_column": "2021-05-19T14:30:00.000000"
        },
        {
         "Close": 200.14999389648438,
         "_deepnote_index_column": "2021-05-19T15:30:00.000000"
        },
        {
         "Close": 204.69500732421875,
         "_deepnote_index_column": "2021-05-20T09:30:00.000000"
        },
        {
         "Close": 205.35400390625,
         "_deepnote_index_column": "2021-05-20T10:30:00.000000"
        },
        {
         "Close": 204.02000427246094,
         "_deepnote_index_column": "2021-05-20T11:30:00.000000"
        },
        {
         "Close": 204.27000427246094,
         "_deepnote_index_column": "2021-05-20T12:30:00.000000"
        },
        {
         "Close": 204.01010131835938,
         "_deepnote_index_column": "2021-05-20T13:30:00.000000"
        },
        {
         "Close": 205.85000610351562,
         "_deepnote_index_column": "2021-05-20T14:30:00.000000"
        },
        {
         "Close": 204.89999389648438,
         "_deepnote_index_column": "2021-05-20T15:30:00.000000"
        },
        {
         "Close": 204.11500549316406,
         "_deepnote_index_column": "2021-05-21T09:30:00.000000"
        },
        {
         "Close": 201.42999267578125,
         "_deepnote_index_column": "2021-05-21T10:30:00.000000"
        },
        {
         "Close": 200.93499755859375,
         "_deepnote_index_column": "2021-05-21T11:30:00.000000"
        },
        {
         "Close": 201.906005859375,
         "_deepnote_index_column": "2021-05-21T12:30:00.000000"
        },
        {
         "Close": 200.6699981689453,
         "_deepnote_index_column": "2021-05-21T13:30:00.000000"
        },
        {
         "Close": 200.531005859375,
         "_deepnote_index_column": "2021-05-21T14:30:00.000000"
        },
        {
         "Close": 200.02499389648438,
         "_deepnote_index_column": "2021-05-21T15:30:00.000000"
        },
        {
         "Close": 203.14999389648438,
         "_deepnote_index_column": "2021-05-24T09:30:00.000000"
        },
        {
         "Close": 202.7301025390625,
         "_deepnote_index_column": "2021-05-24T10:30:00.000000"
        },
        {
         "Close": 203.1300048828125,
         "_deepnote_index_column": "2021-05-24T11:30:00.000000"
        },
        {
         "Close": 205.79930114746094,
         "_deepnote_index_column": "2021-05-24T12:30:00.000000"
        },
        {
         "Close": 205.7100067138672,
         "_deepnote_index_column": "2021-05-24T13:30:00.000000"
        },
        {
         "Close": 211.4199981689453,
         "_deepnote_index_column": "2021-05-24T14:30:00.000000"
        },
        {
         "Close": 210.8699951171875,
         "_deepnote_index_column": "2021-05-24T15:30:00.000000"
        },
        {
         "Close": 217.22000122070312,
         "_deepnote_index_column": "2021-05-25T09:30:00.000000"
        },
        {
         "Close": 216.82000732421875,
         "_deepnote_index_column": "2021-05-25T10:30:00.000000"
        },
        {
         "Close": 216.97000122070312,
         "_deepnote_index_column": "2021-05-25T11:30:00.000000"
        },
        {
         "Close": 218.44000244140625,
         "_deepnote_index_column": "2021-05-25T12:30:00.000000"
        },
        {
         "Close": 217.3800048828125,
         "_deepnote_index_column": "2021-05-25T13:30:00.000000"
        },
        {
         "Close": 216.4199981689453,
         "_deepnote_index_column": "2021-05-25T14:30:00.000000"
        },
        {
         "Close": 216.0399932861328,
         "_deepnote_index_column": "2021-05-25T15:30:00.000000"
        },
        {
         "Close": 220.97239685058594,
         "_deepnote_index_column": "2021-05-26T09:30:00.000000"
        },
        {
         "Close": 221.5,
         "_deepnote_index_column": "2021-05-26T10:30:00.000000"
        },
        {
         "Close": 221.22000122070312,
         "_deepnote_index_column": "2021-05-26T11:30:00.000000"
        },
        {
         "Close": 221.38999938964844,
         "_deepnote_index_column": "2021-05-26T12:30:00.000000"
        },
        {
         "Close": 222.3000030517578,
         "_deepnote_index_column": "2021-05-26T13:30:00.000000"
        },
        {
         "Close": 222.8000030517578,
         "_deepnote_index_column": "2021-05-26T14:30:00.000000"
        },
        {
         "Close": 222.07000732421875,
         "_deepnote_index_column": "2021-05-26T15:30:00.000000"
        },
        {
         "Close": 221.4407958984375,
         "_deepnote_index_column": "2021-05-27T09:30:00.000000"
        },
        {
         "Close": 222.7100067138672,
         "_deepnote_index_column": "2021-05-27T10:30:00.000000"
        },
        {
         "Close": 221.7899932861328,
         "_deepnote_index_column": "2021-05-27T11:30:00.000000"
        },
        {
         "Close": 222.25999450683594,
         "_deepnote_index_column": "2021-05-27T12:30:00.000000"
        },
        {
         "Close": 222.77999877929688,
         "_deepnote_index_column": "2021-05-27T13:30:00.000000"
        },
        {
         "Close": 221.97999572753906,
         "_deepnote_index_column": "2021-05-27T14:30:00.000000"
        },
        {
         "Close": 220.86000061035156,
         "_deepnote_index_column": "2021-05-27T15:30:00.000000"
        },
        {
         "Close": 223.3350067138672,
         "_deepnote_index_column": "2021-05-28T09:30:00.000000"
        },
        {
         "Close": 224.36000061035156,
         "_deepnote_index_column": "2021-05-28T10:30:00.000000"
        },
        {
         "Close": 224.0800018310547,
         "_deepnote_index_column": "2021-05-28T11:30:00.000000"
        },
        {
         "Close": 224.14630126953125,
         "_deepnote_index_column": "2021-05-28T12:30:00.000000"
        },
        {
         "Close": 224.53599548339844,
         "_deepnote_index_column": "2021-05-28T13:30:00.000000"
        },
        {
         "Close": 223.6199951171875,
         "_deepnote_index_column": "2021-05-28T14:30:00.000000"
        },
        {
         "Close": 222.4600067138672,
         "_deepnote_index_column": "2021-05-28T15:30:00.000000"
        },
        {
         "Close": 220.8800048828125,
         "_deepnote_index_column": "2021-06-01T09:30:00.000000"
        },
        {
         "Close": 221.60000610351562,
         "_deepnote_index_column": "2021-06-01T10:30:00.000000"
        },
        {
         "Close": 223.4199981689453,
         "_deepnote_index_column": "2021-06-01T11:30:00.000000"
        },
        {
         "Close": 223.60000610351562,
         "_deepnote_index_column": "2021-06-01T12:30:00.000000"
        },
        {
         "Close": 223.30999755859375,
         "_deepnote_index_column": "2021-06-01T13:30:00.000000"
        },
        {
         "Close": 222.38999938964844,
         "_deepnote_index_column": "2021-06-01T14:30:00.000000"
        },
        {
         "Close": 221.91000366210938,
         "_deepnote_index_column": "2021-06-01T15:30:00.000000"
        },
        {
         "Close": 221.7100067138672,
         "_deepnote_index_column": "2021-06-02T09:30:00.000000"
        },
        {
         "Close": 222.7899932861328,
         "_deepnote_index_column": "2021-06-02T10:30:00.000000"
        },
        {
         "Close": 222.02999877929688,
         "_deepnote_index_column": "2021-06-02T11:30:00.000000"
        },
        {
         "Close": 221.0399932861328,
         "_deepnote_index_column": "2021-06-02T12:30:00.000000"
        },
        {
         "Close": 219.6199951171875,
         "_deepnote_index_column": "2021-06-02T13:30:00.000000"
        },
        {
         "Close": 220.1999969482422,
         "_deepnote_index_column": "2021-06-02T14:30:00.000000"
        },
        {
         "Close": 220.47500610351562,
         "_deepnote_index_column": "2021-06-02T15:30:00.000000"
        },
        {
         "Close": 216.8800048828125,
         "_deepnote_index_column": "2021-06-03T09:30:00.000000"
        },
        {
         "Close": 215.33999633789062,
         "_deepnote_index_column": "2021-06-03T10:30:00.000000"
        },
        {
         "Close": 214.6199951171875,
         "_deepnote_index_column": "2021-06-03T11:30:00.000000"
        },
        {
         "Close": 214.2100067138672,
         "_deepnote_index_column": "2021-06-03T12:30:00.000000"
        },
        {
         "Close": 212.63999938964844,
         "_deepnote_index_column": "2021-06-03T13:30:00.000000"
        },
        {
         "Close": 212.36000061035156,
         "_deepnote_index_column": "2021-06-03T14:30:00.000000"
        },
        {
         "Close": 211.47000122070312,
         "_deepnote_index_column": "2021-06-03T15:30:00.000000"
        },
        {
         "Close": 212.6750030517578,
         "_deepnote_index_column": "2021-06-04T09:30:00.000000"
        },
        {
         "Close": 212.59820556640625,
         "_deepnote_index_column": "2021-06-04T10:30:00.000000"
        },
        {
         "Close": 215.06959533691406,
         "_deepnote_index_column": "2021-06-04T11:30:00.000000"
        },
        {
         "Close": 214.25999450683594,
         "_deepnote_index_column": "2021-06-04T12:30:00.000000"
        },
        {
         "Close": 213.74000549316406,
         "_deepnote_index_column": "2021-06-04T13:30:00.000000"
        },
        {
         "Close": 213.53379821777344,
         "_deepnote_index_column": "2021-06-04T14:30:00.000000"
        },
        {
         "Close": 213.75999450683594,
         "_deepnote_index_column": "2021-06-04T15:30:00.000000"
        },
        {
         "Close": 214.27000427246094,
         "_deepnote_index_column": "2021-06-07T09:30:00.000000"
        },
        {
         "Close": 215.52000427246094,
         "_deepnote_index_column": "2021-06-07T10:30:00.000000"
        },
        {
         "Close": 215.11000061035156,
         "_deepnote_index_column": "2021-06-07T11:30:00.000000"
        },
        {
         "Close": 214.05409240722656,
         "_deepnote_index_column": "2021-06-07T12:30:00.000000"
        },
        {
         "Close": 214.8800048828125,
         "_deepnote_index_column": "2021-06-07T13:30:00.000000"
        },
        {
         "Close": 216.77499389648438,
         "_deepnote_index_column": "2021-06-07T14:30:00.000000"
        },
        {
         "Close": 216.89999389648438,
         "_deepnote_index_column": "2021-06-07T15:30:00.000000"
        },
        {
         "Close": 217.09500122070312,
         "_deepnote_index_column": "2021-06-08T09:30:00.000000"
        },
        {
         "Close": 212.6300048828125,
         "_deepnote_index_column": "2021-06-08T10:30:00.000000"
        },
        {
         "Close": 213.94580078125,
         "_deepnote_index_column": "2021-06-08T11:30:00.000000"
        },
        {
         "Close": 213.6300048828125,
         "_deepnote_index_column": "2021-06-08T12:30:00.000000"
        },
        {
         "Close": 214.50999450683594,
         "_deepnote_index_column": "2021-06-08T13:30:00.000000"
        },
        {
         "Close": 214.82000732421875,
         "_deepnote_index_column": "2021-06-08T14:30:00.000000"
        },
        {
         "Close": 214.15350341796875,
         "_deepnote_index_column": "2021-06-08T15:30:00.000000"
        },
        {
         "Close": 213.97000122070312,
         "_deepnote_index_column": "2021-06-09T09:30:00.000000"
        },
        {
         "Close": 213.38999938964844,
         "_deepnote_index_column": "2021-06-09T10:30:00.000000"
        },
        {
         "Close": 213.33999633789062,
         "_deepnote_index_column": "2021-06-09T11:30:00.000000"
        },
        {
         "Close": 213.27999877929688,
         "_deepnote_index_column": "2021-06-09T12:30:00.000000"
        },
        {
         "Close": 212.35450744628906,
         "_deepnote_index_column": "2021-06-09T13:30:00.000000"
        },
        {
         "Close": 210.41000366210938,
         "_deepnote_index_column": "2021-06-09T14:30:00.000000"
        },
        {
         "Close": 210.2100067138672,
         "_deepnote_index_column": "2021-06-09T15:30:00.000000"
        },
        {
         "Close": 215.20799255371094,
         "_deepnote_index_column": "2021-06-10T09:30:00.000000"
        },
        {
         "Close": 213.9199981689453,
         "_deepnote_index_column": "2021-06-10T10:30:00.000000"
        },
        {
         "Close": 213.6199951171875,
         "_deepnote_index_column": "2021-06-10T11:30:00.000000"
        },
        {
         "Close": 215.0800018310547,
         "_deepnote_index_column": "2021-06-10T12:30:00.000000"
        },
        {
         "Close": 216.77000427246094,
         "_deepnote_index_column": "2021-06-10T13:30:00.000000"
        },
        {
         "Close": 216.9600067138672,
         "_deepnote_index_column": "2021-06-10T14:30:00.000000"
        },
        {
         "Close": 217.1199951171875,
         "_deepnote_index_column": "2021-06-10T15:30:00.000000"
        },
        {
         "Close": 222.3249053955078,
         "_deepnote_index_column": "2021-06-11T09:30:00.000000"
        },
        {
         "Close": 221.32000732421875,
         "_deepnote_index_column": "2021-06-11T10:30:00.000000"
        },
        {
         "Close": 220.41000366210938,
         "_deepnote_index_column": "2021-06-11T11:30:00.000000"
        },
        {
         "Close": 219.91000366210938,
         "_deepnote_index_column": "2021-06-11T12:30:00.000000"
        },
        {
         "Close": 219.73170471191406,
         "_deepnote_index_column": "2021-06-11T13:30:00.000000"
        },
        {
         "Close": 219.24000549316406,
         "_deepnote_index_column": "2021-06-11T14:30:00.000000"
        },
        {
         "Close": 219.33999633789062,
         "_deepnote_index_column": "2021-06-11T15:30:00.000000"
        },
        {
         "Close": 228.8699951171875,
         "_deepnote_index_column": "2021-06-14T09:30:00.000000"
        },
        {
         "Close": 228.41419982910156,
         "_deepnote_index_column": "2021-06-14T10:30:00.000000"
        },
        {
         "Close": 229.6300048828125,
         "_deepnote_index_column": "2021-06-14T11:30:00.000000"
        },
        {
         "Close": 229.91000366210938,
         "_deepnote_index_column": "2021-06-14T12:30:00.000000"
        },
        {
         "Close": 229.89999389648438,
         "_deepnote_index_column": "2021-06-14T13:30:00.000000"
        },
        {
         "Close": 230.9178924560547,
         "_deepnote_index_column": "2021-06-14T14:30:00.000000"
        },
        {
         "Close": 230.9499969482422,
         "_deepnote_index_column": "2021-06-14T15:30:00.000000"
        },
        {
         "Close": 228.67999267578125,
         "_deepnote_index_column": "2021-06-15T09:30:00.000000"
        },
        {
         "Close": 227.38929748535156,
         "_deepnote_index_column": "2021-06-15T10:30:00.000000"
        },
        {
         "Close": 228.10000610351562,
         "_deepnote_index_column": "2021-06-15T11:30:00.000000"
        },
        {
         "Close": 227.35000610351562,
         "_deepnote_index_column": "2021-06-15T12:30:00.000000"
        },
        {
         "Close": 228.1699981689453,
         "_deepnote_index_column": "2021-06-15T13:30:00.000000"
        },
        {
         "Close": 227.77999877929688,
         "_deepnote_index_column": "2021-06-15T14:30:00.000000"
        },
        {
         "Close": 227.72000122070312,
         "_deepnote_index_column": "2021-06-15T15:30:00.000000"
        },
        {
         "Close": 227.13999938964844,
         "_deepnote_index_column": "2021-06-16T09:30:00.000000"
        },
        {
         "Close": 226.52000427246094,
         "_deepnote_index_column": "2021-06-16T10:30:00.000000"
        },
        {
         "Close": 223.8800048828125,
         "_deepnote_index_column": "2021-06-16T11:30:00.000000"
        },
        {
         "Close": 224.9949951171875,
         "_deepnote_index_column": "2021-06-16T12:30:00.000000"
        },
        {
         "Close": 223.49000549316406,
         "_deepnote_index_column": "2021-06-16T13:30:00.000000"
        },
        {
         "Close": 224.39999389648438,
         "_deepnote_index_column": "2021-06-16T14:30:00.000000"
        },
        {
         "Close": 225.14999389648438,
         "_deepnote_index_column": "2021-06-16T15:30:00.000000"
        },
        {
         "Close": 231.2501983642578,
         "_deepnote_index_column": "2021-06-17T09:30:00.000000"
        },
        {
         "Close": 235.28030395507812,
         "_deepnote_index_column": "2021-06-17T10:30:00.000000"
        },
        {
         "Close": 232.3300018310547,
         "_deepnote_index_column": "2021-06-17T11:30:00.000000"
        },
        {
         "Close": 236.19000244140625,
         "_deepnote_index_column": "2021-06-17T12:30:00.000000"
        },
        {
         "Close": 237.4199981689453,
         "_deepnote_index_column": "2021-06-17T13:30:00.000000"
        },
        {
         "Close": 236.49119567871094,
         "_deepnote_index_column": "2021-06-17T14:30:00.000000"
        },
        {
         "Close": 236.25,
         "_deepnote_index_column": "2021-06-17T15:30:00.000000"
        },
        {
         "Close": 236.27999877929688,
         "_deepnote_index_column": "2021-06-18T09:30:00.000000"
        },
        {
         "Close": 234.01739501953125,
         "_deepnote_index_column": "2021-06-18T10:30:00.000000"
        },
        {
         "Close": 238.27000427246094,
         "_deepnote_index_column": "2021-06-18T11:30:00.000000"
        },
        {
         "Close": 238.49000549316406,
         "_deepnote_index_column": "2021-06-18T12:30:00.000000"
        },
        {
         "Close": 238.16000366210938,
         "_deepnote_index_column": "2021-06-18T13:30:00.000000"
        },
        {
         "Close": 237.35000610351562,
         "_deepnote_index_column": "2021-06-18T14:30:00.000000"
        },
        {
         "Close": 237.1699981689453,
         "_deepnote_index_column": "2021-06-18T15:30:00.000000"
        },
        {
         "Close": 230.5,
         "_deepnote_index_column": "2021-06-21T09:30:00.000000"
        },
        {
         "Close": 233.33999633789062,
         "_deepnote_index_column": "2021-06-21T10:30:00.000000"
        },
        {
         "Close": 234.3300018310547,
         "_deepnote_index_column": "2021-06-21T11:30:00.000000"
        },
        {
         "Close": 234.5500030517578,
         "_deepnote_index_column": "2021-06-21T12:30:00.000000"
        },
        {
         "Close": 234.24220275878906,
         "_deepnote_index_column": "2021-06-21T13:30:00.000000"
        },
        {
         "Close": 233.6750030517578,
         "_deepnote_index_column": "2021-06-21T14:30:00.000000"
        },
        {
         "Close": 233.91000366210938,
         "_deepnote_index_column": "2021-06-21T15:30:00.000000"
        },
        {
         "Close": 232.5800018310547,
         "_deepnote_index_column": "2021-06-22T09:30:00.000000"
        },
        {
         "Close": 233.88890075683594,
         "_deepnote_index_column": "2021-06-22T10:30:00.000000"
        },
        {
         "Close": 234.27999877929688,
         "_deepnote_index_column": "2021-06-22T11:30:00.000000"
        },
        {
         "Close": 233.44000244140625,
         "_deepnote_index_column": "2021-06-22T12:30:00.000000"
        },
        {
         "Close": 233.91000366210938,
         "_deepnote_index_column": "2021-06-22T13:30:00.000000"
        },
        {
         "Close": 236,
         "_deepnote_index_column": "2021-06-22T14:30:00.000000"
        },
        {
         "Close": 235.97999572753906,
         "_deepnote_index_column": "2021-06-22T15:30:00.000000"
        },
        {
         "Close": 241.49000549316406,
         "_deepnote_index_column": "2021-06-23T09:30:00.000000"
        },
        {
         "Close": 239.52499389648438,
         "_deepnote_index_column": "2021-06-23T10:30:00.000000"
        },
        {
         "Close": 240.22000122070312,
         "_deepnote_index_column": "2021-06-23T11:30:00.000000"
        },
        {
         "Close": 240.23800659179688,
         "_deepnote_index_column": "2021-06-23T12:30:00.000000"
        },
        {
         "Close": 238.61019897460938,
         "_deepnote_index_column": "2021-06-23T13:30:00.000000"
        },
        {
         "Close": 239.27000427246094,
         "_deepnote_index_column": "2021-06-23T14:30:00.000000"
        },
        {
         "Close": 238.69000244140625,
         "_deepnote_index_column": "2021-06-23T15:30:00.000000"
        },
        {
         "Close": 245.1999969482422,
         "_deepnote_index_column": "2021-06-24T09:30:00.000000"
        },
        {
         "Close": 246.50999450683594,
         "_deepnote_index_column": "2021-06-24T10:30:00.000000"
        },
        {
         "Close": 248.32000732421875,
         "_deepnote_index_column": "2021-06-24T11:30:00.000000"
        },
        {
         "Close": 245.02999877929688,
         "_deepnote_index_column": "2021-06-24T12:30:00.000000"
        },
        {
         "Close": 244.94900512695312,
         "_deepnote_index_column": "2021-06-24T13:30:00.000000"
        },
        {
         "Close": 243.64999389648438,
         "_deepnote_index_column": "2021-06-24T14:30:00.000000"
        },
        {
         "Close": 244.27999877929688,
         "_deepnote_index_column": "2021-06-24T15:30:00.000000"
        },
        {
         "Close": 240.6300048828125,
         "_deepnote_index_column": "2021-06-25T09:30:00.000000"
        },
        {
         "Close": 240.1074981689453,
         "_deepnote_index_column": "2021-06-25T10:30:00.000000"
        },
        {
         "Close": 237.66000366210938,
         "_deepnote_index_column": "2021-06-25T11:30:00.000000"
        },
        {
         "Close": 238.67430114746094,
         "_deepnote_index_column": "2021-06-25T12:30:00.000000"
        },
        {
         "Close": 237.61000061035156,
         "_deepnote_index_column": "2021-06-25T13:30:00.000000"
        },
        {
         "Close": 238.72999572753906,
         "_deepnote_index_column": "2021-06-25T14:30:00.000000"
        },
        {
         "Close": 240.24000549316406,
         "_deepnote_index_column": "2021-06-25T15:30:00.000000"
        },
        {
         "Close": 243.7303924560547,
         "_deepnote_index_column": "2021-06-28T09:30:00.000000"
        },
        {
         "Close": 244.6999969482422,
         "_deepnote_index_column": "2021-06-28T10:30:00.000000"
        },
        {
         "Close": 246.49000549316406,
         "_deepnote_index_column": "2021-06-28T11:30:00.000000"
        },
        {
         "Close": 245.44000244140625,
         "_deepnote_index_column": "2021-06-28T12:30:00.000000"
        },
        {
         "Close": 246.9199981689453,
         "_deepnote_index_column": "2021-06-28T13:30:00.000000"
        },
        {
         "Close": 246.84500122070312,
         "_deepnote_index_column": "2021-06-28T14:30:00.000000"
        },
        {
         "Close": 246.60000610351562,
         "_deepnote_index_column": "2021-06-28T15:30:00.000000"
        },
        {
         "Close": 248.5399932861328,
         "_deepnote_index_column": "2021-06-29T09:30:00.000000"
        },
        {
         "Close": 247.0449981689453,
         "_deepnote_index_column": "2021-06-29T10:30:00.000000"
        },
        {
         "Close": 248.69500732421875,
         "_deepnote_index_column": "2021-06-29T11:30:00.000000"
        },
        {
         "Close": 249.4600067138672,
         "_deepnote_index_column": "2021-06-29T12:30:00.000000"
        },
        {
         "Close": 248.9398956298828,
         "_deepnote_index_column": "2021-06-29T13:30:00.000000"
        },
        {
         "Close": 248.28570556640625,
         "_deepnote_index_column": "2021-06-29T14:30:00.000000"
        },
        {
         "Close": 248.8800048828125,
         "_deepnote_index_column": "2021-06-29T15:30:00.000000"
        },
        {
         "Close": 245.94000244140625,
         "_deepnote_index_column": "2021-06-30T09:30:00.000000"
        },
        {
         "Close": 245.27000427246094,
         "_deepnote_index_column": "2021-06-30T10:30:00.000000"
        },
        {
         "Close": 243.99000549316406,
         "_deepnote_index_column": "2021-06-30T11:30:00.000000"
        },
        {
         "Close": 244.33999633789062,
         "_deepnote_index_column": "2021-06-30T12:30:00.000000"
        },
        {
         "Close": 244.0800018310547,
         "_deepnote_index_column": "2021-06-30T13:30:00.000000"
        },
        {
         "Close": 244.07000732421875,
         "_deepnote_index_column": "2021-06-30T14:30:00.000000"
        },
        {
         "Close": 243.72999572753906,
         "_deepnote_index_column": "2021-06-30T15:30:00.000000"
        },
        {
         "Close": 242.2899932861328,
         "_deepnote_index_column": "2021-07-01T09:30:00.000000"
        },
        {
         "Close": 238.9718017578125,
         "_deepnote_index_column": "2021-07-01T10:30:00.000000"
        },
        {
         "Close": 241.07000732421875,
         "_deepnote_index_column": "2021-07-01T11:30:00.000000"
        },
        {
         "Close": 241.2550048828125,
         "_deepnote_index_column": "2021-07-01T12:30:00.000000"
        },
        {
         "Close": 241.63499450683594,
         "_deepnote_index_column": "2021-07-01T13:30:00.000000"
        },
        {
         "Close": 241.8199005126953,
         "_deepnote_index_column": "2021-07-01T14:30:00.000000"
        },
        {
         "Close": 241.9600067138672,
         "_deepnote_index_column": "2021-07-01T15:30:00.000000"
        },
        {
         "Close": 241.02000427246094,
         "_deepnote_index_column": "2021-07-02T09:30:00.000000"
        },
        {
         "Close": 239.92999267578125,
         "_deepnote_index_column": "2021-07-02T10:30:00.000000"
        },
        {
         "Close": 239.72500610351562,
         "_deepnote_index_column": "2021-07-02T11:30:00.000000"
        },
        {
         "Close": 240.24000549316406,
         "_deepnote_index_column": "2021-07-02T12:30:00.000000"
        },
        {
         "Close": 240.91220092773438,
         "_deepnote_index_column": "2021-07-02T13:30:00.000000"
        },
        {
         "Close": 240.97999572753906,
         "_deepnote_index_column": "2021-07-02T14:30:00.000000"
        },
        {
         "Close": 241.10000610351562,
         "_deepnote_index_column": "2021-07-02T15:30:00.000000"
        },
        {
         "Close": 248.19000244140625,
         "_deepnote_index_column": "2021-07-06T09:30:00.000000"
        },
        {
         "Close": 245.9600067138672,
         "_deepnote_index_column": "2021-07-06T10:30:00.000000"
        },
        {
         "Close": 244.14500427246094,
         "_deepnote_index_column": "2021-07-06T11:30:00.000000"
        },
        {
         "Close": 245.0800018310547,
         "_deepnote_index_column": "2021-07-06T12:30:00.000000"
        },
        {
         "Close": 245.51040649414062,
         "_deepnote_index_column": "2021-07-06T13:30:00.000000"
        },
        {
         "Close": 246.49000549316406,
         "_deepnote_index_column": "2021-07-06T14:30:00.000000"
        },
        {
         "Close": 246.7899932861328,
         "_deepnote_index_column": "2021-07-06T15:30:00.000000"
        },
        {
         "Close": 248.60000610351562,
         "_deepnote_index_column": "2021-07-07T09:30:00.000000"
        },
        {
         "Close": 247.22579956054688,
         "_deepnote_index_column": "2021-07-07T10:30:00.000000"
        },
        {
         "Close": 247.10000610351562,
         "_deepnote_index_column": "2021-07-07T11:30:00.000000"
        },
        {
         "Close": 245.8300018310547,
         "_deepnote_index_column": "2021-07-07T12:30:00.000000"
        },
        {
         "Close": 246.48500061035156,
         "_deepnote_index_column": "2021-07-07T13:30:00.000000"
        },
        {
         "Close": 245.69000244140625,
         "_deepnote_index_column": "2021-07-07T14:30:00.000000"
        },
        {
         "Close": 244.63999938964844,
         "_deepnote_index_column": "2021-07-07T15:30:00.000000"
        },
        {
         "Close": 235.33999633789062,
         "_deepnote_index_column": "2021-07-08T09:30:00.000000"
        },
        {
         "Close": 233.2899932861328,
         "_deepnote_index_column": "2021-07-08T10:30:00.000000"
        },
        {
         "Close": 235.55999755859375,
         "_deepnote_index_column": "2021-07-08T11:30:00.000000"
        },
        {
         "Close": 237.1199951171875,
         "_deepnote_index_column": "2021-07-08T12:30:00.000000"
        },
        {
         "Close": 236.86019897460938,
         "_deepnote_index_column": "2021-07-08T13:30:00.000000"
        },
        {
         "Close": 236.3699951171875,
         "_deepnote_index_column": "2021-07-08T14:30:00.000000"
        },
        {
         "Close": 235.83999633789062,
         "_deepnote_index_column": "2021-07-08T15:30:00.000000"
        },
        {
         "Close": 237.875,
         "_deepnote_index_column": "2021-07-09T09:30:00.000000"
        },
        {
         "Close": 240.14999389648438,
         "_deepnote_index_column": "2021-07-09T10:30:00.000000"
        },
        {
         "Close": 240.5500030517578,
         "_deepnote_index_column": "2021-07-09T11:30:00.000000"
        },
        {
         "Close": 240.8800048828125,
         "_deepnote_index_column": "2021-07-09T12:30:00.000000"
        },
        {
         "Close": 241.91000366210938,
         "_deepnote_index_column": "2021-07-09T13:30:00.000000"
        },
        {
         "Close": 240.67999267578125,
         "_deepnote_index_column": "2021-07-09T14:30:00.000000"
        },
        {
         "Close": 241.89999389648438,
         "_deepnote_index_column": "2021-07-09T15:30:00.000000"
        },
        {
         "Close": 243.35000610351562,
         "_deepnote_index_column": "2021-07-12T09:30:00.000000"
        },
        {
         "Close": 243.1999969482422,
         "_deepnote_index_column": "2021-07-12T10:30:00.000000"
        },
        {
         "Close": 243.14999389648438,
         "_deepnote_index_column": "2021-07-12T11:30:00.000000"
        },
        {
         "Close": 243.0500030517578,
         "_deepnote_index_column": "2021-07-12T12:30:00.000000"
        },
        {
         "Close": 242.97000122070312,
         "_deepnote_index_column": "2021-07-12T13:30:00.000000"
        },
        {
         "Close": 243.4010009765625,
         "_deepnote_index_column": "2021-07-12T14:30:00.000000"
        },
        {
         "Close": 243.27999877929688,
         "_deepnote_index_column": "2021-07-12T15:30:00.000000"
        },
        {
         "Close": 244.27000427246094,
         "_deepnote_index_column": "2021-07-13T09:30:00.000000"
        },
        {
         "Close": 244.7100067138672,
         "_deepnote_index_column": "2021-07-13T10:30:00.000000"
        },
        {
         "Close": 244.83749389648438,
         "_deepnote_index_column": "2021-07-13T11:30:00.000000"
        },
        {
         "Close": 242.72999572753906,
         "_deepnote_index_column": "2021-07-13T12:30:00.000000"
        },
        {
         "Close": 242.35000610351562,
         "_deepnote_index_column": "2021-07-13T13:30:00.000000"
        },
        {
         "Close": 241.46499633789062,
         "_deepnote_index_column": "2021-07-13T14:30:00.000000"
        },
        {
         "Close": 241.42999267578125,
         "_deepnote_index_column": "2021-07-13T15:30:00.000000"
        },
        {
         "Close": 244.05239868164062,
         "_deepnote_index_column": "2021-07-14T09:30:00.000000"
        },
        {
         "Close": 241.38999938964844,
         "_deepnote_index_column": "2021-07-14T10:30:00.000000"
        },
        {
         "Close": 241.75,
         "_deepnote_index_column": "2021-07-14T11:30:00.000000"
        },
        {
         "Close": 239.96499633789062,
         "_deepnote_index_column": "2021-07-14T12:30:00.000000"
        },
        {
         "Close": 240.1407928466797,
         "_deepnote_index_column": "2021-07-14T13:30:00.000000"
        },
        {
         "Close": 238.84970092773438,
         "_deepnote_index_column": "2021-07-14T14:30:00.000000"
        },
        {
         "Close": 238.97000122070312,
         "_deepnote_index_column": "2021-07-14T15:30:00.000000"
        },
        {
         "Close": 239.24000549316406,
         "_deepnote_index_column": "2021-07-15T09:30:00.000000"
        },
        {
         "Close": 239.35000610351562,
         "_deepnote_index_column": "2021-07-15T10:30:00.000000"
        },
        {
         "Close": 235.58999633789062,
         "_deepnote_index_column": "2021-07-15T11:30:00.000000"
        },
        {
         "Close": 235.36000061035156,
         "_deepnote_index_column": "2021-07-15T12:30:00.000000"
        },
        {
         "Close": 234.4499969482422,
         "_deepnote_index_column": "2021-07-15T13:30:00.000000"
        },
        {
         "Close": 235.3699951171875,
         "_deepnote_index_column": "2021-07-15T14:30:00.000000"
        },
        {
         "Close": 235.16000366210938,
         "_deepnote_index_column": "2021-07-15T15:30:00.000000"
        },
        {
         "Close": 235.24000549316406,
         "_deepnote_index_column": "2021-07-16T09:30:00.000000"
        },
        {
         "Close": 236.74000549316406,
         "_deepnote_index_column": "2021-07-16T10:30:00.000000"
        },
        {
         "Close": 239.3300018310547,
         "_deepnote_index_column": "2021-07-16T11:30:00.000000"
        },
        {
         "Close": 238.49400329589844,
         "_deepnote_index_column": "2021-07-16T12:30:00.000000"
        },
        {
         "Close": 237.6909942626953,
         "_deepnote_index_column": "2021-07-16T13:30:00.000000"
        },
        {
         "Close": 237.264892578125,
         "_deepnote_index_column": "2021-07-16T14:30:00.000000"
        },
        {
         "Close": 237.55999755859375,
         "_deepnote_index_column": "2021-07-16T15:30:00.000000"
        },
        {
         "Close": 228.5399932861328,
         "_deepnote_index_column": "2021-07-19T09:30:00.000000"
        },
        {
         "Close": 231.9199981689453,
         "_deepnote_index_column": "2021-07-19T10:30:00.000000"
        },
        {
         "Close": 231.61000061035156,
         "_deepnote_index_column": "2021-07-19T11:30:00.000000"
        },
        {
         "Close": 230.59500122070312,
         "_deepnote_index_column": "2021-07-19T12:30:00.000000"
        },
        {
         "Close": 232.83450317382812,
         "_deepnote_index_column": "2021-07-19T13:30:00.000000"
        },
        {
         "Close": 232,
         "_deepnote_index_column": "2021-07-19T14:30:00.000000"
        },
        {
         "Close": 233.69000244140625,
         "_deepnote_index_column": "2021-07-19T15:30:00.000000"
        },
        {
         "Close": 236.32000732421875,
         "_deepnote_index_column": "2021-07-20T09:30:00.000000"
        },
        {
         "Close": 242.10000610351562,
         "_deepnote_index_column": "2021-07-20T10:30:00.000000"
        },
        {
         "Close": 241.95449829101562,
         "_deepnote_index_column": "2021-07-20T11:30:00.000000"
        },
        {
         "Close": 244.2050018310547,
         "_deepnote_index_column": "2021-07-20T12:30:00.000000"
        },
        {
         "Close": 246.2899932861328,
         "_deepnote_index_column": "2021-07-20T13:30:00.000000"
        },
        {
         "Close": 246.75,
         "_deepnote_index_column": "2021-07-20T14:30:00.000000"
        },
        {
         "Close": 246.5399932861328,
         "_deepnote_index_column": "2021-07-20T15:30:00.000000"
        },
        {
         "Close": 252.5,
         "_deepnote_index_column": "2021-07-21T09:30:00.000000"
        },
        {
         "Close": 252.33999633789062,
         "_deepnote_index_column": "2021-07-21T10:30:00.000000"
        },
        {
         "Close": 253.4499969482422,
         "_deepnote_index_column": "2021-07-21T11:30:00.000000"
        },
        {
         "Close": 256.31298828125,
         "_deepnote_index_column": "2021-07-21T12:30:00.000000"
        },
        {
         "Close": 258.3500061035156,
         "_deepnote_index_column": "2021-07-21T13:30:00.000000"
        },
        {
         "Close": 256.864990234375,
         "_deepnote_index_column": "2021-07-21T14:30:00.000000"
        },
        {
         "Close": 257.25,
         "_deepnote_index_column": "2021-07-21T15:30:00.000000"
        },
        {
         "Close": 261.4700012207031,
         "_deepnote_index_column": "2021-07-22T09:30:00.000000"
        },
        {
         "Close": 259.3299865722656,
         "_deepnote_index_column": "2021-07-22T10:30:00.000000"
        },
        {
         "Close": 259.55999755859375,
         "_deepnote_index_column": "2021-07-22T11:30:00.000000"
        },
        {
         "Close": 260.5299987792969,
         "_deepnote_index_column": "2021-07-22T12:30:00.000000"
        },
        {
         "Close": 260.9700012207031,
         "_deepnote_index_column": "2021-07-22T13:30:00.000000"
        },
        {
         "Close": 260.25,
         "_deepnote_index_column": "2021-07-22T14:30:00.000000"
        },
        {
         "Close": 260.6000061035156,
         "_deepnote_index_column": "2021-07-22T15:30:00.000000"
        },
        {
         "Close": 265.1700134277344,
         "_deepnote_index_column": "2021-07-23T09:30:00.000000"
        },
        {
         "Close": 264.2900085449219,
         "_deepnote_index_column": "2021-07-23T10:30:00.000000"
        },
        {
         "Close": 263.6000061035156,
         "_deepnote_index_column": "2021-07-23T11:30:00.000000"
        },
        {
         "Close": 263.1000061035156,
         "_deepnote_index_column": "2021-07-23T12:30:00.000000"
        },
        {
         "Close": 263.8299865722656,
         "_deepnote_index_column": "2021-07-23T13:30:00.000000"
        },
        {
         "Close": 263.8399963378906,
         "_deepnote_index_column": "2021-07-23T14:30:00.000000"
        },
        {
         "Close": 264.07000732421875,
         "_deepnote_index_column": "2021-07-23T15:30:00.000000"
        },
        {
         "Close": 263.79998779296875,
         "_deepnote_index_column": "2021-07-26T09:30:00.000000"
        },
        {
         "Close": 261.90008544921875,
         "_deepnote_index_column": "2021-07-26T10:30:00.000000"
        },
        {
         "Close": 262.4599914550781,
         "_deepnote_index_column": "2021-07-26T11:30:00.000000"
        },
        {
         "Close": 262.6000061035156,
         "_deepnote_index_column": "2021-07-26T12:30:00.000000"
        },
        {
         "Close": 261.5639953613281,
         "_deepnote_index_column": "2021-07-26T13:30:00.000000"
        },
        {
         "Close": 262.54998779296875,
         "_deepnote_index_column": "2021-07-26T14:30:00.000000"
        },
        {
         "Close": 262.04998779296875,
         "_deepnote_index_column": "2021-07-26T15:30:00.000000"
        },
        {
         "Close": 253.86720275878906,
         "_deepnote_index_column": "2021-07-27T09:30:00.000000"
        },
        {
         "Close": 246.5540008544922,
         "_deepnote_index_column": "2021-07-27T10:30:00.000000"
        },
        {
         "Close": 248.99000549316406,
         "_deepnote_index_column": "2021-07-27T11:30:00.000000"
        },
        {
         "Close": 247.6300048828125,
         "_deepnote_index_column": "2021-07-27T12:30:00.000000"
        },
        {
         "Close": 250.61000061035156,
         "_deepnote_index_column": "2021-07-27T13:30:00.000000"
        },
        {
         "Close": 252.27000427246094,
         "_deepnote_index_column": "2021-07-27T14:30:00.000000"
        },
        {
         "Close": 251.72999572753906,
         "_deepnote_index_column": "2021-07-27T15:30:00.000000"
        },
        {
         "Close": 256.29998779296875,
         "_deepnote_index_column": "2021-07-28T09:30:00.000000"
        },
        {
         "Close": 258.4150085449219,
         "_deepnote_index_column": "2021-07-28T10:30:00.000000"
        },
        {
         "Close": 258.95001220703125,
         "_deepnote_index_column": "2021-07-28T11:30:00.000000"
        },
        {
         "Close": 257.0400085449219,
         "_deepnote_index_column": "2021-07-28T12:30:00.000000"
        },
        {
         "Close": 258.4800109863281,
         "_deepnote_index_column": "2021-07-28T13:30:00.000000"
        },
        {
         "Close": 259.7099914550781,
         "_deepnote_index_column": "2021-07-28T14:30:00.000000"
        },
        {
         "Close": 258.4700012207031,
         "_deepnote_index_column": "2021-07-28T15:30:00.000000"
        },
        {
         "Close": 259.70001220703125,
         "_deepnote_index_column": "2021-07-29T09:30:00.000000"
        },
        {
         "Close": 260.1900939941406,
         "_deepnote_index_column": "2021-07-29T10:30:00.000000"
        },
        {
         "Close": 260.2200012207031,
         "_deepnote_index_column": "2021-07-29T11:30:00.000000"
        },
        {
         "Close": 257.864990234375,
         "_deepnote_index_column": "2021-07-29T12:30:00.000000"
        },
        {
         "Close": 255.4700927734375,
         "_deepnote_index_column": "2021-07-29T13:30:00.000000"
        },
        {
         "Close": 254.93499755859375,
         "_deepnote_index_column": "2021-07-29T14:30:00.000000"
        },
        {
         "Close": 255.27000427246094,
         "_deepnote_index_column": "2021-07-29T15:30:00.000000"
        },
        {
         "Close": 251.60499572753906,
         "_deepnote_index_column": "2021-07-30T09:30:00.000000"
        },
        {
         "Close": 248.32000732421875,
         "_deepnote_index_column": "2021-07-30T10:30:00.000000"
        },
        {
         "Close": 247.17999267578125,
         "_deepnote_index_column": "2021-07-30T11:30:00.000000"
        },
        {
         "Close": 247.59840393066406,
         "_deepnote_index_column": "2021-07-30T12:30:00.000000"
        },
        {
         "Close": 245.77000427246094,
         "_deepnote_index_column": "2021-07-30T13:30:00.000000"
        },
        {
         "Close": 245.9199981689453,
         "_deepnote_index_column": "2021-07-30T14:30:00.000000"
        },
        {
         "Close": 247.25,
         "_deepnote_index_column": "2021-07-30T15:30:00.000000"
        },
        {
         "Close": 269.95001220703125,
         "_deepnote_index_column": "2021-08-02T09:30:00.000000"
        },
        {
         "Close": 275.239990234375,
         "_deepnote_index_column": "2021-08-02T10:30:00.000000"
        },
        {
         "Close": 275.19000244140625,
         "_deepnote_index_column": "2021-08-02T11:30:00.000000"
        },
        {
         "Close": 276.32000732421875,
         "_deepnote_index_column": "2021-08-02T12:30:00.000000"
        },
        {
         "Close": 279.6247863769531,
         "_deepnote_index_column": "2021-08-02T13:30:00.000000"
        },
        {
         "Close": 273.1388854980469,
         "_deepnote_index_column": "2021-08-02T14:30:00.000000"
        },
        {
         "Close": 272.3999938964844,
         "_deepnote_index_column": "2021-08-02T15:30:00.000000"
        },
        {
         "Close": 266.0799865722656,
         "_deepnote_index_column": "2021-08-03T09:30:00.000000"
        },
        {
         "Close": 263.30999755859375,
         "_deepnote_index_column": "2021-08-03T10:30:00.000000"
        },
        {
         "Close": 271.67999267578125,
         "_deepnote_index_column": "2021-08-03T11:30:00.000000"
        },
        {
         "Close": 268.8900146484375,
         "_deepnote_index_column": "2021-08-03T12:30:00.000000"
        },
        {
         "Close": 266.9849853515625,
         "_deepnote_index_column": "2021-08-03T13:30:00.000000"
        },
        {
         "Close": 269.6798095703125,
         "_deepnote_index_column": "2021-08-03T14:30:00.000000"
        },
        {
         "Close": 269.3999938964844,
         "_deepnote_index_column": "2021-08-03T15:30:00.000000"
        },
        {
         "Close": 263.5899963378906,
         "_deepnote_index_column": "2021-08-04T09:30:00.000000"
        },
        {
         "Close": 265.6600036621094,
         "_deepnote_index_column": "2021-08-04T10:30:00.000000"
        },
        {
         "Close": 265.4100036621094,
         "_deepnote_index_column": "2021-08-04T11:30:00.000000"
        },
        {
         "Close": 266.4849853515625,
         "_deepnote_index_column": "2021-08-04T12:30:00.000000"
        },
        {
         "Close": 265.9200134277344,
         "_deepnote_index_column": "2021-08-04T13:30:00.000000"
        },
        {
         "Close": 265.5,
         "_deepnote_index_column": "2021-08-04T14:30:00.000000"
        },
        {
         "Close": 266.45001220703125,
         "_deepnote_index_column": "2021-08-04T15:30:00.000000"
        },
        {
         "Close": 278.2344970703125,
         "_deepnote_index_column": "2021-08-05T09:30:00.000000"
        },
        {
         "Close": 287.25,
         "_deepnote_index_column": "2021-08-05T10:30:00.000000"
        },
        {
         "Close": 287.32000732421875,
         "_deepnote_index_column": "2021-08-05T11:30:00.000000"
        },
        {
         "Close": 283.7300109863281,
         "_deepnote_index_column": "2021-08-05T12:30:00.000000"
        },
        {
         "Close": 283.8900146484375,
         "_deepnote_index_column": "2021-08-05T13:30:00.000000"
        },
        {
         "Close": 282.4599914550781,
         "_deepnote_index_column": "2021-08-05T14:30:00.000000"
        },
        {
         "Close": 281.79998779296875,
         "_deepnote_index_column": "2021-08-05T15:30:00.000000"
        },
        {
         "Close": 279.1000061035156,
         "_deepnote_index_column": "2021-08-06T09:30:00.000000"
        },
        {
         "Close": 277.2200012207031,
         "_deepnote_index_column": "2021-08-06T10:30:00.000000"
        },
        {
         "Close": 278.6400146484375,
         "_deepnote_index_column": "2021-08-06T11:30:00.000000"
        },
        {
         "Close": 276.6119079589844,
         "_deepnote_index_column": "2021-08-06T12:30:00.000000"
        },
        {
         "Close": 276.2349853515625,
         "_deepnote_index_column": "2021-08-06T13:30:00.000000"
        },
        {
         "Close": 276.0409851074219,
         "_deepnote_index_column": "2021-08-06T14:30:00.000000"
        },
        {
         "Close": 275.06500244140625,
         "_deepnote_index_column": "2021-08-06T15:30:00.000000"
        },
        {
         "Close": 281.2298889160156,
         "_deepnote_index_column": "2021-08-09T09:30:00.000000"
        },
        {
         "Close": 280.7699890136719,
         "_deepnote_index_column": "2021-08-09T10:30:00.000000"
        },
        {
         "Close": 282.98480224609375,
         "_deepnote_index_column": "2021-08-09T11:30:00.000000"
        },
        {
         "Close": 284.364990234375,
         "_deepnote_index_column": "2021-08-09T12:30:00.000000"
        },
        {
         "Close": 282.67999267578125,
         "_deepnote_index_column": "2021-08-09T13:30:00.000000"
        },
        {
         "Close": 280.5799865722656,
         "_deepnote_index_column": "2021-08-09T14:30:00.000000"
        },
        {
         "Close": 279.7099914550781,
         "_deepnote_index_column": "2021-08-09T15:30:00.000000"
        },
        {
         "Close": 278.1571960449219,
         "_deepnote_index_column": "2021-08-10T09:30:00.000000"
        },
        {
         "Close": 277.5,
         "_deepnote_index_column": "2021-08-10T10:30:00.000000"
        },
        {
         "Close": 277.697998046875,
         "_deepnote_index_column": "2021-08-10T11:30:00.000000"
        },
        {
         "Close": 276.7699890136719,
         "_deepnote_index_column": "2021-08-10T12:30:00.000000"
        },
        {
         "Close": 275.375,
         "_deepnote_index_column": "2021-08-10T13:30:00.000000"
        },
        {
         "Close": 274.04998779296875,
         "_deepnote_index_column": "2021-08-10T14:30:00.000000"
        },
        {
         "Close": 272.92999267578125,
         "_deepnote_index_column": "2021-08-10T15:30:00.000000"
        }
       ]
      },
      "text/plain": "                                Close\n2019-09-03 09:30:00-04:00   62.959999\n2019-09-03 10:30:00-04:00   62.320000\n2019-09-03 11:30:00-04:00   62.000000\n2019-09-03 12:30:00-04:00   61.774899\n2019-09-03 13:30:00-04:00   61.360001\n...                               ...\n2021-08-10 11:30:00-04:00  277.697998\n2021-08-10 12:30:00-04:00  276.769989\n2021-08-10 13:30:00-04:00  275.375000\n2021-08-10 14:30:00-04:00  274.049988\n2021-08-10 15:30:00-04:00  272.929993\n\n[3411 rows x 1 columns]",
      "text/html": "<div>\n<style scoped>\n    .dataframe tbody tr th:only-of-type {\n        vertical-align: middle;\n    }\n\n    .dataframe tbody tr th {\n        vertical-align: top;\n    }\n\n    .dataframe thead th {\n        text-align: right;\n    }\n</style>\n<table border=\"1\" class=\"dataframe\">\n  <thead>\n    <tr style=\"text-align: right;\">\n      <th></th>\n      <th>Close</th>\n    </tr>\n  </thead>\n  <tbody>\n    <tr>\n      <th>2019-09-03 09:30:00-04:00</th>\n      <td>62.959999</td>\n    </tr>\n    <tr>\n      <th>2019-09-03 10:30:00-04:00</th>\n      <td>62.320000</td>\n    </tr>\n    <tr>\n      <th>2019-09-03 11:30:00-04:00</th>\n      <td>62.000000</td>\n    </tr>\n    <tr>\n      <th>2019-09-03 12:30:00-04:00</th>\n      <td>61.774899</td>\n    </tr>\n    <tr>\n      <th>2019-09-03 13:30:00-04:00</th>\n      <td>61.360001</td>\n    </tr>\n    <tr>\n      <th>...</th>\n      <td>...</td>\n    </tr>\n    <tr>\n      <th>2021-08-10 11:30:00-04:00</th>\n      <td>277.697998</td>\n    </tr>\n    <tr>\n      <th>2021-08-10 12:30:00-04:00</th>\n      <td>276.769989</td>\n    </tr>\n    <tr>\n      <th>2021-08-10 13:30:00-04:00</th>\n      <td>275.375000</td>\n    </tr>\n    <tr>\n      <th>2021-08-10 14:30:00-04:00</th>\n      <td>274.049988</td>\n    </tr>\n    <tr>\n      <th>2021-08-10 15:30:00-04:00</th>\n      <td>272.929993</td>\n    </tr>\n  </tbody>\n</table>\n<p>3411 rows × 1 columns</p>\n</div>"
     },
     "metadata": {}
    }
   ],
   "execution_count": 2
  },
  {
   "cell_type": "code",
   "metadata": {
    "tags": [],
    "cell_id": "00002-1479b4c1-eebe-41ed-80e5-cf652688e92b",
    "deepnote_to_be_reexecuted": false,
    "source_hash": "e92f55db",
    "execution_start": 1628646912159,
    "execution_millis": 101,
    "deepnote_cell_type": "code"
   },
   "source": "sq_1hr.to_csv('SQ Hourly Close.csv')",
   "outputs": [],
   "execution_count": 3
  },
  {
   "cell_type": "code",
   "metadata": {
    "tags": [],
    "cell_id": "00002-8ac44d2e-ec95-4610-852b-89c7e7d5e6d2",
    "deepnote_to_be_reexecuted": false,
    "source_hash": "2a22e63c",
    "execution_start": 1628646912263,
    "execution_millis": 75,
    "deepnote_cell_type": "code"
   },
   "source": "\ndef get_macd(price, slow, fast, smooth):\n    exp1 = price.ewm(span = fast, adjust = False).mean()\n    exp2 = price.ewm(span = slow, adjust = False).mean()\n    macd = pd.DataFrame(exp1 - exp2).rename(columns = {'Close':'macd'})\n    signal = pd.DataFrame(macd.ewm(span = smooth, adjust = False).mean()).rename(columns = {'macd':'signal'})\n    hist = pd.DataFrame(macd['macd'] - signal['signal']).rename(columns = {0:'hist'})\n    frames =  [macd, signal, hist]\n    df = pd.concat(frames, join = 'inner', axis = 1)\n    return df\n\nsq_macd = get_macd(sq_1hr['Close'], 26, 12, 9)\nsq_macd.tail()",
   "outputs": [
    {
     "output_type": "execute_result",
     "execution_count": 4,
     "data": {
      "application/vnd.deepnote.dataframe.v2+json": {
       "row_count": 5,
       "column_count": 3,
       "columns": [
        {
         "name": "macd",
         "dtype": "float64",
         "stats": {
          "unique_count": 5,
          "nan_count": 0,
          "min": "0.1727771247185501",
          "max": "1.7113738095624171",
          "histogram": [
           {
            "bin_start": 0.1727771247185501,
            "bin_end": 0.3266367932029368,
            "count": 1
           },
           {
            "bin_start": 0.3266367932029368,
            "bin_end": 0.4804964616873235,
            "count": 0
           },
           {
            "bin_start": 0.4804964616873235,
            "bin_end": 0.6343561301717102,
            "count": 1
           },
           {
            "bin_start": 0.6343561301717102,
            "bin_end": 0.7882157986560969,
            "count": 0
           },
           {
            "bin_start": 0.7882157986560969,
            "bin_end": 0.9420754671404836,
            "count": 0
           },
           {
            "bin_start": 0.9420754671404836,
            "bin_end": 1.0959351356248703,
            "count": 1
           },
           {
            "bin_start": 1.0959351356248703,
            "bin_end": 1.249794804109257,
            "count": 0
           },
           {
            "bin_start": 1.249794804109257,
            "bin_end": 1.4036544725936437,
            "count": 1
           },
           {
            "bin_start": 1.4036544725936437,
            "bin_end": 1.5575141410780304,
            "count": 0
           },
           {
            "bin_start": 1.5575141410780304,
            "bin_end": 1.7113738095624171,
            "count": 1
           }
          ]
         }
        },
        {
         "name": "signal",
         "dtype": "float64",
         "stats": {
          "unique_count": 5,
          "nan_count": 0,
          "min": "1.4503725411515318",
          "max": "2.5621719992610803",
          "histogram": [
           {
            "bin_start": 1.4503725411515318,
            "bin_end": 1.5615524869624866,
            "count": 1
           },
           {
            "bin_start": 1.5615524869624866,
            "bin_end": 1.6727324327734414,
            "count": 0
           },
           {
            "bin_start": 1.6727324327734414,
            "bin_end": 1.7839123785843962,
            "count": 1
           },
           {
            "bin_start": 1.7839123785843962,
            "bin_end": 1.8950923243953512,
            "count": 0
           },
           {
            "bin_start": 1.8950923243953512,
            "bin_end": 2.0062722702063063,
            "count": 0
           },
           {
            "bin_start": 2.0062722702063063,
            "bin_end": 2.117452216017261,
            "count": 1
           },
           {
            "bin_start": 2.117452216017261,
            "bin_end": 2.228632161828216,
            "count": 0
           },
           {
            "bin_start": 2.228632161828216,
            "bin_end": 2.3398121076391707,
            "count": 1
           },
           {
            "bin_start": 2.3398121076391707,
            "bin_end": 2.4509920534501255,
            "count": 0
           },
           {
            "bin_start": 2.4509920534501255,
            "bin_end": 2.5621719992610803,
            "count": 1
           }
          ]
         }
        },
        {
         "name": "hist",
         "dtype": "float64",
         "stats": {
          "unique_count": 5,
          "nan_count": 0,
          "min": "-1.2775954164329817",
          "max": "-0.8507981896986632",
          "histogram": [
           {
            "bin_start": -1.2775954164329817,
            "bin_end": -1.2349156937595498,
            "count": 1
           },
           {
            "bin_start": -1.2349156937595498,
            "bin_end": -1.192235971086118,
            "count": 0
           },
           {
            "bin_start": -1.192235971086118,
            "bin_end": -1.149556248412686,
            "count": 1
           },
           {
            "bin_start": -1.149556248412686,
            "bin_end": -1.1068765257392543,
            "count": 0
           },
           {
            "bin_start": -1.1068765257392543,
            "bin_end": -1.0641968030658224,
            "count": 0
           },
           {
            "bin_start": -1.0641968030658224,
            "bin_end": -1.0215170803923905,
            "count": 1
           },
           {
            "bin_start": -1.0215170803923905,
            "bin_end": -0.9788373577189586,
            "count": 0
           },
           {
            "bin_start": -0.9788373577189586,
            "bin_end": -0.9361576350455268,
            "count": 1
           },
           {
            "bin_start": -0.9361576350455268,
            "bin_end": -0.8934779123720951,
            "count": 0
           },
           {
            "bin_start": -0.8934779123720951,
            "bin_end": -0.8507981896986632,
            "count": 1
           }
          ]
         }
        },
        {
         "name": "_deepnote_index_column",
         "dtype": "datetime64[ns, America/New_York]"
        }
       ],
       "rows_top": [
        {
         "macd": 1.7113738095624171,
         "signal": 2.5621719992610803,
         "hist": -0.8507981896986632,
         "_deepnote_index_column": "2021-08-10T11:30:00.000000"
        },
        {
         "macd": 1.3886914411733642,
         "signal": 2.327475887643537,
         "hist": -0.9387844464701729,
         "_deepnote_index_column": "2021-08-10T12:30:00.000000"
        },
        {
         "macd": 1.0087709014169945,
         "signal": 2.0637348903982287,
         "hist": -1.0549639889812341,
         "_deepnote_index_column": "2021-08-10T13:30:00.000000"
        },
        {
         "macd": 0.5939174147059703,
         "signal": 1.7697713952597771,
         "hist": -1.1758539805538069,
         "_deepnote_index_column": "2021-08-10T14:30:00.000000"
        },
        {
         "macd": 0.1727771247185501,
         "signal": 1.4503725411515318,
         "hist": -1.2775954164329817,
         "_deepnote_index_column": "2021-08-10T15:30:00.000000"
        }
       ],
       "rows_bottom": null
      },
      "text/plain": "                               macd    signal      hist\n2021-08-10 11:30:00-04:00  1.711374  2.562172 -0.850798\n2021-08-10 12:30:00-04:00  1.388691  2.327476 -0.938784\n2021-08-10 13:30:00-04:00  1.008771  2.063735 -1.054964\n2021-08-10 14:30:00-04:00  0.593917  1.769771 -1.175854\n2021-08-10 15:30:00-04:00  0.172777  1.450373 -1.277595",
      "text/html": "<div>\n<style scoped>\n    .dataframe tbody tr th:only-of-type {\n        vertical-align: middle;\n    }\n\n    .dataframe tbody tr th {\n        vertical-align: top;\n    }\n\n    .dataframe thead th {\n        text-align: right;\n    }\n</style>\n<table border=\"1\" class=\"dataframe\">\n  <thead>\n    <tr style=\"text-align: right;\">\n      <th></th>\n      <th>macd</th>\n      <th>signal</th>\n      <th>hist</th>\n    </tr>\n  </thead>\n  <tbody>\n    <tr>\n      <th>2021-08-10 11:30:00-04:00</th>\n      <td>1.711374</td>\n      <td>2.562172</td>\n      <td>-0.850798</td>\n    </tr>\n    <tr>\n      <th>2021-08-10 12:30:00-04:00</th>\n      <td>1.388691</td>\n      <td>2.327476</td>\n      <td>-0.938784</td>\n    </tr>\n    <tr>\n      <th>2021-08-10 13:30:00-04:00</th>\n      <td>1.008771</td>\n      <td>2.063735</td>\n      <td>-1.054964</td>\n    </tr>\n    <tr>\n      <th>2021-08-10 14:30:00-04:00</th>\n      <td>0.593917</td>\n      <td>1.769771</td>\n      <td>-1.175854</td>\n    </tr>\n    <tr>\n      <th>2021-08-10 15:30:00-04:00</th>\n      <td>0.172777</td>\n      <td>1.450373</td>\n      <td>-1.277595</td>\n    </tr>\n  </tbody>\n</table>\n</div>"
     },
     "metadata": {}
    }
   ],
   "execution_count": 4
  },
  {
   "cell_type": "code",
   "metadata": {
    "tags": [],
    "cell_id": "00003-ec862c91-6f86-4015-92a2-37b5f436d379",
    "deepnote_to_be_reexecuted": false,
    "source_hash": "d5c2979d",
    "execution_start": 1628646912343,
    "execution_millis": 17749,
    "deepnote_cell_type": "code"
   },
   "source": "def plot_macd(prices, macd, signal, hist):\n    ax1 = plt.subplot2grid((8,1), (0,0), rowspan = 5, colspan = 1)\n    ax2 = plt.subplot2grid((8,1), (5,0), rowspan = 3, colspan = 1)\n\n    ax1.plot(prices)\n    ax2.plot(macd, color = 'grey', linewidth = 1.5, label = 'MACD')\n    ax2.plot(signal, color = 'skyblue', linewidth = 1.5, label = 'SIGNAL')\n\n    for i in range(len(prices)):\n        if str(hist[i])[0] == '-':\n            ax2.bar(prices.index[i], hist[i], color = '#ef5350')\n        else:\n            ax2.bar(prices.index[i], hist[i], color = '#26a69a')\n\n    plt.legend(loc = 'lower right')\n\nplot_macd(sq_1hr['Close'], sq_macd['macd'], sq_macd['signal'], sq_macd['hist'])",
   "outputs": [
    {
     "data": {
      "text/plain": "<Figure size 1440x720 with 2 Axes>",
      "image/png": "[encoded data removed]"
     },
     "metadata": {
      "image/png": {
       "width": 1300,
       "height": 620
      }
     },
     "output_type": "display_data"
    }
   ],
   "execution_count": 5
  },
  {
   "cell_type": "code",
   "metadata": {
    "tags": [],
    "cell_id": "00004-78fb2840-f5bb-40db-8bc5-b4004fac3835",
    "deepnote_to_be_reexecuted": false,
    "source_hash": "d2c00bad",
    "execution_start": 1628646930089,
    "execution_millis": 151,
    "deepnote_cell_type": "code"
   },
   "source": "def implement_macd_strategy(prices, data):    \n    buy_price = []\n    sell_price = []\n    macd_signal = []\n    signal = 0\n\n    for i in range(len(data)):\n        if data['macd'][i] > data['signal'][i]:\n            if signal != 1:\n                buy_price.append(prices[i])\n                sell_price.append(np.nan)\n                signal = 1\n                macd_signal.append(signal)\n            else:\n                buy_price.append(np.nan)\n                sell_price.append(np.nan)\n                macd_signal.append(0)\n        elif data['macd'][i] < data['signal'][i]:\n            if signal != -1:\n                buy_price.append(np.nan)\n                sell_price.append(prices[i])\n                signal = -1\n                macd_signal.append(signal)\n            else:\n                buy_price.append(np.nan)\n                sell_price.append(np.nan)\n                macd_signal.append(0)\n        else:\n            buy_price.append(np.nan)\n            sell_price.append(np.nan)\n            macd_signal.append(0)\n            \n    return buy_price, sell_price, macd_signal\n            \nbuy_price, sell_price, macd_signal = implement_macd_strategy(sq_1hr['Close'], sq_macd)",
   "outputs": [],
   "execution_count": 6
  },
  {
   "cell_type": "code",
   "metadata": {
    "tags": [],
    "cell_id": "00005-e661533d-6c48-4a6d-98bd-ed994baecfaa",
    "deepnote_to_be_reexecuted": false,
    "source_hash": "e517d9ff",
    "execution_start": 1628646930248,
    "execution_millis": 18338,
    "deepnote_cell_type": "code"
   },
   "source": "ax1 = plt.subplot2grid((8,1), (0,0), rowspan = 5, colspan = 1)\nax2 = plt.subplot2grid((8,1), (5,0), rowspan = 3, colspan = 1)\n\nax1.plot(sq_1hr['Close'], color = 'skyblue', linewidth = 2, label = 'SQ')\nax1.plot(sq_1hr.index, buy_price, marker = '^', color = 'green', markersize = 10, label = 'BUY SIGNAL', linewidth = 0)\nax1.plot(sq_1hr.index, sell_price, marker = 'v', color = 'r', markersize = 10, label = 'SELL SIGNAL', linewidth = 0)\nax1.legend()\nax1.set_title('SQ MACD SIGNALS')\nax2.plot(sq_macd['macd'], color = 'grey', linewidth = 1.5, label = 'MACD')\nax2.plot(sq_macd['signal'], color = 'skyblue', linewidth = 1.5, label = 'SIGNAL')\n\nfor i in range(len(sq_macd)):\n    if str(sq_macd['hist'][i])[0] == '-':\n        ax2.bar(sq_macd.index[i], sq_macd['hist'][i], color = '#ef5350')\n    else:\n        ax2.bar(sq_macd.index[i], sq_macd['hist'][i], color = '#26a69a')\n        \nplt.legend(loc = 'lower right')\nplt.show()",
   "outputs": [
    {
     "data": {
      "text/plain": "<Figure size 1440x720 with 2 Axes>",
      "image/png": "[encoded data removed]"
     },
     "metadata": {
      "image/png": {
       "width": 1300,
       "height": 636
      }
     },
     "output_type": "display_data"
    }
   ],
   "execution_count": 7
  },
  {
   "cell_type": "code",
   "metadata": {
    "tags": [],
    "cell_id": "00006-3a541b95-14cf-4637-864d-d365e241bb3f",
    "deepnote_to_be_reexecuted": false,
    "source_hash": "4edc7093",
    "execution_start": 1628646948581,
    "execution_millis": 160,
    "deepnote_cell_type": "code"
   },
   "source": "position = []\nfor i in range(len(macd_signal)):\n    if macd_signal[i] > 1:\n        position.append(0)\n    else:\n        position.append(1)\n        \nfor i in range(len(sq_1hr['Close'])):\n    if macd_signal[i] == 1:\n        position[i] = 1\n    elif macd_signal[i] == -1:\n        position[i] = 0\n    else:\n        position[i] = position[i-1]\n        \nmacd = sq_macd['macd']\nsignal = sq_macd['signal']\nclose_price = sq_1hr['Close']\nmacd_signal = pd.DataFrame(macd_signal).rename(columns = {0:'macd_signal'}).set_index(sq_1hr.index)\nposition = pd.DataFrame(position).rename(columns = {0:'macd_position'}).set_index(sq_1hr.index)\n\nframes = [close_price, macd, signal, macd_signal, position]\nstrategy = pd.concat(frames, join = 'inner', axis = 1)\n\nstrategy",
   "outputs": [
    {
     "output_type": "execute_result",
     "execution_count": 8,
     "data": {
      "application/vnd.deepnote.dataframe.v2+json": {
       "row_count": 3411,
       "column_count": 5,
       "columns": [
        {
         "name": "Close",
         "dtype": "float64",
         "stats": {
          "unique_count": 3152,
          "nan_count": 0,
          "min": "33.119998931884766",
          "max": "287.32000732421875",
          "histogram": [
           {
            "bin_start": 33.119998931884766,
            "bin_end": 58.53999977111816,
            "count": 199
           },
           {
            "bin_start": 58.53999977111816,
            "bin_end": 83.96000061035156,
            "count": 1097
           },
           {
            "bin_start": 83.96000061035156,
            "bin_end": 109.38000144958497,
            "count": 161
           },
           {
            "bin_start": 109.38000144958497,
            "bin_end": 134.80000228881835,
            "count": 158
           },
           {
            "bin_start": 134.80000228881835,
            "bin_end": 160.22000312805176,
            "count": 277
           },
           {
            "bin_start": 160.22000312805176,
            "bin_end": 185.64000396728517,
            "count": 186
           },
           {
            "bin_start": 185.64000396728517,
            "bin_end": 211.06000480651855,
            "count": 245
           },
           {
            "bin_start": 211.06000480651855,
            "bin_end": 236.48000564575196,
            "count": 548
           },
           {
            "bin_start": 236.48000564575196,
            "bin_end": 261.9000064849854,
            "count": 401
           },
           {
            "bin_start": 261.9000064849854,
            "bin_end": 287.32000732421875,
            "count": 139
           }
          ]
         }
        },
        {
         "name": "macd",
         "dtype": "float64",
         "stats": {
          "unique_count": 3411,
          "nan_count": 0,
          "min": "-9.97544630560472",
          "max": "9.279604005968451",
          "histogram": [
           {
            "bin_start": -9.97544630560472,
            "bin_end": -8.049941274447402,
            "count": 20
           },
           {
            "bin_start": -8.049941274447402,
            "bin_end": -6.124436243290086,
            "count": 22
           },
           {
            "bin_start": -6.124436243290086,
            "bin_end": -4.198931212132768,
            "count": 94
           },
           {
            "bin_start": -4.198931212132768,
            "bin_end": -2.2734261809754512,
            "count": 243
           },
           {
            "bin_start": -2.2734261809754512,
            "bin_end": -0.34792114981813427,
            "count": 662
           },
           {
            "bin_start": -0.34792114981813427,
            "bin_end": 1.5775838813391836,
            "count": 1459
           },
           {
            "bin_start": 1.5775838813391836,
            "bin_end": 3.5030889124964997,
            "count": 582
           },
           {
            "bin_start": 3.5030889124964997,
            "bin_end": 5.4285939436538175,
            "count": 243
           },
           {
            "bin_start": 5.4285939436538175,
            "bin_end": 7.354098974811134,
            "count": 62
           },
           {
            "bin_start": 7.354098974811134,
            "bin_end": 9.279604005968451,
            "count": 24
           }
          ]
         }
        },
        {
         "name": "signal",
         "dtype": "float64",
         "stats": {
          "unique_count": 3411,
          "nan_count": 0,
          "min": "-8.933063939632522",
          "max": "7.726500700529528",
          "histogram": [
           {
            "bin_start": -8.933063939632522,
            "bin_end": -7.267107475616317,
            "count": 20
           },
           {
            "bin_start": -7.267107475616317,
            "bin_end": -5.601151011600112,
            "count": 23
           },
           {
            "bin_start": -5.601151011600112,
            "bin_end": -3.9351945475839063,
            "count": 87
           },
           {
            "bin_start": -3.9351945475839063,
            "bin_end": -2.2692380835677017,
            "count": 252
           },
           {
            "bin_start": -2.2692380835677017,
            "bin_end": -0.6032816195514972,
            "count": 424
           },
           {
            "bin_start": -0.6032816195514972,
            "bin_end": 1.0626748444647092,
            "count": 1474
           },
           {
            "bin_start": 1.0626748444647092,
            "bin_end": 2.7286313084809137,
            "count": 675
           },
           {
            "bin_start": 2.7286313084809137,
            "bin_end": 4.394587772497118,
            "count": 300
           },
           {
            "bin_start": 4.394587772497118,
            "bin_end": 6.060544236513323,
            "count": 112
           },
           {
            "bin_start": 6.060544236513323,
            "bin_end": 7.726500700529528,
            "count": 44
           }
          ]
         }
        },
        {
         "name": "macd_signal",
         "dtype": "int64",
         "stats": {
          "unique_count": 3,
          "nan_count": 0,
          "min": "-1",
          "max": "1",
          "histogram": [
           {
            "bin_start": -1,
            "bin_end": -0.8,
            "count": 130
           },
           {
            "bin_start": -0.8,
            "bin_end": -0.6,
            "count": 0
           },
           {
            "bin_start": -0.6,
            "bin_end": -0.3999999999999999,
            "count": 0
           },
           {
            "bin_start": -0.3999999999999999,
            "bin_end": -0.19999999999999996,
            "count": 0
           },
           {
            "bin_start": -0.19999999999999996,
            "bin_end": 0,
            "count": 0
           },
           {
            "bin_start": 0,
            "bin_end": 0.20000000000000018,
            "count": 3152
           },
           {
            "bin_start": 0.20000000000000018,
            "bin_end": 0.40000000000000013,
            "count": 0
           },
           {
            "bin_start": 0.40000000000000013,
            "bin_end": 0.6000000000000001,
            "count": 0
           },
           {
            "bin_start": 0.6000000000000001,
            "bin_end": 0.8,
            "count": 0
           },
           {
            "bin_start": 0.8,
            "bin_end": 1,
            "count": 129
           }
          ]
         }
        },
        {
         "name": "macd_position",
         "dtype": "int64",
         "stats": {
          "unique_count": 2,
          "nan_count": 0,
          "min": "0",
          "max": "1",
          "histogram": [
           {
            "bin_start": 0,
            "bin_end": 0.1,
            "count": 1726
           },
           {
            "bin_start": 0.1,
            "bin_end": 0.2,
            "count": 0
           },
           {
            "bin_start": 0.2,
            "bin_end": 0.30000000000000004,
            "count": 0
           },
           {
            "bin_start": 0.30000000000000004,
            "bin_end": 0.4,
            "count": 0
           },
           {
            "bin_start": 0.4,
            "bin_end": 0.5,
            "count": 0
           },
           {
            "bin_start": 0.5,
            "bin_end": 0.6000000000000001,
            "count": 0
           },
           {
            "bin_start": 0.6000000000000001,
            "bin_end": 0.7000000000000001,
            "count": 0
           },
           {
            "bin_start": 0.7000000000000001,
            "bin_end": 0.8,
            "count": 0
           },
           {
            "bin_start": 0.8,
            "bin_end": 0.9,
            "count": 0
           },
           {
            "bin_start": 0.9,
            "bin_end": 1,
            "count": 1685
           }
          ]
         }
        },
        {
         "name": "_deepnote_index_column",
         "dtype": "datetime64[ns, America/New_York]"
        }
       ],
       "rows_top": [
        {
         "Close": 62.959999084472656,
         "macd": 0,
         "signal": 0,
         "macd_signal": 0,
         "macd_position": 1,
         "_deepnote_index_column": "2019-09-03T09:30:00.000000"
        },
        {
         "Close": 62.31999969482422,
         "macd": -0.05105408236511977,
         "signal": -0.010210816473023954,
         "macd_signal": -1,
         "macd_position": 0,
         "_deepnote_index_column": "2019-09-03T10:30:00.000000"
        },
        {
         "Close": 62,
         "macd": -0.11599894782388276,
         "signal": -0.03136844274319572,
         "macd_signal": 0,
         "macd_position": 0,
         "_deepnote_index_column": "2019-09-03T11:30:00.000000"
        },
        {
         "Close": 61.774898529052734,
         "macd": -0.1835165643378076,
         "signal": -0.0617980670621181,
         "macd_signal": 0,
         "macd_position": 0,
         "_deepnote_index_column": "2019-09-03T12:30:00.000000"
        },
        {
         "Close": 61.36000061035156,
         "macd": -0.2674208948438235,
         "signal": -0.10292263261845919,
         "macd_signal": 0,
         "macd_position": 0,
         "_deepnote_index_column": "2019-09-03T13:30:00.000000"
        },
        {
         "Close": 61.125,
         "macd": -0.3488568617943173,
         "signal": -0.15210947845363082,
         "macd_signal": 0,
         "macd_position": 0,
         "_deepnote_index_column": "2019-09-03T14:30:00.000000"
        },
        {
         "Close": 61.13999938964844,
         "macd": -0.40748786052380837,
         "signal": -0.20318515486766633,
         "macd_signal": 0,
         "macd_position": 0,
         "_deepnote_index_column": "2019-09-03T15:30:00.000000"
        },
        {
         "Close": 61.93000030517578,
         "macd": -0.3857600758336375,
         "signal": -0.23970013906086057,
         "macd_signal": 0,
         "macd_position": 0,
         "_deepnote_index_column": "2019-09-04T09:30:00.000000"
        },
        {
         "Close": 62.02000045776367,
         "macd": -0.357161257128233,
         "signal": -0.2631923626743351,
         "macd_signal": 0,
         "macd_position": 0,
         "_deepnote_index_column": "2019-09-04T10:30:00.000000"
        },
        {
         "Close": 61.41999816894531,
         "macd": -0.3785479919271495,
         "signal": -0.286263488524898,
         "macd_signal": 0,
         "macd_position": 0,
         "_deepnote_index_column": "2019-09-04T11:30:00.000000"
        },
        {
         "Close": 61.07500076293945,
         "macd": -0.41851120409282316,
         "signal": -0.3127130316384831,
         "macd_signal": 0,
         "macd_position": 0,
         "_deepnote_index_column": "2019-09-04T12:30:00.000000"
        },
        {
         "Close": 61.11000061035156,
         "macd": -0.44226004398358043,
         "signal": -0.3386224341075026,
         "macd_signal": 0,
         "macd_position": 0,
         "_deepnote_index_column": "2019-09-04T13:30:00.000000"
        },
        {
         "Close": 61.040000915527344,
         "macd": -0.4614107056619261,
         "signal": -0.36318008841838734,
         "macd_signal": 0,
         "macd_position": 0,
         "_deepnote_index_column": "2019-09-04T14:30:00.000000"
        },
        {
         "Close": 61.08000183105469,
         "macd": -0.46796558744007655,
         "signal": -0.3841371882227252,
         "macd_signal": 0,
         "macd_position": 0,
         "_deepnote_index_column": "2019-09-04T15:30:00.000000"
        },
        {
         "Close": 63.08250045776367,
         "macd": -0.3080247572160886,
         "signal": -0.36891470202139787,
         "macd_signal": 1,
         "macd_position": 1,
         "_deepnote_index_column": "2019-09-05T09:30:00.000000"
        },
        {
         "Close": 62.67900085449219,
         "macd": -0.2113927388432728,
         "signal": -0.3374103093857729,
         "macd_signal": 0,
         "macd_position": 1,
         "_deepnote_index_column": "2019-09-05T10:30:00.000000"
        },
        {
         "Close": 62.45280075073242,
         "macd": -0.15131931120046715,
         "signal": -0.30019210974871174,
         "macd_signal": 0,
         "macd_position": 1,
         "_deepnote_index_column": "2019-09-05T11:30:00.000000"
        },
        {
         "Close": 62.83000183105469,
         "macd": -0.07243868414748533,
         "signal": -0.25464142462846645,
         "macd_signal": 0,
         "macd_position": 1,
         "_deepnote_index_column": "2019-09-05T12:30:00.000000"
        },
        {
         "Close": 62.95500183105469,
         "macd": 0.0001593989754766767,
         "signal": -0.20368125990767783,
         "macd_signal": 0,
         "macd_position": 1,
         "_deepnote_index_column": "2019-09-05T13:30:00.000000"
        },
        {
         "Close": 63.150001525878906,
         "macd": 0.07259195372758853,
         "signal": -0.14842661718062458,
         "macd_signal": 0,
         "macd_position": 1,
         "_deepnote_index_column": "2019-09-05T14:30:00.000000"
        },
        {
         "Close": 63.04499816894531,
         "macd": 0.12013751141357432,
         "signal": -0.0947137914617848,
         "macd_signal": 0,
         "macd_position": 1,
         "_deepnote_index_column": "2019-09-05T15:30:00.000000"
        },
        {
         "Close": 63.31999969482422,
         "macd": 0.17795665968308327,
         "signal": -0.04017970123281119,
         "macd_signal": 0,
         "macd_position": 1,
         "_deepnote_index_column": "2019-09-06T09:30:00.000000"
        },
        {
         "Close": 62.97610092163086,
         "macd": 0.19379504568299666,
         "signal": 0.006615248150350375,
         "macd_signal": 0,
         "macd_position": 1,
         "_deepnote_index_column": "2019-09-06T10:30:00.000000"
        },
        {
         "Close": 63.279998779296875,
         "macd": 0.22823811115847548,
         "signal": 0.0509398207519754,
         "macd_signal": 0,
         "macd_position": 1,
         "_deepnote_index_column": "2019-09-06T11:30:00.000000"
        },
        {
         "Close": 62.97600173950195,
         "macd": 0.22837193864242522,
         "signal": 0.08642624433006538,
         "macd_signal": 0,
         "macd_position": 1,
         "_deepnote_index_column": "2019-09-06T12:30:00.000000"
        },
        {
         "Close": 62.650001525878906,
         "macd": 0.19986854497311413,
         "signal": 0.10911470445867513,
         "macd_signal": 0,
         "macd_position": 1,
         "_deepnote_index_column": "2019-09-06T13:30:00.000000"
        },
        {
         "Close": 62.30500030517578,
         "macd": 0.14773765717072251,
         "signal": 0.11683929500108461,
         "macd_signal": 0,
         "macd_position": 1,
         "_deepnote_index_column": "2019-09-06T14:30:00.000000"
        },
        {
         "Close": 61.97999954223633,
         "macd": 0.07928476219451852,
         "signal": 0.10932838843977141,
         "macd_signal": -1,
         "macd_position": 0,
         "_deepnote_index_column": "2019-09-06T15:30:00.000000"
        },
        {
         "Close": 61.70000076293945,
         "macd": 0.002413961660195696,
         "signal": 0.08794550308385628,
         "macd_signal": 0,
         "macd_position": 0,
         "_deepnote_index_column": "2019-09-09T09:30:00.000000"
        },
        {
         "Close": 61.68000030517578,
         "macd": -0.05943543666163009,
         "signal": 0.058469315134759,
         "macd_signal": 0,
         "macd_position": 0,
         "_deepnote_index_column": "2019-09-09T10:30:00.000000"
        },
        {
         "Close": 60.95000076293945,
         "macd": -0.1654491972726717,
         "signal": 0.01368561265327286,
         "macd_signal": 0,
         "macd_position": 0,
         "_deepnote_index_column": "2019-09-09T11:30:00.000000"
        },
        {
         "Close": 59.92499923706055,
         "macd": -0.32838945397795527,
         "signal": -0.054729400672972765,
         "macd_signal": 0,
         "macd_position": 0,
         "_deepnote_index_column": "2019-09-09T12:30:00.000000"
        },
        {
         "Close": 59.752201080322266,
         "macd": -0.46609133764380317,
         "signal": -0.13700178806713886,
         "macd_signal": 0,
         "macd_position": 0,
         "_deepnote_index_column": "2019-09-09T13:30:00.000000"
        },
        {
         "Close": 60.86000061035156,
         "macd": -0.48029437415864606,
         "signal": -0.20566030528544033,
         "macd_signal": 0,
         "macd_position": 0,
         "_deepnote_index_column": "2019-09-09T14:30:00.000000"
        },
        {
         "Close": 61.45000076293945,
         "macd": -0.4388831299207254,
         "signal": -0.25230487021249737,
         "macd_signal": 0,
         "macd_position": 0,
         "_deepnote_index_column": "2019-09-09T15:30:00.000000"
        },
        {
         "Close": 61.380001068115234,
         "macd": -0.40702092698615644,
         "signal": -0.2832480815672292,
         "macd_signal": 0,
         "macd_position": 0,
         "_deepnote_index_column": "2019-09-10T09:30:00.000000"
        },
        {
         "Close": 61.207298278808594,
         "macd": -0.3911961081417985,
         "signal": -0.3048376868821431,
         "macd_signal": 0,
         "macd_position": 0,
         "_deepnote_index_column": "2019-09-10T10:30:00.000000"
        },
        {
         "Close": 61.38999938964844,
         "macd": -0.35976522290454227,
         "signal": -0.31582319408662296,
         "macd_signal": 0,
         "macd_position": 0,
         "_deepnote_index_column": "2019-09-10T11:30:00.000000"
        },
        {
         "Close": 61.15800094604492,
         "macd": -0.34954699523797217,
         "signal": -0.3225679543168928,
         "macd_signal": 0,
         "macd_position": 0,
         "_deepnote_index_column": "2019-09-10T12:30:00.000000"
        },
        {
         "Close": 60.58000183105469,
         "macd": -0.383666011279189,
         "signal": -0.33478756570935203,
         "macd_signal": 0,
         "macd_position": 0,
         "_deepnote_index_column": "2019-09-10T13:30:00.000000"
        },
        {
         "Close": 60.4900016784668,
         "macd": -0.41320467121844473,
         "signal": -0.3504709868111706,
         "macd_signal": 0,
         "macd_position": 0,
         "_deepnote_index_column": "2019-09-10T14:30:00.000000"
        },
        {
         "Close": 60.5,
         "macd": -0.4308410239121585,
         "signal": -0.3665449942313682,
         "macd_signal": 0,
         "macd_position": 0,
         "_deepnote_index_column": "2019-09-10T15:30:00.000000"
        },
        {
         "Close": 60.45000076293945,
         "macd": -0.4437373530654867,
         "signal": -0.38198346599819194,
         "macd_signal": 0,
         "macd_position": 0,
         "_deepnote_index_column": "2019-09-11T09:30:00.000000"
        },
        {
         "Close": 59.97999954223633,
         "macd": -0.4862774535913914,
         "signal": -0.40284226351683183,
         "macd_signal": 0,
         "macd_position": 0,
         "_deepnote_index_column": "2019-09-11T10:30:00.000000"
        },
        {
         "Close": 60.22999954223633,
         "macd": -0.49412194883429095,
         "signal": -0.4210982005803237,
         "macd_signal": 0,
         "macd_position": 0,
         "_deepnote_index_column": "2019-09-11T11:30:00.000000"
        },
        {
         "Close": 60.201499938964844,
         "macd": -0.4969103741563927,
         "signal": -0.43626063529553755,
         "macd_signal": 0,
         "macd_position": 0,
         "_deepnote_index_column": "2019-09-11T12:30:00.000000"
        },
        {
         "Close": 59.69340133666992,
         "macd": -0.5339643238179619,
         "signal": -0.45580137300002244,
         "macd_signal": 0,
         "macd_position": 0,
         "_deepnote_index_column": "2019-09-11T13:30:00.000000"
        },
        {
         "Close": 59.014198303222656,
         "macd": -0.6110915711062432,
         "signal": -0.48685941262126664,
         "macd_signal": 0,
         "macd_position": 0,
         "_deepnote_index_column": "2019-09-11T14:30:00.000000"
        },
        {
         "Close": 59.18000030517578,
         "macd": -0.6513285245682425,
         "signal": -0.5197532350106618,
         "macd_signal": 0,
         "macd_position": 0,
         "_deepnote_index_column": "2019-09-11T15:30:00.000000"
        },
        {
         "Close": 58.959598541259766,
         "macd": -0.6930125630110595,
         "signal": -0.5544051006107413,
         "macd_signal": 0,
         "macd_position": 0,
         "_deepnote_index_column": "2019-09-12T09:30:00.000000"
        },
        {
         "Close": 58.560001373291016,
         "macd": -0.7496501157827211,
         "signal": -0.5934541036451373,
         "macd_signal": 0,
         "macd_position": 0,
         "_deepnote_index_column": "2019-09-12T10:30:00.000000"
        },
        {
         "Close": 58.310001373291016,
         "macd": -0.8054242654951906,
         "signal": -0.635848136015148,
         "macd_signal": 0,
         "macd_position": 0,
         "_deepnote_index_column": "2019-09-12T11:30:00.000000"
        },
        {
         "Close": 58.2400016784668,
         "macd": -0.8455273582701892,
         "signal": -0.6777839804661563,
         "macd_signal": 0,
         "macd_position": 0,
         "_deepnote_index_column": "2019-09-12T12:30:00.000000"
        },
        {
         "Close": 58,
         "macd": -0.8864569539314857,
         "signal": -0.7195185751592222,
         "macd_signal": 0,
         "macd_position": 0,
         "_deepnote_index_column": "2019-09-12T13:30:00.000000"
        },
        {
         "Close": 58.095001220703125,
         "macd": -0.9008437824541105,
         "signal": -0.7557836166181999,
         "macd_signal": 0,
         "macd_position": 0,
         "_deepnote_index_column": "2019-09-12T14:30:00.000000"
        },
        {
         "Close": 57.790000915527344,
         "macd": -0.926179996866729,
         "signal": -0.7898628926679058,
         "macd_signal": 0,
         "macd_position": 0,
         "_deepnote_index_column": "2019-09-12T15:30:00.000000"
        },
        {
         "Close": 58.22999954223633,
         "macd": -0.9003759439554813,
         "signal": -0.8119655029254209,
         "macd_signal": 0,
         "macd_position": 0,
         "_deepnote_index_column": "2019-09-13T09:30:00.000000"
        },
        {
         "Close": 58.279998779296875,
         "macd": -0.8659098557386358,
         "signal": -0.8227543734880639,
         "macd_signal": 0,
         "macd_position": 0,
         "_deepnote_index_column": "2019-09-13T10:30:00.000000"
        },
        {
         "Close": 58.7599983215332,
         "macd": -0.7907480299118461,
         "signal": -0.8163531047728204,
         "macd_signal": 1,
         "macd_position": 1,
         "_deepnote_index_column": "2019-09-13T11:30:00.000000"
        },
        {
         "Close": 58.483699798583984,
         "macd": -0.7448900937881007,
         "signal": -0.8020605025758766,
         "macd_signal": 0,
         "macd_position": 1,
         "_deepnote_index_column": "2019-09-13T12:30:00.000000"
        },
        {
         "Close": 58.1349983215332,
         "macd": -0.7282893774013175,
         "signal": -0.7873062775409648,
         "macd_signal": 0,
         "macd_position": 1,
         "_deepnote_index_column": "2019-09-13T13:30:00.000000"
        },
        {
         "Close": 58.290000915527344,
         "macd": -0.6946186447864804,
         "signal": -0.768768750990068,
         "macd_signal": 0,
         "macd_position": 1,
         "_deepnote_index_column": "2019-09-13T14:30:00.000000"
        },
        {
         "Close": 58.31999969482422,
         "macd": -0.6579294941638665,
         "signal": -0.7466008996248278,
         "macd_signal": 0,
         "macd_position": 1,
         "_deepnote_index_column": "2019-09-13T15:30:00.000000"
        },
        {
         "Close": 57.529998779296875,
         "macd": -0.6847066771749581,
         "signal": -0.734222055134854,
         "macd_signal": 0,
         "macd_position": 1,
         "_deepnote_index_column": "2019-09-16T09:30:00.000000"
        },
        {
         "Close": 58.02510070800781,
         "macd": -0.6583877159653966,
         "signal": -0.7190551873009625,
         "macd_signal": 0,
         "macd_position": 1,
         "_deepnote_index_column": "2019-09-16T10:30:00.000000"
        },
        {
         "Close": 58.14889907836914,
         "macd": -0.6203887998212068,
         "signal": -0.6993219098050114,
         "macd_signal": 0,
         "macd_position": 1,
         "_deepnote_index_column": "2019-09-16T11:30:00.000000"
        },
        {
         "Close": 59.494998931884766,
         "macd": -0.4761664264953609,
         "signal": -0.6546908131430813,
         "macd_signal": 0,
         "macd_position": 1,
         "_deepnote_index_column": "2019-09-16T12:30:00.000000"
        },
        {
         "Close": 59.470001220703125,
         "macd": -0.35973941094690787,
         "signal": -0.5957005327038466,
         "macd_signal": 0,
         "macd_position": 1,
         "_deepnote_index_column": "2019-09-16T13:30:00.000000"
        },
        {
         "Close": 59.31999969482422,
         "macd": -0.2763880029839356,
         "signal": -0.5318380267598645,
         "macd_signal": 0,
         "macd_position": 1,
         "_deepnote_index_column": "2019-09-16T14:30:00.000000"
        },
        {
         "Close": 59.25,
         "macd": -0.21351849373415632,
         "signal": -0.4681741201547229,
         "macd_signal": 0,
         "macd_position": 1,
         "_deepnote_index_column": "2019-09-16T15:30:00.000000"
        },
        {
         "Close": 59.65999984741211,
         "macd": -0.12912195599579235,
         "signal": -0.4003636873229368,
         "macd_signal": 0,
         "macd_position": 1,
         "_deepnote_index_column": "2019-09-17T09:30:00.000000"
        },
        {
         "Close": 59.529998779296875,
         "macd": -0.07189829276272519,
         "signal": -0.3346706084108945,
         "macd_signal": 0,
         "macd_position": 1,
         "_deepnote_index_column": "2019-09-17T10:30:00.000000"
        },
        {
         "Close": 59.63999938964844,
         "macd": -0.01747060715022286,
         "signal": -0.2712306081587602,
         "macd_signal": 0,
         "macd_position": 1,
         "_deepnote_index_column": "2019-09-17T11:30:00.000000"
        },
        {
         "Close": 59.40999984741211,
         "macd": 0.007023719885168589,
         "signal": -0.21557974254997447,
         "macd_signal": 0,
         "macd_position": 1,
         "_deepnote_index_column": "2019-09-17T12:30:00.000000"
        },
        {
         "Close": 59.349998474121094,
         "macd": 0.021347955221479253,
         "signal": -0.16819420299568372,
         "macd_signal": 0,
         "macd_position": 1,
         "_deepnote_index_column": "2019-09-17T13:30:00.000000"
        },
        {
         "Close": 59.54999923706055,
         "macd": 0.048281841998978337,
         "signal": -0.1248989939967513,
         "macd_signal": 0,
         "macd_position": 1,
         "_deepnote_index_column": "2019-09-17T14:30:00.000000"
        },
        {
         "Close": 59.540000915527344,
         "macd": 0.06803608271945905,
         "signal": -0.08631197865350924,
         "macd_signal": 0,
         "macd_position": 1,
         "_deepnote_index_column": "2019-09-17T15:30:00.000000"
        },
        {
         "Close": 59.77000045776367,
         "macd": 0.10108525380170619,
         "signal": -0.04883253216246616,
         "macd_signal": 0,
         "macd_position": 1,
         "_deepnote_index_column": "2019-09-18T09:30:00.000000"
        },
        {
         "Close": 59.41999816894531,
         "macd": 0.09790609980026943,
         "signal": -0.019484805769919046,
         "macd_signal": 0,
         "macd_position": 1,
         "_deepnote_index_column": "2019-09-18T10:30:00.000000"
        },
        {
         "Close": 59.27000045776367,
         "macd": 0.08233394121712934,
         "signal": 0.0008789436274906325,
         "macd_signal": 0,
         "macd_position": 1,
         "_deepnote_index_column": "2019-09-18T11:30:00.000000"
        },
        {
         "Close": 59.165000915527344,
         "macd": 0.060819221679111024,
         "signal": 0.012866999237814711,
         "macd_signal": 0,
         "macd_position": 1,
         "_deepnote_index_column": "2019-09-18T12:30:00.000000"
        },
        {
         "Close": 58.9900016784668,
         "macd": 0.029309810290598648,
         "signal": 0.0161555614483715,
         "macd_signal": 0,
         "macd_position": 1,
         "_deepnote_index_column": "2019-09-18T13:30:00.000000"
        },
        {
         "Close": 59.540000915527344,
         "macd": 0.04816351759740911,
         "signal": 0.022557152678179024,
         "macd_signal": 0,
         "macd_position": 1,
         "_deepnote_index_column": "2019-09-18T14:30:00.000000"
        },
        {
         "Close": 59.72999954223633,
         "macd": 0.07754265431204033,
         "signal": 0.03355425300495129,
         "macd_signal": 0,
         "macd_position": 1,
         "_deepnote_index_column": "2019-09-18T15:30:00.000000"
        },
        {
         "Close": 59.75,
         "macd": 0.10127229760735901,
         "signal": 0.04709786192543283,
         "macd_signal": 0,
         "macd_position": 1,
         "_deepnote_index_column": "2019-09-19T09:30:00.000000"
        },
        {
         "Close": 59.709999084472656,
         "macd": 0.11551884199771933,
         "signal": 0.06078205793989014,
         "macd_signal": 0,
         "macd_position": 1,
         "_deepnote_index_column": "2019-09-19T10:30:00.000000"
        },
        {
         "Close": 58.77109909057617,
         "macd": 0.05046620527480883,
         "signal": 0.05871888740687388,
         "macd_signal": -1,
         "macd_position": 0,
         "_deepnote_index_column": "2019-09-19T11:30:00.000000"
        },
        {
         "Close": 58.7599983215332,
         "macd": -0.001961605132891009,
         "signal": 0.04658278889892091,
         "macd_signal": 0,
         "macd_position": 0,
         "_deepnote_index_column": "2019-09-19T12:30:00.000000"
        },
        {
         "Close": 58.86009979248047,
         "macd": -0.03502986796782892,
         "signal": 0.030260257525570947,
         "macd_signal": 0,
         "macd_position": 0,
         "_deepnote_index_column": "2019-09-19T13:30:00.000000"
        },
        {
         "Close": 58.900001525878906,
         "macd": -0.05735580606634727,
         "signal": 0.012737044807187303,
         "macd_signal": 0,
         "macd_position": 0,
         "_deepnote_index_column": "2019-09-19T14:30:00.000000"
        },
        {
         "Close": 59.029998779296875,
         "macd": -0.06382385922054112,
         "signal": -0.002575135998358383,
         "macd_signal": 0,
         "macd_position": 0,
         "_deepnote_index_column": "2019-09-19T15:30:00.000000"
        },
        {
         "Close": 58.279998779296875,
         "macd": -0.12799314463513412,
         "signal": -0.02765873772571353,
         "macd_signal": 0,
         "macd_position": 0,
         "_deepnote_index_column": "2019-09-20T09:30:00.000000"
        },
        {
         "Close": 57.685001373291016,
         "macd": -0.22427379500162203,
         "signal": -0.06698174918089524,
         "macd_signal": 0,
         "macd_position": 0,
         "_deepnote_index_column": "2019-09-20T10:30:00.000000"
        },
        {
         "Close": 57.41999816894531,
         "macd": -0.31829138301432636,
         "signal": -0.11724367594758146,
         "macd_signal": 0,
         "macd_position": 0,
         "_deepnote_index_column": "2019-09-20T11:30:00.000000"
        },
        {
         "Close": 57.34000015258789,
         "macd": -0.3947062423574579,
         "signal": -0.17273618922955675,
         "macd_signal": 0,
         "macd_position": 0,
         "_deepnote_index_column": "2019-09-20T12:30:00.000000"
        },
        {
         "Close": 57.45000076293945,
         "macd": -0.4413023798505975,
         "signal": -0.2264494273537649,
         "macd_signal": 0,
         "macd_position": 0,
         "_deepnote_index_column": "2019-09-20T13:30:00.000000"
        },
        {
         "Close": 57.88010025024414,
         "macd": -0.43847030761891403,
         "signal": -0.26885360340679476,
         "macd_signal": 0,
         "macd_position": 0,
         "_deepnote_index_column": "2019-09-20T14:30:00.000000"
        },
        {
         "Close": 57.83000183105469,
         "macd": -0.4352510900779336,
         "signal": -0.30213310074102256,
         "macd_signal": 0,
         "macd_position": 0,
         "_deepnote_index_column": "2019-09-20T15:30:00.000000"
        },
        {
         "Close": 56.650001525878906,
         "macd": -0.5218998631857374,
         "signal": -0.34608645322996556,
         "macd_signal": 0,
         "macd_position": 0,
         "_deepnote_index_column": "2019-09-23T09:30:00.000000"
        },
        {
         "Close": 56.790000915527344,
         "macd": -0.5726714593160764,
         "signal": -0.39140345444718777,
         "macd_signal": 0,
         "macd_position": 0,
         "_deepnote_index_column": "2019-09-23T10:30:00.000000"
        }
       ],
       "rows_bottom": [
        {
         "Close": 256.864990234375,
         "macd": 5.146191205901118,
         "signal": 3.2571469884737416,
         "macd_signal": 0,
         "macd_position": 1,
         "_deepnote_index_column": "2021-07-21T14:30:00.000000"
        },
        {
         "Close": 257.25,
         "macd": 5.32369470766065,
         "signal": 3.670456532311124,
         "macd_signal": 0,
         "macd_position": 1,
         "_deepnote_index_column": "2021-07-21T15:30:00.000000"
        },
        {
         "Close": 261.4700012207031,
         "macd": 5.738733791230203,
         "signal": 4.08411198409494,
         "macd_signal": 0,
         "macd_position": 1,
         "_deepnote_index_column": "2021-07-22T09:30:00.000000"
        },
        {
         "Close": 259.3299865722656,
         "macd": 5.827794767470834,
         "signal": 4.432848540770119,
         "macd_signal": 0,
         "macd_position": 1,
         "_deepnote_index_column": "2021-07-22T10:30:00.000000"
        },
        {
         "Close": 259.55999755859375,
         "macd": 5.849506724774187,
         "signal": 4.7161801775709336,
         "macd_signal": 0,
         "macd_position": 1,
         "_deepnote_index_column": "2021-07-22T11:30:00.000000"
        },
        {
         "Close": 260.5299987792969,
         "macd": 5.877235486993584,
         "signal": 4.948391239455464,
         "macd_signal": 0,
         "macd_position": 1,
         "_deepnote_index_column": "2021-07-22T12:30:00.000000"
        },
        {
         "Close": 260.9700012207031,
         "macd": 5.867083167967223,
         "signal": 5.132129625157816,
         "macd_signal": 0,
         "macd_position": 1,
         "_deepnote_index_column": "2021-07-22T13:30:00.000000"
        },
        {
         "Close": 260.25,
         "macd": 5.7348317304064835,
         "signal": 5.25267004620755,
         "macd_signal": 0,
         "macd_position": 1,
         "_deepnote_index_column": "2021-07-22T14:30:00.000000"
        },
        {
         "Close": 260.6000061035156,
         "macd": 5.593782438804254,
         "signal": 5.320892524726891,
         "macd_signal": 0,
         "macd_position": 1,
         "_deepnote_index_column": "2021-07-22T15:30:00.000000"
        },
        {
         "Close": 265.1700134277344,
         "macd": 5.7840859149646064,
         "signal": 5.4135312027744344,
         "macd_signal": 0,
         "macd_position": 1,
         "_deepnote_index_column": "2021-07-23T09:30:00.000000"
        },
        {
         "Close": 264.2900085449219,
         "macd": 5.797068751333541,
         "signal": 5.4902387124862555,
         "macd_signal": 0,
         "macd_position": 1,
         "_deepnote_index_column": "2021-07-23T10:30:00.000000"
        },
        {
         "Close": 263.6000061035156,
         "macd": 5.686134097876959,
         "signal": 5.529417789564397,
         "macd_signal": 0,
         "macd_position": 1,
         "_deepnote_index_column": "2021-07-23T11:30:00.000000"
        },
        {
         "Close": 263.1000061035156,
         "macd": 5.494534194480764,
         "signal": 5.5224410705476705,
         "macd_signal": -1,
         "macd_position": 0,
         "_deepnote_index_column": "2021-07-23T12:30:00.000000"
        },
        {
         "Close": 263.8299865722656,
         "macd": 5.340036595942678,
         "signal": 5.485960175626673,
         "macd_signal": 0,
         "macd_position": 0,
         "_deepnote_index_column": "2021-07-23T13:30:00.000000"
        },
        {
         "Close": 263.8399963378906,
         "macd": 5.158934850802382,
         "signal": 5.420555110661815,
         "macd_signal": 0,
         "macd_position": 0,
         "_deepnote_index_column": "2021-07-23T14:30:00.000000"
        },
        {
         "Close": 264.07000732421875,
         "macd": 4.976603193538551,
         "signal": 5.331764727237163,
         "macd_signal": 0,
         "macd_position": 0,
         "_deepnote_index_column": "2021-07-23T15:30:00.000000"
        },
        {
         "Close": 263.79998779296875,
         "macd": 4.755497309217446,
         "signal": 5.216511243633219,
         "macd_signal": 0,
         "macd_position": 0,
         "_deepnote_index_column": "2021-07-26T09:30:00.000000"
        },
        {
         "Close": 261.90008544921875,
         "macd": 4.376513340413567,
         "signal": 5.048511662989289,
         "macd_signal": 0,
         "macd_position": 0,
         "_deepnote_index_column": "2021-07-26T10:30:00.000000"
        },
        {
         "Close": 262.4599914550781,
         "macd": 4.074378649192283,
         "signal": 4.853685060229888,
         "macd_signal": 0,
         "macd_position": 0,
         "_deepnote_index_column": "2021-07-26T11:30:00.000000"
        },
        {
         "Close": 262.6000061035156,
         "macd": 3.80240102945902,
         "signal": 4.643428254075715,
         "macd_signal": 0,
         "macd_position": 0,
         "_deepnote_index_column": "2021-07-26T12:30:00.000000"
        },
        {
         "Close": 261.5639953613281,
         "macd": 3.463336213716218,
         "signal": 4.407409846003816,
         "macd_signal": 0,
         "macd_position": 0,
         "_deepnote_index_column": "2021-07-26T13:30:00.000000"
        },
        {
         "Close": 262.54998779296875,
         "macd": 3.236873589504853,
         "signal": 4.173302594704023,
         "macd_signal": 0,
         "macd_position": 0,
         "_deepnote_index_column": "2021-07-26T14:30:00.000000"
        },
        {
         "Close": 262.04998779296875,
         "macd": 2.982672119373376,
         "signal": 3.935176499637894,
         "macd_signal": 0,
         "macd_position": 0,
         "_deepnote_index_column": "2021-07-26T15:30:00.000000"
        },
        {
         "Close": 253.86720275878906,
         "macd": 2.0967630774341046,
         "signal": 3.5674938151971363,
         "macd_signal": 0,
         "macd_position": 0,
         "_deepnote_index_column": "2021-07-27T09:30:00.000000"
        },
        {
         "Close": 246.5540008544922,
         "macd": 0.7953907350883469,
         "signal": 3.0130731991753783,
         "macd_signal": 0,
         "macd_position": 0,
         "_deepnote_index_column": "2021-07-27T10:30:00.000000"
        },
        {
         "Close": 248.99000549316406,
         "macd": -0.038942105944727246,
         "signal": 2.402670138151357,
         "macd_signal": 0,
         "macd_position": 0,
         "_deepnote_index_column": "2021-07-27T11:30:00.000000"
        },
        {
         "Close": 247.6300048828125,
         "macd": -0.8006679747486487,
         "signal": 1.762002515571356,
         "macd_signal": 0,
         "macd_position": 0,
         "_deepnote_index_column": "2021-07-27T12:30:00.000000"
        },
        {
         "Close": 250.61000061035156,
         "macd": -1.1506168683411886,
         "signal": 1.179478638788847,
         "macd_signal": 0,
         "macd_position": 0,
         "_deepnote_index_column": "2021-07-27T13:30:00.000000"
        },
        {
         "Close": 252.27000427246094,
         "macd": -1.2792589644252814,
         "signal": 0.6877311181460213,
         "macd_signal": 0,
         "macd_position": 0,
         "_deepnote_index_column": "2021-07-27T14:30:00.000000"
        },
        {
         "Close": 251.72999572753906,
         "macd": -1.4085460864287995,
         "signal": 0.26847567723105714,
         "macd_signal": 0,
         "macd_position": 0,
         "_deepnote_index_column": "2021-07-27T15:30:00.000000"
        },
        {
         "Close": 256.29998779296875,
         "macd": -1.1292298367798708,
         "signal": -0.01106542557112844,
         "macd_signal": 0,
         "macd_position": 0,
         "_deepnote_index_column": "2021-07-28T09:30:00.000000"
        },
        {
         "Close": 258.4150085449219,
         "macd": -0.7288039990155823,
         "signal": -0.15461314026001924,
         "macd_signal": 0,
         "macd_position": 0,
         "_deepnote_index_column": "2021-07-28T10:30:00.000000"
        },
        {
         "Close": 258.95001220703125,
         "macd": -0.3640962385589148,
         "signal": -0.19650975991979835,
         "macd_signal": 0,
         "macd_position": 0,
         "_deepnote_index_column": "2021-07-28T11:30:00.000000"
        },
        {
         "Close": 257.0400085449219,
         "macd": -0.22657225981029683,
         "signal": -0.20252225989789807,
         "macd_signal": 0,
         "macd_position": 0,
         "_deepnote_index_column": "2021-07-28T12:30:00.000000"
        },
        {
         "Close": 258.4800109863281,
         "macd": -0.0013715431308582993,
         "signal": -0.16229211654449013,
         "macd_signal": 1,
         "macd_position": 1,
         "_deepnote_index_column": "2021-07-28T13:30:00.000000"
        },
        {
         "Close": 259.7099914550781,
         "macd": 0.273201495001274,
         "signal": -0.0751933942353373,
         "macd_signal": 0,
         "macd_position": 1,
         "_deepnote_index_column": "2021-07-28T14:30:00.000000"
        },
        {
         "Close": 258.4700012207031,
         "macd": 0.3862928139295718,
         "signal": 0.01710384739764452,
         "macd_signal": 0,
         "macd_position": 1,
         "_deepnote_index_column": "2021-07-28T15:30:00.000000"
        },
        {
         "Close": 259.70001220703125,
         "macd": 0.5686154608433753,
         "signal": 0.1274061700867907,
         "macd_signal": 0,
         "macd_position": 1,
         "_deepnote_index_column": "2021-07-29T09:30:00.000000"
        },
        {
         "Close": 260.1900939941406,
         "macd": 0.7440757346239479,
         "signal": 0.2507400829942221,
         "macd_signal": 0,
         "macd_position": 1,
         "_deepnote_index_column": "2021-07-29T10:30:00.000000"
        },
        {
         "Close": 260.2200012207031,
         "macd": 0.8754508762049227,
         "signal": 0.37568224163636227,
         "macd_signal": 0,
         "macd_position": 1,
         "_deepnote_index_column": "2021-07-29T11:30:00.000000"
        },
        {
         "Close": 257.864990234375,
         "macd": 0.7805393457569494,
         "signal": 0.45665366246047967,
         "macd_signal": 0,
         "macd_position": 1,
         "_deepnote_index_column": "2021-07-29T12:30:00.000000"
        },
        {
         "Close": 255.4700927734375,
         "macd": 0.5062374734991977,
         "signal": 0.4665704246682233,
         "macd_signal": 0,
         "macd_position": 1,
         "_deepnote_index_column": "2021-07-29T13:30:00.000000"
        },
        {
         "Close": 254.93499755859375,
         "macd": 0.2428738530419423,
         "signal": 0.42183111034296716,
         "macd_signal": -1,
         "macd_position": 0,
         "_deepnote_index_column": "2021-07-29T14:30:00.000000"
        },
        {
         "Close": 255.27000427246094,
         "macd": 0.06049122327090117,
         "signal": 0.349563132928554,
         "macd_signal": 0,
         "macd_position": 0,
         "_deepnote_index_column": "2021-07-29T15:30:00.000000"
        },
        {
         "Close": 251.60499572753906,
         "macd": -0.3754558631619602,
         "signal": 0.20455933371045115,
         "macd_signal": 0,
         "macd_position": 0,
         "_deepnote_index_column": "2021-07-30T09:30:00.000000"
        },
        {
         "Close": 248.32000732421875,
         "macd": -0.9747815059236871,
         "signal": -0.03130883421637648,
         "macd_signal": 0,
         "macd_position": 0,
         "_deepnote_index_column": "2021-07-30T10:30:00.000000"
        },
        {
         "Close": 247.17999267578125,
         "macd": -1.524171351769894,
         "signal": -0.32988133772708,
         "macd_signal": 0,
         "macd_position": 0,
         "_deepnote_index_column": "2021-07-30T11:30:00.000000"
        },
        {
         "Close": 247.59840393066406,
         "macd": -1.9038579815816092,
         "signal": -0.6446766664979859,
         "macd_signal": 0,
         "macd_position": 0,
         "_deepnote_index_column": "2021-07-30T12:30:00.000000"
        },
        {
         "Close": 245.77000427246094,
         "macd": -2.325492117483549,
         "signal": -0.9808397566950986,
         "macd_signal": 0,
         "macd_position": 0,
         "_deepnote_index_column": "2021-07-30T13:30:00.000000"
        },
        {
         "Close": 245.9199981689453,
         "macd": -2.6173655927016455,
         "signal": -1.308144923896408,
         "macd_signal": 0,
         "macd_position": 0,
         "_deepnote_index_column": "2021-07-30T14:30:00.000000"
        },
        {
         "Close": 247.25,
         "macd": -2.710116852088049,
         "signal": -1.5885393095347362,
         "macd_signal": 0,
         "macd_position": 0,
         "_deepnote_index_column": "2021-07-30T15:30:00.000000"
        },
        {
         "Close": 269.95001220703125,
         "macd": -0.9410735105667811,
         "signal": -1.4590461497411453,
         "macd_signal": 1,
         "macd_position": 1,
         "_deepnote_index_column": "2021-08-02T09:30:00.000000"
        },
        {
         "Close": 275.239990234375,
         "macd": 0.8776461410749334,
         "signal": -0.9917076915779295,
         "macd_signal": 0,
         "macd_position": 1,
         "_deepnote_index_column": "2021-08-02T10:30:00.000000"
        },
        {
         "Close": 275.19000244140625,
         "macd": 2.288579649434041,
         "signal": -0.33565022337553535,
         "macd_signal": 0,
         "macd_position": 1,
         "_deepnote_index_column": "2021-08-02T11:30:00.000000"
        },
        {
         "Close": 276.32000732421875,
         "macd": 3.458074045216847,
         "signal": 0.4230946303429412,
         "macd_signal": 0,
         "macd_position": 1,
         "_deepnote_index_column": "2021-08-02T12:30:00.000000"
        },
        {
         "Close": 279.6247863769531,
         "macd": 4.598565430219594,
         "signal": 1.2581887903182718,
         "macd_signal": 0,
         "macd_position": 1,
         "_deepnote_index_column": "2021-08-02T13:30:00.000000"
        },
        {
         "Close": 273.1388854980469,
         "macd": 4.922313705278043,
         "signal": 1.991013773310226,
         "macd_signal": 0,
         "macd_position": 1,
         "_deepnote_index_column": "2021-08-02T14:30:00.000000"
        },
        {
         "Close": 272.3999938964844,
         "macd": 5.0609249758654755,
         "signal": 2.6049960138212764,
         "macd_signal": 0,
         "macd_position": 1,
         "_deepnote_index_column": "2021-08-02T15:30:00.000000"
        },
        {
         "Close": 266.0799865722656,
         "macd": 4.607689062560553,
         "signal": 3.005534623569132,
         "macd_signal": 0,
         "macd_position": 1,
         "_deepnote_index_column": "2021-08-03T09:30:00.000000"
        },
        {
         "Close": 263.30999755859375,
         "macd": 3.9791126386519977,
         "signal": 3.2002502265857053,
         "macd_signal": 0,
         "macd_position": 1,
         "_deepnote_index_column": "2021-08-03T10:30:00.000000"
        },
        {
         "Close": 271.67999267578125,
         "macd": 4.108984137659945,
         "signal": 3.3819970088005538,
         "macd_signal": 0,
         "macd_position": 1,
         "_deepnote_index_column": "2021-08-03T11:30:00.000000"
        },
        {
         "Close": 268.8900146484375,
         "macd": 3.941346932277952,
         "signal": 3.4938669934960336,
         "macd_signal": 0,
         "macd_position": 1,
         "_deepnote_index_column": "2021-08-03T12:30:00.000000"
        },
        {
         "Close": 266.9849853515625,
         "macd": 3.6131234578572275,
         "signal": 3.5177182863682726,
         "macd_signal": 0,
         "macd_position": 1,
         "_deepnote_index_column": "2021-08-03T13:30:00.000000"
        },
        {
         "Close": 269.6798095703125,
         "macd": 3.5297648505292614,
         "signal": 3.5201275992004706,
         "macd_signal": 0,
         "macd_position": 1,
         "_deepnote_index_column": "2021-08-03T14:30:00.000000"
        },
        {
         "Close": 269.3999938964844,
         "macd": 3.401908681627617,
         "signal": 3.4964838156859,
         "macd_signal": -1,
         "macd_position": 0,
         "_deepnote_index_column": "2021-08-03T15:30:00.000000"
        },
        {
         "Close": 263.5899963378906,
         "macd": 2.7994926907014133,
         "signal": 3.3570855906890027,
         "macd_signal": 0,
         "macd_position": 0,
         "_deepnote_index_column": "2021-08-04T09:30:00.000000"
        },
        {
         "Close": 265.6600036621094,
         "macd": 2.460740089022238,
         "signal": 3.17781649035565,
         "macd_signal": 0,
         "macd_position": 0,
         "_deepnote_index_column": "2021-08-04T10:30:00.000000"
        },
        {
         "Close": 265.4100036621094,
         "macd": 2.1473499869770762,
         "signal": 2.971723189679935,
         "macd_signal": 0,
         "macd_position": 0,
         "_deepnote_index_column": "2021-08-04T11:30:00.000000"
        },
        {
         "Close": 266.4849853515625,
         "macd": 1.9630987314054096,
         "signal": 2.76999829802503,
         "macd_signal": 0,
         "macd_position": 0,
         "_deepnote_index_column": "2021-08-04T12:30:00.000000"
        },
        {
         "Close": 265.9200134277344,
         "macd": 1.7513018536988056,
         "signal": 2.5662590091597854,
         "macd_signal": 0,
         "macd_position": 0,
         "_deepnote_index_column": "2021-08-04T13:30:00.000000"
        },
        {
         "Close": 265.5,
         "macd": 1.5319009284547178,
         "signal": 2.359387393018772,
         "macd_signal": 0,
         "macd_position": 0,
         "_deepnote_index_column": "2021-08-04T14:30:00.000000"
        },
        {
         "Close": 266.45001220703125,
         "macd": 1.41833250577929,
         "signal": 2.171176415570876,
         "macd_signal": 0,
         "macd_position": 0,
         "_deepnote_index_column": "2021-08-04T15:30:00.000000"
        },
        {
         "Close": 278.2344970703125,
         "macd": 2.253263930032915,
         "signal": 2.1875939184632838,
         "macd_signal": 1,
         "macd_position": 1,
         "_deepnote_index_column": "2021-08-05T09:30:00.000000"
        },
        {
         "Close": 287.25,
         "macd": 3.6009196792661555,
         "signal": 2.4702590706238583,
         "macd_signal": 0,
         "macd_position": 1,
         "_deepnote_index_column": "2021-08-05T10:30:00.000000"
        },
        {
         "Close": 287.32000732421875,
         "macd": 4.621323831403458,
         "signal": 2.9004720227797787,
         "macd_signal": 0,
         "macd_position": 1,
         "_deepnote_index_column": "2021-08-05T11:30:00.000000"
        },
        {
         "Close": 283.7300109863281,
         "macd": 5.0817396406661715,
         "signal": 3.3367255463570573,
         "macd_signal": 0,
         "macd_position": 1,
         "_deepnote_index_column": "2021-08-05T12:30:00.000000"
        },
        {
         "Close": 283.8900146484375,
         "macd": 5.39731653959393,
         "signal": 3.7488437450044323,
         "macd_signal": 0,
         "macd_position": 1,
         "_deepnote_index_column": "2021-08-05T13:30:00.000000"
        },
        {
         "Close": 282.4599914550781,
         "macd": 5.468979592678522,
         "signal": 4.092870914539251,
         "macd_signal": 0,
         "macd_position": 1,
         "_deepnote_index_column": "2021-08-05T14:30:00.000000"
        },
        {
         "Close": 281.79998779296875,
         "macd": 5.410151440793868,
         "signal": 4.356327019790174,
         "macd_signal": 0,
         "macd_position": 1,
         "_deepnote_index_column": "2021-08-05T15:30:00.000000"
        },
        {
         "Close": 279.1000061035156,
         "macd": 5.087023706217963,
         "signal": 4.502466357075732,
         "macd_signal": 0,
         "macd_position": 1,
         "_deepnote_index_column": "2021-08-06T09:30:00.000000"
        },
        {
         "Close": 277.2200012207031,
         "macd": 4.6259172715968475,
         "signal": 4.527156539979955,
         "macd_signal": 0,
         "macd_position": 1,
         "_deepnote_index_column": "2021-08-06T10:30:00.000000"
        },
        {
         "Close": 278.6400146484375,
         "macd": 4.325211964956964,
         "signal": 4.486767624975357,
         "macd_signal": -1,
         "macd_position": 0,
         "_deepnote_index_column": "2021-08-06T11:30:00.000000"
        },
        {
         "Close": 276.6119079589844,
         "macd": 3.8785401857817874,
         "signal": 4.365122137136644,
         "macd_signal": 0,
         "macd_position": 0,
         "_deepnote_index_column": "2021-08-06T12:30:00.000000"
        },
        {
         "Close": 276.2349853515625,
         "macd": 3.454315875171801,
         "signal": 4.182960884743675,
         "macd_signal": 0,
         "macd_position": 0,
         "_deepnote_index_column": "2021-08-06T13:30:00.000000"
        },
        {
         "Close": 276.0409851074219,
         "macd": 3.067105175016877,
         "signal": 3.959789742798316,
         "macd_signal": 0,
         "macd_position": 0,
         "_deepnote_index_column": "2021-08-06T14:30:00.000000"
        },
        {
         "Close": 275.06500244140625,
         "macd": 2.650926035725945,
         "signal": 3.698017001383842,
         "macd_signal": 0,
         "macd_position": 0,
         "_deepnote_index_column": "2021-08-06T15:30:00.000000"
        },
        {
         "Close": 281.2298889160156,
         "macd": 2.786435590828944,
         "signal": 3.5157007192728624,
         "macd_signal": 0,
         "macd_position": 0,
         "_deepnote_index_column": "2021-08-09T09:30:00.000000"
        },
        {
         "Close": 280.7699890136719,
         "macd": 2.824162622237452,
         "signal": 3.3773930998657806,
         "macd_signal": 0,
         "macd_position": 0,
         "_deepnote_index_column": "2021-08-09T10:30:00.000000"
        },
        {
         "Close": 282.98480224609375,
         "macd": 2.998216906158234,
         "signal": 3.3015578611242713,
         "macd_signal": 0,
         "macd_position": 0,
         "_deepnote_index_column": "2021-08-09T11:30:00.000000"
        },
        {
         "Close": 284.364990234375,
         "macd": 3.2105169748917888,
         "signal": 3.2833496838777747,
         "macd_signal": 0,
         "macd_position": 0,
         "_deepnote_index_column": "2021-08-09T12:30:00.000000"
        },
        {
         "Close": 282.67999267578125,
         "macd": 3.205846089881902,
         "signal": 3.2678489650786005,
         "macd_signal": 0,
         "macd_position": 0,
         "_deepnote_index_column": "2021-08-09T13:30:00.000000"
        },
        {
         "Close": 280.5799865722656,
         "macd": 2.9981308516035483,
         "signal": 3.2139053423835904,
         "macd_signal": 0,
         "macd_position": 0,
         "_deepnote_index_column": "2021-08-09T14:30:00.000000"
        },
        {
         "Close": 279.7099914550781,
         "macd": 2.7318229393123943,
         "signal": 3.1174888617693512,
         "macd_signal": 0,
         "macd_position": 0,
         "_deepnote_index_column": "2021-08-09T15:30:00.000000"
        },
        {
         "Close": 278.1571960449219,
         "macd": 2.3681755344072712,
         "signal": 2.9676261962969352,
         "macd_signal": 0,
         "macd_position": 0,
         "_deepnote_index_column": "2021-08-10T09:30:00.000000"
        },
        {
         "Close": 277.5,
         "macd": 2.00385294824099,
         "signal": 2.774871546685746,
         "macd_signal": 0,
         "macd_position": 0,
         "_deepnote_index_column": "2021-08-10T10:30:00.000000"
        },
        {
         "Close": 277.697998046875,
         "macd": 1.7113738095624171,
         "signal": 2.5621719992610803,
         "macd_signal": 0,
         "macd_position": 0,
         "_deepnote_index_column": "2021-08-10T11:30:00.000000"
        },
        {
         "Close": 276.7699890136719,
         "macd": 1.3886914411733642,
         "signal": 2.327475887643537,
         "macd_signal": 0,
         "macd_position": 0,
         "_deepnote_index_column": "2021-08-10T12:30:00.000000"
        },
        {
         "Close": 275.375,
         "macd": 1.0087709014169945,
         "signal": 2.0637348903982287,
         "macd_signal": 0,
         "macd_position": 0,
         "_deepnote_index_column": "2021-08-10T13:30:00.000000"
        },
        {
         "Close": 274.04998779296875,
         "macd": 0.5939174147059703,
         "signal": 1.7697713952597771,
         "macd_signal": 0,
         "macd_position": 0,
         "_deepnote_index_column": "2021-08-10T14:30:00.000000"
        },
        {
         "Close": 272.92999267578125,
         "macd": 0.1727771247185501,
         "signal": 1.4503725411515318,
         "macd_signal": 0,
         "macd_position": 0,
         "_deepnote_index_column": "2021-08-10T15:30:00.000000"
        }
       ]
      },
      "text/plain": "                                Close      macd    signal  macd_signal  \\\n2019-09-03 09:30:00-04:00   62.959999  0.000000  0.000000            0   \n2019-09-03 10:30:00-04:00   62.320000 -0.051054 -0.010211           -1   \n2019-09-03 11:30:00-04:00   62.000000 -0.115999 -0.031368            0   \n2019-09-03 12:30:00-04:00   61.774899 -0.183517 -0.061798            0   \n2019-09-03 13:30:00-04:00   61.360001 -0.267421 -0.102923            0   \n...                               ...       ...       ...          ...   \n2021-08-10 11:30:00-04:00  277.697998  1.711374  2.562172            0   \n2021-08-10 12:30:00-04:00  276.769989  1.388691  2.327476            0   \n2021-08-10 13:30:00-04:00  275.375000  1.008771  2.063735            0   \n2021-08-10 14:30:00-04:00  274.049988  0.593917  1.769771            0   \n2021-08-10 15:30:00-04:00  272.929993  0.172777  1.450373            0   \n\n                           macd_position  \n2019-09-03 09:30:00-04:00              1  \n2019-09-03 10:30:00-04:00              0  \n2019-09-03 11:30:00-04:00              0  \n2019-09-03 12:30:00-04:00              0  \n2019-09-03 13:30:00-04:00              0  \n...                                  ...  \n2021-08-10 11:30:00-04:00              0  \n2021-08-10 12:30:00-04:00              0  \n2021-08-10 13:30:00-04:00              0  \n2021-08-10 14:30:00-04:00              0  \n2021-08-10 15:30:00-04:00              0  \n\n[3411 rows x 5 columns]",
      "text/html": "<div>\n<style scoped>\n    .dataframe tbody tr th:only-of-type {\n        vertical-align: middle;\n    }\n\n    .dataframe tbody tr th {\n        vertical-align: top;\n    }\n\n    .dataframe thead th {\n        text-align: right;\n    }\n</style>\n<table border=\"1\" class=\"dataframe\">\n  <thead>\n    <tr style=\"text-align: right;\">\n      <th></th>\n      <th>Close</th>\n      <th>macd</th>\n      <th>signal</th>\n      <th>macd_signal</th>\n      <th>macd_position</th>\n    </tr>\n  </thead>\n  <tbody>\n    <tr>\n      <th>2019-09-03 09:30:00-04:00</th>\n      <td>62.959999</td>\n      <td>0.000000</td>\n      <td>0.000000</td>\n      <td>0</td>\n      <td>1</td>\n    </tr>\n    <tr>\n      <th>2019-09-03 10:30:00-04:00</th>\n      <td>62.320000</td>\n      <td>-0.051054</td>\n      <td>-0.010211</td>\n      <td>-1</td>\n      <td>0</td>\n    </tr>\n    <tr>\n      <th>2019-09-03 11:30:00-04:00</th>\n      <td>62.000000</td>\n      <td>-0.115999</td>\n      <td>-0.031368</td>\n      <td>0</td>\n      <td>0</td>\n    </tr>\n    <tr>\n      <th>2019-09-03 12:30:00-04:00</th>\n      <td>61.774899</td>\n      <td>-0.183517</td>\n      <td>-0.061798</td>\n      <td>0</td>\n      <td>0</td>\n    </tr>\n    <tr>\n      <th>2019-09-03 13:30:00-04:00</th>\n      <td>61.360001</td>\n      <td>-0.267421</td>\n      <td>-0.102923</td>\n      <td>0</td>\n      <td>0</td>\n    </tr>\n    <tr>\n      <th>...</th>\n      <td>...</td>\n      <td>...</td>\n      <td>...</td>\n      <td>...</td>\n      <td>...</td>\n    </tr>\n    <tr>\n      <th>2021-08-10 11:30:00-04:00</th>\n      <td>277.697998</td>\n      <td>1.711374</td>\n      <td>2.562172</td>\n      <td>0</td>\n      <td>0</td>\n    </tr>\n    <tr>\n      <th>2021-08-10 12:30:00-04:00</th>\n      <td>276.769989</td>\n      <td>1.388691</td>\n      <td>2.327476</td>\n      <td>0</td>\n      <td>0</td>\n    </tr>\n    <tr>\n      <th>2021-08-10 13:30:00-04:00</th>\n      <td>275.375000</td>\n      <td>1.008771</td>\n      <td>2.063735</td>\n      <td>0</td>\n      <td>0</td>\n    </tr>\n    <tr>\n      <th>2021-08-10 14:30:00-04:00</th>\n      <td>274.049988</td>\n      <td>0.593917</td>\n      <td>1.769771</td>\n      <td>0</td>\n      <td>0</td>\n    </tr>\n    <tr>\n      <th>2021-08-10 15:30:00-04:00</th>\n      <td>272.929993</td>\n      <td>0.172777</td>\n      <td>1.450373</td>\n      <td>0</td>\n      <td>0</td>\n    </tr>\n  </tbody>\n</table>\n<p>3411 rows × 5 columns</p>\n</div>"
     },
     "metadata": {}
    }
   ],
   "execution_count": 8
  },
  {
   "cell_type": "code",
   "metadata": {
    "tags": [],
    "cell_id": "00007-a8da5f69-ca1d-4506-a831-2cb34110fe0e",
    "deepnote_to_be_reexecuted": false,
    "source_hash": "e82d5b5e",
    "execution_start": 1628646948739,
    "execution_millis": 184,
    "deepnote_cell_type": "code"
   },
   "source": "\nsq_ret = pd.DataFrame(np.diff(sq_1hr['Close'])).rename(columns = {0:'returns'})\nmacd_strategy_ret = []\n\nfor i in range(len(sq_ret)):\n    try:\n        returns = sq_ret['returns'][i]*strategy['macd_position'][i]\n        macd_strategy_ret.append(returns)\n    except:\n        pass\n    \nmacd_strategy_ret_df = pd.DataFrame(macd_strategy_ret).rename(columns = {0:'macd_returns'})\n\ninvestment_value = 100000\nnumber_of_stocks = floor(investment_value/sq_1hr['Close'][-1])\nmacd_investment_ret = []\n\nfor i in range(len(macd_strategy_ret_df['macd_returns'])):\n    returns = number_of_stocks*macd_strategy_ret_df['macd_returns'][i]\n    macd_investment_ret.append(returns)\n\nmacd_investment_ret_df = pd.DataFrame(macd_investment_ret).rename(columns = {0:'investment_returns'})\ntotal_investment_ret = round(sum(macd_investment_ret_df['investment_returns']), 2)\nprofit_percentage = floor((total_investment_ret/investment_value)*100)\nprint(cl('Profit gained from the MACD strategy by investing $100k in SQ : {}'.format(total_investment_ret), attrs = ['bold']))\nprint(cl('Profit percentage of the MACD strategy : {}%'.format(profit_percentage), attrs = ['bold']))",
   "outputs": [
    {
     "name": "stdout",
     "text": "\u001b[1mProfit gained from the MACD strategy by investing $100k in SQ : 45228.42\u001b[0m\n\u001b[1mProfit percentage of the MACD strategy : 45%\u001b[0m\n",
     "output_type": "stream"
    }
   ],
   "execution_count": 9
  },
  {
   "cell_type": "code",
   "metadata": {
    "tags": [],
    "cell_id": "00009-742ccc8d-8f50-4496-8f2f-a67c8dc4183c",
    "deepnote_to_be_reexecuted": false,
    "source_hash": "2db4012",
    "execution_start": 1628646948929,
    "execution_millis": 129,
    "deepnote_cell_type": "code"
   },
   "source": "strategy.to_csv('SQ MACD TRADE STRATEGY.csv')",
   "outputs": [],
   "execution_count": 10
  },
  {
   "cell_type": "markdown",
   "source": "<a style='text-decoration:none;line-height:16px;display:flex;color:#5B5B62;padding:10px;justify-content:end;' href='https://deepnote.com?utm_source=created-in-deepnote-cell&projectId=d12c285c-6789-4c45-9ad7-1be9b4d60622' target=\"_blank\">\n<img alt='Created in deepnote.com' style='display:inline;max-height:16px;margin:0px;margin-right:7.5px;' src='data:image/svg+xml;base64,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' > </img>\nCreated in <span style='font-weight:600;margin-left:4px;'>Deepnote</span></a>",
   "metadata": {
    "tags": [],
    "created_in_deepnote_cell": true,
    "deepnote_cell_type": "markdown"
   }
  }
 ],
 "nbformat": 4,
 "nbformat_minor": 2,
 "metadata": {
  "orig_nbformat": 2,
  "deepnote": {
   "is_reactive": false
  },
  "deepnote_notebook_id": "8bdae1bd-6dde-4d0b-ac53-eb43282d85a1",
  "deepnote_execution_queue": []
 }
}