{
 "cells": [
  {
   "cell_type": "code",
   "metadata": {
    "tags": [],
    "deepnote_to_be_reexecuted": false,
    "source_hash": "32367b8d",
    "execution_start": 1629323109345,
    "execution_millis": 752,
    "cell_id": "00000-b4364fe0-e735-4454-b82c-b4f6b5668e42",
    "deepnote_cell_type": "code"
   },
   "source": "import datetime as dt\nfrom pathlib import Path\nimport requests\nimport pandas as pd\nimport numpy as np\nfrom math import floor\nfrom termcolor import colored as cl\nimport matplotlib.pyplot as plt\nplt.close('all')\nimport yfinance as yf\nplt.rcParams['figure.figsize'] = (20, 10)\nplt.style.use('fivethirtyeight')",
   "outputs": [],
   "execution_count": null
  },
  {
   "cell_type": "code",
   "metadata": {
    "tags": [],
    "deepnote_to_be_reexecuted": false,
    "source_hash": "bec25ee1",
    "execution_start": 1629323110107,
    "execution_millis": 1931,
    "cell_id": "00001-75196221-2593-4f17-be7f-794b0a754ab1",
    "deepnote_cell_type": "code"
   },
   "source": "xrp = yf.download(tickers='XRP-USD', start='2019-09-01', end = '2021-08-11', interval='1h')\nxrp.drop(columns = ['Open','High','Low','Adj Close','Volume'], inplace = True)\n# sq_1d.reset_index(inplace=True)\n# sq_1d.rename(columns = {'index':'Datetime'}, inplace = True)\n# sq_1d.set_index(pd.to_datetime(sq_1d['Datetime'],infer_datetime_format=True),inplace=True)\nxrp.head()",
   "outputs": [
    {
     "name": "stdout",
     "text": "[*********************100%***********************]  1 of 1 completed\n",
     "output_type": "stream"
    },
    {
     "output_type": "execute_result",
     "execution_count": 2,
     "data": {
      "application/vnd.deepnote.dataframe.v2+json": {
       "row_count": 5,
       "column_count": 1,
       "columns": [
        {
         "name": "Close",
         "dtype": "float64",
         "stats": {
          "unique_count": 5,
          "nan_count": 0,
          "min": "0.25780001282691956",
          "max": "0.2590999901294708",
          "histogram": [
           {
            "bin_start": 0.25780001282691956,
            "bin_end": 0.2579300105571747,
            "count": 1
           },
           {
            "bin_start": 0.2579300105571747,
            "bin_end": 0.2580600082874298,
            "count": 0
           },
           {
            "bin_start": 0.2580600082874298,
            "bin_end": 0.25819000601768494,
            "count": 1
           },
           {
            "bin_start": 0.25819000601768494,
            "bin_end": 0.25832000374794006,
            "count": 0
           },
           {
            "bin_start": 0.25832000374794006,
            "bin_end": 0.2584500014781952,
            "count": 1
           },
           {
            "bin_start": 0.2584500014781952,
            "bin_end": 0.2585799992084503,
            "count": 1
           },
           {
            "bin_start": 0.2585799992084503,
            "bin_end": 0.25870999693870544,
            "count": 0
           },
           {
            "bin_start": 0.25870999693870544,
            "bin_end": 0.25883999466896057,
            "count": 0
           },
           {
            "bin_start": 0.25883999466896057,
            "bin_end": 0.2589699923992157,
            "count": 0
           },
           {
            "bin_start": 0.2589699923992157,
            "bin_end": 0.2590999901294708,
            "count": 1
           }
          ]
         }
        },
        {
         "name": "_deepnote_index_column",
         "dtype": "datetime64[ns, Europe/London]"
        }
       ],
       "rows_top": [
        {
         "Close": 0.2590999901294708,
         "_deepnote_index_column": "2019-09-01T01:00:00.000000"
        },
        {
         "Close": 0.25839999318122864,
         "_deepnote_index_column": "2019-09-01T02:00:00.000000"
        },
        {
         "Close": 0.25780001282691956,
         "_deepnote_index_column": "2019-09-01T03:00:00.000000"
        },
        {
         "Close": 0.25850000977516174,
         "_deepnote_index_column": "2019-09-01T04:00:00.000000"
        },
        {
         "Close": 0.2581000030040741,
         "_deepnote_index_column": "2019-09-01T05:00:00.000000"
        }
       ],
       "rows_bottom": null
      },
      "text/plain": "                            Close\n2019-09-01 01:00:00+01:00  0.2591\n2019-09-01 02:00:00+01:00  0.2584\n2019-09-01 03:00:00+01:00  0.2578\n2019-09-01 04:00:00+01:00  0.2585\n2019-09-01 05:00:00+01:00  0.2581",
      "text/html": "<div>\n<style scoped>\n    .dataframe tbody tr th:only-of-type {\n        vertical-align: middle;\n    }\n\n    .dataframe tbody tr th {\n        vertical-align: top;\n    }\n\n    .dataframe thead th {\n        text-align: right;\n    }\n</style>\n<table border=\"1\" class=\"dataframe\">\n  <thead>\n    <tr style=\"text-align: right;\">\n      <th></th>\n      <th>Close</th>\n    </tr>\n  </thead>\n  <tbody>\n    <tr>\n      <th>2019-09-01 01:00:00+01:00</th>\n      <td>0.2591</td>\n    </tr>\n    <tr>\n      <th>2019-09-01 02:00:00+01:00</th>\n      <td>0.2584</td>\n    </tr>\n    <tr>\n      <th>2019-09-01 03:00:00+01:00</th>\n      <td>0.2578</td>\n    </tr>\n    <tr>\n      <th>2019-09-01 04:00:00+01:00</th>\n      <td>0.2585</td>\n    </tr>\n    <tr>\n      <th>2019-09-01 05:00:00+01:00</th>\n      <td>0.2581</td>\n    </tr>\n  </tbody>\n</table>\n</div>"
     },
     "metadata": {}
    }
   ],
   "execution_count": null
  },
  {
   "cell_type": "code",
   "metadata": {
    "tags": [],
    "deepnote_to_be_reexecuted": false,
    "source_hash": "720fc137",
    "execution_start": 1629323112046,
    "execution_millis": 46,
    "cell_id": "00002-8c6773e7-93d3-4d74-802c-0e3949c6a6d6",
    "deepnote_cell_type": "code"
   },
   "source": "# Drop NAs and calculate daily percent return\nxrp['daily_return'] = xrp['Close'].dropna().pct_change()\nxrp.head()",
   "outputs": [
    {
     "output_type": "execute_result",
     "execution_count": 3,
     "data": {
      "application/vnd.deepnote.dataframe.v2+json": {
       "row_count": 5,
       "column_count": 2,
       "columns": [
        {
         "name": "Close",
         "dtype": "float64",
         "stats": {
          "unique_count": 5,
          "nan_count": 0,
          "min": "0.25780001282691956",
          "max": "0.2590999901294708",
          "histogram": [
           {
            "bin_start": 0.25780001282691956,
            "bin_end": 0.2579300105571747,
            "count": 1
           },
           {
            "bin_start": 0.2579300105571747,
            "bin_end": 0.2580600082874298,
            "count": 0
           },
           {
            "bin_start": 0.2580600082874298,
            "bin_end": 0.25819000601768494,
            "count": 1
           },
           {
            "bin_start": 0.25819000601768494,
            "bin_end": 0.25832000374794006,
            "count": 0
           },
           {
            "bin_start": 0.25832000374794006,
            "bin_end": 0.2584500014781952,
            "count": 1
           },
           {
            "bin_start": 0.2584500014781952,
            "bin_end": 0.2585799992084503,
            "count": 1
           },
           {
            "bin_start": 0.2585799992084503,
            "bin_end": 0.25870999693870544,
            "count": 0
           },
           {
            "bin_start": 0.25870999693870544,
            "bin_end": 0.25883999466896057,
            "count": 0
           },
           {
            "bin_start": 0.25883999466896057,
            "bin_end": 0.2589699923992157,
            "count": 0
           },
           {
            "bin_start": 0.2589699923992157,
            "bin_end": 0.2590999901294708,
            "count": 1
           }
          ]
         }
        },
        {
         "name": "daily_return",
         "dtype": "float64",
         "stats": {
          "unique_count": 4,
          "nan_count": 1,
          "min": "-0.002701647915510974",
          "max": "0.002715271192450075",
          "histogram": [
           {
            "bin_start": -0.002701647915510974,
            "bin_end": -0.0021599560047148693,
            "count": 2
           },
           {
            "bin_start": -0.0021599560047148693,
            "bin_end": -0.0016182640939187642,
            "count": 0
           },
           {
            "bin_start": -0.0016182640939187642,
            "bin_end": -0.0010765721831226592,
            "count": 1
           },
           {
            "bin_start": -0.0010765721831226592,
            "bin_end": -0.0005348802723265543,
            "count": 0
           },
           {
            "bin_start": -0.0005348802723265543,
            "bin_end": 0.000006811638469550463,
            "count": 0
           },
           {
            "bin_start": 0.000006811638469550463,
            "bin_end": 0.0005485035492656556,
            "count": 0
           },
           {
            "bin_start": 0.0005485035492656556,
            "bin_end": 0.0010901954600617608,
            "count": 0
           },
           {
            "bin_start": 0.0010901954600617608,
            "bin_end": 0.0016318873708578655,
            "count": 0
           },
           {
            "bin_start": 0.0016318873708578655,
            "bin_end": 0.0021735792816539702,
            "count": 0
           },
           {
            "bin_start": 0.0021735792816539702,
            "bin_end": 0.002715271192450075,
            "count": 1
           }
          ]
         }
        },
        {
         "name": "_deepnote_index_column",
         "dtype": "datetime64[ns, Europe/London]"
        }
       ],
       "rows_top": [
        {
         "Close": 0.2590999901294708,
         "daily_return": "nan",
         "_deepnote_index_column": "2019-09-01T01:00:00.000000"
        },
        {
         "Close": 0.25839999318122864,
         "daily_return": -0.002701647915510974,
         "_deepnote_index_column": "2019-09-01T02:00:00.000000"
        },
        {
         "Close": 0.25780001282691956,
         "daily_return": -0.002321905457204454,
         "_deepnote_index_column": "2019-09-01T03:00:00.000000"
        },
        {
         "Close": 0.25850000977516174,
         "daily_return": 0.002715271192450075,
         "_deepnote_index_column": "2019-09-01T04:00:00.000000"
        },
        {
         "Close": 0.2581000030040741,
         "daily_return": -0.0015474149166785356,
         "_deepnote_index_column": "2019-09-01T05:00:00.000000"
        }
       ],
       "rows_bottom": null
      },
      "text/plain": "                            Close  daily_return\n2019-09-01 01:00:00+01:00  0.2591           NaN\n2019-09-01 02:00:00+01:00  0.2584     -0.002702\n2019-09-01 03:00:00+01:00  0.2578     -0.002322\n2019-09-01 04:00:00+01:00  0.2585      0.002715\n2019-09-01 05:00:00+01:00  0.2581     -0.001547",
      "text/html": "<div>\n<style scoped>\n    .dataframe tbody tr th:only-of-type {\n        vertical-align: middle;\n    }\n\n    .dataframe tbody tr th {\n        vertical-align: top;\n    }\n\n    .dataframe thead th {\n        text-align: right;\n    }\n</style>\n<table border=\"1\" class=\"dataframe\">\n  <thead>\n    <tr style=\"text-align: right;\">\n      <th></th>\n      <th>Close</th>\n      <th>daily_return</th>\n    </tr>\n  </thead>\n  <tbody>\n    <tr>\n      <th>2019-09-01 01:00:00+01:00</th>\n      <td>0.2591</td>\n      <td>NaN</td>\n    </tr>\n    <tr>\n      <th>2019-09-01 02:00:00+01:00</th>\n      <td>0.2584</td>\n      <td>-0.002702</td>\n    </tr>\n    <tr>\n      <th>2019-09-01 03:00:00+01:00</th>\n      <td>0.2578</td>\n      <td>-0.002322</td>\n    </tr>\n    <tr>\n      <th>2019-09-01 04:00:00+01:00</th>\n      <td>0.2585</td>\n      <td>0.002715</td>\n    </tr>\n    <tr>\n      <th>2019-09-01 05:00:00+01:00</th>\n      <td>0.2581</td>\n      <td>-0.001547</td>\n    </tr>\n  </tbody>\n</table>\n</div>"
     },
     "metadata": {}
    }
   ],
   "execution_count": null
  },
  {
   "cell_type": "code",
   "metadata": {
    "tags": [],
    "deepnote_to_be_reexecuted": false,
    "source_hash": "fbac094b",
    "execution_start": 1629323112094,
    "execution_millis": 81,
    "cell_id": "00003-255cf0ce-50ac-442f-bc4c-767cc38d8ff8",
    "deepnote_cell_type": "code"
   },
   "source": "# Set short and long windows\nshort_window = 1\nlong_window = 10\n\n# Construct a `Fast` and `Slow` Exponential Moving Average from short and long windows, respectively\nxrp['fast_close'] = xrp['Close'].ewm(halflife=short_window).mean()\nxrp['slow_close'] = xrp['Close'].ewm(halflife=long_window).mean()\n\n# Construct a crossover trading signal\nxrp['crossover_long'] = np.where(xrp['fast_close'] > xrp['slow_close'], 1.0, 0.0)\nxrp['crossover_short'] = np.where(xrp['fast_close'] < xrp['slow_close'], -1.0, 0.0)\nxrp['crossover_signal'] = xrp['crossover_long'] + xrp['crossover_short']\n\nxrp.head()",
   "outputs": [
    {
     "output_type": "execute_result",
     "execution_count": 4,
     "data": {
      "application/vnd.deepnote.dataframe.v2+json": {
       "row_count": 5,
       "column_count": 7,
       "columns": [
        {
         "name": "Close",
         "dtype": "float64",
         "stats": {
          "unique_count": 5,
          "nan_count": 0,
          "min": "0.25780001282691956",
          "max": "0.2590999901294708",
          "histogram": [
           {
            "bin_start": 0.25780001282691956,
            "bin_end": 0.2579300105571747,
            "count": 1
           },
           {
            "bin_start": 0.2579300105571747,
            "bin_end": 0.2580600082874298,
            "count": 0
           },
           {
            "bin_start": 0.2580600082874298,
            "bin_end": 0.25819000601768494,
            "count": 1
           },
           {
            "bin_start": 0.25819000601768494,
            "bin_end": 0.25832000374794006,
            "count": 0
           },
           {
            "bin_start": 0.25832000374794006,
            "bin_end": 0.2584500014781952,
            "count": 1
           },
           {
            "bin_start": 0.2584500014781952,
            "bin_end": 0.2585799992084503,
            "count": 1
           },
           {
            "bin_start": 0.2585799992084503,
            "bin_end": 0.25870999693870544,
            "count": 0
           },
           {
            "bin_start": 0.25870999693870544,
            "bin_end": 0.25883999466896057,
            "count": 0
           },
           {
            "bin_start": 0.25883999466896057,
            "bin_end": 0.2589699923992157,
            "count": 0
           },
           {
            "bin_start": 0.2589699923992157,
            "bin_end": 0.2590999901294708,
            "count": 1
           }
          ]
         }
        },
        {
         "name": "daily_return",
         "dtype": "float64",
         "stats": {
          "unique_count": 4,
          "nan_count": 1,
          "min": "-0.002701647915510974",
          "max": "0.002715271192450075",
          "histogram": [
           {
            "bin_start": -0.002701647915510974,
            "bin_end": -0.0021599560047148693,
            "count": 2
           },
           {
            "bin_start": -0.0021599560047148693,
            "bin_end": -0.0016182640939187642,
            "count": 0
           },
           {
            "bin_start": -0.0016182640939187642,
            "bin_end": -0.0010765721831226592,
            "count": 1
           },
           {
            "bin_start": -0.0010765721831226592,
            "bin_end": -0.0005348802723265543,
            "count": 0
           },
           {
            "bin_start": -0.0005348802723265543,
            "bin_end": 0.000006811638469550463,
            "count": 0
           },
           {
            "bin_start": 0.000006811638469550463,
            "bin_end": 0.0005485035492656556,
            "count": 0
           },
           {
            "bin_start": 0.0005485035492656556,
            "bin_end": 0.0010901954600617608,
            "count": 0
           },
           {
            "bin_start": 0.0010901954600617608,
            "bin_end": 0.0016318873708578655,
            "count": 0
           },
           {
            "bin_start": 0.0016318873708578655,
            "bin_end": 0.0021735792816539702,
            "count": 0
           },
           {
            "bin_start": 0.0021735792816539702,
            "bin_end": 0.002715271192450075,
            "count": 1
           }
          ]
         }
        },
        {
         "name": "fast_close",
         "dtype": "float64",
         "stats": {
          "unique_count": 5,
          "nan_count": 0,
          "min": "0.2581571468285152",
          "max": "0.2590999901294708",
          "histogram": [
           {
            "bin_start": 0.2581571468285152,
            "bin_end": 0.25825143115861077,
            "count": 2
           },
           {
            "bin_start": 0.25825143115861077,
            "bin_end": 0.25834571548870633,
            "count": 1
           },
           {
            "bin_start": 0.25834571548870633,
            "bin_end": 0.2584399998188019,
            "count": 0
           },
           {
            "bin_start": 0.2584399998188019,
            "bin_end": 0.25853428414889745,
            "count": 0
           },
           {
            "bin_start": 0.25853428414889745,
            "bin_end": 0.258628568478993,
            "count": 0
           },
           {
            "bin_start": 0.258628568478993,
            "bin_end": 0.2587228528090886,
            "count": 1
           },
           {
            "bin_start": 0.2587228528090886,
            "bin_end": 0.25881713713918414,
            "count": 0
           },
           {
            "bin_start": 0.25881713713918414,
            "bin_end": 0.2589114214692797,
            "count": 0
           },
           {
            "bin_start": 0.2589114214692797,
            "bin_end": 0.25900570579937526,
            "count": 0
           },
           {
            "bin_start": 0.25900570579937526,
            "bin_end": 0.2590999901294708,
            "count": 1
           }
          ]
         }
        },
        {
         "name": "slow_close",
         "dtype": "float64",
         "stats": {
          "unique_count": 5,
          "nan_count": 0,
          "min": "0.2583546113747726",
          "max": "0.2590999901294708",
          "histogram": [
           {
            "bin_start": 0.2583546113747726,
            "bin_end": 0.2584291492502424,
            "count": 2
           },
           {
            "bin_start": 0.2584291492502424,
            "bin_end": 0.25850368712571226,
            "count": 1
           },
           {
            "bin_start": 0.25850368712571226,
            "bin_end": 0.2585782250011821,
            "count": 0
           },
           {
            "bin_start": 0.2585782250011821,
            "bin_end": 0.2586527628766519,
            "count": 0
           },
           {
            "bin_start": 0.2586527628766519,
            "bin_end": 0.2587273007521217,
            "count": 0
           },
           {
            "bin_start": 0.2587273007521217,
            "bin_end": 0.25880183862759154,
            "count": 1
           },
           {
            "bin_start": 0.25880183862759154,
            "bin_end": 0.2588763765030614,
            "count": 0
           },
           {
            "bin_start": 0.2588763765030614,
            "bin_end": 0.2589509143785312,
            "count": 0
           },
           {
            "bin_start": 0.2589509143785312,
            "bin_end": 0.259025452254001,
            "count": 0
           },
           {
            "bin_start": 0.259025452254001,
            "bin_end": 0.2590999901294708,
            "count": 1
           }
          ]
         }
        },
        {
         "name": "crossover_long",
         "dtype": "float64",
         "stats": {
          "unique_count": 1,
          "nan_count": 0,
          "min": "0.0",
          "max": "0.0",
          "histogram": [
           {
            "bin_start": -0.5,
            "bin_end": -0.4,
            "count": 0
           },
           {
            "bin_start": -0.4,
            "bin_end": -0.3,
            "count": 0
           },
           {
            "bin_start": -0.3,
            "bin_end": -0.19999999999999996,
            "count": 0
           },
           {
            "bin_start": -0.19999999999999996,
            "bin_end": -0.09999999999999998,
            "count": 0
           },
           {
            "bin_start": -0.09999999999999998,
            "bin_end": 0,
            "count": 0
           },
           {
            "bin_start": 0,
            "bin_end": 0.10000000000000009,
            "count": 5
           },
           {
            "bin_start": 0.10000000000000009,
            "bin_end": 0.20000000000000007,
            "count": 0
           },
           {
            "bin_start": 0.20000000000000007,
            "bin_end": 0.30000000000000004,
            "count": 0
           },
           {
            "bin_start": 0.30000000000000004,
            "bin_end": 0.4,
            "count": 0
           },
           {
            "bin_start": 0.4,
            "bin_end": 0.5,
            "count": 0
           }
          ]
         }
        },
        {
         "name": "crossover_short",
         "dtype": "float64",
         "stats": {
          "unique_count": 2,
          "nan_count": 0,
          "min": "-1.0",
          "max": "0.0",
          "histogram": [
           {
            "bin_start": -1,
            "bin_end": -0.9,
            "count": 4
           },
           {
            "bin_start": -0.9,
            "bin_end": -0.8,
            "count": 0
           },
           {
            "bin_start": -0.8,
            "bin_end": -0.7,
            "count": 0
           },
           {
            "bin_start": -0.7,
            "bin_end": -0.6,
            "count": 0
           },
           {
            "bin_start": -0.6,
            "bin_end": -0.5,
            "count": 0
           },
           {
            "bin_start": -0.5,
            "bin_end": -0.3999999999999999,
            "count": 0
           },
           {
            "bin_start": -0.3999999999999999,
            "bin_end": -0.29999999999999993,
            "count": 0
           },
           {
            "bin_start": -0.29999999999999993,
            "bin_end": -0.19999999999999996,
            "count": 0
           },
           {
            "bin_start": -0.19999999999999996,
            "bin_end": -0.09999999999999998,
            "count": 0
           },
           {
            "bin_start": -0.09999999999999998,
            "bin_end": 0,
            "count": 1
           }
          ]
         }
        },
        {
         "name": "crossover_signal",
         "dtype": "float64",
         "stats": {
          "unique_count": 2,
          "nan_count": 0,
          "min": "-1.0",
          "max": "0.0",
          "histogram": [
           {
            "bin_start": -1,
            "bin_end": -0.9,
            "count": 4
           },
           {
            "bin_start": -0.9,
            "bin_end": -0.8,
            "count": 0
           },
           {
            "bin_start": -0.8,
            "bin_end": -0.7,
            "count": 0
           },
           {
            "bin_start": -0.7,
            "bin_end": -0.6,
            "count": 0
           },
           {
            "bin_start": -0.6,
            "bin_end": -0.5,
            "count": 0
           },
           {
            "bin_start": -0.5,
            "bin_end": -0.3999999999999999,
            "count": 0
           },
           {
            "bin_start": -0.3999999999999999,
            "bin_end": -0.29999999999999993,
            "count": 0
           },
           {
            "bin_start": -0.29999999999999993,
            "bin_end": -0.19999999999999996,
            "count": 0
           },
           {
            "bin_start": -0.19999999999999996,
            "bin_end": -0.09999999999999998,
            "count": 0
           },
           {
            "bin_start": -0.09999999999999998,
            "bin_end": 0,
            "count": 1
           }
          ]
         }
        },
        {
         "name": "_deepnote_index_column",
         "dtype": "datetime64[ns, Europe/London]"
        }
       ],
       "rows_top": [
        {
         "Close": 0.2590999901294708,
         "daily_return": "nan",
         "fast_close": 0.2590999901294708,
         "slow_close": 0.2590999901294708,
         "crossover_long": 0,
         "crossover_short": 0,
         "crossover_signal": 0,
         "_deepnote_index_column": "2019-09-01T01:00:00.000000"
        },
        {
         "Close": 0.25839999318122864,
         "daily_return": -0.002701647915510974,
         "fast_close": 0.2586333254973094,
         "slow_close": 0.25873786648682895,
         "crossover_long": 0,
         "crossover_short": -1,
         "crossover_signal": -1,
         "_deepnote_index_column": "2019-09-01T02:00:00.000000"
        },
        {
         "Close": 0.25780001282691956,
         "daily_return": -0.002321905457204454,
         "fast_close": 0.2581571468285152,
         "slow_close": 0.25840334688305516,
         "crossover_long": 0,
         "crossover_short": -1,
         "crossover_signal": -1,
         "_deepnote_index_column": "2019-09-01T03:00:00.000000"
        },
        {
         "Close": 0.25850000977516174,
         "daily_return": 0.002715271192450075,
         "fast_close": 0.25834000706672666,
         "slow_close": 0.25843008009037194,
         "crossover_long": 0,
         "crossover_short": -1,
         "crossover_signal": -1,
         "_deepnote_index_column": "2019-09-01T04:00:00.000000"
        },
        {
         "Close": 0.2581000030040741,
         "daily_return": -0.0015474149166785356,
         "fast_close": 0.2582161340021318,
         "slow_close": 0.2583546113747726,
         "crossover_long": 0,
         "crossover_short": -1,
         "crossover_signal": -1,
         "_deepnote_index_column": "2019-09-01T05:00:00.000000"
        }
       ],
       "rows_bottom": null
      },
      "text/plain": "                            Close  daily_return  fast_close  slow_close  \\\n2019-09-01 01:00:00+01:00  0.2591           NaN    0.259100    0.259100   \n2019-09-01 02:00:00+01:00  0.2584     -0.002702    0.258633    0.258738   \n2019-09-01 03:00:00+01:00  0.2578     -0.002322    0.258157    0.258403   \n2019-09-01 04:00:00+01:00  0.2585      0.002715    0.258340    0.258430   \n2019-09-01 05:00:00+01:00  0.2581     -0.001547    0.258216    0.258355   \n\n                           crossover_long  crossover_short  crossover_signal  \n2019-09-01 01:00:00+01:00             0.0              0.0               0.0  \n2019-09-01 02:00:00+01:00             0.0             -1.0              -1.0  \n2019-09-01 03:00:00+01:00             0.0             -1.0              -1.0  \n2019-09-01 04:00:00+01:00             0.0             -1.0              -1.0  \n2019-09-01 05:00:00+01:00             0.0             -1.0              -1.0  ",
      "text/html": "<div>\n<style scoped>\n    .dataframe tbody tr th:only-of-type {\n        vertical-align: middle;\n    }\n\n    .dataframe tbody tr th {\n        vertical-align: top;\n    }\n\n    .dataframe thead th {\n        text-align: right;\n    }\n</style>\n<table border=\"1\" class=\"dataframe\">\n  <thead>\n    <tr style=\"text-align: right;\">\n      <th></th>\n      <th>Close</th>\n      <th>daily_return</th>\n      <th>fast_close</th>\n      <th>slow_close</th>\n      <th>crossover_long</th>\n      <th>crossover_short</th>\n      <th>crossover_signal</th>\n    </tr>\n  </thead>\n  <tbody>\n    <tr>\n      <th>2019-09-01 01:00:00+01:00</th>\n      <td>0.2591</td>\n      <td>NaN</td>\n      <td>0.259100</td>\n      <td>0.259100</td>\n      <td>0.0</td>\n      <td>0.0</td>\n      <td>0.0</td>\n    </tr>\n    <tr>\n      <th>2019-09-01 02:00:00+01:00</th>\n      <td>0.2584</td>\n      <td>-0.002702</td>\n      <td>0.258633</td>\n      <td>0.258738</td>\n      <td>0.0</td>\n      <td>-1.0</td>\n      <td>-1.0</td>\n    </tr>\n    <tr>\n      <th>2019-09-01 03:00:00+01:00</th>\n      <td>0.2578</td>\n      <td>-0.002322</td>\n      <td>0.258157</td>\n      <td>0.258403</td>\n      <td>0.0</td>\n      <td>-1.0</td>\n      <td>-1.0</td>\n    </tr>\n    <tr>\n      <th>2019-09-01 04:00:00+01:00</th>\n      <td>0.2585</td>\n      <td>0.002715</td>\n      <td>0.258340</td>\n      <td>0.258430</td>\n      <td>0.0</td>\n      <td>-1.0</td>\n      <td>-1.0</td>\n    </tr>\n    <tr>\n      <th>2019-09-01 05:00:00+01:00</th>\n      <td>0.2581</td>\n      <td>-0.001547</td>\n      <td>0.258216</td>\n      <td>0.258355</td>\n      <td>0.0</td>\n      <td>-1.0</td>\n      <td>-1.0</td>\n    </tr>\n  </tbody>\n</table>\n</div>"
     },
     "metadata": {}
    }
   ],
   "execution_count": null
  },
  {
   "cell_type": "code",
   "metadata": {
    "tags": [],
    "deepnote_to_be_reexecuted": false,
    "source_hash": "4ef849d3",
    "execution_start": 1629323112182,
    "execution_millis": 732,
    "cell_id": "00004-1bfa6a7d-daa7-4397-bc07-f6a6793df44d",
    "deepnote_cell_type": "code"
   },
   "source": "# Plot the EMA of XRP/USD closing prices\nxrp[['Close', 'fast_close', 'slow_close']].plot(figsize=(20,10))",
   "outputs": [
    {
     "output_type": "execute_result",
     "execution_count": 5,
     "data": {
      "text/plain": "<AxesSubplot:>"
     },
     "metadata": {}
    },
    {
     "data": {
      "text/plain": "<Figure size 1440x720 with 1 Axes>",
      "image/png": "[encoded data removed]"
     },
     "metadata": {
      "image/png": {
       "width": 1301,
       "height": 548
      }
     },
     "output_type": "display_data"
    }
   ],
   "execution_count": null
  },
  {
   "cell_type": "code",
   "metadata": {
    "tags": [],
    "deepnote_to_be_reexecuted": false,
    "source_hash": "362c8bba",
    "execution_start": 1629323112924,
    "execution_millis": 163,
    "cell_id": "00005-21a5197e-cf9f-4a46-b7e5-57297adfbb93",
    "deepnote_cell_type": "code"
   },
   "source": "# Set short and long volatility windows\nshort_vol_window = 1\nlong_vol_window = 10\n\n# Construct a `Fast` and `Slow` Exponential Moving Average from short and long windows, respectively\nxrp['fast_vol'] = xrp['daily_return'].ewm(halflife=short_vol_window).std()\nxrp['slow_vol'] = xrp['daily_return'].ewm(halflife=long_vol_window).std()\n\n# Construct a crossover trading signal\nxrp['vol_trend_long'] = np.where(xrp['fast_vol'] < xrp['slow_vol'], 1.0, 0.0)\nxrp['vol_trend_short'] = np.where(xrp['fast_vol'] > xrp['slow_vol'], -1.0, 0.0) \nxrp['vol_trend_signal'] = xrp['vol_trend_long'] + xrp['vol_trend_short']\n\nxrp",
   "outputs": [
    {
     "output_type": "execute_result",
     "execution_count": 6,
     "data": {
      "application/vnd.deepnote.dataframe.v2+json": {
       "row_count": 17000,
       "column_count": 12,
       "columns": [
        {
         "name": "Close",
         "dtype": "float64",
         "stats": {
          "unique_count": 16589,
          "nan_count": 0,
          "min": "0.12985041737556458",
          "max": "1.9378489255905151",
          "histogram": [
           {
            "bin_start": 0.12985041737556458,
            "bin_end": 0.31065026819705965,
            "count": 11355
           },
           {
            "bin_start": 0.31065026819705965,
            "bin_end": 0.4914501190185547,
            "count": 1233
           },
           {
            "bin_start": 0.4914501190185547,
            "bin_end": 0.6722499698400497,
            "count": 2101
           },
           {
            "bin_start": 0.6722499698400497,
            "bin_end": 0.8530498206615448,
            "count": 683
           },
           {
            "bin_start": 0.8530498206615448,
            "bin_end": 1.0338496714830399,
            "count": 593
           },
           {
            "bin_start": 1.0338496714830399,
            "bin_end": 1.2146495223045348,
            "count": 182
           },
           {
            "bin_start": 1.2146495223045348,
            "bin_end": 1.39544937312603,
            "count": 270
           },
           {
            "bin_start": 1.39544937312603,
            "bin_end": 1.576249223947525,
            "count": 343
           },
           {
            "bin_start": 1.576249223947525,
            "bin_end": 1.75704907476902,
            "count": 204
           },
           {
            "bin_start": 1.75704907476902,
            "bin_end": 1.9378489255905151,
            "count": 36
           }
          ]
         }
        },
        {
         "name": "daily_return",
         "dtype": "float64",
         "stats": {
          "unique_count": 16948,
          "nan_count": 1,
          "min": "-0.2192519601588978",
          "max": "0.26590190258841306",
          "histogram": [
           {
            "bin_start": -0.2192519601588978,
            "bin_end": -0.17073657388416671,
            "count": 1
           },
           {
            "bin_start": -0.17073657388416671,
            "bin_end": -0.12222118760943564,
            "count": 3
           },
           {
            "bin_start": -0.12222118760943564,
            "bin_end": -0.07370580133470456,
            "count": 37
           },
           {
            "bin_start": -0.07370580133470456,
            "bin_end": -0.025190415059973464,
            "count": 391
           },
           {
            "bin_start": -0.025190415059973464,
            "bin_end": 0.023324971214757628,
            "count": 16038
           },
           {
            "bin_start": 0.023324971214757628,
            "bin_end": 0.0718403574894887,
            "count": 488
           },
           {
            "bin_start": 0.0718403574894887,
            "bin_end": 0.12035574376421981,
            "count": 34
           },
           {
            "bin_start": 0.12035574376421981,
            "bin_end": 0.16887113003895088,
            "count": 5
           },
           {
            "bin_start": 0.16887113003895088,
            "bin_end": 0.21738651631368194,
            "count": 1
           },
           {
            "bin_start": 0.21738651631368194,
            "bin_end": 0.26590190258841306,
            "count": 1
           }
          ]
         }
        },
        {
         "name": "fast_close",
         "dtype": "float64",
         "stats": {
          "unique_count": 16999,
          "nan_count": 0,
          "min": "0.1348389485873181",
          "max": "1.906368123219453",
          "histogram": [
           {
            "bin_start": 0.1348389485873181,
            "bin_end": 0.3119918660505316,
            "count": 11367
           },
           {
            "bin_start": 0.3119918660505316,
            "bin_end": 0.4891447835137451,
            "count": 1215
           },
           {
            "bin_start": 0.4891447835137451,
            "bin_end": 0.6662977009769586,
            "count": 2067
           },
           {
            "bin_start": 0.6662977009769586,
            "bin_end": 0.843450618440172,
            "count": 695
           },
           {
            "bin_start": 0.843450618440172,
            "bin_end": 1.0206035359033856,
            "count": 573
           },
           {
            "bin_start": 1.0206035359033856,
            "bin_end": 1.197756453366599,
            "count": 225
           },
           {
            "bin_start": 1.197756453366599,
            "bin_end": 1.3749093708298126,
            "count": 205
           },
           {
            "bin_start": 1.3749093708298126,
            "bin_end": 1.552062288293026,
            "count": 332
           },
           {
            "bin_start": 1.552062288293026,
            "bin_end": 1.7292152057562393,
            "count": 269
           },
           {
            "bin_start": 1.7292152057562393,
            "bin_end": 1.906368123219453,
            "count": 52
           }
          ]
         }
        },
        {
         "name": "slow_close",
         "dtype": "float64",
         "stats": {
          "unique_count": 17000,
          "nan_count": 0,
          "min": "0.1434913117797305",
          "max": "1.7633789194068428",
          "histogram": [
           {
            "bin_start": 0.1434913117797305,
            "bin_end": 0.30548007254244175,
            "count": 11320
           },
           {
            "bin_start": 0.30548007254244175,
            "bin_end": 0.467468833305153,
            "count": 1021
           },
           {
            "bin_start": 0.467468833305153,
            "bin_end": 0.6294575940678642,
            "count": 2003
           },
           {
            "bin_start": 0.6294575940678642,
            "bin_end": 0.7914463548305755,
            "count": 804
           },
           {
            "bin_start": 0.7914463548305755,
            "bin_end": 0.9534351155932868,
            "count": 597
           },
           {
            "bin_start": 0.9534351155932868,
            "bin_end": 1.1154238763559978,
            "count": 313
           },
           {
            "bin_start": 1.1154238763559978,
            "bin_end": 1.2774126371187091,
            "count": 112
           },
           {
            "bin_start": 1.2774126371187091,
            "bin_end": 1.4394013978814204,
            "count": 320
           },
           {
            "bin_start": 1.4394013978814204,
            "bin_end": 1.6013901586441317,
            "count": 378
           },
           {
            "bin_start": 1.6013901586441317,
            "bin_end": 1.7633789194068428,
            "count": 132
           }
          ]
         }
        },
        {
         "name": "crossover_long",
         "dtype": "float64",
         "stats": {
          "unique_count": 2,
          "nan_count": 0,
          "min": "0.0",
          "max": "1.0",
          "histogram": [
           {
            "bin_start": 0,
            "bin_end": 0.1,
            "count": 8347
           },
           {
            "bin_start": 0.1,
            "bin_end": 0.2,
            "count": 0
           },
           {
            "bin_start": 0.2,
            "bin_end": 0.30000000000000004,
            "count": 0
           },
           {
            "bin_start": 0.30000000000000004,
            "bin_end": 0.4,
            "count": 0
           },
           {
            "bin_start": 0.4,
            "bin_end": 0.5,
            "count": 0
           },
           {
            "bin_start": 0.5,
            "bin_end": 0.6000000000000001,
            "count": 0
           },
           {
            "bin_start": 0.6000000000000001,
            "bin_end": 0.7000000000000001,
            "count": 0
           },
           {
            "bin_start": 0.7000000000000001,
            "bin_end": 0.8,
            "count": 0
           },
           {
            "bin_start": 0.8,
            "bin_end": 0.9,
            "count": 0
           },
           {
            "bin_start": 0.9,
            "bin_end": 1,
            "count": 8653
           }
          ]
         }
        },
        {
         "name": "crossover_short",
         "dtype": "float64"
        },
        {
         "name": "crossover_signal",
         "dtype": "float64"
        },
        {
         "name": "fast_vol",
         "dtype": "float64"
        },
        {
         "name": "slow_vol",
         "dtype": "float64"
        },
        {
         "name": "vol_trend_long",
         "dtype": "float64"
        },
        {
         "name": "vol_trend_short",
         "dtype": "float64"
        },
        {
         "name": "vol_trend_signal",
         "dtype": "float64"
        },
        {
         "name": "_deepnote_index_column",
         "dtype": "datetime64[ns, Europe/London]"
        }
       ],
       "rows_top": [
        {
         "Close": 0.2590999901294708,
         "daily_return": "nan",
         "fast_close": 0.2590999901294708,
         "slow_close": 0.2590999901294708,
         "crossover_long": 0,
         "crossover_short": 0,
         "crossover_signal": 0,
         "fast_vol": "nan",
         "slow_vol": "nan",
         "vol_trend_long": 0,
         "vol_trend_short": 0,
         "vol_trend_signal": 0,
         "_deepnote_index_column": "2019-09-01T01:00:00.000000"
        },
        {
         "Close": 0.25839999318122864,
         "daily_return": -0.002701647915510974,
         "fast_close": 0.2586333254973094,
         "slow_close": 0.25873786648682895,
         "crossover_long": 0,
         "crossover_short": -1,
         "crossover_signal": -1,
         "fast_vol": "nan",
         "slow_vol": "nan",
         "vol_trend_long": 0,
         "vol_trend_short": 0,
         "vol_trend_signal": 0,
         "_deepnote_index_column": "2019-09-01T02:00:00.000000"
        },
        {
         "Close": 0.25780001282691956,
         "daily_return": -0.002321905457204454,
         "fast_close": 0.2581571468285152,
         "slow_close": 0.25840334688305516,
         "crossover_long": 0,
         "crossover_short": -1,
         "crossover_signal": -1,
         "fast_vol": 0.00026851846737299017,
         "slow_vol": 0.0002685184673729901,
         "vol_trend_long": 0,
         "vol_trend_short": -1,
         "vol_trend_signal": -1,
         "_deepnote_index_column": "2019-09-01T03:00:00.000000"
        },
        {
         "Close": 0.25850000977516174,
         "daily_return": 0.002715271192450075,
         "fast_close": 0.25834000706672666,
         "slow_close": 0.25843008009037194,
         "crossover_long": 0,
         "crossover_short": -1,
         "crossover_signal": -1,
         "fast_vol": 0.003384025751108614,
         "slow_vol": 0.003070862412707415,
         "vol_trend_long": 0,
         "vol_trend_short": -1,
         "vol_trend_signal": -1,
         "_deepnote_index_column": "2019-09-01T04:00:00.000000"
        },
        {
         "Close": 0.2581000030040741,
         "daily_return": -0.0015474149166785356,
         "fast_close": 0.2582161340021318,
         "slow_close": 0.2583546113747726,
         "crossover_long": 0,
         "crossover_short": -1,
         "crossover_signal": -1,
         "fast_vol": 0.0025667611883431816,
         "slow_vol": 0.002507021108909649,
         "vol_trend_long": 0,
         "vol_trend_short": -1,
         "vol_trend_signal": -1,
         "_deepnote_index_column": "2019-09-01T05:00:00.000000"
        },
        {
         "Close": 0.2581000030040741,
         "daily_return": 0,
         "fast_close": 0.2581571468285152,
         "slow_close": 0.2583044995184107,
         "crossover_long": 0,
         "crossover_short": -1,
         "crossover_signal": -1,
         "fast_vol": 0.001791560333342295,
         "slow_vol": 0.002173300412099307,
         "vol_trend_long": 1,
         "vol_trend_short": 0,
         "vol_trend_signal": 1,
         "_deepnote_index_column": "2019-09-01T06:00:00.000000"
        },
        {
         "Close": 0.25850000977516174,
         "daily_return": 0.0015498131206195254,
         "fast_close": 0.2583299281559591,
         "slow_close": 0.2583385572458845,
         "crossover_long": 0,
         "crossover_short": -1,
         "crossover_signal": -1,
         "fast_vol": 0.0016842982001759885,
         "slow_vol": 0.002144013318747332,
         "vol_trend_long": 1,
         "vol_trend_short": 0,
         "vol_trend_signal": 1,
         "_deepnote_index_column": "2019-09-01T07:00:00.000000"
        },
        {
         "Close": 0.2581999897956848,
         "daily_return": -0.001160618832230953,
         "fast_close": 0.2582647041947234,
         "slow_close": 0.25831675663580766,
         "crossover_long": 0,
         "crossover_short": -1,
         "crossover_signal": -1,
         "fast_vol": 0.00162179084577427,
         "slow_vol": 0.0019575940744061557,
         "vol_trend_long": 1,
         "vol_trend_short": 0,
         "vol_trend_signal": 1,
         "_deepnote_index_column": "2019-09-01T08:00:00.000000"
        },
        {
         "Close": 0.2567000091075897,
         "daily_return": -0.005809375473957323,
         "fast_close": 0.2574808256383511,
         "slow_close": 0.25808347576947765,
         "crossover_long": 0,
         "crossover_short": -1,
         "crossover_signal": -1,
         "fast_vol": 0.0035890063157913844,
         "slow_vol": 0.002757201432577227,
         "vol_trend_long": 0,
         "vol_trend_short": -1,
         "vol_trend_signal": -1,
         "_deepnote_index_column": "2019-09-01T09:00:00.000000"
        },
        {
         "Close": 0.2563999891281128,
         "daily_return": -0.001168757182829605,
         "fast_close": 0.2569398791151429,
         "slow_close": 0.25785799964115774,
         "crossover_long": 0,
         "crossover_short": -1,
         "crossover_signal": -1,
         "fast_vol": 0.002782381817095005,
         "slow_vol": 0.0025312474261696013,
         "vol_trend_long": 0,
         "vol_trend_short": -1,
         "vol_trend_signal": -1,
         "_deepnote_index_column": "2019-09-01T10:00:00.000000"
        },
        {
         "Close": 0.2558000087738037,
         "daily_return": -0.0023400170817062804,
         "fast_close": 0.25636966551986623,
         "slow_close": 0.2575996645834885,
         "crossover_long": 0,
         "crossover_short": -1,
         "crossover_signal": -1,
         "fast_vol": 0.001970721250263977,
         "slow_vol": 0.002374468067974882,
         "vol_trend_long": 1,
         "vol_trend_short": 0,
         "vol_trend_signal": 1,
         "_deepnote_index_column": "2019-09-01T11:00:00.000000"
        },
        {
         "Close": 0.2551000118255615,
         "daily_return": -0.002736500876593717,
         "fast_close": 0.2557346836478428,
         "slow_close": 0.2573032471221037,
         "crossover_long": 0,
         "crossover_short": -1,
         "crossover_signal": -1,
         "fast_vol": 0.0014278604002067063,
         "slow_vol": 0.002258884180872623,
         "vol_trend_long": 1,
         "vol_trend_short": 0,
         "vol_trend_signal": 1,
         "_deepnote_index_column": "2019-09-01T12:00:00.000000"
        },
        {
         "Close": 0.2556999921798706,
         "daily_return": 0.0023519416953980965,
         "fast_close": 0.25571733579619904,
         "slow_close": 0.25712245923929794,
         "crossover_long": 0,
         "crossover_short": -1,
         "crossover_signal": -1,
         "fast_vol": 0.003126740484577862,
         "slow_vol": 0.0024931964107773224,
         "vol_trend_long": 0,
         "vol_trend_short": -1,
         "vol_trend_signal": -1,
         "_deepnote_index_column": "2019-09-01T13:00:00.000000"
        },
        {
         "Close": 0.2549000084400177,
         "daily_return": -0.003128602910907219,
         "fast_close": 0.2553086471737344,
         "slow_close": 0.25688282332742396,
         "crossover_long": 0,
         "crossover_short": -1,
         "crossover_signal": -1,
         "fast_vol": 0.0029001152263871868,
         "slow_vol": 0.00243497999939983,
         "vol_trend_long": 0,
         "vol_trend_short": -1,
         "vol_trend_signal": -1,
         "_deepnote_index_column": "2019-09-01T14:00:00.000000"
        },
        {
         "Close": 0.2549999952316284,
         "daily_return": 0.00039225887916849445,
         "fast_close": 0.25515431649288284,
         "slow_close": 0.2566877764926334,
         "crossover_long": 0,
         "crossover_short": -1,
         "crossover_signal": -1,
         "fast_vol": 0.0023848840691620137,
         "slow_vol": 0.0023596576661085596,
         "vol_trend_long": 0,
         "vol_trend_short": -1,
         "vol_trend_signal": -1,
         "_deepnote_index_column": "2019-09-01T15:00:00.000000"
        },
        {
         "Close": 0.25609999895095825,
         "daily_return": 0.004313740156468127,
         "fast_close": 0.2556271649370152,
         "slow_close": 0.25662903846648366,
         "crossover_long": 0,
         "crossover_short": -1,
         "crossover_signal": -1,
         "fast_vol": 0.003450409030537692,
         "slow_vol": 0.0028188233927864117,
         "vol_trend_long": 0,
         "vol_trend_short": -1,
         "vol_trend_signal": -1,
         "_deepnote_index_column": "2019-09-01T16:00:00.000000"
        },
        {
         "Close": 0.2542000114917755,
         "daily_return": -0.0074189280240746225,
         "fast_close": 0.2549135827701955,
         "slow_close": 0.25639404655031933,
         "crossover_long": 0,
         "crossover_short": -1,
         "crossover_signal": -1,
         "fast_vol": 0.006181584405621537,
         "slow_vol": 0.003412695519152194,
         "vol_trend_long": 0,
         "vol_trend_short": -1,
         "vol_trend_signal": -1,
         "_deepnote_index_column": "2019-09-01T17:00:00.000000"
        },
        {
         "Close": 0.2542000114917755,
         "daily_return": 0,
         "fast_close": 0.2545567957699511,
         "slow_close": 0.2561879260024053,
         "crossover_long": 0,
         "crossover_short": -1,
         "crossover_signal": -1,
         "fast_vol": 0.004691171343622685,
         "slow_vol": 0.0032604991558952043,
         "vol_trend_long": 0,
         "vol_trend_short": -1,
         "vol_trend_signal": -1,
         "_deepnote_index_column": "2019-09-01T18:00:00.000000"
        },
        {
         "Close": 0.25519999861717224,
         "daily_return": 0.003933859481470181,
         "fast_close": 0.25487839780696886,
         "slow_close": 0.2560975524732791,
         "crossover_long": 0,
         "crossover_short": -1,
         "crossover_signal": -1,
         "fast_vol": 0.004651380585727328,
         "slow_vol": 0.0034550586234098186,
         "vol_trend_long": 0,
         "vol_trend_short": -1,
         "vol_trend_signal": -1,
         "_deepnote_index_column": "2019-09-01T19:00:00.000000"
        },
        {
         "Close": 0.25589999556541443,
         "daily_return": 0.002742934765028293,
         "fast_close": 0.25538919717332786,
         "slow_close": 0.2560799127464512,
         "crossover_long": 0,
         "crossover_short": -1,
         "crossover_signal": -1,
         "fast_vol": 0.0034102030819775494,
         "slow_vol": 0.003440974914978647,
         "vol_trend_long": 1,
         "vol_trend_short": 0,
         "vol_trend_signal": 1,
         "_deepnote_index_column": "2019-09-01T20:00:00.000000"
        },
        {
         "Close": 0.2563999891281128,
         "daily_return": 0.0019538631159161657,
         "fast_close": 0.25589459339171206,
         "slow_close": 0.2561078681273868,
         "crossover_long": 0,
         "crossover_short": -1,
         "crossover_signal": -1,
         "fast_vol": 0.002411597022242036,
         "slow_vol": 0.003348885330701782,
         "vol_trend_long": 1,
         "vol_trend_short": 0,
         "vol_trend_signal": 1,
         "_deepnote_index_column": "2019-09-01T21:00:00.000000"
        },
        {
         "Close": 0.25679999589920044,
         "daily_return": 0.0015600888769451426,
         "fast_close": 0.25634729475338863,
         "slow_close": 0.25616711142534077,
         "crossover_long": 1,
         "crossover_short": 0,
         "crossover_signal": 1,
         "fast_vol": 0.001724585325232336,
         "slow_vol": 0.003233996126731805,
         "vol_trend_long": 1,
         "vol_trend_short": 0,
         "vol_trend_signal": 1,
         "_deepnote_index_column": "2019-09-01T22:00:00.000000"
        },
        {
         "Close": 0.2572999894618988,
         "daily_return": 0.0019470154621599178,
         "fast_close": 0.25682364216442877,
         "slow_close": 0.25626230773633507,
         "crossover_long": 1,
         "crossover_short": 0,
         "crossover_signal": 1,
         "fast_vol": 0.0012242566096903142,
         "slow_vol": 0.0031396298451699983,
         "vol_trend_long": 1,
         "vol_trend_short": 0,
         "vol_trend_signal": 1,
         "_deepnote_index_column": "2019-09-01T23:00:00.000000"
        },
        {
         "Close": 0.25690001249313354,
         "daily_return": -0.0015545160713055228,
         "fast_close": 0.25686182733105717,
         "slow_close": 0.2563149953528263,
         "crossover_long": 1,
         "crossover_short": 0,
         "crossover_signal": 1,
         "fast_vol": 0.002262319453351069,
         "slow_vol": 0.0030422712769393586,
         "vol_trend_long": 1,
         "vol_trend_short": 0,
         "vol_trend_signal": 1,
         "_deepnote_index_column": "2019-09-02T00:00:00.000000"
        },
        {
         "Close": 0.2558000087738037,
         "daily_return": -0.004281835990020522,
         "fast_close": 0.2563309180366081,
         "slow_close": 0.25627310257549746,
         "crossover_long": 1,
         "crossover_short": 0,
         "crossover_signal": 1,
         "fast_vol": 0.0031514102081572214,
         "slow_vol": 0.0031559023649458404,
         "vol_trend_long": 1,
         "vol_trend_short": 0,
         "vol_trend_signal": 1,
         "_deepnote_index_column": "2019-09-02T01:00:00.000000"
        },
        {
         "Close": 0.2554999887943268,
         "daily_return": -0.0011728693087819098,
         "fast_close": 0.2559154534092765,
         "slow_close": 0.2562111034096454,
         "crossover_long": 0,
         "crossover_short": -1,
         "crossover_signal": -1,
         "fast_vol": 0.002294356997403094,
         "slow_vol": 0.003031952303392029,
         "vol_trend_long": 1,
         "vol_trend_short": 0,
         "vol_trend_signal": 1,
         "_deepnote_index_column": "2019-09-02T02:00:00.000000"
        },
        {
         "Close": 0.2558000087738037,
         "daily_return": 0.0011742465465172103,
         "fast_close": 0.25585773109111004,
         "slow_close": 0.2561785664141606,
         "crossover_long": 0,
         "crossover_short": -1,
         "crossover_signal": -1,
         "fast_vol": 0.00235745821689625,
         "slow_vol": 0.0029388098664029937,
         "vol_trend_long": 1,
         "vol_trend_short": 0,
         "vol_trend_signal": 1,
         "_deepnote_index_column": "2019-09-02T03:00:00.000000"
        },
        {
         "Close": 0.2554999887943268,
         "daily_return": -0.0011728693087819098,
         "fast_close": 0.2556788599420521,
         "slow_close": 0.25612550518221966,
         "crossover_long": 0,
         "crossover_short": -1,
         "crossover_signal": -1,
         "fast_vol": 0.0017656833898797445,
         "slow_vol": 0.002829497188373359,
         "vol_trend_long": 1,
         "vol_trend_short": 0,
         "vol_trend_signal": 1,
         "_deepnote_index_column": "2019-09-02T04:00:00.000000"
        },
        {
         "Close": 0.2554999887943268,
         "daily_return": 0,
         "fast_close": 0.25558942436802284,
         "slow_close": 0.25607713613884,
         "crossover_long": 0,
         "crossover_short": -1,
         "crossover_signal": -1,
         "fast_vol": 0.0013195858098936646,
         "slow_vol": 0.0027168573525766923,
         "vol_trend_long": 1,
         "vol_trend_short": 0,
         "vol_trend_signal": 1,
         "_deepnote_index_column": "2019-09-02T05:00:00.000000"
        },
        {
         "Close": 0.25529998540878296,
         "daily_return": -0.0007827921499629076,
         "fast_close": 0.25544470488826815,
         "slow_close": 0.25601765789939207,
         "crossover_long": 0,
         "crossover_short": -1,
         "crossover_signal": -1,
         "fast_vol": 0.0009701987693211186,
         "slow_vol": 0.002611584793429959,
         "vol_trend_long": 1,
         "vol_trend_short": 0,
         "vol_trend_signal": 1,
         "_deepnote_index_column": "2019-09-02T06:00:00.000000"
        },
        {
         "Close": 0.2549999952316284,
         "daily_return": -0.001175049723070698,
         "fast_close": 0.2552223500598447,
         "slow_close": 0.255940510433552,
         "crossover_long": 0,
         "crossover_short": -1,
         "crossover_signal": -1,
         "fast_vol": 0.0007809225501638445,
         "slow_vol": 0.0025185325463423208,
         "vol_trend_long": 1,
         "vol_trend_short": 0,
         "vol_trend_signal": 1,
         "_deepnote_index_column": "2019-09-02T07:00:00.000000"
        },
        {
         "Close": 0.25429999828338623,
         "daily_return": -0.002745086122869722,
         "fast_close": 0.2547611741715081,
         "slow_close": 0.2558172356230416,
         "crossover_long": 0,
         "crossover_short": -1,
         "crossover_signal": -1,
         "fast_vol": 0.0012738945419863655,
         "slow_vol": 0.0025010297893749787,
         "vol_trend_long": 1,
         "vol_trend_short": 0,
         "vol_trend_signal": 1,
         "_deepnote_index_column": "2019-09-02T08:00:00.000000"
        },
        {
         "Close": 0.25440001487731934,
         "daily_return": 0.00039330159106665263,
         "fast_close": 0.2545805945243927,
         "slow_close": 0.25571160360710954,
         "crossover_long": 0,
         "crossover_short": -1,
         "crossover_signal": -1,
         "fast_vol": 0.0016211556928681183,
         "slow_vol": 0.0024189862231636912,
         "vol_trend_long": 1,
         "vol_trend_short": 0,
         "vol_trend_signal": 1,
         "_deepnote_index_column": "2019-09-02T09:00:00.000000"
        },
        {
         "Close": 0.2549999952316284,
         "daily_return": 0.0023584132044898176,
         "fast_close": 0.2547902948780228,
         "slow_close": 0.2556589625117351,
         "crossover_long": 0,
         "crossover_short": -1,
         "crossover_signal": -1,
         "fast_vol": 0.002199631162081406,
         "slow_vol": 0.002451098336206751,
         "vol_trend_long": 1,
         "vol_trend_short": 0,
         "vol_trend_signal": 1,
         "_deepnote_index_column": "2019-09-02T10:00:00.000000"
        },
        {
         "Close": 0.25459998846054077,
         "daily_return": -0.0015686540335982935,
         "fast_close": 0.25469514166927903,
         "slow_close": 0.2555811702587887,
         "crossover_long": 0,
         "crossover_short": -1,
         "crossover_signal": -1,
         "fast_vol": 0.0021374860464018135,
         "slow_vol": 0.0023821175375477936,
         "vol_trend_long": 1,
         "vol_trend_short": 0,
         "vol_trend_signal": 1,
         "_deepnote_index_column": "2019-09-02T11:00:00.000000"
        },
        {
         "Close": 0.2556999921798706,
         "daily_return": 0.004320517553755954,
         "fast_close": 0.2551975669245821,
         "slow_close": 0.2555898426096024,
         "crossover_long": 0,
         "crossover_short": -1,
         "crossover_signal": -1,
         "fast_vol": 0.003246562116539674,
         "slow_vol": 0.0026143904100609907,
         "vol_trend_long": 0,
         "vol_trend_short": -1,
         "vol_trend_signal": -1,
         "_deepnote_index_column": "2019-09-02T12:00:00.000000"
        },
        {
         "Close": 0.2549999952316284,
         "daily_return": -0.002737571254009974,
         "fast_close": 0.2550987810781045,
         "slow_close": 0.25554704951531443,
         "crossover_long": 0,
         "crossover_short": -1,
         "crossover_signal": -1,
         "fast_vol": 0.0036873318456454598,
         "slow_vol": 0.002615756636215215,
         "vol_trend_long": 0,
         "vol_trend_short": -1,
         "vol_trend_signal": -1,
         "_deepnote_index_column": "2019-09-02T13:00:00.000000"
        },
        {
         "Close": 0.257999986410141,
         "daily_return": 0.01176467150827798,
         "fast_close": 0.256549383744128,
         "slow_close": 0.25572402077315787,
         "crossover_long": 1,
         "crossover_short": 0,
         "crossover_signal": 1,
         "fast_vol": 0.007881758524297577,
         "slow_vol": 0.00405703116912978,
         "vol_trend_long": 0,
         "vol_trend_short": -1,
         "vol_trend_signal": -1,
         "_deepnote_index_column": "2019-09-02T14:00:00.000000"
        },
        {
         "Close": 0.25760000944137573,
         "daily_return": -0.0015502984102077066,
         "fast_close": 0.25707469659275284,
         "slow_close": 0.25585866969339616,
         "crossover_long": 1,
         "crossover_short": 0,
         "crossover_signal": 1,
         "fast_vol": 0.007122344114031337,
         "slow_vol": 0.0039490770432277856,
         "vol_trend_long": 0,
         "vol_trend_short": -1,
         "vol_trend_signal": -1,
         "_deepnote_index_column": "2019-09-02T15:00:00.000000"
        },
        {
         "Close": 0.25699999928474426,
         "daily_return": -0.0023292318891317,
         "fast_close": 0.2570373479387485,
         "slow_close": 0.2559401965503595,
         "crossover_long": 1,
         "crossover_short": 0,
         "crossover_signal": 1,
         "fast_vol": 0.0057116941605412554,
         "slow_vol": 0.0038746275591701206,
         "vol_trend_long": 0,
         "vol_trend_short": -1,
         "vol_trend_signal": -1,
         "_deepnote_index_column": "2019-09-02T16:00:00.000000"
        },
        {
         "Close": 0.25780001282691956,
         "daily_return": 0.0031128931688786388,
         "fast_close": 0.2574186803828342,
         "slow_close": 0.25607245550574176,
         "crossover_long": 1,
         "crossover_short": 0,
         "crossover_signal": 1,
         "fast_vol": 0.0045004059555809,
         "slow_vol": 0.003807149862050582,
         "vol_trend_long": 0,
         "vol_trend_short": -1,
         "vol_trend_signal": -1,
         "_deepnote_index_column": "2019-09-02T17:00:00.000000"
        }
       ],
       "rows_bottom": [
        {
         "Close": 0.787296712398529,
         "daily_return": -0.0010537277898866604,
         "fast_close": 0.7874419200519078,
         "slow_close": 0.7887862029963336,
         "crossover_long": 0,
         "crossover_short": -1,
         "crossover_signal": -1,
         "fast_vol": 0.009434181289317884,
         "slow_vol": 0.011176095948288023,
         "vol_trend_long": 1,
         "vol_trend_short": 0,
         "vol_trend_signal": 1,
         "_deepnote_index_column": "2021-08-09T07:00:00.000000"
        },
        {
         "Close": 0.7967813014984131,
         "daily_return": 0.012047032523467394,
         "fast_close": 0.7921116107751605,
         "slow_close": 0.7893216108253864,
         "crossover_long": 1,
         "crossover_short": 0,
         "crossover_signal": 1,
         "fast_vol": 0.010009407530909927,
         "slow_vol": 0.011226148594391812,
         "vol_trend_long": 1,
         "vol_trend_short": 0,
         "vol_trend_signal": 1,
         "_deepnote_index_column": "2021-08-09T08:00:00.000000"
        },
        {
         "Close": 0.7981806397438049,
         "daily_return": 0.0017562388107756899,
         "fast_close": 0.7951461252594827,
         "slow_close": 0.7899148734899418,
         "crossover_long": 1,
         "crossover_short": 0,
         "crossover_signal": 1,
         "fast_vol": 0.007530091555247977,
         "slow_vol": 0.010846755953014816,
         "vol_trend_long": 1,
         "vol_trend_short": 0,
         "vol_trend_signal": 1,
         "_deepnote_index_column": "2021-08-09T09:00:00.000000"
        },
        {
         "Close": 0.8096413016319275,
         "daily_return": 0.014358481423204061,
         "fast_close": 0.8023937134457051,
         "slow_close": 0.7912358933702748,
         "crossover_long": 1,
         "crossover_short": 0,
         "crossover_signal": 1,
         "fast_vol": 0.008349916602393556,
         "slow_vol": 0.011028986399169133,
         "vol_trend_long": 1,
         "vol_trend_short": 0,
         "vol_trend_signal": 1,
         "_deepnote_index_column": "2021-08-09T10:00:00.000000"
        },
        {
         "Close": 0.816961407661438,
         "daily_return": 0.009041171707465878,
         "fast_close": 0.8096775605535715,
         "slow_close": 0.7929586541035311,
         "crossover_long": 1,
         "crossover_short": 0,
         "crossover_signal": 1,
         "fast_vol": 0.005904419499464317,
         "slow_vol": 0.010814648361715147,
         "vol_trend_long": 1,
         "vol_trend_short": 0,
         "vol_trend_signal": 1,
         "_deepnote_index_column": "2021-08-09T11:00:00.000000"
        },
        {
         "Close": 0.8193760514259338,
         "daily_return": 0.0029556399382533183,
         "fast_close": 0.8145268059897527,
         "slow_close": 0.7947277481735959,
         "crossover_long": 1,
         "crossover_short": 0,
         "crossover_signal": 1,
         "fast_vol": 0.00560971770559831,
         "slow_vol": 0.010447958401588893,
         "vol_trend_long": 1,
         "vol_trend_short": 0,
         "vol_trend_signal": 1,
         "_deepnote_index_column": "2021-08-09T12:00:00.000000"
        },
        {
         "Close": 0.8166133165359497,
         "daily_return": -0.0033717545017043493,
         "fast_close": 0.8155700612628511,
         "slow_close": 0.7961933592153394,
         "crossover_long": 1,
         "crossover_short": 0,
         "crossover_signal": 1,
         "fast_vol": 0.006983900358183091,
         "slow_vol": 0.010193444808711954,
         "vol_trend_long": 1,
         "vol_trend_short": 0,
         "vol_trend_signal": 1,
         "_deepnote_index_column": "2021-08-09T13:00:00.000000"
        },
        {
         "Close": 0.8115898370742798,
         "daily_return": -0.006151601204569368,
         "fast_close": 0.8135799491685655,
         "slow_close": 0.7972244152784224,
         "crossover_long": 1,
         "crossover_short": 0,
         "crossover_signal": 1,
         "fast_vol": 0.00673277976101249,
         "slow_vol": 0.010056398048331276,
         "vol_trend_long": 1,
         "vol_trend_short": 0,
         "vol_trend_signal": 1,
         "_deepnote_index_column": "2021-08-09T14:00:00.000000"
        },
        {
         "Close": 0.8130114674568176,
         "daily_return": 0.0017516611440857588,
         "fast_close": 0.8132957083126915,
         "slow_close": 0.7982816269352617,
         "crossover_long": 1,
         "crossover_short": 0,
         "crossover_signal": 1,
         "fast_vol": 0.005401450753579955,
         "slow_vol": 0.009714379624902018,
         "vol_trend_long": 1,
         "vol_trend_short": 0,
         "vol_trend_signal": 1,
         "_deepnote_index_column": "2021-08-09T15:00:00.000000"
        },
        {
         "Close": 0.8204382061958313,
         "daily_return": 0.00913485115067969,
         "fast_close": 0.8168669572542614,
         "slow_close": 0.7997653867661197,
         "crossover_long": 1,
         "crossover_short": 0,
         "crossover_signal": 1,
         "fast_vol": 0.006942160225548546,
         "slow_vol": 0.0095888341260906,
         "vol_trend_long": 1,
         "vol_trend_short": 0,
         "vol_trend_signal": 1,
         "_deepnote_index_column": "2021-08-09T16:00:00.000000"
        },
        {
         "Close": 0.817124605178833,
         "daily_return": -0.004038818514270126,
         "fast_close": 0.8169957812165471,
         "slow_close": 0.8009278816924784,
         "crossover_long": 1,
         "crossover_short": 0,
         "crossover_signal": 1,
         "fast_vol": 0.00712824876236437,
         "slow_vol": 0.009384454688035742,
         "vol_trend_long": 1,
         "vol_trend_short": 0,
         "vol_trend_signal": 1,
         "_deepnote_index_column": "2021-08-09T17:00:00.000000"
        },
        {
         "Close": 0.8183885216712952,
         "daily_return": 0.0015467855018092003,
         "fast_close": 0.8176921514439212,
         "slow_close": 0.8020971685177126,
         "crossover_long": 1,
         "crossover_short": 0,
         "crossover_signal": 1,
         "fast_vol": 0.005109313841250064,
         "slow_vol": 0.009064794078346804,
         "vol_trend_long": 1,
         "vol_trend_short": 0,
         "vol_trend_signal": 1,
         "_deepnote_index_column": "2021-08-09T18:00:00.000000"
        },
        {
         "Close": 0.8223690390586853,
         "daily_return": 0.004863848015929095,
         "fast_close": 0.8200305952513032,
         "slow_close": 0.8034547150437946,
         "crossover_long": 1,
         "crossover_short": 0,
         "crossover_signal": 1,
         "fast_vol": 0.004364841013201775,
         "slow_vol": 0.008797696743042233,
         "vol_trend_long": 1,
         "vol_trend_short": 0,
         "vol_trend_signal": 1,
         "_deepnote_index_column": "2021-08-09T19:00:00.000000"
        },
        {
         "Close": 0.8158291578292847,
         "daily_return": -0.007952489598692103,
         "fast_close": 0.8179298765402939,
         "slow_close": 0.8042833944585378,
         "crossover_long": 1,
         "crossover_short": 0,
         "crossover_signal": 1,
         "fast_vol": 0.007307483088673017,
         "slow_vol": 0.008847609506803383,
         "vol_trend_long": 1,
         "vol_trend_short": 0,
         "vol_trend_signal": 1,
         "_deepnote_index_column": "2021-08-09T20:00:00.000000"
        },
        {
         "Close": 0.8055914044380188,
         "daily_return": -0.012548893715083609,
         "fast_close": 0.8117606404891564,
         "slow_close": 0.8043709879739036,
         "crossover_long": 1,
         "crossover_short": 0,
         "crossover_signal": 1,
         "fast_vol": 0.008014636694208092,
         "slow_vol": 0.009222684336854386,
         "vol_trend_long": 1,
         "vol_trend_short": 0,
         "vol_trend_signal": 1,
         "_deepnote_index_column": "2021-08-09T21:00:00.000000"
        },
        {
         "Close": 0.8096583485603333,
         "daily_return": 0.00504839562575965,
         "fast_close": 0.8107094945247448,
         "slow_close": 0.804725066695043,
         "crossover_long": 1,
         "crossover_short": 0,
         "crossover_signal": 1,
         "fast_vol": 0.009571034897224748,
         "slow_vol": 0.008994705842538874,
         "vol_trend_long": 0,
         "vol_trend_short": -1,
         "vol_trend_signal": -1,
         "_deepnote_index_column": "2021-08-09T22:00:00.000000"
        },
        {
         "Close": 0.8194264769554138,
         "daily_return": 0.012064506482826198,
         "fast_close": 0.8150679857400793,
         "slow_close": 0.8057095761603701,
         "crossover_long": 1,
         "crossover_short": 0,
         "crossover_signal": 1,
         "fast_vol": 0.010595839258392897,
         "slow_vol": 0.00917352082605658,
         "vol_trend_long": 0,
         "vol_trend_short": -1,
         "vol_trend_signal": -1,
         "_deepnote_index_column": "2021-08-09T23:00:00.000000"
        },
        {
         "Close": 0.8185535073280334,
         "daily_return": -0.0010653422264604862,
         "fast_close": 0.8168107465340564,
         "slow_close": 0.8065696958075756,
         "crossover_long": 1,
         "crossover_short": 0,
         "crossover_signal": 1,
         "fast_vol": 0.008476352136545065,
         "slow_vol": 0.008880896834162575,
         "vol_trend_long": 1,
         "vol_trend_short": 0,
         "vol_trend_signal": 1,
         "_deepnote_index_column": "2021-08-10T00:00:00.000000"
        },
        {
         "Close": 0.8124653100967407,
         "daily_return": -0.007437751077710386,
         "fast_close": 0.8146380283153986,
         "slow_close": 0.8069645074595738,
         "crossover_long": 1,
         "crossover_short": 0,
         "crossover_signal": 1,
         "fast_vol": 0.008399322958378993,
         "slow_vol": 0.008849827999773827,
         "vol_trend_long": 1,
         "vol_trend_short": 0,
         "vol_trend_signal": 1,
         "_deepnote_index_column": "2021-08-10T01:00:00.000000"
        },
        {
         "Close": 0.811424195766449,
         "daily_return": -0.001281426194267632,
         "fast_close": 0.8130311120409237,
         "slow_close": 0.8072631594441636,
         "crossover_long": 1,
         "crossover_short": 0,
         "crossover_signal": 1,
         "fast_vol": 0.005996635146101231,
         "slow_vol": 0.0085609083415041,
         "vol_trend_long": 1,
         "vol_trend_short": 0,
         "vol_trend_signal": 1,
         "_deepnote_index_column": "2021-08-10T02:00:00.000000"
        },
        {
         "Close": 0.8144153356552124,
         "daily_return": 0.0036862838258575614,
         "fast_close": 0.8137232238480681,
         "slow_close": 0.8077421192890192,
         "crossover_long": 1,
         "crossover_short": 0,
         "crossover_signal": 1,
         "fast_vol": 0.005470266402045871,
         "slow_vol": 0.008311011621752188,
         "vol_trend_long": 1,
         "vol_trend_short": 0,
         "vol_trend_signal": 1,
         "_deepnote_index_column": "2021-08-10T03:00:00.000000"
        },
        {
         "Close": 0.8044356107711792,
         "daily_return": -0.01225385187031669,
         "fast_close": 0.8090794173096236,
         "slow_close": 0.8075206923051214,
         "crossover_long": 1,
         "crossover_short": 0,
         "crossover_signal": 1,
         "fast_vol": 0.008916038338111587,
         "slow_vol": 0.008671872401732585,
         "vol_trend_long": 0,
         "vol_trend_short": -1,
         "vol_trend_signal": -1,
         "_deepnote_index_column": "2021-08-10T04:00:00.000000"
        },
        {
         "Close": 0.8098970651626587,
         "daily_return": 0.006789175315403906,
         "fast_close": 0.8094882412361412,
         "slow_close": 0.8076798308863837,
         "crossover_long": 1,
         "crossover_short": 0,
         "crossover_signal": 1,
         "fast_vol": 0.009909111469604553,
         "slow_vol": 0.008564557189766349,
         "vol_trend_long": 0,
         "vol_trend_short": -1,
         "vol_trend_signal": -1,
         "_deepnote_index_column": "2021-08-10T05:00:00.000000"
        },
        {
         "Close": 0.8105202913284302,
         "daily_return": 0.0007695128091942394,
         "fast_close": 0.8100042662822857,
         "slow_close": 0.8078700480248455,
         "crossover_long": 1,
         "crossover_short": 0,
         "crossover_signal": 1,
         "fast_vol": 0.007008121851160518,
         "slow_vol": 0.008273902305663659,
         "vol_trend_long": 1,
         "vol_trend_short": 0,
         "vol_trend_signal": 1,
         "_deepnote_index_column": "2021-08-10T06:00:00.000000"
        },
        {
         "Close": 0.8169611692428589,
         "daily_return": 0.007946596751911228,
         "fast_close": 0.8134827177625723,
         "slow_close": 0.8084788532163921,
         "crossover_long": 1,
         "crossover_short": 0,
         "crossover_signal": 1,
         "fast_vol": 0.006669047328596292,
         "slow_vol": 0.00822674471048597,
         "vol_trend_long": 1,
         "vol_trend_short": 0,
         "vol_trend_signal": 1,
         "_deepnote_index_column": "2021-08-10T07:00:00.000000"
        },
        {
         "Close": 0.8193774223327637,
         "daily_return": 0.0029576106929831703,
         "fast_close": 0.816430070047668,
         "slow_close": 0.8092086977866448,
         "crossover_long": 1,
         "crossover_short": 0,
         "crossover_signal": 1,
         "fast_vol": 0.004787103039404198,
         "slow_vol": 0.007965595832791298,
         "vol_trend_long": 1,
         "vol_trend_short": 0,
         "vol_trend_signal": 1,
         "_deepnote_index_column": "2021-08-10T08:00:00.000000"
        },
        {
         "Close": 0.8201133012771606,
         "daily_return": 0.0008980952175883239,
         "fast_close": 0.8182716856624144,
         "slow_close": 0.8099389464608819,
         "crossover_long": 1,
         "crossover_short": 0,
         "crossover_signal": 1,
         "fast_vol": 0.0037758464622708525,
         "slow_vol": 0.007694264640391953,
         "vol_trend_long": 1,
         "vol_trend_short": 0,
         "vol_trend_signal": 1,
         "_deepnote_index_column": "2021-08-10T09:00:00.000000"
        },
        {
         "Close": 0.8198803067207336,
         "daily_return": -0.000284100448150415,
         "fast_close": 0.819075996191574,
         "slow_close": 0.8106046896175391,
         "crossover_long": 1,
         "crossover_short": 0,
         "crossover_signal": 1,
         "fast_vol": 0.003092483106607915,
         "slow_vol": 0.0074386282731375725,
         "vol_trend_long": 1,
         "vol_trend_short": 0,
         "vol_trend_signal": 1,
         "_deepnote_index_column": "2021-08-10T10:00:00.000000"
        },
        {
         "Close": 0.807433009147644,
         "daily_return": -0.015181847241672264,
         "fast_close": 0.813254502669609,
         "slow_close": 0.810392291664669,
         "crossover_long": 1,
         "crossover_short": 0,
         "crossover_signal": 1,
         "fast_vol": 0.010141735276083797,
         "slow_vol": 0.008262467668631021,
         "vol_trend_long": 0,
         "vol_trend_short": -1,
         "vol_trend_signal": -1,
         "_deepnote_index_column": "2021-08-10T11:00:00.000000"
        },
        {
         "Close": 0.8152583837509155,
         "daily_return": 0.009691670410567177,
         "fast_close": 0.8142564432102622,
         "slow_close": 0.8107181592945913,
         "crossover_long": 1,
         "crossover_short": 0,
         "crossover_signal": 1,
         "fast_vol": 0.012534401834201948,
         "slow_vol": 0.00837000284370803,
         "vol_trend_long": 0,
         "vol_trend_short": -1,
         "vol_trend_signal": -1,
         "_deepnote_index_column": "2021-08-10T12:00:00.000000"
        },
        {
         "Close": 0.8490090370178223,
         "daily_return": 0.041398719644713866,
         "fast_close": 0.8316327401140422,
         "slow_close": 0.813282384827146,
         "crossover_long": 1,
         "crossover_short": 0,
         "crossover_signal": 1,
         "fast_vol": 0.026107181443958537,
         "slow_vol": 0.013188451057048236,
         "vol_trend_long": 0,
         "vol_trend_short": -1,
         "vol_trend_signal": -1,
         "_deepnote_index_column": "2021-08-10T13:00:00.000000"
        },
        {
         "Close": 0.8354390263557434,
         "daily_return": -0.015983352438442844,
         "fast_close": 0.8335358832348928,
         "slow_close": 0.8147661488279074,
         "crossover_long": 1,
         "crossover_short": 0,
         "crossover_signal": 1,
         "fast_vol": 0.029383871713500754,
         "slow_vol": 0.013640728540266614,
         "vol_trend_long": 0,
         "vol_trend_short": -1,
         "vol_trend_signal": -1,
         "_deepnote_index_column": "2021-08-10T14:00:00.000000"
        },
        {
         "Close": 0.8288268446922302,
         "daily_return": -0.00791461908639357,
         "fast_close": 0.8311813639635615,
         "slow_close": 0.8157077515668519,
         "crossover_long": 1,
         "crossover_short": 0,
         "crossover_signal": 1,
         "fast_vol": 0.021767356959426186,
         "slow_vol": 0.013410656216383076,
         "vol_trend_long": 0,
         "vol_trend_short": -1,
         "vol_trend_signal": -1,
         "_deepnote_index_column": "2021-08-10T15:00:00.000000"
        },
        {
         "Close": 0.8237518072128296,
         "daily_return": -0.00612315770404992,
         "fast_close": 0.8274665855881955,
         "slow_close": 0.8162464379093745,
         "crossover_long": 1,
         "crossover_short": 0,
         "crossover_signal": 1,
         "fast_vol": 0.015540954865276275,
         "slow_vol": 0.013088740326170788,
         "vol_trend_long": 0,
         "vol_trend_short": -1,
         "vol_trend_signal": -1,
         "_deepnote_index_column": "2021-08-10T16:00:00.000000"
        },
        {
         "Close": 0.8138244152069092,
         "daily_return": -0.012051435783200004,
         "fast_close": 0.8206455003975524,
         "slow_close": 0.8160842422945604,
         "crossover_long": 1,
         "crossover_short": 0,
         "crossover_signal": 1,
         "fast_vol": 0.01195364058355378,
         "slow_vol": 0.013055686764425076,
         "vol_trend_long": 1,
         "vol_trend_short": 0,
         "vol_trend_signal": 1,
         "_deepnote_index_column": "2021-08-10T17:00:00.000000"
        },
        {
         "Close": 0.81997150182724,
         "daily_return": 0.007553332764989484,
         "fast_close": 0.8203085011123962,
         "slow_close": 0.816344560436584,
         "crossover_long": 1,
         "crossover_short": 0,
         "crossover_signal": 1,
         "fast_vol": 0.01283089924887155,
         "slow_vol": 0.01276064018202642,
         "vol_trend_long": 0,
         "vol_trend_short": -1,
         "vol_trend_signal": -1,
         "_deepnote_index_column": "2021-08-10T18:00:00.000000"
        },
        {
         "Close": 0.8261918425559998,
         "daily_return": 0.007586045020952836,
         "fast_close": 0.823250171834198,
         "slow_close": 0.8170040034616144,
         "crossover_long": 1,
         "crossover_short": 0,
         "crossover_signal": 1,
         "fast_vol": 0.010286232026429936,
         "slow_vol": 0.012460567703624395,
         "vol_trend_long": 1,
         "vol_trend_short": 0,
         "vol_trend_signal": 1,
         "_deepnote_index_column": "2021-08-10T19:00:00.000000"
        },
        {
         "Close": 0.8347495198249817,
         "daily_return": 0.01035797841153574,
         "fast_close": 0.8289998458295899,
         "slow_close": 0.8181923676061037,
         "crossover_long": 1,
         "crossover_short": 0,
         "crossover_signal": 1,
         "fast_vol": 0.008359686462008192,
         "slow_vol": 0.012274913470932288,
         "vol_trend_long": 1,
         "vol_trend_short": 0,
         "vol_trend_signal": 1,
         "_deepnote_index_column": "2021-08-10T20:00:00.000000"
        },
        {
         "Close": 0.8428434133529663,
         "daily_return": 0.009696194290332194,
         "fast_close": 0.8359216295912781,
         "slow_close": 0.8198431743952604,
         "crossover_long": 1,
         "crossover_short": 0,
         "crossover_signal": 1,
         "fast_vol": 0.006138541267780122,
         "slow_vol": 0.012037799606393371,
         "vol_trend_long": 1,
         "vol_trend_short": 0,
         "vol_trend_signal": 1,
         "_deepnote_index_column": "2021-08-10T21:00:00.000000"
        },
        {
         "Close": 0.8587751984596252,
         "daily_return": 0.01890242582934798,
         "fast_close": 0.8473484140254517,
         "slow_close": 0.8224503355802679,
         "crossover_long": 1,
         "crossover_short": 0,
         "crossover_signal": 1,
         "fast_vol": 0.007787159843224903,
         "slow_vol": 0.01239134128642874,
         "vol_trend_long": 1,
         "vol_trend_short": 0,
         "vol_trend_signal": 1,
         "_deepnote_index_column": "2021-08-10T22:00:00.000000"
        },
        {
         "Close": 0.8522931933403015,
         "daily_return": -0.0075479649749439215,
         "fast_close": 0.8498208036828766,
         "slow_close": 0.82444882248845,
         "crossover_long": 1,
         "crossover_short": 0,
         "crossover_signal": 1,
         "fast_vol": 0.014085741184632189,
         "slow_vol": 0.012277399121715382,
         "vol_trend_long": 0,
         "vol_trend_short": -1,
         "vol_trend_signal": -1,
         "_deepnote_index_column": "2021-08-10T23:00:00.000000"
        },
        {
         "Close": 0.8512465357780457,
         "daily_return": -0.001228048716608643,
         "fast_close": 0.8505336697304611,
         "slow_close": 0.8262433851811086,
         "crossover_long": 1,
         "crossover_short": 0,
         "crossover_signal": 1,
         "fast_vol": 0.010296997464263298,
         "slow_vol": 0.011896581584323522,
         "vol_trend_long": 1,
         "vol_trend_short": 0,
         "vol_trend_signal": 1,
         "_deepnote_index_column": "2021-08-11T00:00:00.000000"
        }
       ]
      },
      "text/plain": "                              Close  daily_return  fast_close  slow_close  \\\n2019-09-01 01:00:00+01:00  0.259100           NaN    0.259100    0.259100   \n2019-09-01 02:00:00+01:00  0.258400     -0.002702    0.258633    0.258738   \n2019-09-01 03:00:00+01:00  0.257800     -0.002322    0.258157    0.258403   \n2019-09-01 04:00:00+01:00  0.258500      0.002715    0.258340    0.258430   \n2019-09-01 05:00:00+01:00  0.258100     -0.001547    0.258216    0.258355   \n...                             ...           ...         ...         ...   \n2021-08-10 20:00:00+01:00  0.834750      0.010358    0.829000    0.818192   \n2021-08-10 21:00:00+01:00  0.842843      0.009696    0.835922    0.819843   \n2021-08-10 22:00:00+01:00  0.858775      0.018902    0.847348    0.822450   \n2021-08-10 23:00:00+01:00  0.852293     -0.007548    0.849821    0.824449   \n2021-08-11 00:00:00+01:00  0.851247     -0.001228    0.850534    0.826243   \n\n                           crossover_long  crossover_short  crossover_signal  \\\n2019-09-01 01:00:00+01:00             0.0              0.0               0.0   \n2019-09-01 02:00:00+01:00             0.0             -1.0              -1.0   \n2019-09-01 03:00:00+01:00             0.0             -1.0              -1.0   \n2019-09-01 04:00:00+01:00             0.0             -1.0              -1.0   \n2019-09-01 05:00:00+01:00             0.0             -1.0              -1.0   \n...                                   ...              ...               ...   \n2021-08-10 20:00:00+01:00             1.0              0.0               1.0   \n2021-08-10 21:00:00+01:00             1.0              0.0               1.0   \n2021-08-10 22:00:00+01:00             1.0              0.0               1.0   \n2021-08-10 23:00:00+01:00             1.0              0.0               1.0   \n2021-08-11 00:00:00+01:00             1.0              0.0               1.0   \n\n                           fast_vol  slow_vol  vol_trend_long  \\\n2019-09-01 01:00:00+01:00       NaN       NaN             0.0   \n2019-09-01 02:00:00+01:00       NaN       NaN             0.0   \n2019-09-01 03:00:00+01:00  0.000269  0.000269             0.0   \n2019-09-01 04:00:00+01:00  0.003384  0.003071             0.0   \n2019-09-01 05:00:00+01:00  0.002567  0.002507             0.0   \n...                             ...       ...             ...   \n2021-08-10 20:00:00+01:00  0.008360  0.012275             1.0   \n2021-08-10 21:00:00+01:00  0.006139  0.012038             1.0   \n2021-08-10 22:00:00+01:00  0.007787  0.012391             1.0   \n2021-08-10 23:00:00+01:00  0.014086  0.012277             0.0   \n2021-08-11 00:00:00+01:00  0.010297  0.011897             1.0   \n\n                           vol_trend_short  vol_trend_signal  \n2019-09-01 01:00:00+01:00              0.0               0.0  \n2019-09-01 02:00:00+01:00              0.0               0.0  \n2019-09-01 03:00:00+01:00             -1.0              -1.0  \n2019-09-01 04:00:00+01:00             -1.0              -1.0  \n2019-09-01 05:00:00+01:00             -1.0              -1.0  \n...                                    ...               ...  \n2021-08-10 20:00:00+01:00              0.0               1.0  \n2021-08-10 21:00:00+01:00              0.0               1.0  \n2021-08-10 22:00:00+01:00              0.0               1.0  \n2021-08-10 23:00:00+01:00             -1.0              -1.0  \n2021-08-11 00:00:00+01:00              0.0               1.0  \n\n[17000 rows x 12 columns]",
      "text/html": "<div>\n<style scoped>\n    .dataframe tbody tr th:only-of-type {\n        vertical-align: middle;\n    }\n\n    .dataframe tbody tr th {\n        vertical-align: top;\n    }\n\n    .dataframe thead th {\n        text-align: right;\n    }\n</style>\n<table border=\"1\" class=\"dataframe\">\n  <thead>\n    <tr style=\"text-align: right;\">\n      <th></th>\n      <th>Close</th>\n      <th>daily_return</th>\n      <th>fast_close</th>\n      <th>slow_close</th>\n      <th>crossover_long</th>\n      <th>crossover_short</th>\n      <th>crossover_signal</th>\n      <th>fast_vol</th>\n      <th>slow_vol</th>\n      <th>vol_trend_long</th>\n      <th>vol_trend_short</th>\n      <th>vol_trend_signal</th>\n    </tr>\n  </thead>\n  <tbody>\n    <tr>\n      <th>2019-09-01 01:00:00+01:00</th>\n      <td>0.259100</td>\n      <td>NaN</td>\n      <td>0.259100</td>\n      <td>0.259100</td>\n      <td>0.0</td>\n      <td>0.0</td>\n      <td>0.0</td>\n      <td>NaN</td>\n      <td>NaN</td>\n      <td>0.0</td>\n      <td>0.0</td>\n      <td>0.0</td>\n    </tr>\n    <tr>\n      <th>2019-09-01 02:00:00+01:00</th>\n      <td>0.258400</td>\n      <td>-0.002702</td>\n      <td>0.258633</td>\n      <td>0.258738</td>\n      <td>0.0</td>\n      <td>-1.0</td>\n      <td>-1.0</td>\n      <td>NaN</td>\n      <td>NaN</td>\n      <td>0.0</td>\n      <td>0.0</td>\n      <td>0.0</td>\n    </tr>\n    <tr>\n      <th>2019-09-01 03:00:00+01:00</th>\n      <td>0.257800</td>\n      <td>-0.002322</td>\n      <td>0.258157</td>\n      <td>0.258403</td>\n      <td>0.0</td>\n      <td>-1.0</td>\n      <td>-1.0</td>\n      <td>0.000269</td>\n      <td>0.000269</td>\n      <td>0.0</td>\n      <td>-1.0</td>\n      <td>-1.0</td>\n    </tr>\n    <tr>\n      <th>2019-09-01 04:00:00+01:00</th>\n      <td>0.258500</td>\n      <td>0.002715</td>\n      <td>0.258340</td>\n      <td>0.258430</td>\n      <td>0.0</td>\n      <td>-1.0</td>\n      <td>-1.0</td>\n      <td>0.003384</td>\n      <td>0.003071</td>\n      <td>0.0</td>\n      <td>-1.0</td>\n      <td>-1.0</td>\n    </tr>\n    <tr>\n      <th>2019-09-01 05:00:00+01:00</th>\n      <td>0.258100</td>\n      <td>-0.001547</td>\n      <td>0.258216</td>\n      <td>0.258355</td>\n      <td>0.0</td>\n      <td>-1.0</td>\n      <td>-1.0</td>\n      <td>0.002567</td>\n      <td>0.002507</td>\n      <td>0.0</td>\n      <td>-1.0</td>\n      <td>-1.0</td>\n    </tr>\n    <tr>\n      <th>...</th>\n      <td>...</td>\n      <td>...</td>\n      <td>...</td>\n      <td>...</td>\n      <td>...</td>\n      <td>...</td>\n      <td>...</td>\n      <td>...</td>\n      <td>...</td>\n      <td>...</td>\n      <td>...</td>\n      <td>...</td>\n    </tr>\n    <tr>\n      <th>2021-08-10 20:00:00+01:00</th>\n      <td>0.834750</td>\n      <td>0.010358</td>\n      <td>0.829000</td>\n      <td>0.818192</td>\n      <td>1.0</td>\n      <td>0.0</td>\n      <td>1.0</td>\n      <td>0.008360</td>\n      <td>0.012275</td>\n      <td>1.0</td>\n      <td>0.0</td>\n      <td>1.0</td>\n    </tr>\n    <tr>\n      <th>2021-08-10 21:00:00+01:00</th>\n      <td>0.842843</td>\n      <td>0.009696</td>\n      <td>0.835922</td>\n      <td>0.819843</td>\n      <td>1.0</td>\n      <td>0.0</td>\n      <td>1.0</td>\n      <td>0.006139</td>\n      <td>0.012038</td>\n      <td>1.0</td>\n      <td>0.0</td>\n      <td>1.0</td>\n    </tr>\n    <tr>\n      <th>2021-08-10 22:00:00+01:00</th>\n      <td>0.858775</td>\n      <td>0.018902</td>\n      <td>0.847348</td>\n      <td>0.822450</td>\n      <td>1.0</td>\n      <td>0.0</td>\n      <td>1.0</td>\n      <td>0.007787</td>\n      <td>0.012391</td>\n      <td>1.0</td>\n      <td>0.0</td>\n      <td>1.0</td>\n    </tr>\n    <tr>\n      <th>2021-08-10 23:00:00+01:00</th>\n      <td>0.852293</td>\n      <td>-0.007548</td>\n      <td>0.849821</td>\n      <td>0.824449</td>\n      <td>1.0</td>\n      <td>0.0</td>\n      <td>1.0</td>\n      <td>0.014086</td>\n      <td>0.012277</td>\n      <td>0.0</td>\n      <td>-1.0</td>\n      <td>-1.0</td>\n    </tr>\n    <tr>\n      <th>2021-08-11 00:00:00+01:00</th>\n      <td>0.851247</td>\n      <td>-0.001228</td>\n      <td>0.850534</td>\n      <td>0.826243</td>\n      <td>1.0</td>\n      <td>0.0</td>\n      <td>1.0</td>\n      <td>0.010297</td>\n      <td>0.011897</td>\n      <td>1.0</td>\n      <td>0.0</td>\n      <td>1.0</td>\n    </tr>\n  </tbody>\n</table>\n<p>17000 rows × 12 columns</p>\n</div>"
     },
     "metadata": {}
    }
   ],
   "execution_count": null
  },
  {
   "cell_type": "code",
   "metadata": {
    "tags": [],
    "deepnote_to_be_reexecuted": false,
    "source_hash": "10f1b201",
    "execution_start": 1629323113086,
    "execution_millis": 649,
    "cell_id": "00006-4486c6bd-8c37-40e5-8b84-706028e4b772",
    "deepnote_cell_type": "code"
   },
   "source": "# Plot the EMA of SQ return volatility\nxrp[['fast_vol', 'slow_vol']].plot(figsize=(20,10))",
   "outputs": [
    {
     "output_type": "execute_result",
     "execution_count": 7,
     "data": {
      "text/plain": "<AxesSubplot:>"
     },
     "metadata": {}
    },
    {
     "data": {
      "text/plain": "<Figure size 1440x720 with 1 Axes>",
      "image/png": "[encoded data removed]"
     },
     "metadata": {
      "image/png": {
       "width": 1310,
       "height": 548
      }
     },
     "output_type": "display_data"
    }
   ],
   "execution_count": null
  },
  {
   "cell_type": "code",
   "metadata": {
    "tags": [],
    "deepnote_to_be_reexecuted": false,
    "source_hash": "fc1e85d3",
    "execution_start": 1629323113740,
    "execution_millis": 236,
    "cell_id": "00007-25b08387-72fc-4d0d-bf7a-0d20223f6876",
    "deepnote_cell_type": "code"
   },
   "source": "# Set bollinger band window\nbollinger_window = 20\n\n# Calculate rolling mean and standard deviation\nxrp['bollinger_mid_band'] = xrp['Close'].rolling(window=bollinger_window).mean()\nxrp['bollinger_std'] = xrp['Close'].rolling(window=20).std()\n\n# Calculate upper and lowers bands of bollinger band\nxrp['bollinger_upper_band']  = xrp['bollinger_mid_band'] + (xrp['bollinger_std'] * 1)\nxrp['bollinger_lower_band']  = xrp['bollinger_mid_band'] - (xrp['bollinger_std'] * 1)\n\n# Calculate bollinger band trading signal\nxrp['bollinger_long'] = np.where(xrp['Close'] < xrp['bollinger_lower_band'], 1.0, 0.0)\nxrp['bollinger_short'] = np.where(xrp['Close'] > xrp['bollinger_upper_band'], -1.0, 0.0)\nxrp['bollinger_signal'] = xrp['bollinger_long'] + xrp['bollinger_short']\n\nxrp",
   "outputs": [
    {
     "output_type": "execute_result",
     "execution_count": 8,
     "data": {
      "application/vnd.deepnote.dataframe.v2+json": {
       "row_count": 17000,
       "column_count": 19,
       "columns": [
        {
         "name": "Close",
         "dtype": "float64",
         "stats": {
          "unique_count": 16589,
          "nan_count": 0,
          "min": "0.12985041737556458",
          "max": "1.9378489255905151",
          "histogram": [
           {
            "bin_start": 0.12985041737556458,
            "bin_end": 0.31065026819705965,
            "count": 11355
           },
           {
            "bin_start": 0.31065026819705965,
            "bin_end": 0.4914501190185547,
            "count": 1233
           },
           {
            "bin_start": 0.4914501190185547,
            "bin_end": 0.6722499698400497,
            "count": 2101
           },
           {
            "bin_start": 0.6722499698400497,
            "bin_end": 0.8530498206615448,
            "count": 683
           },
           {
            "bin_start": 0.8530498206615448,
            "bin_end": 1.0338496714830399,
            "count": 593
           },
           {
            "bin_start": 1.0338496714830399,
            "bin_end": 1.2146495223045348,
            "count": 182
           },
           {
            "bin_start": 1.2146495223045348,
            "bin_end": 1.39544937312603,
            "count": 270
           },
           {
            "bin_start": 1.39544937312603,
            "bin_end": 1.576249223947525,
            "count": 343
           },
           {
            "bin_start": 1.576249223947525,
            "bin_end": 1.75704907476902,
            "count": 204
           },
           {
            "bin_start": 1.75704907476902,
            "bin_end": 1.9378489255905151,
            "count": 36
           }
          ]
         }
        },
        {
         "name": "daily_return",
         "dtype": "float64",
         "stats": {
          "unique_count": 16948,
          "nan_count": 1,
          "min": "-0.2192519601588978",
          "max": "0.26590190258841306",
          "histogram": [
           {
            "bin_start": -0.2192519601588978,
            "bin_end": -0.17073657388416671,
            "count": 1
           },
           {
            "bin_start": -0.17073657388416671,
            "bin_end": -0.12222118760943564,
            "count": 3
           },
           {
            "bin_start": -0.12222118760943564,
            "bin_end": -0.07370580133470456,
            "count": 37
           },
           {
            "bin_start": -0.07370580133470456,
            "bin_end": -0.025190415059973464,
            "count": 391
           },
           {
            "bin_start": -0.025190415059973464,
            "bin_end": 0.023324971214757628,
            "count": 16038
           },
           {
            "bin_start": 0.023324971214757628,
            "bin_end": 0.0718403574894887,
            "count": 488
           },
           {
            "bin_start": 0.0718403574894887,
            "bin_end": 0.12035574376421981,
            "count": 34
           },
           {
            "bin_start": 0.12035574376421981,
            "bin_end": 0.16887113003895088,
            "count": 5
           },
           {
            "bin_start": 0.16887113003895088,
            "bin_end": 0.21738651631368194,
            "count": 1
           },
           {
            "bin_start": 0.21738651631368194,
            "bin_end": 0.26590190258841306,
            "count": 1
           }
          ]
         }
        },
        {
         "name": "fast_close",
         "dtype": "float64",
         "stats": {
          "unique_count": 16999,
          "nan_count": 0,
          "min": "0.1348389485873181",
          "max": "1.906368123219453",
          "histogram": [
           {
            "bin_start": 0.1348389485873181,
            "bin_end": 0.3119918660505316,
            "count": 11367
           },
           {
            "bin_start": 0.3119918660505316,
            "bin_end": 0.4891447835137451,
            "count": 1215
           },
           {
            "bin_start": 0.4891447835137451,
            "bin_end": 0.6662977009769586,
            "count": 2067
           },
           {
            "bin_start": 0.6662977009769586,
            "bin_end": 0.843450618440172,
            "count": 695
           },
           {
            "bin_start": 0.843450618440172,
            "bin_end": 1.0206035359033856,
            "count": 573
           },
           {
            "bin_start": 1.0206035359033856,
            "bin_end": 1.197756453366599,
            "count": 225
           },
           {
            "bin_start": 1.197756453366599,
            "bin_end": 1.3749093708298126,
            "count": 205
           },
           {
            "bin_start": 1.3749093708298126,
            "bin_end": 1.552062288293026,
            "count": 332
           },
           {
            "bin_start": 1.552062288293026,
            "bin_end": 1.7292152057562393,
            "count": 269
           },
           {
            "bin_start": 1.7292152057562393,
            "bin_end": 1.906368123219453,
            "count": 52
           }
          ]
         }
        },
        {
         "name": "slow_close",
         "dtype": "float64",
         "stats": {
          "unique_count": 17000,
          "nan_count": 0,
          "min": "0.1434913117797305",
          "max": "1.7633789194068428",
          "histogram": [
           {
            "bin_start": 0.1434913117797305,
            "bin_end": 0.30548007254244175,
            "count": 11320
           },
           {
            "bin_start": 0.30548007254244175,
            "bin_end": 0.467468833305153,
            "count": 1021
           },
           {
            "bin_start": 0.467468833305153,
            "bin_end": 0.6294575940678642,
            "count": 2003
           },
           {
            "bin_start": 0.6294575940678642,
            "bin_end": 0.7914463548305755,
            "count": 804
           },
           {
            "bin_start": 0.7914463548305755,
            "bin_end": 0.9534351155932868,
            "count": 597
           },
           {
            "bin_start": 0.9534351155932868,
            "bin_end": 1.1154238763559978,
            "count": 313
           },
           {
            "bin_start": 1.1154238763559978,
            "bin_end": 1.2774126371187091,
            "count": 112
           },
           {
            "bin_start": 1.2774126371187091,
            "bin_end": 1.4394013978814204,
            "count": 320
           },
           {
            "bin_start": 1.4394013978814204,
            "bin_end": 1.6013901586441317,
            "count": 378
           },
           {
            "bin_start": 1.6013901586441317,
            "bin_end": 1.7633789194068428,
            "count": 132
           }
          ]
         }
        },
        {
         "name": "crossover_long",
         "dtype": "float64",
         "stats": {
          "unique_count": 2,
          "nan_count": 0,
          "min": "0.0",
          "max": "1.0",
          "histogram": [
           {
            "bin_start": 0,
            "bin_end": 0.1,
            "count": 8347
           },
           {
            "bin_start": 0.1,
            "bin_end": 0.2,
            "count": 0
           },
           {
            "bin_start": 0.2,
            "bin_end": 0.30000000000000004,
            "count": 0
           },
           {
            "bin_start": 0.30000000000000004,
            "bin_end": 0.4,
            "count": 0
           },
           {
            "bin_start": 0.4,
            "bin_end": 0.5,
            "count": 0
           },
           {
            "bin_start": 0.5,
            "bin_end": 0.6000000000000001,
            "count": 0
           },
           {
            "bin_start": 0.6000000000000001,
            "bin_end": 0.7000000000000001,
            "count": 0
           },
           {
            "bin_start": 0.7000000000000001,
            "bin_end": 0.8,
            "count": 0
           },
           {
            "bin_start": 0.8,
            "bin_end": 0.9,
            "count": 0
           },
           {
            "bin_start": 0.9,
            "bin_end": 1,
            "count": 8653
           }
          ]
         }
        },
        {
         "name": "crossover_short",
         "dtype": "float64"
        },
        {
         "name": "crossover_signal",
         "dtype": "float64"
        },
        {
         "name": "fast_vol",
         "dtype": "float64"
        },
        {
         "name": "slow_vol",
         "dtype": "float64"
        },
        {
         "name": "vol_trend_long",
         "dtype": "float64"
        },
        {
         "name": "vol_trend_short",
         "dtype": "float64"
        },
        {
         "name": "vol_trend_signal",
         "dtype": "float64"
        },
        {
         "name": "bollinger_mid_band",
         "dtype": "float64"
        },
        {
         "name": "bollinger_std",
         "dtype": "float64"
        },
        {
         "name": "bollinger_upper_band",
         "dtype": "float64"
        },
        {
         "name": "bollinger_lower_band",
         "dtype": "float64"
        },
        {
         "name": "bollinger_long",
         "dtype": "float64"
        },
        {
         "name": "bollinger_short",
         "dtype": "float64"
        },
        {
         "name": "bollinger_signal",
         "dtype": "float64"
        },
        {
         "name": "_deepnote_index_column",
         "dtype": "datetime64[ns, Europe/London]"
        }
       ],
       "rows_top": [
        {
         "Close": 0.2590999901294708,
         "daily_return": "nan",
         "fast_close": 0.2590999901294708,
         "slow_close": 0.2590999901294708,
         "crossover_long": 0,
         "crossover_short": 0,
         "crossover_signal": 0,
         "fast_vol": "nan",
         "slow_vol": "nan",
         "vol_trend_long": 0,
         "vol_trend_short": 0,
         "vol_trend_signal": 0,
         "bollinger_mid_band": "nan",
         "bollinger_std": "nan",
         "bollinger_upper_band": "nan",
         "bollinger_lower_band": "nan",
         "bollinger_long": 0,
         "bollinger_short": 0,
         "bollinger_signal": 0,
         "_deepnote_index_column": "2019-09-01T01:00:00.000000"
        },
        {
         "Close": 0.25839999318122864,
         "daily_return": -0.002701647915510974,
         "fast_close": 0.2586333254973094,
         "slow_close": 0.25873786648682895,
         "crossover_long": 0,
         "crossover_short": -1,
         "crossover_signal": -1,
         "fast_vol": "nan",
         "slow_vol": "nan",
         "vol_trend_long": 0,
         "vol_trend_short": 0,
         "vol_trend_signal": 0,
         "bollinger_mid_band": "nan",
         "bollinger_std": "nan",
         "bollinger_upper_band": "nan",
         "bollinger_lower_band": "nan",
         "bollinger_long": 0,
         "bollinger_short": 0,
         "bollinger_signal": 0,
         "_deepnote_index_column": "2019-09-01T02:00:00.000000"
        },
        {
         "Close": 0.25780001282691956,
         "daily_return": -0.002321905457204454,
         "fast_close": 0.2581571468285152,
         "slow_close": 0.25840334688305516,
         "crossover_long": 0,
         "crossover_short": -1,
         "crossover_signal": -1,
         "fast_vol": 0.00026851846737299017,
         "slow_vol": 0.0002685184673729901,
         "vol_trend_long": 0,
         "vol_trend_short": -1,
         "vol_trend_signal": -1,
         "bollinger_mid_band": "nan",
         "bollinger_std": "nan",
         "bollinger_upper_band": "nan",
         "bollinger_lower_band": "nan",
         "bollinger_long": 0,
         "bollinger_short": 0,
         "bollinger_signal": 0,
         "_deepnote_index_column": "2019-09-01T03:00:00.000000"
        },
        {
         "Close": 0.25850000977516174,
         "daily_return": 0.002715271192450075,
         "fast_close": 0.25834000706672666,
         "slow_close": 0.25843008009037194,
         "crossover_long": 0,
         "crossover_short": -1,
         "crossover_signal": -1,
         "fast_vol": 0.003384025751108614,
         "slow_vol": 0.003070862412707415,
         "vol_trend_long": 0,
         "vol_trend_short": -1,
         "vol_trend_signal": -1,
         "bollinger_mid_band": "nan",
         "bollinger_std": "nan",
         "bollinger_upper_band": "nan",
         "bollinger_lower_band": "nan",
         "bollinger_long": 0,
         "bollinger_short": 0,
         "bollinger_signal": 0,
         "_deepnote_index_column": "2019-09-01T04:00:00.000000"
        },
        {
         "Close": 0.2581000030040741,
         "daily_return": -0.0015474149166785356,
         "fast_close": 0.2582161340021318,
         "slow_close": 0.2583546113747726,
         "crossover_long": 0,
         "crossover_short": -1,
         "crossover_signal": -1,
         "fast_vol": 0.0025667611883431816,
         "slow_vol": 0.002507021108909649,
         "vol_trend_long": 0,
         "vol_trend_short": -1,
         "vol_trend_signal": -1,
         "bollinger_mid_band": "nan",
         "bollinger_std": "nan",
         "bollinger_upper_band": "nan",
         "bollinger_lower_band": "nan",
         "bollinger_long": 0,
         "bollinger_short": 0,
         "bollinger_signal": 0,
         "_deepnote_index_column": "2019-09-01T05:00:00.000000"
        },
        {
         "Close": 0.2581000030040741,
         "daily_return": 0,
         "fast_close": 0.2581571468285152,
         "slow_close": 0.2583044995184107,
         "crossover_long": 0,
         "crossover_short": -1,
         "crossover_signal": -1,
         "fast_vol": 0.001791560333342295,
         "slow_vol": 0.002173300412099307,
         "vol_trend_long": 1,
         "vol_trend_short": 0,
         "vol_trend_signal": 1,
         "bollinger_mid_band": "nan",
         "bollinger_std": "nan",
         "bollinger_upper_band": "nan",
         "bollinger_lower_band": "nan",
         "bollinger_long": 0,
         "bollinger_short": 0,
         "bollinger_signal": 0,
         "_deepnote_index_column": "2019-09-01T06:00:00.000000"
        },
        {
         "Close": 0.25850000977516174,
         "daily_return": 0.0015498131206195254,
         "fast_close": 0.2583299281559591,
         "slow_close": 0.2583385572458845,
         "crossover_long": 0,
         "crossover_short": -1,
         "crossover_signal": -1,
         "fast_vol": 0.0016842982001759885,
         "slow_vol": 0.002144013318747332,
         "vol_trend_long": 1,
         "vol_trend_short": 0,
         "vol_trend_signal": 1,
         "bollinger_mid_band": "nan",
         "bollinger_std": "nan",
         "bollinger_upper_band": "nan",
         "bollinger_lower_band": "nan",
         "bollinger_long": 0,
         "bollinger_short": 0,
         "bollinger_signal": 0,
         "_deepnote_index_column": "2019-09-01T07:00:00.000000"
        },
        {
         "Close": 0.2581999897956848,
         "daily_return": -0.001160618832230953,
         "fast_close": 0.2582647041947234,
         "slow_close": 0.25831675663580766,
         "crossover_long": 0,
         "crossover_short": -1,
         "crossover_signal": -1,
         "fast_vol": 0.00162179084577427,
         "slow_vol": 0.0019575940744061557,
         "vol_trend_long": 1,
         "vol_trend_short": 0,
         "vol_trend_signal": 1,
         "bollinger_mid_band": "nan",
         "bollinger_std": "nan",
         "bollinger_upper_band": "nan",
         "bollinger_lower_band": "nan",
         "bollinger_long": 0,
         "bollinger_short": 0,
         "bollinger_signal": 0,
         "_deepnote_index_column": "2019-09-01T08:00:00.000000"
        },
        {
         "Close": 0.2567000091075897,
         "daily_return": -0.005809375473957323,
         "fast_close": 0.2574808256383511,
         "slow_close": 0.25808347576947765,
         "crossover_long": 0,
         "crossover_short": -1,
         "crossover_signal": -1,
         "fast_vol": 0.0035890063157913844,
         "slow_vol": 0.002757201432577227,
         "vol_trend_long": 0,
         "vol_trend_short": -1,
         "vol_trend_signal": -1,
         "bollinger_mid_band": "nan",
         "bollinger_std": "nan",
         "bollinger_upper_band": "nan",
         "bollinger_lower_band": "nan",
         "bollinger_long": 0,
         "bollinger_short": 0,
         "bollinger_signal": 0,
         "_deepnote_index_column": "2019-09-01T09:00:00.000000"
        },
        {
         "Close": 0.2563999891281128,
         "daily_return": -0.001168757182829605,
         "fast_close": 0.2569398791151429,
         "slow_close": 0.25785799964115774,
         "crossover_long": 0,
         "crossover_short": -1,
         "crossover_signal": -1,
         "fast_vol": 0.002782381817095005,
         "slow_vol": 0.0025312474261696013,
         "vol_trend_long": 0,
         "vol_trend_short": -1,
         "vol_trend_signal": -1,
         "bollinger_mid_band": "nan",
         "bollinger_std": "nan",
         "bollinger_upper_band": "nan",
         "bollinger_lower_band": "nan",
         "bollinger_long": 0,
         "bollinger_short": 0,
         "bollinger_signal": 0,
         "_deepnote_index_column": "2019-09-01T10:00:00.000000"
        },
        {
         "Close": 0.2558000087738037,
         "daily_return": -0.0023400170817062804,
         "fast_close": 0.25636966551986623,
         "slow_close": 0.2575996645834885,
         "crossover_long": 0,
         "crossover_short": -1,
         "crossover_signal": -1,
         "fast_vol": 0.001970721250263977,
         "slow_vol": 0.002374468067974882,
         "vol_trend_long": 1,
         "vol_trend_short": 0,
         "vol_trend_signal": 1,
         "bollinger_mid_band": "nan",
         "bollinger_std": "nan",
         "bollinger_upper_band": "nan",
         "bollinger_lower_band": "nan",
         "bollinger_long": 0,
         "bollinger_short": 0,
         "bollinger_signal": 0,
         "_deepnote_index_column": "2019-09-01T11:00:00.000000"
        },
        {
         "Close": 0.2551000118255615,
         "daily_return": -0.002736500876593717,
         "fast_close": 0.2557346836478428,
         "slow_close": 0.2573032471221037,
         "crossover_long": 0,
         "crossover_short": -1,
         "crossover_signal": -1,
         "fast_vol": 0.0014278604002067063,
         "slow_vol": 0.002258884180872623,
         "vol_trend_long": 1,
         "vol_trend_short": 0,
         "vol_trend_signal": 1,
         "bollinger_mid_band": "nan",
         "bollinger_std": "nan",
         "bollinger_upper_band": "nan",
         "bollinger_lower_band": "nan",
         "bollinger_long": 0,
         "bollinger_short": 0,
         "bollinger_signal": 0,
         "_deepnote_index_column": "2019-09-01T12:00:00.000000"
        },
        {
         "Close": 0.2556999921798706,
         "daily_return": 0.0023519416953980965,
         "fast_close": 0.25571733579619904,
         "slow_close": 0.25712245923929794,
         "crossover_long": 0,
         "crossover_short": -1,
         "crossover_signal": -1,
         "fast_vol": 0.003126740484577862,
         "slow_vol": 0.0024931964107773224,
         "vol_trend_long": 0,
         "vol_trend_short": -1,
         "vol_trend_signal": -1,
         "bollinger_mid_band": "nan",
         "bollinger_std": "nan",
         "bollinger_upper_band": "nan",
         "bollinger_lower_band": "nan",
         "bollinger_long": 0,
         "bollinger_short": 0,
         "bollinger_signal": 0,
         "_deepnote_index_column": "2019-09-01T13:00:00.000000"
        },
        {
         "Close": 0.2549000084400177,
         "daily_return": -0.003128602910907219,
         "fast_close": 0.2553086471737344,
         "slow_close": 0.25688282332742396,
         "crossover_long": 0,
         "crossover_short": -1,
         "crossover_signal": -1,
         "fast_vol": 0.0029001152263871868,
         "slow_vol": 0.00243497999939983,
         "vol_trend_long": 0,
         "vol_trend_short": -1,
         "vol_trend_signal": -1,
         "bollinger_mid_band": "nan",
         "bollinger_std": "nan",
         "bollinger_upper_band": "nan",
         "bollinger_lower_band": "nan",
         "bollinger_long": 0,
         "bollinger_short": 0,
         "bollinger_signal": 0,
         "_deepnote_index_column": "2019-09-01T14:00:00.000000"
        },
        {
         "Close": 0.2549999952316284,
         "daily_return": 0.00039225887916849445,
         "fast_close": 0.25515431649288284,
         "slow_close": 0.2566877764926334,
         "crossover_long": 0,
         "crossover_short": -1,
         "crossover_signal": -1,
         "fast_vol": 0.0023848840691620137,
         "slow_vol": 0.0023596576661085596,
         "vol_trend_long": 0,
         "vol_trend_short": -1,
         "vol_trend_signal": -1,
         "bollinger_mid_band": "nan",
         "bollinger_std": "nan",
         "bollinger_upper_band": "nan",
         "bollinger_lower_band": "nan",
         "bollinger_long": 0,
         "bollinger_short": 0,
         "bollinger_signal": 0,
         "_deepnote_index_column": "2019-09-01T15:00:00.000000"
        },
        {
         "Close": 0.25609999895095825,
         "daily_return": 0.004313740156468127,
         "fast_close": 0.2556271649370152,
         "slow_close": 0.25662903846648366,
         "crossover_long": 0,
         "crossover_short": -1,
         "crossover_signal": -1,
         "fast_vol": 0.003450409030537692,
         "slow_vol": 0.0028188233927864117,
         "vol_trend_long": 0,
         "vol_trend_short": -1,
         "vol_trend_signal": -1,
         "bollinger_mid_band": "nan",
         "bollinger_std": "nan",
         "bollinger_upper_band": "nan",
         "bollinger_lower_band": "nan",
         "bollinger_long": 0,
         "bollinger_short": 0,
         "bollinger_signal": 0,
         "_deepnote_index_column": "2019-09-01T16:00:00.000000"
        },
        {
         "Close": 0.2542000114917755,
         "daily_return": -0.0074189280240746225,
         "fast_close": 0.2549135827701955,
         "slow_close": 0.25639404655031933,
         "crossover_long": 0,
         "crossover_short": -1,
         "crossover_signal": -1,
         "fast_vol": 0.006181584405621537,
         "slow_vol": 0.003412695519152194,
         "vol_trend_long": 0,
         "vol_trend_short": -1,
         "vol_trend_signal": -1,
         "bollinger_mid_band": "nan",
         "bollinger_std": "nan",
         "bollinger_upper_band": "nan",
         "bollinger_lower_band": "nan",
         "bollinger_long": 0,
         "bollinger_short": 0,
         "bollinger_signal": 0,
         "_deepnote_index_column": "2019-09-01T17:00:00.000000"
        },
        {
         "Close": 0.2542000114917755,
         "daily_return": 0,
         "fast_close": 0.2545567957699511,
         "slow_close": 0.2561879260024053,
         "crossover_long": 0,
         "crossover_short": -1,
         "crossover_signal": -1,
         "fast_vol": 0.004691171343622685,
         "slow_vol": 0.0032604991558952043,
         "vol_trend_long": 0,
         "vol_trend_short": -1,
         "vol_trend_signal": -1,
         "bollinger_mid_band": "nan",
         "bollinger_std": "nan",
         "bollinger_upper_band": "nan",
         "bollinger_lower_band": "nan",
         "bollinger_long": 0,
         "bollinger_short": 0,
         "bollinger_signal": 0,
         "_deepnote_index_column": "2019-09-01T18:00:00.000000"
        },
        {
         "Close": 0.25519999861717224,
         "daily_return": 0.003933859481470181,
         "fast_close": 0.25487839780696886,
         "slow_close": 0.2560975524732791,
         "crossover_long": 0,
         "crossover_short": -1,
         "crossover_signal": -1,
         "fast_vol": 0.004651380585727328,
         "slow_vol": 0.0034550586234098186,
         "vol_trend_long": 0,
         "vol_trend_short": -1,
         "vol_trend_signal": -1,
         "bollinger_mid_band": "nan",
         "bollinger_std": "nan",
         "bollinger_upper_band": "nan",
         "bollinger_lower_band": "nan",
         "bollinger_long": 0,
         "bollinger_short": 0,
         "bollinger_signal": 0,
         "_deepnote_index_column": "2019-09-01T19:00:00.000000"
        },
        {
         "Close": 0.25589999556541443,
         "daily_return": 0.002742934765028293,
         "fast_close": 0.25538919717332786,
         "slow_close": 0.2560799127464512,
         "crossover_long": 0,
         "crossover_short": -1,
         "crossover_signal": -1,
         "fast_vol": 0.0034102030819775494,
         "slow_vol": 0.003440974914978647,
         "vol_trend_long": 1,
         "vol_trend_short": 0,
         "vol_trend_signal": 1,
         "bollinger_mid_band": 0.2565950021147728,
         "bollinger_std": 0.0015998252383734146,
         "bollinger_upper_band": 0.25819482735314625,
         "bollinger_lower_band": 0.2549951768763994,
         "bollinger_long": 0,
         "bollinger_short": 0,
         "bollinger_signal": 0,
         "_deepnote_index_column": "2019-09-01T20:00:00.000000"
        },
        {
         "Close": 0.2563999891281128,
         "daily_return": 0.0019538631159161657,
         "fast_close": 0.25589459339171206,
         "slow_close": 0.2561078681273868,
         "crossover_long": 0,
         "crossover_short": -1,
         "crossover_signal": -1,
         "fast_vol": 0.002411597022242036,
         "slow_vol": 0.003348885330701782,
         "vol_trend_long": 1,
         "vol_trend_short": 0,
         "vol_trend_signal": 1,
         "bollinger_mid_band": 0.2564600020647049,
         "bollinger_std": 0.001487278332253304,
         "bollinger_upper_band": 0.2579472803969582,
         "bollinger_lower_band": 0.25497272373245156,
         "bollinger_long": 0,
         "bollinger_short": 0,
         "bollinger_signal": 0,
         "_deepnote_index_column": "2019-09-01T21:00:00.000000"
        },
        {
         "Close": 0.25679999589920044,
         "daily_return": 0.0015600888769451426,
         "fast_close": 0.25634729475338863,
         "slow_close": 0.25616711142534077,
         "crossover_long": 1,
         "crossover_short": 0,
         "crossover_signal": 1,
         "fast_vol": 0.001724585325232336,
         "slow_vol": 0.003233996126731805,
         "vol_trend_long": 1,
         "vol_trend_short": 0,
         "vol_trend_signal": 1,
         "bollinger_mid_band": 0.2563800022006035,
         "bollinger_std": 0.0014188945034110624,
         "bollinger_upper_band": 0.2577988967040145,
         "bollinger_lower_band": 0.25496110769719244,
         "bollinger_long": 0,
         "bollinger_short": 0,
         "bollinger_signal": 0,
         "_deepnote_index_column": "2019-09-01T22:00:00.000000"
        },
        {
         "Close": 0.2572999894618988,
         "daily_return": 0.0019470154621599178,
         "fast_close": 0.25682364216442877,
         "slow_close": 0.25626230773633507,
         "crossover_long": 1,
         "crossover_short": 0,
         "crossover_signal": 1,
         "fast_vol": 0.0012242566096903142,
         "slow_vol": 0.0031396298451699983,
         "vol_trend_long": 1,
         "vol_trend_short": 0,
         "vol_trend_signal": 1,
         "bollinger_mid_band": 0.2563550010323524,
         "bollinger_std": 0.0013967898504147053,
         "bollinger_upper_band": 0.2577517908827671,
         "bollinger_lower_band": 0.25495821118193773,
         "bollinger_long": 0,
         "bollinger_short": 0,
         "bollinger_signal": 0,
         "_deepnote_index_column": "2019-09-01T23:00:00.000000"
        },
        {
         "Close": 0.25690001249313354,
         "daily_return": -0.0015545160713055228,
         "fast_close": 0.25686182733105717,
         "slow_close": 0.2563149953528263,
         "crossover_long": 1,
         "crossover_short": 0,
         "crossover_signal": 1,
         "fast_vol": 0.002262319453351069,
         "slow_vol": 0.0030422712769393586,
         "vol_trend_long": 1,
         "vol_trend_short": 0,
         "vol_trend_signal": 1,
         "bollinger_mid_band": 0.256275001168251,
         "bollinger_std": 0.00131063245598088,
         "bollinger_upper_band": 0.2575856336242319,
         "bollinger_lower_band": 0.25496436871227013,
         "bollinger_long": 0,
         "bollinger_short": 0,
         "bollinger_signal": 0,
         "_deepnote_index_column": "2019-09-02T00:00:00.000000"
        },
        {
         "Close": 0.2558000087738037,
         "daily_return": -0.004281835990020522,
         "fast_close": 0.2563309180366081,
         "slow_close": 0.25627310257549746,
         "crossover_long": 1,
         "crossover_short": 0,
         "crossover_signal": 1,
         "fast_vol": 0.0031514102081572214,
         "slow_vol": 0.0031559023649458404,
         "vol_trend_long": 1,
         "vol_trend_short": 0,
         "vol_trend_signal": 1,
         "bollinger_mid_band": 0.2561600014567375,
         "bollinger_std": 0.0012411344271694717,
         "bollinger_upper_band": 0.257401135883907,
         "bollinger_lower_band": 0.254918867029568,
         "bollinger_long": 0,
         "bollinger_short": 0,
         "bollinger_signal": 0,
         "_deepnote_index_column": "2019-09-02T01:00:00.000000"
        },
        {
         "Close": 0.2554999887943268,
         "daily_return": -0.0011728693087819098,
         "fast_close": 0.2559154534092765,
         "slow_close": 0.2562111034096454,
         "crossover_long": 0,
         "crossover_short": -1,
         "crossover_signal": -1,
         "fast_vol": 0.002294356997403094,
         "slow_vol": 0.003031952303392029,
         "vol_trend_long": 1,
         "vol_trend_short": 0,
         "vol_trend_signal": 1,
         "bollinger_mid_band": 0.25603000074625015,
         "bollinger_std": 0.0011608047498028124,
         "bollinger_upper_band": 0.25719080549605294,
         "bollinger_lower_band": 0.25486919599644736,
         "bollinger_long": 0,
         "bollinger_short": 0,
         "bollinger_signal": 0,
         "_deepnote_index_column": "2019-09-02T02:00:00.000000"
        }
       ],
       "rows_bottom": [
        {
         "Close": 0.8194264769554138,
         "daily_return": 0.012064506482826198,
         "fast_close": 0.8150679857400793,
         "slow_close": 0.8057095761603701,
         "crossover_long": 1,
         "crossover_short": 0,
         "crossover_signal": 1,
         "fast_vol": 0.010595839258392897,
         "slow_vol": 0.00917352082605658,
         "vol_trend_long": 0,
         "vol_trend_short": -1,
         "vol_trend_signal": -1,
         "bollinger_mid_band": 0.8081960171461106,
         "bollinger_std": 0.012436217681012083,
         "bollinger_upper_band": 0.8206322348271227,
         "bollinger_lower_band": 0.7957597994650984,
         "bollinger_long": 0,
         "bollinger_short": 0,
         "bollinger_signal": 0,
         "_deepnote_index_column": "2021-08-09T23:00:00.000000"
        },
        {
         "Close": 0.8185535073280334,
         "daily_return": -0.0010653422264604862,
         "fast_close": 0.8168107465340564,
         "slow_close": 0.8065696958075756,
         "crossover_long": 1,
         "crossover_short": 0,
         "crossover_signal": 1,
         "fast_vol": 0.008476352136545065,
         "slow_vol": 0.008880896834162575,
         "vol_trend_long": 1,
         "vol_trend_short": 0,
         "vol_trend_signal": 1,
         "bollinger_mid_band": 0.809993126988411,
         "bollinger_std": 0.011065924476937211,
         "bollinger_upper_band": 0.8210590514653482,
         "bollinger_lower_band": 0.7989272025114738,
         "bollinger_long": 0,
         "bollinger_short": 0,
         "bollinger_signal": 0,
         "_deepnote_index_column": "2021-08-10T00:00:00.000000"
        },
        {
         "Close": 0.8124653100967407,
         "daily_return": -0.007437751077710386,
         "fast_close": 0.8146380283153986,
         "slow_close": 0.8069645074595738,
         "crossover_long": 1,
         "crossover_short": 0,
         "crossover_signal": 1,
         "fast_vol": 0.008399322958378993,
         "slow_vol": 0.008849827999773827,
         "vol_trend_long": 1,
         "vol_trend_short": 0,
         "vol_trend_signal": 1,
         "bollinger_mid_band": 0.8108711898326874,
         "bollinger_std": 0.010487211913748896,
         "bollinger_upper_band": 0.8213584017464363,
         "bollinger_lower_band": 0.8003839779189384,
         "bollinger_long": 0,
         "bollinger_short": 0,
         "bollinger_signal": 0,
         "_deepnote_index_column": "2021-08-10T01:00:00.000000"
        },
        {
         "Close": 0.811424195766449,
         "daily_return": -0.001281426194267632,
         "fast_close": 0.8130311120409237,
         "slow_close": 0.8072631594441636,
         "crossover_long": 1,
         "crossover_short": 0,
         "crossover_signal": 1,
         "fast_vol": 0.005996635146101231,
         "slow_vol": 0.0085609083415041,
         "vol_trend_long": 1,
         "vol_trend_short": 0,
         "vol_trend_signal": 1,
         "bollinger_mid_band": 0.8120360404253006,
         "bollinger_std": 0.009019070826903402,
         "bollinger_upper_band": 0.8210551112522041,
         "bollinger_lower_band": 0.8030169695983972,
         "bollinger_long": 0,
         "bollinger_short": 0,
         "bollinger_signal": 0,
         "_deepnote_index_column": "2021-08-10T02:00:00.000000"
        },
        {
         "Close": 0.8144153356552124,
         "daily_return": 0.0036862838258575614,
         "fast_close": 0.8137232238480681,
         "slow_close": 0.8077421192890192,
         "crossover_long": 1,
         "crossover_short": 0,
         "crossover_signal": 1,
         "fast_vol": 0.005470266402045871,
         "slow_vol": 0.008311011621752188,
         "vol_trend_long": 1,
         "vol_trend_short": 0,
         "vol_trend_signal": 1,
         "bollinger_mid_band": 0.8133919715881348,
         "bollinger_std": 0.006891584651783501,
         "bollinger_upper_band": 0.8202835562399183,
         "bollinger_lower_band": 0.8065003869363513,
         "bollinger_long": 0,
         "bollinger_short": 0,
         "bollinger_signal": 0,
         "_deepnote_index_column": "2021-08-10T03:00:00.000000"
        },
        {
         "Close": 0.8044356107711792,
         "daily_return": -0.01225385187031669,
         "fast_close": 0.8090794173096236,
         "slow_close": 0.8075206923051214,
         "crossover_long": 1,
         "crossover_short": 0,
         "crossover_signal": 1,
         "fast_vol": 0.008916038338111587,
         "slow_vol": 0.008671872401732585,
         "vol_trend_long": 0,
         "vol_trend_short": -1,
         "vol_trend_signal": -1,
         "bollinger_mid_band": 0.813774687051773,
         "bollinger_std": 0.0060860386259433755,
         "bollinger_upper_band": 0.8198607256777164,
         "bollinger_lower_band": 0.8076886484258297,
         "bollinger_long": 1,
         "bollinger_short": 0,
         "bollinger_signal": 1,
         "_deepnote_index_column": "2021-08-10T04:00:00.000000"
        },
        {
         "Close": 0.8098970651626587,
         "daily_return": 0.006789175315403906,
         "fast_close": 0.8094882412361412,
         "slow_close": 0.8076798308863837,
         "crossover_long": 1,
         "crossover_short": 0,
         "crossover_signal": 1,
         "fast_vol": 0.009909111469604553,
         "slow_vol": 0.008564557189766349,
         "vol_trend_long": 0,
         "vol_trend_short": -1,
         "vol_trend_signal": -1,
         "bollinger_mid_band": 0.8143605083227158,
         "bollinger_std": 0.004967024767695037,
         "bollinger_upper_band": 0.8193275330904108,
         "bollinger_lower_band": 0.8093934835550207,
         "bollinger_long": 0,
         "bollinger_short": 0,
         "bollinger_signal": 0,
         "_deepnote_index_column": "2021-08-10T05:00:00.000000"
        },
        {
         "Close": 0.8105202913284302,
         "daily_return": 0.0007695128091942394,
         "fast_close": 0.8100042662822857,
         "slow_close": 0.8078700480248455,
         "crossover_long": 1,
         "crossover_short": 0,
         "crossover_signal": 1,
         "fast_vol": 0.007008121851160518,
         "slow_vol": 0.008273902305663659,
         "vol_trend_long": 1,
         "vol_trend_short": 0,
         "vol_trend_signal": 1,
         "bollinger_mid_band": 0.8144044578075409,
         "bollinger_std": 0.004926796169624537,
         "bollinger_upper_band": 0.8193312539771654,
         "bollinger_lower_band": 0.8094776616379163,
         "bollinger_long": 0,
         "bollinger_short": 0,
         "bollinger_signal": 0,
         "_deepnote_index_column": "2021-08-10T06:00:00.000000"
        },
        {
         "Close": 0.8169611692428589,
         "daily_return": 0.007946596751911228,
         "fast_close": 0.8134827177625723,
         "slow_close": 0.8084788532163921,
         "crossover_long": 1,
         "crossover_short": 0,
         "crossover_signal": 1,
         "fast_vol": 0.006669047328596292,
         "slow_vol": 0.00822674471048597,
         "vol_trend_long": 1,
         "vol_trend_short": 0,
         "vol_trend_signal": 1,
         "bollinger_mid_band": 0.814404445886612,
         "bollinger_std": 0.00492678965746305,
         "bollinger_upper_band": 0.819331235544075,
         "bollinger_lower_band": 0.8094776562291489,
         "bollinger_long": 0,
         "bollinger_short": 0,
         "bollinger_signal": 0,
         "_deepnote_index_column": "2021-08-10T07:00:00.000000"
        },
        {
         "Close": 0.8193774223327637,
         "daily_return": 0.0029576106929831703,
         "fast_close": 0.816430070047668,
         "slow_close": 0.8092086977866448,
         "crossover_long": 1,
         "crossover_short": 0,
         "crossover_signal": 1,
         "fast_vol": 0.004787103039404198,
         "slow_vol": 0.007965595832791298,
         "vol_trend_long": 1,
         "vol_trend_short": 0,
         "vol_trend_signal": 1,
         "bollinger_mid_band": 0.8144045144319534,
         "bollinger_std": 0.00492686247578254,
         "bollinger_upper_band": 0.8193313769077359,
         "bollinger_lower_band": 0.8094776519561708,
         "bollinger_long": 0,
         "bollinger_short": -1,
         "bollinger_signal": -1,
         "_deepnote_index_column": "2021-08-10T08:00:00.000000"
        },
        {
         "Close": 0.8201133012771606,
         "daily_return": 0.0008980952175883239,
         "fast_close": 0.8182716856624144,
         "slow_close": 0.8099389464608819,
         "crossover_long": 1,
         "crossover_short": 0,
         "crossover_signal": 1,
         "fast_vol": 0.0037758464622708525,
         "slow_vol": 0.007694264640391953,
         "vol_trend_long": 1,
         "vol_trend_short": 0,
         "vol_trend_signal": 1,
         "bollinger_mid_band": 0.8145795136690139,
         "bollinger_std": 0.005069539837417832,
         "bollinger_upper_band": 0.8196490535064318,
         "bollinger_lower_band": 0.8095099738315961,
         "bollinger_long": 0,
         "bollinger_short": -1,
         "bollinger_signal": -1,
         "_deepnote_index_column": "2021-08-10T09:00:00.000000"
        },
        {
         "Close": 0.8198803067207336,
         "daily_return": -0.000284100448150415,
         "fast_close": 0.819075996191574,
         "slow_close": 0.8106046896175391,
         "crossover_long": 1,
         "crossover_short": 0,
         "crossover_signal": 1,
         "fast_vol": 0.003092483106607915,
         "slow_vol": 0.0074386282731375725,
         "vol_trend_long": 1,
         "vol_trend_short": 0,
         "vol_trend_signal": 1,
         "bollinger_mid_band": 0.8149940371513367,
         "bollinger_std": 0.005150514003926809,
         "bollinger_upper_band": 0.8201445511552635,
         "bollinger_lower_band": 0.8098435231474098,
         "bollinger_long": 0,
         "bollinger_short": 0,
         "bollinger_signal": 0,
         "_deepnote_index_column": "2021-08-10T10:00:00.000000"
        },
        {
         "Close": 0.807433009147644,
         "daily_return": -0.015181847241672264,
         "fast_close": 0.813254502669609,
         "slow_close": 0.810392291664669,
         "crossover_long": 1,
         "crossover_short": 0,
         "crossover_signal": 1,
         "fast_vol": 0.010141735276083797,
         "slow_vol": 0.008262467668631021,
         "vol_trend_long": 0,
         "vol_trend_short": -1,
         "vol_trend_signal": -1,
         "bollinger_mid_band": 0.814715114235878,
         "bollinger_std": 0.005408135672600951,
         "bollinger_upper_band": 0.8201232499084788,
         "bollinger_lower_band": 0.809306978563277,
         "bollinger_long": 1,
         "bollinger_short": 0,
         "bollinger_signal": 1,
         "_deepnote_index_column": "2021-08-10T11:00:00.000000"
        },
        {
         "Close": 0.8152583837509155,
         "daily_return": 0.009691670410567177,
         "fast_close": 0.8142564432102622,
         "slow_close": 0.8107181592945913,
         "crossover_long": 1,
         "crossover_short": 0,
         "crossover_signal": 1,
         "fast_vol": 0.012534401834201948,
         "slow_vol": 0.00837000284370803,
         "vol_trend_long": 0,
         "vol_trend_short": -1,
         "vol_trend_signal": -1,
         "bollinger_mid_band": 0.8144561231136322,
         "bollinger_std": 0.0052410853123122415,
         "bollinger_upper_band": 0.8196972084259445,
         "bollinger_lower_band": 0.80921503780132,
         "bollinger_long": 0,
         "bollinger_short": 0,
         "bollinger_signal": 0,
         "_deepnote_index_column": "2021-08-10T12:00:00.000000"
        },
        {
         "Close": 0.8490090370178223,
         "daily_return": 0.041398719644713866,
         "fast_close": 0.8316327401140422,
         "slow_close": 0.813282384827146,
         "crossover_long": 1,
         "crossover_short": 0,
         "crossover_signal": 1,
         "fast_vol": 0.026107181443958537,
         "slow_vol": 0.013188451057048236,
         "vol_trend_long": 0,
         "vol_trend_short": -1,
         "vol_trend_signal": -1,
         "bollinger_mid_band": 0.8160503447055817,
         "bollinger_std": 0.009341088471515907,
         "bollinger_upper_band": 0.8253914331770976,
         "bollinger_lower_band": 0.8067092562340658,
         "bollinger_long": 0,
         "bollinger_short": -1,
         "bollinger_signal": -1,
         "_deepnote_index_column": "2021-08-10T13:00:00.000000"
        },
        {
         "Close": 0.8354390263557434,
         "daily_return": -0.015983352438442844,
         "fast_close": 0.8335358832348928,
         "slow_close": 0.8147661488279074,
         "crossover_long": 1,
         "crossover_short": 0,
         "crossover_signal": 1,
         "fast_vol": 0.029383871713500754,
         "slow_vol": 0.013640728540266614,
         "vol_trend_long": 0,
         "vol_trend_short": -1,
         "vol_trend_signal": -1,
         "bollinger_mid_band": 0.8169028699398041,
         "bollinger_std": 0.010295069494230452,
         "bollinger_upper_band": 0.8271979394340345,
         "bollinger_lower_band": 0.8066078004455737,
         "bollinger_long": 0,
         "bollinger_short": -1,
         "bollinger_signal": -1,
         "_deepnote_index_column": "2021-08-10T14:00:00.000000"
        },
        {
         "Close": 0.8288268446922302,
         "daily_return": -0.00791461908639357,
         "fast_close": 0.8311813639635615,
         "slow_close": 0.8157077515668519,
         "crossover_long": 1,
         "crossover_short": 0,
         "crossover_signal": 1,
         "fast_vol": 0.021767356959426186,
         "slow_vol": 0.013410656216383076,
         "vol_trend_long": 0,
         "vol_trend_short": -1,
         "vol_trend_signal": -1,
         "bollinger_mid_band": 0.8172257602214813,
         "bollinger_std": 0.01057304832882547,
         "bollinger_upper_band": 0.8277988085503067,
         "bollinger_lower_band": 0.8066527118926559,
         "bollinger_long": 0,
         "bollinger_short": -1,
         "bollinger_signal": -1,
         "_deepnote_index_column": "2021-08-10T15:00:00.000000"
        },
        {
         "Close": 0.8237518072128296,
         "daily_return": -0.00612315770404992,
         "fast_close": 0.8274665855881955,
         "slow_close": 0.8162464379093745,
         "crossover_long": 1,
         "crossover_short": 0,
         "crossover_signal": 1,
         "fast_vol": 0.015540954865276275,
         "slow_vol": 0.013088740326170788,
         "vol_trend_long": 0,
         "vol_trend_short": -1,
         "vol_trend_signal": -1,
         "bollinger_mid_band": 0.8176218926906585,
         "bollinger_std": 0.010665976503617183,
         "bollinger_upper_band": 0.8282878691942758,
         "bollinger_lower_band": 0.8069559161870413,
         "bollinger_long": 0,
         "bollinger_short": 0,
         "bollinger_signal": 0,
         "_deepnote_index_column": "2021-08-10T16:00:00.000000"
        },
        {
         "Close": 0.8138244152069092,
         "daily_return": -0.012051435783200004,
         "fast_close": 0.8206455003975524,
         "slow_close": 0.8160842422945604,
         "crossover_long": 1,
         "crossover_short": 0,
         "crossover_signal": 1,
         "fast_vol": 0.01195364058355378,
         "slow_vol": 0.013055686764425076,
         "vol_trend_long": 1,
         "vol_trend_short": 0,
         "vol_trend_signal": 1,
         "bollinger_mid_band": 0.818033543229103,
         "bollinger_std": 0.010330835562745366,
         "bollinger_upper_band": 0.8283643787918484,
         "bollinger_lower_band": 0.8077027076663577,
         "bollinger_long": 0,
         "bollinger_short": 0,
         "bollinger_signal": 0,
         "_deepnote_index_column": "2021-08-10T17:00:00.000000"
        },
        {
         "Close": 0.81997150182724,
         "daily_return": 0.007553332764989484,
         "fast_close": 0.8203085011123962,
         "slow_close": 0.816344560436584,
         "crossover_long": 1,
         "crossover_short": 0,
         "crossover_signal": 1,
         "fast_vol": 0.01283089924887155,
         "slow_vol": 0.01276064018202642,
         "vol_trend_long": 0,
         "vol_trend_short": -1,
         "vol_trend_signal": -1,
         "bollinger_mid_band": 0.8185492008924484,
         "bollinger_std": 0.010146533881443046,
         "bollinger_upper_band": 0.8286957347738915,
         "bollinger_lower_band": 0.8084026670110054,
         "bollinger_long": 0,
         "bollinger_short": 0,
         "bollinger_signal": 0,
         "_deepnote_index_column": "2021-08-10T18:00:00.000000"
        },
        {
         "Close": 0.8261918425559998,
         "daily_return": 0.007586045020952836,
         "fast_close": 0.823250171834198,
         "slow_close": 0.8170040034616144,
         "crossover_long": 1,
         "crossover_short": 0,
         "crossover_signal": 1,
         "fast_vol": 0.010286232026429936,
         "slow_vol": 0.012460567703624395,
         "vol_trend_long": 1,
         "vol_trend_short": 0,
         "vol_trend_signal": 1,
         "bollinger_mid_band": 0.8188874691724777,
         "bollinger_std": 0.010289091556389315,
         "bollinger_upper_band": 0.829176560728867,
         "bollinger_lower_band": 0.8085983776160883,
         "bollinger_long": 0,
         "bollinger_short": 0,
         "bollinger_signal": 0,
         "_deepnote_index_column": "2021-08-10T19:00:00.000000"
        },
        {
         "Close": 0.8347495198249817,
         "daily_return": 0.01035797841153574,
         "fast_close": 0.8289998458295899,
         "slow_close": 0.8181923676061037,
         "crossover_long": 1,
         "crossover_short": 0,
         "crossover_signal": 1,
         "fast_vol": 0.008359686462008192,
         "slow_vol": 0.012274913470932288,
         "vol_trend_long": 1,
         "vol_trend_short": 0,
         "vol_trend_signal": 1,
         "bollinger_mid_band": 0.8196972697973252,
         "bollinger_std": 0.010881709123228315,
         "bollinger_upper_band": 0.8305789789205534,
         "bollinger_lower_band": 0.8088155606740969,
         "bollinger_long": 0,
         "bollinger_short": -1,
         "bollinger_signal": -1,
         "_deepnote_index_column": "2021-08-10T20:00:00.000000"
        },
        {
         "Close": 0.8428434133529663,
         "daily_return": 0.009696194290332194,
         "fast_close": 0.8359216295912781,
         "slow_close": 0.8198431743952604,
         "crossover_long": 1,
         "crossover_short": 0,
         "crossover_signal": 1,
         "fast_vol": 0.006138541267780122,
         "slow_vol": 0.012037799606393371,
         "vol_trend_long": 1,
         "vol_trend_short": 0,
         "vol_trend_signal": 1,
         "bollinger_mid_band": 0.8212161749601364,
         "bollinger_std": 0.011892327331704282,
         "bollinger_upper_band": 0.8331085022918407,
         "bollinger_lower_band": 0.8093238476284321,
         "bollinger_long": 0,
         "bollinger_short": -1,
         "bollinger_signal": -1,
         "_deepnote_index_column": "2021-08-10T21:00:00.000000"
        },
        {
         "Close": 0.8587751984596252,
         "daily_return": 0.01890242582934798,
         "fast_close": 0.8473484140254517,
         "slow_close": 0.8224503355802679,
         "crossover_long": 1,
         "crossover_short": 0,
         "crossover_signal": 1,
         "fast_vol": 0.007787159843224903,
         "slow_vol": 0.01239134128642874,
         "vol_trend_long": 1,
         "vol_trend_short": 0,
         "vol_trend_signal": 1,
         "bollinger_mid_band": 0.8235837250947953,
         "bollinger_std": 0.014308284414478697,
         "bollinger_upper_band": 0.837892009509274,
         "bollinger_lower_band": 0.8092754406803165,
         "bollinger_long": 0,
         "bollinger_short": -1,
         "bollinger_signal": -1,
         "_deepnote_index_column": "2021-08-10T22:00:00.000000"
        },
        {
         "Close": 0.8522931933403015,
         "daily_return": -0.0075479649749439215,
         "fast_close": 0.8498208036828766,
         "slow_close": 0.82444882248845,
         "crossover_long": 1,
         "crossover_short": 0,
         "crossover_signal": 1,
         "fast_vol": 0.014085741184632189,
         "slow_vol": 0.012277399121715382,
         "vol_trend_long": 0,
         "vol_trend_short": -1,
         "vol_trend_signal": -1,
         "bollinger_mid_band": 0.8254776179790497,
         "bollinger_std": 0.015488961522237844,
         "bollinger_upper_band": 0.8409665795012876,
         "bollinger_lower_band": 0.8099886564568118,
         "bollinger_long": 0,
         "bollinger_short": -1,
         "bollinger_signal": -1,
         "_deepnote_index_column": "2021-08-10T23:00:00.000000"
        },
        {
         "Close": 0.8512465357780457,
         "daily_return": -0.001228048716608643,
         "fast_close": 0.8505336697304611,
         "slow_close": 0.8262433851811086,
         "crossover_long": 1,
         "crossover_short": 0,
         "crossover_signal": 1,
         "fast_vol": 0.010296997464263298,
         "slow_vol": 0.011896581584323522,
         "vol_trend_long": 1,
         "vol_trend_short": 0,
         "vol_trend_signal": 1,
         "bollinger_mid_band": 0.827818164229393,
         "bollinger_std": 0.015677604835032583,
         "bollinger_upper_band": 0.8434957690644256,
         "bollinger_lower_band": 0.8121405593943605,
         "bollinger_long": 0,
         "bollinger_short": -1,
         "bollinger_signal": -1,
         "_deepnote_index_column": "2021-08-11T00:00:00.000000"
        }
       ]
      },
      "text/plain": "                              Close  daily_return  fast_close  slow_close  \\\n2019-09-01 01:00:00+01:00  0.259100           NaN    0.259100    0.259100   \n2019-09-01 02:00:00+01:00  0.258400     -0.002702    0.258633    0.258738   \n2019-09-01 03:00:00+01:00  0.257800     -0.002322    0.258157    0.258403   \n2019-09-01 04:00:00+01:00  0.258500      0.002715    0.258340    0.258430   \n2019-09-01 05:00:00+01:00  0.258100     -0.001547    0.258216    0.258355   \n...                             ...           ...         ...         ...   \n2021-08-10 20:00:00+01:00  0.834750      0.010358    0.829000    0.818192   \n2021-08-10 21:00:00+01:00  0.842843      0.009696    0.835922    0.819843   \n2021-08-10 22:00:00+01:00  0.858775      0.018902    0.847348    0.822450   \n2021-08-10 23:00:00+01:00  0.852293     -0.007548    0.849821    0.824449   \n2021-08-11 00:00:00+01:00  0.851247     -0.001228    0.850534    0.826243   \n\n                           crossover_long  crossover_short  crossover_signal  \\\n2019-09-01 01:00:00+01:00             0.0              0.0               0.0   \n2019-09-01 02:00:00+01:00             0.0             -1.0              -1.0   \n2019-09-01 03:00:00+01:00             0.0             -1.0              -1.0   \n2019-09-01 04:00:00+01:00             0.0             -1.0              -1.0   \n2019-09-01 05:00:00+01:00             0.0             -1.0              -1.0   \n...                                   ...              ...               ...   \n2021-08-10 20:00:00+01:00             1.0              0.0               1.0   \n2021-08-10 21:00:00+01:00             1.0              0.0               1.0   \n2021-08-10 22:00:00+01:00             1.0              0.0               1.0   \n2021-08-10 23:00:00+01:00             1.0              0.0               1.0   \n2021-08-11 00:00:00+01:00             1.0              0.0               1.0   \n\n                           fast_vol  slow_vol  vol_trend_long  \\\n2019-09-01 01:00:00+01:00       NaN       NaN             0.0   \n2019-09-01 02:00:00+01:00       NaN       NaN             0.0   \n2019-09-01 03:00:00+01:00  0.000269  0.000269             0.0   \n2019-09-01 04:00:00+01:00  0.003384  0.003071             0.0   \n2019-09-01 05:00:00+01:00  0.002567  0.002507             0.0   \n...                             ...       ...             ...   \n2021-08-10 20:00:00+01:00  0.008360  0.012275             1.0   \n2021-08-10 21:00:00+01:00  0.006139  0.012038             1.0   \n2021-08-10 22:00:00+01:00  0.007787  0.012391             1.0   \n2021-08-10 23:00:00+01:00  0.014086  0.012277             0.0   \n2021-08-11 00:00:00+01:00  0.010297  0.011897             1.0   \n\n                           vol_trend_short  vol_trend_signal  \\\n2019-09-01 01:00:00+01:00              0.0               0.0   \n2019-09-01 02:00:00+01:00              0.0               0.0   \n2019-09-01 03:00:00+01:00             -1.0              -1.0   \n2019-09-01 04:00:00+01:00             -1.0              -1.0   \n2019-09-01 05:00:00+01:00             -1.0              -1.0   \n...                                    ...               ...   \n2021-08-10 20:00:00+01:00              0.0               1.0   \n2021-08-10 21:00:00+01:00              0.0               1.0   \n2021-08-10 22:00:00+01:00              0.0               1.0   \n2021-08-10 23:00:00+01:00             -1.0              -1.0   \n2021-08-11 00:00:00+01:00              0.0               1.0   \n\n                           bollinger_mid_band  bollinger_std  \\\n2019-09-01 01:00:00+01:00                 NaN            NaN   \n2019-09-01 02:00:00+01:00                 NaN            NaN   \n2019-09-01 03:00:00+01:00                 NaN            NaN   \n2019-09-01 04:00:00+01:00                 NaN            NaN   \n2019-09-01 05:00:00+01:00                 NaN            NaN   \n...                                       ...            ...   \n2021-08-10 20:00:00+01:00            0.819697       0.010882   \n2021-08-10 21:00:00+01:00            0.821216       0.011892   \n2021-08-10 22:00:00+01:00            0.823584       0.014308   \n2021-08-10 23:00:00+01:00            0.825478       0.015489   \n2021-08-11 00:00:00+01:00            0.827818       0.015678   \n\n                           bollinger_upper_band  bollinger_lower_band  \\\n2019-09-01 01:00:00+01:00                   NaN                   NaN   \n2019-09-01 02:00:00+01:00                   NaN                   NaN   \n2019-09-01 03:00:00+01:00                   NaN                   NaN   \n2019-09-01 04:00:00+01:00                   NaN                   NaN   \n2019-09-01 05:00:00+01:00                   NaN                   NaN   \n...                                         ...                   ...   \n2021-08-10 20:00:00+01:00              0.830579              0.808816   \n2021-08-10 21:00:00+01:00              0.833109              0.809324   \n2021-08-10 22:00:00+01:00              0.837892              0.809275   \n2021-08-10 23:00:00+01:00              0.840967              0.809989   \n2021-08-11 00:00:00+01:00              0.843496              0.812141   \n\n                           bollinger_long  bollinger_short  bollinger_signal  \n2019-09-01 01:00:00+01:00             0.0              0.0               0.0  \n2019-09-01 02:00:00+01:00             0.0              0.0               0.0  \n2019-09-01 03:00:00+01:00             0.0              0.0               0.0  \n2019-09-01 04:00:00+01:00             0.0              0.0               0.0  \n2019-09-01 05:00:00+01:00             0.0              0.0               0.0  \n...                                   ...              ...               ...  \n2021-08-10 20:00:00+01:00             0.0             -1.0              -1.0  \n2021-08-10 21:00:00+01:00             0.0             -1.0              -1.0  \n2021-08-10 22:00:00+01:00             0.0             -1.0              -1.0  \n2021-08-10 23:00:00+01:00             0.0             -1.0              -1.0  \n2021-08-11 00:00:00+01:00             0.0             -1.0              -1.0  \n\n[17000 rows x 19 columns]",
      "text/html": "<div>\n<style scoped>\n    .dataframe tbody tr th:only-of-type {\n        vertical-align: middle;\n    }\n\n    .dataframe tbody tr th {\n        vertical-align: top;\n    }\n\n    .dataframe thead th {\n        text-align: right;\n    }\n</style>\n<table border=\"1\" class=\"dataframe\">\n  <thead>\n    <tr style=\"text-align: right;\">\n      <th></th>\n      <th>Close</th>\n      <th>daily_return</th>\n      <th>fast_close</th>\n      <th>slow_close</th>\n      <th>crossover_long</th>\n      <th>crossover_short</th>\n      <th>crossover_signal</th>\n      <th>fast_vol</th>\n      <th>slow_vol</th>\n      <th>vol_trend_long</th>\n      <th>vol_trend_short</th>\n      <th>vol_trend_signal</th>\n      <th>bollinger_mid_band</th>\n      <th>bollinger_std</th>\n      <th>bollinger_upper_band</th>\n      <th>bollinger_lower_band</th>\n      <th>bollinger_long</th>\n      <th>bollinger_short</th>\n      <th>bollinger_signal</th>\n    </tr>\n  </thead>\n  <tbody>\n    <tr>\n      <th>2019-09-01 01:00:00+01:00</th>\n      <td>0.259100</td>\n      <td>NaN</td>\n      <td>0.259100</td>\n      <td>0.259100</td>\n      <td>0.0</td>\n      <td>0.0</td>\n      <td>0.0</td>\n      <td>NaN</td>\n      <td>NaN</td>\n      <td>0.0</td>\n      <td>0.0</td>\n      <td>0.0</td>\n      <td>NaN</td>\n      <td>NaN</td>\n      <td>NaN</td>\n      <td>NaN</td>\n      <td>0.0</td>\n      <td>0.0</td>\n      <td>0.0</td>\n    </tr>\n    <tr>\n      <th>2019-09-01 02:00:00+01:00</th>\n      <td>0.258400</td>\n      <td>-0.002702</td>\n      <td>0.258633</td>\n      <td>0.258738</td>\n      <td>0.0</td>\n      <td>-1.0</td>\n      <td>-1.0</td>\n      <td>NaN</td>\n      <td>NaN</td>\n      <td>0.0</td>\n      <td>0.0</td>\n      <td>0.0</td>\n      <td>NaN</td>\n      <td>NaN</td>\n      <td>NaN</td>\n      <td>NaN</td>\n      <td>0.0</td>\n      <td>0.0</td>\n      <td>0.0</td>\n    </tr>\n    <tr>\n      <th>2019-09-01 03:00:00+01:00</th>\n      <td>0.257800</td>\n      <td>-0.002322</td>\n      <td>0.258157</td>\n      <td>0.258403</td>\n      <td>0.0</td>\n      <td>-1.0</td>\n      <td>-1.0</td>\n      <td>0.000269</td>\n      <td>0.000269</td>\n      <td>0.0</td>\n      <td>-1.0</td>\n      <td>-1.0</td>\n      <td>NaN</td>\n      <td>NaN</td>\n      <td>NaN</td>\n      <td>NaN</td>\n      <td>0.0</td>\n      <td>0.0</td>\n      <td>0.0</td>\n    </tr>\n    <tr>\n      <th>2019-09-01 04:00:00+01:00</th>\n      <td>0.258500</td>\n      <td>0.002715</td>\n      <td>0.258340</td>\n      <td>0.258430</td>\n      <td>0.0</td>\n      <td>-1.0</td>\n      <td>-1.0</td>\n      <td>0.003384</td>\n      <td>0.003071</td>\n      <td>0.0</td>\n      <td>-1.0</td>\n      <td>-1.0</td>\n      <td>NaN</td>\n      <td>NaN</td>\n      <td>NaN</td>\n      <td>NaN</td>\n      <td>0.0</td>\n      <td>0.0</td>\n      <td>0.0</td>\n    </tr>\n    <tr>\n      <th>2019-09-01 05:00:00+01:00</th>\n      <td>0.258100</td>\n      <td>-0.001547</td>\n      <td>0.258216</td>\n      <td>0.258355</td>\n      <td>0.0</td>\n      <td>-1.0</td>\n      <td>-1.0</td>\n      <td>0.002567</td>\n      <td>0.002507</td>\n      <td>0.0</td>\n      <td>-1.0</td>\n      <td>-1.0</td>\n      <td>NaN</td>\n      <td>NaN</td>\n      <td>NaN</td>\n      <td>NaN</td>\n      <td>0.0</td>\n      <td>0.0</td>\n      <td>0.0</td>\n    </tr>\n    <tr>\n      <th>...</th>\n      <td>...</td>\n      <td>...</td>\n      <td>...</td>\n      <td>...</td>\n      <td>...</td>\n      <td>...</td>\n      <td>...</td>\n      <td>...</td>\n      <td>...</td>\n      <td>...</td>\n      <td>...</td>\n      <td>...</td>\n      <td>...</td>\n      <td>...</td>\n      <td>...</td>\n      <td>...</td>\n      <td>...</td>\n      <td>...</td>\n      <td>...</td>\n    </tr>\n    <tr>\n      <th>2021-08-10 20:00:00+01:00</th>\n      <td>0.834750</td>\n      <td>0.010358</td>\n      <td>0.829000</td>\n      <td>0.818192</td>\n      <td>1.0</td>\n      <td>0.0</td>\n      <td>1.0</td>\n      <td>0.008360</td>\n      <td>0.012275</td>\n      <td>1.0</td>\n      <td>0.0</td>\n      <td>1.0</td>\n      <td>0.819697</td>\n      <td>0.010882</td>\n      <td>0.830579</td>\n      <td>0.808816</td>\n      <td>0.0</td>\n      <td>-1.0</td>\n      <td>-1.0</td>\n    </tr>\n    <tr>\n      <th>2021-08-10 21:00:00+01:00</th>\n      <td>0.842843</td>\n      <td>0.009696</td>\n      <td>0.835922</td>\n      <td>0.819843</td>\n      <td>1.0</td>\n      <td>0.0</td>\n      <td>1.0</td>\n      <td>0.006139</td>\n      <td>0.012038</td>\n      <td>1.0</td>\n      <td>0.0</td>\n      <td>1.0</td>\n      <td>0.821216</td>\n      <td>0.011892</td>\n      <td>0.833109</td>\n      <td>0.809324</td>\n      <td>0.0</td>\n      <td>-1.0</td>\n      <td>-1.0</td>\n    </tr>\n    <tr>\n      <th>2021-08-10 22:00:00+01:00</th>\n      <td>0.858775</td>\n      <td>0.018902</td>\n      <td>0.847348</td>\n      <td>0.822450</td>\n      <td>1.0</td>\n      <td>0.0</td>\n      <td>1.0</td>\n      <td>0.007787</td>\n      <td>0.012391</td>\n      <td>1.0</td>\n      <td>0.0</td>\n      <td>1.0</td>\n      <td>0.823584</td>\n      <td>0.014308</td>\n      <td>0.837892</td>\n      <td>0.809275</td>\n      <td>0.0</td>\n      <td>-1.0</td>\n      <td>-1.0</td>\n    </tr>\n    <tr>\n      <th>2021-08-10 23:00:00+01:00</th>\n      <td>0.852293</td>\n      <td>-0.007548</td>\n      <td>0.849821</td>\n      <td>0.824449</td>\n      <td>1.0</td>\n      <td>0.0</td>\n      <td>1.0</td>\n      <td>0.014086</td>\n      <td>0.012277</td>\n      <td>0.0</td>\n      <td>-1.0</td>\n      <td>-1.0</td>\n      <td>0.825478</td>\n      <td>0.015489</td>\n      <td>0.840967</td>\n      <td>0.809989</td>\n      <td>0.0</td>\n      <td>-1.0</td>\n      <td>-1.0</td>\n    </tr>\n    <tr>\n      <th>2021-08-11 00:00:00+01:00</th>\n      <td>0.851247</td>\n      <td>-0.001228</td>\n      <td>0.850534</td>\n      <td>0.826243</td>\n      <td>1.0</td>\n      <td>0.0</td>\n      <td>1.0</td>\n      <td>0.010297</td>\n      <td>0.011897</td>\n      <td>1.0</td>\n      <td>0.0</td>\n      <td>1.0</td>\n      <td>0.827818</td>\n      <td>0.015678</td>\n      <td>0.843496</td>\n      <td>0.812141</td>\n      <td>0.0</td>\n      <td>-1.0</td>\n      <td>-1.0</td>\n    </tr>\n  </tbody>\n</table>\n<p>17000 rows × 19 columns</p>\n</div>"
     },
     "metadata": {}
    }
   ],
   "execution_count": null
  },
  {
   "cell_type": "code",
   "metadata": {
    "tags": [],
    "deepnote_to_be_reexecuted": false,
    "source_hash": "69550813",
    "execution_start": 1629323113942,
    "execution_millis": 816,
    "cell_id": "00008-1530fd09-9909-47cc-848c-26ffc3b24ec6",
    "deepnote_cell_type": "code"
   },
   "source": "# Plot the Bollinger Bands for BTC/USD closing prices\nxrp[['Close','bollinger_mid_band','bollinger_upper_band','bollinger_lower_band']].plot(figsize=(20,10))",
   "outputs": [
    {
     "output_type": "execute_result",
     "execution_count": 9,
     "data": {
      "text/plain": "<AxesSubplot:>"
     },
     "metadata": {}
    },
    {
     "data": {
      "text/plain": "<Figure size 1440x720 with 1 Axes>",
      "image/png": "[encoded data removed]"
     },
     "metadata": {
      "image/png": {
       "width": 1301,
       "height": 548
      }
     },
     "output_type": "display_data"
    }
   ],
   "execution_count": null
  },
  {
   "cell_type": "code",
   "metadata": {
    "tags": [],
    "deepnote_to_be_reexecuted": false,
    "source_hash": "244769ad",
    "execution_start": 1629323114793,
    "execution_millis": 491,
    "cell_id": "00009-ce3d0c15-6dd3-4305-ac6a-8a02846e6c4c",
    "deepnote_cell_type": "code"
   },
   "source": "def implement_bb_strategy(data, lower_bb, upper_bb):\n    buy_price = []\n    sell_price = []\n    bb_signal = []\n    signal = 0\n    \n    for i in range(len(data)):\n        if data[i-1] > lower_bb[i-1] and data[i] < lower_bb[i]:\n            if signal != 1:\n                buy_price.append(data[i])\n                sell_price.append(np.nan)\n                signal = 1\n                bb_signal.append(signal)\n            else:\n                buy_price.append(np.nan)\n                sell_price.append(np.nan)\n                bb_signal.append(0)\n        elif data[i-1] < upper_bb[i-1] and data[i] > upper_bb[i]:\n            if signal != -1:\n                buy_price.append(np.nan)\n                sell_price.append(data[i])\n                signal = -1\n                bb_signal.append(signal)\n            else:\n                buy_price.append(np.nan)\n                sell_price.append(np.nan)\n                bb_signal.append(0)\n        else:\n            buy_price.append(np.nan)\n            sell_price.append(np.nan)\n            bb_signal.append(0)\n            \n    return buy_price, sell_price, bb_signal\n\nbuy_price, sell_price, bb_signal = implement_bb_strategy(xrp['Close'], xrp['bollinger_lower_band'], xrp['bollinger_upper_band'])",
   "outputs": [],
   "execution_count": null
  },
  {
   "cell_type": "code",
   "metadata": {
    "tags": [],
    "deepnote_to_be_reexecuted": false,
    "source_hash": "ff143fe",
    "execution_start": 1629323115295,
    "execution_millis": 3729814,
    "cell_id": "00010-2087100d-a48e-488d-9e41-63921b1839d0",
    "deepnote_cell_type": "code"
   },
   "source": "import math",
   "outputs": [],
   "execution_count": null
  },
  {
   "cell_type": "code",
   "metadata": {
    "tags": [],
    "deepnote_to_be_reexecuted": false,
    "source_hash": "62389937",
    "execution_start": 1629323115341,
    "execution_millis": 1261,
    "cell_id": "00011-6008ba26-1621-435d-8899-41685e4c7d87",
    "deepnote_cell_type": "code"
   },
   "source": "# PLOT TRADE SIGNALS\nxrp['Close'].plot(label = 'CLOSE PRICES', alpha = 0.3)\nxrp['bollinger_upper_band'].plot(label = 'UPPER BB', linestyle = '--', linewidth = 1, color = 'black')\nxrp['bollinger_mid_band'].plot(label = 'MIDDLE BB', linestyle = '--', linewidth = 1.2, color = 'grey')\nxrp['bollinger_lower_band'].plot(label = 'LOWER BB', linestyle = '--', linewidth = 1, color = 'black')\nplt.scatter(xrp.index, buy_price, marker = '^', color = 'green', label = 'BUY', s = 200)\nplt.scatter(xrp.index, sell_price, marker = 'v', color = 'red', label = 'SELL', s = 200)\nplt.title('XRP BB STRATEGY TRADING SIGNALS')\nplt.legend(loc = 'upper left')\nplt.show()",
   "outputs": [
    {
     "data": {
      "text/plain": "<Figure size 1440x720 with 1 Axes>",
      "image/png": "[encoded data removed]"
     },
     "metadata": {
      "image/png": {
       "width": 1301,
       "height": 569
      }
     },
     "output_type": "display_data"
    }
   ],
   "execution_count": null
  },
  {
   "cell_type": "code",
   "metadata": {
    "tags": [],
    "deepnote_to_be_reexecuted": false,
    "source_hash": "642f2475",
    "execution_start": 1629323116644,
    "execution_millis": 312,
    "cell_id": "00012-bdc8e778-56f4-4dba-a0f1-067f71dd54c0",
    "deepnote_cell_type": "code"
   },
   "source": "position = []\nbb_signal = xrp['bollinger_signal']\nfor i in range(len(bb_signal)):\n    if bb_signal[i] > 1:\n        position.append(0)\n    else:\n        position.append(1)\n        \nfor i in range(len(xrp['Close'])):\n    if bb_signal[i] == 1:\n        position[i] = 1\n    elif bb_signal[i] == -1:\n        position[i] = 0\n    else:\n        position[i] = position[i-1]\n        \nupper_bb = xrp['bollinger_upper_band']\nlower_bb = xrp['bollinger_lower_band']\nclose_price = xrp['Close']\nbb_signal = pd.DataFrame(bb_signal).rename(columns = {0:'bb_signal'}).set_index(xrp.index)\nposition = pd.DataFrame(position).rename(columns = {0:'bb_position'}).set_index(xrp.index)\n\nframes = [close_price, upper_bb, lower_bb, bb_signal, position]\nstrategy = pd.concat(frames, join = 'inner', axis = 1)\n# strategy = strategy.reset_index().drop('Date', axis = 1)\n\nstrategy",
   "outputs": [
    {
     "output_type": "execute_result",
     "execution_count": 13,
     "data": {
      "application/vnd.deepnote.dataframe.v2+json": {
       "row_count": 17000,
       "column_count": 5,
       "columns": [
        {
         "name": "Close",
         "dtype": "float64",
         "stats": {
          "unique_count": 16589,
          "nan_count": 0,
          "min": "0.12985041737556458",
          "max": "1.9378489255905151",
          "histogram": [
           {
            "bin_start": 0.12985041737556458,
            "bin_end": 0.31065026819705965,
            "count": 11355
           },
           {
            "bin_start": 0.31065026819705965,
            "bin_end": 0.4914501190185547,
            "count": 1233
           },
           {
            "bin_start": 0.4914501190185547,
            "bin_end": 0.6722499698400497,
            "count": 2101
           },
           {
            "bin_start": 0.6722499698400497,
            "bin_end": 0.8530498206615448,
            "count": 683
           },
           {
            "bin_start": 0.8530498206615448,
            "bin_end": 1.0338496714830399,
            "count": 593
           },
           {
            "bin_start": 1.0338496714830399,
            "bin_end": 1.2146495223045348,
            "count": 182
           },
           {
            "bin_start": 1.2146495223045348,
            "bin_end": 1.39544937312603,
            "count": 270
           },
           {
            "bin_start": 1.39544937312603,
            "bin_end": 1.576249223947525,
            "count": 343
           },
           {
            "bin_start": 1.576249223947525,
            "bin_end": 1.75704907476902,
            "count": 204
           },
           {
            "bin_start": 1.75704907476902,
            "bin_end": 1.9378489255905151,
            "count": 36
           }
          ]
         }
        },
        {
         "name": "bollinger_upper_band",
         "dtype": "float64",
         "stats": {
          "unique_count": 16975,
          "nan_count": 19,
          "min": "0.1438875014512068",
          "max": "1.880622663543681",
          "histogram": [
           {
            "bin_start": 0.1438875014512068,
            "bin_end": 0.3175610176604542,
            "count": 11334
           },
           {
            "bin_start": 0.3175610176604542,
            "bin_end": 0.4912345338697016,
            "count": 1161
           },
           {
            "bin_start": 0.4912345338697016,
            "bin_end": 0.6649080500789489,
            "count": 2003
           },
           {
            "bin_start": 0.6649080500789489,
            "bin_end": 0.8385815662881964,
            "count": 724
           },
           {
            "bin_start": 0.8385815662881964,
            "bin_end": 1.012255082497444,
            "count": 548
           },
           {
            "bin_start": 1.012255082497444,
            "bin_end": 1.1859285987066912,
            "count": 296
           },
           {
            "bin_start": 1.1859285987066912,
            "bin_end": 1.3596021149159387,
            "count": 119
           },
           {
            "bin_start": 1.3596021149159387,
            "bin_end": 1.533275631125186,
            "count": 382
           },
           {
            "bin_start": 1.533275631125186,
            "bin_end": 1.7069491473344334,
            "count": 337
           },
           {
            "bin_start": 1.7069491473344334,
            "bin_end": 1.880622663543681,
            "count": 77
           }
          ]
         }
        },
        {
         "name": "bollinger_lower_band",
         "dtype": "float64",
         "stats": {
          "unique_count": 16975,
          "nan_count": 19,
          "min": "0.13806623771250087",
          "max": "1.7699466676498996",
          "histogram": [
           {
            "bin_start": 0.13806623771250087,
            "bin_end": 0.3012542807062407,
            "count": 11341
           },
           {
            "bin_start": 0.3012542807062407,
            "bin_end": 0.4644423236999806,
            "count": 1076
           },
           {
            "bin_start": 0.4644423236999806,
            "bin_end": 0.6276303666937204,
            "count": 2045
           },
           {
            "bin_start": 0.6276303666937204,
            "bin_end": 0.7908184096874604,
            "count": 743
           },
           {
            "bin_start": 0.7908184096874604,
            "bin_end": 0.9540064526812002,
            "count": 598
           },
           {
            "bin_start": 0.9540064526812002,
            "bin_end": 1.11719449567494,
            "count": 311
           },
           {
            "bin_start": 1.11719449567494,
            "bin_end": 1.28038253866868,
            "count": 112
           },
           {
            "bin_start": 1.28038253866868,
            "bin_end": 1.4435705816624198,
            "count": 376
           },
           {
            "bin_start": 1.4435705816624198,
            "bin_end": 1.6067586246561596,
            "count": 308
           },
           {
            "bin_start": 1.6067586246561596,
            "bin_end": 1.7699466676498996,
            "count": 71
           }
          ]
         }
        },
        {
         "name": "bollinger_signal",
         "dtype": "float64",
         "stats": {
          "unique_count": 3,
          "nan_count": 0,
          "min": "-1.0",
          "max": "1.0",
          "histogram": [
           {
            "bin_start": -1,
            "bin_end": -0.8,
            "count": 4374
           },
           {
            "bin_start": -0.8,
            "bin_end": -0.6,
            "count": 0
           },
           {
            "bin_start": -0.6,
            "bin_end": -0.3999999999999999,
            "count": 0
           },
           {
            "bin_start": -0.3999999999999999,
            "bin_end": -0.19999999999999996,
            "count": 0
           },
           {
            "bin_start": -0.19999999999999996,
            "bin_end": 0,
            "count": 0
           },
           {
            "bin_start": 0,
            "bin_end": 0.20000000000000018,
            "count": 8640
           },
           {
            "bin_start": 0.20000000000000018,
            "bin_end": 0.40000000000000013,
            "count": 0
           },
           {
            "bin_start": 0.40000000000000013,
            "bin_end": 0.6000000000000001,
            "count": 0
           },
           {
            "bin_start": 0.6000000000000001,
            "bin_end": 0.8,
            "count": 0
           },
           {
            "bin_start": 0.8,
            "bin_end": 1,
            "count": 3986
           }
          ]
         }
        },
        {
         "name": "bb_position",
         "dtype": "int64",
         "stats": {
          "unique_count": 2,
          "nan_count": 0,
          "min": "0",
          "max": "1",
          "histogram": [
           {
            "bin_start": 0,
            "bin_end": 0.1,
            "count": 8843
           },
           {
            "bin_start": 0.1,
            "bin_end": 0.2,
            "count": 0
           },
           {
            "bin_start": 0.2,
            "bin_end": 0.30000000000000004,
            "count": 0
           },
           {
            "bin_start": 0.30000000000000004,
            "bin_end": 0.4,
            "count": 0
           },
           {
            "bin_start": 0.4,
            "bin_end": 0.5,
            "count": 0
           },
           {
            "bin_start": 0.5,
            "bin_end": 0.6000000000000001,
            "count": 0
           },
           {
            "bin_start": 0.6000000000000001,
            "bin_end": 0.7000000000000001,
            "count": 0
           },
           {
            "bin_start": 0.7000000000000001,
            "bin_end": 0.8,
            "count": 0
           },
           {
            "bin_start": 0.8,
            "bin_end": 0.9,
            "count": 0
           },
           {
            "bin_start": 0.9,
            "bin_end": 1,
            "count": 8157
           }
          ]
         }
        },
        {
         "name": "_deepnote_index_column",
         "dtype": "datetime64[ns, Europe/London]"
        }
       ],
       "rows_top": [
        {
         "Close": 0.2590999901294708,
         "bollinger_upper_band": "nan",
         "bollinger_lower_band": "nan",
         "bollinger_signal": 0,
         "bb_position": 1,
         "_deepnote_index_column": "2019-09-01T01:00:00.000000"
        },
        {
         "Close": 0.25839999318122864,
         "bollinger_upper_band": "nan",
         "bollinger_lower_band": "nan",
         "bollinger_signal": 0,
         "bb_position": 1,
         "_deepnote_index_column": "2019-09-01T02:00:00.000000"
        },
        {
         "Close": 0.25780001282691956,
         "bollinger_upper_band": "nan",
         "bollinger_lower_band": "nan",
         "bollinger_signal": 0,
         "bb_position": 1,
         "_deepnote_index_column": "2019-09-01T03:00:00.000000"
        },
        {
         "Close": 0.25850000977516174,
         "bollinger_upper_band": "nan",
         "bollinger_lower_band": "nan",
         "bollinger_signal": 0,
         "bb_position": 1,
         "_deepnote_index_column": "2019-09-01T04:00:00.000000"
        },
        {
         "Close": 0.2581000030040741,
         "bollinger_upper_band": "nan",
         "bollinger_lower_band": "nan",
         "bollinger_signal": 0,
         "bb_position": 1,
         "_deepnote_index_column": "2019-09-01T05:00:00.000000"
        },
        {
         "Close": 0.2581000030040741,
         "bollinger_upper_band": "nan",
         "bollinger_lower_band": "nan",
         "bollinger_signal": 0,
         "bb_position": 1,
         "_deepnote_index_column": "2019-09-01T06:00:00.000000"
        },
        {
         "Close": 0.25850000977516174,
         "bollinger_upper_band": "nan",
         "bollinger_lower_band": "nan",
         "bollinger_signal": 0,
         "bb_position": 1,
         "_deepnote_index_column": "2019-09-01T07:00:00.000000"
        },
        {
         "Close": 0.2581999897956848,
         "bollinger_upper_band": "nan",
         "bollinger_lower_band": "nan",
         "bollinger_signal": 0,
         "bb_position": 1,
         "_deepnote_index_column": "2019-09-01T08:00:00.000000"
        },
        {
         "Close": 0.2567000091075897,
         "bollinger_upper_band": "nan",
         "bollinger_lower_band": "nan",
         "bollinger_signal": 0,
         "bb_position": 1,
         "_deepnote_index_column": "2019-09-01T09:00:00.000000"
        },
        {
         "Close": 0.2563999891281128,
         "bollinger_upper_band": "nan",
         "bollinger_lower_band": "nan",
         "bollinger_signal": 0,
         "bb_position": 1,
         "_deepnote_index_column": "2019-09-01T10:00:00.000000"
        },
        {
         "Close": 0.2558000087738037,
         "bollinger_upper_band": "nan",
         "bollinger_lower_band": "nan",
         "bollinger_signal": 0,
         "bb_position": 1,
         "_deepnote_index_column": "2019-09-01T11:00:00.000000"
        },
        {
         "Close": 0.2551000118255615,
         "bollinger_upper_band": "nan",
         "bollinger_lower_band": "nan",
         "bollinger_signal": 0,
         "bb_position": 1,
         "_deepnote_index_column": "2019-09-01T12:00:00.000000"
        },
        {
         "Close": 0.2556999921798706,
         "bollinger_upper_band": "nan",
         "bollinger_lower_band": "nan",
         "bollinger_signal": 0,
         "bb_position": 1,
         "_deepnote_index_column": "2019-09-01T13:00:00.000000"
        },
        {
         "Close": 0.2549000084400177,
         "bollinger_upper_band": "nan",
         "bollinger_lower_band": "nan",
         "bollinger_signal": 0,
         "bb_position": 1,
         "_deepnote_index_column": "2019-09-01T14:00:00.000000"
        },
        {
         "Close": 0.2549999952316284,
         "bollinger_upper_band": "nan",
         "bollinger_lower_band": "nan",
         "bollinger_signal": 0,
         "bb_position": 1,
         "_deepnote_index_column": "2019-09-01T15:00:00.000000"
        },
        {
         "Close": 0.25609999895095825,
         "bollinger_upper_band": "nan",
         "bollinger_lower_band": "nan",
         "bollinger_signal": 0,
         "bb_position": 1,
         "_deepnote_index_column": "2019-09-01T16:00:00.000000"
        },
        {
         "Close": 0.2542000114917755,
         "bollinger_upper_band": "nan",
         "bollinger_lower_band": "nan",
         "bollinger_signal": 0,
         "bb_position": 1,
         "_deepnote_index_column": "2019-09-01T17:00:00.000000"
        },
        {
         "Close": 0.2542000114917755,
         "bollinger_upper_band": "nan",
         "bollinger_lower_band": "nan",
         "bollinger_signal": 0,
         "bb_position": 1,
         "_deepnote_index_column": "2019-09-01T18:00:00.000000"
        },
        {
         "Close": 0.25519999861717224,
         "bollinger_upper_band": "nan",
         "bollinger_lower_band": "nan",
         "bollinger_signal": 0,
         "bb_position": 1,
         "_deepnote_index_column": "2019-09-01T19:00:00.000000"
        },
        {
         "Close": 0.25589999556541443,
         "bollinger_upper_band": 0.25819482735314625,
         "bollinger_lower_band": 0.2549951768763994,
         "bollinger_signal": 0,
         "bb_position": 1,
         "_deepnote_index_column": "2019-09-01T20:00:00.000000"
        },
        {
         "Close": 0.2563999891281128,
         "bollinger_upper_band": 0.2579472803969582,
         "bollinger_lower_band": 0.25497272373245156,
         "bollinger_signal": 0,
         "bb_position": 1,
         "_deepnote_index_column": "2019-09-01T21:00:00.000000"
        },
        {
         "Close": 0.25679999589920044,
         "bollinger_upper_band": 0.2577988967040145,
         "bollinger_lower_band": 0.25496110769719244,
         "bollinger_signal": 0,
         "bb_position": 1,
         "_deepnote_index_column": "2019-09-01T22:00:00.000000"
        },
        {
         "Close": 0.2572999894618988,
         "bollinger_upper_band": 0.2577517908827671,
         "bollinger_lower_band": 0.25495821118193773,
         "bollinger_signal": 0,
         "bb_position": 1,
         "_deepnote_index_column": "2019-09-01T23:00:00.000000"
        },
        {
         "Close": 0.25690001249313354,
         "bollinger_upper_band": 0.2575856336242319,
         "bollinger_lower_band": 0.25496436871227013,
         "bollinger_signal": 0,
         "bb_position": 1,
         "_deepnote_index_column": "2019-09-02T00:00:00.000000"
        },
        {
         "Close": 0.2558000087738037,
         "bollinger_upper_band": 0.257401135883907,
         "bollinger_lower_band": 0.254918867029568,
         "bollinger_signal": 0,
         "bb_position": 1,
         "_deepnote_index_column": "2019-09-02T01:00:00.000000"
        },
        {
         "Close": 0.2554999887943268,
         "bollinger_upper_band": 0.25719080549605294,
         "bollinger_lower_band": 0.25486919599644736,
         "bollinger_signal": 0,
         "bb_position": 1,
         "_deepnote_index_column": "2019-09-02T02:00:00.000000"
        },
        {
         "Close": 0.2558000087738037,
         "bollinger_upper_band": 0.2568999709002509,
         "bollinger_lower_band": 0.2548900304921136,
         "bollinger_signal": 0,
         "bb_position": 1,
         "_deepnote_index_column": "2019-09-02T03:00:00.000000"
        },
        {
         "Close": 0.2554999887943268,
         "bollinger_upper_band": 0.25660815332892023,
         "bollinger_lower_band": 0.2549118479633085,
         "bollinger_signal": 0,
         "bb_position": 1,
         "_deepnote_index_column": "2019-09-02T04:00:00.000000"
        },
        {
         "Close": 0.2554999887943268,
         "bollinger_upper_band": 0.2565201371128758,
         "bollinger_lower_band": 0.2548798621480266,
         "bollinger_signal": 0,
         "bb_position": 1,
         "_deepnote_index_column": "2019-09-02T05:00:00.000000"
        },
        {
         "Close": 0.25529998540878296,
         "bollinger_upper_band": 0.2564525105649247,
         "bollinger_lower_band": 0.25483748832404474,
         "bollinger_signal": 0,
         "bb_position": 1,
         "_deepnote_index_column": "2019-09-02T06:00:00.000000"
        },
        {
         "Close": 0.2549999952316284,
         "bollinger_upper_band": 0.2564241578818629,
         "bollinger_lower_band": 0.25478583965288903,
         "bollinger_signal": 0,
         "bb_position": 1,
         "_deepnote_index_column": "2019-09-02T07:00:00.000000"
        },
        {
         "Close": 0.25429999828338623,
         "bollinger_upper_band": 0.25642844969530243,
         "bollinger_lower_band": 0.2547015464852319,
         "bollinger_signal": 1,
         "bb_position": 1,
         "_deepnote_index_column": "2019-09-02T08:00:00.000000"
        },
        {
         "Close": 0.25440001487731934,
         "bollinger_upper_band": 0.2564008727849162,
         "bollinger_lower_band": 0.254599125665363,
         "bollinger_signal": 1,
         "bb_position": 1,
         "_deepnote_index_column": "2019-09-02T09:00:00.000000"
        },
        {
         "Close": 0.2549999952316284,
         "bollinger_upper_band": 0.2564026389049209,
         "bollinger_lower_band": 0.2546073582245194,
         "bollinger_signal": 0,
         "bb_position": 1,
         "_deepnote_index_column": "2019-09-02T10:00:00.000000"
        },
        {
         "Close": 0.25459998846054077,
         "bollinger_upper_band": 0.25639879366792284,
         "bollinger_lower_band": 0.2545712027844087,
         "bollinger_signal": 0,
         "bb_position": 1,
         "_deepnote_index_column": "2019-09-02T11:00:00.000000"
        },
        {
         "Close": 0.2556999921798706,
         "bollinger_upper_band": 0.2563689487571407,
         "bollinger_lower_band": 0.2545610470180821,
         "bollinger_signal": 0,
         "bb_position": 1,
         "_deepnote_index_column": "2019-09-02T12:00:00.000000"
        },
        {
         "Close": 0.2549999952316284,
         "bollinger_upper_band": 0.25636674115998687,
         "bollinger_lower_band": 0.25464325298922125,
         "bollinger_signal": 0,
         "bb_position": 1,
         "_deepnote_index_column": "2019-09-02T13:00:00.000000"
        },
        {
         "Close": 0.257999986410141,
         "bollinger_upper_band": 0.2566658730269483,
         "bollinger_lower_band": 0.2547241186140963,
         "bollinger_signal": -1,
         "bb_position": 0,
         "_deepnote_index_column": "2019-09-02T14:00:00.000000"
        },
        {
         "Close": 0.25760000944137573,
         "bollinger_upper_band": 0.2568664490038998,
         "bollinger_lower_band": 0.25476354371956517,
         "bollinger_signal": -1,
         "bb_position": 0,
         "_deepnote_index_column": "2019-09-02T15:00:00.000000"
        },
        {
         "Close": 0.25699999928474426,
         "bollinger_upper_band": 0.25695438352391337,
         "bollinger_lower_band": 0.2547856095714846,
         "bollinger_signal": -1,
         "bb_position": 0,
         "_deepnote_index_column": "2019-09-02T16:00:00.000000"
        },
        {
         "Close": 0.25780001282691956,
         "bollinger_upper_band": 0.2571027547682727,
         "bollinger_lower_band": 0.2547772406970059,
         "bollinger_signal": -1,
         "bb_position": 0,
         "_deepnote_index_column": "2019-09-02T17:00:00.000000"
        },
        {
         "Close": 0.25870001316070557,
         "bollinger_upper_band": 0.2573405668243205,
         "bollinger_lower_band": 0.2547294303671086,
         "bollinger_signal": -1,
         "bb_position": 0,
         "_deepnote_index_column": "2019-09-02T18:00:00.000000"
        },
        {
         "Close": 0.260699987411499,
         "bollinger_upper_band": 0.25785885489643673,
         "bollinger_lower_band": 0.2545511420899524,
         "bollinger_signal": -1,
         "bb_position": 0,
         "_deepnote_index_column": "2019-09-02T19:00:00.000000"
        },
        {
         "Close": 0.26089999079704285,
         "bollinger_upper_band": 0.2583614912648891,
         "bollinger_lower_band": 0.254448503551891,
         "bollinger_signal": -1,
         "bb_position": 0,
         "_deepnote_index_column": "2019-09-02T20:00:00.000000"
        },
        {
         "Close": 0.2628999948501587,
         "bollinger_upper_band": 0.2591882079490762,
         "bollinger_lower_band": 0.25433178547533936,
         "bollinger_signal": -1,
         "bb_position": 0,
         "_deepnote_index_column": "2019-09-02T21:00:00.000000"
        },
        {
         "Close": 0.2630999982357025,
         "bollinger_upper_band": 0.25992858273967323,
         "bollinger_lower_band": 0.25435141162888,
         "bollinger_signal": -1,
         "bb_position": 0,
         "_deepnote_index_column": "2019-09-02T22:00:00.000000"
        },
        {
         "Close": 0.2624000012874603,
         "bollinger_upper_band": 0.2604738720067664,
         "bollinger_lower_band": 0.2544661216131524,
         "bollinger_signal": -1,
         "bb_position": 0,
         "_deepnote_index_column": "2019-09-02T23:00:00.000000"
        },
        {
         "Close": 0.26159998774528503,
         "bollinger_upper_band": 0.2608764179253455,
         "bollinger_lower_band": 0.25467357558966913,
         "bollinger_signal": -1,
         "bb_position": 0,
         "_deepnote_index_column": "2019-09-03T00:00:00.000000"
        },
        {
         "Close": 0.26080000400543213,
         "bollinger_upper_band": 0.2611631534076409,
         "bollinger_lower_band": 0.2549168416284843,
         "bollinger_signal": 0,
         "bb_position": 0,
         "_deepnote_index_column": "2019-09-03T01:00:00.000000"
        },
        {
         "Close": 0.2606000006198883,
         "bollinger_upper_band": 0.26140821726068014,
         "bollinger_lower_band": 0.2552017792965556,
         "bollinger_signal": 0,
         "bb_position": 0,
         "_deepnote_index_column": "2019-09-03T02:00:00.000000"
        },
        {
         "Close": 0.26080000400543213,
         "bollinger_upper_band": 0.26164363427327847,
         "bollinger_lower_band": 0.25554636316133766,
         "bollinger_signal": 0,
         "bb_position": 0,
         "_deepnote_index_column": "2019-09-03T03:00:00.000000"
        },
        {
         "Close": 0.2615000009536743,
         "bollinger_upper_band": 0.26189285882789404,
         "bollinger_lower_band": 0.2560171388737509,
         "bollinger_signal": 0,
         "bb_position": 0,
         "_deepnote_index_column": "2019-09-03T04:00:00.000000"
        },
        {
         "Close": 0.2614000141620636,
         "bollinger_upper_band": 0.26208433634524,
         "bollinger_lower_band": 0.2565256612848793,
         "bollinger_signal": 0,
         "bb_position": 0,
         "_deepnote_index_column": "2019-09-03T05:00:00.000000"
        },
        {
         "Close": 0.2612999975681305,
         "bollinger_upper_band": 0.262238074638704,
         "bollinger_lower_band": 0.2570019232250655,
         "bollinger_signal": 0,
         "bb_position": 0,
         "_deepnote_index_column": "2019-09-03T06:00:00.000000"
        },
        {
         "Close": 0.26100000739097595,
         "bollinger_upper_band": 0.2622895574383848,
         "bollinger_lower_band": 0.2575904423184283,
         "bollinger_signal": 0,
         "bb_position": 0,
         "_deepnote_index_column": "2019-09-03T07:00:00.000000"
        },
        {
         "Close": 0.260699987411499,
         "bollinger_upper_band": 0.2623204543971795,
         "bollinger_lower_band": 0.2580595448827964,
         "bollinger_signal": 0,
         "bb_position": 0,
         "_deepnote_index_column": "2019-09-03T08:00:00.000000"
        },
        {
         "Close": 0.2603999972343445,
         "bollinger_upper_band": 0.26220548812187483,
         "bollinger_lower_band": 0.25871451135837265,
         "bollinger_signal": 0,
         "bb_position": 0,
         "_deepnote_index_column": "2019-09-03T09:00:00.000000"
        },
        {
         "Close": 0.258899986743927,
         "bollinger_upper_band": 0.2621944303532022,
         "bollinger_lower_band": 0.2588155691604239,
         "bollinger_signal": 0,
         "bb_position": 0,
         "_deepnote_index_column": "2019-09-03T10:00:00.000000"
        },
        {
         "Close": 0.26010000705718994,
         "bollinger_upper_band": 0.2621799043886722,
         "bollinger_lower_band": 0.2590800948865353,
         "bollinger_signal": 0,
         "bb_position": 0,
         "_deepnote_index_column": "2019-09-03T11:00:00.000000"
        },
        {
         "Close": 0.26010000705718994,
         "bollinger_upper_band": 0.2620881415174004,
         "bollinger_lower_band": 0.25948185853505173,
         "bollinger_signal": 0,
         "bb_position": 0,
         "_deepnote_index_column": "2019-09-03T12:00:00.000000"
        },
        {
         "Close": 0.2621000111103058,
         "bollinger_upper_band": 0.26212764264892147,
         "bollinger_lower_band": 0.25987235723186924,
         "bollinger_signal": 0,
         "bb_position": 0,
         "_deepnote_index_column": "2019-09-03T13:00:00.000000"
        },
        {
         "Close": 0.2646999955177307,
         "bollinger_upper_band": 0.26257237814266976,
         "bollinger_lower_band": 0.2600276199738235,
         "bollinger_signal": -1,
         "bb_position": 0,
         "_deepnote_index_column": "2019-09-03T14:00:00.000000"
        },
        {
         "Close": 0.26350000500679016,
         "bollinger_upper_band": 0.2627942919345475,
         "bollinger_lower_band": 0.2600857079414748,
         "bollinger_signal": -1,
         "bb_position": 0,
         "_deepnote_index_column": "2019-09-03T15:00:00.000000"
        },
        {
         "Close": 0.2637999951839447,
         "bollinger_upper_band": 0.26303060139526935,
         "bollinger_lower_band": 0.26013939891944315,
         "bollinger_signal": -1,
         "bb_position": 0,
         "_deepnote_index_column": "2019-09-03T16:00:00.000000"
        },
        {
         "Close": 0.2630000114440918,
         "bollinger_upper_band": 0.26304055517471614,
         "bollinger_lower_band": 0.2601394467993897,
         "bollinger_signal": 0,
         "bb_position": 0,
         "_deepnote_index_column": "2019-09-03T17:00:00.000000"
        },
        {
         "Close": 0.2619999945163727,
         "bollinger_upper_band": 0.26294559127411965,
         "bollinger_lower_band": 0.2601244103280532,
         "bollinger_signal": 0,
         "bb_position": 0,
         "_deepnote_index_column": "2019-09-03T18:00:00.000000"
        },
        {
         "Close": 0.2619999945163727,
         "bollinger_upper_band": 0.2629154804030602,
         "bollinger_lower_band": 0.26011452052200396,
         "bollinger_signal": 0,
         "bb_position": 0,
         "_deepnote_index_column": "2019-09-03T19:00:00.000000"
        },
        {
         "Close": 0.2624000012874603,
         "bollinger_upper_band": 0.2629693922072612,
         "bollinger_lower_band": 0.26014061007202044,
         "bollinger_signal": 0,
         "bb_position": 0,
         "_deepnote_index_column": "2019-09-03T20:00:00.000000"
        },
        {
         "Close": 0.26339998841285706,
         "bollinger_upper_band": 0.26314509230323896,
         "bollinger_lower_band": 0.2602249084167852,
         "bollinger_signal": -1,
         "bb_position": 0,
         "_deepnote_index_column": "2019-09-03T21:00:00.000000"
        },
        {
         "Close": 0.26409998536109924,
         "bollinger_upper_band": 0.2633912174582746,
         "bollinger_lower_band": 0.26032878173587065,
         "bollinger_signal": -1,
         "bb_position": 0,
         "_deepnote_index_column": "2019-09-03T22:00:00.000000"
        },
        {
         "Close": 0.26460000872612,
         "bollinger_upper_band": 0.2636756169986607,
         "bollinger_lower_band": 0.2604243826675533,
         "bollinger_signal": -1,
         "bb_position": 0,
         "_deepnote_index_column": "2019-09-03T23:00:00.000000"
        },
        {
         "Close": 0.2632000148296356,
         "bollinger_upper_band": 0.26377472973394306,
         "bollinger_lower_band": 0.2604952713198671,
         "bollinger_signal": 0,
         "bb_position": 0,
         "_deepnote_index_column": "2019-09-04T00:00:00.000000"
        },
        {
         "Close": 0.26269999146461487,
         "bollinger_upper_band": 0.2638348185246278,
         "bollinger_lower_band": 0.2605651802594375,
         "bollinger_signal": 0,
         "bb_position": 0,
         "_deepnote_index_column": "2019-09-04T01:00:00.000000"
        },
        {
         "Close": 0.26190000772476196,
         "bollinger_upper_band": 0.26385289577546317,
         "bollinger_lower_band": 0.2606071040242652,
         "bollinger_signal": 0,
         "bb_position": 0,
         "_deepnote_index_column": "2019-09-04T02:00:00.000000"
        },
        {
         "Close": 0.26159998774528503,
         "bollinger_upper_band": 0.2638644018128946,
         "bollinger_lower_band": 0.26065559602226474,
         "bollinger_signal": 0,
         "bb_position": 0,
         "_deepnote_index_column": "2019-09-04T03:00:00.000000"
        },
        {
         "Close": 0.2623000144958496,
         "bollinger_upper_band": 0.2639018484579177,
         "bollinger_lower_band": 0.2607781520856766,
         "bollinger_signal": 0,
         "bb_position": 0,
         "_deepnote_index_column": "2019-09-04T04:00:00.000000"
        },
        {
         "Close": 0.26089999079704285,
         "bollinger_upper_band": 0.2638978943775324,
         "bollinger_lower_band": 0.2608321055223318,
         "bollinger_signal": 0,
         "bb_position": 0,
         "_deepnote_index_column": "2019-09-04T05:00:00.000000"
        },
        {
         "Close": 0.260699987411499,
         "bollinger_upper_band": 0.2638170706073467,
         "bollinger_lower_band": 0.26109292935927464,
         "bollinger_signal": 1,
         "bb_position": 1,
         "_deepnote_index_column": "2019-09-04T06:00:00.000000"
        },
        {
         "Close": 0.2606000006198883,
         "bollinger_upper_band": 0.263800526322538,
         "bollinger_lower_band": 0.2611594730003533,
         "bollinger_signal": 1,
         "bb_position": 1,
         "_deepnote_index_column": "2019-09-04T07:00:00.000000"
        },
        {
         "Close": 0.2605000138282776,
         "bollinger_upper_band": 0.26378513774446755,
         "bollinger_lower_band": 0.2612148622555325,
         "bollinger_signal": 1,
         "bb_position": 1,
         "_deepnote_index_column": "2019-09-04T08:00:00.000000"
        },
        {
         "Close": 0.258899986743927,
         "bollinger_upper_band": 0.2638560202014298,
         "bollinger_lower_band": 0.26082397736193236,
         "bollinger_signal": 1,
         "bb_position": 1,
         "_deepnote_index_column": "2019-09-04T09:00:00.000000"
        },
        {
         "Close": 0.2597000002861023,
         "bollinger_upper_band": 0.26360862214656167,
         "bollinger_lower_band": 0.26057137589363766,
         "bollinger_signal": 1,
         "bb_position": 1,
         "_deepnote_index_column": "2019-09-04T10:00:00.000000"
        },
        {
         "Close": 0.2596000134944916,
         "bollinger_upper_band": 0.2634722976365927,
         "bollinger_lower_band": 0.2603177012523767,
         "bollinger_signal": 1,
         "bb_position": 1,
         "_deepnote_index_column": "2019-09-04T11:00:00.000000"
        },
        {
         "Close": 0.25929999351501465,
         "bollinger_upper_band": 0.26328183173454367,
         "bollinger_lower_band": 0.2600581669875327,
         "bollinger_signal": 1,
         "bb_position": 1,
         "_deepnote_index_column": "2019-09-04T12:00:00.000000"
        },
        {
         "Close": 0.25850000977516174,
         "bollinger_upper_band": 0.2631714112776934,
         "bollinger_lower_band": 0.25971858727749,
         "bollinger_signal": 1,
         "bb_position": 1,
         "_deepnote_index_column": "2019-09-04T13:00:00.000000"
        },
        {
         "Close": 0.2587999999523163,
         "bollinger_upper_band": 0.2631031170394108,
         "bollinger_lower_band": 0.25946688205936697,
         "bollinger_signal": 1,
         "bb_position": 1,
         "_deepnote_index_column": "2019-09-04T14:00:00.000000"
        },
        {
         "Close": 0.2581999897956848,
         "bollinger_upper_band": 0.26302930917976713,
         "bollinger_lower_band": 0.25916068944694187,
         "bollinger_signal": 1,
         "bb_position": 1,
         "_deepnote_index_column": "2019-09-04T15:00:00.000000"
        },
        {
         "Close": 0.25859999656677246,
         "bollinger_upper_band": 0.26289033406543855,
         "bollinger_lower_band": 0.2589196640892017,
         "bollinger_signal": 1,
         "bb_position": 1,
         "_deepnote_index_column": "2019-09-04T16:00:00.000000"
        },
        {
         "Close": 0.26019999384880066,
         "bollinger_upper_band": 0.2626458247600374,
         "bollinger_lower_band": 0.25884417393819714,
         "bollinger_signal": 0,
         "bb_position": 1,
         "_deepnote_index_column": "2019-09-04T17:00:00.000000"
        },
        {
         "Close": 0.26019999384880066,
         "bollinger_upper_band": 0.26228098991878396,
         "bollinger_lower_band": 0.25881900962822074,
         "bollinger_signal": 0,
         "bb_position": 1,
         "_deepnote_index_column": "2019-09-04T18:00:00.000000"
        },
        {
         "Close": 0.25949999690055847,
         "bollinger_upper_band": 0.26175191803384673,
         "bollinger_lower_band": 0.2588380803306018,
         "bollinger_signal": 0,
         "bb_position": 1,
         "_deepnote_index_column": "2019-09-04T19:00:00.000000"
        },
        {
         "Close": 0.26080000400543213,
         "bollinger_upper_band": 0.2614698782254582,
         "bollinger_lower_band": 0.25888011905657005,
         "bollinger_signal": 0,
         "bb_position": 1,
         "_deepnote_index_column": "2019-09-04T20:00:00.000000"
        },
        {
         "Close": 0.2603999972343445,
         "bollinger_upper_band": 0.26121321152597765,
         "bollinger_lower_band": 0.25890678633302355,
         "bollinger_signal": 0,
         "bb_position": 1,
         "_deepnote_index_column": "2019-09-04T21:00:00.000000"
        },
        {
         "Close": 0.26159998774528503,
         "bollinger_upper_band": 0.2611747281998596,
         "bollinger_lower_band": 0.2589152676611938,
         "bollinger_signal": -1,
         "bb_position": 0,
         "_deepnote_index_column": "2019-09-04T22:00:00.000000"
        },
        {
         "Close": 0.258899986743927,
         "bollinger_upper_band": 0.2610049161944166,
         "bollinger_lower_band": 0.258815079566501,
         "bollinger_signal": 0,
         "bb_position": 0,
         "_deepnote_index_column": "2019-09-04T23:00:00.000000"
        },
        {
         "Close": 0.258899986743927,
         "bollinger_upper_band": 0.2606999309700386,
         "bollinger_lower_band": 0.2587800620156869,
         "bollinger_signal": 0,
         "bb_position": 0,
         "_deepnote_index_column": "2019-09-05T00:00:00.000000"
        },
        {
         "Close": 0.25839999318122864,
         "bollinger_upper_band": 0.26057869378263454,
         "bollinger_lower_band": 0.25865129944150944,
         "bollinger_signal": 1,
         "bb_position": 1,
         "_deepnote_index_column": "2019-09-05T01:00:00.000000"
        },
        {
         "Close": 0.25839999318122864,
         "bollinger_upper_band": 0.26046463651484625,
         "bollinger_lower_band": 0.2585353572862707,
         "bollinger_signal": 1,
         "bb_position": 1,
         "_deepnote_index_column": "2019-09-05T02:00:00.000000"
        },
        {
         "Close": 0.25850000977516174,
         "bollinger_upper_band": 0.26034781948549673,
         "bollinger_lower_band": 0.2584421752311476,
         "bollinger_signal": 0,
         "bb_position": 1,
         "_deepnote_index_column": "2019-09-05T03:00:00.000000"
        },
        {
         "Close": 0.2590999901294708,
         "bollinger_upper_band": 0.2602431606656671,
         "bollinger_lower_band": 0.25840683168109646,
         "bollinger_signal": 0,
         "bb_position": 1,
         "_deepnote_index_column": "2019-09-05T04:00:00.000000"
        }
       ],
       "rows_bottom": [
        {
         "Close": 0.7484444379806519,
         "bollinger_upper_band": 0.7438055486376992,
         "bollinger_lower_band": 0.7283174782101401,
         "bollinger_signal": -1,
         "bb_position": 0,
         "_deepnote_index_column": "2021-08-06T21:00:00.000000"
        },
        {
         "Close": 0.7400344610214233,
         "bollinger_upper_band": 0.7441241841898821,
         "bollinger_lower_band": 0.7285572845353224,
         "bollinger_signal": 0,
         "bb_position": 0,
         "_deepnote_index_column": "2021-08-06T22:00:00.000000"
        },
        {
         "Close": 0.7445024847984314,
         "bollinger_upper_band": 0.7449028431886747,
         "bollinger_lower_band": 0.7292282641416475,
         "bollinger_signal": 0,
         "bb_position": 0,
         "_deepnote_index_column": "2021-08-06T23:00:00.000000"
        },
        {
         "Close": 0.7465130090713501,
         "bollinger_upper_band": 0.7458093710177439,
         "bollinger_lower_band": 0.7300605945355397,
         "bollinger_signal": -1,
         "bb_position": 0,
         "_deepnote_index_column": "2021-08-07T00:00:00.000000"
        },
        {
         "Close": 0.7548611164093018,
         "bollinger_upper_band": 0.747666420768261,
         "bollinger_lower_band": 0.7307498850121498,
         "bollinger_signal": -1,
         "bb_position": 0,
         "_deepnote_index_column": "2021-08-07T01:00:00.000000"
        },
        {
         "Close": 0.7566510438919067,
         "bollinger_upper_band": 0.749556005093291,
         "bollinger_lower_band": 0.7311921595604871,
         "bollinger_signal": -1,
         "bb_position": 0,
         "_deepnote_index_column": "2021-08-07T02:00:00.000000"
        },
        {
         "Close": 0.762823224067688,
         "bollinger_upper_band": 0.752099953492189,
         "bollinger_lower_band": 0.7313105599088425,
         "bollinger_signal": -1,
         "bb_position": 0,
         "_deepnote_index_column": "2021-08-07T03:00:00.000000"
        },
        {
         "Close": 0.7649507522583008,
         "bollinger_upper_band": 0.7546816776952526,
         "bollinger_lower_band": 0.7317247558870533,
         "bollinger_signal": -1,
         "bb_position": 0,
         "_deepnote_index_column": "2021-08-07T04:00:00.000000"
        },
        {
         "Close": 0.7618080377578735,
         "bollinger_upper_band": 0.7565486598778041,
         "bollinger_lower_band": 0.7323899041843144,
         "bollinger_signal": -1,
         "bb_position": 0,
         "_deepnote_index_column": "2021-08-07T05:00:00.000000"
        },
        {
         "Close": 0.7649903297424316,
         "bollinger_upper_band": 0.7586477105671985,
         "bollinger_lower_band": 0.7336119050925152,
         "bollinger_signal": -1,
         "bb_position": 0,
         "_deepnote_index_column": "2021-08-07T06:00:00.000000"
        },
        {
         "Close": 0.7613361477851868,
         "bollinger_upper_band": 0.7600850675401917,
         "bollinger_lower_band": 0.7351406778993378,
         "bollinger_signal": -1,
         "bb_position": 0,
         "_deepnote_index_column": "2021-08-07T07:00:00.000000"
        },
        {
         "Close": 0.7610374093055725,
         "bollinger_upper_band": 0.7611543855137666,
         "bollinger_lower_band": 0.7374269285731474,
         "bollinger_signal": 0,
         "bb_position": 0,
         "_deepnote_index_column": "2021-08-07T08:00:00.000000"
        },
        {
         "Close": 0.7645235657691956,
         "bollinger_upper_band": 0.7623161718039159,
         "bollinger_lower_band": 0.7399301961274501,
         "bollinger_signal": -1,
         "bb_position": 0,
         "_deepnote_index_column": "2021-08-07T09:00:00.000000"
        },
        {
         "Close": 0.7894212603569031,
         "bollinger_upper_band": 0.7671406853115565,
         "bollinger_lower_band": 0.7410059821689121,
         "bollinger_signal": -1,
         "bb_position": 0,
         "_deepnote_index_column": "2021-08-07T10:00:00.000000"
        },
        {
         "Close": 0.7897286415100098,
         "bollinger_upper_band": 0.7710157533631492,
         "bollinger_lower_band": 0.7432960669054818,
         "bollinger_signal": -1,
         "bb_position": 0,
         "_deepnote_index_column": "2021-08-07T11:00:00.000000"
        },
        {
         "Close": 0.7905455231666565,
         "bollinger_upper_band": 0.7748169757048091,
         "bollinger_lower_band": 0.7444555603345433,
         "bollinger_signal": -1,
         "bb_position": 0,
         "_deepnote_index_column": "2021-08-07T12:00:00.000000"
        },
        {
         "Close": 0.7743987441062927,
         "bollinger_upper_band": 0.7762186907452965,
         "bollinger_lower_band": 0.7459867872076608,
         "bollinger_signal": 0,
         "bb_position": 0,
         "_deepnote_index_column": "2021-08-07T13:00:00.000000"
        },
        {
         "Close": 0.7735520601272583,
         "bollinger_upper_band": 0.7774073726707071,
         "bollinger_lower_band": 0.7472232215828329,
         "bollinger_signal": 0,
         "bb_position": 0,
         "_deepnote_index_column": "2021-08-07T14:00:00.000000"
        },
        {
         "Close": 0.791140615940094,
         "bollinger_upper_band": 0.7804613306098938,
         "bollinger_lower_band": 0.7485743329948427,
         "bollinger_signal": -1,
         "bb_position": 0,
         "_deepnote_index_column": "2021-08-07T15:00:00.000000"
        },
        {
         "Close": 0.8057512044906616,
         "bollinger_upper_band": 0.7853148403574067,
         "bollinger_lower_band": 0.7493865665983123,
         "bollinger_signal": -1,
         "bb_position": 0,
         "_deepnote_index_column": "2021-08-07T16:00:00.000000"
        },
        {
         "Close": 0.8016982674598694,
         "bollinger_upper_band": 0.7889481914101546,
         "bollinger_lower_band": 0.7510785984934862,
         "bollinger_signal": -1,
         "bb_position": 0,
         "_deepnote_index_column": "2021-08-07T17:00:00.000000"
        },
        {
         "Close": 0.79237300157547,
         "bollinger_upper_band": 0.7908052804734264,
         "bollinger_lower_band": 0.7544553634856191,
         "bollinger_signal": -1,
         "bb_position": 0,
         "_deepnote_index_column": "2021-08-07T18:00:00.000000"
        },
        {
         "Close": 0.7993141412734985,
         "bollinger_upper_band": 0.7932106716063864,
         "bollinger_lower_band": 0.7575311380001658,
         "bollinger_signal": -1,
         "bb_position": 0,
         "_deepnote_index_column": "2021-08-07T19:00:00.000000"
        },
        {
         "Close": 0.8037920594215393,
         "bollinger_upper_band": 0.7957935224713261,
         "bollinger_lower_band": 0.7606761921702451,
         "bollinger_signal": -1,
         "bb_position": 0,
         "_deepnote_index_column": "2021-08-07T20:00:00.000000"
        },
        {
         "Close": 0.8045597076416016,
         "bollinger_upper_band": 0.7983131411857188,
         "bollinger_lower_band": 0.7631264325790822,
         "bollinger_signal": -1,
         "bb_position": 0,
         "_deepnote_index_column": "2021-08-07T21:00:00.000000"
        },
        {
         "Close": 0.7986745834350586,
         "bollinger_upper_band": 0.7998901229260671,
         "bollinger_lower_band": 0.7657518047930492,
         "bollinger_signal": 0,
         "bb_position": 0,
         "_deepnote_index_column": "2021-08-07T22:00:00.000000"
        },
        {
         "Close": 0.8053690195083618,
         "bollinger_upper_band": 0.8020451379503825,
         "bollinger_lower_band": 0.7678513693128012,
         "bollinger_signal": -1,
         "bb_position": 0,
         "_deepnote_index_column": "2021-08-07T23:00:00.000000"
        },
        {
         "Close": 0.8162810802459717,
         "bollinger_upper_band": 0.8052909685599635,
         "bollinger_lower_band": 0.7697385715019872,
         "bollinger_signal": -1,
         "bb_position": 0,
         "_deepnote_index_column": "2021-08-08T00:00:00.000000"
        },
        {
         "Close": 0.8304288983345032,
         "bollinger_upper_band": 0.8100703586646941,
         "bollinger_lower_band": 0.7718212674549195,
         "bollinger_signal": -1,
         "bb_position": 0,
         "_deepnote_index_column": "2021-08-08T01:00:00.000000"
        },
        {
         "Close": 0.8090371489524841,
         "bollinger_upper_band": 0.8116525202949455,
         "bollinger_lower_band": 0.7746437877456734,
         "bollinger_signal": 0,
         "bb_position": 0,
         "_deepnote_index_column": "2021-08-08T02:00:00.000000"
        },
        {
         "Close": 0.8017366528511047,
         "bollinger_upper_band": 0.8121603886096448,
         "bollinger_lower_band": 0.778175969937566,
         "bollinger_signal": 0,
         "bb_position": 0,
         "_deepnote_index_column": "2021-08-08T03:00:00.000000"
        },
        {
         "Close": 0.8178030252456665,
         "bollinger_upper_band": 0.8136879584217362,
         "bollinger_lower_band": 0.7823249617194838,
         "bollinger_signal": -1,
         "bb_position": 0,
         "_deepnote_index_column": "2021-08-08T04:00:00.000000"
        },
        {
         "Close": 0.8164565563201904,
         "bollinger_upper_band": 0.8146644947317572,
         "bollinger_lower_band": 0.7865417244645625,
         "bollinger_signal": -1,
         "bb_position": 0,
         "_deepnote_index_column": "2021-08-08T05:00:00.000000"
        },
        {
         "Close": 0.8221371173858643,
         "bollinger_upper_band": 0.8168242084286105,
         "bollinger_lower_band": 0.7876535964706052,
         "bollinger_signal": -1,
         "bb_position": 0,
         "_deepnote_index_column": "2021-08-08T06:00:00.000000"
        },
        {
         "Close": 0.8285307884216309,
         "bollinger_upper_band": 0.8195710244173762,
         "bollinger_lower_band": 0.7887869951730015,
         "bollinger_signal": -1,
         "bb_position": 0,
         "_deepnote_index_column": "2021-08-08T07:00:00.000000"
        },
        {
         "Close": 0.8223246335983276,
         "bollinger_upper_band": 0.821317993715843,
         "bollinger_lower_band": 0.7902179369177018,
         "bollinger_signal": -1,
         "bb_position": 0,
         "_deepnote_index_column": "2021-08-08T08:00:00.000000"
        },
        {
         "Close": 0.8114379644393921,
         "bollinger_upper_band": 0.8213346704924097,
         "bollinger_lower_band": 0.7939051821744451,
         "bollinger_signal": 0,
         "bb_position": 0,
         "_deepnote_index_column": "2021-08-08T09:00:00.000000"
        },
        {
         "Close": 0.8126380443572998,
         "bollinger_upper_band": 0.8207238449202572,
         "bollinger_lower_band": 0.7984246061696019,
         "bollinger_signal": 0,
         "bb_position": 0,
         "_deepnote_index_column": "2021-08-08T10:00:00.000000"
        },
        {
         "Close": 0.8030365109443665,
         "bollinger_upper_band": 0.8205760886555773,
         "bollinger_lower_band": 0.799761951934709,
         "bollinger_signal": 0,
         "bb_position": 0,
         "_deepnote_index_column": "2021-08-08T11:00:00.000000"
        },
        {
         "Close": 0.8001503944396973,
         "bollinger_upper_band": 0.8204946428260481,
         "bollinger_lower_band": 0.7992833167591417,
         "bollinger_signal": 0,
         "bb_position": 0,
         "_deepnote_index_column": "2021-08-08T12:00:00.000000"
        },
        {
         "Close": 0.8123614192008972,
         "bollinger_upper_band": 0.8208610870320466,
         "bollinger_lower_band": 0.799983187727246,
         "bollinger_signal": 0,
         "bb_position": 0,
         "_deepnote_index_column": "2021-08-08T13:00:00.000000"
        },
        {
         "Close": 0.8075140118598938,
         "bollinger_upper_band": 0.8207535096595977,
         "bollinger_lower_band": 0.8016048661281372,
         "bollinger_signal": 0,
         "bb_position": 0,
         "_deepnote_index_column": "2021-08-08T14:00:00.000000"
        },
        {
         "Close": 0.7874436974525452,
         "bollinger_upper_band": 0.8212411162763211,
         "bollinger_lower_band": 0.7999302151293186,
         "bollinger_signal": 1,
         "bb_position": 1,
         "_deepnote_index_column": "2021-08-08T15:00:00.000000"
        },
        {
         "Close": 0.7861583828926086,
         "bollinger_upper_band": 0.8216075984063256,
         "bollinger_lower_band": 0.797800365346421,
         "bollinger_signal": 1,
         "bb_position": 1,
         "_deepnote_index_column": "2021-08-08T16:00:00.000000"
        },
        {
         "Close": 0.779674768447876,
         "bollinger_upper_band": 0.8221028413987723,
         "bollinger_lower_band": 0.7948166284346017,
         "bollinger_signal": 1,
         "bb_position": 1,
         "_deepnote_index_column": "2021-08-08T17:00:00.000000"
        },
        {
         "Close": 0.7871766686439514,
         "bollinger_upper_band": 0.822188247592009,
         "bollinger_lower_band": 0.7935814307622542,
         "bollinger_signal": 1,
         "bb_position": 1,
         "_deepnote_index_column": "2021-08-08T18:00:00.000000"
        },
        {
         "Close": 0.7815697193145752,
         "bollinger_upper_band": 0.8221613033536409,
         "bollinger_lower_band": 0.7912284449812438,
         "bollinger_signal": 1,
         "bb_position": 1,
         "_deepnote_index_column": "2021-08-08T19:00:00.000000"
        },
        {
         "Close": 0.778918445110321,
         "bollinger_upper_band": 0.8212981443300847,
         "bollinger_lower_band": 0.7883553404912348,
         "bollinger_signal": 1,
         "bb_position": 1,
         "_deepnote_index_column": "2021-08-08T20:00:00.000000"
        },
        {
         "Close": 0.7842029929161072,
         "bollinger_upper_band": 0.81843938060202,
         "bollinger_lower_band": 0.7865915136774599,
         "bollinger_signal": 1,
         "bb_position": 1,
         "_deepnote_index_column": "2021-08-08T21:00:00.000000"
        },
        {
         "Close": 0.7921290397644043,
         "bollinger_upper_band": 0.8176781188144902,
         "bollinger_lower_band": 0.7856619645461818,
         "bollinger_signal": 0,
         "bb_position": 1,
         "_deepnote_index_column": "2021-08-08T22:00:00.000000"
        },
        {
         "Close": 0.7942468523979187,
         "bollinger_upper_band": 0.8173893663957755,
         "bollinger_lower_band": 0.785201736919578,
         "bollinger_signal": 0,
         "bb_position": 1,
         "_deepnote_index_column": "2021-08-08T23:00:00.000000"
        },
        {
         "Close": 0.7787393927574158,
         "bollinger_upper_band": 0.8156956923008736,
         "bollinger_lower_band": 0.7829890477656547,
         "bollinger_signal": 1,
         "bb_position": 1,
         "_deepnote_index_column": "2021-08-09T00:00:00.000000"
        },
        {
         "Close": 0.7659614086151123,
         "bollinger_upper_band": 0.8142518455344385,
         "bollinger_lower_band": 0.7793833797615819,
         "bollinger_signal": 1,
         "bb_position": 1,
         "_deepnote_index_column": "2021-08-09T01:00:00.000000"
        },
        {
         "Close": 0.7699768543243408,
         "bollinger_upper_band": 0.8115580582244631,
         "bollinger_lower_band": 0.776861140765405,
         "bollinger_signal": 1,
         "bb_position": 1,
         "_deepnote_index_column": "2021-08-09T02:00:00.000000"
        },
        {
         "Close": 0.7788583636283875,
         "bollinger_upper_band": 0.8073746881895892,
         "bollinger_lower_band": 0.7760772683209546,
         "bollinger_signal": 0,
         "bb_position": 1,
         "_deepnote_index_column": "2021-08-09T03:00:00.000000"
        },
        {
         "Close": 0.7826113104820251,
         "bollinger_upper_band": 0.8037341122073358,
         "bollinger_lower_band": 0.7757465119915778,
         "bollinger_signal": 0,
         "bb_position": 1,
         "_deepnote_index_column": "2021-08-09T04:00:00.000000"
        },
        {
         "Close": 0.7949040532112122,
         "bollinger_upper_band": 0.8020182761792146,
         "bollinger_lower_band": 0.775808956896881,
         "bollinger_signal": 0,
         "bb_position": 1,
         "_deepnote_index_column": "2021-08-09T05:00:00.000000"
        },
        {
         "Close": 0.7881271839141846,
         "bollinger_upper_band": 0.7995438757126483,
         "bollinger_lower_band": 0.7758322713191357,
         "bollinger_signal": 0,
         "bb_position": 1,
         "_deepnote_index_column": "2021-08-09T06:00:00.000000"
        },
        {
         "Close": 0.787296712398529,
         "bollinger_upper_band": 0.7981934481210918,
         "bollinger_lower_band": 0.7756087190561084,
         "bollinger_signal": 0,
         "bb_position": 1,
         "_deepnote_index_column": "2021-08-09T07:00:00.000000"
        },
        {
         "Close": 0.7967813014984131,
         "bollinger_upper_band": 0.7978405667541115,
         "bollinger_lower_band": 0.7756246911289604,
         "bollinger_signal": 0,
         "bb_position": 1,
         "_deepnote_index_column": "2021-08-09T08:00:00.000000"
        },
        {
         "Close": 0.7981806397438049,
         "bollinger_upper_band": 0.7957798476161255,
         "bollinger_lower_band": 0.7762673323212372,
         "bollinger_signal": -1,
         "bb_position": 0,
         "_deepnote_index_column": "2021-08-09T09:00:00.000000"
        },
        {
         "Close": 0.8096413016319275,
         "bollinger_upper_band": 0.7961411022053533,
         "bollinger_lower_band": 0.7761188067092128,
         "bollinger_signal": -1,
         "bb_position": 0,
         "_deepnote_index_column": "2021-08-09T10:00:00.000000"
        },
        {
         "Close": 0.816961407661438,
         "bollinger_upper_band": 0.7997660129466386,
         "bollinger_lower_band": 0.7754456669888168,
         "bollinger_signal": -1,
         "bb_position": 0,
         "_deepnote_index_column": "2021-08-09T11:00:00.000000"
        },
        {
         "Close": 0.8193760514259338,
         "bollinger_upper_band": 0.803337235410737,
         "bollinger_lower_band": 0.775196211378051,
         "bollinger_signal": -1,
         "bb_position": 0,
         "_deepnote_index_column": "2021-08-09T12:00:00.000000"
        },
        {
         "Close": 0.8166133165359497,
         "bollinger_upper_band": 0.8062432916260124,
         "bollinger_lower_band": 0.7759840099715828,
         "bollinger_signal": -1,
         "bb_position": 0,
         "_deepnote_index_column": "2021-08-09T13:00:00.000000"
        },
        {
         "Close": 0.8115898370742798,
         "bollinger_upper_band": 0.8081010110345977,
         "bollinger_lower_band": 0.7765676074060303,
         "bollinger_signal": -1,
         "bb_position": 0,
         "_deepnote_index_column": "2021-08-09T14:00:00.000000"
        },
        {
         "Close": 0.8130114674568176,
         "bollinger_upper_band": 0.8101048828083156,
         "bollinger_lower_band": 0.7777079104465366,
         "bollinger_signal": -1,
         "bb_position": 0,
         "_deepnote_index_column": "2021-08-09T15:00:00.000000"
        },
        {
         "Close": 0.8204382061958313,
         "bollinger_upper_band": 0.8128073846218941,
         "bollinger_lower_band": 0.7791573847415093,
         "bollinger_signal": -1,
         "bb_position": 0,
         "_deepnote_index_column": "2021-08-09T16:00:00.000000"
        },
        {
         "Close": 0.817124605178833,
         "bollinger_upper_band": 0.81484623400266,
         "bollinger_lower_band": 0.780410696587016,
         "bollinger_signal": -1,
         "bb_position": 0,
         "_deepnote_index_column": "2021-08-09T17:00:00.000000"
        },
        {
         "Close": 0.8183885216712952,
         "bollinger_upper_band": 0.8167101846681802,
         "bollinger_lower_band": 0.7811726941121847,
         "bollinger_signal": -1,
         "bb_position": 0,
         "_deepnote_index_column": "2021-08-09T18:00:00.000000"
        },
        {
         "Close": 0.8223690390586853,
         "bollinger_upper_band": 0.8188238611207398,
         "bollinger_lower_band": 0.7818712363257018,
         "bollinger_signal": -1,
         "bb_position": 0,
         "_deepnote_index_column": "2021-08-09T19:00:00.000000"
        },
        {
         "Close": 0.8158291578292847,
         "bollinger_upper_band": 0.8202518125389407,
         "bollinger_lower_band": 0.7841522614146877,
         "bollinger_signal": 0,
         "bb_position": 0,
         "_deepnote_index_column": "2021-08-09T20:00:00.000000"
        },
        {
         "Close": 0.8055914044380188,
         "bollinger_upper_band": 0.820093929595009,
         "bollinger_lower_band": 0.7882731439409102,
         "bollinger_signal": 0,
         "bb_position": 0,
         "_deepnote_index_column": "2021-08-09T21:00:00.000000"
        },
        {
         "Close": 0.8096583485603333,
         "bollinger_upper_band": 0.8199149878599478,
         "bollinger_lower_band": 0.7924202350995707,
         "bollinger_signal": 0,
         "bb_position": 0,
         "_deepnote_index_column": "2021-08-09T22:00:00.000000"
        },
        {
         "Close": 0.8194264769554138,
         "bollinger_upper_band": 0.8206322348271227,
         "bollinger_lower_band": 0.7957597994650984,
         "bollinger_signal": 0,
         "bb_position": 0,
         "_deepnote_index_column": "2021-08-09T23:00:00.000000"
        },
        {
         "Close": 0.8185535073280334,
         "bollinger_upper_band": 0.8210590514653482,
         "bollinger_lower_band": 0.7989272025114738,
         "bollinger_signal": 0,
         "bb_position": 0,
         "_deepnote_index_column": "2021-08-10T00:00:00.000000"
        },
        {
         "Close": 0.8124653100967407,
         "bollinger_upper_band": 0.8213584017464363,
         "bollinger_lower_band": 0.8003839779189384,
         "bollinger_signal": 0,
         "bb_position": 0,
         "_deepnote_index_column": "2021-08-10T01:00:00.000000"
        },
        {
         "Close": 0.811424195766449,
         "bollinger_upper_band": 0.8210551112522041,
         "bollinger_lower_band": 0.8030169695983972,
         "bollinger_signal": 0,
         "bb_position": 0,
         "_deepnote_index_column": "2021-08-10T02:00:00.000000"
        },
        {
         "Close": 0.8144153356552124,
         "bollinger_upper_band": 0.8202835562399183,
         "bollinger_lower_band": 0.8065003869363513,
         "bollinger_signal": 0,
         "bb_position": 0,
         "_deepnote_index_column": "2021-08-10T03:00:00.000000"
        },
        {
         "Close": 0.8044356107711792,
         "bollinger_upper_band": 0.8198607256777164,
         "bollinger_lower_band": 0.8076886484258297,
         "bollinger_signal": 1,
         "bb_position": 1,
         "_deepnote_index_column": "2021-08-10T04:00:00.000000"
        },
        {
         "Close": 0.8098970651626587,
         "bollinger_upper_band": 0.8193275330904108,
         "bollinger_lower_band": 0.8093934835550207,
         "bollinger_signal": 0,
         "bb_position": 1,
         "_deepnote_index_column": "2021-08-10T05:00:00.000000"
        },
        {
         "Close": 0.8105202913284302,
         "bollinger_upper_band": 0.8193312539771654,
         "bollinger_lower_band": 0.8094776616379163,
         "bollinger_signal": 0,
         "bb_position": 1,
         "_deepnote_index_column": "2021-08-10T06:00:00.000000"
        },
        {
         "Close": 0.8169611692428589,
         "bollinger_upper_band": 0.819331235544075,
         "bollinger_lower_band": 0.8094776562291489,
         "bollinger_signal": 0,
         "bb_position": 1,
         "_deepnote_index_column": "2021-08-10T07:00:00.000000"
        },
        {
         "Close": 0.8193774223327637,
         "bollinger_upper_band": 0.8193313769077359,
         "bollinger_lower_band": 0.8094776519561708,
         "bollinger_signal": -1,
         "bb_position": 0,
         "_deepnote_index_column": "2021-08-10T08:00:00.000000"
        },
        {
         "Close": 0.8201133012771606,
         "bollinger_upper_band": 0.8196490535064318,
         "bollinger_lower_band": 0.8095099738315961,
         "bollinger_signal": -1,
         "bb_position": 0,
         "_deepnote_index_column": "2021-08-10T09:00:00.000000"
        },
        {
         "Close": 0.8198803067207336,
         "bollinger_upper_band": 0.8201445511552635,
         "bollinger_lower_band": 0.8098435231474098,
         "bollinger_signal": 0,
         "bb_position": 0,
         "_deepnote_index_column": "2021-08-10T10:00:00.000000"
        },
        {
         "Close": 0.807433009147644,
         "bollinger_upper_band": 0.8201232499084788,
         "bollinger_lower_band": 0.809306978563277,
         "bollinger_signal": 1,
         "bb_position": 1,
         "_deepnote_index_column": "2021-08-10T11:00:00.000000"
        },
        {
         "Close": 0.8152583837509155,
         "bollinger_upper_band": 0.8196972084259445,
         "bollinger_lower_band": 0.80921503780132,
         "bollinger_signal": 0,
         "bb_position": 1,
         "_deepnote_index_column": "2021-08-10T12:00:00.000000"
        },
        {
         "Close": 0.8490090370178223,
         "bollinger_upper_band": 0.8253914331770976,
         "bollinger_lower_band": 0.8067092562340658,
         "bollinger_signal": -1,
         "bb_position": 0,
         "_deepnote_index_column": "2021-08-10T13:00:00.000000"
        },
        {
         "Close": 0.8354390263557434,
         "bollinger_upper_band": 0.8271979394340345,
         "bollinger_lower_band": 0.8066078004455737,
         "bollinger_signal": -1,
         "bb_position": 0,
         "_deepnote_index_column": "2021-08-10T14:00:00.000000"
        },
        {
         "Close": 0.8288268446922302,
         "bollinger_upper_band": 0.8277988085503067,
         "bollinger_lower_band": 0.8066527118926559,
         "bollinger_signal": -1,
         "bb_position": 0,
         "_deepnote_index_column": "2021-08-10T15:00:00.000000"
        },
        {
         "Close": 0.8237518072128296,
         "bollinger_upper_band": 0.8282878691942758,
         "bollinger_lower_band": 0.8069559161870413,
         "bollinger_signal": 0,
         "bb_position": 0,
         "_deepnote_index_column": "2021-08-10T16:00:00.000000"
        },
        {
         "Close": 0.8138244152069092,
         "bollinger_upper_band": 0.8283643787918484,
         "bollinger_lower_band": 0.8077027076663577,
         "bollinger_signal": 0,
         "bb_position": 0,
         "_deepnote_index_column": "2021-08-10T17:00:00.000000"
        },
        {
         "Close": 0.81997150182724,
         "bollinger_upper_band": 0.8286957347738915,
         "bollinger_lower_band": 0.8084026670110054,
         "bollinger_signal": 0,
         "bb_position": 0,
         "_deepnote_index_column": "2021-08-10T18:00:00.000000"
        },
        {
         "Close": 0.8261918425559998,
         "bollinger_upper_band": 0.829176560728867,
         "bollinger_lower_band": 0.8085983776160883,
         "bollinger_signal": 0,
         "bb_position": 0,
         "_deepnote_index_column": "2021-08-10T19:00:00.000000"
        },
        {
         "Close": 0.8347495198249817,
         "bollinger_upper_band": 0.8305789789205534,
         "bollinger_lower_band": 0.8088155606740969,
         "bollinger_signal": -1,
         "bb_position": 0,
         "_deepnote_index_column": "2021-08-10T20:00:00.000000"
        },
        {
         "Close": 0.8428434133529663,
         "bollinger_upper_band": 0.8331085022918407,
         "bollinger_lower_band": 0.8093238476284321,
         "bollinger_signal": -1,
         "bb_position": 0,
         "_deepnote_index_column": "2021-08-10T21:00:00.000000"
        },
        {
         "Close": 0.8587751984596252,
         "bollinger_upper_band": 0.837892009509274,
         "bollinger_lower_band": 0.8092754406803165,
         "bollinger_signal": -1,
         "bb_position": 0,
         "_deepnote_index_column": "2021-08-10T22:00:00.000000"
        },
        {
         "Close": 0.8522931933403015,
         "bollinger_upper_band": 0.8409665795012876,
         "bollinger_lower_band": 0.8099886564568118,
         "bollinger_signal": -1,
         "bb_position": 0,
         "_deepnote_index_column": "2021-08-10T23:00:00.000000"
        },
        {
         "Close": 0.8512465357780457,
         "bollinger_upper_band": 0.8434957690644256,
         "bollinger_lower_band": 0.8121405593943605,
         "bollinger_signal": -1,
         "bb_position": 0,
         "_deepnote_index_column": "2021-08-11T00:00:00.000000"
        }
       ]
      },
      "text/plain": "                              Close  bollinger_upper_band  \\\n2019-09-01 01:00:00+01:00  0.259100                   NaN   \n2019-09-01 02:00:00+01:00  0.258400                   NaN   \n2019-09-01 03:00:00+01:00  0.257800                   NaN   \n2019-09-01 04:00:00+01:00  0.258500                   NaN   \n2019-09-01 05:00:00+01:00  0.258100                   NaN   \n...                             ...                   ...   \n2021-08-10 20:00:00+01:00  0.834750              0.830579   \n2021-08-10 21:00:00+01:00  0.842843              0.833109   \n2021-08-10 22:00:00+01:00  0.858775              0.837892   \n2021-08-10 23:00:00+01:00  0.852293              0.840967   \n2021-08-11 00:00:00+01:00  0.851247              0.843496   \n\n                           bollinger_lower_band  bollinger_signal  bb_position  \n2019-09-01 01:00:00+01:00                   NaN               0.0            1  \n2019-09-01 02:00:00+01:00                   NaN               0.0            1  \n2019-09-01 03:00:00+01:00                   NaN               0.0            1  \n2019-09-01 04:00:00+01:00                   NaN               0.0            1  \n2019-09-01 05:00:00+01:00                   NaN               0.0            1  \n...                                         ...               ...          ...  \n2021-08-10 20:00:00+01:00              0.808816              -1.0            0  \n2021-08-10 21:00:00+01:00              0.809324              -1.0            0  \n2021-08-10 22:00:00+01:00              0.809275              -1.0            0  \n2021-08-10 23:00:00+01:00              0.809989              -1.0            0  \n2021-08-11 00:00:00+01:00              0.812141              -1.0            0  \n\n[17000 rows x 5 columns]",
      "text/html": "<div>\n<style scoped>\n    .dataframe tbody tr th:only-of-type {\n        vertical-align: middle;\n    }\n\n    .dataframe tbody tr th {\n        vertical-align: top;\n    }\n\n    .dataframe thead th {\n        text-align: right;\n    }\n</style>\n<table border=\"1\" class=\"dataframe\">\n  <thead>\n    <tr style=\"text-align: right;\">\n      <th></th>\n      <th>Close</th>\n      <th>bollinger_upper_band</th>\n      <th>bollinger_lower_band</th>\n      <th>bollinger_signal</th>\n      <th>bb_position</th>\n    </tr>\n  </thead>\n  <tbody>\n    <tr>\n      <th>2019-09-01 01:00:00+01:00</th>\n      <td>0.259100</td>\n      <td>NaN</td>\n      <td>NaN</td>\n      <td>0.0</td>\n      <td>1</td>\n    </tr>\n    <tr>\n      <th>2019-09-01 02:00:00+01:00</th>\n      <td>0.258400</td>\n      <td>NaN</td>\n      <td>NaN</td>\n      <td>0.0</td>\n      <td>1</td>\n    </tr>\n    <tr>\n      <th>2019-09-01 03:00:00+01:00</th>\n      <td>0.257800</td>\n      <td>NaN</td>\n      <td>NaN</td>\n      <td>0.0</td>\n      <td>1</td>\n    </tr>\n    <tr>\n      <th>2019-09-01 04:00:00+01:00</th>\n      <td>0.258500</td>\n      <td>NaN</td>\n      <td>NaN</td>\n      <td>0.0</td>\n      <td>1</td>\n    </tr>\n    <tr>\n      <th>2019-09-01 05:00:00+01:00</th>\n      <td>0.258100</td>\n      <td>NaN</td>\n      <td>NaN</td>\n      <td>0.0</td>\n      <td>1</td>\n    </tr>\n    <tr>\n      <th>...</th>\n      <td>...</td>\n      <td>...</td>\n      <td>...</td>\n      <td>...</td>\n      <td>...</td>\n    </tr>\n    <tr>\n      <th>2021-08-10 20:00:00+01:00</th>\n      <td>0.834750</td>\n      <td>0.830579</td>\n      <td>0.808816</td>\n      <td>-1.0</td>\n      <td>0</td>\n    </tr>\n    <tr>\n      <th>2021-08-10 21:00:00+01:00</th>\n      <td>0.842843</td>\n      <td>0.833109</td>\n      <td>0.809324</td>\n      <td>-1.0</td>\n      <td>0</td>\n    </tr>\n    <tr>\n      <th>2021-08-10 22:00:00+01:00</th>\n      <td>0.858775</td>\n      <td>0.837892</td>\n      <td>0.809275</td>\n      <td>-1.0</td>\n      <td>0</td>\n    </tr>\n    <tr>\n      <th>2021-08-10 23:00:00+01:00</th>\n      <td>0.852293</td>\n      <td>0.840967</td>\n      <td>0.809989</td>\n      <td>-1.0</td>\n      <td>0</td>\n    </tr>\n    <tr>\n      <th>2021-08-11 00:00:00+01:00</th>\n      <td>0.851247</td>\n      <td>0.843496</td>\n      <td>0.812141</td>\n      <td>-1.0</td>\n      <td>0</td>\n    </tr>\n  </tbody>\n</table>\n<p>17000 rows × 5 columns</p>\n</div>"
     },
     "metadata": {}
    }
   ],
   "execution_count": null
  },
  {
   "cell_type": "code",
   "metadata": {
    "tags": [],
    "deepnote_to_be_reexecuted": false,
    "source_hash": "e4e23989",
    "execution_start": 1629323116980,
    "execution_millis": 567,
    "cell_id": "00013-6add3e9e-289f-4a92-b116-0221ffaae3c0",
    "deepnote_cell_type": "code"
   },
   "source": "xrp_ret = pd.DataFrame(np.diff(xrp['Close'])).rename(columns = {0:'returns'})\nbb_strategy_ret = []\n\nfor i in range(len(xrp_ret)):\n    try:\n        returns = xrp_ret['returns'][i]*strategy['bb_position'][i]\n        bb_strategy_ret.append(returns)\n    except:\n        pass\n    \nbb_strategy_ret_df = pd.DataFrame(bb_strategy_ret).rename(columns = {0:'bb_returns'})\n\ninvestment_value = 100000\nnumber_of_stocks = math.floor(investment_value/xrp['Close'][-1])\nbb_investment_ret = []\n\nfor i in range(len(bb_strategy_ret_df['bb_returns'])):\n    returns = number_of_stocks*bb_strategy_ret_df['bb_returns'][i]\n    bb_investment_ret.append(returns)\n\nbb_investment_ret_df = pd.DataFrame(bb_investment_ret).rename(columns = {0:'investment_returns'})\ntotal_investment_ret = round(sum(bb_investment_ret_df['investment_returns']), 2)\nprofit_percentage = math.floor((total_investment_ret/investment_value)*100)\nprint(cl('Profit gained from the BB strategy by investing $100k in XRP : {}'.format(total_investment_ret), attrs = ['bold']))\nprint(cl('Profit percentage of the BB strategy : {}%'.format(profit_percentage), attrs = ['bold']))",
   "outputs": [
    {
     "name": "stdout",
     "text": "\u001b[1mProfit gained from the BB strategy by investing $100k in XRP : -22542.77\u001b[0m\n\u001b[1mProfit percentage of the BB strategy : -23%\u001b[0m\n",
     "output_type": "stream"
    }
   ],
   "execution_count": null
  },
  {
   "cell_type": "code",
   "metadata": {
    "tags": [],
    "deepnote_to_be_reexecuted": false,
    "source_hash": "9e185466",
    "execution_start": 1629323117556,
    "execution_millis": 457,
    "cell_id": "00014-7db7fe9d-9179-4133-8302-4732ecf7222a",
    "deepnote_cell_type": "code"
   },
   "source": "strategy.to_csv('XRP 1H BOLLINGER BANDS TRADE STRATEGY.CSV')",
   "outputs": [],
   "execution_count": null
  },
  {
   "cell_type": "markdown",
   "source": "<a style='text-decoration:none;line-height:16px;display:flex;color:#5B5B62;padding:10px;justify-content:end;' href='https://deepnote.com?utm_source=created-in-deepnote-cell&projectId=d12c285c-6789-4c45-9ad7-1be9b4d60622' target=\"_blank\">\n<img alt='Created in deepnote.com' style='display:inline;max-height:16px;margin:0px;margin-right:7.5px;' src='data:image/svg+xml;base64,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' > </img>\nCreated in <span style='font-weight:600;margin-left:4px;'>Deepnote</span></a>",
   "metadata": {
    "tags": [],
    "created_in_deepnote_cell": true,
    "deepnote_cell_type": "markdown"
   }
  }
 ],
 "nbformat": 4,
 "nbformat_minor": 2,
 "metadata": {
  "orig_nbformat": 2,
  "deepnote": {
   "is_reactive": false
  },
  "deepnote_notebook_id": "1940f2bd-9732-43a9-9a6b-0854c110d3fd",
  "deepnote_execution_queue": []
 }
}