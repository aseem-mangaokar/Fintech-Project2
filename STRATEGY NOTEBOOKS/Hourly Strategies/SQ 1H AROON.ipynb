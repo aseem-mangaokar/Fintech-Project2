{
 "cells": [
  {
   "cell_type": "code",
   "metadata": {
    "tags": [],
    "cell_id": "00000-1013102e-5ff5-44cf-afe9-f0fb615b2690",
    "deepnote_to_be_reexecuted": false,
    "source_hash": "6566253a",
    "execution_start": 1629249965756,
    "execution_millis": 317,
    "deepnote_cell_type": "code"
   },
   "source": "import pandas as pd\nimport numpy as np\nimport requests\nimport matplotlib.pyplot as plt\nfrom math import floor\nfrom termcolor import colored as cl\nimport yfinance as yf\nfrom ta import add_all_ta_features\nfrom ta.utils import dropna\n\nplt.style.use('fivethirtyeight')\nplt.rcParams['figure.figsize'] = (20, 10)",
   "execution_count": null,
   "outputs": []
  },
  {
   "cell_type": "code",
   "metadata": {
    "tags": [],
    "cell_id": "00002-1ed66b7d-69fb-48f7-a79c-b185d034a100",
    "deepnote_to_be_reexecuted": false,
    "source_hash": "d5eaff1d",
    "execution_start": 1629249966092,
    "execution_millis": 3538,
    "deepnote_cell_type": "code"
   },
   "source": "def get_aroon(symbol, start_date):\n\n    raw_df = yf.download(tickers = symbol, start='2019-09-01', end = '2021-08-11', interval='1h')\n    raw_df.drop(columns = ['Adj Close'], inplace = True)\n    # raw_df.reset_index(inplace = True)\n    raw_df.rename(columns = {'index' : 'DateTime'}, inplace = True)\n    \n    mom_data = add_all_ta_features(raw_df, open='Open', high= 'High', low='Low', close='Close', volume='Volume')\n    # mom_data.set_index('DateTime', inplace = True)\n    aroon_up = mom_data['trend_aroon_up']\n    aroon_down = mom_data['trend_aroon_down']\n    \n    ticker_aroon = mom_data[['Close', 'trend_aroon_up', 'trend_aroon_down']]\n\n    return ticker_aroon\n\nget_aroon('SQ', '2019-09-01')\n\n",
   "execution_count": null,
   "outputs": [
    {
     "name": "stdout",
     "text": "[*********************100%***********************]  1 of 1 completed\n/root/venv/lib/python3.7/site-packages/ta/trend.py:768: RuntimeWarning: invalid value encountered in double_scalars\n  dip[i] = 100 * (self._dip[i] / self._trs[i])\n/root/venv/lib/python3.7/site-packages/ta/trend.py:772: RuntimeWarning: invalid value encountered in double_scalars\n  din[i] = 100 * (self._din[i] / self._trs[i])\n",
     "output_type": "stream"
    },
    {
     "output_type": "execute_result",
     "execution_count": 2,
     "data": {
      "application/vnd.deepnote.dataframe.v2+json": {
       "row_count": 3367,
       "column_count": 3,
       "columns": [
        {
         "name": "Close",
         "dtype": "float64",
         "stats": {
          "unique_count": 3111,
          "nan_count": 0,
          "min": "33.119998931884766",
          "max": "280.9800109863281",
          "histogram": [
           {
            "bin_start": 33.119998931884766,
            "bin_end": 57.9060001373291,
            "count": 177
           },
           {
            "bin_start": 57.9060001373291,
            "bin_end": 82.69200134277344,
            "count": 1102
           },
           {
            "bin_start": 82.69200134277344,
            "bin_end": 107.47800254821777,
            "count": 178
           },
           {
            "bin_start": 107.47800254821777,
            "bin_end": 132.2640037536621,
            "count": 149
           },
           {
            "bin_start": 132.2640037536621,
            "bin_end": 157.05000495910645,
            "count": 255
           },
           {
            "bin_start": 157.05000495910645,
            "bin_end": 181.83600616455078,
            "count": 194
           },
           {
            "bin_start": 181.83600616455078,
            "bin_end": 206.62200736999512,
            "count": 202
           },
           {
            "bin_start": 206.62200736999512,
            "bin_end": 231.40800857543945,
            "count": 517
           },
           {
            "bin_start": 231.40800857543945,
            "bin_end": 256.1940097808838,
            "count": 415
           },
           {
            "bin_start": 256.1940097808838,
            "bin_end": 280.9800109863281,
            "count": 178
           }
          ]
         }
        },
        {
         "name": "trend_aroon_up",
         "dtype": "float64",
         "stats": {
          "unique_count": 25,
          "nan_count": 24,
          "min": "4.0",
          "max": "100.0",
          "histogram": [
           {
            "bin_start": 4,
            "bin_end": 13.6,
            "count": 607
           },
           {
            "bin_start": 13.6,
            "bin_end": 23.2,
            "count": 203
           },
           {
            "bin_start": 23.2,
            "bin_end": 32.8,
            "count": 265
           },
           {
            "bin_start": 32.8,
            "bin_end": 42.4,
            "count": 167
           },
           {
            "bin_start": 42.4,
            "bin_end": 52,
            "count": 174
           },
           {
            "bin_start": 52,
            "bin_end": 61.599999999999994,
            "count": 285
           },
           {
            "bin_start": 61.599999999999994,
            "bin_end": 71.2,
            "count": 186
           },
           {
            "bin_start": 71.2,
            "bin_end": 80.8,
            "count": 323
           },
           {
            "bin_start": 80.8,
            "bin_end": 90.39999999999999,
            "count": 285
           },
           {
            "bin_start": 90.39999999999999,
            "bin_end": 100,
            "count": 848
           }
          ]
         }
        },
        {
         "name": "trend_aroon_down",
         "dtype": "float64",
         "stats": {
          "unique_count": 25,
          "nan_count": 24,
          "min": "4.0",
          "max": "100.0",
          "histogram": [
           {
            "bin_start": 4,
            "bin_end": 13.6,
            "count": 943
           },
           {
            "bin_start": 13.6,
            "bin_end": 23.2,
            "count": 304
           },
           {
            "bin_start": 23.2,
            "bin_end": 32.8,
            "count": 361
           },
           {
            "bin_start": 32.8,
            "bin_end": 42.4,
            "count": 197
           },
           {
            "bin_start": 42.4,
            "bin_end": 52,
            "count": 175
           },
           {
            "bin_start": 52,
            "bin_end": 61.599999999999994,
            "count": 241
           },
           {
            "bin_start": 61.599999999999994,
            "bin_end": 71.2,
            "count": 152
           },
           {
            "bin_start": 71.2,
            "bin_end": 80.8,
            "count": 240
           },
           {
            "bin_start": 80.8,
            "bin_end": 90.39999999999999,
            "count": 194
           },
           {
            "bin_start": 90.39999999999999,
            "bin_end": 100,
            "count": 536
           }
          ]
         }
        },
        {
         "name": "_deepnote_index_column",
         "dtype": "datetime64[ns, America/New_York]"
        }
       ],
       "rows_top": [
        {
         "Close": 62.959999084472656,
         "trend_aroon_up": "nan",
         "trend_aroon_down": "nan",
         "_deepnote_index_column": "2019-09-03T09:30:00.000000"
        },
        {
         "Close": 62.31999969482422,
         "trend_aroon_up": "nan",
         "trend_aroon_down": "nan",
         "_deepnote_index_column": "2019-09-03T10:30:00.000000"
        },
        {
         "Close": 62,
         "trend_aroon_up": "nan",
         "trend_aroon_down": "nan",
         "_deepnote_index_column": "2019-09-03T11:30:00.000000"
        },
        {
         "Close": 61.774898529052734,
         "trend_aroon_up": "nan",
         "trend_aroon_down": "nan",
         "_deepnote_index_column": "2019-09-03T12:30:00.000000"
        },
        {
         "Close": 61.36000061035156,
         "trend_aroon_up": "nan",
         "trend_aroon_down": "nan",
         "_deepnote_index_column": "2019-09-03T13:30:00.000000"
        },
        {
         "Close": 61.125,
         "trend_aroon_up": "nan",
         "trend_aroon_down": "nan",
         "_deepnote_index_column": "2019-09-03T14:30:00.000000"
        },
        {
         "Close": 61.13999938964844,
         "trend_aroon_up": "nan",
         "trend_aroon_down": "nan",
         "_deepnote_index_column": "2019-09-03T15:30:00.000000"
        },
        {
         "Close": 61.93000030517578,
         "trend_aroon_up": "nan",
         "trend_aroon_down": "nan",
         "_deepnote_index_column": "2019-09-04T09:30:00.000000"
        },
        {
         "Close": 62.02000045776367,
         "trend_aroon_up": "nan",
         "trend_aroon_down": "nan",
         "_deepnote_index_column": "2019-09-04T10:30:00.000000"
        },
        {
         "Close": 61.41999816894531,
         "trend_aroon_up": "nan",
         "trend_aroon_down": "nan",
         "_deepnote_index_column": "2019-09-04T11:30:00.000000"
        },
        {
         "Close": 61.07500076293945,
         "trend_aroon_up": "nan",
         "trend_aroon_down": "nan",
         "_deepnote_index_column": "2019-09-04T12:30:00.000000"
        },
        {
         "Close": 61.11000061035156,
         "trend_aroon_up": "nan",
         "trend_aroon_down": "nan",
         "_deepnote_index_column": "2019-09-04T13:30:00.000000"
        },
        {
         "Close": 61.040000915527344,
         "trend_aroon_up": "nan",
         "trend_aroon_down": "nan",
         "_deepnote_index_column": "2019-09-04T14:30:00.000000"
        },
        {
         "Close": 61.08000183105469,
         "trend_aroon_up": "nan",
         "trend_aroon_down": "nan",
         "_deepnote_index_column": "2019-09-04T15:30:00.000000"
        },
        {
         "Close": 63.08250045776367,
         "trend_aroon_up": "nan",
         "trend_aroon_down": "nan",
         "_deepnote_index_column": "2019-09-05T09:30:00.000000"
        },
        {
         "Close": 62.67900085449219,
         "trend_aroon_up": "nan",
         "trend_aroon_down": "nan",
         "_deepnote_index_column": "2019-09-05T10:30:00.000000"
        },
        {
         "Close": 62.45280075073242,
         "trend_aroon_up": "nan",
         "trend_aroon_down": "nan",
         "_deepnote_index_column": "2019-09-05T11:30:00.000000"
        },
        {
         "Close": 62.83000183105469,
         "trend_aroon_up": "nan",
         "trend_aroon_down": "nan",
         "_deepnote_index_column": "2019-09-05T12:30:00.000000"
        },
        {
         "Close": 62.95500183105469,
         "trend_aroon_up": "nan",
         "trend_aroon_down": "nan",
         "_deepnote_index_column": "2019-09-05T13:30:00.000000"
        },
        {
         "Close": 63.150001525878906,
         "trend_aroon_up": "nan",
         "trend_aroon_down": "nan",
         "_deepnote_index_column": "2019-09-05T14:30:00.000000"
        },
        {
         "Close": 63.04499816894531,
         "trend_aroon_up": "nan",
         "trend_aroon_down": "nan",
         "_deepnote_index_column": "2019-09-05T15:30:00.000000"
        },
        {
         "Close": 63.31999969482422,
         "trend_aroon_up": "nan",
         "trend_aroon_down": "nan",
         "_deepnote_index_column": "2019-09-06T09:30:00.000000"
        },
        {
         "Close": 62.97610092163086,
         "trend_aroon_up": "nan",
         "trend_aroon_down": "nan",
         "_deepnote_index_column": "2019-09-06T10:30:00.000000"
        },
        {
         "Close": 63.279998779296875,
         "trend_aroon_up": "nan",
         "trend_aroon_down": "nan",
         "_deepnote_index_column": "2019-09-06T11:30:00.000000"
        },
        {
         "Close": 62.97600173950195,
         "trend_aroon_up": 88,
         "trend_aroon_down": 52,
         "_deepnote_index_column": "2019-09-06T12:30:00.000000"
        },
        {
         "Close": 62.650001525878906,
         "trend_aroon_up": 84,
         "trend_aroon_down": 48,
         "_deepnote_index_column": "2019-09-06T13:30:00.000000"
        },
        {
         "Close": 62.30500030517578,
         "trend_aroon_up": 80,
         "trend_aroon_down": 44,
         "_deepnote_index_column": "2019-09-06T14:30:00.000000"
        },
        {
         "Close": 61.97999954223633,
         "trend_aroon_up": 76,
         "trend_aroon_down": 40,
         "_deepnote_index_column": "2019-09-06T15:30:00.000000"
        },
        {
         "Close": 61.70000076293945,
         "trend_aroon_up": 72,
         "trend_aroon_down": 36,
         "_deepnote_index_column": "2019-09-09T09:30:00.000000"
        },
        {
         "Close": 61.68000030517578,
         "trend_aroon_up": 68,
         "trend_aroon_down": 32,
         "_deepnote_index_column": "2019-09-09T10:30:00.000000"
        },
        {
         "Close": 60.95000076293945,
         "trend_aroon_up": 64,
         "trend_aroon_down": 100,
         "_deepnote_index_column": "2019-09-09T11:30:00.000000"
        },
        {
         "Close": 59.92499923706055,
         "trend_aroon_up": 60,
         "trend_aroon_down": 100,
         "_deepnote_index_column": "2019-09-09T12:30:00.000000"
        },
        {
         "Close": 59.752201080322266,
         "trend_aroon_up": 56.00000000000001,
         "trend_aroon_down": 100,
         "_deepnote_index_column": "2019-09-09T13:30:00.000000"
        },
        {
         "Close": 60.86000061035156,
         "trend_aroon_up": 52,
         "trend_aroon_down": 96,
         "_deepnote_index_column": "2019-09-09T14:30:00.000000"
        },
        {
         "Close": 61.45000076293945,
         "trend_aroon_up": 48,
         "trend_aroon_down": 92,
         "_deepnote_index_column": "2019-09-09T15:30:00.000000"
        },
        {
         "Close": 61.380001068115234,
         "trend_aroon_up": 44,
         "trend_aroon_down": 88,
         "_deepnote_index_column": "2019-09-10T09:30:00.000000"
        },
        {
         "Close": 61.207298278808594,
         "trend_aroon_up": 40,
         "trend_aroon_down": 84,
         "_deepnote_index_column": "2019-09-10T10:30:00.000000"
        },
        {
         "Close": 61.38999938964844,
         "trend_aroon_up": 36,
         "trend_aroon_down": 80,
         "_deepnote_index_column": "2019-09-10T11:30:00.000000"
        },
        {
         "Close": 61.15800094604492,
         "trend_aroon_up": 32,
         "trend_aroon_down": 76,
         "_deepnote_index_column": "2019-09-10T12:30:00.000000"
        },
        {
         "Close": 60.58000183105469,
         "trend_aroon_up": 28.000000000000004,
         "trend_aroon_down": 72,
         "_deepnote_index_column": "2019-09-10T13:30:00.000000"
        },
        {
         "Close": 60.4900016784668,
         "trend_aroon_up": 24,
         "trend_aroon_down": 68,
         "_deepnote_index_column": "2019-09-10T14:30:00.000000"
        },
        {
         "Close": 60.5,
         "trend_aroon_up": 20,
         "trend_aroon_down": 64,
         "_deepnote_index_column": "2019-09-10T15:30:00.000000"
        },
        {
         "Close": 60.45000076293945,
         "trend_aroon_up": 16,
         "trend_aroon_down": 60,
         "_deepnote_index_column": "2019-09-11T09:30:00.000000"
        },
        {
         "Close": 59.97999954223633,
         "trend_aroon_up": 12,
         "trend_aroon_down": 56.00000000000001,
         "_deepnote_index_column": "2019-09-11T10:30:00.000000"
        },
        {
         "Close": 60.22999954223633,
         "trend_aroon_up": 8,
         "trend_aroon_down": 52,
         "_deepnote_index_column": "2019-09-11T11:30:00.000000"
        },
        {
         "Close": 60.201499938964844,
         "trend_aroon_up": 4,
         "trend_aroon_down": 48,
         "_deepnote_index_column": "2019-09-11T12:30:00.000000"
        },
        {
         "Close": 59.69340133666992,
         "trend_aroon_up": 8,
         "trend_aroon_down": 100,
         "_deepnote_index_column": "2019-09-11T13:30:00.000000"
        },
        {
         "Close": 59.014198303222656,
         "trend_aroon_up": 4,
         "trend_aroon_down": 100,
         "_deepnote_index_column": "2019-09-11T14:30:00.000000"
        },
        {
         "Close": 59.18000030517578,
         "trend_aroon_up": 4,
         "trend_aroon_down": 96,
         "_deepnote_index_column": "2019-09-11T15:30:00.000000"
        },
        {
         "Close": 58.959598541259766,
         "trend_aroon_up": 4,
         "trend_aroon_down": 100,
         "_deepnote_index_column": "2019-09-12T09:30:00.000000"
        },
        {
         "Close": 58.560001373291016,
         "trend_aroon_up": 4,
         "trend_aroon_down": 100,
         "_deepnote_index_column": "2019-09-12T10:30:00.000000"
        },
        {
         "Close": 58.310001373291016,
         "trend_aroon_up": 4,
         "trend_aroon_down": 100,
         "_deepnote_index_column": "2019-09-12T11:30:00.000000"
        },
        {
         "Close": 58.2400016784668,
         "trend_aroon_up": 4,
         "trend_aroon_down": 100,
         "_deepnote_index_column": "2019-09-12T12:30:00.000000"
        },
        {
         "Close": 58,
         "trend_aroon_up": 4,
         "trend_aroon_down": 100,
         "_deepnote_index_column": "2019-09-12T13:30:00.000000"
        },
        {
         "Close": 58.095001220703125,
         "trend_aroon_up": 20,
         "trend_aroon_down": 96,
         "_deepnote_index_column": "2019-09-12T14:30:00.000000"
        },
        {
         "Close": 57.790000915527344,
         "trend_aroon_up": 16,
         "trend_aroon_down": 100,
         "_deepnote_index_column": "2019-09-12T15:30:00.000000"
        },
        {
         "Close": 58.22999954223633,
         "trend_aroon_up": 12,
         "trend_aroon_down": 96,
         "_deepnote_index_column": "2019-09-13T09:30:00.000000"
        },
        {
         "Close": 58.279998779296875,
         "trend_aroon_up": 8,
         "trend_aroon_down": 92,
         "_deepnote_index_column": "2019-09-13T10:30:00.000000"
        },
        {
         "Close": 58.7599983215332,
         "trend_aroon_up": 4,
         "trend_aroon_down": 88,
         "_deepnote_index_column": "2019-09-13T11:30:00.000000"
        },
        {
         "Close": 58.483699798583984,
         "trend_aroon_up": 12,
         "trend_aroon_down": 84,
         "_deepnote_index_column": "2019-09-13T12:30:00.000000"
        },
        {
         "Close": 58.1349983215332,
         "trend_aroon_up": 8,
         "trend_aroon_down": 80,
         "_deepnote_index_column": "2019-09-13T13:30:00.000000"
        },
        {
         "Close": 58.290000915527344,
         "trend_aroon_up": 4,
         "trend_aroon_down": 76,
         "_deepnote_index_column": "2019-09-13T14:30:00.000000"
        },
        {
         "Close": 58.31999969482422,
         "trend_aroon_up": 4,
         "trend_aroon_down": 72,
         "_deepnote_index_column": "2019-09-13T15:30:00.000000"
        },
        {
         "Close": 57.529998779296875,
         "trend_aroon_up": 4,
         "trend_aroon_down": 100,
         "_deepnote_index_column": "2019-09-16T09:30:00.000000"
        },
        {
         "Close": 58.02510070800781,
         "trend_aroon_up": 8,
         "trend_aroon_down": 96,
         "_deepnote_index_column": "2019-09-16T10:30:00.000000"
        },
        {
         "Close": 58.14889907836914,
         "trend_aroon_up": 4,
         "trend_aroon_down": 92,
         "_deepnote_index_column": "2019-09-16T11:30:00.000000"
        },
        {
         "Close": 59.494998931884766,
         "trend_aroon_up": 4,
         "trend_aroon_down": 88,
         "_deepnote_index_column": "2019-09-16T12:30:00.000000"
        },
        {
         "Close": 59.470001220703125,
         "trend_aroon_up": 8,
         "trend_aroon_down": 84,
         "_deepnote_index_column": "2019-09-16T13:30:00.000000"
        },
        {
         "Close": 59.31999969482422,
         "trend_aroon_up": 4,
         "trend_aroon_down": 80,
         "_deepnote_index_column": "2019-09-16T14:30:00.000000"
        },
        {
         "Close": 59.25,
         "trend_aroon_up": 4,
         "trend_aroon_down": 76,
         "_deepnote_index_column": "2019-09-16T15:30:00.000000"
        },
        {
         "Close": 59.65999984741211,
         "trend_aroon_up": 4,
         "trend_aroon_down": 72,
         "_deepnote_index_column": "2019-09-17T09:30:00.000000"
        },
        {
         "Close": 59.529998779296875,
         "trend_aroon_up": 96,
         "trend_aroon_down": 68,
         "_deepnote_index_column": "2019-09-17T10:30:00.000000"
        },
        {
         "Close": 59.63999938964844,
         "trend_aroon_up": 92,
         "trend_aroon_down": 64,
         "_deepnote_index_column": "2019-09-17T11:30:00.000000"
        },
        {
         "Close": 59.40999984741211,
         "trend_aroon_up": 88,
         "trend_aroon_down": 60,
         "_deepnote_index_column": "2019-09-17T12:30:00.000000"
        },
        {
         "Close": 59.349998474121094,
         "trend_aroon_up": 84,
         "trend_aroon_down": 56.00000000000001,
         "_deepnote_index_column": "2019-09-17T13:30:00.000000"
        },
        {
         "Close": 59.54999923706055,
         "trend_aroon_up": 80,
         "trend_aroon_down": 52,
         "_deepnote_index_column": "2019-09-17T14:30:00.000000"
        },
        {
         "Close": 59.540000915527344,
         "trend_aroon_up": 76,
         "trend_aroon_down": 48,
         "_deepnote_index_column": "2019-09-17T15:30:00.000000"
        },
        {
         "Close": 59.77000045776367,
         "trend_aroon_up": 100,
         "trend_aroon_down": 44,
         "_deepnote_index_column": "2019-09-18T09:30:00.000000"
        },
        {
         "Close": 59.41999816894531,
         "trend_aroon_up": 96,
         "trend_aroon_down": 40,
         "_deepnote_index_column": "2019-09-18T10:30:00.000000"
        },
        {
         "Close": 59.27000045776367,
         "trend_aroon_up": 92,
         "trend_aroon_down": 36,
         "_deepnote_index_column": "2019-09-18T11:30:00.000000"
        },
        {
         "Close": 59.165000915527344,
         "trend_aroon_up": 88,
         "trend_aroon_down": 32,
         "_deepnote_index_column": "2019-09-18T12:30:00.000000"
        },
        {
         "Close": 58.9900016784668,
         "trend_aroon_up": 84,
         "trend_aroon_down": 28.000000000000004,
         "_deepnote_index_column": "2019-09-18T13:30:00.000000"
        },
        {
         "Close": 59.540000915527344,
         "trend_aroon_up": 80,
         "trend_aroon_down": 24,
         "_deepnote_index_column": "2019-09-18T14:30:00.000000"
        },
        {
         "Close": 59.72999954223633,
         "trend_aroon_up": 76,
         "trend_aroon_down": 20,
         "_deepnote_index_column": "2019-09-18T15:30:00.000000"
        },
        {
         "Close": 59.75,
         "trend_aroon_up": 72,
         "trend_aroon_down": 16,
         "_deepnote_index_column": "2019-09-19T09:30:00.000000"
        },
        {
         "Close": 59.709999084472656,
         "trend_aroon_up": 68,
         "trend_aroon_down": 12,
         "_deepnote_index_column": "2019-09-19T10:30:00.000000"
        },
        {
         "Close": 58.77109909057617,
         "trend_aroon_up": 64,
         "trend_aroon_down": 8,
         "_deepnote_index_column": "2019-09-19T11:30:00.000000"
        },
        {
         "Close": 58.7599983215332,
         "trend_aroon_up": 60,
         "trend_aroon_down": 4,
         "_deepnote_index_column": "2019-09-19T12:30:00.000000"
        },
        {
         "Close": 58.86009979248047,
         "trend_aroon_up": 56.00000000000001,
         "trend_aroon_down": 4,
         "_deepnote_index_column": "2019-09-19T13:30:00.000000"
        },
        {
         "Close": 58.900001525878906,
         "trend_aroon_up": 52,
         "trend_aroon_down": 4,
         "_deepnote_index_column": "2019-09-19T14:30:00.000000"
        },
        {
         "Close": 59.029998779296875,
         "trend_aroon_up": 48,
         "trend_aroon_down": 88,
         "_deepnote_index_column": "2019-09-19T15:30:00.000000"
        },
        {
         "Close": 58.279998779296875,
         "trend_aroon_up": 44,
         "trend_aroon_down": 100,
         "_deepnote_index_column": "2019-09-20T09:30:00.000000"
        },
        {
         "Close": 57.685001373291016,
         "trend_aroon_up": 40,
         "trend_aroon_down": 100,
         "_deepnote_index_column": "2019-09-20T10:30:00.000000"
        },
        {
         "Close": 57.41999816894531,
         "trend_aroon_up": 36,
         "trend_aroon_down": 100,
         "_deepnote_index_column": "2019-09-20T11:30:00.000000"
        },
        {
         "Close": 57.34000015258789,
         "trend_aroon_up": 32,
         "trend_aroon_down": 100,
         "_deepnote_index_column": "2019-09-20T12:30:00.000000"
        },
        {
         "Close": 57.45000076293945,
         "trend_aroon_up": 28.000000000000004,
         "trend_aroon_down": 96,
         "_deepnote_index_column": "2019-09-20T13:30:00.000000"
        },
        {
         "Close": 57.88010025024414,
         "trend_aroon_up": 24,
         "trend_aroon_down": 92,
         "_deepnote_index_column": "2019-09-20T14:30:00.000000"
        },
        {
         "Close": 57.83000183105469,
         "trend_aroon_up": 20,
         "trend_aroon_down": 88,
         "_deepnote_index_column": "2019-09-20T15:30:00.000000"
        },
        {
         "Close": 56.650001525878906,
         "trend_aroon_up": 16,
         "trend_aroon_down": 100,
         "_deepnote_index_column": "2019-09-23T09:30:00.000000"
        },
        {
         "Close": 56.790000915527344,
         "trend_aroon_up": 12,
         "trend_aroon_down": 96,
         "_deepnote_index_column": "2019-09-23T10:30:00.000000"
        },
        {
         "Close": 57,
         "trend_aroon_up": 8,
         "trend_aroon_down": 92,
         "_deepnote_index_column": "2019-09-23T11:30:00.000000"
        },
        {
         "Close": 56.689998626708984,
         "trend_aroon_up": 4,
         "trend_aroon_down": 88,
         "_deepnote_index_column": "2019-09-23T12:30:00.000000"
        },
        {
         "Close": 56.6599006652832,
         "trend_aroon_up": 28.000000000000004,
         "trend_aroon_down": 84,
         "_deepnote_index_column": "2019-09-23T13:30:00.000000"
        },
        {
         "Close": 56.7598991394043,
         "trend_aroon_up": 24,
         "trend_aroon_down": 80,
         "_deepnote_index_column": "2019-09-23T14:30:00.000000"
        },
        {
         "Close": 56.75,
         "trend_aroon_up": 20,
         "trend_aroon_down": 76,
         "_deepnote_index_column": "2019-09-23T15:30:00.000000"
        },
        {
         "Close": 56.790000915527344,
         "trend_aroon_up": 16,
         "trend_aroon_down": 72,
         "_deepnote_index_column": "2019-09-24T09:30:00.000000"
        },
        {
         "Close": 57.70000076293945,
         "trend_aroon_up": 12,
         "trend_aroon_down": 68,
         "_deepnote_index_column": "2019-09-24T10:30:00.000000"
        },
        {
         "Close": 56.25,
         "trend_aroon_up": 8,
         "trend_aroon_down": 100,
         "_deepnote_index_column": "2019-09-24T11:30:00.000000"
        },
        {
         "Close": 56.20000076293945,
         "trend_aroon_up": 4,
         "trend_aroon_down": 100,
         "_deepnote_index_column": "2019-09-24T12:30:00.000000"
        },
        {
         "Close": 57.09000015258789,
         "trend_aroon_up": 4,
         "trend_aroon_down": 96,
         "_deepnote_index_column": "2019-09-24T13:30:00.000000"
        },
        {
         "Close": 56.86000061035156,
         "trend_aroon_up": 20,
         "trend_aroon_down": 92,
         "_deepnote_index_column": "2019-09-24T14:30:00.000000"
        },
        {
         "Close": 57.529998779296875,
         "trend_aroon_up": 16,
         "trend_aroon_down": 88,
         "_deepnote_index_column": "2019-09-24T15:30:00.000000"
        },
        {
         "Close": 57.25,
         "trend_aroon_up": 12,
         "trend_aroon_down": 84,
         "_deepnote_index_column": "2019-09-25T09:30:00.000000"
        },
        {
         "Close": 57.900001525878906,
         "trend_aroon_up": 8,
         "trend_aroon_down": 80,
         "_deepnote_index_column": "2019-09-25T10:30:00.000000"
        },
        {
         "Close": 57.95000076293945,
         "trend_aroon_up": 4,
         "trend_aroon_down": 76,
         "_deepnote_index_column": "2019-09-25T11:30:00.000000"
        },
        {
         "Close": 57.9900016784668,
         "trend_aroon_up": 4,
         "trend_aroon_down": 72,
         "_deepnote_index_column": "2019-09-25T12:30:00.000000"
        },
        {
         "Close": 58.35639953613281,
         "trend_aroon_up": 100,
         "trend_aroon_down": 68,
         "_deepnote_index_column": "2019-09-25T13:30:00.000000"
        },
        {
         "Close": 58.80500030517578,
         "trend_aroon_up": 100,
         "trend_aroon_down": 64,
         "_deepnote_index_column": "2019-09-25T14:30:00.000000"
        },
        {
         "Close": 58.540000915527344,
         "trend_aroon_up": 96,
         "trend_aroon_down": 60,
         "_deepnote_index_column": "2019-09-25T15:30:00.000000"
        },
        {
         "Close": 60.994998931884766,
         "trend_aroon_up": 100,
         "trend_aroon_down": 56.00000000000001,
         "_deepnote_index_column": "2019-09-26T09:30:00.000000"
        },
        {
         "Close": 60.23500061035156,
         "trend_aroon_up": 96,
         "trend_aroon_down": 52,
         "_deepnote_index_column": "2019-09-26T10:30:00.000000"
        },
        {
         "Close": 60.43220138549805,
         "trend_aroon_up": 92,
         "trend_aroon_down": 48,
         "_deepnote_index_column": "2019-09-26T11:30:00.000000"
        },
        {
         "Close": 60.18000030517578,
         "trend_aroon_up": 88,
         "trend_aroon_down": 44,
         "_deepnote_index_column": "2019-09-26T12:30:00.000000"
        },
        {
         "Close": 60.79499816894531,
         "trend_aroon_up": 84,
         "trend_aroon_down": 40,
         "_deepnote_index_column": "2019-09-26T13:30:00.000000"
        },
        {
         "Close": 60.685001373291016,
         "trend_aroon_up": 80,
         "trend_aroon_down": 36,
         "_deepnote_index_column": "2019-09-26T14:30:00.000000"
        },
        {
         "Close": 60.79999923706055,
         "trend_aroon_up": 76,
         "trend_aroon_down": 32,
         "_deepnote_index_column": "2019-09-26T15:30:00.000000"
        },
        {
         "Close": 60.9922981262207,
         "trend_aroon_up": 72,
         "trend_aroon_down": 28.000000000000004,
         "_deepnote_index_column": "2019-09-27T09:30:00.000000"
        },
        {
         "Close": 61.529998779296875,
         "trend_aroon_up": 100,
         "trend_aroon_down": 24,
         "_deepnote_index_column": "2019-09-27T10:30:00.000000"
        },
        {
         "Close": 61.029998779296875,
         "trend_aroon_up": 96,
         "trend_aroon_down": 20,
         "_deepnote_index_column": "2019-09-27T11:30:00.000000"
        },
        {
         "Close": 60.529998779296875,
         "trend_aroon_up": 92,
         "trend_aroon_down": 16,
         "_deepnote_index_column": "2019-09-27T12:30:00.000000"
        },
        {
         "Close": 60.68000030517578,
         "trend_aroon_up": 88,
         "trend_aroon_down": 12,
         "_deepnote_index_column": "2019-09-27T13:30:00.000000"
        },
        {
         "Close": 60.494998931884766,
         "trend_aroon_up": 84,
         "trend_aroon_down": 8,
         "_deepnote_index_column": "2019-09-27T14:30:00.000000"
        },
        {
         "Close": 60.7599983215332,
         "trend_aroon_up": 80,
         "trend_aroon_down": 4,
         "_deepnote_index_column": "2019-09-27T15:30:00.000000"
        },
        {
         "Close": 61.72999954223633,
         "trend_aroon_up": 100,
         "trend_aroon_down": 8,
         "_deepnote_index_column": "2019-09-30T09:30:00.000000"
        },
        {
         "Close": 62.22999954223633,
         "trend_aroon_up": 100,
         "trend_aroon_down": 4,
         "_deepnote_index_column": "2019-09-30T10:30:00.000000"
        },
        {
         "Close": 62.02000045776367,
         "trend_aroon_up": 96,
         "trend_aroon_down": 8,
         "_deepnote_index_column": "2019-09-30T11:30:00.000000"
        },
        {
         "Close": 61.9900016784668,
         "trend_aroon_up": 92,
         "trend_aroon_down": 4,
         "_deepnote_index_column": "2019-09-30T12:30:00.000000"
        },
        {
         "Close": 62.244998931884766,
         "trend_aroon_up": 100,
         "trend_aroon_down": 4,
         "_deepnote_index_column": "2019-09-30T13:30:00.000000"
        },
        {
         "Close": 61.970001220703125,
         "trend_aroon_up": 96,
         "trend_aroon_down": 4,
         "_deepnote_index_column": "2019-09-30T14:30:00.000000"
        },
        {
         "Close": 62,
         "trend_aroon_up": 92,
         "trend_aroon_down": 4,
         "_deepnote_index_column": "2019-09-30T15:30:00.000000"
        },
        {
         "Close": 62.59640121459961,
         "trend_aroon_up": 100,
         "trend_aroon_down": 4,
         "_deepnote_index_column": "2019-10-01T09:30:00.000000"
        },
        {
         "Close": 62.65999984741211,
         "trend_aroon_up": 100,
         "trend_aroon_down": 8,
         "_deepnote_index_column": "2019-10-01T10:30:00.000000"
        },
        {
         "Close": 61.779998779296875,
         "trend_aroon_up": 96,
         "trend_aroon_down": 4,
         "_deepnote_index_column": "2019-10-01T11:30:00.000000"
        },
        {
         "Close": 61.45000076293945,
         "trend_aroon_up": 92,
         "trend_aroon_down": 16,
         "_deepnote_index_column": "2019-10-01T12:30:00.000000"
        },
        {
         "Close": 61.47999954223633,
         "trend_aroon_up": 88,
         "trend_aroon_down": 12,
         "_deepnote_index_column": "2019-10-01T13:30:00.000000"
        },
        {
         "Close": 61.54999923706055,
         "trend_aroon_up": 84,
         "trend_aroon_down": 8,
         "_deepnote_index_column": "2019-10-01T14:30:00.000000"
        },
        {
         "Close": 61.630001068115234,
         "trend_aroon_up": 80,
         "trend_aroon_down": 4,
         "_deepnote_index_column": "2019-10-01T15:30:00.000000"
        },
        {
         "Close": 60.459999084472656,
         "trend_aroon_up": 76,
         "trend_aroon_down": 100,
         "_deepnote_index_column": "2019-10-02T09:30:00.000000"
        },
        {
         "Close": 59.47999954223633,
         "trend_aroon_up": 72,
         "trend_aroon_down": 100,
         "_deepnote_index_column": "2019-10-02T10:30:00.000000"
        },
        {
         "Close": 59.47999954223633,
         "trend_aroon_up": 68,
         "trend_aroon_down": 96,
         "_deepnote_index_column": "2019-10-02T11:30:00.000000"
        },
        {
         "Close": 59.439998626708984,
         "trend_aroon_up": 64,
         "trend_aroon_down": 100,
         "_deepnote_index_column": "2019-10-02T12:30:00.000000"
        },
        {
         "Close": 59.237998962402344,
         "trend_aroon_up": 60,
         "trend_aroon_down": 100,
         "_deepnote_index_column": "2019-10-02T13:30:00.000000"
        },
        {
         "Close": 59.880001068115234,
         "trend_aroon_up": 56.00000000000001,
         "trend_aroon_down": 96,
         "_deepnote_index_column": "2019-10-02T14:30:00.000000"
        },
        {
         "Close": 60.060001373291016,
         "trend_aroon_up": 52,
         "trend_aroon_down": 92,
         "_deepnote_index_column": "2019-10-02T15:30:00.000000"
        },
        {
         "Close": 59.91999816894531,
         "trend_aroon_up": 48,
         "trend_aroon_down": 88,
         "_deepnote_index_column": "2019-10-03T09:30:00.000000"
        },
        {
         "Close": 60.79999923706055,
         "trend_aroon_up": 44,
         "trend_aroon_down": 84,
         "_deepnote_index_column": "2019-10-03T10:30:00.000000"
        },
        {
         "Close": 60.599998474121094,
         "trend_aroon_up": 40,
         "trend_aroon_down": 80,
         "_deepnote_index_column": "2019-10-03T11:30:00.000000"
        },
        {
         "Close": 60.615699768066406,
         "trend_aroon_up": 36,
         "trend_aroon_down": 76,
         "_deepnote_index_column": "2019-10-03T12:30:00.000000"
        },
        {
         "Close": 62.119998931884766,
         "trend_aroon_up": 32,
         "trend_aroon_down": 72,
         "_deepnote_index_column": "2019-10-03T13:30:00.000000"
        },
        {
         "Close": 62.11000061035156,
         "trend_aroon_up": 28.000000000000004,
         "trend_aroon_down": 68,
         "_deepnote_index_column": "2019-10-03T14:30:00.000000"
        },
        {
         "Close": 62.060001373291016,
         "trend_aroon_up": 24,
         "trend_aroon_down": 64,
         "_deepnote_index_column": "2019-10-03T15:30:00.000000"
        },
        {
         "Close": 62.040000915527344,
         "trend_aroon_up": 20,
         "trend_aroon_down": 60,
         "_deepnote_index_column": "2019-10-04T09:30:00.000000"
        },
        {
         "Close": 62.169700622558594,
         "trend_aroon_up": 16,
         "trend_aroon_down": 56.00000000000001,
         "_deepnote_index_column": "2019-10-04T10:30:00.000000"
        },
        {
         "Close": 62.11330032348633,
         "trend_aroon_up": 12,
         "trend_aroon_down": 52,
         "_deepnote_index_column": "2019-10-04T11:30:00.000000"
        },
        {
         "Close": 62.3650016784668,
         "trend_aroon_up": 8,
         "trend_aroon_down": 48,
         "_deepnote_index_column": "2019-10-04T12:30:00.000000"
        },
        {
         "Close": 62.38999938964844,
         "trend_aroon_up": 4,
         "trend_aroon_down": 44,
         "_deepnote_index_column": "2019-10-04T13:30:00.000000"
        }
       ],
       "rows_bottom": [
        {
         "Close": 246.60000610351562,
         "trend_aroon_up": 28.000000000000004,
         "trend_aroon_down": 64,
         "_deepnote_index_column": "2021-06-28T15:30:00.000000"
        },
        {
         "Close": 248.5399932861328,
         "trend_aroon_up": 100,
         "trend_aroon_down": 60,
         "_deepnote_index_column": "2021-06-29T09:30:00.000000"
        },
        {
         "Close": 247.0449981689453,
         "trend_aroon_up": 96,
         "trend_aroon_down": 56.00000000000001,
         "_deepnote_index_column": "2021-06-29T10:30:00.000000"
        },
        {
         "Close": 248.69500732421875,
         "trend_aroon_up": 100,
         "trend_aroon_down": 52,
         "_deepnote_index_column": "2021-06-29T11:30:00.000000"
        },
        {
         "Close": 249.4600067138672,
         "trend_aroon_up": 100,
         "trend_aroon_down": 48,
         "_deepnote_index_column": "2021-06-29T12:30:00.000000"
        },
        {
         "Close": 248.9398956298828,
         "trend_aroon_up": 96,
         "trend_aroon_down": 44,
         "_deepnote_index_column": "2021-06-29T13:30:00.000000"
        },
        {
         "Close": 248.28570556640625,
         "trend_aroon_up": 92,
         "trend_aroon_down": 40,
         "_deepnote_index_column": "2021-06-29T14:30:00.000000"
        },
        {
         "Close": 248.8800048828125,
         "trend_aroon_up": 88,
         "trend_aroon_down": 36,
         "_deepnote_index_column": "2021-06-29T15:30:00.000000"
        },
        {
         "Close": 245.94000244140625,
         "trend_aroon_up": 84,
         "trend_aroon_down": 32,
         "_deepnote_index_column": "2021-06-30T09:30:00.000000"
        },
        {
         "Close": 245.27000427246094,
         "trend_aroon_up": 80,
         "trend_aroon_down": 28.000000000000004,
         "_deepnote_index_column": "2021-06-30T10:30:00.000000"
        },
        {
         "Close": 243.99000549316406,
         "trend_aroon_up": 76,
         "trend_aroon_down": 24,
         "_deepnote_index_column": "2021-06-30T11:30:00.000000"
        },
        {
         "Close": 244.33999633789062,
         "trend_aroon_up": 72,
         "trend_aroon_down": 20,
         "_deepnote_index_column": "2021-06-30T12:30:00.000000"
        },
        {
         "Close": 244.0800018310547,
         "trend_aroon_up": 68,
         "trend_aroon_down": 16,
         "_deepnote_index_column": "2021-06-30T13:30:00.000000"
        },
        {
         "Close": 244.07000732421875,
         "trend_aroon_up": 64,
         "trend_aroon_down": 12,
         "_deepnote_index_column": "2021-06-30T14:30:00.000000"
        },
        {
         "Close": 243.72999572753906,
         "trend_aroon_up": 60,
         "trend_aroon_down": 8,
         "_deepnote_index_column": "2021-06-30T15:30:00.000000"
        },
        {
         "Close": 242.2899932861328,
         "trend_aroon_up": 56.00000000000001,
         "trend_aroon_down": 4,
         "_deepnote_index_column": "2021-07-01T09:30:00.000000"
        },
        {
         "Close": 238.9718017578125,
         "trend_aroon_up": 52,
         "trend_aroon_down": 4,
         "_deepnote_index_column": "2021-07-01T10:30:00.000000"
        },
        {
         "Close": 241.07000732421875,
         "trend_aroon_up": 48,
         "trend_aroon_down": 96,
         "_deepnote_index_column": "2021-07-01T11:30:00.000000"
        },
        {
         "Close": 241.2550048828125,
         "trend_aroon_up": 44,
         "trend_aroon_down": 92,
         "_deepnote_index_column": "2021-07-01T12:30:00.000000"
        },
        {
         "Close": 241.63499450683594,
         "trend_aroon_up": 40,
         "trend_aroon_down": 88,
         "_deepnote_index_column": "2021-07-01T13:30:00.000000"
        },
        {
         "Close": 241.8199005126953,
         "trend_aroon_up": 36,
         "trend_aroon_down": 84,
         "_deepnote_index_column": "2021-07-01T14:30:00.000000"
        },
        {
         "Close": 241.9600067138672,
         "trend_aroon_up": 32,
         "trend_aroon_down": 80,
         "_deepnote_index_column": "2021-07-01T15:30:00.000000"
        },
        {
         "Close": 246.11000061035156,
         "trend_aroon_up": 28.000000000000004,
         "trend_aroon_down": 76,
         "_deepnote_index_column": "2021-07-07T14:30:00.000000"
        },
        {
         "Close": 235.33999633789062,
         "trend_aroon_up": 24,
         "trend_aroon_down": 100,
         "_deepnote_index_column": "2021-07-08T09:30:00.000000"
        },
        {
         "Close": 233.2899932861328,
         "trend_aroon_up": 20,
         "trend_aroon_down": 100,
         "_deepnote_index_column": "2021-07-08T10:30:00.000000"
        },
        {
         "Close": 235.55999755859375,
         "trend_aroon_up": 16,
         "trend_aroon_down": 96,
         "_deepnote_index_column": "2021-07-08T11:30:00.000000"
        },
        {
         "Close": 237.1199951171875,
         "trend_aroon_up": 12,
         "trend_aroon_down": 92,
         "_deepnote_index_column": "2021-07-08T12:30:00.000000"
        },
        {
         "Close": 236.86019897460938,
         "trend_aroon_up": 8,
         "trend_aroon_down": 88,
         "_deepnote_index_column": "2021-07-08T13:30:00.000000"
        },
        {
         "Close": 236.3699951171875,
         "trend_aroon_up": 4,
         "trend_aroon_down": 84,
         "_deepnote_index_column": "2021-07-08T14:30:00.000000"
        },
        {
         "Close": 235.83999633789062,
         "trend_aroon_up": 4,
         "trend_aroon_down": 80,
         "_deepnote_index_column": "2021-07-08T15:30:00.000000"
        },
        {
         "Close": 237.875,
         "trend_aroon_up": 8,
         "trend_aroon_down": 76,
         "_deepnote_index_column": "2021-07-09T09:30:00.000000"
        },
        {
         "Close": 240.14999389648438,
         "trend_aroon_up": 4,
         "trend_aroon_down": 72,
         "_deepnote_index_column": "2021-07-09T10:30:00.000000"
        },
        {
         "Close": 240.5500030517578,
         "trend_aroon_up": 60,
         "trend_aroon_down": 68,
         "_deepnote_index_column": "2021-07-09T11:30:00.000000"
        },
        {
         "Close": 240.8800048828125,
         "trend_aroon_up": 56.00000000000001,
         "trend_aroon_down": 64,
         "_deepnote_index_column": "2021-07-09T12:30:00.000000"
        },
        {
         "Close": 241.91000366210938,
         "trend_aroon_up": 52,
         "trend_aroon_down": 60,
         "_deepnote_index_column": "2021-07-09T13:30:00.000000"
        },
        {
         "Close": 240.67999267578125,
         "trend_aroon_up": 48,
         "trend_aroon_down": 56.00000000000001,
         "_deepnote_index_column": "2021-07-09T14:30:00.000000"
        },
        {
         "Close": 241.89999389648438,
         "trend_aroon_up": 44,
         "trend_aroon_down": 52,
         "_deepnote_index_column": "2021-07-09T15:30:00.000000"
        },
        {
         "Close": 243.35000610351562,
         "trend_aroon_up": 40,
         "trend_aroon_down": 48,
         "_deepnote_index_column": "2021-07-12T09:30:00.000000"
        },
        {
         "Close": 243.1999969482422,
         "trend_aroon_up": 36,
         "trend_aroon_down": 44,
         "_deepnote_index_column": "2021-07-12T10:30:00.000000"
        },
        {
         "Close": 243.14999389648438,
         "trend_aroon_up": 32,
         "trend_aroon_down": 40,
         "_deepnote_index_column": "2021-07-12T11:30:00.000000"
        },
        {
         "Close": 243.0500030517578,
         "trend_aroon_up": 28.000000000000004,
         "trend_aroon_down": 36,
         "_deepnote_index_column": "2021-07-12T12:30:00.000000"
        },
        {
         "Close": 242.97000122070312,
         "trend_aroon_up": 24,
         "trend_aroon_down": 32,
         "_deepnote_index_column": "2021-07-12T13:30:00.000000"
        },
        {
         "Close": 243.4010009765625,
         "trend_aroon_up": 20,
         "trend_aroon_down": 28.000000000000004,
         "_deepnote_index_column": "2021-07-12T14:30:00.000000"
        },
        {
         "Close": 243.27999877929688,
         "trend_aroon_up": 16,
         "trend_aroon_down": 24,
         "_deepnote_index_column": "2021-07-12T15:30:00.000000"
        },
        {
         "Close": 244.27000427246094,
         "trend_aroon_up": 12,
         "trend_aroon_down": 20,
         "_deepnote_index_column": "2021-07-13T09:30:00.000000"
        },
        {
         "Close": 244.7100067138672,
         "trend_aroon_up": 8,
         "trend_aroon_down": 16,
         "_deepnote_index_column": "2021-07-13T10:30:00.000000"
        },
        {
         "Close": 244.83749389648438,
         "trend_aroon_up": 4,
         "trend_aroon_down": 12,
         "_deepnote_index_column": "2021-07-13T11:30:00.000000"
        },
        {
         "Close": 242.72999572753906,
         "trend_aroon_up": 96,
         "trend_aroon_down": 8,
         "_deepnote_index_column": "2021-07-13T12:30:00.000000"
        },
        {
         "Close": 242.35000610351562,
         "trend_aroon_up": 92,
         "trend_aroon_down": 4,
         "_deepnote_index_column": "2021-07-13T13:30:00.000000"
        },
        {
         "Close": 241.46499633789062,
         "trend_aroon_up": 88,
         "trend_aroon_down": 4,
         "_deepnote_index_column": "2021-07-13T14:30:00.000000"
        },
        {
         "Close": 241.42999267578125,
         "trend_aroon_up": 84,
         "trend_aroon_down": 16,
         "_deepnote_index_column": "2021-07-13T15:30:00.000000"
        },
        {
         "Close": 244.05239868164062,
         "trend_aroon_up": 80,
         "trend_aroon_down": 12,
         "_deepnote_index_column": "2021-07-14T09:30:00.000000"
        },
        {
         "Close": 241.39999389648438,
         "trend_aroon_up": 76,
         "trend_aroon_down": 8,
         "_deepnote_index_column": "2021-07-14T10:30:00.000000"
        },
        {
         "Close": 241.75,
         "trend_aroon_up": 72,
         "trend_aroon_down": 4,
         "_deepnote_index_column": "2021-07-14T11:30:00.000000"
        },
        {
         "Close": 239.96499633789062,
         "trend_aroon_up": 68,
         "trend_aroon_down": 4,
         "_deepnote_index_column": "2021-07-14T12:30:00.000000"
        },
        {
         "Close": 240.1407928466797,
         "trend_aroon_up": 64,
         "trend_aroon_down": 96,
         "_deepnote_index_column": "2021-07-14T13:30:00.000000"
        },
        {
         "Close": 238.84970092773438,
         "trend_aroon_up": 60,
         "trend_aroon_down": 100,
         "_deepnote_index_column": "2021-07-14T14:30:00.000000"
        },
        {
         "Close": 238.97000122070312,
         "trend_aroon_up": 56.00000000000001,
         "trend_aroon_down": 96,
         "_deepnote_index_column": "2021-07-14T15:30:00.000000"
        },
        {
         "Close": 239.24000549316406,
         "trend_aroon_up": 52,
         "trend_aroon_down": 92,
         "_deepnote_index_column": "2021-07-15T09:30:00.000000"
        },
        {
         "Close": 239.35000610351562,
         "trend_aroon_up": 48,
         "trend_aroon_down": 88,
         "_deepnote_index_column": "2021-07-15T10:30:00.000000"
        },
        {
         "Close": 235.58999633789062,
         "trend_aroon_up": 44,
         "trend_aroon_down": 100,
         "_deepnote_index_column": "2021-07-15T11:30:00.000000"
        },
        {
         "Close": 235.36000061035156,
         "trend_aroon_up": 40,
         "trend_aroon_down": 100,
         "_deepnote_index_column": "2021-07-15T12:30:00.000000"
        },
        {
         "Close": 234.4499969482422,
         "trend_aroon_up": 36,
         "trend_aroon_down": 100,
         "_deepnote_index_column": "2021-07-15T13:30:00.000000"
        },
        {
         "Close": 235.3699951171875,
         "trend_aroon_up": 32,
         "trend_aroon_down": 96,
         "_deepnote_index_column": "2021-07-15T14:30:00.000000"
        },
        {
         "Close": 235.16000366210938,
         "trend_aroon_up": 28.000000000000004,
         "trend_aroon_down": 92,
         "_deepnote_index_column": "2021-07-15T15:30:00.000000"
        },
        {
         "Close": 235.24000549316406,
         "trend_aroon_up": 24,
         "trend_aroon_down": 88,
         "_deepnote_index_column": "2021-07-16T09:30:00.000000"
        },
        {
         "Close": 236.74000549316406,
         "trend_aroon_up": 20,
         "trend_aroon_down": 84,
         "_deepnote_index_column": "2021-07-16T10:30:00.000000"
        },
        {
         "Close": 239.3300018310547,
         "trend_aroon_up": 16,
         "trend_aroon_down": 80,
         "_deepnote_index_column": "2021-07-16T11:30:00.000000"
        },
        {
         "Close": 238.49400329589844,
         "trend_aroon_up": 12,
         "trend_aroon_down": 76,
         "_deepnote_index_column": "2021-07-16T12:30:00.000000"
        },
        {
         "Close": 237.6909942626953,
         "trend_aroon_up": 8,
         "trend_aroon_down": 72,
         "_deepnote_index_column": "2021-07-16T13:30:00.000000"
        },
        {
         "Close": 237.264892578125,
         "trend_aroon_up": 4,
         "trend_aroon_down": 68,
         "_deepnote_index_column": "2021-07-16T14:30:00.000000"
        },
        {
         "Close": 237.55999755859375,
         "trend_aroon_up": 20,
         "trend_aroon_down": 64,
         "_deepnote_index_column": "2021-07-16T15:30:00.000000"
        },
        {
         "Close": 228.5399932861328,
         "trend_aroon_up": 16,
         "trend_aroon_down": 100,
         "_deepnote_index_column": "2021-07-19T09:30:00.000000"
        },
        {
         "Close": 231.9199981689453,
         "trend_aroon_up": 12,
         "trend_aroon_down": 96,
         "_deepnote_index_column": "2021-07-19T10:30:00.000000"
        },
        {
         "Close": 231.61000061035156,
         "trend_aroon_up": 8,
         "trend_aroon_down": 92,
         "_deepnote_index_column": "2021-07-19T11:30:00.000000"
        },
        {
         "Close": 230.59500122070312,
         "trend_aroon_up": 4,
         "trend_aroon_down": 88,
         "_deepnote_index_column": "2021-07-19T12:30:00.000000"
        },
        {
         "Close": 232.83450317382812,
         "trend_aroon_up": 8,
         "trend_aroon_down": 84,
         "_deepnote_index_column": "2021-07-19T13:30:00.000000"
        },
        {
         "Close": 232,
         "trend_aroon_up": 4,
         "trend_aroon_down": 80,
         "_deepnote_index_column": "2021-07-19T14:30:00.000000"
        },
        {
         "Close": 233.69000244140625,
         "trend_aroon_up": 8,
         "trend_aroon_down": 76,
         "_deepnote_index_column": "2021-07-19T15:30:00.000000"
        },
        {
         "Close": 236.32000732421875,
         "trend_aroon_up": 4,
         "trend_aroon_down": 72,
         "_deepnote_index_column": "2021-07-20T09:30:00.000000"
        },
        {
         "Close": 242.10000610351562,
         "trend_aroon_up": 100,
         "trend_aroon_down": 68,
         "_deepnote_index_column": "2021-07-20T10:30:00.000000"
        },
        {
         "Close": 241.95449829101562,
         "trend_aroon_up": 96,
         "trend_aroon_down": 64,
         "_deepnote_index_column": "2021-07-20T11:30:00.000000"
        },
        {
         "Close": 244.2050018310547,
         "trend_aroon_up": 100,
         "trend_aroon_down": 60,
         "_deepnote_index_column": "2021-07-20T12:30:00.000000"
        },
        {
         "Close": 246.2899932861328,
         "trend_aroon_up": 100,
         "trend_aroon_down": 56.00000000000001,
         "_deepnote_index_column": "2021-07-20T13:30:00.000000"
        },
        {
         "Close": 246.75,
         "trend_aroon_up": 100,
         "trend_aroon_down": 52,
         "_deepnote_index_column": "2021-07-20T14:30:00.000000"
        },
        {
         "Close": 246.5399932861328,
         "trend_aroon_up": 96,
         "trend_aroon_down": 48,
         "_deepnote_index_column": "2021-07-20T15:30:00.000000"
        },
        {
         "Close": 252.5,
         "trend_aroon_up": 100,
         "trend_aroon_down": 44,
         "_deepnote_index_column": "2021-07-21T09:30:00.000000"
        },
        {
         "Close": 252.33999633789062,
         "trend_aroon_up": 96,
         "trend_aroon_down": 40,
         "_deepnote_index_column": "2021-07-21T10:30:00.000000"
        },
        {
         "Close": 253.4499969482422,
         "trend_aroon_up": 100,
         "trend_aroon_down": 36,
         "_deepnote_index_column": "2021-07-21T11:30:00.000000"
        },
        {
         "Close": 256.31298828125,
         "trend_aroon_up": 100,
         "trend_aroon_down": 32,
         "_deepnote_index_column": "2021-07-21T12:30:00.000000"
        },
        {
         "Close": 258.3500061035156,
         "trend_aroon_up": 100,
         "trend_aroon_down": 28.000000000000004,
         "_deepnote_index_column": "2021-07-21T13:30:00.000000"
        },
        {
         "Close": 256.864990234375,
         "trend_aroon_up": 96,
         "trend_aroon_down": 24,
         "_deepnote_index_column": "2021-07-21T14:30:00.000000"
        },
        {
         "Close": 257.25,
         "trend_aroon_up": 92,
         "trend_aroon_down": 20,
         "_deepnote_index_column": "2021-07-21T15:30:00.000000"
        },
        {
         "Close": 261.4700012207031,
         "trend_aroon_up": 100,
         "trend_aroon_down": 16,
         "_deepnote_index_column": "2021-07-22T09:30:00.000000"
        },
        {
         "Close": 259.3299865722656,
         "trend_aroon_up": 96,
         "trend_aroon_down": 12,
         "_deepnote_index_column": "2021-07-22T10:30:00.000000"
        },
        {
         "Close": 259.55999755859375,
         "trend_aroon_up": 92,
         "trend_aroon_down": 8,
         "_deepnote_index_column": "2021-07-22T11:30:00.000000"
        },
        {
         "Close": 260.5299987792969,
         "trend_aroon_up": 88,
         "trend_aroon_down": 4,
         "_deepnote_index_column": "2021-07-22T12:30:00.000000"
        },
        {
         "Close": 260.9700012207031,
         "trend_aroon_up": 84,
         "trend_aroon_down": 12,
         "_deepnote_index_column": "2021-07-22T13:30:00.000000"
        },
        {
         "Close": 260.25,
         "trend_aroon_up": 80,
         "trend_aroon_down": 8,
         "_deepnote_index_column": "2021-07-22T14:30:00.000000"
        },
        {
         "Close": 260.6000061035156,
         "trend_aroon_up": 76,
         "trend_aroon_down": 4,
         "_deepnote_index_column": "2021-07-22T15:30:00.000000"
        },
        {
         "Close": 265.1700134277344,
         "trend_aroon_up": 100,
         "trend_aroon_down": 8,
         "_deepnote_index_column": "2021-07-23T09:30:00.000000"
        },
        {
         "Close": 264.2900085449219,
         "trend_aroon_up": 96,
         "trend_aroon_down": 4,
         "_deepnote_index_column": "2021-07-23T10:30:00.000000"
        },
        {
         "Close": 263.6000061035156,
         "trend_aroon_up": 92,
         "trend_aroon_down": 4,
         "_deepnote_index_column": "2021-07-23T11:30:00.000000"
        },
        {
         "Close": 263.1000061035156,
         "trend_aroon_up": 88,
         "trend_aroon_down": 4,
         "_deepnote_index_column": "2021-07-23T12:30:00.000000"
        },
        {
         "Close": 263.8299865722656,
         "trend_aroon_up": 84,
         "trend_aroon_down": 8,
         "_deepnote_index_column": "2021-07-23T13:30:00.000000"
        },
        {
         "Close": 263.8399963378906,
         "trend_aroon_up": 80,
         "trend_aroon_down": 4,
         "_deepnote_index_column": "2021-07-23T14:30:00.000000"
        },
        {
         "Close": 264.07000732421875,
         "trend_aroon_up": 76,
         "trend_aroon_down": 4,
         "_deepnote_index_column": "2021-07-23T15:30:00.000000"
        },
        {
         "Close": 263.79998779296875,
         "trend_aroon_up": 72,
         "trend_aroon_down": 4,
         "_deepnote_index_column": "2021-07-26T09:30:00.000000"
        },
        {
         "Close": 261.90008544921875,
         "trend_aroon_up": 68,
         "trend_aroon_down": 8,
         "_deepnote_index_column": "2021-07-26T10:30:00.000000"
        },
        {
         "Close": 262.4599914550781,
         "trend_aroon_up": 64,
         "trend_aroon_down": 4,
         "_deepnote_index_column": "2021-07-26T11:30:00.000000"
        },
        {
         "Close": 262.6000061035156,
         "trend_aroon_up": 60,
         "trend_aroon_down": 8,
         "_deepnote_index_column": "2021-07-26T12:30:00.000000"
        },
        {
         "Close": 261.5639953613281,
         "trend_aroon_up": 56.00000000000001,
         "trend_aroon_down": 4,
         "_deepnote_index_column": "2021-07-26T13:30:00.000000"
        },
        {
         "Close": 262.54998779296875,
         "trend_aroon_up": 52,
         "trend_aroon_down": 4,
         "_deepnote_index_column": "2021-07-26T14:30:00.000000"
        },
        {
         "Close": 262.04998779296875,
         "trend_aroon_up": 48,
         "trend_aroon_down": 4,
         "_deepnote_index_column": "2021-07-26T15:30:00.000000"
        },
        {
         "Close": 253.86720275878906,
         "trend_aroon_up": 44,
         "trend_aroon_down": 100,
         "_deepnote_index_column": "2021-07-27T09:30:00.000000"
        },
        {
         "Close": 246.5540008544922,
         "trend_aroon_up": 40,
         "trend_aroon_down": 100,
         "_deepnote_index_column": "2021-07-27T10:30:00.000000"
        },
        {
         "Close": 248.99000549316406,
         "trend_aroon_up": 36,
         "trend_aroon_down": 96,
         "_deepnote_index_column": "2021-07-27T11:30:00.000000"
        },
        {
         "Close": 247.6300048828125,
         "trend_aroon_up": 32,
         "trend_aroon_down": 92,
         "_deepnote_index_column": "2021-07-27T12:30:00.000000"
        },
        {
         "Close": 250.61000061035156,
         "trend_aroon_up": 28.000000000000004,
         "trend_aroon_down": 88,
         "_deepnote_index_column": "2021-07-27T13:30:00.000000"
        },
        {
         "Close": 252.27000427246094,
         "trend_aroon_up": 24,
         "trend_aroon_down": 84,
         "_deepnote_index_column": "2021-07-27T14:30:00.000000"
        },
        {
         "Close": 251.72999572753906,
         "trend_aroon_up": 20,
         "trend_aroon_down": 80,
         "_deepnote_index_column": "2021-07-27T15:30:00.000000"
        },
        {
         "Close": 256.29998779296875,
         "trend_aroon_up": 16,
         "trend_aroon_down": 76,
         "_deepnote_index_column": "2021-07-28T09:30:00.000000"
        },
        {
         "Close": 258.4150085449219,
         "trend_aroon_up": 12,
         "trend_aroon_down": 72,
         "_deepnote_index_column": "2021-07-28T10:30:00.000000"
        },
        {
         "Close": 258.95001220703125,
         "trend_aroon_up": 8,
         "trend_aroon_down": 68,
         "_deepnote_index_column": "2021-07-28T11:30:00.000000"
        },
        {
         "Close": 257.0400085449219,
         "trend_aroon_up": 4,
         "trend_aroon_down": 64,
         "_deepnote_index_column": "2021-07-28T12:30:00.000000"
        },
        {
         "Close": 258.4800109863281,
         "trend_aroon_up": 4,
         "trend_aroon_down": 60,
         "_deepnote_index_column": "2021-07-28T13:30:00.000000"
        },
        {
         "Close": 259.7099914550781,
         "trend_aroon_up": 20,
         "trend_aroon_down": 56.00000000000001,
         "_deepnote_index_column": "2021-07-28T14:30:00.000000"
        },
        {
         "Close": 258.4700012207031,
         "trend_aroon_up": 16,
         "trend_aroon_down": 52,
         "_deepnote_index_column": "2021-07-28T15:30:00.000000"
        },
        {
         "Close": 259.70001220703125,
         "trend_aroon_up": 12,
         "trend_aroon_down": 48,
         "_deepnote_index_column": "2021-07-29T09:30:00.000000"
        },
        {
         "Close": 260.1900939941406,
         "trend_aroon_up": 8,
         "trend_aroon_down": 44,
         "_deepnote_index_column": "2021-07-29T10:30:00.000000"
        },
        {
         "Close": 260.2200012207031,
         "trend_aroon_up": 4,
         "trend_aroon_down": 40,
         "_deepnote_index_column": "2021-07-29T11:30:00.000000"
        },
        {
         "Close": 257.864990234375,
         "trend_aroon_up": 4,
         "trend_aroon_down": 36,
         "_deepnote_index_column": "2021-07-29T12:30:00.000000"
        },
        {
         "Close": 255.4700927734375,
         "trend_aroon_up": 12,
         "trend_aroon_down": 32,
         "_deepnote_index_column": "2021-07-29T13:30:00.000000"
        },
        {
         "Close": 254.93499755859375,
         "trend_aroon_up": 8,
         "trend_aroon_down": 28.000000000000004,
         "_deepnote_index_column": "2021-07-29T14:30:00.000000"
        },
        {
         "Close": 255.27000427246094,
         "trend_aroon_up": 4,
         "trend_aroon_down": 24,
         "_deepnote_index_column": "2021-07-29T15:30:00.000000"
        },
        {
         "Close": 251.60499572753906,
         "trend_aroon_up": 8,
         "trend_aroon_down": 20,
         "_deepnote_index_column": "2021-07-30T09:30:00.000000"
        },
        {
         "Close": 248.32000732421875,
         "trend_aroon_up": 4,
         "trend_aroon_down": 16,
         "_deepnote_index_column": "2021-07-30T10:30:00.000000"
        },
        {
         "Close": 247.17999267578125,
         "trend_aroon_up": 4,
         "trend_aroon_down": 12,
         "_deepnote_index_column": "2021-07-30T11:30:00.000000"
        },
        {
         "Close": 247.59840393066406,
         "trend_aroon_up": 68,
         "trend_aroon_down": 8,
         "_deepnote_index_column": "2021-07-30T12:30:00.000000"
        },
        {
         "Close": 245.77000427246094,
         "trend_aroon_up": 64,
         "trend_aroon_down": 100,
         "_deepnote_index_column": "2021-07-30T13:30:00.000000"
        },
        {
         "Close": 245.9199981689453,
         "trend_aroon_up": 60,
         "trend_aroon_down": 96,
         "_deepnote_index_column": "2021-07-30T14:30:00.000000"
        },
        {
         "Close": 247.25,
         "trend_aroon_up": 56.00000000000001,
         "trend_aroon_down": 92,
         "_deepnote_index_column": "2021-07-30T15:30:00.000000"
        },
        {
         "Close": 269.95001220703125,
         "trend_aroon_up": 100,
         "trend_aroon_down": 88,
         "_deepnote_index_column": "2021-08-02T09:30:00.000000"
        },
        {
         "Close": 275.239990234375,
         "trend_aroon_up": 100,
         "trend_aroon_down": 84,
         "_deepnote_index_column": "2021-08-02T10:30:00.000000"
        },
        {
         "Close": 275.19000244140625,
         "trend_aroon_up": 96,
         "trend_aroon_down": 80,
         "_deepnote_index_column": "2021-08-02T11:30:00.000000"
        },
        {
         "Close": 276.32000732421875,
         "trend_aroon_up": 100,
         "trend_aroon_down": 76,
         "_deepnote_index_column": "2021-08-02T12:30:00.000000"
        },
        {
         "Close": 279.6247863769531,
         "trend_aroon_up": 100,
         "trend_aroon_down": 72,
         "_deepnote_index_column": "2021-08-02T13:30:00.000000"
        },
        {
         "Close": 273.1388854980469,
         "trend_aroon_up": 96,
         "trend_aroon_down": 68,
         "_deepnote_index_column": "2021-08-02T14:30:00.000000"
        },
        {
         "Close": 272.3999938964844,
         "trend_aroon_up": 92,
         "trend_aroon_down": 64,
         "_deepnote_index_column": "2021-08-02T15:30:00.000000"
        },
        {
         "Close": 266.0799865722656,
         "trend_aroon_up": 88,
         "trend_aroon_down": 60,
         "_deepnote_index_column": "2021-08-03T09:30:00.000000"
        },
        {
         "Close": 263.30999755859375,
         "trend_aroon_up": 84,
         "trend_aroon_down": 56.00000000000001,
         "_deepnote_index_column": "2021-08-03T10:30:00.000000"
        },
        {
         "Close": 271.67999267578125,
         "trend_aroon_up": 80,
         "trend_aroon_down": 52,
         "_deepnote_index_column": "2021-08-03T11:30:00.000000"
        },
        {
         "Close": 268.8900146484375,
         "trend_aroon_up": 76,
         "trend_aroon_down": 48,
         "_deepnote_index_column": "2021-08-03T12:30:00.000000"
        },
        {
         "Close": 266.9849853515625,
         "trend_aroon_up": 72,
         "trend_aroon_down": 44,
         "_deepnote_index_column": "2021-08-03T13:30:00.000000"
        },
        {
         "Close": 269.6798095703125,
         "trend_aroon_up": 68,
         "trend_aroon_down": 40,
         "_deepnote_index_column": "2021-08-03T14:30:00.000000"
        },
        {
         "Close": 269.3999938964844,
         "trend_aroon_up": 64,
         "trend_aroon_down": 36,
         "_deepnote_index_column": "2021-08-03T15:30:00.000000"
        },
        {
         "Close": 263.5899963378906,
         "trend_aroon_up": 60,
         "trend_aroon_down": 32,
         "_deepnote_index_column": "2021-08-04T09:30:00.000000"
        },
        {
         "Close": 265.6600036621094,
         "trend_aroon_up": 56.00000000000001,
         "trend_aroon_down": 28.000000000000004,
         "_deepnote_index_column": "2021-08-04T10:30:00.000000"
        },
        {
         "Close": 265.4100036621094,
         "trend_aroon_up": 52,
         "trend_aroon_down": 24,
         "_deepnote_index_column": "2021-08-04T11:30:00.000000"
        },
        {
         "Close": 266.5199890136719,
         "trend_aroon_up": 48,
         "trend_aroon_down": 20,
         "_deepnote_index_column": "2021-08-04T12:30:00.000000"
        },
        {
         "Close": 278.1571960449219,
         "trend_aroon_up": 44,
         "trend_aroon_down": 16,
         "_deepnote_index_column": "2021-08-10T09:30:00.000000"
        },
        {
         "Close": 277.5,
         "trend_aroon_up": 40,
         "trend_aroon_down": 12,
         "_deepnote_index_column": "2021-08-10T10:30:00.000000"
        },
        {
         "Close": 277.697998046875,
         "trend_aroon_up": 36,
         "trend_aroon_down": 8,
         "_deepnote_index_column": "2021-08-10T11:30:00.000000"
        },
        {
         "Close": 276.7699890136719,
         "trend_aroon_up": 32,
         "trend_aroon_down": 4,
         "_deepnote_index_column": "2021-08-10T12:30:00.000000"
        },
        {
         "Close": 275.375,
         "trend_aroon_up": 28.000000000000004,
         "trend_aroon_down": 4,
         "_deepnote_index_column": "2021-08-10T13:30:00.000000"
        },
        {
         "Close": 274.04998779296875,
         "trend_aroon_up": 24,
         "trend_aroon_down": 4,
         "_deepnote_index_column": "2021-08-10T14:30:00.000000"
        },
        {
         "Close": 272.92999267578125,
         "trend_aroon_up": 20,
         "trend_aroon_down": 36,
         "_deepnote_index_column": "2021-08-10T15:30:00.000000"
        }
       ]
      },
      "text/plain": "                                Close  trend_aroon_up  trend_aroon_down\n2019-09-03 09:30:00-04:00   62.959999             NaN               NaN\n2019-09-03 10:30:00-04:00   62.320000             NaN               NaN\n2019-09-03 11:30:00-04:00   62.000000             NaN               NaN\n2019-09-03 12:30:00-04:00   61.774899             NaN               NaN\n2019-09-03 13:30:00-04:00   61.360001             NaN               NaN\n...                               ...             ...               ...\n2021-08-10 11:30:00-04:00  277.697998            36.0               8.0\n2021-08-10 12:30:00-04:00  276.769989            32.0               4.0\n2021-08-10 13:30:00-04:00  275.375000            28.0               4.0\n2021-08-10 14:30:00-04:00  274.049988            24.0               4.0\n2021-08-10 15:30:00-04:00  272.929993            20.0              36.0\n\n[3367 rows x 3 columns]",
      "text/html": "<div>\n<style scoped>\n    .dataframe tbody tr th:only-of-type {\n        vertical-align: middle;\n    }\n\n    .dataframe tbody tr th {\n        vertical-align: top;\n    }\n\n    .dataframe thead th {\n        text-align: right;\n    }\n</style>\n<table border=\"1\" class=\"dataframe\">\n  <thead>\n    <tr style=\"text-align: right;\">\n      <th></th>\n      <th>Close</th>\n      <th>trend_aroon_up</th>\n      <th>trend_aroon_down</th>\n    </tr>\n  </thead>\n  <tbody>\n    <tr>\n      <th>2019-09-03 09:30:00-04:00</th>\n      <td>62.959999</td>\n      <td>NaN</td>\n      <td>NaN</td>\n    </tr>\n    <tr>\n      <th>2019-09-03 10:30:00-04:00</th>\n      <td>62.320000</td>\n      <td>NaN</td>\n      <td>NaN</td>\n    </tr>\n    <tr>\n      <th>2019-09-03 11:30:00-04:00</th>\n      <td>62.000000</td>\n      <td>NaN</td>\n      <td>NaN</td>\n    </tr>\n    <tr>\n      <th>2019-09-03 12:30:00-04:00</th>\n      <td>61.774899</td>\n      <td>NaN</td>\n      <td>NaN</td>\n    </tr>\n    <tr>\n      <th>2019-09-03 13:30:00-04:00</th>\n      <td>61.360001</td>\n      <td>NaN</td>\n      <td>NaN</td>\n    </tr>\n    <tr>\n      <th>...</th>\n      <td>...</td>\n      <td>...</td>\n      <td>...</td>\n    </tr>\n    <tr>\n      <th>2021-08-10 11:30:00-04:00</th>\n      <td>277.697998</td>\n      <td>36.0</td>\n      <td>8.0</td>\n    </tr>\n    <tr>\n      <th>2021-08-10 12:30:00-04:00</th>\n      <td>276.769989</td>\n      <td>32.0</td>\n      <td>4.0</td>\n    </tr>\n    <tr>\n      <th>2021-08-10 13:30:00-04:00</th>\n      <td>275.375000</td>\n      <td>28.0</td>\n      <td>4.0</td>\n    </tr>\n    <tr>\n      <th>2021-08-10 14:30:00-04:00</th>\n      <td>274.049988</td>\n      <td>24.0</td>\n      <td>4.0</td>\n    </tr>\n    <tr>\n      <th>2021-08-10 15:30:00-04:00</th>\n      <td>272.929993</td>\n      <td>20.0</td>\n      <td>36.0</td>\n    </tr>\n  </tbody>\n</table>\n<p>3367 rows × 3 columns</p>\n</div>"
     },
     "metadata": {}
    }
   ]
  },
  {
   "cell_type": "code",
   "metadata": {
    "tags": [],
    "cell_id": "00002-ab905724-3ab0-4cb0-b76a-175f68098916",
    "deepnote_to_be_reexecuted": false,
    "source_hash": "bfbfecce",
    "execution_start": 1629249969637,
    "execution_millis": 4215,
    "deepnote_cell_type": "code"
   },
   "source": "# PLOTTING SQ CLOSE PRICE VS AROON 25\n\ndf = get_aroon('SQ','2019-09-01')\n\nax1 = plt.subplot2grid((11,1), (0,0), rowspan = 5, colspan = 1)\nax2 = plt.subplot2grid((11,1), (6,0), rowspan = 4, colspan = 1)\nax1.plot(df['Close'], linewidth = 2.5, color = '#2196f3')\nax1.set_title('SQ CLOSE PRICES')\nax2.plot(df['trend_aroon_up'], color = '#26a69a', linewidth = 2, label = 'AROON UP')\nax2.plot(df['trend_aroon_down'], color = '#ef5350', linewidth = 2, label = 'AROON DOWN')\nax2.legend()\nax2.set_title('SQ AROON 25')\nplt.show()",
   "execution_count": null,
   "outputs": [
    {
     "name": "stdout",
     "text": "[*********************100%***********************]  1 of 1 completed\n/root/venv/lib/python3.7/site-packages/ta/trend.py:768: RuntimeWarning: invalid value encountered in double_scalars\n  dip[i] = 100 * (self._dip[i] / self._trs[i])\n/root/venv/lib/python3.7/site-packages/ta/trend.py:772: RuntimeWarning: invalid value encountered in double_scalars\n  din[i] = 100 * (self._din[i] / self._trs[i])\n",
     "output_type": "stream"
    },
    {
     "data": {
      "text/plain": "<Figure size 1440x720 with 2 Axes>",
      "image/png": "[encoded data removed]"
     },
     "metadata": {
      "image/png": {
       "width": 1297,
       "height": 582
      }
     },
     "output_type": "display_data"
    }
   ]
  },
  {
   "cell_type": "code",
   "metadata": {
    "tags": [],
    "cell_id": "00004-c413f99e-2ae0-4f17-bdbf-26f77b3d30af",
    "deepnote_to_be_reexecuted": false,
    "source_hash": "26bd24c2",
    "execution_start": 1629249973859,
    "execution_millis": 3297,
    "deepnote_cell_type": "code"
   },
   "source": "# TRADE STRATEGY BASED ON AROON 25\n\ndf = get_aroon('SQ','2019-09-01')\n\ndef implement_aroon_strategy(prices, up, down):\n    buy_price = []\n    sell_price = []\n    aroon_signal = []\n    signal = 0\n    \n    for i in range(len(prices)):\n        if up[i] >= 70 and down[i] <= 30:\n            if signal != 1:\n                buy_price.append(prices[i])\n                sell_price.append(np.nan)\n                signal = 1\n                aroon_signal.append(signal)\n            else:\n                buy_price.append(np.nan)\n                sell_price.append(np.nan)\n                aroon_signal.append(0)\n        elif up[i] <= 30 and down[i] >= 70:\n            if signal != -1:\n                buy_price.append(np.nan)\n                sell_price.append(prices[i])\n                signal = -1\n                aroon_signal.append(signal)\n            else:\n                buy_price.append(np.nan)\n                sell_price.append(np.nan)\n                aroon_signal.append(0)\n        else:\n            buy_price.append(np.nan)\n            sell_price.append(np.nan)\n            aroon_signal.append(0)\n            \n    return buy_price, sell_price, aroon_signal\n\nbuy_price, sell_price, aroon_signal = implement_aroon_strategy(df['Close'], df['trend_aroon_up'], df['trend_aroon_down'])",
   "execution_count": null,
   "outputs": [
    {
     "name": "stdout",
     "text": "[*********************100%***********************]  1 of 1 completed\n/root/venv/lib/python3.7/site-packages/ta/trend.py:768: RuntimeWarning: invalid value encountered in double_scalars\n  dip[i] = 100 * (self._dip[i] / self._trs[i])\n/root/venv/lib/python3.7/site-packages/ta/trend.py:772: RuntimeWarning: invalid value encountered in double_scalars\n  din[i] = 100 * (self._din[i] / self._trs[i])\n",
     "output_type": "stream"
    }
   ]
  },
  {
   "cell_type": "code",
   "metadata": {
    "tags": [],
    "cell_id": "00003-15007445-579a-4709-930e-5d1c56317b73",
    "deepnote_to_be_reexecuted": false,
    "source_hash": "cf76f98b",
    "execution_start": 1629249977165,
    "execution_millis": 3820,
    "deepnote_cell_type": "code"
   },
   "source": "# PLOTTING TRADE SIGNALS FOR SQ AROON 25 STRATEGY\ndf = get_aroon('SQ','2019-09-01')\n\nax1 = plt.subplot2grid((11,1), (0,0), rowspan = 5, colspan = 1)\nax2 = plt.subplot2grid((11,1), (6,0), rowspan = 4, colspan = 1)\nax1.plot(df['Close'], linewidth = 2.5, color = '#2196f3')\nax1.plot(df.index, buy_price, marker = '^', color = '#26a69a', markersize = 12)\nax1.plot(df.index, sell_price, marker = 'v', color = '#ef5350', markersize = 12)\nax1.set_title('SQ CLOSE PRICES')\nax2.plot(df['trend_aroon_up'], color = '#26a69a', linewidth = 2, label = 'AROON UP')\nax2.plot(df['trend_aroon_down'], color = '#ef5350', linewidth = 2, label = 'AROON DOWN')\nax2.legend()\nax2.set_title('SQ AROON 25')\nplt.show()",
   "execution_count": null,
   "outputs": [
    {
     "name": "stdout",
     "text": "[*********************100%***********************]  1 of 1 completed\n/root/venv/lib/python3.7/site-packages/ta/trend.py:768: RuntimeWarning: invalid value encountered in double_scalars\n  dip[i] = 100 * (self._dip[i] / self._trs[i])\n/root/venv/lib/python3.7/site-packages/ta/trend.py:772: RuntimeWarning: invalid value encountered in double_scalars\n  din[i] = 100 * (self._din[i] / self._trs[i])\n",
     "output_type": "stream"
    },
    {
     "data": {
      "text/plain": "<Figure size 1440x720 with 2 Axes>",
      "image/png": "[encoded data removed]"
     },
     "metadata": {
      "image/png": {
       "width": 1297,
       "height": 582
      }
     },
     "output_type": "display_data"
    }
   ]
  },
  {
   "cell_type": "code",
   "metadata": {
    "tags": [],
    "cell_id": "00005-7f579ed9-67da-4eb5-952d-d9272dae290b",
    "deepnote_to_be_reexecuted": false,
    "source_hash": "b623e53d",
    "execution_start": 1629249980987,
    "execution_millis": 1,
    "deepnote_cell_type": "code"
   },
   "source": "",
   "execution_count": null,
   "outputs": []
  },
  {
   "cell_type": "code",
   "metadata": {
    "tags": [],
    "cell_id": "00006-6fde1a27-3a41-4830-bdcd-09c96e97db72",
    "deepnote_to_be_reexecuted": false,
    "source_hash": "7d13063a",
    "execution_start": 1629249980995,
    "execution_millis": 3536,
    "deepnote_cell_type": "code"
   },
   "source": "# CREATING POSITION FOR SQ BASED ON AROON 25 SIGNALS\nposition = []\n\ndf = get_aroon('SQ', '2019-09-01')\n\nfor i in range(len(aroon_signal)):\n    if aroon_signal[i] > 1:\n        position.append(0)\n    else:\n        position.append(1)\n        \nfor i in range(len(df['Close'])):\n    if aroon_signal[i] == 1:\n        position[i] = 1\n    elif aroon_signal[i] == -1:\n        position[i] = 0\n    else:\n        position[i] = position[i-1]\n        \naroon_up = df['trend_aroon_up']\naroon_down = df['trend_aroon_down']\nclose_price = df['Close']\naroon_signal = pd.DataFrame(aroon_signal).rename(columns = {0:'aroon_signal'}).set_index(df.index)\nposition = pd.DataFrame(position).rename(columns = {0:'aroon_position'}).set_index(df.index)\n\nframes = [close_price, aroon_up, aroon_down, aroon_signal, position]\nstrategy = pd.concat(frames, join = 'inner', axis = 1)\n\nstrategy",
   "execution_count": null,
   "outputs": [
    {
     "name": "stdout",
     "text": "[*********************100%***********************]  1 of 1 completed\n/root/venv/lib/python3.7/site-packages/ta/trend.py:768: RuntimeWarning: invalid value encountered in double_scalars\n  dip[i] = 100 * (self._dip[i] / self._trs[i])\n/root/venv/lib/python3.7/site-packages/ta/trend.py:772: RuntimeWarning: invalid value encountered in double_scalars\n  din[i] = 100 * (self._din[i] / self._trs[i])\n",
     "output_type": "stream"
    },
    {
     "output_type": "execute_result",
     "execution_count": 6,
     "data": {
      "application/vnd.deepnote.dataframe.v2+json": {
       "row_count": 3367,
       "column_count": 5,
       "columns": [
        {
         "name": "Close",
         "dtype": "float64",
         "stats": {
          "unique_count": 3111,
          "nan_count": 0,
          "min": "33.119998931884766",
          "max": "280.9800109863281",
          "histogram": [
           {
            "bin_start": 33.119998931884766,
            "bin_end": 57.9060001373291,
            "count": 177
           },
           {
            "bin_start": 57.9060001373291,
            "bin_end": 82.69200134277344,
            "count": 1102
           },
           {
            "bin_start": 82.69200134277344,
            "bin_end": 107.47800254821777,
            "count": 178
           },
           {
            "bin_start": 107.47800254821777,
            "bin_end": 132.2640037536621,
            "count": 149
           },
           {
            "bin_start": 132.2640037536621,
            "bin_end": 157.05000495910645,
            "count": 255
           },
           {
            "bin_start": 157.05000495910645,
            "bin_end": 181.83600616455078,
            "count": 194
           },
           {
            "bin_start": 181.83600616455078,
            "bin_end": 206.62200736999512,
            "count": 202
           },
           {
            "bin_start": 206.62200736999512,
            "bin_end": 231.40800857543945,
            "count": 517
           },
           {
            "bin_start": 231.40800857543945,
            "bin_end": 256.1940097808838,
            "count": 415
           },
           {
            "bin_start": 256.1940097808838,
            "bin_end": 280.9800109863281,
            "count": 178
           }
          ]
         }
        },
        {
         "name": "trend_aroon_up",
         "dtype": "float64",
         "stats": {
          "unique_count": 25,
          "nan_count": 24,
          "min": "4.0",
          "max": "100.0",
          "histogram": [
           {
            "bin_start": 4,
            "bin_end": 13.6,
            "count": 607
           },
           {
            "bin_start": 13.6,
            "bin_end": 23.2,
            "count": 203
           },
           {
            "bin_start": 23.2,
            "bin_end": 32.8,
            "count": 265
           },
           {
            "bin_start": 32.8,
            "bin_end": 42.4,
            "count": 167
           },
           {
            "bin_start": 42.4,
            "bin_end": 52,
            "count": 174
           },
           {
            "bin_start": 52,
            "bin_end": 61.599999999999994,
            "count": 285
           },
           {
            "bin_start": 61.599999999999994,
            "bin_end": 71.2,
            "count": 186
           },
           {
            "bin_start": 71.2,
            "bin_end": 80.8,
            "count": 323
           },
           {
            "bin_start": 80.8,
            "bin_end": 90.39999999999999,
            "count": 285
           },
           {
            "bin_start": 90.39999999999999,
            "bin_end": 100,
            "count": 848
           }
          ]
         }
        },
        {
         "name": "trend_aroon_down",
         "dtype": "float64",
         "stats": {
          "unique_count": 25,
          "nan_count": 24,
          "min": "4.0",
          "max": "100.0",
          "histogram": [
           {
            "bin_start": 4,
            "bin_end": 13.6,
            "count": 943
           },
           {
            "bin_start": 13.6,
            "bin_end": 23.2,
            "count": 304
           },
           {
            "bin_start": 23.2,
            "bin_end": 32.8,
            "count": 361
           },
           {
            "bin_start": 32.8,
            "bin_end": 42.4,
            "count": 197
           },
           {
            "bin_start": 42.4,
            "bin_end": 52,
            "count": 175
           },
           {
            "bin_start": 52,
            "bin_end": 61.599999999999994,
            "count": 241
           },
           {
            "bin_start": 61.599999999999994,
            "bin_end": 71.2,
            "count": 152
           },
           {
            "bin_start": 71.2,
            "bin_end": 80.8,
            "count": 240
           },
           {
            "bin_start": 80.8,
            "bin_end": 90.39999999999999,
            "count": 194
           },
           {
            "bin_start": 90.39999999999999,
            "bin_end": 100,
            "count": 536
           }
          ]
         }
        },
        {
         "name": "aroon_signal",
         "dtype": "int64",
         "stats": {
          "unique_count": 3,
          "nan_count": 0,
          "min": "-1",
          "max": "1",
          "histogram": [
           {
            "bin_start": -1,
            "bin_end": -0.8,
            "count": 38
           },
           {
            "bin_start": -0.8,
            "bin_end": -0.6,
            "count": 0
           },
           {
            "bin_start": -0.6,
            "bin_end": -0.3999999999999999,
            "count": 0
           },
           {
            "bin_start": -0.3999999999999999,
            "bin_end": -0.19999999999999996,
            "count": 0
           },
           {
            "bin_start": -0.19999999999999996,
            "bin_end": 0,
            "count": 0
           },
           {
            "bin_start": 0,
            "bin_end": 0.20000000000000018,
            "count": 3292
           },
           {
            "bin_start": 0.20000000000000018,
            "bin_end": 0.40000000000000013,
            "count": 0
           },
           {
            "bin_start": 0.40000000000000013,
            "bin_end": 0.6000000000000001,
            "count": 0
           },
           {
            "bin_start": 0.6000000000000001,
            "bin_end": 0.8,
            "count": 0
           },
           {
            "bin_start": 0.8,
            "bin_end": 1,
            "count": 37
           }
          ]
         }
        },
        {
         "name": "aroon_position",
         "dtype": "int64",
         "stats": {
          "unique_count": 2,
          "nan_count": 0,
          "min": "0",
          "max": "1",
          "histogram": [
           {
            "bin_start": 0,
            "bin_end": 0.1,
            "count": 1296
           },
           {
            "bin_start": 0.1,
            "bin_end": 0.2,
            "count": 0
           },
           {
            "bin_start": 0.2,
            "bin_end": 0.30000000000000004,
            "count": 0
           },
           {
            "bin_start": 0.30000000000000004,
            "bin_end": 0.4,
            "count": 0
           },
           {
            "bin_start": 0.4,
            "bin_end": 0.5,
            "count": 0
           },
           {
            "bin_start": 0.5,
            "bin_end": 0.6000000000000001,
            "count": 0
           },
           {
            "bin_start": 0.6000000000000001,
            "bin_end": 0.7000000000000001,
            "count": 0
           },
           {
            "bin_start": 0.7000000000000001,
            "bin_end": 0.8,
            "count": 0
           },
           {
            "bin_start": 0.8,
            "bin_end": 0.9,
            "count": 0
           },
           {
            "bin_start": 0.9,
            "bin_end": 1,
            "count": 2071
           }
          ]
         }
        },
        {
         "name": "_deepnote_index_column",
         "dtype": "datetime64[ns, America/New_York]"
        }
       ],
       "rows_top": [
        {
         "Close": 62.959999084472656,
         "trend_aroon_up": "nan",
         "trend_aroon_down": "nan",
         "aroon_signal": 0,
         "aroon_position": 1,
         "_deepnote_index_column": "2019-09-03T09:30:00.000000"
        },
        {
         "Close": 62.31999969482422,
         "trend_aroon_up": "nan",
         "trend_aroon_down": "nan",
         "aroon_signal": 0,
         "aroon_position": 1,
         "_deepnote_index_column": "2019-09-03T10:30:00.000000"
        },
        {
         "Close": 62,
         "trend_aroon_up": "nan",
         "trend_aroon_down": "nan",
         "aroon_signal": 0,
         "aroon_position": 1,
         "_deepnote_index_column": "2019-09-03T11:30:00.000000"
        },
        {
         "Close": 61.774898529052734,
         "trend_aroon_up": "nan",
         "trend_aroon_down": "nan",
         "aroon_signal": 0,
         "aroon_position": 1,
         "_deepnote_index_column": "2019-09-03T12:30:00.000000"
        },
        {
         "Close": 61.36000061035156,
         "trend_aroon_up": "nan",
         "trend_aroon_down": "nan",
         "aroon_signal": 0,
         "aroon_position": 1,
         "_deepnote_index_column": "2019-09-03T13:30:00.000000"
        },
        {
         "Close": 61.125,
         "trend_aroon_up": "nan",
         "trend_aroon_down": "nan",
         "aroon_signal": 0,
         "aroon_position": 1,
         "_deepnote_index_column": "2019-09-03T14:30:00.000000"
        },
        {
         "Close": 61.13999938964844,
         "trend_aroon_up": "nan",
         "trend_aroon_down": "nan",
         "aroon_signal": 0,
         "aroon_position": 1,
         "_deepnote_index_column": "2019-09-03T15:30:00.000000"
        },
        {
         "Close": 61.93000030517578,
         "trend_aroon_up": "nan",
         "trend_aroon_down": "nan",
         "aroon_signal": 0,
         "aroon_position": 1,
         "_deepnote_index_column": "2019-09-04T09:30:00.000000"
        },
        {
         "Close": 62.02000045776367,
         "trend_aroon_up": "nan",
         "trend_aroon_down": "nan",
         "aroon_signal": 0,
         "aroon_position": 1,
         "_deepnote_index_column": "2019-09-04T10:30:00.000000"
        },
        {
         "Close": 61.41999816894531,
         "trend_aroon_up": "nan",
         "trend_aroon_down": "nan",
         "aroon_signal": 0,
         "aroon_position": 1,
         "_deepnote_index_column": "2019-09-04T11:30:00.000000"
        },
        {
         "Close": 61.07500076293945,
         "trend_aroon_up": "nan",
         "trend_aroon_down": "nan",
         "aroon_signal": 0,
         "aroon_position": 1,
         "_deepnote_index_column": "2019-09-04T12:30:00.000000"
        },
        {
         "Close": 61.11000061035156,
         "trend_aroon_up": "nan",
         "trend_aroon_down": "nan",
         "aroon_signal": 0,
         "aroon_position": 1,
         "_deepnote_index_column": "2019-09-04T13:30:00.000000"
        },
        {
         "Close": 61.040000915527344,
         "trend_aroon_up": "nan",
         "trend_aroon_down": "nan",
         "aroon_signal": 0,
         "aroon_position": 1,
         "_deepnote_index_column": "2019-09-04T14:30:00.000000"
        },
        {
         "Close": 61.08000183105469,
         "trend_aroon_up": "nan",
         "trend_aroon_down": "nan",
         "aroon_signal": 0,
         "aroon_position": 1,
         "_deepnote_index_column": "2019-09-04T15:30:00.000000"
        },
        {
         "Close": 63.08250045776367,
         "trend_aroon_up": "nan",
         "trend_aroon_down": "nan",
         "aroon_signal": 0,
         "aroon_position": 1,
         "_deepnote_index_column": "2019-09-05T09:30:00.000000"
        },
        {
         "Close": 62.67900085449219,
         "trend_aroon_up": "nan",
         "trend_aroon_down": "nan",
         "aroon_signal": 0,
         "aroon_position": 1,
         "_deepnote_index_column": "2019-09-05T10:30:00.000000"
        },
        {
         "Close": 62.45280075073242,
         "trend_aroon_up": "nan",
         "trend_aroon_down": "nan",
         "aroon_signal": 0,
         "aroon_position": 1,
         "_deepnote_index_column": "2019-09-05T11:30:00.000000"
        },
        {
         "Close": 62.83000183105469,
         "trend_aroon_up": "nan",
         "trend_aroon_down": "nan",
         "aroon_signal": 0,
         "aroon_position": 1,
         "_deepnote_index_column": "2019-09-05T12:30:00.000000"
        },
        {
         "Close": 62.95500183105469,
         "trend_aroon_up": "nan",
         "trend_aroon_down": "nan",
         "aroon_signal": 0,
         "aroon_position": 1,
         "_deepnote_index_column": "2019-09-05T13:30:00.000000"
        },
        {
         "Close": 63.150001525878906,
         "trend_aroon_up": "nan",
         "trend_aroon_down": "nan",
         "aroon_signal": 0,
         "aroon_position": 1,
         "_deepnote_index_column": "2019-09-05T14:30:00.000000"
        },
        {
         "Close": 63.04499816894531,
         "trend_aroon_up": "nan",
         "trend_aroon_down": "nan",
         "aroon_signal": 0,
         "aroon_position": 1,
         "_deepnote_index_column": "2019-09-05T15:30:00.000000"
        },
        {
         "Close": 63.31999969482422,
         "trend_aroon_up": "nan",
         "trend_aroon_down": "nan",
         "aroon_signal": 0,
         "aroon_position": 1,
         "_deepnote_index_column": "2019-09-06T09:30:00.000000"
        },
        {
         "Close": 62.97610092163086,
         "trend_aroon_up": "nan",
         "trend_aroon_down": "nan",
         "aroon_signal": 0,
         "aroon_position": 1,
         "_deepnote_index_column": "2019-09-06T10:30:00.000000"
        },
        {
         "Close": 63.279998779296875,
         "trend_aroon_up": "nan",
         "trend_aroon_down": "nan",
         "aroon_signal": 0,
         "aroon_position": 1,
         "_deepnote_index_column": "2019-09-06T11:30:00.000000"
        },
        {
         "Close": 62.97600173950195,
         "trend_aroon_up": 88,
         "trend_aroon_down": 52,
         "aroon_signal": 0,
         "aroon_position": 1,
         "_deepnote_index_column": "2019-09-06T12:30:00.000000"
        },
        {
         "Close": 62.650001525878906,
         "trend_aroon_up": 84,
         "trend_aroon_down": 48,
         "aroon_signal": 0,
         "aroon_position": 1,
         "_deepnote_index_column": "2019-09-06T13:30:00.000000"
        },
        {
         "Close": 62.30500030517578,
         "trend_aroon_up": 80,
         "trend_aroon_down": 44,
         "aroon_signal": 0,
         "aroon_position": 1,
         "_deepnote_index_column": "2019-09-06T14:30:00.000000"
        },
        {
         "Close": 61.97999954223633,
         "trend_aroon_up": 76,
         "trend_aroon_down": 40,
         "aroon_signal": 0,
         "aroon_position": 1,
         "_deepnote_index_column": "2019-09-06T15:30:00.000000"
        },
        {
         "Close": 61.70000076293945,
         "trend_aroon_up": 72,
         "trend_aroon_down": 36,
         "aroon_signal": 0,
         "aroon_position": 1,
         "_deepnote_index_column": "2019-09-09T09:30:00.000000"
        },
        {
         "Close": 61.68000030517578,
         "trend_aroon_up": 68,
         "trend_aroon_down": 32,
         "aroon_signal": 0,
         "aroon_position": 1,
         "_deepnote_index_column": "2019-09-09T10:30:00.000000"
        },
        {
         "Close": 60.95000076293945,
         "trend_aroon_up": 64,
         "trend_aroon_down": 100,
         "aroon_signal": 0,
         "aroon_position": 1,
         "_deepnote_index_column": "2019-09-09T11:30:00.000000"
        },
        {
         "Close": 59.92499923706055,
         "trend_aroon_up": 60,
         "trend_aroon_down": 100,
         "aroon_signal": 0,
         "aroon_position": 1,
         "_deepnote_index_column": "2019-09-09T12:30:00.000000"
        },
        {
         "Close": 59.752201080322266,
         "trend_aroon_up": 56.00000000000001,
         "trend_aroon_down": 100,
         "aroon_signal": 0,
         "aroon_position": 1,
         "_deepnote_index_column": "2019-09-09T13:30:00.000000"
        },
        {
         "Close": 60.86000061035156,
         "trend_aroon_up": 52,
         "trend_aroon_down": 96,
         "aroon_signal": 0,
         "aroon_position": 1,
         "_deepnote_index_column": "2019-09-09T14:30:00.000000"
        },
        {
         "Close": 61.45000076293945,
         "trend_aroon_up": 48,
         "trend_aroon_down": 92,
         "aroon_signal": 0,
         "aroon_position": 1,
         "_deepnote_index_column": "2019-09-09T15:30:00.000000"
        },
        {
         "Close": 61.380001068115234,
         "trend_aroon_up": 44,
         "trend_aroon_down": 88,
         "aroon_signal": 0,
         "aroon_position": 1,
         "_deepnote_index_column": "2019-09-10T09:30:00.000000"
        },
        {
         "Close": 61.207298278808594,
         "trend_aroon_up": 40,
         "trend_aroon_down": 84,
         "aroon_signal": 0,
         "aroon_position": 1,
         "_deepnote_index_column": "2019-09-10T10:30:00.000000"
        },
        {
         "Close": 61.38999938964844,
         "trend_aroon_up": 36,
         "trend_aroon_down": 80,
         "aroon_signal": 0,
         "aroon_position": 1,
         "_deepnote_index_column": "2019-09-10T11:30:00.000000"
        },
        {
         "Close": 61.15800094604492,
         "trend_aroon_up": 32,
         "trend_aroon_down": 76,
         "aroon_signal": 0,
         "aroon_position": 1,
         "_deepnote_index_column": "2019-09-10T12:30:00.000000"
        },
        {
         "Close": 60.58000183105469,
         "trend_aroon_up": 28.000000000000004,
         "trend_aroon_down": 72,
         "aroon_signal": -1,
         "aroon_position": 0,
         "_deepnote_index_column": "2019-09-10T13:30:00.000000"
        },
        {
         "Close": 60.4900016784668,
         "trend_aroon_up": 24,
         "trend_aroon_down": 68,
         "aroon_signal": 0,
         "aroon_position": 0,
         "_deepnote_index_column": "2019-09-10T14:30:00.000000"
        },
        {
         "Close": 60.5,
         "trend_aroon_up": 20,
         "trend_aroon_down": 64,
         "aroon_signal": 0,
         "aroon_position": 0,
         "_deepnote_index_column": "2019-09-10T15:30:00.000000"
        },
        {
         "Close": 60.45000076293945,
         "trend_aroon_up": 16,
         "trend_aroon_down": 60,
         "aroon_signal": 0,
         "aroon_position": 0,
         "_deepnote_index_column": "2019-09-11T09:30:00.000000"
        },
        {
         "Close": 59.97999954223633,
         "trend_aroon_up": 12,
         "trend_aroon_down": 56.00000000000001,
         "aroon_signal": 0,
         "aroon_position": 0,
         "_deepnote_index_column": "2019-09-11T10:30:00.000000"
        },
        {
         "Close": 60.22999954223633,
         "trend_aroon_up": 8,
         "trend_aroon_down": 52,
         "aroon_signal": 0,
         "aroon_position": 0,
         "_deepnote_index_column": "2019-09-11T11:30:00.000000"
        },
        {
         "Close": 60.201499938964844,
         "trend_aroon_up": 4,
         "trend_aroon_down": 48,
         "aroon_signal": 0,
         "aroon_position": 0,
         "_deepnote_index_column": "2019-09-11T12:30:00.000000"
        },
        {
         "Close": 59.69340133666992,
         "trend_aroon_up": 8,
         "trend_aroon_down": 100,
         "aroon_signal": 0,
         "aroon_position": 0,
         "_deepnote_index_column": "2019-09-11T13:30:00.000000"
        },
        {
         "Close": 59.014198303222656,
         "trend_aroon_up": 4,
         "trend_aroon_down": 100,
         "aroon_signal": 0,
         "aroon_position": 0,
         "_deepnote_index_column": "2019-09-11T14:30:00.000000"
        },
        {
         "Close": 59.18000030517578,
         "trend_aroon_up": 4,
         "trend_aroon_down": 96,
         "aroon_signal": 0,
         "aroon_position": 0,
         "_deepnote_index_column": "2019-09-11T15:30:00.000000"
        },
        {
         "Close": 58.959598541259766,
         "trend_aroon_up": 4,
         "trend_aroon_down": 100,
         "aroon_signal": 0,
         "aroon_position": 0,
         "_deepnote_index_column": "2019-09-12T09:30:00.000000"
        },
        {
         "Close": 58.560001373291016,
         "trend_aroon_up": 4,
         "trend_aroon_down": 100,
         "aroon_signal": 0,
         "aroon_position": 0,
         "_deepnote_index_column": "2019-09-12T10:30:00.000000"
        },
        {
         "Close": 58.310001373291016,
         "trend_aroon_up": 4,
         "trend_aroon_down": 100,
         "aroon_signal": 0,
         "aroon_position": 0,
         "_deepnote_index_column": "2019-09-12T11:30:00.000000"
        },
        {
         "Close": 58.2400016784668,
         "trend_aroon_up": 4,
         "trend_aroon_down": 100,
         "aroon_signal": 0,
         "aroon_position": 0,
         "_deepnote_index_column": "2019-09-12T12:30:00.000000"
        },
        {
         "Close": 58,
         "trend_aroon_up": 4,
         "trend_aroon_down": 100,
         "aroon_signal": 0,
         "aroon_position": 0,
         "_deepnote_index_column": "2019-09-12T13:30:00.000000"
        },
        {
         "Close": 58.095001220703125,
         "trend_aroon_up": 20,
         "trend_aroon_down": 96,
         "aroon_signal": 0,
         "aroon_position": 0,
         "_deepnote_index_column": "2019-09-12T14:30:00.000000"
        },
        {
         "Close": 57.790000915527344,
         "trend_aroon_up": 16,
         "trend_aroon_down": 100,
         "aroon_signal": 0,
         "aroon_position": 0,
         "_deepnote_index_column": "2019-09-12T15:30:00.000000"
        },
        {
         "Close": 58.22999954223633,
         "trend_aroon_up": 12,
         "trend_aroon_down": 96,
         "aroon_signal": 0,
         "aroon_position": 0,
         "_deepnote_index_column": "2019-09-13T09:30:00.000000"
        },
        {
         "Close": 58.279998779296875,
         "trend_aroon_up": 8,
         "trend_aroon_down": 92,
         "aroon_signal": 0,
         "aroon_position": 0,
         "_deepnote_index_column": "2019-09-13T10:30:00.000000"
        },
        {
         "Close": 58.7599983215332,
         "trend_aroon_up": 4,
         "trend_aroon_down": 88,
         "aroon_signal": 0,
         "aroon_position": 0,
         "_deepnote_index_column": "2019-09-13T11:30:00.000000"
        },
        {
         "Close": 58.483699798583984,
         "trend_aroon_up": 12,
         "trend_aroon_down": 84,
         "aroon_signal": 0,
         "aroon_position": 0,
         "_deepnote_index_column": "2019-09-13T12:30:00.000000"
        },
        {
         "Close": 58.1349983215332,
         "trend_aroon_up": 8,
         "trend_aroon_down": 80,
         "aroon_signal": 0,
         "aroon_position": 0,
         "_deepnote_index_column": "2019-09-13T13:30:00.000000"
        },
        {
         "Close": 58.290000915527344,
         "trend_aroon_up": 4,
         "trend_aroon_down": 76,
         "aroon_signal": 0,
         "aroon_position": 0,
         "_deepnote_index_column": "2019-09-13T14:30:00.000000"
        },
        {
         "Close": 58.31999969482422,
         "trend_aroon_up": 4,
         "trend_aroon_down": 72,
         "aroon_signal": 0,
         "aroon_position": 0,
         "_deepnote_index_column": "2019-09-13T15:30:00.000000"
        },
        {
         "Close": 57.529998779296875,
         "trend_aroon_up": 4,
         "trend_aroon_down": 100,
         "aroon_signal": 0,
         "aroon_position": 0,
         "_deepnote_index_column": "2019-09-16T09:30:00.000000"
        },
        {
         "Close": 58.02510070800781,
         "trend_aroon_up": 8,
         "trend_aroon_down": 96,
         "aroon_signal": 0,
         "aroon_position": 0,
         "_deepnote_index_column": "2019-09-16T10:30:00.000000"
        },
        {
         "Close": 58.14889907836914,
         "trend_aroon_up": 4,
         "trend_aroon_down": 92,
         "aroon_signal": 0,
         "aroon_position": 0,
         "_deepnote_index_column": "2019-09-16T11:30:00.000000"
        },
        {
         "Close": 59.494998931884766,
         "trend_aroon_up": 4,
         "trend_aroon_down": 88,
         "aroon_signal": 0,
         "aroon_position": 0,
         "_deepnote_index_column": "2019-09-16T12:30:00.000000"
        },
        {
         "Close": 59.470001220703125,
         "trend_aroon_up": 8,
         "trend_aroon_down": 84,
         "aroon_signal": 0,
         "aroon_position": 0,
         "_deepnote_index_column": "2019-09-16T13:30:00.000000"
        },
        {
         "Close": 59.31999969482422,
         "trend_aroon_up": 4,
         "trend_aroon_down": 80,
         "aroon_signal": 0,
         "aroon_position": 0,
         "_deepnote_index_column": "2019-09-16T14:30:00.000000"
        },
        {
         "Close": 59.25,
         "trend_aroon_up": 4,
         "trend_aroon_down": 76,
         "aroon_signal": 0,
         "aroon_position": 0,
         "_deepnote_index_column": "2019-09-16T15:30:00.000000"
        },
        {
         "Close": 59.65999984741211,
         "trend_aroon_up": 4,
         "trend_aroon_down": 72,
         "aroon_signal": 0,
         "aroon_position": 0,
         "_deepnote_index_column": "2019-09-17T09:30:00.000000"
        },
        {
         "Close": 59.529998779296875,
         "trend_aroon_up": 96,
         "trend_aroon_down": 68,
         "aroon_signal": 0,
         "aroon_position": 0,
         "_deepnote_index_column": "2019-09-17T10:30:00.000000"
        },
        {
         "Close": 59.63999938964844,
         "trend_aroon_up": 92,
         "trend_aroon_down": 64,
         "aroon_signal": 0,
         "aroon_position": 0,
         "_deepnote_index_column": "2019-09-17T11:30:00.000000"
        },
        {
         "Close": 59.40999984741211,
         "trend_aroon_up": 88,
         "trend_aroon_down": 60,
         "aroon_signal": 0,
         "aroon_position": 0,
         "_deepnote_index_column": "2019-09-17T12:30:00.000000"
        },
        {
         "Close": 59.349998474121094,
         "trend_aroon_up": 84,
         "trend_aroon_down": 56.00000000000001,
         "aroon_signal": 0,
         "aroon_position": 0,
         "_deepnote_index_column": "2019-09-17T13:30:00.000000"
        },
        {
         "Close": 59.54999923706055,
         "trend_aroon_up": 80,
         "trend_aroon_down": 52,
         "aroon_signal": 0,
         "aroon_position": 0,
         "_deepnote_index_column": "2019-09-17T14:30:00.000000"
        },
        {
         "Close": 59.540000915527344,
         "trend_aroon_up": 76,
         "trend_aroon_down": 48,
         "aroon_signal": 0,
         "aroon_position": 0,
         "_deepnote_index_column": "2019-09-17T15:30:00.000000"
        },
        {
         "Close": 59.77000045776367,
         "trend_aroon_up": 100,
         "trend_aroon_down": 44,
         "aroon_signal": 0,
         "aroon_position": 0,
         "_deepnote_index_column": "2019-09-18T09:30:00.000000"
        },
        {
         "Close": 59.41999816894531,
         "trend_aroon_up": 96,
         "trend_aroon_down": 40,
         "aroon_signal": 0,
         "aroon_position": 0,
         "_deepnote_index_column": "2019-09-18T10:30:00.000000"
        },
        {
         "Close": 59.27000045776367,
         "trend_aroon_up": 92,
         "trend_aroon_down": 36,
         "aroon_signal": 0,
         "aroon_position": 0,
         "_deepnote_index_column": "2019-09-18T11:30:00.000000"
        },
        {
         "Close": 59.165000915527344,
         "trend_aroon_up": 88,
         "trend_aroon_down": 32,
         "aroon_signal": 0,
         "aroon_position": 0,
         "_deepnote_index_column": "2019-09-18T12:30:00.000000"
        },
        {
         "Close": 58.9900016784668,
         "trend_aroon_up": 84,
         "trend_aroon_down": 28.000000000000004,
         "aroon_signal": 1,
         "aroon_position": 1,
         "_deepnote_index_column": "2019-09-18T13:30:00.000000"
        },
        {
         "Close": 59.540000915527344,
         "trend_aroon_up": 80,
         "trend_aroon_down": 24,
         "aroon_signal": 0,
         "aroon_position": 1,
         "_deepnote_index_column": "2019-09-18T14:30:00.000000"
        },
        {
         "Close": 59.72999954223633,
         "trend_aroon_up": 76,
         "trend_aroon_down": 20,
         "aroon_signal": 0,
         "aroon_position": 1,
         "_deepnote_index_column": "2019-09-18T15:30:00.000000"
        },
        {
         "Close": 59.75,
         "trend_aroon_up": 72,
         "trend_aroon_down": 16,
         "aroon_signal": 0,
         "aroon_position": 1,
         "_deepnote_index_column": "2019-09-19T09:30:00.000000"
        },
        {
         "Close": 59.709999084472656,
         "trend_aroon_up": 68,
         "trend_aroon_down": 12,
         "aroon_signal": 0,
         "aroon_position": 1,
         "_deepnote_index_column": "2019-09-19T10:30:00.000000"
        },
        {
         "Close": 58.77109909057617,
         "trend_aroon_up": 64,
         "trend_aroon_down": 8,
         "aroon_signal": 0,
         "aroon_position": 1,
         "_deepnote_index_column": "2019-09-19T11:30:00.000000"
        },
        {
         "Close": 58.7599983215332,
         "trend_aroon_up": 60,
         "trend_aroon_down": 4,
         "aroon_signal": 0,
         "aroon_position": 1,
         "_deepnote_index_column": "2019-09-19T12:30:00.000000"
        },
        {
         "Close": 58.86009979248047,
         "trend_aroon_up": 56.00000000000001,
         "trend_aroon_down": 4,
         "aroon_signal": 0,
         "aroon_position": 1,
         "_deepnote_index_column": "2019-09-19T13:30:00.000000"
        },
        {
         "Close": 58.900001525878906,
         "trend_aroon_up": 52,
         "trend_aroon_down": 4,
         "aroon_signal": 0,
         "aroon_position": 1,
         "_deepnote_index_column": "2019-09-19T14:30:00.000000"
        },
        {
         "Close": 59.029998779296875,
         "trend_aroon_up": 48,
         "trend_aroon_down": 88,
         "aroon_signal": 0,
         "aroon_position": 1,
         "_deepnote_index_column": "2019-09-19T15:30:00.000000"
        },
        {
         "Close": 58.279998779296875,
         "trend_aroon_up": 44,
         "trend_aroon_down": 100,
         "aroon_signal": 0,
         "aroon_position": 1,
         "_deepnote_index_column": "2019-09-20T09:30:00.000000"
        },
        {
         "Close": 57.685001373291016,
         "trend_aroon_up": 40,
         "trend_aroon_down": 100,
         "aroon_signal": 0,
         "aroon_position": 1,
         "_deepnote_index_column": "2019-09-20T10:30:00.000000"
        },
        {
         "Close": 57.41999816894531,
         "trend_aroon_up": 36,
         "trend_aroon_down": 100,
         "aroon_signal": 0,
         "aroon_position": 1,
         "_deepnote_index_column": "2019-09-20T11:30:00.000000"
        },
        {
         "Close": 57.34000015258789,
         "trend_aroon_up": 32,
         "trend_aroon_down": 100,
         "aroon_signal": 0,
         "aroon_position": 1,
         "_deepnote_index_column": "2019-09-20T12:30:00.000000"
        },
        {
         "Close": 57.45000076293945,
         "trend_aroon_up": 28.000000000000004,
         "trend_aroon_down": 96,
         "aroon_signal": -1,
         "aroon_position": 0,
         "_deepnote_index_column": "2019-09-20T13:30:00.000000"
        },
        {
         "Close": 57.88010025024414,
         "trend_aroon_up": 24,
         "trend_aroon_down": 92,
         "aroon_signal": 0,
         "aroon_position": 0,
         "_deepnote_index_column": "2019-09-20T14:30:00.000000"
        },
        {
         "Close": 57.83000183105469,
         "trend_aroon_up": 20,
         "trend_aroon_down": 88,
         "aroon_signal": 0,
         "aroon_position": 0,
         "_deepnote_index_column": "2019-09-20T15:30:00.000000"
        },
        {
         "Close": 56.650001525878906,
         "trend_aroon_up": 16,
         "trend_aroon_down": 100,
         "aroon_signal": 0,
         "aroon_position": 0,
         "_deepnote_index_column": "2019-09-23T09:30:00.000000"
        },
        {
         "Close": 56.790000915527344,
         "trend_aroon_up": 12,
         "trend_aroon_down": 96,
         "aroon_signal": 0,
         "aroon_position": 0,
         "_deepnote_index_column": "2019-09-23T10:30:00.000000"
        }
       ],
       "rows_bottom": [
        {
         "Close": 239.3300018310547,
         "trend_aroon_up": 16,
         "trend_aroon_down": 80,
         "aroon_signal": 0,
         "aroon_position": 0,
         "_deepnote_index_column": "2021-07-16T11:30:00.000000"
        },
        {
         "Close": 238.49400329589844,
         "trend_aroon_up": 12,
         "trend_aroon_down": 76,
         "aroon_signal": 0,
         "aroon_position": 0,
         "_deepnote_index_column": "2021-07-16T12:30:00.000000"
        },
        {
         "Close": 237.6909942626953,
         "trend_aroon_up": 8,
         "trend_aroon_down": 72,
         "aroon_signal": 0,
         "aroon_position": 0,
         "_deepnote_index_column": "2021-07-16T13:30:00.000000"
        },
        {
         "Close": 237.264892578125,
         "trend_aroon_up": 4,
         "trend_aroon_down": 68,
         "aroon_signal": 0,
         "aroon_position": 0,
         "_deepnote_index_column": "2021-07-16T14:30:00.000000"
        },
        {
         "Close": 237.55999755859375,
         "trend_aroon_up": 20,
         "trend_aroon_down": 64,
         "aroon_signal": 0,
         "aroon_position": 0,
         "_deepnote_index_column": "2021-07-16T15:30:00.000000"
        },
        {
         "Close": 228.5399932861328,
         "trend_aroon_up": 16,
         "trend_aroon_down": 100,
         "aroon_signal": 0,
         "aroon_position": 0,
         "_deepnote_index_column": "2021-07-19T09:30:00.000000"
        },
        {
         "Close": 231.9199981689453,
         "trend_aroon_up": 12,
         "trend_aroon_down": 96,
         "aroon_signal": 0,
         "aroon_position": 0,
         "_deepnote_index_column": "2021-07-19T10:30:00.000000"
        },
        {
         "Close": 231.61000061035156,
         "trend_aroon_up": 8,
         "trend_aroon_down": 92,
         "aroon_signal": 0,
         "aroon_position": 0,
         "_deepnote_index_column": "2021-07-19T11:30:00.000000"
        },
        {
         "Close": 230.59500122070312,
         "trend_aroon_up": 4,
         "trend_aroon_down": 88,
         "aroon_signal": 0,
         "aroon_position": 0,
         "_deepnote_index_column": "2021-07-19T12:30:00.000000"
        },
        {
         "Close": 232.83450317382812,
         "trend_aroon_up": 8,
         "trend_aroon_down": 84,
         "aroon_signal": 0,
         "aroon_position": 0,
         "_deepnote_index_column": "2021-07-19T13:30:00.000000"
        },
        {
         "Close": 232,
         "trend_aroon_up": 4,
         "trend_aroon_down": 80,
         "aroon_signal": 0,
         "aroon_position": 0,
         "_deepnote_index_column": "2021-07-19T14:30:00.000000"
        },
        {
         "Close": 233.69000244140625,
         "trend_aroon_up": 8,
         "trend_aroon_down": 76,
         "aroon_signal": 0,
         "aroon_position": 0,
         "_deepnote_index_column": "2021-07-19T15:30:00.000000"
        },
        {
         "Close": 236.32000732421875,
         "trend_aroon_up": 4,
         "trend_aroon_down": 72,
         "aroon_signal": 0,
         "aroon_position": 0,
         "_deepnote_index_column": "2021-07-20T09:30:00.000000"
        },
        {
         "Close": 242.10000610351562,
         "trend_aroon_up": 100,
         "trend_aroon_down": 68,
         "aroon_signal": 0,
         "aroon_position": 0,
         "_deepnote_index_column": "2021-07-20T10:30:00.000000"
        },
        {
         "Close": 241.95449829101562,
         "trend_aroon_up": 96,
         "trend_aroon_down": 64,
         "aroon_signal": 0,
         "aroon_position": 0,
         "_deepnote_index_column": "2021-07-20T11:30:00.000000"
        },
        {
         "Close": 244.2050018310547,
         "trend_aroon_up": 100,
         "trend_aroon_down": 60,
         "aroon_signal": 0,
         "aroon_position": 0,
         "_deepnote_index_column": "2021-07-20T12:30:00.000000"
        },
        {
         "Close": 246.2899932861328,
         "trend_aroon_up": 100,
         "trend_aroon_down": 56.00000000000001,
         "aroon_signal": 0,
         "aroon_position": 0,
         "_deepnote_index_column": "2021-07-20T13:30:00.000000"
        },
        {
         "Close": 246.75,
         "trend_aroon_up": 100,
         "trend_aroon_down": 52,
         "aroon_signal": 0,
         "aroon_position": 0,
         "_deepnote_index_column": "2021-07-20T14:30:00.000000"
        },
        {
         "Close": 246.5399932861328,
         "trend_aroon_up": 96,
         "trend_aroon_down": 48,
         "aroon_signal": 0,
         "aroon_position": 0,
         "_deepnote_index_column": "2021-07-20T15:30:00.000000"
        },
        {
         "Close": 252.5,
         "trend_aroon_up": 100,
         "trend_aroon_down": 44,
         "aroon_signal": 0,
         "aroon_position": 0,
         "_deepnote_index_column": "2021-07-21T09:30:00.000000"
        },
        {
         "Close": 252.33999633789062,
         "trend_aroon_up": 96,
         "trend_aroon_down": 40,
         "aroon_signal": 0,
         "aroon_position": 0,
         "_deepnote_index_column": "2021-07-21T10:30:00.000000"
        },
        {
         "Close": 253.4499969482422,
         "trend_aroon_up": 100,
         "trend_aroon_down": 36,
         "aroon_signal": 0,
         "aroon_position": 0,
         "_deepnote_index_column": "2021-07-21T11:30:00.000000"
        },
        {
         "Close": 256.31298828125,
         "trend_aroon_up": 100,
         "trend_aroon_down": 32,
         "aroon_signal": 0,
         "aroon_position": 0,
         "_deepnote_index_column": "2021-07-21T12:30:00.000000"
        },
        {
         "Close": 258.3500061035156,
         "trend_aroon_up": 100,
         "trend_aroon_down": 28.000000000000004,
         "aroon_signal": 1,
         "aroon_position": 1,
         "_deepnote_index_column": "2021-07-21T13:30:00.000000"
        },
        {
         "Close": 256.864990234375,
         "trend_aroon_up": 96,
         "trend_aroon_down": 24,
         "aroon_signal": 0,
         "aroon_position": 1,
         "_deepnote_index_column": "2021-07-21T14:30:00.000000"
        },
        {
         "Close": 257.25,
         "trend_aroon_up": 92,
         "trend_aroon_down": 20,
         "aroon_signal": 0,
         "aroon_position": 1,
         "_deepnote_index_column": "2021-07-21T15:30:00.000000"
        },
        {
         "Close": 261.4700012207031,
         "trend_aroon_up": 100,
         "trend_aroon_down": 16,
         "aroon_signal": 0,
         "aroon_position": 1,
         "_deepnote_index_column": "2021-07-22T09:30:00.000000"
        },
        {
         "Close": 259.3299865722656,
         "trend_aroon_up": 96,
         "trend_aroon_down": 12,
         "aroon_signal": 0,
         "aroon_position": 1,
         "_deepnote_index_column": "2021-07-22T10:30:00.000000"
        },
        {
         "Close": 259.55999755859375,
         "trend_aroon_up": 92,
         "trend_aroon_down": 8,
         "aroon_signal": 0,
         "aroon_position": 1,
         "_deepnote_index_column": "2021-07-22T11:30:00.000000"
        },
        {
         "Close": 260.5299987792969,
         "trend_aroon_up": 88,
         "trend_aroon_down": 4,
         "aroon_signal": 0,
         "aroon_position": 1,
         "_deepnote_index_column": "2021-07-22T12:30:00.000000"
        },
        {
         "Close": 260.9700012207031,
         "trend_aroon_up": 84,
         "trend_aroon_down": 12,
         "aroon_signal": 0,
         "aroon_position": 1,
         "_deepnote_index_column": "2021-07-22T13:30:00.000000"
        },
        {
         "Close": 260.25,
         "trend_aroon_up": 80,
         "trend_aroon_down": 8,
         "aroon_signal": 0,
         "aroon_position": 1,
         "_deepnote_index_column": "2021-07-22T14:30:00.000000"
        },
        {
         "Close": 260.6000061035156,
         "trend_aroon_up": 76,
         "trend_aroon_down": 4,
         "aroon_signal": 0,
         "aroon_position": 1,
         "_deepnote_index_column": "2021-07-22T15:30:00.000000"
        },
        {
         "Close": 265.1700134277344,
         "trend_aroon_up": 100,
         "trend_aroon_down": 8,
         "aroon_signal": 0,
         "aroon_position": 1,
         "_deepnote_index_column": "2021-07-23T09:30:00.000000"
        },
        {
         "Close": 264.2900085449219,
         "trend_aroon_up": 96,
         "trend_aroon_down": 4,
         "aroon_signal": 0,
         "aroon_position": 1,
         "_deepnote_index_column": "2021-07-23T10:30:00.000000"
        },
        {
         "Close": 263.6000061035156,
         "trend_aroon_up": 92,
         "trend_aroon_down": 4,
         "aroon_signal": 0,
         "aroon_position": 1,
         "_deepnote_index_column": "2021-07-23T11:30:00.000000"
        },
        {
         "Close": 263.1000061035156,
         "trend_aroon_up": 88,
         "trend_aroon_down": 4,
         "aroon_signal": 0,
         "aroon_position": 1,
         "_deepnote_index_column": "2021-07-23T12:30:00.000000"
        },
        {
         "Close": 263.8299865722656,
         "trend_aroon_up": 84,
         "trend_aroon_down": 8,
         "aroon_signal": 0,
         "aroon_position": 1,
         "_deepnote_index_column": "2021-07-23T13:30:00.000000"
        },
        {
         "Close": 263.8399963378906,
         "trend_aroon_up": 80,
         "trend_aroon_down": 4,
         "aroon_signal": 0,
         "aroon_position": 1,
         "_deepnote_index_column": "2021-07-23T14:30:00.000000"
        },
        {
         "Close": 264.07000732421875,
         "trend_aroon_up": 76,
         "trend_aroon_down": 4,
         "aroon_signal": 0,
         "aroon_position": 1,
         "_deepnote_index_column": "2021-07-23T15:30:00.000000"
        },
        {
         "Close": 263.79998779296875,
         "trend_aroon_up": 72,
         "trend_aroon_down": 4,
         "aroon_signal": 0,
         "aroon_position": 1,
         "_deepnote_index_column": "2021-07-26T09:30:00.000000"
        },
        {
         "Close": 261.90008544921875,
         "trend_aroon_up": 68,
         "trend_aroon_down": 8,
         "aroon_signal": 0,
         "aroon_position": 1,
         "_deepnote_index_column": "2021-07-26T10:30:00.000000"
        },
        {
         "Close": 262.4599914550781,
         "trend_aroon_up": 64,
         "trend_aroon_down": 4,
         "aroon_signal": 0,
         "aroon_position": 1,
         "_deepnote_index_column": "2021-07-26T11:30:00.000000"
        },
        {
         "Close": 262.6000061035156,
         "trend_aroon_up": 60,
         "trend_aroon_down": 8,
         "aroon_signal": 0,
         "aroon_position": 1,
         "_deepnote_index_column": "2021-07-26T12:30:00.000000"
        },
        {
         "Close": 261.5639953613281,
         "trend_aroon_up": 56.00000000000001,
         "trend_aroon_down": 4,
         "aroon_signal": 0,
         "aroon_position": 1,
         "_deepnote_index_column": "2021-07-26T13:30:00.000000"
        },
        {
         "Close": 262.54998779296875,
         "trend_aroon_up": 52,
         "trend_aroon_down": 4,
         "aroon_signal": 0,
         "aroon_position": 1,
         "_deepnote_index_column": "2021-07-26T14:30:00.000000"
        },
        {
         "Close": 262.04998779296875,
         "trend_aroon_up": 48,
         "trend_aroon_down": 4,
         "aroon_signal": 0,
         "aroon_position": 1,
         "_deepnote_index_column": "2021-07-26T15:30:00.000000"
        },
        {
         "Close": 253.86720275878906,
         "trend_aroon_up": 44,
         "trend_aroon_down": 100,
         "aroon_signal": 0,
         "aroon_position": 1,
         "_deepnote_index_column": "2021-07-27T09:30:00.000000"
        },
        {
         "Close": 246.5540008544922,
         "trend_aroon_up": 40,
         "trend_aroon_down": 100,
         "aroon_signal": 0,
         "aroon_position": 1,
         "_deepnote_index_column": "2021-07-27T10:30:00.000000"
        },
        {
         "Close": 248.99000549316406,
         "trend_aroon_up": 36,
         "trend_aroon_down": 96,
         "aroon_signal": 0,
         "aroon_position": 1,
         "_deepnote_index_column": "2021-07-27T11:30:00.000000"
        },
        {
         "Close": 247.6300048828125,
         "trend_aroon_up": 32,
         "trend_aroon_down": 92,
         "aroon_signal": 0,
         "aroon_position": 1,
         "_deepnote_index_column": "2021-07-27T12:30:00.000000"
        },
        {
         "Close": 250.61000061035156,
         "trend_aroon_up": 28.000000000000004,
         "trend_aroon_down": 88,
         "aroon_signal": -1,
         "aroon_position": 0,
         "_deepnote_index_column": "2021-07-27T13:30:00.000000"
        },
        {
         "Close": 252.27000427246094,
         "trend_aroon_up": 24,
         "trend_aroon_down": 84,
         "aroon_signal": 0,
         "aroon_position": 0,
         "_deepnote_index_column": "2021-07-27T14:30:00.000000"
        },
        {
         "Close": 251.72999572753906,
         "trend_aroon_up": 20,
         "trend_aroon_down": 80,
         "aroon_signal": 0,
         "aroon_position": 0,
         "_deepnote_index_column": "2021-07-27T15:30:00.000000"
        },
        {
         "Close": 256.29998779296875,
         "trend_aroon_up": 16,
         "trend_aroon_down": 76,
         "aroon_signal": 0,
         "aroon_position": 0,
         "_deepnote_index_column": "2021-07-28T09:30:00.000000"
        },
        {
         "Close": 258.4150085449219,
         "trend_aroon_up": 12,
         "trend_aroon_down": 72,
         "aroon_signal": 0,
         "aroon_position": 0,
         "_deepnote_index_column": "2021-07-28T10:30:00.000000"
        },
        {
         "Close": 258.95001220703125,
         "trend_aroon_up": 8,
         "trend_aroon_down": 68,
         "aroon_signal": 0,
         "aroon_position": 0,
         "_deepnote_index_column": "2021-07-28T11:30:00.000000"
        },
        {
         "Close": 257.0400085449219,
         "trend_aroon_up": 4,
         "trend_aroon_down": 64,
         "aroon_signal": 0,
         "aroon_position": 0,
         "_deepnote_index_column": "2021-07-28T12:30:00.000000"
        },
        {
         "Close": 258.4800109863281,
         "trend_aroon_up": 4,
         "trend_aroon_down": 60,
         "aroon_signal": 0,
         "aroon_position": 0,
         "_deepnote_index_column": "2021-07-28T13:30:00.000000"
        },
        {
         "Close": 259.7099914550781,
         "trend_aroon_up": 20,
         "trend_aroon_down": 56.00000000000001,
         "aroon_signal": 0,
         "aroon_position": 0,
         "_deepnote_index_column": "2021-07-28T14:30:00.000000"
        },
        {
         "Close": 258.4700012207031,
         "trend_aroon_up": 16,
         "trend_aroon_down": 52,
         "aroon_signal": 0,
         "aroon_position": 0,
         "_deepnote_index_column": "2021-07-28T15:30:00.000000"
        },
        {
         "Close": 259.70001220703125,
         "trend_aroon_up": 12,
         "trend_aroon_down": 48,
         "aroon_signal": 0,
         "aroon_position": 0,
         "_deepnote_index_column": "2021-07-29T09:30:00.000000"
        },
        {
         "Close": 260.1900939941406,
         "trend_aroon_up": 8,
         "trend_aroon_down": 44,
         "aroon_signal": 0,
         "aroon_position": 0,
         "_deepnote_index_column": "2021-07-29T10:30:00.000000"
        },
        {
         "Close": 260.2200012207031,
         "trend_aroon_up": 4,
         "trend_aroon_down": 40,
         "aroon_signal": 0,
         "aroon_position": 0,
         "_deepnote_index_column": "2021-07-29T11:30:00.000000"
        },
        {
         "Close": 257.864990234375,
         "trend_aroon_up": 4,
         "trend_aroon_down": 36,
         "aroon_signal": 0,
         "aroon_position": 0,
         "_deepnote_index_column": "2021-07-29T12:30:00.000000"
        },
        {
         "Close": 255.4700927734375,
         "trend_aroon_up": 12,
         "trend_aroon_down": 32,
         "aroon_signal": 0,
         "aroon_position": 0,
         "_deepnote_index_column": "2021-07-29T13:30:00.000000"
        },
        {
         "Close": 254.93499755859375,
         "trend_aroon_up": 8,
         "trend_aroon_down": 28.000000000000004,
         "aroon_signal": 0,
         "aroon_position": 0,
         "_deepnote_index_column": "2021-07-29T14:30:00.000000"
        },
        {
         "Close": 255.27000427246094,
         "trend_aroon_up": 4,
         "trend_aroon_down": 24,
         "aroon_signal": 0,
         "aroon_position": 0,
         "_deepnote_index_column": "2021-07-29T15:30:00.000000"
        },
        {
         "Close": 251.60499572753906,
         "trend_aroon_up": 8,
         "trend_aroon_down": 20,
         "aroon_signal": 0,
         "aroon_position": 0,
         "_deepnote_index_column": "2021-07-30T09:30:00.000000"
        },
        {
         "Close": 248.32000732421875,
         "trend_aroon_up": 4,
         "trend_aroon_down": 16,
         "aroon_signal": 0,
         "aroon_position": 0,
         "_deepnote_index_column": "2021-07-30T10:30:00.000000"
        },
        {
         "Close": 247.17999267578125,
         "trend_aroon_up": 4,
         "trend_aroon_down": 12,
         "aroon_signal": 0,
         "aroon_position": 0,
         "_deepnote_index_column": "2021-07-30T11:30:00.000000"
        },
        {
         "Close": 247.59840393066406,
         "trend_aroon_up": 68,
         "trend_aroon_down": 8,
         "aroon_signal": 0,
         "aroon_position": 0,
         "_deepnote_index_column": "2021-07-30T12:30:00.000000"
        },
        {
         "Close": 245.77000427246094,
         "trend_aroon_up": 64,
         "trend_aroon_down": 100,
         "aroon_signal": 0,
         "aroon_position": 0,
         "_deepnote_index_column": "2021-07-30T13:30:00.000000"
        },
        {
         "Close": 245.9199981689453,
         "trend_aroon_up": 60,
         "trend_aroon_down": 96,
         "aroon_signal": 0,
         "aroon_position": 0,
         "_deepnote_index_column": "2021-07-30T14:30:00.000000"
        },
        {
         "Close": 247.25,
         "trend_aroon_up": 56.00000000000001,
         "trend_aroon_down": 92,
         "aroon_signal": 0,
         "aroon_position": 0,
         "_deepnote_index_column": "2021-07-30T15:30:00.000000"
        },
        {
         "Close": 269.95001220703125,
         "trend_aroon_up": 100,
         "trend_aroon_down": 88,
         "aroon_signal": 0,
         "aroon_position": 0,
         "_deepnote_index_column": "2021-08-02T09:30:00.000000"
        },
        {
         "Close": 275.239990234375,
         "trend_aroon_up": 100,
         "trend_aroon_down": 84,
         "aroon_signal": 0,
         "aroon_position": 0,
         "_deepnote_index_column": "2021-08-02T10:30:00.000000"
        },
        {
         "Close": 275.19000244140625,
         "trend_aroon_up": 96,
         "trend_aroon_down": 80,
         "aroon_signal": 0,
         "aroon_position": 0,
         "_deepnote_index_column": "2021-08-02T11:30:00.000000"
        },
        {
         "Close": 276.32000732421875,
         "trend_aroon_up": 100,
         "trend_aroon_down": 76,
         "aroon_signal": 0,
         "aroon_position": 0,
         "_deepnote_index_column": "2021-08-02T12:30:00.000000"
        },
        {
         "Close": 279.6247863769531,
         "trend_aroon_up": 100,
         "trend_aroon_down": 72,
         "aroon_signal": 0,
         "aroon_position": 0,
         "_deepnote_index_column": "2021-08-02T13:30:00.000000"
        },
        {
         "Close": 273.1388854980469,
         "trend_aroon_up": 96,
         "trend_aroon_down": 68,
         "aroon_signal": 0,
         "aroon_position": 0,
         "_deepnote_index_column": "2021-08-02T14:30:00.000000"
        },
        {
         "Close": 272.3999938964844,
         "trend_aroon_up": 92,
         "trend_aroon_down": 64,
         "aroon_signal": 0,
         "aroon_position": 0,
         "_deepnote_index_column": "2021-08-02T15:30:00.000000"
        },
        {
         "Close": 266.0799865722656,
         "trend_aroon_up": 88,
         "trend_aroon_down": 60,
         "aroon_signal": 0,
         "aroon_position": 0,
         "_deepnote_index_column": "2021-08-03T09:30:00.000000"
        },
        {
         "Close": 263.30999755859375,
         "trend_aroon_up": 84,
         "trend_aroon_down": 56.00000000000001,
         "aroon_signal": 0,
         "aroon_position": 0,
         "_deepnote_index_column": "2021-08-03T10:30:00.000000"
        },
        {
         "Close": 271.67999267578125,
         "trend_aroon_up": 80,
         "trend_aroon_down": 52,
         "aroon_signal": 0,
         "aroon_position": 0,
         "_deepnote_index_column": "2021-08-03T11:30:00.000000"
        },
        {
         "Close": 268.8900146484375,
         "trend_aroon_up": 76,
         "trend_aroon_down": 48,
         "aroon_signal": 0,
         "aroon_position": 0,
         "_deepnote_index_column": "2021-08-03T12:30:00.000000"
        },
        {
         "Close": 266.9849853515625,
         "trend_aroon_up": 72,
         "trend_aroon_down": 44,
         "aroon_signal": 0,
         "aroon_position": 0,
         "_deepnote_index_column": "2021-08-03T13:30:00.000000"
        },
        {
         "Close": 269.6798095703125,
         "trend_aroon_up": 68,
         "trend_aroon_down": 40,
         "aroon_signal": 0,
         "aroon_position": 0,
         "_deepnote_index_column": "2021-08-03T14:30:00.000000"
        },
        {
         "Close": 269.3999938964844,
         "trend_aroon_up": 64,
         "trend_aroon_down": 36,
         "aroon_signal": 0,
         "aroon_position": 0,
         "_deepnote_index_column": "2021-08-03T15:30:00.000000"
        },
        {
         "Close": 263.5899963378906,
         "trend_aroon_up": 60,
         "trend_aroon_down": 32,
         "aroon_signal": 0,
         "aroon_position": 0,
         "_deepnote_index_column": "2021-08-04T09:30:00.000000"
        },
        {
         "Close": 265.6600036621094,
         "trend_aroon_up": 56.00000000000001,
         "trend_aroon_down": 28.000000000000004,
         "aroon_signal": 0,
         "aroon_position": 0,
         "_deepnote_index_column": "2021-08-04T10:30:00.000000"
        },
        {
         "Close": 265.4100036621094,
         "trend_aroon_up": 52,
         "trend_aroon_down": 24,
         "aroon_signal": 0,
         "aroon_position": 0,
         "_deepnote_index_column": "2021-08-04T11:30:00.000000"
        },
        {
         "Close": 266.5199890136719,
         "trend_aroon_up": 48,
         "trend_aroon_down": 20,
         "aroon_signal": 0,
         "aroon_position": 0,
         "_deepnote_index_column": "2021-08-04T12:30:00.000000"
        },
        {
         "Close": 278.1571960449219,
         "trend_aroon_up": 44,
         "trend_aroon_down": 16,
         "aroon_signal": 0,
         "aroon_position": 0,
         "_deepnote_index_column": "2021-08-10T09:30:00.000000"
        },
        {
         "Close": 277.5,
         "trend_aroon_up": 40,
         "trend_aroon_down": 12,
         "aroon_signal": 0,
         "aroon_position": 0,
         "_deepnote_index_column": "2021-08-10T10:30:00.000000"
        },
        {
         "Close": 277.697998046875,
         "trend_aroon_up": 36,
         "trend_aroon_down": 8,
         "aroon_signal": 0,
         "aroon_position": 0,
         "_deepnote_index_column": "2021-08-10T11:30:00.000000"
        },
        {
         "Close": 276.7699890136719,
         "trend_aroon_up": 32,
         "trend_aroon_down": 4,
         "aroon_signal": 0,
         "aroon_position": 0,
         "_deepnote_index_column": "2021-08-10T12:30:00.000000"
        },
        {
         "Close": 275.375,
         "trend_aroon_up": 28.000000000000004,
         "trend_aroon_down": 4,
         "aroon_signal": 0,
         "aroon_position": 0,
         "_deepnote_index_column": "2021-08-10T13:30:00.000000"
        },
        {
         "Close": 274.04998779296875,
         "trend_aroon_up": 24,
         "trend_aroon_down": 4,
         "aroon_signal": 0,
         "aroon_position": 0,
         "_deepnote_index_column": "2021-08-10T14:30:00.000000"
        },
        {
         "Close": 272.92999267578125,
         "trend_aroon_up": 20,
         "trend_aroon_down": 36,
         "aroon_signal": 0,
         "aroon_position": 0,
         "_deepnote_index_column": "2021-08-10T15:30:00.000000"
        }
       ]
      },
      "text/plain": "                                Close  trend_aroon_up  trend_aroon_down  \\\n2019-09-03 09:30:00-04:00   62.959999             NaN               NaN   \n2019-09-03 10:30:00-04:00   62.320000             NaN               NaN   \n2019-09-03 11:30:00-04:00   62.000000             NaN               NaN   \n2019-09-03 12:30:00-04:00   61.774899             NaN               NaN   \n2019-09-03 13:30:00-04:00   61.360001             NaN               NaN   \n...                               ...             ...               ...   \n2021-08-10 11:30:00-04:00  277.697998            36.0               8.0   \n2021-08-10 12:30:00-04:00  276.769989            32.0               4.0   \n2021-08-10 13:30:00-04:00  275.375000            28.0               4.0   \n2021-08-10 14:30:00-04:00  274.049988            24.0               4.0   \n2021-08-10 15:30:00-04:00  272.929993            20.0              36.0   \n\n                           aroon_signal  aroon_position  \n2019-09-03 09:30:00-04:00             0               1  \n2019-09-03 10:30:00-04:00             0               1  \n2019-09-03 11:30:00-04:00             0               1  \n2019-09-03 12:30:00-04:00             0               1  \n2019-09-03 13:30:00-04:00             0               1  \n...                                 ...             ...  \n2021-08-10 11:30:00-04:00             0               0  \n2021-08-10 12:30:00-04:00             0               0  \n2021-08-10 13:30:00-04:00             0               0  \n2021-08-10 14:30:00-04:00             0               0  \n2021-08-10 15:30:00-04:00             0               0  \n\n[3367 rows x 5 columns]",
      "text/html": "<div>\n<style scoped>\n    .dataframe tbody tr th:only-of-type {\n        vertical-align: middle;\n    }\n\n    .dataframe tbody tr th {\n        vertical-align: top;\n    }\n\n    .dataframe thead th {\n        text-align: right;\n    }\n</style>\n<table border=\"1\" class=\"dataframe\">\n  <thead>\n    <tr style=\"text-align: right;\">\n      <th></th>\n      <th>Close</th>\n      <th>trend_aroon_up</th>\n      <th>trend_aroon_down</th>\n      <th>aroon_signal</th>\n      <th>aroon_position</th>\n    </tr>\n  </thead>\n  <tbody>\n    <tr>\n      <th>2019-09-03 09:30:00-04:00</th>\n      <td>62.959999</td>\n      <td>NaN</td>\n      <td>NaN</td>\n      <td>0</td>\n      <td>1</td>\n    </tr>\n    <tr>\n      <th>2019-09-03 10:30:00-04:00</th>\n      <td>62.320000</td>\n      <td>NaN</td>\n      <td>NaN</td>\n      <td>0</td>\n      <td>1</td>\n    </tr>\n    <tr>\n      <th>2019-09-03 11:30:00-04:00</th>\n      <td>62.000000</td>\n      <td>NaN</td>\n      <td>NaN</td>\n      <td>0</td>\n      <td>1</td>\n    </tr>\n    <tr>\n      <th>2019-09-03 12:30:00-04:00</th>\n      <td>61.774899</td>\n      <td>NaN</td>\n      <td>NaN</td>\n      <td>0</td>\n      <td>1</td>\n    </tr>\n    <tr>\n      <th>2019-09-03 13:30:00-04:00</th>\n      <td>61.360001</td>\n      <td>NaN</td>\n      <td>NaN</td>\n      <td>0</td>\n      <td>1</td>\n    </tr>\n    <tr>\n      <th>...</th>\n      <td>...</td>\n      <td>...</td>\n      <td>...</td>\n      <td>...</td>\n      <td>...</td>\n    </tr>\n    <tr>\n      <th>2021-08-10 11:30:00-04:00</th>\n      <td>277.697998</td>\n      <td>36.0</td>\n      <td>8.0</td>\n      <td>0</td>\n      <td>0</td>\n    </tr>\n    <tr>\n      <th>2021-08-10 12:30:00-04:00</th>\n      <td>276.769989</td>\n      <td>32.0</td>\n      <td>4.0</td>\n      <td>0</td>\n      <td>0</td>\n    </tr>\n    <tr>\n      <th>2021-08-10 13:30:00-04:00</th>\n      <td>275.375000</td>\n      <td>28.0</td>\n      <td>4.0</td>\n      <td>0</td>\n      <td>0</td>\n    </tr>\n    <tr>\n      <th>2021-08-10 14:30:00-04:00</th>\n      <td>274.049988</td>\n      <td>24.0</td>\n      <td>4.0</td>\n      <td>0</td>\n      <td>0</td>\n    </tr>\n    <tr>\n      <th>2021-08-10 15:30:00-04:00</th>\n      <td>272.929993</td>\n      <td>20.0</td>\n      <td>36.0</td>\n      <td>0</td>\n      <td>0</td>\n    </tr>\n  </tbody>\n</table>\n<p>3367 rows × 5 columns</p>\n</div>"
     },
     "metadata": {}
    }
   ]
  },
  {
   "cell_type": "code",
   "metadata": {
    "tags": [],
    "cell_id": "00007-dc69d1ed-2234-484b-8aeb-fddb19be2c64",
    "deepnote_to_be_reexecuted": false,
    "source_hash": "5984290a",
    "execution_start": 1629249984538,
    "execution_millis": 3172,
    "deepnote_cell_type": "code"
   },
   "source": "# BACKTESTING THE SQ AROON TRADE STRATEGY\ndf = get_aroon('SQ', '2019-09-01')\n\ndf_ret = pd.DataFrame(np.diff(df['Close'])).rename(columns = {0:'returns'})\naroon_strategy_ret = []\n\nfor i in range(len(df_ret)):\n    returns = df_ret['returns'][i]*strategy['aroon_position'][i]\n    aroon_strategy_ret.append(returns)\n    \naroon_strategy_ret_df = pd.DataFrame(aroon_strategy_ret).rename(columns = {0:'aroon_returns'})\ninvestment_value = 100000\nnumber_of_stocks = floor(investment_value/df['Close'][-1])\naroon_investment_ret = []\n\nfor i in range(len(aroon_strategy_ret_df['aroon_returns'])):\n    returns = number_of_stocks*aroon_strategy_ret_df['aroon_returns'][i]\n    aroon_investment_ret.append(returns)\n\naroon_investment_ret_df = pd.DataFrame(aroon_investment_ret).rename(columns = {0:'investment_returns'})\ntotal_investment_ret = round(sum(aroon_investment_ret_df['investment_returns']), 2)\nprofit_percentage = floor((total_investment_ret/investment_value)*100)\nprint(cl('Profit gained from the Aroon strategy by investing $100k in SQ : {}'.format(total_investment_ret), attrs = ['bold']))\nprint(cl('Profit percentage of the Aroon strategy : {}%'.format(profit_percentage), attrs = ['bold']))",
   "execution_count": null,
   "outputs": [
    {
     "name": "stdout",
     "text": "[*********************100%***********************]  1 of 1 completed\n/root/venv/lib/python3.7/site-packages/ta/trend.py:768: RuntimeWarning: invalid value encountered in double_scalars\n  dip[i] = 100 * (self._dip[i] / self._trs[i])\n/root/venv/lib/python3.7/site-packages/ta/trend.py:772: RuntimeWarning: invalid value encountered in double_scalars\n  din[i] = 100 * (self._din[i] / self._trs[i])\n\u001b[1mProfit gained from the Aroon strategy by investing $100k in SQ : 54031.1\u001b[0m\n\u001b[1mProfit percentage of the Aroon strategy : 54%\u001b[0m\n",
     "output_type": "stream"
    }
   ]
  },
  {
   "cell_type": "code",
   "metadata": {
    "tags": [],
    "cell_id": "00009-10a90629-087c-4e6e-8daf-58f757f94c66",
    "deepnote_to_be_reexecuted": false,
    "source_hash": "f47fe086",
    "execution_start": 1629249987716,
    "execution_millis": 73,
    "deepnote_cell_type": "code"
   },
   "source": "strategy.to_csv('SQ 1H AROON 25 TRADE STRATEGY.csv')",
   "execution_count": null,
   "outputs": []
  },
  {
   "cell_type": "markdown",
   "source": "<a style='text-decoration:none;line-height:16px;display:flex;color:#5B5B62;padding:10px;justify-content:end;' href='https://deepnote.com?utm_source=created-in-deepnote-cell&projectId=d12c285c-6789-4c45-9ad7-1be9b4d60622' target=\"_blank\">\n<img alt='Created in deepnote.com' style='display:inline;max-height:16px;margin:0px;margin-right:7.5px;' src='data:image/svg+xml;base64,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' > </img>\nCreated in <span style='font-weight:600;margin-left:4px;'>Deepnote</span></a>",
   "metadata": {
    "tags": [],
    "created_in_deepnote_cell": true,
    "deepnote_cell_type": "markdown"
   }
  }
 ],
 "nbformat": 4,
 "nbformat_minor": 2,
 "metadata": {
  "orig_nbformat": 2,
  "deepnote": {
   "is_reactive": false
  },
  "deepnote_notebook_id": "55a8bc61-0604-4156-ac1d-8225606090b1",
  "deepnote_execution_queue": []
 }
}