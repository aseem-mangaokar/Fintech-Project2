{
 "cells": [
  {
   "cell_type": "code",
   "metadata": {
    "tags": [],
    "cell_id": "00000-7fd4b80c-6000-48ad-a223-1ac5f1ef5fa2",
    "deepnote_to_be_reexecuted": false,
    "source_hash": "32367b8d",
    "execution_start": 1628645417794,
    "execution_millis": 1802,
    "deepnote_cell_type": "code"
   },
   "source": "import datetime as dt\nfrom pathlib import Path\nimport requests\nimport pandas as pd\nimport numpy as np\nfrom math import floor\nfrom termcolor import colored as cl\nimport matplotlib.pyplot as plt\nplt.close('all')\nimport yfinance as yf\nplt.rcParams['figure.figsize'] = (20, 10)\nplt.style.use('fivethirtyeight')",
   "outputs": [],
   "execution_count": 2
  },
  {
   "cell_type": "code",
   "metadata": {
    "tags": [],
    "cell_id": "00001-a0576c84-3e23-482f-b52b-41161e3e68b2",
    "deepnote_to_be_reexecuted": false,
    "source_hash": "eab763df",
    "execution_start": 1628648721923,
    "execution_millis": 267,
    "deepnote_cell_type": "code"
   },
   "source": "sq_1hr = yf.download(tickers='SQ', start='2019-09-01', interval='1h')\nsq_1hr.drop(columns = ['Open','High','Low','Adj Close','Volume'], inplace = True)\nsq_1hr.reset_index(inplace=True)\nsq_1hr.rename(columns = {'index':'Datetime'}, inplace = True)\nsq_1hr.set_index(pd.to_datetime(sq_1hr['Datetime'],infer_datetime_format=True),inplace=True)\nsq_1hr.head()",
   "outputs": [
    {
     "name": "stdout",
     "text": "[*********************100%***********************]  1 of 1 completed\n",
     "output_type": "stream"
    },
    {
     "output_type": "execute_result",
     "execution_count": 30,
     "data": {
      "application/vnd.deepnote.dataframe.v2+json": {
       "row_count": 5,
       "column_count": 2,
       "columns": [
        {
         "name": "Datetime",
         "dtype": "datetime64[ns, America/New_York]",
         "stats": {
          "unique_count": 5,
          "nan_count": 0,
          "min": "2019-09-03 09:30:00-04:00",
          "max": "2019-09-03 13:30:00-04:00",
          "histogram": [
           {
            "bin_start": 1567517400000000000,
            "bin_end": 1567518840000000000,
            "count": 1
           },
           {
            "bin_start": 1567518840000000000,
            "bin_end": 1567520280000000000,
            "count": 0
           },
           {
            "bin_start": 1567520280000000000,
            "bin_end": 1567521720000000000,
            "count": 1
           },
           {
            "bin_start": 1567521720000000000,
            "bin_end": 1567523160000000000,
            "count": 0
           },
           {
            "bin_start": 1567523160000000000,
            "bin_end": 1567524600000000000,
            "count": 0
           },
           {
            "bin_start": 1567524600000000000,
            "bin_end": 1567526040000000000,
            "count": 1
           },
           {
            "bin_start": 1567526040000000000,
            "bin_end": 1567527480000000000,
            "count": 0
           },
           {
            "bin_start": 1567527480000000000,
            "bin_end": 1567528920000000000,
            "count": 1
           },
           {
            "bin_start": 1567528920000000000,
            "bin_end": 1567530360000000000,
            "count": 0
           },
           {
            "bin_start": 1567530360000000000,
            "bin_end": 1567531800000000000,
            "count": 1
           }
          ]
         }
        },
        {
         "name": "Close",
         "dtype": "float64",
         "stats": {
          "unique_count": 5,
          "nan_count": 0,
          "min": "61.36000061035156",
          "max": "62.959999084472656",
          "histogram": [
           {
            "bin_start": 61.36000061035156,
            "bin_end": 61.52000045776367,
            "count": 1
           },
           {
            "bin_start": 61.52000045776367,
            "bin_end": 61.68000030517578,
            "count": 0
           },
           {
            "bin_start": 61.68000030517578,
            "bin_end": 61.84000015258789,
            "count": 1
           },
           {
            "bin_start": 61.84000015258789,
            "bin_end": 62,
            "count": 0
           },
           {
            "bin_start": 62,
            "bin_end": 62.15999984741211,
            "count": 1
           },
           {
            "bin_start": 62.15999984741211,
            "bin_end": 62.31999969482422,
            "count": 0
           },
           {
            "bin_start": 62.31999969482422,
            "bin_end": 62.47999954223633,
            "count": 1
           },
           {
            "bin_start": 62.47999954223633,
            "bin_end": 62.63999938964844,
            "count": 0
           },
           {
            "bin_start": 62.63999938964844,
            "bin_end": 62.79999923706055,
            "count": 0
           },
           {
            "bin_start": 62.79999923706055,
            "bin_end": 62.959999084472656,
            "count": 1
           }
          ]
         }
        },
        {
         "name": "_deepnote_index_column",
         "dtype": "datetime64[ns, America/New_York]"
        }
       ],
       "rows_top": [
        {
         "Datetime": "2019-09-03T09:30:00.000000",
         "Close": 62.959999084472656,
         "_deepnote_index_column": "2019-09-03T09:30:00.000000"
        },
        {
         "Datetime": "2019-09-03T10:30:00.000000",
         "Close": 62.31999969482422,
         "_deepnote_index_column": "2019-09-03T10:30:00.000000"
        },
        {
         "Datetime": "2019-09-03T11:30:00.000000",
         "Close": 62,
         "_deepnote_index_column": "2019-09-03T11:30:00.000000"
        },
        {
         "Datetime": "2019-09-03T12:30:00.000000",
         "Close": 61.774898529052734,
         "_deepnote_index_column": "2019-09-03T12:30:00.000000"
        },
        {
         "Datetime": "2019-09-03T13:30:00.000000",
         "Close": 61.36000061035156,
         "_deepnote_index_column": "2019-09-03T13:30:00.000000"
        }
       ],
       "rows_bottom": null
      },
      "text/plain": "                                           Datetime      Close\nDatetime                                                      \n2019-09-03 09:30:00-04:00 2019-09-03 09:30:00-04:00  62.959999\n2019-09-03 10:30:00-04:00 2019-09-03 10:30:00-04:00  62.320000\n2019-09-03 11:30:00-04:00 2019-09-03 11:30:00-04:00  62.000000\n2019-09-03 12:30:00-04:00 2019-09-03 12:30:00-04:00  61.774899\n2019-09-03 13:30:00-04:00 2019-09-03 13:30:00-04:00  61.360001",
      "text/html": "<div>\n<style scoped>\n    .dataframe tbody tr th:only-of-type {\n        vertical-align: middle;\n    }\n\n    .dataframe tbody tr th {\n        vertical-align: top;\n    }\n\n    .dataframe thead th {\n        text-align: right;\n    }\n</style>\n<table border=\"1\" class=\"dataframe\">\n  <thead>\n    <tr style=\"text-align: right;\">\n      <th></th>\n      <th>Datetime</th>\n      <th>Close</th>\n    </tr>\n    <tr>\n      <th>Datetime</th>\n      <th></th>\n      <th></th>\n    </tr>\n  </thead>\n  <tbody>\n    <tr>\n      <th>2019-09-03 09:30:00-04:00</th>\n      <td>2019-09-03 09:30:00-04:00</td>\n      <td>62.959999</td>\n    </tr>\n    <tr>\n      <th>2019-09-03 10:30:00-04:00</th>\n      <td>2019-09-03 10:30:00-04:00</td>\n      <td>62.320000</td>\n    </tr>\n    <tr>\n      <th>2019-09-03 11:30:00-04:00</th>\n      <td>2019-09-03 11:30:00-04:00</td>\n      <td>62.000000</td>\n    </tr>\n    <tr>\n      <th>2019-09-03 12:30:00-04:00</th>\n      <td>2019-09-03 12:30:00-04:00</td>\n      <td>61.774899</td>\n    </tr>\n    <tr>\n      <th>2019-09-03 13:30:00-04:00</th>\n      <td>2019-09-03 13:30:00-04:00</td>\n      <td>61.360001</td>\n    </tr>\n  </tbody>\n</table>\n</div>"
     },
     "metadata": {}
    }
   ],
   "execution_count": 30
  },
  {
   "cell_type": "code",
   "metadata": {
    "tags": [],
    "cell_id": "00003-8b7a3c79-056f-4ddd-92bc-d2b90d870a64",
    "deepnote_to_be_reexecuted": false,
    "source_hash": "c8bf6967",
    "execution_start": 1628648727496,
    "execution_millis": 43,
    "deepnote_cell_type": "code"
   },
   "source": "sq_diff = sq_1hr['Close'].diff()\nup = sq_diff.clip(lower=0)\ndown = -1*sq_diff.clip(upper=0)\nema_up = up.ewm(com=13, adjust=False).mean()\nema_down = down.ewm(com=13, adjust=False).mean()\nrs = ema_up/ema_down\nrs",
   "outputs": [
    {
     "output_type": "execute_result",
     "execution_count": 31,
     "data": {
      "text/plain": "Datetime\n2019-09-03 09:30:00-04:00         NaN\n2019-09-03 10:30:00-04:00    0.000000\n2019-09-03 11:30:00-04:00    0.000000\n2019-09-03 12:30:00-04:00    0.000000\n2019-09-03 13:30:00-04:00    0.000000\n                               ...   \n2021-08-10 11:30:00-04:00    1.030474\n2021-08-10 12:30:00-04:00    0.955053\n2021-08-10 13:30:00-04:00    0.853882\n2021-08-10 14:30:00-04:00    0.770402\n2021-08-10 15:30:00-04:00    0.707444\nName: Close, Length: 3411, dtype: float64"
     },
     "metadata": {}
    }
   ],
   "execution_count": 31
  },
  {
   "cell_type": "code",
   "metadata": {
    "tags": [],
    "cell_id": "00003-eec64713-d6a6-451a-98fa-4457acca66e9",
    "deepnote_to_be_reexecuted": false,
    "source_hash": "e098346",
    "execution_start": 1628648728323,
    "execution_millis": 36,
    "deepnote_cell_type": "code"
   },
   "source": "sq_1hr['RSI'] = 100 - (100/(1 + rs))\nsq_1hr['RSI'] ",
   "outputs": [
    {
     "output_type": "execute_result",
     "execution_count": 32,
     "data": {
      "text/plain": "Datetime\n2019-09-03 09:30:00-04:00          NaN\n2019-09-03 10:30:00-04:00     0.000000\n2019-09-03 11:30:00-04:00     0.000000\n2019-09-03 12:30:00-04:00     0.000000\n2019-09-03 13:30:00-04:00     0.000000\n                               ...    \n2021-08-10 11:30:00-04:00    50.750420\n2021-08-10 12:30:00-04:00    48.850494\n2021-08-10 13:30:00-04:00    46.059134\n2021-08-10 14:30:00-04:00    43.515665\n2021-08-10 15:30:00-04:00    41.432916\nName: RSI, Length: 3411, dtype: float64"
     },
     "metadata": {}
    }
   ],
   "execution_count": 32
  },
  {
   "cell_type": "code",
   "metadata": {
    "tags": [],
    "cell_id": "00004-b0e2cd23-0294-4f7e-96ca-b83ef8493e99",
    "deepnote_to_be_reexecuted": false,
    "source_hash": "4c1dec1c",
    "execution_start": 1628648730424,
    "execution_millis": 72,
    "deepnote_cell_type": "code"
   },
   "source": "\n# sq_1hr['RSI’]\nsq_1hr_rsi= sq_1hr.iloc[: , 1:]\nsq_1hr_rsi",
   "outputs": [
    {
     "output_type": "execute_result",
     "execution_count": 33,
     "data": {
      "application/vnd.deepnote.dataframe.v2+json": {
       "row_count": 3411,
       "column_count": 2,
       "columns": [
        {
         "name": "Close",
         "dtype": "float64",
         "stats": {
          "unique_count": 3152,
          "nan_count": 0,
          "min": "33.119998931884766",
          "max": "287.32000732421875",
          "histogram": [
           {
            "bin_start": 33.119998931884766,
            "bin_end": 58.53999977111816,
            "count": 199
           },
           {
            "bin_start": 58.53999977111816,
            "bin_end": 83.96000061035156,
            "count": 1097
           },
           {
            "bin_start": 83.96000061035156,
            "bin_end": 109.38000144958497,
            "count": 161
           },
           {
            "bin_start": 109.38000144958497,
            "bin_end": 134.80000228881835,
            "count": 158
           },
           {
            "bin_start": 134.80000228881835,
            "bin_end": 160.22000312805176,
            "count": 277
           },
           {
            "bin_start": 160.22000312805176,
            "bin_end": 185.64000396728517,
            "count": 186
           },
           {
            "bin_start": 185.64000396728517,
            "bin_end": 211.06000480651855,
            "count": 245
           },
           {
            "bin_start": 211.06000480651855,
            "bin_end": 236.48000564575196,
            "count": 548
           },
           {
            "bin_start": 236.48000564575196,
            "bin_end": 261.9000064849854,
            "count": 401
           },
           {
            "bin_start": 261.9000064849854,
            "bin_end": 287.32000732421875,
            "count": 139
           }
          ]
         }
        },
        {
         "name": "RSI",
         "dtype": "float64",
         "stats": {
          "unique_count": 3398,
          "nan_count": 1,
          "min": "0.0",
          "max": "90.06377701880119",
          "histogram": [
           {
            "bin_start": 0,
            "bin_end": 9.006377701880119,
            "count": 6
           },
           {
            "bin_start": 9.006377701880119,
            "bin_end": 18.012755403760238,
            "count": 7
           },
           {
            "bin_start": 18.012755403760238,
            "bin_end": 27.019133105640357,
            "count": 73
           },
           {
            "bin_start": 27.019133105640357,
            "bin_end": 36.025510807520476,
            "count": 338
           },
           {
            "bin_start": 36.025510807520476,
            "bin_end": 45.031888509400595,
            "count": 585
           },
           {
            "bin_start": 45.031888509400595,
            "bin_end": 54.038266211280714,
            "count": 723
           },
           {
            "bin_start": 54.038266211280714,
            "bin_end": 63.04464391316083,
            "count": 772
           },
           {
            "bin_start": 63.04464391316083,
            "bin_end": 72.05102161504095,
            "count": 634
           },
           {
            "bin_start": 72.05102161504095,
            "bin_end": 81.05739931692108,
            "count": 249
           },
           {
            "bin_start": 81.05739931692108,
            "bin_end": 90.06377701880119,
            "count": 23
           }
          ]
         }
        },
        {
         "name": "_deepnote_index_column",
         "dtype": "datetime64[ns, America/New_York]"
        }
       ],
       "rows_top": [
        {
         "Close": 62.959999084472656,
         "RSI": "nan",
         "_deepnote_index_column": "2019-09-03T09:30:00.000000"
        },
        {
         "Close": 62.31999969482422,
         "RSI": 0,
         "_deepnote_index_column": "2019-09-03T10:30:00.000000"
        },
        {
         "Close": 62,
         "RSI": 0,
         "_deepnote_index_column": "2019-09-03T11:30:00.000000"
        },
        {
         "Close": 61.774898529052734,
         "RSI": 0,
         "_deepnote_index_column": "2019-09-03T12:30:00.000000"
        },
        {
         "Close": 61.36000061035156,
         "RSI": 0,
         "_deepnote_index_column": "2019-09-03T13:30:00.000000"
        },
        {
         "Close": 61.125,
         "RSI": 0,
         "_deepnote_index_column": "2019-09-03T14:30:00.000000"
        },
        {
         "Close": 61.13999938964844,
         "RSI": 0.20847747653027682,
         "_deepnote_index_column": "2019-09-03T15:30:00.000000"
        },
        {
         "Close": 61.93000030517578,
         "RSI": 10.760918290411212,
         "_deepnote_index_column": "2019-09-04T09:30:00.000000"
        },
        {
         "Close": 62.02000045776367,
         "RSI": 11.903840278305168,
         "_deepnote_index_column": "2019-09-04T10:30:00.000000"
        },
        {
         "Close": 61.41999816894531,
         "RSI": 10.901443106745134,
         "_deepnote_index_column": "2019-09-04T11:30:00.000000"
        },
        {
         "Close": 61.07500076293945,
         "RSI": 10.36117496976172,
         "_deepnote_index_column": "2019-09-04T12:30:00.000000"
        },
        {
         "Close": 61.11000061035156,
         "RSI": 10.843912837046275,
         "_deepnote_index_column": "2019-09-04T13:30:00.000000"
        },
        {
         "Close": 61.040000915527344,
         "RSI": 10.719573825429933,
         "_deepnote_index_column": "2019-09-04T14:30:00.000000"
        },
        {
         "Close": 61.08000183105469,
         "RSI": 11.34515308984723,
         "_deepnote_index_column": "2019-09-04T15:30:00.000000"
        },
        {
         "Close": 63.08250045776367,
         "RSI": 35.65279203114369,
         "_deepnote_index_column": "2019-09-05T09:30:00.000000"
        },
        {
         "Close": 62.67900085449219,
         "RSI": 33.65067421108655,
         "_deepnote_index_column": "2019-09-05T10:30:00.000000"
        },
        {
         "Close": 62.45280075073242,
         "RSI": 32.54724447747819,
         "_deepnote_index_column": "2019-09-05T11:30:00.000000"
        },
        {
         "Close": 62.83000183105469,
         "RSI": 36.298408111009934,
         "_deepnote_index_column": "2019-09-05T12:30:00.000000"
        },
        {
         "Close": 62.95500183105469,
         "RSI": 37.538070647903616,
         "_deepnote_index_column": "2019-09-05T13:30:00.000000"
        },
        {
         "Close": 63.150001525878906,
         "RSI": 39.51552165750285,
         "_deepnote_index_column": "2019-09-05T14:30:00.000000"
        },
        {
         "Close": 63.04499816894531,
         "RSI": 38.80314255243087,
         "_deepnote_index_column": "2019-09-05T15:30:00.000000"
        },
        {
         "Close": 63.31999969482422,
         "RSI": 41.76422121002339,
         "_deepnote_index_column": "2019-09-06T09:30:00.000000"
        },
        {
         "Close": 62.97610092163086,
         "RSI": 39.20923037211833,
         "_deepnote_index_column": "2019-09-06T10:30:00.000000"
        },
        {
         "Close": 63.279998779296875,
         "RSI": 42.553710629230906,
         "_deepnote_index_column": "2019-09-06T11:30:00.000000"
        },
        {
         "Close": 62.97600173950195,
         "RSI": 40.17276686020396,
         "_deepnote_index_column": "2019-09-06T12:30:00.000000"
        },
        {
         "Close": 62.650001525878906,
         "RSI": 37.73448797662451,
         "_deepnote_index_column": "2019-09-06T13:30:00.000000"
        },
        {
         "Close": 62.30500030517578,
         "RSI": 35.29314170013784,
         "_deepnote_index_column": "2019-09-06T14:30:00.000000"
        },
        {
         "Close": 61.97999954223633,
         "RSI": 33.11933481595288,
         "_deepnote_index_column": "2019-09-06T15:30:00.000000"
        },
        {
         "Close": 61.70000076293945,
         "RSI": 31.32900251036142,
         "_deepnote_index_column": "2019-09-09T09:30:00.000000"
        },
        {
         "Close": 61.68000030517578,
         "RSI": 31.199265200164092,
         "_deepnote_index_column": "2019-09-09T10:30:00.000000"
        },
        {
         "Close": 60.95000076293945,
         "RSI": 26.831748000691746,
         "_deepnote_index_column": "2019-09-09T11:30:00.000000"
        },
        {
         "Close": 59.92499923706055,
         "RSI": 22.144278985487503,
         "_deepnote_index_column": "2019-09-09T12:30:00.000000"
        },
        {
         "Close": 59.752201080322266,
         "RSI": 21.4635256434661,
         "_deepnote_index_column": "2019-09-09T13:30:00.000000"
        },
        {
         "Close": 60.86000061035156,
         "RSI": 35.21396026007723,
         "_deepnote_index_column": "2019-09-09T14:30:00.000000"
        },
        {
         "Close": 61.45000076293945,
         "RSI": 41.126084787633815,
         "_deepnote_index_column": "2019-09-09T15:30:00.000000"
        },
        {
         "Close": 61.380001068115234,
         "RSI": 40.65208982897858,
         "_deepnote_index_column": "2019-09-10T09:30:00.000000"
        },
        {
         "Close": 61.207298278808594,
         "RSI": 39.44419980419026,
         "_deepnote_index_column": "2019-09-10T10:30:00.000000"
        },
        {
         "Close": 61.38999938964844,
         "RSI": 41.426953864843604,
         "_deepnote_index_column": "2019-09-10T11:30:00.000000"
        },
        {
         "Close": 61.15800094604492,
         "RSI": 39.65153170633635,
         "_deepnote_index_column": "2019-09-10T12:30:00.000000"
        },
        {
         "Close": 60.58000183105469,
         "RSI": 35.56235453208265,
         "_deepnote_index_column": "2019-09-10T13:30:00.000000"
        },
        {
         "Close": 60.4900016784668,
         "RSI": 34.95782007743476,
         "_deepnote_index_column": "2019-09-10T14:30:00.000000"
        },
        {
         "Close": 60.5,
         "RSI": 35.08983159487137,
         "_deepnote_index_column": "2019-09-10T15:30:00.000000"
        },
        {
         "Close": 60.45000076293945,
         "RSI": 34.710431263175636,
         "_deepnote_index_column": "2019-09-11T09:30:00.000000"
        },
        {
         "Close": 59.97999954223633,
         "RSI": 31.286012069255378,
         "_deepnote_index_column": "2019-09-11T10:30:00.000000"
        },
        {
         "Close": 60.22999954223633,
         "RSI": 34.96156516206143,
         "_deepnote_index_column": "2019-09-11T11:30:00.000000"
        },
        {
         "Close": 60.201499938964844,
         "RSI": 34.733473582269085,
         "_deepnote_index_column": "2019-09-11T12:30:00.000000"
        },
        {
         "Close": 59.69340133666992,
         "RSI": 30.867066220279142,
         "_deepnote_index_column": "2019-09-11T13:30:00.000000"
        },
        {
         "Close": 59.014198303222656,
         "RSI": 26.603826123092006,
         "_deepnote_index_column": "2019-09-11T14:30:00.000000"
        },
        {
         "Close": 59.18000030517578,
         "RSI": 29.175425140218564,
         "_deepnote_index_column": "2019-09-11T15:30:00.000000"
        },
        {
         "Close": 58.959598541259766,
         "RSI": 27.78193988799366,
         "_deepnote_index_column": "2019-09-12T09:30:00.000000"
        },
        {
         "Close": 58.560001373291016,
         "RSI": 25.41210622296323,
         "_deepnote_index_column": "2019-09-12T10:30:00.000000"
        },
        {
         "Close": 58.310001373291016,
         "RSI": 24.030992935645898,
         "_deepnote_index_column": "2019-09-12T11:30:00.000000"
        },
        {
         "Close": 58.2400016784668,
         "RSI": 23.643519803717467,
         "_deepnote_index_column": "2019-09-12T12:30:00.000000"
        },
        {
         "Close": 58,
         "RSI": 22.314995520248033,
         "_deepnote_index_column": "2019-09-12T13:30:00.000000"
        },
        {
         "Close": 58.095001220703125,
         "RSI": 24.132243515548822,
         "_deepnote_index_column": "2019-09-12T14:30:00.000000"
        },
        {
         "Close": 57.790000915527344,
         "RSI": 22.32651016547817,
         "_deepnote_index_column": "2019-09-12T15:30:00.000000"
        },
        {
         "Close": 58.22999954223633,
         "RSI": 30.41566472174182,
         "_deepnote_index_column": "2019-09-13T09:30:00.000000"
        },
        {
         "Close": 58.279998779296875,
         "RSI": 31.291330930679308,
         "_deepnote_index_column": "2019-09-13T10:30:00.000000"
        },
        {
         "Close": 58.7599983215332,
         "RSI": 39.20144094501431,
         "_deepnote_index_column": "2019-09-13T11:30:00.000000"
        },
        {
         "Close": 58.483699798583984,
         "RSI": 36.59013687760708,
         "_deepnote_index_column": "2019-09-13T12:30:00.000000"
        },
        {
         "Close": 58.1349983215332,
         "RSI": 33.552472100782325,
         "_deepnote_index_column": "2019-09-13T13:30:00.000000"
        },
        {
         "Close": 58.290000915527344,
         "RSI": 36.09226947083766,
         "_deepnote_index_column": "2019-09-13T14:30:00.000000"
        },
        {
         "Close": 58.31999969482422,
         "RSI": 36.59736883542182,
         "_deepnote_index_column": "2019-09-13T15:30:00.000000"
        },
        {
         "Close": 57.529998779296875,
         "RSI": 29.89623085528524,
         "_deepnote_index_column": "2019-09-16T09:30:00.000000"
        },
        {
         "Close": 58.02510070800781,
         "RSI": 37.60681941149551,
         "_deepnote_index_column": "2019-09-16T10:30:00.000000"
        },
        {
         "Close": 58.14889907836914,
         "RSI": 39.40160380356417,
         "_deepnote_index_column": "2019-09-16T11:30:00.000000"
        },
        {
         "Close": 59.494998931884766,
         "RSI": 54.67038106742983,
         "_deepnote_index_column": "2019-09-16T12:30:00.000000"
        },
        {
         "Close": 59.470001220703125,
         "RSI": 54.39627418755417,
         "_deepnote_index_column": "2019-09-16T13:30:00.000000"
        },
        {
         "Close": 59.31999969482422,
         "RSI": 52.68913467093467,
         "_deepnote_index_column": "2019-09-16T14:30:00.000000"
        },
        {
         "Close": 59.25,
         "RSI": 51.871028119650234,
         "_deepnote_index_column": "2019-09-16T15:30:00.000000"
        },
        {
         "Close": 59.65999984741211,
         "RSI": 56.16430531501044,
         "_deepnote_index_column": "2019-09-17T09:30:00.000000"
        },
        {
         "Close": 59.529998779296875,
         "RSI": 54.50410880387385,
         "_deepnote_index_column": "2019-09-17T10:30:00.000000"
        },
        {
         "Close": 59.63999938964844,
         "RSI": 55.697439441628845,
         "_deepnote_index_column": "2019-09-17T11:30:00.000000"
        },
        {
         "Close": 59.40999984741211,
         "RSI": 52.59131261275412,
         "_deepnote_index_column": "2019-09-17T12:30:00.000000"
        },
        {
         "Close": 59.349998474121094,
         "RSI": 51.78004289955512,
         "_deepnote_index_column": "2019-09-17T13:30:00.000000"
        },
        {
         "Close": 59.54999923706055,
         "RSI": 54.31007947961101,
         "_deepnote_index_column": "2019-09-17T14:30:00.000000"
        },
        {
         "Close": 59.540000915527344,
         "RSI": 54.15709918079666,
         "_deepnote_index_column": "2019-09-17T15:30:00.000000"
        },
        {
         "Close": 59.77000045776367,
         "RSI": 57.14741235638968,
         "_deepnote_index_column": "2019-09-18T09:30:00.000000"
        },
        {
         "Close": 59.41999816894531,
         "RSI": 51.628394495885075,
         "_deepnote_index_column": "2019-09-18T10:30:00.000000"
        },
        {
         "Close": 59.27000045776367,
         "RSI": 49.42539785796577,
         "_deepnote_index_column": "2019-09-18T11:30:00.000000"
        },
        {
         "Close": 59.165000915527344,
         "RSI": 47.88507127842775,
         "_deepnote_index_column": "2019-09-18T12:30:00.000000"
        },
        {
         "Close": 58.9900016784668,
         "RSI": 45.34843404198368,
         "_deepnote_index_column": "2019-09-18T13:30:00.000000"
        },
        {
         "Close": 59.540000915527344,
         "RSI": 53.65743660572476,
         "_deepnote_index_column": "2019-09-18T14:30:00.000000"
        },
        {
         "Close": 59.72999954223633,
         "RSI": 56.138310541790545,
         "_deepnote_index_column": "2019-09-18T15:30:00.000000"
        },
        {
         "Close": 59.75,
         "RSI": 56.40289022981858,
         "_deepnote_index_column": "2019-09-19T09:30:00.000000"
        },
        {
         "Close": 59.709999084472656,
         "RSI": 55.67948600495384,
         "_deepnote_index_column": "2019-09-19T10:30:00.000000"
        },
        {
         "Close": 58.77109909057617,
         "RSI": 42.04762283889513,
         "_deepnote_index_column": "2019-09-19T11:30:00.000000"
        },
        {
         "Close": 58.7599983215332,
         "RSI": 41.91695517014483,
         "_deepnote_index_column": "2019-09-19T12:30:00.000000"
        },
        {
         "Close": 58.86009979248047,
         "RSI": 43.61846957729375,
         "_deepnote_index_column": "2019-09-19T13:30:00.000000"
        },
        {
         "Close": 58.900001525878906,
         "RSI": 44.31868508535832,
         "_deepnote_index_column": "2019-09-19T14:30:00.000000"
        },
        {
         "Close": 59.029998779296875,
         "RSI": 46.64360727636816,
         "_deepnote_index_column": "2019-09-19T15:30:00.000000"
        },
        {
         "Close": 58.279998779296875,
         "RSI": 37.03565670482214,
         "_deepnote_index_column": "2019-09-20T09:30:00.000000"
        },
        {
         "Close": 57.685001373291016,
         "RSI": 31.49329111023046,
         "_deepnote_index_column": "2019-09-20T10:30:00.000000"
        },
        {
         "Close": 57.41999816894531,
         "RSI": 29.384134810865675,
         "_deepnote_index_column": "2019-09-20T11:30:00.000000"
        },
        {
         "Close": 57.34000015258789,
         "RSI": 28.75800801053704,
         "_deepnote_index_column": "2019-09-20T12:30:00.000000"
        },
        {
         "Close": 57.45000076293945,
         "RSI": 30.937193353802755,
         "_deepnote_index_column": "2019-09-20T13:30:00.000000"
        },
        {
         "Close": 57.88010025024414,
         "RSI": 38.817511730381696,
         "_deepnote_index_column": "2019-09-20T14:30:00.000000"
        },
        {
         "Close": 57.83000183105469,
         "RSI": 38.269745946893046,
         "_deepnote_index_column": "2019-09-20T15:30:00.000000"
        },
        {
         "Close": 56.650001525878906,
         "RSI": 28.182211035507578,
         "_deepnote_index_column": "2019-09-23T09:30:00.000000"
        },
        {
         "Close": 56.790000915527344,
         "RSI": 30.522150099026476,
         "_deepnote_index_column": "2019-09-23T10:30:00.000000"
        },
        {
         "Close": 57,
         "RSI": 33.99605825253943,
         "_deepnote_index_column": "2019-09-23T11:30:00.000000"
        },
        {
         "Close": 56.689998626708984,
         "RSI": 31.492754719211646,
         "_deepnote_index_column": "2019-09-23T12:30:00.000000"
        },
        {
         "Close": 56.6599006652832,
         "RSI": 31.25213963460942,
         "_deepnote_index_column": "2019-09-23T13:30:00.000000"
        },
        {
         "Close": 56.7598991394043,
         "RSI": 33.081500439459674,
         "_deepnote_index_column": "2019-09-23T14:30:00.000000"
        },
        {
         "Close": 56.75,
         "RSI": 32.987920260755985,
         "_deepnote_index_column": "2019-09-23T15:30:00.000000"
        },
        {
         "Close": 56.790000915527344,
         "RSI": 33.802803606727224,
         "_deepnote_index_column": "2019-09-24T09:30:00.000000"
        },
        {
         "Close": 57.70000076293945,
         "RSI": 48.99744216880438,
         "_deepnote_index_column": "2019-09-24T10:30:00.000000"
        },
        {
         "Close": 56.25,
         "RSI": 35.151872336709914,
         "_deepnote_index_column": "2019-09-24T11:30:00.000000"
        },
        {
         "Close": 56.20000076293945,
         "RSI": 34.78683925415463,
         "_deepnote_index_column": "2019-09-24T12:30:00.000000"
        },
        {
         "Close": 57.09000015258789,
         "RSI": 45.61332039064736,
         "_deepnote_index_column": "2019-09-24T13:30:00.000000"
        },
        {
         "Close": 56.86000061035156,
         "RSI": 43.59890246955579,
         "_deepnote_index_column": "2019-09-24T14:30:00.000000"
        },
        {
         "Close": 57.529998779296875,
         "RSI": 50.46210430259836,
         "_deepnote_index_column": "2019-09-24T15:30:00.000000"
        },
        {
         "Close": 57.25,
         "RSI": 47.842016200670116,
         "_deepnote_index_column": "2019-09-25T09:30:00.000000"
        },
        {
         "Close": 57.900001525878906,
         "RSI": 53.83455049563226,
         "_deepnote_index_column": "2019-09-25T10:30:00.000000"
        },
        {
         "Close": 57.95000076293945,
         "RSI": 54.269788318720536,
         "_deepnote_index_column": "2019-09-25T11:30:00.000000"
        },
        {
         "Close": 57.9900016784668,
         "RSI": 54.63824854365595,
         "_deepnote_index_column": "2019-09-25T12:30:00.000000"
        },
        {
         "Close": 58.35639953613281,
         "RSI": 57.978125733979965,
         "_deepnote_index_column": "2019-09-25T13:30:00.000000"
        },
        {
         "Close": 58.80500030517578,
         "RSI": 61.69663902323026,
         "_deepnote_index_column": "2019-09-25T14:30:00.000000"
        },
        {
         "Close": 58.540000915527344,
         "RSI": 58.40857637776815,
         "_deepnote_index_column": "2019-09-25T15:30:00.000000"
        },
        {
         "Close": 60.994998931884766,
         "RSI": 72.84629617973096,
         "_deepnote_index_column": "2019-09-26T09:30:00.000000"
        },
        {
         "Close": 60.23500061035156,
         "RSI": 65.29033230233631,
         "_deepnote_index_column": "2019-09-26T10:30:00.000000"
        },
        {
         "Close": 60.43220138549805,
         "RSI": 66.26803039083875,
         "_deepnote_index_column": "2019-09-26T11:30:00.000000"
        },
        {
         "Close": 60.18000030517578,
         "RSI": 63.79316562759563,
         "_deepnote_index_column": "2019-09-26T12:30:00.000000"
        },
        {
         "Close": 60.79499816894531,
         "RSI": 67.02699625221422,
         "_deepnote_index_column": "2019-09-26T13:30:00.000000"
        },
        {
         "Close": 60.685001373291016,
         "RSI": 65.89339656209,
         "_deepnote_index_column": "2019-09-26T14:30:00.000000"
        },
        {
         "Close": 60.79999923706055,
         "RSI": 66.53070684253058,
         "_deepnote_index_column": "2019-09-26T15:30:00.000000"
        },
        {
         "Close": 60.9922981262207,
         "RSI": 67.62028201920637,
         "_deepnote_index_column": "2019-09-27T09:30:00.000000"
        },
        {
         "Close": 61.529998779296875,
         "RSI": 70.51108155328224,
         "_deepnote_index_column": "2019-09-27T10:30:00.000000"
        },
        {
         "Close": 61.029998779296875,
         "RSI": 64.7244307265963,
         "_deepnote_index_column": "2019-09-27T11:30:00.000000"
        },
        {
         "Close": 60.529998779296875,
         "RSI": 59.4685896657753,
         "_deepnote_index_column": "2019-09-27T12:30:00.000000"
        },
        {
         "Close": 60.68000030517578,
         "RSI": 60.50475521800047,
         "_deepnote_index_column": "2019-09-27T13:30:00.000000"
        },
        {
         "Close": 60.494998931884766,
         "RSI": 58.51779422977453,
         "_deepnote_index_column": "2019-09-27T14:30:00.000000"
        },
        {
         "Close": 60.7599983215332,
         "RSI": 60.51790753154265,
         "_deepnote_index_column": "2019-09-27T15:30:00.000000"
        },
        {
         "Close": 61.72999954223633,
         "RSI": 66.82361609953838,
         "_deepnote_index_column": "2019-09-30T09:30:00.000000"
        },
        {
         "Close": 62.22999954223633,
         "RSI": 69.52542025820502,
         "_deepnote_index_column": "2019-09-30T10:30:00.000000"
        },
        {
         "Close": 62.02000045776367,
         "RSI": 67.05545408135266,
         "_deepnote_index_column": "2019-09-30T11:30:00.000000"
        },
        {
         "Close": 61.9900016784668,
         "RSI": 66.69096439331368,
         "_deepnote_index_column": "2019-09-30T12:30:00.000000"
        },
        {
         "Close": 62.244998931884766,
         "RSI": 68.26981260095067,
         "_deepnote_index_column": "2019-09-30T13:30:00.000000"
        },
        {
         "Close": 61.970001220703125,
         "RSI": 64.70766191315519,
         "_deepnote_index_column": "2019-09-30T14:30:00.000000"
        },
        {
         "Close": 62,
         "RSI": 64.92267713362088,
         "_deepnote_index_column": "2019-09-30T15:30:00.000000"
        },
        {
         "Close": 62.59640121459961,
         "RSI": 68.97018398937058,
         "_deepnote_index_column": "2019-10-01T09:30:00.000000"
        },
        {
         "Close": 62.65999984741211,
         "RSI": 69.37598878199495,
         "_deepnote_index_column": "2019-10-01T10:30:00.000000"
        },
        {
         "Close": 61.779998779296875,
         "RSI": 58.06125166151484,
         "_deepnote_index_column": "2019-10-01T11:30:00.000000"
        },
        {
         "Close": 61.45000076293945,
         "RSI": 54.47341472902586,
         "_deepnote_index_column": "2019-10-01T12:30:00.000000"
        },
        {
         "Close": 61.47999954223633,
         "RSI": 54.74717406837457,
         "_deepnote_index_column": "2019-10-01T13:30:00.000000"
        },
        {
         "Close": 61.54999923706055,
         "RSI": 55.42079172960911,
         "_deepnote_index_column": "2019-10-01T14:30:00.000000"
        },
        {
         "Close": 61.630001068115234,
         "RSI": 56.22284598671458,
         "_deepnote_index_column": "2019-10-01T15:30:00.000000"
        },
        {
         "Close": 60.459999084472656,
         "RSI": 43.80900582505344,
         "_deepnote_index_column": "2019-10-02T09:30:00.000000"
        },
        {
         "Close": 59.47999954223633,
         "RSI": 36.53286615006611,
         "_deepnote_index_column": "2019-10-02T10:30:00.000000"
        },
        {
         "Close": 59.47999954223633,
         "RSI": 36.53286615006612,
         "_deepnote_index_column": "2019-10-02T11:30:00.000000"
        },
        {
         "Close": 59.439998626708984,
         "RSI": 36.24787354636407,
         "_deepnote_index_column": "2019-10-02T12:30:00.000000"
        },
        {
         "Close": 59.237998962402344,
         "RSI": 34.77266565204009,
         "_deepnote_index_column": "2019-10-02T13:30:00.000000"
        },
        {
         "Close": 59.880001068115234,
         "RSI": 42.74772511080988,
         "_deepnote_index_column": "2019-10-02T14:30:00.000000"
        },
        {
         "Close": 60.060001373291016,
         "RSI": 44.786055347948206,
         "_deepnote_index_column": "2019-10-02T15:30:00.000000"
        },
        {
         "Close": 59.91999816894531,
         "RSI": 43.489138820874224,
         "_deepnote_index_column": "2019-10-03T09:30:00.000000"
        },
        {
         "Close": 60.79999923706055,
         "RSI": 52.750883619387785,
         "_deepnote_index_column": "2019-10-03T10:30:00.000000"
        },
        {
         "Close": 60.599998474121094,
         "RSI": 50.71645295662377,
         "_deepnote_index_column": "2019-10-03T11:30:00.000000"
        },
        {
         "Close": 60.615699768066406,
         "RSI": 50.876626143384954,
         "_deepnote_index_column": "2019-10-03T12:30:00.000000"
        },
        {
         "Close": 62.119998931884766,
         "RSI": 63.21253547154069,
         "_deepnote_index_column": "2019-10-03T13:30:00.000000"
        },
        {
         "Close": 62.11000061035156,
         "RSI": 63.09911698924012,
         "_deepnote_index_column": "2019-10-03T14:30:00.000000"
        },
        {
         "Close": 62.060001373291016,
         "RSI": 62.495239941980266,
         "_deepnote_index_column": "2019-10-03T15:30:00.000000"
        },
        {
         "Close": 62.040000915527344,
         "RSI": 62.238645870543,
         "_deepnote_index_column": "2019-10-04T09:30:00.000000"
        },
        {
         "Close": 62.169700622558594,
         "RSI": 63.291221602921865,
         "_deepnote_index_column": "2019-10-04T10:30:00.000000"
        },
        {
         "Close": 62.11330032348633,
         "RSI": 62.47568415277267,
         "_deepnote_index_column": "2019-10-04T11:30:00.000000"
        },
        {
         "Close": 62.3650016784668,
         "RSI": 64.66398406452254,
         "_deepnote_index_column": "2019-10-04T12:30:00.000000"
        },
        {
         "Close": 62.38999938964844,
         "RSI": 64.88301760630152,
         "_deepnote_index_column": "2019-10-04T13:30:00.000000"
        },
        {
         "Close": 62.47159957885742,
         "RSI": 65.63191780387936,
         "_deepnote_index_column": "2019-10-04T14:30:00.000000"
        },
        {
         "Close": 62.65999984741211,
         "RSI": 67.36252438449054,
         "_deepnote_index_column": "2019-10-04T15:30:00.000000"
        },
        {
         "Close": 62.5099983215332,
         "RSI": 64.57446074085776,
         "_deepnote_index_column": "2019-10-07T09:30:00.000000"
        },
        {
         "Close": 62.51499938964844,
         "RSI": 64.62702707209509,
         "_deepnote_index_column": "2019-10-07T10:30:00.000000"
        },
        {
         "Close": 62.349998474121094,
         "RSI": 61.39034856275142,
         "_deepnote_index_column": "2019-10-07T11:30:00.000000"
        },
        {
         "Close": 62.2599983215332,
         "RSI": 59.635923157447706,
         "_deepnote_index_column": "2019-10-07T12:30:00.000000"
        },
        {
         "Close": 62.470001220703125,
         "RSI": 62.34036497808271,
         "_deepnote_index_column": "2019-10-07T13:30:00.000000"
        },
        {
         "Close": 62.47999954223633,
         "RSI": 62.46929552569857,
         "_deepnote_index_column": "2019-10-07T14:30:00.000000"
        },
        {
         "Close": 62.25,
         "RSI": 57.58529323203279,
         "_deepnote_index_column": "2019-10-07T15:30:00.000000"
        },
        {
         "Close": 61.310001373291016,
         "RSI": 42.842772443708434,
         "_deepnote_index_column": "2019-10-08T09:30:00.000000"
        },
        {
         "Close": 61.209999084472656,
         "RSI": 41.62195685762909,
         "_deepnote_index_column": "2019-10-08T10:30:00.000000"
        },
        {
         "Close": 61.52000045776367,
         "RSI": 46.69297649873139,
         "_deepnote_index_column": "2019-10-08T11:30:00.000000"
        },
        {
         "Close": 61.540000915527344,
         "RSI": 47.012776107014496,
         "_deepnote_index_column": "2019-10-08T12:30:00.000000"
        },
        {
         "Close": 61.41999816894531,
         "RSI": 45.25837697740109,
         "_deepnote_index_column": "2019-10-08T13:30:00.000000"
        },
        {
         "Close": 61.27000045776367,
         "RSI": 43.093646268807525,
         "_deepnote_index_column": "2019-10-08T14:30:00.000000"
        },
        {
         "Close": 60.810001373291016,
         "RSI": 37.214969422518884,
         "_deepnote_index_column": "2019-10-08T15:30:00.000000"
        },
        {
         "Close": 61.650001525878906,
         "RSI": 50.49556457880552,
         "_deepnote_index_column": "2019-10-09T09:30:00.000000"
        },
        {
         "Close": 61.46609878540039,
         "RSI": 48.09688679035744,
         "_deepnote_index_column": "2019-10-09T10:30:00.000000"
        },
        {
         "Close": 61.77000045776367,
         "RSI": 52.14261941813737,
         "_deepnote_index_column": "2019-10-09T11:30:00.000000"
        },
        {
         "Close": 61.970001220703125,
         "RSI": 54.64805331589902,
         "_deepnote_index_column": "2019-10-09T12:30:00.000000"
        },
        {
         "Close": 62.1693000793457,
         "RSI": 57.06045333006788,
         "_deepnote_index_column": "2019-10-09T13:30:00.000000"
        },
        {
         "Close": 62.380001068115234,
         "RSI": 59.512457749509856,
         "_deepnote_index_column": "2019-10-09T14:30:00.000000"
        },
        {
         "Close": 62.233299255371094,
         "RSI": 57.06893087366268,
         "_deepnote_index_column": "2019-10-09T15:30:00.000000"
        },
        {
         "Close": 62.209999084472656,
         "RSI": 56.67093558965844,
         "_deepnote_index_column": "2019-10-10T09:30:00.000000"
        },
        {
         "Close": 62.099998474121094,
         "RSI": 54.73037466371907,
         "_deepnote_index_column": "2019-10-10T10:30:00.000000"
        },
        {
         "Close": 61.86000061035156,
         "RSI": 50.654838080308295,
         "_deepnote_index_column": "2019-10-10T11:30:00.000000"
        },
        {
         "Close": 61.709999084472656,
         "RSI": 48.23709311712145,
         "_deepnote_index_column": "2019-10-10T12:30:00.000000"
        },
        {
         "Close": 61.79999923706055,
         "RSI": 49.78572779664056,
         "_deepnote_index_column": "2019-10-10T13:30:00.000000"
        },
        {
         "Close": 61.9900016784668,
         "RSI": 52.983732449462074,
         "_deepnote_index_column": "2019-10-10T14:30:00.000000"
        },
        {
         "Close": 62.0099983215332,
         "RSI": 53.320677483227776,
         "_deepnote_index_column": "2019-10-10T15:30:00.000000"
        },
        {
         "Close": 62.8119010925293,
         "RSI": 64.35331524166202,
         "_deepnote_index_column": "2019-10-11T09:30:00.000000"
        },
        {
         "Close": 62.6776008605957,
         "RSI": 61.72222281478012,
         "_deepnote_index_column": "2019-10-11T10:30:00.000000"
        },
        {
         "Close": 62.65800094604492,
         "RSI": 61.328140383188156,
         "_deepnote_index_column": "2019-10-11T11:30:00.000000"
        },
        {
         "Close": 62.181400299072266,
         "RSI": 52.54305530110491,
         "_deepnote_index_column": "2019-10-11T12:30:00.000000"
        },
        {
         "Close": 62.14500045776367,
         "RSI": 51.931206470599165,
         "_deepnote_index_column": "2019-10-11T13:30:00.000000"
        },
        {
         "Close": 62.34000015258789,
         "RSI": 54.95723474115252,
         "_deepnote_index_column": "2019-10-11T14:30:00.000000"
        },
        {
         "Close": 61.529998779296875,
         "RSI": 42.88144207285291,
         "_deepnote_index_column": "2019-10-11T15:30:00.000000"
        },
        {
         "Close": 61.880001068115234,
         "RSI": 48.1800034322112,
         "_deepnote_index_column": "2019-10-14T09:30:00.000000"
        },
        {
         "Close": 62.08000183105469,
         "RSI": 50.97842686655447,
         "_deepnote_index_column": "2019-10-14T10:30:00.000000"
        },
        {
         "Close": 62.16400146484375,
         "RSI": 52.147262019350194,
         "_deepnote_index_column": "2019-10-14T11:30:00.000000"
        },
        {
         "Close": 62.17179870605469,
         "RSI": 52.261047583071694,
         "_deepnote_index_column": "2019-10-14T12:30:00.000000"
        },
        {
         "Close": 62.025001525878906,
         "RSI": 49.85739664767689,
         "_deepnote_index_column": "2019-10-14T13:30:00.000000"
        },
        {
         "Close": 62.13100051879883,
         "RSI": 51.588836914832456,
         "_deepnote_index_column": "2019-10-14T14:30:00.000000"
        },
        {
         "Close": 61.83000183105469,
         "RSI": 46.66155522573744,
         "_deepnote_index_column": "2019-10-14T15:30:00.000000"
        },
        {
         "Close": 63.720001220703125,
         "RSI": 67.5922100311535,
         "_deepnote_index_column": "2019-10-15T09:30:00.000000"
        },
        {
         "Close": 63.70000076293945,
         "RSI": 67.29128090969158,
         "_deepnote_index_column": "2019-10-15T10:30:00.000000"
        },
        {
         "Close": 63.900001525878906,
         "RSI": 68.78775426319642,
         "_deepnote_index_column": "2019-10-15T11:30:00.000000"
        },
        {
         "Close": 64.13999938964844,
         "RSI": 70.53013857409974,
         "_deepnote_index_column": "2019-10-15T12:30:00.000000"
        },
        {
         "Close": 64.25,
         "RSI": 71.32038874224298,
         "_deepnote_index_column": "2019-10-15T13:30:00.000000"
        },
        {
         "Close": 64.05999755859375,
         "RSI": 67.9318777973142,
         "_deepnote_index_column": "2019-10-15T14:30:00.000000"
        },
        {
         "Close": 64.29000091552734,
         "RSI": 69.80225573310209,
         "_deepnote_index_column": "2019-10-15T15:30:00.000000"
        },
        {
         "Close": 63.04999923706055,
         "RSI": 52.144450638000166,
         "_deepnote_index_column": "2019-10-16T09:30:00.000000"
        },
        {
         "Close": 62.93830108642578,
         "RSI": 50.89547258904155,
         "_deepnote_index_column": "2019-10-16T10:30:00.000000"
        },
        {
         "Close": 62.97999954223633,
         "RSI": 51.36381649193712,
         "_deepnote_index_column": "2019-10-16T11:30:00.000000"
        },
        {
         "Close": 62.869998931884766,
         "RSI": 50.008784831333976,
         "_deepnote_index_column": "2019-10-16T12:30:00.000000"
        },
        {
         "Close": 62.875,
         "RSI": 50.07327263927372,
         "_deepnote_index_column": "2019-10-16T13:30:00.000000"
        },
        {
         "Close": 62.755001068115234,
         "RSI": 48.45798969129335,
         "_deepnote_index_column": "2019-10-16T14:30:00.000000"
        },
        {
         "Close": 63.0099983215332,
         "RSI": 52.00134349701197,
         "_deepnote_index_column": "2019-10-16T15:30:00.000000"
        },
        {
         "Close": 64.19999694824219,
         "RSI": 64.32654397410144,
         "_deepnote_index_column": "2019-10-17T09:30:00.000000"
        },
        {
         "Close": 63.560001373291016,
         "RSI": 55.99827481662934,
         "_deepnote_index_column": "2019-10-17T10:30:00.000000"
        },
        {
         "Close": 63.43000030517578,
         "RSI": 54.45598916778413,
         "_deepnote_index_column": "2019-10-17T11:30:00.000000"
        },
        {
         "Close": 63.42100143432617,
         "RSI": 54.344413150565934,
         "_deepnote_index_column": "2019-10-17T12:30:00.000000"
        },
        {
         "Close": 63.59000015258789,
         "RSI": 56.16103916857111,
         "_deepnote_index_column": "2019-10-17T13:30:00.000000"
        },
        {
         "Close": 63.41510009765625,
         "RSI": 53.77623242516199,
         "_deepnote_index_column": "2019-10-17T14:30:00.000000"
        },
        {
         "Close": 63.380001068115234,
         "RSI": 53.28720764653202,
         "_deepnote_index_column": "2019-10-17T15:30:00.000000"
        },
        {
         "Close": 61.90999984741211,
         "RSI": 37.78819808382721,
         "_deepnote_index_column": "2019-10-18T09:30:00.000000"
        },
        {
         "Close": 61.993900299072266,
         "RSI": 38.88086914146181,
         "_deepnote_index_column": "2019-10-18T10:30:00.000000"
        },
        {
         "Close": 60.02730178833008,
         "RSI": 26.937820435979404,
         "_deepnote_index_column": "2019-10-18T11:30:00.000000"
        },
        {
         "Close": 60.54999923706055,
         "RSI": 32.84245979812039,
         "_deepnote_index_column": "2019-10-18T12:30:00.000000"
        },
        {
         "Close": 60.56999969482422,
         "RSI": 33.06536790986469,
         "_deepnote_index_column": "2019-10-18T13:30:00.000000"
        },
        {
         "Close": 60.6245002746582,
         "RSI": 33.71104906124975,
         "_deepnote_index_column": "2019-10-18T14:30:00.000000"
        },
        {
         "Close": 60.459999084472656,
         "RSI": 32.68614426297489,
         "_deepnote_index_column": "2019-10-18T15:30:00.000000"
        },
        {
         "Close": 60.284400939941406,
         "RSI": 31.582342313716268,
         "_deepnote_index_column": "2019-10-21T09:30:00.000000"
        },
        {
         "Close": 60.95000076293945,
         "RSI": 39.87108720771258,
         "_deepnote_index_column": "2019-10-21T10:30:00.000000"
        },
        {
         "Close": 61.099998474121094,
         "RSI": 41.5885013634205,
         "_deepnote_index_column": "2019-10-21T11:30:00.000000"
        },
        {
         "Close": 61.35499954223633,
         "RSI": 44.49115952474975,
         "_deepnote_index_column": "2019-10-21T12:30:00.000000"
        },
        {
         "Close": 61.290000915527344,
         "RSI": 43.89242543089901,
         "_deepnote_index_column": "2019-10-21T13:30:00.000000"
        },
        {
         "Close": 61.354801177978516,
         "RSI": 44.69154008957828,
         "_deepnote_index_column": "2019-10-21T14:30:00.000000"
        },
        {
         "Close": 61.150001525878906,
         "RSI": 42.6252482688142,
         "_deepnote_index_column": "2019-10-21T15:30:00.000000"
        },
        {
         "Close": 60.209999084472656,
         "RSI": 34.69602706009499,
         "_deepnote_index_column": "2019-10-22T09:30:00.000000"
        },
        {
         "Close": 59.779998779296875,
         "RSI": 31.783378180686967,
         "_deepnote_index_column": "2019-10-22T10:30:00.000000"
        },
        {
         "Close": 59.83000183105469,
         "RSI": 32.49306898921091,
         "_deepnote_index_column": "2019-10-22T11:30:00.000000"
        },
        {
         "Close": 59.88999938964844,
         "RSI": 33.38853622533925,
         "_deepnote_index_column": "2019-10-22T12:30:00.000000"
        },
        {
         "Close": 59.029998779296875,
         "RSI": 27.71378265637243,
         "_deepnote_index_column": "2019-10-22T13:30:00.000000"
        }
       ],
       "rows_bottom": [
        {
         "Close": 234.3300018310547,
         "RSI": 54.094553472724506,
         "_deepnote_index_column": "2021-06-21T11:30:00.000000"
        },
        {
         "Close": 234.5500030517578,
         "RSI": 54.51922098570067,
         "_deepnote_index_column": "2021-06-21T12:30:00.000000"
        },
        {
         "Close": 234.24220275878906,
         "RSI": 53.769755724021856,
         "_deepnote_index_column": "2021-06-21T13:30:00.000000"
        },
        {
         "Close": 233.6750030517578,
         "RSI": 52.34184023047846,
         "_deepnote_index_column": "2021-06-21T14:30:00.000000"
        },
        {
         "Close": 233.91000366210938,
         "RSI": 52.89992950385516,
         "_deepnote_index_column": "2021-06-21T15:30:00.000000"
        },
        {
         "Close": 232.5800018310547,
         "RSI": 49.375825567169045,
         "_deepnote_index_column": "2021-06-22T09:30:00.000000"
        },
        {
         "Close": 233.88890075683594,
         "RSI": 52.71440008637732,
         "_deepnote_index_column": "2021-06-22T10:30:00.000000"
        },
        {
         "Close": 234.27999877929688,
         "RSI": 53.696999382143396,
         "_deepnote_index_column": "2021-06-22T11:30:00.000000"
        },
        {
         "Close": 233.44000244140625,
         "RSI": 51.23444387871567,
         "_deepnote_index_column": "2021-06-22T12:30:00.000000"
        },
        {
         "Close": 233.91000366210938,
         "RSI": 52.54578911394164,
         "_deepnote_index_column": "2021-06-22T13:30:00.000000"
        },
        {
         "Close": 236,
         "RSI": 57.959587216288874,
         "_deepnote_index_column": "2021-06-22T14:30:00.000000"
        },
        {
         "Close": 235.97999572753906,
         "RSI": 57.89150963871415,
         "_deepnote_index_column": "2021-06-22T15:30:00.000000"
        },
        {
         "Close": 241.49000549316406,
         "RSI": 68.77179196307016,
         "_deepnote_index_column": "2021-06-23T09:30:00.000000"
        },
        {
         "Close": 239.52499389648438,
         "RSI": 62.56328113686685,
         "_deepnote_index_column": "2021-06-23T10:30:00.000000"
        },
        {
         "Close": 240.22000122070312,
         "RSI": 63.80779874946277,
         "_deepnote_index_column": "2021-06-23T11:30:00.000000"
        },
        {
         "Close": 240.23800659179688,
         "RSI": 63.84133488659858,
         "_deepnote_index_column": "2021-06-23T12:30:00.000000"
        },
        {
         "Close": 238.61019897460938,
         "RSI": 58.558426044941754,
         "_deepnote_index_column": "2021-06-23T13:30:00.000000"
        },
        {
         "Close": 239.27000427246094,
         "RSI": 60.0031804315352,
         "_deepnote_index_column": "2021-06-23T14:30:00.000000"
        },
        {
         "Close": 238.69000244140625,
         "RSI": 58.08615164617548,
         "_deepnote_index_column": "2021-06-23T15:30:00.000000"
        },
        {
         "Close": 245.1999969482422,
         "RSI": 69.76306525553747,
         "_deepnote_index_column": "2021-06-24T09:30:00.000000"
        },
        {
         "Close": 246.50999450683594,
         "RSI": 71.48463272067394,
         "_deepnote_index_column": "2021-06-24T10:30:00.000000"
        },
        {
         "Close": 248.32000732421875,
         "RSI": 73.71175340434378,
         "_deepnote_index_column": "2021-06-24T11:30:00.000000"
        },
        {
         "Close": 245.02999877929688,
         "RSI": 63.93677967558254,
         "_deepnote_index_column": "2021-06-24T12:30:00.000000"
        },
        {
         "Close": 244.94900512695312,
         "RSI": 63.712781714746036,
         "_deepnote_index_column": "2021-06-24T13:30:00.000000"
        },
        {
         "Close": 243.64999389648438,
         "RSI": 60.07739192678862,
         "_deepnote_index_column": "2021-06-24T14:30:00.000000"
        },
        {
         "Close": 244.27999877929688,
         "RSI": 61.232720293820634,
         "_deepnote_index_column": "2021-06-24T15:30:00.000000"
        },
        {
         "Close": 240.6300048828125,
         "RSI": 51.867559258525816,
         "_deepnote_index_column": "2021-06-25T09:30:00.000000"
        },
        {
         "Close": 240.1074981689453,
         "RSI": 50.67277147242246,
         "_deepnote_index_column": "2021-06-25T10:30:00.000000"
        },
        {
         "Close": 237.66000366210938,
         "RSI": 45.39753678389331,
         "_deepnote_index_column": "2021-06-25T11:30:00.000000"
        },
        {
         "Close": 238.67430114746094,
         "RSI": 47.821825365456355,
         "_deepnote_index_column": "2021-06-25T12:30:00.000000"
        },
        {
         "Close": 237.61000061035156,
         "RSI": 45.53716480635024,
         "_deepnote_index_column": "2021-06-25T13:30:00.000000"
        },
        {
         "Close": 238.72999572753906,
         "RSI": 48.3344278627123,
         "_deepnote_index_column": "2021-06-25T14:30:00.000000"
        },
        {
         "Close": 240.24000549316406,
         "RSI": 51.919902951615995,
         "_deepnote_index_column": "2021-06-25T15:30:00.000000"
        },
        {
         "Close": 243.7303924560547,
         "RSI": 59.002344422381796,
         "_deepnote_index_column": "2021-06-28T09:30:00.000000"
        },
        {
         "Close": 244.6999969482422,
         "RSI": 60.73277276087878,
         "_deepnote_index_column": "2021-06-28T10:30:00.000000"
        },
        {
         "Close": 246.49000549316406,
         "RSI": 63.77278100390571,
         "_deepnote_index_column": "2021-06-28T11:30:00.000000"
        },
        {
         "Close": 245.44000244140625,
         "RSI": 60.79931255340353,
         "_deepnote_index_column": "2021-06-28T12:30:00.000000"
        },
        {
         "Close": 246.9199981689453,
         "RSI": 63.39037479302001,
         "_deepnote_index_column": "2021-06-28T13:30:00.000000"
        },
        {
         "Close": 246.84500122070312,
         "RSI": 63.16254443525625,
         "_deepnote_index_column": "2021-06-28T14:30:00.000000"
        },
        {
         "Close": 246.60000610351562,
         "RSI": 62.37388484744068,
         "_deepnote_index_column": "2021-06-28T15:30:00.000000"
        },
        {
         "Close": 248.5399932861328,
         "RSI": 65.99467243966771,
         "_deepnote_index_column": "2021-06-29T09:30:00.000000"
        },
        {
         "Close": 247.0449981689453,
         "RSI": 61.11399673809128,
         "_deepnote_index_column": "2021-06-29T10:30:00.000000"
        },
        {
         "Close": 248.69500732421875,
         "RSI": 64.25599239964049,
         "_deepnote_index_column": "2021-06-29T11:30:00.000000"
        },
        {
         "Close": 249.4600067138672,
         "RSI": 65.64210416397255,
         "_deepnote_index_column": "2021-06-29T12:30:00.000000"
        },
        {
         "Close": 248.9398956298828,
         "RSI": 63.82977116991352,
         "_deepnote_index_column": "2021-06-29T13:30:00.000000"
        },
        {
         "Close": 248.28570556640625,
         "RSI": 61.52872191703768,
         "_deepnote_index_column": "2021-06-29T14:30:00.000000"
        },
        {
         "Close": 248.8800048828125,
         "RSI": 62.83932793470083,
         "_deepnote_index_column": "2021-06-29T15:30:00.000000"
        },
        {
         "Close": 245.94000244140625,
         "RSI": 53.18632064197678,
         "_deepnote_index_column": "2021-06-30T09:30:00.000000"
        },
        {
         "Close": 245.27000427246094,
         "RSI": 51.25404166678471,
         "_deepnote_index_column": "2021-06-30T10:30:00.000000"
        },
        {
         "Close": 243.99000549316406,
         "RSI": 47.68942685780358,
         "_deepnote_index_column": "2021-06-30T11:30:00.000000"
        },
        {
         "Close": 244.33999633789062,
         "RSI": 48.739214741707094,
         "_deepnote_index_column": "2021-06-30T12:30:00.000000"
        },
        {
         "Close": 244.0800018310547,
         "RSI": 47.969081879353354,
         "_deepnote_index_column": "2021-06-30T13:30:00.000000"
        },
        {
         "Close": 244.07000732421875,
         "RSI": 47.93772401919473,
         "_deepnote_index_column": "2021-06-30T14:30:00.000000"
        },
        {
         "Close": 243.72999572753906,
         "RSI": 46.8164783001476,
         "_deepnote_index_column": "2021-06-30T15:30:00.000000"
        },
        {
         "Close": 242.2899932861328,
         "RSI": 42.30358803484677,
         "_deepnote_index_column": "2021-07-01T09:30:00.000000"
        },
        {
         "Close": 238.9718017578125,
         "RSI": 34.137551699703124,
         "_deepnote_index_column": "2021-07-01T10:30:00.000000"
        },
        {
         "Close": 241.07000732421875,
         "RSI": 41.78941706919931,
         "_deepnote_index_column": "2021-07-01T11:30:00.000000"
        },
        {
         "Close": 241.2550048828125,
         "RSI": 42.42455695081089,
         "_deepnote_index_column": "2021-07-01T12:30:00.000000"
        },
        {
         "Close": 241.63499450683594,
         "RSI": 43.78142523394427,
         "_deepnote_index_column": "2021-07-01T13:30:00.000000"
        },
        {
         "Close": 241.8199005126953,
         "RSI": 44.467250595381614,
         "_deepnote_index_column": "2021-07-01T14:30:00.000000"
        },
        {
         "Close": 241.9600067138672,
         "RSI": 45.01460932446971,
         "_deepnote_index_column": "2021-07-01T15:30:00.000000"
        },
        {
         "Close": 241.02000427246094,
         "RSI": 42.021962217929605,
         "_deepnote_index_column": "2021-07-02T09:30:00.000000"
        },
        {
         "Close": 239.92999267578125,
         "RSI": 38.80068407926426,
         "_deepnote_index_column": "2021-07-02T10:30:00.000000"
        },
        {
         "Close": 239.72500610351562,
         "RSI": 38.20751343472946,
         "_deepnote_index_column": "2021-07-02T11:30:00.000000"
        },
        {
         "Close": 240.24000549316406,
         "RSI": 40.661883301194806,
         "_deepnote_index_column": "2021-07-02T12:30:00.000000"
        },
        {
         "Close": 240.91220092773438,
         "RSI": 43.79962424797169,
         "_deepnote_index_column": "2021-07-02T13:30:00.000000"
        },
        {
         "Close": 240.97999572753906,
         "RSI": 44.12056204233341,
         "_deepnote_index_column": "2021-07-02T14:30:00.000000"
        },
        {
         "Close": 241.10000610351562,
         "RSI": 44.722342900052105,
         "_deepnote_index_column": "2021-07-02T15:30:00.000000"
        },
        {
         "Close": 248.19000244140625,
         "RSI": 67.19757510555783,
         "_deepnote_index_column": "2021-07-06T09:30:00.000000"
        },
        {
         "Close": 245.9600067138672,
         "RSI": 59.06336395226177,
         "_deepnote_index_column": "2021-07-06T10:30:00.000000"
        },
        {
         "Close": 244.14500427246094,
         "RSI": 53.3978008881523,
         "_deepnote_index_column": "2021-07-06T11:30:00.000000"
        },
        {
         "Close": 245.0800018310547,
         "RSI": 55.7524802534002,
         "_deepnote_index_column": "2021-07-06T12:30:00.000000"
        },
        {
         "Close": 245.51040649414062,
         "RSI": 56.833717966304725,
         "_deepnote_index_column": "2021-07-06T13:30:00.000000"
        },
        {
         "Close": 246.49000549316406,
         "RSI": 59.273046131435436,
         "_deepnote_index_column": "2021-07-06T14:30:00.000000"
        },
        {
         "Close": 246.7899932861328,
         "RSI": 60.01816951622355,
         "_deepnote_index_column": "2021-07-06T15:30:00.000000"
        },
        {
         "Close": 248.60000610351562,
         "RSI": 64.26620518670914,
         "_deepnote_index_column": "2021-07-07T09:30:00.000000"
        },
        {
         "Close": 247.22579956054688,
         "RSI": 59.12949899592006,
         "_deepnote_index_column": "2021-07-07T10:30:00.000000"
        },
        {
         "Close": 247.10000610351562,
         "RSI": 58.66723674843778,
         "_deepnote_index_column": "2021-07-07T11:30:00.000000"
        },
        {
         "Close": 245.8300018310547,
         "RSI": 54.071214088681515,
         "_deepnote_index_column": "2021-07-07T12:30:00.000000"
        },
        {
         "Close": 246.48500061035156,
         "RSI": 55.9863259363322,
         "_deepnote_index_column": "2021-07-07T13:30:00.000000"
        },
        {
         "Close": 245.69000244140625,
         "RSI": 53.092624670268386,
         "_deepnote_index_column": "2021-07-07T14:30:00.000000"
        },
        {
         "Close": 244.63999938964844,
         "RSI": 49.456769405541834,
         "_deepnote_index_column": "2021-07-07T15:30:00.000000"
        },
        {
         "Close": 235.33999633789062,
         "RSI": 29.915687852044684,
         "_deepnote_index_column": "2021-07-08T09:30:00.000000"
        },
        {
         "Close": 233.2899932861328,
         "RSI": 27.35036473217251,
         "_deepnote_index_column": "2021-07-08T10:30:00.000000"
        },
        {
         "Close": 235.55999755859375,
         "RSI": 34.09020907503364,
         "_deepnote_index_column": "2021-07-08T11:30:00.000000"
        },
        {
         "Close": 237.1199951171875,
         "RSI": 38.324776823034924,
         "_deepnote_index_column": "2021-07-08T12:30:00.000000"
        },
        {
         "Close": 236.86019897460938,
         "RSI": 37.88820406304444,
         "_deepnote_index_column": "2021-07-08T13:30:00.000000"
        },
        {
         "Close": 236.3699951171875,
         "RSI": 37.031025216464315,
         "_deepnote_index_column": "2021-07-08T14:30:00.000000"
        },
        {
         "Close": 235.83999633789062,
         "RSI": 36.08058709091072,
         "_deepnote_index_column": "2021-07-08T15:30:00.000000"
        },
        {
         "Close": 237.875,
         "RSI": 42.21340700828092,
         "_deepnote_index_column": "2021-07-09T09:30:00.000000"
        },
        {
         "Close": 240.14999389648438,
         "RSI": 48.19724734074203,
         "_deepnote_index_column": "2021-07-09T10:30:00.000000"
        },
        {
         "Close": 240.5500030517578,
         "RSI": 49.19344841248486,
         "_deepnote_index_column": "2021-07-09T11:30:00.000000"
        },
        {
         "Close": 240.8800048828125,
         "RSI": 50.04691704729971,
         "_deepnote_index_column": "2021-07-09T12:30:00.000000"
        },
        {
         "Close": 241.91000366210938,
         "RSI": 52.716727429001004,
         "_deepnote_index_column": "2021-07-09T13:30:00.000000"
        },
        {
         "Close": 240.67999267578125,
         "RSI": 49.32630605007738,
         "_deepnote_index_column": "2021-07-09T14:30:00.000000"
        },
        {
         "Close": 241.89999389648438,
         "RSI": 52.583689966930244,
         "_deepnote_index_column": "2021-07-09T15:30:00.000000"
        },
        {
         "Close": 243.35000610351562,
         "RSI": 56.18840950012269,
         "_deepnote_index_column": "2021-07-12T09:30:00.000000"
        },
        {
         "Close": 243.1999969482422,
         "RSI": 55.716500405953006,
         "_deepnote_index_column": "2021-07-12T10:30:00.000000"
        },
        {
         "Close": 243.14999389648438,
         "RSI": 55.5490248316471,
         "_deepnote_index_column": "2021-07-12T11:30:00.000000"
        },
        {
         "Close": 243.0500030517578,
         "RSI": 55.1917599742276,
         "_deepnote_index_column": "2021-07-12T12:30:00.000000"
        },
        {
         "Close": 242.97000122070312,
         "RSI": 54.88759274860039,
         "_deepnote_index_column": "2021-07-12T13:30:00.000000"
        },
        {
         "Close": 243.4010009765625,
         "RSI": 56.2853350466292,
         "_deepnote_index_column": "2021-07-12T14:30:00.000000"
        },
        {
         "Close": 243.27999877929688,
         "RSI": 55.7629654607017,
         "_deepnote_index_column": "2021-07-12T15:30:00.000000"
        },
        {
         "Close": 244.27000427246094,
         "RSI": 59.10692794231379,
         "_deepnote_index_column": "2021-07-13T09:30:00.000000"
        },
        {
         "Close": 244.7100067138672,
         "RSI": 60.534808149889244,
         "_deepnote_index_column": "2021-07-13T10:30:00.000000"
        },
        {
         "Close": 244.83749389648438,
         "RSI": 60.960157926282996,
         "_deepnote_index_column": "2021-07-13T11:30:00.000000"
        },
        {
         "Close": 242.72999572753906,
         "RSI": 51.14645524954319,
         "_deepnote_index_column": "2021-07-13T12:30:00.000000"
        },
        {
         "Close": 242.35000610351562,
         "RSI": 49.596126547197116,
         "_deepnote_index_column": "2021-07-13T13:30:00.000000"
        },
        {
         "Close": 241.46499633789062,
         "RSI": 46.09188731592103,
         "_deepnote_index_column": "2021-07-13T14:30:00.000000"
        },
        {
         "Close": 241.42999267578125,
         "RSI": 45.95358943326701,
         "_deepnote_index_column": "2021-07-13T15:30:00.000000"
        },
        {
         "Close": 244.05239868164062,
         "RSI": 56.48723794661218,
         "_deepnote_index_column": "2021-07-14T09:30:00.000000"
        },
        {
         "Close": 241.38999938964844,
         "RSI": 46.56462562091199,
         "_deepnote_index_column": "2021-07-14T10:30:00.000000"
        },
        {
         "Close": 241.75,
         "RSI": 47.89737958101752,
         "_deepnote_index_column": "2021-07-14T11:30:00.000000"
        },
        {
         "Close": 239.96499633789062,
         "RSI": 42.26808180733266,
         "_deepnote_index_column": "2021-07-14T12:30:00.000000"
        },
        {
         "Close": 240.1407928466797,
         "RSI": 42.978860140369505,
         "_deepnote_index_column": "2021-07-14T13:30:00.000000"
        },
        {
         "Close": 238.84970092773438,
         "RSI": 39.16513474902914,
         "_deepnote_index_column": "2021-07-14T14:30:00.000000"
        },
        {
         "Close": 238.97000122070312,
         "RSI": 39.70203227849393,
         "_deepnote_index_column": "2021-07-14T15:30:00.000000"
        },
        {
         "Close": 239.24000549316406,
         "RSI": 40.96143118207007,
         "_deepnote_index_column": "2021-07-15T09:30:00.000000"
        },
        {
         "Close": 239.35000610351562,
         "RSI": 41.49752893676959,
         "_deepnote_index_column": "2021-07-15T10:30:00.000000"
        },
        {
         "Close": 235.58999633789062,
         "RSI": 31.101489518940838,
         "_deepnote_index_column": "2021-07-15T11:30:00.000000"
        },
        {
         "Close": 235.36000061035156,
         "RSI": 30.596556568444484,
         "_deepnote_index_column": "2021-07-15T12:30:00.000000"
        },
        {
         "Close": 234.4499969482422,
         "RSI": 28.616928525483473,
         "_deepnote_index_column": "2021-07-15T13:30:00.000000"
        },
        {
         "Close": 235.3699951171875,
         "RSI": 33.31447540842453,
         "_deepnote_index_column": "2021-07-15T14:30:00.000000"
        },
        {
         "Close": 235.16000366210938,
         "RSI": 32.78415393114143,
         "_deepnote_index_column": "2021-07-15T15:30:00.000000"
        },
        {
         "Close": 235.24000549316406,
         "RSI": 33.220301721844166,
         "_deepnote_index_column": "2021-07-16T09:30:00.000000"
        },
        {
         "Close": 236.74000549316406,
         "RSI": 40.95622476819152,
         "_deepnote_index_column": "2021-07-16T10:30:00.000000"
        },
        {
         "Close": 239.3300018310547,
         "RSI": 51.42058225906689,
         "_deepnote_index_column": "2021-07-16T11:30:00.000000"
        },
        {
         "Close": 238.49400329589844,
         "RSI": 48.43655525778603,
         "_deepnote_index_column": "2021-07-16T12:30:00.000000"
        },
        {
         "Close": 237.6909942626953,
         "RSI": 45.693588034749794,
         "_deepnote_index_column": "2021-07-16T13:30:00.000000"
        },
        {
         "Close": 237.264892578125,
         "RSI": 44.261240342174936,
         "_deepnote_index_column": "2021-07-16T14:30:00.000000"
        },
        {
         "Close": 237.55999755859375,
         "RSI": 45.534630865901825,
         "_deepnote_index_column": "2021-07-16T15:30:00.000000"
        },
        {
         "Close": 228.5399932861328,
         "RSI": 25.99005116903301,
         "_deepnote_index_column": "2021-07-19T09:30:00.000000"
        },
        {
         "Close": 231.9199981689453,
         "RSI": 36.91685443384272,
         "_deepnote_index_column": "2021-07-19T10:30:00.000000"
        },
        {
         "Close": 231.61000061035156,
         "RSI": 36.386255932548906,
         "_deepnote_index_column": "2021-07-19T11:30:00.000000"
        },
        {
         "Close": 230.59500122070312,
         "RSI": 34.63116115425707,
         "_deepnote_index_column": "2021-07-19T12:30:00.000000"
        },
        {
         "Close": 232.83450317382812,
         "RSI": 41.352878597817295,
         "_deepnote_index_column": "2021-07-19T13:30:00.000000"
        },
        {
         "Close": 232,
         "RSI": 39.71411756179195,
         "_deepnote_index_column": "2021-07-19T14:30:00.000000"
        },
        {
         "Close": 233.69000244140625,
         "RSI": 44.5100010342109,
         "_deepnote_index_column": "2021-07-19T15:30:00.000000"
        },
        {
         "Close": 236.32000732421875,
         "RSI": 51.037814039750664,
         "_deepnote_index_column": "2021-07-20T09:30:00.000000"
        },
        {
         "Close": 242.10000610351562,
         "RSI": 61.701178905109536,
         "_deepnote_index_column": "2021-07-20T10:30:00.000000"
        },
        {
         "Close": 241.95449829101562,
         "RSI": 61.33900807572947,
         "_deepnote_index_column": "2021-07-20T11:30:00.000000"
        },
        {
         "Close": 244.2050018310547,
         "RSI": 64.78219327888951,
         "_deepnote_index_column": "2021-07-20T12:30:00.000000"
        },
        {
         "Close": 246.2899932861328,
         "RSI": 67.65619949308126,
         "_deepnote_index_column": "2021-07-20T13:30:00.000000"
        },
        {
         "Close": 246.75,
         "RSI": 68.27140583133979,
         "_deepnote_index_column": "2021-07-20T14:30:00.000000"
        },
        {
         "Close": 246.5399932861328,
         "RSI": 67.63887771225083,
         "_deepnote_index_column": "2021-07-20T15:30:00.000000"
        },
        {
         "Close": 252.5,
         "RSI": 74.7802288214044,
         "_deepnote_index_column": "2021-07-21T09:30:00.000000"
        },
        {
         "Close": 252.33999633789062,
         "RSI": 74.30615122133098,
         "_deepnote_index_column": "2021-07-21T10:30:00.000000"
        },
        {
         "Close": 253.4499969482422,
         "RSI": 75.4680612387204,
         "_deepnote_index_column": "2021-07-21T11:30:00.000000"
        },
        {
         "Close": 256.31298828125,
         "RSI": 78.20565304134706,
         "_deepnote_index_column": "2021-07-21T12:30:00.000000"
        },
        {
         "Close": 258.3500061035156,
         "RSI": 79.92240659002385,
         "_deepnote_index_column": "2021-07-21T13:30:00.000000"
        },
        {
         "Close": 256.864990234375,
         "RSI": 75.26768609627354,
         "_deepnote_index_column": "2021-07-21T14:30:00.000000"
        },
        {
         "Close": 257.25,
         "RSI": 75.66342598681543,
         "_deepnote_index_column": "2021-07-21T15:30:00.000000"
        },
        {
         "Close": 261.4700012207031,
         "RSI": 79.52971625695363,
         "_deepnote_index_column": "2021-07-22T09:30:00.000000"
        },
        {
         "Close": 259.3299865722656,
         "RSI": 73.18051181140534,
         "_deepnote_index_column": "2021-07-22T10:30:00.000000"
        },
        {
         "Close": 259.55999755859375,
         "RSI": 73.42607434854312,
         "_deepnote_index_column": "2021-07-22T11:30:00.000000"
        },
        {
         "Close": 260.5299987792969,
         "RSI": 74.48699199999051,
         "_deepnote_index_column": "2021-07-22T12:30:00.000000"
        },
        {
         "Close": 260.9700012207031,
         "RSI": 74.97504474309639,
         "_deepnote_index_column": "2021-07-22T13:30:00.000000"
        },
        {
         "Close": 260.25,
         "RSI": 72.5300065939112,
         "_deepnote_index_column": "2021-07-22T14:30:00.000000"
        },
        {
         "Close": 260.6000061035156,
         "RSI": 72.99111457264463,
         "_deepnote_index_column": "2021-07-22T15:30:00.000000"
        },
        {
         "Close": 265.1700134277344,
         "RSI": 78.1487085802193,
         "_deepnote_index_column": "2021-07-23T09:30:00.000000"
        },
        {
         "Close": 264.2900085449219,
         "RSI": 75.17191333323245,
         "_deepnote_index_column": "2021-07-23T10:30:00.000000"
        },
        {
         "Close": 263.6000061035156,
         "RSI": 72.82938930089827,
         "_deepnote_index_column": "2021-07-23T11:30:00.000000"
        },
        {
         "Close": 263.1000061035156,
         "RSI": 71.10035239126836,
         "_deepnote_index_column": "2021-07-23T12:30:00.000000"
        },
        {
         "Close": 263.8299865722656,
         "RSI": 72.14027343121472,
         "_deepnote_index_column": "2021-07-23T13:30:00.000000"
        },
        {
         "Close": 263.8399963378906,
         "RSI": 72.15506966910759,
         "_deepnote_index_column": "2021-07-23T14:30:00.000000"
        },
        {
         "Close": 264.07000732421875,
         "RSI": 72.51627931278662,
         "_deepnote_index_column": "2021-07-23T15:30:00.000000"
        },
        {
         "Close": 263.79998779296875,
         "RSI": 71.34619992290044,
         "_deepnote_index_column": "2021-07-26T09:30:00.000000"
        },
        {
         "Close": 261.90008544921875,
         "RSI": 63.57342313426679,
         "_deepnote_index_column": "2021-07-26T10:30:00.000000"
        },
        {
         "Close": 262.4599914550781,
         "RSI": 64.79081352999135,
         "_deepnote_index_column": "2021-07-26T11:30:00.000000"
        },
        {
         "Close": 262.6000061035156,
         "RSI": 65.10487832630281,
         "_deepnote_index_column": "2021-07-26T12:30:00.000000"
        },
        {
         "Close": 261.5639953613281,
         "RSI": 60.78440892352515,
         "_deepnote_index_column": "2021-07-26T13:30:00.000000"
        },
        {
         "Close": 262.54998779296875,
         "RSI": 63.281833575893735,
         "_deepnote_index_column": "2021-07-26T14:30:00.000000"
        },
        {
         "Close": 262.04998779296875,
         "RSI": 61.15493753736774,
         "_deepnote_index_column": "2021-07-26T15:30:00.000000"
        },
        {
         "Close": 253.86720275878906,
         "RSI": 38.40530955063534,
         "_deepnote_index_column": "2021-07-27T09:30:00.000000"
        },
        {
         "Close": 246.5540008544922,
         "RSI": 28.279914625214246,
         "_deepnote_index_column": "2021-07-27T10:30:00.000000"
        },
        {
         "Close": 248.99000549316406,
         "RSI": 34.47676829855696,
         "_deepnote_index_column": "2021-07-27T11:30:00.000000"
        },
        {
         "Close": 247.6300048828125,
         "RSI": 32.774186300491564,
         "_deepnote_index_column": "2021-07-27T12:30:00.000000"
        },
        {
         "Close": 250.61000061035156,
         "RSI": 39.790481639076006,
         "_deepnote_index_column": "2021-07-27T13:30:00.000000"
        },
        {
         "Close": 252.27000427246094,
         "RSI": 43.338131682988724,
         "_deepnote_index_column": "2021-07-27T14:30:00.000000"
        },
        {
         "Close": 251.72999572753906,
         "RSI": 42.461638312988526,
         "_deepnote_index_column": "2021-07-27T15:30:00.000000"
        },
        {
         "Close": 256.29998779296875,
         "RSI": 51.416636917771534,
         "_deepnote_index_column": "2021-07-28T09:30:00.000000"
        },
        {
         "Close": 258.4150085449219,
         "RSI": 54.913946837065645,
         "_deepnote_index_column": "2021-07-28T10:30:00.000000"
        },
        {
         "Close": 258.95001220703125,
         "RSI": 55.781071551426656,
         "_deepnote_index_column": "2021-07-28T11:30:00.000000"
        },
        {
         "Close": 257.0400085449219,
         "RSI": 51.94040333078087,
         "_deepnote_index_column": "2021-07-28T12:30:00.000000"
        },
        {
         "Close": 258.4800109863281,
         "RSI": 54.48482934063475,
         "_deepnote_index_column": "2021-07-28T13:30:00.000000"
        },
        {
         "Close": 259.7099914550781,
         "RSI": 56.598485127860556,
         "_deepnote_index_column": "2021-07-28T14:30:00.000000"
        },
        {
         "Close": 258.4700012207031,
         "RSI": 53.8818856878521,
         "_deepnote_index_column": "2021-07-28T15:30:00.000000"
        },
        {
         "Close": 259.70001220703125,
         "RSI": 56.13120894995631,
         "_deepnote_index_column": "2021-07-29T09:30:00.000000"
        },
        {
         "Close": 260.1900939941406,
         "RSI": 57.030468802377236,
         "_deepnote_index_column": "2021-07-29T10:30:00.000000"
        },
        {
         "Close": 260.2200012207031,
         "RSI": 57.08827810643131,
         "_deepnote_index_column": "2021-07-29T11:30:00.000000"
        },
        {
         "Close": 257.864990234375,
         "RSI": 51.24217874108189,
         "_deepnote_index_column": "2021-07-29T12:30:00.000000"
        },
        {
         "Close": 255.4700927734375,
         "RSI": 46.074895400881125,
         "_deepnote_index_column": "2021-07-29T13:30:00.000000"
        },
        {
         "Close": 254.93499755859375,
         "RSI": 44.98341500725757,
         "_deepnote_index_column": "2021-07-29T14:30:00.000000"
        },
        {
         "Close": 255.27000427246094,
         "RSI": 45.84832438774067,
         "_deepnote_index_column": "2021-07-29T15:30:00.000000"
        },
        {
         "Close": 251.60499572753906,
         "RSI": 38.6834533242956,
         "_deepnote_index_column": "2021-07-30T09:30:00.000000"
        },
        {
         "Close": 248.32000732421875,
         "RSI": 33.613112301369256,
         "_deepnote_index_column": "2021-07-30T10:30:00.000000"
        },
        {
         "Close": 247.17999267578125,
         "RSI": 32.043428471219855,
         "_deepnote_index_column": "2021-07-30T11:30:00.000000"
        },
        {
         "Close": 247.59840393066406,
         "RSI": 33.275027871629675,
         "_deepnote_index_column": "2021-07-30T12:30:00.000000"
        },
        {
         "Close": 245.77000427246094,
         "RSI": 30.660076042982354,
         "_deepnote_index_column": "2021-07-30T13:30:00.000000"
        },
        {
         "Close": 245.9199981689453,
         "RSI": 31.138167496070835,
         "_deepnote_index_column": "2021-07-30T14:30:00.000000"
        },
        {
         "Close": 247.25,
         "RSI": 35.39197119630708,
         "_deepnote_index_column": "2021-07-30T15:30:00.000000"
        },
        {
         "Close": 269.95001220703125,
         "RSI": 69.7446120985707,
         "_deepnote_index_column": "2021-08-02T09:30:00.000000"
        },
        {
         "Close": 275.239990234375,
         "RSI": 73.30658229953023,
         "_deepnote_index_column": "2021-08-02T10:30:00.000000"
        },
        {
         "Close": 275.19000244140625,
         "RSI": 73.21886095035569,
         "_deepnote_index_column": "2021-08-02T11:30:00.000000"
        },
        {
         "Close": 276.32000732421875,
         "RSI": 73.97695227970584,
         "_deepnote_index_column": "2021-08-02T12:30:00.000000"
        },
        {
         "Close": 279.6247863769531,
         "RSI": 76.10709289042006,
         "_deepnote_index_column": "2021-08-02T13:30:00.000000"
        },
        {
         "Close": 273.1388854980469,
         "RSI": 64.88206697336383,
         "_deepnote_index_column": "2021-08-02T14:30:00.000000"
        },
        {
         "Close": 272.3999938964844,
         "RSI": 63.72889595179554,
         "_deepnote_index_column": "2021-08-02T15:30:00.000000"
        },
        {
         "Close": 266.0799865722656,
         "RSI": 54.76328180258665,
         "_deepnote_index_column": "2021-08-03T09:30:00.000000"
        },
        {
         "Close": 263.30999755859375,
         "RSI": 51.353262497595075,
         "_deepnote_index_column": "2021-08-03T10:30:00.000000"
        },
        {
         "Close": 271.67999267578125,
         "RSI": 59.54963452890933,
         "_deepnote_index_column": "2021-08-03T11:30:00.000000"
        },
        {
         "Close": 268.8900146484375,
         "RSI": 56.15335141160018,
         "_deepnote_index_column": "2021-08-03T12:30:00.000000"
        },
        {
         "Close": 266.9849853515625,
         "RSI": 53.89316612449326,
         "_deepnote_index_column": "2021-08-03T13:30:00.000000"
        },
        {
         "Close": 269.6798095703125,
         "RSI": 56.55696820831437,
         "_deepnote_index_column": "2021-08-03T14:30:00.000000"
        },
        {
         "Close": 269.3999938964844,
         "RSI": 56.19392999658841,
         "_deepnote_index_column": "2021-08-03T15:30:00.000000"
        },
        {
         "Close": 263.5899963378906,
         "RSI": 49.14058486305854,
         "_deepnote_index_column": "2021-08-04T09:30:00.000000"
        },
        {
         "Close": 265.6600036621094,
         "RSI": 51.47743106430032,
         "_deepnote_index_column": "2021-08-04T10:30:00.000000"
        },
        {
         "Close": 265.4100036621094,
         "RSI": 51.171628714108415,
         "_deepnote_index_column": "2021-08-04T11:30:00.000000"
        },
        {
         "Close": 266.4849853515625,
         "RSI": 52.4788720455278,
         "_deepnote_index_column": "2021-08-04T12:30:00.000000"
        },
        {
         "Close": 265.9200134277344,
         "RSI": 51.695536691297825,
         "_deepnote_index_column": "2021-08-04T13:30:00.000000"
        },
        {
         "Close": 265.5,
         "RSI": 51.08504742986717,
         "_deepnote_index_column": "2021-08-04T14:30:00.000000"
        },
        {
         "Close": 266.45001220703125,
         "RSI": 52.45277882267458,
         "_deepnote_index_column": "2021-08-04T15:30:00.000000"
        },
        {
         "Close": 278.2344970703125,
         "RSI": 65.38318974009778,
         "_deepnote_index_column": "2021-08-05T09:30:00.000000"
        },
        {
         "Close": 287.25,
         "RSI": 71.71952234395063,
         "_deepnote_index_column": "2021-08-05T10:30:00.000000"
        },
        {
         "Close": 287.32000732421875,
         "RSI": 71.76274501453973,
         "_deepnote_index_column": "2021-08-05T11:30:00.000000"
        },
        {
         "Close": 283.7300109863281,
         "RSI": 66.17716562091542,
         "_deepnote_index_column": "2021-08-05T12:30:00.000000"
        },
        {
         "Close": 283.8900146484375,
         "RSI": 66.30305246579766,
         "_deepnote_index_column": "2021-08-05T13:30:00.000000"
        },
        {
         "Close": 282.4599914550781,
         "RSI": 64.00998966578655,
         "_deepnote_index_column": "2021-08-05T14:30:00.000000"
        },
        {
         "Close": 281.79998779296875,
         "RSI": 62.9282664727926,
         "_deepnote_index_column": "2021-08-05T15:30:00.000000"
        },
        {
         "Close": 279.1000061035156,
         "RSI": 58.56786073461764,
         "_deepnote_index_column": "2021-08-06T09:30:00.000000"
        },
        {
         "Close": 277.2200012207031,
         "RSI": 55.67502105377608,
         "_deepnote_index_column": "2021-08-06T10:30:00.000000"
        },
        {
         "Close": 278.6400146484375,
         "RSI": 57.38710176734185,
         "_deepnote_index_column": "2021-08-06T11:30:00.000000"
        },
        {
         "Close": 276.6119079589844,
         "RSI": 54.16893165539531,
         "_deepnote_index_column": "2021-08-06T12:30:00.000000"
        },
        {
         "Close": 276.2349853515625,
         "RSI": 53.567697345559125,
         "_deepnote_index_column": "2021-08-06T13:30:00.000000"
        },
        {
         "Close": 276.0409851074219,
         "RSI": 53.240154913681685,
         "_deepnote_index_column": "2021-08-06T14:30:00.000000"
        },
        {
         "Close": 275.06500244140625,
         "RSI": 51.532993929250736,
         "_deepnote_index_column": "2021-08-06T15:30:00.000000"
        },
        {
         "Close": 281.2298889160156,
         "RSI": 60.211753032007124,
         "_deepnote_index_column": "2021-08-09T09:30:00.000000"
        },
        {
         "Close": 280.7699890136719,
         "RSI": 59.35784231611696,
         "_deepnote_index_column": "2021-08-09T10:30:00.000000"
        },
        {
         "Close": 282.98480224609375,
         "RSI": 62.142319533602425,
         "_deepnote_index_column": "2021-08-09T11:30:00.000000"
        },
        {
         "Close": 284.364990234375,
         "RSI": 63.8064373265033,
         "_deepnote_index_column": "2021-08-09T12:30:00.000000"
        },
        {
         "Close": 282.67999267578125,
         "RSI": 60.320339607273134,
         "_deepnote_index_column": "2021-08-09T13:30:00.000000"
        },
        {
         "Close": 280.5799865722656,
         "RSI": 56.199254535761995,
         "_deepnote_index_column": "2021-08-09T14:30:00.000000"
        },
        {
         "Close": 279.7099914550781,
         "RSI": 54.536916571586595,
         "_deepnote_index_column": "2021-08-09T15:30:00.000000"
        },
        {
         "Close": 278.1571960449219,
         "RSI": 51.603012363740206,
         "_deepnote_index_column": "2021-08-10T09:30:00.000000"
        },
        {
         "Close": 277.5,
         "RSI": 50.36798851749482,
         "_deepnote_index_column": "2021-08-10T10:30:00.000000"
        },
        {
         "Close": 277.697998046875,
         "RSI": 50.75041985247875,
         "_deepnote_index_column": "2021-08-10T11:30:00.000000"
        },
        {
         "Close": 276.7699890136719,
         "RSI": 48.85049449992493,
         "_deepnote_index_column": "2021-08-10T12:30:00.000000"
        },
        {
         "Close": 275.375,
         "RSI": 46.05913396894148,
         "_deepnote_index_column": "2021-08-10T13:30:00.000000"
        },
        {
         "Close": 274.04998779296875,
         "RSI": 43.51566541082736,
         "_deepnote_index_column": "2021-08-10T14:30:00.000000"
        },
        {
         "Close": 272.92999267578125,
         "RSI": 41.4329159176754,
         "_deepnote_index_column": "2021-08-10T15:30:00.000000"
        }
       ]
      },
      "text/plain": "                                Close        RSI\nDatetime                                        \n2019-09-03 09:30:00-04:00   62.959999        NaN\n2019-09-03 10:30:00-04:00   62.320000   0.000000\n2019-09-03 11:30:00-04:00   62.000000   0.000000\n2019-09-03 12:30:00-04:00   61.774899   0.000000\n2019-09-03 13:30:00-04:00   61.360001   0.000000\n...                               ...        ...\n2021-08-10 11:30:00-04:00  277.697998  50.750420\n2021-08-10 12:30:00-04:00  276.769989  48.850494\n2021-08-10 13:30:00-04:00  275.375000  46.059134\n2021-08-10 14:30:00-04:00  274.049988  43.515665\n2021-08-10 15:30:00-04:00  272.929993  41.432916\n\n[3411 rows x 2 columns]",
      "text/html": "<div>\n<style scoped>\n    .dataframe tbody tr th:only-of-type {\n        vertical-align: middle;\n    }\n\n    .dataframe tbody tr th {\n        vertical-align: top;\n    }\n\n    .dataframe thead th {\n        text-align: right;\n    }\n</style>\n<table border=\"1\" class=\"dataframe\">\n  <thead>\n    <tr style=\"text-align: right;\">\n      <th></th>\n      <th>Close</th>\n      <th>RSI</th>\n    </tr>\n    <tr>\n      <th>Datetime</th>\n      <th></th>\n      <th></th>\n    </tr>\n  </thead>\n  <tbody>\n    <tr>\n      <th>2019-09-03 09:30:00-04:00</th>\n      <td>62.959999</td>\n      <td>NaN</td>\n    </tr>\n    <tr>\n      <th>2019-09-03 10:30:00-04:00</th>\n      <td>62.320000</td>\n      <td>0.000000</td>\n    </tr>\n    <tr>\n      <th>2019-09-03 11:30:00-04:00</th>\n      <td>62.000000</td>\n      <td>0.000000</td>\n    </tr>\n    <tr>\n      <th>2019-09-03 12:30:00-04:00</th>\n      <td>61.774899</td>\n      <td>0.000000</td>\n    </tr>\n    <tr>\n      <th>2019-09-03 13:30:00-04:00</th>\n      <td>61.360001</td>\n      <td>0.000000</td>\n    </tr>\n    <tr>\n      <th>...</th>\n      <td>...</td>\n      <td>...</td>\n    </tr>\n    <tr>\n      <th>2021-08-10 11:30:00-04:00</th>\n      <td>277.697998</td>\n      <td>50.750420</td>\n    </tr>\n    <tr>\n      <th>2021-08-10 12:30:00-04:00</th>\n      <td>276.769989</td>\n      <td>48.850494</td>\n    </tr>\n    <tr>\n      <th>2021-08-10 13:30:00-04:00</th>\n      <td>275.375000</td>\n      <td>46.059134</td>\n    </tr>\n    <tr>\n      <th>2021-08-10 14:30:00-04:00</th>\n      <td>274.049988</td>\n      <td>43.515665</td>\n    </tr>\n    <tr>\n      <th>2021-08-10 15:30:00-04:00</th>\n      <td>272.929993</td>\n      <td>41.432916</td>\n    </tr>\n  </tbody>\n</table>\n<p>3411 rows × 2 columns</p>\n</div>"
     },
     "metadata": {}
    }
   ],
   "execution_count": 33
  },
  {
   "cell_type": "code",
   "metadata": {
    "tags": [],
    "cell_id": "00005-d42a41ab-3ba3-4bce-8b8a-1bf9fb24e65f",
    "deepnote_to_be_reexecuted": false,
    "source_hash": "77d6859a",
    "execution_start": 1628648732102,
    "execution_millis": 552,
    "deepnote_cell_type": "code"
   },
   "source": "fig, (ax1, ax2) = plt.subplots(2)\nax1.get_xaxis().set_visible(False)\nfig.suptitle('SQ-1hr')\nsq_1hr_rsi['Close'].plot(ax=ax1)\n\nax1.set_ylabel('Price ($)')\nsq_1hr_rsi['RSI'].plot(ax=ax2)\nax2.set_ylim(0,100)\nax2.axhline(30, color= 'r', linestyle= '--')\nax2.axhline(70, color= 'r', linestyle= '--')\nax2.set_ylabel('RSI')\nplt.show()",
   "outputs": [
    {
     "data": {
      "text/plain": "<Figure size 1440x720 with 2 Axes>",
      "image/png": "[encoded data removed]"
     },
     "metadata": {
      "image/png": {
       "width": 1319,
       "height": 642
      }
     },
     "output_type": "display_data"
    }
   ],
   "execution_count": 34
  },
  {
   "cell_type": "code",
   "metadata": {
    "tags": [],
    "cell_id": "00006-239476b7-d8ed-4658-99d7-16b4e716915c",
    "deepnote_to_be_reexecuted": false,
    "source_hash": "cf8ee370",
    "execution_start": 1628648732920,
    "execution_millis": 1,
    "deepnote_cell_type": "code"
   },
   "source": "def implement_rsi_strategy(prices, rsi):    \n    buy_price = []\n    sell_price = []\n    rsi_signal = []\n    signal = 0\n\n    for i in range(len(rsi)):\n        if rsi[i-1] > 30 and rsi[i] < 30:\n            if signal != 1:\n                buy_price.append(prices[i])\n                sell_price.append(np.nan)\n                signal = 1\n                rsi_signal.append(signal)\n            else:\n                buy_price.append(np.nan)\n                sell_price.append(np.nan)\n                rsi_signal.append(0)\n        elif rsi[i-1] < 70 and rsi[i] > 70:\n            if signal != -1:\n                buy_price.append(np.nan)\n                sell_price.append(prices[i])\n                signal = -1\n                rsi_signal.append(signal)\n            else:\n                buy_price.append(np.nan)\n                sell_price.append(np.nan)\n                rsi_signal.append(0)\n        else:\n            buy_price.append(np.nan)\n            sell_price.append(np.nan)\n            rsi_signal.append(0)\n            \n    return buy_price, sell_price, rsi_signal\n            \n\nbuy_price, sell_price, rsi_signal = implement_rsi_strategy(sq_1hr_rsi['Close'], sq_1hr_rsi['RSI'])",
   "outputs": [],
   "execution_count": 35
  },
  {
   "cell_type": "code",
   "metadata": {
    "tags": [],
    "cell_id": "00007-49a99c48-fb12-4c8b-b557-70cde0ccbf17",
    "deepnote_to_be_reexecuted": false,
    "source_hash": "c52774f6",
    "execution_start": 1628648735391,
    "execution_millis": 610,
    "deepnote_cell_type": "code"
   },
   "source": "ax1 = plt.subplot2grid((10,1), (0,0), rowspan = 4, colspan = 1)\nax2 = plt.subplot2grid((10,1), (5,0), rowspan = 4, colspan = 1)\nax1.plot(sq_1hr_rsi['Close'], linewidth = 2.5, color = 'skyblue', label = 'SQ')\nax1.plot(sq_1hr_rsi.index, buy_price, marker = '^', markersize = 10, color = 'green', label = 'BUY SIGNAL')\nax1.plot(sq_1hr_rsi.index, sell_price, marker = 'v', markersize = 10, color = 'r', label = 'SELL SIGNAL')\nax1.set_title('SQ RSI TRADE SIGNALS')\nax2.plot(sq_1hr['RSI'], color = 'orange', linewidth = 2.5)\nax2.axhline(30, linestyle = '--', linewidth = 1.5, color = 'grey')\nax2.axhline(70, linestyle = '--', linewidth = 1.5, color = 'grey')\nplt.show()",
   "outputs": [
    {
     "data": {
      "text/plain": "<Figure size 1440x720 with 2 Axes>",
      "image/png": "[encoded data removed]"
     },
     "metadata": {
      "image/png": {
       "width": 1297,
       "height": 576
      }
     },
     "output_type": "display_data"
    }
   ],
   "execution_count": 36
  },
  {
   "cell_type": "code",
   "metadata": {
    "tags": [],
    "cell_id": "00008-6b3c4df3-c950-4ba6-92a2-548ff83bdd7a",
    "deepnote_to_be_reexecuted": false,
    "source_hash": "e5a0ba2e",
    "execution_start": 1628648736711,
    "execution_millis": 63,
    "deepnote_cell_type": "code"
   },
   "source": "position = []\nfor i in range(len(rsi_signal)):\n    if rsi_signal[i] > 1:\n        position.append(0)\n    else:\n        position.append(1)\n        \nfor i in range(len(sq_1hr_rsi['Close'])):\n    if rsi_signal[i] == 1:\n        position[i] = 1\n    elif rsi_signal[i] == -1:\n        position[i] = 0\n    else:\n        position[i] = position[i-1]\n        \nrsi = sq_1hr_rsi['RSI']\nclose_price = sq_1hr_rsi['Close']\nrsi_signal = pd.DataFrame(rsi_signal).rename(columns = {0:'rsi_signal'}).set_index(sq_1hr_rsi.index)\nposition = pd.DataFrame(position).rename(columns = {0:'rsi_position'}).set_index(sq_1hr_rsi.index)\n\nframes = [close_price, rsi, rsi_signal, position]\nstrategy = pd.concat(frames, join = 'inner', axis = 1)\n\nstrategy",
   "outputs": [
    {
     "output_type": "execute_result",
     "execution_count": 37,
     "data": {
      "application/vnd.deepnote.dataframe.v2+json": {
       "row_count": 3411,
       "column_count": 4,
       "columns": [
        {
         "name": "Close",
         "dtype": "float64",
         "stats": {
          "unique_count": 3152,
          "nan_count": 0,
          "min": "33.119998931884766",
          "max": "287.32000732421875",
          "histogram": [
           {
            "bin_start": 33.119998931884766,
            "bin_end": 58.53999977111816,
            "count": 199
           },
           {
            "bin_start": 58.53999977111816,
            "bin_end": 83.96000061035156,
            "count": 1097
           },
           {
            "bin_start": 83.96000061035156,
            "bin_end": 109.38000144958497,
            "count": 161
           },
           {
            "bin_start": 109.38000144958497,
            "bin_end": 134.80000228881835,
            "count": 158
           },
           {
            "bin_start": 134.80000228881835,
            "bin_end": 160.22000312805176,
            "count": 277
           },
           {
            "bin_start": 160.22000312805176,
            "bin_end": 185.64000396728517,
            "count": 186
           },
           {
            "bin_start": 185.64000396728517,
            "bin_end": 211.06000480651855,
            "count": 245
           },
           {
            "bin_start": 211.06000480651855,
            "bin_end": 236.48000564575196,
            "count": 548
           },
           {
            "bin_start": 236.48000564575196,
            "bin_end": 261.9000064849854,
            "count": 401
           },
           {
            "bin_start": 261.9000064849854,
            "bin_end": 287.32000732421875,
            "count": 139
           }
          ]
         }
        },
        {
         "name": "RSI",
         "dtype": "float64",
         "stats": {
          "unique_count": 3398,
          "nan_count": 1,
          "min": "0.0",
          "max": "90.06377701880119",
          "histogram": [
           {
            "bin_start": 0,
            "bin_end": 9.006377701880119,
            "count": 6
           },
           {
            "bin_start": 9.006377701880119,
            "bin_end": 18.012755403760238,
            "count": 7
           },
           {
            "bin_start": 18.012755403760238,
            "bin_end": 27.019133105640357,
            "count": 73
           },
           {
            "bin_start": 27.019133105640357,
            "bin_end": 36.025510807520476,
            "count": 338
           },
           {
            "bin_start": 36.025510807520476,
            "bin_end": 45.031888509400595,
            "count": 585
           },
           {
            "bin_start": 45.031888509400595,
            "bin_end": 54.038266211280714,
            "count": 723
           },
           {
            "bin_start": 54.038266211280714,
            "bin_end": 63.04464391316083,
            "count": 772
           },
           {
            "bin_start": 63.04464391316083,
            "bin_end": 72.05102161504095,
            "count": 634
           },
           {
            "bin_start": 72.05102161504095,
            "bin_end": 81.05739931692108,
            "count": 249
           },
           {
            "bin_start": 81.05739931692108,
            "bin_end": 90.06377701880119,
            "count": 23
           }
          ]
         }
        },
        {
         "name": "rsi_signal",
         "dtype": "int64",
         "stats": {
          "unique_count": 3,
          "nan_count": 0,
          "min": "-1",
          "max": "1",
          "histogram": [
           {
            "bin_start": -1,
            "bin_end": -0.8,
            "count": 17
           },
           {
            "bin_start": -0.8,
            "bin_end": -0.6,
            "count": 0
           },
           {
            "bin_start": -0.6,
            "bin_end": -0.3999999999999999,
            "count": 0
           },
           {
            "bin_start": -0.3999999999999999,
            "bin_end": -0.19999999999999996,
            "count": 0
           },
           {
            "bin_start": -0.19999999999999996,
            "bin_end": 0,
            "count": 0
           },
           {
            "bin_start": 0,
            "bin_end": 0.20000000000000018,
            "count": 3377
           },
           {
            "bin_start": 0.20000000000000018,
            "bin_end": 0.40000000000000013,
            "count": 0
           },
           {
            "bin_start": 0.40000000000000013,
            "bin_end": 0.6000000000000001,
            "count": 0
           },
           {
            "bin_start": 0.6000000000000001,
            "bin_end": 0.8,
            "count": 0
           },
           {
            "bin_start": 0.8,
            "bin_end": 1,
            "count": 17
           }
          ]
         }
        },
        {
         "name": "rsi_position",
         "dtype": "int64",
         "stats": {
          "unique_count": 2,
          "nan_count": 0,
          "min": "0",
          "max": "1",
          "histogram": [
           {
            "bin_start": 0,
            "bin_end": 0.1,
            "count": 2284
           },
           {
            "bin_start": 0.1,
            "bin_end": 0.2,
            "count": 0
           },
           {
            "bin_start": 0.2,
            "bin_end": 0.30000000000000004,
            "count": 0
           },
           {
            "bin_start": 0.30000000000000004,
            "bin_end": 0.4,
            "count": 0
           },
           {
            "bin_start": 0.4,
            "bin_end": 0.5,
            "count": 0
           },
           {
            "bin_start": 0.5,
            "bin_end": 0.6000000000000001,
            "count": 0
           },
           {
            "bin_start": 0.6000000000000001,
            "bin_end": 0.7000000000000001,
            "count": 0
           },
           {
            "bin_start": 0.7000000000000001,
            "bin_end": 0.8,
            "count": 0
           },
           {
            "bin_start": 0.8,
            "bin_end": 0.9,
            "count": 0
           },
           {
            "bin_start": 0.9,
            "bin_end": 1,
            "count": 1127
           }
          ]
         }
        },
        {
         "name": "_deepnote_index_column",
         "dtype": "datetime64[ns, America/New_York]"
        }
       ],
       "rows_top": [
        {
         "Close": 62.959999084472656,
         "RSI": "nan",
         "rsi_signal": 0,
         "rsi_position": 1,
         "_deepnote_index_column": "2019-09-03T09:30:00.000000"
        },
        {
         "Close": 62.31999969482422,
         "RSI": 0,
         "rsi_signal": 0,
         "rsi_position": 1,
         "_deepnote_index_column": "2019-09-03T10:30:00.000000"
        },
        {
         "Close": 62,
         "RSI": 0,
         "rsi_signal": 0,
         "rsi_position": 1,
         "_deepnote_index_column": "2019-09-03T11:30:00.000000"
        },
        {
         "Close": 61.774898529052734,
         "RSI": 0,
         "rsi_signal": 0,
         "rsi_position": 1,
         "_deepnote_index_column": "2019-09-03T12:30:00.000000"
        },
        {
         "Close": 61.36000061035156,
         "RSI": 0,
         "rsi_signal": 0,
         "rsi_position": 1,
         "_deepnote_index_column": "2019-09-03T13:30:00.000000"
        },
        {
         "Close": 61.125,
         "RSI": 0,
         "rsi_signal": 0,
         "rsi_position": 1,
         "_deepnote_index_column": "2019-09-03T14:30:00.000000"
        },
        {
         "Close": 61.13999938964844,
         "RSI": 0.20847747653027682,
         "rsi_signal": 0,
         "rsi_position": 1,
         "_deepnote_index_column": "2019-09-03T15:30:00.000000"
        },
        {
         "Close": 61.93000030517578,
         "RSI": 10.760918290411212,
         "rsi_signal": 0,
         "rsi_position": 1,
         "_deepnote_index_column": "2019-09-04T09:30:00.000000"
        },
        {
         "Close": 62.02000045776367,
         "RSI": 11.903840278305168,
         "rsi_signal": 0,
         "rsi_position": 1,
         "_deepnote_index_column": "2019-09-04T10:30:00.000000"
        },
        {
         "Close": 61.41999816894531,
         "RSI": 10.901443106745134,
         "rsi_signal": 0,
         "rsi_position": 1,
         "_deepnote_index_column": "2019-09-04T11:30:00.000000"
        },
        {
         "Close": 61.07500076293945,
         "RSI": 10.36117496976172,
         "rsi_signal": 0,
         "rsi_position": 1,
         "_deepnote_index_column": "2019-09-04T12:30:00.000000"
        },
        {
         "Close": 61.11000061035156,
         "RSI": 10.843912837046275,
         "rsi_signal": 0,
         "rsi_position": 1,
         "_deepnote_index_column": "2019-09-04T13:30:00.000000"
        },
        {
         "Close": 61.040000915527344,
         "RSI": 10.719573825429933,
         "rsi_signal": 0,
         "rsi_position": 1,
         "_deepnote_index_column": "2019-09-04T14:30:00.000000"
        },
        {
         "Close": 61.08000183105469,
         "RSI": 11.34515308984723,
         "rsi_signal": 0,
         "rsi_position": 1,
         "_deepnote_index_column": "2019-09-04T15:30:00.000000"
        },
        {
         "Close": 63.08250045776367,
         "RSI": 35.65279203114369,
         "rsi_signal": 0,
         "rsi_position": 1,
         "_deepnote_index_column": "2019-09-05T09:30:00.000000"
        },
        {
         "Close": 62.67900085449219,
         "RSI": 33.65067421108655,
         "rsi_signal": 0,
         "rsi_position": 1,
         "_deepnote_index_column": "2019-09-05T10:30:00.000000"
        },
        {
         "Close": 62.45280075073242,
         "RSI": 32.54724447747819,
         "rsi_signal": 0,
         "rsi_position": 1,
         "_deepnote_index_column": "2019-09-05T11:30:00.000000"
        },
        {
         "Close": 62.83000183105469,
         "RSI": 36.298408111009934,
         "rsi_signal": 0,
         "rsi_position": 1,
         "_deepnote_index_column": "2019-09-05T12:30:00.000000"
        },
        {
         "Close": 62.95500183105469,
         "RSI": 37.538070647903616,
         "rsi_signal": 0,
         "rsi_position": 1,
         "_deepnote_index_column": "2019-09-05T13:30:00.000000"
        },
        {
         "Close": 63.150001525878906,
         "RSI": 39.51552165750285,
         "rsi_signal": 0,
         "rsi_position": 1,
         "_deepnote_index_column": "2019-09-05T14:30:00.000000"
        },
        {
         "Close": 63.04499816894531,
         "RSI": 38.80314255243087,
         "rsi_signal": 0,
         "rsi_position": 1,
         "_deepnote_index_column": "2019-09-05T15:30:00.000000"
        },
        {
         "Close": 63.31999969482422,
         "RSI": 41.76422121002339,
         "rsi_signal": 0,
         "rsi_position": 1,
         "_deepnote_index_column": "2019-09-06T09:30:00.000000"
        },
        {
         "Close": 62.97610092163086,
         "RSI": 39.20923037211833,
         "rsi_signal": 0,
         "rsi_position": 1,
         "_deepnote_index_column": "2019-09-06T10:30:00.000000"
        },
        {
         "Close": 63.279998779296875,
         "RSI": 42.553710629230906,
         "rsi_signal": 0,
         "rsi_position": 1,
         "_deepnote_index_column": "2019-09-06T11:30:00.000000"
        },
        {
         "Close": 62.97600173950195,
         "RSI": 40.17276686020396,
         "rsi_signal": 0,
         "rsi_position": 1,
         "_deepnote_index_column": "2019-09-06T12:30:00.000000"
        },
        {
         "Close": 62.650001525878906,
         "RSI": 37.73448797662451,
         "rsi_signal": 0,
         "rsi_position": 1,
         "_deepnote_index_column": "2019-09-06T13:30:00.000000"
        },
        {
         "Close": 62.30500030517578,
         "RSI": 35.29314170013784,
         "rsi_signal": 0,
         "rsi_position": 1,
         "_deepnote_index_column": "2019-09-06T14:30:00.000000"
        },
        {
         "Close": 61.97999954223633,
         "RSI": 33.11933481595288,
         "rsi_signal": 0,
         "rsi_position": 1,
         "_deepnote_index_column": "2019-09-06T15:30:00.000000"
        },
        {
         "Close": 61.70000076293945,
         "RSI": 31.32900251036142,
         "rsi_signal": 0,
         "rsi_position": 1,
         "_deepnote_index_column": "2019-09-09T09:30:00.000000"
        },
        {
         "Close": 61.68000030517578,
         "RSI": 31.199265200164092,
         "rsi_signal": 0,
         "rsi_position": 1,
         "_deepnote_index_column": "2019-09-09T10:30:00.000000"
        },
        {
         "Close": 60.95000076293945,
         "RSI": 26.831748000691746,
         "rsi_signal": 1,
         "rsi_position": 1,
         "_deepnote_index_column": "2019-09-09T11:30:00.000000"
        },
        {
         "Close": 59.92499923706055,
         "RSI": 22.144278985487503,
         "rsi_signal": 0,
         "rsi_position": 1,
         "_deepnote_index_column": "2019-09-09T12:30:00.000000"
        },
        {
         "Close": 59.752201080322266,
         "RSI": 21.4635256434661,
         "rsi_signal": 0,
         "rsi_position": 1,
         "_deepnote_index_column": "2019-09-09T13:30:00.000000"
        },
        {
         "Close": 60.86000061035156,
         "RSI": 35.21396026007723,
         "rsi_signal": 0,
         "rsi_position": 1,
         "_deepnote_index_column": "2019-09-09T14:30:00.000000"
        },
        {
         "Close": 61.45000076293945,
         "RSI": 41.126084787633815,
         "rsi_signal": 0,
         "rsi_position": 1,
         "_deepnote_index_column": "2019-09-09T15:30:00.000000"
        },
        {
         "Close": 61.380001068115234,
         "RSI": 40.65208982897858,
         "rsi_signal": 0,
         "rsi_position": 1,
         "_deepnote_index_column": "2019-09-10T09:30:00.000000"
        },
        {
         "Close": 61.207298278808594,
         "RSI": 39.44419980419026,
         "rsi_signal": 0,
         "rsi_position": 1,
         "_deepnote_index_column": "2019-09-10T10:30:00.000000"
        },
        {
         "Close": 61.38999938964844,
         "RSI": 41.426953864843604,
         "rsi_signal": 0,
         "rsi_position": 1,
         "_deepnote_index_column": "2019-09-10T11:30:00.000000"
        },
        {
         "Close": 61.15800094604492,
         "RSI": 39.65153170633635,
         "rsi_signal": 0,
         "rsi_position": 1,
         "_deepnote_index_column": "2019-09-10T12:30:00.000000"
        },
        {
         "Close": 60.58000183105469,
         "RSI": 35.56235453208265,
         "rsi_signal": 0,
         "rsi_position": 1,
         "_deepnote_index_column": "2019-09-10T13:30:00.000000"
        },
        {
         "Close": 60.4900016784668,
         "RSI": 34.95782007743476,
         "rsi_signal": 0,
         "rsi_position": 1,
         "_deepnote_index_column": "2019-09-10T14:30:00.000000"
        },
        {
         "Close": 60.5,
         "RSI": 35.08983159487137,
         "rsi_signal": 0,
         "rsi_position": 1,
         "_deepnote_index_column": "2019-09-10T15:30:00.000000"
        },
        {
         "Close": 60.45000076293945,
         "RSI": 34.710431263175636,
         "rsi_signal": 0,
         "rsi_position": 1,
         "_deepnote_index_column": "2019-09-11T09:30:00.000000"
        },
        {
         "Close": 59.97999954223633,
         "RSI": 31.286012069255378,
         "rsi_signal": 0,
         "rsi_position": 1,
         "_deepnote_index_column": "2019-09-11T10:30:00.000000"
        },
        {
         "Close": 60.22999954223633,
         "RSI": 34.96156516206143,
         "rsi_signal": 0,
         "rsi_position": 1,
         "_deepnote_index_column": "2019-09-11T11:30:00.000000"
        },
        {
         "Close": 60.201499938964844,
         "RSI": 34.733473582269085,
         "rsi_signal": 0,
         "rsi_position": 1,
         "_deepnote_index_column": "2019-09-11T12:30:00.000000"
        },
        {
         "Close": 59.69340133666992,
         "RSI": 30.867066220279142,
         "rsi_signal": 0,
         "rsi_position": 1,
         "_deepnote_index_column": "2019-09-11T13:30:00.000000"
        },
        {
         "Close": 59.014198303222656,
         "RSI": 26.603826123092006,
         "rsi_signal": 0,
         "rsi_position": 1,
         "_deepnote_index_column": "2019-09-11T14:30:00.000000"
        },
        {
         "Close": 59.18000030517578,
         "RSI": 29.175425140218564,
         "rsi_signal": 0,
         "rsi_position": 1,
         "_deepnote_index_column": "2019-09-11T15:30:00.000000"
        },
        {
         "Close": 58.959598541259766,
         "RSI": 27.78193988799366,
         "rsi_signal": 0,
         "rsi_position": 1,
         "_deepnote_index_column": "2019-09-12T09:30:00.000000"
        },
        {
         "Close": 58.560001373291016,
         "RSI": 25.41210622296323,
         "rsi_signal": 0,
         "rsi_position": 1,
         "_deepnote_index_column": "2019-09-12T10:30:00.000000"
        },
        {
         "Close": 58.310001373291016,
         "RSI": 24.030992935645898,
         "rsi_signal": 0,
         "rsi_position": 1,
         "_deepnote_index_column": "2019-09-12T11:30:00.000000"
        },
        {
         "Close": 58.2400016784668,
         "RSI": 23.643519803717467,
         "rsi_signal": 0,
         "rsi_position": 1,
         "_deepnote_index_column": "2019-09-12T12:30:00.000000"
        },
        {
         "Close": 58,
         "RSI": 22.314995520248033,
         "rsi_signal": 0,
         "rsi_position": 1,
         "_deepnote_index_column": "2019-09-12T13:30:00.000000"
        },
        {
         "Close": 58.095001220703125,
         "RSI": 24.132243515548822,
         "rsi_signal": 0,
         "rsi_position": 1,
         "_deepnote_index_column": "2019-09-12T14:30:00.000000"
        },
        {
         "Close": 57.790000915527344,
         "RSI": 22.32651016547817,
         "rsi_signal": 0,
         "rsi_position": 1,
         "_deepnote_index_column": "2019-09-12T15:30:00.000000"
        },
        {
         "Close": 58.22999954223633,
         "RSI": 30.41566472174182,
         "rsi_signal": 0,
         "rsi_position": 1,
         "_deepnote_index_column": "2019-09-13T09:30:00.000000"
        },
        {
         "Close": 58.279998779296875,
         "RSI": 31.291330930679308,
         "rsi_signal": 0,
         "rsi_position": 1,
         "_deepnote_index_column": "2019-09-13T10:30:00.000000"
        },
        {
         "Close": 58.7599983215332,
         "RSI": 39.20144094501431,
         "rsi_signal": 0,
         "rsi_position": 1,
         "_deepnote_index_column": "2019-09-13T11:30:00.000000"
        },
        {
         "Close": 58.483699798583984,
         "RSI": 36.59013687760708,
         "rsi_signal": 0,
         "rsi_position": 1,
         "_deepnote_index_column": "2019-09-13T12:30:00.000000"
        },
        {
         "Close": 58.1349983215332,
         "RSI": 33.552472100782325,
         "rsi_signal": 0,
         "rsi_position": 1,
         "_deepnote_index_column": "2019-09-13T13:30:00.000000"
        },
        {
         "Close": 58.290000915527344,
         "RSI": 36.09226947083766,
         "rsi_signal": 0,
         "rsi_position": 1,
         "_deepnote_index_column": "2019-09-13T14:30:00.000000"
        },
        {
         "Close": 58.31999969482422,
         "RSI": 36.59736883542182,
         "rsi_signal": 0,
         "rsi_position": 1,
         "_deepnote_index_column": "2019-09-13T15:30:00.000000"
        },
        {
         "Close": 57.529998779296875,
         "RSI": 29.89623085528524,
         "rsi_signal": 0,
         "rsi_position": 1,
         "_deepnote_index_column": "2019-09-16T09:30:00.000000"
        },
        {
         "Close": 58.02510070800781,
         "RSI": 37.60681941149551,
         "rsi_signal": 0,
         "rsi_position": 1,
         "_deepnote_index_column": "2019-09-16T10:30:00.000000"
        },
        {
         "Close": 58.14889907836914,
         "RSI": 39.40160380356417,
         "rsi_signal": 0,
         "rsi_position": 1,
         "_deepnote_index_column": "2019-09-16T11:30:00.000000"
        },
        {
         "Close": 59.494998931884766,
         "RSI": 54.67038106742983,
         "rsi_signal": 0,
         "rsi_position": 1,
         "_deepnote_index_column": "2019-09-16T12:30:00.000000"
        },
        {
         "Close": 59.470001220703125,
         "RSI": 54.39627418755417,
         "rsi_signal": 0,
         "rsi_position": 1,
         "_deepnote_index_column": "2019-09-16T13:30:00.000000"
        },
        {
         "Close": 59.31999969482422,
         "RSI": 52.68913467093467,
         "rsi_signal": 0,
         "rsi_position": 1,
         "_deepnote_index_column": "2019-09-16T14:30:00.000000"
        },
        {
         "Close": 59.25,
         "RSI": 51.871028119650234,
         "rsi_signal": 0,
         "rsi_position": 1,
         "_deepnote_index_column": "2019-09-16T15:30:00.000000"
        },
        {
         "Close": 59.65999984741211,
         "RSI": 56.16430531501044,
         "rsi_signal": 0,
         "rsi_position": 1,
         "_deepnote_index_column": "2019-09-17T09:30:00.000000"
        },
        {
         "Close": 59.529998779296875,
         "RSI": 54.50410880387385,
         "rsi_signal": 0,
         "rsi_position": 1,
         "_deepnote_index_column": "2019-09-17T10:30:00.000000"
        },
        {
         "Close": 59.63999938964844,
         "RSI": 55.697439441628845,
         "rsi_signal": 0,
         "rsi_position": 1,
         "_deepnote_index_column": "2019-09-17T11:30:00.000000"
        },
        {
         "Close": 59.40999984741211,
         "RSI": 52.59131261275412,
         "rsi_signal": 0,
         "rsi_position": 1,
         "_deepnote_index_column": "2019-09-17T12:30:00.000000"
        },
        {
         "Close": 59.349998474121094,
         "RSI": 51.78004289955512,
         "rsi_signal": 0,
         "rsi_position": 1,
         "_deepnote_index_column": "2019-09-17T13:30:00.000000"
        },
        {
         "Close": 59.54999923706055,
         "RSI": 54.31007947961101,
         "rsi_signal": 0,
         "rsi_position": 1,
         "_deepnote_index_column": "2019-09-17T14:30:00.000000"
        },
        {
         "Close": 59.540000915527344,
         "RSI": 54.15709918079666,
         "rsi_signal": 0,
         "rsi_position": 1,
         "_deepnote_index_column": "2019-09-17T15:30:00.000000"
        },
        {
         "Close": 59.77000045776367,
         "RSI": 57.14741235638968,
         "rsi_signal": 0,
         "rsi_position": 1,
         "_deepnote_index_column": "2019-09-18T09:30:00.000000"
        },
        {
         "Close": 59.41999816894531,
         "RSI": 51.628394495885075,
         "rsi_signal": 0,
         "rsi_position": 1,
         "_deepnote_index_column": "2019-09-18T10:30:00.000000"
        },
        {
         "Close": 59.27000045776367,
         "RSI": 49.42539785796577,
         "rsi_signal": 0,
         "rsi_position": 1,
         "_deepnote_index_column": "2019-09-18T11:30:00.000000"
        },
        {
         "Close": 59.165000915527344,
         "RSI": 47.88507127842775,
         "rsi_signal": 0,
         "rsi_position": 1,
         "_deepnote_index_column": "2019-09-18T12:30:00.000000"
        },
        {
         "Close": 58.9900016784668,
         "RSI": 45.34843404198368,
         "rsi_signal": 0,
         "rsi_position": 1,
         "_deepnote_index_column": "2019-09-18T13:30:00.000000"
        },
        {
         "Close": 59.540000915527344,
         "RSI": 53.65743660572476,
         "rsi_signal": 0,
         "rsi_position": 1,
         "_deepnote_index_column": "2019-09-18T14:30:00.000000"
        },
        {
         "Close": 59.72999954223633,
         "RSI": 56.138310541790545,
         "rsi_signal": 0,
         "rsi_position": 1,
         "_deepnote_index_column": "2019-09-18T15:30:00.000000"
        },
        {
         "Close": 59.75,
         "RSI": 56.40289022981858,
         "rsi_signal": 0,
         "rsi_position": 1,
         "_deepnote_index_column": "2019-09-19T09:30:00.000000"
        },
        {
         "Close": 59.709999084472656,
         "RSI": 55.67948600495384,
         "rsi_signal": 0,
         "rsi_position": 1,
         "_deepnote_index_column": "2019-09-19T10:30:00.000000"
        },
        {
         "Close": 58.77109909057617,
         "RSI": 42.04762283889513,
         "rsi_signal": 0,
         "rsi_position": 1,
         "_deepnote_index_column": "2019-09-19T11:30:00.000000"
        },
        {
         "Close": 58.7599983215332,
         "RSI": 41.91695517014483,
         "rsi_signal": 0,
         "rsi_position": 1,
         "_deepnote_index_column": "2019-09-19T12:30:00.000000"
        },
        {
         "Close": 58.86009979248047,
         "RSI": 43.61846957729375,
         "rsi_signal": 0,
         "rsi_position": 1,
         "_deepnote_index_column": "2019-09-19T13:30:00.000000"
        },
        {
         "Close": 58.900001525878906,
         "RSI": 44.31868508535832,
         "rsi_signal": 0,
         "rsi_position": 1,
         "_deepnote_index_column": "2019-09-19T14:30:00.000000"
        },
        {
         "Close": 59.029998779296875,
         "RSI": 46.64360727636816,
         "rsi_signal": 0,
         "rsi_position": 1,
         "_deepnote_index_column": "2019-09-19T15:30:00.000000"
        },
        {
         "Close": 58.279998779296875,
         "RSI": 37.03565670482214,
         "rsi_signal": 0,
         "rsi_position": 1,
         "_deepnote_index_column": "2019-09-20T09:30:00.000000"
        },
        {
         "Close": 57.685001373291016,
         "RSI": 31.49329111023046,
         "rsi_signal": 0,
         "rsi_position": 1,
         "_deepnote_index_column": "2019-09-20T10:30:00.000000"
        },
        {
         "Close": 57.41999816894531,
         "RSI": 29.384134810865675,
         "rsi_signal": 0,
         "rsi_position": 1,
         "_deepnote_index_column": "2019-09-20T11:30:00.000000"
        },
        {
         "Close": 57.34000015258789,
         "RSI": 28.75800801053704,
         "rsi_signal": 0,
         "rsi_position": 1,
         "_deepnote_index_column": "2019-09-20T12:30:00.000000"
        },
        {
         "Close": 57.45000076293945,
         "RSI": 30.937193353802755,
         "rsi_signal": 0,
         "rsi_position": 1,
         "_deepnote_index_column": "2019-09-20T13:30:00.000000"
        },
        {
         "Close": 57.88010025024414,
         "RSI": 38.817511730381696,
         "rsi_signal": 0,
         "rsi_position": 1,
         "_deepnote_index_column": "2019-09-20T14:30:00.000000"
        },
        {
         "Close": 57.83000183105469,
         "RSI": 38.269745946893046,
         "rsi_signal": 0,
         "rsi_position": 1,
         "_deepnote_index_column": "2019-09-20T15:30:00.000000"
        },
        {
         "Close": 56.650001525878906,
         "RSI": 28.182211035507578,
         "rsi_signal": 0,
         "rsi_position": 1,
         "_deepnote_index_column": "2019-09-23T09:30:00.000000"
        },
        {
         "Close": 56.790000915527344,
         "RSI": 30.522150099026476,
         "rsi_signal": 0,
         "rsi_position": 1,
         "_deepnote_index_column": "2019-09-23T10:30:00.000000"
        },
        {
         "Close": 57,
         "RSI": 33.99605825253943,
         "rsi_signal": 0,
         "rsi_position": 1,
         "_deepnote_index_column": "2019-09-23T11:30:00.000000"
        },
        {
         "Close": 56.689998626708984,
         "RSI": 31.492754719211646,
         "rsi_signal": 0,
         "rsi_position": 1,
         "_deepnote_index_column": "2019-09-23T12:30:00.000000"
        },
        {
         "Close": 56.6599006652832,
         "RSI": 31.25213963460942,
         "rsi_signal": 0,
         "rsi_position": 1,
         "_deepnote_index_column": "2019-09-23T13:30:00.000000"
        },
        {
         "Close": 56.7598991394043,
         "RSI": 33.081500439459674,
         "rsi_signal": 0,
         "rsi_position": 1,
         "_deepnote_index_column": "2019-09-23T14:30:00.000000"
        },
        {
         "Close": 56.75,
         "RSI": 32.987920260755985,
         "rsi_signal": 0,
         "rsi_position": 1,
         "_deepnote_index_column": "2019-09-23T15:30:00.000000"
        },
        {
         "Close": 56.790000915527344,
         "RSI": 33.802803606727224,
         "rsi_signal": 0,
         "rsi_position": 1,
         "_deepnote_index_column": "2019-09-24T09:30:00.000000"
        },
        {
         "Close": 57.70000076293945,
         "RSI": 48.99744216880438,
         "rsi_signal": 0,
         "rsi_position": 1,
         "_deepnote_index_column": "2019-09-24T10:30:00.000000"
        },
        {
         "Close": 56.25,
         "RSI": 35.151872336709914,
         "rsi_signal": 0,
         "rsi_position": 1,
         "_deepnote_index_column": "2019-09-24T11:30:00.000000"
        },
        {
         "Close": 56.20000076293945,
         "RSI": 34.78683925415463,
         "rsi_signal": 0,
         "rsi_position": 1,
         "_deepnote_index_column": "2019-09-24T12:30:00.000000"
        },
        {
         "Close": 57.09000015258789,
         "RSI": 45.61332039064736,
         "rsi_signal": 0,
         "rsi_position": 1,
         "_deepnote_index_column": "2019-09-24T13:30:00.000000"
        },
        {
         "Close": 56.86000061035156,
         "RSI": 43.59890246955579,
         "rsi_signal": 0,
         "rsi_position": 1,
         "_deepnote_index_column": "2019-09-24T14:30:00.000000"
        },
        {
         "Close": 57.529998779296875,
         "RSI": 50.46210430259836,
         "rsi_signal": 0,
         "rsi_position": 1,
         "_deepnote_index_column": "2019-09-24T15:30:00.000000"
        },
        {
         "Close": 57.25,
         "RSI": 47.842016200670116,
         "rsi_signal": 0,
         "rsi_position": 1,
         "_deepnote_index_column": "2019-09-25T09:30:00.000000"
        },
        {
         "Close": 57.900001525878906,
         "RSI": 53.83455049563226,
         "rsi_signal": 0,
         "rsi_position": 1,
         "_deepnote_index_column": "2019-09-25T10:30:00.000000"
        },
        {
         "Close": 57.95000076293945,
         "RSI": 54.269788318720536,
         "rsi_signal": 0,
         "rsi_position": 1,
         "_deepnote_index_column": "2019-09-25T11:30:00.000000"
        },
        {
         "Close": 57.9900016784668,
         "RSI": 54.63824854365595,
         "rsi_signal": 0,
         "rsi_position": 1,
         "_deepnote_index_column": "2019-09-25T12:30:00.000000"
        },
        {
         "Close": 58.35639953613281,
         "RSI": 57.978125733979965,
         "rsi_signal": 0,
         "rsi_position": 1,
         "_deepnote_index_column": "2019-09-25T13:30:00.000000"
        },
        {
         "Close": 58.80500030517578,
         "RSI": 61.69663902323026,
         "rsi_signal": 0,
         "rsi_position": 1,
         "_deepnote_index_column": "2019-09-25T14:30:00.000000"
        },
        {
         "Close": 58.540000915527344,
         "RSI": 58.40857637776815,
         "rsi_signal": 0,
         "rsi_position": 1,
         "_deepnote_index_column": "2019-09-25T15:30:00.000000"
        },
        {
         "Close": 60.994998931884766,
         "RSI": 72.84629617973096,
         "rsi_signal": -1,
         "rsi_position": 0,
         "_deepnote_index_column": "2019-09-26T09:30:00.000000"
        },
        {
         "Close": 60.23500061035156,
         "RSI": 65.29033230233631,
         "rsi_signal": 0,
         "rsi_position": 0,
         "_deepnote_index_column": "2019-09-26T10:30:00.000000"
        },
        {
         "Close": 60.43220138549805,
         "RSI": 66.26803039083875,
         "rsi_signal": 0,
         "rsi_position": 0,
         "_deepnote_index_column": "2019-09-26T11:30:00.000000"
        },
        {
         "Close": 60.18000030517578,
         "RSI": 63.79316562759563,
         "rsi_signal": 0,
         "rsi_position": 0,
         "_deepnote_index_column": "2019-09-26T12:30:00.000000"
        },
        {
         "Close": 60.79499816894531,
         "RSI": 67.02699625221422,
         "rsi_signal": 0,
         "rsi_position": 0,
         "_deepnote_index_column": "2019-09-26T13:30:00.000000"
        },
        {
         "Close": 60.685001373291016,
         "RSI": 65.89339656209,
         "rsi_signal": 0,
         "rsi_position": 0,
         "_deepnote_index_column": "2019-09-26T14:30:00.000000"
        }
       ],
       "rows_bottom": [
        {
         "Close": 236.74000549316406,
         "RSI": 40.95622476819152,
         "rsi_signal": 0,
         "rsi_position": 1,
         "_deepnote_index_column": "2021-07-16T10:30:00.000000"
        },
        {
         "Close": 239.3300018310547,
         "RSI": 51.42058225906689,
         "rsi_signal": 0,
         "rsi_position": 1,
         "_deepnote_index_column": "2021-07-16T11:30:00.000000"
        },
        {
         "Close": 238.49400329589844,
         "RSI": 48.43655525778603,
         "rsi_signal": 0,
         "rsi_position": 1,
         "_deepnote_index_column": "2021-07-16T12:30:00.000000"
        },
        {
         "Close": 237.6909942626953,
         "RSI": 45.693588034749794,
         "rsi_signal": 0,
         "rsi_position": 1,
         "_deepnote_index_column": "2021-07-16T13:30:00.000000"
        },
        {
         "Close": 237.264892578125,
         "RSI": 44.261240342174936,
         "rsi_signal": 0,
         "rsi_position": 1,
         "_deepnote_index_column": "2021-07-16T14:30:00.000000"
        },
        {
         "Close": 237.55999755859375,
         "RSI": 45.534630865901825,
         "rsi_signal": 0,
         "rsi_position": 1,
         "_deepnote_index_column": "2021-07-16T15:30:00.000000"
        },
        {
         "Close": 228.5399932861328,
         "RSI": 25.99005116903301,
         "rsi_signal": 0,
         "rsi_position": 1,
         "_deepnote_index_column": "2021-07-19T09:30:00.000000"
        },
        {
         "Close": 231.9199981689453,
         "RSI": 36.91685443384272,
         "rsi_signal": 0,
         "rsi_position": 1,
         "_deepnote_index_column": "2021-07-19T10:30:00.000000"
        },
        {
         "Close": 231.61000061035156,
         "RSI": 36.386255932548906,
         "rsi_signal": 0,
         "rsi_position": 1,
         "_deepnote_index_column": "2021-07-19T11:30:00.000000"
        },
        {
         "Close": 230.59500122070312,
         "RSI": 34.63116115425707,
         "rsi_signal": 0,
         "rsi_position": 1,
         "_deepnote_index_column": "2021-07-19T12:30:00.000000"
        },
        {
         "Close": 232.83450317382812,
         "RSI": 41.352878597817295,
         "rsi_signal": 0,
         "rsi_position": 1,
         "_deepnote_index_column": "2021-07-19T13:30:00.000000"
        },
        {
         "Close": 232,
         "RSI": 39.71411756179195,
         "rsi_signal": 0,
         "rsi_position": 1,
         "_deepnote_index_column": "2021-07-19T14:30:00.000000"
        },
        {
         "Close": 233.69000244140625,
         "RSI": 44.5100010342109,
         "rsi_signal": 0,
         "rsi_position": 1,
         "_deepnote_index_column": "2021-07-19T15:30:00.000000"
        },
        {
         "Close": 236.32000732421875,
         "RSI": 51.037814039750664,
         "rsi_signal": 0,
         "rsi_position": 1,
         "_deepnote_index_column": "2021-07-20T09:30:00.000000"
        },
        {
         "Close": 242.10000610351562,
         "RSI": 61.701178905109536,
         "rsi_signal": 0,
         "rsi_position": 1,
         "_deepnote_index_column": "2021-07-20T10:30:00.000000"
        },
        {
         "Close": 241.95449829101562,
         "RSI": 61.33900807572947,
         "rsi_signal": 0,
         "rsi_position": 1,
         "_deepnote_index_column": "2021-07-20T11:30:00.000000"
        },
        {
         "Close": 244.2050018310547,
         "RSI": 64.78219327888951,
         "rsi_signal": 0,
         "rsi_position": 1,
         "_deepnote_index_column": "2021-07-20T12:30:00.000000"
        },
        {
         "Close": 246.2899932861328,
         "RSI": 67.65619949308126,
         "rsi_signal": 0,
         "rsi_position": 1,
         "_deepnote_index_column": "2021-07-20T13:30:00.000000"
        },
        {
         "Close": 246.75,
         "RSI": 68.27140583133979,
         "rsi_signal": 0,
         "rsi_position": 1,
         "_deepnote_index_column": "2021-07-20T14:30:00.000000"
        },
        {
         "Close": 246.5399932861328,
         "RSI": 67.63887771225083,
         "rsi_signal": 0,
         "rsi_position": 1,
         "_deepnote_index_column": "2021-07-20T15:30:00.000000"
        },
        {
         "Close": 252.5,
         "RSI": 74.7802288214044,
         "rsi_signal": -1,
         "rsi_position": 0,
         "_deepnote_index_column": "2021-07-21T09:30:00.000000"
        },
        {
         "Close": 252.33999633789062,
         "RSI": 74.30615122133098,
         "rsi_signal": 0,
         "rsi_position": 0,
         "_deepnote_index_column": "2021-07-21T10:30:00.000000"
        },
        {
         "Close": 253.4499969482422,
         "RSI": 75.4680612387204,
         "rsi_signal": 0,
         "rsi_position": 0,
         "_deepnote_index_column": "2021-07-21T11:30:00.000000"
        },
        {
         "Close": 256.31298828125,
         "RSI": 78.20565304134706,
         "rsi_signal": 0,
         "rsi_position": 0,
         "_deepnote_index_column": "2021-07-21T12:30:00.000000"
        },
        {
         "Close": 258.3500061035156,
         "RSI": 79.92240659002385,
         "rsi_signal": 0,
         "rsi_position": 0,
         "_deepnote_index_column": "2021-07-21T13:30:00.000000"
        },
        {
         "Close": 256.864990234375,
         "RSI": 75.26768609627354,
         "rsi_signal": 0,
         "rsi_position": 0,
         "_deepnote_index_column": "2021-07-21T14:30:00.000000"
        },
        {
         "Close": 257.25,
         "RSI": 75.66342598681543,
         "rsi_signal": 0,
         "rsi_position": 0,
         "_deepnote_index_column": "2021-07-21T15:30:00.000000"
        },
        {
         "Close": 261.4700012207031,
         "RSI": 79.52971625695363,
         "rsi_signal": 0,
         "rsi_position": 0,
         "_deepnote_index_column": "2021-07-22T09:30:00.000000"
        },
        {
         "Close": 259.3299865722656,
         "RSI": 73.18051181140534,
         "rsi_signal": 0,
         "rsi_position": 0,
         "_deepnote_index_column": "2021-07-22T10:30:00.000000"
        },
        {
         "Close": 259.55999755859375,
         "RSI": 73.42607434854312,
         "rsi_signal": 0,
         "rsi_position": 0,
         "_deepnote_index_column": "2021-07-22T11:30:00.000000"
        },
        {
         "Close": 260.5299987792969,
         "RSI": 74.48699199999051,
         "rsi_signal": 0,
         "rsi_position": 0,
         "_deepnote_index_column": "2021-07-22T12:30:00.000000"
        },
        {
         "Close": 260.9700012207031,
         "RSI": 74.97504474309639,
         "rsi_signal": 0,
         "rsi_position": 0,
         "_deepnote_index_column": "2021-07-22T13:30:00.000000"
        },
        {
         "Close": 260.25,
         "RSI": 72.5300065939112,
         "rsi_signal": 0,
         "rsi_position": 0,
         "_deepnote_index_column": "2021-07-22T14:30:00.000000"
        },
        {
         "Close": 260.6000061035156,
         "RSI": 72.99111457264463,
         "rsi_signal": 0,
         "rsi_position": 0,
         "_deepnote_index_column": "2021-07-22T15:30:00.000000"
        },
        {
         "Close": 265.1700134277344,
         "RSI": 78.1487085802193,
         "rsi_signal": 0,
         "rsi_position": 0,
         "_deepnote_index_column": "2021-07-23T09:30:00.000000"
        },
        {
         "Close": 264.2900085449219,
         "RSI": 75.17191333323245,
         "rsi_signal": 0,
         "rsi_position": 0,
         "_deepnote_index_column": "2021-07-23T10:30:00.000000"
        },
        {
         "Close": 263.6000061035156,
         "RSI": 72.82938930089827,
         "rsi_signal": 0,
         "rsi_position": 0,
         "_deepnote_index_column": "2021-07-23T11:30:00.000000"
        },
        {
         "Close": 263.1000061035156,
         "RSI": 71.10035239126836,
         "rsi_signal": 0,
         "rsi_position": 0,
         "_deepnote_index_column": "2021-07-23T12:30:00.000000"
        },
        {
         "Close": 263.8299865722656,
         "RSI": 72.14027343121472,
         "rsi_signal": 0,
         "rsi_position": 0,
         "_deepnote_index_column": "2021-07-23T13:30:00.000000"
        },
        {
         "Close": 263.8399963378906,
         "RSI": 72.15506966910759,
         "rsi_signal": 0,
         "rsi_position": 0,
         "_deepnote_index_column": "2021-07-23T14:30:00.000000"
        },
        {
         "Close": 264.07000732421875,
         "RSI": 72.51627931278662,
         "rsi_signal": 0,
         "rsi_position": 0,
         "_deepnote_index_column": "2021-07-23T15:30:00.000000"
        },
        {
         "Close": 263.79998779296875,
         "RSI": 71.34619992290044,
         "rsi_signal": 0,
         "rsi_position": 0,
         "_deepnote_index_column": "2021-07-26T09:30:00.000000"
        },
        {
         "Close": 261.90008544921875,
         "RSI": 63.57342313426679,
         "rsi_signal": 0,
         "rsi_position": 0,
         "_deepnote_index_column": "2021-07-26T10:30:00.000000"
        },
        {
         "Close": 262.4599914550781,
         "RSI": 64.79081352999135,
         "rsi_signal": 0,
         "rsi_position": 0,
         "_deepnote_index_column": "2021-07-26T11:30:00.000000"
        },
        {
         "Close": 262.6000061035156,
         "RSI": 65.10487832630281,
         "rsi_signal": 0,
         "rsi_position": 0,
         "_deepnote_index_column": "2021-07-26T12:30:00.000000"
        },
        {
         "Close": 261.5639953613281,
         "RSI": 60.78440892352515,
         "rsi_signal": 0,
         "rsi_position": 0,
         "_deepnote_index_column": "2021-07-26T13:30:00.000000"
        },
        {
         "Close": 262.54998779296875,
         "RSI": 63.281833575893735,
         "rsi_signal": 0,
         "rsi_position": 0,
         "_deepnote_index_column": "2021-07-26T14:30:00.000000"
        },
        {
         "Close": 262.04998779296875,
         "RSI": 61.15493753736774,
         "rsi_signal": 0,
         "rsi_position": 0,
         "_deepnote_index_column": "2021-07-26T15:30:00.000000"
        },
        {
         "Close": 253.86720275878906,
         "RSI": 38.40530955063534,
         "rsi_signal": 0,
         "rsi_position": 0,
         "_deepnote_index_column": "2021-07-27T09:30:00.000000"
        },
        {
         "Close": 246.5540008544922,
         "RSI": 28.279914625214246,
         "rsi_signal": 1,
         "rsi_position": 1,
         "_deepnote_index_column": "2021-07-27T10:30:00.000000"
        },
        {
         "Close": 248.99000549316406,
         "RSI": 34.47676829855696,
         "rsi_signal": 0,
         "rsi_position": 1,
         "_deepnote_index_column": "2021-07-27T11:30:00.000000"
        },
        {
         "Close": 247.6300048828125,
         "RSI": 32.774186300491564,
         "rsi_signal": 0,
         "rsi_position": 1,
         "_deepnote_index_column": "2021-07-27T12:30:00.000000"
        },
        {
         "Close": 250.61000061035156,
         "RSI": 39.790481639076006,
         "rsi_signal": 0,
         "rsi_position": 1,
         "_deepnote_index_column": "2021-07-27T13:30:00.000000"
        },
        {
         "Close": 252.27000427246094,
         "RSI": 43.338131682988724,
         "rsi_signal": 0,
         "rsi_position": 1,
         "_deepnote_index_column": "2021-07-27T14:30:00.000000"
        },
        {
         "Close": 251.72999572753906,
         "RSI": 42.461638312988526,
         "rsi_signal": 0,
         "rsi_position": 1,
         "_deepnote_index_column": "2021-07-27T15:30:00.000000"
        },
        {
         "Close": 256.29998779296875,
         "RSI": 51.416636917771534,
         "rsi_signal": 0,
         "rsi_position": 1,
         "_deepnote_index_column": "2021-07-28T09:30:00.000000"
        },
        {
         "Close": 258.4150085449219,
         "RSI": 54.913946837065645,
         "rsi_signal": 0,
         "rsi_position": 1,
         "_deepnote_index_column": "2021-07-28T10:30:00.000000"
        },
        {
         "Close": 258.95001220703125,
         "RSI": 55.781071551426656,
         "rsi_signal": 0,
         "rsi_position": 1,
         "_deepnote_index_column": "2021-07-28T11:30:00.000000"
        },
        {
         "Close": 257.0400085449219,
         "RSI": 51.94040333078087,
         "rsi_signal": 0,
         "rsi_position": 1,
         "_deepnote_index_column": "2021-07-28T12:30:00.000000"
        },
        {
         "Close": 258.4800109863281,
         "RSI": 54.48482934063475,
         "rsi_signal": 0,
         "rsi_position": 1,
         "_deepnote_index_column": "2021-07-28T13:30:00.000000"
        },
        {
         "Close": 259.7099914550781,
         "RSI": 56.598485127860556,
         "rsi_signal": 0,
         "rsi_position": 1,
         "_deepnote_index_column": "2021-07-28T14:30:00.000000"
        },
        {
         "Close": 258.4700012207031,
         "RSI": 53.8818856878521,
         "rsi_signal": 0,
         "rsi_position": 1,
         "_deepnote_index_column": "2021-07-28T15:30:00.000000"
        },
        {
         "Close": 259.70001220703125,
         "RSI": 56.13120894995631,
         "rsi_signal": 0,
         "rsi_position": 1,
         "_deepnote_index_column": "2021-07-29T09:30:00.000000"
        },
        {
         "Close": 260.1900939941406,
         "RSI": 57.030468802377236,
         "rsi_signal": 0,
         "rsi_position": 1,
         "_deepnote_index_column": "2021-07-29T10:30:00.000000"
        },
        {
         "Close": 260.2200012207031,
         "RSI": 57.08827810643131,
         "rsi_signal": 0,
         "rsi_position": 1,
         "_deepnote_index_column": "2021-07-29T11:30:00.000000"
        },
        {
         "Close": 257.864990234375,
         "RSI": 51.24217874108189,
         "rsi_signal": 0,
         "rsi_position": 1,
         "_deepnote_index_column": "2021-07-29T12:30:00.000000"
        },
        {
         "Close": 255.4700927734375,
         "RSI": 46.074895400881125,
         "rsi_signal": 0,
         "rsi_position": 1,
         "_deepnote_index_column": "2021-07-29T13:30:00.000000"
        },
        {
         "Close": 254.93499755859375,
         "RSI": 44.98341500725757,
         "rsi_signal": 0,
         "rsi_position": 1,
         "_deepnote_index_column": "2021-07-29T14:30:00.000000"
        },
        {
         "Close": 255.27000427246094,
         "RSI": 45.84832438774067,
         "rsi_signal": 0,
         "rsi_position": 1,
         "_deepnote_index_column": "2021-07-29T15:30:00.000000"
        },
        {
         "Close": 251.60499572753906,
         "RSI": 38.6834533242956,
         "rsi_signal": 0,
         "rsi_position": 1,
         "_deepnote_index_column": "2021-07-30T09:30:00.000000"
        },
        {
         "Close": 248.32000732421875,
         "RSI": 33.613112301369256,
         "rsi_signal": 0,
         "rsi_position": 1,
         "_deepnote_index_column": "2021-07-30T10:30:00.000000"
        },
        {
         "Close": 247.17999267578125,
         "RSI": 32.043428471219855,
         "rsi_signal": 0,
         "rsi_position": 1,
         "_deepnote_index_column": "2021-07-30T11:30:00.000000"
        },
        {
         "Close": 247.59840393066406,
         "RSI": 33.275027871629675,
         "rsi_signal": 0,
         "rsi_position": 1,
         "_deepnote_index_column": "2021-07-30T12:30:00.000000"
        },
        {
         "Close": 245.77000427246094,
         "RSI": 30.660076042982354,
         "rsi_signal": 0,
         "rsi_position": 1,
         "_deepnote_index_column": "2021-07-30T13:30:00.000000"
        },
        {
         "Close": 245.9199981689453,
         "RSI": 31.138167496070835,
         "rsi_signal": 0,
         "rsi_position": 1,
         "_deepnote_index_column": "2021-07-30T14:30:00.000000"
        },
        {
         "Close": 247.25,
         "RSI": 35.39197119630708,
         "rsi_signal": 0,
         "rsi_position": 1,
         "_deepnote_index_column": "2021-07-30T15:30:00.000000"
        },
        {
         "Close": 269.95001220703125,
         "RSI": 69.7446120985707,
         "rsi_signal": 0,
         "rsi_position": 1,
         "_deepnote_index_column": "2021-08-02T09:30:00.000000"
        },
        {
         "Close": 275.239990234375,
         "RSI": 73.30658229953023,
         "rsi_signal": -1,
         "rsi_position": 0,
         "_deepnote_index_column": "2021-08-02T10:30:00.000000"
        },
        {
         "Close": 275.19000244140625,
         "RSI": 73.21886095035569,
         "rsi_signal": 0,
         "rsi_position": 0,
         "_deepnote_index_column": "2021-08-02T11:30:00.000000"
        },
        {
         "Close": 276.32000732421875,
         "RSI": 73.97695227970584,
         "rsi_signal": 0,
         "rsi_position": 0,
         "_deepnote_index_column": "2021-08-02T12:30:00.000000"
        },
        {
         "Close": 279.6247863769531,
         "RSI": 76.10709289042006,
         "rsi_signal": 0,
         "rsi_position": 0,
         "_deepnote_index_column": "2021-08-02T13:30:00.000000"
        },
        {
         "Close": 273.1388854980469,
         "RSI": 64.88206697336383,
         "rsi_signal": 0,
         "rsi_position": 0,
         "_deepnote_index_column": "2021-08-02T14:30:00.000000"
        },
        {
         "Close": 272.3999938964844,
         "RSI": 63.72889595179554,
         "rsi_signal": 0,
         "rsi_position": 0,
         "_deepnote_index_column": "2021-08-02T15:30:00.000000"
        },
        {
         "Close": 266.0799865722656,
         "RSI": 54.76328180258665,
         "rsi_signal": 0,
         "rsi_position": 0,
         "_deepnote_index_column": "2021-08-03T09:30:00.000000"
        },
        {
         "Close": 263.30999755859375,
         "RSI": 51.353262497595075,
         "rsi_signal": 0,
         "rsi_position": 0,
         "_deepnote_index_column": "2021-08-03T10:30:00.000000"
        },
        {
         "Close": 271.67999267578125,
         "RSI": 59.54963452890933,
         "rsi_signal": 0,
         "rsi_position": 0,
         "_deepnote_index_column": "2021-08-03T11:30:00.000000"
        },
        {
         "Close": 268.8900146484375,
         "RSI": 56.15335141160018,
         "rsi_signal": 0,
         "rsi_position": 0,
         "_deepnote_index_column": "2021-08-03T12:30:00.000000"
        },
        {
         "Close": 266.9849853515625,
         "RSI": 53.89316612449326,
         "rsi_signal": 0,
         "rsi_position": 0,
         "_deepnote_index_column": "2021-08-03T13:30:00.000000"
        },
        {
         "Close": 269.6798095703125,
         "RSI": 56.55696820831437,
         "rsi_signal": 0,
         "rsi_position": 0,
         "_deepnote_index_column": "2021-08-03T14:30:00.000000"
        },
        {
         "Close": 269.3999938964844,
         "RSI": 56.19392999658841,
         "rsi_signal": 0,
         "rsi_position": 0,
         "_deepnote_index_column": "2021-08-03T15:30:00.000000"
        },
        {
         "Close": 263.5899963378906,
         "RSI": 49.14058486305854,
         "rsi_signal": 0,
         "rsi_position": 0,
         "_deepnote_index_column": "2021-08-04T09:30:00.000000"
        },
        {
         "Close": 265.6600036621094,
         "RSI": 51.47743106430032,
         "rsi_signal": 0,
         "rsi_position": 0,
         "_deepnote_index_column": "2021-08-04T10:30:00.000000"
        },
        {
         "Close": 265.4100036621094,
         "RSI": 51.171628714108415,
         "rsi_signal": 0,
         "rsi_position": 0,
         "_deepnote_index_column": "2021-08-04T11:30:00.000000"
        },
        {
         "Close": 266.4849853515625,
         "RSI": 52.4788720455278,
         "rsi_signal": 0,
         "rsi_position": 0,
         "_deepnote_index_column": "2021-08-04T12:30:00.000000"
        },
        {
         "Close": 265.9200134277344,
         "RSI": 51.695536691297825,
         "rsi_signal": 0,
         "rsi_position": 0,
         "_deepnote_index_column": "2021-08-04T13:30:00.000000"
        },
        {
         "Close": 265.5,
         "RSI": 51.08504742986717,
         "rsi_signal": 0,
         "rsi_position": 0,
         "_deepnote_index_column": "2021-08-04T14:30:00.000000"
        },
        {
         "Close": 266.45001220703125,
         "RSI": 52.45277882267458,
         "rsi_signal": 0,
         "rsi_position": 0,
         "_deepnote_index_column": "2021-08-04T15:30:00.000000"
        },
        {
         "Close": 278.2344970703125,
         "RSI": 65.38318974009778,
         "rsi_signal": 0,
         "rsi_position": 0,
         "_deepnote_index_column": "2021-08-05T09:30:00.000000"
        },
        {
         "Close": 287.25,
         "RSI": 71.71952234395063,
         "rsi_signal": 0,
         "rsi_position": 0,
         "_deepnote_index_column": "2021-08-05T10:30:00.000000"
        },
        {
         "Close": 287.32000732421875,
         "RSI": 71.76274501453973,
         "rsi_signal": 0,
         "rsi_position": 0,
         "_deepnote_index_column": "2021-08-05T11:30:00.000000"
        },
        {
         "Close": 283.7300109863281,
         "RSI": 66.17716562091542,
         "rsi_signal": 0,
         "rsi_position": 0,
         "_deepnote_index_column": "2021-08-05T12:30:00.000000"
        },
        {
         "Close": 283.8900146484375,
         "RSI": 66.30305246579766,
         "rsi_signal": 0,
         "rsi_position": 0,
         "_deepnote_index_column": "2021-08-05T13:30:00.000000"
        },
        {
         "Close": 282.4599914550781,
         "RSI": 64.00998966578655,
         "rsi_signal": 0,
         "rsi_position": 0,
         "_deepnote_index_column": "2021-08-05T14:30:00.000000"
        },
        {
         "Close": 281.79998779296875,
         "RSI": 62.9282664727926,
         "rsi_signal": 0,
         "rsi_position": 0,
         "_deepnote_index_column": "2021-08-05T15:30:00.000000"
        },
        {
         "Close": 279.1000061035156,
         "RSI": 58.56786073461764,
         "rsi_signal": 0,
         "rsi_position": 0,
         "_deepnote_index_column": "2021-08-06T09:30:00.000000"
        },
        {
         "Close": 277.2200012207031,
         "RSI": 55.67502105377608,
         "rsi_signal": 0,
         "rsi_position": 0,
         "_deepnote_index_column": "2021-08-06T10:30:00.000000"
        },
        {
         "Close": 278.6400146484375,
         "RSI": 57.38710176734185,
         "rsi_signal": 0,
         "rsi_position": 0,
         "_deepnote_index_column": "2021-08-06T11:30:00.000000"
        },
        {
         "Close": 276.6119079589844,
         "RSI": 54.16893165539531,
         "rsi_signal": 0,
         "rsi_position": 0,
         "_deepnote_index_column": "2021-08-06T12:30:00.000000"
        },
        {
         "Close": 276.2349853515625,
         "RSI": 53.567697345559125,
         "rsi_signal": 0,
         "rsi_position": 0,
         "_deepnote_index_column": "2021-08-06T13:30:00.000000"
        },
        {
         "Close": 276.0409851074219,
         "RSI": 53.240154913681685,
         "rsi_signal": 0,
         "rsi_position": 0,
         "_deepnote_index_column": "2021-08-06T14:30:00.000000"
        },
        {
         "Close": 275.06500244140625,
         "RSI": 51.532993929250736,
         "rsi_signal": 0,
         "rsi_position": 0,
         "_deepnote_index_column": "2021-08-06T15:30:00.000000"
        },
        {
         "Close": 281.2298889160156,
         "RSI": 60.211753032007124,
         "rsi_signal": 0,
         "rsi_position": 0,
         "_deepnote_index_column": "2021-08-09T09:30:00.000000"
        },
        {
         "Close": 280.7699890136719,
         "RSI": 59.35784231611696,
         "rsi_signal": 0,
         "rsi_position": 0,
         "_deepnote_index_column": "2021-08-09T10:30:00.000000"
        },
        {
         "Close": 282.98480224609375,
         "RSI": 62.142319533602425,
         "rsi_signal": 0,
         "rsi_position": 0,
         "_deepnote_index_column": "2021-08-09T11:30:00.000000"
        },
        {
         "Close": 284.364990234375,
         "RSI": 63.8064373265033,
         "rsi_signal": 0,
         "rsi_position": 0,
         "_deepnote_index_column": "2021-08-09T12:30:00.000000"
        },
        {
         "Close": 282.67999267578125,
         "RSI": 60.320339607273134,
         "rsi_signal": 0,
         "rsi_position": 0,
         "_deepnote_index_column": "2021-08-09T13:30:00.000000"
        },
        {
         "Close": 280.5799865722656,
         "RSI": 56.199254535761995,
         "rsi_signal": 0,
         "rsi_position": 0,
         "_deepnote_index_column": "2021-08-09T14:30:00.000000"
        },
        {
         "Close": 279.7099914550781,
         "RSI": 54.536916571586595,
         "rsi_signal": 0,
         "rsi_position": 0,
         "_deepnote_index_column": "2021-08-09T15:30:00.000000"
        },
        {
         "Close": 278.1571960449219,
         "RSI": 51.603012363740206,
         "rsi_signal": 0,
         "rsi_position": 0,
         "_deepnote_index_column": "2021-08-10T09:30:00.000000"
        },
        {
         "Close": 277.5,
         "RSI": 50.36798851749482,
         "rsi_signal": 0,
         "rsi_position": 0,
         "_deepnote_index_column": "2021-08-10T10:30:00.000000"
        },
        {
         "Close": 277.697998046875,
         "RSI": 50.75041985247875,
         "rsi_signal": 0,
         "rsi_position": 0,
         "_deepnote_index_column": "2021-08-10T11:30:00.000000"
        },
        {
         "Close": 276.7699890136719,
         "RSI": 48.85049449992493,
         "rsi_signal": 0,
         "rsi_position": 0,
         "_deepnote_index_column": "2021-08-10T12:30:00.000000"
        },
        {
         "Close": 275.375,
         "RSI": 46.05913396894148,
         "rsi_signal": 0,
         "rsi_position": 0,
         "_deepnote_index_column": "2021-08-10T13:30:00.000000"
        },
        {
         "Close": 274.04998779296875,
         "RSI": 43.51566541082736,
         "rsi_signal": 0,
         "rsi_position": 0,
         "_deepnote_index_column": "2021-08-10T14:30:00.000000"
        },
        {
         "Close": 272.92999267578125,
         "RSI": 41.4329159176754,
         "rsi_signal": 0,
         "rsi_position": 0,
         "_deepnote_index_column": "2021-08-10T15:30:00.000000"
        }
       ]
      },
      "text/plain": "                                Close        RSI  rsi_signal  rsi_position\nDatetime                                                                  \n2019-09-03 09:30:00-04:00   62.959999        NaN           0             1\n2019-09-03 10:30:00-04:00   62.320000   0.000000           0             1\n2019-09-03 11:30:00-04:00   62.000000   0.000000           0             1\n2019-09-03 12:30:00-04:00   61.774899   0.000000           0             1\n2019-09-03 13:30:00-04:00   61.360001   0.000000           0             1\n...                               ...        ...         ...           ...\n2021-08-10 11:30:00-04:00  277.697998  50.750420           0             0\n2021-08-10 12:30:00-04:00  276.769989  48.850494           0             0\n2021-08-10 13:30:00-04:00  275.375000  46.059134           0             0\n2021-08-10 14:30:00-04:00  274.049988  43.515665           0             0\n2021-08-10 15:30:00-04:00  272.929993  41.432916           0             0\n\n[3411 rows x 4 columns]",
      "text/html": "<div>\n<style scoped>\n    .dataframe tbody tr th:only-of-type {\n        vertical-align: middle;\n    }\n\n    .dataframe tbody tr th {\n        vertical-align: top;\n    }\n\n    .dataframe thead th {\n        text-align: right;\n    }\n</style>\n<table border=\"1\" class=\"dataframe\">\n  <thead>\n    <tr style=\"text-align: right;\">\n      <th></th>\n      <th>Close</th>\n      <th>RSI</th>\n      <th>rsi_signal</th>\n      <th>rsi_position</th>\n    </tr>\n    <tr>\n      <th>Datetime</th>\n      <th></th>\n      <th></th>\n      <th></th>\n      <th></th>\n    </tr>\n  </thead>\n  <tbody>\n    <tr>\n      <th>2019-09-03 09:30:00-04:00</th>\n      <td>62.959999</td>\n      <td>NaN</td>\n      <td>0</td>\n      <td>1</td>\n    </tr>\n    <tr>\n      <th>2019-09-03 10:30:00-04:00</th>\n      <td>62.320000</td>\n      <td>0.000000</td>\n      <td>0</td>\n      <td>1</td>\n    </tr>\n    <tr>\n      <th>2019-09-03 11:30:00-04:00</th>\n      <td>62.000000</td>\n      <td>0.000000</td>\n      <td>0</td>\n      <td>1</td>\n    </tr>\n    <tr>\n      <th>2019-09-03 12:30:00-04:00</th>\n      <td>61.774899</td>\n      <td>0.000000</td>\n      <td>0</td>\n      <td>1</td>\n    </tr>\n    <tr>\n      <th>2019-09-03 13:30:00-04:00</th>\n      <td>61.360001</td>\n      <td>0.000000</td>\n      <td>0</td>\n      <td>1</td>\n    </tr>\n    <tr>\n      <th>...</th>\n      <td>...</td>\n      <td>...</td>\n      <td>...</td>\n      <td>...</td>\n    </tr>\n    <tr>\n      <th>2021-08-10 11:30:00-04:00</th>\n      <td>277.697998</td>\n      <td>50.750420</td>\n      <td>0</td>\n      <td>0</td>\n    </tr>\n    <tr>\n      <th>2021-08-10 12:30:00-04:00</th>\n      <td>276.769989</td>\n      <td>48.850494</td>\n      <td>0</td>\n      <td>0</td>\n    </tr>\n    <tr>\n      <th>2021-08-10 13:30:00-04:00</th>\n      <td>275.375000</td>\n      <td>46.059134</td>\n      <td>0</td>\n      <td>0</td>\n    </tr>\n    <tr>\n      <th>2021-08-10 14:30:00-04:00</th>\n      <td>274.049988</td>\n      <td>43.515665</td>\n      <td>0</td>\n      <td>0</td>\n    </tr>\n    <tr>\n      <th>2021-08-10 15:30:00-04:00</th>\n      <td>272.929993</td>\n      <td>41.432916</td>\n      <td>0</td>\n      <td>0</td>\n    </tr>\n  </tbody>\n</table>\n<p>3411 rows × 4 columns</p>\n</div>"
     },
     "metadata": {}
    }
   ],
   "execution_count": 37
  },
  {
   "cell_type": "code",
   "metadata": {
    "tags": [],
    "cell_id": "00009-6ac0abb3-878f-4c59-b946-57d3cd60b200",
    "deepnote_to_be_reexecuted": false,
    "source_hash": "8fce98fd",
    "execution_start": 1628648739571,
    "execution_millis": 81,
    "deepnote_cell_type": "code"
   },
   "source": "sq_1hr_rsi_ret = pd.DataFrame(np.diff(sq_1hr_rsi['Close'])).rename(columns = {0:'returns'})\nrsi_strategy_ret = []\n\nfor i in range(len(sq_1hr_rsi_ret)):\n    returns = sq_1hr_rsi_ret['returns'][i]*strategy['rsi_position'][i]\n    rsi_strategy_ret.append(returns)\n    \nrsi_strategy_ret_df = pd.DataFrame(rsi_strategy_ret).rename(columns = {0:'rsi_returns'})\ninvestment_value = 100000\nnumber_of_stocks = floor(investment_value/sq_1hr_rsi['Close'][-1])\nrsi_investment_ret = []\n\nfor i in range(len(rsi_strategy_ret_df['rsi_returns'])):\n    returns = number_of_stocks*rsi_strategy_ret_df['rsi_returns'][i]\n    rsi_investment_ret.append(returns)\n\nrsi_investment_ret_df = pd.DataFrame(rsi_investment_ret).rename(columns = {0:'investment_returns'})\ntotal_investment_ret = round(sum(rsi_investment_ret_df['investment_returns']), 2)\nprofit_percentage = floor((total_investment_ret/investment_value)*100)\nprint(cl('Profit gained from the RSI strategy by investing $100k in SQ : {}'.format(total_investment_ret), attrs = ['bold']))\nprint(cl('Profit percentage of the RSI strategy : {}%'.format(profit_percentage), attrs = ['bold']))\n",
   "outputs": [
    {
     "name": "stdout",
     "text": "\u001b[1mProfit gained from the RSI strategy by investing $100k in SQ : 35640.17\u001b[0m\n\u001b[1mProfit percentage of the RSI strategy : 35%\u001b[0m\n",
     "output_type": "stream"
    }
   ],
   "execution_count": 38
  },
  {
   "cell_type": "code",
   "metadata": {
    "tags": [],
    "cell_id": "00010-82ed4970-30f6-443a-bb49-9e033f847f5f",
    "deepnote_to_be_reexecuted": false,
    "source_hash": "25c10399",
    "execution_start": 1628648745502,
    "execution_millis": 52,
    "deepnote_cell_type": "code"
   },
   "source": "strategy.to_csv('SQ RSI TRADE STRATEGY.csv')",
   "outputs": [],
   "execution_count": 39
  },
  {
   "cell_type": "code",
   "source": "",
   "metadata": {
    "tags": [],
    "cell_id": "00011-4dfea919-b35f-4dc2-9ac8-a553e1e7c84a",
    "deepnote_cell_type": "code"
   },
   "outputs": [],
   "execution_count": null
  },
  {
   "cell_type": "markdown",
   "source": "<a style='text-decoration:none;line-height:16px;display:flex;color:#5B5B62;padding:10px;justify-content:end;' href='https://deepnote.com?utm_source=created-in-deepnote-cell&projectId=d12c285c-6789-4c45-9ad7-1be9b4d60622' target=\"_blank\">\n<img alt='Created in deepnote.com' style='display:inline;max-height:16px;margin:0px;margin-right:7.5px;' src='data:image/svg+xml;base64,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' > </img>\nCreated in <span style='font-weight:600;margin-left:4px;'>Deepnote</span></a>",
   "metadata": {
    "tags": [],
    "created_in_deepnote_cell": true,
    "deepnote_cell_type": "markdown"
   }
  }
 ],
 "nbformat": 4,
 "nbformat_minor": 2,
 "metadata": {
  "orig_nbformat": 2,
  "deepnote": {
   "is_reactive": false
  },
  "deepnote_notebook_id": "2dea5e50-e359-4e3a-b23d-2cc3dc17d137",
  "deepnote_execution_queue": []
 }
}