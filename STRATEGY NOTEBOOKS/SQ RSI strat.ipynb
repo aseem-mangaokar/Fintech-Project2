{
 "cells": [
  {
   "cell_type": "code",
   "metadata": {
    "tags": [],
    "cell_id": "00000-7fd4b80c-6000-48ad-a223-1ac5f1ef5fa2",
    "deepnote_to_be_reexecuted": false,
    "source_hash": "32367b8d",
    "execution_start": 1628645417794,
    "execution_millis": 1802,
    "deepnote_cell_type": "code"
   },
   "source": "import datetime as dt\nfrom pathlib import Path\nimport requests\nimport pandas as pd\nimport numpy as np\nfrom math import floor\nfrom termcolor import colored as cl\nimport matplotlib.pyplot as plt\nplt.close('all')\nimport yfinance as yf\nplt.rcParams['figure.figsize'] = (20, 10)\nplt.style.use('fivethirtyeight')",
   "outputs": [],
   "execution_count": 2
  },
  {
   "cell_type": "code",
   "metadata": {
    "tags": [],
    "cell_id": "00001-a0576c84-3e23-482f-b52b-41161e3e68b2",
    "deepnote_to_be_reexecuted": false,
    "source_hash": "e7101364",
    "execution_start": 1628645419600,
    "execution_millis": 456,
    "deepnote_cell_type": "code"
   },
   "source": "csv_path = Path(\"Resources/SQ Hourly Close.csv\")\nsq_1hr = pd.read_csv(csv_path, index_col=0, infer_datetime_format=True)\nsq_1hr.reset_index(inplace=True)\nsq_1hr.rename(columns = {'index':'Datetime'}, inplace = True)\nsq_1hr.set_index(pd.to_datetime(sq_1hr['Datetime'],infer_datetime_format=True),inplace=True)\nsq_1hr.head()",
   "outputs": [
    {
     "output_type": "execute_result",
     "execution_count": 3,
     "data": {
      "application/vnd.deepnote.dataframe.v2+json": {
       "row_count": 5,
       "column_count": 2,
       "columns": [
        {
         "name": "Datetime",
         "dtype": "object",
         "stats": {
          "unique_count": 5,
          "nan_count": 0,
          "categories": [
           {
            "name": "2019-09-03 09:30:00-04:00",
            "count": 1
           },
           {
            "name": "2019-09-03 10:30:00-04:00",
            "count": 1
           },
           {
            "name": "3 others",
            "count": 3
           }
          ]
         }
        },
        {
         "name": "Close",
         "dtype": "float64",
         "stats": {
          "unique_count": 5,
          "nan_count": 0,
          "min": "61.36000061035156",
          "max": "62.959999084472656",
          "histogram": [
           {
            "bin_start": 61.36000061035156,
            "bin_end": 61.52000045776367,
            "count": 1
           },
           {
            "bin_start": 61.52000045776367,
            "bin_end": 61.68000030517578,
            "count": 0
           },
           {
            "bin_start": 61.68000030517578,
            "bin_end": 61.84000015258789,
            "count": 1
           },
           {
            "bin_start": 61.84000015258789,
            "bin_end": 62,
            "count": 0
           },
           {
            "bin_start": 62,
            "bin_end": 62.15999984741211,
            "count": 1
           },
           {
            "bin_start": 62.15999984741211,
            "bin_end": 62.31999969482422,
            "count": 0
           },
           {
            "bin_start": 62.31999969482422,
            "bin_end": 62.47999954223633,
            "count": 1
           },
           {
            "bin_start": 62.47999954223633,
            "bin_end": 62.63999938964844,
            "count": 0
           },
           {
            "bin_start": 62.63999938964844,
            "bin_end": 62.79999923706055,
            "count": 0
           },
           {
            "bin_start": 62.79999923706055,
            "bin_end": 62.959999084472656,
            "count": 1
           }
          ]
         }
        },
        {
         "name": "_deepnote_index_column",
         "dtype": "datetime64[ns, tzoffset(None, -14400)]"
        }
       ],
       "rows_top": [
        {
         "Datetime": "2019-09-03 09:30:00-04:00",
         "Close": 62.959999084472656,
         "_deepnote_index_column": "2019-09-03T09:30:00.000000"
        },
        {
         "Datetime": "2019-09-03 10:30:00-04:00",
         "Close": 62.31999969482422,
         "_deepnote_index_column": "2019-09-03T10:30:00.000000"
        },
        {
         "Datetime": "2019-09-03 11:30:00-04:00",
         "Close": 62,
         "_deepnote_index_column": "2019-09-03T11:30:00.000000"
        },
        {
         "Datetime": "2019-09-03 12:30:00-04:00",
         "Close": 61.774898529052734,
         "_deepnote_index_column": "2019-09-03T12:30:00.000000"
        },
        {
         "Datetime": "2019-09-03 13:30:00-04:00",
         "Close": 61.36000061035156,
         "_deepnote_index_column": "2019-09-03T13:30:00.000000"
        }
       ],
       "rows_bottom": null
      },
      "text/plain": "                                            Datetime      Close\nDatetime                                                       \n2019-09-03 09:30:00-04:00  2019-09-03 09:30:00-04:00  62.959999\n2019-09-03 10:30:00-04:00  2019-09-03 10:30:00-04:00  62.320000\n2019-09-03 11:30:00-04:00  2019-09-03 11:30:00-04:00  62.000000\n2019-09-03 12:30:00-04:00  2019-09-03 12:30:00-04:00  61.774899\n2019-09-03 13:30:00-04:00  2019-09-03 13:30:00-04:00  61.360001",
      "text/html": "<div>\n<style scoped>\n    .dataframe tbody tr th:only-of-type {\n        vertical-align: middle;\n    }\n\n    .dataframe tbody tr th {\n        vertical-align: top;\n    }\n\n    .dataframe thead th {\n        text-align: right;\n    }\n</style>\n<table border=\"1\" class=\"dataframe\">\n  <thead>\n    <tr style=\"text-align: right;\">\n      <th></th>\n      <th>Datetime</th>\n      <th>Close</th>\n    </tr>\n    <tr>\n      <th>Datetime</th>\n      <th></th>\n      <th></th>\n    </tr>\n  </thead>\n  <tbody>\n    <tr>\n      <th>2019-09-03 09:30:00-04:00</th>\n      <td>2019-09-03 09:30:00-04:00</td>\n      <td>62.959999</td>\n    </tr>\n    <tr>\n      <th>2019-09-03 10:30:00-04:00</th>\n      <td>2019-09-03 10:30:00-04:00</td>\n      <td>62.320000</td>\n    </tr>\n    <tr>\n      <th>2019-09-03 11:30:00-04:00</th>\n      <td>2019-09-03 11:30:00-04:00</td>\n      <td>62.000000</td>\n    </tr>\n    <tr>\n      <th>2019-09-03 12:30:00-04:00</th>\n      <td>2019-09-03 12:30:00-04:00</td>\n      <td>61.774899</td>\n    </tr>\n    <tr>\n      <th>2019-09-03 13:30:00-04:00</th>\n      <td>2019-09-03 13:30:00-04:00</td>\n      <td>61.360001</td>\n    </tr>\n  </tbody>\n</table>\n</div>"
     },
     "metadata": {}
    }
   ],
   "execution_count": 3
  },
  {
   "cell_type": "code",
   "metadata": {
    "tags": [],
    "cell_id": "00003-8b7a3c79-056f-4ddd-92bc-d2b90d870a64",
    "deepnote_to_be_reexecuted": false,
    "source_hash": "c8bf6967",
    "execution_start": 1628646621741,
    "execution_millis": 4,
    "deepnote_cell_type": "code"
   },
   "source": "sq_diff = sq_1hr['Close'].diff()\nup = sq_diff.clip(lower=0)\ndown = -1*sq_diff.clip(upper=0)\nema_up = up.ewm(com=13, adjust=False).mean()\nema_down = down.ewm(com=13, adjust=False).mean()\nrs = ema_up/ema_down\nrs",
   "outputs": [
    {
     "output_type": "execute_result",
     "execution_count": 12,
     "data": {
      "text/plain": "Datetime\n2019-09-03 09:30:00-04:00         NaN\n2019-09-03 10:30:00-04:00    0.000000\n2019-09-03 11:30:00-04:00    0.000000\n2019-09-03 12:30:00-04:00    0.000000\n2019-09-03 13:30:00-04:00    0.000000\n                               ...   \n2021-08-06 11:30:00-04:00    1.346707\n2021-08-06 12:30:00-04:00    1.181926\n2021-08-06 13:30:00-04:00    1.153673\n2021-08-06 14:30:00-04:00    1.138587\n2021-08-06 15:30:00-04:00    1.063259\nName: Close, Length: 3397, dtype: float64"
     },
     "metadata": {}
    }
   ],
   "execution_count": 12
  },
  {
   "cell_type": "code",
   "metadata": {
    "tags": [],
    "cell_id": "00003-eec64713-d6a6-451a-98fa-4457acca66e9",
    "deepnote_to_be_reexecuted": false,
    "source_hash": "e098346",
    "execution_start": 1628646622402,
    "execution_millis": 9,
    "deepnote_cell_type": "code"
   },
   "source": "sq_1hr['RSI'] = 100 - (100/(1 + rs))\nsq_1hr['RSI'] ",
   "outputs": [
    {
     "output_type": "execute_result",
     "execution_count": 13,
     "data": {
      "text/plain": "Datetime\n2019-09-03 09:30:00-04:00          NaN\n2019-09-03 10:30:00-04:00     0.000000\n2019-09-03 11:30:00-04:00     0.000000\n2019-09-03 12:30:00-04:00     0.000000\n2019-09-03 13:30:00-04:00     0.000000\n                               ...    \n2021-08-06 11:30:00-04:00    57.387102\n2021-08-06 12:30:00-04:00    54.168932\n2021-08-06 13:30:00-04:00    53.567697\n2021-08-06 14:30:00-04:00    53.240155\n2021-08-06 15:30:00-04:00    51.532994\nName: RSI, Length: 3397, dtype: float64"
     },
     "metadata": {}
    }
   ],
   "execution_count": 13
  },
  {
   "cell_type": "code",
   "metadata": {
    "tags": [],
    "cell_id": "00004-b0e2cd23-0294-4f7e-96ca-b83ef8493e99",
    "deepnote_to_be_reexecuted": false,
    "source_hash": "e53826b7",
    "execution_start": 1628646623546,
    "execution_millis": 65,
    "deepnote_cell_type": "code"
   },
   "source": "\n# sq_1hr['RSI’]\nsq_1hr_rsi= sq_1hr.iloc[14:]\nsq_1hr_rsi= sq_1hr.iloc[: , 1:]\nsq_1hr_rsi",
   "outputs": [
    {
     "output_type": "execute_result",
     "execution_count": 14,
     "data": {
      "application/vnd.deepnote.dataframe.v2+json": {
       "row_count": 3397,
       "column_count": 2,
       "columns": [
        {
         "name": "Close",
         "dtype": "float64",
         "stats": {
          "unique_count": 3139,
          "nan_count": 0,
          "min": "33.119998931884766",
          "max": "287.32000732421875",
          "histogram": [
           {
            "bin_start": 33.119998931884766,
            "bin_end": 58.53999977111816,
            "count": 199
           },
           {
            "bin_start": 58.53999977111816,
            "bin_end": 83.96000061035156,
            "count": 1097
           },
           {
            "bin_start": 83.96000061035156,
            "bin_end": 109.38000144958497,
            "count": 161
           },
           {
            "bin_start": 109.38000144958497,
            "bin_end": 134.80000228881835,
            "count": 158
           },
           {
            "bin_start": 134.80000228881835,
            "bin_end": 160.22000312805176,
            "count": 277
           },
           {
            "bin_start": 160.22000312805176,
            "bin_end": 185.64000396728517,
            "count": 186
           },
           {
            "bin_start": 185.64000396728517,
            "bin_end": 211.06000480651855,
            "count": 245
           },
           {
            "bin_start": 211.06000480651855,
            "bin_end": 236.48000564575196,
            "count": 548
           },
           {
            "bin_start": 236.48000564575196,
            "bin_end": 261.9000064849854,
            "count": 401
           },
           {
            "bin_start": 261.9000064849854,
            "bin_end": 287.32000732421875,
            "count": 125
           }
          ]
         }
        },
        {
         "name": "RSI",
         "dtype": "float64",
         "stats": {
          "unique_count": 3383,
          "nan_count": 1,
          "min": "0.0",
          "max": "90.06377701880122",
          "histogram": [
           {
            "bin_start": 0,
            "bin_end": 9.006377701880123,
            "count": 6
           },
           {
            "bin_start": 9.006377701880123,
            "bin_end": 18.012755403760245,
            "count": 7
           },
           {
            "bin_start": 18.012755403760245,
            "bin_end": 27.019133105640368,
            "count": 73
           },
           {
            "bin_start": 27.019133105640368,
            "bin_end": 36.02551080752049,
            "count": 338
           },
           {
            "bin_start": 36.02551080752049,
            "bin_end": 45.031888509400616,
            "count": 583
           },
           {
            "bin_start": 45.031888509400616,
            "bin_end": 54.038266211280735,
            "count": 718
           },
           {
            "bin_start": 54.038266211280735,
            "bin_end": 63.044643913160854,
            "count": 766
           },
           {
            "bin_start": 63.044643913160854,
            "bin_end": 72.05102161504098,
            "count": 633
           },
           {
            "bin_start": 72.05102161504098,
            "bin_end": 81.0573993169211,
            "count": 249
           },
           {
            "bin_start": 81.0573993169211,
            "bin_end": 90.06377701880122,
            "count": 23
           }
          ]
         }
        },
        {
         "name": "_deepnote_index_column",
         "dtype": "object"
        }
       ],
       "rows_top": [
        {
         "Close": 62.959999084472656,
         "RSI": "nan",
         "_deepnote_index_column": "2019-09-03 09:30:00-04:00"
        },
        {
         "Close": 62.31999969482422,
         "RSI": 0,
         "_deepnote_index_column": "2019-09-03 10:30:00-04:00"
        },
        {
         "Close": 62,
         "RSI": 0,
         "_deepnote_index_column": "2019-09-03 11:30:00-04:00"
        },
        {
         "Close": 61.774898529052734,
         "RSI": 0,
         "_deepnote_index_column": "2019-09-03 12:30:00-04:00"
        },
        {
         "Close": 61.36000061035156,
         "RSI": 0,
         "_deepnote_index_column": "2019-09-03 13:30:00-04:00"
        },
        {
         "Close": 61.125,
         "RSI": 0,
         "_deepnote_index_column": "2019-09-03 14:30:00-04:00"
        },
        {
         "Close": 61.13999938964844,
         "RSI": 0.20847747653027682,
         "_deepnote_index_column": "2019-09-03 15:30:00-04:00"
        },
        {
         "Close": 61.93000030517578,
         "RSI": 10.760918290411212,
         "_deepnote_index_column": "2019-09-04 09:30:00-04:00"
        },
        {
         "Close": 62.02000045776367,
         "RSI": 11.903840278305168,
         "_deepnote_index_column": "2019-09-04 10:30:00-04:00"
        },
        {
         "Close": 61.41999816894531,
         "RSI": 10.901443106745134,
         "_deepnote_index_column": "2019-09-04 11:30:00-04:00"
        },
        {
         "Close": 61.07500076293945,
         "RSI": 10.36117496976172,
         "_deepnote_index_column": "2019-09-04 12:30:00-04:00"
        },
        {
         "Close": 61.11000061035156,
         "RSI": 10.843912837046275,
         "_deepnote_index_column": "2019-09-04 13:30:00-04:00"
        },
        {
         "Close": 61.040000915527344,
         "RSI": 10.719573825429933,
         "_deepnote_index_column": "2019-09-04 14:30:00-04:00"
        },
        {
         "Close": 61.08000183105469,
         "RSI": 11.34515308984723,
         "_deepnote_index_column": "2019-09-04 15:30:00-04:00"
        },
        {
         "Close": 63.08250045776367,
         "RSI": 35.65279203114369,
         "_deepnote_index_column": "2019-09-05 09:30:00-04:00"
        },
        {
         "Close": 62.67900085449219,
         "RSI": 33.65067421108655,
         "_deepnote_index_column": "2019-09-05 10:30:00-04:00"
        },
        {
         "Close": 62.45280075073242,
         "RSI": 32.54724447747819,
         "_deepnote_index_column": "2019-09-05 11:30:00-04:00"
        },
        {
         "Close": 62.83000183105469,
         "RSI": 36.298408111009934,
         "_deepnote_index_column": "2019-09-05 12:30:00-04:00"
        },
        {
         "Close": 62.95500183105469,
         "RSI": 37.538070647903616,
         "_deepnote_index_column": "2019-09-05 13:30:00-04:00"
        },
        {
         "Close": 63.150001525878906,
         "RSI": 39.51552165750285,
         "_deepnote_index_column": "2019-09-05 14:30:00-04:00"
        },
        {
         "Close": 63.04499816894531,
         "RSI": 38.80314255243087,
         "_deepnote_index_column": "2019-09-05 15:30:00-04:00"
        },
        {
         "Close": 63.31999969482422,
         "RSI": 41.76422121002339,
         "_deepnote_index_column": "2019-09-06 09:30:00-04:00"
        },
        {
         "Close": 62.97610092163086,
         "RSI": 39.20923037211833,
         "_deepnote_index_column": "2019-09-06 10:30:00-04:00"
        },
        {
         "Close": 63.27999877929688,
         "RSI": 42.55371062923098,
         "_deepnote_index_column": "2019-09-06 11:30:00-04:00"
        },
        {
         "Close": 62.97600173950195,
         "RSI": 40.172766860203986,
         "_deepnote_index_column": "2019-09-06 12:30:00-04:00"
        },
        {
         "Close": 62.650001525878906,
         "RSI": 37.734487976624536,
         "_deepnote_index_column": "2019-09-06 13:30:00-04:00"
        },
        {
         "Close": 62.30500030517578,
         "RSI": 35.293141700137866,
         "_deepnote_index_column": "2019-09-06 14:30:00-04:00"
        },
        {
         "Close": 61.97999954223633,
         "RSI": 33.11933481595291,
         "_deepnote_index_column": "2019-09-06 15:30:00-04:00"
        },
        {
         "Close": 61.70000076293945,
         "RSI": 31.32900251036145,
         "_deepnote_index_column": "2019-09-09 09:30:00-04:00"
        },
        {
         "Close": 61.68000030517578,
         "RSI": 31.19926520016412,
         "_deepnote_index_column": "2019-09-09 10:30:00-04:00"
        },
        {
         "Close": 60.95000076293945,
         "RSI": 26.831748000691775,
         "_deepnote_index_column": "2019-09-09 11:30:00-04:00"
        },
        {
         "Close": 59.92499923706055,
         "RSI": 22.14427898548753,
         "_deepnote_index_column": "2019-09-09 12:30:00-04:00"
        },
        {
         "Close": 59.752201080322266,
         "RSI": 21.46352564346614,
         "_deepnote_index_column": "2019-09-09 13:30:00-04:00"
        },
        {
         "Close": 60.86000061035156,
         "RSI": 35.21396026007723,
         "_deepnote_index_column": "2019-09-09 14:30:00-04:00"
        },
        {
         "Close": 61.45000076293945,
         "RSI": 41.126084787633815,
         "_deepnote_index_column": "2019-09-09 15:30:00-04:00"
        },
        {
         "Close": 61.380001068115234,
         "RSI": 40.65208982897859,
         "_deepnote_index_column": "2019-09-10 09:30:00-04:00"
        },
        {
         "Close": 61.207298278808594,
         "RSI": 39.444199804190276,
         "_deepnote_index_column": "2019-09-10 10:30:00-04:00"
        },
        {
         "Close": 61.38999938964844,
         "RSI": 41.42695386484361,
         "_deepnote_index_column": "2019-09-10 11:30:00-04:00"
        },
        {
         "Close": 61.15800094604492,
         "RSI": 39.65153170633636,
         "_deepnote_index_column": "2019-09-10 12:30:00-04:00"
        },
        {
         "Close": 60.58000183105469,
         "RSI": 35.562354532082665,
         "_deepnote_index_column": "2019-09-10 13:30:00-04:00"
        },
        {
         "Close": 60.4900016784668,
         "RSI": 34.95782007743479,
         "_deepnote_index_column": "2019-09-10 14:30:00-04:00"
        },
        {
         "Close": 60.5,
         "RSI": 35.0898315948714,
         "_deepnote_index_column": "2019-09-10 15:30:00-04:00"
        },
        {
         "Close": 60.45000076293945,
         "RSI": 34.710431263175636,
         "_deepnote_index_column": "2019-09-11 09:30:00-04:00"
        },
        {
         "Close": 59.97999954223633,
         "RSI": 31.286012069255392,
         "_deepnote_index_column": "2019-09-11 10:30:00-04:00"
        },
        {
         "Close": 60.22999954223633,
         "RSI": 34.96156516206146,
         "_deepnote_index_column": "2019-09-11 11:30:00-04:00"
        },
        {
         "Close": 60.20149993896485,
         "RSI": 34.73347358226914,
         "_deepnote_index_column": "2019-09-11 12:30:00-04:00"
        },
        {
         "Close": 59.69340133666992,
         "RSI": 30.867066220279142,
         "_deepnote_index_column": "2019-09-11 13:30:00-04:00"
        },
        {
         "Close": 59.014198303222656,
         "RSI": 26.60382612309202,
         "_deepnote_index_column": "2019-09-11 14:30:00-04:00"
        },
        {
         "Close": 59.18000030517578,
         "RSI": 29.17542514021858,
         "_deepnote_index_column": "2019-09-11 15:30:00-04:00"
        },
        {
         "Close": 58.959598541259766,
         "RSI": 27.78193988799366,
         "_deepnote_index_column": "2019-09-12 09:30:00-04:00"
        },
        {
         "Close": 58.560001373291016,
         "RSI": 25.41210622296323,
         "_deepnote_index_column": "2019-09-12 10:30:00-04:00"
        },
        {
         "Close": 58.310001373291016,
         "RSI": 24.030992935645926,
         "_deepnote_index_column": "2019-09-12 11:30:00-04:00"
        },
        {
         "Close": 58.2400016784668,
         "RSI": 23.643519803717467,
         "_deepnote_index_column": "2019-09-12 12:30:00-04:00"
        },
        {
         "Close": 58,
         "RSI": 22.314995520248047,
         "_deepnote_index_column": "2019-09-12 13:30:00-04:00"
        },
        {
         "Close": 58.095001220703125,
         "RSI": 24.132243515548836,
         "_deepnote_index_column": "2019-09-12 14:30:00-04:00"
        },
        {
         "Close": 57.790000915527344,
         "RSI": 22.326510165478183,
         "_deepnote_index_column": "2019-09-12 15:30:00-04:00"
        },
        {
         "Close": 58.22999954223633,
         "RSI": 30.415664721741834,
         "_deepnote_index_column": "2019-09-13 09:30:00-04:00"
        },
        {
         "Close": 58.27999877929688,
         "RSI": 31.291330930679422,
         "_deepnote_index_column": "2019-09-13 10:30:00-04:00"
        },
        {
         "Close": 58.7599983215332,
         "RSI": 39.201440945014305,
         "_deepnote_index_column": "2019-09-13 11:30:00-04:00"
        },
        {
         "Close": 58.483699798583984,
         "RSI": 36.59013687760707,
         "_deepnote_index_column": "2019-09-13 12:30:00-04:00"
        },
        {
         "Close": 58.1349983215332,
         "RSI": 33.552472100782325,
         "_deepnote_index_column": "2019-09-13 13:30:00-04:00"
        },
        {
         "Close": 58.290000915527344,
         "RSI": 36.09226947083766,
         "_deepnote_index_column": "2019-09-13 14:30:00-04:00"
        },
        {
         "Close": 58.31999969482422,
         "RSI": 36.59736883542182,
         "_deepnote_index_column": "2019-09-13 15:30:00-04:00"
        },
        {
         "Close": 57.52999877929688,
         "RSI": 29.896230855285282,
         "_deepnote_index_column": "2019-09-16 09:30:00-04:00"
        },
        {
         "Close": 58.02510070800781,
         "RSI": 37.606819411495465,
         "_deepnote_index_column": "2019-09-16 10:30:00-04:00"
        },
        {
         "Close": 58.14889907836914,
         "RSI": 39.40160380356413,
         "_deepnote_index_column": "2019-09-16 11:30:00-04:00"
        },
        {
         "Close": 59.494998931884766,
         "RSI": 54.670381067429844,
         "_deepnote_index_column": "2019-09-16 12:30:00-04:00"
        },
        {
         "Close": 59.470001220703125,
         "RSI": 54.39627418755417,
         "_deepnote_index_column": "2019-09-16 13:30:00-04:00"
        },
        {
         "Close": 59.31999969482422,
         "RSI": 52.68913467093467,
         "_deepnote_index_column": "2019-09-16 14:30:00-04:00"
        },
        {
         "Close": 59.25,
         "RSI": 51.871028119650234,
         "_deepnote_index_column": "2019-09-16 15:30:00-04:00"
        },
        {
         "Close": 59.65999984741211,
         "RSI": 56.164305315010445,
         "_deepnote_index_column": "2019-09-17 09:30:00-04:00"
        },
        {
         "Close": 59.52999877929688,
         "RSI": 54.50410880387394,
         "_deepnote_index_column": "2019-09-17 10:30:00-04:00"
        },
        {
         "Close": 59.63999938964844,
         "RSI": 55.697439441628866,
         "_deepnote_index_column": "2019-09-17 11:30:00-04:00"
        },
        {
         "Close": 59.40999984741211,
         "RSI": 52.591312612754145,
         "_deepnote_index_column": "2019-09-17 12:30:00-04:00"
        },
        {
         "Close": 59.34999847412109,
         "RSI": 51.78004289955503,
         "_deepnote_index_column": "2019-09-17 13:30:00-04:00"
        },
        {
         "Close": 59.54999923706055,
         "RSI": 54.310079479611026,
         "_deepnote_index_column": "2019-09-17 14:30:00-04:00"
        },
        {
         "Close": 59.540000915527344,
         "RSI": 54.15709918079666,
         "_deepnote_index_column": "2019-09-17 15:30:00-04:00"
        },
        {
         "Close": 59.77000045776367,
         "RSI": 57.14741235638969,
         "_deepnote_index_column": "2019-09-18 09:30:00-04:00"
        },
        {
         "Close": 59.41999816894531,
         "RSI": 51.628394495885075,
         "_deepnote_index_column": "2019-09-18 10:30:00-04:00"
        },
        {
         "Close": 59.27000045776367,
         "RSI": 49.42539785796578,
         "_deepnote_index_column": "2019-09-18 11:30:00-04:00"
        },
        {
         "Close": 59.165000915527344,
         "RSI": 47.88507127842775,
         "_deepnote_index_column": "2019-09-18 12:30:00-04:00"
        },
        {
         "Close": 58.9900016784668,
         "RSI": 45.34843404198367,
         "_deepnote_index_column": "2019-09-18 13:30:00-04:00"
        },
        {
         "Close": 59.540000915527344,
         "RSI": 53.65743660572476,
         "_deepnote_index_column": "2019-09-18 14:30:00-04:00"
        },
        {
         "Close": 59.72999954223633,
         "RSI": 56.138310541790545,
         "_deepnote_index_column": "2019-09-18 15:30:00-04:00"
        },
        {
         "Close": 59.75,
         "RSI": 56.40289022981859,
         "_deepnote_index_column": "2019-09-19 09:30:00-04:00"
        },
        {
         "Close": 59.709999084472656,
         "RSI": 55.679486004953844,
         "_deepnote_index_column": "2019-09-19 10:30:00-04:00"
        },
        {
         "Close": 58.77109909057617,
         "RSI": 42.04762283889513,
         "_deepnote_index_column": "2019-09-19 11:30:00-04:00"
        },
        {
         "Close": 58.7599983215332,
         "RSI": 41.91695517014483,
         "_deepnote_index_column": "2019-09-19 12:30:00-04:00"
        },
        {
         "Close": 58.86009979248047,
         "RSI": 43.61846957729375,
         "_deepnote_index_column": "2019-09-19 13:30:00-04:00"
        },
        {
         "Close": 58.900001525878906,
         "RSI": 44.31868508535832,
         "_deepnote_index_column": "2019-09-19 14:30:00-04:00"
        },
        {
         "Close": 59.02999877929688,
         "RSI": 46.643607276368286,
         "_deepnote_index_column": "2019-09-19 15:30:00-04:00"
        },
        {
         "Close": 58.27999877929688,
         "RSI": 37.03565670482225,
         "_deepnote_index_column": "2019-09-20 09:30:00-04:00"
        },
        {
         "Close": 57.685001373291016,
         "RSI": 31.493291110230516,
         "_deepnote_index_column": "2019-09-20 10:30:00-04:00"
        },
        {
         "Close": 57.41999816894531,
         "RSI": 29.38413481086573,
         "_deepnote_index_column": "2019-09-20 11:30:00-04:00"
        },
        {
         "Close": 57.34000015258789,
         "RSI": 28.758008010537097,
         "_deepnote_index_column": "2019-09-20 12:30:00-04:00"
        },
        {
         "Close": 57.45000076293945,
         "RSI": 30.937193353802797,
         "_deepnote_index_column": "2019-09-20 13:30:00-04:00"
        },
        {
         "Close": 57.88010025024414,
         "RSI": 38.81751173038172,
         "_deepnote_index_column": "2019-09-20 14:30:00-04:00"
        },
        {
         "Close": 57.83000183105469,
         "RSI": 38.26974594689308,
         "_deepnote_index_column": "2019-09-20 15:30:00-04:00"
        },
        {
         "Close": 56.650001525878906,
         "RSI": 28.182211035507606,
         "_deepnote_index_column": "2019-09-23 09:30:00-04:00"
        },
        {
         "Close": 56.790000915527344,
         "RSI": 30.522150099026504,
         "_deepnote_index_column": "2019-09-23 10:30:00-04:00"
        },
        {
         "Close": 57,
         "RSI": 33.99605825253944,
         "_deepnote_index_column": "2019-09-23 11:30:00-04:00"
        },
        {
         "Close": 56.68999862670898,
         "RSI": 31.492754719211618,
         "_deepnote_index_column": "2019-09-23 12:30:00-04:00"
        },
        {
         "Close": 56.6599006652832,
         "RSI": 31.25213963460945,
         "_deepnote_index_column": "2019-09-23 13:30:00-04:00"
        },
        {
         "Close": 56.7598991394043,
         "RSI": 33.0815004394597,
         "_deepnote_index_column": "2019-09-23 14:30:00-04:00"
        },
        {
         "Close": 56.75,
         "RSI": 32.98792026075601,
         "_deepnote_index_column": "2019-09-23 15:30:00-04:00"
        },
        {
         "Close": 56.790000915527344,
         "RSI": 33.80280360672724,
         "_deepnote_index_column": "2019-09-24 09:30:00-04:00"
        },
        {
         "Close": 57.70000076293945,
         "RSI": 48.99744216880439,
         "_deepnote_index_column": "2019-09-24 10:30:00-04:00"
        },
        {
         "Close": 56.25,
         "RSI": 35.151872336709914,
         "_deepnote_index_column": "2019-09-24 11:30:00-04:00"
        },
        {
         "Close": 56.20000076293945,
         "RSI": 34.78683925415464,
         "_deepnote_index_column": "2019-09-24 12:30:00-04:00"
        },
        {
         "Close": 57.09000015258789,
         "RSI": 45.61332039064736,
         "_deepnote_index_column": "2019-09-24 13:30:00-04:00"
        },
        {
         "Close": 56.86000061035156,
         "RSI": 43.59890246955579,
         "_deepnote_index_column": "2019-09-24 14:30:00-04:00"
        },
        {
         "Close": 57.52999877929688,
         "RSI": 50.46210430259842,
         "_deepnote_index_column": "2019-09-24 15:30:00-04:00"
        },
        {
         "Close": 57.25,
         "RSI": 47.84201620067011,
         "_deepnote_index_column": "2019-09-25 09:30:00-04:00"
        },
        {
         "Close": 57.900001525878906,
         "RSI": 53.834550495632236,
         "_deepnote_index_column": "2019-09-25 10:30:00-04:00"
        },
        {
         "Close": 57.95000076293945,
         "RSI": 54.269788318720494,
         "_deepnote_index_column": "2019-09-25 11:30:00-04:00"
        },
        {
         "Close": 57.9900016784668,
         "RSI": 54.63824854365592,
         "_deepnote_index_column": "2019-09-25 12:30:00-04:00"
        },
        {
         "Close": 58.35639953613281,
         "RSI": 57.97812573397994,
         "_deepnote_index_column": "2019-09-25 13:30:00-04:00"
        },
        {
         "Close": 58.80500030517578,
         "RSI": 61.69663902323022,
         "_deepnote_index_column": "2019-09-25 14:30:00-04:00"
        },
        {
         "Close": 58.540000915527344,
         "RSI": 58.40857637776812,
         "_deepnote_index_column": "2019-09-25 15:30:00-04:00"
        },
        {
         "Close": 60.994998931884766,
         "RSI": 72.84629617973091,
         "_deepnote_index_column": "2019-09-26 09:30:00-04:00"
        },
        {
         "Close": 60.23500061035156,
         "RSI": 65.29033230233628,
         "_deepnote_index_column": "2019-09-26 10:30:00-04:00"
        },
        {
         "Close": 60.43220138549805,
         "RSI": 66.26803039083872,
         "_deepnote_index_column": "2019-09-26 11:30:00-04:00"
        },
        {
         "Close": 60.18000030517578,
         "RSI": 63.793165627595606,
         "_deepnote_index_column": "2019-09-26 12:30:00-04:00"
        },
        {
         "Close": 60.79499816894531,
         "RSI": 67.02699625221419,
         "_deepnote_index_column": "2019-09-26 13:30:00-04:00"
        },
        {
         "Close": 60.685001373291016,
         "RSI": 65.89339656208998,
         "_deepnote_index_column": "2019-09-26 14:30:00-04:00"
        },
        {
         "Close": 60.79999923706055,
         "RSI": 66.53070684253055,
         "_deepnote_index_column": "2019-09-26 15:30:00-04:00"
        },
        {
         "Close": 60.9922981262207,
         "RSI": 67.62028201920634,
         "_deepnote_index_column": "2019-09-27 09:30:00-04:00"
        },
        {
         "Close": 61.52999877929688,
         "RSI": 70.51108155328225,
         "_deepnote_index_column": "2019-09-27 10:30:00-04:00"
        },
        {
         "Close": 61.02999877929688,
         "RSI": 64.72443072659631,
         "_deepnote_index_column": "2019-09-27 11:30:00-04:00"
        },
        {
         "Close": 60.52999877929688,
         "RSI": 59.468589665775326,
         "_deepnote_index_column": "2019-09-27 12:30:00-04:00"
        },
        {
         "Close": 60.68000030517578,
         "RSI": 60.504755218000454,
         "_deepnote_index_column": "2019-09-27 13:30:00-04:00"
        },
        {
         "Close": 60.494998931884766,
         "RSI": 58.51779422977451,
         "_deepnote_index_column": "2019-09-27 14:30:00-04:00"
        },
        {
         "Close": 60.7599983215332,
         "RSI": 60.517907531542626,
         "_deepnote_index_column": "2019-09-27 15:30:00-04:00"
        },
        {
         "Close": 61.72999954223633,
         "RSI": 66.82361609953838,
         "_deepnote_index_column": "2019-09-30 09:30:00-04:00"
        },
        {
         "Close": 62.22999954223633,
         "RSI": 69.525420258205,
         "_deepnote_index_column": "2019-09-30 10:30:00-04:00"
        },
        {
         "Close": 62.02000045776367,
         "RSI": 67.05545408135265,
         "_deepnote_index_column": "2019-09-30 11:30:00-04:00"
        },
        {
         "Close": 61.9900016784668,
         "RSI": 66.69096439331366,
         "_deepnote_index_column": "2019-09-30 12:30:00-04:00"
        },
        {
         "Close": 62.244998931884766,
         "RSI": 68.26981260095066,
         "_deepnote_index_column": "2019-09-30 13:30:00-04:00"
        },
        {
         "Close": 61.970001220703125,
         "RSI": 64.70766191315516,
         "_deepnote_index_column": "2019-09-30 14:30:00-04:00"
        },
        {
         "Close": 62,
         "RSI": 64.92267713362088,
         "_deepnote_index_column": "2019-09-30 15:30:00-04:00"
        },
        {
         "Close": 62.59640121459961,
         "RSI": 68.97018398937057,
         "_deepnote_index_column": "2019-10-01 09:30:00-04:00"
        },
        {
         "Close": 62.65999984741211,
         "RSI": 69.37598878199493,
         "_deepnote_index_column": "2019-10-01 10:30:00-04:00"
        },
        {
         "Close": 61.77999877929688,
         "RSI": 58.0612516615149,
         "_deepnote_index_column": "2019-10-01 11:30:00-04:00"
        },
        {
         "Close": 61.45000076293945,
         "RSI": 54.47341472902584,
         "_deepnote_index_column": "2019-10-01 12:30:00-04:00"
        },
        {
         "Close": 61.47999954223633,
         "RSI": 54.74717406837455,
         "_deepnote_index_column": "2019-10-01 13:30:00-04:00"
        },
        {
         "Close": 61.54999923706055,
         "RSI": 55.4207917296091,
         "_deepnote_index_column": "2019-10-01 14:30:00-04:00"
        },
        {
         "Close": 61.630001068115234,
         "RSI": 56.22284598671456,
         "_deepnote_index_column": "2019-10-01 15:30:00-04:00"
        },
        {
         "Close": 60.459999084472656,
         "RSI": 43.809005825053426,
         "_deepnote_index_column": "2019-10-02 09:30:00-04:00"
        },
        {
         "Close": 59.47999954223633,
         "RSI": 36.53286615006611,
         "_deepnote_index_column": "2019-10-02 10:30:00-04:00"
        },
        {
         "Close": 59.47999954223633,
         "RSI": 36.53286615006611,
         "_deepnote_index_column": "2019-10-02 11:30:00-04:00"
        },
        {
         "Close": 59.43999862670898,
         "RSI": 36.24787354636401,
         "_deepnote_index_column": "2019-10-02 12:30:00-04:00"
        },
        {
         "Close": 59.23799896240234,
         "RSI": 34.77266565204003,
         "_deepnote_index_column": "2019-10-02 13:30:00-04:00"
        },
        {
         "Close": 59.880001068115234,
         "RSI": 42.74772511080991,
         "_deepnote_index_column": "2019-10-02 14:30:00-04:00"
        },
        {
         "Close": 60.060001373291016,
         "RSI": 44.78605534794821,
         "_deepnote_index_column": "2019-10-02 15:30:00-04:00"
        },
        {
         "Close": 59.91999816894531,
         "RSI": 43.489138820874246,
         "_deepnote_index_column": "2019-10-03 09:30:00-04:00"
        },
        {
         "Close": 60.79999923706055,
         "RSI": 52.750883619387785,
         "_deepnote_index_column": "2019-10-03 10:30:00-04:00"
        },
        {
         "Close": 60.59999847412109,
         "RSI": 50.716452956623705,
         "_deepnote_index_column": "2019-10-03 11:30:00-04:00"
        },
        {
         "Close": 60.615699768066406,
         "RSI": 50.87662614338496,
         "_deepnote_index_column": "2019-10-03 12:30:00-04:00"
        },
        {
         "Close": 62.119998931884766,
         "RSI": 63.212535471540654,
         "_deepnote_index_column": "2019-10-03 13:30:00-04:00"
        },
        {
         "Close": 62.11000061035156,
         "RSI": 63.09911698924008,
         "_deepnote_index_column": "2019-10-03 14:30:00-04:00"
        },
        {
         "Close": 62.060001373291016,
         "RSI": 62.49523994198023,
         "_deepnote_index_column": "2019-10-03 15:30:00-04:00"
        },
        {
         "Close": 62.040000915527344,
         "RSI": 62.238645870542975,
         "_deepnote_index_column": "2019-10-04 09:30:00-04:00"
        },
        {
         "Close": 62.169700622558594,
         "RSI": 63.29122160292183,
         "_deepnote_index_column": "2019-10-04 10:30:00-04:00"
        },
        {
         "Close": 62.11330032348633,
         "RSI": 62.47568415277264,
         "_deepnote_index_column": "2019-10-04 11:30:00-04:00"
        },
        {
         "Close": 62.3650016784668,
         "RSI": 64.66398406452251,
         "_deepnote_index_column": "2019-10-04 12:30:00-04:00"
        },
        {
         "Close": 62.38999938964844,
         "RSI": 64.88301760630148,
         "_deepnote_index_column": "2019-10-04 13:30:00-04:00"
        },
        {
         "Close": 62.47159957885742,
         "RSI": 65.63191780387933,
         "_deepnote_index_column": "2019-10-04 14:30:00-04:00"
        },
        {
         "Close": 62.65999984741211,
         "RSI": 67.36252438449051,
         "_deepnote_index_column": "2019-10-04 15:30:00-04:00"
        },
        {
         "Close": 62.5099983215332,
         "RSI": 64.57446074085772,
         "_deepnote_index_column": "2019-10-07 09:30:00-04:00"
        },
        {
         "Close": 62.51499938964844,
         "RSI": 64.62702707209506,
         "_deepnote_index_column": "2019-10-07 10:30:00-04:00"
        },
        {
         "Close": 62.34999847412109,
         "RSI": 61.39034856275128,
         "_deepnote_index_column": "2019-10-07 11:30:00-04:00"
        },
        {
         "Close": 62.2599983215332,
         "RSI": 59.635923157447706,
         "_deepnote_index_column": "2019-10-07 12:30:00-04:00"
        },
        {
         "Close": 62.470001220703125,
         "RSI": 62.340364978082704,
         "_deepnote_index_column": "2019-10-07 13:30:00-04:00"
        },
        {
         "Close": 62.47999954223633,
         "RSI": 62.46929552569856,
         "_deepnote_index_column": "2019-10-07 14:30:00-04:00"
        },
        {
         "Close": 62.25,
         "RSI": 57.58529323203279,
         "_deepnote_index_column": "2019-10-07 15:30:00-04:00"
        },
        {
         "Close": 61.310001373291016,
         "RSI": 42.84277244370846,
         "_deepnote_index_column": "2019-10-08 09:30:00-04:00"
        },
        {
         "Close": 61.209999084472656,
         "RSI": 41.621956857629115,
         "_deepnote_index_column": "2019-10-08 10:30:00-04:00"
        },
        {
         "Close": 61.52000045776367,
         "RSI": 46.6929764987314,
         "_deepnote_index_column": "2019-10-08 11:30:00-04:00"
        },
        {
         "Close": 61.540000915527344,
         "RSI": 47.01277610701451,
         "_deepnote_index_column": "2019-10-08 12:30:00-04:00"
        },
        {
         "Close": 61.41999816894531,
         "RSI": 45.258376977401106,
         "_deepnote_index_column": "2019-10-08 13:30:00-04:00"
        },
        {
         "Close": 61.27000045776367,
         "RSI": 43.09364626880754,
         "_deepnote_index_column": "2019-10-08 14:30:00-04:00"
        },
        {
         "Close": 60.810001373291016,
         "RSI": 37.214969422518905,
         "_deepnote_index_column": "2019-10-08 15:30:00-04:00"
        },
        {
         "Close": 61.650001525878906,
         "RSI": 50.49556457880553,
         "_deepnote_index_column": "2019-10-09 09:30:00-04:00"
        },
        {
         "Close": 61.46609878540039,
         "RSI": 48.09688679035745,
         "_deepnote_index_column": "2019-10-09 10:30:00-04:00"
        },
        {
         "Close": 61.77000045776367,
         "RSI": 52.14261941813737,
         "_deepnote_index_column": "2019-10-09 11:30:00-04:00"
        },
        {
         "Close": 61.970001220703125,
         "RSI": 54.64805331589902,
         "_deepnote_index_column": "2019-10-09 12:30:00-04:00"
        },
        {
         "Close": 62.1693000793457,
         "RSI": 57.06045333006788,
         "_deepnote_index_column": "2019-10-09 13:30:00-04:00"
        },
        {
         "Close": 62.380001068115234,
         "RSI": 59.51245774950985,
         "_deepnote_index_column": "2019-10-09 14:30:00-04:00"
        },
        {
         "Close": 62.23329925537109,
         "RSI": 57.068930873662566,
         "_deepnote_index_column": "2019-10-09 15:30:00-04:00"
        },
        {
         "Close": 62.209999084472656,
         "RSI": 56.67093558965845,
         "_deepnote_index_column": "2019-10-10 09:30:00-04:00"
        },
        {
         "Close": 62.09999847412109,
         "RSI": 54.73037466371896,
         "_deepnote_index_column": "2019-10-10 10:30:00-04:00"
        },
        {
         "Close": 61.86000061035156,
         "RSI": 50.654838080308316,
         "_deepnote_index_column": "2019-10-10 11:30:00-04:00"
        },
        {
         "Close": 61.709999084472656,
         "RSI": 48.23709311712147,
         "_deepnote_index_column": "2019-10-10 12:30:00-04:00"
        },
        {
         "Close": 61.79999923706055,
         "RSI": 49.78572779664058,
         "_deepnote_index_column": "2019-10-10 13:30:00-04:00"
        },
        {
         "Close": 61.9900016784668,
         "RSI": 52.98373244946209,
         "_deepnote_index_column": "2019-10-10 14:30:00-04:00"
        },
        {
         "Close": 62.0099983215332,
         "RSI": 53.32067748322778,
         "_deepnote_index_column": "2019-10-10 15:30:00-04:00"
        },
        {
         "Close": 62.8119010925293,
         "RSI": 64.35331524166203,
         "_deepnote_index_column": "2019-10-11 09:30:00-04:00"
        },
        {
         "Close": 62.6776008605957,
         "RSI": 61.722222814780125,
         "_deepnote_index_column": "2019-10-11 10:30:00-04:00"
        },
        {
         "Close": 62.65800094604492,
         "RSI": 61.32814038318817,
         "_deepnote_index_column": "2019-10-11 11:30:00-04:00"
        },
        {
         "Close": 62.181400299072266,
         "RSI": 52.543055301104914,
         "_deepnote_index_column": "2019-10-11 12:30:00-04:00"
        },
        {
         "Close": 62.14500045776367,
         "RSI": 51.93120647059917,
         "_deepnote_index_column": "2019-10-11 13:30:00-04:00"
        },
        {
         "Close": 62.34000015258789,
         "RSI": 54.957234741152526,
         "_deepnote_index_column": "2019-10-11 14:30:00-04:00"
        },
        {
         "Close": 61.52999877929688,
         "RSI": 42.88144207285301,
         "_deepnote_index_column": "2019-10-11 15:30:00-04:00"
        },
        {
         "Close": 61.880001068115234,
         "RSI": 48.1800034322112,
         "_deepnote_index_column": "2019-10-14 09:30:00-04:00"
        },
        {
         "Close": 62.08000183105469,
         "RSI": 50.97842686655447,
         "_deepnote_index_column": "2019-10-14 10:30:00-04:00"
        },
        {
         "Close": 62.16400146484375,
         "RSI": 52.14726201935021,
         "_deepnote_index_column": "2019-10-14 11:30:00-04:00"
        },
        {
         "Close": 62.17179870605469,
         "RSI": 52.2610475830717,
         "_deepnote_index_column": "2019-10-14 12:30:00-04:00"
        },
        {
         "Close": 62.025001525878906,
         "RSI": 49.85739664767689,
         "_deepnote_index_column": "2019-10-14 13:30:00-04:00"
        },
        {
         "Close": 62.13100051879883,
         "RSI": 51.588836914832456,
         "_deepnote_index_column": "2019-10-14 14:30:00-04:00"
        },
        {
         "Close": 61.83000183105469,
         "RSI": 46.66155522573742,
         "_deepnote_index_column": "2019-10-14 15:30:00-04:00"
        },
        {
         "Close": 63.720001220703125,
         "RSI": 67.59221003115353,
         "_deepnote_index_column": "2019-10-15 09:30:00-04:00"
        },
        {
         "Close": 63.70000076293945,
         "RSI": 67.29128090969161,
         "_deepnote_index_column": "2019-10-15 10:30:00-04:00"
        },
        {
         "Close": 63.900001525878906,
         "RSI": 68.78775426319645,
         "_deepnote_index_column": "2019-10-15 11:30:00-04:00"
        },
        {
         "Close": 64.13999938964844,
         "RSI": 70.53013857409977,
         "_deepnote_index_column": "2019-10-15 12:30:00-04:00"
        },
        {
         "Close": 64.25,
         "RSI": 71.32038874224301,
         "_deepnote_index_column": "2019-10-15 13:30:00-04:00"
        },
        {
         "Close": 64.05999755859375,
         "RSI": 67.93187779731421,
         "_deepnote_index_column": "2019-10-15 14:30:00-04:00"
        },
        {
         "Close": 64.29000091552734,
         "RSI": 69.80225573310211,
         "_deepnote_index_column": "2019-10-15 15:30:00-04:00"
        },
        {
         "Close": 63.04999923706055,
         "RSI": 52.144450638000166,
         "_deepnote_index_column": "2019-10-16 09:30:00-04:00"
        },
        {
         "Close": 62.93830108642578,
         "RSI": 50.89547258904155,
         "_deepnote_index_column": "2019-10-16 10:30:00-04:00"
        },
        {
         "Close": 62.97999954223633,
         "RSI": 51.36381649193713,
         "_deepnote_index_column": "2019-10-16 11:30:00-04:00"
        },
        {
         "Close": 62.869998931884766,
         "RSI": 50.00878483133398,
         "_deepnote_index_column": "2019-10-16 12:30:00-04:00"
        },
        {
         "Close": 62.875,
         "RSI": 50.07327263927373,
         "_deepnote_index_column": "2019-10-16 13:30:00-04:00"
        },
        {
         "Close": 62.755001068115234,
         "RSI": 48.45798969129335,
         "_deepnote_index_column": "2019-10-16 14:30:00-04:00"
        },
        {
         "Close": 63.0099983215332,
         "RSI": 52.00134349701197,
         "_deepnote_index_column": "2019-10-16 15:30:00-04:00"
        },
        {
         "Close": 64.19999694824219,
         "RSI": 64.32654397410145,
         "_deepnote_index_column": "2019-10-17 09:30:00-04:00"
        },
        {
         "Close": 63.560001373291016,
         "RSI": 55.998274816629355,
         "_deepnote_index_column": "2019-10-17 10:30:00-04:00"
        },
        {
         "Close": 63.43000030517578,
         "RSI": 54.45598916778413,
         "_deepnote_index_column": "2019-10-17 11:30:00-04:00"
        },
        {
         "Close": 63.42100143432617,
         "RSI": 54.34441315056595,
         "_deepnote_index_column": "2019-10-17 12:30:00-04:00"
        },
        {
         "Close": 63.59000015258789,
         "RSI": 56.16103916857111,
         "_deepnote_index_column": "2019-10-17 13:30:00-04:00"
        },
        {
         "Close": 63.41510009765625,
         "RSI": 53.77623242516199,
         "_deepnote_index_column": "2019-10-17 14:30:00-04:00"
        },
        {
         "Close": 63.380001068115234,
         "RSI": 53.28720764653202,
         "_deepnote_index_column": "2019-10-17 15:30:00-04:00"
        },
        {
         "Close": 61.90999984741211,
         "RSI": 37.788198083827204,
         "_deepnote_index_column": "2019-10-18 09:30:00-04:00"
        },
        {
         "Close": 61.993900299072266,
         "RSI": 38.8808691414618,
         "_deepnote_index_column": "2019-10-18 10:30:00-04:00"
        },
        {
         "Close": 60.02730178833008,
         "RSI": 26.937820435979404,
         "_deepnote_index_column": "2019-10-18 11:30:00-04:00"
        },
        {
         "Close": 60.54999923706055,
         "RSI": 32.84245979812039,
         "_deepnote_index_column": "2019-10-18 12:30:00-04:00"
        },
        {
         "Close": 60.56999969482422,
         "RSI": 33.06536790986469,
         "_deepnote_index_column": "2019-10-18 13:30:00-04:00"
        },
        {
         "Close": 60.6245002746582,
         "RSI": 33.71104906124974,
         "_deepnote_index_column": "2019-10-18 14:30:00-04:00"
        },
        {
         "Close": 60.459999084472656,
         "RSI": 32.68614426297489,
         "_deepnote_index_column": "2019-10-18 15:30:00-04:00"
        },
        {
         "Close": 60.284400939941406,
         "RSI": 31.582342313716254,
         "_deepnote_index_column": "2019-10-21 09:30:00-04:00"
        },
        {
         "Close": 60.95000076293945,
         "RSI": 39.871087207712584,
         "_deepnote_index_column": "2019-10-21 10:30:00-04:00"
        },
        {
         "Close": 61.09999847412109,
         "RSI": 41.58850136342043,
         "_deepnote_index_column": "2019-10-21 11:30:00-04:00"
        },
        {
         "Close": 61.35499954223633,
         "RSI": 44.49115952474975,
         "_deepnote_index_column": "2019-10-21 12:30:00-04:00"
        },
        {
         "Close": 61.290000915527344,
         "RSI": 43.892425430899024,
         "_deepnote_index_column": "2019-10-21 13:30:00-04:00"
        },
        {
         "Close": 61.35480117797852,
         "RSI": 44.691540089578375,
         "_deepnote_index_column": "2019-10-21 14:30:00-04:00"
        },
        {
         "Close": 61.150001525878906,
         "RSI": 42.62524826881422,
         "_deepnote_index_column": "2019-10-21 15:30:00-04:00"
        },
        {
         "Close": 60.209999084472656,
         "RSI": 34.69602706009502,
         "_deepnote_index_column": "2019-10-22 09:30:00-04:00"
        },
        {
         "Close": 59.77999877929688,
         "RSI": 31.783378180687038,
         "_deepnote_index_column": "2019-10-22 10:30:00-04:00"
        },
        {
         "Close": 59.83000183105469,
         "RSI": 32.4930689892109,
         "_deepnote_index_column": "2019-10-22 11:30:00-04:00"
        },
        {
         "Close": 59.88999938964844,
         "RSI": 33.38853622533922,
         "_deepnote_index_column": "2019-10-22 12:30:00-04:00"
        },
        {
         "Close": 59.02999877929688,
         "RSI": 27.713782656372445,
         "_deepnote_index_column": "2019-10-22 13:30:00-04:00"
        }
       ],
       "rows_bottom": [
        {
         "Close": 232.3300018310547,
         "RSI": 63.32655402598304,
         "_deepnote_index_column": "2021-06-17 11:30:00-04:00"
        },
        {
         "Close": 236.19000244140625,
         "RSI": 68.700632905323,
         "_deepnote_index_column": "2021-06-17 12:30:00-04:00"
        },
        {
         "Close": 237.4199981689453,
         "RSI": 70.19921629670279,
         "_deepnote_index_column": "2021-06-17 13:30:00-04:00"
        },
        {
         "Close": 236.4911956787109,
         "RSI": 67.56838295964717,
         "_deepnote_index_column": "2021-06-17 14:30:00-04:00"
        },
        {
         "Close": 236.25,
         "RSI": 66.86756149726448,
         "_deepnote_index_column": "2021-06-17 15:30:00-04:00"
        },
        {
         "Close": 236.27999877929688,
         "RSI": 66.9135271132071,
         "_deepnote_index_column": "2021-06-18 09:30:00-04:00"
        },
        {
         "Close": 234.01739501953125,
         "RSI": 60.1369457684317,
         "_deepnote_index_column": "2021-06-18 10:30:00-04:00"
        },
        {
         "Close": 238.2700042724609,
         "RSI": 66.91829714811206,
         "_deepnote_index_column": "2021-06-18 11:30:00-04:00"
        },
        {
         "Close": 238.4900054931641,
         "RSI": 67.22888976417963,
         "_deepnote_index_column": "2021-06-18 12:30:00-04:00"
        },
        {
         "Close": 238.16000366210935,
         "RSI": 66.22450997213602,
         "_deepnote_index_column": "2021-06-18 13:30:00-04:00"
        },
        {
         "Close": 237.3500061035156,
         "RSI": 63.70861652060048,
         "_deepnote_index_column": "2021-06-18 14:30:00-04:00"
        },
        {
         "Close": 237.1699981689453,
         "RSI": 63.134588008565814,
         "_deepnote_index_column": "2021-06-18 15:30:00-04:00"
        },
        {
         "Close": 230.5,
         "RSI": 46.43800521227696,
         "_deepnote_index_column": "2021-06-21 09:30:00-04:00"
        },
        {
         "Close": 233.33999633789065,
         "RSI": 52.23076214504265,
         "_deepnote_index_column": "2021-06-21 10:30:00-04:00"
        },
        {
         "Close": 234.3300018310547,
         "RSI": 54.094553472724506,
         "_deepnote_index_column": "2021-06-21 11:30:00-04:00"
        },
        {
         "Close": 234.5500030517578,
         "RSI": 54.51922098570067,
         "_deepnote_index_column": "2021-06-21 12:30:00-04:00"
        },
        {
         "Close": 234.24220275878903,
         "RSI": 53.769755724021785,
         "_deepnote_index_column": "2021-06-21 13:30:00-04:00"
        },
        {
         "Close": 233.6750030517578,
         "RSI": 52.34184023047846,
         "_deepnote_index_column": "2021-06-21 14:30:00-04:00"
        },
        {
         "Close": 233.91000366210935,
         "RSI": 52.8999295038551,
         "_deepnote_index_column": "2021-06-21 15:30:00-04:00"
        },
        {
         "Close": 232.5800018310547,
         "RSI": 49.375825567169045,
         "_deepnote_index_column": "2021-06-22 09:30:00-04:00"
        },
        {
         "Close": 233.88890075683597,
         "RSI": 52.7144000863774,
         "_deepnote_index_column": "2021-06-22 10:30:00-04:00"
        },
        {
         "Close": 234.27999877929688,
         "RSI": 53.69699938214342,
         "_deepnote_index_column": "2021-06-22 11:30:00-04:00"
        },
        {
         "Close": 233.44000244140625,
         "RSI": 51.23444387871569,
         "_deepnote_index_column": "2021-06-22 12:30:00-04:00"
        },
        {
         "Close": 233.91000366210935,
         "RSI": 52.54578911394157,
         "_deepnote_index_column": "2021-06-22 13:30:00-04:00"
        },
        {
         "Close": 236,
         "RSI": 57.95958721628891,
         "_deepnote_index_column": "2021-06-22 14:30:00-04:00"
        },
        {
         "Close": 235.97999572753903,
         "RSI": 57.89150963871408,
         "_deepnote_index_column": "2021-06-22 15:30:00-04:00"
        },
        {
         "Close": 241.4900054931641,
         "RSI": 68.77179196307021,
         "_deepnote_index_column": "2021-06-23 09:30:00-04:00"
        },
        {
         "Close": 239.5249938964844,
         "RSI": 62.56328113686691,
         "_deepnote_index_column": "2021-06-23 10:30:00-04:00"
        },
        {
         "Close": 240.22000122070312,
         "RSI": 63.807798749462776,
         "_deepnote_index_column": "2021-06-23 11:30:00-04:00"
        },
        {
         "Close": 240.23800659179688,
         "RSI": 63.84133488659859,
         "_deepnote_index_column": "2021-06-23 12:30:00-04:00"
        },
        {
         "Close": 238.61019897460935,
         "RSI": 58.55842604494167,
         "_deepnote_index_column": "2021-06-23 13:30:00-04:00"
        },
        {
         "Close": 239.2700042724609,
         "RSI": 60.003180431535114,
         "_deepnote_index_column": "2021-06-23 14:30:00-04:00"
        },
        {
         "Close": 238.69000244140625,
         "RSI": 58.08615164617549,
         "_deepnote_index_column": "2021-06-23 15:30:00-04:00"
        },
        {
         "Close": 245.1999969482422,
         "RSI": 69.76306525553747,
         "_deepnote_index_column": "2021-06-24 09:30:00-04:00"
        },
        {
         "Close": 246.50999450683597,
         "RSI": 71.48463272067399,
         "_deepnote_index_column": "2021-06-24 10:30:00-04:00"
        },
        {
         "Close": 248.32000732421875,
         "RSI": 73.71175340434378,
         "_deepnote_index_column": "2021-06-24 11:30:00-04:00"
        },
        {
         "Close": 245.02999877929688,
         "RSI": 63.93677967558255,
         "_deepnote_index_column": "2021-06-24 12:30:00-04:00"
        },
        {
         "Close": 244.94900512695312,
         "RSI": 63.71278171474604,
         "_deepnote_index_column": "2021-06-24 13:30:00-04:00"
        },
        {
         "Close": 243.6499938964844,
         "RSI": 60.07739192678871,
         "_deepnote_index_column": "2021-06-24 14:30:00-04:00"
        },
        {
         "Close": 244.27999877929688,
         "RSI": 61.23272029382068,
         "_deepnote_index_column": "2021-06-24 15:30:00-04:00"
        },
        {
         "Close": 240.6300048828125,
         "RSI": 51.86755925852582,
         "_deepnote_index_column": "2021-06-25 09:30:00-04:00"
        },
        {
         "Close": 240.1074981689453,
         "RSI": 50.67277147242246,
         "_deepnote_index_column": "2021-06-25 10:30:00-04:00"
        },
        {
         "Close": 237.66000366210935,
         "RSI": 45.39753678389326,
         "_deepnote_index_column": "2021-06-25 11:30:00-04:00"
        },
        {
         "Close": 238.6743011474609,
         "RSI": 47.821825365456306,
         "_deepnote_index_column": "2021-06-25 12:30:00-04:00"
        },
        {
         "Close": 237.6100006103516,
         "RSI": 45.5371648063503,
         "_deepnote_index_column": "2021-06-25 13:30:00-04:00"
        },
        {
         "Close": 238.72999572753903,
         "RSI": 48.33442786271223,
         "_deepnote_index_column": "2021-06-25 14:30:00-04:00"
        },
        {
         "Close": 240.2400054931641,
         "RSI": 51.91990295161607,
         "_deepnote_index_column": "2021-06-25 15:30:00-04:00"
        },
        {
         "Close": 243.7303924560547,
         "RSI": 59.00234442238183,
         "_deepnote_index_column": "2021-06-28 09:30:00-04:00"
        },
        {
         "Close": 244.6999969482422,
         "RSI": 60.73277276087882,
         "_deepnote_index_column": "2021-06-28 10:30:00-04:00"
        },
        {
         "Close": 246.4900054931641,
         "RSI": 63.772781003905806,
         "_deepnote_index_column": "2021-06-28 11:30:00-04:00"
        },
        {
         "Close": 245.44000244140625,
         "RSI": 60.79931255340353,
         "_deepnote_index_column": "2021-06-28 12:30:00-04:00"
        },
        {
         "Close": 246.9199981689453,
         "RSI": 63.390374793020015,
         "_deepnote_index_column": "2021-06-28 13:30:00-04:00"
        },
        {
         "Close": 246.84500122070312,
         "RSI": 63.16254443525626,
         "_deepnote_index_column": "2021-06-28 14:30:00-04:00"
        },
        {
         "Close": 246.6000061035156,
         "RSI": 62.37388484744059,
         "_deepnote_index_column": "2021-06-28 15:30:00-04:00"
        },
        {
         "Close": 248.5399932861328,
         "RSI": 65.99467243966768,
         "_deepnote_index_column": "2021-06-29 09:30:00-04:00"
        },
        {
         "Close": 247.0449981689453,
         "RSI": 61.11399673809125,
         "_deepnote_index_column": "2021-06-29 10:30:00-04:00"
        },
        {
         "Close": 248.69500732421875,
         "RSI": 64.25599239964046,
         "_deepnote_index_column": "2021-06-29 11:30:00-04:00"
        },
        {
         "Close": 249.4600067138672,
         "RSI": 65.64210416397252,
         "_deepnote_index_column": "2021-06-29 12:30:00-04:00"
        },
        {
         "Close": 248.9398956298828,
         "RSI": 63.829771169913506,
         "_deepnote_index_column": "2021-06-29 13:30:00-04:00"
        },
        {
         "Close": 248.28570556640625,
         "RSI": 61.52872191703766,
         "_deepnote_index_column": "2021-06-29 14:30:00-04:00"
        },
        {
         "Close": 248.8800048828125,
         "RSI": 62.83932793470082,
         "_deepnote_index_column": "2021-06-29 15:30:00-04:00"
        },
        {
         "Close": 245.94000244140625,
         "RSI": 53.18632064197678,
         "_deepnote_index_column": "2021-06-30 09:30:00-04:00"
        },
        {
         "Close": 245.2700042724609,
         "RSI": 51.25404166678462,
         "_deepnote_index_column": "2021-06-30 10:30:00-04:00"
        },
        {
         "Close": 243.9900054931641,
         "RSI": 47.68942685780367,
         "_deepnote_index_column": "2021-06-30 11:30:00-04:00"
        },
        {
         "Close": 244.33999633789065,
         "RSI": 48.73921474170717,
         "_deepnote_index_column": "2021-06-30 12:30:00-04:00"
        },
        {
         "Close": 244.0800018310547,
         "RSI": 47.96908187935335,
         "_deepnote_index_column": "2021-06-30 13:30:00-04:00"
        },
        {
         "Close": 244.07000732421875,
         "RSI": 47.93772401919473,
         "_deepnote_index_column": "2021-06-30 14:30:00-04:00"
        },
        {
         "Close": 243.72999572753903,
         "RSI": 46.816478300147516,
         "_deepnote_index_column": "2021-06-30 15:30:00-04:00"
        },
        {
         "Close": 242.2899932861328,
         "RSI": 42.30358803484678,
         "_deepnote_index_column": "2021-07-01 09:30:00-04:00"
        },
        {
         "Close": 238.9718017578125,
         "RSI": 34.13755169970315,
         "_deepnote_index_column": "2021-07-01 10:30:00-04:00"
        },
        {
         "Close": 241.07000732421875,
         "RSI": 41.78941706919933,
         "_deepnote_index_column": "2021-07-01 11:30:00-04:00"
        },
        {
         "Close": 241.2550048828125,
         "RSI": 42.4245569508109,
         "_deepnote_index_column": "2021-07-01 12:30:00-04:00"
        },
        {
         "Close": 241.63499450683597,
         "RSI": 43.78142523394438,
         "_deepnote_index_column": "2021-07-01 13:30:00-04:00"
        },
        {
         "Close": 241.8199005126953,
         "RSI": 44.467250595381614,
         "_deepnote_index_column": "2021-07-01 14:30:00-04:00"
        },
        {
         "Close": 241.9600067138672,
         "RSI": 45.0146093244697,
         "_deepnote_index_column": "2021-07-01 15:30:00-04:00"
        },
        {
         "Close": 241.0200042724609,
         "RSI": 42.02196221792951,
         "_deepnote_index_column": "2021-07-02 09:30:00-04:00"
        },
        {
         "Close": 239.92999267578125,
         "RSI": 38.80068407926426,
         "_deepnote_index_column": "2021-07-02 10:30:00-04:00"
        },
        {
         "Close": 239.7250061035156,
         "RSI": 38.20751343472937,
         "_deepnote_index_column": "2021-07-02 11:30:00-04:00"
        },
        {
         "Close": 240.2400054931641,
         "RSI": 40.66188330119498,
         "_deepnote_index_column": "2021-07-02 12:30:00-04:00"
        },
        {
         "Close": 240.9122009277344,
         "RSI": 43.799624247971835,
         "_deepnote_index_column": "2021-07-02 13:30:00-04:00"
        },
        {
         "Close": 240.97999572753903,
         "RSI": 44.12056204233328,
         "_deepnote_index_column": "2021-07-02 14:30:00-04:00"
        },
        {
         "Close": 241.1000061035156,
         "RSI": 44.722342900051984,
         "_deepnote_index_column": "2021-07-02 15:30:00-04:00"
        },
        {
         "Close": 248.19000244140625,
         "RSI": 67.19757510555779,
         "_deepnote_index_column": "2021-07-06 09:30:00-04:00"
        },
        {
         "Close": 245.9600067138672,
         "RSI": 59.06336395226175,
         "_deepnote_index_column": "2021-07-06 10:30:00-04:00"
        },
        {
         "Close": 244.1450042724609,
         "RSI": 53.3978008881522,
         "_deepnote_index_column": "2021-07-06 11:30:00-04:00"
        },
        {
         "Close": 245.0800018310547,
         "RSI": 55.75248025340017,
         "_deepnote_index_column": "2021-07-06 12:30:00-04:00"
        },
        {
         "Close": 245.51040649414065,
         "RSI": 56.833717966304754,
         "_deepnote_index_column": "2021-07-06 13:30:00-04:00"
        },
        {
         "Close": 246.4900054931641,
         "RSI": 59.27304613143545,
         "_deepnote_index_column": "2021-07-06 14:30:00-04:00"
        },
        {
         "Close": 246.7899932861328,
         "RSI": 60.018169516223494,
         "_deepnote_index_column": "2021-07-06 15:30:00-04:00"
        },
        {
         "Close": 248.6000061035156,
         "RSI": 64.26620518670902,
         "_deepnote_index_column": "2021-07-07 09:30:00-04:00"
        },
        {
         "Close": 247.22579956054688,
         "RSI": 59.129498995920045,
         "_deepnote_index_column": "2021-07-07 10:30:00-04:00"
        },
        {
         "Close": 247.1000061035156,
         "RSI": 58.66723674843767,
         "_deepnote_index_column": "2021-07-07 11:30:00-04:00"
        },
        {
         "Close": 245.8300018310547,
         "RSI": 54.071214088681515,
         "_deepnote_index_column": "2021-07-07 12:30:00-04:00"
        },
        {
         "Close": 246.4850006103516,
         "RSI": 55.98632593633228,
         "_deepnote_index_column": "2021-07-07 13:30:00-04:00"
        },
        {
         "Close": 245.69000244140625,
         "RSI": 53.092624670268364,
         "_deepnote_index_column": "2021-07-07 14:30:00-04:00"
        },
        {
         "Close": 244.63999938964844,
         "RSI": 49.456769405541834,
         "_deepnote_index_column": "2021-07-07 15:30:00-04:00"
        },
        {
         "Close": 235.33999633789065,
         "RSI": 29.915687852044755,
         "_deepnote_index_column": "2021-07-08 09:30:00-04:00"
        },
        {
         "Close": 233.2899932861328,
         "RSI": 27.35036473217255,
         "_deepnote_index_column": "2021-07-08 10:30:00-04:00"
        },
        {
         "Close": 235.55999755859372,
         "RSI": 34.0902090750336,
         "_deepnote_index_column": "2021-07-08 11:30:00-04:00"
        },
        {
         "Close": 237.1199951171875,
         "RSI": 38.32477682303494,
         "_deepnote_index_column": "2021-07-08 12:30:00-04:00"
        },
        {
         "Close": 236.86019897460935,
         "RSI": 37.88820406304441,
         "_deepnote_index_column": "2021-07-08 13:30:00-04:00"
        },
        {
         "Close": 236.3699951171875,
         "RSI": 37.031025216464336,
         "_deepnote_index_column": "2021-07-08 14:30:00-04:00"
        },
        {
         "Close": 235.83999633789065,
         "RSI": 36.08058709091079,
         "_deepnote_index_column": "2021-07-08 15:30:00-04:00"
        },
        {
         "Close": 237.875,
         "RSI": 42.21340700828091,
         "_deepnote_index_column": "2021-07-09 09:30:00-04:00"
        },
        {
         "Close": 240.1499938964844,
         "RSI": 48.19724734074209,
         "_deepnote_index_column": "2021-07-09 10:30:00-04:00"
        },
        {
         "Close": 240.5500030517578,
         "RSI": 49.193448412484855,
         "_deepnote_index_column": "2021-07-09 11:30:00-04:00"
        },
        {
         "Close": 240.8800048828125,
         "RSI": 50.0469170472997,
         "_deepnote_index_column": "2021-07-09 12:30:00-04:00"
        },
        {
         "Close": 241.91000366210935,
         "RSI": 52.71672742900095,
         "_deepnote_index_column": "2021-07-09 13:30:00-04:00"
        },
        {
         "Close": 240.67999267578125,
         "RSI": 49.32630605007739,
         "_deepnote_index_column": "2021-07-09 14:30:00-04:00"
        },
        {
         "Close": 241.8999938964844,
         "RSI": 52.58368996693032,
         "_deepnote_index_column": "2021-07-09 15:30:00-04:00"
        },
        {
         "Close": 243.3500061035156,
         "RSI": 56.188409500122646,
         "_deepnote_index_column": "2021-07-12 09:30:00-04:00"
        },
        {
         "Close": 243.1999969482422,
         "RSI": 55.71650040595305,
         "_deepnote_index_column": "2021-07-12 10:30:00-04:00"
        },
        {
         "Close": 243.1499938964844,
         "RSI": 55.54902483164723,
         "_deepnote_index_column": "2021-07-12 11:30:00-04:00"
        },
        {
         "Close": 243.0500030517578,
         "RSI": 55.19175997422764,
         "_deepnote_index_column": "2021-07-12 12:30:00-04:00"
        },
        {
         "Close": 242.97000122070312,
         "RSI": 54.88759274860042,
         "_deepnote_index_column": "2021-07-12 13:30:00-04:00"
        },
        {
         "Close": 243.4010009765625,
         "RSI": 56.28533504662924,
         "_deepnote_index_column": "2021-07-12 14:30:00-04:00"
        },
        {
         "Close": 243.27999877929688,
         "RSI": 55.76296546070173,
         "_deepnote_index_column": "2021-07-12 15:30:00-04:00"
        },
        {
         "Close": 244.2700042724609,
         "RSI": 59.106927942313746,
         "_deepnote_index_column": "2021-07-13 09:30:00-04:00"
        },
        {
         "Close": 244.7100067138672,
         "RSI": 60.53480814988931,
         "_deepnote_index_column": "2021-07-13 10:30:00-04:00"
        },
        {
         "Close": 244.8374938964844,
         "RSI": 60.96015792628315,
         "_deepnote_index_column": "2021-07-13 11:30:00-04:00"
        },
        {
         "Close": 242.72999572753903,
         "RSI": 51.14645524954306,
         "_deepnote_index_column": "2021-07-13 12:30:00-04:00"
        },
        {
         "Close": 242.3500061035156,
         "RSI": 49.596126547197,
         "_deepnote_index_column": "2021-07-13 13:30:00-04:00"
        },
        {
         "Close": 241.46499633789065,
         "RSI": 46.091887315921134,
         "_deepnote_index_column": "2021-07-13 14:30:00-04:00"
        },
        {
         "Close": 241.42999267578125,
         "RSI": 45.95358943326701,
         "_deepnote_index_column": "2021-07-13 15:30:00-04:00"
        },
        {
         "Close": 244.05239868164065,
         "RSI": 56.48723794661228,
         "_deepnote_index_column": "2021-07-14 09:30:00-04:00"
        },
        {
         "Close": 241.38999938964844,
         "RSI": 46.564625620912,
         "_deepnote_index_column": "2021-07-14 10:30:00-04:00"
        },
        {
         "Close": 241.75,
         "RSI": 47.89737958101752,
         "_deepnote_index_column": "2021-07-14 11:30:00-04:00"
        },
        {
         "Close": 239.96499633789065,
         "RSI": 42.268081807332756,
         "_deepnote_index_column": "2021-07-14 12:30:00-04:00"
        },
        {
         "Close": 240.1407928466797,
         "RSI": 42.97886014036949,
         "_deepnote_index_column": "2021-07-14 13:30:00-04:00"
        },
        {
         "Close": 238.8497009277344,
         "RSI": 39.16513474902921,
         "_deepnote_index_column": "2021-07-14 14:30:00-04:00"
        },
        {
         "Close": 238.97000122070312,
         "RSI": 39.70203227849386,
         "_deepnote_index_column": "2021-07-14 15:30:00-04:00"
        },
        {
         "Close": 239.2400054931641,
         "RSI": 40.96143118207015,
         "_deepnote_index_column": "2021-07-15 09:30:00-04:00"
        },
        {
         "Close": 239.3500061035156,
         "RSI": 41.497528936769385,
         "_deepnote_index_column": "2021-07-15 10:30:00-04:00"
        },
        {
         "Close": 235.58999633789065,
         "RSI": 31.10148951894074,
         "_deepnote_index_column": "2021-07-15 11:30:00-04:00"
        },
        {
         "Close": 235.3600006103516,
         "RSI": 30.596556568444385,
         "_deepnote_index_column": "2021-07-15 12:30:00-04:00"
        },
        {
         "Close": 234.4499969482422,
         "RSI": 28.616928525483317,
         "_deepnote_index_column": "2021-07-15 13:30:00-04:00"
        },
        {
         "Close": 235.3699951171875,
         "RSI": 33.314475408424414,
         "_deepnote_index_column": "2021-07-15 14:30:00-04:00"
        },
        {
         "Close": 235.16000366210935,
         "RSI": 32.78415393114123,
         "_deepnote_index_column": "2021-07-15 15:30:00-04:00"
        },
        {
         "Close": 235.2400054931641,
         "RSI": 33.220301721844294,
         "_deepnote_index_column": "2021-07-16 09:30:00-04:00"
        },
        {
         "Close": 236.7400054931641,
         "RSI": 40.95622476819162,
         "_deepnote_index_column": "2021-07-16 10:30:00-04:00"
        },
        {
         "Close": 239.3300018310547,
         "RSI": 51.420582259066876,
         "_deepnote_index_column": "2021-07-16 11:30:00-04:00"
        },
        {
         "Close": 238.49400329589844,
         "RSI": 48.436555257786004,
         "_deepnote_index_column": "2021-07-16 12:30:00-04:00"
        },
        {
         "Close": 237.6909942626953,
         "RSI": 45.69358803474977,
         "_deepnote_index_column": "2021-07-16 13:30:00-04:00"
        },
        {
         "Close": 237.264892578125,
         "RSI": 44.26124034217491,
         "_deepnote_index_column": "2021-07-16 14:30:00-04:00"
        },
        {
         "Close": 237.55999755859372,
         "RSI": 45.534630865901676,
         "_deepnote_index_column": "2021-07-16 15:30:00-04:00"
        },
        {
         "Close": 228.5399932861328,
         "RSI": 25.990051169032924,
         "_deepnote_index_column": "2021-07-19 09:30:00-04:00"
        },
        {
         "Close": 231.9199981689453,
         "RSI": 36.91685443384269,
         "_deepnote_index_column": "2021-07-19 10:30:00-04:00"
        },
        {
         "Close": 231.6100006103516,
         "RSI": 36.386255932548906,
         "_deepnote_index_column": "2021-07-19 11:30:00-04:00"
        },
        {
         "Close": 230.59500122070312,
         "RSI": 34.631161154257015,
         "_deepnote_index_column": "2021-07-19 12:30:00-04:00"
        },
        {
         "Close": 232.83450317382807,
         "RSI": 41.35287859781712,
         "_deepnote_index_column": "2021-07-19 13:30:00-04:00"
        },
        {
         "Close": 232,
         "RSI": 39.71411756179188,
         "_deepnote_index_column": "2021-07-19 14:30:00-04:00"
        },
        {
         "Close": 233.69000244140625,
         "RSI": 44.510001034210866,
         "_deepnote_index_column": "2021-07-19 15:30:00-04:00"
        },
        {
         "Close": 236.32000732421875,
         "RSI": 51.03781403975068,
         "_deepnote_index_column": "2021-07-20 09:30:00-04:00"
        },
        {
         "Close": 242.1000061035156,
         "RSI": 61.70117890510956,
         "_deepnote_index_column": "2021-07-20 10:30:00-04:00"
        },
        {
         "Close": 241.9544982910156,
         "RSI": 61.33900807572948,
         "_deepnote_index_column": "2021-07-20 11:30:00-04:00"
        },
        {
         "Close": 244.2050018310547,
         "RSI": 64.7821932788896,
         "_deepnote_index_column": "2021-07-20 12:30:00-04:00"
        },
        {
         "Close": 246.2899932861328,
         "RSI": 67.65619949308135,
         "_deepnote_index_column": "2021-07-20 13:30:00-04:00"
        },
        {
         "Close": 246.75,
         "RSI": 68.27140583133988,
         "_deepnote_index_column": "2021-07-20 14:30:00-04:00"
        },
        {
         "Close": 246.5399932861328,
         "RSI": 67.63887771225092,
         "_deepnote_index_column": "2021-07-20 15:30:00-04:00"
        },
        {
         "Close": 252.5,
         "RSI": 74.78022882140449,
         "_deepnote_index_column": "2021-07-21 09:30:00-04:00"
        },
        {
         "Close": 252.33999633789065,
         "RSI": 74.30615122133115,
         "_deepnote_index_column": "2021-07-21 10:30:00-04:00"
        },
        {
         "Close": 253.4499969482422,
         "RSI": 75.46806123872052,
         "_deepnote_index_column": "2021-07-21 11:30:00-04:00"
        },
        {
         "Close": 256.31298828125,
         "RSI": 78.20565304134719,
         "_deepnote_index_column": "2021-07-21 12:30:00-04:00"
        },
        {
         "Close": 258.3500061035156,
         "RSI": 79.92240659002397,
         "_deepnote_index_column": "2021-07-21 13:30:00-04:00"
        },
        {
         "Close": 256.864990234375,
         "RSI": 75.26768609627362,
         "_deepnote_index_column": "2021-07-21 14:30:00-04:00"
        },
        {
         "Close": 257.25,
         "RSI": 75.66342598681551,
         "_deepnote_index_column": "2021-07-21 15:30:00-04:00"
        },
        {
         "Close": 261.4700012207031,
         "RSI": 79.52971625695372,
         "_deepnote_index_column": "2021-07-22 09:30:00-04:00"
        },
        {
         "Close": 259.3299865722656,
         "RSI": 73.18051181140541,
         "_deepnote_index_column": "2021-07-22 10:30:00-04:00"
        },
        {
         "Close": 259.5599975585937,
         "RSI": 73.42607434854312,
         "_deepnote_index_column": "2021-07-22 11:30:00-04:00"
        },
        {
         "Close": 260.5299987792969,
         "RSI": 74.48699199999058,
         "_deepnote_index_column": "2021-07-22 12:30:00-04:00"
        },
        {
         "Close": 260.9700012207031,
         "RSI": 74.97504474309646,
         "_deepnote_index_column": "2021-07-22 13:30:00-04:00"
        },
        {
         "Close": 260.25,
         "RSI": 72.53000659391125,
         "_deepnote_index_column": "2021-07-22 14:30:00-04:00"
        },
        {
         "Close": 260.6000061035156,
         "RSI": 72.99111457264469,
         "_deepnote_index_column": "2021-07-22 15:30:00-04:00"
        },
        {
         "Close": 265.1700134277344,
         "RSI": 78.14870858021936,
         "_deepnote_index_column": "2021-07-23 09:30:00-04:00"
        },
        {
         "Close": 264.2900085449219,
         "RSI": 75.17191333323251,
         "_deepnote_index_column": "2021-07-23 10:30:00-04:00"
        },
        {
         "Close": 263.6000061035156,
         "RSI": 72.82938930089833,
         "_deepnote_index_column": "2021-07-23 11:30:00-04:00"
        },
        {
         "Close": 263.1000061035156,
         "RSI": 71.10035239126842,
         "_deepnote_index_column": "2021-07-23 12:30:00-04:00"
        },
        {
         "Close": 263.8299865722656,
         "RSI": 72.14027343121478,
         "_deepnote_index_column": "2021-07-23 13:30:00-04:00"
        },
        {
         "Close": 263.8399963378906,
         "RSI": 72.15506966910765,
         "_deepnote_index_column": "2021-07-23 14:30:00-04:00"
        },
        {
         "Close": 264.07000732421875,
         "RSI": 72.51627931278668,
         "_deepnote_index_column": "2021-07-23 15:30:00-04:00"
        },
        {
         "Close": 263.79998779296875,
         "RSI": 71.34619992290048,
         "_deepnote_index_column": "2021-07-26 09:30:00-04:00"
        },
        {
         "Close": 261.90008544921875,
         "RSI": 63.57342313426681,
         "_deepnote_index_column": "2021-07-26 10:30:00-04:00"
        },
        {
         "Close": 262.4599914550781,
         "RSI": 64.79081352999137,
         "_deepnote_index_column": "2021-07-26 11:30:00-04:00"
        },
        {
         "Close": 262.6000061035156,
         "RSI": 65.10487832630284,
         "_deepnote_index_column": "2021-07-26 12:30:00-04:00"
        },
        {
         "Close": 261.5639953613281,
         "RSI": 60.78440892352517,
         "_deepnote_index_column": "2021-07-26 13:30:00-04:00"
        },
        {
         "Close": 262.54998779296875,
         "RSI": 63.281833575893764,
         "_deepnote_index_column": "2021-07-26 14:30:00-04:00"
        },
        {
         "Close": 262.04998779296875,
         "RSI": 61.15493753736776,
         "_deepnote_index_column": "2021-07-26 15:30:00-04:00"
        },
        {
         "Close": 253.86720275878903,
         "RSI": 38.405309550635266,
         "_deepnote_index_column": "2021-07-27 09:30:00-04:00"
        },
        {
         "Close": 246.5540008544922,
         "RSI": 28.279914625214218,
         "_deepnote_index_column": "2021-07-27 10:30:00-04:00"
        },
        {
         "Close": 248.9900054931641,
         "RSI": 34.476768298557005,
         "_deepnote_index_column": "2021-07-27 11:30:00-04:00"
        },
        {
         "Close": 247.6300048828125,
         "RSI": 32.77418630049159,
         "_deepnote_index_column": "2021-07-27 12:30:00-04:00"
        },
        {
         "Close": 250.6100006103516,
         "RSI": 39.79048163907608,
         "_deepnote_index_column": "2021-07-27 13:30:00-04:00"
        },
        {
         "Close": 252.2700042724609,
         "RSI": 43.33813168298867,
         "_deepnote_index_column": "2021-07-27 14:30:00-04:00"
        },
        {
         "Close": 251.72999572753903,
         "RSI": 42.46163831298848,
         "_deepnote_index_column": "2021-07-27 15:30:00-04:00"
        },
        {
         "Close": 256.29998779296875,
         "RSI": 51.41663691777155,
         "_deepnote_index_column": "2021-07-28 09:30:00-04:00"
        },
        {
         "Close": 258.4150085449219,
         "RSI": 54.91394683706565,
         "_deepnote_index_column": "2021-07-28 10:30:00-04:00"
        },
        {
         "Close": 258.95001220703125,
         "RSI": 55.78107155142666,
         "_deepnote_index_column": "2021-07-28 11:30:00-04:00"
        },
        {
         "Close": 257.0400085449219,
         "RSI": 51.94040333078088,
         "_deepnote_index_column": "2021-07-28 12:30:00-04:00"
        },
        {
         "Close": 258.4800109863281,
         "RSI": 54.48482934063475,
         "_deepnote_index_column": "2021-07-28 13:30:00-04:00"
        },
        {
         "Close": 259.7099914550781,
         "RSI": 56.598485127860556,
         "_deepnote_index_column": "2021-07-28 14:30:00-04:00"
        },
        {
         "Close": 258.4700012207031,
         "RSI": 53.88188568785211,
         "_deepnote_index_column": "2021-07-28 15:30:00-04:00"
        },
        {
         "Close": 259.70001220703125,
         "RSI": 56.13120894995633,
         "_deepnote_index_column": "2021-07-29 09:30:00-04:00"
        },
        {
         "Close": 260.1900939941406,
         "RSI": 57.03046880237724,
         "_deepnote_index_column": "2021-07-29 10:30:00-04:00"
        },
        {
         "Close": 260.2200012207031,
         "RSI": 57.088278106431325,
         "_deepnote_index_column": "2021-07-29 11:30:00-04:00"
        },
        {
         "Close": 257.864990234375,
         "RSI": 51.2421787410819,
         "_deepnote_index_column": "2021-07-29 12:30:00-04:00"
        },
        {
         "Close": 255.4700927734375,
         "RSI": 46.07489540088113,
         "_deepnote_index_column": "2021-07-29 13:30:00-04:00"
        },
        {
         "Close": 254.93499755859372,
         "RSI": 44.983415007257534,
         "_deepnote_index_column": "2021-07-29 14:30:00-04:00"
        },
        {
         "Close": 255.2700042724609,
         "RSI": 45.848324387740625,
         "_deepnote_index_column": "2021-07-29 15:30:00-04:00"
        },
        {
         "Close": 251.60499572753903,
         "RSI": 38.68345332429556,
         "_deepnote_index_column": "2021-07-30 09:30:00-04:00"
        },
        {
         "Close": 248.32000732421875,
         "RSI": 33.61311230136927,
         "_deepnote_index_column": "2021-07-30 10:30:00-04:00"
        },
        {
         "Close": 247.17999267578125,
         "RSI": 32.04342847121987,
         "_deepnote_index_column": "2021-07-30 11:30:00-04:00"
        },
        {
         "Close": 247.5984039306641,
         "RSI": 33.275027871629774,
         "_deepnote_index_column": "2021-07-30 12:30:00-04:00"
        },
        {
         "Close": 245.7700042724609,
         "RSI": 30.660076042982382,
         "_deepnote_index_column": "2021-07-30 13:30:00-04:00"
        },
        {
         "Close": 245.9199981689453,
         "RSI": 31.138167496070963,
         "_deepnote_index_column": "2021-07-30 14:30:00-04:00"
        },
        {
         "Close": 247.25,
         "RSI": 35.39197119630717,
         "_deepnote_index_column": "2021-07-30 15:30:00-04:00"
        },
        {
         "Close": 269.95001220703125,
         "RSI": 69.74461209857066,
         "_deepnote_index_column": "2021-08-02 09:30:00-04:00"
        },
        {
         "Close": 275.239990234375,
         "RSI": 73.30658229953019,
         "_deepnote_index_column": "2021-08-02 10:30:00-04:00"
        },
        {
         "Close": 275.19000244140625,
         "RSI": 73.21886095035566,
         "_deepnote_index_column": "2021-08-02 11:30:00-04:00"
        },
        {
         "Close": 276.32000732421875,
         "RSI": 73.9769522797058,
         "_deepnote_index_column": "2021-08-02 12:30:00-04:00"
        },
        {
         "Close": 279.6247863769531,
         "RSI": 76.10709289042002,
         "_deepnote_index_column": "2021-08-02 13:30:00-04:00"
        },
        {
         "Close": 273.1388854980469,
         "RSI": 64.8820669733638,
         "_deepnote_index_column": "2021-08-02 14:30:00-04:00"
        },
        {
         "Close": 272.3999938964844,
         "RSI": 63.728895951795515,
         "_deepnote_index_column": "2021-08-02 15:30:00-04:00"
        },
        {
         "Close": 266.0799865722656,
         "RSI": 54.76328180258664,
         "_deepnote_index_column": "2021-08-03 09:30:00-04:00"
        },
        {
         "Close": 263.3099975585937,
         "RSI": 51.353262497595,
         "_deepnote_index_column": "2021-08-03 10:30:00-04:00"
        },
        {
         "Close": 271.67999267578125,
         "RSI": 59.5496345289093,
         "_deepnote_index_column": "2021-08-03 11:30:00-04:00"
        },
        {
         "Close": 268.8900146484375,
         "RSI": 56.15335141160017,
         "_deepnote_index_column": "2021-08-03 12:30:00-04:00"
        },
        {
         "Close": 266.9849853515625,
         "RSI": 53.893166124493256,
         "_deepnote_index_column": "2021-08-03 13:30:00-04:00"
        },
        {
         "Close": 269.6798095703125,
         "RSI": 56.55696820831437,
         "_deepnote_index_column": "2021-08-03 14:30:00-04:00"
        },
        {
         "Close": 269.3999938964844,
         "RSI": 56.19392999658841,
         "_deepnote_index_column": "2021-08-03 15:30:00-04:00"
        },
        {
         "Close": 263.5899963378906,
         "RSI": 49.14058486305855,
         "_deepnote_index_column": "2021-08-04 09:30:00-04:00"
        },
        {
         "Close": 265.6600036621094,
         "RSI": 51.47743106430032,
         "_deepnote_index_column": "2021-08-04 10:30:00-04:00"
        },
        {
         "Close": 265.4100036621094,
         "RSI": 51.171628714108415,
         "_deepnote_index_column": "2021-08-04 11:30:00-04:00"
        },
        {
         "Close": 266.4849853515625,
         "RSI": 52.4788720455278,
         "_deepnote_index_column": "2021-08-04 12:30:00-04:00"
        },
        {
         "Close": 265.9200134277344,
         "RSI": 51.695536691297825,
         "_deepnote_index_column": "2021-08-04 13:30:00-04:00"
        },
        {
         "Close": 265.5,
         "RSI": 51.08504742986717,
         "_deepnote_index_column": "2021-08-04 14:30:00-04:00"
        },
        {
         "Close": 266.45001220703125,
         "RSI": 52.45277882267458,
         "_deepnote_index_column": "2021-08-04 15:30:00-04:00"
        },
        {
         "Close": 278.2344970703125,
         "RSI": 65.38318974009775,
         "_deepnote_index_column": "2021-08-05 09:30:00-04:00"
        },
        {
         "Close": 287.25,
         "RSI": 71.7195223439506,
         "_deepnote_index_column": "2021-08-05 10:30:00-04:00"
        },
        {
         "Close": 287.32000732421875,
         "RSI": 71.7627450145397,
         "_deepnote_index_column": "2021-08-05 11:30:00-04:00"
        },
        {
         "Close": 283.7300109863281,
         "RSI": 66.17716562091539,
         "_deepnote_index_column": "2021-08-05 12:30:00-04:00"
        },
        {
         "Close": 283.8900146484375,
         "RSI": 66.30305246579763,
         "_deepnote_index_column": "2021-08-05 13:30:00-04:00"
        },
        {
         "Close": 282.4599914550781,
         "RSI": 64.00998966578653,
         "_deepnote_index_column": "2021-08-05 14:30:00-04:00"
        },
        {
         "Close": 281.79998779296875,
         "RSI": 62.928266472792586,
         "_deepnote_index_column": "2021-08-05 15:30:00-04:00"
        },
        {
         "Close": 279.1000061035156,
         "RSI": 58.567860734617625,
         "_deepnote_index_column": "2021-08-06 09:30:00-04:00"
        },
        {
         "Close": 277.2200012207031,
         "RSI": 55.67502105377606,
         "_deepnote_index_column": "2021-08-06 10:30:00-04:00"
        },
        {
         "Close": 278.6400146484375,
         "RSI": 57.38710176734184,
         "_deepnote_index_column": "2021-08-06 11:30:00-04:00"
        },
        {
         "Close": 276.6119079589844,
         "RSI": 54.168931655395305,
         "_deepnote_index_column": "2021-08-06 12:30:00-04:00"
        },
        {
         "Close": 276.2349853515625,
         "RSI": 53.567697345559104,
         "_deepnote_index_column": "2021-08-06 13:30:00-04:00"
        },
        {
         "Close": 276.0409851074219,
         "RSI": 53.24015491368168,
         "_deepnote_index_column": "2021-08-06 14:30:00-04:00"
        },
        {
         "Close": 275.06500244140625,
         "RSI": 51.532993929250736,
         "_deepnote_index_column": "2021-08-06 15:30:00-04:00"
        }
       ]
      },
      "text/plain": "                                Close        RSI\nDatetime                                        \n2019-09-03 09:30:00-04:00   62.959999        NaN\n2019-09-03 10:30:00-04:00   62.320000   0.000000\n2019-09-03 11:30:00-04:00   62.000000   0.000000\n2019-09-03 12:30:00-04:00   61.774899   0.000000\n2019-09-03 13:30:00-04:00   61.360001   0.000000\n...                               ...        ...\n2021-08-06 11:30:00-04:00  278.640015  57.387102\n2021-08-06 12:30:00-04:00  276.611908  54.168932\n2021-08-06 13:30:00-04:00  276.234985  53.567697\n2021-08-06 14:30:00-04:00  276.040985  53.240155\n2021-08-06 15:30:00-04:00  275.065002  51.532994\n\n[3397 rows x 2 columns]",
      "text/html": "<div>\n<style scoped>\n    .dataframe tbody tr th:only-of-type {\n        vertical-align: middle;\n    }\n\n    .dataframe tbody tr th {\n        vertical-align: top;\n    }\n\n    .dataframe thead th {\n        text-align: right;\n    }\n</style>\n<table border=\"1\" class=\"dataframe\">\n  <thead>\n    <tr style=\"text-align: right;\">\n      <th></th>\n      <th>Close</th>\n      <th>RSI</th>\n    </tr>\n    <tr>\n      <th>Datetime</th>\n      <th></th>\n      <th></th>\n    </tr>\n  </thead>\n  <tbody>\n    <tr>\n      <th>2019-09-03 09:30:00-04:00</th>\n      <td>62.959999</td>\n      <td>NaN</td>\n    </tr>\n    <tr>\n      <th>2019-09-03 10:30:00-04:00</th>\n      <td>62.320000</td>\n      <td>0.000000</td>\n    </tr>\n    <tr>\n      <th>2019-09-03 11:30:00-04:00</th>\n      <td>62.000000</td>\n      <td>0.000000</td>\n    </tr>\n    <tr>\n      <th>2019-09-03 12:30:00-04:00</th>\n      <td>61.774899</td>\n      <td>0.000000</td>\n    </tr>\n    <tr>\n      <th>2019-09-03 13:30:00-04:00</th>\n      <td>61.360001</td>\n      <td>0.000000</td>\n    </tr>\n    <tr>\n      <th>...</th>\n      <td>...</td>\n      <td>...</td>\n    </tr>\n    <tr>\n      <th>2021-08-06 11:30:00-04:00</th>\n      <td>278.640015</td>\n      <td>57.387102</td>\n    </tr>\n    <tr>\n      <th>2021-08-06 12:30:00-04:00</th>\n      <td>276.611908</td>\n      <td>54.168932</td>\n    </tr>\n    <tr>\n      <th>2021-08-06 13:30:00-04:00</th>\n      <td>276.234985</td>\n      <td>53.567697</td>\n    </tr>\n    <tr>\n      <th>2021-08-06 14:30:00-04:00</th>\n      <td>276.040985</td>\n      <td>53.240155</td>\n    </tr>\n    <tr>\n      <th>2021-08-06 15:30:00-04:00</th>\n      <td>275.065002</td>\n      <td>51.532994</td>\n    </tr>\n  </tbody>\n</table>\n<p>3397 rows × 2 columns</p>\n</div>"
     },
     "metadata": {}
    }
   ],
   "execution_count": 14
  },
  {
   "cell_type": "code",
   "metadata": {
    "tags": [],
    "cell_id": "00005-d42a41ab-3ba3-4bce-8b8a-1bf9fb24e65f",
    "deepnote_to_be_reexecuted": false,
    "source_hash": "77d6859a",
    "execution_start": 1628646624368,
    "execution_millis": 562,
    "deepnote_cell_type": "code"
   },
   "source": "fig, (ax1, ax2) = plt.subplots(2)\nax1.get_xaxis().set_visible(False)\nfig.suptitle('SQ-1hr')\nsq_1hr_rsi['Close'].plot(ax=ax1)\n\nax1.set_ylabel('Price ($)')\nsq_1hr_rsi['RSI'].plot(ax=ax2)\nax2.set_ylim(0,100)\nax2.axhline(30, color= 'r', linestyle= '--')\nax2.axhline(70, color= 'r', linestyle= '--')\nax2.set_ylabel('RSI')\nplt.show()",
   "outputs": [
    {
     "data": {
      "text/plain": "<Figure size 1440x720 with 2 Axes>",
      "image/png": "[encoded data removed]"
     },
     "metadata": {
      "image/png": {
       "width": 1319,
       "height": 642
      }
     },
     "output_type": "display_data"
    }
   ],
   "execution_count": 15
  },
  {
   "cell_type": "code",
   "metadata": {
    "tags": [],
    "cell_id": "00006-239476b7-d8ed-4658-99d7-16b4e716915c",
    "deepnote_to_be_reexecuted": false,
    "source_hash": "cf8ee370",
    "execution_start": 1628646625943,
    "execution_millis": 35,
    "deepnote_cell_type": "code"
   },
   "source": "def implement_rsi_strategy(prices, rsi):    \n    buy_price = []\n    sell_price = []\n    rsi_signal = []\n    signal = 0\n\n    for i in range(len(rsi)):\n        if rsi[i-1] > 30 and rsi[i] < 30:\n            if signal != 1:\n                buy_price.append(prices[i])\n                sell_price.append(np.nan)\n                signal = 1\n                rsi_signal.append(signal)\n            else:\n                buy_price.append(np.nan)\n                sell_price.append(np.nan)\n                rsi_signal.append(0)\n        elif rsi[i-1] < 70 and rsi[i] > 70:\n            if signal != -1:\n                buy_price.append(np.nan)\n                sell_price.append(prices[i])\n                signal = -1\n                rsi_signal.append(signal)\n            else:\n                buy_price.append(np.nan)\n                sell_price.append(np.nan)\n                rsi_signal.append(0)\n        else:\n            buy_price.append(np.nan)\n            sell_price.append(np.nan)\n            rsi_signal.append(0)\n            \n    return buy_price, sell_price, rsi_signal\n            \n\nbuy_price, sell_price, rsi_signal = implement_rsi_strategy(sq_1hr_rsi['Close'], sq_1hr_rsi['RSI'])",
   "outputs": [],
   "execution_count": 16
  },
  {
   "cell_type": "code",
   "metadata": {
    "tags": [],
    "cell_id": "00007-49a99c48-fb12-4c8b-b557-70cde0ccbf17",
    "deepnote_to_be_reexecuted": false,
    "source_hash": "c52774f6",
    "execution_start": 1628646626716,
    "execution_millis": 628,
    "deepnote_cell_type": "code"
   },
   "source": "ax1 = plt.subplot2grid((10,1), (0,0), rowspan = 4, colspan = 1)\nax2 = plt.subplot2grid((10,1), (5,0), rowspan = 4, colspan = 1)\nax1.plot(sq_1hr_rsi['Close'], linewidth = 2.5, color = 'skyblue', label = 'SQ')\nax1.plot(sq_1hr_rsi.index, buy_price, marker = '^', markersize = 10, color = 'green', label = 'BUY SIGNAL')\nax1.plot(sq_1hr_rsi.index, sell_price, marker = 'v', markersize = 10, color = 'r', label = 'SELL SIGNAL')\nax1.set_title('SQ RSI TRADE SIGNALS')\nax2.plot(sq_1hr['RSI'], color = 'orange', linewidth = 2.5)\nax2.axhline(30, linestyle = '--', linewidth = 1.5, color = 'grey')\nax2.axhline(70, linestyle = '--', linewidth = 1.5, color = 'grey')\nplt.show()",
   "outputs": [
    {
     "data": {
      "text/plain": "<Figure size 1440x720 with 2 Axes>",
      "image/png": "[encoded data removed]"
     },
     "metadata": {
      "image/png": {
       "width": 1297,
       "height": 576
      }
     },
     "output_type": "display_data"
    }
   ],
   "execution_count": 17
  },
  {
   "cell_type": "code",
   "metadata": {
    "tags": [],
    "cell_id": "00008-6b3c4df3-c950-4ba6-92a2-548ff83bdd7a",
    "deepnote_to_be_reexecuted": false,
    "source_hash": "e5a0ba2e",
    "execution_start": 1628646628171,
    "execution_millis": 86,
    "deepnote_cell_type": "code"
   },
   "source": "position = []\nfor i in range(len(rsi_signal)):\n    if rsi_signal[i] > 1:\n        position.append(0)\n    else:\n        position.append(1)\n        \nfor i in range(len(sq_1hr_rsi['Close'])):\n    if rsi_signal[i] == 1:\n        position[i] = 1\n    elif rsi_signal[i] == -1:\n        position[i] = 0\n    else:\n        position[i] = position[i-1]\n        \nrsi = sq_1hr_rsi['RSI']\nclose_price = sq_1hr_rsi['Close']\nrsi_signal = pd.DataFrame(rsi_signal).rename(columns = {0:'rsi_signal'}).set_index(sq_1hr_rsi.index)\nposition = pd.DataFrame(position).rename(columns = {0:'rsi_position'}).set_index(sq_1hr_rsi.index)\n\nframes = [close_price, rsi, rsi_signal, position]\nstrategy = pd.concat(frames, join = 'inner', axis = 1)\n\nstrategy",
   "outputs": [
    {
     "output_type": "execute_result",
     "execution_count": 18,
     "data": {
      "application/vnd.deepnote.dataframe.v2+json": {
       "row_count": 3397,
       "column_count": 4,
       "columns": [
        {
         "name": "Close",
         "dtype": "float64",
         "stats": {
          "unique_count": 3139,
          "nan_count": 0,
          "min": "33.119998931884766",
          "max": "287.32000732421875",
          "histogram": [
           {
            "bin_start": 33.119998931884766,
            "bin_end": 58.53999977111816,
            "count": 199
           },
           {
            "bin_start": 58.53999977111816,
            "bin_end": 83.96000061035156,
            "count": 1097
           },
           {
            "bin_start": 83.96000061035156,
            "bin_end": 109.38000144958497,
            "count": 161
           },
           {
            "bin_start": 109.38000144958497,
            "bin_end": 134.80000228881835,
            "count": 158
           },
           {
            "bin_start": 134.80000228881835,
            "bin_end": 160.22000312805176,
            "count": 277
           },
           {
            "bin_start": 160.22000312805176,
            "bin_end": 185.64000396728517,
            "count": 186
           },
           {
            "bin_start": 185.64000396728517,
            "bin_end": 211.06000480651855,
            "count": 245
           },
           {
            "bin_start": 211.06000480651855,
            "bin_end": 236.48000564575196,
            "count": 548
           },
           {
            "bin_start": 236.48000564575196,
            "bin_end": 261.9000064849854,
            "count": 401
           },
           {
            "bin_start": 261.9000064849854,
            "bin_end": 287.32000732421875,
            "count": 125
           }
          ]
         }
        },
        {
         "name": "RSI",
         "dtype": "float64",
         "stats": {
          "unique_count": 3383,
          "nan_count": 1,
          "min": "0.0",
          "max": "90.06377701880122",
          "histogram": [
           {
            "bin_start": 0,
            "bin_end": 9.006377701880123,
            "count": 6
           },
           {
            "bin_start": 9.006377701880123,
            "bin_end": 18.012755403760245,
            "count": 7
           },
           {
            "bin_start": 18.012755403760245,
            "bin_end": 27.019133105640368,
            "count": 73
           },
           {
            "bin_start": 27.019133105640368,
            "bin_end": 36.02551080752049,
            "count": 338
           },
           {
            "bin_start": 36.02551080752049,
            "bin_end": 45.031888509400616,
            "count": 583
           },
           {
            "bin_start": 45.031888509400616,
            "bin_end": 54.038266211280735,
            "count": 718
           },
           {
            "bin_start": 54.038266211280735,
            "bin_end": 63.044643913160854,
            "count": 766
           },
           {
            "bin_start": 63.044643913160854,
            "bin_end": 72.05102161504098,
            "count": 633
           },
           {
            "bin_start": 72.05102161504098,
            "bin_end": 81.0573993169211,
            "count": 249
           },
           {
            "bin_start": 81.0573993169211,
            "bin_end": 90.06377701880122,
            "count": 23
           }
          ]
         }
        },
        {
         "name": "rsi_signal",
         "dtype": "int64",
         "stats": {
          "unique_count": 3,
          "nan_count": 0,
          "min": "-1",
          "max": "1",
          "histogram": [
           {
            "bin_start": -1,
            "bin_end": -0.8,
            "count": 17
           },
           {
            "bin_start": -0.8,
            "bin_end": -0.6,
            "count": 0
           },
           {
            "bin_start": -0.6,
            "bin_end": -0.3999999999999999,
            "count": 0
           },
           {
            "bin_start": -0.3999999999999999,
            "bin_end": -0.19999999999999996,
            "count": 0
           },
           {
            "bin_start": -0.19999999999999996,
            "bin_end": 0,
            "count": 0
           },
           {
            "bin_start": 0,
            "bin_end": 0.20000000000000018,
            "count": 3363
           },
           {
            "bin_start": 0.20000000000000018,
            "bin_end": 0.40000000000000013,
            "count": 0
           },
           {
            "bin_start": 0.40000000000000013,
            "bin_end": 0.6000000000000001,
            "count": 0
           },
           {
            "bin_start": 0.6000000000000001,
            "bin_end": 0.8,
            "count": 0
           },
           {
            "bin_start": 0.8,
            "bin_end": 1,
            "count": 17
           }
          ]
         }
        },
        {
         "name": "rsi_position",
         "dtype": "int64",
         "stats": {
          "unique_count": 2,
          "nan_count": 0,
          "min": "0",
          "max": "1",
          "histogram": [
           {
            "bin_start": 0,
            "bin_end": 0.1,
            "count": 2270
           },
           {
            "bin_start": 0.1,
            "bin_end": 0.2,
            "count": 0
           },
           {
            "bin_start": 0.2,
            "bin_end": 0.30000000000000004,
            "count": 0
           },
           {
            "bin_start": 0.30000000000000004,
            "bin_end": 0.4,
            "count": 0
           },
           {
            "bin_start": 0.4,
            "bin_end": 0.5,
            "count": 0
           },
           {
            "bin_start": 0.5,
            "bin_end": 0.6000000000000001,
            "count": 0
           },
           {
            "bin_start": 0.6000000000000001,
            "bin_end": 0.7000000000000001,
            "count": 0
           },
           {
            "bin_start": 0.7000000000000001,
            "bin_end": 0.8,
            "count": 0
           },
           {
            "bin_start": 0.8,
            "bin_end": 0.9,
            "count": 0
           },
           {
            "bin_start": 0.9,
            "bin_end": 1,
            "count": 1127
           }
          ]
         }
        },
        {
         "name": "_deepnote_index_column",
         "dtype": "object"
        }
       ],
       "rows_top": [
        {
         "Close": 62.959999084472656,
         "RSI": "nan",
         "rsi_signal": 0,
         "rsi_position": 1,
         "_deepnote_index_column": "2019-09-03 09:30:00-04:00"
        },
        {
         "Close": 62.31999969482422,
         "RSI": 0,
         "rsi_signal": 0,
         "rsi_position": 1,
         "_deepnote_index_column": "2019-09-03 10:30:00-04:00"
        },
        {
         "Close": 62,
         "RSI": 0,
         "rsi_signal": 0,
         "rsi_position": 1,
         "_deepnote_index_column": "2019-09-03 11:30:00-04:00"
        },
        {
         "Close": 61.774898529052734,
         "RSI": 0,
         "rsi_signal": 0,
         "rsi_position": 1,
         "_deepnote_index_column": "2019-09-03 12:30:00-04:00"
        },
        {
         "Close": 61.36000061035156,
         "RSI": 0,
         "rsi_signal": 0,
         "rsi_position": 1,
         "_deepnote_index_column": "2019-09-03 13:30:00-04:00"
        },
        {
         "Close": 61.125,
         "RSI": 0,
         "rsi_signal": 0,
         "rsi_position": 1,
         "_deepnote_index_column": "2019-09-03 14:30:00-04:00"
        },
        {
         "Close": 61.13999938964844,
         "RSI": 0.20847747653027682,
         "rsi_signal": 0,
         "rsi_position": 1,
         "_deepnote_index_column": "2019-09-03 15:30:00-04:00"
        },
        {
         "Close": 61.93000030517578,
         "RSI": 10.760918290411212,
         "rsi_signal": 0,
         "rsi_position": 1,
         "_deepnote_index_column": "2019-09-04 09:30:00-04:00"
        },
        {
         "Close": 62.02000045776367,
         "RSI": 11.903840278305168,
         "rsi_signal": 0,
         "rsi_position": 1,
         "_deepnote_index_column": "2019-09-04 10:30:00-04:00"
        },
        {
         "Close": 61.41999816894531,
         "RSI": 10.901443106745134,
         "rsi_signal": 0,
         "rsi_position": 1,
         "_deepnote_index_column": "2019-09-04 11:30:00-04:00"
        },
        {
         "Close": 61.07500076293945,
         "RSI": 10.36117496976172,
         "rsi_signal": 0,
         "rsi_position": 1,
         "_deepnote_index_column": "2019-09-04 12:30:00-04:00"
        },
        {
         "Close": 61.11000061035156,
         "RSI": 10.843912837046275,
         "rsi_signal": 0,
         "rsi_position": 1,
         "_deepnote_index_column": "2019-09-04 13:30:00-04:00"
        },
        {
         "Close": 61.040000915527344,
         "RSI": 10.719573825429933,
         "rsi_signal": 0,
         "rsi_position": 1,
         "_deepnote_index_column": "2019-09-04 14:30:00-04:00"
        },
        {
         "Close": 61.08000183105469,
         "RSI": 11.34515308984723,
         "rsi_signal": 0,
         "rsi_position": 1,
         "_deepnote_index_column": "2019-09-04 15:30:00-04:00"
        },
        {
         "Close": 63.08250045776367,
         "RSI": 35.65279203114369,
         "rsi_signal": 0,
         "rsi_position": 1,
         "_deepnote_index_column": "2019-09-05 09:30:00-04:00"
        },
        {
         "Close": 62.67900085449219,
         "RSI": 33.65067421108655,
         "rsi_signal": 0,
         "rsi_position": 1,
         "_deepnote_index_column": "2019-09-05 10:30:00-04:00"
        },
        {
         "Close": 62.45280075073242,
         "RSI": 32.54724447747819,
         "rsi_signal": 0,
         "rsi_position": 1,
         "_deepnote_index_column": "2019-09-05 11:30:00-04:00"
        },
        {
         "Close": 62.83000183105469,
         "RSI": 36.298408111009934,
         "rsi_signal": 0,
         "rsi_position": 1,
         "_deepnote_index_column": "2019-09-05 12:30:00-04:00"
        },
        {
         "Close": 62.95500183105469,
         "RSI": 37.538070647903616,
         "rsi_signal": 0,
         "rsi_position": 1,
         "_deepnote_index_column": "2019-09-05 13:30:00-04:00"
        },
        {
         "Close": 63.150001525878906,
         "RSI": 39.51552165750285,
         "rsi_signal": 0,
         "rsi_position": 1,
         "_deepnote_index_column": "2019-09-05 14:30:00-04:00"
        },
        {
         "Close": 63.04499816894531,
         "RSI": 38.80314255243087,
         "rsi_signal": 0,
         "rsi_position": 1,
         "_deepnote_index_column": "2019-09-05 15:30:00-04:00"
        },
        {
         "Close": 63.31999969482422,
         "RSI": 41.76422121002339,
         "rsi_signal": 0,
         "rsi_position": 1,
         "_deepnote_index_column": "2019-09-06 09:30:00-04:00"
        },
        {
         "Close": 62.97610092163086,
         "RSI": 39.20923037211833,
         "rsi_signal": 0,
         "rsi_position": 1,
         "_deepnote_index_column": "2019-09-06 10:30:00-04:00"
        },
        {
         "Close": 63.27999877929688,
         "RSI": 42.55371062923098,
         "rsi_signal": 0,
         "rsi_position": 1,
         "_deepnote_index_column": "2019-09-06 11:30:00-04:00"
        },
        {
         "Close": 62.97600173950195,
         "RSI": 40.172766860203986,
         "rsi_signal": 0,
         "rsi_position": 1,
         "_deepnote_index_column": "2019-09-06 12:30:00-04:00"
        },
        {
         "Close": 62.650001525878906,
         "RSI": 37.734487976624536,
         "rsi_signal": 0,
         "rsi_position": 1,
         "_deepnote_index_column": "2019-09-06 13:30:00-04:00"
        },
        {
         "Close": 62.30500030517578,
         "RSI": 35.293141700137866,
         "rsi_signal": 0,
         "rsi_position": 1,
         "_deepnote_index_column": "2019-09-06 14:30:00-04:00"
        },
        {
         "Close": 61.97999954223633,
         "RSI": 33.11933481595291,
         "rsi_signal": 0,
         "rsi_position": 1,
         "_deepnote_index_column": "2019-09-06 15:30:00-04:00"
        },
        {
         "Close": 61.70000076293945,
         "RSI": 31.32900251036145,
         "rsi_signal": 0,
         "rsi_position": 1,
         "_deepnote_index_column": "2019-09-09 09:30:00-04:00"
        },
        {
         "Close": 61.68000030517578,
         "RSI": 31.19926520016412,
         "rsi_signal": 0,
         "rsi_position": 1,
         "_deepnote_index_column": "2019-09-09 10:30:00-04:00"
        },
        {
         "Close": 60.95000076293945,
         "RSI": 26.831748000691775,
         "rsi_signal": 1,
         "rsi_position": 1,
         "_deepnote_index_column": "2019-09-09 11:30:00-04:00"
        },
        {
         "Close": 59.92499923706055,
         "RSI": 22.14427898548753,
         "rsi_signal": 0,
         "rsi_position": 1,
         "_deepnote_index_column": "2019-09-09 12:30:00-04:00"
        },
        {
         "Close": 59.752201080322266,
         "RSI": 21.46352564346614,
         "rsi_signal": 0,
         "rsi_position": 1,
         "_deepnote_index_column": "2019-09-09 13:30:00-04:00"
        },
        {
         "Close": 60.86000061035156,
         "RSI": 35.21396026007723,
         "rsi_signal": 0,
         "rsi_position": 1,
         "_deepnote_index_column": "2019-09-09 14:30:00-04:00"
        },
        {
         "Close": 61.45000076293945,
         "RSI": 41.126084787633815,
         "rsi_signal": 0,
         "rsi_position": 1,
         "_deepnote_index_column": "2019-09-09 15:30:00-04:00"
        },
        {
         "Close": 61.380001068115234,
         "RSI": 40.65208982897859,
         "rsi_signal": 0,
         "rsi_position": 1,
         "_deepnote_index_column": "2019-09-10 09:30:00-04:00"
        },
        {
         "Close": 61.207298278808594,
         "RSI": 39.444199804190276,
         "rsi_signal": 0,
         "rsi_position": 1,
         "_deepnote_index_column": "2019-09-10 10:30:00-04:00"
        },
        {
         "Close": 61.38999938964844,
         "RSI": 41.42695386484361,
         "rsi_signal": 0,
         "rsi_position": 1,
         "_deepnote_index_column": "2019-09-10 11:30:00-04:00"
        },
        {
         "Close": 61.15800094604492,
         "RSI": 39.65153170633636,
         "rsi_signal": 0,
         "rsi_position": 1,
         "_deepnote_index_column": "2019-09-10 12:30:00-04:00"
        },
        {
         "Close": 60.58000183105469,
         "RSI": 35.562354532082665,
         "rsi_signal": 0,
         "rsi_position": 1,
         "_deepnote_index_column": "2019-09-10 13:30:00-04:00"
        },
        {
         "Close": 60.4900016784668,
         "RSI": 34.95782007743479,
         "rsi_signal": 0,
         "rsi_position": 1,
         "_deepnote_index_column": "2019-09-10 14:30:00-04:00"
        },
        {
         "Close": 60.5,
         "RSI": 35.0898315948714,
         "rsi_signal": 0,
         "rsi_position": 1,
         "_deepnote_index_column": "2019-09-10 15:30:00-04:00"
        },
        {
         "Close": 60.45000076293945,
         "RSI": 34.710431263175636,
         "rsi_signal": 0,
         "rsi_position": 1,
         "_deepnote_index_column": "2019-09-11 09:30:00-04:00"
        },
        {
         "Close": 59.97999954223633,
         "RSI": 31.286012069255392,
         "rsi_signal": 0,
         "rsi_position": 1,
         "_deepnote_index_column": "2019-09-11 10:30:00-04:00"
        },
        {
         "Close": 60.22999954223633,
         "RSI": 34.96156516206146,
         "rsi_signal": 0,
         "rsi_position": 1,
         "_deepnote_index_column": "2019-09-11 11:30:00-04:00"
        },
        {
         "Close": 60.20149993896485,
         "RSI": 34.73347358226914,
         "rsi_signal": 0,
         "rsi_position": 1,
         "_deepnote_index_column": "2019-09-11 12:30:00-04:00"
        },
        {
         "Close": 59.69340133666992,
         "RSI": 30.867066220279142,
         "rsi_signal": 0,
         "rsi_position": 1,
         "_deepnote_index_column": "2019-09-11 13:30:00-04:00"
        },
        {
         "Close": 59.014198303222656,
         "RSI": 26.60382612309202,
         "rsi_signal": 0,
         "rsi_position": 1,
         "_deepnote_index_column": "2019-09-11 14:30:00-04:00"
        },
        {
         "Close": 59.18000030517578,
         "RSI": 29.17542514021858,
         "rsi_signal": 0,
         "rsi_position": 1,
         "_deepnote_index_column": "2019-09-11 15:30:00-04:00"
        },
        {
         "Close": 58.959598541259766,
         "RSI": 27.78193988799366,
         "rsi_signal": 0,
         "rsi_position": 1,
         "_deepnote_index_column": "2019-09-12 09:30:00-04:00"
        },
        {
         "Close": 58.560001373291016,
         "RSI": 25.41210622296323,
         "rsi_signal": 0,
         "rsi_position": 1,
         "_deepnote_index_column": "2019-09-12 10:30:00-04:00"
        },
        {
         "Close": 58.310001373291016,
         "RSI": 24.030992935645926,
         "rsi_signal": 0,
         "rsi_position": 1,
         "_deepnote_index_column": "2019-09-12 11:30:00-04:00"
        },
        {
         "Close": 58.2400016784668,
         "RSI": 23.643519803717467,
         "rsi_signal": 0,
         "rsi_position": 1,
         "_deepnote_index_column": "2019-09-12 12:30:00-04:00"
        },
        {
         "Close": 58,
         "RSI": 22.314995520248047,
         "rsi_signal": 0,
         "rsi_position": 1,
         "_deepnote_index_column": "2019-09-12 13:30:00-04:00"
        },
        {
         "Close": 58.095001220703125,
         "RSI": 24.132243515548836,
         "rsi_signal": 0,
         "rsi_position": 1,
         "_deepnote_index_column": "2019-09-12 14:30:00-04:00"
        },
        {
         "Close": 57.790000915527344,
         "RSI": 22.326510165478183,
         "rsi_signal": 0,
         "rsi_position": 1,
         "_deepnote_index_column": "2019-09-12 15:30:00-04:00"
        },
        {
         "Close": 58.22999954223633,
         "RSI": 30.415664721741834,
         "rsi_signal": 0,
         "rsi_position": 1,
         "_deepnote_index_column": "2019-09-13 09:30:00-04:00"
        },
        {
         "Close": 58.27999877929688,
         "RSI": 31.291330930679422,
         "rsi_signal": 0,
         "rsi_position": 1,
         "_deepnote_index_column": "2019-09-13 10:30:00-04:00"
        },
        {
         "Close": 58.7599983215332,
         "RSI": 39.201440945014305,
         "rsi_signal": 0,
         "rsi_position": 1,
         "_deepnote_index_column": "2019-09-13 11:30:00-04:00"
        },
        {
         "Close": 58.483699798583984,
         "RSI": 36.59013687760707,
         "rsi_signal": 0,
         "rsi_position": 1,
         "_deepnote_index_column": "2019-09-13 12:30:00-04:00"
        },
        {
         "Close": 58.1349983215332,
         "RSI": 33.552472100782325,
         "rsi_signal": 0,
         "rsi_position": 1,
         "_deepnote_index_column": "2019-09-13 13:30:00-04:00"
        },
        {
         "Close": 58.290000915527344,
         "RSI": 36.09226947083766,
         "rsi_signal": 0,
         "rsi_position": 1,
         "_deepnote_index_column": "2019-09-13 14:30:00-04:00"
        },
        {
         "Close": 58.31999969482422,
         "RSI": 36.59736883542182,
         "rsi_signal": 0,
         "rsi_position": 1,
         "_deepnote_index_column": "2019-09-13 15:30:00-04:00"
        },
        {
         "Close": 57.52999877929688,
         "RSI": 29.896230855285282,
         "rsi_signal": 0,
         "rsi_position": 1,
         "_deepnote_index_column": "2019-09-16 09:30:00-04:00"
        },
        {
         "Close": 58.02510070800781,
         "RSI": 37.606819411495465,
         "rsi_signal": 0,
         "rsi_position": 1,
         "_deepnote_index_column": "2019-09-16 10:30:00-04:00"
        },
        {
         "Close": 58.14889907836914,
         "RSI": 39.40160380356413,
         "rsi_signal": 0,
         "rsi_position": 1,
         "_deepnote_index_column": "2019-09-16 11:30:00-04:00"
        },
        {
         "Close": 59.494998931884766,
         "RSI": 54.670381067429844,
         "rsi_signal": 0,
         "rsi_position": 1,
         "_deepnote_index_column": "2019-09-16 12:30:00-04:00"
        },
        {
         "Close": 59.470001220703125,
         "RSI": 54.39627418755417,
         "rsi_signal": 0,
         "rsi_position": 1,
         "_deepnote_index_column": "2019-09-16 13:30:00-04:00"
        },
        {
         "Close": 59.31999969482422,
         "RSI": 52.68913467093467,
         "rsi_signal": 0,
         "rsi_position": 1,
         "_deepnote_index_column": "2019-09-16 14:30:00-04:00"
        },
        {
         "Close": 59.25,
         "RSI": 51.871028119650234,
         "rsi_signal": 0,
         "rsi_position": 1,
         "_deepnote_index_column": "2019-09-16 15:30:00-04:00"
        },
        {
         "Close": 59.65999984741211,
         "RSI": 56.164305315010445,
         "rsi_signal": 0,
         "rsi_position": 1,
         "_deepnote_index_column": "2019-09-17 09:30:00-04:00"
        },
        {
         "Close": 59.52999877929688,
         "RSI": 54.50410880387394,
         "rsi_signal": 0,
         "rsi_position": 1,
         "_deepnote_index_column": "2019-09-17 10:30:00-04:00"
        },
        {
         "Close": 59.63999938964844,
         "RSI": 55.697439441628866,
         "rsi_signal": 0,
         "rsi_position": 1,
         "_deepnote_index_column": "2019-09-17 11:30:00-04:00"
        },
        {
         "Close": 59.40999984741211,
         "RSI": 52.591312612754145,
         "rsi_signal": 0,
         "rsi_position": 1,
         "_deepnote_index_column": "2019-09-17 12:30:00-04:00"
        },
        {
         "Close": 59.34999847412109,
         "RSI": 51.78004289955503,
         "rsi_signal": 0,
         "rsi_position": 1,
         "_deepnote_index_column": "2019-09-17 13:30:00-04:00"
        },
        {
         "Close": 59.54999923706055,
         "RSI": 54.310079479611026,
         "rsi_signal": 0,
         "rsi_position": 1,
         "_deepnote_index_column": "2019-09-17 14:30:00-04:00"
        },
        {
         "Close": 59.540000915527344,
         "RSI": 54.15709918079666,
         "rsi_signal": 0,
         "rsi_position": 1,
         "_deepnote_index_column": "2019-09-17 15:30:00-04:00"
        },
        {
         "Close": 59.77000045776367,
         "RSI": 57.14741235638969,
         "rsi_signal": 0,
         "rsi_position": 1,
         "_deepnote_index_column": "2019-09-18 09:30:00-04:00"
        },
        {
         "Close": 59.41999816894531,
         "RSI": 51.628394495885075,
         "rsi_signal": 0,
         "rsi_position": 1,
         "_deepnote_index_column": "2019-09-18 10:30:00-04:00"
        },
        {
         "Close": 59.27000045776367,
         "RSI": 49.42539785796578,
         "rsi_signal": 0,
         "rsi_position": 1,
         "_deepnote_index_column": "2019-09-18 11:30:00-04:00"
        },
        {
         "Close": 59.165000915527344,
         "RSI": 47.88507127842775,
         "rsi_signal": 0,
         "rsi_position": 1,
         "_deepnote_index_column": "2019-09-18 12:30:00-04:00"
        },
        {
         "Close": 58.9900016784668,
         "RSI": 45.34843404198367,
         "rsi_signal": 0,
         "rsi_position": 1,
         "_deepnote_index_column": "2019-09-18 13:30:00-04:00"
        },
        {
         "Close": 59.540000915527344,
         "RSI": 53.65743660572476,
         "rsi_signal": 0,
         "rsi_position": 1,
         "_deepnote_index_column": "2019-09-18 14:30:00-04:00"
        },
        {
         "Close": 59.72999954223633,
         "RSI": 56.138310541790545,
         "rsi_signal": 0,
         "rsi_position": 1,
         "_deepnote_index_column": "2019-09-18 15:30:00-04:00"
        },
        {
         "Close": 59.75,
         "RSI": 56.40289022981859,
         "rsi_signal": 0,
         "rsi_position": 1,
         "_deepnote_index_column": "2019-09-19 09:30:00-04:00"
        },
        {
         "Close": 59.709999084472656,
         "RSI": 55.679486004953844,
         "rsi_signal": 0,
         "rsi_position": 1,
         "_deepnote_index_column": "2019-09-19 10:30:00-04:00"
        },
        {
         "Close": 58.77109909057617,
         "RSI": 42.04762283889513,
         "rsi_signal": 0,
         "rsi_position": 1,
         "_deepnote_index_column": "2019-09-19 11:30:00-04:00"
        },
        {
         "Close": 58.7599983215332,
         "RSI": 41.91695517014483,
         "rsi_signal": 0,
         "rsi_position": 1,
         "_deepnote_index_column": "2019-09-19 12:30:00-04:00"
        },
        {
         "Close": 58.86009979248047,
         "RSI": 43.61846957729375,
         "rsi_signal": 0,
         "rsi_position": 1,
         "_deepnote_index_column": "2019-09-19 13:30:00-04:00"
        },
        {
         "Close": 58.900001525878906,
         "RSI": 44.31868508535832,
         "rsi_signal": 0,
         "rsi_position": 1,
         "_deepnote_index_column": "2019-09-19 14:30:00-04:00"
        },
        {
         "Close": 59.02999877929688,
         "RSI": 46.643607276368286,
         "rsi_signal": 0,
         "rsi_position": 1,
         "_deepnote_index_column": "2019-09-19 15:30:00-04:00"
        },
        {
         "Close": 58.27999877929688,
         "RSI": 37.03565670482225,
         "rsi_signal": 0,
         "rsi_position": 1,
         "_deepnote_index_column": "2019-09-20 09:30:00-04:00"
        },
        {
         "Close": 57.685001373291016,
         "RSI": 31.493291110230516,
         "rsi_signal": 0,
         "rsi_position": 1,
         "_deepnote_index_column": "2019-09-20 10:30:00-04:00"
        },
        {
         "Close": 57.41999816894531,
         "RSI": 29.38413481086573,
         "rsi_signal": 0,
         "rsi_position": 1,
         "_deepnote_index_column": "2019-09-20 11:30:00-04:00"
        },
        {
         "Close": 57.34000015258789,
         "RSI": 28.758008010537097,
         "rsi_signal": 0,
         "rsi_position": 1,
         "_deepnote_index_column": "2019-09-20 12:30:00-04:00"
        },
        {
         "Close": 57.45000076293945,
         "RSI": 30.937193353802797,
         "rsi_signal": 0,
         "rsi_position": 1,
         "_deepnote_index_column": "2019-09-20 13:30:00-04:00"
        },
        {
         "Close": 57.88010025024414,
         "RSI": 38.81751173038172,
         "rsi_signal": 0,
         "rsi_position": 1,
         "_deepnote_index_column": "2019-09-20 14:30:00-04:00"
        },
        {
         "Close": 57.83000183105469,
         "RSI": 38.26974594689308,
         "rsi_signal": 0,
         "rsi_position": 1,
         "_deepnote_index_column": "2019-09-20 15:30:00-04:00"
        },
        {
         "Close": 56.650001525878906,
         "RSI": 28.182211035507606,
         "rsi_signal": 0,
         "rsi_position": 1,
         "_deepnote_index_column": "2019-09-23 09:30:00-04:00"
        },
        {
         "Close": 56.790000915527344,
         "RSI": 30.522150099026504,
         "rsi_signal": 0,
         "rsi_position": 1,
         "_deepnote_index_column": "2019-09-23 10:30:00-04:00"
        },
        {
         "Close": 57,
         "RSI": 33.99605825253944,
         "rsi_signal": 0,
         "rsi_position": 1,
         "_deepnote_index_column": "2019-09-23 11:30:00-04:00"
        },
        {
         "Close": 56.68999862670898,
         "RSI": 31.492754719211618,
         "rsi_signal": 0,
         "rsi_position": 1,
         "_deepnote_index_column": "2019-09-23 12:30:00-04:00"
        },
        {
         "Close": 56.6599006652832,
         "RSI": 31.25213963460945,
         "rsi_signal": 0,
         "rsi_position": 1,
         "_deepnote_index_column": "2019-09-23 13:30:00-04:00"
        },
        {
         "Close": 56.7598991394043,
         "RSI": 33.0815004394597,
         "rsi_signal": 0,
         "rsi_position": 1,
         "_deepnote_index_column": "2019-09-23 14:30:00-04:00"
        },
        {
         "Close": 56.75,
         "RSI": 32.98792026075601,
         "rsi_signal": 0,
         "rsi_position": 1,
         "_deepnote_index_column": "2019-09-23 15:30:00-04:00"
        },
        {
         "Close": 56.790000915527344,
         "RSI": 33.80280360672724,
         "rsi_signal": 0,
         "rsi_position": 1,
         "_deepnote_index_column": "2019-09-24 09:30:00-04:00"
        },
        {
         "Close": 57.70000076293945,
         "RSI": 48.99744216880439,
         "rsi_signal": 0,
         "rsi_position": 1,
         "_deepnote_index_column": "2019-09-24 10:30:00-04:00"
        },
        {
         "Close": 56.25,
         "RSI": 35.151872336709914,
         "rsi_signal": 0,
         "rsi_position": 1,
         "_deepnote_index_column": "2019-09-24 11:30:00-04:00"
        },
        {
         "Close": 56.20000076293945,
         "RSI": 34.78683925415464,
         "rsi_signal": 0,
         "rsi_position": 1,
         "_deepnote_index_column": "2019-09-24 12:30:00-04:00"
        },
        {
         "Close": 57.09000015258789,
         "RSI": 45.61332039064736,
         "rsi_signal": 0,
         "rsi_position": 1,
         "_deepnote_index_column": "2019-09-24 13:30:00-04:00"
        },
        {
         "Close": 56.86000061035156,
         "RSI": 43.59890246955579,
         "rsi_signal": 0,
         "rsi_position": 1,
         "_deepnote_index_column": "2019-09-24 14:30:00-04:00"
        },
        {
         "Close": 57.52999877929688,
         "RSI": 50.46210430259842,
         "rsi_signal": 0,
         "rsi_position": 1,
         "_deepnote_index_column": "2019-09-24 15:30:00-04:00"
        },
        {
         "Close": 57.25,
         "RSI": 47.84201620067011,
         "rsi_signal": 0,
         "rsi_position": 1,
         "_deepnote_index_column": "2019-09-25 09:30:00-04:00"
        },
        {
         "Close": 57.900001525878906,
         "RSI": 53.834550495632236,
         "rsi_signal": 0,
         "rsi_position": 1,
         "_deepnote_index_column": "2019-09-25 10:30:00-04:00"
        },
        {
         "Close": 57.95000076293945,
         "RSI": 54.269788318720494,
         "rsi_signal": 0,
         "rsi_position": 1,
         "_deepnote_index_column": "2019-09-25 11:30:00-04:00"
        },
        {
         "Close": 57.9900016784668,
         "RSI": 54.63824854365592,
         "rsi_signal": 0,
         "rsi_position": 1,
         "_deepnote_index_column": "2019-09-25 12:30:00-04:00"
        },
        {
         "Close": 58.35639953613281,
         "RSI": 57.97812573397994,
         "rsi_signal": 0,
         "rsi_position": 1,
         "_deepnote_index_column": "2019-09-25 13:30:00-04:00"
        },
        {
         "Close": 58.80500030517578,
         "RSI": 61.69663902323022,
         "rsi_signal": 0,
         "rsi_position": 1,
         "_deepnote_index_column": "2019-09-25 14:30:00-04:00"
        },
        {
         "Close": 58.540000915527344,
         "RSI": 58.40857637776812,
         "rsi_signal": 0,
         "rsi_position": 1,
         "_deepnote_index_column": "2019-09-25 15:30:00-04:00"
        },
        {
         "Close": 60.994998931884766,
         "RSI": 72.84629617973091,
         "rsi_signal": -1,
         "rsi_position": 0,
         "_deepnote_index_column": "2019-09-26 09:30:00-04:00"
        },
        {
         "Close": 60.23500061035156,
         "RSI": 65.29033230233628,
         "rsi_signal": 0,
         "rsi_position": 0,
         "_deepnote_index_column": "2019-09-26 10:30:00-04:00"
        },
        {
         "Close": 60.43220138549805,
         "RSI": 66.26803039083872,
         "rsi_signal": 0,
         "rsi_position": 0,
         "_deepnote_index_column": "2019-09-26 11:30:00-04:00"
        },
        {
         "Close": 60.18000030517578,
         "RSI": 63.793165627595606,
         "rsi_signal": 0,
         "rsi_position": 0,
         "_deepnote_index_column": "2019-09-26 12:30:00-04:00"
        },
        {
         "Close": 60.79499816894531,
         "RSI": 67.02699625221419,
         "rsi_signal": 0,
         "rsi_position": 0,
         "_deepnote_index_column": "2019-09-26 13:30:00-04:00"
        },
        {
         "Close": 60.685001373291016,
         "RSI": 65.89339656208998,
         "rsi_signal": 0,
         "rsi_position": 0,
         "_deepnote_index_column": "2019-09-26 14:30:00-04:00"
        }
       ],
       "rows_bottom": [
        {
         "Close": 241.38999938964844,
         "RSI": 46.564625620912,
         "rsi_signal": 0,
         "rsi_position": 1,
         "_deepnote_index_column": "2021-07-14 10:30:00-04:00"
        },
        {
         "Close": 241.75,
         "RSI": 47.89737958101752,
         "rsi_signal": 0,
         "rsi_position": 1,
         "_deepnote_index_column": "2021-07-14 11:30:00-04:00"
        },
        {
         "Close": 239.96499633789065,
         "RSI": 42.268081807332756,
         "rsi_signal": 0,
         "rsi_position": 1,
         "_deepnote_index_column": "2021-07-14 12:30:00-04:00"
        },
        {
         "Close": 240.1407928466797,
         "RSI": 42.97886014036949,
         "rsi_signal": 0,
         "rsi_position": 1,
         "_deepnote_index_column": "2021-07-14 13:30:00-04:00"
        },
        {
         "Close": 238.8497009277344,
         "RSI": 39.16513474902921,
         "rsi_signal": 0,
         "rsi_position": 1,
         "_deepnote_index_column": "2021-07-14 14:30:00-04:00"
        },
        {
         "Close": 238.97000122070312,
         "RSI": 39.70203227849386,
         "rsi_signal": 0,
         "rsi_position": 1,
         "_deepnote_index_column": "2021-07-14 15:30:00-04:00"
        },
        {
         "Close": 239.2400054931641,
         "RSI": 40.96143118207015,
         "rsi_signal": 0,
         "rsi_position": 1,
         "_deepnote_index_column": "2021-07-15 09:30:00-04:00"
        },
        {
         "Close": 239.3500061035156,
         "RSI": 41.497528936769385,
         "rsi_signal": 0,
         "rsi_position": 1,
         "_deepnote_index_column": "2021-07-15 10:30:00-04:00"
        },
        {
         "Close": 235.58999633789065,
         "RSI": 31.10148951894074,
         "rsi_signal": 0,
         "rsi_position": 1,
         "_deepnote_index_column": "2021-07-15 11:30:00-04:00"
        },
        {
         "Close": 235.3600006103516,
         "RSI": 30.596556568444385,
         "rsi_signal": 0,
         "rsi_position": 1,
         "_deepnote_index_column": "2021-07-15 12:30:00-04:00"
        },
        {
         "Close": 234.4499969482422,
         "RSI": 28.616928525483317,
         "rsi_signal": 0,
         "rsi_position": 1,
         "_deepnote_index_column": "2021-07-15 13:30:00-04:00"
        },
        {
         "Close": 235.3699951171875,
         "RSI": 33.314475408424414,
         "rsi_signal": 0,
         "rsi_position": 1,
         "_deepnote_index_column": "2021-07-15 14:30:00-04:00"
        },
        {
         "Close": 235.16000366210935,
         "RSI": 32.78415393114123,
         "rsi_signal": 0,
         "rsi_position": 1,
         "_deepnote_index_column": "2021-07-15 15:30:00-04:00"
        },
        {
         "Close": 235.2400054931641,
         "RSI": 33.220301721844294,
         "rsi_signal": 0,
         "rsi_position": 1,
         "_deepnote_index_column": "2021-07-16 09:30:00-04:00"
        },
        {
         "Close": 236.7400054931641,
         "RSI": 40.95622476819162,
         "rsi_signal": 0,
         "rsi_position": 1,
         "_deepnote_index_column": "2021-07-16 10:30:00-04:00"
        },
        {
         "Close": 239.3300018310547,
         "RSI": 51.420582259066876,
         "rsi_signal": 0,
         "rsi_position": 1,
         "_deepnote_index_column": "2021-07-16 11:30:00-04:00"
        },
        {
         "Close": 238.49400329589844,
         "RSI": 48.436555257786004,
         "rsi_signal": 0,
         "rsi_position": 1,
         "_deepnote_index_column": "2021-07-16 12:30:00-04:00"
        },
        {
         "Close": 237.6909942626953,
         "RSI": 45.69358803474977,
         "rsi_signal": 0,
         "rsi_position": 1,
         "_deepnote_index_column": "2021-07-16 13:30:00-04:00"
        },
        {
         "Close": 237.264892578125,
         "RSI": 44.26124034217491,
         "rsi_signal": 0,
         "rsi_position": 1,
         "_deepnote_index_column": "2021-07-16 14:30:00-04:00"
        },
        {
         "Close": 237.55999755859372,
         "RSI": 45.534630865901676,
         "rsi_signal": 0,
         "rsi_position": 1,
         "_deepnote_index_column": "2021-07-16 15:30:00-04:00"
        },
        {
         "Close": 228.5399932861328,
         "RSI": 25.990051169032924,
         "rsi_signal": 0,
         "rsi_position": 1,
         "_deepnote_index_column": "2021-07-19 09:30:00-04:00"
        },
        {
         "Close": 231.9199981689453,
         "RSI": 36.91685443384269,
         "rsi_signal": 0,
         "rsi_position": 1,
         "_deepnote_index_column": "2021-07-19 10:30:00-04:00"
        },
        {
         "Close": 231.6100006103516,
         "RSI": 36.386255932548906,
         "rsi_signal": 0,
         "rsi_position": 1,
         "_deepnote_index_column": "2021-07-19 11:30:00-04:00"
        },
        {
         "Close": 230.59500122070312,
         "RSI": 34.631161154257015,
         "rsi_signal": 0,
         "rsi_position": 1,
         "_deepnote_index_column": "2021-07-19 12:30:00-04:00"
        },
        {
         "Close": 232.83450317382807,
         "RSI": 41.35287859781712,
         "rsi_signal": 0,
         "rsi_position": 1,
         "_deepnote_index_column": "2021-07-19 13:30:00-04:00"
        },
        {
         "Close": 232,
         "RSI": 39.71411756179188,
         "rsi_signal": 0,
         "rsi_position": 1,
         "_deepnote_index_column": "2021-07-19 14:30:00-04:00"
        },
        {
         "Close": 233.69000244140625,
         "RSI": 44.510001034210866,
         "rsi_signal": 0,
         "rsi_position": 1,
         "_deepnote_index_column": "2021-07-19 15:30:00-04:00"
        },
        {
         "Close": 236.32000732421875,
         "RSI": 51.03781403975068,
         "rsi_signal": 0,
         "rsi_position": 1,
         "_deepnote_index_column": "2021-07-20 09:30:00-04:00"
        },
        {
         "Close": 242.1000061035156,
         "RSI": 61.70117890510956,
         "rsi_signal": 0,
         "rsi_position": 1,
         "_deepnote_index_column": "2021-07-20 10:30:00-04:00"
        },
        {
         "Close": 241.9544982910156,
         "RSI": 61.33900807572948,
         "rsi_signal": 0,
         "rsi_position": 1,
         "_deepnote_index_column": "2021-07-20 11:30:00-04:00"
        },
        {
         "Close": 244.2050018310547,
         "RSI": 64.7821932788896,
         "rsi_signal": 0,
         "rsi_position": 1,
         "_deepnote_index_column": "2021-07-20 12:30:00-04:00"
        },
        {
         "Close": 246.2899932861328,
         "RSI": 67.65619949308135,
         "rsi_signal": 0,
         "rsi_position": 1,
         "_deepnote_index_column": "2021-07-20 13:30:00-04:00"
        },
        {
         "Close": 246.75,
         "RSI": 68.27140583133988,
         "rsi_signal": 0,
         "rsi_position": 1,
         "_deepnote_index_column": "2021-07-20 14:30:00-04:00"
        },
        {
         "Close": 246.5399932861328,
         "RSI": 67.63887771225092,
         "rsi_signal": 0,
         "rsi_position": 1,
         "_deepnote_index_column": "2021-07-20 15:30:00-04:00"
        },
        {
         "Close": 252.5,
         "RSI": 74.78022882140449,
         "rsi_signal": -1,
         "rsi_position": 0,
         "_deepnote_index_column": "2021-07-21 09:30:00-04:00"
        },
        {
         "Close": 252.33999633789065,
         "RSI": 74.30615122133115,
         "rsi_signal": 0,
         "rsi_position": 0,
         "_deepnote_index_column": "2021-07-21 10:30:00-04:00"
        },
        {
         "Close": 253.4499969482422,
         "RSI": 75.46806123872052,
         "rsi_signal": 0,
         "rsi_position": 0,
         "_deepnote_index_column": "2021-07-21 11:30:00-04:00"
        },
        {
         "Close": 256.31298828125,
         "RSI": 78.20565304134719,
         "rsi_signal": 0,
         "rsi_position": 0,
         "_deepnote_index_column": "2021-07-21 12:30:00-04:00"
        },
        {
         "Close": 258.3500061035156,
         "RSI": 79.92240659002397,
         "rsi_signal": 0,
         "rsi_position": 0,
         "_deepnote_index_column": "2021-07-21 13:30:00-04:00"
        },
        {
         "Close": 256.864990234375,
         "RSI": 75.26768609627362,
         "rsi_signal": 0,
         "rsi_position": 0,
         "_deepnote_index_column": "2021-07-21 14:30:00-04:00"
        },
        {
         "Close": 257.25,
         "RSI": 75.66342598681551,
         "rsi_signal": 0,
         "rsi_position": 0,
         "_deepnote_index_column": "2021-07-21 15:30:00-04:00"
        },
        {
         "Close": 261.4700012207031,
         "RSI": 79.52971625695372,
         "rsi_signal": 0,
         "rsi_position": 0,
         "_deepnote_index_column": "2021-07-22 09:30:00-04:00"
        },
        {
         "Close": 259.3299865722656,
         "RSI": 73.18051181140541,
         "rsi_signal": 0,
         "rsi_position": 0,
         "_deepnote_index_column": "2021-07-22 10:30:00-04:00"
        },
        {
         "Close": 259.5599975585937,
         "RSI": 73.42607434854312,
         "rsi_signal": 0,
         "rsi_position": 0,
         "_deepnote_index_column": "2021-07-22 11:30:00-04:00"
        },
        {
         "Close": 260.5299987792969,
         "RSI": 74.48699199999058,
         "rsi_signal": 0,
         "rsi_position": 0,
         "_deepnote_index_column": "2021-07-22 12:30:00-04:00"
        },
        {
         "Close": 260.9700012207031,
         "RSI": 74.97504474309646,
         "rsi_signal": 0,
         "rsi_position": 0,
         "_deepnote_index_column": "2021-07-22 13:30:00-04:00"
        },
        {
         "Close": 260.25,
         "RSI": 72.53000659391125,
         "rsi_signal": 0,
         "rsi_position": 0,
         "_deepnote_index_column": "2021-07-22 14:30:00-04:00"
        },
        {
         "Close": 260.6000061035156,
         "RSI": 72.99111457264469,
         "rsi_signal": 0,
         "rsi_position": 0,
         "_deepnote_index_column": "2021-07-22 15:30:00-04:00"
        },
        {
         "Close": 265.1700134277344,
         "RSI": 78.14870858021936,
         "rsi_signal": 0,
         "rsi_position": 0,
         "_deepnote_index_column": "2021-07-23 09:30:00-04:00"
        },
        {
         "Close": 264.2900085449219,
         "RSI": 75.17191333323251,
         "rsi_signal": 0,
         "rsi_position": 0,
         "_deepnote_index_column": "2021-07-23 10:30:00-04:00"
        },
        {
         "Close": 263.6000061035156,
         "RSI": 72.82938930089833,
         "rsi_signal": 0,
         "rsi_position": 0,
         "_deepnote_index_column": "2021-07-23 11:30:00-04:00"
        },
        {
         "Close": 263.1000061035156,
         "RSI": 71.10035239126842,
         "rsi_signal": 0,
         "rsi_position": 0,
         "_deepnote_index_column": "2021-07-23 12:30:00-04:00"
        },
        {
         "Close": 263.8299865722656,
         "RSI": 72.14027343121478,
         "rsi_signal": 0,
         "rsi_position": 0,
         "_deepnote_index_column": "2021-07-23 13:30:00-04:00"
        },
        {
         "Close": 263.8399963378906,
         "RSI": 72.15506966910765,
         "rsi_signal": 0,
         "rsi_position": 0,
         "_deepnote_index_column": "2021-07-23 14:30:00-04:00"
        },
        {
         "Close": 264.07000732421875,
         "RSI": 72.51627931278668,
         "rsi_signal": 0,
         "rsi_position": 0,
         "_deepnote_index_column": "2021-07-23 15:30:00-04:00"
        },
        {
         "Close": 263.79998779296875,
         "RSI": 71.34619992290048,
         "rsi_signal": 0,
         "rsi_position": 0,
         "_deepnote_index_column": "2021-07-26 09:30:00-04:00"
        },
        {
         "Close": 261.90008544921875,
         "RSI": 63.57342313426681,
         "rsi_signal": 0,
         "rsi_position": 0,
         "_deepnote_index_column": "2021-07-26 10:30:00-04:00"
        },
        {
         "Close": 262.4599914550781,
         "RSI": 64.79081352999137,
         "rsi_signal": 0,
         "rsi_position": 0,
         "_deepnote_index_column": "2021-07-26 11:30:00-04:00"
        },
        {
         "Close": 262.6000061035156,
         "RSI": 65.10487832630284,
         "rsi_signal": 0,
         "rsi_position": 0,
         "_deepnote_index_column": "2021-07-26 12:30:00-04:00"
        },
        {
         "Close": 261.5639953613281,
         "RSI": 60.78440892352517,
         "rsi_signal": 0,
         "rsi_position": 0,
         "_deepnote_index_column": "2021-07-26 13:30:00-04:00"
        },
        {
         "Close": 262.54998779296875,
         "RSI": 63.281833575893764,
         "rsi_signal": 0,
         "rsi_position": 0,
         "_deepnote_index_column": "2021-07-26 14:30:00-04:00"
        },
        {
         "Close": 262.04998779296875,
         "RSI": 61.15493753736776,
         "rsi_signal": 0,
         "rsi_position": 0,
         "_deepnote_index_column": "2021-07-26 15:30:00-04:00"
        },
        {
         "Close": 253.86720275878903,
         "RSI": 38.405309550635266,
         "rsi_signal": 0,
         "rsi_position": 0,
         "_deepnote_index_column": "2021-07-27 09:30:00-04:00"
        },
        {
         "Close": 246.5540008544922,
         "RSI": 28.279914625214218,
         "rsi_signal": 1,
         "rsi_position": 1,
         "_deepnote_index_column": "2021-07-27 10:30:00-04:00"
        },
        {
         "Close": 248.9900054931641,
         "RSI": 34.476768298557005,
         "rsi_signal": 0,
         "rsi_position": 1,
         "_deepnote_index_column": "2021-07-27 11:30:00-04:00"
        },
        {
         "Close": 247.6300048828125,
         "RSI": 32.77418630049159,
         "rsi_signal": 0,
         "rsi_position": 1,
         "_deepnote_index_column": "2021-07-27 12:30:00-04:00"
        },
        {
         "Close": 250.6100006103516,
         "RSI": 39.79048163907608,
         "rsi_signal": 0,
         "rsi_position": 1,
         "_deepnote_index_column": "2021-07-27 13:30:00-04:00"
        },
        {
         "Close": 252.2700042724609,
         "RSI": 43.33813168298867,
         "rsi_signal": 0,
         "rsi_position": 1,
         "_deepnote_index_column": "2021-07-27 14:30:00-04:00"
        },
        {
         "Close": 251.72999572753903,
         "RSI": 42.46163831298848,
         "rsi_signal": 0,
         "rsi_position": 1,
         "_deepnote_index_column": "2021-07-27 15:30:00-04:00"
        },
        {
         "Close": 256.29998779296875,
         "RSI": 51.41663691777155,
         "rsi_signal": 0,
         "rsi_position": 1,
         "_deepnote_index_column": "2021-07-28 09:30:00-04:00"
        },
        {
         "Close": 258.4150085449219,
         "RSI": 54.91394683706565,
         "rsi_signal": 0,
         "rsi_position": 1,
         "_deepnote_index_column": "2021-07-28 10:30:00-04:00"
        },
        {
         "Close": 258.95001220703125,
         "RSI": 55.78107155142666,
         "rsi_signal": 0,
         "rsi_position": 1,
         "_deepnote_index_column": "2021-07-28 11:30:00-04:00"
        },
        {
         "Close": 257.0400085449219,
         "RSI": 51.94040333078088,
         "rsi_signal": 0,
         "rsi_position": 1,
         "_deepnote_index_column": "2021-07-28 12:30:00-04:00"
        },
        {
         "Close": 258.4800109863281,
         "RSI": 54.48482934063475,
         "rsi_signal": 0,
         "rsi_position": 1,
         "_deepnote_index_column": "2021-07-28 13:30:00-04:00"
        },
        {
         "Close": 259.7099914550781,
         "RSI": 56.598485127860556,
         "rsi_signal": 0,
         "rsi_position": 1,
         "_deepnote_index_column": "2021-07-28 14:30:00-04:00"
        },
        {
         "Close": 258.4700012207031,
         "RSI": 53.88188568785211,
         "rsi_signal": 0,
         "rsi_position": 1,
         "_deepnote_index_column": "2021-07-28 15:30:00-04:00"
        },
        {
         "Close": 259.70001220703125,
         "RSI": 56.13120894995633,
         "rsi_signal": 0,
         "rsi_position": 1,
         "_deepnote_index_column": "2021-07-29 09:30:00-04:00"
        },
        {
         "Close": 260.1900939941406,
         "RSI": 57.03046880237724,
         "rsi_signal": 0,
         "rsi_position": 1,
         "_deepnote_index_column": "2021-07-29 10:30:00-04:00"
        },
        {
         "Close": 260.2200012207031,
         "RSI": 57.088278106431325,
         "rsi_signal": 0,
         "rsi_position": 1,
         "_deepnote_index_column": "2021-07-29 11:30:00-04:00"
        },
        {
         "Close": 257.864990234375,
         "RSI": 51.2421787410819,
         "rsi_signal": 0,
         "rsi_position": 1,
         "_deepnote_index_column": "2021-07-29 12:30:00-04:00"
        },
        {
         "Close": 255.4700927734375,
         "RSI": 46.07489540088113,
         "rsi_signal": 0,
         "rsi_position": 1,
         "_deepnote_index_column": "2021-07-29 13:30:00-04:00"
        },
        {
         "Close": 254.93499755859372,
         "RSI": 44.983415007257534,
         "rsi_signal": 0,
         "rsi_position": 1,
         "_deepnote_index_column": "2021-07-29 14:30:00-04:00"
        },
        {
         "Close": 255.2700042724609,
         "RSI": 45.848324387740625,
         "rsi_signal": 0,
         "rsi_position": 1,
         "_deepnote_index_column": "2021-07-29 15:30:00-04:00"
        },
        {
         "Close": 251.60499572753903,
         "RSI": 38.68345332429556,
         "rsi_signal": 0,
         "rsi_position": 1,
         "_deepnote_index_column": "2021-07-30 09:30:00-04:00"
        },
        {
         "Close": 248.32000732421875,
         "RSI": 33.61311230136927,
         "rsi_signal": 0,
         "rsi_position": 1,
         "_deepnote_index_column": "2021-07-30 10:30:00-04:00"
        },
        {
         "Close": 247.17999267578125,
         "RSI": 32.04342847121987,
         "rsi_signal": 0,
         "rsi_position": 1,
         "_deepnote_index_column": "2021-07-30 11:30:00-04:00"
        },
        {
         "Close": 247.5984039306641,
         "RSI": 33.275027871629774,
         "rsi_signal": 0,
         "rsi_position": 1,
         "_deepnote_index_column": "2021-07-30 12:30:00-04:00"
        },
        {
         "Close": 245.7700042724609,
         "RSI": 30.660076042982382,
         "rsi_signal": 0,
         "rsi_position": 1,
         "_deepnote_index_column": "2021-07-30 13:30:00-04:00"
        },
        {
         "Close": 245.9199981689453,
         "RSI": 31.138167496070963,
         "rsi_signal": 0,
         "rsi_position": 1,
         "_deepnote_index_column": "2021-07-30 14:30:00-04:00"
        },
        {
         "Close": 247.25,
         "RSI": 35.39197119630717,
         "rsi_signal": 0,
         "rsi_position": 1,
         "_deepnote_index_column": "2021-07-30 15:30:00-04:00"
        },
        {
         "Close": 269.95001220703125,
         "RSI": 69.74461209857066,
         "rsi_signal": 0,
         "rsi_position": 1,
         "_deepnote_index_column": "2021-08-02 09:30:00-04:00"
        },
        {
         "Close": 275.239990234375,
         "RSI": 73.30658229953019,
         "rsi_signal": -1,
         "rsi_position": 0,
         "_deepnote_index_column": "2021-08-02 10:30:00-04:00"
        },
        {
         "Close": 275.19000244140625,
         "RSI": 73.21886095035566,
         "rsi_signal": 0,
         "rsi_position": 0,
         "_deepnote_index_column": "2021-08-02 11:30:00-04:00"
        },
        {
         "Close": 276.32000732421875,
         "RSI": 73.9769522797058,
         "rsi_signal": 0,
         "rsi_position": 0,
         "_deepnote_index_column": "2021-08-02 12:30:00-04:00"
        },
        {
         "Close": 279.6247863769531,
         "RSI": 76.10709289042002,
         "rsi_signal": 0,
         "rsi_position": 0,
         "_deepnote_index_column": "2021-08-02 13:30:00-04:00"
        },
        {
         "Close": 273.1388854980469,
         "RSI": 64.8820669733638,
         "rsi_signal": 0,
         "rsi_position": 0,
         "_deepnote_index_column": "2021-08-02 14:30:00-04:00"
        },
        {
         "Close": 272.3999938964844,
         "RSI": 63.728895951795515,
         "rsi_signal": 0,
         "rsi_position": 0,
         "_deepnote_index_column": "2021-08-02 15:30:00-04:00"
        },
        {
         "Close": 266.0799865722656,
         "RSI": 54.76328180258664,
         "rsi_signal": 0,
         "rsi_position": 0,
         "_deepnote_index_column": "2021-08-03 09:30:00-04:00"
        },
        {
         "Close": 263.3099975585937,
         "RSI": 51.353262497595,
         "rsi_signal": 0,
         "rsi_position": 0,
         "_deepnote_index_column": "2021-08-03 10:30:00-04:00"
        },
        {
         "Close": 271.67999267578125,
         "RSI": 59.5496345289093,
         "rsi_signal": 0,
         "rsi_position": 0,
         "_deepnote_index_column": "2021-08-03 11:30:00-04:00"
        },
        {
         "Close": 268.8900146484375,
         "RSI": 56.15335141160017,
         "rsi_signal": 0,
         "rsi_position": 0,
         "_deepnote_index_column": "2021-08-03 12:30:00-04:00"
        },
        {
         "Close": 266.9849853515625,
         "RSI": 53.893166124493256,
         "rsi_signal": 0,
         "rsi_position": 0,
         "_deepnote_index_column": "2021-08-03 13:30:00-04:00"
        },
        {
         "Close": 269.6798095703125,
         "RSI": 56.55696820831437,
         "rsi_signal": 0,
         "rsi_position": 0,
         "_deepnote_index_column": "2021-08-03 14:30:00-04:00"
        },
        {
         "Close": 269.3999938964844,
         "RSI": 56.19392999658841,
         "rsi_signal": 0,
         "rsi_position": 0,
         "_deepnote_index_column": "2021-08-03 15:30:00-04:00"
        },
        {
         "Close": 263.5899963378906,
         "RSI": 49.14058486305855,
         "rsi_signal": 0,
         "rsi_position": 0,
         "_deepnote_index_column": "2021-08-04 09:30:00-04:00"
        },
        {
         "Close": 265.6600036621094,
         "RSI": 51.47743106430032,
         "rsi_signal": 0,
         "rsi_position": 0,
         "_deepnote_index_column": "2021-08-04 10:30:00-04:00"
        },
        {
         "Close": 265.4100036621094,
         "RSI": 51.171628714108415,
         "rsi_signal": 0,
         "rsi_position": 0,
         "_deepnote_index_column": "2021-08-04 11:30:00-04:00"
        },
        {
         "Close": 266.4849853515625,
         "RSI": 52.4788720455278,
         "rsi_signal": 0,
         "rsi_position": 0,
         "_deepnote_index_column": "2021-08-04 12:30:00-04:00"
        },
        {
         "Close": 265.9200134277344,
         "RSI": 51.695536691297825,
         "rsi_signal": 0,
         "rsi_position": 0,
         "_deepnote_index_column": "2021-08-04 13:30:00-04:00"
        },
        {
         "Close": 265.5,
         "RSI": 51.08504742986717,
         "rsi_signal": 0,
         "rsi_position": 0,
         "_deepnote_index_column": "2021-08-04 14:30:00-04:00"
        },
        {
         "Close": 266.45001220703125,
         "RSI": 52.45277882267458,
         "rsi_signal": 0,
         "rsi_position": 0,
         "_deepnote_index_column": "2021-08-04 15:30:00-04:00"
        },
        {
         "Close": 278.2344970703125,
         "RSI": 65.38318974009775,
         "rsi_signal": 0,
         "rsi_position": 0,
         "_deepnote_index_column": "2021-08-05 09:30:00-04:00"
        },
        {
         "Close": 287.25,
         "RSI": 71.7195223439506,
         "rsi_signal": 0,
         "rsi_position": 0,
         "_deepnote_index_column": "2021-08-05 10:30:00-04:00"
        },
        {
         "Close": 287.32000732421875,
         "RSI": 71.7627450145397,
         "rsi_signal": 0,
         "rsi_position": 0,
         "_deepnote_index_column": "2021-08-05 11:30:00-04:00"
        },
        {
         "Close": 283.7300109863281,
         "RSI": 66.17716562091539,
         "rsi_signal": 0,
         "rsi_position": 0,
         "_deepnote_index_column": "2021-08-05 12:30:00-04:00"
        },
        {
         "Close": 283.8900146484375,
         "RSI": 66.30305246579763,
         "rsi_signal": 0,
         "rsi_position": 0,
         "_deepnote_index_column": "2021-08-05 13:30:00-04:00"
        },
        {
         "Close": 282.4599914550781,
         "RSI": 64.00998966578653,
         "rsi_signal": 0,
         "rsi_position": 0,
         "_deepnote_index_column": "2021-08-05 14:30:00-04:00"
        },
        {
         "Close": 281.79998779296875,
         "RSI": 62.928266472792586,
         "rsi_signal": 0,
         "rsi_position": 0,
         "_deepnote_index_column": "2021-08-05 15:30:00-04:00"
        },
        {
         "Close": 279.1000061035156,
         "RSI": 58.567860734617625,
         "rsi_signal": 0,
         "rsi_position": 0,
         "_deepnote_index_column": "2021-08-06 09:30:00-04:00"
        },
        {
         "Close": 277.2200012207031,
         "RSI": 55.67502105377606,
         "rsi_signal": 0,
         "rsi_position": 0,
         "_deepnote_index_column": "2021-08-06 10:30:00-04:00"
        },
        {
         "Close": 278.6400146484375,
         "RSI": 57.38710176734184,
         "rsi_signal": 0,
         "rsi_position": 0,
         "_deepnote_index_column": "2021-08-06 11:30:00-04:00"
        },
        {
         "Close": 276.6119079589844,
         "RSI": 54.168931655395305,
         "rsi_signal": 0,
         "rsi_position": 0,
         "_deepnote_index_column": "2021-08-06 12:30:00-04:00"
        },
        {
         "Close": 276.2349853515625,
         "RSI": 53.567697345559104,
         "rsi_signal": 0,
         "rsi_position": 0,
         "_deepnote_index_column": "2021-08-06 13:30:00-04:00"
        },
        {
         "Close": 276.0409851074219,
         "RSI": 53.24015491368168,
         "rsi_signal": 0,
         "rsi_position": 0,
         "_deepnote_index_column": "2021-08-06 14:30:00-04:00"
        },
        {
         "Close": 275.06500244140625,
         "RSI": 51.532993929250736,
         "rsi_signal": 0,
         "rsi_position": 0,
         "_deepnote_index_column": "2021-08-06 15:30:00-04:00"
        }
       ]
      },
      "text/plain": "                                Close        RSI  rsi_signal  rsi_position\nDatetime                                                                  \n2019-09-03 09:30:00-04:00   62.959999        NaN           0             1\n2019-09-03 10:30:00-04:00   62.320000   0.000000           0             1\n2019-09-03 11:30:00-04:00   62.000000   0.000000           0             1\n2019-09-03 12:30:00-04:00   61.774899   0.000000           0             1\n2019-09-03 13:30:00-04:00   61.360001   0.000000           0             1\n...                               ...        ...         ...           ...\n2021-08-06 11:30:00-04:00  278.640015  57.387102           0             0\n2021-08-06 12:30:00-04:00  276.611908  54.168932           0             0\n2021-08-06 13:30:00-04:00  276.234985  53.567697           0             0\n2021-08-06 14:30:00-04:00  276.040985  53.240155           0             0\n2021-08-06 15:30:00-04:00  275.065002  51.532994           0             0\n\n[3397 rows x 4 columns]",
      "text/html": "<div>\n<style scoped>\n    .dataframe tbody tr th:only-of-type {\n        vertical-align: middle;\n    }\n\n    .dataframe tbody tr th {\n        vertical-align: top;\n    }\n\n    .dataframe thead th {\n        text-align: right;\n    }\n</style>\n<table border=\"1\" class=\"dataframe\">\n  <thead>\n    <tr style=\"text-align: right;\">\n      <th></th>\n      <th>Close</th>\n      <th>RSI</th>\n      <th>rsi_signal</th>\n      <th>rsi_position</th>\n    </tr>\n    <tr>\n      <th>Datetime</th>\n      <th></th>\n      <th></th>\n      <th></th>\n      <th></th>\n    </tr>\n  </thead>\n  <tbody>\n    <tr>\n      <th>2019-09-03 09:30:00-04:00</th>\n      <td>62.959999</td>\n      <td>NaN</td>\n      <td>0</td>\n      <td>1</td>\n    </tr>\n    <tr>\n      <th>2019-09-03 10:30:00-04:00</th>\n      <td>62.320000</td>\n      <td>0.000000</td>\n      <td>0</td>\n      <td>1</td>\n    </tr>\n    <tr>\n      <th>2019-09-03 11:30:00-04:00</th>\n      <td>62.000000</td>\n      <td>0.000000</td>\n      <td>0</td>\n      <td>1</td>\n    </tr>\n    <tr>\n      <th>2019-09-03 12:30:00-04:00</th>\n      <td>61.774899</td>\n      <td>0.000000</td>\n      <td>0</td>\n      <td>1</td>\n    </tr>\n    <tr>\n      <th>2019-09-03 13:30:00-04:00</th>\n      <td>61.360001</td>\n      <td>0.000000</td>\n      <td>0</td>\n      <td>1</td>\n    </tr>\n    <tr>\n      <th>...</th>\n      <td>...</td>\n      <td>...</td>\n      <td>...</td>\n      <td>...</td>\n    </tr>\n    <tr>\n      <th>2021-08-06 11:30:00-04:00</th>\n      <td>278.640015</td>\n      <td>57.387102</td>\n      <td>0</td>\n      <td>0</td>\n    </tr>\n    <tr>\n      <th>2021-08-06 12:30:00-04:00</th>\n      <td>276.611908</td>\n      <td>54.168932</td>\n      <td>0</td>\n      <td>0</td>\n    </tr>\n    <tr>\n      <th>2021-08-06 13:30:00-04:00</th>\n      <td>276.234985</td>\n      <td>53.567697</td>\n      <td>0</td>\n      <td>0</td>\n    </tr>\n    <tr>\n      <th>2021-08-06 14:30:00-04:00</th>\n      <td>276.040985</td>\n      <td>53.240155</td>\n      <td>0</td>\n      <td>0</td>\n    </tr>\n    <tr>\n      <th>2021-08-06 15:30:00-04:00</th>\n      <td>275.065002</td>\n      <td>51.532994</td>\n      <td>0</td>\n      <td>0</td>\n    </tr>\n  </tbody>\n</table>\n<p>3397 rows × 4 columns</p>\n</div>"
     },
     "metadata": {}
    }
   ],
   "execution_count": 18
  },
  {
   "cell_type": "code",
   "metadata": {
    "tags": [],
    "cell_id": "00009-6ac0abb3-878f-4c59-b946-57d3cd60b200",
    "deepnote_to_be_reexecuted": false,
    "source_hash": "8fce98fd",
    "execution_start": 1628646630233,
    "execution_millis": 67,
    "deepnote_cell_type": "code"
   },
   "source": "sq_1hr_rsi_ret = pd.DataFrame(np.diff(sq_1hr_rsi['Close'])).rename(columns = {0:'returns'})\nrsi_strategy_ret = []\n\nfor i in range(len(sq_1hr_rsi_ret)):\n    returns = sq_1hr_rsi_ret['returns'][i]*strategy['rsi_position'][i]\n    rsi_strategy_ret.append(returns)\n    \nrsi_strategy_ret_df = pd.DataFrame(rsi_strategy_ret).rename(columns = {0:'rsi_returns'})\ninvestment_value = 100000\nnumber_of_stocks = floor(investment_value/sq_1hr_rsi['Close'][-1])\nrsi_investment_ret = []\n\nfor i in range(len(rsi_strategy_ret_df['rsi_returns'])):\n    returns = number_of_stocks*rsi_strategy_ret_df['rsi_returns'][i]\n    rsi_investment_ret.append(returns)\n\nrsi_investment_ret_df = pd.DataFrame(rsi_investment_ret).rename(columns = {0:'investment_returns'})\ntotal_investment_ret = round(sum(rsi_investment_ret_df['investment_returns']), 2)\nprofit_percentage = floor((total_investment_ret/investment_value)*100)\nprint(cl('Profit gained from the RSI strategy by investing $100k in SQ : {}'.format(total_investment_ret), attrs = ['bold']))\nprint(cl('Profit percentage of the RSI strategy : {}%'.format(profit_percentage), attrs = ['bold']))\n",
   "outputs": [
    {
     "name": "stdout",
     "text": "\u001b[1mProfit gained from the RSI strategy by investing $100k in SQ : 35348.03\u001b[0m\n\u001b[1mProfit percentage of the RSI strategy : 35%\u001b[0m\n",
     "output_type": "stream"
    }
   ],
   "execution_count": 19
  },
  {
   "cell_type": "code",
   "metadata": {
    "tags": [],
    "cell_id": "00010-82ed4970-30f6-443a-bb49-9e033f847f5f",
    "deepnote_to_be_reexecuted": false,
    "source_hash": "25c10399",
    "execution_start": 1628646750831,
    "execution_millis": 39,
    "deepnote_cell_type": "code"
   },
   "source": "strategy.to_csv('SQ RSI TRADE STRATEGY.csv')",
   "outputs": [],
   "execution_count": 20
  },
  {
   "cell_type": "markdown",
   "source": "<a style='text-decoration:none;line-height:16px;display:flex;color:#5B5B62;padding:10px;justify-content:end;' href='https://deepnote.com?utm_source=created-in-deepnote-cell&projectId=d12c285c-6789-4c45-9ad7-1be9b4d60622' target=\"_blank\">\n<img alt='Created in deepnote.com' style='display:inline;max-height:16px;margin:0px;margin-right:7.5px;' src='data:image/svg+xml;base64,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' > </img>\nCreated in <span style='font-weight:600;margin-left:4px;'>Deepnote</span></a>",
   "metadata": {
    "tags": [],
    "created_in_deepnote_cell": true,
    "deepnote_cell_type": "markdown"
   }
  }
 ],
 "nbformat": 4,
 "nbformat_minor": 2,
 "metadata": {
  "orig_nbformat": 2,
  "deepnote": {
   "is_reactive": false
  },
  "deepnote_notebook_id": "2dea5e50-e359-4e3a-b23d-2cc3dc17d137",
  "deepnote_execution_queue": []
 }
}