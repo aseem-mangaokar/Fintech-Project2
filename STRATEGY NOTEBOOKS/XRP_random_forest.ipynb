{
 "cells": [
  {
   "cell_type": "code",
   "metadata": {
    "tags": [],
    "cell_id": "00000-34c1e828-e141-437f-b529-3fcf4460d5f8",
    "deepnote_to_be_reexecuted": false,
    "source_hash": "a09f78e3",
    "execution_start": 1629324836402,
    "execution_millis": 6020,
    "deepnote_cell_type": "code"
   },
   "source": "# Initial imports\nimport numpy as np\nimport pandas as pd\nfrom pathlib import Path\nfrom sklearn.ensemble import RandomForestClassifier\nfrom sklearn.preprocessing import StandardScaler\nfrom sklearn.model_selection import train_test_split\nfrom sklearn.metrics import confusion_matrix, accuracy_score, classification_report\nfrom sklearn.ensemble import GradientBoostingClassifier\n%matplotlib inline\nfrom sklearn import *\nfrom tensorflow.keras.models import Sequential\nfrom tensorflow.keras.layers import Dense\nimport matplotlib.pyplot as plt\n\n# Needed for decision tree visualization\nimport pydotplus\nfrom IPython.display import Image",
   "execution_count": null,
   "outputs": [
    {
     "name": "stderr",
     "text": "2021-08-18 22:13:58.628859: W tensorflow/stream_executor/platform/default/dso_loader.cc:60] Could not load dynamic library 'libcudart.so.11.0'; dlerror: libcudart.so.11.0: cannot open shared object file: No such file or directory\n2021-08-18 22:13:58.628917: I tensorflow/stream_executor/cuda/cudart_stub.cc:29] Ignore above cudart dlerror if you do not have a GPU set up on your machine.\n",
     "output_type": "stream"
    }
   ]
  },
  {
   "cell_type": "code",
   "metadata": {
    "tags": [],
    "cell_id": "00000-8562f8a3-8ef2-49b5-afe2-ee32a2309add",
    "deepnote_to_be_reexecuted": false,
    "source_hash": "654f69e9",
    "execution_start": 1629324842432,
    "execution_millis": 250,
    "deepnote_cell_type": "code"
   },
   "source": "# Set path to CSV and read in CSV\ndf1=pd.read_csv(Path('/work/Fintech-Project2/TRADE_STRATS/XRP_MACD_TRADE_STRATEGY'), infer_datetime_format=True, index_col='Datetime')\ndf1.drop(columns = ['macd','signal','macd_position'], inplace = True)\ndf2=pd.read_csv(Path('/work/Fintech-Project2/TRADE_STRATS/XRP AROON 25 TRADE STRATEGY.CSV'), infer_datetime_format=True, index_col='Unnamed: 0')\ndf2.drop(columns =['trend_aroon_up','trend_aroon_down', 'aroon_position', 'Close'],inplace = True)\ndf3=pd.read_csv(Path('/work/Fintech-Project2/TRADE_STRATS/XRP_RSI_TRADE_STRATEGY'), infer_datetime_format=True, index_col='Datetime')\ndf3.drop(columns = ['RSI','rsi_position','Close'], inplace = True)\ndf4=pd.read_csv(Path('/work/Fintech-Project2/STRATEGY NOTEBOOKS/Hourly Strategies/XRP_AO_1hr_TRADE_STRATEGY'), infer_datetime_format=True, index_col='Datetime')\ndf4.drop(columns = ['ao','ao_position','Close'], inplace = True)\ncombined_signals_df = pd.concat([df1,df2,df3, df4], axis = 1).fillna(0)\ncombined_signals_df",
   "execution_count": null,
   "outputs": [
    {
     "output_type": "execute_result",
     "execution_count": 2,
     "data": {
      "application/vnd.deepnote.dataframe.v2+json": {
       "row_count": 17009,
       "column_count": 5,
       "columns": [
        {
         "name": "Close",
         "dtype": "float64",
         "stats": {
          "unique_count": 16593,
          "nan_count": 0,
          "min": "0.0",
          "max": "1.9378489255905151",
          "histogram": [
           {
            "bin_start": 0,
            "bin_end": 0.1937848925590515,
            "count": 1894
           },
           {
            "bin_start": 0.1937848925590515,
            "bin_end": 0.387569785118103,
            "count": 9796
           },
           {
            "bin_start": 0.387569785118103,
            "bin_end": 0.5813546776771545,
            "count": 1883
           },
           {
            "bin_start": 0.5813546776771545,
            "bin_end": 0.775139570236206,
            "count": 1552
           },
           {
            "bin_start": 0.775139570236206,
            "bin_end": 0.9689244627952576,
            "count": 655
           },
           {
            "bin_start": 0.9689244627952576,
            "bin_end": 1.162709355354309,
            "count": 343
           },
           {
            "bin_start": 1.162709355354309,
            "bin_end": 1.3564942479133606,
            "count": 186
           },
           {
            "bin_start": 1.3564942479133606,
            "bin_end": 1.550279140472412,
            "count": 385
           },
           {
            "bin_start": 1.550279140472412,
            "bin_end": 1.7440640330314636,
            "count": 272
           },
           {
            "bin_start": 1.7440640330314636,
            "bin_end": 1.9378489255905151,
            "count": 43
           }
          ]
         }
        },
        {
         "name": "macd_signal",
         "dtype": "float64",
         "stats": {
          "unique_count": 3,
          "nan_count": 0,
          "min": "-1.0",
          "max": "1.0",
          "histogram": [
           {
            "bin_start": -1,
            "bin_end": -0.8,
            "count": 685
           },
           {
            "bin_start": -0.8,
            "bin_end": -0.6,
            "count": 0
           },
           {
            "bin_start": -0.6,
            "bin_end": -0.3999999999999999,
            "count": 0
           },
           {
            "bin_start": -0.3999999999999999,
            "bin_end": -0.19999999999999996,
            "count": 0
           },
           {
            "bin_start": -0.19999999999999996,
            "bin_end": 0,
            "count": 0
           },
           {
            "bin_start": 0,
            "bin_end": 0.20000000000000018,
            "count": 15639
           },
           {
            "bin_start": 0.20000000000000018,
            "bin_end": 0.40000000000000013,
            "count": 0
           },
           {
            "bin_start": 0.40000000000000013,
            "bin_end": 0.6000000000000001,
            "count": 0
           },
           {
            "bin_start": 0.6000000000000001,
            "bin_end": 0.8,
            "count": 0
           },
           {
            "bin_start": 0.8,
            "bin_end": 1,
            "count": 685
           }
          ]
         }
        },
        {
         "name": "aroon_signal",
         "dtype": "float64",
         "stats": {
          "unique_count": 3,
          "nan_count": 0,
          "min": "-1.0",
          "max": "1.0",
          "histogram": [
           {
            "bin_start": -1,
            "bin_end": -0.8,
            "count": 214
           },
           {
            "bin_start": -0.8,
            "bin_end": -0.6,
            "count": 0
           },
           {
            "bin_start": -0.6,
            "bin_end": -0.3999999999999999,
            "count": 0
           },
           {
            "bin_start": -0.3999999999999999,
            "bin_end": -0.19999999999999996,
            "count": 0
           },
           {
            "bin_start": -0.19999999999999996,
            "bin_end": 0,
            "count": 0
           },
           {
            "bin_start": 0,
            "bin_end": 0.20000000000000018,
            "count": 16580
           },
           {
            "bin_start": 0.20000000000000018,
            "bin_end": 0.40000000000000013,
            "count": 0
           },
           {
            "bin_start": 0.40000000000000013,
            "bin_end": 0.6000000000000001,
            "count": 0
           },
           {
            "bin_start": 0.6000000000000001,
            "bin_end": 0.8,
            "count": 0
           },
           {
            "bin_start": 0.8,
            "bin_end": 1,
            "count": 215
           }
          ]
         }
        },
        {
         "name": "rsi_signal",
         "dtype": "float64",
         "stats": {
          "unique_count": 3,
          "nan_count": 0,
          "min": "-1.0",
          "max": "1.0",
          "histogram": [
           {
            "bin_start": -1,
            "bin_end": -0.8,
            "count": 57
           },
           {
            "bin_start": -0.8,
            "bin_end": -0.6,
            "count": 0
           },
           {
            "bin_start": -0.6,
            "bin_end": -0.3999999999999999,
            "count": 0
           },
           {
            "bin_start": -0.3999999999999999,
            "bin_end": -0.19999999999999996,
            "count": 0
           },
           {
            "bin_start": -0.19999999999999996,
            "bin_end": 0,
            "count": 0
           },
           {
            "bin_start": 0,
            "bin_end": 0.20000000000000018,
            "count": 16895
           },
           {
            "bin_start": 0.20000000000000018,
            "bin_end": 0.40000000000000013,
            "count": 0
           },
           {
            "bin_start": 0.40000000000000013,
            "bin_end": 0.6000000000000001,
            "count": 0
           },
           {
            "bin_start": 0.6000000000000001,
            "bin_end": 0.8,
            "count": 0
           },
           {
            "bin_start": 0.8,
            "bin_end": 1,
            "count": 57
           }
          ]
         }
        },
        {
         "name": "ao_signal",
         "dtype": "float64",
         "stats": {
          "unique_count": 3,
          "nan_count": 0,
          "min": "-1.0",
          "max": "1.0",
          "histogram": [
           {
            "bin_start": -1,
            "bin_end": -0.8,
            "count": 375
           },
           {
            "bin_start": -0.8,
            "bin_end": -0.6,
            "count": 0
           },
           {
            "bin_start": -0.6,
            "bin_end": -0.3999999999999999,
            "count": 0
           },
           {
            "bin_start": -0.3999999999999999,
            "bin_end": -0.19999999999999996,
            "count": 0
           },
           {
            "bin_start": -0.19999999999999996,
            "bin_end": 0,
            "count": 0
           },
           {
            "bin_start": 0,
            "bin_end": 0.20000000000000018,
            "count": 16259
           },
           {
            "bin_start": 0.20000000000000018,
            "bin_end": 0.40000000000000013,
            "count": 0
           },
           {
            "bin_start": 0.40000000000000013,
            "bin_end": 0.6000000000000001,
            "count": 0
           },
           {
            "bin_start": 0.6000000000000001,
            "bin_end": 0.8,
            "count": 0
           },
           {
            "bin_start": 0.8,
            "bin_end": 1,
            "count": 375
           }
          ]
         }
        },
        {
         "name": "_deepnote_index_column",
         "dtype": "object"
        }
       ],
       "rows_top": [
        {
         "Close": 0.2590999901294708,
         "macd_signal": 0,
         "aroon_signal": 0,
         "rsi_signal": 0,
         "ao_signal": 0,
         "_deepnote_index_column": "2019-09-01 01:00:00+01:00"
        },
        {
         "Close": 0.2583999931812286,
         "macd_signal": -1,
         "aroon_signal": 0,
         "rsi_signal": -1,
         "ao_signal": 0,
         "_deepnote_index_column": "2019-09-01 02:00:00+01:00"
        },
        {
         "Close": 0.2578000128269195,
         "macd_signal": 0,
         "aroon_signal": 0,
         "rsi_signal": 0,
         "ao_signal": 0,
         "_deepnote_index_column": "2019-09-01 03:00:00+01:00"
        },
        {
         "Close": 0.2585000097751617,
         "macd_signal": 0,
         "aroon_signal": 0,
         "rsi_signal": 0,
         "ao_signal": 0,
         "_deepnote_index_column": "2019-09-01 04:00:00+01:00"
        },
        {
         "Close": 0.2581000030040741,
         "macd_signal": 0,
         "aroon_signal": 0,
         "rsi_signal": 0,
         "ao_signal": 0,
         "_deepnote_index_column": "2019-09-01 05:00:00+01:00"
        },
        {
         "Close": 0.2581000030040741,
         "macd_signal": 0,
         "aroon_signal": 0,
         "rsi_signal": 0,
         "ao_signal": 0,
         "_deepnote_index_column": "2019-09-01 06:00:00+01:00"
        },
        {
         "Close": 0.2585000097751617,
         "macd_signal": 0,
         "aroon_signal": 0,
         "rsi_signal": 0,
         "ao_signal": 0,
         "_deepnote_index_column": "2019-09-01 07:00:00+01:00"
        },
        {
         "Close": 0.2581999897956848,
         "macd_signal": 0,
         "aroon_signal": 0,
         "rsi_signal": 0,
         "ao_signal": 0,
         "_deepnote_index_column": "2019-09-01 08:00:00+01:00"
        },
        {
         "Close": 0.2567000091075897,
         "macd_signal": 0,
         "aroon_signal": 0,
         "rsi_signal": 0,
         "ao_signal": 0,
         "_deepnote_index_column": "2019-09-01 09:00:00+01:00"
        },
        {
         "Close": 0.2563999891281128,
         "macd_signal": 0,
         "aroon_signal": 0,
         "rsi_signal": 0,
         "ao_signal": 0,
         "_deepnote_index_column": "2019-09-01 10:00:00+01:00"
        },
        {
         "Close": 0.2558000087738037,
         "macd_signal": 0,
         "aroon_signal": 0,
         "rsi_signal": 0,
         "ao_signal": 0,
         "_deepnote_index_column": "2019-09-01 11:00:00+01:00"
        },
        {
         "Close": 0.2551000118255615,
         "macd_signal": 0,
         "aroon_signal": 0,
         "rsi_signal": 0,
         "ao_signal": 0,
         "_deepnote_index_column": "2019-09-01 12:00:00+01:00"
        },
        {
         "Close": 0.2556999921798706,
         "macd_signal": 0,
         "aroon_signal": 0,
         "rsi_signal": 0,
         "ao_signal": 0,
         "_deepnote_index_column": "2019-09-01 13:00:00+01:00"
        },
        {
         "Close": 0.2549000084400177,
         "macd_signal": 0,
         "aroon_signal": 0,
         "rsi_signal": 0,
         "ao_signal": 0,
         "_deepnote_index_column": "2019-09-01 14:00:00+01:00"
        },
        {
         "Close": 0.2549999952316284,
         "macd_signal": 0,
         "aroon_signal": 0,
         "rsi_signal": 0,
         "ao_signal": 0,
         "_deepnote_index_column": "2019-09-01 15:00:00+01:00"
        },
        {
         "Close": 0.2560999989509582,
         "macd_signal": 0,
         "aroon_signal": 0,
         "rsi_signal": 0,
         "ao_signal": 0,
         "_deepnote_index_column": "2019-09-01 16:00:00+01:00"
        },
        {
         "Close": 0.2542000114917755,
         "macd_signal": 0,
         "aroon_signal": 0,
         "rsi_signal": 0,
         "ao_signal": 0,
         "_deepnote_index_column": "2019-09-01 17:00:00+01:00"
        },
        {
         "Close": 0.2542000114917755,
         "macd_signal": 0,
         "aroon_signal": 0,
         "rsi_signal": 0,
         "ao_signal": 0,
         "_deepnote_index_column": "2019-09-01 18:00:00+01:00"
        },
        {
         "Close": 0.2551999986171722,
         "macd_signal": 0,
         "aroon_signal": 0,
         "rsi_signal": 0,
         "ao_signal": 0,
         "_deepnote_index_column": "2019-09-01 19:00:00+01:00"
        },
        {
         "Close": 0.2558999955654144,
         "macd_signal": 0,
         "aroon_signal": 0,
         "rsi_signal": 0,
         "ao_signal": 0,
         "_deepnote_index_column": "2019-09-01 20:00:00+01:00"
        },
        {
         "Close": 0.2563999891281128,
         "macd_signal": 1,
         "aroon_signal": 0,
         "rsi_signal": 0,
         "ao_signal": 0,
         "_deepnote_index_column": "2019-09-01 21:00:00+01:00"
        },
        {
         "Close": 0.2567999958992004,
         "macd_signal": 0,
         "aroon_signal": 0,
         "rsi_signal": 0,
         "ao_signal": 0,
         "_deepnote_index_column": "2019-09-01 22:00:00+01:00"
        },
        {
         "Close": 0.2572999894618988,
         "macd_signal": 0,
         "aroon_signal": 0,
         "rsi_signal": 0,
         "ao_signal": 0,
         "_deepnote_index_column": "2019-09-01 23:00:00+01:00"
        },
        {
         "Close": 0.2569000124931335,
         "macd_signal": 0,
         "aroon_signal": 0,
         "rsi_signal": 0,
         "ao_signal": 0,
         "_deepnote_index_column": "2019-09-02 00:00:00+01:00"
        },
        {
         "Close": 0.2558000087738037,
         "macd_signal": 0,
         "aroon_signal": 0,
         "rsi_signal": 0,
         "ao_signal": 0,
         "_deepnote_index_column": "2019-09-02 01:00:00+01:00"
        },
        {
         "Close": 0.2554999887943268,
         "macd_signal": 0,
         "aroon_signal": 0,
         "rsi_signal": 0,
         "ao_signal": 0,
         "_deepnote_index_column": "2019-09-02 02:00:00+01:00"
        },
        {
         "Close": 0.2558000087738037,
         "macd_signal": 0,
         "aroon_signal": 0,
         "rsi_signal": 0,
         "ao_signal": 0,
         "_deepnote_index_column": "2019-09-02 03:00:00+01:00"
        },
        {
         "Close": 0.2554999887943268,
         "macd_signal": 0,
         "aroon_signal": 0,
         "rsi_signal": 0,
         "ao_signal": 0,
         "_deepnote_index_column": "2019-09-02 04:00:00+01:00"
        },
        {
         "Close": 0.2554999887943268,
         "macd_signal": 0,
         "aroon_signal": 0,
         "rsi_signal": 0,
         "ao_signal": 0,
         "_deepnote_index_column": "2019-09-02 05:00:00+01:00"
        },
        {
         "Close": 0.2552999854087829,
         "macd_signal": 0,
         "aroon_signal": 0,
         "rsi_signal": 0,
         "ao_signal": 0,
         "_deepnote_index_column": "2019-09-02 06:00:00+01:00"
        },
        {
         "Close": 0.2549999952316284,
         "macd_signal": 0,
         "aroon_signal": 0,
         "rsi_signal": 0,
         "ao_signal": 0,
         "_deepnote_index_column": "2019-09-02 07:00:00+01:00"
        },
        {
         "Close": 0.2542999982833862,
         "macd_signal": -1,
         "aroon_signal": 0,
         "rsi_signal": 0,
         "ao_signal": 0,
         "_deepnote_index_column": "2019-09-02 08:00:00+01:00"
        },
        {
         "Close": 0.2544000148773193,
         "macd_signal": 0,
         "aroon_signal": 0,
         "rsi_signal": 0,
         "ao_signal": 0,
         "_deepnote_index_column": "2019-09-02 09:00:00+01:00"
        },
        {
         "Close": 0.2549999952316284,
         "macd_signal": 0,
         "aroon_signal": 0,
         "rsi_signal": 0,
         "ao_signal": 0,
         "_deepnote_index_column": "2019-09-02 10:00:00+01:00"
        },
        {
         "Close": 0.2545999884605407,
         "macd_signal": 0,
         "aroon_signal": 0,
         "rsi_signal": 0,
         "ao_signal": -1,
         "_deepnote_index_column": "2019-09-02 11:00:00+01:00"
        },
        {
         "Close": 0.2556999921798706,
         "macd_signal": 1,
         "aroon_signal": 0,
         "rsi_signal": 0,
         "ao_signal": 0,
         "_deepnote_index_column": "2019-09-02 12:00:00+01:00"
        },
        {
         "Close": 0.2549999952316284,
         "macd_signal": 0,
         "aroon_signal": 0,
         "rsi_signal": 0,
         "ao_signal": 0,
         "_deepnote_index_column": "2019-09-02 13:00:00+01:00"
        },
        {
         "Close": 0.257999986410141,
         "macd_signal": 0,
         "aroon_signal": 1,
         "rsi_signal": 0,
         "ao_signal": 0,
         "_deepnote_index_column": "2019-09-02 14:00:00+01:00"
        },
        {
         "Close": 0.2576000094413757,
         "macd_signal": 0,
         "aroon_signal": 0,
         "rsi_signal": 0,
         "ao_signal": 1,
         "_deepnote_index_column": "2019-09-02 15:00:00+01:00"
        },
        {
         "Close": 0.2569999992847442,
         "macd_signal": 0,
         "aroon_signal": 0,
         "rsi_signal": 0,
         "ao_signal": 0,
         "_deepnote_index_column": "2019-09-02 16:00:00+01:00"
        },
        {
         "Close": 0.2578000128269195,
         "macd_signal": 0,
         "aroon_signal": 0,
         "rsi_signal": 0,
         "ao_signal": 0,
         "_deepnote_index_column": "2019-09-02 17:00:00+01:00"
        },
        {
         "Close": 0.2587000131607055,
         "macd_signal": 0,
         "aroon_signal": 0,
         "rsi_signal": 0,
         "ao_signal": 0,
         "_deepnote_index_column": "2019-09-02 18:00:00+01:00"
        },
        {
         "Close": 0.260699987411499,
         "macd_signal": 0,
         "aroon_signal": 0,
         "rsi_signal": 0,
         "ao_signal": 0,
         "_deepnote_index_column": "2019-09-02 19:00:00+01:00"
        },
        {
         "Close": 0.2608999907970428,
         "macd_signal": 0,
         "aroon_signal": 0,
         "rsi_signal": 0,
         "ao_signal": 0,
         "_deepnote_index_column": "2019-09-02 20:00:00+01:00"
        },
        {
         "Close": 0.2628999948501587,
         "macd_signal": 0,
         "aroon_signal": 0,
         "rsi_signal": 1,
         "ao_signal": 0,
         "_deepnote_index_column": "2019-09-02 21:00:00+01:00"
        },
        {
         "Close": 0.2630999982357025,
         "macd_signal": 0,
         "aroon_signal": 0,
         "rsi_signal": 0,
         "ao_signal": 0,
         "_deepnote_index_column": "2019-09-02 22:00:00+01:00"
        },
        {
         "Close": 0.2624000012874603,
         "macd_signal": 0,
         "aroon_signal": 0,
         "rsi_signal": 0,
         "ao_signal": 0,
         "_deepnote_index_column": "2019-09-02 23:00:00+01:00"
        },
        {
         "Close": 0.261599987745285,
         "macd_signal": 0,
         "aroon_signal": 0,
         "rsi_signal": 0,
         "ao_signal": 0,
         "_deepnote_index_column": "2019-09-03 00:00:00+01:00"
        },
        {
         "Close": 0.2608000040054321,
         "macd_signal": 0,
         "aroon_signal": 0,
         "rsi_signal": 0,
         "ao_signal": 0,
         "_deepnote_index_column": "2019-09-03 01:00:00+01:00"
        },
        {
         "Close": 0.2606000006198883,
         "macd_signal": 0,
         "aroon_signal": 0,
         "rsi_signal": 0,
         "ao_signal": 0,
         "_deepnote_index_column": "2019-09-03 02:00:00+01:00"
        },
        {
         "Close": 0.2608000040054321,
         "macd_signal": 0,
         "aroon_signal": 0,
         "rsi_signal": 0,
         "ao_signal": 0,
         "_deepnote_index_column": "2019-09-03 03:00:00+01:00"
        },
        {
         "Close": 0.2615000009536743,
         "macd_signal": 0,
         "aroon_signal": 0,
         "rsi_signal": 0,
         "ao_signal": 0,
         "_deepnote_index_column": "2019-09-03 04:00:00+01:00"
        },
        {
         "Close": 0.2614000141620636,
         "macd_signal": 0,
         "aroon_signal": 0,
         "rsi_signal": 0,
         "ao_signal": 0,
         "_deepnote_index_column": "2019-09-03 05:00:00+01:00"
        },
        {
         "Close": 0.2612999975681305,
         "macd_signal": 0,
         "aroon_signal": 0,
         "rsi_signal": 0,
         "ao_signal": 0,
         "_deepnote_index_column": "2019-09-03 06:00:00+01:00"
        },
        {
         "Close": 0.2610000073909759,
         "macd_signal": -1,
         "aroon_signal": 0,
         "rsi_signal": 0,
         "ao_signal": 0,
         "_deepnote_index_column": "2019-09-03 07:00:00+01:00"
        },
        {
         "Close": 0.260699987411499,
         "macd_signal": 0,
         "aroon_signal": 0,
         "rsi_signal": 0,
         "ao_signal": 0,
         "_deepnote_index_column": "2019-09-03 08:00:00+01:00"
        },
        {
         "Close": 0.2603999972343445,
         "macd_signal": 0,
         "aroon_signal": 0,
         "rsi_signal": 0,
         "ao_signal": 0,
         "_deepnote_index_column": "2019-09-03 09:00:00+01:00"
        },
        {
         "Close": 0.258899986743927,
         "macd_signal": 0,
         "aroon_signal": 0,
         "rsi_signal": 0,
         "ao_signal": 0,
         "_deepnote_index_column": "2019-09-03 10:00:00+01:00"
        },
        {
         "Close": 0.2601000070571899,
         "macd_signal": 0,
         "aroon_signal": 0,
         "rsi_signal": 0,
         "ao_signal": 0,
         "_deepnote_index_column": "2019-09-03 11:00:00+01:00"
        },
        {
         "Close": 0.2601000070571899,
         "macd_signal": 0,
         "aroon_signal": 0,
         "rsi_signal": 0,
         "ao_signal": 0,
         "_deepnote_index_column": "2019-09-03 12:00:00+01:00"
        },
        {
         "Close": 0.2621000111103058,
         "macd_signal": 0,
         "aroon_signal": 0,
         "rsi_signal": 0,
         "ao_signal": 0,
         "_deepnote_index_column": "2019-09-03 13:00:00+01:00"
        },
        {
         "Close": 0.2646999955177307,
         "macd_signal": 1,
         "aroon_signal": 0,
         "rsi_signal": 0,
         "ao_signal": 0,
         "_deepnote_index_column": "2019-09-03 14:00:00+01:00"
        },
        {
         "Close": 0.2635000050067901,
         "macd_signal": 0,
         "aroon_signal": 0,
         "rsi_signal": 0,
         "ao_signal": 0,
         "_deepnote_index_column": "2019-09-03 15:00:00+01:00"
        },
        {
         "Close": 0.2637999951839447,
         "macd_signal": 0,
         "aroon_signal": 0,
         "rsi_signal": 0,
         "ao_signal": 0,
         "_deepnote_index_column": "2019-09-03 16:00:00+01:00"
        },
        {
         "Close": 0.2630000114440918,
         "macd_signal": 0,
         "aroon_signal": 0,
         "rsi_signal": 0,
         "ao_signal": 0,
         "_deepnote_index_column": "2019-09-03 17:00:00+01:00"
        },
        {
         "Close": 0.2619999945163727,
         "macd_signal": 0,
         "aroon_signal": 0,
         "rsi_signal": 0,
         "ao_signal": 0,
         "_deepnote_index_column": "2019-09-03 18:00:00+01:00"
        },
        {
         "Close": 0.2619999945163727,
         "macd_signal": -1,
         "aroon_signal": 0,
         "rsi_signal": 0,
         "ao_signal": 0,
         "_deepnote_index_column": "2019-09-03 19:00:00+01:00"
        },
        {
         "Close": 0.2624000012874603,
         "macd_signal": 0,
         "aroon_signal": 0,
         "rsi_signal": 0,
         "ao_signal": 0,
         "_deepnote_index_column": "2019-09-03 20:00:00+01:00"
        },
        {
         "Close": 0.263399988412857,
         "macd_signal": 0,
         "aroon_signal": 0,
         "rsi_signal": 0,
         "ao_signal": 0,
         "_deepnote_index_column": "2019-09-03 21:00:00+01:00"
        },
        {
         "Close": 0.2640999853610992,
         "macd_signal": 1,
         "aroon_signal": 0,
         "rsi_signal": 0,
         "ao_signal": 0,
         "_deepnote_index_column": "2019-09-03 22:00:00+01:00"
        },
        {
         "Close": 0.26460000872612,
         "macd_signal": 0,
         "aroon_signal": 0,
         "rsi_signal": 0,
         "ao_signal": 0,
         "_deepnote_index_column": "2019-09-03 23:00:00+01:00"
        },
        {
         "Close": 0.2632000148296356,
         "macd_signal": 0,
         "aroon_signal": 0,
         "rsi_signal": 0,
         "ao_signal": 0,
         "_deepnote_index_column": "2019-09-04 00:00:00+01:00"
        },
        {
         "Close": 0.2626999914646148,
         "macd_signal": -1,
         "aroon_signal": 0,
         "rsi_signal": 0,
         "ao_signal": 0,
         "_deepnote_index_column": "2019-09-04 01:00:00+01:00"
        },
        {
         "Close": 0.2619000077247619,
         "macd_signal": 0,
         "aroon_signal": 0,
         "rsi_signal": 0,
         "ao_signal": 0,
         "_deepnote_index_column": "2019-09-04 02:00:00+01:00"
        },
        {
         "Close": 0.261599987745285,
         "macd_signal": 0,
         "aroon_signal": 0,
         "rsi_signal": 0,
         "ao_signal": 0,
         "_deepnote_index_column": "2019-09-04 03:00:00+01:00"
        },
        {
         "Close": 0.2623000144958496,
         "macd_signal": 0,
         "aroon_signal": 0,
         "rsi_signal": 0,
         "ao_signal": 0,
         "_deepnote_index_column": "2019-09-04 04:00:00+01:00"
        },
        {
         "Close": 0.2608999907970428,
         "macd_signal": 0,
         "aroon_signal": 0,
         "rsi_signal": 0,
         "ao_signal": 0,
         "_deepnote_index_column": "2019-09-04 05:00:00+01:00"
        },
        {
         "Close": 0.260699987411499,
         "macd_signal": 0,
         "aroon_signal": 0,
         "rsi_signal": 0,
         "ao_signal": -1,
         "_deepnote_index_column": "2019-09-04 06:00:00+01:00"
        },
        {
         "Close": 0.2606000006198883,
         "macd_signal": 0,
         "aroon_signal": 0,
         "rsi_signal": 0,
         "ao_signal": 0,
         "_deepnote_index_column": "2019-09-04 07:00:00+01:00"
        },
        {
         "Close": 0.2605000138282776,
         "macd_signal": 0,
         "aroon_signal": 0,
         "rsi_signal": 0,
         "ao_signal": 0,
         "_deepnote_index_column": "2019-09-04 08:00:00+01:00"
        },
        {
         "Close": 0.258899986743927,
         "macd_signal": 0,
         "aroon_signal": 0,
         "rsi_signal": 0,
         "ao_signal": 0,
         "_deepnote_index_column": "2019-09-04 09:00:00+01:00"
        },
        {
         "Close": 0.2597000002861023,
         "macd_signal": 0,
         "aroon_signal": 0,
         "rsi_signal": 0,
         "ao_signal": 0,
         "_deepnote_index_column": "2019-09-04 10:00:00+01:00"
        },
        {
         "Close": 0.2596000134944916,
         "macd_signal": 0,
         "aroon_signal": -1,
         "rsi_signal": 0,
         "ao_signal": 0,
         "_deepnote_index_column": "2019-09-04 11:00:00+01:00"
        },
        {
         "Close": 0.2592999935150146,
         "macd_signal": 0,
         "aroon_signal": 0,
         "rsi_signal": 0,
         "ao_signal": 0,
         "_deepnote_index_column": "2019-09-04 12:00:00+01:00"
        },
        {
         "Close": 0.2585000097751617,
         "macd_signal": 0,
         "aroon_signal": 0,
         "rsi_signal": 0,
         "ao_signal": 0,
         "_deepnote_index_column": "2019-09-04 13:00:00+01:00"
        },
        {
         "Close": 0.2587999999523163,
         "macd_signal": 0,
         "aroon_signal": 0,
         "rsi_signal": 0,
         "ao_signal": 0,
         "_deepnote_index_column": "2019-09-04 14:00:00+01:00"
        },
        {
         "Close": 0.2581999897956848,
         "macd_signal": 0,
         "aroon_signal": 0,
         "rsi_signal": 0,
         "ao_signal": 0,
         "_deepnote_index_column": "2019-09-04 15:00:00+01:00"
        },
        {
         "Close": 0.2585999965667724,
         "macd_signal": 0,
         "aroon_signal": 0,
         "rsi_signal": 0,
         "ao_signal": 0,
         "_deepnote_index_column": "2019-09-04 16:00:00+01:00"
        },
        {
         "Close": 0.2601999938488006,
         "macd_signal": 0,
         "aroon_signal": 0,
         "rsi_signal": 0,
         "ao_signal": 0,
         "_deepnote_index_column": "2019-09-04 17:00:00+01:00"
        },
        {
         "Close": 0.2601999938488006,
         "macd_signal": 0,
         "aroon_signal": 0,
         "rsi_signal": 0,
         "ao_signal": 0,
         "_deepnote_index_column": "2019-09-04 18:00:00+01:00"
        },
        {
         "Close": 0.2594999969005584,
         "macd_signal": 0,
         "aroon_signal": 0,
         "rsi_signal": 0,
         "ao_signal": 0,
         "_deepnote_index_column": "2019-09-04 19:00:00+01:00"
        },
        {
         "Close": 0.2608000040054321,
         "macd_signal": 1,
         "aroon_signal": 0,
         "rsi_signal": 0,
         "ao_signal": 0,
         "_deepnote_index_column": "2019-09-04 20:00:00+01:00"
        },
        {
         "Close": 0.2603999972343445,
         "macd_signal": 0,
         "aroon_signal": 0,
         "rsi_signal": 0,
         "ao_signal": 0,
         "_deepnote_index_column": "2019-09-04 21:00:00+01:00"
        },
        {
         "Close": 0.261599987745285,
         "macd_signal": 0,
         "aroon_signal": 0,
         "rsi_signal": 0,
         "ao_signal": 0,
         "_deepnote_index_column": "2019-09-04 22:00:00+01:00"
        },
        {
         "Close": 0.258899986743927,
         "macd_signal": 0,
         "aroon_signal": 0,
         "rsi_signal": 0,
         "ao_signal": 0,
         "_deepnote_index_column": "2019-09-04 23:00:00+01:00"
        },
        {
         "Close": 0.258899986743927,
         "macd_signal": 0,
         "aroon_signal": 0,
         "rsi_signal": 0,
         "ao_signal": 0,
         "_deepnote_index_column": "2019-09-05 00:00:00+01:00"
        },
        {
         "Close": 0.2583999931812286,
         "macd_signal": -1,
         "aroon_signal": 0,
         "rsi_signal": 0,
         "ao_signal": 0,
         "_deepnote_index_column": "2019-09-05 01:00:00+01:00"
        },
        {
         "Close": 0.2583999931812286,
         "macd_signal": 0,
         "aroon_signal": 0,
         "rsi_signal": 0,
         "ao_signal": 0,
         "_deepnote_index_column": "2019-09-05 02:00:00+01:00"
        },
        {
         "Close": 0.2585000097751617,
         "macd_signal": 0,
         "aroon_signal": 0,
         "rsi_signal": 0,
         "ao_signal": 0,
         "_deepnote_index_column": "2019-09-05 03:00:00+01:00"
        },
        {
         "Close": 0.2590999901294708,
         "macd_signal": 0,
         "aroon_signal": 0,
         "rsi_signal": 0,
         "ao_signal": 0,
         "_deepnote_index_column": "2019-09-05 04:00:00+01:00"
        }
       ],
       "rows_bottom": [
        {
         "Close": 0.7649903297424316,
         "macd_signal": 0,
         "aroon_signal": 0,
         "rsi_signal": 0,
         "ao_signal": 0,
         "_deepnote_index_column": "2021-08-07 06:00:00+01:00"
        },
        {
         "Close": 0.7613361477851868,
         "macd_signal": 0,
         "aroon_signal": 0,
         "rsi_signal": 0,
         "ao_signal": 0,
         "_deepnote_index_column": "2021-08-07 07:00:00+01:00"
        },
        {
         "Close": 0.7610374093055725,
         "macd_signal": 0,
         "aroon_signal": 0,
         "rsi_signal": 0,
         "ao_signal": 0,
         "_deepnote_index_column": "2021-08-07 08:00:00+01:00"
        },
        {
         "Close": 0.7645235657691956,
         "macd_signal": 0,
         "aroon_signal": 0,
         "rsi_signal": 0,
         "ao_signal": 0,
         "_deepnote_index_column": "2021-08-07 09:00:00+01:00"
        },
        {
         "Close": 0.7894212603569031,
         "macd_signal": 0,
         "aroon_signal": 0,
         "rsi_signal": 0,
         "ao_signal": 0,
         "_deepnote_index_column": "2021-08-07 10:00:00+01:00"
        },
        {
         "Close": 0.7897286415100098,
         "macd_signal": 0,
         "aroon_signal": 0,
         "rsi_signal": 0,
         "ao_signal": 0,
         "_deepnote_index_column": "2021-08-07 11:00:00+01:00"
        },
        {
         "Close": 0.7905455231666565,
         "macd_signal": 0,
         "aroon_signal": 0,
         "rsi_signal": 0,
         "ao_signal": 0,
         "_deepnote_index_column": "2021-08-07 12:00:00+01:00"
        },
        {
         "Close": 0.7743987441062927,
         "macd_signal": 0,
         "aroon_signal": 0,
         "rsi_signal": 0,
         "ao_signal": 0,
         "_deepnote_index_column": "2021-08-07 13:00:00+01:00"
        },
        {
         "Close": 0.7735520601272583,
         "macd_signal": 0,
         "aroon_signal": 0,
         "rsi_signal": 0,
         "ao_signal": 0,
         "_deepnote_index_column": "2021-08-07 14:00:00+01:00"
        },
        {
         "Close": 0.791140615940094,
         "macd_signal": 0,
         "aroon_signal": 0,
         "rsi_signal": 0,
         "ao_signal": 0,
         "_deepnote_index_column": "2021-08-07 15:00:00+01:00"
        },
        {
         "Close": 0.8057512044906616,
         "macd_signal": 0,
         "aroon_signal": 0,
         "rsi_signal": 0,
         "ao_signal": 0,
         "_deepnote_index_column": "2021-08-07 16:00:00+01:00"
        },
        {
         "Close": 0.8016982674598694,
         "macd_signal": 0,
         "aroon_signal": 0,
         "rsi_signal": 0,
         "ao_signal": 0,
         "_deepnote_index_column": "2021-08-07 17:00:00+01:00"
        },
        {
         "Close": 0.79237300157547,
         "macd_signal": 0,
         "aroon_signal": 0,
         "rsi_signal": 0,
         "ao_signal": 0,
         "_deepnote_index_column": "2021-08-07 18:00:00+01:00"
        },
        {
         "Close": 0.7993141412734985,
         "macd_signal": 0,
         "aroon_signal": 0,
         "rsi_signal": 0,
         "ao_signal": 0,
         "_deepnote_index_column": "2021-08-07 19:00:00+01:00"
        },
        {
         "Close": 0.8037920594215393,
         "macd_signal": 0,
         "aroon_signal": 0,
         "rsi_signal": 0,
         "ao_signal": 0,
         "_deepnote_index_column": "2021-08-07 20:00:00+01:00"
        },
        {
         "Close": 0.8045597076416016,
         "macd_signal": 0,
         "aroon_signal": 0,
         "rsi_signal": 0,
         "ao_signal": 0,
         "_deepnote_index_column": "2021-08-07 21:00:00+01:00"
        },
        {
         "Close": 0.7986745834350586,
         "macd_signal": 0,
         "aroon_signal": 0,
         "rsi_signal": 0,
         "ao_signal": 0,
         "_deepnote_index_column": "2021-08-07 22:00:00+01:00"
        },
        {
         "Close": 0.8053690195083618,
         "macd_signal": 0,
         "aroon_signal": 0,
         "rsi_signal": 0,
         "ao_signal": 0,
         "_deepnote_index_column": "2021-08-07 23:00:00+01:00"
        },
        {
         "Close": 0.8162810802459717,
         "macd_signal": 0,
         "aroon_signal": 0,
         "rsi_signal": 0,
         "ao_signal": 0,
         "_deepnote_index_column": "2021-08-08 00:00:00+01:00"
        },
        {
         "Close": 0.8304288983345032,
         "macd_signal": 0,
         "aroon_signal": 0,
         "rsi_signal": 0,
         "ao_signal": 0,
         "_deepnote_index_column": "2021-08-08 01:00:00+01:00"
        },
        {
         "Close": 0.8090371489524841,
         "macd_signal": 0,
         "aroon_signal": 0,
         "rsi_signal": 0,
         "ao_signal": 0,
         "_deepnote_index_column": "2021-08-08 02:00:00+01:00"
        },
        {
         "Close": 0.8017366528511047,
         "macd_signal": -1,
         "aroon_signal": 0,
         "rsi_signal": 0,
         "ao_signal": 0,
         "_deepnote_index_column": "2021-08-08 03:00:00+01:00"
        },
        {
         "Close": 0.8178030252456665,
         "macd_signal": 0,
         "aroon_signal": 0,
         "rsi_signal": 0,
         "ao_signal": 0,
         "_deepnote_index_column": "2021-08-08 04:00:00+01:00"
        },
        {
         "Close": 0.8164565563201904,
         "macd_signal": 0,
         "aroon_signal": 0,
         "rsi_signal": 0,
         "ao_signal": 0,
         "_deepnote_index_column": "2021-08-08 05:00:00+01:00"
        },
        {
         "Close": 0.8221371173858643,
         "macd_signal": 0,
         "aroon_signal": 0,
         "rsi_signal": 0,
         "ao_signal": 0,
         "_deepnote_index_column": "2021-08-08 06:00:00+01:00"
        },
        {
         "Close": 0.8285307884216309,
         "macd_signal": 1,
         "aroon_signal": 0,
         "rsi_signal": 0,
         "ao_signal": 0,
         "_deepnote_index_column": "2021-08-08 07:00:00+01:00"
        },
        {
         "Close": 0.8223246335983276,
         "macd_signal": -1,
         "aroon_signal": 0,
         "rsi_signal": 0,
         "ao_signal": 0,
         "_deepnote_index_column": "2021-08-08 08:00:00+01:00"
        },
        {
         "Close": 0.8114379644393921,
         "macd_signal": 0,
         "aroon_signal": 0,
         "rsi_signal": 0,
         "ao_signal": 0,
         "_deepnote_index_column": "2021-08-08 09:00:00+01:00"
        },
        {
         "Close": 0.8126380443572998,
         "macd_signal": 0,
         "aroon_signal": 0,
         "rsi_signal": 0,
         "ao_signal": 0,
         "_deepnote_index_column": "2021-08-08 10:00:00+01:00"
        },
        {
         "Close": 0.8030365109443665,
         "macd_signal": 0,
         "aroon_signal": 0,
         "rsi_signal": 0,
         "ao_signal": 0,
         "_deepnote_index_column": "2021-08-08 11:00:00+01:00"
        },
        {
         "Close": 0.8001503944396973,
         "macd_signal": 0,
         "aroon_signal": 0,
         "rsi_signal": 0,
         "ao_signal": 0,
         "_deepnote_index_column": "2021-08-08 12:00:00+01:00"
        },
        {
         "Close": 0.8123614192008972,
         "macd_signal": 0,
         "aroon_signal": 0,
         "rsi_signal": 0,
         "ao_signal": 0,
         "_deepnote_index_column": "2021-08-08 13:00:00+01:00"
        },
        {
         "Close": 0.8075140118598938,
         "macd_signal": 0,
         "aroon_signal": 0,
         "rsi_signal": 0,
         "ao_signal": 0,
         "_deepnote_index_column": "2021-08-08 14:00:00+01:00"
        },
        {
         "Close": 0.7874436974525452,
         "macd_signal": 0,
         "aroon_signal": 0,
         "rsi_signal": 0,
         "ao_signal": 0,
         "_deepnote_index_column": "2021-08-08 15:00:00+01:00"
        },
        {
         "Close": 0.7861583828926086,
         "macd_signal": 0,
         "aroon_signal": 0,
         "rsi_signal": 0,
         "ao_signal": 0,
         "_deepnote_index_column": "2021-08-08 16:00:00+01:00"
        },
        {
         "Close": 0.779674768447876,
         "macd_signal": 0,
         "aroon_signal": 0,
         "rsi_signal": 0,
         "ao_signal": -1,
         "_deepnote_index_column": "2021-08-08 17:00:00+01:00"
        },
        {
         "Close": 0.7871766686439514,
         "macd_signal": 0,
         "aroon_signal": 0,
         "rsi_signal": 0,
         "ao_signal": 0,
         "_deepnote_index_column": "2021-08-08 18:00:00+01:00"
        },
        {
         "Close": 0.7815697193145752,
         "macd_signal": 0,
         "aroon_signal": -1,
         "rsi_signal": 0,
         "ao_signal": 0,
         "_deepnote_index_column": "2021-08-08 19:00:00+01:00"
        },
        {
         "Close": 0.778918445110321,
         "macd_signal": 0,
         "aroon_signal": 0,
         "rsi_signal": 0,
         "ao_signal": 0,
         "_deepnote_index_column": "2021-08-08 20:00:00+01:00"
        },
        {
         "Close": 0.7842029929161072,
         "macd_signal": 0,
         "aroon_signal": 0,
         "rsi_signal": 0,
         "ao_signal": 0,
         "_deepnote_index_column": "2021-08-08 21:00:00+01:00"
        },
        {
         "Close": 0.7921290397644043,
         "macd_signal": 0,
         "aroon_signal": 0,
         "rsi_signal": 0,
         "ao_signal": 0,
         "_deepnote_index_column": "2021-08-08 22:00:00+01:00"
        },
        {
         "Close": 0.7942468523979187,
         "macd_signal": 0,
         "aroon_signal": 0,
         "rsi_signal": 0,
         "ao_signal": 0,
         "_deepnote_index_column": "2021-08-08 23:00:00+01:00"
        },
        {
         "Close": 0.7787393927574158,
         "macd_signal": 0,
         "aroon_signal": 0,
         "rsi_signal": 0,
         "ao_signal": 0,
         "_deepnote_index_column": "2021-08-09 00:00:00+01:00"
        },
        {
         "Close": 0.7659614086151123,
         "macd_signal": 0,
         "aroon_signal": 0,
         "rsi_signal": 0,
         "ao_signal": 0,
         "_deepnote_index_column": "2021-08-09 01:00:00+01:00"
        },
        {
         "Close": 0.7699768543243408,
         "macd_signal": 0,
         "aroon_signal": 0,
         "rsi_signal": 0,
         "ao_signal": 0,
         "_deepnote_index_column": "2021-08-09 02:00:00+01:00"
        },
        {
         "Close": 0.7788583636283875,
         "macd_signal": 0,
         "aroon_signal": 0,
         "rsi_signal": 0,
         "ao_signal": 0,
         "_deepnote_index_column": "2021-08-09 03:00:00+01:00"
        },
        {
         "Close": 0.7826113104820251,
         "macd_signal": 0,
         "aroon_signal": 0,
         "rsi_signal": 0,
         "ao_signal": 0,
         "_deepnote_index_column": "2021-08-09 04:00:00+01:00"
        },
        {
         "Close": 0.7949040532112122,
         "macd_signal": 0,
         "aroon_signal": 0,
         "rsi_signal": 0,
         "ao_signal": 0,
         "_deepnote_index_column": "2021-08-09 05:00:00+01:00"
        },
        {
         "Close": 0.7881271839141846,
         "macd_signal": 1,
         "aroon_signal": 0,
         "rsi_signal": 0,
         "ao_signal": 0,
         "_deepnote_index_column": "2021-08-09 06:00:00+01:00"
        },
        {
         "Close": 0.787296712398529,
         "macd_signal": 0,
         "aroon_signal": 0,
         "rsi_signal": 0,
         "ao_signal": 0,
         "_deepnote_index_column": "2021-08-09 07:00:00+01:00"
        },
        {
         "Close": 0.7967813014984131,
         "macd_signal": 0,
         "aroon_signal": 0,
         "rsi_signal": 0,
         "ao_signal": 0,
         "_deepnote_index_column": "2021-08-09 08:00:00+01:00"
        },
        {
         "Close": 0.7981806397438049,
         "macd_signal": 0,
         "aroon_signal": 0,
         "rsi_signal": 0,
         "ao_signal": 0,
         "_deepnote_index_column": "2021-08-09 09:00:00+01:00"
        },
        {
         "Close": 0.8096413016319275,
         "macd_signal": 0,
         "aroon_signal": 0,
         "rsi_signal": 0,
         "ao_signal": 0,
         "_deepnote_index_column": "2021-08-09 10:00:00+01:00"
        },
        {
         "Close": 0.816961407661438,
         "macd_signal": 0,
         "aroon_signal": 0,
         "rsi_signal": 0,
         "ao_signal": 1,
         "_deepnote_index_column": "2021-08-09 11:00:00+01:00"
        },
        {
         "Close": 0.8193760514259338,
         "macd_signal": 0,
         "aroon_signal": 0,
         "rsi_signal": 0,
         "ao_signal": 0,
         "_deepnote_index_column": "2021-08-09 12:00:00+01:00"
        },
        {
         "Close": 0.8166133165359497,
         "macd_signal": 0,
         "aroon_signal": 0,
         "rsi_signal": 0,
         "ao_signal": 0,
         "_deepnote_index_column": "2021-08-09 13:00:00+01:00"
        },
        {
         "Close": 0.8115898370742798,
         "macd_signal": 0,
         "aroon_signal": 0,
         "rsi_signal": 0,
         "ao_signal": 0,
         "_deepnote_index_column": "2021-08-09 14:00:00+01:00"
        },
        {
         "Close": 0.8130114674568176,
         "macd_signal": 0,
         "aroon_signal": 0,
         "rsi_signal": 0,
         "ao_signal": 0,
         "_deepnote_index_column": "2021-08-09 15:00:00+01:00"
        },
        {
         "Close": 0.8204382061958313,
         "macd_signal": 0,
         "aroon_signal": 0,
         "rsi_signal": 0,
         "ao_signal": 0,
         "_deepnote_index_column": "2021-08-09 16:00:00+01:00"
        },
        {
         "Close": 0.817124605178833,
         "macd_signal": 0,
         "aroon_signal": 0,
         "rsi_signal": 0,
         "ao_signal": 0,
         "_deepnote_index_column": "2021-08-09 17:00:00+01:00"
        },
        {
         "Close": 0.8183885216712952,
         "macd_signal": 0,
         "aroon_signal": 0,
         "rsi_signal": 0,
         "ao_signal": 0,
         "_deepnote_index_column": "2021-08-09 18:00:00+01:00"
        },
        {
         "Close": 0.8223690390586853,
         "macd_signal": 0,
         "aroon_signal": 1,
         "rsi_signal": 0,
         "ao_signal": 0,
         "_deepnote_index_column": "2021-08-09 19:00:00+01:00"
        },
        {
         "Close": 0.8158291578292847,
         "macd_signal": 0,
         "aroon_signal": 0,
         "rsi_signal": 0,
         "ao_signal": 0,
         "_deepnote_index_column": "2021-08-09 20:00:00+01:00"
        },
        {
         "Close": 0.8055914044380188,
         "macd_signal": 0,
         "aroon_signal": 0,
         "rsi_signal": 0,
         "ao_signal": 0,
         "_deepnote_index_column": "2021-08-09 21:00:00+01:00"
        },
        {
         "Close": 0.8096583485603333,
         "macd_signal": -1,
         "aroon_signal": 0,
         "rsi_signal": 0,
         "ao_signal": 0,
         "_deepnote_index_column": "2021-08-09 22:00:00+01:00"
        },
        {
         "Close": 0.8194264769554138,
         "macd_signal": 1,
         "aroon_signal": 0,
         "rsi_signal": 0,
         "ao_signal": 0,
         "_deepnote_index_column": "2021-08-09 23:00:00+01:00"
        },
        {
         "Close": 0.8185535073280334,
         "macd_signal": 0,
         "aroon_signal": 0,
         "rsi_signal": 0,
         "ao_signal": 0,
         "_deepnote_index_column": "2021-08-10 00:00:00+01:00"
        },
        {
         "Close": 0.8124653100967407,
         "macd_signal": -1,
         "aroon_signal": 0,
         "rsi_signal": 0,
         "ao_signal": 0,
         "_deepnote_index_column": "2021-08-10 01:00:00+01:00"
        },
        {
         "Close": 0.811424195766449,
         "macd_signal": 0,
         "aroon_signal": 0,
         "rsi_signal": 0,
         "ao_signal": 0,
         "_deepnote_index_column": "2021-08-10 02:00:00+01:00"
        },
        {
         "Close": 0.8144153356552124,
         "macd_signal": 0,
         "aroon_signal": 0,
         "rsi_signal": 0,
         "ao_signal": 0,
         "_deepnote_index_column": "2021-08-10 03:00:00+01:00"
        },
        {
         "Close": 0.8044356107711792,
         "macd_signal": 0,
         "aroon_signal": 0,
         "rsi_signal": 0,
         "ao_signal": 0,
         "_deepnote_index_column": "2021-08-10 04:00:00+01:00"
        },
        {
         "Close": 0.8098970651626587,
         "macd_signal": 0,
         "aroon_signal": 0,
         "rsi_signal": 0,
         "ao_signal": 0,
         "_deepnote_index_column": "2021-08-10 05:00:00+01:00"
        },
        {
         "Close": 0.8105202913284302,
         "macd_signal": 0,
         "aroon_signal": 0,
         "rsi_signal": 0,
         "ao_signal": 0,
         "_deepnote_index_column": "2021-08-10 06:00:00+01:00"
        },
        {
         "Close": 0.8169611692428589,
         "macd_signal": 0,
         "aroon_signal": 0,
         "rsi_signal": 0,
         "ao_signal": 0,
         "_deepnote_index_column": "2021-08-10 07:00:00+01:00"
        },
        {
         "Close": 0.8193774223327637,
         "macd_signal": 0,
         "aroon_signal": 0,
         "rsi_signal": 0,
         "ao_signal": 0,
         "_deepnote_index_column": "2021-08-10 08:00:00+01:00"
        },
        {
         "Close": 0.8201133012771606,
         "macd_signal": 0,
         "aroon_signal": 0,
         "rsi_signal": 0,
         "ao_signal": 0,
         "_deepnote_index_column": "2021-08-10 09:00:00+01:00"
        },
        {
         "Close": 0.8198803067207336,
         "macd_signal": 0,
         "aroon_signal": 0,
         "rsi_signal": 0,
         "ao_signal": 0,
         "_deepnote_index_column": "2021-08-10 10:00:00+01:00"
        },
        {
         "Close": 0.807433009147644,
         "macd_signal": 0,
         "aroon_signal": 0,
         "rsi_signal": 0,
         "ao_signal": 0,
         "_deepnote_index_column": "2021-08-10 11:00:00+01:00"
        },
        {
         "Close": 0.8152583837509155,
         "macd_signal": 0,
         "aroon_signal": 0,
         "rsi_signal": 0,
         "ao_signal": 0,
         "_deepnote_index_column": "2021-08-10 12:00:00+01:00"
        },
        {
         "Close": 0.8490090370178223,
         "macd_signal": 1,
         "aroon_signal": 0,
         "rsi_signal": 0,
         "ao_signal": 0,
         "_deepnote_index_column": "2021-08-10 13:00:00+01:00"
        },
        {
         "Close": 0.8354390263557434,
         "macd_signal": 0,
         "aroon_signal": 0,
         "rsi_signal": 0,
         "ao_signal": 0,
         "_deepnote_index_column": "2021-08-10 14:00:00+01:00"
        },
        {
         "Close": 0.8288268446922302,
         "macd_signal": 0,
         "aroon_signal": 0,
         "rsi_signal": 0,
         "ao_signal": 0,
         "_deepnote_index_column": "2021-08-10 15:00:00+01:00"
        },
        {
         "Close": 0.8237518072128296,
         "macd_signal": 0,
         "aroon_signal": 0,
         "rsi_signal": 0,
         "ao_signal": 0,
         "_deepnote_index_column": "2021-08-10 16:00:00+01:00"
        },
        {
         "Close": 0.8138244152069092,
         "macd_signal": -1,
         "aroon_signal": 0,
         "rsi_signal": 0,
         "ao_signal": 0,
         "_deepnote_index_column": "2021-08-10 17:00:00+01:00"
        },
        {
         "Close": 0.81997150182724,
         "macd_signal": 0,
         "aroon_signal": 0,
         "rsi_signal": 0,
         "ao_signal": 0,
         "_deepnote_index_column": "2021-08-10 18:00:00+01:00"
        },
        {
         "Close": 0.8261918425559998,
         "macd_signal": 0,
         "aroon_signal": 0,
         "rsi_signal": 0,
         "ao_signal": 0,
         "_deepnote_index_column": "2021-08-10 19:00:00+01:00"
        },
        {
         "Close": 0.8347495198249817,
         "macd_signal": 1,
         "aroon_signal": 0,
         "rsi_signal": 0,
         "ao_signal": 0,
         "_deepnote_index_column": "2021-08-10 20:00:00+01:00"
        },
        {
         "Close": 0.8428434133529663,
         "macd_signal": 0,
         "aroon_signal": 0,
         "rsi_signal": 0,
         "ao_signal": 0,
         "_deepnote_index_column": "2021-08-10 21:00:00+01:00"
        },
        {
         "Close": 0.8587751984596252,
         "macd_signal": 0,
         "aroon_signal": 0,
         "rsi_signal": 0,
         "ao_signal": 0,
         "_deepnote_index_column": "2021-08-10 22:00:00+01:00"
        },
        {
         "Close": 0.8559402227401733,
         "macd_signal": 0,
         "aroon_signal": 0,
         "rsi_signal": 0,
         "ao_signal": 0,
         "_deepnote_index_column": "2021-08-10 23:00:00+01:00"
        },
        {
         "Close": 0.8512465357780457,
         "macd_signal": 0,
         "aroon_signal": 0,
         "rsi_signal": 0,
         "ao_signal": 0,
         "_deepnote_index_column": "2021-08-11 00:00:00+01:00"
        },
        {
         "Close": 0.8692995309829712,
         "macd_signal": 0,
         "aroon_signal": 0,
         "rsi_signal": 0,
         "ao_signal": 0,
         "_deepnote_index_column": "2021-08-11 01:00:00+01:00"
        },
        {
         "Close": 0.8713383674621582,
         "macd_signal": 0,
         "aroon_signal": 0,
         "rsi_signal": 0,
         "ao_signal": 0,
         "_deepnote_index_column": "2021-08-11 02:00:00+01:00"
        },
        {
         "Close": 0.871850848197937,
         "macd_signal": 0,
         "aroon_signal": 0,
         "rsi_signal": 0,
         "ao_signal": 0,
         "_deepnote_index_column": "2021-08-11 02:52:03+01:00"
        },
        {
         "Close": 0,
         "macd_signal": 0,
         "aroon_signal": 0,
         "rsi_signal": 0,
         "ao_signal": 0,
         "_deepnote_index_column": "2021-08-11 03:00:00+01:00"
        },
        {
         "Close": 0,
         "macd_signal": 0,
         "aroon_signal": 0,
         "rsi_signal": 0,
         "ao_signal": 0,
         "_deepnote_index_column": "2021-08-11 03:02:03+01:00"
        },
        {
         "Close": 0,
         "macd_signal": 0,
         "aroon_signal": 0,
         "rsi_signal": 0,
         "ao_signal": 0,
         "_deepnote_index_column": "2021-08-11 01:59:03+01:00"
        },
        {
         "Close": 0,
         "macd_signal": 0,
         "aroon_signal": 0,
         "rsi_signal": 0,
         "ao_signal": 0,
         "_deepnote_index_column": "2021-05-04 23:00:00+01:00"
        },
        {
         "Close": 0,
         "macd_signal": 0,
         "aroon_signal": 0,
         "rsi_signal": 0,
         "ao_signal": 0,
         "_deepnote_index_column": "2021-05-05 23:00:00+01:00"
        },
        {
         "Close": 0,
         "macd_signal": 0,
         "aroon_signal": 0,
         "rsi_signal": 0,
         "ao_signal": 0,
         "_deepnote_index_column": "2021-06-23 10:00:00+01:00"
        }
       ]
      },
      "text/plain": "                            Close  macd_signal  aroon_signal  rsi_signal  \\\n2019-09-01 01:00:00+01:00  0.2591          0.0           0.0         0.0   \n2019-09-01 02:00:00+01:00  0.2584         -1.0           0.0        -1.0   \n2019-09-01 03:00:00+01:00  0.2578          0.0           0.0         0.0   \n2019-09-01 04:00:00+01:00  0.2585          0.0           0.0         0.0   \n2019-09-01 05:00:00+01:00  0.2581          0.0           0.0         0.0   \n...                           ...          ...           ...         ...   \n2021-08-11 03:02:03+01:00  0.0000          0.0           0.0         0.0   \n2021-08-11 01:59:03+01:00  0.0000          0.0           0.0         0.0   \n2021-05-04 23:00:00+01:00  0.0000          0.0           0.0         0.0   \n2021-05-05 23:00:00+01:00  0.0000          0.0           0.0         0.0   \n2021-06-23 10:00:00+01:00  0.0000          0.0           0.0         0.0   \n\n                           ao_signal  \n2019-09-01 01:00:00+01:00        0.0  \n2019-09-01 02:00:00+01:00        0.0  \n2019-09-01 03:00:00+01:00        0.0  \n2019-09-01 04:00:00+01:00        0.0  \n2019-09-01 05:00:00+01:00        0.0  \n...                              ...  \n2021-08-11 03:02:03+01:00        0.0  \n2021-08-11 01:59:03+01:00        0.0  \n2021-05-04 23:00:00+01:00        0.0  \n2021-05-05 23:00:00+01:00        0.0  \n2021-06-23 10:00:00+01:00        0.0  \n\n[17009 rows x 5 columns]",
      "text/html": "<div>\n<style scoped>\n    .dataframe tbody tr th:only-of-type {\n        vertical-align: middle;\n    }\n\n    .dataframe tbody tr th {\n        vertical-align: top;\n    }\n\n    .dataframe thead th {\n        text-align: right;\n    }\n</style>\n<table border=\"1\" class=\"dataframe\">\n  <thead>\n    <tr style=\"text-align: right;\">\n      <th></th>\n      <th>Close</th>\n      <th>macd_signal</th>\n      <th>aroon_signal</th>\n      <th>rsi_signal</th>\n      <th>ao_signal</th>\n    </tr>\n  </thead>\n  <tbody>\n    <tr>\n      <th>2019-09-01 01:00:00+01:00</th>\n      <td>0.2591</td>\n      <td>0.0</td>\n      <td>0.0</td>\n      <td>0.0</td>\n      <td>0.0</td>\n    </tr>\n    <tr>\n      <th>2019-09-01 02:00:00+01:00</th>\n      <td>0.2584</td>\n      <td>-1.0</td>\n      <td>0.0</td>\n      <td>-1.0</td>\n      <td>0.0</td>\n    </tr>\n    <tr>\n      <th>2019-09-01 03:00:00+01:00</th>\n      <td>0.2578</td>\n      <td>0.0</td>\n      <td>0.0</td>\n      <td>0.0</td>\n      <td>0.0</td>\n    </tr>\n    <tr>\n      <th>2019-09-01 04:00:00+01:00</th>\n      <td>0.2585</td>\n      <td>0.0</td>\n      <td>0.0</td>\n      <td>0.0</td>\n      <td>0.0</td>\n    </tr>\n    <tr>\n      <th>2019-09-01 05:00:00+01:00</th>\n      <td>0.2581</td>\n      <td>0.0</td>\n      <td>0.0</td>\n      <td>0.0</td>\n      <td>0.0</td>\n    </tr>\n    <tr>\n      <th>...</th>\n      <td>...</td>\n      <td>...</td>\n      <td>...</td>\n      <td>...</td>\n      <td>...</td>\n    </tr>\n    <tr>\n      <th>2021-08-11 03:02:03+01:00</th>\n      <td>0.0000</td>\n      <td>0.0</td>\n      <td>0.0</td>\n      <td>0.0</td>\n      <td>0.0</td>\n    </tr>\n    <tr>\n      <th>2021-08-11 01:59:03+01:00</th>\n      <td>0.0000</td>\n      <td>0.0</td>\n      <td>0.0</td>\n      <td>0.0</td>\n      <td>0.0</td>\n    </tr>\n    <tr>\n      <th>2021-05-04 23:00:00+01:00</th>\n      <td>0.0000</td>\n      <td>0.0</td>\n      <td>0.0</td>\n      <td>0.0</td>\n      <td>0.0</td>\n    </tr>\n    <tr>\n      <th>2021-05-05 23:00:00+01:00</th>\n      <td>0.0000</td>\n      <td>0.0</td>\n      <td>0.0</td>\n      <td>0.0</td>\n      <td>0.0</td>\n    </tr>\n    <tr>\n      <th>2021-06-23 10:00:00+01:00</th>\n      <td>0.0000</td>\n      <td>0.0</td>\n      <td>0.0</td>\n      <td>0.0</td>\n      <td>0.0</td>\n    </tr>\n  </tbody>\n</table>\n<p>17009 rows × 5 columns</p>\n</div>"
     },
     "metadata": {}
    }
   ]
  },
  {
   "cell_type": "code",
   "metadata": {
    "tags": [],
    "cell_id": "00001-69ef2616-ff9a-4d74-a47f-651ca659852c",
    "deepnote_to_be_reexecuted": false,
    "source_hash": "286f7088",
    "execution_start": 1629324842680,
    "execution_millis": 4,
    "deepnote_cell_type": "code"
   },
   "source": "#df1=pd.read_csv(Path('/work/Fintech-Project2/TRADE_STRATS/XRP_MACD_TRADE_STRATEGY'), infer_datetime_format=True, index_col='Datetime')\n#df1",
   "execution_count": null,
   "outputs": []
  },
  {
   "cell_type": "code",
   "metadata": {
    "tags": [],
    "cell_id": "00003-bc825053-ad0c-4c98-ab6b-b6e8ec3ce11d",
    "deepnote_to_be_reexecuted": false,
    "source_hash": "4706167c",
    "execution_start": 1629324842691,
    "execution_millis": 306374,
    "deepnote_cell_type": "code"
   },
   "source": "#df2=pd.read_csv(Path('/work/Fintech-Project2/TRADE_STRATS/XRP AROON 25 TRADE STRATEGY.CSV'), infer_datetime_format=True, index_col='Unnamed: 0')\n#df2",
   "execution_count": null,
   "outputs": []
  },
  {
   "cell_type": "code",
   "metadata": {
    "tags": [],
    "cell_id": "00004-56e18df0-0a5e-444a-b107-ef52b47c13d3",
    "deepnote_to_be_reexecuted": false,
    "source_hash": "bb6a6eb4",
    "execution_start": 1629324842699,
    "execution_millis": 306371,
    "deepnote_cell_type": "code"
   },
   "source": "#df3=pd.read_csv(Path('/work/Fintech-Project2/TRADE_STRATS/XRP_RSI_TRADE_STRATEGY'), infer_datetime_format=True, index_col='Datetime')\n#df3",
   "execution_count": null,
   "outputs": []
  },
  {
   "cell_type": "code",
   "metadata": {
    "tags": [],
    "cell_id": "00006-35f8fb26-1b73-4d6f-a9d9-235a00fa4506",
    "deepnote_to_be_reexecuted": false,
    "source_hash": "b03e0edc",
    "execution_start": 1629324842745,
    "execution_millis": 61,
    "deepnote_cell_type": "code"
   },
   "source": "combined_signals_df['Returns'] = combined_signals_df.Close.pct_change()\ncombined_signals_df",
   "execution_count": null,
   "outputs": [
    {
     "output_type": "execute_result",
     "execution_count": 6,
     "data": {
      "application/vnd.deepnote.dataframe.v2+json": {
       "row_count": 17009,
       "column_count": 6,
       "columns": [
        {
         "name": "Close",
         "dtype": "float64",
         "stats": {
          "unique_count": 16593,
          "nan_count": 0,
          "min": "0.0",
          "max": "1.9378489255905151",
          "histogram": [
           {
            "bin_start": 0,
            "bin_end": 0.1937848925590515,
            "count": 1894
           },
           {
            "bin_start": 0.1937848925590515,
            "bin_end": 0.387569785118103,
            "count": 9796
           },
           {
            "bin_start": 0.387569785118103,
            "bin_end": 0.5813546776771545,
            "count": 1883
           },
           {
            "bin_start": 0.5813546776771545,
            "bin_end": 0.775139570236206,
            "count": 1552
           },
           {
            "bin_start": 0.775139570236206,
            "bin_end": 0.9689244627952576,
            "count": 655
           },
           {
            "bin_start": 0.9689244627952576,
            "bin_end": 1.162709355354309,
            "count": 343
           },
           {
            "bin_start": 1.162709355354309,
            "bin_end": 1.3564942479133606,
            "count": 186
           },
           {
            "bin_start": 1.3564942479133606,
            "bin_end": 1.550279140472412,
            "count": 385
           },
           {
            "bin_start": 1.550279140472412,
            "bin_end": 1.7440640330314636,
            "count": 272
           },
           {
            "bin_start": 1.7440640330314636,
            "bin_end": 1.9378489255905151,
            "count": 43
           }
          ]
         }
        },
        {
         "name": "macd_signal",
         "dtype": "float64",
         "stats": {
          "unique_count": 3,
          "nan_count": 0,
          "min": "-1.0",
          "max": "1.0",
          "histogram": [
           {
            "bin_start": -1,
            "bin_end": -0.8,
            "count": 685
           },
           {
            "bin_start": -0.8,
            "bin_end": -0.6,
            "count": 0
           },
           {
            "bin_start": -0.6,
            "bin_end": -0.3999999999999999,
            "count": 0
           },
           {
            "bin_start": -0.3999999999999999,
            "bin_end": -0.19999999999999996,
            "count": 0
           },
           {
            "bin_start": -0.19999999999999996,
            "bin_end": 0,
            "count": 0
           },
           {
            "bin_start": 0,
            "bin_end": 0.20000000000000018,
            "count": 15639
           },
           {
            "bin_start": 0.20000000000000018,
            "bin_end": 0.40000000000000013,
            "count": 0
           },
           {
            "bin_start": 0.40000000000000013,
            "bin_end": 0.6000000000000001,
            "count": 0
           },
           {
            "bin_start": 0.6000000000000001,
            "bin_end": 0.8,
            "count": 0
           },
           {
            "bin_start": 0.8,
            "bin_end": 1,
            "count": 685
           }
          ]
         }
        },
        {
         "name": "aroon_signal",
         "dtype": "float64",
         "stats": {
          "unique_count": 3,
          "nan_count": 0,
          "min": "-1.0",
          "max": "1.0",
          "histogram": [
           {
            "bin_start": -1,
            "bin_end": -0.8,
            "count": 214
           },
           {
            "bin_start": -0.8,
            "bin_end": -0.6,
            "count": 0
           },
           {
            "bin_start": -0.6,
            "bin_end": -0.3999999999999999,
            "count": 0
           },
           {
            "bin_start": -0.3999999999999999,
            "bin_end": -0.19999999999999996,
            "count": 0
           },
           {
            "bin_start": -0.19999999999999996,
            "bin_end": 0,
            "count": 0
           },
           {
            "bin_start": 0,
            "bin_end": 0.20000000000000018,
            "count": 16580
           },
           {
            "bin_start": 0.20000000000000018,
            "bin_end": 0.40000000000000013,
            "count": 0
           },
           {
            "bin_start": 0.40000000000000013,
            "bin_end": 0.6000000000000001,
            "count": 0
           },
           {
            "bin_start": 0.6000000000000001,
            "bin_end": 0.8,
            "count": 0
           },
           {
            "bin_start": 0.8,
            "bin_end": 1,
            "count": 215
           }
          ]
         }
        },
        {
         "name": "rsi_signal",
         "dtype": "float64",
         "stats": {
          "unique_count": 3,
          "nan_count": 0,
          "min": "-1.0",
          "max": "1.0",
          "histogram": [
           {
            "bin_start": -1,
            "bin_end": -0.8,
            "count": 57
           },
           {
            "bin_start": -0.8,
            "bin_end": -0.6,
            "count": 0
           },
           {
            "bin_start": -0.6,
            "bin_end": -0.3999999999999999,
            "count": 0
           },
           {
            "bin_start": -0.3999999999999999,
            "bin_end": -0.19999999999999996,
            "count": 0
           },
           {
            "bin_start": -0.19999999999999996,
            "bin_end": 0,
            "count": 0
           },
           {
            "bin_start": 0,
            "bin_end": 0.20000000000000018,
            "count": 16895
           },
           {
            "bin_start": 0.20000000000000018,
            "bin_end": 0.40000000000000013,
            "count": 0
           },
           {
            "bin_start": 0.40000000000000013,
            "bin_end": 0.6000000000000001,
            "count": 0
           },
           {
            "bin_start": 0.6000000000000001,
            "bin_end": 0.8,
            "count": 0
           },
           {
            "bin_start": 0.8,
            "bin_end": 1,
            "count": 57
           }
          ]
         }
        },
        {
         "name": "ao_signal",
         "dtype": "float64",
         "stats": {
          "unique_count": 3,
          "nan_count": 0,
          "min": "-1.0",
          "max": "1.0",
          "histogram": [
           {
            "bin_start": -1,
            "bin_end": -0.8,
            "count": 375
           },
           {
            "bin_start": -0.8,
            "bin_end": -0.6,
            "count": 0
           },
           {
            "bin_start": -0.6,
            "bin_end": -0.3999999999999999,
            "count": 0
           },
           {
            "bin_start": -0.3999999999999999,
            "bin_end": -0.19999999999999996,
            "count": 0
           },
           {
            "bin_start": -0.19999999999999996,
            "bin_end": 0,
            "count": 0
           },
           {
            "bin_start": 0,
            "bin_end": 0.20000000000000018,
            "count": 16259
           },
           {
            "bin_start": 0.20000000000000018,
            "bin_end": 0.40000000000000013,
            "count": 0
           },
           {
            "bin_start": 0.40000000000000013,
            "bin_end": 0.6000000000000001,
            "count": 0
           },
           {
            "bin_start": 0.6000000000000001,
            "bin_end": 0.8,
            "count": 0
           },
           {
            "bin_start": 0.8,
            "bin_end": 1,
            "count": 375
           }
          ]
         }
        },
        {
         "name": "Returns",
         "dtype": "float64"
        },
        {
         "name": "_deepnote_index_column",
         "dtype": "object"
        }
       ],
       "rows_top": [
        {
         "Close": 0.2590999901294708,
         "macd_signal": 0,
         "aroon_signal": 0,
         "rsi_signal": 0,
         "ao_signal": 0,
         "Returns": "nan",
         "_deepnote_index_column": "2019-09-01 01:00:00+01:00"
        },
        {
         "Close": 0.2583999931812286,
         "macd_signal": -1,
         "aroon_signal": 0,
         "rsi_signal": -1,
         "ao_signal": 0,
         "Returns": -0.002701647915511196,
         "_deepnote_index_column": "2019-09-01 02:00:00+01:00"
        },
        {
         "Close": 0.2578000128269195,
         "macd_signal": 0,
         "aroon_signal": 0,
         "rsi_signal": 0,
         "ao_signal": 0,
         "Returns": -0.002321905457204454,
         "_deepnote_index_column": "2019-09-01 03:00:00+01:00"
        },
        {
         "Close": 0.2585000097751617,
         "macd_signal": 0,
         "aroon_signal": 0,
         "rsi_signal": 0,
         "ao_signal": 0,
         "Returns": 0.002715271192450075,
         "_deepnote_index_column": "2019-09-01 04:00:00+01:00"
        },
        {
         "Close": 0.2581000030040741,
         "macd_signal": 0,
         "aroon_signal": 0,
         "rsi_signal": 0,
         "ao_signal": 0,
         "Returns": -0.0015474149166784246,
         "_deepnote_index_column": "2019-09-01 05:00:00+01:00"
        },
        {
         "Close": 0.2581000030040741,
         "macd_signal": 0,
         "aroon_signal": 0,
         "rsi_signal": 0,
         "ao_signal": 0,
         "Returns": 0,
         "_deepnote_index_column": "2019-09-01 06:00:00+01:00"
        },
        {
         "Close": 0.2585000097751617,
         "macd_signal": 0,
         "aroon_signal": 0,
         "rsi_signal": 0,
         "ao_signal": 0,
         "Returns": 0.0015498131206193033,
         "_deepnote_index_column": "2019-09-01 07:00:00+01:00"
        },
        {
         "Close": 0.2581999897956848,
         "macd_signal": 0,
         "aroon_signal": 0,
         "rsi_signal": 0,
         "ao_signal": 0,
         "Returns": -0.001160618832230731,
         "_deepnote_index_column": "2019-09-01 08:00:00+01:00"
        },
        {
         "Close": 0.2567000091075897,
         "macd_signal": 0,
         "aroon_signal": 0,
         "rsi_signal": 0,
         "ao_signal": 0,
         "Returns": -0.005809375473957323,
         "_deepnote_index_column": "2019-09-01 09:00:00+01:00"
        },
        {
         "Close": 0.2563999891281128,
         "macd_signal": 0,
         "aroon_signal": 0,
         "rsi_signal": 0,
         "ao_signal": 0,
         "Returns": -0.001168757182829605,
         "_deepnote_index_column": "2019-09-01 10:00:00+01:00"
        },
        {
         "Close": 0.2558000087738037,
         "macd_signal": 0,
         "aroon_signal": 0,
         "rsi_signal": 0,
         "ao_signal": 0,
         "Returns": -0.0023400170817062804,
         "_deepnote_index_column": "2019-09-01 11:00:00+01:00"
        },
        {
         "Close": 0.2551000118255615,
         "macd_signal": 0,
         "aroon_signal": 0,
         "rsi_signal": 0,
         "ao_signal": 0,
         "Returns": -0.002736500876593717,
         "_deepnote_index_column": "2019-09-01 12:00:00+01:00"
        },
        {
         "Close": 0.2556999921798706,
         "macd_signal": 0,
         "aroon_signal": 0,
         "rsi_signal": 0,
         "ao_signal": 0,
         "Returns": 0.0023519416953980965,
         "_deepnote_index_column": "2019-09-01 13:00:00+01:00"
        },
        {
         "Close": 0.2549000084400177,
         "macd_signal": 0,
         "aroon_signal": 0,
         "rsi_signal": 0,
         "ao_signal": 0,
         "Returns": -0.003128602910907219,
         "_deepnote_index_column": "2019-09-01 14:00:00+01:00"
        },
        {
         "Close": 0.2549999952316284,
         "macd_signal": 0,
         "aroon_signal": 0,
         "rsi_signal": 0,
         "ao_signal": 0,
         "Returns": 0.00039225887916849445,
         "_deepnote_index_column": "2019-09-01 15:00:00+01:00"
        },
        {
         "Close": 0.2560999989509582,
         "macd_signal": 0,
         "aroon_signal": 0,
         "rsi_signal": 0,
         "ao_signal": 0,
         "Returns": 0.0043137401564679045,
         "_deepnote_index_column": "2019-09-01 16:00:00+01:00"
        },
        {
         "Close": 0.2542000114917755,
         "macd_signal": 0,
         "aroon_signal": 0,
         "rsi_signal": 0,
         "ao_signal": 0,
         "Returns": -0.0074189280240744004,
         "_deepnote_index_column": "2019-09-01 17:00:00+01:00"
        },
        {
         "Close": 0.2542000114917755,
         "macd_signal": 0,
         "aroon_signal": 0,
         "rsi_signal": 0,
         "ao_signal": 0,
         "Returns": 0,
         "_deepnote_index_column": "2019-09-01 18:00:00+01:00"
        },
        {
         "Close": 0.2551999986171722,
         "macd_signal": 0,
         "aroon_signal": 0,
         "rsi_signal": 0,
         "ao_signal": 0,
         "Returns": 0.003933859481469959,
         "_deepnote_index_column": "2019-09-01 19:00:00+01:00"
        },
        {
         "Close": 0.2558999955654144,
         "macd_signal": 0,
         "aroon_signal": 0,
         "rsi_signal": 0,
         "ao_signal": 0,
         "Returns": 0.002742934765028293,
         "_deepnote_index_column": "2019-09-01 20:00:00+01:00"
        },
        {
         "Close": 0.2563999891281128,
         "macd_signal": 1,
         "aroon_signal": 0,
         "rsi_signal": 0,
         "ao_signal": 0,
         "Returns": 0.0019538631159163877,
         "_deepnote_index_column": "2019-09-01 21:00:00+01:00"
        },
        {
         "Close": 0.2567999958992004,
         "macd_signal": 0,
         "aroon_signal": 0,
         "rsi_signal": 0,
         "ao_signal": 0,
         "Returns": 0.0015600888769449206,
         "_deepnote_index_column": "2019-09-01 22:00:00+01:00"
        },
        {
         "Close": 0.2572999894618988,
         "macd_signal": 0,
         "aroon_signal": 0,
         "rsi_signal": 0,
         "ao_signal": 0,
         "Returns": 0.0019470154621601399,
         "_deepnote_index_column": "2019-09-01 23:00:00+01:00"
        },
        {
         "Close": 0.2569000124931335,
         "macd_signal": 0,
         "aroon_signal": 0,
         "rsi_signal": 0,
         "ao_signal": 0,
         "Returns": -0.0015545160713057449,
         "_deepnote_index_column": "2019-09-02 00:00:00+01:00"
        },
        {
         "Close": 0.2558000087738037,
         "macd_signal": 0,
         "aroon_signal": 0,
         "rsi_signal": 0,
         "ao_signal": 0,
         "Returns": -0.004281835990020411,
         "_deepnote_index_column": "2019-09-02 01:00:00+01:00"
        },
        {
         "Close": 0.2554999887943268,
         "macd_signal": 0,
         "aroon_signal": 0,
         "rsi_signal": 0,
         "ao_signal": 0,
         "Returns": -0.0011728693087819098,
         "_deepnote_index_column": "2019-09-02 02:00:00+01:00"
        },
        {
         "Close": 0.2558000087738037,
         "macd_signal": 0,
         "aroon_signal": 0,
         "rsi_signal": 0,
         "ao_signal": 0,
         "Returns": 0.0011742465465172103,
         "_deepnote_index_column": "2019-09-02 03:00:00+01:00"
        },
        {
         "Close": 0.2554999887943268,
         "macd_signal": 0,
         "aroon_signal": 0,
         "rsi_signal": 0,
         "ao_signal": 0,
         "Returns": -0.0011728693087819098,
         "_deepnote_index_column": "2019-09-02 04:00:00+01:00"
        },
        {
         "Close": 0.2554999887943268,
         "macd_signal": 0,
         "aroon_signal": 0,
         "rsi_signal": 0,
         "ao_signal": 0,
         "Returns": 0,
         "_deepnote_index_column": "2019-09-02 05:00:00+01:00"
        },
        {
         "Close": 0.2552999854087829,
         "macd_signal": 0,
         "aroon_signal": 0,
         "rsi_signal": 0,
         "ao_signal": 0,
         "Returns": -0.0007827921499631296,
         "_deepnote_index_column": "2019-09-02 06:00:00+01:00"
        },
        {
         "Close": 0.2549999952316284,
         "macd_signal": 0,
         "aroon_signal": 0,
         "rsi_signal": 0,
         "ao_signal": 0,
         "Returns": -0.001175049723070476,
         "_deepnote_index_column": "2019-09-02 07:00:00+01:00"
        },
        {
         "Close": 0.2542999982833862,
         "macd_signal": -1,
         "aroon_signal": 0,
         "rsi_signal": 0,
         "ao_signal": 0,
         "Returns": -0.002745086122869944,
         "_deepnote_index_column": "2019-09-02 08:00:00+01:00"
        },
        {
         "Close": 0.2544000148773193,
         "macd_signal": 0,
         "aroon_signal": 0,
         "rsi_signal": 0,
         "ao_signal": 0,
         "Returns": 0.00039330159106665263,
         "_deepnote_index_column": "2019-09-02 09:00:00+01:00"
        },
        {
         "Close": 0.2549999952316284,
         "macd_signal": 0,
         "aroon_signal": 0,
         "rsi_signal": 0,
         "ao_signal": 0,
         "Returns": 0.0023584132044900397,
         "_deepnote_index_column": "2019-09-02 10:00:00+01:00"
        },
        {
         "Close": 0.2545999884605407,
         "macd_signal": 0,
         "aroon_signal": 0,
         "rsi_signal": 0,
         "ao_signal": -1,
         "Returns": -0.0015686540335985155,
         "_deepnote_index_column": "2019-09-02 11:00:00+01:00"
        },
        {
         "Close": 0.2556999921798706,
         "macd_signal": 1,
         "aroon_signal": 0,
         "rsi_signal": 0,
         "ao_signal": 0,
         "Returns": 0.004320517553756176,
         "_deepnote_index_column": "2019-09-02 12:00:00+01:00"
        },
        {
         "Close": 0.2549999952316284,
         "macd_signal": 0,
         "aroon_signal": 0,
         "rsi_signal": 0,
         "ao_signal": 0,
         "Returns": -0.002737571254009974,
         "_deepnote_index_column": "2019-09-02 13:00:00+01:00"
        },
        {
         "Close": 0.257999986410141,
         "macd_signal": 0,
         "aroon_signal": 1,
         "rsi_signal": 0,
         "ao_signal": 0,
         "Returns": 0.01176467150827798,
         "_deepnote_index_column": "2019-09-02 14:00:00+01:00"
        },
        {
         "Close": 0.2576000094413757,
         "macd_signal": 0,
         "aroon_signal": 0,
         "rsi_signal": 0,
         "ao_signal": 1,
         "Returns": -0.0015502984102079287,
         "_deepnote_index_column": "2019-09-02 15:00:00+01:00"
        },
        {
         "Close": 0.2569999992847442,
         "macd_signal": 0,
         "aroon_signal": 0,
         "rsi_signal": 0,
         "ao_signal": 0,
         "Returns": -0.0023292318891317,
         "_deepnote_index_column": "2019-09-02 16:00:00+01:00"
        },
        {
         "Close": 0.2578000128269195,
         "macd_signal": 0,
         "aroon_signal": 0,
         "rsi_signal": 0,
         "ao_signal": 0,
         "Returns": 0.0031128931688786388,
         "_deepnote_index_column": "2019-09-02 17:00:00+01:00"
        },
        {
         "Close": 0.2587000131607055,
         "macd_signal": 0,
         "aroon_signal": 0,
         "rsi_signal": 0,
         "ao_signal": 0,
         "Returns": 0.003491079476362291,
         "_deepnote_index_column": "2019-09-02 18:00:00+01:00"
        },
        {
         "Close": 0.260699987411499,
         "macd_signal": 0,
         "aroon_signal": 0,
         "rsi_signal": 0,
         "ao_signal": 0,
         "Returns": 0.007730862578468889,
         "_deepnote_index_column": "2019-09-02 19:00:00+01:00"
        },
        {
         "Close": 0.2608999907970428,
         "macd_signal": 0,
         "aroon_signal": 0,
         "rsi_signal": 0,
         "ao_signal": 0,
         "Returns": 0.00076717834753115,
         "_deepnote_index_column": "2019-09-02 20:00:00+01:00"
        },
        {
         "Close": 0.2628999948501587,
         "macd_signal": 0,
         "aroon_signal": 0,
         "rsi_signal": 1,
         "ao_signal": 0,
         "Returns": 0.007665788132095841,
         "_deepnote_index_column": "2019-09-02 21:00:00+01:00"
        },
        {
         "Close": 0.2630999982357025,
         "macd_signal": 0,
         "aroon_signal": 0,
         "rsi_signal": 0,
         "ao_signal": 0,
         "Returns": 0.0007607584232087738,
         "_deepnote_index_column": "2019-09-02 22:00:00+01:00"
        },
        {
         "Close": 0.2624000012874603,
         "macd_signal": 0,
         "aroon_signal": 0,
         "rsi_signal": 0,
         "ao_signal": 0,
         "Returns": -0.0026605737473821556,
         "_deepnote_index_column": "2019-09-02 23:00:00+01:00"
        },
        {
         "Close": 0.261599987745285,
         "macd_signal": 0,
         "aroon_signal": 0,
         "rsi_signal": 0,
         "ao_signal": 0,
         "Returns": -0.003048832081745778,
         "_deepnote_index_column": "2019-09-03 00:00:00+01:00"
        },
        {
         "Close": 0.2608000040054321,
         "macd_signal": 0,
         "aroon_signal": 0,
         "rsi_signal": 0,
         "ao_signal": 0,
         "Returns": -0.003058041962264335,
         "_deepnote_index_column": "2019-09-03 01:00:00+01:00"
        },
        {
         "Close": 0.2606000006198883,
         "macd_signal": 0,
         "aroon_signal": 0,
         "rsi_signal": 0,
         "ao_signal": 0,
         "Returns": -0.0007668841352456157,
         "_deepnote_index_column": "2019-09-03 02:00:00+01:00"
        },
        {
         "Close": 0.2608000040054321,
         "macd_signal": 0,
         "aroon_signal": 0,
         "rsi_signal": 0,
         "ao_signal": 0,
         "Returns": 0.0007674726978819102,
         "_deepnote_index_column": "2019-09-03 03:00:00+01:00"
        },
        {
         "Close": 0.2615000009536743,
         "macd_signal": 0,
         "aroon_signal": 0,
         "rsi_signal": 0,
         "ao_signal": 0,
         "Returns": 0.0026840373370073944,
         "_deepnote_index_column": "2019-09-03 04:00:00+01:00"
        },
        {
         "Close": 0.2614000141620636,
         "macd_signal": 0,
         "aroon_signal": 0,
         "rsi_signal": 0,
         "ao_signal": 0,
         "Returns": -0.00038235866633296034,
         "_deepnote_index_column": "2019-09-03 05:00:00+01:00"
        },
        {
         "Close": 0.2612999975681305,
         "macd_signal": 0,
         "aroon_signal": 0,
         "rsi_signal": 0,
         "ao_signal": 0,
         "Returns": -0.0003826189308127059,
         "_deepnote_index_column": "2019-09-03 06:00:00+01:00"
        },
        {
         "Close": 0.2610000073909759,
         "macd_signal": -1,
         "aroon_signal": 0,
         "rsi_signal": 0,
         "ao_signal": 0,
         "Returns": -0.0011480680441888769,
         "_deepnote_index_column": "2019-09-03 07:00:00+01:00"
        },
        {
         "Close": 0.260699987411499,
         "macd_signal": 0,
         "aroon_signal": 0,
         "rsi_signal": 0,
         "ao_signal": 0,
         "Returns": -0.0011495018045246663,
         "_deepnote_index_column": "2019-09-03 08:00:00+01:00"
        },
        {
         "Close": 0.2603999972343445,
         "macd_signal": 0,
         "aroon_signal": 0,
         "rsi_signal": 0,
         "ao_signal": 0,
         "Returns": -0.0011507103630236104,
         "_deepnote_index_column": "2019-09-03 09:00:00+01:00"
        },
        {
         "Close": 0.258899986743927,
         "macd_signal": 0,
         "aroon_signal": 0,
         "rsi_signal": 0,
         "ao_signal": 0,
         "Returns": -0.005760409010555967,
         "_deepnote_index_column": "2019-09-03 10:00:00+01:00"
        },
        {
         "Close": 0.2601000070571899,
         "macd_signal": 0,
         "aroon_signal": 0,
         "rsi_signal": 0,
         "ao_signal": 0,
         "Returns": 0.00463507290345988,
         "_deepnote_index_column": "2019-09-03 11:00:00+01:00"
        },
        {
         "Close": 0.2601000070571899,
         "macd_signal": 0,
         "aroon_signal": 0,
         "rsi_signal": 0,
         "ao_signal": 0,
         "Returns": 0,
         "_deepnote_index_column": "2019-09-03 12:00:00+01:00"
        },
        {
         "Close": 0.2621000111103058,
         "macd_signal": 0,
         "aroon_signal": 0,
         "rsi_signal": 0,
         "ao_signal": 0,
         "Returns": 0.007689365624185207,
         "_deepnote_index_column": "2019-09-03 13:00:00+01:00"
        },
        {
         "Close": 0.2646999955177307,
         "macd_signal": 1,
         "aroon_signal": 0,
         "rsi_signal": 0,
         "ao_signal": 0,
         "Returns": 0.009919817997759317,
         "_deepnote_index_column": "2019-09-03 14:00:00+01:00"
        },
        {
         "Close": 0.2635000050067901,
         "macd_signal": 0,
         "aroon_signal": 0,
         "rsi_signal": 0,
         "ao_signal": 0,
         "Returns": -0.004533398304724323,
         "_deepnote_index_column": "2019-09-03 15:00:00+01:00"
        },
        {
         "Close": 0.2637999951839447,
         "macd_signal": 0,
         "aroon_signal": 0,
         "rsi_signal": 0,
         "ao_signal": 0,
         "Returns": 0.0011384826241156443,
         "_deepnote_index_column": "2019-09-03 16:00:00+01:00"
        },
        {
         "Close": 0.2630000114440918,
         "macd_signal": 0,
         "aroon_signal": 0,
         "rsi_signal": 0,
         "ao_signal": 0,
         "Returns": -0.00303253887209165,
         "_deepnote_index_column": "2019-09-03 17:00:00+01:00"
        },
        {
         "Close": 0.2619999945163727,
         "macd_signal": 0,
         "aroon_signal": 0,
         "rsi_signal": 0,
         "ao_signal": 0,
         "Returns": -0.0038023455673183992,
         "_deepnote_index_column": "2019-09-03 18:00:00+01:00"
        },
        {
         "Close": 0.2619999945163727,
         "macd_signal": -1,
         "aroon_signal": 0,
         "rsi_signal": 0,
         "ao_signal": 0,
         "Returns": 0,
         "_deepnote_index_column": "2019-09-03 19:00:00+01:00"
        },
        {
         "Close": 0.2624000012874603,
         "macd_signal": 0,
         "aroon_signal": 0,
         "rsi_signal": 0,
         "ao_signal": 0,
         "Returns": 0.0015267434330523688,
         "_deepnote_index_column": "2019-09-03 20:00:00+01:00"
        },
        {
         "Close": 0.263399988412857,
         "macd_signal": 0,
         "aroon_signal": 0,
         "rsi_signal": 0,
         "ao_signal": 0,
         "Returns": 0.0038109265262586955,
         "_deepnote_index_column": "2019-09-03 21:00:00+01:00"
        },
        {
         "Close": 0.2640999853610992,
         "macd_signal": 1,
         "aroon_signal": 0,
         "rsi_signal": 0,
         "ao_signal": 0,
         "Returns": 0.002657543580241173,
         "_deepnote_index_column": "2019-09-03 22:00:00+01:00"
        },
        {
         "Close": 0.26460000872612,
         "macd_signal": 0,
         "aroon_signal": 0,
         "rsi_signal": 0,
         "ao_signal": 0,
         "Returns": 0.0018933108395939868,
         "_deepnote_index_column": "2019-09-03 23:00:00+01:00"
        },
        {
         "Close": 0.2632000148296356,
         "macd_signal": 0,
         "aroon_signal": 0,
         "rsi_signal": 0,
         "ao_signal": 0,
         "Returns": -0.005290982049564019,
         "_deepnote_index_column": "2019-09-04 00:00:00+01:00"
        },
        {
         "Close": 0.2626999914646148,
         "macd_signal": -1,
         "aroon_signal": 0,
         "rsi_signal": 0,
         "ao_signal": 0,
         "Returns": -0.0018997847144669455,
         "_deepnote_index_column": "2019-09-04 01:00:00+01:00"
        },
        {
         "Close": 0.2619000077247619,
         "macd_signal": 0,
         "aroon_signal": 0,
         "rsi_signal": 0,
         "ao_signal": 0,
         "Returns": -0.003045237022631042,
         "_deepnote_index_column": "2019-09-04 02:00:00+01:00"
        },
        {
         "Close": 0.261599987745285,
         "macd_signal": 0,
         "aroon_signal": 0,
         "rsi_signal": 0,
         "ao_signal": 0,
         "Returns": -0.001145551625153951,
         "_deepnote_index_column": "2019-09-04 03:00:00+01:00"
        },
        {
         "Close": 0.2623000144958496,
         "macd_signal": 0,
         "aroon_signal": 0,
         "rsi_signal": 0,
         "ao_signal": 0,
         "Returns": 0.002675943361458488,
         "_deepnote_index_column": "2019-09-04 04:00:00+01:00"
        },
        {
         "Close": 0.2608999907970428,
         "macd_signal": 0,
         "aroon_signal": 0,
         "rsi_signal": 0,
         "ao_signal": 0,
         "Returns": -0.005337489978785248,
         "_deepnote_index_column": "2019-09-04 05:00:00+01:00"
        },
        {
         "Close": 0.260699987411499,
         "macd_signal": 0,
         "aroon_signal": 0,
         "rsi_signal": 0,
         "ao_signal": -1,
         "Returns": -0.000766590236100706,
         "_deepnote_index_column": "2019-09-04 06:00:00+01:00"
        },
        {
         "Close": 0.2606000006198883,
         "macd_signal": 0,
         "aroon_signal": 0,
         "rsi_signal": 0,
         "ao_signal": 0,
         "Returns": -0.00038353201549212734,
         "_deepnote_index_column": "2019-09-04 07:00:00+01:00"
        },
        {
         "Close": 0.2605000138282776,
         "macd_signal": 0,
         "aroon_signal": 0,
         "rsi_signal": 0,
         "ao_signal": 0,
         "Returns": -0.00038367916873705,
         "_deepnote_index_column": "2019-09-04 08:00:00+01:00"
        },
        {
         "Close": 0.258899986743927,
         "macd_signal": 0,
         "aroon_signal": 0,
         "rsi_signal": 0,
         "ao_signal": 0,
         "Returns": -0.006142138193533153,
         "_deepnote_index_column": "2019-09-04 09:00:00+01:00"
        },
        {
         "Close": 0.2597000002861023,
         "macd_signal": 0,
         "aroon_signal": 0,
         "rsi_signal": 0,
         "ao_signal": 0,
         "Returns": 0.003090048602306661,
         "_deepnote_index_column": "2019-09-04 10:00:00+01:00"
        },
        {
         "Close": 0.2596000134944916,
         "macd_signal": 0,
         "aroon_signal": -1,
         "rsi_signal": 0,
         "ao_signal": 0,
         "Returns": -0.0003850088236448945,
         "_deepnote_index_column": "2019-09-04 11:00:00+01:00"
        }
       ],
       "rows_bottom": [
        {
         "Close": 0.8053690195083618,
         "macd_signal": 0,
         "aroon_signal": 0,
         "rsi_signal": 0,
         "ao_signal": 0,
         "Returns": 0.008381932031079176,
         "_deepnote_index_column": "2021-08-07 23:00:00+01:00"
        },
        {
         "Close": 0.8162810802459717,
         "macd_signal": 0,
         "aroon_signal": 0,
         "rsi_signal": 0,
         "ao_signal": 0,
         "Returns": 0.013549143899614036,
         "_deepnote_index_column": "2021-08-08 00:00:00+01:00"
        },
        {
         "Close": 0.8304288983345032,
         "macd_signal": 0,
         "aroon_signal": 0,
         "rsi_signal": 0,
         "ao_signal": 0,
         "Returns": 0.017332042149339477,
         "_deepnote_index_column": "2021-08-08 01:00:00+01:00"
        },
        {
         "Close": 0.8090371489524841,
         "macd_signal": 0,
         "aroon_signal": 0,
         "rsi_signal": 0,
         "ao_signal": 0,
         "Returns": -0.02575988073743829,
         "_deepnote_index_column": "2021-08-08 02:00:00+01:00"
        },
        {
         "Close": 0.8017366528511047,
         "macd_signal": -1,
         "aroon_signal": 0,
         "rsi_signal": 0,
         "ao_signal": 0,
         "Returns": -0.009023684648884034,
         "_deepnote_index_column": "2021-08-08 03:00:00+01:00"
        },
        {
         "Close": 0.8178030252456665,
         "macd_signal": 0,
         "aroon_signal": 0,
         "rsi_signal": 0,
         "ao_signal": 0,
         "Returns": 0.020039463503916277,
         "_deepnote_index_column": "2021-08-08 04:00:00+01:00"
        },
        {
         "Close": 0.8164565563201904,
         "macd_signal": 0,
         "aroon_signal": 0,
         "rsi_signal": 0,
         "ao_signal": 0,
         "Returns": -0.0016464464961738479,
         "_deepnote_index_column": "2021-08-08 05:00:00+01:00"
        },
        {
         "Close": 0.8221371173858643,
         "macd_signal": 0,
         "aroon_signal": 0,
         "rsi_signal": 0,
         "ao_signal": 0,
         "Returns": 0.006957579091870336,
         "_deepnote_index_column": "2021-08-08 06:00:00+01:00"
        },
        {
         "Close": 0.8285307884216309,
         "macd_signal": 1,
         "aroon_signal": 0,
         "rsi_signal": 0,
         "ao_signal": 0,
         "Returns": 0.007776891348850068,
         "_deepnote_index_column": "2021-08-08 07:00:00+01:00"
        },
        {
         "Close": 0.8223246335983276,
         "macd_signal": -1,
         "aroon_signal": 0,
         "rsi_signal": 0,
         "ao_signal": 0,
         "Returns": -0.007490554255836557,
         "_deepnote_index_column": "2021-08-08 08:00:00+01:00"
        },
        {
         "Close": 0.8114379644393921,
         "macd_signal": 0,
         "aroon_signal": 0,
         "rsi_signal": 0,
         "ao_signal": 0,
         "Returns": -0.013238894609416851,
         "_deepnote_index_column": "2021-08-08 09:00:00+01:00"
        },
        {
         "Close": 0.8126380443572998,
         "macd_signal": 0,
         "aroon_signal": 0,
         "rsi_signal": 0,
         "ao_signal": 0,
         "Returns": 0.0014789546095945738,
         "_deepnote_index_column": "2021-08-08 10:00:00+01:00"
        },
        {
         "Close": 0.8030365109443665,
         "macd_signal": 0,
         "aroon_signal": 0,
         "rsi_signal": 0,
         "ao_signal": 0,
         "Returns": -0.011815264470576237,
         "_deepnote_index_column": "2021-08-08 11:00:00+01:00"
        },
        {
         "Close": 0.8001503944396973,
         "macd_signal": 0,
         "aroon_signal": 0,
         "rsi_signal": 0,
         "ao_signal": 0,
         "Returns": -0.0035940040898951864,
         "_deepnote_index_column": "2021-08-08 12:00:00+01:00"
        },
        {
         "Close": 0.8123614192008972,
         "macd_signal": 0,
         "aroon_signal": 0,
         "rsi_signal": 0,
         "ao_signal": 0,
         "Returns": 0.015260912006111793,
         "_deepnote_index_column": "2021-08-08 13:00:00+01:00"
        },
        {
         "Close": 0.8075140118598938,
         "macd_signal": 0,
         "aroon_signal": 0,
         "rsi_signal": 0,
         "ao_signal": 0,
         "Returns": -0.005967057551516608,
         "_deepnote_index_column": "2021-08-08 14:00:00+01:00"
        },
        {
         "Close": 0.7874436974525452,
         "macd_signal": 0,
         "aroon_signal": 0,
         "rsi_signal": 0,
         "ao_signal": 0,
         "Returns": -0.024854447244973543,
         "_deepnote_index_column": "2021-08-08 15:00:00+01:00"
        },
        {
         "Close": 0.7861583828926086,
         "macd_signal": 0,
         "aroon_signal": 0,
         "rsi_signal": 0,
         "ao_signal": 0,
         "Returns": -0.0016322621720062935,
         "_deepnote_index_column": "2021-08-08 16:00:00+01:00"
        },
        {
         "Close": 0.779674768447876,
         "macd_signal": 0,
         "aroon_signal": 0,
         "rsi_signal": 0,
         "ao_signal": -1,
         "Returns": -0.008247211485396533,
         "_deepnote_index_column": "2021-08-08 17:00:00+01:00"
        },
        {
         "Close": 0.7871766686439514,
         "macd_signal": 0,
         "aroon_signal": 0,
         "rsi_signal": 0,
         "ao_signal": 0,
         "Returns": 0.009621832717518597,
         "_deepnote_index_column": "2021-08-08 18:00:00+01:00"
        },
        {
         "Close": 0.7815697193145752,
         "macd_signal": 0,
         "aroon_signal": -1,
         "rsi_signal": 0,
         "ao_signal": 0,
         "Returns": -0.007122860156710598,
         "_deepnote_index_column": "2021-08-08 19:00:00+01:00"
        },
        {
         "Close": 0.778918445110321,
         "macd_signal": 0,
         "aroon_signal": 0,
         "rsi_signal": 0,
         "ao_signal": 0,
         "Returns": -0.00339224273757599,
         "_deepnote_index_column": "2021-08-08 20:00:00+01:00"
        },
        {
         "Close": 0.7842029929161072,
         "macd_signal": 0,
         "aroon_signal": 0,
         "rsi_signal": 0,
         "ao_signal": 0,
         "Returns": 0.006784468693686652,
         "_deepnote_index_column": "2021-08-08 21:00:00+01:00"
        },
        {
         "Close": 0.7921290397644043,
         "macd_signal": 0,
         "aroon_signal": 0,
         "rsi_signal": 0,
         "ao_signal": 0,
         "Returns": 0.01010713669788954,
         "_deepnote_index_column": "2021-08-08 22:00:00+01:00"
        },
        {
         "Close": 0.7942468523979187,
         "macd_signal": 0,
         "aroon_signal": 0,
         "rsi_signal": 0,
         "ao_signal": 0,
         "Returns": 0.0026735702482820756,
         "_deepnote_index_column": "2021-08-08 23:00:00+01:00"
        },
        {
         "Close": 0.7787393927574158,
         "macd_signal": 0,
         "aroon_signal": 0,
         "rsi_signal": 0,
         "ao_signal": 0,
         "Returns": -0.019524735406485028,
         "_deepnote_index_column": "2021-08-09 00:00:00+01:00"
        },
        {
         "Close": 0.7659614086151123,
         "macd_signal": 0,
         "aroon_signal": 0,
         "rsi_signal": 0,
         "ao_signal": 0,
         "Returns": -0.016408549844972198,
         "_deepnote_index_column": "2021-08-09 01:00:00+01:00"
        },
        {
         "Close": 0.7699768543243408,
         "macd_signal": 0,
         "aroon_signal": 0,
         "rsi_signal": 0,
         "ao_signal": 0,
         "Returns": 0.005242360338347352,
         "_deepnote_index_column": "2021-08-09 02:00:00+01:00"
        },
        {
         "Close": 0.7788583636283875,
         "macd_signal": 0,
         "aroon_signal": 0,
         "rsi_signal": 0,
         "ao_signal": 0,
         "Returns": 0.01153477439505668,
         "_deepnote_index_column": "2021-08-09 03:00:00+01:00"
        },
        {
         "Close": 0.7826113104820251,
         "macd_signal": 0,
         "aroon_signal": 0,
         "rsi_signal": 0,
         "ao_signal": 0,
         "Returns": 0.004818522890547516,
         "_deepnote_index_column": "2021-08-09 04:00:00+01:00"
        },
        {
         "Close": 0.7949040532112122,
         "macd_signal": 0,
         "aroon_signal": 0,
         "rsi_signal": 0,
         "ao_signal": 0,
         "Returns": 0.01570734100637483,
         "_deepnote_index_column": "2021-08-09 05:00:00+01:00"
        },
        {
         "Close": 0.7881271839141846,
         "macd_signal": 1,
         "aroon_signal": 0,
         "rsi_signal": 0,
         "ao_signal": 0,
         "Returns": -0.008525392806403187,
         "_deepnote_index_column": "2021-08-09 06:00:00+01:00"
        },
        {
         "Close": 0.787296712398529,
         "macd_signal": 0,
         "aroon_signal": 0,
         "rsi_signal": 0,
         "ao_signal": 0,
         "Returns": -0.0010537277898866604,
         "_deepnote_index_column": "2021-08-09 07:00:00+01:00"
        },
        {
         "Close": 0.7967813014984131,
         "macd_signal": 0,
         "aroon_signal": 0,
         "rsi_signal": 0,
         "ao_signal": 0,
         "Returns": 0.012047032523467394,
         "_deepnote_index_column": "2021-08-09 08:00:00+01:00"
        },
        {
         "Close": 0.7981806397438049,
         "macd_signal": 0,
         "aroon_signal": 0,
         "rsi_signal": 0,
         "ao_signal": 0,
         "Returns": 0.0017562388107756899,
         "_deepnote_index_column": "2021-08-09 09:00:00+01:00"
        },
        {
         "Close": 0.8096413016319275,
         "macd_signal": 0,
         "aroon_signal": 0,
         "rsi_signal": 0,
         "ao_signal": 0,
         "Returns": 0.014358481423204061,
         "_deepnote_index_column": "2021-08-09 10:00:00+01:00"
        },
        {
         "Close": 0.816961407661438,
         "macd_signal": 0,
         "aroon_signal": 0,
         "rsi_signal": 0,
         "ao_signal": 1,
         "Returns": 0.009041171707465878,
         "_deepnote_index_column": "2021-08-09 11:00:00+01:00"
        },
        {
         "Close": 0.8193760514259338,
         "macd_signal": 0,
         "aroon_signal": 0,
         "rsi_signal": 0,
         "ao_signal": 0,
         "Returns": 0.0029556399382533183,
         "_deepnote_index_column": "2021-08-09 12:00:00+01:00"
        },
        {
         "Close": 0.8166133165359497,
         "macd_signal": 0,
         "aroon_signal": 0,
         "rsi_signal": 0,
         "ao_signal": 0,
         "Returns": -0.0033717545017043493,
         "_deepnote_index_column": "2021-08-09 13:00:00+01:00"
        },
        {
         "Close": 0.8115898370742798,
         "macd_signal": 0,
         "aroon_signal": 0,
         "rsi_signal": 0,
         "ao_signal": 0,
         "Returns": -0.006151601204569368,
         "_deepnote_index_column": "2021-08-09 14:00:00+01:00"
        },
        {
         "Close": 0.8130114674568176,
         "macd_signal": 0,
         "aroon_signal": 0,
         "rsi_signal": 0,
         "ao_signal": 0,
         "Returns": 0.0017516611440857588,
         "_deepnote_index_column": "2021-08-09 15:00:00+01:00"
        },
        {
         "Close": 0.8204382061958313,
         "macd_signal": 0,
         "aroon_signal": 0,
         "rsi_signal": 0,
         "ao_signal": 0,
         "Returns": 0.00913485115067969,
         "_deepnote_index_column": "2021-08-09 16:00:00+01:00"
        },
        {
         "Close": 0.817124605178833,
         "macd_signal": 0,
         "aroon_signal": 0,
         "rsi_signal": 0,
         "ao_signal": 0,
         "Returns": -0.004038818514270126,
         "_deepnote_index_column": "2021-08-09 17:00:00+01:00"
        },
        {
         "Close": 0.8183885216712952,
         "macd_signal": 0,
         "aroon_signal": 0,
         "rsi_signal": 0,
         "ao_signal": 0,
         "Returns": 0.0015467855018092003,
         "_deepnote_index_column": "2021-08-09 18:00:00+01:00"
        },
        {
         "Close": 0.8223690390586853,
         "macd_signal": 0,
         "aroon_signal": 1,
         "rsi_signal": 0,
         "ao_signal": 0,
         "Returns": 0.004863848015929095,
         "_deepnote_index_column": "2021-08-09 19:00:00+01:00"
        },
        {
         "Close": 0.8158291578292847,
         "macd_signal": 0,
         "aroon_signal": 0,
         "rsi_signal": 0,
         "ao_signal": 0,
         "Returns": -0.007952489598692103,
         "_deepnote_index_column": "2021-08-09 20:00:00+01:00"
        },
        {
         "Close": 0.8055914044380188,
         "macd_signal": 0,
         "aroon_signal": 0,
         "rsi_signal": 0,
         "ao_signal": 0,
         "Returns": -0.012548893715083609,
         "_deepnote_index_column": "2021-08-09 21:00:00+01:00"
        },
        {
         "Close": 0.8096583485603333,
         "macd_signal": -1,
         "aroon_signal": 0,
         "rsi_signal": 0,
         "ao_signal": 0,
         "Returns": 0.00504839562575965,
         "_deepnote_index_column": "2021-08-09 22:00:00+01:00"
        },
        {
         "Close": 0.8194264769554138,
         "macd_signal": 1,
         "aroon_signal": 0,
         "rsi_signal": 0,
         "ao_signal": 0,
         "Returns": 0.012064506482826198,
         "_deepnote_index_column": "2021-08-09 23:00:00+01:00"
        },
        {
         "Close": 0.8185535073280334,
         "macd_signal": 0,
         "aroon_signal": 0,
         "rsi_signal": 0,
         "ao_signal": 0,
         "Returns": -0.0010653422264604862,
         "_deepnote_index_column": "2021-08-10 00:00:00+01:00"
        },
        {
         "Close": 0.8124653100967407,
         "macd_signal": -1,
         "aroon_signal": 0,
         "rsi_signal": 0,
         "ao_signal": 0,
         "Returns": -0.007437751077710386,
         "_deepnote_index_column": "2021-08-10 01:00:00+01:00"
        },
        {
         "Close": 0.811424195766449,
         "macd_signal": 0,
         "aroon_signal": 0,
         "rsi_signal": 0,
         "ao_signal": 0,
         "Returns": -0.001281426194267632,
         "_deepnote_index_column": "2021-08-10 02:00:00+01:00"
        },
        {
         "Close": 0.8144153356552124,
         "macd_signal": 0,
         "aroon_signal": 0,
         "rsi_signal": 0,
         "ao_signal": 0,
         "Returns": 0.0036862838258575614,
         "_deepnote_index_column": "2021-08-10 03:00:00+01:00"
        },
        {
         "Close": 0.8044356107711792,
         "macd_signal": 0,
         "aroon_signal": 0,
         "rsi_signal": 0,
         "ao_signal": 0,
         "Returns": -0.01225385187031669,
         "_deepnote_index_column": "2021-08-10 04:00:00+01:00"
        },
        {
         "Close": 0.8098970651626587,
         "macd_signal": 0,
         "aroon_signal": 0,
         "rsi_signal": 0,
         "ao_signal": 0,
         "Returns": 0.006789175315403906,
         "_deepnote_index_column": "2021-08-10 05:00:00+01:00"
        },
        {
         "Close": 0.8105202913284302,
         "macd_signal": 0,
         "aroon_signal": 0,
         "rsi_signal": 0,
         "ao_signal": 0,
         "Returns": 0.0007695128091942394,
         "_deepnote_index_column": "2021-08-10 06:00:00+01:00"
        },
        {
         "Close": 0.8169611692428589,
         "macd_signal": 0,
         "aroon_signal": 0,
         "rsi_signal": 0,
         "ao_signal": 0,
         "Returns": 0.007946596751911228,
         "_deepnote_index_column": "2021-08-10 07:00:00+01:00"
        },
        {
         "Close": 0.8193774223327637,
         "macd_signal": 0,
         "aroon_signal": 0,
         "rsi_signal": 0,
         "ao_signal": 0,
         "Returns": 0.0029576106929831703,
         "_deepnote_index_column": "2021-08-10 08:00:00+01:00"
        },
        {
         "Close": 0.8201133012771606,
         "macd_signal": 0,
         "aroon_signal": 0,
         "rsi_signal": 0,
         "ao_signal": 0,
         "Returns": 0.0008980952175883239,
         "_deepnote_index_column": "2021-08-10 09:00:00+01:00"
        },
        {
         "Close": 0.8198803067207336,
         "macd_signal": 0,
         "aroon_signal": 0,
         "rsi_signal": 0,
         "ao_signal": 0,
         "Returns": -0.000284100448150415,
         "_deepnote_index_column": "2021-08-10 10:00:00+01:00"
        },
        {
         "Close": 0.807433009147644,
         "macd_signal": 0,
         "aroon_signal": 0,
         "rsi_signal": 0,
         "ao_signal": 0,
         "Returns": -0.015181847241672264,
         "_deepnote_index_column": "2021-08-10 11:00:00+01:00"
        },
        {
         "Close": 0.8152583837509155,
         "macd_signal": 0,
         "aroon_signal": 0,
         "rsi_signal": 0,
         "ao_signal": 0,
         "Returns": 0.009691670410567177,
         "_deepnote_index_column": "2021-08-10 12:00:00+01:00"
        },
        {
         "Close": 0.8490090370178223,
         "macd_signal": 1,
         "aroon_signal": 0,
         "rsi_signal": 0,
         "ao_signal": 0,
         "Returns": 0.041398719644713866,
         "_deepnote_index_column": "2021-08-10 13:00:00+01:00"
        },
        {
         "Close": 0.8354390263557434,
         "macd_signal": 0,
         "aroon_signal": 0,
         "rsi_signal": 0,
         "ao_signal": 0,
         "Returns": -0.015983352438442844,
         "_deepnote_index_column": "2021-08-10 14:00:00+01:00"
        },
        {
         "Close": 0.8288268446922302,
         "macd_signal": 0,
         "aroon_signal": 0,
         "rsi_signal": 0,
         "ao_signal": 0,
         "Returns": -0.00791461908639357,
         "_deepnote_index_column": "2021-08-10 15:00:00+01:00"
        },
        {
         "Close": 0.8237518072128296,
         "macd_signal": 0,
         "aroon_signal": 0,
         "rsi_signal": 0,
         "ao_signal": 0,
         "Returns": -0.00612315770404992,
         "_deepnote_index_column": "2021-08-10 16:00:00+01:00"
        },
        {
         "Close": 0.8138244152069092,
         "macd_signal": -1,
         "aroon_signal": 0,
         "rsi_signal": 0,
         "ao_signal": 0,
         "Returns": -0.012051435783200004,
         "_deepnote_index_column": "2021-08-10 17:00:00+01:00"
        },
        {
         "Close": 0.81997150182724,
         "macd_signal": 0,
         "aroon_signal": 0,
         "rsi_signal": 0,
         "ao_signal": 0,
         "Returns": 0.007553332764989484,
         "_deepnote_index_column": "2021-08-10 18:00:00+01:00"
        },
        {
         "Close": 0.8261918425559998,
         "macd_signal": 0,
         "aroon_signal": 0,
         "rsi_signal": 0,
         "ao_signal": 0,
         "Returns": 0.007586045020952836,
         "_deepnote_index_column": "2021-08-10 19:00:00+01:00"
        },
        {
         "Close": 0.8347495198249817,
         "macd_signal": 1,
         "aroon_signal": 0,
         "rsi_signal": 0,
         "ao_signal": 0,
         "Returns": 0.01035797841153574,
         "_deepnote_index_column": "2021-08-10 20:00:00+01:00"
        },
        {
         "Close": 0.8428434133529663,
         "macd_signal": 0,
         "aroon_signal": 0,
         "rsi_signal": 0,
         "ao_signal": 0,
         "Returns": 0.009696194290332194,
         "_deepnote_index_column": "2021-08-10 21:00:00+01:00"
        },
        {
         "Close": 0.8587751984596252,
         "macd_signal": 0,
         "aroon_signal": 0,
         "rsi_signal": 0,
         "ao_signal": 0,
         "Returns": 0.01890242582934798,
         "_deepnote_index_column": "2021-08-10 22:00:00+01:00"
        },
        {
         "Close": 0.8559402227401733,
         "macd_signal": 0,
         "aroon_signal": 0,
         "rsi_signal": 0,
         "ao_signal": 0,
         "Returns": -0.0033011849020988526,
         "_deepnote_index_column": "2021-08-10 23:00:00+01:00"
        },
        {
         "Close": 0.8512465357780457,
         "macd_signal": 0,
         "aroon_signal": 0,
         "rsi_signal": 0,
         "ao_signal": 0,
         "Returns": -0.00548366210329676,
         "_deepnote_index_column": "2021-08-11 00:00:00+01:00"
        },
        {
         "Close": 0.8692995309829712,
         "macd_signal": 0,
         "aroon_signal": 0,
         "rsi_signal": 0,
         "ao_signal": 0,
         "Returns": 0.021207716502981144,
         "_deepnote_index_column": "2021-08-11 01:00:00+01:00"
        },
        {
         "Close": 0.8713383674621582,
         "macd_signal": 0,
         "aroon_signal": 0,
         "rsi_signal": 0,
         "ao_signal": 0,
         "Returns": 0.0023453785565505925,
         "_deepnote_index_column": "2021-08-11 02:00:00+01:00"
        },
        {
         "Close": 0.871850848197937,
         "macd_signal": 0,
         "aroon_signal": 0,
         "rsi_signal": 0,
         "ao_signal": 0,
         "Returns": 0.0005881535290033213,
         "_deepnote_index_column": "2021-08-11 02:52:03+01:00"
        },
        {
         "Close": 0,
         "macd_signal": 0,
         "aroon_signal": 0,
         "rsi_signal": 0,
         "ao_signal": 0,
         "Returns": -1,
         "_deepnote_index_column": "2021-08-11 03:00:00+01:00"
        },
        {
         "Close": 0,
         "macd_signal": 0,
         "aroon_signal": 0,
         "rsi_signal": 0,
         "ao_signal": 0,
         "Returns": "nan",
         "_deepnote_index_column": "2021-08-11 03:02:03+01:00"
        },
        {
         "Close": 0,
         "macd_signal": 0,
         "aroon_signal": 0,
         "rsi_signal": 0,
         "ao_signal": 0,
         "Returns": "nan",
         "_deepnote_index_column": "2021-08-11 01:59:03+01:00"
        },
        {
         "Close": 0,
         "macd_signal": 0,
         "aroon_signal": 0,
         "rsi_signal": 0,
         "ao_signal": 0,
         "Returns": "nan",
         "_deepnote_index_column": "2021-05-04 23:00:00+01:00"
        },
        {
         "Close": 0,
         "macd_signal": 0,
         "aroon_signal": 0,
         "rsi_signal": 0,
         "ao_signal": 0,
         "Returns": "nan",
         "_deepnote_index_column": "2021-05-05 23:00:00+01:00"
        },
        {
         "Close": 0,
         "macd_signal": 0,
         "aroon_signal": 0,
         "rsi_signal": 0,
         "ao_signal": 0,
         "Returns": "nan",
         "_deepnote_index_column": "2021-06-23 10:00:00+01:00"
        }
       ]
      },
      "text/plain": "                            Close  macd_signal  aroon_signal  rsi_signal  \\\n2019-09-01 01:00:00+01:00  0.2591          0.0           0.0         0.0   \n2019-09-01 02:00:00+01:00  0.2584         -1.0           0.0        -1.0   \n2019-09-01 03:00:00+01:00  0.2578          0.0           0.0         0.0   \n2019-09-01 04:00:00+01:00  0.2585          0.0           0.0         0.0   \n2019-09-01 05:00:00+01:00  0.2581          0.0           0.0         0.0   \n...                           ...          ...           ...         ...   \n2021-08-11 03:02:03+01:00  0.0000          0.0           0.0         0.0   \n2021-08-11 01:59:03+01:00  0.0000          0.0           0.0         0.0   \n2021-05-04 23:00:00+01:00  0.0000          0.0           0.0         0.0   \n2021-05-05 23:00:00+01:00  0.0000          0.0           0.0         0.0   \n2021-06-23 10:00:00+01:00  0.0000          0.0           0.0         0.0   \n\n                           ao_signal   Returns  \n2019-09-01 01:00:00+01:00        0.0       NaN  \n2019-09-01 02:00:00+01:00        0.0 -0.002702  \n2019-09-01 03:00:00+01:00        0.0 -0.002322  \n2019-09-01 04:00:00+01:00        0.0  0.002715  \n2019-09-01 05:00:00+01:00        0.0 -0.001547  \n...                              ...       ...  \n2021-08-11 03:02:03+01:00        0.0       NaN  \n2021-08-11 01:59:03+01:00        0.0       NaN  \n2021-05-04 23:00:00+01:00        0.0       NaN  \n2021-05-05 23:00:00+01:00        0.0       NaN  \n2021-06-23 10:00:00+01:00        0.0       NaN  \n\n[17009 rows x 6 columns]",
      "text/html": "<div>\n<style scoped>\n    .dataframe tbody tr th:only-of-type {\n        vertical-align: middle;\n    }\n\n    .dataframe tbody tr th {\n        vertical-align: top;\n    }\n\n    .dataframe thead th {\n        text-align: right;\n    }\n</style>\n<table border=\"1\" class=\"dataframe\">\n  <thead>\n    <tr style=\"text-align: right;\">\n      <th></th>\n      <th>Close</th>\n      <th>macd_signal</th>\n      <th>aroon_signal</th>\n      <th>rsi_signal</th>\n      <th>ao_signal</th>\n      <th>Returns</th>\n    </tr>\n  </thead>\n  <tbody>\n    <tr>\n      <th>2019-09-01 01:00:00+01:00</th>\n      <td>0.2591</td>\n      <td>0.0</td>\n      <td>0.0</td>\n      <td>0.0</td>\n      <td>0.0</td>\n      <td>NaN</td>\n    </tr>\n    <tr>\n      <th>2019-09-01 02:00:00+01:00</th>\n      <td>0.2584</td>\n      <td>-1.0</td>\n      <td>0.0</td>\n      <td>-1.0</td>\n      <td>0.0</td>\n      <td>-0.002702</td>\n    </tr>\n    <tr>\n      <th>2019-09-01 03:00:00+01:00</th>\n      <td>0.2578</td>\n      <td>0.0</td>\n      <td>0.0</td>\n      <td>0.0</td>\n      <td>0.0</td>\n      <td>-0.002322</td>\n    </tr>\n    <tr>\n      <th>2019-09-01 04:00:00+01:00</th>\n      <td>0.2585</td>\n      <td>0.0</td>\n      <td>0.0</td>\n      <td>0.0</td>\n      <td>0.0</td>\n      <td>0.002715</td>\n    </tr>\n    <tr>\n      <th>2019-09-01 05:00:00+01:00</th>\n      <td>0.2581</td>\n      <td>0.0</td>\n      <td>0.0</td>\n      <td>0.0</td>\n      <td>0.0</td>\n      <td>-0.001547</td>\n    </tr>\n    <tr>\n      <th>...</th>\n      <td>...</td>\n      <td>...</td>\n      <td>...</td>\n      <td>...</td>\n      <td>...</td>\n      <td>...</td>\n    </tr>\n    <tr>\n      <th>2021-08-11 03:02:03+01:00</th>\n      <td>0.0000</td>\n      <td>0.0</td>\n      <td>0.0</td>\n      <td>0.0</td>\n      <td>0.0</td>\n      <td>NaN</td>\n    </tr>\n    <tr>\n      <th>2021-08-11 01:59:03+01:00</th>\n      <td>0.0000</td>\n      <td>0.0</td>\n      <td>0.0</td>\n      <td>0.0</td>\n      <td>0.0</td>\n      <td>NaN</td>\n    </tr>\n    <tr>\n      <th>2021-05-04 23:00:00+01:00</th>\n      <td>0.0000</td>\n      <td>0.0</td>\n      <td>0.0</td>\n      <td>0.0</td>\n      <td>0.0</td>\n      <td>NaN</td>\n    </tr>\n    <tr>\n      <th>2021-05-05 23:00:00+01:00</th>\n      <td>0.0000</td>\n      <td>0.0</td>\n      <td>0.0</td>\n      <td>0.0</td>\n      <td>0.0</td>\n      <td>NaN</td>\n    </tr>\n    <tr>\n      <th>2021-06-23 10:00:00+01:00</th>\n      <td>0.0000</td>\n      <td>0.0</td>\n      <td>0.0</td>\n      <td>0.0</td>\n      <td>0.0</td>\n      <td>NaN</td>\n    </tr>\n  </tbody>\n</table>\n<p>17009 rows × 6 columns</p>\n</div>"
     },
     "metadata": {}
    }
   ]
  },
  {
   "cell_type": "code",
   "metadata": {
    "tags": [],
    "cell_id": "00006-f7aaf8ed-397d-48db-bd85-721ea08d15bd",
    "deepnote_to_be_reexecuted": false,
    "source_hash": "83c49bdd",
    "execution_start": 1629324842845,
    "execution_millis": 306413,
    "deepnote_cell_type": "code"
   },
   "source": "# Construct the dependent variable where if daily return is greater than 0, then 1, else, 0.\ncombined_signals_df['Binary Return'] = np.where(combined_signals_df['Returns'] > 0, 1.0, 0.0)",
   "execution_count": null,
   "outputs": []
  },
  {
   "cell_type": "code",
   "metadata": {
    "tags": [],
    "cell_id": "00007-befd397a-e06b-46bc-8529-1c70cd6cb14c",
    "deepnote_to_be_reexecuted": false,
    "source_hash": "d5f56c9c",
    "execution_start": 1629324842846,
    "execution_millis": 5,
    "deepnote_cell_type": "code"
   },
   "source": "# Shift DataFrame values by 1\ncombined_signals_df[['aroon_signal','macd_signal','rsi_signal','ao_signal']] = combined_signals_df[['aroon_signal','macd_signal','rsi_signal', 'ao_signal']].shift(1)\ncombined_signals_df[['aroon_signal','macd_signal','rsi_signal', 'ao_signal']].tail()",
   "execution_count": null,
   "outputs": [
    {
     "output_type": "execute_result",
     "execution_count": 8,
     "data": {
      "application/vnd.deepnote.dataframe.v2+json": {
       "row_count": 5,
       "column_count": 4,
       "columns": [
        {
         "name": "aroon_signal",
         "dtype": "float64",
         "stats": {
          "unique_count": 1,
          "nan_count": 0,
          "min": "0.0",
          "max": "0.0",
          "histogram": [
           {
            "bin_start": -0.5,
            "bin_end": -0.4,
            "count": 0
           },
           {
            "bin_start": -0.4,
            "bin_end": -0.3,
            "count": 0
           },
           {
            "bin_start": -0.3,
            "bin_end": -0.19999999999999996,
            "count": 0
           },
           {
            "bin_start": -0.19999999999999996,
            "bin_end": -0.09999999999999998,
            "count": 0
           },
           {
            "bin_start": -0.09999999999999998,
            "bin_end": 0,
            "count": 0
           },
           {
            "bin_start": 0,
            "bin_end": 0.10000000000000009,
            "count": 5
           },
           {
            "bin_start": 0.10000000000000009,
            "bin_end": 0.20000000000000007,
            "count": 0
           },
           {
            "bin_start": 0.20000000000000007,
            "bin_end": 0.30000000000000004,
            "count": 0
           },
           {
            "bin_start": 0.30000000000000004,
            "bin_end": 0.4,
            "count": 0
           },
           {
            "bin_start": 0.4,
            "bin_end": 0.5,
            "count": 0
           }
          ]
         }
        },
        {
         "name": "macd_signal",
         "dtype": "float64",
         "stats": {
          "unique_count": 1,
          "nan_count": 0,
          "min": "0.0",
          "max": "0.0",
          "histogram": [
           {
            "bin_start": -0.5,
            "bin_end": -0.4,
            "count": 0
           },
           {
            "bin_start": -0.4,
            "bin_end": -0.3,
            "count": 0
           },
           {
            "bin_start": -0.3,
            "bin_end": -0.19999999999999996,
            "count": 0
           },
           {
            "bin_start": -0.19999999999999996,
            "bin_end": -0.09999999999999998,
            "count": 0
           },
           {
            "bin_start": -0.09999999999999998,
            "bin_end": 0,
            "count": 0
           },
           {
            "bin_start": 0,
            "bin_end": 0.10000000000000009,
            "count": 5
           },
           {
            "bin_start": 0.10000000000000009,
            "bin_end": 0.20000000000000007,
            "count": 0
           },
           {
            "bin_start": 0.20000000000000007,
            "bin_end": 0.30000000000000004,
            "count": 0
           },
           {
            "bin_start": 0.30000000000000004,
            "bin_end": 0.4,
            "count": 0
           },
           {
            "bin_start": 0.4,
            "bin_end": 0.5,
            "count": 0
           }
          ]
         }
        },
        {
         "name": "rsi_signal",
         "dtype": "float64",
         "stats": {
          "unique_count": 1,
          "nan_count": 0,
          "min": "0.0",
          "max": "0.0",
          "histogram": [
           {
            "bin_start": -0.5,
            "bin_end": -0.4,
            "count": 0
           },
           {
            "bin_start": -0.4,
            "bin_end": -0.3,
            "count": 0
           },
           {
            "bin_start": -0.3,
            "bin_end": -0.19999999999999996,
            "count": 0
           },
           {
            "bin_start": -0.19999999999999996,
            "bin_end": -0.09999999999999998,
            "count": 0
           },
           {
            "bin_start": -0.09999999999999998,
            "bin_end": 0,
            "count": 0
           },
           {
            "bin_start": 0,
            "bin_end": 0.10000000000000009,
            "count": 5
           },
           {
            "bin_start": 0.10000000000000009,
            "bin_end": 0.20000000000000007,
            "count": 0
           },
           {
            "bin_start": 0.20000000000000007,
            "bin_end": 0.30000000000000004,
            "count": 0
           },
           {
            "bin_start": 0.30000000000000004,
            "bin_end": 0.4,
            "count": 0
           },
           {
            "bin_start": 0.4,
            "bin_end": 0.5,
            "count": 0
           }
          ]
         }
        },
        {
         "name": "ao_signal",
         "dtype": "float64",
         "stats": {
          "unique_count": 1,
          "nan_count": 0,
          "min": "0.0",
          "max": "0.0",
          "histogram": [
           {
            "bin_start": -0.5,
            "bin_end": -0.4,
            "count": 0
           },
           {
            "bin_start": -0.4,
            "bin_end": -0.3,
            "count": 0
           },
           {
            "bin_start": -0.3,
            "bin_end": -0.19999999999999996,
            "count": 0
           },
           {
            "bin_start": -0.19999999999999996,
            "bin_end": -0.09999999999999998,
            "count": 0
           },
           {
            "bin_start": -0.09999999999999998,
            "bin_end": 0,
            "count": 0
           },
           {
            "bin_start": 0,
            "bin_end": 0.10000000000000009,
            "count": 5
           },
           {
            "bin_start": 0.10000000000000009,
            "bin_end": 0.20000000000000007,
            "count": 0
           },
           {
            "bin_start": 0.20000000000000007,
            "bin_end": 0.30000000000000004,
            "count": 0
           },
           {
            "bin_start": 0.30000000000000004,
            "bin_end": 0.4,
            "count": 0
           },
           {
            "bin_start": 0.4,
            "bin_end": 0.5,
            "count": 0
           }
          ]
         }
        },
        {
         "name": "_deepnote_index_column",
         "dtype": "object"
        }
       ],
       "rows_top": [
        {
         "aroon_signal": 0,
         "macd_signal": 0,
         "rsi_signal": 0,
         "ao_signal": 0,
         "_deepnote_index_column": "2021-08-11 03:02:03+01:00"
        },
        {
         "aroon_signal": 0,
         "macd_signal": 0,
         "rsi_signal": 0,
         "ao_signal": 0,
         "_deepnote_index_column": "2021-08-11 01:59:03+01:00"
        },
        {
         "aroon_signal": 0,
         "macd_signal": 0,
         "rsi_signal": 0,
         "ao_signal": 0,
         "_deepnote_index_column": "2021-05-04 23:00:00+01:00"
        },
        {
         "aroon_signal": 0,
         "macd_signal": 0,
         "rsi_signal": 0,
         "ao_signal": 0,
         "_deepnote_index_column": "2021-05-05 23:00:00+01:00"
        },
        {
         "aroon_signal": 0,
         "macd_signal": 0,
         "rsi_signal": 0,
         "ao_signal": 0,
         "_deepnote_index_column": "2021-06-23 10:00:00+01:00"
        }
       ],
       "rows_bottom": null
      },
      "text/plain": "                           aroon_signal  macd_signal  rsi_signal  ao_signal\n2021-08-11 03:02:03+01:00           0.0          0.0         0.0        0.0\n2021-08-11 01:59:03+01:00           0.0          0.0         0.0        0.0\n2021-05-04 23:00:00+01:00           0.0          0.0         0.0        0.0\n2021-05-05 23:00:00+01:00           0.0          0.0         0.0        0.0\n2021-06-23 10:00:00+01:00           0.0          0.0         0.0        0.0",
      "text/html": "<div>\n<style scoped>\n    .dataframe tbody tr th:only-of-type {\n        vertical-align: middle;\n    }\n\n    .dataframe tbody tr th {\n        vertical-align: top;\n    }\n\n    .dataframe thead th {\n        text-align: right;\n    }\n</style>\n<table border=\"1\" class=\"dataframe\">\n  <thead>\n    <tr style=\"text-align: right;\">\n      <th></th>\n      <th>aroon_signal</th>\n      <th>macd_signal</th>\n      <th>rsi_signal</th>\n      <th>ao_signal</th>\n    </tr>\n  </thead>\n  <tbody>\n    <tr>\n      <th>2021-08-11 03:02:03+01:00</th>\n      <td>0.0</td>\n      <td>0.0</td>\n      <td>0.0</td>\n      <td>0.0</td>\n    </tr>\n    <tr>\n      <th>2021-08-11 01:59:03+01:00</th>\n      <td>0.0</td>\n      <td>0.0</td>\n      <td>0.0</td>\n      <td>0.0</td>\n    </tr>\n    <tr>\n      <th>2021-05-04 23:00:00+01:00</th>\n      <td>0.0</td>\n      <td>0.0</td>\n      <td>0.0</td>\n      <td>0.0</td>\n    </tr>\n    <tr>\n      <th>2021-05-05 23:00:00+01:00</th>\n      <td>0.0</td>\n      <td>0.0</td>\n      <td>0.0</td>\n      <td>0.0</td>\n    </tr>\n    <tr>\n      <th>2021-06-23 10:00:00+01:00</th>\n      <td>0.0</td>\n      <td>0.0</td>\n      <td>0.0</td>\n      <td>0.0</td>\n    </tr>\n  </tbody>\n</table>\n</div>"
     },
     "metadata": {}
    }
   ]
  },
  {
   "cell_type": "code",
   "metadata": {
    "tags": [],
    "cell_id": "00008-1ee115e4-de37-48ec-80a4-152d177ece76",
    "deepnote_to_be_reexecuted": false,
    "source_hash": "a65ffd3b",
    "execution_start": 1629324842860,
    "execution_millis": 118,
    "deepnote_cell_type": "code"
   },
   "source": "# Drop NAs and replace positive/negative infinity values\n# combined_signals_df.dropna(subset=combined_signals_df[['aroon_signal','macd_signal','rsi_signal']], inplace=True)\n# combined_signals_df.dropna(subset=combined_signals_df['Returns'], inplace=True)\n# combined_signals_df = combined_signals_df.replace([np.inf, -np.inf], np.nan)\n# combined_signals_df.head()\n\ncombined_signals_df[['aroon_signal', 'macd_signal', 'rsi_signal', 'ao_signal']].dropna( inplace = True)\ncombined_signals_df = combined_signals_df.replace([np.inf, -np.inf], np.nan)\ncombined_signals_df.dropna(inplace = True)\n# combined_signals_df[['aroon_signal', 'macd_signal', 'rsi_signal']].astype('int64')\ncombined_signals_df[['aroon_signal', 'macd_signal', 'rsi_signal','ao_signal', 'Binary Return']]=combined_signals_df[['aroon_signal', 'macd_signal', 'rsi_signal', 'ao_signal', 'Binary Return']].astype(int)\ncombined_signals_df.dropna(inplace = True)\ncombined_signals_df",
   "execution_count": null,
   "outputs": [
    {
     "name": "stderr",
     "text": "/shared-libs/python3.7/py-core/lib/python3.7/site-packages/ipykernel_launcher.py:7: SettingWithCopyWarning: \nA value is trying to be set on a copy of a slice from a DataFrame\n\nSee the caveats in the documentation: https://pandas.pydata.org/pandas-docs/stable/user_guide/indexing.html#returning-a-view-versus-a-copy\n  import sys\n",
     "output_type": "stream"
    },
    {
     "output_type": "execute_result",
     "execution_count": 9,
     "data": {
      "application/vnd.deepnote.dataframe.v2+json": {
       "row_count": 17003,
       "column_count": 7,
       "columns": [
        {
         "name": "Close",
         "dtype": "float64",
         "stats": {
          "unique_count": 16593,
          "nan_count": 0,
          "min": "0.0",
          "max": "1.9378489255905151",
          "histogram": [
           {
            "bin_start": 0,
            "bin_end": 0.1937848925590515,
            "count": 1889
           },
           {
            "bin_start": 0.1937848925590515,
            "bin_end": 0.387569785118103,
            "count": 9795
           },
           {
            "bin_start": 0.387569785118103,
            "bin_end": 0.5813546776771545,
            "count": 1883
           },
           {
            "bin_start": 0.5813546776771545,
            "bin_end": 0.775139570236206,
            "count": 1552
           },
           {
            "bin_start": 0.775139570236206,
            "bin_end": 0.9689244627952576,
            "count": 655
           },
           {
            "bin_start": 0.9689244627952576,
            "bin_end": 1.162709355354309,
            "count": 343
           },
           {
            "bin_start": 1.162709355354309,
            "bin_end": 1.3564942479133606,
            "count": 186
           },
           {
            "bin_start": 1.3564942479133606,
            "bin_end": 1.550279140472412,
            "count": 385
           },
           {
            "bin_start": 1.550279140472412,
            "bin_end": 1.7440640330314636,
            "count": 272
           },
           {
            "bin_start": 1.7440640330314636,
            "bin_end": 1.9378489255905151,
            "count": 43
           }
          ]
         }
        },
        {
         "name": "macd_signal",
         "dtype": "int64",
         "stats": {
          "unique_count": 3,
          "nan_count": 0,
          "min": "-1",
          "max": "1",
          "histogram": [
           {
            "bin_start": -1,
            "bin_end": -0.8,
            "count": 685
           },
           {
            "bin_start": -0.8,
            "bin_end": -0.6,
            "count": 0
           },
           {
            "bin_start": -0.6,
            "bin_end": -0.3999999999999999,
            "count": 0
           },
           {
            "bin_start": -0.3999999999999999,
            "bin_end": -0.19999999999999996,
            "count": 0
           },
           {
            "bin_start": -0.19999999999999996,
            "bin_end": 0,
            "count": 0
           },
           {
            "bin_start": 0,
            "bin_end": 0.20000000000000018,
            "count": 15633
           },
           {
            "bin_start": 0.20000000000000018,
            "bin_end": 0.40000000000000013,
            "count": 0
           },
           {
            "bin_start": 0.40000000000000013,
            "bin_end": 0.6000000000000001,
            "count": 0
           },
           {
            "bin_start": 0.6000000000000001,
            "bin_end": 0.8,
            "count": 0
           },
           {
            "bin_start": 0.8,
            "bin_end": 1,
            "count": 685
           }
          ]
         }
        },
        {
         "name": "aroon_signal",
         "dtype": "int64",
         "stats": {
          "unique_count": 3,
          "nan_count": 0,
          "min": "-1",
          "max": "1",
          "histogram": [
           {
            "bin_start": -1,
            "bin_end": -0.8,
            "count": 214
           },
           {
            "bin_start": -0.8,
            "bin_end": -0.6,
            "count": 0
           },
           {
            "bin_start": -0.6,
            "bin_end": -0.3999999999999999,
            "count": 0
           },
           {
            "bin_start": -0.3999999999999999,
            "bin_end": -0.19999999999999996,
            "count": 0
           },
           {
            "bin_start": -0.19999999999999996,
            "bin_end": 0,
            "count": 0
           },
           {
            "bin_start": 0,
            "bin_end": 0.20000000000000018,
            "count": 16574
           },
           {
            "bin_start": 0.20000000000000018,
            "bin_end": 0.40000000000000013,
            "count": 0
           },
           {
            "bin_start": 0.40000000000000013,
            "bin_end": 0.6000000000000001,
            "count": 0
           },
           {
            "bin_start": 0.6000000000000001,
            "bin_end": 0.8,
            "count": 0
           },
           {
            "bin_start": 0.8,
            "bin_end": 1,
            "count": 215
           }
          ]
         }
        },
        {
         "name": "rsi_signal",
         "dtype": "int64",
         "stats": {
          "unique_count": 3,
          "nan_count": 0,
          "min": "-1",
          "max": "1",
          "histogram": [
           {
            "bin_start": -1,
            "bin_end": -0.8,
            "count": 57
           },
           {
            "bin_start": -0.8,
            "bin_end": -0.6,
            "count": 0
           },
           {
            "bin_start": -0.6,
            "bin_end": -0.3999999999999999,
            "count": 0
           },
           {
            "bin_start": -0.3999999999999999,
            "bin_end": -0.19999999999999996,
            "count": 0
           },
           {
            "bin_start": -0.19999999999999996,
            "bin_end": 0,
            "count": 0
           },
           {
            "bin_start": 0,
            "bin_end": 0.20000000000000018,
            "count": 16889
           },
           {
            "bin_start": 0.20000000000000018,
            "bin_end": 0.40000000000000013,
            "count": 0
           },
           {
            "bin_start": 0.40000000000000013,
            "bin_end": 0.6000000000000001,
            "count": 0
           },
           {
            "bin_start": 0.6000000000000001,
            "bin_end": 0.8,
            "count": 0
           },
           {
            "bin_start": 0.8,
            "bin_end": 1,
            "count": 57
           }
          ]
         }
        },
        {
         "name": "ao_signal",
         "dtype": "int64",
         "stats": {
          "unique_count": 3,
          "nan_count": 0,
          "min": "-1",
          "max": "1",
          "histogram": [
           {
            "bin_start": -1,
            "bin_end": -0.8,
            "count": 375
           },
           {
            "bin_start": -0.8,
            "bin_end": -0.6,
            "count": 0
           },
           {
            "bin_start": -0.6,
            "bin_end": -0.3999999999999999,
            "count": 0
           },
           {
            "bin_start": -0.3999999999999999,
            "bin_end": -0.19999999999999996,
            "count": 0
           },
           {
            "bin_start": -0.19999999999999996,
            "bin_end": 0,
            "count": 0
           },
           {
            "bin_start": 0,
            "bin_end": 0.20000000000000018,
            "count": 16253
           },
           {
            "bin_start": 0.20000000000000018,
            "bin_end": 0.40000000000000013,
            "count": 0
           },
           {
            "bin_start": 0.40000000000000013,
            "bin_end": 0.6000000000000001,
            "count": 0
           },
           {
            "bin_start": 0.6000000000000001,
            "bin_end": 0.8,
            "count": 0
           },
           {
            "bin_start": 0.8,
            "bin_end": 1,
            "count": 375
           }
          ]
         }
        },
        {
         "name": "Returns",
         "dtype": "float64"
        },
        {
         "name": "Binary Return",
         "dtype": "int64"
        },
        {
         "name": "_deepnote_index_column",
         "dtype": "object"
        }
       ],
       "rows_top": [
        {
         "Close": 0.2583999931812286,
         "macd_signal": 0,
         "aroon_signal": 0,
         "rsi_signal": 0,
         "ao_signal": 0,
         "Returns": -0.002701647915511196,
         "Binary Return": 0,
         "_deepnote_index_column": "2019-09-01 02:00:00+01:00"
        },
        {
         "Close": 0.2578000128269195,
         "macd_signal": -1,
         "aroon_signal": 0,
         "rsi_signal": -1,
         "ao_signal": 0,
         "Returns": -0.002321905457204454,
         "Binary Return": 0,
         "_deepnote_index_column": "2019-09-01 03:00:00+01:00"
        },
        {
         "Close": 0.2585000097751617,
         "macd_signal": 0,
         "aroon_signal": 0,
         "rsi_signal": 0,
         "ao_signal": 0,
         "Returns": 0.002715271192450075,
         "Binary Return": 1,
         "_deepnote_index_column": "2019-09-01 04:00:00+01:00"
        },
        {
         "Close": 0.2581000030040741,
         "macd_signal": 0,
         "aroon_signal": 0,
         "rsi_signal": 0,
         "ao_signal": 0,
         "Returns": -0.0015474149166784246,
         "Binary Return": 0,
         "_deepnote_index_column": "2019-09-01 05:00:00+01:00"
        },
        {
         "Close": 0.2581000030040741,
         "macd_signal": 0,
         "aroon_signal": 0,
         "rsi_signal": 0,
         "ao_signal": 0,
         "Returns": 0,
         "Binary Return": 0,
         "_deepnote_index_column": "2019-09-01 06:00:00+01:00"
        },
        {
         "Close": 0.2585000097751617,
         "macd_signal": 0,
         "aroon_signal": 0,
         "rsi_signal": 0,
         "ao_signal": 0,
         "Returns": 0.0015498131206193033,
         "Binary Return": 1,
         "_deepnote_index_column": "2019-09-01 07:00:00+01:00"
        },
        {
         "Close": 0.2581999897956848,
         "macd_signal": 0,
         "aroon_signal": 0,
         "rsi_signal": 0,
         "ao_signal": 0,
         "Returns": -0.001160618832230731,
         "Binary Return": 0,
         "_deepnote_index_column": "2019-09-01 08:00:00+01:00"
        },
        {
         "Close": 0.2567000091075897,
         "macd_signal": 0,
         "aroon_signal": 0,
         "rsi_signal": 0,
         "ao_signal": 0,
         "Returns": -0.005809375473957323,
         "Binary Return": 0,
         "_deepnote_index_column": "2019-09-01 09:00:00+01:00"
        },
        {
         "Close": 0.2563999891281128,
         "macd_signal": 0,
         "aroon_signal": 0,
         "rsi_signal": 0,
         "ao_signal": 0,
         "Returns": -0.001168757182829605,
         "Binary Return": 0,
         "_deepnote_index_column": "2019-09-01 10:00:00+01:00"
        },
        {
         "Close": 0.2558000087738037,
         "macd_signal": 0,
         "aroon_signal": 0,
         "rsi_signal": 0,
         "ao_signal": 0,
         "Returns": -0.0023400170817062804,
         "Binary Return": 0,
         "_deepnote_index_column": "2019-09-01 11:00:00+01:00"
        },
        {
         "Close": 0.2551000118255615,
         "macd_signal": 0,
         "aroon_signal": 0,
         "rsi_signal": 0,
         "ao_signal": 0,
         "Returns": -0.002736500876593717,
         "Binary Return": 0,
         "_deepnote_index_column": "2019-09-01 12:00:00+01:00"
        },
        {
         "Close": 0.2556999921798706,
         "macd_signal": 0,
         "aroon_signal": 0,
         "rsi_signal": 0,
         "ao_signal": 0,
         "Returns": 0.0023519416953980965,
         "Binary Return": 1,
         "_deepnote_index_column": "2019-09-01 13:00:00+01:00"
        },
        {
         "Close": 0.2549000084400177,
         "macd_signal": 0,
         "aroon_signal": 0,
         "rsi_signal": 0,
         "ao_signal": 0,
         "Returns": -0.003128602910907219,
         "Binary Return": 0,
         "_deepnote_index_column": "2019-09-01 14:00:00+01:00"
        },
        {
         "Close": 0.2549999952316284,
         "macd_signal": 0,
         "aroon_signal": 0,
         "rsi_signal": 0,
         "ao_signal": 0,
         "Returns": 0.00039225887916849445,
         "Binary Return": 1,
         "_deepnote_index_column": "2019-09-01 15:00:00+01:00"
        },
        {
         "Close": 0.2560999989509582,
         "macd_signal": 0,
         "aroon_signal": 0,
         "rsi_signal": 0,
         "ao_signal": 0,
         "Returns": 0.0043137401564679045,
         "Binary Return": 1,
         "_deepnote_index_column": "2019-09-01 16:00:00+01:00"
        },
        {
         "Close": 0.2542000114917755,
         "macd_signal": 0,
         "aroon_signal": 0,
         "rsi_signal": 0,
         "ao_signal": 0,
         "Returns": -0.0074189280240744004,
         "Binary Return": 0,
         "_deepnote_index_column": "2019-09-01 17:00:00+01:00"
        },
        {
         "Close": 0.2542000114917755,
         "macd_signal": 0,
         "aroon_signal": 0,
         "rsi_signal": 0,
         "ao_signal": 0,
         "Returns": 0,
         "Binary Return": 0,
         "_deepnote_index_column": "2019-09-01 18:00:00+01:00"
        },
        {
         "Close": 0.2551999986171722,
         "macd_signal": 0,
         "aroon_signal": 0,
         "rsi_signal": 0,
         "ao_signal": 0,
         "Returns": 0.003933859481469959,
         "Binary Return": 1,
         "_deepnote_index_column": "2019-09-01 19:00:00+01:00"
        },
        {
         "Close": 0.2558999955654144,
         "macd_signal": 0,
         "aroon_signal": 0,
         "rsi_signal": 0,
         "ao_signal": 0,
         "Returns": 0.002742934765028293,
         "Binary Return": 1,
         "_deepnote_index_column": "2019-09-01 20:00:00+01:00"
        },
        {
         "Close": 0.2563999891281128,
         "macd_signal": 0,
         "aroon_signal": 0,
         "rsi_signal": 0,
         "ao_signal": 0,
         "Returns": 0.0019538631159163877,
         "Binary Return": 1,
         "_deepnote_index_column": "2019-09-01 21:00:00+01:00"
        },
        {
         "Close": 0.2567999958992004,
         "macd_signal": 1,
         "aroon_signal": 0,
         "rsi_signal": 0,
         "ao_signal": 0,
         "Returns": 0.0015600888769449206,
         "Binary Return": 1,
         "_deepnote_index_column": "2019-09-01 22:00:00+01:00"
        },
        {
         "Close": 0.2572999894618988,
         "macd_signal": 0,
         "aroon_signal": 0,
         "rsi_signal": 0,
         "ao_signal": 0,
         "Returns": 0.0019470154621601399,
         "Binary Return": 1,
         "_deepnote_index_column": "2019-09-01 23:00:00+01:00"
        },
        {
         "Close": 0.2569000124931335,
         "macd_signal": 0,
         "aroon_signal": 0,
         "rsi_signal": 0,
         "ao_signal": 0,
         "Returns": -0.0015545160713057449,
         "Binary Return": 0,
         "_deepnote_index_column": "2019-09-02 00:00:00+01:00"
        },
        {
         "Close": 0.2558000087738037,
         "macd_signal": 0,
         "aroon_signal": 0,
         "rsi_signal": 0,
         "ao_signal": 0,
         "Returns": -0.004281835990020411,
         "Binary Return": 0,
         "_deepnote_index_column": "2019-09-02 01:00:00+01:00"
        },
        {
         "Close": 0.2554999887943268,
         "macd_signal": 0,
         "aroon_signal": 0,
         "rsi_signal": 0,
         "ao_signal": 0,
         "Returns": -0.0011728693087819098,
         "Binary Return": 0,
         "_deepnote_index_column": "2019-09-02 02:00:00+01:00"
        },
        {
         "Close": 0.2558000087738037,
         "macd_signal": 0,
         "aroon_signal": 0,
         "rsi_signal": 0,
         "ao_signal": 0,
         "Returns": 0.0011742465465172103,
         "Binary Return": 1,
         "_deepnote_index_column": "2019-09-02 03:00:00+01:00"
        },
        {
         "Close": 0.2554999887943268,
         "macd_signal": 0,
         "aroon_signal": 0,
         "rsi_signal": 0,
         "ao_signal": 0,
         "Returns": -0.0011728693087819098,
         "Binary Return": 0,
         "_deepnote_index_column": "2019-09-02 04:00:00+01:00"
        },
        {
         "Close": 0.2554999887943268,
         "macd_signal": 0,
         "aroon_signal": 0,
         "rsi_signal": 0,
         "ao_signal": 0,
         "Returns": 0,
         "Binary Return": 0,
         "_deepnote_index_column": "2019-09-02 05:00:00+01:00"
        },
        {
         "Close": 0.2552999854087829,
         "macd_signal": 0,
         "aroon_signal": 0,
         "rsi_signal": 0,
         "ao_signal": 0,
         "Returns": -0.0007827921499631296,
         "Binary Return": 0,
         "_deepnote_index_column": "2019-09-02 06:00:00+01:00"
        },
        {
         "Close": 0.2549999952316284,
         "macd_signal": 0,
         "aroon_signal": 0,
         "rsi_signal": 0,
         "ao_signal": 0,
         "Returns": -0.001175049723070476,
         "Binary Return": 0,
         "_deepnote_index_column": "2019-09-02 07:00:00+01:00"
        },
        {
         "Close": 0.2542999982833862,
         "macd_signal": 0,
         "aroon_signal": 0,
         "rsi_signal": 0,
         "ao_signal": 0,
         "Returns": -0.002745086122869944,
         "Binary Return": 0,
         "_deepnote_index_column": "2019-09-02 08:00:00+01:00"
        },
        {
         "Close": 0.2544000148773193,
         "macd_signal": -1,
         "aroon_signal": 0,
         "rsi_signal": 0,
         "ao_signal": 0,
         "Returns": 0.00039330159106665263,
         "Binary Return": 1,
         "_deepnote_index_column": "2019-09-02 09:00:00+01:00"
        },
        {
         "Close": 0.2549999952316284,
         "macd_signal": 0,
         "aroon_signal": 0,
         "rsi_signal": 0,
         "ao_signal": 0,
         "Returns": 0.0023584132044900397,
         "Binary Return": 1,
         "_deepnote_index_column": "2019-09-02 10:00:00+01:00"
        },
        {
         "Close": 0.2545999884605407,
         "macd_signal": 0,
         "aroon_signal": 0,
         "rsi_signal": 0,
         "ao_signal": 0,
         "Returns": -0.0015686540335985155,
         "Binary Return": 0,
         "_deepnote_index_column": "2019-09-02 11:00:00+01:00"
        },
        {
         "Close": 0.2556999921798706,
         "macd_signal": 0,
         "aroon_signal": 0,
         "rsi_signal": 0,
         "ao_signal": -1,
         "Returns": 0.004320517553756176,
         "Binary Return": 1,
         "_deepnote_index_column": "2019-09-02 12:00:00+01:00"
        },
        {
         "Close": 0.2549999952316284,
         "macd_signal": 1,
         "aroon_signal": 0,
         "rsi_signal": 0,
         "ao_signal": 0,
         "Returns": -0.002737571254009974,
         "Binary Return": 0,
         "_deepnote_index_column": "2019-09-02 13:00:00+01:00"
        },
        {
         "Close": 0.257999986410141,
         "macd_signal": 0,
         "aroon_signal": 0,
         "rsi_signal": 0,
         "ao_signal": 0,
         "Returns": 0.01176467150827798,
         "Binary Return": 1,
         "_deepnote_index_column": "2019-09-02 14:00:00+01:00"
        },
        {
         "Close": 0.2576000094413757,
         "macd_signal": 0,
         "aroon_signal": 1,
         "rsi_signal": 0,
         "ao_signal": 0,
         "Returns": -0.0015502984102079287,
         "Binary Return": 0,
         "_deepnote_index_column": "2019-09-02 15:00:00+01:00"
        },
        {
         "Close": 0.2569999992847442,
         "macd_signal": 0,
         "aroon_signal": 0,
         "rsi_signal": 0,
         "ao_signal": 1,
         "Returns": -0.0023292318891317,
         "Binary Return": 0,
         "_deepnote_index_column": "2019-09-02 16:00:00+01:00"
        },
        {
         "Close": 0.2578000128269195,
         "macd_signal": 0,
         "aroon_signal": 0,
         "rsi_signal": 0,
         "ao_signal": 0,
         "Returns": 0.0031128931688786388,
         "Binary Return": 1,
         "_deepnote_index_column": "2019-09-02 17:00:00+01:00"
        },
        {
         "Close": 0.2587000131607055,
         "macd_signal": 0,
         "aroon_signal": 0,
         "rsi_signal": 0,
         "ao_signal": 0,
         "Returns": 0.003491079476362291,
         "Binary Return": 1,
         "_deepnote_index_column": "2019-09-02 18:00:00+01:00"
        },
        {
         "Close": 0.260699987411499,
         "macd_signal": 0,
         "aroon_signal": 0,
         "rsi_signal": 0,
         "ao_signal": 0,
         "Returns": 0.007730862578468889,
         "Binary Return": 1,
         "_deepnote_index_column": "2019-09-02 19:00:00+01:00"
        },
        {
         "Close": 0.2608999907970428,
         "macd_signal": 0,
         "aroon_signal": 0,
         "rsi_signal": 0,
         "ao_signal": 0,
         "Returns": 0.00076717834753115,
         "Binary Return": 1,
         "_deepnote_index_column": "2019-09-02 20:00:00+01:00"
        },
        {
         "Close": 0.2628999948501587,
         "macd_signal": 0,
         "aroon_signal": 0,
         "rsi_signal": 0,
         "ao_signal": 0,
         "Returns": 0.007665788132095841,
         "Binary Return": 1,
         "_deepnote_index_column": "2019-09-02 21:00:00+01:00"
        },
        {
         "Close": 0.2630999982357025,
         "macd_signal": 0,
         "aroon_signal": 0,
         "rsi_signal": 1,
         "ao_signal": 0,
         "Returns": 0.0007607584232087738,
         "Binary Return": 1,
         "_deepnote_index_column": "2019-09-02 22:00:00+01:00"
        },
        {
         "Close": 0.2624000012874603,
         "macd_signal": 0,
         "aroon_signal": 0,
         "rsi_signal": 0,
         "ao_signal": 0,
         "Returns": -0.0026605737473821556,
         "Binary Return": 0,
         "_deepnote_index_column": "2019-09-02 23:00:00+01:00"
        },
        {
         "Close": 0.261599987745285,
         "macd_signal": 0,
         "aroon_signal": 0,
         "rsi_signal": 0,
         "ao_signal": 0,
         "Returns": -0.003048832081745778,
         "Binary Return": 0,
         "_deepnote_index_column": "2019-09-03 00:00:00+01:00"
        },
        {
         "Close": 0.2608000040054321,
         "macd_signal": 0,
         "aroon_signal": 0,
         "rsi_signal": 0,
         "ao_signal": 0,
         "Returns": -0.003058041962264335,
         "Binary Return": 0,
         "_deepnote_index_column": "2019-09-03 01:00:00+01:00"
        },
        {
         "Close": 0.2606000006198883,
         "macd_signal": 0,
         "aroon_signal": 0,
         "rsi_signal": 0,
         "ao_signal": 0,
         "Returns": -0.0007668841352456157,
         "Binary Return": 0,
         "_deepnote_index_column": "2019-09-03 02:00:00+01:00"
        },
        {
         "Close": 0.2608000040054321,
         "macd_signal": 0,
         "aroon_signal": 0,
         "rsi_signal": 0,
         "ao_signal": 0,
         "Returns": 0.0007674726978819102,
         "Binary Return": 1,
         "_deepnote_index_column": "2019-09-03 03:00:00+01:00"
        },
        {
         "Close": 0.2615000009536743,
         "macd_signal": 0,
         "aroon_signal": 0,
         "rsi_signal": 0,
         "ao_signal": 0,
         "Returns": 0.0026840373370073944,
         "Binary Return": 1,
         "_deepnote_index_column": "2019-09-03 04:00:00+01:00"
        },
        {
         "Close": 0.2614000141620636,
         "macd_signal": 0,
         "aroon_signal": 0,
         "rsi_signal": 0,
         "ao_signal": 0,
         "Returns": -0.00038235866633296034,
         "Binary Return": 0,
         "_deepnote_index_column": "2019-09-03 05:00:00+01:00"
        },
        {
         "Close": 0.2612999975681305,
         "macd_signal": 0,
         "aroon_signal": 0,
         "rsi_signal": 0,
         "ao_signal": 0,
         "Returns": -0.0003826189308127059,
         "Binary Return": 0,
         "_deepnote_index_column": "2019-09-03 06:00:00+01:00"
        },
        {
         "Close": 0.2610000073909759,
         "macd_signal": 0,
         "aroon_signal": 0,
         "rsi_signal": 0,
         "ao_signal": 0,
         "Returns": -0.0011480680441888769,
         "Binary Return": 0,
         "_deepnote_index_column": "2019-09-03 07:00:00+01:00"
        },
        {
         "Close": 0.260699987411499,
         "macd_signal": -1,
         "aroon_signal": 0,
         "rsi_signal": 0,
         "ao_signal": 0,
         "Returns": -0.0011495018045246663,
         "Binary Return": 0,
         "_deepnote_index_column": "2019-09-03 08:00:00+01:00"
        },
        {
         "Close": 0.2603999972343445,
         "macd_signal": 0,
         "aroon_signal": 0,
         "rsi_signal": 0,
         "ao_signal": 0,
         "Returns": -0.0011507103630236104,
         "Binary Return": 0,
         "_deepnote_index_column": "2019-09-03 09:00:00+01:00"
        },
        {
         "Close": 0.258899986743927,
         "macd_signal": 0,
         "aroon_signal": 0,
         "rsi_signal": 0,
         "ao_signal": 0,
         "Returns": -0.005760409010555967,
         "Binary Return": 0,
         "_deepnote_index_column": "2019-09-03 10:00:00+01:00"
        },
        {
         "Close": 0.2601000070571899,
         "macd_signal": 0,
         "aroon_signal": 0,
         "rsi_signal": 0,
         "ao_signal": 0,
         "Returns": 0.00463507290345988,
         "Binary Return": 1,
         "_deepnote_index_column": "2019-09-03 11:00:00+01:00"
        },
        {
         "Close": 0.2601000070571899,
         "macd_signal": 0,
         "aroon_signal": 0,
         "rsi_signal": 0,
         "ao_signal": 0,
         "Returns": 0,
         "Binary Return": 0,
         "_deepnote_index_column": "2019-09-03 12:00:00+01:00"
        },
        {
         "Close": 0.2621000111103058,
         "macd_signal": 0,
         "aroon_signal": 0,
         "rsi_signal": 0,
         "ao_signal": 0,
         "Returns": 0.007689365624185207,
         "Binary Return": 1,
         "_deepnote_index_column": "2019-09-03 13:00:00+01:00"
        },
        {
         "Close": 0.2646999955177307,
         "macd_signal": 0,
         "aroon_signal": 0,
         "rsi_signal": 0,
         "ao_signal": 0,
         "Returns": 0.009919817997759317,
         "Binary Return": 1,
         "_deepnote_index_column": "2019-09-03 14:00:00+01:00"
        },
        {
         "Close": 0.2635000050067901,
         "macd_signal": 1,
         "aroon_signal": 0,
         "rsi_signal": 0,
         "ao_signal": 0,
         "Returns": -0.004533398304724323,
         "Binary Return": 0,
         "_deepnote_index_column": "2019-09-03 15:00:00+01:00"
        },
        {
         "Close": 0.2637999951839447,
         "macd_signal": 0,
         "aroon_signal": 0,
         "rsi_signal": 0,
         "ao_signal": 0,
         "Returns": 0.0011384826241156443,
         "Binary Return": 1,
         "_deepnote_index_column": "2019-09-03 16:00:00+01:00"
        },
        {
         "Close": 0.2630000114440918,
         "macd_signal": 0,
         "aroon_signal": 0,
         "rsi_signal": 0,
         "ao_signal": 0,
         "Returns": -0.00303253887209165,
         "Binary Return": 0,
         "_deepnote_index_column": "2019-09-03 17:00:00+01:00"
        },
        {
         "Close": 0.2619999945163727,
         "macd_signal": 0,
         "aroon_signal": 0,
         "rsi_signal": 0,
         "ao_signal": 0,
         "Returns": -0.0038023455673183992,
         "Binary Return": 0,
         "_deepnote_index_column": "2019-09-03 18:00:00+01:00"
        },
        {
         "Close": 0.2619999945163727,
         "macd_signal": 0,
         "aroon_signal": 0,
         "rsi_signal": 0,
         "ao_signal": 0,
         "Returns": 0,
         "Binary Return": 0,
         "_deepnote_index_column": "2019-09-03 19:00:00+01:00"
        },
        {
         "Close": 0.2624000012874603,
         "macd_signal": -1,
         "aroon_signal": 0,
         "rsi_signal": 0,
         "ao_signal": 0,
         "Returns": 0.0015267434330523688,
         "Binary Return": 1,
         "_deepnote_index_column": "2019-09-03 20:00:00+01:00"
        },
        {
         "Close": 0.263399988412857,
         "macd_signal": 0,
         "aroon_signal": 0,
         "rsi_signal": 0,
         "ao_signal": 0,
         "Returns": 0.0038109265262586955,
         "Binary Return": 1,
         "_deepnote_index_column": "2019-09-03 21:00:00+01:00"
        },
        {
         "Close": 0.2640999853610992,
         "macd_signal": 0,
         "aroon_signal": 0,
         "rsi_signal": 0,
         "ao_signal": 0,
         "Returns": 0.002657543580241173,
         "Binary Return": 1,
         "_deepnote_index_column": "2019-09-03 22:00:00+01:00"
        },
        {
         "Close": 0.26460000872612,
         "macd_signal": 1,
         "aroon_signal": 0,
         "rsi_signal": 0,
         "ao_signal": 0,
         "Returns": 0.0018933108395939868,
         "Binary Return": 1,
         "_deepnote_index_column": "2019-09-03 23:00:00+01:00"
        },
        {
         "Close": 0.2632000148296356,
         "macd_signal": 0,
         "aroon_signal": 0,
         "rsi_signal": 0,
         "ao_signal": 0,
         "Returns": -0.005290982049564019,
         "Binary Return": 0,
         "_deepnote_index_column": "2019-09-04 00:00:00+01:00"
        }
       ],
       "rows_bottom": [
        {
         "Close": 0.8221371173858643,
         "macd_signal": 0,
         "aroon_signal": 0,
         "rsi_signal": 0,
         "ao_signal": 0,
         "Returns": 0.006957579091870336,
         "Binary Return": 1,
         "_deepnote_index_column": "2021-08-08 06:00:00+01:00"
        },
        {
         "Close": 0.8285307884216309,
         "macd_signal": 0,
         "aroon_signal": 0,
         "rsi_signal": 0,
         "ao_signal": 0,
         "Returns": 0.007776891348850068,
         "Binary Return": 1,
         "_deepnote_index_column": "2021-08-08 07:00:00+01:00"
        },
        {
         "Close": 0.8223246335983276,
         "macd_signal": 1,
         "aroon_signal": 0,
         "rsi_signal": 0,
         "ao_signal": 0,
         "Returns": -0.007490554255836557,
         "Binary Return": 0,
         "_deepnote_index_column": "2021-08-08 08:00:00+01:00"
        },
        {
         "Close": 0.8114379644393921,
         "macd_signal": -1,
         "aroon_signal": 0,
         "rsi_signal": 0,
         "ao_signal": 0,
         "Returns": -0.013238894609416851,
         "Binary Return": 0,
         "_deepnote_index_column": "2021-08-08 09:00:00+01:00"
        },
        {
         "Close": 0.8126380443572998,
         "macd_signal": 0,
         "aroon_signal": 0,
         "rsi_signal": 0,
         "ao_signal": 0,
         "Returns": 0.0014789546095945738,
         "Binary Return": 1,
         "_deepnote_index_column": "2021-08-08 10:00:00+01:00"
        },
        {
         "Close": 0.8030365109443665,
         "macd_signal": 0,
         "aroon_signal": 0,
         "rsi_signal": 0,
         "ao_signal": 0,
         "Returns": -0.011815264470576237,
         "Binary Return": 0,
         "_deepnote_index_column": "2021-08-08 11:00:00+01:00"
        },
        {
         "Close": 0.8001503944396973,
         "macd_signal": 0,
         "aroon_signal": 0,
         "rsi_signal": 0,
         "ao_signal": 0,
         "Returns": -0.0035940040898951864,
         "Binary Return": 0,
         "_deepnote_index_column": "2021-08-08 12:00:00+01:00"
        },
        {
         "Close": 0.8123614192008972,
         "macd_signal": 0,
         "aroon_signal": 0,
         "rsi_signal": 0,
         "ao_signal": 0,
         "Returns": 0.015260912006111793,
         "Binary Return": 1,
         "_deepnote_index_column": "2021-08-08 13:00:00+01:00"
        },
        {
         "Close": 0.8075140118598938,
         "macd_signal": 0,
         "aroon_signal": 0,
         "rsi_signal": 0,
         "ao_signal": 0,
         "Returns": -0.005967057551516608,
         "Binary Return": 0,
         "_deepnote_index_column": "2021-08-08 14:00:00+01:00"
        },
        {
         "Close": 0.7874436974525452,
         "macd_signal": 0,
         "aroon_signal": 0,
         "rsi_signal": 0,
         "ao_signal": 0,
         "Returns": -0.024854447244973543,
         "Binary Return": 0,
         "_deepnote_index_column": "2021-08-08 15:00:00+01:00"
        },
        {
         "Close": 0.7861583828926086,
         "macd_signal": 0,
         "aroon_signal": 0,
         "rsi_signal": 0,
         "ao_signal": 0,
         "Returns": -0.0016322621720062935,
         "Binary Return": 0,
         "_deepnote_index_column": "2021-08-08 16:00:00+01:00"
        },
        {
         "Close": 0.779674768447876,
         "macd_signal": 0,
         "aroon_signal": 0,
         "rsi_signal": 0,
         "ao_signal": 0,
         "Returns": -0.008247211485396533,
         "Binary Return": 0,
         "_deepnote_index_column": "2021-08-08 17:00:00+01:00"
        },
        {
         "Close": 0.7871766686439514,
         "macd_signal": 0,
         "aroon_signal": 0,
         "rsi_signal": 0,
         "ao_signal": -1,
         "Returns": 0.009621832717518597,
         "Binary Return": 1,
         "_deepnote_index_column": "2021-08-08 18:00:00+01:00"
        },
        {
         "Close": 0.7815697193145752,
         "macd_signal": 0,
         "aroon_signal": 0,
         "rsi_signal": 0,
         "ao_signal": 0,
         "Returns": -0.007122860156710598,
         "Binary Return": 0,
         "_deepnote_index_column": "2021-08-08 19:00:00+01:00"
        },
        {
         "Close": 0.778918445110321,
         "macd_signal": 0,
         "aroon_signal": -1,
         "rsi_signal": 0,
         "ao_signal": 0,
         "Returns": -0.00339224273757599,
         "Binary Return": 0,
         "_deepnote_index_column": "2021-08-08 20:00:00+01:00"
        },
        {
         "Close": 0.7842029929161072,
         "macd_signal": 0,
         "aroon_signal": 0,
         "rsi_signal": 0,
         "ao_signal": 0,
         "Returns": 0.006784468693686652,
         "Binary Return": 1,
         "_deepnote_index_column": "2021-08-08 21:00:00+01:00"
        },
        {
         "Close": 0.7921290397644043,
         "macd_signal": 0,
         "aroon_signal": 0,
         "rsi_signal": 0,
         "ao_signal": 0,
         "Returns": 0.01010713669788954,
         "Binary Return": 1,
         "_deepnote_index_column": "2021-08-08 22:00:00+01:00"
        },
        {
         "Close": 0.7942468523979187,
         "macd_signal": 0,
         "aroon_signal": 0,
         "rsi_signal": 0,
         "ao_signal": 0,
         "Returns": 0.0026735702482820756,
         "Binary Return": 1,
         "_deepnote_index_column": "2021-08-08 23:00:00+01:00"
        },
        {
         "Close": 0.7787393927574158,
         "macd_signal": 0,
         "aroon_signal": 0,
         "rsi_signal": 0,
         "ao_signal": 0,
         "Returns": -0.019524735406485028,
         "Binary Return": 0,
         "_deepnote_index_column": "2021-08-09 00:00:00+01:00"
        },
        {
         "Close": 0.7659614086151123,
         "macd_signal": 0,
         "aroon_signal": 0,
         "rsi_signal": 0,
         "ao_signal": 0,
         "Returns": -0.016408549844972198,
         "Binary Return": 0,
         "_deepnote_index_column": "2021-08-09 01:00:00+01:00"
        },
        {
         "Close": 0.7699768543243408,
         "macd_signal": 0,
         "aroon_signal": 0,
         "rsi_signal": 0,
         "ao_signal": 0,
         "Returns": 0.005242360338347352,
         "Binary Return": 1,
         "_deepnote_index_column": "2021-08-09 02:00:00+01:00"
        },
        {
         "Close": 0.7788583636283875,
         "macd_signal": 0,
         "aroon_signal": 0,
         "rsi_signal": 0,
         "ao_signal": 0,
         "Returns": 0.01153477439505668,
         "Binary Return": 1,
         "_deepnote_index_column": "2021-08-09 03:00:00+01:00"
        },
        {
         "Close": 0.7826113104820251,
         "macd_signal": 0,
         "aroon_signal": 0,
         "rsi_signal": 0,
         "ao_signal": 0,
         "Returns": 0.004818522890547516,
         "Binary Return": 1,
         "_deepnote_index_column": "2021-08-09 04:00:00+01:00"
        },
        {
         "Close": 0.7949040532112122,
         "macd_signal": 0,
         "aroon_signal": 0,
         "rsi_signal": 0,
         "ao_signal": 0,
         "Returns": 0.01570734100637483,
         "Binary Return": 1,
         "_deepnote_index_column": "2021-08-09 05:00:00+01:00"
        },
        {
         "Close": 0.7881271839141846,
         "macd_signal": 0,
         "aroon_signal": 0,
         "rsi_signal": 0,
         "ao_signal": 0,
         "Returns": -0.008525392806403187,
         "Binary Return": 0,
         "_deepnote_index_column": "2021-08-09 06:00:00+01:00"
        },
        {
         "Close": 0.787296712398529,
         "macd_signal": 1,
         "aroon_signal": 0,
         "rsi_signal": 0,
         "ao_signal": 0,
         "Returns": -0.0010537277898866604,
         "Binary Return": 0,
         "_deepnote_index_column": "2021-08-09 07:00:00+01:00"
        },
        {
         "Close": 0.7967813014984131,
         "macd_signal": 0,
         "aroon_signal": 0,
         "rsi_signal": 0,
         "ao_signal": 0,
         "Returns": 0.012047032523467394,
         "Binary Return": 1,
         "_deepnote_index_column": "2021-08-09 08:00:00+01:00"
        },
        {
         "Close": 0.7981806397438049,
         "macd_signal": 0,
         "aroon_signal": 0,
         "rsi_signal": 0,
         "ao_signal": 0,
         "Returns": 0.0017562388107756899,
         "Binary Return": 1,
         "_deepnote_index_column": "2021-08-09 09:00:00+01:00"
        },
        {
         "Close": 0.8096413016319275,
         "macd_signal": 0,
         "aroon_signal": 0,
         "rsi_signal": 0,
         "ao_signal": 0,
         "Returns": 0.014358481423204061,
         "Binary Return": 1,
         "_deepnote_index_column": "2021-08-09 10:00:00+01:00"
        },
        {
         "Close": 0.816961407661438,
         "macd_signal": 0,
         "aroon_signal": 0,
         "rsi_signal": 0,
         "ao_signal": 0,
         "Returns": 0.009041171707465878,
         "Binary Return": 1,
         "_deepnote_index_column": "2021-08-09 11:00:00+01:00"
        },
        {
         "Close": 0.8193760514259338,
         "macd_signal": 0,
         "aroon_signal": 0,
         "rsi_signal": 0,
         "ao_signal": 1,
         "Returns": 0.0029556399382533183,
         "Binary Return": 1,
         "_deepnote_index_column": "2021-08-09 12:00:00+01:00"
        },
        {
         "Close": 0.8166133165359497,
         "macd_signal": 0,
         "aroon_signal": 0,
         "rsi_signal": 0,
         "ao_signal": 0,
         "Returns": -0.0033717545017043493,
         "Binary Return": 0,
         "_deepnote_index_column": "2021-08-09 13:00:00+01:00"
        },
        {
         "Close": 0.8115898370742798,
         "macd_signal": 0,
         "aroon_signal": 0,
         "rsi_signal": 0,
         "ao_signal": 0,
         "Returns": -0.006151601204569368,
         "Binary Return": 0,
         "_deepnote_index_column": "2021-08-09 14:00:00+01:00"
        },
        {
         "Close": 0.8130114674568176,
         "macd_signal": 0,
         "aroon_signal": 0,
         "rsi_signal": 0,
         "ao_signal": 0,
         "Returns": 0.0017516611440857588,
         "Binary Return": 1,
         "_deepnote_index_column": "2021-08-09 15:00:00+01:00"
        },
        {
         "Close": 0.8204382061958313,
         "macd_signal": 0,
         "aroon_signal": 0,
         "rsi_signal": 0,
         "ao_signal": 0,
         "Returns": 0.00913485115067969,
         "Binary Return": 1,
         "_deepnote_index_column": "2021-08-09 16:00:00+01:00"
        },
        {
         "Close": 0.817124605178833,
         "macd_signal": 0,
         "aroon_signal": 0,
         "rsi_signal": 0,
         "ao_signal": 0,
         "Returns": -0.004038818514270126,
         "Binary Return": 0,
         "_deepnote_index_column": "2021-08-09 17:00:00+01:00"
        },
        {
         "Close": 0.8183885216712952,
         "macd_signal": 0,
         "aroon_signal": 0,
         "rsi_signal": 0,
         "ao_signal": 0,
         "Returns": 0.0015467855018092003,
         "Binary Return": 1,
         "_deepnote_index_column": "2021-08-09 18:00:00+01:00"
        },
        {
         "Close": 0.8223690390586853,
         "macd_signal": 0,
         "aroon_signal": 0,
         "rsi_signal": 0,
         "ao_signal": 0,
         "Returns": 0.004863848015929095,
         "Binary Return": 1,
         "_deepnote_index_column": "2021-08-09 19:00:00+01:00"
        },
        {
         "Close": 0.8158291578292847,
         "macd_signal": 0,
         "aroon_signal": 1,
         "rsi_signal": 0,
         "ao_signal": 0,
         "Returns": -0.007952489598692103,
         "Binary Return": 0,
         "_deepnote_index_column": "2021-08-09 20:00:00+01:00"
        },
        {
         "Close": 0.8055914044380188,
         "macd_signal": 0,
         "aroon_signal": 0,
         "rsi_signal": 0,
         "ao_signal": 0,
         "Returns": -0.012548893715083609,
         "Binary Return": 0,
         "_deepnote_index_column": "2021-08-09 21:00:00+01:00"
        },
        {
         "Close": 0.8096583485603333,
         "macd_signal": 0,
         "aroon_signal": 0,
         "rsi_signal": 0,
         "ao_signal": 0,
         "Returns": 0.00504839562575965,
         "Binary Return": 1,
         "_deepnote_index_column": "2021-08-09 22:00:00+01:00"
        },
        {
         "Close": 0.8194264769554138,
         "macd_signal": -1,
         "aroon_signal": 0,
         "rsi_signal": 0,
         "ao_signal": 0,
         "Returns": 0.012064506482826198,
         "Binary Return": 1,
         "_deepnote_index_column": "2021-08-09 23:00:00+01:00"
        },
        {
         "Close": 0.8185535073280334,
         "macd_signal": 1,
         "aroon_signal": 0,
         "rsi_signal": 0,
         "ao_signal": 0,
         "Returns": -0.0010653422264604862,
         "Binary Return": 0,
         "_deepnote_index_column": "2021-08-10 00:00:00+01:00"
        },
        {
         "Close": 0.8124653100967407,
         "macd_signal": 0,
         "aroon_signal": 0,
         "rsi_signal": 0,
         "ao_signal": 0,
         "Returns": -0.007437751077710386,
         "Binary Return": 0,
         "_deepnote_index_column": "2021-08-10 01:00:00+01:00"
        },
        {
         "Close": 0.811424195766449,
         "macd_signal": -1,
         "aroon_signal": 0,
         "rsi_signal": 0,
         "ao_signal": 0,
         "Returns": -0.001281426194267632,
         "Binary Return": 0,
         "_deepnote_index_column": "2021-08-10 02:00:00+01:00"
        },
        {
         "Close": 0.8144153356552124,
         "macd_signal": 0,
         "aroon_signal": 0,
         "rsi_signal": 0,
         "ao_signal": 0,
         "Returns": 0.0036862838258575614,
         "Binary Return": 1,
         "_deepnote_index_column": "2021-08-10 03:00:00+01:00"
        },
        {
         "Close": 0.8044356107711792,
         "macd_signal": 0,
         "aroon_signal": 0,
         "rsi_signal": 0,
         "ao_signal": 0,
         "Returns": -0.01225385187031669,
         "Binary Return": 0,
         "_deepnote_index_column": "2021-08-10 04:00:00+01:00"
        },
        {
         "Close": 0.8098970651626587,
         "macd_signal": 0,
         "aroon_signal": 0,
         "rsi_signal": 0,
         "ao_signal": 0,
         "Returns": 0.006789175315403906,
         "Binary Return": 1,
         "_deepnote_index_column": "2021-08-10 05:00:00+01:00"
        },
        {
         "Close": 0.8105202913284302,
         "macd_signal": 0,
         "aroon_signal": 0,
         "rsi_signal": 0,
         "ao_signal": 0,
         "Returns": 0.0007695128091942394,
         "Binary Return": 1,
         "_deepnote_index_column": "2021-08-10 06:00:00+01:00"
        },
        {
         "Close": 0.8169611692428589,
         "macd_signal": 0,
         "aroon_signal": 0,
         "rsi_signal": 0,
         "ao_signal": 0,
         "Returns": 0.007946596751911228,
         "Binary Return": 1,
         "_deepnote_index_column": "2021-08-10 07:00:00+01:00"
        },
        {
         "Close": 0.8193774223327637,
         "macd_signal": 0,
         "aroon_signal": 0,
         "rsi_signal": 0,
         "ao_signal": 0,
         "Returns": 0.0029576106929831703,
         "Binary Return": 1,
         "_deepnote_index_column": "2021-08-10 08:00:00+01:00"
        },
        {
         "Close": 0.8201133012771606,
         "macd_signal": 0,
         "aroon_signal": 0,
         "rsi_signal": 0,
         "ao_signal": 0,
         "Returns": 0.0008980952175883239,
         "Binary Return": 1,
         "_deepnote_index_column": "2021-08-10 09:00:00+01:00"
        },
        {
         "Close": 0.8198803067207336,
         "macd_signal": 0,
         "aroon_signal": 0,
         "rsi_signal": 0,
         "ao_signal": 0,
         "Returns": -0.000284100448150415,
         "Binary Return": 0,
         "_deepnote_index_column": "2021-08-10 10:00:00+01:00"
        },
        {
         "Close": 0.807433009147644,
         "macd_signal": 0,
         "aroon_signal": 0,
         "rsi_signal": 0,
         "ao_signal": 0,
         "Returns": -0.015181847241672264,
         "Binary Return": 0,
         "_deepnote_index_column": "2021-08-10 11:00:00+01:00"
        },
        {
         "Close": 0.8152583837509155,
         "macd_signal": 0,
         "aroon_signal": 0,
         "rsi_signal": 0,
         "ao_signal": 0,
         "Returns": 0.009691670410567177,
         "Binary Return": 1,
         "_deepnote_index_column": "2021-08-10 12:00:00+01:00"
        },
        {
         "Close": 0.8490090370178223,
         "macd_signal": 0,
         "aroon_signal": 0,
         "rsi_signal": 0,
         "ao_signal": 0,
         "Returns": 0.041398719644713866,
         "Binary Return": 1,
         "_deepnote_index_column": "2021-08-10 13:00:00+01:00"
        },
        {
         "Close": 0.8354390263557434,
         "macd_signal": 1,
         "aroon_signal": 0,
         "rsi_signal": 0,
         "ao_signal": 0,
         "Returns": -0.015983352438442844,
         "Binary Return": 0,
         "_deepnote_index_column": "2021-08-10 14:00:00+01:00"
        },
        {
         "Close": 0.8288268446922302,
         "macd_signal": 0,
         "aroon_signal": 0,
         "rsi_signal": 0,
         "ao_signal": 0,
         "Returns": -0.00791461908639357,
         "Binary Return": 0,
         "_deepnote_index_column": "2021-08-10 15:00:00+01:00"
        },
        {
         "Close": 0.8237518072128296,
         "macd_signal": 0,
         "aroon_signal": 0,
         "rsi_signal": 0,
         "ao_signal": 0,
         "Returns": -0.00612315770404992,
         "Binary Return": 0,
         "_deepnote_index_column": "2021-08-10 16:00:00+01:00"
        },
        {
         "Close": 0.8138244152069092,
         "macd_signal": 0,
         "aroon_signal": 0,
         "rsi_signal": 0,
         "ao_signal": 0,
         "Returns": -0.012051435783200004,
         "Binary Return": 0,
         "_deepnote_index_column": "2021-08-10 17:00:00+01:00"
        },
        {
         "Close": 0.81997150182724,
         "macd_signal": -1,
         "aroon_signal": 0,
         "rsi_signal": 0,
         "ao_signal": 0,
         "Returns": 0.007553332764989484,
         "Binary Return": 1,
         "_deepnote_index_column": "2021-08-10 18:00:00+01:00"
        },
        {
         "Close": 0.8261918425559998,
         "macd_signal": 0,
         "aroon_signal": 0,
         "rsi_signal": 0,
         "ao_signal": 0,
         "Returns": 0.007586045020952836,
         "Binary Return": 1,
         "_deepnote_index_column": "2021-08-10 19:00:00+01:00"
        },
        {
         "Close": 0.8347495198249817,
         "macd_signal": 0,
         "aroon_signal": 0,
         "rsi_signal": 0,
         "ao_signal": 0,
         "Returns": 0.01035797841153574,
         "Binary Return": 1,
         "_deepnote_index_column": "2021-08-10 20:00:00+01:00"
        },
        {
         "Close": 0.8428434133529663,
         "macd_signal": 1,
         "aroon_signal": 0,
         "rsi_signal": 0,
         "ao_signal": 0,
         "Returns": 0.009696194290332194,
         "Binary Return": 1,
         "_deepnote_index_column": "2021-08-10 21:00:00+01:00"
        },
        {
         "Close": 0.8587751984596252,
         "macd_signal": 0,
         "aroon_signal": 0,
         "rsi_signal": 0,
         "ao_signal": 0,
         "Returns": 0.01890242582934798,
         "Binary Return": 1,
         "_deepnote_index_column": "2021-08-10 22:00:00+01:00"
        },
        {
         "Close": 0.8559402227401733,
         "macd_signal": 0,
         "aroon_signal": 0,
         "rsi_signal": 0,
         "ao_signal": 0,
         "Returns": -0.0033011849020988526,
         "Binary Return": 0,
         "_deepnote_index_column": "2021-08-10 23:00:00+01:00"
        },
        {
         "Close": 0.8512465357780457,
         "macd_signal": 0,
         "aroon_signal": 0,
         "rsi_signal": 0,
         "ao_signal": 0,
         "Returns": -0.00548366210329676,
         "Binary Return": 0,
         "_deepnote_index_column": "2021-08-11 00:00:00+01:00"
        },
        {
         "Close": 0.8692995309829712,
         "macd_signal": 0,
         "aroon_signal": 0,
         "rsi_signal": 0,
         "ao_signal": 0,
         "Returns": 0.021207716502981144,
         "Binary Return": 1,
         "_deepnote_index_column": "2021-08-11 01:00:00+01:00"
        },
        {
         "Close": 0.8713383674621582,
         "macd_signal": 0,
         "aroon_signal": 0,
         "rsi_signal": 0,
         "ao_signal": 0,
         "Returns": 0.0023453785565505925,
         "Binary Return": 1,
         "_deepnote_index_column": "2021-08-11 02:00:00+01:00"
        },
        {
         "Close": 0.871850848197937,
         "macd_signal": 0,
         "aroon_signal": 0,
         "rsi_signal": 0,
         "ao_signal": 0,
         "Returns": 0.0005881535290033213,
         "Binary Return": 1,
         "_deepnote_index_column": "2021-08-11 02:52:03+01:00"
        },
        {
         "Close": 0,
         "macd_signal": 0,
         "aroon_signal": 0,
         "rsi_signal": 0,
         "ao_signal": 0,
         "Returns": -1,
         "Binary Return": 0,
         "_deepnote_index_column": "2021-08-11 03:00:00+01:00"
        }
       ]
      },
      "text/plain": "                              Close  macd_signal  aroon_signal  rsi_signal  \\\n2019-09-01 02:00:00+01:00  0.258400            0             0           0   \n2019-09-01 03:00:00+01:00  0.257800           -1             0          -1   \n2019-09-01 04:00:00+01:00  0.258500            0             0           0   \n2019-09-01 05:00:00+01:00  0.258100            0             0           0   \n2019-09-01 06:00:00+01:00  0.258100            0             0           0   \n...                             ...          ...           ...         ...   \n2021-08-11 00:00:00+01:00  0.851247            0             0           0   \n2021-08-11 01:00:00+01:00  0.869300            0             0           0   \n2021-08-11 02:00:00+01:00  0.871338            0             0           0   \n2021-08-11 02:52:03+01:00  0.871851            0             0           0   \n2021-08-11 03:00:00+01:00  0.000000            0             0           0   \n\n                           ao_signal   Returns  Binary Return  \n2019-09-01 02:00:00+01:00          0 -0.002702              0  \n2019-09-01 03:00:00+01:00          0 -0.002322              0  \n2019-09-01 04:00:00+01:00          0  0.002715              1  \n2019-09-01 05:00:00+01:00          0 -0.001547              0  \n2019-09-01 06:00:00+01:00          0  0.000000              0  \n...                              ...       ...            ...  \n2021-08-11 00:00:00+01:00          0 -0.005484              0  \n2021-08-11 01:00:00+01:00          0  0.021208              1  \n2021-08-11 02:00:00+01:00          0  0.002345              1  \n2021-08-11 02:52:03+01:00          0  0.000588              1  \n2021-08-11 03:00:00+01:00          0 -1.000000              0  \n\n[17003 rows x 7 columns]",
      "text/html": "<div>\n<style scoped>\n    .dataframe tbody tr th:only-of-type {\n        vertical-align: middle;\n    }\n\n    .dataframe tbody tr th {\n        vertical-align: top;\n    }\n\n    .dataframe thead th {\n        text-align: right;\n    }\n</style>\n<table border=\"1\" class=\"dataframe\">\n  <thead>\n    <tr style=\"text-align: right;\">\n      <th></th>\n      <th>Close</th>\n      <th>macd_signal</th>\n      <th>aroon_signal</th>\n      <th>rsi_signal</th>\n      <th>ao_signal</th>\n      <th>Returns</th>\n      <th>Binary Return</th>\n    </tr>\n  </thead>\n  <tbody>\n    <tr>\n      <th>2019-09-01 02:00:00+01:00</th>\n      <td>0.258400</td>\n      <td>0</td>\n      <td>0</td>\n      <td>0</td>\n      <td>0</td>\n      <td>-0.002702</td>\n      <td>0</td>\n    </tr>\n    <tr>\n      <th>2019-09-01 03:00:00+01:00</th>\n      <td>0.257800</td>\n      <td>-1</td>\n      <td>0</td>\n      <td>-1</td>\n      <td>0</td>\n      <td>-0.002322</td>\n      <td>0</td>\n    </tr>\n    <tr>\n      <th>2019-09-01 04:00:00+01:00</th>\n      <td>0.258500</td>\n      <td>0</td>\n      <td>0</td>\n      <td>0</td>\n      <td>0</td>\n      <td>0.002715</td>\n      <td>1</td>\n    </tr>\n    <tr>\n      <th>2019-09-01 05:00:00+01:00</th>\n      <td>0.258100</td>\n      <td>0</td>\n      <td>0</td>\n      <td>0</td>\n      <td>0</td>\n      <td>-0.001547</td>\n      <td>0</td>\n    </tr>\n    <tr>\n      <th>2019-09-01 06:00:00+01:00</th>\n      <td>0.258100</td>\n      <td>0</td>\n      <td>0</td>\n      <td>0</td>\n      <td>0</td>\n      <td>0.000000</td>\n      <td>0</td>\n    </tr>\n    <tr>\n      <th>...</th>\n      <td>...</td>\n      <td>...</td>\n      <td>...</td>\n      <td>...</td>\n      <td>...</td>\n      <td>...</td>\n      <td>...</td>\n    </tr>\n    <tr>\n      <th>2021-08-11 00:00:00+01:00</th>\n      <td>0.851247</td>\n      <td>0</td>\n      <td>0</td>\n      <td>0</td>\n      <td>0</td>\n      <td>-0.005484</td>\n      <td>0</td>\n    </tr>\n    <tr>\n      <th>2021-08-11 01:00:00+01:00</th>\n      <td>0.869300</td>\n      <td>0</td>\n      <td>0</td>\n      <td>0</td>\n      <td>0</td>\n      <td>0.021208</td>\n      <td>1</td>\n    </tr>\n    <tr>\n      <th>2021-08-11 02:00:00+01:00</th>\n      <td>0.871338</td>\n      <td>0</td>\n      <td>0</td>\n      <td>0</td>\n      <td>0</td>\n      <td>0.002345</td>\n      <td>1</td>\n    </tr>\n    <tr>\n      <th>2021-08-11 02:52:03+01:00</th>\n      <td>0.871851</td>\n      <td>0</td>\n      <td>0</td>\n      <td>0</td>\n      <td>0</td>\n      <td>0.000588</td>\n      <td>1</td>\n    </tr>\n    <tr>\n      <th>2021-08-11 03:00:00+01:00</th>\n      <td>0.000000</td>\n      <td>0</td>\n      <td>0</td>\n      <td>0</td>\n      <td>0</td>\n      <td>-1.000000</td>\n      <td>0</td>\n    </tr>\n  </tbody>\n</table>\n<p>17003 rows × 7 columns</p>\n</div>"
     },
     "metadata": {}
    }
   ]
  },
  {
   "cell_type": "code",
   "metadata": {
    "tags": [],
    "cell_id": "00009-8edce739-7919-4a55-91aa-425fcb401845",
    "deepnote_to_be_reexecuted": false,
    "source_hash": "441ed968",
    "execution_start": 1629324842981,
    "execution_millis": 11,
    "deepnote_cell_type": "code"
   },
   "source": "# Construct training start and end dates\ntraining_start = combined_signals_df.index.min()\ntraining_end = '2021-08-11 02:00:00+01:00'\n\n# Construct testing start and end dates\ntesting_start =  '2019-09-01 02:00:00+01:00'\ntesting_end = combined_signals_df.index[-3]\n\n# Print training and testing start/end dates\nprint(f\"Training Start: {training_start}\")\nprint(f\"Training End: {training_end}\")\nprint(f\"Testing Start: {testing_start}\")\nprint(f\"Testing End: {testing_end}\")",
   "execution_count": null,
   "outputs": [
    {
     "name": "stdout",
     "text": "Training Start: 2019-09-01 02:00:00+01:00\nTraining End: 2021-08-11 02:00:00+01:00\nTesting Start: 2019-09-01 02:00:00+01:00\nTesting End: 2021-08-11 02:00:00+01:00\n",
     "output_type": "stream"
    }
   ]
  },
  {
   "cell_type": "code",
   "metadata": {
    "tags": [],
    "cell_id": "00010-6e991558-4be2-48c1-afe6-0ce89bac7629",
    "deepnote_to_be_reexecuted": false,
    "source_hash": "6fbdb3de",
    "execution_start": 1629324843045,
    "execution_millis": 4,
    "deepnote_cell_type": "code"
   },
   "source": "# Construct the X_train and y_train datasets\nX_train = combined_signals_df[['aroon_signal','macd_signal','rsi_signal','ao_signal']][training_start:training_end]\ny_train = combined_signals_df['Binary Return'][training_start:training_end]\n\nX_train.tail()",
   "execution_count": null,
   "outputs": [
    {
     "output_type": "execute_result",
     "execution_count": 11,
     "data": {
      "application/vnd.deepnote.dataframe.v2+json": {
       "row_count": 5,
       "column_count": 4,
       "columns": [
        {
         "name": "aroon_signal",
         "dtype": "int64",
         "stats": {
          "unique_count": 1,
          "nan_count": 0,
          "min": "0",
          "max": "0",
          "histogram": [
           {
            "bin_start": -0.5,
            "bin_end": -0.4,
            "count": 0
           },
           {
            "bin_start": -0.4,
            "bin_end": -0.3,
            "count": 0
           },
           {
            "bin_start": -0.3,
            "bin_end": -0.19999999999999996,
            "count": 0
           },
           {
            "bin_start": -0.19999999999999996,
            "bin_end": -0.09999999999999998,
            "count": 0
           },
           {
            "bin_start": -0.09999999999999998,
            "bin_end": 0,
            "count": 0
           },
           {
            "bin_start": 0,
            "bin_end": 0.10000000000000009,
            "count": 5
           },
           {
            "bin_start": 0.10000000000000009,
            "bin_end": 0.20000000000000007,
            "count": 0
           },
           {
            "bin_start": 0.20000000000000007,
            "bin_end": 0.30000000000000004,
            "count": 0
           },
           {
            "bin_start": 0.30000000000000004,
            "bin_end": 0.4,
            "count": 0
           },
           {
            "bin_start": 0.4,
            "bin_end": 0.5,
            "count": 0
           }
          ]
         }
        },
        {
         "name": "macd_signal",
         "dtype": "int64",
         "stats": {
          "unique_count": 1,
          "nan_count": 0,
          "min": "0",
          "max": "0",
          "histogram": [
           {
            "bin_start": -0.5,
            "bin_end": -0.4,
            "count": 0
           },
           {
            "bin_start": -0.4,
            "bin_end": -0.3,
            "count": 0
           },
           {
            "bin_start": -0.3,
            "bin_end": -0.19999999999999996,
            "count": 0
           },
           {
            "bin_start": -0.19999999999999996,
            "bin_end": -0.09999999999999998,
            "count": 0
           },
           {
            "bin_start": -0.09999999999999998,
            "bin_end": 0,
            "count": 0
           },
           {
            "bin_start": 0,
            "bin_end": 0.10000000000000009,
            "count": 5
           },
           {
            "bin_start": 0.10000000000000009,
            "bin_end": 0.20000000000000007,
            "count": 0
           },
           {
            "bin_start": 0.20000000000000007,
            "bin_end": 0.30000000000000004,
            "count": 0
           },
           {
            "bin_start": 0.30000000000000004,
            "bin_end": 0.4,
            "count": 0
           },
           {
            "bin_start": 0.4,
            "bin_end": 0.5,
            "count": 0
           }
          ]
         }
        },
        {
         "name": "rsi_signal",
         "dtype": "int64",
         "stats": {
          "unique_count": 1,
          "nan_count": 0,
          "min": "0",
          "max": "0",
          "histogram": [
           {
            "bin_start": -0.5,
            "bin_end": -0.4,
            "count": 0
           },
           {
            "bin_start": -0.4,
            "bin_end": -0.3,
            "count": 0
           },
           {
            "bin_start": -0.3,
            "bin_end": -0.19999999999999996,
            "count": 0
           },
           {
            "bin_start": -0.19999999999999996,
            "bin_end": -0.09999999999999998,
            "count": 0
           },
           {
            "bin_start": -0.09999999999999998,
            "bin_end": 0,
            "count": 0
           },
           {
            "bin_start": 0,
            "bin_end": 0.10000000000000009,
            "count": 5
           },
           {
            "bin_start": 0.10000000000000009,
            "bin_end": 0.20000000000000007,
            "count": 0
           },
           {
            "bin_start": 0.20000000000000007,
            "bin_end": 0.30000000000000004,
            "count": 0
           },
           {
            "bin_start": 0.30000000000000004,
            "bin_end": 0.4,
            "count": 0
           },
           {
            "bin_start": 0.4,
            "bin_end": 0.5,
            "count": 0
           }
          ]
         }
        },
        {
         "name": "ao_signal",
         "dtype": "int64",
         "stats": {
          "unique_count": 1,
          "nan_count": 0,
          "min": "0",
          "max": "0",
          "histogram": [
           {
            "bin_start": -0.5,
            "bin_end": -0.4,
            "count": 0
           },
           {
            "bin_start": -0.4,
            "bin_end": -0.3,
            "count": 0
           },
           {
            "bin_start": -0.3,
            "bin_end": -0.19999999999999996,
            "count": 0
           },
           {
            "bin_start": -0.19999999999999996,
            "bin_end": -0.09999999999999998,
            "count": 0
           },
           {
            "bin_start": -0.09999999999999998,
            "bin_end": 0,
            "count": 0
           },
           {
            "bin_start": 0,
            "bin_end": 0.10000000000000009,
            "count": 5
           },
           {
            "bin_start": 0.10000000000000009,
            "bin_end": 0.20000000000000007,
            "count": 0
           },
           {
            "bin_start": 0.20000000000000007,
            "bin_end": 0.30000000000000004,
            "count": 0
           },
           {
            "bin_start": 0.30000000000000004,
            "bin_end": 0.4,
            "count": 0
           },
           {
            "bin_start": 0.4,
            "bin_end": 0.5,
            "count": 0
           }
          ]
         }
        },
        {
         "name": "_deepnote_index_column",
         "dtype": "object"
        }
       ],
       "rows_top": [
        {
         "aroon_signal": 0,
         "macd_signal": 0,
         "rsi_signal": 0,
         "ao_signal": 0,
         "_deepnote_index_column": "2021-08-10 22:00:00+01:00"
        },
        {
         "aroon_signal": 0,
         "macd_signal": 0,
         "rsi_signal": 0,
         "ao_signal": 0,
         "_deepnote_index_column": "2021-08-10 23:00:00+01:00"
        },
        {
         "aroon_signal": 0,
         "macd_signal": 0,
         "rsi_signal": 0,
         "ao_signal": 0,
         "_deepnote_index_column": "2021-08-11 00:00:00+01:00"
        },
        {
         "aroon_signal": 0,
         "macd_signal": 0,
         "rsi_signal": 0,
         "ao_signal": 0,
         "_deepnote_index_column": "2021-08-11 01:00:00+01:00"
        },
        {
         "aroon_signal": 0,
         "macd_signal": 0,
         "rsi_signal": 0,
         "ao_signal": 0,
         "_deepnote_index_column": "2021-08-11 02:00:00+01:00"
        }
       ],
       "rows_bottom": null
      },
      "text/plain": "                           aroon_signal  macd_signal  rsi_signal  ao_signal\n2021-08-10 22:00:00+01:00             0            0           0          0\n2021-08-10 23:00:00+01:00             0            0           0          0\n2021-08-11 00:00:00+01:00             0            0           0          0\n2021-08-11 01:00:00+01:00             0            0           0          0\n2021-08-11 02:00:00+01:00             0            0           0          0",
      "text/html": "<div>\n<style scoped>\n    .dataframe tbody tr th:only-of-type {\n        vertical-align: middle;\n    }\n\n    .dataframe tbody tr th {\n        vertical-align: top;\n    }\n\n    .dataframe thead th {\n        text-align: right;\n    }\n</style>\n<table border=\"1\" class=\"dataframe\">\n  <thead>\n    <tr style=\"text-align: right;\">\n      <th></th>\n      <th>aroon_signal</th>\n      <th>macd_signal</th>\n      <th>rsi_signal</th>\n      <th>ao_signal</th>\n    </tr>\n  </thead>\n  <tbody>\n    <tr>\n      <th>2021-08-10 22:00:00+01:00</th>\n      <td>0</td>\n      <td>0</td>\n      <td>0</td>\n      <td>0</td>\n    </tr>\n    <tr>\n      <th>2021-08-10 23:00:00+01:00</th>\n      <td>0</td>\n      <td>0</td>\n      <td>0</td>\n      <td>0</td>\n    </tr>\n    <tr>\n      <th>2021-08-11 00:00:00+01:00</th>\n      <td>0</td>\n      <td>0</td>\n      <td>0</td>\n      <td>0</td>\n    </tr>\n    <tr>\n      <th>2021-08-11 01:00:00+01:00</th>\n      <td>0</td>\n      <td>0</td>\n      <td>0</td>\n      <td>0</td>\n    </tr>\n    <tr>\n      <th>2021-08-11 02:00:00+01:00</th>\n      <td>0</td>\n      <td>0</td>\n      <td>0</td>\n      <td>0</td>\n    </tr>\n  </tbody>\n</table>\n</div>"
     },
     "metadata": {}
    }
   ]
  },
  {
   "cell_type": "code",
   "metadata": {
    "tags": [],
    "cell_id": "00011-f5f17f39-3bf4-479c-9b96-2367b9872de1",
    "deepnote_to_be_reexecuted": false,
    "source_hash": "d03302c",
    "execution_start": 1629324843047,
    "execution_millis": 14,
    "deepnote_cell_type": "code"
   },
   "source": "# Construct the X test and y test datasets\nX_test = combined_signals_df[['aroon_signal','macd_signal','rsi_signal','ao_signal']][testing_start:testing_end]\ny_test = combined_signals_df['Binary Return'][testing_start:testing_end]\n\nX_test.tail()",
   "execution_count": null,
   "outputs": [
    {
     "output_type": "execute_result",
     "execution_count": 12,
     "data": {
      "application/vnd.deepnote.dataframe.v2+json": {
       "row_count": 5,
       "column_count": 4,
       "columns": [
        {
         "name": "aroon_signal",
         "dtype": "int64",
         "stats": {
          "unique_count": 1,
          "nan_count": 0,
          "min": "0",
          "max": "0",
          "histogram": [
           {
            "bin_start": -0.5,
            "bin_end": -0.4,
            "count": 0
           },
           {
            "bin_start": -0.4,
            "bin_end": -0.3,
            "count": 0
           },
           {
            "bin_start": -0.3,
            "bin_end": -0.19999999999999996,
            "count": 0
           },
           {
            "bin_start": -0.19999999999999996,
            "bin_end": -0.09999999999999998,
            "count": 0
           },
           {
            "bin_start": -0.09999999999999998,
            "bin_end": 0,
            "count": 0
           },
           {
            "bin_start": 0,
            "bin_end": 0.10000000000000009,
            "count": 5
           },
           {
            "bin_start": 0.10000000000000009,
            "bin_end": 0.20000000000000007,
            "count": 0
           },
           {
            "bin_start": 0.20000000000000007,
            "bin_end": 0.30000000000000004,
            "count": 0
           },
           {
            "bin_start": 0.30000000000000004,
            "bin_end": 0.4,
            "count": 0
           },
           {
            "bin_start": 0.4,
            "bin_end": 0.5,
            "count": 0
           }
          ]
         }
        },
        {
         "name": "macd_signal",
         "dtype": "int64",
         "stats": {
          "unique_count": 1,
          "nan_count": 0,
          "min": "0",
          "max": "0",
          "histogram": [
           {
            "bin_start": -0.5,
            "bin_end": -0.4,
            "count": 0
           },
           {
            "bin_start": -0.4,
            "bin_end": -0.3,
            "count": 0
           },
           {
            "bin_start": -0.3,
            "bin_end": -0.19999999999999996,
            "count": 0
           },
           {
            "bin_start": -0.19999999999999996,
            "bin_end": -0.09999999999999998,
            "count": 0
           },
           {
            "bin_start": -0.09999999999999998,
            "bin_end": 0,
            "count": 0
           },
           {
            "bin_start": 0,
            "bin_end": 0.10000000000000009,
            "count": 5
           },
           {
            "bin_start": 0.10000000000000009,
            "bin_end": 0.20000000000000007,
            "count": 0
           },
           {
            "bin_start": 0.20000000000000007,
            "bin_end": 0.30000000000000004,
            "count": 0
           },
           {
            "bin_start": 0.30000000000000004,
            "bin_end": 0.4,
            "count": 0
           },
           {
            "bin_start": 0.4,
            "bin_end": 0.5,
            "count": 0
           }
          ]
         }
        },
        {
         "name": "rsi_signal",
         "dtype": "int64",
         "stats": {
          "unique_count": 1,
          "nan_count": 0,
          "min": "0",
          "max": "0",
          "histogram": [
           {
            "bin_start": -0.5,
            "bin_end": -0.4,
            "count": 0
           },
           {
            "bin_start": -0.4,
            "bin_end": -0.3,
            "count": 0
           },
           {
            "bin_start": -0.3,
            "bin_end": -0.19999999999999996,
            "count": 0
           },
           {
            "bin_start": -0.19999999999999996,
            "bin_end": -0.09999999999999998,
            "count": 0
           },
           {
            "bin_start": -0.09999999999999998,
            "bin_end": 0,
            "count": 0
           },
           {
            "bin_start": 0,
            "bin_end": 0.10000000000000009,
            "count": 5
           },
           {
            "bin_start": 0.10000000000000009,
            "bin_end": 0.20000000000000007,
            "count": 0
           },
           {
            "bin_start": 0.20000000000000007,
            "bin_end": 0.30000000000000004,
            "count": 0
           },
           {
            "bin_start": 0.30000000000000004,
            "bin_end": 0.4,
            "count": 0
           },
           {
            "bin_start": 0.4,
            "bin_end": 0.5,
            "count": 0
           }
          ]
         }
        },
        {
         "name": "ao_signal",
         "dtype": "int64",
         "stats": {
          "unique_count": 1,
          "nan_count": 0,
          "min": "0",
          "max": "0",
          "histogram": [
           {
            "bin_start": -0.5,
            "bin_end": -0.4,
            "count": 0
           },
           {
            "bin_start": -0.4,
            "bin_end": -0.3,
            "count": 0
           },
           {
            "bin_start": -0.3,
            "bin_end": -0.19999999999999996,
            "count": 0
           },
           {
            "bin_start": -0.19999999999999996,
            "bin_end": -0.09999999999999998,
            "count": 0
           },
           {
            "bin_start": -0.09999999999999998,
            "bin_end": 0,
            "count": 0
           },
           {
            "bin_start": 0,
            "bin_end": 0.10000000000000009,
            "count": 5
           },
           {
            "bin_start": 0.10000000000000009,
            "bin_end": 0.20000000000000007,
            "count": 0
           },
           {
            "bin_start": 0.20000000000000007,
            "bin_end": 0.30000000000000004,
            "count": 0
           },
           {
            "bin_start": 0.30000000000000004,
            "bin_end": 0.4,
            "count": 0
           },
           {
            "bin_start": 0.4,
            "bin_end": 0.5,
            "count": 0
           }
          ]
         }
        },
        {
         "name": "_deepnote_index_column",
         "dtype": "object"
        }
       ],
       "rows_top": [
        {
         "aroon_signal": 0,
         "macd_signal": 0,
         "rsi_signal": 0,
         "ao_signal": 0,
         "_deepnote_index_column": "2021-08-10 22:00:00+01:00"
        },
        {
         "aroon_signal": 0,
         "macd_signal": 0,
         "rsi_signal": 0,
         "ao_signal": 0,
         "_deepnote_index_column": "2021-08-10 23:00:00+01:00"
        },
        {
         "aroon_signal": 0,
         "macd_signal": 0,
         "rsi_signal": 0,
         "ao_signal": 0,
         "_deepnote_index_column": "2021-08-11 00:00:00+01:00"
        },
        {
         "aroon_signal": 0,
         "macd_signal": 0,
         "rsi_signal": 0,
         "ao_signal": 0,
         "_deepnote_index_column": "2021-08-11 01:00:00+01:00"
        },
        {
         "aroon_signal": 0,
         "macd_signal": 0,
         "rsi_signal": 0,
         "ao_signal": 0,
         "_deepnote_index_column": "2021-08-11 02:00:00+01:00"
        }
       ],
       "rows_bottom": null
      },
      "text/plain": "                           aroon_signal  macd_signal  rsi_signal  ao_signal\n2021-08-10 22:00:00+01:00             0            0           0          0\n2021-08-10 23:00:00+01:00             0            0           0          0\n2021-08-11 00:00:00+01:00             0            0           0          0\n2021-08-11 01:00:00+01:00             0            0           0          0\n2021-08-11 02:00:00+01:00             0            0           0          0",
      "text/html": "<div>\n<style scoped>\n    .dataframe tbody tr th:only-of-type {\n        vertical-align: middle;\n    }\n\n    .dataframe tbody tr th {\n        vertical-align: top;\n    }\n\n    .dataframe thead th {\n        text-align: right;\n    }\n</style>\n<table border=\"1\" class=\"dataframe\">\n  <thead>\n    <tr style=\"text-align: right;\">\n      <th></th>\n      <th>aroon_signal</th>\n      <th>macd_signal</th>\n      <th>rsi_signal</th>\n      <th>ao_signal</th>\n    </tr>\n  </thead>\n  <tbody>\n    <tr>\n      <th>2021-08-10 22:00:00+01:00</th>\n      <td>0</td>\n      <td>0</td>\n      <td>0</td>\n      <td>0</td>\n    </tr>\n    <tr>\n      <th>2021-08-10 23:00:00+01:00</th>\n      <td>0</td>\n      <td>0</td>\n      <td>0</td>\n      <td>0</td>\n    </tr>\n    <tr>\n      <th>2021-08-11 00:00:00+01:00</th>\n      <td>0</td>\n      <td>0</td>\n      <td>0</td>\n      <td>0</td>\n    </tr>\n    <tr>\n      <th>2021-08-11 01:00:00+01:00</th>\n      <td>0</td>\n      <td>0</td>\n      <td>0</td>\n      <td>0</td>\n    </tr>\n    <tr>\n      <th>2021-08-11 02:00:00+01:00</th>\n      <td>0</td>\n      <td>0</td>\n      <td>0</td>\n      <td>0</td>\n    </tr>\n  </tbody>\n</table>\n</div>"
     },
     "metadata": {}
    }
   ]
  },
  {
   "cell_type": "code",
   "metadata": {
    "tags": [],
    "cell_id": "00012-e2e73cc6-3610-4f02-a925-ad99da41ef42",
    "deepnote_to_be_reexecuted": false,
    "source_hash": "284922cd",
    "execution_start": 1629324843110,
    "execution_millis": 5260,
    "deepnote_cell_type": "code"
   },
   "source": "# Fit a SKLearn linear regression using just the training set (X_train, Y_train):\nmodel = RandomForestClassifier(n_estimators=1000, max_depth=3, random_state=0)\nmodel.fit(X_train, y_train)\n\n# Make a prediction of \"y\" values from the X_test dataset\npredictions = model.predict(X_test)\n\n# Assemble actual y data (Y_test) with predicted y data (from just above) into two columns in a dataframe:\nResults = y_test.to_frame()\nResults[\"Predicted Value\"] = predictions\nResults",
   "execution_count": null,
   "outputs": [
    {
     "output_type": "execute_result",
     "execution_count": 13,
     "data": {
      "application/vnd.deepnote.dataframe.v2+json": {
       "row_count": 17001,
       "column_count": 2,
       "columns": [
        {
         "name": "Binary Return",
         "dtype": "int64",
         "stats": {
          "unique_count": 2,
          "nan_count": 0,
          "min": "0",
          "max": "1",
          "histogram": [
           {
            "bin_start": 0,
            "bin_end": 0.1,
            "count": 8475
           },
           {
            "bin_start": 0.1,
            "bin_end": 0.2,
            "count": 0
           },
           {
            "bin_start": 0.2,
            "bin_end": 0.30000000000000004,
            "count": 0
           },
           {
            "bin_start": 0.30000000000000004,
            "bin_end": 0.4,
            "count": 0
           },
           {
            "bin_start": 0.4,
            "bin_end": 0.5,
            "count": 0
           },
           {
            "bin_start": 0.5,
            "bin_end": 0.6000000000000001,
            "count": 0
           },
           {
            "bin_start": 0.6000000000000001,
            "bin_end": 0.7000000000000001,
            "count": 0
           },
           {
            "bin_start": 0.7000000000000001,
            "bin_end": 0.8,
            "count": 0
           },
           {
            "bin_start": 0.8,
            "bin_end": 0.9,
            "count": 0
           },
           {
            "bin_start": 0.9,
            "bin_end": 1,
            "count": 8526
           }
          ]
         }
        },
        {
         "name": "Predicted Value",
         "dtype": "int64",
         "stats": {
          "unique_count": 2,
          "nan_count": 0,
          "min": "0",
          "max": "1",
          "histogram": [
           {
            "bin_start": 0,
            "bin_end": 0.1,
            "count": 1620
           },
           {
            "bin_start": 0.1,
            "bin_end": 0.2,
            "count": 0
           },
           {
            "bin_start": 0.2,
            "bin_end": 0.30000000000000004,
            "count": 0
           },
           {
            "bin_start": 0.30000000000000004,
            "bin_end": 0.4,
            "count": 0
           },
           {
            "bin_start": 0.4,
            "bin_end": 0.5,
            "count": 0
           },
           {
            "bin_start": 0.5,
            "bin_end": 0.6000000000000001,
            "count": 0
           },
           {
            "bin_start": 0.6000000000000001,
            "bin_end": 0.7000000000000001,
            "count": 0
           },
           {
            "bin_start": 0.7000000000000001,
            "bin_end": 0.8,
            "count": 0
           },
           {
            "bin_start": 0.8,
            "bin_end": 0.9,
            "count": 0
           },
           {
            "bin_start": 0.9,
            "bin_end": 1,
            "count": 15381
           }
          ]
         }
        },
        {
         "name": "_deepnote_index_column",
         "dtype": "object"
        }
       ],
       "rows_top": [
        {
         "Binary Return": 0,
         "Predicted Value": 1,
         "_deepnote_index_column": "2019-09-01 02:00:00+01:00"
        },
        {
         "Binary Return": 0,
         "Predicted Value": 0,
         "_deepnote_index_column": "2019-09-01 03:00:00+01:00"
        },
        {
         "Binary Return": 1,
         "Predicted Value": 1,
         "_deepnote_index_column": "2019-09-01 04:00:00+01:00"
        },
        {
         "Binary Return": 0,
         "Predicted Value": 1,
         "_deepnote_index_column": "2019-09-01 05:00:00+01:00"
        },
        {
         "Binary Return": 0,
         "Predicted Value": 1,
         "_deepnote_index_column": "2019-09-01 06:00:00+01:00"
        },
        {
         "Binary Return": 1,
         "Predicted Value": 1,
         "_deepnote_index_column": "2019-09-01 07:00:00+01:00"
        },
        {
         "Binary Return": 0,
         "Predicted Value": 1,
         "_deepnote_index_column": "2019-09-01 08:00:00+01:00"
        },
        {
         "Binary Return": 0,
         "Predicted Value": 1,
         "_deepnote_index_column": "2019-09-01 09:00:00+01:00"
        },
        {
         "Binary Return": 0,
         "Predicted Value": 1,
         "_deepnote_index_column": "2019-09-01 10:00:00+01:00"
        },
        {
         "Binary Return": 0,
         "Predicted Value": 1,
         "_deepnote_index_column": "2019-09-01 11:00:00+01:00"
        },
        {
         "Binary Return": 0,
         "Predicted Value": 1,
         "_deepnote_index_column": "2019-09-01 12:00:00+01:00"
        },
        {
         "Binary Return": 1,
         "Predicted Value": 1,
         "_deepnote_index_column": "2019-09-01 13:00:00+01:00"
        },
        {
         "Binary Return": 0,
         "Predicted Value": 1,
         "_deepnote_index_column": "2019-09-01 14:00:00+01:00"
        },
        {
         "Binary Return": 1,
         "Predicted Value": 1,
         "_deepnote_index_column": "2019-09-01 15:00:00+01:00"
        },
        {
         "Binary Return": 1,
         "Predicted Value": 1,
         "_deepnote_index_column": "2019-09-01 16:00:00+01:00"
        },
        {
         "Binary Return": 0,
         "Predicted Value": 1,
         "_deepnote_index_column": "2019-09-01 17:00:00+01:00"
        },
        {
         "Binary Return": 0,
         "Predicted Value": 1,
         "_deepnote_index_column": "2019-09-01 18:00:00+01:00"
        },
        {
         "Binary Return": 1,
         "Predicted Value": 1,
         "_deepnote_index_column": "2019-09-01 19:00:00+01:00"
        },
        {
         "Binary Return": 1,
         "Predicted Value": 1,
         "_deepnote_index_column": "2019-09-01 20:00:00+01:00"
        },
        {
         "Binary Return": 1,
         "Predicted Value": 1,
         "_deepnote_index_column": "2019-09-01 21:00:00+01:00"
        },
        {
         "Binary Return": 1,
         "Predicted Value": 0,
         "_deepnote_index_column": "2019-09-01 22:00:00+01:00"
        },
        {
         "Binary Return": 1,
         "Predicted Value": 1,
         "_deepnote_index_column": "2019-09-01 23:00:00+01:00"
        },
        {
         "Binary Return": 0,
         "Predicted Value": 1,
         "_deepnote_index_column": "2019-09-02 00:00:00+01:00"
        },
        {
         "Binary Return": 0,
         "Predicted Value": 1,
         "_deepnote_index_column": "2019-09-02 01:00:00+01:00"
        },
        {
         "Binary Return": 0,
         "Predicted Value": 1,
         "_deepnote_index_column": "2019-09-02 02:00:00+01:00"
        },
        {
         "Binary Return": 1,
         "Predicted Value": 1,
         "_deepnote_index_column": "2019-09-02 03:00:00+01:00"
        },
        {
         "Binary Return": 0,
         "Predicted Value": 1,
         "_deepnote_index_column": "2019-09-02 04:00:00+01:00"
        },
        {
         "Binary Return": 0,
         "Predicted Value": 1,
         "_deepnote_index_column": "2019-09-02 05:00:00+01:00"
        },
        {
         "Binary Return": 0,
         "Predicted Value": 1,
         "_deepnote_index_column": "2019-09-02 06:00:00+01:00"
        },
        {
         "Binary Return": 0,
         "Predicted Value": 1,
         "_deepnote_index_column": "2019-09-02 07:00:00+01:00"
        },
        {
         "Binary Return": 0,
         "Predicted Value": 1,
         "_deepnote_index_column": "2019-09-02 08:00:00+01:00"
        },
        {
         "Binary Return": 1,
         "Predicted Value": 1,
         "_deepnote_index_column": "2019-09-02 09:00:00+01:00"
        },
        {
         "Binary Return": 1,
         "Predicted Value": 1,
         "_deepnote_index_column": "2019-09-02 10:00:00+01:00"
        },
        {
         "Binary Return": 0,
         "Predicted Value": 1,
         "_deepnote_index_column": "2019-09-02 11:00:00+01:00"
        },
        {
         "Binary Return": 1,
         "Predicted Value": 0,
         "_deepnote_index_column": "2019-09-02 12:00:00+01:00"
        },
        {
         "Binary Return": 0,
         "Predicted Value": 0,
         "_deepnote_index_column": "2019-09-02 13:00:00+01:00"
        },
        {
         "Binary Return": 1,
         "Predicted Value": 1,
         "_deepnote_index_column": "2019-09-02 14:00:00+01:00"
        },
        {
         "Binary Return": 0,
         "Predicted Value": 1,
         "_deepnote_index_column": "2019-09-02 15:00:00+01:00"
        },
        {
         "Binary Return": 0,
         "Predicted Value": 0,
         "_deepnote_index_column": "2019-09-02 16:00:00+01:00"
        },
        {
         "Binary Return": 1,
         "Predicted Value": 1,
         "_deepnote_index_column": "2019-09-02 17:00:00+01:00"
        },
        {
         "Binary Return": 1,
         "Predicted Value": 1,
         "_deepnote_index_column": "2019-09-02 18:00:00+01:00"
        },
        {
         "Binary Return": 1,
         "Predicted Value": 1,
         "_deepnote_index_column": "2019-09-02 19:00:00+01:00"
        },
        {
         "Binary Return": 1,
         "Predicted Value": 1,
         "_deepnote_index_column": "2019-09-02 20:00:00+01:00"
        },
        {
         "Binary Return": 1,
         "Predicted Value": 1,
         "_deepnote_index_column": "2019-09-02 21:00:00+01:00"
        },
        {
         "Binary Return": 1,
         "Predicted Value": 0,
         "_deepnote_index_column": "2019-09-02 22:00:00+01:00"
        },
        {
         "Binary Return": 0,
         "Predicted Value": 1,
         "_deepnote_index_column": "2019-09-02 23:00:00+01:00"
        },
        {
         "Binary Return": 0,
         "Predicted Value": 1,
         "_deepnote_index_column": "2019-09-03 00:00:00+01:00"
        },
        {
         "Binary Return": 0,
         "Predicted Value": 1,
         "_deepnote_index_column": "2019-09-03 01:00:00+01:00"
        },
        {
         "Binary Return": 0,
         "Predicted Value": 1,
         "_deepnote_index_column": "2019-09-03 02:00:00+01:00"
        },
        {
         "Binary Return": 1,
         "Predicted Value": 1,
         "_deepnote_index_column": "2019-09-03 03:00:00+01:00"
        },
        {
         "Binary Return": 1,
         "Predicted Value": 1,
         "_deepnote_index_column": "2019-09-03 04:00:00+01:00"
        },
        {
         "Binary Return": 0,
         "Predicted Value": 1,
         "_deepnote_index_column": "2019-09-03 05:00:00+01:00"
        },
        {
         "Binary Return": 0,
         "Predicted Value": 1,
         "_deepnote_index_column": "2019-09-03 06:00:00+01:00"
        },
        {
         "Binary Return": 0,
         "Predicted Value": 1,
         "_deepnote_index_column": "2019-09-03 07:00:00+01:00"
        },
        {
         "Binary Return": 0,
         "Predicted Value": 1,
         "_deepnote_index_column": "2019-09-03 08:00:00+01:00"
        },
        {
         "Binary Return": 0,
         "Predicted Value": 1,
         "_deepnote_index_column": "2019-09-03 09:00:00+01:00"
        },
        {
         "Binary Return": 0,
         "Predicted Value": 1,
         "_deepnote_index_column": "2019-09-03 10:00:00+01:00"
        },
        {
         "Binary Return": 1,
         "Predicted Value": 1,
         "_deepnote_index_column": "2019-09-03 11:00:00+01:00"
        },
        {
         "Binary Return": 0,
         "Predicted Value": 1,
         "_deepnote_index_column": "2019-09-03 12:00:00+01:00"
        },
        {
         "Binary Return": 1,
         "Predicted Value": 1,
         "_deepnote_index_column": "2019-09-03 13:00:00+01:00"
        },
        {
         "Binary Return": 1,
         "Predicted Value": 1,
         "_deepnote_index_column": "2019-09-03 14:00:00+01:00"
        },
        {
         "Binary Return": 0,
         "Predicted Value": 0,
         "_deepnote_index_column": "2019-09-03 15:00:00+01:00"
        },
        {
         "Binary Return": 1,
         "Predicted Value": 1,
         "_deepnote_index_column": "2019-09-03 16:00:00+01:00"
        },
        {
         "Binary Return": 0,
         "Predicted Value": 1,
         "_deepnote_index_column": "2019-09-03 17:00:00+01:00"
        },
        {
         "Binary Return": 0,
         "Predicted Value": 1,
         "_deepnote_index_column": "2019-09-03 18:00:00+01:00"
        },
        {
         "Binary Return": 0,
         "Predicted Value": 1,
         "_deepnote_index_column": "2019-09-03 19:00:00+01:00"
        },
        {
         "Binary Return": 1,
         "Predicted Value": 1,
         "_deepnote_index_column": "2019-09-03 20:00:00+01:00"
        },
        {
         "Binary Return": 1,
         "Predicted Value": 1,
         "_deepnote_index_column": "2019-09-03 21:00:00+01:00"
        },
        {
         "Binary Return": 1,
         "Predicted Value": 1,
         "_deepnote_index_column": "2019-09-03 22:00:00+01:00"
        },
        {
         "Binary Return": 1,
         "Predicted Value": 0,
         "_deepnote_index_column": "2019-09-03 23:00:00+01:00"
        },
        {
         "Binary Return": 0,
         "Predicted Value": 1,
         "_deepnote_index_column": "2019-09-04 00:00:00+01:00"
        },
        {
         "Binary Return": 0,
         "Predicted Value": 1,
         "_deepnote_index_column": "2019-09-04 01:00:00+01:00"
        },
        {
         "Binary Return": 0,
         "Predicted Value": 1,
         "_deepnote_index_column": "2019-09-04 02:00:00+01:00"
        },
        {
         "Binary Return": 0,
         "Predicted Value": 1,
         "_deepnote_index_column": "2019-09-04 03:00:00+01:00"
        },
        {
         "Binary Return": 1,
         "Predicted Value": 1,
         "_deepnote_index_column": "2019-09-04 04:00:00+01:00"
        },
        {
         "Binary Return": 0,
         "Predicted Value": 1,
         "_deepnote_index_column": "2019-09-04 05:00:00+01:00"
        },
        {
         "Binary Return": 0,
         "Predicted Value": 1,
         "_deepnote_index_column": "2019-09-04 06:00:00+01:00"
        },
        {
         "Binary Return": 0,
         "Predicted Value": 0,
         "_deepnote_index_column": "2019-09-04 07:00:00+01:00"
        },
        {
         "Binary Return": 0,
         "Predicted Value": 1,
         "_deepnote_index_column": "2019-09-04 08:00:00+01:00"
        },
        {
         "Binary Return": 0,
         "Predicted Value": 1,
         "_deepnote_index_column": "2019-09-04 09:00:00+01:00"
        },
        {
         "Binary Return": 1,
         "Predicted Value": 1,
         "_deepnote_index_column": "2019-09-04 10:00:00+01:00"
        },
        {
         "Binary Return": 0,
         "Predicted Value": 1,
         "_deepnote_index_column": "2019-09-04 11:00:00+01:00"
        },
        {
         "Binary Return": 0,
         "Predicted Value": 0,
         "_deepnote_index_column": "2019-09-04 12:00:00+01:00"
        },
        {
         "Binary Return": 0,
         "Predicted Value": 1,
         "_deepnote_index_column": "2019-09-04 13:00:00+01:00"
        },
        {
         "Binary Return": 1,
         "Predicted Value": 1,
         "_deepnote_index_column": "2019-09-04 14:00:00+01:00"
        },
        {
         "Binary Return": 0,
         "Predicted Value": 1,
         "_deepnote_index_column": "2019-09-04 15:00:00+01:00"
        },
        {
         "Binary Return": 1,
         "Predicted Value": 1,
         "_deepnote_index_column": "2019-09-04 16:00:00+01:00"
        },
        {
         "Binary Return": 1,
         "Predicted Value": 1,
         "_deepnote_index_column": "2019-09-04 17:00:00+01:00"
        },
        {
         "Binary Return": 0,
         "Predicted Value": 1,
         "_deepnote_index_column": "2019-09-04 18:00:00+01:00"
        },
        {
         "Binary Return": 0,
         "Predicted Value": 1,
         "_deepnote_index_column": "2019-09-04 19:00:00+01:00"
        },
        {
         "Binary Return": 1,
         "Predicted Value": 1,
         "_deepnote_index_column": "2019-09-04 20:00:00+01:00"
        },
        {
         "Binary Return": 0,
         "Predicted Value": 0,
         "_deepnote_index_column": "2019-09-04 21:00:00+01:00"
        },
        {
         "Binary Return": 1,
         "Predicted Value": 1,
         "_deepnote_index_column": "2019-09-04 22:00:00+01:00"
        },
        {
         "Binary Return": 0,
         "Predicted Value": 1,
         "_deepnote_index_column": "2019-09-04 23:00:00+01:00"
        },
        {
         "Binary Return": 0,
         "Predicted Value": 1,
         "_deepnote_index_column": "2019-09-05 00:00:00+01:00"
        },
        {
         "Binary Return": 0,
         "Predicted Value": 1,
         "_deepnote_index_column": "2019-09-05 01:00:00+01:00"
        },
        {
         "Binary Return": 0,
         "Predicted Value": 1,
         "_deepnote_index_column": "2019-09-05 02:00:00+01:00"
        },
        {
         "Binary Return": 1,
         "Predicted Value": 1,
         "_deepnote_index_column": "2019-09-05 03:00:00+01:00"
        },
        {
         "Binary Return": 1,
         "Predicted Value": 1,
         "_deepnote_index_column": "2019-09-05 04:00:00+01:00"
        },
        {
         "Binary Return": 0,
         "Predicted Value": 1,
         "_deepnote_index_column": "2019-09-05 05:00:00+01:00"
        },
        {
         "Binary Return": 0,
         "Predicted Value": 1,
         "_deepnote_index_column": "2019-09-05 06:00:00+01:00"
        },
        {
         "Binary Return": 0,
         "Predicted Value": 1,
         "_deepnote_index_column": "2019-09-05 07:00:00+01:00"
        },
        {
         "Binary Return": 0,
         "Predicted Value": 1,
         "_deepnote_index_column": "2019-09-05 09:00:00+01:00"
        },
        {
         "Binary Return": 0,
         "Predicted Value": 1,
         "_deepnote_index_column": "2019-09-05 10:00:00+01:00"
        },
        {
         "Binary Return": 1,
         "Predicted Value": 1,
         "_deepnote_index_column": "2019-09-05 11:00:00+01:00"
        },
        {
         "Binary Return": 0,
         "Predicted Value": 1,
         "_deepnote_index_column": "2019-09-05 12:00:00+01:00"
        },
        {
         "Binary Return": 1,
         "Predicted Value": 1,
         "_deepnote_index_column": "2019-09-05 13:00:00+01:00"
        },
        {
         "Binary Return": 0,
         "Predicted Value": 1,
         "_deepnote_index_column": "2019-09-05 14:00:00+01:00"
        },
        {
         "Binary Return": 0,
         "Predicted Value": 1,
         "_deepnote_index_column": "2019-09-05 15:00:00+01:00"
        },
        {
         "Binary Return": 1,
         "Predicted Value": 1,
         "_deepnote_index_column": "2019-09-05 16:00:00+01:00"
        },
        {
         "Binary Return": 0,
         "Predicted Value": 1,
         "_deepnote_index_column": "2019-09-05 17:00:00+01:00"
        },
        {
         "Binary Return": 0,
         "Predicted Value": 1,
         "_deepnote_index_column": "2019-09-05 18:00:00+01:00"
        },
        {
         "Binary Return": 1,
         "Predicted Value": 1,
         "_deepnote_index_column": "2019-09-05 19:00:00+01:00"
        },
        {
         "Binary Return": 0,
         "Predicted Value": 1,
         "_deepnote_index_column": "2019-09-05 20:00:00+01:00"
        },
        {
         "Binary Return": 0,
         "Predicted Value": 1,
         "_deepnote_index_column": "2019-09-05 21:00:00+01:00"
        },
        {
         "Binary Return": 1,
         "Predicted Value": 1,
         "_deepnote_index_column": "2019-09-05 22:00:00+01:00"
        },
        {
         "Binary Return": 1,
         "Predicted Value": 1,
         "_deepnote_index_column": "2019-09-05 23:00:00+01:00"
        },
        {
         "Binary Return": 1,
         "Predicted Value": 0,
         "_deepnote_index_column": "2019-09-06 00:00:00+01:00"
        },
        {
         "Binary Return": 0,
         "Predicted Value": 1,
         "_deepnote_index_column": "2019-09-06 01:00:00+01:00"
        },
        {
         "Binary Return": 0,
         "Predicted Value": 1,
         "_deepnote_index_column": "2019-09-06 02:00:00+01:00"
        },
        {
         "Binary Return": 0,
         "Predicted Value": 1,
         "_deepnote_index_column": "2019-09-06 03:00:00+01:00"
        },
        {
         "Binary Return": 1,
         "Predicted Value": 1,
         "_deepnote_index_column": "2019-09-06 04:00:00+01:00"
        },
        {
         "Binary Return": 1,
         "Predicted Value": 1,
         "_deepnote_index_column": "2019-09-06 05:00:00+01:00"
        },
        {
         "Binary Return": 0,
         "Predicted Value": 1,
         "_deepnote_index_column": "2019-09-06 06:00:00+01:00"
        },
        {
         "Binary Return": 1,
         "Predicted Value": 1,
         "_deepnote_index_column": "2019-09-06 07:00:00+01:00"
        },
        {
         "Binary Return": 0,
         "Predicted Value": 1,
         "_deepnote_index_column": "2019-09-06 08:00:00+01:00"
        },
        {
         "Binary Return": 1,
         "Predicted Value": 1,
         "_deepnote_index_column": "2019-09-06 09:00:00+01:00"
        },
        {
         "Binary Return": 1,
         "Predicted Value": 0,
         "_deepnote_index_column": "2019-09-06 10:00:00+01:00"
        },
        {
         "Binary Return": 1,
         "Predicted Value": 1,
         "_deepnote_index_column": "2019-09-06 11:00:00+01:00"
        },
        {
         "Binary Return": 1,
         "Predicted Value": 1,
         "_deepnote_index_column": "2019-09-06 12:00:00+01:00"
        },
        {
         "Binary Return": 0,
         "Predicted Value": 1,
         "_deepnote_index_column": "2019-09-06 13:00:00+01:00"
        },
        {
         "Binary Return": 1,
         "Predicted Value": 1,
         "_deepnote_index_column": "2019-09-06 14:00:00+01:00"
        },
        {
         "Binary Return": 1,
         "Predicted Value": 1,
         "_deepnote_index_column": "2019-09-06 15:00:00+01:00"
        },
        {
         "Binary Return": 0,
         "Predicted Value": 1,
         "_deepnote_index_column": "2019-09-06 16:00:00+01:00"
        },
        {
         "Binary Return": 0,
         "Predicted Value": 1,
         "_deepnote_index_column": "2019-09-06 17:00:00+01:00"
        },
        {
         "Binary Return": 0,
         "Predicted Value": 1,
         "_deepnote_index_column": "2019-09-06 18:00:00+01:00"
        },
        {
         "Binary Return": 0,
         "Predicted Value": 1,
         "_deepnote_index_column": "2019-09-06 19:00:00+01:00"
        },
        {
         "Binary Return": 0,
         "Predicted Value": 1,
         "_deepnote_index_column": "2019-09-06 20:00:00+01:00"
        },
        {
         "Binary Return": 0,
         "Predicted Value": 0,
         "_deepnote_index_column": "2019-09-06 21:00:00+01:00"
        },
        {
         "Binary Return": 0,
         "Predicted Value": 1,
         "_deepnote_index_column": "2019-09-06 22:00:00+01:00"
        },
        {
         "Binary Return": 1,
         "Predicted Value": 1,
         "_deepnote_index_column": "2019-09-06 23:00:00+01:00"
        },
        {
         "Binary Return": 0,
         "Predicted Value": 1,
         "_deepnote_index_column": "2019-09-07 00:00:00+01:00"
        },
        {
         "Binary Return": 0,
         "Predicted Value": 1,
         "_deepnote_index_column": "2019-09-07 01:00:00+01:00"
        },
        {
         "Binary Return": 1,
         "Predicted Value": 1,
         "_deepnote_index_column": "2019-09-07 02:00:00+01:00"
        },
        {
         "Binary Return": 1,
         "Predicted Value": 1,
         "_deepnote_index_column": "2019-09-07 03:00:00+01:00"
        },
        {
         "Binary Return": 0,
         "Predicted Value": 1,
         "_deepnote_index_column": "2019-09-07 04:00:00+01:00"
        },
        {
         "Binary Return": 1,
         "Predicted Value": 1,
         "_deepnote_index_column": "2019-09-07 05:00:00+01:00"
        },
        {
         "Binary Return": 0,
         "Predicted Value": 1,
         "_deepnote_index_column": "2019-09-07 06:00:00+01:00"
        },
        {
         "Binary Return": 0,
         "Predicted Value": 1,
         "_deepnote_index_column": "2019-09-07 07:00:00+01:00"
        },
        {
         "Binary Return": 1,
         "Predicted Value": 1,
         "_deepnote_index_column": "2019-09-07 08:00:00+01:00"
        },
        {
         "Binary Return": 0,
         "Predicted Value": 1,
         "_deepnote_index_column": "2019-09-07 09:00:00+01:00"
        },
        {
         "Binary Return": 1,
         "Predicted Value": 1,
         "_deepnote_index_column": "2019-09-07 10:00:00+01:00"
        },
        {
         "Binary Return": 0,
         "Predicted Value": 0,
         "_deepnote_index_column": "2019-09-07 11:00:00+01:00"
        },
        {
         "Binary Return": 1,
         "Predicted Value": 1,
         "_deepnote_index_column": "2019-09-07 12:00:00+01:00"
        },
        {
         "Binary Return": 1,
         "Predicted Value": 1,
         "_deepnote_index_column": "2019-09-07 13:00:00+01:00"
        },
        {
         "Binary Return": 1,
         "Predicted Value": 1,
         "_deepnote_index_column": "2019-09-07 14:00:00+01:00"
        },
        {
         "Binary Return": 1,
         "Predicted Value": 1,
         "_deepnote_index_column": "2019-09-07 15:00:00+01:00"
        },
        {
         "Binary Return": 1,
         "Predicted Value": 0,
         "_deepnote_index_column": "2019-09-07 16:00:00+01:00"
        },
        {
         "Binary Return": 1,
         "Predicted Value": 0,
         "_deepnote_index_column": "2019-09-07 17:00:00+01:00"
        },
        {
         "Binary Return": 1,
         "Predicted Value": 1,
         "_deepnote_index_column": "2019-09-07 18:00:00+01:00"
        },
        {
         "Binary Return": 1,
         "Predicted Value": 1,
         "_deepnote_index_column": "2019-09-07 19:00:00+01:00"
        },
        {
         "Binary Return": 0,
         "Predicted Value": 1,
         "_deepnote_index_column": "2019-09-07 20:00:00+01:00"
        },
        {
         "Binary Return": 0,
         "Predicted Value": 1,
         "_deepnote_index_column": "2019-09-07 21:00:00+01:00"
        },
        {
         "Binary Return": 1,
         "Predicted Value": 1,
         "_deepnote_index_column": "2019-09-07 22:00:00+01:00"
        },
        {
         "Binary Return": 0,
         "Predicted Value": 1,
         "_deepnote_index_column": "2019-09-07 23:00:00+01:00"
        },
        {
         "Binary Return": 0,
         "Predicted Value": 1,
         "_deepnote_index_column": "2019-09-08 00:00:00+01:00"
        },
        {
         "Binary Return": 1,
         "Predicted Value": 1,
         "_deepnote_index_column": "2019-09-08 01:00:00+01:00"
        },
        {
         "Binary Return": 0,
         "Predicted Value": 1,
         "_deepnote_index_column": "2019-09-08 02:00:00+01:00"
        },
        {
         "Binary Return": 0,
         "Predicted Value": 1,
         "_deepnote_index_column": "2019-09-08 03:00:00+01:00"
        },
        {
         "Binary Return": 1,
         "Predicted Value": 1,
         "_deepnote_index_column": "2019-09-08 04:00:00+01:00"
        },
        {
         "Binary Return": 1,
         "Predicted Value": 1,
         "_deepnote_index_column": "2019-09-08 05:00:00+01:00"
        },
        {
         "Binary Return": 0,
         "Predicted Value": 1,
         "_deepnote_index_column": "2019-09-08 06:00:00+01:00"
        },
        {
         "Binary Return": 0,
         "Predicted Value": 1,
         "_deepnote_index_column": "2019-09-08 07:00:00+01:00"
        },
        {
         "Binary Return": 0,
         "Predicted Value": 1,
         "_deepnote_index_column": "2019-09-08 08:00:00+01:00"
        },
        {
         "Binary Return": 0,
         "Predicted Value": 1,
         "_deepnote_index_column": "2019-09-08 09:00:00+01:00"
        },
        {
         "Binary Return": 1,
         "Predicted Value": 1,
         "_deepnote_index_column": "2019-09-08 10:00:00+01:00"
        },
        {
         "Binary Return": 1,
         "Predicted Value": 1,
         "_deepnote_index_column": "2019-09-08 11:00:00+01:00"
        },
        {
         "Binary Return": 0,
         "Predicted Value": 1,
         "_deepnote_index_column": "2019-09-08 12:00:00+01:00"
        },
        {
         "Binary Return": 0,
         "Predicted Value": 1,
         "_deepnote_index_column": "2019-09-08 13:00:00+01:00"
        },
        {
         "Binary Return": 0,
         "Predicted Value": 1,
         "_deepnote_index_column": "2019-09-08 14:00:00+01:00"
        },
        {
         "Binary Return": 1,
         "Predicted Value": 1,
         "_deepnote_index_column": "2019-09-08 15:00:00+01:00"
        },
        {
         "Binary Return": 1,
         "Predicted Value": 1,
         "_deepnote_index_column": "2019-09-08 16:00:00+01:00"
        },
        {
         "Binary Return": 0,
         "Predicted Value": 1,
         "_deepnote_index_column": "2019-09-08 17:00:00+01:00"
        },
        {
         "Binary Return": 0,
         "Predicted Value": 1,
         "_deepnote_index_column": "2019-09-08 18:00:00+01:00"
        },
        {
         "Binary Return": 0,
         "Predicted Value": 1,
         "_deepnote_index_column": "2019-09-08 19:00:00+01:00"
        },
        {
         "Binary Return": 0,
         "Predicted Value": 1,
         "_deepnote_index_column": "2019-09-08 20:00:00+01:00"
        },
        {
         "Binary Return": 0,
         "Predicted Value": 1,
         "_deepnote_index_column": "2019-09-08 21:00:00+01:00"
        },
        {
         "Binary Return": 1,
         "Predicted Value": 1,
         "_deepnote_index_column": "2019-09-08 22:00:00+01:00"
        },
        {
         "Binary Return": 1,
         "Predicted Value": 1,
         "_deepnote_index_column": "2019-09-08 23:00:00+01:00"
        },
        {
         "Binary Return": 0,
         "Predicted Value": 0,
         "_deepnote_index_column": "2019-09-09 00:00:00+01:00"
        },
        {
         "Binary Return": 0,
         "Predicted Value": 1,
         "_deepnote_index_column": "2019-09-09 01:00:00+01:00"
        },
        {
         "Binary Return": 0,
         "Predicted Value": 1,
         "_deepnote_index_column": "2019-09-09 02:00:00+01:00"
        },
        {
         "Binary Return": 0,
         "Predicted Value": 0,
         "_deepnote_index_column": "2019-09-09 03:00:00+01:00"
        },
        {
         "Binary Return": 0,
         "Predicted Value": 1,
         "_deepnote_index_column": "2019-09-09 04:00:00+01:00"
        },
        {
         "Binary Return": 0,
         "Predicted Value": 0,
         "_deepnote_index_column": "2019-09-09 05:00:00+01:00"
        },
        {
         "Binary Return": 0,
         "Predicted Value": 1,
         "_deepnote_index_column": "2019-09-09 06:00:00+01:00"
        },
        {
         "Binary Return": 0,
         "Predicted Value": 1,
         "_deepnote_index_column": "2019-09-09 07:00:00+01:00"
        },
        {
         "Binary Return": 0,
         "Predicted Value": 1,
         "_deepnote_index_column": "2019-09-09 08:00:00+01:00"
        },
        {
         "Binary Return": 1,
         "Predicted Value": 1,
         "_deepnote_index_column": "2019-09-09 09:00:00+01:00"
        },
        {
         "Binary Return": 1,
         "Predicted Value": 1,
         "_deepnote_index_column": "2019-09-09 10:00:00+01:00"
        },
        {
         "Binary Return": 0,
         "Predicted Value": 0,
         "_deepnote_index_column": "2019-09-09 11:00:00+01:00"
        },
        {
         "Binary Return": 1,
         "Predicted Value": 1,
         "_deepnote_index_column": "2019-09-09 12:00:00+01:00"
        },
        {
         "Binary Return": 0,
         "Predicted Value": 0,
         "_deepnote_index_column": "2019-09-09 13:00:00+01:00"
        },
        {
         "Binary Return": 1,
         "Predicted Value": 1,
         "_deepnote_index_column": "2019-09-09 14:00:00+01:00"
        },
        {
         "Binary Return": 1,
         "Predicted Value": 0,
         "_deepnote_index_column": "2019-09-09 15:00:00+01:00"
        },
        {
         "Binary Return": 0,
         "Predicted Value": 1,
         "_deepnote_index_column": "2019-09-09 16:00:00+01:00"
        },
        {
         "Binary Return": 0,
         "Predicted Value": 1,
         "_deepnote_index_column": "2019-09-09 17:00:00+01:00"
        },
        {
         "Binary Return": 0,
         "Predicted Value": 1,
         "_deepnote_index_column": "2019-09-09 18:00:00+01:00"
        },
        {
         "Binary Return": 1,
         "Predicted Value": 1,
         "_deepnote_index_column": "2019-09-09 19:00:00+01:00"
        },
        {
         "Binary Return": 0,
         "Predicted Value": 1,
         "_deepnote_index_column": "2019-09-09 20:00:00+01:00"
        },
        {
         "Binary Return": 0,
         "Predicted Value": 1,
         "_deepnote_index_column": "2019-09-09 21:00:00+01:00"
        },
        {
         "Binary Return": 1,
         "Predicted Value": 1,
         "_deepnote_index_column": "2019-09-09 22:00:00+01:00"
        },
        {
         "Binary Return": 1,
         "Predicted Value": 1,
         "_deepnote_index_column": "2019-09-09 23:00:00+01:00"
        },
        {
         "Binary Return": 0,
         "Predicted Value": 1,
         "_deepnote_index_column": "2019-09-10 00:00:00+01:00"
        },
        {
         "Binary Return": 1,
         "Predicted Value": 1,
         "_deepnote_index_column": "2019-09-10 01:00:00+01:00"
        },
        {
         "Binary Return": 1,
         "Predicted Value": 1,
         "_deepnote_index_column": "2019-09-10 02:00:00+01:00"
        },
        {
         "Binary Return": 1,
         "Predicted Value": 0,
         "_deepnote_index_column": "2019-09-10 03:00:00+01:00"
        },
        {
         "Binary Return": 1,
         "Predicted Value": 1,
         "_deepnote_index_column": "2019-09-10 04:00:00+01:00"
        },
        {
         "Binary Return": 1,
         "Predicted Value": 1,
         "_deepnote_index_column": "2019-09-10 05:00:00+01:00"
        },
        {
         "Binary Return": 0,
         "Predicted Value": 0,
         "_deepnote_index_column": "2019-09-10 06:00:00+01:00"
        },
        {
         "Binary Return": 1,
         "Predicted Value": 1,
         "_deepnote_index_column": "2019-09-10 07:00:00+01:00"
        },
        {
         "Binary Return": 1,
         "Predicted Value": 1,
         "_deepnote_index_column": "2019-09-10 08:00:00+01:00"
        },
        {
         "Binary Return": 0,
         "Predicted Value": 1,
         "_deepnote_index_column": "2019-09-10 09:00:00+01:00"
        },
        {
         "Binary Return": 0,
         "Predicted Value": 1,
         "_deepnote_index_column": "2019-09-10 10:00:00+01:00"
        },
        {
         "Binary Return": 1,
         "Predicted Value": 1,
         "_deepnote_index_column": "2019-09-10 11:00:00+01:00"
        },
        {
         "Binary Return": 1,
         "Predicted Value": 1,
         "_deepnote_index_column": "2019-09-10 12:00:00+01:00"
        },
        {
         "Binary Return": 1,
         "Predicted Value": 1,
         "_deepnote_index_column": "2019-09-10 13:00:00+01:00"
        },
        {
         "Binary Return": 0,
         "Predicted Value": 1,
         "_deepnote_index_column": "2019-09-10 14:00:00+01:00"
        },
        {
         "Binary Return": 0,
         "Predicted Value": 1,
         "_deepnote_index_column": "2019-09-10 15:00:00+01:00"
        },
        {
         "Binary Return": 0,
         "Predicted Value": 1,
         "_deepnote_index_column": "2019-09-10 16:00:00+01:00"
        },
        {
         "Binary Return": 0,
         "Predicted Value": 1,
         "_deepnote_index_column": "2019-09-10 17:00:00+01:00"
        },
        {
         "Binary Return": 0,
         "Predicted Value": 1,
         "_deepnote_index_column": "2019-09-10 18:00:00+01:00"
        },
        {
         "Binary Return": 0,
         "Predicted Value": 0,
         "_deepnote_index_column": "2019-09-10 19:00:00+01:00"
        },
        {
         "Binary Return": 0,
         "Predicted Value": 1,
         "_deepnote_index_column": "2019-09-10 20:00:00+01:00"
        },
        {
         "Binary Return": 0,
         "Predicted Value": 1,
         "_deepnote_index_column": "2019-09-10 21:00:00+01:00"
        },
        {
         "Binary Return": 1,
         "Predicted Value": 1,
         "_deepnote_index_column": "2019-09-10 22:00:00+01:00"
        },
        {
         "Binary Return": 0,
         "Predicted Value": 1,
         "_deepnote_index_column": "2019-09-10 23:00:00+01:00"
        },
        {
         "Binary Return": 1,
         "Predicted Value": 1,
         "_deepnote_index_column": "2019-09-11 00:00:00+01:00"
        },
        {
         "Binary Return": 0,
         "Predicted Value": 1,
         "_deepnote_index_column": "2019-09-11 01:00:00+01:00"
        },
        {
         "Binary Return": 0,
         "Predicted Value": 1,
         "_deepnote_index_column": "2019-09-11 02:00:00+01:00"
        },
        {
         "Binary Return": 1,
         "Predicted Value": 1,
         "_deepnote_index_column": "2019-09-11 03:00:00+01:00"
        },
        {
         "Binary Return": 1,
         "Predicted Value": 1,
         "_deepnote_index_column": "2019-09-11 04:00:00+01:00"
        },
        {
         "Binary Return": 0,
         "Predicted Value": 1,
         "_deepnote_index_column": "2019-09-11 05:00:00+01:00"
        },
        {
         "Binary Return": 0,
         "Predicted Value": 1,
         "_deepnote_index_column": "2019-09-11 06:00:00+01:00"
        },
        {
         "Binary Return": 0,
         "Predicted Value": 1,
         "_deepnote_index_column": "2019-09-11 07:00:00+01:00"
        },
        {
         "Binary Return": 0,
         "Predicted Value": 1,
         "_deepnote_index_column": "2019-09-11 08:00:00+01:00"
        },
        {
         "Binary Return": 0,
         "Predicted Value": 1,
         "_deepnote_index_column": "2019-09-11 09:00:00+01:00"
        },
        {
         "Binary Return": 0,
         "Predicted Value": 0,
         "_deepnote_index_column": "2019-09-11 10:00:00+01:00"
        },
        {
         "Binary Return": 1,
         "Predicted Value": 1,
         "_deepnote_index_column": "2019-09-11 11:00:00+01:00"
        },
        {
         "Binary Return": 0,
         "Predicted Value": 1,
         "_deepnote_index_column": "2019-09-11 12:00:00+01:00"
        }
       ],
       "rows_bottom": [
        {
         "Binary Return": 0,
         "Predicted Value": 1,
         "_deepnote_index_column": "2021-07-31 13:00:00+01:00"
        },
        {
         "Binary Return": 0,
         "Predicted Value": 1,
         "_deepnote_index_column": "2021-07-31 14:00:00+01:00"
        },
        {
         "Binary Return": 0,
         "Predicted Value": 1,
         "_deepnote_index_column": "2021-07-31 15:00:00+01:00"
        },
        {
         "Binary Return": 1,
         "Predicted Value": 1,
         "_deepnote_index_column": "2021-07-31 16:00:00+01:00"
        },
        {
         "Binary Return": 0,
         "Predicted Value": 1,
         "_deepnote_index_column": "2021-07-31 17:00:00+01:00"
        },
        {
         "Binary Return": 0,
         "Predicted Value": 1,
         "_deepnote_index_column": "2021-07-31 18:00:00+01:00"
        },
        {
         "Binary Return": 1,
         "Predicted Value": 1,
         "_deepnote_index_column": "2021-07-31 19:00:00+01:00"
        },
        {
         "Binary Return": 0,
         "Predicted Value": 1,
         "_deepnote_index_column": "2021-07-31 20:00:00+01:00"
        },
        {
         "Binary Return": 1,
         "Predicted Value": 1,
         "_deepnote_index_column": "2021-07-31 21:00:00+01:00"
        },
        {
         "Binary Return": 1,
         "Predicted Value": 1,
         "_deepnote_index_column": "2021-07-31 22:00:00+01:00"
        },
        {
         "Binary Return": 0,
         "Predicted Value": 1,
         "_deepnote_index_column": "2021-07-31 23:00:00+01:00"
        },
        {
         "Binary Return": 0,
         "Predicted Value": 1,
         "_deepnote_index_column": "2021-08-01 00:00:00+01:00"
        },
        {
         "Binary Return": 1,
         "Predicted Value": 1,
         "_deepnote_index_column": "2021-08-01 01:00:00+01:00"
        },
        {
         "Binary Return": 0,
         "Predicted Value": 0,
         "_deepnote_index_column": "2021-08-01 02:00:00+01:00"
        },
        {
         "Binary Return": 0,
         "Predicted Value": 1,
         "_deepnote_index_column": "2021-08-01 03:00:00+01:00"
        },
        {
         "Binary Return": 1,
         "Predicted Value": 1,
         "_deepnote_index_column": "2021-08-01 04:00:00+01:00"
        },
        {
         "Binary Return": 0,
         "Predicted Value": 1,
         "_deepnote_index_column": "2021-08-01 05:00:00+01:00"
        },
        {
         "Binary Return": 1,
         "Predicted Value": 1,
         "_deepnote_index_column": "2021-08-01 06:00:00+01:00"
        },
        {
         "Binary Return": 1,
         "Predicted Value": 1,
         "_deepnote_index_column": "2021-08-01 07:00:00+01:00"
        },
        {
         "Binary Return": 0,
         "Predicted Value": 1,
         "_deepnote_index_column": "2021-08-01 08:00:00+01:00"
        },
        {
         "Binary Return": 0,
         "Predicted Value": 1,
         "_deepnote_index_column": "2021-08-01 09:00:00+01:00"
        },
        {
         "Binary Return": 1,
         "Predicted Value": 1,
         "_deepnote_index_column": "2021-08-01 10:00:00+01:00"
        },
        {
         "Binary Return": 0,
         "Predicted Value": 1,
         "_deepnote_index_column": "2021-08-01 11:00:00+01:00"
        },
        {
         "Binary Return": 1,
         "Predicted Value": 1,
         "_deepnote_index_column": "2021-08-01 12:00:00+01:00"
        },
        {
         "Binary Return": 1,
         "Predicted Value": 1,
         "_deepnote_index_column": "2021-08-01 13:00:00+01:00"
        },
        {
         "Binary Return": 0,
         "Predicted Value": 1,
         "_deepnote_index_column": "2021-08-01 14:00:00+01:00"
        },
        {
         "Binary Return": 0,
         "Predicted Value": 1,
         "_deepnote_index_column": "2021-08-01 15:00:00+01:00"
        },
        {
         "Binary Return": 1,
         "Predicted Value": 1,
         "_deepnote_index_column": "2021-08-01 16:00:00+01:00"
        },
        {
         "Binary Return": 1,
         "Predicted Value": 1,
         "_deepnote_index_column": "2021-08-01 17:00:00+01:00"
        },
        {
         "Binary Return": 0,
         "Predicted Value": 1,
         "_deepnote_index_column": "2021-08-01 18:00:00+01:00"
        },
        {
         "Binary Return": 1,
         "Predicted Value": 1,
         "_deepnote_index_column": "2021-08-01 19:00:00+01:00"
        },
        {
         "Binary Return": 1,
         "Predicted Value": 0,
         "_deepnote_index_column": "2021-08-01 20:00:00+01:00"
        },
        {
         "Binary Return": 1,
         "Predicted Value": 1,
         "_deepnote_index_column": "2021-08-01 21:00:00+01:00"
        },
        {
         "Binary Return": 0,
         "Predicted Value": 0,
         "_deepnote_index_column": "2021-08-01 22:00:00+01:00"
        },
        {
         "Binary Return": 0,
         "Predicted Value": 1,
         "_deepnote_index_column": "2021-08-01 23:00:00+01:00"
        },
        {
         "Binary Return": 0,
         "Predicted Value": 0,
         "_deepnote_index_column": "2021-08-02 00:00:00+01:00"
        },
        {
         "Binary Return": 0,
         "Predicted Value": 1,
         "_deepnote_index_column": "2021-08-02 01:00:00+01:00"
        },
        {
         "Binary Return": 1,
         "Predicted Value": 1,
         "_deepnote_index_column": "2021-08-02 02:00:00+01:00"
        },
        {
         "Binary Return": 1,
         "Predicted Value": 1,
         "_deepnote_index_column": "2021-08-02 03:00:00+01:00"
        },
        {
         "Binary Return": 0,
         "Predicted Value": 1,
         "_deepnote_index_column": "2021-08-02 04:00:00+01:00"
        },
        {
         "Binary Return": 1,
         "Predicted Value": 1,
         "_deepnote_index_column": "2021-08-02 05:00:00+01:00"
        },
        {
         "Binary Return": 1,
         "Predicted Value": 1,
         "_deepnote_index_column": "2021-08-02 06:00:00+01:00"
        },
        {
         "Binary Return": 1,
         "Predicted Value": 1,
         "_deepnote_index_column": "2021-08-02 07:00:00+01:00"
        },
        {
         "Binary Return": 0,
         "Predicted Value": 0,
         "_deepnote_index_column": "2021-08-02 08:00:00+01:00"
        },
        {
         "Binary Return": 0,
         "Predicted Value": 1,
         "_deepnote_index_column": "2021-08-02 09:00:00+01:00"
        },
        {
         "Binary Return": 1,
         "Predicted Value": 1,
         "_deepnote_index_column": "2021-08-02 10:00:00+01:00"
        },
        {
         "Binary Return": 1,
         "Predicted Value": 1,
         "_deepnote_index_column": "2021-08-02 11:00:00+01:00"
        },
        {
         "Binary Return": 0,
         "Predicted Value": 0,
         "_deepnote_index_column": "2021-08-02 12:00:00+01:00"
        },
        {
         "Binary Return": 0,
         "Predicted Value": 1,
         "_deepnote_index_column": "2021-08-02 13:00:00+01:00"
        },
        {
         "Binary Return": 1,
         "Predicted Value": 0,
         "_deepnote_index_column": "2021-08-02 14:00:00+01:00"
        },
        {
         "Binary Return": 1,
         "Predicted Value": 1,
         "_deepnote_index_column": "2021-08-02 15:00:00+01:00"
        },
        {
         "Binary Return": 0,
         "Predicted Value": 1,
         "_deepnote_index_column": "2021-08-02 16:00:00+01:00"
        },
        {
         "Binary Return": 1,
         "Predicted Value": 1,
         "_deepnote_index_column": "2021-08-02 17:00:00+01:00"
        },
        {
         "Binary Return": 0,
         "Predicted Value": 1,
         "_deepnote_index_column": "2021-08-02 18:00:00+01:00"
        },
        {
         "Binary Return": 0,
         "Predicted Value": 0,
         "_deepnote_index_column": "2021-08-02 19:00:00+01:00"
        },
        {
         "Binary Return": 0,
         "Predicted Value": 1,
         "_deepnote_index_column": "2021-08-02 20:00:00+01:00"
        },
        {
         "Binary Return": 0,
         "Predicted Value": 1,
         "_deepnote_index_column": "2021-08-02 21:00:00+01:00"
        },
        {
         "Binary Return": 1,
         "Predicted Value": 0,
         "_deepnote_index_column": "2021-08-02 22:00:00+01:00"
        },
        {
         "Binary Return": 1,
         "Predicted Value": 1,
         "_deepnote_index_column": "2021-08-02 23:00:00+01:00"
        },
        {
         "Binary Return": 0,
         "Predicted Value": 1,
         "_deepnote_index_column": "2021-08-03 00:00:00+01:00"
        },
        {
         "Binary Return": 0,
         "Predicted Value": 1,
         "_deepnote_index_column": "2021-08-03 01:00:00+01:00"
        },
        {
         "Binary Return": 0,
         "Predicted Value": 1,
         "_deepnote_index_column": "2021-08-03 02:00:00+01:00"
        },
        {
         "Binary Return": 1,
         "Predicted Value": 1,
         "_deepnote_index_column": "2021-08-03 03:00:00+01:00"
        },
        {
         "Binary Return": 0,
         "Predicted Value": 1,
         "_deepnote_index_column": "2021-08-03 04:00:00+01:00"
        },
        {
         "Binary Return": 0,
         "Predicted Value": 1,
         "_deepnote_index_column": "2021-08-03 05:00:00+01:00"
        },
        {
         "Binary Return": 0,
         "Predicted Value": 1,
         "_deepnote_index_column": "2021-08-03 06:00:00+01:00"
        },
        {
         "Binary Return": 1,
         "Predicted Value": 1,
         "_deepnote_index_column": "2021-08-03 07:00:00+01:00"
        },
        {
         "Binary Return": 0,
         "Predicted Value": 1,
         "_deepnote_index_column": "2021-08-03 08:00:00+01:00"
        },
        {
         "Binary Return": 0,
         "Predicted Value": 1,
         "_deepnote_index_column": "2021-08-03 09:00:00+01:00"
        },
        {
         "Binary Return": 1,
         "Predicted Value": 1,
         "_deepnote_index_column": "2021-08-03 10:00:00+01:00"
        },
        {
         "Binary Return": 1,
         "Predicted Value": 1,
         "_deepnote_index_column": "2021-08-03 11:00:00+01:00"
        },
        {
         "Binary Return": 0,
         "Predicted Value": 1,
         "_deepnote_index_column": "2021-08-03 12:00:00+01:00"
        },
        {
         "Binary Return": 1,
         "Predicted Value": 1,
         "_deepnote_index_column": "2021-08-03 13:00:00+01:00"
        },
        {
         "Binary Return": 1,
         "Predicted Value": 1,
         "_deepnote_index_column": "2021-08-03 14:00:00+01:00"
        },
        {
         "Binary Return": 0,
         "Predicted Value": 1,
         "_deepnote_index_column": "2021-08-03 15:00:00+01:00"
        },
        {
         "Binary Return": 0,
         "Predicted Value": 1,
         "_deepnote_index_column": "2021-08-03 16:00:00+01:00"
        },
        {
         "Binary Return": 1,
         "Predicted Value": 1,
         "_deepnote_index_column": "2021-08-03 17:00:00+01:00"
        },
        {
         "Binary Return": 0,
         "Predicted Value": 0,
         "_deepnote_index_column": "2021-08-03 18:00:00+01:00"
        },
        {
         "Binary Return": 1,
         "Predicted Value": 1,
         "_deepnote_index_column": "2021-08-03 19:00:00+01:00"
        },
        {
         "Binary Return": 1,
         "Predicted Value": 1,
         "_deepnote_index_column": "2021-08-03 20:00:00+01:00"
        },
        {
         "Binary Return": 1,
         "Predicted Value": 1,
         "_deepnote_index_column": "2021-08-03 21:00:00+01:00"
        },
        {
         "Binary Return": 1,
         "Predicted Value": 0,
         "_deepnote_index_column": "2021-08-03 22:00:00+01:00"
        },
        {
         "Binary Return": 1,
         "Predicted Value": 1,
         "_deepnote_index_column": "2021-08-03 23:00:00+01:00"
        },
        {
         "Binary Return": 0,
         "Predicted Value": 1,
         "_deepnote_index_column": "2021-08-04 00:00:00+01:00"
        },
        {
         "Binary Return": 1,
         "Predicted Value": 1,
         "_deepnote_index_column": "2021-08-04 01:00:00+01:00"
        },
        {
         "Binary Return": 0,
         "Predicted Value": 1,
         "_deepnote_index_column": "2021-08-04 02:00:00+01:00"
        },
        {
         "Binary Return": 0,
         "Predicted Value": 1,
         "_deepnote_index_column": "2021-08-04 03:00:00+01:00"
        },
        {
         "Binary Return": 0,
         "Predicted Value": 1,
         "_deepnote_index_column": "2021-08-04 04:00:00+01:00"
        },
        {
         "Binary Return": 1,
         "Predicted Value": 1,
         "_deepnote_index_column": "2021-08-04 05:00:00+01:00"
        },
        {
         "Binary Return": 0,
         "Predicted Value": 1,
         "_deepnote_index_column": "2021-08-04 06:00:00+01:00"
        },
        {
         "Binary Return": 0,
         "Predicted Value": 1,
         "_deepnote_index_column": "2021-08-04 07:00:00+01:00"
        },
        {
         "Binary Return": 0,
         "Predicted Value": 1,
         "_deepnote_index_column": "2021-08-04 08:00:00+01:00"
        },
        {
         "Binary Return": 0,
         "Predicted Value": 1,
         "_deepnote_index_column": "2021-08-04 09:00:00+01:00"
        },
        {
         "Binary Return": 0,
         "Predicted Value": 1,
         "_deepnote_index_column": "2021-08-04 10:00:00+01:00"
        },
        {
         "Binary Return": 1,
         "Predicted Value": 1,
         "_deepnote_index_column": "2021-08-04 11:00:00+01:00"
        },
        {
         "Binary Return": 1,
         "Predicted Value": 1,
         "_deepnote_index_column": "2021-08-04 12:00:00+01:00"
        },
        {
         "Binary Return": 1,
         "Predicted Value": 1,
         "_deepnote_index_column": "2021-08-04 15:00:00+01:00"
        },
        {
         "Binary Return": 1,
         "Predicted Value": 0,
         "_deepnote_index_column": "2021-08-04 16:00:00+01:00"
        },
        {
         "Binary Return": 1,
         "Predicted Value": 1,
         "_deepnote_index_column": "2021-08-04 17:00:00+01:00"
        },
        {
         "Binary Return": 0,
         "Predicted Value": 0,
         "_deepnote_index_column": "2021-08-04 18:00:00+01:00"
        },
        {
         "Binary Return": 1,
         "Predicted Value": 1,
         "_deepnote_index_column": "2021-08-04 19:00:00+01:00"
        },
        {
         "Binary Return": 1,
         "Predicted Value": 1,
         "_deepnote_index_column": "2021-08-04 20:00:00+01:00"
        },
        {
         "Binary Return": 1,
         "Predicted Value": 1,
         "_deepnote_index_column": "2021-08-04 21:00:00+01:00"
        },
        {
         "Binary Return": 1,
         "Predicted Value": 1,
         "_deepnote_index_column": "2021-08-04 22:00:00+01:00"
        },
        {
         "Binary Return": 0,
         "Predicted Value": 1,
         "_deepnote_index_column": "2021-08-04 23:00:00+01:00"
        },
        {
         "Binary Return": 1,
         "Predicted Value": 1,
         "_deepnote_index_column": "2021-08-05 00:00:00+01:00"
        },
        {
         "Binary Return": 0,
         "Predicted Value": 1,
         "_deepnote_index_column": "2021-08-05 03:00:00+01:00"
        },
        {
         "Binary Return": 1,
         "Predicted Value": 1,
         "_deepnote_index_column": "2021-08-05 04:00:00+01:00"
        },
        {
         "Binary Return": 1,
         "Predicted Value": 1,
         "_deepnote_index_column": "2021-08-05 05:00:00+01:00"
        },
        {
         "Binary Return": 0,
         "Predicted Value": 1,
         "_deepnote_index_column": "2021-08-05 06:00:00+01:00"
        },
        {
         "Binary Return": 0,
         "Predicted Value": 1,
         "_deepnote_index_column": "2021-08-05 07:00:00+01:00"
        },
        {
         "Binary Return": 0,
         "Predicted Value": 1,
         "_deepnote_index_column": "2021-08-05 08:00:00+01:00"
        },
        {
         "Binary Return": 0,
         "Predicted Value": 1,
         "_deepnote_index_column": "2021-08-05 09:00:00+01:00"
        },
        {
         "Binary Return": 0,
         "Predicted Value": 1,
         "_deepnote_index_column": "2021-08-05 10:00:00+01:00"
        },
        {
         "Binary Return": 1,
         "Predicted Value": 1,
         "_deepnote_index_column": "2021-08-05 11:00:00+01:00"
        },
        {
         "Binary Return": 1,
         "Predicted Value": 0,
         "_deepnote_index_column": "2021-08-05 12:00:00+01:00"
        },
        {
         "Binary Return": 1,
         "Predicted Value": 1,
         "_deepnote_index_column": "2021-08-05 13:00:00+01:00"
        },
        {
         "Binary Return": 0,
         "Predicted Value": 1,
         "_deepnote_index_column": "2021-08-05 14:00:00+01:00"
        },
        {
         "Binary Return": 1,
         "Predicted Value": 1,
         "_deepnote_index_column": "2021-08-05 15:00:00+01:00"
        },
        {
         "Binary Return": 0,
         "Predicted Value": 1,
         "_deepnote_index_column": "2021-08-05 16:00:00+01:00"
        },
        {
         "Binary Return": 1,
         "Predicted Value": 1,
         "_deepnote_index_column": "2021-08-05 17:00:00+01:00"
        },
        {
         "Binary Return": 1,
         "Predicted Value": 1,
         "_deepnote_index_column": "2021-08-05 18:00:00+01:00"
        },
        {
         "Binary Return": 0,
         "Predicted Value": 0,
         "_deepnote_index_column": "2021-08-05 19:00:00+01:00"
        },
        {
         "Binary Return": 0,
         "Predicted Value": 1,
         "_deepnote_index_column": "2021-08-05 20:00:00+01:00"
        },
        {
         "Binary Return": 1,
         "Predicted Value": 1,
         "_deepnote_index_column": "2021-08-05 21:00:00+01:00"
        },
        {
         "Binary Return": 1,
         "Predicted Value": 1,
         "_deepnote_index_column": "2021-08-05 22:00:00+01:00"
        },
        {
         "Binary Return": 1,
         "Predicted Value": 1,
         "_deepnote_index_column": "2021-08-05 23:00:00+01:00"
        },
        {
         "Binary Return": 0,
         "Predicted Value": 1,
         "_deepnote_index_column": "2021-08-06 00:00:00+01:00"
        },
        {
         "Binary Return": 0,
         "Predicted Value": 1,
         "_deepnote_index_column": "2021-08-06 01:00:00+01:00"
        },
        {
         "Binary Return": 1,
         "Predicted Value": 1,
         "_deepnote_index_column": "2021-08-06 02:00:00+01:00"
        },
        {
         "Binary Return": 0,
         "Predicted Value": 1,
         "_deepnote_index_column": "2021-08-06 03:00:00+01:00"
        },
        {
         "Binary Return": 0,
         "Predicted Value": 1,
         "_deepnote_index_column": "2021-08-06 04:00:00+01:00"
        },
        {
         "Binary Return": 1,
         "Predicted Value": 1,
         "_deepnote_index_column": "2021-08-06 05:00:00+01:00"
        },
        {
         "Binary Return": 1,
         "Predicted Value": 1,
         "_deepnote_index_column": "2021-08-06 06:00:00+01:00"
        },
        {
         "Binary Return": 1,
         "Predicted Value": 1,
         "_deepnote_index_column": "2021-08-06 07:00:00+01:00"
        },
        {
         "Binary Return": 0,
         "Predicted Value": 1,
         "_deepnote_index_column": "2021-08-06 08:00:00+01:00"
        },
        {
         "Binary Return": 1,
         "Predicted Value": 1,
         "_deepnote_index_column": "2021-08-06 09:00:00+01:00"
        },
        {
         "Binary Return": 0,
         "Predicted Value": 1,
         "_deepnote_index_column": "2021-08-06 10:00:00+01:00"
        },
        {
         "Binary Return": 0,
         "Predicted Value": 1,
         "_deepnote_index_column": "2021-08-06 11:00:00+01:00"
        },
        {
         "Binary Return": 0,
         "Predicted Value": 1,
         "_deepnote_index_column": "2021-08-06 12:00:00+01:00"
        },
        {
         "Binary Return": 1,
         "Predicted Value": 1,
         "_deepnote_index_column": "2021-08-06 13:00:00+01:00"
        },
        {
         "Binary Return": 1,
         "Predicted Value": 1,
         "_deepnote_index_column": "2021-08-06 14:00:00+01:00"
        },
        {
         "Binary Return": 0,
         "Predicted Value": 1,
         "_deepnote_index_column": "2021-08-06 15:00:00+01:00"
        },
        {
         "Binary Return": 1,
         "Predicted Value": 1,
         "_deepnote_index_column": "2021-08-06 16:00:00+01:00"
        },
        {
         "Binary Return": 1,
         "Predicted Value": 1,
         "_deepnote_index_column": "2021-08-06 17:00:00+01:00"
        },
        {
         "Binary Return": 1,
         "Predicted Value": 0,
         "_deepnote_index_column": "2021-08-06 18:00:00+01:00"
        },
        {
         "Binary Return": 0,
         "Predicted Value": 1,
         "_deepnote_index_column": "2021-08-06 19:00:00+01:00"
        },
        {
         "Binary Return": 1,
         "Predicted Value": 1,
         "_deepnote_index_column": "2021-08-06 20:00:00+01:00"
        },
        {
         "Binary Return": 0,
         "Predicted Value": 1,
         "_deepnote_index_column": "2021-08-06 21:00:00+01:00"
        },
        {
         "Binary Return": 0,
         "Predicted Value": 1,
         "_deepnote_index_column": "2021-08-06 22:00:00+01:00"
        },
        {
         "Binary Return": 1,
         "Predicted Value": 1,
         "_deepnote_index_column": "2021-08-06 23:00:00+01:00"
        },
        {
         "Binary Return": 1,
         "Predicted Value": 1,
         "_deepnote_index_column": "2021-08-07 00:00:00+01:00"
        },
        {
         "Binary Return": 1,
         "Predicted Value": 1,
         "_deepnote_index_column": "2021-08-07 01:00:00+01:00"
        },
        {
         "Binary Return": 1,
         "Predicted Value": 1,
         "_deepnote_index_column": "2021-08-07 02:00:00+01:00"
        },
        {
         "Binary Return": 1,
         "Predicted Value": 1,
         "_deepnote_index_column": "2021-08-07 03:00:00+01:00"
        },
        {
         "Binary Return": 1,
         "Predicted Value": 0,
         "_deepnote_index_column": "2021-08-07 04:00:00+01:00"
        },
        {
         "Binary Return": 0,
         "Predicted Value": 1,
         "_deepnote_index_column": "2021-08-07 05:00:00+01:00"
        },
        {
         "Binary Return": 1,
         "Predicted Value": 1,
         "_deepnote_index_column": "2021-08-07 06:00:00+01:00"
        },
        {
         "Binary Return": 0,
         "Predicted Value": 1,
         "_deepnote_index_column": "2021-08-07 07:00:00+01:00"
        },
        {
         "Binary Return": 0,
         "Predicted Value": 1,
         "_deepnote_index_column": "2021-08-07 08:00:00+01:00"
        },
        {
         "Binary Return": 1,
         "Predicted Value": 1,
         "_deepnote_index_column": "2021-08-07 09:00:00+01:00"
        },
        {
         "Binary Return": 1,
         "Predicted Value": 1,
         "_deepnote_index_column": "2021-08-07 10:00:00+01:00"
        },
        {
         "Binary Return": 1,
         "Predicted Value": 1,
         "_deepnote_index_column": "2021-08-07 11:00:00+01:00"
        },
        {
         "Binary Return": 1,
         "Predicted Value": 1,
         "_deepnote_index_column": "2021-08-07 12:00:00+01:00"
        },
        {
         "Binary Return": 0,
         "Predicted Value": 1,
         "_deepnote_index_column": "2021-08-07 13:00:00+01:00"
        },
        {
         "Binary Return": 0,
         "Predicted Value": 1,
         "_deepnote_index_column": "2021-08-07 14:00:00+01:00"
        },
        {
         "Binary Return": 1,
         "Predicted Value": 1,
         "_deepnote_index_column": "2021-08-07 15:00:00+01:00"
        },
        {
         "Binary Return": 1,
         "Predicted Value": 1,
         "_deepnote_index_column": "2021-08-07 16:00:00+01:00"
        },
        {
         "Binary Return": 0,
         "Predicted Value": 1,
         "_deepnote_index_column": "2021-08-07 17:00:00+01:00"
        },
        {
         "Binary Return": 0,
         "Predicted Value": 1,
         "_deepnote_index_column": "2021-08-07 18:00:00+01:00"
        },
        {
         "Binary Return": 1,
         "Predicted Value": 1,
         "_deepnote_index_column": "2021-08-07 19:00:00+01:00"
        },
        {
         "Binary Return": 1,
         "Predicted Value": 1,
         "_deepnote_index_column": "2021-08-07 20:00:00+01:00"
        },
        {
         "Binary Return": 1,
         "Predicted Value": 1,
         "_deepnote_index_column": "2021-08-07 21:00:00+01:00"
        },
        {
         "Binary Return": 0,
         "Predicted Value": 1,
         "_deepnote_index_column": "2021-08-07 22:00:00+01:00"
        },
        {
         "Binary Return": 1,
         "Predicted Value": 1,
         "_deepnote_index_column": "2021-08-07 23:00:00+01:00"
        },
        {
         "Binary Return": 1,
         "Predicted Value": 1,
         "_deepnote_index_column": "2021-08-08 00:00:00+01:00"
        },
        {
         "Binary Return": 1,
         "Predicted Value": 1,
         "_deepnote_index_column": "2021-08-08 01:00:00+01:00"
        },
        {
         "Binary Return": 0,
         "Predicted Value": 1,
         "_deepnote_index_column": "2021-08-08 02:00:00+01:00"
        },
        {
         "Binary Return": 0,
         "Predicted Value": 1,
         "_deepnote_index_column": "2021-08-08 03:00:00+01:00"
        },
        {
         "Binary Return": 1,
         "Predicted Value": 1,
         "_deepnote_index_column": "2021-08-08 04:00:00+01:00"
        },
        {
         "Binary Return": 0,
         "Predicted Value": 1,
         "_deepnote_index_column": "2021-08-08 05:00:00+01:00"
        },
        {
         "Binary Return": 1,
         "Predicted Value": 1,
         "_deepnote_index_column": "2021-08-08 06:00:00+01:00"
        },
        {
         "Binary Return": 1,
         "Predicted Value": 1,
         "_deepnote_index_column": "2021-08-08 07:00:00+01:00"
        },
        {
         "Binary Return": 0,
         "Predicted Value": 0,
         "_deepnote_index_column": "2021-08-08 08:00:00+01:00"
        },
        {
         "Binary Return": 0,
         "Predicted Value": 1,
         "_deepnote_index_column": "2021-08-08 09:00:00+01:00"
        },
        {
         "Binary Return": 1,
         "Predicted Value": 1,
         "_deepnote_index_column": "2021-08-08 10:00:00+01:00"
        },
        {
         "Binary Return": 0,
         "Predicted Value": 1,
         "_deepnote_index_column": "2021-08-08 11:00:00+01:00"
        },
        {
         "Binary Return": 0,
         "Predicted Value": 1,
         "_deepnote_index_column": "2021-08-08 12:00:00+01:00"
        },
        {
         "Binary Return": 1,
         "Predicted Value": 1,
         "_deepnote_index_column": "2021-08-08 13:00:00+01:00"
        },
        {
         "Binary Return": 0,
         "Predicted Value": 1,
         "_deepnote_index_column": "2021-08-08 14:00:00+01:00"
        },
        {
         "Binary Return": 0,
         "Predicted Value": 1,
         "_deepnote_index_column": "2021-08-08 15:00:00+01:00"
        },
        {
         "Binary Return": 0,
         "Predicted Value": 1,
         "_deepnote_index_column": "2021-08-08 16:00:00+01:00"
        },
        {
         "Binary Return": 0,
         "Predicted Value": 1,
         "_deepnote_index_column": "2021-08-08 17:00:00+01:00"
        },
        {
         "Binary Return": 1,
         "Predicted Value": 0,
         "_deepnote_index_column": "2021-08-08 18:00:00+01:00"
        },
        {
         "Binary Return": 0,
         "Predicted Value": 1,
         "_deepnote_index_column": "2021-08-08 19:00:00+01:00"
        },
        {
         "Binary Return": 0,
         "Predicted Value": 0,
         "_deepnote_index_column": "2021-08-08 20:00:00+01:00"
        },
        {
         "Binary Return": 1,
         "Predicted Value": 1,
         "_deepnote_index_column": "2021-08-08 21:00:00+01:00"
        },
        {
         "Binary Return": 1,
         "Predicted Value": 1,
         "_deepnote_index_column": "2021-08-08 22:00:00+01:00"
        },
        {
         "Binary Return": 1,
         "Predicted Value": 1,
         "_deepnote_index_column": "2021-08-08 23:00:00+01:00"
        },
        {
         "Binary Return": 0,
         "Predicted Value": 1,
         "_deepnote_index_column": "2021-08-09 00:00:00+01:00"
        },
        {
         "Binary Return": 0,
         "Predicted Value": 1,
         "_deepnote_index_column": "2021-08-09 01:00:00+01:00"
        },
        {
         "Binary Return": 1,
         "Predicted Value": 1,
         "_deepnote_index_column": "2021-08-09 02:00:00+01:00"
        },
        {
         "Binary Return": 1,
         "Predicted Value": 1,
         "_deepnote_index_column": "2021-08-09 03:00:00+01:00"
        },
        {
         "Binary Return": 1,
         "Predicted Value": 1,
         "_deepnote_index_column": "2021-08-09 04:00:00+01:00"
        },
        {
         "Binary Return": 1,
         "Predicted Value": 1,
         "_deepnote_index_column": "2021-08-09 05:00:00+01:00"
        },
        {
         "Binary Return": 0,
         "Predicted Value": 1,
         "_deepnote_index_column": "2021-08-09 06:00:00+01:00"
        },
        {
         "Binary Return": 0,
         "Predicted Value": 0,
         "_deepnote_index_column": "2021-08-09 07:00:00+01:00"
        },
        {
         "Binary Return": 1,
         "Predicted Value": 1,
         "_deepnote_index_column": "2021-08-09 08:00:00+01:00"
        },
        {
         "Binary Return": 1,
         "Predicted Value": 1,
         "_deepnote_index_column": "2021-08-09 09:00:00+01:00"
        },
        {
         "Binary Return": 1,
         "Predicted Value": 1,
         "_deepnote_index_column": "2021-08-09 10:00:00+01:00"
        },
        {
         "Binary Return": 1,
         "Predicted Value": 1,
         "_deepnote_index_column": "2021-08-09 11:00:00+01:00"
        },
        {
         "Binary Return": 1,
         "Predicted Value": 0,
         "_deepnote_index_column": "2021-08-09 12:00:00+01:00"
        },
        {
         "Binary Return": 0,
         "Predicted Value": 1,
         "_deepnote_index_column": "2021-08-09 13:00:00+01:00"
        },
        {
         "Binary Return": 0,
         "Predicted Value": 1,
         "_deepnote_index_column": "2021-08-09 14:00:00+01:00"
        },
        {
         "Binary Return": 1,
         "Predicted Value": 1,
         "_deepnote_index_column": "2021-08-09 15:00:00+01:00"
        },
        {
         "Binary Return": 1,
         "Predicted Value": 1,
         "_deepnote_index_column": "2021-08-09 16:00:00+01:00"
        },
        {
         "Binary Return": 0,
         "Predicted Value": 1,
         "_deepnote_index_column": "2021-08-09 17:00:00+01:00"
        },
        {
         "Binary Return": 1,
         "Predicted Value": 1,
         "_deepnote_index_column": "2021-08-09 18:00:00+01:00"
        },
        {
         "Binary Return": 1,
         "Predicted Value": 1,
         "_deepnote_index_column": "2021-08-09 19:00:00+01:00"
        },
        {
         "Binary Return": 0,
         "Predicted Value": 1,
         "_deepnote_index_column": "2021-08-09 20:00:00+01:00"
        },
        {
         "Binary Return": 0,
         "Predicted Value": 1,
         "_deepnote_index_column": "2021-08-09 21:00:00+01:00"
        },
        {
         "Binary Return": 1,
         "Predicted Value": 1,
         "_deepnote_index_column": "2021-08-09 22:00:00+01:00"
        },
        {
         "Binary Return": 1,
         "Predicted Value": 1,
         "_deepnote_index_column": "2021-08-09 23:00:00+01:00"
        },
        {
         "Binary Return": 0,
         "Predicted Value": 0,
         "_deepnote_index_column": "2021-08-10 00:00:00+01:00"
        },
        {
         "Binary Return": 0,
         "Predicted Value": 1,
         "_deepnote_index_column": "2021-08-10 01:00:00+01:00"
        },
        {
         "Binary Return": 0,
         "Predicted Value": 1,
         "_deepnote_index_column": "2021-08-10 02:00:00+01:00"
        },
        {
         "Binary Return": 1,
         "Predicted Value": 1,
         "_deepnote_index_column": "2021-08-10 03:00:00+01:00"
        },
        {
         "Binary Return": 0,
         "Predicted Value": 1,
         "_deepnote_index_column": "2021-08-10 04:00:00+01:00"
        },
        {
         "Binary Return": 1,
         "Predicted Value": 1,
         "_deepnote_index_column": "2021-08-10 05:00:00+01:00"
        },
        {
         "Binary Return": 1,
         "Predicted Value": 1,
         "_deepnote_index_column": "2021-08-10 06:00:00+01:00"
        },
        {
         "Binary Return": 1,
         "Predicted Value": 1,
         "_deepnote_index_column": "2021-08-10 07:00:00+01:00"
        },
        {
         "Binary Return": 1,
         "Predicted Value": 1,
         "_deepnote_index_column": "2021-08-10 08:00:00+01:00"
        },
        {
         "Binary Return": 1,
         "Predicted Value": 1,
         "_deepnote_index_column": "2021-08-10 09:00:00+01:00"
        },
        {
         "Binary Return": 0,
         "Predicted Value": 1,
         "_deepnote_index_column": "2021-08-10 10:00:00+01:00"
        },
        {
         "Binary Return": 0,
         "Predicted Value": 1,
         "_deepnote_index_column": "2021-08-10 11:00:00+01:00"
        },
        {
         "Binary Return": 1,
         "Predicted Value": 1,
         "_deepnote_index_column": "2021-08-10 12:00:00+01:00"
        },
        {
         "Binary Return": 1,
         "Predicted Value": 1,
         "_deepnote_index_column": "2021-08-10 13:00:00+01:00"
        },
        {
         "Binary Return": 0,
         "Predicted Value": 0,
         "_deepnote_index_column": "2021-08-10 14:00:00+01:00"
        },
        {
         "Binary Return": 0,
         "Predicted Value": 1,
         "_deepnote_index_column": "2021-08-10 15:00:00+01:00"
        },
        {
         "Binary Return": 0,
         "Predicted Value": 1,
         "_deepnote_index_column": "2021-08-10 16:00:00+01:00"
        },
        {
         "Binary Return": 0,
         "Predicted Value": 1,
         "_deepnote_index_column": "2021-08-10 17:00:00+01:00"
        },
        {
         "Binary Return": 1,
         "Predicted Value": 1,
         "_deepnote_index_column": "2021-08-10 18:00:00+01:00"
        },
        {
         "Binary Return": 1,
         "Predicted Value": 1,
         "_deepnote_index_column": "2021-08-10 19:00:00+01:00"
        },
        {
         "Binary Return": 1,
         "Predicted Value": 1,
         "_deepnote_index_column": "2021-08-10 20:00:00+01:00"
        },
        {
         "Binary Return": 1,
         "Predicted Value": 0,
         "_deepnote_index_column": "2021-08-10 21:00:00+01:00"
        },
        {
         "Binary Return": 1,
         "Predicted Value": 1,
         "_deepnote_index_column": "2021-08-10 22:00:00+01:00"
        },
        {
         "Binary Return": 0,
         "Predicted Value": 1,
         "_deepnote_index_column": "2021-08-10 23:00:00+01:00"
        },
        {
         "Binary Return": 0,
         "Predicted Value": 1,
         "_deepnote_index_column": "2021-08-11 00:00:00+01:00"
        },
        {
         "Binary Return": 1,
         "Predicted Value": 1,
         "_deepnote_index_column": "2021-08-11 01:00:00+01:00"
        },
        {
         "Binary Return": 1,
         "Predicted Value": 1,
         "_deepnote_index_column": "2021-08-11 02:00:00+01:00"
        }
       ]
      },
      "text/plain": "                           Binary Return  Predicted Value\n2019-09-01 02:00:00+01:00              0                1\n2019-09-01 03:00:00+01:00              0                0\n2019-09-01 04:00:00+01:00              1                1\n2019-09-01 05:00:00+01:00              0                1\n2019-09-01 06:00:00+01:00              0                1\n...                                  ...              ...\n2021-08-10 22:00:00+01:00              1                1\n2021-08-10 23:00:00+01:00              0                1\n2021-08-11 00:00:00+01:00              0                1\n2021-08-11 01:00:00+01:00              1                1\n2021-08-11 02:00:00+01:00              1                1\n\n[17001 rows x 2 columns]",
      "text/html": "<div>\n<style scoped>\n    .dataframe tbody tr th:only-of-type {\n        vertical-align: middle;\n    }\n\n    .dataframe tbody tr th {\n        vertical-align: top;\n    }\n\n    .dataframe thead th {\n        text-align: right;\n    }\n</style>\n<table border=\"1\" class=\"dataframe\">\n  <thead>\n    <tr style=\"text-align: right;\">\n      <th></th>\n      <th>Binary Return</th>\n      <th>Predicted Value</th>\n    </tr>\n  </thead>\n  <tbody>\n    <tr>\n      <th>2019-09-01 02:00:00+01:00</th>\n      <td>0</td>\n      <td>1</td>\n    </tr>\n    <tr>\n      <th>2019-09-01 03:00:00+01:00</th>\n      <td>0</td>\n      <td>0</td>\n    </tr>\n    <tr>\n      <th>2019-09-01 04:00:00+01:00</th>\n      <td>1</td>\n      <td>1</td>\n    </tr>\n    <tr>\n      <th>2019-09-01 05:00:00+01:00</th>\n      <td>0</td>\n      <td>1</td>\n    </tr>\n    <tr>\n      <th>2019-09-01 06:00:00+01:00</th>\n      <td>0</td>\n      <td>1</td>\n    </tr>\n    <tr>\n      <th>...</th>\n      <td>...</td>\n      <td>...</td>\n    </tr>\n    <tr>\n      <th>2021-08-10 22:00:00+01:00</th>\n      <td>1</td>\n      <td>1</td>\n    </tr>\n    <tr>\n      <th>2021-08-10 23:00:00+01:00</th>\n      <td>0</td>\n      <td>1</td>\n    </tr>\n    <tr>\n      <th>2021-08-11 00:00:00+01:00</th>\n      <td>0</td>\n      <td>1</td>\n    </tr>\n    <tr>\n      <th>2021-08-11 01:00:00+01:00</th>\n      <td>1</td>\n      <td>1</td>\n    </tr>\n    <tr>\n      <th>2021-08-11 02:00:00+01:00</th>\n      <td>1</td>\n      <td>1</td>\n    </tr>\n  </tbody>\n</table>\n<p>17001 rows × 2 columns</p>\n</div>"
     },
     "metadata": {}
    }
   ]
  },
  {
   "cell_type": "code",
   "metadata": {
    "tags": [],
    "cell_id": "00013-66a62bcc-e6ba-4250-876f-525db8f14971",
    "deepnote_to_be_reexecuted": false,
    "source_hash": "c899529d",
    "execution_start": 1629324848368,
    "execution_millis": 958,
    "deepnote_cell_type": "code"
   },
   "source": "predictions = model.predict(X_test)\npredictions",
   "execution_count": null,
   "outputs": [
    {
     "output_type": "execute_result",
     "execution_count": 14,
     "data": {
      "text/plain": "array([1, 0, 1, ..., 1, 1, 1])"
     },
     "metadata": {}
    }
   ]
  },
  {
   "cell_type": "code",
   "metadata": {
    "tags": [],
    "cell_id": "00014-f69d5101-03ee-4f74-b3ce-666c1ecf5123",
    "deepnote_to_be_reexecuted": false,
    "source_hash": "5ab665ff",
    "execution_start": 1629324849335,
    "execution_millis": 5148,
    "deepnote_cell_type": "code"
   },
   "source": "# Plot predicted results vs. actual results\nResults[['Binary Return', 'Predicted Value']].plot(figsize=(20,10))",
   "execution_count": null,
   "outputs": [
    {
     "output_type": "execute_result",
     "execution_count": 15,
     "data": {
      "text/plain": "<AxesSubplot:>"
     },
     "metadata": {}
    },
    {
     "data": {
      "text/plain": "<Figure size 1440x720 with 1 Axes>",
      "image/png": "[encoded data removed]"
     },
     "metadata": {
      "needs_background": "light",
      "image/png": {
       "width": 1153,
       "height": 575
      }
     },
     "output_type": "display_data"
    }
   ]
  },
  {
   "cell_type": "code",
   "metadata": {
    "tags": [],
    "cell_id": "00015-f52bc199-015d-4657-9302-5259ca57f1a2",
    "deepnote_to_be_reexecuted": false,
    "source_hash": "7dab8804",
    "execution_start": 1629324854554,
    "execution_millis": 275,
    "deepnote_cell_type": "code"
   },
   "source": "# Plot last 10 records of predicted vs. actual results\nResults[['Binary Return', 'Predicted Value']].tail(10).plot()",
   "execution_count": null,
   "outputs": [
    {
     "output_type": "execute_result",
     "execution_count": 16,
     "data": {
      "text/plain": "<AxesSubplot:>"
     },
     "metadata": {}
    },
    {
     "data": {
      "text/plain": "<Figure size 432x288 with 1 Axes>",
      "image/png": "[encoded data removed]"
     },
     "metadata": {
      "needs_background": "light",
      "image/png": {
       "width": 426,
       "height": 248
      }
     },
     "output_type": "display_data"
    }
   ]
  },
  {
   "cell_type": "code",
   "metadata": {
    "tags": [],
    "cell_id": "00016-a61cd0ee-7093-43e4-9a9c-546664a42563",
    "deepnote_to_be_reexecuted": false,
    "source_hash": "24719521",
    "execution_start": 1629324854848,
    "execution_millis": 50,
    "deepnote_cell_type": "code"
   },
   "source": "# Replace predicted values 0 to -1 to account for shorting\nResults['Predicted Value'].replace(0, -1, inplace=True)\nResults",
   "execution_count": null,
   "outputs": [
    {
     "output_type": "execute_result",
     "execution_count": 17,
     "data": {
      "application/vnd.deepnote.dataframe.v2+json": {
       "row_count": 17001,
       "column_count": 2,
       "columns": [
        {
         "name": "Binary Return",
         "dtype": "int64",
         "stats": {
          "unique_count": 2,
          "nan_count": 0,
          "min": "0",
          "max": "1",
          "histogram": [
           {
            "bin_start": 0,
            "bin_end": 0.1,
            "count": 8475
           },
           {
            "bin_start": 0.1,
            "bin_end": 0.2,
            "count": 0
           },
           {
            "bin_start": 0.2,
            "bin_end": 0.30000000000000004,
            "count": 0
           },
           {
            "bin_start": 0.30000000000000004,
            "bin_end": 0.4,
            "count": 0
           },
           {
            "bin_start": 0.4,
            "bin_end": 0.5,
            "count": 0
           },
           {
            "bin_start": 0.5,
            "bin_end": 0.6000000000000001,
            "count": 0
           },
           {
            "bin_start": 0.6000000000000001,
            "bin_end": 0.7000000000000001,
            "count": 0
           },
           {
            "bin_start": 0.7000000000000001,
            "bin_end": 0.8,
            "count": 0
           },
           {
            "bin_start": 0.8,
            "bin_end": 0.9,
            "count": 0
           },
           {
            "bin_start": 0.9,
            "bin_end": 1,
            "count": 8526
           }
          ]
         }
        },
        {
         "name": "Predicted Value",
         "dtype": "int64",
         "stats": {
          "unique_count": 2,
          "nan_count": 0,
          "min": "-1",
          "max": "1",
          "histogram": [
           {
            "bin_start": -1,
            "bin_end": -0.8,
            "count": 1620
           },
           {
            "bin_start": -0.8,
            "bin_end": -0.6,
            "count": 0
           },
           {
            "bin_start": -0.6,
            "bin_end": -0.3999999999999999,
            "count": 0
           },
           {
            "bin_start": -0.3999999999999999,
            "bin_end": -0.19999999999999996,
            "count": 0
           },
           {
            "bin_start": -0.19999999999999996,
            "bin_end": 0,
            "count": 0
           },
           {
            "bin_start": 0,
            "bin_end": 0.20000000000000018,
            "count": 0
           },
           {
            "bin_start": 0.20000000000000018,
            "bin_end": 0.40000000000000013,
            "count": 0
           },
           {
            "bin_start": 0.40000000000000013,
            "bin_end": 0.6000000000000001,
            "count": 0
           },
           {
            "bin_start": 0.6000000000000001,
            "bin_end": 0.8,
            "count": 0
           },
           {
            "bin_start": 0.8,
            "bin_end": 1,
            "count": 15381
           }
          ]
         }
        },
        {
         "name": "_deepnote_index_column",
         "dtype": "object"
        }
       ],
       "rows_top": [
        {
         "Binary Return": 0,
         "Predicted Value": 1,
         "_deepnote_index_column": "2019-09-01 02:00:00+01:00"
        },
        {
         "Binary Return": 0,
         "Predicted Value": -1,
         "_deepnote_index_column": "2019-09-01 03:00:00+01:00"
        },
        {
         "Binary Return": 1,
         "Predicted Value": 1,
         "_deepnote_index_column": "2019-09-01 04:00:00+01:00"
        },
        {
         "Binary Return": 0,
         "Predicted Value": 1,
         "_deepnote_index_column": "2019-09-01 05:00:00+01:00"
        },
        {
         "Binary Return": 0,
         "Predicted Value": 1,
         "_deepnote_index_column": "2019-09-01 06:00:00+01:00"
        },
        {
         "Binary Return": 1,
         "Predicted Value": 1,
         "_deepnote_index_column": "2019-09-01 07:00:00+01:00"
        },
        {
         "Binary Return": 0,
         "Predicted Value": 1,
         "_deepnote_index_column": "2019-09-01 08:00:00+01:00"
        },
        {
         "Binary Return": 0,
         "Predicted Value": 1,
         "_deepnote_index_column": "2019-09-01 09:00:00+01:00"
        },
        {
         "Binary Return": 0,
         "Predicted Value": 1,
         "_deepnote_index_column": "2019-09-01 10:00:00+01:00"
        },
        {
         "Binary Return": 0,
         "Predicted Value": 1,
         "_deepnote_index_column": "2019-09-01 11:00:00+01:00"
        },
        {
         "Binary Return": 0,
         "Predicted Value": 1,
         "_deepnote_index_column": "2019-09-01 12:00:00+01:00"
        },
        {
         "Binary Return": 1,
         "Predicted Value": 1,
         "_deepnote_index_column": "2019-09-01 13:00:00+01:00"
        },
        {
         "Binary Return": 0,
         "Predicted Value": 1,
         "_deepnote_index_column": "2019-09-01 14:00:00+01:00"
        },
        {
         "Binary Return": 1,
         "Predicted Value": 1,
         "_deepnote_index_column": "2019-09-01 15:00:00+01:00"
        },
        {
         "Binary Return": 1,
         "Predicted Value": 1,
         "_deepnote_index_column": "2019-09-01 16:00:00+01:00"
        },
        {
         "Binary Return": 0,
         "Predicted Value": 1,
         "_deepnote_index_column": "2019-09-01 17:00:00+01:00"
        },
        {
         "Binary Return": 0,
         "Predicted Value": 1,
         "_deepnote_index_column": "2019-09-01 18:00:00+01:00"
        },
        {
         "Binary Return": 1,
         "Predicted Value": 1,
         "_deepnote_index_column": "2019-09-01 19:00:00+01:00"
        },
        {
         "Binary Return": 1,
         "Predicted Value": 1,
         "_deepnote_index_column": "2019-09-01 20:00:00+01:00"
        },
        {
         "Binary Return": 1,
         "Predicted Value": 1,
         "_deepnote_index_column": "2019-09-01 21:00:00+01:00"
        },
        {
         "Binary Return": 1,
         "Predicted Value": -1,
         "_deepnote_index_column": "2019-09-01 22:00:00+01:00"
        },
        {
         "Binary Return": 1,
         "Predicted Value": 1,
         "_deepnote_index_column": "2019-09-01 23:00:00+01:00"
        },
        {
         "Binary Return": 0,
         "Predicted Value": 1,
         "_deepnote_index_column": "2019-09-02 00:00:00+01:00"
        },
        {
         "Binary Return": 0,
         "Predicted Value": 1,
         "_deepnote_index_column": "2019-09-02 01:00:00+01:00"
        },
        {
         "Binary Return": 0,
         "Predicted Value": 1,
         "_deepnote_index_column": "2019-09-02 02:00:00+01:00"
        },
        {
         "Binary Return": 1,
         "Predicted Value": 1,
         "_deepnote_index_column": "2019-09-02 03:00:00+01:00"
        },
        {
         "Binary Return": 0,
         "Predicted Value": 1,
         "_deepnote_index_column": "2019-09-02 04:00:00+01:00"
        },
        {
         "Binary Return": 0,
         "Predicted Value": 1,
         "_deepnote_index_column": "2019-09-02 05:00:00+01:00"
        },
        {
         "Binary Return": 0,
         "Predicted Value": 1,
         "_deepnote_index_column": "2019-09-02 06:00:00+01:00"
        },
        {
         "Binary Return": 0,
         "Predicted Value": 1,
         "_deepnote_index_column": "2019-09-02 07:00:00+01:00"
        },
        {
         "Binary Return": 0,
         "Predicted Value": 1,
         "_deepnote_index_column": "2019-09-02 08:00:00+01:00"
        },
        {
         "Binary Return": 1,
         "Predicted Value": 1,
         "_deepnote_index_column": "2019-09-02 09:00:00+01:00"
        },
        {
         "Binary Return": 1,
         "Predicted Value": 1,
         "_deepnote_index_column": "2019-09-02 10:00:00+01:00"
        },
        {
         "Binary Return": 0,
         "Predicted Value": 1,
         "_deepnote_index_column": "2019-09-02 11:00:00+01:00"
        },
        {
         "Binary Return": 1,
         "Predicted Value": -1,
         "_deepnote_index_column": "2019-09-02 12:00:00+01:00"
        },
        {
         "Binary Return": 0,
         "Predicted Value": -1,
         "_deepnote_index_column": "2019-09-02 13:00:00+01:00"
        },
        {
         "Binary Return": 1,
         "Predicted Value": 1,
         "_deepnote_index_column": "2019-09-02 14:00:00+01:00"
        },
        {
         "Binary Return": 0,
         "Predicted Value": 1,
         "_deepnote_index_column": "2019-09-02 15:00:00+01:00"
        },
        {
         "Binary Return": 0,
         "Predicted Value": -1,
         "_deepnote_index_column": "2019-09-02 16:00:00+01:00"
        },
        {
         "Binary Return": 1,
         "Predicted Value": 1,
         "_deepnote_index_column": "2019-09-02 17:00:00+01:00"
        },
        {
         "Binary Return": 1,
         "Predicted Value": 1,
         "_deepnote_index_column": "2019-09-02 18:00:00+01:00"
        },
        {
         "Binary Return": 1,
         "Predicted Value": 1,
         "_deepnote_index_column": "2019-09-02 19:00:00+01:00"
        },
        {
         "Binary Return": 1,
         "Predicted Value": 1,
         "_deepnote_index_column": "2019-09-02 20:00:00+01:00"
        },
        {
         "Binary Return": 1,
         "Predicted Value": 1,
         "_deepnote_index_column": "2019-09-02 21:00:00+01:00"
        },
        {
         "Binary Return": 1,
         "Predicted Value": -1,
         "_deepnote_index_column": "2019-09-02 22:00:00+01:00"
        },
        {
         "Binary Return": 0,
         "Predicted Value": 1,
         "_deepnote_index_column": "2019-09-02 23:00:00+01:00"
        },
        {
         "Binary Return": 0,
         "Predicted Value": 1,
         "_deepnote_index_column": "2019-09-03 00:00:00+01:00"
        },
        {
         "Binary Return": 0,
         "Predicted Value": 1,
         "_deepnote_index_column": "2019-09-03 01:00:00+01:00"
        },
        {
         "Binary Return": 0,
         "Predicted Value": 1,
         "_deepnote_index_column": "2019-09-03 02:00:00+01:00"
        },
        {
         "Binary Return": 1,
         "Predicted Value": 1,
         "_deepnote_index_column": "2019-09-03 03:00:00+01:00"
        },
        {
         "Binary Return": 1,
         "Predicted Value": 1,
         "_deepnote_index_column": "2019-09-03 04:00:00+01:00"
        },
        {
         "Binary Return": 0,
         "Predicted Value": 1,
         "_deepnote_index_column": "2019-09-03 05:00:00+01:00"
        },
        {
         "Binary Return": 0,
         "Predicted Value": 1,
         "_deepnote_index_column": "2019-09-03 06:00:00+01:00"
        },
        {
         "Binary Return": 0,
         "Predicted Value": 1,
         "_deepnote_index_column": "2019-09-03 07:00:00+01:00"
        },
        {
         "Binary Return": 0,
         "Predicted Value": 1,
         "_deepnote_index_column": "2019-09-03 08:00:00+01:00"
        },
        {
         "Binary Return": 0,
         "Predicted Value": 1,
         "_deepnote_index_column": "2019-09-03 09:00:00+01:00"
        },
        {
         "Binary Return": 0,
         "Predicted Value": 1,
         "_deepnote_index_column": "2019-09-03 10:00:00+01:00"
        },
        {
         "Binary Return": 1,
         "Predicted Value": 1,
         "_deepnote_index_column": "2019-09-03 11:00:00+01:00"
        },
        {
         "Binary Return": 0,
         "Predicted Value": 1,
         "_deepnote_index_column": "2019-09-03 12:00:00+01:00"
        },
        {
         "Binary Return": 1,
         "Predicted Value": 1,
         "_deepnote_index_column": "2019-09-03 13:00:00+01:00"
        },
        {
         "Binary Return": 1,
         "Predicted Value": 1,
         "_deepnote_index_column": "2019-09-03 14:00:00+01:00"
        },
        {
         "Binary Return": 0,
         "Predicted Value": -1,
         "_deepnote_index_column": "2019-09-03 15:00:00+01:00"
        },
        {
         "Binary Return": 1,
         "Predicted Value": 1,
         "_deepnote_index_column": "2019-09-03 16:00:00+01:00"
        },
        {
         "Binary Return": 0,
         "Predicted Value": 1,
         "_deepnote_index_column": "2019-09-03 17:00:00+01:00"
        },
        {
         "Binary Return": 0,
         "Predicted Value": 1,
         "_deepnote_index_column": "2019-09-03 18:00:00+01:00"
        },
        {
         "Binary Return": 0,
         "Predicted Value": 1,
         "_deepnote_index_column": "2019-09-03 19:00:00+01:00"
        },
        {
         "Binary Return": 1,
         "Predicted Value": 1,
         "_deepnote_index_column": "2019-09-03 20:00:00+01:00"
        },
        {
         "Binary Return": 1,
         "Predicted Value": 1,
         "_deepnote_index_column": "2019-09-03 21:00:00+01:00"
        },
        {
         "Binary Return": 1,
         "Predicted Value": 1,
         "_deepnote_index_column": "2019-09-03 22:00:00+01:00"
        },
        {
         "Binary Return": 1,
         "Predicted Value": -1,
         "_deepnote_index_column": "2019-09-03 23:00:00+01:00"
        },
        {
         "Binary Return": 0,
         "Predicted Value": 1,
         "_deepnote_index_column": "2019-09-04 00:00:00+01:00"
        },
        {
         "Binary Return": 0,
         "Predicted Value": 1,
         "_deepnote_index_column": "2019-09-04 01:00:00+01:00"
        },
        {
         "Binary Return": 0,
         "Predicted Value": 1,
         "_deepnote_index_column": "2019-09-04 02:00:00+01:00"
        },
        {
         "Binary Return": 0,
         "Predicted Value": 1,
         "_deepnote_index_column": "2019-09-04 03:00:00+01:00"
        },
        {
         "Binary Return": 1,
         "Predicted Value": 1,
         "_deepnote_index_column": "2019-09-04 04:00:00+01:00"
        },
        {
         "Binary Return": 0,
         "Predicted Value": 1,
         "_deepnote_index_column": "2019-09-04 05:00:00+01:00"
        },
        {
         "Binary Return": 0,
         "Predicted Value": 1,
         "_deepnote_index_column": "2019-09-04 06:00:00+01:00"
        },
        {
         "Binary Return": 0,
         "Predicted Value": -1,
         "_deepnote_index_column": "2019-09-04 07:00:00+01:00"
        },
        {
         "Binary Return": 0,
         "Predicted Value": 1,
         "_deepnote_index_column": "2019-09-04 08:00:00+01:00"
        },
        {
         "Binary Return": 0,
         "Predicted Value": 1,
         "_deepnote_index_column": "2019-09-04 09:00:00+01:00"
        },
        {
         "Binary Return": 1,
         "Predicted Value": 1,
         "_deepnote_index_column": "2019-09-04 10:00:00+01:00"
        },
        {
         "Binary Return": 0,
         "Predicted Value": 1,
         "_deepnote_index_column": "2019-09-04 11:00:00+01:00"
        },
        {
         "Binary Return": 0,
         "Predicted Value": -1,
         "_deepnote_index_column": "2019-09-04 12:00:00+01:00"
        },
        {
         "Binary Return": 0,
         "Predicted Value": 1,
         "_deepnote_index_column": "2019-09-04 13:00:00+01:00"
        },
        {
         "Binary Return": 1,
         "Predicted Value": 1,
         "_deepnote_index_column": "2019-09-04 14:00:00+01:00"
        },
        {
         "Binary Return": 0,
         "Predicted Value": 1,
         "_deepnote_index_column": "2019-09-04 15:00:00+01:00"
        },
        {
         "Binary Return": 1,
         "Predicted Value": 1,
         "_deepnote_index_column": "2019-09-04 16:00:00+01:00"
        },
        {
         "Binary Return": 1,
         "Predicted Value": 1,
         "_deepnote_index_column": "2019-09-04 17:00:00+01:00"
        },
        {
         "Binary Return": 0,
         "Predicted Value": 1,
         "_deepnote_index_column": "2019-09-04 18:00:00+01:00"
        },
        {
         "Binary Return": 0,
         "Predicted Value": 1,
         "_deepnote_index_column": "2019-09-04 19:00:00+01:00"
        },
        {
         "Binary Return": 1,
         "Predicted Value": 1,
         "_deepnote_index_column": "2019-09-04 20:00:00+01:00"
        },
        {
         "Binary Return": 0,
         "Predicted Value": -1,
         "_deepnote_index_column": "2019-09-04 21:00:00+01:00"
        },
        {
         "Binary Return": 1,
         "Predicted Value": 1,
         "_deepnote_index_column": "2019-09-04 22:00:00+01:00"
        },
        {
         "Binary Return": 0,
         "Predicted Value": 1,
         "_deepnote_index_column": "2019-09-04 23:00:00+01:00"
        },
        {
         "Binary Return": 0,
         "Predicted Value": 1,
         "_deepnote_index_column": "2019-09-05 00:00:00+01:00"
        },
        {
         "Binary Return": 0,
         "Predicted Value": 1,
         "_deepnote_index_column": "2019-09-05 01:00:00+01:00"
        },
        {
         "Binary Return": 0,
         "Predicted Value": 1,
         "_deepnote_index_column": "2019-09-05 02:00:00+01:00"
        },
        {
         "Binary Return": 1,
         "Predicted Value": 1,
         "_deepnote_index_column": "2019-09-05 03:00:00+01:00"
        },
        {
         "Binary Return": 1,
         "Predicted Value": 1,
         "_deepnote_index_column": "2019-09-05 04:00:00+01:00"
        },
        {
         "Binary Return": 0,
         "Predicted Value": 1,
         "_deepnote_index_column": "2019-09-05 05:00:00+01:00"
        },
        {
         "Binary Return": 0,
         "Predicted Value": 1,
         "_deepnote_index_column": "2019-09-05 06:00:00+01:00"
        },
        {
         "Binary Return": 0,
         "Predicted Value": 1,
         "_deepnote_index_column": "2019-09-05 07:00:00+01:00"
        },
        {
         "Binary Return": 0,
         "Predicted Value": 1,
         "_deepnote_index_column": "2019-09-05 09:00:00+01:00"
        },
        {
         "Binary Return": 0,
         "Predicted Value": 1,
         "_deepnote_index_column": "2019-09-05 10:00:00+01:00"
        },
        {
         "Binary Return": 1,
         "Predicted Value": 1,
         "_deepnote_index_column": "2019-09-05 11:00:00+01:00"
        },
        {
         "Binary Return": 0,
         "Predicted Value": 1,
         "_deepnote_index_column": "2019-09-05 12:00:00+01:00"
        },
        {
         "Binary Return": 1,
         "Predicted Value": 1,
         "_deepnote_index_column": "2019-09-05 13:00:00+01:00"
        },
        {
         "Binary Return": 0,
         "Predicted Value": 1,
         "_deepnote_index_column": "2019-09-05 14:00:00+01:00"
        },
        {
         "Binary Return": 0,
         "Predicted Value": 1,
         "_deepnote_index_column": "2019-09-05 15:00:00+01:00"
        },
        {
         "Binary Return": 1,
         "Predicted Value": 1,
         "_deepnote_index_column": "2019-09-05 16:00:00+01:00"
        },
        {
         "Binary Return": 0,
         "Predicted Value": 1,
         "_deepnote_index_column": "2019-09-05 17:00:00+01:00"
        },
        {
         "Binary Return": 0,
         "Predicted Value": 1,
         "_deepnote_index_column": "2019-09-05 18:00:00+01:00"
        },
        {
         "Binary Return": 1,
         "Predicted Value": 1,
         "_deepnote_index_column": "2019-09-05 19:00:00+01:00"
        },
        {
         "Binary Return": 0,
         "Predicted Value": 1,
         "_deepnote_index_column": "2019-09-05 20:00:00+01:00"
        },
        {
         "Binary Return": 0,
         "Predicted Value": 1,
         "_deepnote_index_column": "2019-09-05 21:00:00+01:00"
        },
        {
         "Binary Return": 1,
         "Predicted Value": 1,
         "_deepnote_index_column": "2019-09-05 22:00:00+01:00"
        },
        {
         "Binary Return": 1,
         "Predicted Value": 1,
         "_deepnote_index_column": "2019-09-05 23:00:00+01:00"
        },
        {
         "Binary Return": 1,
         "Predicted Value": -1,
         "_deepnote_index_column": "2019-09-06 00:00:00+01:00"
        },
        {
         "Binary Return": 0,
         "Predicted Value": 1,
         "_deepnote_index_column": "2019-09-06 01:00:00+01:00"
        },
        {
         "Binary Return": 0,
         "Predicted Value": 1,
         "_deepnote_index_column": "2019-09-06 02:00:00+01:00"
        },
        {
         "Binary Return": 0,
         "Predicted Value": 1,
         "_deepnote_index_column": "2019-09-06 03:00:00+01:00"
        },
        {
         "Binary Return": 1,
         "Predicted Value": 1,
         "_deepnote_index_column": "2019-09-06 04:00:00+01:00"
        },
        {
         "Binary Return": 1,
         "Predicted Value": 1,
         "_deepnote_index_column": "2019-09-06 05:00:00+01:00"
        },
        {
         "Binary Return": 0,
         "Predicted Value": 1,
         "_deepnote_index_column": "2019-09-06 06:00:00+01:00"
        },
        {
         "Binary Return": 1,
         "Predicted Value": 1,
         "_deepnote_index_column": "2019-09-06 07:00:00+01:00"
        },
        {
         "Binary Return": 0,
         "Predicted Value": 1,
         "_deepnote_index_column": "2019-09-06 08:00:00+01:00"
        },
        {
         "Binary Return": 1,
         "Predicted Value": 1,
         "_deepnote_index_column": "2019-09-06 09:00:00+01:00"
        },
        {
         "Binary Return": 1,
         "Predicted Value": -1,
         "_deepnote_index_column": "2019-09-06 10:00:00+01:00"
        },
        {
         "Binary Return": 1,
         "Predicted Value": 1,
         "_deepnote_index_column": "2019-09-06 11:00:00+01:00"
        },
        {
         "Binary Return": 1,
         "Predicted Value": 1,
         "_deepnote_index_column": "2019-09-06 12:00:00+01:00"
        },
        {
         "Binary Return": 0,
         "Predicted Value": 1,
         "_deepnote_index_column": "2019-09-06 13:00:00+01:00"
        },
        {
         "Binary Return": 1,
         "Predicted Value": 1,
         "_deepnote_index_column": "2019-09-06 14:00:00+01:00"
        },
        {
         "Binary Return": 1,
         "Predicted Value": 1,
         "_deepnote_index_column": "2019-09-06 15:00:00+01:00"
        },
        {
         "Binary Return": 0,
         "Predicted Value": 1,
         "_deepnote_index_column": "2019-09-06 16:00:00+01:00"
        },
        {
         "Binary Return": 0,
         "Predicted Value": 1,
         "_deepnote_index_column": "2019-09-06 17:00:00+01:00"
        },
        {
         "Binary Return": 0,
         "Predicted Value": 1,
         "_deepnote_index_column": "2019-09-06 18:00:00+01:00"
        },
        {
         "Binary Return": 0,
         "Predicted Value": 1,
         "_deepnote_index_column": "2019-09-06 19:00:00+01:00"
        },
        {
         "Binary Return": 0,
         "Predicted Value": 1,
         "_deepnote_index_column": "2019-09-06 20:00:00+01:00"
        },
        {
         "Binary Return": 0,
         "Predicted Value": -1,
         "_deepnote_index_column": "2019-09-06 21:00:00+01:00"
        },
        {
         "Binary Return": 0,
         "Predicted Value": 1,
         "_deepnote_index_column": "2019-09-06 22:00:00+01:00"
        },
        {
         "Binary Return": 1,
         "Predicted Value": 1,
         "_deepnote_index_column": "2019-09-06 23:00:00+01:00"
        },
        {
         "Binary Return": 0,
         "Predicted Value": 1,
         "_deepnote_index_column": "2019-09-07 00:00:00+01:00"
        },
        {
         "Binary Return": 0,
         "Predicted Value": 1,
         "_deepnote_index_column": "2019-09-07 01:00:00+01:00"
        },
        {
         "Binary Return": 1,
         "Predicted Value": 1,
         "_deepnote_index_column": "2019-09-07 02:00:00+01:00"
        },
        {
         "Binary Return": 1,
         "Predicted Value": 1,
         "_deepnote_index_column": "2019-09-07 03:00:00+01:00"
        },
        {
         "Binary Return": 0,
         "Predicted Value": 1,
         "_deepnote_index_column": "2019-09-07 04:00:00+01:00"
        },
        {
         "Binary Return": 1,
         "Predicted Value": 1,
         "_deepnote_index_column": "2019-09-07 05:00:00+01:00"
        },
        {
         "Binary Return": 0,
         "Predicted Value": 1,
         "_deepnote_index_column": "2019-09-07 06:00:00+01:00"
        },
        {
         "Binary Return": 0,
         "Predicted Value": 1,
         "_deepnote_index_column": "2019-09-07 07:00:00+01:00"
        },
        {
         "Binary Return": 1,
         "Predicted Value": 1,
         "_deepnote_index_column": "2019-09-07 08:00:00+01:00"
        },
        {
         "Binary Return": 0,
         "Predicted Value": 1,
         "_deepnote_index_column": "2019-09-07 09:00:00+01:00"
        },
        {
         "Binary Return": 1,
         "Predicted Value": 1,
         "_deepnote_index_column": "2019-09-07 10:00:00+01:00"
        },
        {
         "Binary Return": 0,
         "Predicted Value": -1,
         "_deepnote_index_column": "2019-09-07 11:00:00+01:00"
        },
        {
         "Binary Return": 1,
         "Predicted Value": 1,
         "_deepnote_index_column": "2019-09-07 12:00:00+01:00"
        },
        {
         "Binary Return": 1,
         "Predicted Value": 1,
         "_deepnote_index_column": "2019-09-07 13:00:00+01:00"
        },
        {
         "Binary Return": 1,
         "Predicted Value": 1,
         "_deepnote_index_column": "2019-09-07 14:00:00+01:00"
        },
        {
         "Binary Return": 1,
         "Predicted Value": 1,
         "_deepnote_index_column": "2019-09-07 15:00:00+01:00"
        },
        {
         "Binary Return": 1,
         "Predicted Value": -1,
         "_deepnote_index_column": "2019-09-07 16:00:00+01:00"
        },
        {
         "Binary Return": 1,
         "Predicted Value": -1,
         "_deepnote_index_column": "2019-09-07 17:00:00+01:00"
        },
        {
         "Binary Return": 1,
         "Predicted Value": 1,
         "_deepnote_index_column": "2019-09-07 18:00:00+01:00"
        },
        {
         "Binary Return": 1,
         "Predicted Value": 1,
         "_deepnote_index_column": "2019-09-07 19:00:00+01:00"
        },
        {
         "Binary Return": 0,
         "Predicted Value": 1,
         "_deepnote_index_column": "2019-09-07 20:00:00+01:00"
        },
        {
         "Binary Return": 0,
         "Predicted Value": 1,
         "_deepnote_index_column": "2019-09-07 21:00:00+01:00"
        },
        {
         "Binary Return": 1,
         "Predicted Value": 1,
         "_deepnote_index_column": "2019-09-07 22:00:00+01:00"
        },
        {
         "Binary Return": 0,
         "Predicted Value": 1,
         "_deepnote_index_column": "2019-09-07 23:00:00+01:00"
        },
        {
         "Binary Return": 0,
         "Predicted Value": 1,
         "_deepnote_index_column": "2019-09-08 00:00:00+01:00"
        },
        {
         "Binary Return": 1,
         "Predicted Value": 1,
         "_deepnote_index_column": "2019-09-08 01:00:00+01:00"
        },
        {
         "Binary Return": 0,
         "Predicted Value": 1,
         "_deepnote_index_column": "2019-09-08 02:00:00+01:00"
        },
        {
         "Binary Return": 0,
         "Predicted Value": 1,
         "_deepnote_index_column": "2019-09-08 03:00:00+01:00"
        },
        {
         "Binary Return": 1,
         "Predicted Value": 1,
         "_deepnote_index_column": "2019-09-08 04:00:00+01:00"
        },
        {
         "Binary Return": 1,
         "Predicted Value": 1,
         "_deepnote_index_column": "2019-09-08 05:00:00+01:00"
        },
        {
         "Binary Return": 0,
         "Predicted Value": 1,
         "_deepnote_index_column": "2019-09-08 06:00:00+01:00"
        },
        {
         "Binary Return": 0,
         "Predicted Value": 1,
         "_deepnote_index_column": "2019-09-08 07:00:00+01:00"
        },
        {
         "Binary Return": 0,
         "Predicted Value": 1,
         "_deepnote_index_column": "2019-09-08 08:00:00+01:00"
        },
        {
         "Binary Return": 0,
         "Predicted Value": 1,
         "_deepnote_index_column": "2019-09-08 09:00:00+01:00"
        },
        {
         "Binary Return": 1,
         "Predicted Value": 1,
         "_deepnote_index_column": "2019-09-08 10:00:00+01:00"
        },
        {
         "Binary Return": 1,
         "Predicted Value": 1,
         "_deepnote_index_column": "2019-09-08 11:00:00+01:00"
        },
        {
         "Binary Return": 0,
         "Predicted Value": 1,
         "_deepnote_index_column": "2019-09-08 12:00:00+01:00"
        },
        {
         "Binary Return": 0,
         "Predicted Value": 1,
         "_deepnote_index_column": "2019-09-08 13:00:00+01:00"
        },
        {
         "Binary Return": 0,
         "Predicted Value": 1,
         "_deepnote_index_column": "2019-09-08 14:00:00+01:00"
        },
        {
         "Binary Return": 1,
         "Predicted Value": 1,
         "_deepnote_index_column": "2019-09-08 15:00:00+01:00"
        },
        {
         "Binary Return": 1,
         "Predicted Value": 1,
         "_deepnote_index_column": "2019-09-08 16:00:00+01:00"
        },
        {
         "Binary Return": 0,
         "Predicted Value": 1,
         "_deepnote_index_column": "2019-09-08 17:00:00+01:00"
        },
        {
         "Binary Return": 0,
         "Predicted Value": 1,
         "_deepnote_index_column": "2019-09-08 18:00:00+01:00"
        },
        {
         "Binary Return": 0,
         "Predicted Value": 1,
         "_deepnote_index_column": "2019-09-08 19:00:00+01:00"
        },
        {
         "Binary Return": 0,
         "Predicted Value": 1,
         "_deepnote_index_column": "2019-09-08 20:00:00+01:00"
        },
        {
         "Binary Return": 0,
         "Predicted Value": 1,
         "_deepnote_index_column": "2019-09-08 21:00:00+01:00"
        },
        {
         "Binary Return": 1,
         "Predicted Value": 1,
         "_deepnote_index_column": "2019-09-08 22:00:00+01:00"
        },
        {
         "Binary Return": 1,
         "Predicted Value": 1,
         "_deepnote_index_column": "2019-09-08 23:00:00+01:00"
        },
        {
         "Binary Return": 0,
         "Predicted Value": -1,
         "_deepnote_index_column": "2019-09-09 00:00:00+01:00"
        },
        {
         "Binary Return": 0,
         "Predicted Value": 1,
         "_deepnote_index_column": "2019-09-09 01:00:00+01:00"
        },
        {
         "Binary Return": 0,
         "Predicted Value": 1,
         "_deepnote_index_column": "2019-09-09 02:00:00+01:00"
        },
        {
         "Binary Return": 0,
         "Predicted Value": -1,
         "_deepnote_index_column": "2019-09-09 03:00:00+01:00"
        },
        {
         "Binary Return": 0,
         "Predicted Value": 1,
         "_deepnote_index_column": "2019-09-09 04:00:00+01:00"
        },
        {
         "Binary Return": 0,
         "Predicted Value": -1,
         "_deepnote_index_column": "2019-09-09 05:00:00+01:00"
        },
        {
         "Binary Return": 0,
         "Predicted Value": 1,
         "_deepnote_index_column": "2019-09-09 06:00:00+01:00"
        },
        {
         "Binary Return": 0,
         "Predicted Value": 1,
         "_deepnote_index_column": "2019-09-09 07:00:00+01:00"
        },
        {
         "Binary Return": 0,
         "Predicted Value": 1,
         "_deepnote_index_column": "2019-09-09 08:00:00+01:00"
        },
        {
         "Binary Return": 1,
         "Predicted Value": 1,
         "_deepnote_index_column": "2019-09-09 09:00:00+01:00"
        },
        {
         "Binary Return": 1,
         "Predicted Value": 1,
         "_deepnote_index_column": "2019-09-09 10:00:00+01:00"
        },
        {
         "Binary Return": 0,
         "Predicted Value": -1,
         "_deepnote_index_column": "2019-09-09 11:00:00+01:00"
        },
        {
         "Binary Return": 1,
         "Predicted Value": 1,
         "_deepnote_index_column": "2019-09-09 12:00:00+01:00"
        },
        {
         "Binary Return": 0,
         "Predicted Value": -1,
         "_deepnote_index_column": "2019-09-09 13:00:00+01:00"
        },
        {
         "Binary Return": 1,
         "Predicted Value": 1,
         "_deepnote_index_column": "2019-09-09 14:00:00+01:00"
        },
        {
         "Binary Return": 1,
         "Predicted Value": -1,
         "_deepnote_index_column": "2019-09-09 15:00:00+01:00"
        },
        {
         "Binary Return": 0,
         "Predicted Value": 1,
         "_deepnote_index_column": "2019-09-09 16:00:00+01:00"
        },
        {
         "Binary Return": 0,
         "Predicted Value": 1,
         "_deepnote_index_column": "2019-09-09 17:00:00+01:00"
        },
        {
         "Binary Return": 0,
         "Predicted Value": 1,
         "_deepnote_index_column": "2019-09-09 18:00:00+01:00"
        },
        {
         "Binary Return": 1,
         "Predicted Value": 1,
         "_deepnote_index_column": "2019-09-09 19:00:00+01:00"
        },
        {
         "Binary Return": 0,
         "Predicted Value": 1,
         "_deepnote_index_column": "2019-09-09 20:00:00+01:00"
        },
        {
         "Binary Return": 0,
         "Predicted Value": 1,
         "_deepnote_index_column": "2019-09-09 21:00:00+01:00"
        },
        {
         "Binary Return": 1,
         "Predicted Value": 1,
         "_deepnote_index_column": "2019-09-09 22:00:00+01:00"
        },
        {
         "Binary Return": 1,
         "Predicted Value": 1,
         "_deepnote_index_column": "2019-09-09 23:00:00+01:00"
        },
        {
         "Binary Return": 0,
         "Predicted Value": 1,
         "_deepnote_index_column": "2019-09-10 00:00:00+01:00"
        },
        {
         "Binary Return": 1,
         "Predicted Value": 1,
         "_deepnote_index_column": "2019-09-10 01:00:00+01:00"
        },
        {
         "Binary Return": 1,
         "Predicted Value": 1,
         "_deepnote_index_column": "2019-09-10 02:00:00+01:00"
        },
        {
         "Binary Return": 1,
         "Predicted Value": -1,
         "_deepnote_index_column": "2019-09-10 03:00:00+01:00"
        },
        {
         "Binary Return": 1,
         "Predicted Value": 1,
         "_deepnote_index_column": "2019-09-10 04:00:00+01:00"
        },
        {
         "Binary Return": 1,
         "Predicted Value": 1,
         "_deepnote_index_column": "2019-09-10 05:00:00+01:00"
        },
        {
         "Binary Return": 0,
         "Predicted Value": -1,
         "_deepnote_index_column": "2019-09-10 06:00:00+01:00"
        },
        {
         "Binary Return": 1,
         "Predicted Value": 1,
         "_deepnote_index_column": "2019-09-10 07:00:00+01:00"
        },
        {
         "Binary Return": 1,
         "Predicted Value": 1,
         "_deepnote_index_column": "2019-09-10 08:00:00+01:00"
        },
        {
         "Binary Return": 0,
         "Predicted Value": 1,
         "_deepnote_index_column": "2019-09-10 09:00:00+01:00"
        },
        {
         "Binary Return": 0,
         "Predicted Value": 1,
         "_deepnote_index_column": "2019-09-10 10:00:00+01:00"
        },
        {
         "Binary Return": 1,
         "Predicted Value": 1,
         "_deepnote_index_column": "2019-09-10 11:00:00+01:00"
        },
        {
         "Binary Return": 1,
         "Predicted Value": 1,
         "_deepnote_index_column": "2019-09-10 12:00:00+01:00"
        },
        {
         "Binary Return": 1,
         "Predicted Value": 1,
         "_deepnote_index_column": "2019-09-10 13:00:00+01:00"
        },
        {
         "Binary Return": 0,
         "Predicted Value": 1,
         "_deepnote_index_column": "2019-09-10 14:00:00+01:00"
        },
        {
         "Binary Return": 0,
         "Predicted Value": 1,
         "_deepnote_index_column": "2019-09-10 15:00:00+01:00"
        },
        {
         "Binary Return": 0,
         "Predicted Value": 1,
         "_deepnote_index_column": "2019-09-10 16:00:00+01:00"
        },
        {
         "Binary Return": 0,
         "Predicted Value": 1,
         "_deepnote_index_column": "2019-09-10 17:00:00+01:00"
        },
        {
         "Binary Return": 0,
         "Predicted Value": 1,
         "_deepnote_index_column": "2019-09-10 18:00:00+01:00"
        },
        {
         "Binary Return": 0,
         "Predicted Value": -1,
         "_deepnote_index_column": "2019-09-10 19:00:00+01:00"
        },
        {
         "Binary Return": 0,
         "Predicted Value": 1,
         "_deepnote_index_column": "2019-09-10 20:00:00+01:00"
        },
        {
         "Binary Return": 0,
         "Predicted Value": 1,
         "_deepnote_index_column": "2019-09-10 21:00:00+01:00"
        },
        {
         "Binary Return": 1,
         "Predicted Value": 1,
         "_deepnote_index_column": "2019-09-10 22:00:00+01:00"
        },
        {
         "Binary Return": 0,
         "Predicted Value": 1,
         "_deepnote_index_column": "2019-09-10 23:00:00+01:00"
        },
        {
         "Binary Return": 1,
         "Predicted Value": 1,
         "_deepnote_index_column": "2019-09-11 00:00:00+01:00"
        },
        {
         "Binary Return": 0,
         "Predicted Value": 1,
         "_deepnote_index_column": "2019-09-11 01:00:00+01:00"
        },
        {
         "Binary Return": 0,
         "Predicted Value": 1,
         "_deepnote_index_column": "2019-09-11 02:00:00+01:00"
        },
        {
         "Binary Return": 1,
         "Predicted Value": 1,
         "_deepnote_index_column": "2019-09-11 03:00:00+01:00"
        },
        {
         "Binary Return": 1,
         "Predicted Value": 1,
         "_deepnote_index_column": "2019-09-11 04:00:00+01:00"
        },
        {
         "Binary Return": 0,
         "Predicted Value": 1,
         "_deepnote_index_column": "2019-09-11 05:00:00+01:00"
        },
        {
         "Binary Return": 0,
         "Predicted Value": 1,
         "_deepnote_index_column": "2019-09-11 06:00:00+01:00"
        },
        {
         "Binary Return": 0,
         "Predicted Value": 1,
         "_deepnote_index_column": "2019-09-11 07:00:00+01:00"
        },
        {
         "Binary Return": 0,
         "Predicted Value": 1,
         "_deepnote_index_column": "2019-09-11 08:00:00+01:00"
        },
        {
         "Binary Return": 0,
         "Predicted Value": 1,
         "_deepnote_index_column": "2019-09-11 09:00:00+01:00"
        },
        {
         "Binary Return": 0,
         "Predicted Value": -1,
         "_deepnote_index_column": "2019-09-11 10:00:00+01:00"
        },
        {
         "Binary Return": 1,
         "Predicted Value": 1,
         "_deepnote_index_column": "2019-09-11 11:00:00+01:00"
        },
        {
         "Binary Return": 0,
         "Predicted Value": 1,
         "_deepnote_index_column": "2019-09-11 12:00:00+01:00"
        }
       ],
       "rows_bottom": [
        {
         "Binary Return": 0,
         "Predicted Value": 1,
         "_deepnote_index_column": "2021-07-31 13:00:00+01:00"
        },
        {
         "Binary Return": 0,
         "Predicted Value": 1,
         "_deepnote_index_column": "2021-07-31 14:00:00+01:00"
        },
        {
         "Binary Return": 0,
         "Predicted Value": 1,
         "_deepnote_index_column": "2021-07-31 15:00:00+01:00"
        },
        {
         "Binary Return": 1,
         "Predicted Value": 1,
         "_deepnote_index_column": "2021-07-31 16:00:00+01:00"
        },
        {
         "Binary Return": 0,
         "Predicted Value": 1,
         "_deepnote_index_column": "2021-07-31 17:00:00+01:00"
        },
        {
         "Binary Return": 0,
         "Predicted Value": 1,
         "_deepnote_index_column": "2021-07-31 18:00:00+01:00"
        },
        {
         "Binary Return": 1,
         "Predicted Value": 1,
         "_deepnote_index_column": "2021-07-31 19:00:00+01:00"
        },
        {
         "Binary Return": 0,
         "Predicted Value": 1,
         "_deepnote_index_column": "2021-07-31 20:00:00+01:00"
        },
        {
         "Binary Return": 1,
         "Predicted Value": 1,
         "_deepnote_index_column": "2021-07-31 21:00:00+01:00"
        },
        {
         "Binary Return": 1,
         "Predicted Value": 1,
         "_deepnote_index_column": "2021-07-31 22:00:00+01:00"
        },
        {
         "Binary Return": 0,
         "Predicted Value": 1,
         "_deepnote_index_column": "2021-07-31 23:00:00+01:00"
        },
        {
         "Binary Return": 0,
         "Predicted Value": 1,
         "_deepnote_index_column": "2021-08-01 00:00:00+01:00"
        },
        {
         "Binary Return": 1,
         "Predicted Value": 1,
         "_deepnote_index_column": "2021-08-01 01:00:00+01:00"
        },
        {
         "Binary Return": 0,
         "Predicted Value": -1,
         "_deepnote_index_column": "2021-08-01 02:00:00+01:00"
        },
        {
         "Binary Return": 0,
         "Predicted Value": 1,
         "_deepnote_index_column": "2021-08-01 03:00:00+01:00"
        },
        {
         "Binary Return": 1,
         "Predicted Value": 1,
         "_deepnote_index_column": "2021-08-01 04:00:00+01:00"
        },
        {
         "Binary Return": 0,
         "Predicted Value": 1,
         "_deepnote_index_column": "2021-08-01 05:00:00+01:00"
        },
        {
         "Binary Return": 1,
         "Predicted Value": 1,
         "_deepnote_index_column": "2021-08-01 06:00:00+01:00"
        },
        {
         "Binary Return": 1,
         "Predicted Value": 1,
         "_deepnote_index_column": "2021-08-01 07:00:00+01:00"
        },
        {
         "Binary Return": 0,
         "Predicted Value": 1,
         "_deepnote_index_column": "2021-08-01 08:00:00+01:00"
        },
        {
         "Binary Return": 0,
         "Predicted Value": 1,
         "_deepnote_index_column": "2021-08-01 09:00:00+01:00"
        },
        {
         "Binary Return": 1,
         "Predicted Value": 1,
         "_deepnote_index_column": "2021-08-01 10:00:00+01:00"
        },
        {
         "Binary Return": 0,
         "Predicted Value": 1,
         "_deepnote_index_column": "2021-08-01 11:00:00+01:00"
        },
        {
         "Binary Return": 1,
         "Predicted Value": 1,
         "_deepnote_index_column": "2021-08-01 12:00:00+01:00"
        },
        {
         "Binary Return": 1,
         "Predicted Value": 1,
         "_deepnote_index_column": "2021-08-01 13:00:00+01:00"
        },
        {
         "Binary Return": 0,
         "Predicted Value": 1,
         "_deepnote_index_column": "2021-08-01 14:00:00+01:00"
        },
        {
         "Binary Return": 0,
         "Predicted Value": 1,
         "_deepnote_index_column": "2021-08-01 15:00:00+01:00"
        },
        {
         "Binary Return": 1,
         "Predicted Value": 1,
         "_deepnote_index_column": "2021-08-01 16:00:00+01:00"
        },
        {
         "Binary Return": 1,
         "Predicted Value": 1,
         "_deepnote_index_column": "2021-08-01 17:00:00+01:00"
        },
        {
         "Binary Return": 0,
         "Predicted Value": 1,
         "_deepnote_index_column": "2021-08-01 18:00:00+01:00"
        },
        {
         "Binary Return": 1,
         "Predicted Value": 1,
         "_deepnote_index_column": "2021-08-01 19:00:00+01:00"
        },
        {
         "Binary Return": 1,
         "Predicted Value": -1,
         "_deepnote_index_column": "2021-08-01 20:00:00+01:00"
        },
        {
         "Binary Return": 1,
         "Predicted Value": 1,
         "_deepnote_index_column": "2021-08-01 21:00:00+01:00"
        },
        {
         "Binary Return": 0,
         "Predicted Value": -1,
         "_deepnote_index_column": "2021-08-01 22:00:00+01:00"
        },
        {
         "Binary Return": 0,
         "Predicted Value": 1,
         "_deepnote_index_column": "2021-08-01 23:00:00+01:00"
        },
        {
         "Binary Return": 0,
         "Predicted Value": -1,
         "_deepnote_index_column": "2021-08-02 00:00:00+01:00"
        },
        {
         "Binary Return": 0,
         "Predicted Value": 1,
         "_deepnote_index_column": "2021-08-02 01:00:00+01:00"
        },
        {
         "Binary Return": 1,
         "Predicted Value": 1,
         "_deepnote_index_column": "2021-08-02 02:00:00+01:00"
        },
        {
         "Binary Return": 1,
         "Predicted Value": 1,
         "_deepnote_index_column": "2021-08-02 03:00:00+01:00"
        },
        {
         "Binary Return": 0,
         "Predicted Value": 1,
         "_deepnote_index_column": "2021-08-02 04:00:00+01:00"
        },
        {
         "Binary Return": 1,
         "Predicted Value": 1,
         "_deepnote_index_column": "2021-08-02 05:00:00+01:00"
        },
        {
         "Binary Return": 1,
         "Predicted Value": 1,
         "_deepnote_index_column": "2021-08-02 06:00:00+01:00"
        },
        {
         "Binary Return": 1,
         "Predicted Value": 1,
         "_deepnote_index_column": "2021-08-02 07:00:00+01:00"
        },
        {
         "Binary Return": 0,
         "Predicted Value": -1,
         "_deepnote_index_column": "2021-08-02 08:00:00+01:00"
        },
        {
         "Binary Return": 0,
         "Predicted Value": 1,
         "_deepnote_index_column": "2021-08-02 09:00:00+01:00"
        },
        {
         "Binary Return": 1,
         "Predicted Value": 1,
         "_deepnote_index_column": "2021-08-02 10:00:00+01:00"
        },
        {
         "Binary Return": 1,
         "Predicted Value": 1,
         "_deepnote_index_column": "2021-08-02 11:00:00+01:00"
        },
        {
         "Binary Return": 0,
         "Predicted Value": -1,
         "_deepnote_index_column": "2021-08-02 12:00:00+01:00"
        },
        {
         "Binary Return": 0,
         "Predicted Value": 1,
         "_deepnote_index_column": "2021-08-02 13:00:00+01:00"
        },
        {
         "Binary Return": 1,
         "Predicted Value": -1,
         "_deepnote_index_column": "2021-08-02 14:00:00+01:00"
        },
        {
         "Binary Return": 1,
         "Predicted Value": 1,
         "_deepnote_index_column": "2021-08-02 15:00:00+01:00"
        },
        {
         "Binary Return": 0,
         "Predicted Value": 1,
         "_deepnote_index_column": "2021-08-02 16:00:00+01:00"
        },
        {
         "Binary Return": 1,
         "Predicted Value": 1,
         "_deepnote_index_column": "2021-08-02 17:00:00+01:00"
        },
        {
         "Binary Return": 0,
         "Predicted Value": 1,
         "_deepnote_index_column": "2021-08-02 18:00:00+01:00"
        },
        {
         "Binary Return": 0,
         "Predicted Value": -1,
         "_deepnote_index_column": "2021-08-02 19:00:00+01:00"
        },
        {
         "Binary Return": 0,
         "Predicted Value": 1,
         "_deepnote_index_column": "2021-08-02 20:00:00+01:00"
        },
        {
         "Binary Return": 0,
         "Predicted Value": 1,
         "_deepnote_index_column": "2021-08-02 21:00:00+01:00"
        },
        {
         "Binary Return": 1,
         "Predicted Value": -1,
         "_deepnote_index_column": "2021-08-02 22:00:00+01:00"
        },
        {
         "Binary Return": 1,
         "Predicted Value": 1,
         "_deepnote_index_column": "2021-08-02 23:00:00+01:00"
        },
        {
         "Binary Return": 0,
         "Predicted Value": 1,
         "_deepnote_index_column": "2021-08-03 00:00:00+01:00"
        },
        {
         "Binary Return": 0,
         "Predicted Value": 1,
         "_deepnote_index_column": "2021-08-03 01:00:00+01:00"
        },
        {
         "Binary Return": 0,
         "Predicted Value": 1,
         "_deepnote_index_column": "2021-08-03 02:00:00+01:00"
        },
        {
         "Binary Return": 1,
         "Predicted Value": 1,
         "_deepnote_index_column": "2021-08-03 03:00:00+01:00"
        },
        {
         "Binary Return": 0,
         "Predicted Value": 1,
         "_deepnote_index_column": "2021-08-03 04:00:00+01:00"
        },
        {
         "Binary Return": 0,
         "Predicted Value": 1,
         "_deepnote_index_column": "2021-08-03 05:00:00+01:00"
        },
        {
         "Binary Return": 0,
         "Predicted Value": 1,
         "_deepnote_index_column": "2021-08-03 06:00:00+01:00"
        },
        {
         "Binary Return": 1,
         "Predicted Value": 1,
         "_deepnote_index_column": "2021-08-03 07:00:00+01:00"
        },
        {
         "Binary Return": 0,
         "Predicted Value": 1,
         "_deepnote_index_column": "2021-08-03 08:00:00+01:00"
        },
        {
         "Binary Return": 0,
         "Predicted Value": 1,
         "_deepnote_index_column": "2021-08-03 09:00:00+01:00"
        },
        {
         "Binary Return": 1,
         "Predicted Value": 1,
         "_deepnote_index_column": "2021-08-03 10:00:00+01:00"
        },
        {
         "Binary Return": 1,
         "Predicted Value": 1,
         "_deepnote_index_column": "2021-08-03 11:00:00+01:00"
        },
        {
         "Binary Return": 0,
         "Predicted Value": 1,
         "_deepnote_index_column": "2021-08-03 12:00:00+01:00"
        },
        {
         "Binary Return": 1,
         "Predicted Value": 1,
         "_deepnote_index_column": "2021-08-03 13:00:00+01:00"
        },
        {
         "Binary Return": 1,
         "Predicted Value": 1,
         "_deepnote_index_column": "2021-08-03 14:00:00+01:00"
        },
        {
         "Binary Return": 0,
         "Predicted Value": 1,
         "_deepnote_index_column": "2021-08-03 15:00:00+01:00"
        },
        {
         "Binary Return": 0,
         "Predicted Value": 1,
         "_deepnote_index_column": "2021-08-03 16:00:00+01:00"
        },
        {
         "Binary Return": 1,
         "Predicted Value": 1,
         "_deepnote_index_column": "2021-08-03 17:00:00+01:00"
        },
        {
         "Binary Return": 0,
         "Predicted Value": -1,
         "_deepnote_index_column": "2021-08-03 18:00:00+01:00"
        },
        {
         "Binary Return": 1,
         "Predicted Value": 1,
         "_deepnote_index_column": "2021-08-03 19:00:00+01:00"
        },
        {
         "Binary Return": 1,
         "Predicted Value": 1,
         "_deepnote_index_column": "2021-08-03 20:00:00+01:00"
        },
        {
         "Binary Return": 1,
         "Predicted Value": 1,
         "_deepnote_index_column": "2021-08-03 21:00:00+01:00"
        },
        {
         "Binary Return": 1,
         "Predicted Value": -1,
         "_deepnote_index_column": "2021-08-03 22:00:00+01:00"
        },
        {
         "Binary Return": 1,
         "Predicted Value": 1,
         "_deepnote_index_column": "2021-08-03 23:00:00+01:00"
        },
        {
         "Binary Return": 0,
         "Predicted Value": 1,
         "_deepnote_index_column": "2021-08-04 00:00:00+01:00"
        },
        {
         "Binary Return": 1,
         "Predicted Value": 1,
         "_deepnote_index_column": "2021-08-04 01:00:00+01:00"
        },
        {
         "Binary Return": 0,
         "Predicted Value": 1,
         "_deepnote_index_column": "2021-08-04 02:00:00+01:00"
        },
        {
         "Binary Return": 0,
         "Predicted Value": 1,
         "_deepnote_index_column": "2021-08-04 03:00:00+01:00"
        },
        {
         "Binary Return": 0,
         "Predicted Value": 1,
         "_deepnote_index_column": "2021-08-04 04:00:00+01:00"
        },
        {
         "Binary Return": 1,
         "Predicted Value": 1,
         "_deepnote_index_column": "2021-08-04 05:00:00+01:00"
        },
        {
         "Binary Return": 0,
         "Predicted Value": 1,
         "_deepnote_index_column": "2021-08-04 06:00:00+01:00"
        },
        {
         "Binary Return": 0,
         "Predicted Value": 1,
         "_deepnote_index_column": "2021-08-04 07:00:00+01:00"
        },
        {
         "Binary Return": 0,
         "Predicted Value": 1,
         "_deepnote_index_column": "2021-08-04 08:00:00+01:00"
        },
        {
         "Binary Return": 0,
         "Predicted Value": 1,
         "_deepnote_index_column": "2021-08-04 09:00:00+01:00"
        },
        {
         "Binary Return": 0,
         "Predicted Value": 1,
         "_deepnote_index_column": "2021-08-04 10:00:00+01:00"
        },
        {
         "Binary Return": 1,
         "Predicted Value": 1,
         "_deepnote_index_column": "2021-08-04 11:00:00+01:00"
        },
        {
         "Binary Return": 1,
         "Predicted Value": 1,
         "_deepnote_index_column": "2021-08-04 12:00:00+01:00"
        },
        {
         "Binary Return": 1,
         "Predicted Value": 1,
         "_deepnote_index_column": "2021-08-04 15:00:00+01:00"
        },
        {
         "Binary Return": 1,
         "Predicted Value": -1,
         "_deepnote_index_column": "2021-08-04 16:00:00+01:00"
        },
        {
         "Binary Return": 1,
         "Predicted Value": 1,
         "_deepnote_index_column": "2021-08-04 17:00:00+01:00"
        },
        {
         "Binary Return": 0,
         "Predicted Value": -1,
         "_deepnote_index_column": "2021-08-04 18:00:00+01:00"
        },
        {
         "Binary Return": 1,
         "Predicted Value": 1,
         "_deepnote_index_column": "2021-08-04 19:00:00+01:00"
        },
        {
         "Binary Return": 1,
         "Predicted Value": 1,
         "_deepnote_index_column": "2021-08-04 20:00:00+01:00"
        },
        {
         "Binary Return": 1,
         "Predicted Value": 1,
         "_deepnote_index_column": "2021-08-04 21:00:00+01:00"
        },
        {
         "Binary Return": 1,
         "Predicted Value": 1,
         "_deepnote_index_column": "2021-08-04 22:00:00+01:00"
        },
        {
         "Binary Return": 0,
         "Predicted Value": 1,
         "_deepnote_index_column": "2021-08-04 23:00:00+01:00"
        },
        {
         "Binary Return": 1,
         "Predicted Value": 1,
         "_deepnote_index_column": "2021-08-05 00:00:00+01:00"
        },
        {
         "Binary Return": 0,
         "Predicted Value": 1,
         "_deepnote_index_column": "2021-08-05 03:00:00+01:00"
        },
        {
         "Binary Return": 1,
         "Predicted Value": 1,
         "_deepnote_index_column": "2021-08-05 04:00:00+01:00"
        },
        {
         "Binary Return": 1,
         "Predicted Value": 1,
         "_deepnote_index_column": "2021-08-05 05:00:00+01:00"
        },
        {
         "Binary Return": 0,
         "Predicted Value": 1,
         "_deepnote_index_column": "2021-08-05 06:00:00+01:00"
        },
        {
         "Binary Return": 0,
         "Predicted Value": 1,
         "_deepnote_index_column": "2021-08-05 07:00:00+01:00"
        },
        {
         "Binary Return": 0,
         "Predicted Value": 1,
         "_deepnote_index_column": "2021-08-05 08:00:00+01:00"
        },
        {
         "Binary Return": 0,
         "Predicted Value": 1,
         "_deepnote_index_column": "2021-08-05 09:00:00+01:00"
        },
        {
         "Binary Return": 0,
         "Predicted Value": 1,
         "_deepnote_index_column": "2021-08-05 10:00:00+01:00"
        },
        {
         "Binary Return": 1,
         "Predicted Value": 1,
         "_deepnote_index_column": "2021-08-05 11:00:00+01:00"
        },
        {
         "Binary Return": 1,
         "Predicted Value": -1,
         "_deepnote_index_column": "2021-08-05 12:00:00+01:00"
        },
        {
         "Binary Return": 1,
         "Predicted Value": 1,
         "_deepnote_index_column": "2021-08-05 13:00:00+01:00"
        },
        {
         "Binary Return": 0,
         "Predicted Value": 1,
         "_deepnote_index_column": "2021-08-05 14:00:00+01:00"
        },
        {
         "Binary Return": 1,
         "Predicted Value": 1,
         "_deepnote_index_column": "2021-08-05 15:00:00+01:00"
        },
        {
         "Binary Return": 0,
         "Predicted Value": 1,
         "_deepnote_index_column": "2021-08-05 16:00:00+01:00"
        },
        {
         "Binary Return": 1,
         "Predicted Value": 1,
         "_deepnote_index_column": "2021-08-05 17:00:00+01:00"
        },
        {
         "Binary Return": 1,
         "Predicted Value": 1,
         "_deepnote_index_column": "2021-08-05 18:00:00+01:00"
        },
        {
         "Binary Return": 0,
         "Predicted Value": -1,
         "_deepnote_index_column": "2021-08-05 19:00:00+01:00"
        },
        {
         "Binary Return": 0,
         "Predicted Value": 1,
         "_deepnote_index_column": "2021-08-05 20:00:00+01:00"
        },
        {
         "Binary Return": 1,
         "Predicted Value": 1,
         "_deepnote_index_column": "2021-08-05 21:00:00+01:00"
        },
        {
         "Binary Return": 1,
         "Predicted Value": 1,
         "_deepnote_index_column": "2021-08-05 22:00:00+01:00"
        },
        {
         "Binary Return": 1,
         "Predicted Value": 1,
         "_deepnote_index_column": "2021-08-05 23:00:00+01:00"
        },
        {
         "Binary Return": 0,
         "Predicted Value": 1,
         "_deepnote_index_column": "2021-08-06 00:00:00+01:00"
        },
        {
         "Binary Return": 0,
         "Predicted Value": 1,
         "_deepnote_index_column": "2021-08-06 01:00:00+01:00"
        },
        {
         "Binary Return": 1,
         "Predicted Value": 1,
         "_deepnote_index_column": "2021-08-06 02:00:00+01:00"
        },
        {
         "Binary Return": 0,
         "Predicted Value": 1,
         "_deepnote_index_column": "2021-08-06 03:00:00+01:00"
        },
        {
         "Binary Return": 0,
         "Predicted Value": 1,
         "_deepnote_index_column": "2021-08-06 04:00:00+01:00"
        },
        {
         "Binary Return": 1,
         "Predicted Value": 1,
         "_deepnote_index_column": "2021-08-06 05:00:00+01:00"
        },
        {
         "Binary Return": 1,
         "Predicted Value": 1,
         "_deepnote_index_column": "2021-08-06 06:00:00+01:00"
        },
        {
         "Binary Return": 1,
         "Predicted Value": 1,
         "_deepnote_index_column": "2021-08-06 07:00:00+01:00"
        },
        {
         "Binary Return": 0,
         "Predicted Value": 1,
         "_deepnote_index_column": "2021-08-06 08:00:00+01:00"
        },
        {
         "Binary Return": 1,
         "Predicted Value": 1,
         "_deepnote_index_column": "2021-08-06 09:00:00+01:00"
        },
        {
         "Binary Return": 0,
         "Predicted Value": 1,
         "_deepnote_index_column": "2021-08-06 10:00:00+01:00"
        },
        {
         "Binary Return": 0,
         "Predicted Value": 1,
         "_deepnote_index_column": "2021-08-06 11:00:00+01:00"
        },
        {
         "Binary Return": 0,
         "Predicted Value": 1,
         "_deepnote_index_column": "2021-08-06 12:00:00+01:00"
        },
        {
         "Binary Return": 1,
         "Predicted Value": 1,
         "_deepnote_index_column": "2021-08-06 13:00:00+01:00"
        },
        {
         "Binary Return": 1,
         "Predicted Value": 1,
         "_deepnote_index_column": "2021-08-06 14:00:00+01:00"
        },
        {
         "Binary Return": 0,
         "Predicted Value": 1,
         "_deepnote_index_column": "2021-08-06 15:00:00+01:00"
        },
        {
         "Binary Return": 1,
         "Predicted Value": 1,
         "_deepnote_index_column": "2021-08-06 16:00:00+01:00"
        },
        {
         "Binary Return": 1,
         "Predicted Value": 1,
         "_deepnote_index_column": "2021-08-06 17:00:00+01:00"
        },
        {
         "Binary Return": 1,
         "Predicted Value": -1,
         "_deepnote_index_column": "2021-08-06 18:00:00+01:00"
        },
        {
         "Binary Return": 0,
         "Predicted Value": 1,
         "_deepnote_index_column": "2021-08-06 19:00:00+01:00"
        },
        {
         "Binary Return": 1,
         "Predicted Value": 1,
         "_deepnote_index_column": "2021-08-06 20:00:00+01:00"
        },
        {
         "Binary Return": 0,
         "Predicted Value": 1,
         "_deepnote_index_column": "2021-08-06 21:00:00+01:00"
        },
        {
         "Binary Return": 0,
         "Predicted Value": 1,
         "_deepnote_index_column": "2021-08-06 22:00:00+01:00"
        },
        {
         "Binary Return": 1,
         "Predicted Value": 1,
         "_deepnote_index_column": "2021-08-06 23:00:00+01:00"
        },
        {
         "Binary Return": 1,
         "Predicted Value": 1,
         "_deepnote_index_column": "2021-08-07 00:00:00+01:00"
        },
        {
         "Binary Return": 1,
         "Predicted Value": 1,
         "_deepnote_index_column": "2021-08-07 01:00:00+01:00"
        },
        {
         "Binary Return": 1,
         "Predicted Value": 1,
         "_deepnote_index_column": "2021-08-07 02:00:00+01:00"
        },
        {
         "Binary Return": 1,
         "Predicted Value": 1,
         "_deepnote_index_column": "2021-08-07 03:00:00+01:00"
        },
        {
         "Binary Return": 1,
         "Predicted Value": -1,
         "_deepnote_index_column": "2021-08-07 04:00:00+01:00"
        },
        {
         "Binary Return": 0,
         "Predicted Value": 1,
         "_deepnote_index_column": "2021-08-07 05:00:00+01:00"
        },
        {
         "Binary Return": 1,
         "Predicted Value": 1,
         "_deepnote_index_column": "2021-08-07 06:00:00+01:00"
        },
        {
         "Binary Return": 0,
         "Predicted Value": 1,
         "_deepnote_index_column": "2021-08-07 07:00:00+01:00"
        },
        {
         "Binary Return": 0,
         "Predicted Value": 1,
         "_deepnote_index_column": "2021-08-07 08:00:00+01:00"
        },
        {
         "Binary Return": 1,
         "Predicted Value": 1,
         "_deepnote_index_column": "2021-08-07 09:00:00+01:00"
        },
        {
         "Binary Return": 1,
         "Predicted Value": 1,
         "_deepnote_index_column": "2021-08-07 10:00:00+01:00"
        },
        {
         "Binary Return": 1,
         "Predicted Value": 1,
         "_deepnote_index_column": "2021-08-07 11:00:00+01:00"
        },
        {
         "Binary Return": 1,
         "Predicted Value": 1,
         "_deepnote_index_column": "2021-08-07 12:00:00+01:00"
        },
        {
         "Binary Return": 0,
         "Predicted Value": 1,
         "_deepnote_index_column": "2021-08-07 13:00:00+01:00"
        },
        {
         "Binary Return": 0,
         "Predicted Value": 1,
         "_deepnote_index_column": "2021-08-07 14:00:00+01:00"
        },
        {
         "Binary Return": 1,
         "Predicted Value": 1,
         "_deepnote_index_column": "2021-08-07 15:00:00+01:00"
        },
        {
         "Binary Return": 1,
         "Predicted Value": 1,
         "_deepnote_index_column": "2021-08-07 16:00:00+01:00"
        },
        {
         "Binary Return": 0,
         "Predicted Value": 1,
         "_deepnote_index_column": "2021-08-07 17:00:00+01:00"
        },
        {
         "Binary Return": 0,
         "Predicted Value": 1,
         "_deepnote_index_column": "2021-08-07 18:00:00+01:00"
        },
        {
         "Binary Return": 1,
         "Predicted Value": 1,
         "_deepnote_index_column": "2021-08-07 19:00:00+01:00"
        },
        {
         "Binary Return": 1,
         "Predicted Value": 1,
         "_deepnote_index_column": "2021-08-07 20:00:00+01:00"
        },
        {
         "Binary Return": 1,
         "Predicted Value": 1,
         "_deepnote_index_column": "2021-08-07 21:00:00+01:00"
        },
        {
         "Binary Return": 0,
         "Predicted Value": 1,
         "_deepnote_index_column": "2021-08-07 22:00:00+01:00"
        },
        {
         "Binary Return": 1,
         "Predicted Value": 1,
         "_deepnote_index_column": "2021-08-07 23:00:00+01:00"
        },
        {
         "Binary Return": 1,
         "Predicted Value": 1,
         "_deepnote_index_column": "2021-08-08 00:00:00+01:00"
        },
        {
         "Binary Return": 1,
         "Predicted Value": 1,
         "_deepnote_index_column": "2021-08-08 01:00:00+01:00"
        },
        {
         "Binary Return": 0,
         "Predicted Value": 1,
         "_deepnote_index_column": "2021-08-08 02:00:00+01:00"
        },
        {
         "Binary Return": 0,
         "Predicted Value": 1,
         "_deepnote_index_column": "2021-08-08 03:00:00+01:00"
        },
        {
         "Binary Return": 1,
         "Predicted Value": 1,
         "_deepnote_index_column": "2021-08-08 04:00:00+01:00"
        },
        {
         "Binary Return": 0,
         "Predicted Value": 1,
         "_deepnote_index_column": "2021-08-08 05:00:00+01:00"
        },
        {
         "Binary Return": 1,
         "Predicted Value": 1,
         "_deepnote_index_column": "2021-08-08 06:00:00+01:00"
        },
        {
         "Binary Return": 1,
         "Predicted Value": 1,
         "_deepnote_index_column": "2021-08-08 07:00:00+01:00"
        },
        {
         "Binary Return": 0,
         "Predicted Value": -1,
         "_deepnote_index_column": "2021-08-08 08:00:00+01:00"
        },
        {
         "Binary Return": 0,
         "Predicted Value": 1,
         "_deepnote_index_column": "2021-08-08 09:00:00+01:00"
        },
        {
         "Binary Return": 1,
         "Predicted Value": 1,
         "_deepnote_index_column": "2021-08-08 10:00:00+01:00"
        },
        {
         "Binary Return": 0,
         "Predicted Value": 1,
         "_deepnote_index_column": "2021-08-08 11:00:00+01:00"
        },
        {
         "Binary Return": 0,
         "Predicted Value": 1,
         "_deepnote_index_column": "2021-08-08 12:00:00+01:00"
        },
        {
         "Binary Return": 1,
         "Predicted Value": 1,
         "_deepnote_index_column": "2021-08-08 13:00:00+01:00"
        },
        {
         "Binary Return": 0,
         "Predicted Value": 1,
         "_deepnote_index_column": "2021-08-08 14:00:00+01:00"
        },
        {
         "Binary Return": 0,
         "Predicted Value": 1,
         "_deepnote_index_column": "2021-08-08 15:00:00+01:00"
        },
        {
         "Binary Return": 0,
         "Predicted Value": 1,
         "_deepnote_index_column": "2021-08-08 16:00:00+01:00"
        },
        {
         "Binary Return": 0,
         "Predicted Value": 1,
         "_deepnote_index_column": "2021-08-08 17:00:00+01:00"
        },
        {
         "Binary Return": 1,
         "Predicted Value": -1,
         "_deepnote_index_column": "2021-08-08 18:00:00+01:00"
        },
        {
         "Binary Return": 0,
         "Predicted Value": 1,
         "_deepnote_index_column": "2021-08-08 19:00:00+01:00"
        },
        {
         "Binary Return": 0,
         "Predicted Value": -1,
         "_deepnote_index_column": "2021-08-08 20:00:00+01:00"
        },
        {
         "Binary Return": 1,
         "Predicted Value": 1,
         "_deepnote_index_column": "2021-08-08 21:00:00+01:00"
        },
        {
         "Binary Return": 1,
         "Predicted Value": 1,
         "_deepnote_index_column": "2021-08-08 22:00:00+01:00"
        },
        {
         "Binary Return": 1,
         "Predicted Value": 1,
         "_deepnote_index_column": "2021-08-08 23:00:00+01:00"
        },
        {
         "Binary Return": 0,
         "Predicted Value": 1,
         "_deepnote_index_column": "2021-08-09 00:00:00+01:00"
        },
        {
         "Binary Return": 0,
         "Predicted Value": 1,
         "_deepnote_index_column": "2021-08-09 01:00:00+01:00"
        },
        {
         "Binary Return": 1,
         "Predicted Value": 1,
         "_deepnote_index_column": "2021-08-09 02:00:00+01:00"
        },
        {
         "Binary Return": 1,
         "Predicted Value": 1,
         "_deepnote_index_column": "2021-08-09 03:00:00+01:00"
        },
        {
         "Binary Return": 1,
         "Predicted Value": 1,
         "_deepnote_index_column": "2021-08-09 04:00:00+01:00"
        },
        {
         "Binary Return": 1,
         "Predicted Value": 1,
         "_deepnote_index_column": "2021-08-09 05:00:00+01:00"
        },
        {
         "Binary Return": 0,
         "Predicted Value": 1,
         "_deepnote_index_column": "2021-08-09 06:00:00+01:00"
        },
        {
         "Binary Return": 0,
         "Predicted Value": -1,
         "_deepnote_index_column": "2021-08-09 07:00:00+01:00"
        },
        {
         "Binary Return": 1,
         "Predicted Value": 1,
         "_deepnote_index_column": "2021-08-09 08:00:00+01:00"
        },
        {
         "Binary Return": 1,
         "Predicted Value": 1,
         "_deepnote_index_column": "2021-08-09 09:00:00+01:00"
        },
        {
         "Binary Return": 1,
         "Predicted Value": 1,
         "_deepnote_index_column": "2021-08-09 10:00:00+01:00"
        },
        {
         "Binary Return": 1,
         "Predicted Value": 1,
         "_deepnote_index_column": "2021-08-09 11:00:00+01:00"
        },
        {
         "Binary Return": 1,
         "Predicted Value": -1,
         "_deepnote_index_column": "2021-08-09 12:00:00+01:00"
        },
        {
         "Binary Return": 0,
         "Predicted Value": 1,
         "_deepnote_index_column": "2021-08-09 13:00:00+01:00"
        },
        {
         "Binary Return": 0,
         "Predicted Value": 1,
         "_deepnote_index_column": "2021-08-09 14:00:00+01:00"
        },
        {
         "Binary Return": 1,
         "Predicted Value": 1,
         "_deepnote_index_column": "2021-08-09 15:00:00+01:00"
        },
        {
         "Binary Return": 1,
         "Predicted Value": 1,
         "_deepnote_index_column": "2021-08-09 16:00:00+01:00"
        },
        {
         "Binary Return": 0,
         "Predicted Value": 1,
         "_deepnote_index_column": "2021-08-09 17:00:00+01:00"
        },
        {
         "Binary Return": 1,
         "Predicted Value": 1,
         "_deepnote_index_column": "2021-08-09 18:00:00+01:00"
        },
        {
         "Binary Return": 1,
         "Predicted Value": 1,
         "_deepnote_index_column": "2021-08-09 19:00:00+01:00"
        },
        {
         "Binary Return": 0,
         "Predicted Value": 1,
         "_deepnote_index_column": "2021-08-09 20:00:00+01:00"
        },
        {
         "Binary Return": 0,
         "Predicted Value": 1,
         "_deepnote_index_column": "2021-08-09 21:00:00+01:00"
        },
        {
         "Binary Return": 1,
         "Predicted Value": 1,
         "_deepnote_index_column": "2021-08-09 22:00:00+01:00"
        },
        {
         "Binary Return": 1,
         "Predicted Value": 1,
         "_deepnote_index_column": "2021-08-09 23:00:00+01:00"
        },
        {
         "Binary Return": 0,
         "Predicted Value": -1,
         "_deepnote_index_column": "2021-08-10 00:00:00+01:00"
        },
        {
         "Binary Return": 0,
         "Predicted Value": 1,
         "_deepnote_index_column": "2021-08-10 01:00:00+01:00"
        },
        {
         "Binary Return": 0,
         "Predicted Value": 1,
         "_deepnote_index_column": "2021-08-10 02:00:00+01:00"
        },
        {
         "Binary Return": 1,
         "Predicted Value": 1,
         "_deepnote_index_column": "2021-08-10 03:00:00+01:00"
        },
        {
         "Binary Return": 0,
         "Predicted Value": 1,
         "_deepnote_index_column": "2021-08-10 04:00:00+01:00"
        },
        {
         "Binary Return": 1,
         "Predicted Value": 1,
         "_deepnote_index_column": "2021-08-10 05:00:00+01:00"
        },
        {
         "Binary Return": 1,
         "Predicted Value": 1,
         "_deepnote_index_column": "2021-08-10 06:00:00+01:00"
        },
        {
         "Binary Return": 1,
         "Predicted Value": 1,
         "_deepnote_index_column": "2021-08-10 07:00:00+01:00"
        },
        {
         "Binary Return": 1,
         "Predicted Value": 1,
         "_deepnote_index_column": "2021-08-10 08:00:00+01:00"
        },
        {
         "Binary Return": 1,
         "Predicted Value": 1,
         "_deepnote_index_column": "2021-08-10 09:00:00+01:00"
        },
        {
         "Binary Return": 0,
         "Predicted Value": 1,
         "_deepnote_index_column": "2021-08-10 10:00:00+01:00"
        },
        {
         "Binary Return": 0,
         "Predicted Value": 1,
         "_deepnote_index_column": "2021-08-10 11:00:00+01:00"
        },
        {
         "Binary Return": 1,
         "Predicted Value": 1,
         "_deepnote_index_column": "2021-08-10 12:00:00+01:00"
        },
        {
         "Binary Return": 1,
         "Predicted Value": 1,
         "_deepnote_index_column": "2021-08-10 13:00:00+01:00"
        },
        {
         "Binary Return": 0,
         "Predicted Value": -1,
         "_deepnote_index_column": "2021-08-10 14:00:00+01:00"
        },
        {
         "Binary Return": 0,
         "Predicted Value": 1,
         "_deepnote_index_column": "2021-08-10 15:00:00+01:00"
        },
        {
         "Binary Return": 0,
         "Predicted Value": 1,
         "_deepnote_index_column": "2021-08-10 16:00:00+01:00"
        },
        {
         "Binary Return": 0,
         "Predicted Value": 1,
         "_deepnote_index_column": "2021-08-10 17:00:00+01:00"
        },
        {
         "Binary Return": 1,
         "Predicted Value": 1,
         "_deepnote_index_column": "2021-08-10 18:00:00+01:00"
        },
        {
         "Binary Return": 1,
         "Predicted Value": 1,
         "_deepnote_index_column": "2021-08-10 19:00:00+01:00"
        },
        {
         "Binary Return": 1,
         "Predicted Value": 1,
         "_deepnote_index_column": "2021-08-10 20:00:00+01:00"
        },
        {
         "Binary Return": 1,
         "Predicted Value": -1,
         "_deepnote_index_column": "2021-08-10 21:00:00+01:00"
        },
        {
         "Binary Return": 1,
         "Predicted Value": 1,
         "_deepnote_index_column": "2021-08-10 22:00:00+01:00"
        },
        {
         "Binary Return": 0,
         "Predicted Value": 1,
         "_deepnote_index_column": "2021-08-10 23:00:00+01:00"
        },
        {
         "Binary Return": 0,
         "Predicted Value": 1,
         "_deepnote_index_column": "2021-08-11 00:00:00+01:00"
        },
        {
         "Binary Return": 1,
         "Predicted Value": 1,
         "_deepnote_index_column": "2021-08-11 01:00:00+01:00"
        },
        {
         "Binary Return": 1,
         "Predicted Value": 1,
         "_deepnote_index_column": "2021-08-11 02:00:00+01:00"
        }
       ]
      },
      "text/plain": "                           Binary Return  Predicted Value\n2019-09-01 02:00:00+01:00              0                1\n2019-09-01 03:00:00+01:00              0               -1\n2019-09-01 04:00:00+01:00              1                1\n2019-09-01 05:00:00+01:00              0                1\n2019-09-01 06:00:00+01:00              0                1\n...                                  ...              ...\n2021-08-10 22:00:00+01:00              1                1\n2021-08-10 23:00:00+01:00              0                1\n2021-08-11 00:00:00+01:00              0                1\n2021-08-11 01:00:00+01:00              1                1\n2021-08-11 02:00:00+01:00              1                1\n\n[17001 rows x 2 columns]",
      "text/html": "<div>\n<style scoped>\n    .dataframe tbody tr th:only-of-type {\n        vertical-align: middle;\n    }\n\n    .dataframe tbody tr th {\n        vertical-align: top;\n    }\n\n    .dataframe thead th {\n        text-align: right;\n    }\n</style>\n<table border=\"1\" class=\"dataframe\">\n  <thead>\n    <tr style=\"text-align: right;\">\n      <th></th>\n      <th>Binary Return</th>\n      <th>Predicted Value</th>\n    </tr>\n  </thead>\n  <tbody>\n    <tr>\n      <th>2019-09-01 02:00:00+01:00</th>\n      <td>0</td>\n      <td>1</td>\n    </tr>\n    <tr>\n      <th>2019-09-01 03:00:00+01:00</th>\n      <td>0</td>\n      <td>-1</td>\n    </tr>\n    <tr>\n      <th>2019-09-01 04:00:00+01:00</th>\n      <td>1</td>\n      <td>1</td>\n    </tr>\n    <tr>\n      <th>2019-09-01 05:00:00+01:00</th>\n      <td>0</td>\n      <td>1</td>\n    </tr>\n    <tr>\n      <th>2019-09-01 06:00:00+01:00</th>\n      <td>0</td>\n      <td>1</td>\n    </tr>\n    <tr>\n      <th>...</th>\n      <td>...</td>\n      <td>...</td>\n    </tr>\n    <tr>\n      <th>2021-08-10 22:00:00+01:00</th>\n      <td>1</td>\n      <td>1</td>\n    </tr>\n    <tr>\n      <th>2021-08-10 23:00:00+01:00</th>\n      <td>0</td>\n      <td>1</td>\n    </tr>\n    <tr>\n      <th>2021-08-11 00:00:00+01:00</th>\n      <td>0</td>\n      <td>1</td>\n    </tr>\n    <tr>\n      <th>2021-08-11 01:00:00+01:00</th>\n      <td>1</td>\n      <td>1</td>\n    </tr>\n    <tr>\n      <th>2021-08-11 02:00:00+01:00</th>\n      <td>1</td>\n      <td>1</td>\n    </tr>\n  </tbody>\n</table>\n<p>17001 rows × 2 columns</p>\n</div>"
     },
     "metadata": {}
    }
   ]
  },
  {
   "cell_type": "code",
   "metadata": {
    "tags": [],
    "cell_id": "00017-5552e37e-360c-4b1b-9bc5-d1153b61364b",
    "deepnote_to_be_reexecuted": false,
    "source_hash": "7a08b73a",
    "execution_start": 1629324854902,
    "execution_millis": 341,
    "deepnote_cell_type": "code"
   },
   "source": "# Calculate cumulative return of model and plot the result\n(1 + (combined_signals_df['Returns'] * Results['Predicted Value'])).cumprod().plot()",
   "execution_count": null,
   "outputs": [
    {
     "output_type": "execute_result",
     "execution_count": 18,
     "data": {
      "text/plain": "<AxesSubplot:>"
     },
     "metadata": {}
    },
    {
     "data": {
      "text/plain": "<Figure size 432x288 with 1 Axes>",
      "image/png": "[encoded data removed]"
     },
     "metadata": {
      "needs_background": "light",
      "image/png": {
       "width": 424,
       "height": 248
      }
     },
     "output_type": "display_data"
    }
   ]
  },
  {
   "cell_type": "code",
   "metadata": {
    "tags": [],
    "cell_id": "00018-c39fe01c-ab6e-43b2-9158-0734f74bb2e0",
    "deepnote_to_be_reexecuted": false,
    "source_hash": "a341481b",
    "execution_start": 1629324855251,
    "execution_millis": 16,
    "deepnote_cell_type": "code"
   },
   "source": "initial_capital = 100000\n\ninitial_buy_amount = initial_capital / combined_signals_df['Close'].iloc[0]\n# initial_buy_amount\n\nhold_value = initial_buy_amount * combined_signals_df['Close'].iloc[-2]\n# hold_value\n\nbuy_hold_profit = (hold_value - initial_capital)/(initial_capital)*100\nbuy_hold_profit",
   "execution_count": null,
   "outputs": [
    {
     "output_type": "execute_result",
     "execution_count": 19,
     "data": {
      "text/plain": "237.40358792752184"
     },
     "metadata": {}
    }
   ]
  },
  {
   "cell_type": "code",
   "metadata": {
    "tags": [],
    "cell_id": "00019-9a3d3daf-0e23-4f6c-8092-4747932fc290",
    "deepnote_to_be_reexecuted": false,
    "source_hash": "d7e87964",
    "execution_start": 1629324855267,
    "execution_millis": 5,
    "deepnote_cell_type": "code"
   },
   "source": "hold_value",
   "execution_count": null,
   "outputs": [
    {
     "output_type": "execute_result",
     "execution_count": 20,
     "data": {
      "text/plain": "337403.58792752185"
     },
     "metadata": {}
    }
   ]
  },
  {
   "cell_type": "code",
   "metadata": {
    "tags": [],
    "cell_id": "00019-f14ef1bf-32fe-4596-b72c-0c3d6097fb20",
    "deepnote_to_be_reexecuted": false,
    "source_hash": "feac87ef",
    "execution_start": 1629324855283,
    "execution_millis": 0,
    "deepnote_cell_type": "code"
   },
   "source": "combined_signals_df['Close'].iloc[0]\ncombined_signals_df['Close'].iloc[-2]",
   "execution_count": null,
   "outputs": [
    {
     "output_type": "execute_result",
     "execution_count": 21,
     "data": {
      "text/plain": "0.871850848197937"
     },
     "metadata": {}
    }
   ]
  },
  {
   "cell_type": "code",
   "metadata": {
    "tags": [],
    "cell_id": "00020-310375fc-c6d2-4ba4-aaf1-6cde0c9384b6",
    "deepnote_to_be_reexecuted": false,
    "source_hash": "b61ced46",
    "execution_start": 1629324855330,
    "execution_millis": 171,
    "deepnote_cell_type": "code"
   },
   "source": "# Set initial capital allocation\ninitial_capital = 100000\n\n# Plot cumulative return of model in terms of capital\ncumulative_return_capital = initial_capital * (1 + (combined_signals_df['Returns'] * Results['Predicted Value'])).cumprod().to_frame()\ncumulative_return_capital",
   "execution_count": null,
   "outputs": [
    {
     "output_type": "execute_result",
     "execution_count": 22,
     "data": {
      "application/vnd.deepnote.dataframe.v2+json": {
       "row_count": 17003,
       "column_count": 1,
       "columns": [
        {
         "name": 0,
         "dtype": "float64",
         "stats": {
          "unique_count": 16924,
          "nan_count": 2,
          "min": "53416.561871806356",
          "max": "1615362.7780226222",
          "histogram": [
           {
            "bin_start": 53416.561871806356,
            "bin_end": 209611.18348688795,
            "count": 13644
           },
           {
            "bin_start": 209611.18348688795,
            "bin_end": 365805.8051019695,
            "count": 313
           },
           {
            "bin_start": 365805.8051019695,
            "bin_end": 522000.42671705113,
            "count": 106
           },
           {
            "bin_start": 522000.42671705113,
            "bin_end": 678195.0483321327,
            "count": 858
           },
           {
            "bin_start": 678195.0483321327,
            "bin_end": 834389.6699472143,
            "count": 641
           },
           {
            "bin_start": 834389.6699472143,
            "bin_end": 990584.291562296,
            "count": 792
           },
           {
            "bin_start": 990584.291562296,
            "bin_end": 1146778.9131773775,
            "count": 416
           },
           {
            "bin_start": 1146778.9131773775,
            "bin_end": 1302973.534792459,
            "count": 115
           },
           {
            "bin_start": 1302973.534792459,
            "bin_end": 1459168.1564075407,
            "count": 89
           },
           {
            "bin_start": 1459168.1564075407,
            "bin_end": 1615362.7780226222,
            "count": 27
           }
          ]
         }
        },
        {
         "name": "_deepnote_index_column",
         "dtype": "object"
        }
       ],
       "rows_top": [
        {
         "0": 99729.83520844889,
         "_deepnote_index_column": "2019-09-01 02:00:00+01:00"
        },
        {
         "0": 99961.39845706549,
         "_deepnote_index_column": "2019-09-01 03:00:00+01:00"
        },
        {
         "0": 100232.82076265299,
         "_deepnote_index_column": "2019-09-01 04:00:00+01:00"
        },
        {
         "0": 100077.71900066412,
         "_deepnote_index_column": "2019-09-01 05:00:00+01:00"
        },
        {
         "0": 100077.71900066412,
         "_deepnote_index_column": "2019-09-01 06:00:00+01:00"
        },
        {
         "0": 100232.82076265299,
         "_deepnote_index_column": "2019-09-01 07:00:00+01:00"
        },
        {
         "0": 100116.48866326823,
         "_deepnote_index_column": "2019-09-01 08:00:00+01:00"
        },
        {
         "0": 99534.87438948911,
         "_deepnote_index_column": "2019-09-01 09:00:00+01:00"
        },
        {
         "0": 99418.54229010436,
         "_deepnote_index_column": "2019-09-01 10:00:00+01:00"
        },
        {
         "0": 99185.90120290717,
         "_deepnote_index_column": "2019-09-01 11:00:00+01:00"
        },
        {
         "0": 98914.47889731968,
         "_deepnote_index_column": "2019-09-01 12:00:00+01:00"
        },
        {
         "0": 99147.11998451686,
         "_deepnote_index_column": "2019-09-01 13:00:00+01:00"
        },
        {
         "0": 98836.92801632523,
         "_deepnote_index_column": "2019-09-01 14:00:00+01:00"
        },
        {
         "0": 98875.69767892937,
         "_deepnote_index_column": "2019-09-01 15:00:00+01:00"
        },
        {
         "0": 99302.22174650575,
         "_deepnote_index_column": "2019-09-01 16:00:00+01:00"
        },
        {
         "0": 98565.50571073775,
         "_deepnote_index_column": "2019-09-01 17:00:00+01:00"
        },
        {
         "0": 98565.50571073775,
         "_deepnote_index_column": "2019-09-01 18:00:00+01:00"
        },
        {
         "0": 98953.24855992381,
         "_deepnote_index_column": "2019-09-01 19:00:00+01:00"
        },
        {
         "0": 99224.67086551132,
         "_deepnote_index_column": "2019-09-01 20:00:00+01:00"
        },
        {
         "0": 99418.54229010438,
         "_deepnote_index_column": "2019-09-01 21:00:00+01:00"
        },
        {
         "0": 99263.4405281155,
         "_deepnote_index_column": "2019-09-01 22:00:00+01:00"
        },
        {
         "0": 99456.70798165095,
         "_deepnote_index_column": "2019-09-01 23:00:00+01:00"
        },
        {
         "0": 99302.10093069432,
         "_deepnote_index_column": "2019-09-02 00:00:00+01:00"
        },
        {
         "0": 98876.90562104463,
         "_deepnote_index_column": "2019-09-02 01:00:00+01:00"
        },
        {
         "0": 98760.93593309438,
         "_deepnote_index_column": "2019-09-02 02:00:00+01:00"
        },
        {
         "0": 98876.90562104463,
         "_deepnote_index_column": "2019-09-02 03:00:00+01:00"
        },
        {
         "0": 98760.93593309438,
         "_deepnote_index_column": "2019-09-02 04:00:00+01:00"
        },
        {
         "0": 98760.93593309438,
         "_deepnote_index_column": "2019-09-02 05:00:00+01:00"
        },
        {
         "0": 98683.62664772295,
         "_deepnote_index_column": "2019-09-02 06:00:00+01:00"
        },
        {
         "0": 98567.66847955894,
         "_deepnote_index_column": "2019-09-02 07:00:00+01:00"
        },
        {
         "0": 98297.09174065206,
         "_deepnote_index_column": "2019-09-02 08:00:00+01:00"
        },
        {
         "0": 98335.75214323089,
         "_deepnote_index_column": "2019-09-02 09:00:00+01:00"
        },
        {
         "0": 98567.66847955894,
         "_deepnote_index_column": "2019-09-02 10:00:00+01:00"
        },
        {
         "0": 98413.04990881609,
         "_deepnote_index_column": "2019-09-02 11:00:00+01:00"
        },
        {
         "0": 97987.85459916637,
         "_deepnote_index_column": "2019-09-02 12:00:00+01:00"
        },
        {
         "0": 98256.10333315916,
         "_deepnote_index_column": "2019-09-02 13:00:00+01:00"
        },
        {
         "0": 99412.05411255719,
         "_deepnote_index_column": "2019-09-02 14:00:00+01:00"
        },
        {
         "0": 99257.93576311099,
         "_deepnote_index_column": "2019-09-02 15:00:00+01:00"
        },
        {
         "0": 99489.13051233982,
         "_deepnote_index_column": "2019-09-02 16:00:00+01:00"
        },
        {
         "0": 99798.82954708935,
         "_deepnote_index_column": "2019-09-02 17:00:00+01:00"
        },
        {
         "0": 100147.23519268617,
         "_deepnote_index_column": "2019-09-02 18:00:00+01:00"
        },
        {
         "0": 100921.45970557445,
         "_deepnote_index_column": "2019-09-02 19:00:00+01:00"
        },
        {
         "0": 100998.88446426179,
         "_deepnote_index_column": "2019-09-02 20:00:00+01:00"
        },
        {
         "0": 101773.12051414285,
         "_deepnote_index_column": "2019-09-02 21:00:00+01:00"
        },
        {
         "0": 101695.69575545547,
         "_deepnote_index_column": "2019-09-02 22:00:00+01:00"
        },
        {
         "0": 101425.12685710673,
         "_deepnote_index_column": "2019-09-02 23:00:00+01:00"
        },
        {
         "0": 101115.89867644965,
         "_deepnote_index_column": "2019-09-03 00:00:00+01:00"
        },
        {
         "0": 100806.68201524501,
         "_deepnote_index_column": "2019-09-03 01:00:00+01:00"
        },
        {
         "0": 100729.37497008077,
         "_deepnote_index_column": "2019-09-03 02:00:00+01:00"
        },
        {
         "0": 100806.68201524501,
         "_deepnote_index_column": "2019-09-03 03:00:00+01:00"
        },
        {
         "0": 101077.25091359376,
         "_deepnote_index_column": "2019-09-03 04:00:00+01:00"
        },
        {
         "0": 101038.60315073785,
         "_deepnote_index_column": "2019-09-03 05:00:00+01:00"
        },
        {
         "0": 100999.9438684295,
         "_deepnote_index_column": "2019-09-03 06:00:00+01:00"
        },
        {
         "0": 100883.98906040928,
         "_deepnote_index_column": "2019-09-03 07:00:00+01:00"
        },
        {
         "0": 100768.02273293668,
         "_deepnote_index_column": "2019-09-03 08:00:00+01:00"
        },
        {
         "0": 100652.0679249165,
         "_deepnote_index_column": "2019-09-03 09:00:00+01:00"
        },
        {
         "0": 100072.27084591072,
         "_deepnote_index_column": "2019-09-03 10:00:00+01:00"
        },
        {
         "0": 100536.1131168963,
         "_deepnote_index_column": "2019-09-03 11:00:00+01:00"
        },
        {
         "0": 100536.1131168963,
         "_deepnote_index_column": "2019-09-03 12:00:00+01:00"
        },
        {
         "0": 101309.17204908656,
         "_deepnote_index_column": "2019-09-03 13:00:00+01:00"
        },
        {
         "0": 102314.14059731718,
         "_deepnote_index_column": "2019-09-03 14:00:00+01:00"
        },
        {
         "0": 102777.97134885038,
         "_deepnote_index_column": "2019-09-03 15:00:00+01:00"
        },
        {
         "0": 102894.9822833729,
         "_deepnote_index_column": "2019-09-03 16:00:00+01:00"
        },
        {
         "0": 102582.9492498554,
         "_deepnote_index_column": "2019-09-03 17:00:00+01:00"
        },
        {
         "0": 102192.89342749276,
         "_deepnote_index_column": "2019-09-03 18:00:00+01:00"
        },
        {
         "0": 102192.89342749276,
         "_deepnote_index_column": "2019-09-03 19:00:00+01:00"
        },
        {
         "0": 102348.91575643781,
         "_deepnote_index_column": "2019-09-03 20:00:00+01:00"
        },
        {
         "0": 102738.95995442783,
         "_deepnote_index_column": "2019-09-03 21:00:00+01:00"
        },
        {
         "0": 103011.99321789537,
         "_deepnote_index_column": "2019-09-03 22:00:00+01:00"
        },
        {
         "0": 102816.95949452776,
         "_deepnote_index_column": "2019-09-03 23:00:00+01:00"
        },
        {
         "0": 102272.95680745145,
         "_deepnote_index_column": "2019-09-04 00:00:00+01:00"
        },
        {
         "0": 102078.66020740532,
         "_deepnote_index_column": "2019-09-04 01:00:00+01:00"
        },
        {
         "0": 101767.80649212116,
         "_deepnote_index_column": "2019-09-04 02:00:00+01:00"
        },
        {
         "0": 101651.22621600576,
         "_deepnote_index_column": "2019-09-04 03:00:00+01:00"
        },
        {
         "0": 101923.23913998259,
         "_deepnote_index_column": "2019-09-04 04:00:00+01:00"
        },
        {
         "0": 101379.2248724676,
         "_deepnote_index_column": "2019-09-04 05:00:00+01:00"
        },
        {
         "0": 101301.5085485369,
         "_deepnote_index_column": "2019-09-04 06:00:00+01:00"
        },
        {
         "0": 101340.36092028291,
         "_deepnote_index_column": "2019-09-04 07:00:00+01:00"
        },
        {
         "0": 101301.4787348455,
         "_deepnote_index_column": "2019-09-04 08:00:00+01:00"
        },
        {
         "0": 100679.2710532468,
         "_deepnote_index_column": "2019-09-04 09:00:00+01:00"
        },
        {
         "0": 100990.37489404614,
         "_deepnote_index_column": "2019-09-04 10:00:00+01:00"
        },
        {
         "0": 100951.49270860873,
         "_deepnote_index_column": "2019-09-04 11:00:00+01:00"
        },
        {
         "0": 101068.16244357103,
         "_deepnote_index_column": "2019-09-04 12:00:00+01:00"
        },
        {
         "0": 100756.3503009032,
         "_deepnote_index_column": "2019-09-04 13:00:00+01:00"
        },
        {
         "0": 100873.2784023857,
         "_deepnote_index_column": "2019-09-04 14:00:00+01:00"
        },
        {
         "0": 100639.41058327712,
         "_deepnote_index_column": "2019-09-04 15:00:00+01:00"
        },
        {
         "0": 100795.32246268282,
         "_deepnote_index_column": "2019-09-04 16:00:00+01:00"
        },
        {
         "0": 101418.95836416206,
         "_deepnote_index_column": "2019-09-04 17:00:00+01:00"
        },
        {
         "0": 101418.95836416206,
         "_deepnote_index_column": "2019-09-04 18:00:00+01:00"
        },
        {
         "0": 101146.11838327388,
         "_deepnote_index_column": "2019-09-04 19:00:00+01:00"
        },
        {
         "0": 101652.82618327063,
         "_deepnote_index_column": "2019-09-04 20:00:00+01:00"
        },
        {
         "0": 101808.73806267632,
         "_deepnote_index_column": "2019-09-04 21:00:00+01:00"
        },
        {
         "0": 102277.89904924917,
         "_deepnote_index_column": "2019-09-04 22:00:00+01:00"
        },
        {
         "0": 101222.27809058673,
         "_deepnote_index_column": "2019-09-04 23:00:00+01:00"
        },
        {
         "0": 101222.27809058673,
         "_deepnote_index_column": "2019-09-05 00:00:00+01:00"
        },
        {
         "0": 101026.79531716727,
         "_deepnote_index_column": "2019-09-05 01:00:00+01:00"
        },
        {
         "0": 101026.79531716727,
         "_deepnote_index_column": "2019-09-05 02:00:00+01:00"
        },
        {
         "0": 101065.89886294992,
         "_deepnote_index_column": "2019-09-05 03:00:00+01:00"
        },
        {
         "0": 101300.47353032074,
         "_deepnote_index_column": "2019-09-05 04:00:00+01:00"
        },
        {
         "0": 101222.27809058673,
         "_deepnote_index_column": "2019-09-05 05:00:00+01:00"
        },
        {
         "0": 101183.18619663536,
         "_deepnote_index_column": "2019-09-05 06:00:00+01:00"
        },
        {
         "0": 101183.18619663536,
         "_deepnote_index_column": "2019-09-05 07:00:00+01:00"
        },
        {
         "0": 100753.11710401383,
         "_deepnote_index_column": "2019-09-05 09:00:00+01:00"
        },
        {
         "0": 100479.43889086036,
         "_deepnote_index_column": "2019-09-05 10:00:00+01:00"
        },
        {
         "0": 100792.22064979647,
         "_deepnote_index_column": "2019-09-05 11:00:00+01:00"
        },
        {
         "0": 100049.36979823884,
         "_deepnote_index_column": "2019-09-05 12:00:00+01:00"
        },
        {
         "0": 100283.95611744096,
         "_deepnote_index_column": "2019-09-05 13:00:00+01:00"
        },
        {
         "0": 100010.27790428749,
         "_deepnote_index_column": "2019-09-05 14:00:00+01:00"
        },
        {
         "0": 99892.97891877081,
         "_deepnote_index_column": "2019-09-05 15:00:00+01:00"
        },
        {
         "0": 100127.56523797286,
         "_deepnote_index_column": "2019-09-05 16:00:00+01:00"
        },
        {
         "0": 99775.69158508537,
         "_deepnote_index_column": "2019-09-05 17:00:00+01:00"
        },
        {
         "0": 99658.40425139999,
         "_deepnote_index_column": "2019-09-05 18:00:00+01:00"
        },
        {
         "0": 100049.36979823884,
         "_deepnote_index_column": "2019-09-05 19:00:00+01:00"
        },
        {
         "0": 99775.69158508538,
         "_deepnote_index_column": "2019-09-05 20:00:00+01:00"
        },
        {
         "0": 99541.10526588329,
         "_deepnote_index_column": "2019-09-05 21:00:00+01:00"
        },
        {
         "0": 99853.88702481941,
         "_deepnote_index_column": "2019-09-05 22:00:00+01:00"
        },
        {
         "0": 100244.8525716583,
         "_deepnote_index_column": "2019-09-05 23:00:00+01:00"
        },
        {
         "0": 100166.65713192425,
         "_deepnote_index_column": "2019-09-06 00:00:00+01:00"
        },
        {
         "0": 99893.40554831696,
         "_deepnote_index_column": "2019-09-06 01:00:00+01:00"
        },
        {
         "0": 99854.37459365917,
         "_deepnote_index_column": "2019-09-06 02:00:00+01:00"
        },
        {
         "0": 99737.25846235067,
         "_deepnote_index_column": "2019-09-06 03:00:00+01:00"
        },
        {
         "0": 100088.58358894108,
         "_deepnote_index_column": "2019-09-06 04:00:00+01:00"
        },
        {
         "0": 100752.20288746411,
         "_deepnote_index_column": "2019-09-06 05:00:00+01:00"
        },
        {
         "0": 100517.98225851465,
         "_deepnote_index_column": "2019-09-06 06:00:00+01:00"
        },
        {
         "0": 100557.02484684,
         "_deepnote_index_column": "2019-09-06 07:00:00+01:00"
        },
        {
         "0": 100010.51004595791,
         "_deepnote_index_column": "2019-09-06 08:00:00+01:00"
        },
        {
         "0": 100244.73067490738,
         "_deepnote_index_column": "2019-09-06 09:00:00+01:00"
        },
        {
         "0": 100088.58358894104,
         "_deepnote_index_column": "2019-09-06 10:00:00+01:00"
        },
        {
         "0": 100244.2449836863,
         "_deepnote_index_column": "2019-09-06 11:00:00+01:00"
        },
        {
         "0": 100672.30802049514,
         "_deepnote_index_column": "2019-09-06 12:00:00+01:00"
        },
        {
         "0": 100283.15453363193,
         "_deepnote_index_column": "2019-09-06 13:00:00+01:00"
        },
        {
         "0": 100399.89478095024,
         "_deepnote_index_column": "2019-09-06 14:00:00+01:00"
        },
        {
         "0": 100750.12712038645,
         "_deepnote_index_column": "2019-09-06 15:00:00+01:00"
        },
        {
         "0": 100750.12712038645,
         "_deepnote_index_column": "2019-09-06 16:00:00+01:00"
        },
        {
         "0": 100399.89478095021,
         "_deepnote_index_column": "2019-09-06 17:00:00+01:00"
        },
        {
         "0": 98687.65423119612,
         "_deepnote_index_column": "2019-09-06 18:00:00+01:00"
        },
        {
         "0": 98259.59119438729,
         "_deepnote_index_column": "2019-09-06 19:00:00+01:00"
        },
        {
         "0": 98142.85094706898,
         "_deepnote_index_column": "2019-09-06 20:00:00+01:00"
        },
        {
         "0": 98298.51234181425,
         "_deepnote_index_column": "2019-09-06 21:00:00+01:00"
        },
        {
         "0": 98181.40118989498,
         "_deepnote_index_column": "2019-09-06 22:00:00+01:00"
        },
        {
         "0": 98298.51234181425,
         "_deepnote_index_column": "2019-09-06 23:00:00+01:00"
        },
        {
         "0": 98298.51234181425,
         "_deepnote_index_column": "2019-09-07 00:00:00+01:00"
        },
        {
         "0": 97986.20042425804,
         "_deepnote_index_column": "2019-09-07 01:00:00+01:00"
        },
        {
         "0": 98220.43436242519,
         "_deepnote_index_column": "2019-09-07 02:00:00+01:00"
        },
        {
         "0": 98298.51234181423,
         "_deepnote_index_column": "2019-09-07 03:00:00+01:00"
        },
        {
         "0": 98064.27840364707,
         "_deepnote_index_column": "2019-09-07 04:00:00+01:00"
        },
        {
         "0": 98376.59032120326,
         "_deepnote_index_column": "2019-09-07 05:00:00+01:00"
        },
        {
         "0": 98220.43436242519,
         "_deepnote_index_column": "2019-09-07 06:00:00+01:00"
        },
        {
         "0": 98064.27840364708,
         "_deepnote_index_column": "2019-09-07 07:00:00+01:00"
        },
        {
         "0": 98142.35638303615,
         "_deepnote_index_column": "2019-09-07 08:00:00+01:00"
        },
        {
         "0": 98064.27840364708,
         "_deepnote_index_column": "2019-09-07 09:00:00+01:00"
        },
        {
         "0": 98181.40118989498,
         "_deepnote_index_column": "2019-09-07 10:00:00+01:00"
        },
        {
         "0": 98220.44599675383,
         "_deepnote_index_column": "2019-09-07 11:00:00+01:00"
        },
        {
         "0": 98806.49095675997,
         "_deepnote_index_column": "2019-09-07 12:00:00+01:00"
        },
        {
         "0": 98884.63106099986,
         "_deepnote_index_column": "2019-09-07 13:00:00+01:00"
        },
        {
         "0": 100330.19388047305,
         "_deepnote_index_column": "2019-09-07 14:00:00+01:00"
        },
        {
         "0": 101189.72338352588,
         "_deepnote_index_column": "2019-09-07 15:00:00+01:00"
        },
        {
         "0": 100838.09873623932,
         "_deepnote_index_column": "2019-09-07 16:00:00+01:00"
        },
        {
         "0": 100644.10720283959,
         "_deepnote_index_column": "2019-09-07 17:00:00+01:00"
        },
        {
         "0": 100914.65470149084,
         "_deepnote_index_column": "2019-09-07 18:00:00+01:00"
        },
        {
         "0": 101301.15935566502,
         "_deepnote_index_column": "2019-09-07 19:00:00+01:00"
        },
        {
         "0": 101146.55749399532,
         "_deepnote_index_column": "2019-09-07 20:00:00+01:00"
        },
        {
         "0": 100876.00999534405,
         "_deepnote_index_column": "2019-09-07 21:00:00+01:00"
        },
        {
         "0": 101069.25656316048,
         "_deepnote_index_column": "2019-09-07 22:00:00+01:00"
        },
        {
         "0": 101069.25656316048,
         "_deepnote_index_column": "2019-09-07 23:00:00+01:00"
        },
        {
         "0": 100682.76342752762,
         "_deepnote_index_column": "2019-09-08 00:00:00+01:00"
        },
        {
         "0": 101030.61185701372,
         "_deepnote_index_column": "2019-09-08 01:00:00+01:00"
        },
        {
         "0": 100876.00999534402,
         "_deepnote_index_column": "2019-09-08 02:00:00+01:00"
        },
        {
         "0": 100760.05283982112,
         "_deepnote_index_column": "2019-09-08 03:00:00+01:00"
        },
        {
         "0": 102344.70464412327,
         "_deepnote_index_column": "2019-09-08 04:00:00+01:00"
        },
        {
         "0": 102460.65028110483,
         "_deepnote_index_column": "2019-09-08 05:00:00+01:00"
        },
        {
         "0": 101996.85621463717,
         "_deepnote_index_column": "2019-09-08 06:00:00+01:00"
        },
        {
         "0": 101842.25435296747,
         "_deepnote_index_column": "2019-09-08 07:00:00+01:00"
        },
        {
         "0": 101687.65249129783,
         "_deepnote_index_column": "2019-09-08 08:00:00+01:00"
        },
        {
         "0": 101107.90126930721,
         "_deepnote_index_column": "2019-09-08 09:00:00+01:00"
        },
        {
         "0": 101223.85842483012,
         "_deepnote_index_column": "2019-09-08 10:00:00+01:00"
        },
        {
         "0": 101842.25435296747,
         "_deepnote_index_column": "2019-09-08 11:00:00+01:00"
        },
        {
         "0": 100412.20441033502,
         "_deepnote_index_column": "2019-09-08 12:00:00+01:00"
        },
        {
         "0": 100334.91499804152,
         "_deepnote_index_column": "2019-09-08 13:00:00+01:00"
        },
        {
         "0": 99948.41034386732,
         "_deepnote_index_column": "2019-09-08 14:00:00+01:00"
        },
        {
         "0": 101880.89905911426,
         "_deepnote_index_column": "2019-09-08 15:00:00+01:00"
        },
        {
         "0": 102074.14562693065,
         "_deepnote_index_column": "2019-09-08 16:00:00+01:00"
        },
        {
         "0": 101610.35156046298,
         "_deepnote_index_column": "2019-09-08 17:00:00+01:00"
        },
        {
         "0": 101494.40592348138,
         "_deepnote_index_column": "2019-09-08 18:00:00+01:00"
        },
        {
         "0": 101339.80406181174,
         "_deepnote_index_column": "2019-09-08 19:00:00+01:00"
        },
        {
         "0": 100760.05283982112,
         "_deepnote_index_column": "2019-09-08 20:00:00+01:00"
        },
        {
         "0": 100296.25877335342,
         "_deepnote_index_column": "2019-09-08 21:00:00+01:00"
        },
        {
         "0": 100953.31092617888,
         "_deepnote_index_column": "2019-09-08 22:00:00+01:00"
        },
        {
         "0": 101610.35156046298,
         "_deepnote_index_column": "2019-09-08 23:00:00+01:00"
        },
        {
         "0": 101687.65249129785,
         "_deepnote_index_column": "2019-09-09 00:00:00+01:00"
        },
        {
         "0": 101571.5303067663,
         "_deepnote_index_column": "2019-09-09 01:00:00+01:00"
        },
        {
         "0": 101261.85576657503,
         "_deepnote_index_column": "2019-09-09 02:00:00+01:00"
        },
        {
         "0": 101803.77467582942,
         "_deepnote_index_column": "2019-09-09 03:00:00+01:00"
        },
        {
         "0": 101725.52294609211,
         "_deepnote_index_column": "2019-09-09 04:00:00+01:00"
        },
        {
         "0": 101882.01474534771,
         "_deepnote_index_column": "2019-09-09 05:00:00+01:00"
        },
        {
         "0": 101489.55043841637,
         "_deepnote_index_column": "2019-09-09 06:00:00+01:00"
        },
        {
         "0": 101371.81699441189,
         "_deepnote_index_column": "2019-09-09 07:00:00+01:00"
        },
        {
         "0": 101018.60496624862,
         "_deepnote_index_column": "2019-09-09 08:00:00+01:00"
        },
        {
         "0": 101489.55043841637,
         "_deepnote_index_column": "2019-09-09 09:00:00+01:00"
        },
        {
         "0": 102902.3985510695,
         "_deepnote_index_column": "2019-09-09 10:00:00+01:00"
        },
        {
         "0": 103020.13199507403,
         "_deepnote_index_column": "2019-09-09 11:00:00+01:00"
        },
        {
         "0": 103256.13830844662,
         "_deepnote_index_column": "2019-09-09 12:00:00+01:00"
        },
        {
         "0": 103885.50801568058,
         "_deepnote_index_column": "2019-09-09 13:00:00+01:00"
        },
        {
         "0": 104084.60798933794,
         "_deepnote_index_column": "2019-09-09 14:00:00+01:00"
        },
        {
         "0": 103965.1574985265,
         "_deepnote_index_column": "2019-09-09 15:00:00+01:00"
        },
        {
         "0": 103687.07078944815,
         "_deepnote_index_column": "2019-09-09 16:00:00+01:00"
        },
        {
         "0": 102932.25385950174,
         "_deepnote_index_column": "2019-09-09 17:00:00+01:00"
        },
        {
         "0": 102892.53226085739,
         "_deepnote_index_column": "2019-09-09 18:00:00+01:00"
        },
        {
         "0": 102932.25385950171,
         "_deepnote_index_column": "2019-09-09 19:00:00+01:00"
        },
        {
         "0": 102852.79882269035,
         "_deepnote_index_column": "2019-09-09 20:00:00+01:00"
        },
        {
         "0": 102495.25707680066,
         "_deepnote_index_column": "2019-09-09 21:00:00+01:00"
        },
        {
         "0": 102693.90058859036,
         "_deepnote_index_column": "2019-09-09 22:00:00+01:00"
        },
        {
         "0": 102971.98729766872,
         "_deepnote_index_column": "2019-09-09 23:00:00+01:00"
        },
        {
         "0": 102813.07722404605,
         "_deepnote_index_column": "2019-09-10 00:00:00+01:00"
        },
        {
         "0": 103091.16393312438,
         "_deepnote_index_column": "2019-09-10 01:00:00+01:00"
        },
        {
         "0": 103448.70567901412,
         "_deepnote_index_column": "2019-09-10 02:00:00+01:00"
        },
        {
         "0": 103091.16393312441,
         "_deepnote_index_column": "2019-09-10 03:00:00+01:00"
        },
        {
         "0": 103130.62366208404,
         "_deepnote_index_column": "2019-09-10 04:00:00+01:00"
        },
        {
         "0": 103327.88703298857,
         "_deepnote_index_column": "2019-09-10 05:00:00+01:00"
        },
        {
         "0": 103643.5178328075,
         "_deepnote_index_column": "2019-09-10 06:00:00+01:00"
        },
        {
         "0": 103762.6106201914,
         "_deepnote_index_column": "2019-09-10 07:00:00+01:00"
        },
        {
         "0": 103921.38128667382,
         "_deepnote_index_column": "2019-09-10 08:00:00+01:00"
        },
        {
         "0": 103564.12658455745,
         "_deepnote_index_column": "2019-09-10 09:00:00+01:00"
        },
        {
         "0": 103127.48063419109,
         "_deepnote_index_column": "2019-09-10 10:00:00+01:00"
        },
        {
         "0": 103524.43687544126,
         "_deepnote_index_column": "2019-09-10 11:00:00+01:00"
        },
        {
         "0": 103643.51783280751,
         "_deepnote_index_column": "2019-09-10 12:00:00+01:00"
        },
        {
         "0": 104199.24474054016,
         "_deepnote_index_column": "2019-09-10 13:00:00+01:00"
        },
        {
         "0": 103603.82812369132,
         "_deepnote_index_column": "2019-09-10 14:00:00+01:00"
        },
        {
         "0": 103206.8718824411,
         "_deepnote_index_column": "2019-09-10 15:00:00+01:00"
        },
        {
         "0": 102929.00842857477,
         "_deepnote_index_column": "2019-09-10 16:00:00+01:00"
        },
        {
         "0": 102889.31871945856,
         "_deepnote_index_column": "2019-09-10 17:00:00+01:00"
        },
        {
         "0": 102690.84651384228,
         "_deepnote_index_column": "2019-09-10 18:00:00+01:00"
        },
        {
         "0": 102730.5480529761,
         "_deepnote_index_column": "2019-09-10 19:00:00+01:00"
        },
        {
         "0": 101737.40757109906,
         "_deepnote_index_column": "2019-09-10 20:00:00+01:00"
        },
        {
         "0": 101578.50225259832,
         "_deepnote_index_column": "2019-09-10 21:00:00+01:00"
        },
        {
         "0": 102412.749255143,
         "_deepnote_index_column": "2019-09-10 22:00:00+01:00"
        },
        {
         "0": 102333.29659589264,
         "_deepnote_index_column": "2019-09-10 23:00:00+01:00"
        },
        {
         "0": 102730.54805297608,
         "_deepnote_index_column": "2019-09-11 00:00:00+01:00"
        },
        {
         "0": 102690.82764293511,
         "_deepnote_index_column": "2019-09-11 01:00:00+01:00"
        },
        {
         "0": 102134.6590281825,
         "_deepnote_index_column": "2019-09-11 02:00:00+01:00"
        },
        {
         "0": 102333.29659589264,
         "_deepnote_index_column": "2019-09-11 03:00:00+01:00"
        },
        {
         "0": 102492.190075225,
         "_deepnote_index_column": "2019-09-11 04:00:00+01:00"
        },
        {
         "0": 102214.11168743289,
         "_deepnote_index_column": "2019-09-11 05:00:00+01:00"
        },
        {
         "0": 101697.68716105804,
         "_deepnote_index_column": "2019-09-11 06:00:00+01:00"
        },
        {
         "0": 101697.68716105804,
         "_deepnote_index_column": "2019-09-11 07:00:00+01:00"
        },
        {
         "0": 101657.95491184866,
         "_deepnote_index_column": "2019-09-11 08:00:00+01:00"
        },
        {
         "0": 101022.34547701408,
         "_deepnote_index_column": "2019-09-11 09:00:00+01:00"
        },
        {
         "0": 101220.9712055558,
         "_deepnote_index_column": "2019-09-11 10:00:00+01:00"
        },
        {
         "0": 101699.55356448262,
         "_deepnote_index_column": "2019-09-11 11:00:00+01:00"
        },
        {
         "0": 101460.26832792694,
         "_deepnote_index_column": "2019-09-11 12:00:00+01:00"
        },
        {
         "0": 101460.26832792694,
         "_deepnote_index_column": "2019-09-11 13:00:00+01:00"
        },
        {
         "0": 101540.02214956854,
         "_deepnote_index_column": "2019-09-11 14:00:00+01:00"
        },
        {
         "0": 100901.90837572773,
         "_deepnote_index_column": "2019-09-11 15:00:00+01:00"
        },
        {
         "0": 100742.3888466291,
         "_deepnote_index_column": "2019-09-11 16:00:00+01:00"
        },
        {
         "0": 100981.67408318474,
         "_deepnote_index_column": "2019-09-11 17:00:00+01:00"
        },
        {
         "0": 100901.90837572773,
         "_deepnote_index_column": "2019-09-11 18:00:00+01:00"
        },
        {
         "0": 100862.0314649069,
         "_deepnote_index_column": "2019-09-11 19:00:00+01:00"
        },
        {
         "0": 100782.26575744986,
         "_deepnote_index_column": "2019-09-11 20:00:00+01:00"
        },
        {
         "0": 100782.26575744986,
         "_deepnote_index_column": "2019-09-11 21:00:00+01:00"
        },
        {
         "0": 101340.6138238337,
         "_deepnote_index_column": "2019-09-11 22:00:00+01:00"
        },
        {
         "0": 100981.67408318477,
         "_deepnote_index_column": "2019-09-11 23:00:00+01:00"
        },
        {
         "0": 101140.07939355484,
         "_deepnote_index_column": "2019-09-12 00:00:00+01:00"
        },
        {
         "0": 101100.47216500455,
         "_deepnote_index_column": "2019-09-12 01:00:00+01:00"
        },
        {
         "0": 100942.07865655,
         "_deepnote_index_column": "2019-09-12 02:00:00+01:00"
        },
        {
         "0": 100862.87600136496,
         "_deepnote_index_column": "2019-09-12 03:00:00+01:00"
        },
        {
         "0": 100308.46921698515,
         "_deepnote_index_column": "2019-09-12 04:00:00+01:00"
        },
        {
         "0": 99991.65859624496,
         "_deepnote_index_column": "2019-09-12 05:00:00+01:00"
        },
        {
         "0": 99952.06316961019,
         "_deepnote_index_column": "2019-09-12 06:00:00+01:00"
        },
        {
         "0": 99595.65712223525,
         "_deepnote_index_column": "2019-09-12 07:00:00+01:00"
        },
        {
         "0": 99476.84723849989,
         "_deepnote_index_column": "2019-09-12 08:00:00+01:00"
        },
        {
         "0": 99952.06316961022,
         "_deepnote_index_column": "2019-09-12 09:00:00+01:00"
        },
        {
         "0": 100110.45667806476,
         "_deepnote_index_column": "2019-09-12 10:00:00+01:00"
        },
        {
         "0": 100585.67260917506,
         "_deepnote_index_column": "2019-09-12 11:00:00+01:00"
        },
        {
         "0": 100744.07791954518,
         "_deepnote_index_column": "2019-09-12 12:00:00+01:00"
        },
        {
         "0": 100942.70327512313,
         "_deepnote_index_column": "2019-09-12 13:00:00+01:00"
        },
        {
         "0": 101856.38938209854,
         "_deepnote_index_column": "2019-09-12 14:00:00+01:00"
        },
        {
         "0": 101856.38938209854,
         "_deepnote_index_column": "2019-09-12 15:00:00+01:00"
        },
        {
         "0": 102611.17046895313,
         "_deepnote_index_column": "2019-09-12 16:00:00+01:00"
        },
        {
         "0": 101845.11964072296,
         "_deepnote_index_column": "2019-09-12 17:00:00+01:00"
        },
        {
         "0": 101885.43304603267,
         "_deepnote_index_column": "2019-09-12 18:00:00+01:00"
        },
        {
         "0": 102006.38527788008,
         "_deepnote_index_column": "2019-09-12 19:00:00+01:00"
        },
        {
         "0": 101804.79421949509,
         "_deepnote_index_column": "2019-09-12 20:00:00+01:00"
        },
        {
         "0": 102006.38527788006,
         "_deepnote_index_column": "2019-09-12 21:00:00+01:00"
        },
        {
         "0": 102812.76152733814,
         "_deepnote_index_column": "2019-09-12 22:00:00+01:00"
        },
        {
         "0": 102772.43610611027,
         "_deepnote_index_column": "2019-09-12 23:00:00+01:00"
        },
        {
         "0": 102450.13372729477,
         "_deepnote_index_column": "2019-09-13 00:00:00+01:00"
        },
        {
         "0": 102248.70074378308,
         "_deepnote_index_column": "2019-09-13 01:00:00+01:00"
        },
        {
         "0": 101967.79893541247,
         "_deepnote_index_column": "2019-09-13 02:00:00+01:00"
        },
        {
         "0": 102168.4413757664,
         "_deepnote_index_column": "2019-09-13 03:00:00+01:00"
        },
        {
         "0": 102449.34318413699,
         "_deepnote_index_column": "2019-09-13 04:00:00+01:00"
        },
        {
         "0": 102449.34318413699,
         "_deepnote_index_column": "2019-09-13 05:00:00+01:00"
        },
        {
         "0": 102168.4413757664,
         "_deepnote_index_column": "2019-09-13 06:00:00+01:00"
        },
        {
         "0": 102088.1939671251,
         "_deepnote_index_column": "2019-09-13 07:00:00+01:00"
        },
        {
         "0": 102128.31767144572,
         "_deepnote_index_column": "2019-09-13 08:00:00+01:00"
        },
        {
         "0": 101686.89712704187,
         "_deepnote_index_column": "2019-09-13 09:00:00+01:00"
        },
        {
         "0": 101566.51405470459,
         "_deepnote_index_column": "2019-09-13 10:00:00+01:00"
        },
        {
         "0": 101606.63775902524,
         "_deepnote_index_column": "2019-09-13 11:00:00+01:00"
        },
        {
         "0": 101245.476582638,
         "_deepnote_index_column": "2019-09-13 12:00:00+01:00"
        },
        {
         "0": 101285.32793219431,
         "_deepnote_index_column": "2019-09-13 13:00:00+01:00"
        },
        {
         "0": 101325.16740709341,
         "_deepnote_index_column": "2019-09-13 14:00:00+01:00"
        },
        {
         "0": 101086.09493372716,
         "_deepnote_index_column": "2019-09-13 15:00:00+01:00"
        },
        {
         "0": 100528.25916253922,
         "_deepnote_index_column": "2019-09-13 16:00:00+01:00"
        },
        {
         "0": 100015.97202369872,
         "_deepnote_index_column": "2019-09-13 17:00:00+01:00"
        },
        {
         "0": 99508.87959375932,
         "_deepnote_index_column": "2019-09-13 18:00:00+01:00"
        },
        {
         "0": 99586.88487126718,
         "_deepnote_index_column": "2019-09-13 19:00:00+01:00"
        },
        {
         "0": 99118.79508008173,
         "_deepnote_index_column": "2019-09-13 20:00:00+01:00"
        },
        {
         "0": 99391.84842704222,
         "_deepnote_index_column": "2019-09-13 21:00:00+01:00"
        },
        {
         "0": 99352.84578828828,
         "_deepnote_index_column": "2019-09-13 22:00:00+01:00"
        },
        {
         "0": 99586.88487126716,
         "_deepnote_index_column": "2019-09-13 23:00:00+01:00"
        },
        {
         "0": 99859.94984345531,
         "_deepnote_index_column": "2019-09-14 00:00:00+01:00"
        },
        {
         "0": 99586.88487126716,
         "_deepnote_index_column": "2019-09-14 01:00:00+01:00"
        },
        {
         "0": 99508.87959375931,
         "_deepnote_index_column": "2019-09-14 02:00:00+01:00"
        },
        {
         "0": 99508.87959375931,
         "_deepnote_index_column": "2019-09-14 03:00:00+01:00"
        },
        {
         "0": 99508.87959375931,
         "_deepnote_index_column": "2019-09-14 04:00:00+01:00"
        },
        {
         "0": 99430.8626910238,
         "_deepnote_index_column": "2019-09-14 05:00:00+01:00"
        },
        {
         "0": 99469.86532977773,
         "_deepnote_index_column": "2019-09-14 06:00:00+01:00"
        },
        {
         "0": 99391.8484270422,
         "_deepnote_index_column": "2019-09-14 07:00:00+01:00"
        },
        {
         "0": 99469.86532977772,
         "_deepnote_index_column": "2019-09-14 08:00:00+01:00"
        },
        {
         "0": 99703.91603798428,
         "_deepnote_index_column": "2019-09-14 09:00:00+01:00"
        },
        {
         "0": 99586.88487126716,
         "_deepnote_index_column": "2019-09-14 10:00:00+01:00"
        },
        {
         "0": 99508.87959375931,
         "_deepnote_index_column": "2019-09-14 11:00:00+01:00"
        },
        {
         "0": 100093.98892643422,
         "_deepnote_index_column": "2019-09-14 12:00:00+01:00"
        },
        {
         "0": 99196.81198281723,
         "_deepnote_index_column": "2019-09-14 13:00:00+01:00"
        },
        {
         "0": 100844.35581973818,
         "_deepnote_index_column": "2019-09-14 14:00:00+01:00"
        },
        {
         "0": 101112.55770934277,
         "_deepnote_index_column": "2019-09-14 15:00:00+01:00"
        },
        {
         "0": 101112.55770934277,
         "_deepnote_index_column": "2019-09-14 16:00:00+01:00"
        },
        {
         "0": 101380.75959894736,
         "_deepnote_index_column": "2019-09-14 17:00:00+01:00"
        },
        {
         "0": 100806.03473912197,
         "_deepnote_index_column": "2019-09-14 18:00:00+01:00"
        },
        {
         "0": 100920.97514361616,
         "_deepnote_index_column": "2019-09-14 19:00:00+01:00"
        },
        {
         "0": 101342.43851833118,
         "_deepnote_index_column": "2019-09-14 20:00:00+01:00"
        },
        {
         "0": 101419.06926088638,
         "_deepnote_index_column": "2019-09-14 21:00:00+01:00"
        },
        {
         "0": 101074.23662872659,
         "_deepnote_index_column": "2019-09-14 22:00:00+01:00"
        },
        {
         "0": 100806.034739122,
         "_deepnote_index_column": "2019-09-14 23:00:00+01:00"
        },
        {
         "0": 100461.20210696218,
         "_deepnote_index_column": "2019-09-15 00:00:00+01:00"
        },
        {
         "0": 100729.40399656678,
         "_deepnote_index_column": "2019-09-15 01:00:00+01:00"
        },
        {
         "0": 100537.83284951738,
         "_deepnote_index_column": "2019-09-15 02:00:00+01:00"
        },
        {
         "0": 100729.40399656678,
         "_deepnote_index_column": "2019-09-15 03:00:00+01:00"
        },
        {
         "0": 100537.83284951738,
         "_deepnote_index_column": "2019-09-15 04:00:00+01:00"
        },
        {
         "0": 100691.09433462778,
         "_deepnote_index_column": "2019-09-15 05:00:00+01:00"
        },
        {
         "0": 100806.03473912197,
         "_deepnote_index_column": "2019-09-15 06:00:00+01:00"
        },
        {
         "0": 101074.23662872656,
         "_deepnote_index_column": "2019-09-15 07:00:00+01:00"
        },
        {
         "0": 100920.97514361616,
         "_deepnote_index_column": "2019-09-15 08:00:00+01:00"
        },
        {
         "0": 100461.20210696217,
         "_deepnote_index_column": "2019-09-15 09:00:00+01:00"
        },
        {
         "0": 100614.46359207253,
         "_deepnote_index_column": "2019-09-15 10:00:00+01:00"
        },
        {
         "0": 101189.17703322074,
         "_deepnote_index_column": "2019-09-15 11:00:00+01:00"
        },
        {
         "0": 100959.29622423234,
         "_deepnote_index_column": "2019-09-15 12:00:00+01:00"
        },
        {
         "0": 101227.49811383696,
         "_deepnote_index_column": "2019-09-15 13:00:00+01:00"
        },
        {
         "0": 100384.57136440699,
         "_deepnote_index_column": "2019-09-15 14:00:00+01:00"
        },
        {
         "0": 100039.73873224719,
         "_deepnote_index_column": "2019-09-15 15:00:00+01:00"
        },
        {
         "0": 100039.73873224719,
         "_deepnote_index_column": "2019-09-15 16:00:00+01:00"
        },
        {
         "0": 99465.02529109901,
         "_deepnote_index_column": "2019-09-15 17:00:00+01:00"
        },
        {
         "0": 99465.02529109901,
         "_deepnote_index_column": "2019-09-15 18:00:00+01:00"
        },
        {
         "0": 99388.405967221,
         "_deepnote_index_column": "2019-09-15 19:00:00+01:00"
        },
        {
         "0": 99579.6936025853,
         "_deepnote_index_column": "2019-09-15 20:00:00+01:00"
        },
        {
         "0": 99388.405967221,
         "_deepnote_index_column": "2019-09-15 21:00:00+01:00"
        },
        {
         "0": 99732.70774933849,
         "_deepnote_index_column": "2019-09-15 22:00:00+01:00"
        },
        {
         "0": 99503.18082865933,
         "_deepnote_index_column": "2019-09-15 23:00:00+01:00"
        },
        {
         "0": 99770.96983685084,
         "_deepnote_index_column": "2019-09-16 00:00:00+01:00"
        },
        {
         "0": 100727.36240927735,
         "_deepnote_index_column": "2019-09-16 01:00:00+01:00"
        },
        {
         "0": 100612.59894893781,
         "_deepnote_index_column": "2019-09-16 02:00:00+01:00"
        },
        {
         "0": 100650.8610364502,
         "_deepnote_index_column": "2019-09-16 03:00:00+01:00"
        },
        {
         "0": 100344.58848487695,
         "_deepnote_index_column": "2019-09-16 04:00:00+01:00"
        },
        {
         "0": 100574.29004611349,
         "_deepnote_index_column": "2019-09-16 05:00:00+01:00"
        },
        {
         "0": 100459.42785572165,
         "_deepnote_index_column": "2019-09-16 06:00:00+01:00"
        },
        {
         "0": 100153.8426875596,
         "_deepnote_index_column": "2019-09-16 07:00:00+01:00"
        },
        {
         "0": 100306.63527164061,
         "_deepnote_index_column": "2019-09-16 08:00:00+01:00"
        },
        {
         "0": 99848.2689031395,
         "_deepnote_index_column": "2019-09-16 09:00:00+01:00"
        },
        {
         "0": 99504.49128082818,
         "_deepnote_index_column": "2019-09-16 10:00:00+01:00"
        },
        {
         "0": 99771.872611099,
         "_deepnote_index_column": "2019-09-16 11:00:00+01:00"
        },
        {
         "0": 99810.07644899024,
         "_deepnote_index_column": "2019-09-16 12:00:00+01:00"
        },
        {
         "0": 98663.27692564655,
         "_deepnote_index_column": "2019-09-16 13:00:00+01:00"
        },
        {
         "0": 98777.95346024193,
         "_deepnote_index_column": "2019-09-16 14:00:00+01:00"
        },
        {
         "0": 98701.49863969062,
         "_deepnote_index_column": "2019-09-16 15:00:00+01:00"
        },
        {
         "0": 98625.04381913928,
         "_deepnote_index_column": "2019-09-16 16:00:00+01:00"
        },
        {
         "0": 98854.40828079327,
         "_deepnote_index_column": "2019-09-16 17:00:00+01:00"
        },
        {
         "0": 98739.73174619788,
         "_deepnote_index_column": "2019-09-16 18:00:00+01:00"
        },
        {
         "0": 99007.31792189597,
         "_deepnote_index_column": "2019-09-16 19:00:00+01:00"
        },
        {
         "0": 98969.08481538869,
         "_deepnote_index_column": "2019-09-16 20:00:00+01:00"
        },
        {
         "0": 100115.89573119559,
         "_deepnote_index_column": "2019-09-16 21:00:00+01:00"
        },
        {
         "0": 99848.3095554975,
         "_deepnote_index_column": "2019-09-16 22:00:00+01:00"
        },
        {
         "0": 99582.14995636488,
         "_deepnote_index_column": "2019-09-16 23:00:00+01:00"
        },
        {
         "0": 99430.05551922432,
         "_deepnote_index_column": "2019-09-17 00:00:00+01:00"
        },
        {
         "0": 99468.07346264606,
         "_deepnote_index_column": "2019-09-17 01:00:00+01:00"
        },
        {
         "0": 99391.9680672052,
         "_deepnote_index_column": "2019-09-17 02:00:00+01:00"
        },
        {
         "0": 99163.65188088262,
         "_deepnote_index_column": "2019-09-17 03:00:00+01:00"
        },
        {
         "0": 99239.75727632346,
         "_deepnote_index_column": "2019-09-17 04:00:00+01:00"
        },
        {
         "0": 99391.9680672052,
         "_deepnote_index_column": "2019-09-17 05:00:00+01:00"
        },
        {
         "0": 99696.37830857298,
         "_deepnote_index_column": "2019-09-17 06:00:00+01:00"
        },
        {
         "0": 99430.0150947278,
         "_deepnote_index_column": "2019-09-17 07:00:00+01:00"
        },
        {
         "0": 101751.1899642892,
         "_deepnote_index_column": "2019-09-17 08:00:00+01:00"
        },
        {
         "0": 101142.358141158,
         "_deepnote_index_column": "2019-09-17 09:00:00+01:00"
        },
        {
         "0": 100914.04195483543,
         "_deepnote_index_column": "2019-09-17 10:00:00+01:00"
        },
        {
         "0": 101560.9321458849,
         "_deepnote_index_column": "2019-09-17 11:00:00+01:00"
        },
        {
         "0": 101560.9321458849,
         "_deepnote_index_column": "2019-09-17 12:00:00+01:00"
        },
        {
         "0": 104643.14962945924,
         "_deepnote_index_column": "2019-09-17 13:00:00+01:00"
        },
        {
         "0": 104034.31780632804,
         "_deepnote_index_column": "2019-09-17 14:00:00+01:00"
        },
        {
         "0": 106355.49267588944,
         "_deepnote_index_column": "2019-09-17 15:00:00+01:00"
        },
        {
         "0": 109171.34694561863,
         "_deepnote_index_column": "2019-09-17 16:00:00+01:00"
        },
        {
         "0": 111530.56884270268,
         "_deepnote_index_column": "2019-09-17 17:00:00+01:00"
        },
        {
         "0": 112139.40066583388,
         "_deepnote_index_column": "2019-09-17 18:00:00+01:00"
        },
        {
         "0": 109361.60476402297,
         "_deepnote_index_column": "2019-09-17 19:00:00+01:00"
        },
        {
         "0": 110883.67865165319,
         "_deepnote_index_column": "2019-09-17 20:00:00+01:00"
        },
        {
         "0": 111150.05320589404,
         "_deepnote_index_column": "2019-09-17 21:00:00+01:00"
        },
        {
         "0": 110655.37380572628,
         "_deepnote_index_column": "2019-09-17 22:00:00+01:00"
        },
        {
         "0": 110122.6473780359,
         "_deepnote_index_column": "2019-09-17 23:00:00+01:00"
        },
        {
         "0": 108790.81996841435,
         "_deepnote_index_column": "2019-09-18 00:00:00+01:00"
        },
        {
         "0": 114955.25493556306,
         "_deepnote_index_column": "2019-09-18 01:00:00+01:00"
        },
        {
         "0": 118037.47241913743,
         "_deepnote_index_column": "2019-09-18 02:00:00+01:00"
        },
        {
         "0": 117847.21460073309,
         "_deepnote_index_column": "2019-09-18 03:00:00+01:00"
        },
        {
         "0": 116020.70779094375,
         "_deepnote_index_column": "2019-09-18 04:00:00+01:00"
        },
        {
         "0": 116629.53961407497,
         "_deepnote_index_column": "2019-09-18 05:00:00+01:00"
        },
        {
         "0": 115297.72354484908,
         "_deepnote_index_column": "2019-09-18 06:00:00+01:00"
        },
        {
         "0": 116667.59798199324,
         "_deepnote_index_column": "2019-09-18 07:00:00+01:00"
        },
        {
         "0": 117162.277382161,
         "_deepnote_index_column": "2019-09-18 08:00:00+01:00"
        },
        {
         "0": 115564.08675869428,
         "_deepnote_index_column": "2019-09-18 09:00:00+01:00"
        },
        {
         "0": 115487.9813632534,
         "_deepnote_index_column": "2019-09-18 10:00:00+01:00"
        },
        {
         "0": 116705.6450095158,
         "_deepnote_index_column": "2019-09-18 11:00:00+01:00"
        },
        {
         "0": 116325.12937270716,
         "_deepnote_index_column": "2019-09-18 12:00:00+01:00"
        },
        {
         "0": 119369.28848836324,
         "_deepnote_index_column": "2019-09-18 13:00:00+01:00"
        },
        {
         "0": 121842.67414880636,
         "_deepnote_index_column": "2019-09-18 14:00:00+01:00"
        },
        {
         "0": 121918.77954424721,
         "_deepnote_index_column": "2019-09-18 15:00:00+01:00"
        },
        {
         "0": 120851.99485022291,
         "_deepnote_index_column": "2019-09-18 16:00:00+01:00"
        },
        {
         "0": 120623.39326382993,
         "_deepnote_index_column": "2019-09-18 17:00:00+01:00"
        },
        {
         "0": 120013.80038802011,
         "_deepnote_index_column": "2019-09-18 18:00:00+01:00"
        },
        {
         "0": 120242.40197441308,
         "_deepnote_index_column": "2019-09-18 19:00:00+01:00"
        },
        {
         "0": 119594.70315691874,
         "_deepnote_index_column": "2019-09-18 20:00:00+01:00"
        },
        {
         "0": 118908.90975231126,
         "_deepnote_index_column": "2019-09-18 21:00:00+01:00"
        },
        {
         "0": 120013.80038802011,
         "_deepnote_index_column": "2019-09-18 22:00:00+01:00"
        },
        {
         "0": 121309.18666843735,
         "_deepnote_index_column": "2019-09-18 23:00:00+01:00"
        },
        {
         "0": 119594.70315691874,
         "_deepnote_index_column": "2019-09-19 00:00:00+01:00"
        },
        {
         "0": 115022.75091105947,
         "_deepnote_index_column": "2019-09-19 01:00:00+01:00"
        },
        {
         "0": 114489.35856404732,
         "_deepnote_index_column": "2019-09-19 02:00:00+01:00"
        },
        {
         "0": 114756.0547375534,
         "_deepnote_index_column": "2019-09-19 03:00:00+01:00"
        },
        {
         "0": 111098.4861281231,
         "_deepnote_index_column": "2019-09-19 04:00:00+01:00"
        },
        {
         "0": 111593.77253345073,
         "_deepnote_index_column": "2019-09-19 05:00:00+01:00"
        },
        {
         "0": 112093.4947710855,
         "_deepnote_index_column": "2019-09-19 06:00:00+01:00"
        },
        {
         "0": 112362.57950097011,
         "_deepnote_index_column": "2019-09-19 07:00:00+01:00"
        },
        {
         "0": 113131.39792475349,
         "_deepnote_index_column": "2019-09-19 08:00:00+01:00"
        },
        {
         "0": 111901.28157294162,
         "_deepnote_index_column": "2019-09-19 09:00:00+01:00"
        },
        {
         "0": 110171.03648345603,
         "_deepnote_index_column": "2019-09-19 10:00:00+01:00"
        },
        {
         "0": 109456.37758788698,
         "_deepnote_index_column": "2019-09-19 11:00:00+01:00"
        },
        {
         "0": 107876.5905426711,
         "_deepnote_index_column": "2019-09-19 12:00:00+01:00"
        },
        {
         "0": 109456.37758788698,
         "_deepnote_index_column": "2019-09-19 13:00:00+01:00"
        },
        {
         "0": 109719.67356045493,
         "_deepnote_index_column": "2019-09-19 14:00:00+01:00"
        },
        {
         "0": 109832.5114887532,
         "_deepnote_index_column": "2019-09-19 15:00:00+01:00"
        },
        {
         "0": 110697.62842859192,
         "_deepnote_index_column": "2019-09-19 16:00:00+01:00"
        },
        {
         "0": 113593.89533664765,
         "_deepnote_index_column": "2019-09-19 17:00:00+01:00"
        },
        {
         "0": 113067.29218170361,
         "_deepnote_index_column": "2019-09-19 18:00:00+01:00"
        },
        {
         "0": 112582.82191676274,
         "_deepnote_index_column": "2019-09-19 19:00:00+01:00"
        },
        {
         "0": 114110.75634648035,
         "_deepnote_index_column": "2019-09-19 20:00:00+01:00"
        },
        {
         "0": 111315.75352823932,
         "_deepnote_index_column": "2019-09-19 21:00:00+01:00"
        },
        {
         "0": 112018.59692422416,
         "_deepnote_index_column": "2019-09-19 22:00:00+01:00"
        },
        {
         "0": 112362.14977045456,
         "_deepnote_index_column": "2019-09-19 23:00:00+01:00"
        },
        {
         "0": 112715.12080482069,
         "_deepnote_index_column": "2019-09-20 00:00:00+01:00"
        },
        {
         "0": 110363.29482759515,
         "_deepnote_index_column": "2019-09-20 01:00:00+01:00"
        },
        {
         "0": 109144.29473889666,
         "_deepnote_index_column": "2019-09-20 02:00:00+01:00"
        },
        {
         "0": 109480.13977549708,
         "_deepnote_index_column": "2019-09-20 03:00:00+01:00"
        },
        {
         "0": 110044.83123490092,
         "_deepnote_index_column": "2019-09-20 04:00:00+01:00"
        },
        {
         "0": 109658.39675613263,
         "_deepnote_index_column": "2019-09-20 05:00:00+01:00"
        },
        {
         "0": 109111.19780417436,
         "_deepnote_index_column": "2019-09-20 06:00:00+01:00"
        },
        {
         "0": 110556.67866228834,
         "_deepnote_index_column": "2019-09-20 07:00:00+01:00"
        },
        {
         "0": 110962.46040960914,
         "_deepnote_index_column": "2019-09-20 08:00:00+01:00"
        },
        {
         "0": 109874.4042337887,
         "_deepnote_index_column": "2019-09-20 09:00:00+01:00"
        },
        {
         "0": 109399.55207135437,
         "_deepnote_index_column": "2019-09-20 10:00:00+01:00"
        },
        {
         "0": 109340.72171456768,
         "_deepnote_index_column": "2019-09-20 11:00:00+01:00"
        },
        {
         "0": 109489.2358793688,
         "_deepnote_index_column": "2019-09-20 12:00:00+01:00"
        },
        {
         "0": 109869.9616922152,
         "_deepnote_index_column": "2019-09-20 13:00:00+01:00"
        },
        {
         "0": 108706.99315911211,
         "_deepnote_index_column": "2019-09-20 14:00:00+01:00"
        },
        {
         "0": 109074.73564421009,
         "_deepnote_index_column": "2019-09-20 15:00:00+01:00"
        },
        {
         "0": 108335.34123742954,
         "_deepnote_index_column": "2019-09-20 16:00:00+01:00"
        },
        {
         "0": 108561.4332844574,
         "_deepnote_index_column": "2019-09-20 17:00:00+01:00"
        },
        {
         "0": 107994.1873636488,
         "_deepnote_index_column": "2019-09-20 18:00:00+01:00"
        },
        {
         "0": 108926.51024461124,
         "_deepnote_index_column": "2019-09-20 19:00:00+01:00"
        },
        {
         "0": 108604.77027750661,
         "_deepnote_index_column": "2019-09-20 20:00:00+01:00"
        },
        {
         "0": 108255.1200429666,
         "_deepnote_index_column": "2019-09-20 21:00:00+01:00"
        },
        {
         "0": 108551.9706709059,
         "_deepnote_index_column": "2019-09-20 22:00:00+01:00"
        },
        {
         "0": 108838.39243250144,
         "_deepnote_index_column": "2019-09-20 23:00:00+01:00"
        },
        {
         "0": 107942.5428178572,
         "_deepnote_index_column": "2019-09-21 00:00:00+01:00"
        },
        {
         "0": 107914.869758448,
         "_deepnote_index_column": "2019-09-21 01:00:00+01:00"
        },
        {
         "0": 108572.55557622734,
         "_deepnote_index_column": "2019-09-21 02:00:00+01:00"
        },
        {
         "0": 107645.09839800902,
         "_deepnote_index_column": "2019-09-21 03:00:00+01:00"
        },
        {
         "0": 107785.47389755464,
         "_deepnote_index_column": "2019-09-21 04:00:00+01:00"
        },
        {
         "0": 107353.19296004812,
         "_deepnote_index_column": "2019-09-21 05:00:00+01:00"
        },
        {
         "0": 107784.19567096529,
         "_deepnote_index_column": "2019-09-21 06:00:00+01:00"
        },
        {
         "0": 107644.97822285962,
         "_deepnote_index_column": "2019-09-21 07:00:00+01:00"
        },
        {
         "0": 107499.45704191575,
         "_deepnote_index_column": "2019-09-21 08:00:00+01:00"
        },
        {
         "0": 106939.16772024108,
         "_deepnote_index_column": "2019-09-21 09:00:00+01:00"
        },
        {
         "0": 106693.23473944323,
         "_deepnote_index_column": "2019-09-21 10:00:00+01:00"
        },
        {
         "0": 106536.46079450747,
         "_deepnote_index_column": "2019-09-21 11:00:00+01:00"
        },
        {
         "0": 106942.22672404473,
         "_deepnote_index_column": "2019-09-21 12:00:00+01:00"
        },
        {
         "0": 106449.9565369464,
         "_deepnote_index_column": "2019-09-21 13:00:00+01:00"
        },
        {
         "0": 106437.88439693567,
         "_deepnote_index_column": "2019-09-21 14:00:00+01:00"
        },
        {
         "0": 106072.97801820398,
         "_deepnote_index_column": "2019-09-21 15:00:00+01:00"
        },
        {
         "0": 106962.853149692,
         "_deepnote_index_column": "2019-09-21 16:00:00+01:00"
        },
        {
         "0": 106371.7006646415,
         "_deepnote_index_column": "2019-09-21 17:00:00+01:00"
        },
        {
         "0": 106397.11224623876,
         "_deepnote_index_column": "2019-09-21 18:00:00+01:00"
        },
        {
         "0": 106639.82234802922,
         "_deepnote_index_column": "2019-09-21 19:00:00+01:00"
        },
        {
         "0": 105931.73944258517,
         "_deepnote_index_column": "2019-09-21 20:00:00+01:00"
        },
        {
         "0": 106419.71609934483,
         "_deepnote_index_column": "2019-09-21 21:00:00+01:00"
        },
        {
         "0": 106182.59960450955,
         "_deepnote_index_column": "2019-09-21 22:00:00+01:00"
        }
       ],
       "rows_bottom": [
        {
         "0": 547652.1438642229,
         "_deepnote_index_column": "2021-07-21 05:00:00+01:00"
        },
        {
         "0": 545670.7574588528,
         "_deepnote_index_column": "2021-07-21 06:00:00+01:00"
        },
        {
         "0": 548484.2329633667,
         "_deepnote_index_column": "2021-07-21 07:00:00+01:00"
        },
        {
         "0": 549605.0950329506,
         "_deepnote_index_column": "2021-07-21 08:00:00+01:00"
        },
        {
         "0": 548705.5367551182,
         "_deepnote_index_column": "2021-07-21 09:00:00+01:00"
        },
        {
         "0": 555823.365856871,
         "_deepnote_index_column": "2021-07-21 10:00:00+01:00"
        },
        {
         "0": 556335.376889716,
         "_deepnote_index_column": "2021-07-21 11:00:00+01:00"
        },
        {
         "0": 562457.7356188005,
         "_deepnote_index_column": "2021-07-21 12:00:00+01:00"
        },
        {
         "0": 556916.0079578909,
         "_deepnote_index_column": "2021-07-21 13:00:00+01:00"
        },
        {
         "0": 559203.4424397966,
         "_deepnote_index_column": "2021-07-21 14:00:00+01:00"
        },
        {
         "0": 565791.8055871301,
         "_deepnote_index_column": "2021-07-21 15:00:00+01:00"
        },
        {
         "0": 571242.6596872665,
         "_deepnote_index_column": "2021-07-21 16:00:00+01:00"
        },
        {
         "0": 563498.1929027428,
         "_deepnote_index_column": "2021-07-21 17:00:00+01:00"
        },
        {
         "0": 560377.1931476545,
         "_deepnote_index_column": "2021-07-21 18:00:00+01:00"
        },
        {
         "0": 552775.9224112338,
         "_deepnote_index_column": "2021-07-21 19:00:00+01:00"
        },
        {
         "0": 552338.6718750471,
         "_deepnote_index_column": "2021-07-21 20:00:00+01:00"
        },
        {
         "0": 552342.5248170214,
         "_deepnote_index_column": "2021-07-21 21:00:00+01:00"
        },
        {
         "0": 549568.3482175387,
         "_deepnote_index_column": "2021-07-21 22:00:00+01:00"
        },
        {
         "0": 556429.9708506905,
         "_deepnote_index_column": "2021-07-21 23:00:00+01:00"
        },
        {
         "0": 558267.1236375789,
         "_deepnote_index_column": "2021-07-22 00:00:00+01:00"
        },
        {
         "0": 559127.0886106851,
         "_deepnote_index_column": "2021-07-22 01:00:00+01:00"
        },
        {
         "0": 554606.595250256,
         "_deepnote_index_column": "2021-07-22 02:00:00+01:00"
        },
        {
         "0": 551056.2259766561,
         "_deepnote_index_column": "2021-07-22 03:00:00+01:00"
        },
        {
         "0": 553931.454736104,
         "_deepnote_index_column": "2021-07-22 04:00:00+01:00"
        },
        {
         "0": 562737.061729071,
         "_deepnote_index_column": "2021-07-22 05:00:00+01:00"
        },
        {
         "0": 557728.4122960661,
         "_deepnote_index_column": "2021-07-22 06:00:00+01:00"
        },
        {
         "0": 573716.6036642347,
         "_deepnote_index_column": "2021-07-22 07:00:00+01:00"
        },
        {
         "0": 579854.632119011,
         "_deepnote_index_column": "2021-07-22 08:00:00+01:00"
        },
        {
         "0": 578906.2280261953,
         "_deepnote_index_column": "2021-07-22 09:00:00+01:00"
        },
        {
         "0": 572785.9143546598,
         "_deepnote_index_column": "2021-07-22 10:00:00+01:00"
        },
        {
         "0": 573880.020321375,
         "_deepnote_index_column": "2021-07-22 11:00:00+01:00"
        },
        {
         "0": 572200.0055502439,
         "_deepnote_index_column": "2021-07-22 12:00:00+01:00"
        },
        {
         "0": 574979.0764540884,
         "_deepnote_index_column": "2021-07-22 13:00:00+01:00"
        },
        {
         "0": 577200.9256600853,
         "_deepnote_index_column": "2021-07-22 14:00:00+01:00"
        },
        {
         "0": 583570.3579264949,
         "_deepnote_index_column": "2021-07-22 15:00:00+01:00"
        },
        {
         "0": 590583.788897107,
         "_deepnote_index_column": "2021-07-22 16:00:00+01:00"
        },
        {
         "0": 591689.8826152155,
         "_deepnote_index_column": "2021-07-22 17:00:00+01:00"
        },
        {
         "0": 604586.7637728637,
         "_deepnote_index_column": "2021-07-22 18:00:00+01:00"
        },
        {
         "0": 597821.3712721645,
         "_deepnote_index_column": "2021-07-22 19:00:00+01:00"
        },
        {
         "0": 599244.2276852588,
         "_deepnote_index_column": "2021-07-22 20:00:00+01:00"
        },
        {
         "0": 596477.4161024418,
         "_deepnote_index_column": "2021-07-22 21:00:00+01:00"
        },
        {
         "0": 593326.9936186188,
         "_deepnote_index_column": "2021-07-22 22:00:00+01:00"
        },
        {
         "0": 593259.5863348278,
         "_deepnote_index_column": "2021-07-22 23:00:00+01:00"
        },
        {
         "0": 594786.6067566222,
         "_deepnote_index_column": "2021-07-23 00:00:00+01:00"
        },
        {
         "0": 598428.0966906562,
         "_deepnote_index_column": "2021-07-23 01:00:00+01:00"
        },
        {
         "0": 603604.1499574592,
         "_deepnote_index_column": "2021-07-23 02:00:00+01:00"
        },
        {
         "0": 605690.842400712,
         "_deepnote_index_column": "2021-07-23 03:00:00+01:00"
        },
        {
         "0": 604032.185694415,
         "_deepnote_index_column": "2021-07-23 04:00:00+01:00"
        },
        {
         "0": 609358.5618110417,
         "_deepnote_index_column": "2021-07-23 05:00:00+01:00"
        },
        {
         "0": 611575.1675823728,
         "_deepnote_index_column": "2021-07-23 06:00:00+01:00"
        },
        {
         "0": 615376.3462872127,
         "_deepnote_index_column": "2021-07-23 07:00:00+01:00"
        },
        {
         "0": 612769.0464623226,
         "_deepnote_index_column": "2021-07-23 08:00:00+01:00"
        },
        {
         "0": 604376.3595637339,
         "_deepnote_index_column": "2021-07-23 09:00:00+01:00"
        },
        {
         "0": 606252.0480915208,
         "_deepnote_index_column": "2021-07-23 10:00:00+01:00"
        },
        {
         "0": 604952.3958882573,
         "_deepnote_index_column": "2021-07-23 11:00:00+01:00"
        },
        {
         "0": 605315.4245021867,
         "_deepnote_index_column": "2021-07-23 12:00:00+01:00"
        },
        {
         "0": 609242.5176605682,
         "_deepnote_index_column": "2021-07-23 13:00:00+01:00"
        },
        {
         "0": 612082.7832250965,
         "_deepnote_index_column": "2021-07-23 14:00:00+01:00"
        },
        {
         "0": 611035.8716893316,
         "_deepnote_index_column": "2021-07-23 15:00:00+01:00"
        },
        {
         "0": 601376.6128680359,
         "_deepnote_index_column": "2021-07-23 16:00:00+01:00"
        },
        {
         "0": 592380.6686022519,
         "_deepnote_index_column": "2021-07-23 17:00:00+01:00"
        },
        {
         "0": 593783.0405696785,
         "_deepnote_index_column": "2021-07-23 18:00:00+01:00"
        },
        {
         "0": 592212.4596479833,
         "_deepnote_index_column": "2021-07-23 19:00:00+01:00"
        },
        {
         "0": 595603.269151513,
         "_deepnote_index_column": "2021-07-23 20:00:00+01:00"
        },
        {
         "0": 599241.8431280853,
         "_deepnote_index_column": "2021-07-23 21:00:00+01:00"
        },
        {
         "0": 604552.2960702662,
         "_deepnote_index_column": "2021-07-23 22:00:00+01:00"
        },
        {
         "0": 610638.5839061035,
         "_deepnote_index_column": "2021-07-23 23:00:00+01:00"
        },
        {
         "0": 620538.9025494598,
         "_deepnote_index_column": "2021-07-24 00:00:00+01:00"
        },
        {
         "0": 623490.8271287981,
         "_deepnote_index_column": "2021-07-24 01:00:00+01:00"
        },
        {
         "0": 623401.8923172867,
         "_deepnote_index_column": "2021-07-24 02:00:00+01:00"
        },
        {
         "0": 627446.5673515677,
         "_deepnote_index_column": "2021-07-24 03:00:00+01:00"
        },
        {
         "0": 625218.0714446191,
         "_deepnote_index_column": "2021-07-24 04:00:00+01:00"
        },
        {
         "0": 624594.7862191391,
         "_deepnote_index_column": "2021-07-24 05:00:00+01:00"
        },
        {
         "0": 624615.3744845501,
         "_deepnote_index_column": "2021-07-24 06:00:00+01:00"
        },
        {
         "0": 627688.1118225509,
         "_deepnote_index_column": "2021-07-24 07:00:00+01:00"
        },
        {
         "0": 627667.5848317392,
         "_deepnote_index_column": "2021-07-24 08:00:00+01:00"
        },
        {
         "0": 620341.1648007756,
         "_deepnote_index_column": "2021-07-24 09:00:00+01:00"
        },
        {
         "0": 624365.9255902393,
         "_deepnote_index_column": "2021-07-24 10:00:00+01:00"
        },
        {
         "0": 624812.3723217422,
         "_deepnote_index_column": "2021-07-24 11:00:00+01:00"
        },
        {
         "0": 623404.9560472585,
         "_deepnote_index_column": "2021-07-24 12:00:00+01:00"
        },
        {
         "0": 625404.530050708,
         "_deepnote_index_column": "2021-07-24 13:00:00+01:00"
        },
        {
         "0": 623141.1688966793,
         "_deepnote_index_column": "2021-07-24 14:00:00+01:00"
        },
        {
         "0": 622611.8789067367,
         "_deepnote_index_column": "2021-07-24 15:00:00+01:00"
        },
        {
         "0": 624547.9724251687,
         "_deepnote_index_column": "2021-07-24 16:00:00+01:00"
        },
        {
         "0": 637221.7041998588,
         "_deepnote_index_column": "2021-07-24 17:00:00+01:00"
        },
        {
         "0": 640750.7534798718,
         "_deepnote_index_column": "2021-07-24 18:00:00+01:00"
        },
        {
         "0": 636024.3577232511,
         "_deepnote_index_column": "2021-07-24 19:00:00+01:00"
        },
        {
         "0": 628003.7660436605,
         "_deepnote_index_column": "2021-07-24 20:00:00+01:00"
        },
        {
         "0": 625708.5660593383,
         "_deepnote_index_column": "2021-07-24 21:00:00+01:00"
        },
        {
         "0": 631286.0662075,
         "_deepnote_index_column": "2021-07-24 22:00:00+01:00"
        },
        {
         "0": 630662.0964668572,
         "_deepnote_index_column": "2021-07-24 23:00:00+01:00"
        },
        {
         "0": 633895.0787959681,
         "_deepnote_index_column": "2021-07-25 00:00:00+01:00"
        },
        {
         "0": 624743.2747715602,
         "_deepnote_index_column": "2021-07-25 01:00:00+01:00"
        },
        {
         "0": 622729.4218820905,
         "_deepnote_index_column": "2021-07-25 02:00:00+01:00"
        },
        {
         "0": 628186.6013832133,
         "_deepnote_index_column": "2021-07-25 03:00:00+01:00"
        },
        {
         "0": 625887.4981029264,
         "_deepnote_index_column": "2021-07-25 04:00:00+01:00"
        },
        {
         "0": 622447.6410876864,
         "_deepnote_index_column": "2021-07-25 05:00:00+01:00"
        },
        {
         "0": 622245.1114374679,
         "_deepnote_index_column": "2021-07-25 06:00:00+01:00"
        },
        {
         "0": 622661.752615028,
         "_deepnote_index_column": "2021-07-25 07:00:00+01:00"
        },
        {
         "0": 626201.2723114353,
         "_deepnote_index_column": "2021-07-25 08:00:00+01:00"
        },
        {
         "0": 622540.9701821746,
         "_deepnote_index_column": "2021-07-25 09:00:00+01:00"
        },
        {
         "0": 622884.0143521968,
         "_deepnote_index_column": "2021-07-25 10:00:00+01:00"
        },
        {
         "0": 617233.5903105309,
         "_deepnote_index_column": "2021-07-25 11:00:00+01:00"
        },
        {
         "0": 618467.4585426493,
         "_deepnote_index_column": "2021-07-25 12:00:00+01:00"
        },
        {
         "0": 616309.6751709407,
         "_deepnote_index_column": "2021-07-25 13:00:00+01:00"
        },
        {
         "0": 612207.1169189485,
         "_deepnote_index_column": "2021-07-25 14:00:00+01:00"
        },
        {
         "0": 613551.6564213528,
         "_deepnote_index_column": "2021-07-25 15:00:00+01:00"
        },
        {
         "0": 615102.827749804,
         "_deepnote_index_column": "2021-07-25 16:00:00+01:00"
        },
        {
         "0": 612652.171547375,
         "_deepnote_index_column": "2021-07-25 17:00:00+01:00"
        },
        {
         "0": 616040.5348837202,
         "_deepnote_index_column": "2021-07-25 18:00:00+01:00"
        },
        {
         "0": 617579.3963055889,
         "_deepnote_index_column": "2021-07-25 19:00:00+01:00"
        },
        {
         "0": 618496.5458955123,
         "_deepnote_index_column": "2021-07-25 20:00:00+01:00"
        },
        {
         "0": 619672.2650731996,
         "_deepnote_index_column": "2021-07-25 21:00:00+01:00"
        },
        {
         "0": 621319.9460692571,
         "_deepnote_index_column": "2021-07-25 22:00:00+01:00"
        },
        {
         "0": 621683.7038087676,
         "_deepnote_index_column": "2021-07-25 23:00:00+01:00"
        },
        {
         "0": 626875.7587231324,
         "_deepnote_index_column": "2021-07-26 00:00:00+01:00"
        },
        {
         "0": 639345.4531154791,
         "_deepnote_index_column": "2021-07-26 01:00:00+01:00"
        },
        {
         "0": 605750.3800132069,
         "_deepnote_index_column": "2021-07-26 02:00:00+01:00"
        },
        {
         "0": 605976.6380437363,
         "_deepnote_index_column": "2021-07-26 03:00:00+01:00"
        },
        {
         "0": 610354.63941064,
         "_deepnote_index_column": "2021-07-26 04:00:00+01:00"
        },
        {
         "0": 616739.4535469789,
         "_deepnote_index_column": "2021-07-26 05:00:00+01:00"
        },
        {
         "0": 620568.7001465308,
         "_deepnote_index_column": "2021-07-26 06:00:00+01:00"
        },
        {
         "0": 618082.4688534706,
         "_deepnote_index_column": "2021-07-26 07:00:00+01:00"
        },
        {
         "0": 609790.9080146431,
         "_deepnote_index_column": "2021-07-26 08:00:00+01:00"
        },
        {
         "0": 608779.9855811056,
         "_deepnote_index_column": "2021-07-26 09:00:00+01:00"
        },
        {
         "0": 610599.7014304682,
         "_deepnote_index_column": "2021-07-26 10:00:00+01:00"
        },
        {
         "0": 615439.1493666229,
         "_deepnote_index_column": "2021-07-26 11:00:00+01:00"
        },
        {
         "0": 614932.2736904821,
         "_deepnote_index_column": "2021-07-26 12:00:00+01:00"
        },
        {
         "0": 613800.5397858748,
         "_deepnote_index_column": "2021-07-26 13:00:00+01:00"
        },
        {
         "0": 608109.1435557995,
         "_deepnote_index_column": "2021-07-26 14:00:00+01:00"
        },
        {
         "0": 605930.9315918715,
         "_deepnote_index_column": "2021-07-26 15:00:00+01:00"
        },
        {
         "0": 609732.1663489578,
         "_deepnote_index_column": "2021-07-26 16:00:00+01:00"
        },
        {
         "0": 613861.5002113595,
         "_deepnote_index_column": "2021-07-26 17:00:00+01:00"
        },
        {
         "0": 617129.7333956687,
         "_deepnote_index_column": "2021-07-26 18:00:00+01:00"
        },
        {
         "0": 616221.5950098317,
         "_deepnote_index_column": "2021-07-26 19:00:00+01:00"
        },
        {
         "0": 620610.5237687468,
         "_deepnote_index_column": "2021-07-26 20:00:00+01:00"
        },
        {
         "0": 587530.9229835978,
         "_deepnote_index_column": "2021-07-26 21:00:00+01:00"
        },
        {
         "0": 582537.2712413946,
         "_deepnote_index_column": "2021-07-26 22:00:00+01:00"
        },
        {
         "0": 583069.0524962822,
         "_deepnote_index_column": "2021-07-26 23:00:00+01:00"
        },
        {
         "0": 582209.2276050741,
         "_deepnote_index_column": "2021-07-27 00:00:00+01:00"
        },
        {
         "0": 584202.1176567689,
         "_deepnote_index_column": "2021-07-27 01:00:00+01:00"
        },
        {
         "0": 597260.7948622954,
         "_deepnote_index_column": "2021-07-27 02:00:00+01:00"
        },
        {
         "0": 601112.2434930134,
         "_deepnote_index_column": "2021-07-27 03:00:00+01:00"
        },
        {
         "0": 603167.6100820802,
         "_deepnote_index_column": "2021-07-27 04:00:00+01:00"
        },
        {
         "0": 606460.5238342601,
         "_deepnote_index_column": "2021-07-27 05:00:00+01:00"
        },
        {
         "0": 609087.4765374734,
         "_deepnote_index_column": "2021-07-27 06:00:00+01:00"
        },
        {
         "0": 607661.3535211952,
         "_deepnote_index_column": "2021-07-27 07:00:00+01:00"
        },
        {
         "0": 610428.9695415187,
         "_deepnote_index_column": "2021-07-27 08:00:00+01:00"
        },
        {
         "0": 611249.5152255776,
         "_deepnote_index_column": "2021-07-27 09:00:00+01:00"
        },
        {
         "0": 615670.0557343037,
         "_deepnote_index_column": "2021-07-27 10:00:00+01:00"
        },
        {
         "0": 617957.15426228,
         "_deepnote_index_column": "2021-07-27 11:00:00+01:00"
        },
        {
         "0": 623755.7312347544,
         "_deepnote_index_column": "2021-07-27 12:00:00+01:00"
        },
        {
         "0": 615409.0310221399,
         "_deepnote_index_column": "2021-07-27 13:00:00+01:00"
        },
        {
         "0": 614500.370708999,
         "_deepnote_index_column": "2021-07-27 14:00:00+01:00"
        },
        {
         "0": 611178.3108631,
         "_deepnote_index_column": "2021-07-27 15:00:00+01:00"
        },
        {
         "0": 610265.245608727,
         "_deepnote_index_column": "2021-07-27 16:00:00+01:00"
        },
        {
         "0": 624779.0751797551,
         "_deepnote_index_column": "2021-07-27 17:00:00+01:00"
        },
        {
         "0": 626858.7698623133,
         "_deepnote_index_column": "2021-07-27 18:00:00+01:00"
        },
        {
         "0": 628077.0924969397,
         "_deepnote_index_column": "2021-07-27 19:00:00+01:00"
        },
        {
         "0": 628269.5153368551,
         "_deepnote_index_column": "2021-07-27 20:00:00+01:00"
        },
        {
         "0": 632663.792046725,
         "_deepnote_index_column": "2021-07-27 21:00:00+01:00"
        },
        {
         "0": 634192.6326714028,
         "_deepnote_index_column": "2021-07-27 22:00:00+01:00"
        },
        {
         "0": 627684.902886007,
         "_deepnote_index_column": "2021-07-27 23:00:00+01:00"
        },
        {
         "0": 627489.6004169786,
         "_deepnote_index_column": "2021-07-28 00:00:00+01:00"
        },
        {
         "0": 631790.5483727684,
         "_deepnote_index_column": "2021-07-28 01:00:00+01:00"
        },
        {
         "0": 637074.0895413778,
         "_deepnote_index_column": "2021-07-28 02:00:00+01:00"
        },
        {
         "0": 636935.2672486186,
         "_deepnote_index_column": "2021-07-28 03:00:00+01:00"
        },
        {
         "0": 633146.5951164025,
         "_deepnote_index_column": "2021-07-28 04:00:00+01:00"
        },
        {
         "0": 630685.7346852252,
         "_deepnote_index_column": "2021-07-28 05:00:00+01:00"
        },
        {
         "0": 633883.6473741448,
         "_deepnote_index_column": "2021-07-28 06:00:00+01:00"
        },
        {
         "0": 626324.7735334099,
         "_deepnote_index_column": "2021-07-28 07:00:00+01:00"
        },
        {
         "0": 717474.2556759443,
         "_deepnote_index_column": "2021-07-28 08:00:00+01:00"
        },
        {
         "0": 718749.773725177,
         "_deepnote_index_column": "2021-07-28 09:00:00+01:00"
        },
        {
         "0": 730770.4492779586,
         "_deepnote_index_column": "2021-07-28 10:00:00+01:00"
        },
        {
         "0": 720912.9026380994,
         "_deepnote_index_column": "2021-07-28 11:00:00+01:00"
        },
        {
         "0": 723449.3532562677,
         "_deepnote_index_column": "2021-07-28 12:00:00+01:00"
        },
        {
         "0": 706751.8256955642,
         "_deepnote_index_column": "2021-07-28 13:00:00+01:00"
        },
        {
         "0": 699670.0475412146,
         "_deepnote_index_column": "2021-07-28 14:00:00+01:00"
        },
        {
         "0": 698556.2808408869,
         "_deepnote_index_column": "2021-07-28 15:00:00+01:00"
        },
        {
         "0": 703282.0708142814,
         "_deepnote_index_column": "2021-07-28 16:00:00+01:00"
        },
        {
         "0": 707305.7869356063,
         "_deepnote_index_column": "2021-07-28 17:00:00+01:00"
        },
        {
         "0": 686566.9515603199,
         "_deepnote_index_column": "2021-07-28 18:00:00+01:00"
        },
        {
         "0": 707960.5167004514,
         "_deepnote_index_column": "2021-07-28 19:00:00+01:00"
        },
        {
         "0": 704710.3037897267,
         "_deepnote_index_column": "2021-07-28 20:00:00+01:00"
        },
        {
         "0": 701015.457880281,
         "_deepnote_index_column": "2021-07-28 21:00:00+01:00"
        },
        {
         "0": 702123.0261651991,
         "_deepnote_index_column": "2021-07-28 22:00:00+01:00"
        },
        {
         "0": 696223.1972806837,
         "_deepnote_index_column": "2021-07-28 23:00:00+01:00"
        },
        {
         "0": 718481.6479843124,
         "_deepnote_index_column": "2021-07-29 00:00:00+01:00"
        },
        {
         "0": 702239.6154074287,
         "_deepnote_index_column": "2021-07-29 01:00:00+01:00"
        },
        {
         "0": 695817.9389779461,
         "_deepnote_index_column": "2021-07-29 02:00:00+01:00"
        },
        {
         "0": 698897.7249811684,
         "_deepnote_index_column": "2021-07-29 03:00:00+01:00"
        },
        {
         "0": 695073.0665432859,
         "_deepnote_index_column": "2021-07-29 04:00:00+01:00"
        },
        {
         "0": 699772.3509117381,
         "_deepnote_index_column": "2021-07-29 05:00:00+01:00"
        },
        {
         "0": 706434.8800542825,
         "_deepnote_index_column": "2021-07-29 06:00:00+01:00"
        },
        {
         "0": 698446.8345345103,
         "_deepnote_index_column": "2021-07-29 07:00:00+01:00"
        },
        {
         "0": 698105.2132966454,
         "_deepnote_index_column": "2021-07-29 08:00:00+01:00"
        },
        {
         "0": 697139.9134035114,
         "_deepnote_index_column": "2021-07-29 09:00:00+01:00"
        },
        {
         "0": 703587.8002752978,
         "_deepnote_index_column": "2021-07-29 10:00:00+01:00"
        },
        {
         "0": 700934.5242847891,
         "_deepnote_index_column": "2021-07-29 11:00:00+01:00"
        },
        {
         "0": 695284.8162201862,
         "_deepnote_index_column": "2021-07-29 12:00:00+01:00"
        },
        {
         "0": 696388.3702932198,
         "_deepnote_index_column": "2021-07-29 13:00:00+01:00"
        },
        {
         "0": 701738.6653772714,
         "_deepnote_index_column": "2021-07-29 14:00:00+01:00"
        },
        {
         "0": 701558.4981026967,
         "_deepnote_index_column": "2021-07-29 15:00:00+01:00"
        },
        {
         "0": 701028.9172965992,
         "_deepnote_index_column": "2021-07-29 16:00:00+01:00"
        },
        {
         "0": 706530.0995214807,
         "_deepnote_index_column": "2021-07-29 17:00:00+01:00"
        },
        {
         "0": 709227.205921453,
         "_deepnote_index_column": "2021-07-29 18:00:00+01:00"
        },
        {
         "0": 708763.8459563022,
         "_deepnote_index_column": "2021-07-29 19:00:00+01:00"
        },
        {
         "0": 718984.9899112675,
         "_deepnote_index_column": "2021-07-29 20:00:00+01:00"
        },
        {
         "0": 721516.8890245839,
         "_deepnote_index_column": "2021-07-29 21:00:00+01:00"
        },
        {
         "0": 718716.8803727417,
         "_deepnote_index_column": "2021-07-29 22:00:00+01:00"
        },
        {
         "0": 691995.0964785102,
         "_deepnote_index_column": "2021-07-29 23:00:00+01:00"
        },
        {
         "0": 685387.5771845939,
         "_deepnote_index_column": "2021-07-30 00:00:00+01:00"
        },
        {
         "0": 687862.7424530339,
         "_deepnote_index_column": "2021-07-30 01:00:00+01:00"
        },
        {
         "0": 689703.9473402809,
         "_deepnote_index_column": "2021-07-30 02:00:00+01:00"
        },
        {
         "0": 689315.149618562,
         "_deepnote_index_column": "2021-07-30 03:00:00+01:00"
        },
        {
         "0": 692999.2524299112,
         "_deepnote_index_column": "2021-07-30 04:00:00+01:00"
        },
        {
         "0": 685814.7686130649,
         "_deepnote_index_column": "2021-07-30 05:00:00+01:00"
        },
        {
         "0": 687359.6920506244,
         "_deepnote_index_column": "2021-07-30 06:00:00+01:00"
        },
        {
         "0": 687702.6139349723,
         "_deepnote_index_column": "2021-07-30 07:00:00+01:00"
        },
        {
         "0": 684105.4021441673,
         "_deepnote_index_column": "2021-07-30 08:00:00+01:00"
        },
        {
         "0": 662408.9163863969,
         "_deepnote_index_column": "2021-07-30 09:00:00+01:00"
        },
        {
         "0": 664963.818229315,
         "_deepnote_index_column": "2021-07-30 10:00:00+01:00"
        },
        {
         "0": 663807.9109698429,
         "_deepnote_index_column": "2021-07-30 11:00:00+01:00"
        },
        {
         "0": 661011.6694538982,
         "_deepnote_index_column": "2021-07-30 12:00:00+01:00"
        },
        {
         "0": 660954.106200816,
         "_deepnote_index_column": "2021-07-30 13:00:00+01:00"
        },
        {
         "0": 659275.0505530386,
         "_deepnote_index_column": "2021-07-30 14:00:00+01:00"
        },
        {
         "0": 663030.9162814182,
         "_deepnote_index_column": "2021-07-30 15:00:00+01:00"
        },
        {
         "0": 664731.872180131,
         "_deepnote_index_column": "2021-07-30 16:00:00+01:00"
        },
        {
         "0": 663774.5028653841,
         "_deepnote_index_column": "2021-07-30 17:00:00+01:00"
        },
        {
         "0": 677872.7541355642,
         "_deepnote_index_column": "2021-07-30 18:00:00+01:00"
        },
        {
         "0": 678629.3174323442,
         "_deepnote_index_column": "2021-07-30 19:00:00+01:00"
        },
        {
         "0": 675668.7735955542,
         "_deepnote_index_column": "2021-07-30 20:00:00+01:00"
        },
        {
         "0": 686570.4698217825,
         "_deepnote_index_column": "2021-07-30 21:00:00+01:00"
        },
        {
         "0": 690724.8600005993,
         "_deepnote_index_column": "2021-07-30 22:00:00+01:00"
        },
        {
         "0": 696373.8832574934,
         "_deepnote_index_column": "2021-07-30 23:00:00+01:00"
        },
        {
         "0": 695034.0448159724,
         "_deepnote_index_column": "2021-07-31 00:00:00+01:00"
        },
        {
         "0": 697152.5042732937,
         "_deepnote_index_column": "2021-07-31 01:00:00+01:00"
        },
        {
         "0": 695165.2470839149,
         "_deepnote_index_column": "2021-07-31 02:00:00+01:00"
        },
        {
         "0": 694738.9223341771,
         "_deepnote_index_column": "2021-07-31 03:00:00+01:00"
        },
        {
         "0": 693579.5283216148,
         "_deepnote_index_column": "2021-07-31 04:00:00+01:00"
        },
        {
         "0": 693705.2225178553,
         "_deepnote_index_column": "2021-07-31 05:00:00+01:00"
        },
        {
         "0": 686874.2221544207,
         "_deepnote_index_column": "2021-07-31 06:00:00+01:00"
        },
        {
         "0": 686530.0227537602,
         "_deepnote_index_column": "2021-07-31 07:00:00+01:00"
        },
        {
         "0": 688002.8811268854,
         "_deepnote_index_column": "2021-07-31 08:00:00+01:00"
        },
        {
         "0": 691558.0109262494,
         "_deepnote_index_column": "2021-07-31 09:00:00+01:00"
        },
        {
         "0": 697349.0873523392,
         "_deepnote_index_column": "2021-07-31 10:00:00+01:00"
        },
        {
         "0": 697562.6352922271,
         "_deepnote_index_column": "2021-07-31 11:00:00+01:00"
        },
        {
         "0": 695908.5613601049,
         "_deepnote_index_column": "2021-07-31 12:00:00+01:00"
        },
        {
         "0": 694407.3364177143,
         "_deepnote_index_column": "2021-07-31 13:00:00+01:00"
        },
        {
         "0": 688756.2751742903,
         "_deepnote_index_column": "2021-07-31 14:00:00+01:00"
        },
        {
         "0": 685694.3931958439,
         "_deepnote_index_column": "2021-07-31 15:00:00+01:00"
        },
        {
         "0": 691780.922588031,
         "_deepnote_index_column": "2021-07-31 16:00:00+01:00"
        },
        {
         "0": 688183.4907979954,
         "_deepnote_index_column": "2021-07-31 17:00:00+01:00"
        },
        {
         "0": 683822.1996243208,
         "_deepnote_index_column": "2021-07-31 18:00:00+01:00"
        },
        {
         "0": 689667.5856373927,
         "_deepnote_index_column": "2021-07-31 19:00:00+01:00"
        },
        {
         "0": 689658.4973190844,
         "_deepnote_index_column": "2021-07-31 20:00:00+01:00"
        },
        {
         "0": 691828.8428118387,
         "_deepnote_index_column": "2021-07-31 21:00:00+01:00"
        },
        {
         "0": 698146.8764576624,
         "_deepnote_index_column": "2021-07-31 22:00:00+01:00"
        },
        {
         "0": 695879.5338222351,
         "_deepnote_index_column": "2021-07-31 23:00:00+01:00"
        },
        {
         "0": 691030.1173343259,
         "_deepnote_index_column": "2021-08-01 00:00:00+01:00"
        },
        {
         "0": 703261.8370823269,
         "_deepnote_index_column": "2021-08-01 01:00:00+01:00"
        },
        {
         "0": 707526.5717590644,
         "_deepnote_index_column": "2021-08-01 02:00:00+01:00"
        },
        {
         "0": 707091.2536148105,
         "_deepnote_index_column": "2021-08-01 03:00:00+01:00"
        },
        {
         "0": 724332.2048969517,
         "_deepnote_index_column": "2021-08-01 04:00:00+01:00"
        },
        {
         "0": 716928.1167574514,
         "_deepnote_index_column": "2021-08-01 05:00:00+01:00"
        },
        {
         "0": 718050.7001122867,
         "_deepnote_index_column": "2021-08-01 06:00:00+01:00"
        },
        {
         "0": 721435.8450616552,
         "_deepnote_index_column": "2021-08-01 07:00:00+01:00"
        },
        {
         "0": 717535.0421312155,
         "_deepnote_index_column": "2021-08-01 08:00:00+01:00"
        },
        {
         "0": 716613.3362448416,
         "_deepnote_index_column": "2021-08-01 09:00:00+01:00"
        },
        {
         "0": 718873.1101975698,
         "_deepnote_index_column": "2021-08-01 10:00:00+01:00"
        },
        {
         "0": 709185.4416443274,
         "_deepnote_index_column": "2021-08-01 11:00:00+01:00"
        },
        {
         "0": 710242.1251468948,
         "_deepnote_index_column": "2021-08-01 12:00:00+01:00"
        },
        {
         "0": 711314.7539605863,
         "_deepnote_index_column": "2021-08-01 13:00:00+01:00"
        },
        {
         "0": 706536.9031654872,
         "_deepnote_index_column": "2021-08-01 14:00:00+01:00"
        },
        {
         "0": 705632.8151753205,
         "_deepnote_index_column": "2021-08-01 15:00:00+01:00"
        },
        {
         "0": 708077.6885438944,
         "_deepnote_index_column": "2021-08-01 16:00:00+01:00"
        },
        {
         "0": 710614.9443618831,
         "_deepnote_index_column": "2021-08-01 17:00:00+01:00"
        },
        {
         "0": 702575.5526550451,
         "_deepnote_index_column": "2021-08-01 18:00:00+01:00"
        },
        {
         "0": 705946.9824067334,
         "_deepnote_index_column": "2021-08-01 19:00:00+01:00"
        },
        {
         "0": 702058.3893473991,
         "_deepnote_index_column": "2021-08-01 20:00:00+01:00"
        },
        {
         "0": 705025.0284176292,
         "_deepnote_index_column": "2021-08-01 21:00:00+01:00"
        },
        {
         "0": 709382.183053547,
         "_deepnote_index_column": "2021-08-01 22:00:00+01:00"
        },
        {
         "0": 695079.3800414299,
         "_deepnote_index_column": "2021-08-01 23:00:00+01:00"
        },
        {
         "0": 710234.5618914985,
         "_deepnote_index_column": "2021-08-02 00:00:00+01:00"
        },
        {
         "0": 703852.6320874154,
         "_deepnote_index_column": "2021-08-02 01:00:00+01:00"
        },
        {
         "0": 707251.7287511331,
         "_deepnote_index_column": "2021-08-02 02:00:00+01:00"
        },
        {
         "0": 715867.4739463619,
         "_deepnote_index_column": "2021-08-02 03:00:00+01:00"
        },
        {
         "0": 715515.8834753211,
         "_deepnote_index_column": "2021-08-02 04:00:00+01:00"
        },
        {
         "0": 716745.8378002042,
         "_deepnote_index_column": "2021-08-02 05:00:00+01:00"
        },
        {
         "0": 719014.7597535602,
         "_deepnote_index_column": "2021-08-02 06:00:00+01:00"
        },
        {
         "0": 750538.5864889527,
         "_deepnote_index_column": "2021-08-02 07:00:00+01:00"
        },
        {
         "0": 759717.1446939701,
         "_deepnote_index_column": "2021-08-02 08:00:00+01:00"
        },
        {
         "0": 746946.2557750306,
         "_deepnote_index_column": "2021-08-02 09:00:00+01:00"
        },
        {
         "0": 753772.5239185755,
         "_deepnote_index_column": "2021-08-02 10:00:00+01:00"
        },
        {
         "0": 754815.7040486124,
         "_deepnote_index_column": "2021-08-02 11:00:00+01:00"
        },
        {
         "0": 757113.7959310921,
         "_deepnote_index_column": "2021-08-02 12:00:00+01:00"
        },
        {
         "0": 751471.9149210335,
         "_deepnote_index_column": "2021-08-02 13:00:00+01:00"
        },
        {
         "0": 746764.7457155508,
         "_deepnote_index_column": "2021-08-02 14:00:00+01:00"
        },
        {
         "0": 749414.740976719,
         "_deepnote_index_column": "2021-08-02 15:00:00+01:00"
        },
        {
         "0": 747895.6399513611,
         "_deepnote_index_column": "2021-08-02 16:00:00+01:00"
        },
        {
         "0": 748326.4200459112,
         "_deepnote_index_column": "2021-08-02 17:00:00+01:00"
        },
        {
         "0": 746923.4604216476,
         "_deepnote_index_column": "2021-08-02 18:00:00+01:00"
        },
        {
         "0": 749050.5224929187,
         "_deepnote_index_column": "2021-08-02 19:00:00+01:00"
        },
        {
         "0": 741098.7208073663,
         "_deepnote_index_column": "2021-08-02 20:00:00+01:00"
        },
        {
         "0": 735068.4054753436,
         "_deepnote_index_column": "2021-08-02 21:00:00+01:00"
        },
        {
         "0": 730245.7894320608,
         "_deepnote_index_column": "2021-08-02 22:00:00+01:00"
        },
        {
         "0": 737204.266969858,
         "_deepnote_index_column": "2021-08-02 23:00:00+01:00"
        },
        {
         "0": 730947.7961737091,
         "_deepnote_index_column": "2021-08-03 00:00:00+01:00"
        },
        {
         "0": 728575.0239957209,
         "_deepnote_index_column": "2021-08-03 01:00:00+01:00"
        },
        {
         "0": 718804.6296042559,
         "_deepnote_index_column": "2021-08-03 02:00:00+01:00"
        },
        {
         "0": 721850.7648099773,
         "_deepnote_index_column": "2021-08-03 03:00:00+01:00"
        },
        {
         "0": 715924.4039760458,
         "_deepnote_index_column": "2021-08-03 04:00:00+01:00"
        },
        {
         "0": 710713.7234262077,
         "_deepnote_index_column": "2021-08-03 05:00:00+01:00"
        },
        {
         "0": 710268.9796706474,
         "_deepnote_index_column": "2021-08-03 06:00:00+01:00"
        },
        {
         "0": 712047.4242537417,
         "_deepnote_index_column": "2021-08-03 07:00:00+01:00"
        },
        {
         "0": 708211.6419718215,
         "_deepnote_index_column": "2021-08-03 08:00:00+01:00"
        },
        {
         "0": 706139.8645406722,
         "_deepnote_index_column": "2021-08-03 09:00:00+01:00"
        },
        {
         "0": 708492.3621557245,
         "_deepnote_index_column": "2021-08-03 10:00:00+01:00"
        },
        {
         "0": 709216.2347777482,
         "_deepnote_index_column": "2021-08-03 11:00:00+01:00"
        },
        {
         "0": 703916.145762871,
         "_deepnote_index_column": "2021-08-03 12:00:00+01:00"
        },
        {
         "0": 709188.3572537117,
         "_deepnote_index_column": "2021-08-03 13:00:00+01:00"
        },
        {
         "0": 710878.5721254259,
         "_deepnote_index_column": "2021-08-03 14:00:00+01:00"
        },
        {
         "0": 708152.9400396006,
         "_deepnote_index_column": "2021-08-03 15:00:00+01:00"
        },
        {
         "0": 701661.5436392027,
         "_deepnote_index_column": "2021-08-03 16:00:00+01:00"
        },
        {
         "0": 708547.4099516022,
         "_deepnote_index_column": "2021-08-03 17:00:00+01:00"
        },
        {
         "0": 717564.9343810308,
         "_deepnote_index_column": "2021-08-03 18:00:00+01:00"
        },
        {
         "0": 718007.4205902222,
         "_deepnote_index_column": "2021-08-03 19:00:00+01:00"
        },
        {
         "0": 718622.6934623275,
         "_deepnote_index_column": "2021-08-03 20:00:00+01:00"
        },
        {
         "0": 720328.8559585133,
         "_deepnote_index_column": "2021-08-03 21:00:00+01:00"
        },
        {
         "0": 715691.1240834943,
         "_deepnote_index_column": "2021-08-03 22:00:00+01:00"
        },
        {
         "0": 716064.9230051163,
         "_deepnote_index_column": "2021-08-03 23:00:00+01:00"
        },
        {
         "0": 713797.8978991144,
         "_deepnote_index_column": "2021-08-04 00:00:00+01:00"
        },
        {
         "0": 721057.2245535747,
         "_deepnote_index_column": "2021-08-04 01:00:00+01:00"
        },
        {
         "0": 720047.6750151368,
         "_deepnote_index_column": "2021-08-04 02:00:00+01:00"
        },
        {
         "0": 715147.9428627243,
         "_deepnote_index_column": "2021-08-04 03:00:00+01:00"
        },
        {
         "0": 712444.6300164929,
         "_deepnote_index_column": "2021-08-04 04:00:00+01:00"
        },
        {
         "0": 712694.8240256641,
         "_deepnote_index_column": "2021-08-04 05:00:00+01:00"
        },
        {
         "0": 712525.7401449432,
         "_deepnote_index_column": "2021-08-04 06:00:00+01:00"
        },
        {
         "0": 710684.438766856,
         "_deepnote_index_column": "2021-08-04 07:00:00+01:00"
        },
        {
         "0": 706249.5828399768,
         "_deepnote_index_column": "2021-08-04 08:00:00+01:00"
        },
        {
         "0": 702071.0086581788,
         "_deepnote_index_column": "2021-08-04 09:00:00+01:00"
        },
        {
         "0": 699889.3909059755,
         "_deepnote_index_column": "2021-08-04 10:00:00+01:00"
        },
        {
         "0": 705846.4792288262,
         "_deepnote_index_column": "2021-08-04 11:00:00+01:00"
        },
        {
         "0": 706661.161534453,
         "_deepnote_index_column": "2021-08-04 12:00:00+01:00"
        },
        {
         "0": 723629.8301287934,
         "_deepnote_index_column": "2021-08-04 15:00:00+01:00"
        },
        {
         "0": 719537.9166581875,
         "_deepnote_index_column": "2021-08-04 16:00:00+01:00"
        },
        {
         "0": 728206.4388624197,
         "_deepnote_index_column": "2021-08-04 17:00:00+01:00"
        },
        {
         "0": 734136.427294385,
         "_deepnote_index_column": "2021-08-04 18:00:00+01:00"
        },
        {
         "0": 734977.0679434416,
         "_deepnote_index_column": "2021-08-04 19:00:00+01:00"
        },
        {
         "0": 735319.2623710454,
         "_deepnote_index_column": "2021-08-04 20:00:00+01:00"
        },
        {
         "0": 739171.5138904892,
         "_deepnote_index_column": "2021-08-04 21:00:00+01:00"
        },
        {
         "0": 740067.2775332299,
         "_deepnote_index_column": "2021-08-04 22:00:00+01:00"
        },
        {
         "0": 734421.3393944934,
         "_deepnote_index_column": "2021-08-04 23:00:00+01:00"
        },
        {
         "0": 736796.4266424912,
         "_deepnote_index_column": "2021-08-05 00:00:00+01:00"
        },
        {
         "0": 728562.5869123494,
         "_deepnote_index_column": "2021-08-05 03:00:00+01:00"
        },
        {
         "0": 732434.8122695483,
         "_deepnote_index_column": "2021-08-05 04:00:00+01:00"
        },
        {
         "0": 732436.4917514016,
         "_deepnote_index_column": "2021-08-05 05:00:00+01:00"
        },
        {
         "0": 732201.0643844699,
         "_deepnote_index_column": "2021-08-05 06:00:00+01:00"
        },
        {
         "0": 725579.8271409414,
         "_deepnote_index_column": "2021-08-05 07:00:00+01:00"
        },
        {
         "0": 724352.4857951694,
         "_deepnote_index_column": "2021-08-05 08:00:00+01:00"
        },
        {
         "0": 720556.4969178101,
         "_deepnote_index_column": "2021-08-05 09:00:00+01:00"
        },
        {
         "0": 713621.6164381832,
         "_deepnote_index_column": "2021-08-05 10:00:00+01:00"
        },
        {
         "0": 716233.5106274923,
         "_deepnote_index_column": "2021-08-05 11:00:00+01:00"
        },
        {
         "0": 713514.8493775112,
         "_deepnote_index_column": "2021-08-05 12:00:00+01:00"
        },
        {
         "0": 714009.1092333292,
         "_deepnote_index_column": "2021-08-05 13:00:00+01:00"
        },
        {
         "0": 710747.9942530474,
         "_deepnote_index_column": "2021-08-05 14:00:00+01:00"
        },
        {
         "0": 720580.8663768437,
         "_deepnote_index_column": "2021-08-05 15:00:00+01:00"
        },
        {
         "0": 718537.8700801226,
         "_deepnote_index_column": "2021-08-05 16:00:00+01:00"
        },
        {
         "0": 721920.0647360318,
         "_deepnote_index_column": "2021-08-05 17:00:00+01:00"
        },
        {
         "0": 730521.6029904318,
         "_deepnote_index_column": "2021-08-05 18:00:00+01:00"
        },
        {
         "0": 731122.7153623519,
         "_deepnote_index_column": "2021-08-05 19:00:00+01:00"
        },
        {
         "0": 729124.5318583066,
         "_deepnote_index_column": "2021-08-05 20:00:00+01:00"
        },
        {
         "0": 731604.7312207518,
         "_deepnote_index_column": "2021-08-05 21:00:00+01:00"
        },
        {
         "0": 734152.546365412,
         "_deepnote_index_column": "2021-08-05 22:00:00+01:00"
        },
        {
         "0": 736417.0191846,
         "_deepnote_index_column": "2021-08-05 23:00:00+01:00"
        },
        {
         "0": 733760.5656314781,
         "_deepnote_index_column": "2021-08-06 00:00:00+01:00"
        },
        {
         "0": 729471.9124113792,
         "_deepnote_index_column": "2021-08-06 01:00:00+01:00"
        },
        {
         "0": 734712.0759071272,
         "_deepnote_index_column": "2021-08-06 02:00:00+01:00"
        },
        {
         "0": 730266.5469171804,
         "_deepnote_index_column": "2021-08-06 03:00:00+01:00"
        },
        {
         "0": 729384.5604528739,
         "_deepnote_index_column": "2021-08-06 04:00:00+01:00"
        },
        {
         "0": 729657.9452513357,
         "_deepnote_index_column": "2021-08-06 05:00:00+01:00"
        },
        {
         "0": 733594.0900900812,
         "_deepnote_index_column": "2021-08-06 06:00:00+01:00"
        },
        {
         "0": 736462.3945022946,
         "_deepnote_index_column": "2021-08-06 07:00:00+01:00"
        },
        {
         "0": 735253.7773016801,
         "_deepnote_index_column": "2021-08-06 08:00:00+01:00"
        },
        {
         "0": 736749.4932601121,
         "_deepnote_index_column": "2021-08-06 09:00:00+01:00"
        },
        {
         "0": 732040.8947541756,
         "_deepnote_index_column": "2021-08-06 10:00:00+01:00"
        },
        {
         "0": 731935.8935262386,
         "_deepnote_index_column": "2021-08-06 11:00:00+01:00"
        },
        {
         "0": 727741.270366592,
         "_deepnote_index_column": "2021-08-06 12:00:00+01:00"
        },
        {
         "0": 728132.7144673336,
         "_deepnote_index_column": "2021-08-06 13:00:00+01:00"
        },
        {
         "0": 730678.8600865072,
         "_deepnote_index_column": "2021-08-06 14:00:00+01:00"
        },
        {
         "0": 728336.873584004,
         "_deepnote_index_column": "2021-08-06 15:00:00+01:00"
        },
        {
         "0": 741202.7139924803,
         "_deepnote_index_column": "2021-08-06 16:00:00+01:00"
        },
        {
         "0": 745335.1473277439,
         "_deepnote_index_column": "2021-08-06 17:00:00+01:00"
        },
        {
         "0": 741102.065455991,
         "_deepnote_index_column": "2021-08-06 18:00:00+01:00"
        },
        {
         "0": 738915.2831924582,
         "_deepnote_index_column": "2021-08-06 19:00:00+01:00"
        },
        {
         "0": 740897.2056844435,
         "_deepnote_index_column": "2021-08-06 20:00:00+01:00"
        },
        {
         "0": 740254.9776696991,
         "_deepnote_index_column": "2021-08-06 21:00:00+01:00"
        },
        {
         "0": 731937.0224679033,
         "_deepnote_index_column": "2021-08-06 22:00:00+01:00"
        },
        {
         "0": 736356.1572405533,
         "_deepnote_index_column": "2021-08-06 23:00:00+01:00"
        },
        {
         "0": 738344.68240719,
         "_deepnote_index_column": "2021-08-07 00:00:00+01:00"
        },
        {
         "0": 746601.4449635568,
         "_deepnote_index_column": "2021-08-07 01:00:00+01:00"
        },
        {
         "0": 748371.7871044391,
         "_deepnote_index_column": "2021-08-07 02:00:00+01:00"
        },
        {
         "0": 754476.4314391926,
         "_deepnote_index_column": "2021-08-07 03:00:00+01:00"
        },
        {
         "0": 752372.1826088013,
         "_deepnote_index_column": "2021-08-07 04:00:00+01:00"
        },
        {
         "0": 749281.1457531314,
         "_deepnote_index_column": "2021-08-07 05:00:00+01:00"
        },
        {
         "0": 752411.1092952968,
         "_deepnote_index_column": "2021-08-07 06:00:00+01:00"
        },
        {
         "0": 748817.0153661054,
         "_deepnote_index_column": "2021-08-07 07:00:00+01:00"
        },
        {
         "0": 748523.1892324974,
         "_deepnote_index_column": "2021-08-07 08:00:00+01:00"
        },
        {
         "0": 751952.0206176663,
         "_deepnote_index_column": "2021-08-07 09:00:00+01:00"
        },
        {
         "0": 776440.3066459878,
         "_deepnote_index_column": "2021-08-07 10:00:00+01:00"
        },
        {
         "0": 776742.6333361347,
         "_deepnote_index_column": "2021-08-07 11:00:00+01:00"
        },
        {
         "0": 777546.0824903841,
         "_deepnote_index_column": "2021-08-07 12:00:00+01:00"
        },
        {
         "0": 761664.8151435865,
         "_deepnote_index_column": "2021-08-07 13:00:00+01:00"
        },
        {
         "0": 760832.0537254097,
         "_deepnote_index_column": "2021-08-07 14:00:00+01:00"
        },
        {
         "0": 778131.389776486,
         "_deepnote_index_column": "2021-08-07 15:00:00+01:00"
        },
        {
         "0": 792501.727166883,
         "_deepnote_index_column": "2021-08-07 16:00:00+01:00"
        },
        {
         "0": 788515.4351463432,
         "_deepnote_index_column": "2021-08-07 17:00:00+01:00"
        },
        {
         "0": 779343.510514411,
         "_deepnote_index_column": "2021-08-07 18:00:00+01:00"
        },
        {
         "0": 786170.5126566809,
         "_deepnote_index_column": "2021-08-07 19:00:00+01:00"
        },
        {
         "0": 790574.7975608251,
         "_deepnote_index_column": "2021-08-07 20:00:00+01:00"
        },
        {
         "0": 791329.8228550665,
         "_deepnote_index_column": "2021-08-07 21:00:00+01:00"
        },
        {
         "0": 785541.4714727994,
         "_deepnote_index_column": "2021-08-07 22:00:00+01:00"
        },
        {
         "0": 792125.8266942783,
         "_deepnote_index_column": "2021-08-07 23:00:00+01:00"
        },
        {
         "0": 802858.4535067597,
         "_deepnote_index_column": "2021-08-08 00:00:00+01:00"
        },
        {
         "0": 816773.6300628925,
         "_deepnote_index_column": "2021-08-08 01:00:00+01:00"
        },
        {
         "0": 795733.6387629877,
         "_deepnote_index_column": "2021-08-08 02:00:00+01:00"
        },
        {
         "0": 788553.1893422815,
         "_deepnote_index_column": "2021-08-08 03:00:00+01:00"
        },
        {
         "0": 804355.372201003,
         "_deepnote_index_column": "2021-08-08 04:00:00+01:00"
        },
        {
         "0": 803031.044116764,
         "_deepnote_index_column": "2021-08-08 05:00:00+01:00"
        },
        {
         "0": 808618.1961194335,
         "_deepnote_index_column": "2021-08-08 06:00:00+01:00"
        },
        {
         "0": 814906.7319733574,
         "_deepnote_index_column": "2021-08-08 07:00:00+01:00"
        },
        {
         "0": 821010.8350626501,
         "_deepnote_index_column": "2021-08-08 08:00:00+01:00"
        },
        {
         "0": 810141.5591440664,
         "_deepnote_index_column": "2021-08-08 09:00:00+01:00"
        },
        {
         "0": 811339.7217373868,
         "_deepnote_index_column": "2021-08-08 10:00:00+01:00"
        },
        {
         "0": 801753.5283495757,
         "_deepnote_index_column": "2021-08-08 11:00:00+01:00"
        },
        {
         "0": 798872.0228895994,
         "_deepnote_index_column": "2021-08-08 12:00:00+01:00"
        },
        {
         "0": 811063.5385350621,
         "_deepnote_index_column": "2021-08-08 13:00:00+01:00"
        },
        {
         "0": 806223.8757226866,
         "_deepnote_index_column": "2021-08-08 14:00:00+01:00"
        },
        {
         "0": 786185.626935899,
         "_deepnote_index_column": "2021-08-08 15:00:00+01:00"
        },
        {
         "0": 784902.3658768765,
         "_deepnote_index_column": "2021-08-08 16:00:00+01:00"
        },
        {
         "0": 778429.1100701019,
         "_deepnote_index_column": "2021-08-08 17:00:00+01:00"
        },
        {
         "0": 770939.1953905604,
         "_deepnote_index_column": "2021-08-08 18:00:00+01:00"
        },
        {
         "0": 765447.9033124665,
         "_deepnote_index_column": "2021-08-08 19:00:00+01:00"
        },
        {
         "0": 768044.4884034711,
         "_deepnote_index_column": "2021-08-08 20:00:00+01:00"
        },
        {
         "0": 773255.262190403,
         "_deepnote_index_column": "2021-08-08 21:00:00+01:00"
        },
        {
         "0": 781070.6588277238,
         "_deepnote_index_column": "2021-08-08 22:00:00+01:00"
        },
        {
         "0": 783158.9061029718,
         "_deepnote_index_column": "2021-08-08 23:00:00+01:00"
        },
        {
         "0": 767867.9356800789,
         "_deepnote_index_column": "2021-08-09 00:00:00+01:00"
        },
        {
         "0": 755268.3363831165,
         "_deepnote_index_column": "2021-08-09 01:00:00+01:00"
        },
        {
         "0": 759227.7251545809,
         "_deepnote_index_column": "2021-08-09 02:00:00+01:00"
        },
        {
         "0": 767985.2456787111,
         "_deepnote_index_column": "2021-08-09 03:00:00+01:00"
        },
        {
         "0": 771685.8001646167,
         "_deepnote_index_column": "2021-08-09 04:00:00+01:00"
        },
        {
         "0": 783806.9321775795,
         "_deepnote_index_column": "2021-08-09 05:00:00+01:00"
        },
        {
         "0": 777124.6701963838,
         "_deepnote_index_column": "2021-08-09 06:00:00+01:00"
        },
        {
         "0": 777943.5480575764,
         "_deepnote_index_column": "2021-08-09 07:00:00+01:00"
        },
        {
         "0": 787315.4592824476,
         "_deepnote_index_column": "2021-08-09 08:00:00+01:00"
        },
        {
         "0": 788698.1732483632,
         "_deepnote_index_column": "2021-08-09 09:00:00+01:00"
        },
        {
         "0": 800022.6813174647,
         "_deepnote_index_column": "2021-08-09 10:00:00+01:00"
        },
        {
         "0": 807255.8237491231,
         "_deepnote_index_column": "2021-08-09 11:00:00+01:00"
        },
        {
         "0": 804869.8661960626,
         "_deepnote_index_column": "2021-08-09 12:00:00+01:00"
        },
        {
         "0": 802156.0426014299,
         "_deepnote_index_column": "2021-08-09 13:00:00+01:00"
        },
        {
         "0": 797221.4985235103,
         "_deepnote_index_column": "2021-08-09 14:00:00+01:00"
        },
        {
         "0": 798617.9604457038,
         "_deepnote_index_column": "2021-08-09 15:00:00+01:00"
        },
        {
         "0": 805913.2166406347,
         "_deepnote_index_column": "2021-08-09 16:00:00+01:00"
        },
        {
         "0": 802658.2794203714,
         "_deepnote_index_column": "2021-08-09 17:00:00+01:00"
        },
        {
         "0": 803899.8196098859,
         "_deepnote_index_column": "2021-08-09 18:00:00+01:00"
        },
        {
         "0": 807809.8661525012,
         "_deepnote_index_column": "2021-08-09 19:00:00+01:00"
        },
        {
         "0": 801385.7665942025,
         "_deepnote_index_column": "2021-08-09 20:00:00+01:00"
        },
        {
         "0": 791329.2617844311,
         "_deepnote_index_column": "2021-08-09 21:00:00+01:00"
        },
        {
         "0": 795324.2049681592,
         "_deepnote_index_column": "2021-08-09 22:00:00+01:00"
        },
        {
         "0": 804919.3989949462,
         "_deepnote_index_column": "2021-08-09 23:00:00+01:00"
        },
        {
         "0": 805776.9136195928,
         "_deepnote_index_column": "2021-08-10 00:00:00+01:00"
        },
        {
         "0": 799783.7455119245,
         "_deepnote_index_column": "2021-08-10 01:00:00+01:00"
        },
        {
         "0": 798758.881670676,
         "_deepnote_index_column": "2021-08-10 02:00:00+01:00"
        },
        {
         "0": 801703.3336169387,
         "_deepnote_index_column": "2021-08-10 03:00:00+01:00"
        },
        {
         "0": 791879.3797228576,
         "_deepnote_index_column": "2021-08-10 04:00:00+01:00"
        },
        {
         "0": 797255.5876604494,
         "_deepnote_index_column": "2021-08-10 05:00:00+01:00"
        },
        {
         "0": 797869.0860473559,
         "_deepnote_index_column": "2021-08-10 06:00:00+01:00"
        },
        {
         "0": 804209.4299349901,
         "_deepnote_index_column": "2021-08-10 07:00:00+01:00"
        },
        {
         "0": 806587.9683443638,
         "_deepnote_index_column": "2021-08-10 08:00:00+01:00"
        },
        {
         "0": 807312.3611412981,
         "_deepnote_index_column": "2021-08-10 09:00:00+01:00"
        },
        {
         "0": 807083.0033377005,
         "_deepnote_index_column": "2021-08-10 10:00:00+01:00"
        },
        {
         "0": 794829.9924696775,
         "_deepnote_index_column": "2021-08-10 11:00:00+01:00"
        },
        {
         "0": 802533.222789127,
         "_deepnote_index_column": "2021-08-10 12:00:00+01:00"
        },
        {
         "0": 835757.0706849428,
         "_deepnote_index_column": "2021-08-10 13:00:00+01:00"
        },
        {
         "0": 849115.2704986208,
         "_deepnote_index_column": "2021-08-10 14:00:00+01:00"
        },
        {
         "0": 842394.8465721841,
         "_deepnote_index_column": "2021-08-10 15:00:00+01:00"
        },
        {
         "0": 837236.7300775438,
         "_deepnote_index_column": "2021-08-10 16:00:00+01:00"
        },
        {
         "0": 827146.8253896778,
         "_deepnote_index_column": "2021-08-10 17:00:00+01:00"
        },
        {
         "0": 833394.5406073508,
         "_deepnote_index_column": "2021-08-10 18:00:00+01:00"
        },
        {
         "0": 839716.7091126144,
         "_deepnote_index_column": "2021-08-10 19:00:00+01:00"
        },
        {
         "0": 848414.4766574086,
         "_deepnote_index_column": "2021-08-10 20:00:00+01:00"
        },
        {
         "0": 840188.0850530078,
         "_deepnote_index_column": "2021-08-10 21:00:00+01:00"
        },
        {
         "0": 856069.6780134242,
         "_deepnote_index_column": "2021-08-10 22:00:00+01:00"
        },
        {
         "0": 853243.6337172216,
         "_deepnote_index_column": "2021-08-10 23:00:00+01:00"
        },
        {
         "0": 848564.7339381272,
         "_deepnote_index_column": "2021-08-11 00:00:00+01:00"
        },
        {
         "0": 866560.8542499146,
         "_deepnote_index_column": "2021-08-11 01:00:00+01:00"
        },
        {
         "0": 868593.2674954187,
         "_deepnote_index_column": "2021-08-11 02:00:00+01:00"
        },
        {
         "0": "nan",
         "_deepnote_index_column": "2021-08-11 02:52:03+01:00"
        },
        {
         "0": "nan",
         "_deepnote_index_column": "2021-08-11 03:00:00+01:00"
        }
       ]
      },
      "text/plain": "                                       0\n2019-09-01 02:00:00+01:00   99729.835208\n2019-09-01 03:00:00+01:00   99961.398457\n2019-09-01 04:00:00+01:00  100232.820763\n2019-09-01 05:00:00+01:00  100077.719001\n2019-09-01 06:00:00+01:00  100077.719001\n...                                  ...\n2021-08-11 00:00:00+01:00  848564.733938\n2021-08-11 01:00:00+01:00  866560.854250\n2021-08-11 02:00:00+01:00  868593.267495\n2021-08-11 02:52:03+01:00            NaN\n2021-08-11 03:00:00+01:00            NaN\n\n[17003 rows x 1 columns]",
      "text/html": "<div>\n<style scoped>\n    .dataframe tbody tr th:only-of-type {\n        vertical-align: middle;\n    }\n\n    .dataframe tbody tr th {\n        vertical-align: top;\n    }\n\n    .dataframe thead th {\n        text-align: right;\n    }\n</style>\n<table border=\"1\" class=\"dataframe\">\n  <thead>\n    <tr style=\"text-align: right;\">\n      <th></th>\n      <th>0</th>\n    </tr>\n  </thead>\n  <tbody>\n    <tr>\n      <th>2019-09-01 02:00:00+01:00</th>\n      <td>99729.835208</td>\n    </tr>\n    <tr>\n      <th>2019-09-01 03:00:00+01:00</th>\n      <td>99961.398457</td>\n    </tr>\n    <tr>\n      <th>2019-09-01 04:00:00+01:00</th>\n      <td>100232.820763</td>\n    </tr>\n    <tr>\n      <th>2019-09-01 05:00:00+01:00</th>\n      <td>100077.719001</td>\n    </tr>\n    <tr>\n      <th>2019-09-01 06:00:00+01:00</th>\n      <td>100077.719001</td>\n    </tr>\n    <tr>\n      <th>...</th>\n      <td>...</td>\n    </tr>\n    <tr>\n      <th>2021-08-11 00:00:00+01:00</th>\n      <td>848564.733938</td>\n    </tr>\n    <tr>\n      <th>2021-08-11 01:00:00+01:00</th>\n      <td>866560.854250</td>\n    </tr>\n    <tr>\n      <th>2021-08-11 02:00:00+01:00</th>\n      <td>868593.267495</td>\n    </tr>\n    <tr>\n      <th>2021-08-11 02:52:03+01:00</th>\n      <td>NaN</td>\n    </tr>\n    <tr>\n      <th>2021-08-11 03:00:00+01:00</th>\n      <td>NaN</td>\n    </tr>\n  </tbody>\n</table>\n<p>17003 rows × 1 columns</p>\n</div>"
     },
     "metadata": {}
    }
   ]
  },
  {
   "cell_type": "code",
   "metadata": {
    "tags": [],
    "cell_id": "00018-17caf0ba-98d8-45ee-a3dd-de128eb131ab",
    "deepnote_to_be_reexecuted": false,
    "source_hash": "fe67d415",
    "execution_start": 1629324855545,
    "execution_millis": 530,
    "deepnote_cell_type": "code"
   },
   "source": "# Set initial capital allocation\ninitial_capital = 100000\n\n# Plot cumulative return of model in terms of capital\ncumulative_return_capital = initial_capital * (1 + (combined_signals_df['Returns'] * Results['Predicted Value'])).cumprod().to_frame()\nreturns_plot = cumulative_return_capital.plot(figsize = (20,10), title = 'Cumulative Return on XRP Stock Linear Regression Model')\ncumulative_return_capital.to_csv('cumulative return on xrp.csv')",
   "execution_count": null,
   "outputs": [
    {
     "data": {
      "text/plain": "<Figure size 1440x720 with 1 Axes>",
      "image/png": "[encoded data removed]"
     },
     "metadata": {
      "needs_background": "light",
      "image/png": {
       "width": 1153,
       "height": 590
      }
     },
     "output_type": "display_data"
    }
   ]
  },
  {
   "cell_type": "code",
   "metadata": {
    "tags": [],
    "cell_id": "00020-91b2b0fd-d4d9-4bc3-9bbf-397596996cf0",
    "deepnote_to_be_reexecuted": false,
    "source_hash": "520291de",
    "execution_start": 1629324856080,
    "execution_millis": 29,
    "deepnote_cell_type": "code"
   },
   "source": "# Calculating the confusion matrix\ncm = confusion_matrix(y_test, predictions)\ncm_df = pd.DataFrame(\n    cm, index=[\"Actual 0\", \"Actual 1\"], columns=[\"Predicted 0\", \"Predicted 1\"]\n)\n\n# Calculating the accuracy score\nacc_score = accuracy_score(y_test, predictions)\nacc_score",
   "execution_count": null,
   "outputs": [
    {
     "output_type": "execute_result",
     "execution_count": 24,
     "data": {
      "text/plain": "0.5097347214869714"
     },
     "metadata": {}
    }
   ]
  },
  {
   "cell_type": "code",
   "metadata": {
    "tags": [],
    "cell_id": "00021-c4b98532-1756-4926-968a-cf9563b4f8eb",
    "deepnote_to_be_reexecuted": false,
    "source_hash": "49bb525b",
    "execution_start": 1629330772771,
    "execution_millis": 19,
    "deepnote_cell_type": "code"
   },
   "source": "cumulative_profit = (cumulative_return_capital.iloc[-3] - initial_capital)/(initial_capital)*100\ncumulative_profit",
   "execution_count": null,
   "outputs": [
    {
     "output_type": "execute_result",
     "execution_count": 26,
     "data": {
      "text/plain": "0    768.593267\nName: 2021-08-11 02:00:00+01:00, dtype: float64"
     },
     "metadata": {}
    }
   ]
  },
  {
   "cell_type": "code",
   "metadata": {
    "tags": [],
    "cell_id": "00025-2b019322-e6d4-464c-a1bb-f0679b0dae9d",
    "deepnote_cell_type": "code"
   },
   "source": "",
   "execution_count": null,
   "outputs": []
  },
  {
   "cell_type": "markdown",
   "source": "<a style='text-decoration:none;line-height:16px;display:flex;color:#5B5B62;padding:10px;justify-content:end;' href='https://deepnote.com?utm_source=created-in-deepnote-cell&projectId=d12c285c-6789-4c45-9ad7-1be9b4d60622' target=\"_blank\">\n<img alt='Created in deepnote.com' style='display:inline;max-height:16px;margin:0px;margin-right:7.5px;' src='data:image/svg+xml;base64,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' > </img>\nCreated in <span style='font-weight:600;margin-left:4px;'>Deepnote</span></a>",
   "metadata": {
    "tags": [],
    "created_in_deepnote_cell": true,
    "deepnote_cell_type": "markdown"
   }
  }
 ],
 "nbformat": 4,
 "nbformat_minor": 2,
 "metadata": {
  "orig_nbformat": 2,
  "deepnote": {
   "is_reactive": false
  },
  "deepnote_notebook_id": "6cf8946b-68ec-435c-9a7a-46b86b9a3976",
  "deepnote_execution_queue": []
 }
}