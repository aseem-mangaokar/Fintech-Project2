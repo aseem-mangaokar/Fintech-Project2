{
 "cells": [
  {
   "cell_type": "code",
   "source": "from pathlib import Path\nimport pandas as pd",
   "metadata": {
    "tags": [],
    "cell_id": "00000-34c1e828-e141-437f-b529-3fcf4460d5f8",
    "deepnote_to_be_reexecuted": false,
    "source_hash": "c939eaa4",
    "execution_start": 1628647722479,
    "execution_millis": 2,
    "deepnote_cell_type": "code"
   },
   "outputs": [],
   "execution_count": 4
  },
  {
   "cell_type": "code",
   "metadata": {
    "tags": [],
    "cell_id": "00000-8562f8a3-8ef2-49b5-afe2-ee32a2309add",
    "deepnote_to_be_reexecuted": false,
    "source_hash": "d3f2778e",
    "execution_start": 1628648399982,
    "execution_millis": 66,
    "deepnote_cell_type": "code"
   },
   "source": "# Set path to CSV and read in CSV\ndf1=pd.read_csv('/work/Fintech-Project2/TRADE_STRATS/XRP_MACD_TRADE_STRATEGY', index_col = 'Unnamed: 0', infer_datetime_format= True)\ndf1.set_index(pd.to_datetime(df1['Timestamp'], infer_datetime_format=True), inplace=True)\ndf1.drop(columns=['Timestamp'], inplace=True)\ndf2=pd.read_csv('/work/Fintech-Project2/TRADE_STRATS/XRP AROON 25 TRADE STRATEGY.CSV')\ndf2.set_index(pd.to_datetime(df2['Timestamp'], infer_datetime_format=True), inplace=True)\ndf2.drop(columns=['Timestamp'], inplace=True)\ndf3=pd.read_csv('/work/Fintech-Project2/TRADE_STRATS/XRP_RSI_TRADE_STRATEGY')\ndf3.set_index(pd.to_datetime(df3['Timestamp'], infer_datetime_format=True), inplace=True)\ndf3.drop(columns=['Timestamp'], inplace=True)\ndf = pd.concat([df1],[df2],[df3], join = 'inner')\n",
   "outputs": [
    {
     "output_type": "error",
     "ename": "KeyError",
     "evalue": "'Timestamp'",
     "traceback": [
      "\u001b[0;31m---------------------------------------------------------------------------\u001b[0m",
      "\u001b[0;31mKeyError\u001b[0m                                  Traceback (most recent call last)",
      "\u001b[0;32m/shared-libs/python3.7/py/lib/python3.7/site-packages/pandas/core/indexes/base.py\u001b[0m in \u001b[0;36mget_loc\u001b[0;34m(self, key, method, tolerance)\u001b[0m\n\u001b[1;32m   3080\u001b[0m             \u001b[0;32mtry\u001b[0m\u001b[0;34m:\u001b[0m\u001b[0;34m\u001b[0m\u001b[0;34m\u001b[0m\u001b[0m\n\u001b[0;32m-> 3081\u001b[0;31m                 \u001b[0;32mreturn\u001b[0m \u001b[0mself\u001b[0m\u001b[0;34m.\u001b[0m\u001b[0m_engine\u001b[0m\u001b[0;34m.\u001b[0m\u001b[0mget_loc\u001b[0m\u001b[0;34m(\u001b[0m\u001b[0mcasted_key\u001b[0m\u001b[0;34m)\u001b[0m\u001b[0;34m\u001b[0m\u001b[0;34m\u001b[0m\u001b[0m\n\u001b[0m\u001b[1;32m   3082\u001b[0m             \u001b[0;32mexcept\u001b[0m \u001b[0mKeyError\u001b[0m \u001b[0;32mas\u001b[0m \u001b[0merr\u001b[0m\u001b[0;34m:\u001b[0m\u001b[0;34m\u001b[0m\u001b[0;34m\u001b[0m\u001b[0m\n",
      "\u001b[0;32mpandas/_libs/index.pyx\u001b[0m in \u001b[0;36mpandas._libs.index.IndexEngine.get_loc\u001b[0;34m()\u001b[0m\n",
      "\u001b[0;32mpandas/_libs/index.pyx\u001b[0m in \u001b[0;36mpandas._libs.index.IndexEngine.get_loc\u001b[0;34m()\u001b[0m\n",
      "\u001b[0;32mpandas/_libs/hashtable_class_helper.pxi\u001b[0m in \u001b[0;36mpandas._libs.hashtable.PyObjectHashTable.get_item\u001b[0;34m()\u001b[0m\n",
      "\u001b[0;32mpandas/_libs/hashtable_class_helper.pxi\u001b[0m in \u001b[0;36mpandas._libs.hashtable.PyObjectHashTable.get_item\u001b[0;34m()\u001b[0m\n",
      "\u001b[0;31mKeyError\u001b[0m: 'Timestamp'",
      "\nThe above exception was the direct cause of the following exception:\n",
      "\u001b[0;31mKeyError\u001b[0m                                  Traceback (most recent call last)",
      "\u001b[0;32m/tmp/ipykernel_4249/2054485265.py\u001b[0m in \u001b[0;36m<module>\u001b[0;34m\u001b[0m\n\u001b[1;32m      1\u001b[0m \u001b[0;31m# Set path to CSV and read in CSV\u001b[0m\u001b[0;34m\u001b[0m\u001b[0;34m\u001b[0m\u001b[0;34m\u001b[0m\u001b[0m\n\u001b[1;32m      2\u001b[0m \u001b[0mdf1\u001b[0m\u001b[0;34m=\u001b[0m\u001b[0mpd\u001b[0m\u001b[0;34m.\u001b[0m\u001b[0mread_csv\u001b[0m\u001b[0;34m(\u001b[0m\u001b[0;34m'/work/Fintech-Project2/TRADE_STRATS/XRP_MACD_TRADE_STRATEGY'\u001b[0m\u001b[0;34m)\u001b[0m\u001b[0;34m\u001b[0m\u001b[0;34m\u001b[0m\u001b[0m\n\u001b[0;32m----> 3\u001b[0;31m \u001b[0mdf1\u001b[0m\u001b[0;34m.\u001b[0m\u001b[0mset_index\u001b[0m\u001b[0;34m(\u001b[0m\u001b[0mpd\u001b[0m\u001b[0;34m.\u001b[0m\u001b[0mto_datetime\u001b[0m\u001b[0;34m(\u001b[0m\u001b[0mdf1\u001b[0m\u001b[0;34m[\u001b[0m\u001b[0;34m'Timestamp'\u001b[0m\u001b[0;34m]\u001b[0m\u001b[0;34m,\u001b[0m \u001b[0minfer_datetime_format\u001b[0m\u001b[0;34m=\u001b[0m\u001b[0;32mTrue\u001b[0m\u001b[0;34m)\u001b[0m\u001b[0;34m,\u001b[0m \u001b[0minplace\u001b[0m\u001b[0;34m=\u001b[0m\u001b[0;32mTrue\u001b[0m\u001b[0;34m)\u001b[0m\u001b[0;34m\u001b[0m\u001b[0;34m\u001b[0m\u001b[0m\n\u001b[0m\u001b[1;32m      4\u001b[0m \u001b[0mdf1\u001b[0m\u001b[0;34m.\u001b[0m\u001b[0mdrop\u001b[0m\u001b[0;34m(\u001b[0m\u001b[0mcolumns\u001b[0m\u001b[0;34m=\u001b[0m\u001b[0;34m[\u001b[0m\u001b[0;34m'Timestamp'\u001b[0m\u001b[0;34m]\u001b[0m\u001b[0;34m,\u001b[0m \u001b[0minplace\u001b[0m\u001b[0;34m=\u001b[0m\u001b[0;32mTrue\u001b[0m\u001b[0;34m)\u001b[0m\u001b[0;34m\u001b[0m\u001b[0;34m\u001b[0m\u001b[0m\n\u001b[1;32m      5\u001b[0m \u001b[0mdf2\u001b[0m\u001b[0;34m=\u001b[0m\u001b[0mpd\u001b[0m\u001b[0;34m.\u001b[0m\u001b[0mread_csv\u001b[0m\u001b[0;34m(\u001b[0m\u001b[0;34m'/work/Fintech-Project2/TRADE_STRATS/XRP AROON 25 TRADE STRATEGY.CSV'\u001b[0m\u001b[0;34m)\u001b[0m\u001b[0;34m\u001b[0m\u001b[0;34m\u001b[0m\u001b[0m\n",
      "\u001b[0;32m/shared-libs/python3.7/py/lib/python3.7/site-packages/pandas/core/frame.py\u001b[0m in \u001b[0;36m__getitem__\u001b[0;34m(self, key)\u001b[0m\n\u001b[1;32m   3022\u001b[0m             \u001b[0;32mif\u001b[0m \u001b[0mself\u001b[0m\u001b[0;34m.\u001b[0m\u001b[0mcolumns\u001b[0m\u001b[0;34m.\u001b[0m\u001b[0mnlevels\u001b[0m \u001b[0;34m>\u001b[0m \u001b[0;36m1\u001b[0m\u001b[0;34m:\u001b[0m\u001b[0;34m\u001b[0m\u001b[0;34m\u001b[0m\u001b[0m\n\u001b[1;32m   3023\u001b[0m                 \u001b[0;32mreturn\u001b[0m \u001b[0mself\u001b[0m\u001b[0;34m.\u001b[0m\u001b[0m_getitem_multilevel\u001b[0m\u001b[0;34m(\u001b[0m\u001b[0mkey\u001b[0m\u001b[0;34m)\u001b[0m\u001b[0;34m\u001b[0m\u001b[0;34m\u001b[0m\u001b[0m\n\u001b[0;32m-> 3024\u001b[0;31m             \u001b[0mindexer\u001b[0m \u001b[0;34m=\u001b[0m \u001b[0mself\u001b[0m\u001b[0;34m.\u001b[0m\u001b[0mcolumns\u001b[0m\u001b[0;34m.\u001b[0m\u001b[0mget_loc\u001b[0m\u001b[0;34m(\u001b[0m\u001b[0mkey\u001b[0m\u001b[0;34m)\u001b[0m\u001b[0;34m\u001b[0m\u001b[0;34m\u001b[0m\u001b[0m\n\u001b[0m\u001b[1;32m   3025\u001b[0m             \u001b[0;32mif\u001b[0m \u001b[0mis_integer\u001b[0m\u001b[0;34m(\u001b[0m\u001b[0mindexer\u001b[0m\u001b[0;34m)\u001b[0m\u001b[0;34m:\u001b[0m\u001b[0;34m\u001b[0m\u001b[0;34m\u001b[0m\u001b[0m\n\u001b[1;32m   3026\u001b[0m                 \u001b[0mindexer\u001b[0m \u001b[0;34m=\u001b[0m \u001b[0;34m[\u001b[0m\u001b[0mindexer\u001b[0m\u001b[0;34m]\u001b[0m\u001b[0;34m\u001b[0m\u001b[0;34m\u001b[0m\u001b[0m\n",
      "\u001b[0;32m/shared-libs/python3.7/py/lib/python3.7/site-packages/pandas/core/indexes/base.py\u001b[0m in \u001b[0;36mget_loc\u001b[0;34m(self, key, method, tolerance)\u001b[0m\n\u001b[1;32m   3081\u001b[0m                 \u001b[0;32mreturn\u001b[0m \u001b[0mself\u001b[0m\u001b[0;34m.\u001b[0m\u001b[0m_engine\u001b[0m\u001b[0;34m.\u001b[0m\u001b[0mget_loc\u001b[0m\u001b[0;34m(\u001b[0m\u001b[0mcasted_key\u001b[0m\u001b[0;34m)\u001b[0m\u001b[0;34m\u001b[0m\u001b[0;34m\u001b[0m\u001b[0m\n\u001b[1;32m   3082\u001b[0m             \u001b[0;32mexcept\u001b[0m \u001b[0mKeyError\u001b[0m \u001b[0;32mas\u001b[0m \u001b[0merr\u001b[0m\u001b[0;34m:\u001b[0m\u001b[0;34m\u001b[0m\u001b[0;34m\u001b[0m\u001b[0m\n\u001b[0;32m-> 3083\u001b[0;31m                 \u001b[0;32mraise\u001b[0m \u001b[0mKeyError\u001b[0m\u001b[0;34m(\u001b[0m\u001b[0mkey\u001b[0m\u001b[0;34m)\u001b[0m \u001b[0;32mfrom\u001b[0m \u001b[0merr\u001b[0m\u001b[0;34m\u001b[0m\u001b[0;34m\u001b[0m\u001b[0m\n\u001b[0m\u001b[1;32m   3084\u001b[0m \u001b[0;34m\u001b[0m\u001b[0m\n\u001b[1;32m   3085\u001b[0m         \u001b[0;32mif\u001b[0m \u001b[0mtolerance\u001b[0m \u001b[0;32mis\u001b[0m \u001b[0;32mnot\u001b[0m \u001b[0;32mNone\u001b[0m\u001b[0;34m:\u001b[0m\u001b[0;34m\u001b[0m\u001b[0;34m\u001b[0m\u001b[0m\n",
      "\u001b[0;31mKeyError\u001b[0m: 'Timestamp'"
     ]
    }
   ],
   "execution_count": 12
  },
  {
   "cell_type": "code",
   "source": "df1=pd.read_csv('/work/Fintech-Project2/TRADE_STRATS/XRP_MACD_TRADE_STRATEGY')\ndf1.set_index(pd.to_datetime(df1['Timestamp'], infer_datetime_format=True), inplace=True)\ndf1.drop(columns=['Timestamp'], inplace=True)",
   "metadata": {
    "tags": [],
    "cell_id": "00001-69ef2616-ff9a-4d74-a47f-651ca659852c",
    "deepnote_to_be_reexecuted": false,
    "source_hash": "4d28bd5",
    "execution_start": 1628648642064,
    "execution_millis": 60,
    "deepnote_cell_type": "code"
   },
   "outputs": [
    {
     "output_type": "error",
     "ename": "KeyError",
     "evalue": "'Timestamp'",
     "traceback": [
      "\u001b[0;31m---------------------------------------------------------------------------\u001b[0m",
      "\u001b[0;31mKeyError\u001b[0m                                  Traceback (most recent call last)",
      "\u001b[0;32m/shared-libs/python3.7/py/lib/python3.7/site-packages/pandas/core/indexes/base.py\u001b[0m in \u001b[0;36mget_loc\u001b[0;34m(self, key, method, tolerance)\u001b[0m\n\u001b[1;32m   3080\u001b[0m             \u001b[0;32mtry\u001b[0m\u001b[0;34m:\u001b[0m\u001b[0;34m\u001b[0m\u001b[0;34m\u001b[0m\u001b[0m\n\u001b[0;32m-> 3081\u001b[0;31m                 \u001b[0;32mreturn\u001b[0m \u001b[0mself\u001b[0m\u001b[0;34m.\u001b[0m\u001b[0m_engine\u001b[0m\u001b[0;34m.\u001b[0m\u001b[0mget_loc\u001b[0m\u001b[0;34m(\u001b[0m\u001b[0mcasted_key\u001b[0m\u001b[0;34m)\u001b[0m\u001b[0;34m\u001b[0m\u001b[0;34m\u001b[0m\u001b[0m\n\u001b[0m\u001b[1;32m   3082\u001b[0m             \u001b[0;32mexcept\u001b[0m \u001b[0mKeyError\u001b[0m \u001b[0;32mas\u001b[0m \u001b[0merr\u001b[0m\u001b[0;34m:\u001b[0m\u001b[0;34m\u001b[0m\u001b[0;34m\u001b[0m\u001b[0m\n",
      "\u001b[0;32mpandas/_libs/index.pyx\u001b[0m in \u001b[0;36mpandas._libs.index.IndexEngine.get_loc\u001b[0;34m()\u001b[0m\n",
      "\u001b[0;32mpandas/_libs/index.pyx\u001b[0m in \u001b[0;36mpandas._libs.index.IndexEngine.get_loc\u001b[0;34m()\u001b[0m\n",
      "\u001b[0;32mpandas/_libs/hashtable_class_helper.pxi\u001b[0m in \u001b[0;36mpandas._libs.hashtable.PyObjectHashTable.get_item\u001b[0;34m()\u001b[0m\n",
      "\u001b[0;32mpandas/_libs/hashtable_class_helper.pxi\u001b[0m in \u001b[0;36mpandas._libs.hashtable.PyObjectHashTable.get_item\u001b[0;34m()\u001b[0m\n",
      "\u001b[0;31mKeyError\u001b[0m: 'Timestamp'",
      "\nThe above exception was the direct cause of the following exception:\n",
      "\u001b[0;31mKeyError\u001b[0m                                  Traceback (most recent call last)",
      "\u001b[0;32m/tmp/ipykernel_4249/2719651286.py\u001b[0m in \u001b[0;36m<module>\u001b[0;34m\u001b[0m\n\u001b[1;32m      1\u001b[0m \u001b[0mdf1\u001b[0m\u001b[0;34m=\u001b[0m\u001b[0mpd\u001b[0m\u001b[0;34m.\u001b[0m\u001b[0mread_csv\u001b[0m\u001b[0;34m(\u001b[0m\u001b[0;34m'/work/Fintech-Project2/TRADE_STRATS/XRP_MACD_TRADE_STRATEGY'\u001b[0m\u001b[0;34m)\u001b[0m\u001b[0;34m\u001b[0m\u001b[0;34m\u001b[0m\u001b[0m\n\u001b[0;32m----> 2\u001b[0;31m \u001b[0mdf1\u001b[0m\u001b[0;34m.\u001b[0m\u001b[0mset_index\u001b[0m\u001b[0;34m(\u001b[0m\u001b[0mpd\u001b[0m\u001b[0;34m.\u001b[0m\u001b[0mto_datetime\u001b[0m\u001b[0;34m(\u001b[0m\u001b[0mdf1\u001b[0m\u001b[0;34m[\u001b[0m\u001b[0;34m'Timestamp'\u001b[0m\u001b[0;34m]\u001b[0m\u001b[0;34m,\u001b[0m \u001b[0minfer_datetime_format\u001b[0m\u001b[0;34m=\u001b[0m\u001b[0;32mTrue\u001b[0m\u001b[0;34m)\u001b[0m\u001b[0;34m,\u001b[0m \u001b[0minplace\u001b[0m\u001b[0;34m=\u001b[0m\u001b[0;32mTrue\u001b[0m\u001b[0;34m)\u001b[0m\u001b[0;34m\u001b[0m\u001b[0;34m\u001b[0m\u001b[0m\n\u001b[0m\u001b[1;32m      3\u001b[0m \u001b[0mdf1\u001b[0m\u001b[0;34m.\u001b[0m\u001b[0mdrop\u001b[0m\u001b[0;34m(\u001b[0m\u001b[0mcolumns\u001b[0m\u001b[0;34m=\u001b[0m\u001b[0;34m[\u001b[0m\u001b[0;34m'Timestamp'\u001b[0m\u001b[0;34m]\u001b[0m\u001b[0;34m,\u001b[0m \u001b[0minplace\u001b[0m\u001b[0;34m=\u001b[0m\u001b[0;32mTrue\u001b[0m\u001b[0;34m)\u001b[0m\u001b[0;34m\u001b[0m\u001b[0;34m\u001b[0m\u001b[0m\n",
      "\u001b[0;32m/shared-libs/python3.7/py/lib/python3.7/site-packages/pandas/core/frame.py\u001b[0m in \u001b[0;36m__getitem__\u001b[0;34m(self, key)\u001b[0m\n\u001b[1;32m   3022\u001b[0m             \u001b[0;32mif\u001b[0m \u001b[0mself\u001b[0m\u001b[0;34m.\u001b[0m\u001b[0mcolumns\u001b[0m\u001b[0;34m.\u001b[0m\u001b[0mnlevels\u001b[0m \u001b[0;34m>\u001b[0m \u001b[0;36m1\u001b[0m\u001b[0;34m:\u001b[0m\u001b[0;34m\u001b[0m\u001b[0;34m\u001b[0m\u001b[0m\n\u001b[1;32m   3023\u001b[0m                 \u001b[0;32mreturn\u001b[0m \u001b[0mself\u001b[0m\u001b[0;34m.\u001b[0m\u001b[0m_getitem_multilevel\u001b[0m\u001b[0;34m(\u001b[0m\u001b[0mkey\u001b[0m\u001b[0;34m)\u001b[0m\u001b[0;34m\u001b[0m\u001b[0;34m\u001b[0m\u001b[0m\n\u001b[0;32m-> 3024\u001b[0;31m             \u001b[0mindexer\u001b[0m \u001b[0;34m=\u001b[0m \u001b[0mself\u001b[0m\u001b[0;34m.\u001b[0m\u001b[0mcolumns\u001b[0m\u001b[0;34m.\u001b[0m\u001b[0mget_loc\u001b[0m\u001b[0;34m(\u001b[0m\u001b[0mkey\u001b[0m\u001b[0;34m)\u001b[0m\u001b[0;34m\u001b[0m\u001b[0;34m\u001b[0m\u001b[0m\n\u001b[0m\u001b[1;32m   3025\u001b[0m             \u001b[0;32mif\u001b[0m \u001b[0mis_integer\u001b[0m\u001b[0;34m(\u001b[0m\u001b[0mindexer\u001b[0m\u001b[0;34m)\u001b[0m\u001b[0;34m:\u001b[0m\u001b[0;34m\u001b[0m\u001b[0;34m\u001b[0m\u001b[0m\n\u001b[1;32m   3026\u001b[0m                 \u001b[0mindexer\u001b[0m \u001b[0;34m=\u001b[0m \u001b[0;34m[\u001b[0m\u001b[0mindexer\u001b[0m\u001b[0;34m]\u001b[0m\u001b[0;34m\u001b[0m\u001b[0;34m\u001b[0m\u001b[0m\n",
      "\u001b[0;32m/shared-libs/python3.7/py/lib/python3.7/site-packages/pandas/core/indexes/base.py\u001b[0m in \u001b[0;36mget_loc\u001b[0;34m(self, key, method, tolerance)\u001b[0m\n\u001b[1;32m   3081\u001b[0m                 \u001b[0;32mreturn\u001b[0m \u001b[0mself\u001b[0m\u001b[0;34m.\u001b[0m\u001b[0m_engine\u001b[0m\u001b[0;34m.\u001b[0m\u001b[0mget_loc\u001b[0m\u001b[0;34m(\u001b[0m\u001b[0mcasted_key\u001b[0m\u001b[0;34m)\u001b[0m\u001b[0;34m\u001b[0m\u001b[0;34m\u001b[0m\u001b[0m\n\u001b[1;32m   3082\u001b[0m             \u001b[0;32mexcept\u001b[0m \u001b[0mKeyError\u001b[0m \u001b[0;32mas\u001b[0m \u001b[0merr\u001b[0m\u001b[0;34m:\u001b[0m\u001b[0;34m\u001b[0m\u001b[0;34m\u001b[0m\u001b[0m\n\u001b[0;32m-> 3083\u001b[0;31m                 \u001b[0;32mraise\u001b[0m \u001b[0mKeyError\u001b[0m\u001b[0;34m(\u001b[0m\u001b[0mkey\u001b[0m\u001b[0;34m)\u001b[0m \u001b[0;32mfrom\u001b[0m \u001b[0merr\u001b[0m\u001b[0;34m\u001b[0m\u001b[0;34m\u001b[0m\u001b[0m\n\u001b[0m\u001b[1;32m   3084\u001b[0m \u001b[0;34m\u001b[0m\u001b[0m\n\u001b[1;32m   3085\u001b[0m         \u001b[0;32mif\u001b[0m \u001b[0mtolerance\u001b[0m \u001b[0;32mis\u001b[0m \u001b[0;32mnot\u001b[0m \u001b[0;32mNone\u001b[0m\u001b[0;34m:\u001b[0m\u001b[0;34m\u001b[0m\u001b[0;34m\u001b[0m\u001b[0m\n",
      "\u001b[0;31mKeyError\u001b[0m: 'Timestamp'"
     ]
    }
   ],
   "execution_count": 18
  },
  {
   "cell_type": "code",
   "source": "df2=pd.read_csv('/work/Fintech-Project2/TRADE_STRATS/XRP AROON 25 TRADE STRATEGY.CSV')\ndf2",
   "metadata": {
    "tags": [],
    "cell_id": "00003-bc825053-ad0c-4c98-ab6b-b6e8ec3ce11d",
    "deepnote_to_be_reexecuted": false,
    "source_hash": "f28a9f90",
    "execution_start": 1628648581718,
    "execution_millis": 90,
    "deepnote_cell_type": "code"
   },
   "outputs": [
    {
     "output_type": "execute_result",
     "execution_count": 16,
     "data": {
      "application/vnd.deepnote.dataframe.v2+json": {
       "row_count": 17004,
       "column_count": 6,
       "columns": [
        {
         "name": "Unnamed: 0",
         "dtype": "object",
         "stats": {
          "unique_count": 17004,
          "nan_count": 0,
          "categories": [
           {
            "name": "2019-09-01 01:00:00+01:00",
            "count": 1
           },
           {
            "name": "2019-09-01 02:00:00+01:00",
            "count": 1
           },
           {
            "name": "17002 others",
            "count": 17002
           }
          ]
         }
        },
        {
         "name": "Close",
         "dtype": "float64",
         "stats": {
          "unique_count": 16593,
          "nan_count": 0,
          "min": "0.1298504173755645",
          "max": "1.9378489255905151",
          "histogram": [
           {
            "bin_start": 0.1298504173755645,
            "bin_end": 0.31065026819705954,
            "count": 11355
           },
           {
            "bin_start": 0.31065026819705954,
            "bin_end": 0.4914501190185546,
            "count": 1233
           },
           {
            "bin_start": 0.4914501190185546,
            "bin_end": 0.6722499698400496,
            "count": 2101
           },
           {
            "bin_start": 0.6722499698400496,
            "bin_end": 0.8530498206615447,
            "count": 682
           },
           {
            "bin_start": 0.8530498206615447,
            "bin_end": 1.0338496714830399,
            "count": 598
           },
           {
            "bin_start": 1.0338496714830399,
            "bin_end": 1.2146495223045348,
            "count": 182
           },
           {
            "bin_start": 1.2146495223045348,
            "bin_end": 1.39544937312603,
            "count": 270
           },
           {
            "bin_start": 1.39544937312603,
            "bin_end": 1.576249223947525,
            "count": 343
           },
           {
            "bin_start": 1.576249223947525,
            "bin_end": 1.75704907476902,
            "count": 204
           },
           {
            "bin_start": 1.75704907476902,
            "bin_end": 1.9378489255905151,
            "count": 36
           }
          ]
         }
        },
        {
         "name": "trend_aroon_up",
         "dtype": "float64",
         "stats": {
          "unique_count": 25,
          "nan_count": 24,
          "min": "4.0",
          "max": "100.0",
          "histogram": [
           {
            "bin_start": 4,
            "bin_end": 13.6,
            "count": 3895
           },
           {
            "bin_start": 13.6,
            "bin_end": 23.2,
            "count": 1368
           },
           {
            "bin_start": 23.2,
            "bin_end": 32.8,
            "count": 1643
           },
           {
            "bin_start": 32.8,
            "bin_end": 42.4,
            "count": 965
           },
           {
            "bin_start": 42.4,
            "bin_end": 52,
            "count": 915
           },
           {
            "bin_start": 52,
            "bin_end": 61.599999999999994,
            "count": 1374
           },
           {
            "bin_start": 61.599999999999994,
            "bin_end": 71.2,
            "count": 962
           },
           {
            "bin_start": 71.2,
            "bin_end": 80.8,
            "count": 1567
           },
           {
            "bin_start": 80.8,
            "bin_end": 90.39999999999999,
            "count": 1201
           },
           {
            "bin_start": 90.39999999999999,
            "bin_end": 100,
            "count": 3090
           }
          ]
         }
        },
        {
         "name": "trend_aroon_down",
         "dtype": "float64",
         "stats": {
          "unique_count": 25,
          "nan_count": 24,
          "min": "4.0",
          "max": "100.0",
          "histogram": [
           {
            "bin_start": 4,
            "bin_end": 13.6,
            "count": 4202
           },
           {
            "bin_start": 13.6,
            "bin_end": 23.2,
            "count": 1454
           },
           {
            "bin_start": 23.2,
            "bin_end": 32.8,
            "count": 1774
           },
           {
            "bin_start": 32.8,
            "bin_end": 42.4,
            "count": 1029
           },
           {
            "bin_start": 42.4,
            "bin_end": 52,
            "count": 936
           },
           {
            "bin_start": 52,
            "bin_end": 61.599999999999994,
            "count": 1340
           },
           {
            "bin_start": 61.599999999999994,
            "bin_end": 71.2,
            "count": 880
           },
           {
            "bin_start": 71.2,
            "bin_end": 80.8,
            "count": 1414
           },
           {
            "bin_start": 80.8,
            "bin_end": 90.39999999999999,
            "count": 1079
           },
           {
            "bin_start": 90.39999999999999,
            "bin_end": 100,
            "count": 2872
           }
          ]
         }
        },
        {
         "name": "aroon_signal",
         "dtype": "int64",
         "stats": {
          "unique_count": 3,
          "nan_count": 0,
          "min": "-1",
          "max": "1",
          "histogram": [
           {
            "bin_start": -1,
            "bin_end": -0.8,
            "count": 214
           },
           {
            "bin_start": -0.8,
            "bin_end": -0.6,
            "count": 0
           },
           {
            "bin_start": -0.6,
            "bin_end": -0.3999999999999999,
            "count": 0
           },
           {
            "bin_start": -0.3999999999999999,
            "bin_end": -0.19999999999999996,
            "count": 0
           },
           {
            "bin_start": -0.19999999999999996,
            "bin_end": 0,
            "count": 0
           },
           {
            "bin_start": 0,
            "bin_end": 0.20000000000000018,
            "count": 16575
           },
           {
            "bin_start": 0.20000000000000018,
            "bin_end": 0.40000000000000013,
            "count": 0
           },
           {
            "bin_start": 0.40000000000000013,
            "bin_end": 0.6000000000000001,
            "count": 0
           },
           {
            "bin_start": 0.6000000000000001,
            "bin_end": 0.8,
            "count": 0
           },
           {
            "bin_start": 0.8,
            "bin_end": 1,
            "count": 215
           }
          ]
         }
        },
        {
         "name": "aroon_position",
         "dtype": "int64"
        },
        {
         "name": "_deepnote_index_column",
         "dtype": "int64"
        }
       ],
       "rows_top": [
        {
         "Unnamed: 0": "2019-09-01 01:00:00+01:00",
         "Close": 0.2590999901294708,
         "trend_aroon_up": "nan",
         "trend_aroon_down": "nan",
         "aroon_signal": 0,
         "aroon_position": 1,
         "_deepnote_index_column": 0
        },
        {
         "Unnamed: 0": "2019-09-01 02:00:00+01:00",
         "Close": 0.2583999931812286,
         "trend_aroon_up": "nan",
         "trend_aroon_down": "nan",
         "aroon_signal": 0,
         "aroon_position": 1,
         "_deepnote_index_column": 1
        },
        {
         "Unnamed: 0": "2019-09-01 03:00:00+01:00",
         "Close": 0.2578000128269195,
         "trend_aroon_up": "nan",
         "trend_aroon_down": "nan",
         "aroon_signal": 0,
         "aroon_position": 1,
         "_deepnote_index_column": 2
        },
        {
         "Unnamed: 0": "2019-09-01 04:00:00+01:00",
         "Close": 0.2585000097751617,
         "trend_aroon_up": "nan",
         "trend_aroon_down": "nan",
         "aroon_signal": 0,
         "aroon_position": 1,
         "_deepnote_index_column": 3
        },
        {
         "Unnamed: 0": "2019-09-01 05:00:00+01:00",
         "Close": 0.2581000030040741,
         "trend_aroon_up": "nan",
         "trend_aroon_down": "nan",
         "aroon_signal": 0,
         "aroon_position": 1,
         "_deepnote_index_column": 4
        },
        {
         "Unnamed: 0": "2019-09-01 06:00:00+01:00",
         "Close": 0.2581000030040741,
         "trend_aroon_up": "nan",
         "trend_aroon_down": "nan",
         "aroon_signal": 0,
         "aroon_position": 1,
         "_deepnote_index_column": 5
        },
        {
         "Unnamed: 0": "2019-09-01 07:00:00+01:00",
         "Close": 0.2585000097751617,
         "trend_aroon_up": "nan",
         "trend_aroon_down": "nan",
         "aroon_signal": 0,
         "aroon_position": 1,
         "_deepnote_index_column": 6
        },
        {
         "Unnamed: 0": "2019-09-01 08:00:00+01:00",
         "Close": 0.2581999897956848,
         "trend_aroon_up": "nan",
         "trend_aroon_down": "nan",
         "aroon_signal": 0,
         "aroon_position": 1,
         "_deepnote_index_column": 7
        },
        {
         "Unnamed: 0": "2019-09-01 09:00:00+01:00",
         "Close": 0.2567000091075897,
         "trend_aroon_up": "nan",
         "trend_aroon_down": "nan",
         "aroon_signal": 0,
         "aroon_position": 1,
         "_deepnote_index_column": 8
        },
        {
         "Unnamed: 0": "2019-09-01 10:00:00+01:00",
         "Close": 0.2563999891281128,
         "trend_aroon_up": "nan",
         "trend_aroon_down": "nan",
         "aroon_signal": 0,
         "aroon_position": 1,
         "_deepnote_index_column": 9
        },
        {
         "Unnamed: 0": "2019-09-01 11:00:00+01:00",
         "Close": 0.2558000087738037,
         "trend_aroon_up": "nan",
         "trend_aroon_down": "nan",
         "aroon_signal": 0,
         "aroon_position": 1,
         "_deepnote_index_column": 10
        },
        {
         "Unnamed: 0": "2019-09-01 12:00:00+01:00",
         "Close": 0.2551000118255615,
         "trend_aroon_up": "nan",
         "trend_aroon_down": "nan",
         "aroon_signal": 0,
         "aroon_position": 1,
         "_deepnote_index_column": 11
        },
        {
         "Unnamed: 0": "2019-09-01 13:00:00+01:00",
         "Close": 0.2556999921798706,
         "trend_aroon_up": "nan",
         "trend_aroon_down": "nan",
         "aroon_signal": 0,
         "aroon_position": 1,
         "_deepnote_index_column": 12
        },
        {
         "Unnamed: 0": "2019-09-01 14:00:00+01:00",
         "Close": 0.2549000084400177,
         "trend_aroon_up": "nan",
         "trend_aroon_down": "nan",
         "aroon_signal": 0,
         "aroon_position": 1,
         "_deepnote_index_column": 13
        },
        {
         "Unnamed: 0": "2019-09-01 15:00:00+01:00",
         "Close": 0.2549999952316284,
         "trend_aroon_up": "nan",
         "trend_aroon_down": "nan",
         "aroon_signal": 0,
         "aroon_position": 1,
         "_deepnote_index_column": 14
        },
        {
         "Unnamed: 0": "2019-09-01 16:00:00+01:00",
         "Close": 0.2560999989509582,
         "trend_aroon_up": "nan",
         "trend_aroon_down": "nan",
         "aroon_signal": 0,
         "aroon_position": 1,
         "_deepnote_index_column": 15
        },
        {
         "Unnamed: 0": "2019-09-01 17:00:00+01:00",
         "Close": 0.2542000114917755,
         "trend_aroon_up": "nan",
         "trend_aroon_down": "nan",
         "aroon_signal": 0,
         "aroon_position": 1,
         "_deepnote_index_column": 16
        },
        {
         "Unnamed: 0": "2019-09-01 18:00:00+01:00",
         "Close": 0.2542000114917755,
         "trend_aroon_up": "nan",
         "trend_aroon_down": "nan",
         "aroon_signal": 0,
         "aroon_position": 1,
         "_deepnote_index_column": 17
        },
        {
         "Unnamed: 0": "2019-09-01 19:00:00+01:00",
         "Close": 0.2551999986171722,
         "trend_aroon_up": "nan",
         "trend_aroon_down": "nan",
         "aroon_signal": 0,
         "aroon_position": 1,
         "_deepnote_index_column": 18
        },
        {
         "Unnamed: 0": "2019-09-01 20:00:00+01:00",
         "Close": 0.2558999955654144,
         "trend_aroon_up": "nan",
         "trend_aroon_down": "nan",
         "aroon_signal": 0,
         "aroon_position": 1,
         "_deepnote_index_column": 19
        },
        {
         "Unnamed: 0": "2019-09-01 21:00:00+01:00",
         "Close": 0.2563999891281128,
         "trend_aroon_up": "nan",
         "trend_aroon_down": "nan",
         "aroon_signal": 0,
         "aroon_position": 1,
         "_deepnote_index_column": 20
        },
        {
         "Unnamed: 0": "2019-09-01 22:00:00+01:00",
         "Close": 0.2567999958992004,
         "trend_aroon_up": "nan",
         "trend_aroon_down": "nan",
         "aroon_signal": 0,
         "aroon_position": 1,
         "_deepnote_index_column": 21
        },
        {
         "Unnamed: 0": "2019-09-01 23:00:00+01:00",
         "Close": 0.2572999894618988,
         "trend_aroon_up": "nan",
         "trend_aroon_down": "nan",
         "aroon_signal": 0,
         "aroon_position": 1,
         "_deepnote_index_column": 22
        },
        {
         "Unnamed: 0": "2019-09-02 00:00:00+01:00",
         "Close": 0.2569000124931335,
         "trend_aroon_up": "nan",
         "trend_aroon_down": "nan",
         "aroon_signal": 0,
         "aroon_position": 1,
         "_deepnote_index_column": 23
        },
        {
         "Unnamed: 0": "2019-09-02 01:00:00+01:00",
         "Close": 0.2558000087738037,
         "trend_aroon_up": 4,
         "trend_aroon_down": 68,
         "aroon_signal": 0,
         "aroon_position": 1,
         "_deepnote_index_column": 24
        },
        {
         "Unnamed: 0": "2019-09-02 02:00:00+01:00",
         "Close": 0.2554999887943268,
         "trend_aroon_up": 12,
         "trend_aroon_down": 64,
         "aroon_signal": 0,
         "aroon_position": 1,
         "_deepnote_index_column": 25
        },
        {
         "Unnamed: 0": "2019-09-02 03:00:00+01:00",
         "Close": 0.2558000087738037,
         "trend_aroon_up": 8,
         "trend_aroon_down": 60,
         "aroon_signal": 0,
         "aroon_position": 1,
         "_deepnote_index_column": 26
        },
        {
         "Unnamed: 0": "2019-09-02 04:00:00+01:00",
         "Close": 0.2554999887943268,
         "trend_aroon_up": 4,
         "trend_aroon_down": 56.00000000000001,
         "aroon_signal": 0,
         "aroon_position": 1,
         "_deepnote_index_column": 27
        },
        {
         "Unnamed: 0": "2019-09-02 05:00:00+01:00",
         "Close": 0.2554999887943268,
         "trend_aroon_up": 12,
         "trend_aroon_down": 52,
         "aroon_signal": 0,
         "aroon_position": 1,
         "_deepnote_index_column": 28
        },
        {
         "Unnamed: 0": "2019-09-02 06:00:00+01:00",
         "Close": 0.2552999854087829,
         "trend_aroon_up": 8,
         "trend_aroon_down": 48,
         "aroon_signal": 0,
         "aroon_position": 1,
         "_deepnote_index_column": 29
        },
        {
         "Unnamed: 0": "2019-09-02 07:00:00+01:00",
         "Close": 0.2549999952316284,
         "trend_aroon_up": 4,
         "trend_aroon_down": 44,
         "aroon_signal": 0,
         "aroon_position": 1,
         "_deepnote_index_column": 30
        },
        {
         "Unnamed: 0": "2019-09-02 08:00:00+01:00",
         "Close": 0.2542999982833862,
         "trend_aroon_up": 4,
         "trend_aroon_down": 40,
         "aroon_signal": 0,
         "aroon_position": 1,
         "_deepnote_index_column": 31
        },
        {
         "Unnamed: 0": "2019-09-02 09:00:00+01:00",
         "Close": 0.2544000148773193,
         "trend_aroon_up": 60,
         "trend_aroon_down": 36,
         "aroon_signal": 0,
         "aroon_position": 1,
         "_deepnote_index_column": 32
        },
        {
         "Unnamed: 0": "2019-09-02 10:00:00+01:00",
         "Close": 0.2549999952316284,
         "trend_aroon_up": 56.00000000000001,
         "trend_aroon_down": 32,
         "aroon_signal": 0,
         "aroon_position": 1,
         "_deepnote_index_column": 33
        },
        {
         "Unnamed: 0": "2019-09-02 11:00:00+01:00",
         "Close": 0.2545999884605407,
         "trend_aroon_up": 52,
         "trend_aroon_down": 28.000000000000004,
         "aroon_signal": 0,
         "aroon_position": 1,
         "_deepnote_index_column": 34
        },
        {
         "Unnamed: 0": "2019-09-02 12:00:00+01:00",
         "Close": 0.2556999921798706,
         "trend_aroon_up": 48,
         "trend_aroon_down": 24,
         "aroon_signal": 0,
         "aroon_position": 1,
         "_deepnote_index_column": 35
        },
        {
         "Unnamed: 0": "2019-09-02 13:00:00+01:00",
         "Close": 0.2549999952316284,
         "trend_aroon_up": 44,
         "trend_aroon_down": 20,
         "aroon_signal": 0,
         "aroon_position": 1,
         "_deepnote_index_column": 36
        },
        {
         "Unnamed: 0": "2019-09-02 14:00:00+01:00",
         "Close": 0.257999986410141,
         "trend_aroon_up": 100,
         "trend_aroon_down": 16,
         "aroon_signal": 1,
         "aroon_position": 1,
         "_deepnote_index_column": 37
        },
        {
         "Unnamed: 0": "2019-09-02 15:00:00+01:00",
         "Close": 0.2576000094413757,
         "trend_aroon_up": 96,
         "trend_aroon_down": 12,
         "aroon_signal": 0,
         "aroon_position": 1,
         "_deepnote_index_column": 38
        },
        {
         "Unnamed: 0": "2019-09-02 16:00:00+01:00",
         "Close": 0.2569999992847442,
         "trend_aroon_up": 92,
         "trend_aroon_down": 8,
         "aroon_signal": 0,
         "aroon_position": 1,
         "_deepnote_index_column": 39
        },
        {
         "Unnamed: 0": "2019-09-02 17:00:00+01:00",
         "Close": 0.2578000128269195,
         "trend_aroon_up": 88,
         "trend_aroon_down": 4,
         "aroon_signal": 0,
         "aroon_position": 1,
         "_deepnote_index_column": 40
        },
        {
         "Unnamed: 0": "2019-09-02 18:00:00+01:00",
         "Close": 0.2587000131607055,
         "trend_aroon_up": 100,
         "trend_aroon_down": 4,
         "aroon_signal": 0,
         "aroon_position": 1,
         "_deepnote_index_column": 41
        },
        {
         "Unnamed: 0": "2019-09-02 19:00:00+01:00",
         "Close": 0.260699987411499,
         "trend_aroon_up": 100,
         "trend_aroon_down": 56.00000000000001,
         "aroon_signal": 0,
         "aroon_position": 1,
         "_deepnote_index_column": 42
        },
        {
         "Unnamed: 0": "2019-09-02 20:00:00+01:00",
         "Close": 0.2608999907970428,
         "trend_aroon_up": 100,
         "trend_aroon_down": 52,
         "aroon_signal": 0,
         "aroon_position": 1,
         "_deepnote_index_column": 43
        },
        {
         "Unnamed: 0": "2019-09-02 21:00:00+01:00",
         "Close": 0.2628999948501587,
         "trend_aroon_up": 100,
         "trend_aroon_down": 48,
         "aroon_signal": 0,
         "aroon_position": 1,
         "_deepnote_index_column": 44
        },
        {
         "Unnamed: 0": "2019-09-02 22:00:00+01:00",
         "Close": 0.2630999982357025,
         "trend_aroon_up": 100,
         "trend_aroon_down": 44,
         "aroon_signal": 0,
         "aroon_position": 1,
         "_deepnote_index_column": 45
        },
        {
         "Unnamed: 0": "2019-09-02 23:00:00+01:00",
         "Close": 0.2624000012874603,
         "trend_aroon_up": 96,
         "trend_aroon_down": 40,
         "aroon_signal": 0,
         "aroon_position": 1,
         "_deepnote_index_column": 46
        },
        {
         "Unnamed: 0": "2019-09-03 00:00:00+01:00",
         "Close": 0.261599987745285,
         "trend_aroon_up": 92,
         "trend_aroon_down": 36,
         "aroon_signal": 0,
         "aroon_position": 1,
         "_deepnote_index_column": 47
        },
        {
         "Unnamed: 0": "2019-09-03 01:00:00+01:00",
         "Close": 0.2608000040054321,
         "trend_aroon_up": 88,
         "trend_aroon_down": 32,
         "aroon_signal": 0,
         "aroon_position": 1,
         "_deepnote_index_column": 48
        },
        {
         "Unnamed: 0": "2019-09-03 02:00:00+01:00",
         "Close": 0.2606000006198883,
         "trend_aroon_up": 84,
         "trend_aroon_down": 28.000000000000004,
         "aroon_signal": 0,
         "aroon_position": 1,
         "_deepnote_index_column": 49
        },
        {
         "Unnamed: 0": "2019-09-03 03:00:00+01:00",
         "Close": 0.2608000040054321,
         "trend_aroon_up": 80,
         "trend_aroon_down": 24,
         "aroon_signal": 0,
         "aroon_position": 1,
         "_deepnote_index_column": 50
        },
        {
         "Unnamed: 0": "2019-09-03 04:00:00+01:00",
         "Close": 0.2615000009536743,
         "trend_aroon_up": 76,
         "trend_aroon_down": 20,
         "aroon_signal": 0,
         "aroon_position": 1,
         "_deepnote_index_column": 51
        },
        {
         "Unnamed: 0": "2019-09-03 05:00:00+01:00",
         "Close": 0.2614000141620636,
         "trend_aroon_up": 72,
         "trend_aroon_down": 16,
         "aroon_signal": 0,
         "aroon_position": 1,
         "_deepnote_index_column": 52
        },
        {
         "Unnamed: 0": "2019-09-03 06:00:00+01:00",
         "Close": 0.2612999975681305,
         "trend_aroon_up": 68,
         "trend_aroon_down": 12,
         "aroon_signal": 0,
         "aroon_position": 1,
         "_deepnote_index_column": 53
        },
        {
         "Unnamed: 0": "2019-09-03 07:00:00+01:00",
         "Close": 0.2610000073909759,
         "trend_aroon_up": 64,
         "trend_aroon_down": 8,
         "aroon_signal": 0,
         "aroon_position": 1,
         "_deepnote_index_column": 54
        },
        {
         "Unnamed: 0": "2019-09-03 08:00:00+01:00",
         "Close": 0.260699987411499,
         "trend_aroon_up": 60,
         "trend_aroon_down": 4,
         "aroon_signal": 0,
         "aroon_position": 1,
         "_deepnote_index_column": 55
        },
        {
         "Unnamed: 0": "2019-09-03 09:00:00+01:00",
         "Close": 0.2603999972343445,
         "trend_aroon_up": 56.00000000000001,
         "trend_aroon_down": 4,
         "aroon_signal": 0,
         "aroon_position": 1,
         "_deepnote_index_column": 56
        },
        {
         "Unnamed: 0": "2019-09-03 10:00:00+01:00",
         "Close": 0.258899986743927,
         "trend_aroon_up": 52,
         "trend_aroon_down": 8,
         "aroon_signal": 0,
         "aroon_position": 1,
         "_deepnote_index_column": 57
        },
        {
         "Unnamed: 0": "2019-09-03 11:00:00+01:00",
         "Close": 0.2601000070571899,
         "trend_aroon_up": 48,
         "trend_aroon_down": 4,
         "aroon_signal": 0,
         "aroon_position": 1,
         "_deepnote_index_column": 58
        },
        {
         "Unnamed: 0": "2019-09-03 12:00:00+01:00",
         "Close": 0.2601000070571899,
         "trend_aroon_up": 44,
         "trend_aroon_down": 8,
         "aroon_signal": 0,
         "aroon_position": 1,
         "_deepnote_index_column": 59
        },
        {
         "Unnamed: 0": "2019-09-03 13:00:00+01:00",
         "Close": 0.2621000111103058,
         "trend_aroon_up": 40,
         "trend_aroon_down": 4,
         "aroon_signal": 0,
         "aroon_position": 1,
         "_deepnote_index_column": 60
        },
        {
         "Unnamed: 0": "2019-09-03 14:00:00+01:00",
         "Close": 0.2646999955177307,
         "trend_aroon_up": 100,
         "trend_aroon_down": 12,
         "aroon_signal": 0,
         "aroon_position": 1,
         "_deepnote_index_column": 61
        },
        {
         "Unnamed: 0": "2019-09-03 15:00:00+01:00",
         "Close": 0.2635000050067901,
         "trend_aroon_up": 96,
         "trend_aroon_down": 8,
         "aroon_signal": 0,
         "aroon_position": 1,
         "_deepnote_index_column": 62
        },
        {
         "Unnamed: 0": "2019-09-03 16:00:00+01:00",
         "Close": 0.2637999951839447,
         "trend_aroon_up": 92,
         "trend_aroon_down": 4,
         "aroon_signal": 0,
         "aroon_position": 1,
         "_deepnote_index_column": 63
        },
        {
         "Unnamed: 0": "2019-09-03 17:00:00+01:00",
         "Close": 0.2630000114440918,
         "trend_aroon_up": 88,
         "trend_aroon_down": 4,
         "aroon_signal": 0,
         "aroon_position": 1,
         "_deepnote_index_column": 64
        },
        {
         "Unnamed: 0": "2019-09-03 18:00:00+01:00",
         "Close": 0.2619999945163727,
         "trend_aroon_up": 84,
         "trend_aroon_down": 4,
         "aroon_signal": 0,
         "aroon_position": 1,
         "_deepnote_index_column": 65
        },
        {
         "Unnamed: 0": "2019-09-03 19:00:00+01:00",
         "Close": 0.2619999945163727,
         "trend_aroon_up": 80,
         "trend_aroon_down": 64,
         "aroon_signal": 0,
         "aroon_position": 1,
         "_deepnote_index_column": 66
        },
        {
         "Unnamed: 0": "2019-09-03 20:00:00+01:00",
         "Close": 0.2624000012874603,
         "trend_aroon_up": 76,
         "trend_aroon_down": 60,
         "aroon_signal": 0,
         "aroon_position": 1,
         "_deepnote_index_column": 67
        },
        {
         "Unnamed: 0": "2019-09-03 21:00:00+01:00",
         "Close": 0.263399988412857,
         "trend_aroon_up": 72,
         "trend_aroon_down": 56.00000000000001,
         "aroon_signal": 0,
         "aroon_position": 1,
         "_deepnote_index_column": 68
        },
        {
         "Unnamed: 0": "2019-09-03 22:00:00+01:00",
         "Close": 0.2640999853610992,
         "trend_aroon_up": 68,
         "trend_aroon_down": 52,
         "aroon_signal": 0,
         "aroon_position": 1,
         "_deepnote_index_column": 69
        },
        {
         "Unnamed: 0": "2019-09-03 23:00:00+01:00",
         "Close": 0.26460000872612,
         "trend_aroon_up": 64,
         "trend_aroon_down": 48,
         "aroon_signal": 0,
         "aroon_position": 1,
         "_deepnote_index_column": 70
        },
        {
         "Unnamed: 0": "2019-09-04 00:00:00+01:00",
         "Close": 0.2632000148296356,
         "trend_aroon_up": 60,
         "trend_aroon_down": 44,
         "aroon_signal": 0,
         "aroon_position": 1,
         "_deepnote_index_column": 71
        },
        {
         "Unnamed: 0": "2019-09-04 01:00:00+01:00",
         "Close": 0.2626999914646148,
         "trend_aroon_up": 56.00000000000001,
         "trend_aroon_down": 40,
         "aroon_signal": 0,
         "aroon_position": 1,
         "_deepnote_index_column": 72
        },
        {
         "Unnamed: 0": "2019-09-04 02:00:00+01:00",
         "Close": 0.2619000077247619,
         "trend_aroon_up": 52,
         "trend_aroon_down": 36,
         "aroon_signal": 0,
         "aroon_position": 1,
         "_deepnote_index_column": 73
        },
        {
         "Unnamed: 0": "2019-09-04 03:00:00+01:00",
         "Close": 0.261599987745285,
         "trend_aroon_up": 48,
         "trend_aroon_down": 32,
         "aroon_signal": 0,
         "aroon_position": 1,
         "_deepnote_index_column": 74
        },
        {
         "Unnamed: 0": "2019-09-04 04:00:00+01:00",
         "Close": 0.2623000144958496,
         "trend_aroon_up": 44,
         "trend_aroon_down": 28.000000000000004,
         "aroon_signal": 0,
         "aroon_position": 1,
         "_deepnote_index_column": 75
        },
        {
         "Unnamed: 0": "2019-09-04 05:00:00+01:00",
         "Close": 0.2608999907970428,
         "trend_aroon_up": 40,
         "trend_aroon_down": 24,
         "aroon_signal": 0,
         "aroon_position": 1,
         "_deepnote_index_column": 76
        },
        {
         "Unnamed: 0": "2019-09-04 06:00:00+01:00",
         "Close": 0.260699987411499,
         "trend_aroon_up": 36,
         "trend_aroon_down": 20,
         "aroon_signal": 0,
         "aroon_position": 1,
         "_deepnote_index_column": 77
        },
        {
         "Unnamed: 0": "2019-09-04 07:00:00+01:00",
         "Close": 0.2606000006198883,
         "trend_aroon_up": 32,
         "trend_aroon_down": 16,
         "aroon_signal": 0,
         "aroon_position": 1,
         "_deepnote_index_column": 78
        },
        {
         "Unnamed: 0": "2019-09-04 08:00:00+01:00",
         "Close": 0.2605000138282776,
         "trend_aroon_up": 28.000000000000004,
         "trend_aroon_down": 12,
         "aroon_signal": 0,
         "aroon_position": 1,
         "_deepnote_index_column": 79
        },
        {
         "Unnamed: 0": "2019-09-04 09:00:00+01:00",
         "Close": 0.258899986743927,
         "trend_aroon_up": 24,
         "trend_aroon_down": 8,
         "aroon_signal": 0,
         "aroon_position": 1,
         "_deepnote_index_column": 80
        },
        {
         "Unnamed: 0": "2019-09-04 10:00:00+01:00",
         "Close": 0.2597000002861023,
         "trend_aroon_up": 20,
         "trend_aroon_down": 4,
         "aroon_signal": 0,
         "aroon_position": 1,
         "_deepnote_index_column": 81
        },
        {
         "Unnamed: 0": "2019-09-04 11:00:00+01:00",
         "Close": 0.2596000134944916,
         "trend_aroon_up": 16,
         "trend_aroon_down": 92,
         "aroon_signal": -1,
         "aroon_position": 0,
         "_deepnote_index_column": 82
        }
       ],
       "rows_bottom": [
        {
         "Unnamed: 0": "2021-08-07 18:00:00+01:00",
         "Close": 0.79237300157547,
         "trend_aroon_up": 92,
         "trend_aroon_down": 20,
         "aroon_signal": 0,
         "aroon_position": 1,
         "_deepnote_index_column": 16921
        },
        {
         "Unnamed: 0": "2021-08-07 19:00:00+01:00",
         "Close": 0.7993141412734985,
         "trend_aroon_up": 88,
         "trend_aroon_down": 16,
         "aroon_signal": 0,
         "aroon_position": 1,
         "_deepnote_index_column": 16922
        },
        {
         "Unnamed: 0": "2021-08-07 20:00:00+01:00",
         "Close": 0.8037920594215393,
         "trend_aroon_up": 84,
         "trend_aroon_down": 12,
         "aroon_signal": 0,
         "aroon_position": 1,
         "_deepnote_index_column": 16923
        },
        {
         "Unnamed: 0": "2021-08-07 21:00:00+01:00",
         "Close": 0.8045597076416016,
         "trend_aroon_up": 80,
         "trend_aroon_down": 8,
         "aroon_signal": 0,
         "aroon_position": 1,
         "_deepnote_index_column": 16924
        },
        {
         "Unnamed: 0": "2021-08-07 22:00:00+01:00",
         "Close": 0.7986745834350586,
         "trend_aroon_up": 76,
         "trend_aroon_down": 4,
         "aroon_signal": 0,
         "aroon_position": 1,
         "_deepnote_index_column": 16925
        },
        {
         "Unnamed: 0": "2021-08-07 23:00:00+01:00",
         "Close": 0.8053690195083618,
         "trend_aroon_up": 72,
         "trend_aroon_down": 4,
         "aroon_signal": 0,
         "aroon_position": 1,
         "_deepnote_index_column": 16926
        },
        {
         "Unnamed: 0": "2021-08-08 00:00:00+01:00",
         "Close": 0.8162810802459717,
         "trend_aroon_up": 100,
         "trend_aroon_down": 4,
         "aroon_signal": 0,
         "aroon_position": 1,
         "_deepnote_index_column": 16927
        },
        {
         "Unnamed: 0": "2021-08-08 01:00:00+01:00",
         "Close": 0.8304288983345032,
         "trend_aroon_up": 100,
         "trend_aroon_down": 4,
         "aroon_signal": 0,
         "aroon_position": 1,
         "_deepnote_index_column": 16928
        },
        {
         "Unnamed: 0": "2021-08-08 02:00:00+01:00",
         "Close": 0.8090371489524841,
         "trend_aroon_up": 96,
         "trend_aroon_down": 4,
         "aroon_signal": 0,
         "aroon_position": 1,
         "_deepnote_index_column": 16929
        },
        {
         "Unnamed: 0": "2021-08-08 03:00:00+01:00",
         "Close": 0.8017366528511047,
         "trend_aroon_up": 92,
         "trend_aroon_down": 24,
         "aroon_signal": 0,
         "aroon_position": 1,
         "_deepnote_index_column": 16930
        },
        {
         "Unnamed: 0": "2021-08-08 04:00:00+01:00",
         "Close": 0.8178030252456665,
         "trend_aroon_up": 88,
         "trend_aroon_down": 20,
         "aroon_signal": 0,
         "aroon_position": 1,
         "_deepnote_index_column": 16931
        },
        {
         "Unnamed: 0": "2021-08-08 05:00:00+01:00",
         "Close": 0.8164565563201904,
         "trend_aroon_up": 84,
         "trend_aroon_down": 16,
         "aroon_signal": 0,
         "aroon_position": 1,
         "_deepnote_index_column": 16932
        },
        {
         "Unnamed: 0": "2021-08-08 06:00:00+01:00",
         "Close": 0.8221371173858643,
         "trend_aroon_up": 80,
         "trend_aroon_down": 12,
         "aroon_signal": 0,
         "aroon_position": 1,
         "_deepnote_index_column": 16933
        },
        {
         "Unnamed: 0": "2021-08-08 07:00:00+01:00",
         "Close": 0.8285307884216309,
         "trend_aroon_up": 76,
         "trend_aroon_down": 8,
         "aroon_signal": 0,
         "aroon_position": 1,
         "_deepnote_index_column": 16934
        },
        {
         "Unnamed: 0": "2021-08-08 08:00:00+01:00",
         "Close": 0.8223246335983276,
         "trend_aroon_up": 72,
         "trend_aroon_down": 4,
         "aroon_signal": 0,
         "aroon_position": 1,
         "_deepnote_index_column": 16935
        },
        {
         "Unnamed: 0": "2021-08-08 09:00:00+01:00",
         "Close": 0.8114379644393921,
         "trend_aroon_up": 68,
         "trend_aroon_down": 4,
         "aroon_signal": 0,
         "aroon_position": 1,
         "_deepnote_index_column": 16936
        },
        {
         "Unnamed: 0": "2021-08-08 10:00:00+01:00",
         "Close": 0.8126380443572998,
         "trend_aroon_up": 64,
         "trend_aroon_down": 20,
         "aroon_signal": 0,
         "aroon_position": 1,
         "_deepnote_index_column": 16937
        },
        {
         "Unnamed: 0": "2021-08-08 11:00:00+01:00",
         "Close": 0.8030365109443665,
         "trend_aroon_up": 60,
         "trend_aroon_down": 16,
         "aroon_signal": 0,
         "aroon_position": 1,
         "_deepnote_index_column": 16938
        },
        {
         "Unnamed: 0": "2021-08-08 12:00:00+01:00",
         "Close": 0.8001503944396973,
         "trend_aroon_up": 56.00000000000001,
         "trend_aroon_down": 12,
         "aroon_signal": 0,
         "aroon_position": 1,
         "_deepnote_index_column": 16939
        },
        {
         "Unnamed: 0": "2021-08-08 13:00:00+01:00",
         "Close": 0.8123614192008972,
         "trend_aroon_up": 52,
         "trend_aroon_down": 8,
         "aroon_signal": 0,
         "aroon_position": 1,
         "_deepnote_index_column": 16940
        },
        {
         "Unnamed: 0": "2021-08-08 14:00:00+01:00",
         "Close": 0.8075140118598938,
         "trend_aroon_up": 48,
         "trend_aroon_down": 4,
         "aroon_signal": 0,
         "aroon_position": 1,
         "_deepnote_index_column": 16941
        },
        {
         "Unnamed: 0": "2021-08-08 15:00:00+01:00",
         "Close": 0.7874436974525452,
         "trend_aroon_up": 44,
         "trend_aroon_down": 100,
         "aroon_signal": 0,
         "aroon_position": 1,
         "_deepnote_index_column": 16942
        },
        {
         "Unnamed: 0": "2021-08-08 16:00:00+01:00",
         "Close": 0.7861583828926086,
         "trend_aroon_up": 40,
         "trend_aroon_down": 100,
         "aroon_signal": 0,
         "aroon_position": 1,
         "_deepnote_index_column": 16943
        },
        {
         "Unnamed: 0": "2021-08-08 17:00:00+01:00",
         "Close": 0.779674768447876,
         "trend_aroon_up": 36,
         "trend_aroon_down": 100,
         "aroon_signal": 0,
         "aroon_position": 1,
         "_deepnote_index_column": 16944
        },
        {
         "Unnamed: 0": "2021-08-08 18:00:00+01:00",
         "Close": 0.7871766686439514,
         "trend_aroon_up": 32,
         "trend_aroon_down": 96,
         "aroon_signal": 0,
         "aroon_position": 1,
         "_deepnote_index_column": 16945
        },
        {
         "Unnamed: 0": "2021-08-08 19:00:00+01:00",
         "Close": 0.7815697193145752,
         "trend_aroon_up": 28.000000000000004,
         "trend_aroon_down": 92,
         "aroon_signal": -1,
         "aroon_position": 0,
         "_deepnote_index_column": 16946
        },
        {
         "Unnamed: 0": "2021-08-08 20:00:00+01:00",
         "Close": 0.778918445110321,
         "trend_aroon_up": 24,
         "trend_aroon_down": 100,
         "aroon_signal": 0,
         "aroon_position": 0,
         "_deepnote_index_column": 16947
        },
        {
         "Unnamed: 0": "2021-08-08 21:00:00+01:00",
         "Close": 0.7842029929161072,
         "trend_aroon_up": 20,
         "trend_aroon_down": 96,
         "aroon_signal": 0,
         "aroon_position": 0,
         "_deepnote_index_column": 16948
        },
        {
         "Unnamed: 0": "2021-08-08 22:00:00+01:00",
         "Close": 0.7921290397644043,
         "trend_aroon_up": 16,
         "trend_aroon_down": 92,
         "aroon_signal": 0,
         "aroon_position": 0,
         "_deepnote_index_column": 16949
        },
        {
         "Unnamed: 0": "2021-08-08 23:00:00+01:00",
         "Close": 0.7942468523979187,
         "trend_aroon_up": 12,
         "trend_aroon_down": 88,
         "aroon_signal": 0,
         "aroon_position": 0,
         "_deepnote_index_column": 16950
        },
        {
         "Unnamed: 0": "2021-08-09 00:00:00+01:00",
         "Close": 0.7787393927574158,
         "trend_aroon_up": 8,
         "trend_aroon_down": 100,
         "aroon_signal": 0,
         "aroon_position": 0,
         "_deepnote_index_column": 16951
        },
        {
         "Unnamed: 0": "2021-08-09 01:00:00+01:00",
         "Close": 0.7659614086151123,
         "trend_aroon_up": 4,
         "trend_aroon_down": 100,
         "aroon_signal": 0,
         "aroon_position": 0,
         "_deepnote_index_column": 16952
        },
        {
         "Unnamed: 0": "2021-08-09 02:00:00+01:00",
         "Close": 0.7699768543243408,
         "trend_aroon_up": 24,
         "trend_aroon_down": 96,
         "aroon_signal": 0,
         "aroon_position": 0,
         "_deepnote_index_column": 16953
        },
        {
         "Unnamed: 0": "2021-08-09 03:00:00+01:00",
         "Close": 0.7788583636283875,
         "trend_aroon_up": 20,
         "trend_aroon_down": 92,
         "aroon_signal": 0,
         "aroon_position": 0,
         "_deepnote_index_column": 16954
        },
        {
         "Unnamed: 0": "2021-08-09 04:00:00+01:00",
         "Close": 0.7826113104820251,
         "trend_aroon_up": 16,
         "trend_aroon_down": 88,
         "aroon_signal": 0,
         "aroon_position": 0,
         "_deepnote_index_column": 16955
        },
        {
         "Unnamed: 0": "2021-08-09 05:00:00+01:00",
         "Close": 0.7949040532112122,
         "trend_aroon_up": 12,
         "trend_aroon_down": 84,
         "aroon_signal": 0,
         "aroon_position": 0,
         "_deepnote_index_column": 16956
        },
        {
         "Unnamed: 0": "2021-08-09 06:00:00+01:00",
         "Close": 0.7881271839141846,
         "trend_aroon_up": 8,
         "trend_aroon_down": 80,
         "aroon_signal": 0,
         "aroon_position": 0,
         "_deepnote_index_column": 16957
        },
        {
         "Unnamed: 0": "2021-08-09 07:00:00+01:00",
         "Close": 0.787296712398529,
         "trend_aroon_up": 4,
         "trend_aroon_down": 76,
         "aroon_signal": 0,
         "aroon_position": 0,
         "_deepnote_index_column": 16958
        },
        {
         "Unnamed: 0": "2021-08-09 08:00:00+01:00",
         "Close": 0.7967813014984131,
         "trend_aroon_up": 4,
         "trend_aroon_down": 72,
         "aroon_signal": 0,
         "aroon_position": 0,
         "_deepnote_index_column": 16959
        },
        {
         "Unnamed: 0": "2021-08-09 09:00:00+01:00",
         "Close": 0.7981806397438049,
         "trend_aroon_up": 8,
         "trend_aroon_down": 68,
         "aroon_signal": 0,
         "aroon_position": 0,
         "_deepnote_index_column": 16960
        },
        {
         "Unnamed: 0": "2021-08-09 10:00:00+01:00",
         "Close": 0.8096413016319275,
         "trend_aroon_up": 4,
         "trend_aroon_down": 64,
         "aroon_signal": 0,
         "aroon_position": 0,
         "_deepnote_index_column": 16961
        },
        {
         "Unnamed: 0": "2021-08-09 11:00:00+01:00",
         "Close": 0.816961407661438,
         "trend_aroon_up": 100,
         "trend_aroon_down": 60,
         "aroon_signal": 0,
         "aroon_position": 0,
         "_deepnote_index_column": 16962
        },
        {
         "Unnamed: 0": "2021-08-09 12:00:00+01:00",
         "Close": 0.8193760514259338,
         "trend_aroon_up": 100,
         "trend_aroon_down": 56.00000000000001,
         "aroon_signal": 0,
         "aroon_position": 0,
         "_deepnote_index_column": 16963
        },
        {
         "Unnamed: 0": "2021-08-09 13:00:00+01:00",
         "Close": 0.8166133165359497,
         "trend_aroon_up": 96,
         "trend_aroon_down": 52,
         "aroon_signal": 0,
         "aroon_position": 0,
         "_deepnote_index_column": 16964
        },
        {
         "Unnamed: 0": "2021-08-09 14:00:00+01:00",
         "Close": 0.8115898370742798,
         "trend_aroon_up": 92,
         "trend_aroon_down": 48,
         "aroon_signal": 0,
         "aroon_position": 0,
         "_deepnote_index_column": 16965
        },
        {
         "Unnamed: 0": "2021-08-09 15:00:00+01:00",
         "Close": 0.8130114674568176,
         "trend_aroon_up": 88,
         "trend_aroon_down": 44,
         "aroon_signal": 0,
         "aroon_position": 0,
         "_deepnote_index_column": 16966
        },
        {
         "Unnamed: 0": "2021-08-09 16:00:00+01:00",
         "Close": 0.8204382061958313,
         "trend_aroon_up": 100,
         "trend_aroon_down": 40,
         "aroon_signal": 0,
         "aroon_position": 0,
         "_deepnote_index_column": 16967
        },
        {
         "Unnamed: 0": "2021-08-09 17:00:00+01:00",
         "Close": 0.817124605178833,
         "trend_aroon_up": 96,
         "trend_aroon_down": 36,
         "aroon_signal": 0,
         "aroon_position": 0,
         "_deepnote_index_column": 16968
        },
        {
         "Unnamed: 0": "2021-08-09 18:00:00+01:00",
         "Close": 0.8183885216712952,
         "trend_aroon_up": 92,
         "trend_aroon_down": 32,
         "aroon_signal": 0,
         "aroon_position": 0,
         "_deepnote_index_column": 16969
        },
        {
         "Unnamed: 0": "2021-08-09 19:00:00+01:00",
         "Close": 0.8223690390586853,
         "trend_aroon_up": 100,
         "trend_aroon_down": 28.000000000000004,
         "aroon_signal": 1,
         "aroon_position": 1,
         "_deepnote_index_column": 16970
        },
        {
         "Unnamed: 0": "2021-08-09 20:00:00+01:00",
         "Close": 0.8158291578292847,
         "trend_aroon_up": 96,
         "trend_aroon_down": 24,
         "aroon_signal": 0,
         "aroon_position": 1,
         "_deepnote_index_column": 16971
        },
        {
         "Unnamed: 0": "2021-08-09 21:00:00+01:00",
         "Close": 0.8055914044380188,
         "trend_aroon_up": 92,
         "trend_aroon_down": 20,
         "aroon_signal": 0,
         "aroon_position": 1,
         "_deepnote_index_column": 16972
        },
        {
         "Unnamed: 0": "2021-08-09 22:00:00+01:00",
         "Close": 0.8096583485603333,
         "trend_aroon_up": 88,
         "trend_aroon_down": 16,
         "aroon_signal": 0,
         "aroon_position": 1,
         "_deepnote_index_column": 16973
        },
        {
         "Unnamed: 0": "2021-08-09 23:00:00+01:00",
         "Close": 0.8194264769554138,
         "trend_aroon_up": 84,
         "trend_aroon_down": 12,
         "aroon_signal": 0,
         "aroon_position": 1,
         "_deepnote_index_column": 16974
        },
        {
         "Unnamed: 0": "2021-08-10 00:00:00+01:00",
         "Close": 0.8185535073280334,
         "trend_aroon_up": 80,
         "trend_aroon_down": 8,
         "aroon_signal": 0,
         "aroon_position": 1,
         "_deepnote_index_column": 16975
        },
        {
         "Unnamed: 0": "2021-08-10 01:00:00+01:00",
         "Close": 0.8124653100967407,
         "trend_aroon_up": 76,
         "trend_aroon_down": 4,
         "aroon_signal": 0,
         "aroon_position": 1,
         "_deepnote_index_column": 16976
        },
        {
         "Unnamed: 0": "2021-08-10 02:00:00+01:00",
         "Close": 0.811424195766449,
         "trend_aroon_up": 72,
         "trend_aroon_down": 4,
         "aroon_signal": 0,
         "aroon_position": 1,
         "_deepnote_index_column": 16977
        },
        {
         "Unnamed: 0": "2021-08-10 03:00:00+01:00",
         "Close": 0.8144153356552124,
         "trend_aroon_up": 68,
         "trend_aroon_down": 4,
         "aroon_signal": 0,
         "aroon_position": 1,
         "_deepnote_index_column": 16978
        },
        {
         "Unnamed: 0": "2021-08-10 04:00:00+01:00",
         "Close": 0.8044356107711792,
         "trend_aroon_up": 64,
         "trend_aroon_down": 4,
         "aroon_signal": 0,
         "aroon_position": 1,
         "_deepnote_index_column": 16979
        },
        {
         "Unnamed: 0": "2021-08-10 05:00:00+01:00",
         "Close": 0.8098970651626587,
         "trend_aroon_up": 60,
         "trend_aroon_down": 12,
         "aroon_signal": 0,
         "aroon_position": 1,
         "_deepnote_index_column": 16980
        },
        {
         "Unnamed: 0": "2021-08-10 06:00:00+01:00",
         "Close": 0.8105202913284302,
         "trend_aroon_up": 56.00000000000001,
         "trend_aroon_down": 8,
         "aroon_signal": 0,
         "aroon_position": 1,
         "_deepnote_index_column": 16981
        },
        {
         "Unnamed: 0": "2021-08-10 07:00:00+01:00",
         "Close": 0.8169611692428589,
         "trend_aroon_up": 52,
         "trend_aroon_down": 4,
         "aroon_signal": 0,
         "aroon_position": 1,
         "_deepnote_index_column": 16982
        },
        {
         "Unnamed: 0": "2021-08-10 08:00:00+01:00",
         "Close": 0.8193774223327637,
         "trend_aroon_up": 48,
         "trend_aroon_down": 4,
         "aroon_signal": 0,
         "aroon_position": 1,
         "_deepnote_index_column": 16983
        },
        {
         "Unnamed: 0": "2021-08-10 09:00:00+01:00",
         "Close": 0.8201133012771606,
         "trend_aroon_up": 44,
         "trend_aroon_down": 4,
         "aroon_signal": 0,
         "aroon_position": 1,
         "_deepnote_index_column": 16984
        },
        {
         "Unnamed: 0": "2021-08-10 10:00:00+01:00",
         "Close": 0.8198803067207336,
         "trend_aroon_up": 40,
         "trend_aroon_down": 76,
         "aroon_signal": 0,
         "aroon_position": 1,
         "_deepnote_index_column": 16985
        },
        {
         "Unnamed: 0": "2021-08-10 11:00:00+01:00",
         "Close": 0.807433009147644,
         "trend_aroon_up": 36,
         "trend_aroon_down": 72,
         "aroon_signal": 0,
         "aroon_position": 1,
         "_deepnote_index_column": 16986
        },
        {
         "Unnamed: 0": "2021-08-10 12:00:00+01:00",
         "Close": 0.8152583837509155,
         "trend_aroon_up": 32,
         "trend_aroon_down": 68,
         "aroon_signal": 0,
         "aroon_position": 1,
         "_deepnote_index_column": 16987
        },
        {
         "Unnamed: 0": "2021-08-10 13:00:00+01:00",
         "Close": 0.8490090370178223,
         "trend_aroon_up": 100,
         "trend_aroon_down": 64,
         "aroon_signal": 0,
         "aroon_position": 1,
         "_deepnote_index_column": 16988
        },
        {
         "Unnamed: 0": "2021-08-10 14:00:00+01:00",
         "Close": 0.8354390263557434,
         "trend_aroon_up": 96,
         "trend_aroon_down": 60,
         "aroon_signal": 0,
         "aroon_position": 1,
         "_deepnote_index_column": 16989
        },
        {
         "Unnamed: 0": "2021-08-10 15:00:00+01:00",
         "Close": 0.8288268446922302,
         "trend_aroon_up": 92,
         "trend_aroon_down": 56.00000000000001,
         "aroon_signal": 0,
         "aroon_position": 1,
         "_deepnote_index_column": 16990
        },
        {
         "Unnamed: 0": "2021-08-10 16:00:00+01:00",
         "Close": 0.8237518072128296,
         "trend_aroon_up": 88,
         "trend_aroon_down": 52,
         "aroon_signal": 0,
         "aroon_position": 1,
         "_deepnote_index_column": 16991
        },
        {
         "Unnamed: 0": "2021-08-10 17:00:00+01:00",
         "Close": 0.8138244152069092,
         "trend_aroon_up": 84,
         "trend_aroon_down": 48,
         "aroon_signal": 0,
         "aroon_position": 1,
         "_deepnote_index_column": 16992
        },
        {
         "Unnamed: 0": "2021-08-10 18:00:00+01:00",
         "Close": 0.81997150182724,
         "trend_aroon_up": 80,
         "trend_aroon_down": 44,
         "aroon_signal": 0,
         "aroon_position": 1,
         "_deepnote_index_column": 16993
        },
        {
         "Unnamed: 0": "2021-08-10 19:00:00+01:00",
         "Close": 0.8261918425559998,
         "trend_aroon_up": 76,
         "trend_aroon_down": 40,
         "aroon_signal": 0,
         "aroon_position": 1,
         "_deepnote_index_column": 16994
        },
        {
         "Unnamed: 0": "2021-08-10 20:00:00+01:00",
         "Close": 0.8347495198249817,
         "trend_aroon_up": 72,
         "trend_aroon_down": 36,
         "aroon_signal": 0,
         "aroon_position": 1,
         "_deepnote_index_column": 16995
        },
        {
         "Unnamed: 0": "2021-08-10 21:00:00+01:00",
         "Close": 0.8428434133529663,
         "trend_aroon_up": 68,
         "trend_aroon_down": 32,
         "aroon_signal": 0,
         "aroon_position": 1,
         "_deepnote_index_column": 16996
        },
        {
         "Unnamed: 0": "2021-08-10 22:00:00+01:00",
         "Close": 0.8587751984596252,
         "trend_aroon_up": 100,
         "trend_aroon_down": 28.000000000000004,
         "aroon_signal": 0,
         "aroon_position": 1,
         "_deepnote_index_column": 16997
        },
        {
         "Unnamed: 0": "2021-08-10 23:00:00+01:00",
         "Close": 0.8559402227401733,
         "trend_aroon_up": 96,
         "trend_aroon_down": 24,
         "aroon_signal": 0,
         "aroon_position": 1,
         "_deepnote_index_column": 16998
        },
        {
         "Unnamed: 0": "2021-08-11 00:00:00+01:00",
         "Close": 0.8512465357780457,
         "trend_aroon_up": 92,
         "trend_aroon_down": 20,
         "aroon_signal": 0,
         "aroon_position": 1,
         "_deepnote_index_column": 16999
        },
        {
         "Unnamed: 0": "2021-08-11 01:00:00+01:00",
         "Close": 0.8692995309829712,
         "trend_aroon_up": 100,
         "trend_aroon_down": 16,
         "aroon_signal": 0,
         "aroon_position": 1,
         "_deepnote_index_column": 17000
        },
        {
         "Unnamed: 0": "2021-08-11 02:00:00+01:00",
         "Close": 0.8738873600959778,
         "trend_aroon_up": 100,
         "trend_aroon_down": 12,
         "aroon_signal": 0,
         "aroon_position": 1,
         "_deepnote_index_column": 17001
        },
        {
         "Unnamed: 0": "2021-08-11 03:00:00+01:00",
         "Close": 0.8756111860275269,
         "trend_aroon_up": 100,
         "trend_aroon_down": 8,
         "aroon_signal": 0,
         "aroon_position": 1,
         "_deepnote_index_column": 17002
        },
        {
         "Unnamed: 0": "2021-08-11 03:02:03+01:00",
         "Close": 0.8757168054580688,
         "trend_aroon_up": 100,
         "trend_aroon_down": 4,
         "aroon_signal": 0,
         "aroon_position": 1,
         "_deepnote_index_column": 17003
        }
       ]
      },
      "text/plain": "                      Unnamed: 0     Close  trend_aroon_up  trend_aroon_down  \\\n0      2019-09-01 01:00:00+01:00  0.259100             NaN               NaN   \n1      2019-09-01 02:00:00+01:00  0.258400             NaN               NaN   \n2      2019-09-01 03:00:00+01:00  0.257800             NaN               NaN   \n3      2019-09-01 04:00:00+01:00  0.258500             NaN               NaN   \n4      2019-09-01 05:00:00+01:00  0.258100             NaN               NaN   \n...                          ...       ...             ...               ...   \n16999  2021-08-11 00:00:00+01:00  0.851247            92.0              20.0   \n17000  2021-08-11 01:00:00+01:00  0.869300           100.0              16.0   \n17001  2021-08-11 02:00:00+01:00  0.873887           100.0              12.0   \n17002  2021-08-11 03:00:00+01:00  0.875611           100.0               8.0   \n17003  2021-08-11 03:02:03+01:00  0.875717           100.0               4.0   \n\n       aroon_signal  aroon_position  \n0                 0               1  \n1                 0               1  \n2                 0               1  \n3                 0               1  \n4                 0               1  \n...             ...             ...  \n16999             0               1  \n17000             0               1  \n17001             0               1  \n17002             0               1  \n17003             0               1  \n\n[17004 rows x 6 columns]",
      "text/html": "<div>\n<style scoped>\n    .dataframe tbody tr th:only-of-type {\n        vertical-align: middle;\n    }\n\n    .dataframe tbody tr th {\n        vertical-align: top;\n    }\n\n    .dataframe thead th {\n        text-align: right;\n    }\n</style>\n<table border=\"1\" class=\"dataframe\">\n  <thead>\n    <tr style=\"text-align: right;\">\n      <th></th>\n      <th>Unnamed: 0</th>\n      <th>Close</th>\n      <th>trend_aroon_up</th>\n      <th>trend_aroon_down</th>\n      <th>aroon_signal</th>\n      <th>aroon_position</th>\n    </tr>\n  </thead>\n  <tbody>\n    <tr>\n      <th>0</th>\n      <td>2019-09-01 01:00:00+01:00</td>\n      <td>0.259100</td>\n      <td>NaN</td>\n      <td>NaN</td>\n      <td>0</td>\n      <td>1</td>\n    </tr>\n    <tr>\n      <th>1</th>\n      <td>2019-09-01 02:00:00+01:00</td>\n      <td>0.258400</td>\n      <td>NaN</td>\n      <td>NaN</td>\n      <td>0</td>\n      <td>1</td>\n    </tr>\n    <tr>\n      <th>2</th>\n      <td>2019-09-01 03:00:00+01:00</td>\n      <td>0.257800</td>\n      <td>NaN</td>\n      <td>NaN</td>\n      <td>0</td>\n      <td>1</td>\n    </tr>\n    <tr>\n      <th>3</th>\n      <td>2019-09-01 04:00:00+01:00</td>\n      <td>0.258500</td>\n      <td>NaN</td>\n      <td>NaN</td>\n      <td>0</td>\n      <td>1</td>\n    </tr>\n    <tr>\n      <th>4</th>\n      <td>2019-09-01 05:00:00+01:00</td>\n      <td>0.258100</td>\n      <td>NaN</td>\n      <td>NaN</td>\n      <td>0</td>\n      <td>1</td>\n    </tr>\n    <tr>\n      <th>...</th>\n      <td>...</td>\n      <td>...</td>\n      <td>...</td>\n      <td>...</td>\n      <td>...</td>\n      <td>...</td>\n    </tr>\n    <tr>\n      <th>16999</th>\n      <td>2021-08-11 00:00:00+01:00</td>\n      <td>0.851247</td>\n      <td>92.0</td>\n      <td>20.0</td>\n      <td>0</td>\n      <td>1</td>\n    </tr>\n    <tr>\n      <th>17000</th>\n      <td>2021-08-11 01:00:00+01:00</td>\n      <td>0.869300</td>\n      <td>100.0</td>\n      <td>16.0</td>\n      <td>0</td>\n      <td>1</td>\n    </tr>\n    <tr>\n      <th>17001</th>\n      <td>2021-08-11 02:00:00+01:00</td>\n      <td>0.873887</td>\n      <td>100.0</td>\n      <td>12.0</td>\n      <td>0</td>\n      <td>1</td>\n    </tr>\n    <tr>\n      <th>17002</th>\n      <td>2021-08-11 03:00:00+01:00</td>\n      <td>0.875611</td>\n      <td>100.0</td>\n      <td>8.0</td>\n      <td>0</td>\n      <td>1</td>\n    </tr>\n    <tr>\n      <th>17003</th>\n      <td>2021-08-11 03:02:03+01:00</td>\n      <td>0.875717</td>\n      <td>100.0</td>\n      <td>4.0</td>\n      <td>0</td>\n      <td>1</td>\n    </tr>\n  </tbody>\n</table>\n<p>17004 rows × 6 columns</p>\n</div>"
     },
     "metadata": {}
    }
   ],
   "execution_count": 16
  },
  {
   "cell_type": "code",
   "source": "df3=pd.read_csv('/work/Fintech-Project2/TRADE_STRATS/XRP_RSI_TRADE_STRATEGY')\ndf3",
   "metadata": {
    "tags": [],
    "cell_id": "00004-56e18df0-0a5e-444a-b107-ef52b47c13d3",
    "deepnote_to_be_reexecuted": false,
    "source_hash": "a70ee69d",
    "execution_start": 1628648599645,
    "execution_millis": 91,
    "deepnote_cell_type": "code"
   },
   "outputs": [
    {
     "output_type": "execute_result",
     "execution_count": 17,
     "data": {
      "application/vnd.deepnote.dataframe.v2+json": {
       "row_count": 17002,
       "column_count": 5,
       "columns": [
        {
         "name": "Datetime",
         "dtype": "object",
         "stats": {
          "unique_count": 17002,
          "nan_count": 0,
          "categories": [
           {
            "name": "2019-09-01 01:00:00+01:00",
            "count": 1
           },
           {
            "name": "2019-09-01 02:00:00+01:00",
            "count": 1
           },
           {
            "name": "17000 others",
            "count": 17000
           }
          ]
         }
        },
        {
         "name": "Close",
         "dtype": "float64",
         "stats": {
          "unique_count": 16591,
          "nan_count": 0,
          "min": "0.1298504173755645",
          "max": "1.9378489255905151",
          "histogram": [
           {
            "bin_start": 0.1298504173755645,
            "bin_end": 0.31065026819705954,
            "count": 11355
           },
           {
            "bin_start": 0.31065026819705954,
            "bin_end": 0.4914501190185546,
            "count": 1233
           },
           {
            "bin_start": 0.4914501190185546,
            "bin_end": 0.6722499698400496,
            "count": 2101
           },
           {
            "bin_start": 0.6722499698400496,
            "bin_end": 0.8530498206615447,
            "count": 682
           },
           {
            "bin_start": 0.8530498206615447,
            "bin_end": 1.0338496714830399,
            "count": 596
           },
           {
            "bin_start": 1.0338496714830399,
            "bin_end": 1.2146495223045348,
            "count": 182
           },
           {
            "bin_start": 1.2146495223045348,
            "bin_end": 1.39544937312603,
            "count": 270
           },
           {
            "bin_start": 1.39544937312603,
            "bin_end": 1.576249223947525,
            "count": 343
           },
           {
            "bin_start": 1.576249223947525,
            "bin_end": 1.75704907476902,
            "count": 204
           },
           {
            "bin_start": 1.75704907476902,
            "bin_end": 1.9378489255905151,
            "count": 36
           }
          ]
         }
        },
        {
         "name": "RSI",
         "dtype": "float64",
         "stats": {
          "unique_count": 16973,
          "nan_count": 1,
          "min": "0.0",
          "max": "89.77691957545329",
          "histogram": [
           {
            "bin_start": 0,
            "bin_end": 8.977691957545328,
            "count": 10
           },
           {
            "bin_start": 8.977691957545328,
            "bin_end": 17.955383915090657,
            "count": 70
           },
           {
            "bin_start": 17.955383915090657,
            "bin_end": 26.933075872635985,
            "count": 389
           },
           {
            "bin_start": 26.933075872635985,
            "bin_end": 35.910767830181314,
            "count": 1338
           },
           {
            "bin_start": 35.910767830181314,
            "bin_end": 44.888459787726646,
            "count": 3500
           },
           {
            "bin_start": 44.888459787726646,
            "bin_end": 53.86615174527197,
            "count": 5419
           },
           {
            "bin_start": 53.86615174527197,
            "bin_end": 62.843843702817296,
            "count": 3980
           },
           {
            "bin_start": 62.843843702817296,
            "bin_end": 71.82153566036263,
            "count": 1597
           },
           {
            "bin_start": 71.82153566036263,
            "bin_end": 80.79922761790796,
            "count": 569
           },
           {
            "bin_start": 80.79922761790796,
            "bin_end": 89.77691957545329,
            "count": 129
           }
          ]
         }
        },
        {
         "name": "rsi_signal",
         "dtype": "int64",
         "stats": {
          "unique_count": 3,
          "nan_count": 0,
          "min": "-1",
          "max": "1",
          "histogram": [
           {
            "bin_start": -1,
            "bin_end": -0.8,
            "count": 57
           },
           {
            "bin_start": -0.8,
            "bin_end": -0.6,
            "count": 0
           },
           {
            "bin_start": -0.6,
            "bin_end": -0.3999999999999999,
            "count": 0
           },
           {
            "bin_start": -0.3999999999999999,
            "bin_end": -0.19999999999999996,
            "count": 0
           },
           {
            "bin_start": -0.19999999999999996,
            "bin_end": 0,
            "count": 0
           },
           {
            "bin_start": 0,
            "bin_end": 0.20000000000000018,
            "count": 16888
           },
           {
            "bin_start": 0.20000000000000018,
            "bin_end": 0.40000000000000013,
            "count": 0
           },
           {
            "bin_start": 0.40000000000000013,
            "bin_end": 0.6000000000000001,
            "count": 0
           },
           {
            "bin_start": 0.6000000000000001,
            "bin_end": 0.8,
            "count": 0
           },
           {
            "bin_start": 0.8,
            "bin_end": 1,
            "count": 57
           }
          ]
         }
        },
        {
         "name": "rsi_position",
         "dtype": "int64",
         "stats": {
          "unique_count": 2,
          "nan_count": 0,
          "min": "0",
          "max": "1",
          "histogram": [
           {
            "bin_start": 0,
            "bin_end": 0.1,
            "count": 8054
           },
           {
            "bin_start": 0.1,
            "bin_end": 0.2,
            "count": 0
           },
           {
            "bin_start": 0.2,
            "bin_end": 0.30000000000000004,
            "count": 0
           },
           {
            "bin_start": 0.30000000000000004,
            "bin_end": 0.4,
            "count": 0
           },
           {
            "bin_start": 0.4,
            "bin_end": 0.5,
            "count": 0
           },
           {
            "bin_start": 0.5,
            "bin_end": 0.6000000000000001,
            "count": 0
           },
           {
            "bin_start": 0.6000000000000001,
            "bin_end": 0.7000000000000001,
            "count": 0
           },
           {
            "bin_start": 0.7000000000000001,
            "bin_end": 0.8,
            "count": 0
           },
           {
            "bin_start": 0.8,
            "bin_end": 0.9,
            "count": 0
           },
           {
            "bin_start": 0.9,
            "bin_end": 1,
            "count": 8948
           }
          ]
         }
        },
        {
         "name": "_deepnote_index_column",
         "dtype": "int64"
        }
       ],
       "rows_top": [
        {
         "Datetime": "2019-09-01 01:00:00+01:00",
         "Close": 0.2590999901294708,
         "RSI": "nan",
         "rsi_signal": 0,
         "rsi_position": 1,
         "_deepnote_index_column": 0
        },
        {
         "Datetime": "2019-09-01 02:00:00+01:00",
         "Close": 0.2583999931812286,
         "RSI": 0,
         "rsi_signal": -1,
         "rsi_position": 0,
         "_deepnote_index_column": 1
        },
        {
         "Datetime": "2019-09-01 03:00:00+01:00",
         "Close": 0.2578000128269195,
         "RSI": 0,
         "rsi_signal": 0,
         "rsi_position": 0,
         "_deepnote_index_column": 2
        },
        {
         "Datetime": "2019-09-01 04:00:00+01:00",
         "Close": 0.2585000097751617,
         "RSI": 7.211196442120851,
         "rsi_signal": 0,
         "rsi_position": 0,
         "_deepnote_index_column": 3
        },
        {
         "Datetime": "2019-09-01 05:00:00+01:00",
         "Close": 0.2581000030040741,
         "RSI": 6.904779333782713,
         "rsi_signal": 0,
         "rsi_position": 0,
         "_deepnote_index_column": 4
        },
        {
         "Datetime": "2019-09-01 06:00:00+01:00",
         "Close": 0.2581000030040741,
         "RSI": 6.904779333782713,
         "rsi_signal": 0,
         "rsi_position": 0,
         "_deepnote_index_column": 5
        },
        {
         "Datetime": "2019-09-01 07:00:00+01:00",
         "Close": 0.2585000097751617,
         "RSI": 11.277088229297888,
         "rsi_signal": 0,
         "rsi_position": 0,
         "_deepnote_index_column": 6
        },
        {
         "Datetime": "2019-09-01 08:00:00+01:00",
         "Close": 0.2581999897956848,
         "RSI": 10.864917267255509,
         "rsi_signal": 0,
         "rsi_position": 0,
         "_deepnote_index_column": 7
        },
        {
         "Datetime": "2019-09-01 09:00:00+01:00",
         "Close": 0.2567000091075897,
         "RSI": 9.07839077574556,
         "rsi_signal": 0,
         "rsi_position": 0,
         "_deepnote_index_column": 8
        },
        {
         "Datetime": "2019-09-01 10:00:00+01:00",
         "Close": 0.2563999891281128,
         "RSI": 8.767845367956909,
         "rsi_signal": 0,
         "rsi_position": 0,
         "_deepnote_index_column": 9
        },
        {
         "Datetime": "2019-09-01 11:00:00+01:00",
         "Close": 0.2558000087738037,
         "RSI": 8.166242307125373,
         "rsi_signal": 0,
         "rsi_position": 0,
         "_deepnote_index_column": 10
        },
        {
         "Datetime": "2019-09-01 12:00:00+01:00",
         "Close": 0.2551000118255615,
         "RSI": 7.518101810101584,
         "rsi_signal": 0,
         "rsi_position": 0,
         "_deepnote_index_column": 11
        },
        {
         "Datetime": "2019-09-01 13:00:00+01:00",
         "Close": 0.2556999921798706,
         "RSI": 13.83092862719016,
         "rsi_signal": 0,
         "rsi_position": 0,
         "_deepnote_index_column": 12
        },
        {
         "Datetime": "2019-09-01 14:00:00+01:00",
         "Close": 0.2549000084400177,
         "RSI": 12.596293252773307,
         "rsi_signal": 0,
         "rsi_position": 0,
         "_deepnote_index_column": 13
        },
        {
         "Datetime": "2019-09-01 15:00:00+01:00",
         "Close": 0.2549999952316284,
         "RSI": 13.63400400845481,
         "rsi_signal": 0,
         "rsi_position": 0,
         "_deepnote_index_column": 14
        },
        {
         "Datetime": "2019-09-01 16:00:00+01:00",
         "Close": 0.2560999989509582,
         "RSI": 24.28444909672568,
         "rsi_signal": 0,
         "rsi_position": 0,
         "_deepnote_index_column": 15
        },
        {
         "Datetime": "2019-09-01 17:00:00+01:00",
         "Close": 0.2542000114917755,
         "RSI": 19.753320853726592,
         "rsi_signal": 0,
         "rsi_position": 0,
         "_deepnote_index_column": 16
        },
        {
         "Datetime": "2019-09-01 18:00:00+01:00",
         "Close": 0.2542000114917755,
         "RSI": 19.753320853726592,
         "rsi_signal": 0,
         "rsi_position": 0,
         "_deepnote_index_column": 17
        },
        {
         "Datetime": "2019-09-01 19:00:00+01:00",
         "Close": 0.2551999986171722,
         "RSI": 27.95825946554352,
         "rsi_signal": 0,
         "rsi_position": 0,
         "_deepnote_index_column": 18
        },
        {
         "Datetime": "2019-09-01 20:00:00+01:00",
         "Close": 0.2558999955654144,
         "RSI": 33.113766999712155,
         "rsi_signal": 0,
         "rsi_position": 0,
         "_deepnote_index_column": 19
        },
        {
         "Datetime": "2019-09-01 21:00:00+01:00",
         "Close": 0.2563999891281128,
         "RSI": 36.60360099409084,
         "rsi_signal": 0,
         "rsi_position": 0,
         "_deepnote_index_column": 20
        },
        {
         "Datetime": "2019-09-01 22:00:00+01:00",
         "Close": 0.2567999958992004,
         "RSI": 39.33084256574019,
         "rsi_signal": 0,
         "rsi_position": 0,
         "_deepnote_index_column": 21
        },
        {
         "Datetime": "2019-09-01 23:00:00+01:00",
         "Close": 0.2572999894618988,
         "RSI": 42.65178014840426,
         "rsi_signal": 0,
         "rsi_position": 0,
         "_deepnote_index_column": 22
        },
        {
         "Datetime": "2019-09-02 00:00:00+01:00",
         "Close": 0.2569000124931335,
         "RSI": 40.7310193486887,
         "rsi_signal": 0,
         "rsi_position": 0,
         "_deepnote_index_column": 23
        },
        {
         "Datetime": "2019-09-02 01:00:00+01:00",
         "Close": 0.2558000087738037,
         "RSI": 35.93775951237666,
         "rsi_signal": 0,
         "rsi_position": 0,
         "_deepnote_index_column": 24
        },
        {
         "Datetime": "2019-09-02 02:00:00+01:00",
         "Close": 0.2554999887943268,
         "RSI": 34.73704630562899,
         "rsi_signal": 0,
         "rsi_position": 0,
         "_deepnote_index_column": 25
        },
        {
         "Datetime": "2019-09-02 03:00:00+01:00",
         "Close": 0.2558000087738037,
         "RSI": 37.0037143215602,
         "rsi_signal": 0,
         "rsi_position": 0,
         "_deepnote_index_column": 26
        },
        {
         "Datetime": "2019-09-02 04:00:00+01:00",
         "Close": 0.2554999887943268,
         "RSI": 35.66956722727407,
         "rsi_signal": 0,
         "rsi_position": 0,
         "_deepnote_index_column": 27
        },
        {
         "Datetime": "2019-09-02 05:00:00+01:00",
         "Close": 0.2554999887943268,
         "RSI": 35.66956722727407,
         "rsi_signal": 0,
         "rsi_position": 0,
         "_deepnote_index_column": 28
        },
        {
         "Datetime": "2019-09-02 06:00:00+01:00",
         "Close": 0.2552999854087829,
         "RSI": 34.702242103600184,
         "rsi_signal": 0,
         "rsi_position": 0,
         "_deepnote_index_column": 29
        },
        {
         "Datetime": "2019-09-02 07:00:00+01:00",
         "Close": 0.2549999952316284,
         "RSI": 33.24588815538884,
         "rsi_signal": 0,
         "rsi_position": 0,
         "_deepnote_index_column": 30
        },
        {
         "Datetime": "2019-09-02 08:00:00+01:00",
         "Close": 0.2542999982833862,
         "RSI": 30.07428719671998,
         "rsi_signal": 0,
         "rsi_position": 0,
         "_deepnote_index_column": 31
        },
        {
         "Datetime": "2019-09-02 09:00:00+01:00",
         "Close": 0.2544000148773193,
         "RSI": 31.085888452420065,
         "rsi_signal": 0,
         "rsi_position": 0,
         "_deepnote_index_column": 32
        },
        {
         "Datetime": "2019-09-02 10:00:00+01:00",
         "Close": 0.2549999952316284,
         "RSI": 36.97605649032666,
         "rsi_signal": 0,
         "rsi_position": 0,
         "_deepnote_index_column": 33
        },
        {
         "Datetime": "2019-09-02 11:00:00+01:00",
         "Close": 0.2545999884605407,
         "RSI": 34.838145833313064,
         "rsi_signal": 0,
         "rsi_position": 0,
         "_deepnote_index_column": 34
        },
        {
         "Datetime": "2019-09-02 12:00:00+01:00",
         "Close": 0.2556999921798706,
         "RSI": 44.36460724968443,
         "rsi_signal": 0,
         "rsi_position": 0,
         "_deepnote_index_column": 35
        },
        {
         "Datetime": "2019-09-02 13:00:00+01:00",
         "Close": 0.2549999952316284,
         "RSI": 40.32449194501216,
         "rsi_signal": 0,
         "rsi_position": 0,
         "_deepnote_index_column": 36
        },
        {
         "Datetime": "2019-09-02 14:00:00+01:00",
         "Close": 0.257999986410141,
         "RSI": 57.98404971578489,
         "rsi_signal": 0,
         "rsi_position": 0,
         "_deepnote_index_column": 37
        },
        {
         "Datetime": "2019-09-02 15:00:00+01:00",
         "Close": 0.2576000094413757,
         "RSI": 55.62074255074792,
         "rsi_signal": 0,
         "rsi_position": 0,
         "_deepnote_index_column": 38
        },
        {
         "Datetime": "2019-09-02 16:00:00+01:00",
         "Close": 0.2569999992847442,
         "RSI": 52.18466595812119,
         "rsi_signal": 0,
         "rsi_position": 0,
         "_deepnote_index_column": 39
        },
        {
         "Datetime": "2019-09-02 17:00:00+01:00",
         "Close": 0.2578000128269195,
         "RSI": 56.0805528375338,
         "rsi_signal": 0,
         "rsi_position": 0,
         "_deepnote_index_column": 40
        },
        {
         "Datetime": "2019-09-02 18:00:00+01:00",
         "Close": 0.2587000131607055,
         "RSI": 60.02641788181284,
         "rsi_signal": 0,
         "rsi_position": 0,
         "_deepnote_index_column": 41
        },
        {
         "Datetime": "2019-09-02 19:00:00+01:00",
         "Close": 0.260699987411499,
         "RSI": 67.10011097181231,
         "rsi_signal": 0,
         "rsi_position": 0,
         "_deepnote_index_column": 42
        },
        {
         "Datetime": "2019-09-02 20:00:00+01:00",
         "Close": 0.2608999907970428,
         "RSI": 67.71538194122384,
         "rsi_signal": 0,
         "rsi_position": 0,
         "_deepnote_index_column": 43
        },
        {
         "Datetime": "2019-09-02 21:00:00+01:00",
         "Close": 0.2628999948501587,
         "RSI": 73.12740677902582,
         "rsi_signal": 1,
         "rsi_position": 1,
         "_deepnote_index_column": 44
        },
        {
         "Datetime": "2019-09-02 22:00:00+01:00",
         "Close": 0.2630999982357025,
         "RSI": 73.60394130143254,
         "rsi_signal": 0,
         "rsi_position": 1,
         "_deepnote_index_column": 45
        },
        {
         "Datetime": "2019-09-02 23:00:00+01:00",
         "Close": 0.2624000012874603,
         "RSI": 68.99256498808128,
         "rsi_signal": 0,
         "rsi_position": 1,
         "_deepnote_index_column": 46
        },
        {
         "Datetime": "2019-09-03 00:00:00+01:00",
         "Close": 0.261599987745285,
         "RSI": 64.05335752041536,
         "rsi_signal": 0,
         "rsi_position": 1,
         "_deepnote_index_column": 47
        },
        {
         "Datetime": "2019-09-03 01:00:00+01:00",
         "Close": 0.2608000040054321,
         "RSI": 59.46865072075512,
         "rsi_signal": 0,
         "rsi_position": 1,
         "_deepnote_index_column": 48
        },
        {
         "Datetime": "2019-09-03 02:00:00+01:00",
         "Close": 0.2606000006198883,
         "RSI": 58.34428178965782,
         "rsi_signal": 0,
         "rsi_position": 1,
         "_deepnote_index_column": 49
        },
        {
         "Datetime": "2019-09-03 03:00:00+01:00",
         "Close": 0.2608000040054321,
         "RSI": 59.17552112166523,
         "rsi_signal": 0,
         "rsi_position": 1,
         "_deepnote_index_column": 50
        },
        {
         "Datetime": "2019-09-03 04:00:00+01:00",
         "Close": 0.2615000009536743,
         "RSI": 62.03127609510154,
         "rsi_signal": 0,
         "rsi_position": 1,
         "_deepnote_index_column": 51
        },
        {
         "Datetime": "2019-09-03 05:00:00+01:00",
         "Close": 0.2614000141620636,
         "RSI": 61.37089607340853,
         "rsi_signal": 0,
         "rsi_position": 1,
         "_deepnote_index_column": 52
        },
        {
         "Datetime": "2019-09-03 06:00:00+01:00",
         "Close": 0.2612999975681305,
         "RSI": 60.67505905496503,
         "rsi_signal": 0,
         "rsi_position": 1,
         "_deepnote_index_column": 53
        },
        {
         "Datetime": "2019-09-03 07:00:00+01:00",
         "Close": 0.2610000073909759,
         "RSI": 58.53140989673867,
         "rsi_signal": 0,
         "rsi_position": 1,
         "_deepnote_index_column": 54
        },
        {
         "Datetime": "2019-09-03 08:00:00+01:00",
         "Close": 0.260699987411499,
         "RSI": 56.38584612323966,
         "rsi_signal": 0,
         "rsi_position": 1,
         "_deepnote_index_column": 55
        },
        {
         "Datetime": "2019-09-03 09:00:00+01:00",
         "Close": 0.2603999972343445,
         "RSI": 54.24467634232765,
         "rsi_signal": 0,
         "rsi_position": 1,
         "_deepnote_index_column": 56
        },
        {
         "Datetime": "2019-09-03 10:00:00+01:00",
         "Close": 0.258899986743927,
         "RSI": 45.03572624819226,
         "rsi_signal": 0,
         "rsi_position": 1,
         "_deepnote_index_column": 57
        },
        {
         "Datetime": "2019-09-03 11:00:00+01:00",
         "Close": 0.2601000070571899,
         "RSI": 52.04912481086501,
         "rsi_signal": 0,
         "rsi_position": 1,
         "_deepnote_index_column": 58
        },
        {
         "Datetime": "2019-09-03 12:00:00+01:00",
         "Close": 0.2601000070571899,
         "RSI": 52.04912481086501,
         "rsi_signal": 0,
         "rsi_position": 1,
         "_deepnote_index_column": 59
        },
        {
         "Datetime": "2019-09-03 13:00:00+01:00",
         "Close": 0.2621000111103058,
         "RSI": 61.53584107147047,
         "rsi_signal": 0,
         "rsi_position": 1,
         "_deepnote_index_column": 60
        },
        {
         "Datetime": "2019-09-03 14:00:00+01:00",
         "Close": 0.2646999955177307,
         "RSI": 69.87874115479991,
         "rsi_signal": 0,
         "rsi_position": 1,
         "_deepnote_index_column": 61
        },
        {
         "Datetime": "2019-09-03 15:00:00+01:00",
         "Close": 0.2635000050067901,
         "RSI": 63.07836435411469,
         "rsi_signal": 0,
         "rsi_position": 1,
         "_deepnote_index_column": 62
        },
        {
         "Datetime": "2019-09-03 16:00:00+01:00",
         "Close": 0.2637999951839447,
         "RSI": 64.02101489069858,
         "rsi_signal": 0,
         "rsi_position": 1,
         "_deepnote_index_column": 63
        },
        {
         "Datetime": "2019-09-03 17:00:00+01:00",
         "Close": 0.2630000114440918,
         "RSI": 59.64759164812192,
         "rsi_signal": 0,
         "rsi_position": 1,
         "_deepnote_index_column": 64
        },
        {
         "Datetime": "2019-09-03 18:00:00+01:00",
         "Close": 0.2619999945163727,
         "RSI": 54.62422245983201,
         "rsi_signal": 0,
         "rsi_position": 1,
         "_deepnote_index_column": 65
        },
        {
         "Datetime": "2019-09-03 19:00:00+01:00",
         "Close": 0.2619999945163727,
         "RSI": 54.62422245983201,
         "rsi_signal": 0,
         "rsi_position": 1,
         "_deepnote_index_column": 66
        },
        {
         "Datetime": "2019-09-03 20:00:00+01:00",
         "Close": 0.2624000012874603,
         "RSI": 56.3303490933221,
         "rsi_signal": 0,
         "rsi_position": 1,
         "_deepnote_index_column": 67
        },
        {
         "Datetime": "2019-09-03 21:00:00+01:00",
         "Close": 0.263399988412857,
         "RSI": 60.34457274182424,
         "rsi_signal": 0,
         "rsi_position": 1,
         "_deepnote_index_column": 68
        },
        {
         "Datetime": "2019-09-03 22:00:00+01:00",
         "Close": 0.2640999853610992,
         "RSI": 62.91445337230005,
         "rsi_signal": 0,
         "rsi_position": 1,
         "_deepnote_index_column": 69
        },
        {
         "Datetime": "2019-09-03 23:00:00+01:00",
         "Close": 0.26460000872612,
         "RSI": 64.67547806597554,
         "rsi_signal": 0,
         "rsi_position": 1,
         "_deepnote_index_column": 70
        },
        {
         "Datetime": "2019-09-04 00:00:00+01:00",
         "Close": 0.2632000148296356,
         "RSI": 56.575078307331424,
         "rsi_signal": 0,
         "rsi_position": 1,
         "_deepnote_index_column": 71
        },
        {
         "Datetime": "2019-09-04 01:00:00+01:00",
         "Close": 0.2626999914646148,
         "RSI": 53.97487509795352,
         "rsi_signal": 0,
         "rsi_position": 1,
         "_deepnote_index_column": 72
        },
        {
         "Datetime": "2019-09-04 02:00:00+01:00",
         "Close": 0.2619000077247619,
         "RSI": 50.01435397041667,
         "rsi_signal": 0,
         "rsi_position": 1,
         "_deepnote_index_column": 73
        },
        {
         "Datetime": "2019-09-04 03:00:00+01:00",
         "Close": 0.261599987745285,
         "RSI": 48.574808182072985,
         "rsi_signal": 0,
         "rsi_position": 1,
         "_deepnote_index_column": 74
        },
        {
         "Datetime": "2019-09-04 04:00:00+01:00",
         "Close": 0.2623000144958496,
         "RSI": 52.04321493833201,
         "rsi_signal": 0,
         "rsi_position": 1,
         "_deepnote_index_column": 75
        },
        {
         "Datetime": "2019-09-04 05:00:00+01:00",
         "Close": 0.2608999907970428,
         "RSI": 45.44209156100641,
         "rsi_signal": 0,
         "rsi_position": 1,
         "_deepnote_index_column": 76
        },
        {
         "Datetime": "2019-09-04 06:00:00+01:00",
         "Close": 0.260699987411499,
         "RSI": 44.57231918927332,
         "rsi_signal": 0,
         "rsi_position": 1,
         "_deepnote_index_column": 77
        },
        {
         "Datetime": "2019-09-04 07:00:00+01:00",
         "Close": 0.2606000006198883,
         "RSI": 44.11769754969853,
         "rsi_signal": 0,
         "rsi_position": 1,
         "_deepnote_index_column": 78
        },
        {
         "Datetime": "2019-09-04 08:00:00+01:00",
         "Close": 0.2605000138282776,
         "RSI": 43.638363794160455,
         "rsi_signal": 0,
         "rsi_position": 1,
         "_deepnote_index_column": 79
        },
        {
         "Datetime": "2019-09-04 09:00:00+01:00",
         "Close": 0.258899986743927,
         "RSI": 36.7561978520137,
         "rsi_signal": 0,
         "rsi_position": 1,
         "_deepnote_index_column": 80
        },
        {
         "Datetime": "2019-09-04 10:00:00+01:00",
         "Close": 0.2597000002861023,
         "RSI": 41.70649782950468,
         "rsi_signal": 0,
         "rsi_position": 1,
         "_deepnote_index_column": 81
        },
        {
         "Datetime": "2019-09-04 11:00:00+01:00",
         "Close": 0.2596000134944916,
         "RSI": 41.27169156490086,
         "rsi_signal": 0,
         "rsi_position": 1,
         "_deepnote_index_column": 82
        },
        {
         "Datetime": "2019-09-04 12:00:00+01:00",
         "Close": 0.2592999935150146,
         "RSI": 39.92661564950874,
         "rsi_signal": 0,
         "rsi_position": 1,
         "_deepnote_index_column": 83
        },
        {
         "Datetime": "2019-09-04 13:00:00+01:00",
         "Close": 0.2585000097751617,
         "RSI": 36.50981367183488,
         "rsi_signal": 0,
         "rsi_position": 1,
         "_deepnote_index_column": 84
        },
        {
         "Datetime": "2019-09-04 14:00:00+01:00",
         "Close": 0.2587999999523163,
         "RSI": 38.630707768861534,
         "rsi_signal": 0,
         "rsi_position": 1,
         "_deepnote_index_column": 85
        },
        {
         "Datetime": "2019-09-04 15:00:00+01:00",
         "Close": 0.2581999897956848,
         "RSI": 36.03768952725249,
         "rsi_signal": 0,
         "rsi_position": 1,
         "_deepnote_index_column": 86
        },
        {
         "Datetime": "2019-09-04 16:00:00+01:00",
         "Close": 0.2585999965667724,
         "RSI": 38.97838484347566,
         "rsi_signal": 0,
         "rsi_position": 1,
         "_deepnote_index_column": 87
        },
        {
         "Datetime": "2019-09-04 17:00:00+01:00",
         "Close": 0.2601999938488006,
         "RSI": 49.065646188845655,
         "rsi_signal": 0,
         "rsi_position": 1,
         "_deepnote_index_column": 88
        },
        {
         "Datetime": "2019-09-04 18:00:00+01:00",
         "Close": 0.2601999938488006,
         "RSI": 49.06564618884565,
         "rsi_signal": 0,
         "rsi_position": 1,
         "_deepnote_index_column": 89
        },
        {
         "Datetime": "2019-09-04 19:00:00+01:00",
         "Close": 0.2594999969005584,
         "RSI": 45.26870465165713,
         "rsi_signal": 0,
         "rsi_position": 1,
         "_deepnote_index_column": 90
        },
        {
         "Datetime": "2019-09-04 20:00:00+01:00",
         "Close": 0.2608000040054321,
         "RSI": 52.60421553532113,
         "rsi_signal": 0,
         "rsi_position": 1,
         "_deepnote_index_column": 91
        },
        {
         "Datetime": "2019-09-04 21:00:00+01:00",
         "Close": 0.2603999972343445,
         "RSI": 50.36729988056808,
         "rsi_signal": 0,
         "rsi_position": 1,
         "_deepnote_index_column": 92
        },
        {
         "Datetime": "2019-09-04 22:00:00+01:00",
         "Close": 0.261599987745285,
         "RSI": 56.36226199853756,
         "rsi_signal": 0,
         "rsi_position": 1,
         "_deepnote_index_column": 93
        },
        {
         "Datetime": "2019-09-04 23:00:00+01:00",
         "Close": 0.258899986743927,
         "RSI": 43.60117815392194,
         "rsi_signal": 0,
         "rsi_position": 1,
         "_deepnote_index_column": 94
        },
        {
         "Datetime": "2019-09-05 00:00:00+01:00",
         "Close": 0.258899986743927,
         "RSI": 43.60117815392194,
         "rsi_signal": 0,
         "rsi_position": 1,
         "_deepnote_index_column": 95
        },
        {
         "Datetime": "2019-09-05 01:00:00+01:00",
         "Close": 0.2583999931812286,
         "RSI": 41.57933908665667,
         "rsi_signal": 0,
         "rsi_position": 1,
         "_deepnote_index_column": 96
        },
        {
         "Datetime": "2019-09-05 02:00:00+01:00",
         "Close": 0.2583999931812286,
         "RSI": 41.579339086656674,
         "rsi_signal": 0,
         "rsi_position": 1,
         "_deepnote_index_column": 97
        },
        {
         "Datetime": "2019-09-05 03:00:00+01:00",
         "Close": 0.2585000097751617,
         "RSI": 42.20113049648685,
         "rsi_signal": 0,
         "rsi_position": 1,
         "_deepnote_index_column": 98
        },
        {
         "Datetime": "2019-09-05 04:00:00+01:00",
         "Close": 0.2590999901294708,
         "RSI": 45.91962864920522,
         "rsi_signal": 0,
         "rsi_position": 1,
         "_deepnote_index_column": 99
        }
       ],
       "rows_bottom": [
        {
         "Datetime": "2021-08-06 23:00:00+01:00",
         "Close": 0.7445024847984314,
         "RSI": 58.58747697423656,
         "rsi_signal": 0,
         "rsi_position": 0,
         "_deepnote_index_column": 16902
        },
        {
         "Datetime": "2021-08-07 00:00:00+01:00",
         "Close": 0.7465130090713501,
         "RSI": 60.2868008131815,
         "rsi_signal": 0,
         "rsi_position": 0,
         "_deepnote_index_column": 16903
        },
        {
         "Datetime": "2021-08-07 01:00:00+01:00",
         "Close": 0.7548611164093018,
         "RSI": 66.44393805661196,
         "rsi_signal": 0,
         "rsi_position": 0,
         "_deepnote_index_column": 16904
        },
        {
         "Datetime": "2021-08-07 02:00:00+01:00",
         "Close": 0.7566510438919067,
         "RSI": 67.60370673844741,
         "rsi_signal": 0,
         "rsi_position": 0,
         "_deepnote_index_column": 16905
        },
        {
         "Datetime": "2021-08-07 03:00:00+01:00",
         "Close": 0.762823224067688,
         "RSI": 71.28873301999793,
         "rsi_signal": 1,
         "rsi_position": 1,
         "_deepnote_index_column": 16906
        },
        {
         "Datetime": "2021-08-07 04:00:00+01:00",
         "Close": 0.7649507522583008,
         "RSI": 72.45194179881676,
         "rsi_signal": 0,
         "rsi_position": 1,
         "_deepnote_index_column": 16907
        },
        {
         "Datetime": "2021-08-07 05:00:00+01:00",
         "Close": 0.7618080377578735,
         "RSI": 68.06517480509088,
         "rsi_signal": 0,
         "rsi_position": 1,
         "_deepnote_index_column": 16908
        },
        {
         "Datetime": "2021-08-07 06:00:00+01:00",
         "Close": 0.7649903297424316,
         "RSI": 70.04310565489062,
         "rsi_signal": 0,
         "rsi_position": 1,
         "_deepnote_index_column": 16909
        },
        {
         "Datetime": "2021-08-07 07:00:00+01:00",
         "Close": 0.7613361477851868,
         "RSI": 65.06004953876861,
         "rsi_signal": 0,
         "rsi_position": 1,
         "_deepnote_index_column": 16910
        },
        {
         "Datetime": "2021-08-07 08:00:00+01:00",
         "Close": 0.7610374093055725,
         "RSI": 64.65508337245535,
         "rsi_signal": 0,
         "rsi_position": 1,
         "_deepnote_index_column": 16911
        },
        {
         "Datetime": "2021-08-07 09:00:00+01:00",
         "Close": 0.7645235657691956,
         "RSI": 67.21934520080991,
         "rsi_signal": 0,
         "rsi_position": 1,
         "_deepnote_index_column": 16912
        },
        {
         "Datetime": "2021-08-07 10:00:00+01:00",
         "Close": 0.7894212603569031,
         "RSI": 78.95975302140135,
         "rsi_signal": 0,
         "rsi_position": 1,
         "_deepnote_index_column": 16913
        },
        {
         "Datetime": "2021-08-07 11:00:00+01:00",
         "Close": 0.7897286415100098,
         "RSI": 79.0594670065742,
         "rsi_signal": 0,
         "rsi_position": 1,
         "_deepnote_index_column": 16914
        },
        {
         "Datetime": "2021-08-07 12:00:00+01:00",
         "Close": 0.7905455231666565,
         "RSI": 79.3396931178896,
         "rsi_signal": 0,
         "rsi_position": 1,
         "_deepnote_index_column": 16915
        },
        {
         "Datetime": "2021-08-07 13:00:00+01:00",
         "Close": 0.7743987441062927,
         "RSI": 61.74965292487082,
         "rsi_signal": 0,
         "rsi_position": 1,
         "_deepnote_index_column": 16916
        },
        {
         "Datetime": "2021-08-07 14:00:00+01:00",
         "Close": 0.7735520601272583,
         "RSI": 60.98612056802675,
         "rsi_signal": 0,
         "rsi_position": 1,
         "_deepnote_index_column": 16917
        },
        {
         "Datetime": "2021-08-07 15:00:00+01:00",
         "Close": 0.791140615940094,
         "RSI": 69.43975219639894,
         "rsi_signal": 0,
         "rsi_position": 1,
         "_deepnote_index_column": 16918
        },
        {
         "Datetime": "2021-08-07 16:00:00+01:00",
         "Close": 0.8057512044906616,
         "RSI": 74.40175098737889,
         "rsi_signal": 0,
         "rsi_position": 1,
         "_deepnote_index_column": 16919
        },
        {
         "Datetime": "2021-08-07 17:00:00+01:00",
         "Close": 0.8016982674598694,
         "RSI": 70.95984298965794,
         "rsi_signal": 0,
         "rsi_position": 1,
         "_deepnote_index_column": 16920
        },
        {
         "Datetime": "2021-08-07 18:00:00+01:00",
         "Close": 0.79237300157547,
         "RSI": 63.66233295160553,
         "rsi_signal": 0,
         "rsi_position": 1,
         "_deepnote_index_column": 16921
        },
        {
         "Datetime": "2021-08-07 19:00:00+01:00",
         "Close": 0.7993141412734985,
         "RSI": 66.42972800513212,
         "rsi_signal": 0,
         "rsi_position": 1,
         "_deepnote_index_column": 16922
        },
        {
         "Datetime": "2021-08-07 20:00:00+01:00",
         "Close": 0.8037920594215393,
         "RSI": 68.11669837941301,
         "rsi_signal": 0,
         "rsi_position": 1,
         "_deepnote_index_column": 16923
        },
        {
         "Datetime": "2021-08-07 21:00:00+01:00",
         "Close": 0.8045597076416016,
         "RSI": 68.40977160310922,
         "rsi_signal": 0,
         "rsi_position": 1,
         "_deepnote_index_column": 16924
        },
        {
         "Datetime": "2021-08-07 22:00:00+01:00",
         "Close": 0.7986745834350586,
         "RSI": 63.58428912261734,
         "rsi_signal": 0,
         "rsi_position": 1,
         "_deepnote_index_column": 16925
        },
        {
         "Datetime": "2021-08-07 23:00:00+01:00",
         "Close": 0.8053690195083618,
         "RSI": 66.4807025929444,
         "rsi_signal": 0,
         "rsi_position": 1,
         "_deepnote_index_column": 16926
        },
        {
         "Datetime": "2021-08-08 00:00:00+01:00",
         "Close": 0.8162810802459717,
         "RSI": 70.58731651380083,
         "rsi_signal": 0,
         "rsi_position": 1,
         "_deepnote_index_column": 16927
        },
        {
         "Datetime": "2021-08-08 01:00:00+01:00",
         "Close": 0.8304288983345032,
         "RSI": 74.88377575221614,
         "rsi_signal": 0,
         "rsi_position": 1,
         "_deepnote_index_column": 16928
        },
        {
         "Datetime": "2021-08-08 02:00:00+01:00",
         "Close": 0.8090371489524841,
         "RSI": 60.494646655073424,
         "rsi_signal": 0,
         "rsi_position": 1,
         "_deepnote_index_column": 16929
        },
        {
         "Datetime": "2021-08-08 03:00:00+01:00",
         "Close": 0.8017366528511047,
         "RSI": 56.504227885329534,
         "rsi_signal": 0,
         "rsi_position": 1,
         "_deepnote_index_column": 16930
        },
        {
         "Datetime": "2021-08-08 04:00:00+01:00",
         "Close": 0.8178030252456665,
         "RSI": 62.38474688857126,
         "rsi_signal": 0,
         "rsi_position": 1,
         "_deepnote_index_column": 16931
        },
        {
         "Datetime": "2021-08-08 05:00:00+01:00",
         "Close": 0.8164565563201904,
         "RSI": 61.63270328924581,
         "rsi_signal": 0,
         "rsi_position": 1,
         "_deepnote_index_column": 16932
        },
        {
         "Datetime": "2021-08-08 06:00:00+01:00",
         "Close": 0.8221371173858643,
         "RSI": 63.62497028288927,
         "rsi_signal": 0,
         "rsi_position": 1,
         "_deepnote_index_column": 16933
        },
        {
         "Datetime": "2021-08-08 07:00:00+01:00",
         "Close": 0.8285307884216309,
         "RSI": 65.77886507308962,
         "rsi_signal": 0,
         "rsi_position": 1,
         "_deepnote_index_column": 16934
        },
        {
         "Datetime": "2021-08-08 08:00:00+01:00",
         "Close": 0.8223246335983276,
         "RSI": 61.9446045731456,
         "rsi_signal": 0,
         "rsi_position": 1,
         "_deepnote_index_column": 16935
        },
        {
         "Datetime": "2021-08-08 09:00:00+01:00",
         "Close": 0.8114379644393921,
         "RSI": 55.800094292613736,
         "rsi_signal": 0,
         "rsi_position": 1,
         "_deepnote_index_column": 16936
        },
        {
         "Datetime": "2021-08-08 10:00:00+01:00",
         "Close": 0.8126380443572998,
         "RSI": 56.314517735059866,
         "rsi_signal": 0,
         "rsi_position": 1,
         "_deepnote_index_column": 16937
        },
        {
         "Datetime": "2021-08-08 11:00:00+01:00",
         "Close": 0.8030365109443665,
         "RSI": 51.18198587756162,
         "rsi_signal": 0,
         "rsi_position": 1,
         "_deepnote_index_column": 16938
        },
        {
         "Datetime": "2021-08-08 12:00:00+01:00",
         "Close": 0.8001503944396973,
         "RSI": 49.7152272299282,
         "rsi_signal": 0,
         "rsi_position": 1,
         "_deepnote_index_column": 16939
        },
        {
         "Datetime": "2021-08-08 13:00:00+01:00",
         "Close": 0.8123614192008972,
         "RSI": 55.52288563923815,
         "rsi_signal": 0,
         "rsi_position": 1,
         "_deepnote_index_column": 16940
        },
        {
         "Datetime": "2021-08-08 14:00:00+01:00",
         "Close": 0.8075140118598938,
         "RSI": 52.910435580181854,
         "rsi_signal": 0,
         "rsi_position": 1,
         "_deepnote_index_column": 16941
        },
        {
         "Datetime": "2021-08-08 15:00:00+01:00",
         "Close": 0.7874436974525452,
         "RSI": 43.73486463536392,
         "rsi_signal": 0,
         "rsi_position": 1,
         "_deepnote_index_column": 16942
        },
        {
         "Datetime": "2021-08-08 16:00:00+01:00",
         "Close": 0.7861583828926086,
         "RSI": 43.21797701645812,
         "rsi_signal": 0,
         "rsi_position": 1,
         "_deepnote_index_column": 16943
        },
        {
         "Datetime": "2021-08-08 17:00:00+01:00",
         "Close": 0.779674768447876,
         "RSI": 40.610620573254856,
         "rsi_signal": 0,
         "rsi_position": 1,
         "_deepnote_index_column": 16944
        },
        {
         "Datetime": "2021-08-08 18:00:00+01:00",
         "Close": 0.7871766686439514,
         "RSI": 44.7630694443762,
         "rsi_signal": 0,
         "rsi_position": 1,
         "_deepnote_index_column": 16945
        },
        {
         "Datetime": "2021-08-08 19:00:00+01:00",
         "Close": 0.7815697193145752,
         "RSI": 42.37813014780332,
         "rsi_signal": 0,
         "rsi_position": 1,
         "_deepnote_index_column": 16946
        },
        {
         "Datetime": "2021-08-08 20:00:00+01:00",
         "Close": 0.778918445110321,
         "RSI": 41.25872833180114,
         "rsi_signal": 0,
         "rsi_position": 1,
         "_deepnote_index_column": 16947
        },
        {
         "Datetime": "2021-08-08 21:00:00+01:00",
         "Close": 0.7842029929161072,
         "RSI": 44.41063808282996,
         "rsi_signal": 0,
         "rsi_position": 1,
         "_deepnote_index_column": 16948
        },
        {
         "Datetime": "2021-08-08 22:00:00+01:00",
         "Close": 0.7921290397644043,
         "RSI": 48.84425655222751,
         "rsi_signal": 0,
         "rsi_position": 1,
         "_deepnote_index_column": 16949
        },
        {
         "Datetime": "2021-08-08 23:00:00+01:00",
         "Close": 0.7942468523979187,
         "RSI": 49.99194025959009,
         "rsi_signal": 0,
         "rsi_position": 1,
         "_deepnote_index_column": 16950
        },
        {
         "Datetime": "2021-08-09 00:00:00+01:00",
         "Close": 0.7787393927574158,
         "RSI": 42.47708927479685,
         "rsi_signal": 0,
         "rsi_position": 1,
         "_deepnote_index_column": 16951
        },
        {
         "Datetime": "2021-08-09 01:00:00+01:00",
         "Close": 0.7659614086151123,
         "RSI": 37.477875449052775,
         "rsi_signal": 0,
         "rsi_position": 1,
         "_deepnote_index_column": 16952
        },
        {
         "Datetime": "2021-08-09 02:00:00+01:00",
         "Close": 0.7699768543243408,
         "RSI": 39.87270562719359,
         "rsi_signal": 0,
         "rsi_position": 1,
         "_deepnote_index_column": 16953
        },
        {
         "Datetime": "2021-08-09 03:00:00+01:00",
         "Close": 0.7788583636283875,
         "RSI": 44.89995733306212,
         "rsi_signal": 0,
         "rsi_position": 1,
         "_deepnote_index_column": 16954
        },
        {
         "Datetime": "2021-08-09 04:00:00+01:00",
         "Close": 0.7826113104820251,
         "RSI": 46.919550456414086,
         "rsi_signal": 0,
         "rsi_position": 1,
         "_deepnote_index_column": 16955
        },
        {
         "Datetime": "2021-08-09 05:00:00+01:00",
         "Close": 0.7949040532112122,
         "RSI": 52.99671779585661,
         "rsi_signal": 0,
         "rsi_position": 1,
         "_deepnote_index_column": 16956
        },
        {
         "Datetime": "2021-08-09 06:00:00+01:00",
         "Close": 0.7881271839141846,
         "RSI": 49.62368462996253,
         "rsi_signal": 0,
         "rsi_position": 1,
         "_deepnote_index_column": 16957
        },
        {
         "Datetime": "2021-08-09 07:00:00+01:00",
         "Close": 0.787296712398529,
         "RSI": 49.210343757746045,
         "rsi_signal": 0,
         "rsi_position": 1,
         "_deepnote_index_column": 16958
        },
        {
         "Datetime": "2021-08-09 08:00:00+01:00",
         "Close": 0.7967813014984131,
         "RSI": 53.93005570352199,
         "rsi_signal": 0,
         "rsi_position": 1,
         "_deepnote_index_column": 16959
        },
        {
         "Datetime": "2021-08-09 09:00:00+01:00",
         "Close": 0.7981806397438049,
         "RSI": 54.60037443838342,
         "rsi_signal": 0,
         "rsi_position": 1,
         "_deepnote_index_column": 16960
        },
        {
         "Datetime": "2021-08-09 10:00:00+01:00",
         "Close": 0.8096413016319275,
         "RSI": 59.76395160801048,
         "rsi_signal": 0,
         "rsi_position": 1,
         "_deepnote_index_column": 16961
        },
        {
         "Datetime": "2021-08-09 11:00:00+01:00",
         "Close": 0.816961407661438,
         "RSI": 62.68335025323197,
         "rsi_signal": 0,
         "rsi_position": 1,
         "_deepnote_index_column": 16962
        },
        {
         "Datetime": "2021-08-09 12:00:00+01:00",
         "Close": 0.8193760514259338,
         "RSI": 63.62101805055443,
         "rsi_signal": 0,
         "rsi_position": 1,
         "_deepnote_index_column": 16963
        },
        {
         "Datetime": "2021-08-09 13:00:00+01:00",
         "Close": 0.8166133165359497,
         "RSI": 61.7103928830309,
         "rsi_signal": 0,
         "rsi_position": 1,
         "_deepnote_index_column": 16964
        },
        {
         "Datetime": "2021-08-09 14:00:00+01:00",
         "Close": 0.8115898370742798,
         "RSI": 58.28297771837298,
         "rsi_signal": 0,
         "rsi_position": 1,
         "_deepnote_index_column": 16965
        },
        {
         "Datetime": "2021-08-09 15:00:00+01:00",
         "Close": 0.8130114674568176,
         "RSI": 58.97736019919712,
         "rsi_signal": 0,
         "rsi_position": 1,
         "_deepnote_index_column": 16966
        },
        {
         "Datetime": "2021-08-09 16:00:00+01:00",
         "Close": 0.8204382061958313,
         "RSI": 62.48996326843942,
         "rsi_signal": 0,
         "rsi_position": 1,
         "_deepnote_index_column": 16967
        },
        {
         "Datetime": "2021-08-09 17:00:00+01:00",
         "Close": 0.817124605178833,
         "RSI": 60.020558639679166,
         "rsi_signal": 0,
         "rsi_position": 1,
         "_deepnote_index_column": 16968
        },
        {
         "Datetime": "2021-08-09 18:00:00+01:00",
         "Close": 0.8183885216712952,
         "RSI": 60.659158013674784,
         "rsi_signal": 0,
         "rsi_position": 1,
         "_deepnote_index_column": 16969
        },
        {
         "Datetime": "2021-08-09 19:00:00+01:00",
         "Close": 0.8223690390586853,
         "RSI": 62.68091336374076,
         "rsi_signal": 0,
         "rsi_position": 1,
         "_deepnote_index_column": 16970
        },
        {
         "Datetime": "2021-08-09 20:00:00+01:00",
         "Close": 0.8158291578292847,
         "RSI": 57.4564823002694,
         "rsi_signal": 0,
         "rsi_position": 1,
         "_deepnote_index_column": 16971
        },
        {
         "Datetime": "2021-08-09 21:00:00+01:00",
         "Close": 0.8055914044380188,
         "RSI": 50.37765780466041,
         "rsi_signal": 0,
         "rsi_position": 1,
         "_deepnote_index_column": 16972
        },
        {
         "Datetime": "2021-08-09 22:00:00+01:00",
         "Close": 0.8096583485603333,
         "RSI": 52.86216342189716,
         "rsi_signal": 0,
         "rsi_position": 1,
         "_deepnote_index_column": 16973
        },
        {
         "Datetime": "2021-08-09 23:00:00+01:00",
         "Close": 0.8194264769554138,
         "RSI": 58.26686336918055,
         "rsi_signal": 0,
         "rsi_position": 1,
         "_deepnote_index_column": 16974
        },
        {
         "Datetime": "2021-08-10 00:00:00+01:00",
         "Close": 0.8185535073280334,
         "RSI": 57.630903331300615,
         "rsi_signal": 0,
         "rsi_position": 1,
         "_deepnote_index_column": 16975
        },
        {
         "Datetime": "2021-08-10 01:00:00+01:00",
         "Close": 0.8124653100967407,
         "RSI": 53.264532945387,
         "rsi_signal": 0,
         "rsi_position": 1,
         "_deepnote_index_column": 16976
        },
        {
         "Datetime": "2021-08-10 02:00:00+01:00",
         "Close": 0.811424195766449,
         "RSI": 52.531573493208185,
         "rsi_signal": 0,
         "rsi_position": 1,
         "_deepnote_index_column": 16977
        },
        {
         "Datetime": "2021-08-10 03:00:00+01:00",
         "Close": 0.8144153356552124,
         "RSI": 54.47005617153832,
         "rsi_signal": 0,
         "rsi_position": 1,
         "_deepnote_index_column": 16978
        },
        {
         "Datetime": "2021-08-10 04:00:00+01:00",
         "Close": 0.8044356107711792,
         "RSI": 47.5002666338525,
         "rsi_signal": 0,
         "rsi_position": 1,
         "_deepnote_index_column": 16979
        },
        {
         "Datetime": "2021-08-10 05:00:00+01:00",
         "Close": 0.8098970651626587,
         "RSI": 51.18171556250607,
         "rsi_signal": 0,
         "rsi_position": 1,
         "_deepnote_index_column": 16980
        },
        {
         "Datetime": "2021-08-10 06:00:00+01:00",
         "Close": 0.8105202913284302,
         "RSI": 51.598815117606485,
         "rsi_signal": 0,
         "rsi_position": 1,
         "_deepnote_index_column": 16981
        },
        {
         "Datetime": "2021-08-10 07:00:00+01:00",
         "Close": 0.8169611692428589,
         "RSI": 55.801694306764354,
         "rsi_signal": 0,
         "rsi_position": 1,
         "_deepnote_index_column": 16982
        },
        {
         "Datetime": "2021-08-10 08:00:00+01:00",
         "Close": 0.8193774223327637,
         "RSI": 57.29966805563281,
         "rsi_signal": 0,
         "rsi_position": 1,
         "_deepnote_index_column": 16983
        },
        {
         "Datetime": "2021-08-10 09:00:00+01:00",
         "Close": 0.8201133012771606,
         "RSI": 57.769105255746936,
         "rsi_signal": 0,
         "rsi_position": 1,
         "_deepnote_index_column": 16984
        },
        {
         "Datetime": "2021-08-10 10:00:00+01:00",
         "Close": 0.8198803067207336,
         "RSI": 57.55336011845672,
         "rsi_signal": 0,
         "rsi_position": 1,
         "_deepnote_index_column": 16985
        },
        {
         "Datetime": "2021-08-10 11:00:00+01:00",
         "Close": 0.807433009147644,
         "RSI": 47.37440644988766,
         "rsi_signal": 0,
         "rsi_position": 1,
         "_deepnote_index_column": 16986
        },
        {
         "Datetime": "2021-08-10 12:00:00+01:00",
         "Close": 0.8152583837509155,
         "RSI": 53.00204461203777,
         "rsi_signal": 0,
         "rsi_position": 1,
         "_deepnote_index_column": 16987
        },
        {
         "Datetime": "2021-08-10 13:00:00+01:00",
         "Close": 0.8490090370178223,
         "RSI": 68.59886893849614,
         "rsi_signal": 0,
         "rsi_position": 1,
         "_deepnote_index_column": 16988
        },
        {
         "Datetime": "2021-08-10 14:00:00+01:00",
         "Close": 0.8354390263557434,
         "RSI": 59.98006785567256,
         "rsi_signal": 0,
         "rsi_position": 1,
         "_deepnote_index_column": 16989
        },
        {
         "Datetime": "2021-08-10 15:00:00+01:00",
         "Close": 0.8288268446922302,
         "RSI": 56.27020647415448,
         "rsi_signal": 0,
         "rsi_position": 1,
         "_deepnote_index_column": 16990
        },
        {
         "Datetime": "2021-08-10 16:00:00+01:00",
         "Close": 0.8237518072128296,
         "RSI": 53.53333627776865,
         "rsi_signal": 0,
         "rsi_position": 1,
         "_deepnote_index_column": 16991
        },
        {
         "Datetime": "2021-08-10 17:00:00+01:00",
         "Close": 0.8138244152069092,
         "RSI": 48.55805566055629,
         "rsi_signal": 0,
         "rsi_position": 1,
         "_deepnote_index_column": 16992
        },
        {
         "Datetime": "2021-08-10 18:00:00+01:00",
         "Close": 0.81997150182724,
         "RSI": 51.56008861803546,
         "rsi_signal": 0,
         "rsi_position": 1,
         "_deepnote_index_column": 16993
        },
        {
         "Datetime": "2021-08-10 19:00:00+01:00",
         "Close": 0.8261918425559998,
         "RSI": 54.45646089165124,
         "rsi_signal": 0,
         "rsi_position": 1,
         "_deepnote_index_column": 16994
        },
        {
         "Datetime": "2021-08-10 20:00:00+01:00",
         "Close": 0.8347495198249817,
         "RSI": 58.16276012367339,
         "rsi_signal": 0,
         "rsi_position": 1,
         "_deepnote_index_column": 16995
        },
        {
         "Datetime": "2021-08-10 21:00:00+01:00",
         "Close": 0.8428434133529663,
         "RSI": 61.36518402232665,
         "rsi_signal": 0,
         "rsi_position": 1,
         "_deepnote_index_column": 16996
        },
        {
         "Datetime": "2021-08-10 22:00:00+01:00",
         "Close": 0.8587751984596252,
         "RSI": 66.75884381817859,
         "rsi_signal": 0,
         "rsi_position": 1,
         "_deepnote_index_column": 16997
        },
        {
         "Datetime": "2021-08-10 23:00:00+01:00",
         "Close": 0.8559402227401733,
         "RSI": 65.01937331609099,
         "rsi_signal": 0,
         "rsi_position": 1,
         "_deepnote_index_column": 16998
        },
        {
         "Datetime": "2021-08-11 00:00:00+01:00",
         "Close": 0.8512465357780457,
         "RSI": 62.13282505061216,
         "rsi_signal": 0,
         "rsi_position": 1,
         "_deepnote_index_column": 16999
        },
        {
         "Datetime": "2021-08-11 01:00:00+01:00",
         "Close": 0.8691591024398804,
         "RSI": 67.97589888414939,
         "rsi_signal": 0,
         "rsi_position": 1,
         "_deepnote_index_column": 17000
        },
        {
         "Datetime": "2021-08-11 01:59:03+01:00",
         "Close": 0.8692995309829712,
         "RSI": 68.01756396815834,
         "rsi_signal": 0,
         "rsi_position": 1,
         "_deepnote_index_column": 17001
        }
       ]
      },
      "text/plain": "                        Datetime     Close        RSI  rsi_signal  \\\n0      2019-09-01 01:00:00+01:00  0.259100        NaN           0   \n1      2019-09-01 02:00:00+01:00  0.258400   0.000000          -1   \n2      2019-09-01 03:00:00+01:00  0.257800   0.000000           0   \n3      2019-09-01 04:00:00+01:00  0.258500   7.211196           0   \n4      2019-09-01 05:00:00+01:00  0.258100   6.904779           0   \n...                          ...       ...        ...         ...   \n16997  2021-08-10 22:00:00+01:00  0.858775  66.758844           0   \n16998  2021-08-10 23:00:00+01:00  0.855940  65.019373           0   \n16999  2021-08-11 00:00:00+01:00  0.851247  62.132825           0   \n17000  2021-08-11 01:00:00+01:00  0.869159  67.975899           0   \n17001  2021-08-11 01:59:03+01:00  0.869300  68.017564           0   \n\n       rsi_position  \n0                 1  \n1                 0  \n2                 0  \n3                 0  \n4                 0  \n...             ...  \n16997             1  \n16998             1  \n16999             1  \n17000             1  \n17001             1  \n\n[17002 rows x 5 columns]",
      "text/html": "<div>\n<style scoped>\n    .dataframe tbody tr th:only-of-type {\n        vertical-align: middle;\n    }\n\n    .dataframe tbody tr th {\n        vertical-align: top;\n    }\n\n    .dataframe thead th {\n        text-align: right;\n    }\n</style>\n<table border=\"1\" class=\"dataframe\">\n  <thead>\n    <tr style=\"text-align: right;\">\n      <th></th>\n      <th>Datetime</th>\n      <th>Close</th>\n      <th>RSI</th>\n      <th>rsi_signal</th>\n      <th>rsi_position</th>\n    </tr>\n  </thead>\n  <tbody>\n    <tr>\n      <th>0</th>\n      <td>2019-09-01 01:00:00+01:00</td>\n      <td>0.259100</td>\n      <td>NaN</td>\n      <td>0</td>\n      <td>1</td>\n    </tr>\n    <tr>\n      <th>1</th>\n      <td>2019-09-01 02:00:00+01:00</td>\n      <td>0.258400</td>\n      <td>0.000000</td>\n      <td>-1</td>\n      <td>0</td>\n    </tr>\n    <tr>\n      <th>2</th>\n      <td>2019-09-01 03:00:00+01:00</td>\n      <td>0.257800</td>\n      <td>0.000000</td>\n      <td>0</td>\n      <td>0</td>\n    </tr>\n    <tr>\n      <th>3</th>\n      <td>2019-09-01 04:00:00+01:00</td>\n      <td>0.258500</td>\n      <td>7.211196</td>\n      <td>0</td>\n      <td>0</td>\n    </tr>\n    <tr>\n      <th>4</th>\n      <td>2019-09-01 05:00:00+01:00</td>\n      <td>0.258100</td>\n      <td>6.904779</td>\n      <td>0</td>\n      <td>0</td>\n    </tr>\n    <tr>\n      <th>...</th>\n      <td>...</td>\n      <td>...</td>\n      <td>...</td>\n      <td>...</td>\n      <td>...</td>\n    </tr>\n    <tr>\n      <th>16997</th>\n      <td>2021-08-10 22:00:00+01:00</td>\n      <td>0.858775</td>\n      <td>66.758844</td>\n      <td>0</td>\n      <td>1</td>\n    </tr>\n    <tr>\n      <th>16998</th>\n      <td>2021-08-10 23:00:00+01:00</td>\n      <td>0.855940</td>\n      <td>65.019373</td>\n      <td>0</td>\n      <td>1</td>\n    </tr>\n    <tr>\n      <th>16999</th>\n      <td>2021-08-11 00:00:00+01:00</td>\n      <td>0.851247</td>\n      <td>62.132825</td>\n      <td>0</td>\n      <td>1</td>\n    </tr>\n    <tr>\n      <th>17000</th>\n      <td>2021-08-11 01:00:00+01:00</td>\n      <td>0.869159</td>\n      <td>67.975899</td>\n      <td>0</td>\n      <td>1</td>\n    </tr>\n    <tr>\n      <th>17001</th>\n      <td>2021-08-11 01:59:03+01:00</td>\n      <td>0.869300</td>\n      <td>68.017564</td>\n      <td>0</td>\n      <td>1</td>\n    </tr>\n  </tbody>\n</table>\n<p>17002 rows × 5 columns</p>\n</div>"
     },
     "metadata": {}
    }
   ],
   "execution_count": 17
  },
  {
   "cell_type": "code",
   "source": "",
   "metadata": {
    "tags": [],
    "cell_id": "00005-c8660267-6c01-46a4-859d-bf2e65f9f273",
    "deepnote_cell_type": "code"
   },
   "outputs": [],
   "execution_count": null
  },
  {
   "cell_type": "markdown",
   "source": "<a style='text-decoration:none;line-height:16px;display:flex;color:#5B5B62;padding:10px;justify-content:end;' href='https://deepnote.com?utm_source=created-in-deepnote-cell&projectId=d12c285c-6789-4c45-9ad7-1be9b4d60622' target=\"_blank\">\n<img alt='Created in deepnote.com' style='display:inline;max-height:16px;margin:0px;margin-right:7.5px;' src='data:image/svg+xml;base64,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' > </img>\nCreated in <span style='font-weight:600;margin-left:4px;'>Deepnote</span></a>",
   "metadata": {
    "tags": [],
    "created_in_deepnote_cell": true,
    "deepnote_cell_type": "markdown"
   }
  }
 ],
 "nbformat": 4,
 "nbformat_minor": 2,
 "metadata": {
  "orig_nbformat": 2,
  "deepnote": {
   "is_reactive": false
  },
  "deepnote_notebook_id": "6cf8946b-68ec-435c-9a7a-46b86b9a3976",
  "deepnote_execution_queue": []
 }
}