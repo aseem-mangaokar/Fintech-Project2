{
 "cells": [
  {
   "cell_type": "code",
   "metadata": {
    "cell_id": "00000-36a8d110-1b56-42fe-87bf-47ccb366c54e",
    "deepnote_to_be_reexecuted": false,
    "source_hash": "dc4b376a",
    "execution_start": 1628643635514,
    "execution_millis": 3696,
    "deepnote_cell_type": "code"
   },
   "source": "pip install yfinance",
   "outputs": [
    {
     "name": "stdout",
     "text": "Requirement already satisfied: yfinance in /root/venv/lib/python3.7/site-packages (0.1.63)\nRequirement already satisfied: pandas>=0.24 in /shared-libs/python3.7/py/lib/python3.7/site-packages (from yfinance) (1.2.5)\nRequirement already satisfied: multitasking>=0.0.7 in /root/venv/lib/python3.7/site-packages (from yfinance) (0.0.9)\nRequirement already satisfied: requests>=2.20 in /shared-libs/python3.7/py/lib/python3.7/site-packages (from yfinance) (2.26.0)\nRequirement already satisfied: lxml>=4.5.1 in /shared-libs/python3.7/py/lib/python3.7/site-packages (from yfinance) (4.6.3)\nRequirement already satisfied: numpy>=1.15 in /shared-libs/python3.7/py/lib/python3.7/site-packages (from yfinance) (1.19.5)\nRequirement already satisfied: python-dateutil>=2.7.3 in /shared-libs/python3.7/py-core/lib/python3.7/site-packages (from pandas>=0.24->yfinance) (2.8.2)\nRequirement already satisfied: pytz>=2017.3 in /shared-libs/python3.7/py/lib/python3.7/site-packages (from pandas>=0.24->yfinance) (2021.1)\nRequirement already satisfied: six>=1.5 in /shared-libs/python3.7/py-core/lib/python3.7/site-packages (from python-dateutil>=2.7.3->pandas>=0.24->yfinance) (1.16.0)\nRequirement already satisfied: charset-normalizer~=2.0.0 in /shared-libs/python3.7/py/lib/python3.7/site-packages (from requests>=2.20->yfinance) (2.0.4)\nRequirement already satisfied: idna<4,>=2.5 in /shared-libs/python3.7/py-core/lib/python3.7/site-packages (from requests>=2.20->yfinance) (3.2)\nRequirement already satisfied: urllib3<1.27,>=1.21.1 in /shared-libs/python3.7/py/lib/python3.7/site-packages (from requests>=2.20->yfinance) (1.26.6)\nRequirement already satisfied: certifi>=2017.4.17 in /shared-libs/python3.7/py/lib/python3.7/site-packages (from requests>=2.20->yfinance) (2021.5.30)\n\u001b[33mWARNING: Running pip as the 'root' user can result in broken permissions and conflicting behaviour with the system package manager. It is recommended to use a virtual environment instead: https://pip.pypa.io/warnings/venv\u001b[0m\n\u001b[33mWARNING: You are using pip version 21.2.2; however, version 21.2.3 is available.\nYou should consider upgrading via the '/usr/local/bin/python -m pip install --upgrade pip' command.\u001b[0m\nNote: you may need to restart the kernel to use updated packages.\n",
     "output_type": "stream"
    }
   ],
   "execution_count": 1
  },
  {
   "cell_type": "code",
   "metadata": {
    "cell_id": "00001-b36b762f-0832-4b45-a4f9-8aef59e17e11",
    "deepnote_to_be_reexecuted": false,
    "source_hash": "32367b8d",
    "execution_start": 1628643639216,
    "execution_millis": 447,
    "deepnote_cell_type": "code"
   },
   "source": "import datetime as dt\nfrom pathlib import Path\nimport requests\nimport pandas as pd\nimport numpy as np\nfrom math import floor\nfrom termcolor import colored as cl\nimport matplotlib.pyplot as plt\nplt.close('all')\nimport yfinance as yf\nplt.rcParams['figure.figsize'] = (20, 10)\nplt.style.use('fivethirtyeight')",
   "outputs": [],
   "execution_count": 2
  },
  {
   "cell_type": "code",
   "metadata": {
    "cell_id": "00003-273224b8-1123-4c40-a22e-4106e0233e0e",
    "deepnote_to_be_reexecuted": false,
    "source_hash": "664f128",
    "execution_start": 1628643639670,
    "execution_millis": 1190,
    "deepnote_cell_type": "code"
   },
   "source": "xrp_1hr = yf.download(tickers='XRP-USD', start='2019-09-01', interval='1h')\nxrp_1hr.drop(columns = ['Open','High','Low','Adj Close','Volume'], inplace = True)\nxrp_1hr.reset_index(inplace=True)\nxrp_1hr.rename(columns = {'index':'Datetime'}, inplace = True)\nxrp_1hr.set_index(pd.to_datetime(xrp_1hr['Datetime'],infer_datetime_format=True),inplace=True)\nxrp_1hr.head()",
   "outputs": [
    {
     "name": "stdout",
     "text": "[*********************100%***********************]  1 of 1 completed\n",
     "output_type": "stream"
    },
    {
     "output_type": "execute_result",
     "execution_count": 3,
     "data": {
      "application/vnd.deepnote.dataframe.v2+json": {
       "row_count": 5,
       "column_count": 2,
       "columns": [
        {
         "name": "Datetime",
         "dtype": "datetime64[ns, Europe/London]",
         "stats": {
          "unique_count": 5,
          "nan_count": 0,
          "min": "2019-09-01 01:00:00+01:00",
          "max": "2019-09-01 05:00:00+01:00",
          "histogram": [
           {
            "bin_start": 1567296000000000000,
            "bin_end": 1567297440000000000,
            "count": 1
           },
           {
            "bin_start": 1567297440000000000,
            "bin_end": 1567298880000000000,
            "count": 0
           },
           {
            "bin_start": 1567298880000000000,
            "bin_end": 1567300320000000000,
            "count": 1
           },
           {
            "bin_start": 1567300320000000000,
            "bin_end": 1567301760000000000,
            "count": 0
           },
           {
            "bin_start": 1567301760000000000,
            "bin_end": 1567303200000000000,
            "count": 0
           },
           {
            "bin_start": 1567303200000000000,
            "bin_end": 1567304640000000000,
            "count": 1
           },
           {
            "bin_start": 1567304640000000000,
            "bin_end": 1567306080000000000,
            "count": 0
           },
           {
            "bin_start": 1567306080000000000,
            "bin_end": 1567307520000000000,
            "count": 1
           },
           {
            "bin_start": 1567307520000000000,
            "bin_end": 1567308960000000000,
            "count": 0
           },
           {
            "bin_start": 1567308960000000000,
            "bin_end": 1567310400000000000,
            "count": 1
           }
          ]
         }
        },
        {
         "name": "Close",
         "dtype": "float64",
         "stats": {
          "unique_count": 5,
          "nan_count": 0,
          "min": "0.25780001282691956",
          "max": "0.2590999901294708",
          "histogram": [
           {
            "bin_start": 0.25780001282691956,
            "bin_end": 0.2579300105571747,
            "count": 1
           },
           {
            "bin_start": 0.2579300105571747,
            "bin_end": 0.2580600082874298,
            "count": 0
           },
           {
            "bin_start": 0.2580600082874298,
            "bin_end": 0.25819000601768494,
            "count": 1
           },
           {
            "bin_start": 0.25819000601768494,
            "bin_end": 0.25832000374794006,
            "count": 0
           },
           {
            "bin_start": 0.25832000374794006,
            "bin_end": 0.2584500014781952,
            "count": 1
           },
           {
            "bin_start": 0.2584500014781952,
            "bin_end": 0.2585799992084503,
            "count": 1
           },
           {
            "bin_start": 0.2585799992084503,
            "bin_end": 0.25870999693870544,
            "count": 0
           },
           {
            "bin_start": 0.25870999693870544,
            "bin_end": 0.25883999466896057,
            "count": 0
           },
           {
            "bin_start": 0.25883999466896057,
            "bin_end": 0.2589699923992157,
            "count": 0
           },
           {
            "bin_start": 0.2589699923992157,
            "bin_end": 0.2590999901294708,
            "count": 1
           }
          ]
         }
        },
        {
         "name": "_deepnote_index_column",
         "dtype": "datetime64[ns, Europe/London]"
        }
       ],
       "rows_top": [
        {
         "Datetime": "2019-09-01T01:00:00.000000",
         "Close": 0.2590999901294708,
         "_deepnote_index_column": "2019-09-01T01:00:00.000000"
        },
        {
         "Datetime": "2019-09-01T02:00:00.000000",
         "Close": 0.25839999318122864,
         "_deepnote_index_column": "2019-09-01T02:00:00.000000"
        },
        {
         "Datetime": "2019-09-01T03:00:00.000000",
         "Close": 0.25780001282691956,
         "_deepnote_index_column": "2019-09-01T03:00:00.000000"
        },
        {
         "Datetime": "2019-09-01T04:00:00.000000",
         "Close": 0.25850000977516174,
         "_deepnote_index_column": "2019-09-01T04:00:00.000000"
        },
        {
         "Datetime": "2019-09-01T05:00:00.000000",
         "Close": 0.2581000030040741,
         "_deepnote_index_column": "2019-09-01T05:00:00.000000"
        }
       ],
       "rows_bottom": null
      },
      "text/plain": "                                           Datetime   Close\nDatetime                                                   \n2019-09-01 01:00:00+01:00 2019-09-01 01:00:00+01:00  0.2591\n2019-09-01 02:00:00+01:00 2019-09-01 02:00:00+01:00  0.2584\n2019-09-01 03:00:00+01:00 2019-09-01 03:00:00+01:00  0.2578\n2019-09-01 04:00:00+01:00 2019-09-01 04:00:00+01:00  0.2585\n2019-09-01 05:00:00+01:00 2019-09-01 05:00:00+01:00  0.2581",
      "text/html": "<div>\n<style scoped>\n    .dataframe tbody tr th:only-of-type {\n        vertical-align: middle;\n    }\n\n    .dataframe tbody tr th {\n        vertical-align: top;\n    }\n\n    .dataframe thead th {\n        text-align: right;\n    }\n</style>\n<table border=\"1\" class=\"dataframe\">\n  <thead>\n    <tr style=\"text-align: right;\">\n      <th></th>\n      <th>Datetime</th>\n      <th>Close</th>\n    </tr>\n    <tr>\n      <th>Datetime</th>\n      <th></th>\n      <th></th>\n    </tr>\n  </thead>\n  <tbody>\n    <tr>\n      <th>2019-09-01 01:00:00+01:00</th>\n      <td>2019-09-01 01:00:00+01:00</td>\n      <td>0.2591</td>\n    </tr>\n    <tr>\n      <th>2019-09-01 02:00:00+01:00</th>\n      <td>2019-09-01 02:00:00+01:00</td>\n      <td>0.2584</td>\n    </tr>\n    <tr>\n      <th>2019-09-01 03:00:00+01:00</th>\n      <td>2019-09-01 03:00:00+01:00</td>\n      <td>0.2578</td>\n    </tr>\n    <tr>\n      <th>2019-09-01 04:00:00+01:00</th>\n      <td>2019-09-01 04:00:00+01:00</td>\n      <td>0.2585</td>\n    </tr>\n    <tr>\n      <th>2019-09-01 05:00:00+01:00</th>\n      <td>2019-09-01 05:00:00+01:00</td>\n      <td>0.2581</td>\n    </tr>\n  </tbody>\n</table>\n</div>"
     },
     "metadata": {}
    }
   ],
   "execution_count": 3
  },
  {
   "cell_type": "code",
   "metadata": {
    "cell_id": "00004-b28a547b-8d2d-4fd7-984c-0da7b0b83d4d",
    "deepnote_to_be_reexecuted": false,
    "source_hash": "13b9e29f",
    "execution_start": 1628643640861,
    "execution_millis": 2,
    "deepnote_cell_type": "code"
   },
   "source": "import datetime as dt\nimport matplotlib.pyplot as plt\nplt.close(\"all\")",
   "outputs": [],
   "execution_count": 4
  },
  {
   "cell_type": "code",
   "metadata": {
    "cell_id": "00005-5673fe37-11df-4f02-a17d-343314316630",
    "deepnote_to_be_reexecuted": false,
    "source_hash": "e7f05bb1",
    "execution_start": 1628643640866,
    "execution_millis": 9,
    "deepnote_cell_type": "code"
   },
   "source": "xrp_diff = xrp_1hr['Close'].diff()\nxrp_diff",
   "outputs": [
    {
     "output_type": "execute_result",
     "execution_count": 5,
     "data": {
      "text/plain": "Datetime\n2019-09-01 01:00:00+01:00         NaN\n2019-09-01 02:00:00+01:00   -0.000700\n2019-09-01 03:00:00+01:00   -0.000600\n2019-09-01 04:00:00+01:00    0.000700\n2019-09-01 05:00:00+01:00   -0.000400\n                               ...   \n2021-08-10 22:00:00+01:00    0.015932\n2021-08-10 23:00:00+01:00   -0.002835\n2021-08-11 00:00:00+01:00   -0.004694\n2021-08-11 01:00:00+01:00    0.017913\n2021-08-11 01:59:03+01:00    0.000140\nName: Close, Length: 17002, dtype: float64"
     },
     "metadata": {}
    }
   ],
   "execution_count": 5
  },
  {
   "cell_type": "code",
   "metadata": {
    "cell_id": "00006-4d25e39f-2add-4144-a16b-6df71deab084",
    "deepnote_to_be_reexecuted": false,
    "source_hash": "6f5a1506",
    "execution_start": 1628646648851,
    "execution_millis": 4,
    "deepnote_cell_type": "code"
   },
   "source": "up = xrp_diff.clip(lower=0)\ndown = -1*xrp_diff.clip(upper=0)\nema_up = up.ewm(com=13, adjust=False).mean()\nema_down = down.ewm(com=13, adjust=False).mean()\nrs = ema_up/ema_down\nrs",
   "outputs": [
    {
     "output_type": "execute_result",
     "execution_count": 17,
     "data": {
      "text/plain": "Datetime\n2019-09-01 01:00:00+01:00         NaN\n2019-09-01 02:00:00+01:00    0.000000\n2019-09-01 03:00:00+01:00    0.000000\n2019-09-01 04:00:00+01:00    0.077716\n2019-09-01 05:00:00+01:00    0.074169\n                               ...   \n2021-08-10 22:00:00+01:00    2.008319\n2021-08-10 23:00:00+01:00    1.858725\n2021-08-11 00:00:00+01:00    1.640810\n2021-08-11 01:00:00+01:00    2.122648\n2021-08-11 01:59:03+01:00    2.126716\nName: Close, Length: 17002, dtype: float64"
     },
     "metadata": {}
    }
   ],
   "execution_count": 17
  },
  {
   "cell_type": "code",
   "metadata": {
    "cell_id": "00007-7d5b7572-8c60-4e50-9182-4d35127c41a0",
    "deepnote_to_be_reexecuted": false,
    "source_hash": "e8daa11",
    "execution_start": 1628646649292,
    "execution_millis": 10,
    "deepnote_cell_type": "code"
   },
   "source": "xrp_1hr['RSI'] = 100 - (100/(1 + rs))\nxrp_1hr['RSI']",
   "outputs": [
    {
     "output_type": "execute_result",
     "execution_count": 18,
     "data": {
      "text/plain": "Datetime\n2019-09-01 01:00:00+01:00          NaN\n2019-09-01 02:00:00+01:00     0.000000\n2019-09-01 03:00:00+01:00     0.000000\n2019-09-01 04:00:00+01:00     7.211196\n2019-09-01 05:00:00+01:00     6.904779\n                               ...    \n2021-08-10 22:00:00+01:00    66.758844\n2021-08-10 23:00:00+01:00    65.019373\n2021-08-11 00:00:00+01:00    62.132825\n2021-08-11 01:00:00+01:00    67.975899\n2021-08-11 01:59:03+01:00    68.017564\nName: RSI, Length: 17002, dtype: float64"
     },
     "metadata": {}
    }
   ],
   "execution_count": 18
  },
  {
   "cell_type": "code",
   "metadata": {
    "cell_id": "00008-adc95ccf-2659-4e80-8868-39fecaacfb68",
    "deepnote_to_be_reexecuted": false,
    "source_hash": "6b235f0f",
    "execution_start": 1628646649906,
    "execution_millis": 1,
    "deepnote_cell_type": "code"
   },
   "source": "xrp_1hr_rsi= xrp_1hr.iloc[14:]\nxrp_1hr_rsi=xrp_1hr.iloc[: , 1:]\nprint(xrp_1hr_rsi)",
   "outputs": [
    {
     "name": "stdout",
     "text": "                              Close        RSI\nDatetime                                      \n2019-09-01 01:00:00+01:00  0.259100        NaN\n2019-09-01 02:00:00+01:00  0.258400   0.000000\n2019-09-01 03:00:00+01:00  0.257800   0.000000\n2019-09-01 04:00:00+01:00  0.258500   7.211196\n2019-09-01 05:00:00+01:00  0.258100   6.904779\n...                             ...        ...\n2021-08-10 22:00:00+01:00  0.858775  66.758844\n2021-08-10 23:00:00+01:00  0.855940  65.019373\n2021-08-11 00:00:00+01:00  0.851247  62.132825\n2021-08-11 01:00:00+01:00  0.869159  67.975899\n2021-08-11 01:59:03+01:00  0.869300  68.017564\n\n[17002 rows x 2 columns]\n",
     "output_type": "stream"
    }
   ],
   "execution_count": 19
  },
  {
   "cell_type": "code",
   "metadata": {
    "cell_id": "00010-261238dc-256c-4871-8b84-dffd21b24940",
    "deepnote_to_be_reexecuted": false,
    "source_hash": "1abb8bef",
    "execution_start": 1628646650336,
    "execution_millis": 633,
    "deepnote_cell_type": "code"
   },
   "source": "fig, (ax1, ax2) = plt.subplots(2)\nax1.get_xaxis().set_visible(False)\nfig.suptitle('XRP-1hr')\nxrp_1hr_rsi['Close'].plot(ax=ax1)\nax1.set_ylabel('Price ($)')\nxrp_1hr_rsi['RSI'].plot(ax=ax2)\nax2.set_ylim(0,100)\nax2.axhline(30, color='r', linestyle='--')\nax2.axhline(70, color='r', linestyle='--')\nax2.set_ylabel('RSI')\n\nplt.show()",
   "outputs": [
    {
     "data": {
      "text/plain": "<Figure size 1440x720 with 2 Axes>",
      "image/png": "[encoded data removed]"
     },
     "metadata": {
      "image/png": {
       "width": 1319,
       "height": 642
      }
     },
     "output_type": "display_data"
    }
   ],
   "execution_count": 20
  },
  {
   "cell_type": "code",
   "metadata": {
    "cell_id": "00011-dafc8435-8f9f-4846-9e37-a4d01749118b",
    "deepnote_to_be_reexecuted": false,
    "source_hash": "27ae4af4",
    "execution_start": 1628646650988,
    "execution_millis": 70,
    "deepnote_cell_type": "code"
   },
   "source": "# TRADE STRATEGY BASED ON RSI\ndef implement_rsi_strategy(prices, rsi):\n    buy_price = []\n    sell_price = []\n    rsi_signal = []\n    signal = 0\n    \n    for i in range(len(prices)):\n        if rsi[i] >= 70 :\n            if signal != 1:\n                buy_price.append(prices[i])\n                sell_price.append(np.nan)\n                signal = 1\n                rsi_signal.append(signal)\n            else:\n                buy_price.append(np.nan)\n                sell_price.append(np.nan)\n                rsi_signal.append(0)\n        elif rsi[i] <= 30:\n            if signal != -1:\n                buy_price.append(np.nan)\n                sell_price.append(prices[i])\n                signal = -1\n                rsi_signal.append(signal)\n            else:\n                buy_price.append(np.nan)\n                sell_price.append(np.nan)\n                rsi_signal.append(0)\n        else:\n            buy_price.append(np.nan)\n            sell_price.append(np.nan)\n            rsi_signal.append(0)\n            \n    return buy_price, sell_price, rsi_signal\n\nbuy_price, sell_price, rsi_signal = implement_rsi_strategy(xrp_1hr_rsi['Close'], xrp_1hr_rsi['RSI'])",
   "outputs": [],
   "execution_count": 21
  },
  {
   "cell_type": "code",
   "metadata": {
    "cell_id": "00012-7d816bbb-c220-433d-8dfb-73f0de467539",
    "deepnote_to_be_reexecuted": false,
    "source_hash": "293c99d0",
    "execution_start": 1628646651454,
    "execution_millis": 1006,
    "deepnote_cell_type": "code"
   },
   "source": "# PLOTTING TRADE SIGNALS FOR SQ AROON 25 STRATEGY\ndf = xrp_1hr_rsi\nax1 = plt.subplot2grid((11,1), (0,0), rowspan = 5, colspan = 1)\nax2 = plt.subplot2grid((11,1), (6,0), rowspan = 4, colspan = 1)\nax1.plot(df['Close'], linewidth = 2.5, color = '#2196f3')\nax1.plot(df.index, buy_price, marker = '^', color = '#26a69a', markersize = 12)\nax1.plot(df.index, sell_price, marker = 'v', color = '#ef5350', markersize = 12)\nax1.set_title('XRP DAILY CLOSE PRICES')\nax2.plot(df['RSI'], color = '#26a69a', linewidth = 2, label = 'RSI')\nax2.legend()\nax2.set_title('XRP RSI')\nplt.show()",
   "outputs": [
    {
     "data": {
      "text/plain": "<Figure size 1440x720 with 2 Axes>",
      "image/png": "[encoded data removed]"
     },
     "metadata": {
      "image/png": {
       "width": 1301,
       "height": 582
      }
     },
     "output_type": "display_data"
    }
   ],
   "execution_count": 22
  },
  {
   "cell_type": "code",
   "metadata": {
    "tags": [],
    "cell_id": "00011-a5b5673e-8b79-4a17-98cd-c96050b4dc98",
    "deepnote_to_be_reexecuted": false,
    "source_hash": "66d851b5",
    "execution_start": 1628646652463,
    "execution_millis": 78,
    "deepnote_cell_type": "code"
   },
   "source": "# CREATING POSITION FOR SQ BASED ON AROON 25 SIGNALS\nposition = []\n\nfor i in range(len(rsi_signal)):\n    if rsi_signal[i] > 1:\n        position.append(0)\n    else:\n        position.append(1)\n        \nfor i in range(len(df['Close'])):\n    if rsi_signal[i] == 1:\n        position[i] = 1\n    elif rsi_signal[i] == -1:\n        position[i] = 0\n    else:\n        position[i] = position[i-1]\n        \nrsi = df['RSI']\nclose_price = df['Close']\nrsi_signal = pd.DataFrame(rsi_signal).rename(columns = {0:'rsi_signal'}).set_index(df.index)\nposition = pd.DataFrame(position).rename(columns = {0:'rsi_position'}).set_index(df.index)\n\nframes = [close_price, rsi, rsi_signal, position]\nstrategy = pd.concat(frames, join = 'inner', axis = 1)\n\nstrategy",
   "outputs": [
    {
     "output_type": "execute_result",
     "execution_count": 23,
     "data": {
      "application/vnd.deepnote.dataframe.v2+json": {
       "row_count": 17002,
       "column_count": 4,
       "columns": [
        {
         "name": "Close",
         "dtype": "float64",
         "stats": {
          "unique_count": 16591,
          "nan_count": 0,
          "min": "0.12985041737556458",
          "max": "1.9378489255905151",
          "histogram": [
           {
            "bin_start": 0.12985041737556458,
            "bin_end": 0.31065026819705965,
            "count": 11355
           },
           {
            "bin_start": 0.31065026819705965,
            "bin_end": 0.4914501190185547,
            "count": 1233
           },
           {
            "bin_start": 0.4914501190185547,
            "bin_end": 0.6722499698400497,
            "count": 2101
           },
           {
            "bin_start": 0.6722499698400497,
            "bin_end": 0.8530498206615448,
            "count": 682
           },
           {
            "bin_start": 0.8530498206615448,
            "bin_end": 1.0338496714830399,
            "count": 596
           },
           {
            "bin_start": 1.0338496714830399,
            "bin_end": 1.2146495223045348,
            "count": 182
           },
           {
            "bin_start": 1.2146495223045348,
            "bin_end": 1.39544937312603,
            "count": 270
           },
           {
            "bin_start": 1.39544937312603,
            "bin_end": 1.576249223947525,
            "count": 343
           },
           {
            "bin_start": 1.576249223947525,
            "bin_end": 1.75704907476902,
            "count": 204
           },
           {
            "bin_start": 1.75704907476902,
            "bin_end": 1.9378489255905151,
            "count": 36
           }
          ]
         }
        },
        {
         "name": "RSI",
         "dtype": "float64",
         "stats": {
          "unique_count": 16973,
          "nan_count": 1,
          "min": "0.0",
          "max": "89.77691957545329",
          "histogram": [
           {
            "bin_start": 0,
            "bin_end": 8.977691957545328,
            "count": 10
           },
           {
            "bin_start": 8.977691957545328,
            "bin_end": 17.955383915090657,
            "count": 70
           },
           {
            "bin_start": 17.955383915090657,
            "bin_end": 26.933075872635985,
            "count": 389
           },
           {
            "bin_start": 26.933075872635985,
            "bin_end": 35.910767830181314,
            "count": 1338
           },
           {
            "bin_start": 35.910767830181314,
            "bin_end": 44.888459787726646,
            "count": 3500
           },
           {
            "bin_start": 44.888459787726646,
            "bin_end": 53.86615174527197,
            "count": 5419
           },
           {
            "bin_start": 53.86615174527197,
            "bin_end": 62.843843702817296,
            "count": 3980
           },
           {
            "bin_start": 62.843843702817296,
            "bin_end": 71.82153566036263,
            "count": 1597
           },
           {
            "bin_start": 71.82153566036263,
            "bin_end": 80.79922761790796,
            "count": 569
           },
           {
            "bin_start": 80.79922761790796,
            "bin_end": 89.77691957545329,
            "count": 129
           }
          ]
         }
        },
        {
         "name": "rsi_signal",
         "dtype": "int64",
         "stats": {
          "unique_count": 3,
          "nan_count": 0,
          "min": "-1",
          "max": "1",
          "histogram": [
           {
            "bin_start": -1,
            "bin_end": -0.8,
            "count": 57
           },
           {
            "bin_start": -0.8,
            "bin_end": -0.6,
            "count": 0
           },
           {
            "bin_start": -0.6,
            "bin_end": -0.3999999999999999,
            "count": 0
           },
           {
            "bin_start": -0.3999999999999999,
            "bin_end": -0.19999999999999996,
            "count": 0
           },
           {
            "bin_start": -0.19999999999999996,
            "bin_end": 0,
            "count": 0
           },
           {
            "bin_start": 0,
            "bin_end": 0.20000000000000018,
            "count": 16888
           },
           {
            "bin_start": 0.20000000000000018,
            "bin_end": 0.40000000000000013,
            "count": 0
           },
           {
            "bin_start": 0.40000000000000013,
            "bin_end": 0.6000000000000001,
            "count": 0
           },
           {
            "bin_start": 0.6000000000000001,
            "bin_end": 0.8,
            "count": 0
           },
           {
            "bin_start": 0.8,
            "bin_end": 1,
            "count": 57
           }
          ]
         }
        },
        {
         "name": "rsi_position",
         "dtype": "int64",
         "stats": {
          "unique_count": 2,
          "nan_count": 0,
          "min": "0",
          "max": "1",
          "histogram": [
           {
            "bin_start": 0,
            "bin_end": 0.1,
            "count": 8054
           },
           {
            "bin_start": 0.1,
            "bin_end": 0.2,
            "count": 0
           },
           {
            "bin_start": 0.2,
            "bin_end": 0.30000000000000004,
            "count": 0
           },
           {
            "bin_start": 0.30000000000000004,
            "bin_end": 0.4,
            "count": 0
           },
           {
            "bin_start": 0.4,
            "bin_end": 0.5,
            "count": 0
           },
           {
            "bin_start": 0.5,
            "bin_end": 0.6000000000000001,
            "count": 0
           },
           {
            "bin_start": 0.6000000000000001,
            "bin_end": 0.7000000000000001,
            "count": 0
           },
           {
            "bin_start": 0.7000000000000001,
            "bin_end": 0.8,
            "count": 0
           },
           {
            "bin_start": 0.8,
            "bin_end": 0.9,
            "count": 0
           },
           {
            "bin_start": 0.9,
            "bin_end": 1,
            "count": 8948
           }
          ]
         }
        },
        {
         "name": "_deepnote_index_column",
         "dtype": "datetime64[ns, Europe/London]"
        }
       ],
       "rows_top": [
        {
         "Close": 0.2590999901294708,
         "RSI": "nan",
         "rsi_signal": 0,
         "rsi_position": 1,
         "_deepnote_index_column": "2019-09-01T01:00:00.000000"
        },
        {
         "Close": 0.25839999318122864,
         "RSI": 0,
         "rsi_signal": -1,
         "rsi_position": 0,
         "_deepnote_index_column": "2019-09-01T02:00:00.000000"
        },
        {
         "Close": 0.25780001282691956,
         "RSI": 0,
         "rsi_signal": 0,
         "rsi_position": 0,
         "_deepnote_index_column": "2019-09-01T03:00:00.000000"
        },
        {
         "Close": 0.25850000977516174,
         "RSI": 7.211196442120851,
         "rsi_signal": 0,
         "rsi_position": 0,
         "_deepnote_index_column": "2019-09-01T04:00:00.000000"
        },
        {
         "Close": 0.2581000030040741,
         "RSI": 6.904779333782713,
         "rsi_signal": 0,
         "rsi_position": 0,
         "_deepnote_index_column": "2019-09-01T05:00:00.000000"
        },
        {
         "Close": 0.2581000030040741,
         "RSI": 6.904779333782713,
         "rsi_signal": 0,
         "rsi_position": 0,
         "_deepnote_index_column": "2019-09-01T06:00:00.000000"
        },
        {
         "Close": 0.25850000977516174,
         "RSI": 11.277088229297888,
         "rsi_signal": 0,
         "rsi_position": 0,
         "_deepnote_index_column": "2019-09-01T07:00:00.000000"
        },
        {
         "Close": 0.2581999897956848,
         "RSI": 10.864917267255507,
         "rsi_signal": 0,
         "rsi_position": 0,
         "_deepnote_index_column": "2019-09-01T08:00:00.000000"
        },
        {
         "Close": 0.2567000091075897,
         "RSI": 9.07839077574556,
         "rsi_signal": 0,
         "rsi_position": 0,
         "_deepnote_index_column": "2019-09-01T09:00:00.000000"
        },
        {
         "Close": 0.2563999891281128,
         "RSI": 8.767845367956909,
         "rsi_signal": 0,
         "rsi_position": 0,
         "_deepnote_index_column": "2019-09-01T10:00:00.000000"
        },
        {
         "Close": 0.2558000087738037,
         "RSI": 8.166242307125373,
         "rsi_signal": 0,
         "rsi_position": 0,
         "_deepnote_index_column": "2019-09-01T11:00:00.000000"
        },
        {
         "Close": 0.2551000118255615,
         "RSI": 7.518101810101584,
         "rsi_signal": 0,
         "rsi_position": 0,
         "_deepnote_index_column": "2019-09-01T12:00:00.000000"
        },
        {
         "Close": 0.2556999921798706,
         "RSI": 13.830928627190161,
         "rsi_signal": 0,
         "rsi_position": 0,
         "_deepnote_index_column": "2019-09-01T13:00:00.000000"
        },
        {
         "Close": 0.2549000084400177,
         "RSI": 12.596293252773307,
         "rsi_signal": 0,
         "rsi_position": 0,
         "_deepnote_index_column": "2019-09-01T14:00:00.000000"
        },
        {
         "Close": 0.2549999952316284,
         "RSI": 13.63400400845481,
         "rsi_signal": 0,
         "rsi_position": 0,
         "_deepnote_index_column": "2019-09-01T15:00:00.000000"
        },
        {
         "Close": 0.25609999895095825,
         "RSI": 24.28444909672568,
         "rsi_signal": 0,
         "rsi_position": 0,
         "_deepnote_index_column": "2019-09-01T16:00:00.000000"
        },
        {
         "Close": 0.2542000114917755,
         "RSI": 19.753320853726592,
         "rsi_signal": 0,
         "rsi_position": 0,
         "_deepnote_index_column": "2019-09-01T17:00:00.000000"
        },
        {
         "Close": 0.2542000114917755,
         "RSI": 19.753320853726592,
         "rsi_signal": 0,
         "rsi_position": 0,
         "_deepnote_index_column": "2019-09-01T18:00:00.000000"
        },
        {
         "Close": 0.25519999861717224,
         "RSI": 27.95825946554352,
         "rsi_signal": 0,
         "rsi_position": 0,
         "_deepnote_index_column": "2019-09-01T19:00:00.000000"
        },
        {
         "Close": 0.25589999556541443,
         "RSI": 33.113766999712155,
         "rsi_signal": 0,
         "rsi_position": 0,
         "_deepnote_index_column": "2019-09-01T20:00:00.000000"
        },
        {
         "Close": 0.2563999891281128,
         "RSI": 36.60360099409084,
         "rsi_signal": 0,
         "rsi_position": 0,
         "_deepnote_index_column": "2019-09-01T21:00:00.000000"
        },
        {
         "Close": 0.25679999589920044,
         "RSI": 39.33084256574019,
         "rsi_signal": 0,
         "rsi_position": 0,
         "_deepnote_index_column": "2019-09-01T22:00:00.000000"
        },
        {
         "Close": 0.2572999894618988,
         "RSI": 42.651780148404264,
         "rsi_signal": 0,
         "rsi_position": 0,
         "_deepnote_index_column": "2019-09-01T23:00:00.000000"
        },
        {
         "Close": 0.25690001249313354,
         "RSI": 40.7310193486887,
         "rsi_signal": 0,
         "rsi_position": 0,
         "_deepnote_index_column": "2019-09-02T00:00:00.000000"
        },
        {
         "Close": 0.2558000087738037,
         "RSI": 35.93775951237666,
         "rsi_signal": 0,
         "rsi_position": 0,
         "_deepnote_index_column": "2019-09-02T01:00:00.000000"
        },
        {
         "Close": 0.2554999887943268,
         "RSI": 34.73704630562899,
         "rsi_signal": 0,
         "rsi_position": 0,
         "_deepnote_index_column": "2019-09-02T02:00:00.000000"
        },
        {
         "Close": 0.2558000087738037,
         "RSI": 37.003714321560196,
         "rsi_signal": 0,
         "rsi_position": 0,
         "_deepnote_index_column": "2019-09-02T03:00:00.000000"
        },
        {
         "Close": 0.2554999887943268,
         "RSI": 35.66956722727407,
         "rsi_signal": 0,
         "rsi_position": 0,
         "_deepnote_index_column": "2019-09-02T04:00:00.000000"
        },
        {
         "Close": 0.2554999887943268,
         "RSI": 35.66956722727407,
         "rsi_signal": 0,
         "rsi_position": 0,
         "_deepnote_index_column": "2019-09-02T05:00:00.000000"
        },
        {
         "Close": 0.25529998540878296,
         "RSI": 34.702242103600184,
         "rsi_signal": 0,
         "rsi_position": 0,
         "_deepnote_index_column": "2019-09-02T06:00:00.000000"
        },
        {
         "Close": 0.2549999952316284,
         "RSI": 33.24588815538884,
         "rsi_signal": 0,
         "rsi_position": 0,
         "_deepnote_index_column": "2019-09-02T07:00:00.000000"
        },
        {
         "Close": 0.25429999828338623,
         "RSI": 30.07428719671998,
         "rsi_signal": 0,
         "rsi_position": 0,
         "_deepnote_index_column": "2019-09-02T08:00:00.000000"
        },
        {
         "Close": 0.25440001487731934,
         "RSI": 31.085888452420065,
         "rsi_signal": 0,
         "rsi_position": 0,
         "_deepnote_index_column": "2019-09-02T09:00:00.000000"
        },
        {
         "Close": 0.2549999952316284,
         "RSI": 36.97605649032666,
         "rsi_signal": 0,
         "rsi_position": 0,
         "_deepnote_index_column": "2019-09-02T10:00:00.000000"
        },
        {
         "Close": 0.25459998846054077,
         "RSI": 34.838145833313064,
         "rsi_signal": 0,
         "rsi_position": 0,
         "_deepnote_index_column": "2019-09-02T11:00:00.000000"
        },
        {
         "Close": 0.2556999921798706,
         "RSI": 44.36460724968443,
         "rsi_signal": 0,
         "rsi_position": 0,
         "_deepnote_index_column": "2019-09-02T12:00:00.000000"
        },
        {
         "Close": 0.2549999952316284,
         "RSI": 40.32449194501216,
         "rsi_signal": 0,
         "rsi_position": 0,
         "_deepnote_index_column": "2019-09-02T13:00:00.000000"
        },
        {
         "Close": 0.257999986410141,
         "RSI": 57.98404971578489,
         "rsi_signal": 0,
         "rsi_position": 0,
         "_deepnote_index_column": "2019-09-02T14:00:00.000000"
        },
        {
         "Close": 0.25760000944137573,
         "RSI": 55.62074255074792,
         "rsi_signal": 0,
         "rsi_position": 0,
         "_deepnote_index_column": "2019-09-02T15:00:00.000000"
        },
        {
         "Close": 0.25699999928474426,
         "RSI": 52.18466595812119,
         "rsi_signal": 0,
         "rsi_position": 0,
         "_deepnote_index_column": "2019-09-02T16:00:00.000000"
        },
        {
         "Close": 0.25780001282691956,
         "RSI": 56.0805528375338,
         "rsi_signal": 0,
         "rsi_position": 0,
         "_deepnote_index_column": "2019-09-02T17:00:00.000000"
        },
        {
         "Close": 0.25870001316070557,
         "RSI": 60.02641788181284,
         "rsi_signal": 0,
         "rsi_position": 0,
         "_deepnote_index_column": "2019-09-02T18:00:00.000000"
        },
        {
         "Close": 0.260699987411499,
         "RSI": 67.10011097181231,
         "rsi_signal": 0,
         "rsi_position": 0,
         "_deepnote_index_column": "2019-09-02T19:00:00.000000"
        },
        {
         "Close": 0.26089999079704285,
         "RSI": 67.71538194122384,
         "rsi_signal": 0,
         "rsi_position": 0,
         "_deepnote_index_column": "2019-09-02T20:00:00.000000"
        },
        {
         "Close": 0.2628999948501587,
         "RSI": 73.12740677902582,
         "rsi_signal": 1,
         "rsi_position": 1,
         "_deepnote_index_column": "2019-09-02T21:00:00.000000"
        },
        {
         "Close": 0.2630999982357025,
         "RSI": 73.60394130143254,
         "rsi_signal": 0,
         "rsi_position": 1,
         "_deepnote_index_column": "2019-09-02T22:00:00.000000"
        },
        {
         "Close": 0.2624000012874603,
         "RSI": 68.99256498808128,
         "rsi_signal": 0,
         "rsi_position": 1,
         "_deepnote_index_column": "2019-09-02T23:00:00.000000"
        },
        {
         "Close": 0.26159998774528503,
         "RSI": 64.05335752041536,
         "rsi_signal": 0,
         "rsi_position": 1,
         "_deepnote_index_column": "2019-09-03T00:00:00.000000"
        },
        {
         "Close": 0.26080000400543213,
         "RSI": 59.46865072075512,
         "rsi_signal": 0,
         "rsi_position": 1,
         "_deepnote_index_column": "2019-09-03T01:00:00.000000"
        },
        {
         "Close": 0.2606000006198883,
         "RSI": 58.34428178965782,
         "rsi_signal": 0,
         "rsi_position": 1,
         "_deepnote_index_column": "2019-09-03T02:00:00.000000"
        },
        {
         "Close": 0.26080000400543213,
         "RSI": 59.17552112166523,
         "rsi_signal": 0,
         "rsi_position": 1,
         "_deepnote_index_column": "2019-09-03T03:00:00.000000"
        },
        {
         "Close": 0.2615000009536743,
         "RSI": 62.03127609510154,
         "rsi_signal": 0,
         "rsi_position": 1,
         "_deepnote_index_column": "2019-09-03T04:00:00.000000"
        },
        {
         "Close": 0.2614000141620636,
         "RSI": 61.370896073408524,
         "rsi_signal": 0,
         "rsi_position": 1,
         "_deepnote_index_column": "2019-09-03T05:00:00.000000"
        },
        {
         "Close": 0.2612999975681305,
         "RSI": 60.67505905496503,
         "rsi_signal": 0,
         "rsi_position": 1,
         "_deepnote_index_column": "2019-09-03T06:00:00.000000"
        },
        {
         "Close": 0.26100000739097595,
         "RSI": 58.53140989673867,
         "rsi_signal": 0,
         "rsi_position": 1,
         "_deepnote_index_column": "2019-09-03T07:00:00.000000"
        },
        {
         "Close": 0.260699987411499,
         "RSI": 56.38584612323966,
         "rsi_signal": 0,
         "rsi_position": 1,
         "_deepnote_index_column": "2019-09-03T08:00:00.000000"
        },
        {
         "Close": 0.2603999972343445,
         "RSI": 54.24467634232765,
         "rsi_signal": 0,
         "rsi_position": 1,
         "_deepnote_index_column": "2019-09-03T09:00:00.000000"
        },
        {
         "Close": 0.258899986743927,
         "RSI": 45.03572624819226,
         "rsi_signal": 0,
         "rsi_position": 1,
         "_deepnote_index_column": "2019-09-03T10:00:00.000000"
        },
        {
         "Close": 0.26010000705718994,
         "RSI": 52.04912481086501,
         "rsi_signal": 0,
         "rsi_position": 1,
         "_deepnote_index_column": "2019-09-03T11:00:00.000000"
        },
        {
         "Close": 0.26010000705718994,
         "RSI": 52.04912481086501,
         "rsi_signal": 0,
         "rsi_position": 1,
         "_deepnote_index_column": "2019-09-03T12:00:00.000000"
        },
        {
         "Close": 0.2621000111103058,
         "RSI": 61.535841071470465,
         "rsi_signal": 0,
         "rsi_position": 1,
         "_deepnote_index_column": "2019-09-03T13:00:00.000000"
        },
        {
         "Close": 0.2646999955177307,
         "RSI": 69.87874115479991,
         "rsi_signal": 0,
         "rsi_position": 1,
         "_deepnote_index_column": "2019-09-03T14:00:00.000000"
        },
        {
         "Close": 0.26350000500679016,
         "RSI": 63.07836435411469,
         "rsi_signal": 0,
         "rsi_position": 1,
         "_deepnote_index_column": "2019-09-03T15:00:00.000000"
        },
        {
         "Close": 0.2637999951839447,
         "RSI": 64.02101489069858,
         "rsi_signal": 0,
         "rsi_position": 1,
         "_deepnote_index_column": "2019-09-03T16:00:00.000000"
        },
        {
         "Close": 0.2630000114440918,
         "RSI": 59.647591648121924,
         "rsi_signal": 0,
         "rsi_position": 1,
         "_deepnote_index_column": "2019-09-03T17:00:00.000000"
        },
        {
         "Close": 0.2619999945163727,
         "RSI": 54.62422245983201,
         "rsi_signal": 0,
         "rsi_position": 1,
         "_deepnote_index_column": "2019-09-03T18:00:00.000000"
        },
        {
         "Close": 0.2619999945163727,
         "RSI": 54.62422245983201,
         "rsi_signal": 0,
         "rsi_position": 1,
         "_deepnote_index_column": "2019-09-03T19:00:00.000000"
        },
        {
         "Close": 0.2624000012874603,
         "RSI": 56.3303490933221,
         "rsi_signal": 0,
         "rsi_position": 1,
         "_deepnote_index_column": "2019-09-03T20:00:00.000000"
        },
        {
         "Close": 0.26339998841285706,
         "RSI": 60.34457274182424,
         "rsi_signal": 0,
         "rsi_position": 1,
         "_deepnote_index_column": "2019-09-03T21:00:00.000000"
        },
        {
         "Close": 0.26409998536109924,
         "RSI": 62.91445337230005,
         "rsi_signal": 0,
         "rsi_position": 1,
         "_deepnote_index_column": "2019-09-03T22:00:00.000000"
        },
        {
         "Close": 0.26460000872612,
         "RSI": 64.67547806597554,
         "rsi_signal": 0,
         "rsi_position": 1,
         "_deepnote_index_column": "2019-09-03T23:00:00.000000"
        },
        {
         "Close": 0.2632000148296356,
         "RSI": 56.575078307331424,
         "rsi_signal": 0,
         "rsi_position": 1,
         "_deepnote_index_column": "2019-09-04T00:00:00.000000"
        },
        {
         "Close": 0.26269999146461487,
         "RSI": 53.974875097953515,
         "rsi_signal": 0,
         "rsi_position": 1,
         "_deepnote_index_column": "2019-09-04T01:00:00.000000"
        },
        {
         "Close": 0.26190000772476196,
         "RSI": 50.01435397041667,
         "rsi_signal": 0,
         "rsi_position": 1,
         "_deepnote_index_column": "2019-09-04T02:00:00.000000"
        },
        {
         "Close": 0.26159998774528503,
         "RSI": 48.574808182072985,
         "rsi_signal": 0,
         "rsi_position": 1,
         "_deepnote_index_column": "2019-09-04T03:00:00.000000"
        },
        {
         "Close": 0.2623000144958496,
         "RSI": 52.04321493833201,
         "rsi_signal": 0,
         "rsi_position": 1,
         "_deepnote_index_column": "2019-09-04T04:00:00.000000"
        },
        {
         "Close": 0.26089999079704285,
         "RSI": 45.44209156100641,
         "rsi_signal": 0,
         "rsi_position": 1,
         "_deepnote_index_column": "2019-09-04T05:00:00.000000"
        },
        {
         "Close": 0.260699987411499,
         "RSI": 44.57231918927332,
         "rsi_signal": 0,
         "rsi_position": 1,
         "_deepnote_index_column": "2019-09-04T06:00:00.000000"
        },
        {
         "Close": 0.2606000006198883,
         "RSI": 44.11769754969853,
         "rsi_signal": 0,
         "rsi_position": 1,
         "_deepnote_index_column": "2019-09-04T07:00:00.000000"
        },
        {
         "Close": 0.2605000138282776,
         "RSI": 43.638363794160455,
         "rsi_signal": 0,
         "rsi_position": 1,
         "_deepnote_index_column": "2019-09-04T08:00:00.000000"
        },
        {
         "Close": 0.258899986743927,
         "RSI": 36.7561978520137,
         "rsi_signal": 0,
         "rsi_position": 1,
         "_deepnote_index_column": "2019-09-04T09:00:00.000000"
        },
        {
         "Close": 0.2597000002861023,
         "RSI": 41.70649782950468,
         "rsi_signal": 0,
         "rsi_position": 1,
         "_deepnote_index_column": "2019-09-04T10:00:00.000000"
        },
        {
         "Close": 0.2596000134944916,
         "RSI": 41.27169156490086,
         "rsi_signal": 0,
         "rsi_position": 1,
         "_deepnote_index_column": "2019-09-04T11:00:00.000000"
        },
        {
         "Close": 0.25929999351501465,
         "RSI": 39.92661564950874,
         "rsi_signal": 0,
         "rsi_position": 1,
         "_deepnote_index_column": "2019-09-04T12:00:00.000000"
        },
        {
         "Close": 0.25850000977516174,
         "RSI": 36.509813671834884,
         "rsi_signal": 0,
         "rsi_position": 1,
         "_deepnote_index_column": "2019-09-04T13:00:00.000000"
        },
        {
         "Close": 0.2587999999523163,
         "RSI": 38.630707768861534,
         "rsi_signal": 0,
         "rsi_position": 1,
         "_deepnote_index_column": "2019-09-04T14:00:00.000000"
        },
        {
         "Close": 0.2581999897956848,
         "RSI": 36.03768952725249,
         "rsi_signal": 0,
         "rsi_position": 1,
         "_deepnote_index_column": "2019-09-04T15:00:00.000000"
        },
        {
         "Close": 0.25859999656677246,
         "RSI": 38.97838484347566,
         "rsi_signal": 0,
         "rsi_position": 1,
         "_deepnote_index_column": "2019-09-04T16:00:00.000000"
        },
        {
         "Close": 0.26019999384880066,
         "RSI": 49.065646188845655,
         "rsi_signal": 0,
         "rsi_position": 1,
         "_deepnote_index_column": "2019-09-04T17:00:00.000000"
        },
        {
         "Close": 0.26019999384880066,
         "RSI": 49.06564618884565,
         "rsi_signal": 0,
         "rsi_position": 1,
         "_deepnote_index_column": "2019-09-04T18:00:00.000000"
        },
        {
         "Close": 0.25949999690055847,
         "RSI": 45.26870465165713,
         "rsi_signal": 0,
         "rsi_position": 1,
         "_deepnote_index_column": "2019-09-04T19:00:00.000000"
        },
        {
         "Close": 0.26080000400543213,
         "RSI": 52.60421553532113,
         "rsi_signal": 0,
         "rsi_position": 1,
         "_deepnote_index_column": "2019-09-04T20:00:00.000000"
        },
        {
         "Close": 0.2603999972343445,
         "RSI": 50.367299880568076,
         "rsi_signal": 0,
         "rsi_position": 1,
         "_deepnote_index_column": "2019-09-04T21:00:00.000000"
        },
        {
         "Close": 0.26159998774528503,
         "RSI": 56.36226199853756,
         "rsi_signal": 0,
         "rsi_position": 1,
         "_deepnote_index_column": "2019-09-04T22:00:00.000000"
        },
        {
         "Close": 0.258899986743927,
         "RSI": 43.60117815392194,
         "rsi_signal": 0,
         "rsi_position": 1,
         "_deepnote_index_column": "2019-09-04T23:00:00.000000"
        },
        {
         "Close": 0.258899986743927,
         "RSI": 43.60117815392194,
         "rsi_signal": 0,
         "rsi_position": 1,
         "_deepnote_index_column": "2019-09-05T00:00:00.000000"
        },
        {
         "Close": 0.25839999318122864,
         "RSI": 41.57933908665667,
         "rsi_signal": 0,
         "rsi_position": 1,
         "_deepnote_index_column": "2019-09-05T01:00:00.000000"
        },
        {
         "Close": 0.25839999318122864,
         "RSI": 41.579339086656674,
         "rsi_signal": 0,
         "rsi_position": 1,
         "_deepnote_index_column": "2019-09-05T02:00:00.000000"
        },
        {
         "Close": 0.25850000977516174,
         "RSI": 42.20113049648685,
         "rsi_signal": 0,
         "rsi_position": 1,
         "_deepnote_index_column": "2019-09-05T03:00:00.000000"
        },
        {
         "Close": 0.2590999901294708,
         "RSI": 45.91962864920522,
         "rsi_signal": 0,
         "rsi_position": 1,
         "_deepnote_index_column": "2019-09-05T04:00:00.000000"
        },
        {
         "Close": 0.258899986743927,
         "RSI": 44.883018904707406,
         "rsi_signal": 0,
         "rsi_position": 1,
         "_deepnote_index_column": "2019-09-05T05:00:00.000000"
        },
        {
         "Close": 0.2587999999523163,
         "RSI": 44.34407631875801,
         "rsi_signal": 0,
         "rsi_position": 1,
         "_deepnote_index_column": "2019-09-05T06:00:00.000000"
        },
        {
         "Close": 0.2587999999523163,
         "RSI": 44.34407631875801,
         "rsi_signal": 0,
         "rsi_position": 1,
         "_deepnote_index_column": "2019-09-05T07:00:00.000000"
        },
        {
         "Close": 0.25769999623298645,
         "RSI": 38.45280111891668,
         "rsi_signal": 0,
         "rsi_position": 1,
         "_deepnote_index_column": "2019-09-05T09:00:00.000000"
        },
        {
         "Close": 0.25699999928474426,
         "RSI": 35.24398126866943,
         "rsi_signal": 0,
         "rsi_position": 1,
         "_deepnote_index_column": "2019-09-05T10:00:00.000000"
        },
        {
         "Close": 0.25780001282691956,
         "RSI": 41.27544805998563,
         "rsi_signal": 0,
         "rsi_position": 1,
         "_deepnote_index_column": "2019-09-05T11:00:00.000000"
        },
        {
         "Close": 0.25589999556541443,
         "RSI": 33.33436292937954,
         "rsi_signal": 0,
         "rsi_position": 1,
         "_deepnote_index_column": "2019-09-05T12:00:00.000000"
        },
        {
         "Close": 0.2565000057220459,
         "RSI": 37.42839366285846,
         "rsi_signal": 0,
         "rsi_position": 1,
         "_deepnote_index_column": "2019-09-05T13:00:00.000000"
        },
        {
         "Close": 0.2558000087738037,
         "RSI": 34.74741249793675,
         "rsi_signal": 0,
         "rsi_position": 1,
         "_deepnote_index_column": "2019-09-05T14:00:00.000000"
        },
        {
         "Close": 0.2554999887943268,
         "RSI": 33.63535484852942,
         "rsi_signal": 0,
         "rsi_position": 1,
         "_deepnote_index_column": "2019-09-05T15:00:00.000000"
        },
        {
         "Close": 0.25609999895095825,
         "RSI": 37.914786726649346,
         "rsi_signal": 0,
         "rsi_position": 1,
         "_deepnote_index_column": "2019-09-05T16:00:00.000000"
        },
        {
         "Close": 0.25519999861717224,
         "RSI": 34.337999672417936,
         "rsi_signal": 0,
         "rsi_position": 1,
         "_deepnote_index_column": "2019-09-05T17:00:00.000000"
        },
        {
         "Close": 0.2549000084400177,
         "RSI": 33.21327751948891,
         "rsi_signal": 0,
         "rsi_position": 1,
         "_deepnote_index_column": "2019-09-05T18:00:00.000000"
        },
        {
         "Close": 0.25589999556541443,
         "RSI": 40.24000147575949,
         "rsi_signal": 0,
         "rsi_position": 1,
         "_deepnote_index_column": "2019-09-05T19:00:00.000000"
        },
        {
         "Close": 0.25519999861717224,
         "RSI": 37.28294642566059,
         "rsi_signal": 0,
         "rsi_position": 1,
         "_deepnote_index_column": "2019-09-05T20:00:00.000000"
        },
        {
         "Close": 0.25459998846054077,
         "RSI": 34.914546872811044,
         "rsi_signal": 0,
         "rsi_position": 1,
         "_deepnote_index_column": "2019-09-05T21:00:00.000000"
        },
        {
         "Close": 0.25540000200271606,
         "RSI": 40.35508189379651,
         "rsi_signal": 0,
         "rsi_position": 1,
         "_deepnote_index_column": "2019-09-05T22:00:00.000000"
        },
        {
         "Close": 0.2563999891281128,
         "RSI": 46.38767548738346,
         "rsi_signal": 0,
         "rsi_position": 1,
         "_deepnote_index_column": "2019-09-05T23:00:00.000000"
        },
        {
         "Close": 0.2565999925136566,
         "RSI": 47.53072052947919,
         "rsi_signal": 0,
         "rsi_position": 1,
         "_deepnote_index_column": "2019-09-06T00:00:00.000000"
        },
        {
         "Close": 0.25589999556541443,
         "RSI": 43.99524428985341,
         "rsi_signal": 0,
         "rsi_position": 1,
         "_deepnote_index_column": "2019-09-06T01:00:00.000000"
        },
        {
         "Close": 0.2558000087738037,
         "RSI": 43.49754225848445,
         "rsi_signal": 0,
         "rsi_position": 1,
         "_deepnote_index_column": "2019-09-06T02:00:00.000000"
        },
        {
         "Close": 0.2554999887943268,
         "RSI": 41.963533096364,
         "rsi_signal": 0,
         "rsi_position": 1,
         "_deepnote_index_column": "2019-09-06T03:00:00.000000"
        },
        {
         "Close": 0.2563999891281128,
         "RSI": 47.89938750875187,
         "rsi_signal": 0,
         "rsi_position": 1,
         "_deepnote_index_column": "2019-09-06T04:00:00.000000"
        },
        {
         "Close": 0.2581000030040741,
         "RSI": 56.87229348770932,
         "rsi_signal": 0,
         "rsi_position": 1,
         "_deepnote_index_column": "2019-09-06T05:00:00.000000"
        },
        {
         "Close": 0.2574999928474426,
         "RSI": 53.37812062787411,
         "rsi_signal": 0,
         "rsi_position": 1,
         "_deepnote_index_column": "2019-09-06T06:00:00.000000"
        }
       ],
       "rows_bottom": [
        {
         "Close": 0.7338907122612,
         "RSI": 61.3473619398692,
         "rsi_signal": 0,
         "rsi_position": 0,
         "_deepnote_index_column": "2021-08-05T22:00:00.000000"
        },
        {
         "Close": 0.7361543774604797,
         "RSI": 63.15736288877275,
         "rsi_signal": 0,
         "rsi_position": 0,
         "_deepnote_index_column": "2021-08-05T23:00:00.000000"
        },
        {
         "Close": 0.7334988713264465,
         "RSI": 59.62973827853679,
         "rsi_signal": 0,
         "rsi_position": 0,
         "_deepnote_index_column": "2021-08-06T00:00:00.000000"
        },
        {
         "Close": 0.7292117476463318,
         "RSI": 54.35167385905576,
         "rsi_signal": 0,
         "rsi_position": 0,
         "_deepnote_index_column": "2021-08-06T01:00:00.000000"
        },
        {
         "Close": 0.7344500422477722,
         "RSI": 59.1137629463739,
         "rsi_signal": 0,
         "rsi_position": 0,
         "_deepnote_index_column": "2021-08-06T02:00:00.000000"
        },
        {
         "Close": 0.7300060987472534,
         "RSI": 53.96991972496316,
         "rsi_signal": 0,
         "rsi_position": 0,
         "_deepnote_index_column": "2021-08-06T03:00:00.000000"
        },
        {
         "Close": 0.7291244268417358,
         "RSI": 52.984834385678106,
         "rsi_signal": 0,
         "rsi_position": 0,
         "_deepnote_index_column": "2021-08-06T04:00:00.000000"
        },
        {
         "Close": 0.729397714138031,
         "RSI": 53.26955513908112,
         "rsi_signal": 0,
         "rsi_position": 0,
         "_deepnote_index_column": "2021-08-06T05:00:00.000000"
        },
        {
         "Close": 0.7333324551582336,
         "RSI": 57.28085474327338,
         "rsi_signal": 0,
         "rsi_position": 0,
         "_deepnote_index_column": "2021-08-06T06:00:00.000000"
        },
        {
         "Close": 0.7361997365951538,
         "RSI": 59.9769441132575,
         "rsi_signal": 0,
         "rsi_position": 0,
         "_deepnote_index_column": "2021-08-06T07:00:00.000000"
        },
        {
         "Close": 0.7349915504455566,
         "RSI": 58.30707961203364,
         "rsi_signal": 0,
         "rsi_position": 0,
         "_deepnote_index_column": "2021-08-06T08:00:00.000000"
        },
        {
         "Close": 0.7364867329597473,
         "RSI": 59.79877857078812,
         "rsi_signal": 0,
         "rsi_position": 0,
         "_deepnote_index_column": "2021-08-06T09:00:00.000000"
        },
        {
         "Close": 0.7317798137664795,
         "RSI": 53.33006130326906,
         "rsi_signal": 0,
         "rsi_position": 0,
         "_deepnote_index_column": "2021-08-06T10:00:00.000000"
        },
        {
         "Close": 0.73167484998703,
         "RSI": 53.19187704455074,
         "rsi_signal": 0,
         "rsi_position": 0,
         "_deepnote_index_column": "2021-08-06T11:00:00.000000"
        },
        {
         "Close": 0.7274817228317261,
         "RSI": 47.85710165364012,
         "rsi_signal": 0,
         "rsi_position": 0,
         "_deepnote_index_column": "2021-08-06T12:00:00.000000"
        },
        {
         "Close": 0.7278730273246765,
         "RSI": 48.37742341025554,
         "rsi_signal": 0,
         "rsi_position": 0,
         "_deepnote_index_column": "2021-08-06T13:00:00.000000"
        },
        {
         "Close": 0.7304182648658752,
         "RSI": 51.75007609602082,
         "rsi_signal": 0,
         "rsi_position": 0,
         "_deepnote_index_column": "2021-08-06T14:00:00.000000"
        },
        {
         "Close": 0.7280771136283875,
         "RSI": 48.6045404097579,
         "rsi_signal": 0,
         "rsi_position": 0,
         "_deepnote_index_column": "2021-08-06T15:00:00.000000"
        },
        {
         "Close": 0.7409383654594421,
         "RSI": 62.19815785403297,
         "rsi_signal": 0,
         "rsi_position": 0,
         "_deepnote_index_column": "2021-08-06T16:00:00.000000"
        },
        {
         "Close": 0.7450693249702454,
         "RSI": 65.36668032132721,
         "rsi_signal": 0,
         "rsi_position": 0,
         "_deepnote_index_column": "2021-08-06T17:00:00.000000"
        },
        {
         "Close": 0.7493008971214294,
         "RSI": 68.29801730047403,
         "rsi_signal": 0,
         "rsi_position": 0,
         "_deepnote_index_column": "2021-08-06T18:00:00.000000"
        },
        {
         "Close": 0.7470899224281311,
         "RSI": 65.193168751964,
         "rsi_signal": 0,
         "rsi_position": 0,
         "_deepnote_index_column": "2021-08-06T19:00:00.000000"
        },
        {
         "Close": 0.749093770980835,
         "RSI": 66.67196336947151,
         "rsi_signal": 0,
         "rsi_position": 0,
         "_deepnote_index_column": "2021-08-06T20:00:00.000000"
        },
        {
         "Close": 0.7484444379806519,
         "RSI": 65.69791124318405,
         "rsi_signal": 0,
         "rsi_position": 0,
         "_deepnote_index_column": "2021-08-06T21:00:00.000000"
        },
        {
         "Close": 0.7400344610214233,
         "RSI": 54.57656915464385,
         "rsi_signal": 0,
         "rsi_position": 0,
         "_deepnote_index_column": "2021-08-06T22:00:00.000000"
        },
        {
         "Close": 0.7445024847984314,
         "RSI": 58.58747697423656,
         "rsi_signal": 0,
         "rsi_position": 0,
         "_deepnote_index_column": "2021-08-06T23:00:00.000000"
        },
        {
         "Close": 0.7465130090713501,
         "RSI": 60.2868008131815,
         "rsi_signal": 0,
         "rsi_position": 0,
         "_deepnote_index_column": "2021-08-07T00:00:00.000000"
        },
        {
         "Close": 0.7548611164093018,
         "RSI": 66.44393805661196,
         "rsi_signal": 0,
         "rsi_position": 0,
         "_deepnote_index_column": "2021-08-07T01:00:00.000000"
        },
        {
         "Close": 0.7566510438919067,
         "RSI": 67.60370673844741,
         "rsi_signal": 0,
         "rsi_position": 0,
         "_deepnote_index_column": "2021-08-07T02:00:00.000000"
        },
        {
         "Close": 0.762823224067688,
         "RSI": 71.28873301999793,
         "rsi_signal": 1,
         "rsi_position": 1,
         "_deepnote_index_column": "2021-08-07T03:00:00.000000"
        },
        {
         "Close": 0.7649507522583008,
         "RSI": 72.45194179881676,
         "rsi_signal": 0,
         "rsi_position": 1,
         "_deepnote_index_column": "2021-08-07T04:00:00.000000"
        },
        {
         "Close": 0.7618080377578735,
         "RSI": 68.06517480509088,
         "rsi_signal": 0,
         "rsi_position": 1,
         "_deepnote_index_column": "2021-08-07T05:00:00.000000"
        },
        {
         "Close": 0.7649903297424316,
         "RSI": 70.04310565489062,
         "rsi_signal": 0,
         "rsi_position": 1,
         "_deepnote_index_column": "2021-08-07T06:00:00.000000"
        },
        {
         "Close": 0.7613361477851868,
         "RSI": 65.06004953876861,
         "rsi_signal": 0,
         "rsi_position": 1,
         "_deepnote_index_column": "2021-08-07T07:00:00.000000"
        },
        {
         "Close": 0.7610374093055725,
         "RSI": 64.65508337245535,
         "rsi_signal": 0,
         "rsi_position": 1,
         "_deepnote_index_column": "2021-08-07T08:00:00.000000"
        },
        {
         "Close": 0.7645235657691956,
         "RSI": 67.21934520080991,
         "rsi_signal": 0,
         "rsi_position": 1,
         "_deepnote_index_column": "2021-08-07T09:00:00.000000"
        },
        {
         "Close": 0.7894212603569031,
         "RSI": 78.95975302140135,
         "rsi_signal": 0,
         "rsi_position": 1,
         "_deepnote_index_column": "2021-08-07T10:00:00.000000"
        },
        {
         "Close": 0.7897286415100098,
         "RSI": 79.0594670065742,
         "rsi_signal": 0,
         "rsi_position": 1,
         "_deepnote_index_column": "2021-08-07T11:00:00.000000"
        },
        {
         "Close": 0.7905455231666565,
         "RSI": 79.3396931178896,
         "rsi_signal": 0,
         "rsi_position": 1,
         "_deepnote_index_column": "2021-08-07T12:00:00.000000"
        },
        {
         "Close": 0.7743987441062927,
         "RSI": 61.74965292487082,
         "rsi_signal": 0,
         "rsi_position": 1,
         "_deepnote_index_column": "2021-08-07T13:00:00.000000"
        },
        {
         "Close": 0.7735520601272583,
         "RSI": 60.98612056802675,
         "rsi_signal": 0,
         "rsi_position": 1,
         "_deepnote_index_column": "2021-08-07T14:00:00.000000"
        },
        {
         "Close": 0.791140615940094,
         "RSI": 69.43975219639894,
         "rsi_signal": 0,
         "rsi_position": 1,
         "_deepnote_index_column": "2021-08-07T15:00:00.000000"
        },
        {
         "Close": 0.8057512044906616,
         "RSI": 74.40175098737889,
         "rsi_signal": 0,
         "rsi_position": 1,
         "_deepnote_index_column": "2021-08-07T16:00:00.000000"
        },
        {
         "Close": 0.8016982674598694,
         "RSI": 70.95984298965794,
         "rsi_signal": 0,
         "rsi_position": 1,
         "_deepnote_index_column": "2021-08-07T17:00:00.000000"
        },
        {
         "Close": 0.79237300157547,
         "RSI": 63.66233295160553,
         "rsi_signal": 0,
         "rsi_position": 1,
         "_deepnote_index_column": "2021-08-07T18:00:00.000000"
        },
        {
         "Close": 0.7993141412734985,
         "RSI": 66.42972800513212,
         "rsi_signal": 0,
         "rsi_position": 1,
         "_deepnote_index_column": "2021-08-07T19:00:00.000000"
        },
        {
         "Close": 0.8037920594215393,
         "RSI": 68.11669837941301,
         "rsi_signal": 0,
         "rsi_position": 1,
         "_deepnote_index_column": "2021-08-07T20:00:00.000000"
        },
        {
         "Close": 0.8045597076416016,
         "RSI": 68.40977160310922,
         "rsi_signal": 0,
         "rsi_position": 1,
         "_deepnote_index_column": "2021-08-07T21:00:00.000000"
        },
        {
         "Close": 0.7986745834350586,
         "RSI": 63.58428912261734,
         "rsi_signal": 0,
         "rsi_position": 1,
         "_deepnote_index_column": "2021-08-07T22:00:00.000000"
        },
        {
         "Close": 0.8053690195083618,
         "RSI": 66.4807025929444,
         "rsi_signal": 0,
         "rsi_position": 1,
         "_deepnote_index_column": "2021-08-07T23:00:00.000000"
        },
        {
         "Close": 0.8162810802459717,
         "RSI": 70.58731651380083,
         "rsi_signal": 0,
         "rsi_position": 1,
         "_deepnote_index_column": "2021-08-08T00:00:00.000000"
        },
        {
         "Close": 0.8304288983345032,
         "RSI": 74.88377575221614,
         "rsi_signal": 0,
         "rsi_position": 1,
         "_deepnote_index_column": "2021-08-08T01:00:00.000000"
        },
        {
         "Close": 0.8090371489524841,
         "RSI": 60.494646655073424,
         "rsi_signal": 0,
         "rsi_position": 1,
         "_deepnote_index_column": "2021-08-08T02:00:00.000000"
        },
        {
         "Close": 0.8017366528511047,
         "RSI": 56.504227885329534,
         "rsi_signal": 0,
         "rsi_position": 1,
         "_deepnote_index_column": "2021-08-08T03:00:00.000000"
        },
        {
         "Close": 0.8178030252456665,
         "RSI": 62.38474688857126,
         "rsi_signal": 0,
         "rsi_position": 1,
         "_deepnote_index_column": "2021-08-08T04:00:00.000000"
        },
        {
         "Close": 0.8164565563201904,
         "RSI": 61.63270328924581,
         "rsi_signal": 0,
         "rsi_position": 1,
         "_deepnote_index_column": "2021-08-08T05:00:00.000000"
        },
        {
         "Close": 0.8221371173858643,
         "RSI": 63.624970282889265,
         "rsi_signal": 0,
         "rsi_position": 1,
         "_deepnote_index_column": "2021-08-08T06:00:00.000000"
        },
        {
         "Close": 0.8285307884216309,
         "RSI": 65.77886507308962,
         "rsi_signal": 0,
         "rsi_position": 1,
         "_deepnote_index_column": "2021-08-08T07:00:00.000000"
        },
        {
         "Close": 0.8223246335983276,
         "RSI": 61.9446045731456,
         "rsi_signal": 0,
         "rsi_position": 1,
         "_deepnote_index_column": "2021-08-08T08:00:00.000000"
        },
        {
         "Close": 0.8114379644393921,
         "RSI": 55.800094292613736,
         "rsi_signal": 0,
         "rsi_position": 1,
         "_deepnote_index_column": "2021-08-08T09:00:00.000000"
        },
        {
         "Close": 0.8126380443572998,
         "RSI": 56.314517735059866,
         "rsi_signal": 0,
         "rsi_position": 1,
         "_deepnote_index_column": "2021-08-08T10:00:00.000000"
        },
        {
         "Close": 0.8030365109443665,
         "RSI": 51.18198587756162,
         "rsi_signal": 0,
         "rsi_position": 1,
         "_deepnote_index_column": "2021-08-08T11:00:00.000000"
        },
        {
         "Close": 0.8001503944396973,
         "RSI": 49.715227229928196,
         "rsi_signal": 0,
         "rsi_position": 1,
         "_deepnote_index_column": "2021-08-08T12:00:00.000000"
        },
        {
         "Close": 0.8123614192008972,
         "RSI": 55.52288563923815,
         "rsi_signal": 0,
         "rsi_position": 1,
         "_deepnote_index_column": "2021-08-08T13:00:00.000000"
        },
        {
         "Close": 0.8075140118598938,
         "RSI": 52.910435580181854,
         "rsi_signal": 0,
         "rsi_position": 1,
         "_deepnote_index_column": "2021-08-08T14:00:00.000000"
        },
        {
         "Close": 0.7874436974525452,
         "RSI": 43.73486463536392,
         "rsi_signal": 0,
         "rsi_position": 1,
         "_deepnote_index_column": "2021-08-08T15:00:00.000000"
        },
        {
         "Close": 0.7861583828926086,
         "RSI": 43.21797701645812,
         "rsi_signal": 0,
         "rsi_position": 1,
         "_deepnote_index_column": "2021-08-08T16:00:00.000000"
        },
        {
         "Close": 0.779674768447876,
         "RSI": 40.610620573254856,
         "rsi_signal": 0,
         "rsi_position": 1,
         "_deepnote_index_column": "2021-08-08T17:00:00.000000"
        },
        {
         "Close": 0.7871766686439514,
         "RSI": 44.7630694443762,
         "rsi_signal": 0,
         "rsi_position": 1,
         "_deepnote_index_column": "2021-08-08T18:00:00.000000"
        },
        {
         "Close": 0.7815697193145752,
         "RSI": 42.37813014780332,
         "rsi_signal": 0,
         "rsi_position": 1,
         "_deepnote_index_column": "2021-08-08T19:00:00.000000"
        },
        {
         "Close": 0.778918445110321,
         "RSI": 41.258728331801144,
         "rsi_signal": 0,
         "rsi_position": 1,
         "_deepnote_index_column": "2021-08-08T20:00:00.000000"
        },
        {
         "Close": 0.7842029929161072,
         "RSI": 44.41063808282996,
         "rsi_signal": 0,
         "rsi_position": 1,
         "_deepnote_index_column": "2021-08-08T21:00:00.000000"
        },
        {
         "Close": 0.7921290397644043,
         "RSI": 48.844256552227506,
         "rsi_signal": 0,
         "rsi_position": 1,
         "_deepnote_index_column": "2021-08-08T22:00:00.000000"
        },
        {
         "Close": 0.7942468523979187,
         "RSI": 49.99194025959009,
         "rsi_signal": 0,
         "rsi_position": 1,
         "_deepnote_index_column": "2021-08-08T23:00:00.000000"
        },
        {
         "Close": 0.7787393927574158,
         "RSI": 42.47708927479685,
         "rsi_signal": 0,
         "rsi_position": 1,
         "_deepnote_index_column": "2021-08-09T00:00:00.000000"
        },
        {
         "Close": 0.7659614086151123,
         "RSI": 37.477875449052775,
         "rsi_signal": 0,
         "rsi_position": 1,
         "_deepnote_index_column": "2021-08-09T01:00:00.000000"
        },
        {
         "Close": 0.7699768543243408,
         "RSI": 39.87270562719359,
         "rsi_signal": 0,
         "rsi_position": 1,
         "_deepnote_index_column": "2021-08-09T02:00:00.000000"
        },
        {
         "Close": 0.7788583636283875,
         "RSI": 44.89995733306212,
         "rsi_signal": 0,
         "rsi_position": 1,
         "_deepnote_index_column": "2021-08-09T03:00:00.000000"
        },
        {
         "Close": 0.7826113104820251,
         "RSI": 46.919550456414086,
         "rsi_signal": 0,
         "rsi_position": 1,
         "_deepnote_index_column": "2021-08-09T04:00:00.000000"
        },
        {
         "Close": 0.7949040532112122,
         "RSI": 52.996717795856604,
         "rsi_signal": 0,
         "rsi_position": 1,
         "_deepnote_index_column": "2021-08-09T05:00:00.000000"
        },
        {
         "Close": 0.7881271839141846,
         "RSI": 49.62368462996253,
         "rsi_signal": 0,
         "rsi_position": 1,
         "_deepnote_index_column": "2021-08-09T06:00:00.000000"
        },
        {
         "Close": 0.787296712398529,
         "RSI": 49.210343757746045,
         "rsi_signal": 0,
         "rsi_position": 1,
         "_deepnote_index_column": "2021-08-09T07:00:00.000000"
        },
        {
         "Close": 0.7967813014984131,
         "RSI": 53.93005570352199,
         "rsi_signal": 0,
         "rsi_position": 1,
         "_deepnote_index_column": "2021-08-09T08:00:00.000000"
        },
        {
         "Close": 0.7981806397438049,
         "RSI": 54.60037443838342,
         "rsi_signal": 0,
         "rsi_position": 1,
         "_deepnote_index_column": "2021-08-09T09:00:00.000000"
        },
        {
         "Close": 0.8096413016319275,
         "RSI": 59.76395160801048,
         "rsi_signal": 0,
         "rsi_position": 1,
         "_deepnote_index_column": "2021-08-09T10:00:00.000000"
        },
        {
         "Close": 0.816961407661438,
         "RSI": 62.683350253231964,
         "rsi_signal": 0,
         "rsi_position": 1,
         "_deepnote_index_column": "2021-08-09T11:00:00.000000"
        },
        {
         "Close": 0.8193760514259338,
         "RSI": 63.62101805055443,
         "rsi_signal": 0,
         "rsi_position": 1,
         "_deepnote_index_column": "2021-08-09T12:00:00.000000"
        },
        {
         "Close": 0.8166133165359497,
         "RSI": 61.7103928830309,
         "rsi_signal": 0,
         "rsi_position": 1,
         "_deepnote_index_column": "2021-08-09T13:00:00.000000"
        },
        {
         "Close": 0.8115898370742798,
         "RSI": 58.28297771837298,
         "rsi_signal": 0,
         "rsi_position": 1,
         "_deepnote_index_column": "2021-08-09T14:00:00.000000"
        },
        {
         "Close": 0.8130114674568176,
         "RSI": 58.97736019919712,
         "rsi_signal": 0,
         "rsi_position": 1,
         "_deepnote_index_column": "2021-08-09T15:00:00.000000"
        },
        {
         "Close": 0.8204382061958313,
         "RSI": 62.48996326843942,
         "rsi_signal": 0,
         "rsi_position": 1,
         "_deepnote_index_column": "2021-08-09T16:00:00.000000"
        },
        {
         "Close": 0.817124605178833,
         "RSI": 60.020558639679166,
         "rsi_signal": 0,
         "rsi_position": 1,
         "_deepnote_index_column": "2021-08-09T17:00:00.000000"
        },
        {
         "Close": 0.8183885216712952,
         "RSI": 60.659158013674784,
         "rsi_signal": 0,
         "rsi_position": 1,
         "_deepnote_index_column": "2021-08-09T18:00:00.000000"
        },
        {
         "Close": 0.8223690390586853,
         "RSI": 62.68091336374076,
         "rsi_signal": 0,
         "rsi_position": 1,
         "_deepnote_index_column": "2021-08-09T19:00:00.000000"
        },
        {
         "Close": 0.8158291578292847,
         "RSI": 57.4564823002694,
         "rsi_signal": 0,
         "rsi_position": 1,
         "_deepnote_index_column": "2021-08-09T20:00:00.000000"
        },
        {
         "Close": 0.8055914044380188,
         "RSI": 50.37765780466041,
         "rsi_signal": 0,
         "rsi_position": 1,
         "_deepnote_index_column": "2021-08-09T21:00:00.000000"
        },
        {
         "Close": 0.8096583485603333,
         "RSI": 52.86216342189716,
         "rsi_signal": 0,
         "rsi_position": 1,
         "_deepnote_index_column": "2021-08-09T22:00:00.000000"
        },
        {
         "Close": 0.8194264769554138,
         "RSI": 58.26686336918055,
         "rsi_signal": 0,
         "rsi_position": 1,
         "_deepnote_index_column": "2021-08-09T23:00:00.000000"
        },
        {
         "Close": 0.8185535073280334,
         "RSI": 57.630903331300615,
         "rsi_signal": 0,
         "rsi_position": 1,
         "_deepnote_index_column": "2021-08-10T00:00:00.000000"
        },
        {
         "Close": 0.8124653100967407,
         "RSI": 53.264532945387,
         "rsi_signal": 0,
         "rsi_position": 1,
         "_deepnote_index_column": "2021-08-10T01:00:00.000000"
        },
        {
         "Close": 0.811424195766449,
         "RSI": 52.531573493208185,
         "rsi_signal": 0,
         "rsi_position": 1,
         "_deepnote_index_column": "2021-08-10T02:00:00.000000"
        },
        {
         "Close": 0.8144153356552124,
         "RSI": 54.470056171538324,
         "rsi_signal": 0,
         "rsi_position": 1,
         "_deepnote_index_column": "2021-08-10T03:00:00.000000"
        },
        {
         "Close": 0.8044356107711792,
         "RSI": 47.5002666338525,
         "rsi_signal": 0,
         "rsi_position": 1,
         "_deepnote_index_column": "2021-08-10T04:00:00.000000"
        },
        {
         "Close": 0.8098970651626587,
         "RSI": 51.18171556250607,
         "rsi_signal": 0,
         "rsi_position": 1,
         "_deepnote_index_column": "2021-08-10T05:00:00.000000"
        },
        {
         "Close": 0.8105202913284302,
         "RSI": 51.598815117606485,
         "rsi_signal": 0,
         "rsi_position": 1,
         "_deepnote_index_column": "2021-08-10T06:00:00.000000"
        },
        {
         "Close": 0.8169611692428589,
         "RSI": 55.801694306764354,
         "rsi_signal": 0,
         "rsi_position": 1,
         "_deepnote_index_column": "2021-08-10T07:00:00.000000"
        },
        {
         "Close": 0.8193774223327637,
         "RSI": 57.29966805563281,
         "rsi_signal": 0,
         "rsi_position": 1,
         "_deepnote_index_column": "2021-08-10T08:00:00.000000"
        },
        {
         "Close": 0.8201133012771606,
         "RSI": 57.769105255746936,
         "rsi_signal": 0,
         "rsi_position": 1,
         "_deepnote_index_column": "2021-08-10T09:00:00.000000"
        },
        {
         "Close": 0.8198803067207336,
         "RSI": 57.55336011845672,
         "rsi_signal": 0,
         "rsi_position": 1,
         "_deepnote_index_column": "2021-08-10T10:00:00.000000"
        },
        {
         "Close": 0.807433009147644,
         "RSI": 47.37440644988766,
         "rsi_signal": 0,
         "rsi_position": 1,
         "_deepnote_index_column": "2021-08-10T11:00:00.000000"
        },
        {
         "Close": 0.8152583837509155,
         "RSI": 53.00204461203777,
         "rsi_signal": 0,
         "rsi_position": 1,
         "_deepnote_index_column": "2021-08-10T12:00:00.000000"
        },
        {
         "Close": 0.8490090370178223,
         "RSI": 68.59886893849614,
         "rsi_signal": 0,
         "rsi_position": 1,
         "_deepnote_index_column": "2021-08-10T13:00:00.000000"
        },
        {
         "Close": 0.8354390263557434,
         "RSI": 59.98006785567256,
         "rsi_signal": 0,
         "rsi_position": 1,
         "_deepnote_index_column": "2021-08-10T14:00:00.000000"
        },
        {
         "Close": 0.8288268446922302,
         "RSI": 56.27020647415448,
         "rsi_signal": 0,
         "rsi_position": 1,
         "_deepnote_index_column": "2021-08-10T15:00:00.000000"
        },
        {
         "Close": 0.8237518072128296,
         "RSI": 53.53333627776865,
         "rsi_signal": 0,
         "rsi_position": 1,
         "_deepnote_index_column": "2021-08-10T16:00:00.000000"
        },
        {
         "Close": 0.8138244152069092,
         "RSI": 48.55805566055629,
         "rsi_signal": 0,
         "rsi_position": 1,
         "_deepnote_index_column": "2021-08-10T17:00:00.000000"
        },
        {
         "Close": 0.81997150182724,
         "RSI": 51.56008861803546,
         "rsi_signal": 0,
         "rsi_position": 1,
         "_deepnote_index_column": "2021-08-10T18:00:00.000000"
        },
        {
         "Close": 0.8261918425559998,
         "RSI": 54.45646089165124,
         "rsi_signal": 0,
         "rsi_position": 1,
         "_deepnote_index_column": "2021-08-10T19:00:00.000000"
        },
        {
         "Close": 0.8347495198249817,
         "RSI": 58.16276012367339,
         "rsi_signal": 0,
         "rsi_position": 1,
         "_deepnote_index_column": "2021-08-10T20:00:00.000000"
        },
        {
         "Close": 0.8428434133529663,
         "RSI": 61.36518402232665,
         "rsi_signal": 0,
         "rsi_position": 1,
         "_deepnote_index_column": "2021-08-10T21:00:00.000000"
        },
        {
         "Close": 0.8587751984596252,
         "RSI": 66.75884381817859,
         "rsi_signal": 0,
         "rsi_position": 1,
         "_deepnote_index_column": "2021-08-10T22:00:00.000000"
        },
        {
         "Close": 0.8559402227401733,
         "RSI": 65.01937331609099,
         "rsi_signal": 0,
         "rsi_position": 1,
         "_deepnote_index_column": "2021-08-10T23:00:00.000000"
        },
        {
         "Close": 0.8512465357780457,
         "RSI": 62.13282505061216,
         "rsi_signal": 0,
         "rsi_position": 1,
         "_deepnote_index_column": "2021-08-11T00:00:00.000000"
        },
        {
         "Close": 0.8691591024398804,
         "RSI": 67.97589888414939,
         "rsi_signal": 0,
         "rsi_position": 1,
         "_deepnote_index_column": "2021-08-11T01:00:00.000000"
        },
        {
         "Close": 0.8692995309829712,
         "RSI": 68.01756396815834,
         "rsi_signal": 0,
         "rsi_position": 1,
         "_deepnote_index_column": "2021-08-11T01:59:03.000000"
        }
       ]
      },
      "text/plain": "                              Close        RSI  rsi_signal  rsi_position\nDatetime                                                                \n2019-09-01 01:00:00+01:00  0.259100        NaN           0             1\n2019-09-01 02:00:00+01:00  0.258400   0.000000          -1             0\n2019-09-01 03:00:00+01:00  0.257800   0.000000           0             0\n2019-09-01 04:00:00+01:00  0.258500   7.211196           0             0\n2019-09-01 05:00:00+01:00  0.258100   6.904779           0             0\n...                             ...        ...         ...           ...\n2021-08-10 22:00:00+01:00  0.858775  66.758844           0             1\n2021-08-10 23:00:00+01:00  0.855940  65.019373           0             1\n2021-08-11 00:00:00+01:00  0.851247  62.132825           0             1\n2021-08-11 01:00:00+01:00  0.869159  67.975899           0             1\n2021-08-11 01:59:03+01:00  0.869300  68.017564           0             1\n\n[17002 rows x 4 columns]",
      "text/html": "<div>\n<style scoped>\n    .dataframe tbody tr th:only-of-type {\n        vertical-align: middle;\n    }\n\n    .dataframe tbody tr th {\n        vertical-align: top;\n    }\n\n    .dataframe thead th {\n        text-align: right;\n    }\n</style>\n<table border=\"1\" class=\"dataframe\">\n  <thead>\n    <tr style=\"text-align: right;\">\n      <th></th>\n      <th>Close</th>\n      <th>RSI</th>\n      <th>rsi_signal</th>\n      <th>rsi_position</th>\n    </tr>\n    <tr>\n      <th>Datetime</th>\n      <th></th>\n      <th></th>\n      <th></th>\n      <th></th>\n    </tr>\n  </thead>\n  <tbody>\n    <tr>\n      <th>2019-09-01 01:00:00+01:00</th>\n      <td>0.259100</td>\n      <td>NaN</td>\n      <td>0</td>\n      <td>1</td>\n    </tr>\n    <tr>\n      <th>2019-09-01 02:00:00+01:00</th>\n      <td>0.258400</td>\n      <td>0.000000</td>\n      <td>-1</td>\n      <td>0</td>\n    </tr>\n    <tr>\n      <th>2019-09-01 03:00:00+01:00</th>\n      <td>0.257800</td>\n      <td>0.000000</td>\n      <td>0</td>\n      <td>0</td>\n    </tr>\n    <tr>\n      <th>2019-09-01 04:00:00+01:00</th>\n      <td>0.258500</td>\n      <td>7.211196</td>\n      <td>0</td>\n      <td>0</td>\n    </tr>\n    <tr>\n      <th>2019-09-01 05:00:00+01:00</th>\n      <td>0.258100</td>\n      <td>6.904779</td>\n      <td>0</td>\n      <td>0</td>\n    </tr>\n    <tr>\n      <th>...</th>\n      <td>...</td>\n      <td>...</td>\n      <td>...</td>\n      <td>...</td>\n    </tr>\n    <tr>\n      <th>2021-08-10 22:00:00+01:00</th>\n      <td>0.858775</td>\n      <td>66.758844</td>\n      <td>0</td>\n      <td>1</td>\n    </tr>\n    <tr>\n      <th>2021-08-10 23:00:00+01:00</th>\n      <td>0.855940</td>\n      <td>65.019373</td>\n      <td>0</td>\n      <td>1</td>\n    </tr>\n    <tr>\n      <th>2021-08-11 00:00:00+01:00</th>\n      <td>0.851247</td>\n      <td>62.132825</td>\n      <td>0</td>\n      <td>1</td>\n    </tr>\n    <tr>\n      <th>2021-08-11 01:00:00+01:00</th>\n      <td>0.869159</td>\n      <td>67.975899</td>\n      <td>0</td>\n      <td>1</td>\n    </tr>\n    <tr>\n      <th>2021-08-11 01:59:03+01:00</th>\n      <td>0.869300</td>\n      <td>68.017564</td>\n      <td>0</td>\n      <td>1</td>\n    </tr>\n  </tbody>\n</table>\n<p>17002 rows × 4 columns</p>\n</div>"
     },
     "metadata": {}
    }
   ],
   "execution_count": 23
  },
  {
   "cell_type": "code",
   "metadata": {
    "tags": [],
    "cell_id": "00012-796723d0-a1ed-4c9f-b466-4e394612ef38",
    "deepnote_to_be_reexecuted": false,
    "source_hash": "b19d6a0c",
    "execution_start": 1628646653499,
    "execution_millis": 288,
    "deepnote_cell_type": "code"
   },
   "source": "# BACKTESTING THE SQ AROON TRADE STRATEGY\ndf_ret = pd.DataFrame(np.diff(df['Close'])).rename(columns = {0:'returns'})\nrsi_strategy_ret = []\n\nfor i in range(len(df_ret)):\n    returns = df_ret['returns'][i]*strategy['rsi_position'][i]\n    rsi_strategy_ret.append(returns)\n    \nrsi_strategy_ret_df = pd.DataFrame(rsi_strategy_ret).rename(columns = {0:'rsi_returns'})\ninvestment_value = 100000\nnumber_of_stocks = floor(investment_value/df['Close'][-1])\nrsi_investment_ret = []\n\nfor i in range(len(rsi_strategy_ret_df['rsi_returns'])):\n    returns = number_of_stocks*rsi_strategy_ret_df['rsi_returns'][i]\n    rsi_investment_ret.append(returns)\n\nrsi_investment_ret_df = pd.DataFrame(rsi_investment_ret).rename(columns = {0:'investment_returns'})\ntotal_investment_ret = round(sum(rsi_investment_ret_df['investment_returns']), 2)\nprofit_percentage = floor((total_investment_ret/investment_value)*100)\nprint(cl('Profit gained from the RSI strategy by investing $100k in XRP : {}'.format(total_investment_ret), attrs = ['bold']))\nprint(cl('Profit percentage of the RSI strategy : {}%'.format(profit_percentage), attrs = ['bold']))",
   "outputs": [
    {
     "name": "stdout",
     "text": "\u001b[1mProfit gained from the RSI strategy by investing $100k in XRP : 103096.51\u001b[0m\n\u001b[1mProfit percentage of the RSI strategy : 103%\u001b[0m\n",
     "output_type": "stream"
    }
   ],
   "execution_count": 24
  },
  {
   "cell_type": "code",
   "metadata": {
    "tags": [],
    "cell_id": "00013-3b768352-cb2e-4c90-9cdb-f60c5e8726ae",
    "deepnote_to_be_reexecuted": false,
    "source_hash": "a4942d7d",
    "execution_start": 1628646784585,
    "execution_millis": 242,
    "deepnote_cell_type": "code"
   },
   "source": "strategy.to_csv('XRP_RSI_TRADE_STRATEGY')",
   "outputs": [],
   "execution_count": 25
  },
  {
   "cell_type": "code",
   "metadata": {
    "tags": [],
    "cell_id": "00014-64c569de-69a1-4d7b-bdc0-0a11b123c630",
    "deepnote_cell_type": "code"
   },
   "source": "",
   "execution_count": null,
   "outputs": []
  },
  {
   "cell_type": "markdown",
   "source": "<a style='text-decoration:none;line-height:16px;display:flex;color:#5B5B62;padding:10px;justify-content:end;' href='https://deepnote.com?utm_source=created-in-deepnote-cell&projectId=d12c285c-6789-4c45-9ad7-1be9b4d60622' target=\"_blank\">\n<img alt='Created in deepnote.com' style='display:inline;max-height:16px;margin:0px;margin-right:7.5px;' src='data:image/svg+xml;base64,PD94bWwgdmVyc2lvbj0iMS4wIiBlbmNvZGluZz0iVVRGLTgiPz4KPHN2ZyB3aWR0aD0iODBweCIgaGVpZ2h0PSI4MHB4IiB2aWV3Qm94PSIwIDAgODAgODAiIHZlcnNpb249IjEuMSIgeG1sbnM9Imh0dHA6Ly93d3cudzMub3JnLzIwMDAvc3ZnIiB4bWxuczp4bGluaz0iaHR0cDovL3d3dy53My5vcmcvMTk5OS94bGluayI+CiAgICA8IS0tIEdlbmVyYXRvcjogU2tldGNoIDU0LjEgKDc2NDkwKSAtIGh0dHBzOi8vc2tldGNoYXBwLmNvbSAtLT4KICAgIDx0aXRsZT5Hcm91cCAzPC90aXRsZT4KICAgIDxkZXNjPkNyZWF0ZWQgd2l0aCBTa2V0Y2guPC9kZXNjPgogICAgPGcgaWQ9IkxhbmRpbmciIHN0cm9rZT0ibm9uZSIgc3Ryb2tlLXdpZHRoPSIxIiBmaWxsPSJub25lIiBmaWxsLXJ1bGU9ImV2ZW5vZGQiPgogICAgICAgIDxnIGlkPSJBcnRib2FyZCIgdHJhbnNmb3JtPSJ0cmFuc2xhdGUoLTEyMzUuMDAwMDAwLCAtNzkuMDAwMDAwKSI+CiAgICAgICAgICAgIDxnIGlkPSJHcm91cC0zIiB0cmFuc2Zvcm09InRyYW5zbGF0ZSgxMjM1LjAwMDAwMCwgNzkuMDAwMDAwKSI+CiAgICAgICAgICAgICAgICA8cG9seWdvbiBpZD0iUGF0aC0yMCIgZmlsbD0iIzAyNjVCNCIgcG9pbnRzPSIyLjM3NjIzNzYyIDgwIDM4LjA0NzY2NjcgODAgNTcuODIxNzgyMiA3My44MDU3NTkyIDU3LjgyMTc4MjIgMzIuNzU5MjczOSAzOS4xNDAyMjc4IDMxLjY4MzE2ODMiPjwvcG9seWdvbj4KICAgICAgICAgICAgICAgIDxwYXRoIGQ9Ik0zNS4wMDc3MTgsODAgQzQyLjkwNjIwMDcsNzYuNDU0OTM1OCA0Ny41NjQ5MTY3LDcxLjU0MjI2NzEgNDguOTgzODY2LDY1LjI2MTk5MzkgQzUxLjExMjI4OTksNTUuODQxNTg0MiA0MS42NzcxNzk1LDQ5LjIxMjIyODQgMjUuNjIzOTg0Niw0OS4yMTIyMjg0IEMyNS40ODQ5Mjg5LDQ5LjEyNjg0NDggMjkuODI2MTI5Niw0My4yODM4MjQ4IDM4LjY0NzU4NjksMzEuNjgzMTY4MyBMNzIuODcxMjg3MSwzMi41NTQ0MjUgTDY1LjI4MDk3Myw2Ny42NzYzNDIxIEw1MS4xMTIyODk5LDc3LjM3NjE0NCBMMzUuMDA3NzE4LDgwIFoiIGlkPSJQYXRoLTIyIiBmaWxsPSIjMDAyODY4Ij48L3BhdGg+CiAgICAgICAgICAgICAgICA8cGF0aCBkPSJNMCwzNy43MzA0NDA1IEwyNy4xMTQ1MzcsMC4yNTcxMTE0MzYgQzYyLjM3MTUxMjMsLTEuOTkwNzE3MDEgODAsMTAuNTAwMzkyNyA4MCwzNy43MzA0NDA1IEM4MCw2NC45NjA0ODgyIDY0Ljc3NjUwMzgsNzkuMDUwMzQxNCAzNC4zMjk1MTEzLDgwIEM0Ny4wNTUzNDg5LDc3LjU2NzA4MDggNTMuNDE4MjY3Nyw3MC4zMTM2MTAzIDUzLjQxODI2NzcsNTguMjM5NTg4NSBDNTMuNDE4MjY3Nyw0MC4xMjg1NTU3IDM2LjMwMzk1NDQsMzcuNzMwNDQwNSAyNS4yMjc0MTcsMzcuNzMwNDQwNSBDMTcuODQzMDU4NiwzNy43MzA0NDA1IDkuNDMzOTE5NjYsMzcuNzMwNDQwNSAwLDM3LjczMDQ0MDUgWiIgaWQ9IlBhdGgtMTkiIGZpbGw9IiMzNzkzRUYiPjwvcGF0aD4KICAgICAgICAgICAgPC9nPgogICAgICAgIDwvZz4KICAgIDwvZz4KPC9zdmc+' > </img>\nCreated in <span style='font-weight:600;margin-left:4px;'>Deepnote</span></a>",
   "metadata": {
    "tags": [],
    "created_in_deepnote_cell": true,
    "deepnote_cell_type": "markdown"
   }
  }
 ],
 "nbformat": 4,
 "nbformat_minor": 5,
 "metadata": {
  "kernelspec": {
   "display_name": "Python 3",
   "language": "python",
   "name": "python3"
  },
  "language_info": {
   "codemirror_mode": {
    "name": "ipython",
    "version": 3
   },
   "file_extension": ".py",
   "mimetype": "text/x-python",
   "name": "python",
   "nbconvert_exporter": "python",
   "pygments_lexer": "ipython3",
   "version": "3.8.2"
  },
  "deepnote_notebook_id": "b77eccfc-db8e-4a45-aa8c-569cbdcf8db4",
  "deepnote": {},
  "deepnote_execution_queue": []
 }
}