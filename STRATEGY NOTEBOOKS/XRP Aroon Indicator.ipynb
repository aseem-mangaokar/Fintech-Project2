{
 "cells": [
  {
   "cell_type": "code",
   "metadata": {
    "tags": [],
    "cell_id": "00000-f40b1e3d-37b6-4180-98b4-3e8a5e99c509",
    "deepnote_to_be_reexecuted": false,
    "source_hash": "1556ae99",
    "execution_start": 1628647417974,
    "execution_millis": 1,
    "deepnote_cell_type": "code"
   },
   "source": "# !pip install yfinance==0.1.63",
   "outputs": [],
   "execution_count": 34
  },
  {
   "cell_type": "code",
   "metadata": {
    "tags": [],
    "cell_id": "00000-1300270f-0cf4-43c9-a1f2-62ab4510459e",
    "deepnote_to_be_reexecuted": false,
    "source_hash": "6566253a",
    "execution_start": 1628647418518,
    "execution_millis": 0,
    "deepnote_cell_type": "code"
   },
   "source": "import pandas as pd\nimport numpy as np\nimport requests\nimport matplotlib.pyplot as plt\nfrom math import floor\nfrom termcolor import colored as cl\nimport yfinance as yf\nfrom ta import add_all_ta_features\nfrom ta.utils import dropna\n\nplt.style.use('fivethirtyeight')\nplt.rcParams['figure.figsize'] = (20, 10)",
   "outputs": [],
   "execution_count": 35
  },
  {
   "cell_type": "code",
   "metadata": {
    "tags": [],
    "cell_id": "00001-305b0943-55ea-4c9e-92c9-b84a44856a6d",
    "deepnote_to_be_reexecuted": false,
    "source_hash": "57e26757",
    "execution_start": 1628647419520,
    "execution_millis": 1,
    "deepnote_cell_type": "code"
   },
   "source": "# def get_historical_data(sq, start_date):\n#     api_key = '648c8cb4dd534243af7157d1baa1b18f'\n#     api_url = f'https://api.twelvedata.com/time_series?symbol={sq}&interval=1day&outputsize=5000&apikey={api_key}'\n#     raw_df = requests.get(api_url).json()\n#     df = pd.DataFrame(raw_df['values']).iloc[::-1].set_index('datetime').astype(float)\n#     df = df[df.index >= start_date]\n#     df.index = pd.to_datetime(df.index)\n#     return df\n\n# XRP-USD = get_historical_data('XRP-USD', '2020-01-01')\n# XRP-USD.head()",
   "outputs": [],
   "execution_count": 36
  },
  {
   "cell_type": "code",
   "metadata": {
    "tags": [],
    "cell_id": "00002-f9018fda-d9c1-4f1f-8189-b736a1c3f9bc",
    "deepnote_to_be_reexecuted": false,
    "source_hash": "ab5aa194",
    "execution_start": 1628647421201,
    "execution_millis": 6612,
    "deepnote_cell_type": "code"
   },
   "source": "def get_aroon(symbol, start_date):\n\n    raw_df = yf.download(tickers = symbol, start='2019-09-01', interval='1h')\n    raw_df.drop(columns = ['Adj Close'], inplace = True)\n    # raw_df.reset_index(inplace = True)\n    raw_df.rename(columns = {'index' : 'DateTime'}, inplace = True)\n    \n    mom_data = add_all_ta_features(raw_df, open='Open', high= 'High', low='Low', close='Close', volume='Volume')\n    # mom_data.set_index('DateTime', inplace = True)\n    aroon_up = mom_data['trend_aroon_up']\n    aroon_down = mom_data['trend_aroon_down']\n    \n    ticker_aroon = mom_data[['Close', 'trend_aroon_up', 'trend_aroon_down']]\n\n    return ticker_aroon\n\nget_aroon('XRP-USD', '2019-09-01')\n",
   "outputs": [
    {
     "name": "stdout",
     "text": "[*********************100%***********************]  1 of 1 completed\n/root/venv/lib/python3.7/site-packages/ta/trend.py:768: RuntimeWarning: invalid value encountered in double_scalars\n  dip[i] = 100 * (self._dip[i] / self._trs[i])\n/root/venv/lib/python3.7/site-packages/ta/trend.py:772: RuntimeWarning: invalid value encountered in double_scalars\n  din[i] = 100 * (self._din[i] / self._trs[i])\n",
     "output_type": "stream"
    },
    {
     "output_type": "execute_result",
     "execution_count": 37,
     "data": {
      "application/vnd.deepnote.dataframe.v2+json": {
       "row_count": 17004,
       "column_count": 3,
       "columns": [
        {
         "name": "Close",
         "dtype": "float64",
         "stats": {
          "unique_count": 16593,
          "nan_count": 0,
          "min": "0.12985041737556458",
          "max": "1.9378489255905151",
          "histogram": [
           {
            "bin_start": 0.12985041737556458,
            "bin_end": 0.31065026819705965,
            "count": 11355
           },
           {
            "bin_start": 0.31065026819705965,
            "bin_end": 0.4914501190185547,
            "count": 1233
           },
           {
            "bin_start": 0.4914501190185547,
            "bin_end": 0.6722499698400497,
            "count": 2101
           },
           {
            "bin_start": 0.6722499698400497,
            "bin_end": 0.8530498206615448,
            "count": 682
           },
           {
            "bin_start": 0.8530498206615448,
            "bin_end": 1.0338496714830399,
            "count": 598
           },
           {
            "bin_start": 1.0338496714830399,
            "bin_end": 1.2146495223045348,
            "count": 182
           },
           {
            "bin_start": 1.2146495223045348,
            "bin_end": 1.39544937312603,
            "count": 270
           },
           {
            "bin_start": 1.39544937312603,
            "bin_end": 1.576249223947525,
            "count": 343
           },
           {
            "bin_start": 1.576249223947525,
            "bin_end": 1.75704907476902,
            "count": 204
           },
           {
            "bin_start": 1.75704907476902,
            "bin_end": 1.9378489255905151,
            "count": 36
           }
          ]
         }
        },
        {
         "name": "trend_aroon_up",
         "dtype": "float64",
         "stats": {
          "unique_count": 25,
          "nan_count": 24,
          "min": "4.0",
          "max": "100.0",
          "histogram": [
           {
            "bin_start": 4,
            "bin_end": 13.6,
            "count": 3895
           },
           {
            "bin_start": 13.6,
            "bin_end": 23.2,
            "count": 1368
           },
           {
            "bin_start": 23.2,
            "bin_end": 32.8,
            "count": 1643
           },
           {
            "bin_start": 32.8,
            "bin_end": 42.4,
            "count": 965
           },
           {
            "bin_start": 42.4,
            "bin_end": 52,
            "count": 915
           },
           {
            "bin_start": 52,
            "bin_end": 61.599999999999994,
            "count": 1374
           },
           {
            "bin_start": 61.599999999999994,
            "bin_end": 71.2,
            "count": 962
           },
           {
            "bin_start": 71.2,
            "bin_end": 80.8,
            "count": 1567
           },
           {
            "bin_start": 80.8,
            "bin_end": 90.39999999999999,
            "count": 1201
           },
           {
            "bin_start": 90.39999999999999,
            "bin_end": 100,
            "count": 3090
           }
          ]
         }
        },
        {
         "name": "trend_aroon_down",
         "dtype": "float64",
         "stats": {
          "unique_count": 25,
          "nan_count": 24,
          "min": "4.0",
          "max": "100.0",
          "histogram": [
           {
            "bin_start": 4,
            "bin_end": 13.6,
            "count": 4202
           },
           {
            "bin_start": 13.6,
            "bin_end": 23.2,
            "count": 1454
           },
           {
            "bin_start": 23.2,
            "bin_end": 32.8,
            "count": 1774
           },
           {
            "bin_start": 32.8,
            "bin_end": 42.4,
            "count": 1029
           },
           {
            "bin_start": 42.4,
            "bin_end": 52,
            "count": 936
           },
           {
            "bin_start": 52,
            "bin_end": 61.599999999999994,
            "count": 1340
           },
           {
            "bin_start": 61.599999999999994,
            "bin_end": 71.2,
            "count": 880
           },
           {
            "bin_start": 71.2,
            "bin_end": 80.8,
            "count": 1414
           },
           {
            "bin_start": 80.8,
            "bin_end": 90.39999999999999,
            "count": 1079
           },
           {
            "bin_start": 90.39999999999999,
            "bin_end": 100,
            "count": 2872
           }
          ]
         }
        },
        {
         "name": "_deepnote_index_column",
         "dtype": "datetime64[ns, Europe/London]"
        }
       ],
       "rows_top": [
        {
         "Close": 0.2590999901294708,
         "trend_aroon_up": "nan",
         "trend_aroon_down": "nan",
         "_deepnote_index_column": "2019-09-01T01:00:00.000000"
        },
        {
         "Close": 0.25839999318122864,
         "trend_aroon_up": "nan",
         "trend_aroon_down": "nan",
         "_deepnote_index_column": "2019-09-01T02:00:00.000000"
        },
        {
         "Close": 0.25780001282691956,
         "trend_aroon_up": "nan",
         "trend_aroon_down": "nan",
         "_deepnote_index_column": "2019-09-01T03:00:00.000000"
        },
        {
         "Close": 0.25850000977516174,
         "trend_aroon_up": "nan",
         "trend_aroon_down": "nan",
         "_deepnote_index_column": "2019-09-01T04:00:00.000000"
        },
        {
         "Close": 0.2581000030040741,
         "trend_aroon_up": "nan",
         "trend_aroon_down": "nan",
         "_deepnote_index_column": "2019-09-01T05:00:00.000000"
        },
        {
         "Close": 0.2581000030040741,
         "trend_aroon_up": "nan",
         "trend_aroon_down": "nan",
         "_deepnote_index_column": "2019-09-01T06:00:00.000000"
        },
        {
         "Close": 0.25850000977516174,
         "trend_aroon_up": "nan",
         "trend_aroon_down": "nan",
         "_deepnote_index_column": "2019-09-01T07:00:00.000000"
        },
        {
         "Close": 0.2581999897956848,
         "trend_aroon_up": "nan",
         "trend_aroon_down": "nan",
         "_deepnote_index_column": "2019-09-01T08:00:00.000000"
        },
        {
         "Close": 0.2567000091075897,
         "trend_aroon_up": "nan",
         "trend_aroon_down": "nan",
         "_deepnote_index_column": "2019-09-01T09:00:00.000000"
        },
        {
         "Close": 0.2563999891281128,
         "trend_aroon_up": "nan",
         "trend_aroon_down": "nan",
         "_deepnote_index_column": "2019-09-01T10:00:00.000000"
        },
        {
         "Close": 0.2558000087738037,
         "trend_aroon_up": "nan",
         "trend_aroon_down": "nan",
         "_deepnote_index_column": "2019-09-01T11:00:00.000000"
        },
        {
         "Close": 0.2551000118255615,
         "trend_aroon_up": "nan",
         "trend_aroon_down": "nan",
         "_deepnote_index_column": "2019-09-01T12:00:00.000000"
        },
        {
         "Close": 0.2556999921798706,
         "trend_aroon_up": "nan",
         "trend_aroon_down": "nan",
         "_deepnote_index_column": "2019-09-01T13:00:00.000000"
        },
        {
         "Close": 0.2549000084400177,
         "trend_aroon_up": "nan",
         "trend_aroon_down": "nan",
         "_deepnote_index_column": "2019-09-01T14:00:00.000000"
        },
        {
         "Close": 0.2549999952316284,
         "trend_aroon_up": "nan",
         "trend_aroon_down": "nan",
         "_deepnote_index_column": "2019-09-01T15:00:00.000000"
        },
        {
         "Close": 0.25609999895095825,
         "trend_aroon_up": "nan",
         "trend_aroon_down": "nan",
         "_deepnote_index_column": "2019-09-01T16:00:00.000000"
        },
        {
         "Close": 0.2542000114917755,
         "trend_aroon_up": "nan",
         "trend_aroon_down": "nan",
         "_deepnote_index_column": "2019-09-01T17:00:00.000000"
        },
        {
         "Close": 0.2542000114917755,
         "trend_aroon_up": "nan",
         "trend_aroon_down": "nan",
         "_deepnote_index_column": "2019-09-01T18:00:00.000000"
        },
        {
         "Close": 0.25519999861717224,
         "trend_aroon_up": "nan",
         "trend_aroon_down": "nan",
         "_deepnote_index_column": "2019-09-01T19:00:00.000000"
        },
        {
         "Close": 0.25589999556541443,
         "trend_aroon_up": "nan",
         "trend_aroon_down": "nan",
         "_deepnote_index_column": "2019-09-01T20:00:00.000000"
        },
        {
         "Close": 0.2563999891281128,
         "trend_aroon_up": "nan",
         "trend_aroon_down": "nan",
         "_deepnote_index_column": "2019-09-01T21:00:00.000000"
        },
        {
         "Close": 0.25679999589920044,
         "trend_aroon_up": "nan",
         "trend_aroon_down": "nan",
         "_deepnote_index_column": "2019-09-01T22:00:00.000000"
        },
        {
         "Close": 0.2572999894618988,
         "trend_aroon_up": "nan",
         "trend_aroon_down": "nan",
         "_deepnote_index_column": "2019-09-01T23:00:00.000000"
        },
        {
         "Close": 0.25690001249313354,
         "trend_aroon_up": "nan",
         "trend_aroon_down": "nan",
         "_deepnote_index_column": "2019-09-02T00:00:00.000000"
        },
        {
         "Close": 0.2558000087738037,
         "trend_aroon_up": 4,
         "trend_aroon_down": 68,
         "_deepnote_index_column": "2019-09-02T01:00:00.000000"
        },
        {
         "Close": 0.2554999887943268,
         "trend_aroon_up": 12,
         "trend_aroon_down": 64,
         "_deepnote_index_column": "2019-09-02T02:00:00.000000"
        },
        {
         "Close": 0.2558000087738037,
         "trend_aroon_up": 8,
         "trend_aroon_down": 60,
         "_deepnote_index_column": "2019-09-02T03:00:00.000000"
        },
        {
         "Close": 0.2554999887943268,
         "trend_aroon_up": 4,
         "trend_aroon_down": 56.00000000000001,
         "_deepnote_index_column": "2019-09-02T04:00:00.000000"
        },
        {
         "Close": 0.2554999887943268,
         "trend_aroon_up": 12,
         "trend_aroon_down": 52,
         "_deepnote_index_column": "2019-09-02T05:00:00.000000"
        },
        {
         "Close": 0.25529998540878296,
         "trend_aroon_up": 8,
         "trend_aroon_down": 48,
         "_deepnote_index_column": "2019-09-02T06:00:00.000000"
        },
        {
         "Close": 0.2549999952316284,
         "trend_aroon_up": 4,
         "trend_aroon_down": 44,
         "_deepnote_index_column": "2019-09-02T07:00:00.000000"
        },
        {
         "Close": 0.25429999828338623,
         "trend_aroon_up": 4,
         "trend_aroon_down": 40,
         "_deepnote_index_column": "2019-09-02T08:00:00.000000"
        },
        {
         "Close": 0.25440001487731934,
         "trend_aroon_up": 60,
         "trend_aroon_down": 36,
         "_deepnote_index_column": "2019-09-02T09:00:00.000000"
        },
        {
         "Close": 0.2549999952316284,
         "trend_aroon_up": 56.00000000000001,
         "trend_aroon_down": 32,
         "_deepnote_index_column": "2019-09-02T10:00:00.000000"
        },
        {
         "Close": 0.25459998846054077,
         "trend_aroon_up": 52,
         "trend_aroon_down": 28.000000000000004,
         "_deepnote_index_column": "2019-09-02T11:00:00.000000"
        },
        {
         "Close": 0.2556999921798706,
         "trend_aroon_up": 48,
         "trend_aroon_down": 24,
         "_deepnote_index_column": "2019-09-02T12:00:00.000000"
        },
        {
         "Close": 0.2549999952316284,
         "trend_aroon_up": 44,
         "trend_aroon_down": 20,
         "_deepnote_index_column": "2019-09-02T13:00:00.000000"
        },
        {
         "Close": 0.257999986410141,
         "trend_aroon_up": 100,
         "trend_aroon_down": 16,
         "_deepnote_index_column": "2019-09-02T14:00:00.000000"
        },
        {
         "Close": 0.25760000944137573,
         "trend_aroon_up": 96,
         "trend_aroon_down": 12,
         "_deepnote_index_column": "2019-09-02T15:00:00.000000"
        },
        {
         "Close": 0.25699999928474426,
         "trend_aroon_up": 92,
         "trend_aroon_down": 8,
         "_deepnote_index_column": "2019-09-02T16:00:00.000000"
        },
        {
         "Close": 0.25780001282691956,
         "trend_aroon_up": 88,
         "trend_aroon_down": 4,
         "_deepnote_index_column": "2019-09-02T17:00:00.000000"
        },
        {
         "Close": 0.25870001316070557,
         "trend_aroon_up": 100,
         "trend_aroon_down": 4,
         "_deepnote_index_column": "2019-09-02T18:00:00.000000"
        },
        {
         "Close": 0.260699987411499,
         "trend_aroon_up": 100,
         "trend_aroon_down": 56.00000000000001,
         "_deepnote_index_column": "2019-09-02T19:00:00.000000"
        },
        {
         "Close": 0.26089999079704285,
         "trend_aroon_up": 100,
         "trend_aroon_down": 52,
         "_deepnote_index_column": "2019-09-02T20:00:00.000000"
        },
        {
         "Close": 0.2628999948501587,
         "trend_aroon_up": 100,
         "trend_aroon_down": 48,
         "_deepnote_index_column": "2019-09-02T21:00:00.000000"
        },
        {
         "Close": 0.2630999982357025,
         "trend_aroon_up": 100,
         "trend_aroon_down": 44,
         "_deepnote_index_column": "2019-09-02T22:00:00.000000"
        },
        {
         "Close": 0.2624000012874603,
         "trend_aroon_up": 96,
         "trend_aroon_down": 40,
         "_deepnote_index_column": "2019-09-02T23:00:00.000000"
        },
        {
         "Close": 0.26159998774528503,
         "trend_aroon_up": 92,
         "trend_aroon_down": 36,
         "_deepnote_index_column": "2019-09-03T00:00:00.000000"
        },
        {
         "Close": 0.26080000400543213,
         "trend_aroon_up": 88,
         "trend_aroon_down": 32,
         "_deepnote_index_column": "2019-09-03T01:00:00.000000"
        },
        {
         "Close": 0.2606000006198883,
         "trend_aroon_up": 84,
         "trend_aroon_down": 28.000000000000004,
         "_deepnote_index_column": "2019-09-03T02:00:00.000000"
        },
        {
         "Close": 0.26080000400543213,
         "trend_aroon_up": 80,
         "trend_aroon_down": 24,
         "_deepnote_index_column": "2019-09-03T03:00:00.000000"
        },
        {
         "Close": 0.2615000009536743,
         "trend_aroon_up": 76,
         "trend_aroon_down": 20,
         "_deepnote_index_column": "2019-09-03T04:00:00.000000"
        },
        {
         "Close": 0.2614000141620636,
         "trend_aroon_up": 72,
         "trend_aroon_down": 16,
         "_deepnote_index_column": "2019-09-03T05:00:00.000000"
        },
        {
         "Close": 0.2612999975681305,
         "trend_aroon_up": 68,
         "trend_aroon_down": 12,
         "_deepnote_index_column": "2019-09-03T06:00:00.000000"
        },
        {
         "Close": 0.26100000739097595,
         "trend_aroon_up": 64,
         "trend_aroon_down": 8,
         "_deepnote_index_column": "2019-09-03T07:00:00.000000"
        },
        {
         "Close": 0.260699987411499,
         "trend_aroon_up": 60,
         "trend_aroon_down": 4,
         "_deepnote_index_column": "2019-09-03T08:00:00.000000"
        },
        {
         "Close": 0.2603999972343445,
         "trend_aroon_up": 56.00000000000001,
         "trend_aroon_down": 4,
         "_deepnote_index_column": "2019-09-03T09:00:00.000000"
        },
        {
         "Close": 0.258899986743927,
         "trend_aroon_up": 52,
         "trend_aroon_down": 8,
         "_deepnote_index_column": "2019-09-03T10:00:00.000000"
        },
        {
         "Close": 0.26010000705718994,
         "trend_aroon_up": 48,
         "trend_aroon_down": 4,
         "_deepnote_index_column": "2019-09-03T11:00:00.000000"
        },
        {
         "Close": 0.26010000705718994,
         "trend_aroon_up": 44,
         "trend_aroon_down": 8,
         "_deepnote_index_column": "2019-09-03T12:00:00.000000"
        },
        {
         "Close": 0.2621000111103058,
         "trend_aroon_up": 40,
         "trend_aroon_down": 4,
         "_deepnote_index_column": "2019-09-03T13:00:00.000000"
        },
        {
         "Close": 0.2646999955177307,
         "trend_aroon_up": 100,
         "trend_aroon_down": 12,
         "_deepnote_index_column": "2019-09-03T14:00:00.000000"
        },
        {
         "Close": 0.26350000500679016,
         "trend_aroon_up": 96,
         "trend_aroon_down": 8,
         "_deepnote_index_column": "2019-09-03T15:00:00.000000"
        },
        {
         "Close": 0.2637999951839447,
         "trend_aroon_up": 92,
         "trend_aroon_down": 4,
         "_deepnote_index_column": "2019-09-03T16:00:00.000000"
        },
        {
         "Close": 0.2630000114440918,
         "trend_aroon_up": 88,
         "trend_aroon_down": 4,
         "_deepnote_index_column": "2019-09-03T17:00:00.000000"
        },
        {
         "Close": 0.2619999945163727,
         "trend_aroon_up": 84,
         "trend_aroon_down": 4,
         "_deepnote_index_column": "2019-09-03T18:00:00.000000"
        },
        {
         "Close": 0.2619999945163727,
         "trend_aroon_up": 80,
         "trend_aroon_down": 64,
         "_deepnote_index_column": "2019-09-03T19:00:00.000000"
        },
        {
         "Close": 0.2624000012874603,
         "trend_aroon_up": 76,
         "trend_aroon_down": 60,
         "_deepnote_index_column": "2019-09-03T20:00:00.000000"
        },
        {
         "Close": 0.26339998841285706,
         "trend_aroon_up": 72,
         "trend_aroon_down": 56.00000000000001,
         "_deepnote_index_column": "2019-09-03T21:00:00.000000"
        },
        {
         "Close": 0.26409998536109924,
         "trend_aroon_up": 68,
         "trend_aroon_down": 52,
         "_deepnote_index_column": "2019-09-03T22:00:00.000000"
        },
        {
         "Close": 0.26460000872612,
         "trend_aroon_up": 64,
         "trend_aroon_down": 48,
         "_deepnote_index_column": "2019-09-03T23:00:00.000000"
        },
        {
         "Close": 0.2632000148296356,
         "trend_aroon_up": 60,
         "trend_aroon_down": 44,
         "_deepnote_index_column": "2019-09-04T00:00:00.000000"
        },
        {
         "Close": 0.26269999146461487,
         "trend_aroon_up": 56.00000000000001,
         "trend_aroon_down": 40,
         "_deepnote_index_column": "2019-09-04T01:00:00.000000"
        },
        {
         "Close": 0.26190000772476196,
         "trend_aroon_up": 52,
         "trend_aroon_down": 36,
         "_deepnote_index_column": "2019-09-04T02:00:00.000000"
        },
        {
         "Close": 0.26159998774528503,
         "trend_aroon_up": 48,
         "trend_aroon_down": 32,
         "_deepnote_index_column": "2019-09-04T03:00:00.000000"
        },
        {
         "Close": 0.2623000144958496,
         "trend_aroon_up": 44,
         "trend_aroon_down": 28.000000000000004,
         "_deepnote_index_column": "2019-09-04T04:00:00.000000"
        },
        {
         "Close": 0.26089999079704285,
         "trend_aroon_up": 40,
         "trend_aroon_down": 24,
         "_deepnote_index_column": "2019-09-04T05:00:00.000000"
        },
        {
         "Close": 0.260699987411499,
         "trend_aroon_up": 36,
         "trend_aroon_down": 20,
         "_deepnote_index_column": "2019-09-04T06:00:00.000000"
        },
        {
         "Close": 0.2606000006198883,
         "trend_aroon_up": 32,
         "trend_aroon_down": 16,
         "_deepnote_index_column": "2019-09-04T07:00:00.000000"
        },
        {
         "Close": 0.2605000138282776,
         "trend_aroon_up": 28.000000000000004,
         "trend_aroon_down": 12,
         "_deepnote_index_column": "2019-09-04T08:00:00.000000"
        },
        {
         "Close": 0.258899986743927,
         "trend_aroon_up": 24,
         "trend_aroon_down": 8,
         "_deepnote_index_column": "2019-09-04T09:00:00.000000"
        },
        {
         "Close": 0.2597000002861023,
         "trend_aroon_up": 20,
         "trend_aroon_down": 4,
         "_deepnote_index_column": "2019-09-04T10:00:00.000000"
        },
        {
         "Close": 0.2596000134944916,
         "trend_aroon_up": 16,
         "trend_aroon_down": 92,
         "_deepnote_index_column": "2019-09-04T11:00:00.000000"
        },
        {
         "Close": 0.25929999351501465,
         "trend_aroon_up": 12,
         "trend_aroon_down": 88,
         "_deepnote_index_column": "2019-09-04T12:00:00.000000"
        },
        {
         "Close": 0.25850000977516174,
         "trend_aroon_up": 8,
         "trend_aroon_down": 100,
         "_deepnote_index_column": "2019-09-04T13:00:00.000000"
        },
        {
         "Close": 0.2587999999523163,
         "trend_aroon_up": 4,
         "trend_aroon_down": 96,
         "_deepnote_index_column": "2019-09-04T14:00:00.000000"
        },
        {
         "Close": 0.2581999897956848,
         "trend_aroon_up": 36,
         "trend_aroon_down": 100,
         "_deepnote_index_column": "2019-09-04T15:00:00.000000"
        },
        {
         "Close": 0.25859999656677246,
         "trend_aroon_up": 32,
         "trend_aroon_down": 96,
         "_deepnote_index_column": "2019-09-04T16:00:00.000000"
        },
        {
         "Close": 0.26019999384880066,
         "trend_aroon_up": 28.000000000000004,
         "trend_aroon_down": 92,
         "_deepnote_index_column": "2019-09-04T17:00:00.000000"
        },
        {
         "Close": 0.26019999384880066,
         "trend_aroon_up": 24,
         "trend_aroon_down": 88,
         "_deepnote_index_column": "2019-09-04T18:00:00.000000"
        },
        {
         "Close": 0.25949999690055847,
         "trend_aroon_up": 20,
         "trend_aroon_down": 84,
         "_deepnote_index_column": "2019-09-04T19:00:00.000000"
        },
        {
         "Close": 0.26080000400543213,
         "trend_aroon_up": 16,
         "trend_aroon_down": 80,
         "_deepnote_index_column": "2019-09-04T20:00:00.000000"
        },
        {
         "Close": 0.2603999972343445,
         "trend_aroon_up": 12,
         "trend_aroon_down": 76,
         "_deepnote_index_column": "2019-09-04T21:00:00.000000"
        },
        {
         "Close": 0.26159998774528503,
         "trend_aroon_up": 8,
         "trend_aroon_down": 72,
         "_deepnote_index_column": "2019-09-04T22:00:00.000000"
        },
        {
         "Close": 0.258899986743927,
         "trend_aroon_up": 4,
         "trend_aroon_down": 68,
         "_deepnote_index_column": "2019-09-04T23:00:00.000000"
        },
        {
         "Close": 0.258899986743927,
         "trend_aroon_up": 4,
         "trend_aroon_down": 64,
         "_deepnote_index_column": "2019-09-05T00:00:00.000000"
        },
        {
         "Close": 0.25839999318122864,
         "trend_aroon_up": 4,
         "trend_aroon_down": 60,
         "_deepnote_index_column": "2019-09-05T01:00:00.000000"
        },
        {
         "Close": 0.25839999318122864,
         "trend_aroon_up": 12,
         "trend_aroon_down": 56.00000000000001,
         "_deepnote_index_column": "2019-09-05T02:00:00.000000"
        },
        {
         "Close": 0.25850000977516174,
         "trend_aroon_up": 8,
         "trend_aroon_down": 52,
         "_deepnote_index_column": "2019-09-05T03:00:00.000000"
        },
        {
         "Close": 0.2590999901294708,
         "trend_aroon_up": 4,
         "trend_aroon_down": 48,
         "_deepnote_index_column": "2019-09-05T04:00:00.000000"
        },
        {
         "Close": 0.258899986743927,
         "trend_aroon_up": 72,
         "trend_aroon_down": 44,
         "_deepnote_index_column": "2019-09-05T05:00:00.000000"
        },
        {
         "Close": 0.2587999999523163,
         "trend_aroon_up": 68,
         "trend_aroon_down": 40,
         "_deepnote_index_column": "2019-09-05T06:00:00.000000"
        },
        {
         "Close": 0.2587999999523163,
         "trend_aroon_up": 64,
         "trend_aroon_down": 36,
         "_deepnote_index_column": "2019-09-05T07:00:00.000000"
        },
        {
         "Close": 0.25769999623298645,
         "trend_aroon_up": 60,
         "trend_aroon_down": 100,
         "_deepnote_index_column": "2019-09-05T09:00:00.000000"
        },
        {
         "Close": 0.25699999928474426,
         "trend_aroon_up": 56.00000000000001,
         "trend_aroon_down": 100,
         "_deepnote_index_column": "2019-09-05T10:00:00.000000"
        },
        {
         "Close": 0.25780001282691956,
         "trend_aroon_up": 52,
         "trend_aroon_down": 96,
         "_deepnote_index_column": "2019-09-05T11:00:00.000000"
        },
        {
         "Close": 0.25589999556541443,
         "trend_aroon_up": 48,
         "trend_aroon_down": 100,
         "_deepnote_index_column": "2019-09-05T12:00:00.000000"
        },
        {
         "Close": 0.2565000057220459,
         "trend_aroon_up": 44,
         "trend_aroon_down": 96,
         "_deepnote_index_column": "2019-09-05T13:00:00.000000"
        },
        {
         "Close": 0.2558000087738037,
         "trend_aroon_up": 40,
         "trend_aroon_down": 100,
         "_deepnote_index_column": "2019-09-05T14:00:00.000000"
        },
        {
         "Close": 0.2554999887943268,
         "trend_aroon_up": 36,
         "trend_aroon_down": 100,
         "_deepnote_index_column": "2019-09-05T15:00:00.000000"
        },
        {
         "Close": 0.25609999895095825,
         "trend_aroon_up": 32,
         "trend_aroon_down": 96,
         "_deepnote_index_column": "2019-09-05T16:00:00.000000"
        },
        {
         "Close": 0.25519999861717224,
         "trend_aroon_up": 28.000000000000004,
         "trend_aroon_down": 100,
         "_deepnote_index_column": "2019-09-05T17:00:00.000000"
        },
        {
         "Close": 0.2549000084400177,
         "trend_aroon_up": 24,
         "trend_aroon_down": 100,
         "_deepnote_index_column": "2019-09-05T18:00:00.000000"
        },
        {
         "Close": 0.25589999556541443,
         "trend_aroon_up": 20,
         "trend_aroon_down": 96,
         "_deepnote_index_column": "2019-09-05T19:00:00.000000"
        },
        {
         "Close": 0.25519999861717224,
         "trend_aroon_up": 16,
         "trend_aroon_down": 92,
         "_deepnote_index_column": "2019-09-05T20:00:00.000000"
        },
        {
         "Close": 0.25459998846054077,
         "trend_aroon_up": 12,
         "trend_aroon_down": 100,
         "_deepnote_index_column": "2019-09-05T21:00:00.000000"
        },
        {
         "Close": 0.25540000200271606,
         "trend_aroon_up": 8,
         "trend_aroon_down": 96,
         "_deepnote_index_column": "2019-09-05T22:00:00.000000"
        },
        {
         "Close": 0.2563999891281128,
         "trend_aroon_up": 4,
         "trend_aroon_down": 92,
         "_deepnote_index_column": "2019-09-05T23:00:00.000000"
        },
        {
         "Close": 0.2565999925136566,
         "trend_aroon_up": 24,
         "trend_aroon_down": 88,
         "_deepnote_index_column": "2019-09-06T00:00:00.000000"
        },
        {
         "Close": 0.25589999556541443,
         "trend_aroon_up": 20,
         "trend_aroon_down": 84,
         "_deepnote_index_column": "2019-09-06T01:00:00.000000"
        },
        {
         "Close": 0.2558000087738037,
         "trend_aroon_up": 16,
         "trend_aroon_down": 80,
         "_deepnote_index_column": "2019-09-06T02:00:00.000000"
        },
        {
         "Close": 0.2554999887943268,
         "trend_aroon_up": 12,
         "trend_aroon_down": 76,
         "_deepnote_index_column": "2019-09-06T03:00:00.000000"
        },
        {
         "Close": 0.2563999891281128,
         "trend_aroon_up": 8,
         "trend_aroon_down": 72,
         "_deepnote_index_column": "2019-09-06T04:00:00.000000"
        },
        {
         "Close": 0.2581000030040741,
         "trend_aroon_up": 4,
         "trend_aroon_down": 68,
         "_deepnote_index_column": "2019-09-06T05:00:00.000000"
        },
        {
         "Close": 0.2574999928474426,
         "trend_aroon_up": 4,
         "trend_aroon_down": 64,
         "_deepnote_index_column": "2019-09-06T06:00:00.000000"
        },
        {
         "Close": 0.25760000944137573,
         "trend_aroon_up": 4,
         "trend_aroon_down": 60,
         "_deepnote_index_column": "2019-09-06T07:00:00.000000"
        },
        {
         "Close": 0.25619998574256897,
         "trend_aroon_up": 4,
         "trend_aroon_down": 56.00000000000001,
         "_deepnote_index_column": "2019-09-06T08:00:00.000000"
        },
        {
         "Close": 0.25679999589920044,
         "trend_aroon_up": 84,
         "trend_aroon_down": 52,
         "_deepnote_index_column": "2019-09-06T09:00:00.000000"
        },
        {
         "Close": 0.2572000026702881,
         "trend_aroon_up": 80,
         "trend_aroon_down": 48,
         "_deepnote_index_column": "2019-09-06T10:00:00.000000"
        },
        {
         "Close": 0.25760000944137573,
         "trend_aroon_up": 76,
         "trend_aroon_down": 44,
         "_deepnote_index_column": "2019-09-06T11:00:00.000000"
        },
        {
         "Close": 0.25870001316070557,
         "trend_aroon_up": 100,
         "trend_aroon_down": 40,
         "_deepnote_index_column": "2019-09-06T12:00:00.000000"
        },
        {
         "Close": 0.25769999623298645,
         "trend_aroon_up": 96,
         "trend_aroon_down": 36,
         "_deepnote_index_column": "2019-09-06T13:00:00.000000"
        },
        {
         "Close": 0.257999986410141,
         "trend_aroon_up": 92,
         "trend_aroon_down": 32,
         "_deepnote_index_column": "2019-09-06T14:00:00.000000"
        },
        {
         "Close": 0.258899986743927,
         "trend_aroon_up": 100,
         "trend_aroon_down": 28.000000000000004,
         "_deepnote_index_column": "2019-09-06T15:00:00.000000"
        },
        {
         "Close": 0.258899986743927,
         "trend_aroon_up": 96,
         "trend_aroon_down": 24,
         "_deepnote_index_column": "2019-09-06T16:00:00.000000"
        },
        {
         "Close": 0.257999986410141,
         "trend_aroon_up": 92,
         "trend_aroon_down": 20,
         "_deepnote_index_column": "2019-09-06T17:00:00.000000"
        },
        {
         "Close": 0.25360000133514404,
         "trend_aroon_up": 88,
         "trend_aroon_down": 100,
         "_deepnote_index_column": "2019-09-06T18:00:00.000000"
        },
        {
         "Close": 0.2524999976158142,
         "trend_aroon_up": 84,
         "trend_aroon_down": 100,
         "_deepnote_index_column": "2019-09-06T19:00:00.000000"
        },
        {
         "Close": 0.25220000743865967,
         "trend_aroon_up": 80,
         "trend_aroon_down": 100,
         "_deepnote_index_column": "2019-09-06T20:00:00.000000"
        },
        {
         "Close": 0.251800000667572,
         "trend_aroon_up": 76,
         "trend_aroon_down": 100,
         "_deepnote_index_column": "2019-09-06T21:00:00.000000"
        },
        {
         "Close": 0.2515000104904175,
         "trend_aroon_up": 72,
         "trend_aroon_down": 100,
         "_deepnote_index_column": "2019-09-06T22:00:00.000000"
        },
        {
         "Close": 0.251800000667572,
         "trend_aroon_up": 68,
         "trend_aroon_down": 96,
         "_deepnote_index_column": "2019-09-06T23:00:00.000000"
        },
        {
         "Close": 0.251800000667572,
         "trend_aroon_up": 64,
         "trend_aroon_down": 92,
         "_deepnote_index_column": "2019-09-07T00:00:00.000000"
        },
        {
         "Close": 0.25099998712539673,
         "trend_aroon_up": 60,
         "trend_aroon_down": 100,
         "_deepnote_index_column": "2019-09-07T01:00:00.000000"
        },
        {
         "Close": 0.2515999972820282,
         "trend_aroon_up": 56.00000000000001,
         "trend_aroon_down": 96,
         "_deepnote_index_column": "2019-09-07T02:00:00.000000"
        },
        {
         "Close": 0.251800000667572,
         "trend_aroon_up": 52,
         "trend_aroon_down": 92,
         "_deepnote_index_column": "2019-09-07T03:00:00.000000"
        },
        {
         "Close": 0.25119999051094055,
         "trend_aroon_up": 48,
         "trend_aroon_down": 88,
         "_deepnote_index_column": "2019-09-07T04:00:00.000000"
        },
        {
         "Close": 0.25200000405311584,
         "trend_aroon_up": 44,
         "trend_aroon_down": 84,
         "_deepnote_index_column": "2019-09-07T05:00:00.000000"
        },
        {
         "Close": 0.2515999972820282,
         "trend_aroon_up": 40,
         "trend_aroon_down": 80,
         "_deepnote_index_column": "2019-09-07T06:00:00.000000"
        },
        {
         "Close": 0.25119999051094055,
         "trend_aroon_up": 36,
         "trend_aroon_down": 76,
         "_deepnote_index_column": "2019-09-07T07:00:00.000000"
        },
        {
         "Close": 0.2513999938964844,
         "trend_aroon_up": 32,
         "trend_aroon_down": 72,
         "_deepnote_index_column": "2019-09-07T08:00:00.000000"
        },
        {
         "Close": 0.25119999051094055,
         "trend_aroon_up": 28.000000000000004,
         "trend_aroon_down": 68,
         "_deepnote_index_column": "2019-09-07T09:00:00.000000"
        },
        {
         "Close": 0.2515000104904175,
         "trend_aroon_up": 24,
         "trend_aroon_down": 64,
         "_deepnote_index_column": "2019-09-07T10:00:00.000000"
        },
        {
         "Close": 0.2513999938964844,
         "trend_aroon_up": 20,
         "trend_aroon_down": 60,
         "_deepnote_index_column": "2019-09-07T11:00:00.000000"
        },
        {
         "Close": 0.25290000438690186,
         "trend_aroon_up": 16,
         "trend_aroon_down": 56.00000000000001,
         "_deepnote_index_column": "2019-09-07T12:00:00.000000"
        },
        {
         "Close": 0.2531000077724457,
         "trend_aroon_up": 12,
         "trend_aroon_down": 52,
         "_deepnote_index_column": "2019-09-07T13:00:00.000000"
        },
        {
         "Close": 0.25679999589920044,
         "trend_aroon_up": 8,
         "trend_aroon_down": 48,
         "_deepnote_index_column": "2019-09-07T14:00:00.000000"
        },
        {
         "Close": 0.2590000033378601,
         "trend_aroon_up": 100,
         "trend_aroon_down": 44,
         "_deepnote_index_column": "2019-09-07T15:00:00.000000"
        },
        {
         "Close": 0.2599000036716461,
         "trend_aroon_up": 100,
         "trend_aroon_down": 40,
         "_deepnote_index_column": "2019-09-07T16:00:00.000000"
        },
        {
         "Close": 0.2603999972343445,
         "trend_aroon_up": 100,
         "trend_aroon_down": 36,
         "_deepnote_index_column": "2019-09-07T17:00:00.000000"
        },
        {
         "Close": 0.26109999418258667,
         "trend_aroon_up": 100,
         "trend_aroon_down": 32,
         "_deepnote_index_column": "2019-09-07T18:00:00.000000"
        },
        {
         "Close": 0.2621000111103058,
         "trend_aroon_up": 100,
         "trend_aroon_down": 28.000000000000004,
         "_deepnote_index_column": "2019-09-07T19:00:00.000000"
        },
        {
         "Close": 0.26170000433921814,
         "trend_aroon_up": 96,
         "trend_aroon_down": 24,
         "_deepnote_index_column": "2019-09-07T20:00:00.000000"
        },
        {
         "Close": 0.26100000739097595,
         "trend_aroon_up": 92,
         "trend_aroon_down": 20,
         "_deepnote_index_column": "2019-09-07T21:00:00.000000"
        },
        {
         "Close": 0.2615000009536743,
         "trend_aroon_up": 88,
         "trend_aroon_down": 16,
         "_deepnote_index_column": "2019-09-07T22:00:00.000000"
        },
        {
         "Close": 0.2615000009536743,
         "trend_aroon_up": 84,
         "trend_aroon_down": 12,
         "_deepnote_index_column": "2019-09-07T23:00:00.000000"
        }
       ],
       "rows_bottom": [
        {
         "Close": 0.7190940976142883,
         "trend_aroon_up": 8,
         "trend_aroon_down": 68,
         "_deepnote_index_column": "2021-08-04T02:00:00.000000"
        },
        {
         "Close": 0.7142008543014526,
         "trend_aroon_up": 4,
         "trend_aroon_down": 64,
         "_deepnote_index_column": "2021-08-04T03:00:00.000000"
        },
        {
         "Close": 0.7115011215209961,
         "trend_aroon_up": 4,
         "trend_aroon_down": 60,
         "_deepnote_index_column": "2021-08-04T04:00:00.000000"
        },
        {
         "Close": 0.7117509841918945,
         "trend_aroon_up": 12,
         "trend_aroon_down": 56.00000000000001,
         "_deepnote_index_column": "2021-08-04T05:00:00.000000"
        },
        {
         "Close": 0.7115821242332458,
         "trend_aroon_up": 8,
         "trend_aroon_down": 52,
         "_deepnote_index_column": "2021-08-04T06:00:00.000000"
        },
        {
         "Close": 0.7097432613372803,
         "trend_aroon_up": 4,
         "trend_aroon_down": 48,
         "_deepnote_index_column": "2021-08-04T07:00:00.000000"
        },
        {
         "Close": 0.7053142786026001,
         "trend_aroon_up": 72,
         "trend_aroon_down": 100,
         "_deepnote_index_column": "2021-08-04T08:00:00.000000"
        },
        {
         "Close": 0.7011412382125854,
         "trend_aroon_up": 68,
         "trend_aroon_down": 100,
         "_deepnote_index_column": "2021-08-04T09:00:00.000000"
        },
        {
         "Close": 0.6989625096321106,
         "trend_aroon_up": 64,
         "trend_aroon_down": 100,
         "_deepnote_index_column": "2021-08-04T10:00:00.000000"
        },
        {
         "Close": 0.7049117088317871,
         "trend_aroon_up": 60,
         "trend_aroon_down": 96,
         "_deepnote_index_column": "2021-08-04T11:00:00.000000"
        },
        {
         "Close": 0.7057253122329712,
         "trend_aroon_up": 56.00000000000001,
         "trend_aroon_down": 92,
         "_deepnote_index_column": "2021-08-04T12:00:00.000000"
        },
        {
         "Close": 0.7226715087890625,
         "trend_aroon_up": 100,
         "trend_aroon_down": 88,
         "_deepnote_index_column": "2021-08-04T15:00:00.000000"
        },
        {
         "Close": 0.7267580032348633,
         "trend_aroon_up": 100,
         "trend_aroon_down": 84,
         "_deepnote_index_column": "2021-08-04T16:00:00.000000"
        },
        {
         "Close": 0.7355135083198547,
         "trend_aroon_up": 100,
         "trend_aroon_down": 80,
         "_deepnote_index_column": "2021-08-04T17:00:00.000000"
        },
        {
         "Close": 0.7295240163803101,
         "trend_aroon_up": 96,
         "trend_aroon_down": 76,
         "_deepnote_index_column": "2021-08-04T18:00:00.000000"
        },
        {
         "Close": 0.7303593754768372,
         "trend_aroon_up": 92,
         "trend_aroon_down": 72,
         "_deepnote_index_column": "2021-08-04T19:00:00.000000"
        },
        {
         "Close": 0.7306994199752808,
         "trend_aroon_up": 88,
         "trend_aroon_down": 68,
         "_deepnote_index_column": "2021-08-04T20:00:00.000000"
        },
        {
         "Close": 0.7345274686813354,
         "trend_aroon_up": 84,
         "trend_aroon_down": 64,
         "_deepnote_index_column": "2021-08-04T21:00:00.000000"
        },
        {
         "Close": 0.7354176044464111,
         "trend_aroon_up": 80,
         "trend_aroon_down": 60,
         "_deepnote_index_column": "2021-08-04T22:00:00.000000"
        },
        {
         "Close": 0.7298071384429932,
         "trend_aroon_up": 76,
         "trend_aroon_down": 56.00000000000001,
         "_deepnote_index_column": "2021-08-04T23:00:00.000000"
        },
        {
         "Close": 0.7321673035621643,
         "trend_aroon_up": 72,
         "trend_aroon_down": 52,
         "_deepnote_index_column": "2021-08-05T00:00:00.000000"
        },
        {
         "Close": 0.7239851951599121,
         "trend_aroon_up": 68,
         "trend_aroon_down": 48,
         "_deepnote_index_column": "2021-08-05T03:00:00.000000"
        },
        {
         "Close": 0.727833092212677,
         "trend_aroon_up": 64,
         "trend_aroon_down": 44,
         "_deepnote_index_column": "2021-08-05T04:00:00.000000"
        },
        {
         "Close": 0.7278347611427307,
         "trend_aroon_up": 60,
         "trend_aroon_down": 40,
         "_deepnote_index_column": "2021-08-05T05:00:00.000000"
        },
        {
         "Close": 0.7276008129119873,
         "trend_aroon_up": 56.00000000000001,
         "trend_aroon_down": 36,
         "_deepnote_index_column": "2021-08-05T06:00:00.000000"
        },
        {
         "Close": 0.7210211753845215,
         "trend_aroon_up": 52,
         "trend_aroon_down": 32,
         "_deepnote_index_column": "2021-08-05T07:00:00.000000"
        },
        {
         "Close": 0.7198015451431274,
         "trend_aroon_up": 48,
         "trend_aroon_down": 28.000000000000004,
         "_deepnote_index_column": "2021-08-05T08:00:00.000000"
        },
        {
         "Close": 0.7160294055938721,
         "trend_aroon_up": 44,
         "trend_aroon_down": 24,
         "_deepnote_index_column": "2021-08-05T09:00:00.000000"
        },
        {
         "Close": 0.7091380953788757,
         "trend_aroon_up": 40,
         "trend_aroon_down": 20,
         "_deepnote_index_column": "2021-08-05T10:00:00.000000"
        },
        {
         "Close": 0.7117335796356201,
         "trend_aroon_up": 36,
         "trend_aroon_down": 16,
         "_deepnote_index_column": "2021-08-05T11:00:00.000000"
        },
        {
         "Close": 0.7144351601600647,
         "trend_aroon_up": 32,
         "trend_aroon_down": 12,
         "_deepnote_index_column": "2021-08-05T12:00:00.000000"
        },
        {
         "Close": 0.7149300575256348,
         "trend_aroon_up": 28.000000000000004,
         "trend_aroon_down": 8,
         "_deepnote_index_column": "2021-08-05T13:00:00.000000"
        },
        {
         "Close": 0.7116647362709045,
         "trend_aroon_up": 24,
         "trend_aroon_down": 4,
         "_deepnote_index_column": "2021-08-05T14:00:00.000000"
        },
        {
         "Close": 0.7215102910995483,
         "trend_aroon_up": 20,
         "trend_aroon_down": 4,
         "_deepnote_index_column": "2021-08-05T15:00:00.000000"
        },
        {
         "Close": 0.7194646596908569,
         "trend_aroon_up": 16,
         "trend_aroon_down": 4,
         "_deepnote_index_column": "2021-08-05T16:00:00.000000"
        },
        {
         "Close": 0.7228512167930603,
         "trend_aroon_up": 12,
         "trend_aroon_down": 72,
         "_deepnote_index_column": "2021-08-05T17:00:00.000000"
        },
        {
         "Close": 0.7314638495445251,
         "trend_aroon_up": 8,
         "trend_aroon_down": 68,
         "_deepnote_index_column": "2021-08-05T18:00:00.000000"
        },
        {
         "Close": 0.7308619618415833,
         "trend_aroon_up": 4,
         "trend_aroon_down": 64,
         "_deepnote_index_column": "2021-08-05T19:00:00.000000"
        },
        {
         "Close": 0.7288644909858704,
         "trend_aroon_up": 20,
         "trend_aroon_down": 60,
         "_deepnote_index_column": "2021-08-05T20:00:00.000000"
        },
        {
         "Close": 0.7313438057899475,
         "trend_aroon_up": 16,
         "trend_aroon_down": 56.00000000000001,
         "_deepnote_index_column": "2021-08-05T21:00:00.000000"
        },
        {
         "Close": 0.7338907122612,
         "trend_aroon_up": 12,
         "trend_aroon_down": 52,
         "_deepnote_index_column": "2021-08-05T22:00:00.000000"
        },
        {
         "Close": 0.7361543774604797,
         "trend_aroon_up": 100,
         "trend_aroon_down": 48,
         "_deepnote_index_column": "2021-08-05T23:00:00.000000"
        },
        {
         "Close": 0.7334988713264465,
         "trend_aroon_up": 96,
         "trend_aroon_down": 44,
         "_deepnote_index_column": "2021-08-06T00:00:00.000000"
        },
        {
         "Close": 0.7292117476463318,
         "trend_aroon_up": 92,
         "trend_aroon_down": 40,
         "_deepnote_index_column": "2021-08-06T01:00:00.000000"
        },
        {
         "Close": 0.7344500422477722,
         "trend_aroon_up": 88,
         "trend_aroon_down": 36,
         "_deepnote_index_column": "2021-08-06T02:00:00.000000"
        },
        {
         "Close": 0.7300060987472534,
         "trend_aroon_up": 84,
         "trend_aroon_down": 32,
         "_deepnote_index_column": "2021-08-06T03:00:00.000000"
        },
        {
         "Close": 0.7291244268417358,
         "trend_aroon_up": 80,
         "trend_aroon_down": 28.000000000000004,
         "_deepnote_index_column": "2021-08-06T04:00:00.000000"
        },
        {
         "Close": 0.729397714138031,
         "trend_aroon_up": 76,
         "trend_aroon_down": 24,
         "_deepnote_index_column": "2021-08-06T05:00:00.000000"
        },
        {
         "Close": 0.7333324551582336,
         "trend_aroon_up": 72,
         "trend_aroon_down": 20,
         "_deepnote_index_column": "2021-08-06T06:00:00.000000"
        },
        {
         "Close": 0.7361997365951538,
         "trend_aroon_up": 100,
         "trend_aroon_down": 16,
         "_deepnote_index_column": "2021-08-06T07:00:00.000000"
        },
        {
         "Close": 0.7349915504455566,
         "trend_aroon_up": 96,
         "trend_aroon_down": 12,
         "_deepnote_index_column": "2021-08-06T08:00:00.000000"
        },
        {
         "Close": 0.7364867329597473,
         "trend_aroon_up": 100,
         "trend_aroon_down": 8,
         "_deepnote_index_column": "2021-08-06T09:00:00.000000"
        },
        {
         "Close": 0.7317798137664795,
         "trend_aroon_up": 96,
         "trend_aroon_down": 4,
         "_deepnote_index_column": "2021-08-06T10:00:00.000000"
        },
        {
         "Close": 0.73167484998703,
         "trend_aroon_up": 92,
         "trend_aroon_down": 16,
         "_deepnote_index_column": "2021-08-06T11:00:00.000000"
        },
        {
         "Close": 0.7274817228317261,
         "trend_aroon_up": 88,
         "trend_aroon_down": 12,
         "_deepnote_index_column": "2021-08-06T12:00:00.000000"
        },
        {
         "Close": 0.7278730273246765,
         "trend_aroon_up": 84,
         "trend_aroon_down": 8,
         "_deepnote_index_column": "2021-08-06T13:00:00.000000"
        },
        {
         "Close": 0.7304182648658752,
         "trend_aroon_up": 80,
         "trend_aroon_down": 4,
         "_deepnote_index_column": "2021-08-06T14:00:00.000000"
        },
        {
         "Close": 0.7280771136283875,
         "trend_aroon_up": 76,
         "trend_aroon_down": 8,
         "_deepnote_index_column": "2021-08-06T15:00:00.000000"
        },
        {
         "Close": 0.7409383654594421,
         "trend_aroon_up": 100,
         "trend_aroon_down": 4,
         "_deepnote_index_column": "2021-08-06T16:00:00.000000"
        },
        {
         "Close": 0.7450693249702454,
         "trend_aroon_up": 100,
         "trend_aroon_down": 4,
         "_deepnote_index_column": "2021-08-06T17:00:00.000000"
        },
        {
         "Close": 0.7493008971214294,
         "trend_aroon_up": 100,
         "trend_aroon_down": 76,
         "_deepnote_index_column": "2021-08-06T18:00:00.000000"
        },
        {
         "Close": 0.7470899224281311,
         "trend_aroon_up": 96,
         "trend_aroon_down": 72,
         "_deepnote_index_column": "2021-08-06T19:00:00.000000"
        },
        {
         "Close": 0.749093770980835,
         "trend_aroon_up": 92,
         "trend_aroon_down": 68,
         "_deepnote_index_column": "2021-08-06T20:00:00.000000"
        },
        {
         "Close": 0.7484444379806519,
         "trend_aroon_up": 88,
         "trend_aroon_down": 64,
         "_deepnote_index_column": "2021-08-06T21:00:00.000000"
        },
        {
         "Close": 0.7400344610214233,
         "trend_aroon_up": 84,
         "trend_aroon_down": 60,
         "_deepnote_index_column": "2021-08-06T22:00:00.000000"
        },
        {
         "Close": 0.7445024847984314,
         "trend_aroon_up": 80,
         "trend_aroon_down": 56.00000000000001,
         "_deepnote_index_column": "2021-08-06T23:00:00.000000"
        },
        {
         "Close": 0.7465130090713501,
         "trend_aroon_up": 76,
         "trend_aroon_down": 52,
         "_deepnote_index_column": "2021-08-07T00:00:00.000000"
        },
        {
         "Close": 0.7548611164093018,
         "trend_aroon_up": 100,
         "trend_aroon_down": 48,
         "_deepnote_index_column": "2021-08-07T01:00:00.000000"
        },
        {
         "Close": 0.7566510438919067,
         "trend_aroon_up": 100,
         "trend_aroon_down": 44,
         "_deepnote_index_column": "2021-08-07T02:00:00.000000"
        },
        {
         "Close": 0.762823224067688,
         "trend_aroon_up": 100,
         "trend_aroon_down": 40,
         "_deepnote_index_column": "2021-08-07T03:00:00.000000"
        },
        {
         "Close": 0.7649507522583008,
         "trend_aroon_up": 100,
         "trend_aroon_down": 36,
         "_deepnote_index_column": "2021-08-07T04:00:00.000000"
        },
        {
         "Close": 0.7618080377578735,
         "trend_aroon_up": 96,
         "trend_aroon_down": 32,
         "_deepnote_index_column": "2021-08-07T05:00:00.000000"
        },
        {
         "Close": 0.7649903297424316,
         "trend_aroon_up": 100,
         "trend_aroon_down": 28.000000000000004,
         "_deepnote_index_column": "2021-08-07T06:00:00.000000"
        },
        {
         "Close": 0.7613361477851868,
         "trend_aroon_up": 96,
         "trend_aroon_down": 24,
         "_deepnote_index_column": "2021-08-07T07:00:00.000000"
        },
        {
         "Close": 0.7610374093055725,
         "trend_aroon_up": 92,
         "trend_aroon_down": 20,
         "_deepnote_index_column": "2021-08-07T08:00:00.000000"
        },
        {
         "Close": 0.7645235657691956,
         "trend_aroon_up": 88,
         "trend_aroon_down": 16,
         "_deepnote_index_column": "2021-08-07T09:00:00.000000"
        },
        {
         "Close": 0.7894212603569031,
         "trend_aroon_up": 100,
         "trend_aroon_down": 12,
         "_deepnote_index_column": "2021-08-07T10:00:00.000000"
        },
        {
         "Close": 0.7897286415100098,
         "trend_aroon_up": 100,
         "trend_aroon_down": 8,
         "_deepnote_index_column": "2021-08-07T11:00:00.000000"
        },
        {
         "Close": 0.7905455231666565,
         "trend_aroon_up": 100,
         "trend_aroon_down": 4,
         "_deepnote_index_column": "2021-08-07T12:00:00.000000"
        },
        {
         "Close": 0.7743987441062927,
         "trend_aroon_up": 96,
         "trend_aroon_down": 4,
         "_deepnote_index_column": "2021-08-07T13:00:00.000000"
        },
        {
         "Close": 0.7735520601272583,
         "trend_aroon_up": 92,
         "trend_aroon_down": 8,
         "_deepnote_index_column": "2021-08-07T14:00:00.000000"
        },
        {
         "Close": 0.791140615940094,
         "trend_aroon_up": 100,
         "trend_aroon_down": 4,
         "_deepnote_index_column": "2021-08-07T15:00:00.000000"
        },
        {
         "Close": 0.8057512044906616,
         "trend_aroon_up": 100,
         "trend_aroon_down": 28.000000000000004,
         "_deepnote_index_column": "2021-08-07T16:00:00.000000"
        },
        {
         "Close": 0.8016982674598694,
         "trend_aroon_up": 96,
         "trend_aroon_down": 24,
         "_deepnote_index_column": "2021-08-07T17:00:00.000000"
        },
        {
         "Close": 0.79237300157547,
         "trend_aroon_up": 92,
         "trend_aroon_down": 20,
         "_deepnote_index_column": "2021-08-07T18:00:00.000000"
        },
        {
         "Close": 0.7993141412734985,
         "trend_aroon_up": 88,
         "trend_aroon_down": 16,
         "_deepnote_index_column": "2021-08-07T19:00:00.000000"
        },
        {
         "Close": 0.8037920594215393,
         "trend_aroon_up": 84,
         "trend_aroon_down": 12,
         "_deepnote_index_column": "2021-08-07T20:00:00.000000"
        },
        {
         "Close": 0.8045597076416016,
         "trend_aroon_up": 80,
         "trend_aroon_down": 8,
         "_deepnote_index_column": "2021-08-07T21:00:00.000000"
        },
        {
         "Close": 0.7986745834350586,
         "trend_aroon_up": 76,
         "trend_aroon_down": 4,
         "_deepnote_index_column": "2021-08-07T22:00:00.000000"
        },
        {
         "Close": 0.8053690195083618,
         "trend_aroon_up": 72,
         "trend_aroon_down": 4,
         "_deepnote_index_column": "2021-08-07T23:00:00.000000"
        },
        {
         "Close": 0.8162810802459717,
         "trend_aroon_up": 100,
         "trend_aroon_down": 4,
         "_deepnote_index_column": "2021-08-08T00:00:00.000000"
        },
        {
         "Close": 0.8304288983345032,
         "trend_aroon_up": 100,
         "trend_aroon_down": 4,
         "_deepnote_index_column": "2021-08-08T01:00:00.000000"
        },
        {
         "Close": 0.8090371489524841,
         "trend_aroon_up": 96,
         "trend_aroon_down": 4,
         "_deepnote_index_column": "2021-08-08T02:00:00.000000"
        },
        {
         "Close": 0.8017366528511047,
         "trend_aroon_up": 92,
         "trend_aroon_down": 24,
         "_deepnote_index_column": "2021-08-08T03:00:00.000000"
        },
        {
         "Close": 0.8178030252456665,
         "trend_aroon_up": 88,
         "trend_aroon_down": 20,
         "_deepnote_index_column": "2021-08-08T04:00:00.000000"
        },
        {
         "Close": 0.8164565563201904,
         "trend_aroon_up": 84,
         "trend_aroon_down": 16,
         "_deepnote_index_column": "2021-08-08T05:00:00.000000"
        },
        {
         "Close": 0.8221371173858643,
         "trend_aroon_up": 80,
         "trend_aroon_down": 12,
         "_deepnote_index_column": "2021-08-08T06:00:00.000000"
        },
        {
         "Close": 0.8285307884216309,
         "trend_aroon_up": 76,
         "trend_aroon_down": 8,
         "_deepnote_index_column": "2021-08-08T07:00:00.000000"
        },
        {
         "Close": 0.8223246335983276,
         "trend_aroon_up": 72,
         "trend_aroon_down": 4,
         "_deepnote_index_column": "2021-08-08T08:00:00.000000"
        },
        {
         "Close": 0.8114379644393921,
         "trend_aroon_up": 68,
         "trend_aroon_down": 4,
         "_deepnote_index_column": "2021-08-08T09:00:00.000000"
        },
        {
         "Close": 0.8126380443572998,
         "trend_aroon_up": 64,
         "trend_aroon_down": 20,
         "_deepnote_index_column": "2021-08-08T10:00:00.000000"
        },
        {
         "Close": 0.8030365109443665,
         "trend_aroon_up": 60,
         "trend_aroon_down": 16,
         "_deepnote_index_column": "2021-08-08T11:00:00.000000"
        },
        {
         "Close": 0.8001503944396973,
         "trend_aroon_up": 56.00000000000001,
         "trend_aroon_down": 12,
         "_deepnote_index_column": "2021-08-08T12:00:00.000000"
        },
        {
         "Close": 0.8123614192008972,
         "trend_aroon_up": 52,
         "trend_aroon_down": 8,
         "_deepnote_index_column": "2021-08-08T13:00:00.000000"
        },
        {
         "Close": 0.8075140118598938,
         "trend_aroon_up": 48,
         "trend_aroon_down": 4,
         "_deepnote_index_column": "2021-08-08T14:00:00.000000"
        },
        {
         "Close": 0.7874436974525452,
         "trend_aroon_up": 44,
         "trend_aroon_down": 100,
         "_deepnote_index_column": "2021-08-08T15:00:00.000000"
        },
        {
         "Close": 0.7861583828926086,
         "trend_aroon_up": 40,
         "trend_aroon_down": 100,
         "_deepnote_index_column": "2021-08-08T16:00:00.000000"
        },
        {
         "Close": 0.779674768447876,
         "trend_aroon_up": 36,
         "trend_aroon_down": 100,
         "_deepnote_index_column": "2021-08-08T17:00:00.000000"
        },
        {
         "Close": 0.7871766686439514,
         "trend_aroon_up": 32,
         "trend_aroon_down": 96,
         "_deepnote_index_column": "2021-08-08T18:00:00.000000"
        },
        {
         "Close": 0.7815697193145752,
         "trend_aroon_up": 28.000000000000004,
         "trend_aroon_down": 92,
         "_deepnote_index_column": "2021-08-08T19:00:00.000000"
        },
        {
         "Close": 0.778918445110321,
         "trend_aroon_up": 24,
         "trend_aroon_down": 100,
         "_deepnote_index_column": "2021-08-08T20:00:00.000000"
        },
        {
         "Close": 0.7842029929161072,
         "trend_aroon_up": 20,
         "trend_aroon_down": 96,
         "_deepnote_index_column": "2021-08-08T21:00:00.000000"
        },
        {
         "Close": 0.7921290397644043,
         "trend_aroon_up": 16,
         "trend_aroon_down": 92,
         "_deepnote_index_column": "2021-08-08T22:00:00.000000"
        },
        {
         "Close": 0.7942468523979187,
         "trend_aroon_up": 12,
         "trend_aroon_down": 88,
         "_deepnote_index_column": "2021-08-08T23:00:00.000000"
        },
        {
         "Close": 0.7787393927574158,
         "trend_aroon_up": 8,
         "trend_aroon_down": 100,
         "_deepnote_index_column": "2021-08-09T00:00:00.000000"
        },
        {
         "Close": 0.7659614086151123,
         "trend_aroon_up": 4,
         "trend_aroon_down": 100,
         "_deepnote_index_column": "2021-08-09T01:00:00.000000"
        },
        {
         "Close": 0.7699768543243408,
         "trend_aroon_up": 24,
         "trend_aroon_down": 96,
         "_deepnote_index_column": "2021-08-09T02:00:00.000000"
        },
        {
         "Close": 0.7788583636283875,
         "trend_aroon_up": 20,
         "trend_aroon_down": 92,
         "_deepnote_index_column": "2021-08-09T03:00:00.000000"
        },
        {
         "Close": 0.7826113104820251,
         "trend_aroon_up": 16,
         "trend_aroon_down": 88,
         "_deepnote_index_column": "2021-08-09T04:00:00.000000"
        },
        {
         "Close": 0.7949040532112122,
         "trend_aroon_up": 12,
         "trend_aroon_down": 84,
         "_deepnote_index_column": "2021-08-09T05:00:00.000000"
        },
        {
         "Close": 0.7881271839141846,
         "trend_aroon_up": 8,
         "trend_aroon_down": 80,
         "_deepnote_index_column": "2021-08-09T06:00:00.000000"
        },
        {
         "Close": 0.787296712398529,
         "trend_aroon_up": 4,
         "trend_aroon_down": 76,
         "_deepnote_index_column": "2021-08-09T07:00:00.000000"
        },
        {
         "Close": 0.7967813014984131,
         "trend_aroon_up": 4,
         "trend_aroon_down": 72,
         "_deepnote_index_column": "2021-08-09T08:00:00.000000"
        },
        {
         "Close": 0.7981806397438049,
         "trend_aroon_up": 8,
         "trend_aroon_down": 68,
         "_deepnote_index_column": "2021-08-09T09:00:00.000000"
        },
        {
         "Close": 0.8096413016319275,
         "trend_aroon_up": 4,
         "trend_aroon_down": 64,
         "_deepnote_index_column": "2021-08-09T10:00:00.000000"
        },
        {
         "Close": 0.816961407661438,
         "trend_aroon_up": 100,
         "trend_aroon_down": 60,
         "_deepnote_index_column": "2021-08-09T11:00:00.000000"
        },
        {
         "Close": 0.8193760514259338,
         "trend_aroon_up": 100,
         "trend_aroon_down": 56.00000000000001,
         "_deepnote_index_column": "2021-08-09T12:00:00.000000"
        },
        {
         "Close": 0.8166133165359497,
         "trend_aroon_up": 96,
         "trend_aroon_down": 52,
         "_deepnote_index_column": "2021-08-09T13:00:00.000000"
        },
        {
         "Close": 0.8115898370742798,
         "trend_aroon_up": 92,
         "trend_aroon_down": 48,
         "_deepnote_index_column": "2021-08-09T14:00:00.000000"
        },
        {
         "Close": 0.8130114674568176,
         "trend_aroon_up": 88,
         "trend_aroon_down": 44,
         "_deepnote_index_column": "2021-08-09T15:00:00.000000"
        },
        {
         "Close": 0.8204382061958313,
         "trend_aroon_up": 100,
         "trend_aroon_down": 40,
         "_deepnote_index_column": "2021-08-09T16:00:00.000000"
        },
        {
         "Close": 0.817124605178833,
         "trend_aroon_up": 96,
         "trend_aroon_down": 36,
         "_deepnote_index_column": "2021-08-09T17:00:00.000000"
        },
        {
         "Close": 0.8183885216712952,
         "trend_aroon_up": 92,
         "trend_aroon_down": 32,
         "_deepnote_index_column": "2021-08-09T18:00:00.000000"
        },
        {
         "Close": 0.8223690390586853,
         "trend_aroon_up": 100,
         "trend_aroon_down": 28.000000000000004,
         "_deepnote_index_column": "2021-08-09T19:00:00.000000"
        },
        {
         "Close": 0.8158291578292847,
         "trend_aroon_up": 96,
         "trend_aroon_down": 24,
         "_deepnote_index_column": "2021-08-09T20:00:00.000000"
        },
        {
         "Close": 0.8055914044380188,
         "trend_aroon_up": 92,
         "trend_aroon_down": 20,
         "_deepnote_index_column": "2021-08-09T21:00:00.000000"
        },
        {
         "Close": 0.8096583485603333,
         "trend_aroon_up": 88,
         "trend_aroon_down": 16,
         "_deepnote_index_column": "2021-08-09T22:00:00.000000"
        },
        {
         "Close": 0.8194264769554138,
         "trend_aroon_up": 84,
         "trend_aroon_down": 12,
         "_deepnote_index_column": "2021-08-09T23:00:00.000000"
        },
        {
         "Close": 0.8185535073280334,
         "trend_aroon_up": 80,
         "trend_aroon_down": 8,
         "_deepnote_index_column": "2021-08-10T00:00:00.000000"
        },
        {
         "Close": 0.8124653100967407,
         "trend_aroon_up": 76,
         "trend_aroon_down": 4,
         "_deepnote_index_column": "2021-08-10T01:00:00.000000"
        },
        {
         "Close": 0.811424195766449,
         "trend_aroon_up": 72,
         "trend_aroon_down": 4,
         "_deepnote_index_column": "2021-08-10T02:00:00.000000"
        },
        {
         "Close": 0.8144153356552124,
         "trend_aroon_up": 68,
         "trend_aroon_down": 4,
         "_deepnote_index_column": "2021-08-10T03:00:00.000000"
        },
        {
         "Close": 0.8044356107711792,
         "trend_aroon_up": 64,
         "trend_aroon_down": 4,
         "_deepnote_index_column": "2021-08-10T04:00:00.000000"
        },
        {
         "Close": 0.8098970651626587,
         "trend_aroon_up": 60,
         "trend_aroon_down": 12,
         "_deepnote_index_column": "2021-08-10T05:00:00.000000"
        },
        {
         "Close": 0.8105202913284302,
         "trend_aroon_up": 56.00000000000001,
         "trend_aroon_down": 8,
         "_deepnote_index_column": "2021-08-10T06:00:00.000000"
        },
        {
         "Close": 0.8169611692428589,
         "trend_aroon_up": 52,
         "trend_aroon_down": 4,
         "_deepnote_index_column": "2021-08-10T07:00:00.000000"
        },
        {
         "Close": 0.8193774223327637,
         "trend_aroon_up": 48,
         "trend_aroon_down": 4,
         "_deepnote_index_column": "2021-08-10T08:00:00.000000"
        },
        {
         "Close": 0.8201133012771606,
         "trend_aroon_up": 44,
         "trend_aroon_down": 4,
         "_deepnote_index_column": "2021-08-10T09:00:00.000000"
        },
        {
         "Close": 0.8198803067207336,
         "trend_aroon_up": 40,
         "trend_aroon_down": 76,
         "_deepnote_index_column": "2021-08-10T10:00:00.000000"
        },
        {
         "Close": 0.807433009147644,
         "trend_aroon_up": 36,
         "trend_aroon_down": 72,
         "_deepnote_index_column": "2021-08-10T11:00:00.000000"
        },
        {
         "Close": 0.8152583837509155,
         "trend_aroon_up": 32,
         "trend_aroon_down": 68,
         "_deepnote_index_column": "2021-08-10T12:00:00.000000"
        },
        {
         "Close": 0.8490090370178223,
         "trend_aroon_up": 100,
         "trend_aroon_down": 64,
         "_deepnote_index_column": "2021-08-10T13:00:00.000000"
        },
        {
         "Close": 0.8354390263557434,
         "trend_aroon_up": 96,
         "trend_aroon_down": 60,
         "_deepnote_index_column": "2021-08-10T14:00:00.000000"
        },
        {
         "Close": 0.8288268446922302,
         "trend_aroon_up": 92,
         "trend_aroon_down": 56.00000000000001,
         "_deepnote_index_column": "2021-08-10T15:00:00.000000"
        },
        {
         "Close": 0.8237518072128296,
         "trend_aroon_up": 88,
         "trend_aroon_down": 52,
         "_deepnote_index_column": "2021-08-10T16:00:00.000000"
        },
        {
         "Close": 0.8138244152069092,
         "trend_aroon_up": 84,
         "trend_aroon_down": 48,
         "_deepnote_index_column": "2021-08-10T17:00:00.000000"
        },
        {
         "Close": 0.81997150182724,
         "trend_aroon_up": 80,
         "trend_aroon_down": 44,
         "_deepnote_index_column": "2021-08-10T18:00:00.000000"
        },
        {
         "Close": 0.8261918425559998,
         "trend_aroon_up": 76,
         "trend_aroon_down": 40,
         "_deepnote_index_column": "2021-08-10T19:00:00.000000"
        },
        {
         "Close": 0.8347495198249817,
         "trend_aroon_up": 72,
         "trend_aroon_down": 36,
         "_deepnote_index_column": "2021-08-10T20:00:00.000000"
        },
        {
         "Close": 0.8428434133529663,
         "trend_aroon_up": 68,
         "trend_aroon_down": 32,
         "_deepnote_index_column": "2021-08-10T21:00:00.000000"
        },
        {
         "Close": 0.8587751984596252,
         "trend_aroon_up": 100,
         "trend_aroon_down": 28.000000000000004,
         "_deepnote_index_column": "2021-08-10T22:00:00.000000"
        },
        {
         "Close": 0.8559402227401733,
         "trend_aroon_up": 96,
         "trend_aroon_down": 24,
         "_deepnote_index_column": "2021-08-10T23:00:00.000000"
        },
        {
         "Close": 0.8512465357780457,
         "trend_aroon_up": 92,
         "trend_aroon_down": 20,
         "_deepnote_index_column": "2021-08-11T00:00:00.000000"
        },
        {
         "Close": 0.8692995309829712,
         "trend_aroon_up": 100,
         "trend_aroon_down": 16,
         "_deepnote_index_column": "2021-08-11T01:00:00.000000"
        },
        {
         "Close": 0.8738873600959778,
         "trend_aroon_up": 100,
         "trend_aroon_down": 12,
         "_deepnote_index_column": "2021-08-11T02:00:00.000000"
        },
        {
         "Close": 0.8756111860275269,
         "trend_aroon_up": 100,
         "trend_aroon_down": 8,
         "_deepnote_index_column": "2021-08-11T03:00:00.000000"
        },
        {
         "Close": 0.8757168054580688,
         "trend_aroon_up": 100,
         "trend_aroon_down": 4,
         "_deepnote_index_column": "2021-08-11T03:02:03.000000"
        }
       ]
      },
      "text/plain": "                              Close  trend_aroon_up  trend_aroon_down\n2019-09-01 01:00:00+01:00  0.259100             NaN               NaN\n2019-09-01 02:00:00+01:00  0.258400             NaN               NaN\n2019-09-01 03:00:00+01:00  0.257800             NaN               NaN\n2019-09-01 04:00:00+01:00  0.258500             NaN               NaN\n2019-09-01 05:00:00+01:00  0.258100             NaN               NaN\n...                             ...             ...               ...\n2021-08-11 00:00:00+01:00  0.851247            92.0              20.0\n2021-08-11 01:00:00+01:00  0.869300           100.0              16.0\n2021-08-11 02:00:00+01:00  0.873887           100.0              12.0\n2021-08-11 03:00:00+01:00  0.875611           100.0               8.0\n2021-08-11 03:02:03+01:00  0.875717           100.0               4.0\n\n[17004 rows x 3 columns]",
      "text/html": "<div>\n<style scoped>\n    .dataframe tbody tr th:only-of-type {\n        vertical-align: middle;\n    }\n\n    .dataframe tbody tr th {\n        vertical-align: top;\n    }\n\n    .dataframe thead th {\n        text-align: right;\n    }\n</style>\n<table border=\"1\" class=\"dataframe\">\n  <thead>\n    <tr style=\"text-align: right;\">\n      <th></th>\n      <th>Close</th>\n      <th>trend_aroon_up</th>\n      <th>trend_aroon_down</th>\n    </tr>\n  </thead>\n  <tbody>\n    <tr>\n      <th>2019-09-01 01:00:00+01:00</th>\n      <td>0.259100</td>\n      <td>NaN</td>\n      <td>NaN</td>\n    </tr>\n    <tr>\n      <th>2019-09-01 02:00:00+01:00</th>\n      <td>0.258400</td>\n      <td>NaN</td>\n      <td>NaN</td>\n    </tr>\n    <tr>\n      <th>2019-09-01 03:00:00+01:00</th>\n      <td>0.257800</td>\n      <td>NaN</td>\n      <td>NaN</td>\n    </tr>\n    <tr>\n      <th>2019-09-01 04:00:00+01:00</th>\n      <td>0.258500</td>\n      <td>NaN</td>\n      <td>NaN</td>\n    </tr>\n    <tr>\n      <th>2019-09-01 05:00:00+01:00</th>\n      <td>0.258100</td>\n      <td>NaN</td>\n      <td>NaN</td>\n    </tr>\n    <tr>\n      <th>...</th>\n      <td>...</td>\n      <td>...</td>\n      <td>...</td>\n    </tr>\n    <tr>\n      <th>2021-08-11 00:00:00+01:00</th>\n      <td>0.851247</td>\n      <td>92.0</td>\n      <td>20.0</td>\n    </tr>\n    <tr>\n      <th>2021-08-11 01:00:00+01:00</th>\n      <td>0.869300</td>\n      <td>100.0</td>\n      <td>16.0</td>\n    </tr>\n    <tr>\n      <th>2021-08-11 02:00:00+01:00</th>\n      <td>0.873887</td>\n      <td>100.0</td>\n      <td>12.0</td>\n    </tr>\n    <tr>\n      <th>2021-08-11 03:00:00+01:00</th>\n      <td>0.875611</td>\n      <td>100.0</td>\n      <td>8.0</td>\n    </tr>\n    <tr>\n      <th>2021-08-11 03:02:03+01:00</th>\n      <td>0.875717</td>\n      <td>100.0</td>\n      <td>4.0</td>\n    </tr>\n  </tbody>\n</table>\n<p>17004 rows × 3 columns</p>\n</div>"
     },
     "metadata": {}
    }
   ],
   "execution_count": 37
  },
  {
   "cell_type": "code",
   "metadata": {
    "tags": [],
    "cell_id": "00003-f1ae5a2f-6a42-4dde-949a-10d25817de01",
    "deepnote_to_be_reexecuted": false,
    "source_hash": "7e6464e6",
    "execution_start": 1628647427806,
    "execution_millis": 6708,
    "deepnote_cell_type": "code"
   },
   "source": "df = get_aroon('XRP-USD','2019-09-01')\n\nax1 = plt.subplot2grid((11,1), (0,0), rowspan = 5, colspan = 1)\nax2 = plt.subplot2grid((11,1), (6,0), rowspan = 4, colspan = 1)\nax1.plot(df['Close'], linewidth = 2.5, color = '#2196f3')\nax1.set_title('XRP CLOSE PRICES')\nax2.plot(df['trend_aroon_up'], color = '#26a69a', linewidth = 2, label = 'AROON UP')\nax2.plot(df['trend_aroon_down'], color = '#ef5350', linewidth = 2, label = 'AROON DOWN')\nax2.legend()\nax2.set_title('XRP AROON 25')\nplt.show()",
   "outputs": [
    {
     "name": "stdout",
     "text": "[*********************100%***********************]  1 of 1 completed\n/root/venv/lib/python3.7/site-packages/ta/trend.py:768: RuntimeWarning: invalid value encountered in double_scalars\n  dip[i] = 100 * (self._dip[i] / self._trs[i])\n/root/venv/lib/python3.7/site-packages/ta/trend.py:772: RuntimeWarning: invalid value encountered in double_scalars\n  din[i] = 100 * (self._din[i] / self._trs[i])\n",
     "output_type": "stream"
    },
    {
     "data": {
      "text/plain": "<Figure size 1440x720 with 2 Axes>",
      "image/png": "[encoded data removed]"
     },
     "metadata": {
      "image/png": {
       "width": 1301,
       "height": 582
      }
     },
     "output_type": "display_data"
    }
   ],
   "execution_count": 38
  },
  {
   "cell_type": "code",
   "metadata": {
    "tags": [],
    "cell_id": "00004-646656a6-d011-425c-9c81-e0b74156938d",
    "deepnote_to_be_reexecuted": false,
    "source_hash": "ce792f2e",
    "execution_start": 1628647434509,
    "execution_millis": 7011,
    "deepnote_cell_type": "code"
   },
   "source": "# TRADE STRATEGY BASED ON AROON 25\n\ndf = get_aroon('XRP-USD','2019-09-01')\n\ndef implement_aroon_strategy(prices, up, down):\n    buy_price = []\n    sell_price = []\n    aroon_signal = []\n    signal = 0\n    \n    for i in range(len(prices)):\n        if up[i] >= 70 and down[i] <= 30:\n            if signal != 1:\n                buy_price.append(prices[i])\n                sell_price.append(np.nan)\n                signal = 1\n                aroon_signal.append(signal)\n            else:\n                buy_price.append(np.nan)\n                sell_price.append(np.nan)\n                aroon_signal.append(0)\n        elif up[i] <= 30 and down[i] >= 70:\n            if signal != -1:\n                buy_price.append(np.nan)\n                sell_price.append(prices[i])\n                signal = -1\n                aroon_signal.append(signal)\n            else:\n                buy_price.append(np.nan)\n                sell_price.append(np.nan)\n                aroon_signal.append(0)\n        else:\n            buy_price.append(np.nan)\n            sell_price.append(np.nan)\n            aroon_signal.append(0)\n            \n    return buy_price, sell_price, aroon_signal\n\nbuy_price, sell_price, aroon_signal = implement_aroon_strategy(df['Close'], df['trend_aroon_up'], df['trend_aroon_down'])",
   "outputs": [
    {
     "name": "stdout",
     "text": "[*********************100%***********************]  1 of 1 completed\n/root/venv/lib/python3.7/site-packages/ta/trend.py:768: RuntimeWarning: invalid value encountered in double_scalars\n  dip[i] = 100 * (self._dip[i] / self._trs[i])\n/root/venv/lib/python3.7/site-packages/ta/trend.py:772: RuntimeWarning: invalid value encountered in double_scalars\n  din[i] = 100 * (self._din[i] / self._trs[i])\n",
     "output_type": "stream"
    }
   ],
   "execution_count": 39
  },
  {
   "cell_type": "code",
   "metadata": {
    "tags": [],
    "cell_id": "00006-87492c03-f9aa-4267-980f-3845d2248c2b",
    "deepnote_to_be_reexecuted": false,
    "source_hash": "8455e2d0",
    "execution_start": 1628647441520,
    "execution_millis": 7692,
    "deepnote_cell_type": "code"
   },
   "source": "# PLOTTING TRADE SIGNALS FOR XRP AROON 25 STRATEGY\ndf = get_aroon('XRP-USD','2019-09-01')\n\nax1 = plt.subplot2grid((11,1), (0,0), rowspan = 5, colspan = 1)\nax2 = plt.subplot2grid((11,1), (6,0), rowspan = 4, colspan = 1)\nax1.plot(df['Close'], linewidth = 2.5, color = '#2196f3')\nax1.plot(df.index, buy_price, marker = '^', color = '#26a69a', markersize = 12)\nax1.plot(df.index, sell_price, marker = 'v', color = '#ef5350', markersize = 12)\nax1.set_title('XRP DAILY CLOSE PRICES')\nax2.plot(df['trend_aroon_up'], color = '#26a69a', linewidth = 2, label = 'AROON UP')\nax2.plot(df['trend_aroon_down'], color = '#ef5350', linewidth = 2, label = 'AROON DOWN')\nax2.legend()\nax2.set_title('XRP AROON 25')\nplt.show()",
   "outputs": [
    {
     "name": "stdout",
     "text": "[*********************100%***********************]  1 of 1 completed\n/root/venv/lib/python3.7/site-packages/ta/trend.py:768: RuntimeWarning: invalid value encountered in double_scalars\n  dip[i] = 100 * (self._dip[i] / self._trs[i])\n/root/venv/lib/python3.7/site-packages/ta/trend.py:772: RuntimeWarning: invalid value encountered in double_scalars\n  din[i] = 100 * (self._din[i] / self._trs[i])\n",
     "output_type": "stream"
    },
    {
     "data": {
      "text/plain": "<Figure size 1440x720 with 2 Axes>",
      "image/png": "[encoded data removed]"
     },
     "metadata": {
      "image/png": {
       "width": 1301,
       "height": 582
      }
     },
     "output_type": "display_data"
    }
   ],
   "execution_count": 40
  },
  {
   "cell_type": "code",
   "metadata": {
    "tags": [],
    "cell_id": "00007-6ccd28e8-3616-41d8-9e47-d53a9b51f063",
    "deepnote_to_be_reexecuted": false,
    "source_hash": "8970a2a2",
    "execution_start": 1628647449202,
    "execution_millis": 6938,
    "deepnote_cell_type": "code"
   },
   "source": "# CREATING POSITION FOR XRP BASED ON AROON 25 SIGNALS\nposition = []\n\ndf = get_aroon('XRP-USD', '2019-09-01')\n\nfor i in range(len(aroon_signal)):\n    if aroon_signal[i] > 1:\n        position.append(0)\n    else:\n        position.append(1)\n        \nfor i in range(len(df['Close'])):\n    if aroon_signal[i] == 1:\n        position[i] = 1\n    elif aroon_signal[i] == -1:\n        position[i] = 0\n    else:\n        position[i] = position[i-1]\n        \naroon_up = df['trend_aroon_up']\naroon_down = df['trend_aroon_down']\nclose_price = df['Close']\naroon_signal = pd.DataFrame(aroon_signal).rename(columns = {0:'aroon_signal'}).set_index(df.index)\nposition = pd.DataFrame(position).rename(columns = {0:'aroon_position'}).set_index(df.index)\n\nframes = [close_price, aroon_up, aroon_down, aroon_signal, position]\nstrategy = pd.concat(frames, join = 'inner', axis = 1)\n\nstrategy",
   "outputs": [
    {
     "name": "stdout",
     "text": "[*********************100%***********************]  1 of 1 completed\n/root/venv/lib/python3.7/site-packages/ta/trend.py:768: RuntimeWarning: invalid value encountered in double_scalars\n  dip[i] = 100 * (self._dip[i] / self._trs[i])\n/root/venv/lib/python3.7/site-packages/ta/trend.py:772: RuntimeWarning: invalid value encountered in double_scalars\n  din[i] = 100 * (self._din[i] / self._trs[i])\n",
     "output_type": "stream"
    },
    {
     "output_type": "execute_result",
     "execution_count": 41,
     "data": {
      "application/vnd.deepnote.dataframe.v2+json": {
       "row_count": 17004,
       "column_count": 5,
       "columns": [
        {
         "name": "Close",
         "dtype": "float64",
         "stats": {
          "unique_count": 16593,
          "nan_count": 0,
          "min": "0.12985041737556458",
          "max": "1.9378489255905151",
          "histogram": [
           {
            "bin_start": 0.12985041737556458,
            "bin_end": 0.31065026819705965,
            "count": 11355
           },
           {
            "bin_start": 0.31065026819705965,
            "bin_end": 0.4914501190185547,
            "count": 1233
           },
           {
            "bin_start": 0.4914501190185547,
            "bin_end": 0.6722499698400497,
            "count": 2101
           },
           {
            "bin_start": 0.6722499698400497,
            "bin_end": 0.8530498206615448,
            "count": 682
           },
           {
            "bin_start": 0.8530498206615448,
            "bin_end": 1.0338496714830399,
            "count": 598
           },
           {
            "bin_start": 1.0338496714830399,
            "bin_end": 1.2146495223045348,
            "count": 182
           },
           {
            "bin_start": 1.2146495223045348,
            "bin_end": 1.39544937312603,
            "count": 270
           },
           {
            "bin_start": 1.39544937312603,
            "bin_end": 1.576249223947525,
            "count": 343
           },
           {
            "bin_start": 1.576249223947525,
            "bin_end": 1.75704907476902,
            "count": 204
           },
           {
            "bin_start": 1.75704907476902,
            "bin_end": 1.9378489255905151,
            "count": 36
           }
          ]
         }
        },
        {
         "name": "trend_aroon_up",
         "dtype": "float64",
         "stats": {
          "unique_count": 25,
          "nan_count": 24,
          "min": "4.0",
          "max": "100.0",
          "histogram": [
           {
            "bin_start": 4,
            "bin_end": 13.6,
            "count": 3895
           },
           {
            "bin_start": 13.6,
            "bin_end": 23.2,
            "count": 1368
           },
           {
            "bin_start": 23.2,
            "bin_end": 32.8,
            "count": 1643
           },
           {
            "bin_start": 32.8,
            "bin_end": 42.4,
            "count": 965
           },
           {
            "bin_start": 42.4,
            "bin_end": 52,
            "count": 915
           },
           {
            "bin_start": 52,
            "bin_end": 61.599999999999994,
            "count": 1374
           },
           {
            "bin_start": 61.599999999999994,
            "bin_end": 71.2,
            "count": 962
           },
           {
            "bin_start": 71.2,
            "bin_end": 80.8,
            "count": 1567
           },
           {
            "bin_start": 80.8,
            "bin_end": 90.39999999999999,
            "count": 1201
           },
           {
            "bin_start": 90.39999999999999,
            "bin_end": 100,
            "count": 3090
           }
          ]
         }
        },
        {
         "name": "trend_aroon_down",
         "dtype": "float64",
         "stats": {
          "unique_count": 25,
          "nan_count": 24,
          "min": "4.0",
          "max": "100.0",
          "histogram": [
           {
            "bin_start": 4,
            "bin_end": 13.6,
            "count": 4202
           },
           {
            "bin_start": 13.6,
            "bin_end": 23.2,
            "count": 1454
           },
           {
            "bin_start": 23.2,
            "bin_end": 32.8,
            "count": 1774
           },
           {
            "bin_start": 32.8,
            "bin_end": 42.4,
            "count": 1029
           },
           {
            "bin_start": 42.4,
            "bin_end": 52,
            "count": 936
           },
           {
            "bin_start": 52,
            "bin_end": 61.599999999999994,
            "count": 1340
           },
           {
            "bin_start": 61.599999999999994,
            "bin_end": 71.2,
            "count": 880
           },
           {
            "bin_start": 71.2,
            "bin_end": 80.8,
            "count": 1414
           },
           {
            "bin_start": 80.8,
            "bin_end": 90.39999999999999,
            "count": 1079
           },
           {
            "bin_start": 90.39999999999999,
            "bin_end": 100,
            "count": 2872
           }
          ]
         }
        },
        {
         "name": "aroon_signal",
         "dtype": "int64",
         "stats": {
          "unique_count": 3,
          "nan_count": 0,
          "min": "-1",
          "max": "1",
          "histogram": [
           {
            "bin_start": -1,
            "bin_end": -0.8,
            "count": 214
           },
           {
            "bin_start": -0.8,
            "bin_end": -0.6,
            "count": 0
           },
           {
            "bin_start": -0.6,
            "bin_end": -0.3999999999999999,
            "count": 0
           },
           {
            "bin_start": -0.3999999999999999,
            "bin_end": -0.19999999999999996,
            "count": 0
           },
           {
            "bin_start": -0.19999999999999996,
            "bin_end": 0,
            "count": 0
           },
           {
            "bin_start": 0,
            "bin_end": 0.20000000000000018,
            "count": 16575
           },
           {
            "bin_start": 0.20000000000000018,
            "bin_end": 0.40000000000000013,
            "count": 0
           },
           {
            "bin_start": 0.40000000000000013,
            "bin_end": 0.6000000000000001,
            "count": 0
           },
           {
            "bin_start": 0.6000000000000001,
            "bin_end": 0.8,
            "count": 0
           },
           {
            "bin_start": 0.8,
            "bin_end": 1,
            "count": 215
           }
          ]
         }
        },
        {
         "name": "aroon_position",
         "dtype": "int64",
         "stats": {
          "unique_count": 2,
          "nan_count": 0,
          "min": "0",
          "max": "1",
          "histogram": [
           {
            "bin_start": 0,
            "bin_end": 0.1,
            "count": 7972
           },
           {
            "bin_start": 0.1,
            "bin_end": 0.2,
            "count": 0
           },
           {
            "bin_start": 0.2,
            "bin_end": 0.30000000000000004,
            "count": 0
           },
           {
            "bin_start": 0.30000000000000004,
            "bin_end": 0.4,
            "count": 0
           },
           {
            "bin_start": 0.4,
            "bin_end": 0.5,
            "count": 0
           },
           {
            "bin_start": 0.5,
            "bin_end": 0.6000000000000001,
            "count": 0
           },
           {
            "bin_start": 0.6000000000000001,
            "bin_end": 0.7000000000000001,
            "count": 0
           },
           {
            "bin_start": 0.7000000000000001,
            "bin_end": 0.8,
            "count": 0
           },
           {
            "bin_start": 0.8,
            "bin_end": 0.9,
            "count": 0
           },
           {
            "bin_start": 0.9,
            "bin_end": 1,
            "count": 9032
           }
          ]
         }
        },
        {
         "name": "_deepnote_index_column",
         "dtype": "datetime64[ns, Europe/London]"
        }
       ],
       "rows_top": [
        {
         "Close": 0.2590999901294708,
         "trend_aroon_up": "nan",
         "trend_aroon_down": "nan",
         "aroon_signal": 0,
         "aroon_position": 1,
         "_deepnote_index_column": "2019-09-01T01:00:00.000000"
        },
        {
         "Close": 0.25839999318122864,
         "trend_aroon_up": "nan",
         "trend_aroon_down": "nan",
         "aroon_signal": 0,
         "aroon_position": 1,
         "_deepnote_index_column": "2019-09-01T02:00:00.000000"
        },
        {
         "Close": 0.25780001282691956,
         "trend_aroon_up": "nan",
         "trend_aroon_down": "nan",
         "aroon_signal": 0,
         "aroon_position": 1,
         "_deepnote_index_column": "2019-09-01T03:00:00.000000"
        },
        {
         "Close": 0.25850000977516174,
         "trend_aroon_up": "nan",
         "trend_aroon_down": "nan",
         "aroon_signal": 0,
         "aroon_position": 1,
         "_deepnote_index_column": "2019-09-01T04:00:00.000000"
        },
        {
         "Close": 0.2581000030040741,
         "trend_aroon_up": "nan",
         "trend_aroon_down": "nan",
         "aroon_signal": 0,
         "aroon_position": 1,
         "_deepnote_index_column": "2019-09-01T05:00:00.000000"
        },
        {
         "Close": 0.2581000030040741,
         "trend_aroon_up": "nan",
         "trend_aroon_down": "nan",
         "aroon_signal": 0,
         "aroon_position": 1,
         "_deepnote_index_column": "2019-09-01T06:00:00.000000"
        },
        {
         "Close": 0.25850000977516174,
         "trend_aroon_up": "nan",
         "trend_aroon_down": "nan",
         "aroon_signal": 0,
         "aroon_position": 1,
         "_deepnote_index_column": "2019-09-01T07:00:00.000000"
        },
        {
         "Close": 0.2581999897956848,
         "trend_aroon_up": "nan",
         "trend_aroon_down": "nan",
         "aroon_signal": 0,
         "aroon_position": 1,
         "_deepnote_index_column": "2019-09-01T08:00:00.000000"
        },
        {
         "Close": 0.2567000091075897,
         "trend_aroon_up": "nan",
         "trend_aroon_down": "nan",
         "aroon_signal": 0,
         "aroon_position": 1,
         "_deepnote_index_column": "2019-09-01T09:00:00.000000"
        },
        {
         "Close": 0.2563999891281128,
         "trend_aroon_up": "nan",
         "trend_aroon_down": "nan",
         "aroon_signal": 0,
         "aroon_position": 1,
         "_deepnote_index_column": "2019-09-01T10:00:00.000000"
        },
        {
         "Close": 0.2558000087738037,
         "trend_aroon_up": "nan",
         "trend_aroon_down": "nan",
         "aroon_signal": 0,
         "aroon_position": 1,
         "_deepnote_index_column": "2019-09-01T11:00:00.000000"
        },
        {
         "Close": 0.2551000118255615,
         "trend_aroon_up": "nan",
         "trend_aroon_down": "nan",
         "aroon_signal": 0,
         "aroon_position": 1,
         "_deepnote_index_column": "2019-09-01T12:00:00.000000"
        },
        {
         "Close": 0.2556999921798706,
         "trend_aroon_up": "nan",
         "trend_aroon_down": "nan",
         "aroon_signal": 0,
         "aroon_position": 1,
         "_deepnote_index_column": "2019-09-01T13:00:00.000000"
        },
        {
         "Close": 0.2549000084400177,
         "trend_aroon_up": "nan",
         "trend_aroon_down": "nan",
         "aroon_signal": 0,
         "aroon_position": 1,
         "_deepnote_index_column": "2019-09-01T14:00:00.000000"
        },
        {
         "Close": 0.2549999952316284,
         "trend_aroon_up": "nan",
         "trend_aroon_down": "nan",
         "aroon_signal": 0,
         "aroon_position": 1,
         "_deepnote_index_column": "2019-09-01T15:00:00.000000"
        },
        {
         "Close": 0.25609999895095825,
         "trend_aroon_up": "nan",
         "trend_aroon_down": "nan",
         "aroon_signal": 0,
         "aroon_position": 1,
         "_deepnote_index_column": "2019-09-01T16:00:00.000000"
        },
        {
         "Close": 0.2542000114917755,
         "trend_aroon_up": "nan",
         "trend_aroon_down": "nan",
         "aroon_signal": 0,
         "aroon_position": 1,
         "_deepnote_index_column": "2019-09-01T17:00:00.000000"
        },
        {
         "Close": 0.2542000114917755,
         "trend_aroon_up": "nan",
         "trend_aroon_down": "nan",
         "aroon_signal": 0,
         "aroon_position": 1,
         "_deepnote_index_column": "2019-09-01T18:00:00.000000"
        },
        {
         "Close": 0.25519999861717224,
         "trend_aroon_up": "nan",
         "trend_aroon_down": "nan",
         "aroon_signal": 0,
         "aroon_position": 1,
         "_deepnote_index_column": "2019-09-01T19:00:00.000000"
        },
        {
         "Close": 0.25589999556541443,
         "trend_aroon_up": "nan",
         "trend_aroon_down": "nan",
         "aroon_signal": 0,
         "aroon_position": 1,
         "_deepnote_index_column": "2019-09-01T20:00:00.000000"
        },
        {
         "Close": 0.2563999891281128,
         "trend_aroon_up": "nan",
         "trend_aroon_down": "nan",
         "aroon_signal": 0,
         "aroon_position": 1,
         "_deepnote_index_column": "2019-09-01T21:00:00.000000"
        },
        {
         "Close": 0.25679999589920044,
         "trend_aroon_up": "nan",
         "trend_aroon_down": "nan",
         "aroon_signal": 0,
         "aroon_position": 1,
         "_deepnote_index_column": "2019-09-01T22:00:00.000000"
        },
        {
         "Close": 0.2572999894618988,
         "trend_aroon_up": "nan",
         "trend_aroon_down": "nan",
         "aroon_signal": 0,
         "aroon_position": 1,
         "_deepnote_index_column": "2019-09-01T23:00:00.000000"
        },
        {
         "Close": 0.25690001249313354,
         "trend_aroon_up": "nan",
         "trend_aroon_down": "nan",
         "aroon_signal": 0,
         "aroon_position": 1,
         "_deepnote_index_column": "2019-09-02T00:00:00.000000"
        },
        {
         "Close": 0.2558000087738037,
         "trend_aroon_up": 4,
         "trend_aroon_down": 68,
         "aroon_signal": 0,
         "aroon_position": 1,
         "_deepnote_index_column": "2019-09-02T01:00:00.000000"
        },
        {
         "Close": 0.2554999887943268,
         "trend_aroon_up": 12,
         "trend_aroon_down": 64,
         "aroon_signal": 0,
         "aroon_position": 1,
         "_deepnote_index_column": "2019-09-02T02:00:00.000000"
        },
        {
         "Close": 0.2558000087738037,
         "trend_aroon_up": 8,
         "trend_aroon_down": 60,
         "aroon_signal": 0,
         "aroon_position": 1,
         "_deepnote_index_column": "2019-09-02T03:00:00.000000"
        },
        {
         "Close": 0.2554999887943268,
         "trend_aroon_up": 4,
         "trend_aroon_down": 56.00000000000001,
         "aroon_signal": 0,
         "aroon_position": 1,
         "_deepnote_index_column": "2019-09-02T04:00:00.000000"
        },
        {
         "Close": 0.2554999887943268,
         "trend_aroon_up": 12,
         "trend_aroon_down": 52,
         "aroon_signal": 0,
         "aroon_position": 1,
         "_deepnote_index_column": "2019-09-02T05:00:00.000000"
        },
        {
         "Close": 0.25529998540878296,
         "trend_aroon_up": 8,
         "trend_aroon_down": 48,
         "aroon_signal": 0,
         "aroon_position": 1,
         "_deepnote_index_column": "2019-09-02T06:00:00.000000"
        },
        {
         "Close": 0.2549999952316284,
         "trend_aroon_up": 4,
         "trend_aroon_down": 44,
         "aroon_signal": 0,
         "aroon_position": 1,
         "_deepnote_index_column": "2019-09-02T07:00:00.000000"
        },
        {
         "Close": 0.25429999828338623,
         "trend_aroon_up": 4,
         "trend_aroon_down": 40,
         "aroon_signal": 0,
         "aroon_position": 1,
         "_deepnote_index_column": "2019-09-02T08:00:00.000000"
        },
        {
         "Close": 0.25440001487731934,
         "trend_aroon_up": 60,
         "trend_aroon_down": 36,
         "aroon_signal": 0,
         "aroon_position": 1,
         "_deepnote_index_column": "2019-09-02T09:00:00.000000"
        },
        {
         "Close": 0.2549999952316284,
         "trend_aroon_up": 56.00000000000001,
         "trend_aroon_down": 32,
         "aroon_signal": 0,
         "aroon_position": 1,
         "_deepnote_index_column": "2019-09-02T10:00:00.000000"
        },
        {
         "Close": 0.25459998846054077,
         "trend_aroon_up": 52,
         "trend_aroon_down": 28.000000000000004,
         "aroon_signal": 0,
         "aroon_position": 1,
         "_deepnote_index_column": "2019-09-02T11:00:00.000000"
        },
        {
         "Close": 0.2556999921798706,
         "trend_aroon_up": 48,
         "trend_aroon_down": 24,
         "aroon_signal": 0,
         "aroon_position": 1,
         "_deepnote_index_column": "2019-09-02T12:00:00.000000"
        },
        {
         "Close": 0.2549999952316284,
         "trend_aroon_up": 44,
         "trend_aroon_down": 20,
         "aroon_signal": 0,
         "aroon_position": 1,
         "_deepnote_index_column": "2019-09-02T13:00:00.000000"
        },
        {
         "Close": 0.257999986410141,
         "trend_aroon_up": 100,
         "trend_aroon_down": 16,
         "aroon_signal": 1,
         "aroon_position": 1,
         "_deepnote_index_column": "2019-09-02T14:00:00.000000"
        },
        {
         "Close": 0.25760000944137573,
         "trend_aroon_up": 96,
         "trend_aroon_down": 12,
         "aroon_signal": 0,
         "aroon_position": 1,
         "_deepnote_index_column": "2019-09-02T15:00:00.000000"
        },
        {
         "Close": 0.25699999928474426,
         "trend_aroon_up": 92,
         "trend_aroon_down": 8,
         "aroon_signal": 0,
         "aroon_position": 1,
         "_deepnote_index_column": "2019-09-02T16:00:00.000000"
        },
        {
         "Close": 0.25780001282691956,
         "trend_aroon_up": 88,
         "trend_aroon_down": 4,
         "aroon_signal": 0,
         "aroon_position": 1,
         "_deepnote_index_column": "2019-09-02T17:00:00.000000"
        },
        {
         "Close": 0.25870001316070557,
         "trend_aroon_up": 100,
         "trend_aroon_down": 4,
         "aroon_signal": 0,
         "aroon_position": 1,
         "_deepnote_index_column": "2019-09-02T18:00:00.000000"
        },
        {
         "Close": 0.260699987411499,
         "trend_aroon_up": 100,
         "trend_aroon_down": 56.00000000000001,
         "aroon_signal": 0,
         "aroon_position": 1,
         "_deepnote_index_column": "2019-09-02T19:00:00.000000"
        },
        {
         "Close": 0.26089999079704285,
         "trend_aroon_up": 100,
         "trend_aroon_down": 52,
         "aroon_signal": 0,
         "aroon_position": 1,
         "_deepnote_index_column": "2019-09-02T20:00:00.000000"
        },
        {
         "Close": 0.2628999948501587,
         "trend_aroon_up": 100,
         "trend_aroon_down": 48,
         "aroon_signal": 0,
         "aroon_position": 1,
         "_deepnote_index_column": "2019-09-02T21:00:00.000000"
        },
        {
         "Close": 0.2630999982357025,
         "trend_aroon_up": 100,
         "trend_aroon_down": 44,
         "aroon_signal": 0,
         "aroon_position": 1,
         "_deepnote_index_column": "2019-09-02T22:00:00.000000"
        },
        {
         "Close": 0.2624000012874603,
         "trend_aroon_up": 96,
         "trend_aroon_down": 40,
         "aroon_signal": 0,
         "aroon_position": 1,
         "_deepnote_index_column": "2019-09-02T23:00:00.000000"
        },
        {
         "Close": 0.26159998774528503,
         "trend_aroon_up": 92,
         "trend_aroon_down": 36,
         "aroon_signal": 0,
         "aroon_position": 1,
         "_deepnote_index_column": "2019-09-03T00:00:00.000000"
        },
        {
         "Close": 0.26080000400543213,
         "trend_aroon_up": 88,
         "trend_aroon_down": 32,
         "aroon_signal": 0,
         "aroon_position": 1,
         "_deepnote_index_column": "2019-09-03T01:00:00.000000"
        },
        {
         "Close": 0.2606000006198883,
         "trend_aroon_up": 84,
         "trend_aroon_down": 28.000000000000004,
         "aroon_signal": 0,
         "aroon_position": 1,
         "_deepnote_index_column": "2019-09-03T02:00:00.000000"
        },
        {
         "Close": 0.26080000400543213,
         "trend_aroon_up": 80,
         "trend_aroon_down": 24,
         "aroon_signal": 0,
         "aroon_position": 1,
         "_deepnote_index_column": "2019-09-03T03:00:00.000000"
        },
        {
         "Close": 0.2615000009536743,
         "trend_aroon_up": 76,
         "trend_aroon_down": 20,
         "aroon_signal": 0,
         "aroon_position": 1,
         "_deepnote_index_column": "2019-09-03T04:00:00.000000"
        },
        {
         "Close": 0.2614000141620636,
         "trend_aroon_up": 72,
         "trend_aroon_down": 16,
         "aroon_signal": 0,
         "aroon_position": 1,
         "_deepnote_index_column": "2019-09-03T05:00:00.000000"
        },
        {
         "Close": 0.2612999975681305,
         "trend_aroon_up": 68,
         "trend_aroon_down": 12,
         "aroon_signal": 0,
         "aroon_position": 1,
         "_deepnote_index_column": "2019-09-03T06:00:00.000000"
        },
        {
         "Close": 0.26100000739097595,
         "trend_aroon_up": 64,
         "trend_aroon_down": 8,
         "aroon_signal": 0,
         "aroon_position": 1,
         "_deepnote_index_column": "2019-09-03T07:00:00.000000"
        },
        {
         "Close": 0.260699987411499,
         "trend_aroon_up": 60,
         "trend_aroon_down": 4,
         "aroon_signal": 0,
         "aroon_position": 1,
         "_deepnote_index_column": "2019-09-03T08:00:00.000000"
        },
        {
         "Close": 0.2603999972343445,
         "trend_aroon_up": 56.00000000000001,
         "trend_aroon_down": 4,
         "aroon_signal": 0,
         "aroon_position": 1,
         "_deepnote_index_column": "2019-09-03T09:00:00.000000"
        },
        {
         "Close": 0.258899986743927,
         "trend_aroon_up": 52,
         "trend_aroon_down": 8,
         "aroon_signal": 0,
         "aroon_position": 1,
         "_deepnote_index_column": "2019-09-03T10:00:00.000000"
        },
        {
         "Close": 0.26010000705718994,
         "trend_aroon_up": 48,
         "trend_aroon_down": 4,
         "aroon_signal": 0,
         "aroon_position": 1,
         "_deepnote_index_column": "2019-09-03T11:00:00.000000"
        },
        {
         "Close": 0.26010000705718994,
         "trend_aroon_up": 44,
         "trend_aroon_down": 8,
         "aroon_signal": 0,
         "aroon_position": 1,
         "_deepnote_index_column": "2019-09-03T12:00:00.000000"
        },
        {
         "Close": 0.2621000111103058,
         "trend_aroon_up": 40,
         "trend_aroon_down": 4,
         "aroon_signal": 0,
         "aroon_position": 1,
         "_deepnote_index_column": "2019-09-03T13:00:00.000000"
        },
        {
         "Close": 0.2646999955177307,
         "trend_aroon_up": 100,
         "trend_aroon_down": 12,
         "aroon_signal": 0,
         "aroon_position": 1,
         "_deepnote_index_column": "2019-09-03T14:00:00.000000"
        },
        {
         "Close": 0.26350000500679016,
         "trend_aroon_up": 96,
         "trend_aroon_down": 8,
         "aroon_signal": 0,
         "aroon_position": 1,
         "_deepnote_index_column": "2019-09-03T15:00:00.000000"
        },
        {
         "Close": 0.2637999951839447,
         "trend_aroon_up": 92,
         "trend_aroon_down": 4,
         "aroon_signal": 0,
         "aroon_position": 1,
         "_deepnote_index_column": "2019-09-03T16:00:00.000000"
        },
        {
         "Close": 0.2630000114440918,
         "trend_aroon_up": 88,
         "trend_aroon_down": 4,
         "aroon_signal": 0,
         "aroon_position": 1,
         "_deepnote_index_column": "2019-09-03T17:00:00.000000"
        },
        {
         "Close": 0.2619999945163727,
         "trend_aroon_up": 84,
         "trend_aroon_down": 4,
         "aroon_signal": 0,
         "aroon_position": 1,
         "_deepnote_index_column": "2019-09-03T18:00:00.000000"
        },
        {
         "Close": 0.2619999945163727,
         "trend_aroon_up": 80,
         "trend_aroon_down": 64,
         "aroon_signal": 0,
         "aroon_position": 1,
         "_deepnote_index_column": "2019-09-03T19:00:00.000000"
        },
        {
         "Close": 0.2624000012874603,
         "trend_aroon_up": 76,
         "trend_aroon_down": 60,
         "aroon_signal": 0,
         "aroon_position": 1,
         "_deepnote_index_column": "2019-09-03T20:00:00.000000"
        },
        {
         "Close": 0.26339998841285706,
         "trend_aroon_up": 72,
         "trend_aroon_down": 56.00000000000001,
         "aroon_signal": 0,
         "aroon_position": 1,
         "_deepnote_index_column": "2019-09-03T21:00:00.000000"
        },
        {
         "Close": 0.26409998536109924,
         "trend_aroon_up": 68,
         "trend_aroon_down": 52,
         "aroon_signal": 0,
         "aroon_position": 1,
         "_deepnote_index_column": "2019-09-03T22:00:00.000000"
        },
        {
         "Close": 0.26460000872612,
         "trend_aroon_up": 64,
         "trend_aroon_down": 48,
         "aroon_signal": 0,
         "aroon_position": 1,
         "_deepnote_index_column": "2019-09-03T23:00:00.000000"
        },
        {
         "Close": 0.2632000148296356,
         "trend_aroon_up": 60,
         "trend_aroon_down": 44,
         "aroon_signal": 0,
         "aroon_position": 1,
         "_deepnote_index_column": "2019-09-04T00:00:00.000000"
        },
        {
         "Close": 0.26269999146461487,
         "trend_aroon_up": 56.00000000000001,
         "trend_aroon_down": 40,
         "aroon_signal": 0,
         "aroon_position": 1,
         "_deepnote_index_column": "2019-09-04T01:00:00.000000"
        },
        {
         "Close": 0.26190000772476196,
         "trend_aroon_up": 52,
         "trend_aroon_down": 36,
         "aroon_signal": 0,
         "aroon_position": 1,
         "_deepnote_index_column": "2019-09-04T02:00:00.000000"
        },
        {
         "Close": 0.26159998774528503,
         "trend_aroon_up": 48,
         "trend_aroon_down": 32,
         "aroon_signal": 0,
         "aroon_position": 1,
         "_deepnote_index_column": "2019-09-04T03:00:00.000000"
        },
        {
         "Close": 0.2623000144958496,
         "trend_aroon_up": 44,
         "trend_aroon_down": 28.000000000000004,
         "aroon_signal": 0,
         "aroon_position": 1,
         "_deepnote_index_column": "2019-09-04T04:00:00.000000"
        },
        {
         "Close": 0.26089999079704285,
         "trend_aroon_up": 40,
         "trend_aroon_down": 24,
         "aroon_signal": 0,
         "aroon_position": 1,
         "_deepnote_index_column": "2019-09-04T05:00:00.000000"
        },
        {
         "Close": 0.260699987411499,
         "trend_aroon_up": 36,
         "trend_aroon_down": 20,
         "aroon_signal": 0,
         "aroon_position": 1,
         "_deepnote_index_column": "2019-09-04T06:00:00.000000"
        },
        {
         "Close": 0.2606000006198883,
         "trend_aroon_up": 32,
         "trend_aroon_down": 16,
         "aroon_signal": 0,
         "aroon_position": 1,
         "_deepnote_index_column": "2019-09-04T07:00:00.000000"
        },
        {
         "Close": 0.2605000138282776,
         "trend_aroon_up": 28.000000000000004,
         "trend_aroon_down": 12,
         "aroon_signal": 0,
         "aroon_position": 1,
         "_deepnote_index_column": "2019-09-04T08:00:00.000000"
        },
        {
         "Close": 0.258899986743927,
         "trend_aroon_up": 24,
         "trend_aroon_down": 8,
         "aroon_signal": 0,
         "aroon_position": 1,
         "_deepnote_index_column": "2019-09-04T09:00:00.000000"
        },
        {
         "Close": 0.2597000002861023,
         "trend_aroon_up": 20,
         "trend_aroon_down": 4,
         "aroon_signal": 0,
         "aroon_position": 1,
         "_deepnote_index_column": "2019-09-04T10:00:00.000000"
        },
        {
         "Close": 0.2596000134944916,
         "trend_aroon_up": 16,
         "trend_aroon_down": 92,
         "aroon_signal": -1,
         "aroon_position": 0,
         "_deepnote_index_column": "2019-09-04T11:00:00.000000"
        },
        {
         "Close": 0.25929999351501465,
         "trend_aroon_up": 12,
         "trend_aroon_down": 88,
         "aroon_signal": 0,
         "aroon_position": 0,
         "_deepnote_index_column": "2019-09-04T12:00:00.000000"
        },
        {
         "Close": 0.25850000977516174,
         "trend_aroon_up": 8,
         "trend_aroon_down": 100,
         "aroon_signal": 0,
         "aroon_position": 0,
         "_deepnote_index_column": "2019-09-04T13:00:00.000000"
        },
        {
         "Close": 0.2587999999523163,
         "trend_aroon_up": 4,
         "trend_aroon_down": 96,
         "aroon_signal": 0,
         "aroon_position": 0,
         "_deepnote_index_column": "2019-09-04T14:00:00.000000"
        },
        {
         "Close": 0.2581999897956848,
         "trend_aroon_up": 36,
         "trend_aroon_down": 100,
         "aroon_signal": 0,
         "aroon_position": 0,
         "_deepnote_index_column": "2019-09-04T15:00:00.000000"
        },
        {
         "Close": 0.25859999656677246,
         "trend_aroon_up": 32,
         "trend_aroon_down": 96,
         "aroon_signal": 0,
         "aroon_position": 0,
         "_deepnote_index_column": "2019-09-04T16:00:00.000000"
        },
        {
         "Close": 0.26019999384880066,
         "trend_aroon_up": 28.000000000000004,
         "trend_aroon_down": 92,
         "aroon_signal": 0,
         "aroon_position": 0,
         "_deepnote_index_column": "2019-09-04T17:00:00.000000"
        },
        {
         "Close": 0.26019999384880066,
         "trend_aroon_up": 24,
         "trend_aroon_down": 88,
         "aroon_signal": 0,
         "aroon_position": 0,
         "_deepnote_index_column": "2019-09-04T18:00:00.000000"
        },
        {
         "Close": 0.25949999690055847,
         "trend_aroon_up": 20,
         "trend_aroon_down": 84,
         "aroon_signal": 0,
         "aroon_position": 0,
         "_deepnote_index_column": "2019-09-04T19:00:00.000000"
        },
        {
         "Close": 0.26080000400543213,
         "trend_aroon_up": 16,
         "trend_aroon_down": 80,
         "aroon_signal": 0,
         "aroon_position": 0,
         "_deepnote_index_column": "2019-09-04T20:00:00.000000"
        },
        {
         "Close": 0.2603999972343445,
         "trend_aroon_up": 12,
         "trend_aroon_down": 76,
         "aroon_signal": 0,
         "aroon_position": 0,
         "_deepnote_index_column": "2019-09-04T21:00:00.000000"
        },
        {
         "Close": 0.26159998774528503,
         "trend_aroon_up": 8,
         "trend_aroon_down": 72,
         "aroon_signal": 0,
         "aroon_position": 0,
         "_deepnote_index_column": "2019-09-04T22:00:00.000000"
        },
        {
         "Close": 0.258899986743927,
         "trend_aroon_up": 4,
         "trend_aroon_down": 68,
         "aroon_signal": 0,
         "aroon_position": 0,
         "_deepnote_index_column": "2019-09-04T23:00:00.000000"
        },
        {
         "Close": 0.258899986743927,
         "trend_aroon_up": 4,
         "trend_aroon_down": 64,
         "aroon_signal": 0,
         "aroon_position": 0,
         "_deepnote_index_column": "2019-09-05T00:00:00.000000"
        },
        {
         "Close": 0.25839999318122864,
         "trend_aroon_up": 4,
         "trend_aroon_down": 60,
         "aroon_signal": 0,
         "aroon_position": 0,
         "_deepnote_index_column": "2019-09-05T01:00:00.000000"
        },
        {
         "Close": 0.25839999318122864,
         "trend_aroon_up": 12,
         "trend_aroon_down": 56.00000000000001,
         "aroon_signal": 0,
         "aroon_position": 0,
         "_deepnote_index_column": "2019-09-05T02:00:00.000000"
        },
        {
         "Close": 0.25850000977516174,
         "trend_aroon_up": 8,
         "trend_aroon_down": 52,
         "aroon_signal": 0,
         "aroon_position": 0,
         "_deepnote_index_column": "2019-09-05T03:00:00.000000"
        },
        {
         "Close": 0.2590999901294708,
         "trend_aroon_up": 4,
         "trend_aroon_down": 48,
         "aroon_signal": 0,
         "aroon_position": 0,
         "_deepnote_index_column": "2019-09-05T04:00:00.000000"
        }
       ],
       "rows_bottom": [
        {
         "Close": 0.7548611164093018,
         "trend_aroon_up": 100,
         "trend_aroon_down": 48,
         "aroon_signal": 0,
         "aroon_position": 1,
         "_deepnote_index_column": "2021-08-07T01:00:00.000000"
        },
        {
         "Close": 0.7566510438919067,
         "trend_aroon_up": 100,
         "trend_aroon_down": 44,
         "aroon_signal": 0,
         "aroon_position": 1,
         "_deepnote_index_column": "2021-08-07T02:00:00.000000"
        },
        {
         "Close": 0.762823224067688,
         "trend_aroon_up": 100,
         "trend_aroon_down": 40,
         "aroon_signal": 0,
         "aroon_position": 1,
         "_deepnote_index_column": "2021-08-07T03:00:00.000000"
        },
        {
         "Close": 0.7649507522583008,
         "trend_aroon_up": 100,
         "trend_aroon_down": 36,
         "aroon_signal": 0,
         "aroon_position": 1,
         "_deepnote_index_column": "2021-08-07T04:00:00.000000"
        },
        {
         "Close": 0.7618080377578735,
         "trend_aroon_up": 96,
         "trend_aroon_down": 32,
         "aroon_signal": 0,
         "aroon_position": 1,
         "_deepnote_index_column": "2021-08-07T05:00:00.000000"
        },
        {
         "Close": 0.7649903297424316,
         "trend_aroon_up": 100,
         "trend_aroon_down": 28.000000000000004,
         "aroon_signal": 0,
         "aroon_position": 1,
         "_deepnote_index_column": "2021-08-07T06:00:00.000000"
        },
        {
         "Close": 0.7613361477851868,
         "trend_aroon_up": 96,
         "trend_aroon_down": 24,
         "aroon_signal": 0,
         "aroon_position": 1,
         "_deepnote_index_column": "2021-08-07T07:00:00.000000"
        },
        {
         "Close": 0.7610374093055725,
         "trend_aroon_up": 92,
         "trend_aroon_down": 20,
         "aroon_signal": 0,
         "aroon_position": 1,
         "_deepnote_index_column": "2021-08-07T08:00:00.000000"
        },
        {
         "Close": 0.7645235657691956,
         "trend_aroon_up": 88,
         "trend_aroon_down": 16,
         "aroon_signal": 0,
         "aroon_position": 1,
         "_deepnote_index_column": "2021-08-07T09:00:00.000000"
        },
        {
         "Close": 0.7894212603569031,
         "trend_aroon_up": 100,
         "trend_aroon_down": 12,
         "aroon_signal": 0,
         "aroon_position": 1,
         "_deepnote_index_column": "2021-08-07T10:00:00.000000"
        },
        {
         "Close": 0.7897286415100098,
         "trend_aroon_up": 100,
         "trend_aroon_down": 8,
         "aroon_signal": 0,
         "aroon_position": 1,
         "_deepnote_index_column": "2021-08-07T11:00:00.000000"
        },
        {
         "Close": 0.7905455231666565,
         "trend_aroon_up": 100,
         "trend_aroon_down": 4,
         "aroon_signal": 0,
         "aroon_position": 1,
         "_deepnote_index_column": "2021-08-07T12:00:00.000000"
        },
        {
         "Close": 0.7743987441062927,
         "trend_aroon_up": 96,
         "trend_aroon_down": 4,
         "aroon_signal": 0,
         "aroon_position": 1,
         "_deepnote_index_column": "2021-08-07T13:00:00.000000"
        },
        {
         "Close": 0.7735520601272583,
         "trend_aroon_up": 92,
         "trend_aroon_down": 8,
         "aroon_signal": 0,
         "aroon_position": 1,
         "_deepnote_index_column": "2021-08-07T14:00:00.000000"
        },
        {
         "Close": 0.791140615940094,
         "trend_aroon_up": 100,
         "trend_aroon_down": 4,
         "aroon_signal": 0,
         "aroon_position": 1,
         "_deepnote_index_column": "2021-08-07T15:00:00.000000"
        },
        {
         "Close": 0.8057512044906616,
         "trend_aroon_up": 100,
         "trend_aroon_down": 28.000000000000004,
         "aroon_signal": 0,
         "aroon_position": 1,
         "_deepnote_index_column": "2021-08-07T16:00:00.000000"
        },
        {
         "Close": 0.8016982674598694,
         "trend_aroon_up": 96,
         "trend_aroon_down": 24,
         "aroon_signal": 0,
         "aroon_position": 1,
         "_deepnote_index_column": "2021-08-07T17:00:00.000000"
        },
        {
         "Close": 0.79237300157547,
         "trend_aroon_up": 92,
         "trend_aroon_down": 20,
         "aroon_signal": 0,
         "aroon_position": 1,
         "_deepnote_index_column": "2021-08-07T18:00:00.000000"
        },
        {
         "Close": 0.7993141412734985,
         "trend_aroon_up": 88,
         "trend_aroon_down": 16,
         "aroon_signal": 0,
         "aroon_position": 1,
         "_deepnote_index_column": "2021-08-07T19:00:00.000000"
        },
        {
         "Close": 0.8037920594215393,
         "trend_aroon_up": 84,
         "trend_aroon_down": 12,
         "aroon_signal": 0,
         "aroon_position": 1,
         "_deepnote_index_column": "2021-08-07T20:00:00.000000"
        },
        {
         "Close": 0.8045597076416016,
         "trend_aroon_up": 80,
         "trend_aroon_down": 8,
         "aroon_signal": 0,
         "aroon_position": 1,
         "_deepnote_index_column": "2021-08-07T21:00:00.000000"
        },
        {
         "Close": 0.7986745834350586,
         "trend_aroon_up": 76,
         "trend_aroon_down": 4,
         "aroon_signal": 0,
         "aroon_position": 1,
         "_deepnote_index_column": "2021-08-07T22:00:00.000000"
        },
        {
         "Close": 0.8053690195083618,
         "trend_aroon_up": 72,
         "trend_aroon_down": 4,
         "aroon_signal": 0,
         "aroon_position": 1,
         "_deepnote_index_column": "2021-08-07T23:00:00.000000"
        },
        {
         "Close": 0.8162810802459717,
         "trend_aroon_up": 100,
         "trend_aroon_down": 4,
         "aroon_signal": 0,
         "aroon_position": 1,
         "_deepnote_index_column": "2021-08-08T00:00:00.000000"
        },
        {
         "Close": 0.8304288983345032,
         "trend_aroon_up": 100,
         "trend_aroon_down": 4,
         "aroon_signal": 0,
         "aroon_position": 1,
         "_deepnote_index_column": "2021-08-08T01:00:00.000000"
        },
        {
         "Close": 0.8090371489524841,
         "trend_aroon_up": 96,
         "trend_aroon_down": 4,
         "aroon_signal": 0,
         "aroon_position": 1,
         "_deepnote_index_column": "2021-08-08T02:00:00.000000"
        },
        {
         "Close": 0.8017366528511047,
         "trend_aroon_up": 92,
         "trend_aroon_down": 24,
         "aroon_signal": 0,
         "aroon_position": 1,
         "_deepnote_index_column": "2021-08-08T03:00:00.000000"
        },
        {
         "Close": 0.8178030252456665,
         "trend_aroon_up": 88,
         "trend_aroon_down": 20,
         "aroon_signal": 0,
         "aroon_position": 1,
         "_deepnote_index_column": "2021-08-08T04:00:00.000000"
        },
        {
         "Close": 0.8164565563201904,
         "trend_aroon_up": 84,
         "trend_aroon_down": 16,
         "aroon_signal": 0,
         "aroon_position": 1,
         "_deepnote_index_column": "2021-08-08T05:00:00.000000"
        },
        {
         "Close": 0.8221371173858643,
         "trend_aroon_up": 80,
         "trend_aroon_down": 12,
         "aroon_signal": 0,
         "aroon_position": 1,
         "_deepnote_index_column": "2021-08-08T06:00:00.000000"
        },
        {
         "Close": 0.8285307884216309,
         "trend_aroon_up": 76,
         "trend_aroon_down": 8,
         "aroon_signal": 0,
         "aroon_position": 1,
         "_deepnote_index_column": "2021-08-08T07:00:00.000000"
        },
        {
         "Close": 0.8223246335983276,
         "trend_aroon_up": 72,
         "trend_aroon_down": 4,
         "aroon_signal": 0,
         "aroon_position": 1,
         "_deepnote_index_column": "2021-08-08T08:00:00.000000"
        },
        {
         "Close": 0.8114379644393921,
         "trend_aroon_up": 68,
         "trend_aroon_down": 4,
         "aroon_signal": 0,
         "aroon_position": 1,
         "_deepnote_index_column": "2021-08-08T09:00:00.000000"
        },
        {
         "Close": 0.8126380443572998,
         "trend_aroon_up": 64,
         "trend_aroon_down": 20,
         "aroon_signal": 0,
         "aroon_position": 1,
         "_deepnote_index_column": "2021-08-08T10:00:00.000000"
        },
        {
         "Close": 0.8030365109443665,
         "trend_aroon_up": 60,
         "trend_aroon_down": 16,
         "aroon_signal": 0,
         "aroon_position": 1,
         "_deepnote_index_column": "2021-08-08T11:00:00.000000"
        },
        {
         "Close": 0.8001503944396973,
         "trend_aroon_up": 56.00000000000001,
         "trend_aroon_down": 12,
         "aroon_signal": 0,
         "aroon_position": 1,
         "_deepnote_index_column": "2021-08-08T12:00:00.000000"
        },
        {
         "Close": 0.8123614192008972,
         "trend_aroon_up": 52,
         "trend_aroon_down": 8,
         "aroon_signal": 0,
         "aroon_position": 1,
         "_deepnote_index_column": "2021-08-08T13:00:00.000000"
        },
        {
         "Close": 0.8075140118598938,
         "trend_aroon_up": 48,
         "trend_aroon_down": 4,
         "aroon_signal": 0,
         "aroon_position": 1,
         "_deepnote_index_column": "2021-08-08T14:00:00.000000"
        },
        {
         "Close": 0.7874436974525452,
         "trend_aroon_up": 44,
         "trend_aroon_down": 100,
         "aroon_signal": 0,
         "aroon_position": 1,
         "_deepnote_index_column": "2021-08-08T15:00:00.000000"
        },
        {
         "Close": 0.7861583828926086,
         "trend_aroon_up": 40,
         "trend_aroon_down": 100,
         "aroon_signal": 0,
         "aroon_position": 1,
         "_deepnote_index_column": "2021-08-08T16:00:00.000000"
        },
        {
         "Close": 0.779674768447876,
         "trend_aroon_up": 36,
         "trend_aroon_down": 100,
         "aroon_signal": 0,
         "aroon_position": 1,
         "_deepnote_index_column": "2021-08-08T17:00:00.000000"
        },
        {
         "Close": 0.7871766686439514,
         "trend_aroon_up": 32,
         "trend_aroon_down": 96,
         "aroon_signal": 0,
         "aroon_position": 1,
         "_deepnote_index_column": "2021-08-08T18:00:00.000000"
        },
        {
         "Close": 0.7815697193145752,
         "trend_aroon_up": 28.000000000000004,
         "trend_aroon_down": 92,
         "aroon_signal": -1,
         "aroon_position": 0,
         "_deepnote_index_column": "2021-08-08T19:00:00.000000"
        },
        {
         "Close": 0.778918445110321,
         "trend_aroon_up": 24,
         "trend_aroon_down": 100,
         "aroon_signal": 0,
         "aroon_position": 0,
         "_deepnote_index_column": "2021-08-08T20:00:00.000000"
        },
        {
         "Close": 0.7842029929161072,
         "trend_aroon_up": 20,
         "trend_aroon_down": 96,
         "aroon_signal": 0,
         "aroon_position": 0,
         "_deepnote_index_column": "2021-08-08T21:00:00.000000"
        },
        {
         "Close": 0.7921290397644043,
         "trend_aroon_up": 16,
         "trend_aroon_down": 92,
         "aroon_signal": 0,
         "aroon_position": 0,
         "_deepnote_index_column": "2021-08-08T22:00:00.000000"
        },
        {
         "Close": 0.7942468523979187,
         "trend_aroon_up": 12,
         "trend_aroon_down": 88,
         "aroon_signal": 0,
         "aroon_position": 0,
         "_deepnote_index_column": "2021-08-08T23:00:00.000000"
        },
        {
         "Close": 0.7787393927574158,
         "trend_aroon_up": 8,
         "trend_aroon_down": 100,
         "aroon_signal": 0,
         "aroon_position": 0,
         "_deepnote_index_column": "2021-08-09T00:00:00.000000"
        },
        {
         "Close": 0.7659614086151123,
         "trend_aroon_up": 4,
         "trend_aroon_down": 100,
         "aroon_signal": 0,
         "aroon_position": 0,
         "_deepnote_index_column": "2021-08-09T01:00:00.000000"
        },
        {
         "Close": 0.7699768543243408,
         "trend_aroon_up": 24,
         "trend_aroon_down": 96,
         "aroon_signal": 0,
         "aroon_position": 0,
         "_deepnote_index_column": "2021-08-09T02:00:00.000000"
        },
        {
         "Close": 0.7788583636283875,
         "trend_aroon_up": 20,
         "trend_aroon_down": 92,
         "aroon_signal": 0,
         "aroon_position": 0,
         "_deepnote_index_column": "2021-08-09T03:00:00.000000"
        },
        {
         "Close": 0.7826113104820251,
         "trend_aroon_up": 16,
         "trend_aroon_down": 88,
         "aroon_signal": 0,
         "aroon_position": 0,
         "_deepnote_index_column": "2021-08-09T04:00:00.000000"
        },
        {
         "Close": 0.7949040532112122,
         "trend_aroon_up": 12,
         "trend_aroon_down": 84,
         "aroon_signal": 0,
         "aroon_position": 0,
         "_deepnote_index_column": "2021-08-09T05:00:00.000000"
        },
        {
         "Close": 0.7881271839141846,
         "trend_aroon_up": 8,
         "trend_aroon_down": 80,
         "aroon_signal": 0,
         "aroon_position": 0,
         "_deepnote_index_column": "2021-08-09T06:00:00.000000"
        },
        {
         "Close": 0.787296712398529,
         "trend_aroon_up": 4,
         "trend_aroon_down": 76,
         "aroon_signal": 0,
         "aroon_position": 0,
         "_deepnote_index_column": "2021-08-09T07:00:00.000000"
        },
        {
         "Close": 0.7967813014984131,
         "trend_aroon_up": 4,
         "trend_aroon_down": 72,
         "aroon_signal": 0,
         "aroon_position": 0,
         "_deepnote_index_column": "2021-08-09T08:00:00.000000"
        },
        {
         "Close": 0.7981806397438049,
         "trend_aroon_up": 8,
         "trend_aroon_down": 68,
         "aroon_signal": 0,
         "aroon_position": 0,
         "_deepnote_index_column": "2021-08-09T09:00:00.000000"
        },
        {
         "Close": 0.8096413016319275,
         "trend_aroon_up": 4,
         "trend_aroon_down": 64,
         "aroon_signal": 0,
         "aroon_position": 0,
         "_deepnote_index_column": "2021-08-09T10:00:00.000000"
        },
        {
         "Close": 0.816961407661438,
         "trend_aroon_up": 100,
         "trend_aroon_down": 60,
         "aroon_signal": 0,
         "aroon_position": 0,
         "_deepnote_index_column": "2021-08-09T11:00:00.000000"
        },
        {
         "Close": 0.8193760514259338,
         "trend_aroon_up": 100,
         "trend_aroon_down": 56.00000000000001,
         "aroon_signal": 0,
         "aroon_position": 0,
         "_deepnote_index_column": "2021-08-09T12:00:00.000000"
        },
        {
         "Close": 0.8166133165359497,
         "trend_aroon_up": 96,
         "trend_aroon_down": 52,
         "aroon_signal": 0,
         "aroon_position": 0,
         "_deepnote_index_column": "2021-08-09T13:00:00.000000"
        },
        {
         "Close": 0.8115898370742798,
         "trend_aroon_up": 92,
         "trend_aroon_down": 48,
         "aroon_signal": 0,
         "aroon_position": 0,
         "_deepnote_index_column": "2021-08-09T14:00:00.000000"
        },
        {
         "Close": 0.8130114674568176,
         "trend_aroon_up": 88,
         "trend_aroon_down": 44,
         "aroon_signal": 0,
         "aroon_position": 0,
         "_deepnote_index_column": "2021-08-09T15:00:00.000000"
        },
        {
         "Close": 0.8204382061958313,
         "trend_aroon_up": 100,
         "trend_aroon_down": 40,
         "aroon_signal": 0,
         "aroon_position": 0,
         "_deepnote_index_column": "2021-08-09T16:00:00.000000"
        },
        {
         "Close": 0.817124605178833,
         "trend_aroon_up": 96,
         "trend_aroon_down": 36,
         "aroon_signal": 0,
         "aroon_position": 0,
         "_deepnote_index_column": "2021-08-09T17:00:00.000000"
        },
        {
         "Close": 0.8183885216712952,
         "trend_aroon_up": 92,
         "trend_aroon_down": 32,
         "aroon_signal": 0,
         "aroon_position": 0,
         "_deepnote_index_column": "2021-08-09T18:00:00.000000"
        },
        {
         "Close": 0.8223690390586853,
         "trend_aroon_up": 100,
         "trend_aroon_down": 28.000000000000004,
         "aroon_signal": 1,
         "aroon_position": 1,
         "_deepnote_index_column": "2021-08-09T19:00:00.000000"
        },
        {
         "Close": 0.8158291578292847,
         "trend_aroon_up": 96,
         "trend_aroon_down": 24,
         "aroon_signal": 0,
         "aroon_position": 1,
         "_deepnote_index_column": "2021-08-09T20:00:00.000000"
        },
        {
         "Close": 0.8055914044380188,
         "trend_aroon_up": 92,
         "trend_aroon_down": 20,
         "aroon_signal": 0,
         "aroon_position": 1,
         "_deepnote_index_column": "2021-08-09T21:00:00.000000"
        },
        {
         "Close": 0.8096583485603333,
         "trend_aroon_up": 88,
         "trend_aroon_down": 16,
         "aroon_signal": 0,
         "aroon_position": 1,
         "_deepnote_index_column": "2021-08-09T22:00:00.000000"
        },
        {
         "Close": 0.8194264769554138,
         "trend_aroon_up": 84,
         "trend_aroon_down": 12,
         "aroon_signal": 0,
         "aroon_position": 1,
         "_deepnote_index_column": "2021-08-09T23:00:00.000000"
        },
        {
         "Close": 0.8185535073280334,
         "trend_aroon_up": 80,
         "trend_aroon_down": 8,
         "aroon_signal": 0,
         "aroon_position": 1,
         "_deepnote_index_column": "2021-08-10T00:00:00.000000"
        },
        {
         "Close": 0.8124653100967407,
         "trend_aroon_up": 76,
         "trend_aroon_down": 4,
         "aroon_signal": 0,
         "aroon_position": 1,
         "_deepnote_index_column": "2021-08-10T01:00:00.000000"
        },
        {
         "Close": 0.811424195766449,
         "trend_aroon_up": 72,
         "trend_aroon_down": 4,
         "aroon_signal": 0,
         "aroon_position": 1,
         "_deepnote_index_column": "2021-08-10T02:00:00.000000"
        },
        {
         "Close": 0.8144153356552124,
         "trend_aroon_up": 68,
         "trend_aroon_down": 4,
         "aroon_signal": 0,
         "aroon_position": 1,
         "_deepnote_index_column": "2021-08-10T03:00:00.000000"
        },
        {
         "Close": 0.8044356107711792,
         "trend_aroon_up": 64,
         "trend_aroon_down": 4,
         "aroon_signal": 0,
         "aroon_position": 1,
         "_deepnote_index_column": "2021-08-10T04:00:00.000000"
        },
        {
         "Close": 0.8098970651626587,
         "trend_aroon_up": 60,
         "trend_aroon_down": 12,
         "aroon_signal": 0,
         "aroon_position": 1,
         "_deepnote_index_column": "2021-08-10T05:00:00.000000"
        },
        {
         "Close": 0.8105202913284302,
         "trend_aroon_up": 56.00000000000001,
         "trend_aroon_down": 8,
         "aroon_signal": 0,
         "aroon_position": 1,
         "_deepnote_index_column": "2021-08-10T06:00:00.000000"
        },
        {
         "Close": 0.8169611692428589,
         "trend_aroon_up": 52,
         "trend_aroon_down": 4,
         "aroon_signal": 0,
         "aroon_position": 1,
         "_deepnote_index_column": "2021-08-10T07:00:00.000000"
        },
        {
         "Close": 0.8193774223327637,
         "trend_aroon_up": 48,
         "trend_aroon_down": 4,
         "aroon_signal": 0,
         "aroon_position": 1,
         "_deepnote_index_column": "2021-08-10T08:00:00.000000"
        },
        {
         "Close": 0.8201133012771606,
         "trend_aroon_up": 44,
         "trend_aroon_down": 4,
         "aroon_signal": 0,
         "aroon_position": 1,
         "_deepnote_index_column": "2021-08-10T09:00:00.000000"
        },
        {
         "Close": 0.8198803067207336,
         "trend_aroon_up": 40,
         "trend_aroon_down": 76,
         "aroon_signal": 0,
         "aroon_position": 1,
         "_deepnote_index_column": "2021-08-10T10:00:00.000000"
        },
        {
         "Close": 0.807433009147644,
         "trend_aroon_up": 36,
         "trend_aroon_down": 72,
         "aroon_signal": 0,
         "aroon_position": 1,
         "_deepnote_index_column": "2021-08-10T11:00:00.000000"
        },
        {
         "Close": 0.8152583837509155,
         "trend_aroon_up": 32,
         "trend_aroon_down": 68,
         "aroon_signal": 0,
         "aroon_position": 1,
         "_deepnote_index_column": "2021-08-10T12:00:00.000000"
        },
        {
         "Close": 0.8490090370178223,
         "trend_aroon_up": 100,
         "trend_aroon_down": 64,
         "aroon_signal": 0,
         "aroon_position": 1,
         "_deepnote_index_column": "2021-08-10T13:00:00.000000"
        },
        {
         "Close": 0.8354390263557434,
         "trend_aroon_up": 96,
         "trend_aroon_down": 60,
         "aroon_signal": 0,
         "aroon_position": 1,
         "_deepnote_index_column": "2021-08-10T14:00:00.000000"
        },
        {
         "Close": 0.8288268446922302,
         "trend_aroon_up": 92,
         "trend_aroon_down": 56.00000000000001,
         "aroon_signal": 0,
         "aroon_position": 1,
         "_deepnote_index_column": "2021-08-10T15:00:00.000000"
        },
        {
         "Close": 0.8237518072128296,
         "trend_aroon_up": 88,
         "trend_aroon_down": 52,
         "aroon_signal": 0,
         "aroon_position": 1,
         "_deepnote_index_column": "2021-08-10T16:00:00.000000"
        },
        {
         "Close": 0.8138244152069092,
         "trend_aroon_up": 84,
         "trend_aroon_down": 48,
         "aroon_signal": 0,
         "aroon_position": 1,
         "_deepnote_index_column": "2021-08-10T17:00:00.000000"
        },
        {
         "Close": 0.81997150182724,
         "trend_aroon_up": 80,
         "trend_aroon_down": 44,
         "aroon_signal": 0,
         "aroon_position": 1,
         "_deepnote_index_column": "2021-08-10T18:00:00.000000"
        },
        {
         "Close": 0.8261918425559998,
         "trend_aroon_up": 76,
         "trend_aroon_down": 40,
         "aroon_signal": 0,
         "aroon_position": 1,
         "_deepnote_index_column": "2021-08-10T19:00:00.000000"
        },
        {
         "Close": 0.8347495198249817,
         "trend_aroon_up": 72,
         "trend_aroon_down": 36,
         "aroon_signal": 0,
         "aroon_position": 1,
         "_deepnote_index_column": "2021-08-10T20:00:00.000000"
        },
        {
         "Close": 0.8428434133529663,
         "trend_aroon_up": 68,
         "trend_aroon_down": 32,
         "aroon_signal": 0,
         "aroon_position": 1,
         "_deepnote_index_column": "2021-08-10T21:00:00.000000"
        },
        {
         "Close": 0.8587751984596252,
         "trend_aroon_up": 100,
         "trend_aroon_down": 28.000000000000004,
         "aroon_signal": 0,
         "aroon_position": 1,
         "_deepnote_index_column": "2021-08-10T22:00:00.000000"
        },
        {
         "Close": 0.8559402227401733,
         "trend_aroon_up": 96,
         "trend_aroon_down": 24,
         "aroon_signal": 0,
         "aroon_position": 1,
         "_deepnote_index_column": "2021-08-10T23:00:00.000000"
        },
        {
         "Close": 0.8512465357780457,
         "trend_aroon_up": 92,
         "trend_aroon_down": 20,
         "aroon_signal": 0,
         "aroon_position": 1,
         "_deepnote_index_column": "2021-08-11T00:00:00.000000"
        },
        {
         "Close": 0.8692995309829712,
         "trend_aroon_up": 100,
         "trend_aroon_down": 16,
         "aroon_signal": 0,
         "aroon_position": 1,
         "_deepnote_index_column": "2021-08-11T01:00:00.000000"
        },
        {
         "Close": 0.8738873600959778,
         "trend_aroon_up": 100,
         "trend_aroon_down": 12,
         "aroon_signal": 0,
         "aroon_position": 1,
         "_deepnote_index_column": "2021-08-11T02:00:00.000000"
        },
        {
         "Close": 0.8756111860275269,
         "trend_aroon_up": 100,
         "trend_aroon_down": 8,
         "aroon_signal": 0,
         "aroon_position": 1,
         "_deepnote_index_column": "2021-08-11T03:00:00.000000"
        },
        {
         "Close": 0.8757168054580688,
         "trend_aroon_up": 100,
         "trend_aroon_down": 4,
         "aroon_signal": 0,
         "aroon_position": 1,
         "_deepnote_index_column": "2021-08-11T03:02:03.000000"
        }
       ]
      },
      "text/plain": "                              Close  trend_aroon_up  trend_aroon_down  \\\n2019-09-01 01:00:00+01:00  0.259100             NaN               NaN   \n2019-09-01 02:00:00+01:00  0.258400             NaN               NaN   \n2019-09-01 03:00:00+01:00  0.257800             NaN               NaN   \n2019-09-01 04:00:00+01:00  0.258500             NaN               NaN   \n2019-09-01 05:00:00+01:00  0.258100             NaN               NaN   \n...                             ...             ...               ...   \n2021-08-11 00:00:00+01:00  0.851247            92.0              20.0   \n2021-08-11 01:00:00+01:00  0.869300           100.0              16.0   \n2021-08-11 02:00:00+01:00  0.873887           100.0              12.0   \n2021-08-11 03:00:00+01:00  0.875611           100.0               8.0   \n2021-08-11 03:02:03+01:00  0.875717           100.0               4.0   \n\n                           aroon_signal  aroon_position  \n2019-09-01 01:00:00+01:00             0               1  \n2019-09-01 02:00:00+01:00             0               1  \n2019-09-01 03:00:00+01:00             0               1  \n2019-09-01 04:00:00+01:00             0               1  \n2019-09-01 05:00:00+01:00             0               1  \n...                                 ...             ...  \n2021-08-11 00:00:00+01:00             0               1  \n2021-08-11 01:00:00+01:00             0               1  \n2021-08-11 02:00:00+01:00             0               1  \n2021-08-11 03:00:00+01:00             0               1  \n2021-08-11 03:02:03+01:00             0               1  \n\n[17004 rows x 5 columns]",
      "text/html": "<div>\n<style scoped>\n    .dataframe tbody tr th:only-of-type {\n        vertical-align: middle;\n    }\n\n    .dataframe tbody tr th {\n        vertical-align: top;\n    }\n\n    .dataframe thead th {\n        text-align: right;\n    }\n</style>\n<table border=\"1\" class=\"dataframe\">\n  <thead>\n    <tr style=\"text-align: right;\">\n      <th></th>\n      <th>Close</th>\n      <th>trend_aroon_up</th>\n      <th>trend_aroon_down</th>\n      <th>aroon_signal</th>\n      <th>aroon_position</th>\n    </tr>\n  </thead>\n  <tbody>\n    <tr>\n      <th>2019-09-01 01:00:00+01:00</th>\n      <td>0.259100</td>\n      <td>NaN</td>\n      <td>NaN</td>\n      <td>0</td>\n      <td>1</td>\n    </tr>\n    <tr>\n      <th>2019-09-01 02:00:00+01:00</th>\n      <td>0.258400</td>\n      <td>NaN</td>\n      <td>NaN</td>\n      <td>0</td>\n      <td>1</td>\n    </tr>\n    <tr>\n      <th>2019-09-01 03:00:00+01:00</th>\n      <td>0.257800</td>\n      <td>NaN</td>\n      <td>NaN</td>\n      <td>0</td>\n      <td>1</td>\n    </tr>\n    <tr>\n      <th>2019-09-01 04:00:00+01:00</th>\n      <td>0.258500</td>\n      <td>NaN</td>\n      <td>NaN</td>\n      <td>0</td>\n      <td>1</td>\n    </tr>\n    <tr>\n      <th>2019-09-01 05:00:00+01:00</th>\n      <td>0.258100</td>\n      <td>NaN</td>\n      <td>NaN</td>\n      <td>0</td>\n      <td>1</td>\n    </tr>\n    <tr>\n      <th>...</th>\n      <td>...</td>\n      <td>...</td>\n      <td>...</td>\n      <td>...</td>\n      <td>...</td>\n    </tr>\n    <tr>\n      <th>2021-08-11 00:00:00+01:00</th>\n      <td>0.851247</td>\n      <td>92.0</td>\n      <td>20.0</td>\n      <td>0</td>\n      <td>1</td>\n    </tr>\n    <tr>\n      <th>2021-08-11 01:00:00+01:00</th>\n      <td>0.869300</td>\n      <td>100.0</td>\n      <td>16.0</td>\n      <td>0</td>\n      <td>1</td>\n    </tr>\n    <tr>\n      <th>2021-08-11 02:00:00+01:00</th>\n      <td>0.873887</td>\n      <td>100.0</td>\n      <td>12.0</td>\n      <td>0</td>\n      <td>1</td>\n    </tr>\n    <tr>\n      <th>2021-08-11 03:00:00+01:00</th>\n      <td>0.875611</td>\n      <td>100.0</td>\n      <td>8.0</td>\n      <td>0</td>\n      <td>1</td>\n    </tr>\n    <tr>\n      <th>2021-08-11 03:02:03+01:00</th>\n      <td>0.875717</td>\n      <td>100.0</td>\n      <td>4.0</td>\n      <td>0</td>\n      <td>1</td>\n    </tr>\n  </tbody>\n</table>\n<p>17004 rows × 5 columns</p>\n</div>"
     },
     "metadata": {}
    }
   ],
   "execution_count": 41
  },
  {
   "cell_type": "code",
   "metadata": {
    "tags": [],
    "cell_id": "00008-cb62b6fe-9953-44a1-8e6f-332f1f12afa6",
    "deepnote_to_be_reexecuted": false,
    "source_hash": "5f105987",
    "execution_start": 1628647456145,
    "execution_millis": 7494,
    "deepnote_cell_type": "code"
   },
   "source": "# BACKTESTING THE XRP AROON TRADE STRATEGY\ndf = get_aroon('XRP-USD', '2019-09-01')\n\ndf_ret = pd.DataFrame(np.diff(df['Close'])).rename(columns = {0:'returns'})\naroon_strategy_ret = []\n\nfor i in range(len(df_ret)):\n    returns = df_ret['returns'][i]*strategy['aroon_position'][i]\n    aroon_strategy_ret.append(returns)\n    \naroon_strategy_ret_df = pd.DataFrame(aroon_strategy_ret).rename(columns = {0:'aroon_returns'})\ninvestment_value = 100000\nnumber_of_stocks = floor(investment_value/df['Close'][-1])\naroon_investment_ret = []\n\nfor i in range(len(aroon_strategy_ret_df['aroon_returns'])):\n    returns = number_of_stocks*aroon_strategy_ret_df['aroon_returns'][i]\n    aroon_investment_ret.append(returns)\n\naroon_investment_ret_df = pd.DataFrame(aroon_investment_ret).rename(columns = {0:'investment_returns'})\ntotal_investment_ret = round(sum(aroon_investment_ret_df['investment_returns']), 2)\nprofit_percentage = floor((total_investment_ret/investment_value)*100)\nprint(cl('Profit gained from the Aroon strategy by investing $100k in XRP : {}'.format(total_investment_ret), attrs = ['bold']))\nprint(cl('Profit percentage of the Aroon strategy : {}%'.format(profit_percentage), attrs = ['bold']))",
   "outputs": [
    {
     "name": "stdout",
     "text": "[*********************100%***********************]  1 of 1 completed\n/root/venv/lib/python3.7/site-packages/ta/trend.py:768: RuntimeWarning: invalid value encountered in double_scalars\n  dip[i] = 100 * (self._dip[i] / self._trs[i])\n/root/venv/lib/python3.7/site-packages/ta/trend.py:772: RuntimeWarning: invalid value encountered in double_scalars\n  din[i] = 100 * (self._din[i] / self._trs[i])\n\u001b[1mProfit gained from the Aroon strategy by investing $100k in XRP : 146475.86\u001b[0m\n\u001b[1mProfit percentage of the Aroon strategy : 146%\u001b[0m\n",
     "output_type": "stream"
    }
   ],
   "execution_count": 42
  },
  {
   "cell_type": "code",
   "metadata": {
    "tags": [],
    "cell_id": "00009-b3e8b420-fac7-4b69-8fdd-848ee697db82",
    "deepnote_to_be_reexecuted": false,
    "source_hash": "4e019dc4",
    "execution_start": 1628647560197,
    "execution_millis": 229,
    "deepnote_cell_type": "code"
   },
   "source": "strategy.to_csv('XRP AROON 25 TRADE STRATEGY.CSV')",
   "outputs": [],
   "execution_count": 44
  },
  {
   "cell_type": "code",
   "metadata": {
    "tags": [],
    "cell_id": "00010-1ec0c63e-a2f9-4400-9763-31ba6f4e352b",
    "deepnote_cell_type": "code"
   },
   "source": "",
   "execution_count": null,
   "outputs": []
  },
  {
   "cell_type": "markdown",
   "source": "<a style='text-decoration:none;line-height:16px;display:flex;color:#5B5B62;padding:10px;justify-content:end;' href='https://deepnote.com?utm_source=created-in-deepnote-cell&projectId=d12c285c-6789-4c45-9ad7-1be9b4d60622' target=\"_blank\">\n<img alt='Created in deepnote.com' style='display:inline;max-height:16px;margin:0px;margin-right:7.5px;' src='data:image/svg+xml;base64,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' > </img>\nCreated in <span style='font-weight:600;margin-left:4px;'>Deepnote</span></a>",
   "metadata": {
    "tags": [],
    "created_in_deepnote_cell": true,
    "deepnote_cell_type": "markdown"
   }
  }
 ],
 "nbformat": 4,
 "nbformat_minor": 2,
 "metadata": {
  "orig_nbformat": 2,
  "deepnote": {
   "is_reactive": false
  },
  "deepnote_notebook_id": "61da409d-998f-426c-b3eb-d4e414eb495e",
  "deepnote_execution_queue": []
 }
}