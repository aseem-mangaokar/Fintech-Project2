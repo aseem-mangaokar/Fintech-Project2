{
 "cells": [
  {
   "cell_type": "code",
   "metadata": {
    "tags": [],
    "cell_id": "00000-f40b1e3d-37b6-4180-98b4-3e8a5e99c509",
    "deepnote_to_be_reexecuted": false,
    "source_hash": "1556ae99",
    "execution_start": 1628644857530,
    "execution_millis": 1,
    "deepnote_cell_type": "code"
   },
   "source": "# !pip install yfinance==0.1.63",
   "outputs": [],
   "execution_count": 22
  },
  {
   "cell_type": "code",
   "metadata": {
    "tags": [],
    "cell_id": "00000-1300270f-0cf4-43c9-a1f2-62ab4510459e",
    "deepnote_to_be_reexecuted": false,
    "source_hash": "6566253a",
    "execution_start": 1628644868158,
    "execution_millis": 3,
    "deepnote_cell_type": "code"
   },
   "source": "import pandas as pd\nimport numpy as np\nimport requests\nimport matplotlib.pyplot as plt\nfrom math import floor\nfrom termcolor import colored as cl\nimport yfinance as yf\nfrom ta import add_all_ta_features\nfrom ta.utils import dropna\n\nplt.style.use('fivethirtyeight')\nplt.rcParams['figure.figsize'] = (20, 10)",
   "outputs": [],
   "execution_count": 23
  },
  {
   "cell_type": "code",
   "metadata": {
    "tags": [],
    "cell_id": "00001-305b0943-55ea-4c9e-92c9-b84a44856a6d",
    "deepnote_to_be_reexecuted": false,
    "source_hash": "57e26757",
    "execution_start": 1628644871294,
    "execution_millis": 3,
    "deepnote_cell_type": "code"
   },
   "source": "# def get_historical_data(sq, start_date):\n#     api_key = '648c8cb4dd534243af7157d1baa1b18f'\n#     api_url = f'https://api.twelvedata.com/time_series?symbol={sq}&interval=1day&outputsize=5000&apikey={api_key}'\n#     raw_df = requests.get(api_url).json()\n#     df = pd.DataFrame(raw_df['values']).iloc[::-1].set_index('datetime').astype(float)\n#     df = df[df.index >= start_date]\n#     df.index = pd.to_datetime(df.index)\n#     return df\n\n# XRP-USD = get_historical_data('XRP-USD', '2020-01-01')\n# XRP-USD.head()",
   "outputs": [],
   "execution_count": 24
  },
  {
   "cell_type": "code",
   "metadata": {
    "tags": [],
    "cell_id": "00002-f9018fda-d9c1-4f1f-8189-b736a1c3f9bc",
    "deepnote_to_be_reexecuted": false,
    "source_hash": "f6db9285",
    "execution_start": 1628644875426,
    "execution_millis": 531,
    "deepnote_cell_type": "code"
   },
   "source": "def get_aroon(symbol, start_date):\n\n    raw_df = yf.download(tickers = symbol, start='2019-09-01', interval='1d')\n    raw_df.drop(columns = ['Adj Close'], inplace = True)\n    # raw_df.reset_index(inplace = True)\n    raw_df.rename(columns = {'index' : 'DateTime'}, inplace = True)\n    \n    mom_data = add_all_ta_features(raw_df, open='Open', high= 'High', low='Low', close='Close', volume='Volume')\n    # mom_data.set_index('DateTime', inplace = True)\n    aroon_up = mom_data['trend_aroon_up']\n    aroon_down = mom_data['trend_aroon_down']\n    \n    ticker_aroon = mom_data[['Close', 'trend_aroon_up', 'trend_aroon_down']]\n\n    return ticker_aroon\n\nget_aroon('XRP-USD', '2019-09-01')\n",
   "outputs": [
    {
     "name": "stdout",
     "text": "[*********************100%***********************]  1 of 1 completed\n/root/venv/lib/python3.7/site-packages/ta/trend.py:768: RuntimeWarning: invalid value encountered in double_scalars\n  dip[i] = 100 * (self._dip[i] / self._trs[i])\n/root/venv/lib/python3.7/site-packages/ta/trend.py:772: RuntimeWarning: invalid value encountered in double_scalars\n  din[i] = 100 * (self._din[i] / self._trs[i])\n",
     "output_type": "stream"
    },
    {
     "output_type": "execute_result",
     "execution_count": 25,
     "data": {
      "application/vnd.deepnote.dataframe.v2+json": {
       "row_count": 706,
       "column_count": 3,
       "columns": [
        {
         "name": "Close",
         "dtype": "float64",
         "stats": {
          "unique_count": 705,
          "nan_count": 0,
          "min": "0.13963499665260315",
          "max": "1.8392360210418701",
          "histogram": [
           {
            "bin_start": 0.13963499665260315,
            "bin_end": 0.3095950990915298,
            "count": 468
           },
           {
            "bin_start": 0.3095950990915298,
            "bin_end": 0.47955520153045655,
            "count": 50
           },
           {
            "bin_start": 0.47955520153045655,
            "bin_end": 0.6495153039693833,
            "count": 85
           },
           {
            "bin_start": 0.6495153039693833,
            "bin_end": 0.81947540640831,
            "count": 29
           },
           {
            "bin_start": 0.81947540640831,
            "bin_end": 0.9894355088472366,
            "count": 23
           },
           {
            "bin_start": 0.9894355088472366,
            "bin_end": 1.1593956112861634,
            "count": 13
           },
           {
            "bin_start": 1.1593956112861634,
            "bin_end": 1.32935571372509,
            "count": 6
           },
           {
            "bin_start": 1.32935571372509,
            "bin_end": 1.4993158161640168,
            "count": 17
           },
           {
            "bin_start": 1.4993158161640168,
            "bin_end": 1.6692759186029436,
            "count": 12
           },
           {
            "bin_start": 1.6692759186029436,
            "bin_end": 1.8392360210418701,
            "count": 3
           }
          ]
         }
        },
        {
         "name": "trend_aroon_up",
         "dtype": "float64",
         "stats": {
          "unique_count": 25,
          "nan_count": 24,
          "min": "4.0",
          "max": "100.0",
          "histogram": [
           {
            "bin_start": 4,
            "bin_end": 13.6,
            "count": 156
           },
           {
            "bin_start": 13.6,
            "bin_end": 23.2,
            "count": 50
           },
           {
            "bin_start": 23.2,
            "bin_end": 32.8,
            "count": 67
           },
           {
            "bin_start": 32.8,
            "bin_end": 42.4,
            "count": 43
           },
           {
            "bin_start": 42.4,
            "bin_end": 52,
            "count": 41
           },
           {
            "bin_start": 52,
            "bin_end": 61.599999999999994,
            "count": 56
           },
           {
            "bin_start": 61.599999999999994,
            "bin_end": 71.2,
            "count": 35
           },
           {
            "bin_start": 71.2,
            "bin_end": 80.8,
            "count": 57
           },
           {
            "bin_start": 80.8,
            "bin_end": 90.39999999999999,
            "count": 39
           },
           {
            "bin_start": 90.39999999999999,
            "bin_end": 100,
            "count": 138
           }
          ]
         }
        },
        {
         "name": "trend_aroon_down",
         "dtype": "float64",
         "stats": {
          "unique_count": 25,
          "nan_count": 24,
          "min": "4.0",
          "max": "100.0",
          "histogram": [
           {
            "bin_start": 4,
            "bin_end": 13.6,
            "count": 193
           },
           {
            "bin_start": 13.6,
            "bin_end": 23.2,
            "count": 51
           },
           {
            "bin_start": 23.2,
            "bin_end": 32.8,
            "count": 61
           },
           {
            "bin_start": 32.8,
            "bin_end": 42.4,
            "count": 39
           },
           {
            "bin_start": 42.4,
            "bin_end": 52,
            "count": 37
           },
           {
            "bin_start": 52,
            "bin_end": 61.599999999999994,
            "count": 54
           },
           {
            "bin_start": 61.599999999999994,
            "bin_end": 71.2,
            "count": 35
           },
           {
            "bin_start": 71.2,
            "bin_end": 80.8,
            "count": 57
           },
           {
            "bin_start": 80.8,
            "bin_end": 90.39999999999999,
            "count": 43
           },
           {
            "bin_start": 90.39999999999999,
            "bin_end": 100,
            "count": 112
           }
          ]
         }
        },
        {
         "name": "_deepnote_index_column",
         "dtype": "datetime64[ns]"
        }
       ],
       "rows_top": [
        {
         "Close": 0.2580539882183075,
         "trend_aroon_up": "nan",
         "trend_aroon_down": "nan",
         "_deepnote_index_column": "2019-09-01T00:00:00.000000"
        },
        {
         "Close": 0.2608200013637543,
         "trend_aroon_up": "nan",
         "trend_aroon_down": "nan",
         "_deepnote_index_column": "2019-09-02T00:00:00.000000"
        },
        {
         "Close": 0.263139009475708,
         "trend_aroon_up": "nan",
         "trend_aroon_down": "nan",
         "_deepnote_index_column": "2019-09-03T00:00:00.000000"
        },
        {
         "Close": 0.25990501046180725,
         "trend_aroon_up": "nan",
         "trend_aroon_down": "nan",
         "_deepnote_index_column": "2019-09-04T00:00:00.000000"
        },
        {
         "Close": 0.2563459873199463,
         "trend_aroon_up": "nan",
         "trend_aroon_down": "nan",
         "_deepnote_index_column": "2019-09-05T00:00:00.000000"
        },
        {
         "Close": 0.2523399889469147,
         "trend_aroon_up": "nan",
         "trend_aroon_down": "nan",
         "_deepnote_index_column": "2019-09-06T00:00:00.000000"
        },
        {
         "Close": 0.260686993598938,
         "trend_aroon_up": "nan",
         "trend_aroon_down": "nan",
         "_deepnote_index_column": "2019-09-07T00:00:00.000000"
        },
        {
         "Close": 0.2630839943885803,
         "trend_aroon_up": "nan",
         "trend_aroon_down": "nan",
         "_deepnote_index_column": "2019-09-08T00:00:00.000000"
        },
        {
         "Close": 0.2595619857311249,
         "trend_aroon_up": "nan",
         "trend_aroon_down": "nan",
         "_deepnote_index_column": "2019-09-09T00:00:00.000000"
        },
        {
         "Close": 0.25867098569869995,
         "trend_aroon_up": "nan",
         "trend_aroon_down": "nan",
         "_deepnote_index_column": "2019-09-10T00:00:00.000000"
        },
        {
         "Close": 0.2559559941291809,
         "trend_aroon_up": "nan",
         "trend_aroon_down": "nan",
         "_deepnote_index_column": "2019-09-11T00:00:00.000000"
        },
        {
         "Close": 0.25481098890304565,
         "trend_aroon_up": "nan",
         "trend_aroon_down": "nan",
         "_deepnote_index_column": "2019-09-12T00:00:00.000000"
        },
        {
         "Close": 0.2555510103702545,
         "trend_aroon_up": "nan",
         "trend_aroon_down": "nan",
         "_deepnote_index_column": "2019-09-13T00:00:00.000000"
        },
        {
         "Close": 0.2611669898033142,
         "trend_aroon_up": "nan",
         "trend_aroon_down": "nan",
         "_deepnote_index_column": "2019-09-14T00:00:00.000000"
        },
        {
         "Close": 0.26162800192832947,
         "trend_aroon_up": "nan",
         "trend_aroon_down": "nan",
         "_deepnote_index_column": "2019-09-15T00:00:00.000000"
        },
        {
         "Close": 0.2609519958496094,
         "trend_aroon_up": "nan",
         "trend_aroon_down": "nan",
         "_deepnote_index_column": "2019-09-16T00:00:00.000000"
        },
        {
         "Close": 0.28501299023628235,
         "trend_aroon_up": "nan",
         "trend_aroon_down": "nan",
         "_deepnote_index_column": "2019-09-17T00:00:00.000000"
        },
        {
         "Close": 0.3137759864330292,
         "trend_aroon_up": "nan",
         "trend_aroon_down": "nan",
         "_deepnote_index_column": "2019-09-18T00:00:00.000000"
        },
        {
         "Close": 0.3024410009384155,
         "trend_aroon_up": "nan",
         "trend_aroon_down": "nan",
         "_deepnote_index_column": "2019-09-19T00:00:00.000000"
        },
        {
         "Close": 0.29447001218795776,
         "trend_aroon_up": "nan",
         "trend_aroon_down": "nan",
         "_deepnote_index_column": "2019-09-20T00:00:00.000000"
        },
        {
         "Close": 0.2894429862499237,
         "trend_aroon_up": "nan",
         "trend_aroon_down": "nan",
         "_deepnote_index_column": "2019-09-21T00:00:00.000000"
        },
        {
         "Close": 0.27893099188804626,
         "trend_aroon_up": "nan",
         "trend_aroon_down": "nan",
         "_deepnote_index_column": "2019-09-22T00:00:00.000000"
        },
        {
         "Close": 0.2686749994754791,
         "trend_aroon_up": "nan",
         "trend_aroon_down": "nan",
         "_deepnote_index_column": "2019-09-23T00:00:00.000000"
        },
        {
         "Close": 0.23522600531578064,
         "trend_aroon_up": "nan",
         "trend_aroon_down": "nan",
         "_deepnote_index_column": "2019-09-24T00:00:00.000000"
        },
        {
         "Close": 0.24644100666046143,
         "trend_aroon_up": 72,
         "trend_aroon_down": 96,
         "_deepnote_index_column": "2019-09-25T00:00:00.000000"
        },
        {
         "Close": 0.24378399550914764,
         "trend_aroon_up": 68,
         "trend_aroon_down": 92,
         "_deepnote_index_column": "2019-09-26T00:00:00.000000"
        },
        {
         "Close": 0.2440209984779358,
         "trend_aroon_up": 64,
         "trend_aroon_down": 88,
         "_deepnote_index_column": "2019-09-27T00:00:00.000000"
        },
        {
         "Close": 0.24257099628448486,
         "trend_aroon_up": 60,
         "trend_aroon_down": 84,
         "_deepnote_index_column": "2019-09-28T00:00:00.000000"
        },
        {
         "Close": 0.2413879930973053,
         "trend_aroon_up": 56.00000000000001,
         "trend_aroon_down": 80,
         "_deepnote_index_column": "2019-09-29T00:00:00.000000"
        },
        {
         "Close": 0.2559329867362976,
         "trend_aroon_up": 52,
         "trend_aroon_down": 76,
         "_deepnote_index_column": "2019-09-30T00:00:00.000000"
        },
        {
         "Close": 0.2495650053024292,
         "trend_aroon_up": 48,
         "trend_aroon_down": 72,
         "_deepnote_index_column": "2019-10-01T00:00:00.000000"
        },
        {
         "Close": 0.25353899598121643,
         "trend_aroon_up": 44,
         "trend_aroon_down": 68,
         "_deepnote_index_column": "2019-10-02T00:00:00.000000"
        },
        {
         "Close": 0.24785999953746796,
         "trend_aroon_up": 40,
         "trend_aroon_down": 64,
         "_deepnote_index_column": "2019-10-03T00:00:00.000000"
        },
        {
         "Close": 0.2539350092411041,
         "trend_aroon_up": 36,
         "trend_aroon_down": 60,
         "_deepnote_index_column": "2019-10-04T00:00:00.000000"
        },
        {
         "Close": 0.2534570097923279,
         "trend_aroon_up": 32,
         "trend_aroon_down": 56.00000000000001,
         "_deepnote_index_column": "2019-10-05T00:00:00.000000"
        },
        {
         "Close": 0.2577050030231476,
         "trend_aroon_up": 28.000000000000004,
         "trend_aroon_down": 52,
         "_deepnote_index_column": "2019-10-06T00:00:00.000000"
        },
        {
         "Close": 0.27568501234054565,
         "trend_aroon_up": 24,
         "trend_aroon_down": 48,
         "_deepnote_index_column": "2019-10-07T00:00:00.000000"
        },
        {
         "Close": 0.27845901250839233,
         "trend_aroon_up": 20,
         "trend_aroon_down": 44,
         "_deepnote_index_column": "2019-10-08T00:00:00.000000"
        },
        {
         "Close": 0.28162699937820435,
         "trend_aroon_up": 16,
         "trend_aroon_down": 40,
         "_deepnote_index_column": "2019-10-09T00:00:00.000000"
        },
        {
         "Close": 0.27207300066947937,
         "trend_aroon_up": 12,
         "trend_aroon_down": 36,
         "_deepnote_index_column": "2019-10-10T00:00:00.000000"
        },
        {
         "Close": 0.2710990011692047,
         "trend_aroon_up": 8,
         "trend_aroon_down": 32,
         "_deepnote_index_column": "2019-10-11T00:00:00.000000"
        },
        {
         "Close": 0.27319100499153137,
         "trend_aroon_up": 4,
         "trend_aroon_down": 28.000000000000004,
         "_deepnote_index_column": "2019-10-12T00:00:00.000000"
        },
        {
         "Close": 0.2777650058269501,
         "trend_aroon_up": 4,
         "trend_aroon_down": 24,
         "_deepnote_index_column": "2019-10-13T00:00:00.000000"
        },
        {
         "Close": 0.29652300477027893,
         "trend_aroon_up": 100,
         "trend_aroon_down": 20,
         "_deepnote_index_column": "2019-10-14T00:00:00.000000"
        },
        {
         "Close": 0.28870201110839844,
         "trend_aroon_up": 96,
         "trend_aroon_down": 16,
         "_deepnote_index_column": "2019-10-15T00:00:00.000000"
        },
        {
         "Close": 0.28464001417160034,
         "trend_aroon_up": 92,
         "trend_aroon_down": 12,
         "_deepnote_index_column": "2019-10-16T00:00:00.000000"
        },
        {
         "Close": 0.30231499671936035,
         "trend_aroon_up": 100,
         "trend_aroon_down": 8,
         "_deepnote_index_column": "2019-10-17T00:00:00.000000"
        },
        {
         "Close": 0.2950049936771393,
         "trend_aroon_up": 96,
         "trend_aroon_down": 4,
         "_deepnote_index_column": "2019-10-18T00:00:00.000000"
        },
        {
         "Close": 0.2930220067501068,
         "trend_aroon_up": 92,
         "trend_aroon_down": 20,
         "_deepnote_index_column": "2019-10-19T00:00:00.000000"
        },
        {
         "Close": 0.2941789925098419,
         "trend_aroon_up": 88,
         "trend_aroon_down": 16,
         "_deepnote_index_column": "2019-10-20T00:00:00.000000"
        },
        {
         "Close": 0.29297900199890137,
         "trend_aroon_up": 84,
         "trend_aroon_down": 12,
         "_deepnote_index_column": "2019-10-21T00:00:00.000000"
        },
        {
         "Close": 0.29160699248313904,
         "trend_aroon_up": 80,
         "trend_aroon_down": 8,
         "_deepnote_index_column": "2019-10-22T00:00:00.000000"
        },
        {
         "Close": 0.2741430103778839,
         "trend_aroon_up": 76,
         "trend_aroon_down": 4,
         "_deepnote_index_column": "2019-10-23T00:00:00.000000"
        },
        {
         "Close": 0.27849099040031433,
         "trend_aroon_up": 72,
         "trend_aroon_down": 16,
         "_deepnote_index_column": "2019-10-24T00:00:00.000000"
        },
        {
         "Close": 0.2981649935245514,
         "trend_aroon_up": 68,
         "trend_aroon_down": 12,
         "_deepnote_index_column": "2019-10-25T00:00:00.000000"
        },
        {
         "Close": 0.2936989963054657,
         "trend_aroon_up": 64,
         "trend_aroon_down": 8,
         "_deepnote_index_column": "2019-10-26T00:00:00.000000"
        },
        {
         "Close": 0.29809999465942383,
         "trend_aroon_up": 60,
         "trend_aroon_down": 4,
         "_deepnote_index_column": "2019-10-27T00:00:00.000000"
        },
        {
         "Close": 0.2960070073604584,
         "trend_aroon_up": 56.00000000000001,
         "trend_aroon_down": 8,
         "_deepnote_index_column": "2019-10-28T00:00:00.000000"
        },
        {
         "Close": 0.3019559979438782,
         "trend_aroon_up": 52,
         "trend_aroon_down": 4,
         "_deepnote_index_column": "2019-10-29T00:00:00.000000"
        },
        {
         "Close": 0.2965550124645233,
         "trend_aroon_up": 48,
         "trend_aroon_down": 4,
         "_deepnote_index_column": "2019-10-30T00:00:00.000000"
        },
        {
         "Close": 0.29635798931121826,
         "trend_aroon_up": 44,
         "trend_aroon_down": 20,
         "_deepnote_index_column": "2019-10-31T00:00:00.000000"
        },
        {
         "Close": 0.2926419973373413,
         "trend_aroon_up": 40,
         "trend_aroon_down": 16,
         "_deepnote_index_column": "2019-11-01T00:00:00.000000"
        },
        {
         "Close": 0.2962630093097687,
         "trend_aroon_up": 36,
         "trend_aroon_down": 12,
         "_deepnote_index_column": "2019-11-02T00:00:00.000000"
        },
        {
         "Close": 0.2912609875202179,
         "trend_aroon_up": 32,
         "trend_aroon_down": 8,
         "_deepnote_index_column": "2019-11-03T00:00:00.000000"
        },
        {
         "Close": 0.29993700981140137,
         "trend_aroon_up": 28.000000000000004,
         "trend_aroon_down": 4,
         "_deepnote_index_column": "2019-11-04T00:00:00.000000"
        },
        {
         "Close": 0.3012549877166748,
         "trend_aroon_up": 24,
         "trend_aroon_down": 4,
         "_deepnote_index_column": "2019-11-05T00:00:00.000000"
        },
        {
         "Close": 0.3100860118865967,
         "trend_aroon_up": 100,
         "trend_aroon_down": 44,
         "_deepnote_index_column": "2019-11-06T00:00:00.000000"
        },
        {
         "Close": 0.2924309968948364,
         "trend_aroon_up": 96,
         "trend_aroon_down": 40,
         "_deepnote_index_column": "2019-11-07T00:00:00.000000"
        },
        {
         "Close": 0.2769530117511749,
         "trend_aroon_up": 92,
         "trend_aroon_down": 36,
         "_deepnote_index_column": "2019-11-08T00:00:00.000000"
        },
        {
         "Close": 0.28019601106643677,
         "trend_aroon_up": 88,
         "trend_aroon_down": 32,
         "_deepnote_index_column": "2019-11-09T00:00:00.000000"
        },
        {
         "Close": 0.28020399808883667,
         "trend_aroon_up": 84,
         "trend_aroon_down": 28.000000000000004,
         "_deepnote_index_column": "2019-11-10T00:00:00.000000"
        },
        {
         "Close": 0.275085985660553,
         "trend_aroon_up": 80,
         "trend_aroon_down": 24,
         "_deepnote_index_column": "2019-11-11T00:00:00.000000"
        },
        {
         "Close": 0.27241799235343933,
         "trend_aroon_up": 76,
         "trend_aroon_down": 100,
         "_deepnote_index_column": "2019-11-12T00:00:00.000000"
        },
        {
         "Close": 0.27303600311279297,
         "trend_aroon_up": 72,
         "trend_aroon_down": 96,
         "_deepnote_index_column": "2019-11-13T00:00:00.000000"
        },
        {
         "Close": 0.27039098739624023,
         "trend_aroon_up": 68,
         "trend_aroon_down": 100,
         "_deepnote_index_column": "2019-11-14T00:00:00.000000"
        },
        {
         "Close": 0.26165398955345154,
         "trend_aroon_up": 64,
         "trend_aroon_down": 100,
         "_deepnote_index_column": "2019-11-15T00:00:00.000000"
        },
        {
         "Close": 0.2638860046863556,
         "trend_aroon_up": 60,
         "trend_aroon_down": 96,
         "_deepnote_index_column": "2019-11-16T00:00:00.000000"
        },
        {
         "Close": 0.2652530074119568,
         "trend_aroon_up": 56.00000000000001,
         "trend_aroon_down": 92,
         "_deepnote_index_column": "2019-11-17T00:00:00.000000"
        },
        {
         "Close": 0.2556529939174652,
         "trend_aroon_up": 52,
         "trend_aroon_down": 100,
         "_deepnote_index_column": "2019-11-18T00:00:00.000000"
        },
        {
         "Close": 0.2565000057220459,
         "trend_aroon_up": 48,
         "trend_aroon_down": 96,
         "_deepnote_index_column": "2019-11-19T00:00:00.000000"
        },
        {
         "Close": 0.25136399269104004,
         "trend_aroon_up": 44,
         "trend_aroon_down": 100,
         "_deepnote_index_column": "2019-11-20T00:00:00.000000"
        },
        {
         "Close": 0.24376599490642548,
         "trend_aroon_up": 40,
         "trend_aroon_down": 100,
         "_deepnote_index_column": "2019-11-21T00:00:00.000000"
        },
        {
         "Close": 0.23160000145435333,
         "trend_aroon_up": 36,
         "trend_aroon_down": 100,
         "_deepnote_index_column": "2019-11-22T00:00:00.000000"
        },
        {
         "Close": 0.23618799448013306,
         "trend_aroon_up": 32,
         "trend_aroon_down": 96,
         "_deepnote_index_column": "2019-11-23T00:00:00.000000"
        },
        {
         "Close": 0.2231840044260025,
         "trend_aroon_up": 28.000000000000004,
         "trend_aroon_down": 100,
         "_deepnote_index_column": "2019-11-24T00:00:00.000000"
        },
        {
         "Close": 0.21862199902534485,
         "trend_aroon_up": 24,
         "trend_aroon_down": 100,
         "_deepnote_index_column": "2019-11-25T00:00:00.000000"
        },
        {
         "Close": 0.22214500606060028,
         "trend_aroon_up": 20,
         "trend_aroon_down": 96,
         "_deepnote_index_column": "2019-11-26T00:00:00.000000"
        },
        {
         "Close": 0.22508099675178528,
         "trend_aroon_up": 16,
         "trend_aroon_down": 92,
         "_deepnote_index_column": "2019-11-27T00:00:00.000000"
        },
        {
         "Close": 0.22457000613212585,
         "trend_aroon_up": 12,
         "trend_aroon_down": 88,
         "_deepnote_index_column": "2019-11-28T00:00:00.000000"
        },
        {
         "Close": 0.23021699488162994,
         "trend_aroon_up": 8,
         "trend_aroon_down": 84,
         "_deepnote_index_column": "2019-11-29T00:00:00.000000"
        },
        {
         "Close": 0.22647400200366974,
         "trend_aroon_up": 4,
         "trend_aroon_down": 80,
         "_deepnote_index_column": "2019-11-30T00:00:00.000000"
        },
        {
         "Close": 0.22533300518989563,
         "trend_aroon_up": 4,
         "trend_aroon_down": 76,
         "_deepnote_index_column": "2019-12-01T00:00:00.000000"
        },
        {
         "Close": 0.2195809930562973,
         "trend_aroon_up": 12,
         "trend_aroon_down": 72,
         "_deepnote_index_column": "2019-12-02T00:00:00.000000"
        },
        {
         "Close": 0.21987000107765198,
         "trend_aroon_up": 8,
         "trend_aroon_down": 68,
         "_deepnote_index_column": "2019-12-03T00:00:00.000000"
        },
        {
         "Close": 0.21634800732135773,
         "trend_aroon_up": 4,
         "trend_aroon_down": 100,
         "_deepnote_index_column": "2019-12-04T00:00:00.000000"
        },
        {
         "Close": 0.2229280024766922,
         "trend_aroon_up": 4,
         "trend_aroon_down": 96,
         "_deepnote_index_column": "2019-12-05T00:00:00.000000"
        },
        {
         "Close": 0.22550499439239502,
         "trend_aroon_up": 8,
         "trend_aroon_down": 92,
         "_deepnote_index_column": "2019-12-06T00:00:00.000000"
        },
        {
         "Close": 0.22844499349594116,
         "trend_aroon_up": 4,
         "trend_aroon_down": 88,
         "_deepnote_index_column": "2019-12-07T00:00:00.000000"
        },
        {
         "Close": 0.23043499886989594,
         "trend_aroon_up": 4,
         "trend_aroon_down": 84,
         "_deepnote_index_column": "2019-12-08T00:00:00.000000"
        },
        {
         "Close": 0.2254520058631897,
         "trend_aroon_up": 12,
         "trend_aroon_down": 80,
         "_deepnote_index_column": "2019-12-09T00:00:00.000000"
        },
        {
         "Close": 0.2243019938468933,
         "trend_aroon_up": 8,
         "trend_aroon_down": 76,
         "_deepnote_index_column": "2019-12-10T00:00:00.000000"
        },
        {
         "Close": 0.22205300629138947,
         "trend_aroon_up": 4,
         "trend_aroon_down": 72,
         "_deepnote_index_column": "2019-12-11T00:00:00.000000"
        },
        {
         "Close": 0.21985900402069092,
         "trend_aroon_up": 8,
         "trend_aroon_down": 68,
         "_deepnote_index_column": "2019-12-12T00:00:00.000000"
        },
        {
         "Close": 0.22075499594211578,
         "trend_aroon_up": 4,
         "trend_aroon_down": 64,
         "_deepnote_index_column": "2019-12-13T00:00:00.000000"
        },
        {
         "Close": 0.21735599637031555,
         "trend_aroon_up": 4,
         "trend_aroon_down": 60,
         "_deepnote_index_column": "2019-12-14T00:00:00.000000"
        },
        {
         "Close": 0.21860100328922272,
         "trend_aroon_up": 4,
         "trend_aroon_down": 56.00000000000001,
         "_deepnote_index_column": "2019-12-15T00:00:00.000000"
        },
        {
         "Close": 0.2072249948978424,
         "trend_aroon_up": 8,
         "trend_aroon_down": 100,
         "_deepnote_index_column": "2019-12-16T00:00:00.000000"
        },
        {
         "Close": 0.18369899690151215,
         "trend_aroon_up": 4,
         "trend_aroon_down": 100,
         "_deepnote_index_column": "2019-12-17T00:00:00.000000"
        },
        {
         "Close": 0.19617600739002228,
         "trend_aroon_up": 60,
         "trend_aroon_down": 96,
         "_deepnote_index_column": "2019-12-18T00:00:00.000000"
        },
        {
         "Close": 0.19081899523735046,
         "trend_aroon_up": 56.00000000000001,
         "trend_aroon_down": 92,
         "_deepnote_index_column": "2019-12-19T00:00:00.000000"
        },
        {
         "Close": 0.19531600177288055,
         "trend_aroon_up": 52,
         "trend_aroon_down": 88,
         "_deepnote_index_column": "2019-12-20T00:00:00.000000"
        },
        {
         "Close": 0.19408200681209564,
         "trend_aroon_up": 48,
         "trend_aroon_down": 84,
         "_deepnote_index_column": "2019-12-21T00:00:00.000000"
        },
        {
         "Close": 0.19697800278663635,
         "trend_aroon_up": 44,
         "trend_aroon_down": 80,
         "_deepnote_index_column": "2019-12-22T00:00:00.000000"
        },
        {
         "Close": 0.19094300270080566,
         "trend_aroon_up": 40,
         "trend_aroon_down": 76,
         "_deepnote_index_column": "2019-12-23T00:00:00.000000"
        },
        {
         "Close": 0.1921979933977127,
         "trend_aroon_up": 36,
         "trend_aroon_down": 72,
         "_deepnote_index_column": "2019-12-24T00:00:00.000000"
        },
        {
         "Close": 0.19071899354457855,
         "trend_aroon_up": 32,
         "trend_aroon_down": 68,
         "_deepnote_index_column": "2019-12-25T00:00:00.000000"
        },
        {
         "Close": 0.19039399921894073,
         "trend_aroon_up": 28.000000000000004,
         "trend_aroon_down": 64,
         "_deepnote_index_column": "2019-12-26T00:00:00.000000"
        },
        {
         "Close": 0.19110199809074402,
         "trend_aroon_up": 24,
         "trend_aroon_down": 60,
         "_deepnote_index_column": "2019-12-27T00:00:00.000000"
        },
        {
         "Close": 0.19322200119495392,
         "trend_aroon_up": 20,
         "trend_aroon_down": 56.00000000000001,
         "_deepnote_index_column": "2019-12-28T00:00:00.000000"
        },
        {
         "Close": 0.197051003575325,
         "trend_aroon_up": 16,
         "trend_aroon_down": 52,
         "_deepnote_index_column": "2019-12-29T00:00:00.000000"
        },
        {
         "Close": 0.194473996758461,
         "trend_aroon_up": 12,
         "trend_aroon_down": 48,
         "_deepnote_index_column": "2019-12-30T00:00:00.000000"
        },
        {
         "Close": 0.19289399683475494,
         "trend_aroon_up": 8,
         "trend_aroon_down": 44,
         "_deepnote_index_column": "2019-12-31T00:00:00.000000"
        },
        {
         "Close": 0.19266700744628906,
         "trend_aroon_up": 4,
         "trend_aroon_down": 40,
         "_deepnote_index_column": "2020-01-01T00:00:00.000000"
        },
        {
         "Close": 0.1880429983139038,
         "trend_aroon_up": 4,
         "trend_aroon_down": 36,
         "_deepnote_index_column": "2020-01-02T00:00:00.000000"
        },
        {
         "Close": 0.19352099299430847,
         "trend_aroon_up": 4,
         "trend_aroon_down": 32,
         "_deepnote_index_column": "2020-01-03T00:00:00.000000"
        },
        {
         "Close": 0.19435499608516693,
         "trend_aroon_up": 4,
         "trend_aroon_down": 28.000000000000004,
         "_deepnote_index_column": "2020-01-04T00:00:00.000000"
        },
        {
         "Close": 0.1955370008945465,
         "trend_aroon_up": 8,
         "trend_aroon_down": 24,
         "_deepnote_index_column": "2020-01-05T00:00:00.000000"
        },
        {
         "Close": 0.22150999307632446,
         "trend_aroon_up": 100,
         "trend_aroon_down": 20,
         "_deepnote_index_column": "2020-01-06T00:00:00.000000"
        },
        {
         "Close": 0.21391700208187103,
         "trend_aroon_up": 96,
         "trend_aroon_down": 16,
         "_deepnote_index_column": "2020-01-07T00:00:00.000000"
        },
        {
         "Close": 0.20902599394321442,
         "trend_aroon_up": 92,
         "trend_aroon_down": 12,
         "_deepnote_index_column": "2020-01-08T00:00:00.000000"
        },
        {
         "Close": 0.20489899814128876,
         "trend_aroon_up": 88,
         "trend_aroon_down": 8,
         "_deepnote_index_column": "2020-01-09T00:00:00.000000"
        },
        {
         "Close": 0.21230599284172058,
         "trend_aroon_up": 84,
         "trend_aroon_down": 4,
         "_deepnote_index_column": "2020-01-10T00:00:00.000000"
        },
        {
         "Close": 0.21185100078582764,
         "trend_aroon_up": 80,
         "trend_aroon_down": 64,
         "_deepnote_index_column": "2020-01-11T00:00:00.000000"
        },
        {
         "Close": 0.21563300490379333,
         "trend_aroon_up": 76,
         "trend_aroon_down": 60,
         "_deepnote_index_column": "2020-01-12T00:00:00.000000"
        },
        {
         "Close": 0.21261699497699738,
         "trend_aroon_up": 72,
         "trend_aroon_down": 56.00000000000001,
         "_deepnote_index_column": "2020-01-13T00:00:00.000000"
        },
        {
         "Close": 0.23468700051307678,
         "trend_aroon_up": 100,
         "trend_aroon_down": 52,
         "_deepnote_index_column": "2020-01-14T00:00:00.000000"
        },
        {
         "Close": 0.23289500176906586,
         "trend_aroon_up": 96,
         "trend_aroon_down": 48,
         "_deepnote_index_column": "2020-01-15T00:00:00.000000"
        },
        {
         "Close": 0.2285739928483963,
         "trend_aroon_up": 92,
         "trend_aroon_down": 44,
         "_deepnote_index_column": "2020-01-16T00:00:00.000000"
        },
        {
         "Close": 0.23877599835395813,
         "trend_aroon_up": 100,
         "trend_aroon_down": 40,
         "_deepnote_index_column": "2020-01-17T00:00:00.000000"
        },
        {
         "Close": 0.24328599870204926,
         "trend_aroon_up": 100,
         "trend_aroon_down": 36,
         "_deepnote_index_column": "2020-01-18T00:00:00.000000"
        },
        {
         "Close": 0.23558500409126282,
         "trend_aroon_up": 96,
         "trend_aroon_down": 32,
         "_deepnote_index_column": "2020-01-19T00:00:00.000000"
        },
        {
         "Close": 0.2332960069179535,
         "trend_aroon_up": 92,
         "trend_aroon_down": 28.000000000000004,
         "_deepnote_index_column": "2020-01-20T00:00:00.000000"
        },
        {
         "Close": 0.23716600239276886,
         "trend_aroon_up": 88,
         "trend_aroon_down": 24,
         "_deepnote_index_column": "2020-01-21T00:00:00.000000"
        },
        {
         "Close": 0.23605599999427795,
         "trend_aroon_up": 84,
         "trend_aroon_down": 20,
         "_deepnote_index_column": "2020-01-22T00:00:00.000000"
        },
        {
         "Close": 0.2261040061712265,
         "trend_aroon_up": 80,
         "trend_aroon_down": 16,
         "_deepnote_index_column": "2020-01-23T00:00:00.000000"
        },
        {
         "Close": 0.22304099798202515,
         "trend_aroon_up": 76,
         "trend_aroon_down": 12,
         "_deepnote_index_column": "2020-01-24T00:00:00.000000"
        },
        {
         "Close": 0.220427006483078,
         "trend_aroon_up": 72,
         "trend_aroon_down": 8,
         "_deepnote_index_column": "2020-01-25T00:00:00.000000"
        },
        {
         "Close": 0.2306859940290451,
         "trend_aroon_up": 68,
         "trend_aroon_down": 4,
         "_deepnote_index_column": "2020-01-26T00:00:00.000000"
        },
        {
         "Close": 0.231222003698349,
         "trend_aroon_up": 64,
         "trend_aroon_down": 4,
         "_deepnote_index_column": "2020-01-27T00:00:00.000000"
        },
        {
         "Close": 0.23848800361156464,
         "trend_aroon_up": 60,
         "trend_aroon_down": 4,
         "_deepnote_index_column": "2020-01-28T00:00:00.000000"
        },
        {
         "Close": 0.23573000729084015,
         "trend_aroon_up": 56.00000000000001,
         "trend_aroon_down": 4,
         "_deepnote_index_column": "2020-01-29T00:00:00.000000"
        },
        {
         "Close": 0.24364200234413147,
         "trend_aroon_up": 100,
         "trend_aroon_down": 16,
         "_deepnote_index_column": "2020-01-30T00:00:00.000000"
        },
        {
         "Close": 0.23923300206661224,
         "trend_aroon_up": 96,
         "trend_aroon_down": 12,
         "_deepnote_index_column": "2020-01-31T00:00:00.000000"
        },
        {
         "Close": 0.24145500361919403,
         "trend_aroon_up": 92,
         "trend_aroon_down": 8,
         "_deepnote_index_column": "2020-02-01T00:00:00.000000"
        },
        {
         "Close": 0.25073400139808655,
         "trend_aroon_up": 100,
         "trend_aroon_down": 4,
         "_deepnote_index_column": "2020-02-02T00:00:00.000000"
        },
        {
         "Close": 0.254626989364624,
         "trend_aroon_up": 100,
         "trend_aroon_down": 8,
         "_deepnote_index_column": "2020-02-03T00:00:00.000000"
        },
        {
         "Close": 0.26680800318717957,
         "trend_aroon_up": 100,
         "trend_aroon_down": 4,
         "_deepnote_index_column": "2020-02-04T00:00:00.000000"
        },
        {
         "Close": 0.2774679958820343,
         "trend_aroon_up": 100,
         "trend_aroon_down": 8,
         "_deepnote_index_column": "2020-02-05T00:00:00.000000"
        },
        {
         "Close": 0.2822139859199524,
         "trend_aroon_up": 100,
         "trend_aroon_down": 4,
         "_deepnote_index_column": "2020-02-06T00:00:00.000000"
        },
        {
         "Close": 0.2792840003967285,
         "trend_aroon_up": 96,
         "trend_aroon_down": 48,
         "_deepnote_index_column": "2020-02-07T00:00:00.000000"
        },
        {
         "Close": 0.2772429883480072,
         "trend_aroon_up": 92,
         "trend_aroon_down": 44,
         "_deepnote_index_column": "2020-02-08T00:00:00.000000"
        },
        {
         "Close": 0.28245699405670166,
         "trend_aroon_up": 100,
         "trend_aroon_down": 40,
         "_deepnote_index_column": "2020-02-09T00:00:00.000000"
        },
        {
         "Close": 0.2740800082683563,
         "trend_aroon_up": 96,
         "trend_aroon_down": 36,
         "_deepnote_index_column": "2020-02-10T00:00:00.000000"
        },
        {
         "Close": 0.2801409959793091,
         "trend_aroon_up": 92,
         "trend_aroon_down": 32,
         "_deepnote_index_column": "2020-02-11T00:00:00.000000"
        },
        {
         "Close": 0.3043929934501648,
         "trend_aroon_up": 100,
         "trend_aroon_down": 28.000000000000004,
         "_deepnote_index_column": "2020-02-12T00:00:00.000000"
        },
        {
         "Close": 0.3267059922218323,
         "trend_aroon_up": 100,
         "trend_aroon_down": 24,
         "_deepnote_index_column": "2020-02-13T00:00:00.000000"
        }
       ],
       "rows_bottom": [
        {
         "Close": 0.4345239996910095,
         "trend_aroon_up": 52,
         "trend_aroon_down": 8,
         "_deepnote_index_column": "2021-02-25T00:00:00.000000"
        },
        {
         "Close": 0.4278999865055084,
         "trend_aroon_up": 48,
         "trend_aroon_down": 4,
         "_deepnote_index_column": "2021-02-26T00:00:00.000000"
        },
        {
         "Close": 0.4378089904785156,
         "trend_aroon_up": 44,
         "trend_aroon_down": 4,
         "_deepnote_index_column": "2021-02-27T00:00:00.000000"
        },
        {
         "Close": 0.41495299339294434,
         "trend_aroon_up": 40,
         "trend_aroon_down": 100,
         "_deepnote_index_column": "2021-02-28T00:00:00.000000"
        },
        {
         "Close": 0.44724398851394653,
         "trend_aroon_up": 36,
         "trend_aroon_down": 96,
         "_deepnote_index_column": "2021-03-01T00:00:00.000000"
        },
        {
         "Close": 0.43683698773384094,
         "trend_aroon_up": 32,
         "trend_aroon_down": 92,
         "_deepnote_index_column": "2021-03-02T00:00:00.000000"
        },
        {
         "Close": 0.45027899742126465,
         "trend_aroon_up": 28.000000000000004,
         "trend_aroon_down": 88,
         "_deepnote_index_column": "2021-03-03T00:00:00.000000"
        },
        {
         "Close": 0.4866049885749817,
         "trend_aroon_up": 24,
         "trend_aroon_down": 84,
         "_deepnote_index_column": "2021-03-04T00:00:00.000000"
        },
        {
         "Close": 0.4581190049648285,
         "trend_aroon_up": 20,
         "trend_aroon_down": 80,
         "_deepnote_index_column": "2021-03-05T00:00:00.000000"
        },
        {
         "Close": 0.4651060104370117,
         "trend_aroon_up": 16,
         "trend_aroon_down": 76,
         "_deepnote_index_column": "2021-03-06T00:00:00.000000"
        },
        {
         "Close": 0.46686699986457825,
         "trend_aroon_up": 12,
         "trend_aroon_down": 72,
         "_deepnote_index_column": "2021-03-07T00:00:00.000000"
        },
        {
         "Close": 0.47359699010849,
         "trend_aroon_up": 8,
         "trend_aroon_down": 68,
         "_deepnote_index_column": "2021-03-08T00:00:00.000000"
        },
        {
         "Close": 0.48598799109458923,
         "trend_aroon_up": 4,
         "trend_aroon_down": 64,
         "_deepnote_index_column": "2021-03-09T00:00:00.000000"
        },
        {
         "Close": 0.4631659984588623,
         "trend_aroon_up": 4,
         "trend_aroon_down": 60,
         "_deepnote_index_column": "2021-03-10T00:00:00.000000"
        },
        {
         "Close": 0.4529600143432617,
         "trend_aroon_up": 32,
         "trend_aroon_down": 56.00000000000001,
         "_deepnote_index_column": "2021-03-11T00:00:00.000000"
        },
        {
         "Close": 0.44113099575042725,
         "trend_aroon_up": 28.000000000000004,
         "trend_aroon_down": 52,
         "_deepnote_index_column": "2021-03-12T00:00:00.000000"
        },
        {
         "Close": 0.45992401242256165,
         "trend_aroon_up": 24,
         "trend_aroon_down": 48,
         "_deepnote_index_column": "2021-03-13T00:00:00.000000"
        },
        {
         "Close": 0.442111998796463,
         "trend_aroon_up": 20,
         "trend_aroon_down": 44,
         "_deepnote_index_column": "2021-03-14T00:00:00.000000"
        },
        {
         "Close": 0.4375549852848053,
         "trend_aroon_up": 16,
         "trend_aroon_down": 40,
         "_deepnote_index_column": "2021-03-15T00:00:00.000000"
        },
        {
         "Close": 0.4625999927520752,
         "trend_aroon_up": 12,
         "trend_aroon_down": 36,
         "_deepnote_index_column": "2021-03-16T00:00:00.000000"
        },
        {
         "Close": 0.4724169969558716,
         "trend_aroon_up": 8,
         "trend_aroon_down": 32,
         "_deepnote_index_column": "2021-03-17T00:00:00.000000"
        },
        {
         "Close": 0.4729189872741699,
         "trend_aroon_up": 4,
         "trend_aroon_down": 28.000000000000004,
         "_deepnote_index_column": "2021-03-18T00:00:00.000000"
        },
        {
         "Close": 0.47117099165916443,
         "trend_aroon_up": 40,
         "trend_aroon_down": 24,
         "_deepnote_index_column": "2021-03-19T00:00:00.000000"
        },
        {
         "Close": 0.5269910097122192,
         "trend_aroon_up": 100,
         "trend_aroon_down": 20,
         "_deepnote_index_column": "2021-03-20T00:00:00.000000"
        },
        {
         "Close": 0.5198349952697754,
         "trend_aroon_up": 96,
         "trend_aroon_down": 16,
         "_deepnote_index_column": "2021-03-21T00:00:00.000000"
        },
        {
         "Close": 0.5499420166015625,
         "trend_aroon_up": 100,
         "trend_aroon_down": 12,
         "_deepnote_index_column": "2021-03-22T00:00:00.000000"
        },
        {
         "Close": 0.5565950274467468,
         "trend_aroon_up": 100,
         "trend_aroon_down": 8,
         "_deepnote_index_column": "2021-03-23T00:00:00.000000"
        },
        {
         "Close": 0.48883700370788574,
         "trend_aroon_up": 96,
         "trend_aroon_down": 4,
         "_deepnote_index_column": "2021-03-24T00:00:00.000000"
        },
        {
         "Close": 0.5174980163574219,
         "trend_aroon_up": 92,
         "trend_aroon_down": 8,
         "_deepnote_index_column": "2021-03-25T00:00:00.000000"
        },
        {
         "Close": 0.5670549869537354,
         "trend_aroon_up": 100,
         "trend_aroon_down": 4,
         "_deepnote_index_column": "2021-03-26T00:00:00.000000"
        },
        {
         "Close": 0.5504429936408997,
         "trend_aroon_up": 96,
         "trend_aroon_down": 52,
         "_deepnote_index_column": "2021-03-27T00:00:00.000000"
        },
        {
         "Close": 0.5507559776306152,
         "trend_aroon_up": 92,
         "trend_aroon_down": 48,
         "_deepnote_index_column": "2021-03-28T00:00:00.000000"
        },
        {
         "Close": 0.5678709745407104,
         "trend_aroon_up": 100,
         "trend_aroon_down": 44,
         "_deepnote_index_column": "2021-03-29T00:00:00.000000"
        },
        {
         "Close": 0.5668590068817139,
         "trend_aroon_up": 96,
         "trend_aroon_down": 40,
         "_deepnote_index_column": "2021-03-30T00:00:00.000000"
        },
        {
         "Close": 0.573868989944458,
         "trend_aroon_up": 100,
         "trend_aroon_down": 36,
         "_deepnote_index_column": "2021-03-31T00:00:00.000000"
        },
        {
         "Close": 0.5792919993400574,
         "trend_aroon_up": 100,
         "trend_aroon_down": 32,
         "_deepnote_index_column": "2021-04-01T00:00:00.000000"
        },
        {
         "Close": 0.6165689826011658,
         "trend_aroon_up": 100,
         "trend_aroon_down": 28.000000000000004,
         "_deepnote_index_column": "2021-04-02T00:00:00.000000"
        },
        {
         "Close": 0.5909150242805481,
         "trend_aroon_up": 96,
         "trend_aroon_down": 24,
         "_deepnote_index_column": "2021-04-03T00:00:00.000000"
        },
        {
         "Close": 0.6467289924621582,
         "trend_aroon_up": 100,
         "trend_aroon_down": 20,
         "_deepnote_index_column": "2021-04-04T00:00:00.000000"
        },
        {
         "Close": 0.9204729795455933,
         "trend_aroon_up": 100,
         "trend_aroon_down": 16,
         "_deepnote_index_column": "2021-04-05T00:00:00.000000"
        },
        {
         "Close": 1.0962660312652588,
         "trend_aroon_up": 100,
         "trend_aroon_down": 12,
         "_deepnote_index_column": "2021-04-06T00:00:00.000000"
        },
        {
         "Close": 0.917576014995575,
         "trend_aroon_up": 96,
         "trend_aroon_down": 8,
         "_deepnote_index_column": "2021-04-07T00:00:00.000000"
        },
        {
         "Close": 1.0527559518814087,
         "trend_aroon_up": 92,
         "trend_aroon_down": 4,
         "_deepnote_index_column": "2021-04-08T00:00:00.000000"
        },
        {
         "Close": 1.0208369493484497,
         "trend_aroon_up": 88,
         "trend_aroon_down": 4,
         "_deepnote_index_column": "2021-04-09T00:00:00.000000"
        },
        {
         "Close": 1.3744159936904907,
         "trend_aroon_up": 100,
         "trend_aroon_down": 12,
         "_deepnote_index_column": "2021-04-10T00:00:00.000000"
        },
        {
         "Close": 1.3605300188064575,
         "trend_aroon_up": 96,
         "trend_aroon_down": 8,
         "_deepnote_index_column": "2021-04-11T00:00:00.000000"
        },
        {
         "Close": 1.4677350521087646,
         "trend_aroon_up": 100,
         "trend_aroon_down": 4,
         "_deepnote_index_column": "2021-04-12T00:00:00.000000"
        },
        {
         "Close": 1.7940009832382202,
         "trend_aroon_up": 100,
         "trend_aroon_down": 20,
         "_deepnote_index_column": "2021-04-13T00:00:00.000000"
        },
        {
         "Close": 1.8392360210418701,
         "trend_aroon_up": 100,
         "trend_aroon_down": 16,
         "_deepnote_index_column": "2021-04-14T00:00:00.000000"
        },
        {
         "Close": 1.7660670280456543,
         "trend_aroon_up": 96,
         "trend_aroon_down": 12,
         "_deepnote_index_column": "2021-04-15T00:00:00.000000"
        },
        {
         "Close": 1.55752694606781,
         "trend_aroon_up": 92,
         "trend_aroon_down": 8,
         "_deepnote_index_column": "2021-04-16T00:00:00.000000"
        },
        {
         "Close": 1.5600550174713135,
         "trend_aroon_up": 88,
         "trend_aroon_down": 4,
         "_deepnote_index_column": "2021-04-17T00:00:00.000000"
        },
        {
         "Close": 1.4059979915618896,
         "trend_aroon_up": 84,
         "trend_aroon_down": 4,
         "_deepnote_index_column": "2021-04-18T00:00:00.000000"
        },
        {
         "Close": 1.3150440454483032,
         "trend_aroon_up": 80,
         "trend_aroon_down": 8,
         "_deepnote_index_column": "2021-04-19T00:00:00.000000"
        },
        {
         "Close": 1.3832989931106567,
         "trend_aroon_up": 76,
         "trend_aroon_down": 4,
         "_deepnote_index_column": "2021-04-20T00:00:00.000000"
        },
        {
         "Close": 1.2964979410171509,
         "trend_aroon_up": 72,
         "trend_aroon_down": 4,
         "_deepnote_index_column": "2021-04-21T00:00:00.000000"
        },
        {
         "Close": 1.159682035446167,
         "trend_aroon_up": 68,
         "trend_aroon_down": 8,
         "_deepnote_index_column": "2021-04-22T00:00:00.000000"
        },
        {
         "Close": 1.169659972190857,
         "trend_aroon_up": 64,
         "trend_aroon_down": 4,
         "_deepnote_index_column": "2021-04-23T00:00:00.000000"
        },
        {
         "Close": 1.0487060546875,
         "trend_aroon_up": 60,
         "trend_aroon_down": 4,
         "_deepnote_index_column": "2021-04-24T00:00:00.000000"
        },
        {
         "Close": 1.032256007194519,
         "trend_aroon_up": 56.00000000000001,
         "trend_aroon_down": 4,
         "_deepnote_index_column": "2021-04-25T00:00:00.000000"
        },
        {
         "Close": 1.3685059547424316,
         "trend_aroon_up": 52,
         "trend_aroon_down": 8,
         "_deepnote_index_column": "2021-04-26T00:00:00.000000"
        },
        {
         "Close": 1.4009549617767334,
         "trend_aroon_up": 48,
         "trend_aroon_down": 4,
         "_deepnote_index_column": "2021-04-27T00:00:00.000000"
        },
        {
         "Close": 1.3586009740829468,
         "trend_aroon_up": 44,
         "trend_aroon_down": 4,
         "_deepnote_index_column": "2021-04-28T00:00:00.000000"
        },
        {
         "Close": 1.399359941482544,
         "trend_aroon_up": 40,
         "trend_aroon_down": 12,
         "_deepnote_index_column": "2021-04-29T00:00:00.000000"
        },
        {
         "Close": 1.5916739702224731,
         "trend_aroon_up": 36,
         "trend_aroon_down": 8,
         "_deepnote_index_column": "2021-04-30T00:00:00.000000"
        },
        {
         "Close": 1.6510250568389893,
         "trend_aroon_up": 32,
         "trend_aroon_down": 4,
         "_deepnote_index_column": "2021-05-01T00:00:00.000000"
        },
        {
         "Close": 1.5626410245895386,
         "trend_aroon_up": 28.000000000000004,
         "trend_aroon_down": 8,
         "_deepnote_index_column": "2021-05-02T00:00:00.000000"
        },
        {
         "Close": 1.555994987487793,
         "trend_aroon_up": 24,
         "trend_aroon_down": 4,
         "_deepnote_index_column": "2021-05-03T00:00:00.000000"
        },
        {
         "Close": 1.3923759460449219,
         "trend_aroon_up": 20,
         "trend_aroon_down": 64,
         "_deepnote_index_column": "2021-05-04T00:00:00.000000"
        },
        {
         "Close": 1.6145119667053223,
         "trend_aroon_up": 16,
         "trend_aroon_down": 60,
         "_deepnote_index_column": "2021-05-05T00:00:00.000000"
        },
        {
         "Close": 1.6005810499191284,
         "trend_aroon_up": 12,
         "trend_aroon_down": 56.00000000000001,
         "_deepnote_index_column": "2021-05-06T00:00:00.000000"
        },
        {
         "Close": 1.5817550420761108,
         "trend_aroon_up": 8,
         "trend_aroon_down": 52,
         "_deepnote_index_column": "2021-05-07T00:00:00.000000"
        },
        {
         "Close": 1.5625979900360107,
         "trend_aroon_up": 4,
         "trend_aroon_down": 48,
         "_deepnote_index_column": "2021-05-08T00:00:00.000000"
        },
        {
         "Close": 1.5352929830551147,
         "trend_aroon_up": 4,
         "trend_aroon_down": 44,
         "_deepnote_index_column": "2021-05-09T00:00:00.000000"
        },
        {
         "Close": 1.3890060186386108,
         "trend_aroon_up": 64,
         "trend_aroon_down": 40,
         "_deepnote_index_column": "2021-05-10T00:00:00.000000"
        },
        {
         "Close": 1.4776819944381714,
         "trend_aroon_up": 60,
         "trend_aroon_down": 36,
         "_deepnote_index_column": "2021-05-11T00:00:00.000000"
        },
        {
         "Close": 1.247864007949829,
         "trend_aroon_up": 56.00000000000001,
         "trend_aroon_down": 32,
         "_deepnote_index_column": "2021-05-12T00:00:00.000000"
        },
        {
         "Close": 1.3589099645614624,
         "trend_aroon_up": 52,
         "trend_aroon_down": 28.000000000000004,
         "_deepnote_index_column": "2021-05-13T00:00:00.000000"
        },
        {
         "Close": 1.4029170274734497,
         "trend_aroon_up": 48,
         "trend_aroon_down": 24,
         "_deepnote_index_column": "2021-05-14T00:00:00.000000"
        },
        {
         "Close": 1.4858800172805786,
         "trend_aroon_up": 44,
         "trend_aroon_down": 20,
         "_deepnote_index_column": "2021-05-15T00:00:00.000000"
        },
        {
         "Close": 1.452605962753296,
         "trend_aroon_up": 40,
         "trend_aroon_down": 16,
         "_deepnote_index_column": "2021-05-16T00:00:00.000000"
        },
        {
         "Close": 1.4962999820709229,
         "trend_aroon_up": 36,
         "trend_aroon_down": 12,
         "_deepnote_index_column": "2021-05-17T00:00:00.000000"
        },
        {
         "Close": 1.5907340049743652,
         "trend_aroon_up": 32,
         "trend_aroon_down": 8,
         "_deepnote_index_column": "2021-05-18T00:00:00.000000"
        },
        {
         "Close": 1.0703129768371582,
         "trend_aroon_up": 28.000000000000004,
         "trend_aroon_down": 4,
         "_deepnote_index_column": "2021-05-19T00:00:00.000000"
        },
        {
         "Close": 1.1855369806289673,
         "trend_aroon_up": 24,
         "trend_aroon_down": 96,
         "_deepnote_index_column": "2021-05-20T00:00:00.000000"
        },
        {
         "Close": 1.0069760084152222,
         "trend_aroon_up": 20,
         "trend_aroon_down": 100,
         "_deepnote_index_column": "2021-05-21T00:00:00.000000"
        },
        {
         "Close": 0.9063169956207275,
         "trend_aroon_up": 16,
         "trend_aroon_down": 100,
         "_deepnote_index_column": "2021-05-22T00:00:00.000000"
        },
        {
         "Close": 0.7970150113105774,
         "trend_aroon_up": 12,
         "trend_aroon_down": 100,
         "_deepnote_index_column": "2021-05-23T00:00:00.000000"
        },
        {
         "Close": 0.9928349852561951,
         "trend_aroon_up": 8,
         "trend_aroon_down": 96,
         "_deepnote_index_column": "2021-05-24T00:00:00.000000"
        },
        {
         "Close": 0.976186990737915,
         "trend_aroon_up": 4,
         "trend_aroon_down": 92,
         "_deepnote_index_column": "2021-05-25T00:00:00.000000"
        },
        {
         "Close": 1.0337250232696533,
         "trend_aroon_up": 16,
         "trend_aroon_down": 88,
         "_deepnote_index_column": "2021-05-26T00:00:00.000000"
        },
        {
         "Close": 0.9702349901199341,
         "trend_aroon_up": 12,
         "trend_aroon_down": 84,
         "_deepnote_index_column": "2021-05-27T00:00:00.000000"
        },
        {
         "Close": 0.9001479744911194,
         "trend_aroon_up": 8,
         "trend_aroon_down": 80,
         "_deepnote_index_column": "2021-05-28T00:00:00.000000"
        },
        {
         "Close": 0.8317880034446716,
         "trend_aroon_up": 4,
         "trend_aroon_down": 76,
         "_deepnote_index_column": "2021-05-29T00:00:00.000000"
        },
        {
         "Close": 0.9066089987754822,
         "trend_aroon_up": 4,
         "trend_aroon_down": 72,
         "_deepnote_index_column": "2021-05-30T00:00:00.000000"
        },
        {
         "Close": 1.0465840101242065,
         "trend_aroon_up": 48,
         "trend_aroon_down": 68,
         "_deepnote_index_column": "2021-05-31T00:00:00.000000"
        },
        {
         "Close": 1.0110009908676147,
         "trend_aroon_up": 44,
         "trend_aroon_down": 64,
         "_deepnote_index_column": "2021-06-01T00:00:00.000000"
        },
        {
         "Close": 1.024399995803833,
         "trend_aroon_up": 40,
         "trend_aroon_down": 60,
         "_deepnote_index_column": "2021-06-02T00:00:00.000000"
        },
        {
         "Close": 1.045320987701416,
         "trend_aroon_up": 36,
         "trend_aroon_down": 56.00000000000001,
         "_deepnote_index_column": "2021-06-03T00:00:00.000000"
        },
        {
         "Close": 0.970196008682251,
         "trend_aroon_up": 32,
         "trend_aroon_down": 52,
         "_deepnote_index_column": "2021-06-04T00:00:00.000000"
        },
        {
         "Close": 0.9232860207557678,
         "trend_aroon_up": 28.000000000000004,
         "trend_aroon_down": 48,
         "_deepnote_index_column": "2021-06-05T00:00:00.000000"
        },
        {
         "Close": 0.945285975933075,
         "trend_aroon_up": 24,
         "trend_aroon_down": 44,
         "_deepnote_index_column": "2021-06-06T00:00:00.000000"
        },
        {
         "Close": 0.8611549735069275,
         "trend_aroon_up": 20,
         "trend_aroon_down": 40,
         "_deepnote_index_column": "2021-06-07T00:00:00.000000"
        },
        {
         "Close": 0.8757879734039307,
         "trend_aroon_up": 16,
         "trend_aroon_down": 36,
         "_deepnote_index_column": "2021-06-08T00:00:00.000000"
        },
        {
         "Close": 0.9200339913368225,
         "trend_aroon_up": 12,
         "trend_aroon_down": 32,
         "_deepnote_index_column": "2021-06-09T00:00:00.000000"
        },
        {
         "Close": 0.8691819906234741,
         "trend_aroon_up": 8,
         "trend_aroon_down": 28.000000000000004,
         "_deepnote_index_column": "2021-06-10T00:00:00.000000"
        },
        {
         "Close": 0.8484500050544739,
         "trend_aroon_up": 4,
         "trend_aroon_down": 24,
         "_deepnote_index_column": "2021-06-11T00:00:00.000000"
        },
        {
         "Close": 0.8326830267906189,
         "trend_aroon_up": 8,
         "trend_aroon_down": 20,
         "_deepnote_index_column": "2021-06-12T00:00:00.000000"
        },
        {
         "Close": 0.8831599950790405,
         "trend_aroon_up": 4,
         "trend_aroon_down": 16,
         "_deepnote_index_column": "2021-06-13T00:00:00.000000"
        },
        {
         "Close": 0.8928970098495483,
         "trend_aroon_up": 44,
         "trend_aroon_down": 12,
         "_deepnote_index_column": "2021-06-14T00:00:00.000000"
        },
        {
         "Close": 0.8898000121116638,
         "trend_aroon_up": 40,
         "trend_aroon_down": 8,
         "_deepnote_index_column": "2021-06-15T00:00:00.000000"
        },
        {
         "Close": 0.8319079875946045,
         "trend_aroon_up": 36,
         "trend_aroon_down": 4,
         "_deepnote_index_column": "2021-06-16T00:00:00.000000"
        },
        {
         "Close": 0.8414379954338074,
         "trend_aroon_up": 32,
         "trend_aroon_down": 24,
         "_deepnote_index_column": "2021-06-17T00:00:00.000000"
        },
        {
         "Close": 0.797648012638092,
         "trend_aroon_up": 28.000000000000004,
         "trend_aroon_down": 100,
         "_deepnote_index_column": "2021-06-18T00:00:00.000000"
        },
        {
         "Close": 0.7616729736328125,
         "trend_aroon_up": 24,
         "trend_aroon_down": 100,
         "_deepnote_index_column": "2021-06-19T00:00:00.000000"
        },
        {
         "Close": 0.7763770222663879,
         "trend_aroon_up": 20,
         "trend_aroon_down": 96,
         "_deepnote_index_column": "2021-06-20T00:00:00.000000"
        },
        {
         "Close": 0.6103879809379578,
         "trend_aroon_up": 16,
         "trend_aroon_down": 100,
         "_deepnote_index_column": "2021-06-21T00:00:00.000000"
        },
        {
         "Close": 0.5450670123100281,
         "trend_aroon_up": 12,
         "trend_aroon_down": 100,
         "_deepnote_index_column": "2021-06-22T00:00:00.000000"
        },
        {
         "Close": 0.6265349984169006,
         "trend_aroon_up": 8,
         "trend_aroon_down": 96,
         "_deepnote_index_column": "2021-06-23T00:00:00.000000"
        },
        {
         "Close": 0.671999990940094,
         "trend_aroon_up": 4,
         "trend_aroon_down": 92,
         "_deepnote_index_column": "2021-06-24T00:00:00.000000"
        },
        {
         "Close": 0.6133229732513428,
         "trend_aroon_up": 12,
         "trend_aroon_down": 88,
         "_deepnote_index_column": "2021-06-25T00:00:00.000000"
        },
        {
         "Close": 0.615435004234314,
         "trend_aroon_up": 8,
         "trend_aroon_down": 84,
         "_deepnote_index_column": "2021-06-26T00:00:00.000000"
        },
        {
         "Close": 0.6469230055809021,
         "trend_aroon_up": 4,
         "trend_aroon_down": 80,
         "_deepnote_index_column": "2021-06-27T00:00:00.000000"
        },
        {
         "Close": 0.643746018409729,
         "trend_aroon_up": 4,
         "trend_aroon_down": 76,
         "_deepnote_index_column": "2021-06-28T00:00:00.000000"
        },
        {
         "Close": 0.7017250061035156,
         "trend_aroon_up": 8,
         "trend_aroon_down": 72,
         "_deepnote_index_column": "2021-06-29T00:00:00.000000"
        },
        {
         "Close": 0.7063739895820618,
         "trend_aroon_up": 4,
         "trend_aroon_down": 68,
         "_deepnote_index_column": "2021-06-30T00:00:00.000000"
        },
        {
         "Close": 0.6611800193786621,
         "trend_aroon_up": 12,
         "trend_aroon_down": 64,
         "_deepnote_index_column": "2021-07-01T00:00:00.000000"
        },
        {
         "Close": 0.6567630171775818,
         "trend_aroon_up": 8,
         "trend_aroon_down": 60,
         "_deepnote_index_column": "2021-07-02T00:00:00.000000"
        },
        {
         "Close": 0.6728879809379578,
         "trend_aroon_up": 4,
         "trend_aroon_down": 56.00000000000001,
         "_deepnote_index_column": "2021-07-03T00:00:00.000000"
        },
        {
         "Close": 0.6949449777603149,
         "trend_aroon_up": 20,
         "trend_aroon_down": 52,
         "_deepnote_index_column": "2021-07-04T00:00:00.000000"
        },
        {
         "Close": 0.6542999744415283,
         "trend_aroon_up": 16,
         "trend_aroon_down": 48,
         "_deepnote_index_column": "2021-07-05T00:00:00.000000"
        },
        {
         "Close": 0.6654019951820374,
         "trend_aroon_up": 12,
         "trend_aroon_down": 44,
         "_deepnote_index_column": "2021-07-06T00:00:00.000000"
        },
        {
         "Close": 0.6515750288963318,
         "trend_aroon_up": 8,
         "trend_aroon_down": 40,
         "_deepnote_index_column": "2021-07-07T00:00:00.000000"
        },
        {
         "Close": 0.623058021068573,
         "trend_aroon_up": 4,
         "trend_aroon_down": 36,
         "_deepnote_index_column": "2021-07-08T00:00:00.000000"
        },
        {
         "Close": 0.6368039846420288,
         "trend_aroon_up": 4,
         "trend_aroon_down": 32,
         "_deepnote_index_column": "2021-07-09T00:00:00.000000"
        },
        {
         "Close": 0.6254630088806152,
         "trend_aroon_up": 8,
         "trend_aroon_down": 28.000000000000004,
         "_deepnote_index_column": "2021-07-10T00:00:00.000000"
        },
        {
         "Close": 0.6359350085258484,
         "trend_aroon_up": 4,
         "trend_aroon_down": 24,
         "_deepnote_index_column": "2021-07-11T00:00:00.000000"
        },
        {
         "Close": 0.6301779747009277,
         "trend_aroon_up": 4,
         "trend_aroon_down": 20,
         "_deepnote_index_column": "2021-07-12T00:00:00.000000"
        },
        {
         "Close": 0.6195229887962341,
         "trend_aroon_up": 8,
         "trend_aroon_down": 16,
         "_deepnote_index_column": "2021-07-13T00:00:00.000000"
        },
        {
         "Close": 0.6203240156173706,
         "trend_aroon_up": 4,
         "trend_aroon_down": 12,
         "_deepnote_index_column": "2021-07-14T00:00:00.000000"
        },
        {
         "Close": 0.5969409942626953,
         "trend_aroon_up": 40,
         "trend_aroon_down": 8,
         "_deepnote_index_column": "2021-07-15T00:00:00.000000"
        },
        {
         "Close": 0.5907739996910095,
         "trend_aroon_up": 36,
         "trend_aroon_down": 4,
         "_deepnote_index_column": "2021-07-16T00:00:00.000000"
        },
        {
         "Close": 0.582427978515625,
         "trend_aroon_up": 32,
         "trend_aroon_down": 100,
         "_deepnote_index_column": "2021-07-17T00:00:00.000000"
        },
        {
         "Close": 0.5879219770431519,
         "trend_aroon_up": 28.000000000000004,
         "trend_aroon_down": 96,
         "_deepnote_index_column": "2021-07-18T00:00:00.000000"
        },
        {
         "Close": 0.5575559735298157,
         "trend_aroon_up": 24,
         "trend_aroon_down": 100,
         "_deepnote_index_column": "2021-07-19T00:00:00.000000"
        },
        {
         "Close": 0.5293359756469727,
         "trend_aroon_up": 20,
         "trend_aroon_down": 100,
         "_deepnote_index_column": "2021-07-20T00:00:00.000000"
        },
        {
         "Close": 0.569998025894165,
         "trend_aroon_up": 16,
         "trend_aroon_down": 96,
         "_deepnote_index_column": "2021-07-21T00:00:00.000000"
        },
        {
         "Close": 0.5922060012817383,
         "trend_aroon_up": 12,
         "trend_aroon_down": 92,
         "_deepnote_index_column": "2021-07-22T00:00:00.000000"
        },
        {
         "Close": 0.6092240214347839,
         "trend_aroon_up": 8,
         "trend_aroon_down": 88,
         "_deepnote_index_column": "2021-07-23T00:00:00.000000"
        },
        {
         "Close": 0.6098269820213318,
         "trend_aroon_up": 4,
         "trend_aroon_down": 84,
         "_deepnote_index_column": "2021-07-24T00:00:00.000000"
        },
        {
         "Close": 0.6063569784164429,
         "trend_aroon_up": 16,
         "trend_aroon_down": 80,
         "_deepnote_index_column": "2021-07-25T00:00:00.000000"
        },
        {
         "Close": 0.6256179809570312,
         "trend_aroon_up": 12,
         "trend_aroon_down": 76,
         "_deepnote_index_column": "2021-07-26T00:00:00.000000"
        },
        {
         "Close": 0.6446040272712708,
         "trend_aroon_up": 8,
         "trend_aroon_down": 72,
         "_deepnote_index_column": "2021-07-27T00:00:00.000000"
        },
        {
         "Close": 0.7254449725151062,
         "trend_aroon_up": 100,
         "trend_aroon_down": 68,
         "_deepnote_index_column": "2021-07-28T00:00:00.000000"
        },
        {
         "Close": 0.7480170130729675,
         "trend_aroon_up": 100,
         "trend_aroon_down": 64,
         "_deepnote_index_column": "2021-07-29T00:00:00.000000"
        },
        {
         "Close": 0.7521190047264099,
         "trend_aroon_up": 100,
         "trend_aroon_down": 60,
         "_deepnote_index_column": "2021-07-30T00:00:00.000000"
        },
        {
         "Close": 0.7477859854698181,
         "trend_aroon_up": 96,
         "trend_aroon_down": 56.00000000000001,
         "_deepnote_index_column": "2021-07-31T00:00:00.000000"
        },
        {
         "Close": 0.7259219884872437,
         "trend_aroon_up": 92,
         "trend_aroon_down": 52,
         "_deepnote_index_column": "2021-08-01T00:00:00.000000"
        },
        {
         "Close": 0.7392200231552124,
         "trend_aroon_up": 88,
         "trend_aroon_down": 48,
         "_deepnote_index_column": "2021-08-02T00:00:00.000000"
        },
        {
         "Close": 0.7127289772033691,
         "trend_aroon_up": 84,
         "trend_aroon_down": 44,
         "_deepnote_index_column": "2021-08-03T00:00:00.000000"
        },
        {
         "Close": 0.7304880023002625,
         "trend_aroon_up": 80,
         "trend_aroon_down": 40,
         "_deepnote_index_column": "2021-08-04T00:00:00.000000"
        },
        {
         "Close": 0.7331510186195374,
         "trend_aroon_up": 76,
         "trend_aroon_down": 36,
         "_deepnote_index_column": "2021-08-05T00:00:00.000000"
        },
        {
         "Close": 0.7465130090713501,
         "trend_aroon_up": 72,
         "trend_aroon_down": 32,
         "_deepnote_index_column": "2021-08-06T00:00:00.000000"
        },
        {
         "Close": 0.8162810206413269,
         "trend_aroon_up": 100,
         "trend_aroon_down": 28.000000000000004,
         "_deepnote_index_column": "2021-08-07T00:00:00.000000"
        },
        {
         "Close": 0.7787389755249023,
         "trend_aroon_up": 96,
         "trend_aroon_down": 24,
         "_deepnote_index_column": "2021-08-08T00:00:00.000000"
        },
        {
         "Close": 0.8185529708862305,
         "trend_aroon_up": 100,
         "trend_aroon_down": 20,
         "_deepnote_index_column": "2021-08-09T00:00:00.000000"
        },
        {
         "Close": 0.8751624822616577,
         "trend_aroon_up": 100,
         "trend_aroon_down": 16,
         "_deepnote_index_column": "2021-08-11T00:00:00.000000"
        }
       ]
      },
      "text/plain": "               Close  trend_aroon_up  trend_aroon_down\nDate                                                  \n2019-09-01  0.258054             NaN               NaN\n2019-09-02  0.260820             NaN               NaN\n2019-09-03  0.263139             NaN               NaN\n2019-09-04  0.259905             NaN               NaN\n2019-09-05  0.256346             NaN               NaN\n...              ...             ...               ...\n2021-08-06  0.746513            72.0              32.0\n2021-08-07  0.816281           100.0              28.0\n2021-08-08  0.778739            96.0              24.0\n2021-08-09  0.818553           100.0              20.0\n2021-08-11  0.875162           100.0              16.0\n\n[706 rows x 3 columns]",
      "text/html": "<div>\n<style scoped>\n    .dataframe tbody tr th:only-of-type {\n        vertical-align: middle;\n    }\n\n    .dataframe tbody tr th {\n        vertical-align: top;\n    }\n\n    .dataframe thead th {\n        text-align: right;\n    }\n</style>\n<table border=\"1\" class=\"dataframe\">\n  <thead>\n    <tr style=\"text-align: right;\">\n      <th></th>\n      <th>Close</th>\n      <th>trend_aroon_up</th>\n      <th>trend_aroon_down</th>\n    </tr>\n    <tr>\n      <th>Date</th>\n      <th></th>\n      <th></th>\n      <th></th>\n    </tr>\n  </thead>\n  <tbody>\n    <tr>\n      <th>2019-09-01</th>\n      <td>0.258054</td>\n      <td>NaN</td>\n      <td>NaN</td>\n    </tr>\n    <tr>\n      <th>2019-09-02</th>\n      <td>0.260820</td>\n      <td>NaN</td>\n      <td>NaN</td>\n    </tr>\n    <tr>\n      <th>2019-09-03</th>\n      <td>0.263139</td>\n      <td>NaN</td>\n      <td>NaN</td>\n    </tr>\n    <tr>\n      <th>2019-09-04</th>\n      <td>0.259905</td>\n      <td>NaN</td>\n      <td>NaN</td>\n    </tr>\n    <tr>\n      <th>2019-09-05</th>\n      <td>0.256346</td>\n      <td>NaN</td>\n      <td>NaN</td>\n    </tr>\n    <tr>\n      <th>...</th>\n      <td>...</td>\n      <td>...</td>\n      <td>...</td>\n    </tr>\n    <tr>\n      <th>2021-08-06</th>\n      <td>0.746513</td>\n      <td>72.0</td>\n      <td>32.0</td>\n    </tr>\n    <tr>\n      <th>2021-08-07</th>\n      <td>0.816281</td>\n      <td>100.0</td>\n      <td>28.0</td>\n    </tr>\n    <tr>\n      <th>2021-08-08</th>\n      <td>0.778739</td>\n      <td>96.0</td>\n      <td>24.0</td>\n    </tr>\n    <tr>\n      <th>2021-08-09</th>\n      <td>0.818553</td>\n      <td>100.0</td>\n      <td>20.0</td>\n    </tr>\n    <tr>\n      <th>2021-08-11</th>\n      <td>0.875162</td>\n      <td>100.0</td>\n      <td>16.0</td>\n    </tr>\n  </tbody>\n</table>\n<p>706 rows × 3 columns</p>\n</div>"
     },
     "metadata": {}
    }
   ],
   "execution_count": 25
  },
  {
   "cell_type": "code",
   "metadata": {
    "tags": [],
    "cell_id": "00003-f1ae5a2f-6a42-4dde-949a-10d25817de01",
    "deepnote_to_be_reexecuted": false,
    "source_hash": "7e6464e6",
    "execution_start": 1628644881861,
    "execution_millis": 965,
    "deepnote_cell_type": "code"
   },
   "source": "df = get_aroon('XRP-USD','2019-09-01')\n\nax1 = plt.subplot2grid((11,1), (0,0), rowspan = 5, colspan = 1)\nax2 = plt.subplot2grid((11,1), (6,0), rowspan = 4, colspan = 1)\nax1.plot(df['Close'], linewidth = 2.5, color = '#2196f3')\nax1.set_title('XRP CLOSE PRICES')\nax2.plot(df['trend_aroon_up'], color = '#26a69a', linewidth = 2, label = 'AROON UP')\nax2.plot(df['trend_aroon_down'], color = '#ef5350', linewidth = 2, label = 'AROON DOWN')\nax2.legend()\nax2.set_title('XRP AROON 25')\nplt.show()",
   "outputs": [
    {
     "name": "stdout",
     "text": "[*********************100%***********************]  1 of 1 completed\n/root/venv/lib/python3.7/site-packages/ta/trend.py:768: RuntimeWarning: invalid value encountered in double_scalars\n  dip[i] = 100 * (self._dip[i] / self._trs[i])\n/root/venv/lib/python3.7/site-packages/ta/trend.py:772: RuntimeWarning: invalid value encountered in double_scalars\n  din[i] = 100 * (self._din[i] / self._trs[i])\n",
     "output_type": "stream"
    },
    {
     "data": {
      "text/plain": "<Figure size 1440x720 with 2 Axes>",
      "image/png": "[encoded data removed]"
     },
     "metadata": {
      "image/png": {
       "width": 1301,
       "height": 582
      }
     },
     "output_type": "display_data"
    }
   ],
   "execution_count": 26
  },
  {
   "cell_type": "code",
   "metadata": {
    "tags": [],
    "cell_id": "00004-646656a6-d011-425c-9c81-e0b74156938d",
    "deepnote_to_be_reexecuted": false,
    "source_hash": "ce792f2e",
    "execution_start": 1628644886626,
    "execution_millis": 580,
    "deepnote_cell_type": "code"
   },
   "source": "# TRADE STRATEGY BASED ON AROON 25\n\ndf = get_aroon('XRP-USD','2019-09-01')\n\ndef implement_aroon_strategy(prices, up, down):\n    buy_price = []\n    sell_price = []\n    aroon_signal = []\n    signal = 0\n    \n    for i in range(len(prices)):\n        if up[i] >= 70 and down[i] <= 30:\n            if signal != 1:\n                buy_price.append(prices[i])\n                sell_price.append(np.nan)\n                signal = 1\n                aroon_signal.append(signal)\n            else:\n                buy_price.append(np.nan)\n                sell_price.append(np.nan)\n                aroon_signal.append(0)\n        elif up[i] <= 30 and down[i] >= 70:\n            if signal != -1:\n                buy_price.append(np.nan)\n                sell_price.append(prices[i])\n                signal = -1\n                aroon_signal.append(signal)\n            else:\n                buy_price.append(np.nan)\n                sell_price.append(np.nan)\n                aroon_signal.append(0)\n        else:\n            buy_price.append(np.nan)\n            sell_price.append(np.nan)\n            aroon_signal.append(0)\n            \n    return buy_price, sell_price, aroon_signal\n\nbuy_price, sell_price, aroon_signal = implement_aroon_strategy(df['Close'], df['trend_aroon_up'], df['trend_aroon_down'])",
   "outputs": [
    {
     "name": "stdout",
     "text": "[*********************100%***********************]  1 of 1 completed\n/root/venv/lib/python3.7/site-packages/ta/trend.py:768: RuntimeWarning: invalid value encountered in double_scalars\n  dip[i] = 100 * (self._dip[i] / self._trs[i])\n/root/venv/lib/python3.7/site-packages/ta/trend.py:772: RuntimeWarning: invalid value encountered in double_scalars\n  din[i] = 100 * (self._din[i] / self._trs[i])\n",
     "output_type": "stream"
    }
   ],
   "execution_count": 27
  },
  {
   "cell_type": "code",
   "metadata": {
    "tags": [],
    "cell_id": "00006-87492c03-f9aa-4267-980f-3845d2248c2b",
    "deepnote_to_be_reexecuted": false,
    "source_hash": "8455e2d0",
    "execution_start": 1628644890844,
    "execution_millis": 961,
    "deepnote_cell_type": "code"
   },
   "source": "# PLOTTING TRADE SIGNALS FOR XRP AROON 25 STRATEGY\ndf = get_aroon('XRP-USD','2019-09-01')\n\nax1 = plt.subplot2grid((11,1), (0,0), rowspan = 5, colspan = 1)\nax2 = plt.subplot2grid((11,1), (6,0), rowspan = 4, colspan = 1)\nax1.plot(df['Close'], linewidth = 2.5, color = '#2196f3')\nax1.plot(df.index, buy_price, marker = '^', color = '#26a69a', markersize = 12)\nax1.plot(df.index, sell_price, marker = 'v', color = '#ef5350', markersize = 12)\nax1.set_title('XRP DAILY CLOSE PRICES')\nax2.plot(df['trend_aroon_up'], color = '#26a69a', linewidth = 2, label = 'AROON UP')\nax2.plot(df['trend_aroon_down'], color = '#ef5350', linewidth = 2, label = 'AROON DOWN')\nax2.legend()\nax2.set_title('XRP AROON 25')\nplt.show()",
   "outputs": [
    {
     "name": "stdout",
     "text": "[*********************100%***********************]  1 of 1 completed\n/root/venv/lib/python3.7/site-packages/ta/trend.py:768: RuntimeWarning: invalid value encountered in double_scalars\n  dip[i] = 100 * (self._dip[i] / self._trs[i])\n/root/venv/lib/python3.7/site-packages/ta/trend.py:772: RuntimeWarning: invalid value encountered in double_scalars\n  din[i] = 100 * (self._din[i] / self._trs[i])\n",
     "output_type": "stream"
    },
    {
     "data": {
      "text/plain": "<Figure size 1440x720 with 2 Axes>",
      "image/png": "[encoded data removed]"
     },
     "metadata": {
      "image/png": {
       "width": 1301,
       "height": 582
      }
     },
     "output_type": "display_data"
    }
   ],
   "execution_count": 28
  },
  {
   "cell_type": "code",
   "metadata": {
    "tags": [],
    "cell_id": "00007-6ccd28e8-3616-41d8-9e47-d53a9b51f063",
    "deepnote_to_be_reexecuted": false,
    "source_hash": "8970a2a2",
    "execution_start": 1628644904540,
    "execution_millis": 629,
    "deepnote_cell_type": "code"
   },
   "source": "# CREATING POSITION FOR XRP BASED ON AROON 25 SIGNALS\nposition = []\n\ndf = get_aroon('XRP-USD', '2019-09-01')\n\nfor i in range(len(aroon_signal)):\n    if aroon_signal[i] > 1:\n        position.append(0)\n    else:\n        position.append(1)\n        \nfor i in range(len(df['Close'])):\n    if aroon_signal[i] == 1:\n        position[i] = 1\n    elif aroon_signal[i] == -1:\n        position[i] = 0\n    else:\n        position[i] = position[i-1]\n        \naroon_up = df['trend_aroon_up']\naroon_down = df['trend_aroon_down']\nclose_price = df['Close']\naroon_signal = pd.DataFrame(aroon_signal).rename(columns = {0:'aroon_signal'}).set_index(df.index)\nposition = pd.DataFrame(position).rename(columns = {0:'aroon_position'}).set_index(df.index)\n\nframes = [close_price, aroon_up, aroon_down, aroon_signal, position]\nstrategy = pd.concat(frames, join = 'inner', axis = 1)\n\nstrategy",
   "outputs": [
    {
     "name": "stdout",
     "text": "[*********************100%***********************]  1 of 1 completed\n/root/venv/lib/python3.7/site-packages/ta/trend.py:768: RuntimeWarning: invalid value encountered in double_scalars\n  dip[i] = 100 * (self._dip[i] / self._trs[i])\n/root/venv/lib/python3.7/site-packages/ta/trend.py:772: RuntimeWarning: invalid value encountered in double_scalars\n  din[i] = 100 * (self._din[i] / self._trs[i])\n",
     "output_type": "stream"
    },
    {
     "output_type": "execute_result",
     "execution_count": 29,
     "data": {
      "application/vnd.deepnote.dataframe.v2+json": {
       "row_count": 706,
       "column_count": 5,
       "columns": [
        {
         "name": "Close",
         "dtype": "float64",
         "stats": {
          "unique_count": 705,
          "nan_count": 0,
          "min": "0.13963499665260315",
          "max": "1.8392360210418701",
          "histogram": [
           {
            "bin_start": 0.13963499665260315,
            "bin_end": 0.3095950990915298,
            "count": 468
           },
           {
            "bin_start": 0.3095950990915298,
            "bin_end": 0.47955520153045655,
            "count": 50
           },
           {
            "bin_start": 0.47955520153045655,
            "bin_end": 0.6495153039693833,
            "count": 85
           },
           {
            "bin_start": 0.6495153039693833,
            "bin_end": 0.81947540640831,
            "count": 29
           },
           {
            "bin_start": 0.81947540640831,
            "bin_end": 0.9894355088472366,
            "count": 23
           },
           {
            "bin_start": 0.9894355088472366,
            "bin_end": 1.1593956112861634,
            "count": 13
           },
           {
            "bin_start": 1.1593956112861634,
            "bin_end": 1.32935571372509,
            "count": 6
           },
           {
            "bin_start": 1.32935571372509,
            "bin_end": 1.4993158161640168,
            "count": 17
           },
           {
            "bin_start": 1.4993158161640168,
            "bin_end": 1.6692759186029436,
            "count": 12
           },
           {
            "bin_start": 1.6692759186029436,
            "bin_end": 1.8392360210418701,
            "count": 3
           }
          ]
         }
        },
        {
         "name": "trend_aroon_up",
         "dtype": "float64",
         "stats": {
          "unique_count": 25,
          "nan_count": 24,
          "min": "4.0",
          "max": "100.0",
          "histogram": [
           {
            "bin_start": 4,
            "bin_end": 13.6,
            "count": 156
           },
           {
            "bin_start": 13.6,
            "bin_end": 23.2,
            "count": 50
           },
           {
            "bin_start": 23.2,
            "bin_end": 32.8,
            "count": 67
           },
           {
            "bin_start": 32.8,
            "bin_end": 42.4,
            "count": 43
           },
           {
            "bin_start": 42.4,
            "bin_end": 52,
            "count": 41
           },
           {
            "bin_start": 52,
            "bin_end": 61.599999999999994,
            "count": 56
           },
           {
            "bin_start": 61.599999999999994,
            "bin_end": 71.2,
            "count": 35
           },
           {
            "bin_start": 71.2,
            "bin_end": 80.8,
            "count": 57
           },
           {
            "bin_start": 80.8,
            "bin_end": 90.39999999999999,
            "count": 39
           },
           {
            "bin_start": 90.39999999999999,
            "bin_end": 100,
            "count": 138
           }
          ]
         }
        },
        {
         "name": "trend_aroon_down",
         "dtype": "float64",
         "stats": {
          "unique_count": 25,
          "nan_count": 24,
          "min": "4.0",
          "max": "100.0",
          "histogram": [
           {
            "bin_start": 4,
            "bin_end": 13.6,
            "count": 193
           },
           {
            "bin_start": 13.6,
            "bin_end": 23.2,
            "count": 51
           },
           {
            "bin_start": 23.2,
            "bin_end": 32.8,
            "count": 61
           },
           {
            "bin_start": 32.8,
            "bin_end": 42.4,
            "count": 39
           },
           {
            "bin_start": 42.4,
            "bin_end": 52,
            "count": 37
           },
           {
            "bin_start": 52,
            "bin_end": 61.599999999999994,
            "count": 54
           },
           {
            "bin_start": 61.599999999999994,
            "bin_end": 71.2,
            "count": 35
           },
           {
            "bin_start": 71.2,
            "bin_end": 80.8,
            "count": 57
           },
           {
            "bin_start": 80.8,
            "bin_end": 90.39999999999999,
            "count": 43
           },
           {
            "bin_start": 90.39999999999999,
            "bin_end": 100,
            "count": 112
           }
          ]
         }
        },
        {
         "name": "aroon_signal",
         "dtype": "int64",
         "stats": {
          "unique_count": 3,
          "nan_count": 0,
          "min": "-1",
          "max": "1",
          "histogram": [
           {
            "bin_start": -1,
            "bin_end": -0.8,
            "count": 7
           },
           {
            "bin_start": -0.8,
            "bin_end": -0.6,
            "count": 0
           },
           {
            "bin_start": -0.6,
            "bin_end": -0.3999999999999999,
            "count": 0
           },
           {
            "bin_start": -0.3999999999999999,
            "bin_end": -0.19999999999999996,
            "count": 0
           },
           {
            "bin_start": -0.19999999999999996,
            "bin_end": 0,
            "count": 0
           },
           {
            "bin_start": 0,
            "bin_end": 0.20000000000000018,
            "count": 691
           },
           {
            "bin_start": 0.20000000000000018,
            "bin_end": 0.40000000000000013,
            "count": 0
           },
           {
            "bin_start": 0.40000000000000013,
            "bin_end": 0.6000000000000001,
            "count": 0
           },
           {
            "bin_start": 0.6000000000000001,
            "bin_end": 0.8,
            "count": 0
           },
           {
            "bin_start": 0.8,
            "bin_end": 1,
            "count": 8
           }
          ]
         }
        },
        {
         "name": "aroon_position",
         "dtype": "int64",
         "stats": {
          "unique_count": 2,
          "nan_count": 0,
          "min": "0",
          "max": "1",
          "histogram": [
           {
            "bin_start": 0,
            "bin_end": 0.1,
            "count": 311
           },
           {
            "bin_start": 0.1,
            "bin_end": 0.2,
            "count": 0
           },
           {
            "bin_start": 0.2,
            "bin_end": 0.30000000000000004,
            "count": 0
           },
           {
            "bin_start": 0.30000000000000004,
            "bin_end": 0.4,
            "count": 0
           },
           {
            "bin_start": 0.4,
            "bin_end": 0.5,
            "count": 0
           },
           {
            "bin_start": 0.5,
            "bin_end": 0.6000000000000001,
            "count": 0
           },
           {
            "bin_start": 0.6000000000000001,
            "bin_end": 0.7000000000000001,
            "count": 0
           },
           {
            "bin_start": 0.7000000000000001,
            "bin_end": 0.8,
            "count": 0
           },
           {
            "bin_start": 0.8,
            "bin_end": 0.9,
            "count": 0
           },
           {
            "bin_start": 0.9,
            "bin_end": 1,
            "count": 395
           }
          ]
         }
        },
        {
         "name": "_deepnote_index_column",
         "dtype": "datetime64[ns]"
        }
       ],
       "rows_top": [
        {
         "Close": 0.2580539882183075,
         "trend_aroon_up": "nan",
         "trend_aroon_down": "nan",
         "aroon_signal": 0,
         "aroon_position": 1,
         "_deepnote_index_column": "2019-09-01T00:00:00.000000"
        },
        {
         "Close": 0.2608200013637543,
         "trend_aroon_up": "nan",
         "trend_aroon_down": "nan",
         "aroon_signal": 0,
         "aroon_position": 1,
         "_deepnote_index_column": "2019-09-02T00:00:00.000000"
        },
        {
         "Close": 0.263139009475708,
         "trend_aroon_up": "nan",
         "trend_aroon_down": "nan",
         "aroon_signal": 0,
         "aroon_position": 1,
         "_deepnote_index_column": "2019-09-03T00:00:00.000000"
        },
        {
         "Close": 0.25990501046180725,
         "trend_aroon_up": "nan",
         "trend_aroon_down": "nan",
         "aroon_signal": 0,
         "aroon_position": 1,
         "_deepnote_index_column": "2019-09-04T00:00:00.000000"
        },
        {
         "Close": 0.2563459873199463,
         "trend_aroon_up": "nan",
         "trend_aroon_down": "nan",
         "aroon_signal": 0,
         "aroon_position": 1,
         "_deepnote_index_column": "2019-09-05T00:00:00.000000"
        },
        {
         "Close": 0.2523399889469147,
         "trend_aroon_up": "nan",
         "trend_aroon_down": "nan",
         "aroon_signal": 0,
         "aroon_position": 1,
         "_deepnote_index_column": "2019-09-06T00:00:00.000000"
        },
        {
         "Close": 0.260686993598938,
         "trend_aroon_up": "nan",
         "trend_aroon_down": "nan",
         "aroon_signal": 0,
         "aroon_position": 1,
         "_deepnote_index_column": "2019-09-07T00:00:00.000000"
        },
        {
         "Close": 0.2630839943885803,
         "trend_aroon_up": "nan",
         "trend_aroon_down": "nan",
         "aroon_signal": 0,
         "aroon_position": 1,
         "_deepnote_index_column": "2019-09-08T00:00:00.000000"
        },
        {
         "Close": 0.2595619857311249,
         "trend_aroon_up": "nan",
         "trend_aroon_down": "nan",
         "aroon_signal": 0,
         "aroon_position": 1,
         "_deepnote_index_column": "2019-09-09T00:00:00.000000"
        },
        {
         "Close": 0.25867098569869995,
         "trend_aroon_up": "nan",
         "trend_aroon_down": "nan",
         "aroon_signal": 0,
         "aroon_position": 1,
         "_deepnote_index_column": "2019-09-10T00:00:00.000000"
        },
        {
         "Close": 0.2559559941291809,
         "trend_aroon_up": "nan",
         "trend_aroon_down": "nan",
         "aroon_signal": 0,
         "aroon_position": 1,
         "_deepnote_index_column": "2019-09-11T00:00:00.000000"
        },
        {
         "Close": 0.25481098890304565,
         "trend_aroon_up": "nan",
         "trend_aroon_down": "nan",
         "aroon_signal": 0,
         "aroon_position": 1,
         "_deepnote_index_column": "2019-09-12T00:00:00.000000"
        },
        {
         "Close": 0.2555510103702545,
         "trend_aroon_up": "nan",
         "trend_aroon_down": "nan",
         "aroon_signal": 0,
         "aroon_position": 1,
         "_deepnote_index_column": "2019-09-13T00:00:00.000000"
        },
        {
         "Close": 0.2611669898033142,
         "trend_aroon_up": "nan",
         "trend_aroon_down": "nan",
         "aroon_signal": 0,
         "aroon_position": 1,
         "_deepnote_index_column": "2019-09-14T00:00:00.000000"
        },
        {
         "Close": 0.26162800192832947,
         "trend_aroon_up": "nan",
         "trend_aroon_down": "nan",
         "aroon_signal": 0,
         "aroon_position": 1,
         "_deepnote_index_column": "2019-09-15T00:00:00.000000"
        },
        {
         "Close": 0.2609519958496094,
         "trend_aroon_up": "nan",
         "trend_aroon_down": "nan",
         "aroon_signal": 0,
         "aroon_position": 1,
         "_deepnote_index_column": "2019-09-16T00:00:00.000000"
        },
        {
         "Close": 0.28501299023628235,
         "trend_aroon_up": "nan",
         "trend_aroon_down": "nan",
         "aroon_signal": 0,
         "aroon_position": 1,
         "_deepnote_index_column": "2019-09-17T00:00:00.000000"
        },
        {
         "Close": 0.3137759864330292,
         "trend_aroon_up": "nan",
         "trend_aroon_down": "nan",
         "aroon_signal": 0,
         "aroon_position": 1,
         "_deepnote_index_column": "2019-09-18T00:00:00.000000"
        },
        {
         "Close": 0.3024410009384155,
         "trend_aroon_up": "nan",
         "trend_aroon_down": "nan",
         "aroon_signal": 0,
         "aroon_position": 1,
         "_deepnote_index_column": "2019-09-19T00:00:00.000000"
        },
        {
         "Close": 0.29447001218795776,
         "trend_aroon_up": "nan",
         "trend_aroon_down": "nan",
         "aroon_signal": 0,
         "aroon_position": 1,
         "_deepnote_index_column": "2019-09-20T00:00:00.000000"
        },
        {
         "Close": 0.2894429862499237,
         "trend_aroon_up": "nan",
         "trend_aroon_down": "nan",
         "aroon_signal": 0,
         "aroon_position": 1,
         "_deepnote_index_column": "2019-09-21T00:00:00.000000"
        },
        {
         "Close": 0.27893099188804626,
         "trend_aroon_up": "nan",
         "trend_aroon_down": "nan",
         "aroon_signal": 0,
         "aroon_position": 1,
         "_deepnote_index_column": "2019-09-22T00:00:00.000000"
        },
        {
         "Close": 0.2686749994754791,
         "trend_aroon_up": "nan",
         "trend_aroon_down": "nan",
         "aroon_signal": 0,
         "aroon_position": 1,
         "_deepnote_index_column": "2019-09-23T00:00:00.000000"
        },
        {
         "Close": 0.23522600531578064,
         "trend_aroon_up": "nan",
         "trend_aroon_down": "nan",
         "aroon_signal": 0,
         "aroon_position": 1,
         "_deepnote_index_column": "2019-09-24T00:00:00.000000"
        },
        {
         "Close": 0.24644100666046143,
         "trend_aroon_up": 72,
         "trend_aroon_down": 96,
         "aroon_signal": 0,
         "aroon_position": 1,
         "_deepnote_index_column": "2019-09-25T00:00:00.000000"
        },
        {
         "Close": 0.24378399550914764,
         "trend_aroon_up": 68,
         "trend_aroon_down": 92,
         "aroon_signal": 0,
         "aroon_position": 1,
         "_deepnote_index_column": "2019-09-26T00:00:00.000000"
        },
        {
         "Close": 0.2440209984779358,
         "trend_aroon_up": 64,
         "trend_aroon_down": 88,
         "aroon_signal": 0,
         "aroon_position": 1,
         "_deepnote_index_column": "2019-09-27T00:00:00.000000"
        },
        {
         "Close": 0.24257099628448486,
         "trend_aroon_up": 60,
         "trend_aroon_down": 84,
         "aroon_signal": 0,
         "aroon_position": 1,
         "_deepnote_index_column": "2019-09-28T00:00:00.000000"
        },
        {
         "Close": 0.2413879930973053,
         "trend_aroon_up": 56.00000000000001,
         "trend_aroon_down": 80,
         "aroon_signal": 0,
         "aroon_position": 1,
         "_deepnote_index_column": "2019-09-29T00:00:00.000000"
        },
        {
         "Close": 0.2559329867362976,
         "trend_aroon_up": 52,
         "trend_aroon_down": 76,
         "aroon_signal": 0,
         "aroon_position": 1,
         "_deepnote_index_column": "2019-09-30T00:00:00.000000"
        },
        {
         "Close": 0.2495650053024292,
         "trend_aroon_up": 48,
         "trend_aroon_down": 72,
         "aroon_signal": 0,
         "aroon_position": 1,
         "_deepnote_index_column": "2019-10-01T00:00:00.000000"
        },
        {
         "Close": 0.25353899598121643,
         "trend_aroon_up": 44,
         "trend_aroon_down": 68,
         "aroon_signal": 0,
         "aroon_position": 1,
         "_deepnote_index_column": "2019-10-02T00:00:00.000000"
        },
        {
         "Close": 0.24785999953746796,
         "trend_aroon_up": 40,
         "trend_aroon_down": 64,
         "aroon_signal": 0,
         "aroon_position": 1,
         "_deepnote_index_column": "2019-10-03T00:00:00.000000"
        },
        {
         "Close": 0.2539350092411041,
         "trend_aroon_up": 36,
         "trend_aroon_down": 60,
         "aroon_signal": 0,
         "aroon_position": 1,
         "_deepnote_index_column": "2019-10-04T00:00:00.000000"
        },
        {
         "Close": 0.2534570097923279,
         "trend_aroon_up": 32,
         "trend_aroon_down": 56.00000000000001,
         "aroon_signal": 0,
         "aroon_position": 1,
         "_deepnote_index_column": "2019-10-05T00:00:00.000000"
        },
        {
         "Close": 0.2577050030231476,
         "trend_aroon_up": 28.000000000000004,
         "trend_aroon_down": 52,
         "aroon_signal": 0,
         "aroon_position": 1,
         "_deepnote_index_column": "2019-10-06T00:00:00.000000"
        },
        {
         "Close": 0.27568501234054565,
         "trend_aroon_up": 24,
         "trend_aroon_down": 48,
         "aroon_signal": 0,
         "aroon_position": 1,
         "_deepnote_index_column": "2019-10-07T00:00:00.000000"
        },
        {
         "Close": 0.27845901250839233,
         "trend_aroon_up": 20,
         "trend_aroon_down": 44,
         "aroon_signal": 0,
         "aroon_position": 1,
         "_deepnote_index_column": "2019-10-08T00:00:00.000000"
        },
        {
         "Close": 0.28162699937820435,
         "trend_aroon_up": 16,
         "trend_aroon_down": 40,
         "aroon_signal": 0,
         "aroon_position": 1,
         "_deepnote_index_column": "2019-10-09T00:00:00.000000"
        },
        {
         "Close": 0.27207300066947937,
         "trend_aroon_up": 12,
         "trend_aroon_down": 36,
         "aroon_signal": 0,
         "aroon_position": 1,
         "_deepnote_index_column": "2019-10-10T00:00:00.000000"
        },
        {
         "Close": 0.2710990011692047,
         "trend_aroon_up": 8,
         "trend_aroon_down": 32,
         "aroon_signal": 0,
         "aroon_position": 1,
         "_deepnote_index_column": "2019-10-11T00:00:00.000000"
        },
        {
         "Close": 0.27319100499153137,
         "trend_aroon_up": 4,
         "trend_aroon_down": 28.000000000000004,
         "aroon_signal": 0,
         "aroon_position": 1,
         "_deepnote_index_column": "2019-10-12T00:00:00.000000"
        },
        {
         "Close": 0.2777650058269501,
         "trend_aroon_up": 4,
         "trend_aroon_down": 24,
         "aroon_signal": 0,
         "aroon_position": 1,
         "_deepnote_index_column": "2019-10-13T00:00:00.000000"
        },
        {
         "Close": 0.29652300477027893,
         "trend_aroon_up": 100,
         "trend_aroon_down": 20,
         "aroon_signal": 1,
         "aroon_position": 1,
         "_deepnote_index_column": "2019-10-14T00:00:00.000000"
        },
        {
         "Close": 0.28870201110839844,
         "trend_aroon_up": 96,
         "trend_aroon_down": 16,
         "aroon_signal": 0,
         "aroon_position": 1,
         "_deepnote_index_column": "2019-10-15T00:00:00.000000"
        },
        {
         "Close": 0.28464001417160034,
         "trend_aroon_up": 92,
         "trend_aroon_down": 12,
         "aroon_signal": 0,
         "aroon_position": 1,
         "_deepnote_index_column": "2019-10-16T00:00:00.000000"
        },
        {
         "Close": 0.30231499671936035,
         "trend_aroon_up": 100,
         "trend_aroon_down": 8,
         "aroon_signal": 0,
         "aroon_position": 1,
         "_deepnote_index_column": "2019-10-17T00:00:00.000000"
        },
        {
         "Close": 0.2950049936771393,
         "trend_aroon_up": 96,
         "trend_aroon_down": 4,
         "aroon_signal": 0,
         "aroon_position": 1,
         "_deepnote_index_column": "2019-10-18T00:00:00.000000"
        },
        {
         "Close": 0.2930220067501068,
         "trend_aroon_up": 92,
         "trend_aroon_down": 20,
         "aroon_signal": 0,
         "aroon_position": 1,
         "_deepnote_index_column": "2019-10-19T00:00:00.000000"
        },
        {
         "Close": 0.2941789925098419,
         "trend_aroon_up": 88,
         "trend_aroon_down": 16,
         "aroon_signal": 0,
         "aroon_position": 1,
         "_deepnote_index_column": "2019-10-20T00:00:00.000000"
        },
        {
         "Close": 0.29297900199890137,
         "trend_aroon_up": 84,
         "trend_aroon_down": 12,
         "aroon_signal": 0,
         "aroon_position": 1,
         "_deepnote_index_column": "2019-10-21T00:00:00.000000"
        },
        {
         "Close": 0.29160699248313904,
         "trend_aroon_up": 80,
         "trend_aroon_down": 8,
         "aroon_signal": 0,
         "aroon_position": 1,
         "_deepnote_index_column": "2019-10-22T00:00:00.000000"
        },
        {
         "Close": 0.2741430103778839,
         "trend_aroon_up": 76,
         "trend_aroon_down": 4,
         "aroon_signal": 0,
         "aroon_position": 1,
         "_deepnote_index_column": "2019-10-23T00:00:00.000000"
        },
        {
         "Close": 0.27849099040031433,
         "trend_aroon_up": 72,
         "trend_aroon_down": 16,
         "aroon_signal": 0,
         "aroon_position": 1,
         "_deepnote_index_column": "2019-10-24T00:00:00.000000"
        },
        {
         "Close": 0.2981649935245514,
         "trend_aroon_up": 68,
         "trend_aroon_down": 12,
         "aroon_signal": 0,
         "aroon_position": 1,
         "_deepnote_index_column": "2019-10-25T00:00:00.000000"
        },
        {
         "Close": 0.2936989963054657,
         "trend_aroon_up": 64,
         "trend_aroon_down": 8,
         "aroon_signal": 0,
         "aroon_position": 1,
         "_deepnote_index_column": "2019-10-26T00:00:00.000000"
        },
        {
         "Close": 0.29809999465942383,
         "trend_aroon_up": 60,
         "trend_aroon_down": 4,
         "aroon_signal": 0,
         "aroon_position": 1,
         "_deepnote_index_column": "2019-10-27T00:00:00.000000"
        },
        {
         "Close": 0.2960070073604584,
         "trend_aroon_up": 56.00000000000001,
         "trend_aroon_down": 8,
         "aroon_signal": 0,
         "aroon_position": 1,
         "_deepnote_index_column": "2019-10-28T00:00:00.000000"
        },
        {
         "Close": 0.3019559979438782,
         "trend_aroon_up": 52,
         "trend_aroon_down": 4,
         "aroon_signal": 0,
         "aroon_position": 1,
         "_deepnote_index_column": "2019-10-29T00:00:00.000000"
        },
        {
         "Close": 0.2965550124645233,
         "trend_aroon_up": 48,
         "trend_aroon_down": 4,
         "aroon_signal": 0,
         "aroon_position": 1,
         "_deepnote_index_column": "2019-10-30T00:00:00.000000"
        },
        {
         "Close": 0.29635798931121826,
         "trend_aroon_up": 44,
         "trend_aroon_down": 20,
         "aroon_signal": 0,
         "aroon_position": 1,
         "_deepnote_index_column": "2019-10-31T00:00:00.000000"
        },
        {
         "Close": 0.2926419973373413,
         "trend_aroon_up": 40,
         "trend_aroon_down": 16,
         "aroon_signal": 0,
         "aroon_position": 1,
         "_deepnote_index_column": "2019-11-01T00:00:00.000000"
        },
        {
         "Close": 0.2962630093097687,
         "trend_aroon_up": 36,
         "trend_aroon_down": 12,
         "aroon_signal": 0,
         "aroon_position": 1,
         "_deepnote_index_column": "2019-11-02T00:00:00.000000"
        },
        {
         "Close": 0.2912609875202179,
         "trend_aroon_up": 32,
         "trend_aroon_down": 8,
         "aroon_signal": 0,
         "aroon_position": 1,
         "_deepnote_index_column": "2019-11-03T00:00:00.000000"
        },
        {
         "Close": 0.29993700981140137,
         "trend_aroon_up": 28.000000000000004,
         "trend_aroon_down": 4,
         "aroon_signal": 0,
         "aroon_position": 1,
         "_deepnote_index_column": "2019-11-04T00:00:00.000000"
        },
        {
         "Close": 0.3012549877166748,
         "trend_aroon_up": 24,
         "trend_aroon_down": 4,
         "aroon_signal": 0,
         "aroon_position": 1,
         "_deepnote_index_column": "2019-11-05T00:00:00.000000"
        },
        {
         "Close": 0.3100860118865967,
         "trend_aroon_up": 100,
         "trend_aroon_down": 44,
         "aroon_signal": 0,
         "aroon_position": 1,
         "_deepnote_index_column": "2019-11-06T00:00:00.000000"
        },
        {
         "Close": 0.2924309968948364,
         "trend_aroon_up": 96,
         "trend_aroon_down": 40,
         "aroon_signal": 0,
         "aroon_position": 1,
         "_deepnote_index_column": "2019-11-07T00:00:00.000000"
        },
        {
         "Close": 0.2769530117511749,
         "trend_aroon_up": 92,
         "trend_aroon_down": 36,
         "aroon_signal": 0,
         "aroon_position": 1,
         "_deepnote_index_column": "2019-11-08T00:00:00.000000"
        },
        {
         "Close": 0.28019601106643677,
         "trend_aroon_up": 88,
         "trend_aroon_down": 32,
         "aroon_signal": 0,
         "aroon_position": 1,
         "_deepnote_index_column": "2019-11-09T00:00:00.000000"
        },
        {
         "Close": 0.28020399808883667,
         "trend_aroon_up": 84,
         "trend_aroon_down": 28.000000000000004,
         "aroon_signal": 0,
         "aroon_position": 1,
         "_deepnote_index_column": "2019-11-10T00:00:00.000000"
        },
        {
         "Close": 0.275085985660553,
         "trend_aroon_up": 80,
         "trend_aroon_down": 24,
         "aroon_signal": 0,
         "aroon_position": 1,
         "_deepnote_index_column": "2019-11-11T00:00:00.000000"
        },
        {
         "Close": 0.27241799235343933,
         "trend_aroon_up": 76,
         "trend_aroon_down": 100,
         "aroon_signal": 0,
         "aroon_position": 1,
         "_deepnote_index_column": "2019-11-12T00:00:00.000000"
        },
        {
         "Close": 0.27303600311279297,
         "trend_aroon_up": 72,
         "trend_aroon_down": 96,
         "aroon_signal": 0,
         "aroon_position": 1,
         "_deepnote_index_column": "2019-11-13T00:00:00.000000"
        },
        {
         "Close": 0.27039098739624023,
         "trend_aroon_up": 68,
         "trend_aroon_down": 100,
         "aroon_signal": 0,
         "aroon_position": 1,
         "_deepnote_index_column": "2019-11-14T00:00:00.000000"
        },
        {
         "Close": 0.26165398955345154,
         "trend_aroon_up": 64,
         "trend_aroon_down": 100,
         "aroon_signal": 0,
         "aroon_position": 1,
         "_deepnote_index_column": "2019-11-15T00:00:00.000000"
        },
        {
         "Close": 0.2638860046863556,
         "trend_aroon_up": 60,
         "trend_aroon_down": 96,
         "aroon_signal": 0,
         "aroon_position": 1,
         "_deepnote_index_column": "2019-11-16T00:00:00.000000"
        },
        {
         "Close": 0.2652530074119568,
         "trend_aroon_up": 56.00000000000001,
         "trend_aroon_down": 92,
         "aroon_signal": 0,
         "aroon_position": 1,
         "_deepnote_index_column": "2019-11-17T00:00:00.000000"
        },
        {
         "Close": 0.2556529939174652,
         "trend_aroon_up": 52,
         "trend_aroon_down": 100,
         "aroon_signal": 0,
         "aroon_position": 1,
         "_deepnote_index_column": "2019-11-18T00:00:00.000000"
        },
        {
         "Close": 0.2565000057220459,
         "trend_aroon_up": 48,
         "trend_aroon_down": 96,
         "aroon_signal": 0,
         "aroon_position": 1,
         "_deepnote_index_column": "2019-11-19T00:00:00.000000"
        },
        {
         "Close": 0.25136399269104004,
         "trend_aroon_up": 44,
         "trend_aroon_down": 100,
         "aroon_signal": 0,
         "aroon_position": 1,
         "_deepnote_index_column": "2019-11-20T00:00:00.000000"
        },
        {
         "Close": 0.24376599490642548,
         "trend_aroon_up": 40,
         "trend_aroon_down": 100,
         "aroon_signal": 0,
         "aroon_position": 1,
         "_deepnote_index_column": "2019-11-21T00:00:00.000000"
        },
        {
         "Close": 0.23160000145435333,
         "trend_aroon_up": 36,
         "trend_aroon_down": 100,
         "aroon_signal": 0,
         "aroon_position": 1,
         "_deepnote_index_column": "2019-11-22T00:00:00.000000"
        },
        {
         "Close": 0.23618799448013306,
         "trend_aroon_up": 32,
         "trend_aroon_down": 96,
         "aroon_signal": 0,
         "aroon_position": 1,
         "_deepnote_index_column": "2019-11-23T00:00:00.000000"
        },
        {
         "Close": 0.2231840044260025,
         "trend_aroon_up": 28.000000000000004,
         "trend_aroon_down": 100,
         "aroon_signal": -1,
         "aroon_position": 0,
         "_deepnote_index_column": "2019-11-24T00:00:00.000000"
        },
        {
         "Close": 0.21862199902534485,
         "trend_aroon_up": 24,
         "trend_aroon_down": 100,
         "aroon_signal": 0,
         "aroon_position": 0,
         "_deepnote_index_column": "2019-11-25T00:00:00.000000"
        },
        {
         "Close": 0.22214500606060028,
         "trend_aroon_up": 20,
         "trend_aroon_down": 96,
         "aroon_signal": 0,
         "aroon_position": 0,
         "_deepnote_index_column": "2019-11-26T00:00:00.000000"
        },
        {
         "Close": 0.22508099675178528,
         "trend_aroon_up": 16,
         "trend_aroon_down": 92,
         "aroon_signal": 0,
         "aroon_position": 0,
         "_deepnote_index_column": "2019-11-27T00:00:00.000000"
        },
        {
         "Close": 0.22457000613212585,
         "trend_aroon_up": 12,
         "trend_aroon_down": 88,
         "aroon_signal": 0,
         "aroon_position": 0,
         "_deepnote_index_column": "2019-11-28T00:00:00.000000"
        },
        {
         "Close": 0.23021699488162994,
         "trend_aroon_up": 8,
         "trend_aroon_down": 84,
         "aroon_signal": 0,
         "aroon_position": 0,
         "_deepnote_index_column": "2019-11-29T00:00:00.000000"
        },
        {
         "Close": 0.22647400200366974,
         "trend_aroon_up": 4,
         "trend_aroon_down": 80,
         "aroon_signal": 0,
         "aroon_position": 0,
         "_deepnote_index_column": "2019-11-30T00:00:00.000000"
        },
        {
         "Close": 0.22533300518989563,
         "trend_aroon_up": 4,
         "trend_aroon_down": 76,
         "aroon_signal": 0,
         "aroon_position": 0,
         "_deepnote_index_column": "2019-12-01T00:00:00.000000"
        },
        {
         "Close": 0.2195809930562973,
         "trend_aroon_up": 12,
         "trend_aroon_down": 72,
         "aroon_signal": 0,
         "aroon_position": 0,
         "_deepnote_index_column": "2019-12-02T00:00:00.000000"
        },
        {
         "Close": 0.21987000107765198,
         "trend_aroon_up": 8,
         "trend_aroon_down": 68,
         "aroon_signal": 0,
         "aroon_position": 0,
         "_deepnote_index_column": "2019-12-03T00:00:00.000000"
        },
        {
         "Close": 0.21634800732135773,
         "trend_aroon_up": 4,
         "trend_aroon_down": 100,
         "aroon_signal": 0,
         "aroon_position": 0,
         "_deepnote_index_column": "2019-12-04T00:00:00.000000"
        },
        {
         "Close": 0.2229280024766922,
         "trend_aroon_up": 4,
         "trend_aroon_down": 96,
         "aroon_signal": 0,
         "aroon_position": 0,
         "_deepnote_index_column": "2019-12-05T00:00:00.000000"
        },
        {
         "Close": 0.22550499439239502,
         "trend_aroon_up": 8,
         "trend_aroon_down": 92,
         "aroon_signal": 0,
         "aroon_position": 0,
         "_deepnote_index_column": "2019-12-06T00:00:00.000000"
        },
        {
         "Close": 0.22844499349594116,
         "trend_aroon_up": 4,
         "trend_aroon_down": 88,
         "aroon_signal": 0,
         "aroon_position": 0,
         "_deepnote_index_column": "2019-12-07T00:00:00.000000"
        },
        {
         "Close": 0.23043499886989594,
         "trend_aroon_up": 4,
         "trend_aroon_down": 84,
         "aroon_signal": 0,
         "aroon_position": 0,
         "_deepnote_index_column": "2019-12-08T00:00:00.000000"
        },
        {
         "Close": 0.2254520058631897,
         "trend_aroon_up": 12,
         "trend_aroon_down": 80,
         "aroon_signal": 0,
         "aroon_position": 0,
         "_deepnote_index_column": "2019-12-09T00:00:00.000000"
        }
       ],
       "rows_bottom": [
        {
         "Close": 1.555994987487793,
         "trend_aroon_up": 24,
         "trend_aroon_down": 4,
         "aroon_signal": 0,
         "aroon_position": 1,
         "_deepnote_index_column": "2021-05-03T00:00:00.000000"
        },
        {
         "Close": 1.3923759460449219,
         "trend_aroon_up": 20,
         "trend_aroon_down": 64,
         "aroon_signal": 0,
         "aroon_position": 1,
         "_deepnote_index_column": "2021-05-04T00:00:00.000000"
        },
        {
         "Close": 1.6145119667053223,
         "trend_aroon_up": 16,
         "trend_aroon_down": 60,
         "aroon_signal": 0,
         "aroon_position": 1,
         "_deepnote_index_column": "2021-05-05T00:00:00.000000"
        },
        {
         "Close": 1.6005810499191284,
         "trend_aroon_up": 12,
         "trend_aroon_down": 56.00000000000001,
         "aroon_signal": 0,
         "aroon_position": 1,
         "_deepnote_index_column": "2021-05-06T00:00:00.000000"
        },
        {
         "Close": 1.5817550420761108,
         "trend_aroon_up": 8,
         "trend_aroon_down": 52,
         "aroon_signal": 0,
         "aroon_position": 1,
         "_deepnote_index_column": "2021-05-07T00:00:00.000000"
        },
        {
         "Close": 1.5625979900360107,
         "trend_aroon_up": 4,
         "trend_aroon_down": 48,
         "aroon_signal": 0,
         "aroon_position": 1,
         "_deepnote_index_column": "2021-05-08T00:00:00.000000"
        },
        {
         "Close": 1.5352929830551147,
         "trend_aroon_up": 4,
         "trend_aroon_down": 44,
         "aroon_signal": 0,
         "aroon_position": 1,
         "_deepnote_index_column": "2021-05-09T00:00:00.000000"
        },
        {
         "Close": 1.3890060186386108,
         "trend_aroon_up": 64,
         "trend_aroon_down": 40,
         "aroon_signal": 0,
         "aroon_position": 1,
         "_deepnote_index_column": "2021-05-10T00:00:00.000000"
        },
        {
         "Close": 1.4776819944381714,
         "trend_aroon_up": 60,
         "trend_aroon_down": 36,
         "aroon_signal": 0,
         "aroon_position": 1,
         "_deepnote_index_column": "2021-05-11T00:00:00.000000"
        },
        {
         "Close": 1.247864007949829,
         "trend_aroon_up": 56.00000000000001,
         "trend_aroon_down": 32,
         "aroon_signal": 0,
         "aroon_position": 1,
         "_deepnote_index_column": "2021-05-12T00:00:00.000000"
        },
        {
         "Close": 1.3589099645614624,
         "trend_aroon_up": 52,
         "trend_aroon_down": 28.000000000000004,
         "aroon_signal": 0,
         "aroon_position": 1,
         "_deepnote_index_column": "2021-05-13T00:00:00.000000"
        },
        {
         "Close": 1.4029170274734497,
         "trend_aroon_up": 48,
         "trend_aroon_down": 24,
         "aroon_signal": 0,
         "aroon_position": 1,
         "_deepnote_index_column": "2021-05-14T00:00:00.000000"
        },
        {
         "Close": 1.4858800172805786,
         "trend_aroon_up": 44,
         "trend_aroon_down": 20,
         "aroon_signal": 0,
         "aroon_position": 1,
         "_deepnote_index_column": "2021-05-15T00:00:00.000000"
        },
        {
         "Close": 1.452605962753296,
         "trend_aroon_up": 40,
         "trend_aroon_down": 16,
         "aroon_signal": 0,
         "aroon_position": 1,
         "_deepnote_index_column": "2021-05-16T00:00:00.000000"
        },
        {
         "Close": 1.4962999820709229,
         "trend_aroon_up": 36,
         "trend_aroon_down": 12,
         "aroon_signal": 0,
         "aroon_position": 1,
         "_deepnote_index_column": "2021-05-17T00:00:00.000000"
        },
        {
         "Close": 1.5907340049743652,
         "trend_aroon_up": 32,
         "trend_aroon_down": 8,
         "aroon_signal": 0,
         "aroon_position": 1,
         "_deepnote_index_column": "2021-05-18T00:00:00.000000"
        },
        {
         "Close": 1.0703129768371582,
         "trend_aroon_up": 28.000000000000004,
         "trend_aroon_down": 4,
         "aroon_signal": 0,
         "aroon_position": 1,
         "_deepnote_index_column": "2021-05-19T00:00:00.000000"
        },
        {
         "Close": 1.1855369806289673,
         "trend_aroon_up": 24,
         "trend_aroon_down": 96,
         "aroon_signal": -1,
         "aroon_position": 0,
         "_deepnote_index_column": "2021-05-20T00:00:00.000000"
        },
        {
         "Close": 1.0069760084152222,
         "trend_aroon_up": 20,
         "trend_aroon_down": 100,
         "aroon_signal": 0,
         "aroon_position": 0,
         "_deepnote_index_column": "2021-05-21T00:00:00.000000"
        },
        {
         "Close": 0.9063169956207275,
         "trend_aroon_up": 16,
         "trend_aroon_down": 100,
         "aroon_signal": 0,
         "aroon_position": 0,
         "_deepnote_index_column": "2021-05-22T00:00:00.000000"
        },
        {
         "Close": 0.7970150113105774,
         "trend_aroon_up": 12,
         "trend_aroon_down": 100,
         "aroon_signal": 0,
         "aroon_position": 0,
         "_deepnote_index_column": "2021-05-23T00:00:00.000000"
        },
        {
         "Close": 0.9928349852561951,
         "trend_aroon_up": 8,
         "trend_aroon_down": 96,
         "aroon_signal": 0,
         "aroon_position": 0,
         "_deepnote_index_column": "2021-05-24T00:00:00.000000"
        },
        {
         "Close": 0.976186990737915,
         "trend_aroon_up": 4,
         "trend_aroon_down": 92,
         "aroon_signal": 0,
         "aroon_position": 0,
         "_deepnote_index_column": "2021-05-25T00:00:00.000000"
        },
        {
         "Close": 1.0337250232696533,
         "trend_aroon_up": 16,
         "trend_aroon_down": 88,
         "aroon_signal": 0,
         "aroon_position": 0,
         "_deepnote_index_column": "2021-05-26T00:00:00.000000"
        },
        {
         "Close": 0.9702349901199341,
         "trend_aroon_up": 12,
         "trend_aroon_down": 84,
         "aroon_signal": 0,
         "aroon_position": 0,
         "_deepnote_index_column": "2021-05-27T00:00:00.000000"
        },
        {
         "Close": 0.9001479744911194,
         "trend_aroon_up": 8,
         "trend_aroon_down": 80,
         "aroon_signal": 0,
         "aroon_position": 0,
         "_deepnote_index_column": "2021-05-28T00:00:00.000000"
        },
        {
         "Close": 0.8317880034446716,
         "trend_aroon_up": 4,
         "trend_aroon_down": 76,
         "aroon_signal": 0,
         "aroon_position": 0,
         "_deepnote_index_column": "2021-05-29T00:00:00.000000"
        },
        {
         "Close": 0.9066089987754822,
         "trend_aroon_up": 4,
         "trend_aroon_down": 72,
         "aroon_signal": 0,
         "aroon_position": 0,
         "_deepnote_index_column": "2021-05-30T00:00:00.000000"
        },
        {
         "Close": 1.0465840101242065,
         "trend_aroon_up": 48,
         "trend_aroon_down": 68,
         "aroon_signal": 0,
         "aroon_position": 0,
         "_deepnote_index_column": "2021-05-31T00:00:00.000000"
        },
        {
         "Close": 1.0110009908676147,
         "trend_aroon_up": 44,
         "trend_aroon_down": 64,
         "aroon_signal": 0,
         "aroon_position": 0,
         "_deepnote_index_column": "2021-06-01T00:00:00.000000"
        },
        {
         "Close": 1.024399995803833,
         "trend_aroon_up": 40,
         "trend_aroon_down": 60,
         "aroon_signal": 0,
         "aroon_position": 0,
         "_deepnote_index_column": "2021-06-02T00:00:00.000000"
        },
        {
         "Close": 1.045320987701416,
         "trend_aroon_up": 36,
         "trend_aroon_down": 56.00000000000001,
         "aroon_signal": 0,
         "aroon_position": 0,
         "_deepnote_index_column": "2021-06-03T00:00:00.000000"
        },
        {
         "Close": 0.970196008682251,
         "trend_aroon_up": 32,
         "trend_aroon_down": 52,
         "aroon_signal": 0,
         "aroon_position": 0,
         "_deepnote_index_column": "2021-06-04T00:00:00.000000"
        },
        {
         "Close": 0.9232860207557678,
         "trend_aroon_up": 28.000000000000004,
         "trend_aroon_down": 48,
         "aroon_signal": 0,
         "aroon_position": 0,
         "_deepnote_index_column": "2021-06-05T00:00:00.000000"
        },
        {
         "Close": 0.945285975933075,
         "trend_aroon_up": 24,
         "trend_aroon_down": 44,
         "aroon_signal": 0,
         "aroon_position": 0,
         "_deepnote_index_column": "2021-06-06T00:00:00.000000"
        },
        {
         "Close": 0.8611549735069275,
         "trend_aroon_up": 20,
         "trend_aroon_down": 40,
         "aroon_signal": 0,
         "aroon_position": 0,
         "_deepnote_index_column": "2021-06-07T00:00:00.000000"
        },
        {
         "Close": 0.8757879734039307,
         "trend_aroon_up": 16,
         "trend_aroon_down": 36,
         "aroon_signal": 0,
         "aroon_position": 0,
         "_deepnote_index_column": "2021-06-08T00:00:00.000000"
        },
        {
         "Close": 0.9200339913368225,
         "trend_aroon_up": 12,
         "trend_aroon_down": 32,
         "aroon_signal": 0,
         "aroon_position": 0,
         "_deepnote_index_column": "2021-06-09T00:00:00.000000"
        },
        {
         "Close": 0.8691819906234741,
         "trend_aroon_up": 8,
         "trend_aroon_down": 28.000000000000004,
         "aroon_signal": 0,
         "aroon_position": 0,
         "_deepnote_index_column": "2021-06-10T00:00:00.000000"
        },
        {
         "Close": 0.8484500050544739,
         "trend_aroon_up": 4,
         "trend_aroon_down": 24,
         "aroon_signal": 0,
         "aroon_position": 0,
         "_deepnote_index_column": "2021-06-11T00:00:00.000000"
        },
        {
         "Close": 0.8326830267906189,
         "trend_aroon_up": 8,
         "trend_aroon_down": 20,
         "aroon_signal": 0,
         "aroon_position": 0,
         "_deepnote_index_column": "2021-06-12T00:00:00.000000"
        },
        {
         "Close": 0.8831599950790405,
         "trend_aroon_up": 4,
         "trend_aroon_down": 16,
         "aroon_signal": 0,
         "aroon_position": 0,
         "_deepnote_index_column": "2021-06-13T00:00:00.000000"
        },
        {
         "Close": 0.8928970098495483,
         "trend_aroon_up": 44,
         "trend_aroon_down": 12,
         "aroon_signal": 0,
         "aroon_position": 0,
         "_deepnote_index_column": "2021-06-14T00:00:00.000000"
        },
        {
         "Close": 0.8898000121116638,
         "trend_aroon_up": 40,
         "trend_aroon_down": 8,
         "aroon_signal": 0,
         "aroon_position": 0,
         "_deepnote_index_column": "2021-06-15T00:00:00.000000"
        },
        {
         "Close": 0.8319079875946045,
         "trend_aroon_up": 36,
         "trend_aroon_down": 4,
         "aroon_signal": 0,
         "aroon_position": 0,
         "_deepnote_index_column": "2021-06-16T00:00:00.000000"
        },
        {
         "Close": 0.8414379954338074,
         "trend_aroon_up": 32,
         "trend_aroon_down": 24,
         "aroon_signal": 0,
         "aroon_position": 0,
         "_deepnote_index_column": "2021-06-17T00:00:00.000000"
        },
        {
         "Close": 0.797648012638092,
         "trend_aroon_up": 28.000000000000004,
         "trend_aroon_down": 100,
         "aroon_signal": 0,
         "aroon_position": 0,
         "_deepnote_index_column": "2021-06-18T00:00:00.000000"
        },
        {
         "Close": 0.7616729736328125,
         "trend_aroon_up": 24,
         "trend_aroon_down": 100,
         "aroon_signal": 0,
         "aroon_position": 0,
         "_deepnote_index_column": "2021-06-19T00:00:00.000000"
        },
        {
         "Close": 0.7763770222663879,
         "trend_aroon_up": 20,
         "trend_aroon_down": 96,
         "aroon_signal": 0,
         "aroon_position": 0,
         "_deepnote_index_column": "2021-06-20T00:00:00.000000"
        },
        {
         "Close": 0.6103879809379578,
         "trend_aroon_up": 16,
         "trend_aroon_down": 100,
         "aroon_signal": 0,
         "aroon_position": 0,
         "_deepnote_index_column": "2021-06-21T00:00:00.000000"
        },
        {
         "Close": 0.5450670123100281,
         "trend_aroon_up": 12,
         "trend_aroon_down": 100,
         "aroon_signal": 0,
         "aroon_position": 0,
         "_deepnote_index_column": "2021-06-22T00:00:00.000000"
        },
        {
         "Close": 0.6265349984169006,
         "trend_aroon_up": 8,
         "trend_aroon_down": 96,
         "aroon_signal": 0,
         "aroon_position": 0,
         "_deepnote_index_column": "2021-06-23T00:00:00.000000"
        },
        {
         "Close": 0.671999990940094,
         "trend_aroon_up": 4,
         "trend_aroon_down": 92,
         "aroon_signal": 0,
         "aroon_position": 0,
         "_deepnote_index_column": "2021-06-24T00:00:00.000000"
        },
        {
         "Close": 0.6133229732513428,
         "trend_aroon_up": 12,
         "trend_aroon_down": 88,
         "aroon_signal": 0,
         "aroon_position": 0,
         "_deepnote_index_column": "2021-06-25T00:00:00.000000"
        },
        {
         "Close": 0.615435004234314,
         "trend_aroon_up": 8,
         "trend_aroon_down": 84,
         "aroon_signal": 0,
         "aroon_position": 0,
         "_deepnote_index_column": "2021-06-26T00:00:00.000000"
        },
        {
         "Close": 0.6469230055809021,
         "trend_aroon_up": 4,
         "trend_aroon_down": 80,
         "aroon_signal": 0,
         "aroon_position": 0,
         "_deepnote_index_column": "2021-06-27T00:00:00.000000"
        },
        {
         "Close": 0.643746018409729,
         "trend_aroon_up": 4,
         "trend_aroon_down": 76,
         "aroon_signal": 0,
         "aroon_position": 0,
         "_deepnote_index_column": "2021-06-28T00:00:00.000000"
        },
        {
         "Close": 0.7017250061035156,
         "trend_aroon_up": 8,
         "trend_aroon_down": 72,
         "aroon_signal": 0,
         "aroon_position": 0,
         "_deepnote_index_column": "2021-06-29T00:00:00.000000"
        },
        {
         "Close": 0.7063739895820618,
         "trend_aroon_up": 4,
         "trend_aroon_down": 68,
         "aroon_signal": 0,
         "aroon_position": 0,
         "_deepnote_index_column": "2021-06-30T00:00:00.000000"
        },
        {
         "Close": 0.6611800193786621,
         "trend_aroon_up": 12,
         "trend_aroon_down": 64,
         "aroon_signal": 0,
         "aroon_position": 0,
         "_deepnote_index_column": "2021-07-01T00:00:00.000000"
        },
        {
         "Close": 0.6567630171775818,
         "trend_aroon_up": 8,
         "trend_aroon_down": 60,
         "aroon_signal": 0,
         "aroon_position": 0,
         "_deepnote_index_column": "2021-07-02T00:00:00.000000"
        },
        {
         "Close": 0.6728879809379578,
         "trend_aroon_up": 4,
         "trend_aroon_down": 56.00000000000001,
         "aroon_signal": 0,
         "aroon_position": 0,
         "_deepnote_index_column": "2021-07-03T00:00:00.000000"
        },
        {
         "Close": 0.6949449777603149,
         "trend_aroon_up": 20,
         "trend_aroon_down": 52,
         "aroon_signal": 0,
         "aroon_position": 0,
         "_deepnote_index_column": "2021-07-04T00:00:00.000000"
        },
        {
         "Close": 0.6542999744415283,
         "trend_aroon_up": 16,
         "trend_aroon_down": 48,
         "aroon_signal": 0,
         "aroon_position": 0,
         "_deepnote_index_column": "2021-07-05T00:00:00.000000"
        },
        {
         "Close": 0.6654019951820374,
         "trend_aroon_up": 12,
         "trend_aroon_down": 44,
         "aroon_signal": 0,
         "aroon_position": 0,
         "_deepnote_index_column": "2021-07-06T00:00:00.000000"
        },
        {
         "Close": 0.6515750288963318,
         "trend_aroon_up": 8,
         "trend_aroon_down": 40,
         "aroon_signal": 0,
         "aroon_position": 0,
         "_deepnote_index_column": "2021-07-07T00:00:00.000000"
        },
        {
         "Close": 0.623058021068573,
         "trend_aroon_up": 4,
         "trend_aroon_down": 36,
         "aroon_signal": 0,
         "aroon_position": 0,
         "_deepnote_index_column": "2021-07-08T00:00:00.000000"
        },
        {
         "Close": 0.6368039846420288,
         "trend_aroon_up": 4,
         "trend_aroon_down": 32,
         "aroon_signal": 0,
         "aroon_position": 0,
         "_deepnote_index_column": "2021-07-09T00:00:00.000000"
        },
        {
         "Close": 0.6254630088806152,
         "trend_aroon_up": 8,
         "trend_aroon_down": 28.000000000000004,
         "aroon_signal": 0,
         "aroon_position": 0,
         "_deepnote_index_column": "2021-07-10T00:00:00.000000"
        },
        {
         "Close": 0.6359350085258484,
         "trend_aroon_up": 4,
         "trend_aroon_down": 24,
         "aroon_signal": 0,
         "aroon_position": 0,
         "_deepnote_index_column": "2021-07-11T00:00:00.000000"
        },
        {
         "Close": 0.6301779747009277,
         "trend_aroon_up": 4,
         "trend_aroon_down": 20,
         "aroon_signal": 0,
         "aroon_position": 0,
         "_deepnote_index_column": "2021-07-12T00:00:00.000000"
        },
        {
         "Close": 0.6195229887962341,
         "trend_aroon_up": 8,
         "trend_aroon_down": 16,
         "aroon_signal": 0,
         "aroon_position": 0,
         "_deepnote_index_column": "2021-07-13T00:00:00.000000"
        },
        {
         "Close": 0.6203240156173706,
         "trend_aroon_up": 4,
         "trend_aroon_down": 12,
         "aroon_signal": 0,
         "aroon_position": 0,
         "_deepnote_index_column": "2021-07-14T00:00:00.000000"
        },
        {
         "Close": 0.5969409942626953,
         "trend_aroon_up": 40,
         "trend_aroon_down": 8,
         "aroon_signal": 0,
         "aroon_position": 0,
         "_deepnote_index_column": "2021-07-15T00:00:00.000000"
        },
        {
         "Close": 0.5907739996910095,
         "trend_aroon_up": 36,
         "trend_aroon_down": 4,
         "aroon_signal": 0,
         "aroon_position": 0,
         "_deepnote_index_column": "2021-07-16T00:00:00.000000"
        },
        {
         "Close": 0.582427978515625,
         "trend_aroon_up": 32,
         "trend_aroon_down": 100,
         "aroon_signal": 0,
         "aroon_position": 0,
         "_deepnote_index_column": "2021-07-17T00:00:00.000000"
        },
        {
         "Close": 0.5879219770431519,
         "trend_aroon_up": 28.000000000000004,
         "trend_aroon_down": 96,
         "aroon_signal": 0,
         "aroon_position": 0,
         "_deepnote_index_column": "2021-07-18T00:00:00.000000"
        },
        {
         "Close": 0.5575559735298157,
         "trend_aroon_up": 24,
         "trend_aroon_down": 100,
         "aroon_signal": 0,
         "aroon_position": 0,
         "_deepnote_index_column": "2021-07-19T00:00:00.000000"
        },
        {
         "Close": 0.5293359756469727,
         "trend_aroon_up": 20,
         "trend_aroon_down": 100,
         "aroon_signal": 0,
         "aroon_position": 0,
         "_deepnote_index_column": "2021-07-20T00:00:00.000000"
        },
        {
         "Close": 0.569998025894165,
         "trend_aroon_up": 16,
         "trend_aroon_down": 96,
         "aroon_signal": 0,
         "aroon_position": 0,
         "_deepnote_index_column": "2021-07-21T00:00:00.000000"
        },
        {
         "Close": 0.5922060012817383,
         "trend_aroon_up": 12,
         "trend_aroon_down": 92,
         "aroon_signal": 0,
         "aroon_position": 0,
         "_deepnote_index_column": "2021-07-22T00:00:00.000000"
        },
        {
         "Close": 0.6092240214347839,
         "trend_aroon_up": 8,
         "trend_aroon_down": 88,
         "aroon_signal": 0,
         "aroon_position": 0,
         "_deepnote_index_column": "2021-07-23T00:00:00.000000"
        },
        {
         "Close": 0.6098269820213318,
         "trend_aroon_up": 4,
         "trend_aroon_down": 84,
         "aroon_signal": 0,
         "aroon_position": 0,
         "_deepnote_index_column": "2021-07-24T00:00:00.000000"
        },
        {
         "Close": 0.6063569784164429,
         "trend_aroon_up": 16,
         "trend_aroon_down": 80,
         "aroon_signal": 0,
         "aroon_position": 0,
         "_deepnote_index_column": "2021-07-25T00:00:00.000000"
        },
        {
         "Close": 0.6256179809570312,
         "trend_aroon_up": 12,
         "trend_aroon_down": 76,
         "aroon_signal": 0,
         "aroon_position": 0,
         "_deepnote_index_column": "2021-07-26T00:00:00.000000"
        },
        {
         "Close": 0.6446040272712708,
         "trend_aroon_up": 8,
         "trend_aroon_down": 72,
         "aroon_signal": 0,
         "aroon_position": 0,
         "_deepnote_index_column": "2021-07-27T00:00:00.000000"
        },
        {
         "Close": 0.7254449725151062,
         "trend_aroon_up": 100,
         "trend_aroon_down": 68,
         "aroon_signal": 0,
         "aroon_position": 0,
         "_deepnote_index_column": "2021-07-28T00:00:00.000000"
        },
        {
         "Close": 0.7480170130729675,
         "trend_aroon_up": 100,
         "trend_aroon_down": 64,
         "aroon_signal": 0,
         "aroon_position": 0,
         "_deepnote_index_column": "2021-07-29T00:00:00.000000"
        },
        {
         "Close": 0.7521190047264099,
         "trend_aroon_up": 100,
         "trend_aroon_down": 60,
         "aroon_signal": 0,
         "aroon_position": 0,
         "_deepnote_index_column": "2021-07-30T00:00:00.000000"
        },
        {
         "Close": 0.7477859854698181,
         "trend_aroon_up": 96,
         "trend_aroon_down": 56.00000000000001,
         "aroon_signal": 0,
         "aroon_position": 0,
         "_deepnote_index_column": "2021-07-31T00:00:00.000000"
        },
        {
         "Close": 0.7259219884872437,
         "trend_aroon_up": 92,
         "trend_aroon_down": 52,
         "aroon_signal": 0,
         "aroon_position": 0,
         "_deepnote_index_column": "2021-08-01T00:00:00.000000"
        },
        {
         "Close": 0.7392200231552124,
         "trend_aroon_up": 88,
         "trend_aroon_down": 48,
         "aroon_signal": 0,
         "aroon_position": 0,
         "_deepnote_index_column": "2021-08-02T00:00:00.000000"
        },
        {
         "Close": 0.7127289772033691,
         "trend_aroon_up": 84,
         "trend_aroon_down": 44,
         "aroon_signal": 0,
         "aroon_position": 0,
         "_deepnote_index_column": "2021-08-03T00:00:00.000000"
        },
        {
         "Close": 0.7304880023002625,
         "trend_aroon_up": 80,
         "trend_aroon_down": 40,
         "aroon_signal": 0,
         "aroon_position": 0,
         "_deepnote_index_column": "2021-08-04T00:00:00.000000"
        },
        {
         "Close": 0.7331510186195374,
         "trend_aroon_up": 76,
         "trend_aroon_down": 36,
         "aroon_signal": 0,
         "aroon_position": 0,
         "_deepnote_index_column": "2021-08-05T00:00:00.000000"
        },
        {
         "Close": 0.7465130090713501,
         "trend_aroon_up": 72,
         "trend_aroon_down": 32,
         "aroon_signal": 0,
         "aroon_position": 0,
         "_deepnote_index_column": "2021-08-06T00:00:00.000000"
        },
        {
         "Close": 0.8162810206413269,
         "trend_aroon_up": 100,
         "trend_aroon_down": 28.000000000000004,
         "aroon_signal": 1,
         "aroon_position": 1,
         "_deepnote_index_column": "2021-08-07T00:00:00.000000"
        },
        {
         "Close": 0.7787389755249023,
         "trend_aroon_up": 96,
         "trend_aroon_down": 24,
         "aroon_signal": 0,
         "aroon_position": 1,
         "_deepnote_index_column": "2021-08-08T00:00:00.000000"
        },
        {
         "Close": 0.8185529708862305,
         "trend_aroon_up": 100,
         "trend_aroon_down": 20,
         "aroon_signal": 0,
         "aroon_position": 1,
         "_deepnote_index_column": "2021-08-09T00:00:00.000000"
        },
        {
         "Close": 0.8752099871635437,
         "trend_aroon_up": 100,
         "trend_aroon_down": 16,
         "aroon_signal": 0,
         "aroon_position": 1,
         "_deepnote_index_column": "2021-08-11T00:00:00.000000"
        }
       ]
      },
      "text/plain": "               Close  trend_aroon_up  trend_aroon_down  aroon_signal  \\\nDate                                                                   \n2019-09-01  0.258054             NaN               NaN             0   \n2019-09-02  0.260820             NaN               NaN             0   \n2019-09-03  0.263139             NaN               NaN             0   \n2019-09-04  0.259905             NaN               NaN             0   \n2019-09-05  0.256346             NaN               NaN             0   \n...              ...             ...               ...           ...   \n2021-08-06  0.746513            72.0              32.0             0   \n2021-08-07  0.816281           100.0              28.0             1   \n2021-08-08  0.778739            96.0              24.0             0   \n2021-08-09  0.818553           100.0              20.0             0   \n2021-08-11  0.875210           100.0              16.0             0   \n\n            aroon_position  \nDate                        \n2019-09-01               1  \n2019-09-02               1  \n2019-09-03               1  \n2019-09-04               1  \n2019-09-05               1  \n...                    ...  \n2021-08-06               0  \n2021-08-07               1  \n2021-08-08               1  \n2021-08-09               1  \n2021-08-11               1  \n\n[706 rows x 5 columns]",
      "text/html": "<div>\n<style scoped>\n    .dataframe tbody tr th:only-of-type {\n        vertical-align: middle;\n    }\n\n    .dataframe tbody tr th {\n        vertical-align: top;\n    }\n\n    .dataframe thead th {\n        text-align: right;\n    }\n</style>\n<table border=\"1\" class=\"dataframe\">\n  <thead>\n    <tr style=\"text-align: right;\">\n      <th></th>\n      <th>Close</th>\n      <th>trend_aroon_up</th>\n      <th>trend_aroon_down</th>\n      <th>aroon_signal</th>\n      <th>aroon_position</th>\n    </tr>\n    <tr>\n      <th>Date</th>\n      <th></th>\n      <th></th>\n      <th></th>\n      <th></th>\n      <th></th>\n    </tr>\n  </thead>\n  <tbody>\n    <tr>\n      <th>2019-09-01</th>\n      <td>0.258054</td>\n      <td>NaN</td>\n      <td>NaN</td>\n      <td>0</td>\n      <td>1</td>\n    </tr>\n    <tr>\n      <th>2019-09-02</th>\n      <td>0.260820</td>\n      <td>NaN</td>\n      <td>NaN</td>\n      <td>0</td>\n      <td>1</td>\n    </tr>\n    <tr>\n      <th>2019-09-03</th>\n      <td>0.263139</td>\n      <td>NaN</td>\n      <td>NaN</td>\n      <td>0</td>\n      <td>1</td>\n    </tr>\n    <tr>\n      <th>2019-09-04</th>\n      <td>0.259905</td>\n      <td>NaN</td>\n      <td>NaN</td>\n      <td>0</td>\n      <td>1</td>\n    </tr>\n    <tr>\n      <th>2019-09-05</th>\n      <td>0.256346</td>\n      <td>NaN</td>\n      <td>NaN</td>\n      <td>0</td>\n      <td>1</td>\n    </tr>\n    <tr>\n      <th>...</th>\n      <td>...</td>\n      <td>...</td>\n      <td>...</td>\n      <td>...</td>\n      <td>...</td>\n    </tr>\n    <tr>\n      <th>2021-08-06</th>\n      <td>0.746513</td>\n      <td>72.0</td>\n      <td>32.0</td>\n      <td>0</td>\n      <td>0</td>\n    </tr>\n    <tr>\n      <th>2021-08-07</th>\n      <td>0.816281</td>\n      <td>100.0</td>\n      <td>28.0</td>\n      <td>1</td>\n      <td>1</td>\n    </tr>\n    <tr>\n      <th>2021-08-08</th>\n      <td>0.778739</td>\n      <td>96.0</td>\n      <td>24.0</td>\n      <td>0</td>\n      <td>1</td>\n    </tr>\n    <tr>\n      <th>2021-08-09</th>\n      <td>0.818553</td>\n      <td>100.0</td>\n      <td>20.0</td>\n      <td>0</td>\n      <td>1</td>\n    </tr>\n    <tr>\n      <th>2021-08-11</th>\n      <td>0.875210</td>\n      <td>100.0</td>\n      <td>16.0</td>\n      <td>0</td>\n      <td>1</td>\n    </tr>\n  </tbody>\n</table>\n<p>706 rows × 5 columns</p>\n</div>"
     },
     "metadata": {}
    }
   ],
   "execution_count": 29
  },
  {
   "cell_type": "code",
   "metadata": {
    "tags": [],
    "cell_id": "00008-cb62b6fe-9953-44a1-8e6f-332f1f12afa6",
    "deepnote_to_be_reexecuted": false,
    "source_hash": "5f105987",
    "execution_start": 1628644939876,
    "execution_millis": 513,
    "deepnote_cell_type": "code"
   },
   "source": "# BACKTESTING THE XRP AROON TRADE STRATEGY\ndf = get_aroon('XRP-USD', '2019-09-01')\n\ndf_ret = pd.DataFrame(np.diff(df['Close'])).rename(columns = {0:'returns'})\naroon_strategy_ret = []\n\nfor i in range(len(df_ret)):\n    returns = df_ret['returns'][i]*strategy['aroon_position'][i]\n    aroon_strategy_ret.append(returns)\n    \naroon_strategy_ret_df = pd.DataFrame(aroon_strategy_ret).rename(columns = {0:'aroon_returns'})\ninvestment_value = 100000\nnumber_of_stocks = floor(investment_value/df['Close'][-1])\naroon_investment_ret = []\n\nfor i in range(len(aroon_strategy_ret_df['aroon_returns'])):\n    returns = number_of_stocks*aroon_strategy_ret_df['aroon_returns'][i]\n    aroon_investment_ret.append(returns)\n\naroon_investment_ret_df = pd.DataFrame(aroon_investment_ret).rename(columns = {0:'investment_returns'})\ntotal_investment_ret = round(sum(aroon_investment_ret_df['investment_returns']), 2)\nprofit_percentage = floor((total_investment_ret/investment_value)*100)\nprint(cl('Profit gained from the Aroon strategy by investing $100k in XRP : {}'.format(total_investment_ret), attrs = ['bold']))\nprint(cl('Profit percentage of the Aroon strategy : {}%'.format(profit_percentage), attrs = ['bold']))",
   "outputs": [
    {
     "name": "stdout",
     "text": "[*********************100%***********************]  1 of 1 completed\n/root/venv/lib/python3.7/site-packages/ta/trend.py:768: RuntimeWarning: invalid value encountered in double_scalars\n  dip[i] = 100 * (self._dip[i] / self._trs[i])\n/root/venv/lib/python3.7/site-packages/ta/trend.py:772: RuntimeWarning: invalid value encountered in double_scalars\n  din[i] = 100 * (self._din[i] / self._trs[i])\n\u001b[1mProfit gained from the Aroon strategy by investing $100k in XRP : 125182.66\u001b[0m\n\u001b[1mProfit percentage of the Aroon strategy : 125%\u001b[0m\n",
     "output_type": "stream"
    }
   ],
   "execution_count": 30
  },
  {
   "cell_type": "code",
   "metadata": {
    "tags": [],
    "cell_id": "00009-b3e8b420-fac7-4b69-8fdd-848ee697db82",
    "deepnote_to_be_reexecuted": false,
    "source_hash": "8f3f229b",
    "execution_start": 1628646656663,
    "execution_millis": 11,
    "deepnote_cell_type": "code"
   },
   "source": "strategy.to_csv('xrp_aroon_df')",
   "outputs": [],
   "execution_count": 33
  },
  {
   "cell_type": "code",
   "metadata": {
    "tags": [],
    "cell_id": "00010-1ec0c63e-a2f9-4400-9763-31ba6f4e352b",
    "deepnote_cell_type": "code"
   },
   "source": "",
   "execution_count": null,
   "outputs": []
  },
  {
   "cell_type": "markdown",
   "source": "<a style='text-decoration:none;line-height:16px;display:flex;color:#5B5B62;padding:10px;justify-content:end;' href='https://deepnote.com?utm_source=created-in-deepnote-cell&projectId=d12c285c-6789-4c45-9ad7-1be9b4d60622' target=\"_blank\">\n<img alt='Created in deepnote.com' style='display:inline;max-height:16px;margin:0px;margin-right:7.5px;' src='data:image/svg+xml;base64,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' > </img>\nCreated in <span style='font-weight:600;margin-left:4px;'>Deepnote</span></a>",
   "metadata": {
    "tags": [],
    "created_in_deepnote_cell": true,
    "deepnote_cell_type": "markdown"
   }
  }
 ],
 "nbformat": 4,
 "nbformat_minor": 2,
 "metadata": {
  "orig_nbformat": 2,
  "deepnote": {
   "is_reactive": false
  },
  "deepnote_notebook_id": "61da409d-998f-426c-b3eb-d4e414eb495e",
  "deepnote_execution_queue": []
 }
}