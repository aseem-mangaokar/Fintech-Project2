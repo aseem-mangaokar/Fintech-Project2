{
 "cells": [
  {
   "cell_type": "code",
   "metadata": {
    "tags": [],
    "deepnote_to_be_reexecuted": false,
    "source_hash": "32367b8d",
    "execution_start": 1629319381054,
    "execution_millis": 1305,
    "cell_id": "00000-1b150347-8366-47d7-904a-b10509a078bf",
    "deepnote_cell_type": "code"
   },
   "source": "import datetime as dt\nfrom pathlib import Path\nimport requests\nimport pandas as pd\nimport numpy as np\nfrom math import floor\nfrom termcolor import colored as cl\nimport matplotlib.pyplot as plt\nplt.close('all')\nimport yfinance as yf\nplt.rcParams['figure.figsize'] = (20, 10)\nplt.style.use('fivethirtyeight')",
   "outputs": [],
   "execution_count": null
  },
  {
   "cell_type": "code",
   "metadata": {
    "tags": [],
    "deepnote_to_be_reexecuted": false,
    "source_hash": "6a206a45",
    "execution_start": 1629319382383,
    "execution_millis": 1167,
    "cell_id": "00001-3b1d258d-1713-4cf3-ba71-45c4e5705dec",
    "deepnote_cell_type": "code"
   },
   "source": "xrp = yf.download(tickers='XRP-USD', start='2019-09-01', end = '2021-08-11', interval='1d')\nxrp.drop(columns = ['Open','High','Low','Adj Close','Volume'], inplace = True)\n# sq_1d.reset_index(inplace=True)\n# sq_1d.rename(columns = {'index':'Datetime'}, inplace = True)\n# sq_1d.set_index(pd.to_datetime(sq_1d['Datetime'],infer_datetime_format=True),inplace=True)\nxrp.head()",
   "outputs": [
    {
     "name": "stdout",
     "text": "[*********************100%***********************]  1 of 1 completed\n",
     "output_type": "stream"
    },
    {
     "output_type": "execute_result",
     "execution_count": 2,
     "data": {
      "application/vnd.deepnote.dataframe.v2+json": {
       "row_count": 5,
       "column_count": 1,
       "columns": [
        {
         "name": "Close",
         "dtype": "float64",
         "stats": {
          "unique_count": 5,
          "nan_count": 0,
          "min": "0.2563459873199463",
          "max": "0.263139009475708",
          "histogram": [
           {
            "bin_start": 0.2563459873199463,
            "bin_end": 0.25702528953552245,
            "count": 1
           },
           {
            "bin_start": 0.25702528953552245,
            "bin_end": 0.2577045917510986,
            "count": 0
           },
           {
            "bin_start": 0.2577045917510986,
            "bin_end": 0.2583838939666748,
            "count": 1
           },
           {
            "bin_start": 0.2583838939666748,
            "bin_end": 0.259063196182251,
            "count": 0
           },
           {
            "bin_start": 0.259063196182251,
            "bin_end": 0.25974249839782715,
            "count": 0
           },
           {
            "bin_start": 0.25974249839782715,
            "bin_end": 0.2604218006134033,
            "count": 1
           },
           {
            "bin_start": 0.2604218006134033,
            "bin_end": 0.26110110282897947,
            "count": 1
           },
           {
            "bin_start": 0.26110110282897947,
            "bin_end": 0.2617804050445557,
            "count": 0
           },
           {
            "bin_start": 0.2617804050445557,
            "bin_end": 0.26245970726013185,
            "count": 0
           },
           {
            "bin_start": 0.26245970726013185,
            "bin_end": 0.263139009475708,
            "count": 1
           }
          ]
         }
        },
        {
         "name": "_deepnote_index_column",
         "dtype": "datetime64[ns]"
        }
       ],
       "rows_top": [
        {
         "Close": 0.2580539882183075,
         "_deepnote_index_column": "2019-09-01T00:00:00.000000"
        },
        {
         "Close": 0.2608200013637543,
         "_deepnote_index_column": "2019-09-02T00:00:00.000000"
        },
        {
         "Close": 0.263139009475708,
         "_deepnote_index_column": "2019-09-03T00:00:00.000000"
        },
        {
         "Close": 0.25990501046180725,
         "_deepnote_index_column": "2019-09-04T00:00:00.000000"
        },
        {
         "Close": 0.2563459873199463,
         "_deepnote_index_column": "2019-09-05T00:00:00.000000"
        }
       ],
       "rows_bottom": null
      },
      "text/plain": "               Close\nDate                \n2019-09-01  0.258054\n2019-09-02  0.260820\n2019-09-03  0.263139\n2019-09-04  0.259905\n2019-09-05  0.256346",
      "text/html": "<div>\n<style scoped>\n    .dataframe tbody tr th:only-of-type {\n        vertical-align: middle;\n    }\n\n    .dataframe tbody tr th {\n        vertical-align: top;\n    }\n\n    .dataframe thead th {\n        text-align: right;\n    }\n</style>\n<table border=\"1\" class=\"dataframe\">\n  <thead>\n    <tr style=\"text-align: right;\">\n      <th></th>\n      <th>Close</th>\n    </tr>\n    <tr>\n      <th>Date</th>\n      <th></th>\n    </tr>\n  </thead>\n  <tbody>\n    <tr>\n      <th>2019-09-01</th>\n      <td>0.258054</td>\n    </tr>\n    <tr>\n      <th>2019-09-02</th>\n      <td>0.260820</td>\n    </tr>\n    <tr>\n      <th>2019-09-03</th>\n      <td>0.263139</td>\n    </tr>\n    <tr>\n      <th>2019-09-04</th>\n      <td>0.259905</td>\n    </tr>\n    <tr>\n      <th>2019-09-05</th>\n      <td>0.256346</td>\n    </tr>\n  </tbody>\n</table>\n</div>"
     },
     "metadata": {}
    }
   ],
   "execution_count": null
  },
  {
   "cell_type": "code",
   "metadata": {
    "tags": [],
    "deepnote_to_be_reexecuted": false,
    "source_hash": "720fc137",
    "execution_start": 1629319383578,
    "execution_millis": 10,
    "cell_id": "00002-60ae335d-b1c8-4fd6-a312-c9da8bd53d3d",
    "deepnote_cell_type": "code"
   },
   "source": "# Drop NAs and calculate daily percent return\nxrp['daily_return'] = xrp['Close'].dropna().pct_change()\nxrp.head()",
   "outputs": [
    {
     "output_type": "execute_result",
     "execution_count": 3,
     "data": {
      "application/vnd.deepnote.dataframe.v2+json": {
       "row_count": 5,
       "column_count": 2,
       "columns": [
        {
         "name": "Close",
         "dtype": "float64",
         "stats": {
          "unique_count": 5,
          "nan_count": 0,
          "min": "0.2563459873199463",
          "max": "0.263139009475708",
          "histogram": [
           {
            "bin_start": 0.2563459873199463,
            "bin_end": 0.25702528953552245,
            "count": 1
           },
           {
            "bin_start": 0.25702528953552245,
            "bin_end": 0.2577045917510986,
            "count": 0
           },
           {
            "bin_start": 0.2577045917510986,
            "bin_end": 0.2583838939666748,
            "count": 1
           },
           {
            "bin_start": 0.2583838939666748,
            "bin_end": 0.259063196182251,
            "count": 0
           },
           {
            "bin_start": 0.259063196182251,
            "bin_end": 0.25974249839782715,
            "count": 0
           },
           {
            "bin_start": 0.25974249839782715,
            "bin_end": 0.2604218006134033,
            "count": 1
           },
           {
            "bin_start": 0.2604218006134033,
            "bin_end": 0.26110110282897947,
            "count": 1
           },
           {
            "bin_start": 0.26110110282897947,
            "bin_end": 0.2617804050445557,
            "count": 0
           },
           {
            "bin_start": 0.2617804050445557,
            "bin_end": 0.26245970726013185,
            "count": 0
           },
           {
            "bin_start": 0.26245970726013185,
            "bin_end": 0.263139009475708,
            "count": 1
           }
          ]
         }
        },
        {
         "name": "daily_return",
         "dtype": "float64",
         "stats": {
          "unique_count": 4,
          "nan_count": 1,
          "min": "-0.013693553408367087",
          "max": "0.010718738216542567",
          "histogram": [
           {
            "bin_start": -0.013693553408367087,
            "bin_end": -0.011252324245876123,
            "count": 2
           },
           {
            "bin_start": -0.011252324245876123,
            "bin_end": -0.008811095083385156,
            "count": 0
           },
           {
            "bin_start": -0.008811095083385156,
            "bin_end": -0.0063698659208941905,
            "count": 0
           },
           {
            "bin_start": -0.0063698659208941905,
            "bin_end": -0.003928636758403225,
            "count": 0
           },
           {
            "bin_start": -0.003928636758403225,
            "bin_end": -0.0014874075959122601,
            "count": 0
           },
           {
            "bin_start": -0.0014874075959122601,
            "bin_end": 0.0009538215665787064,
            "count": 0
           },
           {
            "bin_start": 0.0009538215665787064,
            "bin_end": 0.003395050729069673,
            "count": 0
           },
           {
            "bin_start": 0.003395050729069673,
            "bin_end": 0.005836279891560638,
            "count": 0
           },
           {
            "bin_start": 0.005836279891560638,
            "bin_end": 0.008277509054051602,
            "count": 0
           },
           {
            "bin_start": 0.008277509054051602,
            "bin_end": 0.010718738216542567,
            "count": 2
           }
          ]
         }
        },
        {
         "name": "_deepnote_index_column",
         "dtype": "datetime64[ns]"
        }
       ],
       "rows_top": [
        {
         "Close": 0.2580539882183075,
         "daily_return": "nan",
         "_deepnote_index_column": "2019-09-01T00:00:00.000000"
        },
        {
         "Close": 0.2608200013637543,
         "daily_return": 0.010718738216542567,
         "_deepnote_index_column": "2019-09-02T00:00:00.000000"
        },
        {
         "Close": 0.263139009475708,
         "daily_return": 0.008891220381214149,
         "_deepnote_index_column": "2019-09-03T00:00:00.000000"
        },
        {
         "Close": 0.25990501046180725,
         "daily_return": -0.012290078237903068,
         "_deepnote_index_column": "2019-09-04T00:00:00.000000"
        },
        {
         "Close": 0.2563459873199463,
         "daily_return": -0.013693553408367087,
         "_deepnote_index_column": "2019-09-05T00:00:00.000000"
        }
       ],
       "rows_bottom": null
      },
      "text/plain": "               Close  daily_return\nDate                              \n2019-09-01  0.258054           NaN\n2019-09-02  0.260820      0.010719\n2019-09-03  0.263139      0.008891\n2019-09-04  0.259905     -0.012290\n2019-09-05  0.256346     -0.013694",
      "text/html": "<div>\n<style scoped>\n    .dataframe tbody tr th:only-of-type {\n        vertical-align: middle;\n    }\n\n    .dataframe tbody tr th {\n        vertical-align: top;\n    }\n\n    .dataframe thead th {\n        text-align: right;\n    }\n</style>\n<table border=\"1\" class=\"dataframe\">\n  <thead>\n    <tr style=\"text-align: right;\">\n      <th></th>\n      <th>Close</th>\n      <th>daily_return</th>\n    </tr>\n    <tr>\n      <th>Date</th>\n      <th></th>\n      <th></th>\n    </tr>\n  </thead>\n  <tbody>\n    <tr>\n      <th>2019-09-01</th>\n      <td>0.258054</td>\n      <td>NaN</td>\n    </tr>\n    <tr>\n      <th>2019-09-02</th>\n      <td>0.260820</td>\n      <td>0.010719</td>\n    </tr>\n    <tr>\n      <th>2019-09-03</th>\n      <td>0.263139</td>\n      <td>0.008891</td>\n    </tr>\n    <tr>\n      <th>2019-09-04</th>\n      <td>0.259905</td>\n      <td>-0.012290</td>\n    </tr>\n    <tr>\n      <th>2019-09-05</th>\n      <td>0.256346</td>\n      <td>-0.013694</td>\n    </tr>\n  </tbody>\n</table>\n</div>"
     },
     "metadata": {}
    }
   ],
   "execution_count": null
  },
  {
   "cell_type": "code",
   "metadata": {
    "tags": [],
    "deepnote_to_be_reexecuted": false,
    "source_hash": "fbac094b",
    "execution_start": 1629319383607,
    "execution_millis": 51,
    "cell_id": "00003-ff48ec51-317b-49a9-b468-3558f853c9a6",
    "deepnote_cell_type": "code"
   },
   "source": "# Set short and long windows\nshort_window = 1\nlong_window = 10\n\n# Construct a `Fast` and `Slow` Exponential Moving Average from short and long windows, respectively\nxrp['fast_close'] = xrp['Close'].ewm(halflife=short_window).mean()\nxrp['slow_close'] = xrp['Close'].ewm(halflife=long_window).mean()\n\n# Construct a crossover trading signal\nxrp['crossover_long'] = np.where(xrp['fast_close'] > xrp['slow_close'], 1.0, 0.0)\nxrp['crossover_short'] = np.where(xrp['fast_close'] < xrp['slow_close'], -1.0, 0.0)\nxrp['crossover_signal'] = xrp['crossover_long'] + xrp['crossover_short']\n\nxrp.head()",
   "outputs": [
    {
     "output_type": "execute_result",
     "execution_count": 4,
     "data": {
      "application/vnd.deepnote.dataframe.v2+json": {
       "row_count": 5,
       "column_count": 7,
       "columns": [
        {
         "name": "Close",
         "dtype": "float64",
         "stats": {
          "unique_count": 5,
          "nan_count": 0,
          "min": "0.2563459873199463",
          "max": "0.263139009475708",
          "histogram": [
           {
            "bin_start": 0.2563459873199463,
            "bin_end": 0.25702528953552245,
            "count": 1
           },
           {
            "bin_start": 0.25702528953552245,
            "bin_end": 0.2577045917510986,
            "count": 0
           },
           {
            "bin_start": 0.2577045917510986,
            "bin_end": 0.2583838939666748,
            "count": 1
           },
           {
            "bin_start": 0.2583838939666748,
            "bin_end": 0.259063196182251,
            "count": 0
           },
           {
            "bin_start": 0.259063196182251,
            "bin_end": 0.25974249839782715,
            "count": 0
           },
           {
            "bin_start": 0.25974249839782715,
            "bin_end": 0.2604218006134033,
            "count": 1
           },
           {
            "bin_start": 0.2604218006134033,
            "bin_end": 0.26110110282897947,
            "count": 1
           },
           {
            "bin_start": 0.26110110282897947,
            "bin_end": 0.2617804050445557,
            "count": 0
           },
           {
            "bin_start": 0.2617804050445557,
            "bin_end": 0.26245970726013185,
            "count": 0
           },
           {
            "bin_start": 0.26245970726013185,
            "bin_end": 0.263139009475708,
            "count": 1
           }
          ]
         }
        },
        {
         "name": "daily_return",
         "dtype": "float64",
         "stats": {
          "unique_count": 4,
          "nan_count": 1,
          "min": "-0.013693553408367087",
          "max": "0.010718738216542567",
          "histogram": [
           {
            "bin_start": -0.013693553408367087,
            "bin_end": -0.011252324245876123,
            "count": 2
           },
           {
            "bin_start": -0.011252324245876123,
            "bin_end": -0.008811095083385156,
            "count": 0
           },
           {
            "bin_start": -0.008811095083385156,
            "bin_end": -0.0063698659208941905,
            "count": 0
           },
           {
            "bin_start": -0.0063698659208941905,
            "bin_end": -0.003928636758403225,
            "count": 0
           },
           {
            "bin_start": -0.003928636758403225,
            "bin_end": -0.0014874075959122601,
            "count": 0
           },
           {
            "bin_start": -0.0014874075959122601,
            "bin_end": 0.0009538215665787064,
            "count": 0
           },
           {
            "bin_start": 0.0009538215665787064,
            "bin_end": 0.003395050729069673,
            "count": 0
           },
           {
            "bin_start": 0.003395050729069673,
            "bin_end": 0.005836279891560638,
            "count": 0
           },
           {
            "bin_start": 0.005836279891560638,
            "bin_end": 0.008277509054051602,
            "count": 0
           },
           {
            "bin_start": 0.008277509054051602,
            "bin_end": 0.010718738216542567,
            "count": 2
           }
          ]
         }
        },
        {
         "name": "fast_close",
         "dtype": "float64",
         "stats": {
          "unique_count": 5,
          "nan_count": 0,
          "min": "0.2580539882183075",
          "max": "0.26175000412123545",
          "histogram": [
           {
            "bin_start": 0.2580539882183075,
            "bin_end": 0.2584235898086003,
            "count": 1
           },
           {
            "bin_start": 0.2584235898086003,
            "bin_end": 0.25879319139889306,
            "count": 1
           },
           {
            "bin_start": 0.25879319139889306,
            "bin_end": 0.2591627929891859,
            "count": 0
           },
           {
            "bin_start": 0.2591627929891859,
            "bin_end": 0.2595323945794787,
            "count": 0
           },
           {
            "bin_start": 0.2595323945794787,
            "bin_end": 0.2599019961697715,
            "count": 1
           },
           {
            "bin_start": 0.2599019961697715,
            "bin_end": 0.26027159776006425,
            "count": 0
           },
           {
            "bin_start": 0.26027159776006425,
            "bin_end": 0.26064119935035707,
            "count": 0
           },
           {
            "bin_start": 0.26064119935035707,
            "bin_end": 0.2610108009406499,
            "count": 1
           },
           {
            "bin_start": 0.2610108009406499,
            "bin_end": 0.26138040253094263,
            "count": 0
           },
           {
            "bin_start": 0.26138040253094263,
            "bin_end": 0.26175000412123545,
            "count": 1
           }
          ]
         }
        },
        {
         "name": "slow_close",
         "dtype": "float64",
         "stats": {
          "unique_count": 5,
          "nan_count": 0,
          "min": "0.2580539882183075",
          "max": "0.2607882754714597",
          "histogram": [
           {
            "bin_start": 0.2580539882183075,
            "bin_end": 0.2583274169436227,
            "count": 1
           },
           {
            "bin_start": 0.2583274169436227,
            "bin_end": 0.25860084566893793,
            "count": 0
           },
           {
            "bin_start": 0.25860084566893793,
            "bin_end": 0.25887427439425315,
            "count": 0
           },
           {
            "bin_start": 0.25887427439425315,
            "bin_end": 0.25914770311956836,
            "count": 0
           },
           {
            "bin_start": 0.25914770311956836,
            "bin_end": 0.2594211318448836,
            "count": 0
           },
           {
            "bin_start": 0.2594211318448836,
            "bin_end": 0.25969456057019885,
            "count": 2
           },
           {
            "bin_start": 0.25969456057019885,
            "bin_end": 0.25996798929551407,
            "count": 0
           },
           {
            "bin_start": 0.25996798929551407,
            "bin_end": 0.2602414180208293,
            "count": 0
           },
           {
            "bin_start": 0.2602414180208293,
            "bin_end": 0.2605148467461445,
            "count": 0
           },
           {
            "bin_start": 0.2605148467461445,
            "bin_end": 0.2607882754714597,
            "count": 2
           }
          ]
         }
        },
        {
         "name": "crossover_long",
         "dtype": "float64",
         "stats": {
          "unique_count": 2,
          "nan_count": 0,
          "min": "0.0",
          "max": "1.0",
          "histogram": [
           {
            "bin_start": 0,
            "bin_end": 0.1,
            "count": 2
           },
           {
            "bin_start": 0.1,
            "bin_end": 0.2,
            "count": 0
           },
           {
            "bin_start": 0.2,
            "bin_end": 0.30000000000000004,
            "count": 0
           },
           {
            "bin_start": 0.30000000000000004,
            "bin_end": 0.4,
            "count": 0
           },
           {
            "bin_start": 0.4,
            "bin_end": 0.5,
            "count": 0
           },
           {
            "bin_start": 0.5,
            "bin_end": 0.6000000000000001,
            "count": 0
           },
           {
            "bin_start": 0.6000000000000001,
            "bin_end": 0.7000000000000001,
            "count": 0
           },
           {
            "bin_start": 0.7000000000000001,
            "bin_end": 0.8,
            "count": 0
           },
           {
            "bin_start": 0.8,
            "bin_end": 0.9,
            "count": 0
           },
           {
            "bin_start": 0.9,
            "bin_end": 1,
            "count": 3
           }
          ]
         }
        },
        {
         "name": "crossover_short",
         "dtype": "float64",
         "stats": {
          "unique_count": 2,
          "nan_count": 0,
          "min": "-1.0",
          "max": "0.0",
          "histogram": [
           {
            "bin_start": -1,
            "bin_end": -0.9,
            "count": 1
           },
           {
            "bin_start": -0.9,
            "bin_end": -0.8,
            "count": 0
           },
           {
            "bin_start": -0.8,
            "bin_end": -0.7,
            "count": 0
           },
           {
            "bin_start": -0.7,
            "bin_end": -0.6,
            "count": 0
           },
           {
            "bin_start": -0.6,
            "bin_end": -0.5,
            "count": 0
           },
           {
            "bin_start": -0.5,
            "bin_end": -0.3999999999999999,
            "count": 0
           },
           {
            "bin_start": -0.3999999999999999,
            "bin_end": -0.29999999999999993,
            "count": 0
           },
           {
            "bin_start": -0.29999999999999993,
            "bin_end": -0.19999999999999996,
            "count": 0
           },
           {
            "bin_start": -0.19999999999999996,
            "bin_end": -0.09999999999999998,
            "count": 0
           },
           {
            "bin_start": -0.09999999999999998,
            "bin_end": 0,
            "count": 4
           }
          ]
         }
        },
        {
         "name": "crossover_signal",
         "dtype": "float64",
         "stats": {
          "unique_count": 3,
          "nan_count": 0,
          "min": "-1.0",
          "max": "1.0",
          "histogram": [
           {
            "bin_start": -1,
            "bin_end": -0.8,
            "count": 1
           },
           {
            "bin_start": -0.8,
            "bin_end": -0.6,
            "count": 0
           },
           {
            "bin_start": -0.6,
            "bin_end": -0.3999999999999999,
            "count": 0
           },
           {
            "bin_start": -0.3999999999999999,
            "bin_end": -0.19999999999999996,
            "count": 0
           },
           {
            "bin_start": -0.19999999999999996,
            "bin_end": 0,
            "count": 0
           },
           {
            "bin_start": 0,
            "bin_end": 0.20000000000000018,
            "count": 1
           },
           {
            "bin_start": 0.20000000000000018,
            "bin_end": 0.40000000000000013,
            "count": 0
           },
           {
            "bin_start": 0.40000000000000013,
            "bin_end": 0.6000000000000001,
            "count": 0
           },
           {
            "bin_start": 0.6000000000000001,
            "bin_end": 0.8,
            "count": 0
           },
           {
            "bin_start": 0.8,
            "bin_end": 1,
            "count": 3
           }
          ]
         }
        },
        {
         "name": "_deepnote_index_column",
         "dtype": "datetime64[ns]"
        }
       ],
       "rows_top": [
        {
         "Close": 0.2580539882183075,
         "daily_return": "nan",
         "fast_close": 0.2580539882183075,
         "slow_close": 0.2580539882183075,
         "crossover_long": 0,
         "crossover_short": 0,
         "crossover_signal": 0,
         "_deepnote_index_column": "2019-09-01T00:00:00.000000"
        },
        {
         "Close": 0.2608200013637543,
         "daily_return": 0.010718738216542567,
         "fast_close": 0.25989799698193866,
         "slow_close": 0.2594849069649388,
         "crossover_long": 1,
         "crossover_short": 0,
         "crossover_signal": 1,
         "_deepnote_index_column": "2019-09-02T00:00:00.000000"
        },
        {
         "Close": 0.263139009475708,
         "daily_return": 0.008891220381214149,
         "fast_close": 0.26175000412123545,
         "slow_close": 0.2607882754714597,
         "crossover_long": 1,
         "crossover_short": 0,
         "crossover_signal": 1,
         "_deepnote_index_column": "2019-09-03T00:00:00.000000"
        },
        {
         "Close": 0.25990501046180725,
         "daily_return": -0.012290078237903068,
         "fast_close": 0.26076600750287376,
         "slow_close": 0.2605439986232908,
         "crossover_long": 1,
         "crossover_short": 0,
         "crossover_signal": 1,
         "_deepnote_index_column": "2019-09-04T00:00:00.000000"
        },
        {
         "Close": 0.2563459873199463,
         "daily_return": -0.013693553408367087,
         "fast_close": 0.25848470676329827,
         "slow_close": 0.2595841667104232,
         "crossover_long": 0,
         "crossover_short": -1,
         "crossover_signal": -1,
         "_deepnote_index_column": "2019-09-05T00:00:00.000000"
        }
       ],
       "rows_bottom": null
      },
      "text/plain": "               Close  daily_return  fast_close  slow_close  crossover_long  \\\nDate                                                                         \n2019-09-01  0.258054           NaN    0.258054    0.258054             0.0   \n2019-09-02  0.260820      0.010719    0.259898    0.259485             1.0   \n2019-09-03  0.263139      0.008891    0.261750    0.260788             1.0   \n2019-09-04  0.259905     -0.012290    0.260766    0.260544             1.0   \n2019-09-05  0.256346     -0.013694    0.258485    0.259584             0.0   \n\n            crossover_short  crossover_signal  \nDate                                           \n2019-09-01              0.0               0.0  \n2019-09-02              0.0               1.0  \n2019-09-03              0.0               1.0  \n2019-09-04              0.0               1.0  \n2019-09-05             -1.0              -1.0  ",
      "text/html": "<div>\n<style scoped>\n    .dataframe tbody tr th:only-of-type {\n        vertical-align: middle;\n    }\n\n    .dataframe tbody tr th {\n        vertical-align: top;\n    }\n\n    .dataframe thead th {\n        text-align: right;\n    }\n</style>\n<table border=\"1\" class=\"dataframe\">\n  <thead>\n    <tr style=\"text-align: right;\">\n      <th></th>\n      <th>Close</th>\n      <th>daily_return</th>\n      <th>fast_close</th>\n      <th>slow_close</th>\n      <th>crossover_long</th>\n      <th>crossover_short</th>\n      <th>crossover_signal</th>\n    </tr>\n    <tr>\n      <th>Date</th>\n      <th></th>\n      <th></th>\n      <th></th>\n      <th></th>\n      <th></th>\n      <th></th>\n      <th></th>\n    </tr>\n  </thead>\n  <tbody>\n    <tr>\n      <th>2019-09-01</th>\n      <td>0.258054</td>\n      <td>NaN</td>\n      <td>0.258054</td>\n      <td>0.258054</td>\n      <td>0.0</td>\n      <td>0.0</td>\n      <td>0.0</td>\n    </tr>\n    <tr>\n      <th>2019-09-02</th>\n      <td>0.260820</td>\n      <td>0.010719</td>\n      <td>0.259898</td>\n      <td>0.259485</td>\n      <td>1.0</td>\n      <td>0.0</td>\n      <td>1.0</td>\n    </tr>\n    <tr>\n      <th>2019-09-03</th>\n      <td>0.263139</td>\n      <td>0.008891</td>\n      <td>0.261750</td>\n      <td>0.260788</td>\n      <td>1.0</td>\n      <td>0.0</td>\n      <td>1.0</td>\n    </tr>\n    <tr>\n      <th>2019-09-04</th>\n      <td>0.259905</td>\n      <td>-0.012290</td>\n      <td>0.260766</td>\n      <td>0.260544</td>\n      <td>1.0</td>\n      <td>0.0</td>\n      <td>1.0</td>\n    </tr>\n    <tr>\n      <th>2019-09-05</th>\n      <td>0.256346</td>\n      <td>-0.013694</td>\n      <td>0.258485</td>\n      <td>0.259584</td>\n      <td>0.0</td>\n      <td>-1.0</td>\n      <td>-1.0</td>\n    </tr>\n  </tbody>\n</table>\n</div>"
     },
     "metadata": {}
    }
   ],
   "execution_count": null
  },
  {
   "cell_type": "code",
   "metadata": {
    "tags": [],
    "deepnote_to_be_reexecuted": false,
    "source_hash": "4ef849d3",
    "execution_start": 1629319383664,
    "execution_millis": 526,
    "cell_id": "00004-f44077f2-5fbf-426e-9445-ef6825baae04",
    "deepnote_cell_type": "code"
   },
   "source": "# Plot the EMA of XRP/USD closing prices\nxrp[['Close', 'fast_close', 'slow_close']].plot(figsize=(20,10))",
   "outputs": [
    {
     "output_type": "execute_result",
     "execution_count": 5,
     "data": {
      "text/plain": "<AxesSubplot:xlabel='Date'>"
     },
     "metadata": {}
    },
    {
     "data": {
      "text/plain": "<Figure size 1440x720 with 1 Axes>",
      "image/png": "[encoded data removed]"
     },
     "metadata": {
      "image/png": {
       "width": 1301,
       "height": 570
      }
     },
     "output_type": "display_data"
    }
   ],
   "execution_count": null
  },
  {
   "cell_type": "code",
   "metadata": {
    "tags": [],
    "deepnote_to_be_reexecuted": false,
    "source_hash": "362c8bba",
    "execution_start": 1629319384199,
    "execution_millis": 127,
    "cell_id": "00005-4c43fc1b-d2a8-40ef-bff7-b22e15d4d39a",
    "deepnote_cell_type": "code"
   },
   "source": "# Set short and long volatility windows\nshort_vol_window = 1\nlong_vol_window = 10\n\n# Construct a `Fast` and `Slow` Exponential Moving Average from short and long windows, respectively\nxrp['fast_vol'] = xrp['daily_return'].ewm(halflife=short_vol_window).std()\nxrp['slow_vol'] = xrp['daily_return'].ewm(halflife=long_vol_window).std()\n\n# Construct a crossover trading signal\nxrp['vol_trend_long'] = np.where(xrp['fast_vol'] < xrp['slow_vol'], 1.0, 0.0)\nxrp['vol_trend_short'] = np.where(xrp['fast_vol'] > xrp['slow_vol'], -1.0, 0.0) \nxrp['vol_trend_signal'] = xrp['vol_trend_long'] + xrp['vol_trend_short']\n\nxrp",
   "outputs": [
    {
     "output_type": "execute_result",
     "execution_count": 6,
     "data": {
      "application/vnd.deepnote.dataframe.v2+json": {
       "row_count": 707,
       "column_count": 12,
       "columns": [
        {
         "name": "Close",
         "dtype": "float64",
         "stats": {
          "unique_count": 706,
          "nan_count": 0,
          "min": "0.13963499665260315",
          "max": "1.8392360210418701",
          "histogram": [
           {
            "bin_start": 0.13963499665260315,
            "bin_end": 0.3095950990915298,
            "count": 468
           },
           {
            "bin_start": 0.3095950990915298,
            "bin_end": 0.47955520153045655,
            "count": 50
           },
           {
            "bin_start": 0.47955520153045655,
            "bin_end": 0.6495153039693833,
            "count": 85
           },
           {
            "bin_start": 0.6495153039693833,
            "bin_end": 0.81947540640831,
            "count": 29
           },
           {
            "bin_start": 0.81947540640831,
            "bin_end": 0.9894355088472366,
            "count": 23
           },
           {
            "bin_start": 0.9894355088472366,
            "bin_end": 1.1593956112861634,
            "count": 14
           },
           {
            "bin_start": 1.1593956112861634,
            "bin_end": 1.32935571372509,
            "count": 6
           },
           {
            "bin_start": 1.32935571372509,
            "bin_end": 1.4993158161640168,
            "count": 17
           },
           {
            "bin_start": 1.4993158161640168,
            "bin_end": 1.6692759186029436,
            "count": 12
           },
           {
            "bin_start": 1.6692759186029436,
            "bin_end": 1.8392360210418701,
            "count": 3
           }
          ]
         }
        },
        {
         "name": "daily_return",
         "dtype": "float64",
         "stats": {
          "unique_count": 706,
          "nan_count": 1,
          "min": "-0.42334007070183066",
          "max": "0.5601088348528376",
          "histogram": [
           {
            "bin_start": -0.42334007070183066,
            "bin_end": -0.32499518014636386,
            "count": 3
           },
           {
            "bin_start": -0.32499518014636386,
            "bin_end": -0.226650289590897,
            "count": 1
           },
           {
            "bin_start": -0.226650289590897,
            "bin_end": -0.12830539903543015,
            "count": 7
           },
           {
            "bin_start": -0.12830539903543015,
            "bin_end": -0.029960508479963344,
            "count": 123
           },
           {
            "bin_start": -0.029960508479963344,
            "bin_end": 0.06838438207550346,
            "count": 513
           },
           {
            "bin_start": 0.06838438207550346,
            "bin_end": 0.16672927263097037,
            "count": 46
           },
           {
            "bin_start": 0.16672927263097037,
            "bin_end": 0.2650741631864372,
            "count": 5
           },
           {
            "bin_start": 0.2650741631864372,
            "bin_end": 0.363419053741904,
            "count": 4
           },
           {
            "bin_start": 0.363419053741904,
            "bin_end": 0.4617639442973708,
            "count": 3
           },
           {
            "bin_start": 0.4617639442973708,
            "bin_end": 0.5601088348528376,
            "count": 1
           }
          ]
         }
        },
        {
         "name": "fast_close",
         "dtype": "float64",
         "stats": {
          "unique_count": 707,
          "nan_count": 0,
          "min": "0.14476571900781293",
          "max": "1.7385203519637529",
          "histogram": [
           {
            "bin_start": 0.14476571900781293,
            "bin_end": 0.3041411823034069,
            "count": 467
           },
           {
            "bin_start": 0.3041411823034069,
            "bin_end": 0.4635166455990009,
            "count": 42
           },
           {
            "bin_start": 0.4635166455990009,
            "bin_end": 0.6228921088945949,
            "count": 78
           },
           {
            "bin_start": 0.6228921088945949,
            "bin_end": 0.7822675721901888,
            "count": 41
           },
           {
            "bin_start": 0.7822675721901888,
            "bin_end": 0.9416430354857828,
            "count": 22
           },
           {
            "bin_start": 0.9416430354857828,
            "bin_end": 1.101018498781377,
            "count": 16
           },
           {
            "bin_start": 1.101018498781377,
            "bin_end": 1.2603939620769709,
            "count": 7
           },
           {
            "bin_start": 1.2603939620769709,
            "bin_end": 1.4197694253725648,
            "count": 12
           },
           {
            "bin_start": 1.4197694253725648,
            "bin_end": 1.5791448886681587,
            "count": 17
           },
           {
            "bin_start": 1.5791448886681587,
            "bin_end": 1.7385203519637529,
            "count": 5
           }
          ]
         }
        },
        {
         "name": "slow_close",
         "dtype": "float64",
         "stats": {
          "unique_count": 707,
          "nan_count": 0,
          "min": "0.18152655848695887",
          "max": "1.4077739361230923",
          "histogram": [
           {
            "bin_start": 0.18152655848695887,
            "bin_end": 0.3041512962505722,
            "count": 452
           },
           {
            "bin_start": 0.3041512962505722,
            "bin_end": 0.4267760340141855,
            "count": 46
           },
           {
            "bin_start": 0.4267760340141855,
            "bin_end": 0.5494007717777989,
            "count": 80
           },
           {
            "bin_start": 0.5494007717777989,
            "bin_end": 0.6720255095414123,
            "count": 19
           },
           {
            "bin_start": 0.6720255095414123,
            "bin_end": 0.7946502473050255,
            "count": 31
           },
           {
            "bin_start": 0.7946502473050255,
            "bin_end": 0.9172749850686389,
            "count": 11
           },
           {
            "bin_start": 0.9172749850686389,
            "bin_end": 1.0398997228322522,
            "count": 14
           },
           {
            "bin_start": 1.0398997228322522,
            "bin_end": 1.1625244605958656,
            "count": 22
           },
           {
            "bin_start": 1.1625244605958656,
            "bin_end": 1.2851491983594787,
            "count": 12
           },
           {
            "bin_start": 1.2851491983594787,
            "bin_end": 1.4077739361230923,
            "count": 20
           }
          ]
         }
        },
        {
         "name": "crossover_long",
         "dtype": "float64",
         "stats": {
          "unique_count": 2,
          "nan_count": 0,
          "min": "0.0",
          "max": "1.0",
          "histogram": [
           {
            "bin_start": 0,
            "bin_end": 0.1,
            "count": 344
           },
           {
            "bin_start": 0.1,
            "bin_end": 0.2,
            "count": 0
           },
           {
            "bin_start": 0.2,
            "bin_end": 0.30000000000000004,
            "count": 0
           },
           {
            "bin_start": 0.30000000000000004,
            "bin_end": 0.4,
            "count": 0
           },
           {
            "bin_start": 0.4,
            "bin_end": 0.5,
            "count": 0
           },
           {
            "bin_start": 0.5,
            "bin_end": 0.6000000000000001,
            "count": 0
           },
           {
            "bin_start": 0.6000000000000001,
            "bin_end": 0.7000000000000001,
            "count": 0
           },
           {
            "bin_start": 0.7000000000000001,
            "bin_end": 0.8,
            "count": 0
           },
           {
            "bin_start": 0.8,
            "bin_end": 0.9,
            "count": 0
           },
           {
            "bin_start": 0.9,
            "bin_end": 1,
            "count": 363
           }
          ]
         }
        },
        {
         "name": "crossover_short",
         "dtype": "float64",
         "stats": {
          "unique_count": 2,
          "nan_count": 0,
          "min": "-1.0",
          "max": "0.0",
          "histogram": [
           {
            "bin_start": -1,
            "bin_end": -0.9,
            "count": 343
           },
           {
            "bin_start": -0.9,
            "bin_end": -0.8,
            "count": 0
           },
           {
            "bin_start": -0.8,
            "bin_end": -0.7,
            "count": 0
           },
           {
            "bin_start": -0.7,
            "bin_end": -0.6,
            "count": 0
           },
           {
            "bin_start": -0.6,
            "bin_end": -0.5,
            "count": 0
           },
           {
            "bin_start": -0.5,
            "bin_end": -0.3999999999999999,
            "count": 0
           },
           {
            "bin_start": -0.3999999999999999,
            "bin_end": -0.29999999999999993,
            "count": 0
           },
           {
            "bin_start": -0.29999999999999993,
            "bin_end": -0.19999999999999996,
            "count": 0
           },
           {
            "bin_start": -0.19999999999999996,
            "bin_end": -0.09999999999999998,
            "count": 0
           },
           {
            "bin_start": -0.09999999999999998,
            "bin_end": 0,
            "count": 364
           }
          ]
         }
        },
        {
         "name": "crossover_signal",
         "dtype": "float64",
         "stats": {
          "unique_count": 3,
          "nan_count": 0,
          "min": "-1.0",
          "max": "1.0",
          "histogram": [
           {
            "bin_start": -1,
            "bin_end": -0.8,
            "count": 343
           },
           {
            "bin_start": -0.8,
            "bin_end": -0.6,
            "count": 0
           },
           {
            "bin_start": -0.6,
            "bin_end": -0.3999999999999999,
            "count": 0
           },
           {
            "bin_start": -0.3999999999999999,
            "bin_end": -0.19999999999999996,
            "count": 0
           },
           {
            "bin_start": -0.19999999999999996,
            "bin_end": 0,
            "count": 0
           },
           {
            "bin_start": 0,
            "bin_end": 0.20000000000000018,
            "count": 1
           },
           {
            "bin_start": 0.20000000000000018,
            "bin_end": 0.40000000000000013,
            "count": 0
           },
           {
            "bin_start": 0.40000000000000013,
            "bin_end": 0.6000000000000001,
            "count": 0
           },
           {
            "bin_start": 0.6000000000000001,
            "bin_end": 0.8,
            "count": 0
           },
           {
            "bin_start": 0.8,
            "bin_end": 1,
            "count": 363
           }
          ]
         }
        },
        {
         "name": "fast_vol",
         "dtype": "float64",
         "stats": {
          "unique_count": 705,
          "nan_count": 2,
          "min": "0.001292250254100085",
          "max": "0.37494273571201264",
          "histogram": [
           {
            "bin_start": 0.001292250254100085,
            "bin_end": 0.03865729879989134,
            "count": 387
           },
           {
            "bin_start": 0.03865729879989134,
            "bin_end": 0.0760223473456826,
            "count": 201
           },
           {
            "bin_start": 0.0760223473456826,
            "bin_end": 0.11338739589147386,
            "count": 59
           },
           {
            "bin_start": 0.11338739589147386,
            "bin_end": 0.15075244443726513,
            "count": 21
           },
           {
            "bin_start": 0.15075244443726513,
            "bin_end": 0.18811749298305638,
            "count": 13
           },
           {
            "bin_start": 0.18811749298305638,
            "bin_end": 0.22548254152884764,
            "count": 12
           },
           {
            "bin_start": 0.22548254152884764,
            "bin_end": 0.26284759007463887,
            "count": 8
           },
           {
            "bin_start": 0.26284759007463887,
            "bin_end": 0.30021263862043013,
            "count": 1
           },
           {
            "bin_start": 0.30021263862043013,
            "bin_end": 0.3375776871662214,
            "count": 2
           },
           {
            "bin_start": 0.3375776871662214,
            "bin_end": 0.37494273571201264,
            "count": 1
           }
          ]
         }
        },
        {
         "name": "slow_vol",
         "dtype": "float64",
         "stats": {
          "unique_count": 705,
          "nan_count": 2,
          "min": "0.001292250254100085",
          "max": "0.16755788100019856",
          "histogram": [
           {
            "bin_start": 0.001292250254100085,
            "bin_end": 0.017918813328709933,
            "count": 17
           },
           {
            "bin_start": 0.017918813328709933,
            "bin_end": 0.034545376403319776,
            "count": 234
           },
           {
            "bin_start": 0.034545376403319776,
            "bin_end": 0.051171939477929626,
            "count": 176
           },
           {
            "bin_start": 0.051171939477929626,
            "bin_end": 0.06779850255253947,
            "count": 51
           },
           {
            "bin_start": 0.06779850255253947,
            "bin_end": 0.08442506562714931,
            "count": 37
           },
           {
            "bin_start": 0.08442506562714931,
            "bin_end": 0.10105162870175917,
            "count": 63
           },
           {
            "bin_start": 0.10105162870175917,
            "bin_end": 0.11767819177636901,
            "count": 45
           },
           {
            "bin_start": 0.11767819177636901,
            "bin_end": 0.13430475485097887,
            "count": 56
           },
           {
            "bin_start": 0.13430475485097887,
            "bin_end": 0.15093131792558873,
            "count": 18
           },
           {
            "bin_start": 0.15093131792558873,
            "bin_end": 0.16755788100019856,
            "count": 8
           }
          ]
         }
        },
        {
         "name": "vol_trend_long",
         "dtype": "float64",
         "stats": {
          "unique_count": 2,
          "nan_count": 0,
          "min": "0.0",
          "max": "1.0",
          "histogram": [
           {
            "bin_start": 0,
            "bin_end": 0.1,
            "count": 184
           },
           {
            "bin_start": 0.1,
            "bin_end": 0.2,
            "count": 0
           },
           {
            "bin_start": 0.2,
            "bin_end": 0.30000000000000004,
            "count": 0
           },
           {
            "bin_start": 0.30000000000000004,
            "bin_end": 0.4,
            "count": 0
           },
           {
            "bin_start": 0.4,
            "bin_end": 0.5,
            "count": 0
           },
           {
            "bin_start": 0.5,
            "bin_end": 0.6000000000000001,
            "count": 0
           },
           {
            "bin_start": 0.6000000000000001,
            "bin_end": 0.7000000000000001,
            "count": 0
           },
           {
            "bin_start": 0.7000000000000001,
            "bin_end": 0.8,
            "count": 0
           },
           {
            "bin_start": 0.8,
            "bin_end": 0.9,
            "count": 0
           },
           {
            "bin_start": 0.9,
            "bin_end": 1,
            "count": 523
           }
          ]
         }
        },
        {
         "name": "vol_trend_short",
         "dtype": "float64",
         "stats": {
          "unique_count": 2,
          "nan_count": 0,
          "min": "-1.0",
          "max": "0.0",
          "histogram": [
           {
            "bin_start": -1,
            "bin_end": -0.9,
            "count": 181
           },
           {
            "bin_start": -0.9,
            "bin_end": -0.8,
            "count": 0
           },
           {
            "bin_start": -0.8,
            "bin_end": -0.7,
            "count": 0
           },
           {
            "bin_start": -0.7,
            "bin_end": -0.6,
            "count": 0
           },
           {
            "bin_start": -0.6,
            "bin_end": -0.5,
            "count": 0
           },
           {
            "bin_start": -0.5,
            "bin_end": -0.3999999999999999,
            "count": 0
           },
           {
            "bin_start": -0.3999999999999999,
            "bin_end": -0.29999999999999993,
            "count": 0
           },
           {
            "bin_start": -0.29999999999999993,
            "bin_end": -0.19999999999999996,
            "count": 0
           },
           {
            "bin_start": -0.19999999999999996,
            "bin_end": -0.09999999999999998,
            "count": 0
           },
           {
            "bin_start": -0.09999999999999998,
            "bin_end": 0,
            "count": 526
           }
          ]
         }
        },
        {
         "name": "vol_trend_signal",
         "dtype": "float64",
         "stats": {
          "unique_count": 3,
          "nan_count": 0,
          "min": "-1.0",
          "max": "1.0",
          "histogram": [
           {
            "bin_start": -1,
            "bin_end": -0.8,
            "count": 181
           },
           {
            "bin_start": -0.8,
            "bin_end": -0.6,
            "count": 0
           },
           {
            "bin_start": -0.6,
            "bin_end": -0.3999999999999999,
            "count": 0
           },
           {
            "bin_start": -0.3999999999999999,
            "bin_end": -0.19999999999999996,
            "count": 0
           },
           {
            "bin_start": -0.19999999999999996,
            "bin_end": 0,
            "count": 0
           },
           {
            "bin_start": 0,
            "bin_end": 0.20000000000000018,
            "count": 3
           },
           {
            "bin_start": 0.20000000000000018,
            "bin_end": 0.40000000000000013,
            "count": 0
           },
           {
            "bin_start": 0.40000000000000013,
            "bin_end": 0.6000000000000001,
            "count": 0
           },
           {
            "bin_start": 0.6000000000000001,
            "bin_end": 0.8,
            "count": 0
           },
           {
            "bin_start": 0.8,
            "bin_end": 1,
            "count": 523
           }
          ]
         }
        },
        {
         "name": "_deepnote_index_column",
         "dtype": "datetime64[ns]"
        }
       ],
       "rows_top": [
        {
         "Close": 0.2580539882183075,
         "daily_return": "nan",
         "fast_close": 0.2580539882183075,
         "slow_close": 0.2580539882183075,
         "crossover_long": 0,
         "crossover_short": 0,
         "crossover_signal": 0,
         "fast_vol": "nan",
         "slow_vol": "nan",
         "vol_trend_long": 0,
         "vol_trend_short": 0,
         "vol_trend_signal": 0,
         "_deepnote_index_column": "2019-09-01T00:00:00.000000"
        },
        {
         "Close": 0.2608200013637543,
         "daily_return": 0.010718738216542567,
         "fast_close": 0.25989799698193866,
         "slow_close": 0.2594849069649388,
         "crossover_long": 1,
         "crossover_short": 0,
         "crossover_signal": 1,
         "fast_vol": "nan",
         "slow_vol": "nan",
         "vol_trend_long": 0,
         "vol_trend_short": 0,
         "vol_trend_signal": 0,
         "_deepnote_index_column": "2019-09-02T00:00:00.000000"
        },
        {
         "Close": 0.263139009475708,
         "daily_return": 0.008891220381214149,
         "fast_close": 0.26175000412123545,
         "slow_close": 0.2607882754714597,
         "crossover_long": 1,
         "crossover_short": 0,
         "crossover_signal": 1,
         "fast_vol": 0.001292250254100085,
         "slow_vol": 0.001292250254100085,
         "vol_trend_long": 0,
         "vol_trend_short": 0,
         "vol_trend_signal": 0,
         "_deepnote_index_column": "2019-09-03T00:00:00.000000"
        },
        {
         "Close": 0.25990501046180725,
         "daily_return": -0.012290078237903068,
         "fast_close": 0.26076600750287376,
         "slow_close": 0.2605439986232908,
         "crossover_long": 1,
         "crossover_short": 0,
         "crossover_signal": 1,
         "fast_vol": 0.014284708946172496,
         "slow_vol": 0.012985563857605662,
         "vol_trend_long": 0,
         "vol_trend_short": -1,
         "vol_trend_signal": -1,
         "_deepnote_index_column": "2019-09-04T00:00:00.000000"
        },
        {
         "Close": 0.2563459873199463,
         "daily_return": -0.013693553408367087,
         "fast_close": 0.25848470676329827,
         "slow_close": 0.2595841667104232,
         "crossover_long": 0,
         "crossover_short": -1,
         "crossover_signal": -1,
         "fast_vol": 0.011558962263649285,
         "slow_vol": 0.013172144244701846,
         "vol_trend_long": 1,
         "vol_trend_short": 0,
         "vol_trend_signal": 1,
         "_deepnote_index_column": "2019-09-05T00:00:00.000000"
        },
        {
         "Close": 0.2523399889469147,
         "daily_return": -0.015627310631672664,
         "fast_close": 0.2553635802533891,
         "slow_close": 0.2581583722852485,
         "crossover_long": 0,
         "crossover_short": -1,
         "crossover_signal": -1,
         "fast_vol": 0.009001761702160186,
         "slow_vol": 0.012811169367343648,
         "vol_trend_long": 1,
         "vol_trend_short": 0,
         "vol_trend_signal": 1,
         "_deepnote_index_column": "2019-09-06T00:00:00.000000"
        },
        {
         "Close": 0.260686993598938,
         "daily_return": 0.03307840618864133,
         "fast_close": 0.2580462452464216,
         "slow_close": 0.2585988560584126,
         "crossover_long": 0,
         "crossover_short": -1,
         "crossover_signal": -1,
         "fast_vol": 0.028679072989073618,
         "slow_vol": 0.020216813074464508,
         "vol_trend_long": 0,
         "vol_trend_short": -1,
         "vol_trend_signal": -1,
         "_deepnote_index_column": "2019-09-07T00:00:00.000000"
        },
        {
         "Close": 0.2630839943885803,
         "daily_return": 0.00919493817681638,
         "fast_close": 0.2605749977569954,
         "slow_close": 0.2593044961761734,
         "crossover_long": 1,
         "crossover_short": 0,
         "crossover_signal": 1,
         "fast_vol": 0.020140752709217752,
         "slow_vol": 0.01834768346266362,
         "vol_trend_long": 0,
         "vol_trend_short": -1,
         "vol_trend_signal": -1,
         "_deepnote_index_column": "2019-09-08T00:00:00.000000"
        },
        {
         "Close": 0.2595619857311249,
         "daily_return": -0.013387392363571005,
         "fast_close": 0.2600675005385554,
         "slow_close": 0.2593416494022657,
         "crossover_long": 1,
         "crossover_short": 0,
         "crossover_signal": 1,
         "fast_vol": 0.020166664969479844,
         "slow_vol": 0.017908725778821778,
         "vol_trend_long": 0,
         "vol_trend_short": -1,
         "vol_trend_signal": -1,
         "_deepnote_index_column": "2019-09-09T00:00:00.000000"
        },
        {
         "Close": 0.25867098569869995,
         "daily_return": -0.003432706179663403,
         "fast_close": 0.2593685605600549,
         "slow_close": 0.2592518247184404,
         "crossover_long": 1,
         "crossover_short": 0,
         "crossover_signal": 1,
         "fast_vol": 0.014269221650290573,
         "slow_vol": 0.01651331417958373,
         "vol_trend_long": 1,
         "vol_trend_short": 0,
         "vol_trend_signal": 1,
         "_deepnote_index_column": "2019-09-10T00:00:00.000000"
        },
        {
         "Close": 0.2559559941291809,
         "daily_return": -0.01049592617504258,
         "fast_close": 0.2576614437915083,
         "slow_close": 0.2588381063687379,
         "crossover_long": 0,
         "crossover_short": -1,
         "crossover_signal": -1,
         "fast_vol": 0.011182271119215676,
         "slow_vol": 0.01574726629743617,
         "vol_trend_long": 1,
         "vol_trend_short": 0,
         "vol_trend_signal": 1,
         "_deepnote_index_column": "2019-09-11T00:00:00.000000"
        },
        {
         "Close": 0.25481098890304565,
         "daily_return": -0.004473445640649332,
         "fast_close": 0.25623586830638706,
         "slow_close": 0.25836055686427434,
         "crossover_long": 0,
         "crossover_short": -1,
         "crossover_signal": -1,
         "fast_vol": 0.008004785793546541,
         "slow_vol": 0.014696774287620496,
         "vol_trend_long": 1,
         "vol_trend_short": 0,
         "vol_trend_signal": 1,
         "_deepnote_index_column": "2019-09-12T00:00:00.000000"
        },
        {
         "Close": 0.2555510103702545,
         "daily_return": 0.0029041976187709206,
         "fast_close": 0.25589339753280643,
         "slow_close": 0.25804374389278856,
         "crossover_long": 0,
         "crossover_short": -1,
         "crossover_signal": -1,
         "fast_vol": 0.007653945281261424,
         "slow_vol": 0.013831067337036766,
         "vol_trend_long": 1,
         "vol_trend_short": 0,
         "vol_trend_signal": 1,
         "_deepnote_index_column": "2019-09-13T00:00:00.000000"
        },
        {
         "Close": 0.2611669898033142,
         "daily_return": 0.02197596254823253,
         "fast_close": 0.25853035461514784,
         "slow_close": 0.25838050810013025,
         "crossover_long": 1,
         "crossover_short": 0,
         "crossover_signal": 1,
         "fast_vol": 0.01524832987967282,
         "slow_vol": 0.015062092464562618,
         "vol_trend_long": 0,
         "vol_trend_short": -1,
         "vol_trend_signal": -1,
         "_deepnote_index_column": "2019-09-14T00:00:00.000000"
        },
        {
         "Close": 0.26162800192832947,
         "daily_return": 0.0017652005920136826,
         "fast_close": 0.2600792255395281,
         "slow_close": 0.2587169240446377,
         "crossover_long": 1,
         "crossover_short": 0,
         "crossover_signal": 1,
         "fast_vol": 0.011991873101368324,
         "slow_vol": 0.014187809087074467,
         "vol_trend_long": 1,
         "vol_trend_short": 0,
         "vol_trend_signal": 1,
         "_deepnote_index_column": "2019-09-15T00:00:00.000000"
        },
        {
         "Close": 0.2609519958496094,
         "daily_return": -0.002583844518696754,
         "fast_close": 0.26051561735337936,
         "slow_close": 0.25894028015612325,
         "crossover_long": 1,
         "crossover_short": 0,
         "crossover_signal": 1,
         "fast_vol": 0.009993114387674954,
         "slow_vol": 0.013463143475792106,
         "vol_trend_long": 1,
         "vol_trend_short": 0,
         "vol_trend_signal": 1,
         "_deepnote_index_column": "2019-09-16T00:00:00.000000"
        },
        {
         "Close": 0.28501299023628235,
         "daily_return": 0.09220467660473353,
         "fast_close": 0.2727643972456052,
         "slow_close": 0.26146263835351213,
         "crossover_long": 1,
         "crossover_short": 0,
         "crossover_signal": 1,
         "fast_vol": 0.055851152861559034,
         "slow_vol": 0.031058264210761195,
         "vol_trend_long": 0,
         "vol_trend_short": -1,
         "vol_trend_signal": -1,
         "_deepnote_index_column": "2019-09-17T00:00:00.000000"
        },
        {
         "Close": 0.3137759864330292,
         "daily_return": 0.10091819384408285,
         "fast_close": 0.29327027006301415,
         "slow_close": 0.2663772617217111,
         "crossover_long": 1,
         "crossover_short": 0,
         "crossover_signal": 1,
         "fast_vol": 0.051488524387365946,
         "slow_vol": 0.040473033896431136,
         "vol_trend_long": 0,
         "vol_trend_short": -1,
         "vol_trend_signal": -1,
         "_deepnote_index_column": "2019-09-18T00:00:00.000000"
        },
        {
         "Close": 0.3024410009384155,
         "daily_return": -0.03612445178953472,
         "fast_close": 0.29785564424662203,
         "slow_close": 0.2696762970913328,
         "crossover_long": 1,
         "crossover_short": 0,
         "crossover_signal": 1,
         "fast_vol": 0.076607506717531,
         "slow_vol": 0.041893888570640636,
         "vol_trend_long": 0,
         "vol_trend_short": -1,
         "vol_trend_signal": -1,
         "_deepnote_index_column": "2019-09-19T00:00:00.000000"
        },
        {
         "Close": 0.29447001218795776,
         "daily_return": -0.026355516367573606,
         "fast_close": 0.29616282660289317,
         "slow_close": 0.2718901116629457,
         "crossover_long": 1,
         "crossover_short": 0,
         "crossover_signal": 1,
         "fast_vol": 0.060849792088887494,
         "slow_vol": 0.04162530506504457,
         "vol_trend_long": 0,
         "vol_trend_short": -1,
         "vol_trend_signal": -1,
         "_deepnote_index_column": "2019-09-20T00:00:00.000000"
        },
        {
         "Close": 0.2894429862499237,
         "daily_return": -0.017071435901681364,
         "fast_close": 0.2928029048242729,
         "slow_close": 0.27342317478071104,
         "crossover_long": 1,
         "crossover_short": 0,
         "crossover_signal": 1,
         "fast_vol": 0.043796841386425825,
         "slow_vol": 0.04047142283100251,
         "vol_trend_long": 0,
         "vol_trend_short": -1,
         "vol_trend_signal": -1,
         "_deepnote_index_column": "2019-09-21T00:00:00.000000"
        },
        {
         "Close": 0.27893099188804626,
         "daily_return": -0.03631801377560662,
         "fast_close": 0.2858669467024983,
         "slow_close": 0.2738946213304008,
         "crossover_long": 1,
         "crossover_short": 0,
         "crossover_signal": 1,
         "fast_vol": 0.0347999857052685,
         "slow_vol": 0.04068335704148058,
         "vol_trend_long": 1,
         "vol_trend_short": 0,
         "vol_trend_signal": 1,
         "_deepnote_index_column": "2019-09-22T00:00:00.000000"
        },
        {
         "Close": 0.2686749994754791,
         "daily_return": -0.0367689238945651,
         "fast_close": 0.2772709720642687,
         "slow_close": 0.27345601388163837,
         "crossover_long": 1,
         "crossover_short": 0,
         "crossover_signal": 1,
         "fast_vol": 0.02594162545897621,
         "slow_vol": 0.04058345075060368,
         "vol_trend_long": 1,
         "vol_trend_short": 0,
         "vol_trend_signal": 1,
         "_deepnote_index_column": "2019-09-23T00:00:00.000000"
        },
        {
         "Close": 0.23522600531578064,
         "daily_return": -0.12449611696287077,
         "fast_close": 0.2562484874369869,
         "slow_close": 0.27029742362760323,
         "crossover_long": 0,
         "crossover_short": -1,
         "crossover_signal": -1,
         "fast_vol": 0.06066770291402585,
         "slow_vol": 0.0526521233888462,
         "vol_trend_long": 0,
         "vol_trend_short": -1,
         "vol_trend_signal": -1,
         "_deepnote_index_column": "2019-09-24T00:00:00.000000"
        },
        {
         "Close": 0.24644100666046143,
         "daily_return": 0.04767755729059431,
         "fast_close": 0.2513447469025813,
         "slow_close": 0.2683567680754433,
         "crossover_long": 0,
         "crossover_short": -1,
         "crossover_signal": -1,
         "fast_vol": 0.08772487527264008,
         "slow_vol": 0.05297274285765038,
         "vol_trend_long": 0,
         "vol_trend_short": -1,
         "vol_trend_signal": -1,
         "_deepnote_index_column": "2019-09-25T00:00:00.000000"
        },
        {
         "Close": 0.24378399550914764,
         "daily_return": -0.010781530181681709,
         "fast_close": 0.2475643711495325,
         "slow_close": 0.2663861766322592,
         "crossover_long": 0,
         "crossover_short": -1,
         "crossover_signal": -1,
         "fast_vol": 0.06207966975264686,
         "slow_vol": 0.05076009686603036,
         "vol_trend_long": 0,
         "vol_trend_short": -1,
         "vol_trend_signal": -1,
         "_deepnote_index_column": "2019-09-26T00:00:00.000000"
        },
        {
         "Close": 0.2440209984779358,
         "daily_return": 0.0009721842826193594,
         "fast_close": 0.24579268480053404,
         "slow_close": 0.26461603507072945,
         "crossover_long": 0,
         "crossover_short": -1,
         "crossover_signal": -1,
         "fast_vol": 0.044698771699829255,
         "slow_vol": 0.048688149340448336,
         "vol_trend_long": 1,
         "vol_trend_short": 0,
         "vol_trend_signal": 1,
         "_deepnote_index_column": "2019-09-27T00:00:00.000000"
        },
        {
         "Close": 0.24257099628448486,
         "daily_return": -0.0059421205654235365,
         "fast_close": 0.2441818405365086,
         "slow_close": 0.2628922279748365,
         "crossover_long": 0,
         "crossover_short": -1,
         "crossover_signal": -1,
         "fast_vol": 0.03160681063460805,
         "slow_vol": 0.04669549792916177,
         "vol_trend_long": 1,
         "vol_trend_short": 0,
         "vol_trend_signal": 1,
         "_deepnote_index_column": "2019-09-28T00:00:00.000000"
        },
        {
         "Close": 0.2413879930973053,
         "daily_return": -0.004876935846823804,
         "fast_close": 0.24278491681430497,
         "slow_close": 0.26122937902352,
         "crossover_long": 0,
         "crossover_short": -1,
         "crossover_signal": -1,
         "fast_vol": 0.022358618239794553,
         "slow_vol": 0.04480965603781492,
         "vol_trend_long": 1,
         "vol_trend_short": 0,
         "vol_trend_signal": 1,
         "_deepnote_index_column": "2019-09-29T00:00:00.000000"
        },
        {
         "Close": 0.2559329867362976,
         "daily_return": 0.06025566330935561,
         "fast_close": 0.24935895178142384,
         "slow_close": 0.2608240263982368,
         "crossover_long": 0,
         "crossover_short": -1,
         "crossover_signal": -1,
         "fast_vol": 0.04320326399362415,
         "slow_vol": 0.04660262317447852,
         "vol_trend_long": 1,
         "vol_trend_short": 0,
         "vol_trend_signal": 1,
         "_deepnote_index_column": "2019-09-30T00:00:00.000000"
        },
        {
         "Close": 0.2495650053024292,
         "daily_return": -0.024881440704748625,
         "fast_close": 0.24946197854197447,
         "slow_close": 0.259970497058018,
         "crossover_long": 0,
         "crossover_short": -1,
         "crossover_signal": -1,
         "fast_vol": 0.0442643342661318,
         "slow_vol": 0.04526490344666517,
         "vol_trend_long": 1,
         "vol_trend_short": 0,
         "vol_trend_signal": 1,
         "_deepnote_index_column": "2019-10-01T00:00:00.000000"
        },
        {
         "Close": 0.25353899598121643,
         "daily_return": 0.01592366956245117,
         "fast_close": 0.25150048726207,
         "slow_close": 0.25948720769227945,
         "crossover_long": 0,
         "crossover_short": -1,
         "crossover_signal": -1,
         "fast_vol": 0.03256006911427023,
         "slow_vol": 0.04377081471044188,
         "vol_trend_long": 1,
         "vol_trend_short": 0,
         "vol_trend_signal": 1,
         "_deepnote_index_column": "2019-10-02T00:00:00.000000"
        },
        {
         "Close": 0.24785999953746796,
         "daily_return": -0.022398907204670082,
         "fast_close": 0.2496802433995571,
         "slow_close": 0.25862057809998623,
         "crossover_long": 0,
         "crossover_short": -1,
         "crossover_signal": -1,
         "fast_vol": 0.029839372814363926,
         "slow_vol": 0.04248240372120618,
         "vol_trend_long": 1,
         "vol_trend_short": 0,
         "vol_trend_signal": 1,
         "_deepnote_index_column": "2019-10-03T00:00:00.000000"
        },
        {
         "Close": 0.2539350092411041,
         "daily_return": 0.024509843116972352,
         "fast_close": 0.25180762632045445,
         "slow_close": 0.25827396402729874,
         "crossover_long": 0,
         "crossover_short": -1,
         "crossover_signal": -1,
         "fast_vol": 0.02855115690339398,
         "slow_vol": 0.04148653519332891,
         "vol_trend_long": 1,
         "vol_trend_short": 0,
         "vol_trend_signal": 1,
         "_deepnote_index_column": "2019-10-04T00:00:00.000000"
        },
        {
         "Close": 0.2534570097923279,
         "daily_return": -0.0018823692337844866,
         "fast_close": 0.2526323180564152,
         "slow_close": 0.2579201104821099,
         "crossover_long": 0,
         "crossover_short": -1,
         "crossover_signal": -1,
         "fast_vol": 0.021222978129938397,
         "slow_vol": 0.039912602008498825,
         "vol_trend_long": 1,
         "vol_trend_short": 0,
         "vol_trend_signal": 1,
         "_deepnote_index_column": "2019-10-05T00:00:00.000000"
        },
        {
         "Close": 0.2577050030231476,
         "daily_return": 0.016760212054503176,
         "fast_close": 0.2551686605398183,
         "slow_close": 0.2579044106236177,
         "crossover_long": 0,
         "crossover_short": -1,
         "crossover_signal": -1,
         "fast_vol": 0.01707428898453216,
         "slow_vol": 0.0386812944250698,
         "vol_trend_long": 1,
         "vol_trend_short": 0,
         "vol_trend_signal": 1,
         "_deepnote_index_column": "2019-10-06T00:00:00.000000"
        },
        {
         "Close": 0.27568501234054565,
         "daily_return": 0.06976973324721625,
         "fast_close": 0.2654268364402566,
         "slow_close": 0.25919438324057154,
         "crossover_long": 1,
         "crossover_short": 0,
         "crossover_signal": 1,
         "fast_vol": 0.038476819047201495,
         "slow_vol": 0.04149572105185725,
         "vol_trend_long": 1,
         "vol_trend_short": 0,
         "vol_trend_signal": 1,
         "_deepnote_index_column": "2019-10-07T00:00:00.000000"
        },
        {
         "Close": 0.27845901250839233,
         "daily_return": 0.010062208838614861,
         "fast_close": 0.2719429244743482,
         "slow_close": 0.2605842623200555,
         "crossover_long": 1,
         "crossover_short": 0,
         "crossover_signal": 1,
         "fast_vol": 0.03278709499648783,
         "slow_vol": 0.0399684206165873,
         "vol_trend_long": 1,
         "vol_trend_short": 0,
         "vol_trend_signal": 1,
         "_deepnote_index_column": "2019-10-08T00:00:00.000000"
        },
        {
         "Close": 0.28162699937820435,
         "daily_return": 0.011376851628088547,
         "fast_close": 0.2767849619262851,
         "slow_close": 0.2620946029056572,
         "crossover_long": 1,
         "crossover_short": 0,
         "crossover_signal": 1,
         "fast_vol": 0.024639511240157834,
         "slow_vol": 0.03851611682771325,
         "vol_trend_long": 1,
         "vol_trend_short": 0,
         "vol_trend_signal": 1,
         "_deepnote_index_column": "2019-10-09T00:00:00.000000"
        },
        {
         "Close": 0.27207300066947937,
         "daily_return": -0.03392429962261767,
         "fast_close": 0.27442898129788007,
         "slow_close": 0.2628073745829895,
         "crossover_long": 1,
         "crossover_short": 0,
         "crossover_signal": 1,
         "fast_vol": 0.036359008945536654,
         "slow_vol": 0.03859952148765548,
         "vol_trend_long": 1,
         "vol_trend_short": 0,
         "vol_trend_signal": 1,
         "_deepnote_index_column": "2019-10-10T00:00:00.000000"
        },
        {
         "Close": 0.2710990011692047,
         "daily_return": -0.0035799197196266785,
         "fast_close": 0.2727639912335416,
         "slow_close": 0.26339702522995595,
         "crossover_long": 1,
         "crossover_short": 0,
         "crossover_signal": 1,
         "fast_vol": 0.02584343145339675,
         "slow_vol": 0.03723651233175039,
         "vol_trend_long": 1,
         "vol_trend_short": 0,
         "vol_trend_signal": 1,
         "_deepnote_index_column": "2019-10-11T00:00:00.000000"
        }
       ],
       "rows_bottom": [
        {
         "Close": 0.6611800193786621,
         "daily_return": -0.06398022983567031,
         "fast_close": 0.674819475811855,
         "slow_close": 0.7808558744703407,
         "crossover_long": 0,
         "crossover_short": -1,
         "crossover_signal": -1,
         "fast_vol": 0.06693889878440105,
         "slow_vol": 0.08181334998451444,
         "vol_trend_long": 1,
         "vol_trend_short": 0,
         "vol_trend_signal": 1,
         "_deepnote_index_column": "2021-07-01T00:00:00.000000"
        },
        {
         "Close": 0.6567630171775818,
         "daily_return": -0.00668048348652639,
         "fast_close": 0.6657912464947184,
         "slow_close": 0.7725457470457947,
         "crossover_long": 0,
         "crossover_short": -1,
         "crossover_signal": -1,
         "fast_vol": 0.0478422859869797,
         "slow_vol": 0.07902648696430886,
         "vol_trend_long": 1,
         "vol_trend_short": 0,
         "vol_trend_signal": 1,
         "_deepnote_index_column": "2021-07-02T00:00:00.000000"
        },
        {
         "Close": 0.6728879809379578,
         "daily_return": 0.024552179916695893,
         "fast_close": 0.6693396137163381,
         "slow_close": 0.7658719645794283,
         "crossover_long": 0,
         "crossover_short": -1,
         "crossover_signal": -1,
         "fast_vol": 0.040688212717489305,
         "slow_vol": 0.07674681399436198,
         "vol_trend_long": 1,
         "vol_trend_short": 0,
         "vol_trend_signal": 1,
         "_deepnote_index_column": "2021-07-03T00:00:00.000000"
        },
        {
         "Close": 0.6949449777603149,
         "daily_return": 0.03277959697186339,
         "fast_close": 0.6821422957383265,
         "slow_close": 0.761122196452844,
         "crossover_long": 0,
         "crossover_short": -1,
         "crossover_signal": -1,
         "fast_vol": 0.03308809842042933,
         "slow_vol": 0.07473943513880234,
         "vol_trend_long": 1,
         "vol_trend_short": 0,
         "vol_trend_signal": 1,
         "_deepnote_index_column": "2021-07-04T00:00:00.000000"
        },
        {
         "Close": 0.6542999744415283,
         "daily_return": -0.058486649475154584,
         "fast_close": 0.6682211350899274,
         "slow_close": 0.7539686318073552,
         "crossover_long": 0,
         "crossover_short": -1,
         "crossover_signal": -1,
         "fast_vol": 0.053145255746538674,
         "slow_vol": 0.0736059733566215,
         "vol_trend_long": 1,
         "vol_trend_short": 0,
         "vol_trend_signal": 1,
         "_deepnote_index_column": "2021-07-05T00:00:00.000000"
        },
        {
         "Close": 0.6654019951820374,
         "daily_return": 0.016967784157388976,
         "fast_close": 0.6668115651359824,
         "slow_close": 0.748037589102911,
         "crossover_long": 0,
         "crossover_short": -1,
         "crossover_signal": -1,
         "fast_vol": 0.04372193088365068,
         "slow_vol": 0.07133543727895261,
         "vol_trend_long": 1,
         "vol_trend_short": 0,
         "vol_trend_signal": 1,
         "_deepnote_index_column": "2021-07-06T00:00:00.000000"
        },
        {
         "Close": 0.6515750288963318,
         "daily_return": -0.020779868990207673,
         "fast_close": 0.6591932970161571,
         "slow_close": 0.7415777800171758,
         "crossover_long": 0,
         "crossover_short": -1,
         "crossover_signal": -1,
         "fast_vol": 0.03314234913388526,
         "slow_vol": 0.06903247638744743,
         "vol_trend_long": 1,
         "vol_trend_short": 0,
         "vol_trend_signal": 1,
         "_deepnote_index_column": "2021-07-07T00:00:00.000000"
        },
        {
         "Close": 0.623058021068573,
         "daily_return": -0.04376626875351908,
         "fast_close": 0.6411256590423651,
         "slow_close": 0.7336408663166092,
         "crossover_long": 0,
         "crossover_short": -1,
         "crossover_signal": -1,
         "fast_vol": 0.030839903682913842,
         "slow_vol": 0.06739044878175159,
         "vol_trend_long": 1,
         "vol_trend_short": 0,
         "vol_trend_signal": 1,
         "_deepnote_index_column": "2021-07-08T00:00:00.000000"
        },
        {
         "Close": 0.6368039846420288,
         "daily_return": 0.022062092307038927,
         "fast_close": 0.6389648218421969,
         "slow_close": 0.7271559900419584,
         "crossover_long": 0,
         "crossover_short": -1,
         "crossover_signal": -1,
         "fast_vol": 0.03732162624551003,
         "slow_vol": 0.06554257920310304,
         "vol_trend_long": 1,
         "vol_trend_short": 0,
         "vol_trend_signal": 1,
         "_deepnote_index_column": "2021-07-09T00:00:00.000000"
        },
        {
         "Close": 0.6254630088806152,
         "daily_return": -0.017809209795991987,
         "fast_close": 0.6322139153614061,
         "slow_close": 0.7203459153118794,
         "crossover_long": 0,
         "crossover_short": -1,
         "crossover_signal": -1,
         "fast_vol": 0.027971858258949652,
         "slow_vol": 0.06338138634122269,
         "vol_trend_long": 1,
         "vol_trend_short": 0,
         "vol_trend_signal": 1,
         "_deepnote_index_column": "2021-07-10T00:00:00.000000"
        },
        {
         "Close": 0.6359350085258484,
         "daily_return": 0.01674279613110108,
         "fast_close": 0.6340744619436273,
         "slow_close": 0.7146931694027535,
         "crossover_long": 0,
         "crossover_short": -1,
         "crossover_signal": -1,
         "fast_vol": 0.02577225753006089,
         "slow_vol": 0.06151409741716891,
         "vol_trend_long": 1,
         "vol_trend_short": 0,
         "vol_trend_signal": 1,
         "_deepnote_index_column": "2021-07-11T00:00:00.000000"
        },
        {
         "Close": 0.6301779747009277,
         "daily_return": -0.009052865069130167,
         "fast_close": 0.6321262183222776,
         "slow_close": 0.709033439643888,
         "crossover_long": 0,
         "crossover_short": -1,
         "crossover_signal": -1,
         "fast_vol": 0.0197201554599502,
         "slow_vol": 0.059426778499800596,
         "vol_trend_long": 1,
         "vol_trend_short": 0,
         "vol_trend_signal": 1,
         "_deepnote_index_column": "2021-07-12T00:00:00.000000"
        },
        {
         "Close": 0.6195229887962341,
         "daily_return": -0.016907899565595352,
         "fast_close": 0.6258246035592558,
         "slow_close": 0.703039192524429,
         "crossover_long": 0,
         "crossover_short": -1,
         "crossover_signal": -1,
         "fast_vol": 0.016371359423305105,
         "slow_vol": 0.05747632676484211,
         "vol_trend_long": 1,
         "vol_trend_short": 0,
         "vol_trend_signal": 1,
         "_deepnote_index_column": "2021-07-13T00:00:00.000000"
        },
        {
         "Close": 0.6203240156173706,
         "daily_return": 0.0012929735225692962,
         "fast_close": 0.6230743095883132,
         "slow_close": 0.6975000045724595,
         "crossover_long": 0,
         "crossover_short": -1,
         "crossover_signal": -1,
         "fast_vol": 0.013454604892370778,
         "slow_vol": 0.05555142007329044,
         "vol_trend_long": 1,
         "vol_trend_short": 0,
         "vol_trend_signal": 1,
         "_deepnote_index_column": "2021-07-14T00:00:00.000000"
        },
        {
         "Close": 0.5969409942626953,
         "daily_return": -0.03769485102298287,
         "fast_close": 0.6100076519255042,
         "slow_close": 0.6907658684779954,
         "crossover_long": 0,
         "crossover_short": -1,
         "crossover_signal": -1,
         "fast_vol": 0.022551707249256658,
         "slow_vol": 0.054272140137937096,
         "vol_trend_long": 1,
         "vol_trend_short": 0,
         "vol_trend_signal": 1,
         "_deepnote_index_column": "2021-07-15T00:00:00.000000"
        },
        {
         "Close": 0.5907739996910095,
         "daily_return": -0.010330995242340268,
         "fast_close": 0.6003908258082569,
         "slow_close": 0.6840697121546868,
         "crossover_long": 0,
         "crossover_short": -1,
         "crossover_signal": -1,
         "fast_vol": 0.017233016116727617,
         "slow_vol": 0.05242718919278773,
         "vol_trend_long": 1,
         "vol_trend_short": 0,
         "vol_trend_signal": 1,
         "_deepnote_index_column": "2021-07-16T00:00:00.000000"
        },
        {
         "Close": 0.582427978515625,
         "daily_return": -0.014127265552901336,
         "fast_close": 0.5914094021619409,
         "slow_close": 0.6772630693178662,
         "crossover_long": 0,
         "crossover_short": -1,
         "crossover_signal": -1,
         "fast_vol": 0.012221941561236882,
         "slow_vol": 0.0506650860507227,
         "vol_trend_long": 1,
         "vol_trend_short": 0,
         "vol_trend_signal": 1,
         "_deepnote_index_column": "2021-07-17T00:00:00.000000"
        },
        {
         "Close": 0.5879219770431519,
         "daily_return": 0.009432923434634422,
         "fast_close": 0.5896656896025464,
         "slow_close": 0.6712801636353946,
         "crossover_long": 0,
         "crossover_short": -1,
         "crossover_signal": -1,
         "fast_vol": 0.01722373551264302,
         "slow_vol": 0.049149972326018754,
         "vol_trend_long": 1,
         "vol_trend_short": 0,
         "vol_trend_signal": 1,
         "_deepnote_index_column": "2021-07-18T00:00:00.000000"
        },
        {
         "Close": 0.5575559735298157,
         "daily_return": -0.051649716627462317,
         "fast_close": 0.573610831566181,
         "slow_close": 0.6636643948341245,
         "crossover_long": 0,
         "crossover_short": -1,
         "crossover_signal": -1,
         "fast_vol": 0.03233714753759348,
         "slow_vol": 0.0488015742299732,
         "vol_trend_long": 1,
         "vol_trend_short": 0,
         "vol_trend_signal": 1,
         "_deepnote_index_column": "2021-07-19T00:00:00.000000"
        },
        {
         "Close": 0.5293359756469727,
         "daily_return": -0.050613748614665166,
         "fast_close": 0.5514734036065768,
         "slow_close": 0.6546688224495713,
         "crossover_long": 0,
         "crossover_short": -1,
         "crossover_signal": -1,
         "fast_vol": 0.02699230668604626,
         "slow_vol": 0.04824667608997504,
         "vol_trend_long": 1,
         "vol_trend_short": 0,
         "vol_trend_signal": 1,
         "_deepnote_index_column": "2021-07-20T00:00:00.000000"
        },
        {
         "Close": 0.569998025894165,
         "daily_return": 0.07681709182432539,
         "fast_close": 0.5607357147503709,
         "slow_close": 0.64899867250006,
         "crossover_long": 0,
         "crossover_short": -1,
         "crossover_signal": -1,
         "fast_vol": 0.07338871801827962,
         "slow_vol": 0.05189482015590131,
         "vol_trend_long": 0,
         "vol_trend_short": -1,
         "vol_trend_signal": -1,
         "_deepnote_index_column": "2021-07-21T00:00:00.000000"
        },
        {
         "Close": 0.5922060012817383,
         "daily_return": 0.03896149526611992,
         "fast_close": 0.5764708580160546,
         "slow_close": 0.6451954372059354,
         "crossover_long": 0,
         "crossover_short": -1,
         "crossover_signal": -1,
         "fast_vol": 0.05331991214468664,
         "slow_vol": 0.05146768435793219,
         "vol_trend_long": 0,
         "vol_trend_short": -1,
         "vol_trend_signal": -1,
         "_deepnote_index_column": "2021-07-22T00:00:00.000000"
        },
        {
         "Close": 0.6092240214347839,
         "daily_return": 0.02873665602208142,
         "fast_close": 0.5928474397254193,
         "slow_close": 0.6427865391015557,
         "crossover_long": 0,
         "crossover_short": -1,
         "crossover_signal": -1,
         "fast_vol": 0.03770311832142222,
         "slow_vol": 0.05040054648609587,
         "vol_trend_long": 1,
         "vol_trend_short": 0,
         "vol_trend_signal": 1,
         "_deepnote_index_column": "2021-07-23T00:00:00.000000"
        },
        {
         "Close": 0.6098269820213318,
         "daily_return": 0.0009897189955310193,
         "fast_close": 0.6013372108733755,
         "slow_close": 0.6405793361636213,
         "crossover_long": 0,
         "crossover_short": -1,
         "crossover_signal": -1,
         "fast_vol": 0.03165114863771492,
         "slow_vol": 0.04868837612342294,
         "vol_trend_long": 1,
         "vol_trend_short": 0,
         "vol_trend_signal": 1,
         "_deepnote_index_column": "2021-07-24T00:00:00.000000"
        },
        {
         "Close": 0.6063569784164429,
         "daily_return": -0.005690144429797539,
         "fast_close": 0.6038470946449093,
         "slow_close": 0.6382875672427356,
         "crossover_long": 0,
         "crossover_short": -1,
         "crossover_signal": -1,
         "fast_vol": 0.02569381626699943,
         "slow_vol": 0.04704206699932983,
         "vol_trend_long": 1,
         "vol_trend_short": 0,
         "vol_trend_signal": 1,
         "_deepnote_index_column": "2021-07-25T00:00:00.000000"
        },
        {
         "Close": 0.6256179809570312,
         "daily_return": 0.03176512059099279,
         "fast_close": 0.6147325378009703,
         "slow_close": 0.6374391229507157,
         "crossover_long": 0,
         "crossover_short": -1,
         "crossover_signal": -1,
         "fast_vol": 0.024627672999893303,
         "slow_vol": 0.046233274591923675,
         "vol_trend_long": 1,
         "vol_trend_short": 0,
         "vol_trend_signal": 1,
         "_deepnote_index_column": "2021-07-26T00:00:00.000000"
        },
        {
         "Close": 0.6446040272712708,
         "daily_return": 0.03034766725405791,
         "fast_close": 0.6296682825361205,
         "slow_close": 0.6379189351589882,
         "crossover_long": 0,
         "crossover_short": -1,
         "crossover_signal": -1,
         "fast_vol": 0.018939159941884734,
         "slow_vol": 0.04530010422267156,
         "vol_trend_long": 1,
         "vol_trend_short": 0,
         "vol_trend_signal": 1,
         "_deepnote_index_column": "2021-07-27T00:00:00.000000"
        },
        {
         "Close": 0.7254449725151062,
         "daily_return": 0.12541179053139073,
         "fast_close": 0.6775566275256133,
         "slow_close": 0.6437802920433652,
         "crossover_long": 1,
         "crossover_short": 0,
         "crossover_signal": 1,
         "fast_vol": 0.06336850290907566,
         "slow_vol": 0.05378438399495277,
         "vol_trend_long": 0,
         "vol_trend_short": -1,
         "vol_trend_signal": -1,
         "_deepnote_index_column": "2021-07-28T00:00:00.000000"
        },
        {
         "Close": 0.7480170130729675,
         "daily_return": 0.031114752204573826,
         "fast_close": 0.7127868202992904,
         "slow_close": 0.65076071342273,
         "crossover_long": 1,
         "crossover_short": 0,
         "crossover_signal": 1,
         "fast_vol": 0.05219916877195037,
         "slow_vol": 0.052210867617014864,
         "vol_trend_long": 1,
         "vol_trend_short": 0,
         "vol_trend_signal": 1,
         "_deepnote_index_column": "2021-07-29T00:00:00.000000"
        },
        {
         "Close": 0.7521190047264099,
         "daily_return": 0.005483821332606942,
         "fast_close": 0.7324529125128502,
         "slow_close": 0.6575483749742783,
         "crossover_long": 1,
         "crossover_short": 0,
         "crossover_signal": 1,
         "fast_vol": 0.04699196945332085,
         "slow_vol": 0.05046029837254641,
         "vol_trend_long": 1,
         "vol_trend_short": 0,
         "vol_trend_signal": 1,
         "_deepnote_index_column": "2021-07-30T00:00:00.000000"
        },
        {
         "Close": 0.7477859854698181,
         "daily_return": -0.005761081995485529,
         "fast_close": 0.7401194489913341,
         "slow_close": 0.6635913178000314,
         "crossover_long": 1,
         "crossover_short": 0,
         "crossover_signal": 1,
         "fast_vol": 0.03953834686284206,
         "slow_vol": 0.048942059399838575,
         "vol_trend_long": 1,
         "vol_trend_short": 0,
         "vol_trend_signal": 1,
         "_deepnote_index_column": "2021-07-31T00:00:00.000000"
        },
        {
         "Close": 0.7259219884872437,
         "daily_return": -0.02923830802851668,
         "fast_close": 0.7330207187392889,
         "slow_close": 0.6677654163514585,
         "crossover_long": 1,
         "crossover_short": 0,
         "crossover_signal": 1,
         "fast_vol": 0.03756578835831192,
         "slow_vol": 0.04834247083912874,
         "vol_trend_long": 1,
         "vol_trend_short": 0,
         "vol_trend_signal": 1,
         "_deepnote_index_column": "2021-08-01T00:00:00.000000"
        },
        {
         "Close": 0.7392200231552124,
         "daily_return": 0.01831882058798162,
         "fast_close": 0.7361203709472506,
         "slow_close": 0.6725505176100196,
         "crossover_long": 1,
         "crossover_short": 0,
         "crossover_signal": 1,
         "fast_vol": 0.03131134519857168,
         "slow_vol": 0.04677215158943345,
         "vol_trend_long": 1,
         "vol_trend_short": 0,
         "vol_trend_signal": 1,
         "_deepnote_index_column": "2021-08-02T00:00:00.000000"
        },
        {
         "Close": 0.7127289772033691,
         "daily_return": -0.03583648321479649,
         "fast_close": 0.7244246740753099,
         "slow_close": 0.6752411488536455,
         "crossover_long": 1,
         "crossover_short": 0,
         "crossover_signal": 1,
         "fast_vol": 0.033300821932671254,
         "slow_vol": 0.04656684442231911,
         "vol_trend_long": 1,
         "vol_trend_short": 0,
         "vol_trend_signal": 1,
         "_deepnote_index_column": "2021-08-03T00:00:00.000000"
        },
        {
         "Close": 0.7304880023002625,
         "daily_return": 0.024916939909721103,
         "fast_close": 0.7274563381877861,
         "slow_close": 0.6789408653559699,
         "crossover_long": 1,
         "crossover_short": 0,
         "crossover_signal": 1,
         "fast_vol": 0.03417379973334528,
         "slow_vol": 0.04524971582704054,
         "vol_trend_long": 1,
         "vol_trend_short": 0,
         "vol_trend_signal": 1,
         "_deepnote_index_column": "2021-08-04T00:00:00.000000"
        },
        {
         "Close": 0.7331510186195374,
         "daily_return": 0.0036455305369686997,
         "fast_close": 0.7303036784036617,
         "slow_close": 0.6825711571483621,
         "crossover_long": 1,
         "crossover_short": 0,
         "crossover_signal": 1,
         "fast_vol": 0.024173073788738387,
         "slow_vol": 0.04371592355931249,
         "vol_trend_long": 1,
         "vol_trend_short": 0,
         "vol_trend_signal": 1,
         "_deepnote_index_column": "2021-08-05T00:00:00.000000"
        },
        {
         "Close": 0.7465130090713501,
         "daily_return": 0.01822542711182784,
         "fast_close": 0.738408343737506,
         "slow_close": 0.686853151687241,
         "crossover_long": 1,
         "crossover_short": 0,
         "crossover_signal": 1,
         "fast_vol": 0.019137603476011626,
         "slow_vol": 0.04232970314977477,
         "vol_trend_long": 1,
         "vol_trend_short": 0,
         "vol_trend_signal": 1,
         "_deepnote_index_column": "2021-08-06T00:00:00.000000"
        },
        {
         "Close": 0.8162810206413269,
         "daily_return": 0.09345853417446404,
         "fast_close": 0.7773446821894164,
         "slow_close": 0.6955205488828623,
         "crossover_long": 1,
         "crossover_short": 0,
         "crossover_signal": 1,
         "fast_vol": 0.052160120334565636,
         "slow_vol": 0.04637980912600736,
         "vol_trend_long": 0,
         "vol_trend_short": -1,
         "vol_trend_signal": -1,
         "_deepnote_index_column": "2021-08-07T00:00:00.000000"
        },
        {
         "Close": 0.7787389755249023,
         "daily_return": -0.045991569284471345,
         "fast_close": 0.7780418288571593,
         "slow_close": 0.7010934379640934,
         "crossover_long": 1,
         "crossover_short": 0,
         "crossover_signal": 1,
         "fast_vol": 0.0706072367147478,
         "slow_vol": 0.04726072782782407,
         "vol_trend_long": 0,
         "vol_trend_short": -1,
         "vol_trend_signal": -1,
         "_deepnote_index_column": "2021-08-08T00:00:00.000000"
        },
        {
         "Close": 0.8185529708862305,
         "daily_return": 0.05112623948800277,
         "fast_close": 0.7982973998716949,
         "slow_close": 0.7089593514993728,
         "crossover_long": 1,
         "crossover_short": 0,
         "crossover_signal": 1,
         "fast_vol": 0.0579238856281948,
         "slow_vol": 0.04687996026686578,
         "vol_trend_long": 0,
         "vol_trend_short": -1,
         "vol_trend_signal": -1,
         "_deepnote_index_column": "2021-08-09T00:00:00.000000"
        },
        {
         "Close": 0.8512470126152039,
         "daily_return": 0.039941265735772946,
         "fast_close": 0.8247722062434494,
         "slow_close": 0.7184879305055246,
         "crossover_long": 1,
         "crossover_short": 0,
         "crossover_signal": 1,
         "fast_vol": 0.04170096543883146,
         "slow_vol": 0.045837014877810334,
         "vol_trend_long": 1,
         "vol_trend_short": 0,
         "vol_trend_signal": 1,
         "_deepnote_index_column": "2021-08-10T00:00:00.000000"
        },
        {
         "Close": 1.0125240087509155,
         "daily_return": 0.18945969118908979,
         "fast_close": 0.9186481074971824,
         "slow_close": 0.7381786470458677,
         "crossover_long": 1,
         "crossover_short": 0,
         "crossover_signal": 1,
         "fast_vol": 0.09992793281285606,
         "slow_vol": 0.06289324574404065,
         "vol_trend_long": 0,
         "vol_trend_short": -1,
         "vol_trend_signal": -1,
         "_deepnote_index_column": "2021-08-11T00:00:00.000000"
        }
       ]
      },
      "text/plain": "               Close  daily_return  fast_close  slow_close  crossover_long  \\\nDate                                                                         \n2019-09-01  0.258054           NaN    0.258054    0.258054             0.0   \n2019-09-02  0.260820      0.010719    0.259898    0.259485             1.0   \n2019-09-03  0.263139      0.008891    0.261750    0.260788             1.0   \n2019-09-04  0.259905     -0.012290    0.260766    0.260544             1.0   \n2019-09-05  0.256346     -0.013694    0.258485    0.259584             0.0   \n...              ...           ...         ...         ...             ...   \n2021-08-07  0.816281      0.093459    0.777345    0.695521             1.0   \n2021-08-08  0.778739     -0.045992    0.778042    0.701093             1.0   \n2021-08-09  0.818553      0.051126    0.798297    0.708959             1.0   \n2021-08-10  0.851247      0.039941    0.824772    0.718488             1.0   \n2021-08-11  1.012524      0.189460    0.918648    0.738179             1.0   \n\n            crossover_short  crossover_signal  fast_vol  slow_vol  \\\nDate                                                                \n2019-09-01              0.0               0.0       NaN       NaN   \n2019-09-02              0.0               1.0       NaN       NaN   \n2019-09-03              0.0               1.0  0.001292  0.001292   \n2019-09-04              0.0               1.0  0.014285  0.012986   \n2019-09-05             -1.0              -1.0  0.011559  0.013172   \n...                     ...               ...       ...       ...   \n2021-08-07              0.0               1.0  0.052160  0.046380   \n2021-08-08              0.0               1.0  0.070607  0.047261   \n2021-08-09              0.0               1.0  0.057924  0.046880   \n2021-08-10              0.0               1.0  0.041701  0.045837   \n2021-08-11              0.0               1.0  0.099928  0.062893   \n\n            vol_trend_long  vol_trend_short  vol_trend_signal  \nDate                                                           \n2019-09-01             0.0              0.0               0.0  \n2019-09-02             0.0              0.0               0.0  \n2019-09-03             0.0              0.0               0.0  \n2019-09-04             0.0             -1.0              -1.0  \n2019-09-05             1.0              0.0               1.0  \n...                    ...              ...               ...  \n2021-08-07             0.0             -1.0              -1.0  \n2021-08-08             0.0             -1.0              -1.0  \n2021-08-09             0.0             -1.0              -1.0  \n2021-08-10             1.0              0.0               1.0  \n2021-08-11             0.0             -1.0              -1.0  \n\n[707 rows x 12 columns]",
      "text/html": "<div>\n<style scoped>\n    .dataframe tbody tr th:only-of-type {\n        vertical-align: middle;\n    }\n\n    .dataframe tbody tr th {\n        vertical-align: top;\n    }\n\n    .dataframe thead th {\n        text-align: right;\n    }\n</style>\n<table border=\"1\" class=\"dataframe\">\n  <thead>\n    <tr style=\"text-align: right;\">\n      <th></th>\n      <th>Close</th>\n      <th>daily_return</th>\n      <th>fast_close</th>\n      <th>slow_close</th>\n      <th>crossover_long</th>\n      <th>crossover_short</th>\n      <th>crossover_signal</th>\n      <th>fast_vol</th>\n      <th>slow_vol</th>\n      <th>vol_trend_long</th>\n      <th>vol_trend_short</th>\n      <th>vol_trend_signal</th>\n    </tr>\n    <tr>\n      <th>Date</th>\n      <th></th>\n      <th></th>\n      <th></th>\n      <th></th>\n      <th></th>\n      <th></th>\n      <th></th>\n      <th></th>\n      <th></th>\n      <th></th>\n      <th></th>\n      <th></th>\n    </tr>\n  </thead>\n  <tbody>\n    <tr>\n      <th>2019-09-01</th>\n      <td>0.258054</td>\n      <td>NaN</td>\n      <td>0.258054</td>\n      <td>0.258054</td>\n      <td>0.0</td>\n      <td>0.0</td>\n      <td>0.0</td>\n      <td>NaN</td>\n      <td>NaN</td>\n      <td>0.0</td>\n      <td>0.0</td>\n      <td>0.0</td>\n    </tr>\n    <tr>\n      <th>2019-09-02</th>\n      <td>0.260820</td>\n      <td>0.010719</td>\n      <td>0.259898</td>\n      <td>0.259485</td>\n      <td>1.0</td>\n      <td>0.0</td>\n      <td>1.0</td>\n      <td>NaN</td>\n      <td>NaN</td>\n      <td>0.0</td>\n      <td>0.0</td>\n      <td>0.0</td>\n    </tr>\n    <tr>\n      <th>2019-09-03</th>\n      <td>0.263139</td>\n      <td>0.008891</td>\n      <td>0.261750</td>\n      <td>0.260788</td>\n      <td>1.0</td>\n      <td>0.0</td>\n      <td>1.0</td>\n      <td>0.001292</td>\n      <td>0.001292</td>\n      <td>0.0</td>\n      <td>0.0</td>\n      <td>0.0</td>\n    </tr>\n    <tr>\n      <th>2019-09-04</th>\n      <td>0.259905</td>\n      <td>-0.012290</td>\n      <td>0.260766</td>\n      <td>0.260544</td>\n      <td>1.0</td>\n      <td>0.0</td>\n      <td>1.0</td>\n      <td>0.014285</td>\n      <td>0.012986</td>\n      <td>0.0</td>\n      <td>-1.0</td>\n      <td>-1.0</td>\n    </tr>\n    <tr>\n      <th>2019-09-05</th>\n      <td>0.256346</td>\n      <td>-0.013694</td>\n      <td>0.258485</td>\n      <td>0.259584</td>\n      <td>0.0</td>\n      <td>-1.0</td>\n      <td>-1.0</td>\n      <td>0.011559</td>\n      <td>0.013172</td>\n      <td>1.0</td>\n      <td>0.0</td>\n      <td>1.0</td>\n    </tr>\n    <tr>\n      <th>...</th>\n      <td>...</td>\n      <td>...</td>\n      <td>...</td>\n      <td>...</td>\n      <td>...</td>\n      <td>...</td>\n      <td>...</td>\n      <td>...</td>\n      <td>...</td>\n      <td>...</td>\n      <td>...</td>\n      <td>...</td>\n    </tr>\n    <tr>\n      <th>2021-08-07</th>\n      <td>0.816281</td>\n      <td>0.093459</td>\n      <td>0.777345</td>\n      <td>0.695521</td>\n      <td>1.0</td>\n      <td>0.0</td>\n      <td>1.0</td>\n      <td>0.052160</td>\n      <td>0.046380</td>\n      <td>0.0</td>\n      <td>-1.0</td>\n      <td>-1.0</td>\n    </tr>\n    <tr>\n      <th>2021-08-08</th>\n      <td>0.778739</td>\n      <td>-0.045992</td>\n      <td>0.778042</td>\n      <td>0.701093</td>\n      <td>1.0</td>\n      <td>0.0</td>\n      <td>1.0</td>\n      <td>0.070607</td>\n      <td>0.047261</td>\n      <td>0.0</td>\n      <td>-1.0</td>\n      <td>-1.0</td>\n    </tr>\n    <tr>\n      <th>2021-08-09</th>\n      <td>0.818553</td>\n      <td>0.051126</td>\n      <td>0.798297</td>\n      <td>0.708959</td>\n      <td>1.0</td>\n      <td>0.0</td>\n      <td>1.0</td>\n      <td>0.057924</td>\n      <td>0.046880</td>\n      <td>0.0</td>\n      <td>-1.0</td>\n      <td>-1.0</td>\n    </tr>\n    <tr>\n      <th>2021-08-10</th>\n      <td>0.851247</td>\n      <td>0.039941</td>\n      <td>0.824772</td>\n      <td>0.718488</td>\n      <td>1.0</td>\n      <td>0.0</td>\n      <td>1.0</td>\n      <td>0.041701</td>\n      <td>0.045837</td>\n      <td>1.0</td>\n      <td>0.0</td>\n      <td>1.0</td>\n    </tr>\n    <tr>\n      <th>2021-08-11</th>\n      <td>1.012524</td>\n      <td>0.189460</td>\n      <td>0.918648</td>\n      <td>0.738179</td>\n      <td>1.0</td>\n      <td>0.0</td>\n      <td>1.0</td>\n      <td>0.099928</td>\n      <td>0.062893</td>\n      <td>0.0</td>\n      <td>-1.0</td>\n      <td>-1.0</td>\n    </tr>\n  </tbody>\n</table>\n<p>707 rows × 12 columns</p>\n</div>"
     },
     "metadata": {}
    }
   ],
   "execution_count": null
  },
  {
   "cell_type": "code",
   "metadata": {
    "tags": [],
    "deepnote_to_be_reexecuted": false,
    "source_hash": "10f1b201",
    "execution_start": 1629319384350,
    "execution_millis": 425,
    "cell_id": "00006-b76eed56-dad3-4c87-8a4e-2f1dabc42e30",
    "deepnote_cell_type": "code"
   },
   "source": "# Plot the EMA of SQ return volatility\nxrp[['fast_vol', 'slow_vol']].plot(figsize=(20,10))",
   "outputs": [
    {
     "output_type": "execute_result",
     "execution_count": 7,
     "data": {
      "text/plain": "<AxesSubplot:xlabel='Date'>"
     },
     "metadata": {}
    },
    {
     "data": {
      "text/plain": "<Figure size 1440x720 with 1 Axes>",
      "image/png": "[encoded data removed]"
     },
     "metadata": {
      "image/png": {
       "width": 1301,
       "height": 570
      }
     },
     "output_type": "display_data"
    }
   ],
   "execution_count": null
  },
  {
   "cell_type": "code",
   "metadata": {
    "tags": [],
    "deepnote_to_be_reexecuted": false,
    "source_hash": "fc1e85d3",
    "execution_start": 1629319384778,
    "execution_millis": 188,
    "cell_id": "00007-fcbb4d8a-8924-4c82-872d-eb412c0bcd45",
    "deepnote_cell_type": "code"
   },
   "source": "# Set bollinger band window\nbollinger_window = 20\n\n# Calculate rolling mean and standard deviation\nxrp['bollinger_mid_band'] = xrp['Close'].rolling(window=bollinger_window).mean()\nxrp['bollinger_std'] = xrp['Close'].rolling(window=20).std()\n\n# Calculate upper and lowers bands of bollinger band\nxrp['bollinger_upper_band']  = xrp['bollinger_mid_band'] + (xrp['bollinger_std'] * 1)\nxrp['bollinger_lower_band']  = xrp['bollinger_mid_band'] - (xrp['bollinger_std'] * 1)\n\n# Calculate bollinger band trading signal\nxrp['bollinger_long'] = np.where(xrp['Close'] < xrp['bollinger_lower_band'], 1.0, 0.0)\nxrp['bollinger_short'] = np.where(xrp['Close'] > xrp['bollinger_upper_band'], -1.0, 0.0)\nxrp['bollinger_signal'] = xrp['bollinger_long'] + xrp['bollinger_short']\n\nxrp",
   "outputs": [
    {
     "output_type": "execute_result",
     "execution_count": 8,
     "data": {
      "application/vnd.deepnote.dataframe.v2+json": {
       "row_count": 707,
       "column_count": 19,
       "columns": [
        {
         "name": "Close",
         "dtype": "float64",
         "stats": {
          "unique_count": 706,
          "nan_count": 0,
          "min": "0.13963499665260315",
          "max": "1.8392360210418701",
          "histogram": [
           {
            "bin_start": 0.13963499665260315,
            "bin_end": 0.3095950990915298,
            "count": 468
           },
           {
            "bin_start": 0.3095950990915298,
            "bin_end": 0.47955520153045655,
            "count": 50
           },
           {
            "bin_start": 0.47955520153045655,
            "bin_end": 0.6495153039693833,
            "count": 85
           },
           {
            "bin_start": 0.6495153039693833,
            "bin_end": 0.81947540640831,
            "count": 29
           },
           {
            "bin_start": 0.81947540640831,
            "bin_end": 0.9894355088472366,
            "count": 23
           },
           {
            "bin_start": 0.9894355088472366,
            "bin_end": 1.1593956112861634,
            "count": 14
           },
           {
            "bin_start": 1.1593956112861634,
            "bin_end": 1.32935571372509,
            "count": 6
           },
           {
            "bin_start": 1.32935571372509,
            "bin_end": 1.4993158161640168,
            "count": 17
           },
           {
            "bin_start": 1.4993158161640168,
            "bin_end": 1.6692759186029436,
            "count": 12
           },
           {
            "bin_start": 1.6692759186029436,
            "bin_end": 1.8392360210418701,
            "count": 3
           }
          ]
         }
        },
        {
         "name": "daily_return",
         "dtype": "float64",
         "stats": {
          "unique_count": 706,
          "nan_count": 1,
          "min": "-0.42334007070183066",
          "max": "0.5601088348528376",
          "histogram": [
           {
            "bin_start": -0.42334007070183066,
            "bin_end": -0.32499518014636386,
            "count": 3
           },
           {
            "bin_start": -0.32499518014636386,
            "bin_end": -0.226650289590897,
            "count": 1
           },
           {
            "bin_start": -0.226650289590897,
            "bin_end": -0.12830539903543015,
            "count": 7
           },
           {
            "bin_start": -0.12830539903543015,
            "bin_end": -0.029960508479963344,
            "count": 123
           },
           {
            "bin_start": -0.029960508479963344,
            "bin_end": 0.06838438207550346,
            "count": 513
           },
           {
            "bin_start": 0.06838438207550346,
            "bin_end": 0.16672927263097037,
            "count": 46
           },
           {
            "bin_start": 0.16672927263097037,
            "bin_end": 0.2650741631864372,
            "count": 5
           },
           {
            "bin_start": 0.2650741631864372,
            "bin_end": 0.363419053741904,
            "count": 4
           },
           {
            "bin_start": 0.363419053741904,
            "bin_end": 0.4617639442973708,
            "count": 3
           },
           {
            "bin_start": 0.4617639442973708,
            "bin_end": 0.5601088348528376,
            "count": 1
           }
          ]
         }
        },
        {
         "name": "fast_close",
         "dtype": "float64",
         "stats": {
          "unique_count": 707,
          "nan_count": 0,
          "min": "0.14476571900781293",
          "max": "1.7385203519637529",
          "histogram": [
           {
            "bin_start": 0.14476571900781293,
            "bin_end": 0.3041411823034069,
            "count": 467
           },
           {
            "bin_start": 0.3041411823034069,
            "bin_end": 0.4635166455990009,
            "count": 42
           },
           {
            "bin_start": 0.4635166455990009,
            "bin_end": 0.6228921088945949,
            "count": 78
           },
           {
            "bin_start": 0.6228921088945949,
            "bin_end": 0.7822675721901888,
            "count": 41
           },
           {
            "bin_start": 0.7822675721901888,
            "bin_end": 0.9416430354857828,
            "count": 22
           },
           {
            "bin_start": 0.9416430354857828,
            "bin_end": 1.101018498781377,
            "count": 16
           },
           {
            "bin_start": 1.101018498781377,
            "bin_end": 1.2603939620769709,
            "count": 7
           },
           {
            "bin_start": 1.2603939620769709,
            "bin_end": 1.4197694253725648,
            "count": 12
           },
           {
            "bin_start": 1.4197694253725648,
            "bin_end": 1.5791448886681587,
            "count": 17
           },
           {
            "bin_start": 1.5791448886681587,
            "bin_end": 1.7385203519637529,
            "count": 5
           }
          ]
         }
        },
        {
         "name": "slow_close",
         "dtype": "float64",
         "stats": {
          "unique_count": 707,
          "nan_count": 0,
          "min": "0.18152655848695887",
          "max": "1.4077739361230923",
          "histogram": [
           {
            "bin_start": 0.18152655848695887,
            "bin_end": 0.3041512962505722,
            "count": 452
           },
           {
            "bin_start": 0.3041512962505722,
            "bin_end": 0.4267760340141855,
            "count": 46
           },
           {
            "bin_start": 0.4267760340141855,
            "bin_end": 0.5494007717777989,
            "count": 80
           },
           {
            "bin_start": 0.5494007717777989,
            "bin_end": 0.6720255095414123,
            "count": 19
           },
           {
            "bin_start": 0.6720255095414123,
            "bin_end": 0.7946502473050255,
            "count": 31
           },
           {
            "bin_start": 0.7946502473050255,
            "bin_end": 0.9172749850686389,
            "count": 11
           },
           {
            "bin_start": 0.9172749850686389,
            "bin_end": 1.0398997228322522,
            "count": 14
           },
           {
            "bin_start": 1.0398997228322522,
            "bin_end": 1.1625244605958656,
            "count": 22
           },
           {
            "bin_start": 1.1625244605958656,
            "bin_end": 1.2851491983594787,
            "count": 12
           },
           {
            "bin_start": 1.2851491983594787,
            "bin_end": 1.4077739361230923,
            "count": 20
           }
          ]
         }
        },
        {
         "name": "crossover_long",
         "dtype": "float64",
         "stats": {
          "unique_count": 2,
          "nan_count": 0,
          "min": "0.0",
          "max": "1.0",
          "histogram": [
           {
            "bin_start": 0,
            "bin_end": 0.1,
            "count": 344
           },
           {
            "bin_start": 0.1,
            "bin_end": 0.2,
            "count": 0
           },
           {
            "bin_start": 0.2,
            "bin_end": 0.30000000000000004,
            "count": 0
           },
           {
            "bin_start": 0.30000000000000004,
            "bin_end": 0.4,
            "count": 0
           },
           {
            "bin_start": 0.4,
            "bin_end": 0.5,
            "count": 0
           },
           {
            "bin_start": 0.5,
            "bin_end": 0.6000000000000001,
            "count": 0
           },
           {
            "bin_start": 0.6000000000000001,
            "bin_end": 0.7000000000000001,
            "count": 0
           },
           {
            "bin_start": 0.7000000000000001,
            "bin_end": 0.8,
            "count": 0
           },
           {
            "bin_start": 0.8,
            "bin_end": 0.9,
            "count": 0
           },
           {
            "bin_start": 0.9,
            "bin_end": 1,
            "count": 363
           }
          ]
         }
        },
        {
         "name": "crossover_short",
         "dtype": "float64",
         "stats": {
          "unique_count": 2,
          "nan_count": 0,
          "min": "-1.0",
          "max": "0.0",
          "histogram": [
           {
            "bin_start": -1,
            "bin_end": -0.9,
            "count": 343
           },
           {
            "bin_start": -0.9,
            "bin_end": -0.8,
            "count": 0
           },
           {
            "bin_start": -0.8,
            "bin_end": -0.7,
            "count": 0
           },
           {
            "bin_start": -0.7,
            "bin_end": -0.6,
            "count": 0
           },
           {
            "bin_start": -0.6,
            "bin_end": -0.5,
            "count": 0
           },
           {
            "bin_start": -0.5,
            "bin_end": -0.3999999999999999,
            "count": 0
           },
           {
            "bin_start": -0.3999999999999999,
            "bin_end": -0.29999999999999993,
            "count": 0
           },
           {
            "bin_start": -0.29999999999999993,
            "bin_end": -0.19999999999999996,
            "count": 0
           },
           {
            "bin_start": -0.19999999999999996,
            "bin_end": -0.09999999999999998,
            "count": 0
           },
           {
            "bin_start": -0.09999999999999998,
            "bin_end": 0,
            "count": 364
           }
          ]
         }
        },
        {
         "name": "crossover_signal",
         "dtype": "float64",
         "stats": {
          "unique_count": 3,
          "nan_count": 0,
          "min": "-1.0",
          "max": "1.0",
          "histogram": [
           {
            "bin_start": -1,
            "bin_end": -0.8,
            "count": 343
           },
           {
            "bin_start": -0.8,
            "bin_end": -0.6,
            "count": 0
           },
           {
            "bin_start": -0.6,
            "bin_end": -0.3999999999999999,
            "count": 0
           },
           {
            "bin_start": -0.3999999999999999,
            "bin_end": -0.19999999999999996,
            "count": 0
           },
           {
            "bin_start": -0.19999999999999996,
            "bin_end": 0,
            "count": 0
           },
           {
            "bin_start": 0,
            "bin_end": 0.20000000000000018,
            "count": 1
           },
           {
            "bin_start": 0.20000000000000018,
            "bin_end": 0.40000000000000013,
            "count": 0
           },
           {
            "bin_start": 0.40000000000000013,
            "bin_end": 0.6000000000000001,
            "count": 0
           },
           {
            "bin_start": 0.6000000000000001,
            "bin_end": 0.8,
            "count": 0
           },
           {
            "bin_start": 0.8,
            "bin_end": 1,
            "count": 363
           }
          ]
         }
        },
        {
         "name": "fast_vol",
         "dtype": "float64",
         "stats": {
          "unique_count": 705,
          "nan_count": 2,
          "min": "0.001292250254100085",
          "max": "0.37494273571201264",
          "histogram": [
           {
            "bin_start": 0.001292250254100085,
            "bin_end": 0.03865729879989134,
            "count": 387
           },
           {
            "bin_start": 0.03865729879989134,
            "bin_end": 0.0760223473456826,
            "count": 201
           },
           {
            "bin_start": 0.0760223473456826,
            "bin_end": 0.11338739589147386,
            "count": 59
           },
           {
            "bin_start": 0.11338739589147386,
            "bin_end": 0.15075244443726513,
            "count": 21
           },
           {
            "bin_start": 0.15075244443726513,
            "bin_end": 0.18811749298305638,
            "count": 13
           },
           {
            "bin_start": 0.18811749298305638,
            "bin_end": 0.22548254152884764,
            "count": 12
           },
           {
            "bin_start": 0.22548254152884764,
            "bin_end": 0.26284759007463887,
            "count": 8
           },
           {
            "bin_start": 0.26284759007463887,
            "bin_end": 0.30021263862043013,
            "count": 1
           },
           {
            "bin_start": 0.30021263862043013,
            "bin_end": 0.3375776871662214,
            "count": 2
           },
           {
            "bin_start": 0.3375776871662214,
            "bin_end": 0.37494273571201264,
            "count": 1
           }
          ]
         }
        },
        {
         "name": "slow_vol",
         "dtype": "float64",
         "stats": {
          "unique_count": 705,
          "nan_count": 2,
          "min": "0.001292250254100085",
          "max": "0.16755788100019856",
          "histogram": [
           {
            "bin_start": 0.001292250254100085,
            "bin_end": 0.017918813328709933,
            "count": 17
           },
           {
            "bin_start": 0.017918813328709933,
            "bin_end": 0.034545376403319776,
            "count": 234
           },
           {
            "bin_start": 0.034545376403319776,
            "bin_end": 0.051171939477929626,
            "count": 176
           },
           {
            "bin_start": 0.051171939477929626,
            "bin_end": 0.06779850255253947,
            "count": 51
           },
           {
            "bin_start": 0.06779850255253947,
            "bin_end": 0.08442506562714931,
            "count": 37
           },
           {
            "bin_start": 0.08442506562714931,
            "bin_end": 0.10105162870175917,
            "count": 63
           },
           {
            "bin_start": 0.10105162870175917,
            "bin_end": 0.11767819177636901,
            "count": 45
           },
           {
            "bin_start": 0.11767819177636901,
            "bin_end": 0.13430475485097887,
            "count": 56
           },
           {
            "bin_start": 0.13430475485097887,
            "bin_end": 0.15093131792558873,
            "count": 18
           },
           {
            "bin_start": 0.15093131792558873,
            "bin_end": 0.16755788100019856,
            "count": 8
           }
          ]
         }
        },
        {
         "name": "vol_trend_long",
         "dtype": "float64",
         "stats": {
          "unique_count": 2,
          "nan_count": 0,
          "min": "0.0",
          "max": "1.0",
          "histogram": [
           {
            "bin_start": 0,
            "bin_end": 0.1,
            "count": 184
           },
           {
            "bin_start": 0.1,
            "bin_end": 0.2,
            "count": 0
           },
           {
            "bin_start": 0.2,
            "bin_end": 0.30000000000000004,
            "count": 0
           },
           {
            "bin_start": 0.30000000000000004,
            "bin_end": 0.4,
            "count": 0
           },
           {
            "bin_start": 0.4,
            "bin_end": 0.5,
            "count": 0
           },
           {
            "bin_start": 0.5,
            "bin_end": 0.6000000000000001,
            "count": 0
           },
           {
            "bin_start": 0.6000000000000001,
            "bin_end": 0.7000000000000001,
            "count": 0
           },
           {
            "bin_start": 0.7000000000000001,
            "bin_end": 0.8,
            "count": 0
           },
           {
            "bin_start": 0.8,
            "bin_end": 0.9,
            "count": 0
           },
           {
            "bin_start": 0.9,
            "bin_end": 1,
            "count": 523
           }
          ]
         }
        },
        {
         "name": "vol_trend_short",
         "dtype": "float64",
         "stats": {
          "unique_count": 2,
          "nan_count": 0,
          "min": "-1.0",
          "max": "0.0",
          "histogram": [
           {
            "bin_start": -1,
            "bin_end": -0.9,
            "count": 181
           },
           {
            "bin_start": -0.9,
            "bin_end": -0.8,
            "count": 0
           },
           {
            "bin_start": -0.8,
            "bin_end": -0.7,
            "count": 0
           },
           {
            "bin_start": -0.7,
            "bin_end": -0.6,
            "count": 0
           },
           {
            "bin_start": -0.6,
            "bin_end": -0.5,
            "count": 0
           },
           {
            "bin_start": -0.5,
            "bin_end": -0.3999999999999999,
            "count": 0
           },
           {
            "bin_start": -0.3999999999999999,
            "bin_end": -0.29999999999999993,
            "count": 0
           },
           {
            "bin_start": -0.29999999999999993,
            "bin_end": -0.19999999999999996,
            "count": 0
           },
           {
            "bin_start": -0.19999999999999996,
            "bin_end": -0.09999999999999998,
            "count": 0
           },
           {
            "bin_start": -0.09999999999999998,
            "bin_end": 0,
            "count": 526
           }
          ]
         }
        },
        {
         "name": "vol_trend_signal",
         "dtype": "float64",
         "stats": {
          "unique_count": 3,
          "nan_count": 0,
          "min": "-1.0",
          "max": "1.0",
          "histogram": [
           {
            "bin_start": -1,
            "bin_end": -0.8,
            "count": 181
           },
           {
            "bin_start": -0.8,
            "bin_end": -0.6,
            "count": 0
           },
           {
            "bin_start": -0.6,
            "bin_end": -0.3999999999999999,
            "count": 0
           },
           {
            "bin_start": -0.3999999999999999,
            "bin_end": -0.19999999999999996,
            "count": 0
           },
           {
            "bin_start": -0.19999999999999996,
            "bin_end": 0,
            "count": 0
           },
           {
            "bin_start": 0,
            "bin_end": 0.20000000000000018,
            "count": 3
           },
           {
            "bin_start": 0.20000000000000018,
            "bin_end": 0.40000000000000013,
            "count": 0
           },
           {
            "bin_start": 0.40000000000000013,
            "bin_end": 0.6000000000000001,
            "count": 0
           },
           {
            "bin_start": 0.6000000000000001,
            "bin_end": 0.8,
            "count": 0
           },
           {
            "bin_start": 0.8,
            "bin_end": 1,
            "count": 523
           }
          ]
         }
        },
        {
         "name": "bollinger_mid_band",
         "dtype": "float64",
         "stats": {
          "unique_count": 688,
          "nan_count": 19,
          "min": "0.15890164896845818",
          "max": "1.4974854469299317",
          "histogram": [
           {
            "bin_start": 0.15890164896845818,
            "bin_end": 0.2927600287646055,
            "count": 432
           },
           {
            "bin_start": 0.2927600287646055,
            "bin_end": 0.42661840856075284,
            "count": 46
           },
           {
            "bin_start": 0.42661840856075284,
            "bin_end": 0.5604767883569002,
            "count": 67
           },
           {
            "bin_start": 0.5604767883569002,
            "bin_end": 0.6943351681530475,
            "count": 54
           },
           {
            "bin_start": 0.6943351681530475,
            "bin_end": 0.8281935479491949,
            "count": 18
           },
           {
            "bin_start": 0.8281935479491949,
            "bin_end": 0.9620519277453422,
            "count": 17
           },
           {
            "bin_start": 0.9620519277453422,
            "bin_end": 1.0959103075414895,
            "count": 8
           },
           {
            "bin_start": 1.0959103075414895,
            "bin_end": 1.229768687337637,
            "count": 9
           },
           {
            "bin_start": 1.229768687337637,
            "bin_end": 1.3636270671337845,
            "count": 11
           },
           {
            "bin_start": 1.3636270671337845,
            "bin_end": 1.4974854469299317,
            "count": 26
           }
          ]
         }
        },
        {
         "name": "bollinger_std",
         "dtype": "float64",
         "stats": {
          "unique_count": 688,
          "nan_count": 19,
          "min": "0.0031233235984880216",
          "max": "0.46361926253786606",
          "histogram": [
           {
            "bin_start": 0.0031233235984880216,
            "bin_end": 0.04917291749242582,
            "count": 495
           },
           {
            "bin_start": 0.04917291749242582,
            "bin_end": 0.09522251138636362,
            "count": 81
           },
           {
            "bin_start": 0.09522251138636362,
            "bin_end": 0.1412721052803014,
            "count": 39
           },
           {
            "bin_start": 0.1412721052803014,
            "bin_end": 0.18732169917423921,
            "count": 28
           },
           {
            "bin_start": 0.18732169917423921,
            "bin_end": 0.23337129306817703,
            "count": 15
           },
           {
            "bin_start": 0.23337129306817703,
            "bin_end": 0.2794208869621148,
            "count": 16
           },
           {
            "bin_start": 0.2794208869621148,
            "bin_end": 0.3254704808560526,
            "count": 4
           },
           {
            "bin_start": 0.3254704808560526,
            "bin_end": 0.37152007474999044,
            "count": 1
           },
           {
            "bin_start": 0.37152007474999044,
            "bin_end": 0.41756966864392825,
            "count": 3
           },
           {
            "bin_start": 0.41756966864392825,
            "bin_end": 0.46361926253786606,
            "count": 6
           }
          ]
         }
        },
        {
         "name": "bollinger_upper_band",
         "dtype": "float64",
         "stats": {
          "unique_count": 688,
          "nan_count": 19,
          "min": "0.1708971173006566",
          "max": "1.6655746970416383",
          "histogram": [
           {
            "bin_start": 0.1708971173006566,
            "bin_end": 0.32036487527475477,
            "count": 443
           },
           {
            "bin_start": 0.32036487527475477,
            "bin_end": 0.46983263324885294,
            "count": 21
           },
           {
            "bin_start": 0.46983263324885294,
            "bin_end": 0.6193003912229511,
            "count": 77
           },
           {
            "bin_start": 0.6193003912229511,
            "bin_end": 0.7687681491970493,
            "count": 55
           },
           {
            "bin_start": 0.7687681491970493,
            "bin_end": 0.9182359071711474,
            "count": 16
           },
           {
            "bin_start": 0.9182359071711474,
            "bin_end": 1.0677036651452456,
            "count": 20
           },
           {
            "bin_start": 1.0677036651452456,
            "bin_end": 1.2171714231193438,
            "count": 2
           },
           {
            "bin_start": 1.2171714231193438,
            "bin_end": 1.366639181093442,
            "count": 6
           },
           {
            "bin_start": 1.366639181093442,
            "bin_end": 1.5161069390675401,
            "count": 8
           },
           {
            "bin_start": 1.5161069390675401,
            "bin_end": 1.6655746970416383,
            "count": 40
           }
          ]
         }
        },
        {
         "name": "bollinger_lower_band",
         "dtype": "float64",
         "stats": {
          "unique_count": 688,
          "nan_count": 19,
          "min": "0.13966639920404186",
          "max": "1.3920170221368098",
          "histogram": [
           {
            "bin_start": 0.13966639920404186,
            "bin_end": 0.26490146149731864,
            "count": 418
           },
           {
            "bin_start": 0.26490146149731864,
            "bin_end": 0.3901365237905955,
            "count": 75
           },
           {
            "bin_start": 0.3901365237905955,
            "bin_end": 0.5153715860838722,
            "count": 64
           },
           {
            "bin_start": 0.5153715860838722,
            "bin_end": 0.6406066483771491,
            "count": 60
           },
           {
            "bin_start": 0.6406066483771491,
            "bin_end": 0.7658417106704258,
            "count": 8
           },
           {
            "bin_start": 0.7658417106704258,
            "bin_end": 0.8910767729637027,
            "count": 24
           },
           {
            "bin_start": 0.8910767729637027,
            "bin_end": 1.0163118352569795,
            "count": 6
           },
           {
            "bin_start": 1.0163118352569795,
            "bin_end": 1.1415468975502563,
            "count": 8
           },
           {
            "bin_start": 1.1415468975502563,
            "bin_end": 1.266781959843533,
            "count": 18
           },
           {
            "bin_start": 1.266781959843533,
            "bin_end": 1.3920170221368098,
            "count": 7
           }
          ]
         }
        },
        {
         "name": "bollinger_long",
         "dtype": "float64",
         "stats": {
          "unique_count": 2,
          "nan_count": 0,
          "min": "0.0",
          "max": "1.0",
          "histogram": [
           {
            "bin_start": 0,
            "bin_end": 0.1,
            "count": 532
           },
           {
            "bin_start": 0.1,
            "bin_end": 0.2,
            "count": 0
           },
           {
            "bin_start": 0.2,
            "bin_end": 0.30000000000000004,
            "count": 0
           },
           {
            "bin_start": 0.30000000000000004,
            "bin_end": 0.4,
            "count": 0
           },
           {
            "bin_start": 0.4,
            "bin_end": 0.5,
            "count": 0
           },
           {
            "bin_start": 0.5,
            "bin_end": 0.6000000000000001,
            "count": 0
           },
           {
            "bin_start": 0.6000000000000001,
            "bin_end": 0.7000000000000001,
            "count": 0
           },
           {
            "bin_start": 0.7000000000000001,
            "bin_end": 0.8,
            "count": 0
           },
           {
            "bin_start": 0.8,
            "bin_end": 0.9,
            "count": 0
           },
           {
            "bin_start": 0.9,
            "bin_end": 1,
            "count": 175
           }
          ]
         }
        },
        {
         "name": "bollinger_short",
         "dtype": "float64",
         "stats": {
          "unique_count": 2,
          "nan_count": 0,
          "min": "-1.0",
          "max": "0.0",
          "histogram": [
           {
            "bin_start": -1,
            "bin_end": -0.9,
            "count": 183
           },
           {
            "bin_start": -0.9,
            "bin_end": -0.8,
            "count": 0
           },
           {
            "bin_start": -0.8,
            "bin_end": -0.7,
            "count": 0
           },
           {
            "bin_start": -0.7,
            "bin_end": -0.6,
            "count": 0
           },
           {
            "bin_start": -0.6,
            "bin_end": -0.5,
            "count": 0
           },
           {
            "bin_start": -0.5,
            "bin_end": -0.3999999999999999,
            "count": 0
           },
           {
            "bin_start": -0.3999999999999999,
            "bin_end": -0.29999999999999993,
            "count": 0
           },
           {
            "bin_start": -0.29999999999999993,
            "bin_end": -0.19999999999999996,
            "count": 0
           },
           {
            "bin_start": -0.19999999999999996,
            "bin_end": -0.09999999999999998,
            "count": 0
           },
           {
            "bin_start": -0.09999999999999998,
            "bin_end": 0,
            "count": 524
           }
          ]
         }
        },
        {
         "name": "bollinger_signal",
         "dtype": "float64",
         "stats": {
          "unique_count": 3,
          "nan_count": 0,
          "min": "-1.0",
          "max": "1.0",
          "histogram": [
           {
            "bin_start": -1,
            "bin_end": -0.8,
            "count": 183
           },
           {
            "bin_start": -0.8,
            "bin_end": -0.6,
            "count": 0
           },
           {
            "bin_start": -0.6,
            "bin_end": -0.3999999999999999,
            "count": 0
           },
           {
            "bin_start": -0.3999999999999999,
            "bin_end": -0.19999999999999996,
            "count": 0
           },
           {
            "bin_start": -0.19999999999999996,
            "bin_end": 0,
            "count": 0
           },
           {
            "bin_start": 0,
            "bin_end": 0.20000000000000018,
            "count": 349
           },
           {
            "bin_start": 0.20000000000000018,
            "bin_end": 0.40000000000000013,
            "count": 0
           },
           {
            "bin_start": 0.40000000000000013,
            "bin_end": 0.6000000000000001,
            "count": 0
           },
           {
            "bin_start": 0.6000000000000001,
            "bin_end": 0.8,
            "count": 0
           },
           {
            "bin_start": 0.8,
            "bin_end": 1,
            "count": 175
           }
          ]
         }
        },
        {
         "name": "_deepnote_index_column",
         "dtype": "datetime64[ns]"
        }
       ],
       "rows_top": [
        {
         "Close": 0.2580539882183075,
         "daily_return": "nan",
         "fast_close": 0.2580539882183075,
         "slow_close": 0.2580539882183075,
         "crossover_long": 0,
         "crossover_short": 0,
         "crossover_signal": 0,
         "fast_vol": "nan",
         "slow_vol": "nan",
         "vol_trend_long": 0,
         "vol_trend_short": 0,
         "vol_trend_signal": 0,
         "bollinger_mid_band": "nan",
         "bollinger_std": "nan",
         "bollinger_upper_band": "nan",
         "bollinger_lower_band": "nan",
         "bollinger_long": 0,
         "bollinger_short": 0,
         "bollinger_signal": 0,
         "_deepnote_index_column": "2019-09-01T00:00:00.000000"
        },
        {
         "Close": 0.2608200013637543,
         "daily_return": 0.010718738216542567,
         "fast_close": 0.25989799698193866,
         "slow_close": 0.2594849069649388,
         "crossover_long": 1,
         "crossover_short": 0,
         "crossover_signal": 1,
         "fast_vol": "nan",
         "slow_vol": "nan",
         "vol_trend_long": 0,
         "vol_trend_short": 0,
         "vol_trend_signal": 0,
         "bollinger_mid_band": "nan",
         "bollinger_std": "nan",
         "bollinger_upper_band": "nan",
         "bollinger_lower_band": "nan",
         "bollinger_long": 0,
         "bollinger_short": 0,
         "bollinger_signal": 0,
         "_deepnote_index_column": "2019-09-02T00:00:00.000000"
        },
        {
         "Close": 0.263139009475708,
         "daily_return": 0.008891220381214149,
         "fast_close": 0.26175000412123545,
         "slow_close": 0.2607882754714597,
         "crossover_long": 1,
         "crossover_short": 0,
         "crossover_signal": 1,
         "fast_vol": 0.001292250254100085,
         "slow_vol": 0.001292250254100085,
         "vol_trend_long": 0,
         "vol_trend_short": 0,
         "vol_trend_signal": 0,
         "bollinger_mid_band": "nan",
         "bollinger_std": "nan",
         "bollinger_upper_band": "nan",
         "bollinger_lower_band": "nan",
         "bollinger_long": 0,
         "bollinger_short": 0,
         "bollinger_signal": 0,
         "_deepnote_index_column": "2019-09-03T00:00:00.000000"
        },
        {
         "Close": 0.25990501046180725,
         "daily_return": -0.012290078237903068,
         "fast_close": 0.26076600750287376,
         "slow_close": 0.2605439986232908,
         "crossover_long": 1,
         "crossover_short": 0,
         "crossover_signal": 1,
         "fast_vol": 0.014284708946172496,
         "slow_vol": 0.012985563857605662,
         "vol_trend_long": 0,
         "vol_trend_short": -1,
         "vol_trend_signal": -1,
         "bollinger_mid_band": "nan",
         "bollinger_std": "nan",
         "bollinger_upper_band": "nan",
         "bollinger_lower_band": "nan",
         "bollinger_long": 0,
         "bollinger_short": 0,
         "bollinger_signal": 0,
         "_deepnote_index_column": "2019-09-04T00:00:00.000000"
        },
        {
         "Close": 0.2563459873199463,
         "daily_return": -0.013693553408367087,
         "fast_close": 0.25848470676329827,
         "slow_close": 0.2595841667104232,
         "crossover_long": 0,
         "crossover_short": -1,
         "crossover_signal": -1,
         "fast_vol": 0.011558962263649285,
         "slow_vol": 0.013172144244701846,
         "vol_trend_long": 1,
         "vol_trend_short": 0,
         "vol_trend_signal": 1,
         "bollinger_mid_band": "nan",
         "bollinger_std": "nan",
         "bollinger_upper_band": "nan",
         "bollinger_lower_band": "nan",
         "bollinger_long": 0,
         "bollinger_short": 0,
         "bollinger_signal": 0,
         "_deepnote_index_column": "2019-09-05T00:00:00.000000"
        },
        {
         "Close": 0.2523399889469147,
         "daily_return": -0.015627310631672664,
         "fast_close": 0.2553635802533891,
         "slow_close": 0.2581583722852485,
         "crossover_long": 0,
         "crossover_short": -1,
         "crossover_signal": -1,
         "fast_vol": 0.009001761702160186,
         "slow_vol": 0.012811169367343648,
         "vol_trend_long": 1,
         "vol_trend_short": 0,
         "vol_trend_signal": 1,
         "bollinger_mid_band": "nan",
         "bollinger_std": "nan",
         "bollinger_upper_band": "nan",
         "bollinger_lower_band": "nan",
         "bollinger_long": 0,
         "bollinger_short": 0,
         "bollinger_signal": 0,
         "_deepnote_index_column": "2019-09-06T00:00:00.000000"
        },
        {
         "Close": 0.260686993598938,
         "daily_return": 0.03307840618864133,
         "fast_close": 0.2580462452464216,
         "slow_close": 0.2585988560584126,
         "crossover_long": 0,
         "crossover_short": -1,
         "crossover_signal": -1,
         "fast_vol": 0.028679072989073618,
         "slow_vol": 0.020216813074464508,
         "vol_trend_long": 0,
         "vol_trend_short": -1,
         "vol_trend_signal": -1,
         "bollinger_mid_band": "nan",
         "bollinger_std": "nan",
         "bollinger_upper_band": "nan",
         "bollinger_lower_band": "nan",
         "bollinger_long": 0,
         "bollinger_short": 0,
         "bollinger_signal": 0,
         "_deepnote_index_column": "2019-09-07T00:00:00.000000"
        },
        {
         "Close": 0.2630839943885803,
         "daily_return": 0.00919493817681638,
         "fast_close": 0.2605749977569954,
         "slow_close": 0.2593044961761734,
         "crossover_long": 1,
         "crossover_short": 0,
         "crossover_signal": 1,
         "fast_vol": 0.020140752709217752,
         "slow_vol": 0.01834768346266362,
         "vol_trend_long": 0,
         "vol_trend_short": -1,
         "vol_trend_signal": -1,
         "bollinger_mid_band": "nan",
         "bollinger_std": "nan",
         "bollinger_upper_band": "nan",
         "bollinger_lower_band": "nan",
         "bollinger_long": 0,
         "bollinger_short": 0,
         "bollinger_signal": 0,
         "_deepnote_index_column": "2019-09-08T00:00:00.000000"
        },
        {
         "Close": 0.2595619857311249,
         "daily_return": -0.013387392363571005,
         "fast_close": 0.2600675005385554,
         "slow_close": 0.2593416494022657,
         "crossover_long": 1,
         "crossover_short": 0,
         "crossover_signal": 1,
         "fast_vol": 0.020166664969479844,
         "slow_vol": 0.017908725778821778,
         "vol_trend_long": 0,
         "vol_trend_short": -1,
         "vol_trend_signal": -1,
         "bollinger_mid_band": "nan",
         "bollinger_std": "nan",
         "bollinger_upper_band": "nan",
         "bollinger_lower_band": "nan",
         "bollinger_long": 0,
         "bollinger_short": 0,
         "bollinger_signal": 0,
         "_deepnote_index_column": "2019-09-09T00:00:00.000000"
        },
        {
         "Close": 0.25867098569869995,
         "daily_return": -0.003432706179663403,
         "fast_close": 0.2593685605600549,
         "slow_close": 0.2592518247184404,
         "crossover_long": 1,
         "crossover_short": 0,
         "crossover_signal": 1,
         "fast_vol": 0.014269221650290573,
         "slow_vol": 0.01651331417958373,
         "vol_trend_long": 1,
         "vol_trend_short": 0,
         "vol_trend_signal": 1,
         "bollinger_mid_band": "nan",
         "bollinger_std": "nan",
         "bollinger_upper_band": "nan",
         "bollinger_lower_band": "nan",
         "bollinger_long": 0,
         "bollinger_short": 0,
         "bollinger_signal": 0,
         "_deepnote_index_column": "2019-09-10T00:00:00.000000"
        },
        {
         "Close": 0.2559559941291809,
         "daily_return": -0.01049592617504258,
         "fast_close": 0.2576614437915083,
         "slow_close": 0.2588381063687379,
         "crossover_long": 0,
         "crossover_short": -1,
         "crossover_signal": -1,
         "fast_vol": 0.011182271119215676,
         "slow_vol": 0.01574726629743617,
         "vol_trend_long": 1,
         "vol_trend_short": 0,
         "vol_trend_signal": 1,
         "bollinger_mid_band": "nan",
         "bollinger_std": "nan",
         "bollinger_upper_band": "nan",
         "bollinger_lower_band": "nan",
         "bollinger_long": 0,
         "bollinger_short": 0,
         "bollinger_signal": 0,
         "_deepnote_index_column": "2019-09-11T00:00:00.000000"
        },
        {
         "Close": 0.25481098890304565,
         "daily_return": -0.004473445640649332,
         "fast_close": 0.25623586830638706,
         "slow_close": 0.25836055686427434,
         "crossover_long": 0,
         "crossover_short": -1,
         "crossover_signal": -1,
         "fast_vol": 0.008004785793546541,
         "slow_vol": 0.014696774287620496,
         "vol_trend_long": 1,
         "vol_trend_short": 0,
         "vol_trend_signal": 1,
         "bollinger_mid_band": "nan",
         "bollinger_std": "nan",
         "bollinger_upper_band": "nan",
         "bollinger_lower_band": "nan",
         "bollinger_long": 0,
         "bollinger_short": 0,
         "bollinger_signal": 0,
         "_deepnote_index_column": "2019-09-12T00:00:00.000000"
        },
        {
         "Close": 0.2555510103702545,
         "daily_return": 0.0029041976187709206,
         "fast_close": 0.25589339753280643,
         "slow_close": 0.25804374389278856,
         "crossover_long": 0,
         "crossover_short": -1,
         "crossover_signal": -1,
         "fast_vol": 0.007653945281261424,
         "slow_vol": 0.013831067337036766,
         "vol_trend_long": 1,
         "vol_trend_short": 0,
         "vol_trend_signal": 1,
         "bollinger_mid_band": "nan",
         "bollinger_std": "nan",
         "bollinger_upper_band": "nan",
         "bollinger_lower_band": "nan",
         "bollinger_long": 0,
         "bollinger_short": 0,
         "bollinger_signal": 0,
         "_deepnote_index_column": "2019-09-13T00:00:00.000000"
        },
        {
         "Close": 0.2611669898033142,
         "daily_return": 0.02197596254823253,
         "fast_close": 0.25853035461514784,
         "slow_close": 0.25838050810013025,
         "crossover_long": 1,
         "crossover_short": 0,
         "crossover_signal": 1,
         "fast_vol": 0.01524832987967282,
         "slow_vol": 0.015062092464562618,
         "vol_trend_long": 0,
         "vol_trend_short": -1,
         "vol_trend_signal": -1,
         "bollinger_mid_band": "nan",
         "bollinger_std": "nan",
         "bollinger_upper_band": "nan",
         "bollinger_lower_band": "nan",
         "bollinger_long": 0,
         "bollinger_short": 0,
         "bollinger_signal": 0,
         "_deepnote_index_column": "2019-09-14T00:00:00.000000"
        },
        {
         "Close": 0.26162800192832947,
         "daily_return": 0.0017652005920136826,
         "fast_close": 0.2600792255395281,
         "slow_close": 0.2587169240446377,
         "crossover_long": 1,
         "crossover_short": 0,
         "crossover_signal": 1,
         "fast_vol": 0.011991873101368324,
         "slow_vol": 0.014187809087074467,
         "vol_trend_long": 1,
         "vol_trend_short": 0,
         "vol_trend_signal": 1,
         "bollinger_mid_band": "nan",
         "bollinger_std": "nan",
         "bollinger_upper_band": "nan",
         "bollinger_lower_band": "nan",
         "bollinger_long": 0,
         "bollinger_short": 0,
         "bollinger_signal": 0,
         "_deepnote_index_column": "2019-09-15T00:00:00.000000"
        },
        {
         "Close": 0.2609519958496094,
         "daily_return": -0.002583844518696754,
         "fast_close": 0.26051561735337936,
         "slow_close": 0.25894028015612325,
         "crossover_long": 1,
         "crossover_short": 0,
         "crossover_signal": 1,
         "fast_vol": 0.009993114387674954,
         "slow_vol": 0.013463143475792106,
         "vol_trend_long": 1,
         "vol_trend_short": 0,
         "vol_trend_signal": 1,
         "bollinger_mid_band": "nan",
         "bollinger_std": "nan",
         "bollinger_upper_band": "nan",
         "bollinger_lower_band": "nan",
         "bollinger_long": 0,
         "bollinger_short": 0,
         "bollinger_signal": 0,
         "_deepnote_index_column": "2019-09-16T00:00:00.000000"
        },
        {
         "Close": 0.28501299023628235,
         "daily_return": 0.09220467660473353,
         "fast_close": 0.2727643972456052,
         "slow_close": 0.26146263835351213,
         "crossover_long": 1,
         "crossover_short": 0,
         "crossover_signal": 1,
         "fast_vol": 0.055851152861559034,
         "slow_vol": 0.031058264210761195,
         "vol_trend_long": 0,
         "vol_trend_short": -1,
         "vol_trend_signal": -1,
         "bollinger_mid_band": "nan",
         "bollinger_std": "nan",
         "bollinger_upper_band": "nan",
         "bollinger_lower_band": "nan",
         "bollinger_long": 0,
         "bollinger_short": 0,
         "bollinger_signal": 0,
         "_deepnote_index_column": "2019-09-17T00:00:00.000000"
        },
        {
         "Close": 0.3137759864330292,
         "daily_return": 0.10091819384408285,
         "fast_close": 0.29327027006301415,
         "slow_close": 0.2663772617217111,
         "crossover_long": 1,
         "crossover_short": 0,
         "crossover_signal": 1,
         "fast_vol": 0.051488524387365946,
         "slow_vol": 0.040473033896431136,
         "vol_trend_long": 0,
         "vol_trend_short": -1,
         "vol_trend_signal": -1,
         "bollinger_mid_band": "nan",
         "bollinger_std": "nan",
         "bollinger_upper_band": "nan",
         "bollinger_lower_band": "nan",
         "bollinger_long": 0,
         "bollinger_short": 0,
         "bollinger_signal": 0,
         "_deepnote_index_column": "2019-09-18T00:00:00.000000"
        },
        {
         "Close": 0.3024410009384155,
         "daily_return": -0.03612445178953472,
         "fast_close": 0.29785564424662203,
         "slow_close": 0.2696762970913328,
         "crossover_long": 1,
         "crossover_short": 0,
         "crossover_signal": 1,
         "fast_vol": 0.076607506717531,
         "slow_vol": 0.041893888570640636,
         "vol_trend_long": 0,
         "vol_trend_short": -1,
         "vol_trend_signal": -1,
         "bollinger_mid_band": "nan",
         "bollinger_std": "nan",
         "bollinger_upper_band": "nan",
         "bollinger_lower_band": "nan",
         "bollinger_long": 0,
         "bollinger_short": 0,
         "bollinger_signal": 0,
         "_deepnote_index_column": "2019-09-19T00:00:00.000000"
        },
        {
         "Close": 0.29447001218795776,
         "daily_return": -0.026355516367573606,
         "fast_close": 0.29616282660289317,
         "slow_close": 0.2718901116629457,
         "crossover_long": 1,
         "crossover_short": 0,
         "crossover_signal": 1,
         "fast_vol": 0.060849792088887494,
         "slow_vol": 0.04162530506504457,
         "vol_trend_long": 0,
         "vol_trend_short": -1,
         "vol_trend_signal": -1,
         "bollinger_mid_band": 0.26691864579916,
         "bollinger_std": 0.017344581812958754,
         "bollinger_upper_band": 0.28426322761211875,
         "bollinger_lower_band": 0.24957406398620127,
         "bollinger_long": 0,
         "bollinger_short": -1,
         "bollinger_signal": -1,
         "_deepnote_index_column": "2019-09-20T00:00:00.000000"
        },
        {
         "Close": 0.2894429862499237,
         "daily_return": -0.017071435901681364,
         "fast_close": 0.2928029048242729,
         "slow_close": 0.27342317478071104,
         "crossover_long": 1,
         "crossover_short": 0,
         "crossover_signal": 1,
         "fast_vol": 0.043796841386425825,
         "slow_vol": 0.04047142283100251,
         "vol_trend_long": 0,
         "vol_trend_short": -1,
         "vol_trend_signal": -1,
         "bollinger_mid_band": 0.26848809570074084,
         "bollinger_std": 0.017911119959556254,
         "bollinger_upper_band": 0.2863992156602971,
         "bollinger_lower_band": 0.2505769757411846,
         "bollinger_long": 0,
         "bollinger_short": -1,
         "bollinger_signal": -1,
         "_deepnote_index_column": "2019-09-21T00:00:00.000000"
        },
        {
         "Close": 0.27893099188804626,
         "daily_return": -0.03631801377560662,
         "fast_close": 0.2858669467024983,
         "slow_close": 0.2738946213304008,
         "crossover_long": 1,
         "crossover_short": 0,
         "crossover_signal": 1,
         "fast_vol": 0.0347999857052685,
         "slow_vol": 0.04068335704148058,
         "vol_trend_long": 1,
         "vol_trend_short": 0,
         "vol_trend_signal": 1,
         "bollinger_mid_band": 0.2693936452269554,
         "bollinger_std": 0.0179607908585634,
         "bollinger_upper_band": 0.2873544360855188,
         "bollinger_lower_band": 0.251432854368392,
         "bollinger_long": 0,
         "bollinger_short": 0,
         "bollinger_signal": 0,
         "_deepnote_index_column": "2019-09-22T00:00:00.000000"
        },
        {
         "Close": 0.2686749994754791,
         "daily_return": -0.0367689238945651,
         "fast_close": 0.2772709720642687,
         "slow_close": 0.27345601388163837,
         "crossover_long": 1,
         "crossover_short": 0,
         "crossover_signal": 1,
         "fast_vol": 0.02594162545897621,
         "slow_vol": 0.04058345075060368,
         "vol_trend_long": 1,
         "vol_trend_short": 0,
         "vol_trend_signal": 1,
         "bollinger_mid_band": 0.26967044472694396,
         "bollinger_std": 0.017901887258797888,
         "bollinger_upper_band": 0.28757233198574184,
         "bollinger_lower_band": 0.2517685574681461,
         "bollinger_long": 0,
         "bollinger_short": 0,
         "bollinger_signal": 0,
         "_deepnote_index_column": "2019-09-23T00:00:00.000000"
        },
        {
         "Close": 0.23522600531578064,
         "daily_return": -0.12449611696287077,
         "fast_close": 0.2562484874369869,
         "slow_close": 0.27029742362760323,
         "crossover_long": 0,
         "crossover_short": -1,
         "crossover_signal": -1,
         "fast_vol": 0.06066770291402585,
         "slow_vol": 0.0526521233888462,
         "vol_trend_long": 0,
         "vol_trend_short": -1,
         "vol_trend_signal": -1,
         "bollinger_mid_band": 0.26843649446964263,
         "bollinger_std": 0.019398422095787248,
         "bollinger_upper_band": 0.28783491656542987,
         "bollinger_lower_band": 0.2490380723738554,
         "bollinger_long": 1,
         "bollinger_short": 0,
         "bollinger_signal": 1,
         "_deepnote_index_column": "2019-09-24T00:00:00.000000"
        },
        {
         "Close": 0.24644100666046143,
         "daily_return": 0.04767755729059431,
         "fast_close": 0.2513447469025813,
         "slow_close": 0.2683567680754433,
         "crossover_long": 0,
         "crossover_short": -1,
         "crossover_signal": -1,
         "fast_vol": 0.08772487527264008,
         "slow_vol": 0.05297274285765038,
         "vol_trend_long": 0,
         "vol_trend_short": -1,
         "vol_trend_signal": -1,
         "bollinger_mid_band": 0.2679412454366684,
         "bollinger_std": 0.01984464995521324,
         "bollinger_upper_band": 0.28778589539188165,
         "bollinger_lower_band": 0.24809659548145518,
         "bollinger_long": 1,
         "bollinger_short": 0,
         "bollinger_signal": 1,
         "_deepnote_index_column": "2019-09-25T00:00:00.000000"
        },
        {
         "Close": 0.24378399550914764,
         "daily_return": -0.010781530181681709,
         "fast_close": 0.2475643711495325,
         "slow_close": 0.2663861766322592,
         "crossover_long": 0,
         "crossover_short": -1,
         "crossover_signal": -1,
         "fast_vol": 0.06207966975264686,
         "slow_vol": 0.05076009686603036,
         "vol_trend_long": 0,
         "vol_trend_short": -1,
         "vol_trend_signal": -1,
         "bollinger_mid_band": 0.26751344576478003,
         "bollinger_std": 0.02028598916788346,
         "bollinger_upper_band": 0.28779943493266347,
         "bollinger_lower_band": 0.24722745659689657,
         "bollinger_long": 1,
         "bollinger_short": 0,
         "bollinger_signal": 1,
         "_deepnote_index_column": "2019-09-26T00:00:00.000000"
        }
       ],
       "rows_bottom": [
        {
         "Close": 0.582427978515625,
         "daily_return": -0.014127265552901336,
         "fast_close": 0.5914094021619409,
         "slow_close": 0.6772630693178662,
         "crossover_long": 0,
         "crossover_short": -1,
         "crossover_signal": -1,
         "fast_vol": 0.012221941561236882,
         "slow_vol": 0.0506650860507227,
         "vol_trend_long": 1,
         "vol_trend_short": 0,
         "vol_trend_signal": 1,
         "bollinger_mid_band": 0.6435162991285324,
         "bollinger_std": 0.03465313443235597,
         "bollinger_upper_band": 0.6781694335608883,
         "bollinger_lower_band": 0.6088631646961764,
         "bollinger_long": 1,
         "bollinger_short": 0,
         "bollinger_signal": 1,
         "_deepnote_index_column": "2021-07-17T00:00:00.000000"
        },
        {
         "Close": 0.5879219770431519,
         "daily_return": 0.009432923434634422,
         "fast_close": 0.5896656896025464,
         "slow_close": 0.6712801636353946,
         "crossover_long": 0,
         "crossover_short": -1,
         "crossover_signal": -1,
         "fast_vol": 0.01722373551264302,
         "slow_vol": 0.049149972326018754,
         "vol_trend_long": 1,
         "vol_trend_short": 0,
         "vol_trend_signal": 1,
         "bollinger_mid_band": 0.6407250970602035,
         "bollinger_std": 0.03681448119766525,
         "bollinger_upper_band": 0.6775395782578688,
         "bollinger_lower_band": 0.6039106158625382,
         "bollinger_long": 1,
         "bollinger_short": 0,
         "bollinger_signal": 1,
         "_deepnote_index_column": "2021-07-18T00:00:00.000000"
        },
        {
         "Close": 0.5575559735298157,
         "daily_return": -0.051649716627462317,
         "fast_close": 0.573610831566181,
         "slow_close": 0.6636643948341245,
         "crossover_long": 0,
         "crossover_short": -1,
         "crossover_signal": -1,
         "fast_vol": 0.03233714753759348,
         "slow_vol": 0.0488015742299732,
         "vol_trend_long": 1,
         "vol_trend_short": 0,
         "vol_trend_signal": 1,
         "bollinger_mid_band": 0.6335166454315185,
         "bollinger_std": 0.03832526526778132,
         "bollinger_upper_band": 0.6718419106992999,
         "bollinger_lower_band": 0.5951913801637372,
         "bollinger_long": 1,
         "bollinger_short": 0,
         "bollinger_signal": 1,
         "_deepnote_index_column": "2021-07-19T00:00:00.000000"
        },
        {
         "Close": 0.5293359756469727,
         "daily_return": -0.050613748614665166,
         "fast_close": 0.5514734036065768,
         "slow_close": 0.6546688224495713,
         "crossover_long": 0,
         "crossover_short": -1,
         "crossover_signal": -1,
         "fast_vol": 0.02699230668604626,
         "slow_vol": 0.04824667608997504,
         "vol_trend_long": 1,
         "vol_trend_short": 0,
         "vol_trend_signal": 1,
         "bollinger_mid_band": 0.6246647447347641,
         "bollinger_std": 0.040965961249138205,
         "bollinger_upper_band": 0.6656307059839023,
         "bollinger_lower_band": 0.5836987834856259,
         "bollinger_long": 1,
         "bollinger_short": 0,
         "bollinger_signal": 1,
         "_deepnote_index_column": "2021-07-20T00:00:00.000000"
        },
        {
         "Close": 0.569998025894165,
         "daily_return": 0.07681709182432539,
         "fast_close": 0.5607357147503709,
         "slow_close": 0.64899867250006,
         "crossover_long": 0,
         "crossover_short": -1,
         "crossover_signal": -1,
         "fast_vol": 0.07338871801827962,
         "slow_vol": 0.05189482015590131,
         "vol_trend_long": 0,
         "vol_trend_short": -1,
         "vol_trend_signal": -1,
         "bollinger_mid_band": 0.6201056450605392,
         "bollinger_std": 0.041754524942270645,
         "bollinger_upper_band": 0.6618601700028098,
         "bollinger_lower_band": 0.5783511201182686,
         "bollinger_long": 1,
         "bollinger_short": 0,
         "bollinger_signal": 1,
         "_deepnote_index_column": "2021-07-21T00:00:00.000000"
        },
        {
         "Close": 0.5922060012817383,
         "daily_return": 0.03896149526611992,
         "fast_close": 0.5764708580160546,
         "slow_close": 0.6451954372059354,
         "crossover_long": 0,
         "crossover_short": -1,
         "crossover_signal": -1,
         "fast_vol": 0.05331991214468664,
         "slow_vol": 0.05146768435793219,
         "vol_trend_long": 0,
         "vol_trend_short": -1,
         "vol_trend_signal": -1,
         "bollinger_mid_band": 0.6168777942657471,
         "bollinger_std": 0.04126398549986423,
         "bollinger_upper_band": 0.6581417797656113,
         "bollinger_lower_band": 0.5756138087658829,
         "bollinger_long": 0,
         "bollinger_short": 0,
         "bollinger_signal": 0,
         "_deepnote_index_column": "2021-07-22T00:00:00.000000"
        },
        {
         "Close": 0.6092240214347839,
         "daily_return": 0.02873665602208142,
         "fast_close": 0.5928474397254193,
         "slow_close": 0.6427865391015557,
         "crossover_long": 0,
         "crossover_short": -1,
         "crossover_signal": -1,
         "fast_vol": 0.03770311832142222,
         "slow_vol": 0.05040054648609587,
         "vol_trend_long": 1,
         "vol_trend_short": 0,
         "vol_trend_signal": 1,
         "bollinger_mid_band": 0.6136945962905884,
         "bollinger_std": 0.03911548201216633,
         "bollinger_upper_band": 0.6528100783027547,
         "bollinger_lower_band": 0.5745791142784221,
         "bollinger_long": 0,
         "bollinger_short": 0,
         "bollinger_signal": 0,
         "_deepnote_index_column": "2021-07-23T00:00:00.000000"
        },
        {
         "Close": 0.6098269820213318,
         "daily_return": 0.0009897189955310193,
         "fast_close": 0.6013372108733755,
         "slow_close": 0.6405793361636213,
         "crossover_long": 0,
         "crossover_short": -1,
         "crossover_signal": -1,
         "fast_vol": 0.03165114863771492,
         "slow_vol": 0.04868837612342294,
         "vol_trend_long": 1,
         "vol_trend_short": 0,
         "vol_trend_signal": 1,
         "bollinger_mid_band": 0.6094386965036392,
         "bollinger_std": 0.034121669314278506,
         "bollinger_upper_band": 0.6435603658179178,
         "bollinger_lower_band": 0.5753170271893607,
         "bollinger_long": 0,
         "bollinger_short": 0,
         "bollinger_signal": 0,
         "_deepnote_index_column": "2021-07-24T00:00:00.000000"
        },
        {
         "Close": 0.6063569784164429,
         "daily_return": -0.005690144429797539,
         "fast_close": 0.6038470946449093,
         "slow_close": 0.6382875672427356,
         "crossover_long": 0,
         "crossover_short": -1,
         "crossover_signal": -1,
         "fast_vol": 0.02569381626699943,
         "slow_vol": 0.04704206699932983,
         "vol_trend_long": 1,
         "vol_trend_short": 0,
         "vol_trend_signal": 1,
         "bollinger_mid_band": 0.607041546702385,
         "bollinger_std": 0.03244713449664321,
         "bollinger_upper_band": 0.6394886811990281,
         "bollinger_lower_band": 0.5745944122057418,
         "bollinger_long": 0,
         "bollinger_short": 0,
         "bollinger_signal": 0,
         "_deepnote_index_column": "2021-07-25T00:00:00.000000"
        },
        {
         "Close": 0.6256179809570312,
         "daily_return": 0.03176512059099279,
         "fast_close": 0.6147325378009703,
         "slow_close": 0.6374391229507157,
         "crossover_long": 0,
         "crossover_short": -1,
         "crossover_signal": -1,
         "fast_vol": 0.024627672999893303,
         "slow_vol": 0.046233274591923675,
         "vol_trend_long": 1,
         "vol_trend_short": 0,
         "vol_trend_signal": 1,
         "bollinger_mid_band": 0.6050523459911347,
         "bollinger_std": 0.029791837258321574,
         "bollinger_upper_band": 0.6348441832494562,
         "bollinger_lower_band": 0.5752605087328131,
         "bollinger_long": 0,
         "bollinger_short": 0,
         "bollinger_signal": 0,
         "_deepnote_index_column": "2021-07-26T00:00:00.000000"
        },
        {
         "Close": 0.6446040272712708,
         "daily_return": 0.03034766725405791,
         "fast_close": 0.6296682825361205,
         "slow_close": 0.6379189351589882,
         "crossover_long": 0,
         "crossover_short": -1,
         "crossover_signal": -1,
         "fast_vol": 0.018939159941884734,
         "slow_vol": 0.04530010422267156,
         "vol_trend_long": 1,
         "vol_trend_short": 0,
         "vol_trend_signal": 1,
         "bollinger_mid_band": 0.6047037959098815,
         "bollinger_std": 0.029254836308679606,
         "bollinger_upper_band": 0.6339586322185612,
         "bollinger_lower_band": 0.5754489596012019,
         "bollinger_long": 0,
         "bollinger_short": -1,
         "bollinger_signal": -1,
         "_deepnote_index_column": "2021-07-27T00:00:00.000000"
        },
        {
         "Close": 0.7254449725151062,
         "daily_return": 0.12541179053139073,
         "fast_close": 0.6775566275256133,
         "slow_close": 0.6437802920433652,
         "crossover_long": 1,
         "crossover_short": 0,
         "crossover_signal": 1,
         "fast_vol": 0.06336850290907566,
         "slow_vol": 0.05378438399495277,
         "vol_trend_long": 0,
         "vol_trend_short": -1,
         "vol_trend_signal": -1,
         "bollinger_mid_band": 0.6098231434822082,
         "bollinger_std": 0.03972170509472758,
         "bollinger_upper_band": 0.6495448485769358,
         "bollinger_lower_band": 0.5701014383874806,
         "bollinger_long": 0,
         "bollinger_short": -1,
         "bollinger_signal": -1,
         "_deepnote_index_column": "2021-07-28T00:00:00.000000"
        },
        {
         "Close": 0.7480170130729675,
         "daily_return": 0.031114752204573826,
         "fast_close": 0.7127868202992904,
         "slow_close": 0.65076071342273,
         "crossover_long": 1,
         "crossover_short": 0,
         "crossover_signal": 1,
         "fast_vol": 0.05219916877195037,
         "slow_vol": 0.052210867617014864,
         "vol_trend_long": 1,
         "vol_trend_short": 0,
         "vol_trend_signal": 1,
         "bollinger_mid_band": 0.6153837949037552,
         "bollinger_std": 0.05012071017220382,
         "bollinger_upper_band": 0.6655045050759589,
         "bollinger_lower_band": 0.5652630847315514,
         "bollinger_long": 0,
         "bollinger_short": -1,
         "bollinger_signal": -1,
         "_deepnote_index_column": "2021-07-29T00:00:00.000000"
        },
        {
         "Close": 0.7521190047264099,
         "daily_return": 0.005483821332606942,
         "fast_close": 0.7324529125128502,
         "slow_close": 0.6575483749742783,
         "crossover_long": 1,
         "crossover_short": 0,
         "crossover_signal": 1,
         "fast_vol": 0.04699196945332085,
         "slow_vol": 0.05046029837254641,
         "vol_trend_long": 1,
         "vol_trend_short": 0,
         "vol_trend_signal": 1,
         "bollinger_mid_band": 0.6217165946960449,
         "bollinger_std": 0.0587243633479526,
         "bollinger_upper_band": 0.6804409580439975,
         "bollinger_lower_band": 0.5629922313480923,
         "bollinger_long": 0,
         "bollinger_short": -1,
         "bollinger_signal": -1,
         "_deepnote_index_column": "2021-07-30T00:00:00.000000"
        },
        {
         "Close": 0.7477859854698181,
         "daily_return": -0.005761081995485529,
         "fast_close": 0.7401194489913341,
         "slow_close": 0.6635913178000314,
         "crossover_long": 1,
         "crossover_short": 0,
         "crossover_signal": 1,
         "fast_vol": 0.03953834686284206,
         "slow_vol": 0.048942059399838575,
         "vol_trend_long": 1,
         "vol_trend_short": 0,
         "vol_trend_signal": 1,
         "bollinger_mid_band": 0.6273091435432434,
         "bollinger_std": 0.06512670327417801,
         "bollinger_upper_band": 0.6924358468174214,
         "bollinger_lower_band": 0.5621824402690654,
         "bollinger_long": 0,
         "bollinger_short": -1,
         "bollinger_signal": -1,
         "_deepnote_index_column": "2021-07-31T00:00:00.000000"
        },
        {
         "Close": 0.7259219884872437,
         "daily_return": -0.02923830802851668,
         "fast_close": 0.7330207187392889,
         "slow_close": 0.6677654163514585,
         "crossover_long": 1,
         "crossover_short": 0,
         "crossover_signal": 1,
         "fast_vol": 0.03756578835831192,
         "slow_vol": 0.04834247083912874,
         "vol_trend_long": 1,
         "vol_trend_short": 0,
         "vol_trend_signal": 1,
         "bollinger_mid_band": 0.6320963442325592,
         "bollinger_std": 0.06876588019269143,
         "bollinger_upper_band": 0.7008622244252507,
         "bollinger_lower_band": 0.5633304640398678,
         "bollinger_long": 0,
         "bollinger_short": -1,
         "bollinger_signal": -1,
         "_deepnote_index_column": "2021-08-01T00:00:00.000000"
        },
        {
         "Close": 0.7392200231552124,
         "daily_return": 0.01831882058798162,
         "fast_close": 0.7361203709472506,
         "slow_close": 0.6725505176100196,
         "crossover_long": 1,
         "crossover_short": 0,
         "crossover_signal": 1,
         "fast_vol": 0.03131134519857168,
         "slow_vol": 0.04677215158943345,
         "vol_trend_long": 1,
         "vol_trend_short": 0,
         "vol_trend_signal": 1,
         "bollinger_mid_band": 0.6380811959505082,
         "bollinger_std": 0.07270966185420911,
         "bollinger_upper_band": 0.7107908578047173,
         "bollinger_lower_band": 0.565371534096299,
         "bollinger_long": 0,
         "bollinger_short": -1,
         "bollinger_signal": -1,
         "_deepnote_index_column": "2021-08-02T00:00:00.000000"
        },
        {
         "Close": 0.7127289772033691,
         "daily_return": -0.03583648321479649,
         "fast_close": 0.7244246740753099,
         "slow_close": 0.6752411488536455,
         "crossover_long": 1,
         "crossover_short": 0,
         "crossover_signal": 1,
         "fast_vol": 0.033300821932671254,
         "slow_vol": 0.04656684442231911,
         "vol_trend_long": 1,
         "vol_trend_short": 0,
         "vol_trend_signal": 1,
         "bollinger_mid_band": 0.642701444029808,
         "bollinger_std": 0.07443727262404488,
         "bollinger_upper_band": 0.7171387166538529,
         "bollinger_lower_band": 0.5682641714057631,
         "bollinger_long": 0,
         "bollinger_short": 0,
         "bollinger_signal": 0,
         "_deepnote_index_column": "2021-08-03T00:00:00.000000"
        },
        {
         "Close": 0.7304880023002625,
         "daily_return": 0.024916939909721103,
         "fast_close": 0.7274563381877861,
         "slow_close": 0.6789408653559699,
         "crossover_long": 1,
         "crossover_short": 0,
         "crossover_signal": 1,
         "fast_vol": 0.03417379973334528,
         "slow_vol": 0.04524971582704054,
         "vol_trend_long": 1,
         "vol_trend_short": 0,
         "vol_trend_signal": 1,
         "bollinger_mid_band": 0.6493787944316864,
         "bollinger_std": 0.07608788700911166,
         "bollinger_upper_band": 0.7254666814407981,
         "bollinger_lower_band": 0.5732909074225748,
         "bollinger_long": 0,
         "bollinger_short": -1,
         "bollinger_signal": -1,
         "_deepnote_index_column": "2021-08-04T00:00:00.000000"
        },
        {
         "Close": 0.7331510186195374,
         "daily_return": 0.0036455305369686997,
         "fast_close": 0.7303036784036617,
         "slow_close": 0.6825711571483621,
         "crossover_long": 1,
         "crossover_short": 0,
         "crossover_signal": 1,
         "fast_vol": 0.024173073788738387,
         "slow_vol": 0.04371592355931249,
         "vol_trend_long": 1,
         "vol_trend_short": 0,
         "vol_trend_signal": 1,
         "bollinger_mid_band": 0.6564976453781128,
         "bollinger_std": 0.07697151463658476,
         "bollinger_upper_band": 0.7334691600146976,
         "bollinger_lower_band": 0.579526130741528,
         "bollinger_long": 0,
         "bollinger_short": 0,
         "bollinger_signal": 0,
         "_deepnote_index_column": "2021-08-05T00:00:00.000000"
        },
        {
         "Close": 0.7465130090713501,
         "daily_return": 0.01822542711182784,
         "fast_close": 0.738408343737506,
         "slow_close": 0.686853151687241,
         "crossover_long": 1,
         "crossover_short": 0,
         "crossover_signal": 1,
         "fast_vol": 0.019137603476011626,
         "slow_vol": 0.04232970314977477,
         "vol_trend_long": 1,
         "vol_trend_short": 0,
         "vol_trend_signal": 1,
         "bollinger_mid_band": 0.6647018969058991,
         "bollinger_std": 0.07740458388868603,
         "bollinger_upper_band": 0.7421064807945851,
         "bollinger_lower_band": 0.5872973130172131,
         "bollinger_long": 0,
         "bollinger_short": -1,
         "bollinger_signal": -1,
         "_deepnote_index_column": "2021-08-06T00:00:00.000000"
        },
        {
         "Close": 0.8162810206413269,
         "daily_return": 0.09345853417446404,
         "fast_close": 0.7773446821894164,
         "slow_close": 0.6955205488828623,
         "crossover_long": 1,
         "crossover_short": 0,
         "crossover_signal": 1,
         "fast_vol": 0.052160120334565636,
         "slow_vol": 0.04637980912600736,
         "vol_trend_long": 0,
         "vol_trend_short": -1,
         "vol_trend_signal": -1,
         "bollinger_mid_band": 0.6761198490858078,
         "bollinger_std": 0.08217811353884055,
         "bollinger_upper_band": 0.7582979626246483,
         "bollinger_lower_band": 0.5939417355469673,
         "bollinger_long": 0,
         "bollinger_short": -1,
         "bollinger_signal": -1,
         "_deepnote_index_column": "2021-08-07T00:00:00.000000"
        },
        {
         "Close": 0.7787389755249023,
         "daily_return": -0.045991569284471345,
         "fast_close": 0.7780418288571593,
         "slow_close": 0.7010934379640934,
         "crossover_long": 1,
         "crossover_short": 0,
         "crossover_signal": 1,
         "fast_vol": 0.0706072367147478,
         "slow_vol": 0.04726072782782407,
         "vol_trend_long": 0,
         "vol_trend_short": -1,
         "vol_trend_signal": -1,
         "bollinger_mid_band": 0.6871789991855621,
         "bollinger_std": 0.0802426586433587,
         "bollinger_upper_band": 0.7674216578289208,
         "bollinger_lower_band": 0.6069363405422035,
         "bollinger_long": 0,
         "bollinger_short": -1,
         "bollinger_signal": -1,
         "_deepnote_index_column": "2021-08-08T00:00:00.000000"
        },
        {
         "Close": 0.8185529708862305,
         "daily_return": 0.05112623948800277,
         "fast_close": 0.7982973998716949,
         "slow_close": 0.7089593514993728,
         "crossover_long": 1,
         "crossover_short": 0,
         "crossover_signal": 1,
         "fast_vol": 0.0579238856281948,
         "slow_vol": 0.04687996026686578,
         "vol_trend_long": 0,
         "vol_trend_short": -1,
         "vol_trend_signal": -1,
         "bollinger_mid_band": 0.7016398489475251,
         "bollinger_std": 0.07626173003848084,
         "bollinger_upper_band": 0.7779015789860059,
         "bollinger_lower_band": 0.6253781189090443,
         "bollinger_long": 0,
         "bollinger_short": -1,
         "bollinger_signal": -1,
         "_deepnote_index_column": "2021-08-09T00:00:00.000000"
        },
        {
         "Close": 0.8512470126152039,
         "daily_return": 0.039941265735772946,
         "fast_close": 0.8247722062434494,
         "slow_close": 0.7184879305055246,
         "crossover_long": 1,
         "crossover_short": 0,
         "crossover_signal": 1,
         "fast_vol": 0.04170096543883146,
         "slow_vol": 0.045837014877810334,
         "vol_trend_long": 1,
         "vol_trend_short": 0,
         "vol_trend_signal": 1,
         "bollinger_mid_band": 0.715702298283577,
         "bollinger_std": 0.0766395741246256,
         "bollinger_upper_band": 0.7923418724082026,
         "bollinger_lower_band": 0.6390627241589514,
         "bollinger_long": 0,
         "bollinger_short": -1,
         "bollinger_signal": -1,
         "_deepnote_index_column": "2021-08-10T00:00:00.000000"
        },
        {
         "Close": 1.0125240087509155,
         "daily_return": 0.18945969118908979,
         "fast_close": 0.9186481074971824,
         "slow_close": 0.7381786470458677,
         "crossover_long": 1,
         "crossover_short": 0,
         "crossover_signal": 1,
         "fast_vol": 0.09992793281285606,
         "slow_vol": 0.06289324574404065,
         "vol_trend_long": 0,
         "vol_trend_short": -1,
         "vol_trend_signal": -1,
         "bollinger_mid_band": 0.7367181986570358,
         "bollinger_std": 0.09614060240346545,
         "bollinger_upper_band": 0.8328588010605013,
         "bollinger_lower_band": 0.6405775962535704,
         "bollinger_long": 0,
         "bollinger_short": -1,
         "bollinger_signal": -1,
         "_deepnote_index_column": "2021-08-11T00:00:00.000000"
        }
       ]
      },
      "text/plain": "               Close  daily_return  fast_close  slow_close  crossover_long  \\\nDate                                                                         \n2019-09-01  0.258054           NaN    0.258054    0.258054             0.0   \n2019-09-02  0.260820      0.010719    0.259898    0.259485             1.0   \n2019-09-03  0.263139      0.008891    0.261750    0.260788             1.0   \n2019-09-04  0.259905     -0.012290    0.260766    0.260544             1.0   \n2019-09-05  0.256346     -0.013694    0.258485    0.259584             0.0   \n...              ...           ...         ...         ...             ...   \n2021-08-07  0.816281      0.093459    0.777345    0.695521             1.0   \n2021-08-08  0.778739     -0.045992    0.778042    0.701093             1.0   \n2021-08-09  0.818553      0.051126    0.798297    0.708959             1.0   \n2021-08-10  0.851247      0.039941    0.824772    0.718488             1.0   \n2021-08-11  1.012524      0.189460    0.918648    0.738179             1.0   \n\n            crossover_short  crossover_signal  fast_vol  slow_vol  \\\nDate                                                                \n2019-09-01              0.0               0.0       NaN       NaN   \n2019-09-02              0.0               1.0       NaN       NaN   \n2019-09-03              0.0               1.0  0.001292  0.001292   \n2019-09-04              0.0               1.0  0.014285  0.012986   \n2019-09-05             -1.0              -1.0  0.011559  0.013172   \n...                     ...               ...       ...       ...   \n2021-08-07              0.0               1.0  0.052160  0.046380   \n2021-08-08              0.0               1.0  0.070607  0.047261   \n2021-08-09              0.0               1.0  0.057924  0.046880   \n2021-08-10              0.0               1.0  0.041701  0.045837   \n2021-08-11              0.0               1.0  0.099928  0.062893   \n\n            vol_trend_long  vol_trend_short  vol_trend_signal  \\\nDate                                                            \n2019-09-01             0.0              0.0               0.0   \n2019-09-02             0.0              0.0               0.0   \n2019-09-03             0.0              0.0               0.0   \n2019-09-04             0.0             -1.0              -1.0   \n2019-09-05             1.0              0.0               1.0   \n...                    ...              ...               ...   \n2021-08-07             0.0             -1.0              -1.0   \n2021-08-08             0.0             -1.0              -1.0   \n2021-08-09             0.0             -1.0              -1.0   \n2021-08-10             1.0              0.0               1.0   \n2021-08-11             0.0             -1.0              -1.0   \n\n            bollinger_mid_band  bollinger_std  bollinger_upper_band  \\\nDate                                                                  \n2019-09-01                 NaN            NaN                   NaN   \n2019-09-02                 NaN            NaN                   NaN   \n2019-09-03                 NaN            NaN                   NaN   \n2019-09-04                 NaN            NaN                   NaN   \n2019-09-05                 NaN            NaN                   NaN   \n...                        ...            ...                   ...   \n2021-08-07            0.676120       0.082178              0.758298   \n2021-08-08            0.687179       0.080243              0.767422   \n2021-08-09            0.701640       0.076262              0.777902   \n2021-08-10            0.715702       0.076640              0.792342   \n2021-08-11            0.736718       0.096141              0.832859   \n\n            bollinger_lower_band  bollinger_long  bollinger_short  \\\nDate                                                                \n2019-09-01                   NaN             0.0              0.0   \n2019-09-02                   NaN             0.0              0.0   \n2019-09-03                   NaN             0.0              0.0   \n2019-09-04                   NaN             0.0              0.0   \n2019-09-05                   NaN             0.0              0.0   \n...                          ...             ...              ...   \n2021-08-07              0.593942             0.0             -1.0   \n2021-08-08              0.606936             0.0             -1.0   \n2021-08-09              0.625378             0.0             -1.0   \n2021-08-10              0.639063             0.0             -1.0   \n2021-08-11              0.640578             0.0             -1.0   \n\n            bollinger_signal  \nDate                          \n2019-09-01               0.0  \n2019-09-02               0.0  \n2019-09-03               0.0  \n2019-09-04               0.0  \n2019-09-05               0.0  \n...                      ...  \n2021-08-07              -1.0  \n2021-08-08              -1.0  \n2021-08-09              -1.0  \n2021-08-10              -1.0  \n2021-08-11              -1.0  \n\n[707 rows x 19 columns]",
      "text/html": "<div>\n<style scoped>\n    .dataframe tbody tr th:only-of-type {\n        vertical-align: middle;\n    }\n\n    .dataframe tbody tr th {\n        vertical-align: top;\n    }\n\n    .dataframe thead th {\n        text-align: right;\n    }\n</style>\n<table border=\"1\" class=\"dataframe\">\n  <thead>\n    <tr style=\"text-align: right;\">\n      <th></th>\n      <th>Close</th>\n      <th>daily_return</th>\n      <th>fast_close</th>\n      <th>slow_close</th>\n      <th>crossover_long</th>\n      <th>crossover_short</th>\n      <th>crossover_signal</th>\n      <th>fast_vol</th>\n      <th>slow_vol</th>\n      <th>vol_trend_long</th>\n      <th>vol_trend_short</th>\n      <th>vol_trend_signal</th>\n      <th>bollinger_mid_band</th>\n      <th>bollinger_std</th>\n      <th>bollinger_upper_band</th>\n      <th>bollinger_lower_band</th>\n      <th>bollinger_long</th>\n      <th>bollinger_short</th>\n      <th>bollinger_signal</th>\n    </tr>\n    <tr>\n      <th>Date</th>\n      <th></th>\n      <th></th>\n      <th></th>\n      <th></th>\n      <th></th>\n      <th></th>\n      <th></th>\n      <th></th>\n      <th></th>\n      <th></th>\n      <th></th>\n      <th></th>\n      <th></th>\n      <th></th>\n      <th></th>\n      <th></th>\n      <th></th>\n      <th></th>\n      <th></th>\n    </tr>\n  </thead>\n  <tbody>\n    <tr>\n      <th>2019-09-01</th>\n      <td>0.258054</td>\n      <td>NaN</td>\n      <td>0.258054</td>\n      <td>0.258054</td>\n      <td>0.0</td>\n      <td>0.0</td>\n      <td>0.0</td>\n      <td>NaN</td>\n      <td>NaN</td>\n      <td>0.0</td>\n      <td>0.0</td>\n      <td>0.0</td>\n      <td>NaN</td>\n      <td>NaN</td>\n      <td>NaN</td>\n      <td>NaN</td>\n      <td>0.0</td>\n      <td>0.0</td>\n      <td>0.0</td>\n    </tr>\n    <tr>\n      <th>2019-09-02</th>\n      <td>0.260820</td>\n      <td>0.010719</td>\n      <td>0.259898</td>\n      <td>0.259485</td>\n      <td>1.0</td>\n      <td>0.0</td>\n      <td>1.0</td>\n      <td>NaN</td>\n      <td>NaN</td>\n      <td>0.0</td>\n      <td>0.0</td>\n      <td>0.0</td>\n      <td>NaN</td>\n      <td>NaN</td>\n      <td>NaN</td>\n      <td>NaN</td>\n      <td>0.0</td>\n      <td>0.0</td>\n      <td>0.0</td>\n    </tr>\n    <tr>\n      <th>2019-09-03</th>\n      <td>0.263139</td>\n      <td>0.008891</td>\n      <td>0.261750</td>\n      <td>0.260788</td>\n      <td>1.0</td>\n      <td>0.0</td>\n      <td>1.0</td>\n      <td>0.001292</td>\n      <td>0.001292</td>\n      <td>0.0</td>\n      <td>0.0</td>\n      <td>0.0</td>\n      <td>NaN</td>\n      <td>NaN</td>\n      <td>NaN</td>\n      <td>NaN</td>\n      <td>0.0</td>\n      <td>0.0</td>\n      <td>0.0</td>\n    </tr>\n    <tr>\n      <th>2019-09-04</th>\n      <td>0.259905</td>\n      <td>-0.012290</td>\n      <td>0.260766</td>\n      <td>0.260544</td>\n      <td>1.0</td>\n      <td>0.0</td>\n      <td>1.0</td>\n      <td>0.014285</td>\n      <td>0.012986</td>\n      <td>0.0</td>\n      <td>-1.0</td>\n      <td>-1.0</td>\n      <td>NaN</td>\n      <td>NaN</td>\n      <td>NaN</td>\n      <td>NaN</td>\n      <td>0.0</td>\n      <td>0.0</td>\n      <td>0.0</td>\n    </tr>\n    <tr>\n      <th>2019-09-05</th>\n      <td>0.256346</td>\n      <td>-0.013694</td>\n      <td>0.258485</td>\n      <td>0.259584</td>\n      <td>0.0</td>\n      <td>-1.0</td>\n      <td>-1.0</td>\n      <td>0.011559</td>\n      <td>0.013172</td>\n      <td>1.0</td>\n      <td>0.0</td>\n      <td>1.0</td>\n      <td>NaN</td>\n      <td>NaN</td>\n      <td>NaN</td>\n      <td>NaN</td>\n      <td>0.0</td>\n      <td>0.0</td>\n      <td>0.0</td>\n    </tr>\n    <tr>\n      <th>...</th>\n      <td>...</td>\n      <td>...</td>\n      <td>...</td>\n      <td>...</td>\n      <td>...</td>\n      <td>...</td>\n      <td>...</td>\n      <td>...</td>\n      <td>...</td>\n      <td>...</td>\n      <td>...</td>\n      <td>...</td>\n      <td>...</td>\n      <td>...</td>\n      <td>...</td>\n      <td>...</td>\n      <td>...</td>\n      <td>...</td>\n      <td>...</td>\n    </tr>\n    <tr>\n      <th>2021-08-07</th>\n      <td>0.816281</td>\n      <td>0.093459</td>\n      <td>0.777345</td>\n      <td>0.695521</td>\n      <td>1.0</td>\n      <td>0.0</td>\n      <td>1.0</td>\n      <td>0.052160</td>\n      <td>0.046380</td>\n      <td>0.0</td>\n      <td>-1.0</td>\n      <td>-1.0</td>\n      <td>0.676120</td>\n      <td>0.082178</td>\n      <td>0.758298</td>\n      <td>0.593942</td>\n      <td>0.0</td>\n      <td>-1.0</td>\n      <td>-1.0</td>\n    </tr>\n    <tr>\n      <th>2021-08-08</th>\n      <td>0.778739</td>\n      <td>-0.045992</td>\n      <td>0.778042</td>\n      <td>0.701093</td>\n      <td>1.0</td>\n      <td>0.0</td>\n      <td>1.0</td>\n      <td>0.070607</td>\n      <td>0.047261</td>\n      <td>0.0</td>\n      <td>-1.0</td>\n      <td>-1.0</td>\n      <td>0.687179</td>\n      <td>0.080243</td>\n      <td>0.767422</td>\n      <td>0.606936</td>\n      <td>0.0</td>\n      <td>-1.0</td>\n      <td>-1.0</td>\n    </tr>\n    <tr>\n      <th>2021-08-09</th>\n      <td>0.818553</td>\n      <td>0.051126</td>\n      <td>0.798297</td>\n      <td>0.708959</td>\n      <td>1.0</td>\n      <td>0.0</td>\n      <td>1.0</td>\n      <td>0.057924</td>\n      <td>0.046880</td>\n      <td>0.0</td>\n      <td>-1.0</td>\n      <td>-1.0</td>\n      <td>0.701640</td>\n      <td>0.076262</td>\n      <td>0.777902</td>\n      <td>0.625378</td>\n      <td>0.0</td>\n      <td>-1.0</td>\n      <td>-1.0</td>\n    </tr>\n    <tr>\n      <th>2021-08-10</th>\n      <td>0.851247</td>\n      <td>0.039941</td>\n      <td>0.824772</td>\n      <td>0.718488</td>\n      <td>1.0</td>\n      <td>0.0</td>\n      <td>1.0</td>\n      <td>0.041701</td>\n      <td>0.045837</td>\n      <td>1.0</td>\n      <td>0.0</td>\n      <td>1.0</td>\n      <td>0.715702</td>\n      <td>0.076640</td>\n      <td>0.792342</td>\n      <td>0.639063</td>\n      <td>0.0</td>\n      <td>-1.0</td>\n      <td>-1.0</td>\n    </tr>\n    <tr>\n      <th>2021-08-11</th>\n      <td>1.012524</td>\n      <td>0.189460</td>\n      <td>0.918648</td>\n      <td>0.738179</td>\n      <td>1.0</td>\n      <td>0.0</td>\n      <td>1.0</td>\n      <td>0.099928</td>\n      <td>0.062893</td>\n      <td>0.0</td>\n      <td>-1.0</td>\n      <td>-1.0</td>\n      <td>0.736718</td>\n      <td>0.096141</td>\n      <td>0.832859</td>\n      <td>0.640578</td>\n      <td>0.0</td>\n      <td>-1.0</td>\n      <td>-1.0</td>\n    </tr>\n  </tbody>\n</table>\n<p>707 rows × 19 columns</p>\n</div>"
     },
     "metadata": {}
    }
   ],
   "execution_count": null
  },
  {
   "cell_type": "code",
   "metadata": {
    "tags": [],
    "deepnote_to_be_reexecuted": false,
    "source_hash": "69550813",
    "execution_start": 1629319384978,
    "execution_millis": 453,
    "cell_id": "00008-08244e44-a838-4bb9-95bc-a8547648b1dc",
    "deepnote_cell_type": "code"
   },
   "source": "# Plot the Bollinger Bands for BTC/USD closing prices\nxrp[['Close','bollinger_mid_band','bollinger_upper_band','bollinger_lower_band']].plot(figsize=(20,10))",
   "outputs": [
    {
     "output_type": "execute_result",
     "execution_count": 9,
     "data": {
      "text/plain": "<AxesSubplot:xlabel='Date'>"
     },
     "metadata": {}
    },
    {
     "data": {
      "text/plain": "<Figure size 1440x720 with 1 Axes>",
      "image/png": "[encoded data removed]"
     },
     "metadata": {
      "image/png": {
       "width": 1301,
       "height": 570
      }
     },
     "output_type": "display_data"
    }
   ],
   "execution_count": null
  },
  {
   "cell_type": "code",
   "metadata": {
    "tags": [],
    "deepnote_to_be_reexecuted": false,
    "source_hash": "244769ad",
    "execution_start": 1629319385472,
    "execution_millis": 2,
    "cell_id": "00009-3b876ff5-bbcc-4296-b484-70c0e437a2db",
    "deepnote_cell_type": "code"
   },
   "source": "def implement_bb_strategy(data, lower_bb, upper_bb):\n    buy_price = []\n    sell_price = []\n    bb_signal = []\n    signal = 0\n    \n    for i in range(len(data)):\n        if data[i-1] > lower_bb[i-1] and data[i] < lower_bb[i]:\n            if signal != 1:\n                buy_price.append(data[i])\n                sell_price.append(np.nan)\n                signal = 1\n                bb_signal.append(signal)\n            else:\n                buy_price.append(np.nan)\n                sell_price.append(np.nan)\n                bb_signal.append(0)\n        elif data[i-1] < upper_bb[i-1] and data[i] > upper_bb[i]:\n            if signal != -1:\n                buy_price.append(np.nan)\n                sell_price.append(data[i])\n                signal = -1\n                bb_signal.append(signal)\n            else:\n                buy_price.append(np.nan)\n                sell_price.append(np.nan)\n                bb_signal.append(0)\n        else:\n            buy_price.append(np.nan)\n            sell_price.append(np.nan)\n            bb_signal.append(0)\n            \n    return buy_price, sell_price, bb_signal\n\nbuy_price, sell_price, bb_signal = implement_bb_strategy(xrp['Close'], xrp['bollinger_lower_band'], xrp['bollinger_upper_band'])",
   "outputs": [],
   "execution_count": null
  },
  {
   "cell_type": "code",
   "metadata": {
    "tags": [],
    "deepnote_to_be_reexecuted": false,
    "source_hash": "ff143fe",
    "execution_start": 1629319385480,
    "execution_millis": 1,
    "cell_id": "00010-62715721-0a9b-48e0-9885-fd0dfa1fe084",
    "deepnote_cell_type": "code"
   },
   "source": "import math",
   "outputs": [],
   "execution_count": null
  },
  {
   "cell_type": "code",
   "metadata": {
    "tags": [],
    "deepnote_to_be_reexecuted": false,
    "source_hash": "62389937",
    "execution_start": 1629319385487,
    "execution_millis": 629,
    "cell_id": "00011-5a954ad7-6e89-49cb-aed6-1dd1989173a3",
    "deepnote_cell_type": "code"
   },
   "source": "# PLOT TRADE SIGNALS\nxrp['Close'].plot(label = 'CLOSE PRICES', alpha = 0.3)\nxrp['bollinger_upper_band'].plot(label = 'UPPER BB', linestyle = '--', linewidth = 1, color = 'black')\nxrp['bollinger_mid_band'].plot(label = 'MIDDLE BB', linestyle = '--', linewidth = 1.2, color = 'grey')\nxrp['bollinger_lower_band'].plot(label = 'LOWER BB', linestyle = '--', linewidth = 1, color = 'black')\nplt.scatter(xrp.index, buy_price, marker = '^', color = 'green', label = 'BUY', s = 200)\nplt.scatter(xrp.index, sell_price, marker = 'v', color = 'red', label = 'SELL', s = 200)\nplt.title('XRP BB STRATEGY TRADING SIGNALS')\nplt.legend(loc = 'upper left')\nplt.show()",
   "outputs": [
    {
     "data": {
      "text/plain": "<Figure size 1440x720 with 1 Axes>",
      "image/png": "[encoded data removed]"
     },
     "metadata": {
      "image/png": {
       "width": 1301,
       "height": 591
      }
     },
     "output_type": "display_data"
    }
   ],
   "execution_count": null
  },
  {
   "cell_type": "code",
   "metadata": {
    "tags": [],
    "deepnote_to_be_reexecuted": false,
    "source_hash": "642f2475",
    "execution_start": 1629319386130,
    "execution_millis": 79,
    "cell_id": "00012-0b710987-d4bd-409a-a04e-fcc5e2b62e97",
    "deepnote_cell_type": "code"
   },
   "source": "position = []\nbb_signal = xrp['bollinger_signal']\nfor i in range(len(bb_signal)):\n    if bb_signal[i] > 1:\n        position.append(0)\n    else:\n        position.append(1)\n        \nfor i in range(len(xrp['Close'])):\n    if bb_signal[i] == 1:\n        position[i] = 1\n    elif bb_signal[i] == -1:\n        position[i] = 0\n    else:\n        position[i] = position[i-1]\n        \nupper_bb = xrp['bollinger_upper_band']\nlower_bb = xrp['bollinger_lower_band']\nclose_price = xrp['Close']\nbb_signal = pd.DataFrame(bb_signal).rename(columns = {0:'bb_signal'}).set_index(xrp.index)\nposition = pd.DataFrame(position).rename(columns = {0:'bb_position'}).set_index(xrp.index)\n\nframes = [close_price, upper_bb, lower_bb, bb_signal, position]\nstrategy = pd.concat(frames, join = 'inner', axis = 1)\n# strategy = strategy.reset_index().drop('Date', axis = 1)\n\nstrategy",
   "outputs": [
    {
     "output_type": "execute_result",
     "execution_count": 13,
     "data": {
      "application/vnd.deepnote.dataframe.v2+json": {
       "row_count": 707,
       "column_count": 5,
       "columns": [
        {
         "name": "Close",
         "dtype": "float64",
         "stats": {
          "unique_count": 706,
          "nan_count": 0,
          "min": "0.13963499665260315",
          "max": "1.8392360210418701",
          "histogram": [
           {
            "bin_start": 0.13963499665260315,
            "bin_end": 0.3095950990915298,
            "count": 468
           },
           {
            "bin_start": 0.3095950990915298,
            "bin_end": 0.47955520153045655,
            "count": 50
           },
           {
            "bin_start": 0.47955520153045655,
            "bin_end": 0.6495153039693833,
            "count": 85
           },
           {
            "bin_start": 0.6495153039693833,
            "bin_end": 0.81947540640831,
            "count": 29
           },
           {
            "bin_start": 0.81947540640831,
            "bin_end": 0.9894355088472366,
            "count": 23
           },
           {
            "bin_start": 0.9894355088472366,
            "bin_end": 1.1593956112861634,
            "count": 14
           },
           {
            "bin_start": 1.1593956112861634,
            "bin_end": 1.32935571372509,
            "count": 6
           },
           {
            "bin_start": 1.32935571372509,
            "bin_end": 1.4993158161640168,
            "count": 17
           },
           {
            "bin_start": 1.4993158161640168,
            "bin_end": 1.6692759186029436,
            "count": 12
           },
           {
            "bin_start": 1.6692759186029436,
            "bin_end": 1.8392360210418701,
            "count": 3
           }
          ]
         }
        },
        {
         "name": "bollinger_upper_band",
         "dtype": "float64",
         "stats": {
          "unique_count": 688,
          "nan_count": 19,
          "min": "0.1708971173006566",
          "max": "1.6655746970416383",
          "histogram": [
           {
            "bin_start": 0.1708971173006566,
            "bin_end": 0.32036487527475477,
            "count": 443
           },
           {
            "bin_start": 0.32036487527475477,
            "bin_end": 0.46983263324885294,
            "count": 21
           },
           {
            "bin_start": 0.46983263324885294,
            "bin_end": 0.6193003912229511,
            "count": 77
           },
           {
            "bin_start": 0.6193003912229511,
            "bin_end": 0.7687681491970493,
            "count": 55
           },
           {
            "bin_start": 0.7687681491970493,
            "bin_end": 0.9182359071711474,
            "count": 16
           },
           {
            "bin_start": 0.9182359071711474,
            "bin_end": 1.0677036651452456,
            "count": 20
           },
           {
            "bin_start": 1.0677036651452456,
            "bin_end": 1.2171714231193438,
            "count": 2
           },
           {
            "bin_start": 1.2171714231193438,
            "bin_end": 1.366639181093442,
            "count": 6
           },
           {
            "bin_start": 1.366639181093442,
            "bin_end": 1.5161069390675401,
            "count": 8
           },
           {
            "bin_start": 1.5161069390675401,
            "bin_end": 1.6655746970416383,
            "count": 40
           }
          ]
         }
        },
        {
         "name": "bollinger_lower_band",
         "dtype": "float64",
         "stats": {
          "unique_count": 688,
          "nan_count": 19,
          "min": "0.13966639920404186",
          "max": "1.3920170221368098",
          "histogram": [
           {
            "bin_start": 0.13966639920404186,
            "bin_end": 0.26490146149731864,
            "count": 418
           },
           {
            "bin_start": 0.26490146149731864,
            "bin_end": 0.3901365237905955,
            "count": 75
           },
           {
            "bin_start": 0.3901365237905955,
            "bin_end": 0.5153715860838722,
            "count": 64
           },
           {
            "bin_start": 0.5153715860838722,
            "bin_end": 0.6406066483771491,
            "count": 60
           },
           {
            "bin_start": 0.6406066483771491,
            "bin_end": 0.7658417106704258,
            "count": 8
           },
           {
            "bin_start": 0.7658417106704258,
            "bin_end": 0.8910767729637027,
            "count": 24
           },
           {
            "bin_start": 0.8910767729637027,
            "bin_end": 1.0163118352569795,
            "count": 6
           },
           {
            "bin_start": 1.0163118352569795,
            "bin_end": 1.1415468975502563,
            "count": 8
           },
           {
            "bin_start": 1.1415468975502563,
            "bin_end": 1.266781959843533,
            "count": 18
           },
           {
            "bin_start": 1.266781959843533,
            "bin_end": 1.3920170221368098,
            "count": 7
           }
          ]
         }
        },
        {
         "name": "bollinger_signal",
         "dtype": "float64",
         "stats": {
          "unique_count": 3,
          "nan_count": 0,
          "min": "-1.0",
          "max": "1.0",
          "histogram": [
           {
            "bin_start": -1,
            "bin_end": -0.8,
            "count": 183
           },
           {
            "bin_start": -0.8,
            "bin_end": -0.6,
            "count": 0
           },
           {
            "bin_start": -0.6,
            "bin_end": -0.3999999999999999,
            "count": 0
           },
           {
            "bin_start": -0.3999999999999999,
            "bin_end": -0.19999999999999996,
            "count": 0
           },
           {
            "bin_start": -0.19999999999999996,
            "bin_end": 0,
            "count": 0
           },
           {
            "bin_start": 0,
            "bin_end": 0.20000000000000018,
            "count": 349
           },
           {
            "bin_start": 0.20000000000000018,
            "bin_end": 0.40000000000000013,
            "count": 0
           },
           {
            "bin_start": 0.40000000000000013,
            "bin_end": 0.6000000000000001,
            "count": 0
           },
           {
            "bin_start": 0.6000000000000001,
            "bin_end": 0.8,
            "count": 0
           },
           {
            "bin_start": 0.8,
            "bin_end": 1,
            "count": 175
           }
          ]
         }
        },
        {
         "name": "bb_position",
         "dtype": "int64",
         "stats": {
          "unique_count": 2,
          "nan_count": 0,
          "min": "0",
          "max": "1",
          "histogram": [
           {
            "bin_start": 0,
            "bin_end": 0.1,
            "count": 329
           },
           {
            "bin_start": 0.1,
            "bin_end": 0.2,
            "count": 0
           },
           {
            "bin_start": 0.2,
            "bin_end": 0.30000000000000004,
            "count": 0
           },
           {
            "bin_start": 0.30000000000000004,
            "bin_end": 0.4,
            "count": 0
           },
           {
            "bin_start": 0.4,
            "bin_end": 0.5,
            "count": 0
           },
           {
            "bin_start": 0.5,
            "bin_end": 0.6000000000000001,
            "count": 0
           },
           {
            "bin_start": 0.6000000000000001,
            "bin_end": 0.7000000000000001,
            "count": 0
           },
           {
            "bin_start": 0.7000000000000001,
            "bin_end": 0.8,
            "count": 0
           },
           {
            "bin_start": 0.8,
            "bin_end": 0.9,
            "count": 0
           },
           {
            "bin_start": 0.9,
            "bin_end": 1,
            "count": 378
           }
          ]
         }
        },
        {
         "name": "_deepnote_index_column",
         "dtype": "datetime64[ns]"
        }
       ],
       "rows_top": [
        {
         "Close": 0.2580539882183075,
         "bollinger_upper_band": "nan",
         "bollinger_lower_band": "nan",
         "bollinger_signal": 0,
         "bb_position": 1,
         "_deepnote_index_column": "2019-09-01T00:00:00.000000"
        },
        {
         "Close": 0.2608200013637543,
         "bollinger_upper_band": "nan",
         "bollinger_lower_band": "nan",
         "bollinger_signal": 0,
         "bb_position": 1,
         "_deepnote_index_column": "2019-09-02T00:00:00.000000"
        },
        {
         "Close": 0.263139009475708,
         "bollinger_upper_band": "nan",
         "bollinger_lower_band": "nan",
         "bollinger_signal": 0,
         "bb_position": 1,
         "_deepnote_index_column": "2019-09-03T00:00:00.000000"
        },
        {
         "Close": 0.25990501046180725,
         "bollinger_upper_band": "nan",
         "bollinger_lower_band": "nan",
         "bollinger_signal": 0,
         "bb_position": 1,
         "_deepnote_index_column": "2019-09-04T00:00:00.000000"
        },
        {
         "Close": 0.2563459873199463,
         "bollinger_upper_band": "nan",
         "bollinger_lower_band": "nan",
         "bollinger_signal": 0,
         "bb_position": 1,
         "_deepnote_index_column": "2019-09-05T00:00:00.000000"
        },
        {
         "Close": 0.2523399889469147,
         "bollinger_upper_band": "nan",
         "bollinger_lower_band": "nan",
         "bollinger_signal": 0,
         "bb_position": 1,
         "_deepnote_index_column": "2019-09-06T00:00:00.000000"
        },
        {
         "Close": 0.260686993598938,
         "bollinger_upper_band": "nan",
         "bollinger_lower_band": "nan",
         "bollinger_signal": 0,
         "bb_position": 1,
         "_deepnote_index_column": "2019-09-07T00:00:00.000000"
        },
        {
         "Close": 0.2630839943885803,
         "bollinger_upper_band": "nan",
         "bollinger_lower_band": "nan",
         "bollinger_signal": 0,
         "bb_position": 1,
         "_deepnote_index_column": "2019-09-08T00:00:00.000000"
        },
        {
         "Close": 0.2595619857311249,
         "bollinger_upper_band": "nan",
         "bollinger_lower_band": "nan",
         "bollinger_signal": 0,
         "bb_position": 1,
         "_deepnote_index_column": "2019-09-09T00:00:00.000000"
        },
        {
         "Close": 0.25867098569869995,
         "bollinger_upper_band": "nan",
         "bollinger_lower_band": "nan",
         "bollinger_signal": 0,
         "bb_position": 1,
         "_deepnote_index_column": "2019-09-10T00:00:00.000000"
        },
        {
         "Close": 0.2559559941291809,
         "bollinger_upper_band": "nan",
         "bollinger_lower_band": "nan",
         "bollinger_signal": 0,
         "bb_position": 1,
         "_deepnote_index_column": "2019-09-11T00:00:00.000000"
        },
        {
         "Close": 0.25481098890304565,
         "bollinger_upper_band": "nan",
         "bollinger_lower_band": "nan",
         "bollinger_signal": 0,
         "bb_position": 1,
         "_deepnote_index_column": "2019-09-12T00:00:00.000000"
        },
        {
         "Close": 0.2555510103702545,
         "bollinger_upper_band": "nan",
         "bollinger_lower_band": "nan",
         "bollinger_signal": 0,
         "bb_position": 1,
         "_deepnote_index_column": "2019-09-13T00:00:00.000000"
        },
        {
         "Close": 0.2611669898033142,
         "bollinger_upper_band": "nan",
         "bollinger_lower_band": "nan",
         "bollinger_signal": 0,
         "bb_position": 1,
         "_deepnote_index_column": "2019-09-14T00:00:00.000000"
        },
        {
         "Close": 0.26162800192832947,
         "bollinger_upper_band": "nan",
         "bollinger_lower_band": "nan",
         "bollinger_signal": 0,
         "bb_position": 1,
         "_deepnote_index_column": "2019-09-15T00:00:00.000000"
        },
        {
         "Close": 0.2609519958496094,
         "bollinger_upper_band": "nan",
         "bollinger_lower_band": "nan",
         "bollinger_signal": 0,
         "bb_position": 1,
         "_deepnote_index_column": "2019-09-16T00:00:00.000000"
        },
        {
         "Close": 0.28501299023628235,
         "bollinger_upper_band": "nan",
         "bollinger_lower_band": "nan",
         "bollinger_signal": 0,
         "bb_position": 1,
         "_deepnote_index_column": "2019-09-17T00:00:00.000000"
        },
        {
         "Close": 0.3137759864330292,
         "bollinger_upper_band": "nan",
         "bollinger_lower_band": "nan",
         "bollinger_signal": 0,
         "bb_position": 1,
         "_deepnote_index_column": "2019-09-18T00:00:00.000000"
        },
        {
         "Close": 0.3024410009384155,
         "bollinger_upper_band": "nan",
         "bollinger_lower_band": "nan",
         "bollinger_signal": 0,
         "bb_position": 1,
         "_deepnote_index_column": "2019-09-19T00:00:00.000000"
        },
        {
         "Close": 0.29447001218795776,
         "bollinger_upper_band": 0.28426322761211875,
         "bollinger_lower_band": 0.24957406398620127,
         "bollinger_signal": -1,
         "bb_position": 0,
         "_deepnote_index_column": "2019-09-20T00:00:00.000000"
        },
        {
         "Close": 0.2894429862499237,
         "bollinger_upper_band": 0.2863992156602971,
         "bollinger_lower_band": 0.2505769757411846,
         "bollinger_signal": -1,
         "bb_position": 0,
         "_deepnote_index_column": "2019-09-21T00:00:00.000000"
        },
        {
         "Close": 0.27893099188804626,
         "bollinger_upper_band": 0.2873544360855188,
         "bollinger_lower_band": 0.251432854368392,
         "bollinger_signal": 0,
         "bb_position": 0,
         "_deepnote_index_column": "2019-09-22T00:00:00.000000"
        },
        {
         "Close": 0.2686749994754791,
         "bollinger_upper_band": 0.28757233198574184,
         "bollinger_lower_band": 0.2517685574681461,
         "bollinger_signal": 0,
         "bb_position": 0,
         "_deepnote_index_column": "2019-09-23T00:00:00.000000"
        },
        {
         "Close": 0.23522600531578064,
         "bollinger_upper_band": 0.28783491656542987,
         "bollinger_lower_band": 0.2490380723738554,
         "bollinger_signal": 1,
         "bb_position": 1,
         "_deepnote_index_column": "2019-09-24T00:00:00.000000"
        },
        {
         "Close": 0.24644100666046143,
         "bollinger_upper_band": 0.28778589539188165,
         "bollinger_lower_band": 0.24809659548145518,
         "bollinger_signal": 1,
         "bb_position": 1,
         "_deepnote_index_column": "2019-09-25T00:00:00.000000"
        },
        {
         "Close": 0.24378399550914764,
         "bollinger_upper_band": 0.28779943493266347,
         "bollinger_lower_band": 0.24722745659689657,
         "bollinger_signal": 1,
         "bb_position": 1,
         "_deepnote_index_column": "2019-09-26T00:00:00.000000"
        },
        {
         "Close": 0.2440209984779358,
         "bollinger_upper_band": 0.28759389448916384,
         "bollinger_lower_band": 0.245766397528296,
         "bollinger_signal": 1,
         "bb_position": 1,
         "_deepnote_index_column": "2019-09-27T00:00:00.000000"
        },
        {
         "Close": 0.24257099628448486,
         "bollinger_upper_band": 0.2872459079853289,
         "bollinger_lower_band": 0.2440630842217214,
         "bollinger_signal": 1,
         "bb_position": 1,
         "_deepnote_index_column": "2019-09-28T00:00:00.000000"
        },
        {
         "Close": 0.2413879930973053,
         "bollinger_upper_band": 0.28697998311626055,
         "bollinger_lower_band": 0.24251160982740777,
         "bollinger_signal": 1,
         "bb_position": 1,
         "_deepnote_index_column": "2019-09-29T00:00:00.000000"
        },
        {
         "Close": 0.2559329867362976,
         "bollinger_upper_band": 0.2868908334099408,
         "bollinger_lower_band": 0.2423269596374873,
         "bollinger_signal": 0,
         "bb_position": 1,
         "_deepnote_index_column": "2019-09-30T00:00:00.000000"
        },
        {
         "Close": 0.2495650053024292,
         "bollinger_upper_band": 0.2867470420746496,
         "bollinger_lower_band": 0.24183165209010338,
         "bollinger_signal": 0,
         "bb_position": 1,
         "_deepnote_index_column": "2019-10-01T00:00:00.000000"
        },
        {
         "Close": 0.25353899598121643,
         "bollinger_upper_band": 0.28671347871086444,
         "bollinger_lower_band": 0.24173801616170557,
         "bollinger_signal": 0,
         "bb_position": 1,
         "_deepnote_index_column": "2019-10-02T00:00:00.000000"
        },
        {
         "Close": 0.24785999953746796,
         "bollinger_upper_band": 0.2865497533140564,
         "bollinger_lower_band": 0.24113264047523497,
         "bollinger_signal": 0,
         "bb_position": 1,
         "_deepnote_index_column": "2019-10-03T00:00:00.000000"
        },
        {
         "Close": 0.2539350092411041,
         "bollinger_upper_band": 0.28629032739585386,
         "bollinger_lower_band": 0.2406688683372165,
         "bollinger_signal": 0,
         "bb_position": 1,
         "_deepnote_index_column": "2019-10-04T00:00:00.000000"
        },
        {
         "Close": 0.2534570097923279,
         "bollinger_upper_band": 0.28598960412966334,
         "bollinger_lower_band": 0.24015249238980685,
         "bollinger_signal": 0,
         "bb_position": 1,
         "_deepnote_index_column": "2019-10-05T00:00:00.000000"
        },
        {
         "Close": 0.2577050030231476,
         "bollinger_upper_band": 0.285854539624826,
         "bollinger_lower_band": 0.23996285761199812,
         "bollinger_signal": 0,
         "bb_position": 1,
         "_deepnote_index_column": "2019-10-06T00:00:00.000000"
        },
        {
         "Close": 0.27568501234054565,
         "bollinger_upper_band": 0.28500683255510806,
         "bollinger_lower_band": 0.23987776689214235,
         "bollinger_signal": 0,
         "bb_position": 1,
         "_deepnote_index_column": "2019-10-07T00:00:00.000000"
        },
        {
         "Close": 0.27845901250839233,
         "bollinger_upper_band": 0.2801876191667047,
         "bollinger_lower_band": 0.241165282888082,
         "bollinger_signal": 0,
         "bb_position": 1,
         "_deepnote_index_column": "2019-10-08T00:00:00.000000"
        },
        {
         "Close": 0.28162699937820435,
         "bollinger_upper_band": 0.27726648767896817,
         "bollinger_lower_band": 0.24200501421979742,
         "bollinger_signal": -1,
         "bb_position": 0,
         "_deepnote_index_column": "2019-10-09T00:00:00.000000"
        },
        {
         "Close": 0.27207300066947937,
         "bollinger_upper_band": 0.27444699012580004,
         "bollinger_lower_band": 0.2425848106211176,
         "bollinger_signal": 0,
         "bb_position": 0,
         "_deepnote_index_column": "2019-10-10T00:00:00.000000"
        },
        {
         "Close": 0.2710990011692047,
         "bollinger_upper_band": 0.27212131051348853,
         "bollinger_lower_band": 0.24307609172535727,
         "bollinger_signal": 0,
         "bb_position": 0,
         "_deepnote_index_column": "2019-10-11T00:00:00.000000"
        },
        {
         "Close": 0.27319100499153137,
         "bollinger_upper_band": 0.27144196684225647,
         "bollinger_lower_band": 0.24318143670693787,
         "bollinger_signal": -1,
         "bb_position": 0,
         "_deepnote_index_column": "2019-10-12T00:00:00.000000"
        },
        {
         "Close": 0.2777650058269501,
         "bollinger_upper_band": 0.2724177784902199,
         "bollinger_lower_band": 0.2431146256941215,
         "bollinger_signal": -1,
         "bb_position": 0,
         "_deepnote_index_column": "2019-10-13T00:00:00.000000"
        },
        {
         "Close": 0.29652300477027893,
         "bollinger_upper_band": 0.27686533819775017,
         "bollinger_lower_band": 0.24479676593204114,
         "bollinger_signal": -1,
         "bb_position": 0,
         "_deepnote_index_column": "2019-10-14T00:00:00.000000"
        },
        {
         "Close": 0.28870201110839844,
         "bollinger_upper_band": 0.2797483712161442,
         "bollinger_lower_band": 0.24613983335844075,
         "bollinger_signal": -1,
         "bb_position": 0,
         "_deepnote_index_column": "2019-10-15T00:00:00.000000"
        },
        {
         "Close": 0.28464001417160034,
         "bollinger_upper_band": 0.28182268563095314,
         "bollinger_lower_band": 0.2481511208098771,
         "bollinger_signal": -1,
         "bb_position": 0,
         "_deepnote_index_column": "2019-10-16T00:00:00.000000"
        },
        {
         "Close": 0.30231499671936035,
         "bollinger_upper_band": 0.28592108923587095,
         "bollinger_lower_band": 0.2498821170291017,
         "bollinger_signal": -1,
         "bb_position": 0,
         "_deepnote_index_column": "2019-10-17T00:00:00.000000"
        },
        {
         "Close": 0.2950049936771393,
         "bollinger_upper_band": 0.28847766567496075,
         "bollinger_lower_band": 0.2525689403292774,
         "bollinger_signal": -1,
         "bb_position": 0,
         "_deepnote_index_column": "2019-10-18T00:00:00.000000"
        },
        {
         "Close": 0.2930220067501068,
         "bollinger_upper_band": 0.2903476153131242,
         "bollinger_lower_band": 0.2558623920563941,
         "bollinger_signal": -1,
         "bb_position": 0,
         "_deepnote_index_column": "2019-10-19T00:00:00.000000"
        },
        {
         "Close": 0.2941789925098419,
         "bollinger_upper_band": 0.2923756668155424,
         "bollinger_lower_band": 0.25765894113133037,
         "bollinger_signal": -1,
         "bb_position": 0,
         "_deepnote_index_column": "2019-10-20T00:00:00.000000"
        },
        {
         "Close": 0.29297900199890137,
         "bollinger_upper_band": 0.29389839575847704,
         "bollinger_lower_band": 0.2604776118580429,
         "bollinger_signal": 0,
         "bb_position": 0,
         "_deepnote_index_column": "2019-10-21T00:00:00.000000"
        },
        {
         "Close": 0.29160699248313904,
         "bollinger_upper_band": 0.2951204559230136,
         "bollinger_lower_band": 0.2630623513436986,
         "bollinger_signal": 0,
         "bb_position": 0,
         "_deepnote_index_column": "2019-10-22T00:00:00.000000"
        },
        {
         "Close": 0.2741430103778839,
         "bollinger_upper_band": 0.2947256283994112,
         "bollinger_lower_band": 0.2660854799513426,
         "bollinger_signal": 0,
         "bb_position": 0,
         "_deepnote_index_column": "2019-10-23T00:00:00.000000"
        },
        {
         "Close": 0.27849099040031433,
         "bollinger_upper_band": 0.2945481590668963,
         "bollinger_lower_band": 0.26871854739977846,
         "bollinger_signal": 0,
         "bb_position": 0,
         "_deepnote_index_column": "2019-10-24T00:00:00.000000"
        },
        {
         "Close": 0.2981649935245514,
         "bollinger_upper_band": 0.2954502726255773,
         "bollinger_lower_band": 0.27228723221431983,
         "bollinger_signal": -1,
         "bb_position": 0,
         "_deepnote_index_column": "2019-10-25T00:00:00.000000"
        },
        {
         "Close": 0.2936989963054657,
         "bollinger_upper_band": 0.2956574305627998,
         "bollinger_lower_band": 0.2756794736053292,
         "bollinger_signal": 0,
         "bb_position": 0,
         "_deepnote_index_column": "2019-10-26T00:00:00.000000"
        },
        {
         "Close": 0.29809999465942383,
         "bollinger_upper_band": 0.296856257268918,
         "bollinger_lower_band": 0.2767221451310988,
         "bollinger_signal": -1,
         "bb_position": 0,
         "_deepnote_index_column": "2019-10-27T00:00:00.000000"
        },
        {
         "Close": 0.2960070073604584,
         "bollinger_upper_band": 0.2977341257013912,
         "bollinger_lower_band": 0.2775990761838322,
         "bollinger_signal": 0,
         "bb_position": 0,
         "_deepnote_index_column": "2019-10-28T00:00:00.000000"
        },
        {
         "Close": 0.3019559979438782,
         "bollinger_upper_band": 0.29912787510179406,
         "bollinger_lower_band": 0.27823822663999676,
         "bollinger_signal": -1,
         "bb_position": 0,
         "_deepnote_index_column": "2019-10-29T00:00:00.000000"
        },
        {
         "Close": 0.2965550124645233,
         "bollinger_upper_band": 0.2997182576208121,
         "bollinger_lower_band": 0.2800960453004831,
         "bollinger_signal": 0,
         "bb_position": 0,
         "_deepnote_index_column": "2019-10-30T00:00:00.000000"
        },
        {
         "Close": 0.29635798931121826,
         "bollinger_upper_band": 0.3000103921380309,
         "bollinger_lower_band": 0.2823298095974656,
         "bollinger_signal": 0,
         "bb_position": 0,
         "_deepnote_index_column": "2019-10-31T00:00:00.000000"
        },
        {
         "Close": 0.2926419973373413,
         "bollinger_upper_band": 0.2999051303541691,
         "bollinger_lower_band": 0.28438017061590837,
         "bollinger_signal": 0,
         "bb_position": 0,
         "_deepnote_index_column": "2019-11-01T00:00:00.000000"
        },
        {
         "Close": 0.2962630093097687,
         "bollinger_upper_band": 0.30009388332896053,
         "bollinger_lower_band": 0.2860412179893988,
         "bollinger_signal": 0,
         "bb_position": 0,
         "_deepnote_index_column": "2019-11-02T00:00:00.000000"
        },
        {
         "Close": 0.2912609875202179,
         "bollinger_upper_band": 0.2997929995706634,
         "bollinger_lower_band": 0.28581590002268986,
         "bollinger_signal": 0,
         "bb_position": 0,
         "_deepnote_index_column": "2019-11-03T00:00:00.000000"
        },
        {
         "Close": 0.29993700981140137,
         "bollinger_upper_band": 0.3004584077626836,
         "bollinger_lower_band": 0.2862739917009699,
         "bollinger_signal": 0,
         "bb_position": 0,
         "_deepnote_index_column": "2019-11-04T00:00:00.000000"
        },
        {
         "Close": 0.3012549877166748,
         "bollinger_upper_band": 0.30118555821906967,
         "bollinger_lower_band": 0.28720833859909134,
         "bollinger_signal": -1,
         "bb_position": 0,
         "_deepnote_index_column": "2019-11-05T00:00:00.000000"
        },
        {
         "Close": 0.3100860118865967,
         "bollinger_upper_band": 0.3022340727201668,
         "bollinger_lower_band": 0.28693692561471784,
         "bollinger_signal": -1,
         "bb_position": 0,
         "_deepnote_index_column": "2019-11-06T00:00:00.000000"
        },
        {
         "Close": 0.2924309968948364,
         "bollinger_upper_band": 0.3021195853472512,
         "bollinger_lower_band": 0.2867940133094032,
         "bollinger_signal": 0,
         "bb_position": 0,
         "_deepnote_index_column": "2019-11-07T00:00:00.000000"
        },
        {
         "Close": 0.2769530117511749,
         "bollinger_upper_band": 0.3022589194443829,
         "bollinger_lower_band": 0.28504777971237827,
         "bollinger_signal": 1,
         "bb_position": 1,
         "_deepnote_index_column": "2019-11-08T00:00:00.000000"
        },
        {
         "Close": 0.28019601106643677,
         "bollinger_upper_band": 0.30206783486268163,
         "bollinger_lower_band": 0.28384056614973907,
         "bollinger_signal": 1,
         "bb_position": 1,
         "_deepnote_index_column": "2019-11-09T00:00:00.000000"
        },
        {
         "Close": 0.28020399808883667,
         "bollinger_upper_band": 0.30186453487088316,
         "bollinger_lower_band": 0.28276636575053105,
         "bollinger_signal": 1,
         "bb_position": 1,
         "_deepnote_index_column": "2019-11-10T00:00:00.000000"
        },
        {
         "Close": 0.275085985660553,
         "bollinger_upper_band": 0.30178814966151496,
         "bollinger_lower_band": 0.2811906502776406,
         "bollinger_signal": 1,
         "bb_position": 1,
         "_deepnote_index_column": "2019-11-11T00:00:00.000000"
        },
        {
         "Close": 0.27241799235343933,
         "bollinger_upper_band": 0.30186081619112193,
         "bollinger_lower_band": 0.2809454819455892,
         "bollinger_signal": 1,
         "bb_position": 1,
         "_deepnote_index_column": "2019-11-12T00:00:00.000000"
        },
        {
         "Close": 0.27303600311279297,
         "bollinger_upper_band": 0.3020053675711555,
         "bollinger_lower_band": 0.28025543183680346,
         "bollinger_signal": 1,
         "bb_position": 1,
         "_deepnote_index_column": "2019-11-13T00:00:00.000000"
        },
        {
         "Close": 0.27039098739624023,
         "bollinger_upper_band": 0.301415109439101,
         "bollinger_lower_band": 0.2780682893560269,
         "bollinger_signal": 1,
         "bb_position": 1,
         "_deepnote_index_column": "2019-11-14T00:00:00.000000"
        },
        {
         "Close": 0.26165398955345154,
         "bollinger_upper_band": 0.30134035943634946,
         "bollinger_lower_band": 0.27493853868357704,
         "bollinger_signal": 1,
         "bb_position": 1,
         "_deepnote_index_column": "2019-11-15T00:00:00.000000"
        },
        {
         "Close": 0.2638860046863556,
         "bollinger_upper_band": 0.30046161305795327,
         "bollinger_lower_band": 0.27239588606466636,
         "bollinger_signal": 1,
         "bb_position": 1,
         "_deepnote_index_column": "2019-11-16T00:00:00.000000"
        },
        {
         "Close": 0.2652530074119568,
         "bollinger_upper_band": 0.2994925680643343,
         "bollinger_lower_band": 0.2702895310634352,
         "bollinger_signal": 1,
         "bb_position": 1,
         "_deepnote_index_column": "2019-11-17T00:00:00.000000"
        },
        {
         "Close": 0.2556529939174652,
         "bollinger_upper_band": 0.2979781130338419,
         "bollinger_lower_band": 0.2671736856912863,
         "bollinger_signal": 1,
         "bb_position": 1,
         "_deepnote_index_column": "2019-11-18T00:00:00.000000"
        },
        {
         "Close": 0.2565000057220459,
         "bollinger_upper_band": 0.2966513329719127,
         "bollinger_lower_band": 0.26449496507896775,
         "bollinger_signal": 1,
         "bb_position": 1,
         "_deepnote_index_column": "2019-11-19T00:00:00.000000"
        },
        {
         "Close": 0.25136399269104004,
         "bollinger_upper_band": 0.2952045233459035,
         "bollinger_lower_band": 0.2614423750429591,
         "bollinger_signal": 1,
         "bb_position": 1,
         "_deepnote_index_column": "2019-11-20T00:00:00.000000"
        },
        {
         "Close": 0.24376599490642548,
         "bollinger_upper_band": 0.2940661048065642,
         "bollinger_lower_band": 0.25769319333920687,
         "bollinger_signal": 1,
         "bb_position": 1,
         "_deepnote_index_column": "2019-11-21T00:00:00.000000"
        },
        {
         "Close": 0.23160000145435333,
         "bollinger_upper_band": 0.29267323982964755,
         "bollinger_lower_band": 0.25261975753058197,
         "bollinger_signal": 1,
         "bb_position": 1,
         "_deepnote_index_column": "2019-11-22T00:00:00.000000"
        },
        {
         "Close": 0.23618799448013306,
         "bollinger_upper_band": 0.29098339126607947,
         "bollinger_lower_band": 0.24880230679014156,
         "bollinger_signal": 1,
         "bb_position": 1,
         "_deepnote_index_column": "2019-11-23T00:00:00.000000"
        },
        {
         "Close": 0.2231840044260025,
         "bollinger_upper_band": 0.2883403387700283,
         "bollinger_lower_band": 0.24377005874765278,
         "bollinger_signal": 1,
         "bb_position": 1,
         "_deepnote_index_column": "2019-11-24T00:00:00.000000"
        },
        {
         "Close": 0.21862199902534485,
         "bollinger_upper_band": 0.284985701725677,
         "bollinger_lower_band": 0.23886139692287117,
         "bollinger_signal": 1,
         "bb_position": 1,
         "_deepnote_index_column": "2019-11-25T00:00:00.000000"
        },
        {
         "Close": 0.22214500606060028,
         "bollinger_upper_band": 0.27926831331009283,
         "bollinger_lower_band": 0.23578468475585568,
         "bollinger_signal": 1,
         "bb_position": 1,
         "_deepnote_index_column": "2019-11-26T00:00:00.000000"
        },
        {
         "Close": 0.22508099675178528,
         "bollinger_upper_band": 0.2754205392909652,
         "bollinger_lower_band": 0.23289745876067813,
         "bollinger_signal": 1,
         "bb_position": 1,
         "_deepnote_index_column": "2019-11-27T00:00:00.000000"
        },
        {
         "Close": 0.22457000613212585,
         "bollinger_upper_band": 0.27307042836272466,
         "bollinger_lower_band": 0.2300092691270138,
         "bollinger_signal": 1,
         "bb_position": 1,
         "_deepnote_index_column": "2019-11-28T00:00:00.000000"
        },
        {
         "Close": 0.23021699488162994,
         "bollinger_upper_band": 0.2699622351549776,
         "bollinger_lower_band": 0.2281195607162802,
         "bollinger_signal": 0,
         "bb_position": 1,
         "_deepnote_index_column": "2019-11-29T00:00:00.000000"
        },
        {
         "Close": 0.22647400200366974,
         "bollinger_upper_band": 0.26649877834122954,
         "bollinger_lower_band": 0.22621001792151157,
         "bollinger_signal": 0,
         "bb_position": 1,
         "_deepnote_index_column": "2019-11-30T00:00:00.000000"
        },
        {
         "Close": 0.22533300518989563,
         "bollinger_upper_band": 0.26333703944805514,
         "bollinger_lower_band": 0.2243964587676202,
         "bollinger_signal": 0,
         "bb_position": 1,
         "_deepnote_index_column": "2019-12-01T00:00:00.000000"
        },
        {
         "Close": 0.2195809930562973,
         "bollinger_upper_band": 0.26019549820144616,
         "bollinger_lower_band": 0.22225430008451497,
         "bollinger_signal": 1,
         "bb_position": 1,
         "_deepnote_index_column": "2019-12-02T00:00:00.000000"
        },
        {
         "Close": 0.21987000107765198,
         "bollinger_upper_band": 0.2565439870182971,
         "bollinger_lower_band": 0.22058921106414991,
         "bollinger_signal": 1,
         "bb_position": 1,
         "_deepnote_index_column": "2019-12-03T00:00:00.000000"
        },
        {
         "Close": 0.21634800732135773,
         "bollinger_upper_band": 0.2528402610485077,
         "bollinger_lower_band": 0.21888863902645112,
         "bollinger_signal": 1,
         "bb_position": 1,
         "_deepnote_index_column": "2019-12-04T00:00:00.000000"
        },
        {
         "Close": 0.2229280024766922,
         "bollinger_upper_band": 0.24999159603317975,
         "bollinger_lower_band": 0.2178647053341031,
         "bollinger_signal": 0,
         "bb_position": 1,
         "_deepnote_index_column": "2019-12-05T00:00:00.000000"
        },
        {
         "Close": 0.22550499439239502,
         "bollinger_upper_band": 0.24652310919353765,
         "bollinger_lower_band": 0.21749509114434917,
         "bollinger_signal": 0,
         "bb_position": 1,
         "_deepnote_index_column": "2019-12-06T00:00:00.000000"
        },
        {
         "Close": 0.22844499349594116,
         "bollinger_upper_band": 0.24239954205402126,
         "bollinger_lower_band": 0.21793785689226397,
         "bollinger_signal": 0,
         "bb_position": 1,
         "_deepnote_index_column": "2019-12-07T00:00:00.000000"
        },
        {
         "Close": 0.23043499886989594,
         "bollinger_upper_band": 0.2395727965324183,
         "bollinger_lower_band": 0.21824280290911002,
         "bollinger_signal": 0,
         "bb_position": 1,
         "_deepnote_index_column": "2019-12-08T00:00:00.000000"
        },
        {
         "Close": 0.2254520058631897,
         "bollinger_upper_band": 0.23582675936288885,
         "bollinger_lower_band": 0.21888404009275383,
         "bollinger_signal": 0,
         "bb_position": 1,
         "_deepnote_index_column": "2019-12-09T00:00:00.000000"
        }
       ],
       "rows_bottom": [
        {
         "Close": 1.3923759460449219,
         "bollinger_upper_band": 1.5941919394508672,
         "bollinger_lower_band": 1.203400545500152,
         "bollinger_signal": 0,
         "bb_position": 1,
         "_deepnote_index_column": "2021-05-04T00:00:00.000000"
        },
        {
         "Close": 1.6145119667053223,
         "bollinger_upper_band": 1.5741632734927422,
         "bollinger_lower_band": 1.208273705324244,
         "bollinger_signal": -1,
         "bb_position": 0,
         "_deepnote_index_column": "2021-05-05T00:00:00.000000"
        },
        {
         "Close": 1.6005810499191284,
         "bollinger_upper_band": 1.5786147870952978,
         "bollinger_lower_band": 1.2081276021068201,
         "bollinger_signal": -1,
         "bb_position": 0,
         "_deepnote_index_column": "2021-05-06T00:00:00.000000"
        },
        {
         "Close": 1.5817550420761108,
         "bollinger_upper_band": 1.5807878208659087,
         "bollinger_lower_band": 1.208124570796689,
         "bollinger_signal": -1,
         "bb_position": 0,
         "_deepnote_index_column": "2021-05-07T00:00:00.000000"
        },
        {
         "Close": 1.5625979900360107,
         "bollinger_upper_band": 1.592380671879284,
         "bollinger_lower_band": 1.2121917196307257,
         "bollinger_signal": 0,
         "bb_position": 0,
         "_deepnote_index_column": "2021-05-08T00:00:00.000000"
        },
        {
         "Close": 1.5352929830551147,
         "bollinger_upper_band": 1.6044497842895256,
         "bollinger_lower_band": 1.2221475009811655,
         "bollinger_signal": 0,
         "bb_position": 0,
         "_deepnote_index_column": "2021-05-09T00:00:00.000000"
        },
        {
         "Close": 1.3890060186386108,
         "bollinger_upper_band": 1.6046922498490048,
         "bollinger_lower_band": 1.2224757379744815,
         "bollinger_signal": 0,
         "bb_position": 0,
         "_deepnote_index_column": "2021-05-10T00:00:00.000000"
        },
        {
         "Close": 1.4776819944381714,
         "bollinger_upper_band": 1.6121971010239158,
         "bollinger_lower_band": 1.2330892921416725,
         "bollinger_signal": 0,
         "bb_position": 0,
         "_deepnote_index_column": "2021-05-11T00:00:00.000000"
        },
        {
         "Close": 1.247864007949829,
         "bollinger_upper_band": 1.6111136923711817,
         "bollinger_lower_band": 1.242990898044773,
         "bollinger_signal": 0,
         "bb_position": 0,
         "_deepnote_index_column": "2021-05-12T00:00:00.000000"
        },
        {
         "Close": 1.3589099645614624,
         "bollinger_upper_band": 1.6112770622048131,
         "bollinger_lower_band": 1.261752527448202,
         "bollinger_signal": 0,
         "bb_position": 0,
         "_deepnote_index_column": "2021-05-13T00:00:00.000000"
        },
        {
         "Close": 1.4029170274734497,
         "bollinger_upper_band": 1.6037430016846552,
         "bollinger_lower_band": 1.3047076852469548,
         "bollinger_signal": 0,
         "bb_position": 0,
         "_deepnote_index_column": "2021-05-14T00:00:00.000000"
        },
        {
         "Close": 1.4858800172805786,
         "bollinger_upper_band": 1.5886888118324438,
         "bollinger_lower_band": 1.3651242761077724,
         "bollinger_signal": 0,
         "bb_position": 0,
         "_deepnote_index_column": "2021-05-15T00:00:00.000000"
        },
        {
         "Close": 1.452605962753296,
         "bollinger_upper_band": 1.5901495441919806,
         "bollinger_lower_band": 1.372073544549322,
         "bollinger_signal": 0,
         "bb_position": 0,
         "_deepnote_index_column": "2021-05-16T00:00:00.000000"
        },
        {
         "Close": 1.4962999820709229,
         "bollinger_upper_band": 1.5933001252180836,
         "bollinger_lower_band": 1.3784574655526378,
         "bollinger_signal": 0,
         "bb_position": 0,
         "_deepnote_index_column": "2021-05-17T00:00:00.000000"
        },
        {
         "Close": 1.5907340049743652,
         "bollinger_upper_band": 1.6029538717230536,
         "bollinger_lower_band": 1.3920170221368098,
         "bollinger_signal": 0,
         "bb_position": 0,
         "_deepnote_index_column": "2021-05-18T00:00:00.000000"
        },
        {
         "Close": 1.0703129768371582,
         "bollinger_upper_band": 1.622227681320227,
         "bollinger_lower_band": 1.3398385160750976,
         "bollinger_signal": 1,
         "bb_position": 1,
         "_deepnote_index_column": "2021-05-19T00:00:00.000000"
        },
        {
         "Close": 1.1855369806289673,
         "bollinger_upper_band": 1.6138707430281998,
         "bollinger_lower_band": 1.3075817554077744,
         "bollinger_signal": 1,
         "bb_position": 1,
         "_deepnote_index_column": "2021-05-20T00:00:00.000000"
        },
        {
         "Close": 1.0069760084152222,
         "bollinger_upper_band": 1.6054191226270393,
         "bollinger_lower_band": 1.2516284709665582,
         "bollinger_signal": 1,
         "bb_position": 1,
         "_deepnote_index_column": "2021-05-21T00:00:00.000000"
        },
        {
         "Close": 0.9063169956207275,
         "bollinger_upper_band": 1.6044282120090028,
         "bollinger_lower_band": 1.1869869786877136,
         "bollinger_signal": 1,
         "bb_position": 1,
         "_deepnote_index_column": "2021-05-22T00:00:00.000000"
        },
        {
         "Close": 0.7970150113105774,
         "bollinger_upper_band": 1.6018099125902379,
         "bollinger_lower_band": 1.113707280488757,
         "bollinger_signal": 1,
         "bb_position": 1,
         "_deepnote_index_column": "2021-05-23T00:00:00.000000"
        },
        {
         "Close": 0.9928349852561951,
         "bollinger_upper_band": 1.5948550670316217,
         "bollinger_lower_band": 1.0807080299685003,
         "bollinger_signal": 1,
         "bb_position": 1,
         "_deepnote_index_column": "2021-05-24T00:00:00.000000"
        },
        {
         "Close": 0.976186990737915,
         "bollinger_upper_band": 1.566375633446589,
         "bollinger_lower_band": 1.0453549659567922,
         "bollinger_signal": 1,
         "bb_position": 1,
         "_deepnote_index_column": "2021-05-25T00:00:00.000000"
        },
        {
         "Close": 1.0337250232696533,
         "bollinger_upper_band": 1.5351006637821674,
         "bollinger_lower_band": 1.0199443329562663,
         "bollinger_signal": 0,
         "bb_position": 1,
         "_deepnote_index_column": "2021-05-26T00:00:00.000000"
        },
        {
         "Close": 0.9702349901199341,
         "bollinger_upper_band": 1.502799460127993,
         "bollinger_lower_band": 0.991093531414823,
         "bollinger_signal": 1,
         "bb_position": 1,
         "_deepnote_index_column": "2021-05-27T00:00:00.000000"
        },
        {
         "Close": 0.9001479744911194,
         "bollinger_upper_band": 1.4695423222922952,
         "bollinger_lower_band": 0.958105667696032,
         "bollinger_signal": 1,
         "bb_position": 1,
         "_deepnote_index_column": "2021-05-28T00:00:00.000000"
        },
        {
         "Close": 0.8317880034446716,
         "bollinger_upper_band": 1.4361988046271252,
         "bollinger_lower_band": 0.9210986874001577,
         "bollinger_signal": 1,
         "bb_position": 1,
         "_deepnote_index_column": "2021-05-29T00:00:00.000000"
        },
        {
         "Close": 0.9066089987754822,
         "bollinger_upper_band": 1.41392381024445,
         "bollinger_lower_band": 0.8951339797965197,
         "bollinger_signal": 0,
         "bb_position": 1,
         "_deepnote_index_column": "2021-05-30T00:00:00.000000"
        },
        {
         "Close": 1.0465840101242065,
         "bollinger_upper_band": 1.3817986664534552,
         "bollinger_lower_band": 0.8841493251561182,
         "bollinger_signal": 0,
         "bb_position": 1,
         "_deepnote_index_column": "2021-05-31T00:00:00.000000"
        },
        {
         "Close": 1.0110009908676147,
         "bollinger_upper_band": 1.3698362416229763,
         "bollinger_lower_band": 0.8724254482783758,
         "bollinger_signal": 0,
         "bb_position": 1,
         "_deepnote_index_column": "2021-06-01T00:00:00.000000"
        },
        {
         "Close": 1.024399995803833,
         "bollinger_upper_band": 1.3474622181161375,
         "bollinger_lower_band": 0.8613484749094515,
         "bollinger_signal": 0,
         "bb_position": 1,
         "_deepnote_index_column": "2021-06-02T00:00:00.000000"
        },
        {
         "Close": 1.045320987701416,
         "bollinger_upper_band": 1.3194072860563137,
         "bollinger_lower_band": 0.8536438029920719,
         "bollinger_signal": 0,
         "bb_position": 1,
         "_deepnote_index_column": "2021-06-03T00:00:00.000000"
        },
        {
         "Close": 0.970196008682251,
         "bollinger_upper_band": 1.2748731617605407,
         "bollinger_lower_band": 0.8466095264280121,
         "bollinger_signal": 0,
         "bb_position": 1,
         "_deepnote_index_column": "2021-06-04T00:00:00.000000"
        },
        {
         "Close": 0.9232860207557678,
         "bollinger_upper_band": 1.229281875618121,
         "bollinger_lower_band": 0.839268818370679,
         "bollinger_signal": 0,
         "bb_position": 1,
         "_deepnote_index_column": "2021-06-05T00:00:00.000000"
        },
        {
         "Close": 0.945285975933075,
         "bollinger_upper_band": 1.1692369783504342,
         "bollinger_lower_band": 0.8442123150245813,
         "bollinger_signal": 0,
         "bb_position": 1,
         "_deepnote_index_column": "2021-06-06T00:00:00.000000"
        },
        {
         "Close": 0.8611549735069275,
         "bollinger_upper_band": 1.0606553539871972,
         "bollinger_lower_band": 0.8798360362410742,
         "bollinger_signal": 1,
         "bb_position": 1,
         "_deepnote_index_column": "2021-06-07T00:00:00.000000"
        },
        {
         "Close": 0.8757879734039307,
         "bollinger_upper_band": 1.050056565561019,
         "bollinger_lower_band": 0.8709823243239297,
         "bollinger_signal": 0,
         "bb_position": 1,
         "_deepnote_index_column": "2021-06-08T00:00:00.000000"
        },
        {
         "Close": 0.9200339913368225,
         "bollinger_upper_band": 1.019720285014009,
         "bollinger_lower_band": 0.8747683059417253,
         "bollinger_signal": 0,
         "bb_position": 1,
         "_deepnote_index_column": "2021-06-09T00:00:00.000000"
        },
        {
         "Close": 0.8691819906234741,
         "bollinger_upper_band": 1.013400758242508,
         "bollinger_lower_band": 0.8673084309340514,
         "bollinger_signal": 0,
         "bb_position": 1,
         "_deepnote_index_column": "2021-06-10T00:00:00.000000"
        },
        {
         "Close": 0.8484500050544739,
         "bollinger_upper_band": 1.0130291178183959,
         "bollinger_lower_band": 0.8618933723015384,
         "bollinger_signal": 1,
         "bb_position": 1,
         "_deepnote_index_column": "2021-06-11T00:00:00.000000"
        },
        {
         "Close": 0.8326830267906189,
         "bollinger_upper_band": 1.0116794748199525,
         "bollinger_lower_band": 0.8668098168479859,
         "bollinger_signal": 1,
         "bb_position": 1,
         "_deepnote_index_column": "2021-06-12T00:00:00.000000"
        },
        {
         "Close": 0.8831599950790405,
         "bollinger_upper_band": 1.0060765122960027,
         "bollinger_lower_band": 0.8614452803542201,
         "bollinger_signal": 0,
         "bb_position": 1,
         "_deepnote_index_column": "2021-06-13T00:00:00.000000"
        },
        {
         "Close": 0.8928970098495483,
         "bollinger_upper_band": 1.001738231496604,
         "bollinger_lower_band": 0.8574545630647823,
         "bollinger_signal": 0,
         "bb_position": 1,
         "_deepnote_index_column": "2021-06-14T00:00:00.000000"
        },
        {
         "Close": 0.8898000121116638,
         "bollinger_upper_band": 0.9906834966687569,
         "bollinger_lower_band": 0.8541167967768303,
         "bollinger_signal": 0,
         "bb_position": 1,
         "_deepnote_index_column": "2021-06-15T00:00:00.000000"
        },
        {
         "Close": 0.8319079875946045,
         "bollinger_upper_band": 0.9856466306464732,
         "bollinger_lower_band": 0.8453209625465811,
         "bollinger_signal": 1,
         "bb_position": 1,
         "_deepnote_index_column": "2021-06-16T00:00:00.000000"
        },
        {
         "Close": 0.8414379954338074,
         "bollinger_upper_band": 0.9845895477075621,
         "bollinger_lower_band": 0.8405070475797609,
         "bollinger_signal": 0,
         "bb_position": 1,
         "_deepnote_index_column": "2021-06-17T00:00:00.000000"
        },
        {
         "Close": 0.797648012638092,
         "bollinger_upper_band": 0.9852620316077092,
         "bollinger_lower_band": 0.8364205645989558,
         "bollinger_signal": 1,
         "bb_position": 1,
         "_deepnote_index_column": "2021-06-18T00:00:00.000000"
        },
        {
         "Close": 0.7616729736328125,
         "bollinger_upper_band": 0.9851624923855338,
         "bollinger_lower_band": 0.8220265013068644,
         "bollinger_signal": 1,
         "bb_position": 1,
         "_deepnote_index_column": "2021-06-19T00:00:00.000000"
        },
        {
         "Close": 0.7763770222663879,
         "bollinger_upper_band": 0.969058198536865,
         "bollinger_lower_band": 0.8111100963697512,
         "bollinger_signal": 1,
         "bb_position": 1,
         "_deepnote_index_column": "2021-06-20T00:00:00.000000"
        },
        {
         "Close": 0.6103879809379578,
         "bollinger_upper_band": 0.9657739335093394,
         "bollinger_lower_band": 0.774333060404311,
         "bollinger_signal": 1,
         "bb_position": 1,
         "_deepnote_index_column": "2021-06-21T00:00:00.000000"
        },
        {
         "Close": 0.5450670123100281,
         "bollinger_upper_band": 0.9595006234110643,
         "bollinger_lower_band": 0.7326730721532058,
         "bollinger_signal": 1,
         "bb_position": 1,
         "_deepnote_index_column": "2021-06-22T00:00:00.000000"
        },
        {
         "Close": 0.6265349984169006,
         "bollinger_upper_band": 0.938500906486779,
         "bollinger_lower_band": 0.7117941901490396,
         "bollinger_signal": 1,
         "bb_position": 1,
         "_deepnote_index_column": "2021-06-23T00:00:00.000000"
        },
        {
         "Close": 0.671999990940094,
         "bollinger_upper_band": 0.9231186272582832,
         "bollinger_lower_band": 0.6973568676033195,
         "bollinger_signal": 1,
         "bb_position": 1,
         "_deepnote_index_column": "2021-06-24T00:00:00.000000"
        },
        {
         "Close": 0.6133229732513428,
         "bollinger_upper_band": 0.9124572387783951,
         "bollinger_lower_band": 0.6770219513327651,
         "bollinger_signal": 1,
         "bb_position": 1,
         "_deepnote_index_column": "2021-06-25T00:00:00.000000"
        },
        {
         "Close": 0.615435004234314,
         "bollinger_upper_band": 0.8968656900632205,
         "bollinger_lower_band": 0.6596284028780638,
         "bollinger_signal": 1,
         "bb_position": 1,
         "_deepnote_index_column": "2021-06-26T00:00:00.000000"
        },
        {
         "Close": 0.6469230055809021,
         "bollinger_upper_band": 0.8879327688377642,
         "bollinger_lower_band": 0.6471381273109175,
         "bollinger_signal": 1,
         "bb_position": 1,
         "_deepnote_index_column": "2021-06-27T00:00:00.000000"
        },
        {
         "Close": 0.643746018409729,
         "bollinger_upper_band": 0.8765300733109588,
         "bollinger_lower_band": 0.6353366273383027,
         "bollinger_signal": 0,
         "bb_position": 1,
         "_deepnote_index_column": "2021-06-28T00:00:00.000000"
        },
        {
         "Close": 0.7017250061035156,
         "bollinger_upper_band": 0.8597153075074384,
         "bollinger_lower_band": 0.6303204946184924,
         "bollinger_signal": 0,
         "bb_position": 1,
         "_deepnote_index_column": "2021-06-29T00:00:00.000000"
        },
        {
         "Close": 0.7063739895820618,
         "bollinger_upper_band": 0.8480212472787663,
         "bollinger_lower_band": 0.6257337547430233,
         "bollinger_signal": 0,
         "bb_position": 1,
         "_deepnote_index_column": "2021-06-30T00:00:00.000000"
        },
        {
         "Close": 0.6611800193786621,
         "bollinger_upper_band": 0.8366334189400196,
         "bollinger_lower_band": 0.6183945845141888,
         "bollinger_signal": 0,
         "bb_position": 1,
         "_deepnote_index_column": "2021-07-01T00:00:00.000000"
        },
        {
         "Close": 0.6567630171775818,
         "bollinger_upper_band": 0.8259883636951547,
         "bollinger_lower_band": 0.61144763879775,
         "bollinger_signal": 0,
         "bb_position": 1,
         "_deepnote_index_column": "2021-07-02T00:00:00.000000"
        },
        {
         "Close": 0.6728879809379578,
         "bollinger_upper_band": 0.8085931679879466,
         "bollinger_lower_band": 0.6078156330908497,
         "bollinger_signal": 0,
         "bb_position": 1,
         "_deepnote_index_column": "2021-07-03T00:00:00.000000"
        },
        {
         "Close": 0.6949449777603149,
         "bollinger_upper_band": 0.7887982611594747,
         "bollinger_lower_band": 0.6078153367103983,
         "bollinger_signal": 0,
         "bb_position": 1,
         "_deepnote_index_column": "2021-07-04T00:00:00.000000"
        },
        {
         "Close": 0.6542999744415283,
         "bollinger_upper_band": 0.7653651744660355,
         "bollinger_lower_band": 0.607698419636824,
         "bollinger_signal": 0,
         "bb_position": 1,
         "_deepnote_index_column": "2021-07-05T00:00:00.000000"
        },
        {
         "Close": 0.6654019951820374,
         "bollinger_upper_band": 0.7492903419096646,
         "bollinger_lower_band": 0.6071226529519382,
         "bollinger_signal": 0,
         "bb_position": 1,
         "_deepnote_index_column": "2021-07-06T00:00:00.000000"
        },
        {
         "Close": 0.6515750288963318,
         "bollinger_upper_band": 0.7286552779512824,
         "bollinger_lower_band": 0.6087714202565729,
         "bollinger_signal": 0,
         "bb_position": 1,
         "_deepnote_index_column": "2021-07-07T00:00:00.000000"
        },
        {
         "Close": 0.623058021068573,
         "bollinger_upper_band": 0.7124011227453704,
         "bollinger_lower_band": 0.6075665763055329,
         "bollinger_signal": 0,
         "bb_position": 1,
         "_deepnote_index_column": "2021-07-08T00:00:00.000000"
        },
        {
         "Close": 0.6368039846420288,
         "bollinger_upper_band": 0.7005439396733522,
         "bollinger_lower_band": 0.6069368604784728,
         "bollinger_signal": 0,
         "bb_position": 1,
         "_deepnote_index_column": "2021-07-09T00:00:00.000000"
        },
        {
         "Close": 0.6254630088806152,
         "bollinger_upper_band": 0.6833586128859268,
         "bollinger_lower_band": 0.609030785927321,
         "bollinger_signal": 0,
         "bb_position": 1,
         "_deepnote_index_column": "2021-07-10T00:00:00.000000"
        },
        {
         "Close": 0.6359350085258484,
         "bollinger_upper_band": 0.6837694194563367,
         "bollinger_lower_band": 0.6111746821156999,
         "bollinger_signal": 0,
         "bb_position": 1,
         "_deepnote_index_column": "2021-07-11T00:00:00.000000"
        },
        {
         "Close": 0.6301779747009277,
         "bollinger_upper_band": 0.6793363121009564,
         "bollinger_lower_band": 0.6241188857101703,
         "bollinger_signal": 0,
         "bb_position": 1,
         "_deepnote_index_column": "2021-07-12T00:00:00.000000"
        },
        {
         "Close": 0.6195229887962341,
         "bollinger_upper_band": 0.6793643933511284,
         "bollinger_lower_band": 0.6233896034979316,
         "bollinger_signal": 1,
         "bb_position": 1,
         "_deepnote_index_column": "2021-07-13T00:00:00.000000"
        },
        {
         "Close": 0.6203240156173706,
         "bollinger_upper_band": 0.6771592754128258,
         "bollinger_lower_band": 0.6204271239039619,
         "bollinger_signal": 1,
         "bb_position": 1,
         "_deepnote_index_column": "2021-07-14T00:00:00.000000"
        },
        {
         "Close": 0.5969409942626953,
         "bollinger_upper_band": 0.6776257152045175,
         "bollinger_lower_band": 0.6183224862134054,
         "bollinger_signal": 1,
         "bb_position": 1,
         "_deepnote_index_column": "2021-07-15T00:00:00.000000"
        },
        {
         "Close": 0.5907739996910095,
         "bollinger_upper_band": 0.6782703160027219,
         "bollinger_lower_band": 0.6152117849608707,
         "bollinger_signal": 1,
         "bb_position": 1,
         "_deepnote_index_column": "2021-07-16T00:00:00.000000"
        },
        {
         "Close": 0.582427978515625,
         "bollinger_upper_band": 0.6781694335608883,
         "bollinger_lower_band": 0.6088631646961764,
         "bollinger_signal": 1,
         "bb_position": 1,
         "_deepnote_index_column": "2021-07-17T00:00:00.000000"
        },
        {
         "Close": 0.5879219770431519,
         "bollinger_upper_band": 0.6775395782578688,
         "bollinger_lower_band": 0.6039106158625382,
         "bollinger_signal": 1,
         "bb_position": 1,
         "_deepnote_index_column": "2021-07-18T00:00:00.000000"
        },
        {
         "Close": 0.5575559735298157,
         "bollinger_upper_band": 0.6718419106992999,
         "bollinger_lower_band": 0.5951913801637372,
         "bollinger_signal": 1,
         "bb_position": 1,
         "_deepnote_index_column": "2021-07-19T00:00:00.000000"
        },
        {
         "Close": 0.5293359756469727,
         "bollinger_upper_band": 0.6656307059839023,
         "bollinger_lower_band": 0.5836987834856259,
         "bollinger_signal": 1,
         "bb_position": 1,
         "_deepnote_index_column": "2021-07-20T00:00:00.000000"
        },
        {
         "Close": 0.569998025894165,
         "bollinger_upper_band": 0.6618601700028098,
         "bollinger_lower_band": 0.5783511201182686,
         "bollinger_signal": 1,
         "bb_position": 1,
         "_deepnote_index_column": "2021-07-21T00:00:00.000000"
        },
        {
         "Close": 0.5922060012817383,
         "bollinger_upper_band": 0.6581417797656113,
         "bollinger_lower_band": 0.5756138087658829,
         "bollinger_signal": 0,
         "bb_position": 1,
         "_deepnote_index_column": "2021-07-22T00:00:00.000000"
        },
        {
         "Close": 0.6092240214347839,
         "bollinger_upper_band": 0.6528100783027547,
         "bollinger_lower_band": 0.5745791142784221,
         "bollinger_signal": 0,
         "bb_position": 1,
         "_deepnote_index_column": "2021-07-23T00:00:00.000000"
        },
        {
         "Close": 0.6098269820213318,
         "bollinger_upper_band": 0.6435603658179178,
         "bollinger_lower_band": 0.5753170271893607,
         "bollinger_signal": 0,
         "bb_position": 1,
         "_deepnote_index_column": "2021-07-24T00:00:00.000000"
        },
        {
         "Close": 0.6063569784164429,
         "bollinger_upper_band": 0.6394886811990281,
         "bollinger_lower_band": 0.5745944122057418,
         "bollinger_signal": 0,
         "bb_position": 1,
         "_deepnote_index_column": "2021-07-25T00:00:00.000000"
        },
        {
         "Close": 0.6256179809570312,
         "bollinger_upper_band": 0.6348441832494562,
         "bollinger_lower_band": 0.5752605087328131,
         "bollinger_signal": 0,
         "bb_position": 1,
         "_deepnote_index_column": "2021-07-26T00:00:00.000000"
        },
        {
         "Close": 0.6446040272712708,
         "bollinger_upper_band": 0.6339586322185612,
         "bollinger_lower_band": 0.5754489596012019,
         "bollinger_signal": -1,
         "bb_position": 0,
         "_deepnote_index_column": "2021-07-27T00:00:00.000000"
        },
        {
         "Close": 0.7254449725151062,
         "bollinger_upper_band": 0.6495448485769358,
         "bollinger_lower_band": 0.5701014383874806,
         "bollinger_signal": -1,
         "bb_position": 0,
         "_deepnote_index_column": "2021-07-28T00:00:00.000000"
        },
        {
         "Close": 0.7480170130729675,
         "bollinger_upper_band": 0.6655045050759589,
         "bollinger_lower_band": 0.5652630847315514,
         "bollinger_signal": -1,
         "bb_position": 0,
         "_deepnote_index_column": "2021-07-29T00:00:00.000000"
        },
        {
         "Close": 0.7521190047264099,
         "bollinger_upper_band": 0.6804409580439975,
         "bollinger_lower_band": 0.5629922313480923,
         "bollinger_signal": -1,
         "bb_position": 0,
         "_deepnote_index_column": "2021-07-30T00:00:00.000000"
        },
        {
         "Close": 0.7477859854698181,
         "bollinger_upper_band": 0.6924358468174214,
         "bollinger_lower_band": 0.5621824402690654,
         "bollinger_signal": -1,
         "bb_position": 0,
         "_deepnote_index_column": "2021-07-31T00:00:00.000000"
        },
        {
         "Close": 0.7259219884872437,
         "bollinger_upper_band": 0.7008622244252507,
         "bollinger_lower_band": 0.5633304640398678,
         "bollinger_signal": -1,
         "bb_position": 0,
         "_deepnote_index_column": "2021-08-01T00:00:00.000000"
        },
        {
         "Close": 0.7392200231552124,
         "bollinger_upper_band": 0.7107908578047173,
         "bollinger_lower_band": 0.565371534096299,
         "bollinger_signal": -1,
         "bb_position": 0,
         "_deepnote_index_column": "2021-08-02T00:00:00.000000"
        },
        {
         "Close": 0.7127289772033691,
         "bollinger_upper_band": 0.7171387166538529,
         "bollinger_lower_band": 0.5682641714057631,
         "bollinger_signal": 0,
         "bb_position": 0,
         "_deepnote_index_column": "2021-08-03T00:00:00.000000"
        },
        {
         "Close": 0.7304880023002625,
         "bollinger_upper_band": 0.7254666814407981,
         "bollinger_lower_band": 0.5732909074225748,
         "bollinger_signal": -1,
         "bb_position": 0,
         "_deepnote_index_column": "2021-08-04T00:00:00.000000"
        },
        {
         "Close": 0.7331510186195374,
         "bollinger_upper_band": 0.7334691600146976,
         "bollinger_lower_band": 0.579526130741528,
         "bollinger_signal": 0,
         "bb_position": 0,
         "_deepnote_index_column": "2021-08-05T00:00:00.000000"
        },
        {
         "Close": 0.7465130090713501,
         "bollinger_upper_band": 0.7421064807945851,
         "bollinger_lower_band": 0.5872973130172131,
         "bollinger_signal": -1,
         "bb_position": 0,
         "_deepnote_index_column": "2021-08-06T00:00:00.000000"
        },
        {
         "Close": 0.8162810206413269,
         "bollinger_upper_band": 0.7582979626246483,
         "bollinger_lower_band": 0.5939417355469673,
         "bollinger_signal": -1,
         "bb_position": 0,
         "_deepnote_index_column": "2021-08-07T00:00:00.000000"
        },
        {
         "Close": 0.7787389755249023,
         "bollinger_upper_band": 0.7674216578289208,
         "bollinger_lower_band": 0.6069363405422035,
         "bollinger_signal": -1,
         "bb_position": 0,
         "_deepnote_index_column": "2021-08-08T00:00:00.000000"
        },
        {
         "Close": 0.8185529708862305,
         "bollinger_upper_band": 0.7779015789860059,
         "bollinger_lower_band": 0.6253781189090443,
         "bollinger_signal": -1,
         "bb_position": 0,
         "_deepnote_index_column": "2021-08-09T00:00:00.000000"
        },
        {
         "Close": 0.8512470126152039,
         "bollinger_upper_band": 0.7923418724082026,
         "bollinger_lower_band": 0.6390627241589514,
         "bollinger_signal": -1,
         "bb_position": 0,
         "_deepnote_index_column": "2021-08-10T00:00:00.000000"
        },
        {
         "Close": 1.0125240087509155,
         "bollinger_upper_band": 0.8328588010605013,
         "bollinger_lower_band": 0.6405775962535704,
         "bollinger_signal": -1,
         "bb_position": 0,
         "_deepnote_index_column": "2021-08-11T00:00:00.000000"
        }
       ]
      },
      "text/plain": "               Close  bollinger_upper_band  bollinger_lower_band  \\\nDate                                                               \n2019-09-01  0.258054                   NaN                   NaN   \n2019-09-02  0.260820                   NaN                   NaN   \n2019-09-03  0.263139                   NaN                   NaN   \n2019-09-04  0.259905                   NaN                   NaN   \n2019-09-05  0.256346                   NaN                   NaN   \n...              ...                   ...                   ...   \n2021-08-07  0.816281              0.758298              0.593942   \n2021-08-08  0.778739              0.767422              0.606936   \n2021-08-09  0.818553              0.777902              0.625378   \n2021-08-10  0.851247              0.792342              0.639063   \n2021-08-11  1.012524              0.832859              0.640578   \n\n            bollinger_signal  bb_position  \nDate                                       \n2019-09-01               0.0            1  \n2019-09-02               0.0            1  \n2019-09-03               0.0            1  \n2019-09-04               0.0            1  \n2019-09-05               0.0            1  \n...                      ...          ...  \n2021-08-07              -1.0            0  \n2021-08-08              -1.0            0  \n2021-08-09              -1.0            0  \n2021-08-10              -1.0            0  \n2021-08-11              -1.0            0  \n\n[707 rows x 5 columns]",
      "text/html": "<div>\n<style scoped>\n    .dataframe tbody tr th:only-of-type {\n        vertical-align: middle;\n    }\n\n    .dataframe tbody tr th {\n        vertical-align: top;\n    }\n\n    .dataframe thead th {\n        text-align: right;\n    }\n</style>\n<table border=\"1\" class=\"dataframe\">\n  <thead>\n    <tr style=\"text-align: right;\">\n      <th></th>\n      <th>Close</th>\n      <th>bollinger_upper_band</th>\n      <th>bollinger_lower_band</th>\n      <th>bollinger_signal</th>\n      <th>bb_position</th>\n    </tr>\n    <tr>\n      <th>Date</th>\n      <th></th>\n      <th></th>\n      <th></th>\n      <th></th>\n      <th></th>\n    </tr>\n  </thead>\n  <tbody>\n    <tr>\n      <th>2019-09-01</th>\n      <td>0.258054</td>\n      <td>NaN</td>\n      <td>NaN</td>\n      <td>0.0</td>\n      <td>1</td>\n    </tr>\n    <tr>\n      <th>2019-09-02</th>\n      <td>0.260820</td>\n      <td>NaN</td>\n      <td>NaN</td>\n      <td>0.0</td>\n      <td>1</td>\n    </tr>\n    <tr>\n      <th>2019-09-03</th>\n      <td>0.263139</td>\n      <td>NaN</td>\n      <td>NaN</td>\n      <td>0.0</td>\n      <td>1</td>\n    </tr>\n    <tr>\n      <th>2019-09-04</th>\n      <td>0.259905</td>\n      <td>NaN</td>\n      <td>NaN</td>\n      <td>0.0</td>\n      <td>1</td>\n    </tr>\n    <tr>\n      <th>2019-09-05</th>\n      <td>0.256346</td>\n      <td>NaN</td>\n      <td>NaN</td>\n      <td>0.0</td>\n      <td>1</td>\n    </tr>\n    <tr>\n      <th>...</th>\n      <td>...</td>\n      <td>...</td>\n      <td>...</td>\n      <td>...</td>\n      <td>...</td>\n    </tr>\n    <tr>\n      <th>2021-08-07</th>\n      <td>0.816281</td>\n      <td>0.758298</td>\n      <td>0.593942</td>\n      <td>-1.0</td>\n      <td>0</td>\n    </tr>\n    <tr>\n      <th>2021-08-08</th>\n      <td>0.778739</td>\n      <td>0.767422</td>\n      <td>0.606936</td>\n      <td>-1.0</td>\n      <td>0</td>\n    </tr>\n    <tr>\n      <th>2021-08-09</th>\n      <td>0.818553</td>\n      <td>0.777902</td>\n      <td>0.625378</td>\n      <td>-1.0</td>\n      <td>0</td>\n    </tr>\n    <tr>\n      <th>2021-08-10</th>\n      <td>0.851247</td>\n      <td>0.792342</td>\n      <td>0.639063</td>\n      <td>-1.0</td>\n      <td>0</td>\n    </tr>\n    <tr>\n      <th>2021-08-11</th>\n      <td>1.012524</td>\n      <td>0.832859</td>\n      <td>0.640578</td>\n      <td>-1.0</td>\n      <td>0</td>\n    </tr>\n  </tbody>\n</table>\n<p>707 rows × 5 columns</p>\n</div>"
     },
     "metadata": {}
    }
   ],
   "execution_count": null
  },
  {
   "cell_type": "code",
   "metadata": {
    "tags": [],
    "deepnote_to_be_reexecuted": false,
    "source_hash": "e4e23989",
    "execution_start": 1629319386208,
    "execution_millis": 38,
    "cell_id": "00013-d330af2e-12c6-459d-8784-819b76730ddd",
    "deepnote_cell_type": "code"
   },
   "source": "xrp_ret = pd.DataFrame(np.diff(xrp['Close'])).rename(columns = {0:'returns'})\nbb_strategy_ret = []\n\nfor i in range(len(xrp_ret)):\n    try:\n        returns = xrp_ret['returns'][i]*strategy['bb_position'][i]\n        bb_strategy_ret.append(returns)\n    except:\n        pass\n    \nbb_strategy_ret_df = pd.DataFrame(bb_strategy_ret).rename(columns = {0:'bb_returns'})\n\ninvestment_value = 100000\nnumber_of_stocks = math.floor(investment_value/xrp['Close'][-1])\nbb_investment_ret = []\n\nfor i in range(len(bb_strategy_ret_df['bb_returns'])):\n    returns = number_of_stocks*bb_strategy_ret_df['bb_returns'][i]\n    bb_investment_ret.append(returns)\n\nbb_investment_ret_df = pd.DataFrame(bb_investment_ret).rename(columns = {0:'investment_returns'})\ntotal_investment_ret = round(sum(bb_investment_ret_df['investment_returns']), 2)\nprofit_percentage = math.floor((total_investment_ret/investment_value)*100)\nprint(cl('Profit gained from the BB strategy by investing $100k in XRP : {}'.format(total_investment_ret), attrs = ['bold']))\nprint(cl('Profit percentage of the BB strategy : {}%'.format(profit_percentage), attrs = ['bold']))",
   "outputs": [
    {
     "name": "stdout",
     "text": "\u001b[1mProfit gained from the BB strategy by investing $100k in XRP : 14262.76\u001b[0m\n\u001b[1mProfit percentage of the BB strategy : 14%\u001b[0m\n",
     "output_type": "stream"
    }
   ],
   "execution_count": null
  },
  {
   "cell_type": "code",
   "metadata": {
    "tags": [],
    "deepnote_to_be_reexecuted": false,
    "source_hash": "f5a16fb4",
    "execution_start": 1629319386248,
    "execution_millis": 20,
    "cell_id": "00014-85523d3d-b589-43d5-b02f-8b0b632aa77e",
    "deepnote_cell_type": "code"
   },
   "source": "strategy.to_csv('XRP 1D BOLLINGER BANDS TRADE STRATEGY.CSV')",
   "outputs": [],
   "execution_count": null
  },
  {
   "cell_type": "markdown",
   "source": "<a style='text-decoration:none;line-height:16px;display:flex;color:#5B5B62;padding:10px;justify-content:end;' href='https://deepnote.com?utm_source=created-in-deepnote-cell&projectId=d12c285c-6789-4c45-9ad7-1be9b4d60622' target=\"_blank\">\n<img alt='Created in deepnote.com' style='display:inline;max-height:16px;margin:0px;margin-right:7.5px;' src='data:image/svg+xml;base64,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' > </img>\nCreated in <span style='font-weight:600;margin-left:4px;'>Deepnote</span></a>",
   "metadata": {
    "tags": [],
    "created_in_deepnote_cell": true,
    "deepnote_cell_type": "markdown"
   }
  }
 ],
 "nbformat": 4,
 "nbformat_minor": 2,
 "metadata": {
  "orig_nbformat": 2,
  "deepnote": {
   "is_reactive": false
  },
  "deepnote_notebook_id": "7da18de2-12b2-4358-b0bb-0448e700ef8a",
  "deepnote_execution_queue": []
 }
}