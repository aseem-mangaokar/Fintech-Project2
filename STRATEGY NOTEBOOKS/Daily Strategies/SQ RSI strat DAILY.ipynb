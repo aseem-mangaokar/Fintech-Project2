{
 "cells": [
  {
   "cell_type": "code",
   "metadata": {
    "tags": [],
    "deepnote_to_be_reexecuted": false,
    "source_hash": "32367b8d",
    "execution_start": 1629252650904,
    "execution_millis": 587,
    "cell_id": "00000-a6ebc182-f54e-477b-ac5e-5f9a07cc39ef",
    "deepnote_cell_type": "code"
   },
   "source": "import datetime as dt\nfrom pathlib import Path\nimport requests\nimport pandas as pd\nimport numpy as np\nfrom math import floor\nfrom termcolor import colored as cl\nimport matplotlib.pyplot as plt\nplt.close('all')\nimport yfinance as yf\nplt.rcParams['figure.figsize'] = (20, 10)\nplt.style.use('fivethirtyeight')",
   "outputs": [],
   "execution_count": null
  },
  {
   "cell_type": "code",
   "metadata": {
    "tags": [],
    "deepnote_to_be_reexecuted": false,
    "source_hash": "de786973",
    "execution_start": 1629252651532,
    "execution_millis": 1446,
    "cell_id": "00001-7b28f6c9-0ec1-4e09-adea-72bd68ee709d",
    "deepnote_cell_type": "code"
   },
   "source": "sq_1d = yf.download(tickers='SQ', start='2015-11-29', end = '2021-08-11', interval='1d')\nsq_1d.drop(columns = ['Open','High','Low','Adj Close','Volume'], inplace = True)\n# sq_1d.reset_index(inplace=True)\n# sq_1d.rename(columns = {'index':'Datetime'}, inplace = True)\n# sq_1d.set_index(pd.to_datetime(sq_1d['Datetime'],infer_datetime_format=True),inplace=True)\nsq_1d.head()",
   "outputs": [
    {
     "name": "stdout",
     "text": "[*********************100%***********************]  1 of 1 completed\n",
     "output_type": "stream"
    },
    {
     "output_type": "execute_result",
     "execution_count": 2,
     "data": {
      "application/vnd.deepnote.dataframe.v2+json": {
       "row_count": 5,
       "column_count": 1,
       "columns": [
        {
         "name": "Close",
         "dtype": "float64",
         "stats": {
          "unique_count": 4,
          "nan_count": 0,
          "min": "11.90999984741211",
          "max": "12.039999961853027",
          "histogram": [
           {
            "bin_start": 11.90999984741211,
            "bin_end": 11.922999858856201,
            "count": 2
           },
           {
            "bin_start": 11.922999858856201,
            "bin_end": 11.935999870300293,
            "count": 1
           },
           {
            "bin_start": 11.935999870300293,
            "bin_end": 11.948999881744385,
            "count": 0
           },
           {
            "bin_start": 11.948999881744385,
            "bin_end": 11.961999893188477,
            "count": 0
           },
           {
            "bin_start": 11.961999893188477,
            "bin_end": 11.974999904632568,
            "count": 0
           },
           {
            "bin_start": 11.974999904632568,
            "bin_end": 11.98799991607666,
            "count": 0
           },
           {
            "bin_start": 11.98799991607666,
            "bin_end": 12.000999927520752,
            "count": 0
           },
           {
            "bin_start": 12.000999927520752,
            "bin_end": 12.013999938964844,
            "count": 0
           },
           {
            "bin_start": 12.013999938964844,
            "bin_end": 12.026999950408936,
            "count": 0
           },
           {
            "bin_start": 12.026999950408936,
            "bin_end": 12.039999961853027,
            "count": 2
           }
          ]
         }
        },
        {
         "name": "_deepnote_index_column",
         "dtype": "datetime64[ns]"
        }
       ],
       "rows_top": [
        {
         "Close": 12.039999961853027,
         "_deepnote_index_column": "2015-11-30T00:00:00.000000"
        },
        {
         "Close": 11.90999984741211,
         "_deepnote_index_column": "2015-12-01T00:00:00.000000"
        },
        {
         "Close": 11.930000305175781,
         "_deepnote_index_column": "2015-12-02T00:00:00.000000"
        },
        {
         "Close": 11.920000076293945,
         "_deepnote_index_column": "2015-12-03T00:00:00.000000"
        },
        {
         "Close": 12.039999961853027,
         "_deepnote_index_column": "2015-12-04T00:00:00.000000"
        }
       ],
       "rows_bottom": null
      },
      "text/plain": "            Close\nDate             \n2015-11-30  12.04\n2015-12-01  11.91\n2015-12-02  11.93\n2015-12-03  11.92\n2015-12-04  12.04",
      "text/html": "<div>\n<style scoped>\n    .dataframe tbody tr th:only-of-type {\n        vertical-align: middle;\n    }\n\n    .dataframe tbody tr th {\n        vertical-align: top;\n    }\n\n    .dataframe thead th {\n        text-align: right;\n    }\n</style>\n<table border=\"1\" class=\"dataframe\">\n  <thead>\n    <tr style=\"text-align: right;\">\n      <th></th>\n      <th>Close</th>\n    </tr>\n    <tr>\n      <th>Date</th>\n      <th></th>\n    </tr>\n  </thead>\n  <tbody>\n    <tr>\n      <th>2015-11-30</th>\n      <td>12.04</td>\n    </tr>\n    <tr>\n      <th>2015-12-01</th>\n      <td>11.91</td>\n    </tr>\n    <tr>\n      <th>2015-12-02</th>\n      <td>11.93</td>\n    </tr>\n    <tr>\n      <th>2015-12-03</th>\n      <td>11.92</td>\n    </tr>\n    <tr>\n      <th>2015-12-04</th>\n      <td>12.04</td>\n    </tr>\n  </tbody>\n</table>\n</div>"
     },
     "metadata": {}
    }
   ],
   "execution_count": null
  },
  {
   "cell_type": "code",
   "metadata": {
    "tags": [],
    "deepnote_to_be_reexecuted": false,
    "source_hash": "9c45f7e5",
    "execution_start": 1629252652974,
    "execution_millis": 39,
    "cell_id": "00002-5e7727e2-c573-4eae-94ad-9cd43a475ed9",
    "deepnote_cell_type": "code"
   },
   "source": "sq_diff = sq_1d['Close'].diff()\nup = sq_diff.clip(lower=0)\ndown = -1*sq_diff.clip(upper=0)\nema_up = up.ewm(com=13, adjust=False).mean()\nema_down = down.ewm(com=13, adjust=False).mean()\nrs = ema_up/ema_down\nrs",
   "outputs": [
    {
     "output_type": "execute_result",
     "execution_count": 3,
     "data": {
      "text/plain": "Date\n2015-11-30         NaN\n2015-12-01    0.000000\n2015-12-02    0.011835\n2015-12-03    0.011760\n2015-12-04    0.093588\n                ...   \n2021-08-04    1.505334\n2021-08-05    1.990352\n2021-08-06    1.621160\n2021-08-09    1.758997\n2021-08-10    1.449879\nName: Close, Length: 1434, dtype: float64"
     },
     "metadata": {}
    }
   ],
   "execution_count": null
  },
  {
   "cell_type": "code",
   "metadata": {
    "tags": [],
    "deepnote_to_be_reexecuted": false,
    "source_hash": "77853831",
    "execution_start": 1629252653008,
    "execution_millis": 49,
    "cell_id": "00003-63d56883-ee24-4b04-ae25-48b91bb14759",
    "deepnote_cell_type": "code"
   },
   "source": "sq_1d['RSI'] = 100 - (100/(1 + rs))\nsq_1d['RSI'] ",
   "outputs": [
    {
     "output_type": "execute_result",
     "execution_count": 4,
     "data": {
      "text/plain": "Date\n2015-11-30          NaN\n2015-12-01     0.000000\n2015-12-02     1.169616\n2015-12-03     1.162296\n2015-12-04     8.557893\n                ...    \n2021-08-04    60.085156\n2021-08-05    66.559125\n2021-08-06    61.848951\n2021-08-09    63.754948\n2021-08-10    59.181652\nName: RSI, Length: 1434, dtype: float64"
     },
     "metadata": {}
    }
   ],
   "execution_count": null
  },
  {
   "cell_type": "code",
   "metadata": {
    "tags": [],
    "deepnote_to_be_reexecuted": false,
    "source_hash": "9df78dc0",
    "execution_start": 1629252653052,
    "execution_millis": 46,
    "cell_id": "00004-0e6b137c-2fa3-4b82-a266-db47b8bad9bc",
    "deepnote_cell_type": "code"
   },
   "source": "\n#sq_1hr['RSI’]\nsq_1d_rsi= sq_1d.iloc[: , 1:]\nsq_1d_rsi",
   "outputs": [
    {
     "output_type": "execute_result",
     "execution_count": 5,
     "data": {
      "application/vnd.deepnote.dataframe.v2+json": {
       "row_count": 1434,
       "column_count": 1,
       "columns": [
        {
         "name": "RSI",
         "dtype": "float64",
         "stats": {
          "unique_count": 1429,
          "nan_count": 1,
          "min": "0.0",
          "max": "92.0381930630099",
          "histogram": [
           {
            "bin_start": 0,
            "bin_end": 9.20381930630099,
            "count": 4
           },
           {
            "bin_start": 9.20381930630099,
            "bin_end": 18.40763861260198,
            "count": 0
           },
           {
            "bin_start": 18.40763861260198,
            "bin_end": 27.611457918902968,
            "count": 32
           },
           {
            "bin_start": 27.611457918902968,
            "bin_end": 36.81527722520396,
            "count": 107
           },
           {
            "bin_start": 36.81527722520396,
            "bin_end": 46.01909653150494,
            "count": 200
           },
           {
            "bin_start": 46.01909653150494,
            "bin_end": 55.222915837805935,
            "count": 327
           },
           {
            "bin_start": 55.222915837805935,
            "bin_end": 64.42673514410693,
            "count": 379
           },
           {
            "bin_start": 64.42673514410693,
            "bin_end": 73.63055445040791,
            "count": 290
           },
           {
            "bin_start": 73.63055445040791,
            "bin_end": 82.8343737567089,
            "count": 79
           },
           {
            "bin_start": 82.8343737567089,
            "bin_end": 92.0381930630099,
            "count": 15
           }
          ]
         }
        },
        {
         "name": "_deepnote_index_column",
         "dtype": "datetime64[ns]"
        }
       ],
       "rows_top": [
        {
         "RSI": "nan",
         "_deepnote_index_column": "2015-11-30T00:00:00.000000"
        },
        {
         "RSI": 0,
         "_deepnote_index_column": "2015-12-01T00:00:00.000000"
        },
        {
         "RSI": 1.169616082388444,
         "_deepnote_index_column": "2015-12-02T00:00:00.000000"
        },
        {
         "RSI": 1.1622960202159902,
         "_deepnote_index_column": "2015-12-03T00:00:00.000000"
        },
        {
         "RSI": 8.55789302608838,
         "_deepnote_index_column": "2015-12-04T00:00:00.000000"
        },
        {
         "RSI": 24.731818234713913,
         "_deepnote_index_column": "2015-12-07T00:00:00.000000"
        },
        {
         "RSI": 21.640258780980673,
         "_deepnote_index_column": "2015-12-08T00:00:00.000000"
        },
        {
         "RSI": 20.169522632593484,
         "_deepnote_index_column": "2015-12-09T00:00:00.000000"
        },
        {
         "RSI": 22.778125067653406,
         "_deepnote_index_column": "2015-12-10T00:00:00.000000"
        },
        {
         "RSI": 21.51619114414609,
         "_deepnote_index_column": "2015-12-11T00:00:00.000000"
        },
        {
         "RSI": 36.0212949652231,
         "_deepnote_index_column": "2015-12-14T00:00:00.000000"
        },
        {
         "RSI": 40.3922239043568,
         "_deepnote_index_column": "2015-12-15T00:00:00.000000"
        },
        {
         "RSI": 36.550574945443685,
         "_deepnote_index_column": "2015-12-16T00:00:00.000000"
        },
        {
         "RSI": 38.13468595964691,
         "_deepnote_index_column": "2015-12-17T00:00:00.000000"
        },
        {
         "RSI": 38.792980714139254,
         "_deepnote_index_column": "2015-12-18T00:00:00.000000"
        },
        {
         "RSI": 36.69076927736396,
         "_deepnote_index_column": "2015-12-21T00:00:00.000000"
        },
        {
         "RSI": 43.894168455977564,
         "_deepnote_index_column": "2015-12-22T00:00:00.000000"
        },
        {
         "RSI": 45.11689728957422,
         "_deepnote_index_column": "2015-12-23T00:00:00.000000"
        },
        {
         "RSI": 48.158658678665326,
         "_deepnote_index_column": "2015-12-24T00:00:00.000000"
        },
        {
         "RSI": 54.41624163221484,
         "_deepnote_index_column": "2015-12-28T00:00:00.000000"
        },
        {
         "RSI": 51.782262296430865,
         "_deepnote_index_column": "2015-12-29T00:00:00.000000"
        },
        {
         "RSI": 52.8740665963962,
         "_deepnote_index_column": "2015-12-30T00:00:00.000000"
        },
        {
         "RSI": 60.364539923787646,
         "_deepnote_index_column": "2015-12-31T00:00:00.000000"
        },
        {
         "RSI": 39.883623127152106,
         "_deepnote_index_column": "2016-01-04T00:00:00.000000"
        },
        {
         "RSI": 31.770229531928194,
         "_deepnote_index_column": "2016-01-05T00:00:00.000000"
        },
        {
         "RSI": 31.999422907609855,
         "_deepnote_index_column": "2016-01-06T00:00:00.000000"
        },
        {
         "RSI": 28.312347563668368,
         "_deepnote_index_column": "2016-01-07T00:00:00.000000"
        },
        {
         "RSI": 31.836588152814613,
         "_deepnote_index_column": "2016-01-08T00:00:00.000000"
        },
        {
         "RSI": 42.57811573356513,
         "_deepnote_index_column": "2016-01-11T00:00:00.000000"
        },
        {
         "RSI": 46.83407209929221,
         "_deepnote_index_column": "2016-01-12T00:00:00.000000"
        },
        {
         "RSI": 40.610441605257876,
         "_deepnote_index_column": "2016-01-13T00:00:00.000000"
        },
        {
         "RSI": 32.86876055105107,
         "_deepnote_index_column": "2016-01-14T00:00:00.000000"
        },
        {
         "RSI": 28.7583829061999,
         "_deepnote_index_column": "2016-01-15T00:00:00.000000"
        },
        {
         "RSI": 24.047693121763587,
         "_deepnote_index_column": "2016-01-19T00:00:00.000000"
        },
        {
         "RSI": 24.38116853946191,
         "_deepnote_index_column": "2016-01-20T00:00:00.000000"
        },
        {
         "RSI": 32.80141619730607,
         "_deepnote_index_column": "2016-01-21T00:00:00.000000"
        },
        {
         "RSI": 31.586479919009918,
         "_deepnote_index_column": "2016-01-22T00:00:00.000000"
        },
        {
         "RSI": 31.292782432006106,
         "_deepnote_index_column": "2016-01-25T00:00:00.000000"
        },
        {
         "RSI": 29.311584340416033,
         "_deepnote_index_column": "2016-01-26T00:00:00.000000"
        },
        {
         "RSI": 26.084023991857805,
         "_deepnote_index_column": "2016-01-27T00:00:00.000000"
        },
        {
         "RSI": 24.263721442452834,
         "_deepnote_index_column": "2016-01-28T00:00:00.000000"
        },
        {
         "RSI": 24.810585381693926,
         "_deepnote_index_column": "2016-01-29T00:00:00.000000"
        },
        {
         "RSI": 24.746442049085275,
         "_deepnote_index_column": "2016-02-01T00:00:00.000000"
        },
        {
         "RSI": 22.897689227383182,
         "_deepnote_index_column": "2016-02-02T00:00:00.000000"
        },
        {
         "RSI": 22.64637842128603,
         "_deepnote_index_column": "2016-02-03T00:00:00.000000"
        },
        {
         "RSI": 32.07925738263616,
         "_deepnote_index_column": "2016-02-04T00:00:00.000000"
        },
        {
         "RSI": 29.828901058456637,
         "_deepnote_index_column": "2016-02-05T00:00:00.000000"
        },
        {
         "RSI": 27.806059449264552,
         "_deepnote_index_column": "2016-02-08T00:00:00.000000"
        },
        {
         "RSI": 32.543047647777996,
         "_deepnote_index_column": "2016-02-09T00:00:00.000000"
        },
        {
         "RSI": 37.16099779970903,
         "_deepnote_index_column": "2016-02-10T00:00:00.000000"
        },
        {
         "RSI": 34.60945986642271,
         "_deepnote_index_column": "2016-02-11T00:00:00.000000"
        },
        {
         "RSI": 45.20607445177745,
         "_deepnote_index_column": "2016-02-12T00:00:00.000000"
        },
        {
         "RSI": 52.83235248553269,
         "_deepnote_index_column": "2016-02-16T00:00:00.000000"
        },
        {
         "RSI": 51.72479494660483,
         "_deepnote_index_column": "2016-02-17T00:00:00.000000"
        },
        {
         "RSI": 53.36262205073155,
         "_deepnote_index_column": "2016-02-18T00:00:00.000000"
        },
        {
         "RSI": 53.2237303488505,
         "_deepnote_index_column": "2016-02-19T00:00:00.000000"
        },
        {
         "RSI": 58.045610394718544,
         "_deepnote_index_column": "2016-02-22T00:00:00.000000"
        },
        {
         "RSI": 49.13239167805821,
         "_deepnote_index_column": "2016-02-23T00:00:00.000000"
        },
        {
         "RSI": 51.296163336363215,
         "_deepnote_index_column": "2016-02-24T00:00:00.000000"
        },
        {
         "RSI": 55.48761097405911,
         "_deepnote_index_column": "2016-02-25T00:00:00.000000"
        },
        {
         "RSI": 56.14668437382909,
         "_deepnote_index_column": "2016-02-26T00:00:00.000000"
        },
        {
         "RSI": 57.50199714820154,
         "_deepnote_index_column": "2016-02-29T00:00:00.000000"
        },
        {
         "RSI": 60.564571290255834,
         "_deepnote_index_column": "2016-03-01T00:00:00.000000"
        },
        {
         "RSI": 70.71178130225852,
         "_deepnote_index_column": "2016-03-02T00:00:00.000000"
        },
        {
         "RSI": 72.42349673458796,
         "_deepnote_index_column": "2016-03-03T00:00:00.000000"
        },
        {
         "RSI": 68.7163758543205,
         "_deepnote_index_column": "2016-03-04T00:00:00.000000"
        },
        {
         "RSI": 70.41516794686923,
         "_deepnote_index_column": "2016-03-07T00:00:00.000000"
        },
        {
         "RSI": 59.54982749825989,
         "_deepnote_index_column": "2016-03-08T00:00:00.000000"
        },
        {
         "RSI": 63.79240108327078,
         "_deepnote_index_column": "2016-03-09T00:00:00.000000"
        },
        {
         "RSI": 55.47561448256533,
         "_deepnote_index_column": "2016-03-10T00:00:00.000000"
        },
        {
         "RSI": 53.42072684641623,
         "_deepnote_index_column": "2016-03-11T00:00:00.000000"
        },
        {
         "RSI": 57.72135306575419,
         "_deepnote_index_column": "2016-03-14T00:00:00.000000"
        },
        {
         "RSI": 60.34968305651761,
         "_deepnote_index_column": "2016-03-15T00:00:00.000000"
        },
        {
         "RSI": 59.41375820454229,
         "_deepnote_index_column": "2016-03-16T00:00:00.000000"
        },
        {
         "RSI": 60.08046690438905,
         "_deepnote_index_column": "2016-03-17T00:00:00.000000"
        },
        {
         "RSI": 60.859440381661976,
         "_deepnote_index_column": "2016-03-18T00:00:00.000000"
        },
        {
         "RSI": 70.2930107488204,
         "_deepnote_index_column": "2016-03-21T00:00:00.000000"
        },
        {
         "RSI": 66.00969058196134,
         "_deepnote_index_column": "2016-03-22T00:00:00.000000"
        },
        {
         "RSI": 60.51971791562776,
         "_deepnote_index_column": "2016-03-23T00:00:00.000000"
        },
        {
         "RSI": 62.58731486881185,
         "_deepnote_index_column": "2016-03-24T00:00:00.000000"
        },
        {
         "RSI": 66.0233375658598,
         "_deepnote_index_column": "2016-03-28T00:00:00.000000"
        },
        {
         "RSI": 68.08712043939417,
         "_deepnote_index_column": "2016-03-29T00:00:00.000000"
        },
        {
         "RSI": 74.39314088873587,
         "_deepnote_index_column": "2016-03-30T00:00:00.000000"
        },
        {
         "RSI": 75.45413820229174,
         "_deepnote_index_column": "2016-03-31T00:00:00.000000"
        },
        {
         "RSI": 63.840406055467305,
         "_deepnote_index_column": "2016-04-01T00:00:00.000000"
        },
        {
         "RSI": 64.17651724398338,
         "_deepnote_index_column": "2016-04-04T00:00:00.000000"
        },
        {
         "RSI": 63.96309218943277,
         "_deepnote_index_column": "2016-04-05T00:00:00.000000"
        },
        {
         "RSI": 68.0281012137598,
         "_deepnote_index_column": "2016-04-06T00:00:00.000000"
        },
        {
         "RSI": 66.215429834117,
         "_deepnote_index_column": "2016-04-07T00:00:00.000000"
        },
        {
         "RSI": 68.04912908745237,
         "_deepnote_index_column": "2016-04-08T00:00:00.000000"
        },
        {
         "RSI": 69.33732478427974,
         "_deepnote_index_column": "2016-04-11T00:00:00.000000"
        },
        {
         "RSI": 70.01655839531338,
         "_deepnote_index_column": "2016-04-12T00:00:00.000000"
        },
        {
         "RSI": 64.03357308498391,
         "_deepnote_index_column": "2016-04-13T00:00:00.000000"
        },
        {
         "RSI": 61.736874016719305,
         "_deepnote_index_column": "2016-04-14T00:00:00.000000"
        },
        {
         "RSI": 56.14411229890829,
         "_deepnote_index_column": "2016-04-15T00:00:00.000000"
        },
        {
         "RSI": 57.66144143244578,
         "_deepnote_index_column": "2016-04-18T00:00:00.000000"
        },
        {
         "RSI": 53.04940021621381,
         "_deepnote_index_column": "2016-04-19T00:00:00.000000"
        },
        {
         "RSI": 48.47611128029961,
         "_deepnote_index_column": "2016-04-20T00:00:00.000000"
        },
        {
         "RSI": 44.93888940026837,
         "_deepnote_index_column": "2016-04-21T00:00:00.000000"
        },
        {
         "RSI": 46.02640924724641,
         "_deepnote_index_column": "2016-04-22T00:00:00.000000"
        },
        {
         "RSI": 48.75159204151029,
         "_deepnote_index_column": "2016-04-25T00:00:00.000000"
        },
        {
         "RSI": 54.58009887143325,
         "_deepnote_index_column": "2016-04-26T00:00:00.000000"
        },
        {
         "RSI": 58.928409588194434,
         "_deepnote_index_column": "2016-04-27T00:00:00.000000"
        },
        {
         "RSI": 63.76326049782196,
         "_deepnote_index_column": "2016-04-28T00:00:00.000000"
        },
        {
         "RSI": 58.58672850866537,
         "_deepnote_index_column": "2016-04-29T00:00:00.000000"
        },
        {
         "RSI": 50.11030876511045,
         "_deepnote_index_column": "2016-05-02T00:00:00.000000"
        },
        {
         "RSI": 45.70908837925824,
         "_deepnote_index_column": "2016-05-03T00:00:00.000000"
        },
        {
         "RSI": 45.242257545790494,
         "_deepnote_index_column": "2016-05-04T00:00:00.000000"
        },
        {
         "RSI": 42.58789892609972,
         "_deepnote_index_column": "2016-05-05T00:00:00.000000"
        },
        {
         "RSI": 27.909927582735378,
         "_deepnote_index_column": "2016-05-06T00:00:00.000000"
        },
        {
         "RSI": 26.61823568287801,
         "_deepnote_index_column": "2016-05-09T00:00:00.000000"
        },
        {
         "RSI": 28.071597970573833,
         "_deepnote_index_column": "2016-05-10T00:00:00.000000"
        },
        {
         "RSI": 26.84987672433158,
         "_deepnote_index_column": "2016-05-11T00:00:00.000000"
        },
        {
         "RSI": 25.363884652583963,
         "_deepnote_index_column": "2016-05-12T00:00:00.000000"
        },
        {
         "RSI": 26.243090466020192,
         "_deepnote_index_column": "2016-05-13T00:00:00.000000"
        },
        {
         "RSI": 25.436373106394086,
         "_deepnote_index_column": "2016-05-16T00:00:00.000000"
        },
        {
         "RSI": 25.682405960115275,
         "_deepnote_index_column": "2016-05-17T00:00:00.000000"
        },
        {
         "RSI": 28.477985731394355,
         "_deepnote_index_column": "2016-05-18T00:00:00.000000"
        },
        {
         "RSI": 31.01842244522753,
         "_deepnote_index_column": "2016-05-19T00:00:00.000000"
        },
        {
         "RSI": 29.82069285841304,
         "_deepnote_index_column": "2016-05-20T00:00:00.000000"
        },
        {
         "RSI": 30.78016220657254,
         "_deepnote_index_column": "2016-05-23T00:00:00.000000"
        },
        {
         "RSI": 39.44167109727532,
         "_deepnote_index_column": "2016-05-24T00:00:00.000000"
        },
        {
         "RSI": 38.376944629443564,
         "_deepnote_index_column": "2016-05-25T00:00:00.000000"
        },
        {
         "RSI": 36.48299336856109,
         "_deepnote_index_column": "2016-05-26T00:00:00.000000"
        },
        {
         "RSI": 35.57543589036068,
         "_deepnote_index_column": "2016-05-27T00:00:00.000000"
        },
        {
         "RSI": 34.79856207752637,
         "_deepnote_index_column": "2016-05-31T00:00:00.000000"
        },
        {
         "RSI": 35.85453145517076,
         "_deepnote_index_column": "2016-06-01T00:00:00.000000"
        },
        {
         "RSI": 36.64380803112857,
         "_deepnote_index_column": "2016-06-02T00:00:00.000000"
        },
        {
         "RSI": 34.887090513465736,
         "_deepnote_index_column": "2016-06-03T00:00:00.000000"
        },
        {
         "RSI": 35.759883713014375,
         "_deepnote_index_column": "2016-06-06T00:00:00.000000"
        },
        {
         "RSI": 36.85372025636437,
         "_deepnote_index_column": "2016-06-07T00:00:00.000000"
        },
        {
         "RSI": 36.62982879841844,
         "_deepnote_index_column": "2016-06-08T00:00:00.000000"
        },
        {
         "RSI": 34.27520727627511,
         "_deepnote_index_column": "2016-06-09T00:00:00.000000"
        },
        {
         "RSI": 32.155223010564924,
         "_deepnote_index_column": "2016-06-10T00:00:00.000000"
        },
        {
         "RSI": 29.960028161768875,
         "_deepnote_index_column": "2016-06-13T00:00:00.000000"
        },
        {
         "RSI": 29.662649126608855,
         "_deepnote_index_column": "2016-06-14T00:00:00.000000"
        },
        {
         "RSI": 33.67990662803591,
         "_deepnote_index_column": "2016-06-15T00:00:00.000000"
        },
        {
         "RSI": 33.558486263368195,
         "_deepnote_index_column": "2016-06-16T00:00:00.000000"
        },
        {
         "RSI": 33.42870116211118,
         "_deepnote_index_column": "2016-06-17T00:00:00.000000"
        },
        {
         "RSI": 37.58768363907977,
         "_deepnote_index_column": "2016-06-20T00:00:00.000000"
        },
        {
         "RSI": 41.29077509168331,
         "_deepnote_index_column": "2016-06-21T00:00:00.000000"
        },
        {
         "RSI": 33.223802367554086,
         "_deepnote_index_column": "2016-06-22T00:00:00.000000"
        },
        {
         "RSI": 40.86373136658209,
         "_deepnote_index_column": "2016-06-23T00:00:00.000000"
        },
        {
         "RSI": 36.26748472304855,
         "_deepnote_index_column": "2016-06-24T00:00:00.000000"
        },
        {
         "RSI": 34.524978894581835,
         "_deepnote_index_column": "2016-06-27T00:00:00.000000"
        },
        {
         "RSI": 40.29184464732517,
         "_deepnote_index_column": "2016-06-28T00:00:00.000000"
        },
        {
         "RSI": 47.41704183582806,
         "_deepnote_index_column": "2016-06-29T00:00:00.000000"
        },
        {
         "RSI": 43.89163627819623,
         "_deepnote_index_column": "2016-06-30T00:00:00.000000"
        },
        {
         "RSI": 47.584809512146094,
         "_deepnote_index_column": "2016-07-01T00:00:00.000000"
        },
        {
         "RSI": 43.011474873808496,
         "_deepnote_index_column": "2016-07-05T00:00:00.000000"
        },
        {
         "RSI": 44.0641128935436,
         "_deepnote_index_column": "2016-07-06T00:00:00.000000"
        },
        {
         "RSI": 45.5093321313308,
         "_deepnote_index_column": "2016-07-07T00:00:00.000000"
        },
        {
         "RSI": 49.382465980904364,
         "_deepnote_index_column": "2016-07-08T00:00:00.000000"
        },
        {
         "RSI": 48.3726186168026,
         "_deepnote_index_column": "2016-07-11T00:00:00.000000"
        },
        {
         "RSI": 51.23633040451233,
         "_deepnote_index_column": "2016-07-12T00:00:00.000000"
        },
        {
         "RSI": 49.21515273486083,
         "_deepnote_index_column": "2016-07-13T00:00:00.000000"
        },
        {
         "RSI": 50.737201203157596,
         "_deepnote_index_column": "2016-07-14T00:00:00.000000"
        },
        {
         "RSI": 46.948900458733135,
         "_deepnote_index_column": "2016-07-15T00:00:00.000000"
        },
        {
         "RSI": 48.999356018574495,
         "_deepnote_index_column": "2016-07-18T00:00:00.000000"
        },
        {
         "RSI": 50.64288855605408,
         "_deepnote_index_column": "2016-07-19T00:00:00.000000"
        },
        {
         "RSI": 55.12074688651999,
         "_deepnote_index_column": "2016-07-20T00:00:00.000000"
        },
        {
         "RSI": 52.44723713445648,
         "_deepnote_index_column": "2016-07-21T00:00:00.000000"
        },
        {
         "RSI": 57.44817736491945,
         "_deepnote_index_column": "2016-07-22T00:00:00.000000"
        },
        {
         "RSI": 59.4874330021768,
         "_deepnote_index_column": "2016-07-25T00:00:00.000000"
        },
        {
         "RSI": 63.42050272765081,
         "_deepnote_index_column": "2016-07-26T00:00:00.000000"
        },
        {
         "RSI": 63.87374137404849,
         "_deepnote_index_column": "2016-07-27T00:00:00.000000"
        },
        {
         "RSI": 63.59088802479476,
         "_deepnote_index_column": "2016-07-28T00:00:00.000000"
        },
        {
         "RSI": 62.10991779392437,
         "_deepnote_index_column": "2016-07-29T00:00:00.000000"
        },
        {
         "RSI": 64.26114334621484,
         "_deepnote_index_column": "2016-08-01T00:00:00.000000"
        },
        {
         "RSI": 59.98241842958516,
         "_deepnote_index_column": "2016-08-02T00:00:00.000000"
        },
        {
         "RSI": 66.64508685079639,
         "_deepnote_index_column": "2016-08-03T00:00:00.000000"
        },
        {
         "RSI": 76.25269333864085,
         "_deepnote_index_column": "2016-08-04T00:00:00.000000"
        },
        {
         "RSI": 71.9416081455331,
         "_deepnote_index_column": "2016-08-05T00:00:00.000000"
        },
        {
         "RSI": 73.00512269809722,
         "_deepnote_index_column": "2016-08-08T00:00:00.000000"
        },
        {
         "RSI": 73.39995457172549,
         "_deepnote_index_column": "2016-08-09T00:00:00.000000"
        },
        {
         "RSI": 67.30420747844954,
         "_deepnote_index_column": "2016-08-10T00:00:00.000000"
        },
        {
         "RSI": 70.71991674667967,
         "_deepnote_index_column": "2016-08-11T00:00:00.000000"
        },
        {
         "RSI": 73.59193206055073,
         "_deepnote_index_column": "2016-08-12T00:00:00.000000"
        },
        {
         "RSI": 69.06374311074617,
         "_deepnote_index_column": "2016-08-15T00:00:00.000000"
        },
        {
         "RSI": 70.78458135236804,
         "_deepnote_index_column": "2016-08-16T00:00:00.000000"
        },
        {
         "RSI": 64.94855978711085,
         "_deepnote_index_column": "2016-08-17T00:00:00.000000"
        },
        {
         "RSI": 68.96687808983944,
         "_deepnote_index_column": "2016-08-18T00:00:00.000000"
        },
        {
         "RSI": 69.50472520821174,
         "_deepnote_index_column": "2016-08-19T00:00:00.000000"
        },
        {
         "RSI": 69.73070413734337,
         "_deepnote_index_column": "2016-08-22T00:00:00.000000"
        },
        {
         "RSI": 75.33958886036802,
         "_deepnote_index_column": "2016-08-23T00:00:00.000000"
        },
        {
         "RSI": 69.72520500814478,
         "_deepnote_index_column": "2016-08-24T00:00:00.000000"
        },
        {
         "RSI": 71.23095585228744,
         "_deepnote_index_column": "2016-08-25T00:00:00.000000"
        },
        {
         "RSI": 64.96736442235687,
         "_deepnote_index_column": "2016-08-26T00:00:00.000000"
        },
        {
         "RSI": 64.29090498492951,
         "_deepnote_index_column": "2016-08-29T00:00:00.000000"
        },
        {
         "RSI": 65.07416858372588,
         "_deepnote_index_column": "2016-08-30T00:00:00.000000"
        },
        {
         "RSI": 66.64976896486064,
         "_deepnote_index_column": "2016-08-31T00:00:00.000000"
        },
        {
         "RSI": 61.88907963593016,
         "_deepnote_index_column": "2016-09-01T00:00:00.000000"
        },
        {
         "RSI": 62.64525183877098,
         "_deepnote_index_column": "2016-09-02T00:00:00.000000"
        },
        {
         "RSI": 57.26166782162013,
         "_deepnote_index_column": "2016-09-06T00:00:00.000000"
        },
        {
         "RSI": 58.986982019386545,
         "_deepnote_index_column": "2016-09-07T00:00:00.000000"
        },
        {
         "RSI": 55.37582183753853,
         "_deepnote_index_column": "2016-09-08T00:00:00.000000"
        },
        {
         "RSI": 45.23588987460102,
         "_deepnote_index_column": "2016-09-09T00:00:00.000000"
        },
        {
         "RSI": 46.4775796641436,
         "_deepnote_index_column": "2016-09-12T00:00:00.000000"
        },
        {
         "RSI": 44.660075224461664,
         "_deepnote_index_column": "2016-09-13T00:00:00.000000"
        },
        {
         "RSI": 45.801311175750726,
         "_deepnote_index_column": "2016-09-14T00:00:00.000000"
        },
        {
         "RSI": 48.10628664384868,
         "_deepnote_index_column": "2016-09-15T00:00:00.000000"
        },
        {
         "RSI": 47.88696182549796,
         "_deepnote_index_column": "2016-09-16T00:00:00.000000"
        },
        {
         "RSI": 52.11853054865708,
         "_deepnote_index_column": "2016-09-19T00:00:00.000000"
        },
        {
         "RSI": 54.54746548856456,
         "_deepnote_index_column": "2016-09-20T00:00:00.000000"
        },
        {
         "RSI": 59.38813593810209,
         "_deepnote_index_column": "2016-09-21T00:00:00.000000"
        },
        {
         "RSI": 53.738409713781834,
         "_deepnote_index_column": "2016-09-22T00:00:00.000000"
        },
        {
         "RSI": 56.758903327159004,
         "_deepnote_index_column": "2016-09-23T00:00:00.000000"
        },
        {
         "RSI": 50.17347951072705,
         "_deepnote_index_column": "2016-09-26T00:00:00.000000"
        },
        {
         "RSI": 54.81149065194795,
         "_deepnote_index_column": "2016-09-27T00:00:00.000000"
        },
        {
         "RSI": 55.77524431626191,
         "_deepnote_index_column": "2016-09-28T00:00:00.000000"
        },
        {
         "RSI": 51.29806323718872,
         "_deepnote_index_column": "2016-09-29T00:00:00.000000"
        },
        {
         "RSI": 51.737227221115035,
         "_deepnote_index_column": "2016-09-30T00:00:00.000000"
        },
        {
         "RSI": 51.97044649004098,
         "_deepnote_index_column": "2016-10-03T00:00:00.000000"
        },
        {
         "RSI": 50.91071538827724,
         "_deepnote_index_column": "2016-10-04T00:00:00.000000"
        },
        {
         "RSI": 52.4761095494648,
         "_deepnote_index_column": "2016-10-05T00:00:00.000000"
        },
        {
         "RSI": 47.82285818127411,
         "_deepnote_index_column": "2016-10-06T00:00:00.000000"
        },
        {
         "RSI": 46.77189433007498,
         "_deepnote_index_column": "2016-10-07T00:00:00.000000"
        },
        {
         "RSI": 46.49681451499244,
         "_deepnote_index_column": "2016-10-10T00:00:00.000000"
        },
        {
         "RSI": 39.28120997191813,
         "_deepnote_index_column": "2016-10-11T00:00:00.000000"
        },
        {
         "RSI": 42.275144937421196,
         "_deepnote_index_column": "2016-10-12T00:00:00.000000"
        },
        {
         "RSI": 40.369638996569634,
         "_deepnote_index_column": "2016-10-13T00:00:00.000000"
        },
        {
         "RSI": 38.724883298750285,
         "_deepnote_index_column": "2016-10-14T00:00:00.000000"
        },
        {
         "RSI": 34.60379904468574,
         "_deepnote_index_column": "2016-10-17T00:00:00.000000"
        },
        {
         "RSI": 47.57010106250398,
         "_deepnote_index_column": "2016-10-18T00:00:00.000000"
        },
        {
         "RSI": 46.599358400975376,
         "_deepnote_index_column": "2016-10-19T00:00:00.000000"
        },
        {
         "RSI": 43.94361550039218,
         "_deepnote_index_column": "2016-10-20T00:00:00.000000"
        },
        {
         "RSI": 47.73461371287774,
         "_deepnote_index_column": "2016-10-21T00:00:00.000000"
        },
        {
         "RSI": 48.59853883778017,
         "_deepnote_index_column": "2016-10-24T00:00:00.000000"
        },
        {
         "RSI": 41.67469922744627,
         "_deepnote_index_column": "2016-10-25T00:00:00.000000"
        },
        {
         "RSI": 45.83030965790427,
         "_deepnote_index_column": "2016-10-26T00:00:00.000000"
        },
        {
         "RSI": 44.37119689994671,
         "_deepnote_index_column": "2016-10-27T00:00:00.000000"
        },
        {
         "RSI": 44.119103393896665,
         "_deepnote_index_column": "2016-10-28T00:00:00.000000"
        },
        {
         "RSI": 46.09802565564376,
         "_deepnote_index_column": "2016-10-31T00:00:00.000000"
        },
        {
         "RSI": 42.579602992492205,
         "_deepnote_index_column": "2016-11-01T00:00:00.000000"
        },
        {
         "RSI": 60.370097184720194,
         "_deepnote_index_column": "2016-11-02T00:00:00.000000"
        },
        {
         "RSI": 63.92981726787014,
         "_deepnote_index_column": "2016-11-03T00:00:00.000000"
        },
        {
         "RSI": 66.83266066409642,
         "_deepnote_index_column": "2016-11-04T00:00:00.000000"
        },
        {
         "RSI": 67.42698385611664,
         "_deepnote_index_column": "2016-11-07T00:00:00.000000"
        },
        {
         "RSI": 69.20950485520144,
         "_deepnote_index_column": "2016-11-08T00:00:00.000000"
        },
        {
         "RSI": 59.30659874512238,
         "_deepnote_index_column": "2016-11-09T00:00:00.000000"
        },
        {
         "RSI": 51.18706264861099,
         "_deepnote_index_column": "2016-11-10T00:00:00.000000"
        },
        {
         "RSI": 55.498732671233704,
         "_deepnote_index_column": "2016-11-11T00:00:00.000000"
        },
        {
         "RSI": 62.74129645580763,
         "_deepnote_index_column": "2016-11-14T00:00:00.000000"
        },
        {
         "RSI": 56.05243954490219,
         "_deepnote_index_column": "2016-11-15T00:00:00.000000"
        },
        {
         "RSI": 56.20955594910041,
         "_deepnote_index_column": "2016-11-16T00:00:00.000000"
        },
        {
         "RSI": 59.047569260519005,
         "_deepnote_index_column": "2016-11-17T00:00:00.000000"
        },
        {
         "RSI": 57.70506780776692,
         "_deepnote_index_column": "2016-11-18T00:00:00.000000"
        },
        {
         "RSI": 58.715902681409595,
         "_deepnote_index_column": "2016-11-21T00:00:00.000000"
        },
        {
         "RSI": 62.56943889236611,
         "_deepnote_index_column": "2016-11-22T00:00:00.000000"
        },
        {
         "RSI": 61.793000185245106,
         "_deepnote_index_column": "2016-11-23T00:00:00.000000"
        },
        {
         "RSI": 66.55983581613815,
         "_deepnote_index_column": "2016-11-25T00:00:00.000000"
        },
        {
         "RSI": 60.93141178413972,
         "_deepnote_index_column": "2016-11-28T00:00:00.000000"
        },
        {
         "RSI": 59.21560508109235,
         "_deepnote_index_column": "2016-11-29T00:00:00.000000"
        },
        {
         "RSI": 66.23665345879863,
         "_deepnote_index_column": "2016-11-30T00:00:00.000000"
        },
        {
         "RSI": 60.83265124318244,
         "_deepnote_index_column": "2016-12-01T00:00:00.000000"
        },
        {
         "RSI": 65.45186419149579,
         "_deepnote_index_column": "2016-12-02T00:00:00.000000"
        },
        {
         "RSI": 67.12214537144062,
         "_deepnote_index_column": "2016-12-05T00:00:00.000000"
        },
        {
         "RSI": 67.95634056155774,
         "_deepnote_index_column": "2016-12-06T00:00:00.000000"
        },
        {
         "RSI": 75.93943525321083,
         "_deepnote_index_column": "2016-12-07T00:00:00.000000"
        },
        {
         "RSI": 71.8568377489226,
         "_deepnote_index_column": "2016-12-08T00:00:00.000000"
        },
        {
         "RSI": 70.71951610914715,
         "_deepnote_index_column": "2016-12-09T00:00:00.000000"
        },
        {
         "RSI": 69.76813786421081,
         "_deepnote_index_column": "2016-12-12T00:00:00.000000"
        },
        {
         "RSI": 71.99929107766854,
         "_deepnote_index_column": "2016-12-13T00:00:00.000000"
        },
        {
         "RSI": 66.25474559666739,
         "_deepnote_index_column": "2016-12-14T00:00:00.000000"
        },
        {
         "RSI": 69.52761914598204,
         "_deepnote_index_column": "2016-12-15T00:00:00.000000"
        },
        {
         "RSI": 71.96756663232459,
         "_deepnote_index_column": "2016-12-16T00:00:00.000000"
        },
        {
         "RSI": 71.47449524744299,
         "_deepnote_index_column": "2016-12-19T00:00:00.000000"
        },
        {
         "RSI": 72.68375489543995,
         "_deepnote_index_column": "2016-12-20T00:00:00.000000"
        },
        {
         "RSI": 70.01990879618728,
         "_deepnote_index_column": "2016-12-21T00:00:00.000000"
        },
        {
         "RSI": 61.950896479015434,
         "_deepnote_index_column": "2016-12-22T00:00:00.000000"
        },
        {
         "RSI": 62.23493623498589,
         "_deepnote_index_column": "2016-12-23T00:00:00.000000"
        },
        {
         "RSI": 60.53168364197923,
         "_deepnote_index_column": "2016-12-27T00:00:00.000000"
        },
        {
         "RSI": 59.283611582387884,
         "_deepnote_index_column": "2016-12-28T00:00:00.000000"
        },
        {
         "RSI": 54.007132104271996,
         "_deepnote_index_column": "2016-12-29T00:00:00.000000"
        },
        {
         "RSI": 51.75237941960788,
         "_deepnote_index_column": "2016-12-30T00:00:00.000000"
        },
        {
         "RSI": 55.36470291857503,
         "_deepnote_index_column": "2017-01-03T00:00:00.000000"
        },
        {
         "RSI": 62.71363858107485,
         "_deepnote_index_column": "2017-01-04T00:00:00.000000"
        },
        {
         "RSI": 66.85428469215131,
         "_deepnote_index_column": "2017-01-05T00:00:00.000000"
        },
        {
         "RSI": 71.66411310606327,
         "_deepnote_index_column": "2017-01-06T00:00:00.000000"
        },
        {
         "RSI": 72.25535882466913,
         "_deepnote_index_column": "2017-01-09T00:00:00.000000"
        },
        {
         "RSI": 68.41220222871219,
         "_deepnote_index_column": "2017-01-10T00:00:00.000000"
        },
        {
         "RSI": 68.15194787729608,
         "_deepnote_index_column": "2017-01-11T00:00:00.000000"
        },
        {
         "RSI": 63.95953507351749,
         "_deepnote_index_column": "2017-01-12T00:00:00.000000"
        },
        {
         "RSI": 64.10814803491479,
         "_deepnote_index_column": "2017-01-13T00:00:00.000000"
        },
        {
         "RSI": 62.44439523842983,
         "_deepnote_index_column": "2017-01-17T00:00:00.000000"
        },
        {
         "RSI": 61.023166182349996,
         "_deepnote_index_column": "2017-01-18T00:00:00.000000"
        },
        {
         "RSI": 62.670140833831155,
         "_deepnote_index_column": "2017-01-19T00:00:00.000000"
        },
        {
         "RSI": 65.46409570152767,
         "_deepnote_index_column": "2017-01-20T00:00:00.000000"
        },
        {
         "RSI": 57.371614010540775,
         "_deepnote_index_column": "2017-01-23T00:00:00.000000"
        },
        {
         "RSI": 58.36146816119372,
         "_deepnote_index_column": "2017-01-24T00:00:00.000000"
        },
        {
         "RSI": 56.66119592686584,
         "_deepnote_index_column": "2017-01-25T00:00:00.000000"
        },
        {
         "RSI": 51.54045694654313,
         "_deepnote_index_column": "2017-01-26T00:00:00.000000"
        },
        {
         "RSI": 54.34672732106087,
         "_deepnote_index_column": "2017-01-27T00:00:00.000000"
        },
        {
         "RSI": 52.177395349888236,
         "_deepnote_index_column": "2017-01-30T00:00:00.000000"
        },
        {
         "RSI": 56.18022400550545,
         "_deepnote_index_column": "2017-01-31T00:00:00.000000"
        },
        {
         "RSI": 49.37351591542205,
         "_deepnote_index_column": "2017-02-01T00:00:00.000000"
        },
        {
         "RSI": 49.37351591542205,
         "_deepnote_index_column": "2017-02-02T00:00:00.000000"
        },
        {
         "RSI": 47.327303886854416,
         "_deepnote_index_column": "2017-02-03T00:00:00.000000"
        },
        {
         "RSI": 50.63233182750886,
         "_deepnote_index_column": "2017-02-06T00:00:00.000000"
        },
        {
         "RSI": 50.63233182750887,
         "_deepnote_index_column": "2017-02-07T00:00:00.000000"
        },
        {
         "RSI": 52.642662338545755,
         "_deepnote_index_column": "2017-02-08T00:00:00.000000"
        },
        {
         "RSI": 59.27597282150901,
         "_deepnote_index_column": "2017-02-09T00:00:00.000000"
        },
        {
         "RSI": 55.41776654519966,
         "_deepnote_index_column": "2017-02-10T00:00:00.000000"
        },
        {
         "RSI": 52.071923569203975,
         "_deepnote_index_column": "2017-02-13T00:00:00.000000"
        },
        {
         "RSI": 47.31727191954784,
         "_deepnote_index_column": "2017-02-14T00:00:00.000000"
        },
        {
         "RSI": 46.776150956126244,
         "_deepnote_index_column": "2017-02-15T00:00:00.000000"
        },
        {
         "RSI": 37.16415199779911,
         "_deepnote_index_column": "2017-02-16T00:00:00.000000"
        },
        {
         "RSI": 51.87203021273981,
         "_deepnote_index_column": "2017-02-17T00:00:00.000000"
        },
        {
         "RSI": 55.00113710735223,
         "_deepnote_index_column": "2017-02-21T00:00:00.000000"
        },
        {
         "RSI": 61.84662796691578,
         "_deepnote_index_column": "2017-02-22T00:00:00.000000"
        },
        {
         "RSI": 79.29950783923474,
         "_deepnote_index_column": "2017-02-23T00:00:00.000000"
        },
        {
         "RSI": 80.56971549761369,
         "_deepnote_index_column": "2017-02-24T00:00:00.000000"
        },
        {
         "RSI": 82.62052913591738,
         "_deepnote_index_column": "2017-02-27T00:00:00.000000"
        },
        {
         "RSI": 72.55860760960219,
         "_deepnote_index_column": "2017-02-28T00:00:00.000000"
        },
        {
         "RSI": 71.03139545742846,
         "_deepnote_index_column": "2017-03-01T00:00:00.000000"
        },
        {
         "RSI": 67.51174324545609,
         "_deepnote_index_column": "2017-03-02T00:00:00.000000"
        },
        {
         "RSI": 65.98091279417966,
         "_deepnote_index_column": "2017-03-03T00:00:00.000000"
        },
        {
         "RSI": 65.50108777171766,
         "_deepnote_index_column": "2017-03-06T00:00:00.000000"
        },
        {
         "RSI": 63.83459498809576,
         "_deepnote_index_column": "2017-03-07T00:00:00.000000"
        },
        {
         "RSI": 64.51517127293675,
         "_deepnote_index_column": "2017-03-08T00:00:00.000000"
        },
        {
         "RSI": 66.82059836541868,
         "_deepnote_index_column": "2017-03-09T00:00:00.000000"
        },
        {
         "RSI": 63.84267721610587,
         "_deepnote_index_column": "2017-03-10T00:00:00.000000"
        },
        {
         "RSI": 64.05830584860726,
         "_deepnote_index_column": "2017-03-13T00:00:00.000000"
        },
        {
         "RSI": 60.9279682711358,
         "_deepnote_index_column": "2017-03-14T00:00:00.000000"
        },
        {
         "RSI": 63.11190622363607,
         "_deepnote_index_column": "2017-03-15T00:00:00.000000"
        },
        {
         "RSI": 66.06266696778867,
         "_deepnote_index_column": "2017-03-16T00:00:00.000000"
        },
        {
         "RSI": 66.83195638637065,
         "_deepnote_index_column": "2017-03-17T00:00:00.000000"
        },
        {
         "RSI": 65.91250974268408,
         "_deepnote_index_column": "2017-03-20T00:00:00.000000"
        },
        {
         "RSI": 51.88395907320133,
         "_deepnote_index_column": "2017-03-21T00:00:00.000000"
        },
        {
         "RSI": 50.30447472249282,
         "_deepnote_index_column": "2017-03-22T00:00:00.000000"
        },
        {
         "RSI": 53.36244111857032,
         "_deepnote_index_column": "2017-03-23T00:00:00.000000"
        },
        {
         "RSI": 53.01114321334428,
         "_deepnote_index_column": "2017-03-24T00:00:00.000000"
        },
        {
         "RSI": 61.92005679556655,
         "_deepnote_index_column": "2017-03-27T00:00:00.000000"
        },
        {
         "RSI": 61.53928645925257,
         "_deepnote_index_column": "2017-03-28T00:00:00.000000"
        },
        {
         "RSI": 61.33618958388301,
         "_deepnote_index_column": "2017-03-29T00:00:00.000000"
        },
        {
         "RSI": 62.66317033747943,
         "_deepnote_index_column": "2017-03-30T00:00:00.000000"
        },
        {
         "RSI": 61.75025402129615,
         "_deepnote_index_column": "2017-03-31T00:00:00.000000"
        },
        {
         "RSI": 56.23574874128858,
         "_deepnote_index_column": "2017-04-03T00:00:00.000000"
        },
        {
         "RSI": 56.403464704053576,
         "_deepnote_index_column": "2017-04-04T00:00:00.000000"
        },
        {
         "RSI": 50.37453699339411,
         "_deepnote_index_column": "2017-04-05T00:00:00.000000"
        },
        {
         "RSI": 54.85449677974935,
         "_deepnote_index_column": "2017-04-06T00:00:00.000000"
        },
        {
         "RSI": 48.95309335506263,
         "_deepnote_index_column": "2017-04-07T00:00:00.000000"
        },
        {
         "RSI": 54.09950292255968,
         "_deepnote_index_column": "2017-04-10T00:00:00.000000"
        },
        {
         "RSI": 52.762834422342195,
         "_deepnote_index_column": "2017-04-11T00:00:00.000000"
        },
        {
         "RSI": 58.72481601605683,
         "_deepnote_index_column": "2017-04-12T00:00:00.000000"
        },
        {
         "RSI": 51.69790536776351,
         "_deepnote_index_column": "2017-04-13T00:00:00.000000"
        },
        {
         "RSI": 54.183803964249044,
         "_deepnote_index_column": "2017-04-17T00:00:00.000000"
        },
        {
         "RSI": 52.36969140067347,
         "_deepnote_index_column": "2017-04-18T00:00:00.000000"
        },
        {
         "RSI": 55.870227386548514,
         "_deepnote_index_column": "2017-04-19T00:00:00.000000"
        },
        {
         "RSI": 62.71173303850325,
         "_deepnote_index_column": "2017-04-20T00:00:00.000000"
        },
        {
         "RSI": 58.49862206394914,
         "_deepnote_index_column": "2017-04-21T00:00:00.000000"
        },
        {
         "RSI": 62.891906604051464,
         "_deepnote_index_column": "2017-04-24T00:00:00.000000"
        },
        {
         "RSI": 66.78378189738744,
         "_deepnote_index_column": "2017-04-25T00:00:00.000000"
        },
        {
         "RSI": 64.04664200355901,
         "_deepnote_index_column": "2017-04-26T00:00:00.000000"
        },
        {
         "RSI": 65.67012199754912,
         "_deepnote_index_column": "2017-04-27T00:00:00.000000"
        },
        {
         "RSI": 65.78105953188982,
         "_deepnote_index_column": "2017-04-28T00:00:00.000000"
        },
        {
         "RSI": 69.68450698145098,
         "_deepnote_index_column": "2017-05-01T00:00:00.000000"
        },
        {
         "RSI": 71.57221282035555,
         "_deepnote_index_column": "2017-05-02T00:00:00.000000"
        },
        {
         "RSI": 60.77257134982662,
         "_deepnote_index_column": "2017-05-03T00:00:00.000000"
        },
        {
         "RSI": 73.79062586461036,
         "_deepnote_index_column": "2017-05-04T00:00:00.000000"
        },
        {
         "RSI": 71.88754504147175,
         "_deepnote_index_column": "2017-05-05T00:00:00.000000"
        },
        {
         "RSI": 68.40439304538788,
         "_deepnote_index_column": "2017-05-08T00:00:00.000000"
        },
        {
         "RSI": 70.1060517972829,
         "_deepnote_index_column": "2017-05-09T00:00:00.000000"
        },
        {
         "RSI": 71.15181602258895,
         "_deepnote_index_column": "2017-05-10T00:00:00.000000"
        },
        {
         "RSI": 67.10679936439914,
         "_deepnote_index_column": "2017-05-11T00:00:00.000000"
        },
        {
         "RSI": 69.94369302314408,
         "_deepnote_index_column": "2017-05-12T00:00:00.000000"
        },
        {
         "RSI": 71.17383402945798,
         "_deepnote_index_column": "2017-05-15T00:00:00.000000"
        },
        {
         "RSI": 71.8311396822114,
         "_deepnote_index_column": "2017-05-16T00:00:00.000000"
        },
        {
         "RSI": 59.2264392097282,
         "_deepnote_index_column": "2017-05-17T00:00:00.000000"
        },
        {
         "RSI": 60.3783692417574,
         "_deepnote_index_column": "2017-05-18T00:00:00.000000"
        },
        {
         "RSI": 62.561564237313924,
         "_deepnote_index_column": "2017-05-19T00:00:00.000000"
        },
        {
         "RSI": 70.48184853740722,
         "_deepnote_index_column": "2017-05-22T00:00:00.000000"
        },
        {
         "RSI": 74.35779393327621,
         "_deepnote_index_column": "2017-05-23T00:00:00.000000"
        },
        {
         "RSI": 75.74937036746373,
         "_deepnote_index_column": "2017-05-24T00:00:00.000000"
        },
        {
         "RSI": 77.66108489044395,
         "_deepnote_index_column": "2017-05-25T00:00:00.000000"
        },
        {
         "RSI": 77.66108489044396,
         "_deepnote_index_column": "2017-05-26T00:00:00.000000"
        },
        {
         "RSI": 79.53235808924205,
         "_deepnote_index_column": "2017-05-30T00:00:00.000000"
        },
        {
         "RSI": 80.59951598444937,
         "_deepnote_index_column": "2017-05-31T00:00:00.000000"
        },
        {
         "RSI": 81.59178201156124,
         "_deepnote_index_column": "2017-06-01T00:00:00.000000"
        },
        {
         "RSI": 81.03387782774399,
         "_deepnote_index_column": "2017-06-02T00:00:00.000000"
        },
        {
         "RSI": 81.87901380836578,
         "_deepnote_index_column": "2017-06-05T00:00:00.000000"
        },
        {
         "RSI": 84.98809324425575,
         "_deepnote_index_column": "2017-06-06T00:00:00.000000"
        },
        {
         "RSI": 85.2539192804391,
         "_deepnote_index_column": "2017-06-07T00:00:00.000000"
        },
        {
         "RSI": 86.79612940534945,
         "_deepnote_index_column": "2017-06-08T00:00:00.000000"
        },
        {
         "RSI": 61.89784893630609,
         "_deepnote_index_column": "2017-06-09T00:00:00.000000"
        },
        {
         "RSI": 65.38123656435525,
         "_deepnote_index_column": "2017-06-12T00:00:00.000000"
        },
        {
         "RSI": 64.05356707752836,
         "_deepnote_index_column": "2017-06-13T00:00:00.000000"
        },
        {
         "RSI": 63.937047269609714,
         "_deepnote_index_column": "2017-06-14T00:00:00.000000"
        },
        {
         "RSI": 67.27105717999004,
         "_deepnote_index_column": "2017-06-15T00:00:00.000000"
        },
        {
         "RSI": 62.15395494700067,
         "_deepnote_index_column": "2017-06-16T00:00:00.000000"
        },
        {
         "RSI": 66.26686590420816,
         "_deepnote_index_column": "2017-06-19T00:00:00.000000"
        },
        {
         "RSI": 62.28070632034826,
         "_deepnote_index_column": "2017-06-20T00:00:00.000000"
        },
        {
         "RSI": 64.32747700599455,
         "_deepnote_index_column": "2017-06-21T00:00:00.000000"
        },
        {
         "RSI": 65.11657826482391,
         "_deepnote_index_column": "2017-06-22T00:00:00.000000"
        },
        {
         "RSI": 63.7250106242874,
         "_deepnote_index_column": "2017-06-23T00:00:00.000000"
        },
        {
         "RSI": 60.67819737028203,
         "_deepnote_index_column": "2017-06-26T00:00:00.000000"
        },
        {
         "RSI": 53.65621008474208,
         "_deepnote_index_column": "2017-06-27T00:00:00.000000"
        },
        {
         "RSI": 61.38725701227867,
         "_deepnote_index_column": "2017-06-28T00:00:00.000000"
        },
        {
         "RSI": 52.693543866093265,
         "_deepnote_index_column": "2017-06-29T00:00:00.000000"
        },
        {
         "RSI": 53.16969389768512,
         "_deepnote_index_column": "2017-06-30T00:00:00.000000"
        },
        {
         "RSI": 47.73654446116662,
         "_deepnote_index_column": "2017-07-03T00:00:00.000000"
        },
        {
         "RSI": 55.040191058532976,
         "_deepnote_index_column": "2017-07-05T00:00:00.000000"
        },
        {
         "RSI": 50.61701479069968,
         "_deepnote_index_column": "2017-07-06T00:00:00.000000"
        },
        {
         "RSI": 53.38144733164644,
         "_deepnote_index_column": "2017-07-07T00:00:00.000000"
        },
        {
         "RSI": 55.896528054711524,
         "_deepnote_index_column": "2017-07-10T00:00:00.000000"
        },
        {
         "RSI": 64.68899339841484,
         "_deepnote_index_column": "2017-07-11T00:00:00.000000"
        },
        {
         "RSI": 68.19430119884363,
         "_deepnote_index_column": "2017-07-12T00:00:00.000000"
        },
        {
         "RSI": 66.08404856792635,
         "_deepnote_index_column": "2017-07-13T00:00:00.000000"
        },
        {
         "RSI": 67.72098878625975,
         "_deepnote_index_column": "2017-07-14T00:00:00.000000"
        },
        {
         "RSI": 66.34169218105782,
         "_deepnote_index_column": "2017-07-17T00:00:00.000000"
        },
        {
         "RSI": 68.32662940937267,
         "_deepnote_index_column": "2017-07-18T00:00:00.000000"
        },
        {
         "RSI": 65.91938747433625,
         "_deepnote_index_column": "2017-07-19T00:00:00.000000"
        },
        {
         "RSI": 66.08721165557785,
         "_deepnote_index_column": "2017-07-20T00:00:00.000000"
        },
        {
         "RSI": 68.6375456301584,
         "_deepnote_index_column": "2017-07-21T00:00:00.000000"
        },
        {
         "RSI": 67.45001940849085,
         "_deepnote_index_column": "2017-07-24T00:00:00.000000"
        },
        {
         "RSI": 68.27750041110053,
         "_deepnote_index_column": "2017-07-25T00:00:00.000000"
        },
        {
         "RSI": 70.6851992077101,
         "_deepnote_index_column": "2017-07-26T00:00:00.000000"
        },
        {
         "RSI": 55.63525849372068,
         "_deepnote_index_column": "2017-07-27T00:00:00.000000"
        },
        {
         "RSI": 57.593938162453696,
         "_deepnote_index_column": "2017-07-28T00:00:00.000000"
        },
        {
         "RSI": 58.64722311482558,
         "_deepnote_index_column": "2017-07-31T00:00:00.000000"
        },
        {
         "RSI": 61.78220516259734,
         "_deepnote_index_column": "2017-08-01T00:00:00.000000"
        },
        {
         "RSI": 58.16879954885128,
         "_deepnote_index_column": "2017-08-02T00:00:00.000000"
        },
        {
         "RSI": 47.55667051488927,
         "_deepnote_index_column": "2017-08-03T00:00:00.000000"
        },
        {
         "RSI": 47.48143735611771,
         "_deepnote_index_column": "2017-08-04T00:00:00.000000"
        },
        {
         "RSI": 51.37486745827709,
         "_deepnote_index_column": "2017-08-07T00:00:00.000000"
        },
        {
         "RSI": 54.02984197429579,
         "_deepnote_index_column": "2017-08-08T00:00:00.000000"
        },
        {
         "RSI": 50.28998174188766,
         "_deepnote_index_column": "2017-08-09T00:00:00.000000"
        },
        {
         "RSI": 43.24330187368177,
         "_deepnote_index_column": "2017-08-10T00:00:00.000000"
        },
        {
         "RSI": 44.751063499496766,
         "_deepnote_index_column": "2017-08-11T00:00:00.000000"
        },
        {
         "RSI": 48.07183450508132,
         "_deepnote_index_column": "2017-08-14T00:00:00.000000"
        },
        {
         "RSI": 45.221705496761594,
         "_deepnote_index_column": "2017-08-15T00:00:00.000000"
        },
        {
         "RSI": 46.693527561046714,
         "_deepnote_index_column": "2017-08-16T00:00:00.000000"
        },
        {
         "RSI": 43.17953163172419,
         "_deepnote_index_column": "2017-08-17T00:00:00.000000"
        },
        {
         "RSI": 45.99991903815862,
         "_deepnote_index_column": "2017-08-18T00:00:00.000000"
        },
        {
         "RSI": 43.06295476798311,
         "_deepnote_index_column": "2017-08-21T00:00:00.000000"
        },
        {
         "RSI": 51.065401606597405,
         "_deepnote_index_column": "2017-08-22T00:00:00.000000"
        },
        {
         "RSI": 52.216036832669516,
         "_deepnote_index_column": "2017-08-23T00:00:00.000000"
        },
        {
         "RSI": 53.72271767555208,
         "_deepnote_index_column": "2017-08-24T00:00:00.000000"
        },
        {
         "RSI": 47.69444124766534,
         "_deepnote_index_column": "2017-08-25T00:00:00.000000"
        },
        {
         "RSI": 47.01604924251045,
         "_deepnote_index_column": "2017-08-28T00:00:00.000000"
        },
        {
         "RSI": 48.302879721972616,
         "_deepnote_index_column": "2017-08-29T00:00:00.000000"
        },
        {
         "RSI": 54.84413386024599,
         "_deepnote_index_column": "2017-08-30T00:00:00.000000"
        },
        {
         "RSI": 57.64940779802859,
         "_deepnote_index_column": "2017-08-31T00:00:00.000000"
        },
        {
         "RSI": 55.731826508069766,
         "_deepnote_index_column": "2017-09-01T00:00:00.000000"
        },
        {
         "RSI": 54.01201702422964,
         "_deepnote_index_column": "2017-09-05T00:00:00.000000"
        },
        {
         "RSI": 56.539526373820166,
         "_deepnote_index_column": "2017-09-06T00:00:00.000000"
        },
        {
         "RSI": 58.72098169869958,
         "_deepnote_index_column": "2017-09-07T00:00:00.000000"
        },
        {
         "RSI": 60.6765746241307,
         "_deepnote_index_column": "2017-09-08T00:00:00.000000"
        },
        {
         "RSI": 68.04776150052942,
         "_deepnote_index_column": "2017-09-11T00:00:00.000000"
        },
        {
         "RSI": 64.3032846786783,
         "_deepnote_index_column": "2017-09-12T00:00:00.000000"
        },
        {
         "RSI": 65.78996200659435,
         "_deepnote_index_column": "2017-09-13T00:00:00.000000"
        },
        {
         "RSI": 72.28721392778913,
         "_deepnote_index_column": "2017-09-14T00:00:00.000000"
        },
        {
         "RSI": 70.53103194544882,
         "_deepnote_index_column": "2017-09-15T00:00:00.000000"
        },
        {
         "RSI": 71.54152429081972,
         "_deepnote_index_column": "2017-09-18T00:00:00.000000"
        },
        {
         "RSI": 69.77846747005276,
         "_deepnote_index_column": "2017-09-19T00:00:00.000000"
        },
        {
         "RSI": 68.51953186680453,
         "_deepnote_index_column": "2017-09-20T00:00:00.000000"
        },
        {
         "RSI": 67.49948498559075,
         "_deepnote_index_column": "2017-09-21T00:00:00.000000"
        },
        {
         "RSI": 69.91141429014903,
         "_deepnote_index_column": "2017-09-22T00:00:00.000000"
        },
        {
         "RSI": 53.90873404524575,
         "_deepnote_index_column": "2017-09-25T00:00:00.000000"
        },
        {
         "RSI": 55.265935006193374,
         "_deepnote_index_column": "2017-09-26T00:00:00.000000"
        },
        {
         "RSI": 59.003544417281255,
         "_deepnote_index_column": "2017-09-27T00:00:00.000000"
        },
        {
         "RSI": 62.11590265652677,
         "_deepnote_index_column": "2017-09-28T00:00:00.000000"
        },
        {
         "RSI": 64.33737761503639,
         "_deepnote_index_column": "2017-09-29T00:00:00.000000"
        },
        {
         "RSI": 68.0000406126111,
         "_deepnote_index_column": "2017-10-02T00:00:00.000000"
        },
        {
         "RSI": 71.03768733231394,
         "_deepnote_index_column": "2017-10-03T00:00:00.000000"
        },
        {
         "RSI": 72.12569119020075,
         "_deepnote_index_column": "2017-10-04T00:00:00.000000"
        },
        {
         "RSI": 75.05689045583757,
         "_deepnote_index_column": "2017-10-05T00:00:00.000000"
        },
        {
         "RSI": 75.05689045583757,
         "_deepnote_index_column": "2017-10-06T00:00:00.000000"
        },
        {
         "RSI": 76.5126047140256,
         "_deepnote_index_column": "2017-10-09T00:00:00.000000"
        },
        {
         "RSI": 77.64566009683833,
         "_deepnote_index_column": "2017-10-10T00:00:00.000000"
        },
        {
         "RSI": 80.41342145811558,
         "_deepnote_index_column": "2017-10-11T00:00:00.000000"
        },
        {
         "RSI": 83.09794722242802,
         "_deepnote_index_column": "2017-10-12T00:00:00.000000"
        },
        {
         "RSI": 83.09794722242802,
         "_deepnote_index_column": "2017-10-13T00:00:00.000000"
        },
        {
         "RSI": 84.3566040674873,
         "_deepnote_index_column": "2017-10-16T00:00:00.000000"
        },
        {
         "RSI": 76.43291715040235,
         "_deepnote_index_column": "2017-10-17T00:00:00.000000"
        },
        {
         "RSI": 74.03092101990336,
         "_deepnote_index_column": "2017-10-18T00:00:00.000000"
        },
        {
         "RSI": 68.57044011250136,
         "_deepnote_index_column": "2017-10-19T00:00:00.000000"
        },
        {
         "RSI": 70.77574689750243,
         "_deepnote_index_column": "2017-10-20T00:00:00.000000"
        },
        {
         "RSI": 70.94904530508742,
         "_deepnote_index_column": "2017-10-23T00:00:00.000000"
        },
        {
         "RSI": 72.021145614798,
         "_deepnote_index_column": "2017-10-24T00:00:00.000000"
        },
        {
         "RSI": 73.14763767317221,
         "_deepnote_index_column": "2017-10-25T00:00:00.000000"
        },
        {
         "RSI": 78.95792190584939,
         "_deepnote_index_column": "2017-10-26T00:00:00.000000"
        },
        {
         "RSI": 82.60861447858862,
         "_deepnote_index_column": "2017-10-27T00:00:00.000000"
        },
        {
         "RSI": 84.10696582719108,
         "_deepnote_index_column": "2017-10-30T00:00:00.000000"
        },
        {
         "RSI": 87.21315300984281,
         "_deepnote_index_column": "2017-10-31T00:00:00.000000"
        },
        {
         "RSI": 78.90890415134594,
         "_deepnote_index_column": "2017-11-01T00:00:00.000000"
        },
        {
         "RSI": 74.65588057966501,
         "_deepnote_index_column": "2017-11-02T00:00:00.000000"
        },
        {
         "RSI": 77.35088643473999,
         "_deepnote_index_column": "2017-11-03T00:00:00.000000"
        },
        {
         "RSI": 78.23246714130366,
         "_deepnote_index_column": "2017-11-06T00:00:00.000000"
        },
        {
         "RSI": 73.75493600908197,
         "_deepnote_index_column": "2017-11-07T00:00:00.000000"
        },
        {
         "RSI": 73.21770089025551,
         "_deepnote_index_column": "2017-11-08T00:00:00.000000"
        },
        {
         "RSI": 77.60887398703497,
         "_deepnote_index_column": "2017-11-09T00:00:00.000000"
        },
        {
         "RSI": 80.96915406908816,
         "_deepnote_index_column": "2017-11-10T00:00:00.000000"
        },
        {
         "RSI": 82.69223684379507,
         "_deepnote_index_column": "2017-11-13T00:00:00.000000"
        },
        {
         "RSI": 80.25323749181965,
         "_deepnote_index_column": "2017-11-14T00:00:00.000000"
        },
        {
         "RSI": 82.3966534253727,
         "_deepnote_index_column": "2017-11-15T00:00:00.000000"
        },
        {
         "RSI": 84.79263996181736,
         "_deepnote_index_column": "2017-11-16T00:00:00.000000"
        },
        {
         "RSI": 88.02114498945033,
         "_deepnote_index_column": "2017-11-17T00:00:00.000000"
        },
        {
         "RSI": 89.1425494468771,
         "_deepnote_index_column": "2017-11-20T00:00:00.000000"
        },
        {
         "RSI": 91.51071161485936,
         "_deepnote_index_column": "2017-11-21T00:00:00.000000"
        }
       ],
       "rows_bottom": [
        {
         "RSI": 31.63493161631962,
         "_deepnote_index_column": "2019-08-16T00:00:00.000000"
        },
        {
         "RSI": 35.61118548504801,
         "_deepnote_index_column": "2019-08-19T00:00:00.000000"
        },
        {
         "RSI": 36.563492013819854,
         "_deepnote_index_column": "2019-08-20T00:00:00.000000"
        },
        {
         "RSI": 39.99117382724099,
         "_deepnote_index_column": "2019-08-21T00:00:00.000000"
        },
        {
         "RSI": 38.42184043737046,
         "_deepnote_index_column": "2019-08-22T00:00:00.000000"
        },
        {
         "RSI": 32.898680762033436,
         "_deepnote_index_column": "2019-08-23T00:00:00.000000"
        },
        {
         "RSI": 36.36366616918378,
         "_deepnote_index_column": "2019-08-26T00:00:00.000000"
        },
        {
         "RSI": 34.394713194433265,
         "_deepnote_index_column": "2019-08-27T00:00:00.000000"
        },
        {
         "RSI": 35.82039327303691,
         "_deepnote_index_column": "2019-08-28T00:00:00.000000"
        },
        {
         "RSI": 38.31076341198133,
         "_deepnote_index_column": "2019-08-29T00:00:00.000000"
        },
        {
         "RSI": 36.123062878122234,
         "_deepnote_index_column": "2019-08-30T00:00:00.000000"
        },
        {
         "RSI": 34.61182097375982,
         "_deepnote_index_column": "2019-09-03T00:00:00.000000"
        },
        {
         "RSI": 34.777361066578464,
         "_deepnote_index_column": "2019-09-04T00:00:00.000000"
        },
        {
         "RSI": 42.081211282178955,
         "_deepnote_index_column": "2019-09-05T00:00:00.000000"
        },
        {
         "RSI": 39.45761443238693,
         "_deepnote_index_column": "2019-09-06T00:00:00.000000"
        },
        {
         "RSI": 38.12744856803466,
         "_deepnote_index_column": "2019-09-09T00:00:00.000000"
        },
        {
         "RSI": 35.86712742587747,
         "_deepnote_index_column": "2019-09-10T00:00:00.000000"
        },
        {
         "RSI": 32.794805888814,
         "_deepnote_index_column": "2019-09-11T00:00:00.000000"
        },
        {
         "RSI": 29.912783388697164,
         "_deepnote_index_column": "2019-09-12T00:00:00.000000"
        },
        {
         "RSI": 32.18856639604549,
         "_deepnote_index_column": "2019-09-13T00:00:00.000000"
        },
        {
         "RSI": 36.454944101482305,
         "_deepnote_index_column": "2019-09-16T00:00:00.000000"
        },
        {
         "RSI": 37.98680901839275,
         "_deepnote_index_column": "2019-09-17T00:00:00.000000"
        },
        {
         "RSI": 38.66919730272033,
         "_deepnote_index_column": "2019-09-18T00:00:00.000000"
        },
        {
         "RSI": 36.58802204507832,
         "_deepnote_index_column": "2019-09-19T00:00:00.000000"
        },
        {
         "RSI": 33.41402938919056,
         "_deepnote_index_column": "2019-09-20T00:00:00.000000"
        },
        {
         "RSI": 30.75956841042519,
         "_deepnote_index_column": "2019-09-23T00:00:00.000000"
        },
        {
         "RSI": 34.56040276063254,
         "_deepnote_index_column": "2019-09-24T00:00:00.000000"
        },
        {
         "RSI": 39.44617677596897,
         "_deepnote_index_column": "2019-09-25T00:00:00.000000"
        },
        {
         "RSI": 48.78313538123809,
         "_deepnote_index_column": "2019-09-26T00:00:00.000000"
        },
        {
         "RSI": 48.606907645225604,
         "_deepnote_index_column": "2019-09-27T00:00:00.000000"
        },
        {
         "RSI": 52.99569940760016,
         "_deepnote_index_column": "2019-09-30T00:00:00.000000"
        },
        {
         "RSI": 51.727138270230135,
         "_deepnote_index_column": "2019-10-01T00:00:00.000000"
        },
        {
         "RSI": 45.985235983349504,
         "_deepnote_index_column": "2019-10-02T00:00:00.000000"
        },
        {
         "RSI": 53.109515048059365,
         "_deepnote_index_column": "2019-10-03T00:00:00.000000"
        },
        {
         "RSI": 55.05394350878745,
         "_deepnote_index_column": "2019-10-04T00:00:00.000000"
        },
        {
         "RSI": 53.46229108335777,
         "_deepnote_index_column": "2019-10-07T00:00:00.000000"
        },
        {
         "RSI": 48.04032265726385,
         "_deepnote_index_column": "2019-10-08T00:00:00.000000"
        },
        {
         "RSI": 53.060857372509254,
         "_deepnote_index_column": "2019-10-09T00:00:00.000000"
        },
        {
         "RSI": 52.33222635708304,
         "_deepnote_index_column": "2019-10-10T00:00:00.000000"
        },
        {
         "RSI": 50.40972179141117,
         "_deepnote_index_column": "2019-10-11T00:00:00.000000"
        },
        {
         "RSI": 51.54429608978286,
         "_deepnote_index_column": "2019-10-14T00:00:00.000000"
        },
        {
         "RSI": 59.921005880530664,
         "_deepnote_index_column": "2019-10-15T00:00:00.000000"
        },
        {
         "RSI": 54.59142843589973,
         "_deepnote_index_column": "2019-10-16T00:00:00.000000"
        },
        {
         "RSI": 55.901203542316566,
         "_deepnote_index_column": "2019-10-17T00:00:00.000000"
        },
        {
         "RSI": 45.481822626255536,
         "_deepnote_index_column": "2019-10-18T00:00:00.000000"
        },
        {
         "RSI": 47.96047242506163,
         "_deepnote_index_column": "2019-10-21T00:00:00.000000"
        },
        {
         "RSI": 41.2643557891369,
         "_deepnote_index_column": "2019-10-22T00:00:00.000000"
        },
        {
         "RSI": 40.04458263577322,
         "_deepnote_index_column": "2019-10-23T00:00:00.000000"
        },
        {
         "RSI": 51.15956083616619,
         "_deepnote_index_column": "2019-10-24T00:00:00.000000"
        },
        {
         "RSI": 54.33425054004861,
         "_deepnote_index_column": "2019-10-25T00:00:00.000000"
        },
        {
         "RSI": 54.043241913332835,
         "_deepnote_index_column": "2019-10-28T00:00:00.000000"
        },
        {
         "RSI": 52.72541742302689,
         "_deepnote_index_column": "2019-10-29T00:00:00.000000"
        },
        {
         "RSI": 51.852552412751464,
         "_deepnote_index_column": "2019-10-30T00:00:00.000000"
        },
        {
         "RSI": 49.28674274053279,
         "_deepnote_index_column": "2019-10-31T00:00:00.000000"
        },
        {
         "RSI": 53.27726581124297,
         "_deepnote_index_column": "2019-11-01T00:00:00.000000"
        },
        {
         "RSI": 52.4416593172936,
         "_deepnote_index_column": "2019-11-04T00:00:00.000000"
        },
        {
         "RSI": 47.61602942880877,
         "_deepnote_index_column": "2019-11-05T00:00:00.000000"
        },
        {
         "RSI": 48.69450048905657,
         "_deepnote_index_column": "2019-11-06T00:00:00.000000"
        },
        {
         "RSI": 58.72763909296555,
         "_deepnote_index_column": "2019-11-07T00:00:00.000000"
        },
        {
         "RSI": 51.76729246903787,
         "_deepnote_index_column": "2019-11-08T00:00:00.000000"
        },
        {
         "RSI": 55.63834351129022,
         "_deepnote_index_column": "2019-11-11T00:00:00.000000"
        },
        {
         "RSI": 48.58703087945656,
         "_deepnote_index_column": "2019-11-12T00:00:00.000000"
        },
        {
         "RSI": 48.49876610038183,
         "_deepnote_index_column": "2019-11-13T00:00:00.000000"
        },
        {
         "RSI": 53.031520213381825,
         "_deepnote_index_column": "2019-11-14T00:00:00.000000"
        },
        {
         "RSI": 57.66744036544697,
         "_deepnote_index_column": "2019-11-15T00:00:00.000000"
        },
        {
         "RSI": 60.237963734465765,
         "_deepnote_index_column": "2019-11-18T00:00:00.000000"
        },
        {
         "RSI": 61.75305453563575,
         "_deepnote_index_column": "2019-11-19T00:00:00.000000"
        },
        {
         "RSI": 63.64729473755194,
         "_deepnote_index_column": "2019-11-20T00:00:00.000000"
        },
        {
         "RSI": 64.24327680918816,
         "_deepnote_index_column": "2019-11-21T00:00:00.000000"
        },
        {
         "RSI": 65.05762457639423,
         "_deepnote_index_column": "2019-11-22T00:00:00.000000"
        },
        {
         "RSI": 66.30960249933011,
         "_deepnote_index_column": "2019-11-25T00:00:00.000000"
        },
        {
         "RSI": 68.01287732475691,
         "_deepnote_index_column": "2019-11-26T00:00:00.000000"
        },
        {
         "RSI": 69.70983894338947,
         "_deepnote_index_column": "2019-11-27T00:00:00.000000"
        },
        {
         "RSI": 66.85845975717476,
         "_deepnote_index_column": "2019-11-29T00:00:00.000000"
        },
        {
         "RSI": 56.364784012954395,
         "_deepnote_index_column": "2019-12-02T00:00:00.000000"
        },
        {
         "RSI": 56.885333267833396,
         "_deepnote_index_column": "2019-12-03T00:00:00.000000"
        },
        {
         "RSI": 59.30339879815325,
         "_deepnote_index_column": "2019-12-04T00:00:00.000000"
        },
        {
         "RSI": 56.35936429316784,
         "_deepnote_index_column": "2019-12-05T00:00:00.000000"
        },
        {
         "RSI": 59.22082759136978,
         "_deepnote_index_column": "2019-12-06T00:00:00.000000"
        },
        {
         "RSI": 54.96960687552253,
         "_deepnote_index_column": "2019-12-09T00:00:00.000000"
        },
        {
         "RSI": 49.85830986872457,
         "_deepnote_index_column": "2019-12-10T00:00:00.000000"
        },
        {
         "RSI": 49.49271589488996,
         "_deepnote_index_column": "2019-12-11T00:00:00.000000"
        },
        {
         "RSI": 49.97555088118111,
         "_deepnote_index_column": "2019-12-12T00:00:00.000000"
        },
        {
         "RSI": 45.465124925700344,
         "_deepnote_index_column": "2019-12-13T00:00:00.000000"
        },
        {
         "RSI": 52.93157970937374,
         "_deepnote_index_column": "2019-12-16T00:00:00.000000"
        },
        {
         "RSI": 48.85138548092263,
         "_deepnote_index_column": "2019-12-17T00:00:00.000000"
        },
        {
         "RSI": 47.2116879358409,
         "_deepnote_index_column": "2019-12-18T00:00:00.000000"
        },
        {
         "RSI": 44.877367367487096,
         "_deepnote_index_column": "2019-12-19T00:00:00.000000"
        },
        {
         "RSI": 41.436864052995375,
         "_deepnote_index_column": "2019-12-20T00:00:00.000000"
        },
        {
         "RSI": 38.564390428328586,
         "_deepnote_index_column": "2019-12-23T00:00:00.000000"
        },
        {
         "RSI": 44.36871664601579,
         "_deepnote_index_column": "2019-12-24T00:00:00.000000"
        },
        {
         "RSI": 44.70819750086584,
         "_deepnote_index_column": "2019-12-26T00:00:00.000000"
        },
        {
         "RSI": 43.76322102829692,
         "_deepnote_index_column": "2019-12-27T00:00:00.000000"
        },
        {
         "RSI": 36.53223134843374,
         "_deepnote_index_column": "2019-12-30T00:00:00.000000"
        },
        {
         "RSI": 40.55194930546313,
         "_deepnote_index_column": "2019-12-31T00:00:00.000000"
        },
        {
         "RSI": 46.634386161483,
         "_deepnote_index_column": "2020-01-02T00:00:00.000000"
        },
        {
         "RSI": 43.50177275550637,
         "_deepnote_index_column": "2020-01-03T00:00:00.000000"
        },
        {
         "RSI": 41.93031378404702,
         "_deepnote_index_column": "2020-01-06T00:00:00.000000"
        },
        {
         "RSI": 50.90291500612476,
         "_deepnote_index_column": "2020-01-07T00:00:00.000000"
        },
        {
         "RSI": 60.657911859101915,
         "_deepnote_index_column": "2020-01-08T00:00:00.000000"
        },
        {
         "RSI": 61.55967545854787,
         "_deepnote_index_column": "2020-01-09T00:00:00.000000"
        },
        {
         "RSI": 61.731418665632866,
         "_deepnote_index_column": "2020-01-10T00:00:00.000000"
        },
        {
         "RSI": 63.68276759350518,
         "_deepnote_index_column": "2020-01-13T00:00:00.000000"
        },
        {
         "RSI": 61.22397897841454,
         "_deepnote_index_column": "2020-01-14T00:00:00.000000"
        },
        {
         "RSI": 67.30066171306729,
         "_deepnote_index_column": "2020-01-15T00:00:00.000000"
        },
        {
         "RSI": 63.20896512702313,
         "_deepnote_index_column": "2020-01-16T00:00:00.000000"
        },
        {
         "RSI": 62.52665973317112,
         "_deepnote_index_column": "2020-01-17T00:00:00.000000"
        },
        {
         "RSI": 57.424656543553574,
         "_deepnote_index_column": "2020-01-21T00:00:00.000000"
        },
        {
         "RSI": 58.71313629316726,
         "_deepnote_index_column": "2020-01-22T00:00:00.000000"
        },
        {
         "RSI": 60.73375540768562,
         "_deepnote_index_column": "2020-01-23T00:00:00.000000"
        },
        {
         "RSI": 66.22285824750304,
         "_deepnote_index_column": "2020-01-24T00:00:00.000000"
        },
        {
         "RSI": 65.74139948445556,
         "_deepnote_index_column": "2020-01-27T00:00:00.000000"
        },
        {
         "RSI": 74.16870102468066,
         "_deepnote_index_column": "2020-01-28T00:00:00.000000"
        },
        {
         "RSI": 76.43291422236014,
         "_deepnote_index_column": "2020-01-29T00:00:00.000000"
        },
        {
         "RSI": 76.11589847892091,
         "_deepnote_index_column": "2020-01-30T00:00:00.000000"
        },
        {
         "RSI": 68.88580483809696,
         "_deepnote_index_column": "2020-01-31T00:00:00.000000"
        },
        {
         "RSI": 77.30098333425858,
         "_deepnote_index_column": "2020-02-03T00:00:00.000000"
        },
        {
         "RSI": 78.64022005581673,
         "_deepnote_index_column": "2020-02-04T00:00:00.000000"
        },
        {
         "RSI": 68.20075567682653,
         "_deepnote_index_column": "2020-02-05T00:00:00.000000"
        },
        {
         "RSI": 68.64061770439407,
         "_deepnote_index_column": "2020-02-06T00:00:00.000000"
        },
        {
         "RSI": 69.25709695785383,
         "_deepnote_index_column": "2020-02-07T00:00:00.000000"
        },
        {
         "RSI": 71.51428196068348,
         "_deepnote_index_column": "2020-02-10T00:00:00.000000"
        },
        {
         "RSI": 70.28403435325893,
         "_deepnote_index_column": "2020-02-11T00:00:00.000000"
        },
        {
         "RSI": 70.51010773621194,
         "_deepnote_index_column": "2020-02-12T00:00:00.000000"
        },
        {
         "RSI": 72.37715674987273,
         "_deepnote_index_column": "2020-02-13T00:00:00.000000"
        },
        {
         "RSI": 73.938685212842,
         "_deepnote_index_column": "2020-02-14T00:00:00.000000"
        },
        {
         "RSI": 74.92141636741539,
         "_deepnote_index_column": "2020-02-18T00:00:00.000000"
        },
        {
         "RSI": 79.17919867857674,
         "_deepnote_index_column": "2020-02-19T00:00:00.000000"
        },
        {
         "RSI": 79.78218472427531,
         "_deepnote_index_column": "2020-02-20T00:00:00.000000"
        },
        {
         "RSI": 69.38542755773906,
         "_deepnote_index_column": "2020-02-21T00:00:00.000000"
        },
        {
         "RSI": 57.42471403302062,
         "_deepnote_index_column": "2020-02-24T00:00:00.000000"
        },
        {
         "RSI": 48.71252993220872,
         "_deepnote_index_column": "2020-02-25T00:00:00.000000"
        },
        {
         "RSI": 47.5808522889379,
         "_deepnote_index_column": "2020-02-26T00:00:00.000000"
        },
        {
         "RSI": 54.336145853893186,
         "_deepnote_index_column": "2020-02-27T00:00:00.000000"
        },
        {
         "RSI": 62.10828597189276,
         "_deepnote_index_column": "2020-02-28T00:00:00.000000"
        },
        {
         "RSI": 55.39025743709718,
         "_deepnote_index_column": "2020-03-02T00:00:00.000000"
        },
        {
         "RSI": 51.28065476578302,
         "_deepnote_index_column": "2020-03-03T00:00:00.000000"
        },
        {
         "RSI": 52.15798750610492,
         "_deepnote_index_column": "2020-03-04T00:00:00.000000"
        },
        {
         "RSI": 45.923826054276084,
         "_deepnote_index_column": "2020-03-05T00:00:00.000000"
        },
        {
         "RSI": 40.234098625963526,
         "_deepnote_index_column": "2020-03-06T00:00:00.000000"
        },
        {
         "RSI": 30.85372540503934,
         "_deepnote_index_column": "2020-03-09T00:00:00.000000"
        },
        {
         "RSI": 34.24109856391051,
         "_deepnote_index_column": "2020-03-10T00:00:00.000000"
        },
        {
         "RSI": 29.323427542698212,
         "_deepnote_index_column": "2020-03-11T00:00:00.000000"
        },
        {
         "RSI": 22.805395707198954,
         "_deepnote_index_column": "2020-03-12T00:00:00.000000"
        },
        {
         "RSI": 30.664415961348425,
         "_deepnote_index_column": "2020-03-13T00:00:00.000000"
        },
        {
         "RSI": 21.432771726611435,
         "_deepnote_index_column": "2020-03-16T00:00:00.000000"
        },
        {
         "RSI": 26.434232374110437,
         "_deepnote_index_column": "2020-03-17T00:00:00.000000"
        },
        {
         "RSI": 23.952180623759077,
         "_deepnote_index_column": "2020-03-18T00:00:00.000000"
        },
        {
         "RSI": 24.68030524528612,
         "_deepnote_index_column": "2020-03-19T00:00:00.000000"
        },
        {
         "RSI": 23.745029490175426,
         "_deepnote_index_column": "2020-03-20T00:00:00.000000"
        },
        {
         "RSI": 26.750058023165195,
         "_deepnote_index_column": "2020-03-23T00:00:00.000000"
        },
        {
         "RSI": 35.70354307530458,
         "_deepnote_index_column": "2020-03-24T00:00:00.000000"
        },
        {
         "RSI": 42.950919782374484,
         "_deepnote_index_column": "2020-03-25T00:00:00.000000"
        },
        {
         "RSI": 46.815990348220495,
         "_deepnote_index_column": "2020-03-26T00:00:00.000000"
        },
        {
         "RSI": 44.42084942917819,
         "_deepnote_index_column": "2020-03-27T00:00:00.000000"
        },
        {
         "RSI": 46.24839805301883,
         "_deepnote_index_column": "2020-03-30T00:00:00.000000"
        },
        {
         "RSI": 43.80039042468883,
         "_deepnote_index_column": "2020-03-31T00:00:00.000000"
        },
        {
         "RSI": 39.06610025045533,
         "_deepnote_index_column": "2020-04-01T00:00:00.000000"
        },
        {
         "RSI": 38.3213169670727,
         "_deepnote_index_column": "2020-04-02T00:00:00.000000"
        },
        {
         "RSI": 36.577123246547686,
         "_deepnote_index_column": "2020-04-03T00:00:00.000000"
        },
        {
         "RSI": 44.94736448901695,
         "_deepnote_index_column": "2020-04-06T00:00:00.000000"
        },
        {
         "RSI": 44.84273015936106,
         "_deepnote_index_column": "2020-04-07T00:00:00.000000"
        },
        {
         "RSI": 52.1780188791271,
         "_deepnote_index_column": "2020-04-08T00:00:00.000000"
        },
        {
         "RSI": 54.288906336107885,
         "_deepnote_index_column": "2020-04-09T00:00:00.000000"
        },
        {
         "RSI": 54.498225296320705,
         "_deepnote_index_column": "2020-04-13T00:00:00.000000"
        },
        {
         "RSI": 57.48349277804082,
         "_deepnote_index_column": "2020-04-14T00:00:00.000000"
        },
        {
         "RSI": 56.11763882063342,
         "_deepnote_index_column": "2020-04-15T00:00:00.000000"
        },
        {
         "RSI": 50.97600582097764,
         "_deepnote_index_column": "2020-04-16T00:00:00.000000"
        },
        {
         "RSI": 55.090702726264574,
         "_deepnote_index_column": "2020-04-17T00:00:00.000000"
        },
        {
         "RSI": 55.05110756809863,
         "_deepnote_index_column": "2020-04-20T00:00:00.000000"
        },
        {
         "RSI": 50.301008871702514,
         "_deepnote_index_column": "2020-04-21T00:00:00.000000"
        },
        {
         "RSI": 54.42063808952053,
         "_deepnote_index_column": "2020-04-22T00:00:00.000000"
        },
        {
         "RSI": 55.3827966416443,
         "_deepnote_index_column": "2020-04-23T00:00:00.000000"
        },
        {
         "RSI": 55.60576404454987,
         "_deepnote_index_column": "2020-04-24T00:00:00.000000"
        },
        {
         "RSI": 57.46133713314087,
         "_deepnote_index_column": "2020-04-27T00:00:00.000000"
        },
        {
         "RSI": 54.589268716500506,
         "_deepnote_index_column": "2020-04-28T00:00:00.000000"
        },
        {
         "RSI": 59.462470393196156,
         "_deepnote_index_column": "2020-04-29T00:00:00.000000"
        },
        {
         "RSI": 58.40467624747438,
         "_deepnote_index_column": "2020-04-30T00:00:00.000000"
        },
        {
         "RSI": 54.836181260263736,
         "_deepnote_index_column": "2020-05-01T00:00:00.000000"
        },
        {
         "RSI": 55.774455766683815,
         "_deepnote_index_column": "2020-05-04T00:00:00.000000"
        },
        {
         "RSI": 59.6950830287188,
         "_deepnote_index_column": "2020-05-05T00:00:00.000000"
        },
        {
         "RSI": 61.42592972679813,
         "_deepnote_index_column": "2020-05-06T00:00:00.000000"
        },
        {
         "RSI": 68.22179303962649,
         "_deepnote_index_column": "2020-05-07T00:00:00.000000"
        },
        {
         "RSI": 69.49133007657468,
         "_deepnote_index_column": "2020-05-08T00:00:00.000000"
        },
        {
         "RSI": 67.16740808522567,
         "_deepnote_index_column": "2020-05-11T00:00:00.000000"
        },
        {
         "RSI": 67.48308642114375,
         "_deepnote_index_column": "2020-05-12T00:00:00.000000"
        },
        {
         "RSI": 64.42729503734972,
         "_deepnote_index_column": "2020-05-13T00:00:00.000000"
        },
        {
         "RSI": 69.1061155034889,
         "_deepnote_index_column": "2020-05-14T00:00:00.000000"
        },
        {
         "RSI": 71.02337993617779,
         "_deepnote_index_column": "2020-05-15T00:00:00.000000"
        },
        {
         "RSI": 63.540269907253474,
         "_deepnote_index_column": "2020-05-18T00:00:00.000000"
        },
        {
         "RSI": 66.30013689864523,
         "_deepnote_index_column": "2020-05-19T00:00:00.000000"
        },
        {
         "RSI": 68.99190174475007,
         "_deepnote_index_column": "2020-05-20T00:00:00.000000"
        },
        {
         "RSI": 67.84149914757481,
         "_deepnote_index_column": "2020-05-21T00:00:00.000000"
        },
        {
         "RSI": 67.84149914757481,
         "_deepnote_index_column": "2020-05-22T00:00:00.000000"
        },
        {
         "RSI": 66.211872852303,
         "_deepnote_index_column": "2020-05-26T00:00:00.000000"
        },
        {
         "RSI": 66.49663959127588,
         "_deepnote_index_column": "2020-05-27T00:00:00.000000"
        },
        {
         "RSI": 63.01517983558433,
         "_deepnote_index_column": "2020-05-28T00:00:00.000000"
        },
        {
         "RSI": 65.0690956308232,
         "_deepnote_index_column": "2020-05-29T00:00:00.000000"
        },
        {
         "RSI": 67.2680052667401,
         "_deepnote_index_column": "2020-06-01T00:00:00.000000"
        },
        {
         "RSI": 73.13215671821152,
         "_deepnote_index_column": "2020-06-02T00:00:00.000000"
        },
        {
         "RSI": 76.53604586500438,
         "_deepnote_index_column": "2020-06-03T00:00:00.000000"
        },
        {
         "RSI": 66.78199602770101,
         "_deepnote_index_column": "2020-06-04T00:00:00.000000"
        },
        {
         "RSI": 68.99479234734312,
         "_deepnote_index_column": "2020-06-05T00:00:00.000000"
        },
        {
         "RSI": 68.307428467293,
         "_deepnote_index_column": "2020-06-08T00:00:00.000000"
        },
        {
         "RSI": 68.09531137360291,
         "_deepnote_index_column": "2020-06-09T00:00:00.000000"
        },
        {
         "RSI": 70.68747186629462,
         "_deepnote_index_column": "2020-06-10T00:00:00.000000"
        },
        {
         "RSI": 58.22870935780735,
         "_deepnote_index_column": "2020-06-11T00:00:00.000000"
        },
        {
         "RSI": 59.069683473145695,
         "_deepnote_index_column": "2020-06-12T00:00:00.000000"
        },
        {
         "RSI": 64.32451749591277,
         "_deepnote_index_column": "2020-06-15T00:00:00.000000"
        },
        {
         "RSI": 68.1700955223792,
         "_deepnote_index_column": "2020-06-16T00:00:00.000000"
        },
        {
         "RSI": 70.28239078336591,
         "_deepnote_index_column": "2020-06-17T00:00:00.000000"
        },
        {
         "RSI": 71.38955948050213,
         "_deepnote_index_column": "2020-06-18T00:00:00.000000"
        },
        {
         "RSI": 70.72592301030738,
         "_deepnote_index_column": "2020-06-19T00:00:00.000000"
        },
        {
         "RSI": 75.91434395457888,
         "_deepnote_index_column": "2020-06-22T00:00:00.000000"
        },
        {
         "RSI": 76.29858293156448,
         "_deepnote_index_column": "2020-06-23T00:00:00.000000"
        },
        {
         "RSI": 67.79396062337042,
         "_deepnote_index_column": "2020-06-24T00:00:00.000000"
        },
        {
         "RSI": 71.26948370280174,
         "_deepnote_index_column": "2020-06-25T00:00:00.000000"
        },
        {
         "RSI": 70.26446104058326,
         "_deepnote_index_column": "2020-06-26T00:00:00.000000"
        },
        {
         "RSI": 68.91266181769755,
         "_deepnote_index_column": "2020-06-29T00:00:00.000000"
        },
        {
         "RSI": 70.16872265307143,
         "_deepnote_index_column": "2020-06-30T00:00:00.000000"
        },
        {
         "RSI": 78.35940733213182,
         "_deepnote_index_column": "2020-07-01T00:00:00.000000"
        },
        {
         "RSI": 73.3896902208831,
         "_deepnote_index_column": "2020-07-02T00:00:00.000000"
        },
        {
         "RSI": 76.89755893100867,
         "_deepnote_index_column": "2020-07-06T00:00:00.000000"
        },
        {
         "RSI": 80.23197882381727,
         "_deepnote_index_column": "2020-07-07T00:00:00.000000"
        },
        {
         "RSI": 83.27142720753537,
         "_deepnote_index_column": "2020-07-08T00:00:00.000000"
        },
        {
         "RSI": 76.7756164699806,
         "_deepnote_index_column": "2020-07-09T00:00:00.000000"
        },
        {
         "RSI": 74.65344923236006,
         "_deepnote_index_column": "2020-07-10T00:00:00.000000"
        },
        {
         "RSI": 61.75745869437483,
         "_deepnote_index_column": "2020-07-13T00:00:00.000000"
        },
        {
         "RSI": 63.622112501752795,
         "_deepnote_index_column": "2020-07-14T00:00:00.000000"
        },
        {
         "RSI": 64.31661508390631,
         "_deepnote_index_column": "2020-07-15T00:00:00.000000"
        },
        {
         "RSI": 61.359848440492144,
         "_deepnote_index_column": "2020-07-16T00:00:00.000000"
        },
        {
         "RSI": 62.011840725325484,
         "_deepnote_index_column": "2020-07-17T00:00:00.000000"
        },
        {
         "RSI": 67.76432523625994,
         "_deepnote_index_column": "2020-07-20T00:00:00.000000"
        },
        {
         "RSI": 65.80305291868224,
         "_deepnote_index_column": "2020-07-21T00:00:00.000000"
        },
        {
         "RSI": 67.3928750850401,
         "_deepnote_index_column": "2020-07-22T00:00:00.000000"
        },
        {
         "RSI": 58.96740209338062,
         "_deepnote_index_column": "2020-07-23T00:00:00.000000"
        },
        {
         "RSI": 57.09780700011132,
         "_deepnote_index_column": "2020-07-24T00:00:00.000000"
        },
        {
         "RSI": 60.90886263743818,
         "_deepnote_index_column": "2020-07-27T00:00:00.000000"
        },
        {
         "RSI": 58.04297986497414,
         "_deepnote_index_column": "2020-07-28T00:00:00.000000"
        },
        {
         "RSI": 62.33696858243406,
         "_deepnote_index_column": "2020-07-29T00:00:00.000000"
        },
        {
         "RSI": 62.80868525534403,
         "_deepnote_index_column": "2020-07-30T00:00:00.000000"
        },
        {
         "RSI": 63.42115479754868,
         "_deepnote_index_column": "2020-07-31T00:00:00.000000"
        },
        {
         "RSI": 67.39640800385556,
         "_deepnote_index_column": "2020-08-03T00:00:00.000000"
        },
        {
         "RSI": 68.88960090733073,
         "_deepnote_index_column": "2020-08-04T00:00:00.000000"
        },
        {
         "RSI": 74.83302489922386,
         "_deepnote_index_column": "2020-08-05T00:00:00.000000"
        },
        {
         "RSI": 78.2610510896049,
         "_deepnote_index_column": "2020-08-06T00:00:00.000000"
        },
        {
         "RSI": 69.04390141674763,
         "_deepnote_index_column": "2020-08-07T00:00:00.000000"
        },
        {
         "RSI": 60.1735975990206,
         "_deepnote_index_column": "2020-08-10T00:00:00.000000"
        },
        {
         "RSI": 59.04362115023893,
         "_deepnote_index_column": "2020-08-11T00:00:00.000000"
        },
        {
         "RSI": 59.620490196800596,
         "_deepnote_index_column": "2020-08-12T00:00:00.000000"
        },
        {
         "RSI": 62.685688198163454,
         "_deepnote_index_column": "2020-08-13T00:00:00.000000"
        },
        {
         "RSI": 61.20974221389552,
         "_deepnote_index_column": "2020-08-14T00:00:00.000000"
        },
        {
         "RSI": 68.12291004427992,
         "_deepnote_index_column": "2020-08-17T00:00:00.000000"
        },
        {
         "RSI": 66.37902470275884,
         "_deepnote_index_column": "2020-08-18T00:00:00.000000"
        },
        {
         "RSI": 65.53837421354189,
         "_deepnote_index_column": "2020-08-19T00:00:00.000000"
        },
        {
         "RSI": 69.00251050953052,
         "_deepnote_index_column": "2020-08-20T00:00:00.000000"
        },
        {
         "RSI": 67.98371630027552,
         "_deepnote_index_column": "2020-08-21T00:00:00.000000"
        },
        {
         "RSI": 63.58069532276835,
         "_deepnote_index_column": "2020-08-24T00:00:00.000000"
        },
        {
         "RSI": 65.88804497692132,
         "_deepnote_index_column": "2020-08-25T00:00:00.000000"
        },
        {
         "RSI": 64.16951191153586,
         "_deepnote_index_column": "2020-08-26T00:00:00.000000"
        },
        {
         "RSI": 65.60342546522952,
         "_deepnote_index_column": "2020-08-27T00:00:00.000000"
        },
        {
         "RSI": 65.85523823669953,
         "_deepnote_index_column": "2020-08-28T00:00:00.000000"
        },
        {
         "RSI": 68.6583303538845,
         "_deepnote_index_column": "2020-08-31T00:00:00.000000"
        },
        {
         "RSI": 73.27897520583932,
         "_deepnote_index_column": "2020-09-01T00:00:00.000000"
        },
        {
         "RSI": 67.56764992372965,
         "_deepnote_index_column": "2020-09-02T00:00:00.000000"
        },
        {
         "RSI": 55.270329423424265,
         "_deepnote_index_column": "2020-09-03T00:00:00.000000"
        },
        {
         "RSI": 49.061196554862775,
         "_deepnote_index_column": "2020-09-04T00:00:00.000000"
        },
        {
         "RSI": 43.182770855660735,
         "_deepnote_index_column": "2020-09-08T00:00:00.000000"
        },
        {
         "RSI": 47.89300999196713,
         "_deepnote_index_column": "2020-09-09T00:00:00.000000"
        },
        {
         "RSI": 45.397613933737695,
         "_deepnote_index_column": "2020-09-10T00:00:00.000000"
        },
        {
         "RSI": 42.63930799168134,
         "_deepnote_index_column": "2020-09-11T00:00:00.000000"
        },
        {
         "RSI": 49.04093466332303,
         "_deepnote_index_column": "2020-09-14T00:00:00.000000"
        },
        {
         "RSI": 56.61809216057653,
         "_deepnote_index_column": "2020-09-15T00:00:00.000000"
        },
        {
         "RSI": 53.68183575189562,
         "_deepnote_index_column": "2020-09-16T00:00:00.000000"
        },
        {
         "RSI": 49.35900095173425,
         "_deepnote_index_column": "2020-09-17T00:00:00.000000"
        },
        {
         "RSI": 48.865514993166414,
         "_deepnote_index_column": "2020-09-18T00:00:00.000000"
        },
        {
         "RSI": 53.70021402980773,
         "_deepnote_index_column": "2020-09-21T00:00:00.000000"
        },
        {
         "RSI": 56.910048485546255,
         "_deepnote_index_column": "2020-09-22T00:00:00.000000"
        },
        {
         "RSI": 51.72630611817919,
         "_deepnote_index_column": "2020-09-23T00:00:00.000000"
        },
        {
         "RSI": 53.78159076890849,
         "_deepnote_index_column": "2020-09-24T00:00:00.000000"
        },
        {
         "RSI": 57.64425465186191,
         "_deepnote_index_column": "2020-09-25T00:00:00.000000"
        },
        {
         "RSI": 59.683254266234904,
         "_deepnote_index_column": "2020-09-28T00:00:00.000000"
        },
        {
         "RSI": 62.28792400717031,
         "_deepnote_index_column": "2020-09-29T00:00:00.000000"
        },
        {
         "RSI": 59.9600168387205,
         "_deepnote_index_column": "2020-09-30T00:00:00.000000"
        },
        {
         "RSI": 63.79045768471581,
         "_deepnote_index_column": "2020-10-01T00:00:00.000000"
        },
        {
         "RSI": 64.4804379436957,
         "_deepnote_index_column": "2020-10-02T00:00:00.000000"
        },
        {
         "RSI": 70.57754246233323,
         "_deepnote_index_column": "2020-10-05T00:00:00.000000"
        },
        {
         "RSI": 64.67861242509025,
         "_deepnote_index_column": "2020-10-06T00:00:00.000000"
        },
        {
         "RSI": 67.23655968985369,
         "_deepnote_index_column": "2020-10-07T00:00:00.000000"
        },
        {
         "RSI": 68.90031157544846,
         "_deepnote_index_column": "2020-10-08T00:00:00.000000"
        },
        {
         "RSI": 70.72319953467861,
         "_deepnote_index_column": "2020-10-09T00:00:00.000000"
        },
        {
         "RSI": 68.31605417215134,
         "_deepnote_index_column": "2020-10-12T00:00:00.000000"
        },
        {
         "RSI": 70.98726017905835,
         "_deepnote_index_column": "2020-10-13T00:00:00.000000"
        },
        {
         "RSI": 67.5394009191557,
         "_deepnote_index_column": "2020-10-14T00:00:00.000000"
        },
        {
         "RSI": 68.15975238301316,
         "_deepnote_index_column": "2020-10-15T00:00:00.000000"
        },
        {
         "RSI": 65.43012712219051,
         "_deepnote_index_column": "2020-10-16T00:00:00.000000"
        },
        {
         "RSI": 65.82966385195668,
         "_deepnote_index_column": "2020-10-19T00:00:00.000000"
        },
        {
         "RSI": 64.23078040696885,
         "_deepnote_index_column": "2020-10-20T00:00:00.000000"
        },
        {
         "RSI": 54.90736067991113,
         "_deepnote_index_column": "2020-10-21T00:00:00.000000"
        },
        {
         "RSI": 52.932750940991525,
         "_deepnote_index_column": "2020-10-22T00:00:00.000000"
        },
        {
         "RSI": 53.72920812392145,
         "_deepnote_index_column": "2020-10-23T00:00:00.000000"
        },
        {
         "RSI": 46.751297058385525,
         "_deepnote_index_column": "2020-10-26T00:00:00.000000"
        },
        {
         "RSI": 47.947036910147524,
         "_deepnote_index_column": "2020-10-27T00:00:00.000000"
        },
        {
         "RSI": 44.262229042859154,
         "_deepnote_index_column": "2020-10-28T00:00:00.000000"
        },
        {
         "RSI": 47.32193709026185,
         "_deepnote_index_column": "2020-10-29T00:00:00.000000"
        },
        {
         "RSI": 35.731172905070096,
         "_deepnote_index_column": "2020-10-30T00:00:00.000000"
        },
        {
         "RSI": 36.12482389205446,
         "_deepnote_index_column": "2020-11-02T00:00:00.000000"
        },
        {
         "RSI": 39.521527472589504,
         "_deepnote_index_column": "2020-11-03T00:00:00.000000"
        },
        {
         "RSI": 51.66988318069154,
         "_deepnote_index_column": "2020-11-04T00:00:00.000000"
        },
        {
         "RSI": 54.62648593780763,
         "_deepnote_index_column": "2020-11-05T00:00:00.000000"
        },
        {
         "RSI": 67.1700273184625,
         "_deepnote_index_column": "2020-11-06T00:00:00.000000"
        },
        {
         "RSI": 56.807820071537165,
         "_deepnote_index_column": "2020-11-09T00:00:00.000000"
        },
        {
         "RSI": 49.685377003972405,
         "_deepnote_index_column": "2020-11-10T00:00:00.000000"
        },
        {
         "RSI": 55.38080435862356,
         "_deepnote_index_column": "2020-11-11T00:00:00.000000"
        },
        {
         "RSI": 52.62273022158703,
         "_deepnote_index_column": "2020-11-12T00:00:00.000000"
        },
        {
         "RSI": 51.87477246657448,
         "_deepnote_index_column": "2020-11-13T00:00:00.000000"
        },
        {
         "RSI": 52.94961956875764,
         "_deepnote_index_column": "2020-11-16T00:00:00.000000"
        },
        {
         "RSI": 57.48624096018824,
         "_deepnote_index_column": "2020-11-17T00:00:00.000000"
        },
        {
         "RSI": 55.918371982808125,
         "_deepnote_index_column": "2020-11-18T00:00:00.000000"
        },
        {
         "RSI": 59.038326575222975,
         "_deepnote_index_column": "2020-11-19T00:00:00.000000"
        },
        {
         "RSI": 61.12507348066901,
         "_deepnote_index_column": "2020-11-20T00:00:00.000000"
        },
        {
         "RSI": 66.20545327628642,
         "_deepnote_index_column": "2020-11-23T00:00:00.000000"
        },
        {
         "RSI": 62.566918761897334,
         "_deepnote_index_column": "2020-11-24T00:00:00.000000"
        },
        {
         "RSI": 66.6230476591862,
         "_deepnote_index_column": "2020-11-25T00:00:00.000000"
        },
        {
         "RSI": 66.31413732564123,
         "_deepnote_index_column": "2020-11-27T00:00:00.000000"
        },
        {
         "RSI": 65.04738125160276,
         "_deepnote_index_column": "2020-11-30T00:00:00.000000"
        },
        {
         "RSI": 58.86805974638903,
         "_deepnote_index_column": "2020-12-01T00:00:00.000000"
        },
        {
         "RSI": 58.12106798817094,
         "_deepnote_index_column": "2020-12-02T00:00:00.000000"
        },
        {
         "RSI": 60.04828556337879,
         "_deepnote_index_column": "2020-12-03T00:00:00.000000"
        },
        {
         "RSI": 61.46568861127307,
         "_deepnote_index_column": "2020-12-04T00:00:00.000000"
        },
        {
         "RSI": 63.80402468888296,
         "_deepnote_index_column": "2020-12-07T00:00:00.000000"
        },
        {
         "RSI": 64.03217169897005,
         "_deepnote_index_column": "2020-12-08T00:00:00.000000"
        },
        {
         "RSI": 58.51728364045699,
         "_deepnote_index_column": "2020-12-09T00:00:00.000000"
        },
        {
         "RSI": 64.19663352696233,
         "_deepnote_index_column": "2020-12-10T00:00:00.000000"
        },
        {
         "RSI": 63.59055478307829,
         "_deepnote_index_column": "2020-12-11T00:00:00.000000"
        },
        {
         "RSI": 62.88340485131221,
         "_deepnote_index_column": "2020-12-14T00:00:00.000000"
        },
        {
         "RSI": 65.23862123564612,
         "_deepnote_index_column": "2020-12-15T00:00:00.000000"
        },
        {
         "RSI": 68.88838961778887,
         "_deepnote_index_column": "2020-12-16T00:00:00.000000"
        },
        {
         "RSI": 70.6042167822339,
         "_deepnote_index_column": "2020-12-17T00:00:00.000000"
        },
        {
         "RSI": 72.69145890117429,
         "_deepnote_index_column": "2020-12-18T00:00:00.000000"
        },
        {
         "RSI": 70.46079654545869,
         "_deepnote_index_column": "2020-12-21T00:00:00.000000"
        },
        {
         "RSI": 74.01855144072866,
         "_deepnote_index_column": "2020-12-22T00:00:00.000000"
        },
        {
         "RSI": 62.99582348255342,
         "_deepnote_index_column": "2020-12-23T00:00:00.000000"
        },
        {
         "RSI": 60.8472155512165,
         "_deepnote_index_column": "2020-12-24T00:00:00.000000"
        },
        {
         "RSI": 56.57025482892347,
         "_deepnote_index_column": "2020-12-28T00:00:00.000000"
        },
        {
         "RSI": 49.48761292866917,
         "_deepnote_index_column": "2020-12-29T00:00:00.000000"
        },
        {
         "RSI": 54.147548691614006,
         "_deepnote_index_column": "2020-12-30T00:00:00.000000"
        },
        {
         "RSI": 51.66842695636136,
         "_deepnote_index_column": "2020-12-31T00:00:00.000000"
        },
        {
         "RSI": 54.01577588879475,
         "_deepnote_index_column": "2021-01-04T00:00:00.000000"
        },
        {
         "RSI": 59.22076970050841,
         "_deepnote_index_column": "2021-01-05T00:00:00.000000"
        },
        {
         "RSI": 56.91101675507263,
         "_deepnote_index_column": "2021-01-06T00:00:00.000000"
        },
        {
         "RSI": 63.63490347299557,
         "_deepnote_index_column": "2021-01-07T00:00:00.000000"
        },
        {
         "RSI": 64.56663776661705,
         "_deepnote_index_column": "2021-01-08T00:00:00.000000"
        },
        {
         "RSI": 52.77632615922365,
         "_deepnote_index_column": "2021-01-11T00:00:00.000000"
        },
        {
         "RSI": 53.92387048302004,
         "_deepnote_index_column": "2021-01-12T00:00:00.000000"
        },
        {
         "RSI": 55.867779827227494,
         "_deepnote_index_column": "2021-01-13T00:00:00.000000"
        },
        {
         "RSI": 56.94370892265588,
         "_deepnote_index_column": "2021-01-14T00:00:00.000000"
        },
        {
         "RSI": 53.180531310099916,
         "_deepnote_index_column": "2021-01-15T00:00:00.000000"
        },
        {
         "RSI": 52.81508580080345,
         "_deepnote_index_column": "2021-01-19T00:00:00.000000"
        },
        {
         "RSI": 52.33296122304568,
         "_deepnote_index_column": "2021-01-20T00:00:00.000000"
        },
        {
         "RSI": 47.00727008715563,
         "_deepnote_index_column": "2021-01-21T00:00:00.000000"
        },
        {
         "RSI": 49.57019728676194,
         "_deepnote_index_column": "2021-01-22T00:00:00.000000"
        },
        {
         "RSI": 45.076339044493494,
         "_deepnote_index_column": "2021-01-25T00:00:00.000000"
        },
        {
         "RSI": 40.35936555014013,
         "_deepnote_index_column": "2021-01-26T00:00:00.000000"
        },
        {
         "RSI": 36.64941730695203,
         "_deepnote_index_column": "2021-01-27T00:00:00.000000"
        },
        {
         "RSI": 49.61953135784555,
         "_deepnote_index_column": "2021-01-28T00:00:00.000000"
        },
        {
         "RSI": 47.26079039192528,
         "_deepnote_index_column": "2021-01-29T00:00:00.000000"
        },
        {
         "RSI": 51.0542168616145,
         "_deepnote_index_column": "2021-02-01T00:00:00.000000"
        },
        {
         "RSI": 54.41410487862143,
         "_deepnote_index_column": "2021-02-02T00:00:00.000000"
        },
        {
         "RSI": 54.59696747686491,
         "_deepnote_index_column": "2021-02-03T00:00:00.000000"
        },
        {
         "RSI": 60.04269379409219,
         "_deepnote_index_column": "2021-02-04T00:00:00.000000"
        },
        {
         "RSI": 61.39881861340667,
         "_deepnote_index_column": "2021-02-05T00:00:00.000000"
        },
        {
         "RSI": 69.5856939597496,
         "_deepnote_index_column": "2021-02-08T00:00:00.000000"
        },
        {
         "RSI": 68.11645277123827,
         "_deepnote_index_column": "2021-02-09T00:00:00.000000"
        },
        {
         "RSI": 67.59305646332756,
         "_deepnote_index_column": "2021-02-10T00:00:00.000000"
        },
        {
         "RSI": 70.8270712594494,
         "_deepnote_index_column": "2021-02-11T00:00:00.000000"
        },
        {
         "RSI": 73.15808275533166,
         "_deepnote_index_column": "2021-02-12T00:00:00.000000"
        },
        {
         "RSI": 74.22165160476288,
         "_deepnote_index_column": "2021-02-16T00:00:00.000000"
        },
        {
         "RSI": 69.60732855412195,
         "_deepnote_index_column": "2021-02-17T00:00:00.000000"
        },
        {
         "RSI": 69.5248645364044,
         "_deepnote_index_column": "2021-02-18T00:00:00.000000"
        },
        {
         "RSI": 71.81072344857043,
         "_deepnote_index_column": "2021-02-19T00:00:00.000000"
        },
        {
         "RSI": 64.12272858219231,
         "_deepnote_index_column": "2021-02-22T00:00:00.000000"
        },
        {
         "RSI": 55.4678547122367,
         "_deepnote_index_column": "2021-02-23T00:00:00.000000"
        },
        {
         "RSI": 44.59625145335401,
         "_deepnote_index_column": "2021-02-24T00:00:00.000000"
        },
        {
         "RSI": 40.11045969058176,
         "_deepnote_index_column": "2021-02-25T00:00:00.000000"
        },
        {
         "RSI": 41.91008756048774,
         "_deepnote_index_column": "2021-02-26T00:00:00.000000"
        },
        {
         "RSI": 48.20679217807801,
         "_deepnote_index_column": "2021-03-01T00:00:00.000000"
        },
        {
         "RSI": 53.722240678616515,
         "_deepnote_index_column": "2021-03-02T00:00:00.000000"
        },
        {
         "RSI": 45.361663170626684,
         "_deepnote_index_column": "2021-03-03T00:00:00.000000"
        },
        {
         "RSI": 39.54740543795376,
         "_deepnote_index_column": "2021-03-04T00:00:00.000000"
        },
        {
         "RSI": 38.87786479035455,
         "_deepnote_index_column": "2021-03-05T00:00:00.000000"
        },
        {
         "RSI": 34.25828448253699,
         "_deepnote_index_column": "2021-03-08T00:00:00.000000"
        },
        {
         "RSI": 45.39420243769556,
         "_deepnote_index_column": "2021-03-09T00:00:00.000000"
        },
        {
         "RSI": 46.0887950504206,
         "_deepnote_index_column": "2021-03-10T00:00:00.000000"
        },
        {
         "RSI": 52.08781334461855,
         "_deepnote_index_column": "2021-03-11T00:00:00.000000"
        },
        {
         "RSI": 52.23672957097673,
         "_deepnote_index_column": "2021-03-12T00:00:00.000000"
        },
        {
         "RSI": 55.70391253613796,
         "_deepnote_index_column": "2021-03-15T00:00:00.000000"
        },
        {
         "RSI": 52.18359955154892,
         "_deepnote_index_column": "2021-03-16T00:00:00.000000"
        },
        {
         "RSI": 53.43592512948045,
         "_deepnote_index_column": "2021-03-17T00:00:00.000000"
        },
        {
         "RSI": 44.490559359954354,
         "_deepnote_index_column": "2021-03-18T00:00:00.000000"
        },
        {
         "RSI": 44.7332405731028,
         "_deepnote_index_column": "2021-03-19T00:00:00.000000"
        },
        {
         "RSI": 45.34794272197042,
         "_deepnote_index_column": "2021-03-22T00:00:00.000000"
        },
        {
         "RSI": 44.14689089850808,
         "_deepnote_index_column": "2021-03-23T00:00:00.000000"
        },
        {
         "RSI": 40.34152643779418,
         "_deepnote_index_column": "2021-03-24T00:00:00.000000"
        },
        {
         "RSI": 38.483460968525215,
         "_deepnote_index_column": "2021-03-25T00:00:00.000000"
        },
        {
         "RSI": 41.4399911902297,
         "_deepnote_index_column": "2021-03-26T00:00:00.000000"
        },
        {
         "RSI": 38.919089323502064,
         "_deepnote_index_column": "2021-03-29T00:00:00.000000"
        },
        {
         "RSI": 42.248718073352045,
         "_deepnote_index_column": "2021-03-30T00:00:00.000000"
        },
        {
         "RSI": 49.683017717410735,
         "_deepnote_index_column": "2021-03-31T00:00:00.000000"
        },
        {
         "RSI": 50.86148918383614,
         "_deepnote_index_column": "2021-04-01T00:00:00.000000"
        },
        {
         "RSI": 51.0821767066749,
         "_deepnote_index_column": "2021-04-05T00:00:00.000000"
        },
        {
         "RSI": 54.36766257733153,
         "_deepnote_index_column": "2021-04-06T00:00:00.000000"
        },
        {
         "RSI": 58.333790134995205,
         "_deepnote_index_column": "2021-04-07T00:00:00.000000"
        },
        {
         "RSI": 63.57453069086915,
         "_deepnote_index_column": "2021-04-08T00:00:00.000000"
        },
        {
         "RSI": 64.75629984027114,
         "_deepnote_index_column": "2021-04-09T00:00:00.000000"
        },
        {
         "RSI": 66.04049331709024,
         "_deepnote_index_column": "2021-04-12T00:00:00.000000"
        },
        {
         "RSI": 68.80901319613206,
         "_deepnote_index_column": "2021-04-13T00:00:00.000000"
        },
        {
         "RSI": 59.208752245483986,
         "_deepnote_index_column": "2021-04-14T00:00:00.000000"
        },
        {
         "RSI": 61.05535574712671,
         "_deepnote_index_column": "2021-04-15T00:00:00.000000"
        },
        {
         "RSI": 56.916870645235576,
         "_deepnote_index_column": "2021-04-16T00:00:00.000000"
        },
        {
         "RSI": 51.15513633244121,
         "_deepnote_index_column": "2021-04-19T00:00:00.000000"
        },
        {
         "RSI": 51.2390431953914,
         "_deepnote_index_column": "2021-04-20T00:00:00.000000"
        },
        {
         "RSI": 51.10002228745673,
         "_deepnote_index_column": "2021-04-21T00:00:00.000000"
        },
        {
         "RSI": 51.01654641215585,
         "_deepnote_index_column": "2021-04-22T00:00:00.000000"
        },
        {
         "RSI": 51.81578155682639,
         "_deepnote_index_column": "2021-04-23T00:00:00.000000"
        },
        {
         "RSI": 57.14416980417173,
         "_deepnote_index_column": "2021-04-26T00:00:00.000000"
        },
        {
         "RSI": 55.73702214487549,
         "_deepnote_index_column": "2021-04-27T00:00:00.000000"
        },
        {
         "RSI": 55.97875455914111,
         "_deepnote_index_column": "2021-04-28T00:00:00.000000"
        },
        {
         "RSI": 51.244770479841286,
         "_deepnote_index_column": "2021-04-29T00:00:00.000000"
        },
        {
         "RSI": 49.199239599760084,
         "_deepnote_index_column": "2021-04-30T00:00:00.000000"
        },
        {
         "RSI": 48.39258979954706,
         "_deepnote_index_column": "2021-05-03T00:00:00.000000"
        },
        {
         "RSI": 40.54857223934126,
         "_deepnote_index_column": "2021-05-04T00:00:00.000000"
        },
        {
         "RSI": 41.10825372987775,
         "_deepnote_index_column": "2021-05-05T00:00:00.000000"
        },
        {
         "RSI": 36.77166492115253,
         "_deepnote_index_column": "2021-05-06T00:00:00.000000"
        },
        {
         "RSI": 44.28550298446784,
         "_deepnote_index_column": "2021-05-07T00:00:00.000000"
        },
        {
         "RSI": 35.98675471216909,
         "_deepnote_index_column": "2021-05-10T00:00:00.000000"
        },
        {
         "RSI": 39.054297663599414,
         "_deepnote_index_column": "2021-05-11T00:00:00.000000"
        },
        {
         "RSI": 33.35231450705788,
         "_deepnote_index_column": "2021-05-12T00:00:00.000000"
        },
        {
         "RSI": 30.12050966008816,
         "_deepnote_index_column": "2021-05-13T00:00:00.000000"
        },
        {
         "RSI": 37.454595748537635,
         "_deepnote_index_column": "2021-05-14T00:00:00.000000"
        },
        {
         "RSI": 35.60391504179529,
         "_deepnote_index_column": "2021-05-17T00:00:00.000000"
        },
        {
         "RSI": 35.770302469299736,
         "_deepnote_index_column": "2021-05-18T00:00:00.000000"
        },
        {
         "RSI": 34.54862765969958,
         "_deepnote_index_column": "2021-05-19T00:00:00.000000"
        },
        {
         "RSI": 38.12991869983604,
         "_deepnote_index_column": "2021-05-20T00:00:00.000000"
        },
        {
         "RSI": 35.9664129821371,
         "_deepnote_index_column": "2021-05-21T00:00:00.000000"
        },
        {
         "RSI": 43.65353934709047,
         "_deepnote_index_column": "2021-05-24T00:00:00.000000"
        },
        {
         "RSI": 46.94514564140232,
         "_deepnote_index_column": "2021-05-25T00:00:00.000000"
        },
        {
         "RSI": 50.581174880141226,
         "_deepnote_index_column": "2021-05-26T00:00:00.000000"
        },
        {
         "RSI": 49.720542498458315,
         "_deepnote_index_column": "2021-05-27T00:00:00.000000"
        },
        {
         "RSI": 50.73608234082965,
         "_deepnote_index_column": "2021-05-28T00:00:00.000000"
        },
        {
         "RSI": 50.35072869957463,
         "_deepnote_index_column": "2021-06-01T00:00:00.000000"
        },
        {
         "RSI": 49.26210305506152,
         "_deepnote_index_column": "2021-06-02T00:00:00.000000"
        },
        {
         "RSI": 43.37316914692181,
         "_deepnote_index_column": "2021-06-03T00:00:00.000000"
        },
        {
         "RSI": 45.15028697057087,
         "_deepnote_index_column": "2021-06-04T00:00:00.000000"
        },
        {
         "RSI": 47.6999752978632,
         "_deepnote_index_column": "2021-06-07T00:00:00.000000"
        },
        {
         "RSI": 45.71337474733123,
         "_deepnote_index_column": "2021-06-08T00:00:00.000000"
        },
        {
         "RSI": 43.04591556232165,
         "_deepnote_index_column": "2021-06-09T00:00:00.000000"
        },
        {
         "RSI": 48.7535987790395,
         "_deepnote_index_column": "2021-06-10T00:00:00.000000"
        },
        {
         "RSI": 50.45122431925929,
         "_deepnote_index_column": "2021-06-11T00:00:00.000000"
        },
        {
         "RSI": 58.3016353857072,
         "_deepnote_index_column": "2021-06-14T00:00:00.000000"
        },
        {
         "RSI": 55.6829477761801,
         "_deepnote_index_column": "2021-06-15T00:00:00.000000"
        },
        {
         "RSI": 53.546118161707255,
         "_deepnote_index_column": "2021-06-16T00:00:00.000000"
        },
        {
         "RSI": 60.38076906286705,
         "_deepnote_index_column": "2021-06-17T00:00:00.000000"
        },
        {
         "RSI": 60.89799845685565,
         "_deepnote_index_column": "2021-06-18T00:00:00.000000"
        },
        {
         "RSI": 58.09266948604066,
         "_deepnote_index_column": "2021-06-21T00:00:00.000000"
        },
        {
         "RSI": 59.417854737181685,
         "_deepnote_index_column": "2021-06-22T00:00:00.000000"
        },
        {
         "RSI": 61.15411394457431,
         "_deepnote_index_column": "2021-06-23T00:00:00.000000"
        },
        {
         "RSI": 64.42622813594853,
         "_deepnote_index_column": "2021-06-24T00:00:00.000000"
        },
        {
         "RSI": 60.20729925547271,
         "_deepnote_index_column": "2021-06-25T00:00:00.000000"
        },
        {
         "RSI": 64.20110598885977,
         "_deepnote_index_column": "2021-06-28T00:00:00.000000"
        },
        {
         "RSI": 65.47307209137846,
         "_deepnote_index_column": "2021-06-29T00:00:00.000000"
        },
        {
         "RSI": 60.31814953172479,
         "_deepnote_index_column": "2021-06-30T00:00:00.000000"
        },
        {
         "RSI": 58.41320728117894,
         "_deepnote_index_column": "2021-07-01T00:00:00.000000"
        },
        {
         "RSI": 57.63911102798673,
         "_deepnote_index_column": "2021-07-02T00:00:00.000000"
        },
        {
         "RSI": 61.635276574436105,
         "_deepnote_index_column": "2021-07-06T00:00:00.000000"
        },
        {
         "RSI": 59.422464579729734,
         "_deepnote_index_column": "2021-07-07T00:00:00.000000"
        },
        {
         "RSI": 51.048554383259045,
         "_deepnote_index_column": "2021-07-08T00:00:00.000000"
        },
        {
         "RSI": 55.660350438115984,
         "_deepnote_index_column": "2021-07-09T00:00:00.000000"
        },
        {
         "RSI": 56.73039007994255,
         "_deepnote_index_column": "2021-07-12T00:00:00.000000"
        },
        {
         "RSI": 54.855558131485346,
         "_deepnote_index_column": "2021-07-13T00:00:00.000000"
        },
        {
         "RSI": 52.491172916312706,
         "_deepnote_index_column": "2021-07-14T00:00:00.000000"
        },
        {
         "RSI": 48.90399848697754,
         "_deepnote_index_column": "2021-07-15T00:00:00.000000"
        },
        {
         "RSI": 51.11509150389082,
         "_deepnote_index_column": "2021-07-16T00:00:00.000000"
        },
        {
         "RSI": 47.521091648438635,
         "_deepnote_index_column": "2021-07-19T00:00:00.000000"
        },
        {
         "RSI": 58.10619754815302,
         "_deepnote_index_column": "2021-07-20T00:00:00.000000"
        },
        {
         "RSI": 64.59352334916375,
         "_deepnote_index_column": "2021-07-21T00:00:00.000000"
        },
        {
         "RSI": 66.33305220234666,
         "_deepnote_index_column": "2021-07-22T00:00:00.000000"
        },
        {
         "RSI": 68.0584847182078,
         "_deepnote_index_column": "2021-07-23T00:00:00.000000"
        },
        {
         "RSI": 65.91411022950876,
         "_deepnote_index_column": "2021-07-26T00:00:00.000000"
        },
        {
         "RSI": 56.18310439549998,
         "_deepnote_index_column": "2021-07-27T00:00:00.000000"
        },
        {
         "RSI": 60.40445129691376,
         "_deepnote_index_column": "2021-07-28T00:00:00.000000"
        },
        {
         "RSI": 57.51617448814755,
         "_deepnote_index_column": "2021-07-29T00:00:00.000000"
        },
        {
         "RSI": 51.1701289832644,
         "_deepnote_index_column": "2021-07-30T00:00:00.000000"
        },
        {
         "RSI": 64.41416266955721,
         "_deepnote_index_column": "2021-08-02T00:00:00.000000"
        },
        {
         "RSI": 62.31992235243788,
         "_deepnote_index_column": "2021-08-03T00:00:00.000000"
        },
        {
         "RSI": 60.085156230952656,
         "_deepnote_index_column": "2021-08-04T00:00:00.000000"
        },
        {
         "RSI": 66.55912461053536,
         "_deepnote_index_column": "2021-08-05T00:00:00.000000"
        },
        {
         "RSI": 61.84895057891691,
         "_deepnote_index_column": "2021-08-06T00:00:00.000000"
        },
        {
         "RSI": 63.754947733414326,
         "_deepnote_index_column": "2021-08-09T00:00:00.000000"
        },
        {
         "RSI": 59.181651694426414,
         "_deepnote_index_column": "2021-08-10T00:00:00.000000"
        }
       ]
      },
      "text/plain": "                  RSI\nDate                 \n2015-11-30        NaN\n2015-12-01   0.000000\n2015-12-02   1.169616\n2015-12-03   1.162296\n2015-12-04   8.557893\n...               ...\n2021-08-04  60.085156\n2021-08-05  66.559125\n2021-08-06  61.848951\n2021-08-09  63.754948\n2021-08-10  59.181652\n\n[1434 rows x 1 columns]",
      "text/html": "<div>\n<style scoped>\n    .dataframe tbody tr th:only-of-type {\n        vertical-align: middle;\n    }\n\n    .dataframe tbody tr th {\n        vertical-align: top;\n    }\n\n    .dataframe thead th {\n        text-align: right;\n    }\n</style>\n<table border=\"1\" class=\"dataframe\">\n  <thead>\n    <tr style=\"text-align: right;\">\n      <th></th>\n      <th>RSI</th>\n    </tr>\n    <tr>\n      <th>Date</th>\n      <th></th>\n    </tr>\n  </thead>\n  <tbody>\n    <tr>\n      <th>2015-11-30</th>\n      <td>NaN</td>\n    </tr>\n    <tr>\n      <th>2015-12-01</th>\n      <td>0.000000</td>\n    </tr>\n    <tr>\n      <th>2015-12-02</th>\n      <td>1.169616</td>\n    </tr>\n    <tr>\n      <th>2015-12-03</th>\n      <td>1.162296</td>\n    </tr>\n    <tr>\n      <th>2015-12-04</th>\n      <td>8.557893</td>\n    </tr>\n    <tr>\n      <th>...</th>\n      <td>...</td>\n    </tr>\n    <tr>\n      <th>2021-08-04</th>\n      <td>60.085156</td>\n    </tr>\n    <tr>\n      <th>2021-08-05</th>\n      <td>66.559125</td>\n    </tr>\n    <tr>\n      <th>2021-08-06</th>\n      <td>61.848951</td>\n    </tr>\n    <tr>\n      <th>2021-08-09</th>\n      <td>63.754948</td>\n    </tr>\n    <tr>\n      <th>2021-08-10</th>\n      <td>59.181652</td>\n    </tr>\n  </tbody>\n</table>\n<p>1434 rows × 1 columns</p>\n</div>"
     },
     "metadata": {}
    }
   ],
   "execution_count": null
  },
  {
   "cell_type": "code",
   "metadata": {
    "tags": [],
    "deepnote_to_be_reexecuted": false,
    "source_hash": "86637199",
    "execution_start": 1629252653138,
    "execution_millis": 585,
    "cell_id": "00005-d3056d8b-8d0e-4f64-8fb7-d17dbb553cb3",
    "deepnote_cell_type": "code"
   },
   "source": "fig, (ax1, ax2) = plt.subplots(2)\nax1.get_xaxis().set_visible(False)\nfig.suptitle('SQ-1d')\nsq_1d['Close'].plot(ax=ax1)\n\nax1.set_ylabel('Price ($)')\nsq_1d['RSI'].plot(ax=ax2)\nax2.set_ylim(0,100)\nax2.axhline(30, color= 'r', linestyle= '--')\nax2.axhline(70, color= 'r', linestyle= '--')\nax2.set_ylabel('RSI')\nplt.show()",
   "outputs": [
    {
     "data": {
      "text/plain": "<Figure size 1440x720 with 2 Axes>",
      "image/png": "[encoded data removed]"
     },
     "metadata": {
      "image/png": {
       "width": 1319,
       "height": 631
      }
     },
     "output_type": "display_data"
    }
   ],
   "execution_count": null
  },
  {
   "cell_type": "code",
   "metadata": {
    "tags": [],
    "deepnote_to_be_reexecuted": false,
    "source_hash": "b5199ce1",
    "execution_start": 1629252653733,
    "execution_millis": 18,
    "cell_id": "00006-ea850cf5-d96f-4dac-b7e7-0ba4c7fc671a",
    "deepnote_cell_type": "code"
   },
   "source": "def implement_rsi_strategy(prices, rsi):    \n    buy_price = []\n    sell_price = []\n    rsi_signal = []\n    signal = 0\n\n    for i in range(len(rsi)):\n        if rsi[i-1] > 40 and rsi[i] < 40:\n            if signal != 1:\n                buy_price.append(prices[i])\n                sell_price.append(np.nan)\n                signal = 1\n                rsi_signal.append(signal)\n            else:\n                buy_price.append(np.nan)\n                sell_price.append(np.nan)\n                rsi_signal.append(0)\n        elif rsi[i-1] < 70 and rsi[i] > 70:\n            if signal != -1:\n                buy_price.append(np.nan)\n                sell_price.append(prices[i])\n                signal = -1\n                rsi_signal.append(signal)\n            else:\n                buy_price.append(np.nan)\n                sell_price.append(np.nan)\n                rsi_signal.append(0)\n        else:\n            buy_price.append(np.nan)\n            sell_price.append(np.nan)\n            rsi_signal.append(0)\n            \n    return buy_price, sell_price, rsi_signal\n            \n\nbuy_price, sell_price, rsi_signal = implement_rsi_strategy(sq_1d['Close'], sq_1d_rsi['RSI'])",
   "outputs": [],
   "execution_count": null
  },
  {
   "cell_type": "code",
   "metadata": {
    "tags": [],
    "deepnote_to_be_reexecuted": false,
    "source_hash": "fb13a9a2",
    "execution_start": 1629252653762,
    "execution_millis": 589,
    "cell_id": "00007-a130fd5e-8b7d-4c1c-bb94-62cc74f0e028",
    "deepnote_cell_type": "code"
   },
   "source": "ax1 = plt.subplot2grid((10,1), (0,0), rowspan = 4, colspan = 1)\nax2 = plt.subplot2grid((10,1), (5,0), rowspan = 4, colspan = 1)\nax1.plot(sq_1d['Close'], linewidth = 2.5, color = 'skyblue', label = 'SQ')\nax1.plot(sq_1d.index, buy_price, marker = '^', markersize = 10, color = 'green', label = 'BUY SIGNAL')\nax1.plot(sq_1d.index, sell_price, marker = 'v', markersize = 10, color = 'r', label = 'SELL SIGNAL')\nax1.set_title('SQ DAILY RSI TRADE SIGNALS')\nax2.plot(sq_1d['RSI'], color = 'orange', linewidth = 2.5)\nax2.axhline(40, linestyle = '--', linewidth = 1.5, color = 'grey')\nax2.axhline(70, linestyle = '--', linewidth = 1.5, color = 'grey')\nplt.show()",
   "outputs": [
    {
     "data": {
      "text/plain": "<Figure size 1440x720 with 2 Axes>",
      "image/png": "[encoded data removed]"
     },
     "metadata": {
      "image/png": {
       "width": 1297,
       "height": 576
      }
     },
     "output_type": "display_data"
    }
   ],
   "execution_count": null
  },
  {
   "cell_type": "code",
   "metadata": {
    "tags": [],
    "deepnote_to_be_reexecuted": false,
    "source_hash": "fafb02dd",
    "execution_start": 1629252654369,
    "execution_millis": 62,
    "cell_id": "00008-0c3cdb46-369c-4e61-acfc-108403e8a32d",
    "deepnote_cell_type": "code"
   },
   "source": "position = []\nfor i in range(len(rsi_signal)):\n    if rsi_signal[i] > 1:\n        position.append(0)\n    else:\n        position.append(1)\n        \nfor i in range(len(sq_1d['Close'])):\n    if rsi_signal[i] == 1:\n        position[i] = 1\n    elif rsi_signal[i] == -1:\n        position[i] = 0\n    else:\n        position[i] = position[i-1]\n        \nrsi = sq_1d_rsi['RSI']\nclose_price = sq_1d['Close']\nrsi_signal = pd.DataFrame(rsi_signal).rename(columns = {0:'rsi_signal'}).set_index(sq_1d.index)\nposition = pd.DataFrame(position).rename(columns = {0:'rsi_position'}).set_index(sq_1d.index)\n\nframes = [close_price, rsi, rsi_signal, position]\nstrategy = pd.concat(frames, join = 'inner', axis = 1)\n\nstrategy",
   "outputs": [
    {
     "output_type": "execute_result",
     "execution_count": 9,
     "data": {
      "application/vnd.deepnote.dataframe.v2+json": {
       "row_count": 1434,
       "column_count": 4,
       "columns": [
        {
         "name": "Close",
         "dtype": "float64",
         "stats": {
          "unique_count": 1294,
          "nan_count": 0,
          "min": "8.369999885559082",
          "max": "281.80999755859375",
          "histogram": [
           {
            "bin_start": 8.369999885559082,
            "bin_end": 35.71399965286255,
            "count": 488
           },
           {
            "bin_start": 35.71399965286255,
            "bin_end": 63.05799942016601,
            "count": 279
           },
           {
            "bin_start": 63.05799942016601,
            "bin_end": 90.40199918746947,
            "count": 360
           },
           {
            "bin_start": 90.40199918746947,
            "bin_end": 117.74599895477294,
            "count": 29
           },
           {
            "bin_start": 117.74599895477294,
            "bin_end": 145.08999872207642,
            "count": 33
           },
           {
            "bin_start": 145.08999872207642,
            "bin_end": 172.43399848937986,
            "count": 40
           },
           {
            "bin_start": 172.43399848937986,
            "bin_end": 199.77799825668333,
            "count": 27
           },
           {
            "bin_start": 199.77799825668333,
            "bin_end": 227.1219980239868,
            "count": 74
           },
           {
            "bin_start": 227.1219980239868,
            "bin_end": 254.46599779129028,
            "count": 72
           },
           {
            "bin_start": 254.46599779129028,
            "bin_end": 281.80999755859375,
            "count": 32
           }
          ]
         }
        },
        {
         "name": "RSI",
         "dtype": "float64",
         "stats": {
          "unique_count": 1429,
          "nan_count": 1,
          "min": "0.0",
          "max": "92.0381930630099",
          "histogram": [
           {
            "bin_start": 0,
            "bin_end": 9.20381930630099,
            "count": 4
           },
           {
            "bin_start": 9.20381930630099,
            "bin_end": 18.40763861260198,
            "count": 0
           },
           {
            "bin_start": 18.40763861260198,
            "bin_end": 27.611457918902968,
            "count": 32
           },
           {
            "bin_start": 27.611457918902968,
            "bin_end": 36.81527722520396,
            "count": 107
           },
           {
            "bin_start": 36.81527722520396,
            "bin_end": 46.01909653150494,
            "count": 200
           },
           {
            "bin_start": 46.01909653150494,
            "bin_end": 55.222915837805935,
            "count": 327
           },
           {
            "bin_start": 55.222915837805935,
            "bin_end": 64.42673514410693,
            "count": 379
           },
           {
            "bin_start": 64.42673514410693,
            "bin_end": 73.63055445040791,
            "count": 290
           },
           {
            "bin_start": 73.63055445040791,
            "bin_end": 82.8343737567089,
            "count": 79
           },
           {
            "bin_start": 82.8343737567089,
            "bin_end": 92.0381930630099,
            "count": 15
           }
          ]
         }
        },
        {
         "name": "rsi_signal",
         "dtype": "int64",
         "stats": {
          "unique_count": 3,
          "nan_count": 0,
          "min": "-1",
          "max": "1",
          "histogram": [
           {
            "bin_start": -1,
            "bin_end": -0.8,
            "count": 11
           },
           {
            "bin_start": -0.8,
            "bin_end": -0.6,
            "count": 0
           },
           {
            "bin_start": -0.6,
            "bin_end": -0.3999999999999999,
            "count": 0
           },
           {
            "bin_start": -0.3999999999999999,
            "bin_end": -0.19999999999999996,
            "count": 0
           },
           {
            "bin_start": -0.19999999999999996,
            "bin_end": 0,
            "count": 0
           },
           {
            "bin_start": 0,
            "bin_end": 0.20000000000000018,
            "count": 1411
           },
           {
            "bin_start": 0.20000000000000018,
            "bin_end": 0.40000000000000013,
            "count": 0
           },
           {
            "bin_start": 0.40000000000000013,
            "bin_end": 0.6000000000000001,
            "count": 0
           },
           {
            "bin_start": 0.6000000000000001,
            "bin_end": 0.8,
            "count": 0
           },
           {
            "bin_start": 0.8,
            "bin_end": 1,
            "count": 12
           }
          ]
         }
        },
        {
         "name": "rsi_position",
         "dtype": "int64",
         "stats": {
          "unique_count": 2,
          "nan_count": 0,
          "min": "0",
          "max": "1",
          "histogram": [
           {
            "bin_start": 0,
            "bin_end": 0.1,
            "count": 668
           },
           {
            "bin_start": 0.1,
            "bin_end": 0.2,
            "count": 0
           },
           {
            "bin_start": 0.2,
            "bin_end": 0.30000000000000004,
            "count": 0
           },
           {
            "bin_start": 0.30000000000000004,
            "bin_end": 0.4,
            "count": 0
           },
           {
            "bin_start": 0.4,
            "bin_end": 0.5,
            "count": 0
           },
           {
            "bin_start": 0.5,
            "bin_end": 0.6000000000000001,
            "count": 0
           },
           {
            "bin_start": 0.6000000000000001,
            "bin_end": 0.7000000000000001,
            "count": 0
           },
           {
            "bin_start": 0.7000000000000001,
            "bin_end": 0.8,
            "count": 0
           },
           {
            "bin_start": 0.8,
            "bin_end": 0.9,
            "count": 0
           },
           {
            "bin_start": 0.9,
            "bin_end": 1,
            "count": 766
           }
          ]
         }
        },
        {
         "name": "_deepnote_index_column",
         "dtype": "datetime64[ns]"
        }
       ],
       "rows_top": [
        {
         "Close": 12.039999961853027,
         "RSI": "nan",
         "rsi_signal": 0,
         "rsi_position": 1,
         "_deepnote_index_column": "2015-11-30T00:00:00.000000"
        },
        {
         "Close": 11.90999984741211,
         "RSI": 0,
         "rsi_signal": 0,
         "rsi_position": 1,
         "_deepnote_index_column": "2015-12-01T00:00:00.000000"
        },
        {
         "Close": 11.930000305175781,
         "RSI": 1.169616082388444,
         "rsi_signal": 0,
         "rsi_position": 1,
         "_deepnote_index_column": "2015-12-02T00:00:00.000000"
        },
        {
         "Close": 11.920000076293945,
         "RSI": 1.1622960202159902,
         "rsi_signal": 0,
         "rsi_position": 1,
         "_deepnote_index_column": "2015-12-03T00:00:00.000000"
        },
        {
         "Close": 12.039999961853027,
         "RSI": 8.55789302608838,
         "rsi_signal": 0,
         "rsi_position": 1,
         "_deepnote_index_column": "2015-12-04T00:00:00.000000"
        },
        {
         "Close": 12.359999656677246,
         "RSI": 24.731818234713913,
         "rsi_signal": 0,
         "rsi_position": 1,
         "_deepnote_index_column": "2015-12-07T00:00:00.000000"
        },
        {
         "Close": 12.119999885559082,
         "RSI": 21.640258780980673,
         "rsi_signal": 0,
         "rsi_position": 1,
         "_deepnote_index_column": "2015-12-08T00:00:00.000000"
        },
        {
         "Close": 11.989999771118164,
         "RSI": 20.169522632593484,
         "rsi_signal": 0,
         "rsi_position": 1,
         "_deepnote_index_column": "2015-12-09T00:00:00.000000"
        },
        {
         "Close": 12.050000190734863,
         "RSI": 22.778125067653406,
         "rsi_signal": 0,
         "rsi_position": 1,
         "_deepnote_index_column": "2015-12-10T00:00:00.000000"
        },
        {
         "Close": 11.949999809265137,
         "RSI": 21.51619114414609,
         "rsi_signal": 0,
         "rsi_position": 1,
         "_deepnote_index_column": "2015-12-11T00:00:00.000000"
        },
        {
         "Close": 12.329999923706055,
         "RSI": 36.0212949652231,
         "rsi_signal": 0,
         "rsi_position": 1,
         "_deepnote_index_column": "2015-12-14T00:00:00.000000"
        },
        {
         "Close": 12.470000267028809,
         "RSI": 40.3922239043568,
         "rsi_signal": 0,
         "rsi_position": 1,
         "_deepnote_index_column": "2015-12-15T00:00:00.000000"
        },
        {
         "Close": 12.270000457763672,
         "RSI": 36.550574945443685,
         "rsi_signal": 1,
         "rsi_position": 1,
         "_deepnote_index_column": "2015-12-16T00:00:00.000000"
        },
        {
         "Close": 12.319999694824219,
         "RSI": 38.13468595964691,
         "rsi_signal": 0,
         "rsi_position": 1,
         "_deepnote_index_column": "2015-12-17T00:00:00.000000"
        },
        {
         "Close": 12.34000015258789,
         "RSI": 38.792980714139254,
         "rsi_signal": 0,
         "rsi_position": 1,
         "_deepnote_index_column": "2015-12-18T00:00:00.000000"
        },
        {
         "Close": 12.239999771118164,
         "RSI": 36.69076927736396,
         "rsi_signal": 0,
         "rsi_position": 1,
         "_deepnote_index_column": "2015-12-21T00:00:00.000000"
        },
        {
         "Close": 12.460000038146973,
         "RSI": 43.894168455977564,
         "rsi_signal": 0,
         "rsi_position": 1,
         "_deepnote_index_column": "2015-12-22T00:00:00.000000"
        },
        {
         "Close": 12.5,
         "RSI": 45.11689728957422,
         "rsi_signal": 0,
         "rsi_position": 1,
         "_deepnote_index_column": "2015-12-23T00:00:00.000000"
        },
        {
         "Close": 12.600000381469727,
         "RSI": 48.158658678665326,
         "rsi_signal": 0,
         "rsi_position": 1,
         "_deepnote_index_column": "2015-12-24T00:00:00.000000"
        },
        {
         "Close": 12.829999923706055,
         "RSI": 54.41624163221484,
         "rsi_signal": 0,
         "rsi_position": 1,
         "_deepnote_index_column": "2015-12-28T00:00:00.000000"
        },
        {
         "Close": 12.739999771118164,
         "RSI": 51.782262296430865,
         "rsi_signal": 0,
         "rsi_position": 1,
         "_deepnote_index_column": "2015-12-29T00:00:00.000000"
        },
        {
         "Close": 12.779999732971191,
         "RSI": 52.8740665963962,
         "rsi_signal": 0,
         "rsi_position": 1,
         "_deepnote_index_column": "2015-12-30T00:00:00.000000"
        },
        {
         "Close": 13.09000015258789,
         "RSI": 60.364539923787646,
         "rsi_signal": 0,
         "rsi_position": 1,
         "_deepnote_index_column": "2015-12-31T00:00:00.000000"
        },
        {
         "Close": 12.15999984741211,
         "RSI": 39.883623127152106,
         "rsi_signal": 0,
         "rsi_position": 1,
         "_deepnote_index_column": "2016-01-04T00:00:00.000000"
        },
        {
         "Close": 11.510000228881836,
         "RSI": 31.770229531928194,
         "rsi_signal": 0,
         "rsi_position": 1,
         "_deepnote_index_column": "2016-01-05T00:00:00.000000"
        },
        {
         "Close": 11.520000457763672,
         "RSI": 31.999422907609855,
         "rsi_signal": 0,
         "rsi_position": 1,
         "_deepnote_index_column": "2016-01-06T00:00:00.000000"
        },
        {
         "Close": 11.15999984741211,
         "RSI": 28.312347563668368,
         "rsi_signal": 0,
         "rsi_position": 1,
         "_deepnote_index_column": "2016-01-07T00:00:00.000000"
        },
        {
         "Close": 11.3100004196167,
         "RSI": 31.836588152814613,
         "rsi_signal": 0,
         "rsi_position": 1,
         "_deepnote_index_column": "2016-01-08T00:00:00.000000"
        },
        {
         "Close": 11.84000015258789,
         "RSI": 42.57811573356513,
         "rsi_signal": 0,
         "rsi_position": 1,
         "_deepnote_index_column": "2016-01-11T00:00:00.000000"
        },
        {
         "Close": 12.09000015258789,
         "RSI": 46.83407209929221,
         "rsi_signal": 0,
         "rsi_position": 1,
         "_deepnote_index_column": "2016-01-12T00:00:00.000000"
        },
        {
         "Close": 11.609999656677246,
         "RSI": 40.610441605257876,
         "rsi_signal": 0,
         "rsi_position": 1,
         "_deepnote_index_column": "2016-01-13T00:00:00.000000"
        },
        {
         "Close": 10.819999694824219,
         "RSI": 32.86876055105107,
         "rsi_signal": 0,
         "rsi_position": 1,
         "_deepnote_index_column": "2016-01-14T00:00:00.000000"
        },
        {
         "Close": 10.270000457763672,
         "RSI": 28.7583829061999,
         "rsi_signal": 0,
         "rsi_position": 1,
         "_deepnote_index_column": "2016-01-15T00:00:00.000000"
        },
        {
         "Close": 9.470000267028809,
         "RSI": 24.047693121763587,
         "rsi_signal": 0,
         "rsi_position": 1,
         "_deepnote_index_column": "2016-01-19T00:00:00.000000"
        },
        {
         "Close": 9.489999771118164,
         "RSI": 24.38116853946191,
         "rsi_signal": 0,
         "rsi_position": 1,
         "_deepnote_index_column": "2016-01-20T00:00:00.000000"
        },
        {
         "Close": 10.020000457763672,
         "RSI": 32.80141619730607,
         "rsi_signal": 0,
         "rsi_position": 1,
         "_deepnote_index_column": "2016-01-21T00:00:00.000000"
        },
        {
         "Close": 9.850000381469727,
         "RSI": 31.586479919009918,
         "rsi_signal": 0,
         "rsi_position": 1,
         "_deepnote_index_column": "2016-01-22T00:00:00.000000"
        },
        {
         "Close": 9.8100004196167,
         "RSI": 31.292782432006106,
         "rsi_signal": 0,
         "rsi_position": 1,
         "_deepnote_index_column": "2016-01-25T00:00:00.000000"
        },
        {
         "Close": 9.539999961853027,
         "RSI": 29.311584340416033,
         "rsi_signal": 0,
         "rsi_position": 1,
         "_deepnote_index_column": "2016-01-26T00:00:00.000000"
        },
        {
         "Close": 9.050000190734863,
         "RSI": 26.084023991857805,
         "rsi_signal": 0,
         "rsi_position": 1,
         "_deepnote_index_column": "2016-01-27T00:00:00.000000"
        },
        {
         "Close": 8.739999771118164,
         "RSI": 24.263721442452834,
         "rsi_signal": 0,
         "rsi_position": 1,
         "_deepnote_index_column": "2016-01-28T00:00:00.000000"
        },
        {
         "Close": 8.770000457763672,
         "RSI": 24.810585381693926,
         "rsi_signal": 0,
         "rsi_position": 1,
         "_deepnote_index_column": "2016-01-29T00:00:00.000000"
        },
        {
         "Close": 8.760000228881836,
         "RSI": 24.746442049085275,
         "rsi_signal": 0,
         "rsi_position": 1,
         "_deepnote_index_column": "2016-02-01T00:00:00.000000"
        },
        {
         "Close": 8.470000267028809,
         "RSI": 22.897689227383182,
         "rsi_signal": 0,
         "rsi_position": 1,
         "_deepnote_index_column": "2016-02-02T00:00:00.000000"
        },
        {
         "Close": 8.430000305175781,
         "RSI": 22.64637842128603,
         "rsi_signal": 0,
         "rsi_position": 1,
         "_deepnote_index_column": "2016-02-03T00:00:00.000000"
        },
        {
         "Close": 8.899999618530273,
         "RSI": 32.07925738263616,
         "rsi_signal": 0,
         "rsi_position": 1,
         "_deepnote_index_column": "2016-02-04T00:00:00.000000"
        },
        {
         "Close": 8.630000114440918,
         "RSI": 29.828901058456637,
         "rsi_signal": 0,
         "rsi_position": 1,
         "_deepnote_index_column": "2016-02-05T00:00:00.000000"
        },
        {
         "Close": 8.369999885559082,
         "RSI": 27.806059449264552,
         "rsi_signal": 0,
         "rsi_position": 1,
         "_deepnote_index_column": "2016-02-08T00:00:00.000000"
        },
        {
         "Close": 8.619999885559082,
         "RSI": 32.543047647777996,
         "rsi_signal": 0,
         "rsi_position": 1,
         "_deepnote_index_column": "2016-02-09T00:00:00.000000"
        },
        {
         "Close": 8.880000114440918,
         "RSI": 37.16099779970903,
         "rsi_signal": 0,
         "rsi_position": 1,
         "_deepnote_index_column": "2016-02-10T00:00:00.000000"
        },
        {
         "Close": 8.619999885559082,
         "RSI": 34.60945986642271,
         "rsi_signal": 0,
         "rsi_position": 1,
         "_deepnote_index_column": "2016-02-11T00:00:00.000000"
        },
        {
         "Close": 9.300000190734863,
         "RSI": 45.20607445177745,
         "rsi_signal": 0,
         "rsi_position": 1,
         "_deepnote_index_column": "2016-02-12T00:00:00.000000"
        },
        {
         "Close": 9.930000305175781,
         "RSI": 52.83235248553269,
         "rsi_signal": 0,
         "rsi_position": 1,
         "_deepnote_index_column": "2016-02-16T00:00:00.000000"
        },
        {
         "Close": 9.84000015258789,
         "RSI": 51.72479494660483,
         "rsi_signal": 0,
         "rsi_position": 1,
         "_deepnote_index_column": "2016-02-17T00:00:00.000000"
        },
        {
         "Close": 9.979999542236328,
         "RSI": 53.36262205073155,
         "rsi_signal": 0,
         "rsi_position": 1,
         "_deepnote_index_column": "2016-02-18T00:00:00.000000"
        },
        {
         "Close": 9.970000267028809,
         "RSI": 53.2237303488505,
         "rsi_signal": 0,
         "rsi_position": 1,
         "_deepnote_index_column": "2016-02-19T00:00:00.000000"
        },
        {
         "Close": 10.380000114440918,
         "RSI": 58.045610394718544,
         "rsi_signal": 0,
         "rsi_position": 1,
         "_deepnote_index_column": "2016-02-22T00:00:00.000000"
        },
        {
         "Close": 9.710000038146973,
         "RSI": 49.13239167805821,
         "rsi_signal": 0,
         "rsi_position": 1,
         "_deepnote_index_column": "2016-02-23T00:00:00.000000"
        },
        {
         "Close": 9.890000343322754,
         "RSI": 51.296163336363215,
         "rsi_signal": 0,
         "rsi_position": 1,
         "_deepnote_index_column": "2016-02-24T00:00:00.000000"
        },
        {
         "Close": 10.260000228881836,
         "RSI": 55.48761097405911,
         "rsi_signal": 0,
         "rsi_position": 1,
         "_deepnote_index_column": "2016-02-25T00:00:00.000000"
        },
        {
         "Close": 10.319999694824219,
         "RSI": 56.14668437382909,
         "rsi_signal": 0,
         "rsi_position": 1,
         "_deepnote_index_column": "2016-02-26T00:00:00.000000"
        },
        {
         "Close": 10.4399995803833,
         "RSI": 57.50199714820154,
         "rsi_signal": 0,
         "rsi_position": 1,
         "_deepnote_index_column": "2016-02-29T00:00:00.000000"
        },
        {
         "Close": 10.720000267028809,
         "RSI": 60.564571290255834,
         "rsi_signal": 0,
         "rsi_position": 1,
         "_deepnote_index_column": "2016-03-01T00:00:00.000000"
        },
        {
         "Close": 11.970000267028809,
         "RSI": 70.71178130225852,
         "rsi_signal": -1,
         "rsi_position": 0,
         "_deepnote_index_column": "2016-03-02T00:00:00.000000"
        },
        {
         "Close": 12.25,
         "RSI": 72.42349673458796,
         "rsi_signal": 0,
         "rsi_position": 0,
         "_deepnote_index_column": "2016-03-03T00:00:00.000000"
        },
        {
         "Close": 12.010000228881836,
         "RSI": 68.7163758543205,
         "rsi_signal": 0,
         "rsi_position": 0,
         "_deepnote_index_column": "2016-03-04T00:00:00.000000"
        },
        {
         "Close": 12.260000228881836,
         "RSI": 70.41516794686923,
         "rsi_signal": 0,
         "rsi_position": 0,
         "_deepnote_index_column": "2016-03-07T00:00:00.000000"
        },
        {
         "Close": 11.479999542236328,
         "RSI": 59.54982749825989,
         "rsi_signal": 0,
         "rsi_position": 0,
         "_deepnote_index_column": "2016-03-08T00:00:00.000000"
        },
        {
         "Close": 12.029999732971191,
         "RSI": 63.79240108327078,
         "rsi_signal": 0,
         "rsi_position": 0,
         "_deepnote_index_column": "2016-03-09T00:00:00.000000"
        },
        {
         "Close": 11.300000190734863,
         "RSI": 55.47561448256533,
         "rsi_signal": 0,
         "rsi_position": 0,
         "_deepnote_index_column": "2016-03-10T00:00:00.000000"
        },
        {
         "Close": 11.100000381469727,
         "RSI": 53.42072684641623,
         "rsi_signal": 0,
         "rsi_position": 0,
         "_deepnote_index_column": "2016-03-11T00:00:00.000000"
        },
        {
         "Close": 11.609999656677246,
         "RSI": 57.72135306575419,
         "rsi_signal": 0,
         "rsi_position": 0,
         "_deepnote_index_column": "2016-03-14T00:00:00.000000"
        },
        {
         "Close": 11.949999809265137,
         "RSI": 60.34968305651761,
         "rsi_signal": 0,
         "rsi_position": 0,
         "_deepnote_index_column": "2016-03-15T00:00:00.000000"
        },
        {
         "Close": 11.869999885559082,
         "RSI": 59.41375820454229,
         "rsi_signal": 0,
         "rsi_position": 0,
         "_deepnote_index_column": "2016-03-16T00:00:00.000000"
        },
        {
         "Close": 11.949999809265137,
         "RSI": 60.08046690438905,
         "rsi_signal": 0,
         "rsi_position": 0,
         "_deepnote_index_column": "2016-03-17T00:00:00.000000"
        },
        {
         "Close": 12.039999961853027,
         "RSI": 60.859440381661976,
         "rsi_signal": 0,
         "rsi_position": 0,
         "_deepnote_index_column": "2016-03-18T00:00:00.000000"
        },
        {
         "Close": 13.399999618530273,
         "RSI": 70.2930107488204,
         "rsi_signal": 0,
         "rsi_position": 0,
         "_deepnote_index_column": "2016-03-21T00:00:00.000000"
        },
        {
         "Close": 13.0600004196167,
         "RSI": 66.00969058196134,
         "rsi_signal": 0,
         "rsi_position": 0,
         "_deepnote_index_column": "2016-03-22T00:00:00.000000"
        },
        {
         "Close": 12.59000015258789,
         "RSI": 60.51971791562776,
         "rsi_signal": 0,
         "rsi_position": 0,
         "_deepnote_index_column": "2016-03-23T00:00:00.000000"
        },
        {
         "Close": 12.880000114440918,
         "RSI": 62.58731486881185,
         "rsi_signal": 0,
         "rsi_position": 0,
         "_deepnote_index_column": "2016-03-24T00:00:00.000000"
        },
        {
         "Close": 13.399999618530273,
         "RSI": 66.0233375658598,
         "rsi_signal": 0,
         "rsi_position": 0,
         "_deepnote_index_column": "2016-03-28T00:00:00.000000"
        },
        {
         "Close": 13.739999771118164,
         "RSI": 68.08712043939417,
         "rsi_signal": 0,
         "rsi_position": 0,
         "_deepnote_index_column": "2016-03-29T00:00:00.000000"
        },
        {
         "Close": 15.020000457763672,
         "RSI": 74.39314088873587,
         "rsi_signal": 0,
         "rsi_position": 0,
         "_deepnote_index_column": "2016-03-30T00:00:00.000000"
        },
        {
         "Close": 15.279999732971191,
         "RSI": 75.45413820229174,
         "rsi_signal": 0,
         "rsi_position": 0,
         "_deepnote_index_column": "2016-03-31T00:00:00.000000"
        },
        {
         "Close": 14.220000267028809,
         "RSI": 63.840406055467305,
         "rsi_signal": 0,
         "rsi_position": 0,
         "_deepnote_index_column": "2016-04-01T00:00:00.000000"
        },
        {
         "Close": 14.279999732971191,
         "RSI": 64.17651724398338,
         "rsi_signal": 0,
         "rsi_position": 0,
         "_deepnote_index_column": "2016-04-04T00:00:00.000000"
        },
        {
         "Close": 14.260000228881836,
         "RSI": 63.96309218943277,
         "rsi_signal": 0,
         "rsi_position": 0,
         "_deepnote_index_column": "2016-04-05T00:00:00.000000"
        },
        {
         "Close": 14.970000267028809,
         "RSI": 68.0281012137598,
         "rsi_signal": 0,
         "rsi_position": 0,
         "_deepnote_index_column": "2016-04-06T00:00:00.000000"
        },
        {
         "Close": 14.8100004196167,
         "RSI": 66.215429834117,
         "rsi_signal": 0,
         "rsi_position": 0,
         "_deepnote_index_column": "2016-04-07T00:00:00.000000"
        },
        {
         "Close": 15.130000114440918,
         "RSI": 68.04912908745237,
         "rsi_signal": 0,
         "rsi_position": 0,
         "_deepnote_index_column": "2016-04-08T00:00:00.000000"
        },
        {
         "Close": 15.359999656677246,
         "RSI": 69.33732478427974,
         "rsi_signal": 0,
         "rsi_position": 0,
         "_deepnote_index_column": "2016-04-11T00:00:00.000000"
        },
        {
         "Close": 15.479999542236328,
         "RSI": 70.01655839531338,
         "rsi_signal": 0,
         "rsi_position": 0,
         "_deepnote_index_column": "2016-04-12T00:00:00.000000"
        },
        {
         "Close": 15.010000228881836,
         "RSI": 64.03357308498391,
         "rsi_signal": 0,
         "rsi_position": 0,
         "_deepnote_index_column": "2016-04-13T00:00:00.000000"
        },
        {
         "Close": 14.819999694824219,
         "RSI": 61.736874016719305,
         "rsi_signal": 0,
         "rsi_position": 0,
         "_deepnote_index_column": "2016-04-14T00:00:00.000000"
        },
        {
         "Close": 14.329999923706055,
         "RSI": 56.14411229890829,
         "rsi_signal": 0,
         "rsi_position": 0,
         "_deepnote_index_column": "2016-04-15T00:00:00.000000"
        },
        {
         "Close": 14.510000228881836,
         "RSI": 57.66144143244578,
         "rsi_signal": 0,
         "rsi_position": 0,
         "_deepnote_index_column": "2016-04-18T00:00:00.000000"
        },
        {
         "Close": 14.09000015258789,
         "RSI": 53.04940021621381,
         "rsi_signal": 0,
         "rsi_position": 0,
         "_deepnote_index_column": "2016-04-19T00:00:00.000000"
        },
        {
         "Close": 13.630000114440918,
         "RSI": 48.47611128029961,
         "rsi_signal": 0,
         "rsi_position": 0,
         "_deepnote_index_column": "2016-04-20T00:00:00.000000"
        },
        {
         "Close": 13.239999771118164,
         "RSI": 44.93888940026837,
         "rsi_signal": 0,
         "rsi_position": 0,
         "_deepnote_index_column": "2016-04-21T00:00:00.000000"
        },
        {
         "Close": 13.34000015258789,
         "RSI": 46.02640924724641,
         "rsi_signal": 0,
         "rsi_position": 0,
         "_deepnote_index_column": "2016-04-22T00:00:00.000000"
        },
        {
         "Close": 13.59000015258789,
         "RSI": 48.75159204151029,
         "rsi_signal": 0,
         "rsi_position": 0,
         "_deepnote_index_column": "2016-04-25T00:00:00.000000"
        },
        {
         "Close": 14.180000305175781,
         "RSI": 54.58009887143325,
         "rsi_signal": 0,
         "rsi_position": 0,
         "_deepnote_index_column": "2016-04-26T00:00:00.000000"
        },
        {
         "Close": 14.6899995803833,
         "RSI": 58.928409588194434,
         "rsi_signal": 0,
         "rsi_position": 0,
         "_deepnote_index_column": "2016-04-27T00:00:00.000000"
        },
        {
         "Close": 15.350000381469727,
         "RSI": 63.76326049782196,
         "rsi_signal": 0,
         "rsi_position": 0,
         "_deepnote_index_column": "2016-04-28T00:00:00.000000"
        },
        {
         "Close": 14.890000343322754,
         "RSI": 58.58672850866537,
         "rsi_signal": 0,
         "rsi_position": 0,
         "_deepnote_index_column": "2016-04-29T00:00:00.000000"
        },
        {
         "Close": 14,
         "RSI": 50.11030876511045,
         "rsi_signal": 0,
         "rsi_position": 0,
         "_deepnote_index_column": "2016-05-02T00:00:00.000000"
        },
        {
         "Close": 13.449999809265137,
         "RSI": 45.70908837925824,
         "rsi_signal": 0,
         "rsi_position": 0,
         "_deepnote_index_column": "2016-05-03T00:00:00.000000"
        },
        {
         "Close": 13.390000343322754,
         "RSI": 45.242257545790494,
         "rsi_signal": 0,
         "rsi_position": 0,
         "_deepnote_index_column": "2016-05-04T00:00:00.000000"
        },
        {
         "Close": 13.050000190734863,
         "RSI": 42.58789892609972,
         "rsi_signal": 0,
         "rsi_position": 0,
         "_deepnote_index_column": "2016-05-05T00:00:00.000000"
        },
        {
         "Close": 10.220000267028809,
         "RSI": 27.909927582735378,
         "rsi_signal": 1,
         "rsi_position": 1,
         "_deepnote_index_column": "2016-05-06T00:00:00.000000"
        },
        {
         "Close": 9.850000381469727,
         "RSI": 26.61823568287801,
         "rsi_signal": 0,
         "rsi_position": 1,
         "_deepnote_index_column": "2016-05-09T00:00:00.000000"
        },
        {
         "Close": 10,
         "RSI": 28.071597970573833,
         "rsi_signal": 0,
         "rsi_position": 1,
         "_deepnote_index_column": "2016-05-10T00:00:00.000000"
        },
        {
         "Close": 9.680000305175781,
         "RSI": 26.84987672433158,
         "rsi_signal": 0,
         "rsi_position": 1,
         "_deepnote_index_column": "2016-05-11T00:00:00.000000"
        },
        {
         "Close": 9.279999732971191,
         "RSI": 25.363884652583963,
         "rsi_signal": 0,
         "rsi_position": 1,
         "_deepnote_index_column": "2016-05-12T00:00:00.000000"
        },
        {
         "Close": 9.359999656677246,
         "RSI": 26.243090466020192,
         "rsi_signal": 0,
         "rsi_position": 1,
         "_deepnote_index_column": "2016-05-13T00:00:00.000000"
        },
        {
         "Close": 9.15999984741211,
         "RSI": 25.436373106394086,
         "rsi_signal": 0,
         "rsi_position": 1,
         "_deepnote_index_column": "2016-05-16T00:00:00.000000"
        },
        {
         "Close": 9.180000305175781,
         "RSI": 25.682405960115275,
         "rsi_signal": 0,
         "rsi_position": 1,
         "_deepnote_index_column": "2016-05-17T00:00:00.000000"
        },
        {
         "Close": 9.399999618530273,
         "RSI": 28.477985731394355,
         "rsi_signal": 0,
         "rsi_position": 1,
         "_deepnote_index_column": "2016-05-18T00:00:00.000000"
        },
        {
         "Close": 9.600000381469727,
         "RSI": 31.01842244522753,
         "rsi_signal": 0,
         "rsi_position": 1,
         "_deepnote_index_column": "2016-05-19T00:00:00.000000"
        },
        {
         "Close": 9.390000343322754,
         "RSI": 29.82069285841304,
         "rsi_signal": 0,
         "rsi_position": 1,
         "_deepnote_index_column": "2016-05-20T00:00:00.000000"
        },
        {
         "Close": 9.460000038146973,
         "RSI": 30.78016220657254,
         "rsi_signal": 0,
         "rsi_position": 1,
         "_deepnote_index_column": "2016-05-23T00:00:00.000000"
        },
        {
         "Close": 10.140000343322754,
         "RSI": 39.44167109727532,
         "rsi_signal": 0,
         "rsi_position": 1,
         "_deepnote_index_column": "2016-05-24T00:00:00.000000"
        },
        {
         "Close": 10,
         "RSI": 38.376944629443564,
         "rsi_signal": 0,
         "rsi_position": 1,
         "_deepnote_index_column": "2016-05-25T00:00:00.000000"
        },
        {
         "Close": 9.75,
         "RSI": 36.48299336856109,
         "rsi_signal": 0,
         "rsi_position": 1,
         "_deepnote_index_column": "2016-05-26T00:00:00.000000"
        },
        {
         "Close": 9.630000114440918,
         "RSI": 35.57543589036068,
         "rsi_signal": 0,
         "rsi_position": 1,
         "_deepnote_index_column": "2016-05-27T00:00:00.000000"
        }
       ],
       "rows_bottom": [
        {
         "Close": 265.92999267578125,
         "RSI": 70.8270712594494,
         "rsi_signal": -1,
         "rsi_position": 0,
         "_deepnote_index_column": "2021-02-11T00:00:00.000000"
        },
        {
         "Close": 272.75,
         "RSI": 73.15808275533166,
         "rsi_signal": 0,
         "rsi_position": 0,
         "_deepnote_index_column": "2021-02-12T00:00:00.000000"
        },
        {
         "Close": 276.0199890136719,
         "RSI": 74.22165160476288,
         "rsi_signal": 0,
         "rsi_position": 0,
         "_deepnote_index_column": "2021-02-16T00:00:00.000000"
        },
        {
         "Close": 270.94000244140625,
         "RSI": 69.60732855412195,
         "rsi_signal": 0,
         "rsi_position": 0,
         "_deepnote_index_column": "2021-02-17T00:00:00.000000"
        },
        {
         "Close": 270.8500061035156,
         "RSI": 69.5248645364044,
         "rsi_signal": 0,
         "rsi_position": 0,
         "_deepnote_index_column": "2021-02-18T00:00:00.000000"
        },
        {
         "Close": 276.57000732421875,
         "RSI": 71.81072344857043,
         "rsi_signal": 0,
         "rsi_position": 0,
         "_deepnote_index_column": "2021-02-19T00:00:00.000000"
        },
        {
         "Close": 268.0799865722656,
         "RSI": 64.12272858219231,
         "rsi_signal": 0,
         "rsi_position": 0,
         "_deepnote_index_column": "2021-02-22T00:00:00.000000"
        },
        {
         "Close": 256.5899963378906,
         "RSI": 55.4678547122367,
         "rsi_signal": 0,
         "rsi_position": 0,
         "_deepnote_index_column": "2021-02-23T00:00:00.000000"
        },
        {
         "Close": 237.32000732421875,
         "RSI": 44.59625145335401,
         "rsi_signal": 0,
         "rsi_position": 0,
         "_deepnote_index_column": "2021-02-24T00:00:00.000000"
        },
        {
         "Close": 227.11000061035156,
         "RSI": 40.11045969058176,
         "rsi_signal": 0,
         "rsi_position": 0,
         "_deepnote_index_column": "2021-02-25T00:00:00.000000"
        },
        {
         "Close": 230.02999877929688,
         "RSI": 41.91008756048774,
         "rsi_signal": 0,
         "rsi_position": 0,
         "_deepnote_index_column": "2021-02-26T00:00:00.000000"
        },
        {
         "Close": 241,
         "RSI": 48.20679217807801,
         "rsi_signal": 0,
         "rsi_position": 0,
         "_deepnote_index_column": "2021-03-01T00:00:00.000000"
        },
        {
         "Close": 252.1999969482422,
         "RSI": 53.722240678616515,
         "rsi_signal": 0,
         "rsi_position": 0,
         "_deepnote_index_column": "2021-03-02T00:00:00.000000"
        },
        {
         "Close": 234.1999969482422,
         "RSI": 45.361663170626684,
         "rsi_signal": 0,
         "rsi_position": 0,
         "_deepnote_index_column": "2021-03-03T00:00:00.000000"
        },
        {
         "Close": 218.41000366210938,
         "RSI": 39.54740543795376,
         "rsi_signal": 1,
         "rsi_position": 1,
         "_deepnote_index_column": "2021-03-04T00:00:00.000000"
        },
        {
         "Close": 216.44000244140625,
         "RSI": 38.87786479035455,
         "rsi_signal": 0,
         "rsi_position": 1,
         "_deepnote_index_column": "2021-03-05T00:00:00.000000"
        },
        {
         "Close": 201.8699951171875,
         "RSI": 34.25828448253699,
         "rsi_signal": 0,
         "rsi_position": 1,
         "_deepnote_index_column": "2021-03-08T00:00:00.000000"
        },
        {
         "Close": 225.08999633789062,
         "RSI": 45.39420243769556,
         "rsi_signal": 0,
         "rsi_position": 1,
         "_deepnote_index_column": "2021-03-09T00:00:00.000000"
        },
        {
         "Close": 226.72999572753906,
         "RSI": 46.0887950504206,
         "rsi_signal": 0,
         "rsi_position": 1,
         "_deepnote_index_column": "2021-03-10T00:00:00.000000"
        },
        {
         "Close": 241.72000122070312,
         "RSI": 52.08781334461855,
         "rsi_signal": 0,
         "rsi_position": 1,
         "_deepnote_index_column": "2021-03-11T00:00:00.000000"
        },
        {
         "Close": 242.11000061035156,
         "RSI": 52.23672957097673,
         "rsi_signal": 0,
         "rsi_position": 1,
         "_deepnote_index_column": "2021-03-12T00:00:00.000000"
        },
        {
         "Close": 251.22999572753906,
         "RSI": 55.70391253613796,
         "rsi_signal": 0,
         "rsi_position": 1,
         "_deepnote_index_column": "2021-03-15T00:00:00.000000"
        },
        {
         "Close": 243.36000061035156,
         "RSI": 52.18359955154892,
         "rsi_signal": 0,
         "rsi_position": 1,
         "_deepnote_index_column": "2021-03-16T00:00:00.000000"
        },
        {
         "Close": 246.47000122070312,
         "RSI": 53.43592512948045,
         "rsi_signal": 0,
         "rsi_position": 1,
         "_deepnote_index_column": "2021-03-17T00:00:00.000000"
        },
        {
         "Close": 224.3000030517578,
         "RSI": 44.490559359954354,
         "rsi_signal": 0,
         "rsi_position": 1,
         "_deepnote_index_column": "2021-03-18T00:00:00.000000"
        },
        {
         "Close": 224.83999633789062,
         "RSI": 44.7332405731028,
         "rsi_signal": 0,
         "rsi_position": 1,
         "_deepnote_index_column": "2021-03-19T00:00:00.000000"
        },
        {
         "Close": 226.1300048828125,
         "RSI": 45.34794272197042,
         "rsi_signal": 0,
         "rsi_position": 1,
         "_deepnote_index_column": "2021-03-22T00:00:00.000000"
        },
        {
         "Close": 223.1999969482422,
         "RSI": 44.14689089850808,
         "rsi_signal": 0,
         "rsi_position": 1,
         "_deepnote_index_column": "2021-03-23T00:00:00.000000"
        },
        {
         "Close": 213.50999450683594,
         "RSI": 40.34152643779418,
         "rsi_signal": 0,
         "rsi_position": 1,
         "_deepnote_index_column": "2021-03-24T00:00:00.000000"
        },
        {
         "Close": 208.47000122070312,
         "RSI": 38.483460968525215,
         "rsi_signal": 0,
         "rsi_position": 1,
         "_deepnote_index_column": "2021-03-25T00:00:00.000000"
        },
        {
         "Close": 213.60000610351562,
         "RSI": 41.4399911902297,
         "rsi_signal": 0,
         "rsi_position": 1,
         "_deepnote_index_column": "2021-03-26T00:00:00.000000"
        },
        {
         "Close": 207.17999267578125,
         "RSI": 38.919089323502064,
         "rsi_signal": 0,
         "rsi_position": 1,
         "_deepnote_index_column": "2021-03-29T00:00:00.000000"
        },
        {
         "Close": 212.8300018310547,
         "RSI": 42.248718073352045,
         "rsi_signal": 0,
         "rsi_position": 1,
         "_deepnote_index_column": "2021-03-30T00:00:00.000000"
        },
        {
         "Close": 227.0500030517578,
         "RSI": 49.683017717410735,
         "rsi_signal": 0,
         "rsi_position": 1,
         "_deepnote_index_column": "2021-03-31T00:00:00.000000"
        },
        {
         "Close": 229.50999450683594,
         "RSI": 50.86148918383614,
         "rsi_signal": 0,
         "rsi_position": 1,
         "_deepnote_index_column": "2021-04-01T00:00:00.000000"
        },
        {
         "Close": 229.9499969482422,
         "RSI": 51.0821767066749,
         "rsi_signal": 0,
         "rsi_position": 1,
         "_deepnote_index_column": "2021-04-05T00:00:00.000000"
        },
        {
         "Close": 236.5,
         "RSI": 54.36766257733153,
         "rsi_signal": 0,
         "rsi_position": 1,
         "_deepnote_index_column": "2021-04-06T00:00:00.000000"
        },
        {
         "Close": 245.1199951171875,
         "RSI": 58.333790134995205,
         "rsi_signal": 0,
         "rsi_position": 1,
         "_deepnote_index_column": "2021-04-07T00:00:00.000000"
        },
        {
         "Close": 258.3699951171875,
         "RSI": 63.57453069086915,
         "rsi_signal": 0,
         "rsi_position": 1,
         "_deepnote_index_column": "2021-04-08T00:00:00.000000"
        },
        {
         "Close": 261.6499938964844,
         "RSI": 64.75629984027114,
         "rsi_signal": 0,
         "rsi_position": 1,
         "_deepnote_index_column": "2021-04-09T00:00:00.000000"
        },
        {
         "Close": 265.20001220703125,
         "RSI": 66.04049331709024,
         "rsi_signal": 0,
         "rsi_position": 1,
         "_deepnote_index_column": "2021-04-12T00:00:00.000000"
        },
        {
         "Close": 273.2300109863281,
         "RSI": 68.80901319613206,
         "rsi_signal": 0,
         "rsi_position": 1,
         "_deepnote_index_column": "2021-04-13T00:00:00.000000"
        },
        {
         "Close": 258.3999938964844,
         "RSI": 59.208752245483986,
         "rsi_signal": 0,
         "rsi_position": 1,
         "_deepnote_index_column": "2021-04-14T00:00:00.000000"
        },
        {
         "Close": 263.0799865722656,
         "RSI": 61.05535574712671,
         "rsi_signal": 0,
         "rsi_position": 1,
         "_deepnote_index_column": "2021-04-15T00:00:00.000000"
        },
        {
         "Close": 256.1000061035156,
         "RSI": 56.916870645235576,
         "rsi_signal": 0,
         "rsi_position": 1,
         "_deepnote_index_column": "2021-04-16T00:00:00.000000"
        },
        {
         "Close": 245.3300018310547,
         "RSI": 51.15513633244121,
         "rsi_signal": 0,
         "rsi_position": 1,
         "_deepnote_index_column": "2021-04-19T00:00:00.000000"
        },
        {
         "Close": 245.5,
         "RSI": 51.2390431953914,
         "rsi_signal": 0,
         "rsi_position": 1,
         "_deepnote_index_column": "2021-04-20T00:00:00.000000"
        },
        {
         "Close": 245.25,
         "RSI": 51.10002228745673,
         "rsi_signal": 0,
         "rsi_position": 1,
         "_deepnote_index_column": "2021-04-21T00:00:00.000000"
        },
        {
         "Close": 245.11000061035156,
         "RSI": 51.01654641215585,
         "rsi_signal": 0,
         "rsi_position": 1,
         "_deepnote_index_column": "2021-04-22T00:00:00.000000"
        },
        {
         "Close": 246.42999267578125,
         "RSI": 51.81578155682639,
         "rsi_signal": 0,
         "rsi_position": 1,
         "_deepnote_index_column": "2021-04-23T00:00:00.000000"
        },
        {
         "Close": 255.77000427246094,
         "RSI": 57.14416980417173,
         "rsi_signal": 0,
         "rsi_position": 1,
         "_deepnote_index_column": "2021-04-26T00:00:00.000000"
        },
        {
         "Close": 253.7899932861328,
         "RSI": 55.73702214487549,
         "rsi_signal": 0,
         "rsi_position": 1,
         "_deepnote_index_column": "2021-04-27T00:00:00.000000"
        },
        {
         "Close": 254.1999969482422,
         "RSI": 55.97875455914111,
         "rsi_signal": 0,
         "rsi_position": 1,
         "_deepnote_index_column": "2021-04-28T00:00:00.000000"
        },
        {
         "Close": 247.75999450683594,
         "RSI": 51.244770479841286,
         "rsi_signal": 0,
         "rsi_position": 1,
         "_deepnote_index_column": "2021-04-29T00:00:00.000000"
        },
        {
         "Close": 244.82000732421875,
         "RSI": 49.199239599760084,
         "rsi_signal": 0,
         "rsi_position": 1,
         "_deepnote_index_column": "2021-04-30T00:00:00.000000"
        },
        {
         "Close": 243.67999267578125,
         "RSI": 48.39258979954706,
         "rsi_signal": 0,
         "rsi_position": 1,
         "_deepnote_index_column": "2021-05-03T00:00:00.000000"
        },
        {
         "Close": 231.19000244140625,
         "RSI": 40.54857223934126,
         "rsi_signal": 0,
         "rsi_position": 1,
         "_deepnote_index_column": "2021-05-04T00:00:00.000000"
        },
        {
         "Close": 231.8699951171875,
         "RSI": 41.10825372987775,
         "rsi_signal": 0,
         "rsi_position": 1,
         "_deepnote_index_column": "2021-05-05T00:00:00.000000"
        },
        {
         "Close": 223.9600067138672,
         "RSI": 36.77166492115253,
         "rsi_signal": 0,
         "rsi_position": 1,
         "_deepnote_index_column": "2021-05-06T00:00:00.000000"
        },
        {
         "Close": 233.35000610351562,
         "RSI": 44.28550298446784,
         "rsi_signal": 0,
         "rsi_position": 1,
         "_deepnote_index_column": "2021-05-07T00:00:00.000000"
        },
        {
         "Close": 216.42999267578125,
         "RSI": 35.98675471216909,
         "rsi_signal": 0,
         "rsi_position": 1,
         "_deepnote_index_column": "2021-05-10T00:00:00.000000"
        },
        {
         "Close": 220.64999389648438,
         "RSI": 39.054297663599414,
         "rsi_signal": 0,
         "rsi_position": 1,
         "_deepnote_index_column": "2021-05-11T00:00:00.000000"
        },
        {
         "Close": 206.6699981689453,
         "RSI": 33.35231450705788,
         "rsi_signal": 0,
         "rsi_position": 1,
         "_deepnote_index_column": "2021-05-12T00:00:00.000000"
        },
        {
         "Close": 197.1300048828125,
         "RSI": 30.12050966008816,
         "rsi_signal": 0,
         "rsi_position": 1,
         "_deepnote_index_column": "2021-05-13T00:00:00.000000"
        },
        {
         "Close": 207.85000610351562,
         "RSI": 37.454595748537635,
         "rsi_signal": 0,
         "rsi_position": 1,
         "_deepnote_index_column": "2021-05-14T00:00:00.000000"
        },
        {
         "Close": 202.9199981689453,
         "RSI": 35.60391504179529,
         "rsi_signal": 0,
         "rsi_position": 1,
         "_deepnote_index_column": "2021-05-17T00:00:00.000000"
        },
        {
         "Close": 203.16000366210938,
         "RSI": 35.770302469299736,
         "rsi_signal": 0,
         "rsi_position": 1,
         "_deepnote_index_column": "2021-05-18T00:00:00.000000"
        },
        {
         "Close": 200.11000061035156,
         "RSI": 34.54862765969958,
         "rsi_signal": 0,
         "rsi_position": 1,
         "_deepnote_index_column": "2021-05-19T00:00:00.000000"
        },
        {
         "Close": 204.91000366210938,
         "RSI": 38.12991869983604,
         "rsi_signal": 0,
         "rsi_position": 1,
         "_deepnote_index_column": "2021-05-20T00:00:00.000000"
        },
        {
         "Close": 200.00999450683594,
         "RSI": 35.9664129821371,
         "rsi_signal": 0,
         "rsi_position": 1,
         "_deepnote_index_column": "2021-05-21T00:00:00.000000"
        },
        {
         "Close": 210.9499969482422,
         "RSI": 43.65353934709047,
         "rsi_signal": 0,
         "rsi_position": 1,
         "_deepnote_index_column": "2021-05-24T00:00:00.000000"
        },
        {
         "Close": 216.1999969482422,
         "RSI": 46.94514564140232,
         "rsi_signal": 0,
         "rsi_position": 1,
         "_deepnote_index_column": "2021-05-25T00:00:00.000000"
        },
        {
         "Close": 222.33999633789062,
         "RSI": 50.581174880141226,
         "rsi_signal": 0,
         "rsi_position": 1,
         "_deepnote_index_column": "2021-05-26T00:00:00.000000"
        },
        {
         "Close": 220.89999389648438,
         "RSI": 49.720542498458315,
         "rsi_signal": 0,
         "rsi_position": 1,
         "_deepnote_index_column": "2021-05-27T00:00:00.000000"
        },
        {
         "Close": 222.52000427246094,
         "RSI": 50.73608234082965,
         "rsi_signal": 0,
         "rsi_position": 1,
         "_deepnote_index_column": "2021-05-28T00:00:00.000000"
        },
        {
         "Close": 221.9499969482422,
         "RSI": 50.35072869957463,
         "rsi_signal": 0,
         "rsi_position": 1,
         "_deepnote_index_column": "2021-06-01T00:00:00.000000"
        },
        {
         "Close": 220.41000366210938,
         "RSI": 49.26210305506152,
         "rsi_signal": 0,
         "rsi_position": 1,
         "_deepnote_index_column": "2021-06-02T00:00:00.000000"
        },
        {
         "Close": 211.42999267578125,
         "RSI": 43.37316914692181,
         "rsi_signal": 0,
         "rsi_position": 1,
         "_deepnote_index_column": "2021-06-03T00:00:00.000000"
        },
        {
         "Close": 213.69000244140625,
         "RSI": 45.15028697057087,
         "rsi_signal": 0,
         "rsi_position": 1,
         "_deepnote_index_column": "2021-06-04T00:00:00.000000"
        },
        {
         "Close": 216.9499969482422,
         "RSI": 47.6999752978632,
         "rsi_signal": 0,
         "rsi_position": 1,
         "_deepnote_index_column": "2021-06-07T00:00:00.000000"
        },
        {
         "Close": 214.1199951171875,
         "RSI": 45.71337474733123,
         "rsi_signal": 0,
         "rsi_position": 1,
         "_deepnote_index_column": "2021-06-08T00:00:00.000000"
        },
        {
         "Close": 210.2100067138672,
         "RSI": 43.04591556232165,
         "rsi_signal": 0,
         "rsi_position": 1,
         "_deepnote_index_column": "2021-06-09T00:00:00.000000"
        },
        {
         "Close": 217.13999938964844,
         "RSI": 48.7535987790395,
         "rsi_signal": 0,
         "rsi_position": 1,
         "_deepnote_index_column": "2021-06-10T00:00:00.000000"
        },
        {
         "Close": 219.33999633789062,
         "RSI": 50.45122431925929,
         "rsi_signal": 0,
         "rsi_position": 1,
         "_deepnote_index_column": "2021-06-11T00:00:00.000000"
        },
        {
         "Close": 230.9499969482422,
         "RSI": 58.3016353857072,
         "rsi_signal": 0,
         "rsi_position": 1,
         "_deepnote_index_column": "2021-06-14T00:00:00.000000"
        },
        {
         "Close": 227.75,
         "RSI": 55.6829477761801,
         "rsi_signal": 0,
         "rsi_position": 1,
         "_deepnote_index_column": "2021-06-15T00:00:00.000000"
        },
        {
         "Close": 225.11000061035156,
         "RSI": 53.546118161707255,
         "rsi_signal": 0,
         "rsi_position": 1,
         "_deepnote_index_column": "2021-06-16T00:00:00.000000"
        },
        {
         "Close": 236.1300048828125,
         "RSI": 60.38076906286705,
         "rsi_signal": 0,
         "rsi_position": 1,
         "_deepnote_index_column": "2021-06-17T00:00:00.000000"
        },
        {
         "Close": 237.0500030517578,
         "RSI": 60.89799845685565,
         "rsi_signal": 0,
         "rsi_position": 1,
         "_deepnote_index_column": "2021-06-18T00:00:00.000000"
        },
        {
         "Close": 233.88999938964844,
         "RSI": 58.09266948604066,
         "rsi_signal": 0,
         "rsi_position": 1,
         "_deepnote_index_column": "2021-06-21T00:00:00.000000"
        },
        {
         "Close": 235.97000122070312,
         "RSI": 59.417854737181685,
         "rsi_signal": 0,
         "rsi_position": 1,
         "_deepnote_index_column": "2021-06-22T00:00:00.000000"
        },
        {
         "Close": 238.6999969482422,
         "RSI": 61.15411394457431,
         "rsi_signal": 0,
         "rsi_position": 1,
         "_deepnote_index_column": "2021-06-23T00:00:00.000000"
        },
        {
         "Close": 244.14999389648438,
         "RSI": 64.42622813594853,
         "rsi_signal": 0,
         "rsi_position": 1,
         "_deepnote_index_column": "2021-06-24T00:00:00.000000"
        },
        {
         "Close": 239.94000244140625,
         "RSI": 60.20729925547271,
         "rsi_signal": 0,
         "rsi_position": 1,
         "_deepnote_index_column": "2021-06-25T00:00:00.000000"
        },
        {
         "Close": 246.60000610351562,
         "RSI": 64.20110598885977,
         "rsi_signal": 0,
         "rsi_position": 1,
         "_deepnote_index_column": "2021-06-28T00:00:00.000000"
        },
        {
         "Close": 248.8699951171875,
         "RSI": 65.47307209137846,
         "rsi_signal": 0,
         "rsi_position": 1,
         "_deepnote_index_column": "2021-06-29T00:00:00.000000"
        },
        {
         "Close": 243.8000030517578,
         "RSI": 60.31814953172479,
         "rsi_signal": 0,
         "rsi_position": 1,
         "_deepnote_index_column": "2021-06-30T00:00:00.000000"
        },
        {
         "Close": 241.85000610351562,
         "RSI": 58.41320728117894,
         "rsi_signal": 0,
         "rsi_position": 1,
         "_deepnote_index_column": "2021-07-01T00:00:00.000000"
        },
        {
         "Close": 241.0800018310547,
         "RSI": 57.63911102798673,
         "rsi_signal": 0,
         "rsi_position": 1,
         "_deepnote_index_column": "2021-07-02T00:00:00.000000"
        },
        {
         "Close": 246.6999969482422,
         "RSI": 61.635276574436105,
         "rsi_signal": 0,
         "rsi_position": 1,
         "_deepnote_index_column": "2021-07-06T00:00:00.000000"
        },
        {
         "Close": 244.63999938964844,
         "RSI": 59.422464579729734,
         "rsi_signal": 0,
         "rsi_position": 1,
         "_deepnote_index_column": "2021-07-07T00:00:00.000000"
        },
        {
         "Close": 235.89999389648438,
         "RSI": 51.048554383259045,
         "rsi_signal": 0,
         "rsi_position": 1,
         "_deepnote_index_column": "2021-07-08T00:00:00.000000"
        },
        {
         "Close": 241.88999938964844,
         "RSI": 55.660350438115984,
         "rsi_signal": 0,
         "rsi_position": 1,
         "_deepnote_index_column": "2021-07-09T00:00:00.000000"
        },
        {
         "Close": 243.35000610351562,
         "RSI": 56.73039007994255,
         "rsi_signal": 0,
         "rsi_position": 1,
         "_deepnote_index_column": "2021-07-12T00:00:00.000000"
        },
        {
         "Close": 241.42999267578125,
         "RSI": 54.855558131485346,
         "rsi_signal": 0,
         "rsi_position": 1,
         "_deepnote_index_column": "2021-07-13T00:00:00.000000"
        },
        {
         "Close": 239,
         "RSI": 52.491172916312706,
         "rsi_signal": 0,
         "rsi_position": 1,
         "_deepnote_index_column": "2021-07-14T00:00:00.000000"
        },
        {
         "Close": 235.16000366210938,
         "RSI": 48.90399848697754,
         "rsi_signal": 0,
         "rsi_position": 1,
         "_deepnote_index_column": "2021-07-15T00:00:00.000000"
        },
        {
         "Close": 237.52000427246094,
         "RSI": 51.11509150389082,
         "rsi_signal": 0,
         "rsi_position": 1,
         "_deepnote_index_column": "2021-07-16T00:00:00.000000"
        },
        {
         "Close": 233.69000244140625,
         "RSI": 47.521091648438635,
         "rsi_signal": 0,
         "rsi_position": 1,
         "_deepnote_index_column": "2021-07-19T00:00:00.000000"
        },
        {
         "Close": 246.47000122070312,
         "RSI": 58.10619754815302,
         "rsi_signal": 0,
         "rsi_position": 1,
         "_deepnote_index_column": "2021-07-20T00:00:00.000000"
        },
        {
         "Close": 257.25,
         "RSI": 64.59352334916375,
         "rsi_signal": 0,
         "rsi_position": 1,
         "_deepnote_index_column": "2021-07-21T00:00:00.000000"
        },
        {
         "Close": 260.5899963378906,
         "RSI": 66.33305220234666,
         "rsi_signal": 0,
         "rsi_position": 1,
         "_deepnote_index_column": "2021-07-22T00:00:00.000000"
        },
        {
         "Close": 264,
         "RSI": 68.0584847182078,
         "rsi_signal": 0,
         "rsi_position": 1,
         "_deepnote_index_column": "2021-07-23T00:00:00.000000"
        },
        {
         "Close": 261.989990234375,
         "RSI": 65.91411022950876,
         "rsi_signal": 0,
         "rsi_position": 1,
         "_deepnote_index_column": "2021-07-26T00:00:00.000000"
        },
        {
         "Close": 251.72999572753906,
         "RSI": 56.18310439549998,
         "rsi_signal": 0,
         "rsi_position": 1,
         "_deepnote_index_column": "2021-07-27T00:00:00.000000"
        },
        {
         "Close": 258.6099853515625,
         "RSI": 60.40445129691376,
         "rsi_signal": 0,
         "rsi_position": 1,
         "_deepnote_index_column": "2021-07-28T00:00:00.000000"
        },
        {
         "Close": 255.27999877929688,
         "RSI": 57.51617448814755,
         "rsi_signal": 0,
         "rsi_position": 1,
         "_deepnote_index_column": "2021-07-29T00:00:00.000000"
        },
        {
         "Close": 247.25999450683594,
         "RSI": 51.1701289832644,
         "rsi_signal": 0,
         "rsi_position": 1,
         "_deepnote_index_column": "2021-07-30T00:00:00.000000"
        },
        {
         "Close": 272.3800048828125,
         "RSI": 64.41416266955721,
         "rsi_signal": 0,
         "rsi_position": 1,
         "_deepnote_index_column": "2021-08-02T00:00:00.000000"
        },
        {
         "Close": 269.489990234375,
         "RSI": 62.31992235243788,
         "rsi_signal": 0,
         "rsi_position": 1,
         "_deepnote_index_column": "2021-08-03T00:00:00.000000"
        },
        {
         "Close": 266.4200134277344,
         "RSI": 60.085156230952656,
         "rsi_signal": 0,
         "rsi_position": 1,
         "_deepnote_index_column": "2021-08-04T00:00:00.000000"
        },
        {
         "Close": 281.80999755859375,
         "RSI": 66.55912461053536,
         "rsi_signal": 0,
         "rsi_position": 1,
         "_deepnote_index_column": "2021-08-05T00:00:00.000000"
        },
        {
         "Close": 275.1000061035156,
         "RSI": 61.84895057891691,
         "rsi_signal": 0,
         "rsi_position": 1,
         "_deepnote_index_column": "2021-08-06T00:00:00.000000"
        },
        {
         "Close": 279.7300109863281,
         "RSI": 63.754947733414326,
         "rsi_signal": 0,
         "rsi_position": 1,
         "_deepnote_index_column": "2021-08-09T00:00:00.000000"
        },
        {
         "Close": 273.0799865722656,
         "RSI": 59.181651694426414,
         "rsi_signal": 0,
         "rsi_position": 1,
         "_deepnote_index_column": "2021-08-10T00:00:00.000000"
        }
       ]
      },
      "text/plain": "                 Close        RSI  rsi_signal  rsi_position\nDate                                                       \n2015-11-30   12.040000        NaN           0             1\n2015-12-01   11.910000   0.000000           0             1\n2015-12-02   11.930000   1.169616           0             1\n2015-12-03   11.920000   1.162296           0             1\n2015-12-04   12.040000   8.557893           0             1\n...                ...        ...         ...           ...\n2021-08-04  266.420013  60.085156           0             1\n2021-08-05  281.809998  66.559125           0             1\n2021-08-06  275.100006  61.848951           0             1\n2021-08-09  279.730011  63.754948           0             1\n2021-08-10  273.079987  59.181652           0             1\n\n[1434 rows x 4 columns]",
      "text/html": "<div>\n<style scoped>\n    .dataframe tbody tr th:only-of-type {\n        vertical-align: middle;\n    }\n\n    .dataframe tbody tr th {\n        vertical-align: top;\n    }\n\n    .dataframe thead th {\n        text-align: right;\n    }\n</style>\n<table border=\"1\" class=\"dataframe\">\n  <thead>\n    <tr style=\"text-align: right;\">\n      <th></th>\n      <th>Close</th>\n      <th>RSI</th>\n      <th>rsi_signal</th>\n      <th>rsi_position</th>\n    </tr>\n    <tr>\n      <th>Date</th>\n      <th></th>\n      <th></th>\n      <th></th>\n      <th></th>\n    </tr>\n  </thead>\n  <tbody>\n    <tr>\n      <th>2015-11-30</th>\n      <td>12.040000</td>\n      <td>NaN</td>\n      <td>0</td>\n      <td>1</td>\n    </tr>\n    <tr>\n      <th>2015-12-01</th>\n      <td>11.910000</td>\n      <td>0.000000</td>\n      <td>0</td>\n      <td>1</td>\n    </tr>\n    <tr>\n      <th>2015-12-02</th>\n      <td>11.930000</td>\n      <td>1.169616</td>\n      <td>0</td>\n      <td>1</td>\n    </tr>\n    <tr>\n      <th>2015-12-03</th>\n      <td>11.920000</td>\n      <td>1.162296</td>\n      <td>0</td>\n      <td>1</td>\n    </tr>\n    <tr>\n      <th>2015-12-04</th>\n      <td>12.040000</td>\n      <td>8.557893</td>\n      <td>0</td>\n      <td>1</td>\n    </tr>\n    <tr>\n      <th>...</th>\n      <td>...</td>\n      <td>...</td>\n      <td>...</td>\n      <td>...</td>\n    </tr>\n    <tr>\n      <th>2021-08-04</th>\n      <td>266.420013</td>\n      <td>60.085156</td>\n      <td>0</td>\n      <td>1</td>\n    </tr>\n    <tr>\n      <th>2021-08-05</th>\n      <td>281.809998</td>\n      <td>66.559125</td>\n      <td>0</td>\n      <td>1</td>\n    </tr>\n    <tr>\n      <th>2021-08-06</th>\n      <td>275.100006</td>\n      <td>61.848951</td>\n      <td>0</td>\n      <td>1</td>\n    </tr>\n    <tr>\n      <th>2021-08-09</th>\n      <td>279.730011</td>\n      <td>63.754948</td>\n      <td>0</td>\n      <td>1</td>\n    </tr>\n    <tr>\n      <th>2021-08-10</th>\n      <td>273.079987</td>\n      <td>59.181652</td>\n      <td>0</td>\n      <td>1</td>\n    </tr>\n  </tbody>\n</table>\n<p>1434 rows × 4 columns</p>\n</div>"
     },
     "metadata": {}
    }
   ],
   "execution_count": null
  },
  {
   "cell_type": "code",
   "metadata": {
    "tags": [],
    "deepnote_to_be_reexecuted": false,
    "source_hash": "f8accd36",
    "execution_start": 1629252654474,
    "execution_millis": 20,
    "cell_id": "00009-b4aeb8a6-0eb6-4920-9d9e-932c292bf1d3",
    "deepnote_cell_type": "code"
   },
   "source": "sq_1d_rsi_ret = pd.DataFrame(np.diff(sq_1d['Close'])).rename(columns = {0:'returns'})\nrsi_strategy_ret = []\n\nfor i in range(len(sq_1d_rsi_ret)):\n    returns = sq_1d_rsi_ret['returns'][i]*strategy['rsi_position'][i]\n    rsi_strategy_ret.append(returns)\n    \nrsi_strategy_ret_df = pd.DataFrame(rsi_strategy_ret).rename(columns = {0:'rsi_returns'})\ninvestment_value = 100000\nnumber_of_stocks = floor(investment_value/sq_1d['Close'][-1])\nrsi_investment_ret = []\n\nfor i in range(len(rsi_strategy_ret_df['rsi_returns'])):\n    returns = number_of_stocks*rsi_strategy_ret_df['rsi_returns'][i]\n    rsi_investment_ret.append(returns)\n\nrsi_investment_ret_df = pd.DataFrame(rsi_investment_ret).rename(columns = {0:'investment_returns'})\ntotal_investment_ret = round(sum(rsi_investment_ret_df['investment_returns']), 2)\nprofit_percentage = floor((total_investment_ret/investment_value)*100)\nprint(cl('Profit gained from the RSI strategy by investing $100k in SQ : {}'.format(total_investment_ret), attrs = ['bold']))\nprint(cl('Profit percentage of the RSI strategy : {}%'.format(profit_percentage), attrs = ['bold']))\n",
   "outputs": [
    {
     "name": "stdout",
     "text": "\u001b[1mProfit gained from the RSI strategy by investing $100k in SQ : 91756.19\u001b[0m\n\u001b[1mProfit percentage of the RSI strategy : 91%\u001b[0m\n",
     "output_type": "stream"
    }
   ],
   "execution_count": null
  },
  {
   "cell_type": "code",
   "metadata": {
    "tags": [],
    "deepnote_to_be_reexecuted": false,
    "source_hash": "7bbcaad7",
    "execution_start": 1629252654492,
    "execution_millis": 32,
    "cell_id": "00010-ee997022-94e2-4e8d-acdc-18d6047c9bf8",
    "deepnote_cell_type": "code"
   },
   "source": "strategy.to_csv('SQ 1D RSI TRADE STRATEGY.csv')",
   "outputs": [],
   "execution_count": null
  },
  {
   "cell_type": "markdown",
   "source": "<a style='text-decoration:none;line-height:16px;display:flex;color:#5B5B62;padding:10px;justify-content:end;' href='https://deepnote.com?utm_source=created-in-deepnote-cell&projectId=d12c285c-6789-4c45-9ad7-1be9b4d60622' target=\"_blank\">\n<img alt='Created in deepnote.com' style='display:inline;max-height:16px;margin:0px;margin-right:7.5px;' src='data:image/svg+xml;base64,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' > </img>\nCreated in <span style='font-weight:600;margin-left:4px;'>Deepnote</span></a>",
   "metadata": {
    "tags": [],
    "created_in_deepnote_cell": true,
    "deepnote_cell_type": "markdown"
   }
  }
 ],
 "nbformat": 4,
 "nbformat_minor": 2,
 "metadata": {
  "orig_nbformat": 2,
  "deepnote": {
   "is_reactive": false
  },
  "deepnote_notebook_id": "7d56f854-299d-45c8-a1a5-efe8e558265f",
  "deepnote_execution_queue": []
 }
}