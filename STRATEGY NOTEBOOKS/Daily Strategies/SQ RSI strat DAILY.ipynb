{
 "cells": [
  {
   "cell_type": "code",
   "metadata": {
    "tags": [],
    "deepnote_to_be_reexecuted": false,
    "source_hash": "32367b8d",
    "execution_start": 1629328311958,
    "execution_millis": 397,
    "cell_id": "00000-a6ebc182-f54e-477b-ac5e-5f9a07cc39ef",
    "deepnote_cell_type": "code"
   },
   "source": "import datetime as dt\nfrom pathlib import Path\nimport requests\nimport pandas as pd\nimport numpy as np\nfrom math import floor\nfrom termcolor import colored as cl\nimport matplotlib.pyplot as plt\nplt.close('all')\nimport yfinance as yf\nplt.rcParams['figure.figsize'] = (20, 10)\nplt.style.use('fivethirtyeight')",
   "outputs": [],
   "execution_count": null
  },
  {
   "cell_type": "code",
   "metadata": {
    "tags": [],
    "deepnote_to_be_reexecuted": false,
    "source_hash": "e4e64eb4",
    "execution_start": 1629328312388,
    "execution_millis": 221,
    "cell_id": "00001-7b28f6c9-0ec1-4e09-adea-72bd68ee709d",
    "deepnote_cell_type": "code"
   },
   "source": "sq_1d = yf.download(tickers='SQ', start='2019-09-01', end = '2021-08-11', interval='1d')\nsq_1d.drop(columns = ['Open','High','Low','Adj Close','Volume'], inplace = True)\n# sq_1d.reset_index(inplace=True)\n# sq_1d.rename(columns = {'index':'Datetime'}, inplace = True)\n# sq_1d.set_index(pd.to_datetime(sq_1d['Datetime'],infer_datetime_format=True),inplace=True)\nsq_1d.head()",
   "outputs": [
    {
     "name": "stdout",
     "text": "[*********************100%***********************]  1 of 1 completed\n",
     "output_type": "stream"
    },
    {
     "output_type": "execute_result",
     "execution_count": 2,
     "data": {
      "application/vnd.deepnote.dataframe.v2+json": {
       "row_count": 5,
       "column_count": 1,
       "columns": [
        {
         "name": "Close",
         "dtype": "float64",
         "stats": {
          "unique_count": 5,
          "nan_count": 0,
          "min": "61.130001068115234",
          "max": "63.02000045776367",
          "histogram": [
           {
            "bin_start": 61.130001068115234,
            "bin_end": 61.319001007080075,
            "count": 2
           },
           {
            "bin_start": 61.319001007080075,
            "bin_end": 61.50800094604492,
            "count": 1
           },
           {
            "bin_start": 61.50800094604492,
            "bin_end": 61.697000885009764,
            "count": 0
           },
           {
            "bin_start": 61.697000885009764,
            "bin_end": 61.88600082397461,
            "count": 0
           },
           {
            "bin_start": 61.88600082397461,
            "bin_end": 62.07500076293945,
            "count": 1
           },
           {
            "bin_start": 62.07500076293945,
            "bin_end": 62.264000701904294,
            "count": 0
           },
           {
            "bin_start": 62.264000701904294,
            "bin_end": 62.45300064086914,
            "count": 0
           },
           {
            "bin_start": 62.45300064086914,
            "bin_end": 62.64200057983398,
            "count": 0
           },
           {
            "bin_start": 62.64200057983398,
            "bin_end": 62.83100051879883,
            "count": 0
           },
           {
            "bin_start": 62.83100051879883,
            "bin_end": 63.02000045776367,
            "count": 1
           }
          ]
         }
        },
        {
         "name": "_deepnote_index_column",
         "dtype": "datetime64[ns]"
        }
       ],
       "rows_top": [
        {
         "Close": 61.130001068115234,
         "_deepnote_index_column": "2019-09-03T00:00:00.000000"
        },
        {
         "Close": 61.16999816894531,
         "_deepnote_index_column": "2019-09-04T00:00:00.000000"
        },
        {
         "Close": 63.02000045776367,
         "_deepnote_index_column": "2019-09-05T00:00:00.000000"
        },
        {
         "Close": 62,
         "_deepnote_index_column": "2019-09-06T00:00:00.000000"
        },
        {
         "Close": 61.470001220703125,
         "_deepnote_index_column": "2019-09-09T00:00:00.000000"
        }
       ],
       "rows_bottom": null
      },
      "text/plain": "                Close\nDate                 \n2019-09-03  61.130001\n2019-09-04  61.169998\n2019-09-05  63.020000\n2019-09-06  62.000000\n2019-09-09  61.470001",
      "text/html": "<div>\n<style scoped>\n    .dataframe tbody tr th:only-of-type {\n        vertical-align: middle;\n    }\n\n    .dataframe tbody tr th {\n        vertical-align: top;\n    }\n\n    .dataframe thead th {\n        text-align: right;\n    }\n</style>\n<table border=\"1\" class=\"dataframe\">\n  <thead>\n    <tr style=\"text-align: right;\">\n      <th></th>\n      <th>Close</th>\n    </tr>\n    <tr>\n      <th>Date</th>\n      <th></th>\n    </tr>\n  </thead>\n  <tbody>\n    <tr>\n      <th>2019-09-03</th>\n      <td>61.130001</td>\n    </tr>\n    <tr>\n      <th>2019-09-04</th>\n      <td>61.169998</td>\n    </tr>\n    <tr>\n      <th>2019-09-05</th>\n      <td>63.020000</td>\n    </tr>\n    <tr>\n      <th>2019-09-06</th>\n      <td>62.000000</td>\n    </tr>\n    <tr>\n      <th>2019-09-09</th>\n      <td>61.470001</td>\n    </tr>\n  </tbody>\n</table>\n</div>"
     },
     "metadata": {}
    }
   ],
   "execution_count": null
  },
  {
   "cell_type": "code",
   "metadata": {
    "tags": [],
    "deepnote_to_be_reexecuted": false,
    "source_hash": "9c45f7e5",
    "execution_start": 1629328312626,
    "execution_millis": 17,
    "cell_id": "00002-5e7727e2-c573-4eae-94ad-9cd43a475ed9",
    "deepnote_cell_type": "code"
   },
   "source": "sq_diff = sq_1d['Close'].diff()\nup = sq_diff.clip(lower=0)\ndown = -1*sq_diff.clip(upper=0)\nema_up = up.ewm(com=13, adjust=False).mean()\nema_down = down.ewm(com=13, adjust=False).mean()\nrs = ema_up/ema_down\nrs",
   "outputs": [
    {
     "output_type": "execute_result",
     "execution_count": 3,
     "data": {
      "text/plain": "Date\n2019-09-03         NaN\n2019-09-04        -inf\n2019-09-05        -inf\n2019-09-06    2.157530\n2019-09-09    1.383408\n                ...   \n2021-08-04    1.505334\n2021-08-05    1.990352\n2021-08-06    1.621160\n2021-08-09    1.758997\n2021-08-10    1.449879\nName: Close, Length: 489, dtype: float64"
     },
     "metadata": {}
    }
   ],
   "execution_count": null
  },
  {
   "cell_type": "code",
   "metadata": {
    "tags": [],
    "deepnote_to_be_reexecuted": false,
    "source_hash": "77853831",
    "execution_start": 1629328312641,
    "execution_millis": 12,
    "cell_id": "00003-63d56883-ee24-4b04-ae25-48b91bb14759",
    "deepnote_cell_type": "code"
   },
   "source": "sq_1d['RSI'] = 100 - (100/(1 + rs))\nsq_1d['RSI'] ",
   "outputs": [
    {
     "output_type": "execute_result",
     "execution_count": 4,
     "data": {
      "text/plain": "Date\n2019-09-03           NaN\n2019-09-04    100.000000\n2019-09-05    100.000000\n2019-09-06     68.329674\n2019-09-09     58.043269\n                 ...    \n2021-08-04     60.085156\n2021-08-05     66.559125\n2021-08-06     61.848951\n2021-08-09     63.754948\n2021-08-10     59.181652\nName: RSI, Length: 489, dtype: float64"
     },
     "metadata": {}
    }
   ],
   "execution_count": null
  },
  {
   "cell_type": "code",
   "metadata": {
    "tags": [],
    "deepnote_to_be_reexecuted": false,
    "source_hash": "9df78dc0",
    "execution_start": 1629328312662,
    "execution_millis": 55,
    "cell_id": "00004-0e6b137c-2fa3-4b82-a266-db47b8bad9bc",
    "deepnote_cell_type": "code"
   },
   "source": "\n#sq_1hr['RSI’]\nsq_1d_rsi= sq_1d.iloc[: , 1:]\nsq_1d_rsi",
   "outputs": [
    {
     "output_type": "execute_result",
     "execution_count": 5,
     "data": {
      "application/vnd.deepnote.dataframe.v2+json": {
       "row_count": 489,
       "column_count": 1,
       "columns": [
        {
         "name": "RSI",
         "dtype": "float64",
         "stats": {
          "unique_count": 486,
          "nan_count": 1,
          "min": "21.432612179441733",
          "max": "100.0",
          "histogram": [
           {
            "bin_start": 21.432612179441733,
            "bin_end": 29.28935096149756,
            "count": 8
           },
           {
            "bin_start": 29.28935096149756,
            "bin_end": 37.14608974355339,
            "count": 24
           },
           {
            "bin_start": 37.14608974355339,
            "bin_end": 45.00282852560921,
            "count": 50
           },
           {
            "bin_start": 45.00282852560921,
            "bin_end": 52.85956730766504,
            "count": 92
           },
           {
            "bin_start": 52.85956730766504,
            "bin_end": 60.71630608972087,
            "count": 125
           },
           {
            "bin_start": 60.71630608972087,
            "bin_end": 68.57304487177669,
            "count": 121
           },
           {
            "bin_start": 68.57304487177669,
            "bin_end": 76.42978365383252,
            "count": 54
           },
           {
            "bin_start": 76.42978365383252,
            "bin_end": 84.28652243588834,
            "count": 12
           },
           {
            "bin_start": 84.28652243588834,
            "bin_end": 92.14326121794417,
            "count": 0
           },
           {
            "bin_start": 92.14326121794417,
            "bin_end": 100,
            "count": 2
           }
          ]
         }
        },
        {
         "name": "_deepnote_index_column",
         "dtype": "datetime64[ns]"
        }
       ],
       "rows_top": [
        {
         "RSI": "nan",
         "_deepnote_index_column": "2019-09-03T00:00:00.000000"
        },
        {
         "RSI": 100,
         "_deepnote_index_column": "2019-09-04T00:00:00.000000"
        },
        {
         "RSI": 100,
         "_deepnote_index_column": "2019-09-05T00:00:00.000000"
        },
        {
         "RSI": 68.32967370262185,
         "_deepnote_index_column": "2019-09-06T00:00:00.000000"
        },
        {
         "RSI": 58.04326938401719,
         "_deepnote_index_column": "2019-09-09T00:00:00.000000"
        },
        {
         "RSI": 45.29610284522188,
         "_deepnote_index_column": "2019-09-10T00:00:00.000000"
        },
        {
         "RSI": 33.62616925002489,
         "_deepnote_index_column": "2019-09-11T00:00:00.000000"
        },
        {
         "RSI": 26.071114511106032,
         "_deepnote_index_column": "2019-09-12T00:00:00.000000"
        },
        {
         "RSI": 31.913086745024287,
         "_deepnote_index_column": "2019-09-13T00:00:00.000000"
        },
        {
         "RSI": 41.475519510035596,
         "_deepnote_index_column": "2019-09-16T00:00:00.000000"
        },
        {
         "RSI": 44.534039360176806,
         "_deepnote_index_column": "2019-09-17T00:00:00.000000"
        },
        {
         "RSI": 45.840400901445015,
         "_deepnote_index_column": "2019-09-18T00:00:00.000000"
        },
        {
         "RSI": 40.865178627138796,
         "_deepnote_index_column": "2019-09-19T00:00:00.000000"
        },
        {
         "RSI": 34.29561851324749,
         "_deepnote_index_column": "2019-09-20T00:00:00.000000"
        },
        {
         "RSI": 29.567140848527103,
         "_deepnote_index_column": "2019-09-23T00:00:00.000000"
        },
        {
         "RSI": 36.01683675745721,
         "_deepnote_index_column": "2019-09-24T00:00:00.000000"
        },
        {
         "RSI": 43.60716379716308,
         "_deepnote_index_column": "2019-09-25T00:00:00.000000"
        },
        {
         "RSI": 56.27323255621266,
         "_deepnote_index_column": "2019-09-26T00:00:00.000000"
        },
        {
         "RSI": 55.97760519723868,
         "_deepnote_index_column": "2019-09-27T00:00:00.000000"
        },
        {
         "RSI": 61.24049002338284,
         "_deepnote_index_column": "2019-09-30T00:00:00.000000"
        },
        {
         "RSI": 59.20775160117656,
         "_deepnote_index_column": "2019-10-01T00:00:00.000000"
        },
        {
         "RSI": 50.46926160360195,
         "_deepnote_index_column": "2019-10-02T00:00:00.000000"
        },
        {
         "RSI": 58.79346645162741,
         "_deepnote_index_column": "2019-10-03T00:00:00.000000"
        },
        {
         "RSI": 60.946260658726054,
         "_deepnote_index_column": "2019-10-04T00:00:00.000000"
        },
        {
         "RSI": 58.74290170693343,
         "_deepnote_index_column": "2019-10-07T00:00:00.000000"
        },
        {
         "RSI": 51.4776866015824,
         "_deepnote_index_column": "2019-10-08T00:00:00.000000"
        },
        {
         "RSI": 57.076472852677455,
         "_deepnote_index_column": "2019-10-09T00:00:00.000000"
        },
        {
         "RSI": 56.14299740848912,
         "_deepnote_index_column": "2019-10-10T00:00:00.000000"
        },
        {
         "RSI": 53.703673603399835,
         "_deepnote_index_column": "2019-10-11T00:00:00.000000"
        },
        {
         "RSI": 54.95119219451623,
         "_deepnote_index_column": "2019-10-14T00:00:00.000000"
        },
        {
         "RSI": 63.8499544478813,
         "_deepnote_index_column": "2019-10-15T00:00:00.000000"
        },
        {
         "RSI": 57.442050506057306,
         "_deepnote_index_column": "2019-10-16T00:00:00.000000"
        },
        {
         "RSI": 58.82204234046559,
         "_deepnote_index_column": "2019-10-17T00:00:00.000000"
        },
        {
         "RSI": 46.77556589507724,
         "_deepnote_index_column": "2019-10-18T00:00:00.000000"
        },
        {
         "RSI": 49.42247239586544,
         "_deepnote_index_column": "2019-10-21T00:00:00.000000"
        },
        {
         "RSI": 41.97232780111387,
         "_deepnote_index_column": "2019-10-22T00:00:00.000000"
        },
        {
         "RSI": 40.635898935919144,
         "_deepnote_index_column": "2019-10-23T00:00:00.000000"
        },
        {
         "RSI": 52.32321538653718,
         "_deepnote_index_column": "2019-10-24T00:00:00.000000"
        },
        {
         "RSI": 55.601099757395374,
         "_deepnote_index_column": "2019-10-25T00:00:00.000000"
        },
        {
         "RSI": 55.28621886544865,
         "_deepnote_index_column": "2019-10-28T00:00:00.000000"
        },
        {
         "RSI": 53.86272176979094,
         "_deepnote_index_column": "2019-10-29T00:00:00.000000"
        },
        {
         "RSI": 52.92205210809702,
         "_deepnote_index_column": "2019-10-30T00:00:00.000000"
        },
        {
         "RSI": 50.1669734308119,
         "_deepnote_index_column": "2019-10-31T00:00:00.000000"
        },
        {
         "RSI": 54.27556486375013,
         "_deepnote_index_column": "2019-11-01T00:00:00.000000"
        },
        {
         "RSI": 53.38430096923003,
         "_deepnote_index_column": "2019-11-04T00:00:00.000000"
        },
        {
         "RSI": 48.26324594146859,
         "_deepnote_index_column": "2019-11-05T00:00:00.000000"
        },
        {
         "RSI": 49.37267079293014,
         "_deepnote_index_column": "2019-11-06T00:00:00.000000"
        },
        {
         "RSI": 59.60160228553784,
         "_deepnote_index_column": "2019-11-07T00:00:00.000000"
        },
        {
         "RSI": 52.331934464054186,
         "_deepnote_index_column": "2019-11-08T00:00:00.000000"
        },
        {
         "RSI": 56.25991288059589,
         "_deepnote_index_column": "2019-11-11T00:00:00.000000"
        },
        {
         "RSI": 48.963982916623245,
         "_deepnote_index_column": "2019-11-12T00:00:00.000000"
        },
        {
         "RSI": 48.87296826987962,
         "_deepnote_index_column": "2019-11-13T00:00:00.000000"
        },
        {
         "RSI": 53.46786840089349,
         "_deepnote_index_column": "2019-11-14T00:00:00.000000"
        },
        {
         "RSI": 58.148005237684785,
         "_deepnote_index_column": "2019-11-15T00:00:00.000000"
        },
        {
         "RSI": 60.73465996589348,
         "_deepnote_index_column": "2019-11-18T00:00:00.000000"
        },
        {
         "RSI": 62.25646747117842,
         "_deepnote_index_column": "2019-11-19T00:00:00.000000"
        },
        {
         "RSI": 64.15620089312245,
         "_deepnote_index_column": "2019-11-20T00:00:00.000000"
        },
        {
         "RSI": 64.75324504400686,
         "_deepnote_index_column": "2019-11-21T00:00:00.000000"
        },
        {
         "RSI": 65.56852921842437,
         "_deepnote_index_column": "2019-11-22T00:00:00.000000"
        },
        {
         "RSI": 66.82078853525203,
         "_deepnote_index_column": "2019-11-25T00:00:00.000000"
        },
        {
         "RSI": 68.52219635833737,
         "_deepnote_index_column": "2019-11-26T00:00:00.000000"
        },
        {
         "RSI": 70.21472425184922,
         "_deepnote_index_column": "2019-11-27T00:00:00.000000"
        },
        {
         "RSI": 67.30545805367473,
         "_deepnote_index_column": "2019-11-29T00:00:00.000000"
        },
        {
         "RSI": 56.626396507601285,
         "_deepnote_index_column": "2019-12-02T00:00:00.000000"
        },
        {
         "RSI": 57.14940076909872,
         "_deepnote_index_column": "2019-12-03T00:00:00.000000"
        },
        {
         "RSI": 59.57708700521561,
         "_deepnote_index_column": "2019-12-04T00:00:00.000000"
        },
        {
         "RSI": 56.59090631388983,
         "_deepnote_index_column": "2019-12-05T00:00:00.000000"
        },
        {
         "RSI": 59.462853526670195,
         "_deepnote_index_column": "2019-12-06T00:00:00.000000"
        },
        {
         "RSI": 55.15855370145114,
         "_deepnote_index_column": "2019-12-09T00:00:00.000000"
        },
        {
         "RSI": 49.990806113274985,
         "_deepnote_index_column": "2019-12-10T00:00:00.000000"
        },
        {
         "RSI": 49.621482214738144,
         "_deepnote_index_column": "2019-12-11T00:00:00.000000"
        },
        {
         "RSI": 50.106675359507975,
         "_deepnote_index_column": "2019-12-12T00:00:00.000000"
        },
        {
         "RSI": 45.55377547253135,
         "_deepnote_index_column": "2019-12-13T00:00:00.000000"
        },
        {
         "RSI": 53.05164296036237,
         "_deepnote_index_column": "2019-12-16T00:00:00.000000"
        },
        {
         "RSI": 48.940153745220506,
         "_deepnote_index_column": "2019-12-17T00:00:00.000000"
        },
        {
         "RSI": 47.28892222542687,
         "_deepnote_index_column": "2019-12-18T00:00:00.000000"
        },
        {
         "RSI": 44.939211741072995,
         "_deepnote_index_column": "2019-12-19T00:00:00.000000"
        },
        {
         "RSI": 41.478230167860765,
         "_deepnote_index_column": "2019-12-20T00:00:00.000000"
        },
        {
         "RSI": 38.590669485668215,
         "_deepnote_index_column": "2019-12-23T00:00:00.000000"
        },
        {
         "RSI": 44.414830850413644,
         "_deepnote_index_column": "2019-12-24T00:00:00.000000"
        },
        {
         "RSI": 44.75532710626106,
         "_deepnote_index_column": "2019-12-26T00:00:00.000000"
        },
        {
         "RSI": 43.805814623651735,
         "_deepnote_index_column": "2019-12-27T00:00:00.000000"
        },
        {
         "RSI": 36.54519153148275,
         "_deepnote_index_column": "2019-12-30T00:00:00.000000"
        },
        {
         "RSI": 40.575837920443114,
         "_deepnote_index_column": "2019-12-31T00:00:00.000000"
        },
        {
         "RSI": 46.671782081368384,
         "_deepnote_index_column": "2020-01-02T00:00:00.000000"
        },
        {
         "RSI": 43.52898520740563,
         "_deepnote_index_column": "2020-01-03T00:00:00.000000"
        },
        {
         "RSI": 41.95283487500301,
         "_deepnote_index_column": "2020-01-06T00:00:00.000000"
        },
        {
         "RSI": 50.939833590493755,
         "_deepnote_index_column": "2020-01-07T00:00:00.000000"
        },
        {
         "RSI": 60.703057791703465,
         "_deepnote_index_column": "2020-01-08T00:00:00.000000"
        },
        {
         "RSI": 61.605191641956274,
         "_deepnote_index_column": "2020-01-09T00:00:00.000000"
        },
        {
         "RSI": 61.77699787966186,
         "_deepnote_index_column": "2020-01-10T00:00:00.000000"
        },
        {
         "RSI": 63.72889479771269,
         "_deepnote_index_column": "2020-01-13T00:00:00.000000"
        },
        {
         "RSI": 61.26483947349938,
         "_deepnote_index_column": "2020-01-14T00:00:00.000000"
        },
        {
         "RSI": 67.34236901820694,
         "_deepnote_index_column": "2020-01-15T00:00:00.000000"
        },
        {
         "RSI": 63.243544349931845,
         "_deepnote_index_column": "2020-01-16T00:00:00.000000"
        },
        {
         "RSI": 62.56010822509438,
         "_deepnote_index_column": "2020-01-17T00:00:00.000000"
        },
        {
         "RSI": 57.45017439835925,
         "_deepnote_index_column": "2020-01-21T00:00:00.000000"
        },
        {
         "RSI": 58.73915421613913,
         "_deepnote_index_column": "2020-01-22T00:00:00.000000"
        },
        {
         "RSI": 60.76039747664811,
         "_deepnote_index_column": "2020-01-23T00:00:00.000000"
        },
        {
         "RSI": 66.25020921385504,
         "_deepnote_index_column": "2020-01-24T00:00:00.000000"
        },
        {
         "RSI": 65.76816516183737,
         "_deepnote_index_column": "2020-01-27T00:00:00.000000"
        },
        {
         "RSI": 74.19397570497422,
         "_deepnote_index_column": "2020-01-28T00:00:00.000000"
        },
        {
         "RSI": 76.45722161864316,
         "_deepnote_index_column": "2020-01-29T00:00:00.000000"
        },
        {
         "RSI": 76.13993080260028,
         "_deepnote_index_column": "2020-01-30T00:00:00.000000"
        },
        {
         "RSI": 68.90395790086757,
         "_deepnote_index_column": "2020-01-31T00:00:00.000000"
        },
        {
         "RSI": 77.31727737932617,
         "_deepnote_index_column": "2020-02-03T00:00:00.000000"
        },
        {
         "RSI": 78.65600954177533,
         "_deepnote_index_column": "2020-02-04T00:00:00.000000"
        },
        {
         "RSI": 68.21135841048854,
         "_deepnote_index_column": "2020-02-05T00:00:00.000000"
        },
        {
         "RSI": 68.65120213097724,
         "_deepnote_index_column": "2020-02-06T00:00:00.000000"
        },
        {
         "RSI": 69.26764966510581,
         "_deepnote_index_column": "2020-02-07T00:00:00.000000"
        },
        {
         "RSI": 71.52465815740567,
         "_deepnote_index_column": "2020-02-10T00:00:00.000000"
        },
        {
         "RSI": 70.29391141850869,
         "_deepnote_index_column": "2020-02-11T00:00:00.000000"
        },
        {
         "RSI": 70.5199681024189,
         "_deepnote_index_column": "2020-02-12T00:00:00.000000"
        },
        {
         "RSI": 72.38684493879573,
         "_deepnote_index_column": "2020-02-13T00:00:00.000000"
        },
        {
         "RSI": 73.94818245626502,
         "_deepnote_index_column": "2020-02-14T00:00:00.000000"
        },
        {
         "RSI": 74.93077151903117,
         "_deepnote_index_column": "2020-02-18T00:00:00.000000"
        },
        {
         "RSI": 79.18774257930721,
         "_deepnote_index_column": "2020-02-19T00:00:00.000000"
        },
        {
         "RSI": 79.79058804053345,
         "_deepnote_index_column": "2020-02-20T00:00:00.000000"
        },
        {
         "RSI": 69.39113272297713,
         "_deepnote_index_column": "2020-02-21T00:00:00.000000"
        },
        {
         "RSI": 57.42790949649724,
         "_deepnote_index_column": "2020-02-24T00:00:00.000000"
        },
        {
         "RSI": 48.71429758920388,
         "_deepnote_index_column": "2020-02-25T00:00:00.000000"
        },
        {
         "RSI": 47.582459235670676,
         "_deepnote_index_column": "2020-02-26T00:00:00.000000"
        },
        {
         "RSI": 54.338167814518144,
         "_deepnote_index_column": "2020-02-27T00:00:00.000000"
        },
        {
         "RSI": 62.110557693315656,
         "_deepnote_index_column": "2020-02-28T00:00:00.000000"
        },
        {
         "RSI": 55.39182557354259,
         "_deepnote_index_column": "2020-03-02T00:00:00.000000"
        },
        {
         "RSI": 51.281847254385184,
         "_deepnote_index_column": "2020-03-03T00:00:00.000000"
        },
        {
         "RSI": 52.15921287746573,
         "_deepnote_index_column": "2020-03-04T00:00:00.000000"
        },
        {
         "RSI": 45.924564865886076,
         "_deepnote_index_column": "2020-03-05T00:00:00.000000"
        },
        {
         "RSI": 40.23447396625219,
         "_deepnote_index_column": "2020-03-06T00:00:00.000000"
        },
        {
         "RSI": 30.853669440162733,
         "_deepnote_index_column": "2020-03-09T00:00:00.000000"
        },
        {
         "RSI": 34.241163406892,
         "_deepnote_index_column": "2020-03-10T00:00:00.000000"
        },
        {
         "RSI": 29.32333628605143,
         "_deepnote_index_column": "2020-03-11T00:00:00.000000"
        },
        {
         "RSI": 22.805173427012264,
         "_deepnote_index_column": "2020-03-12T00:00:00.000000"
        },
        {
         "RSI": 30.664380175588192,
         "_deepnote_index_column": "2020-03-13T00:00:00.000000"
        },
        {
         "RSI": 21.432612179441733,
         "_deepnote_index_column": "2020-03-16T00:00:00.000000"
        },
        {
         "RSI": 26.434151231138102,
         "_deepnote_index_column": "2020-03-17T00:00:00.000000"
        },
        {
         "RSI": 23.952076411105764,
         "_deepnote_index_column": "2020-03-18T00:00:00.000000"
        },
        {
         "RSI": 24.68021094695682,
         "_deepnote_index_column": "2020-03-19T00:00:00.000000"
        },
        {
         "RSI": 23.744927746149344,
         "_deepnote_index_column": "2020-03-20T00:00:00.000000"
        },
        {
         "RSI": 26.74999429809779,
         "_deepnote_index_column": "2020-03-23T00:00:00.000000"
        },
        {
         "RSI": 35.703576084631194,
         "_deepnote_index_column": "2020-03-24T00:00:00.000000"
        },
        {
         "RSI": 42.951012951925264,
         "_deepnote_index_column": "2020-03-25T00:00:00.000000"
        },
        {
         "RSI": 46.816108965491324,
         "_deepnote_index_column": "2020-03-26T00:00:00.000000"
        },
        {
         "RSI": 44.420943303455516,
         "_deepnote_index_column": "2020-03-27T00:00:00.000000"
        },
        {
         "RSI": 46.24850262097271,
         "_deepnote_index_column": "2020-03-30T00:00:00.000000"
        },
        {
         "RSI": 43.80047197573294,
         "_deepnote_index_column": "2020-03-31T00:00:00.000000"
        },
        {
         "RSI": 39.066142832228365,
         "_deepnote_index_column": "2020-04-01T00:00:00.000000"
        },
        {
         "RSI": 38.32135408365735,
         "_deepnote_index_column": "2020-04-02T00:00:00.000000"
        },
        {
         "RSI": 36.57714827212168,
         "_deepnote_index_column": "2020-04-03T00:00:00.000000"
        },
        {
         "RSI": 44.947429540646795,
         "_deepnote_index_column": "2020-04-06T00:00:00.000000"
        },
        {
         "RSI": 44.842794519172365,
         "_deepnote_index_column": "2020-04-07T00:00:00.000000"
        },
        {
         "RSI": 52.178107524718015,
         "_deepnote_index_column": "2020-04-08T00:00:00.000000"
        },
        {
         "RSI": 54.289000103447464,
         "_deepnote_index_column": "2020-04-09T00:00:00.000000"
        },
        {
         "RSI": 54.49831952606738,
         "_deepnote_index_column": "2020-04-13T00:00:00.000000"
        },
        {
         "RSI": 57.483592709610065,
         "_deepnote_index_column": "2020-04-14T00:00:00.000000"
        },
        {
         "RSI": 56.11773106960941,
         "_deepnote_index_column": "2020-04-15T00:00:00.000000"
        },
        {
         "RSI": 50.97607146668215,
         "_deepnote_index_column": "2020-04-16T00:00:00.000000"
        },
        {
         "RSI": 55.090776168808105,
         "_deepnote_index_column": "2020-04-17T00:00:00.000000"
        },
        {
         "RSI": 55.05118082990084,
         "_deepnote_index_column": "2020-04-20T00:00:00.000000"
        },
        {
         "RSI": 50.30106178613703,
         "_deepnote_index_column": "2020-04-21T00:00:00.000000"
        },
        {
         "RSI": 54.42069777376537,
         "_deepnote_index_column": "2020-04-22T00:00:00.000000"
        },
        {
         "RSI": 55.3828576165103,
         "_deepnote_index_column": "2020-04-23T00:00:00.000000"
        },
        {
         "RSI": 55.60582530280052,
         "_deepnote_index_column": "2020-04-24T00:00:00.000000"
        },
        {
         "RSI": 57.46140052061803,
         "_deepnote_index_column": "2020-04-27T00:00:00.000000"
        },
        {
         "RSI": 54.58932203978785,
         "_deepnote_index_column": "2020-04-28T00:00:00.000000"
        },
        {
         "RSI": 59.46252843917617,
         "_deepnote_index_column": "2020-04-29T00:00:00.000000"
        },
        {
         "RSI": 58.40473103395353,
         "_deepnote_index_column": "2020-04-30T00:00:00.000000"
        },
        {
         "RSI": 54.836225645810195,
         "_deepnote_index_column": "2020-05-01T00:00:00.000000"
        },
        {
         "RSI": 55.77450104619039,
         "_deepnote_index_column": "2020-05-04T00:00:00.000000"
        },
        {
         "RSI": 59.69513120995737,
         "_deepnote_index_column": "2020-05-05T00:00:00.000000"
        },
        {
         "RSI": 61.425978760965556,
         "_deepnote_index_column": "2020-05-06T00:00:00.000000"
        },
        {
         "RSI": 68.22184288663415,
         "_deepnote_index_column": "2020-05-07T00:00:00.000000"
        },
        {
         "RSI": 69.49137962730333,
         "_deepnote_index_column": "2020-05-08T00:00:00.000000"
        },
        {
         "RSI": 67.16745297970904,
         "_deepnote_index_column": "2020-05-11T00:00:00.000000"
        },
        {
         "RSI": 67.48313128746207,
         "_deepnote_index_column": "2020-05-12T00:00:00.000000"
        },
        {
         "RSI": 64.42733414309721,
         "_deepnote_index_column": "2020-05-13T00:00:00.000000"
        },
        {
         "RSI": 69.10615442422225,
         "_deepnote_index_column": "2020-05-14T00:00:00.000000"
        },
        {
         "RSI": 71.02341834727628,
         "_deepnote_index_column": "2020-05-15T00:00:00.000000"
        },
        {
         "RSI": 63.540297616745,
         "_deepnote_index_column": "2020-05-18T00:00:00.000000"
        },
        {
         "RSI": 66.30016477913635,
         "_deepnote_index_column": "2020-05-19T00:00:00.000000"
        },
        {
         "RSI": 68.99192943409989,
         "_deepnote_index_column": "2020-05-20T00:00:00.000000"
        },
        {
         "RSI": 67.84152551966775,
         "_deepnote_index_column": "2020-05-21T00:00:00.000000"
        },
        {
         "RSI": 67.84152551966775,
         "_deepnote_index_column": "2020-05-22T00:00:00.000000"
        },
        {
         "RSI": 66.21189740807253,
         "_deepnote_index_column": "2020-05-26T00:00:00.000000"
        },
        {
         "RSI": 66.49666414504003,
         "_deepnote_index_column": "2020-05-27T00:00:00.000000"
        },
        {
         "RSI": 63.01520072934837,
         "_deepnote_index_column": "2020-05-28T00:00:00.000000"
        },
        {
         "RSI": 65.06911668731925,
         "_deepnote_index_column": "2020-05-29T00:00:00.000000"
        },
        {
         "RSI": 67.26802632500417,
         "_deepnote_index_column": "2020-06-01T00:00:00.000000"
        },
        {
         "RSI": 73.1321769092477,
         "_deepnote_index_column": "2020-06-02T00:00:00.000000"
        },
        {
         "RSI": 76.5360649708888,
         "_deepnote_index_column": "2020-06-03T00:00:00.000000"
        },
        {
         "RSI": 66.7820090159901,
         "_deepnote_index_column": "2020-06-04T00:00:00.000000"
        },
        {
         "RSI": 68.9948052502194,
         "_deepnote_index_column": "2020-06-05T00:00:00.000000"
        },
        {
         "RSI": 68.30744100180843,
         "_deepnote_index_column": "2020-06-08T00:00:00.000000"
        },
        {
         "RSI": 68.09532379541854,
         "_deepnote_index_column": "2020-06-09T00:00:00.000000"
        },
        {
         "RSI": 70.68748410719823,
         "_deepnote_index_column": "2020-06-10T00:00:00.000000"
        },
        {
         "RSI": 58.228716161733495,
         "_deepnote_index_column": "2020-06-11T00:00:00.000000"
        },
        {
         "RSI": 59.069690357001114,
         "_deepnote_index_column": "2020-06-12T00:00:00.000000"
        },
        {
         "RSI": 64.32452467734925,
         "_deepnote_index_column": "2020-06-15T00:00:00.000000"
        },
        {
         "RSI": 68.17010270105551,
         "_deepnote_index_column": "2020-06-16T00:00:00.000000"
        },
        {
         "RSI": 70.2823978812211,
         "_deepnote_index_column": "2020-06-17T00:00:00.000000"
        },
        {
         "RSI": 71.38956651353237,
         "_deepnote_index_column": "2020-06-18T00:00:00.000000"
        },
        {
         "RSI": 70.72592985942174,
         "_deepnote_index_column": "2020-06-19T00:00:00.000000"
        },
        {
         "RSI": 75.91435035227276,
         "_deepnote_index_column": "2020-06-22T00:00:00.000000"
        },
        {
         "RSI": 76.29858928276269,
         "_deepnote_index_column": "2020-06-23T00:00:00.000000"
        },
        {
         "RSI": 67.7939651738237,
         "_deepnote_index_column": "2020-06-24T00:00:00.000000"
        },
        {
         "RSI": 71.26948816058791,
         "_deepnote_index_column": "2020-06-25T00:00:00.000000"
        },
        {
         "RSI": 70.26446532192662,
         "_deepnote_index_column": "2020-06-26T00:00:00.000000"
        },
        {
         "RSI": 68.91266586684193,
         "_deepnote_index_column": "2020-06-29T00:00:00.000000"
        },
        {
         "RSI": 70.16872667220791,
         "_deepnote_index_column": "2020-06-30T00:00:00.000000"
        },
        {
         "RSI": 78.35941087971575,
         "_deepnote_index_column": "2020-07-01T00:00:00.000000"
        },
        {
         "RSI": 73.38969318434181,
         "_deepnote_index_column": "2020-07-02T00:00:00.000000"
        },
        {
         "RSI": 76.89756172388867,
         "_deepnote_index_column": "2020-07-06T00:00:00.000000"
        },
        {
         "RSI": 80.23198139259571,
         "_deepnote_index_column": "2020-07-07T00:00:00.000000"
        },
        {
         "RSI": 83.27142951942692,
         "_deepnote_index_column": "2020-07-08T00:00:00.000000"
        },
        {
         "RSI": 76.77561832945122,
         "_deepnote_index_column": "2020-07-09T00:00:00.000000"
        },
        {
         "RSI": 74.65345095400315,
         "_deepnote_index_column": "2020-07-10T00:00:00.000000"
        },
        {
         "RSI": 61.75745968412581,
         "_deepnote_index_column": "2020-07-13T00:00:00.000000"
        },
        {
         "RSI": 63.622113503004975,
         "_deepnote_index_column": "2020-07-14T00:00:00.000000"
        },
        {
         "RSI": 64.31661608787635,
         "_deepnote_index_column": "2020-07-15T00:00:00.000000"
        },
        {
         "RSI": 61.359849309628814,
         "_deepnote_index_column": "2020-07-16T00:00:00.000000"
        },
        {
         "RSI": 62.011841599021324,
         "_deepnote_index_column": "2020-07-17T00:00:00.000000"
        },
        {
         "RSI": 67.76432612158507,
         "_deepnote_index_column": "2020-07-20T00:00:00.000000"
        },
        {
         "RSI": 65.80305373073153,
         "_deepnote_index_column": "2020-07-21T00:00:00.000000"
        },
        {
         "RSI": 67.39287589616858,
         "_deepnote_index_column": "2020-07-22T00:00:00.000000"
        },
        {
         "RSI": 58.96740263231135,
         "_deepnote_index_column": "2020-07-23T00:00:00.000000"
        },
        {
         "RSI": 57.097807485258514,
         "_deepnote_index_column": "2020-07-24T00:00:00.000000"
        },
        {
         "RSI": 60.90886314764769,
         "_deepnote_index_column": "2020-07-27T00:00:00.000000"
        },
        {
         "RSI": 58.042980302334236,
         "_deepnote_index_column": "2020-07-28T00:00:00.000000"
        },
        {
         "RSI": 62.3369690407261,
         "_deepnote_index_column": "2020-07-29T00:00:00.000000"
        },
        {
         "RSI": 62.8086857150224,
         "_deepnote_index_column": "2020-07-30T00:00:00.000000"
        },
        {
         "RSI": 63.421155258757295,
         "_deepnote_index_column": "2020-07-31T00:00:00.000000"
        },
        {
         "RSI": 67.39640846758829,
         "_deepnote_index_column": "2020-08-03T00:00:00.000000"
        },
        {
         "RSI": 68.88960136869477,
         "_deepnote_index_column": "2020-08-04T00:00:00.000000"
        },
        {
         "RSI": 74.83302533320607,
         "_deepnote_index_column": "2020-08-05T00:00:00.000000"
        },
        {
         "RSI": 78.26105149474452,
         "_deepnote_index_column": "2020-08-06T00:00:00.000000"
        },
        {
         "RSI": 69.04390170236721,
         "_deepnote_index_column": "2020-08-07T00:00:00.000000"
        },
        {
         "RSI": 60.173597787720645,
         "_deepnote_index_column": "2020-08-10T00:00:00.000000"
        },
        {
         "RSI": 59.04362132786753,
         "_deepnote_index_column": "2020-08-11T00:00:00.000000"
        },
        {
         "RSI": 59.62049037571629,
         "_deepnote_index_column": "2020-08-12T00:00:00.000000"
        },
        {
         "RSI": 62.68568838210221,
         "_deepnote_index_column": "2020-08-13T00:00:00.000000"
        },
        {
         "RSI": 61.20974238475592,
         "_deepnote_index_column": "2020-08-14T00:00:00.000000"
        },
        {
         "RSI": 68.12291021835985,
         "_deepnote_index_column": "2020-08-17T00:00:00.000000"
        },
        {
         "RSI": 66.37902486410644,
         "_deepnote_index_column": "2020-08-18T00:00:00.000000"
        },
        {
         "RSI": 65.5383743689071,
         "_deepnote_index_column": "2020-08-19T00:00:00.000000"
        },
        {
         "RSI": 69.00251066387828,
         "_deepnote_index_column": "2020-08-20T00:00:00.000000"
        },
        {
         "RSI": 67.98371644811394,
         "_deepnote_index_column": "2020-08-21T00:00:00.000000"
        },
        {
         "RSI": 63.580695443932846,
         "_deepnote_index_column": "2020-08-24T00:00:00.000000"
        },
        {
         "RSI": 65.88804509880228,
         "_deepnote_index_column": "2020-08-25T00:00:00.000000"
        },
        {
         "RSI": 64.16951202414982,
         "_deepnote_index_column": "2020-08-26T00:00:00.000000"
        },
        {
         "RSI": 65.6034255782132,
         "_deepnote_index_column": "2020-08-27T00:00:00.000000"
        },
        {
         "RSI": 65.85523834970617,
         "_deepnote_index_column": "2020-08-28T00:00:00.000000"
        },
        {
         "RSI": 68.65833046630003,
         "_deepnote_index_column": "2020-08-31T00:00:00.000000"
        },
        {
         "RSI": 73.27897531388898,
         "_deepnote_index_column": "2020-09-01T00:00:00.000000"
        },
        {
         "RSI": 67.56765000944516,
         "_deepnote_index_column": "2020-09-02T00:00:00.000000"
        },
        {
         "RSI": 55.27032946903526,
         "_deepnote_index_column": "2020-09-03T00:00:00.000000"
        },
        {
         "RSI": 49.0611965843671,
         "_deepnote_index_column": "2020-09-04T00:00:00.000000"
        },
        {
         "RSI": 43.18277087247802,
         "_deepnote_index_column": "2020-09-08T00:00:00.000000"
        },
        {
         "RSI": 47.89301001411549,
         "_deepnote_index_column": "2020-09-09T00:00:00.000000"
        },
        {
         "RSI": 45.397613951354764,
         "_deepnote_index_column": "2020-09-10T00:00:00.000000"
        },
        {
         "RSI": 42.63930800472175,
         "_deepnote_index_column": "2020-09-11T00:00:00.000000"
        },
        {
         "RSI": 49.04093468213746,
         "_deepnote_index_column": "2020-09-14T00:00:00.000000"
        },
        {
         "RSI": 56.61809218387799,
         "_deepnote_index_column": "2020-09-15T00:00:00.000000"
        },
        {
         "RSI": 53.68183577131219,
         "_deepnote_index_column": "2020-09-16T00:00:00.000000"
        },
        {
         "RSI": 49.359000965964185,
         "_deepnote_index_column": "2020-09-17T00:00:00.000000"
        },
        {
         "RSI": 48.86551500684461,
         "_deepnote_index_column": "2020-09-18T00:00:00.000000"
        },
        {
         "RSI": 53.70021404582496,
         "_deepnote_index_column": "2020-09-21T00:00:00.000000"
        },
        {
         "RSI": 56.9100485026974,
         "_deepnote_index_column": "2020-09-22T00:00:00.000000"
        },
        {
         "RSI": 51.7263061304737,
         "_deepnote_index_column": "2020-09-23T00:00:00.000000"
        },
        {
         "RSI": 53.78159078193013,
         "_deepnote_index_column": "2020-09-24T00:00:00.000000"
        },
        {
         "RSI": 57.64425466594915,
         "_deepnote_index_column": "2020-09-25T00:00:00.000000"
        },
        {
         "RSI": 59.68325428072622,
         "_deepnote_index_column": "2020-09-28T00:00:00.000000"
        },
        {
         "RSI": 62.28792402201856,
         "_deepnote_index_column": "2020-09-29T00:00:00.000000"
        },
        {
         "RSI": 59.96001685190127,
         "_deepnote_index_column": "2020-09-30T00:00:00.000000"
        },
        {
         "RSI": 63.790457698291156,
         "_deepnote_index_column": "2020-10-01T00:00:00.000000"
        },
        {
         "RSI": 64.4804379573049,
         "_deepnote_index_column": "2020-10-02T00:00:00.000000"
        },
        {
         "RSI": 70.57754247574759,
         "_deepnote_index_column": "2020-10-05T00:00:00.000000"
        },
        {
         "RSI": 64.67861243548492,
         "_deepnote_index_column": "2020-10-06T00:00:00.000000"
        },
        {
         "RSI": 67.23655970025922,
         "_deepnote_index_column": "2020-10-07T00:00:00.000000"
        },
        {
         "RSI": 68.90031158579706,
         "_deepnote_index_column": "2020-10-08T00:00:00.000000"
        },
        {
         "RSI": 70.7231995449069,
         "_deepnote_index_column": "2020-10-09T00:00:00.000000"
        },
        {
         "RSI": 68.31605418141123,
         "_deepnote_index_column": "2020-10-12T00:00:00.000000"
        },
        {
         "RSI": 70.98726018816785,
         "_deepnote_index_column": "2020-10-13T00:00:00.000000"
        },
        {
         "RSI": 67.53940092704872,
         "_deepnote_index_column": "2020-10-14T00:00:00.000000"
        },
        {
         "RSI": 68.15975239089194,
         "_deepnote_index_column": "2020-10-15T00:00:00.000000"
        },
        {
         "RSI": 65.43012712917675,
         "_deepnote_index_column": "2020-10-16T00:00:00.000000"
        },
        {
         "RSI": 65.82966385894566,
         "_deepnote_index_column": "2020-10-19T00:00:00.000000"
        },
        {
         "RSI": 64.23078041346213,
         "_deepnote_index_column": "2020-10-20T00:00:00.000000"
        },
        {
         "RSI": 54.907360683837005,
         "_deepnote_index_column": "2020-10-21T00:00:00.000000"
        },
        {
         "RSI": 52.93275094444447,
         "_deepnote_index_column": "2020-10-22T00:00:00.000000"
        },
        {
         "RSI": 53.72920812744751,
         "_deepnote_index_column": "2020-10-23T00:00:00.000000"
        },
        {
         "RSI": 46.751297060450824,
         "_deepnote_index_column": "2020-10-26T00:00:00.000000"
        },
        {
         "RSI": 47.94703691233443,
         "_deepnote_index_column": "2020-10-27T00:00:00.000000"
        },
        {
         "RSI": 44.2622290444001,
         "_deepnote_index_column": "2020-10-28T00:00:00.000000"
        },
        {
         "RSI": 47.321937092093236,
         "_deepnote_index_column": "2020-10-29T00:00:00.000000"
        },
        {
         "RSI": 35.73117290538019,
         "_deepnote_index_column": "2020-10-30T00:00:00.000000"
        },
        {
         "RSI": 36.12482389239886,
         "_deepnote_index_column": "2020-11-02T00:00:00.000000"
        },
        {
         "RSI": 39.52152747321142,
         "_deepnote_index_column": "2020-11-03T00:00:00.000000"
        },
        {
         "RSI": 51.669883182034035,
         "_deepnote_index_column": "2020-11-04T00:00:00.000000"
        },
        {
         "RSI": 54.62648593926118,
         "_deepnote_index_column": "2020-11-05T00:00:00.000000"
        },
        {
         "RSI": 67.17002732010724,
         "_deepnote_index_column": "2020-11-06T00:00:00.000000"
        },
        {
         "RSI": 56.80782007251385,
         "_deepnote_index_column": "2020-11-09T00:00:00.000000"
        },
        {
         "RSI": 49.68537700457757,
         "_deepnote_index_column": "2020-11-10T00:00:00.000000"
        },
        {
         "RSI": 55.38080435933684,
         "_deepnote_index_column": "2020-11-11T00:00:00.000000"
        },
        {
         "RSI": 52.62273022218353,
         "_deepnote_index_column": "2020-11-12T00:00:00.000000"
        },
        {
         "RSI": 51.874772467140765,
         "_deepnote_index_column": "2020-11-13T00:00:00.000000"
        },
        {
         "RSI": 52.949619569341806,
         "_deepnote_index_column": "2020-11-16T00:00:00.000000"
        },
        {
         "RSI": 57.486240960832504,
         "_deepnote_index_column": "2020-11-17T00:00:00.000000"
        },
        {
         "RSI": 55.91837198339567,
         "_deepnote_index_column": "2020-11-18T00:00:00.000000"
        },
        {
         "RSI": 59.0383265758413,
         "_deepnote_index_column": "2020-11-19T00:00:00.000000"
        },
        {
         "RSI": 61.12507348130177,
         "_deepnote_index_column": "2020-11-20T00:00:00.000000"
        },
        {
         "RSI": 66.2054532769337,
         "_deepnote_index_column": "2020-11-23T00:00:00.000000"
        },
        {
         "RSI": 62.566918762443244,
         "_deepnote_index_column": "2020-11-24T00:00:00.000000"
        },
        {
         "RSI": 66.62304765973838,
         "_deepnote_index_column": "2020-11-25T00:00:00.000000"
        },
        {
         "RSI": 66.31413732618587,
         "_deepnote_index_column": "2020-11-27T00:00:00.000000"
        },
        {
         "RSI": 65.04738125211705,
         "_deepnote_index_column": "2020-11-30T00:00:00.000000"
        },
        {
         "RSI": 58.868059746766434,
         "_deepnote_index_column": "2020-12-01T00:00:00.000000"
        },
        {
         "RSI": 58.12106798853305,
         "_deepnote_index_column": "2020-12-02T00:00:00.000000"
        },
        {
         "RSI": 60.048285563750106,
         "_deepnote_index_column": "2020-12-03T00:00:00.000000"
        },
        {
         "RSI": 61.465688611649554,
         "_deepnote_index_column": "2020-12-04T00:00:00.000000"
        },
        {
         "RSI": 63.804024689265034,
         "_deepnote_index_column": "2020-12-07T00:00:00.000000"
        },
        {
         "RSI": 64.03217169935246,
         "_deepnote_index_column": "2020-12-08T00:00:00.000000"
        },
        {
         "RSI": 58.51728364074558,
         "_deepnote_index_column": "2020-12-09T00:00:00.000000"
        },
        {
         "RSI": 64.19663352726552,
         "_deepnote_index_column": "2020-12-10T00:00:00.000000"
        },
        {
         "RSI": 63.5905547833729,
         "_deepnote_index_column": "2020-12-11T00:00:00.000000"
        },
        {
         "RSI": 62.883404851596936,
         "_deepnote_index_column": "2020-12-14T00:00:00.000000"
        },
        {
         "RSI": 65.23862123593337,
         "_deepnote_index_column": "2020-12-15T00:00:00.000000"
        },
        {
         "RSI": 68.88838961807453,
         "_deepnote_index_column": "2020-12-16T00:00:00.000000"
        },
        {
         "RSI": 70.60421678251649,
         "_deepnote_index_column": "2020-12-17T00:00:00.000000"
        },
        {
         "RSI": 72.69145890145114,
         "_deepnote_index_column": "2020-12-18T00:00:00.000000"
        },
        {
         "RSI": 70.46079654571218,
         "_deepnote_index_column": "2020-12-21T00:00:00.000000"
        },
        {
         "RSI": 74.01855144097247,
         "_deepnote_index_column": "2020-12-22T00:00:00.000000"
        },
        {
         "RSI": 62.99582348270598,
         "_deepnote_index_column": "2020-12-23T00:00:00.000000"
        },
        {
         "RSI": 60.84721555135353,
         "_deepnote_index_column": "2020-12-24T00:00:00.000000"
        },
        {
         "RSI": 56.570254829031725,
         "_deepnote_index_column": "2020-12-28T00:00:00.000000"
        },
        {
         "RSI": 49.48761292873615,
         "_deepnote_index_column": "2020-12-29T00:00:00.000000"
        },
        {
         "RSI": 54.14754869169135,
         "_deepnote_index_column": "2020-12-30T00:00:00.000000"
        },
        {
         "RSI": 51.668426956426764,
         "_deepnote_index_column": "2020-12-31T00:00:00.000000"
        },
        {
         "RSI": 54.015775888864546,
         "_deepnote_index_column": "2021-01-04T00:00:00.000000"
        },
        {
         "RSI": 59.220769700585215,
         "_deepnote_index_column": "2021-01-05T00:00:00.000000"
        },
        {
         "RSI": 56.911016755140075,
         "_deepnote_index_column": "2021-01-06T00:00:00.000000"
        },
        {
         "RSI": 63.63490347306809,
         "_deepnote_index_column": "2021-01-07T00:00:00.000000"
        },
        {
         "RSI": 64.56663776668984,
         "_deepnote_index_column": "2021-01-08T00:00:00.000000"
        },
        {
         "RSI": 52.776326159261345,
         "_deepnote_index_column": "2021-01-11T00:00:00.000000"
        },
        {
         "RSI": 53.92387048305889,
         "_deepnote_index_column": "2021-01-12T00:00:00.000000"
        },
        {
         "RSI": 55.867779827268066,
         "_deepnote_index_column": "2021-01-13T00:00:00.000000"
        },
        {
         "RSI": 56.943708922697276,
         "_deepnote_index_column": "2021-01-14T00:00:00.000000"
        },
        {
         "RSI": 53.18053131013265,
         "_deepnote_index_column": "2021-01-15T00:00:00.000000"
        },
        {
         "RSI": 52.815085800835384,
         "_deepnote_index_column": "2021-01-19T00:00:00.000000"
        },
        {
         "RSI": 52.33296122307658,
         "_deepnote_index_column": "2021-01-20T00:00:00.000000"
        },
        {
         "RSI": 47.00727008717598,
         "_deepnote_index_column": "2021-01-21T00:00:00.000000"
        },
        {
         "RSI": 49.57019728678469,
         "_deepnote_index_column": "2021-01-22T00:00:00.000000"
        },
        {
         "RSI": 45.07633904450877,
         "_deepnote_index_column": "2021-01-25T00:00:00.000000"
        },
        {
         "RSI": 40.35936555014873,
         "_deepnote_index_column": "2021-01-26T00:00:00.000000"
        },
        {
         "RSI": 36.6494173069562,
         "_deepnote_index_column": "2021-01-27T00:00:00.000000"
        },
        {
         "RSI": 49.61953135785897,
         "_deepnote_index_column": "2021-01-28T00:00:00.000000"
        },
        {
         "RSI": 47.26079039193631,
         "_deepnote_index_column": "2021-01-29T00:00:00.000000"
        },
        {
         "RSI": 51.054216861627346,
         "_deepnote_index_column": "2021-02-01T00:00:00.000000"
        },
        {
         "RSI": 54.41410487863555,
         "_deepnote_index_column": "2021-02-02T00:00:00.000000"
        },
        {
         "RSI": 54.5969674768791,
         "_deepnote_index_column": "2021-02-03T00:00:00.000000"
        },
        {
         "RSI": 60.04269379410772,
         "_deepnote_index_column": "2021-02-04T00:00:00.000000"
        },
        {
         "RSI": 61.398818613422414,
         "_deepnote_index_column": "2021-02-05T00:00:00.000000"
        },
        {
         "RSI": 69.58569395976552,
         "_deepnote_index_column": "2021-02-08T00:00:00.000000"
        },
        {
         "RSI": 68.11645277125322,
         "_deepnote_index_column": "2021-02-09T00:00:00.000000"
        },
        {
         "RSI": 67.59305646334218,
         "_deepnote_index_column": "2021-02-10T00:00:00.000000"
        },
        {
         "RSI": 70.82707125946378,
         "_deepnote_index_column": "2021-02-11T00:00:00.000000"
        },
        {
         "RSI": 73.15808275534569,
         "_deepnote_index_column": "2021-02-12T00:00:00.000000"
        },
        {
         "RSI": 74.22165160477672,
         "_deepnote_index_column": "2021-02-16T00:00:00.000000"
        },
        {
         "RSI": 69.6073285541335,
         "_deepnote_index_column": "2021-02-17T00:00:00.000000"
        },
        {
         "RSI": 69.52486453641589,
         "_deepnote_index_column": "2021-02-18T00:00:00.000000"
        },
        {
         "RSI": 71.81072344858173,
         "_deepnote_index_column": "2021-02-19T00:00:00.000000"
        },
        {
         "RSI": 64.12272858220044,
         "_deepnote_index_column": "2021-02-22T00:00:00.000000"
        },
        {
         "RSI": 55.467854712241824,
         "_deepnote_index_column": "2021-02-23T00:00:00.000000"
        },
        {
         "RSI": 44.59625145335619,
         "_deepnote_index_column": "2021-02-24T00:00:00.000000"
        },
        {
         "RSI": 40.11045969058301,
         "_deepnote_index_column": "2021-02-25T00:00:00.000000"
        },
        {
         "RSI": 41.910087560489224,
         "_deepnote_index_column": "2021-02-26T00:00:00.000000"
        },
        {
         "RSI": 48.206792178080214,
         "_deepnote_index_column": "2021-03-01T00:00:00.000000"
        },
        {
         "RSI": 53.72224067861916,
         "_deepnote_index_column": "2021-03-02T00:00:00.000000"
        },
        {
         "RSI": 45.36166317062805,
         "_deepnote_index_column": "2021-03-03T00:00:00.000000"
        },
        {
         "RSI": 39.547405437954424,
         "_deepnote_index_column": "2021-03-04T00:00:00.000000"
        },
        {
         "RSI": 38.87786479035514,
         "_deepnote_index_column": "2021-03-05T00:00:00.000000"
        },
        {
         "RSI": 34.25828448253715,
         "_deepnote_index_column": "2021-03-08T00:00:00.000000"
        },
        {
         "RSI": 45.394202437696414,
         "_deepnote_index_column": "2021-03-09T00:00:00.000000"
        },
        {
         "RSI": 46.08879505042148,
         "_deepnote_index_column": "2021-03-10T00:00:00.000000"
        },
        {
         "RSI": 52.087813344619676,
         "_deepnote_index_column": "2021-03-11T00:00:00.000000"
        },
        {
         "RSI": 52.23672957097785,
         "_deepnote_index_column": "2021-03-12T00:00:00.000000"
        },
        {
         "RSI": 55.70391253613921,
         "_deepnote_index_column": "2021-03-15T00:00:00.000000"
        },
        {
         "RSI": 52.1835995515499,
         "_deepnote_index_column": "2021-03-16T00:00:00.000000"
        },
        {
         "RSI": 53.435925129481454,
         "_deepnote_index_column": "2021-03-17T00:00:00.000000"
        },
        {
         "RSI": 44.49055935995483,
         "_deepnote_index_column": "2021-03-18T00:00:00.000000"
        },
        {
         "RSI": 44.733240573103274,
         "_deepnote_index_column": "2021-03-19T00:00:00.000000"
        },
        {
         "RSI": 45.347942721970924,
         "_deepnote_index_column": "2021-03-22T00:00:00.000000"
        },
        {
         "RSI": 44.14689089850852,
         "_deepnote_index_column": "2021-03-23T00:00:00.000000"
        },
        {
         "RSI": 40.34152643779445,
         "_deepnote_index_column": "2021-03-24T00:00:00.000000"
        },
        {
         "RSI": 38.483460968525414,
         "_deepnote_index_column": "2021-03-25T00:00:00.000000"
        },
        {
         "RSI": 41.439991190229975,
         "_deepnote_index_column": "2021-03-26T00:00:00.000000"
        },
        {
         "RSI": 38.919089323502256,
         "_deepnote_index_column": "2021-03-29T00:00:00.000000"
        },
        {
         "RSI": 42.248718073352315,
         "_deepnote_index_column": "2021-03-30T00:00:00.000000"
        },
        {
         "RSI": 49.683017717411154,
         "_deepnote_index_column": "2021-03-31T00:00:00.000000"
        },
        {
         "RSI": 50.86148918383657,
         "_deepnote_index_column": "2021-04-01T00:00:00.000000"
        },
        {
         "RSI": 51.08217670667535,
         "_deepnote_index_column": "2021-04-05T00:00:00.000000"
        },
        {
         "RSI": 54.36766257733201,
         "_deepnote_index_column": "2021-04-06T00:00:00.000000"
        },
        {
         "RSI": 58.33379013499572,
         "_deepnote_index_column": "2021-04-07T00:00:00.000000"
        },
        {
         "RSI": 63.5745306908697,
         "_deepnote_index_column": "2021-04-08T00:00:00.000000"
        },
        {
         "RSI": 64.75629984027168,
         "_deepnote_index_column": "2021-04-09T00:00:00.000000"
        },
        {
         "RSI": 66.04049331709079,
         "_deepnote_index_column": "2021-04-12T00:00:00.000000"
        },
        {
         "RSI": 68.80901319613261,
         "_deepnote_index_column": "2021-04-13T00:00:00.000000"
        },
        {
         "RSI": 59.20875224548434,
         "_deepnote_index_column": "2021-04-14T00:00:00.000000"
        },
        {
         "RSI": 61.05535574712706,
         "_deepnote_index_column": "2021-04-15T00:00:00.000000"
        },
        {
         "RSI": 56.91687064523587,
         "_deepnote_index_column": "2021-04-16T00:00:00.000000"
        },
        {
         "RSI": 51.1551363324414,
         "_deepnote_index_column": "2021-04-19T00:00:00.000000"
        },
        {
         "RSI": 51.239043195391595,
         "_deepnote_index_column": "2021-04-20T00:00:00.000000"
        },
        {
         "RSI": 51.10002228745691,
         "_deepnote_index_column": "2021-04-21T00:00:00.000000"
        },
        {
         "RSI": 51.01654641215603,
         "_deepnote_index_column": "2021-04-22T00:00:00.000000"
        },
        {
         "RSI": 51.81578155682658,
         "_deepnote_index_column": "2021-04-23T00:00:00.000000"
        },
        {
         "RSI": 57.14416980417195,
         "_deepnote_index_column": "2021-04-26T00:00:00.000000"
        },
        {
         "RSI": 55.737022144875695,
         "_deepnote_index_column": "2021-04-27T00:00:00.000000"
        },
        {
         "RSI": 55.97875455914132,
         "_deepnote_index_column": "2021-04-28T00:00:00.000000"
        },
        {
         "RSI": 51.24477047984144,
         "_deepnote_index_column": "2021-04-29T00:00:00.000000"
        },
        {
         "RSI": 49.19923959976022,
         "_deepnote_index_column": "2021-04-30T00:00:00.000000"
        },
        {
         "RSI": 48.392589799547174,
         "_deepnote_index_column": "2021-05-03T00:00:00.000000"
        },
        {
         "RSI": 40.548572239341304,
         "_deepnote_index_column": "2021-05-04T00:00:00.000000"
        },
        {
         "RSI": 41.108253729877816,
         "_deepnote_index_column": "2021-05-05T00:00:00.000000"
        },
        {
         "RSI": 36.77166492115256,
         "_deepnote_index_column": "2021-05-06T00:00:00.000000"
        },
        {
         "RSI": 44.2855029844679,
         "_deepnote_index_column": "2021-05-07T00:00:00.000000"
        },
        {
         "RSI": 35.98675471216909,
         "_deepnote_index_column": "2021-05-10T00:00:00.000000"
        },
        {
         "RSI": 39.054297663599435,
         "_deepnote_index_column": "2021-05-11T00:00:00.000000"
        },
        {
         "RSI": 33.35231450705788,
         "_deepnote_index_column": "2021-05-12T00:00:00.000000"
        },
        {
         "RSI": 30.12050966008816,
         "_deepnote_index_column": "2021-05-13T00:00:00.000000"
        },
        {
         "RSI": 37.45459574853764,
         "_deepnote_index_column": "2021-05-14T00:00:00.000000"
        },
        {
         "RSI": 35.60391504179529,
         "_deepnote_index_column": "2021-05-17T00:00:00.000000"
        },
        {
         "RSI": 35.770302469299736,
         "_deepnote_index_column": "2021-05-18T00:00:00.000000"
        },
        {
         "RSI": 34.54862765969959,
         "_deepnote_index_column": "2021-05-19T00:00:00.000000"
        },
        {
         "RSI": 38.129918699836054,
         "_deepnote_index_column": "2021-05-20T00:00:00.000000"
        },
        {
         "RSI": 35.9664129821371,
         "_deepnote_index_column": "2021-05-21T00:00:00.000000"
        },
        {
         "RSI": 43.653539347090486,
         "_deepnote_index_column": "2021-05-24T00:00:00.000000"
        },
        {
         "RSI": 46.94514564140234,
         "_deepnote_index_column": "2021-05-25T00:00:00.000000"
        },
        {
         "RSI": 50.581174880141255,
         "_deepnote_index_column": "2021-05-26T00:00:00.000000"
        },
        {
         "RSI": 49.72054249845834,
         "_deepnote_index_column": "2021-05-27T00:00:00.000000"
        },
        {
         "RSI": 50.73608234082969,
         "_deepnote_index_column": "2021-05-28T00:00:00.000000"
        },
        {
         "RSI": 50.35072869957465,
         "_deepnote_index_column": "2021-06-01T00:00:00.000000"
        },
        {
         "RSI": 49.26210305506156,
         "_deepnote_index_column": "2021-06-02T00:00:00.000000"
        },
        {
         "RSI": 43.373169146921825,
         "_deepnote_index_column": "2021-06-03T00:00:00.000000"
        },
        {
         "RSI": 45.15028697057088,
         "_deepnote_index_column": "2021-06-04T00:00:00.000000"
        },
        {
         "RSI": 47.69997529786321,
         "_deepnote_index_column": "2021-06-07T00:00:00.000000"
        },
        {
         "RSI": 45.71337474733124,
         "_deepnote_index_column": "2021-06-08T00:00:00.000000"
        },
        {
         "RSI": 43.04591556232166,
         "_deepnote_index_column": "2021-06-09T00:00:00.000000"
        },
        {
         "RSI": 48.75359877903952,
         "_deepnote_index_column": "2021-06-10T00:00:00.000000"
        },
        {
         "RSI": 50.45122431925931,
         "_deepnote_index_column": "2021-06-11T00:00:00.000000"
        },
        {
         "RSI": 58.30163538570723,
         "_deepnote_index_column": "2021-06-14T00:00:00.000000"
        },
        {
         "RSI": 55.68294777618012,
         "_deepnote_index_column": "2021-06-15T00:00:00.000000"
        },
        {
         "RSI": 53.54611816170726,
         "_deepnote_index_column": "2021-06-16T00:00:00.000000"
        },
        {
         "RSI": 60.38076906286707,
         "_deepnote_index_column": "2021-06-17T00:00:00.000000"
        },
        {
         "RSI": 60.89799845685567,
         "_deepnote_index_column": "2021-06-18T00:00:00.000000"
        },
        {
         "RSI": 58.092669486040684,
         "_deepnote_index_column": "2021-06-21T00:00:00.000000"
        },
        {
         "RSI": 59.417854737181706,
         "_deepnote_index_column": "2021-06-22T00:00:00.000000"
        },
        {
         "RSI": 61.15411394457433,
         "_deepnote_index_column": "2021-06-23T00:00:00.000000"
        },
        {
         "RSI": 64.42622813594855,
         "_deepnote_index_column": "2021-06-24T00:00:00.000000"
        },
        {
         "RSI": 60.207299255472726,
         "_deepnote_index_column": "2021-06-25T00:00:00.000000"
        },
        {
         "RSI": 64.20110598885978,
         "_deepnote_index_column": "2021-06-28T00:00:00.000000"
        },
        {
         "RSI": 65.47307209137847,
         "_deepnote_index_column": "2021-06-29T00:00:00.000000"
        },
        {
         "RSI": 60.3181495317248,
         "_deepnote_index_column": "2021-06-30T00:00:00.000000"
        },
        {
         "RSI": 58.413207281178956,
         "_deepnote_index_column": "2021-07-01T00:00:00.000000"
        },
        {
         "RSI": 57.63911102798673,
         "_deepnote_index_column": "2021-07-02T00:00:00.000000"
        },
        {
         "RSI": 61.63527657443611,
         "_deepnote_index_column": "2021-07-06T00:00:00.000000"
        },
        {
         "RSI": 59.42246457972975,
         "_deepnote_index_column": "2021-07-07T00:00:00.000000"
        },
        {
         "RSI": 51.04855438325905,
         "_deepnote_index_column": "2021-07-08T00:00:00.000000"
        },
        {
         "RSI": 55.66035043811599,
         "_deepnote_index_column": "2021-07-09T00:00:00.000000"
        },
        {
         "RSI": 56.73039007994255,
         "_deepnote_index_column": "2021-07-12T00:00:00.000000"
        },
        {
         "RSI": 54.85555813148536,
         "_deepnote_index_column": "2021-07-13T00:00:00.000000"
        },
        {
         "RSI": 52.491172916312706,
         "_deepnote_index_column": "2021-07-14T00:00:00.000000"
        },
        {
         "RSI": 48.90399848697754,
         "_deepnote_index_column": "2021-07-15T00:00:00.000000"
        },
        {
         "RSI": 51.11509150389082,
         "_deepnote_index_column": "2021-07-16T00:00:00.000000"
        },
        {
         "RSI": 47.52109164843864,
         "_deepnote_index_column": "2021-07-19T00:00:00.000000"
        },
        {
         "RSI": 58.10619754815303,
         "_deepnote_index_column": "2021-07-20T00:00:00.000000"
        },
        {
         "RSI": 64.59352334916375,
         "_deepnote_index_column": "2021-07-21T00:00:00.000000"
        },
        {
         "RSI": 66.33305220234666,
         "_deepnote_index_column": "2021-07-22T00:00:00.000000"
        },
        {
         "RSI": 68.0584847182078,
         "_deepnote_index_column": "2021-07-23T00:00:00.000000"
        },
        {
         "RSI": 65.91411022950876,
         "_deepnote_index_column": "2021-07-26T00:00:00.000000"
        },
        {
         "RSI": 56.18310439549999,
         "_deepnote_index_column": "2021-07-27T00:00:00.000000"
        },
        {
         "RSI": 60.40445129691376,
         "_deepnote_index_column": "2021-07-28T00:00:00.000000"
        },
        {
         "RSI": 57.51617448814756,
         "_deepnote_index_column": "2021-07-29T00:00:00.000000"
        },
        {
         "RSI": 51.1701289832644,
         "_deepnote_index_column": "2021-07-30T00:00:00.000000"
        },
        {
         "RSI": 64.41416266955721,
         "_deepnote_index_column": "2021-08-02T00:00:00.000000"
        },
        {
         "RSI": 62.31992235243788,
         "_deepnote_index_column": "2021-08-03T00:00:00.000000"
        },
        {
         "RSI": 60.085156230952656,
         "_deepnote_index_column": "2021-08-04T00:00:00.000000"
        },
        {
         "RSI": 66.55912461053536,
         "_deepnote_index_column": "2021-08-05T00:00:00.000000"
        },
        {
         "RSI": 61.84895057891691,
         "_deepnote_index_column": "2021-08-06T00:00:00.000000"
        },
        {
         "RSI": 63.754947733414326,
         "_deepnote_index_column": "2021-08-09T00:00:00.000000"
        },
        {
         "RSI": 59.181651694426414,
         "_deepnote_index_column": "2021-08-10T00:00:00.000000"
        }
       ],
       "rows_bottom": null
      },
      "text/plain": "                   RSI\nDate                  \n2019-09-03         NaN\n2019-09-04  100.000000\n2019-09-05  100.000000\n2019-09-06   68.329674\n2019-09-09   58.043269\n...                ...\n2021-08-04   60.085156\n2021-08-05   66.559125\n2021-08-06   61.848951\n2021-08-09   63.754948\n2021-08-10   59.181652\n\n[489 rows x 1 columns]",
      "text/html": "<div>\n<style scoped>\n    .dataframe tbody tr th:only-of-type {\n        vertical-align: middle;\n    }\n\n    .dataframe tbody tr th {\n        vertical-align: top;\n    }\n\n    .dataframe thead th {\n        text-align: right;\n    }\n</style>\n<table border=\"1\" class=\"dataframe\">\n  <thead>\n    <tr style=\"text-align: right;\">\n      <th></th>\n      <th>RSI</th>\n    </tr>\n    <tr>\n      <th>Date</th>\n      <th></th>\n    </tr>\n  </thead>\n  <tbody>\n    <tr>\n      <th>2019-09-03</th>\n      <td>NaN</td>\n    </tr>\n    <tr>\n      <th>2019-09-04</th>\n      <td>100.000000</td>\n    </tr>\n    <tr>\n      <th>2019-09-05</th>\n      <td>100.000000</td>\n    </tr>\n    <tr>\n      <th>2019-09-06</th>\n      <td>68.329674</td>\n    </tr>\n    <tr>\n      <th>2019-09-09</th>\n      <td>58.043269</td>\n    </tr>\n    <tr>\n      <th>...</th>\n      <td>...</td>\n    </tr>\n    <tr>\n      <th>2021-08-04</th>\n      <td>60.085156</td>\n    </tr>\n    <tr>\n      <th>2021-08-05</th>\n      <td>66.559125</td>\n    </tr>\n    <tr>\n      <th>2021-08-06</th>\n      <td>61.848951</td>\n    </tr>\n    <tr>\n      <th>2021-08-09</th>\n      <td>63.754948</td>\n    </tr>\n    <tr>\n      <th>2021-08-10</th>\n      <td>59.181652</td>\n    </tr>\n  </tbody>\n</table>\n<p>489 rows × 1 columns</p>\n</div>"
     },
     "metadata": {}
    }
   ],
   "execution_count": null
  },
  {
   "cell_type": "code",
   "metadata": {
    "tags": [],
    "deepnote_to_be_reexecuted": false,
    "source_hash": "86637199",
    "execution_start": 1629328312740,
    "execution_millis": 637,
    "cell_id": "00005-d3056d8b-8d0e-4f64-8fb7-d17dbb553cb3",
    "deepnote_cell_type": "code"
   },
   "source": "fig, (ax1, ax2) = plt.subplots(2)\nax1.get_xaxis().set_visible(False)\nfig.suptitle('SQ-1d')\nsq_1d['Close'].plot(ax=ax1)\n\nax1.set_ylabel('Price ($)')\nsq_1d['RSI'].plot(ax=ax2)\nax2.set_ylim(0,100)\nax2.axhline(30, color= 'r', linestyle= '--')\nax2.axhline(70, color= 'r', linestyle= '--')\nax2.set_ylabel('RSI')\nplt.show()",
   "outputs": [
    {
     "data": {
      "text/plain": "<Figure size 1440x720 with 2 Axes>",
      "image/png": "[encoded data removed]"
     },
     "metadata": {
      "image/png": {
       "width": 1319,
       "height": 642
      }
     },
     "output_type": "display_data"
    }
   ],
   "execution_count": null
  },
  {
   "cell_type": "code",
   "metadata": {
    "tags": [],
    "deepnote_to_be_reexecuted": false,
    "source_hash": "b5199ce1",
    "execution_start": 1629328313373,
    "execution_millis": 28,
    "cell_id": "00006-ea850cf5-d96f-4dac-b7e7-0ba4c7fc671a",
    "deepnote_cell_type": "code"
   },
   "source": "def implement_rsi_strategy(prices, rsi):    \n    buy_price = []\n    sell_price = []\n    rsi_signal = []\n    signal = 0\n\n    for i in range(len(rsi)):\n        if rsi[i-1] > 40 and rsi[i] < 40:\n            if signal != 1:\n                buy_price.append(prices[i])\n                sell_price.append(np.nan)\n                signal = 1\n                rsi_signal.append(signal)\n            else:\n                buy_price.append(np.nan)\n                sell_price.append(np.nan)\n                rsi_signal.append(0)\n        elif rsi[i-1] < 70 and rsi[i] > 70:\n            if signal != -1:\n                buy_price.append(np.nan)\n                sell_price.append(prices[i])\n                signal = -1\n                rsi_signal.append(signal)\n            else:\n                buy_price.append(np.nan)\n                sell_price.append(np.nan)\n                rsi_signal.append(0)\n        else:\n            buy_price.append(np.nan)\n            sell_price.append(np.nan)\n            rsi_signal.append(0)\n            \n    return buy_price, sell_price, rsi_signal\n            \n\nbuy_price, sell_price, rsi_signal = implement_rsi_strategy(sq_1d['Close'], sq_1d_rsi['RSI'])",
   "outputs": [],
   "execution_count": null
  },
  {
   "cell_type": "code",
   "metadata": {
    "tags": [],
    "deepnote_to_be_reexecuted": false,
    "source_hash": "fb13a9a2",
    "execution_start": 1629328313410,
    "execution_millis": 671,
    "cell_id": "00007-a130fd5e-8b7d-4c1c-bb94-62cc74f0e028",
    "deepnote_cell_type": "code"
   },
   "source": "ax1 = plt.subplot2grid((10,1), (0,0), rowspan = 4, colspan = 1)\nax2 = plt.subplot2grid((10,1), (5,0), rowspan = 4, colspan = 1)\nax1.plot(sq_1d['Close'], linewidth = 2.5, color = 'skyblue', label = 'SQ')\nax1.plot(sq_1d.index, buy_price, marker = '^', markersize = 10, color = 'green', label = 'BUY SIGNAL')\nax1.plot(sq_1d.index, sell_price, marker = 'v', markersize = 10, color = 'r', label = 'SELL SIGNAL')\nax1.set_title('SQ DAILY RSI TRADE SIGNALS')\nax2.plot(sq_1d['RSI'], color = 'orange', linewidth = 2.5)\nax2.axhline(40, linestyle = '--', linewidth = 1.5, color = 'grey')\nax2.axhline(70, linestyle = '--', linewidth = 1.5, color = 'grey')\nplt.show()",
   "outputs": [
    {
     "data": {
      "text/plain": "<Figure size 1440x720 with 2 Axes>",
      "image/png": "[encoded data removed]"
     },
     "metadata": {
      "image/png": {
       "width": 1297,
       "height": 576
      }
     },
     "output_type": "display_data"
    }
   ],
   "execution_count": null
  },
  {
   "cell_type": "code",
   "metadata": {
    "tags": [],
    "deepnote_to_be_reexecuted": false,
    "source_hash": "fafb02dd",
    "execution_start": 1629328314074,
    "execution_millis": 101,
    "cell_id": "00008-0c3cdb46-369c-4e61-acfc-108403e8a32d",
    "deepnote_cell_type": "code"
   },
   "source": "position = []\nfor i in range(len(rsi_signal)):\n    if rsi_signal[i] > 1:\n        position.append(0)\n    else:\n        position.append(1)\n        \nfor i in range(len(sq_1d['Close'])):\n    if rsi_signal[i] == 1:\n        position[i] = 1\n    elif rsi_signal[i] == -1:\n        position[i] = 0\n    else:\n        position[i] = position[i-1]\n        \nrsi = sq_1d_rsi['RSI']\nclose_price = sq_1d['Close']\nrsi_signal = pd.DataFrame(rsi_signal).rename(columns = {0:'rsi_signal'}).set_index(sq_1d.index)\nposition = pd.DataFrame(position).rename(columns = {0:'rsi_position'}).set_index(sq_1d.index)\n\nframes = [close_price, rsi, rsi_signal, position]\nstrategy = pd.concat(frames, join = 'inner', axis = 1)\n\nstrategy",
   "outputs": [
    {
     "output_type": "execute_result",
     "execution_count": 9,
     "data": {
      "application/vnd.deepnote.dataframe.v2+json": {
       "row_count": 489,
       "column_count": 4,
       "columns": [
        {
         "name": "Close",
         "dtype": "float64",
         "stats": {
          "unique_count": 478,
          "nan_count": 0,
          "min": "38.09000015258789",
          "max": "281.80999755859375",
          "histogram": [
           {
            "bin_start": 38.09000015258789,
            "bin_end": 62.46199989318848,
            "count": 76
           },
           {
            "bin_start": 62.46199989318848,
            "bin_end": 86.83399963378906,
            "count": 114
           },
           {
            "bin_start": 86.83399963378906,
            "bin_end": 111.20599937438965,
            "count": 19
           },
           {
            "bin_start": 111.20599937438965,
            "bin_end": 135.57799911499023,
            "count": 23
           },
           {
            "bin_start": 135.57799911499023,
            "bin_end": 159.94999885559082,
            "count": 39
           },
           {
            "bin_start": 159.94999885559082,
            "bin_end": 184.3219985961914,
            "count": 26
           },
           {
            "bin_start": 184.3219985961914,
            "bin_end": 208.693998336792,
            "count": 32
           },
           {
            "bin_start": 208.693998336792,
            "bin_end": 233.06599807739258,
            "count": 74
           },
           {
            "bin_start": 233.06599807739258,
            "bin_end": 257.43799781799316,
            "count": 59
           },
           {
            "bin_start": 257.43799781799316,
            "bin_end": 281.80999755859375,
            "count": 27
           }
          ]
         }
        },
        {
         "name": "RSI",
         "dtype": "float64",
         "stats": {
          "unique_count": 486,
          "nan_count": 1,
          "min": "21.432612179441733",
          "max": "100.0",
          "histogram": [
           {
            "bin_start": 21.432612179441733,
            "bin_end": 29.28935096149756,
            "count": 8
           },
           {
            "bin_start": 29.28935096149756,
            "bin_end": 37.14608974355339,
            "count": 24
           },
           {
            "bin_start": 37.14608974355339,
            "bin_end": 45.00282852560921,
            "count": 50
           },
           {
            "bin_start": 45.00282852560921,
            "bin_end": 52.85956730766504,
            "count": 92
           },
           {
            "bin_start": 52.85956730766504,
            "bin_end": 60.71630608972087,
            "count": 125
           },
           {
            "bin_start": 60.71630608972087,
            "bin_end": 68.57304487177669,
            "count": 121
           },
           {
            "bin_start": 68.57304487177669,
            "bin_end": 76.42978365383252,
            "count": 54
           },
           {
            "bin_start": 76.42978365383252,
            "bin_end": 84.28652243588834,
            "count": 12
           },
           {
            "bin_start": 84.28652243588834,
            "bin_end": 92.14326121794417,
            "count": 0
           },
           {
            "bin_start": 92.14326121794417,
            "bin_end": 100,
            "count": 2
           }
          ]
         }
        },
        {
         "name": "rsi_signal",
         "dtype": "int64",
         "stats": {
          "unique_count": 3,
          "nan_count": 0,
          "min": "-1",
          "max": "1",
          "histogram": [
           {
            "bin_start": -1,
            "bin_end": -0.8,
            "count": 5
           },
           {
            "bin_start": -0.8,
            "bin_end": -0.6,
            "count": 0
           },
           {
            "bin_start": -0.6,
            "bin_end": -0.3999999999999999,
            "count": 0
           },
           {
            "bin_start": -0.3999999999999999,
            "bin_end": -0.19999999999999996,
            "count": 0
           },
           {
            "bin_start": -0.19999999999999996,
            "bin_end": 0,
            "count": 0
           },
           {
            "bin_start": 0,
            "bin_end": 0.20000000000000018,
            "count": 478
           },
           {
            "bin_start": 0.20000000000000018,
            "bin_end": 0.40000000000000013,
            "count": 0
           },
           {
            "bin_start": 0.40000000000000013,
            "bin_end": 0.6000000000000001,
            "count": 0
           },
           {
            "bin_start": 0.6000000000000001,
            "bin_end": 0.8,
            "count": 0
           },
           {
            "bin_start": 0.8,
            "bin_end": 1,
            "count": 6
           }
          ]
         }
        },
        {
         "name": "rsi_position",
         "dtype": "int64",
         "stats": {
          "unique_count": 2,
          "nan_count": 0,
          "min": "0",
          "max": "1",
          "histogram": [
           {
            "bin_start": 0,
            "bin_end": 0.1,
            "count": 202
           },
           {
            "bin_start": 0.1,
            "bin_end": 0.2,
            "count": 0
           },
           {
            "bin_start": 0.2,
            "bin_end": 0.30000000000000004,
            "count": 0
           },
           {
            "bin_start": 0.30000000000000004,
            "bin_end": 0.4,
            "count": 0
           },
           {
            "bin_start": 0.4,
            "bin_end": 0.5,
            "count": 0
           },
           {
            "bin_start": 0.5,
            "bin_end": 0.6000000000000001,
            "count": 0
           },
           {
            "bin_start": 0.6000000000000001,
            "bin_end": 0.7000000000000001,
            "count": 0
           },
           {
            "bin_start": 0.7000000000000001,
            "bin_end": 0.8,
            "count": 0
           },
           {
            "bin_start": 0.8,
            "bin_end": 0.9,
            "count": 0
           },
           {
            "bin_start": 0.9,
            "bin_end": 1,
            "count": 287
           }
          ]
         }
        },
        {
         "name": "_deepnote_index_column",
         "dtype": "datetime64[ns]"
        }
       ],
       "rows_top": [
        {
         "Close": 61.130001068115234,
         "RSI": "nan",
         "rsi_signal": 0,
         "rsi_position": 1,
         "_deepnote_index_column": "2019-09-03T00:00:00.000000"
        },
        {
         "Close": 61.16999816894531,
         "RSI": 100,
         "rsi_signal": 0,
         "rsi_position": 1,
         "_deepnote_index_column": "2019-09-04T00:00:00.000000"
        },
        {
         "Close": 63.02000045776367,
         "RSI": 100,
         "rsi_signal": 0,
         "rsi_position": 1,
         "_deepnote_index_column": "2019-09-05T00:00:00.000000"
        },
        {
         "Close": 62,
         "RSI": 68.32967370262185,
         "rsi_signal": 0,
         "rsi_position": 1,
         "_deepnote_index_column": "2019-09-06T00:00:00.000000"
        },
        {
         "Close": 61.470001220703125,
         "RSI": 58.04326938401719,
         "rsi_signal": 0,
         "rsi_position": 1,
         "_deepnote_index_column": "2019-09-09T00:00:00.000000"
        },
        {
         "Close": 60.54999923706055,
         "RSI": 45.29610284522188,
         "rsi_signal": 0,
         "rsi_position": 1,
         "_deepnote_index_column": "2019-09-10T00:00:00.000000"
        },
        {
         "Close": 59.20000076293945,
         "RSI": 33.62616925002489,
         "rsi_signal": 1,
         "rsi_position": 1,
         "_deepnote_index_column": "2019-09-11T00:00:00.000000"
        },
        {
         "Close": 57.790000915527344,
         "RSI": 26.071114511106032,
         "rsi_signal": 0,
         "rsi_position": 1,
         "_deepnote_index_column": "2019-09-12T00:00:00.000000"
        },
        {
         "Close": 58.290000915527344,
         "RSI": 31.913086745024287,
         "rsi_signal": 0,
         "rsi_position": 1,
         "_deepnote_index_column": "2019-09-13T00:00:00.000000"
        },
        {
         "Close": 59.25,
         "RSI": 41.475519510035596,
         "rsi_signal": 0,
         "rsi_position": 1,
         "_deepnote_index_column": "2019-09-16T00:00:00.000000"
        },
        {
         "Close": 59.599998474121094,
         "RSI": 44.534039360176806,
         "rsi_signal": 0,
         "rsi_position": 1,
         "_deepnote_index_column": "2019-09-17T00:00:00.000000"
        },
        {
         "Close": 59.75,
         "RSI": 45.840400901445015,
         "rsi_signal": 0,
         "rsi_position": 1,
         "_deepnote_index_column": "2019-09-18T00:00:00.000000"
        },
        {
         "Close": 59.029998779296875,
         "RSI": 40.865178627138796,
         "rsi_signal": 0,
         "rsi_position": 1,
         "_deepnote_index_column": "2019-09-19T00:00:00.000000"
        },
        {
         "Close": 57.849998474121094,
         "RSI": 34.29561851324749,
         "rsi_signal": 0,
         "rsi_position": 1,
         "_deepnote_index_column": "2019-09-20T00:00:00.000000"
        },
        {
         "Close": 56.7599983215332,
         "RSI": 29.567140848527103,
         "rsi_signal": 0,
         "rsi_position": 1,
         "_deepnote_index_column": "2019-09-23T00:00:00.000000"
        },
        {
         "Close": 57.5,
         "RSI": 36.01683675745721,
         "rsi_signal": 0,
         "rsi_position": 1,
         "_deepnote_index_column": "2019-09-24T00:00:00.000000"
        },
        {
         "Close": 58.5099983215332,
         "RSI": 43.60716379716308,
         "rsi_signal": 0,
         "rsi_position": 1,
         "_deepnote_index_column": "2019-09-25T00:00:00.000000"
        },
        {
         "Close": 60.79999923706055,
         "RSI": 56.27323255621266,
         "rsi_signal": 0,
         "rsi_position": 1,
         "_deepnote_index_column": "2019-09-26T00:00:00.000000"
        },
        {
         "Close": 60.75,
         "RSI": 55.97760519723868,
         "rsi_signal": 0,
         "rsi_position": 1,
         "_deepnote_index_column": "2019-09-27T00:00:00.000000"
        },
        {
         "Close": 61.95000076293945,
         "RSI": 61.24049002338284,
         "rsi_signal": 0,
         "rsi_position": 1,
         "_deepnote_index_column": "2019-09-30T00:00:00.000000"
        },
        {
         "Close": 61.630001068115234,
         "RSI": 59.20775160117656,
         "rsi_signal": 0,
         "rsi_position": 1,
         "_deepnote_index_column": "2019-10-01T00:00:00.000000"
        },
        {
         "Close": 60.08000183105469,
         "RSI": 50.46926160360195,
         "rsi_signal": 0,
         "rsi_position": 1,
         "_deepnote_index_column": "2019-10-02T00:00:00.000000"
        },
        {
         "Close": 62.04999923706055,
         "RSI": 58.79346645162741,
         "rsi_signal": 0,
         "rsi_position": 1,
         "_deepnote_index_column": "2019-10-03T00:00:00.000000"
        },
        {
         "Close": 62.650001525878906,
         "RSI": 60.946260658726054,
         "rsi_signal": 0,
         "rsi_position": 1,
         "_deepnote_index_column": "2019-10-04T00:00:00.000000"
        },
        {
         "Close": 62.25,
         "RSI": 58.74290170693343,
         "rsi_signal": 0,
         "rsi_position": 1,
         "_deepnote_index_column": "2019-10-07T00:00:00.000000"
        },
        {
         "Close": 60.79999923706055,
         "RSI": 51.4776866015824,
         "rsi_signal": 0,
         "rsi_position": 1,
         "_deepnote_index_column": "2019-10-08T00:00:00.000000"
        },
        {
         "Close": 62.220001220703125,
         "RSI": 57.076472852677455,
         "rsi_signal": 0,
         "rsi_position": 1,
         "_deepnote_index_column": "2019-10-09T00:00:00.000000"
        },
        {
         "Close": 62.029998779296875,
         "RSI": 56.14299740848912,
         "rsi_signal": 0,
         "rsi_position": 1,
         "_deepnote_index_column": "2019-10-10T00:00:00.000000"
        },
        {
         "Close": 61.540000915527344,
         "RSI": 53.703673603399835,
         "rsi_signal": 0,
         "rsi_position": 1,
         "_deepnote_index_column": "2019-10-11T00:00:00.000000"
        },
        {
         "Close": 61.83000183105469,
         "RSI": 54.95119219451623,
         "rsi_signal": 0,
         "rsi_position": 1,
         "_deepnote_index_column": "2019-10-14T00:00:00.000000"
        },
        {
         "Close": 64.29000091552734,
         "RSI": 63.8499544478813,
         "rsi_signal": 0,
         "rsi_position": 1,
         "_deepnote_index_column": "2019-10-15T00:00:00.000000"
        },
        {
         "Close": 63,
         "RSI": 57.442050506057306,
         "rsi_signal": 0,
         "rsi_position": 1,
         "_deepnote_index_column": "2019-10-16T00:00:00.000000"
        },
        {
         "Close": 63.400001525878906,
         "RSI": 58.82204234046559,
         "rsi_signal": 0,
         "rsi_position": 1,
         "_deepnote_index_column": "2019-10-17T00:00:00.000000"
        },
        {
         "Close": 60.45000076293945,
         "RSI": 46.77556589507724,
         "rsi_signal": 0,
         "rsi_position": 1,
         "_deepnote_index_column": "2019-10-18T00:00:00.000000"
        },
        {
         "Close": 61.150001525878906,
         "RSI": 49.42247239586544,
         "rsi_signal": 0,
         "rsi_position": 1,
         "_deepnote_index_column": "2019-10-21T00:00:00.000000"
        },
        {
         "Close": 58.83000183105469,
         "RSI": 41.97232780111387,
         "rsi_signal": 0,
         "rsi_position": 1,
         "_deepnote_index_column": "2019-10-22T00:00:00.000000"
        },
        {
         "Close": 58.36000061035156,
         "RSI": 40.635898935919144,
         "rsi_signal": 0,
         "rsi_position": 1,
         "_deepnote_index_column": "2019-10-23T00:00:00.000000"
        },
        {
         "Close": 61.720001220703125,
         "RSI": 52.32321538653718,
         "rsi_signal": 0,
         "rsi_position": 1,
         "_deepnote_index_column": "2019-10-24T00:00:00.000000"
        },
        {
         "Close": 62.88999938964844,
         "RSI": 55.601099757395374,
         "rsi_signal": 0,
         "rsi_position": 1,
         "_deepnote_index_column": "2019-10-25T00:00:00.000000"
        },
        {
         "Close": 62.79999923706055,
         "RSI": 55.28621886544865,
         "rsi_signal": 0,
         "rsi_position": 1,
         "_deepnote_index_column": "2019-10-28T00:00:00.000000"
        },
        {
         "Close": 62.40999984741211,
         "RSI": 53.86272176979094,
         "rsi_signal": 0,
         "rsi_position": 1,
         "_deepnote_index_column": "2019-10-29T00:00:00.000000"
        },
        {
         "Close": 62.15999984741211,
         "RSI": 52.92205210809702,
         "rsi_signal": 0,
         "rsi_position": 1,
         "_deepnote_index_column": "2019-10-30T00:00:00.000000"
        },
        {
         "Close": 61.43000030517578,
         "RSI": 50.1669734308119,
         "rsi_signal": 0,
         "rsi_position": 1,
         "_deepnote_index_column": "2019-10-31T00:00:00.000000"
        },
        {
         "Close": 62.599998474121094,
         "RSI": 54.27556486375013,
         "rsi_signal": 0,
         "rsi_position": 1,
         "_deepnote_index_column": "2019-11-01T00:00:00.000000"
        },
        {
         "Close": 62.380001068115234,
         "RSI": 53.38430096923003,
         "rsi_signal": 0,
         "rsi_position": 1,
         "_deepnote_index_column": "2019-11-04T00:00:00.000000"
        },
        {
         "Close": 61.060001373291016,
         "RSI": 48.26324594146859,
         "rsi_signal": 0,
         "rsi_position": 1,
         "_deepnote_index_column": "2019-11-05T00:00:00.000000"
        },
        {
         "Close": 61.34000015258789,
         "RSI": 49.37267079293014,
         "rsi_signal": 0,
         "rsi_position": 1,
         "_deepnote_index_column": "2019-11-06T00:00:00.000000"
        },
        {
         "Close": 64.41000366210938,
         "RSI": 59.60160228553784,
         "rsi_signal": 0,
         "rsi_position": 1,
         "_deepnote_index_column": "2019-11-07T00:00:00.000000"
        },
        {
         "Close": 62.45000076293945,
         "RSI": 52.331934464054186,
         "rsi_signal": 0,
         "rsi_position": 1,
         "_deepnote_index_column": "2019-11-08T00:00:00.000000"
        },
        {
         "Close": 63.790000915527344,
         "RSI": 56.25991288059589,
         "rsi_signal": 0,
         "rsi_position": 1,
         "_deepnote_index_column": "2019-11-11T00:00:00.000000"
        },
        {
         "Close": 61.540000915527344,
         "RSI": 48.963982916623245,
         "rsi_signal": 0,
         "rsi_position": 1,
         "_deepnote_index_column": "2019-11-12T00:00:00.000000"
        },
        {
         "Close": 61.5099983215332,
         "RSI": 48.87296826987962,
         "rsi_signal": 0,
         "rsi_position": 1,
         "_deepnote_index_column": "2019-11-13T00:00:00.000000"
        },
        {
         "Close": 62.9900016784668,
         "RSI": 53.46786840089349,
         "rsi_signal": 0,
         "rsi_position": 1,
         "_deepnote_index_column": "2019-11-14T00:00:00.000000"
        },
        {
         "Close": 64.69999694824219,
         "RSI": 58.148005237684785,
         "rsi_signal": 0,
         "rsi_position": 1,
         "_deepnote_index_column": "2019-11-15T00:00:00.000000"
        },
        {
         "Close": 65.73999786376953,
         "RSI": 60.73465996589348,
         "rsi_signal": 0,
         "rsi_position": 1,
         "_deepnote_index_column": "2019-11-18T00:00:00.000000"
        },
        {
         "Close": 66.37000274658203,
         "RSI": 62.25646747117842,
         "rsi_signal": 0,
         "rsi_position": 1,
         "_deepnote_index_column": "2019-11-19T00:00:00.000000"
        },
        {
         "Close": 67.16999816894531,
         "RSI": 64.15620089312245,
         "rsi_signal": 0,
         "rsi_position": 1,
         "_deepnote_index_column": "2019-11-20T00:00:00.000000"
        },
        {
         "Close": 67.41999816894531,
         "RSI": 64.75324504400686,
         "rsi_signal": 0,
         "rsi_position": 1,
         "_deepnote_index_column": "2019-11-21T00:00:00.000000"
        },
        {
         "Close": 67.75,
         "RSI": 65.56852921842437,
         "rsi_signal": 0,
         "rsi_position": 1,
         "_deepnote_index_column": "2019-11-22T00:00:00.000000"
        },
        {
         "Close": 68.25,
         "RSI": 66.82078853525203,
         "rsi_signal": 0,
         "rsi_position": 1,
         "_deepnote_index_column": "2019-11-25T00:00:00.000000"
        },
        {
         "Close": 68.94000244140625,
         "RSI": 68.52219635833737,
         "rsi_signal": 0,
         "rsi_position": 1,
         "_deepnote_index_column": "2019-11-26T00:00:00.000000"
        },
        {
         "Close": 69.6500015258789,
         "RSI": 70.21472425184922,
         "rsi_signal": -1,
         "rsi_position": 0,
         "_deepnote_index_column": "2019-11-27T00:00:00.000000"
        },
        {
         "Close": 69.12000274658203,
         "RSI": 67.30545805367473,
         "rsi_signal": 0,
         "rsi_position": 0,
         "_deepnote_index_column": "2019-11-29T00:00:00.000000"
        },
        {
         "Close": 66.87999725341797,
         "RSI": 56.626396507601285,
         "rsi_signal": 0,
         "rsi_position": 0,
         "_deepnote_index_column": "2019-12-02T00:00:00.000000"
        },
        {
         "Close": 67.04000091552734,
         "RSI": 57.14940076909872,
         "rsi_signal": 0,
         "rsi_position": 0,
         "_deepnote_index_column": "2019-12-03T00:00:00.000000"
        },
        {
         "Close": 67.77999877929688,
         "RSI": 59.57708700521561,
         "rsi_signal": 0,
         "rsi_position": 0,
         "_deepnote_index_column": "2019-12-04T00:00:00.000000"
        },
        {
         "Close": 67.13999938964844,
         "RSI": 56.59090631388983,
         "rsi_signal": 0,
         "rsi_position": 0,
         "_deepnote_index_column": "2019-12-05T00:00:00.000000"
        },
        {
         "Close": 67.9800033569336,
         "RSI": 59.462853526670195,
         "rsi_signal": 0,
         "rsi_position": 0,
         "_deepnote_index_column": "2019-12-06T00:00:00.000000"
        },
        {
         "Close": 67.05999755859375,
         "RSI": 55.15855370145114,
         "rsi_signal": 0,
         "rsi_position": 0,
         "_deepnote_index_column": "2019-12-09T00:00:00.000000"
        },
        {
         "Close": 65.83999633789062,
         "RSI": 49.990806113274985,
         "rsi_signal": 0,
         "rsi_position": 0,
         "_deepnote_index_column": "2019-12-10T00:00:00.000000"
        },
        {
         "Close": 65.75,
         "RSI": 49.621482214738144,
         "rsi_signal": 0,
         "rsi_position": 0,
         "_deepnote_index_column": "2019-12-11T00:00:00.000000"
        },
        {
         "Close": 65.86000061035156,
         "RSI": 50.106675359507975,
         "rsi_signal": 0,
         "rsi_position": 0,
         "_deepnote_index_column": "2019-12-12T00:00:00.000000"
        },
        {
         "Close": 64.80000305175781,
         "RSI": 45.55377547253135,
         "rsi_signal": 0,
         "rsi_position": 0,
         "_deepnote_index_column": "2019-12-13T00:00:00.000000"
        },
        {
         "Close": 66.52999877929688,
         "RSI": 53.05164296036237,
         "rsi_signal": 0,
         "rsi_position": 0,
         "_deepnote_index_column": "2019-12-16T00:00:00.000000"
        },
        {
         "Close": 65.55000305175781,
         "RSI": 48.940153745220506,
         "rsi_signal": 0,
         "rsi_position": 0,
         "_deepnote_index_column": "2019-12-17T00:00:00.000000"
        },
        {
         "Close": 65.13999938964844,
         "RSI": 47.28892222542687,
         "rsi_signal": 0,
         "rsi_position": 0,
         "_deepnote_index_column": "2019-12-18T00:00:00.000000"
        },
        {
         "Close": 64.55000305175781,
         "RSI": 44.939211741072995,
         "rsi_signal": 0,
         "rsi_position": 0,
         "_deepnote_index_column": "2019-12-19T00:00:00.000000"
        },
        {
         "Close": 63.630001068115234,
         "RSI": 41.478230167860765,
         "rsi_signal": 0,
         "rsi_position": 0,
         "_deepnote_index_column": "2019-12-20T00:00:00.000000"
        },
        {
         "Close": 62.79999923706055,
         "RSI": 38.590669485668215,
         "rsi_signal": 1,
         "rsi_position": 1,
         "_deepnote_index_column": "2019-12-23T00:00:00.000000"
        },
        {
         "Close": 63.959999084472656,
         "RSI": 44.414830850413644,
         "rsi_signal": 0,
         "rsi_position": 1,
         "_deepnote_index_column": "2019-12-24T00:00:00.000000"
        },
        {
         "Close": 64.02999877929688,
         "RSI": 44.75532710626106,
         "rsi_signal": 0,
         "rsi_position": 1,
         "_deepnote_index_column": "2019-12-26T00:00:00.000000"
        },
        {
         "Close": 63.79999923706055,
         "RSI": 43.805814623651735,
         "rsi_signal": 0,
         "rsi_position": 1,
         "_deepnote_index_column": "2019-12-27T00:00:00.000000"
        },
        {
         "Close": 61.79999923706055,
         "RSI": 36.54519153148275,
         "rsi_signal": 0,
         "rsi_position": 1,
         "_deepnote_index_column": "2019-12-30T00:00:00.000000"
        },
        {
         "Close": 62.560001373291016,
         "RSI": 40.575837920443114,
         "rsi_signal": 0,
         "rsi_position": 1,
         "_deepnote_index_column": "2019-12-31T00:00:00.000000"
        },
        {
         "Close": 63.83000183105469,
         "RSI": 46.671782081368384,
         "rsi_signal": 0,
         "rsi_position": 1,
         "_deepnote_index_column": "2020-01-02T00:00:00.000000"
        },
        {
         "Close": 63,
         "RSI": 43.52898520740563,
         "rsi_signal": 0,
         "rsi_position": 1,
         "_deepnote_index_column": "2020-01-03T00:00:00.000000"
        },
        {
         "Close": 62.56999969482422,
         "RSI": 41.95283487500301,
         "rsi_signal": 0,
         "rsi_position": 1,
         "_deepnote_index_column": "2020-01-06T00:00:00.000000"
        },
        {
         "Close": 64.58999633789062,
         "RSI": 50.939833590493755,
         "rsi_signal": 0,
         "rsi_position": 1,
         "_deepnote_index_column": "2020-01-07T00:00:00.000000"
        },
        {
         "Close": 67.5999984741211,
         "RSI": 60.703057791703465,
         "rsi_signal": 0,
         "rsi_position": 1,
         "_deepnote_index_column": "2020-01-08T00:00:00.000000"
        },
        {
         "Close": 67.93000030517578,
         "RSI": 61.605191641956274,
         "rsi_signal": 0,
         "rsi_position": 1,
         "_deepnote_index_column": "2020-01-09T00:00:00.000000"
        },
        {
         "Close": 67.98999786376953,
         "RSI": 61.77699787966186,
         "rsi_signal": 0,
         "rsi_position": 1,
         "_deepnote_index_column": "2020-01-10T00:00:00.000000"
        },
        {
         "Close": 68.66000366210938,
         "RSI": 63.72889479771269,
         "rsi_signal": 0,
         "rsi_position": 1,
         "_deepnote_index_column": "2020-01-13T00:00:00.000000"
        },
        {
         "Close": 68.16999816894531,
         "RSI": 61.26483947349938,
         "rsi_signal": 0,
         "rsi_position": 1,
         "_deepnote_index_column": "2020-01-14T00:00:00.000000"
        },
        {
         "Close": 70.36000061035156,
         "RSI": 67.34236901820694,
         "rsi_signal": 0,
         "rsi_position": 1,
         "_deepnote_index_column": "2020-01-15T00:00:00.000000"
        },
        {
         "Close": 69.5199966430664,
         "RSI": 63.243544349931845,
         "rsi_signal": 0,
         "rsi_position": 1,
         "_deepnote_index_column": "2020-01-16T00:00:00.000000"
        },
        {
         "Close": 69.37999725341797,
         "RSI": 62.56010822509438,
         "rsi_signal": 0,
         "rsi_position": 1,
         "_deepnote_index_column": "2020-01-17T00:00:00.000000"
        },
        {
         "Close": 68.30999755859375,
         "RSI": 57.45017439835925,
         "rsi_signal": 0,
         "rsi_position": 1,
         "_deepnote_index_column": "2020-01-21T00:00:00.000000"
        },
        {
         "Close": 68.69000244140625,
         "RSI": 58.73915421613913,
         "rsi_signal": 0,
         "rsi_position": 1,
         "_deepnote_index_column": "2020-01-22T00:00:00.000000"
        },
        {
         "Close": 69.29000091552734,
         "RSI": 60.76039747664811,
         "rsi_signal": 0,
         "rsi_position": 1,
         "_deepnote_index_column": "2020-01-23T00:00:00.000000"
        },
        {
         "Close": 71.13999938964844,
         "RSI": 66.25020921385504,
         "rsi_signal": 0,
         "rsi_position": 1,
         "_deepnote_index_column": "2020-01-24T00:00:00.000000"
        },
        {
         "Close": 71.05000305175781,
         "RSI": 65.76816516183737,
         "rsi_signal": 0,
         "rsi_position": 1,
         "_deepnote_index_column": "2020-01-27T00:00:00.000000"
        },
        {
         "Close": 74.80000305175781,
         "RSI": 74.19397570497422,
         "rsi_signal": -1,
         "rsi_position": 0,
         "_deepnote_index_column": "2020-01-28T00:00:00.000000"
        },
        {
         "Close": 76.16000366210938,
         "RSI": 76.45722161864316,
         "rsi_signal": 0,
         "rsi_position": 0,
         "_deepnote_index_column": "2020-01-29T00:00:00.000000"
        },
        {
         "Close": 76.0999984741211,
         "RSI": 76.13993080260028,
         "rsi_signal": 0,
         "rsi_position": 0,
         "_deepnote_index_column": "2020-01-30T00:00:00.000000"
        },
        {
         "Close": 74.69000244140625,
         "RSI": 68.90395790086757,
         "rsi_signal": 0,
         "rsi_position": 0,
         "_deepnote_index_column": "2020-01-31T00:00:00.000000"
        },
        {
         "Close": 79.80000305175781,
         "RSI": 77.31727737932617,
         "rsi_signal": 0,
         "rsi_position": 0,
         "_deepnote_index_column": "2020-02-03T00:00:00.000000"
        },
        {
         "Close": 80.9000015258789,
         "RSI": 78.65600954177533,
         "rsi_signal": 0,
         "rsi_position": 0,
         "_deepnote_index_column": "2020-02-04T00:00:00.000000"
        },
        {
         "Close": 78.25,
         "RSI": 68.21135841048854,
         "rsi_signal": 0,
         "rsi_position": 0,
         "_deepnote_index_column": "2020-02-05T00:00:00.000000"
        },
        {
         "Close": 78.51000213623047,
         "RSI": 68.65120213097724,
         "rsi_signal": 0,
         "rsi_position": 0,
         "_deepnote_index_column": "2020-02-06T00:00:00.000000"
        },
        {
         "Close": 78.86000061035156,
         "RSI": 69.26764966510581,
         "rsi_signal": 0,
         "rsi_position": 0,
         "_deepnote_index_column": "2020-02-07T00:00:00.000000"
        },
        {
         "Close": 80.16999816894531,
         "RSI": 71.52465815740567,
         "rsi_signal": 0,
         "rsi_position": 0,
         "_deepnote_index_column": "2020-02-10T00:00:00.000000"
        },
        {
         "Close": 79.87999725341797,
         "RSI": 70.29391141850869,
         "rsi_signal": 0,
         "rsi_position": 0,
         "_deepnote_index_column": "2020-02-11T00:00:00.000000"
        },
        {
         "Close": 80,
         "RSI": 70.5199681024189,
         "rsi_signal": 0,
         "rsi_position": 0,
         "_deepnote_index_column": "2020-02-12T00:00:00.000000"
        },
        {
         "Close": 80.98999786376953,
         "RSI": 72.38684493879573,
         "rsi_signal": 0,
         "rsi_position": 0,
         "_deepnote_index_column": "2020-02-13T00:00:00.000000"
        },
        {
         "Close": 81.86000061035156,
         "RSI": 73.94818245626502,
         "rsi_signal": 0,
         "rsi_position": 0,
         "_deepnote_index_column": "2020-02-14T00:00:00.000000"
        },
        {
         "Close": 82.41999816894531,
         "RSI": 74.93077151903117,
         "rsi_signal": 0,
         "rsi_position": 0,
         "_deepnote_index_column": "2020-02-18T00:00:00.000000"
        },
        {
         "Close": 85.23999786376953,
         "RSI": 79.18774257930721,
         "rsi_signal": 0,
         "rsi_position": 0,
         "_deepnote_index_column": "2020-02-19T00:00:00.000000"
        },
        {
         "Close": 85.69999694824219,
         "RSI": 79.79058804053345,
         "rsi_signal": 0,
         "rsi_position": 0,
         "_deepnote_index_column": "2020-02-20T00:00:00.000000"
        },
        {
         "Close": 83.48999786376953,
         "RSI": 69.39113272297713,
         "rsi_signal": 0,
         "rsi_position": 0,
         "_deepnote_index_column": "2020-02-21T00:00:00.000000"
        },
        {
         "Close": 80.20999908447266,
         "RSI": 57.42790949649724,
         "rsi_signal": 0,
         "rsi_position": 0,
         "_deepnote_index_column": "2020-02-24T00:00:00.000000"
        },
        {
         "Close": 77.05000305175781,
         "RSI": 48.71429758920388,
         "rsi_signal": 0,
         "rsi_position": 0,
         "_deepnote_index_column": "2020-02-25T00:00:00.000000"
        },
        {
         "Close": 76.58999633789062,
         "RSI": 47.582459235670676,
         "rsi_signal": 0,
         "rsi_position": 0,
         "_deepnote_index_column": "2020-02-26T00:00:00.000000"
        },
        {
         "Close": 79.30999755859375,
         "RSI": 54.338167814518144,
         "rsi_signal": 0,
         "rsi_position": 0,
         "_deepnote_index_column": "2020-02-27T00:00:00.000000"
        },
        {
         "Close": 83.33000183105469,
         "RSI": 62.110557693315656,
         "rsi_signal": 0,
         "rsi_position": 0,
         "_deepnote_index_column": "2020-02-28T00:00:00.000000"
        },
        {
         "Close": 80.66999816894531,
         "RSI": 55.39182557354259,
         "rsi_signal": 0,
         "rsi_position": 0,
         "_deepnote_index_column": "2020-03-02T00:00:00.000000"
        }
       ],
       "rows_bottom": [
        {
         "Close": 265.92999267578125,
         "RSI": 70.82707125946378,
         "rsi_signal": -1,
         "rsi_position": 0,
         "_deepnote_index_column": "2021-02-11T00:00:00.000000"
        },
        {
         "Close": 272.75,
         "RSI": 73.15808275534569,
         "rsi_signal": 0,
         "rsi_position": 0,
         "_deepnote_index_column": "2021-02-12T00:00:00.000000"
        },
        {
         "Close": 276.0199890136719,
         "RSI": 74.22165160477672,
         "rsi_signal": 0,
         "rsi_position": 0,
         "_deepnote_index_column": "2021-02-16T00:00:00.000000"
        },
        {
         "Close": 270.94000244140625,
         "RSI": 69.6073285541335,
         "rsi_signal": 0,
         "rsi_position": 0,
         "_deepnote_index_column": "2021-02-17T00:00:00.000000"
        },
        {
         "Close": 270.8500061035156,
         "RSI": 69.52486453641589,
         "rsi_signal": 0,
         "rsi_position": 0,
         "_deepnote_index_column": "2021-02-18T00:00:00.000000"
        },
        {
         "Close": 276.57000732421875,
         "RSI": 71.81072344858173,
         "rsi_signal": 0,
         "rsi_position": 0,
         "_deepnote_index_column": "2021-02-19T00:00:00.000000"
        },
        {
         "Close": 268.0799865722656,
         "RSI": 64.12272858220044,
         "rsi_signal": 0,
         "rsi_position": 0,
         "_deepnote_index_column": "2021-02-22T00:00:00.000000"
        },
        {
         "Close": 256.5899963378906,
         "RSI": 55.467854712241824,
         "rsi_signal": 0,
         "rsi_position": 0,
         "_deepnote_index_column": "2021-02-23T00:00:00.000000"
        },
        {
         "Close": 237.32000732421875,
         "RSI": 44.59625145335619,
         "rsi_signal": 0,
         "rsi_position": 0,
         "_deepnote_index_column": "2021-02-24T00:00:00.000000"
        },
        {
         "Close": 227.11000061035156,
         "RSI": 40.11045969058301,
         "rsi_signal": 0,
         "rsi_position": 0,
         "_deepnote_index_column": "2021-02-25T00:00:00.000000"
        },
        {
         "Close": 230.02999877929688,
         "RSI": 41.910087560489224,
         "rsi_signal": 0,
         "rsi_position": 0,
         "_deepnote_index_column": "2021-02-26T00:00:00.000000"
        },
        {
         "Close": 241,
         "RSI": 48.206792178080214,
         "rsi_signal": 0,
         "rsi_position": 0,
         "_deepnote_index_column": "2021-03-01T00:00:00.000000"
        },
        {
         "Close": 252.1999969482422,
         "RSI": 53.72224067861916,
         "rsi_signal": 0,
         "rsi_position": 0,
         "_deepnote_index_column": "2021-03-02T00:00:00.000000"
        },
        {
         "Close": 234.1999969482422,
         "RSI": 45.36166317062805,
         "rsi_signal": 0,
         "rsi_position": 0,
         "_deepnote_index_column": "2021-03-03T00:00:00.000000"
        },
        {
         "Close": 218.41000366210938,
         "RSI": 39.547405437954424,
         "rsi_signal": 1,
         "rsi_position": 1,
         "_deepnote_index_column": "2021-03-04T00:00:00.000000"
        },
        {
         "Close": 216.44000244140625,
         "RSI": 38.87786479035514,
         "rsi_signal": 0,
         "rsi_position": 1,
         "_deepnote_index_column": "2021-03-05T00:00:00.000000"
        },
        {
         "Close": 201.8699951171875,
         "RSI": 34.25828448253715,
         "rsi_signal": 0,
         "rsi_position": 1,
         "_deepnote_index_column": "2021-03-08T00:00:00.000000"
        },
        {
         "Close": 225.08999633789062,
         "RSI": 45.394202437696414,
         "rsi_signal": 0,
         "rsi_position": 1,
         "_deepnote_index_column": "2021-03-09T00:00:00.000000"
        },
        {
         "Close": 226.72999572753906,
         "RSI": 46.08879505042148,
         "rsi_signal": 0,
         "rsi_position": 1,
         "_deepnote_index_column": "2021-03-10T00:00:00.000000"
        },
        {
         "Close": 241.72000122070312,
         "RSI": 52.087813344619676,
         "rsi_signal": 0,
         "rsi_position": 1,
         "_deepnote_index_column": "2021-03-11T00:00:00.000000"
        },
        {
         "Close": 242.11000061035156,
         "RSI": 52.23672957097785,
         "rsi_signal": 0,
         "rsi_position": 1,
         "_deepnote_index_column": "2021-03-12T00:00:00.000000"
        },
        {
         "Close": 251.22999572753906,
         "RSI": 55.70391253613921,
         "rsi_signal": 0,
         "rsi_position": 1,
         "_deepnote_index_column": "2021-03-15T00:00:00.000000"
        },
        {
         "Close": 243.36000061035156,
         "RSI": 52.1835995515499,
         "rsi_signal": 0,
         "rsi_position": 1,
         "_deepnote_index_column": "2021-03-16T00:00:00.000000"
        },
        {
         "Close": 246.47000122070312,
         "RSI": 53.435925129481454,
         "rsi_signal": 0,
         "rsi_position": 1,
         "_deepnote_index_column": "2021-03-17T00:00:00.000000"
        },
        {
         "Close": 224.3000030517578,
         "RSI": 44.49055935995483,
         "rsi_signal": 0,
         "rsi_position": 1,
         "_deepnote_index_column": "2021-03-18T00:00:00.000000"
        },
        {
         "Close": 224.83999633789062,
         "RSI": 44.733240573103274,
         "rsi_signal": 0,
         "rsi_position": 1,
         "_deepnote_index_column": "2021-03-19T00:00:00.000000"
        },
        {
         "Close": 226.1300048828125,
         "RSI": 45.347942721970924,
         "rsi_signal": 0,
         "rsi_position": 1,
         "_deepnote_index_column": "2021-03-22T00:00:00.000000"
        },
        {
         "Close": 223.1999969482422,
         "RSI": 44.14689089850852,
         "rsi_signal": 0,
         "rsi_position": 1,
         "_deepnote_index_column": "2021-03-23T00:00:00.000000"
        },
        {
         "Close": 213.50999450683594,
         "RSI": 40.34152643779445,
         "rsi_signal": 0,
         "rsi_position": 1,
         "_deepnote_index_column": "2021-03-24T00:00:00.000000"
        },
        {
         "Close": 208.47000122070312,
         "RSI": 38.483460968525414,
         "rsi_signal": 0,
         "rsi_position": 1,
         "_deepnote_index_column": "2021-03-25T00:00:00.000000"
        },
        {
         "Close": 213.60000610351562,
         "RSI": 41.439991190229975,
         "rsi_signal": 0,
         "rsi_position": 1,
         "_deepnote_index_column": "2021-03-26T00:00:00.000000"
        },
        {
         "Close": 207.17999267578125,
         "RSI": 38.919089323502256,
         "rsi_signal": 0,
         "rsi_position": 1,
         "_deepnote_index_column": "2021-03-29T00:00:00.000000"
        },
        {
         "Close": 212.8300018310547,
         "RSI": 42.248718073352315,
         "rsi_signal": 0,
         "rsi_position": 1,
         "_deepnote_index_column": "2021-03-30T00:00:00.000000"
        },
        {
         "Close": 227.0500030517578,
         "RSI": 49.683017717411154,
         "rsi_signal": 0,
         "rsi_position": 1,
         "_deepnote_index_column": "2021-03-31T00:00:00.000000"
        },
        {
         "Close": 229.50999450683594,
         "RSI": 50.86148918383657,
         "rsi_signal": 0,
         "rsi_position": 1,
         "_deepnote_index_column": "2021-04-01T00:00:00.000000"
        },
        {
         "Close": 229.9499969482422,
         "RSI": 51.08217670667535,
         "rsi_signal": 0,
         "rsi_position": 1,
         "_deepnote_index_column": "2021-04-05T00:00:00.000000"
        },
        {
         "Close": 236.5,
         "RSI": 54.36766257733201,
         "rsi_signal": 0,
         "rsi_position": 1,
         "_deepnote_index_column": "2021-04-06T00:00:00.000000"
        },
        {
         "Close": 245.1199951171875,
         "RSI": 58.33379013499572,
         "rsi_signal": 0,
         "rsi_position": 1,
         "_deepnote_index_column": "2021-04-07T00:00:00.000000"
        },
        {
         "Close": 258.3699951171875,
         "RSI": 63.5745306908697,
         "rsi_signal": 0,
         "rsi_position": 1,
         "_deepnote_index_column": "2021-04-08T00:00:00.000000"
        },
        {
         "Close": 261.6499938964844,
         "RSI": 64.75629984027168,
         "rsi_signal": 0,
         "rsi_position": 1,
         "_deepnote_index_column": "2021-04-09T00:00:00.000000"
        },
        {
         "Close": 265.20001220703125,
         "RSI": 66.04049331709079,
         "rsi_signal": 0,
         "rsi_position": 1,
         "_deepnote_index_column": "2021-04-12T00:00:00.000000"
        },
        {
         "Close": 273.2300109863281,
         "RSI": 68.80901319613261,
         "rsi_signal": 0,
         "rsi_position": 1,
         "_deepnote_index_column": "2021-04-13T00:00:00.000000"
        },
        {
         "Close": 258.3999938964844,
         "RSI": 59.20875224548434,
         "rsi_signal": 0,
         "rsi_position": 1,
         "_deepnote_index_column": "2021-04-14T00:00:00.000000"
        },
        {
         "Close": 263.0799865722656,
         "RSI": 61.05535574712706,
         "rsi_signal": 0,
         "rsi_position": 1,
         "_deepnote_index_column": "2021-04-15T00:00:00.000000"
        },
        {
         "Close": 256.1000061035156,
         "RSI": 56.91687064523587,
         "rsi_signal": 0,
         "rsi_position": 1,
         "_deepnote_index_column": "2021-04-16T00:00:00.000000"
        },
        {
         "Close": 245.3300018310547,
         "RSI": 51.1551363324414,
         "rsi_signal": 0,
         "rsi_position": 1,
         "_deepnote_index_column": "2021-04-19T00:00:00.000000"
        },
        {
         "Close": 245.5,
         "RSI": 51.239043195391595,
         "rsi_signal": 0,
         "rsi_position": 1,
         "_deepnote_index_column": "2021-04-20T00:00:00.000000"
        },
        {
         "Close": 245.25,
         "RSI": 51.10002228745691,
         "rsi_signal": 0,
         "rsi_position": 1,
         "_deepnote_index_column": "2021-04-21T00:00:00.000000"
        },
        {
         "Close": 245.11000061035156,
         "RSI": 51.01654641215603,
         "rsi_signal": 0,
         "rsi_position": 1,
         "_deepnote_index_column": "2021-04-22T00:00:00.000000"
        },
        {
         "Close": 246.42999267578125,
         "RSI": 51.81578155682658,
         "rsi_signal": 0,
         "rsi_position": 1,
         "_deepnote_index_column": "2021-04-23T00:00:00.000000"
        },
        {
         "Close": 255.77000427246094,
         "RSI": 57.14416980417195,
         "rsi_signal": 0,
         "rsi_position": 1,
         "_deepnote_index_column": "2021-04-26T00:00:00.000000"
        },
        {
         "Close": 253.7899932861328,
         "RSI": 55.737022144875695,
         "rsi_signal": 0,
         "rsi_position": 1,
         "_deepnote_index_column": "2021-04-27T00:00:00.000000"
        },
        {
         "Close": 254.1999969482422,
         "RSI": 55.97875455914132,
         "rsi_signal": 0,
         "rsi_position": 1,
         "_deepnote_index_column": "2021-04-28T00:00:00.000000"
        },
        {
         "Close": 247.75999450683594,
         "RSI": 51.24477047984144,
         "rsi_signal": 0,
         "rsi_position": 1,
         "_deepnote_index_column": "2021-04-29T00:00:00.000000"
        },
        {
         "Close": 244.82000732421875,
         "RSI": 49.19923959976022,
         "rsi_signal": 0,
         "rsi_position": 1,
         "_deepnote_index_column": "2021-04-30T00:00:00.000000"
        },
        {
         "Close": 243.67999267578125,
         "RSI": 48.392589799547174,
         "rsi_signal": 0,
         "rsi_position": 1,
         "_deepnote_index_column": "2021-05-03T00:00:00.000000"
        },
        {
         "Close": 231.19000244140625,
         "RSI": 40.548572239341304,
         "rsi_signal": 0,
         "rsi_position": 1,
         "_deepnote_index_column": "2021-05-04T00:00:00.000000"
        },
        {
         "Close": 231.8699951171875,
         "RSI": 41.108253729877816,
         "rsi_signal": 0,
         "rsi_position": 1,
         "_deepnote_index_column": "2021-05-05T00:00:00.000000"
        },
        {
         "Close": 223.9600067138672,
         "RSI": 36.77166492115256,
         "rsi_signal": 0,
         "rsi_position": 1,
         "_deepnote_index_column": "2021-05-06T00:00:00.000000"
        },
        {
         "Close": 233.35000610351562,
         "RSI": 44.2855029844679,
         "rsi_signal": 0,
         "rsi_position": 1,
         "_deepnote_index_column": "2021-05-07T00:00:00.000000"
        },
        {
         "Close": 216.42999267578125,
         "RSI": 35.98675471216909,
         "rsi_signal": 0,
         "rsi_position": 1,
         "_deepnote_index_column": "2021-05-10T00:00:00.000000"
        },
        {
         "Close": 220.64999389648438,
         "RSI": 39.054297663599435,
         "rsi_signal": 0,
         "rsi_position": 1,
         "_deepnote_index_column": "2021-05-11T00:00:00.000000"
        },
        {
         "Close": 206.6699981689453,
         "RSI": 33.35231450705788,
         "rsi_signal": 0,
         "rsi_position": 1,
         "_deepnote_index_column": "2021-05-12T00:00:00.000000"
        },
        {
         "Close": 197.1300048828125,
         "RSI": 30.12050966008816,
         "rsi_signal": 0,
         "rsi_position": 1,
         "_deepnote_index_column": "2021-05-13T00:00:00.000000"
        },
        {
         "Close": 207.85000610351562,
         "RSI": 37.45459574853764,
         "rsi_signal": 0,
         "rsi_position": 1,
         "_deepnote_index_column": "2021-05-14T00:00:00.000000"
        },
        {
         "Close": 202.9199981689453,
         "RSI": 35.60391504179529,
         "rsi_signal": 0,
         "rsi_position": 1,
         "_deepnote_index_column": "2021-05-17T00:00:00.000000"
        },
        {
         "Close": 203.16000366210938,
         "RSI": 35.770302469299736,
         "rsi_signal": 0,
         "rsi_position": 1,
         "_deepnote_index_column": "2021-05-18T00:00:00.000000"
        },
        {
         "Close": 200.11000061035156,
         "RSI": 34.54862765969959,
         "rsi_signal": 0,
         "rsi_position": 1,
         "_deepnote_index_column": "2021-05-19T00:00:00.000000"
        },
        {
         "Close": 204.91000366210938,
         "RSI": 38.129918699836054,
         "rsi_signal": 0,
         "rsi_position": 1,
         "_deepnote_index_column": "2021-05-20T00:00:00.000000"
        },
        {
         "Close": 200.00999450683594,
         "RSI": 35.9664129821371,
         "rsi_signal": 0,
         "rsi_position": 1,
         "_deepnote_index_column": "2021-05-21T00:00:00.000000"
        },
        {
         "Close": 210.9499969482422,
         "RSI": 43.653539347090486,
         "rsi_signal": 0,
         "rsi_position": 1,
         "_deepnote_index_column": "2021-05-24T00:00:00.000000"
        },
        {
         "Close": 216.1999969482422,
         "RSI": 46.94514564140234,
         "rsi_signal": 0,
         "rsi_position": 1,
         "_deepnote_index_column": "2021-05-25T00:00:00.000000"
        },
        {
         "Close": 222.33999633789062,
         "RSI": 50.581174880141255,
         "rsi_signal": 0,
         "rsi_position": 1,
         "_deepnote_index_column": "2021-05-26T00:00:00.000000"
        },
        {
         "Close": 220.89999389648438,
         "RSI": 49.72054249845834,
         "rsi_signal": 0,
         "rsi_position": 1,
         "_deepnote_index_column": "2021-05-27T00:00:00.000000"
        },
        {
         "Close": 222.52000427246094,
         "RSI": 50.73608234082969,
         "rsi_signal": 0,
         "rsi_position": 1,
         "_deepnote_index_column": "2021-05-28T00:00:00.000000"
        },
        {
         "Close": 221.9499969482422,
         "RSI": 50.35072869957465,
         "rsi_signal": 0,
         "rsi_position": 1,
         "_deepnote_index_column": "2021-06-01T00:00:00.000000"
        },
        {
         "Close": 220.41000366210938,
         "RSI": 49.26210305506156,
         "rsi_signal": 0,
         "rsi_position": 1,
         "_deepnote_index_column": "2021-06-02T00:00:00.000000"
        },
        {
         "Close": 211.42999267578125,
         "RSI": 43.373169146921825,
         "rsi_signal": 0,
         "rsi_position": 1,
         "_deepnote_index_column": "2021-06-03T00:00:00.000000"
        },
        {
         "Close": 213.69000244140625,
         "RSI": 45.15028697057088,
         "rsi_signal": 0,
         "rsi_position": 1,
         "_deepnote_index_column": "2021-06-04T00:00:00.000000"
        },
        {
         "Close": 216.9499969482422,
         "RSI": 47.69997529786321,
         "rsi_signal": 0,
         "rsi_position": 1,
         "_deepnote_index_column": "2021-06-07T00:00:00.000000"
        },
        {
         "Close": 214.1199951171875,
         "RSI": 45.71337474733124,
         "rsi_signal": 0,
         "rsi_position": 1,
         "_deepnote_index_column": "2021-06-08T00:00:00.000000"
        },
        {
         "Close": 210.2100067138672,
         "RSI": 43.04591556232166,
         "rsi_signal": 0,
         "rsi_position": 1,
         "_deepnote_index_column": "2021-06-09T00:00:00.000000"
        },
        {
         "Close": 217.13999938964844,
         "RSI": 48.75359877903952,
         "rsi_signal": 0,
         "rsi_position": 1,
         "_deepnote_index_column": "2021-06-10T00:00:00.000000"
        },
        {
         "Close": 219.33999633789062,
         "RSI": 50.45122431925931,
         "rsi_signal": 0,
         "rsi_position": 1,
         "_deepnote_index_column": "2021-06-11T00:00:00.000000"
        },
        {
         "Close": 230.9499969482422,
         "RSI": 58.30163538570723,
         "rsi_signal": 0,
         "rsi_position": 1,
         "_deepnote_index_column": "2021-06-14T00:00:00.000000"
        },
        {
         "Close": 227.75,
         "RSI": 55.68294777618012,
         "rsi_signal": 0,
         "rsi_position": 1,
         "_deepnote_index_column": "2021-06-15T00:00:00.000000"
        },
        {
         "Close": 225.11000061035156,
         "RSI": 53.54611816170726,
         "rsi_signal": 0,
         "rsi_position": 1,
         "_deepnote_index_column": "2021-06-16T00:00:00.000000"
        },
        {
         "Close": 236.1300048828125,
         "RSI": 60.38076906286707,
         "rsi_signal": 0,
         "rsi_position": 1,
         "_deepnote_index_column": "2021-06-17T00:00:00.000000"
        },
        {
         "Close": 237.0500030517578,
         "RSI": 60.89799845685567,
         "rsi_signal": 0,
         "rsi_position": 1,
         "_deepnote_index_column": "2021-06-18T00:00:00.000000"
        },
        {
         "Close": 233.88999938964844,
         "RSI": 58.092669486040684,
         "rsi_signal": 0,
         "rsi_position": 1,
         "_deepnote_index_column": "2021-06-21T00:00:00.000000"
        },
        {
         "Close": 235.97000122070312,
         "RSI": 59.417854737181706,
         "rsi_signal": 0,
         "rsi_position": 1,
         "_deepnote_index_column": "2021-06-22T00:00:00.000000"
        },
        {
         "Close": 238.6999969482422,
         "RSI": 61.15411394457433,
         "rsi_signal": 0,
         "rsi_position": 1,
         "_deepnote_index_column": "2021-06-23T00:00:00.000000"
        },
        {
         "Close": 244.14999389648438,
         "RSI": 64.42622813594855,
         "rsi_signal": 0,
         "rsi_position": 1,
         "_deepnote_index_column": "2021-06-24T00:00:00.000000"
        },
        {
         "Close": 239.94000244140625,
         "RSI": 60.207299255472726,
         "rsi_signal": 0,
         "rsi_position": 1,
         "_deepnote_index_column": "2021-06-25T00:00:00.000000"
        },
        {
         "Close": 246.60000610351562,
         "RSI": 64.20110598885978,
         "rsi_signal": 0,
         "rsi_position": 1,
         "_deepnote_index_column": "2021-06-28T00:00:00.000000"
        },
        {
         "Close": 248.8699951171875,
         "RSI": 65.47307209137847,
         "rsi_signal": 0,
         "rsi_position": 1,
         "_deepnote_index_column": "2021-06-29T00:00:00.000000"
        },
        {
         "Close": 243.8000030517578,
         "RSI": 60.3181495317248,
         "rsi_signal": 0,
         "rsi_position": 1,
         "_deepnote_index_column": "2021-06-30T00:00:00.000000"
        },
        {
         "Close": 241.85000610351562,
         "RSI": 58.413207281178956,
         "rsi_signal": 0,
         "rsi_position": 1,
         "_deepnote_index_column": "2021-07-01T00:00:00.000000"
        },
        {
         "Close": 241.0800018310547,
         "RSI": 57.63911102798673,
         "rsi_signal": 0,
         "rsi_position": 1,
         "_deepnote_index_column": "2021-07-02T00:00:00.000000"
        },
        {
         "Close": 246.6999969482422,
         "RSI": 61.63527657443611,
         "rsi_signal": 0,
         "rsi_position": 1,
         "_deepnote_index_column": "2021-07-06T00:00:00.000000"
        },
        {
         "Close": 244.63999938964844,
         "RSI": 59.42246457972975,
         "rsi_signal": 0,
         "rsi_position": 1,
         "_deepnote_index_column": "2021-07-07T00:00:00.000000"
        },
        {
         "Close": 235.89999389648438,
         "RSI": 51.04855438325905,
         "rsi_signal": 0,
         "rsi_position": 1,
         "_deepnote_index_column": "2021-07-08T00:00:00.000000"
        },
        {
         "Close": 241.88999938964844,
         "RSI": 55.66035043811599,
         "rsi_signal": 0,
         "rsi_position": 1,
         "_deepnote_index_column": "2021-07-09T00:00:00.000000"
        },
        {
         "Close": 243.35000610351562,
         "RSI": 56.73039007994255,
         "rsi_signal": 0,
         "rsi_position": 1,
         "_deepnote_index_column": "2021-07-12T00:00:00.000000"
        },
        {
         "Close": 241.42999267578125,
         "RSI": 54.85555813148536,
         "rsi_signal": 0,
         "rsi_position": 1,
         "_deepnote_index_column": "2021-07-13T00:00:00.000000"
        },
        {
         "Close": 239,
         "RSI": 52.491172916312706,
         "rsi_signal": 0,
         "rsi_position": 1,
         "_deepnote_index_column": "2021-07-14T00:00:00.000000"
        },
        {
         "Close": 235.16000366210938,
         "RSI": 48.90399848697754,
         "rsi_signal": 0,
         "rsi_position": 1,
         "_deepnote_index_column": "2021-07-15T00:00:00.000000"
        },
        {
         "Close": 237.52000427246094,
         "RSI": 51.11509150389082,
         "rsi_signal": 0,
         "rsi_position": 1,
         "_deepnote_index_column": "2021-07-16T00:00:00.000000"
        },
        {
         "Close": 233.69000244140625,
         "RSI": 47.52109164843864,
         "rsi_signal": 0,
         "rsi_position": 1,
         "_deepnote_index_column": "2021-07-19T00:00:00.000000"
        },
        {
         "Close": 246.47000122070312,
         "RSI": 58.10619754815303,
         "rsi_signal": 0,
         "rsi_position": 1,
         "_deepnote_index_column": "2021-07-20T00:00:00.000000"
        },
        {
         "Close": 257.25,
         "RSI": 64.59352334916375,
         "rsi_signal": 0,
         "rsi_position": 1,
         "_deepnote_index_column": "2021-07-21T00:00:00.000000"
        },
        {
         "Close": 260.5899963378906,
         "RSI": 66.33305220234666,
         "rsi_signal": 0,
         "rsi_position": 1,
         "_deepnote_index_column": "2021-07-22T00:00:00.000000"
        },
        {
         "Close": 264,
         "RSI": 68.0584847182078,
         "rsi_signal": 0,
         "rsi_position": 1,
         "_deepnote_index_column": "2021-07-23T00:00:00.000000"
        },
        {
         "Close": 261.989990234375,
         "RSI": 65.91411022950876,
         "rsi_signal": 0,
         "rsi_position": 1,
         "_deepnote_index_column": "2021-07-26T00:00:00.000000"
        },
        {
         "Close": 251.72999572753906,
         "RSI": 56.18310439549999,
         "rsi_signal": 0,
         "rsi_position": 1,
         "_deepnote_index_column": "2021-07-27T00:00:00.000000"
        },
        {
         "Close": 258.6099853515625,
         "RSI": 60.40445129691376,
         "rsi_signal": 0,
         "rsi_position": 1,
         "_deepnote_index_column": "2021-07-28T00:00:00.000000"
        },
        {
         "Close": 255.27999877929688,
         "RSI": 57.51617448814756,
         "rsi_signal": 0,
         "rsi_position": 1,
         "_deepnote_index_column": "2021-07-29T00:00:00.000000"
        },
        {
         "Close": 247.25999450683594,
         "RSI": 51.1701289832644,
         "rsi_signal": 0,
         "rsi_position": 1,
         "_deepnote_index_column": "2021-07-30T00:00:00.000000"
        },
        {
         "Close": 272.3800048828125,
         "RSI": 64.41416266955721,
         "rsi_signal": 0,
         "rsi_position": 1,
         "_deepnote_index_column": "2021-08-02T00:00:00.000000"
        },
        {
         "Close": 269.489990234375,
         "RSI": 62.31992235243788,
         "rsi_signal": 0,
         "rsi_position": 1,
         "_deepnote_index_column": "2021-08-03T00:00:00.000000"
        },
        {
         "Close": 266.4200134277344,
         "RSI": 60.085156230952656,
         "rsi_signal": 0,
         "rsi_position": 1,
         "_deepnote_index_column": "2021-08-04T00:00:00.000000"
        },
        {
         "Close": 281.80999755859375,
         "RSI": 66.55912461053536,
         "rsi_signal": 0,
         "rsi_position": 1,
         "_deepnote_index_column": "2021-08-05T00:00:00.000000"
        },
        {
         "Close": 275.1000061035156,
         "RSI": 61.84895057891691,
         "rsi_signal": 0,
         "rsi_position": 1,
         "_deepnote_index_column": "2021-08-06T00:00:00.000000"
        },
        {
         "Close": 279.7300109863281,
         "RSI": 63.754947733414326,
         "rsi_signal": 0,
         "rsi_position": 1,
         "_deepnote_index_column": "2021-08-09T00:00:00.000000"
        },
        {
         "Close": 273.0799865722656,
         "RSI": 59.181651694426414,
         "rsi_signal": 0,
         "rsi_position": 1,
         "_deepnote_index_column": "2021-08-10T00:00:00.000000"
        }
       ]
      },
      "text/plain": "                 Close         RSI  rsi_signal  rsi_position\nDate                                                        \n2019-09-03   61.130001         NaN           0             1\n2019-09-04   61.169998  100.000000           0             1\n2019-09-05   63.020000  100.000000           0             1\n2019-09-06   62.000000   68.329674           0             1\n2019-09-09   61.470001   58.043269           0             1\n...                ...         ...         ...           ...\n2021-08-04  266.420013   60.085156           0             1\n2021-08-05  281.809998   66.559125           0             1\n2021-08-06  275.100006   61.848951           0             1\n2021-08-09  279.730011   63.754948           0             1\n2021-08-10  273.079987   59.181652           0             1\n\n[489 rows x 4 columns]",
      "text/html": "<div>\n<style scoped>\n    .dataframe tbody tr th:only-of-type {\n        vertical-align: middle;\n    }\n\n    .dataframe tbody tr th {\n        vertical-align: top;\n    }\n\n    .dataframe thead th {\n        text-align: right;\n    }\n</style>\n<table border=\"1\" class=\"dataframe\">\n  <thead>\n    <tr style=\"text-align: right;\">\n      <th></th>\n      <th>Close</th>\n      <th>RSI</th>\n      <th>rsi_signal</th>\n      <th>rsi_position</th>\n    </tr>\n    <tr>\n      <th>Date</th>\n      <th></th>\n      <th></th>\n      <th></th>\n      <th></th>\n    </tr>\n  </thead>\n  <tbody>\n    <tr>\n      <th>2019-09-03</th>\n      <td>61.130001</td>\n      <td>NaN</td>\n      <td>0</td>\n      <td>1</td>\n    </tr>\n    <tr>\n      <th>2019-09-04</th>\n      <td>61.169998</td>\n      <td>100.000000</td>\n      <td>0</td>\n      <td>1</td>\n    </tr>\n    <tr>\n      <th>2019-09-05</th>\n      <td>63.020000</td>\n      <td>100.000000</td>\n      <td>0</td>\n      <td>1</td>\n    </tr>\n    <tr>\n      <th>2019-09-06</th>\n      <td>62.000000</td>\n      <td>68.329674</td>\n      <td>0</td>\n      <td>1</td>\n    </tr>\n    <tr>\n      <th>2019-09-09</th>\n      <td>61.470001</td>\n      <td>58.043269</td>\n      <td>0</td>\n      <td>1</td>\n    </tr>\n    <tr>\n      <th>...</th>\n      <td>...</td>\n      <td>...</td>\n      <td>...</td>\n      <td>...</td>\n    </tr>\n    <tr>\n      <th>2021-08-04</th>\n      <td>266.420013</td>\n      <td>60.085156</td>\n      <td>0</td>\n      <td>1</td>\n    </tr>\n    <tr>\n      <th>2021-08-05</th>\n      <td>281.809998</td>\n      <td>66.559125</td>\n      <td>0</td>\n      <td>1</td>\n    </tr>\n    <tr>\n      <th>2021-08-06</th>\n      <td>275.100006</td>\n      <td>61.848951</td>\n      <td>0</td>\n      <td>1</td>\n    </tr>\n    <tr>\n      <th>2021-08-09</th>\n      <td>279.730011</td>\n      <td>63.754948</td>\n      <td>0</td>\n      <td>1</td>\n    </tr>\n    <tr>\n      <th>2021-08-10</th>\n      <td>273.079987</td>\n      <td>59.181652</td>\n      <td>0</td>\n      <td>1</td>\n    </tr>\n  </tbody>\n</table>\n<p>489 rows × 4 columns</p>\n</div>"
     },
     "metadata": {}
    }
   ],
   "execution_count": null
  },
  {
   "cell_type": "code",
   "metadata": {
    "tags": [],
    "deepnote_to_be_reexecuted": false,
    "source_hash": "f8accd36",
    "execution_start": 1629328314172,
    "execution_millis": 37,
    "cell_id": "00009-b4aeb8a6-0eb6-4920-9d9e-932c292bf1d3",
    "deepnote_cell_type": "code"
   },
   "source": "sq_1d_rsi_ret = pd.DataFrame(np.diff(sq_1d['Close'])).rename(columns = {0:'returns'})\nrsi_strategy_ret = []\n\nfor i in range(len(sq_1d_rsi_ret)):\n    returns = sq_1d_rsi_ret['returns'][i]*strategy['rsi_position'][i]\n    rsi_strategy_ret.append(returns)\n    \nrsi_strategy_ret_df = pd.DataFrame(rsi_strategy_ret).rename(columns = {0:'rsi_returns'})\ninvestment_value = 100000\nnumber_of_stocks = floor(investment_value/sq_1d['Close'][-1])\nrsi_investment_ret = []\n\nfor i in range(len(rsi_strategy_ret_df['rsi_returns'])):\n    returns = number_of_stocks*rsi_strategy_ret_df['rsi_returns'][i]\n    rsi_investment_ret.append(returns)\n\nrsi_investment_ret_df = pd.DataFrame(rsi_investment_ret).rename(columns = {0:'investment_returns'})\ntotal_investment_ret = round(sum(rsi_investment_ret_df['investment_returns']), 2)\nprofit_percentage = floor((total_investment_ret/investment_value)*100)\nprint(cl('Profit gained from the RSI strategy by investing $100k in SQ : {}'.format(total_investment_ret), attrs = ['bold']))\nprint(cl('Profit percentage of the RSI strategy : {}%'.format(profit_percentage), attrs = ['bold']))\n",
   "outputs": [
    {
     "name": "stdout",
     "text": "\u001b[1mProfit gained from the RSI strategy by investing $100k in SQ : 83832.29\u001b[0m\n\u001b[1mProfit percentage of the RSI strategy : 83%\u001b[0m\n",
     "output_type": "stream"
    }
   ],
   "execution_count": null
  },
  {
   "cell_type": "code",
   "metadata": {
    "tags": [],
    "deepnote_to_be_reexecuted": false,
    "source_hash": "7bbcaad7",
    "execution_start": 1629328314207,
    "execution_millis": 14,
    "cell_id": "00010-ee997022-94e2-4e8d-acdc-18d6047c9bf8",
    "deepnote_cell_type": "code"
   },
   "source": "strategy.to_csv('SQ 1D RSI TRADE STRATEGY.csv')",
   "outputs": [],
   "execution_count": null
  },
  {
   "cell_type": "markdown",
   "source": "<a style='text-decoration:none;line-height:16px;display:flex;color:#5B5B62;padding:10px;justify-content:end;' href='https://deepnote.com?utm_source=created-in-deepnote-cell&projectId=d12c285c-6789-4c45-9ad7-1be9b4d60622' target=\"_blank\">\n<img alt='Created in deepnote.com' style='display:inline;max-height:16px;margin:0px;margin-right:7.5px;' src='data:image/svg+xml;base64,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' > </img>\nCreated in <span style='font-weight:600;margin-left:4px;'>Deepnote</span></a>",
   "metadata": {
    "tags": [],
    "created_in_deepnote_cell": true,
    "deepnote_cell_type": "markdown"
   }
  }
 ],
 "nbformat": 4,
 "nbformat_minor": 2,
 "metadata": {
  "orig_nbformat": 2,
  "deepnote": {
   "is_reactive": false
  },
  "deepnote_notebook_id": "7d56f854-299d-45c8-a1a5-efe8e558265f",
  "deepnote_execution_queue": []
 }
}