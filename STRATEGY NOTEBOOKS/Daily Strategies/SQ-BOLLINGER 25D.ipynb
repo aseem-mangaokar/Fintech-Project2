{
 "cells": [
  {
   "cell_type": "code",
   "metadata": {
    "tags": [],
    "cell_id": "00000-7794ad1a-ae7a-4260-914d-10a5880505fd",
    "deepnote_to_be_reexecuted": false,
    "source_hash": "32367b8d",
    "execution_start": 1629328349822,
    "execution_millis": 353,
    "deepnote_cell_type": "code"
   },
   "source": "import datetime as dt\nfrom pathlib import Path\nimport requests\nimport pandas as pd\nimport numpy as np\nfrom math import floor\nfrom termcolor import colored as cl\nimport matplotlib.pyplot as plt\nplt.close('all')\nimport yfinance as yf\nplt.rcParams['figure.figsize'] = (20, 10)\nplt.style.use('fivethirtyeight')",
   "outputs": [],
   "execution_count": null
  },
  {
   "cell_type": "code",
   "metadata": {
    "tags": [],
    "cell_id": "00001-08e27961-d96c-42db-bec3-47a87d9c6e85",
    "deepnote_to_be_reexecuted": false,
    "source_hash": "a5b2e6bd",
    "execution_start": 1629328350181,
    "execution_millis": 234,
    "deepnote_cell_type": "code"
   },
   "source": "sq = yf.download(tickers='SQ', start='2019-09-01', end = '2021-08-11', interval='1d')\nsq.drop(columns = ['Open','High','Low','Adj Close','Volume'], inplace = True)\n# sq_1d.reset_index(inplace=True)\n# sq_1d.rename(columns = {'index':'Datetime'}, inplace = True)\n# sq_1d.set_index(pd.to_datetime(sq_1d['Datetime'],infer_datetime_format=True),inplace=True)\nsq.head()",
   "outputs": [
    {
     "name": "stdout",
     "text": "[*********************100%***********************]  1 of 1 completed\n",
     "output_type": "stream"
    },
    {
     "output_type": "execute_result",
     "execution_count": 2,
     "data": {
      "application/vnd.deepnote.dataframe.v2+json": {
       "row_count": 5,
       "column_count": 1,
       "columns": [
        {
         "name": "Close",
         "dtype": "float64",
         "stats": {
          "unique_count": 5,
          "nan_count": 0,
          "min": "61.130001068115234",
          "max": "63.02000045776367",
          "histogram": [
           {
            "bin_start": 61.130001068115234,
            "bin_end": 61.319001007080075,
            "count": 2
           },
           {
            "bin_start": 61.319001007080075,
            "bin_end": 61.50800094604492,
            "count": 1
           },
           {
            "bin_start": 61.50800094604492,
            "bin_end": 61.697000885009764,
            "count": 0
           },
           {
            "bin_start": 61.697000885009764,
            "bin_end": 61.88600082397461,
            "count": 0
           },
           {
            "bin_start": 61.88600082397461,
            "bin_end": 62.07500076293945,
            "count": 1
           },
           {
            "bin_start": 62.07500076293945,
            "bin_end": 62.264000701904294,
            "count": 0
           },
           {
            "bin_start": 62.264000701904294,
            "bin_end": 62.45300064086914,
            "count": 0
           },
           {
            "bin_start": 62.45300064086914,
            "bin_end": 62.64200057983398,
            "count": 0
           },
           {
            "bin_start": 62.64200057983398,
            "bin_end": 62.83100051879883,
            "count": 0
           },
           {
            "bin_start": 62.83100051879883,
            "bin_end": 63.02000045776367,
            "count": 1
           }
          ]
         }
        },
        {
         "name": "_deepnote_index_column",
         "dtype": "datetime64[ns]"
        }
       ],
       "rows_top": [
        {
         "Close": 61.130001068115234,
         "_deepnote_index_column": "2019-09-03T00:00:00.000000"
        },
        {
         "Close": 61.16999816894531,
         "_deepnote_index_column": "2019-09-04T00:00:00.000000"
        },
        {
         "Close": 63.02000045776367,
         "_deepnote_index_column": "2019-09-05T00:00:00.000000"
        },
        {
         "Close": 62,
         "_deepnote_index_column": "2019-09-06T00:00:00.000000"
        },
        {
         "Close": 61.470001220703125,
         "_deepnote_index_column": "2019-09-09T00:00:00.000000"
        }
       ],
       "rows_bottom": null
      },
      "text/plain": "                Close\nDate                 \n2019-09-03  61.130001\n2019-09-04  61.169998\n2019-09-05  63.020000\n2019-09-06  62.000000\n2019-09-09  61.470001",
      "text/html": "<div>\n<style scoped>\n    .dataframe tbody tr th:only-of-type {\n        vertical-align: middle;\n    }\n\n    .dataframe tbody tr th {\n        vertical-align: top;\n    }\n\n    .dataframe thead th {\n        text-align: right;\n    }\n</style>\n<table border=\"1\" class=\"dataframe\">\n  <thead>\n    <tr style=\"text-align: right;\">\n      <th></th>\n      <th>Close</th>\n    </tr>\n    <tr>\n      <th>Date</th>\n      <th></th>\n    </tr>\n  </thead>\n  <tbody>\n    <tr>\n      <th>2019-09-03</th>\n      <td>61.130001</td>\n    </tr>\n    <tr>\n      <th>2019-09-04</th>\n      <td>61.169998</td>\n    </tr>\n    <tr>\n      <th>2019-09-05</th>\n      <td>63.020000</td>\n    </tr>\n    <tr>\n      <th>2019-09-06</th>\n      <td>62.000000</td>\n    </tr>\n    <tr>\n      <th>2019-09-09</th>\n      <td>61.470001</td>\n    </tr>\n  </tbody>\n</table>\n</div>"
     },
     "metadata": {}
    }
   ],
   "execution_count": null
  },
  {
   "cell_type": "code",
   "metadata": {
    "tags": [],
    "cell_id": "00002-28a8756c-2265-4e0e-8000-ce01258d71db",
    "deepnote_to_be_reexecuted": false,
    "source_hash": "82b9518e",
    "execution_start": 1629328350448,
    "execution_millis": 14,
    "deepnote_cell_type": "code"
   },
   "source": "# Drop NAs and calculate daily percent return\nsq['daily_return'] = sq['Close'].dropna().pct_change()\nsq.head()",
   "outputs": [
    {
     "output_type": "execute_result",
     "execution_count": 3,
     "data": {
      "application/vnd.deepnote.dataframe.v2+json": {
       "row_count": 5,
       "column_count": 2,
       "columns": [
        {
         "name": "Close",
         "dtype": "float64",
         "stats": {
          "unique_count": 5,
          "nan_count": 0,
          "min": "61.130001068115234",
          "max": "63.02000045776367",
          "histogram": [
           {
            "bin_start": 61.130001068115234,
            "bin_end": 61.319001007080075,
            "count": 2
           },
           {
            "bin_start": 61.319001007080075,
            "bin_end": 61.50800094604492,
            "count": 1
           },
           {
            "bin_start": 61.50800094604492,
            "bin_end": 61.697000885009764,
            "count": 0
           },
           {
            "bin_start": 61.697000885009764,
            "bin_end": 61.88600082397461,
            "count": 0
           },
           {
            "bin_start": 61.88600082397461,
            "bin_end": 62.07500076293945,
            "count": 1
           },
           {
            "bin_start": 62.07500076293945,
            "bin_end": 62.264000701904294,
            "count": 0
           },
           {
            "bin_start": 62.264000701904294,
            "bin_end": 62.45300064086914,
            "count": 0
           },
           {
            "bin_start": 62.45300064086914,
            "bin_end": 62.64200057983398,
            "count": 0
           },
           {
            "bin_start": 62.64200057983398,
            "bin_end": 62.83100051879883,
            "count": 0
           },
           {
            "bin_start": 62.83100051879883,
            "bin_end": 63.02000045776367,
            "count": 1
           }
          ]
         }
        },
        {
         "name": "daily_return",
         "dtype": "float64",
         "stats": {
          "unique_count": 4,
          "nan_count": 1,
          "min": "-0.01618534513415759",
          "max": "0.03024362177858575",
          "histogram": [
           {
            "bin_start": -0.01618534513415759,
            "bin_end": -0.011542448442883258,
            "count": 1
           },
           {
            "bin_start": -0.011542448442883258,
            "bin_end": -0.006899551751608923,
            "count": 1
           },
           {
            "bin_start": -0.006899551751608923,
            "bin_end": -0.002256655060334588,
            "count": 0
           },
           {
            "bin_start": -0.002256655060334588,
            "bin_end": 0.0023862416309397456,
            "count": 1
           },
           {
            "bin_start": 0.0023862416309397456,
            "bin_end": 0.007029138322214079,
            "count": 0
           },
           {
            "bin_start": 0.007029138322214079,
            "bin_end": 0.011672035013488416,
            "count": 0
           },
           {
            "bin_start": 0.011672035013488416,
            "bin_end": 0.016314931704762746,
            "count": 0
           },
           {
            "bin_start": 0.016314931704762746,
            "bin_end": 0.020957828396037083,
            "count": 0
           },
           {
            "bin_start": 0.020957828396037083,
            "bin_end": 0.02560072508731142,
            "count": 0
           },
           {
            "bin_start": 0.02560072508731142,
            "bin_end": 0.03024362177858575,
            "count": 1
           }
          ]
         }
        },
        {
         "name": "_deepnote_index_column",
         "dtype": "datetime64[ns]"
        }
       ],
       "rows_top": [
        {
         "Close": 61.130001068115234,
         "daily_return": "nan",
         "_deepnote_index_column": "2019-09-03T00:00:00.000000"
        },
        {
         "Close": 61.16999816894531,
         "daily_return": 0.0006542957652742043,
         "_deepnote_index_column": "2019-09-04T00:00:00.000000"
        },
        {
         "Close": 63.02000045776367,
         "daily_return": 0.03024362177858575,
         "_deepnote_index_column": "2019-09-05T00:00:00.000000"
        },
        {
         "Close": 62,
         "daily_return": -0.01618534513415759,
         "_deepnote_index_column": "2019-09-06T00:00:00.000000"
        },
        {
         "Close": 61.470001220703125,
         "daily_return": -0.008548367408014124,
         "_deepnote_index_column": "2019-09-09T00:00:00.000000"
        }
       ],
       "rows_bottom": null
      },
      "text/plain": "                Close  daily_return\nDate                               \n2019-09-03  61.130001           NaN\n2019-09-04  61.169998      0.000654\n2019-09-05  63.020000      0.030244\n2019-09-06  62.000000     -0.016185\n2019-09-09  61.470001     -0.008548",
      "text/html": "<div>\n<style scoped>\n    .dataframe tbody tr th:only-of-type {\n        vertical-align: middle;\n    }\n\n    .dataframe tbody tr th {\n        vertical-align: top;\n    }\n\n    .dataframe thead th {\n        text-align: right;\n    }\n</style>\n<table border=\"1\" class=\"dataframe\">\n  <thead>\n    <tr style=\"text-align: right;\">\n      <th></th>\n      <th>Close</th>\n      <th>daily_return</th>\n    </tr>\n    <tr>\n      <th>Date</th>\n      <th></th>\n      <th></th>\n    </tr>\n  </thead>\n  <tbody>\n    <tr>\n      <th>2019-09-03</th>\n      <td>61.130001</td>\n      <td>NaN</td>\n    </tr>\n    <tr>\n      <th>2019-09-04</th>\n      <td>61.169998</td>\n      <td>0.000654</td>\n    </tr>\n    <tr>\n      <th>2019-09-05</th>\n      <td>63.020000</td>\n      <td>0.030244</td>\n    </tr>\n    <tr>\n      <th>2019-09-06</th>\n      <td>62.000000</td>\n      <td>-0.016185</td>\n    </tr>\n    <tr>\n      <th>2019-09-09</th>\n      <td>61.470001</td>\n      <td>-0.008548</td>\n    </tr>\n  </tbody>\n</table>\n</div>"
     },
     "metadata": {}
    }
   ],
   "execution_count": null
  },
  {
   "cell_type": "code",
   "metadata": {
    "tags": [],
    "cell_id": "00003-5bbaf4a0-dff7-4ee8-a6c1-66c2ab088bbc",
    "deepnote_to_be_reexecuted": false,
    "source_hash": "d39f8245",
    "execution_start": 1629328350457,
    "execution_millis": 77,
    "deepnote_cell_type": "code"
   },
   "source": "# Set short and long windows\nshort_window = 1\nlong_window = 10\n\n# Construct a `Fast` and `Slow` Exponential Moving Average from short and long windows, respectively\nsq['fast_close'] = sq['Close'].ewm(halflife=short_window).mean()\nsq['slow_close'] = sq['Close'].ewm(halflife=long_window).mean()\n\n# Construct a crossover trading signal\nsq['crossover_long'] = np.where(sq['fast_close'] > sq['slow_close'], 1.0, 0.0)\nsq['crossover_short'] = np.where(sq['fast_close'] < sq['slow_close'], -1.0, 0.0)\nsq['crossover_signal'] = sq['crossover_long'] + sq['crossover_short']\n\nsq.head()",
   "outputs": [
    {
     "output_type": "execute_result",
     "execution_count": 4,
     "data": {
      "application/vnd.deepnote.dataframe.v2+json": {
       "row_count": 5,
       "column_count": 7,
       "columns": [
        {
         "name": "Close",
         "dtype": "float64",
         "stats": {
          "unique_count": 5,
          "nan_count": 0,
          "min": "61.130001068115234",
          "max": "63.02000045776367",
          "histogram": [
           {
            "bin_start": 61.130001068115234,
            "bin_end": 61.319001007080075,
            "count": 2
           },
           {
            "bin_start": 61.319001007080075,
            "bin_end": 61.50800094604492,
            "count": 1
           },
           {
            "bin_start": 61.50800094604492,
            "bin_end": 61.697000885009764,
            "count": 0
           },
           {
            "bin_start": 61.697000885009764,
            "bin_end": 61.88600082397461,
            "count": 0
           },
           {
            "bin_start": 61.88600082397461,
            "bin_end": 62.07500076293945,
            "count": 1
           },
           {
            "bin_start": 62.07500076293945,
            "bin_end": 62.264000701904294,
            "count": 0
           },
           {
            "bin_start": 62.264000701904294,
            "bin_end": 62.45300064086914,
            "count": 0
           },
           {
            "bin_start": 62.45300064086914,
            "bin_end": 62.64200057983398,
            "count": 0
           },
           {
            "bin_start": 62.64200057983398,
            "bin_end": 62.83100051879883,
            "count": 0
           },
           {
            "bin_start": 62.83100051879883,
            "bin_end": 63.02000045776367,
            "count": 1
           }
          ]
         }
        },
        {
         "name": "daily_return",
         "dtype": "float64",
         "stats": {
          "unique_count": 4,
          "nan_count": 1,
          "min": "-0.01618534513415759",
          "max": "0.03024362177858575",
          "histogram": [
           {
            "bin_start": -0.01618534513415759,
            "bin_end": -0.011542448442883258,
            "count": 1
           },
           {
            "bin_start": -0.011542448442883258,
            "bin_end": -0.006899551751608923,
            "count": 1
           },
           {
            "bin_start": -0.006899551751608923,
            "bin_end": -0.002256655060334588,
            "count": 0
           },
           {
            "bin_start": -0.002256655060334588,
            "bin_end": 0.0023862416309397456,
            "count": 1
           },
           {
            "bin_start": 0.0023862416309397456,
            "bin_end": 0.007029138322214079,
            "count": 0
           },
           {
            "bin_start": 0.007029138322214079,
            "bin_end": 0.011672035013488416,
            "count": 0
           },
           {
            "bin_start": 0.011672035013488416,
            "bin_end": 0.016314931704762746,
            "count": 0
           },
           {
            "bin_start": 0.016314931704762746,
            "bin_end": 0.020957828396037083,
            "count": 0
           },
           {
            "bin_start": 0.020957828396037083,
            "bin_end": 0.02560072508731142,
            "count": 0
           },
           {
            "bin_start": 0.02560072508731142,
            "bin_end": 0.03024362177858575,
            "count": 1
           }
          ]
         }
        },
        {
         "name": "fast_close",
         "dtype": "float64",
         "stats": {
          "unique_count": 5,
          "nan_count": 0,
          "min": "61.130001068115234",
          "max": "62.221428462437224",
          "histogram": [
           {
            "bin_start": 61.130001068115234,
            "bin_end": 61.239143807547435,
            "count": 2
           },
           {
            "bin_start": 61.239143807547435,
            "bin_end": 61.34828654697963,
            "count": 0
           },
           {
            "bin_start": 61.34828654697963,
            "bin_end": 61.45742928641183,
            "count": 0
           },
           {
            "bin_start": 61.45742928641183,
            "bin_end": 61.56657202584403,
            "count": 0
           },
           {
            "bin_start": 61.56657202584403,
            "bin_end": 61.675714765276226,
            "count": 0
           },
           {
            "bin_start": 61.675714765276226,
            "bin_end": 61.78485750470843,
            "count": 1
           },
           {
            "bin_start": 61.78485750470843,
            "bin_end": 61.89400024414063,
            "count": 0
           },
           {
            "bin_start": 61.89400024414063,
            "bin_end": 62.00314298357283,
            "count": 0
           },
           {
            "bin_start": 62.00314298357283,
            "bin_end": 62.11228572300502,
            "count": 1
           },
           {
            "bin_start": 62.11228572300502,
            "bin_end": 62.221428462437224,
            "count": 1
           }
          ]
         }
        },
        {
         "name": "slow_close",
         "dtype": "float64",
         "stats": {
          "unique_count": 5,
          "nan_count": 0,
          "min": "61.130001068115234",
          "max": "61.86793560139834",
          "histogram": [
           {
            "bin_start": 61.130001068115234,
            "bin_end": 61.20379452144354,
            "count": 2
           },
           {
            "bin_start": 61.20379452144354,
            "bin_end": 61.277587974771855,
            "count": 0
           },
           {
            "bin_start": 61.277587974771855,
            "bin_end": 61.35138142810017,
            "count": 0
           },
           {
            "bin_start": 61.35138142810017,
            "bin_end": 61.425174881428475,
            "count": 0
           },
           {
            "bin_start": 61.425174881428475,
            "bin_end": 61.49896833475678,
            "count": 0
           },
           {
            "bin_start": 61.49896833475678,
            "bin_end": 61.572761788085096,
            "count": 0
           },
           {
            "bin_start": 61.572761788085096,
            "bin_end": 61.64655524141341,
            "count": 0
           },
           {
            "bin_start": 61.64655524141341,
            "bin_end": 61.720348694741716,
            "count": 0
           },
           {
            "bin_start": 61.720348694741716,
            "bin_end": 61.79414214807002,
            "count": 1
           },
           {
            "bin_start": 61.79414214807002,
            "bin_end": 61.86793560139834,
            "count": 2
           }
          ]
         }
        },
        {
         "name": "crossover_long",
         "dtype": "float64",
         "stats": {
          "unique_count": 2,
          "nan_count": 0,
          "min": "0.0",
          "max": "1.0",
          "histogram": [
           {
            "bin_start": 0,
            "bin_end": 0.1,
            "count": 2
           },
           {
            "bin_start": 0.1,
            "bin_end": 0.2,
            "count": 0
           },
           {
            "bin_start": 0.2,
            "bin_end": 0.30000000000000004,
            "count": 0
           },
           {
            "bin_start": 0.30000000000000004,
            "bin_end": 0.4,
            "count": 0
           },
           {
            "bin_start": 0.4,
            "bin_end": 0.5,
            "count": 0
           },
           {
            "bin_start": 0.5,
            "bin_end": 0.6000000000000001,
            "count": 0
           },
           {
            "bin_start": 0.6000000000000001,
            "bin_end": 0.7000000000000001,
            "count": 0
           },
           {
            "bin_start": 0.7000000000000001,
            "bin_end": 0.8,
            "count": 0
           },
           {
            "bin_start": 0.8,
            "bin_end": 0.9,
            "count": 0
           },
           {
            "bin_start": 0.9,
            "bin_end": 1,
            "count": 3
           }
          ]
         }
        },
        {
         "name": "crossover_short",
         "dtype": "float64",
         "stats": {
          "unique_count": 2,
          "nan_count": 0,
          "min": "-1.0",
          "max": "0.0",
          "histogram": [
           {
            "bin_start": -1,
            "bin_end": -0.9,
            "count": 1
           },
           {
            "bin_start": -0.9,
            "bin_end": -0.8,
            "count": 0
           },
           {
            "bin_start": -0.8,
            "bin_end": -0.7,
            "count": 0
           },
           {
            "bin_start": -0.7,
            "bin_end": -0.6,
            "count": 0
           },
           {
            "bin_start": -0.6,
            "bin_end": -0.5,
            "count": 0
           },
           {
            "bin_start": -0.5,
            "bin_end": -0.3999999999999999,
            "count": 0
           },
           {
            "bin_start": -0.3999999999999999,
            "bin_end": -0.29999999999999993,
            "count": 0
           },
           {
            "bin_start": -0.29999999999999993,
            "bin_end": -0.19999999999999996,
            "count": 0
           },
           {
            "bin_start": -0.19999999999999996,
            "bin_end": -0.09999999999999998,
            "count": 0
           },
           {
            "bin_start": -0.09999999999999998,
            "bin_end": 0,
            "count": 4
           }
          ]
         }
        },
        {
         "name": "crossover_signal",
         "dtype": "float64",
         "stats": {
          "unique_count": 3,
          "nan_count": 0,
          "min": "-1.0",
          "max": "1.0",
          "histogram": [
           {
            "bin_start": -1,
            "bin_end": -0.8,
            "count": 1
           },
           {
            "bin_start": -0.8,
            "bin_end": -0.6,
            "count": 0
           },
           {
            "bin_start": -0.6,
            "bin_end": -0.3999999999999999,
            "count": 0
           },
           {
            "bin_start": -0.3999999999999999,
            "bin_end": -0.19999999999999996,
            "count": 0
           },
           {
            "bin_start": -0.19999999999999996,
            "bin_end": 0,
            "count": 0
           },
           {
            "bin_start": 0,
            "bin_end": 0.20000000000000018,
            "count": 1
           },
           {
            "bin_start": 0.20000000000000018,
            "bin_end": 0.40000000000000013,
            "count": 0
           },
           {
            "bin_start": 0.40000000000000013,
            "bin_end": 0.6000000000000001,
            "count": 0
           },
           {
            "bin_start": 0.6000000000000001,
            "bin_end": 0.8,
            "count": 0
           },
           {
            "bin_start": 0.8,
            "bin_end": 1,
            "count": 3
           }
          ]
         }
        },
        {
         "name": "_deepnote_index_column",
         "dtype": "datetime64[ns]"
        }
       ],
       "rows_top": [
        {
         "Close": 61.130001068115234,
         "daily_return": "nan",
         "fast_close": 61.130001068115234,
         "slow_close": 61.130001068115234,
         "crossover_long": 0,
         "crossover_short": 0,
         "crossover_signal": 0,
         "_deepnote_index_column": "2019-09-03T00:00:00.000000"
        },
        {
         "Close": 61.16999816894531,
         "daily_return": 0.0006542957652742043,
         "fast_close": 61.15666580200195,
         "slow_close": 61.15069243810488,
         "crossover_long": 1,
         "crossover_short": 0,
         "crossover_signal": 1,
         "_deepnote_index_column": "2019-09-04T00:00:00.000000"
        },
        {
         "Close": 63.02000045776367,
         "daily_return": 0.03024362177858575,
         "fast_close": 62.221428462437224,
         "slow_close": 61.81744910260179,
         "crossover_long": 1,
         "crossover_short": 0,
         "crossover_signal": 1,
         "_deepnote_index_column": "2019-09-05T00:00:00.000000"
        },
        {
         "Close": 62,
         "daily_return": -0.01618534513415759,
         "fast_close": 62.1033332824707,
         "slow_close": 61.86793560139834,
         "crossover_long": 1,
         "crossover_short": 0,
         "crossover_signal": 1,
         "_deepnote_index_column": "2019-09-06T00:00:00.000000"
        },
        {
         "Close": 61.470001220703125,
         "daily_return": -0.008548367408014124,
         "fast_close": 61.7764522183326,
         "slow_close": 61.77695201650084,
         "crossover_long": 0,
         "crossover_short": -1,
         "crossover_signal": -1,
         "_deepnote_index_column": "2019-09-09T00:00:00.000000"
        }
       ],
       "rows_bottom": null
      },
      "text/plain": "                Close  daily_return  fast_close  slow_close  crossover_long  \\\nDate                                                                          \n2019-09-03  61.130001           NaN   61.130001   61.130001             0.0   \n2019-09-04  61.169998      0.000654   61.156666   61.150692             1.0   \n2019-09-05  63.020000      0.030244   62.221428   61.817449             1.0   \n2019-09-06  62.000000     -0.016185   62.103333   61.867936             1.0   \n2019-09-09  61.470001     -0.008548   61.776452   61.776952             0.0   \n\n            crossover_short  crossover_signal  \nDate                                           \n2019-09-03              0.0               0.0  \n2019-09-04              0.0               1.0  \n2019-09-05              0.0               1.0  \n2019-09-06              0.0               1.0  \n2019-09-09             -1.0              -1.0  ",
      "text/html": "<div>\n<style scoped>\n    .dataframe tbody tr th:only-of-type {\n        vertical-align: middle;\n    }\n\n    .dataframe tbody tr th {\n        vertical-align: top;\n    }\n\n    .dataframe thead th {\n        text-align: right;\n    }\n</style>\n<table border=\"1\" class=\"dataframe\">\n  <thead>\n    <tr style=\"text-align: right;\">\n      <th></th>\n      <th>Close</th>\n      <th>daily_return</th>\n      <th>fast_close</th>\n      <th>slow_close</th>\n      <th>crossover_long</th>\n      <th>crossover_short</th>\n      <th>crossover_signal</th>\n    </tr>\n    <tr>\n      <th>Date</th>\n      <th></th>\n      <th></th>\n      <th></th>\n      <th></th>\n      <th></th>\n      <th></th>\n      <th></th>\n    </tr>\n  </thead>\n  <tbody>\n    <tr>\n      <th>2019-09-03</th>\n      <td>61.130001</td>\n      <td>NaN</td>\n      <td>61.130001</td>\n      <td>61.130001</td>\n      <td>0.0</td>\n      <td>0.0</td>\n      <td>0.0</td>\n    </tr>\n    <tr>\n      <th>2019-09-04</th>\n      <td>61.169998</td>\n      <td>0.000654</td>\n      <td>61.156666</td>\n      <td>61.150692</td>\n      <td>1.0</td>\n      <td>0.0</td>\n      <td>1.0</td>\n    </tr>\n    <tr>\n      <th>2019-09-05</th>\n      <td>63.020000</td>\n      <td>0.030244</td>\n      <td>62.221428</td>\n      <td>61.817449</td>\n      <td>1.0</td>\n      <td>0.0</td>\n      <td>1.0</td>\n    </tr>\n    <tr>\n      <th>2019-09-06</th>\n      <td>62.000000</td>\n      <td>-0.016185</td>\n      <td>62.103333</td>\n      <td>61.867936</td>\n      <td>1.0</td>\n      <td>0.0</td>\n      <td>1.0</td>\n    </tr>\n    <tr>\n      <th>2019-09-09</th>\n      <td>61.470001</td>\n      <td>-0.008548</td>\n      <td>61.776452</td>\n      <td>61.776952</td>\n      <td>0.0</td>\n      <td>-1.0</td>\n      <td>-1.0</td>\n    </tr>\n  </tbody>\n</table>\n</div>"
     },
     "metadata": {}
    }
   ],
   "execution_count": null
  },
  {
   "cell_type": "code",
   "metadata": {
    "tags": [],
    "cell_id": "00004-706ca357-1bf0-46d0-a57d-4f77d470dcc8",
    "deepnote_to_be_reexecuted": false,
    "source_hash": "8b1d31d6",
    "execution_start": 1629328350530,
    "execution_millis": 468,
    "deepnote_cell_type": "code"
   },
   "source": "# Plot the EMA of XRP/USD closing prices\nsq[['Close', 'fast_close', 'slow_close']].plot(figsize=(20,10))",
   "outputs": [
    {
     "output_type": "execute_result",
     "execution_count": 5,
     "data": {
      "text/plain": "<AxesSubplot:xlabel='Date'>"
     },
     "metadata": {}
    },
    {
     "data": {
      "text/plain": "<Figure size 1440x720 with 1 Axes>",
      "image/png": "[encoded data removed]"
     },
     "metadata": {
      "image/png": {
       "width": 1297,
       "height": 570
      }
     },
     "output_type": "display_data"
    }
   ],
   "execution_count": null
  },
  {
   "cell_type": "code",
   "metadata": {
    "tags": [],
    "cell_id": "00005-4fa3b4d2-ca6f-45cd-838b-8c804cfc32d3",
    "deepnote_to_be_reexecuted": false,
    "source_hash": "3738b8a6",
    "execution_start": 1629328351007,
    "execution_millis": 161,
    "deepnote_cell_type": "code"
   },
   "source": "# Set short and long volatility windows\nshort_vol_window = 1\nlong_vol_window = 10\n\n# Construct a `Fast` and `Slow` Exponential Moving Average from short and long windows, respectively\nsq['fast_vol'] = sq['daily_return'].ewm(halflife=short_vol_window).std()\nsq['slow_vol'] = sq['daily_return'].ewm(halflife=long_vol_window).std()\n\n# Construct a crossover trading signal\nsq['vol_trend_long'] = np.where(sq['fast_vol'] < sq['slow_vol'], 1.0, 0.0)\nsq['vol_trend_short'] = np.where(sq['fast_vol'] > sq['slow_vol'], -1.0, 0.0) \nsq['vol_trend_signal'] = sq['vol_trend_long'] + sq['vol_trend_short']\n\nsq",
   "outputs": [
    {
     "output_type": "execute_result",
     "execution_count": 6,
     "data": {
      "application/vnd.deepnote.dataframe.v2+json": {
       "row_count": 489,
       "column_count": 12,
       "columns": [
        {
         "name": "Close",
         "dtype": "float64",
         "stats": {
          "unique_count": 478,
          "nan_count": 0,
          "min": "38.09000015258789",
          "max": "281.80999755859375",
          "histogram": [
           {
            "bin_start": 38.09000015258789,
            "bin_end": 62.46199989318848,
            "count": 76
           },
           {
            "bin_start": 62.46199989318848,
            "bin_end": 86.83399963378906,
            "count": 114
           },
           {
            "bin_start": 86.83399963378906,
            "bin_end": 111.20599937438965,
            "count": 19
           },
           {
            "bin_start": 111.20599937438965,
            "bin_end": 135.57799911499023,
            "count": 23
           },
           {
            "bin_start": 135.57799911499023,
            "bin_end": 159.94999885559082,
            "count": 39
           },
           {
            "bin_start": 159.94999885559082,
            "bin_end": 184.3219985961914,
            "count": 26
           },
           {
            "bin_start": 184.3219985961914,
            "bin_end": 208.693998336792,
            "count": 32
           },
           {
            "bin_start": 208.693998336792,
            "bin_end": 233.06599807739258,
            "count": 74
           },
           {
            "bin_start": 233.06599807739258,
            "bin_end": 257.43799781799316,
            "count": 59
           },
           {
            "bin_start": 257.43799781799316,
            "bin_end": 281.80999755859375,
            "count": 27
           }
          ]
         }
        },
        {
         "name": "daily_return",
         "dtype": "float64",
         "stats": {
          "unique_count": 488,
          "nan_count": 1,
          "min": "-0.2856153690367952",
          "max": "0.15746071772182946",
          "histogram": [
           {
            "bin_start": -0.2856153690367952,
            "bin_end": -0.2413077603609327,
            "count": 1
           },
           {
            "bin_start": -0.2413077603609327,
            "bin_end": -0.19700015168507026,
            "count": 0
           },
           {
            "bin_start": -0.19700015168507026,
            "bin_end": -0.15269254300920782,
            "count": 0
           },
           {
            "bin_start": -0.15269254300920782,
            "bin_end": -0.10838493433334534,
            "count": 2
           },
           {
            "bin_start": -0.10838493433334534,
            "bin_end": -0.06407732565748286,
            "count": 15
           },
           {
            "bin_start": -0.06407732565748286,
            "bin_end": -0.019769716981620444,
            "count": 88
           },
           {
            "bin_start": -0.019769716981620444,
            "bin_end": 0.02453789169424203,
            "count": 263
           },
           {
            "bin_start": 0.02453789169424203,
            "bin_end": 0.0688455003701045,
            "count": 101
           },
           {
            "bin_start": 0.0688455003701045,
            "bin_end": 0.11315310904596698,
            "count": 12
           },
           {
            "bin_start": 0.11315310904596698,
            "bin_end": 0.15746071772182946,
            "count": 6
           }
          ]
         }
        },
        {
         "name": "fast_close",
         "dtype": "float64",
         "stats": {
          "unique_count": 489,
          "nan_count": 0,
          "min": "39.90215108746801",
          "max": "277.12944452743716",
          "histogram": [
           {
            "bin_start": 39.90215108746801,
            "bin_end": 63.62488043146493,
            "count": 93
           },
           {
            "bin_start": 63.62488043146493,
            "bin_end": 87.34760977546185,
            "count": 96
           },
           {
            "bin_start": 87.34760977546185,
            "bin_end": 111.07033911945875,
            "count": 21
           },
           {
            "bin_start": 111.07033911945875,
            "bin_end": 134.79306846345565,
            "count": 23
           },
           {
            "bin_start": 134.79306846345565,
            "bin_end": 158.5157978074526,
            "count": 37
           },
           {
            "bin_start": 158.5157978074526,
            "bin_end": 182.2385271514495,
            "count": 26
           },
           {
            "bin_start": 182.2385271514495,
            "bin_end": 205.9612564954464,
            "count": 24
           },
           {
            "bin_start": 205.9612564954464,
            "bin_end": 229.68398583944332,
            "count": 72
           },
           {
            "bin_start": 229.68398583944332,
            "bin_end": 253.40671518344024,
            "count": 69
           },
           {
            "bin_start": 253.40671518344024,
            "bin_end": 277.12944452743716,
            "count": 28
           }
          ]
         }
        },
        {
         "name": "slow_close",
         "dtype": "float64",
         "stats": {
          "unique_count": 489,
          "nan_count": 0,
          "min": "55.4393371416012",
          "max": "256.3075086833585",
          "histogram": [
           {
            "bin_start": 55.4393371416012,
            "bin_end": 75.52615429577693,
            "count": 174
           },
           {
            "bin_start": 75.52615429577693,
            "bin_end": 95.61297144995265,
            "count": 37
           },
           {
            "bin_start": 95.61297144995265,
            "bin_end": 115.69978860412839,
            "count": 17
           },
           {
            "bin_start": 115.69978860412839,
            "bin_end": 135.78660575830412,
            "count": 17
           },
           {
            "bin_start": 135.78660575830412,
            "bin_end": 155.87342291247984,
            "count": 31
           },
           {
            "bin_start": 155.87342291247984,
            "bin_end": 175.96024006665556,
            "count": 32
           },
           {
            "bin_start": 175.96024006665556,
            "bin_end": 196.04705722083133,
            "count": 14
           },
           {
            "bin_start": 196.04705722083133,
            "bin_end": 216.13387437500705,
            "count": 17
           },
           {
            "bin_start": 216.13387437500705,
            "bin_end": 236.22069152918277,
            "count": 89
           },
           {
            "bin_start": 236.22069152918277,
            "bin_end": 256.3075086833585,
            "count": 61
           }
          ]
         }
        },
        {
         "name": "crossover_long",
         "dtype": "float64",
         "stats": {
          "unique_count": 2,
          "nan_count": 0,
          "min": "0.0",
          "max": "1.0",
          "histogram": [
           {
            "bin_start": 0,
            "bin_end": 0.1,
            "count": 123
           },
           {
            "bin_start": 0.1,
            "bin_end": 0.2,
            "count": 0
           },
           {
            "bin_start": 0.2,
            "bin_end": 0.30000000000000004,
            "count": 0
           },
           {
            "bin_start": 0.30000000000000004,
            "bin_end": 0.4,
            "count": 0
           },
           {
            "bin_start": 0.4,
            "bin_end": 0.5,
            "count": 0
           },
           {
            "bin_start": 0.5,
            "bin_end": 0.6000000000000001,
            "count": 0
           },
           {
            "bin_start": 0.6000000000000001,
            "bin_end": 0.7000000000000001,
            "count": 0
           },
           {
            "bin_start": 0.7000000000000001,
            "bin_end": 0.8,
            "count": 0
           },
           {
            "bin_start": 0.8,
            "bin_end": 0.9,
            "count": 0
           },
           {
            "bin_start": 0.9,
            "bin_end": 1,
            "count": 366
           }
          ]
         }
        },
        {
         "name": "crossover_short",
         "dtype": "float64",
         "stats": {
          "unique_count": 2,
          "nan_count": 0,
          "min": "-1.0",
          "max": "0.0",
          "histogram": [
           {
            "bin_start": -1,
            "bin_end": -0.9,
            "count": 122
           },
           {
            "bin_start": -0.9,
            "bin_end": -0.8,
            "count": 0
           },
           {
            "bin_start": -0.8,
            "bin_end": -0.7,
            "count": 0
           },
           {
            "bin_start": -0.7,
            "bin_end": -0.6,
            "count": 0
           },
           {
            "bin_start": -0.6,
            "bin_end": -0.5,
            "count": 0
           },
           {
            "bin_start": -0.5,
            "bin_end": -0.3999999999999999,
            "count": 0
           },
           {
            "bin_start": -0.3999999999999999,
            "bin_end": -0.29999999999999993,
            "count": 0
           },
           {
            "bin_start": -0.29999999999999993,
            "bin_end": -0.19999999999999996,
            "count": 0
           },
           {
            "bin_start": -0.19999999999999996,
            "bin_end": -0.09999999999999998,
            "count": 0
           },
           {
            "bin_start": -0.09999999999999998,
            "bin_end": 0,
            "count": 367
           }
          ]
         }
        },
        {
         "name": "crossover_signal",
         "dtype": "float64",
         "stats": {
          "unique_count": 3,
          "nan_count": 0,
          "min": "-1.0",
          "max": "1.0",
          "histogram": [
           {
            "bin_start": -1,
            "bin_end": -0.8,
            "count": 122
           },
           {
            "bin_start": -0.8,
            "bin_end": -0.6,
            "count": 0
           },
           {
            "bin_start": -0.6,
            "bin_end": -0.3999999999999999,
            "count": 0
           },
           {
            "bin_start": -0.3999999999999999,
            "bin_end": -0.19999999999999996,
            "count": 0
           },
           {
            "bin_start": -0.19999999999999996,
            "bin_end": 0,
            "count": 0
           },
           {
            "bin_start": 0,
            "bin_end": 0.20000000000000018,
            "count": 1
           },
           {
            "bin_start": 0.20000000000000018,
            "bin_end": 0.40000000000000013,
            "count": 0
           },
           {
            "bin_start": 0.40000000000000013,
            "bin_end": 0.6000000000000001,
            "count": 0
           },
           {
            "bin_start": 0.6000000000000001,
            "bin_end": 0.8,
            "count": 0
           },
           {
            "bin_start": 0.8,
            "bin_end": 1,
            "count": 366
           }
          ]
         }
        },
        {
         "name": "fast_vol",
         "dtype": "float64",
         "stats": {
          "unique_count": 487,
          "nan_count": 2,
          "min": "0.002775073473416144",
          "max": "0.19444274298874448",
          "histogram": [
           {
            "bin_start": 0.002775073473416144,
            "bin_end": 0.021941840424948976,
            "count": 162
           },
           {
            "bin_start": 0.021941840424948976,
            "bin_end": 0.04110860737648181,
            "count": 211
           },
           {
            "bin_start": 0.04110860737648181,
            "bin_end": 0.06027537432801464,
            "count": 76
           },
           {
            "bin_start": 0.06027537432801464,
            "bin_end": 0.07944214127954748,
            "count": 21
           },
           {
            "bin_start": 0.07944214127954748,
            "bin_end": 0.0986089082310803,
            "count": 8
           },
           {
            "bin_start": 0.0986089082310803,
            "bin_end": 0.11777567518261314,
            "count": 5
           },
           {
            "bin_start": 0.11777567518261314,
            "bin_end": 0.136942442134146,
            "count": 1
           },
           {
            "bin_start": 0.136942442134146,
            "bin_end": 0.15610920908567882,
            "count": 1
           },
           {
            "bin_start": 0.15610920908567882,
            "bin_end": 0.17527597603721165,
            "count": 0
           },
           {
            "bin_start": 0.17527597603721165,
            "bin_end": 0.19444274298874448,
            "count": 2
           }
          ]
         }
        },
        {
         "name": "slow_vol",
         "dtype": "float64",
         "stats": {
          "unique_count": 487,
          "nan_count": 2,
          "min": "0.015488805855425869",
          "max": "0.09695822483925493",
          "histogram": [
           {
            "bin_start": 0.015488805855425869,
            "bin_end": 0.023635747753808774,
            "count": 106
           },
           {
            "bin_start": 0.023635747753808774,
            "bin_end": 0.03178268965219168,
            "count": 110
           },
           {
            "bin_start": 0.03178268965219168,
            "bin_end": 0.039929631550574586,
            "count": 158
           },
           {
            "bin_start": 0.039929631550574586,
            "bin_end": 0.048076573448957494,
            "count": 48
           },
           {
            "bin_start": 0.048076573448957494,
            "bin_end": 0.0562235153473404,
            "count": 26
           },
           {
            "bin_start": 0.0562235153473404,
            "bin_end": 0.0643704572457233,
            "count": 7
           },
           {
            "bin_start": 0.0643704572457233,
            "bin_end": 0.07251739914410621,
            "count": 4
           },
           {
            "bin_start": 0.07251739914410621,
            "bin_end": 0.08066434104248911,
            "count": 5
           },
           {
            "bin_start": 0.08066434104248911,
            "bin_end": 0.08881128294087201,
            "count": 12
           },
           {
            "bin_start": 0.08881128294087201,
            "bin_end": 0.09695822483925493,
            "count": 11
           }
          ]
         }
        },
        {
         "name": "vol_trend_long",
         "dtype": "float64",
         "stats": {
          "unique_count": 2,
          "nan_count": 0,
          "min": "0.0",
          "max": "1.0",
          "histogram": [
           {
            "bin_start": 0,
            "bin_end": 0.1,
            "count": 166
           },
           {
            "bin_start": 0.1,
            "bin_end": 0.2,
            "count": 0
           },
           {
            "bin_start": 0.2,
            "bin_end": 0.30000000000000004,
            "count": 0
           },
           {
            "bin_start": 0.30000000000000004,
            "bin_end": 0.4,
            "count": 0
           },
           {
            "bin_start": 0.4,
            "bin_end": 0.5,
            "count": 0
           },
           {
            "bin_start": 0.5,
            "bin_end": 0.6000000000000001,
            "count": 0
           },
           {
            "bin_start": 0.6000000000000001,
            "bin_end": 0.7000000000000001,
            "count": 0
           },
           {
            "bin_start": 0.7000000000000001,
            "bin_end": 0.8,
            "count": 0
           },
           {
            "bin_start": 0.8,
            "bin_end": 0.9,
            "count": 0
           },
           {
            "bin_start": 0.9,
            "bin_end": 1,
            "count": 323
           }
          ]
         }
        },
        {
         "name": "vol_trend_short",
         "dtype": "float64",
         "stats": {
          "unique_count": 2,
          "nan_count": 0,
          "min": "-1.0",
          "max": "0.0",
          "histogram": [
           {
            "bin_start": -1,
            "bin_end": -0.9,
            "count": 163
           },
           {
            "bin_start": -0.9,
            "bin_end": -0.8,
            "count": 0
           },
           {
            "bin_start": -0.8,
            "bin_end": -0.7,
            "count": 0
           },
           {
            "bin_start": -0.7,
            "bin_end": -0.6,
            "count": 0
           },
           {
            "bin_start": -0.6,
            "bin_end": -0.5,
            "count": 0
           },
           {
            "bin_start": -0.5,
            "bin_end": -0.3999999999999999,
            "count": 0
           },
           {
            "bin_start": -0.3999999999999999,
            "bin_end": -0.29999999999999993,
            "count": 0
           },
           {
            "bin_start": -0.29999999999999993,
            "bin_end": -0.19999999999999996,
            "count": 0
           },
           {
            "bin_start": -0.19999999999999996,
            "bin_end": -0.09999999999999998,
            "count": 0
           },
           {
            "bin_start": -0.09999999999999998,
            "bin_end": 0,
            "count": 326
           }
          ]
         }
        },
        {
         "name": "vol_trend_signal",
         "dtype": "float64",
         "stats": {
          "unique_count": 3,
          "nan_count": 0,
          "min": "-1.0",
          "max": "1.0",
          "histogram": [
           {
            "bin_start": -1,
            "bin_end": -0.8,
            "count": 163
           },
           {
            "bin_start": -0.8,
            "bin_end": -0.6,
            "count": 0
           },
           {
            "bin_start": -0.6,
            "bin_end": -0.3999999999999999,
            "count": 0
           },
           {
            "bin_start": -0.3999999999999999,
            "bin_end": -0.19999999999999996,
            "count": 0
           },
           {
            "bin_start": -0.19999999999999996,
            "bin_end": 0,
            "count": 0
           },
           {
            "bin_start": 0,
            "bin_end": 0.20000000000000018,
            "count": 3
           },
           {
            "bin_start": 0.20000000000000018,
            "bin_end": 0.40000000000000013,
            "count": 0
           },
           {
            "bin_start": 0.40000000000000013,
            "bin_end": 0.6000000000000001,
            "count": 0
           },
           {
            "bin_start": 0.6000000000000001,
            "bin_end": 0.8,
            "count": 0
           },
           {
            "bin_start": 0.8,
            "bin_end": 1,
            "count": 323
           }
          ]
         }
        },
        {
         "name": "_deepnote_index_column",
         "dtype": "datetime64[ns]"
        }
       ],
       "rows_top": [
        {
         "Close": 61.130001068115234,
         "daily_return": "nan",
         "fast_close": 61.130001068115234,
         "slow_close": 61.130001068115234,
         "crossover_long": 0,
         "crossover_short": 0,
         "crossover_signal": 0,
         "fast_vol": "nan",
         "slow_vol": "nan",
         "vol_trend_long": 0,
         "vol_trend_short": 0,
         "vol_trend_signal": 0,
         "_deepnote_index_column": "2019-09-03T00:00:00.000000"
        },
        {
         "Close": 61.16999816894531,
         "daily_return": 0.0006542957652742043,
         "fast_close": 61.15666580200195,
         "slow_close": 61.15069243810488,
         "crossover_long": 1,
         "crossover_short": 0,
         "crossover_signal": 1,
         "fast_vol": "nan",
         "slow_vol": "nan",
         "vol_trend_long": 0,
         "vol_trend_short": 0,
         "vol_trend_signal": 0,
         "_deepnote_index_column": "2019-09-04T00:00:00.000000"
        },
        {
         "Close": 63.02000045776367,
         "daily_return": 0.03024362177858575,
         "fast_close": 62.221428462437224,
         "slow_close": 61.81744910260179,
         "crossover_long": 1,
         "crossover_short": 0,
         "crossover_signal": 1,
         "fast_vol": 0.020922813074752106,
         "slow_vol": 0.020922813074752106,
         "vol_trend_long": 0,
         "vol_trend_short": 0,
         "vol_trend_signal": 0,
         "_deepnote_index_column": "2019-09-05T00:00:00.000000"
        },
        {
         "Close": 62,
         "daily_return": -0.01618534513415759,
         "fast_close": 62.1033332824707,
         "slow_close": 61.86793560139834,
         "crossover_long": 1,
         "crossover_short": 0,
         "crossover_signal": 1,
         "fast_vol": 0.026813204502238567,
         "slow_vol": 0.023823593475420887,
         "vol_trend_long": 0,
         "vol_trend_short": -1,
         "vol_trend_signal": -1,
         "_deepnote_index_column": "2019-09-06T00:00:00.000000"
        },
        {
         "Close": 61.470001220703125,
         "daily_return": -0.008548367408014124,
         "fast_close": 61.7764522183326,
         "slow_close": 61.77695201650084,
         "crossover_long": 0,
         "crossover_short": -1,
         "crossover_signal": -1,
         "fast_vol": 0.018274005502933927,
         "slow_vol": 0.02026322466527327,
         "vol_trend_long": 1,
         "vol_trend_short": 0,
         "vol_trend_signal": 1,
         "_deepnote_index_column": "2019-09-09T00:00:00.000000"
        },
        {
         "Close": 60.54999923706055,
         "daily_return": -0.014966682371444606,
         "fast_close": 61.15349197387695,
         "slow_close": 61.53546395671153,
         "crossover_long": 0,
         "crossover_short": -1,
         "crossover_signal": -1,
         "fast_vol": 0.01399486129370176,
         "slow_vol": 0.018777391847520208,
         "vol_trend_long": 1,
         "vol_trend_short": 0,
         "vol_trend_signal": 1,
         "_deepnote_index_column": "2019-09-10T00:00:00.000000"
        },
        {
         "Close": 59.20000076293945,
         "daily_return": -0.022295598532308558,
         "fast_close": 60.16905545812892,
         "slow_close": 61.12862817070072,
         "crossover_long": 0,
         "crossover_short": -1,
         "crossover_signal": -1,
         "fast_vol": 0.012325732523326846,
         "slow_vol": 0.01856726240574879,
         "vol_trend_long": 1,
         "vol_trend_short": 0,
         "vol_trend_signal": 1,
         "_deepnote_index_column": "2019-09-11T00:00:00.000000"
        },
        {
         "Close": 57.790000915527344,
         "daily_return": -0.023817564683120795,
         "fast_close": 58.974863373999504,
         "slow_close": 60.603366928777795,
         "crossover_long": 0,
         "crossover_short": -1,
         "crossover_signal": -1,
         "fast_vol": 0.00981301441312973,
         "slow_vol": 0.018079821562331164,
         "vol_trend_long": 1,
         "vol_trend_short": 0,
         "vol_trend_signal": 1,
         "_deepnote_index_column": "2019-09-12T00:00:00.000000"
        },
        {
         "Close": 58.290000915527344,
         "daily_return": 0.008652015782641298,
         "fast_close": 58.63176202494104,
         "slow_close": 60.269570823764234,
         "crossover_long": 0,
         "crossover_short": -1,
         "crossover_signal": -1,
         "fast_vol": 0.01893141806147976,
         "slow_vol": 0.017903333641489615,
         "vol_trend_long": 0,
         "vol_trend_short": -1,
         "vol_trend_signal": -1,
         "_deepnote_index_column": "2019-09-13T00:00:00.000000"
        },
        {
         "Close": 59.25,
         "daily_return": 0.016469361286575834,
         "fast_close": 58.94118318156879,
         "slow_close": 60.13301560779655,
         "crossover_long": 0,
         "crossover_short": -1,
         "crossover_signal": -1,
         "fast_vol": 0.019036740419496174,
         "slow_vol": 0.01857646267337399,
         "vol_trend_long": 0,
         "vol_trend_short": -1,
         "vol_trend_signal": -1,
         "_deepnote_index_column": "2019-09-16T00:00:00.000000"
        },
        {
         "Close": 59.599998474121094,
         "daily_return": 0.005907147242550037,
         "fast_close": 59.270751749997494,
         "slow_close": 60.06610714180137,
         "crossover_long": 0,
         "crossover_short": -1,
         "crossover_signal": -1,
         "fast_vol": 0.01345101681350913,
         "slow_vol": 0.01750543613856381,
         "vol_trend_long": 1,
         "vol_trend_short": 0,
         "vol_trend_signal": 1,
         "_deepnote_index_column": "2019-09-17T00:00:00.000000"
        },
        {
         "Close": 59.75,
         "daily_return": 0.0025168041899201743,
         "fast_close": 59.51043439126859,
         "slow_close": 60.02862206464366,
         "crossover_long": 0,
         "crossover_short": -1,
         "crossover_signal": -1,
         "fast_vol": 0.009700678897181191,
         "slow_vol": 0.016371227347699607,
         "vol_trend_long": 1,
         "vol_trend_short": 0,
         "vol_trend_signal": 1,
         "_deepnote_index_column": "2019-09-18T00:00:00.000000"
        },
        {
         "Close": 59.029998779296875,
         "daily_return": -0.01205022963519875,
         "fast_close": 59.27018725824013,
         "slow_close": 59.916014278618746,
         "crossover_long": 0,
         "crossover_short": -1,
         "crossover_signal": -1,
         "fast_vol": 0.012031838982495472,
         "slow_vol": 0.015716818313772682,
         "vol_trend_long": 1,
         "vol_trend_short": 0,
         "vol_trend_signal": 1,
         "_deepnote_index_column": "2019-09-19T00:00:00.000000"
        },
        {
         "Close": 57.849998474121094,
         "daily_return": -0.019989841259993923,
         "fast_close": 58.56004952281297,
         "slow_close": 59.693245980928104,
         "crossover_long": 0,
         "crossover_short": -1,
         "crossover_signal": -1,
         "fast_vol": 0.012980019505383678,
         "slow_vol": 0.015810133671487776,
         "vol_trend_long": 1,
         "vol_trend_short": 0,
         "vol_trend_signal": 1,
         "_deepnote_index_column": "2019-09-20T00:00:00.000000"
        },
        {
         "Close": 56.7599983215332,
         "daily_return": -0.018841835459606715,
         "fast_close": 57.65999645473327,
         "slow_close": 59.38938357686722,
         "crossover_long": 0,
         "crossover_short": -1,
         "crossover_signal": -1,
         "fast_vol": 0.010092310571236723,
         "slow_vol": 0.01557317143310705,
         "vol_trend_long": 1,
         "vol_trend_short": 0,
         "vol_trend_signal": 1,
         "_deepnote_index_column": "2019-09-23T00:00:00.000000"
        },
        {
         "Close": 57.5,
         "daily_return": 0.013037380203481552,
         "fast_close": 57.57999700667193,
         "slow_close": 59.20057292304617,
         "crossover_long": 0,
         "crossover_short": -1,
         "crossover_signal": -1,
         "fast_vol": 0.0188280823760239,
         "slow_vol": 0.01592579446405529,
         "vol_trend_long": 0,
         "vol_trend_short": -1,
         "vol_trend_signal": -1,
         "_deepnote_index_column": "2019-09-24T00:00:00.000000"
        },
        {
         "Close": 58.5099983215332,
         "daily_return": 0.017565188200577397,
         "fast_close": 58.045001211803104,
         "slow_close": 59.13376450529138,
         "crossover_long": 0,
         "crossover_short": -1,
         "crossover_signal": -1,
         "fast_vol": 0.017581994662576796,
         "slow_vol": 0.01653304051460714,
         "vol_trend_long": 0,
         "vol_trend_short": -1,
         "vol_trend_signal": -1,
         "_deepnote_index_column": "2019-09-25T00:00:00.000000"
        },
        {
         "Close": 60.79999923706055,
         "daily_return": 0.039138625554951734,
         "fast_close": 59.42250547919359,
         "slow_close": 59.29030038858469,
         "crossover_long": 1,
         "crossover_short": 0,
         "crossover_signal": 1,
         "fast_vol": 0.02266660912384212,
         "slow_vol": 0.020120651377749415,
         "vol_trend_long": 0,
         "vol_trend_short": -1,
         "vol_trend_signal": -1,
         "_deepnote_index_column": "2019-09-26T00:00:00.000000"
        },
        {
         "Close": 60.75,
         "daily_return": -0.0008223558830255939,
         "fast_close": 60.086254005596636,
         "slow_close": 59.42383065337908,
         "crossover_long": 1,
         "crossover_short": 0,
         "crossover_signal": 1,
         "fast_vol": 0.02194824918195563,
         "slow_vol": 0.019140386953807525,
         "vol_trend_long": 0,
         "vol_trend_short": -1,
         "vol_trend_signal": -1,
         "_deepnote_index_column": "2019-09-27T00:00:00.000000"
        },
        {
         "Close": 61.95000076293945,
         "daily_return": 0.01975309897842714,
         "fast_close": 61.018128272972604,
         "slow_close": 59.64939072685427,
         "crossover_long": 1,
         "crossover_short": 0,
         "crossover_signal": 1,
         "fast_vol": 0.016337012586194428,
         "slow_vol": 0.018997187494574793,
         "vol_trend_long": 1,
         "vol_trend_short": 0,
         "vol_trend_signal": 1,
         "_deepnote_index_column": "2019-09-30T00:00:00.000000"
        },
        {
         "Close": 61.630001068115234,
         "daily_return": -0.005165451023136258,
         "fast_close": 61.32406481642583,
         "slow_close": 59.822376675668856,
         "crossover_long": 1,
         "crossover_short": 0,
         "crossover_signal": 1,
         "fast_vol": 0.017174000184537363,
         "slow_vol": 0.018277877040440905,
         "vol_trend_long": 1,
         "vol_trend_short": 0,
         "vol_trend_signal": 1,
         "_deepnote_index_column": "2019-10-01T00:00:00.000000"
        },
        {
         "Close": 60.08000183105469,
         "daily_return": -0.02515007642702205,
         "fast_close": 60.702033175436355,
         "slow_close": 59.844428332115136,
         "crossover_long": 1,
         "crossover_short": 0,
         "crossover_signal": 1,
         "fast_vol": 0.022206748492927635,
         "slow_vol": 0.019210514673991357,
         "vol_trend_long": 0,
         "vol_trend_short": -1,
         "vol_trend_signal": -1,
         "_deepnote_index_column": "2019-10-02T00:00:00.000000"
        },
        {
         "Close": 62.04999923706055,
         "daily_return": 0.03278956967320856,
         "fast_close": 61.3760162865935,
         "slow_close": 60.029763564162764,
         "crossover_long": 1,
         "crossover_short": 0,
         "crossover_signal": 1,
         "fast_vol": 0.030531995567554662,
         "slow_vol": 0.020616227125858748,
         "vol_trend_long": 0,
         "vol_trend_short": -1,
         "vol_trend_signal": -1,
         "_deepnote_index_column": "2019-10-03T00:00:00.000000"
        },
        {
         "Close": 62.650001525878906,
         "daily_return": 0.009669658278738558,
         "fast_close": 62.013008944203925,
         "slow_close": 60.24624947142779,
         "crossover_long": 1,
         "crossover_short": 0,
         "crossover_signal": 1,
         "fast_vol": 0.021615665374558453,
         "slow_vol": 0.019807503868605116,
         "vol_trend_long": 0,
         "vol_trend_short": -1,
         "vol_trend_signal": -1,
         "_deepnote_index_column": "2019-10-04T00:00:00.000000"
        },
        {
         "Close": 62.25,
         "daily_return": -0.006384700975843982,
         "fast_close": 62.131504475633406,
         "slow_close": 60.409249204110736,
         "crossover_long": 1,
         "crossover_short": 0,
         "crossover_signal": 1,
         "fast_vol": 0.018467079259838152,
         "slow_vol": 0.019161562641422613,
         "vol_trend_long": 1,
         "vol_trend_short": 0,
         "vol_trend_signal": 1,
         "_deepnote_index_column": "2019-10-07T00:00:00.000000"
        },
        {
         "Close": 60.79999923706055,
         "daily_return": -0.023293184946818535,
         "fast_close": 61.465751846426485,
         "slow_close": 60.44058505232556,
         "crossover_long": 1,
         "crossover_short": 0,
         "crossover_signal": 1,
         "fast_vol": 0.020295179767248327,
         "slow_vol": 0.019745120274668793,
         "vol_trend_long": 0,
         "vol_trend_short": -1,
         "vol_trend_signal": -1,
         "_deepnote_index_column": "2019-10-08T00:00:00.000000"
        },
        {
         "Close": 62.220001220703125,
         "daily_return": 0.02335529607666542,
         "fast_close": 61.842876536374604,
         "slow_close": 60.58142088619054,
         "crossover_long": 1,
         "crossover_short": 0,
         "crossover_signal": 1,
         "fast_vol": 0.025268697634864095,
         "slow_vol": 0.019960095054101554,
         "vol_trend_long": 0,
         "vol_trend_short": -1,
         "vol_trend_signal": -1,
         "_deepnote_index_column": "2019-10-09T00:00:00.000000"
        },
        {
         "Close": 62.029998779296875,
         "daily_return": -0.0030537196669649935,
         "fast_close": 61.93643765818428,
         "slow_close": 60.69469212491698,
         "crossover_long": 1,
         "crossover_short": 0,
         "crossover_signal": 1,
         "fast_vol": 0.01877717774334491,
         "slow_vol": 0.01920224930643295,
         "vol_trend_long": 1,
         "vol_trend_short": 0,
         "vol_trend_signal": 1,
         "_deepnote_index_column": "2019-10-10T00:00:00.000000"
        },
        {
         "Close": 61.540000915527344,
         "daily_return": -0.007899369231215814,
         "fast_close": 61.738219286486604,
         "slow_close": 60.76005696323884,
         "crossover_long": 1,
         "crossover_short": 0,
         "crossover_signal": 1,
         "fast_vol": 0.014510663267594108,
         "slow_vol": 0.018625099248306635,
         "vol_trend_long": 1,
         "vol_trend_short": 0,
         "vol_trend_signal": 1,
         "_deepnote_index_column": "2019-10-11T00:00:00.000000"
        },
        {
         "Close": 61.83000183105469,
         "daily_return": 0.00471239699728665,
         "fast_close": 61.78411055881339,
         "slow_close": 60.841943828402464,
         "crossover_long": 1,
         "crossover_short": 0,
         "crossover_signal": 1,
         "fast_vol": 0.011326195683593922,
         "slow_vol": 0.01790796322596212,
         "vol_trend_long": 1,
         "vol_trend_short": 0,
         "vol_trend_signal": 1,
         "_deepnote_index_column": "2019-10-14T00:00:00.000000"
        },
        {
         "Close": 64.29000091552734,
         "daily_return": 0.039786495416810785,
         "fast_close": 63.03705573775381,
         "slow_close": 61.103335814931945,
         "crossover_long": 1,
         "crossover_short": 0,
         "crossover_signal": 1,
         "fast_vol": 0.0251838815936111,
         "slow_vol": 0.020112925946356323,
         "vol_trend_long": 0,
         "vol_trend_short": -1,
         "vol_trend_signal": -1,
         "_deepnote_index_column": "2019-10-15T00:00:00.000000"
        },
        {
         "Close": 63,
         "daily_return": -0.020065342932912955,
         "fast_close": 63.01852786887259,
         "slow_close": 61.245858939794175,
         "crossover_long": 1,
         "crossover_short": 0,
         "crossover_signal": 1,
         "fast_vol": 0.03046087288883936,
         "slow_vol": 0.020430761455025,
         "vol_trend_long": 0,
         "vol_trend_short": -1,
         "vol_trend_signal": -1,
         "_deepnote_index_column": "2019-10-16T00:00:00.000000"
        },
        {
         "Close": 63.400001525878906,
         "daily_return": 0.0063492305695065365,
         "fast_close": 63.209264697397956,
         "slow_close": 61.40641714828789,
         "crossover_long": 1,
         "crossover_short": 0,
         "crossover_signal": 1,
         "fast_vol": 0.021875012139435854,
         "slow_vol": 0.019667857655613723,
         "vol_trend_long": 0,
         "vol_trend_short": -1,
         "vol_trend_signal": -1,
         "_deepnote_index_column": "2019-10-17T00:00:00.000000"
        },
        {
         "Close": 60.45000076293945,
         "daily_return": -0.04652997936814418,
         "fast_close": 61.82963273008839,
         "slow_close": 61.33566642655167,
         "crossover_long": 1,
         "crossover_short": 0,
         "crossover_signal": 1,
         "fast_vol": 0.03417340070317405,
         "slow_vol": 0.023092533756605384,
         "vol_trend_long": 0,
         "vol_trend_short": -1,
         "vol_trend_signal": -1,
         "_deepnote_index_column": "2019-10-18T00:00:00.000000"
        },
        {
         "Close": 61.150001525878906,
         "daily_return": 0.011579830506281974,
         "fast_close": 61.48981712797376,
         "slow_close": 61.322027479591526,
         "crossover_long": 1,
         "crossover_short": 0,
         "crossover_signal": 1,
         "fast_vol": 0.03159081123394027,
         "slow_vol": 0.022462524956387817,
         "vol_trend_long": 0,
         "vol_trend_short": -1,
         "vol_trend_signal": -1,
         "_deepnote_index_column": "2019-10-21T00:00:00.000000"
        },
        {
         "Close": 58.83000183105469,
         "daily_return": -0.03793948711256179,
         "fast_close": 60.159909479494864,
         "slow_close": 61.140144200277184,
         "crossover_long": 0,
         "crossover_short": -1,
         "crossover_signal": -1,
         "fast_vol": 0.03008337083312781,
         "slow_vol": 0.023870743936465738,
         "vol_trend_long": 0,
         "vol_trend_short": -1,
         "vol_trend_signal": -1,
         "_deepnote_index_column": "2019-10-22T00:00:00.000000"
        },
        {
         "Close": 58.36000061035156,
         "daily_return": -0.007989141697680946,
         "fast_close": 59.259955044916666,
         "slow_close": 60.93844635229101,
         "crossover_long": 0,
         "crossover_short": -1,
         "crossover_signal": -1,
         "fast_vol": 0.022821658527244656,
         "slow_vol": 0.02301978472545933,
         "vol_trend_long": 1,
         "vol_trend_short": 0,
         "vol_trend_signal": 1,
         "_deepnote_index_column": "2019-10-23T00:00:00.000000"
        },
        {
         "Close": 61.720001220703125,
         "daily_return": 0.05757369045941352,
         "fast_close": 60.48997813281437,
         "slow_close": 60.99483294276069,
         "crossover_long": 0,
         "crossover_short": -1,
         "crossover_signal": -1,
         "fast_vol": 0.047130557388560174,
         "slow_vol": 0.027375685004920887,
         "vol_trend_long": 0,
         "vol_trend_short": -1,
         "vol_trend_signal": -1,
         "_deepnote_index_column": "2019-10-24T00:00:00.000000"
        },
        {
         "Close": 62.88999938964844,
         "daily_return": 0.01895654805257596,
         "fast_close": 61.689988761233586,
         "slow_close": 61.130858346361734,
         "crossover_long": 1,
         "crossover_short": 0,
         "crossover_signal": 1,
         "fast_vol": 0.03336040067487063,
         "slow_vol": 0.026773272105606268,
         "vol_trend_long": 0,
         "vol_trend_short": -1,
         "vol_trend_signal": -1,
         "_deepnote_index_column": "2019-10-25T00:00:00.000000"
        },
        {
         "Close": 62.79999923706055,
         "daily_return": -0.001431072562591007,
         "fast_close": 62.24499399914757,
         "slow_close": 61.25008754332567,
         "crossover_long": 1,
         "crossover_short": 0,
         "crossover_signal": 1,
         "fast_vol": 0.027050206640170677,
         "slow_vol": 0.025810908872063776,
         "vol_trend_long": 0,
         "vol_trend_short": -1,
         "vol_trend_signal": -1,
         "_deepnote_index_column": "2019-10-28T00:00:00.000000"
        },
        {
         "Close": 62.40999984741211,
         "daily_return": -0.00621018143927432,
         "fast_close": 62.327496923279874,
         "slow_close": 61.33257353487599,
         "crossover_long": 1,
         "crossover_short": 0,
         "crossover_signal": 1,
         "fast_vol": 0.02137707027103089,
         "slow_vol": 0.02496729223507038,
         "vol_trend_long": 1,
         "vol_trend_short": 0,
         "vol_trend_signal": 1,
         "_deepnote_index_column": "2019-10-29T00:00:00.000000"
        }
       ],
       "rows_bottom": [
        {
         "Close": 219.33999633789062,
         "daily_return": 0.010131698233518005,
         "fast_close": 217.10964067918678,
         "slow_close": 219.2629915323545,
         "crossover_long": 0,
         "crossover_short": -1,
         "crossover_signal": -1,
         "fast_vol": 0.020765475150445085,
         "slow_vol": 0.02843555004759151,
         "vol_trend_long": 1,
         "vol_trend_short": 0,
         "vol_trend_signal": 1,
         "_deepnote_index_column": "2021-06-11T00:00:00.000000"
        },
        {
         "Close": 230.9499969482422,
         "daily_return": 0.05293152550466207,
         "fast_close": 224.02981881371448,
         "slow_close": 220.04563532294966,
         "crossover_long": 1,
         "crossover_short": 0,
         "crossover_signal": 1,
         "fast_vol": 0.02983509264195225,
         "slow_vol": 0.03052847991660956,
         "vol_trend_long": 1,
         "vol_trend_short": 0,
         "vol_trend_signal": 1,
         "_deepnote_index_column": "2021-06-14T00:00:00.000000"
        },
        {
         "Close": 227.75,
         "daily_return": -0.013855799915681866,
         "fast_close": 225.88990940685724,
         "slow_close": 220.56157357748125,
         "crossover_long": 1,
         "crossover_short": 0,
         "crossover_signal": 1,
         "fast_vol": 0.03498848313302566,
         "slow_vol": 0.029838861165235,
         "vol_trend_long": 0,
         "vol_trend_short": -1,
         "vol_trend_signal": -1,
         "_deepnote_index_column": "2021-06-15T00:00:00.000000"
        },
        {
         "Close": 225.11000061035156,
         "daily_return": -0.011591654839290588,
         "fast_close": 225.4999550086044,
         "slow_close": 220.86616812908568,
         "crossover_long": 1,
         "crossover_short": 0,
         "crossover_signal": 1,
         "fast_vol": 0.027750677023037223,
         "slow_vol": 0.029056091918046874,
         "vol_trend_long": 1,
         "vol_trend_short": 0,
         "vol_trend_signal": 1,
         "_deepnote_index_column": "2021-06-16T00:00:00.000000"
        },
        {
         "Close": 236.1300048828125,
         "daily_return": 0.04895386363369858,
         "fast_close": 230.81497994570844,
         "slow_close": 221.88834161415332,
         "crossover_long": 1,
         "crossover_short": 0,
         "crossover_signal": 1,
         "fast_vol": 0.0365125042234321,
         "slow_vol": 0.030513180783539963,
         "vol_trend_long": 0,
         "vol_trend_short": -1,
         "vol_trend_signal": -1,
         "_deepnote_index_column": "2021-06-17T00:00:00.000000"
        },
        {
         "Close": 237.0500030517578,
         "daily_return": 0.0038961510605224348,
         "fast_close": 233.93249149873313,
         "slow_close": 222.90367272396148,
         "crossover_long": 1,
         "crossover_short": 0,
         "crossover_signal": 1,
         "fast_vol": 0.02855403941532724,
         "slow_vol": 0.02947524259179941,
         "vol_trend_long": 1,
         "vol_trend_short": 0,
         "vol_trend_signal": 1,
         "_deepnote_index_column": "2021-06-18T00:00:00.000000"
        },
        {
         "Close": 233.88999938964844,
         "daily_return": -0.013330536264196557,
         "fast_close": 233.9112454441908,
         "slow_close": 223.63939415476196,
         "crossover_long": 1,
         "crossover_short": 0,
         "crossover_signal": 1,
         "fast_vol": 0.026168692391020987,
         "slow_vol": 0.02884935278280166,
         "vol_trend_long": 1,
         "vol_trend_short": 0,
         "vol_trend_signal": 1,
         "_deepnote_index_column": "2021-06-21T00:00:00.000000"
        },
        {
         "Close": 235.97000122070312,
         "daily_return": 0.008893077243501635,
         "fast_close": 234.94062333244696,
         "slow_close": 224.46513802250314,
         "crossover_long": 1,
         "crossover_short": 0,
         "crossover_signal": 1,
         "fast_vol": 0.019244124002787615,
         "slow_vol": 0.02789741244335697,
         "vol_trend_long": 1,
         "vol_trend_short": 0,
         "vol_trend_signal": 1,
         "_deepnote_index_column": "2021-06-22T00:00:00.000000"
        },
        {
         "Close": 238.6999969482422,
         "daily_return": 0.011569249113940083,
         "fast_close": 236.8203101403446,
         "slow_close": 225.41840394065548,
         "crossover_long": 1,
         "crossover_short": 0,
         "crossover_signal": 1,
         "fast_vol": 0.014265334504343146,
         "slow_vol": 0.027014244038655343,
         "vol_trend_long": 1,
         "vol_trend_short": 0,
         "vol_trend_signal": 1,
         "_deepnote_index_column": "2021-06-23T00:00:00.000000"
        },
        {
         "Close": 244.14999389648438,
         "daily_return": 0.022831994209970174,
         "fast_close": 240.48515201841448,
         "slow_close": 226.67280248375656,
         "crossover_long": 1,
         "crossover_short": 0,
         "crossover_signal": 1,
         "fast_vol": 0.01354367398971696,
         "slow_vol": 0.0265035496707436,
         "vol_trend_long": 1,
         "vol_trend_short": 0,
         "vol_trend_signal": 1,
         "_deepnote_index_column": "2021-06-24T00:00:00.000000"
        },
        {
         "Close": 239.94000244140625,
         "daily_return": -0.017243463282096583,
         "fast_close": 240.21257722991038,
         "slow_close": 227.56126717560335,
         "crossover_long": 1,
         "crossover_short": 0,
         "crossover_signal": 1,
         "fast_vol": 0.022194705218393628,
         "slow_vol": 0.02626405540570036,
         "vol_trend_long": 1,
         "vol_trend_short": 0,
         "vol_trend_signal": 1,
         "_deepnote_index_column": "2021-06-25T00:00:00.000000"
        },
        {
         "Close": 246.60000610351562,
         "daily_return": 0.027756954214984475,
         "fast_close": 243.406291666713,
         "slow_close": 228.8362345665174,
         "crossover_long": 1,
         "crossover_short": 0,
         "crossover_signal": 1,
         "fast_vol": 0.023540629147737538,
         "slow_vol": 0.026063752279830186,
         "vol_trend_long": 1,
         "vol_trend_short": 0,
         "vol_trend_signal": 1,
         "_deepnote_index_column": "2021-06-28T00:00:00.000000"
        },
        {
         "Close": 248.8699951171875,
         "daily_return": 0.009205145813009352,
         "fast_close": 246.13814339195025,
         "slow_close": 230.1778355788637,
         "crossover_long": 1,
         "crossover_short": 0,
         "crossover_signal": 1,
         "fast_vol": 0.01684567052837362,
         "slow_vol": 0.025190474008475384,
         "vol_trend_long": 1,
         "vol_trend_short": 0,
         "vol_trend_signal": 1,
         "_deepnote_index_column": "2021-06-29T00:00:00.000000"
        },
        {
         "Close": 243.8000030517578,
         "daily_return": -0.020372050327088775,
         "fast_close": 244.96907322185405,
         "slow_close": 231.09007138330804,
         "crossover_long": 1,
         "crossover_short": 0,
         "crossover_signal": 1,
         "fast_vol": 0.02277025914346571,
         "slow_vol": 0.025244904609146798,
         "vol_trend_long": 1,
         "vol_trend_short": 0,
         "vol_trend_signal": 1,
         "_deepnote_index_column": "2021-06-30T00:00:00.000000"
        },
        {
         "Close": 241.85000610351562,
         "daily_return": -0.007998346693327218,
         "fast_close": 243.40953966268484,
         "slow_close": 231.8106320227796,
         "crossover_long": 1,
         "crossover_short": 0,
         "crossover_signal": 1,
         "fast_vol": 0.016240722956869215,
         "slow_vol": 0.0245847281329814,
         "vol_trend_long": 1,
         "vol_trend_short": 0,
         "vol_trend_signal": 1,
         "_deepnote_index_column": "2021-07-01T00:00:00.000000"
        },
        {
         "Close": 241.0800018310547,
         "daily_return": -0.003183809191765641,
         "fast_close": 242.24477074686976,
         "slow_close": 232.43137398917884,
         "crossover_long": 1,
         "crossover_short": 0,
         "crossover_signal": 1,
         "fast_vol": 0.011637670179966184,
         "slow_vol": 0.02380757682491639,
         "vol_trend_long": 1,
         "vol_trend_short": 0,
         "vol_trend_signal": 1,
         "_deepnote_index_column": "2021-07-02T00:00:00.000000"
        },
        {
         "Close": 246.6999969482422,
         "daily_return": 0.023311743298914944,
         "fast_close": 244.472383847556,
         "slow_close": 233.38690098363656,
         "crossover_long": 1,
         "crossover_short": 0,
         "crossover_signal": 1,
         "fast_vol": 0.019038199591057393,
         "slow_vol": 0.023568579431944302,
         "vol_trend_long": 1,
         "vol_trend_short": 0,
         "vol_trend_signal": 1,
         "_deepnote_index_column": "2021-07-06T00:00:00.000000"
        },
        {
         "Close": 244.63999938964844,
         "daily_return": -0.008350213149884822,
         "fast_close": 244.5561916186022,
         "slow_close": 234.1404873198291,
         "crossover_long": 1,
         "crossover_short": 0,
         "crossover_signal": 1,
         "fast_vol": 0.017261926872530798,
         "slow_vol": 0.022995135538465838,
         "vol_trend_long": 1,
         "vol_trend_short": 0,
         "vol_trend_signal": 1,
         "_deepnote_index_column": "2021-07-07T00:00:00.000000"
        },
        {
         "Close": 235.89999389648438,
         "daily_return": -0.0357259872260034,
         "fast_close": 240.2280927575433,
         "slow_close": 234.25831621163903,
         "crossover_long": 1,
         "crossover_short": 0,
         "crossover_signal": 1,
         "fast_vol": 0.025305095449139905,
         "slow_vol": 0.024354022514396254,
         "vol_trend_long": 0,
         "vol_trend_short": -1,
         "vol_trend_signal": -1,
         "_deepnote_index_column": "2021-07-08T00:00:00.000000"
        },
        {
         "Close": 241.88999938964844,
         "daily_return": 0.02539213924605921,
         "fast_close": 241.05904607359588,
         "slow_close": 234.7693872036092,
         "crossover_long": 1,
         "crossover_short": 0,
         "crossover_signal": 1,
         "fast_vol": 0.03184597050790479,
         "slow_vol": 0.024335484151082665,
         "vol_trend_long": 0,
         "vol_trend_short": -1,
         "vol_trend_signal": -1,
         "_deepnote_index_column": "2021-07-09T00:00:00.000000"
        },
        {
         "Close": 243.35000610351562,
         "daily_return": 0.006035829168428375,
         "fast_close": 242.20452608855575,
         "slow_close": 235.34400558209867,
         "crossover_long": 1,
         "crossover_short": 0,
         "crossover_signal": 1,
         "fast_vol": 0.022557074379807855,
         "slow_vol": 0.023523319061851546,
         "vol_trend_long": 1,
         "vol_trend_short": 0,
         "vol_trend_signal": 1,
         "_deepnote_index_column": "2021-07-12T00:00:00.000000"
        },
        {
         "Close": 241.42999267578125,
         "daily_return": -0.007889925537612918,
         "fast_close": 241.81725938216852,
         "slow_close": 235.7515659313082,
         "crossover_long": 1,
         "crossover_short": 0,
         "crossover_signal": 1,
         "fast_vol": 0.017785481202071914,
         "slow_vol": 0.022883507772536917,
         "vol_trend_long": 1,
         "vol_trend_short": 0,
         "vol_trend_signal": 1,
         "_deepnote_index_column": "2021-07-13T00:00:00.000000"
        },
        {
         "Close": 239,
         "daily_return": -0.01006499916952952,
         "fast_close": 240.40862969108426,
         "slow_close": 235.96910384307841,
         "crossover_long": 1,
         "crossover_short": 0,
         "crossover_signal": 1,
         "fast_vol": 0.013634307293813673,
         "slow_vol": 0.02231830637583706,
         "vol_trend_long": 1,
         "vol_trend_short": 0,
         "vol_trend_signal": 1,
         "_deepnote_index_column": "2021-07-14T00:00:00.000000"
        },
        {
         "Close": 235.16000366210938,
         "daily_return": -0.016066930284061143,
         "fast_close": 237.7843166765968,
         "slow_close": 235.9149208244119,
         "crossover_long": 1,
         "crossover_short": 0,
         "crossover_signal": 1,
         "fast_vol": 0.011521477255023341,
         "slow_vol": 0.022003642505403872,
         "vol_trend_long": 1,
         "vol_trend_short": 0,
         "vol_trend_signal": 1,
         "_deepnote_index_column": "2021-07-15T00:00:00.000000"
        },
        {
         "Close": 237.52000427246094,
         "daily_return": 0.010035722799794478,
         "fast_close": 237.65216047452887,
         "slow_close": 236.02240846126153,
         "crossover_long": 1,
         "crossover_short": 0,
         "crossover_signal": 1,
         "fast_vol": 0.015198308963151148,
         "slow_vol": 0.02140418299855528,
         "vol_trend_long": 1,
         "vol_trend_short": 0,
         "vol_trend_signal": 1,
         "_deepnote_index_column": "2021-07-16T00:00:00.000000"
        },
        {
         "Close": 233.69000244140625,
         "daily_return": -0.016124965317284468,
         "fast_close": 235.67108145796755,
         "slow_close": 235.86621420759028,
         "crossover_long": 0,
         "crossover_short": -1,
         "crossover_signal": -1,
         "fast_vol": 0.014413505598532618,
         "slow_vol": 0.0211164558946832,
         "vol_trend_long": 1,
         "vol_trend_short": 0,
         "vol_trend_signal": 1,
         "_deepnote_index_column": "2021-07-19T00:00:00.000000"
        },
        {
         "Close": 246.47000122070312,
         "daily_return": 0.05468782851547638,
         "fast_close": 241.07054133933534,
         "slow_close": 236.5763181022393,
         "crossover_long": 1,
         "crossover_short": 0,
         "crossover_signal": 1,
         "fast_vol": 0.03988547392891959,
         "slow_vol": 0.02474420010332788,
         "vol_trend_long": 0,
         "vol_trend_short": -1,
         "vol_trend_signal": -1,
         "_deepnote_index_column": "2021-07-20T00:00:00.000000"
        },
        {
         "Close": 257.25,
         "daily_return": 0.04373756938331752,
         "fast_close": 249.16027066966768,
         "slow_close": 237.960772732852,
         "crossover_long": 1,
         "crossover_short": 0,
         "crossover_signal": 1,
         "fast_vol": 0.03087971656177509,
         "slow_vol": 0.026019999238620174,
         "vol_trend_long": 0,
         "vol_trend_short": -1,
         "vol_trend_signal": -1,
         "_deepnote_index_column": "2021-07-21T00:00:00.000000"
        },
        {
         "Close": 260.5899963378906,
         "daily_return": 0.012983464870323091,
         "fast_close": 254.87513350377915,
         "slow_close": 239.47618414152612,
         "crossover_long": 1,
         "crossover_short": 0,
         "crossover_signal": 1,
         "fast_vol": 0.02518266835293984,
         "slow_vol": 0.0251960113695084,
         "vol_trend_long": 1,
         "vol_trend_short": 0,
         "vol_trend_signal": 1,
         "_deepnote_index_column": "2021-07-22T00:00:00.000000"
        },
        {
         "Close": 264,
         "daily_return": 0.013085704401667897,
         "fast_close": 259.43756675188956,
         "slow_close": 241.11847072567033,
         "crossover_long": 1,
         "crossover_short": 0,
         "crossover_signal": 1,
         "fast_vol": 0.018858656977749418,
         "slow_vol": 0.024395576724874492,
         "vol_trend_long": 1,
         "vol_trend_short": 0,
         "vol_trend_signal": 1,
         "_deepnote_index_column": "2021-07-23T00:00:00.000000"
        },
        {
         "Close": 261.989990234375,
         "daily_return": -0.007613673354640138,
         "fast_close": 260.7137784931323,
         "slow_close": 242.51617394924946,
         "crossover_long": 1,
         "crossover_short": 0,
         "crossover_signal": 1,
         "fast_vol": 0.020660534897760822,
         "slow_vol": 0.02385324383983956,
         "vol_trend_long": 1,
         "vol_trend_short": 0,
         "vol_trend_signal": 1,
         "_deepnote_index_column": "2021-07-26T00:00:00.000000"
        },
        {
         "Close": 251.72999572753906,
         "daily_return": -0.0391617805613772,
         "fast_close": 256.2218871103357,
         "slow_close": 243.13319603025454,
         "crossover_long": 1,
         "crossover_short": 0,
         "crossover_signal": 1,
         "fast_vol": 0.030883496352589263,
         "slow_vol": 0.02574145577377397,
         "vol_trend_long": 0,
         "vol_trend_short": -1,
         "vol_trend_signal": -1,
         "_deepnote_index_column": "2021-07-27T00:00:00.000000"
        },
        {
         "Close": 258.6099853515625,
         "daily_return": 0.027330829622187913,
         "fast_close": 257.4159362309491,
         "slow_close": 244.16963031171764,
         "crossover_long": 1,
         "crossover_short": 0,
         "crossover_signal": 1,
         "fast_vol": 0.0348142831103296,
         "slow_vol": 0.025627614132610256,
         "vol_trend_long": 0,
         "vol_trend_short": -1,
         "vol_trend_signal": -1,
         "_deepnote_index_column": "2021-07-28T00:00:00.000000"
        },
        {
         "Close": 255.27999877929688,
         "daily_return": -0.012876481036641851,
         "fast_close": 256.347967505123,
         "slow_close": 244.91365845091522,
         "crossover_long": 1,
         "crossover_short": 0,
         "crossover_signal": 1,
         "fast_vol": 0.026989889318269643,
         "slow_vol": 0.025149300476064014,
         "vol_trend_long": 0,
         "vol_trend_short": -1,
         "vol_trend_signal": -1,
         "_deepnote_index_column": "2021-07-29T00:00:00.000000"
        },
        {
         "Close": 247.25999450683594,
         "daily_return": -0.031416500747458276,
         "fast_close": 251.80398100597947,
         "slow_close": 245.07078555742956,
         "crossover_long": 1,
         "crossover_short": 0,
         "crossover_signal": 1,
         "fast_vol": 0.025482595561655882,
         "slow_vol": 0.02585703985863652,
         "vol_trend_long": 1,
         "vol_trend_short": 0,
         "vol_trend_signal": 1,
         "_deepnote_index_column": "2021-07-30T00:00:00.000000"
        },
        {
         "Close": 272.3800048828125,
         "daily_return": 0.10159350859033567,
         "fast_close": 262.091992944396,
         "slow_close": 246.89960227911567,
         "crossover_long": 1,
         "crossover_short": 0,
         "crossover_signal": 1,
         "fast_vol": 0.07519939664806963,
         "slow_vol": 0.035747516367813814,
         "vol_trend_long": 0,
         "vol_trend_short": -1,
         "vol_trend_signal": -1,
         "_deepnote_index_column": "2021-08-02T00:00:00.000000"
        },
        {
         "Close": 269.489990234375,
         "daily_return": -0.010610230547873356,
         "fast_close": 265.7909915893855,
         "slow_close": 248.41241298050232,
         "crossover_long": 1,
         "crossover_short": 0,
         "crossover_signal": 1,
         "fast_vol": 0.06216678989971828,
         "slow_vol": 0.03484602481779782,
         "vol_trend_long": 0,
         "vol_trend_short": -1,
         "vol_trend_signal": -1,
         "_deepnote_index_column": "2021-08-03T00:00:00.000000"
        },
        {
         "Close": 266.4200134277344,
         "daily_return": -0.01139180273067164,
         "fast_close": 266.10550250855994,
         "slow_close": 249.61832811205392,
         "crossover_long": 1,
         "crossover_short": 0,
         "crossover_signal": 1,
         "fast_vol": 0.046981986141560045,
         "slow_vol": 0.03396771153623619,
         "vol_trend_long": 0,
         "vol_trend_short": -1,
         "vol_trend_signal": -1,
         "_deepnote_index_column": "2021-08-04T00:00:00.000000"
        },
        {
         "Close": 281.80999755859375,
         "daily_return": 0.0577658710126665,
         "fast_close": 273.9577500335769,
         "slow_close": 251.77410791232467,
         "crossover_long": 1,
         "crossover_short": 0,
         "crossover_signal": 1,
         "fast_vol": 0.04757832600145984,
         "slow_vol": 0.035415658857565105,
         "vol_trend_long": 0,
         "vol_trend_short": -1,
         "vol_trend_signal": -1,
         "_deepnote_index_column": "2021-08-05T00:00:00.000000"
        },
        {
         "Close": 275.1000061035156,
         "daily_return": -0.02381033857282866,
         "fast_close": 274.52887806854625,
         "slow_close": 253.3361735339057,
         "crossover_long": 1,
         "crossover_short": 0,
         "crossover_signal": 1,
         "fast_vol": 0.04707361228226158,
         "slow_vol": 0.035205320330411544,
         "vol_trend_long": 0,
         "vol_trend_short": -1,
         "vol_trend_signal": -1,
         "_deepnote_index_column": "2021-08-06T00:00:00.000000"
        },
        {
         "Close": 279.7300109863281,
         "daily_return": 0.016830260923623275,
         "fast_close": 277.12944452743716,
         "slow_close": 255.1036898699582,
         "crossover_long": 1,
         "crossover_short": 0,
         "crossover_signal": 1,
         "fast_vol": 0.03433562447557582,
         "slow_vol": 0.034103916325245565,
         "vol_trend_long": 0,
         "vol_trend_short": -1,
         "vol_trend_signal": -1,
         "_deepnote_index_column": "2021-08-09T00:00:00.000000"
        },
        {
         "Close": 273.0799865722656,
         "daily_return": -0.023773010234456105,
         "fast_close": 275.1047155498514,
         "slow_close": 256.3075086833585,
         "crossover_long": 1,
         "crossover_short": 0,
         "crossover_signal": 1,
         "fast_vol": 0.031874365885245004,
         "slow_vol": 0.03388127590294284,
         "vol_trend_long": 1,
         "vol_trend_short": 0,
         "vol_trend_signal": 1,
         "_deepnote_index_column": "2021-08-10T00:00:00.000000"
        }
       ]
      },
      "text/plain": "                 Close  daily_return  fast_close  slow_close  crossover_long  \\\nDate                                                                           \n2019-09-03   61.130001           NaN   61.130001   61.130001             0.0   \n2019-09-04   61.169998      0.000654   61.156666   61.150692             1.0   \n2019-09-05   63.020000      0.030244   62.221428   61.817449             1.0   \n2019-09-06   62.000000     -0.016185   62.103333   61.867936             1.0   \n2019-09-09   61.470001     -0.008548   61.776452   61.776952             0.0   \n...                ...           ...         ...         ...             ...   \n2021-08-04  266.420013     -0.011392  266.105503  249.618328             1.0   \n2021-08-05  281.809998      0.057766  273.957750  251.774108             1.0   \n2021-08-06  275.100006     -0.023810  274.528878  253.336174             1.0   \n2021-08-09  279.730011      0.016830  277.129445  255.103690             1.0   \n2021-08-10  273.079987     -0.023773  275.104716  256.307509             1.0   \n\n            crossover_short  crossover_signal  fast_vol  slow_vol  \\\nDate                                                                \n2019-09-03              0.0               0.0       NaN       NaN   \n2019-09-04              0.0               1.0       NaN       NaN   \n2019-09-05              0.0               1.0  0.020923  0.020923   \n2019-09-06              0.0               1.0  0.026813  0.023824   \n2019-09-09             -1.0              -1.0  0.018274  0.020263   \n...                     ...               ...       ...       ...   \n2021-08-04              0.0               1.0  0.046982  0.033968   \n2021-08-05              0.0               1.0  0.047578  0.035416   \n2021-08-06              0.0               1.0  0.047074  0.035205   \n2021-08-09              0.0               1.0  0.034336  0.034104   \n2021-08-10              0.0               1.0  0.031874  0.033881   \n\n            vol_trend_long  vol_trend_short  vol_trend_signal  \nDate                                                           \n2019-09-03             0.0              0.0               0.0  \n2019-09-04             0.0              0.0               0.0  \n2019-09-05             0.0              0.0               0.0  \n2019-09-06             0.0             -1.0              -1.0  \n2019-09-09             1.0              0.0               1.0  \n...                    ...              ...               ...  \n2021-08-04             0.0             -1.0              -1.0  \n2021-08-05             0.0             -1.0              -1.0  \n2021-08-06             0.0             -1.0              -1.0  \n2021-08-09             0.0             -1.0              -1.0  \n2021-08-10             1.0              0.0               1.0  \n\n[489 rows x 12 columns]",
      "text/html": "<div>\n<style scoped>\n    .dataframe tbody tr th:only-of-type {\n        vertical-align: middle;\n    }\n\n    .dataframe tbody tr th {\n        vertical-align: top;\n    }\n\n    .dataframe thead th {\n        text-align: right;\n    }\n</style>\n<table border=\"1\" class=\"dataframe\">\n  <thead>\n    <tr style=\"text-align: right;\">\n      <th></th>\n      <th>Close</th>\n      <th>daily_return</th>\n      <th>fast_close</th>\n      <th>slow_close</th>\n      <th>crossover_long</th>\n      <th>crossover_short</th>\n      <th>crossover_signal</th>\n      <th>fast_vol</th>\n      <th>slow_vol</th>\n      <th>vol_trend_long</th>\n      <th>vol_trend_short</th>\n      <th>vol_trend_signal</th>\n    </tr>\n    <tr>\n      <th>Date</th>\n      <th></th>\n      <th></th>\n      <th></th>\n      <th></th>\n      <th></th>\n      <th></th>\n      <th></th>\n      <th></th>\n      <th></th>\n      <th></th>\n      <th></th>\n      <th></th>\n    </tr>\n  </thead>\n  <tbody>\n    <tr>\n      <th>2019-09-03</th>\n      <td>61.130001</td>\n      <td>NaN</td>\n      <td>61.130001</td>\n      <td>61.130001</td>\n      <td>0.0</td>\n      <td>0.0</td>\n      <td>0.0</td>\n      <td>NaN</td>\n      <td>NaN</td>\n      <td>0.0</td>\n      <td>0.0</td>\n      <td>0.0</td>\n    </tr>\n    <tr>\n      <th>2019-09-04</th>\n      <td>61.169998</td>\n      <td>0.000654</td>\n      <td>61.156666</td>\n      <td>61.150692</td>\n      <td>1.0</td>\n      <td>0.0</td>\n      <td>1.0</td>\n      <td>NaN</td>\n      <td>NaN</td>\n      <td>0.0</td>\n      <td>0.0</td>\n      <td>0.0</td>\n    </tr>\n    <tr>\n      <th>2019-09-05</th>\n      <td>63.020000</td>\n      <td>0.030244</td>\n      <td>62.221428</td>\n      <td>61.817449</td>\n      <td>1.0</td>\n      <td>0.0</td>\n      <td>1.0</td>\n      <td>0.020923</td>\n      <td>0.020923</td>\n      <td>0.0</td>\n      <td>0.0</td>\n      <td>0.0</td>\n    </tr>\n    <tr>\n      <th>2019-09-06</th>\n      <td>62.000000</td>\n      <td>-0.016185</td>\n      <td>62.103333</td>\n      <td>61.867936</td>\n      <td>1.0</td>\n      <td>0.0</td>\n      <td>1.0</td>\n      <td>0.026813</td>\n      <td>0.023824</td>\n      <td>0.0</td>\n      <td>-1.0</td>\n      <td>-1.0</td>\n    </tr>\n    <tr>\n      <th>2019-09-09</th>\n      <td>61.470001</td>\n      <td>-0.008548</td>\n      <td>61.776452</td>\n      <td>61.776952</td>\n      <td>0.0</td>\n      <td>-1.0</td>\n      <td>-1.0</td>\n      <td>0.018274</td>\n      <td>0.020263</td>\n      <td>1.0</td>\n      <td>0.0</td>\n      <td>1.0</td>\n    </tr>\n    <tr>\n      <th>...</th>\n      <td>...</td>\n      <td>...</td>\n      <td>...</td>\n      <td>...</td>\n      <td>...</td>\n      <td>...</td>\n      <td>...</td>\n      <td>...</td>\n      <td>...</td>\n      <td>...</td>\n      <td>...</td>\n      <td>...</td>\n    </tr>\n    <tr>\n      <th>2021-08-04</th>\n      <td>266.420013</td>\n      <td>-0.011392</td>\n      <td>266.105503</td>\n      <td>249.618328</td>\n      <td>1.0</td>\n      <td>0.0</td>\n      <td>1.0</td>\n      <td>0.046982</td>\n      <td>0.033968</td>\n      <td>0.0</td>\n      <td>-1.0</td>\n      <td>-1.0</td>\n    </tr>\n    <tr>\n      <th>2021-08-05</th>\n      <td>281.809998</td>\n      <td>0.057766</td>\n      <td>273.957750</td>\n      <td>251.774108</td>\n      <td>1.0</td>\n      <td>0.0</td>\n      <td>1.0</td>\n      <td>0.047578</td>\n      <td>0.035416</td>\n      <td>0.0</td>\n      <td>-1.0</td>\n      <td>-1.0</td>\n    </tr>\n    <tr>\n      <th>2021-08-06</th>\n      <td>275.100006</td>\n      <td>-0.023810</td>\n      <td>274.528878</td>\n      <td>253.336174</td>\n      <td>1.0</td>\n      <td>0.0</td>\n      <td>1.0</td>\n      <td>0.047074</td>\n      <td>0.035205</td>\n      <td>0.0</td>\n      <td>-1.0</td>\n      <td>-1.0</td>\n    </tr>\n    <tr>\n      <th>2021-08-09</th>\n      <td>279.730011</td>\n      <td>0.016830</td>\n      <td>277.129445</td>\n      <td>255.103690</td>\n      <td>1.0</td>\n      <td>0.0</td>\n      <td>1.0</td>\n      <td>0.034336</td>\n      <td>0.034104</td>\n      <td>0.0</td>\n      <td>-1.0</td>\n      <td>-1.0</td>\n    </tr>\n    <tr>\n      <th>2021-08-10</th>\n      <td>273.079987</td>\n      <td>-0.023773</td>\n      <td>275.104716</td>\n      <td>256.307509</td>\n      <td>1.0</td>\n      <td>0.0</td>\n      <td>1.0</td>\n      <td>0.031874</td>\n      <td>0.033881</td>\n      <td>1.0</td>\n      <td>0.0</td>\n      <td>1.0</td>\n    </tr>\n  </tbody>\n</table>\n<p>489 rows × 12 columns</p>\n</div>"
     },
     "metadata": {}
    }
   ],
   "execution_count": null
  },
  {
   "cell_type": "code",
   "metadata": {
    "tags": [],
    "cell_id": "00006-9ac96a21-80a3-4803-aff0-a5f8d0f49688",
    "deepnote_to_be_reexecuted": false,
    "source_hash": "e9625a35",
    "execution_start": 1629328351166,
    "execution_millis": 472,
    "deepnote_cell_type": "code"
   },
   "source": "# Plot the EMA of SQ return volatility\nsq[['fast_vol', 'slow_vol']].plot(figsize=(20,10))",
   "outputs": [
    {
     "output_type": "execute_result",
     "execution_count": 7,
     "data": {
      "text/plain": "<AxesSubplot:xlabel='Date'>"
     },
     "metadata": {}
    },
    {
     "data": {
      "text/plain": "<Figure size 1440x720 with 1 Axes>",
      "image/png": "[encoded data removed]"
     },
     "metadata": {
      "image/png": {
       "width": 1310,
       "height": 570
      }
     },
     "output_type": "display_data"
    }
   ],
   "execution_count": null
  },
  {
   "cell_type": "code",
   "metadata": {
    "tags": [],
    "cell_id": "00007-67b99257-543a-4321-acf9-3cf6614decb6",
    "deepnote_to_be_reexecuted": false,
    "source_hash": "681d312",
    "execution_start": 1629328351665,
    "execution_millis": 132,
    "deepnote_cell_type": "code"
   },
   "source": "# Set bollinger band window\nbollinger_window = 20\n\n# Calculate rolling mean and standard deviation\nsq['bollinger_mid_band'] = sq['Close'].rolling(window=bollinger_window).mean()\nsq['bollinger_std'] = sq['Close'].rolling(window=20).std()\n\n# Calculate upper and lowers bands of bollinger band\nsq['bollinger_upper_band']  = sq['bollinger_mid_band'] + (sq['bollinger_std'] * 1)\nsq['bollinger_lower_band']  = sq['bollinger_mid_band'] - (sq['bollinger_std'] * 1)\n\n# Calculate bollinger band trading signal\nsq['bollinger_long'] = np.where(sq['Close'] < sq['bollinger_lower_band'], 1.0, 0.0)\nsq['bollinger_short'] = np.where(sq['Close'] > sq['bollinger_upper_band'], -1.0, 0.0)\nsq['bollinger_signal'] = sq['bollinger_long'] + sq['bollinger_short']\n\nsq",
   "outputs": [
    {
     "output_type": "execute_result",
     "execution_count": 8,
     "data": {
      "application/vnd.deepnote.dataframe.v2+json": {
       "row_count": 489,
       "column_count": 19,
       "columns": [
        {
         "name": "Close",
         "dtype": "float64",
         "stats": {
          "unique_count": 478,
          "nan_count": 0,
          "min": "38.09000015258789",
          "max": "281.80999755859375",
          "histogram": [
           {
            "bin_start": 38.09000015258789,
            "bin_end": 62.46199989318848,
            "count": 76
           },
           {
            "bin_start": 62.46199989318848,
            "bin_end": 86.83399963378906,
            "count": 114
           },
           {
            "bin_start": 86.83399963378906,
            "bin_end": 111.20599937438965,
            "count": 19
           },
           {
            "bin_start": 111.20599937438965,
            "bin_end": 135.57799911499023,
            "count": 23
           },
           {
            "bin_start": 135.57799911499023,
            "bin_end": 159.94999885559082,
            "count": 39
           },
           {
            "bin_start": 159.94999885559082,
            "bin_end": 184.3219985961914,
            "count": 26
           },
           {
            "bin_start": 184.3219985961914,
            "bin_end": 208.693998336792,
            "count": 32
           },
           {
            "bin_start": 208.693998336792,
            "bin_end": 233.06599807739258,
            "count": 74
           },
           {
            "bin_start": 233.06599807739258,
            "bin_end": 257.43799781799316,
            "count": 59
           },
           {
            "bin_start": 257.43799781799316,
            "bin_end": 281.80999755859375,
            "count": 27
           }
          ]
         }
        },
        {
         "name": "daily_return",
         "dtype": "float64",
         "stats": {
          "unique_count": 488,
          "nan_count": 1,
          "min": "-0.2856153690367952",
          "max": "0.15746071772182946",
          "histogram": [
           {
            "bin_start": -0.2856153690367952,
            "bin_end": -0.2413077603609327,
            "count": 1
           },
           {
            "bin_start": -0.2413077603609327,
            "bin_end": -0.19700015168507026,
            "count": 0
           },
           {
            "bin_start": -0.19700015168507026,
            "bin_end": -0.15269254300920782,
            "count": 0
           },
           {
            "bin_start": -0.15269254300920782,
            "bin_end": -0.10838493433334534,
            "count": 2
           },
           {
            "bin_start": -0.10838493433334534,
            "bin_end": -0.06407732565748286,
            "count": 15
           },
           {
            "bin_start": -0.06407732565748286,
            "bin_end": -0.019769716981620444,
            "count": 88
           },
           {
            "bin_start": -0.019769716981620444,
            "bin_end": 0.02453789169424203,
            "count": 263
           },
           {
            "bin_start": 0.02453789169424203,
            "bin_end": 0.0688455003701045,
            "count": 101
           },
           {
            "bin_start": 0.0688455003701045,
            "bin_end": 0.11315310904596698,
            "count": 12
           },
           {
            "bin_start": 0.11315310904596698,
            "bin_end": 0.15746071772182946,
            "count": 6
           }
          ]
         }
        },
        {
         "name": "fast_close",
         "dtype": "float64",
         "stats": {
          "unique_count": 489,
          "nan_count": 0,
          "min": "39.90215108746801",
          "max": "277.12944452743716",
          "histogram": [
           {
            "bin_start": 39.90215108746801,
            "bin_end": 63.62488043146493,
            "count": 93
           },
           {
            "bin_start": 63.62488043146493,
            "bin_end": 87.34760977546185,
            "count": 96
           },
           {
            "bin_start": 87.34760977546185,
            "bin_end": 111.07033911945875,
            "count": 21
           },
           {
            "bin_start": 111.07033911945875,
            "bin_end": 134.79306846345565,
            "count": 23
           },
           {
            "bin_start": 134.79306846345565,
            "bin_end": 158.5157978074526,
            "count": 37
           },
           {
            "bin_start": 158.5157978074526,
            "bin_end": 182.2385271514495,
            "count": 26
           },
           {
            "bin_start": 182.2385271514495,
            "bin_end": 205.9612564954464,
            "count": 24
           },
           {
            "bin_start": 205.9612564954464,
            "bin_end": 229.68398583944332,
            "count": 72
           },
           {
            "bin_start": 229.68398583944332,
            "bin_end": 253.40671518344024,
            "count": 69
           },
           {
            "bin_start": 253.40671518344024,
            "bin_end": 277.12944452743716,
            "count": 28
           }
          ]
         }
        },
        {
         "name": "slow_close",
         "dtype": "float64",
         "stats": {
          "unique_count": 489,
          "nan_count": 0,
          "min": "55.4393371416012",
          "max": "256.3075086833585",
          "histogram": [
           {
            "bin_start": 55.4393371416012,
            "bin_end": 75.52615429577693,
            "count": 174
           },
           {
            "bin_start": 75.52615429577693,
            "bin_end": 95.61297144995265,
            "count": 37
           },
           {
            "bin_start": 95.61297144995265,
            "bin_end": 115.69978860412839,
            "count": 17
           },
           {
            "bin_start": 115.69978860412839,
            "bin_end": 135.78660575830412,
            "count": 17
           },
           {
            "bin_start": 135.78660575830412,
            "bin_end": 155.87342291247984,
            "count": 31
           },
           {
            "bin_start": 155.87342291247984,
            "bin_end": 175.96024006665556,
            "count": 32
           },
           {
            "bin_start": 175.96024006665556,
            "bin_end": 196.04705722083133,
            "count": 14
           },
           {
            "bin_start": 196.04705722083133,
            "bin_end": 216.13387437500705,
            "count": 17
           },
           {
            "bin_start": 216.13387437500705,
            "bin_end": 236.22069152918277,
            "count": 89
           },
           {
            "bin_start": 236.22069152918277,
            "bin_end": 256.3075086833585,
            "count": 61
           }
          ]
         }
        },
        {
         "name": "crossover_long",
         "dtype": "float64",
         "stats": {
          "unique_count": 2,
          "nan_count": 0,
          "min": "0.0",
          "max": "1.0",
          "histogram": [
           {
            "bin_start": 0,
            "bin_end": 0.1,
            "count": 123
           },
           {
            "bin_start": 0.1,
            "bin_end": 0.2,
            "count": 0
           },
           {
            "bin_start": 0.2,
            "bin_end": 0.30000000000000004,
            "count": 0
           },
           {
            "bin_start": 0.30000000000000004,
            "bin_end": 0.4,
            "count": 0
           },
           {
            "bin_start": 0.4,
            "bin_end": 0.5,
            "count": 0
           },
           {
            "bin_start": 0.5,
            "bin_end": 0.6000000000000001,
            "count": 0
           },
           {
            "bin_start": 0.6000000000000001,
            "bin_end": 0.7000000000000001,
            "count": 0
           },
           {
            "bin_start": 0.7000000000000001,
            "bin_end": 0.8,
            "count": 0
           },
           {
            "bin_start": 0.8,
            "bin_end": 0.9,
            "count": 0
           },
           {
            "bin_start": 0.9,
            "bin_end": 1,
            "count": 366
           }
          ]
         }
        },
        {
         "name": "crossover_short",
         "dtype": "float64",
         "stats": {
          "unique_count": 2,
          "nan_count": 0,
          "min": "-1.0",
          "max": "0.0",
          "histogram": [
           {
            "bin_start": -1,
            "bin_end": -0.9,
            "count": 122
           },
           {
            "bin_start": -0.9,
            "bin_end": -0.8,
            "count": 0
           },
           {
            "bin_start": -0.8,
            "bin_end": -0.7,
            "count": 0
           },
           {
            "bin_start": -0.7,
            "bin_end": -0.6,
            "count": 0
           },
           {
            "bin_start": -0.6,
            "bin_end": -0.5,
            "count": 0
           },
           {
            "bin_start": -0.5,
            "bin_end": -0.3999999999999999,
            "count": 0
           },
           {
            "bin_start": -0.3999999999999999,
            "bin_end": -0.29999999999999993,
            "count": 0
           },
           {
            "bin_start": -0.29999999999999993,
            "bin_end": -0.19999999999999996,
            "count": 0
           },
           {
            "bin_start": -0.19999999999999996,
            "bin_end": -0.09999999999999998,
            "count": 0
           },
           {
            "bin_start": -0.09999999999999998,
            "bin_end": 0,
            "count": 367
           }
          ]
         }
        },
        {
         "name": "crossover_signal",
         "dtype": "float64",
         "stats": {
          "unique_count": 3,
          "nan_count": 0,
          "min": "-1.0",
          "max": "1.0",
          "histogram": [
           {
            "bin_start": -1,
            "bin_end": -0.8,
            "count": 122
           },
           {
            "bin_start": -0.8,
            "bin_end": -0.6,
            "count": 0
           },
           {
            "bin_start": -0.6,
            "bin_end": -0.3999999999999999,
            "count": 0
           },
           {
            "bin_start": -0.3999999999999999,
            "bin_end": -0.19999999999999996,
            "count": 0
           },
           {
            "bin_start": -0.19999999999999996,
            "bin_end": 0,
            "count": 0
           },
           {
            "bin_start": 0,
            "bin_end": 0.20000000000000018,
            "count": 1
           },
           {
            "bin_start": 0.20000000000000018,
            "bin_end": 0.40000000000000013,
            "count": 0
           },
           {
            "bin_start": 0.40000000000000013,
            "bin_end": 0.6000000000000001,
            "count": 0
           },
           {
            "bin_start": 0.6000000000000001,
            "bin_end": 0.8,
            "count": 0
           },
           {
            "bin_start": 0.8,
            "bin_end": 1,
            "count": 366
           }
          ]
         }
        },
        {
         "name": "fast_vol",
         "dtype": "float64",
         "stats": {
          "unique_count": 487,
          "nan_count": 2,
          "min": "0.002775073473416144",
          "max": "0.19444274298874448",
          "histogram": [
           {
            "bin_start": 0.002775073473416144,
            "bin_end": 0.021941840424948976,
            "count": 162
           },
           {
            "bin_start": 0.021941840424948976,
            "bin_end": 0.04110860737648181,
            "count": 211
           },
           {
            "bin_start": 0.04110860737648181,
            "bin_end": 0.06027537432801464,
            "count": 76
           },
           {
            "bin_start": 0.06027537432801464,
            "bin_end": 0.07944214127954748,
            "count": 21
           },
           {
            "bin_start": 0.07944214127954748,
            "bin_end": 0.0986089082310803,
            "count": 8
           },
           {
            "bin_start": 0.0986089082310803,
            "bin_end": 0.11777567518261314,
            "count": 5
           },
           {
            "bin_start": 0.11777567518261314,
            "bin_end": 0.136942442134146,
            "count": 1
           },
           {
            "bin_start": 0.136942442134146,
            "bin_end": 0.15610920908567882,
            "count": 1
           },
           {
            "bin_start": 0.15610920908567882,
            "bin_end": 0.17527597603721165,
            "count": 0
           },
           {
            "bin_start": 0.17527597603721165,
            "bin_end": 0.19444274298874448,
            "count": 2
           }
          ]
         }
        },
        {
         "name": "slow_vol",
         "dtype": "float64",
         "stats": {
          "unique_count": 487,
          "nan_count": 2,
          "min": "0.015488805855425869",
          "max": "0.09695822483925493",
          "histogram": [
           {
            "bin_start": 0.015488805855425869,
            "bin_end": 0.023635747753808774,
            "count": 106
           },
           {
            "bin_start": 0.023635747753808774,
            "bin_end": 0.03178268965219168,
            "count": 110
           },
           {
            "bin_start": 0.03178268965219168,
            "bin_end": 0.039929631550574586,
            "count": 158
           },
           {
            "bin_start": 0.039929631550574586,
            "bin_end": 0.048076573448957494,
            "count": 48
           },
           {
            "bin_start": 0.048076573448957494,
            "bin_end": 0.0562235153473404,
            "count": 26
           },
           {
            "bin_start": 0.0562235153473404,
            "bin_end": 0.0643704572457233,
            "count": 7
           },
           {
            "bin_start": 0.0643704572457233,
            "bin_end": 0.07251739914410621,
            "count": 4
           },
           {
            "bin_start": 0.07251739914410621,
            "bin_end": 0.08066434104248911,
            "count": 5
           },
           {
            "bin_start": 0.08066434104248911,
            "bin_end": 0.08881128294087201,
            "count": 12
           },
           {
            "bin_start": 0.08881128294087201,
            "bin_end": 0.09695822483925493,
            "count": 11
           }
          ]
         }
        },
        {
         "name": "vol_trend_long",
         "dtype": "float64",
         "stats": {
          "unique_count": 2,
          "nan_count": 0,
          "min": "0.0",
          "max": "1.0",
          "histogram": [
           {
            "bin_start": 0,
            "bin_end": 0.1,
            "count": 166
           },
           {
            "bin_start": 0.1,
            "bin_end": 0.2,
            "count": 0
           },
           {
            "bin_start": 0.2,
            "bin_end": 0.30000000000000004,
            "count": 0
           },
           {
            "bin_start": 0.30000000000000004,
            "bin_end": 0.4,
            "count": 0
           },
           {
            "bin_start": 0.4,
            "bin_end": 0.5,
            "count": 0
           },
           {
            "bin_start": 0.5,
            "bin_end": 0.6000000000000001,
            "count": 0
           },
           {
            "bin_start": 0.6000000000000001,
            "bin_end": 0.7000000000000001,
            "count": 0
           },
           {
            "bin_start": 0.7000000000000001,
            "bin_end": 0.8,
            "count": 0
           },
           {
            "bin_start": 0.8,
            "bin_end": 0.9,
            "count": 0
           },
           {
            "bin_start": 0.9,
            "bin_end": 1,
            "count": 323
           }
          ]
         }
        },
        {
         "name": "vol_trend_short",
         "dtype": "float64",
         "stats": {
          "unique_count": 2,
          "nan_count": 0,
          "min": "-1.0",
          "max": "0.0",
          "histogram": [
           {
            "bin_start": -1,
            "bin_end": -0.9,
            "count": 163
           },
           {
            "bin_start": -0.9,
            "bin_end": -0.8,
            "count": 0
           },
           {
            "bin_start": -0.8,
            "bin_end": -0.7,
            "count": 0
           },
           {
            "bin_start": -0.7,
            "bin_end": -0.6,
            "count": 0
           },
           {
            "bin_start": -0.6,
            "bin_end": -0.5,
            "count": 0
           },
           {
            "bin_start": -0.5,
            "bin_end": -0.3999999999999999,
            "count": 0
           },
           {
            "bin_start": -0.3999999999999999,
            "bin_end": -0.29999999999999993,
            "count": 0
           },
           {
            "bin_start": -0.29999999999999993,
            "bin_end": -0.19999999999999996,
            "count": 0
           },
           {
            "bin_start": -0.19999999999999996,
            "bin_end": -0.09999999999999998,
            "count": 0
           },
           {
            "bin_start": -0.09999999999999998,
            "bin_end": 0,
            "count": 326
           }
          ]
         }
        },
        {
         "name": "vol_trend_signal",
         "dtype": "float64",
         "stats": {
          "unique_count": 3,
          "nan_count": 0,
          "min": "-1.0",
          "max": "1.0",
          "histogram": [
           {
            "bin_start": -1,
            "bin_end": -0.8,
            "count": 163
           },
           {
            "bin_start": -0.8,
            "bin_end": -0.6,
            "count": 0
           },
           {
            "bin_start": -0.6,
            "bin_end": -0.3999999999999999,
            "count": 0
           },
           {
            "bin_start": -0.3999999999999999,
            "bin_end": -0.19999999999999996,
            "count": 0
           },
           {
            "bin_start": -0.19999999999999996,
            "bin_end": 0,
            "count": 0
           },
           {
            "bin_start": 0,
            "bin_end": 0.20000000000000018,
            "count": 3
           },
           {
            "bin_start": 0.20000000000000018,
            "bin_end": 0.40000000000000013,
            "count": 0
           },
           {
            "bin_start": 0.40000000000000013,
            "bin_end": 0.6000000000000001,
            "count": 0
           },
           {
            "bin_start": 0.6000000000000001,
            "bin_end": 0.8,
            "count": 0
           },
           {
            "bin_start": 0.8,
            "bin_end": 1,
            "count": 323
           }
          ]
         }
        },
        {
         "name": "bollinger_mid_band",
         "dtype": "float64",
         "stats": {
          "unique_count": 470,
          "nan_count": 19,
          "min": "48.22850017547607",
          "max": "258.32799911499023",
          "histogram": [
           {
            "bin_start": 48.22850017547607,
            "bin_end": 69.23845006942749,
            "count": 127
           },
           {
            "bin_start": 69.23845006942749,
            "bin_end": 90.2483999633789,
            "count": 57
           },
           {
            "bin_start": 90.2483999633789,
            "bin_end": 111.25834985733032,
            "count": 15
           },
           {
            "bin_start": 111.25834985733032,
            "bin_end": 132.26829975128175,
            "count": 21
           },
           {
            "bin_start": 132.26829975128175,
            "bin_end": 153.27824964523313,
            "count": 36
           },
           {
            "bin_start": 153.27824964523313,
            "bin_end": 174.28819953918457,
            "count": 13
           },
           {
            "bin_start": 174.28819953918457,
            "bin_end": 195.29814943313596,
            "count": 31
           },
           {
            "bin_start": 195.29814943313596,
            "bin_end": 216.3080993270874,
            "count": 23
           },
           {
            "bin_start": 216.3080993270874,
            "bin_end": 237.3180492210388,
            "count": 84
           },
           {
            "bin_start": 237.3180492210388,
            "bin_end": 258.32799911499023,
            "count": 63
           }
          ]
         }
        },
        {
         "name": "bollinger_std",
         "dtype": "float64",
         "stats": {
          "unique_count": 470,
          "nan_count": 19,
          "min": "1.2565760460185844",
          "max": "25.30015790366452",
          "histogram": [
           {
            "bin_start": 1.2565760460185844,
            "bin_end": 3.660934231783178,
            "count": 94
           },
           {
            "bin_start": 3.660934231783178,
            "bin_end": 6.065292417547772,
            "count": 58
           },
           {
            "bin_start": 6.065292417547772,
            "bin_end": 8.469650603312367,
            "count": 87
           },
           {
            "bin_start": 8.469650603312367,
            "bin_end": 10.87400878907696,
            "count": 79
           },
           {
            "bin_start": 10.87400878907696,
            "bin_end": 13.278366974841553,
            "count": 53
           },
           {
            "bin_start": 13.278366974841553,
            "bin_end": 15.682725160606147,
            "count": 44
           },
           {
            "bin_start": 15.682725160606147,
            "bin_end": 18.08708334637074,
            "count": 20
           },
           {
            "bin_start": 18.08708334637074,
            "bin_end": 20.491441532135333,
            "count": 15
           },
           {
            "bin_start": 20.491441532135333,
            "bin_end": 22.895799717899926,
            "count": 12
           },
           {
            "bin_start": 22.895799717899926,
            "bin_end": 25.30015790366452,
            "count": 8
           }
          ]
         }
        },
        {
         "name": "bollinger_upper_band",
         "dtype": "float64",
         "stats": {
          "unique_count": 470,
          "nan_count": 19,
          "min": "54.63642970700963",
          "max": "273.2207900467778",
          "histogram": [
           {
            "bin_start": 54.63642970700963,
            "bin_end": 76.49486574098646,
            "count": 127
           },
           {
            "bin_start": 76.49486574098646,
            "bin_end": 98.35330177496326,
            "count": 58
           },
           {
            "bin_start": 98.35330177496326,
            "bin_end": 120.21173780894009,
            "count": 11
           },
           {
            "bin_start": 120.21173780894009,
            "bin_end": 142.0701738429169,
            "count": 24
           },
           {
            "bin_start": 142.0701738429169,
            "bin_end": 163.92860987689372,
            "count": 36
           },
           {
            "bin_start": 163.92860987689372,
            "bin_end": 185.78704591087052,
            "count": 13
           },
           {
            "bin_start": 185.78704591087052,
            "bin_end": 207.64548194484732,
            "count": 30
           },
           {
            "bin_start": 207.64548194484732,
            "bin_end": 229.50391797882415,
            "count": 29
           },
           {
            "bin_start": 229.50391797882415,
            "bin_end": 251.36235401280098,
            "count": 81
           },
           {
            "bin_start": 251.36235401280098,
            "bin_end": 273.2207900467778,
            "count": 61
           }
          ]
         }
        },
        {
         "name": "bollinger_lower_band",
         "dtype": "float64",
         "stats": {
          "unique_count": 470,
          "nan_count": 19,
          "min": "41.24822151066156",
          "max": "243.43520818320266",
          "histogram": [
           {
            "bin_start": 41.24822151066156,
            "bin_end": 61.46692017791567,
            "count": 84
           },
           {
            "bin_start": 61.46692017791567,
            "bin_end": 81.68561884516978,
            "count": 97
           },
           {
            "bin_start": 81.68561884516978,
            "bin_end": 101.90431751242389,
            "count": 19
           },
           {
            "bin_start": 101.90431751242389,
            "bin_end": 122.12301617967799,
            "count": 19
           },
           {
            "bin_start": 122.12301617967799,
            "bin_end": 142.3417148469321,
            "count": 14
           },
           {
            "bin_start": 142.3417148469321,
            "bin_end": 162.56041351418622,
            "count": 35
           },
           {
            "bin_start": 162.56041351418622,
            "bin_end": 182.77911218144033,
            "count": 33
           },
           {
            "bin_start": 182.77911218144033,
            "bin_end": 202.99781084869443,
            "count": 15
           },
           {
            "bin_start": 202.99781084869443,
            "bin_end": 223.21650951594853,
            "count": 105
           },
           {
            "bin_start": 223.21650951594853,
            "bin_end": 243.43520818320266,
            "count": 49
           }
          ]
         }
        },
        {
         "name": "bollinger_long",
         "dtype": "float64",
         "stats": {
          "unique_count": 2,
          "nan_count": 0,
          "min": "0.0",
          "max": "1.0",
          "histogram": [
           {
            "bin_start": 0,
            "bin_end": 0.1,
            "count": 421
           },
           {
            "bin_start": 0.1,
            "bin_end": 0.2,
            "count": 0
           },
           {
            "bin_start": 0.2,
            "bin_end": 0.30000000000000004,
            "count": 0
           },
           {
            "bin_start": 0.30000000000000004,
            "bin_end": 0.4,
            "count": 0
           },
           {
            "bin_start": 0.4,
            "bin_end": 0.5,
            "count": 0
           },
           {
            "bin_start": 0.5,
            "bin_end": 0.6000000000000001,
            "count": 0
           },
           {
            "bin_start": 0.6000000000000001,
            "bin_end": 0.7000000000000001,
            "count": 0
           },
           {
            "bin_start": 0.7000000000000001,
            "bin_end": 0.8,
            "count": 0
           },
           {
            "bin_start": 0.8,
            "bin_end": 0.9,
            "count": 0
           },
           {
            "bin_start": 0.9,
            "bin_end": 1,
            "count": 68
           }
          ]
         }
        },
        {
         "name": "bollinger_short",
         "dtype": "float64",
         "stats": {
          "unique_count": 2,
          "nan_count": 0,
          "min": "-1.0",
          "max": "0.0",
          "histogram": [
           {
            "bin_start": -1,
            "bin_end": -0.9,
            "count": 212
           },
           {
            "bin_start": -0.9,
            "bin_end": -0.8,
            "count": 0
           },
           {
            "bin_start": -0.8,
            "bin_end": -0.7,
            "count": 0
           },
           {
            "bin_start": -0.7,
            "bin_end": -0.6,
            "count": 0
           },
           {
            "bin_start": -0.6,
            "bin_end": -0.5,
            "count": 0
           },
           {
            "bin_start": -0.5,
            "bin_end": -0.3999999999999999,
            "count": 0
           },
           {
            "bin_start": -0.3999999999999999,
            "bin_end": -0.29999999999999993,
            "count": 0
           },
           {
            "bin_start": -0.29999999999999993,
            "bin_end": -0.19999999999999996,
            "count": 0
           },
           {
            "bin_start": -0.19999999999999996,
            "bin_end": -0.09999999999999998,
            "count": 0
           },
           {
            "bin_start": -0.09999999999999998,
            "bin_end": 0,
            "count": 277
           }
          ]
         }
        },
        {
         "name": "bollinger_signal",
         "dtype": "float64",
         "stats": {
          "unique_count": 3,
          "nan_count": 0,
          "min": "-1.0",
          "max": "1.0",
          "histogram": [
           {
            "bin_start": -1,
            "bin_end": -0.8,
            "count": 212
           },
           {
            "bin_start": -0.8,
            "bin_end": -0.6,
            "count": 0
           },
           {
            "bin_start": -0.6,
            "bin_end": -0.3999999999999999,
            "count": 0
           },
           {
            "bin_start": -0.3999999999999999,
            "bin_end": -0.19999999999999996,
            "count": 0
           },
           {
            "bin_start": -0.19999999999999996,
            "bin_end": 0,
            "count": 0
           },
           {
            "bin_start": 0,
            "bin_end": 0.20000000000000018,
            "count": 209
           },
           {
            "bin_start": 0.20000000000000018,
            "bin_end": 0.40000000000000013,
            "count": 0
           },
           {
            "bin_start": 0.40000000000000013,
            "bin_end": 0.6000000000000001,
            "count": 0
           },
           {
            "bin_start": 0.6000000000000001,
            "bin_end": 0.8,
            "count": 0
           },
           {
            "bin_start": 0.8,
            "bin_end": 1,
            "count": 68
           }
          ]
         }
        },
        {
         "name": "_deepnote_index_column",
         "dtype": "datetime64[ns]"
        }
       ],
       "rows_top": [
        {
         "Close": 61.130001068115234,
         "daily_return": "nan",
         "fast_close": 61.130001068115234,
         "slow_close": 61.130001068115234,
         "crossover_long": 0,
         "crossover_short": 0,
         "crossover_signal": 0,
         "fast_vol": "nan",
         "slow_vol": "nan",
         "vol_trend_long": 0,
         "vol_trend_short": 0,
         "vol_trend_signal": 0,
         "bollinger_mid_band": "nan",
         "bollinger_std": "nan",
         "bollinger_upper_band": "nan",
         "bollinger_lower_band": "nan",
         "bollinger_long": 0,
         "bollinger_short": 0,
         "bollinger_signal": 0,
         "_deepnote_index_column": "2019-09-03T00:00:00.000000"
        },
        {
         "Close": 61.16999816894531,
         "daily_return": 0.0006542957652742043,
         "fast_close": 61.15666580200195,
         "slow_close": 61.15069243810488,
         "crossover_long": 1,
         "crossover_short": 0,
         "crossover_signal": 1,
         "fast_vol": "nan",
         "slow_vol": "nan",
         "vol_trend_long": 0,
         "vol_trend_short": 0,
         "vol_trend_signal": 0,
         "bollinger_mid_band": "nan",
         "bollinger_std": "nan",
         "bollinger_upper_band": "nan",
         "bollinger_lower_band": "nan",
         "bollinger_long": 0,
         "bollinger_short": 0,
         "bollinger_signal": 0,
         "_deepnote_index_column": "2019-09-04T00:00:00.000000"
        },
        {
         "Close": 63.02000045776367,
         "daily_return": 0.03024362177858575,
         "fast_close": 62.221428462437224,
         "slow_close": 61.81744910260179,
         "crossover_long": 1,
         "crossover_short": 0,
         "crossover_signal": 1,
         "fast_vol": 0.020922813074752106,
         "slow_vol": 0.020922813074752106,
         "vol_trend_long": 0,
         "vol_trend_short": 0,
         "vol_trend_signal": 0,
         "bollinger_mid_band": "nan",
         "bollinger_std": "nan",
         "bollinger_upper_band": "nan",
         "bollinger_lower_band": "nan",
         "bollinger_long": 0,
         "bollinger_short": 0,
         "bollinger_signal": 0,
         "_deepnote_index_column": "2019-09-05T00:00:00.000000"
        },
        {
         "Close": 62,
         "daily_return": -0.01618534513415759,
         "fast_close": 62.1033332824707,
         "slow_close": 61.86793560139834,
         "crossover_long": 1,
         "crossover_short": 0,
         "crossover_signal": 1,
         "fast_vol": 0.026813204502238567,
         "slow_vol": 0.023823593475420887,
         "vol_trend_long": 0,
         "vol_trend_short": -1,
         "vol_trend_signal": -1,
         "bollinger_mid_band": "nan",
         "bollinger_std": "nan",
         "bollinger_upper_band": "nan",
         "bollinger_lower_band": "nan",
         "bollinger_long": 0,
         "bollinger_short": 0,
         "bollinger_signal": 0,
         "_deepnote_index_column": "2019-09-06T00:00:00.000000"
        },
        {
         "Close": 61.470001220703125,
         "daily_return": -0.008548367408014124,
         "fast_close": 61.7764522183326,
         "slow_close": 61.77695201650084,
         "crossover_long": 0,
         "crossover_short": -1,
         "crossover_signal": -1,
         "fast_vol": 0.018274005502933927,
         "slow_vol": 0.02026322466527327,
         "vol_trend_long": 1,
         "vol_trend_short": 0,
         "vol_trend_signal": 1,
         "bollinger_mid_band": "nan",
         "bollinger_std": "nan",
         "bollinger_upper_band": "nan",
         "bollinger_lower_band": "nan",
         "bollinger_long": 0,
         "bollinger_short": 0,
         "bollinger_signal": 0,
         "_deepnote_index_column": "2019-09-09T00:00:00.000000"
        },
        {
         "Close": 60.54999923706055,
         "daily_return": -0.014966682371444606,
         "fast_close": 61.15349197387695,
         "slow_close": 61.53546395671153,
         "crossover_long": 0,
         "crossover_short": -1,
         "crossover_signal": -1,
         "fast_vol": 0.01399486129370176,
         "slow_vol": 0.018777391847520208,
         "vol_trend_long": 1,
         "vol_trend_short": 0,
         "vol_trend_signal": 1,
         "bollinger_mid_band": "nan",
         "bollinger_std": "nan",
         "bollinger_upper_band": "nan",
         "bollinger_lower_band": "nan",
         "bollinger_long": 0,
         "bollinger_short": 0,
         "bollinger_signal": 0,
         "_deepnote_index_column": "2019-09-10T00:00:00.000000"
        },
        {
         "Close": 59.20000076293945,
         "daily_return": -0.022295598532308558,
         "fast_close": 60.16905545812892,
         "slow_close": 61.12862817070072,
         "crossover_long": 0,
         "crossover_short": -1,
         "crossover_signal": -1,
         "fast_vol": 0.012325732523326846,
         "slow_vol": 0.01856726240574879,
         "vol_trend_long": 1,
         "vol_trend_short": 0,
         "vol_trend_signal": 1,
         "bollinger_mid_band": "nan",
         "bollinger_std": "nan",
         "bollinger_upper_band": "nan",
         "bollinger_lower_band": "nan",
         "bollinger_long": 0,
         "bollinger_short": 0,
         "bollinger_signal": 0,
         "_deepnote_index_column": "2019-09-11T00:00:00.000000"
        },
        {
         "Close": 57.790000915527344,
         "daily_return": -0.023817564683120795,
         "fast_close": 58.974863373999504,
         "slow_close": 60.603366928777795,
         "crossover_long": 0,
         "crossover_short": -1,
         "crossover_signal": -1,
         "fast_vol": 0.00981301441312973,
         "slow_vol": 0.018079821562331164,
         "vol_trend_long": 1,
         "vol_trend_short": 0,
         "vol_trend_signal": 1,
         "bollinger_mid_band": "nan",
         "bollinger_std": "nan",
         "bollinger_upper_band": "nan",
         "bollinger_lower_band": "nan",
         "bollinger_long": 0,
         "bollinger_short": 0,
         "bollinger_signal": 0,
         "_deepnote_index_column": "2019-09-12T00:00:00.000000"
        },
        {
         "Close": 58.290000915527344,
         "daily_return": 0.008652015782641298,
         "fast_close": 58.63176202494104,
         "slow_close": 60.269570823764234,
         "crossover_long": 0,
         "crossover_short": -1,
         "crossover_signal": -1,
         "fast_vol": 0.01893141806147976,
         "slow_vol": 0.017903333641489615,
         "vol_trend_long": 0,
         "vol_trend_short": -1,
         "vol_trend_signal": -1,
         "bollinger_mid_band": "nan",
         "bollinger_std": "nan",
         "bollinger_upper_band": "nan",
         "bollinger_lower_band": "nan",
         "bollinger_long": 0,
         "bollinger_short": 0,
         "bollinger_signal": 0,
         "_deepnote_index_column": "2019-09-13T00:00:00.000000"
        },
        {
         "Close": 59.25,
         "daily_return": 0.016469361286575834,
         "fast_close": 58.94118318156879,
         "slow_close": 60.13301560779655,
         "crossover_long": 0,
         "crossover_short": -1,
         "crossover_signal": -1,
         "fast_vol": 0.019036740419496174,
         "slow_vol": 0.01857646267337399,
         "vol_trend_long": 0,
         "vol_trend_short": -1,
         "vol_trend_signal": -1,
         "bollinger_mid_band": "nan",
         "bollinger_std": "nan",
         "bollinger_upper_band": "nan",
         "bollinger_lower_band": "nan",
         "bollinger_long": 0,
         "bollinger_short": 0,
         "bollinger_signal": 0,
         "_deepnote_index_column": "2019-09-16T00:00:00.000000"
        },
        {
         "Close": 59.599998474121094,
         "daily_return": 0.005907147242550037,
         "fast_close": 59.270751749997494,
         "slow_close": 60.06610714180137,
         "crossover_long": 0,
         "crossover_short": -1,
         "crossover_signal": -1,
         "fast_vol": 0.01345101681350913,
         "slow_vol": 0.01750543613856381,
         "vol_trend_long": 1,
         "vol_trend_short": 0,
         "vol_trend_signal": 1,
         "bollinger_mid_band": "nan",
         "bollinger_std": "nan",
         "bollinger_upper_band": "nan",
         "bollinger_lower_band": "nan",
         "bollinger_long": 0,
         "bollinger_short": 0,
         "bollinger_signal": 0,
         "_deepnote_index_column": "2019-09-17T00:00:00.000000"
        },
        {
         "Close": 59.75,
         "daily_return": 0.0025168041899201743,
         "fast_close": 59.51043439126859,
         "slow_close": 60.02862206464366,
         "crossover_long": 0,
         "crossover_short": -1,
         "crossover_signal": -1,
         "fast_vol": 0.009700678897181191,
         "slow_vol": 0.016371227347699607,
         "vol_trend_long": 1,
         "vol_trend_short": 0,
         "vol_trend_signal": 1,
         "bollinger_mid_band": "nan",
         "bollinger_std": "nan",
         "bollinger_upper_band": "nan",
         "bollinger_lower_band": "nan",
         "bollinger_long": 0,
         "bollinger_short": 0,
         "bollinger_signal": 0,
         "_deepnote_index_column": "2019-09-18T00:00:00.000000"
        },
        {
         "Close": 59.029998779296875,
         "daily_return": -0.01205022963519875,
         "fast_close": 59.27018725824013,
         "slow_close": 59.916014278618746,
         "crossover_long": 0,
         "crossover_short": -1,
         "crossover_signal": -1,
         "fast_vol": 0.012031838982495472,
         "slow_vol": 0.015716818313772682,
         "vol_trend_long": 1,
         "vol_trend_short": 0,
         "vol_trend_signal": 1,
         "bollinger_mid_band": "nan",
         "bollinger_std": "nan",
         "bollinger_upper_band": "nan",
         "bollinger_lower_band": "nan",
         "bollinger_long": 0,
         "bollinger_short": 0,
         "bollinger_signal": 0,
         "_deepnote_index_column": "2019-09-19T00:00:00.000000"
        },
        {
         "Close": 57.849998474121094,
         "daily_return": -0.019989841259993923,
         "fast_close": 58.56004952281297,
         "slow_close": 59.693245980928104,
         "crossover_long": 0,
         "crossover_short": -1,
         "crossover_signal": -1,
         "fast_vol": 0.012980019505383678,
         "slow_vol": 0.015810133671487776,
         "vol_trend_long": 1,
         "vol_trend_short": 0,
         "vol_trend_signal": 1,
         "bollinger_mid_band": "nan",
         "bollinger_std": "nan",
         "bollinger_upper_band": "nan",
         "bollinger_lower_band": "nan",
         "bollinger_long": 0,
         "bollinger_short": 0,
         "bollinger_signal": 0,
         "_deepnote_index_column": "2019-09-20T00:00:00.000000"
        },
        {
         "Close": 56.7599983215332,
         "daily_return": -0.018841835459606715,
         "fast_close": 57.65999645473327,
         "slow_close": 59.38938357686722,
         "crossover_long": 0,
         "crossover_short": -1,
         "crossover_signal": -1,
         "fast_vol": 0.010092310571236723,
         "slow_vol": 0.01557317143310705,
         "vol_trend_long": 1,
         "vol_trend_short": 0,
         "vol_trend_signal": 1,
         "bollinger_mid_band": "nan",
         "bollinger_std": "nan",
         "bollinger_upper_band": "nan",
         "bollinger_lower_band": "nan",
         "bollinger_long": 0,
         "bollinger_short": 0,
         "bollinger_signal": 0,
         "_deepnote_index_column": "2019-09-23T00:00:00.000000"
        },
        {
         "Close": 57.5,
         "daily_return": 0.013037380203481552,
         "fast_close": 57.57999700667193,
         "slow_close": 59.20057292304617,
         "crossover_long": 0,
         "crossover_short": -1,
         "crossover_signal": -1,
         "fast_vol": 0.0188280823760239,
         "slow_vol": 0.01592579446405529,
         "vol_trend_long": 0,
         "vol_trend_short": -1,
         "vol_trend_signal": -1,
         "bollinger_mid_band": "nan",
         "bollinger_std": "nan",
         "bollinger_upper_band": "nan",
         "bollinger_lower_band": "nan",
         "bollinger_long": 0,
         "bollinger_short": 0,
         "bollinger_signal": 0,
         "_deepnote_index_column": "2019-09-24T00:00:00.000000"
        },
        {
         "Close": 58.5099983215332,
         "daily_return": 0.017565188200577397,
         "fast_close": 58.045001211803104,
         "slow_close": 59.13376450529138,
         "crossover_long": 0,
         "crossover_short": -1,
         "crossover_signal": -1,
         "fast_vol": 0.017581994662576796,
         "slow_vol": 0.01653304051460714,
         "vol_trend_long": 0,
         "vol_trend_short": -1,
         "vol_trend_signal": -1,
         "bollinger_mid_band": "nan",
         "bollinger_std": "nan",
         "bollinger_upper_band": "nan",
         "bollinger_lower_band": "nan",
         "bollinger_long": 0,
         "bollinger_short": 0,
         "bollinger_signal": 0,
         "_deepnote_index_column": "2019-09-25T00:00:00.000000"
        },
        {
         "Close": 60.79999923706055,
         "daily_return": 0.039138625554951734,
         "fast_close": 59.42250547919359,
         "slow_close": 59.29030038858469,
         "crossover_long": 1,
         "crossover_short": 0,
         "crossover_signal": 1,
         "fast_vol": 0.02266660912384212,
         "slow_vol": 0.020120651377749415,
         "vol_trend_long": 0,
         "vol_trend_short": -1,
         "vol_trend_signal": -1,
         "bollinger_mid_band": "nan",
         "bollinger_std": "nan",
         "bollinger_upper_band": "nan",
         "bollinger_lower_band": "nan",
         "bollinger_long": 0,
         "bollinger_short": 0,
         "bollinger_signal": 0,
         "_deepnote_index_column": "2019-09-26T00:00:00.000000"
        },
        {
         "Close": 60.75,
         "daily_return": -0.0008223558830255939,
         "fast_close": 60.086254005596636,
         "slow_close": 59.42383065337908,
         "crossover_long": 1,
         "crossover_short": 0,
         "crossover_signal": 1,
         "fast_vol": 0.02194824918195563,
         "slow_vol": 0.019140386953807525,
         "vol_trend_long": 0,
         "vol_trend_short": -1,
         "vol_trend_signal": -1,
         "bollinger_mid_band": "nan",
         "bollinger_std": "nan",
         "bollinger_upper_band": "nan",
         "bollinger_lower_band": "nan",
         "bollinger_long": 0,
         "bollinger_short": 0,
         "bollinger_signal": 0,
         "_deepnote_index_column": "2019-09-27T00:00:00.000000"
        },
        {
         "Close": 61.95000076293945,
         "daily_return": 0.01975309897842714,
         "fast_close": 61.018128272972604,
         "slow_close": 59.64939072685427,
         "crossover_long": 1,
         "crossover_short": 0,
         "crossover_signal": 1,
         "fast_vol": 0.016337012586194428,
         "slow_vol": 0.018997187494574793,
         "vol_trend_long": 1,
         "vol_trend_short": 0,
         "vol_trend_signal": 1,
         "bollinger_mid_band": 59.81849975585938,
         "bollinger_std": 1.721995113632717,
         "bollinger_upper_band": 61.54049486949209,
         "bollinger_lower_band": 58.09650464222666,
         "bollinger_long": 0,
         "bollinger_short": -1,
         "bollinger_signal": -1,
         "_deepnote_index_column": "2019-09-30T00:00:00.000000"
        },
        {
         "Close": 61.630001068115234,
         "daily_return": -0.005165451023136258,
         "fast_close": 61.32406481642583,
         "slow_close": 59.822376675668856,
         "crossover_long": 1,
         "crossover_short": 0,
         "crossover_signal": 1,
         "fast_vol": 0.017174000184537363,
         "slow_vol": 0.018277877040440905,
         "vol_trend_long": 1,
         "vol_trend_short": 0,
         "vol_trend_signal": 1,
         "bollinger_mid_band": 59.843499755859376,
         "bollinger_std": 1.7455066760773288,
         "bollinger_upper_band": 61.5890064319367,
         "bollinger_lower_band": 58.09799307978205,
         "bollinger_long": 0,
         "bollinger_short": -1,
         "bollinger_signal": -1,
         "_deepnote_index_column": "2019-10-01T00:00:00.000000"
        },
        {
         "Close": 60.08000183105469,
         "daily_return": -0.02515007642702205,
         "fast_close": 60.702033175436355,
         "slow_close": 59.844428332115136,
         "crossover_long": 1,
         "crossover_short": 0,
         "crossover_signal": 1,
         "fast_vol": 0.022206748492927635,
         "slow_vol": 0.019210514673991357,
         "vol_trend_long": 0,
         "vol_trend_short": -1,
         "vol_trend_signal": -1,
         "bollinger_mid_band": 59.78899993896484,
         "bollinger_std": 1.7187205792192206,
         "bollinger_upper_band": 61.507720518184065,
         "bollinger_lower_band": 58.07027935974562,
         "bollinger_long": 0,
         "bollinger_short": 0,
         "bollinger_signal": 0,
         "_deepnote_index_column": "2019-10-02T00:00:00.000000"
        },
        {
         "Close": 62.04999923706055,
         "daily_return": 0.03278956967320856,
         "fast_close": 61.3760162865935,
         "slow_close": 60.029763564162764,
         "crossover_long": 1,
         "crossover_short": 0,
         "crossover_signal": 1,
         "fast_vol": 0.030531995567554662,
         "slow_vol": 0.020616227125858748,
         "vol_trend_long": 0,
         "vol_trend_short": -1,
         "vol_trend_signal": -1,
         "bollinger_mid_band": 59.740499877929686,
         "bollinger_std": 1.6343631709130804,
         "bollinger_upper_band": 61.37486304884277,
         "bollinger_lower_band": 58.1061367070166,
         "bollinger_long": 0,
         "bollinger_short": -1,
         "bollinger_signal": -1,
         "_deepnote_index_column": "2019-10-03T00:00:00.000000"
        },
        {
         "Close": 62.650001525878906,
         "daily_return": 0.009669658278738558,
         "fast_close": 62.013008944203925,
         "slow_close": 60.24624947142779,
         "crossover_long": 1,
         "crossover_short": 0,
         "crossover_signal": 1,
         "fast_vol": 0.021615665374558453,
         "slow_vol": 0.019807503868605116,
         "vol_trend_long": 0,
         "vol_trend_short": -1,
         "vol_trend_signal": -1,
         "bollinger_mid_band": 59.772999954223636,
         "bollinger_std": 1.6872657802820537,
         "bollinger_upper_band": 61.46026573450569,
         "bollinger_lower_band": 58.08573417394158,
         "bollinger_long": 0,
         "bollinger_short": -1,
         "bollinger_signal": -1,
         "_deepnote_index_column": "2019-10-04T00:00:00.000000"
        },
        {
         "Close": 62.25,
         "daily_return": -0.006384700975843982,
         "fast_close": 62.131504475633406,
         "slow_close": 60.409249204110736,
         "crossover_long": 1,
         "crossover_short": 0,
         "crossover_signal": 1,
         "fast_vol": 0.018467079259838152,
         "slow_vol": 0.019161562641422613,
         "vol_trend_long": 1,
         "vol_trend_short": 0,
         "vol_trend_signal": 1,
         "bollinger_mid_band": 59.81199989318848,
         "bollinger_std": 1.7368414537899903,
         "bollinger_upper_band": 61.54884134697847,
         "bollinger_lower_band": 58.075158439398486,
         "bollinger_long": 0,
         "bollinger_short": -1,
         "bollinger_signal": -1,
         "_deepnote_index_column": "2019-10-07T00:00:00.000000"
        },
        {
         "Close": 60.79999923706055,
         "daily_return": -0.023293184946818535,
         "fast_close": 61.465751846426485,
         "slow_close": 60.44058505232556,
         "crossover_long": 1,
         "crossover_short": 0,
         "crossover_signal": 1,
         "fast_vol": 0.020295179767248327,
         "slow_vol": 0.019745120274668793,
         "vol_trend_long": 0,
         "vol_trend_short": -1,
         "vol_trend_signal": -1,
         "bollinger_mid_band": 59.824499893188474,
         "bollinger_std": 1.7433198992062189,
         "bollinger_upper_band": 61.567819792394694,
         "bollinger_lower_band": 58.08117999398225,
         "bollinger_long": 0,
         "bollinger_short": 0,
         "bollinger_signal": 0,
         "_deepnote_index_column": "2019-10-08T00:00:00.000000"
        }
       ],
       "rows_bottom": [
        {
         "Close": 246.6999969482422,
         "daily_return": 0.023311743298914944,
         "fast_close": 244.472383847556,
         "slow_close": 233.38690098363656,
         "crossover_long": 1,
         "crossover_short": 0,
         "crossover_signal": 1,
         "fast_vol": 0.019038199591057393,
         "slow_vol": 0.023568579431944302,
         "vol_trend_long": 1,
         "vol_trend_short": 0,
         "vol_trend_signal": 1,
         "bollinger_mid_band": 233.96750030517578,
         "bollinger_std": 11.504722186614378,
         "bollinger_upper_band": 245.47222249179015,
         "bollinger_lower_band": 222.4627781185614,
         "bollinger_long": 0,
         "bollinger_short": -1,
         "bollinger_signal": -1,
         "_deepnote_index_column": "2021-07-06T00:00:00.000000"
        },
        {
         "Close": 244.63999938964844,
         "daily_return": -0.008350213149884822,
         "fast_close": 244.5561916186022,
         "slow_close": 234.1404873198291,
         "crossover_long": 1,
         "crossover_short": 0,
         "crossover_signal": 1,
         "fast_vol": 0.017261926872530798,
         "slow_vol": 0.022995135538465838,
         "vol_trend_long": 1,
         "vol_trend_short": 0,
         "vol_trend_signal": 1,
         "bollinger_mid_band": 235.49350051879884,
         "bollinger_std": 10.731702324161002,
         "bollinger_upper_band": 246.22520284295985,
         "bollinger_lower_band": 224.76179819463783,
         "bollinger_long": 0,
         "bollinger_short": 0,
         "bollinger_signal": 0,
         "_deepnote_index_column": "2021-07-07T00:00:00.000000"
        },
        {
         "Close": 235.89999389648438,
         "daily_return": -0.0357259872260034,
         "fast_close": 240.2280927575433,
         "slow_close": 234.25831621163903,
         "crossover_long": 1,
         "crossover_short": 0,
         "crossover_signal": 1,
         "fast_vol": 0.025305095449139905,
         "slow_vol": 0.024354022514396254,
         "vol_trend_long": 0,
         "vol_trend_short": -1,
         "vol_trend_signal": -1,
         "bollinger_mid_band": 236.7779998779297,
         "bollinger_std": 8.932880323258665,
         "bollinger_upper_band": 245.71088020118836,
         "bollinger_lower_band": 227.84511955467102,
         "bollinger_long": 0,
         "bollinger_short": 0,
         "bollinger_signal": 0,
         "_deepnote_index_column": "2021-07-08T00:00:00.000000"
        },
        {
         "Close": 241.88999938964844,
         "daily_return": 0.02539213924605921,
         "fast_close": 241.05904607359588,
         "slow_close": 234.7693872036092,
         "crossover_long": 1,
         "crossover_short": 0,
         "crossover_signal": 1,
         "fast_vol": 0.03184597050790479,
         "slow_vol": 0.024335484151082665,
         "vol_trend_long": 0,
         "vol_trend_short": -1,
         "vol_trend_signal": -1,
         "bollinger_mid_band": 238.0154998779297,
         "bollinger_std": 7.6982021734183705,
         "bollinger_upper_band": 245.71370205134806,
         "bollinger_lower_band": 230.31729770451133,
         "bollinger_long": 0,
         "bollinger_short": 0,
         "bollinger_signal": 0,
         "_deepnote_index_column": "2021-07-09T00:00:00.000000"
        },
        {
         "Close": 243.35000610351562,
         "daily_return": 0.006035829168428375,
         "fast_close": 242.20452608855575,
         "slow_close": 235.34400558209867,
         "crossover_long": 1,
         "crossover_short": 0,
         "crossover_signal": 1,
         "fast_vol": 0.022557074379807855,
         "slow_vol": 0.023523319061851546,
         "vol_trend_long": 1,
         "vol_trend_short": 0,
         "vol_trend_signal": 1,
         "bollinger_mid_band": 239.21600036621095,
         "bollinger_std": 6.394251172581616,
         "bollinger_upper_band": 245.61025153879257,
         "bollinger_lower_band": 232.82174919362933,
         "bollinger_long": 0,
         "bollinger_short": 0,
         "bollinger_signal": 0,
         "_deepnote_index_column": "2021-07-12T00:00:00.000000"
        },
        {
         "Close": 241.42999267578125,
         "daily_return": -0.007889925537612918,
         "fast_close": 241.81725938216852,
         "slow_close": 235.7515659313082,
         "crossover_long": 1,
         "crossover_short": 0,
         "crossover_signal": 1,
         "fast_vol": 0.017785481202071914,
         "slow_vol": 0.022883507772536917,
         "vol_trend_long": 1,
         "vol_trend_short": 0,
         "vol_trend_signal": 1,
         "bollinger_mid_band": 239.7400001525879,
         "bollinger_std": 6.1040363997572396,
         "bollinger_upper_band": 245.84403655234513,
         "bollinger_lower_band": 233.63596375283066,
         "bollinger_long": 0,
         "bollinger_short": 0,
         "bollinger_signal": 0,
         "_deepnote_index_column": "2021-07-13T00:00:00.000000"
        },
        {
         "Close": 239,
         "daily_return": -0.01006499916952952,
         "fast_close": 240.40862969108426,
         "slow_close": 235.96910384307841,
         "crossover_long": 1,
         "crossover_short": 0,
         "crossover_signal": 1,
         "fast_vol": 0.013634307293813673,
         "slow_vol": 0.02231830637583706,
         "vol_trend_long": 1,
         "vol_trend_short": 0,
         "vol_trend_signal": 1,
         "bollinger_mid_band": 240.3025001525879,
         "bollinger_std": 5.421134657831199,
         "bollinger_upper_band": 245.7236348104191,
         "bollinger_lower_band": 234.8813654947567,
         "bollinger_long": 0,
         "bollinger_short": 0,
         "bollinger_signal": 0,
         "_deepnote_index_column": "2021-07-14T00:00:00.000000"
        },
        {
         "Close": 235.16000366210938,
         "daily_return": -0.016066930284061143,
         "fast_close": 237.7843166765968,
         "slow_close": 235.9149208244119,
         "crossover_long": 1,
         "crossover_short": 0,
         "crossover_signal": 1,
         "fast_vol": 0.011521477255023341,
         "slow_vol": 0.022003642505403872,
         "vol_trend_long": 1,
         "vol_trend_short": 0,
         "vol_trend_signal": 1,
         "bollinger_mid_band": 240.80500030517578,
         "bollinger_std": 4.285645675944812,
         "bollinger_upper_band": 245.0906459811206,
         "bollinger_lower_band": 236.51935462923097,
         "bollinger_long": 1,
         "bollinger_short": 0,
         "bollinger_signal": 1,
         "_deepnote_index_column": "2021-07-15T00:00:00.000000"
        },
        {
         "Close": 237.52000427246094,
         "daily_return": 0.010035722799794478,
         "fast_close": 237.65216047452887,
         "slow_close": 236.02240846126153,
         "crossover_long": 1,
         "crossover_short": 0,
         "crossover_signal": 1,
         "fast_vol": 0.015198308963151148,
         "slow_vol": 0.02140418299855528,
         "vol_trend_long": 1,
         "vol_trend_short": 0,
         "vol_trend_signal": 1,
         "bollinger_mid_band": 240.8745002746582,
         "bollinger_std": 4.216555279994983,
         "bollinger_upper_band": 245.0910555546532,
         "bollinger_lower_band": 236.6579449946632,
         "bollinger_long": 0,
         "bollinger_short": 0,
         "bollinger_signal": 0,
         "_deepnote_index_column": "2021-07-16T00:00:00.000000"
        },
        {
         "Close": 233.69000244140625,
         "daily_return": -0.016124965317284468,
         "fast_close": 235.67108145796755,
         "slow_close": 235.86621420759028,
         "crossover_long": 0,
         "crossover_short": -1,
         "crossover_signal": -1,
         "fast_vol": 0.014413505598532618,
         "slow_vol": 0.0211164558946832,
         "vol_trend_long": 1,
         "vol_trend_short": 0,
         "vol_trend_signal": 1,
         "bollinger_mid_band": 240.7065002441406,
         "bollinger_std": 4.438072009441478,
         "bollinger_upper_band": 245.14457225358208,
         "bollinger_lower_band": 236.26842823469914,
         "bollinger_long": 1,
         "bollinger_short": 0,
         "bollinger_signal": 1,
         "_deepnote_index_column": "2021-07-19T00:00:00.000000"
        },
        {
         "Close": 246.47000122070312,
         "daily_return": 0.05468782851547638,
         "fast_close": 241.07054133933534,
         "slow_close": 236.5763181022393,
         "crossover_long": 1,
         "crossover_short": 0,
         "crossover_signal": 1,
         "fast_vol": 0.03988547392891959,
         "slow_vol": 0.02474420010332788,
         "vol_trend_long": 0,
         "vol_trend_short": -1,
         "vol_trend_signal": -1,
         "bollinger_mid_band": 241.33550033569335,
         "bollinger_std": 4.310779739961828,
         "bollinger_upper_band": 245.64628007565517,
         "bollinger_lower_band": 237.02472059573154,
         "bollinger_long": 0,
         "bollinger_short": -1,
         "bollinger_signal": -1,
         "_deepnote_index_column": "2021-07-20T00:00:00.000000"
        },
        {
         "Close": 257.25,
         "daily_return": 0.04373756938331752,
         "fast_close": 249.16027066966768,
         "slow_close": 237.960772732852,
         "crossover_long": 1,
         "crossover_short": 0,
         "crossover_signal": 1,
         "fast_vol": 0.03087971656177509,
         "slow_vol": 0.026019999238620174,
         "vol_trend_long": 0,
         "vol_trend_short": -1,
         "vol_trend_signal": -1,
         "bollinger_mid_band": 242.3995002746582,
         "bollinger_std": 5.404259620028512,
         "bollinger_upper_band": 247.80375989468672,
         "bollinger_lower_band": 236.9952406546297,
         "bollinger_long": 0,
         "bollinger_short": -1,
         "bollinger_signal": -1,
         "_deepnote_index_column": "2021-07-21T00:00:00.000000"
        },
        {
         "Close": 260.5899963378906,
         "daily_return": 0.012983464870323091,
         "fast_close": 254.87513350377915,
         "slow_close": 239.47618414152612,
         "crossover_long": 1,
         "crossover_short": 0,
         "crossover_signal": 1,
         "fast_vol": 0.02518266835293984,
         "slow_vol": 0.0251960113695084,
         "vol_trend_long": 1,
         "vol_trend_short": 0,
         "vol_trend_signal": 1,
         "bollinger_mid_band": 243.49400024414064,
         "bollinger_std": 6.681331561554666,
         "bollinger_upper_band": 250.1753318056953,
         "bollinger_lower_band": 236.81266868258598,
         "bollinger_long": 0,
         "bollinger_short": -1,
         "bollinger_signal": -1,
         "_deepnote_index_column": "2021-07-22T00:00:00.000000"
        },
        {
         "Close": 264,
         "daily_return": 0.013085704401667897,
         "fast_close": 259.43756675188956,
         "slow_close": 241.11847072567033,
         "crossover_long": 1,
         "crossover_short": 0,
         "crossover_signal": 1,
         "fast_vol": 0.018858656977749418,
         "slow_vol": 0.024395576724874492,
         "vol_trend_long": 1,
         "vol_trend_short": 0,
         "vol_trend_signal": 1,
         "bollinger_mid_band": 244.48650054931642,
         "bollinger_std": 8.106294495387369,
         "bollinger_upper_band": 252.5927950447038,
         "bollinger_lower_band": 236.38020605392904,
         "bollinger_long": 0,
         "bollinger_short": -1,
         "bollinger_signal": -1,
         "_deepnote_index_column": "2021-07-23T00:00:00.000000"
        },
        {
         "Close": 261.989990234375,
         "daily_return": -0.007613673354640138,
         "fast_close": 260.7137784931323,
         "slow_close": 242.51617394924946,
         "crossover_long": 1,
         "crossover_short": 0,
         "crossover_signal": 1,
         "fast_vol": 0.020660534897760822,
         "slow_vol": 0.02385324383983956,
         "vol_trend_long": 1,
         "vol_trend_short": 0,
         "vol_trend_signal": 1,
         "bollinger_mid_band": 245.58899993896483,
         "bollinger_std": 8.914564093304996,
         "bollinger_upper_band": 254.50356403226982,
         "bollinger_lower_band": 236.67443584565984,
         "bollinger_long": 0,
         "bollinger_short": -1,
         "bollinger_signal": -1,
         "_deepnote_index_column": "2021-07-26T00:00:00.000000"
        },
        {
         "Close": 251.72999572753906,
         "daily_return": -0.0391617805613772,
         "fast_close": 256.2218871103357,
         "slow_close": 243.13319603025454,
         "crossover_long": 1,
         "crossover_short": 0,
         "crossover_signal": 1,
         "fast_vol": 0.030883496352589263,
         "slow_vol": 0.02574145577377397,
         "vol_trend_long": 0,
         "vol_trend_short": -1,
         "vol_trend_signal": -1,
         "bollinger_mid_band": 245.84549942016602,
         "bollinger_std": 9.018383163039834,
         "bollinger_upper_band": 254.86388258320585,
         "bollinger_lower_band": 236.8271162571262,
         "bollinger_long": 0,
         "bollinger_short": 0,
         "bollinger_signal": 0,
         "_deepnote_index_column": "2021-07-27T00:00:00.000000"
        },
        {
         "Close": 258.6099853515625,
         "daily_return": 0.027330829622187913,
         "fast_close": 257.4159362309491,
         "slow_close": 244.16963031171764,
         "crossover_long": 1,
         "crossover_short": 0,
         "crossover_signal": 1,
         "fast_vol": 0.0348142831103296,
         "slow_vol": 0.025627614132610256,
         "vol_trend_long": 0,
         "vol_trend_short": -1,
         "vol_trend_signal": -1,
         "bollinger_mid_band": 246.33249893188477,
         "bollinger_std": 9.443278364211832,
         "bollinger_upper_band": 255.7757772960966,
         "bollinger_lower_band": 236.88922056767294,
         "bollinger_long": 0,
         "bollinger_short": -1,
         "bollinger_signal": -1,
         "_deepnote_index_column": "2021-07-28T00:00:00.000000"
        },
        {
         "Close": 255.27999877929688,
         "daily_return": -0.012876481036641851,
         "fast_close": 256.347967505123,
         "slow_close": 244.91365845091522,
         "crossover_long": 1,
         "crossover_short": 0,
         "crossover_signal": 1,
         "fast_vol": 0.026989889318269643,
         "slow_vol": 0.025149300476064014,
         "vol_trend_long": 0,
         "vol_trend_short": -1,
         "vol_trend_signal": -1,
         "bollinger_mid_band": 246.90649871826173,
         "bollinger_std": 9.62832805636082,
         "bollinger_upper_band": 256.53482677462256,
         "bollinger_lower_band": 237.2781706619009,
         "bollinger_long": 0,
         "bollinger_short": 0,
         "bollinger_signal": 0,
         "_deepnote_index_column": "2021-07-29T00:00:00.000000"
        },
        {
         "Close": 247.25999450683594,
         "daily_return": -0.031416500747458276,
         "fast_close": 251.80398100597947,
         "slow_close": 245.07078555742956,
         "crossover_long": 1,
         "crossover_short": 0,
         "crossover_signal": 1,
         "fast_vol": 0.025482595561655882,
         "slow_vol": 0.02585703985863652,
         "vol_trend_long": 1,
         "vol_trend_short": 0,
         "vol_trend_signal": 1,
         "bollinger_mid_band": 247.17699813842773,
         "bollinger_std": 9.55450504113538,
         "bollinger_upper_band": 256.7315031795631,
         "bollinger_lower_band": 237.62249309729236,
         "bollinger_long": 0,
         "bollinger_short": 0,
         "bollinger_signal": 0,
         "_deepnote_index_column": "2021-07-30T00:00:00.000000"
        },
        {
         "Close": 272.3800048828125,
         "daily_return": 0.10159350859033567,
         "fast_close": 262.091992944396,
         "slow_close": 246.89960227911567,
         "crossover_long": 1,
         "crossover_short": 0,
         "crossover_signal": 1,
         "fast_vol": 0.07519939664806963,
         "slow_vol": 0.035747516367813814,
         "vol_trend_long": 0,
         "vol_trend_short": -1,
         "vol_trend_signal": -1,
         "bollinger_mid_band": 248.74199829101562,
         "bollinger_std": 10.96289541199844,
         "bollinger_upper_band": 259.7048937030141,
         "bollinger_lower_band": 237.7791028790172,
         "bollinger_long": 0,
         "bollinger_short": -1,
         "bollinger_signal": -1,
         "_deepnote_index_column": "2021-08-02T00:00:00.000000"
        },
        {
         "Close": 269.489990234375,
         "daily_return": -0.010610230547873356,
         "fast_close": 265.7909915893855,
         "slow_close": 248.41241298050232,
         "crossover_long": 1,
         "crossover_short": 0,
         "crossover_signal": 1,
         "fast_vol": 0.06216678989971828,
         "slow_vol": 0.03484602481779782,
         "vol_trend_long": 0,
         "vol_trend_short": -1,
         "vol_trend_signal": -1,
         "bollinger_mid_band": 249.88149795532226,
         "bollinger_std": 11.885100471139706,
         "bollinger_upper_band": 261.76659842646194,
         "bollinger_lower_band": 237.99639748418255,
         "bollinger_long": 0,
         "bollinger_short": -1,
         "bollinger_signal": -1,
         "_deepnote_index_column": "2021-08-03T00:00:00.000000"
        },
        {
         "Close": 266.4200134277344,
         "daily_return": -0.01139180273067164,
         "fast_close": 266.10550250855994,
         "slow_close": 249.61832811205392,
         "crossover_long": 1,
         "crossover_short": 0,
         "crossover_signal": 1,
         "fast_vol": 0.046981986141560045,
         "slow_vol": 0.03396771153623619,
         "vol_trend_long": 0,
         "vol_trend_short": -1,
         "vol_trend_signal": -1,
         "bollinger_mid_band": 250.97049865722656,
         "bollinger_std": 12.367587917862059,
         "bollinger_upper_band": 263.3380865750886,
         "bollinger_lower_band": 238.6029107393645,
         "bollinger_long": 0,
         "bollinger_short": -1,
         "bollinger_signal": -1,
         "_deepnote_index_column": "2021-08-04T00:00:00.000000"
        },
        {
         "Close": 281.80999755859375,
         "daily_return": 0.0577658710126665,
         "fast_close": 273.9577500335769,
         "slow_close": 251.77410791232467,
         "crossover_long": 1,
         "crossover_short": 0,
         "crossover_signal": 1,
         "fast_vol": 0.04757832600145984,
         "slow_vol": 0.035415658857565105,
         "vol_trend_long": 0,
         "vol_trend_short": -1,
         "vol_trend_signal": -1,
         "bollinger_mid_band": 253.26599884033203,
         "bollinger_std": 13.620332216649324,
         "bollinger_upper_band": 266.88633105698136,
         "bollinger_lower_band": 239.6456666236827,
         "bollinger_long": 0,
         "bollinger_short": -1,
         "bollinger_signal": -1,
         "_deepnote_index_column": "2021-08-05T00:00:00.000000"
        },
        {
         "Close": 275.1000061035156,
         "daily_return": -0.02381033857282866,
         "fast_close": 274.52887806854625,
         "slow_close": 253.3361735339057,
         "crossover_long": 1,
         "crossover_short": 0,
         "crossover_signal": 1,
         "fast_vol": 0.04707361228226158,
         "slow_vol": 0.035205320330411544,
         "vol_trend_long": 0,
         "vol_trend_short": -1,
         "vol_trend_signal": -1,
         "bollinger_mid_band": 254.9264991760254,
         "bollinger_std": 14.173587048331623,
         "bollinger_upper_band": 269.100086224357,
         "bollinger_lower_band": 240.75291212769378,
         "bollinger_long": 0,
         "bollinger_short": -1,
         "bollinger_signal": -1,
         "_deepnote_index_column": "2021-08-06T00:00:00.000000"
        },
        {
         "Close": 279.7300109863281,
         "daily_return": 0.016830260923623275,
         "fast_close": 277.12944452743716,
         "slow_close": 255.1036898699582,
         "crossover_long": 1,
         "crossover_short": 0,
         "crossover_signal": 1,
         "fast_vol": 0.03433562447557582,
         "slow_vol": 0.034103916325245565,
         "vol_trend_long": 0,
         "vol_trend_short": -1,
         "vol_trend_signal": -1,
         "bollinger_mid_band": 256.745499420166,
         "bollinger_std": 14.924273049418375,
         "bollinger_upper_band": 271.6697724695844,
         "bollinger_lower_band": 241.82122637074764,
         "bollinger_long": 0,
         "bollinger_short": -1,
         "bollinger_signal": -1,
         "_deepnote_index_column": "2021-08-09T00:00:00.000000"
        },
        {
         "Close": 273.0799865722656,
         "daily_return": -0.023773010234456105,
         "fast_close": 275.1047155498514,
         "slow_close": 256.3075086833585,
         "crossover_long": 1,
         "crossover_short": 0,
         "crossover_signal": 1,
         "fast_vol": 0.031874365885245004,
         "slow_vol": 0.03388127590294284,
         "vol_trend_long": 1,
         "vol_trend_short": 0,
         "vol_trend_signal": 1,
         "bollinger_mid_band": 258.32799911499023,
         "bollinger_std": 14.89279093178756,
         "bollinger_upper_band": 273.2207900467778,
         "bollinger_lower_band": 243.43520818320266,
         "bollinger_long": 0,
         "bollinger_short": 0,
         "bollinger_signal": 0,
         "_deepnote_index_column": "2021-08-10T00:00:00.000000"
        }
       ]
      },
      "text/plain": "                 Close  daily_return  fast_close  slow_close  crossover_long  \\\nDate                                                                           \n2019-09-03   61.130001           NaN   61.130001   61.130001             0.0   \n2019-09-04   61.169998      0.000654   61.156666   61.150692             1.0   \n2019-09-05   63.020000      0.030244   62.221428   61.817449             1.0   \n2019-09-06   62.000000     -0.016185   62.103333   61.867936             1.0   \n2019-09-09   61.470001     -0.008548   61.776452   61.776952             0.0   \n...                ...           ...         ...         ...             ...   \n2021-08-04  266.420013     -0.011392  266.105503  249.618328             1.0   \n2021-08-05  281.809998      0.057766  273.957750  251.774108             1.0   \n2021-08-06  275.100006     -0.023810  274.528878  253.336174             1.0   \n2021-08-09  279.730011      0.016830  277.129445  255.103690             1.0   \n2021-08-10  273.079987     -0.023773  275.104716  256.307509             1.0   \n\n            crossover_short  crossover_signal  fast_vol  slow_vol  \\\nDate                                                                \n2019-09-03              0.0               0.0       NaN       NaN   \n2019-09-04              0.0               1.0       NaN       NaN   \n2019-09-05              0.0               1.0  0.020923  0.020923   \n2019-09-06              0.0               1.0  0.026813  0.023824   \n2019-09-09             -1.0              -1.0  0.018274  0.020263   \n...                     ...               ...       ...       ...   \n2021-08-04              0.0               1.0  0.046982  0.033968   \n2021-08-05              0.0               1.0  0.047578  0.035416   \n2021-08-06              0.0               1.0  0.047074  0.035205   \n2021-08-09              0.0               1.0  0.034336  0.034104   \n2021-08-10              0.0               1.0  0.031874  0.033881   \n\n            vol_trend_long  vol_trend_short  vol_trend_signal  \\\nDate                                                            \n2019-09-03             0.0              0.0               0.0   \n2019-09-04             0.0              0.0               0.0   \n2019-09-05             0.0              0.0               0.0   \n2019-09-06             0.0             -1.0              -1.0   \n2019-09-09             1.0              0.0               1.0   \n...                    ...              ...               ...   \n2021-08-04             0.0             -1.0              -1.0   \n2021-08-05             0.0             -1.0              -1.0   \n2021-08-06             0.0             -1.0              -1.0   \n2021-08-09             0.0             -1.0              -1.0   \n2021-08-10             1.0              0.0               1.0   \n\n            bollinger_mid_band  bollinger_std  bollinger_upper_band  \\\nDate                                                                  \n2019-09-03                 NaN            NaN                   NaN   \n2019-09-04                 NaN            NaN                   NaN   \n2019-09-05                 NaN            NaN                   NaN   \n2019-09-06                 NaN            NaN                   NaN   \n2019-09-09                 NaN            NaN                   NaN   \n...                        ...            ...                   ...   \n2021-08-04          250.970499      12.367588            263.338087   \n2021-08-05          253.265999      13.620332            266.886331   \n2021-08-06          254.926499      14.173587            269.100086   \n2021-08-09          256.745499      14.924273            271.669772   \n2021-08-10          258.327999      14.892791            273.220790   \n\n            bollinger_lower_band  bollinger_long  bollinger_short  \\\nDate                                                                \n2019-09-03                   NaN             0.0              0.0   \n2019-09-04                   NaN             0.0              0.0   \n2019-09-05                   NaN             0.0              0.0   \n2019-09-06                   NaN             0.0              0.0   \n2019-09-09                   NaN             0.0              0.0   \n...                          ...             ...              ...   \n2021-08-04            238.602911             0.0             -1.0   \n2021-08-05            239.645667             0.0             -1.0   \n2021-08-06            240.752912             0.0             -1.0   \n2021-08-09            241.821226             0.0             -1.0   \n2021-08-10            243.435208             0.0              0.0   \n\n            bollinger_signal  \nDate                          \n2019-09-03               0.0  \n2019-09-04               0.0  \n2019-09-05               0.0  \n2019-09-06               0.0  \n2019-09-09               0.0  \n...                      ...  \n2021-08-04              -1.0  \n2021-08-05              -1.0  \n2021-08-06              -1.0  \n2021-08-09              -1.0  \n2021-08-10               0.0  \n\n[489 rows x 19 columns]",
      "text/html": "<div>\n<style scoped>\n    .dataframe tbody tr th:only-of-type {\n        vertical-align: middle;\n    }\n\n    .dataframe tbody tr th {\n        vertical-align: top;\n    }\n\n    .dataframe thead th {\n        text-align: right;\n    }\n</style>\n<table border=\"1\" class=\"dataframe\">\n  <thead>\n    <tr style=\"text-align: right;\">\n      <th></th>\n      <th>Close</th>\n      <th>daily_return</th>\n      <th>fast_close</th>\n      <th>slow_close</th>\n      <th>crossover_long</th>\n      <th>crossover_short</th>\n      <th>crossover_signal</th>\n      <th>fast_vol</th>\n      <th>slow_vol</th>\n      <th>vol_trend_long</th>\n      <th>vol_trend_short</th>\n      <th>vol_trend_signal</th>\n      <th>bollinger_mid_band</th>\n      <th>bollinger_std</th>\n      <th>bollinger_upper_band</th>\n      <th>bollinger_lower_band</th>\n      <th>bollinger_long</th>\n      <th>bollinger_short</th>\n      <th>bollinger_signal</th>\n    </tr>\n    <tr>\n      <th>Date</th>\n      <th></th>\n      <th></th>\n      <th></th>\n      <th></th>\n      <th></th>\n      <th></th>\n      <th></th>\n      <th></th>\n      <th></th>\n      <th></th>\n      <th></th>\n      <th></th>\n      <th></th>\n      <th></th>\n      <th></th>\n      <th></th>\n      <th></th>\n      <th></th>\n      <th></th>\n    </tr>\n  </thead>\n  <tbody>\n    <tr>\n      <th>2019-09-03</th>\n      <td>61.130001</td>\n      <td>NaN</td>\n      <td>61.130001</td>\n      <td>61.130001</td>\n      <td>0.0</td>\n      <td>0.0</td>\n      <td>0.0</td>\n      <td>NaN</td>\n      <td>NaN</td>\n      <td>0.0</td>\n      <td>0.0</td>\n      <td>0.0</td>\n      <td>NaN</td>\n      <td>NaN</td>\n      <td>NaN</td>\n      <td>NaN</td>\n      <td>0.0</td>\n      <td>0.0</td>\n      <td>0.0</td>\n    </tr>\n    <tr>\n      <th>2019-09-04</th>\n      <td>61.169998</td>\n      <td>0.000654</td>\n      <td>61.156666</td>\n      <td>61.150692</td>\n      <td>1.0</td>\n      <td>0.0</td>\n      <td>1.0</td>\n      <td>NaN</td>\n      <td>NaN</td>\n      <td>0.0</td>\n      <td>0.0</td>\n      <td>0.0</td>\n      <td>NaN</td>\n      <td>NaN</td>\n      <td>NaN</td>\n      <td>NaN</td>\n      <td>0.0</td>\n      <td>0.0</td>\n      <td>0.0</td>\n    </tr>\n    <tr>\n      <th>2019-09-05</th>\n      <td>63.020000</td>\n      <td>0.030244</td>\n      <td>62.221428</td>\n      <td>61.817449</td>\n      <td>1.0</td>\n      <td>0.0</td>\n      <td>1.0</td>\n      <td>0.020923</td>\n      <td>0.020923</td>\n      <td>0.0</td>\n      <td>0.0</td>\n      <td>0.0</td>\n      <td>NaN</td>\n      <td>NaN</td>\n      <td>NaN</td>\n      <td>NaN</td>\n      <td>0.0</td>\n      <td>0.0</td>\n      <td>0.0</td>\n    </tr>\n    <tr>\n      <th>2019-09-06</th>\n      <td>62.000000</td>\n      <td>-0.016185</td>\n      <td>62.103333</td>\n      <td>61.867936</td>\n      <td>1.0</td>\n      <td>0.0</td>\n      <td>1.0</td>\n      <td>0.026813</td>\n      <td>0.023824</td>\n      <td>0.0</td>\n      <td>-1.0</td>\n      <td>-1.0</td>\n      <td>NaN</td>\n      <td>NaN</td>\n      <td>NaN</td>\n      <td>NaN</td>\n      <td>0.0</td>\n      <td>0.0</td>\n      <td>0.0</td>\n    </tr>\n    <tr>\n      <th>2019-09-09</th>\n      <td>61.470001</td>\n      <td>-0.008548</td>\n      <td>61.776452</td>\n      <td>61.776952</td>\n      <td>0.0</td>\n      <td>-1.0</td>\n      <td>-1.0</td>\n      <td>0.018274</td>\n      <td>0.020263</td>\n      <td>1.0</td>\n      <td>0.0</td>\n      <td>1.0</td>\n      <td>NaN</td>\n      <td>NaN</td>\n      <td>NaN</td>\n      <td>NaN</td>\n      <td>0.0</td>\n      <td>0.0</td>\n      <td>0.0</td>\n    </tr>\n    <tr>\n      <th>...</th>\n      <td>...</td>\n      <td>...</td>\n      <td>...</td>\n      <td>...</td>\n      <td>...</td>\n      <td>...</td>\n      <td>...</td>\n      <td>...</td>\n      <td>...</td>\n      <td>...</td>\n      <td>...</td>\n      <td>...</td>\n      <td>...</td>\n      <td>...</td>\n      <td>...</td>\n      <td>...</td>\n      <td>...</td>\n      <td>...</td>\n      <td>...</td>\n    </tr>\n    <tr>\n      <th>2021-08-04</th>\n      <td>266.420013</td>\n      <td>-0.011392</td>\n      <td>266.105503</td>\n      <td>249.618328</td>\n      <td>1.0</td>\n      <td>0.0</td>\n      <td>1.0</td>\n      <td>0.046982</td>\n      <td>0.033968</td>\n      <td>0.0</td>\n      <td>-1.0</td>\n      <td>-1.0</td>\n      <td>250.970499</td>\n      <td>12.367588</td>\n      <td>263.338087</td>\n      <td>238.602911</td>\n      <td>0.0</td>\n      <td>-1.0</td>\n      <td>-1.0</td>\n    </tr>\n    <tr>\n      <th>2021-08-05</th>\n      <td>281.809998</td>\n      <td>0.057766</td>\n      <td>273.957750</td>\n      <td>251.774108</td>\n      <td>1.0</td>\n      <td>0.0</td>\n      <td>1.0</td>\n      <td>0.047578</td>\n      <td>0.035416</td>\n      <td>0.0</td>\n      <td>-1.0</td>\n      <td>-1.0</td>\n      <td>253.265999</td>\n      <td>13.620332</td>\n      <td>266.886331</td>\n      <td>239.645667</td>\n      <td>0.0</td>\n      <td>-1.0</td>\n      <td>-1.0</td>\n    </tr>\n    <tr>\n      <th>2021-08-06</th>\n      <td>275.100006</td>\n      <td>-0.023810</td>\n      <td>274.528878</td>\n      <td>253.336174</td>\n      <td>1.0</td>\n      <td>0.0</td>\n      <td>1.0</td>\n      <td>0.047074</td>\n      <td>0.035205</td>\n      <td>0.0</td>\n      <td>-1.0</td>\n      <td>-1.0</td>\n      <td>254.926499</td>\n      <td>14.173587</td>\n      <td>269.100086</td>\n      <td>240.752912</td>\n      <td>0.0</td>\n      <td>-1.0</td>\n      <td>-1.0</td>\n    </tr>\n    <tr>\n      <th>2021-08-09</th>\n      <td>279.730011</td>\n      <td>0.016830</td>\n      <td>277.129445</td>\n      <td>255.103690</td>\n      <td>1.0</td>\n      <td>0.0</td>\n      <td>1.0</td>\n      <td>0.034336</td>\n      <td>0.034104</td>\n      <td>0.0</td>\n      <td>-1.0</td>\n      <td>-1.0</td>\n      <td>256.745499</td>\n      <td>14.924273</td>\n      <td>271.669772</td>\n      <td>241.821226</td>\n      <td>0.0</td>\n      <td>-1.0</td>\n      <td>-1.0</td>\n    </tr>\n    <tr>\n      <th>2021-08-10</th>\n      <td>273.079987</td>\n      <td>-0.023773</td>\n      <td>275.104716</td>\n      <td>256.307509</td>\n      <td>1.0</td>\n      <td>0.0</td>\n      <td>1.0</td>\n      <td>0.031874</td>\n      <td>0.033881</td>\n      <td>1.0</td>\n      <td>0.0</td>\n      <td>1.0</td>\n      <td>258.327999</td>\n      <td>14.892791</td>\n      <td>273.220790</td>\n      <td>243.435208</td>\n      <td>0.0</td>\n      <td>0.0</td>\n      <td>0.0</td>\n    </tr>\n  </tbody>\n</table>\n<p>489 rows × 19 columns</p>\n</div>"
     },
     "metadata": {}
    }
   ],
   "execution_count": null
  },
  {
   "cell_type": "code",
   "metadata": {
    "tags": [],
    "cell_id": "00008-8a567ff1-a4e4-4063-8f96-4b420ade5684",
    "deepnote_to_be_reexecuted": false,
    "source_hash": "c4493577",
    "execution_start": 1629328351796,
    "execution_millis": 481,
    "deepnote_cell_type": "code"
   },
   "source": "# Plot the Bollinger Bands for BTC/USD closing prices\nsq[['Close','bollinger_mid_band','bollinger_upper_band','bollinger_lower_band']].plot(figsize=(20,10))",
   "outputs": [
    {
     "output_type": "execute_result",
     "execution_count": 9,
     "data": {
      "text/plain": "<AxesSubplot:xlabel='Date'>"
     },
     "metadata": {}
    },
    {
     "data": {
      "text/plain": "<Figure size 1440x720 with 1 Axes>",
      "image/png": "[encoded data removed]"
     },
     "metadata": {
      "image/png": {
       "width": 1297,
       "height": 570
      }
     },
     "output_type": "display_data"
    }
   ],
   "execution_count": null
  },
  {
   "cell_type": "code",
   "metadata": {
    "tags": [],
    "cell_id": "00009-f8371351-6dcd-4dea-b99c-9033c68cf3e9",
    "deepnote_to_be_reexecuted": false,
    "source_hash": "e63c54a2",
    "execution_start": 1629328352298,
    "execution_millis": 3,
    "deepnote_cell_type": "code"
   },
   "source": "def implement_bb_strategy(data, lower_bb, upper_bb):\n    buy_price = []\n    sell_price = []\n    bb_signal = []\n    signal = 0\n    \n    for i in range(len(data)):\n        if data[i-1] > lower_bb[i-1] and data[i] < lower_bb[i]:\n            if signal != 1:\n                buy_price.append(data[i])\n                sell_price.append(np.nan)\n                signal = 1\n                bb_signal.append(signal)\n            else:\n                buy_price.append(np.nan)\n                sell_price.append(np.nan)\n                bb_signal.append(0)\n        elif data[i-1] < upper_bb[i-1] and data[i] > upper_bb[i]:\n            if signal != -1:\n                buy_price.append(np.nan)\n                sell_price.append(data[i])\n                signal = -1\n                bb_signal.append(signal)\n            else:\n                buy_price.append(np.nan)\n                sell_price.append(np.nan)\n                bb_signal.append(0)\n        else:\n            buy_price.append(np.nan)\n            sell_price.append(np.nan)\n            bb_signal.append(0)\n            \n    return buy_price, sell_price, bb_signal\n\nbuy_price, sell_price, bb_signal = implement_bb_strategy(sq['Close'], sq['bollinger_lower_band'], sq['bollinger_upper_band'])",
   "outputs": [],
   "execution_count": null
  },
  {
   "cell_type": "code",
   "metadata": {
    "tags": [],
    "cell_id": "00010-f986dfb1-a94e-4934-87ac-19bd61bf7d3b",
    "deepnote_to_be_reexecuted": false,
    "source_hash": "ff143fe",
    "execution_start": 1629328352308,
    "execution_millis": 0,
    "deepnote_cell_type": "code"
   },
   "source": "import math",
   "outputs": [],
   "execution_count": null
  },
  {
   "cell_type": "code",
   "metadata": {
    "tags": [],
    "cell_id": "00010-0a1e7a58-a50d-4dde-93df-8f85adc5d53e",
    "deepnote_to_be_reexecuted": false,
    "source_hash": "d4584e9",
    "execution_start": 1629328352318,
    "execution_millis": 576,
    "deepnote_cell_type": "code"
   },
   "source": "# PLOT TRADE SIGNALS\nsq['Close'].plot(label = 'CLOSE PRICES', alpha = 0.3)\nsq['bollinger_upper_band'].plot(label = 'UPPER BB', linestyle = '--', linewidth = 1, color = 'black')\nsq['bollinger_mid_band'].plot(label = 'MIDDLE BB', linestyle = '--', linewidth = 1.2, color = 'grey')\nsq['bollinger_lower_band'].plot(label = 'LOWER BB', linestyle = '--', linewidth = 1, color = 'black')\nplt.scatter(sq.index, buy_price, marker = '^', color = 'green', label = 'BUY', s = 200)\nplt.scatter(sq.index, sell_price, marker = 'v', color = 'red', label = 'SELL', s = 200)\nplt.title('SQ BB STRATEGY TRADING SIGNALS')\nplt.legend(loc = 'upper left')\nplt.show()",
   "outputs": [
    {
     "data": {
      "text/plain": "<Figure size 1440x720 with 1 Axes>",
      "image/png": "[encoded data removed]"
     },
     "metadata": {
      "image/png": {
       "width": 1297,
       "height": 591
      }
     },
     "output_type": "display_data"
    }
   ],
   "execution_count": null
  },
  {
   "cell_type": "code",
   "metadata": {
    "tags": [],
    "cell_id": "00012-794d1a41-85b4-4c94-9cd0-0772202af9ff",
    "deepnote_to_be_reexecuted": false,
    "source_hash": "1c9757b5",
    "execution_start": 1629328352901,
    "execution_millis": 119,
    "deepnote_cell_type": "code"
   },
   "source": "position = []\nbb_signal = sq['bollinger_signal']\nfor i in range(len(bb_signal)):\n    if bb_signal[i] > 1:\n        position.append(0)\n    else:\n        position.append(1)\n        \nfor i in range(len(sq['Close'])):\n    if bb_signal[i] == 1:\n        position[i] = 1\n    elif bb_signal[i] == -1:\n        position[i] = 0\n    else:\n        position[i] = position[i-1]\n        \nupper_bb = sq['bollinger_upper_band']\nlower_bb = sq['bollinger_lower_band']\nclose_price = sq['Close']\nbb_signal = pd.DataFrame(bb_signal).rename(columns = {0:'bb_signal'}).set_index(sq.index)\nposition = pd.DataFrame(position).rename(columns = {0:'bb_position'}).set_index(sq.index)\n\nframes = [close_price, upper_bb, lower_bb, bb_signal, position]\nstrategy = pd.concat(frames, join = 'inner', axis = 1)\n# strategy = strategy.reset_index().drop('Date', axis = 1)\n\nstrategy",
   "outputs": [
    {
     "output_type": "execute_result",
     "execution_count": 13,
     "data": {
      "application/vnd.deepnote.dataframe.v2+json": {
       "row_count": 489,
       "column_count": 5,
       "columns": [
        {
         "name": "Close",
         "dtype": "float64",
         "stats": {
          "unique_count": 478,
          "nan_count": 0,
          "min": "38.09000015258789",
          "max": "281.80999755859375",
          "histogram": [
           {
            "bin_start": 38.09000015258789,
            "bin_end": 62.46199989318848,
            "count": 76
           },
           {
            "bin_start": 62.46199989318848,
            "bin_end": 86.83399963378906,
            "count": 114
           },
           {
            "bin_start": 86.83399963378906,
            "bin_end": 111.20599937438965,
            "count": 19
           },
           {
            "bin_start": 111.20599937438965,
            "bin_end": 135.57799911499023,
            "count": 23
           },
           {
            "bin_start": 135.57799911499023,
            "bin_end": 159.94999885559082,
            "count": 39
           },
           {
            "bin_start": 159.94999885559082,
            "bin_end": 184.3219985961914,
            "count": 26
           },
           {
            "bin_start": 184.3219985961914,
            "bin_end": 208.693998336792,
            "count": 32
           },
           {
            "bin_start": 208.693998336792,
            "bin_end": 233.06599807739258,
            "count": 74
           },
           {
            "bin_start": 233.06599807739258,
            "bin_end": 257.43799781799316,
            "count": 59
           },
           {
            "bin_start": 257.43799781799316,
            "bin_end": 281.80999755859375,
            "count": 27
           }
          ]
         }
        },
        {
         "name": "bollinger_upper_band",
         "dtype": "float64",
         "stats": {
          "unique_count": 470,
          "nan_count": 19,
          "min": "54.63642970700963",
          "max": "273.2207900467778",
          "histogram": [
           {
            "bin_start": 54.63642970700963,
            "bin_end": 76.49486574098646,
            "count": 127
           },
           {
            "bin_start": 76.49486574098646,
            "bin_end": 98.35330177496326,
            "count": 58
           },
           {
            "bin_start": 98.35330177496326,
            "bin_end": 120.21173780894009,
            "count": 11
           },
           {
            "bin_start": 120.21173780894009,
            "bin_end": 142.0701738429169,
            "count": 24
           },
           {
            "bin_start": 142.0701738429169,
            "bin_end": 163.92860987689372,
            "count": 36
           },
           {
            "bin_start": 163.92860987689372,
            "bin_end": 185.78704591087052,
            "count": 13
           },
           {
            "bin_start": 185.78704591087052,
            "bin_end": 207.64548194484732,
            "count": 30
           },
           {
            "bin_start": 207.64548194484732,
            "bin_end": 229.50391797882415,
            "count": 29
           },
           {
            "bin_start": 229.50391797882415,
            "bin_end": 251.36235401280098,
            "count": 81
           },
           {
            "bin_start": 251.36235401280098,
            "bin_end": 273.2207900467778,
            "count": 61
           }
          ]
         }
        },
        {
         "name": "bollinger_lower_band",
         "dtype": "float64",
         "stats": {
          "unique_count": 470,
          "nan_count": 19,
          "min": "41.24822151066156",
          "max": "243.43520818320266",
          "histogram": [
           {
            "bin_start": 41.24822151066156,
            "bin_end": 61.46692017791567,
            "count": 84
           },
           {
            "bin_start": 61.46692017791567,
            "bin_end": 81.68561884516978,
            "count": 97
           },
           {
            "bin_start": 81.68561884516978,
            "bin_end": 101.90431751242389,
            "count": 19
           },
           {
            "bin_start": 101.90431751242389,
            "bin_end": 122.12301617967799,
            "count": 19
           },
           {
            "bin_start": 122.12301617967799,
            "bin_end": 142.3417148469321,
            "count": 14
           },
           {
            "bin_start": 142.3417148469321,
            "bin_end": 162.56041351418622,
            "count": 35
           },
           {
            "bin_start": 162.56041351418622,
            "bin_end": 182.77911218144033,
            "count": 33
           },
           {
            "bin_start": 182.77911218144033,
            "bin_end": 202.99781084869443,
            "count": 15
           },
           {
            "bin_start": 202.99781084869443,
            "bin_end": 223.21650951594853,
            "count": 105
           },
           {
            "bin_start": 223.21650951594853,
            "bin_end": 243.43520818320266,
            "count": 49
           }
          ]
         }
        },
        {
         "name": "bollinger_signal",
         "dtype": "float64",
         "stats": {
          "unique_count": 3,
          "nan_count": 0,
          "min": "-1.0",
          "max": "1.0",
          "histogram": [
           {
            "bin_start": -1,
            "bin_end": -0.8,
            "count": 212
           },
           {
            "bin_start": -0.8,
            "bin_end": -0.6,
            "count": 0
           },
           {
            "bin_start": -0.6,
            "bin_end": -0.3999999999999999,
            "count": 0
           },
           {
            "bin_start": -0.3999999999999999,
            "bin_end": -0.19999999999999996,
            "count": 0
           },
           {
            "bin_start": -0.19999999999999996,
            "bin_end": 0,
            "count": 0
           },
           {
            "bin_start": 0,
            "bin_end": 0.20000000000000018,
            "count": 209
           },
           {
            "bin_start": 0.20000000000000018,
            "bin_end": 0.40000000000000013,
            "count": 0
           },
           {
            "bin_start": 0.40000000000000013,
            "bin_end": 0.6000000000000001,
            "count": 0
           },
           {
            "bin_start": 0.6000000000000001,
            "bin_end": 0.8,
            "count": 0
           },
           {
            "bin_start": 0.8,
            "bin_end": 1,
            "count": 68
           }
          ]
         }
        },
        {
         "name": "bb_position",
         "dtype": "int64",
         "stats": {
          "unique_count": 2,
          "nan_count": 0,
          "min": "0",
          "max": "1",
          "histogram": [
           {
            "bin_start": 0,
            "bin_end": 0.1,
            "count": 324
           },
           {
            "bin_start": 0.1,
            "bin_end": 0.2,
            "count": 0
           },
           {
            "bin_start": 0.2,
            "bin_end": 0.30000000000000004,
            "count": 0
           },
           {
            "bin_start": 0.30000000000000004,
            "bin_end": 0.4,
            "count": 0
           },
           {
            "bin_start": 0.4,
            "bin_end": 0.5,
            "count": 0
           },
           {
            "bin_start": 0.5,
            "bin_end": 0.6000000000000001,
            "count": 0
           },
           {
            "bin_start": 0.6000000000000001,
            "bin_end": 0.7000000000000001,
            "count": 0
           },
           {
            "bin_start": 0.7000000000000001,
            "bin_end": 0.8,
            "count": 0
           },
           {
            "bin_start": 0.8,
            "bin_end": 0.9,
            "count": 0
           },
           {
            "bin_start": 0.9,
            "bin_end": 1,
            "count": 165
           }
          ]
         }
        },
        {
         "name": "_deepnote_index_column",
         "dtype": "datetime64[ns]"
        }
       ],
       "rows_top": [
        {
         "Close": 61.130001068115234,
         "bollinger_upper_band": "nan",
         "bollinger_lower_band": "nan",
         "bollinger_signal": 0,
         "bb_position": 1,
         "_deepnote_index_column": "2019-09-03T00:00:00.000000"
        },
        {
         "Close": 61.16999816894531,
         "bollinger_upper_band": "nan",
         "bollinger_lower_band": "nan",
         "bollinger_signal": 0,
         "bb_position": 1,
         "_deepnote_index_column": "2019-09-04T00:00:00.000000"
        },
        {
         "Close": 63.02000045776367,
         "bollinger_upper_band": "nan",
         "bollinger_lower_band": "nan",
         "bollinger_signal": 0,
         "bb_position": 1,
         "_deepnote_index_column": "2019-09-05T00:00:00.000000"
        },
        {
         "Close": 62,
         "bollinger_upper_band": "nan",
         "bollinger_lower_band": "nan",
         "bollinger_signal": 0,
         "bb_position": 1,
         "_deepnote_index_column": "2019-09-06T00:00:00.000000"
        },
        {
         "Close": 61.470001220703125,
         "bollinger_upper_band": "nan",
         "bollinger_lower_band": "nan",
         "bollinger_signal": 0,
         "bb_position": 1,
         "_deepnote_index_column": "2019-09-09T00:00:00.000000"
        },
        {
         "Close": 60.54999923706055,
         "bollinger_upper_band": "nan",
         "bollinger_lower_band": "nan",
         "bollinger_signal": 0,
         "bb_position": 1,
         "_deepnote_index_column": "2019-09-10T00:00:00.000000"
        },
        {
         "Close": 59.20000076293945,
         "bollinger_upper_band": "nan",
         "bollinger_lower_band": "nan",
         "bollinger_signal": 0,
         "bb_position": 1,
         "_deepnote_index_column": "2019-09-11T00:00:00.000000"
        },
        {
         "Close": 57.790000915527344,
         "bollinger_upper_band": "nan",
         "bollinger_lower_band": "nan",
         "bollinger_signal": 0,
         "bb_position": 1,
         "_deepnote_index_column": "2019-09-12T00:00:00.000000"
        },
        {
         "Close": 58.290000915527344,
         "bollinger_upper_band": "nan",
         "bollinger_lower_band": "nan",
         "bollinger_signal": 0,
         "bb_position": 1,
         "_deepnote_index_column": "2019-09-13T00:00:00.000000"
        },
        {
         "Close": 59.25,
         "bollinger_upper_band": "nan",
         "bollinger_lower_band": "nan",
         "bollinger_signal": 0,
         "bb_position": 1,
         "_deepnote_index_column": "2019-09-16T00:00:00.000000"
        },
        {
         "Close": 59.599998474121094,
         "bollinger_upper_band": "nan",
         "bollinger_lower_band": "nan",
         "bollinger_signal": 0,
         "bb_position": 1,
         "_deepnote_index_column": "2019-09-17T00:00:00.000000"
        },
        {
         "Close": 59.75,
         "bollinger_upper_band": "nan",
         "bollinger_lower_band": "nan",
         "bollinger_signal": 0,
         "bb_position": 1,
         "_deepnote_index_column": "2019-09-18T00:00:00.000000"
        },
        {
         "Close": 59.029998779296875,
         "bollinger_upper_band": "nan",
         "bollinger_lower_band": "nan",
         "bollinger_signal": 0,
         "bb_position": 1,
         "_deepnote_index_column": "2019-09-19T00:00:00.000000"
        },
        {
         "Close": 57.849998474121094,
         "bollinger_upper_band": "nan",
         "bollinger_lower_band": "nan",
         "bollinger_signal": 0,
         "bb_position": 1,
         "_deepnote_index_column": "2019-09-20T00:00:00.000000"
        },
        {
         "Close": 56.7599983215332,
         "bollinger_upper_band": "nan",
         "bollinger_lower_band": "nan",
         "bollinger_signal": 0,
         "bb_position": 1,
         "_deepnote_index_column": "2019-09-23T00:00:00.000000"
        },
        {
         "Close": 57.5,
         "bollinger_upper_band": "nan",
         "bollinger_lower_band": "nan",
         "bollinger_signal": 0,
         "bb_position": 1,
         "_deepnote_index_column": "2019-09-24T00:00:00.000000"
        },
        {
         "Close": 58.5099983215332,
         "bollinger_upper_band": "nan",
         "bollinger_lower_band": "nan",
         "bollinger_signal": 0,
         "bb_position": 1,
         "_deepnote_index_column": "2019-09-25T00:00:00.000000"
        },
        {
         "Close": 60.79999923706055,
         "bollinger_upper_band": "nan",
         "bollinger_lower_band": "nan",
         "bollinger_signal": 0,
         "bb_position": 1,
         "_deepnote_index_column": "2019-09-26T00:00:00.000000"
        },
        {
         "Close": 60.75,
         "bollinger_upper_band": "nan",
         "bollinger_lower_band": "nan",
         "bollinger_signal": 0,
         "bb_position": 1,
         "_deepnote_index_column": "2019-09-27T00:00:00.000000"
        },
        {
         "Close": 61.95000076293945,
         "bollinger_upper_band": 61.54049486949209,
         "bollinger_lower_band": 58.09650464222666,
         "bollinger_signal": -1,
         "bb_position": 0,
         "_deepnote_index_column": "2019-09-30T00:00:00.000000"
        },
        {
         "Close": 61.630001068115234,
         "bollinger_upper_band": 61.5890064319367,
         "bollinger_lower_band": 58.09799307978205,
         "bollinger_signal": -1,
         "bb_position": 0,
         "_deepnote_index_column": "2019-10-01T00:00:00.000000"
        },
        {
         "Close": 60.08000183105469,
         "bollinger_upper_band": 61.507720518184065,
         "bollinger_lower_band": 58.07027935974562,
         "bollinger_signal": 0,
         "bb_position": 0,
         "_deepnote_index_column": "2019-10-02T00:00:00.000000"
        },
        {
         "Close": 62.04999923706055,
         "bollinger_upper_band": 61.37486304884277,
         "bollinger_lower_band": 58.1061367070166,
         "bollinger_signal": -1,
         "bb_position": 0,
         "_deepnote_index_column": "2019-10-03T00:00:00.000000"
        },
        {
         "Close": 62.650001525878906,
         "bollinger_upper_band": 61.46026573450569,
         "bollinger_lower_band": 58.08573417394158,
         "bollinger_signal": -1,
         "bb_position": 0,
         "_deepnote_index_column": "2019-10-04T00:00:00.000000"
        },
        {
         "Close": 62.25,
         "bollinger_upper_band": 61.54884134697847,
         "bollinger_lower_band": 58.075158439398486,
         "bollinger_signal": -1,
         "bb_position": 0,
         "_deepnote_index_column": "2019-10-07T00:00:00.000000"
        },
        {
         "Close": 60.79999923706055,
         "bollinger_upper_band": 61.567819792394694,
         "bollinger_lower_band": 58.08117999398225,
         "bollinger_signal": 0,
         "bb_position": 0,
         "_deepnote_index_column": "2019-10-08T00:00:00.000000"
        },
        {
         "Close": 62.220001220703125,
         "bollinger_upper_band": 61.79117042375488,
         "bollinger_lower_band": 58.15982940839844,
         "bollinger_signal": -1,
         "bb_position": 0,
         "_deepnote_index_column": "2019-10-09T00:00:00.000000"
        },
        {
         "Close": 62.029998779296875,
         "bollinger_upper_band": 61.98196804980663,
         "bollinger_lower_band": 58.393031568723636,
         "bollinger_signal": -1,
         "bb_position": 0,
         "_deepnote_index_column": "2019-10-10T00:00:00.000000"
        },
        {
         "Close": 61.540000915527344,
         "bollinger_upper_band": 62.11042501583544,
         "bollinger_lower_band": 58.58957460269483,
         "bollinger_signal": 0,
         "bb_position": 0,
         "_deepnote_index_column": "2019-10-11T00:00:00.000000"
        },
        {
         "Close": 61.83000183105469,
         "bollinger_upper_band": 62.24907910187579,
         "bollinger_lower_band": 58.70892069975994,
         "bollinger_signal": 0,
         "bb_position": 0,
         "_deepnote_index_column": "2019-10-14T00:00:00.000000"
        },
        {
         "Close": 64.29000091552734,
         "bollinger_upper_band": 62.662611915969926,
         "bollinger_lower_band": 58.76438812980644,
         "bollinger_signal": -1,
         "bb_position": 0,
         "_deepnote_index_column": "2019-10-15T00:00:00.000000"
        },
        {
         "Close": 63,
         "bollinger_upper_band": 62.87538586430797,
         "bollinger_lower_band": 58.8766141814684,
         "bollinger_signal": -1,
         "bb_position": 0,
         "_deepnote_index_column": "2019-10-16T00:00:00.000000"
        },
        {
         "Close": 63.400001525878906,
         "bollinger_upper_band": 63.120142980995425,
         "bollinger_lower_band": 59.06885733943915,
         "bollinger_signal": -1,
         "bb_position": 0,
         "_deepnote_index_column": "2019-10-17T00:00:00.000000"
        },
        {
         "Close": 60.45000076293945,
         "bollinger_upper_band": 63.10950949698588,
         "bollinger_lower_band": 59.33949105233053,
         "bollinger_signal": 0,
         "bb_position": 0,
         "_deepnote_index_column": "2019-10-18T00:00:00.000000"
        },
        {
         "Close": 61.150001525878906,
         "bollinger_upper_band": 63.01045976060866,
         "bollinger_lower_band": 59.87754110914232,
         "bollinger_signal": 0,
         "bb_position": 0,
         "_deepnote_index_column": "2019-10-21T00:00:00.000000"
        },
        {
         "Close": 58.83000183105469,
         "bollinger_upper_band": 62.92120221057247,
         "bollinger_lower_band": 60.09979884228398,
         "bollinger_signal": 1,
         "bb_position": 1,
         "_deepnote_index_column": "2019-10-22T00:00:00.000000"
        },
        {
         "Close": 58.36000061035156,
         "bollinger_upper_band": 62.93078908283568,
         "bollinger_lower_band": 60.0752121989026,
         "bollinger_signal": 1,
         "bb_position": 1,
         "_deepnote_index_column": "2019-10-23T00:00:00.000000"
        },
        {
         "Close": 61.720001220703125,
         "bollinger_upper_band": 62.96773952318612,
         "bollinger_lower_band": 60.13026195691642,
         "bollinger_signal": 0,
         "bb_position": 1,
         "_deepnote_index_column": "2019-10-24T00:00:00.000000"
        },
        {
         "Close": 62.88999938964844,
         "bollinger_upper_band": 63.091902595327205,
         "bollinger_lower_band": 60.22009882374018,
         "bollinger_signal": 0,
         "bb_position": 1,
         "_deepnote_index_column": "2019-10-25T00:00:00.000000"
        },
        {
         "Close": 62.79999923706055,
         "bollinger_upper_band": 63.15597938664926,
         "bollinger_lower_band": 60.241021879830235,
         "bollinger_signal": 0,
         "bb_position": 1,
         "_deepnote_index_column": "2019-10-28T00:00:00.000000"
        },
        {
         "Close": 62.40999984741211,
         "bollinger_upper_band": 63.203461027130466,
         "bollinger_lower_band": 60.27154011727871,
         "bollinger_signal": 0,
         "bb_position": 1,
         "_deepnote_index_column": "2019-10-29T00:00:00.000000"
        },
        {
         "Close": 62.15999984741211,
         "bollinger_upper_band": 63.256581743256156,
         "bollinger_lower_band": 60.42641920278877,
         "bollinger_signal": 0,
         "bb_position": 1,
         "_deepnote_index_column": "2019-10-30T00:00:00.000000"
        },
        {
         "Close": 61.43000030517578,
         "bollinger_upper_band": 63.22756357048343,
         "bollinger_lower_band": 60.39343748237301,
         "bollinger_signal": 0,
         "bb_position": 1,
         "_deepnote_index_column": "2019-10-31T00:00:00.000000"
        },
        {
         "Close": 62.599998474121094,
         "bollinger_upper_band": 63.223547614342756,
         "bollinger_lower_band": 60.3924531333379,
         "bollinger_signal": 0,
         "bb_position": 1,
         "_deepnote_index_column": "2019-11-01T00:00:00.000000"
        },
        {
         "Close": 62.380001068115234,
         "bollinger_upper_band": 63.23248049396493,
         "bollinger_lower_band": 60.39652036052726,
         "bollinger_signal": 0,
         "bb_position": 1,
         "_deepnote_index_column": "2019-11-04T00:00:00.000000"
        },
        {
         "Close": 61.060001373291016,
         "bollinger_upper_band": 63.23685570621813,
         "bollinger_lower_band": 60.41814536189711,
         "bollinger_signal": 0,
         "bb_position": 1,
         "_deepnote_index_column": "2019-11-05T00:00:00.000000"
        },
        {
         "Close": 61.34000015258789,
         "bollinger_upper_band": 63.19369340816843,
         "bollinger_lower_band": 60.37330755313528,
         "bollinger_signal": 0,
         "bb_position": 1,
         "_deepnote_index_column": "2019-11-06T00:00:00.000000"
        },
        {
         "Close": 64.41000366210938,
         "bollinger_upper_band": 63.43011968652067,
         "bollinger_lower_band": 60.374881763064295,
         "bollinger_signal": -1,
         "bb_position": 0,
         "_deepnote_index_column": "2019-11-07T00:00:00.000000"
        },
        {
         "Close": 62.45000076293945,
         "bollinger_upper_band": 63.477804958962764,
         "bollinger_lower_band": 60.4181964753634,
         "bollinger_signal": 0,
         "bb_position": 0,
         "_deepnote_index_column": "2019-11-08T00:00:00.000000"
        },
        {
         "Close": 63.790000915527344,
         "bollinger_upper_band": 63.62967861112454,
         "bollinger_lower_band": 60.462322731648904,
         "bollinger_signal": -1,
         "bb_position": 0,
         "_deepnote_index_column": "2019-11-11T00:00:00.000000"
        },
        {
         "Close": 61.540000915527344,
         "bollinger_upper_band": 63.40402124923629,
         "bollinger_lower_band": 60.41298009353715,
         "bollinger_signal": 0,
         "bb_position": 0,
         "_deepnote_index_column": "2019-11-12T00:00:00.000000"
        },
        {
         "Close": 61.5099983215332,
         "bollinger_upper_band": 63.30926117577424,
         "bollinger_lower_band": 60.35873999915252,
         "bollinger_signal": 0,
         "bb_position": 0,
         "_deepnote_index_column": "2019-11-13T00:00:00.000000"
        },
        {
         "Close": 62.9900016784668,
         "bollinger_upper_band": 63.26856537669605,
         "bollinger_lower_band": 60.3584358134895,
         "bollinger_signal": 0,
         "bb_position": 0,
         "_deepnote_index_column": "2019-11-14T00:00:00.000000"
        },
        {
         "Close": 64.69999694824219,
         "bollinger_upper_band": 63.578530815625264,
         "bollinger_lower_band": 60.47346999309055,
         "bollinger_signal": -1,
         "bb_position": 0,
         "_deepnote_index_column": "2019-11-15T00:00:00.000000"
        },
        {
         "Close": 65.73999786376953,
         "bollinger_upper_band": 63.99920563237248,
         "bollinger_lower_band": 60.5117948101324,
         "bollinger_signal": -1,
         "bb_position": 0,
         "_deepnote_index_column": "2019-11-18T00:00:00.000000"
        },
        {
         "Close": 66.37000274658203,
         "bollinger_upper_band": 64.41135521768497,
         "bollinger_lower_band": 60.85364531637264,
         "bollinger_signal": -1,
         "bb_position": 0,
         "_deepnote_index_column": "2019-11-19T00:00:00.000000"
        },
        {
         "Close": 67.16999816894531,
         "bollinger_upper_band": 64.82883260337385,
         "bollinger_lower_band": 61.31716768654315,
         "bollinger_signal": -1,
         "bb_position": 0,
         "_deepnote_index_column": "2019-11-20T00:00:00.000000"
        },
        {
         "Close": 67.41999816894531,
         "bollinger_upper_band": 65.33173932739041,
         "bollinger_lower_band": 61.384260657350815,
         "bollinger_signal": -1,
         "bb_position": 0,
         "_deepnote_index_column": "2019-11-21T00:00:00.000000"
        },
        {
         "Close": 67.75,
         "bollinger_upper_band": 65.80036537986255,
         "bollinger_lower_band": 61.40163466591382,
         "bollinger_signal": -1,
         "bb_position": 0,
         "_deepnote_index_column": "2019-11-22T00:00:00.000000"
        },
        {
         "Close": 68.25,
         "bollinger_upper_band": 66.29482445513948,
         "bollinger_lower_band": 61.45217566693085,
         "bollinger_signal": -1,
         "bb_position": 0,
         "_deepnote_index_column": "2019-11-25T00:00:00.000000"
        },
        {
         "Close": 68.94000244140625,
         "bollinger_upper_band": 66.84365188577776,
         "bollinger_lower_band": 61.55634849569197,
         "bollinger_signal": -1,
         "bb_position": 0,
         "_deepnote_index_column": "2019-11-26T00:00:00.000000"
        },
        {
         "Close": 69.6500015258789,
         "bollinger_upper_band": 67.43553522086123,
         "bollinger_lower_band": 61.713465328455186,
         "bollinger_signal": -1,
         "bb_position": 0,
         "_deepnote_index_column": "2019-11-27T00:00:00.000000"
        },
        {
         "Close": 69.12000274658203,
         "bollinger_upper_band": 67.89105378257167,
         "bollinger_lower_band": 62.02694701088535,
         "bollinger_signal": -1,
         "bb_position": 0,
         "_deepnote_index_column": "2019-11-29T00:00:00.000000"
        },
        {
         "Close": 66.87999725341797,
         "bollinger_upper_band": 68.07989978234798,
         "bollinger_lower_band": 62.26610088903873,
         "bollinger_signal": 0,
         "bb_position": 0,
         "_deepnote_index_column": "2019-12-02T00:00:00.000000"
        },
        {
         "Close": 67.04000091552734,
         "bollinger_upper_band": 68.26358754912793,
         "bollinger_lower_band": 62.54841310700001,
         "bollinger_signal": 0,
         "bb_position": 0,
         "_deepnote_index_column": "2019-12-03T00:00:00.000000"
        },
        {
         "Close": 67.77999877929688,
         "bollinger_upper_band": 68.45299664819113,
         "bollinger_lower_band": 63.031003748537366,
         "bollinger_signal": 0,
         "bb_position": 0,
         "_deepnote_index_column": "2019-12-04T00:00:00.000000"
        },
        {
         "Close": 67.13999938964844,
         "bollinger_upper_band": 68.55072300958722,
         "bollinger_lower_band": 63.51327731084734,
         "bollinger_signal": 0,
         "bb_position": 0,
         "_deepnote_index_column": "2019-12-05T00:00:00.000000"
        },
        {
         "Close": 67.9800033569336,
         "bollinger_upper_band": 68.73471893990349,
         "bollinger_lower_band": 63.686281350013516,
         "bollinger_signal": 0,
         "bb_position": 0,
         "_deepnote_index_column": "2019-12-06T00:00:00.000000"
        },
        {
         "Close": 67.05999755859375,
         "bollinger_upper_band": 68.80942847439118,
         "bollinger_lower_band": 64.07257149509124,
         "bollinger_signal": 0,
         "bb_position": 0,
         "_deepnote_index_column": "2019-12-09T00:00:00.000000"
        },
        {
         "Close": 65.83999633789062,
         "bollinger_upper_band": 68.83424661129523,
         "bollinger_lower_band": 64.25275290042352,
         "bollinger_signal": 0,
         "bb_position": 0,
         "_deepnote_index_column": "2019-12-10T00:00:00.000000"
        },
        {
         "Close": 65.75,
         "bollinger_upper_band": 68.73298587477599,
         "bollinger_lower_band": 64.77501354539002,
         "bollinger_signal": 0,
         "bb_position": 0,
         "_deepnote_index_column": "2019-12-11T00:00:00.000000"
        },
        {
         "Close": 65.86000061035156,
         "bollinger_upper_band": 68.5403562030509,
         "bollinger_lower_band": 65.40264344599696,
         "bollinger_signal": 0,
         "bb_position": 0,
         "_deepnote_index_column": "2019-12-12T00:00:00.000000"
        },
        {
         "Close": 64.80000305175781,
         "bollinger_upper_band": 68.42821174951473,
         "bollinger_lower_band": 65.69578803686221,
         "bollinger_signal": 1,
         "bb_position": 1,
         "_deepnote_index_column": "2019-12-13T00:00:00.000000"
        },
        {
         "Close": 66.52999877929688,
         "bollinger_upper_band": 68.4100760307598,
         "bollinger_lower_band": 65.89692393872264,
         "bollinger_signal": 0,
         "bb_position": 1,
         "_deepnote_index_column": "2019-12-16T00:00:00.000000"
        },
        {
         "Close": 65.55000305175781,
         "bollinger_upper_band": 68.41248655914663,
         "bollinger_lower_band": 65.87551392913463,
         "bollinger_signal": 1,
         "bb_position": 1,
         "_deepnote_index_column": "2019-12-17T00:00:00.000000"
        },
        {
         "Close": 65.13999938964844,
         "bollinger_upper_band": 68.41850738366183,
         "bollinger_lower_band": 65.74649276892605,
         "bollinger_signal": 1,
         "bb_position": 1,
         "_deepnote_index_column": "2019-12-18T00:00:00.000000"
        },
        {
         "Close": 64.55000305175781,
         "bollinger_upper_band": 68.40201858577848,
         "bollinger_lower_band": 65.50098205509067,
         "bollinger_signal": 1,
         "bb_position": 1,
         "_deepnote_index_column": "2019-12-19T00:00:00.000000"
        },
        {
         "Close": 63.630001068115234,
         "bollinger_upper_band": 68.38536157694872,
         "bollinger_lower_band": 65.13863935383742,
         "bollinger_signal": 1,
         "bb_position": 1,
         "_deepnote_index_column": "2019-12-20T00:00:00.000000"
        },
        {
         "Close": 62.79999923706055,
         "bollinger_upper_band": 68.34360590242102,
         "bollinger_lower_band": 64.68539495207116,
         "bollinger_signal": 1,
         "bb_position": 1,
         "_deepnote_index_column": "2019-12-23T00:00:00.000000"
        },
        {
         "Close": 63.959999084472656,
         "bollinger_upper_band": 68.16604351993176,
         "bollinger_lower_band": 64.4339572430077,
         "bollinger_signal": 1,
         "bb_position": 1,
         "_deepnote_index_column": "2019-12-24T00:00:00.000000"
        },
        {
         "Close": 64.02999877929688,
         "bollinger_upper_band": 67.87742602034913,
         "bollinger_lower_band": 64.23157437637937,
         "bollinger_signal": 1,
         "bb_position": 1,
         "_deepnote_index_column": "2019-12-26T00:00:00.000000"
        },
        {
         "Close": 63.79999923706055,
         "bollinger_upper_band": 67.44131903964893,
         "bollinger_lower_band": 64.08268112819775,
         "bollinger_signal": 1,
         "bb_position": 1,
         "_deepnote_index_column": "2019-12-27T00:00:00.000000"
        },
        {
         "Close": 61.79999923706055,
         "bollinger_upper_band": 67.10240081779872,
         "bollinger_lower_band": 63.68959899909581,
         "bollinger_signal": 1,
         "bb_position": 1,
         "_deepnote_index_column": "2019-12-30T00:00:00.000000"
        },
        {
         "Close": 62.560001373291016,
         "bollinger_upper_band": 66.96047607914052,
         "bollinger_lower_band": 63.39952414974131,
         "bollinger_signal": 1,
         "bb_position": 1,
         "_deepnote_index_column": "2019-12-31T00:00:00.000000"
        },
        {
         "Close": 63.83000183105469,
         "bollinger_upper_band": 66.76787513859871,
         "bollinger_lower_band": 63.27112518183586,
         "bollinger_signal": 0,
         "bb_position": 1,
         "_deepnote_index_column": "2020-01-02T00:00:00.000000"
        },
        {
         "Close": 63,
         "bollinger_upper_band": 66.45688566697923,
         "bollinger_lower_band": 63.104114775525645,
         "bollinger_signal": 1,
         "bb_position": 1,
         "_deepnote_index_column": "2020-01-03T00:00:00.000000"
        },
        {
         "Close": 62.56999969482422,
         "bollinger_upper_band": 66.20108174292929,
         "bollinger_lower_band": 62.90291873009317,
         "bollinger_signal": 1,
         "bb_position": 1,
         "_deepnote_index_column": "2020-01-06T00:00:00.000000"
        },
        {
         "Close": 64.58999633789062,
         "bollinger_upper_band": 65.82153387096713,
         "bollinger_lower_band": 62.94346590015105,
         "bollinger_signal": 0,
         "bb_position": 1,
         "_deepnote_index_column": "2020-01-07T00:00:00.000000"
        },
        {
         "Close": 67.5999984741211,
         "bollinger_upper_band": 65.90535878938466,
         "bollinger_lower_band": 62.913641073286236,
         "bollinger_signal": -1,
         "bb_position": 0,
         "_deepnote_index_column": "2020-01-08T00:00:00.000000"
        },
        {
         "Close": 67.93000030517578,
         "bollinger_upper_band": 66.17854492008475,
         "bollinger_lower_band": 62.84945533931468,
         "bollinger_signal": -1,
         "bb_position": 0,
         "_deepnote_index_column": "2020-01-09T00:00:00.000000"
        },
        {
         "Close": 67.98999786376953,
         "bollinger_upper_band": 66.44617154272899,
         "bollinger_lower_band": 62.805828503047366,
         "bollinger_signal": -1,
         "bb_position": 0,
         "_deepnote_index_column": "2020-01-10T00:00:00.000000"
        },
        {
         "Close": 68.66000366210938,
         "bollinger_upper_band": 66.78310975327416,
         "bollinger_lower_band": 62.748890597678006,
         "bollinger_signal": -1,
         "bb_position": 0,
         "_deepnote_index_column": "2020-01-13T00:00:00.000000"
        },
        {
         "Close": 68.16999816894531,
         "bollinger_upper_band": 67.09056960989781,
         "bollinger_lower_band": 62.77843025277309,
         "bollinger_signal": -1,
         "bb_position": 0,
         "_deepnote_index_column": "2020-01-14T00:00:00.000000"
        },
        {
         "Close": 70.36000061035156,
         "bollinger_upper_band": 67.58065283423032,
         "bollinger_lower_band": 62.671347211546035,
         "bollinger_signal": -1,
         "bb_position": 0,
         "_deepnote_index_column": "2020-01-15T00:00:00.000000"
        },
        {
         "Close": 69.5199966430664,
         "bollinger_upper_band": 67.96846476049033,
         "bollinger_lower_band": 62.68053464441688,
         "bollinger_signal": -1,
         "bb_position": 0,
         "_deepnote_index_column": "2020-01-16T00:00:00.000000"
        },
        {
         "Close": 69.37999725341797,
         "bollinger_upper_band": 68.33061572799554,
         "bollinger_lower_band": 62.74238346328863,
         "bollinger_signal": -1,
         "bb_position": 0,
         "_deepnote_index_column": "2020-01-17T00:00:00.000000"
        },
        {
         "Close": 68.30999755859375,
         "bollinger_upper_band": 68.57467800278158,
         "bollinger_lower_band": 62.87432063918617,
         "bollinger_signal": 0,
         "bb_position": 0,
         "_deepnote_index_column": "2020-01-21T00:00:00.000000"
        },
        {
         "Close": 68.69000244140625,
         "bollinger_upper_band": 68.85640595269582,
         "bollinger_lower_band": 63.09859282660106,
         "bollinger_signal": 0,
         "bb_position": 0,
         "_deepnote_index_column": "2020-01-22T00:00:00.000000"
        },
        {
         "Close": 69.29000091552734,
         "bollinger_upper_band": 69.16964209633903,
         "bollinger_lower_band": 63.434356850804534,
         "bollinger_signal": -1,
         "bb_position": 0,
         "_deepnote_index_column": "2020-01-23T00:00:00.000000"
        },
        {
         "Close": 71.13999938964844,
         "bollinger_upper_band": 69.66615091835095,
         "bollinger_lower_band": 63.65584805931019,
         "bollinger_signal": -1,
         "bb_position": 0,
         "_deepnote_index_column": "2020-01-24T00:00:00.000000"
        }
       ],
       "rows_bottom": [
        {
         "Close": 224.83999633789062,
         "bollinger_upper_band": 251.08775386608076,
         "bollinger_lower_band": 219.822243692513,
         "bollinger_signal": 0,
         "bb_position": 1,
         "_deepnote_index_column": "2021-03-19T00:00:00.000000"
        },
        {
         "Close": 226.1300048828125,
         "bollinger_upper_band": 247.08003827183768,
         "bollinger_lower_band": 219.63496111781075,
         "bollinger_signal": 0,
         "bb_position": 1,
         "_deepnote_index_column": "2021-03-22T00:00:00.000000"
        },
        {
         "Close": 223.1999969482422,
         "bollinger_upper_band": 244.43149051738217,
         "bollinger_lower_band": 218.94450893330142,
         "bollinger_signal": 0,
         "bb_position": 1,
         "_deepnote_index_column": "2021-03-23T00:00:00.000000"
        },
        {
         "Close": 213.50999450683594,
         "bollinger_upper_band": 243.78760051052728,
         "bollinger_lower_band": 217.20739765841802,
         "bollinger_signal": 1,
         "bb_position": 1,
         "_deepnote_index_column": "2021-03-24T00:00:00.000000"
        },
        {
         "Close": 208.47000122070312,
         "bollinger_upper_band": 243.7304524557005,
         "bollinger_lower_band": 215.40054577428,
         "bollinger_signal": 1,
         "bb_position": 1,
         "_deepnote_index_column": "2021-03-25T00:00:00.000000"
        },
        {
         "Close": 213.60000610351562,
         "bollinger_upper_band": 243.35015559850947,
         "bollinger_lower_band": 214.13784336389287,
         "bollinger_signal": 1,
         "bb_position": 1,
         "_deepnote_index_column": "2021-03-26T00:00:00.000000"
        },
        {
         "Close": 207.17999267578125,
         "bollinger_upper_band": 242.11613524256194,
         "bollinger_lower_band": 211.98986298741852,
         "bollinger_signal": 1,
         "bb_position": 1,
         "_deepnote_index_column": "2021-03-29T00:00:00.000000"
        },
        {
         "Close": 212.8300018310547,
         "bollinger_upper_band": 239.23311963014606,
         "bollinger_lower_band": 210.93587908811566,
         "bollinger_signal": 0,
         "bb_position": 1,
         "_deepnote_index_column": "2021-03-30T00:00:00.000000"
        },
        {
         "Close": 227.0500030517578,
         "bollinger_upper_band": 238.72267652262505,
         "bollinger_lower_band": 210.73132280598824,
         "bollinger_signal": 0,
         "bb_position": 1,
         "_deepnote_index_column": "2021-03-31T00:00:00.000000"
        },
        {
         "Close": 229.50999450683594,
         "bollinger_upper_band": 239.2340082206432,
         "bollinger_lower_band": 211.32999019244272,
         "bollinger_signal": 0,
         "bb_position": 1,
         "_deepnote_index_column": "2021-04-01T00:00:00.000000"
        },
        {
         "Close": 229.9499969482422,
         "bollinger_upper_band": 239.78538047912235,
         "bollinger_lower_band": 212.1296173846472,
         "bollinger_signal": 0,
         "bb_position": 1,
         "_deepnote_index_column": "2021-04-05T00:00:00.000000"
        },
        {
         "Close": 236.5,
         "bollinger_upper_band": 240.47050407144937,
         "bollinger_lower_band": 214.9074942806014,
         "bollinger_signal": 0,
         "bb_position": 1,
         "_deepnote_index_column": "2021-04-06T00:00:00.000000"
        },
        {
         "Close": 245.1199951171875,
         "bollinger_upper_band": 242.03018119444272,
         "bollinger_lower_band": 215.35081703553777,
         "bollinger_signal": -1,
         "bb_position": 0,
         "_deepnote_index_column": "2021-04-07T00:00:00.000000"
        },
        {
         "Close": 258.3699951171875,
         "bollinger_upper_band": 245.1544374008201,
         "bollinger_lower_band": 215.39056076812523,
         "bollinger_signal": -1,
         "bb_position": 0,
         "_deepnote_index_column": "2021-04-08T00:00:00.000000"
        },
        {
         "Close": 261.6499938964844,
         "bollinger_upper_band": 247.55850344094452,
         "bollinger_lower_band": 214.9794939955789,
         "bollinger_signal": -1,
         "bb_position": 0,
         "_deepnote_index_column": "2021-04-09T00:00:00.000000"
        },
        {
         "Close": 265.20001220703125,
         "bollinger_upper_band": 250.26599770804205,
         "bollinger_lower_band": 214.58100088814933,
         "bollinger_signal": -1,
         "bb_position": 0,
         "_deepnote_index_column": "2021-04-12T00:00:00.000000"
        },
        {
         "Close": 273.2300109863281,
         "bollinger_upper_band": 253.17309801501997,
         "bollinger_lower_band": 213.87390210705033,
         "bollinger_signal": -1,
         "bb_position": 0,
         "_deepnote_index_column": "2021-04-13T00:00:00.000000"
        },
        {
         "Close": 258.3999938964844,
         "bollinger_upper_band": 254.59764272762246,
         "bollinger_lower_band": 213.95335672306115,
         "bollinger_signal": -1,
         "bb_position": 0,
         "_deepnote_index_column": "2021-04-14T00:00:00.000000"
        },
        {
         "Close": 263.0799865722656,
         "bollinger_upper_band": 256.2744940081953,
         "bollinger_lower_band": 213.93750397764455,
         "bollinger_signal": -1,
         "bb_position": 0,
         "_deepnote_index_column": "2021-04-15T00:00:00.000000"
        },
        {
         "Close": 256.1000061035156,
         "bollinger_upper_band": 258.2017085705318,
         "bollinger_lower_band": 215.1902897204838,
         "bollinger_signal": 0,
         "bb_position": 0,
         "_deepnote_index_column": "2021-04-16T00:00:00.000000"
        },
        {
         "Close": 245.3300018310547,
         "bollinger_upper_band": 259.1194718538602,
         "bollinger_lower_band": 216.32152698647184,
         "bollinger_signal": 0,
         "bb_position": 0,
         "_deepnote_index_column": "2021-04-19T00:00:00.000000"
        },
        {
         "Close": 245.5,
         "bollinger_upper_band": 259.9738166378137,
         "bollinger_lower_band": 217.40418171423713,
         "bollinger_signal": 0,
         "bb_position": 0,
         "_deepnote_index_column": "2021-04-20T00:00:00.000000"
        },
        {
         "Close": 245.25,
         "bollinger_upper_band": 260.8010874196205,
         "bollinger_lower_band": 218.781911237606,
         "bollinger_signal": 0,
         "bb_position": 0,
         "_deepnote_index_column": "2021-04-21T00:00:00.000000"
        },
        {
         "Close": 245.11000061035156,
         "bollinger_upper_band": 261.4690171346119,
         "bollinger_lower_band": 221.27398213296624,
         "bollinger_signal": 0,
         "bb_position": 0,
         "_deepnote_index_column": "2021-04-22T00:00:00.000000"
        },
        {
         "Close": 246.42999267578125,
         "bollinger_upper_band": 261.8299632585454,
         "bollinger_lower_band": 224.70903515454057,
         "bollinger_signal": 0,
         "bb_position": 0,
         "_deepnote_index_column": "2021-04-23T00:00:00.000000"
        },
        {
         "Close": 255.77000427246094,
         "bollinger_upper_band": 262.74765514182684,
         "bollinger_lower_band": 228.00834308815365,
         "bollinger_signal": 0,
         "bb_position": 0,
         "_deepnote_index_column": "2021-04-26T00:00:00.000000"
        },
        {
         "Close": 253.7899932861328,
         "bollinger_upper_band": 262.63894032325715,
         "bollinger_lower_band": 232.77805796775846,
         "bollinger_signal": 0,
         "bb_position": 0,
         "_deepnote_index_column": "2021-04-27T00:00:00.000000"
        },
        {
         "Close": 254.1999969482422,
         "bollinger_upper_band": 262.29120040351586,
         "bollinger_lower_band": 237.26279739921856,
         "bollinger_signal": 0,
         "bb_position": 0,
         "_deepnote_index_column": "2021-04-28T00:00:00.000000"
        },
        {
         "Close": 247.75999450683594,
         "bollinger_upper_band": 262.1485293504838,
         "bollinger_lower_band": 239.4764675977584,
         "bollinger_signal": 0,
         "bb_position": 0,
         "_deepnote_index_column": "2021-04-29T00:00:00.000000"
        },
        {
         "Close": 244.82000732421875,
         "bollinger_upper_band": 261.86851537959336,
         "bollinger_lower_band": 241.28748285038714,
         "bollinger_signal": 0,
         "bb_position": 0,
         "_deepnote_index_column": "2021-04-30T00:00:00.000000"
        },
        {
         "Close": 243.67999267578125,
         "bollinger_upper_band": 261.43304399545514,
         "bollinger_lower_band": 243.0959538072792,
         "bollinger_signal": 0,
         "bb_position": 0,
         "_deepnote_index_column": "2021-05-03T00:00:00.000000"
        },
        {
         "Close": 231.19000244140625,
         "bollinger_upper_band": 261.70897039157313,
         "bollinger_lower_band": 242.28902765530188,
         "bollinger_signal": 1,
         "bb_position": 1,
         "_deepnote_index_column": "2021-05-04T00:00:00.000000"
        },
        {
         "Close": 231.8699951171875,
         "bollinger_upper_band": 261.9504553619122,
         "bollinger_lower_band": 240.72254268496283,
         "bollinger_signal": 1,
         "bb_position": 1,
         "_deepnote_index_column": "2021-05-05T00:00:00.000000"
        },
        {
         "Close": 223.9600067138672,
         "bollinger_upper_band": 261.71485821130216,
         "bollinger_lower_band": 237.51714099524085,
         "bollinger_signal": 1,
         "bb_position": 1,
         "_deepnote_index_column": "2021-05-06T00:00:00.000000"
        },
        {
         "Close": 233.35000610351562,
         "bollinger_upper_band": 260.472032154864,
         "bollinger_lower_band": 235.92996827238213,
         "bollinger_signal": 1,
         "bb_position": 1,
         "_deepnote_index_column": "2021-05-07T00:00:00.000000"
        },
        {
         "Close": 216.42999267578125,
         "bollinger_upper_band": 259.26199444033193,
         "bollinger_lower_band": 232.26300403378914,
         "bollinger_signal": 1,
         "bb_position": 1,
         "_deepnote_index_column": "2021-05-10T00:00:00.000000"
        },
        {
         "Close": 220.64999389648438,
         "bollinger_upper_band": 256.11208774928207,
         "bollinger_lower_band": 230.1549090158546,
         "bollinger_signal": 1,
         "bb_position": 1,
         "_deepnote_index_column": "2021-05-11T00:00:00.000000"
        },
        {
         "Close": 206.6699981689453,
         "bollinger_upper_band": 255.34947562343544,
         "bollinger_lower_band": 225.74452156894736,
         "bollinger_signal": 1,
         "bb_position": 1,
         "_deepnote_index_column": "2021-05-12T00:00:00.000000"
        },
        {
         "Close": 197.1300048828125,
         "bollinger_upper_band": 253.98739063907814,
         "bollinger_lower_band": 220.51160838435933,
         "bollinger_signal": 1,
         "bb_position": 1,
         "_deepnote_index_column": "2021-05-13T00:00:00.000000"
        },
        {
         "Close": 207.85000610351562,
         "bollinger_upper_band": 252.18114531206095,
         "bollinger_lower_band": 217.49285371137654,
         "bollinger_signal": 1,
         "bb_position": 1,
         "_deepnote_index_column": "2021-05-14T00:00:00.000000"
        },
        {
         "Close": 202.9199981689453,
         "bollinger_upper_band": 251.2612246871351,
         "bollinger_lower_band": 214.17177397009146,
         "bollinger_signal": 1,
         "bb_position": 1,
         "_deepnote_index_column": "2021-05-17T00:00:00.000000"
        },
        {
         "Close": 203.16000366210938,
         "bollinger_upper_band": 250.00482259587758,
         "bollinger_lower_band": 211.19417642755994,
         "bollinger_signal": 1,
         "bb_position": 1,
         "_deepnote_index_column": "2021-05-18T00:00:00.000000"
        },
        {
         "Close": 200.11000061035156,
         "bollinger_upper_band": 248.56215662385353,
         "bollinger_lower_band": 208.12284246061915,
         "bollinger_signal": 1,
         "bb_position": 1,
         "_deepnote_index_column": "2021-05-19T00:00:00.000000"
        },
        {
         "Close": 204.91000366210938,
         "bollinger_upper_band": 246.7942572218957,
         "bollinger_lower_band": 205.87074216775272,
         "bollinger_signal": 1,
         "bb_position": 1,
         "_deepnote_index_column": "2021-05-20T00:00:00.000000"
        },
        {
         "Close": 200.00999450683594,
         "bollinger_upper_band": 244.70501662593006,
         "bollinger_lower_band": 203.31798294682386,
         "bollinger_signal": 1,
         "bb_position": 1,
         "_deepnote_index_column": "2021-05-21T00:00:00.000000"
        },
        {
         "Close": 210.9499969482422,
         "bollinger_upper_band": 241.23405475741828,
         "bollinger_lower_band": 202.30694408291373,
         "bollinger_signal": 0,
         "bb_position": 1,
         "_deepnote_index_column": "2021-05-24T00:00:00.000000"
        },
        {
         "Close": 216.1999969482422,
         "bollinger_upper_band": 237.85719865664342,
         "bollinger_lower_band": 201.92480054989957,
         "bollinger_signal": 0,
         "bb_position": 1,
         "_deepnote_index_column": "2021-05-25T00:00:00.000000"
        },
        {
         "Close": 222.33999633789062,
         "bollinger_upper_band": 234.37518046651996,
         "bollinger_lower_band": 202.22081867898783,
         "bollinger_signal": 0,
         "bb_position": 1,
         "_deepnote_index_column": "2021-05-26T00:00:00.000000"
        },
        {
         "Close": 220.89999389648438,
         "bollinger_upper_band": 231.4894004978858,
         "bollinger_lower_band": 202.42059858658683,
         "bollinger_signal": 0,
         "bb_position": 1,
         "_deepnote_index_column": "2021-05-27T00:00:00.000000"
        },
        {
         "Close": 222.52000427246094,
         "bollinger_upper_band": 228.90536848791368,
         "bollinger_lower_band": 202.77463029138318,
         "bollinger_signal": 0,
         "bb_position": 1,
         "_deepnote_index_column": "2021-05-28T00:00:00.000000"
        },
        {
         "Close": 221.9499969482422,
         "bollinger_upper_band": 226.18298762441168,
         "bollinger_lower_band": 203.32401158213128,
         "bollinger_signal": 0,
         "bb_position": 1,
         "_deepnote_index_column": "2021-06-01T00:00:00.000000"
        },
        {
         "Close": 220.41000366210938,
         "bollinger_upper_band": 225.06772553939464,
         "bollinger_lower_band": 203.36127378921861,
         "bollinger_signal": 0,
         "bb_position": 1,
         "_deepnote_index_column": "2021-06-02T00:00:00.000000"
        },
        {
         "Close": 211.42999267578125,
         "bollinger_upper_band": 223.2271893743562,
         "bollinger_lower_band": 203.15780971011648,
         "bollinger_signal": 0,
         "bb_position": 1,
         "_deepnote_index_column": "2021-06-03T00:00:00.000000"
        },
        {
         "Close": 213.69000244140625,
         "bollinger_upper_band": 222.3912803484732,
         "bollinger_lower_band": 202.96671830875337,
         "bollinger_signal": 0,
         "bb_position": 1,
         "_deepnote_index_column": "2021-06-04T00:00:00.000000"
        },
        {
         "Close": 216.9499969482422,
         "bollinger_upper_band": 220.3496827256775,
         "bollinger_lower_band": 203.3683150160217,
         "bollinger_signal": 0,
         "bb_position": 1,
         "_deepnote_index_column": "2021-06-07T00:00:00.000000"
        },
        {
         "Close": 214.1199951171875,
         "bollinger_upper_band": 220.18429544248013,
         "bollinger_lower_band": 203.3027025433597,
         "bollinger_signal": 0,
         "bb_position": 1,
         "_deepnote_index_column": "2021-06-08T00:00:00.000000"
        },
        {
         "Close": 210.2100067138672,
         "bollinger_upper_band": 219.4012890077319,
         "bollinger_lower_band": 203.0417102598462,
         "bollinger_signal": 0,
         "bb_position": 1,
         "_deepnote_index_column": "2021-06-09T00:00:00.000000"
        },
        {
         "Close": 217.13999938964844,
         "bollinger_upper_band": 219.95315211638803,
         "bollinger_lower_band": 203.53684727326043,
         "bollinger_signal": 0,
         "bb_position": 1,
         "_deepnote_index_column": "2021-06-10T00:00:00.000000"
        },
        {
         "Close": 219.33999633789062,
         "bollinger_upper_band": 220.46270939304867,
         "bollinger_lower_band": 205.24828914210758,
         "bollinger_signal": 0,
         "bb_position": 1,
         "_deepnote_index_column": "2021-06-11T00:00:00.000000"
        },
        {
         "Close": 230.9499969482422,
         "bollinger_upper_band": 222.51807647735953,
         "bollinger_lower_band": 205.5029211422694,
         "bollinger_signal": -1,
         "bb_position": 0,
         "_deepnote_index_column": "2021-06-14T00:00:00.000000"
        },
        {
         "Close": 227.75,
         "bollinger_upper_band": 223.8670008611079,
         "bollinger_lower_band": 206.63699694162648,
         "bollinger_signal": -1,
         "bb_position": 0,
         "_deepnote_index_column": "2021-06-15T00:00:00.000000"
        },
        {
         "Close": 225.11000061035156,
         "bollinger_upper_band": 224.73815226060262,
         "bollinger_lower_band": 207.96084523695598,
         "bollinger_signal": -1,
         "bb_position": 0,
         "_deepnote_index_column": "2021-06-16T00:00:00.000000"
        },
        {
         "Close": 236.1300048828125,
         "bollinger_upper_band": 226.73351687977296,
         "bollinger_lower_band": 209.5674810450317,
         "bollinger_signal": -1,
         "bb_position": 0,
         "_deepnote_index_column": "2021-06-17T00:00:00.000000"
        },
        {
         "Close": 237.0500030517578,
         "bollinger_upper_band": 228.73093134392707,
         "bollinger_lower_band": 210.78406651984244,
         "bollinger_signal": -1,
         "bb_position": 0,
         "_deepnote_index_column": "2021-06-18T00:00:00.000000"
        },
        {
         "Close": 233.88999938964844,
         "bollinger_upper_band": 229.6666911283099,
         "bollinger_lower_band": 213.23630722374085,
         "bollinger_signal": -1,
         "bb_position": 0,
         "_deepnote_index_column": "2021-06-21T00:00:00.000000"
        },
        {
         "Close": 235.97000122070312,
         "bollinger_upper_band": 231.13646430394522,
         "bollinger_lower_band": 214.26853447535166,
         "bollinger_signal": -1,
         "bb_position": 0,
         "_deepnote_index_column": "2021-06-22T00:00:00.000000"
        },
        {
         "Close": 238.6999969482422,
         "bollinger_upper_band": 232.8299213136961,
         "bollinger_lower_band": 214.82507746560077,
         "bollinger_signal": -1,
         "bb_position": 0,
         "_deepnote_index_column": "2021-06-23T00:00:00.000000"
        },
        {
         "Close": 244.14999389648438,
         "bollinger_upper_band": 234.98837198698837,
         "bollinger_lower_band": 214.84762654816788,
         "bollinger_signal": -1,
         "bb_position": 0,
         "_deepnote_index_column": "2021-06-24T00:00:00.000000"
        },
        {
         "Close": 239.94000244140625,
         "bollinger_upper_band": 236.42867246671085,
         "bollinger_lower_band": 215.3113269229376,
         "bollinger_signal": -1,
         "bb_position": 0,
         "_deepnote_index_column": "2021-06-25T00:00:00.000000"
        },
        {
         "Close": 246.60000610351562,
         "bollinger_upper_band": 238.562539190902,
         "bollinger_lower_band": 215.58546038185193,
         "bollinger_signal": -1,
         "bb_position": 0,
         "_deepnote_index_column": "2021-06-28T00:00:00.000000"
        },
        {
         "Close": 248.8699951171875,
         "bollinger_upper_band": 240.81762236090918,
         "bollinger_lower_band": 216.02237702873924,
         "bollinger_signal": -1,
         "bb_position": 0,
         "_deepnote_index_column": "2021-06-29T00:00:00.000000"
        },
        {
         "Close": 243.8000030517578,
         "bollinger_upper_band": 242.2912396422629,
         "bollinger_lower_band": 216.88775968635036,
         "bollinger_signal": -1,
         "bb_position": 0,
         "_deepnote_index_column": "2021-06-30T00:00:00.000000"
        },
        {
         "Close": 241.85000610351562,
         "bollinger_upper_band": 243.33565394384902,
         "bollinger_lower_band": 218.8853467275377,
         "bollinger_signal": 0,
         "bb_position": 0,
         "_deepnote_index_column": "2021-07-01T00:00:00.000000"
        },
        {
         "Close": 241.0800018310547,
         "bollinger_upper_band": 244.17354293161333,
         "bollinger_lower_band": 220.78645767873826,
         "bollinger_signal": 0,
         "bb_position": 0,
         "_deepnote_index_column": "2021-07-02T00:00:00.000000"
        },
        {
         "Close": 246.6999969482422,
         "bollinger_upper_band": 245.47222249179015,
         "bollinger_lower_band": 222.4627781185614,
         "bollinger_signal": -1,
         "bb_position": 0,
         "_deepnote_index_column": "2021-07-06T00:00:00.000000"
        },
        {
         "Close": 244.63999938964844,
         "bollinger_upper_band": 246.22520284295985,
         "bollinger_lower_band": 224.76179819463783,
         "bollinger_signal": 0,
         "bb_position": 0,
         "_deepnote_index_column": "2021-07-07T00:00:00.000000"
        },
        {
         "Close": 235.89999389648438,
         "bollinger_upper_band": 245.71088020118836,
         "bollinger_lower_band": 227.84511955467102,
         "bollinger_signal": 0,
         "bb_position": 0,
         "_deepnote_index_column": "2021-07-08T00:00:00.000000"
        },
        {
         "Close": 241.88999938964844,
         "bollinger_upper_band": 245.71370205134806,
         "bollinger_lower_band": 230.31729770451133,
         "bollinger_signal": 0,
         "bb_position": 0,
         "_deepnote_index_column": "2021-07-09T00:00:00.000000"
        },
        {
         "Close": 243.35000610351562,
         "bollinger_upper_band": 245.61025153879257,
         "bollinger_lower_band": 232.82174919362933,
         "bollinger_signal": 0,
         "bb_position": 0,
         "_deepnote_index_column": "2021-07-12T00:00:00.000000"
        },
        {
         "Close": 241.42999267578125,
         "bollinger_upper_band": 245.84403655234513,
         "bollinger_lower_band": 233.63596375283066,
         "bollinger_signal": 0,
         "bb_position": 0,
         "_deepnote_index_column": "2021-07-13T00:00:00.000000"
        },
        {
         "Close": 239,
         "bollinger_upper_band": 245.7236348104191,
         "bollinger_lower_band": 234.8813654947567,
         "bollinger_signal": 0,
         "bb_position": 0,
         "_deepnote_index_column": "2021-07-14T00:00:00.000000"
        },
        {
         "Close": 235.16000366210938,
         "bollinger_upper_band": 245.0906459811206,
         "bollinger_lower_band": 236.51935462923097,
         "bollinger_signal": 1,
         "bb_position": 1,
         "_deepnote_index_column": "2021-07-15T00:00:00.000000"
        },
        {
         "Close": 237.52000427246094,
         "bollinger_upper_band": 245.0910555546532,
         "bollinger_lower_band": 236.6579449946632,
         "bollinger_signal": 0,
         "bb_position": 1,
         "_deepnote_index_column": "2021-07-16T00:00:00.000000"
        },
        {
         "Close": 233.69000244140625,
         "bollinger_upper_band": 245.14457225358208,
         "bollinger_lower_band": 236.26842823469914,
         "bollinger_signal": 1,
         "bb_position": 1,
         "_deepnote_index_column": "2021-07-19T00:00:00.000000"
        },
        {
         "Close": 246.47000122070312,
         "bollinger_upper_band": 245.64628007565517,
         "bollinger_lower_band": 237.02472059573154,
         "bollinger_signal": -1,
         "bb_position": 0,
         "_deepnote_index_column": "2021-07-20T00:00:00.000000"
        },
        {
         "Close": 257.25,
         "bollinger_upper_band": 247.80375989468672,
         "bollinger_lower_band": 236.9952406546297,
         "bollinger_signal": -1,
         "bb_position": 0,
         "_deepnote_index_column": "2021-07-21T00:00:00.000000"
        },
        {
         "Close": 260.5899963378906,
         "bollinger_upper_band": 250.1753318056953,
         "bollinger_lower_band": 236.81266868258598,
         "bollinger_signal": -1,
         "bb_position": 0,
         "_deepnote_index_column": "2021-07-22T00:00:00.000000"
        },
        {
         "Close": 264,
         "bollinger_upper_band": 252.5927950447038,
         "bollinger_lower_band": 236.38020605392904,
         "bollinger_signal": -1,
         "bb_position": 0,
         "_deepnote_index_column": "2021-07-23T00:00:00.000000"
        },
        {
         "Close": 261.989990234375,
         "bollinger_upper_band": 254.50356403226982,
         "bollinger_lower_band": 236.67443584565984,
         "bollinger_signal": -1,
         "bb_position": 0,
         "_deepnote_index_column": "2021-07-26T00:00:00.000000"
        },
        {
         "Close": 251.72999572753906,
         "bollinger_upper_band": 254.86388258320585,
         "bollinger_lower_band": 236.8271162571262,
         "bollinger_signal": 0,
         "bb_position": 0,
         "_deepnote_index_column": "2021-07-27T00:00:00.000000"
        },
        {
         "Close": 258.6099853515625,
         "bollinger_upper_band": 255.7757772960966,
         "bollinger_lower_band": 236.88922056767294,
         "bollinger_signal": -1,
         "bb_position": 0,
         "_deepnote_index_column": "2021-07-28T00:00:00.000000"
        },
        {
         "Close": 255.27999877929688,
         "bollinger_upper_band": 256.53482677462256,
         "bollinger_lower_band": 237.2781706619009,
         "bollinger_signal": 0,
         "bb_position": 0,
         "_deepnote_index_column": "2021-07-29T00:00:00.000000"
        },
        {
         "Close": 247.25999450683594,
         "bollinger_upper_band": 256.7315031795631,
         "bollinger_lower_band": 237.62249309729236,
         "bollinger_signal": 0,
         "bb_position": 0,
         "_deepnote_index_column": "2021-07-30T00:00:00.000000"
        },
        {
         "Close": 272.3800048828125,
         "bollinger_upper_band": 259.7048937030141,
         "bollinger_lower_band": 237.7791028790172,
         "bollinger_signal": -1,
         "bb_position": 0,
         "_deepnote_index_column": "2021-08-02T00:00:00.000000"
        },
        {
         "Close": 269.489990234375,
         "bollinger_upper_band": 261.76659842646194,
         "bollinger_lower_band": 237.99639748418255,
         "bollinger_signal": -1,
         "bb_position": 0,
         "_deepnote_index_column": "2021-08-03T00:00:00.000000"
        },
        {
         "Close": 266.4200134277344,
         "bollinger_upper_band": 263.3380865750886,
         "bollinger_lower_band": 238.6029107393645,
         "bollinger_signal": -1,
         "bb_position": 0,
         "_deepnote_index_column": "2021-08-04T00:00:00.000000"
        },
        {
         "Close": 281.80999755859375,
         "bollinger_upper_band": 266.88633105698136,
         "bollinger_lower_band": 239.6456666236827,
         "bollinger_signal": -1,
         "bb_position": 0,
         "_deepnote_index_column": "2021-08-05T00:00:00.000000"
        },
        {
         "Close": 275.1000061035156,
         "bollinger_upper_band": 269.100086224357,
         "bollinger_lower_band": 240.75291212769378,
         "bollinger_signal": -1,
         "bb_position": 0,
         "_deepnote_index_column": "2021-08-06T00:00:00.000000"
        },
        {
         "Close": 279.7300109863281,
         "bollinger_upper_band": 271.6697724695844,
         "bollinger_lower_band": 241.82122637074764,
         "bollinger_signal": -1,
         "bb_position": 0,
         "_deepnote_index_column": "2021-08-09T00:00:00.000000"
        },
        {
         "Close": 273.0799865722656,
         "bollinger_upper_band": 273.2207900467778,
         "bollinger_lower_band": 243.43520818320266,
         "bollinger_signal": 0,
         "bb_position": 0,
         "_deepnote_index_column": "2021-08-10T00:00:00.000000"
        }
       ]
      },
      "text/plain": "                 Close  bollinger_upper_band  bollinger_lower_band  \\\nDate                                                                 \n2019-09-03   61.130001                   NaN                   NaN   \n2019-09-04   61.169998                   NaN                   NaN   \n2019-09-05   63.020000                   NaN                   NaN   \n2019-09-06   62.000000                   NaN                   NaN   \n2019-09-09   61.470001                   NaN                   NaN   \n...                ...                   ...                   ...   \n2021-08-04  266.420013            263.338087            238.602911   \n2021-08-05  281.809998            266.886331            239.645667   \n2021-08-06  275.100006            269.100086            240.752912   \n2021-08-09  279.730011            271.669772            241.821226   \n2021-08-10  273.079987            273.220790            243.435208   \n\n            bollinger_signal  bb_position  \nDate                                       \n2019-09-03               0.0            1  \n2019-09-04               0.0            1  \n2019-09-05               0.0            1  \n2019-09-06               0.0            1  \n2019-09-09               0.0            1  \n...                      ...          ...  \n2021-08-04              -1.0            0  \n2021-08-05              -1.0            0  \n2021-08-06              -1.0            0  \n2021-08-09              -1.0            0  \n2021-08-10               0.0            0  \n\n[489 rows x 5 columns]",
      "text/html": "<div>\n<style scoped>\n    .dataframe tbody tr th:only-of-type {\n        vertical-align: middle;\n    }\n\n    .dataframe tbody tr th {\n        vertical-align: top;\n    }\n\n    .dataframe thead th {\n        text-align: right;\n    }\n</style>\n<table border=\"1\" class=\"dataframe\">\n  <thead>\n    <tr style=\"text-align: right;\">\n      <th></th>\n      <th>Close</th>\n      <th>bollinger_upper_band</th>\n      <th>bollinger_lower_band</th>\n      <th>bollinger_signal</th>\n      <th>bb_position</th>\n    </tr>\n    <tr>\n      <th>Date</th>\n      <th></th>\n      <th></th>\n      <th></th>\n      <th></th>\n      <th></th>\n    </tr>\n  </thead>\n  <tbody>\n    <tr>\n      <th>2019-09-03</th>\n      <td>61.130001</td>\n      <td>NaN</td>\n      <td>NaN</td>\n      <td>0.0</td>\n      <td>1</td>\n    </tr>\n    <tr>\n      <th>2019-09-04</th>\n      <td>61.169998</td>\n      <td>NaN</td>\n      <td>NaN</td>\n      <td>0.0</td>\n      <td>1</td>\n    </tr>\n    <tr>\n      <th>2019-09-05</th>\n      <td>63.020000</td>\n      <td>NaN</td>\n      <td>NaN</td>\n      <td>0.0</td>\n      <td>1</td>\n    </tr>\n    <tr>\n      <th>2019-09-06</th>\n      <td>62.000000</td>\n      <td>NaN</td>\n      <td>NaN</td>\n      <td>0.0</td>\n      <td>1</td>\n    </tr>\n    <tr>\n      <th>2019-09-09</th>\n      <td>61.470001</td>\n      <td>NaN</td>\n      <td>NaN</td>\n      <td>0.0</td>\n      <td>1</td>\n    </tr>\n    <tr>\n      <th>...</th>\n      <td>...</td>\n      <td>...</td>\n      <td>...</td>\n      <td>...</td>\n      <td>...</td>\n    </tr>\n    <tr>\n      <th>2021-08-04</th>\n      <td>266.420013</td>\n      <td>263.338087</td>\n      <td>238.602911</td>\n      <td>-1.0</td>\n      <td>0</td>\n    </tr>\n    <tr>\n      <th>2021-08-05</th>\n      <td>281.809998</td>\n      <td>266.886331</td>\n      <td>239.645667</td>\n      <td>-1.0</td>\n      <td>0</td>\n    </tr>\n    <tr>\n      <th>2021-08-06</th>\n      <td>275.100006</td>\n      <td>269.100086</td>\n      <td>240.752912</td>\n      <td>-1.0</td>\n      <td>0</td>\n    </tr>\n    <tr>\n      <th>2021-08-09</th>\n      <td>279.730011</td>\n      <td>271.669772</td>\n      <td>241.821226</td>\n      <td>-1.0</td>\n      <td>0</td>\n    </tr>\n    <tr>\n      <th>2021-08-10</th>\n      <td>273.079987</td>\n      <td>273.220790</td>\n      <td>243.435208</td>\n      <td>0.0</td>\n      <td>0</td>\n    </tr>\n  </tbody>\n</table>\n<p>489 rows × 5 columns</p>\n</div>"
     },
     "metadata": {}
    }
   ],
   "execution_count": null
  },
  {
   "cell_type": "code",
   "metadata": {
    "tags": [],
    "cell_id": "00013-5e93a005-87f4-4d81-81d4-c6c3bc6e4159",
    "deepnote_to_be_reexecuted": false,
    "source_hash": "b8f508ca",
    "execution_start": 1629328353023,
    "execution_millis": 12,
    "deepnote_cell_type": "code"
   },
   "source": "sq_ret = pd.DataFrame(np.diff(sq['Close'])).rename(columns = {0:'returns'})\nbb_strategy_ret = []\n\nfor i in range(len(sq_ret)):\n    try:\n        returns = sq_ret['returns'][i]*strategy['bb_position'][i]\n        bb_strategy_ret.append(returns)\n    except:\n        pass\n    \nbb_strategy_ret_df = pd.DataFrame(bb_strategy_ret).rename(columns = {0:'bb_returns'})\n\ninvestment_value = 100000\nnumber_of_stocks = math.floor(investment_value/sq['Close'][-1])\nbb_investment_ret = []\n\nfor i in range(len(bb_strategy_ret_df['bb_returns'])):\n    returns = number_of_stocks*bb_strategy_ret_df['bb_returns'][i]\n    bb_investment_ret.append(returns)\n\nbb_investment_ret_df = pd.DataFrame(bb_investment_ret).rename(columns = {0:'investment_returns'})\ntotal_investment_ret = round(sum(bb_investment_ret_df['investment_returns']), 2)\nprofit_percentage = math.floor((total_investment_ret/investment_value)*100)\nprint(cl('Profit gained from the BB strategy by investing $100k in sq : {}'.format(total_investment_ret), attrs = ['bold']))\nprint(cl('Profit percentage of the BB strategy : {}%'.format(profit_percentage), attrs = ['bold']))",
   "outputs": [
    {
     "name": "stdout",
     "text": "\u001b[1mProfit gained from the BB strategy by investing $100k in sq : 34286.88\u001b[0m\n\u001b[1mProfit percentage of the BB strategy : 34%\u001b[0m\n",
     "output_type": "stream"
    }
   ],
   "execution_count": null
  },
  {
   "cell_type": "code",
   "metadata": {
    "tags": [],
    "cell_id": "00014-efb21322-d303-496b-841f-3f34171a81c3",
    "deepnote_to_be_reexecuted": false,
    "source_hash": "e4c25a74",
    "execution_start": 1629328353032,
    "execution_millis": 16,
    "deepnote_cell_type": "code"
   },
   "source": "strategy.to_csv('SQ 1D BOLLINGER BANDS TRADE STRATEGY.CSV')",
   "outputs": [],
   "execution_count": null
  },
  {
   "cell_type": "markdown",
   "source": "<a style='text-decoration:none;line-height:16px;display:flex;color:#5B5B62;padding:10px;justify-content:end;' href='https://deepnote.com?utm_source=created-in-deepnote-cell&projectId=d12c285c-6789-4c45-9ad7-1be9b4d60622' target=\"_blank\">\n<img alt='Created in deepnote.com' style='display:inline;max-height:16px;margin:0px;margin-right:7.5px;' src='data:image/svg+xml;base64,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' > </img>\nCreated in <span style='font-weight:600;margin-left:4px;'>Deepnote</span></a>",
   "metadata": {
    "tags": [],
    "created_in_deepnote_cell": true,
    "deepnote_cell_type": "markdown"
   }
  }
 ],
 "nbformat": 4,
 "nbformat_minor": 2,
 "metadata": {
  "orig_nbformat": 2,
  "deepnote": {
   "is_reactive": false
  },
  "deepnote_notebook_id": "72c420ae-0615-4d6e-b4d6-1578835a76e7",
  "deepnote_execution_queue": []
 }
}