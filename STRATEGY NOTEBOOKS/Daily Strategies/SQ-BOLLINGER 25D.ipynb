{
 "cells": [
  {
   "cell_type": "code",
   "metadata": {
    "tags": [],
    "cell_id": "00000-7794ad1a-ae7a-4260-914d-10a5880505fd",
    "deepnote_to_be_reexecuted": false,
    "source_hash": "32367b8d",
    "execution_start": 1629252785892,
    "execution_millis": 387,
    "deepnote_cell_type": "code"
   },
   "source": "import datetime as dt\nfrom pathlib import Path\nimport requests\nimport pandas as pd\nimport numpy as np\nfrom math import floor\nfrom termcolor import colored as cl\nimport matplotlib.pyplot as plt\nplt.close('all')\nimport yfinance as yf\nplt.rcParams['figure.figsize'] = (20, 10)\nplt.style.use('fivethirtyeight')",
   "outputs": [],
   "execution_count": null
  },
  {
   "cell_type": "code",
   "metadata": {
    "tags": [],
    "cell_id": "00001-08e27961-d96c-42db-bec3-47a87d9c6e85",
    "deepnote_to_be_reexecuted": false,
    "source_hash": "6a229001",
    "execution_start": 1629252786300,
    "execution_millis": 245,
    "deepnote_cell_type": "code"
   },
   "source": "sq = yf.download(tickers='SQ', start='2015-11-29', end = '2021-08-11', interval='1d')\nsq.drop(columns = ['Open','High','Low','Adj Close','Volume'], inplace = True)\n# sq_1d.reset_index(inplace=True)\n# sq_1d.rename(columns = {'index':'Datetime'}, inplace = True)\n# sq_1d.set_index(pd.to_datetime(sq_1d['Datetime'],infer_datetime_format=True),inplace=True)\nsq.head()",
   "outputs": [
    {
     "name": "stdout",
     "text": "[*********************100%***********************]  1 of 1 completed\n",
     "output_type": "stream"
    },
    {
     "output_type": "execute_result",
     "execution_count": 2,
     "data": {
      "application/vnd.deepnote.dataframe.v2+json": {
       "row_count": 5,
       "column_count": 1,
       "columns": [
        {
         "name": "Close",
         "dtype": "float64",
         "stats": {
          "unique_count": 4,
          "nan_count": 0,
          "min": "11.90999984741211",
          "max": "12.039999961853027",
          "histogram": [
           {
            "bin_start": 11.90999984741211,
            "bin_end": 11.922999858856201,
            "count": 2
           },
           {
            "bin_start": 11.922999858856201,
            "bin_end": 11.935999870300293,
            "count": 1
           },
           {
            "bin_start": 11.935999870300293,
            "bin_end": 11.948999881744385,
            "count": 0
           },
           {
            "bin_start": 11.948999881744385,
            "bin_end": 11.961999893188477,
            "count": 0
           },
           {
            "bin_start": 11.961999893188477,
            "bin_end": 11.974999904632568,
            "count": 0
           },
           {
            "bin_start": 11.974999904632568,
            "bin_end": 11.98799991607666,
            "count": 0
           },
           {
            "bin_start": 11.98799991607666,
            "bin_end": 12.000999927520752,
            "count": 0
           },
           {
            "bin_start": 12.000999927520752,
            "bin_end": 12.013999938964844,
            "count": 0
           },
           {
            "bin_start": 12.013999938964844,
            "bin_end": 12.026999950408936,
            "count": 0
           },
           {
            "bin_start": 12.026999950408936,
            "bin_end": 12.039999961853027,
            "count": 2
           }
          ]
         }
        },
        {
         "name": "_deepnote_index_column",
         "dtype": "datetime64[ns]"
        }
       ],
       "rows_top": [
        {
         "Close": 12.039999961853027,
         "_deepnote_index_column": "2015-11-30T00:00:00.000000"
        },
        {
         "Close": 11.90999984741211,
         "_deepnote_index_column": "2015-12-01T00:00:00.000000"
        },
        {
         "Close": 11.930000305175781,
         "_deepnote_index_column": "2015-12-02T00:00:00.000000"
        },
        {
         "Close": 11.920000076293945,
         "_deepnote_index_column": "2015-12-03T00:00:00.000000"
        },
        {
         "Close": 12.039999961853027,
         "_deepnote_index_column": "2015-12-04T00:00:00.000000"
        }
       ],
       "rows_bottom": null
      },
      "text/plain": "            Close\nDate             \n2015-11-30  12.04\n2015-12-01  11.91\n2015-12-02  11.93\n2015-12-03  11.92\n2015-12-04  12.04",
      "text/html": "<div>\n<style scoped>\n    .dataframe tbody tr th:only-of-type {\n        vertical-align: middle;\n    }\n\n    .dataframe tbody tr th {\n        vertical-align: top;\n    }\n\n    .dataframe thead th {\n        text-align: right;\n    }\n</style>\n<table border=\"1\" class=\"dataframe\">\n  <thead>\n    <tr style=\"text-align: right;\">\n      <th></th>\n      <th>Close</th>\n    </tr>\n    <tr>\n      <th>Date</th>\n      <th></th>\n    </tr>\n  </thead>\n  <tbody>\n    <tr>\n      <th>2015-11-30</th>\n      <td>12.04</td>\n    </tr>\n    <tr>\n      <th>2015-12-01</th>\n      <td>11.91</td>\n    </tr>\n    <tr>\n      <th>2015-12-02</th>\n      <td>11.93</td>\n    </tr>\n    <tr>\n      <th>2015-12-03</th>\n      <td>11.92</td>\n    </tr>\n    <tr>\n      <th>2015-12-04</th>\n      <td>12.04</td>\n    </tr>\n  </tbody>\n</table>\n</div>"
     },
     "metadata": {}
    }
   ],
   "execution_count": null
  },
  {
   "cell_type": "code",
   "metadata": {
    "tags": [],
    "cell_id": "00002-28a8756c-2265-4e0e-8000-ce01258d71db",
    "deepnote_to_be_reexecuted": false,
    "source_hash": "82b9518e",
    "execution_start": 1629252786569,
    "execution_millis": 10,
    "deepnote_cell_type": "code"
   },
   "source": "# Drop NAs and calculate daily percent return\nsq['daily_return'] = sq['Close'].dropna().pct_change()\nsq.head()",
   "outputs": [
    {
     "output_type": "execute_result",
     "execution_count": 3,
     "data": {
      "application/vnd.deepnote.dataframe.v2+json": {
       "row_count": 5,
       "column_count": 2,
       "columns": [
        {
         "name": "Close",
         "dtype": "float64",
         "stats": {
          "unique_count": 4,
          "nan_count": 0,
          "min": "11.90999984741211",
          "max": "12.039999961853027",
          "histogram": [
           {
            "bin_start": 11.90999984741211,
            "bin_end": 11.922999858856201,
            "count": 2
           },
           {
            "bin_start": 11.922999858856201,
            "bin_end": 11.935999870300293,
            "count": 1
           },
           {
            "bin_start": 11.935999870300293,
            "bin_end": 11.948999881744385,
            "count": 0
           },
           {
            "bin_start": 11.948999881744385,
            "bin_end": 11.961999893188477,
            "count": 0
           },
           {
            "bin_start": 11.961999893188477,
            "bin_end": 11.974999904632568,
            "count": 0
           },
           {
            "bin_start": 11.974999904632568,
            "bin_end": 11.98799991607666,
            "count": 0
           },
           {
            "bin_start": 11.98799991607666,
            "bin_end": 12.000999927520752,
            "count": 0
           },
           {
            "bin_start": 12.000999927520752,
            "bin_end": 12.013999938964844,
            "count": 0
           },
           {
            "bin_start": 12.013999938964844,
            "bin_end": 12.026999950408936,
            "count": 0
           },
           {
            "bin_start": 12.026999950408936,
            "bin_end": 12.039999961853027,
            "count": 2
           }
          ]
         }
        },
        {
         "name": "daily_return",
         "dtype": "float64",
         "stats": {
          "unique_count": 4,
          "nan_count": 1,
          "min": "-0.010797351731960503",
          "max": "0.010067104428777007",
          "histogram": [
           {
            "bin_start": -0.010797351731960503,
            "bin_end": -0.008710906115886752,
            "count": 1
           },
           {
            "bin_start": -0.008710906115886752,
            "bin_end": -0.006624460499813,
            "count": 0
           },
           {
            "bin_start": -0.006624460499813,
            "bin_end": -0.004538014883739249,
            "count": 0
           },
           {
            "bin_start": -0.004538014883739249,
            "bin_end": -0.002451569267665498,
            "count": 0
           },
           {
            "bin_start": -0.002451569267665498,
            "bin_end": -0.00036512365159174776,
            "count": 1
           },
           {
            "bin_start": -0.00036512365159174776,
            "bin_end": 0.0017213219644820043,
            "count": 1
           },
           {
            "bin_start": 0.0017213219644820043,
            "bin_end": 0.0038077675805557563,
            "count": 0
           },
           {
            "bin_start": 0.0038077675805557563,
            "bin_end": 0.005894213196629507,
            "count": 0
           },
           {
            "bin_start": 0.005894213196629507,
            "bin_end": 0.007980658812703257,
            "count": 0
           },
           {
            "bin_start": 0.007980658812703257,
            "bin_end": 0.010067104428777007,
            "count": 1
           }
          ]
         }
        },
        {
         "name": "_deepnote_index_column",
         "dtype": "datetime64[ns]"
        }
       ],
       "rows_top": [
        {
         "Close": 12.039999961853027,
         "daily_return": "nan",
         "_deepnote_index_column": "2015-11-30T00:00:00.000000"
        },
        {
         "Close": 11.90999984741211,
         "daily_return": -0.010797351731960503,
         "_deepnote_index_column": "2015-12-01T00:00:00.000000"
        },
        {
         "Close": 11.930000305175781,
         "daily_return": 0.0016792995818566414,
         "_deepnote_index_column": "2015-12-02T00:00:00.000000"
        },
        {
         "Close": 11.920000076293945,
         "daily_return": -0.000838242131267819,
         "_deepnote_index_column": "2015-12-03T00:00:00.000000"
        },
        {
         "Close": 12.039999961853027,
         "daily_return": 0.010067104428777007,
         "_deepnote_index_column": "2015-12-04T00:00:00.000000"
        }
       ],
       "rows_bottom": null
      },
      "text/plain": "            Close  daily_return\nDate                           \n2015-11-30  12.04           NaN\n2015-12-01  11.91     -0.010797\n2015-12-02  11.93      0.001679\n2015-12-03  11.92     -0.000838\n2015-12-04  12.04      0.010067",
      "text/html": "<div>\n<style scoped>\n    .dataframe tbody tr th:only-of-type {\n        vertical-align: middle;\n    }\n\n    .dataframe tbody tr th {\n        vertical-align: top;\n    }\n\n    .dataframe thead th {\n        text-align: right;\n    }\n</style>\n<table border=\"1\" class=\"dataframe\">\n  <thead>\n    <tr style=\"text-align: right;\">\n      <th></th>\n      <th>Close</th>\n      <th>daily_return</th>\n    </tr>\n    <tr>\n      <th>Date</th>\n      <th></th>\n      <th></th>\n    </tr>\n  </thead>\n  <tbody>\n    <tr>\n      <th>2015-11-30</th>\n      <td>12.04</td>\n      <td>NaN</td>\n    </tr>\n    <tr>\n      <th>2015-12-01</th>\n      <td>11.91</td>\n      <td>-0.010797</td>\n    </tr>\n    <tr>\n      <th>2015-12-02</th>\n      <td>11.93</td>\n      <td>0.001679</td>\n    </tr>\n    <tr>\n      <th>2015-12-03</th>\n      <td>11.92</td>\n      <td>-0.000838</td>\n    </tr>\n    <tr>\n      <th>2015-12-04</th>\n      <td>12.04</td>\n      <td>0.010067</td>\n    </tr>\n  </tbody>\n</table>\n</div>"
     },
     "metadata": {}
    }
   ],
   "execution_count": null
  },
  {
   "cell_type": "code",
   "metadata": {
    "tags": [],
    "cell_id": "00003-5bbaf4a0-dff7-4ee8-a6c1-66c2ab088bbc",
    "deepnote_to_be_reexecuted": false,
    "source_hash": "d39f8245",
    "execution_start": 1629252786595,
    "execution_millis": 58,
    "deepnote_cell_type": "code"
   },
   "source": "# Set short and long windows\nshort_window = 1\nlong_window = 10\n\n# Construct a `Fast` and `Slow` Exponential Moving Average from short and long windows, respectively\nsq['fast_close'] = sq['Close'].ewm(halflife=short_window).mean()\nsq['slow_close'] = sq['Close'].ewm(halflife=long_window).mean()\n\n# Construct a crossover trading signal\nsq['crossover_long'] = np.where(sq['fast_close'] > sq['slow_close'], 1.0, 0.0)\nsq['crossover_short'] = np.where(sq['fast_close'] < sq['slow_close'], -1.0, 0.0)\nsq['crossover_signal'] = sq['crossover_long'] + sq['crossover_short']\n\nsq.head()",
   "outputs": [
    {
     "output_type": "execute_result",
     "execution_count": 4,
     "data": {
      "application/vnd.deepnote.dataframe.v2+json": {
       "row_count": 5,
       "column_count": 7,
       "columns": [
        {
         "name": "Close",
         "dtype": "float64",
         "stats": {
          "unique_count": 4,
          "nan_count": 0,
          "min": "11.90999984741211",
          "max": "12.039999961853027",
          "histogram": [
           {
            "bin_start": 11.90999984741211,
            "bin_end": 11.922999858856201,
            "count": 2
           },
           {
            "bin_start": 11.922999858856201,
            "bin_end": 11.935999870300293,
            "count": 1
           },
           {
            "bin_start": 11.935999870300293,
            "bin_end": 11.948999881744385,
            "count": 0
           },
           {
            "bin_start": 11.948999881744385,
            "bin_end": 11.961999893188477,
            "count": 0
           },
           {
            "bin_start": 11.961999893188477,
            "bin_end": 11.974999904632568,
            "count": 0
           },
           {
            "bin_start": 11.974999904632568,
            "bin_end": 11.98799991607666,
            "count": 0
           },
           {
            "bin_start": 11.98799991607666,
            "bin_end": 12.000999927520752,
            "count": 0
           },
           {
            "bin_start": 12.000999927520752,
            "bin_end": 12.013999938964844,
            "count": 0
           },
           {
            "bin_start": 12.013999938964844,
            "bin_end": 12.026999950408936,
            "count": 0
           },
           {
            "bin_start": 12.026999950408936,
            "bin_end": 12.039999961853027,
            "count": 2
           }
          ]
         }
        },
        {
         "name": "daily_return",
         "dtype": "float64",
         "stats": {
          "unique_count": 4,
          "nan_count": 1,
          "min": "-0.010797351731960503",
          "max": "0.010067104428777007",
          "histogram": [
           {
            "bin_start": -0.010797351731960503,
            "bin_end": -0.008710906115886752,
            "count": 1
           },
           {
            "bin_start": -0.008710906115886752,
            "bin_end": -0.006624460499813,
            "count": 0
           },
           {
            "bin_start": -0.006624460499813,
            "bin_end": -0.004538014883739249,
            "count": 0
           },
           {
            "bin_start": -0.004538014883739249,
            "bin_end": -0.002451569267665498,
            "count": 0
           },
           {
            "bin_start": -0.002451569267665498,
            "bin_end": -0.00036512365159174776,
            "count": 1
           },
           {
            "bin_start": -0.00036512365159174776,
            "bin_end": 0.0017213219644820043,
            "count": 1
           },
           {
            "bin_start": 0.0017213219644820043,
            "bin_end": 0.0038077675805557563,
            "count": 0
           },
           {
            "bin_start": 0.0038077675805557563,
            "bin_end": 0.005894213196629507,
            "count": 0
           },
           {
            "bin_start": 0.005894213196629507,
            "bin_end": 0.007980658812703257,
            "count": 0
           },
           {
            "bin_start": 0.007980658812703257,
            "bin_end": 0.010067104428777007,
            "count": 1
           }
          ]
         }
        },
        {
         "name": "fast_close",
         "dtype": "float64",
         "stats": {
          "unique_count": 5,
          "nan_count": 0,
          "min": "11.929333432515461",
          "max": "12.039999961853027",
          "histogram": [
           {
            "bin_start": 11.929333432515461,
            "bin_end": 11.940400085449218,
            "count": 2
           },
           {
            "bin_start": 11.940400085449218,
            "bin_end": 11.951466738382974,
            "count": 0
           },
           {
            "bin_start": 11.951466738382974,
            "bin_end": 11.96253339131673,
            "count": 1
           },
           {
            "bin_start": 11.96253339131673,
            "bin_end": 11.973600044250487,
            "count": 0
           },
           {
            "bin_start": 11.973600044250487,
            "bin_end": 11.984666697184245,
            "count": 0
           },
           {
            "bin_start": 11.984666697184245,
            "bin_end": 11.995733350118002,
            "count": 1
           },
           {
            "bin_start": 11.995733350118002,
            "bin_end": 12.006800003051758,
            "count": 0
           },
           {
            "bin_start": 12.006800003051758,
            "bin_end": 12.017866655985515,
            "count": 0
           },
           {
            "bin_start": 12.017866655985515,
            "bin_end": 12.028933308919271,
            "count": 0
           },
           {
            "bin_start": 12.028933308919271,
            "bin_end": 12.039999961853027,
            "count": 1
           }
          ]
         }
        },
        {
         "name": "slow_close",
         "dtype": "float64",
         "stats": {
          "unique_count": 5,
          "nan_count": 0,
          "min": "11.947129358295546",
          "max": "12.039999961853027",
          "histogram": [
           {
            "bin_start": 11.947129358295546,
            "bin_end": 11.956416418651294,
            "count": 1
           },
           {
            "bin_start": 11.956416418651294,
            "bin_end": 11.965703479007043,
            "count": 1
           },
           {
            "bin_start": 11.965703479007043,
            "bin_end": 11.974990539362791,
            "count": 2
           },
           {
            "bin_start": 11.974990539362791,
            "bin_end": 11.984277599718538,
            "count": 0
           },
           {
            "bin_start": 11.984277599718538,
            "bin_end": 11.993564660074288,
            "count": 0
           },
           {
            "bin_start": 11.993564660074288,
            "bin_end": 12.002851720430035,
            "count": 0
           },
           {
            "bin_start": 12.002851720430035,
            "bin_end": 12.012138780785783,
            "count": 0
           },
           {
            "bin_start": 12.012138780785783,
            "bin_end": 12.02142584114153,
            "count": 0
           },
           {
            "bin_start": 12.02142584114153,
            "bin_end": 12.03071290149728,
            "count": 0
           },
           {
            "bin_start": 12.03071290149728,
            "bin_end": 12.039999961853027,
            "count": 1
           }
          ]
         }
        },
        {
         "name": "crossover_long",
         "dtype": "float64",
         "stats": {
          "unique_count": 2,
          "nan_count": 0,
          "min": "0.0",
          "max": "1.0",
          "histogram": [
           {
            "bin_start": 0,
            "bin_end": 0.1,
            "count": 4
           },
           {
            "bin_start": 0.1,
            "bin_end": 0.2,
            "count": 0
           },
           {
            "bin_start": 0.2,
            "bin_end": 0.30000000000000004,
            "count": 0
           },
           {
            "bin_start": 0.30000000000000004,
            "bin_end": 0.4,
            "count": 0
           },
           {
            "bin_start": 0.4,
            "bin_end": 0.5,
            "count": 0
           },
           {
            "bin_start": 0.5,
            "bin_end": 0.6000000000000001,
            "count": 0
           },
           {
            "bin_start": 0.6000000000000001,
            "bin_end": 0.7000000000000001,
            "count": 0
           },
           {
            "bin_start": 0.7000000000000001,
            "bin_end": 0.8,
            "count": 0
           },
           {
            "bin_start": 0.8,
            "bin_end": 0.9,
            "count": 0
           },
           {
            "bin_start": 0.9,
            "bin_end": 1,
            "count": 1
           }
          ]
         }
        },
        {
         "name": "crossover_short",
         "dtype": "float64",
         "stats": {
          "unique_count": 2,
          "nan_count": 0,
          "min": "-1.0",
          "max": "0.0",
          "histogram": [
           {
            "bin_start": -1,
            "bin_end": -0.9,
            "count": 3
           },
           {
            "bin_start": -0.9,
            "bin_end": -0.8,
            "count": 0
           },
           {
            "bin_start": -0.8,
            "bin_end": -0.7,
            "count": 0
           },
           {
            "bin_start": -0.7,
            "bin_end": -0.6,
            "count": 0
           },
           {
            "bin_start": -0.6,
            "bin_end": -0.5,
            "count": 0
           },
           {
            "bin_start": -0.5,
            "bin_end": -0.3999999999999999,
            "count": 0
           },
           {
            "bin_start": -0.3999999999999999,
            "bin_end": -0.29999999999999993,
            "count": 0
           },
           {
            "bin_start": -0.29999999999999993,
            "bin_end": -0.19999999999999996,
            "count": 0
           },
           {
            "bin_start": -0.19999999999999996,
            "bin_end": -0.09999999999999998,
            "count": 0
           },
           {
            "bin_start": -0.09999999999999998,
            "bin_end": 0,
            "count": 2
           }
          ]
         }
        },
        {
         "name": "crossover_signal",
         "dtype": "float64",
         "stats": {
          "unique_count": 3,
          "nan_count": 0,
          "min": "-1.0",
          "max": "1.0",
          "histogram": [
           {
            "bin_start": -1,
            "bin_end": -0.8,
            "count": 3
           },
           {
            "bin_start": -0.8,
            "bin_end": -0.6,
            "count": 0
           },
           {
            "bin_start": -0.6,
            "bin_end": -0.3999999999999999,
            "count": 0
           },
           {
            "bin_start": -0.3999999999999999,
            "bin_end": -0.19999999999999996,
            "count": 0
           },
           {
            "bin_start": -0.19999999999999996,
            "bin_end": 0,
            "count": 0
           },
           {
            "bin_start": 0,
            "bin_end": 0.20000000000000018,
            "count": 1
           },
           {
            "bin_start": 0.20000000000000018,
            "bin_end": 0.40000000000000013,
            "count": 0
           },
           {
            "bin_start": 0.40000000000000013,
            "bin_end": 0.6000000000000001,
            "count": 0
           },
           {
            "bin_start": 0.6000000000000001,
            "bin_end": 0.8,
            "count": 0
           },
           {
            "bin_start": 0.8,
            "bin_end": 1,
            "count": 1
           }
          ]
         }
        },
        {
         "name": "_deepnote_index_column",
         "dtype": "datetime64[ns]"
        }
       ],
       "rows_top": [
        {
         "Close": 12.039999961853027,
         "daily_return": "nan",
         "fast_close": 12.039999961853027,
         "slow_close": 12.039999961853027,
         "crossover_long": 0,
         "crossover_short": 0,
         "crossover_signal": 0,
         "_deepnote_index_column": "2015-11-30T00:00:00.000000"
        },
        {
         "Close": 11.90999984741211,
         "daily_return": -0.010797351731960503,
         "fast_close": 11.953333218892416,
         "slow_close": 11.972748075822068,
         "crossover_long": 0,
         "crossover_short": -1,
         "crossover_signal": -1,
         "_deepnote_index_column": "2015-12-01T00:00:00.000000"
        },
        {
         "Close": 11.930000305175781,
         "daily_return": 0.0016792995818566414,
         "fast_close": 11.940000125340053,
         "slow_close": 11.957500529312318,
         "crossover_long": 0,
         "crossover_short": -1,
         "crossover_signal": -1,
         "_deepnote_index_column": "2015-12-02T00:00:00.000000"
        },
        {
         "Close": 11.920000076293945,
         "daily_return": -0.000838242131267819,
         "fast_close": 11.929333432515461,
         "slow_close": 11.947129358295546,
         "crossover_long": 0,
         "crossover_short": -1,
         "crossover_signal": -1,
         "_deepnote_index_column": "2015-12-03T00:00:00.000000"
        },
        {
         "Close": 12.039999961853027,
         "daily_return": 0.010067104428777007,
         "fast_close": 11.986451641205818,
         "slow_close": 11.968363262308792,
         "crossover_long": 1,
         "crossover_short": 0,
         "crossover_signal": 1,
         "_deepnote_index_column": "2015-12-04T00:00:00.000000"
        }
       ],
       "rows_bottom": null
      },
      "text/plain": "            Close  daily_return  fast_close  slow_close  crossover_long  \\\nDate                                                                      \n2015-11-30  12.04           NaN   12.040000   12.040000             0.0   \n2015-12-01  11.91     -0.010797   11.953333   11.972748             0.0   \n2015-12-02  11.93      0.001679   11.940000   11.957501             0.0   \n2015-12-03  11.92     -0.000838   11.929333   11.947129             0.0   \n2015-12-04  12.04      0.010067   11.986452   11.968363             1.0   \n\n            crossover_short  crossover_signal  \nDate                                           \n2015-11-30              0.0               0.0  \n2015-12-01             -1.0              -1.0  \n2015-12-02             -1.0              -1.0  \n2015-12-03             -1.0              -1.0  \n2015-12-04              0.0               1.0  ",
      "text/html": "<div>\n<style scoped>\n    .dataframe tbody tr th:only-of-type {\n        vertical-align: middle;\n    }\n\n    .dataframe tbody tr th {\n        vertical-align: top;\n    }\n\n    .dataframe thead th {\n        text-align: right;\n    }\n</style>\n<table border=\"1\" class=\"dataframe\">\n  <thead>\n    <tr style=\"text-align: right;\">\n      <th></th>\n      <th>Close</th>\n      <th>daily_return</th>\n      <th>fast_close</th>\n      <th>slow_close</th>\n      <th>crossover_long</th>\n      <th>crossover_short</th>\n      <th>crossover_signal</th>\n    </tr>\n    <tr>\n      <th>Date</th>\n      <th></th>\n      <th></th>\n      <th></th>\n      <th></th>\n      <th></th>\n      <th></th>\n      <th></th>\n    </tr>\n  </thead>\n  <tbody>\n    <tr>\n      <th>2015-11-30</th>\n      <td>12.04</td>\n      <td>NaN</td>\n      <td>12.040000</td>\n      <td>12.040000</td>\n      <td>0.0</td>\n      <td>0.0</td>\n      <td>0.0</td>\n    </tr>\n    <tr>\n      <th>2015-12-01</th>\n      <td>11.91</td>\n      <td>-0.010797</td>\n      <td>11.953333</td>\n      <td>11.972748</td>\n      <td>0.0</td>\n      <td>-1.0</td>\n      <td>-1.0</td>\n    </tr>\n    <tr>\n      <th>2015-12-02</th>\n      <td>11.93</td>\n      <td>0.001679</td>\n      <td>11.940000</td>\n      <td>11.957501</td>\n      <td>0.0</td>\n      <td>-1.0</td>\n      <td>-1.0</td>\n    </tr>\n    <tr>\n      <th>2015-12-03</th>\n      <td>11.92</td>\n      <td>-0.000838</td>\n      <td>11.929333</td>\n      <td>11.947129</td>\n      <td>0.0</td>\n      <td>-1.0</td>\n      <td>-1.0</td>\n    </tr>\n    <tr>\n      <th>2015-12-04</th>\n      <td>12.04</td>\n      <td>0.010067</td>\n      <td>11.986452</td>\n      <td>11.968363</td>\n      <td>1.0</td>\n      <td>0.0</td>\n      <td>1.0</td>\n    </tr>\n  </tbody>\n</table>\n</div>"
     },
     "metadata": {}
    }
   ],
   "execution_count": null
  },
  {
   "cell_type": "code",
   "metadata": {
    "tags": [],
    "cell_id": "00004-706ca357-1bf0-46d0-a57d-4f77d470dcc8",
    "deepnote_to_be_reexecuted": false,
    "source_hash": "8b1d31d6",
    "execution_start": 1629252786695,
    "execution_millis": 398,
    "deepnote_cell_type": "code"
   },
   "source": "# Plot the EMA of XRP/USD closing prices\nsq[['Close', 'fast_close', 'slow_close']].plot(figsize=(20,10))",
   "outputs": [
    {
     "output_type": "execute_result",
     "execution_count": 5,
     "data": {
      "text/plain": "<AxesSubplot:xlabel='Date'>"
     },
     "metadata": {}
    },
    {
     "data": {
      "text/plain": "<Figure size 1440x720 with 1 Axes>",
      "image/png": "[encoded data removed]"
     },
     "metadata": {
      "image/png": {
       "width": 1297,
       "height": 559
      }
     },
     "output_type": "display_data"
    }
   ],
   "execution_count": null
  },
  {
   "cell_type": "code",
   "metadata": {
    "tags": [],
    "cell_id": "00005-4fa3b4d2-ca6f-45cd-838b-8c804cfc32d3",
    "deepnote_to_be_reexecuted": false,
    "source_hash": "3738b8a6",
    "execution_start": 1629252787147,
    "execution_millis": 85,
    "deepnote_cell_type": "code"
   },
   "source": "# Set short and long volatility windows\nshort_vol_window = 1\nlong_vol_window = 10\n\n# Construct a `Fast` and `Slow` Exponential Moving Average from short and long windows, respectively\nsq['fast_vol'] = sq['daily_return'].ewm(halflife=short_vol_window).std()\nsq['slow_vol'] = sq['daily_return'].ewm(halflife=long_vol_window).std()\n\n# Construct a crossover trading signal\nsq['vol_trend_long'] = np.where(sq['fast_vol'] < sq['slow_vol'], 1.0, 0.0)\nsq['vol_trend_short'] = np.where(sq['fast_vol'] > sq['slow_vol'], -1.0, 0.0) \nsq['vol_trend_signal'] = sq['vol_trend_long'] + sq['vol_trend_short']\n\nsq",
   "outputs": [
    {
     "output_type": "execute_result",
     "execution_count": 6,
     "data": {
      "application/vnd.deepnote.dataframe.v2+json": {
       "row_count": 1434,
       "column_count": 12,
       "columns": [
        {
         "name": "Close",
         "dtype": "float64",
         "stats": {
          "unique_count": 1294,
          "nan_count": 0,
          "min": "8.369999885559082",
          "max": "281.80999755859375",
          "histogram": [
           {
            "bin_start": 8.369999885559082,
            "bin_end": 35.71399965286255,
            "count": 488
           },
           {
            "bin_start": 35.71399965286255,
            "bin_end": 63.05799942016601,
            "count": 279
           },
           {
            "bin_start": 63.05799942016601,
            "bin_end": 90.40199918746947,
            "count": 360
           },
           {
            "bin_start": 90.40199918746947,
            "bin_end": 117.74599895477294,
            "count": 29
           },
           {
            "bin_start": 117.74599895477294,
            "bin_end": 145.08999872207642,
            "count": 33
           },
           {
            "bin_start": 145.08999872207642,
            "bin_end": 172.43399848937986,
            "count": 40
           },
           {
            "bin_start": 172.43399848937986,
            "bin_end": 199.77799825668333,
            "count": 27
           },
           {
            "bin_start": 199.77799825668333,
            "bin_end": 227.1219980239868,
            "count": 74
           },
           {
            "bin_start": 227.1219980239868,
            "bin_end": 254.46599779129028,
            "count": 72
           },
           {
            "bin_start": 254.46599779129028,
            "bin_end": 281.80999755859375,
            "count": 32
           }
          ]
         }
        },
        {
         "name": "daily_return",
         "dtype": "float64",
         "stats": {
          "unique_count": 1427,
          "nan_count": 1,
          "min": "-0.2856153690367952",
          "max": "0.15746071772182946",
          "histogram": [
           {
            "bin_start": -0.2856153690367952,
            "bin_end": -0.2413077603609327,
            "count": 1
           },
           {
            "bin_start": -0.2413077603609327,
            "bin_end": -0.19700015168507026,
            "count": 1
           },
           {
            "bin_start": -0.19700015168507026,
            "bin_end": -0.15269254300920782,
            "count": 1
           },
           {
            "bin_start": -0.15269254300920782,
            "bin_end": -0.10838493433334534,
            "count": 5
           },
           {
            "bin_start": -0.10838493433334534,
            "bin_end": -0.06407732565748286,
            "count": 34
           },
           {
            "bin_start": -0.06407732565748286,
            "bin_end": -0.019769716981620444,
            "count": 226
           },
           {
            "bin_start": -0.019769716981620444,
            "bin_end": 0.02453789169424203,
            "count": 892
           },
           {
            "bin_start": 0.02453789169424203,
            "bin_end": 0.0688455003701045,
            "count": 238
           },
           {
            "bin_start": 0.0688455003701045,
            "bin_end": 0.11315310904596698,
            "count": 27
           },
           {
            "bin_start": 0.11315310904596698,
            "bin_end": 0.15746071772182946,
            "count": 8
           }
          ]
         }
        },
        {
         "name": "fast_close",
         "dtype": "float64",
         "stats": {
          "unique_count": 1434,
          "nan_count": 0,
          "min": "8.522700847679275",
          "max": "277.12944452743716",
          "histogram": [
           {
            "bin_start": 8.522700847679275,
            "bin_end": 35.383375215655064,
            "count": 487
           },
           {
            "bin_start": 35.383375215655064,
            "bin_end": 62.24404958363085,
            "count": 245
           },
           {
            "bin_start": 62.24404958363085,
            "bin_end": 89.10472395160663,
            "count": 391
           },
           {
            "bin_start": 89.10472395160663,
            "bin_end": 115.96539831958242,
            "count": 34
           },
           {
            "bin_start": 115.96539831958242,
            "bin_end": 142.82607268755822,
            "count": 28
           },
           {
            "bin_start": 142.82607268755822,
            "bin_end": 169.686747055534,
            "count": 39
           },
           {
            "bin_start": 169.686747055534,
            "bin_end": 196.54742142350977,
            "count": 31
           },
           {
            "bin_start": 196.54742142350977,
            "bin_end": 223.40809579148555,
            "count": 62
           },
           {
            "bin_start": 223.40809579148555,
            "bin_end": 250.26877015946133,
            "count": 81
           },
           {
            "bin_start": 250.26877015946133,
            "bin_end": 277.12944452743716,
            "count": 36
           }
          ]
         }
        },
        {
         "name": "slow_close",
         "dtype": "float64",
         "stats": {
          "unique_count": 1434,
          "nan_count": 0,
          "min": "9.350536473365342",
          "max": "256.3075086833581",
          "histogram": [
           {
            "bin_start": 9.350536473365342,
            "bin_end": 34.046233694364616,
            "count": 492
           },
           {
            "bin_start": 34.046233694364616,
            "bin_end": 58.741930915363895,
            "count": 168
           },
           {
            "bin_start": 58.741930915363895,
            "bin_end": 83.43762813636316,
            "count": 466
           },
           {
            "bin_start": 83.43762813636316,
            "bin_end": 108.13332535736244,
            "count": 38
           },
           {
            "bin_start": 108.13332535736244,
            "bin_end": 132.82902257836173,
            "count": 23
           },
           {
            "bin_start": 132.82902257836173,
            "bin_end": 157.52471979936098,
            "count": 35
           },
           {
            "bin_start": 157.52471979936098,
            "bin_end": 182.22041702036026,
            "count": 35
           },
           {
            "bin_start": 182.22041702036026,
            "bin_end": 206.91611424135954,
            "count": 17
           },
           {
            "bin_start": 206.91611424135954,
            "bin_end": 231.61181146235882,
            "count": 75
           },
           {
            "bin_start": 231.61181146235882,
            "bin_end": 256.3075086833581,
            "count": 85
           }
          ]
         }
        },
        {
         "name": "crossover_long",
         "dtype": "float64",
         "stats": {
          "unique_count": 2,
          "nan_count": 0,
          "min": "0.0",
          "max": "1.0",
          "histogram": [
           {
            "bin_start": 0,
            "bin_end": 0.1,
            "count": 441
           },
           {
            "bin_start": 0.1,
            "bin_end": 0.2,
            "count": 0
           },
           {
            "bin_start": 0.2,
            "bin_end": 0.30000000000000004,
            "count": 0
           },
           {
            "bin_start": 0.30000000000000004,
            "bin_end": 0.4,
            "count": 0
           },
           {
            "bin_start": 0.4,
            "bin_end": 0.5,
            "count": 0
           },
           {
            "bin_start": 0.5,
            "bin_end": 0.6000000000000001,
            "count": 0
           },
           {
            "bin_start": 0.6000000000000001,
            "bin_end": 0.7000000000000001,
            "count": 0
           },
           {
            "bin_start": 0.7000000000000001,
            "bin_end": 0.8,
            "count": 0
           },
           {
            "bin_start": 0.8,
            "bin_end": 0.9,
            "count": 0
           },
           {
            "bin_start": 0.9,
            "bin_end": 1,
            "count": 993
           }
          ]
         }
        },
        {
         "name": "crossover_short",
         "dtype": "float64",
         "stats": {
          "unique_count": 2,
          "nan_count": 0,
          "min": "-1.0",
          "max": "0.0",
          "histogram": [
           {
            "bin_start": -1,
            "bin_end": -0.9,
            "count": 440
           },
           {
            "bin_start": -0.9,
            "bin_end": -0.8,
            "count": 0
           },
           {
            "bin_start": -0.8,
            "bin_end": -0.7,
            "count": 0
           },
           {
            "bin_start": -0.7,
            "bin_end": -0.6,
            "count": 0
           },
           {
            "bin_start": -0.6,
            "bin_end": -0.5,
            "count": 0
           },
           {
            "bin_start": -0.5,
            "bin_end": -0.3999999999999999,
            "count": 0
           },
           {
            "bin_start": -0.3999999999999999,
            "bin_end": -0.29999999999999993,
            "count": 0
           },
           {
            "bin_start": -0.29999999999999993,
            "bin_end": -0.19999999999999996,
            "count": 0
           },
           {
            "bin_start": -0.19999999999999996,
            "bin_end": -0.09999999999999998,
            "count": 0
           },
           {
            "bin_start": -0.09999999999999998,
            "bin_end": 0,
            "count": 994
           }
          ]
         }
        },
        {
         "name": "crossover_signal",
         "dtype": "float64",
         "stats": {
          "unique_count": 3,
          "nan_count": 0,
          "min": "-1.0",
          "max": "1.0",
          "histogram": [
           {
            "bin_start": -1,
            "bin_end": -0.8,
            "count": 440
           },
           {
            "bin_start": -0.8,
            "bin_end": -0.6,
            "count": 0
           },
           {
            "bin_start": -0.6,
            "bin_end": -0.3999999999999999,
            "count": 0
           },
           {
            "bin_start": -0.3999999999999999,
            "bin_end": -0.19999999999999996,
            "count": 0
           },
           {
            "bin_start": -0.19999999999999996,
            "bin_end": 0,
            "count": 0
           },
           {
            "bin_start": 0,
            "bin_end": 0.20000000000000018,
            "count": 1
           },
           {
            "bin_start": 0.20000000000000018,
            "bin_end": 0.40000000000000013,
            "count": 0
           },
           {
            "bin_start": 0.40000000000000013,
            "bin_end": 0.6000000000000001,
            "count": 0
           },
           {
            "bin_start": 0.6000000000000001,
            "bin_end": 0.8,
            "count": 0
           },
           {
            "bin_start": 0.8,
            "bin_end": 1,
            "count": 993
           }
          ]
         }
        },
        {
         "name": "fast_vol",
         "dtype": "float64",
         "stats": {
          "unique_count": 1432,
          "nan_count": 2,
          "min": "0.0027750734734161443",
          "max": "0.19444274298874448",
          "histogram": [
           {
            "bin_start": 0.0027750734734161443,
            "bin_end": 0.021941840424948976,
            "count": 635
           },
           {
            "bin_start": 0.021941840424948976,
            "bin_end": 0.04110860737648181,
            "count": 546
           },
           {
            "bin_start": 0.04110860737648181,
            "bin_end": 0.06027537432801464,
            "count": 171
           },
           {
            "bin_start": 0.06027537432801464,
            "bin_end": 0.07944214127954748,
            "count": 51
           },
           {
            "bin_start": 0.07944214127954748,
            "bin_end": 0.0986089082310803,
            "count": 14
           },
           {
            "bin_start": 0.0986089082310803,
            "bin_end": 0.11777567518261314,
            "count": 10
           },
           {
            "bin_start": 0.11777567518261314,
            "bin_end": 0.136942442134146,
            "count": 2
           },
           {
            "bin_start": 0.136942442134146,
            "bin_end": 0.15610920908567882,
            "count": 1
           },
           {
            "bin_start": 0.15610920908567882,
            "bin_end": 0.17527597603721165,
            "count": 0
           },
           {
            "bin_start": 0.17527597603721165,
            "bin_end": 0.19444274298874448,
            "count": 2
           }
          ]
         }
        },
        {
         "name": "slow_vol",
         "dtype": "float64",
         "stats": {
          "unique_count": 1432,
          "nan_count": 2,
          "min": "0.006465513910445888",
          "max": "0.09695548002787861",
          "histogram": [
           {
            "bin_start": 0.006465513910445888,
            "bin_end": 0.01551451052218916,
            "count": 46
           },
           {
            "bin_start": 0.01551451052218916,
            "bin_end": 0.024563507133932433,
            "count": 452
           },
           {
            "bin_start": 0.024563507133932433,
            "bin_end": 0.033612503745675704,
            "count": 407
           },
           {
            "bin_start": 0.033612503745675704,
            "bin_end": 0.042661500357418974,
            "count": 307
           },
           {
            "bin_start": 0.042661500357418974,
            "bin_end": 0.051710496969162245,
            "count": 149
           },
           {
            "bin_start": 0.051710496969162245,
            "bin_end": 0.06075949358090553,
            "count": 34
           },
           {
            "bin_start": 0.06075949358090553,
            "bin_end": 0.0698084901926488,
            "count": 8
           },
           {
            "bin_start": 0.0698084901926488,
            "bin_end": 0.07885748680439207,
            "count": 5
           },
           {
            "bin_start": 0.07885748680439207,
            "bin_end": 0.08790648341613534,
            "count": 11
           },
           {
            "bin_start": 0.08790648341613534,
            "bin_end": 0.09695548002787861,
            "count": 13
           }
          ]
         }
        },
        {
         "name": "vol_trend_long",
         "dtype": "float64",
         "stats": {
          "unique_count": 2,
          "nan_count": 0,
          "min": "0.0",
          "max": "1.0",
          "histogram": [
           {
            "bin_start": 0,
            "bin_end": 0.1,
            "count": 477
           },
           {
            "bin_start": 0.1,
            "bin_end": 0.2,
            "count": 0
           },
           {
            "bin_start": 0.2,
            "bin_end": 0.30000000000000004,
            "count": 0
           },
           {
            "bin_start": 0.30000000000000004,
            "bin_end": 0.4,
            "count": 0
           },
           {
            "bin_start": 0.4,
            "bin_end": 0.5,
            "count": 0
           },
           {
            "bin_start": 0.5,
            "bin_end": 0.6000000000000001,
            "count": 0
           },
           {
            "bin_start": 0.6000000000000001,
            "bin_end": 0.7000000000000001,
            "count": 0
           },
           {
            "bin_start": 0.7000000000000001,
            "bin_end": 0.8,
            "count": 0
           },
           {
            "bin_start": 0.8,
            "bin_end": 0.9,
            "count": 0
           },
           {
            "bin_start": 0.9,
            "bin_end": 1,
            "count": 957
           }
          ]
         }
        },
        {
         "name": "vol_trend_short",
         "dtype": "float64",
         "stats": {
          "unique_count": 2,
          "nan_count": 0,
          "min": "-1.0",
          "max": "0.0",
          "histogram": [
           {
            "bin_start": -1,
            "bin_end": -0.9,
            "count": 474
           },
           {
            "bin_start": -0.9,
            "bin_end": -0.8,
            "count": 0
           },
           {
            "bin_start": -0.8,
            "bin_end": -0.7,
            "count": 0
           },
           {
            "bin_start": -0.7,
            "bin_end": -0.6,
            "count": 0
           },
           {
            "bin_start": -0.6,
            "bin_end": -0.5,
            "count": 0
           },
           {
            "bin_start": -0.5,
            "bin_end": -0.3999999999999999,
            "count": 0
           },
           {
            "bin_start": -0.3999999999999999,
            "bin_end": -0.29999999999999993,
            "count": 0
           },
           {
            "bin_start": -0.29999999999999993,
            "bin_end": -0.19999999999999996,
            "count": 0
           },
           {
            "bin_start": -0.19999999999999996,
            "bin_end": -0.09999999999999998,
            "count": 0
           },
           {
            "bin_start": -0.09999999999999998,
            "bin_end": 0,
            "count": 960
           }
          ]
         }
        },
        {
         "name": "vol_trend_signal",
         "dtype": "float64",
         "stats": {
          "unique_count": 3,
          "nan_count": 0,
          "min": "-1.0",
          "max": "1.0",
          "histogram": [
           {
            "bin_start": -1,
            "bin_end": -0.8,
            "count": 474
           },
           {
            "bin_start": -0.8,
            "bin_end": -0.6,
            "count": 0
           },
           {
            "bin_start": -0.6,
            "bin_end": -0.3999999999999999,
            "count": 0
           },
           {
            "bin_start": -0.3999999999999999,
            "bin_end": -0.19999999999999996,
            "count": 0
           },
           {
            "bin_start": -0.19999999999999996,
            "bin_end": 0,
            "count": 0
           },
           {
            "bin_start": 0,
            "bin_end": 0.20000000000000018,
            "count": 3
           },
           {
            "bin_start": 0.20000000000000018,
            "bin_end": 0.40000000000000013,
            "count": 0
           },
           {
            "bin_start": 0.40000000000000013,
            "bin_end": 0.6000000000000001,
            "count": 0
           },
           {
            "bin_start": 0.6000000000000001,
            "bin_end": 0.8,
            "count": 0
           },
           {
            "bin_start": 0.8,
            "bin_end": 1,
            "count": 957
           }
          ]
         }
        },
        {
         "name": "_deepnote_index_column",
         "dtype": "datetime64[ns]"
        }
       ],
       "rows_top": [
        {
         "Close": 12.039999961853027,
         "daily_return": "nan",
         "fast_close": 12.039999961853027,
         "slow_close": 12.039999961853027,
         "crossover_long": 0,
         "crossover_short": 0,
         "crossover_signal": 0,
         "fast_vol": "nan",
         "slow_vol": "nan",
         "vol_trend_long": 0,
         "vol_trend_short": 0,
         "vol_trend_signal": 0,
         "_deepnote_index_column": "2015-11-30T00:00:00.000000"
        },
        {
         "Close": 11.90999984741211,
         "daily_return": -0.010797351731960503,
         "fast_close": 11.953333218892416,
         "slow_close": 11.972748075822068,
         "crossover_long": 0,
         "crossover_short": -1,
         "crossover_signal": -1,
         "fast_vol": "nan",
         "slow_vol": "nan",
         "vol_trend_long": 0,
         "vol_trend_short": 0,
         "vol_trend_signal": 0,
         "_deepnote_index_column": "2015-12-01T00:00:00.000000"
        },
        {
         "Close": 11.930000305175781,
         "daily_return": 0.0016792995818566414,
         "fast_close": 11.940000125340053,
         "slow_close": 11.957500529312318,
         "crossover_long": 0,
         "crossover_short": -1,
         "crossover_signal": -1,
         "fast_vol": 0.00882232475050015,
         "slow_vol": 0.00882232475050015,
         "vol_trend_long": 0,
         "vol_trend_short": 0,
         "vol_trend_signal": 0,
         "_deepnote_index_column": "2015-12-02T00:00:00.000000"
        },
        {
         "Close": 11.920000076293945,
         "daily_return": -0.000838242131267819,
         "fast_close": 11.929333432515461,
         "slow_close": 11.947129358295546,
         "crossover_long": 0,
         "crossover_short": -1,
         "crossover_signal": -1,
         "fast_vol": 0.005205674247485554,
         "slow_vol": 0.006465513910445888,
         "vol_trend_long": 1,
         "vol_trend_short": 0,
         "vol_trend_signal": 1,
         "_deepnote_index_column": "2015-12-03T00:00:00.000000"
        },
        {
         "Close": 12.039999961853027,
         "daily_return": 0.010067104428777007,
         "fast_close": 11.986451641205818,
         "slow_close": 11.968363262308792,
         "crossover_long": 1,
         "crossover_short": 0,
         "crossover_signal": 1,
         "fast_vol": 0.008094403925324406,
         "slow_vol": 0.008554803345064409,
         "vol_trend_long": 1,
         "vol_trend_short": 0,
         "vol_trend_signal": 1,
         "_deepnote_index_column": "2015-12-04T00:00:00.000000"
        },
        {
         "Close": 12.359999656677246,
         "daily_return": 0.02657804782708406,
         "fast_close": 12.176190315730988,
         "slow_close": 12.045444886478602,
         "crossover_long": 1,
         "crossover_short": 0,
         "crossover_signal": 1,
         "fast_vol": 0.014721160706802057,
         "slow_vol": 0.014236937220653745,
         "vol_trend_long": 0,
         "vol_trend_short": -1,
         "vol_trend_signal": -1,
         "_deepnote_index_column": "2015-12-07T00:00:00.000000"
        },
        {
         "Close": 12.119999885559082,
         "daily_return": -0.019417457749564604,
         "fast_close": 12.147873878479004,
         "slow_close": 12.058432306589879,
         "crossover_long": 1,
         "crossover_short": 0,
         "crossover_signal": 1,
         "fast_vol": 0.024121583341763096,
         "slow_vol": 0.01685562629285102,
         "vol_trend_long": 0,
         "vol_trend_short": -1,
         "vol_trend_signal": -1,
         "_deepnote_index_column": "2015-12-08T00:00:00.000000"
        },
        {
         "Close": 11.989999771118164,
         "daily_return": -0.010726082150859795,
         "fast_close": 12.068627267725327,
         "slow_close": 12.047665917944933,
         "crossover_long": 1,
         "crossover_short": 0,
         "crossover_signal": 1,
         "fast_vol": 0.017749602160168375,
         "slow_vol": 0.01590411922395466,
         "vol_trend_long": 0,
         "vol_trend_short": -1,
         "vol_trend_signal": -1,
         "_deepnote_index_column": "2015-12-09T00:00:00.000000"
        },
        {
         "Close": 12.050000190734863,
         "daily_return": 0.005004205234534709,
         "fast_close": 12.059295503127364,
         "slow_close": 12.04800273069348,
         "crossover_long": 1,
         "crossover_short": 0,
         "crossover_signal": 1,
         "fast_vol": 0.014326491584851355,
         "slow_vol": 0.014623657049651998,
         "vol_trend_long": 1,
         "vol_trend_short": 0,
         "vol_trend_signal": 1,
         "_deepnote_index_column": "2015-12-10T00:00:00.000000"
        },
        {
         "Close": 11.949999809265137,
         "daily_return": -0.008298786712602424,
         "fast_close": 12.00459423699104,
         "slow_close": 12.03487680575606,
         "crossover_long": 0,
         "crossover_short": -1,
         "crossover_signal": -1,
         "fast_vol": 0.01113805846140304,
         "slow_vol": 0.013792932483810638,
         "vol_trend_long": 1,
         "vol_trend_short": 0,
         "vol_trend_signal": 1,
         "_deepnote_index_column": "2015-12-11T00:00:00.000000"
        },
        {
         "Close": 12.329999923706055,
         "daily_return": 0.03179917326411119,
         "fast_close": 12.167376563906611,
         "slow_close": 12.071922960286944,
         "crossover_long": 1,
         "crossover_short": 0,
         "crossover_signal": 1,
         "fast_vol": 0.023587205496257212,
         "slow_vol": 0.01738917995418285,
         "vol_trend_long": 0,
         "vol_trend_short": -1,
         "vol_trend_signal": -1,
         "_deepnote_index_column": "2015-12-14T00:00:00.000000"
        },
        {
         "Close": 12.470000267028809,
         "daily_return": 0.011354448028307429,
         "fast_close": 12.318725365858812,
         "slow_close": 12.119128342844634,
         "crossover_long": 1,
         "crossover_short": 0,
         "crossover_signal": 1,
         "fast_vol": 0.016730744946218335,
         "slow_vol": 0.016420699301271453,
         "vol_trend_long": 0,
         "vol_trend_short": -1,
         "vol_trend_signal": -1,
         "_deepnote_index_column": "2015-12-15T00:00:00.000000"
        },
        {
         "Close": 12.270000457763672,
         "daily_return": -0.01603847674277481,
         "fast_close": 12.29435993751579,
         "slow_close": 12.136141139444934,
         "crossover_long": 1,
         "crossover_short": 0,
         "crossover_signal": 1,
         "fast_vol": 0.021109981595918932,
         "slow_vol": 0.01683734528301638,
         "vol_trend_long": 0,
         "vol_trend_short": -1,
         "vol_trend_signal": -1,
         "_deepnote_index_column": "2015-12-16T00:00:00.000000"
        },
        {
         "Close": 12.319999694824219,
         "daily_return": 0.0040749172938221445,
         "fast_close": 12.307180598681061,
         "slow_close": 12.155965700955326,
         "crossover_long": 1,
         "crossover_short": 0,
         "crossover_signal": 1,
         "fast_vol": 0.015347976142086045,
         "slow_vol": 0.015823187686702874,
         "vol_trend_long": 1,
         "vol_trend_short": 0,
         "vol_trend_signal": 1,
         "_deepnote_index_column": "2015-12-17T00:00:00.000000"
        },
        {
         "Close": 12.34000015258789,
         "daily_return": 0.001623413819731967,
         "fast_close": 12.323590876436409,
         "slow_close": 12.175030286492108,
         "crossover_long": 1,
         "crossover_short": 0,
         "crossover_signal": 1,
         "fast_vol": 0.010855796333935944,
         "slow_vol": 0.01490547460287366,
         "vol_trend_long": 1,
         "vol_trend_short": 0,
         "vol_trend_signal": 1,
         "_deepnote_index_column": "2015-12-18T00:00:00.000000"
        },
        {
         "Close": 12.239999771118164,
         "daily_return": -0.008103758527811311,
         "fast_close": 12.281794686018033,
         "slow_close": 12.181522843652472,
         "crossover_long": 1,
         "crossover_short": 0,
         "crossover_signal": 1,
         "fast_vol": 0.009628763258148335,
         "slow_vol": 0.014446110906785286,
         "vol_trend_long": 1,
         "vol_trend_short": 0,
         "vol_trend_signal": 1,
         "_deepnote_index_column": "2015-12-21T00:00:00.000000"
        },
        {
         "Close": 12.460000038146973,
         "daily_return": 0.017973878361331908,
         "fast_close": 12.370898041887159,
         "slow_close": 12.208463627029403,
         "crossover_long": 1,
         "crossover_short": 0,
         "crossover_signal": 1,
         "fast_vol": 0.014730725465272213,
         "slow_vol": 0.014652281366805285,
         "vol_trend_long": 0,
         "vol_trend_short": -1,
         "vol_trend_signal": -1,
         "_deepnote_index_column": "2015-12-22T00:00:00.000000"
        },
        {
         "Close": 12.5,
         "daily_return": 0.00321026980181105,
         "fast_close": 12.435449267186963,
         "slow_close": 12.235852267288163,
         "crossover_long": 1,
         "crossover_short": 0,
         "crossover_signal": 1,
         "fast_vol": 0.010714162211946154,
         "slow_vol": 0.013901596913564128,
         "vol_trend_long": 1,
         "vol_trend_short": 0,
         "vol_trend_signal": 1,
         "_deepnote_index_column": "2015-12-23T00:00:00.000000"
        },
        {
         "Close": 12.600000381469727,
         "daily_return": 0.008000030517578027,
         "fast_close": 12.517724981256816,
         "slow_close": 12.269163774485106,
         "crossover_long": 1,
         "crossover_short": 0,
         "crossover_signal": 1,
         "fast_vol": 0.007759710502403407,
         "slow_vol": 0.013304714275282561,
         "vol_trend_long": 1,
         "vol_trend_short": 0,
         "vol_trend_signal": 1,
         "_deepnote_index_column": "2015-12-24T00:00:00.000000"
        },
        {
         "Close": 12.829999923706055,
         "daily_return": 0.01825393137087339,
         "fast_close": 12.673862601385872,
         "slow_close": 12.319240466686898,
         "crossover_long": 1,
         "crossover_short": 0,
         "crossover_signal": 1,
         "fast_vol": 0.008987654041065805,
         "slow_vol": 0.013423556372866054,
         "vol_trend_long": 1,
         "vol_trend_short": 0,
         "vol_trend_signal": 1,
         "_deepnote_index_column": "2015-12-28T00:00:00.000000"
        },
        {
         "Close": 12.739999771118164,
         "daily_return": -0.007014820976077862,
         "fast_close": 12.706931202020357,
         "slow_close": 12.355989465711747,
         "crossover_long": 1,
         "crossover_short": 0,
         "crossover_signal": 1,
         "fast_vol": 0.01350367174086767,
         "slow_vol": 0.013246240490064655,
         "vol_trend_long": 0,
         "vol_trend_short": -1,
         "vol_trend_signal": -1,
         "_deepnote_index_column": "2015-12-29T00:00:00.000000"
        },
        {
         "Close": 12.779999732971191,
         "daily_return": 0.003139714487570666,
         "fast_close": 12.743465476206223,
         "slow_close": 12.392283005173374,
         "crossover_long": 1,
         "crossover_short": 0,
         "crossover_signal": 1,
         "fast_vol": 0.009552100066450164,
         "slow_vol": 0.012641791785078698,
         "vol_trend_long": 1,
         "vol_trend_short": 0,
         "vol_trend_signal": 1,
         "_deepnote_index_column": "2015-12-30T00:00:00.000000"
        },
        {
         "Close": 13.09000015258789,
         "daily_return": 0.02425668435789774,
         "fast_close": 12.916732835052136,
         "slow_close": 12.45091252786509,
         "crossover_long": 1,
         "crossover_short": 0,
         "crossover_signal": 1,
         "fast_vol": 0.014704966138164114,
         "slow_vol": 0.013462972112200482,
         "vol_trend_long": 0,
         "vol_trend_short": -1,
         "vol_trend_signal": -1,
         "_deepnote_index_column": "2015-12-31T00:00:00.000000"
        },
        {
         "Close": 12.15999984741211,
         "daily_return": -0.07104662294384467,
         "fast_close": 12.53836631867972,
         "slow_close": 12.426877117157003,
         "crossover_long": 1,
         "crossover_short": 0,
         "crossover_signal": 1,
         "fast_vol": 0.052862859467850645,
         "slow_vol": 0.025291645907855057,
         "vol_trend_long": 0,
         "vol_trend_short": -1,
         "vol_trend_signal": -1,
         "_deepnote_index_column": "2016-01-04T00:00:00.000000"
        },
        {
         "Close": 11.510000228881836,
         "daily_return": -0.05345391666831367,
         "fast_close": 12.02418325845693,
         "slow_close": 12.352291640791082,
         "crossover_long": 0,
         "crossover_short": -1,
         "crossover_signal": -1,
         "fast_vol": 0.040330066787227684,
         "slow_vol": 0.02837235909613066,
         "vol_trend_long": 0,
         "vol_trend_short": -1,
         "vol_trend_signal": -1,
         "_deepnote_index_column": "2016-01-05T00:00:00.000000"
        },
        {
         "Close": 11.520000457763672,
         "daily_return": 0.0008688295988685812,
         "fast_close": 11.772091854353846,
         "slow_close": 12.285546796305727,
         "crossover_long": 0,
         "crossover_short": -1,
         "crossover_signal": -1,
         "fast_vol": 0.03838597541515631,
         "slow_vol": 0.027231877883005032,
         "vol_trend_long": 0,
         "vol_trend_short": -1,
         "vol_trend_signal": -1,
         "_deepnote_index_column": "2016-01-06T00:00:00.000000"
        },
        {
         "Close": 11.15999984741211,
         "daily_return": -0.03125005174014095,
         "fast_close": 11.466045848602757,
         "slow_close": 12.196462890068009,
         "crossover_long": 0,
         "crossover_short": -1,
         "crossover_signal": -1,
         "fast_vol": 0.027986987709314674,
         "slow_vol": 0.02711260892938314,
         "vol_trend_long": 0,
         "vol_trend_short": -1,
         "vol_trend_signal": -1,
         "_deepnote_index_column": "2016-01-07T00:00:00.000000"
        },
        {
         "Close": 11.3100004196167,
         "daily_return": 0.013440911671640743,
         "fast_close": 11.38802313381907,
         "slow_close": 12.127146146667211,
         "crossover_long": 0,
         "crossover_short": -1,
         "crossover_signal": -1,
         "fast_vol": 0.031073580511649,
         "slow_vol": 0.026610677538986407,
         "vol_trend_long": 0,
         "vol_trend_short": -1,
         "vol_trend_signal": -1,
         "_deepnote_index_column": "2016-01-08T00:00:00.000000"
        },
        {
         "Close": 11.84000015258789,
         "daily_return": 0.046861159443631006,
         "fast_close": 11.614011643624417,
         "slow_close": 12.104942128814503,
         "crossover_long": 0,
         "crossover_short": -1,
         "crossover_signal": -1,
         "fast_vol": 0.03918420136014847,
         "slow_vol": 0.029298612408390847,
         "vol_trend_long": 0,
         "vol_trend_short": -1,
         "vol_trend_signal": -1,
         "_deepnote_index_column": "2016-01-11T00:00:00.000000"
        },
        {
         "Close": 12.09000015258789,
         "daily_return": 0.02111486459274725,
         "fast_close": 11.852005898327803,
         "slow_close": 12.10379856373059,
         "crossover_long": 0,
         "crossover_short": -1,
         "crossover_signal": -1,
         "fast_vol": 0.02771116186627316,
         "slow_vol": 0.02878967748042474,
         "vol_trend_long": 1,
         "vol_trend_short": 0,
         "vol_trend_signal": 1,
         "_deepnote_index_column": "2016-01-12T00:00:00.000000"
        },
        {
         "Close": 11.609999656677246,
         "daily_return": -0.03970227376778812,
         "fast_close": 11.731002777446179,
         "slow_close": 12.066364416325454,
         "crossover_long": 0,
         "crossover_short": -1,
         "crossover_signal": -1,
         "fast_vol": 0.04188144800939352,
         "slow_vol": 0.0297303678105128,
         "vol_trend_long": 0,
         "vol_trend_short": -1,
         "vol_trend_signal": -1,
         "_deepnote_index_column": "2016-01-13T00:00:00.000000"
        },
        {
         "Close": 10.819999694824219,
         "daily_return": -0.06804478770149447,
         "fast_close": 11.275501236029143,
         "slow_close": 11.97270745995707,
         "crossover_long": 0,
         "crossover_short": -1,
         "crossover_signal": -1,
         "fast_vol": 0.04651050118433715,
         "slow_vol": 0.03361058964916256,
         "vol_trend_long": 0,
         "vol_trend_short": -1,
         "vol_trend_signal": -1,
         "_deepnote_index_column": "2016-01-14T00:00:00.000000"
        },
        {
         "Close": 10.270000457763672,
         "daily_return": -0.05083172389770407,
         "fast_close": 10.77275084683788,
         "slow_close": 11.84579683313604,
         "crossover_long": 0,
         "crossover_short": -1,
         "crossover_signal": -1,
         "fast_vol": 0.033708163183607594,
         "slow_vol": 0.03434790965444905,
         "vol_trend_long": 1,
         "vol_trend_short": 0,
         "vol_trend_signal": 1,
         "_deepnote_index_column": "2016-01-15T00:00:00.000000"
        },
        {
         "Close": 9.470000267028809,
         "daily_return": -0.07789680185750114,
         "fast_close": 10.121375556895428,
         "slow_close": 11.670047730208141,
         "crossover_long": 0,
         "crossover_short": -1,
         "crossover_signal": -1,
         "fast_vol": 0.03128848118863518,
         "slow_vol": 0.03761623832760009,
         "vol_trend_long": 1,
         "vol_trend_short": 0,
         "vol_trend_signal": 1,
         "_deepnote_index_column": "2016-01-19T00:00:00.000000"
        },
        {
         "Close": 9.489999771118164,
         "daily_return": 0.002111879992124921,
         "fast_close": 9.805687663997608,
         "slow_close": 11.509901367719321,
         "crossover_long": 0,
         "crossover_short": -1,
         "crossover_signal": -1,
         "fast_vol": 0.04471706350486633,
         "slow_vol": 0.036504403317772924,
         "vol_trend_long": 0,
         "vol_trend_short": -1,
         "vol_trend_signal": -1,
         "_deepnote_index_column": "2016-01-20T00:00:00.000000"
        },
        {
         "Close": 10.020000457763672,
         "daily_return": 0.055848335029312635,
         "fast_close": 9.9128440608822,
         "slow_close": 11.401159283336975,
         "crossover_long": 0,
         "crossover_short": -1,
         "crossover_signal": -1,
         "fast_vol": 0.061147051075014246,
         "slow_vol": 0.03981879295836651,
         "vol_trend_long": 0,
         "vol_trend_short": -1,
         "vol_trend_signal": -1,
         "_deepnote_index_column": "2016-01-21T00:00:00.000000"
        },
        {
         "Close": 9.850000381469727,
         "daily_return": -0.01696607470334255,
         "fast_close": 9.881422221175734,
         "slow_close": 11.288623580675802,
         "crossover_long": 0,
         "crossover_short": -1,
         "crossover_signal": -1,
         "fast_vol": 0.046998051929270535,
         "slow_vol": 0.038381724976537517,
         "vol_trend_long": 0,
         "vol_trend_short": -1,
         "vol_trend_signal": -1,
         "_deepnote_index_column": "2016-01-22T00:00:00.000000"
        },
        {
         "Close": 9.8100004196167,
         "daily_return": -0.004060909675524194,
         "fast_close": 9.845711320396088,
         "slow_close": 11.181945825842012,
         "crossover_long": 0,
         "crossover_short": -1,
         "crossover_signal": -1,
         "fast_vol": 0.033258362913604324,
         "slow_vol": 0.03698689975027308,
         "vol_trend_long": 1,
         "vol_trend_short": 0,
         "vol_trend_signal": 1,
         "_deepnote_index_column": "2016-01-25T00:00:00.000000"
        },
        {
         "Close": 9.539999961853027,
         "daily_return": -0.027522981265501456,
         "fast_close": 9.692855641124279,
         "slow_close": 11.064095307114785,
         "crossover_long": 0,
         "crossover_short": -1,
         "crossover_signal": -1,
         "fast_vol": 0.027905234830532262,
         "slow_vol": 0.03593719207333004,
         "vol_trend_long": 1,
         "vol_trend_short": 0,
         "vol_trend_signal": 1,
         "_deepnote_index_column": "2016-01-26T00:00:00.000000"
        },
        {
         "Close": 9.050000190734863,
         "daily_return": -0.051362659651728926,
         "fast_close": 9.371427915929278,
         "slow_close": 10.920225520763545,
         "crossover_long": 0,
         "crossover_short": -1,
         "crossover_signal": -1,
         "fast_vol": 0.029634095366404458,
         "slow_vol": 0.036229099740870706,
         "vol_trend_long": 1,
         "vol_trend_short": 0,
         "vol_trend_signal": 1,
         "_deepnote_index_column": "2016-01-27T00:00:00.000000"
        },
        {
         "Close": 8.739999771118164,
         "daily_return": -0.0342541892909648,
         "fast_close": 9.055713843523577,
         "slow_close": 10.765180969438877,
         "crossover_long": 0,
         "crossover_short": -1,
         "crossover_signal": -1,
         "fast_vol": 0.02096243932898306,
         "slow_vol": 0.03532029199957831,
         "vol_trend_long": 1,
         "vol_trend_short": 0,
         "vol_trend_signal": 1,
         "_deepnote_index_column": "2016-01-28T00:00:00.000000"
        }
       ],
       "rows_bottom": [
        {
         "Close": 219.33999633789062,
         "daily_return": 0.010131698233518005,
         "fast_close": 217.10964067918678,
         "slow_close": 219.26299153234956,
         "crossover_long": 0,
         "crossover_short": -1,
         "crossover_signal": -1,
         "fast_vol": 0.020765475150445085,
         "slow_vol": 0.02843555004759143,
         "vol_trend_long": 1,
         "vol_trend_short": 0,
         "vol_trend_signal": 1,
         "_deepnote_index_column": "2021-06-11T00:00:00.000000"
        },
        {
         "Close": 230.9499969482422,
         "daily_return": 0.05293152550466207,
         "fast_close": 224.02981881371448,
         "slow_close": 220.045635322945,
         "crossover_long": 1,
         "crossover_short": 0,
         "crossover_signal": 1,
         "fast_vol": 0.02983509264195225,
         "slow_vol": 0.030528479916609452,
         "vol_trend_long": 1,
         "vol_trend_short": 0,
         "vol_trend_signal": 1,
         "_deepnote_index_column": "2021-06-14T00:00:00.000000"
        },
        {
         "Close": 227.75,
         "daily_return": -0.013855799915681866,
         "fast_close": 225.88990940685724,
         "slow_close": 220.56157357747685,
         "crossover_long": 1,
         "crossover_short": 0,
         "crossover_signal": 1,
         "fast_vol": 0.03498848313302566,
         "slow_vol": 0.02983886116523491,
         "vol_trend_long": 0,
         "vol_trend_short": -1,
         "vol_trend_signal": -1,
         "_deepnote_index_column": "2021-06-15T00:00:00.000000"
        },
        {
         "Close": 225.11000061035156,
         "daily_return": -0.011591654839290588,
         "fast_close": 225.4999550086044,
         "slow_close": 220.8661681290816,
         "crossover_long": 1,
         "crossover_short": 0,
         "crossover_signal": 1,
         "fast_vol": 0.027750677023037223,
         "slow_vol": 0.0290560919180468,
         "vol_trend_long": 1,
         "vol_trend_short": 0,
         "vol_trend_signal": 1,
         "_deepnote_index_column": "2021-06-16T00:00:00.000000"
        },
        {
         "Close": 236.1300048828125,
         "daily_return": 0.04895386363369858,
         "fast_close": 230.81497994570844,
         "slow_close": 221.88834161414948,
         "crossover_long": 1,
         "crossover_short": 0,
         "crossover_signal": 1,
         "fast_vol": 0.0365125042234321,
         "slow_vol": 0.03051318078353988,
         "vol_trend_long": 0,
         "vol_trend_short": -1,
         "vol_trend_signal": -1,
         "_deepnote_index_column": "2021-06-17T00:00:00.000000"
        },
        {
         "Close": 237.0500030517578,
         "daily_return": 0.0038961510605224348,
         "fast_close": 233.93249149873313,
         "slow_close": 222.90367272395787,
         "crossover_long": 1,
         "crossover_short": 0,
         "crossover_signal": 1,
         "fast_vol": 0.02855403941532724,
         "slow_vol": 0.029475242591799358,
         "vol_trend_long": 1,
         "vol_trend_short": 0,
         "vol_trend_signal": 1,
         "_deepnote_index_column": "2021-06-18T00:00:00.000000"
        },
        {
         "Close": 233.88999938964844,
         "daily_return": -0.013330536264196557,
         "fast_close": 233.9112454441908,
         "slow_close": 223.63939415475858,
         "crossover_long": 1,
         "crossover_short": 0,
         "crossover_signal": 1,
         "fast_vol": 0.026168692391020987,
         "slow_vol": 0.028849352782801617,
         "vol_trend_long": 1,
         "vol_trend_short": 0,
         "vol_trend_signal": 1,
         "_deepnote_index_column": "2021-06-21T00:00:00.000000"
        },
        {
         "Close": 235.97000122070312,
         "daily_return": 0.008893077243501635,
         "fast_close": 234.94062333244696,
         "slow_close": 224.46513802249999,
         "crossover_long": 1,
         "crossover_short": 0,
         "crossover_signal": 1,
         "fast_vol": 0.019244124002787615,
         "slow_vol": 0.027897412443356955,
         "vol_trend_long": 1,
         "vol_trend_short": 0,
         "vol_trend_signal": 1,
         "_deepnote_index_column": "2021-06-22T00:00:00.000000"
        },
        {
         "Close": 238.6999969482422,
         "daily_return": 0.011569249113940083,
         "fast_close": 236.8203101403446,
         "slow_close": 225.41840394065252,
         "crossover_long": 1,
         "crossover_short": 0,
         "crossover_signal": 1,
         "fast_vol": 0.014265334504343146,
         "slow_vol": 0.02701424403865535,
         "vol_trend_long": 1,
         "vol_trend_short": 0,
         "vol_trend_signal": 1,
         "_deepnote_index_column": "2021-06-23T00:00:00.000000"
        },
        {
         "Close": 244.14999389648438,
         "daily_return": 0.022831994209970174,
         "fast_close": 240.48515201841448,
         "slow_close": 226.67280248375377,
         "crossover_long": 1,
         "crossover_short": 0,
         "crossover_signal": 1,
         "fast_vol": 0.01354367398971696,
         "slow_vol": 0.02650354967074363,
         "vol_trend_long": 1,
         "vol_trend_short": 0,
         "vol_trend_signal": 1,
         "_deepnote_index_column": "2021-06-24T00:00:00.000000"
        },
        {
         "Close": 239.94000244140625,
         "daily_return": -0.017243463282096583,
         "fast_close": 240.21257722991038,
         "slow_close": 227.56126717560076,
         "crossover_long": 1,
         "crossover_short": 0,
         "crossover_signal": 1,
         "fast_vol": 0.022194705218393628,
         "slow_vol": 0.026264055405700377,
         "vol_trend_long": 1,
         "vol_trend_short": 0,
         "vol_trend_signal": 1,
         "_deepnote_index_column": "2021-06-25T00:00:00.000000"
        },
        {
         "Close": 246.60000610351562,
         "daily_return": 0.027756954214984475,
         "fast_close": 243.406291666713,
         "slow_close": 228.83623456651495,
         "crossover_long": 1,
         "crossover_short": 0,
         "crossover_signal": 1,
         "fast_vol": 0.023540629147737538,
         "slow_vol": 0.02606375227983022,
         "vol_trend_long": 1,
         "vol_trend_short": 0,
         "vol_trend_signal": 1,
         "_deepnote_index_column": "2021-06-28T00:00:00.000000"
        },
        {
         "Close": 248.8699951171875,
         "daily_return": 0.009205145813009352,
         "fast_close": 246.13814339195025,
         "slow_close": 230.1778355788614,
         "crossover_long": 1,
         "crossover_short": 0,
         "crossover_signal": 1,
         "fast_vol": 0.01684567052837362,
         "slow_vol": 0.02519047400847543,
         "vol_trend_long": 1,
         "vol_trend_short": 0,
         "vol_trend_signal": 1,
         "_deepnote_index_column": "2021-06-29T00:00:00.000000"
        },
        {
         "Close": 243.8000030517578,
         "daily_return": -0.020372050327088775,
         "fast_close": 244.96907322185405,
         "slow_close": 231.09007138330588,
         "crossover_long": 1,
         "crossover_short": 0,
         "crossover_signal": 1,
         "fast_vol": 0.02277025914346571,
         "slow_vol": 0.025244904609146832,
         "vol_trend_long": 1,
         "vol_trend_short": 0,
         "vol_trend_signal": 1,
         "_deepnote_index_column": "2021-06-30T00:00:00.000000"
        },
        {
         "Close": 241.85000610351562,
         "daily_return": -0.007998346693327218,
         "fast_close": 243.40953966268484,
         "slow_close": 231.81063202277758,
         "crossover_long": 1,
         "crossover_short": 0,
         "crossover_signal": 1,
         "fast_vol": 0.016240722956869215,
         "slow_vol": 0.02458472813298143,
         "vol_trend_long": 1,
         "vol_trend_short": 0,
         "vol_trend_signal": 1,
         "_deepnote_index_column": "2021-07-01T00:00:00.000000"
        },
        {
         "Close": 241.0800018310547,
         "daily_return": -0.003183809191765641,
         "fast_close": 242.24477074686976,
         "slow_close": 232.43137398917693,
         "crossover_long": 1,
         "crossover_short": 0,
         "crossover_signal": 1,
         "fast_vol": 0.011637670179966184,
         "slow_vol": 0.023807576824916427,
         "vol_trend_long": 1,
         "vol_trend_short": 0,
         "vol_trend_signal": 1,
         "_deepnote_index_column": "2021-07-02T00:00:00.000000"
        },
        {
         "Close": 246.6999969482422,
         "daily_return": 0.023311743298914944,
         "fast_close": 244.472383847556,
         "slow_close": 233.38690098363477,
         "crossover_long": 1,
         "crossover_short": 0,
         "crossover_signal": 1,
         "fast_vol": 0.019038199591057393,
         "slow_vol": 0.023568579431944348,
         "vol_trend_long": 1,
         "vol_trend_short": 0,
         "vol_trend_signal": 1,
         "_deepnote_index_column": "2021-07-06T00:00:00.000000"
        },
        {
         "Close": 244.63999938964844,
         "daily_return": -0.008350213149884822,
         "fast_close": 244.5561916186022,
         "slow_close": 234.14048731982746,
         "crossover_long": 1,
         "crossover_short": 0,
         "crossover_signal": 1,
         "fast_vol": 0.017261926872530798,
         "slow_vol": 0.022995135538465886,
         "vol_trend_long": 1,
         "vol_trend_short": 0,
         "vol_trend_signal": 1,
         "_deepnote_index_column": "2021-07-07T00:00:00.000000"
        },
        {
         "Close": 235.89999389648438,
         "daily_return": -0.0357259872260034,
         "fast_close": 240.2280927575433,
         "slow_close": 234.2583162116375,
         "crossover_long": 1,
         "crossover_short": 0,
         "crossover_signal": 1,
         "fast_vol": 0.025305095449139905,
         "slow_vol": 0.02435402251439627,
         "vol_trend_long": 0,
         "vol_trend_short": -1,
         "vol_trend_signal": -1,
         "_deepnote_index_column": "2021-07-08T00:00:00.000000"
        },
        {
         "Close": 241.88999938964844,
         "daily_return": 0.02539213924605921,
         "fast_close": 241.05904607359588,
         "slow_close": 234.76938720360775,
         "crossover_long": 1,
         "crossover_short": 0,
         "crossover_signal": 1,
         "fast_vol": 0.03184597050790479,
         "slow_vol": 0.02433548415108269,
         "vol_trend_long": 0,
         "vol_trend_short": -1,
         "vol_trend_signal": -1,
         "_deepnote_index_column": "2021-07-09T00:00:00.000000"
        },
        {
         "Close": 243.35000610351562,
         "daily_return": 0.006035829168428375,
         "fast_close": 242.20452608855575,
         "slow_close": 235.3440055820973,
         "crossover_long": 1,
         "crossover_short": 0,
         "crossover_signal": 1,
         "fast_vol": 0.022557074379807855,
         "slow_vol": 0.023523319061851573,
         "vol_trend_long": 1,
         "vol_trend_short": 0,
         "vol_trend_signal": 1,
         "_deepnote_index_column": "2021-07-12T00:00:00.000000"
        },
        {
         "Close": 241.42999267578125,
         "daily_return": -0.007889925537612918,
         "fast_close": 241.81725938216852,
         "slow_close": 235.7515659313069,
         "crossover_long": 1,
         "crossover_short": 0,
         "crossover_signal": 1,
         "fast_vol": 0.017785481202071914,
         "slow_vol": 0.02288350777253695,
         "vol_trend_long": 1,
         "vol_trend_short": 0,
         "vol_trend_signal": 1,
         "_deepnote_index_column": "2021-07-13T00:00:00.000000"
        },
        {
         "Close": 239,
         "daily_return": -0.01006499916952952,
         "fast_close": 240.40862969108426,
         "slow_close": 235.96910384307722,
         "crossover_long": 1,
         "crossover_short": 0,
         "crossover_signal": 1,
         "fast_vol": 0.013634307293813673,
         "slow_vol": 0.022318306375837094,
         "vol_trend_long": 1,
         "vol_trend_short": 0,
         "vol_trend_signal": 1,
         "_deepnote_index_column": "2021-07-14T00:00:00.000000"
        },
        {
         "Close": 235.16000366210938,
         "daily_return": -0.016066930284061143,
         "fast_close": 237.7843166765968,
         "slow_close": 235.91492082441076,
         "crossover_long": 1,
         "crossover_short": 0,
         "crossover_signal": 1,
         "fast_vol": 0.011521477255023341,
         "slow_vol": 0.022003642505403903,
         "vol_trend_long": 1,
         "vol_trend_short": 0,
         "vol_trend_signal": 1,
         "_deepnote_index_column": "2021-07-15T00:00:00.000000"
        },
        {
         "Close": 237.52000427246094,
         "daily_return": 0.010035722799794478,
         "fast_close": 237.65216047452887,
         "slow_close": 236.02240846126048,
         "crossover_long": 1,
         "crossover_short": 0,
         "crossover_signal": 1,
         "fast_vol": 0.015198308963151148,
         "slow_vol": 0.02140418299855532,
         "vol_trend_long": 1,
         "vol_trend_short": 0,
         "vol_trend_signal": 1,
         "_deepnote_index_column": "2021-07-16T00:00:00.000000"
        },
        {
         "Close": 233.69000244140625,
         "daily_return": -0.016124965317284468,
         "fast_close": 235.67108145796755,
         "slow_close": 235.86621420758928,
         "crossover_long": 0,
         "crossover_short": -1,
         "crossover_signal": -1,
         "fast_vol": 0.014413505598532618,
         "slow_vol": 0.021116455894683236,
         "vol_trend_long": 1,
         "vol_trend_short": 0,
         "vol_trend_signal": 1,
         "_deepnote_index_column": "2021-07-19T00:00:00.000000"
        },
        {
         "Close": 246.47000122070312,
         "daily_return": 0.05468782851547638,
         "fast_close": 241.07054133933534,
         "slow_close": 236.57631810223836,
         "crossover_long": 1,
         "crossover_short": 0,
         "crossover_signal": 1,
         "fast_vol": 0.03988547392891959,
         "slow_vol": 0.024744200103327896,
         "vol_trend_long": 0,
         "vol_trend_short": -1,
         "vol_trend_signal": -1,
         "_deepnote_index_column": "2021-07-20T00:00:00.000000"
        },
        {
         "Close": 257.25,
         "daily_return": 0.04373756938331752,
         "fast_close": 249.16027066966768,
         "slow_close": 237.9607727328511,
         "crossover_long": 1,
         "crossover_short": 0,
         "crossover_signal": 1,
         "fast_vol": 0.03087971656177509,
         "slow_vol": 0.02601999923862019,
         "vol_trend_long": 0,
         "vol_trend_short": -1,
         "vol_trend_signal": -1,
         "_deepnote_index_column": "2021-07-21T00:00:00.000000"
        },
        {
         "Close": 260.5899963378906,
         "daily_return": 0.012983464870323091,
         "fast_close": 254.87513350377915,
         "slow_close": 239.47618414152527,
         "crossover_long": 1,
         "crossover_short": 0,
         "crossover_signal": 1,
         "fast_vol": 0.02518266835293984,
         "slow_vol": 0.025196011369508425,
         "vol_trend_long": 1,
         "vol_trend_short": 0,
         "vol_trend_signal": 1,
         "_deepnote_index_column": "2021-07-22T00:00:00.000000"
        },
        {
         "Close": 264,
         "daily_return": 0.013085704401667897,
         "fast_close": 259.43756675188956,
         "slow_close": 241.1184707256695,
         "crossover_long": 1,
         "crossover_short": 0,
         "crossover_signal": 1,
         "fast_vol": 0.018858656977749418,
         "slow_vol": 0.024395576724874517,
         "vol_trend_long": 1,
         "vol_trend_short": 0,
         "vol_trend_signal": 1,
         "_deepnote_index_column": "2021-07-23T00:00:00.000000"
        },
        {
         "Close": 261.989990234375,
         "daily_return": -0.007613673354640138,
         "fast_close": 260.7137784931323,
         "slow_close": 242.51617394924867,
         "crossover_long": 1,
         "crossover_short": 0,
         "crossover_signal": 1,
         "fast_vol": 0.020660534897760822,
         "slow_vol": 0.023853243839839583,
         "vol_trend_long": 1,
         "vol_trend_short": 0,
         "vol_trend_signal": 1,
         "_deepnote_index_column": "2021-07-26T00:00:00.000000"
        },
        {
         "Close": 251.72999572753906,
         "daily_return": -0.0391617805613772,
         "fast_close": 256.2218871103357,
         "slow_close": 243.1331960302538,
         "crossover_long": 1,
         "crossover_short": 0,
         "crossover_signal": 1,
         "fast_vol": 0.030883496352589263,
         "slow_vol": 0.025741455773773982,
         "vol_trend_long": 0,
         "vol_trend_short": -1,
         "vol_trend_signal": -1,
         "_deepnote_index_column": "2021-07-27T00:00:00.000000"
        },
        {
         "Close": 258.6099853515625,
         "daily_return": 0.027330829622187913,
         "fast_close": 257.4159362309491,
         "slow_close": 244.16963031171693,
         "crossover_long": 1,
         "crossover_short": 0,
         "crossover_signal": 1,
         "fast_vol": 0.0348142831103296,
         "slow_vol": 0.02562761413261027,
         "vol_trend_long": 0,
         "vol_trend_short": -1,
         "vol_trend_signal": -1,
         "_deepnote_index_column": "2021-07-28T00:00:00.000000"
        },
        {
         "Close": 255.27999877929688,
         "daily_return": -0.012876481036641851,
         "fast_close": 256.347967505123,
         "slow_close": 244.91365845091454,
         "crossover_long": 1,
         "crossover_short": 0,
         "crossover_signal": 1,
         "fast_vol": 0.026989889318269643,
         "slow_vol": 0.025149300476064035,
         "vol_trend_long": 0,
         "vol_trend_short": -1,
         "vol_trend_signal": -1,
         "_deepnote_index_column": "2021-07-29T00:00:00.000000"
        },
        {
         "Close": 247.25999450683594,
         "daily_return": -0.031416500747458276,
         "fast_close": 251.80398100597947,
         "slow_close": 245.07078555742893,
         "crossover_long": 1,
         "crossover_short": 0,
         "crossover_signal": 1,
         "fast_vol": 0.025482595561655882,
         "slow_vol": 0.02585703985863653,
         "vol_trend_long": 1,
         "vol_trend_short": 0,
         "vol_trend_signal": 1,
         "_deepnote_index_column": "2021-07-30T00:00:00.000000"
        },
        {
         "Close": 272.3800048828125,
         "daily_return": 0.10159350859033567,
         "fast_close": 262.091992944396,
         "slow_close": 246.89960227911507,
         "crossover_long": 1,
         "crossover_short": 0,
         "crossover_signal": 1,
         "fast_vol": 0.07519939664806963,
         "slow_vol": 0.03574751636781381,
         "vol_trend_long": 0,
         "vol_trend_short": -1,
         "vol_trend_signal": -1,
         "_deepnote_index_column": "2021-08-02T00:00:00.000000"
        },
        {
         "Close": 269.489990234375,
         "daily_return": -0.010610230547873356,
         "fast_close": 265.7909915893855,
         "slow_close": 248.41241298050176,
         "crossover_long": 1,
         "crossover_short": 0,
         "crossover_signal": 1,
         "fast_vol": 0.06216678989971828,
         "slow_vol": 0.03484602481779781,
         "vol_trend_long": 0,
         "vol_trend_short": -1,
         "vol_trend_signal": -1,
         "_deepnote_index_column": "2021-08-03T00:00:00.000000"
        },
        {
         "Close": 266.4200134277344,
         "daily_return": -0.01139180273067164,
         "fast_close": 266.10550250855994,
         "slow_close": 249.61832811205338,
         "crossover_long": 1,
         "crossover_short": 0,
         "crossover_signal": 1,
         "fast_vol": 0.046981986141560045,
         "slow_vol": 0.033967711536236185,
         "vol_trend_long": 0,
         "vol_trend_short": -1,
         "vol_trend_signal": -1,
         "_deepnote_index_column": "2021-08-04T00:00:00.000000"
        },
        {
         "Close": 281.80999755859375,
         "daily_return": 0.0577658710126665,
         "fast_close": 273.9577500335769,
         "slow_close": 251.77410791232415,
         "crossover_long": 1,
         "crossover_short": 0,
         "crossover_signal": 1,
         "fast_vol": 0.04757832600145984,
         "slow_vol": 0.035415658857565105,
         "vol_trend_long": 0,
         "vol_trend_short": -1,
         "vol_trend_signal": -1,
         "_deepnote_index_column": "2021-08-05T00:00:00.000000"
        },
        {
         "Close": 275.1000061035156,
         "daily_return": -0.02381033857282866,
         "fast_close": 274.52887806854625,
         "slow_close": 253.33617353390525,
         "crossover_long": 1,
         "crossover_short": 0,
         "crossover_signal": 1,
         "fast_vol": 0.04707361228226158,
         "slow_vol": 0.03520532033041154,
         "vol_trend_long": 0,
         "vol_trend_short": -1,
         "vol_trend_signal": -1,
         "_deepnote_index_column": "2021-08-06T00:00:00.000000"
        },
        {
         "Close": 279.7300109863281,
         "daily_return": 0.016830260923623275,
         "fast_close": 277.12944452743716,
         "slow_close": 255.10368986995778,
         "crossover_long": 1,
         "crossover_short": 0,
         "crossover_signal": 1,
         "fast_vol": 0.03433562447557582,
         "slow_vol": 0.034103916325245565,
         "vol_trend_long": 0,
         "vol_trend_short": -1,
         "vol_trend_signal": -1,
         "_deepnote_index_column": "2021-08-09T00:00:00.000000"
        },
        {
         "Close": 273.0799865722656,
         "daily_return": -0.023773010234456105,
         "fast_close": 275.1047155498514,
         "slow_close": 256.3075086833581,
         "crossover_long": 1,
         "crossover_short": 0,
         "crossover_signal": 1,
         "fast_vol": 0.031874365885245004,
         "slow_vol": 0.03388127590294284,
         "vol_trend_long": 1,
         "vol_trend_short": 0,
         "vol_trend_signal": 1,
         "_deepnote_index_column": "2021-08-10T00:00:00.000000"
        }
       ]
      },
      "text/plain": "                 Close  daily_return  fast_close  slow_close  crossover_long  \\\nDate                                                                           \n2015-11-30   12.040000           NaN   12.040000   12.040000             0.0   \n2015-12-01   11.910000     -0.010797   11.953333   11.972748             0.0   \n2015-12-02   11.930000      0.001679   11.940000   11.957501             0.0   \n2015-12-03   11.920000     -0.000838   11.929333   11.947129             0.0   \n2015-12-04   12.040000      0.010067   11.986452   11.968363             1.0   \n...                ...           ...         ...         ...             ...   \n2021-08-04  266.420013     -0.011392  266.105503  249.618328             1.0   \n2021-08-05  281.809998      0.057766  273.957750  251.774108             1.0   \n2021-08-06  275.100006     -0.023810  274.528878  253.336174             1.0   \n2021-08-09  279.730011      0.016830  277.129445  255.103690             1.0   \n2021-08-10  273.079987     -0.023773  275.104716  256.307509             1.0   \n\n            crossover_short  crossover_signal  fast_vol  slow_vol  \\\nDate                                                                \n2015-11-30              0.0               0.0       NaN       NaN   \n2015-12-01             -1.0              -1.0       NaN       NaN   \n2015-12-02             -1.0              -1.0  0.008822  0.008822   \n2015-12-03             -1.0              -1.0  0.005206  0.006466   \n2015-12-04              0.0               1.0  0.008094  0.008555   \n...                     ...               ...       ...       ...   \n2021-08-04              0.0               1.0  0.046982  0.033968   \n2021-08-05              0.0               1.0  0.047578  0.035416   \n2021-08-06              0.0               1.0  0.047074  0.035205   \n2021-08-09              0.0               1.0  0.034336  0.034104   \n2021-08-10              0.0               1.0  0.031874  0.033881   \n\n            vol_trend_long  vol_trend_short  vol_trend_signal  \nDate                                                           \n2015-11-30             0.0              0.0               0.0  \n2015-12-01             0.0              0.0               0.0  \n2015-12-02             0.0              0.0               0.0  \n2015-12-03             1.0              0.0               1.0  \n2015-12-04             1.0              0.0               1.0  \n...                    ...              ...               ...  \n2021-08-04             0.0             -1.0              -1.0  \n2021-08-05             0.0             -1.0              -1.0  \n2021-08-06             0.0             -1.0              -1.0  \n2021-08-09             0.0             -1.0              -1.0  \n2021-08-10             1.0              0.0               1.0  \n\n[1434 rows x 12 columns]",
      "text/html": "<div>\n<style scoped>\n    .dataframe tbody tr th:only-of-type {\n        vertical-align: middle;\n    }\n\n    .dataframe tbody tr th {\n        vertical-align: top;\n    }\n\n    .dataframe thead th {\n        text-align: right;\n    }\n</style>\n<table border=\"1\" class=\"dataframe\">\n  <thead>\n    <tr style=\"text-align: right;\">\n      <th></th>\n      <th>Close</th>\n      <th>daily_return</th>\n      <th>fast_close</th>\n      <th>slow_close</th>\n      <th>crossover_long</th>\n      <th>crossover_short</th>\n      <th>crossover_signal</th>\n      <th>fast_vol</th>\n      <th>slow_vol</th>\n      <th>vol_trend_long</th>\n      <th>vol_trend_short</th>\n      <th>vol_trend_signal</th>\n    </tr>\n    <tr>\n      <th>Date</th>\n      <th></th>\n      <th></th>\n      <th></th>\n      <th></th>\n      <th></th>\n      <th></th>\n      <th></th>\n      <th></th>\n      <th></th>\n      <th></th>\n      <th></th>\n      <th></th>\n    </tr>\n  </thead>\n  <tbody>\n    <tr>\n      <th>2015-11-30</th>\n      <td>12.040000</td>\n      <td>NaN</td>\n      <td>12.040000</td>\n      <td>12.040000</td>\n      <td>0.0</td>\n      <td>0.0</td>\n      <td>0.0</td>\n      <td>NaN</td>\n      <td>NaN</td>\n      <td>0.0</td>\n      <td>0.0</td>\n      <td>0.0</td>\n    </tr>\n    <tr>\n      <th>2015-12-01</th>\n      <td>11.910000</td>\n      <td>-0.010797</td>\n      <td>11.953333</td>\n      <td>11.972748</td>\n      <td>0.0</td>\n      <td>-1.0</td>\n      <td>-1.0</td>\n      <td>NaN</td>\n      <td>NaN</td>\n      <td>0.0</td>\n      <td>0.0</td>\n      <td>0.0</td>\n    </tr>\n    <tr>\n      <th>2015-12-02</th>\n      <td>11.930000</td>\n      <td>0.001679</td>\n      <td>11.940000</td>\n      <td>11.957501</td>\n      <td>0.0</td>\n      <td>-1.0</td>\n      <td>-1.0</td>\n      <td>0.008822</td>\n      <td>0.008822</td>\n      <td>0.0</td>\n      <td>0.0</td>\n      <td>0.0</td>\n    </tr>\n    <tr>\n      <th>2015-12-03</th>\n      <td>11.920000</td>\n      <td>-0.000838</td>\n      <td>11.929333</td>\n      <td>11.947129</td>\n      <td>0.0</td>\n      <td>-1.0</td>\n      <td>-1.0</td>\n      <td>0.005206</td>\n      <td>0.006466</td>\n      <td>1.0</td>\n      <td>0.0</td>\n      <td>1.0</td>\n    </tr>\n    <tr>\n      <th>2015-12-04</th>\n      <td>12.040000</td>\n      <td>0.010067</td>\n      <td>11.986452</td>\n      <td>11.968363</td>\n      <td>1.0</td>\n      <td>0.0</td>\n      <td>1.0</td>\n      <td>0.008094</td>\n      <td>0.008555</td>\n      <td>1.0</td>\n      <td>0.0</td>\n      <td>1.0</td>\n    </tr>\n    <tr>\n      <th>...</th>\n      <td>...</td>\n      <td>...</td>\n      <td>...</td>\n      <td>...</td>\n      <td>...</td>\n      <td>...</td>\n      <td>...</td>\n      <td>...</td>\n      <td>...</td>\n      <td>...</td>\n      <td>...</td>\n      <td>...</td>\n    </tr>\n    <tr>\n      <th>2021-08-04</th>\n      <td>266.420013</td>\n      <td>-0.011392</td>\n      <td>266.105503</td>\n      <td>249.618328</td>\n      <td>1.0</td>\n      <td>0.0</td>\n      <td>1.0</td>\n      <td>0.046982</td>\n      <td>0.033968</td>\n      <td>0.0</td>\n      <td>-1.0</td>\n      <td>-1.0</td>\n    </tr>\n    <tr>\n      <th>2021-08-05</th>\n      <td>281.809998</td>\n      <td>0.057766</td>\n      <td>273.957750</td>\n      <td>251.774108</td>\n      <td>1.0</td>\n      <td>0.0</td>\n      <td>1.0</td>\n      <td>0.047578</td>\n      <td>0.035416</td>\n      <td>0.0</td>\n      <td>-1.0</td>\n      <td>-1.0</td>\n    </tr>\n    <tr>\n      <th>2021-08-06</th>\n      <td>275.100006</td>\n      <td>-0.023810</td>\n      <td>274.528878</td>\n      <td>253.336174</td>\n      <td>1.0</td>\n      <td>0.0</td>\n      <td>1.0</td>\n      <td>0.047074</td>\n      <td>0.035205</td>\n      <td>0.0</td>\n      <td>-1.0</td>\n      <td>-1.0</td>\n    </tr>\n    <tr>\n      <th>2021-08-09</th>\n      <td>279.730011</td>\n      <td>0.016830</td>\n      <td>277.129445</td>\n      <td>255.103690</td>\n      <td>1.0</td>\n      <td>0.0</td>\n      <td>1.0</td>\n      <td>0.034336</td>\n      <td>0.034104</td>\n      <td>0.0</td>\n      <td>-1.0</td>\n      <td>-1.0</td>\n    </tr>\n    <tr>\n      <th>2021-08-10</th>\n      <td>273.079987</td>\n      <td>-0.023773</td>\n      <td>275.104716</td>\n      <td>256.307509</td>\n      <td>1.0</td>\n      <td>0.0</td>\n      <td>1.0</td>\n      <td>0.031874</td>\n      <td>0.033881</td>\n      <td>1.0</td>\n      <td>0.0</td>\n      <td>1.0</td>\n    </tr>\n  </tbody>\n</table>\n<p>1434 rows × 12 columns</p>\n</div>"
     },
     "metadata": {}
    }
   ],
   "execution_count": null
  },
  {
   "cell_type": "code",
   "metadata": {
    "tags": [],
    "cell_id": "00006-9ac96a21-80a3-4803-aff0-a5f8d0f49688",
    "deepnote_to_be_reexecuted": false,
    "source_hash": "e9625a35",
    "execution_start": 1629252787254,
    "execution_millis": 435,
    "deepnote_cell_type": "code"
   },
   "source": "# Plot the EMA of SQ return volatility\nsq[['fast_vol', 'slow_vol']].plot(figsize=(20,10))",
   "outputs": [
    {
     "output_type": "execute_result",
     "execution_count": 7,
     "data": {
      "text/plain": "<AxesSubplot:xlabel='Date'>"
     },
     "metadata": {}
    },
    {
     "data": {
      "text/plain": "<Figure size 1440x720 with 1 Axes>",
      "image/png": "[encoded data removed]"
     },
     "metadata": {
      "image/png": {
       "width": 1310,
       "height": 559
      }
     },
     "output_type": "display_data"
    }
   ],
   "execution_count": null
  },
  {
   "cell_type": "code",
   "metadata": {
    "tags": [],
    "cell_id": "00007-67b99257-543a-4321-acf9-3cf6614decb6",
    "deepnote_to_be_reexecuted": false,
    "source_hash": "681d312",
    "execution_start": 1629252787685,
    "execution_millis": 182,
    "deepnote_cell_type": "code"
   },
   "source": "# Set bollinger band window\nbollinger_window = 20\n\n# Calculate rolling mean and standard deviation\nsq['bollinger_mid_band'] = sq['Close'].rolling(window=bollinger_window).mean()\nsq['bollinger_std'] = sq['Close'].rolling(window=20).std()\n\n# Calculate upper and lowers bands of bollinger band\nsq['bollinger_upper_band']  = sq['bollinger_mid_band'] + (sq['bollinger_std'] * 1)\nsq['bollinger_lower_band']  = sq['bollinger_mid_band'] - (sq['bollinger_std'] * 1)\n\n# Calculate bollinger band trading signal\nsq['bollinger_long'] = np.where(sq['Close'] < sq['bollinger_lower_band'], 1.0, 0.0)\nsq['bollinger_short'] = np.where(sq['Close'] > sq['bollinger_upper_band'], -1.0, 0.0)\nsq['bollinger_signal'] = sq['bollinger_long'] + sq['bollinger_short']\n\nsq",
   "outputs": [
    {
     "output_type": "execute_result",
     "execution_count": 8,
     "data": {
      "application/vnd.deepnote.dataframe.v2+json": {
       "row_count": 1434,
       "column_count": 19,
       "columns": [
        {
         "name": "Close",
         "dtype": "float64",
         "stats": {
          "unique_count": 1294,
          "nan_count": 0,
          "min": "8.369999885559082",
          "max": "281.80999755859375",
          "histogram": [
           {
            "bin_start": 8.369999885559082,
            "bin_end": 35.71399965286255,
            "count": 488
           },
           {
            "bin_start": 35.71399965286255,
            "bin_end": 63.05799942016601,
            "count": 279
           },
           {
            "bin_start": 63.05799942016601,
            "bin_end": 90.40199918746947,
            "count": 360
           },
           {
            "bin_start": 90.40199918746947,
            "bin_end": 117.74599895477294,
            "count": 29
           },
           {
            "bin_start": 117.74599895477294,
            "bin_end": 145.08999872207642,
            "count": 33
           },
           {
            "bin_start": 145.08999872207642,
            "bin_end": 172.43399848937986,
            "count": 40
           },
           {
            "bin_start": 172.43399848937986,
            "bin_end": 199.77799825668333,
            "count": 27
           },
           {
            "bin_start": 199.77799825668333,
            "bin_end": 227.1219980239868,
            "count": 74
           },
           {
            "bin_start": 227.1219980239868,
            "bin_end": 254.46599779129028,
            "count": 72
           },
           {
            "bin_start": 254.46599779129028,
            "bin_end": 281.80999755859375,
            "count": 32
           }
          ]
         }
        },
        {
         "name": "daily_return",
         "dtype": "float64",
         "stats": {
          "unique_count": 1427,
          "nan_count": 1,
          "min": "-0.2856153690367952",
          "max": "0.15746071772182946",
          "histogram": [
           {
            "bin_start": -0.2856153690367952,
            "bin_end": -0.2413077603609327,
            "count": 1
           },
           {
            "bin_start": -0.2413077603609327,
            "bin_end": -0.19700015168507026,
            "count": 1
           },
           {
            "bin_start": -0.19700015168507026,
            "bin_end": -0.15269254300920782,
            "count": 1
           },
           {
            "bin_start": -0.15269254300920782,
            "bin_end": -0.10838493433334534,
            "count": 5
           },
           {
            "bin_start": -0.10838493433334534,
            "bin_end": -0.06407732565748286,
            "count": 34
           },
           {
            "bin_start": -0.06407732565748286,
            "bin_end": -0.019769716981620444,
            "count": 226
           },
           {
            "bin_start": -0.019769716981620444,
            "bin_end": 0.02453789169424203,
            "count": 892
           },
           {
            "bin_start": 0.02453789169424203,
            "bin_end": 0.0688455003701045,
            "count": 238
           },
           {
            "bin_start": 0.0688455003701045,
            "bin_end": 0.11315310904596698,
            "count": 27
           },
           {
            "bin_start": 0.11315310904596698,
            "bin_end": 0.15746071772182946,
            "count": 8
           }
          ]
         }
        },
        {
         "name": "fast_close",
         "dtype": "float64",
         "stats": {
          "unique_count": 1434,
          "nan_count": 0,
          "min": "8.522700847679275",
          "max": "277.12944452743716",
          "histogram": [
           {
            "bin_start": 8.522700847679275,
            "bin_end": 35.383375215655064,
            "count": 487
           },
           {
            "bin_start": 35.383375215655064,
            "bin_end": 62.24404958363085,
            "count": 245
           },
           {
            "bin_start": 62.24404958363085,
            "bin_end": 89.10472395160663,
            "count": 391
           },
           {
            "bin_start": 89.10472395160663,
            "bin_end": 115.96539831958242,
            "count": 34
           },
           {
            "bin_start": 115.96539831958242,
            "bin_end": 142.82607268755822,
            "count": 28
           },
           {
            "bin_start": 142.82607268755822,
            "bin_end": 169.686747055534,
            "count": 39
           },
           {
            "bin_start": 169.686747055534,
            "bin_end": 196.54742142350977,
            "count": 31
           },
           {
            "bin_start": 196.54742142350977,
            "bin_end": 223.40809579148555,
            "count": 62
           },
           {
            "bin_start": 223.40809579148555,
            "bin_end": 250.26877015946133,
            "count": 81
           },
           {
            "bin_start": 250.26877015946133,
            "bin_end": 277.12944452743716,
            "count": 36
           }
          ]
         }
        },
        {
         "name": "slow_close",
         "dtype": "float64",
         "stats": {
          "unique_count": 1434,
          "nan_count": 0,
          "min": "9.350536473365342",
          "max": "256.3075086833581",
          "histogram": [
           {
            "bin_start": 9.350536473365342,
            "bin_end": 34.046233694364616,
            "count": 492
           },
           {
            "bin_start": 34.046233694364616,
            "bin_end": 58.741930915363895,
            "count": 168
           },
           {
            "bin_start": 58.741930915363895,
            "bin_end": 83.43762813636316,
            "count": 466
           },
           {
            "bin_start": 83.43762813636316,
            "bin_end": 108.13332535736244,
            "count": 38
           },
           {
            "bin_start": 108.13332535736244,
            "bin_end": 132.82902257836173,
            "count": 23
           },
           {
            "bin_start": 132.82902257836173,
            "bin_end": 157.52471979936098,
            "count": 35
           },
           {
            "bin_start": 157.52471979936098,
            "bin_end": 182.22041702036026,
            "count": 35
           },
           {
            "bin_start": 182.22041702036026,
            "bin_end": 206.91611424135954,
            "count": 17
           },
           {
            "bin_start": 206.91611424135954,
            "bin_end": 231.61181146235882,
            "count": 75
           },
           {
            "bin_start": 231.61181146235882,
            "bin_end": 256.3075086833581,
            "count": 85
           }
          ]
         }
        },
        {
         "name": "crossover_long",
         "dtype": "float64",
         "stats": {
          "unique_count": 2,
          "nan_count": 0,
          "min": "0.0",
          "max": "1.0",
          "histogram": [
           {
            "bin_start": 0,
            "bin_end": 0.1,
            "count": 441
           },
           {
            "bin_start": 0.1,
            "bin_end": 0.2,
            "count": 0
           },
           {
            "bin_start": 0.2,
            "bin_end": 0.30000000000000004,
            "count": 0
           },
           {
            "bin_start": 0.30000000000000004,
            "bin_end": 0.4,
            "count": 0
           },
           {
            "bin_start": 0.4,
            "bin_end": 0.5,
            "count": 0
           },
           {
            "bin_start": 0.5,
            "bin_end": 0.6000000000000001,
            "count": 0
           },
           {
            "bin_start": 0.6000000000000001,
            "bin_end": 0.7000000000000001,
            "count": 0
           },
           {
            "bin_start": 0.7000000000000001,
            "bin_end": 0.8,
            "count": 0
           },
           {
            "bin_start": 0.8,
            "bin_end": 0.9,
            "count": 0
           },
           {
            "bin_start": 0.9,
            "bin_end": 1,
            "count": 993
           }
          ]
         }
        },
        {
         "name": "crossover_short",
         "dtype": "float64",
         "stats": {
          "unique_count": 2,
          "nan_count": 0,
          "min": "-1.0",
          "max": "0.0",
          "histogram": [
           {
            "bin_start": -1,
            "bin_end": -0.9,
            "count": 440
           },
           {
            "bin_start": -0.9,
            "bin_end": -0.8,
            "count": 0
           },
           {
            "bin_start": -0.8,
            "bin_end": -0.7,
            "count": 0
           },
           {
            "bin_start": -0.7,
            "bin_end": -0.6,
            "count": 0
           },
           {
            "bin_start": -0.6,
            "bin_end": -0.5,
            "count": 0
           },
           {
            "bin_start": -0.5,
            "bin_end": -0.3999999999999999,
            "count": 0
           },
           {
            "bin_start": -0.3999999999999999,
            "bin_end": -0.29999999999999993,
            "count": 0
           },
           {
            "bin_start": -0.29999999999999993,
            "bin_end": -0.19999999999999996,
            "count": 0
           },
           {
            "bin_start": -0.19999999999999996,
            "bin_end": -0.09999999999999998,
            "count": 0
           },
           {
            "bin_start": -0.09999999999999998,
            "bin_end": 0,
            "count": 994
           }
          ]
         }
        },
        {
         "name": "crossover_signal",
         "dtype": "float64",
         "stats": {
          "unique_count": 3,
          "nan_count": 0,
          "min": "-1.0",
          "max": "1.0",
          "histogram": [
           {
            "bin_start": -1,
            "bin_end": -0.8,
            "count": 440
           },
           {
            "bin_start": -0.8,
            "bin_end": -0.6,
            "count": 0
           },
           {
            "bin_start": -0.6,
            "bin_end": -0.3999999999999999,
            "count": 0
           },
           {
            "bin_start": -0.3999999999999999,
            "bin_end": -0.19999999999999996,
            "count": 0
           },
           {
            "bin_start": -0.19999999999999996,
            "bin_end": 0,
            "count": 0
           },
           {
            "bin_start": 0,
            "bin_end": 0.20000000000000018,
            "count": 1
           },
           {
            "bin_start": 0.20000000000000018,
            "bin_end": 0.40000000000000013,
            "count": 0
           },
           {
            "bin_start": 0.40000000000000013,
            "bin_end": 0.6000000000000001,
            "count": 0
           },
           {
            "bin_start": 0.6000000000000001,
            "bin_end": 0.8,
            "count": 0
           },
           {
            "bin_start": 0.8,
            "bin_end": 1,
            "count": 993
           }
          ]
         }
        },
        {
         "name": "fast_vol",
         "dtype": "float64",
         "stats": {
          "unique_count": 1432,
          "nan_count": 2,
          "min": "0.0027750734734161443",
          "max": "0.19444274298874448",
          "histogram": [
           {
            "bin_start": 0.0027750734734161443,
            "bin_end": 0.021941840424948976,
            "count": 635
           },
           {
            "bin_start": 0.021941840424948976,
            "bin_end": 0.04110860737648181,
            "count": 546
           },
           {
            "bin_start": 0.04110860737648181,
            "bin_end": 0.06027537432801464,
            "count": 171
           },
           {
            "bin_start": 0.06027537432801464,
            "bin_end": 0.07944214127954748,
            "count": 51
           },
           {
            "bin_start": 0.07944214127954748,
            "bin_end": 0.0986089082310803,
            "count": 14
           },
           {
            "bin_start": 0.0986089082310803,
            "bin_end": 0.11777567518261314,
            "count": 10
           },
           {
            "bin_start": 0.11777567518261314,
            "bin_end": 0.136942442134146,
            "count": 2
           },
           {
            "bin_start": 0.136942442134146,
            "bin_end": 0.15610920908567882,
            "count": 1
           },
           {
            "bin_start": 0.15610920908567882,
            "bin_end": 0.17527597603721165,
            "count": 0
           },
           {
            "bin_start": 0.17527597603721165,
            "bin_end": 0.19444274298874448,
            "count": 2
           }
          ]
         }
        },
        {
         "name": "slow_vol",
         "dtype": "float64",
         "stats": {
          "unique_count": 1432,
          "nan_count": 2,
          "min": "0.006465513910445888",
          "max": "0.09695548002787861",
          "histogram": [
           {
            "bin_start": 0.006465513910445888,
            "bin_end": 0.01551451052218916,
            "count": 46
           },
           {
            "bin_start": 0.01551451052218916,
            "bin_end": 0.024563507133932433,
            "count": 452
           },
           {
            "bin_start": 0.024563507133932433,
            "bin_end": 0.033612503745675704,
            "count": 407
           },
           {
            "bin_start": 0.033612503745675704,
            "bin_end": 0.042661500357418974,
            "count": 307
           },
           {
            "bin_start": 0.042661500357418974,
            "bin_end": 0.051710496969162245,
            "count": 149
           },
           {
            "bin_start": 0.051710496969162245,
            "bin_end": 0.06075949358090553,
            "count": 34
           },
           {
            "bin_start": 0.06075949358090553,
            "bin_end": 0.0698084901926488,
            "count": 8
           },
           {
            "bin_start": 0.0698084901926488,
            "bin_end": 0.07885748680439207,
            "count": 5
           },
           {
            "bin_start": 0.07885748680439207,
            "bin_end": 0.08790648341613534,
            "count": 11
           },
           {
            "bin_start": 0.08790648341613534,
            "bin_end": 0.09695548002787861,
            "count": 13
           }
          ]
         }
        },
        {
         "name": "vol_trend_long",
         "dtype": "float64",
         "stats": {
          "unique_count": 2,
          "nan_count": 0,
          "min": "0.0",
          "max": "1.0",
          "histogram": [
           {
            "bin_start": 0,
            "bin_end": 0.1,
            "count": 477
           },
           {
            "bin_start": 0.1,
            "bin_end": 0.2,
            "count": 0
           },
           {
            "bin_start": 0.2,
            "bin_end": 0.30000000000000004,
            "count": 0
           },
           {
            "bin_start": 0.30000000000000004,
            "bin_end": 0.4,
            "count": 0
           },
           {
            "bin_start": 0.4,
            "bin_end": 0.5,
            "count": 0
           },
           {
            "bin_start": 0.5,
            "bin_end": 0.6000000000000001,
            "count": 0
           },
           {
            "bin_start": 0.6000000000000001,
            "bin_end": 0.7000000000000001,
            "count": 0
           },
           {
            "bin_start": 0.7000000000000001,
            "bin_end": 0.8,
            "count": 0
           },
           {
            "bin_start": 0.8,
            "bin_end": 0.9,
            "count": 0
           },
           {
            "bin_start": 0.9,
            "bin_end": 1,
            "count": 957
           }
          ]
         }
        },
        {
         "name": "vol_trend_short",
         "dtype": "float64",
         "stats": {
          "unique_count": 2,
          "nan_count": 0,
          "min": "-1.0",
          "max": "0.0",
          "histogram": [
           {
            "bin_start": -1,
            "bin_end": -0.9,
            "count": 474
           },
           {
            "bin_start": -0.9,
            "bin_end": -0.8,
            "count": 0
           },
           {
            "bin_start": -0.8,
            "bin_end": -0.7,
            "count": 0
           },
           {
            "bin_start": -0.7,
            "bin_end": -0.6,
            "count": 0
           },
           {
            "bin_start": -0.6,
            "bin_end": -0.5,
            "count": 0
           },
           {
            "bin_start": -0.5,
            "bin_end": -0.3999999999999999,
            "count": 0
           },
           {
            "bin_start": -0.3999999999999999,
            "bin_end": -0.29999999999999993,
            "count": 0
           },
           {
            "bin_start": -0.29999999999999993,
            "bin_end": -0.19999999999999996,
            "count": 0
           },
           {
            "bin_start": -0.19999999999999996,
            "bin_end": -0.09999999999999998,
            "count": 0
           },
           {
            "bin_start": -0.09999999999999998,
            "bin_end": 0,
            "count": 960
           }
          ]
         }
        },
        {
         "name": "vol_trend_signal",
         "dtype": "float64",
         "stats": {
          "unique_count": 3,
          "nan_count": 0,
          "min": "-1.0",
          "max": "1.0",
          "histogram": [
           {
            "bin_start": -1,
            "bin_end": -0.8,
            "count": 474
           },
           {
            "bin_start": -0.8,
            "bin_end": -0.6,
            "count": 0
           },
           {
            "bin_start": -0.6,
            "bin_end": -0.3999999999999999,
            "count": 0
           },
           {
            "bin_start": -0.3999999999999999,
            "bin_end": -0.19999999999999996,
            "count": 0
           },
           {
            "bin_start": -0.19999999999999996,
            "bin_end": 0,
            "count": 0
           },
           {
            "bin_start": 0,
            "bin_end": 0.20000000000000018,
            "count": 3
           },
           {
            "bin_start": 0.20000000000000018,
            "bin_end": 0.40000000000000013,
            "count": 0
           },
           {
            "bin_start": 0.40000000000000013,
            "bin_end": 0.6000000000000001,
            "count": 0
           },
           {
            "bin_start": 0.6000000000000001,
            "bin_end": 0.8,
            "count": 0
           },
           {
            "bin_start": 0.8,
            "bin_end": 1,
            "count": 957
           }
          ]
         }
        },
        {
         "name": "bollinger_mid_band",
         "dtype": "float64",
         "stats": {
          "unique_count": 1412,
          "nan_count": 19,
          "min": "9.039500093460083",
          "max": "258.32799911499023",
          "histogram": [
           {
            "bin_start": 9.039500093460083,
            "bin_end": 33.968349995613096,
            "count": 470
           },
           {
            "bin_start": 33.968349995613096,
            "bin_end": 58.897199897766114,
            "count": 183
           },
           {
            "bin_start": 58.897199897766114,
            "bin_end": 83.82604979991912,
            "count": 440
           },
           {
            "bin_start": 83.82604979991912,
            "bin_end": 108.75489970207214,
            "count": 49
           },
           {
            "bin_start": 108.75489970207214,
            "bin_end": 133.68374960422517,
            "count": 24
           },
           {
            "bin_start": 133.68374960422517,
            "bin_end": 158.61259950637816,
            "count": 38
           },
           {
            "bin_start": 158.61259950637816,
            "bin_end": 183.54144940853118,
            "count": 35
           },
           {
            "bin_start": 183.54144940853118,
            "bin_end": 208.4702993106842,
            "count": 14
           },
           {
            "bin_start": 208.4702993106842,
            "bin_end": 233.39914921283722,
            "count": 88
           },
           {
            "bin_start": 233.39914921283722,
            "bin_end": 258.32799911499023,
            "count": 74
           }
          ]
         }
        },
        {
         "name": "bollinger_std",
         "dtype": "float64",
         "stats": {
          "unique_count": 1414,
          "nan_count": 19,
          "min": "0.15620843320486774",
          "max": "25.300157903664537",
          "histogram": [
           {
            "bin_start": 0.15620843320486774,
            "bin_end": 2.670603380250835,
            "count": 734
           },
           {
            "bin_start": 2.670603380250835,
            "bin_end": 5.184998327296802,
            "count": 275
           },
           {
            "bin_start": 5.184998327296802,
            "bin_end": 7.6993932743427695,
            "count": 124
           },
           {
            "bin_start": 7.6993932743427695,
            "bin_end": 10.213788221388736,
            "count": 107
           },
           {
            "bin_start": 10.213788221388736,
            "bin_end": 12.728183168434704,
            "count": 68
           },
           {
            "bin_start": 12.728183168434704,
            "bin_end": 15.24257811548067,
            "count": 48
           },
           {
            "bin_start": 15.24257811548067,
            "bin_end": 17.756973062526637,
            "count": 20
           },
           {
            "bin_start": 17.756973062526637,
            "bin_end": 20.271368009572605,
            "count": 16
           },
           {
            "bin_start": 20.271368009572605,
            "bin_end": 22.785762956618573,
            "count": 14
           },
           {
            "bin_start": 22.785762956618573,
            "bin_end": 25.300157903664537,
            "count": 9
           }
          ]
         }
        },
        {
         "name": "bollinger_upper_band",
         "dtype": "float64",
         "stats": {
          "unique_count": 1414,
          "nan_count": 19,
          "min": "9.233501687468243",
          "max": "273.22079004677784",
          "histogram": [
           {
            "bin_start": 9.233501687468243,
            "bin_end": 35.6322305233992,
            "count": 469
           },
           {
            "bin_start": 35.6322305233992,
            "bin_end": 62.03095935933016,
            "count": 180
           },
           {
            "bin_start": 62.03095935933016,
            "bin_end": 88.42968819526112,
            "count": 436
           },
           {
            "bin_start": 88.42968819526112,
            "bin_end": 114.82841703119209,
            "count": 54
           },
           {
            "bin_start": 114.82841703119209,
            "bin_end": 141.22714586712306,
            "count": 25
           },
           {
            "bin_start": 141.22714586712306,
            "bin_end": 167.625874703054,
            "count": 39
           },
           {
            "bin_start": 167.625874703054,
            "bin_end": 194.02460353898496,
            "count": 34
           },
           {
            "bin_start": 194.02460353898496,
            "bin_end": 220.42333237491593,
            "count": 21
           },
           {
            "bin_start": 220.42333237491593,
            "bin_end": 246.8220612108469,
            "count": 86
           },
           {
            "bin_start": 246.8220612108469,
            "bin_end": 273.22079004677784,
            "count": 71
           }
          ]
         }
        },
        {
         "name": "bollinger_lower_band",
         "dtype": "float64",
         "stats": {
          "unique_count": 1414,
          "nan_count": 19,
          "min": "8.428754996038315",
          "max": "243.43520818320263",
          "histogram": [
           {
            "bin_start": 8.428754996038315,
            "bin_end": 31.929400314754744,
            "count": 469
           },
           {
            "bin_start": 31.929400314754744,
            "bin_end": 55.430045633471174,
            "count": 198
           },
           {
            "bin_start": 55.430045633471174,
            "bin_end": 78.9306909521876,
            "count": 434
           },
           {
            "bin_start": 78.9306909521876,
            "bin_end": 102.43133627090404,
            "count": 45
           },
           {
            "bin_start": 102.43133627090404,
            "bin_end": 125.93198158962048,
            "count": 22
           },
           {
            "bin_start": 125.93198158962048,
            "bin_end": 149.43262690833689,
            "count": 38
           },
           {
            "bin_start": 149.43262690833689,
            "bin_end": 172.93327222705332,
            "count": 35
           },
           {
            "bin_start": 172.93327222705332,
            "bin_end": 196.43391754576976,
            "count": 10
           },
           {
            "bin_start": 196.43391754576976,
            "bin_end": 219.9345628644862,
            "count": 96
           },
           {
            "bin_start": 219.9345628644862,
            "bin_end": 243.43520818320263,
            "count": 68
           }
          ]
         }
        },
        {
         "name": "bollinger_long",
         "dtype": "float64",
         "stats": {
          "unique_count": 2,
          "nan_count": 0,
          "min": "0.0",
          "max": "1.0",
          "histogram": [
           {
            "bin_start": 0,
            "bin_end": 0.1,
            "count": 1184
           },
           {
            "bin_start": 0.1,
            "bin_end": 0.2,
            "count": 0
           },
           {
            "bin_start": 0.2,
            "bin_end": 0.30000000000000004,
            "count": 0
           },
           {
            "bin_start": 0.30000000000000004,
            "bin_end": 0.4,
            "count": 0
           },
           {
            "bin_start": 0.4,
            "bin_end": 0.5,
            "count": 0
           },
           {
            "bin_start": 0.5,
            "bin_end": 0.6000000000000001,
            "count": 0
           },
           {
            "bin_start": 0.6000000000000001,
            "bin_end": 0.7000000000000001,
            "count": 0
           },
           {
            "bin_start": 0.7000000000000001,
            "bin_end": 0.8,
            "count": 0
           },
           {
            "bin_start": 0.8,
            "bin_end": 0.9,
            "count": 0
           },
           {
            "bin_start": 0.9,
            "bin_end": 1,
            "count": 250
           }
          ]
         }
        },
        {
         "name": "bollinger_short",
         "dtype": "float64",
         "stats": {
          "unique_count": 2,
          "nan_count": 0,
          "min": "-1.0",
          "max": "0.0",
          "histogram": [
           {
            "bin_start": -1,
            "bin_end": -0.9,
            "count": 576
           },
           {
            "bin_start": -0.9,
            "bin_end": -0.8,
            "count": 0
           },
           {
            "bin_start": -0.8,
            "bin_end": -0.7,
            "count": 0
           },
           {
            "bin_start": -0.7,
            "bin_end": -0.6,
            "count": 0
           },
           {
            "bin_start": -0.6,
            "bin_end": -0.5,
            "count": 0
           },
           {
            "bin_start": -0.5,
            "bin_end": -0.3999999999999999,
            "count": 0
           },
           {
            "bin_start": -0.3999999999999999,
            "bin_end": -0.29999999999999993,
            "count": 0
           },
           {
            "bin_start": -0.29999999999999993,
            "bin_end": -0.19999999999999996,
            "count": 0
           },
           {
            "bin_start": -0.19999999999999996,
            "bin_end": -0.09999999999999998,
            "count": 0
           },
           {
            "bin_start": -0.09999999999999998,
            "bin_end": 0,
            "count": 858
           }
          ]
         }
        },
        {
         "name": "bollinger_signal",
         "dtype": "float64",
         "stats": {
          "unique_count": 3,
          "nan_count": 0,
          "min": "-1.0",
          "max": "1.0",
          "histogram": [
           {
            "bin_start": -1,
            "bin_end": -0.8,
            "count": 576
           },
           {
            "bin_start": -0.8,
            "bin_end": -0.6,
            "count": 0
           },
           {
            "bin_start": -0.6,
            "bin_end": -0.3999999999999999,
            "count": 0
           },
           {
            "bin_start": -0.3999999999999999,
            "bin_end": -0.19999999999999996,
            "count": 0
           },
           {
            "bin_start": -0.19999999999999996,
            "bin_end": 0,
            "count": 0
           },
           {
            "bin_start": 0,
            "bin_end": 0.20000000000000018,
            "count": 608
           },
           {
            "bin_start": 0.20000000000000018,
            "bin_end": 0.40000000000000013,
            "count": 0
           },
           {
            "bin_start": 0.40000000000000013,
            "bin_end": 0.6000000000000001,
            "count": 0
           },
           {
            "bin_start": 0.6000000000000001,
            "bin_end": 0.8,
            "count": 0
           },
           {
            "bin_start": 0.8,
            "bin_end": 1,
            "count": 250
           }
          ]
         }
        },
        {
         "name": "_deepnote_index_column",
         "dtype": "datetime64[ns]"
        }
       ],
       "rows_top": [
        {
         "Close": 12.039999961853027,
         "daily_return": "nan",
         "fast_close": 12.039999961853027,
         "slow_close": 12.039999961853027,
         "crossover_long": 0,
         "crossover_short": 0,
         "crossover_signal": 0,
         "fast_vol": "nan",
         "slow_vol": "nan",
         "vol_trend_long": 0,
         "vol_trend_short": 0,
         "vol_trend_signal": 0,
         "bollinger_mid_band": "nan",
         "bollinger_std": "nan",
         "bollinger_upper_band": "nan",
         "bollinger_lower_band": "nan",
         "bollinger_long": 0,
         "bollinger_short": 0,
         "bollinger_signal": 0,
         "_deepnote_index_column": "2015-11-30T00:00:00.000000"
        },
        {
         "Close": 11.90999984741211,
         "daily_return": -0.010797351731960503,
         "fast_close": 11.953333218892416,
         "slow_close": 11.972748075822068,
         "crossover_long": 0,
         "crossover_short": -1,
         "crossover_signal": -1,
         "fast_vol": "nan",
         "slow_vol": "nan",
         "vol_trend_long": 0,
         "vol_trend_short": 0,
         "vol_trend_signal": 0,
         "bollinger_mid_band": "nan",
         "bollinger_std": "nan",
         "bollinger_upper_band": "nan",
         "bollinger_lower_band": "nan",
         "bollinger_long": 0,
         "bollinger_short": 0,
         "bollinger_signal": 0,
         "_deepnote_index_column": "2015-12-01T00:00:00.000000"
        },
        {
         "Close": 11.930000305175781,
         "daily_return": 0.0016792995818566414,
         "fast_close": 11.940000125340053,
         "slow_close": 11.957500529312318,
         "crossover_long": 0,
         "crossover_short": -1,
         "crossover_signal": -1,
         "fast_vol": 0.00882232475050015,
         "slow_vol": 0.00882232475050015,
         "vol_trend_long": 0,
         "vol_trend_short": 0,
         "vol_trend_signal": 0,
         "bollinger_mid_band": "nan",
         "bollinger_std": "nan",
         "bollinger_upper_band": "nan",
         "bollinger_lower_band": "nan",
         "bollinger_long": 0,
         "bollinger_short": 0,
         "bollinger_signal": 0,
         "_deepnote_index_column": "2015-12-02T00:00:00.000000"
        },
        {
         "Close": 11.920000076293945,
         "daily_return": -0.000838242131267819,
         "fast_close": 11.929333432515461,
         "slow_close": 11.947129358295546,
         "crossover_long": 0,
         "crossover_short": -1,
         "crossover_signal": -1,
         "fast_vol": 0.005205674247485554,
         "slow_vol": 0.006465513910445888,
         "vol_trend_long": 1,
         "vol_trend_short": 0,
         "vol_trend_signal": 1,
         "bollinger_mid_band": "nan",
         "bollinger_std": "nan",
         "bollinger_upper_band": "nan",
         "bollinger_lower_band": "nan",
         "bollinger_long": 0,
         "bollinger_short": 0,
         "bollinger_signal": 0,
         "_deepnote_index_column": "2015-12-03T00:00:00.000000"
        },
        {
         "Close": 12.039999961853027,
         "daily_return": 0.010067104428777007,
         "fast_close": 11.986451641205818,
         "slow_close": 11.968363262308792,
         "crossover_long": 1,
         "crossover_short": 0,
         "crossover_signal": 1,
         "fast_vol": 0.008094403925324406,
         "slow_vol": 0.008554803345064409,
         "vol_trend_long": 1,
         "vol_trend_short": 0,
         "vol_trend_signal": 1,
         "bollinger_mid_band": "nan",
         "bollinger_std": "nan",
         "bollinger_upper_band": "nan",
         "bollinger_lower_band": "nan",
         "bollinger_long": 0,
         "bollinger_short": 0,
         "bollinger_signal": 0,
         "_deepnote_index_column": "2015-12-04T00:00:00.000000"
        },
        {
         "Close": 12.359999656677246,
         "daily_return": 0.02657804782708406,
         "fast_close": 12.176190315730988,
         "slow_close": 12.045444886478602,
         "crossover_long": 1,
         "crossover_short": 0,
         "crossover_signal": 1,
         "fast_vol": 0.014721160706802057,
         "slow_vol": 0.014236937220653745,
         "vol_trend_long": 0,
         "vol_trend_short": -1,
         "vol_trend_signal": -1,
         "bollinger_mid_band": "nan",
         "bollinger_std": "nan",
         "bollinger_upper_band": "nan",
         "bollinger_lower_band": "nan",
         "bollinger_long": 0,
         "bollinger_short": 0,
         "bollinger_signal": 0,
         "_deepnote_index_column": "2015-12-07T00:00:00.000000"
        },
        {
         "Close": 12.119999885559082,
         "daily_return": -0.019417457749564604,
         "fast_close": 12.147873878479004,
         "slow_close": 12.058432306589879,
         "crossover_long": 1,
         "crossover_short": 0,
         "crossover_signal": 1,
         "fast_vol": 0.024121583341763096,
         "slow_vol": 0.01685562629285102,
         "vol_trend_long": 0,
         "vol_trend_short": -1,
         "vol_trend_signal": -1,
         "bollinger_mid_band": "nan",
         "bollinger_std": "nan",
         "bollinger_upper_band": "nan",
         "bollinger_lower_band": "nan",
         "bollinger_long": 0,
         "bollinger_short": 0,
         "bollinger_signal": 0,
         "_deepnote_index_column": "2015-12-08T00:00:00.000000"
        },
        {
         "Close": 11.989999771118164,
         "daily_return": -0.010726082150859795,
         "fast_close": 12.068627267725327,
         "slow_close": 12.047665917944933,
         "crossover_long": 1,
         "crossover_short": 0,
         "crossover_signal": 1,
         "fast_vol": 0.017749602160168375,
         "slow_vol": 0.01590411922395466,
         "vol_trend_long": 0,
         "vol_trend_short": -1,
         "vol_trend_signal": -1,
         "bollinger_mid_band": "nan",
         "bollinger_std": "nan",
         "bollinger_upper_band": "nan",
         "bollinger_lower_band": "nan",
         "bollinger_long": 0,
         "bollinger_short": 0,
         "bollinger_signal": 0,
         "_deepnote_index_column": "2015-12-09T00:00:00.000000"
        },
        {
         "Close": 12.050000190734863,
         "daily_return": 0.005004205234534709,
         "fast_close": 12.059295503127364,
         "slow_close": 12.04800273069348,
         "crossover_long": 1,
         "crossover_short": 0,
         "crossover_signal": 1,
         "fast_vol": 0.014326491584851355,
         "slow_vol": 0.014623657049651998,
         "vol_trend_long": 1,
         "vol_trend_short": 0,
         "vol_trend_signal": 1,
         "bollinger_mid_band": "nan",
         "bollinger_std": "nan",
         "bollinger_upper_band": "nan",
         "bollinger_lower_band": "nan",
         "bollinger_long": 0,
         "bollinger_short": 0,
         "bollinger_signal": 0,
         "_deepnote_index_column": "2015-12-10T00:00:00.000000"
        },
        {
         "Close": 11.949999809265137,
         "daily_return": -0.008298786712602424,
         "fast_close": 12.00459423699104,
         "slow_close": 12.03487680575606,
         "crossover_long": 0,
         "crossover_short": -1,
         "crossover_signal": -1,
         "fast_vol": 0.01113805846140304,
         "slow_vol": 0.013792932483810638,
         "vol_trend_long": 1,
         "vol_trend_short": 0,
         "vol_trend_signal": 1,
         "bollinger_mid_band": "nan",
         "bollinger_std": "nan",
         "bollinger_upper_band": "nan",
         "bollinger_lower_band": "nan",
         "bollinger_long": 0,
         "bollinger_short": 0,
         "bollinger_signal": 0,
         "_deepnote_index_column": "2015-12-11T00:00:00.000000"
        },
        {
         "Close": 12.329999923706055,
         "daily_return": 0.03179917326411119,
         "fast_close": 12.167376563906611,
         "slow_close": 12.071922960286944,
         "crossover_long": 1,
         "crossover_short": 0,
         "crossover_signal": 1,
         "fast_vol": 0.023587205496257212,
         "slow_vol": 0.01738917995418285,
         "vol_trend_long": 0,
         "vol_trend_short": -1,
         "vol_trend_signal": -1,
         "bollinger_mid_band": "nan",
         "bollinger_std": "nan",
         "bollinger_upper_band": "nan",
         "bollinger_lower_band": "nan",
         "bollinger_long": 0,
         "bollinger_short": 0,
         "bollinger_signal": 0,
         "_deepnote_index_column": "2015-12-14T00:00:00.000000"
        },
        {
         "Close": 12.470000267028809,
         "daily_return": 0.011354448028307429,
         "fast_close": 12.318725365858812,
         "slow_close": 12.119128342844634,
         "crossover_long": 1,
         "crossover_short": 0,
         "crossover_signal": 1,
         "fast_vol": 0.016730744946218335,
         "slow_vol": 0.016420699301271453,
         "vol_trend_long": 0,
         "vol_trend_short": -1,
         "vol_trend_signal": -1,
         "bollinger_mid_band": "nan",
         "bollinger_std": "nan",
         "bollinger_upper_band": "nan",
         "bollinger_lower_band": "nan",
         "bollinger_long": 0,
         "bollinger_short": 0,
         "bollinger_signal": 0,
         "_deepnote_index_column": "2015-12-15T00:00:00.000000"
        },
        {
         "Close": 12.270000457763672,
         "daily_return": -0.01603847674277481,
         "fast_close": 12.29435993751579,
         "slow_close": 12.136141139444934,
         "crossover_long": 1,
         "crossover_short": 0,
         "crossover_signal": 1,
         "fast_vol": 0.021109981595918932,
         "slow_vol": 0.01683734528301638,
         "vol_trend_long": 0,
         "vol_trend_short": -1,
         "vol_trend_signal": -1,
         "bollinger_mid_band": "nan",
         "bollinger_std": "nan",
         "bollinger_upper_band": "nan",
         "bollinger_lower_band": "nan",
         "bollinger_long": 0,
         "bollinger_short": 0,
         "bollinger_signal": 0,
         "_deepnote_index_column": "2015-12-16T00:00:00.000000"
        },
        {
         "Close": 12.319999694824219,
         "daily_return": 0.0040749172938221445,
         "fast_close": 12.307180598681061,
         "slow_close": 12.155965700955326,
         "crossover_long": 1,
         "crossover_short": 0,
         "crossover_signal": 1,
         "fast_vol": 0.015347976142086045,
         "slow_vol": 0.015823187686702874,
         "vol_trend_long": 1,
         "vol_trend_short": 0,
         "vol_trend_signal": 1,
         "bollinger_mid_band": "nan",
         "bollinger_std": "nan",
         "bollinger_upper_band": "nan",
         "bollinger_lower_band": "nan",
         "bollinger_long": 0,
         "bollinger_short": 0,
         "bollinger_signal": 0,
         "_deepnote_index_column": "2015-12-17T00:00:00.000000"
        },
        {
         "Close": 12.34000015258789,
         "daily_return": 0.001623413819731967,
         "fast_close": 12.323590876436409,
         "slow_close": 12.175030286492108,
         "crossover_long": 1,
         "crossover_short": 0,
         "crossover_signal": 1,
         "fast_vol": 0.010855796333935944,
         "slow_vol": 0.01490547460287366,
         "vol_trend_long": 1,
         "vol_trend_short": 0,
         "vol_trend_signal": 1,
         "bollinger_mid_band": "nan",
         "bollinger_std": "nan",
         "bollinger_upper_band": "nan",
         "bollinger_lower_band": "nan",
         "bollinger_long": 0,
         "bollinger_short": 0,
         "bollinger_signal": 0,
         "_deepnote_index_column": "2015-12-18T00:00:00.000000"
        },
        {
         "Close": 12.239999771118164,
         "daily_return": -0.008103758527811311,
         "fast_close": 12.281794686018033,
         "slow_close": 12.181522843652472,
         "crossover_long": 1,
         "crossover_short": 0,
         "crossover_signal": 1,
         "fast_vol": 0.009628763258148335,
         "slow_vol": 0.014446110906785286,
         "vol_trend_long": 1,
         "vol_trend_short": 0,
         "vol_trend_signal": 1,
         "bollinger_mid_band": "nan",
         "bollinger_std": "nan",
         "bollinger_upper_band": "nan",
         "bollinger_lower_band": "nan",
         "bollinger_long": 0,
         "bollinger_short": 0,
         "bollinger_signal": 0,
         "_deepnote_index_column": "2015-12-21T00:00:00.000000"
        },
        {
         "Close": 12.460000038146973,
         "daily_return": 0.017973878361331908,
         "fast_close": 12.370898041887159,
         "slow_close": 12.208463627029403,
         "crossover_long": 1,
         "crossover_short": 0,
         "crossover_signal": 1,
         "fast_vol": 0.014730725465272213,
         "slow_vol": 0.014652281366805285,
         "vol_trend_long": 0,
         "vol_trend_short": -1,
         "vol_trend_signal": -1,
         "bollinger_mid_band": "nan",
         "bollinger_std": "nan",
         "bollinger_upper_band": "nan",
         "bollinger_lower_band": "nan",
         "bollinger_long": 0,
         "bollinger_short": 0,
         "bollinger_signal": 0,
         "_deepnote_index_column": "2015-12-22T00:00:00.000000"
        },
        {
         "Close": 12.5,
         "daily_return": 0.00321026980181105,
         "fast_close": 12.435449267186963,
         "slow_close": 12.235852267288163,
         "crossover_long": 1,
         "crossover_short": 0,
         "crossover_signal": 1,
         "fast_vol": 0.010714162211946154,
         "slow_vol": 0.013901596913564128,
         "vol_trend_long": 1,
         "vol_trend_short": 0,
         "vol_trend_signal": 1,
         "bollinger_mid_band": "nan",
         "bollinger_std": "nan",
         "bollinger_upper_band": "nan",
         "bollinger_lower_band": "nan",
         "bollinger_long": 0,
         "bollinger_short": 0,
         "bollinger_signal": 0,
         "_deepnote_index_column": "2015-12-23T00:00:00.000000"
        },
        {
         "Close": 12.600000381469727,
         "daily_return": 0.008000030517578027,
         "fast_close": 12.517724981256816,
         "slow_close": 12.269163774485106,
         "crossover_long": 1,
         "crossover_short": 0,
         "crossover_signal": 1,
         "fast_vol": 0.007759710502403407,
         "slow_vol": 0.013304714275282561,
         "vol_trend_long": 1,
         "vol_trend_short": 0,
         "vol_trend_signal": 1,
         "bollinger_mid_band": "nan",
         "bollinger_std": "nan",
         "bollinger_upper_band": "nan",
         "bollinger_lower_band": "nan",
         "bollinger_long": 0,
         "bollinger_short": 0,
         "bollinger_signal": 0,
         "_deepnote_index_column": "2015-12-24T00:00:00.000000"
        },
        {
         "Close": 12.829999923706055,
         "daily_return": 0.01825393137087339,
         "fast_close": 12.673862601385872,
         "slow_close": 12.319240466686898,
         "crossover_long": 1,
         "crossover_short": 0,
         "crossover_signal": 1,
         "fast_vol": 0.008987654041065805,
         "slow_vol": 0.013423556372866054,
         "vol_trend_long": 1,
         "vol_trend_short": 0,
         "vol_trend_signal": 1,
         "bollinger_mid_band": 12.233500003814697,
         "bollinger_std": 0.2585440318305946,
         "bollinger_upper_band": 12.492044035645291,
         "bollinger_lower_band": 11.974955971984103,
         "bollinger_long": 0,
         "bollinger_short": -1,
         "bollinger_signal": -1,
         "_deepnote_index_column": "2015-12-28T00:00:00.000000"
        },
        {
         "Close": 12.739999771118164,
         "daily_return": -0.007014820976077862,
         "fast_close": 12.706931202020357,
         "slow_close": 12.355989465711747,
         "crossover_long": 1,
         "crossover_short": 0,
         "crossover_signal": 1,
         "fast_vol": 0.01350367174086767,
         "slow_vol": 0.013246240490064655,
         "vol_trend_long": 0,
         "vol_trend_short": -1,
         "vol_trend_signal": -1,
         "bollinger_mid_band": 12.268499994277954,
         "bollinger_std": 0.27764565384676054,
         "bollinger_upper_band": 12.546145648124716,
         "bollinger_lower_band": 11.990854340431193,
         "bollinger_long": 0,
         "bollinger_short": -1,
         "bollinger_signal": -1,
         "_deepnote_index_column": "2015-12-29T00:00:00.000000"
        },
        {
         "Close": 12.779999732971191,
         "daily_return": 0.003139714487570666,
         "fast_close": 12.743465476206223,
         "slow_close": 12.392283005173374,
         "crossover_long": 1,
         "crossover_short": 0,
         "crossover_signal": 1,
         "fast_vol": 0.009552100066450164,
         "slow_vol": 0.012641791785078698,
         "vol_trend_long": 1,
         "vol_trend_short": 0,
         "vol_trend_signal": 1,
         "bollinger_mid_band": 12.311999988555907,
         "bollinger_std": 0.28653278587428394,
         "bollinger_upper_band": 12.598532774430192,
         "bollinger_lower_band": 12.025467202681623,
         "bollinger_long": 0,
         "bollinger_short": -1,
         "bollinger_signal": -1,
         "_deepnote_index_column": "2015-12-30T00:00:00.000000"
        },
        {
         "Close": 13.09000015258789,
         "daily_return": 0.02425668435789774,
         "fast_close": 12.916732835052136,
         "slow_close": 12.45091252786509,
         "crossover_long": 1,
         "crossover_short": 0,
         "crossover_signal": 1,
         "fast_vol": 0.014704966138164114,
         "slow_vol": 0.013462972112200482,
         "vol_trend_long": 0,
         "vol_trend_short": -1,
         "vol_trend_signal": -1,
         "bollinger_mid_band": 12.369999980926513,
         "bollinger_std": 0.3205259021529393,
         "bollinger_upper_band": 12.690525883079452,
         "bollinger_lower_band": 12.049474078773574,
         "bollinger_long": 0,
         "bollinger_short": -1,
         "bollinger_signal": -1,
         "_deepnote_index_column": "2015-12-31T00:00:00.000000"
        },
        {
         "Close": 12.15999984741211,
         "daily_return": -0.07104662294384467,
         "fast_close": 12.53836631867972,
         "slow_close": 12.426877117157003,
         "crossover_long": 1,
         "crossover_short": 0,
         "crossover_signal": 1,
         "fast_vol": 0.052862859467850645,
         "slow_vol": 0.025291645907855057,
         "vol_trend_long": 0,
         "vol_trend_short": -1,
         "vol_trend_signal": -1,
         "bollinger_mid_band": 12.381999969482422,
         "bollinger_std": 0.30699908901528355,
         "bollinger_upper_band": 12.688999058497705,
         "bollinger_lower_band": 12.075000880467138,
         "bollinger_long": 0,
         "bollinger_short": 0,
         "bollinger_signal": 0,
         "_deepnote_index_column": "2016-01-04T00:00:00.000000"
        },
        {
         "Close": 11.510000228881836,
         "daily_return": -0.05345391666831367,
         "fast_close": 12.02418325845693,
         "slow_close": 12.352291640791082,
         "crossover_long": 0,
         "crossover_short": -1,
         "crossover_signal": -1,
         "fast_vol": 0.040330066787227684,
         "slow_vol": 0.02837235909613066,
         "vol_trend_long": 0,
         "vol_trend_short": -1,
         "vol_trend_signal": -1,
         "bollinger_mid_band": 12.355499982833862,
         "bollinger_std": 0.3568941262003247,
         "bollinger_upper_band": 12.712394109034188,
         "bollinger_lower_band": 11.998605856633537,
         "bollinger_long": 1,
         "bollinger_short": 0,
         "bollinger_signal": 1,
         "_deepnote_index_column": "2016-01-05T00:00:00.000000"
        },
        {
         "Close": 11.520000457763672,
         "daily_return": 0.0008688295988685812,
         "fast_close": 11.772091854353846,
         "slow_close": 12.285546796305727,
         "crossover_long": 0,
         "crossover_short": -1,
         "crossover_signal": -1,
         "fast_vol": 0.03838597541515631,
         "slow_vol": 0.027231877883005032,
         "vol_trend_long": 0,
         "vol_trend_short": -1,
         "vol_trend_signal": -1,
         "bollinger_mid_band": 12.313500022888183,
         "bollinger_std": 0.4028094890972273,
         "bollinger_upper_band": 12.716309511985411,
         "bollinger_lower_band": 11.910690533790955,
         "bollinger_long": 1,
         "bollinger_short": 0,
         "bollinger_signal": 1,
         "_deepnote_index_column": "2016-01-06T00:00:00.000000"
        }
       ],
       "rows_bottom": [
        {
         "Close": 246.6999969482422,
         "daily_return": 0.023311743298914944,
         "fast_close": 244.472383847556,
         "slow_close": 233.38690098363477,
         "crossover_long": 1,
         "crossover_short": 0,
         "crossover_signal": 1,
         "fast_vol": 0.019038199591057393,
         "slow_vol": 0.023568579431944348,
         "vol_trend_long": 1,
         "vol_trend_short": 0,
         "vol_trend_signal": 1,
         "bollinger_mid_band": 233.96750030517578,
         "bollinger_std": 11.504722186614412,
         "bollinger_upper_band": 245.47222249179018,
         "bollinger_lower_band": 222.46277811856137,
         "bollinger_long": 0,
         "bollinger_short": -1,
         "bollinger_signal": -1,
         "_deepnote_index_column": "2021-07-06T00:00:00.000000"
        },
        {
         "Close": 244.63999938964844,
         "daily_return": -0.008350213149884822,
         "fast_close": 244.5561916186022,
         "slow_close": 234.14048731982746,
         "crossover_long": 1,
         "crossover_short": 0,
         "crossover_signal": 1,
         "fast_vol": 0.017261926872530798,
         "slow_vol": 0.022995135538465886,
         "vol_trend_long": 1,
         "vol_trend_short": 0,
         "vol_trend_signal": 1,
         "bollinger_mid_band": 235.49350051879884,
         "bollinger_std": 10.73170232416104,
         "bollinger_upper_band": 246.22520284295987,
         "bollinger_lower_band": 224.7617981946378,
         "bollinger_long": 0,
         "bollinger_short": 0,
         "bollinger_signal": 0,
         "_deepnote_index_column": "2021-07-07T00:00:00.000000"
        },
        {
         "Close": 235.89999389648438,
         "daily_return": -0.0357259872260034,
         "fast_close": 240.2280927575433,
         "slow_close": 234.2583162116375,
         "crossover_long": 1,
         "crossover_short": 0,
         "crossover_signal": 1,
         "fast_vol": 0.025305095449139905,
         "slow_vol": 0.02435402251439627,
         "vol_trend_long": 0,
         "vol_trend_short": -1,
         "vol_trend_signal": -1,
         "bollinger_mid_band": 236.7779998779297,
         "bollinger_std": 8.932880323258708,
         "bollinger_upper_band": 245.7108802011884,
         "bollinger_lower_band": 227.845119554671,
         "bollinger_long": 0,
         "bollinger_short": 0,
         "bollinger_signal": 0,
         "_deepnote_index_column": "2021-07-08T00:00:00.000000"
        },
        {
         "Close": 241.88999938964844,
         "daily_return": 0.02539213924605921,
         "fast_close": 241.05904607359588,
         "slow_close": 234.76938720360775,
         "crossover_long": 1,
         "crossover_short": 0,
         "crossover_signal": 1,
         "fast_vol": 0.03184597050790479,
         "slow_vol": 0.02433548415108269,
         "vol_trend_long": 0,
         "vol_trend_short": -1,
         "vol_trend_signal": -1,
         "bollinger_mid_band": 238.0154998779297,
         "bollinger_std": 7.69820217341842,
         "bollinger_upper_band": 245.71370205134812,
         "bollinger_lower_band": 230.31729770451128,
         "bollinger_long": 0,
         "bollinger_short": 0,
         "bollinger_signal": 0,
         "_deepnote_index_column": "2021-07-09T00:00:00.000000"
        },
        {
         "Close": 243.35000610351562,
         "daily_return": 0.006035829168428375,
         "fast_close": 242.20452608855575,
         "slow_close": 235.3440055820973,
         "crossover_long": 1,
         "crossover_short": 0,
         "crossover_signal": 1,
         "fast_vol": 0.022557074379807855,
         "slow_vol": 0.023523319061851573,
         "vol_trend_long": 1,
         "vol_trend_short": 0,
         "vol_trend_signal": 1,
         "bollinger_mid_band": 239.21600036621095,
         "bollinger_std": 6.394251172581676,
         "bollinger_upper_band": 245.61025153879262,
         "bollinger_lower_band": 232.82174919362927,
         "bollinger_long": 0,
         "bollinger_short": 0,
         "bollinger_signal": 0,
         "_deepnote_index_column": "2021-07-12T00:00:00.000000"
        },
        {
         "Close": 241.42999267578125,
         "daily_return": -0.007889925537612918,
         "fast_close": 241.81725938216852,
         "slow_close": 235.7515659313069,
         "crossover_long": 1,
         "crossover_short": 0,
         "crossover_signal": 1,
         "fast_vol": 0.017785481202071914,
         "slow_vol": 0.02288350777253695,
         "vol_trend_long": 1,
         "vol_trend_short": 0,
         "vol_trend_signal": 1,
         "bollinger_mid_band": 239.7400001525879,
         "bollinger_std": 6.104036399757303,
         "bollinger_upper_band": 245.8440365523452,
         "bollinger_lower_band": 233.6359637528306,
         "bollinger_long": 0,
         "bollinger_short": 0,
         "bollinger_signal": 0,
         "_deepnote_index_column": "2021-07-13T00:00:00.000000"
        },
        {
         "Close": 239,
         "daily_return": -0.01006499916952952,
         "fast_close": 240.40862969108426,
         "slow_close": 235.96910384307722,
         "crossover_long": 1,
         "crossover_short": 0,
         "crossover_signal": 1,
         "fast_vol": 0.013634307293813673,
         "slow_vol": 0.022318306375837094,
         "vol_trend_long": 1,
         "vol_trend_short": 0,
         "vol_trend_signal": 1,
         "bollinger_mid_band": 240.3025001525879,
         "bollinger_std": 5.42113465783127,
         "bollinger_upper_band": 245.72363481041916,
         "bollinger_lower_band": 234.88136549475664,
         "bollinger_long": 0,
         "bollinger_short": 0,
         "bollinger_signal": 0,
         "_deepnote_index_column": "2021-07-14T00:00:00.000000"
        },
        {
         "Close": 235.16000366210938,
         "daily_return": -0.016066930284061143,
         "fast_close": 237.7843166765968,
         "slow_close": 235.91492082441076,
         "crossover_long": 1,
         "crossover_short": 0,
         "crossover_signal": 1,
         "fast_vol": 0.011521477255023341,
         "slow_vol": 0.022003642505403903,
         "vol_trend_long": 1,
         "vol_trend_short": 0,
         "vol_trend_signal": 1,
         "bollinger_mid_band": 240.80500030517578,
         "bollinger_std": 4.2856456759449015,
         "bollinger_upper_band": 245.09064598112067,
         "bollinger_lower_band": 236.5193546292309,
         "bollinger_long": 1,
         "bollinger_short": 0,
         "bollinger_signal": 1,
         "_deepnote_index_column": "2021-07-15T00:00:00.000000"
        },
        {
         "Close": 237.52000427246094,
         "daily_return": 0.010035722799794478,
         "fast_close": 237.65216047452887,
         "slow_close": 236.02240846126048,
         "crossover_long": 1,
         "crossover_short": 0,
         "crossover_signal": 1,
         "fast_vol": 0.015198308963151148,
         "slow_vol": 0.02140418299855532,
         "vol_trend_long": 1,
         "vol_trend_short": 0,
         "vol_trend_signal": 1,
         "bollinger_mid_band": 240.8745002746582,
         "bollinger_std": 4.216555279995074,
         "bollinger_upper_band": 245.09105555465328,
         "bollinger_lower_band": 236.65794499466313,
         "bollinger_long": 0,
         "bollinger_short": 0,
         "bollinger_signal": 0,
         "_deepnote_index_column": "2021-07-16T00:00:00.000000"
        },
        {
         "Close": 233.69000244140625,
         "daily_return": -0.016124965317284468,
         "fast_close": 235.67108145796755,
         "slow_close": 235.86621420758928,
         "crossover_long": 0,
         "crossover_short": -1,
         "crossover_signal": -1,
         "fast_vol": 0.014413505598532618,
         "slow_vol": 0.021116455894683236,
         "vol_trend_long": 1,
         "vol_trend_short": 0,
         "vol_trend_signal": 1,
         "bollinger_mid_band": 240.7065002441406,
         "bollinger_std": 4.438072009441564,
         "bollinger_upper_band": 245.14457225358217,
         "bollinger_lower_band": 236.26842823469906,
         "bollinger_long": 1,
         "bollinger_short": 0,
         "bollinger_signal": 1,
         "_deepnote_index_column": "2021-07-19T00:00:00.000000"
        },
        {
         "Close": 246.47000122070312,
         "daily_return": 0.05468782851547638,
         "fast_close": 241.07054133933534,
         "slow_close": 236.57631810223836,
         "crossover_long": 1,
         "crossover_short": 0,
         "crossover_signal": 1,
         "fast_vol": 0.03988547392891959,
         "slow_vol": 0.024744200103327896,
         "vol_trend_long": 0,
         "vol_trend_short": -1,
         "vol_trend_signal": -1,
         "bollinger_mid_band": 241.33550033569335,
         "bollinger_std": 4.310779739961917,
         "bollinger_upper_band": 245.64628007565528,
         "bollinger_lower_band": 237.02472059573142,
         "bollinger_long": 0,
         "bollinger_short": -1,
         "bollinger_signal": -1,
         "_deepnote_index_column": "2021-07-20T00:00:00.000000"
        },
        {
         "Close": 257.25,
         "daily_return": 0.04373756938331752,
         "fast_close": 249.16027066966768,
         "slow_close": 237.9607727328511,
         "crossover_long": 1,
         "crossover_short": 0,
         "crossover_signal": 1,
         "fast_vol": 0.03087971656177509,
         "slow_vol": 0.02601999923862019,
         "vol_trend_long": 0,
         "vol_trend_short": -1,
         "vol_trend_signal": -1,
         "bollinger_mid_band": 242.3995002746582,
         "bollinger_std": 5.404259620028582,
         "bollinger_upper_band": 247.80375989468678,
         "bollinger_lower_band": 236.99524065462964,
         "bollinger_long": 0,
         "bollinger_short": -1,
         "bollinger_signal": -1,
         "_deepnote_index_column": "2021-07-21T00:00:00.000000"
        },
        {
         "Close": 260.5899963378906,
         "daily_return": 0.012983464870323091,
         "fast_close": 254.87513350377915,
         "slow_close": 239.47618414152527,
         "crossover_long": 1,
         "crossover_short": 0,
         "crossover_signal": 1,
         "fast_vol": 0.02518266835293984,
         "slow_vol": 0.025196011369508425,
         "vol_trend_long": 1,
         "vol_trend_short": 0,
         "vol_trend_signal": 1,
         "bollinger_mid_band": 243.49400024414064,
         "bollinger_std": 6.681331561554723,
         "bollinger_upper_band": 250.17533180569535,
         "bollinger_lower_band": 236.81266868258592,
         "bollinger_long": 0,
         "bollinger_short": -1,
         "bollinger_signal": -1,
         "_deepnote_index_column": "2021-07-22T00:00:00.000000"
        },
        {
         "Close": 264,
         "daily_return": 0.013085704401667897,
         "fast_close": 259.43756675188956,
         "slow_close": 241.1184707256695,
         "crossover_long": 1,
         "crossover_short": 0,
         "crossover_signal": 1,
         "fast_vol": 0.018858656977749418,
         "slow_vol": 0.024395576724874517,
         "vol_trend_long": 1,
         "vol_trend_short": 0,
         "vol_trend_signal": 1,
         "bollinger_mid_band": 244.48650054931642,
         "bollinger_std": 8.106294495387415,
         "bollinger_upper_band": 252.59279504470382,
         "bollinger_lower_band": 236.38020605392902,
         "bollinger_long": 0,
         "bollinger_short": -1,
         "bollinger_signal": -1,
         "_deepnote_index_column": "2021-07-23T00:00:00.000000"
        },
        {
         "Close": 261.989990234375,
         "daily_return": -0.007613673354640138,
         "fast_close": 260.7137784931323,
         "slow_close": 242.51617394924867,
         "crossover_long": 1,
         "crossover_short": 0,
         "crossover_signal": 1,
         "fast_vol": 0.020660534897760822,
         "slow_vol": 0.023853243839839583,
         "vol_trend_long": 1,
         "vol_trend_short": 0,
         "vol_trend_signal": 1,
         "bollinger_mid_band": 245.58899993896483,
         "bollinger_std": 8.914564093305039,
         "bollinger_upper_band": 254.50356403226988,
         "bollinger_lower_band": 236.6744358456598,
         "bollinger_long": 0,
         "bollinger_short": -1,
         "bollinger_signal": -1,
         "_deepnote_index_column": "2021-07-26T00:00:00.000000"
        },
        {
         "Close": 251.72999572753906,
         "daily_return": -0.0391617805613772,
         "fast_close": 256.2218871103357,
         "slow_close": 243.1331960302538,
         "crossover_long": 1,
         "crossover_short": 0,
         "crossover_signal": 1,
         "fast_vol": 0.030883496352589263,
         "slow_vol": 0.025741455773773982,
         "vol_trend_long": 0,
         "vol_trend_short": -1,
         "vol_trend_signal": -1,
         "bollinger_mid_band": 245.84549942016602,
         "bollinger_std": 9.018383163039877,
         "bollinger_upper_band": 254.8638825832059,
         "bollinger_lower_band": 236.82711625712614,
         "bollinger_long": 0,
         "bollinger_short": 0,
         "bollinger_signal": 0,
         "_deepnote_index_column": "2021-07-27T00:00:00.000000"
        },
        {
         "Close": 258.6099853515625,
         "daily_return": 0.027330829622187913,
         "fast_close": 257.4159362309491,
         "slow_close": 244.16963031171693,
         "crossover_long": 1,
         "crossover_short": 0,
         "crossover_signal": 1,
         "fast_vol": 0.0348142831103296,
         "slow_vol": 0.02562761413261027,
         "vol_trend_long": 0,
         "vol_trend_short": -1,
         "vol_trend_signal": -1,
         "bollinger_mid_band": 246.33249893188477,
         "bollinger_std": 9.443278364211872,
         "bollinger_upper_band": 255.77577729609663,
         "bollinger_lower_band": 236.8892205676729,
         "bollinger_long": 0,
         "bollinger_short": -1,
         "bollinger_signal": -1,
         "_deepnote_index_column": "2021-07-28T00:00:00.000000"
        },
        {
         "Close": 255.27999877929688,
         "daily_return": -0.012876481036641851,
         "fast_close": 256.347967505123,
         "slow_close": 244.91365845091454,
         "crossover_long": 1,
         "crossover_short": 0,
         "crossover_signal": 1,
         "fast_vol": 0.026989889318269643,
         "slow_vol": 0.025149300476064035,
         "vol_trend_long": 0,
         "vol_trend_short": -1,
         "vol_trend_signal": -1,
         "bollinger_mid_band": 246.90649871826173,
         "bollinger_std": 9.628328056360859,
         "bollinger_upper_band": 256.5348267746226,
         "bollinger_lower_band": 237.27817066190087,
         "bollinger_long": 0,
         "bollinger_short": 0,
         "bollinger_signal": 0,
         "_deepnote_index_column": "2021-07-29T00:00:00.000000"
        },
        {
         "Close": 247.25999450683594,
         "daily_return": -0.031416500747458276,
         "fast_close": 251.80398100597947,
         "slow_close": 245.07078555742893,
         "crossover_long": 1,
         "crossover_short": 0,
         "crossover_signal": 1,
         "fast_vol": 0.025482595561655882,
         "slow_vol": 0.02585703985863653,
         "vol_trend_long": 1,
         "vol_trend_short": 0,
         "vol_trend_signal": 1,
         "bollinger_mid_band": 247.17699813842773,
         "bollinger_std": 9.55450504113542,
         "bollinger_upper_band": 256.73150317956316,
         "bollinger_lower_band": 237.6224930972923,
         "bollinger_long": 0,
         "bollinger_short": 0,
         "bollinger_signal": 0,
         "_deepnote_index_column": "2021-07-30T00:00:00.000000"
        },
        {
         "Close": 272.3800048828125,
         "daily_return": 0.10159350859033567,
         "fast_close": 262.091992944396,
         "slow_close": 246.89960227911507,
         "crossover_long": 1,
         "crossover_short": 0,
         "crossover_signal": 1,
         "fast_vol": 0.07519939664806963,
         "slow_vol": 0.03574751636781381,
         "vol_trend_long": 0,
         "vol_trend_short": -1,
         "vol_trend_signal": -1,
         "bollinger_mid_band": 248.74199829101562,
         "bollinger_std": 10.962895411998476,
         "bollinger_upper_band": 259.7048937030141,
         "bollinger_lower_band": 237.77910287901713,
         "bollinger_long": 0,
         "bollinger_short": -1,
         "bollinger_signal": -1,
         "_deepnote_index_column": "2021-08-02T00:00:00.000000"
        },
        {
         "Close": 269.489990234375,
         "daily_return": -0.010610230547873356,
         "fast_close": 265.7909915893855,
         "slow_close": 248.41241298050176,
         "crossover_long": 1,
         "crossover_short": 0,
         "crossover_signal": 1,
         "fast_vol": 0.06216678989971828,
         "slow_vol": 0.03484602481779781,
         "vol_trend_long": 0,
         "vol_trend_short": -1,
         "vol_trend_signal": -1,
         "bollinger_mid_band": 249.88149795532226,
         "bollinger_std": 11.885100471139738,
         "bollinger_upper_band": 261.766598426462,
         "bollinger_lower_band": 237.99639748418252,
         "bollinger_long": 0,
         "bollinger_short": -1,
         "bollinger_signal": -1,
         "_deepnote_index_column": "2021-08-03T00:00:00.000000"
        },
        {
         "Close": 266.4200134277344,
         "daily_return": -0.01139180273067164,
         "fast_close": 266.10550250855994,
         "slow_close": 249.61832811205338,
         "crossover_long": 1,
         "crossover_short": 0,
         "crossover_signal": 1,
         "fast_vol": 0.046981986141560045,
         "slow_vol": 0.033967711536236185,
         "vol_trend_long": 0,
         "vol_trend_short": -1,
         "vol_trend_signal": -1,
         "bollinger_mid_band": 250.97049865722656,
         "bollinger_std": 12.367587917862089,
         "bollinger_upper_band": 263.33808657508865,
         "bollinger_lower_band": 238.60291073936446,
         "bollinger_long": 0,
         "bollinger_short": -1,
         "bollinger_signal": -1,
         "_deepnote_index_column": "2021-08-04T00:00:00.000000"
        },
        {
         "Close": 281.80999755859375,
         "daily_return": 0.0577658710126665,
         "fast_close": 273.9577500335769,
         "slow_close": 251.77410791232415,
         "crossover_long": 1,
         "crossover_short": 0,
         "crossover_signal": 1,
         "fast_vol": 0.04757832600145984,
         "slow_vol": 0.035415658857565105,
         "vol_trend_long": 0,
         "vol_trend_short": -1,
         "vol_trend_signal": -1,
         "bollinger_mid_band": 253.26599884033203,
         "bollinger_std": 13.62033221664935,
         "bollinger_upper_band": 266.88633105698136,
         "bollinger_lower_band": 239.64566662368267,
         "bollinger_long": 0,
         "bollinger_short": -1,
         "bollinger_signal": -1,
         "_deepnote_index_column": "2021-08-05T00:00:00.000000"
        },
        {
         "Close": 275.1000061035156,
         "daily_return": -0.02381033857282866,
         "fast_close": 274.52887806854625,
         "slow_close": 253.33617353390525,
         "crossover_long": 1,
         "crossover_short": 0,
         "crossover_signal": 1,
         "fast_vol": 0.04707361228226158,
         "slow_vol": 0.03520532033041154,
         "vol_trend_long": 0,
         "vol_trend_short": -1,
         "vol_trend_signal": -1,
         "bollinger_mid_band": 254.9264991760254,
         "bollinger_std": 14.17358704833165,
         "bollinger_upper_band": 269.100086224357,
         "bollinger_lower_band": 240.75291212769375,
         "bollinger_long": 0,
         "bollinger_short": -1,
         "bollinger_signal": -1,
         "_deepnote_index_column": "2021-08-06T00:00:00.000000"
        },
        {
         "Close": 279.7300109863281,
         "daily_return": 0.016830260923623275,
         "fast_close": 277.12944452743716,
         "slow_close": 255.10368986995778,
         "crossover_long": 1,
         "crossover_short": 0,
         "crossover_signal": 1,
         "fast_vol": 0.03433562447557582,
         "slow_vol": 0.034103916325245565,
         "vol_trend_long": 0,
         "vol_trend_short": -1,
         "vol_trend_signal": -1,
         "bollinger_mid_band": 256.745499420166,
         "bollinger_std": 14.924273049418401,
         "bollinger_upper_band": 271.6697724695844,
         "bollinger_lower_band": 241.82122637074764,
         "bollinger_long": 0,
         "bollinger_short": -1,
         "bollinger_signal": -1,
         "_deepnote_index_column": "2021-08-09T00:00:00.000000"
        },
        {
         "Close": 273.0799865722656,
         "daily_return": -0.023773010234456105,
         "fast_close": 275.1047155498514,
         "slow_close": 256.3075086833581,
         "crossover_long": 1,
         "crossover_short": 0,
         "crossover_signal": 1,
         "fast_vol": 0.031874365885245004,
         "slow_vol": 0.03388127590294284,
         "vol_trend_long": 1,
         "vol_trend_short": 0,
         "vol_trend_signal": 1,
         "bollinger_mid_band": 258.32799911499023,
         "bollinger_std": 14.892790931787587,
         "bollinger_upper_band": 273.22079004677784,
         "bollinger_lower_band": 243.43520818320263,
         "bollinger_long": 0,
         "bollinger_short": 0,
         "bollinger_signal": 0,
         "_deepnote_index_column": "2021-08-10T00:00:00.000000"
        }
       ]
      },
      "text/plain": "                 Close  daily_return  fast_close  slow_close  crossover_long  \\\nDate                                                                           \n2015-11-30   12.040000           NaN   12.040000   12.040000             0.0   \n2015-12-01   11.910000     -0.010797   11.953333   11.972748             0.0   \n2015-12-02   11.930000      0.001679   11.940000   11.957501             0.0   \n2015-12-03   11.920000     -0.000838   11.929333   11.947129             0.0   \n2015-12-04   12.040000      0.010067   11.986452   11.968363             1.0   \n...                ...           ...         ...         ...             ...   \n2021-08-04  266.420013     -0.011392  266.105503  249.618328             1.0   \n2021-08-05  281.809998      0.057766  273.957750  251.774108             1.0   \n2021-08-06  275.100006     -0.023810  274.528878  253.336174             1.0   \n2021-08-09  279.730011      0.016830  277.129445  255.103690             1.0   \n2021-08-10  273.079987     -0.023773  275.104716  256.307509             1.0   \n\n            crossover_short  crossover_signal  fast_vol  slow_vol  \\\nDate                                                                \n2015-11-30              0.0               0.0       NaN       NaN   \n2015-12-01             -1.0              -1.0       NaN       NaN   \n2015-12-02             -1.0              -1.0  0.008822  0.008822   \n2015-12-03             -1.0              -1.0  0.005206  0.006466   \n2015-12-04              0.0               1.0  0.008094  0.008555   \n...                     ...               ...       ...       ...   \n2021-08-04              0.0               1.0  0.046982  0.033968   \n2021-08-05              0.0               1.0  0.047578  0.035416   \n2021-08-06              0.0               1.0  0.047074  0.035205   \n2021-08-09              0.0               1.0  0.034336  0.034104   \n2021-08-10              0.0               1.0  0.031874  0.033881   \n\n            vol_trend_long  vol_trend_short  vol_trend_signal  \\\nDate                                                            \n2015-11-30             0.0              0.0               0.0   \n2015-12-01             0.0              0.0               0.0   \n2015-12-02             0.0              0.0               0.0   \n2015-12-03             1.0              0.0               1.0   \n2015-12-04             1.0              0.0               1.0   \n...                    ...              ...               ...   \n2021-08-04             0.0             -1.0              -1.0   \n2021-08-05             0.0             -1.0              -1.0   \n2021-08-06             0.0             -1.0              -1.0   \n2021-08-09             0.0             -1.0              -1.0   \n2021-08-10             1.0              0.0               1.0   \n\n            bollinger_mid_band  bollinger_std  bollinger_upper_band  \\\nDate                                                                  \n2015-11-30                 NaN            NaN                   NaN   \n2015-12-01                 NaN            NaN                   NaN   \n2015-12-02                 NaN            NaN                   NaN   \n2015-12-03                 NaN            NaN                   NaN   \n2015-12-04                 NaN            NaN                   NaN   \n...                        ...            ...                   ...   \n2021-08-04          250.970499      12.367588            263.338087   \n2021-08-05          253.265999      13.620332            266.886331   \n2021-08-06          254.926499      14.173587            269.100086   \n2021-08-09          256.745499      14.924273            271.669772   \n2021-08-10          258.327999      14.892791            273.220790   \n\n            bollinger_lower_band  bollinger_long  bollinger_short  \\\nDate                                                                \n2015-11-30                   NaN             0.0              0.0   \n2015-12-01                   NaN             0.0              0.0   \n2015-12-02                   NaN             0.0              0.0   \n2015-12-03                   NaN             0.0              0.0   \n2015-12-04                   NaN             0.0              0.0   \n...                          ...             ...              ...   \n2021-08-04            238.602911             0.0             -1.0   \n2021-08-05            239.645667             0.0             -1.0   \n2021-08-06            240.752912             0.0             -1.0   \n2021-08-09            241.821226             0.0             -1.0   \n2021-08-10            243.435208             0.0              0.0   \n\n            bollinger_signal  \nDate                          \n2015-11-30               0.0  \n2015-12-01               0.0  \n2015-12-02               0.0  \n2015-12-03               0.0  \n2015-12-04               0.0  \n...                      ...  \n2021-08-04              -1.0  \n2021-08-05              -1.0  \n2021-08-06              -1.0  \n2021-08-09              -1.0  \n2021-08-10               0.0  \n\n[1434 rows x 19 columns]",
      "text/html": "<div>\n<style scoped>\n    .dataframe tbody tr th:only-of-type {\n        vertical-align: middle;\n    }\n\n    .dataframe tbody tr th {\n        vertical-align: top;\n    }\n\n    .dataframe thead th {\n        text-align: right;\n    }\n</style>\n<table border=\"1\" class=\"dataframe\">\n  <thead>\n    <tr style=\"text-align: right;\">\n      <th></th>\n      <th>Close</th>\n      <th>daily_return</th>\n      <th>fast_close</th>\n      <th>slow_close</th>\n      <th>crossover_long</th>\n      <th>crossover_short</th>\n      <th>crossover_signal</th>\n      <th>fast_vol</th>\n      <th>slow_vol</th>\n      <th>vol_trend_long</th>\n      <th>vol_trend_short</th>\n      <th>vol_trend_signal</th>\n      <th>bollinger_mid_band</th>\n      <th>bollinger_std</th>\n      <th>bollinger_upper_band</th>\n      <th>bollinger_lower_band</th>\n      <th>bollinger_long</th>\n      <th>bollinger_short</th>\n      <th>bollinger_signal</th>\n    </tr>\n    <tr>\n      <th>Date</th>\n      <th></th>\n      <th></th>\n      <th></th>\n      <th></th>\n      <th></th>\n      <th></th>\n      <th></th>\n      <th></th>\n      <th></th>\n      <th></th>\n      <th></th>\n      <th></th>\n      <th></th>\n      <th></th>\n      <th></th>\n      <th></th>\n      <th></th>\n      <th></th>\n      <th></th>\n    </tr>\n  </thead>\n  <tbody>\n    <tr>\n      <th>2015-11-30</th>\n      <td>12.040000</td>\n      <td>NaN</td>\n      <td>12.040000</td>\n      <td>12.040000</td>\n      <td>0.0</td>\n      <td>0.0</td>\n      <td>0.0</td>\n      <td>NaN</td>\n      <td>NaN</td>\n      <td>0.0</td>\n      <td>0.0</td>\n      <td>0.0</td>\n      <td>NaN</td>\n      <td>NaN</td>\n      <td>NaN</td>\n      <td>NaN</td>\n      <td>0.0</td>\n      <td>0.0</td>\n      <td>0.0</td>\n    </tr>\n    <tr>\n      <th>2015-12-01</th>\n      <td>11.910000</td>\n      <td>-0.010797</td>\n      <td>11.953333</td>\n      <td>11.972748</td>\n      <td>0.0</td>\n      <td>-1.0</td>\n      <td>-1.0</td>\n      <td>NaN</td>\n      <td>NaN</td>\n      <td>0.0</td>\n      <td>0.0</td>\n      <td>0.0</td>\n      <td>NaN</td>\n      <td>NaN</td>\n      <td>NaN</td>\n      <td>NaN</td>\n      <td>0.0</td>\n      <td>0.0</td>\n      <td>0.0</td>\n    </tr>\n    <tr>\n      <th>2015-12-02</th>\n      <td>11.930000</td>\n      <td>0.001679</td>\n      <td>11.940000</td>\n      <td>11.957501</td>\n      <td>0.0</td>\n      <td>-1.0</td>\n      <td>-1.0</td>\n      <td>0.008822</td>\n      <td>0.008822</td>\n      <td>0.0</td>\n      <td>0.0</td>\n      <td>0.0</td>\n      <td>NaN</td>\n      <td>NaN</td>\n      <td>NaN</td>\n      <td>NaN</td>\n      <td>0.0</td>\n      <td>0.0</td>\n      <td>0.0</td>\n    </tr>\n    <tr>\n      <th>2015-12-03</th>\n      <td>11.920000</td>\n      <td>-0.000838</td>\n      <td>11.929333</td>\n      <td>11.947129</td>\n      <td>0.0</td>\n      <td>-1.0</td>\n      <td>-1.0</td>\n      <td>0.005206</td>\n      <td>0.006466</td>\n      <td>1.0</td>\n      <td>0.0</td>\n      <td>1.0</td>\n      <td>NaN</td>\n      <td>NaN</td>\n      <td>NaN</td>\n      <td>NaN</td>\n      <td>0.0</td>\n      <td>0.0</td>\n      <td>0.0</td>\n    </tr>\n    <tr>\n      <th>2015-12-04</th>\n      <td>12.040000</td>\n      <td>0.010067</td>\n      <td>11.986452</td>\n      <td>11.968363</td>\n      <td>1.0</td>\n      <td>0.0</td>\n      <td>1.0</td>\n      <td>0.008094</td>\n      <td>0.008555</td>\n      <td>1.0</td>\n      <td>0.0</td>\n      <td>1.0</td>\n      <td>NaN</td>\n      <td>NaN</td>\n      <td>NaN</td>\n      <td>NaN</td>\n      <td>0.0</td>\n      <td>0.0</td>\n      <td>0.0</td>\n    </tr>\n    <tr>\n      <th>...</th>\n      <td>...</td>\n      <td>...</td>\n      <td>...</td>\n      <td>...</td>\n      <td>...</td>\n      <td>...</td>\n      <td>...</td>\n      <td>...</td>\n      <td>...</td>\n      <td>...</td>\n      <td>...</td>\n      <td>...</td>\n      <td>...</td>\n      <td>...</td>\n      <td>...</td>\n      <td>...</td>\n      <td>...</td>\n      <td>...</td>\n      <td>...</td>\n    </tr>\n    <tr>\n      <th>2021-08-04</th>\n      <td>266.420013</td>\n      <td>-0.011392</td>\n      <td>266.105503</td>\n      <td>249.618328</td>\n      <td>1.0</td>\n      <td>0.0</td>\n      <td>1.0</td>\n      <td>0.046982</td>\n      <td>0.033968</td>\n      <td>0.0</td>\n      <td>-1.0</td>\n      <td>-1.0</td>\n      <td>250.970499</td>\n      <td>12.367588</td>\n      <td>263.338087</td>\n      <td>238.602911</td>\n      <td>0.0</td>\n      <td>-1.0</td>\n      <td>-1.0</td>\n    </tr>\n    <tr>\n      <th>2021-08-05</th>\n      <td>281.809998</td>\n      <td>0.057766</td>\n      <td>273.957750</td>\n      <td>251.774108</td>\n      <td>1.0</td>\n      <td>0.0</td>\n      <td>1.0</td>\n      <td>0.047578</td>\n      <td>0.035416</td>\n      <td>0.0</td>\n      <td>-1.0</td>\n      <td>-1.0</td>\n      <td>253.265999</td>\n      <td>13.620332</td>\n      <td>266.886331</td>\n      <td>239.645667</td>\n      <td>0.0</td>\n      <td>-1.0</td>\n      <td>-1.0</td>\n    </tr>\n    <tr>\n      <th>2021-08-06</th>\n      <td>275.100006</td>\n      <td>-0.023810</td>\n      <td>274.528878</td>\n      <td>253.336174</td>\n      <td>1.0</td>\n      <td>0.0</td>\n      <td>1.0</td>\n      <td>0.047074</td>\n      <td>0.035205</td>\n      <td>0.0</td>\n      <td>-1.0</td>\n      <td>-1.0</td>\n      <td>254.926499</td>\n      <td>14.173587</td>\n      <td>269.100086</td>\n      <td>240.752912</td>\n      <td>0.0</td>\n      <td>-1.0</td>\n      <td>-1.0</td>\n    </tr>\n    <tr>\n      <th>2021-08-09</th>\n      <td>279.730011</td>\n      <td>0.016830</td>\n      <td>277.129445</td>\n      <td>255.103690</td>\n      <td>1.0</td>\n      <td>0.0</td>\n      <td>1.0</td>\n      <td>0.034336</td>\n      <td>0.034104</td>\n      <td>0.0</td>\n      <td>-1.0</td>\n      <td>-1.0</td>\n      <td>256.745499</td>\n      <td>14.924273</td>\n      <td>271.669772</td>\n      <td>241.821226</td>\n      <td>0.0</td>\n      <td>-1.0</td>\n      <td>-1.0</td>\n    </tr>\n    <tr>\n      <th>2021-08-10</th>\n      <td>273.079987</td>\n      <td>-0.023773</td>\n      <td>275.104716</td>\n      <td>256.307509</td>\n      <td>1.0</td>\n      <td>0.0</td>\n      <td>1.0</td>\n      <td>0.031874</td>\n      <td>0.033881</td>\n      <td>1.0</td>\n      <td>0.0</td>\n      <td>1.0</td>\n      <td>258.327999</td>\n      <td>14.892791</td>\n      <td>273.220790</td>\n      <td>243.435208</td>\n      <td>0.0</td>\n      <td>0.0</td>\n      <td>0.0</td>\n    </tr>\n  </tbody>\n</table>\n<p>1434 rows × 19 columns</p>\n</div>"
     },
     "metadata": {}
    }
   ],
   "execution_count": null
  },
  {
   "cell_type": "code",
   "metadata": {
    "tags": [],
    "cell_id": "00008-8a567ff1-a4e4-4063-8f96-4b420ade5684",
    "deepnote_to_be_reexecuted": false,
    "source_hash": "c4493577",
    "execution_start": 1629252787915,
    "execution_millis": 444,
    "deepnote_cell_type": "code"
   },
   "source": "# Plot the Bollinger Bands for BTC/USD closing prices\nsq[['Close','bollinger_mid_band','bollinger_upper_band','bollinger_lower_band']].plot(figsize=(20,10))",
   "outputs": [
    {
     "output_type": "execute_result",
     "execution_count": 9,
     "data": {
      "text/plain": "<AxesSubplot:xlabel='Date'>"
     },
     "metadata": {}
    },
    {
     "data": {
      "text/plain": "<Figure size 1440x720 with 1 Axes>",
      "image/png": "[encoded data removed]"
     },
     "metadata": {
      "image/png": {
       "width": 1297,
       "height": 559
      }
     },
     "output_type": "display_data"
    }
   ],
   "execution_count": null
  },
  {
   "cell_type": "code",
   "metadata": {
    "tags": [],
    "cell_id": "00009-f8371351-6dcd-4dea-b99c-9033c68cf3e9",
    "deepnote_to_be_reexecuted": false,
    "source_hash": "e63c54a2",
    "execution_start": 1629252788371,
    "execution_millis": 57,
    "deepnote_cell_type": "code"
   },
   "source": "def implement_bb_strategy(data, lower_bb, upper_bb):\n    buy_price = []\n    sell_price = []\n    bb_signal = []\n    signal = 0\n    \n    for i in range(len(data)):\n        if data[i-1] > lower_bb[i-1] and data[i] < lower_bb[i]:\n            if signal != 1:\n                buy_price.append(data[i])\n                sell_price.append(np.nan)\n                signal = 1\n                bb_signal.append(signal)\n            else:\n                buy_price.append(np.nan)\n                sell_price.append(np.nan)\n                bb_signal.append(0)\n        elif data[i-1] < upper_bb[i-1] and data[i] > upper_bb[i]:\n            if signal != -1:\n                buy_price.append(np.nan)\n                sell_price.append(data[i])\n                signal = -1\n                bb_signal.append(signal)\n            else:\n                buy_price.append(np.nan)\n                sell_price.append(np.nan)\n                bb_signal.append(0)\n        else:\n            buy_price.append(np.nan)\n            sell_price.append(np.nan)\n            bb_signal.append(0)\n            \n    return buy_price, sell_price, bb_signal\n\nbuy_price, sell_price, bb_signal = implement_bb_strategy(sq['Close'], sq['bollinger_lower_band'], sq['bollinger_upper_band'])",
   "outputs": [],
   "execution_count": null
  },
  {
   "cell_type": "code",
   "metadata": {
    "tags": [],
    "cell_id": "00010-f986dfb1-a94e-4934-87ac-19bd61bf7d3b",
    "deepnote_to_be_reexecuted": false,
    "source_hash": "ff143fe",
    "execution_start": 1629252788437,
    "execution_millis": 1,
    "deepnote_cell_type": "code"
   },
   "source": "import math",
   "outputs": [],
   "execution_count": null
  },
  {
   "cell_type": "code",
   "metadata": {
    "tags": [],
    "cell_id": "00010-0a1e7a58-a50d-4dde-93df-8f85adc5d53e",
    "deepnote_to_be_reexecuted": false,
    "source_hash": "d4584e9",
    "execution_start": 1629252788513,
    "execution_millis": 536,
    "deepnote_cell_type": "code"
   },
   "source": "# PLOT TRADE SIGNALS\nsq['Close'].plot(label = 'CLOSE PRICES', alpha = 0.3)\nsq['bollinger_upper_band'].plot(label = 'UPPER BB', linestyle = '--', linewidth = 1, color = 'black')\nsq['bollinger_mid_band'].plot(label = 'MIDDLE BB', linestyle = '--', linewidth = 1.2, color = 'grey')\nsq['bollinger_lower_band'].plot(label = 'LOWER BB', linestyle = '--', linewidth = 1, color = 'black')\nplt.scatter(sq.index, buy_price, marker = '^', color = 'green', label = 'BUY', s = 200)\nplt.scatter(sq.index, sell_price, marker = 'v', color = 'red', label = 'SELL', s = 200)\nplt.title('SQ BB STRATEGY TRADING SIGNALS')\nplt.legend(loc = 'upper left')\nplt.show()",
   "outputs": [
    {
     "data": {
      "text/plain": "<Figure size 1440x720 with 1 Axes>",
      "image/png": "[encoded data removed]"
     },
     "metadata": {
      "image/png": {
       "width": 1297,
       "height": 580
      }
     },
     "output_type": "display_data"
    }
   ],
   "execution_count": null
  },
  {
   "cell_type": "code",
   "metadata": {
    "tags": [],
    "cell_id": "00012-794d1a41-85b4-4c94-9cd0-0772202af9ff",
    "deepnote_to_be_reexecuted": false,
    "source_hash": "1c9757b5",
    "execution_start": 1629252789097,
    "execution_millis": 76,
    "deepnote_cell_type": "code"
   },
   "source": "position = []\nbb_signal = sq['bollinger_signal']\nfor i in range(len(bb_signal)):\n    if bb_signal[i] > 1:\n        position.append(0)\n    else:\n        position.append(1)\n        \nfor i in range(len(sq['Close'])):\n    if bb_signal[i] == 1:\n        position[i] = 1\n    elif bb_signal[i] == -1:\n        position[i] = 0\n    else:\n        position[i] = position[i-1]\n        \nupper_bb = sq['bollinger_upper_band']\nlower_bb = sq['bollinger_lower_band']\nclose_price = sq['Close']\nbb_signal = pd.DataFrame(bb_signal).rename(columns = {0:'bb_signal'}).set_index(sq.index)\nposition = pd.DataFrame(position).rename(columns = {0:'bb_position'}).set_index(sq.index)\n\nframes = [close_price, upper_bb, lower_bb, bb_signal, position]\nstrategy = pd.concat(frames, join = 'inner', axis = 1)\n# strategy = strategy.reset_index().drop('Date', axis = 1)\n\nstrategy",
   "outputs": [
    {
     "output_type": "execute_result",
     "execution_count": 13,
     "data": {
      "application/vnd.deepnote.dataframe.v2+json": {
       "row_count": 1434,
       "column_count": 5,
       "columns": [
        {
         "name": "Close",
         "dtype": "float64",
         "stats": {
          "unique_count": 1294,
          "nan_count": 0,
          "min": "8.369999885559082",
          "max": "281.80999755859375",
          "histogram": [
           {
            "bin_start": 8.369999885559082,
            "bin_end": 35.71399965286255,
            "count": 488
           },
           {
            "bin_start": 35.71399965286255,
            "bin_end": 63.05799942016601,
            "count": 279
           },
           {
            "bin_start": 63.05799942016601,
            "bin_end": 90.40199918746947,
            "count": 360
           },
           {
            "bin_start": 90.40199918746947,
            "bin_end": 117.74599895477294,
            "count": 29
           },
           {
            "bin_start": 117.74599895477294,
            "bin_end": 145.08999872207642,
            "count": 33
           },
           {
            "bin_start": 145.08999872207642,
            "bin_end": 172.43399848937986,
            "count": 40
           },
           {
            "bin_start": 172.43399848937986,
            "bin_end": 199.77799825668333,
            "count": 27
           },
           {
            "bin_start": 199.77799825668333,
            "bin_end": 227.1219980239868,
            "count": 74
           },
           {
            "bin_start": 227.1219980239868,
            "bin_end": 254.46599779129028,
            "count": 72
           },
           {
            "bin_start": 254.46599779129028,
            "bin_end": 281.80999755859375,
            "count": 32
           }
          ]
         }
        },
        {
         "name": "bollinger_upper_band",
         "dtype": "float64",
         "stats": {
          "unique_count": 1414,
          "nan_count": 19,
          "min": "9.233501687468243",
          "max": "273.22079004677784",
          "histogram": [
           {
            "bin_start": 9.233501687468243,
            "bin_end": 35.6322305233992,
            "count": 469
           },
           {
            "bin_start": 35.6322305233992,
            "bin_end": 62.03095935933016,
            "count": 180
           },
           {
            "bin_start": 62.03095935933016,
            "bin_end": 88.42968819526112,
            "count": 436
           },
           {
            "bin_start": 88.42968819526112,
            "bin_end": 114.82841703119209,
            "count": 54
           },
           {
            "bin_start": 114.82841703119209,
            "bin_end": 141.22714586712306,
            "count": 25
           },
           {
            "bin_start": 141.22714586712306,
            "bin_end": 167.625874703054,
            "count": 39
           },
           {
            "bin_start": 167.625874703054,
            "bin_end": 194.02460353898496,
            "count": 34
           },
           {
            "bin_start": 194.02460353898496,
            "bin_end": 220.42333237491593,
            "count": 21
           },
           {
            "bin_start": 220.42333237491593,
            "bin_end": 246.8220612108469,
            "count": 86
           },
           {
            "bin_start": 246.8220612108469,
            "bin_end": 273.22079004677784,
            "count": 71
           }
          ]
         }
        },
        {
         "name": "bollinger_lower_band",
         "dtype": "float64",
         "stats": {
          "unique_count": 1414,
          "nan_count": 19,
          "min": "8.428754996038315",
          "max": "243.43520818320263",
          "histogram": [
           {
            "bin_start": 8.428754996038315,
            "bin_end": 31.929400314754744,
            "count": 469
           },
           {
            "bin_start": 31.929400314754744,
            "bin_end": 55.430045633471174,
            "count": 198
           },
           {
            "bin_start": 55.430045633471174,
            "bin_end": 78.9306909521876,
            "count": 434
           },
           {
            "bin_start": 78.9306909521876,
            "bin_end": 102.43133627090404,
            "count": 45
           },
           {
            "bin_start": 102.43133627090404,
            "bin_end": 125.93198158962048,
            "count": 22
           },
           {
            "bin_start": 125.93198158962048,
            "bin_end": 149.43262690833689,
            "count": 38
           },
           {
            "bin_start": 149.43262690833689,
            "bin_end": 172.93327222705332,
            "count": 35
           },
           {
            "bin_start": 172.93327222705332,
            "bin_end": 196.43391754576976,
            "count": 10
           },
           {
            "bin_start": 196.43391754576976,
            "bin_end": 219.9345628644862,
            "count": 96
           },
           {
            "bin_start": 219.9345628644862,
            "bin_end": 243.43520818320263,
            "count": 68
           }
          ]
         }
        },
        {
         "name": "bollinger_signal",
         "dtype": "float64",
         "stats": {
          "unique_count": 3,
          "nan_count": 0,
          "min": "-1.0",
          "max": "1.0",
          "histogram": [
           {
            "bin_start": -1,
            "bin_end": -0.8,
            "count": 576
           },
           {
            "bin_start": -0.8,
            "bin_end": -0.6,
            "count": 0
           },
           {
            "bin_start": -0.6,
            "bin_end": -0.3999999999999999,
            "count": 0
           },
           {
            "bin_start": -0.3999999999999999,
            "bin_end": -0.19999999999999996,
            "count": 0
           },
           {
            "bin_start": -0.19999999999999996,
            "bin_end": 0,
            "count": 0
           },
           {
            "bin_start": 0,
            "bin_end": 0.20000000000000018,
            "count": 608
           },
           {
            "bin_start": 0.20000000000000018,
            "bin_end": 0.40000000000000013,
            "count": 0
           },
           {
            "bin_start": 0.40000000000000013,
            "bin_end": 0.6000000000000001,
            "count": 0
           },
           {
            "bin_start": 0.6000000000000001,
            "bin_end": 0.8,
            "count": 0
           },
           {
            "bin_start": 0.8,
            "bin_end": 1,
            "count": 250
           }
          ]
         }
        },
        {
         "name": "bb_position",
         "dtype": "int64",
         "stats": {
          "unique_count": 2,
          "nan_count": 0,
          "min": "0",
          "max": "1",
          "histogram": [
           {
            "bin_start": 0,
            "bin_end": 0.1,
            "count": 896
           },
           {
            "bin_start": 0.1,
            "bin_end": 0.2,
            "count": 0
           },
           {
            "bin_start": 0.2,
            "bin_end": 0.30000000000000004,
            "count": 0
           },
           {
            "bin_start": 0.30000000000000004,
            "bin_end": 0.4,
            "count": 0
           },
           {
            "bin_start": 0.4,
            "bin_end": 0.5,
            "count": 0
           },
           {
            "bin_start": 0.5,
            "bin_end": 0.6000000000000001,
            "count": 0
           },
           {
            "bin_start": 0.6000000000000001,
            "bin_end": 0.7000000000000001,
            "count": 0
           },
           {
            "bin_start": 0.7000000000000001,
            "bin_end": 0.8,
            "count": 0
           },
           {
            "bin_start": 0.8,
            "bin_end": 0.9,
            "count": 0
           },
           {
            "bin_start": 0.9,
            "bin_end": 1,
            "count": 538
           }
          ]
         }
        },
        {
         "name": "_deepnote_index_column",
         "dtype": "datetime64[ns]"
        }
       ],
       "rows_top": [
        {
         "Close": 12.039999961853027,
         "bollinger_upper_band": "nan",
         "bollinger_lower_band": "nan",
         "bollinger_signal": 0,
         "bb_position": 1,
         "_deepnote_index_column": "2015-11-30T00:00:00.000000"
        },
        {
         "Close": 11.90999984741211,
         "bollinger_upper_band": "nan",
         "bollinger_lower_band": "nan",
         "bollinger_signal": 0,
         "bb_position": 1,
         "_deepnote_index_column": "2015-12-01T00:00:00.000000"
        },
        {
         "Close": 11.930000305175781,
         "bollinger_upper_band": "nan",
         "bollinger_lower_band": "nan",
         "bollinger_signal": 0,
         "bb_position": 1,
         "_deepnote_index_column": "2015-12-02T00:00:00.000000"
        },
        {
         "Close": 11.920000076293945,
         "bollinger_upper_band": "nan",
         "bollinger_lower_band": "nan",
         "bollinger_signal": 0,
         "bb_position": 1,
         "_deepnote_index_column": "2015-12-03T00:00:00.000000"
        },
        {
         "Close": 12.039999961853027,
         "bollinger_upper_band": "nan",
         "bollinger_lower_band": "nan",
         "bollinger_signal": 0,
         "bb_position": 1,
         "_deepnote_index_column": "2015-12-04T00:00:00.000000"
        },
        {
         "Close": 12.359999656677246,
         "bollinger_upper_band": "nan",
         "bollinger_lower_band": "nan",
         "bollinger_signal": 0,
         "bb_position": 1,
         "_deepnote_index_column": "2015-12-07T00:00:00.000000"
        },
        {
         "Close": 12.119999885559082,
         "bollinger_upper_band": "nan",
         "bollinger_lower_band": "nan",
         "bollinger_signal": 0,
         "bb_position": 1,
         "_deepnote_index_column": "2015-12-08T00:00:00.000000"
        },
        {
         "Close": 11.989999771118164,
         "bollinger_upper_band": "nan",
         "bollinger_lower_band": "nan",
         "bollinger_signal": 0,
         "bb_position": 1,
         "_deepnote_index_column": "2015-12-09T00:00:00.000000"
        },
        {
         "Close": 12.050000190734863,
         "bollinger_upper_band": "nan",
         "bollinger_lower_band": "nan",
         "bollinger_signal": 0,
         "bb_position": 1,
         "_deepnote_index_column": "2015-12-10T00:00:00.000000"
        },
        {
         "Close": 11.949999809265137,
         "bollinger_upper_band": "nan",
         "bollinger_lower_band": "nan",
         "bollinger_signal": 0,
         "bb_position": 1,
         "_deepnote_index_column": "2015-12-11T00:00:00.000000"
        },
        {
         "Close": 12.329999923706055,
         "bollinger_upper_band": "nan",
         "bollinger_lower_band": "nan",
         "bollinger_signal": 0,
         "bb_position": 1,
         "_deepnote_index_column": "2015-12-14T00:00:00.000000"
        },
        {
         "Close": 12.470000267028809,
         "bollinger_upper_band": "nan",
         "bollinger_lower_band": "nan",
         "bollinger_signal": 0,
         "bb_position": 1,
         "_deepnote_index_column": "2015-12-15T00:00:00.000000"
        },
        {
         "Close": 12.270000457763672,
         "bollinger_upper_band": "nan",
         "bollinger_lower_band": "nan",
         "bollinger_signal": 0,
         "bb_position": 1,
         "_deepnote_index_column": "2015-12-16T00:00:00.000000"
        },
        {
         "Close": 12.319999694824219,
         "bollinger_upper_band": "nan",
         "bollinger_lower_band": "nan",
         "bollinger_signal": 0,
         "bb_position": 1,
         "_deepnote_index_column": "2015-12-17T00:00:00.000000"
        },
        {
         "Close": 12.34000015258789,
         "bollinger_upper_band": "nan",
         "bollinger_lower_band": "nan",
         "bollinger_signal": 0,
         "bb_position": 1,
         "_deepnote_index_column": "2015-12-18T00:00:00.000000"
        },
        {
         "Close": 12.239999771118164,
         "bollinger_upper_band": "nan",
         "bollinger_lower_band": "nan",
         "bollinger_signal": 0,
         "bb_position": 1,
         "_deepnote_index_column": "2015-12-21T00:00:00.000000"
        },
        {
         "Close": 12.460000038146973,
         "bollinger_upper_band": "nan",
         "bollinger_lower_band": "nan",
         "bollinger_signal": 0,
         "bb_position": 1,
         "_deepnote_index_column": "2015-12-22T00:00:00.000000"
        },
        {
         "Close": 12.5,
         "bollinger_upper_band": "nan",
         "bollinger_lower_band": "nan",
         "bollinger_signal": 0,
         "bb_position": 1,
         "_deepnote_index_column": "2015-12-23T00:00:00.000000"
        },
        {
         "Close": 12.600000381469727,
         "bollinger_upper_band": "nan",
         "bollinger_lower_band": "nan",
         "bollinger_signal": 0,
         "bb_position": 1,
         "_deepnote_index_column": "2015-12-24T00:00:00.000000"
        },
        {
         "Close": 12.829999923706055,
         "bollinger_upper_band": 12.492044035645291,
         "bollinger_lower_band": 11.974955971984103,
         "bollinger_signal": -1,
         "bb_position": 0,
         "_deepnote_index_column": "2015-12-28T00:00:00.000000"
        },
        {
         "Close": 12.739999771118164,
         "bollinger_upper_band": 12.546145648124716,
         "bollinger_lower_band": 11.990854340431193,
         "bollinger_signal": -1,
         "bb_position": 0,
         "_deepnote_index_column": "2015-12-29T00:00:00.000000"
        },
        {
         "Close": 12.779999732971191,
         "bollinger_upper_band": 12.598532774430192,
         "bollinger_lower_band": 12.025467202681623,
         "bollinger_signal": -1,
         "bb_position": 0,
         "_deepnote_index_column": "2015-12-30T00:00:00.000000"
        },
        {
         "Close": 13.09000015258789,
         "bollinger_upper_band": 12.690525883079452,
         "bollinger_lower_band": 12.049474078773574,
         "bollinger_signal": -1,
         "bb_position": 0,
         "_deepnote_index_column": "2015-12-31T00:00:00.000000"
        },
        {
         "Close": 12.15999984741211,
         "bollinger_upper_band": 12.688999058497705,
         "bollinger_lower_band": 12.075000880467138,
         "bollinger_signal": 0,
         "bb_position": 0,
         "_deepnote_index_column": "2016-01-04T00:00:00.000000"
        },
        {
         "Close": 11.510000228881836,
         "bollinger_upper_band": 12.712394109034188,
         "bollinger_lower_band": 11.998605856633537,
         "bollinger_signal": 1,
         "bb_position": 1,
         "_deepnote_index_column": "2016-01-05T00:00:00.000000"
        },
        {
         "Close": 11.520000457763672,
         "bollinger_upper_band": 12.716309511985411,
         "bollinger_lower_band": 11.910690533790955,
         "bollinger_signal": 1,
         "bb_position": 1,
         "_deepnote_index_column": "2016-01-06T00:00:00.000000"
        },
        {
         "Close": 11.15999984741211,
         "bollinger_upper_band": 12.742877426221034,
         "bollinger_lower_band": 11.788122615740635,
         "bollinger_signal": 1,
         "bb_position": 1,
         "_deepnote_index_column": "2016-01-07T00:00:00.000000"
        },
        {
         "Close": 11.3100004196167,
         "bollinger_upper_band": 12.75181643986156,
         "bollinger_lower_band": 11.711183666949964,
         "bollinger_signal": 1,
         "bb_position": 1,
         "_deepnote_index_column": "2016-01-08T00:00:00.000000"
        },
        {
         "Close": 11.84000015258789,
         "bollinger_upper_band": 12.747256876415463,
         "bollinger_lower_band": 11.694743226581362,
         "bollinger_signal": 0,
         "bb_position": 1,
         "_deepnote_index_column": "2016-01-11T00:00:00.000000"
        },
        {
         "Close": 12.09000015258789,
         "bollinger_upper_band": 12.75138573240046,
         "bollinger_lower_band": 11.704614404928643,
         "bollinger_signal": 0,
         "bb_position": 1,
         "_deepnote_index_column": "2016-01-12T00:00:00.000000"
        },
        {
         "Close": 11.609999656677246,
         "bollinger_upper_band": 12.732483222519871,
         "bollinger_lower_band": 11.65151688810635,
         "bollinger_signal": 1,
         "bb_position": 1,
         "_deepnote_index_column": "2016-01-13T00:00:00.000000"
        },
        {
         "Close": 10.819999694824219,
         "bollinger_upper_band": 12.725911321541894,
         "bollinger_lower_band": 11.493088731863867,
         "bollinger_signal": 1,
         "bb_position": 1,
         "_deepnote_index_column": "2016-01-14T00:00:00.000000"
        },
        {
         "Close": 10.270000457763672,
         "bollinger_upper_band": 12.748535425023732,
         "bollinger_lower_band": 11.27046462838203,
         "bollinger_signal": 1,
         "bb_position": 1,
         "_deepnote_index_column": "2016-01-15T00:00:00.000000"
        },
        {
         "Close": 9.470000267028809,
         "bollinger_upper_band": 12.793902571847939,
         "bollinger_lower_band": 10.94009753877828,
         "bollinger_signal": 1,
         "bb_position": 1,
         "_deepnote_index_column": "2016-01-19T00:00:00.000000"
        },
        {
         "Close": 9.489999771118164,
         "bollinger_upper_band": 12.784393113725208,
         "bollinger_lower_band": 10.664606958754039,
         "bollinger_signal": 1,
         "bb_position": 1,
         "_deepnote_index_column": "2016-01-20T00:00:00.000000"
        },
        {
         "Close": 10.020000457763672,
         "bollinger_upper_band": 12.731233970905294,
         "bollinger_lower_band": 10.495766170238504,
         "bollinger_signal": 1,
         "bb_position": 1,
         "_deepnote_index_column": "2016-01-21T00:00:00.000000"
        },
        {
         "Close": 9.850000381469727,
         "bollinger_upper_band": 12.648062010987335,
         "bollinger_lower_band": 10.31793816448874,
         "bollinger_signal": 1,
         "bb_position": 1,
         "_deepnote_index_column": "2016-01-22T00:00:00.000000"
        },
        {
         "Close": 9.8100004196167,
         "bollinger_upper_band": 12.544828935984135,
         "bollinger_lower_band": 10.152171281453608,
         "bollinger_signal": 1,
         "bb_position": 1,
         "_deepnote_index_column": "2016-01-25T00:00:00.000000"
        },
        {
         "Close": 9.539999961853027,
         "bollinger_upper_band": 12.418720391433581,
         "bollinger_lower_band": 9.972279784042492,
         "bollinger_signal": 1,
         "bb_position": 1,
         "_deepnote_index_column": "2016-01-26T00:00:00.000000"
        },
        {
         "Close": 9.050000190734863,
         "bollinger_upper_band": 12.255631388936427,
         "bollinger_lower_band": 9.757368813242527,
         "bollinger_signal": 1,
         "bb_position": 1,
         "_deepnote_index_column": "2016-01-27T00:00:00.000000"
        },
        {
         "Close": 8.739999771118164,
         "bollinger_upper_band": 12.083384738153988,
         "bollinger_lower_band": 9.529615464024968,
         "bollinger_signal": 1,
         "bb_position": 1,
         "_deepnote_index_column": "2016-01-28T00:00:00.000000"
        },
        {
         "Close": 8.770000457763672,
         "bollinger_upper_band": 11.871470269271471,
         "bollinger_lower_band": 9.34053000538673,
         "bollinger_signal": 1,
         "bb_position": 1,
         "_deepnote_index_column": "2016-01-29T00:00:00.000000"
        },
        {
         "Close": 8.760000228881836,
         "bollinger_upper_band": 11.575534956048255,
         "bollinger_lower_band": 9.203465326239343,
         "bollinger_signal": 1,
         "bb_position": 1,
         "_deepnote_index_column": "2016-02-01T00:00:00.000000"
        },
        {
         "Close": 8.470000267028809,
         "bollinger_upper_band": 11.388124900238727,
         "bollinger_lower_band": 9.02187542401054,
         "bollinger_signal": 1,
         "bb_position": 1,
         "_deepnote_index_column": "2016-02-02T00:00:00.000000"
        },
        {
         "Close": 8.430000305175781,
         "bollinger_upper_band": 11.25557867082554,
         "bollinger_lower_band": 8.846421661053123,
         "bollinger_signal": 1,
         "bb_position": 1,
         "_deepnote_index_column": "2016-02-03T00:00:00.000000"
        },
        {
         "Close": 8.899999618530273,
         "bollinger_upper_band": 11.098598718587754,
         "bollinger_lower_band": 8.74140152936757,
         "bollinger_signal": 0,
         "bb_position": 1,
         "_deepnote_index_column": "2016-02-04T00:00:00.000000"
        },
        {
         "Close": 8.630000114440918,
         "bollinger_upper_band": 10.96776931823239,
         "bollinger_lower_band": 8.619230956425811,
         "bollinger_signal": 0,
         "bb_position": 1,
         "_deepnote_index_column": "2016-02-05T00:00:00.000000"
        },
        {
         "Close": 8.369999885559082,
         "bollinger_upper_band": 10.804848612379434,
         "bollinger_lower_band": 8.488151608873007,
         "bollinger_signal": 1,
         "bb_position": 1,
         "_deepnote_index_column": "2016-02-08T00:00:00.000000"
        },
        {
         "Close": 8.619999885559082,
         "bollinger_upper_band": 10.542245198511246,
         "bollinger_lower_band": 8.428754996038315,
         "bollinger_signal": 0,
         "bb_position": 1,
         "_deepnote_index_column": "2016-02-09T00:00:00.000000"
        },
        {
         "Close": 8.880000114440918,
         "bollinger_upper_band": 10.19210352055896,
         "bollinger_lower_band": 8.457896670175904,
         "bollinger_signal": 0,
         "bb_position": 1,
         "_deepnote_index_column": "2016-02-10T00:00:00.000000"
        },
        {
         "Close": 8.619999885559082,
         "bollinger_upper_band": 9.86810373837632,
         "bollinger_lower_band": 8.482896475246726,
         "bollinger_signal": 0,
         "bb_position": 1,
         "_deepnote_index_column": "2016-02-11T00:00:00.000000"
        },
        {
         "Close": 9.300000190734863,
         "bollinger_upper_band": 9.675781197443015,
         "bollinger_lower_band": 8.523219065771094,
         "bollinger_signal": 0,
         "bb_position": 1,
         "_deepnote_index_column": "2016-02-12T00:00:00.000000"
        },
        {
         "Close": 9.930000305175781,
         "bollinger_upper_band": 9.626548157342583,
         "bollinger_lower_band": 8.53845209061274,
         "bollinger_signal": -1,
         "bb_position": 0,
         "_deepnote_index_column": "2016-02-16T00:00:00.000000"
        },
        {
         "Close": 9.84000015258789,
         "bollinger_upper_band": 9.664848825393054,
         "bollinger_lower_band": 8.537151411118177,
         "bollinger_signal": -1,
         "bb_position": 0,
         "_deepnote_index_column": "2016-02-17T00:00:00.000000"
        },
        {
         "Close": 9.979999542236328,
         "bollinger_upper_band": 9.717103467666231,
         "bollinger_lower_band": 8.533896745956817,
         "bollinger_signal": -1,
         "bb_position": 0,
         "_deepnote_index_column": "2016-02-18T00:00:00.000000"
        },
        {
         "Close": 9.970000267028809,
         "bollinger_upper_band": 9.71071739579942,
         "bollinger_lower_band": 8.535282798750139,
         "bollinger_signal": -1,
         "bb_position": 0,
         "_deepnote_index_column": "2016-02-19T00:00:00.000000"
        },
        {
         "Close": 10.380000114440918,
         "bollinger_upper_band": 9.781967910473709,
         "bollinger_lower_band": 8.51703225737297,
         "bollinger_signal": -1,
         "bb_position": 0,
         "_deepnote_index_column": "2016-02-22T00:00:00.000000"
        },
        {
         "Close": 9.710000038146973,
         "bollinger_upper_band": 9.771845977246908,
         "bollinger_lower_band": 8.5171541524528,
         "bollinger_signal": 0,
         "bb_position": 0,
         "_deepnote_index_column": "2016-02-23T00:00:00.000000"
        },
        {
         "Close": 9.890000343322754,
         "bollinger_upper_band": 9.805629613910027,
         "bollinger_lower_band": 8.518370553936654,
         "bollinger_signal": -1,
         "bb_position": 0,
         "_deepnote_index_column": "2016-02-24T00:00:00.000000"
        },
        {
         "Close": 10.260000228881836,
         "bollinger_upper_band": 9.910394501045301,
         "bollinger_lower_band": 8.534605670616076,
         "bollinger_signal": -1,
         "bb_position": 0,
         "_deepnote_index_column": "2016-02-25T00:00:00.000000"
        },
        {
         "Close": 10.319999694824219,
         "bollinger_upper_band": 10.021063350631913,
         "bollinger_lower_band": 8.58193681340007,
         "bollinger_signal": -1,
         "bb_position": 0,
         "_deepnote_index_column": "2016-02-26T00:00:00.000000"
        },
        {
         "Close": 10.4399995803833,
         "bollinger_upper_band": 10.135855657354265,
         "bollinger_lower_band": 8.634144418939682,
         "bollinger_signal": -1,
         "bb_position": 0,
         "_deepnote_index_column": "2016-02-29T00:00:00.000000"
        },
        {
         "Close": 10.720000267028809,
         "bollinger_upper_band": 10.27478084102948,
         "bollinger_lower_band": 8.691219239079162,
         "bollinger_signal": -1,
         "bb_position": 0,
         "_deepnote_index_column": "2016-03-01T00:00:00.000000"
        },
        {
         "Close": 11.970000267028809,
         "bollinger_upper_band": 10.588702137451365,
         "bollinger_lower_band": 8.727297942657279,
         "bollinger_signal": -1,
         "bb_position": 0,
         "_deepnote_index_column": "2016-03-02T00:00:00.000000"
        },
        {
         "Close": 12.25,
         "bollinger_upper_band": 10.898781507018823,
         "bollinger_lower_band": 8.799218542572243,
         "bollinger_signal": -1,
         "bb_position": 0,
         "_deepnote_index_column": "2016-03-03T00:00:00.000000"
        },
        {
         "Close": 12.010000228881836,
         "bollinger_upper_band": 11.133647310851549,
         "bollinger_lower_band": 8.875352799774673,
         "bollinger_signal": -1,
         "bb_position": 0,
         "_deepnote_index_column": "2016-03-04T00:00:00.000000"
        },
        {
         "Close": 12.260000228881836,
         "bollinger_upper_band": 11.372850889090968,
         "bollinger_lower_band": 8.999149232979343,
         "bollinger_signal": -1,
         "bb_position": 0,
         "_deepnote_index_column": "2016-03-07T00:00:00.000000"
        },
        {
         "Close": 11.479999542236328,
         "bollinger_upper_band": 11.480674629626336,
         "bollinger_lower_band": 9.202325458111702,
         "bollinger_signal": 0,
         "bb_position": 0,
         "_deepnote_index_column": "2016-03-08T00:00:00.000000"
        },
        {
         "Close": 12.029999732971191,
         "bollinger_upper_band": 11.635029760196938,
         "bollinger_lower_band": 9.388970312282309,
         "bollinger_signal": -1,
         "bb_position": 0,
         "_deepnote_index_column": "2016-03-09T00:00:00.000000"
        },
        {
         "Close": 11.300000190734863,
         "bollinger_upper_band": 11.699904562424173,
         "bollinger_lower_band": 9.56609551768447,
         "bollinger_signal": 0,
         "bb_position": 0,
         "_deepnote_index_column": "2016-03-10T00:00:00.000000"
        },
        {
         "Close": 11.100000381469727,
         "bollinger_upper_band": 11.716326020955712,
         "bollinger_lower_band": 9.797674108743994,
         "bollinger_signal": 0,
         "bb_position": 0,
         "_deepnote_index_column": "2016-03-11T00:00:00.000000"
        },
        {
         "Close": 11.609999656677246,
         "bollinger_upper_band": 11.785095362799169,
         "bollinger_lower_band": 9.959904713494776,
         "bollinger_signal": 0,
         "bb_position": 0,
         "_deepnote_index_column": "2016-03-14T00:00:00.000000"
        },
        {
         "Close": 11.949999809265137,
         "bollinger_upper_band": 11.888073667697286,
         "bollinger_lower_band": 10.058926359005595,
         "bollinger_signal": -1,
         "bb_position": 0,
         "_deepnote_index_column": "2016-03-15T00:00:00.000000"
        },
        {
         "Close": 11.869999885559082,
         "bollinger_upper_band": 11.969583100666712,
         "bollinger_lower_band": 10.180416899333286,
         "bollinger_signal": 0,
         "bb_position": 0,
         "_deepnote_index_column": "2016-03-16T00:00:00.000000"
        },
        {
         "Close": 11.949999809265137,
         "bollinger_upper_band": 12.049431192067091,
         "bollinger_lower_band": 10.297568834635788,
         "bollinger_signal": 0,
         "bb_position": 0,
         "_deepnote_index_column": "2016-03-17T00:00:00.000000"
        },
        {
         "Close": 12.039999961853027,
         "bollinger_upper_band": 12.12509441784864,
         "bollinger_lower_band": 10.428905578336664,
         "bollinger_signal": 0,
         "bb_position": 0,
         "_deepnote_index_column": "2016-03-18T00:00:00.000000"
        },
        {
         "Close": 13.399999618530273,
         "bollinger_upper_band": 12.371468308706302,
         "bollinger_lower_band": 10.484531637887937,
         "bollinger_signal": -1,
         "bb_position": 0,
         "_deepnote_index_column": "2016-03-21T00:00:00.000000"
        },
        {
         "Close": 13.0600004196167,
         "bollinger_upper_band": 12.514976217709185,
         "bollinger_lower_band": 10.676023767032026,
         "bollinger_signal": -1,
         "bb_position": 0,
         "_deepnote_index_column": "2016-03-22T00:00:00.000000"
        },
        {
         "Close": 12.59000015258789,
         "bollinger_upper_band": 12.582095872219847,
         "bollinger_lower_band": 10.878904093447877,
         "bollinger_signal": -1,
         "bb_position": 0,
         "_deepnote_index_column": "2016-03-23T00:00:00.000000"
        },
        {
         "Close": 12.880000114440918,
         "bollinger_upper_band": 12.675678823161407,
         "bollinger_lower_band": 11.047321131062224,
         "bollinger_signal": -1,
         "bb_position": 0,
         "_deepnote_index_column": "2016-03-24T00:00:00.000000"
        },
        {
         "Close": 13.399999618530273,
         "bollinger_upper_band": 12.8138962185284,
         "bollinger_lower_band": 11.217103728065839,
         "bollinger_signal": -1,
         "bb_position": 0,
         "_deepnote_index_column": "2016-03-28T00:00:00.000000"
        },
        {
         "Close": 13.739999771118164,
         "bollinger_upper_band": 12.977153930201075,
         "bollinger_lower_band": 11.383846035466648,
         "bollinger_signal": -1,
         "bb_position": 0,
         "_deepnote_index_column": "2016-03-29T00:00:00.000000"
        },
        {
         "Close": 15.020000457763672,
         "bollinger_upper_band": 13.343175713348916,
         "bollinger_lower_band": 11.447824271392296,
         "bollinger_signal": -1,
         "bb_position": 0,
         "_deepnote_index_column": "2016-03-30T00:00:00.000000"
        },
        {
         "Close": 15.279999732971191,
         "bollinger_upper_band": 13.700140456160803,
         "bollinger_lower_band": 11.421859475174646,
         "bollinger_signal": -1,
         "bb_position": 0,
         "_deepnote_index_column": "2016-03-31T00:00:00.000000"
        },
        {
         "Close": 14.220000267028809,
         "bollinger_upper_band": 13.854152451128051,
         "bollinger_lower_band": 11.464847506910278,
         "bollinger_signal": -1,
         "bb_position": 0,
         "_deepnote_index_column": "2016-04-01T00:00:00.000000"
        },
        {
         "Close": 14.279999732971191,
         "bollinger_upper_band": 14.009787403368932,
         "bollinger_lower_band": 11.536212505078332,
         "bollinger_signal": -1,
         "bb_position": 0,
         "_deepnote_index_column": "2016-04-04T00:00:00.000000"
        },
        {
         "Close": 14.260000228881836,
         "bollinger_upper_band": 14.146437527167874,
         "bollinger_lower_band": 11.599562381279393,
         "bollinger_signal": -1,
         "bb_position": 0,
         "_deepnote_index_column": "2016-04-05T00:00:00.000000"
        },
        {
         "Close": 14.970000267028809,
         "bollinger_upper_band": 14.358569796760307,
         "bollinger_lower_band": 11.736430184166206,
         "bollinger_signal": -1,
         "bb_position": 0,
         "_deepnote_index_column": "2016-04-06T00:00:00.000000"
        },
        {
         "Close": 14.8100004196167,
         "bollinger_upper_band": 14.53095956208129,
         "bollinger_lower_band": 11.842040487509774,
         "bollinger_signal": -1,
         "bb_position": 0,
         "_deepnote_index_column": "2016-04-07T00:00:00.000000"
        },
        {
         "Close": 15.130000114440918,
         "bollinger_upper_band": 14.71233848321863,
         "bollinger_lower_band": 12.04366155874304,
         "bollinger_signal": -1,
         "bb_position": 0,
         "_deepnote_index_column": "2016-04-08T00:00:00.000000"
        },
        {
         "Close": 15.359999656677246,
         "bollinger_upper_band": 14.881866360707061,
         "bollinger_lower_band": 12.300133608775361,
         "bollinger_signal": -1,
         "bb_position": 0,
         "_deepnote_index_column": "2016-04-11T00:00:00.000000"
        },
        {
         "Close": 15.479999542236328,
         "bollinger_upper_band": 15.05264192865507,
         "bollinger_lower_band": 12.516358029383259,
         "bollinger_signal": -1,
         "bb_position": 0,
         "_deepnote_index_column": "2016-04-12T00:00:00.000000"
        },
        {
         "Close": 15.010000228881836,
         "bollinger_upper_band": 15.15629526248548,
         "bollinger_lower_band": 12.71870473751452,
         "bollinger_signal": 0,
         "bb_position": 0,
         "_deepnote_index_column": "2016-04-13T00:00:00.000000"
        },
        {
         "Close": 14.819999694824219,
         "bollinger_upper_band": 15.21574031594411,
         "bollinger_lower_band": 12.954259664982402,
         "bollinger_signal": 0,
         "bb_position": 0,
         "_deepnote_index_column": "2016-04-14T00:00:00.000000"
        },
        {
         "Close": 14.329999923706055,
         "bollinger_upper_band": 15.217370587618156,
         "bollinger_lower_band": 13.19062940475245,
         "bollinger_signal": 0,
         "bb_position": 0,
         "_deepnote_index_column": "2016-04-15T00:00:00.000000"
        },
        {
         "Close": 14.510000228881836,
         "bollinger_upper_band": 15.204611719516919,
         "bollinger_lower_band": 13.450388299556568,
         "bollinger_signal": 0,
         "bb_position": 0,
         "_deepnote_index_column": "2016-04-18T00:00:00.000000"
        },
        {
         "Close": 14.09000015258789,
         "bollinger_upper_band": 15.21391794227302,
         "bollinger_lower_band": 13.510082130206229,
         "bollinger_signal": 0,
         "bb_position": 0,
         "_deepnote_index_column": "2016-04-19T00:00:00.000000"
        },
        {
         "Close": 13.630000114440918,
         "bollinger_upper_band": 15.205293961835249,
         "bollinger_lower_band": 13.57570608012642,
         "bollinger_signal": 0,
         "bb_position": 0,
         "_deepnote_index_column": "2016-04-20T00:00:00.000000"
        },
        {
         "Close": 13.239999771118164,
         "bollinger_upper_band": 15.172547943868118,
         "bollinger_lower_band": 13.67345205994658,
         "bollinger_signal": 1,
         "bb_position": 1,
         "_deepnote_index_column": "2016-04-21T00:00:00.000000"
        },
        {
         "Close": 13.34000015258789,
         "bollinger_upper_band": 15.151470367540192,
         "bollinger_lower_band": 13.740529640089203,
         "bollinger_signal": 1,
         "bb_position": 1,
         "_deepnote_index_column": "2016-04-22T00:00:00.000000"
        }
       ],
       "rows_bottom": [
        {
         "Close": 224.83999633789062,
         "bollinger_upper_band": 251.0877538660808,
         "bollinger_lower_band": 219.82224369251298,
         "bollinger_signal": 0,
         "bb_position": 1,
         "_deepnote_index_column": "2021-03-19T00:00:00.000000"
        },
        {
         "Close": 226.1300048828125,
         "bollinger_upper_band": 247.0800382718377,
         "bollinger_lower_band": 219.63496111781072,
         "bollinger_signal": 0,
         "bb_position": 1,
         "_deepnote_index_column": "2021-03-22T00:00:00.000000"
        },
        {
         "Close": 223.1999969482422,
         "bollinger_upper_band": 244.4314905173822,
         "bollinger_lower_band": 218.9445089333014,
         "bollinger_signal": 0,
         "bb_position": 1,
         "_deepnote_index_column": "2021-03-23T00:00:00.000000"
        },
        {
         "Close": 213.50999450683594,
         "bollinger_upper_band": 243.7876005105273,
         "bollinger_lower_band": 217.207397658418,
         "bollinger_signal": 1,
         "bb_position": 1,
         "_deepnote_index_column": "2021-03-24T00:00:00.000000"
        },
        {
         "Close": 208.47000122070312,
         "bollinger_upper_band": 243.73045245570052,
         "bollinger_lower_band": 215.40054577427998,
         "bollinger_signal": 1,
         "bb_position": 1,
         "_deepnote_index_column": "2021-03-25T00:00:00.000000"
        },
        {
         "Close": 213.60000610351562,
         "bollinger_upper_band": 243.3501555985095,
         "bollinger_lower_band": 214.13784336389284,
         "bollinger_signal": 1,
         "bb_position": 1,
         "_deepnote_index_column": "2021-03-26T00:00:00.000000"
        },
        {
         "Close": 207.17999267578125,
         "bollinger_upper_band": 242.11613524256197,
         "bollinger_lower_band": 211.9898629874185,
         "bollinger_signal": 1,
         "bb_position": 1,
         "_deepnote_index_column": "2021-03-29T00:00:00.000000"
        },
        {
         "Close": 212.8300018310547,
         "bollinger_upper_band": 239.2331196301461,
         "bollinger_lower_band": 210.93587908811563,
         "bollinger_signal": 0,
         "bb_position": 1,
         "_deepnote_index_column": "2021-03-30T00:00:00.000000"
        },
        {
         "Close": 227.0500030517578,
         "bollinger_upper_band": 238.72267652262508,
         "bollinger_lower_band": 210.7313228059882,
         "bollinger_signal": 0,
         "bb_position": 1,
         "_deepnote_index_column": "2021-03-31T00:00:00.000000"
        },
        {
         "Close": 229.50999450683594,
         "bollinger_upper_band": 239.23400822064323,
         "bollinger_lower_band": 211.3299901924427,
         "bollinger_signal": 0,
         "bb_position": 1,
         "_deepnote_index_column": "2021-04-01T00:00:00.000000"
        },
        {
         "Close": 229.9499969482422,
         "bollinger_upper_band": 239.78538047912238,
         "bollinger_lower_band": 212.12961738464716,
         "bollinger_signal": 0,
         "bb_position": 1,
         "_deepnote_index_column": "2021-04-05T00:00:00.000000"
        },
        {
         "Close": 236.5,
         "bollinger_upper_band": 240.4705040714494,
         "bollinger_lower_band": 214.90749428060138,
         "bollinger_signal": 0,
         "bb_position": 1,
         "_deepnote_index_column": "2021-04-06T00:00:00.000000"
        },
        {
         "Close": 245.1199951171875,
         "bollinger_upper_band": 242.03018119444275,
         "bollinger_lower_band": 215.35081703553774,
         "bollinger_signal": -1,
         "bb_position": 0,
         "_deepnote_index_column": "2021-04-07T00:00:00.000000"
        },
        {
         "Close": 258.3699951171875,
         "bollinger_upper_band": 245.15443740082011,
         "bollinger_lower_band": 215.3905607681252,
         "bollinger_signal": -1,
         "bb_position": 0,
         "_deepnote_index_column": "2021-04-08T00:00:00.000000"
        },
        {
         "Close": 261.6499938964844,
         "bollinger_upper_band": 247.55850344094455,
         "bollinger_lower_band": 214.97949399557888,
         "bollinger_signal": -1,
         "bb_position": 0,
         "_deepnote_index_column": "2021-04-09T00:00:00.000000"
        },
        {
         "Close": 265.20001220703125,
         "bollinger_upper_band": 250.26599770804205,
         "bollinger_lower_band": 214.58100088814933,
         "bollinger_signal": -1,
         "bb_position": 0,
         "_deepnote_index_column": "2021-04-12T00:00:00.000000"
        },
        {
         "Close": 273.2300109863281,
         "bollinger_upper_band": 253.17309801502,
         "bollinger_lower_band": 213.8739021070503,
         "bollinger_signal": -1,
         "bb_position": 0,
         "_deepnote_index_column": "2021-04-13T00:00:00.000000"
        },
        {
         "Close": 258.3999938964844,
         "bollinger_upper_band": 254.59764272762249,
         "bollinger_lower_band": 213.95335672306112,
         "bollinger_signal": -1,
         "bb_position": 0,
         "_deepnote_index_column": "2021-04-14T00:00:00.000000"
        },
        {
         "Close": 263.0799865722656,
         "bollinger_upper_band": 256.2744940081953,
         "bollinger_lower_band": 213.93750397764452,
         "bollinger_signal": -1,
         "bb_position": 0,
         "_deepnote_index_column": "2021-04-15T00:00:00.000000"
        },
        {
         "Close": 256.1000061035156,
         "bollinger_upper_band": 258.2017085705318,
         "bollinger_lower_band": 215.19028972048378,
         "bollinger_signal": 0,
         "bb_position": 0,
         "_deepnote_index_column": "2021-04-16T00:00:00.000000"
        },
        {
         "Close": 245.3300018310547,
         "bollinger_upper_band": 259.1194718538602,
         "bollinger_lower_band": 216.3215269864718,
         "bollinger_signal": 0,
         "bb_position": 0,
         "_deepnote_index_column": "2021-04-19T00:00:00.000000"
        },
        {
         "Close": 245.5,
         "bollinger_upper_band": 259.9738166378137,
         "bollinger_lower_band": 217.4041817142371,
         "bollinger_signal": 0,
         "bb_position": 0,
         "_deepnote_index_column": "2021-04-20T00:00:00.000000"
        },
        {
         "Close": 245.25,
         "bollinger_upper_band": 260.80108741962056,
         "bollinger_lower_band": 218.781911237606,
         "bollinger_signal": 0,
         "bb_position": 0,
         "_deepnote_index_column": "2021-04-21T00:00:00.000000"
        },
        {
         "Close": 245.11000061035156,
         "bollinger_upper_band": 261.4690171346119,
         "bollinger_lower_band": 221.27398213296624,
         "bollinger_signal": 0,
         "bb_position": 0,
         "_deepnote_index_column": "2021-04-22T00:00:00.000000"
        },
        {
         "Close": 246.42999267578125,
         "bollinger_upper_band": 261.82996325854543,
         "bollinger_lower_band": 224.70903515454054,
         "bollinger_signal": 0,
         "bb_position": 0,
         "_deepnote_index_column": "2021-04-23T00:00:00.000000"
        },
        {
         "Close": 255.77000427246094,
         "bollinger_upper_band": 262.7476551418269,
         "bollinger_lower_band": 228.00834308815362,
         "bollinger_signal": 0,
         "bb_position": 0,
         "_deepnote_index_column": "2021-04-26T00:00:00.000000"
        },
        {
         "Close": 253.7899932861328,
         "bollinger_upper_band": 262.63894032325715,
         "bollinger_lower_band": 232.77805796775843,
         "bollinger_signal": 0,
         "bb_position": 0,
         "_deepnote_index_column": "2021-04-27T00:00:00.000000"
        },
        {
         "Close": 254.1999969482422,
         "bollinger_upper_band": 262.29120040351586,
         "bollinger_lower_band": 237.26279739921853,
         "bollinger_signal": 0,
         "bb_position": 0,
         "_deepnote_index_column": "2021-04-28T00:00:00.000000"
        },
        {
         "Close": 247.75999450683594,
         "bollinger_upper_band": 262.14852935048384,
         "bollinger_lower_band": 239.47646759775836,
         "bollinger_signal": 0,
         "bb_position": 0,
         "_deepnote_index_column": "2021-04-29T00:00:00.000000"
        },
        {
         "Close": 244.82000732421875,
         "bollinger_upper_band": 261.86851537959336,
         "bollinger_lower_band": 241.2874828503871,
         "bollinger_signal": 0,
         "bb_position": 0,
         "_deepnote_index_column": "2021-04-30T00:00:00.000000"
        },
        {
         "Close": 243.67999267578125,
         "bollinger_upper_band": 261.4330439954552,
         "bollinger_lower_band": 243.09595380727916,
         "bollinger_signal": 0,
         "bb_position": 0,
         "_deepnote_index_column": "2021-05-03T00:00:00.000000"
        },
        {
         "Close": 231.19000244140625,
         "bollinger_upper_band": 261.7089703915732,
         "bollinger_lower_band": 242.28902765530185,
         "bollinger_signal": 1,
         "bb_position": 1,
         "_deepnote_index_column": "2021-05-04T00:00:00.000000"
        },
        {
         "Close": 231.8699951171875,
         "bollinger_upper_band": 261.9504553619122,
         "bollinger_lower_band": 240.7225426849628,
         "bollinger_signal": 1,
         "bb_position": 1,
         "_deepnote_index_column": "2021-05-05T00:00:00.000000"
        },
        {
         "Close": 223.9600067138672,
         "bollinger_upper_band": 261.71485821130216,
         "bollinger_lower_band": 237.5171409952408,
         "bollinger_signal": 1,
         "bb_position": 1,
         "_deepnote_index_column": "2021-05-06T00:00:00.000000"
        },
        {
         "Close": 233.35000610351562,
         "bollinger_upper_band": 260.472032154864,
         "bollinger_lower_band": 235.92996827238207,
         "bollinger_signal": 1,
         "bb_position": 1,
         "_deepnote_index_column": "2021-05-07T00:00:00.000000"
        },
        {
         "Close": 216.42999267578125,
         "bollinger_upper_band": 259.261994440332,
         "bollinger_lower_band": 232.26300403378912,
         "bollinger_signal": 1,
         "bb_position": 1,
         "_deepnote_index_column": "2021-05-10T00:00:00.000000"
        },
        {
         "Close": 220.64999389648438,
         "bollinger_upper_band": 256.1120877492821,
         "bollinger_lower_band": 230.15490901585457,
         "bollinger_signal": 1,
         "bb_position": 1,
         "_deepnote_index_column": "2021-05-11T00:00:00.000000"
        },
        {
         "Close": 206.6699981689453,
         "bollinger_upper_band": 255.34947562343547,
         "bollinger_lower_band": 225.74452156894733,
         "bollinger_signal": 1,
         "bb_position": 1,
         "_deepnote_index_column": "2021-05-12T00:00:00.000000"
        },
        {
         "Close": 197.1300048828125,
         "bollinger_upper_band": 253.98739063907817,
         "bollinger_lower_band": 220.5116083843593,
         "bollinger_signal": 1,
         "bb_position": 1,
         "_deepnote_index_column": "2021-05-13T00:00:00.000000"
        },
        {
         "Close": 207.85000610351562,
         "bollinger_upper_band": 252.18114531206095,
         "bollinger_lower_band": 217.49285371137654,
         "bollinger_signal": 1,
         "bb_position": 1,
         "_deepnote_index_column": "2021-05-14T00:00:00.000000"
        },
        {
         "Close": 202.9199981689453,
         "bollinger_upper_band": 251.26122468713513,
         "bollinger_lower_band": 214.17177397009144,
         "bollinger_signal": 1,
         "bb_position": 1,
         "_deepnote_index_column": "2021-05-17T00:00:00.000000"
        },
        {
         "Close": 203.16000366210938,
         "bollinger_upper_band": 250.0048225958776,
         "bollinger_lower_band": 211.1941764275599,
         "bollinger_signal": 1,
         "bb_position": 1,
         "_deepnote_index_column": "2021-05-18T00:00:00.000000"
        },
        {
         "Close": 200.11000061035156,
         "bollinger_upper_band": 248.56215662385355,
         "bollinger_lower_band": 208.12284246061913,
         "bollinger_signal": 1,
         "bb_position": 1,
         "_deepnote_index_column": "2021-05-19T00:00:00.000000"
        },
        {
         "Close": 204.91000366210938,
         "bollinger_upper_band": 246.7942572218957,
         "bollinger_lower_band": 205.87074216775272,
         "bollinger_signal": 1,
         "bb_position": 1,
         "_deepnote_index_column": "2021-05-20T00:00:00.000000"
        },
        {
         "Close": 200.00999450683594,
         "bollinger_upper_band": 244.70501662593009,
         "bollinger_lower_band": 203.31798294682383,
         "bollinger_signal": 1,
         "bb_position": 1,
         "_deepnote_index_column": "2021-05-21T00:00:00.000000"
        },
        {
         "Close": 210.9499969482422,
         "bollinger_upper_band": 241.23405475741828,
         "bollinger_lower_band": 202.30694408291373,
         "bollinger_signal": 0,
         "bb_position": 1,
         "_deepnote_index_column": "2021-05-24T00:00:00.000000"
        },
        {
         "Close": 216.1999969482422,
         "bollinger_upper_band": 237.85719865664342,
         "bollinger_lower_band": 201.92480054989957,
         "bollinger_signal": 0,
         "bb_position": 1,
         "_deepnote_index_column": "2021-05-25T00:00:00.000000"
        },
        {
         "Close": 222.33999633789062,
         "bollinger_upper_band": 234.37518046652,
         "bollinger_lower_band": 202.2208186789878,
         "bollinger_signal": 0,
         "bb_position": 1,
         "_deepnote_index_column": "2021-05-26T00:00:00.000000"
        },
        {
         "Close": 220.89999389648438,
         "bollinger_upper_band": 231.48940049788584,
         "bollinger_lower_band": 202.4205985865868,
         "bollinger_signal": 0,
         "bb_position": 1,
         "_deepnote_index_column": "2021-05-27T00:00:00.000000"
        },
        {
         "Close": 222.52000427246094,
         "bollinger_upper_band": 228.9053684879137,
         "bollinger_lower_band": 202.77463029138315,
         "bollinger_signal": 0,
         "bb_position": 1,
         "_deepnote_index_column": "2021-05-28T00:00:00.000000"
        },
        {
         "Close": 221.9499969482422,
         "bollinger_upper_band": 226.1829876244117,
         "bollinger_lower_band": 203.32401158213125,
         "bollinger_signal": 0,
         "bb_position": 1,
         "_deepnote_index_column": "2021-06-01T00:00:00.000000"
        },
        {
         "Close": 220.41000366210938,
         "bollinger_upper_band": 225.06772553939467,
         "bollinger_lower_band": 203.3612737892186,
         "bollinger_signal": 0,
         "bb_position": 1,
         "_deepnote_index_column": "2021-06-02T00:00:00.000000"
        },
        {
         "Close": 211.42999267578125,
         "bollinger_upper_band": 223.22718937435621,
         "bollinger_lower_band": 203.15780971011645,
         "bollinger_signal": 0,
         "bb_position": 1,
         "_deepnote_index_column": "2021-06-03T00:00:00.000000"
        },
        {
         "Close": 213.69000244140625,
         "bollinger_upper_band": 222.39128034847323,
         "bollinger_lower_band": 202.96671830875334,
         "bollinger_signal": 0,
         "bb_position": 1,
         "_deepnote_index_column": "2021-06-04T00:00:00.000000"
        },
        {
         "Close": 216.9499969482422,
         "bollinger_upper_band": 220.34968272567752,
         "bollinger_lower_band": 203.36831501602168,
         "bollinger_signal": 0,
         "bb_position": 1,
         "_deepnote_index_column": "2021-06-07T00:00:00.000000"
        },
        {
         "Close": 214.1199951171875,
         "bollinger_upper_band": 220.18429544248016,
         "bollinger_lower_band": 203.30270254335966,
         "bollinger_signal": 0,
         "bb_position": 1,
         "_deepnote_index_column": "2021-06-08T00:00:00.000000"
        },
        {
         "Close": 210.2100067138672,
         "bollinger_upper_band": 219.40128900773195,
         "bollinger_lower_band": 203.04171025984616,
         "bollinger_signal": 0,
         "bb_position": 1,
         "_deepnote_index_column": "2021-06-09T00:00:00.000000"
        },
        {
         "Close": 217.13999938964844,
         "bollinger_upper_band": 219.95315211638808,
         "bollinger_lower_band": 203.53684727326038,
         "bollinger_signal": 0,
         "bb_position": 1,
         "_deepnote_index_column": "2021-06-10T00:00:00.000000"
        },
        {
         "Close": 219.33999633789062,
         "bollinger_upper_band": 220.46270939304873,
         "bollinger_lower_band": 205.24828914210752,
         "bollinger_signal": 0,
         "bb_position": 1,
         "_deepnote_index_column": "2021-06-11T00:00:00.000000"
        },
        {
         "Close": 230.9499969482422,
         "bollinger_upper_band": 222.51807647735956,
         "bollinger_lower_band": 205.50292114226937,
         "bollinger_signal": -1,
         "bb_position": 0,
         "_deepnote_index_column": "2021-06-14T00:00:00.000000"
        },
        {
         "Close": 227.75,
         "bollinger_upper_band": 223.86700086110795,
         "bollinger_lower_band": 206.63699694162642,
         "bollinger_signal": -1,
         "bb_position": 0,
         "_deepnote_index_column": "2021-06-15T00:00:00.000000"
        },
        {
         "Close": 225.11000061035156,
         "bollinger_upper_band": 224.73815226060267,
         "bollinger_lower_band": 207.96084523695592,
         "bollinger_signal": -1,
         "bb_position": 0,
         "_deepnote_index_column": "2021-06-16T00:00:00.000000"
        },
        {
         "Close": 236.1300048828125,
         "bollinger_upper_band": 226.73351687977302,
         "bollinger_lower_band": 209.56748104503166,
         "bollinger_signal": -1,
         "bb_position": 0,
         "_deepnote_index_column": "2021-06-17T00:00:00.000000"
        },
        {
         "Close": 237.0500030517578,
         "bollinger_upper_band": 228.73093134392712,
         "bollinger_lower_band": 210.78406651984238,
         "bollinger_signal": -1,
         "bb_position": 0,
         "_deepnote_index_column": "2021-06-18T00:00:00.000000"
        },
        {
         "Close": 233.88999938964844,
         "bollinger_upper_band": 229.66669112830994,
         "bollinger_lower_band": 213.23630722374082,
         "bollinger_signal": -1,
         "bb_position": 0,
         "_deepnote_index_column": "2021-06-21T00:00:00.000000"
        },
        {
         "Close": 235.97000122070312,
         "bollinger_upper_band": 231.13646430394527,
         "bollinger_lower_band": 214.2685344753516,
         "bollinger_signal": -1,
         "bb_position": 0,
         "_deepnote_index_column": "2021-06-22T00:00:00.000000"
        },
        {
         "Close": 238.6999969482422,
         "bollinger_upper_band": 232.82992131369613,
         "bollinger_lower_band": 214.82507746560074,
         "bollinger_signal": -1,
         "bb_position": 0,
         "_deepnote_index_column": "2021-06-23T00:00:00.000000"
        },
        {
         "Close": 244.14999389648438,
         "bollinger_upper_band": 234.9883719869884,
         "bollinger_lower_band": 214.84762654816785,
         "bollinger_signal": -1,
         "bb_position": 0,
         "_deepnote_index_column": "2021-06-24T00:00:00.000000"
        },
        {
         "Close": 239.94000244140625,
         "bollinger_upper_band": 236.42867246671088,
         "bollinger_lower_band": 215.31132692293758,
         "bollinger_signal": -1,
         "bb_position": 0,
         "_deepnote_index_column": "2021-06-25T00:00:00.000000"
        },
        {
         "Close": 246.60000610351562,
         "bollinger_upper_band": 238.56253919090202,
         "bollinger_lower_band": 215.5854603818519,
         "bollinger_signal": -1,
         "bb_position": 0,
         "_deepnote_index_column": "2021-06-28T00:00:00.000000"
        },
        {
         "Close": 248.8699951171875,
         "bollinger_upper_band": 240.8176223609092,
         "bollinger_lower_band": 216.02237702873921,
         "bollinger_signal": -1,
         "bb_position": 0,
         "_deepnote_index_column": "2021-06-29T00:00:00.000000"
        },
        {
         "Close": 243.8000030517578,
         "bollinger_upper_band": 242.29123964226292,
         "bollinger_lower_band": 216.88775968635034,
         "bollinger_signal": -1,
         "bb_position": 0,
         "_deepnote_index_column": "2021-06-30T00:00:00.000000"
        },
        {
         "Close": 241.85000610351562,
         "bollinger_upper_band": 243.33565394384905,
         "bollinger_lower_band": 218.88534672753767,
         "bollinger_signal": 0,
         "bb_position": 0,
         "_deepnote_index_column": "2021-07-01T00:00:00.000000"
        },
        {
         "Close": 241.0800018310547,
         "bollinger_upper_band": 244.17354293161338,
         "bollinger_lower_band": 220.7864576787382,
         "bollinger_signal": 0,
         "bb_position": 0,
         "_deepnote_index_column": "2021-07-02T00:00:00.000000"
        },
        {
         "Close": 246.6999969482422,
         "bollinger_upper_band": 245.47222249179018,
         "bollinger_lower_band": 222.46277811856137,
         "bollinger_signal": -1,
         "bb_position": 0,
         "_deepnote_index_column": "2021-07-06T00:00:00.000000"
        },
        {
         "Close": 244.63999938964844,
         "bollinger_upper_band": 246.22520284295987,
         "bollinger_lower_band": 224.7617981946378,
         "bollinger_signal": 0,
         "bb_position": 0,
         "_deepnote_index_column": "2021-07-07T00:00:00.000000"
        },
        {
         "Close": 235.89999389648438,
         "bollinger_upper_band": 245.7108802011884,
         "bollinger_lower_band": 227.845119554671,
         "bollinger_signal": 0,
         "bb_position": 0,
         "_deepnote_index_column": "2021-07-08T00:00:00.000000"
        },
        {
         "Close": 241.88999938964844,
         "bollinger_upper_band": 245.71370205134812,
         "bollinger_lower_band": 230.31729770451128,
         "bollinger_signal": 0,
         "bb_position": 0,
         "_deepnote_index_column": "2021-07-09T00:00:00.000000"
        },
        {
         "Close": 243.35000610351562,
         "bollinger_upper_band": 245.61025153879262,
         "bollinger_lower_band": 232.82174919362927,
         "bollinger_signal": 0,
         "bb_position": 0,
         "_deepnote_index_column": "2021-07-12T00:00:00.000000"
        },
        {
         "Close": 241.42999267578125,
         "bollinger_upper_band": 245.8440365523452,
         "bollinger_lower_band": 233.6359637528306,
         "bollinger_signal": 0,
         "bb_position": 0,
         "_deepnote_index_column": "2021-07-13T00:00:00.000000"
        },
        {
         "Close": 239,
         "bollinger_upper_band": 245.72363481041916,
         "bollinger_lower_band": 234.88136549475664,
         "bollinger_signal": 0,
         "bb_position": 0,
         "_deepnote_index_column": "2021-07-14T00:00:00.000000"
        },
        {
         "Close": 235.16000366210938,
         "bollinger_upper_band": 245.09064598112067,
         "bollinger_lower_band": 236.5193546292309,
         "bollinger_signal": 1,
         "bb_position": 1,
         "_deepnote_index_column": "2021-07-15T00:00:00.000000"
        },
        {
         "Close": 237.52000427246094,
         "bollinger_upper_band": 245.09105555465328,
         "bollinger_lower_band": 236.65794499466313,
         "bollinger_signal": 0,
         "bb_position": 1,
         "_deepnote_index_column": "2021-07-16T00:00:00.000000"
        },
        {
         "Close": 233.69000244140625,
         "bollinger_upper_band": 245.14457225358217,
         "bollinger_lower_band": 236.26842823469906,
         "bollinger_signal": 1,
         "bb_position": 1,
         "_deepnote_index_column": "2021-07-19T00:00:00.000000"
        },
        {
         "Close": 246.47000122070312,
         "bollinger_upper_band": 245.64628007565528,
         "bollinger_lower_band": 237.02472059573142,
         "bollinger_signal": -1,
         "bb_position": 0,
         "_deepnote_index_column": "2021-07-20T00:00:00.000000"
        },
        {
         "Close": 257.25,
         "bollinger_upper_band": 247.80375989468678,
         "bollinger_lower_band": 236.99524065462964,
         "bollinger_signal": -1,
         "bb_position": 0,
         "_deepnote_index_column": "2021-07-21T00:00:00.000000"
        },
        {
         "Close": 260.5899963378906,
         "bollinger_upper_band": 250.17533180569535,
         "bollinger_lower_band": 236.81266868258592,
         "bollinger_signal": -1,
         "bb_position": 0,
         "_deepnote_index_column": "2021-07-22T00:00:00.000000"
        },
        {
         "Close": 264,
         "bollinger_upper_band": 252.59279504470382,
         "bollinger_lower_band": 236.38020605392902,
         "bollinger_signal": -1,
         "bb_position": 0,
         "_deepnote_index_column": "2021-07-23T00:00:00.000000"
        },
        {
         "Close": 261.989990234375,
         "bollinger_upper_band": 254.50356403226988,
         "bollinger_lower_band": 236.6744358456598,
         "bollinger_signal": -1,
         "bb_position": 0,
         "_deepnote_index_column": "2021-07-26T00:00:00.000000"
        },
        {
         "Close": 251.72999572753906,
         "bollinger_upper_band": 254.8638825832059,
         "bollinger_lower_band": 236.82711625712614,
         "bollinger_signal": 0,
         "bb_position": 0,
         "_deepnote_index_column": "2021-07-27T00:00:00.000000"
        },
        {
         "Close": 258.6099853515625,
         "bollinger_upper_band": 255.77577729609663,
         "bollinger_lower_band": 236.8892205676729,
         "bollinger_signal": -1,
         "bb_position": 0,
         "_deepnote_index_column": "2021-07-28T00:00:00.000000"
        },
        {
         "Close": 255.27999877929688,
         "bollinger_upper_band": 256.5348267746226,
         "bollinger_lower_band": 237.27817066190087,
         "bollinger_signal": 0,
         "bb_position": 0,
         "_deepnote_index_column": "2021-07-29T00:00:00.000000"
        },
        {
         "Close": 247.25999450683594,
         "bollinger_upper_band": 256.73150317956316,
         "bollinger_lower_band": 237.6224930972923,
         "bollinger_signal": 0,
         "bb_position": 0,
         "_deepnote_index_column": "2021-07-30T00:00:00.000000"
        },
        {
         "Close": 272.3800048828125,
         "bollinger_upper_band": 259.7048937030141,
         "bollinger_lower_band": 237.77910287901713,
         "bollinger_signal": -1,
         "bb_position": 0,
         "_deepnote_index_column": "2021-08-02T00:00:00.000000"
        },
        {
         "Close": 269.489990234375,
         "bollinger_upper_band": 261.766598426462,
         "bollinger_lower_band": 237.99639748418252,
         "bollinger_signal": -1,
         "bb_position": 0,
         "_deepnote_index_column": "2021-08-03T00:00:00.000000"
        },
        {
         "Close": 266.4200134277344,
         "bollinger_upper_band": 263.33808657508865,
         "bollinger_lower_band": 238.60291073936446,
         "bollinger_signal": -1,
         "bb_position": 0,
         "_deepnote_index_column": "2021-08-04T00:00:00.000000"
        },
        {
         "Close": 281.80999755859375,
         "bollinger_upper_band": 266.88633105698136,
         "bollinger_lower_band": 239.64566662368267,
         "bollinger_signal": -1,
         "bb_position": 0,
         "_deepnote_index_column": "2021-08-05T00:00:00.000000"
        },
        {
         "Close": 275.1000061035156,
         "bollinger_upper_band": 269.100086224357,
         "bollinger_lower_band": 240.75291212769375,
         "bollinger_signal": -1,
         "bb_position": 0,
         "_deepnote_index_column": "2021-08-06T00:00:00.000000"
        },
        {
         "Close": 279.7300109863281,
         "bollinger_upper_band": 271.6697724695844,
         "bollinger_lower_band": 241.82122637074764,
         "bollinger_signal": -1,
         "bb_position": 0,
         "_deepnote_index_column": "2021-08-09T00:00:00.000000"
        },
        {
         "Close": 273.0799865722656,
         "bollinger_upper_band": 273.22079004677784,
         "bollinger_lower_band": 243.43520818320263,
         "bollinger_signal": 0,
         "bb_position": 0,
         "_deepnote_index_column": "2021-08-10T00:00:00.000000"
        }
       ]
      },
      "text/plain": "                 Close  bollinger_upper_band  bollinger_lower_band  \\\nDate                                                                 \n2015-11-30   12.040000                   NaN                   NaN   \n2015-12-01   11.910000                   NaN                   NaN   \n2015-12-02   11.930000                   NaN                   NaN   \n2015-12-03   11.920000                   NaN                   NaN   \n2015-12-04   12.040000                   NaN                   NaN   \n...                ...                   ...                   ...   \n2021-08-04  266.420013            263.338087            238.602911   \n2021-08-05  281.809998            266.886331            239.645667   \n2021-08-06  275.100006            269.100086            240.752912   \n2021-08-09  279.730011            271.669772            241.821226   \n2021-08-10  273.079987            273.220790            243.435208   \n\n            bollinger_signal  bb_position  \nDate                                       \n2015-11-30               0.0            1  \n2015-12-01               0.0            1  \n2015-12-02               0.0            1  \n2015-12-03               0.0            1  \n2015-12-04               0.0            1  \n...                      ...          ...  \n2021-08-04              -1.0            0  \n2021-08-05              -1.0            0  \n2021-08-06              -1.0            0  \n2021-08-09              -1.0            0  \n2021-08-10               0.0            0  \n\n[1434 rows x 5 columns]",
      "text/html": "<div>\n<style scoped>\n    .dataframe tbody tr th:only-of-type {\n        vertical-align: middle;\n    }\n\n    .dataframe tbody tr th {\n        vertical-align: top;\n    }\n\n    .dataframe thead th {\n        text-align: right;\n    }\n</style>\n<table border=\"1\" class=\"dataframe\">\n  <thead>\n    <tr style=\"text-align: right;\">\n      <th></th>\n      <th>Close</th>\n      <th>bollinger_upper_band</th>\n      <th>bollinger_lower_band</th>\n      <th>bollinger_signal</th>\n      <th>bb_position</th>\n    </tr>\n    <tr>\n      <th>Date</th>\n      <th></th>\n      <th></th>\n      <th></th>\n      <th></th>\n      <th></th>\n    </tr>\n  </thead>\n  <tbody>\n    <tr>\n      <th>2015-11-30</th>\n      <td>12.040000</td>\n      <td>NaN</td>\n      <td>NaN</td>\n      <td>0.0</td>\n      <td>1</td>\n    </tr>\n    <tr>\n      <th>2015-12-01</th>\n      <td>11.910000</td>\n      <td>NaN</td>\n      <td>NaN</td>\n      <td>0.0</td>\n      <td>1</td>\n    </tr>\n    <tr>\n      <th>2015-12-02</th>\n      <td>11.930000</td>\n      <td>NaN</td>\n      <td>NaN</td>\n      <td>0.0</td>\n      <td>1</td>\n    </tr>\n    <tr>\n      <th>2015-12-03</th>\n      <td>11.920000</td>\n      <td>NaN</td>\n      <td>NaN</td>\n      <td>0.0</td>\n      <td>1</td>\n    </tr>\n    <tr>\n      <th>2015-12-04</th>\n      <td>12.040000</td>\n      <td>NaN</td>\n      <td>NaN</td>\n      <td>0.0</td>\n      <td>1</td>\n    </tr>\n    <tr>\n      <th>...</th>\n      <td>...</td>\n      <td>...</td>\n      <td>...</td>\n      <td>...</td>\n      <td>...</td>\n    </tr>\n    <tr>\n      <th>2021-08-04</th>\n      <td>266.420013</td>\n      <td>263.338087</td>\n      <td>238.602911</td>\n      <td>-1.0</td>\n      <td>0</td>\n    </tr>\n    <tr>\n      <th>2021-08-05</th>\n      <td>281.809998</td>\n      <td>266.886331</td>\n      <td>239.645667</td>\n      <td>-1.0</td>\n      <td>0</td>\n    </tr>\n    <tr>\n      <th>2021-08-06</th>\n      <td>275.100006</td>\n      <td>269.100086</td>\n      <td>240.752912</td>\n      <td>-1.0</td>\n      <td>0</td>\n    </tr>\n    <tr>\n      <th>2021-08-09</th>\n      <td>279.730011</td>\n      <td>271.669772</td>\n      <td>241.821226</td>\n      <td>-1.0</td>\n      <td>0</td>\n    </tr>\n    <tr>\n      <th>2021-08-10</th>\n      <td>273.079987</td>\n      <td>273.220790</td>\n      <td>243.435208</td>\n      <td>0.0</td>\n      <td>0</td>\n    </tr>\n  </tbody>\n</table>\n<p>1434 rows × 5 columns</p>\n</div>"
     },
     "metadata": {}
    }
   ],
   "execution_count": null
  },
  {
   "cell_type": "code",
   "metadata": {
    "tags": [],
    "cell_id": "00013-5e93a005-87f4-4d81-81d4-c6c3bc6e4159",
    "deepnote_to_be_reexecuted": false,
    "source_hash": "b8f508ca",
    "execution_start": 1629252789168,
    "execution_millis": 57,
    "deepnote_cell_type": "code"
   },
   "source": "sq_ret = pd.DataFrame(np.diff(sq['Close'])).rename(columns = {0:'returns'})\nbb_strategy_ret = []\n\nfor i in range(len(sq_ret)):\n    try:\n        returns = sq_ret['returns'][i]*strategy['bb_position'][i]\n        bb_strategy_ret.append(returns)\n    except:\n        pass\n    \nbb_strategy_ret_df = pd.DataFrame(bb_strategy_ret).rename(columns = {0:'bb_returns'})\n\ninvestment_value = 100000\nnumber_of_stocks = math.floor(investment_value/sq['Close'][-1])\nbb_investment_ret = []\n\nfor i in range(len(bb_strategy_ret_df['bb_returns'])):\n    returns = number_of_stocks*bb_strategy_ret_df['bb_returns'][i]\n    bb_investment_ret.append(returns)\n\nbb_investment_ret_df = pd.DataFrame(bb_investment_ret).rename(columns = {0:'investment_returns'})\ntotal_investment_ret = round(sum(bb_investment_ret_df['investment_returns']), 2)\nprofit_percentage = math.floor((total_investment_ret/investment_value)*100)\nprint(cl('Profit gained from the BB strategy by investing $100k in sq : {}'.format(total_investment_ret), attrs = ['bold']))\nprint(cl('Profit percentage of the BB strategy : {}%'.format(profit_percentage), attrs = ['bold']))",
   "outputs": [
    {
     "name": "stdout",
     "text": "\u001b[1mProfit gained from the BB strategy by investing $100k in sq : 37774.86\u001b[0m\n\u001b[1mProfit percentage of the BB strategy : 37%\u001b[0m\n",
     "output_type": "stream"
    }
   ],
   "execution_count": null
  },
  {
   "cell_type": "code",
   "source": "strategy.to_csv('SQ 1D BOLLINGER BANDS TRADE STRATEGY.CSV')",
   "metadata": {
    "tags": [],
    "cell_id": "00014-efb21322-d303-496b-841f-3f34171a81c3",
    "deepnote_to_be_reexecuted": false,
    "source_hash": "e4c25a74",
    "execution_start": 1629252789228,
    "execution_millis": 25,
    "deepnote_cell_type": "code"
   },
   "outputs": [],
   "execution_count": null
  },
  {
   "cell_type": "markdown",
   "source": "<a style='text-decoration:none;line-height:16px;display:flex;color:#5B5B62;padding:10px;justify-content:end;' href='https://deepnote.com?utm_source=created-in-deepnote-cell&projectId=d12c285c-6789-4c45-9ad7-1be9b4d60622' target=\"_blank\">\n<img alt='Created in deepnote.com' style='display:inline;max-height:16px;margin:0px;margin-right:7.5px;' src='data:image/svg+xml;base64,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' > </img>\nCreated in <span style='font-weight:600;margin-left:4px;'>Deepnote</span></a>",
   "metadata": {
    "tags": [],
    "created_in_deepnote_cell": true,
    "deepnote_cell_type": "markdown"
   }
  }
 ],
 "nbformat": 4,
 "nbformat_minor": 2,
 "metadata": {
  "orig_nbformat": 2,
  "deepnote": {
   "is_reactive": false
  },
  "deepnote_notebook_id": "72c420ae-0615-4d6e-b4d6-1578835a76e7",
  "deepnote_execution_queue": []
 }
}