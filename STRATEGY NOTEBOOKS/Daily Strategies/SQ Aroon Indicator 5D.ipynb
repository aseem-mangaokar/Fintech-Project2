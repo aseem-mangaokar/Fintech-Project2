{
 "cells": [
  {
   "cell_type": "code",
   "metadata": {
    "tags": [],
    "deepnote_to_be_reexecuted": false,
    "source_hash": "6566253a",
    "execution_start": 1629252731500,
    "execution_millis": 400,
    "cell_id": "00000-cafd4bc7-c5c8-42e2-9c1e-5fe3f3241151",
    "deepnote_cell_type": "code"
   },
   "source": "import pandas as pd\nimport numpy as np\nimport requests\nimport matplotlib.pyplot as plt\nfrom math import floor\nfrom termcolor import colored as cl\nimport yfinance as yf\nfrom ta import add_all_ta_features\nfrom ta.utils import dropna\n\nplt.style.use('fivethirtyeight')\nplt.rcParams['figure.figsize'] = (20, 10)",
   "outputs": [],
   "execution_count": null
  },
  {
   "cell_type": "code",
   "metadata": {
    "tags": [],
    "deepnote_to_be_reexecuted": false,
    "source_hash": "3b3e8ed7",
    "execution_start": 1629252731916,
    "execution_millis": 1934,
    "cell_id": "00001-bb462af8-728c-4f67-a3ec-48f03d8b7fb2",
    "deepnote_cell_type": "code"
   },
   "source": "def get_aroon(symbol, start_date):\n\n    raw_df = yf.download(tickers='SQ', start='2015-11-29', end = '2021-08-11', interval='1d')\n    raw_df.drop(columns = ['Adj Close'], inplace = True)\n    # raw_df.reset_index(inplace = True)\n    raw_df.rename(columns = {'index' : 'DateTime'}, inplace = True)\n    \n    mom_data = add_all_ta_features(raw_df, open='Open', high= 'High', low='Low', close='Close', volume='Volume')\n    # mom_data.set_index('DateTime', inplace = True)\n    aroon_up = mom_data['trend_aroon_up']\n    aroon_down = mom_data['trend_aroon_down']\n    \n    ticker_aroon = mom_data[['Close', 'trend_aroon_up', 'trend_aroon_down']]\n\n    return ticker_aroon\n\nget_aroon('SQ', '2015-11-29')\n\n",
   "outputs": [
    {
     "name": "stdout",
     "text": "[*********************100%***********************]  1 of 1 completed\n/root/venv/lib/python3.7/site-packages/ta/trend.py:768: RuntimeWarning: invalid value encountered in double_scalars\n  dip[i] = 100 * (self._dip[i] / self._trs[i])\n/root/venv/lib/python3.7/site-packages/ta/trend.py:772: RuntimeWarning: invalid value encountered in double_scalars\n  din[i] = 100 * (self._din[i] / self._trs[i])\n",
     "output_type": "stream"
    },
    {
     "output_type": "execute_result",
     "execution_count": 2,
     "data": {
      "application/vnd.deepnote.dataframe.v2+json": {
       "row_count": 1434,
       "column_count": 3,
       "columns": [
        {
         "name": "Close",
         "dtype": "float64",
         "stats": {
          "unique_count": 1294,
          "nan_count": 0,
          "min": "8.369999885559082",
          "max": "281.80999755859375",
          "histogram": [
           {
            "bin_start": 8.369999885559082,
            "bin_end": 35.71399965286255,
            "count": 488
           },
           {
            "bin_start": 35.71399965286255,
            "bin_end": 63.05799942016601,
            "count": 279
           },
           {
            "bin_start": 63.05799942016601,
            "bin_end": 90.40199918746947,
            "count": 360
           },
           {
            "bin_start": 90.40199918746947,
            "bin_end": 117.74599895477294,
            "count": 29
           },
           {
            "bin_start": 117.74599895477294,
            "bin_end": 145.08999872207642,
            "count": 33
           },
           {
            "bin_start": 145.08999872207642,
            "bin_end": 172.43399848937986,
            "count": 40
           },
           {
            "bin_start": 172.43399848937986,
            "bin_end": 199.77799825668333,
            "count": 27
           },
           {
            "bin_start": 199.77799825668333,
            "bin_end": 227.1219980239868,
            "count": 74
           },
           {
            "bin_start": 227.1219980239868,
            "bin_end": 254.46599779129028,
            "count": 72
           },
           {
            "bin_start": 254.46599779129028,
            "bin_end": 281.80999755859375,
            "count": 32
           }
          ]
         }
        },
        {
         "name": "trend_aroon_up",
         "dtype": "float64",
         "stats": {
          "unique_count": 25,
          "nan_count": 24,
          "min": "4.0",
          "max": "100.0",
          "histogram": [
           {
            "bin_start": 4,
            "bin_end": 13.6,
            "count": 190
           },
           {
            "bin_start": 13.6,
            "bin_end": 23.2,
            "count": 83
           },
           {
            "bin_start": 23.2,
            "bin_end": 32.8,
            "count": 103
           },
           {
            "bin_start": 32.8,
            "bin_end": 42.4,
            "count": 69
           },
           {
            "bin_start": 42.4,
            "bin_end": 52,
            "count": 62
           },
           {
            "bin_start": 52,
            "bin_end": 61.599999999999994,
            "count": 89
           },
           {
            "bin_start": 61.599999999999994,
            "bin_end": 71.2,
            "count": 70
           },
           {
            "bin_start": 71.2,
            "bin_end": 80.8,
            "count": 136
           },
           {
            "bin_start": 80.8,
            "bin_end": 90.39999999999999,
            "count": 128
           },
           {
            "bin_start": 90.39999999999999,
            "bin_end": 100,
            "count": 480
           }
          ]
         }
        },
        {
         "name": "trend_aroon_down",
         "dtype": "float64",
         "stats": {
          "unique_count": 25,
          "nan_count": 24,
          "min": "4.0",
          "max": "100.0",
          "histogram": [
           {
            "bin_start": 4,
            "bin_end": 13.6,
            "count": 478
           },
           {
            "bin_start": 13.6,
            "bin_end": 23.2,
            "count": 123
           },
           {
            "bin_start": 23.2,
            "bin_end": 32.8,
            "count": 122
           },
           {
            "bin_start": 32.8,
            "bin_end": 42.4,
            "count": 67
           },
           {
            "bin_start": 42.4,
            "bin_end": 52,
            "count": 68
           },
           {
            "bin_start": 52,
            "bin_end": 61.599999999999994,
            "count": 109
           },
           {
            "bin_start": 61.599999999999994,
            "bin_end": 71.2,
            "count": 74
           },
           {
            "bin_start": 71.2,
            "bin_end": 80.8,
            "count": 106
           },
           {
            "bin_start": 80.8,
            "bin_end": 90.39999999999999,
            "count": 79
           },
           {
            "bin_start": 90.39999999999999,
            "bin_end": 100,
            "count": 184
           }
          ]
         }
        },
        {
         "name": "_deepnote_index_column",
         "dtype": "datetime64[ns]"
        }
       ],
       "rows_top": [
        {
         "Close": 12.039999961853027,
         "trend_aroon_up": "nan",
         "trend_aroon_down": "nan",
         "_deepnote_index_column": "2015-11-30T00:00:00.000000"
        },
        {
         "Close": 11.90999984741211,
         "trend_aroon_up": "nan",
         "trend_aroon_down": "nan",
         "_deepnote_index_column": "2015-12-01T00:00:00.000000"
        },
        {
         "Close": 11.930000305175781,
         "trend_aroon_up": "nan",
         "trend_aroon_down": "nan",
         "_deepnote_index_column": "2015-12-02T00:00:00.000000"
        },
        {
         "Close": 11.920000076293945,
         "trend_aroon_up": "nan",
         "trend_aroon_down": "nan",
         "_deepnote_index_column": "2015-12-03T00:00:00.000000"
        },
        {
         "Close": 12.039999961853027,
         "trend_aroon_up": "nan",
         "trend_aroon_down": "nan",
         "_deepnote_index_column": "2015-12-04T00:00:00.000000"
        },
        {
         "Close": 12.359999656677246,
         "trend_aroon_up": "nan",
         "trend_aroon_down": "nan",
         "_deepnote_index_column": "2015-12-07T00:00:00.000000"
        },
        {
         "Close": 12.119999885559082,
         "trend_aroon_up": "nan",
         "trend_aroon_down": "nan",
         "_deepnote_index_column": "2015-12-08T00:00:00.000000"
        },
        {
         "Close": 11.989999771118164,
         "trend_aroon_up": "nan",
         "trend_aroon_down": "nan",
         "_deepnote_index_column": "2015-12-09T00:00:00.000000"
        },
        {
         "Close": 12.050000190734863,
         "trend_aroon_up": "nan",
         "trend_aroon_down": "nan",
         "_deepnote_index_column": "2015-12-10T00:00:00.000000"
        },
        {
         "Close": 11.949999809265137,
         "trend_aroon_up": "nan",
         "trend_aroon_down": "nan",
         "_deepnote_index_column": "2015-12-11T00:00:00.000000"
        },
        {
         "Close": 12.329999923706055,
         "trend_aroon_up": "nan",
         "trend_aroon_down": "nan",
         "_deepnote_index_column": "2015-12-14T00:00:00.000000"
        },
        {
         "Close": 12.470000267028809,
         "trend_aroon_up": "nan",
         "trend_aroon_down": "nan",
         "_deepnote_index_column": "2015-12-15T00:00:00.000000"
        },
        {
         "Close": 12.270000457763672,
         "trend_aroon_up": "nan",
         "trend_aroon_down": "nan",
         "_deepnote_index_column": "2015-12-16T00:00:00.000000"
        },
        {
         "Close": 12.319999694824219,
         "trend_aroon_up": "nan",
         "trend_aroon_down": "nan",
         "_deepnote_index_column": "2015-12-17T00:00:00.000000"
        },
        {
         "Close": 12.34000015258789,
         "trend_aroon_up": "nan",
         "trend_aroon_down": "nan",
         "_deepnote_index_column": "2015-12-18T00:00:00.000000"
        },
        {
         "Close": 12.239999771118164,
         "trend_aroon_up": "nan",
         "trend_aroon_down": "nan",
         "_deepnote_index_column": "2015-12-21T00:00:00.000000"
        },
        {
         "Close": 12.460000038146973,
         "trend_aroon_up": "nan",
         "trend_aroon_down": "nan",
         "_deepnote_index_column": "2015-12-22T00:00:00.000000"
        },
        {
         "Close": 12.5,
         "trend_aroon_up": "nan",
         "trend_aroon_down": "nan",
         "_deepnote_index_column": "2015-12-23T00:00:00.000000"
        },
        {
         "Close": 12.600000381469727,
         "trend_aroon_up": "nan",
         "trend_aroon_down": "nan",
         "_deepnote_index_column": "2015-12-24T00:00:00.000000"
        },
        {
         "Close": 12.829999923706055,
         "trend_aroon_up": "nan",
         "trend_aroon_down": "nan",
         "_deepnote_index_column": "2015-12-28T00:00:00.000000"
        },
        {
         "Close": 12.739999771118164,
         "trend_aroon_up": "nan",
         "trend_aroon_down": "nan",
         "_deepnote_index_column": "2015-12-29T00:00:00.000000"
        },
        {
         "Close": 12.779999732971191,
         "trend_aroon_up": "nan",
         "trend_aroon_down": "nan",
         "_deepnote_index_column": "2015-12-30T00:00:00.000000"
        },
        {
         "Close": 13.09000015258789,
         "trend_aroon_up": "nan",
         "trend_aroon_down": "nan",
         "_deepnote_index_column": "2015-12-31T00:00:00.000000"
        },
        {
         "Close": 12.15999984741211,
         "trend_aroon_up": "nan",
         "trend_aroon_down": "nan",
         "_deepnote_index_column": "2016-01-04T00:00:00.000000"
        },
        {
         "Close": 11.510000228881836,
         "trend_aroon_up": 92,
         "trend_aroon_down": 100,
         "_deepnote_index_column": "2016-01-05T00:00:00.000000"
        },
        {
         "Close": 11.520000457763672,
         "trend_aroon_up": 88,
         "trend_aroon_down": 96,
         "_deepnote_index_column": "2016-01-06T00:00:00.000000"
        },
        {
         "Close": 11.15999984741211,
         "trend_aroon_up": 84,
         "trend_aroon_down": 100,
         "_deepnote_index_column": "2016-01-07T00:00:00.000000"
        },
        {
         "Close": 11.3100004196167,
         "trend_aroon_up": 80,
         "trend_aroon_down": 96,
         "_deepnote_index_column": "2016-01-08T00:00:00.000000"
        },
        {
         "Close": 11.84000015258789,
         "trend_aroon_up": 76,
         "trend_aroon_down": 92,
         "_deepnote_index_column": "2016-01-11T00:00:00.000000"
        },
        {
         "Close": 12.09000015258789,
         "trend_aroon_up": 72,
         "trend_aroon_down": 88,
         "_deepnote_index_column": "2016-01-12T00:00:00.000000"
        },
        {
         "Close": 11.609999656677246,
         "trend_aroon_up": 68,
         "trend_aroon_down": 84,
         "_deepnote_index_column": "2016-01-13T00:00:00.000000"
        },
        {
         "Close": 10.819999694824219,
         "trend_aroon_up": 64,
         "trend_aroon_down": 100,
         "_deepnote_index_column": "2016-01-14T00:00:00.000000"
        },
        {
         "Close": 10.270000457763672,
         "trend_aroon_up": 60,
         "trend_aroon_down": 100,
         "_deepnote_index_column": "2016-01-15T00:00:00.000000"
        },
        {
         "Close": 9.470000267028809,
         "trend_aroon_up": 56.00000000000001,
         "trend_aroon_down": 100,
         "_deepnote_index_column": "2016-01-19T00:00:00.000000"
        },
        {
         "Close": 9.489999771118164,
         "trend_aroon_up": 52,
         "trend_aroon_down": 96,
         "_deepnote_index_column": "2016-01-20T00:00:00.000000"
        },
        {
         "Close": 10.020000457763672,
         "trend_aroon_up": 48,
         "trend_aroon_down": 92,
         "_deepnote_index_column": "2016-01-21T00:00:00.000000"
        },
        {
         "Close": 9.850000381469727,
         "trend_aroon_up": 44,
         "trend_aroon_down": 88,
         "_deepnote_index_column": "2016-01-22T00:00:00.000000"
        },
        {
         "Close": 9.8100004196167,
         "trend_aroon_up": 40,
         "trend_aroon_down": 84,
         "_deepnote_index_column": "2016-01-25T00:00:00.000000"
        },
        {
         "Close": 9.539999961853027,
         "trend_aroon_up": 36,
         "trend_aroon_down": 80,
         "_deepnote_index_column": "2016-01-26T00:00:00.000000"
        },
        {
         "Close": 9.050000190734863,
         "trend_aroon_up": 32,
         "trend_aroon_down": 100,
         "_deepnote_index_column": "2016-01-27T00:00:00.000000"
        },
        {
         "Close": 8.739999771118164,
         "trend_aroon_up": 28.000000000000004,
         "trend_aroon_down": 100,
         "_deepnote_index_column": "2016-01-28T00:00:00.000000"
        },
        {
         "Close": 8.770000457763672,
         "trend_aroon_up": 24,
         "trend_aroon_down": 96,
         "_deepnote_index_column": "2016-01-29T00:00:00.000000"
        },
        {
         "Close": 8.760000228881836,
         "trend_aroon_up": 20,
         "trend_aroon_down": 92,
         "_deepnote_index_column": "2016-02-01T00:00:00.000000"
        },
        {
         "Close": 8.470000267028809,
         "trend_aroon_up": 16,
         "trend_aroon_down": 100,
         "_deepnote_index_column": "2016-02-02T00:00:00.000000"
        },
        {
         "Close": 8.430000305175781,
         "trend_aroon_up": 12,
         "trend_aroon_down": 100,
         "_deepnote_index_column": "2016-02-03T00:00:00.000000"
        },
        {
         "Close": 8.899999618530273,
         "trend_aroon_up": 8,
         "trend_aroon_down": 96,
         "_deepnote_index_column": "2016-02-04T00:00:00.000000"
        },
        {
         "Close": 8.630000114440918,
         "trend_aroon_up": 4,
         "trend_aroon_down": 92,
         "_deepnote_index_column": "2016-02-05T00:00:00.000000"
        },
        {
         "Close": 8.369999885559082,
         "trend_aroon_up": 4,
         "trend_aroon_down": 100,
         "_deepnote_index_column": "2016-02-08T00:00:00.000000"
        },
        {
         "Close": 8.619999885559082,
         "trend_aroon_up": 24,
         "trend_aroon_down": 96,
         "_deepnote_index_column": "2016-02-09T00:00:00.000000"
        },
        {
         "Close": 8.880000114440918,
         "trend_aroon_up": 20,
         "trend_aroon_down": 92,
         "_deepnote_index_column": "2016-02-10T00:00:00.000000"
        },
        {
         "Close": 8.619999885559082,
         "trend_aroon_up": 16,
         "trend_aroon_down": 88,
         "_deepnote_index_column": "2016-02-11T00:00:00.000000"
        },
        {
         "Close": 9.300000190734863,
         "trend_aroon_up": 12,
         "trend_aroon_down": 84,
         "_deepnote_index_column": "2016-02-12T00:00:00.000000"
        },
        {
         "Close": 9.930000305175781,
         "trend_aroon_up": 8,
         "trend_aroon_down": 80,
         "_deepnote_index_column": "2016-02-16T00:00:00.000000"
        },
        {
         "Close": 9.84000015258789,
         "trend_aroon_up": 4,
         "trend_aroon_down": 76,
         "_deepnote_index_column": "2016-02-17T00:00:00.000000"
        },
        {
         "Close": 9.979999542236328,
         "trend_aroon_up": 4,
         "trend_aroon_down": 72,
         "_deepnote_index_column": "2016-02-18T00:00:00.000000"
        },
        {
         "Close": 9.970000267028809,
         "trend_aroon_up": 4,
         "trend_aroon_down": 68,
         "_deepnote_index_column": "2016-02-19T00:00:00.000000"
        },
        {
         "Close": 10.380000114440918,
         "trend_aroon_up": 100,
         "trend_aroon_down": 64,
         "_deepnote_index_column": "2016-02-22T00:00:00.000000"
        },
        {
         "Close": 9.710000038146973,
         "trend_aroon_up": 96,
         "trend_aroon_down": 60,
         "_deepnote_index_column": "2016-02-23T00:00:00.000000"
        },
        {
         "Close": 9.890000343322754,
         "trend_aroon_up": 92,
         "trend_aroon_down": 56.00000000000001,
         "_deepnote_index_column": "2016-02-24T00:00:00.000000"
        },
        {
         "Close": 10.260000228881836,
         "trend_aroon_up": 88,
         "trend_aroon_down": 52,
         "_deepnote_index_column": "2016-02-25T00:00:00.000000"
        },
        {
         "Close": 10.319999694824219,
         "trend_aroon_up": 84,
         "trend_aroon_down": 48,
         "_deepnote_index_column": "2016-02-26T00:00:00.000000"
        },
        {
         "Close": 10.4399995803833,
         "trend_aroon_up": 100,
         "trend_aroon_down": 44,
         "_deepnote_index_column": "2016-02-29T00:00:00.000000"
        },
        {
         "Close": 10.720000267028809,
         "trend_aroon_up": 100,
         "trend_aroon_down": 40,
         "_deepnote_index_column": "2016-03-01T00:00:00.000000"
        },
        {
         "Close": 11.970000267028809,
         "trend_aroon_up": 100,
         "trend_aroon_down": 36,
         "_deepnote_index_column": "2016-03-02T00:00:00.000000"
        },
        {
         "Close": 12.25,
         "trend_aroon_up": 100,
         "trend_aroon_down": 32,
         "_deepnote_index_column": "2016-03-03T00:00:00.000000"
        },
        {
         "Close": 12.010000228881836,
         "trend_aroon_up": 96,
         "trend_aroon_down": 28.000000000000004,
         "_deepnote_index_column": "2016-03-04T00:00:00.000000"
        },
        {
         "Close": 12.260000228881836,
         "trend_aroon_up": 100,
         "trend_aroon_down": 24,
         "_deepnote_index_column": "2016-03-07T00:00:00.000000"
        },
        {
         "Close": 11.479999542236328,
         "trend_aroon_up": 96,
         "trend_aroon_down": 20,
         "_deepnote_index_column": "2016-03-08T00:00:00.000000"
        },
        {
         "Close": 12.029999732971191,
         "trend_aroon_up": 92,
         "trend_aroon_down": 16,
         "_deepnote_index_column": "2016-03-09T00:00:00.000000"
        },
        {
         "Close": 11.300000190734863,
         "trend_aroon_up": 88,
         "trend_aroon_down": 12,
         "_deepnote_index_column": "2016-03-10T00:00:00.000000"
        },
        {
         "Close": 11.100000381469727,
         "trend_aroon_up": 84,
         "trend_aroon_down": 8,
         "_deepnote_index_column": "2016-03-11T00:00:00.000000"
        },
        {
         "Close": 11.609999656677246,
         "trend_aroon_up": 80,
         "trend_aroon_down": 4,
         "_deepnote_index_column": "2016-03-14T00:00:00.000000"
        },
        {
         "Close": 11.949999809265137,
         "trend_aroon_up": 76,
         "trend_aroon_down": 4,
         "_deepnote_index_column": "2016-03-15T00:00:00.000000"
        },
        {
         "Close": 11.869999885559082,
         "trend_aroon_up": 72,
         "trend_aroon_down": 8,
         "_deepnote_index_column": "2016-03-16T00:00:00.000000"
        },
        {
         "Close": 11.949999809265137,
         "trend_aroon_up": 68,
         "trend_aroon_down": 4,
         "_deepnote_index_column": "2016-03-17T00:00:00.000000"
        },
        {
         "Close": 12.039999961853027,
         "trend_aroon_up": 64,
         "trend_aroon_down": 4,
         "_deepnote_index_column": "2016-03-18T00:00:00.000000"
        },
        {
         "Close": 13.399999618530273,
         "trend_aroon_up": 100,
         "trend_aroon_down": 24,
         "_deepnote_index_column": "2016-03-21T00:00:00.000000"
        },
        {
         "Close": 13.0600004196167,
         "trend_aroon_up": 96,
         "trend_aroon_down": 20,
         "_deepnote_index_column": "2016-03-22T00:00:00.000000"
        },
        {
         "Close": 12.59000015258789,
         "trend_aroon_up": 92,
         "trend_aroon_down": 16,
         "_deepnote_index_column": "2016-03-23T00:00:00.000000"
        },
        {
         "Close": 12.880000114440918,
         "trend_aroon_up": 88,
         "trend_aroon_down": 12,
         "_deepnote_index_column": "2016-03-24T00:00:00.000000"
        },
        {
         "Close": 13.399999618530273,
         "trend_aroon_up": 84,
         "trend_aroon_down": 8,
         "_deepnote_index_column": "2016-03-28T00:00:00.000000"
        },
        {
         "Close": 13.739999771118164,
         "trend_aroon_up": 100,
         "trend_aroon_down": 4,
         "_deepnote_index_column": "2016-03-29T00:00:00.000000"
        },
        {
         "Close": 15.020000457763672,
         "trend_aroon_up": 100,
         "trend_aroon_down": 4,
         "_deepnote_index_column": "2016-03-30T00:00:00.000000"
        },
        {
         "Close": 15.279999732971191,
         "trend_aroon_up": 100,
         "trend_aroon_down": 4,
         "_deepnote_index_column": "2016-03-31T00:00:00.000000"
        },
        {
         "Close": 14.220000267028809,
         "trend_aroon_up": 96,
         "trend_aroon_down": 4,
         "_deepnote_index_column": "2016-04-01T00:00:00.000000"
        },
        {
         "Close": 14.279999732971191,
         "trend_aroon_up": 92,
         "trend_aroon_down": 4,
         "_deepnote_index_column": "2016-04-04T00:00:00.000000"
        },
        {
         "Close": 14.260000228881836,
         "trend_aroon_up": 88,
         "trend_aroon_down": 4,
         "_deepnote_index_column": "2016-04-05T00:00:00.000000"
        },
        {
         "Close": 14.970000267028809,
         "trend_aroon_up": 84,
         "trend_aroon_down": 32,
         "_deepnote_index_column": "2016-04-06T00:00:00.000000"
        },
        {
         "Close": 14.8100004196167,
         "trend_aroon_up": 80,
         "trend_aroon_down": 28.000000000000004,
         "_deepnote_index_column": "2016-04-07T00:00:00.000000"
        },
        {
         "Close": 15.130000114440918,
         "trend_aroon_up": 76,
         "trend_aroon_down": 24,
         "_deepnote_index_column": "2016-04-08T00:00:00.000000"
        },
        {
         "Close": 15.359999656677246,
         "trend_aroon_up": 100,
         "trend_aroon_down": 20,
         "_deepnote_index_column": "2016-04-11T00:00:00.000000"
        },
        {
         "Close": 15.479999542236328,
         "trend_aroon_up": 100,
         "trend_aroon_down": 16,
         "_deepnote_index_column": "2016-04-12T00:00:00.000000"
        },
        {
         "Close": 15.010000228881836,
         "trend_aroon_up": 96,
         "trend_aroon_down": 12,
         "_deepnote_index_column": "2016-04-13T00:00:00.000000"
        },
        {
         "Close": 14.819999694824219,
         "trend_aroon_up": 92,
         "trend_aroon_down": 8,
         "_deepnote_index_column": "2016-04-14T00:00:00.000000"
        },
        {
         "Close": 14.329999923706055,
         "trend_aroon_up": 88,
         "trend_aroon_down": 4,
         "_deepnote_index_column": "2016-04-15T00:00:00.000000"
        },
        {
         "Close": 14.510000228881836,
         "trend_aroon_up": 84,
         "trend_aroon_down": 4,
         "_deepnote_index_column": "2016-04-18T00:00:00.000000"
        },
        {
         "Close": 14.09000015258789,
         "trend_aroon_up": 80,
         "trend_aroon_down": 8,
         "_deepnote_index_column": "2016-04-19T00:00:00.000000"
        },
        {
         "Close": 13.630000114440918,
         "trend_aroon_up": 76,
         "trend_aroon_down": 4,
         "_deepnote_index_column": "2016-04-20T00:00:00.000000"
        },
        {
         "Close": 13.239999771118164,
         "trend_aroon_up": 72,
         "trend_aroon_down": 4,
         "_deepnote_index_column": "2016-04-21T00:00:00.000000"
        },
        {
         "Close": 13.34000015258789,
         "trend_aroon_up": 68,
         "trend_aroon_down": 4,
         "_deepnote_index_column": "2016-04-22T00:00:00.000000"
        },
        {
         "Close": 13.59000015258789,
         "trend_aroon_up": 64,
         "trend_aroon_down": 12,
         "_deepnote_index_column": "2016-04-25T00:00:00.000000"
        },
        {
         "Close": 14.180000305175781,
         "trend_aroon_up": 60,
         "trend_aroon_down": 8,
         "_deepnote_index_column": "2016-04-26T00:00:00.000000"
        },
        {
         "Close": 14.6899995803833,
         "trend_aroon_up": 56.00000000000001,
         "trend_aroon_down": 4,
         "_deepnote_index_column": "2016-04-27T00:00:00.000000"
        },
        {
         "Close": 15.350000381469727,
         "trend_aroon_up": 52,
         "trend_aroon_down": 4,
         "_deepnote_index_column": "2016-04-28T00:00:00.000000"
        },
        {
         "Close": 14.890000343322754,
         "trend_aroon_up": 48,
         "trend_aroon_down": 76,
         "_deepnote_index_column": "2016-04-29T00:00:00.000000"
        },
        {
         "Close": 14,
         "trend_aroon_up": 44,
         "trend_aroon_down": 72,
         "_deepnote_index_column": "2016-05-02T00:00:00.000000"
        },
        {
         "Close": 13.449999809265137,
         "trend_aroon_up": 40,
         "trend_aroon_down": 68,
         "_deepnote_index_column": "2016-05-03T00:00:00.000000"
        },
        {
         "Close": 13.390000343322754,
         "trend_aroon_up": 36,
         "trend_aroon_down": 64,
         "_deepnote_index_column": "2016-05-04T00:00:00.000000"
        },
        {
         "Close": 13.050000190734863,
         "trend_aroon_up": 32,
         "trend_aroon_down": 100,
         "_deepnote_index_column": "2016-05-05T00:00:00.000000"
        },
        {
         "Close": 10.220000267028809,
         "trend_aroon_up": 28.000000000000004,
         "trend_aroon_down": 100,
         "_deepnote_index_column": "2016-05-06T00:00:00.000000"
        },
        {
         "Close": 9.850000381469727,
         "trend_aroon_up": 24,
         "trend_aroon_down": 100,
         "_deepnote_index_column": "2016-05-09T00:00:00.000000"
        },
        {
         "Close": 10,
         "trend_aroon_up": 20,
         "trend_aroon_down": 96,
         "_deepnote_index_column": "2016-05-10T00:00:00.000000"
        },
        {
         "Close": 9.680000305175781,
         "trend_aroon_up": 16,
         "trend_aroon_down": 100,
         "_deepnote_index_column": "2016-05-11T00:00:00.000000"
        },
        {
         "Close": 9.279999732971191,
         "trend_aroon_up": 12,
         "trend_aroon_down": 100,
         "_deepnote_index_column": "2016-05-12T00:00:00.000000"
        },
        {
         "Close": 9.359999656677246,
         "trend_aroon_up": 8,
         "trend_aroon_down": 96,
         "_deepnote_index_column": "2016-05-13T00:00:00.000000"
        },
        {
         "Close": 9.15999984741211,
         "trend_aroon_up": 4,
         "trend_aroon_down": 100,
         "_deepnote_index_column": "2016-05-16T00:00:00.000000"
        },
        {
         "Close": 9.180000305175781,
         "trend_aroon_up": 48,
         "trend_aroon_down": 96,
         "_deepnote_index_column": "2016-05-17T00:00:00.000000"
        },
        {
         "Close": 9.399999618530273,
         "trend_aroon_up": 44,
         "trend_aroon_down": 92,
         "_deepnote_index_column": "2016-05-18T00:00:00.000000"
        },
        {
         "Close": 9.600000381469727,
         "trend_aroon_up": 40,
         "trend_aroon_down": 88,
         "_deepnote_index_column": "2016-05-19T00:00:00.000000"
        },
        {
         "Close": 9.390000343322754,
         "trend_aroon_up": 36,
         "trend_aroon_down": 84,
         "_deepnote_index_column": "2016-05-20T00:00:00.000000"
        },
        {
         "Close": 9.460000038146973,
         "trend_aroon_up": 32,
         "trend_aroon_down": 80,
         "_deepnote_index_column": "2016-05-23T00:00:00.000000"
        },
        {
         "Close": 10.140000343322754,
         "trend_aroon_up": 28.000000000000004,
         "trend_aroon_down": 76,
         "_deepnote_index_column": "2016-05-24T00:00:00.000000"
        },
        {
         "Close": 10,
         "trend_aroon_up": 24,
         "trend_aroon_down": 72,
         "_deepnote_index_column": "2016-05-25T00:00:00.000000"
        },
        {
         "Close": 9.75,
         "trend_aroon_up": 20,
         "trend_aroon_down": 68,
         "_deepnote_index_column": "2016-05-26T00:00:00.000000"
        },
        {
         "Close": 9.630000114440918,
         "trend_aroon_up": 16,
         "trend_aroon_down": 64,
         "_deepnote_index_column": "2016-05-27T00:00:00.000000"
        },
        {
         "Close": 9.529999732971191,
         "trend_aroon_up": 12,
         "trend_aroon_down": 60,
         "_deepnote_index_column": "2016-05-31T00:00:00.000000"
        },
        {
         "Close": 9.600000381469727,
         "trend_aroon_up": 8,
         "trend_aroon_down": 56.00000000000001,
         "_deepnote_index_column": "2016-06-01T00:00:00.000000"
        },
        {
         "Close": 9.649999618530273,
         "trend_aroon_up": 4,
         "trend_aroon_down": 52,
         "_deepnote_index_column": "2016-06-02T00:00:00.000000"
        },
        {
         "Close": 9.460000038146973,
         "trend_aroon_up": 4,
         "trend_aroon_down": 48,
         "_deepnote_index_column": "2016-06-03T00:00:00.000000"
        },
        {
         "Close": 9.510000228881836,
         "trend_aroon_up": 4,
         "trend_aroon_down": 44,
         "_deepnote_index_column": "2016-06-06T00:00:00.000000"
        },
        {
         "Close": 9.569999694824219,
         "trend_aroon_up": 4,
         "trend_aroon_down": 40,
         "_deepnote_index_column": "2016-06-07T00:00:00.000000"
        },
        {
         "Close": 9.550000190734863,
         "trend_aroon_up": 4,
         "trend_aroon_down": 36,
         "_deepnote_index_column": "2016-06-08T00:00:00.000000"
        },
        {
         "Close": 9.34000015258789,
         "trend_aroon_up": 4,
         "trend_aroon_down": 32,
         "_deepnote_index_column": "2016-06-09T00:00:00.000000"
        },
        {
         "Close": 9.140000343322754,
         "trend_aroon_up": 4,
         "trend_aroon_down": 100,
         "_deepnote_index_column": "2016-06-10T00:00:00.000000"
        },
        {
         "Close": 8.920000076293945,
         "trend_aroon_up": 48,
         "trend_aroon_down": 100,
         "_deepnote_index_column": "2016-06-13T00:00:00.000000"
        },
        {
         "Close": 8.890000343322754,
         "trend_aroon_up": 44,
         "trend_aroon_down": 100,
         "_deepnote_index_column": "2016-06-14T00:00:00.000000"
        },
        {
         "Close": 9.0600004196167,
         "trend_aroon_up": 40,
         "trend_aroon_down": 96,
         "_deepnote_index_column": "2016-06-15T00:00:00.000000"
        },
        {
         "Close": 9.050000190734863,
         "trend_aroon_up": 36,
         "trend_aroon_down": 92,
         "_deepnote_index_column": "2016-06-16T00:00:00.000000"
        },
        {
         "Close": 9.039999961853027,
         "trend_aroon_up": 32,
         "trend_aroon_down": 88,
         "_deepnote_index_column": "2016-06-17T00:00:00.000000"
        },
        {
         "Close": 9.199999809265137,
         "trend_aroon_up": 28.000000000000004,
         "trend_aroon_down": 84,
         "_deepnote_index_column": "2016-06-20T00:00:00.000000"
        },
        {
         "Close": 9.350000381469727,
         "trend_aroon_up": 24,
         "trend_aroon_down": 80,
         "_deepnote_index_column": "2016-06-21T00:00:00.000000"
        },
        {
         "Close": 8.779999732971191,
         "trend_aroon_up": 20,
         "trend_aroon_down": 100,
         "_deepnote_index_column": "2016-06-22T00:00:00.000000"
        },
        {
         "Close": 9.130000114440918,
         "trend_aroon_up": 16,
         "trend_aroon_down": 96,
         "_deepnote_index_column": "2016-06-23T00:00:00.000000"
        },
        {
         "Close": 8.770000457763672,
         "trend_aroon_up": 12,
         "trend_aroon_down": 100,
         "_deepnote_index_column": "2016-06-24T00:00:00.000000"
        },
        {
         "Close": 8.619999885559082,
         "trend_aroon_up": 8,
         "trend_aroon_down": 100,
         "_deepnote_index_column": "2016-06-27T00:00:00.000000"
        },
        {
         "Close": 8.899999618530273,
         "trend_aroon_up": 4,
         "trend_aroon_down": 96,
         "_deepnote_index_column": "2016-06-28T00:00:00.000000"
        },
        {
         "Close": 9.300000190734863,
         "trend_aroon_up": 4,
         "trend_aroon_down": 92,
         "_deepnote_index_column": "2016-06-29T00:00:00.000000"
        },
        {
         "Close": 9.050000190734863,
         "trend_aroon_up": 4,
         "trend_aroon_down": 88,
         "_deepnote_index_column": "2016-06-30T00:00:00.000000"
        },
        {
         "Close": 9.270000457763672,
         "trend_aroon_up": 16,
         "trend_aroon_down": 84,
         "_deepnote_index_column": "2016-07-01T00:00:00.000000"
        },
        {
         "Close": 8.9399995803833,
         "trend_aroon_up": 12,
         "trend_aroon_down": 80,
         "_deepnote_index_column": "2016-07-05T00:00:00.000000"
        },
        {
         "Close": 9,
         "trend_aroon_up": 8,
         "trend_aroon_down": 76,
         "_deepnote_index_column": "2016-07-06T00:00:00.000000"
        },
        {
         "Close": 9.079999923706055,
         "trend_aroon_up": 4,
         "trend_aroon_down": 72,
         "_deepnote_index_column": "2016-07-07T00:00:00.000000"
        },
        {
         "Close": 9.300000190734863,
         "trend_aroon_up": 12,
         "trend_aroon_down": 68,
         "_deepnote_index_column": "2016-07-08T00:00:00.000000"
        },
        {
         "Close": 9.239999771118164,
         "trend_aroon_up": 8,
         "trend_aroon_down": 64,
         "_deepnote_index_column": "2016-07-11T00:00:00.000000"
        },
        {
         "Close": 9.399999618530273,
         "trend_aroon_up": 4,
         "trend_aroon_down": 60,
         "_deepnote_index_column": "2016-07-12T00:00:00.000000"
        },
        {
         "Close": 9.289999961853027,
         "trend_aroon_up": 4,
         "trend_aroon_down": 56.00000000000001,
         "_deepnote_index_column": "2016-07-13T00:00:00.000000"
        },
        {
         "Close": 9.369999885559082,
         "trend_aroon_up": 92,
         "trend_aroon_down": 52,
         "_deepnote_index_column": "2016-07-14T00:00:00.000000"
        },
        {
         "Close": 9.170000076293945,
         "trend_aroon_up": 88,
         "trend_aroon_down": 48,
         "_deepnote_index_column": "2016-07-15T00:00:00.000000"
        },
        {
         "Close": 9.270000457763672,
         "trend_aroon_up": 84,
         "trend_aroon_down": 44,
         "_deepnote_index_column": "2016-07-18T00:00:00.000000"
        },
        {
         "Close": 9.350000381469727,
         "trend_aroon_up": 80,
         "trend_aroon_down": 40,
         "_deepnote_index_column": "2016-07-19T00:00:00.000000"
        },
        {
         "Close": 9.579999923706055,
         "trend_aroon_up": 100,
         "trend_aroon_down": 36,
         "_deepnote_index_column": "2016-07-20T00:00:00.000000"
        },
        {
         "Close": 9.460000038146973,
         "trend_aroon_up": 96,
         "trend_aroon_down": 32,
         "_deepnote_index_column": "2016-07-21T00:00:00.000000"
        },
        {
         "Close": 9.729999542236328,
         "trend_aroon_up": 100,
         "trend_aroon_down": 28.000000000000004,
         "_deepnote_index_column": "2016-07-22T00:00:00.000000"
        },
        {
         "Close": 9.850000381469727,
         "trend_aroon_up": 100,
         "trend_aroon_down": 24,
         "_deepnote_index_column": "2016-07-25T00:00:00.000000"
        },
        {
         "Close": 10.100000381469727,
         "trend_aroon_up": 100,
         "trend_aroon_down": 20,
         "_deepnote_index_column": "2016-07-26T00:00:00.000000"
        },
        {
         "Close": 10.130000114440918,
         "trend_aroon_up": 100,
         "trend_aroon_down": 16,
         "_deepnote_index_column": "2016-07-27T00:00:00.000000"
        }
       ],
       "rows_bottom": [
        {
         "Close": 217.25,
         "trend_aroon_up": 100,
         "trend_aroon_down": 16,
         "_deepnote_index_column": "2020-12-10T00:00:00.000000"
        },
        {
         "Close": 216.58999633789062,
         "trend_aroon_up": 96,
         "trend_aroon_down": 12,
         "_deepnote_index_column": "2020-12-11T00:00:00.000000"
        },
        {
         "Close": 215.86000061035156,
         "trend_aroon_up": 92,
         "trend_aroon_down": 8,
         "_deepnote_index_column": "2020-12-14T00:00:00.000000"
        },
        {
         "Close": 219.99000549316406,
         "trend_aroon_up": 100,
         "trend_aroon_down": 4,
         "_deepnote_index_column": "2020-12-15T00:00:00.000000"
        },
        {
         "Close": 227.0800018310547,
         "trend_aroon_up": 100,
         "trend_aroon_down": 12,
         "_deepnote_index_column": "2020-12-16T00:00:00.000000"
        },
        {
         "Close": 230.74000549316406,
         "trend_aroon_up": 100,
         "trend_aroon_down": 8,
         "_deepnote_index_column": "2020-12-17T00:00:00.000000"
        },
        {
         "Close": 235.4499969482422,
         "trend_aroon_up": 100,
         "trend_aroon_down": 4,
         "_deepnote_index_column": "2020-12-18T00:00:00.000000"
        },
        {
         "Close": 233.5,
         "trend_aroon_up": 96,
         "trend_aroon_down": 4,
         "_deepnote_index_column": "2020-12-21T00:00:00.000000"
        },
        {
         "Close": 241.5800018310547,
         "trend_aroon_up": 100,
         "trend_aroon_down": 8,
         "_deepnote_index_column": "2020-12-22T00:00:00.000000"
        },
        {
         "Close": 230.67999267578125,
         "trend_aroon_up": 96,
         "trend_aroon_down": 4,
         "_deepnote_index_column": "2020-12-23T00:00:00.000000"
        },
        {
         "Close": 228.27999877929688,
         "trend_aroon_up": 92,
         "trend_aroon_down": 4,
         "_deepnote_index_column": "2020-12-24T00:00:00.000000"
        },
        {
         "Close": 223.33999633789062,
         "trend_aroon_up": 88,
         "trend_aroon_down": 4,
         "_deepnote_index_column": "2020-12-28T00:00:00.000000"
        },
        {
         "Close": 214,
         "trend_aroon_up": 84,
         "trend_aroon_down": 28.000000000000004,
         "_deepnote_index_column": "2020-12-29T00:00:00.000000"
        },
        {
         "Close": 221.0399932861328,
         "trend_aroon_up": 80,
         "trend_aroon_down": 24,
         "_deepnote_index_column": "2020-12-30T00:00:00.000000"
        },
        {
         "Close": 217.63999938964844,
         "trend_aroon_up": 76,
         "trend_aroon_down": 20,
         "_deepnote_index_column": "2020-12-31T00:00:00.000000"
        },
        {
         "Close": 221.16000366210938,
         "trend_aroon_up": 72,
         "trend_aroon_down": 16,
         "_deepnote_index_column": "2021-01-04T00:00:00.000000"
        },
        {
         "Close": 229.75,
         "trend_aroon_up": 68,
         "trend_aroon_down": 12,
         "_deepnote_index_column": "2021-01-05T00:00:00.000000"
        },
        {
         "Close": 226.88999938964844,
         "trend_aroon_up": 64,
         "trend_aroon_down": 8,
         "_deepnote_index_column": "2021-01-06T00:00:00.000000"
        },
        {
         "Close": 239.47999572753906,
         "trend_aroon_up": 60,
         "trend_aroon_down": 4,
         "_deepnote_index_column": "2021-01-07T00:00:00.000000"
        },
        {
         "Close": 241.4499969482422,
         "trend_aroon_up": 56.00000000000001,
         "trend_aroon_down": 4,
         "_deepnote_index_column": "2021-01-08T00:00:00.000000"
        },
        {
         "Close": 225.5,
         "trend_aroon_up": 52,
         "trend_aroon_down": 16,
         "_deepnote_index_column": "2021-01-11T00:00:00.000000"
        },
        {
         "Close": 227.52000427246094,
         "trend_aroon_up": 48,
         "trend_aroon_down": 12,
         "_deepnote_index_column": "2021-01-12T00:00:00.000000"
        },
        {
         "Close": 230.9199981689453,
         "trend_aroon_up": 44,
         "trend_aroon_down": 8,
         "_deepnote_index_column": "2021-01-13T00:00:00.000000"
        },
        {
         "Close": 232.7899932861328,
         "trend_aroon_up": 40,
         "trend_aroon_down": 4,
         "_deepnote_index_column": "2021-01-14T00:00:00.000000"
        },
        {
         "Close": 227.75,
         "trend_aroon_up": 36,
         "trend_aroon_down": 52,
         "_deepnote_index_column": "2021-01-15T00:00:00.000000"
        },
        {
         "Close": 227.25999450683594,
         "trend_aroon_up": 32,
         "trend_aroon_down": 48,
         "_deepnote_index_column": "2021-01-19T00:00:00.000000"
        },
        {
         "Close": 226.64999389648438,
         "trend_aroon_up": 28.000000000000004,
         "trend_aroon_down": 44,
         "_deepnote_index_column": "2021-01-20T00:00:00.000000"
        },
        {
         "Close": 219.6199951171875,
         "trend_aroon_up": 24,
         "trend_aroon_down": 40,
         "_deepnote_index_column": "2021-01-21T00:00:00.000000"
        },
        {
         "Close": 222.8800048828125,
         "trend_aroon_up": 20,
         "trend_aroon_down": 36,
         "_deepnote_index_column": "2021-01-22T00:00:00.000000"
        },
        {
         "Close": 216.63999938964844,
         "trend_aroon_up": 16,
         "trend_aroon_down": 32,
         "_deepnote_index_column": "2021-01-25T00:00:00.000000"
        },
        {
         "Close": 209.1699981689453,
         "trend_aroon_up": 12,
         "trend_aroon_down": 100,
         "_deepnote_index_column": "2021-01-26T00:00:00.000000"
        },
        {
         "Close": 202.4600067138672,
         "trend_aroon_up": 8,
         "trend_aroon_down": 100,
         "_deepnote_index_column": "2021-01-27T00:00:00.000000"
        },
        {
         "Close": 219.91000366210938,
         "trend_aroon_up": 4,
         "trend_aroon_down": 96,
         "_deepnote_index_column": "2021-01-28T00:00:00.000000"
        },
        {
         "Close": 215.9600067138672,
         "trend_aroon_up": 44,
         "trend_aroon_down": 92,
         "_deepnote_index_column": "2021-01-29T00:00:00.000000"
        },
        {
         "Close": 221.94000244140625,
         "trend_aroon_up": 40,
         "trend_aroon_down": 88,
         "_deepnote_index_column": "2021-02-01T00:00:00.000000"
        },
        {
         "Close": 227.6300048828125,
         "trend_aroon_up": 36,
         "trend_aroon_down": 84,
         "_deepnote_index_column": "2021-02-02T00:00:00.000000"
        },
        {
         "Close": 227.94000244140625,
         "trend_aroon_up": 32,
         "trend_aroon_down": 80,
         "_deepnote_index_column": "2021-02-03T00:00:00.000000"
        },
        {
         "Close": 237.72000122070312,
         "trend_aroon_up": 28.000000000000004,
         "trend_aroon_down": 76,
         "_deepnote_index_column": "2021-02-04T00:00:00.000000"
        },
        {
         "Close": 240.3800048828125,
         "trend_aroon_up": 24,
         "trend_aroon_down": 72,
         "_deepnote_index_column": "2021-02-05T00:00:00.000000"
        },
        {
         "Close": 259.9700012207031,
         "trend_aroon_up": 100,
         "trend_aroon_down": 68,
         "_deepnote_index_column": "2021-02-08T00:00:00.000000"
        },
        {
         "Close": 258.1199951171875,
         "trend_aroon_up": 96,
         "trend_aroon_down": 64,
         "_deepnote_index_column": "2021-02-09T00:00:00.000000"
        },
        {
         "Close": 257.489990234375,
         "trend_aroon_up": 92,
         "trend_aroon_down": 60,
         "_deepnote_index_column": "2021-02-10T00:00:00.000000"
        },
        {
         "Close": 265.92999267578125,
         "trend_aroon_up": 100,
         "trend_aroon_down": 56.00000000000001,
         "_deepnote_index_column": "2021-02-11T00:00:00.000000"
        },
        {
         "Close": 272.75,
         "trend_aroon_up": 100,
         "trend_aroon_down": 52,
         "_deepnote_index_column": "2021-02-12T00:00:00.000000"
        },
        {
         "Close": 276.0199890136719,
         "trend_aroon_up": 100,
         "trend_aroon_down": 48,
         "_deepnote_index_column": "2021-02-16T00:00:00.000000"
        },
        {
         "Close": 270.94000244140625,
         "trend_aroon_up": 96,
         "trend_aroon_down": 44,
         "_deepnote_index_column": "2021-02-17T00:00:00.000000"
        },
        {
         "Close": 270.8500061035156,
         "trend_aroon_up": 92,
         "trend_aroon_down": 40,
         "_deepnote_index_column": "2021-02-18T00:00:00.000000"
        },
        {
         "Close": 276.57000732421875,
         "trend_aroon_up": 100,
         "trend_aroon_down": 36,
         "_deepnote_index_column": "2021-02-19T00:00:00.000000"
        },
        {
         "Close": 268.0799865722656,
         "trend_aroon_up": 96,
         "trend_aroon_down": 32,
         "_deepnote_index_column": "2021-02-22T00:00:00.000000"
        },
        {
         "Close": 256.5899963378906,
         "trend_aroon_up": 92,
         "trend_aroon_down": 28.000000000000004,
         "_deepnote_index_column": "2021-02-23T00:00:00.000000"
        },
        {
         "Close": 237.32000732421875,
         "trend_aroon_up": 88,
         "trend_aroon_down": 24,
         "_deepnote_index_column": "2021-02-24T00:00:00.000000"
        },
        {
         "Close": 227.11000061035156,
         "trend_aroon_up": 84,
         "trend_aroon_down": 20,
         "_deepnote_index_column": "2021-02-25T00:00:00.000000"
        },
        {
         "Close": 230.02999877929688,
         "trend_aroon_up": 80,
         "trend_aroon_down": 16,
         "_deepnote_index_column": "2021-02-26T00:00:00.000000"
        },
        {
         "Close": 241,
         "trend_aroon_up": 76,
         "trend_aroon_down": 12,
         "_deepnote_index_column": "2021-03-01T00:00:00.000000"
        },
        {
         "Close": 252.1999969482422,
         "trend_aroon_up": 72,
         "trend_aroon_down": 8,
         "_deepnote_index_column": "2021-03-02T00:00:00.000000"
        },
        {
         "Close": 234.1999969482422,
         "trend_aroon_up": 68,
         "trend_aroon_down": 4,
         "_deepnote_index_column": "2021-03-03T00:00:00.000000"
        },
        {
         "Close": 218.41000366210938,
         "trend_aroon_up": 64,
         "trend_aroon_down": 8,
         "_deepnote_index_column": "2021-03-04T00:00:00.000000"
        },
        {
         "Close": 216.44000244140625,
         "trend_aroon_up": 60,
         "trend_aroon_down": 4,
         "_deepnote_index_column": "2021-03-05T00:00:00.000000"
        },
        {
         "Close": 201.8699951171875,
         "trend_aroon_up": 56.00000000000001,
         "trend_aroon_down": 100,
         "_deepnote_index_column": "2021-03-08T00:00:00.000000"
        },
        {
         "Close": 225.08999633789062,
         "trend_aroon_up": 52,
         "trend_aroon_down": 96,
         "_deepnote_index_column": "2021-03-09T00:00:00.000000"
        },
        {
         "Close": 226.72999572753906,
         "trend_aroon_up": 48,
         "trend_aroon_down": 92,
         "_deepnote_index_column": "2021-03-10T00:00:00.000000"
        },
        {
         "Close": 241.72000122070312,
         "trend_aroon_up": 44,
         "trend_aroon_down": 88,
         "_deepnote_index_column": "2021-03-11T00:00:00.000000"
        },
        {
         "Close": 242.11000061035156,
         "trend_aroon_up": 40,
         "trend_aroon_down": 84,
         "_deepnote_index_column": "2021-03-12T00:00:00.000000"
        },
        {
         "Close": 251.22999572753906,
         "trend_aroon_up": 36,
         "trend_aroon_down": 80,
         "_deepnote_index_column": "2021-03-15T00:00:00.000000"
        },
        {
         "Close": 243.36000061035156,
         "trend_aroon_up": 32,
         "trend_aroon_down": 76,
         "_deepnote_index_column": "2021-03-16T00:00:00.000000"
        },
        {
         "Close": 246.47000122070312,
         "trend_aroon_up": 28.000000000000004,
         "trend_aroon_down": 72,
         "_deepnote_index_column": "2021-03-17T00:00:00.000000"
        },
        {
         "Close": 224.3000030517578,
         "trend_aroon_up": 24,
         "trend_aroon_down": 68,
         "_deepnote_index_column": "2021-03-18T00:00:00.000000"
        },
        {
         "Close": 224.83999633789062,
         "trend_aroon_up": 20,
         "trend_aroon_down": 64,
         "_deepnote_index_column": "2021-03-19T00:00:00.000000"
        },
        {
         "Close": 226.1300048828125,
         "trend_aroon_up": 16,
         "trend_aroon_down": 60,
         "_deepnote_index_column": "2021-03-22T00:00:00.000000"
        },
        {
         "Close": 223.1999969482422,
         "trend_aroon_up": 12,
         "trend_aroon_down": 56.00000000000001,
         "_deepnote_index_column": "2021-03-23T00:00:00.000000"
        },
        {
         "Close": 213.50999450683594,
         "trend_aroon_up": 8,
         "trend_aroon_down": 52,
         "_deepnote_index_column": "2021-03-24T00:00:00.000000"
        },
        {
         "Close": 208.47000122070312,
         "trend_aroon_up": 4,
         "trend_aroon_down": 48,
         "_deepnote_index_column": "2021-03-25T00:00:00.000000"
        },
        {
         "Close": 213.60000610351562,
         "trend_aroon_up": 4,
         "trend_aroon_down": 44,
         "_deepnote_index_column": "2021-03-26T00:00:00.000000"
        },
        {
         "Close": 207.17999267578125,
         "trend_aroon_up": 4,
         "trend_aroon_down": 40,
         "_deepnote_index_column": "2021-03-29T00:00:00.000000"
        },
        {
         "Close": 212.8300018310547,
         "trend_aroon_up": 20,
         "trend_aroon_down": 36,
         "_deepnote_index_column": "2021-03-30T00:00:00.000000"
        },
        {
         "Close": 227.0500030517578,
         "trend_aroon_up": 16,
         "trend_aroon_down": 32,
         "_deepnote_index_column": "2021-03-31T00:00:00.000000"
        },
        {
         "Close": 229.50999450683594,
         "trend_aroon_up": 12,
         "trend_aroon_down": 28.000000000000004,
         "_deepnote_index_column": "2021-04-01T00:00:00.000000"
        },
        {
         "Close": 229.9499969482422,
         "trend_aroon_up": 8,
         "trend_aroon_down": 24,
         "_deepnote_index_column": "2021-04-05T00:00:00.000000"
        },
        {
         "Close": 236.5,
         "trend_aroon_up": 4,
         "trend_aroon_down": 20,
         "_deepnote_index_column": "2021-04-06T00:00:00.000000"
        },
        {
         "Close": 245.1199951171875,
         "trend_aroon_up": 36,
         "trend_aroon_down": 16,
         "_deepnote_index_column": "2021-04-07T00:00:00.000000"
        },
        {
         "Close": 258.3699951171875,
         "trend_aroon_up": 100,
         "trend_aroon_down": 12,
         "_deepnote_index_column": "2021-04-08T00:00:00.000000"
        },
        {
         "Close": 261.6499938964844,
         "trend_aroon_up": 100,
         "trend_aroon_down": 8,
         "_deepnote_index_column": "2021-04-09T00:00:00.000000"
        },
        {
         "Close": 265.20001220703125,
         "trend_aroon_up": 100,
         "trend_aroon_down": 4,
         "_deepnote_index_column": "2021-04-12T00:00:00.000000"
        },
        {
         "Close": 273.2300109863281,
         "trend_aroon_up": 100,
         "trend_aroon_down": 60,
         "_deepnote_index_column": "2021-04-13T00:00:00.000000"
        },
        {
         "Close": 258.3999938964844,
         "trend_aroon_up": 96,
         "trend_aroon_down": 56.00000000000001,
         "_deepnote_index_column": "2021-04-14T00:00:00.000000"
        },
        {
         "Close": 263.0799865722656,
         "trend_aroon_up": 92,
         "trend_aroon_down": 52,
         "_deepnote_index_column": "2021-04-15T00:00:00.000000"
        },
        {
         "Close": 256.1000061035156,
         "trend_aroon_up": 88,
         "trend_aroon_down": 48,
         "_deepnote_index_column": "2021-04-16T00:00:00.000000"
        },
        {
         "Close": 245.3300018310547,
         "trend_aroon_up": 84,
         "trend_aroon_down": 44,
         "_deepnote_index_column": "2021-04-19T00:00:00.000000"
        },
        {
         "Close": 245.5,
         "trend_aroon_up": 80,
         "trend_aroon_down": 40,
         "_deepnote_index_column": "2021-04-20T00:00:00.000000"
        },
        {
         "Close": 245.25,
         "trend_aroon_up": 76,
         "trend_aroon_down": 36,
         "_deepnote_index_column": "2021-04-21T00:00:00.000000"
        },
        {
         "Close": 245.11000061035156,
         "trend_aroon_up": 72,
         "trend_aroon_down": 32,
         "_deepnote_index_column": "2021-04-22T00:00:00.000000"
        },
        {
         "Close": 246.42999267578125,
         "trend_aroon_up": 68,
         "trend_aroon_down": 28.000000000000004,
         "_deepnote_index_column": "2021-04-23T00:00:00.000000"
        },
        {
         "Close": 255.77000427246094,
         "trend_aroon_up": 64,
         "trend_aroon_down": 24,
         "_deepnote_index_column": "2021-04-26T00:00:00.000000"
        },
        {
         "Close": 253.7899932861328,
         "trend_aroon_up": 60,
         "trend_aroon_down": 20,
         "_deepnote_index_column": "2021-04-27T00:00:00.000000"
        },
        {
         "Close": 254.1999969482422,
         "trend_aroon_up": 56.00000000000001,
         "trend_aroon_down": 16,
         "_deepnote_index_column": "2021-04-28T00:00:00.000000"
        },
        {
         "Close": 247.75999450683594,
         "trend_aroon_up": 52,
         "trend_aroon_down": 12,
         "_deepnote_index_column": "2021-04-29T00:00:00.000000"
        },
        {
         "Close": 244.82000732421875,
         "trend_aroon_up": 48,
         "trend_aroon_down": 8,
         "_deepnote_index_column": "2021-04-30T00:00:00.000000"
        },
        {
         "Close": 243.67999267578125,
         "trend_aroon_up": 44,
         "trend_aroon_down": 4,
         "_deepnote_index_column": "2021-05-03T00:00:00.000000"
        },
        {
         "Close": 231.19000244140625,
         "trend_aroon_up": 40,
         "trend_aroon_down": 4,
         "_deepnote_index_column": "2021-05-04T00:00:00.000000"
        },
        {
         "Close": 231.8699951171875,
         "trend_aroon_up": 36,
         "trend_aroon_down": 4,
         "_deepnote_index_column": "2021-05-05T00:00:00.000000"
        },
        {
         "Close": 223.9600067138672,
         "trend_aroon_up": 32,
         "trend_aroon_down": 100,
         "_deepnote_index_column": "2021-05-06T00:00:00.000000"
        },
        {
         "Close": 233.35000610351562,
         "trend_aroon_up": 28.000000000000004,
         "trend_aroon_down": 96,
         "_deepnote_index_column": "2021-05-07T00:00:00.000000"
        },
        {
         "Close": 216.42999267578125,
         "trend_aroon_up": 24,
         "trend_aroon_down": 100,
         "_deepnote_index_column": "2021-05-10T00:00:00.000000"
        },
        {
         "Close": 220.64999389648438,
         "trend_aroon_up": 20,
         "trend_aroon_down": 96,
         "_deepnote_index_column": "2021-05-11T00:00:00.000000"
        },
        {
         "Close": 206.6699981689453,
         "trend_aroon_up": 16,
         "trend_aroon_down": 100,
         "_deepnote_index_column": "2021-05-12T00:00:00.000000"
        },
        {
         "Close": 197.1300048828125,
         "trend_aroon_up": 12,
         "trend_aroon_down": 100,
         "_deepnote_index_column": "2021-05-13T00:00:00.000000"
        },
        {
         "Close": 207.85000610351562,
         "trend_aroon_up": 8,
         "trend_aroon_down": 96,
         "_deepnote_index_column": "2021-05-14T00:00:00.000000"
        },
        {
         "Close": 202.9199981689453,
         "trend_aroon_up": 4,
         "trend_aroon_down": 92,
         "_deepnote_index_column": "2021-05-17T00:00:00.000000"
        },
        {
         "Close": 203.16000366210938,
         "trend_aroon_up": 8,
         "trend_aroon_down": 88,
         "_deepnote_index_column": "2021-05-18T00:00:00.000000"
        },
        {
         "Close": 200.11000061035156,
         "trend_aroon_up": 4,
         "trend_aroon_down": 84,
         "_deepnote_index_column": "2021-05-19T00:00:00.000000"
        },
        {
         "Close": 204.91000366210938,
         "trend_aroon_up": 4,
         "trend_aroon_down": 80,
         "_deepnote_index_column": "2021-05-20T00:00:00.000000"
        },
        {
         "Close": 200.00999450683594,
         "trend_aroon_up": 24,
         "trend_aroon_down": 76,
         "_deepnote_index_column": "2021-05-21T00:00:00.000000"
        },
        {
         "Close": 210.9499969482422,
         "trend_aroon_up": 20,
         "trend_aroon_down": 72,
         "_deepnote_index_column": "2021-05-24T00:00:00.000000"
        },
        {
         "Close": 216.1999969482422,
         "trend_aroon_up": 16,
         "trend_aroon_down": 68,
         "_deepnote_index_column": "2021-05-25T00:00:00.000000"
        },
        {
         "Close": 222.33999633789062,
         "trend_aroon_up": 12,
         "trend_aroon_down": 64,
         "_deepnote_index_column": "2021-05-26T00:00:00.000000"
        },
        {
         "Close": 220.89999389648438,
         "trend_aroon_up": 8,
         "trend_aroon_down": 60,
         "_deepnote_index_column": "2021-05-27T00:00:00.000000"
        },
        {
         "Close": 222.52000427246094,
         "trend_aroon_up": 4,
         "trend_aroon_down": 56.00000000000001,
         "_deepnote_index_column": "2021-05-28T00:00:00.000000"
        },
        {
         "Close": 221.9499969482422,
         "trend_aroon_up": 8,
         "trend_aroon_down": 52,
         "_deepnote_index_column": "2021-06-01T00:00:00.000000"
        },
        {
         "Close": 220.41000366210938,
         "trend_aroon_up": 4,
         "trend_aroon_down": 48,
         "_deepnote_index_column": "2021-06-02T00:00:00.000000"
        },
        {
         "Close": 211.42999267578125,
         "trend_aroon_up": 4,
         "trend_aroon_down": 44,
         "_deepnote_index_column": "2021-06-03T00:00:00.000000"
        },
        {
         "Close": 213.69000244140625,
         "trend_aroon_up": 4,
         "trend_aroon_down": 40,
         "_deepnote_index_column": "2021-06-04T00:00:00.000000"
        },
        {
         "Close": 216.9499969482422,
         "trend_aroon_up": 4,
         "trend_aroon_down": 36,
         "_deepnote_index_column": "2021-06-07T00:00:00.000000"
        },
        {
         "Close": 214.1199951171875,
         "trend_aroon_up": 16,
         "trend_aroon_down": 32,
         "_deepnote_index_column": "2021-06-08T00:00:00.000000"
        },
        {
         "Close": 210.2100067138672,
         "trend_aroon_up": 12,
         "trend_aroon_down": 28.000000000000004,
         "_deepnote_index_column": "2021-06-09T00:00:00.000000"
        },
        {
         "Close": 217.13999938964844,
         "trend_aroon_up": 8,
         "trend_aroon_down": 24,
         "_deepnote_index_column": "2021-06-10T00:00:00.000000"
        },
        {
         "Close": 219.33999633789062,
         "trend_aroon_up": 4,
         "trend_aroon_down": 20,
         "_deepnote_index_column": "2021-06-11T00:00:00.000000"
        },
        {
         "Close": 230.9499969482422,
         "trend_aroon_up": 100,
         "trend_aroon_down": 16,
         "_deepnote_index_column": "2021-06-14T00:00:00.000000"
        },
        {
         "Close": 227.75,
         "trend_aroon_up": 96,
         "trend_aroon_down": 12,
         "_deepnote_index_column": "2021-06-15T00:00:00.000000"
        },
        {
         "Close": 225.11000061035156,
         "trend_aroon_up": 92,
         "trend_aroon_down": 8,
         "_deepnote_index_column": "2021-06-16T00:00:00.000000"
        },
        {
         "Close": 236.1300048828125,
         "trend_aroon_up": 100,
         "trend_aroon_down": 4,
         "_deepnote_index_column": "2021-06-17T00:00:00.000000"
        },
        {
         "Close": 237.0500030517578,
         "trend_aroon_up": 100,
         "trend_aroon_down": 24,
         "_deepnote_index_column": "2021-06-18T00:00:00.000000"
        },
        {
         "Close": 233.88999938964844,
         "trend_aroon_up": 96,
         "trend_aroon_down": 20,
         "_deepnote_index_column": "2021-06-21T00:00:00.000000"
        },
        {
         "Close": 235.97000122070312,
         "trend_aroon_up": 92,
         "trend_aroon_down": 16,
         "_deepnote_index_column": "2021-06-22T00:00:00.000000"
        },
        {
         "Close": 238.6999969482422,
         "trend_aroon_up": 100,
         "trend_aroon_down": 12,
         "_deepnote_index_column": "2021-06-23T00:00:00.000000"
        },
        {
         "Close": 244.14999389648438,
         "trend_aroon_up": 100,
         "trend_aroon_down": 8,
         "_deepnote_index_column": "2021-06-24T00:00:00.000000"
        },
        {
         "Close": 239.94000244140625,
         "trend_aroon_up": 96,
         "trend_aroon_down": 4,
         "_deepnote_index_column": "2021-06-25T00:00:00.000000"
        },
        {
         "Close": 246.60000610351562,
         "trend_aroon_up": 100,
         "trend_aroon_down": 48,
         "_deepnote_index_column": "2021-06-28T00:00:00.000000"
        },
        {
         "Close": 248.8699951171875,
         "trend_aroon_up": 100,
         "trend_aroon_down": 44,
         "_deepnote_index_column": "2021-06-29T00:00:00.000000"
        },
        {
         "Close": 243.8000030517578,
         "trend_aroon_up": 96,
         "trend_aroon_down": 40,
         "_deepnote_index_column": "2021-06-30T00:00:00.000000"
        },
        {
         "Close": 241.85000610351562,
         "trend_aroon_up": 92,
         "trend_aroon_down": 36,
         "_deepnote_index_column": "2021-07-01T00:00:00.000000"
        },
        {
         "Close": 241.0800018310547,
         "trend_aroon_up": 88,
         "trend_aroon_down": 32,
         "_deepnote_index_column": "2021-07-02T00:00:00.000000"
        },
        {
         "Close": 246.6999969482422,
         "trend_aroon_up": 84,
         "trend_aroon_down": 28.000000000000004,
         "_deepnote_index_column": "2021-07-06T00:00:00.000000"
        },
        {
         "Close": 244.63999938964844,
         "trend_aroon_up": 80,
         "trend_aroon_down": 24,
         "_deepnote_index_column": "2021-07-07T00:00:00.000000"
        },
        {
         "Close": 235.89999389648438,
         "trend_aroon_up": 76,
         "trend_aroon_down": 20,
         "_deepnote_index_column": "2021-07-08T00:00:00.000000"
        },
        {
         "Close": 241.88999938964844,
         "trend_aroon_up": 72,
         "trend_aroon_down": 16,
         "_deepnote_index_column": "2021-07-09T00:00:00.000000"
        },
        {
         "Close": 243.35000610351562,
         "trend_aroon_up": 68,
         "trend_aroon_down": 12,
         "_deepnote_index_column": "2021-07-12T00:00:00.000000"
        },
        {
         "Close": 241.42999267578125,
         "trend_aroon_up": 64,
         "trend_aroon_down": 8,
         "_deepnote_index_column": "2021-07-13T00:00:00.000000"
        },
        {
         "Close": 239,
         "trend_aroon_up": 60,
         "trend_aroon_down": 4,
         "_deepnote_index_column": "2021-07-14T00:00:00.000000"
        },
        {
         "Close": 235.16000366210938,
         "trend_aroon_up": 56.00000000000001,
         "trend_aroon_down": 4,
         "_deepnote_index_column": "2021-07-15T00:00:00.000000"
        },
        {
         "Close": 237.52000427246094,
         "trend_aroon_up": 52,
         "trend_aroon_down": 4,
         "_deepnote_index_column": "2021-07-16T00:00:00.000000"
        },
        {
         "Close": 233.69000244140625,
         "trend_aroon_up": 48,
         "trend_aroon_down": 12,
         "_deepnote_index_column": "2021-07-19T00:00:00.000000"
        },
        {
         "Close": 246.47000122070312,
         "trend_aroon_up": 44,
         "trend_aroon_down": 8,
         "_deepnote_index_column": "2021-07-20T00:00:00.000000"
        },
        {
         "Close": 257.25,
         "trend_aroon_up": 100,
         "trend_aroon_down": 4,
         "_deepnote_index_column": "2021-07-21T00:00:00.000000"
        },
        {
         "Close": 260.5899963378906,
         "trend_aroon_up": 100,
         "trend_aroon_down": 88,
         "_deepnote_index_column": "2021-07-22T00:00:00.000000"
        },
        {
         "Close": 264,
         "trend_aroon_up": 100,
         "trend_aroon_down": 84,
         "_deepnote_index_column": "2021-07-23T00:00:00.000000"
        },
        {
         "Close": 261.989990234375,
         "trend_aroon_up": 96,
         "trend_aroon_down": 80,
         "_deepnote_index_column": "2021-07-26T00:00:00.000000"
        },
        {
         "Close": 251.72999572753906,
         "trend_aroon_up": 92,
         "trend_aroon_down": 76,
         "_deepnote_index_column": "2021-07-27T00:00:00.000000"
        },
        {
         "Close": 258.6099853515625,
         "trend_aroon_up": 88,
         "trend_aroon_down": 72,
         "_deepnote_index_column": "2021-07-28T00:00:00.000000"
        },
        {
         "Close": 255.27999877929688,
         "trend_aroon_up": 84,
         "trend_aroon_down": 68,
         "_deepnote_index_column": "2021-07-29T00:00:00.000000"
        },
        {
         "Close": 247.25999450683594,
         "trend_aroon_up": 80,
         "trend_aroon_down": 64,
         "_deepnote_index_column": "2021-07-30T00:00:00.000000"
        },
        {
         "Close": 272.3800048828125,
         "trend_aroon_up": 100,
         "trend_aroon_down": 60,
         "_deepnote_index_column": "2021-08-02T00:00:00.000000"
        },
        {
         "Close": 269.489990234375,
         "trend_aroon_up": 96,
         "trend_aroon_down": 56.00000000000001,
         "_deepnote_index_column": "2021-08-03T00:00:00.000000"
        },
        {
         "Close": 266.4200134277344,
         "trend_aroon_up": 92,
         "trend_aroon_down": 52,
         "_deepnote_index_column": "2021-08-04T00:00:00.000000"
        },
        {
         "Close": 281.80999755859375,
         "trend_aroon_up": 100,
         "trend_aroon_down": 48,
         "_deepnote_index_column": "2021-08-05T00:00:00.000000"
        },
        {
         "Close": 275.1000061035156,
         "trend_aroon_up": 96,
         "trend_aroon_down": 44,
         "_deepnote_index_column": "2021-08-06T00:00:00.000000"
        },
        {
         "Close": 279.7300109863281,
         "trend_aroon_up": 92,
         "trend_aroon_down": 40,
         "_deepnote_index_column": "2021-08-09T00:00:00.000000"
        },
        {
         "Close": 273.0799865722656,
         "trend_aroon_up": 88,
         "trend_aroon_down": 36,
         "_deepnote_index_column": "2021-08-10T00:00:00.000000"
        }
       ]
      },
      "text/plain": "                 Close  trend_aroon_up  trend_aroon_down\nDate                                                    \n2015-11-30   12.040000             NaN               NaN\n2015-12-01   11.910000             NaN               NaN\n2015-12-02   11.930000             NaN               NaN\n2015-12-03   11.920000             NaN               NaN\n2015-12-04   12.040000             NaN               NaN\n...                ...             ...               ...\n2021-08-04  266.420013            92.0              52.0\n2021-08-05  281.809998           100.0              48.0\n2021-08-06  275.100006            96.0              44.0\n2021-08-09  279.730011            92.0              40.0\n2021-08-10  273.079987            88.0              36.0\n\n[1434 rows x 3 columns]",
      "text/html": "<div>\n<style scoped>\n    .dataframe tbody tr th:only-of-type {\n        vertical-align: middle;\n    }\n\n    .dataframe tbody tr th {\n        vertical-align: top;\n    }\n\n    .dataframe thead th {\n        text-align: right;\n    }\n</style>\n<table border=\"1\" class=\"dataframe\">\n  <thead>\n    <tr style=\"text-align: right;\">\n      <th></th>\n      <th>Close</th>\n      <th>trend_aroon_up</th>\n      <th>trend_aroon_down</th>\n    </tr>\n    <tr>\n      <th>Date</th>\n      <th></th>\n      <th></th>\n      <th></th>\n    </tr>\n  </thead>\n  <tbody>\n    <tr>\n      <th>2015-11-30</th>\n      <td>12.040000</td>\n      <td>NaN</td>\n      <td>NaN</td>\n    </tr>\n    <tr>\n      <th>2015-12-01</th>\n      <td>11.910000</td>\n      <td>NaN</td>\n      <td>NaN</td>\n    </tr>\n    <tr>\n      <th>2015-12-02</th>\n      <td>11.930000</td>\n      <td>NaN</td>\n      <td>NaN</td>\n    </tr>\n    <tr>\n      <th>2015-12-03</th>\n      <td>11.920000</td>\n      <td>NaN</td>\n      <td>NaN</td>\n    </tr>\n    <tr>\n      <th>2015-12-04</th>\n      <td>12.040000</td>\n      <td>NaN</td>\n      <td>NaN</td>\n    </tr>\n    <tr>\n      <th>...</th>\n      <td>...</td>\n      <td>...</td>\n      <td>...</td>\n    </tr>\n    <tr>\n      <th>2021-08-04</th>\n      <td>266.420013</td>\n      <td>92.0</td>\n      <td>52.0</td>\n    </tr>\n    <tr>\n      <th>2021-08-05</th>\n      <td>281.809998</td>\n      <td>100.0</td>\n      <td>48.0</td>\n    </tr>\n    <tr>\n      <th>2021-08-06</th>\n      <td>275.100006</td>\n      <td>96.0</td>\n      <td>44.0</td>\n    </tr>\n    <tr>\n      <th>2021-08-09</th>\n      <td>279.730011</td>\n      <td>92.0</td>\n      <td>40.0</td>\n    </tr>\n    <tr>\n      <th>2021-08-10</th>\n      <td>273.079987</td>\n      <td>88.0</td>\n      <td>36.0</td>\n    </tr>\n  </tbody>\n</table>\n<p>1434 rows × 3 columns</p>\n</div>"
     },
     "metadata": {}
    }
   ],
   "execution_count": null
  },
  {
   "cell_type": "code",
   "metadata": {
    "tags": [],
    "deepnote_to_be_reexecuted": false,
    "source_hash": "bfbfecce",
    "execution_start": 1629252733852,
    "execution_millis": 2394,
    "cell_id": "00002-2509098e-fd3c-4d47-a1d8-549da2606e05",
    "deepnote_cell_type": "code"
   },
   "source": "# PLOTTING SQ CLOSE PRICE VS AROON 25\n\ndf = get_aroon('SQ','2019-09-01')\n\nax1 = plt.subplot2grid((11,1), (0,0), rowspan = 5, colspan = 1)\nax2 = plt.subplot2grid((11,1), (6,0), rowspan = 4, colspan = 1)\nax1.plot(df['Close'], linewidth = 2.5, color = '#2196f3')\nax1.set_title('SQ CLOSE PRICES')\nax2.plot(df['trend_aroon_up'], color = '#26a69a', linewidth = 2, label = 'AROON UP')\nax2.plot(df['trend_aroon_down'], color = '#ef5350', linewidth = 2, label = 'AROON DOWN')\nax2.legend()\nax2.set_title('SQ AROON 25')\nplt.show()",
   "outputs": [
    {
     "name": "stdout",
     "text": "[*********************100%***********************]  1 of 1 completed\n/root/venv/lib/python3.7/site-packages/ta/trend.py:768: RuntimeWarning: invalid value encountered in double_scalars\n  dip[i] = 100 * (self._dip[i] / self._trs[i])\n/root/venv/lib/python3.7/site-packages/ta/trend.py:772: RuntimeWarning: invalid value encountered in double_scalars\n  din[i] = 100 * (self._din[i] / self._trs[i])\n",
     "output_type": "stream"
    },
    {
     "data": {
      "text/plain": "<Figure size 1440x720 with 2 Axes>",
      "image/png": "[encoded data removed]"
     },
     "metadata": {
      "image/png": {
       "width": 1297,
       "height": 582
      }
     },
     "output_type": "display_data"
    }
   ],
   "execution_count": null
  },
  {
   "cell_type": "code",
   "metadata": {
    "tags": [],
    "deepnote_to_be_reexecuted": false,
    "source_hash": "555a9342",
    "execution_start": 1629252736252,
    "execution_millis": 1607,
    "cell_id": "00003-6fa3a351-b262-4b1e-bd37-a4fdbfa2ad8b",
    "deepnote_cell_type": "code"
   },
   "source": "# TRADE STRATEGY BASED ON AROON 25\n\ndf = get_aroon('SQ','2017-09-01')\n\ndef implement_aroon_strategy(prices, up, down):\n    buy_price = []\n    sell_price = []\n    aroon_signal = []\n    signal = 0\n    \n    for i in range(len(prices)):\n        if up[i] >= 70 and down[i] <= 30:\n            if signal != 1:\n                buy_price.append(prices[i])\n                sell_price.append(np.nan)\n                signal = 1\n                aroon_signal.append(signal)\n            else:\n                buy_price.append(np.nan)\n                sell_price.append(np.nan)\n                aroon_signal.append(0)\n        elif up[i] <= 30 and down[i] >= 70:\n            if signal != -1:\n                buy_price.append(np.nan)\n                sell_price.append(prices[i])\n                signal = -1\n                aroon_signal.append(signal)\n            else:\n                buy_price.append(np.nan)\n                sell_price.append(np.nan)\n                aroon_signal.append(0)\n        else:\n            buy_price.append(np.nan)\n            sell_price.append(np.nan)\n            aroon_signal.append(0)\n            \n    return buy_price, sell_price, aroon_signal\n\nbuy_price, sell_price, aroon_signal = implement_aroon_strategy(df['Close'], df['trend_aroon_up'], df['trend_aroon_down'])",
   "outputs": [
    {
     "name": "stdout",
     "text": "[*********************100%***********************]  1 of 1 completed\n/root/venv/lib/python3.7/site-packages/ta/trend.py:768: RuntimeWarning: invalid value encountered in double_scalars\n  dip[i] = 100 * (self._dip[i] / self._trs[i])\n/root/venv/lib/python3.7/site-packages/ta/trend.py:772: RuntimeWarning: invalid value encountered in double_scalars\n  din[i] = 100 * (self._din[i] / self._trs[i])\n",
     "output_type": "stream"
    }
   ],
   "execution_count": null
  },
  {
   "cell_type": "code",
   "metadata": {
    "tags": [],
    "deepnote_to_be_reexecuted": false,
    "source_hash": "78eef1ce",
    "execution_start": 1629252737873,
    "execution_millis": 2636,
    "cell_id": "00004-4d4f7f25-f104-4068-bbb2-f707f7d6ab61",
    "deepnote_cell_type": "code"
   },
   "source": "# PLOTTING TRADE SIGNALS FOR SQ AROON 25 STRATEGY\ndf = get_aroon('SQ','2017-09-01')\n\nax1 = plt.subplot2grid((11,1), (0,0), rowspan = 5, colspan = 1)\nax2 = plt.subplot2grid((11,1), (6,0), rowspan = 4, colspan = 1)\nax1.plot(df['Close'], linewidth = 2.5, color = '#2196f3')\nax1.plot(df.index, buy_price, marker = '^', color = '#26a69a', markersize = 12)\nax1.plot(df.index, sell_price, marker = 'v', color = '#ef5350', markersize = 12)\nax1.set_title('SQ CLOSE PRICES')\nax2.plot(df['trend_aroon_up'], color = '#26a69a', linewidth = 2, label = 'AROON UP')\nax2.plot(df['trend_aroon_down'], color = '#ef5350', linewidth = 2, label = 'AROON DOWN')\nax2.legend()\nax2.set_title('SQ AROON 25')\nplt.show()",
   "outputs": [
    {
     "name": "stdout",
     "text": "[*********************100%***********************]  1 of 1 completed\n/root/venv/lib/python3.7/site-packages/ta/trend.py:768: RuntimeWarning: invalid value encountered in double_scalars\n  dip[i] = 100 * (self._dip[i] / self._trs[i])\n/root/venv/lib/python3.7/site-packages/ta/trend.py:772: RuntimeWarning: invalid value encountered in double_scalars\n  din[i] = 100 * (self._din[i] / self._trs[i])\n",
     "output_type": "stream"
    },
    {
     "data": {
      "text/plain": "<Figure size 1440x720 with 2 Axes>",
      "image/png": "[encoded data removed]"
     },
     "metadata": {
      "image/png": {
       "width": 1297,
       "height": 582
      }
     },
     "output_type": "display_data"
    }
   ],
   "execution_count": null
  },
  {
   "cell_type": "code",
   "metadata": {
    "tags": [],
    "deepnote_to_be_reexecuted": false,
    "source_hash": "b623e53d",
    "execution_start": 1629252740510,
    "execution_millis": 8,
    "cell_id": "00005-ebc4faa8-9ad5-4b9d-b1f9-76162d08ff76",
    "deepnote_cell_type": "code"
   },
   "source": "",
   "outputs": [],
   "execution_count": null
  },
  {
   "cell_type": "code",
   "metadata": {
    "tags": [],
    "deepnote_to_be_reexecuted": false,
    "source_hash": "9ef40cf",
    "execution_start": 1629252740522,
    "execution_millis": 1286,
    "cell_id": "00006-fee70443-1cda-4872-a821-ab2aee18a431",
    "deepnote_cell_type": "code"
   },
   "source": "# CREATING POSITION FOR SQ BASED ON AROON 25 SIGNALS\nposition = []\n\ndf = get_aroon('SQ', '2017-09-01')\n\nfor i in range(len(aroon_signal)):\n    if aroon_signal[i] > 1:\n        position.append(0)\n    else:\n        position.append(1)\n        \nfor i in range(len(df['Close'])):\n    if aroon_signal[i] == 1:\n        position[i] = 1\n    elif aroon_signal[i] == -1:\n        position[i] = 0\n    else:\n        position[i] = position[i-1]\n        \naroon_up = df['trend_aroon_up']\naroon_down = df['trend_aroon_down']\nclose_price = df['Close']\naroon_signal = pd.DataFrame(aroon_signal).rename(columns = {0:'aroon_signal'}).set_index(df.index)\nposition = pd.DataFrame(position).rename(columns = {0:'aroon_position'}).set_index(df.index)\n\nframes = [close_price, aroon_up, aroon_down, aroon_signal, position]\nstrategy = pd.concat(frames, join = 'inner', axis = 1)\n\nstrategy",
   "outputs": [
    {
     "name": "stdout",
     "text": "[*********************100%***********************]  1 of 1 completed\n/root/venv/lib/python3.7/site-packages/ta/trend.py:768: RuntimeWarning: invalid value encountered in double_scalars\n  dip[i] = 100 * (self._dip[i] / self._trs[i])\n/root/venv/lib/python3.7/site-packages/ta/trend.py:772: RuntimeWarning: invalid value encountered in double_scalars\n  din[i] = 100 * (self._din[i] / self._trs[i])\n",
     "output_type": "stream"
    },
    {
     "output_type": "execute_result",
     "execution_count": 6,
     "data": {
      "application/vnd.deepnote.dataframe.v2+json": {
       "row_count": 1434,
       "column_count": 5,
       "columns": [
        {
         "name": "Close",
         "dtype": "float64",
         "stats": {
          "unique_count": 1294,
          "nan_count": 0,
          "min": "8.369999885559082",
          "max": "281.80999755859375",
          "histogram": [
           {
            "bin_start": 8.369999885559082,
            "bin_end": 35.71399965286255,
            "count": 488
           },
           {
            "bin_start": 35.71399965286255,
            "bin_end": 63.05799942016601,
            "count": 279
           },
           {
            "bin_start": 63.05799942016601,
            "bin_end": 90.40199918746947,
            "count": 360
           },
           {
            "bin_start": 90.40199918746947,
            "bin_end": 117.74599895477294,
            "count": 29
           },
           {
            "bin_start": 117.74599895477294,
            "bin_end": 145.08999872207642,
            "count": 33
           },
           {
            "bin_start": 145.08999872207642,
            "bin_end": 172.43399848937986,
            "count": 40
           },
           {
            "bin_start": 172.43399848937986,
            "bin_end": 199.77799825668333,
            "count": 27
           },
           {
            "bin_start": 199.77799825668333,
            "bin_end": 227.1219980239868,
            "count": 74
           },
           {
            "bin_start": 227.1219980239868,
            "bin_end": 254.46599779129028,
            "count": 72
           },
           {
            "bin_start": 254.46599779129028,
            "bin_end": 281.80999755859375,
            "count": 32
           }
          ]
         }
        },
        {
         "name": "trend_aroon_up",
         "dtype": "float64",
         "stats": {
          "unique_count": 25,
          "nan_count": 24,
          "min": "4.0",
          "max": "100.0",
          "histogram": [
           {
            "bin_start": 4,
            "bin_end": 13.6,
            "count": 190
           },
           {
            "bin_start": 13.6,
            "bin_end": 23.2,
            "count": 83
           },
           {
            "bin_start": 23.2,
            "bin_end": 32.8,
            "count": 103
           },
           {
            "bin_start": 32.8,
            "bin_end": 42.4,
            "count": 69
           },
           {
            "bin_start": 42.4,
            "bin_end": 52,
            "count": 62
           },
           {
            "bin_start": 52,
            "bin_end": 61.599999999999994,
            "count": 89
           },
           {
            "bin_start": 61.599999999999994,
            "bin_end": 71.2,
            "count": 70
           },
           {
            "bin_start": 71.2,
            "bin_end": 80.8,
            "count": 136
           },
           {
            "bin_start": 80.8,
            "bin_end": 90.39999999999999,
            "count": 128
           },
           {
            "bin_start": 90.39999999999999,
            "bin_end": 100,
            "count": 480
           }
          ]
         }
        },
        {
         "name": "trend_aroon_down",
         "dtype": "float64",
         "stats": {
          "unique_count": 25,
          "nan_count": 24,
          "min": "4.0",
          "max": "100.0",
          "histogram": [
           {
            "bin_start": 4,
            "bin_end": 13.6,
            "count": 478
           },
           {
            "bin_start": 13.6,
            "bin_end": 23.2,
            "count": 123
           },
           {
            "bin_start": 23.2,
            "bin_end": 32.8,
            "count": 122
           },
           {
            "bin_start": 32.8,
            "bin_end": 42.4,
            "count": 67
           },
           {
            "bin_start": 42.4,
            "bin_end": 52,
            "count": 68
           },
           {
            "bin_start": 52,
            "bin_end": 61.599999999999994,
            "count": 109
           },
           {
            "bin_start": 61.599999999999994,
            "bin_end": 71.2,
            "count": 74
           },
           {
            "bin_start": 71.2,
            "bin_end": 80.8,
            "count": 106
           },
           {
            "bin_start": 80.8,
            "bin_end": 90.39999999999999,
            "count": 79
           },
           {
            "bin_start": 90.39999999999999,
            "bin_end": 100,
            "count": 184
           }
          ]
         }
        },
        {
         "name": "aroon_signal",
         "dtype": "int64",
         "stats": {
          "unique_count": 3,
          "nan_count": 0,
          "min": "-1",
          "max": "1",
          "histogram": [
           {
            "bin_start": -1,
            "bin_end": -0.8,
            "count": 16
           },
           {
            "bin_start": -0.8,
            "bin_end": -0.6,
            "count": 0
           },
           {
            "bin_start": -0.6,
            "bin_end": -0.3999999999999999,
            "count": 0
           },
           {
            "bin_start": -0.3999999999999999,
            "bin_end": -0.19999999999999996,
            "count": 0
           },
           {
            "bin_start": -0.19999999999999996,
            "bin_end": 0,
            "count": 0
           },
           {
            "bin_start": 0,
            "bin_end": 0.20000000000000018,
            "count": 1402
           },
           {
            "bin_start": 0.20000000000000018,
            "bin_end": 0.40000000000000013,
            "count": 0
           },
           {
            "bin_start": 0.40000000000000013,
            "bin_end": 0.6000000000000001,
            "count": 0
           },
           {
            "bin_start": 0.6000000000000001,
            "bin_end": 0.8,
            "count": 0
           },
           {
            "bin_start": 0.8,
            "bin_end": 1,
            "count": 16
           }
          ]
         }
        },
        {
         "name": "aroon_position",
         "dtype": "int64",
         "stats": {
          "unique_count": 2,
          "nan_count": 0,
          "min": "0",
          "max": "1",
          "histogram": [
           {
            "bin_start": 0,
            "bin_end": 0.1,
            "count": 520
           },
           {
            "bin_start": 0.1,
            "bin_end": 0.2,
            "count": 0
           },
           {
            "bin_start": 0.2,
            "bin_end": 0.30000000000000004,
            "count": 0
           },
           {
            "bin_start": 0.30000000000000004,
            "bin_end": 0.4,
            "count": 0
           },
           {
            "bin_start": 0.4,
            "bin_end": 0.5,
            "count": 0
           },
           {
            "bin_start": 0.5,
            "bin_end": 0.6000000000000001,
            "count": 0
           },
           {
            "bin_start": 0.6000000000000001,
            "bin_end": 0.7000000000000001,
            "count": 0
           },
           {
            "bin_start": 0.7000000000000001,
            "bin_end": 0.8,
            "count": 0
           },
           {
            "bin_start": 0.8,
            "bin_end": 0.9,
            "count": 0
           },
           {
            "bin_start": 0.9,
            "bin_end": 1,
            "count": 914
           }
          ]
         }
        },
        {
         "name": "_deepnote_index_column",
         "dtype": "datetime64[ns]"
        }
       ],
       "rows_top": [
        {
         "Close": 12.039999961853027,
         "trend_aroon_up": "nan",
         "trend_aroon_down": "nan",
         "aroon_signal": 0,
         "aroon_position": 1,
         "_deepnote_index_column": "2015-11-30T00:00:00.000000"
        },
        {
         "Close": 11.90999984741211,
         "trend_aroon_up": "nan",
         "trend_aroon_down": "nan",
         "aroon_signal": 0,
         "aroon_position": 1,
         "_deepnote_index_column": "2015-12-01T00:00:00.000000"
        },
        {
         "Close": 11.930000305175781,
         "trend_aroon_up": "nan",
         "trend_aroon_down": "nan",
         "aroon_signal": 0,
         "aroon_position": 1,
         "_deepnote_index_column": "2015-12-02T00:00:00.000000"
        },
        {
         "Close": 11.920000076293945,
         "trend_aroon_up": "nan",
         "trend_aroon_down": "nan",
         "aroon_signal": 0,
         "aroon_position": 1,
         "_deepnote_index_column": "2015-12-03T00:00:00.000000"
        },
        {
         "Close": 12.039999961853027,
         "trend_aroon_up": "nan",
         "trend_aroon_down": "nan",
         "aroon_signal": 0,
         "aroon_position": 1,
         "_deepnote_index_column": "2015-12-04T00:00:00.000000"
        },
        {
         "Close": 12.359999656677246,
         "trend_aroon_up": "nan",
         "trend_aroon_down": "nan",
         "aroon_signal": 0,
         "aroon_position": 1,
         "_deepnote_index_column": "2015-12-07T00:00:00.000000"
        },
        {
         "Close": 12.119999885559082,
         "trend_aroon_up": "nan",
         "trend_aroon_down": "nan",
         "aroon_signal": 0,
         "aroon_position": 1,
         "_deepnote_index_column": "2015-12-08T00:00:00.000000"
        },
        {
         "Close": 11.989999771118164,
         "trend_aroon_up": "nan",
         "trend_aroon_down": "nan",
         "aroon_signal": 0,
         "aroon_position": 1,
         "_deepnote_index_column": "2015-12-09T00:00:00.000000"
        },
        {
         "Close": 12.050000190734863,
         "trend_aroon_up": "nan",
         "trend_aroon_down": "nan",
         "aroon_signal": 0,
         "aroon_position": 1,
         "_deepnote_index_column": "2015-12-10T00:00:00.000000"
        },
        {
         "Close": 11.949999809265137,
         "trend_aroon_up": "nan",
         "trend_aroon_down": "nan",
         "aroon_signal": 0,
         "aroon_position": 1,
         "_deepnote_index_column": "2015-12-11T00:00:00.000000"
        },
        {
         "Close": 12.329999923706055,
         "trend_aroon_up": "nan",
         "trend_aroon_down": "nan",
         "aroon_signal": 0,
         "aroon_position": 1,
         "_deepnote_index_column": "2015-12-14T00:00:00.000000"
        },
        {
         "Close": 12.470000267028809,
         "trend_aroon_up": "nan",
         "trend_aroon_down": "nan",
         "aroon_signal": 0,
         "aroon_position": 1,
         "_deepnote_index_column": "2015-12-15T00:00:00.000000"
        },
        {
         "Close": 12.270000457763672,
         "trend_aroon_up": "nan",
         "trend_aroon_down": "nan",
         "aroon_signal": 0,
         "aroon_position": 1,
         "_deepnote_index_column": "2015-12-16T00:00:00.000000"
        },
        {
         "Close": 12.319999694824219,
         "trend_aroon_up": "nan",
         "trend_aroon_down": "nan",
         "aroon_signal": 0,
         "aroon_position": 1,
         "_deepnote_index_column": "2015-12-17T00:00:00.000000"
        },
        {
         "Close": 12.34000015258789,
         "trend_aroon_up": "nan",
         "trend_aroon_down": "nan",
         "aroon_signal": 0,
         "aroon_position": 1,
         "_deepnote_index_column": "2015-12-18T00:00:00.000000"
        },
        {
         "Close": 12.239999771118164,
         "trend_aroon_up": "nan",
         "trend_aroon_down": "nan",
         "aroon_signal": 0,
         "aroon_position": 1,
         "_deepnote_index_column": "2015-12-21T00:00:00.000000"
        },
        {
         "Close": 12.460000038146973,
         "trend_aroon_up": "nan",
         "trend_aroon_down": "nan",
         "aroon_signal": 0,
         "aroon_position": 1,
         "_deepnote_index_column": "2015-12-22T00:00:00.000000"
        },
        {
         "Close": 12.5,
         "trend_aroon_up": "nan",
         "trend_aroon_down": "nan",
         "aroon_signal": 0,
         "aroon_position": 1,
         "_deepnote_index_column": "2015-12-23T00:00:00.000000"
        },
        {
         "Close": 12.600000381469727,
         "trend_aroon_up": "nan",
         "trend_aroon_down": "nan",
         "aroon_signal": 0,
         "aroon_position": 1,
         "_deepnote_index_column": "2015-12-24T00:00:00.000000"
        },
        {
         "Close": 12.829999923706055,
         "trend_aroon_up": "nan",
         "trend_aroon_down": "nan",
         "aroon_signal": 0,
         "aroon_position": 1,
         "_deepnote_index_column": "2015-12-28T00:00:00.000000"
        },
        {
         "Close": 12.739999771118164,
         "trend_aroon_up": "nan",
         "trend_aroon_down": "nan",
         "aroon_signal": 0,
         "aroon_position": 1,
         "_deepnote_index_column": "2015-12-29T00:00:00.000000"
        },
        {
         "Close": 12.779999732971191,
         "trend_aroon_up": "nan",
         "trend_aroon_down": "nan",
         "aroon_signal": 0,
         "aroon_position": 1,
         "_deepnote_index_column": "2015-12-30T00:00:00.000000"
        },
        {
         "Close": 13.09000015258789,
         "trend_aroon_up": "nan",
         "trend_aroon_down": "nan",
         "aroon_signal": 0,
         "aroon_position": 1,
         "_deepnote_index_column": "2015-12-31T00:00:00.000000"
        },
        {
         "Close": 12.15999984741211,
         "trend_aroon_up": "nan",
         "trend_aroon_down": "nan",
         "aroon_signal": 0,
         "aroon_position": 1,
         "_deepnote_index_column": "2016-01-04T00:00:00.000000"
        },
        {
         "Close": 11.510000228881836,
         "trend_aroon_up": 92,
         "trend_aroon_down": 100,
         "aroon_signal": 0,
         "aroon_position": 1,
         "_deepnote_index_column": "2016-01-05T00:00:00.000000"
        },
        {
         "Close": 11.520000457763672,
         "trend_aroon_up": 88,
         "trend_aroon_down": 96,
         "aroon_signal": 0,
         "aroon_position": 1,
         "_deepnote_index_column": "2016-01-06T00:00:00.000000"
        },
        {
         "Close": 11.15999984741211,
         "trend_aroon_up": 84,
         "trend_aroon_down": 100,
         "aroon_signal": 0,
         "aroon_position": 1,
         "_deepnote_index_column": "2016-01-07T00:00:00.000000"
        },
        {
         "Close": 11.3100004196167,
         "trend_aroon_up": 80,
         "trend_aroon_down": 96,
         "aroon_signal": 0,
         "aroon_position": 1,
         "_deepnote_index_column": "2016-01-08T00:00:00.000000"
        },
        {
         "Close": 11.84000015258789,
         "trend_aroon_up": 76,
         "trend_aroon_down": 92,
         "aroon_signal": 0,
         "aroon_position": 1,
         "_deepnote_index_column": "2016-01-11T00:00:00.000000"
        },
        {
         "Close": 12.09000015258789,
         "trend_aroon_up": 72,
         "trend_aroon_down": 88,
         "aroon_signal": 0,
         "aroon_position": 1,
         "_deepnote_index_column": "2016-01-12T00:00:00.000000"
        },
        {
         "Close": 11.609999656677246,
         "trend_aroon_up": 68,
         "trend_aroon_down": 84,
         "aroon_signal": 0,
         "aroon_position": 1,
         "_deepnote_index_column": "2016-01-13T00:00:00.000000"
        },
        {
         "Close": 10.819999694824219,
         "trend_aroon_up": 64,
         "trend_aroon_down": 100,
         "aroon_signal": 0,
         "aroon_position": 1,
         "_deepnote_index_column": "2016-01-14T00:00:00.000000"
        },
        {
         "Close": 10.270000457763672,
         "trend_aroon_up": 60,
         "trend_aroon_down": 100,
         "aroon_signal": 0,
         "aroon_position": 1,
         "_deepnote_index_column": "2016-01-15T00:00:00.000000"
        },
        {
         "Close": 9.470000267028809,
         "trend_aroon_up": 56.00000000000001,
         "trend_aroon_down": 100,
         "aroon_signal": 0,
         "aroon_position": 1,
         "_deepnote_index_column": "2016-01-19T00:00:00.000000"
        },
        {
         "Close": 9.489999771118164,
         "trend_aroon_up": 52,
         "trend_aroon_down": 96,
         "aroon_signal": 0,
         "aroon_position": 1,
         "_deepnote_index_column": "2016-01-20T00:00:00.000000"
        },
        {
         "Close": 10.020000457763672,
         "trend_aroon_up": 48,
         "trend_aroon_down": 92,
         "aroon_signal": 0,
         "aroon_position": 1,
         "_deepnote_index_column": "2016-01-21T00:00:00.000000"
        },
        {
         "Close": 9.850000381469727,
         "trend_aroon_up": 44,
         "trend_aroon_down": 88,
         "aroon_signal": 0,
         "aroon_position": 1,
         "_deepnote_index_column": "2016-01-22T00:00:00.000000"
        },
        {
         "Close": 9.8100004196167,
         "trend_aroon_up": 40,
         "trend_aroon_down": 84,
         "aroon_signal": 0,
         "aroon_position": 1,
         "_deepnote_index_column": "2016-01-25T00:00:00.000000"
        },
        {
         "Close": 9.539999961853027,
         "trend_aroon_up": 36,
         "trend_aroon_down": 80,
         "aroon_signal": 0,
         "aroon_position": 1,
         "_deepnote_index_column": "2016-01-26T00:00:00.000000"
        },
        {
         "Close": 9.050000190734863,
         "trend_aroon_up": 32,
         "trend_aroon_down": 100,
         "aroon_signal": 0,
         "aroon_position": 1,
         "_deepnote_index_column": "2016-01-27T00:00:00.000000"
        },
        {
         "Close": 8.739999771118164,
         "trend_aroon_up": 28.000000000000004,
         "trend_aroon_down": 100,
         "aroon_signal": -1,
         "aroon_position": 0,
         "_deepnote_index_column": "2016-01-28T00:00:00.000000"
        },
        {
         "Close": 8.770000457763672,
         "trend_aroon_up": 24,
         "trend_aroon_down": 96,
         "aroon_signal": 0,
         "aroon_position": 0,
         "_deepnote_index_column": "2016-01-29T00:00:00.000000"
        },
        {
         "Close": 8.760000228881836,
         "trend_aroon_up": 20,
         "trend_aroon_down": 92,
         "aroon_signal": 0,
         "aroon_position": 0,
         "_deepnote_index_column": "2016-02-01T00:00:00.000000"
        },
        {
         "Close": 8.470000267028809,
         "trend_aroon_up": 16,
         "trend_aroon_down": 100,
         "aroon_signal": 0,
         "aroon_position": 0,
         "_deepnote_index_column": "2016-02-02T00:00:00.000000"
        },
        {
         "Close": 8.430000305175781,
         "trend_aroon_up": 12,
         "trend_aroon_down": 100,
         "aroon_signal": 0,
         "aroon_position": 0,
         "_deepnote_index_column": "2016-02-03T00:00:00.000000"
        },
        {
         "Close": 8.899999618530273,
         "trend_aroon_up": 8,
         "trend_aroon_down": 96,
         "aroon_signal": 0,
         "aroon_position": 0,
         "_deepnote_index_column": "2016-02-04T00:00:00.000000"
        },
        {
         "Close": 8.630000114440918,
         "trend_aroon_up": 4,
         "trend_aroon_down": 92,
         "aroon_signal": 0,
         "aroon_position": 0,
         "_deepnote_index_column": "2016-02-05T00:00:00.000000"
        },
        {
         "Close": 8.369999885559082,
         "trend_aroon_up": 4,
         "trend_aroon_down": 100,
         "aroon_signal": 0,
         "aroon_position": 0,
         "_deepnote_index_column": "2016-02-08T00:00:00.000000"
        },
        {
         "Close": 8.619999885559082,
         "trend_aroon_up": 24,
         "trend_aroon_down": 96,
         "aroon_signal": 0,
         "aroon_position": 0,
         "_deepnote_index_column": "2016-02-09T00:00:00.000000"
        },
        {
         "Close": 8.880000114440918,
         "trend_aroon_up": 20,
         "trend_aroon_down": 92,
         "aroon_signal": 0,
         "aroon_position": 0,
         "_deepnote_index_column": "2016-02-10T00:00:00.000000"
        },
        {
         "Close": 8.619999885559082,
         "trend_aroon_up": 16,
         "trend_aroon_down": 88,
         "aroon_signal": 0,
         "aroon_position": 0,
         "_deepnote_index_column": "2016-02-11T00:00:00.000000"
        },
        {
         "Close": 9.300000190734863,
         "trend_aroon_up": 12,
         "trend_aroon_down": 84,
         "aroon_signal": 0,
         "aroon_position": 0,
         "_deepnote_index_column": "2016-02-12T00:00:00.000000"
        },
        {
         "Close": 9.930000305175781,
         "trend_aroon_up": 8,
         "trend_aroon_down": 80,
         "aroon_signal": 0,
         "aroon_position": 0,
         "_deepnote_index_column": "2016-02-16T00:00:00.000000"
        },
        {
         "Close": 9.84000015258789,
         "trend_aroon_up": 4,
         "trend_aroon_down": 76,
         "aroon_signal": 0,
         "aroon_position": 0,
         "_deepnote_index_column": "2016-02-17T00:00:00.000000"
        },
        {
         "Close": 9.979999542236328,
         "trend_aroon_up": 4,
         "trend_aroon_down": 72,
         "aroon_signal": 0,
         "aroon_position": 0,
         "_deepnote_index_column": "2016-02-18T00:00:00.000000"
        },
        {
         "Close": 9.970000267028809,
         "trend_aroon_up": 4,
         "trend_aroon_down": 68,
         "aroon_signal": 0,
         "aroon_position": 0,
         "_deepnote_index_column": "2016-02-19T00:00:00.000000"
        },
        {
         "Close": 10.380000114440918,
         "trend_aroon_up": 100,
         "trend_aroon_down": 64,
         "aroon_signal": 0,
         "aroon_position": 0,
         "_deepnote_index_column": "2016-02-22T00:00:00.000000"
        },
        {
         "Close": 9.710000038146973,
         "trend_aroon_up": 96,
         "trend_aroon_down": 60,
         "aroon_signal": 0,
         "aroon_position": 0,
         "_deepnote_index_column": "2016-02-23T00:00:00.000000"
        },
        {
         "Close": 9.890000343322754,
         "trend_aroon_up": 92,
         "trend_aroon_down": 56.00000000000001,
         "aroon_signal": 0,
         "aroon_position": 0,
         "_deepnote_index_column": "2016-02-24T00:00:00.000000"
        },
        {
         "Close": 10.260000228881836,
         "trend_aroon_up": 88,
         "trend_aroon_down": 52,
         "aroon_signal": 0,
         "aroon_position": 0,
         "_deepnote_index_column": "2016-02-25T00:00:00.000000"
        },
        {
         "Close": 10.319999694824219,
         "trend_aroon_up": 84,
         "trend_aroon_down": 48,
         "aroon_signal": 0,
         "aroon_position": 0,
         "_deepnote_index_column": "2016-02-26T00:00:00.000000"
        },
        {
         "Close": 10.4399995803833,
         "trend_aroon_up": 100,
         "trend_aroon_down": 44,
         "aroon_signal": 0,
         "aroon_position": 0,
         "_deepnote_index_column": "2016-02-29T00:00:00.000000"
        },
        {
         "Close": 10.720000267028809,
         "trend_aroon_up": 100,
         "trend_aroon_down": 40,
         "aroon_signal": 0,
         "aroon_position": 0,
         "_deepnote_index_column": "2016-03-01T00:00:00.000000"
        },
        {
         "Close": 11.970000267028809,
         "trend_aroon_up": 100,
         "trend_aroon_down": 36,
         "aroon_signal": 0,
         "aroon_position": 0,
         "_deepnote_index_column": "2016-03-02T00:00:00.000000"
        },
        {
         "Close": 12.25,
         "trend_aroon_up": 100,
         "trend_aroon_down": 32,
         "aroon_signal": 0,
         "aroon_position": 0,
         "_deepnote_index_column": "2016-03-03T00:00:00.000000"
        },
        {
         "Close": 12.010000228881836,
         "trend_aroon_up": 96,
         "trend_aroon_down": 28.000000000000004,
         "aroon_signal": 1,
         "aroon_position": 1,
         "_deepnote_index_column": "2016-03-04T00:00:00.000000"
        },
        {
         "Close": 12.260000228881836,
         "trend_aroon_up": 100,
         "trend_aroon_down": 24,
         "aroon_signal": 0,
         "aroon_position": 1,
         "_deepnote_index_column": "2016-03-07T00:00:00.000000"
        },
        {
         "Close": 11.479999542236328,
         "trend_aroon_up": 96,
         "trend_aroon_down": 20,
         "aroon_signal": 0,
         "aroon_position": 1,
         "_deepnote_index_column": "2016-03-08T00:00:00.000000"
        },
        {
         "Close": 12.029999732971191,
         "trend_aroon_up": 92,
         "trend_aroon_down": 16,
         "aroon_signal": 0,
         "aroon_position": 1,
         "_deepnote_index_column": "2016-03-09T00:00:00.000000"
        },
        {
         "Close": 11.300000190734863,
         "trend_aroon_up": 88,
         "trend_aroon_down": 12,
         "aroon_signal": 0,
         "aroon_position": 1,
         "_deepnote_index_column": "2016-03-10T00:00:00.000000"
        },
        {
         "Close": 11.100000381469727,
         "trend_aroon_up": 84,
         "trend_aroon_down": 8,
         "aroon_signal": 0,
         "aroon_position": 1,
         "_deepnote_index_column": "2016-03-11T00:00:00.000000"
        },
        {
         "Close": 11.609999656677246,
         "trend_aroon_up": 80,
         "trend_aroon_down": 4,
         "aroon_signal": 0,
         "aroon_position": 1,
         "_deepnote_index_column": "2016-03-14T00:00:00.000000"
        },
        {
         "Close": 11.949999809265137,
         "trend_aroon_up": 76,
         "trend_aroon_down": 4,
         "aroon_signal": 0,
         "aroon_position": 1,
         "_deepnote_index_column": "2016-03-15T00:00:00.000000"
        },
        {
         "Close": 11.869999885559082,
         "trend_aroon_up": 72,
         "trend_aroon_down": 8,
         "aroon_signal": 0,
         "aroon_position": 1,
         "_deepnote_index_column": "2016-03-16T00:00:00.000000"
        },
        {
         "Close": 11.949999809265137,
         "trend_aroon_up": 68,
         "trend_aroon_down": 4,
         "aroon_signal": 0,
         "aroon_position": 1,
         "_deepnote_index_column": "2016-03-17T00:00:00.000000"
        },
        {
         "Close": 12.039999961853027,
         "trend_aroon_up": 64,
         "trend_aroon_down": 4,
         "aroon_signal": 0,
         "aroon_position": 1,
         "_deepnote_index_column": "2016-03-18T00:00:00.000000"
        },
        {
         "Close": 13.399999618530273,
         "trend_aroon_up": 100,
         "trend_aroon_down": 24,
         "aroon_signal": 0,
         "aroon_position": 1,
         "_deepnote_index_column": "2016-03-21T00:00:00.000000"
        },
        {
         "Close": 13.0600004196167,
         "trend_aroon_up": 96,
         "trend_aroon_down": 20,
         "aroon_signal": 0,
         "aroon_position": 1,
         "_deepnote_index_column": "2016-03-22T00:00:00.000000"
        },
        {
         "Close": 12.59000015258789,
         "trend_aroon_up": 92,
         "trend_aroon_down": 16,
         "aroon_signal": 0,
         "aroon_position": 1,
         "_deepnote_index_column": "2016-03-23T00:00:00.000000"
        },
        {
         "Close": 12.880000114440918,
         "trend_aroon_up": 88,
         "trend_aroon_down": 12,
         "aroon_signal": 0,
         "aroon_position": 1,
         "_deepnote_index_column": "2016-03-24T00:00:00.000000"
        },
        {
         "Close": 13.399999618530273,
         "trend_aroon_up": 84,
         "trend_aroon_down": 8,
         "aroon_signal": 0,
         "aroon_position": 1,
         "_deepnote_index_column": "2016-03-28T00:00:00.000000"
        },
        {
         "Close": 13.739999771118164,
         "trend_aroon_up": 100,
         "trend_aroon_down": 4,
         "aroon_signal": 0,
         "aroon_position": 1,
         "_deepnote_index_column": "2016-03-29T00:00:00.000000"
        },
        {
         "Close": 15.020000457763672,
         "trend_aroon_up": 100,
         "trend_aroon_down": 4,
         "aroon_signal": 0,
         "aroon_position": 1,
         "_deepnote_index_column": "2016-03-30T00:00:00.000000"
        },
        {
         "Close": 15.279999732971191,
         "trend_aroon_up": 100,
         "trend_aroon_down": 4,
         "aroon_signal": 0,
         "aroon_position": 1,
         "_deepnote_index_column": "2016-03-31T00:00:00.000000"
        },
        {
         "Close": 14.220000267028809,
         "trend_aroon_up": 96,
         "trend_aroon_down": 4,
         "aroon_signal": 0,
         "aroon_position": 1,
         "_deepnote_index_column": "2016-04-01T00:00:00.000000"
        },
        {
         "Close": 14.279999732971191,
         "trend_aroon_up": 92,
         "trend_aroon_down": 4,
         "aroon_signal": 0,
         "aroon_position": 1,
         "_deepnote_index_column": "2016-04-04T00:00:00.000000"
        },
        {
         "Close": 14.260000228881836,
         "trend_aroon_up": 88,
         "trend_aroon_down": 4,
         "aroon_signal": 0,
         "aroon_position": 1,
         "_deepnote_index_column": "2016-04-05T00:00:00.000000"
        },
        {
         "Close": 14.970000267028809,
         "trend_aroon_up": 84,
         "trend_aroon_down": 32,
         "aroon_signal": 0,
         "aroon_position": 1,
         "_deepnote_index_column": "2016-04-06T00:00:00.000000"
        },
        {
         "Close": 14.8100004196167,
         "trend_aroon_up": 80,
         "trend_aroon_down": 28.000000000000004,
         "aroon_signal": 0,
         "aroon_position": 1,
         "_deepnote_index_column": "2016-04-07T00:00:00.000000"
        },
        {
         "Close": 15.130000114440918,
         "trend_aroon_up": 76,
         "trend_aroon_down": 24,
         "aroon_signal": 0,
         "aroon_position": 1,
         "_deepnote_index_column": "2016-04-08T00:00:00.000000"
        },
        {
         "Close": 15.359999656677246,
         "trend_aroon_up": 100,
         "trend_aroon_down": 20,
         "aroon_signal": 0,
         "aroon_position": 1,
         "_deepnote_index_column": "2016-04-11T00:00:00.000000"
        },
        {
         "Close": 15.479999542236328,
         "trend_aroon_up": 100,
         "trend_aroon_down": 16,
         "aroon_signal": 0,
         "aroon_position": 1,
         "_deepnote_index_column": "2016-04-12T00:00:00.000000"
        },
        {
         "Close": 15.010000228881836,
         "trend_aroon_up": 96,
         "trend_aroon_down": 12,
         "aroon_signal": 0,
         "aroon_position": 1,
         "_deepnote_index_column": "2016-04-13T00:00:00.000000"
        },
        {
         "Close": 14.819999694824219,
         "trend_aroon_up": 92,
         "trend_aroon_down": 8,
         "aroon_signal": 0,
         "aroon_position": 1,
         "_deepnote_index_column": "2016-04-14T00:00:00.000000"
        },
        {
         "Close": 14.329999923706055,
         "trend_aroon_up": 88,
         "trend_aroon_down": 4,
         "aroon_signal": 0,
         "aroon_position": 1,
         "_deepnote_index_column": "2016-04-15T00:00:00.000000"
        },
        {
         "Close": 14.510000228881836,
         "trend_aroon_up": 84,
         "trend_aroon_down": 4,
         "aroon_signal": 0,
         "aroon_position": 1,
         "_deepnote_index_column": "2016-04-18T00:00:00.000000"
        },
        {
         "Close": 14.09000015258789,
         "trend_aroon_up": 80,
         "trend_aroon_down": 8,
         "aroon_signal": 0,
         "aroon_position": 1,
         "_deepnote_index_column": "2016-04-19T00:00:00.000000"
        },
        {
         "Close": 13.630000114440918,
         "trend_aroon_up": 76,
         "trend_aroon_down": 4,
         "aroon_signal": 0,
         "aroon_position": 1,
         "_deepnote_index_column": "2016-04-20T00:00:00.000000"
        },
        {
         "Close": 13.239999771118164,
         "trend_aroon_up": 72,
         "trend_aroon_down": 4,
         "aroon_signal": 0,
         "aroon_position": 1,
         "_deepnote_index_column": "2016-04-21T00:00:00.000000"
        },
        {
         "Close": 13.34000015258789,
         "trend_aroon_up": 68,
         "trend_aroon_down": 4,
         "aroon_signal": 0,
         "aroon_position": 1,
         "_deepnote_index_column": "2016-04-22T00:00:00.000000"
        }
       ],
       "rows_bottom": [
        {
         "Close": 224.83999633789062,
         "trend_aroon_up": 20,
         "trend_aroon_down": 64,
         "aroon_signal": 0,
         "aroon_position": 0,
         "_deepnote_index_column": "2021-03-19T00:00:00.000000"
        },
        {
         "Close": 226.1300048828125,
         "trend_aroon_up": 16,
         "trend_aroon_down": 60,
         "aroon_signal": 0,
         "aroon_position": 0,
         "_deepnote_index_column": "2021-03-22T00:00:00.000000"
        },
        {
         "Close": 223.1999969482422,
         "trend_aroon_up": 12,
         "trend_aroon_down": 56.00000000000001,
         "aroon_signal": 0,
         "aroon_position": 0,
         "_deepnote_index_column": "2021-03-23T00:00:00.000000"
        },
        {
         "Close": 213.50999450683594,
         "trend_aroon_up": 8,
         "trend_aroon_down": 52,
         "aroon_signal": 0,
         "aroon_position": 0,
         "_deepnote_index_column": "2021-03-24T00:00:00.000000"
        },
        {
         "Close": 208.47000122070312,
         "trend_aroon_up": 4,
         "trend_aroon_down": 48,
         "aroon_signal": 0,
         "aroon_position": 0,
         "_deepnote_index_column": "2021-03-25T00:00:00.000000"
        },
        {
         "Close": 213.60000610351562,
         "trend_aroon_up": 4,
         "trend_aroon_down": 44,
         "aroon_signal": 0,
         "aroon_position": 0,
         "_deepnote_index_column": "2021-03-26T00:00:00.000000"
        },
        {
         "Close": 207.17999267578125,
         "trend_aroon_up": 4,
         "trend_aroon_down": 40,
         "aroon_signal": 0,
         "aroon_position": 0,
         "_deepnote_index_column": "2021-03-29T00:00:00.000000"
        },
        {
         "Close": 212.8300018310547,
         "trend_aroon_up": 20,
         "trend_aroon_down": 36,
         "aroon_signal": 0,
         "aroon_position": 0,
         "_deepnote_index_column": "2021-03-30T00:00:00.000000"
        },
        {
         "Close": 227.0500030517578,
         "trend_aroon_up": 16,
         "trend_aroon_down": 32,
         "aroon_signal": 0,
         "aroon_position": 0,
         "_deepnote_index_column": "2021-03-31T00:00:00.000000"
        },
        {
         "Close": 229.50999450683594,
         "trend_aroon_up": 12,
         "trend_aroon_down": 28.000000000000004,
         "aroon_signal": 0,
         "aroon_position": 0,
         "_deepnote_index_column": "2021-04-01T00:00:00.000000"
        },
        {
         "Close": 229.9499969482422,
         "trend_aroon_up": 8,
         "trend_aroon_down": 24,
         "aroon_signal": 0,
         "aroon_position": 0,
         "_deepnote_index_column": "2021-04-05T00:00:00.000000"
        },
        {
         "Close": 236.5,
         "trend_aroon_up": 4,
         "trend_aroon_down": 20,
         "aroon_signal": 0,
         "aroon_position": 0,
         "_deepnote_index_column": "2021-04-06T00:00:00.000000"
        },
        {
         "Close": 245.1199951171875,
         "trend_aroon_up": 36,
         "trend_aroon_down": 16,
         "aroon_signal": 0,
         "aroon_position": 0,
         "_deepnote_index_column": "2021-04-07T00:00:00.000000"
        },
        {
         "Close": 258.3699951171875,
         "trend_aroon_up": 100,
         "trend_aroon_down": 12,
         "aroon_signal": 1,
         "aroon_position": 1,
         "_deepnote_index_column": "2021-04-08T00:00:00.000000"
        },
        {
         "Close": 261.6499938964844,
         "trend_aroon_up": 100,
         "trend_aroon_down": 8,
         "aroon_signal": 0,
         "aroon_position": 1,
         "_deepnote_index_column": "2021-04-09T00:00:00.000000"
        },
        {
         "Close": 265.20001220703125,
         "trend_aroon_up": 100,
         "trend_aroon_down": 4,
         "aroon_signal": 0,
         "aroon_position": 1,
         "_deepnote_index_column": "2021-04-12T00:00:00.000000"
        },
        {
         "Close": 273.2300109863281,
         "trend_aroon_up": 100,
         "trend_aroon_down": 60,
         "aroon_signal": 0,
         "aroon_position": 1,
         "_deepnote_index_column": "2021-04-13T00:00:00.000000"
        },
        {
         "Close": 258.3999938964844,
         "trend_aroon_up": 96,
         "trend_aroon_down": 56.00000000000001,
         "aroon_signal": 0,
         "aroon_position": 1,
         "_deepnote_index_column": "2021-04-14T00:00:00.000000"
        },
        {
         "Close": 263.0799865722656,
         "trend_aroon_up": 92,
         "trend_aroon_down": 52,
         "aroon_signal": 0,
         "aroon_position": 1,
         "_deepnote_index_column": "2021-04-15T00:00:00.000000"
        },
        {
         "Close": 256.1000061035156,
         "trend_aroon_up": 88,
         "trend_aroon_down": 48,
         "aroon_signal": 0,
         "aroon_position": 1,
         "_deepnote_index_column": "2021-04-16T00:00:00.000000"
        },
        {
         "Close": 245.3300018310547,
         "trend_aroon_up": 84,
         "trend_aroon_down": 44,
         "aroon_signal": 0,
         "aroon_position": 1,
         "_deepnote_index_column": "2021-04-19T00:00:00.000000"
        },
        {
         "Close": 245.5,
         "trend_aroon_up": 80,
         "trend_aroon_down": 40,
         "aroon_signal": 0,
         "aroon_position": 1,
         "_deepnote_index_column": "2021-04-20T00:00:00.000000"
        },
        {
         "Close": 245.25,
         "trend_aroon_up": 76,
         "trend_aroon_down": 36,
         "aroon_signal": 0,
         "aroon_position": 1,
         "_deepnote_index_column": "2021-04-21T00:00:00.000000"
        },
        {
         "Close": 245.11000061035156,
         "trend_aroon_up": 72,
         "trend_aroon_down": 32,
         "aroon_signal": 0,
         "aroon_position": 1,
         "_deepnote_index_column": "2021-04-22T00:00:00.000000"
        },
        {
         "Close": 246.42999267578125,
         "trend_aroon_up": 68,
         "trend_aroon_down": 28.000000000000004,
         "aroon_signal": 0,
         "aroon_position": 1,
         "_deepnote_index_column": "2021-04-23T00:00:00.000000"
        },
        {
         "Close": 255.77000427246094,
         "trend_aroon_up": 64,
         "trend_aroon_down": 24,
         "aroon_signal": 0,
         "aroon_position": 1,
         "_deepnote_index_column": "2021-04-26T00:00:00.000000"
        },
        {
         "Close": 253.7899932861328,
         "trend_aroon_up": 60,
         "trend_aroon_down": 20,
         "aroon_signal": 0,
         "aroon_position": 1,
         "_deepnote_index_column": "2021-04-27T00:00:00.000000"
        },
        {
         "Close": 254.1999969482422,
         "trend_aroon_up": 56.00000000000001,
         "trend_aroon_down": 16,
         "aroon_signal": 0,
         "aroon_position": 1,
         "_deepnote_index_column": "2021-04-28T00:00:00.000000"
        },
        {
         "Close": 247.75999450683594,
         "trend_aroon_up": 52,
         "trend_aroon_down": 12,
         "aroon_signal": 0,
         "aroon_position": 1,
         "_deepnote_index_column": "2021-04-29T00:00:00.000000"
        },
        {
         "Close": 244.82000732421875,
         "trend_aroon_up": 48,
         "trend_aroon_down": 8,
         "aroon_signal": 0,
         "aroon_position": 1,
         "_deepnote_index_column": "2021-04-30T00:00:00.000000"
        },
        {
         "Close": 243.67999267578125,
         "trend_aroon_up": 44,
         "trend_aroon_down": 4,
         "aroon_signal": 0,
         "aroon_position": 1,
         "_deepnote_index_column": "2021-05-03T00:00:00.000000"
        },
        {
         "Close": 231.19000244140625,
         "trend_aroon_up": 40,
         "trend_aroon_down": 4,
         "aroon_signal": 0,
         "aroon_position": 1,
         "_deepnote_index_column": "2021-05-04T00:00:00.000000"
        },
        {
         "Close": 231.8699951171875,
         "trend_aroon_up": 36,
         "trend_aroon_down": 4,
         "aroon_signal": 0,
         "aroon_position": 1,
         "_deepnote_index_column": "2021-05-05T00:00:00.000000"
        },
        {
         "Close": 223.9600067138672,
         "trend_aroon_up": 32,
         "trend_aroon_down": 100,
         "aroon_signal": 0,
         "aroon_position": 1,
         "_deepnote_index_column": "2021-05-06T00:00:00.000000"
        },
        {
         "Close": 233.35000610351562,
         "trend_aroon_up": 28.000000000000004,
         "trend_aroon_down": 96,
         "aroon_signal": -1,
         "aroon_position": 0,
         "_deepnote_index_column": "2021-05-07T00:00:00.000000"
        },
        {
         "Close": 216.42999267578125,
         "trend_aroon_up": 24,
         "trend_aroon_down": 100,
         "aroon_signal": 0,
         "aroon_position": 0,
         "_deepnote_index_column": "2021-05-10T00:00:00.000000"
        },
        {
         "Close": 220.64999389648438,
         "trend_aroon_up": 20,
         "trend_aroon_down": 96,
         "aroon_signal": 0,
         "aroon_position": 0,
         "_deepnote_index_column": "2021-05-11T00:00:00.000000"
        },
        {
         "Close": 206.6699981689453,
         "trend_aroon_up": 16,
         "trend_aroon_down": 100,
         "aroon_signal": 0,
         "aroon_position": 0,
         "_deepnote_index_column": "2021-05-12T00:00:00.000000"
        },
        {
         "Close": 197.1300048828125,
         "trend_aroon_up": 12,
         "trend_aroon_down": 100,
         "aroon_signal": 0,
         "aroon_position": 0,
         "_deepnote_index_column": "2021-05-13T00:00:00.000000"
        },
        {
         "Close": 207.85000610351562,
         "trend_aroon_up": 8,
         "trend_aroon_down": 96,
         "aroon_signal": 0,
         "aroon_position": 0,
         "_deepnote_index_column": "2021-05-14T00:00:00.000000"
        },
        {
         "Close": 202.9199981689453,
         "trend_aroon_up": 4,
         "trend_aroon_down": 92,
         "aroon_signal": 0,
         "aroon_position": 0,
         "_deepnote_index_column": "2021-05-17T00:00:00.000000"
        },
        {
         "Close": 203.16000366210938,
         "trend_aroon_up": 8,
         "trend_aroon_down": 88,
         "aroon_signal": 0,
         "aroon_position": 0,
         "_deepnote_index_column": "2021-05-18T00:00:00.000000"
        },
        {
         "Close": 200.11000061035156,
         "trend_aroon_up": 4,
         "trend_aroon_down": 84,
         "aroon_signal": 0,
         "aroon_position": 0,
         "_deepnote_index_column": "2021-05-19T00:00:00.000000"
        },
        {
         "Close": 204.91000366210938,
         "trend_aroon_up": 4,
         "trend_aroon_down": 80,
         "aroon_signal": 0,
         "aroon_position": 0,
         "_deepnote_index_column": "2021-05-20T00:00:00.000000"
        },
        {
         "Close": 200.00999450683594,
         "trend_aroon_up": 24,
         "trend_aroon_down": 76,
         "aroon_signal": 0,
         "aroon_position": 0,
         "_deepnote_index_column": "2021-05-21T00:00:00.000000"
        },
        {
         "Close": 210.9499969482422,
         "trend_aroon_up": 20,
         "trend_aroon_down": 72,
         "aroon_signal": 0,
         "aroon_position": 0,
         "_deepnote_index_column": "2021-05-24T00:00:00.000000"
        },
        {
         "Close": 216.1999969482422,
         "trend_aroon_up": 16,
         "trend_aroon_down": 68,
         "aroon_signal": 0,
         "aroon_position": 0,
         "_deepnote_index_column": "2021-05-25T00:00:00.000000"
        },
        {
         "Close": 222.33999633789062,
         "trend_aroon_up": 12,
         "trend_aroon_down": 64,
         "aroon_signal": 0,
         "aroon_position": 0,
         "_deepnote_index_column": "2021-05-26T00:00:00.000000"
        },
        {
         "Close": 220.89999389648438,
         "trend_aroon_up": 8,
         "trend_aroon_down": 60,
         "aroon_signal": 0,
         "aroon_position": 0,
         "_deepnote_index_column": "2021-05-27T00:00:00.000000"
        },
        {
         "Close": 222.52000427246094,
         "trend_aroon_up": 4,
         "trend_aroon_down": 56.00000000000001,
         "aroon_signal": 0,
         "aroon_position": 0,
         "_deepnote_index_column": "2021-05-28T00:00:00.000000"
        },
        {
         "Close": 221.9499969482422,
         "trend_aroon_up": 8,
         "trend_aroon_down": 52,
         "aroon_signal": 0,
         "aroon_position": 0,
         "_deepnote_index_column": "2021-06-01T00:00:00.000000"
        },
        {
         "Close": 220.41000366210938,
         "trend_aroon_up": 4,
         "trend_aroon_down": 48,
         "aroon_signal": 0,
         "aroon_position": 0,
         "_deepnote_index_column": "2021-06-02T00:00:00.000000"
        },
        {
         "Close": 211.42999267578125,
         "trend_aroon_up": 4,
         "trend_aroon_down": 44,
         "aroon_signal": 0,
         "aroon_position": 0,
         "_deepnote_index_column": "2021-06-03T00:00:00.000000"
        },
        {
         "Close": 213.69000244140625,
         "trend_aroon_up": 4,
         "trend_aroon_down": 40,
         "aroon_signal": 0,
         "aroon_position": 0,
         "_deepnote_index_column": "2021-06-04T00:00:00.000000"
        },
        {
         "Close": 216.9499969482422,
         "trend_aroon_up": 4,
         "trend_aroon_down": 36,
         "aroon_signal": 0,
         "aroon_position": 0,
         "_deepnote_index_column": "2021-06-07T00:00:00.000000"
        },
        {
         "Close": 214.1199951171875,
         "trend_aroon_up": 16,
         "trend_aroon_down": 32,
         "aroon_signal": 0,
         "aroon_position": 0,
         "_deepnote_index_column": "2021-06-08T00:00:00.000000"
        },
        {
         "Close": 210.2100067138672,
         "trend_aroon_up": 12,
         "trend_aroon_down": 28.000000000000004,
         "aroon_signal": 0,
         "aroon_position": 0,
         "_deepnote_index_column": "2021-06-09T00:00:00.000000"
        },
        {
         "Close": 217.13999938964844,
         "trend_aroon_up": 8,
         "trend_aroon_down": 24,
         "aroon_signal": 0,
         "aroon_position": 0,
         "_deepnote_index_column": "2021-06-10T00:00:00.000000"
        },
        {
         "Close": 219.33999633789062,
         "trend_aroon_up": 4,
         "trend_aroon_down": 20,
         "aroon_signal": 0,
         "aroon_position": 0,
         "_deepnote_index_column": "2021-06-11T00:00:00.000000"
        },
        {
         "Close": 230.9499969482422,
         "trend_aroon_up": 100,
         "trend_aroon_down": 16,
         "aroon_signal": 1,
         "aroon_position": 1,
         "_deepnote_index_column": "2021-06-14T00:00:00.000000"
        },
        {
         "Close": 227.75,
         "trend_aroon_up": 96,
         "trend_aroon_down": 12,
         "aroon_signal": 0,
         "aroon_position": 1,
         "_deepnote_index_column": "2021-06-15T00:00:00.000000"
        },
        {
         "Close": 225.11000061035156,
         "trend_aroon_up": 92,
         "trend_aroon_down": 8,
         "aroon_signal": 0,
         "aroon_position": 1,
         "_deepnote_index_column": "2021-06-16T00:00:00.000000"
        },
        {
         "Close": 236.1300048828125,
         "trend_aroon_up": 100,
         "trend_aroon_down": 4,
         "aroon_signal": 0,
         "aroon_position": 1,
         "_deepnote_index_column": "2021-06-17T00:00:00.000000"
        },
        {
         "Close": 237.0500030517578,
         "trend_aroon_up": 100,
         "trend_aroon_down": 24,
         "aroon_signal": 0,
         "aroon_position": 1,
         "_deepnote_index_column": "2021-06-18T00:00:00.000000"
        },
        {
         "Close": 233.88999938964844,
         "trend_aroon_up": 96,
         "trend_aroon_down": 20,
         "aroon_signal": 0,
         "aroon_position": 1,
         "_deepnote_index_column": "2021-06-21T00:00:00.000000"
        },
        {
         "Close": 235.97000122070312,
         "trend_aroon_up": 92,
         "trend_aroon_down": 16,
         "aroon_signal": 0,
         "aroon_position": 1,
         "_deepnote_index_column": "2021-06-22T00:00:00.000000"
        },
        {
         "Close": 238.6999969482422,
         "trend_aroon_up": 100,
         "trend_aroon_down": 12,
         "aroon_signal": 0,
         "aroon_position": 1,
         "_deepnote_index_column": "2021-06-23T00:00:00.000000"
        },
        {
         "Close": 244.14999389648438,
         "trend_aroon_up": 100,
         "trend_aroon_down": 8,
         "aroon_signal": 0,
         "aroon_position": 1,
         "_deepnote_index_column": "2021-06-24T00:00:00.000000"
        },
        {
         "Close": 239.94000244140625,
         "trend_aroon_up": 96,
         "trend_aroon_down": 4,
         "aroon_signal": 0,
         "aroon_position": 1,
         "_deepnote_index_column": "2021-06-25T00:00:00.000000"
        },
        {
         "Close": 246.60000610351562,
         "trend_aroon_up": 100,
         "trend_aroon_down": 48,
         "aroon_signal": 0,
         "aroon_position": 1,
         "_deepnote_index_column": "2021-06-28T00:00:00.000000"
        },
        {
         "Close": 248.8699951171875,
         "trend_aroon_up": 100,
         "trend_aroon_down": 44,
         "aroon_signal": 0,
         "aroon_position": 1,
         "_deepnote_index_column": "2021-06-29T00:00:00.000000"
        },
        {
         "Close": 243.8000030517578,
         "trend_aroon_up": 96,
         "trend_aroon_down": 40,
         "aroon_signal": 0,
         "aroon_position": 1,
         "_deepnote_index_column": "2021-06-30T00:00:00.000000"
        },
        {
         "Close": 241.85000610351562,
         "trend_aroon_up": 92,
         "trend_aroon_down": 36,
         "aroon_signal": 0,
         "aroon_position": 1,
         "_deepnote_index_column": "2021-07-01T00:00:00.000000"
        },
        {
         "Close": 241.0800018310547,
         "trend_aroon_up": 88,
         "trend_aroon_down": 32,
         "aroon_signal": 0,
         "aroon_position": 1,
         "_deepnote_index_column": "2021-07-02T00:00:00.000000"
        },
        {
         "Close": 246.6999969482422,
         "trend_aroon_up": 84,
         "trend_aroon_down": 28.000000000000004,
         "aroon_signal": 0,
         "aroon_position": 1,
         "_deepnote_index_column": "2021-07-06T00:00:00.000000"
        },
        {
         "Close": 244.63999938964844,
         "trend_aroon_up": 80,
         "trend_aroon_down": 24,
         "aroon_signal": 0,
         "aroon_position": 1,
         "_deepnote_index_column": "2021-07-07T00:00:00.000000"
        },
        {
         "Close": 235.89999389648438,
         "trend_aroon_up": 76,
         "trend_aroon_down": 20,
         "aroon_signal": 0,
         "aroon_position": 1,
         "_deepnote_index_column": "2021-07-08T00:00:00.000000"
        },
        {
         "Close": 241.88999938964844,
         "trend_aroon_up": 72,
         "trend_aroon_down": 16,
         "aroon_signal": 0,
         "aroon_position": 1,
         "_deepnote_index_column": "2021-07-09T00:00:00.000000"
        },
        {
         "Close": 243.35000610351562,
         "trend_aroon_up": 68,
         "trend_aroon_down": 12,
         "aroon_signal": 0,
         "aroon_position": 1,
         "_deepnote_index_column": "2021-07-12T00:00:00.000000"
        },
        {
         "Close": 241.42999267578125,
         "trend_aroon_up": 64,
         "trend_aroon_down": 8,
         "aroon_signal": 0,
         "aroon_position": 1,
         "_deepnote_index_column": "2021-07-13T00:00:00.000000"
        },
        {
         "Close": 239,
         "trend_aroon_up": 60,
         "trend_aroon_down": 4,
         "aroon_signal": 0,
         "aroon_position": 1,
         "_deepnote_index_column": "2021-07-14T00:00:00.000000"
        },
        {
         "Close": 235.16000366210938,
         "trend_aroon_up": 56.00000000000001,
         "trend_aroon_down": 4,
         "aroon_signal": 0,
         "aroon_position": 1,
         "_deepnote_index_column": "2021-07-15T00:00:00.000000"
        },
        {
         "Close": 237.52000427246094,
         "trend_aroon_up": 52,
         "trend_aroon_down": 4,
         "aroon_signal": 0,
         "aroon_position": 1,
         "_deepnote_index_column": "2021-07-16T00:00:00.000000"
        },
        {
         "Close": 233.69000244140625,
         "trend_aroon_up": 48,
         "trend_aroon_down": 12,
         "aroon_signal": 0,
         "aroon_position": 1,
         "_deepnote_index_column": "2021-07-19T00:00:00.000000"
        },
        {
         "Close": 246.47000122070312,
         "trend_aroon_up": 44,
         "trend_aroon_down": 8,
         "aroon_signal": 0,
         "aroon_position": 1,
         "_deepnote_index_column": "2021-07-20T00:00:00.000000"
        },
        {
         "Close": 257.25,
         "trend_aroon_up": 100,
         "trend_aroon_down": 4,
         "aroon_signal": 0,
         "aroon_position": 1,
         "_deepnote_index_column": "2021-07-21T00:00:00.000000"
        },
        {
         "Close": 260.5899963378906,
         "trend_aroon_up": 100,
         "trend_aroon_down": 88,
         "aroon_signal": 0,
         "aroon_position": 1,
         "_deepnote_index_column": "2021-07-22T00:00:00.000000"
        },
        {
         "Close": 264,
         "trend_aroon_up": 100,
         "trend_aroon_down": 84,
         "aroon_signal": 0,
         "aroon_position": 1,
         "_deepnote_index_column": "2021-07-23T00:00:00.000000"
        },
        {
         "Close": 261.989990234375,
         "trend_aroon_up": 96,
         "trend_aroon_down": 80,
         "aroon_signal": 0,
         "aroon_position": 1,
         "_deepnote_index_column": "2021-07-26T00:00:00.000000"
        },
        {
         "Close": 251.72999572753906,
         "trend_aroon_up": 92,
         "trend_aroon_down": 76,
         "aroon_signal": 0,
         "aroon_position": 1,
         "_deepnote_index_column": "2021-07-27T00:00:00.000000"
        },
        {
         "Close": 258.6099853515625,
         "trend_aroon_up": 88,
         "trend_aroon_down": 72,
         "aroon_signal": 0,
         "aroon_position": 1,
         "_deepnote_index_column": "2021-07-28T00:00:00.000000"
        },
        {
         "Close": 255.27999877929688,
         "trend_aroon_up": 84,
         "trend_aroon_down": 68,
         "aroon_signal": 0,
         "aroon_position": 1,
         "_deepnote_index_column": "2021-07-29T00:00:00.000000"
        },
        {
         "Close": 247.25999450683594,
         "trend_aroon_up": 80,
         "trend_aroon_down": 64,
         "aroon_signal": 0,
         "aroon_position": 1,
         "_deepnote_index_column": "2021-07-30T00:00:00.000000"
        },
        {
         "Close": 272.3800048828125,
         "trend_aroon_up": 100,
         "trend_aroon_down": 60,
         "aroon_signal": 0,
         "aroon_position": 1,
         "_deepnote_index_column": "2021-08-02T00:00:00.000000"
        },
        {
         "Close": 269.489990234375,
         "trend_aroon_up": 96,
         "trend_aroon_down": 56.00000000000001,
         "aroon_signal": 0,
         "aroon_position": 1,
         "_deepnote_index_column": "2021-08-03T00:00:00.000000"
        },
        {
         "Close": 266.4200134277344,
         "trend_aroon_up": 92,
         "trend_aroon_down": 52,
         "aroon_signal": 0,
         "aroon_position": 1,
         "_deepnote_index_column": "2021-08-04T00:00:00.000000"
        },
        {
         "Close": 281.80999755859375,
         "trend_aroon_up": 100,
         "trend_aroon_down": 48,
         "aroon_signal": 0,
         "aroon_position": 1,
         "_deepnote_index_column": "2021-08-05T00:00:00.000000"
        },
        {
         "Close": 275.1000061035156,
         "trend_aroon_up": 96,
         "trend_aroon_down": 44,
         "aroon_signal": 0,
         "aroon_position": 1,
         "_deepnote_index_column": "2021-08-06T00:00:00.000000"
        },
        {
         "Close": 279.7300109863281,
         "trend_aroon_up": 92,
         "trend_aroon_down": 40,
         "aroon_signal": 0,
         "aroon_position": 1,
         "_deepnote_index_column": "2021-08-09T00:00:00.000000"
        },
        {
         "Close": 273.0799865722656,
         "trend_aroon_up": 88,
         "trend_aroon_down": 36,
         "aroon_signal": 0,
         "aroon_position": 1,
         "_deepnote_index_column": "2021-08-10T00:00:00.000000"
        }
       ]
      },
      "text/plain": "                 Close  trend_aroon_up  trend_aroon_down  aroon_signal  \\\nDate                                                                     \n2015-11-30   12.040000             NaN               NaN             0   \n2015-12-01   11.910000             NaN               NaN             0   \n2015-12-02   11.930000             NaN               NaN             0   \n2015-12-03   11.920000             NaN               NaN             0   \n2015-12-04   12.040000             NaN               NaN             0   \n...                ...             ...               ...           ...   \n2021-08-04  266.420013            92.0              52.0             0   \n2021-08-05  281.809998           100.0              48.0             0   \n2021-08-06  275.100006            96.0              44.0             0   \n2021-08-09  279.730011            92.0              40.0             0   \n2021-08-10  273.079987            88.0              36.0             0   \n\n            aroon_position  \nDate                        \n2015-11-30               1  \n2015-12-01               1  \n2015-12-02               1  \n2015-12-03               1  \n2015-12-04               1  \n...                    ...  \n2021-08-04               1  \n2021-08-05               1  \n2021-08-06               1  \n2021-08-09               1  \n2021-08-10               1  \n\n[1434 rows x 5 columns]",
      "text/html": "<div>\n<style scoped>\n    .dataframe tbody tr th:only-of-type {\n        vertical-align: middle;\n    }\n\n    .dataframe tbody tr th {\n        vertical-align: top;\n    }\n\n    .dataframe thead th {\n        text-align: right;\n    }\n</style>\n<table border=\"1\" class=\"dataframe\">\n  <thead>\n    <tr style=\"text-align: right;\">\n      <th></th>\n      <th>Close</th>\n      <th>trend_aroon_up</th>\n      <th>trend_aroon_down</th>\n      <th>aroon_signal</th>\n      <th>aroon_position</th>\n    </tr>\n    <tr>\n      <th>Date</th>\n      <th></th>\n      <th></th>\n      <th></th>\n      <th></th>\n      <th></th>\n    </tr>\n  </thead>\n  <tbody>\n    <tr>\n      <th>2015-11-30</th>\n      <td>12.040000</td>\n      <td>NaN</td>\n      <td>NaN</td>\n      <td>0</td>\n      <td>1</td>\n    </tr>\n    <tr>\n      <th>2015-12-01</th>\n      <td>11.910000</td>\n      <td>NaN</td>\n      <td>NaN</td>\n      <td>0</td>\n      <td>1</td>\n    </tr>\n    <tr>\n      <th>2015-12-02</th>\n      <td>11.930000</td>\n      <td>NaN</td>\n      <td>NaN</td>\n      <td>0</td>\n      <td>1</td>\n    </tr>\n    <tr>\n      <th>2015-12-03</th>\n      <td>11.920000</td>\n      <td>NaN</td>\n      <td>NaN</td>\n      <td>0</td>\n      <td>1</td>\n    </tr>\n    <tr>\n      <th>2015-12-04</th>\n      <td>12.040000</td>\n      <td>NaN</td>\n      <td>NaN</td>\n      <td>0</td>\n      <td>1</td>\n    </tr>\n    <tr>\n      <th>...</th>\n      <td>...</td>\n      <td>...</td>\n      <td>...</td>\n      <td>...</td>\n      <td>...</td>\n    </tr>\n    <tr>\n      <th>2021-08-04</th>\n      <td>266.420013</td>\n      <td>92.0</td>\n      <td>52.0</td>\n      <td>0</td>\n      <td>1</td>\n    </tr>\n    <tr>\n      <th>2021-08-05</th>\n      <td>281.809998</td>\n      <td>100.0</td>\n      <td>48.0</td>\n      <td>0</td>\n      <td>1</td>\n    </tr>\n    <tr>\n      <th>2021-08-06</th>\n      <td>275.100006</td>\n      <td>96.0</td>\n      <td>44.0</td>\n      <td>0</td>\n      <td>1</td>\n    </tr>\n    <tr>\n      <th>2021-08-09</th>\n      <td>279.730011</td>\n      <td>92.0</td>\n      <td>40.0</td>\n      <td>0</td>\n      <td>1</td>\n    </tr>\n    <tr>\n      <th>2021-08-10</th>\n      <td>273.079987</td>\n      <td>88.0</td>\n      <td>36.0</td>\n      <td>0</td>\n      <td>1</td>\n    </tr>\n  </tbody>\n</table>\n<p>1434 rows × 5 columns</p>\n</div>"
     },
     "metadata": {}
    }
   ],
   "execution_count": null
  },
  {
   "cell_type": "code",
   "metadata": {
    "tags": [],
    "deepnote_to_be_reexecuted": false,
    "source_hash": "7c9c0b17",
    "execution_start": 1629252741817,
    "execution_millis": 1190,
    "cell_id": "00007-38d5ec71-3d14-4429-8c5c-f3bce3661d58",
    "deepnote_cell_type": "code"
   },
   "source": "# BACKTESTING THE SQ AROON TRADE STRATEGY\ndf = get_aroon('SQ', '2017-09-01')\n\ndf_ret = pd.DataFrame(np.diff(df['Close'])).rename(columns = {0:'returns'})\naroon_strategy_ret = []\n\nfor i in range(len(df_ret)):\n    returns = df_ret['returns'][i]*strategy['aroon_position'][i]\n    aroon_strategy_ret.append(returns)\n    \naroon_strategy_ret_df = pd.DataFrame(aroon_strategy_ret).rename(columns = {0:'aroon_returns'})\ninvestment_value = 100000\nnumber_of_stocks = floor(investment_value/df['Close'][-1])\naroon_investment_ret = []\n\nfor i in range(len(aroon_strategy_ret_df['aroon_returns'])):\n    returns = number_of_stocks*aroon_strategy_ret_df['aroon_returns'][i]\n    aroon_investment_ret.append(returns)\n\naroon_investment_ret_df = pd.DataFrame(aroon_investment_ret).rename(columns = {0:'investment_returns'})\ntotal_investment_ret = round(sum(aroon_investment_ret_df['investment_returns']), 2)\nprofit_percentage = floor((total_investment_ret/investment_value)*100)\nprint(cl('Profit gained from the Aroon strategy by investing $100k in SQ : {}'.format(total_investment_ret), attrs = ['bold']))\nprint(cl('Profit percentage of the Aroon strategy : {}%'.format(profit_percentage), attrs = ['bold']))",
   "outputs": [
    {
     "name": "stdout",
     "text": "[*********************100%***********************]  1 of 1 completed\n/root/venv/lib/python3.7/site-packages/ta/trend.py:768: RuntimeWarning: invalid value encountered in double_scalars\n  dip[i] = 100 * (self._dip[i] / self._trs[i])\n/root/venv/lib/python3.7/site-packages/ta/trend.py:772: RuntimeWarning: invalid value encountered in double_scalars\n  din[i] = 100 * (self._din[i] / self._trs[i])\n\u001b[1mProfit gained from the Aroon strategy by investing $100k in SQ : 57136.26\u001b[0m\n\u001b[1mProfit percentage of the Aroon strategy : 57%\u001b[0m\n",
     "output_type": "stream"
    }
   ],
   "execution_count": null
  },
  {
   "cell_type": "code",
   "metadata": {
    "tags": [],
    "deepnote_to_be_reexecuted": false,
    "source_hash": "d3747629",
    "execution_start": 1629252743013,
    "execution_millis": 27,
    "cell_id": "00008-f4f7f468-ec11-4717-8703-6e2625c4898e",
    "deepnote_cell_type": "code"
   },
   "source": "strategy.to_csv('SQ 1D AROON 25 TRADE STRATEGY.csv')",
   "outputs": [],
   "execution_count": null
  },
  {
   "cell_type": "markdown",
   "source": "<a style='text-decoration:none;line-height:16px;display:flex;color:#5B5B62;padding:10px;justify-content:end;' href='https://deepnote.com?utm_source=created-in-deepnote-cell&projectId=d12c285c-6789-4c45-9ad7-1be9b4d60622' target=\"_blank\">\n<img alt='Created in deepnote.com' style='display:inline;max-height:16px;margin:0px;margin-right:7.5px;' src='data:image/svg+xml;base64,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' > </img>\nCreated in <span style='font-weight:600;margin-left:4px;'>Deepnote</span></a>",
   "metadata": {
    "tags": [],
    "created_in_deepnote_cell": true,
    "deepnote_cell_type": "markdown"
   }
  }
 ],
 "nbformat": 4,
 "nbformat_minor": 2,
 "metadata": {
  "orig_nbformat": 2,
  "deepnote": {
   "is_reactive": false
  },
  "deepnote_notebook_id": "c35cbd11-8a87-4ab5-8bd5-d3e6fdcdabc6",
  "deepnote_execution_queue": []
 }
}