{
 "cells": [
  {
   "cell_type": "code",
   "metadata": {
    "tags": [],
    "deepnote_to_be_reexecuted": false,
    "source_hash": "d7395ec9",
    "execution_start": 1629328259876,
    "execution_millis": 510,
    "cell_id": "00000-89cc1e59-bd18-48b1-b1a2-b91af723e43c",
    "deepnote_cell_type": "code"
   },
   "source": "import requests\nimport pandas as pd\nimport numpy as np\nfrom math import floor\nfrom termcolor import colored as cl\nimport matplotlib.pyplot as plt\nimport yfinance as yf\nplt.rcParams['figure.figsize'] = (20, 10)\nplt.style.use('fivethirtyeight')",
   "outputs": [],
   "execution_count": null
  },
  {
   "cell_type": "code",
   "metadata": {
    "tags": [],
    "deepnote_to_be_reexecuted": false,
    "source_hash": "175f325c",
    "execution_start": 1629328260416,
    "execution_millis": 569,
    "cell_id": "00001-14c5cb64-4fc9-43c9-8293-24430d9cbf70",
    "deepnote_cell_type": "code"
   },
   "source": "sq_daily = yf.download(tickers='SQ', start='2019-09-01', end = '2021-08-11', interval='1d')\nsq_daily.drop(columns = ['Open','High','Low','Adj Close','Volume'], inplace = True)\n# sq_1hr.reset_index(inplace = True)\n# sq_1hr.rename(columns = {'index' : 'DateTime'}, inplace = True)\n# sq_1hr.set_index(pd.to_datetime(sq_1hr['DateTime'], infer_datetime_format = True), inplace = True)\n# sq_1hr.drop(columns = 'DateTime', inplace = True)\nsq_daily",
   "outputs": [
    {
     "name": "stdout",
     "text": "[*********************100%***********************]  1 of 1 completed\n",
     "output_type": "stream"
    },
    {
     "output_type": "execute_result",
     "execution_count": 2,
     "data": {
      "application/vnd.deepnote.dataframe.v2+json": {
       "row_count": 489,
       "column_count": 1,
       "columns": [
        {
         "name": "Close",
         "dtype": "float64",
         "stats": {
          "unique_count": 478,
          "nan_count": 0,
          "min": "38.09000015258789",
          "max": "281.80999755859375",
          "histogram": [
           {
            "bin_start": 38.09000015258789,
            "bin_end": 62.46199989318848,
            "count": 76
           },
           {
            "bin_start": 62.46199989318848,
            "bin_end": 86.83399963378906,
            "count": 114
           },
           {
            "bin_start": 86.83399963378906,
            "bin_end": 111.20599937438965,
            "count": 19
           },
           {
            "bin_start": 111.20599937438965,
            "bin_end": 135.57799911499023,
            "count": 23
           },
           {
            "bin_start": 135.57799911499023,
            "bin_end": 159.94999885559082,
            "count": 39
           },
           {
            "bin_start": 159.94999885559082,
            "bin_end": 184.3219985961914,
            "count": 26
           },
           {
            "bin_start": 184.3219985961914,
            "bin_end": 208.693998336792,
            "count": 32
           },
           {
            "bin_start": 208.693998336792,
            "bin_end": 233.06599807739258,
            "count": 74
           },
           {
            "bin_start": 233.06599807739258,
            "bin_end": 257.43799781799316,
            "count": 59
           },
           {
            "bin_start": 257.43799781799316,
            "bin_end": 281.80999755859375,
            "count": 27
           }
          ]
         }
        },
        {
         "name": "_deepnote_index_column",
         "dtype": "datetime64[ns]"
        }
       ],
       "rows_top": [
        {
         "Close": 61.130001068115234,
         "_deepnote_index_column": "2019-09-03T00:00:00.000000"
        },
        {
         "Close": 61.16999816894531,
         "_deepnote_index_column": "2019-09-04T00:00:00.000000"
        },
        {
         "Close": 63.02000045776367,
         "_deepnote_index_column": "2019-09-05T00:00:00.000000"
        },
        {
         "Close": 62,
         "_deepnote_index_column": "2019-09-06T00:00:00.000000"
        },
        {
         "Close": 61.470001220703125,
         "_deepnote_index_column": "2019-09-09T00:00:00.000000"
        },
        {
         "Close": 60.54999923706055,
         "_deepnote_index_column": "2019-09-10T00:00:00.000000"
        },
        {
         "Close": 59.20000076293945,
         "_deepnote_index_column": "2019-09-11T00:00:00.000000"
        },
        {
         "Close": 57.790000915527344,
         "_deepnote_index_column": "2019-09-12T00:00:00.000000"
        },
        {
         "Close": 58.290000915527344,
         "_deepnote_index_column": "2019-09-13T00:00:00.000000"
        },
        {
         "Close": 59.25,
         "_deepnote_index_column": "2019-09-16T00:00:00.000000"
        },
        {
         "Close": 59.599998474121094,
         "_deepnote_index_column": "2019-09-17T00:00:00.000000"
        },
        {
         "Close": 59.75,
         "_deepnote_index_column": "2019-09-18T00:00:00.000000"
        },
        {
         "Close": 59.029998779296875,
         "_deepnote_index_column": "2019-09-19T00:00:00.000000"
        },
        {
         "Close": 57.849998474121094,
         "_deepnote_index_column": "2019-09-20T00:00:00.000000"
        },
        {
         "Close": 56.7599983215332,
         "_deepnote_index_column": "2019-09-23T00:00:00.000000"
        },
        {
         "Close": 57.5,
         "_deepnote_index_column": "2019-09-24T00:00:00.000000"
        },
        {
         "Close": 58.5099983215332,
         "_deepnote_index_column": "2019-09-25T00:00:00.000000"
        },
        {
         "Close": 60.79999923706055,
         "_deepnote_index_column": "2019-09-26T00:00:00.000000"
        },
        {
         "Close": 60.75,
         "_deepnote_index_column": "2019-09-27T00:00:00.000000"
        },
        {
         "Close": 61.95000076293945,
         "_deepnote_index_column": "2019-09-30T00:00:00.000000"
        },
        {
         "Close": 61.630001068115234,
         "_deepnote_index_column": "2019-10-01T00:00:00.000000"
        },
        {
         "Close": 60.08000183105469,
         "_deepnote_index_column": "2019-10-02T00:00:00.000000"
        },
        {
         "Close": 62.04999923706055,
         "_deepnote_index_column": "2019-10-03T00:00:00.000000"
        },
        {
         "Close": 62.650001525878906,
         "_deepnote_index_column": "2019-10-04T00:00:00.000000"
        },
        {
         "Close": 62.25,
         "_deepnote_index_column": "2019-10-07T00:00:00.000000"
        },
        {
         "Close": 60.79999923706055,
         "_deepnote_index_column": "2019-10-08T00:00:00.000000"
        },
        {
         "Close": 62.220001220703125,
         "_deepnote_index_column": "2019-10-09T00:00:00.000000"
        },
        {
         "Close": 62.029998779296875,
         "_deepnote_index_column": "2019-10-10T00:00:00.000000"
        },
        {
         "Close": 61.540000915527344,
         "_deepnote_index_column": "2019-10-11T00:00:00.000000"
        },
        {
         "Close": 61.83000183105469,
         "_deepnote_index_column": "2019-10-14T00:00:00.000000"
        },
        {
         "Close": 64.29000091552734,
         "_deepnote_index_column": "2019-10-15T00:00:00.000000"
        },
        {
         "Close": 63,
         "_deepnote_index_column": "2019-10-16T00:00:00.000000"
        },
        {
         "Close": 63.400001525878906,
         "_deepnote_index_column": "2019-10-17T00:00:00.000000"
        },
        {
         "Close": 60.45000076293945,
         "_deepnote_index_column": "2019-10-18T00:00:00.000000"
        },
        {
         "Close": 61.150001525878906,
         "_deepnote_index_column": "2019-10-21T00:00:00.000000"
        },
        {
         "Close": 58.83000183105469,
         "_deepnote_index_column": "2019-10-22T00:00:00.000000"
        },
        {
         "Close": 58.36000061035156,
         "_deepnote_index_column": "2019-10-23T00:00:00.000000"
        },
        {
         "Close": 61.720001220703125,
         "_deepnote_index_column": "2019-10-24T00:00:00.000000"
        },
        {
         "Close": 62.88999938964844,
         "_deepnote_index_column": "2019-10-25T00:00:00.000000"
        },
        {
         "Close": 62.79999923706055,
         "_deepnote_index_column": "2019-10-28T00:00:00.000000"
        },
        {
         "Close": 62.40999984741211,
         "_deepnote_index_column": "2019-10-29T00:00:00.000000"
        },
        {
         "Close": 62.15999984741211,
         "_deepnote_index_column": "2019-10-30T00:00:00.000000"
        },
        {
         "Close": 61.43000030517578,
         "_deepnote_index_column": "2019-10-31T00:00:00.000000"
        },
        {
         "Close": 62.599998474121094,
         "_deepnote_index_column": "2019-11-01T00:00:00.000000"
        },
        {
         "Close": 62.380001068115234,
         "_deepnote_index_column": "2019-11-04T00:00:00.000000"
        },
        {
         "Close": 61.060001373291016,
         "_deepnote_index_column": "2019-11-05T00:00:00.000000"
        },
        {
         "Close": 61.34000015258789,
         "_deepnote_index_column": "2019-11-06T00:00:00.000000"
        },
        {
         "Close": 64.41000366210938,
         "_deepnote_index_column": "2019-11-07T00:00:00.000000"
        },
        {
         "Close": 62.45000076293945,
         "_deepnote_index_column": "2019-11-08T00:00:00.000000"
        },
        {
         "Close": 63.790000915527344,
         "_deepnote_index_column": "2019-11-11T00:00:00.000000"
        },
        {
         "Close": 61.540000915527344,
         "_deepnote_index_column": "2019-11-12T00:00:00.000000"
        },
        {
         "Close": 61.5099983215332,
         "_deepnote_index_column": "2019-11-13T00:00:00.000000"
        },
        {
         "Close": 62.9900016784668,
         "_deepnote_index_column": "2019-11-14T00:00:00.000000"
        },
        {
         "Close": 64.69999694824219,
         "_deepnote_index_column": "2019-11-15T00:00:00.000000"
        },
        {
         "Close": 65.73999786376953,
         "_deepnote_index_column": "2019-11-18T00:00:00.000000"
        },
        {
         "Close": 66.37000274658203,
         "_deepnote_index_column": "2019-11-19T00:00:00.000000"
        },
        {
         "Close": 67.16999816894531,
         "_deepnote_index_column": "2019-11-20T00:00:00.000000"
        },
        {
         "Close": 67.41999816894531,
         "_deepnote_index_column": "2019-11-21T00:00:00.000000"
        },
        {
         "Close": 67.75,
         "_deepnote_index_column": "2019-11-22T00:00:00.000000"
        },
        {
         "Close": 68.25,
         "_deepnote_index_column": "2019-11-25T00:00:00.000000"
        },
        {
         "Close": 68.94000244140625,
         "_deepnote_index_column": "2019-11-26T00:00:00.000000"
        },
        {
         "Close": 69.6500015258789,
         "_deepnote_index_column": "2019-11-27T00:00:00.000000"
        },
        {
         "Close": 69.12000274658203,
         "_deepnote_index_column": "2019-11-29T00:00:00.000000"
        },
        {
         "Close": 66.87999725341797,
         "_deepnote_index_column": "2019-12-02T00:00:00.000000"
        },
        {
         "Close": 67.04000091552734,
         "_deepnote_index_column": "2019-12-03T00:00:00.000000"
        },
        {
         "Close": 67.77999877929688,
         "_deepnote_index_column": "2019-12-04T00:00:00.000000"
        },
        {
         "Close": 67.13999938964844,
         "_deepnote_index_column": "2019-12-05T00:00:00.000000"
        },
        {
         "Close": 67.9800033569336,
         "_deepnote_index_column": "2019-12-06T00:00:00.000000"
        },
        {
         "Close": 67.05999755859375,
         "_deepnote_index_column": "2019-12-09T00:00:00.000000"
        },
        {
         "Close": 65.83999633789062,
         "_deepnote_index_column": "2019-12-10T00:00:00.000000"
        },
        {
         "Close": 65.75,
         "_deepnote_index_column": "2019-12-11T00:00:00.000000"
        },
        {
         "Close": 65.86000061035156,
         "_deepnote_index_column": "2019-12-12T00:00:00.000000"
        },
        {
         "Close": 64.80000305175781,
         "_deepnote_index_column": "2019-12-13T00:00:00.000000"
        },
        {
         "Close": 66.52999877929688,
         "_deepnote_index_column": "2019-12-16T00:00:00.000000"
        },
        {
         "Close": 65.55000305175781,
         "_deepnote_index_column": "2019-12-17T00:00:00.000000"
        },
        {
         "Close": 65.13999938964844,
         "_deepnote_index_column": "2019-12-18T00:00:00.000000"
        },
        {
         "Close": 64.55000305175781,
         "_deepnote_index_column": "2019-12-19T00:00:00.000000"
        },
        {
         "Close": 63.630001068115234,
         "_deepnote_index_column": "2019-12-20T00:00:00.000000"
        },
        {
         "Close": 62.79999923706055,
         "_deepnote_index_column": "2019-12-23T00:00:00.000000"
        },
        {
         "Close": 63.959999084472656,
         "_deepnote_index_column": "2019-12-24T00:00:00.000000"
        },
        {
         "Close": 64.02999877929688,
         "_deepnote_index_column": "2019-12-26T00:00:00.000000"
        },
        {
         "Close": 63.79999923706055,
         "_deepnote_index_column": "2019-12-27T00:00:00.000000"
        },
        {
         "Close": 61.79999923706055,
         "_deepnote_index_column": "2019-12-30T00:00:00.000000"
        },
        {
         "Close": 62.560001373291016,
         "_deepnote_index_column": "2019-12-31T00:00:00.000000"
        },
        {
         "Close": 63.83000183105469,
         "_deepnote_index_column": "2020-01-02T00:00:00.000000"
        },
        {
         "Close": 63,
         "_deepnote_index_column": "2020-01-03T00:00:00.000000"
        },
        {
         "Close": 62.56999969482422,
         "_deepnote_index_column": "2020-01-06T00:00:00.000000"
        },
        {
         "Close": 64.58999633789062,
         "_deepnote_index_column": "2020-01-07T00:00:00.000000"
        },
        {
         "Close": 67.5999984741211,
         "_deepnote_index_column": "2020-01-08T00:00:00.000000"
        },
        {
         "Close": 67.93000030517578,
         "_deepnote_index_column": "2020-01-09T00:00:00.000000"
        },
        {
         "Close": 67.98999786376953,
         "_deepnote_index_column": "2020-01-10T00:00:00.000000"
        },
        {
         "Close": 68.66000366210938,
         "_deepnote_index_column": "2020-01-13T00:00:00.000000"
        },
        {
         "Close": 68.16999816894531,
         "_deepnote_index_column": "2020-01-14T00:00:00.000000"
        },
        {
         "Close": 70.36000061035156,
         "_deepnote_index_column": "2020-01-15T00:00:00.000000"
        },
        {
         "Close": 69.5199966430664,
         "_deepnote_index_column": "2020-01-16T00:00:00.000000"
        },
        {
         "Close": 69.37999725341797,
         "_deepnote_index_column": "2020-01-17T00:00:00.000000"
        },
        {
         "Close": 68.30999755859375,
         "_deepnote_index_column": "2020-01-21T00:00:00.000000"
        },
        {
         "Close": 68.69000244140625,
         "_deepnote_index_column": "2020-01-22T00:00:00.000000"
        },
        {
         "Close": 69.29000091552734,
         "_deepnote_index_column": "2020-01-23T00:00:00.000000"
        },
        {
         "Close": 71.13999938964844,
         "_deepnote_index_column": "2020-01-24T00:00:00.000000"
        },
        {
         "Close": 71.05000305175781,
         "_deepnote_index_column": "2020-01-27T00:00:00.000000"
        },
        {
         "Close": 74.80000305175781,
         "_deepnote_index_column": "2020-01-28T00:00:00.000000"
        },
        {
         "Close": 76.16000366210938,
         "_deepnote_index_column": "2020-01-29T00:00:00.000000"
        },
        {
         "Close": 76.0999984741211,
         "_deepnote_index_column": "2020-01-30T00:00:00.000000"
        },
        {
         "Close": 74.69000244140625,
         "_deepnote_index_column": "2020-01-31T00:00:00.000000"
        },
        {
         "Close": 79.80000305175781,
         "_deepnote_index_column": "2020-02-03T00:00:00.000000"
        },
        {
         "Close": 80.9000015258789,
         "_deepnote_index_column": "2020-02-04T00:00:00.000000"
        },
        {
         "Close": 78.25,
         "_deepnote_index_column": "2020-02-05T00:00:00.000000"
        },
        {
         "Close": 78.51000213623047,
         "_deepnote_index_column": "2020-02-06T00:00:00.000000"
        },
        {
         "Close": 78.86000061035156,
         "_deepnote_index_column": "2020-02-07T00:00:00.000000"
        },
        {
         "Close": 80.16999816894531,
         "_deepnote_index_column": "2020-02-10T00:00:00.000000"
        },
        {
         "Close": 79.87999725341797,
         "_deepnote_index_column": "2020-02-11T00:00:00.000000"
        },
        {
         "Close": 80,
         "_deepnote_index_column": "2020-02-12T00:00:00.000000"
        },
        {
         "Close": 80.98999786376953,
         "_deepnote_index_column": "2020-02-13T00:00:00.000000"
        },
        {
         "Close": 81.86000061035156,
         "_deepnote_index_column": "2020-02-14T00:00:00.000000"
        },
        {
         "Close": 82.41999816894531,
         "_deepnote_index_column": "2020-02-18T00:00:00.000000"
        },
        {
         "Close": 85.23999786376953,
         "_deepnote_index_column": "2020-02-19T00:00:00.000000"
        },
        {
         "Close": 85.69999694824219,
         "_deepnote_index_column": "2020-02-20T00:00:00.000000"
        },
        {
         "Close": 83.48999786376953,
         "_deepnote_index_column": "2020-02-21T00:00:00.000000"
        },
        {
         "Close": 80.20999908447266,
         "_deepnote_index_column": "2020-02-24T00:00:00.000000"
        },
        {
         "Close": 77.05000305175781,
         "_deepnote_index_column": "2020-02-25T00:00:00.000000"
        },
        {
         "Close": 76.58999633789062,
         "_deepnote_index_column": "2020-02-26T00:00:00.000000"
        },
        {
         "Close": 79.30999755859375,
         "_deepnote_index_column": "2020-02-27T00:00:00.000000"
        },
        {
         "Close": 83.33000183105469,
         "_deepnote_index_column": "2020-02-28T00:00:00.000000"
        },
        {
         "Close": 80.66999816894531,
         "_deepnote_index_column": "2020-03-02T00:00:00.000000"
        },
        {
         "Close": 78.83999633789062,
         "_deepnote_index_column": "2020-03-03T00:00:00.000000"
        },
        {
         "Close": 79.26000213623047,
         "_deepnote_index_column": "2020-03-04T00:00:00.000000"
        },
        {
         "Close": 76.31999969482422,
         "_deepnote_index_column": "2020-03-05T00:00:00.000000"
        },
        {
         "Close": 73.08999633789062,
         "_deepnote_index_column": "2020-03-06T00:00:00.000000"
        },
        {
         "Close": 65.7300033569336,
         "_deepnote_index_column": "2020-03-09T00:00:00.000000"
        },
        {
         "Close": 67.23999786376953,
         "_deepnote_index_column": "2020-03-10T00:00:00.000000"
        },
        {
         "Close": 62.439998626708984,
         "_deepnote_index_column": "2020-03-11T00:00:00.000000"
        },
        {
         "Close": 53.56999969482422,
         "_deepnote_index_column": "2020-03-12T00:00:00.000000"
        },
        {
         "Close": 57.77000045776367,
         "_deepnote_index_column": "2020-03-13T00:00:00.000000"
        },
        {
         "Close": 41.27000045776367,
         "_deepnote_index_column": "2020-03-16T00:00:00.000000"
        },
        {
         "Close": 44.72999954223633,
         "_deepnote_index_column": "2020-03-17T00:00:00.000000"
        },
        {
         "Close": 39.5,
         "_deepnote_index_column": "2020-03-18T00:00:00.000000"
        },
        {
         "Close": 40,
         "_deepnote_index_column": "2020-03-19T00:00:00.000000"
        },
        {
         "Close": 38.09000015258789,
         "_deepnote_index_column": "2020-03-20T00:00:00.000000"
        },
        {
         "Close": 40.0099983215332,
         "_deepnote_index_column": "2020-03-23T00:00:00.000000"
        },
        {
         "Close": 46.310001373291016,
         "_deepnote_index_column": "2020-03-24T00:00:00.000000"
        },
        {
         "Close": 52.38999938964844,
         "_deepnote_index_column": "2020-03-25T00:00:00.000000"
        },
        {
         "Close": 56.029998779296875,
         "_deepnote_index_column": "2020-03-26T00:00:00.000000"
        },
        {
         "Close": 53.34000015258789,
         "_deepnote_index_column": "2020-03-27T00:00:00.000000"
        },
        {
         "Close": 55,
         "_deepnote_index_column": "2020-03-30T00:00:00.000000"
        },
        {
         "Close": 52.380001068115234,
         "_deepnote_index_column": "2020-03-31T00:00:00.000000"
        },
        {
         "Close": 46.810001373291016,
         "_deepnote_index_column": "2020-04-01T00:00:00.000000"
        },
        {
         "Close": 45.880001068115234,
         "_deepnote_index_column": "2020-04-02T00:00:00.000000"
        },
        {
         "Close": 43.720001220703125,
         "_deepnote_index_column": "2020-04-03T00:00:00.000000"
        },
        {
         "Close": 50.41999816894531,
         "_deepnote_index_column": "2020-04-06T00:00:00.000000"
        },
        {
         "Close": 50.310001373291016,
         "_deepnote_index_column": "2020-04-07T00:00:00.000000"
        },
        {
         "Close": 57.040000915527344,
         "_deepnote_index_column": "2020-04-08T00:00:00.000000"
        },
        {
         "Close": 59.209999084472656,
         "_deepnote_index_column": "2020-04-09T00:00:00.000000"
        },
        {
         "Close": 59.41999816894531,
         "_deepnote_index_column": "2020-04-13T00:00:00.000000"
        },
        {
         "Close": 62.40999984741211,
         "_deepnote_index_column": "2020-04-14T00:00:00.000000"
        },
        {
         "Close": 61.380001068115234,
         "_deepnote_index_column": "2020-04-15T00:00:00.000000"
        },
        {
         "Close": 57.31999969482422,
         "_deepnote_index_column": "2020-04-16T00:00:00.000000"
        },
        {
         "Close": 61.09000015258789,
         "_deepnote_index_column": "2020-04-17T00:00:00.000000"
        },
        {
         "Close": 61.060001373291016,
         "_deepnote_index_column": "2020-04-20T00:00:00.000000"
        },
        {
         "Close": 57.400001525878906,
         "_deepnote_index_column": "2020-04-21T00:00:00.000000"
        },
        {
         "Close": 60.959999084472656,
         "_deepnote_index_column": "2020-04-22T00:00:00.000000"
        },
        {
         "Close": 61.81999969482422,
         "_deepnote_index_column": "2020-04-23T00:00:00.000000"
        },
        {
         "Close": 62.0099983215332,
         "_deepnote_index_column": "2020-04-24T00:00:00.000000"
        },
        {
         "Close": 63.54999923706055,
         "_deepnote_index_column": "2020-04-27T00:00:00.000000"
        },
        {
         "Close": 61.75,
         "_deepnote_index_column": "2020-04-28T00:00:00.000000"
        },
        {
         "Close": 65.7699966430664,
         "_deepnote_index_column": "2020-04-29T00:00:00.000000"
        },
        {
         "Close": 65.13999938964844,
         "_deepnote_index_column": "2020-04-30T00:00:00.000000"
        },
        {
         "Close": 63,
         "_deepnote_index_column": "2020-05-01T00:00:00.000000"
        },
        {
         "Close": 63.689998626708984,
         "_deepnote_index_column": "2020-05-04T00:00:00.000000"
        },
        {
         "Close": 66.69000244140625,
         "_deepnote_index_column": "2020-05-05T00:00:00.000000"
        },
        {
         "Close": 68.0999984741211,
         "_deepnote_index_column": "2020-05-06T00:00:00.000000"
        },
        {
         "Close": 74.62000274658203,
         "_deepnote_index_column": "2020-05-07T00:00:00.000000"
        },
        {
         "Close": 76.05000305175781,
         "_deepnote_index_column": "2020-05-08T00:00:00.000000"
        },
        {
         "Close": 74.9000015258789,
         "_deepnote_index_column": "2020-05-11T00:00:00.000000"
        },
        {
         "Close": 75.20999908447266,
         "_deepnote_index_column": "2020-05-12T00:00:00.000000"
        },
        {
         "Close": 73.79000091552734,
         "_deepnote_index_column": "2020-05-13T00:00:00.000000"
        },
        {
         "Close": 78.19999694824219,
         "_deepnote_index_column": "2020-05-14T00:00:00.000000"
        },
        {
         "Close": 80.26000213623047,
         "_deepnote_index_column": "2020-05-15T00:00:00.000000"
        },
        {
         "Close": 76.62999725341797,
         "_deepnote_index_column": "2020-05-18T00:00:00.000000"
        },
        {
         "Close": 79.25,
         "_deepnote_index_column": "2020-05-19T00:00:00.000000"
        },
        {
         "Close": 82.04000091552734,
         "_deepnote_index_column": "2020-05-20T00:00:00.000000"
        },
        {
         "Close": 81.48999786376953,
         "_deepnote_index_column": "2020-05-21T00:00:00.000000"
        },
        {
         "Close": 81.48999786376953,
         "_deepnote_index_column": "2020-05-22T00:00:00.000000"
        },
        {
         "Close": 80.79000091552734,
         "_deepnote_index_column": "2020-05-26T00:00:00.000000"
        },
        {
         "Close": 81.0199966430664,
         "_deepnote_index_column": "2020-05-27T00:00:00.000000"
        },
        {
         "Close": 79.62000274658203,
         "_deepnote_index_column": "2020-05-28T00:00:00.000000"
        },
        {
         "Close": 81.08000183105469,
         "_deepnote_index_column": "2020-05-29T00:00:00.000000"
        },
        {
         "Close": 82.72000122070312,
         "_deepnote_index_column": "2020-06-01T00:00:00.000000"
        },
        {
         "Close": 88,
         "_deepnote_index_column": "2020-06-02T00:00:00.000000"
        },
        {
         "Close": 91.97000122070312,
         "_deepnote_index_column": "2020-06-03T00:00:00.000000"
        },
        {
         "Close": 87.72000122070312,
         "_deepnote_index_column": "2020-06-04T00:00:00.000000"
        },
        {
         "Close": 89.93000030517578,
         "_deepnote_index_column": "2020-06-05T00:00:00.000000"
        },
        {
         "Close": 89.62000274658203,
         "_deepnote_index_column": "2020-06-08T00:00:00.000000"
        },
        {
         "Close": 89.52999877929688,
         "_deepnote_index_column": "2020-06-09T00:00:00.000000"
        },
        {
         "Close": 91.91000366210938,
         "_deepnote_index_column": "2020-06-10T00:00:00.000000"
        },
        {
         "Close": 86.08999633789062,
         "_deepnote_index_column": "2020-06-11T00:00:00.000000"
        },
        {
         "Close": 86.72000122070312,
         "_deepnote_index_column": "2020-06-12T00:00:00.000000"
        },
        {
         "Close": 91,
         "_deepnote_index_column": "2020-06-15T00:00:00.000000"
        },
        {
         "Close": 94.73999786376953,
         "_deepnote_index_column": "2020-06-16T00:00:00.000000"
        },
        {
         "Close": 97.02999877929688,
         "_deepnote_index_column": "2020-06-17T00:00:00.000000"
        },
        {
         "Close": 98.2699966430664,
         "_deepnote_index_column": "2020-06-18T00:00:00.000000"
        },
        {
         "Close": 97.9800033569336,
         "_deepnote_index_column": "2020-06-19T00:00:00.000000"
        },
        {
         "Close": 104.22000122070312,
         "_deepnote_index_column": "2020-06-22T00:00:00.000000"
        },
        {
         "Close": 104.75,
         "_deepnote_index_column": "2020-06-23T00:00:00.000000"
        },
        {
         "Close": 100.87999725341797,
         "_deepnote_index_column": "2020-06-24T00:00:00.000000"
        },
        {
         "Close": 104.77999877929688,
         "_deepnote_index_column": "2020-06-25T00:00:00.000000"
        },
        {
         "Close": 104.30000305175781,
         "_deepnote_index_column": "2020-06-26T00:00:00.000000"
        },
        {
         "Close": 103.68000030517578,
         "_deepnote_index_column": "2020-06-29T00:00:00.000000"
        },
        {
         "Close": 104.94000244140625,
         "_deepnote_index_column": "2020-06-30T00:00:00.000000"
        },
        {
         "Close": 115.9000015258789,
         "_deepnote_index_column": "2020-07-01T00:00:00.000000"
        },
        {
         "Close": 113.38999938964844,
         "_deepnote_index_column": "2020-07-02T00:00:00.000000"
        },
        {
         "Close": 118.97000122070312,
         "_deepnote_index_column": "2020-07-06T00:00:00.000000"
        },
        {
         "Close": 125.5999984741211,
         "_deepnote_index_column": "2020-07-07T00:00:00.000000"
        },
        {
         "Close": 133.35000610351562,
         "_deepnote_index_column": "2020-07-08T00:00:00.000000"
        },
        {
         "Close": 129.38999938964844,
         "_deepnote_index_column": "2020-07-09T00:00:00.000000"
        },
        {
         "Close": 128.0500030517578,
         "_deepnote_index_column": "2020-07-10T00:00:00.000000"
        },
        {
         "Close": 118.6500015258789,
         "_deepnote_index_column": "2020-07-13T00:00:00.000000"
        },
        {
         "Close": 121.23999786376953,
         "_deepnote_index_column": "2020-07-14T00:00:00.000000"
        },
        {
         "Close": 122.19999694824219,
         "_deepnote_index_column": "2020-07-15T00:00:00.000000"
        },
        {
         "Close": 119.94999694824219,
         "_deepnote_index_column": "2020-07-16T00:00:00.000000"
        },
        {
         "Close": 120.7300033569336,
         "_deepnote_index_column": "2020-07-17T00:00:00.000000"
        },
        {
         "Close": 128.38999938964844,
         "_deepnote_index_column": "2020-07-20T00:00:00.000000"
        },
        {
         "Close": 126.98999786376953,
         "_deepnote_index_column": "2020-07-21T00:00:00.000000"
        },
        {
         "Close": 129.17999267578125,
         "_deepnote_index_column": "2020-07-22T00:00:00.000000"
        },
        {
         "Close": 122.93000030517578,
         "_deepnote_index_column": "2020-07-23T00:00:00.000000"
        },
        {
         "Close": 121.41000366210938,
         "_deepnote_index_column": "2020-07-24T00:00:00.000000"
        },
        {
         "Close": 125.75,
         "_deepnote_index_column": "2020-07-27T00:00:00.000000"
        },
        {
         "Close": 123.51000213623047,
         "_deepnote_index_column": "2020-07-28T00:00:00.000000"
        },
        {
         "Close": 128.5500030517578,
         "_deepnote_index_column": "2020-07-29T00:00:00.000000"
        },
        {
         "Close": 129.1300048828125,
         "_deepnote_index_column": "2020-07-30T00:00:00.000000"
        },
        {
         "Close": 129.85000610351562,
         "_deepnote_index_column": "2020-07-31T00:00:00.000000"
        },
        {
         "Close": 134.8000030517578,
         "_deepnote_index_column": "2020-08-03T00:00:00.000000"
        },
        {
         "Close": 136.8300018310547,
         "_deepnote_index_column": "2020-08-04T00:00:00.000000"
        },
        {
         "Close": 146.5500030517578,
         "_deepnote_index_column": "2020-08-05T00:00:00.000000"
        },
        {
         "Close": 154,
         "_deepnote_index_column": "2020-08-06T00:00:00.000000"
        },
        {
         "Close": 147.22000122070312,
         "_deepnote_index_column": "2020-08-07T00:00:00.000000"
        },
        {
         "Close": 139.33999633789062,
         "_deepnote_index_column": "2020-08-10T00:00:00.000000"
        },
        {
         "Close": 138.25,
         "_deepnote_index_column": "2020-08-11T00:00:00.000000"
        },
        {
         "Close": 139.02000427246094,
         "_deepnote_index_column": "2020-08-12T00:00:00.000000"
        },
        {
         "Close": 143.19000244140625,
         "_deepnote_index_column": "2020-08-13T00:00:00.000000"
        },
        {
         "Close": 141.9600067138672,
         "_deepnote_index_column": "2020-08-14T00:00:00.000000"
        },
        {
         "Close": 152.47999572753906,
         "_deepnote_index_column": "2020-08-17T00:00:00.000000"
        },
        {
         "Close": 151.0399932861328,
         "_deepnote_index_column": "2020-08-18T00:00:00.000000"
        },
        {
         "Close": 150.3699951171875,
         "_deepnote_index_column": "2020-08-19T00:00:00.000000"
        },
        {
         "Close": 155.86000061035156,
         "_deepnote_index_column": "2020-08-20T00:00:00.000000"
        },
        {
         "Close": 155.10000610351562,
         "_deepnote_index_column": "2020-08-21T00:00:00.000000"
        },
        {
         "Close": 151.7899932861328,
         "_deepnote_index_column": "2020-08-24T00:00:00.000000"
        },
        {
         "Close": 155,
         "_deepnote_index_column": "2020-08-25T00:00:00.000000"
        },
        {
         "Close": 153.74000549316406,
         "_deepnote_index_column": "2020-08-26T00:00:00.000000"
        },
        {
         "Close": 155.61000061035156,
         "_deepnote_index_column": "2020-08-27T00:00:00.000000"
        },
        {
         "Close": 155.92999267578125,
         "_deepnote_index_column": "2020-08-28T00:00:00.000000"
        },
        {
         "Close": 159.55999755859375,
         "_deepnote_index_column": "2020-08-31T00:00:00.000000"
        },
        {
         "Close": 166.66000366210938,
         "_deepnote_index_column": "2020-09-01T00:00:00.000000"
        },
        {
         "Close": 162.8800048828125,
         "_deepnote_index_column": "2020-09-02T00:00:00.000000"
        },
        {
         "Close": 152.86000061035156,
         "_deepnote_index_column": "2020-09-03T00:00:00.000000"
        },
        {
         "Close": 146.38999938964844,
         "_deepnote_index_column": "2020-09-04T00:00:00.000000"
        },
        {
         "Close": 139.11000061035156,
         "_deepnote_index_column": "2020-09-08T00:00:00.000000"
        },
        {
         "Close": 144.2100067138672,
         "_deepnote_index_column": "2020-09-09T00:00:00.000000"
        },
        {
         "Close": 141.07000732421875,
         "_deepnote_index_column": "2020-09-10T00:00:00.000000"
        },
        {
         "Close": 137.4499969482422,
         "_deepnote_index_column": "2020-09-11T00:00:00.000000"
        },
        {
         "Close": 144.39999389648438,
         "_deepnote_index_column": "2020-09-14T00:00:00.000000"
        },
        {
         "Close": 154.5,
         "_deepnote_index_column": "2020-09-15T00:00:00.000000"
        },
        {
         "Close": 151.0500030517578,
         "_deepnote_index_column": "2020-09-16T00:00:00.000000"
        },
        {
         "Close": 145.63999938964844,
         "_deepnote_index_column": "2020-09-17T00:00:00.000000"
        },
        {
         "Close": 145.00999450683594,
         "_deepnote_index_column": "2020-09-18T00:00:00.000000"
        },
        {
         "Close": 151.1199951171875,
         "_deepnote_index_column": "2020-09-21T00:00:00.000000"
        },
        {
         "Close": 155.58999633789062,
         "_deepnote_index_column": "2020-09-22T00:00:00.000000"
        },
        {
         "Close": 149.58999633789062,
         "_deepnote_index_column": "2020-09-23T00:00:00.000000"
        },
        {
         "Close": 152.30999755859375,
         "_deepnote_index_column": "2020-09-24T00:00:00.000000"
        },
        {
         "Close": 157.72000122070312,
         "_deepnote_index_column": "2020-09-25T00:00:00.000000"
        },
        {
         "Close": 160.75999450683594,
         "_deepnote_index_column": "2020-09-28T00:00:00.000000"
        },
        {
         "Close": 164.80999755859375,
         "_deepnote_index_column": "2020-09-29T00:00:00.000000"
        },
        {
         "Close": 162.5500030517578,
         "_deepnote_index_column": "2020-09-30T00:00:00.000000"
        },
        {
         "Close": 168.49000549316406,
         "_deepnote_index_column": "2020-10-01T00:00:00.000000"
        },
        {
         "Close": 169.61000061035156,
         "_deepnote_index_column": "2020-10-02T00:00:00.000000"
        },
        {
         "Close": 180.9199981689453,
         "_deepnote_index_column": "2020-10-05T00:00:00.000000"
        },
        {
         "Close": 175.33999633789062,
         "_deepnote_index_column": "2020-10-06T00:00:00.000000"
        },
        {
         "Close": 180.17999267578125,
         "_deepnote_index_column": "2020-10-07T00:00:00.000000"
        },
        {
         "Close": 183.5,
         "_deepnote_index_column": "2020-10-08T00:00:00.000000"
        },
        {
         "Close": 187.27999877929688,
         "_deepnote_index_column": "2020-10-09T00:00:00.000000"
        },
        {
         "Close": 185.1699981689453,
         "_deepnote_index_column": "2020-10-12T00:00:00.000000"
        },
        {
         "Close": 190.47000122070312,
         "_deepnote_index_column": "2020-10-13T00:00:00.000000"
        },
        {
         "Close": 187.49000549316406,
         "_deepnote_index_column": "2020-10-14T00:00:00.000000"
        },
        {
         "Close": 188.60000610351562,
         "_deepnote_index_column": "2020-10-15T00:00:00.000000"
        },
        {
         "Close": 186.35000610351562,
         "_deepnote_index_column": "2020-10-16T00:00:00.000000"
        },
        {
         "Close": 186.9600067138672,
         "_deepnote_index_column": "2020-10-19T00:00:00.000000"
        },
        {
         "Close": 185.74000549316406,
         "_deepnote_index_column": "2020-10-20T00:00:00.000000"
        },
        {
         "Close": 177.82000732421875,
         "_deepnote_index_column": "2020-10-21T00:00:00.000000"
        },
        {
         "Close": 175.92999267578125,
         "_deepnote_index_column": "2020-10-22T00:00:00.000000"
        },
        {
         "Close": 176.77000427246094,
         "_deepnote_index_column": "2020-10-23T00:00:00.000000"
        },
        {
         "Close": 169.88999938964844,
         "_deepnote_index_column": "2020-10-26T00:00:00.000000"
        },
        {
         "Close": 171.02000427246094,
         "_deepnote_index_column": "2020-10-27T00:00:00.000000"
        },
        {
         "Close": 167.1300048828125,
         "_deepnote_index_column": "2020-10-28T00:00:00.000000"
        },
        {
         "Close": 169.86000061035156,
         "_deepnote_index_column": "2020-10-29T00:00:00.000000"
        },
        {
         "Close": 154.8800048828125,
         "_deepnote_index_column": "2020-10-30T00:00:00.000000"
        },
        {
         "Close": 155.22999572753906,
         "_deepnote_index_column": "2020-11-02T00:00:00.000000"
        },
        {
         "Close": 158.2100067138672,
         "_deepnote_index_column": "2020-11-03T00:00:00.000000"
        },
        {
         "Close": 171.2899932861328,
         "_deepnote_index_column": "2020-11-04T00:00:00.000000"
        },
        {
         "Close": 175.22999572753906,
         "_deepnote_index_column": "2020-11-05T00:00:00.000000"
        },
        {
         "Close": 198.0800018310547,
         "_deepnote_index_column": "2020-11-06T00:00:00.000000"
        },
        {
         "Close": 184.0800018310547,
         "_deepnote_index_column": "2020-11-09T00:00:00.000000"
        },
        {
         "Close": 172,
         "_deepnote_index_column": "2020-11-10T00:00:00.000000"
        },
        {
         "Close": 183.4199981689453,
         "_deepnote_index_column": "2020-11-11T00:00:00.000000"
        },
        {
         "Close": 178.50999450683594,
         "_deepnote_index_column": "2020-11-12T00:00:00.000000"
        },
        {
         "Close": 177.19000244140625,
         "_deepnote_index_column": "2020-11-13T00:00:00.000000"
        },
        {
         "Close": 179.16000366210938,
         "_deepnote_index_column": "2020-11-16T00:00:00.000000"
        },
        {
         "Close": 187.89999389648438,
         "_deepnote_index_column": "2020-11-17T00:00:00.000000"
        },
        {
         "Close": 185.5399932861328,
         "_deepnote_index_column": "2020-11-18T00:00:00.000000"
        },
        {
         "Close": 191.66000366210938,
         "_deepnote_index_column": "2020-11-19T00:00:00.000000"
        },
        {
         "Close": 195.97000122070312,
         "_deepnote_index_column": "2020-11-20T00:00:00.000000"
        },
        {
         "Close": 207.77999877929688,
         "_deepnote_index_column": "2020-11-23T00:00:00.000000"
        },
        {
         "Close": 202.89999389648438,
         "_deepnote_index_column": "2020-11-24T00:00:00.000000"
        },
        {
         "Close": 212.9199981689453,
         "_deepnote_index_column": "2020-11-25T00:00:00.000000"
        },
        {
         "Close": 212.52000427246094,
         "_deepnote_index_column": "2020-11-27T00:00:00.000000"
        },
        {
         "Close": 210.9600067138672,
         "_deepnote_index_column": "2020-11-30T00:00:00.000000"
        },
        {
         "Close": 203,
         "_deepnote_index_column": "2020-12-01T00:00:00.000000"
        },
        {
         "Close": 202,
         "_deepnote_index_column": "2020-12-02T00:00:00.000000"
        },
        {
         "Close": 205.52999877929688,
         "_deepnote_index_column": "2020-12-03T00:00:00.000000"
        },
        {
         "Close": 208.14999389648438,
         "_deepnote_index_column": "2020-12-04T00:00:00.000000"
        },
        {
         "Close": 212.5800018310547,
         "_deepnote_index_column": "2020-12-07T00:00:00.000000"
        },
        {
         "Close": 213.00999450683594,
         "_deepnote_index_column": "2020-12-08T00:00:00.000000"
        },
        {
         "Close": 207.0399932861328,
         "_deepnote_index_column": "2020-12-09T00:00:00.000000"
        },
        {
         "Close": 217.25,
         "_deepnote_index_column": "2020-12-10T00:00:00.000000"
        },
        {
         "Close": 216.58999633789062,
         "_deepnote_index_column": "2020-12-11T00:00:00.000000"
        },
        {
         "Close": 215.86000061035156,
         "_deepnote_index_column": "2020-12-14T00:00:00.000000"
        },
        {
         "Close": 219.99000549316406,
         "_deepnote_index_column": "2020-12-15T00:00:00.000000"
        },
        {
         "Close": 227.0800018310547,
         "_deepnote_index_column": "2020-12-16T00:00:00.000000"
        },
        {
         "Close": 230.74000549316406,
         "_deepnote_index_column": "2020-12-17T00:00:00.000000"
        },
        {
         "Close": 235.4499969482422,
         "_deepnote_index_column": "2020-12-18T00:00:00.000000"
        },
        {
         "Close": 233.5,
         "_deepnote_index_column": "2020-12-21T00:00:00.000000"
        },
        {
         "Close": 241.5800018310547,
         "_deepnote_index_column": "2020-12-22T00:00:00.000000"
        },
        {
         "Close": 230.67999267578125,
         "_deepnote_index_column": "2020-12-23T00:00:00.000000"
        },
        {
         "Close": 228.27999877929688,
         "_deepnote_index_column": "2020-12-24T00:00:00.000000"
        },
        {
         "Close": 223.33999633789062,
         "_deepnote_index_column": "2020-12-28T00:00:00.000000"
        },
        {
         "Close": 214,
         "_deepnote_index_column": "2020-12-29T00:00:00.000000"
        },
        {
         "Close": 221.0399932861328,
         "_deepnote_index_column": "2020-12-30T00:00:00.000000"
        },
        {
         "Close": 217.63999938964844,
         "_deepnote_index_column": "2020-12-31T00:00:00.000000"
        },
        {
         "Close": 221.16000366210938,
         "_deepnote_index_column": "2021-01-04T00:00:00.000000"
        },
        {
         "Close": 229.75,
         "_deepnote_index_column": "2021-01-05T00:00:00.000000"
        },
        {
         "Close": 226.88999938964844,
         "_deepnote_index_column": "2021-01-06T00:00:00.000000"
        },
        {
         "Close": 239.47999572753906,
         "_deepnote_index_column": "2021-01-07T00:00:00.000000"
        },
        {
         "Close": 241.4499969482422,
         "_deepnote_index_column": "2021-01-08T00:00:00.000000"
        },
        {
         "Close": 225.5,
         "_deepnote_index_column": "2021-01-11T00:00:00.000000"
        },
        {
         "Close": 227.52000427246094,
         "_deepnote_index_column": "2021-01-12T00:00:00.000000"
        },
        {
         "Close": 230.9199981689453,
         "_deepnote_index_column": "2021-01-13T00:00:00.000000"
        },
        {
         "Close": 232.7899932861328,
         "_deepnote_index_column": "2021-01-14T00:00:00.000000"
        },
        {
         "Close": 227.75,
         "_deepnote_index_column": "2021-01-15T00:00:00.000000"
        },
        {
         "Close": 227.25999450683594,
         "_deepnote_index_column": "2021-01-19T00:00:00.000000"
        },
        {
         "Close": 226.64999389648438,
         "_deepnote_index_column": "2021-01-20T00:00:00.000000"
        },
        {
         "Close": 219.6199951171875,
         "_deepnote_index_column": "2021-01-21T00:00:00.000000"
        },
        {
         "Close": 222.8800048828125,
         "_deepnote_index_column": "2021-01-22T00:00:00.000000"
        },
        {
         "Close": 216.63999938964844,
         "_deepnote_index_column": "2021-01-25T00:00:00.000000"
        },
        {
         "Close": 209.1699981689453,
         "_deepnote_index_column": "2021-01-26T00:00:00.000000"
        },
        {
         "Close": 202.4600067138672,
         "_deepnote_index_column": "2021-01-27T00:00:00.000000"
        },
        {
         "Close": 219.91000366210938,
         "_deepnote_index_column": "2021-01-28T00:00:00.000000"
        },
        {
         "Close": 215.9600067138672,
         "_deepnote_index_column": "2021-01-29T00:00:00.000000"
        },
        {
         "Close": 221.94000244140625,
         "_deepnote_index_column": "2021-02-01T00:00:00.000000"
        },
        {
         "Close": 227.6300048828125,
         "_deepnote_index_column": "2021-02-02T00:00:00.000000"
        },
        {
         "Close": 227.94000244140625,
         "_deepnote_index_column": "2021-02-03T00:00:00.000000"
        },
        {
         "Close": 237.72000122070312,
         "_deepnote_index_column": "2021-02-04T00:00:00.000000"
        },
        {
         "Close": 240.3800048828125,
         "_deepnote_index_column": "2021-02-05T00:00:00.000000"
        },
        {
         "Close": 259.9700012207031,
         "_deepnote_index_column": "2021-02-08T00:00:00.000000"
        },
        {
         "Close": 258.1199951171875,
         "_deepnote_index_column": "2021-02-09T00:00:00.000000"
        },
        {
         "Close": 257.489990234375,
         "_deepnote_index_column": "2021-02-10T00:00:00.000000"
        },
        {
         "Close": 265.92999267578125,
         "_deepnote_index_column": "2021-02-11T00:00:00.000000"
        },
        {
         "Close": 272.75,
         "_deepnote_index_column": "2021-02-12T00:00:00.000000"
        },
        {
         "Close": 276.0199890136719,
         "_deepnote_index_column": "2021-02-16T00:00:00.000000"
        },
        {
         "Close": 270.94000244140625,
         "_deepnote_index_column": "2021-02-17T00:00:00.000000"
        },
        {
         "Close": 270.8500061035156,
         "_deepnote_index_column": "2021-02-18T00:00:00.000000"
        },
        {
         "Close": 276.57000732421875,
         "_deepnote_index_column": "2021-02-19T00:00:00.000000"
        },
        {
         "Close": 268.0799865722656,
         "_deepnote_index_column": "2021-02-22T00:00:00.000000"
        },
        {
         "Close": 256.5899963378906,
         "_deepnote_index_column": "2021-02-23T00:00:00.000000"
        },
        {
         "Close": 237.32000732421875,
         "_deepnote_index_column": "2021-02-24T00:00:00.000000"
        },
        {
         "Close": 227.11000061035156,
         "_deepnote_index_column": "2021-02-25T00:00:00.000000"
        },
        {
         "Close": 230.02999877929688,
         "_deepnote_index_column": "2021-02-26T00:00:00.000000"
        },
        {
         "Close": 241,
         "_deepnote_index_column": "2021-03-01T00:00:00.000000"
        },
        {
         "Close": 252.1999969482422,
         "_deepnote_index_column": "2021-03-02T00:00:00.000000"
        },
        {
         "Close": 234.1999969482422,
         "_deepnote_index_column": "2021-03-03T00:00:00.000000"
        },
        {
         "Close": 218.41000366210938,
         "_deepnote_index_column": "2021-03-04T00:00:00.000000"
        },
        {
         "Close": 216.44000244140625,
         "_deepnote_index_column": "2021-03-05T00:00:00.000000"
        },
        {
         "Close": 201.8699951171875,
         "_deepnote_index_column": "2021-03-08T00:00:00.000000"
        },
        {
         "Close": 225.08999633789062,
         "_deepnote_index_column": "2021-03-09T00:00:00.000000"
        },
        {
         "Close": 226.72999572753906,
         "_deepnote_index_column": "2021-03-10T00:00:00.000000"
        },
        {
         "Close": 241.72000122070312,
         "_deepnote_index_column": "2021-03-11T00:00:00.000000"
        },
        {
         "Close": 242.11000061035156,
         "_deepnote_index_column": "2021-03-12T00:00:00.000000"
        },
        {
         "Close": 251.22999572753906,
         "_deepnote_index_column": "2021-03-15T00:00:00.000000"
        },
        {
         "Close": 243.36000061035156,
         "_deepnote_index_column": "2021-03-16T00:00:00.000000"
        },
        {
         "Close": 246.47000122070312,
         "_deepnote_index_column": "2021-03-17T00:00:00.000000"
        },
        {
         "Close": 224.3000030517578,
         "_deepnote_index_column": "2021-03-18T00:00:00.000000"
        },
        {
         "Close": 224.83999633789062,
         "_deepnote_index_column": "2021-03-19T00:00:00.000000"
        },
        {
         "Close": 226.1300048828125,
         "_deepnote_index_column": "2021-03-22T00:00:00.000000"
        },
        {
         "Close": 223.1999969482422,
         "_deepnote_index_column": "2021-03-23T00:00:00.000000"
        },
        {
         "Close": 213.50999450683594,
         "_deepnote_index_column": "2021-03-24T00:00:00.000000"
        },
        {
         "Close": 208.47000122070312,
         "_deepnote_index_column": "2021-03-25T00:00:00.000000"
        },
        {
         "Close": 213.60000610351562,
         "_deepnote_index_column": "2021-03-26T00:00:00.000000"
        },
        {
         "Close": 207.17999267578125,
         "_deepnote_index_column": "2021-03-29T00:00:00.000000"
        },
        {
         "Close": 212.8300018310547,
         "_deepnote_index_column": "2021-03-30T00:00:00.000000"
        },
        {
         "Close": 227.0500030517578,
         "_deepnote_index_column": "2021-03-31T00:00:00.000000"
        },
        {
         "Close": 229.50999450683594,
         "_deepnote_index_column": "2021-04-01T00:00:00.000000"
        },
        {
         "Close": 229.9499969482422,
         "_deepnote_index_column": "2021-04-05T00:00:00.000000"
        },
        {
         "Close": 236.5,
         "_deepnote_index_column": "2021-04-06T00:00:00.000000"
        },
        {
         "Close": 245.1199951171875,
         "_deepnote_index_column": "2021-04-07T00:00:00.000000"
        },
        {
         "Close": 258.3699951171875,
         "_deepnote_index_column": "2021-04-08T00:00:00.000000"
        },
        {
         "Close": 261.6499938964844,
         "_deepnote_index_column": "2021-04-09T00:00:00.000000"
        },
        {
         "Close": 265.20001220703125,
         "_deepnote_index_column": "2021-04-12T00:00:00.000000"
        },
        {
         "Close": 273.2300109863281,
         "_deepnote_index_column": "2021-04-13T00:00:00.000000"
        },
        {
         "Close": 258.3999938964844,
         "_deepnote_index_column": "2021-04-14T00:00:00.000000"
        },
        {
         "Close": 263.0799865722656,
         "_deepnote_index_column": "2021-04-15T00:00:00.000000"
        },
        {
         "Close": 256.1000061035156,
         "_deepnote_index_column": "2021-04-16T00:00:00.000000"
        },
        {
         "Close": 245.3300018310547,
         "_deepnote_index_column": "2021-04-19T00:00:00.000000"
        },
        {
         "Close": 245.5,
         "_deepnote_index_column": "2021-04-20T00:00:00.000000"
        },
        {
         "Close": 245.25,
         "_deepnote_index_column": "2021-04-21T00:00:00.000000"
        },
        {
         "Close": 245.11000061035156,
         "_deepnote_index_column": "2021-04-22T00:00:00.000000"
        },
        {
         "Close": 246.42999267578125,
         "_deepnote_index_column": "2021-04-23T00:00:00.000000"
        },
        {
         "Close": 255.77000427246094,
         "_deepnote_index_column": "2021-04-26T00:00:00.000000"
        },
        {
         "Close": 253.7899932861328,
         "_deepnote_index_column": "2021-04-27T00:00:00.000000"
        },
        {
         "Close": 254.1999969482422,
         "_deepnote_index_column": "2021-04-28T00:00:00.000000"
        },
        {
         "Close": 247.75999450683594,
         "_deepnote_index_column": "2021-04-29T00:00:00.000000"
        },
        {
         "Close": 244.82000732421875,
         "_deepnote_index_column": "2021-04-30T00:00:00.000000"
        },
        {
         "Close": 243.67999267578125,
         "_deepnote_index_column": "2021-05-03T00:00:00.000000"
        },
        {
         "Close": 231.19000244140625,
         "_deepnote_index_column": "2021-05-04T00:00:00.000000"
        },
        {
         "Close": 231.8699951171875,
         "_deepnote_index_column": "2021-05-05T00:00:00.000000"
        },
        {
         "Close": 223.9600067138672,
         "_deepnote_index_column": "2021-05-06T00:00:00.000000"
        },
        {
         "Close": 233.35000610351562,
         "_deepnote_index_column": "2021-05-07T00:00:00.000000"
        },
        {
         "Close": 216.42999267578125,
         "_deepnote_index_column": "2021-05-10T00:00:00.000000"
        },
        {
         "Close": 220.64999389648438,
         "_deepnote_index_column": "2021-05-11T00:00:00.000000"
        },
        {
         "Close": 206.6699981689453,
         "_deepnote_index_column": "2021-05-12T00:00:00.000000"
        },
        {
         "Close": 197.1300048828125,
         "_deepnote_index_column": "2021-05-13T00:00:00.000000"
        },
        {
         "Close": 207.85000610351562,
         "_deepnote_index_column": "2021-05-14T00:00:00.000000"
        },
        {
         "Close": 202.9199981689453,
         "_deepnote_index_column": "2021-05-17T00:00:00.000000"
        },
        {
         "Close": 203.16000366210938,
         "_deepnote_index_column": "2021-05-18T00:00:00.000000"
        },
        {
         "Close": 200.11000061035156,
         "_deepnote_index_column": "2021-05-19T00:00:00.000000"
        },
        {
         "Close": 204.91000366210938,
         "_deepnote_index_column": "2021-05-20T00:00:00.000000"
        },
        {
         "Close": 200.00999450683594,
         "_deepnote_index_column": "2021-05-21T00:00:00.000000"
        },
        {
         "Close": 210.9499969482422,
         "_deepnote_index_column": "2021-05-24T00:00:00.000000"
        },
        {
         "Close": 216.1999969482422,
         "_deepnote_index_column": "2021-05-25T00:00:00.000000"
        },
        {
         "Close": 222.33999633789062,
         "_deepnote_index_column": "2021-05-26T00:00:00.000000"
        },
        {
         "Close": 220.89999389648438,
         "_deepnote_index_column": "2021-05-27T00:00:00.000000"
        },
        {
         "Close": 222.52000427246094,
         "_deepnote_index_column": "2021-05-28T00:00:00.000000"
        },
        {
         "Close": 221.9499969482422,
         "_deepnote_index_column": "2021-06-01T00:00:00.000000"
        },
        {
         "Close": 220.41000366210938,
         "_deepnote_index_column": "2021-06-02T00:00:00.000000"
        },
        {
         "Close": 211.42999267578125,
         "_deepnote_index_column": "2021-06-03T00:00:00.000000"
        },
        {
         "Close": 213.69000244140625,
         "_deepnote_index_column": "2021-06-04T00:00:00.000000"
        },
        {
         "Close": 216.9499969482422,
         "_deepnote_index_column": "2021-06-07T00:00:00.000000"
        },
        {
         "Close": 214.1199951171875,
         "_deepnote_index_column": "2021-06-08T00:00:00.000000"
        },
        {
         "Close": 210.2100067138672,
         "_deepnote_index_column": "2021-06-09T00:00:00.000000"
        },
        {
         "Close": 217.13999938964844,
         "_deepnote_index_column": "2021-06-10T00:00:00.000000"
        },
        {
         "Close": 219.33999633789062,
         "_deepnote_index_column": "2021-06-11T00:00:00.000000"
        },
        {
         "Close": 230.9499969482422,
         "_deepnote_index_column": "2021-06-14T00:00:00.000000"
        },
        {
         "Close": 227.75,
         "_deepnote_index_column": "2021-06-15T00:00:00.000000"
        },
        {
         "Close": 225.11000061035156,
         "_deepnote_index_column": "2021-06-16T00:00:00.000000"
        },
        {
         "Close": 236.1300048828125,
         "_deepnote_index_column": "2021-06-17T00:00:00.000000"
        },
        {
         "Close": 237.0500030517578,
         "_deepnote_index_column": "2021-06-18T00:00:00.000000"
        },
        {
         "Close": 233.88999938964844,
         "_deepnote_index_column": "2021-06-21T00:00:00.000000"
        },
        {
         "Close": 235.97000122070312,
         "_deepnote_index_column": "2021-06-22T00:00:00.000000"
        },
        {
         "Close": 238.6999969482422,
         "_deepnote_index_column": "2021-06-23T00:00:00.000000"
        },
        {
         "Close": 244.14999389648438,
         "_deepnote_index_column": "2021-06-24T00:00:00.000000"
        },
        {
         "Close": 239.94000244140625,
         "_deepnote_index_column": "2021-06-25T00:00:00.000000"
        },
        {
         "Close": 246.60000610351562,
         "_deepnote_index_column": "2021-06-28T00:00:00.000000"
        },
        {
         "Close": 248.8699951171875,
         "_deepnote_index_column": "2021-06-29T00:00:00.000000"
        },
        {
         "Close": 243.8000030517578,
         "_deepnote_index_column": "2021-06-30T00:00:00.000000"
        },
        {
         "Close": 241.85000610351562,
         "_deepnote_index_column": "2021-07-01T00:00:00.000000"
        },
        {
         "Close": 241.0800018310547,
         "_deepnote_index_column": "2021-07-02T00:00:00.000000"
        },
        {
         "Close": 246.6999969482422,
         "_deepnote_index_column": "2021-07-06T00:00:00.000000"
        },
        {
         "Close": 244.63999938964844,
         "_deepnote_index_column": "2021-07-07T00:00:00.000000"
        },
        {
         "Close": 235.89999389648438,
         "_deepnote_index_column": "2021-07-08T00:00:00.000000"
        },
        {
         "Close": 241.88999938964844,
         "_deepnote_index_column": "2021-07-09T00:00:00.000000"
        },
        {
         "Close": 243.35000610351562,
         "_deepnote_index_column": "2021-07-12T00:00:00.000000"
        },
        {
         "Close": 241.42999267578125,
         "_deepnote_index_column": "2021-07-13T00:00:00.000000"
        },
        {
         "Close": 239,
         "_deepnote_index_column": "2021-07-14T00:00:00.000000"
        },
        {
         "Close": 235.16000366210938,
         "_deepnote_index_column": "2021-07-15T00:00:00.000000"
        },
        {
         "Close": 237.52000427246094,
         "_deepnote_index_column": "2021-07-16T00:00:00.000000"
        },
        {
         "Close": 233.69000244140625,
         "_deepnote_index_column": "2021-07-19T00:00:00.000000"
        },
        {
         "Close": 246.47000122070312,
         "_deepnote_index_column": "2021-07-20T00:00:00.000000"
        },
        {
         "Close": 257.25,
         "_deepnote_index_column": "2021-07-21T00:00:00.000000"
        },
        {
         "Close": 260.5899963378906,
         "_deepnote_index_column": "2021-07-22T00:00:00.000000"
        },
        {
         "Close": 264,
         "_deepnote_index_column": "2021-07-23T00:00:00.000000"
        },
        {
         "Close": 261.989990234375,
         "_deepnote_index_column": "2021-07-26T00:00:00.000000"
        },
        {
         "Close": 251.72999572753906,
         "_deepnote_index_column": "2021-07-27T00:00:00.000000"
        },
        {
         "Close": 258.6099853515625,
         "_deepnote_index_column": "2021-07-28T00:00:00.000000"
        },
        {
         "Close": 255.27999877929688,
         "_deepnote_index_column": "2021-07-29T00:00:00.000000"
        },
        {
         "Close": 247.25999450683594,
         "_deepnote_index_column": "2021-07-30T00:00:00.000000"
        },
        {
         "Close": 272.3800048828125,
         "_deepnote_index_column": "2021-08-02T00:00:00.000000"
        },
        {
         "Close": 269.489990234375,
         "_deepnote_index_column": "2021-08-03T00:00:00.000000"
        },
        {
         "Close": 266.4200134277344,
         "_deepnote_index_column": "2021-08-04T00:00:00.000000"
        },
        {
         "Close": 281.80999755859375,
         "_deepnote_index_column": "2021-08-05T00:00:00.000000"
        },
        {
         "Close": 275.1000061035156,
         "_deepnote_index_column": "2021-08-06T00:00:00.000000"
        },
        {
         "Close": 279.7300109863281,
         "_deepnote_index_column": "2021-08-09T00:00:00.000000"
        },
        {
         "Close": 273.0799865722656,
         "_deepnote_index_column": "2021-08-10T00:00:00.000000"
        }
       ],
       "rows_bottom": null
      },
      "text/plain": "                 Close\nDate                  \n2019-09-03   61.130001\n2019-09-04   61.169998\n2019-09-05   63.020000\n2019-09-06   62.000000\n2019-09-09   61.470001\n...                ...\n2021-08-04  266.420013\n2021-08-05  281.809998\n2021-08-06  275.100006\n2021-08-09  279.730011\n2021-08-10  273.079987\n\n[489 rows x 1 columns]",
      "text/html": "<div>\n<style scoped>\n    .dataframe tbody tr th:only-of-type {\n        vertical-align: middle;\n    }\n\n    .dataframe tbody tr th {\n        vertical-align: top;\n    }\n\n    .dataframe thead th {\n        text-align: right;\n    }\n</style>\n<table border=\"1\" class=\"dataframe\">\n  <thead>\n    <tr style=\"text-align: right;\">\n      <th></th>\n      <th>Close</th>\n    </tr>\n    <tr>\n      <th>Date</th>\n      <th></th>\n    </tr>\n  </thead>\n  <tbody>\n    <tr>\n      <th>2019-09-03</th>\n      <td>61.130001</td>\n    </tr>\n    <tr>\n      <th>2019-09-04</th>\n      <td>61.169998</td>\n    </tr>\n    <tr>\n      <th>2019-09-05</th>\n      <td>63.020000</td>\n    </tr>\n    <tr>\n      <th>2019-09-06</th>\n      <td>62.000000</td>\n    </tr>\n    <tr>\n      <th>2019-09-09</th>\n      <td>61.470001</td>\n    </tr>\n    <tr>\n      <th>...</th>\n      <td>...</td>\n    </tr>\n    <tr>\n      <th>2021-08-04</th>\n      <td>266.420013</td>\n    </tr>\n    <tr>\n      <th>2021-08-05</th>\n      <td>281.809998</td>\n    </tr>\n    <tr>\n      <th>2021-08-06</th>\n      <td>275.100006</td>\n    </tr>\n    <tr>\n      <th>2021-08-09</th>\n      <td>279.730011</td>\n    </tr>\n    <tr>\n      <th>2021-08-10</th>\n      <td>273.079987</td>\n    </tr>\n  </tbody>\n</table>\n<p>489 rows × 1 columns</p>\n</div>"
     },
     "metadata": {}
    }
   ],
   "execution_count": null
  },
  {
   "cell_type": "code",
   "metadata": {
    "tags": [],
    "deepnote_to_be_reexecuted": false,
    "source_hash": "a6920270",
    "execution_start": 1629328260723,
    "execution_millis": 1,
    "cell_id": "00002-e8bd17be-1cb2-4b0c-8b91-f72ac560cd2f",
    "deepnote_cell_type": "code"
   },
   "source": "# sq_1hr.to_csv('SQ Hourly Close.csv')",
   "outputs": [],
   "execution_count": null
  },
  {
   "cell_type": "code",
   "metadata": {
    "tags": [],
    "deepnote_to_be_reexecuted": false,
    "source_hash": "55ebf91e",
    "execution_start": 1629328260731,
    "execution_millis": 258,
    "cell_id": "00003-09d53a95-5bdc-4070-b8bb-b77abd06662a",
    "deepnote_cell_type": "code"
   },
   "source": "\ndef get_macd(price, slow, fast, smooth):\n    exp1 = price.ewm(span = fast, adjust = False).mean()\n    exp2 = price.ewm(span = slow, adjust = False).mean()\n    macd = pd.DataFrame(exp1 - exp2).rename(columns = {'Close':'macd'})\n    signal = pd.DataFrame(macd.ewm(span = smooth, adjust = False).mean()).rename(columns = {'macd':'signal'})\n    hist = pd.DataFrame(macd['macd'] - signal['signal']).rename(columns = {0:'hist'})\n    frames =  [macd, signal, hist]\n    df = pd.concat(frames, join = 'inner', axis = 1)\n    return df\n\nsq_macd = get_macd(sq_daily['Close'], 26, 12, 9)\nsq_macd.tail()",
   "outputs": [
    {
     "output_type": "execute_result",
     "execution_count": 4,
     "data": {
      "application/vnd.deepnote.dataframe.v2+json": {
       "row_count": 5,
       "column_count": 3,
       "columns": [
        {
         "name": "macd",
         "dtype": "float64",
         "stats": {
          "unique_count": 5,
          "nan_count": 0,
          "min": "7.632963512239485",
          "max": "9.87214606544751",
          "histogram": [
           {
            "bin_start": 7.632963512239485,
            "bin_end": 7.856881767560287,
            "count": 1
           },
           {
            "bin_start": 7.856881767560287,
            "bin_end": 8.080800022881089,
            "count": 0
           },
           {
            "bin_start": 8.080800022881089,
            "bin_end": 8.304718278201893,
            "count": 0
           },
           {
            "bin_start": 8.304718278201893,
            "bin_end": 8.528636533522695,
            "count": 0
           },
           {
            "bin_start": 8.528636533522695,
            "bin_end": 8.752554788843497,
            "count": 0
           },
           {
            "bin_start": 8.752554788843497,
            "bin_end": 8.9764730441643,
            "count": 1
           },
           {
            "bin_start": 8.9764730441643,
            "bin_end": 9.200391299485101,
            "count": 0
           },
           {
            "bin_start": 9.200391299485101,
            "bin_end": 9.424309554805905,
            "count": 1
           },
           {
            "bin_start": 9.424309554805905,
            "bin_end": 9.648227810126707,
            "count": 0
           },
           {
            "bin_start": 9.648227810126707,
            "bin_end": 9.87214606544751,
            "count": 2
           }
          ]
         }
        },
        {
         "name": "signal",
         "dtype": "float64",
         "stats": {
          "unique_count": 5,
          "nan_count": 0,
          "min": "6.450068076821837",
          "max": "8.261602545972714",
          "histogram": [
           {
            "bin_start": 6.450068076821837,
            "bin_end": 6.631221523736924,
            "count": 1
           },
           {
            "bin_start": 6.631221523736924,
            "bin_end": 6.812374970652012,
            "count": 0
           },
           {
            "bin_start": 6.812374970652012,
            "bin_end": 6.9935284175671,
            "count": 1
           },
           {
            "bin_start": 6.9935284175671,
            "bin_end": 7.174681864482188,
            "count": 0
           },
           {
            "bin_start": 7.174681864482188,
            "bin_end": 7.355835311397275,
            "count": 0
           },
           {
            "bin_start": 7.355835311397275,
            "bin_end": 7.536988758312363,
            "count": 1
           },
           {
            "bin_start": 7.536988758312363,
            "bin_end": 7.718142205227451,
            "count": 0
           },
           {
            "bin_start": 7.718142205227451,
            "bin_end": 7.899295652142539,
            "count": 0
           },
           {
            "bin_start": 7.899295652142539,
            "bin_end": 8.080449099057626,
            "count": 1
           },
           {
            "bin_start": 8.080449099057626,
            "bin_end": 8.261602545972714,
            "count": 1
           }
          ]
         }
        },
        {
         "name": "hist",
         "dtype": "float64",
         "stats": {
          "unique_count": 5,
          "nan_count": 0,
          "min": "1.182895435417648",
          "max": "1.984850154886077",
          "histogram": [
           {
            "bin_start": 1.182895435417648,
            "bin_end": 1.263090907364491,
            "count": 1
           },
           {
            "bin_start": 1.263090907364491,
            "bin_end": 1.3432863793113339,
            "count": 0
           },
           {
            "bin_start": 1.3432863793113339,
            "bin_end": 1.4234818512581766,
            "count": 1
           },
           {
            "bin_start": 1.4234818512581766,
            "bin_end": 1.5036773232050196,
            "count": 0
           },
           {
            "bin_start": 1.5036773232050196,
            "bin_end": 1.5838727951518625,
            "count": 0
           },
           {
            "bin_start": 1.5838727951518625,
            "bin_end": 1.6640682670987055,
            "count": 0
           },
           {
            "bin_start": 1.6640682670987055,
            "bin_end": 1.7442637390455484,
            "count": 0
           },
           {
            "bin_start": 1.7442637390455484,
            "bin_end": 1.8244592109923912,
            "count": 0
           },
           {
            "bin_start": 1.8244592109923912,
            "bin_end": 1.9046546829392343,
            "count": 1
           },
           {
            "bin_start": 1.9046546829392343,
            "bin_end": 1.984850154886077,
            "count": 2
           }
          ]
         }
        },
        {
         "name": "_deepnote_index_column",
         "dtype": "datetime64[ns]"
        }
       ],
       "rows_top": [
        {
         "macd": 7.632963512239485,
         "signal": 6.450068076821837,
         "hist": 1.182895435417648,
         "_deepnote_index_column": "2021-08-04T00:00:00.000000"
        },
        {
         "macd": 8.931130770429434,
         "signal": 6.9462806155433565,
         "hist": 1.984850154886077,
         "_deepnote_index_column": "2021-08-05T00:00:00.000000"
        },
        {
         "macd": 9.31116413845885,
         "signal": 7.419257320126455,
         "hist": 1.8919068183323944,
         "_deepnote_index_column": "2021-08-06T00:00:00.000000"
        },
        {
         "macd": 9.87214606544751,
         "signal": 7.909835069190667,
         "hist": 1.9623109962568428,
         "_deepnote_index_column": "2021-08-09T00:00:00.000000"
        },
        {
         "macd": 9.668672453100896,
         "signal": 8.261602545972714,
         "hist": 1.4070699071281823,
         "_deepnote_index_column": "2021-08-10T00:00:00.000000"
        }
       ],
       "rows_bottom": null
      },
      "text/plain": "                macd    signal      hist\nDate                                    \n2021-08-04  7.632964  6.450068  1.182895\n2021-08-05  8.931131  6.946281  1.984850\n2021-08-06  9.311164  7.419257  1.891907\n2021-08-09  9.872146  7.909835  1.962311\n2021-08-10  9.668672  8.261603  1.407070",
      "text/html": "<div>\n<style scoped>\n    .dataframe tbody tr th:only-of-type {\n        vertical-align: middle;\n    }\n\n    .dataframe tbody tr th {\n        vertical-align: top;\n    }\n\n    .dataframe thead th {\n        text-align: right;\n    }\n</style>\n<table border=\"1\" class=\"dataframe\">\n  <thead>\n    <tr style=\"text-align: right;\">\n      <th></th>\n      <th>macd</th>\n      <th>signal</th>\n      <th>hist</th>\n    </tr>\n    <tr>\n      <th>Date</th>\n      <th></th>\n      <th></th>\n      <th></th>\n    </tr>\n  </thead>\n  <tbody>\n    <tr>\n      <th>2021-08-04</th>\n      <td>7.632964</td>\n      <td>6.450068</td>\n      <td>1.182895</td>\n    </tr>\n    <tr>\n      <th>2021-08-05</th>\n      <td>8.931131</td>\n      <td>6.946281</td>\n      <td>1.984850</td>\n    </tr>\n    <tr>\n      <th>2021-08-06</th>\n      <td>9.311164</td>\n      <td>7.419257</td>\n      <td>1.891907</td>\n    </tr>\n    <tr>\n      <th>2021-08-09</th>\n      <td>9.872146</td>\n      <td>7.909835</td>\n      <td>1.962311</td>\n    </tr>\n    <tr>\n      <th>2021-08-10</th>\n      <td>9.668672</td>\n      <td>8.261603</td>\n      <td>1.407070</td>\n    </tr>\n  </tbody>\n</table>\n</div>"
     },
     "metadata": {}
    }
   ],
   "execution_count": null
  },
  {
   "cell_type": "code",
   "metadata": {
    "tags": [],
    "deepnote_to_be_reexecuted": false,
    "source_hash": "e3215ea0",
    "execution_start": 1629328260970,
    "execution_millis": 3073,
    "cell_id": "00004-43e483ed-f04f-4f68-a4d5-bdd7fbe1a8cd",
    "deepnote_cell_type": "code"
   },
   "source": "def plot_macd(prices, macd, signal, hist):\n    ax1 = plt.subplot2grid((8,1), (0,0), rowspan = 5, colspan = 1)\n    ax2 = plt.subplot2grid((8,1), (5,0), rowspan = 3, colspan = 1)\n\n    ax1.plot(prices)\n    ax2.plot(macd, color = 'grey', linewidth = 1.5, label = 'MACD')\n    ax2.plot(signal, color = 'skyblue', linewidth = 1.5, label = 'SIGNAL')\n\n    for i in range(len(prices)):\n        if str(hist[i])[0] == '-':\n            ax2.bar(prices.index[i], hist[i], color = '#ef5350')\n        else:\n            ax2.bar(prices.index[i], hist[i], color = '#26a69a')\n\n    plt.legend(loc = 'lower right')\n\nplot_macd(sq_daily['Close'], sq_macd['macd'], sq_macd['signal'], sq_macd['hist'])",
   "outputs": [
    {
     "data": {
      "text/plain": "<Figure size 1440x720 with 2 Axes>",
      "image/png": "[encoded data removed]"
     },
     "metadata": {
      "image/png": {
       "width": 1300,
       "height": 615
      }
     },
     "output_type": "display_data"
    }
   ],
   "execution_count": null
  },
  {
   "cell_type": "code",
   "metadata": {
    "tags": [],
    "deepnote_to_be_reexecuted": false,
    "source_hash": "17e10c5c",
    "execution_start": 1629328264048,
    "execution_millis": 81,
    "cell_id": "00005-a5ad39ab-75f0-451b-94d6-26671ab5d871",
    "deepnote_cell_type": "code"
   },
   "source": "def implement_macd_strategy(prices, data):    \n    buy_price = []\n    sell_price = []\n    macd_signal = []\n    signal = 0\n\n    for i in range(len(data)):\n        if data['macd'][i] > data['signal'][i]:\n            if signal != 1:\n                buy_price.append(prices[i])\n                sell_price.append(np.nan)\n                signal = 1\n                macd_signal.append(signal)\n            else:\n                buy_price.append(np.nan)\n                sell_price.append(np.nan)\n                macd_signal.append(0)\n        elif data['macd'][i] < data['signal'][i]:\n            if signal != -1:\n                buy_price.append(np.nan)\n                sell_price.append(prices[i])\n                signal = -1\n                macd_signal.append(signal)\n            else:\n                buy_price.append(np.nan)\n                sell_price.append(np.nan)\n                macd_signal.append(0)\n        else:\n            buy_price.append(np.nan)\n            sell_price.append(np.nan)\n            macd_signal.append(0)\n            \n    return buy_price, sell_price, macd_signal\n            \nbuy_price, sell_price, macd_signal = implement_macd_strategy(sq_daily['Close'], sq_macd)",
   "outputs": [],
   "execution_count": null
  },
  {
   "cell_type": "code",
   "metadata": {
    "tags": [],
    "deepnote_to_be_reexecuted": false,
    "source_hash": "60b14915",
    "execution_start": 1629328264156,
    "execution_millis": 3344,
    "cell_id": "00006-9ae42dfa-557a-4737-bb35-b8f648c58f0c",
    "deepnote_cell_type": "code"
   },
   "source": "ax1 = plt.subplot2grid((8,1), (0,0), rowspan = 5, colspan = 1)\nax2 = plt.subplot2grid((8,1), (5,0), rowspan = 3, colspan = 1)\n\nax1.plot(sq_daily['Close'], color = 'skyblue', linewidth = 2, label = 'SQ')\nax1.plot(sq_daily.index, buy_price, marker = '^', color = 'green', markersize = 10, label = 'BUY SIGNAL', linewidth = 0)\nax1.plot(sq_daily.index, sell_price, marker = 'v', color = 'r', markersize = 10, label = 'SELL SIGNAL', linewidth = 0)\nax1.legend()\nax1.set_title('SQ MACD SIGNALS')\nax2.plot(sq_macd['macd'], color = 'grey', linewidth = 1.5, label = 'MACD')\nax2.plot(sq_macd['signal'], color = 'skyblue', linewidth = 1.5, label = 'SIGNAL')\n\nfor i in range(len(sq_macd)):\n    if str(sq_macd['hist'][i])[0] == '-':\n        ax2.bar(sq_macd.index[i], sq_macd['hist'][i], color = '#ef5350')\n    else:\n        ax2.bar(sq_macd.index[i], sq_macd['hist'][i], color = '#26a69a')\n        \nplt.legend(loc = 'lower right')\nplt.show()",
   "outputs": [
    {
     "data": {
      "text/plain": "<Figure size 1440x720 with 2 Axes>",
      "image/png": "[encoded data removed]"
     },
     "metadata": {
      "image/png": {
       "width": 1300,
       "height": 636
      }
     },
     "output_type": "display_data"
    }
   ],
   "execution_count": null
  },
  {
   "cell_type": "code",
   "metadata": {
    "tags": [],
    "deepnote_to_be_reexecuted": false,
    "source_hash": "43d6f376",
    "execution_start": 1629328267524,
    "execution_millis": 100,
    "cell_id": "00007-bff94435-7c74-48b0-b91c-501b73088062",
    "deepnote_cell_type": "code"
   },
   "source": "position = []\nfor i in range(len(macd_signal)):\n    if macd_signal[i] > 1:\n        position.append(0)\n    else:\n        position.append(1)\n        \nfor i in range(len(sq_daily['Close'])):\n    if macd_signal[i] == 1:\n        position[i] = 1\n    elif macd_signal[i] == -1:\n        position[i] = 0\n    else:\n        position[i] = position[i-1]\n        \nmacd = sq_macd['macd']\nsignal = sq_macd['signal']\nclose_price = sq_daily['Close']\nmacd_signal = pd.DataFrame(macd_signal).rename(columns = {0:'macd_signal'}).set_index(sq_daily.index)\nposition = pd.DataFrame(position).rename(columns = {0:'macd_position'}).set_index(sq_daily.index)\n\nframes = [close_price, macd, signal, macd_signal, position]\nstrategy = pd.concat(frames, join = 'inner', axis = 1)\n\nstrategy",
   "outputs": [
    {
     "output_type": "execute_result",
     "execution_count": 8,
     "data": {
      "application/vnd.deepnote.dataframe.v2+json": {
       "row_count": 489,
       "column_count": 5,
       "columns": [
        {
         "name": "Close",
         "dtype": "float64",
         "stats": {
          "unique_count": 478,
          "nan_count": 0,
          "min": "38.09000015258789",
          "max": "281.80999755859375",
          "histogram": [
           {
            "bin_start": 38.09000015258789,
            "bin_end": 62.46199989318848,
            "count": 76
           },
           {
            "bin_start": 62.46199989318848,
            "bin_end": 86.83399963378906,
            "count": 114
           },
           {
            "bin_start": 86.83399963378906,
            "bin_end": 111.20599937438965,
            "count": 19
           },
           {
            "bin_start": 111.20599937438965,
            "bin_end": 135.57799911499023,
            "count": 23
           },
           {
            "bin_start": 135.57799911499023,
            "bin_end": 159.94999885559082,
            "count": 39
           },
           {
            "bin_start": 159.94999885559082,
            "bin_end": 184.3219985961914,
            "count": 26
           },
           {
            "bin_start": 184.3219985961914,
            "bin_end": 208.693998336792,
            "count": 32
           },
           {
            "bin_start": 208.693998336792,
            "bin_end": 233.06599807739258,
            "count": 74
           },
           {
            "bin_start": 233.06599807739258,
            "bin_end": 257.43799781799316,
            "count": 59
           },
           {
            "bin_start": 257.43799781799316,
            "bin_end": 281.80999755859375,
            "count": 27
           }
          ]
         }
        },
        {
         "name": "macd",
         "dtype": "float64",
         "stats": {
          "unique_count": 489,
          "nan_count": 0,
          "min": "-11.320825688303472",
          "max": "14.034281906042878",
          "histogram": [
           {
            "bin_start": -11.320825688303472,
            "bin_end": -8.785314928868837,
            "count": 12
           },
           {
            "bin_start": -8.785314928868837,
            "bin_end": -6.249804169434202,
            "count": 13
           },
           {
            "bin_start": -6.249804169434202,
            "bin_end": -3.7142934099995664,
            "count": 25
           },
           {
            "bin_start": -3.7142934099995664,
            "bin_end": -1.1787826505649317,
            "count": 27
           },
           {
            "bin_start": -1.1787826505649317,
            "bin_end": 1.356728108869703,
            "count": 121
           },
           {
            "bin_start": 1.356728108869703,
            "bin_end": 3.8922388683043394,
            "count": 88
           },
           {
            "bin_start": 3.8922388683043394,
            "bin_end": 6.427749627738972,
            "count": 85
           },
           {
            "bin_start": 6.427749627738972,
            "bin_end": 8.963260387173609,
            "count": 74
           },
           {
            "bin_start": 8.963260387173609,
            "bin_end": 11.498771146608245,
            "count": 36
           },
           {
            "bin_start": 11.498771146608245,
            "bin_end": 14.034281906042878,
            "count": 8
           }
          ]
         }
        },
        {
         "name": "signal",
         "dtype": "float64",
         "stats": {
          "unique_count": 489,
          "nan_count": 0,
          "min": "-9.23997975617793",
          "max": "11.36371437143682",
          "histogram": [
           {
            "bin_start": -9.23997975617793,
            "bin_end": -7.1796103434164555,
            "count": 13
           },
           {
            "bin_start": -7.1796103434164555,
            "bin_end": -5.11924093065498,
            "count": 19
           },
           {
            "bin_start": -5.11924093065498,
            "bin_end": -3.058871517893505,
            "count": 20
           },
           {
            "bin_start": -3.058871517893505,
            "bin_end": -0.9985021051320295,
            "count": 23
           },
           {
            "bin_start": -0.9985021051320295,
            "bin_end": 1.061867307629445,
            "count": 112
           },
           {
            "bin_start": 1.061867307629445,
            "bin_end": 3.122236720390921,
            "count": 75
           },
           {
            "bin_start": 3.122236720390921,
            "bin_end": 5.182606133152397,
            "count": 72
           },
           {
            "bin_start": 5.182606133152397,
            "bin_end": 7.242975545913872,
            "count": 64
           },
           {
            "bin_start": 7.242975545913872,
            "bin_end": 9.303344958675346,
            "count": 73
           },
           {
            "bin_start": 9.303344958675346,
            "bin_end": 11.36371437143682,
            "count": 18
           }
          ]
         }
        },
        {
         "name": "macd_signal",
         "dtype": "int64",
         "stats": {
          "unique_count": 3,
          "nan_count": 0,
          "min": "-1",
          "max": "1",
          "histogram": [
           {
            "bin_start": -1,
            "bin_end": -0.8,
            "count": 21
           },
           {
            "bin_start": -0.8,
            "bin_end": -0.6,
            "count": 0
           },
           {
            "bin_start": -0.6,
            "bin_end": -0.3999999999999999,
            "count": 0
           },
           {
            "bin_start": -0.3999999999999999,
            "bin_end": -0.19999999999999996,
            "count": 0
           },
           {
            "bin_start": -0.19999999999999996,
            "bin_end": 0,
            "count": 0
           },
           {
            "bin_start": 0,
            "bin_end": 0.20000000000000018,
            "count": 446
           },
           {
            "bin_start": 0.20000000000000018,
            "bin_end": 0.40000000000000013,
            "count": 0
           },
           {
            "bin_start": 0.40000000000000013,
            "bin_end": 0.6000000000000001,
            "count": 0
           },
           {
            "bin_start": 0.6000000000000001,
            "bin_end": 0.8,
            "count": 0
           },
           {
            "bin_start": 0.8,
            "bin_end": 1,
            "count": 22
           }
          ]
         }
        },
        {
         "name": "macd_position",
         "dtype": "int64",
         "stats": {
          "unique_count": 2,
          "nan_count": 0,
          "min": "0",
          "max": "1",
          "histogram": [
           {
            "bin_start": 0,
            "bin_end": 0.1,
            "count": 205
           },
           {
            "bin_start": 0.1,
            "bin_end": 0.2,
            "count": 0
           },
           {
            "bin_start": 0.2,
            "bin_end": 0.30000000000000004,
            "count": 0
           },
           {
            "bin_start": 0.30000000000000004,
            "bin_end": 0.4,
            "count": 0
           },
           {
            "bin_start": 0.4,
            "bin_end": 0.5,
            "count": 0
           },
           {
            "bin_start": 0.5,
            "bin_end": 0.6000000000000001,
            "count": 0
           },
           {
            "bin_start": 0.6000000000000001,
            "bin_end": 0.7000000000000001,
            "count": 0
           },
           {
            "bin_start": 0.7000000000000001,
            "bin_end": 0.8,
            "count": 0
           },
           {
            "bin_start": 0.8,
            "bin_end": 0.9,
            "count": 0
           },
           {
            "bin_start": 0.9,
            "bin_end": 1,
            "count": 284
           }
          ]
         }
        },
        {
         "name": "_deepnote_index_column",
         "dtype": "datetime64[ns]"
        }
       ],
       "rows_top": [
        {
         "Close": 61.130001068115234,
         "macd": 0,
         "signal": 0,
         "macd_signal": 0,
         "macd_position": 1,
         "_deepnote_index_column": "2019-09-03T00:00:00.000000"
        },
        {
         "Close": 61.16999816894531,
         "macd": 0.0031906519180679993,
         "signal": 0.0006381303836135999,
         "macd_signal": 1,
         "macd_position": 1,
         "_deepnote_index_column": "2019-09-04T00:00:00.000000"
        },
        {
         "Close": 63.02000045776367,
         "macd": 0.1532326198858982,
         "signal": 0.03115702828407052,
         "macd_signal": 0,
         "macd_position": 1,
         "_deepnote_index_column": "2019-09-05T00:00:00.000000"
        },
        {
         "Close": 62,
         "macd": 0.18767306972700482,
         "signal": 0.06246023657265738,
         "macd_signal": 0,
         "macd_position": 1,
         "_deepnote_index_column": "2019-09-06T00:00:00.000000"
        },
        {
         "Close": 61.470001220703125,
         "macd": 0.17023849880701647,
         "signal": 0.0840158890195292,
         "macd_signal": 0,
         "macd_position": 1,
         "_deepnote_index_column": "2019-09-09T00:00:00.000000"
        },
        {
         "Close": 60.54999923706055,
         "macd": 0.08124842319386971,
         "signal": 0.0834623958543973,
         "macd_signal": -1,
         "macd_position": 0,
         "_deepnote_index_column": "2019-09-10T00:00:00.000000"
        },
        {
         "Close": 59.20000076293945,
         "macd": -0.09709123994512225,
         "signal": 0.047351668694493386,
         "macd_signal": 0,
         "macd_position": 0,
         "_deepnote_index_column": "2019-09-11T00:00:00.000000"
        },
        {
         "Close": 57.790000915527344,
         "macd": -0.3481882146772577,
         "signal": -0.031756307979856825,
         "macd_signal": 0,
         "macd_position": 0,
         "_deepnote_index_column": "2019-09-12T00:00:00.000000"
        },
        {
         "Close": 58.290000915527344,
         "macd": -0.5010626169354566,
         "signal": -0.1256175697709768,
         "macd_signal": 0,
         "macd_position": 0,
         "_deepnote_index_column": "2019-09-13T00:00:00.000000"
        },
        {
         "Close": 59.25,
         "macd": -0.5385447701777011,
         "signal": -0.20820300985232165,
         "macd_signal": 0,
         "macd_position": 0,
         "_deepnote_index_column": "2019-09-16T00:00:00.000000"
        },
        {
         "Close": 59.599998474121094,
         "macd": -0.5338537610196283,
         "signal": -0.273333160085783,
         "macd_signal": 0,
         "macd_position": 0,
         "_deepnote_index_column": "2019-09-17T00:00:00.000000"
        },
        {
         "Close": 59.75,
         "macd": -0.5121287317114849,
         "signal": -0.32109227441092336,
         "macd_signal": 0,
         "macd_position": 0,
         "_deepnote_index_column": "2019-09-18T00:00:00.000000"
        },
        {
         "Close": 59.029998779296875,
         "macd": -0.5467074673043655,
         "signal": -0.36621531298961185,
         "macd_signal": 0,
         "macd_position": 0,
         "_deepnote_index_column": "2019-09-19T00:00:00.000000"
        },
        {
         "Close": 57.849998474121094,
         "macd": -0.6616998632124762,
         "signal": -0.42531222303418476,
         "macd_signal": 0,
         "macd_position": 0,
         "_deepnote_index_column": "2019-09-20T00:00:00.000000"
        },
        {
         "Close": 56.7599983215332,
         "macd": -0.8312044606322573,
         "signal": -0.5064906705537993,
         "macd_signal": 0,
         "macd_position": 0,
         "_deepnote_index_column": "2019-09-23T00:00:00.000000"
        },
        {
         "Close": 57.5,
         "macd": -0.8955033194665631,
         "signal": -0.5842932003363521,
         "macd_signal": 0,
         "macd_position": 0,
         "_deepnote_index_column": "2019-09-24T00:00:00.000000"
        },
        {
         "Close": 58.5099983215332,
         "macd": -0.8551050855595435,
         "signal": -0.6384555773809903,
         "macd_signal": 0,
         "macd_position": 0,
         "_deepnote_index_column": "2019-09-25T00:00:00.000000"
        },
        {
         "Close": 60.79999923706055,
         "macd": -0.6310311245867908,
         "signal": -0.6369706868221505,
         "macd_signal": 1,
         "macd_position": 1,
         "_deepnote_index_column": "2019-09-26T00:00:00.000000"
        },
        {
         "Close": 60.75,
         "macd": -0.45227190769745107,
         "signal": -0.6000309309972107,
         "macd_signal": 0,
         "macd_position": 1,
         "_deepnote_index_column": "2019-09-27T00:00:00.000000"
        },
        {
         "Close": 61.95000076293945,
         "macd": -0.21133773778958442,
         "signal": -0.5222922923556854,
         "macd_signal": 0,
         "macd_position": 1,
         "_deepnote_index_column": "2019-09-30T00:00:00.000000"
        },
        {
         "Close": 61.630001068115234,
         "macd": -0.0456902841692326,
         "signal": -0.42697189071839486,
         "macd_signal": 0,
         "macd_position": 1,
         "_deepnote_index_column": "2019-10-01T00:00:00.000000"
        },
        {
         "Close": 60.08000183105469,
         "macd": -0.03903549144963847,
         "signal": -0.3493846108646436,
         "macd_signal": 0,
         "macd_position": 1,
         "_deepnote_index_column": "2019-10-02T00:00:00.000000"
        },
        {
         "Close": 62.04999923706055,
         "macd": 0.123774016618313,
         "signal": -0.2547528853680523,
         "macd_signal": 0,
         "macd_position": 1,
         "_deepnote_index_column": "2019-10-03T00:00:00.000000"
        },
        {
         "Close": 62.650001525878906,
         "macd": 0.29778422385228964,
         "signal": -0.14424546352398393,
         "macd_signal": 0,
         "macd_position": 1,
         "_deepnote_index_column": "2019-10-04T00:00:00.000000"
        },
        {
         "Close": 62.25,
         "macd": 0.3988145012577746,
         "signal": -0.03563347056763222,
         "macd_signal": 0,
         "macd_position": 1,
         "_deepnote_index_column": "2019-10-07T00:00:00.000000"
        },
        {
         "Close": 60.79999923706055,
         "macd": 0.35775480587081177,
         "signal": 0.04304418472005658,
         "macd_signal": 0,
         "macd_position": 1,
         "_deepnote_index_column": "2019-10-08T00:00:00.000000"
        },
        {
         "Close": 62.220001220703125,
         "macd": 0.434785062529194,
         "signal": 0.12139236028188408,
         "macd_signal": 0,
         "macd_position": 1,
         "_deepnote_index_column": "2019-10-09T00:00:00.000000"
        },
        {
         "Close": 62.029998779296875,
         "macd": 0.47502469777581524,
         "signal": 0.1921188277806703,
         "macd_signal": 0,
         "macd_position": 1,
         "_deepnote_index_column": "2019-10-10T00:00:00.000000"
        },
        {
         "Close": 61.540000915527344,
         "macd": 0.46204994198142657,
         "signal": 0.24610505062082155,
         "macd_signal": 0,
         "macd_position": 1,
         "_deepnote_index_column": "2019-10-11T00:00:00.000000"
        },
        {
         "Close": 61.83000183105469,
         "macd": 0.469752984783085,
         "signal": 0.29083463745327426,
         "macd_signal": 0,
         "macd_position": 1,
         "_deepnote_index_column": "2019-10-14T00:00:00.000000"
        },
        {
         "Close": 64.29000091552734,
         "macd": 0.6666740651151599,
         "signal": 0.3660025229856514,
         "macd_signal": 0,
         "macd_position": 1,
         "_deepnote_index_column": "2019-10-15T00:00:00.000000"
        },
        {
         "Close": 63,
         "macd": 0.7104534816282566,
         "signal": 0.43489271471417246,
         "macd_signal": 0,
         "macd_position": 1,
         "_deepnote_index_column": "2019-10-16T00:00:00.000000"
        },
        {
         "Close": 63.400001525878906,
         "macd": 0.7685662119393584,
         "signal": 0.5016274141592096,
         "macd_signal": 0,
         "macd_position": 1,
         "_deepnote_index_column": "2019-10-17T00:00:00.000000"
        },
        {
         "Close": 60.45000076293945,
         "macd": 0.5700098433510092,
         "signal": 0.5153038999975696,
         "macd_signal": 0,
         "macd_position": 1,
         "_deepnote_index_column": "2019-10-18T00:00:00.000000"
        },
        {
         "Close": 61.150001525878906,
         "macd": 0.4637904149382024,
         "signal": 0.5050012029856963,
         "macd_signal": -1,
         "macd_position": 0,
         "_deepnote_index_column": "2019-10-21T00:00:00.000000"
        },
        {
         "Close": 58.83000183105469,
         "macd": 0.19021350346140764,
         "signal": 0.4420436630808386,
         "macd_signal": 0,
         "macd_position": 0,
         "_deepnote_index_column": "2019-10-22T00:00:00.000000"
        },
        {
         "Close": 58.36000061035156,
         "macd": -0.0637880317227868,
         "signal": 0.3408773241201135,
         "macd_signal": 0,
         "macd_position": 0,
         "_deepnote_index_column": "2019-10-23T00:00:00.000000"
        },
        {
         "Close": 61.720001220703125,
         "macd": 0.0059690823543760985,
         "signal": 0.27389567576696605,
         "macd_signal": 0,
         "macd_position": 0,
         "_deepnote_index_column": "2019-10-24T00:00:00.000000"
        },
        {
         "Close": 62.88999938964844,
         "macd": 0.15388725549475168,
         "signal": 0.2498939917125232,
         "macd_signal": 0,
         "macd_position": 0,
         "_deepnote_index_column": "2019-10-25T00:00:00.000000"
        },
        {
         "Close": 62.79999923706055,
         "macd": 0.2608443618171563,
         "signal": 0.2520840657334498,
         "macd_signal": 1,
         "macd_position": 1,
         "_deepnote_index_column": "2019-10-28T00:00:00.000000"
        },
        {
         "Close": 62.40999984741211,
         "macd": 0.3105590167494512,
         "signal": 0.26377905593665013,
         "macd_signal": 0,
         "macd_position": 1,
         "_deepnote_index_column": "2019-10-29T00:00:00.000000"
        },
        {
         "Close": 62.15999984741211,
         "macd": 0.3260270909357317,
         "signal": 0.2762286629364664,
         "macd_signal": 0,
         "macd_position": 1,
         "_deepnote_index_column": "2019-10-30T00:00:00.000000"
        },
        {
         "Close": 61.43000030517578,
         "macd": 0.27619696231711544,
         "signal": 0.27622232281259623,
         "macd_signal": -1,
         "macd_position": 0,
         "_deepnote_index_column": "2019-10-31T00:00:00.000000"
        },
        {
         "Close": 62.599998474121094,
         "macd": 0.32734190679313,
         "signal": 0.28644623960870297,
         "macd_signal": 1,
         "macd_position": 1,
         "_deepnote_index_column": "2019-11-01T00:00:00.000000"
        },
        {
         "Close": 62.380001068115234,
         "macd": 0.3461326895155423,
         "signal": 0.29838352959007086,
         "macd_signal": 0,
         "macd_position": 1,
         "_deepnote_index_column": "2019-11-04T00:00:00.000000"
        },
        {
         "Close": 61.060001373291016,
         "macd": 0.2516111597022217,
         "signal": 0.28902905561250103,
         "macd_signal": -1,
         "macd_position": 0,
         "_deepnote_index_column": "2019-11-05T00:00:00.000000"
        },
        {
         "Close": 61.34000015258789,
         "macd": 0.19702455139123032,
         "signal": 0.2706281547682469,
         "macd_signal": 0,
         "macd_position": 0,
         "_deepnote_index_column": "2019-11-06T00:00:00.000000"
        },
        {
         "Close": 64.41000366210938,
         "macd": 0.3969125365066475,
         "signal": 0.29588503111592707,
         "macd_signal": 1,
         "macd_position": 1,
         "_deepnote_index_column": "2019-11-07T00:00:00.000000"
        },
        {
         "Close": 62.45000076293945,
         "macd": 0.3926432048370003,
         "signal": 0.31523666586014176,
         "macd_signal": 0,
         "macd_position": 1,
         "_deepnote_index_column": "2019-11-08T00:00:00.000000"
        },
        {
         "Close": 63.790000915527344,
         "macd": 0.4917183194921577,
         "signal": 0.350532996586545,
         "macd_signal": 0,
         "macd_position": 1,
         "_deepnote_index_column": "2019-11-11T00:00:00.000000"
        },
        {
         "Close": 61.540000915527344,
         "macd": 0.38425046550982955,
         "signal": 0.3572764903712019,
         "macd_signal": 0,
         "macd_position": 1,
         "_deepnote_index_column": "2019-11-12T00:00:00.000000"
        },
        {
         "Close": 61.5099983215332,
         "macd": 0.2932797124072195,
         "signal": 0.3444771347784054,
         "macd_signal": -1,
         "macd_position": 0,
         "_deepnote_index_column": "2019-11-13T00:00:00.000000"
        },
        {
         "Close": 62.9900016784668,
         "macd": 0.33672705725420116,
         "signal": 0.34292711927356456,
         "macd_signal": 0,
         "macd_position": 0,
         "_deepnote_index_column": "2019-11-14T00:00:00.000000"
        },
        {
         "Close": 64.69999694824219,
         "macd": 0.5033395334867166,
         "signal": 0.375009602116195,
         "macd_signal": 1,
         "macd_position": 1,
         "_deepnote_index_column": "2019-11-15T00:00:00.000000"
        },
        {
         "Close": 65.73999786376953,
         "macd": 0.7111033467766461,
         "signal": 0.44222835104828523,
         "macd_signal": 0,
         "macd_position": 1,
         "_deepnote_index_column": "2019-11-18T00:00:00.000000"
        },
        {
         "Close": 66.37000274658203,
         "macd": 0.9160343210967881,
         "signal": 0.5369895450579858,
         "macd_signal": 0,
         "macd_position": 1,
         "_deepnote_index_column": "2019-11-19T00:00:00.000000"
        },
        {
         "Close": 67.16999816894531,
         "macd": 1.1299709378484266,
         "signal": 0.655585823616074,
         "macd_signal": 0,
         "macd_position": 1,
         "_deepnote_index_column": "2019-11-20T00:00:00.000000"
        },
        {
         "Close": 67.41999816894531,
         "macd": 1.304650954530203,
         "signal": 0.7853988497988997,
         "macd_signal": 0,
         "macd_position": 1,
         "_deepnote_index_column": "2019-11-21T00:00:00.000000"
        },
        {
         "Close": 67.75,
         "macd": 1.452965632703716,
         "signal": 0.918912206379863,
         "macd_signal": 0,
         "macd_position": 1,
         "_deepnote_index_column": "2019-11-22T00:00:00.000000"
        },
        {
         "Close": 68.25,
         "macd": 1.5924946183643982,
         "signal": 1.05362868877677,
         "macd_signal": 0,
         "macd_position": 1,
         "_deepnote_index_column": "2019-11-25T00:00:00.000000"
        },
        {
         "Close": 68.94000244140625,
         "macd": 1.7387070427023161,
         "signal": 1.1906443595618794,
         "macd_signal": 0,
         "macd_position": 1,
         "_deepnote_index_column": "2019-11-26T00:00:00.000000"
        },
        {
         "Close": 69.6500015258789,
         "macd": 1.8900847147460524,
         "signal": 1.330532430598714,
         "macd_signal": 0,
         "macd_position": 1,
         "_deepnote_index_column": "2019-11-27T00:00:00.000000"
        },
        {
         "Close": 69.12000274658203,
         "macd": 1.9448669231014009,
         "signal": 1.4533993290992515,
         "macd_signal": 0,
         "macd_position": 1,
         "_deepnote_index_column": "2019-11-29T00:00:00.000000"
        },
        {
         "Close": 66.87999725341797,
         "macd": 1.7869338342031682,
         "signal": 1.520106230120035,
         "macd_signal": 0,
         "macd_position": 1,
         "_deepnote_index_column": "2019-12-02T00:00:00.000000"
        },
        {
         "Close": 67.04000091552734,
         "macd": 1.6555969902009906,
         "signal": 1.5472043821362262,
         "macd_signal": 0,
         "macd_position": 1,
         "_deepnote_index_column": "2019-12-03T00:00:00.000000"
        },
        {
         "Close": 67.77999877929688,
         "macd": 1.5928617198994175,
         "signal": 1.5563358496888646,
         "macd_signal": 0,
         "macd_position": 1,
         "_deepnote_index_column": "2019-12-04T00:00:00.000000"
        },
        {
         "Close": 67.13999938964844,
         "macd": 1.4745038021709576,
         "signal": 1.5399694401852833,
         "macd_signal": -1,
         "macd_position": 0,
         "_deepnote_index_column": "2019-12-05T00:00:00.000000"
        },
        {
         "Close": 67.9800033569336,
         "macd": 1.431978641202221,
         "signal": 1.518371280388671,
         "macd_signal": 0,
         "macd_position": 0,
         "_deepnote_index_column": "2019-12-06T00:00:00.000000"
        },
        {
         "Close": 67.05999755859375,
         "macd": 1.3089515865448789,
         "signal": 1.4764873416199127,
         "macd_signal": 0,
         "macd_position": 0,
         "_deepnote_index_column": "2019-12-09T00:00:00.000000"
        },
        {
         "Close": 65.83999633789062,
         "macd": 1.1003240066114444,
         "signal": 1.4012546746182193,
         "macd_signal": 0,
         "macd_position": 0,
         "_deepnote_index_column": "2019-12-10T00:00:00.000000"
        },
        {
         "Close": 65.75,
         "macd": 0.9171508500043899,
         "signal": 1.3044339096954536,
         "macd_signal": 0,
         "macd_position": 0,
         "_deepnote_index_column": "2019-12-11T00:00:00.000000"
        },
        {
         "Close": 65.86000061035156,
         "macd": 0.7719622335453806,
         "signal": 1.197939574465439,
         "macd_signal": 0,
         "macd_position": 0,
         "_deepnote_index_column": "2019-12-12T00:00:00.000000"
        },
        {
         "Close": 64.80000305175781,
         "macd": 0.5648549683002528,
         "signal": 1.0713226532324018,
         "macd_signal": 0,
         "macd_position": 0,
         "_deepnote_index_column": "2019-12-13T00:00:00.000000"
        },
        {
         "Close": 66.52999877929688,
         "macd": 0.5341597049255569,
         "signal": 0.9638900635710329,
         "macd_signal": 0,
         "macd_position": 0,
         "_deepnote_index_column": "2019-12-16T00:00:00.000000"
        },
        {
         "Close": 65.55000305175781,
         "macd": 0.4258471219659157,
         "signal": 0.8562814752500094,
         "macd_signal": 0,
         "macd_position": 0,
         "_deepnote_index_column": "2019-12-17T00:00:00.000000"
        },
        {
         "Close": 65.13999938964844,
         "macd": 0.3034270326758133,
         "signal": 0.7457105867351702,
         "macd_signal": 0,
         "macd_position": 0,
         "_deepnote_index_column": "2019-12-18T00:00:00.000000"
        },
        {
         "Close": 64.55000305175781,
         "macd": 0.15699076445240223,
         "signal": 0.6279666222786167,
         "macd_signal": 0,
         "macd_position": 0,
         "_deepnote_index_column": "2019-12-19T00:00:00.000000"
        },
        {
         "Close": 63.630001068115234,
         "macd": -0.03291804569359158,
         "signal": 0.495789688684175,
         "macd_signal": 0,
         "macd_position": 0,
         "_deepnote_index_column": "2019-12-20T00:00:00.000000"
        },
        {
         "Close": 62.79999923706055,
         "macd": -0.2475428373656854,
         "signal": 0.34712318347420296,
         "macd_signal": 0,
         "macd_position": 0,
         "_deepnote_index_column": "2019-12-23T00:00:00.000000"
        },
        {
         "Close": 63.959999084472656,
         "macd": -0.3203395628153203,
         "signal": 0.21363063421629835,
         "macd_signal": 0,
         "macd_position": 0,
         "_deepnote_index_column": "2019-12-24T00:00:00.000000"
        },
        {
         "Close": 64.02999877929688,
         "macd": -0.3681394197734704,
         "signal": 0.0972766234183446,
         "macd_signal": 0,
         "macd_position": 0,
         "_deepnote_index_column": "2019-12-26T00:00:00.000000"
        },
        {
         "Close": 63.79999923706055,
         "macd": -0.41974167096154247,
         "signal": -0.0061270354576328095,
         "macd_signal": 0,
         "macd_position": 0,
         "_deepnote_index_column": "2019-12-27T00:00:00.000000"
        },
        {
         "Close": 61.79999923706055,
         "macd": -0.6149315638187431,
         "signal": -0.12788794112985488,
         "macd_signal": 0,
         "macd_position": 0,
         "_deepnote_index_column": "2019-12-30T00:00:00.000000"
        },
        {
         "Close": 62.560001373291016,
         "macd": -0.7002233999042176,
         "signal": -0.24235503288472743,
         "macd_signal": 0,
         "macd_position": 0,
         "_deepnote_index_column": "2019-12-31T00:00:00.000000"
        },
        {
         "Close": 63.83000183105469,
         "macd": -0.6577571563330125,
         "signal": -0.3254354575743844,
         "macd_signal": 0,
         "macd_position": 0,
         "_deepnote_index_column": "2020-01-02T00:00:00.000000"
        },
        {
         "Close": 63,
         "macd": -0.6832010471082768,
         "signal": -0.39698857548116295,
         "macd_signal": 0,
         "macd_position": 0,
         "_deepnote_index_column": "2020-01-03T00:00:00.000000"
        },
        {
         "Close": 62.56999969482422,
         "macd": -0.7296519710959828,
         "signal": -0.46352125460412696,
         "macd_signal": 0,
         "macd_position": 0,
         "_deepnote_index_column": "2020-01-06T00:00:00.000000"
        },
        {
         "Close": 64.58999633789062,
         "macd": -0.5965906896326629,
         "signal": -0.4901351416098342,
         "macd_signal": 0,
         "macd_position": 0,
         "_deepnote_index_column": "2020-01-07T00:00:00.000000"
        },
        {
         "Close": 67.5999984741211,
         "macd": -0.245427513064584,
         "signal": -0.4411936159007842,
         "macd_signal": 1,
         "macd_position": 1,
         "_deepnote_index_column": "2020-01-08T00:00:00.000000"
        },
        {
         "Close": 67.93000030517578,
         "macd": 0.05882215895253751,
         "signal": -0.3411904609301199,
         "macd_signal": 0,
         "macd_position": 1,
         "_deepnote_index_column": "2020-01-09T00:00:00.000000"
        },
        {
         "Close": 67.98999786376953,
         "macd": 0.3013102011449149,
         "signal": -0.21269032851511296,
         "macd_signal": 0,
         "macd_position": 1,
         "_deepnote_index_column": "2020-01-10T00:00:00.000000"
        },
        {
         "Close": 68.66000366210938,
         "macd": 0.54130773149204,
         "signal": -0.06189071651368239,
         "macd_signal": 0,
         "macd_position": 1,
         "_deepnote_index_column": "2020-01-13T00:00:00.000000"
        },
        {
         "Close": 68.16999816894531,
         "macd": 0.6840824782467365,
         "signal": 0.0873039224384014,
         "macd_signal": 0,
         "macd_position": 1,
         "_deepnote_index_column": "2020-01-14T00:00:00.000000"
        },
        {
         "Close": 70.36000061035156,
         "macd": 0.9628482725599241,
         "signal": 0.26241279246270593,
         "macd_signal": 0,
         "macd_position": 1,
         "_deepnote_index_column": "2020-01-15T00:00:00.000000"
        },
        {
         "Close": 69.5199966430664,
         "macd": 1.103273028291838,
         "signal": 0.43058483962853233,
         "macd_signal": 0,
         "macd_position": 1,
         "_deepnote_index_column": "2020-01-16T00:00:00.000000"
        },
        {
         "Close": 69.37999725341797,
         "macd": 1.1895514693258775,
         "signal": 0.5823781655680014,
         "macd_signal": 0,
         "macd_position": 1,
         "_deepnote_index_column": "2020-01-17T00:00:00.000000"
        },
        {
         "Close": 68.30999755859375,
         "macd": 1.1582362953999166,
         "signal": 0.6975497915343845,
         "macd_signal": 0,
         "macd_position": 1,
         "_deepnote_index_column": "2020-01-21T00:00:00.000000"
        },
        {
         "Close": 68.69000244140625,
         "macd": 1.150816120777435,
         "signal": 0.7882030573829946,
         "macd_signal": 0,
         "macd_position": 1,
         "_deepnote_index_column": "2020-01-22T00:00:00.000000"
        },
        {
         "Close": 69.29000091552734,
         "macd": 1.1797510061651764,
         "signal": 0.8665126471394309,
         "macd_signal": 0,
         "macd_position": 1,
         "_deepnote_index_column": "2020-01-23T00:00:00.000000"
        },
        {
         "Close": 71.13999938964844,
         "macd": 1.3365545581092277,
         "signal": 0.9605210293333903,
         "macd_signal": 0,
         "macd_position": 1,
         "_deepnote_index_column": "2020-01-24T00:00:00.000000"
        }
       ],
       "rows_bottom": [
        {
         "Close": 224.83999633789062,
         "macd": -2.0384962522915657,
         "signal": -1.4236251892677068,
         "macd_signal": -1,
         "macd_position": 0,
         "_deepnote_index_column": "2021-03-19T00:00:00.000000"
        },
        {
         "Close": 226.1300048828125,
         "macd": -2.5850089548357857,
         "signal": -1.6559019423813226,
         "macd_signal": 0,
         "macd_position": 0,
         "_deepnote_index_column": "2021-03-22T00:00:00.000000"
        },
        {
         "Close": 223.1999969482422,
         "macd": -3.217462457822336,
         "signal": -1.9682140454695252,
         "macd_signal": 0,
         "macd_position": 0,
         "_deepnote_index_column": "2021-03-23T00:00:00.000000"
        },
        {
         "Close": 213.50999450683594,
         "macd": -4.449299870498635,
         "signal": -2.464431210475347,
         "macd_signal": 0,
         "macd_position": 0,
         "_deepnote_index_column": "2021-03-24T00:00:00.000000"
        },
        {
         "Close": 208.47000122070312,
         "macd": -5.765761126953635,
         "signal": -3.124697193771005,
         "macd_signal": 0,
         "macd_position": 0,
         "_deepnote_index_column": "2021-03-25T00:00:00.000000"
        },
        {
         "Close": 213.60000610351562,
         "macd": -6.32223880301791,
         "signal": -3.764205515620386,
         "macd_signal": 0,
         "macd_position": 0,
         "_deepnote_index_column": "2021-03-26T00:00:00.000000"
        },
        {
         "Close": 207.17999267578125,
         "macd": -7.198315104106712,
         "signal": -4.451027433317652,
         "macd_signal": 0,
         "macd_position": 0,
         "_deepnote_index_column": "2021-03-29T00:00:00.000000"
        },
        {
         "Close": 212.8300018310547,
         "macd": -7.351954608480895,
         "signal": -5.0312128683503,
         "macd_signal": 0,
         "macd_position": 0,
         "_deepnote_index_column": "2021-03-30T00:00:00.000000"
        },
        {
         "Close": 227.0500030517578,
         "macd": -6.25418540930508,
         "signal": -5.275807376541256,
         "macd_signal": 0,
         "macd_position": 0,
         "_deepnote_index_column": "2021-03-31T00:00:00.000000"
        },
        {
         "Close": 229.50999450683594,
         "macd": -5.126598423114899,
         "signal": -5.245965585855985,
         "macd_signal": 1,
         "macd_position": 1,
         "_deepnote_index_column": "2021-04-01T00:00:00.000000"
        },
        {
         "Close": 229.9499969482422,
         "macd": -4.149638641764085,
         "signal": -5.026700197037605,
         "macd_signal": 0,
         "macd_position": 1,
         "_deepnote_index_column": "2021-04-05T00:00:00.000000"
        },
        {
         "Close": 236.5,
         "macd": -2.814417616442853,
         "signal": -4.584243680918655,
         "macd_signal": 0,
         "macd_position": 1,
         "_deepnote_index_column": "2021-04-06T00:00:00.000000"
        },
        {
         "Close": 245.1199951171875,
         "macd": -1.048596204162635,
         "signal": -3.877114185567451,
         "macd_signal": 0,
         "macd_position": 1,
         "_deepnote_index_column": "2021-04-07T00:00:00.000000"
        },
        {
         "Close": 258.3699951171875,
         "macd": 1.4038119815744494,
         "signal": -2.820928952139071,
         "macd_signal": 0,
         "macd_position": 1,
         "_deepnote_index_column": "2021-04-08T00:00:00.000000"
        },
        {
         "Close": 261.6499938964844,
         "macd": 3.570868873231717,
         "signal": -1.5425693870649135,
         "macd_signal": 0,
         "macd_position": 1,
         "_deepnote_index_column": "2021-04-09T00:00:00.000000"
        },
        {
         "Close": 265.20001220703125,
         "macd": 5.511204150747801,
         "signal": -0.1318146795023707,
         "macd_signal": 0,
         "macd_position": 1,
         "_deepnote_index_column": "2021-04-12T00:00:00.000000"
        },
        {
         "Close": 273.2300109863281,
         "macd": 7.609173810389535,
         "signal": 1.4163830184760107,
         "macd_signal": 0,
         "macd_position": 1,
         "_deepnote_index_column": "2021-04-13T00:00:00.000000"
        },
        {
         "Close": 258.3999938964844,
         "macd": 7.983146695415996,
         "signal": 2.729735753864008,
         "macd_signal": 0,
         "macd_position": 1,
         "_deepnote_index_column": "2021-04-14T00:00:00.000000"
        },
        {
         "Close": 263.0799865722656,
         "macd": 8.558502112858974,
         "signal": 3.8954890256630015,
         "macd_signal": 0,
         "macd_position": 1,
         "_deepnote_index_column": "2021-04-15T00:00:00.000000"
        },
        {
         "Close": 256.1000061035156,
         "macd": 8.354938802945526,
         "signal": 4.787378981119506,
         "macd_signal": 0,
         "macd_position": 1,
         "_deepnote_index_column": "2021-04-16T00:00:00.000000"
        },
        {
         "Close": 245.3300018310547,
         "macd": 7.241093261444433,
         "signal": 5.278121837184491,
         "macd_signal": 0,
         "macd_position": 1,
         "_deepnote_index_column": "2021-04-19T00:00:00.000000"
        },
        {
         "Close": 245.5,
         "macd": 6.299463779313072,
         "signal": 5.482390225610208,
         "macd_signal": 0,
         "macd_position": 1,
         "_deepnote_index_column": "2021-04-20T00:00:00.000000"
        },
        {
         "Close": 245.25,
         "macd": 5.469988102095471,
         "signal": 5.4799098009072615,
         "macd_signal": -1,
         "macd_position": 0,
         "_deepnote_index_column": "2021-04-21T00:00:00.000000"
        },
        {
         "Close": 245.11000061035156,
         "macd": 4.746609906786716,
         "signal": 5.333249822083153,
         "macd_signal": 0,
         "macd_position": 0,
         "_deepnote_index_column": "2021-04-22T00:00:00.000000"
        },
        {
         "Close": 246.42999267578125,
         "macd": 4.2310667002197135,
         "signal": 5.112813197710466,
         "macd_signal": 0,
         "macd_position": 0,
         "_deepnote_index_column": "2021-04-23T00:00:00.000000"
        },
        {
         "Close": 255.77000427246094,
         "macd": 4.524005948368483,
         "signal": 4.995051747842069,
         "macd_signal": 0,
         "macd_position": 0,
         "_deepnote_index_column": "2021-04-26T00:00:00.000000"
        },
        {
         "Close": 253.7899932861328,
         "macd": 4.544011537628478,
         "signal": 4.904843705799351,
         "macd_signal": 0,
         "macd_position": 0,
         "_deepnote_index_column": "2021-04-27T00:00:00.000000"
        },
        {
         "Close": 254.1999969482422,
         "macd": 4.5406086699220225,
         "signal": 4.831996698623885,
         "macd_signal": 0,
         "macd_position": 0,
         "_deepnote_index_column": "2021-04-28T00:00:00.000000"
        },
        {
         "Close": 247.75999450683594,
         "macd": 3.9724653888441424,
         "signal": 4.660090436667937,
         "macd_signal": 0,
         "macd_position": 0,
         "_deepnote_index_column": "2021-04-29T00:00:00.000000"
        },
        {
         "Close": 244.82000732421875,
         "macd": 3.247539733672994,
         "signal": 4.377580296068948,
         "macd_signal": 0,
         "macd_position": 0,
         "_deepnote_index_column": "2021-04-30T00:00:00.000000"
        },
        {
         "Close": 243.67999267578125,
         "macd": 2.5516276987356434,
         "signal": 4.012389776602287,
         "macd_signal": 0,
         "macd_position": 0,
         "_deepnote_index_column": "2021-05-03T00:00:00.000000"
        },
        {
         "Close": 231.19000244140625,
         "macd": 0.9809665962706617,
         "signal": 3.4061051405359626,
         "macd_signal": 0,
         "macd_position": 0,
         "_deepnote_index_column": "2021-05-04T00:00:00.000000"
        },
        {
         "Close": 231.8699951171875,
         "macd": -0.20654301809136655,
         "signal": 2.6835755088104967,
         "macd_signal": 0,
         "macd_position": 0,
         "_deepnote_index_column": "2021-05-05T00:00:00.000000"
        },
        {
         "Close": 223.9600067138672,
         "macd": -1.7655705029066553,
         "signal": 1.7937463064670665,
         "macd_signal": 0,
         "macd_position": 0,
         "_deepnote_index_column": "2021-05-06T00:00:00.000000"
        },
        {
         "Close": 233.35000610351562,
         "macd": -2.217850541090172,
         "signal": 0.9914269369556189,
         "macd_signal": 0,
         "macd_position": 0,
         "_deepnote_index_column": "2021-05-07T00:00:00.000000"
        },
        {
         "Close": 216.42999267578125,
         "macd": -3.896671009217471,
         "signal": 0.013807347721000895,
         "macd_signal": 0,
         "macd_position": 0,
         "_deepnote_index_column": "2021-05-10T00:00:00.000000"
        },
        {
         "Close": 220.64999389648438,
         "macd": -4.830941409554924,
         "signal": -0.9551424037341842,
         "macd_signal": 0,
         "macd_position": 0,
         "_deepnote_index_column": "2021-05-11T00:00:00.000000"
        },
        {
         "Close": 206.6699981689453,
         "macd": -6.623079514471385,
         "signal": -2.0887298258816247,
         "macd_signal": 0,
         "macd_position": 0,
         "_deepnote_index_column": "2021-05-12T00:00:00.000000"
        },
        {
         "Close": 197.1300048828125,
         "macd": -8.712724736140501,
         "signal": -3.4135288079334,
         "macd_signal": 0,
         "macd_position": 0,
         "_deepnote_index_column": "2021-05-13T00:00:00.000000"
        },
        {
         "Close": 207.85000610351562,
         "macd": -9.39546406045605,
         "signal": -4.6099158584379305,
         "macd_signal": 0,
         "macd_position": 0,
         "_deepnote_index_column": "2021-05-14T00:00:00.000000"
        },
        {
         "Close": 202.9199981689453,
         "macd": -10.216579958213657,
         "signal": -5.731248678393076,
         "macd_signal": 0,
         "macd_position": 0,
         "_deepnote_index_column": "2021-05-17T00:00:00.000000"
        },
        {
         "Close": 203.16000366210938,
         "macd": -10.724330380555216,
         "signal": -6.729865018825504,
         "macd_signal": 0,
         "macd_position": 0,
         "_deepnote_index_column": "2021-05-18T00:00:00.000000"
        },
        {
         "Close": 200.11000061035156,
         "macd": -11.243231036027936,
         "signal": -7.632538222265991,
         "macd_signal": 0,
         "macd_position": 0,
         "_deepnote_index_column": "2021-05-19T00:00:00.000000"
        },
        {
         "Close": 204.91000366210938,
         "macd": -11.138742918254877,
         "signal": -8.333779161463768,
         "macd_signal": 0,
         "macd_position": 0,
         "_deepnote_index_column": "2021-05-20T00:00:00.000000"
        },
        {
         "Close": 200.00999450683594,
         "macd": -11.320825688303472,
         "signal": -8.93118846683171,
         "macd_signal": 0,
         "macd_position": 0,
         "_deepnote_index_column": "2021-05-21T00:00:00.000000"
        },
        {
         "Close": 210.9499969482422,
         "macd": -10.461764123205967,
         "signal": -9.23730359810656,
         "macd_signal": 0,
         "macd_position": 0,
         "_deepnote_index_column": "2021-05-24T00:00:00.000000"
        },
        {
         "Close": 216.1999969482422,
         "macd": -9.250684388463412,
         "signal": -9.23997975617793,
         "macd_signal": 0,
         "macd_position": 0,
         "_deepnote_index_column": "2021-05-25T00:00:00.000000"
        },
        {
         "Close": 222.33999633789062,
         "macd": -7.706611318610925,
         "signal": -8.93330606866453,
         "macd_signal": 1,
         "macd_position": 1,
         "_deepnote_index_column": "2021-05-26T00:00:00.000000"
        },
        {
         "Close": 220.89999389648438,
         "macd": -6.523914819680755,
         "signal": -8.451427818867776,
         "macd_signal": 0,
         "macd_position": 1,
         "_deepnote_index_column": "2021-05-27T00:00:00.000000"
        },
        {
         "Close": 222.52000427246094,
         "macd": -5.39372254899169,
         "signal": -7.839886764892559,
         "macd_signal": 0,
         "macd_position": 1,
         "_deepnote_index_column": "2021-05-28T00:00:00.000000"
        },
        {
         "Close": 221.9499969482422,
         "macd": -4.492248020338309,
         "signal": -7.17035901598171,
         "macd_signal": 0,
         "macd_position": 1,
         "_deepnote_index_column": "2021-06-01T00:00:00.000000"
        },
        {
         "Close": 220.41000366210938,
         "macd": -3.8576193153544978,
         "signal": -6.507811075856267,
         "macd_signal": 0,
         "macd_position": 1,
         "_deepnote_index_column": "2021-06-02T00:00:00.000000"
        },
        {
         "Close": 211.42999267578125,
         "macd": -4.0327957725773445,
         "signal": -6.012808015200483,
         "macd_signal": 0,
         "macd_position": 1,
         "_deepnote_index_column": "2021-06-03T00:00:00.000000"
        },
        {
         "Close": 213.69000244140625,
         "macd": -3.94379881875534,
         "signal": -5.599006175911455,
         "macd_signal": 0,
         "macd_position": 1,
         "_deepnote_index_column": "2021-06-04T00:00:00.000000"
        },
        {
         "Close": 216.9499969482422,
         "macd": -3.569071742494714,
         "signal": -5.193019289228107,
         "macd_signal": 0,
         "macd_position": 1,
         "_deepnote_index_column": "2021-06-07T00:00:00.000000"
        },
        {
         "Close": 214.1199951171875,
         "macd": -3.460564102403197,
         "signal": -4.846528251863125,
         "macd_signal": 0,
         "macd_position": 1,
         "_deepnote_index_column": "2021-06-08T00:00:00.000000"
        },
        {
         "Close": 210.2100067138672,
         "macd": -3.6480222729393574,
         "signal": -4.606827056078371,
         "macd_signal": 0,
         "macd_position": 1,
         "_deepnote_index_column": "2021-06-09T00:00:00.000000"
        },
        {
         "Close": 217.13999938964844,
         "macd": -3.200498378021422,
         "signal": -4.325561320466981,
         "macd_signal": 0,
         "macd_position": 1,
         "_deepnote_index_column": "2021-06-10T00:00:00.000000"
        },
        {
         "Close": 219.33999633789062,
         "macd": -2.637902995784117,
         "signal": -3.9880296555304087,
         "macd_signal": 0,
         "macd_position": 1,
         "_deepnote_index_column": "2021-06-11T00:00:00.000000"
        },
        {
         "Close": 230.9499969482422,
         "macd": -1.240907670461496,
         "signal": -3.4386052585166262,
         "macd_signal": 0,
         "macd_position": 1,
         "_deepnote_index_column": "2021-06-14T00:00:00.000000"
        },
        {
         "Close": 227.75,
         "macd": -0.38752467731399065,
         "signal": -2.8283891422760994,
         "macd_signal": 0,
         "macd_position": 1,
         "_deepnote_index_column": "2021-06-15T00:00:00.000000"
        },
        {
         "Close": 225.11000061035156,
         "macd": 0.07489822557681691,
         "signal": -2.247731668705516,
         "macd_signal": 0,
         "macd_position": 1,
         "_deepnote_index_column": "2021-06-16T00:00:00.000000"
        },
        {
         "Close": 236.1300048828125,
         "macd": 1.3154304905955314,
         "signal": -1.5350992368453067,
         "macd_signal": 0,
         "macd_position": 1,
         "_deepnote_index_column": "2021-06-17T00:00:00.000000"
        },
        {
         "Close": 237.0500030517578,
         "macd": 2.3457569853198095,
         "signal": -0.7589279924122835,
         "macd_signal": 0,
         "macd_position": 1,
         "_deepnote_index_column": "2021-06-18T00:00:00.000000"
        },
        {
         "Close": 233.88999938964844,
         "macd": 2.8741805054589804,
         "signal": -0.03230629283803077,
         "macd_signal": 0,
         "macd_position": 1,
         "_deepnote_index_column": "2021-06-21T00:00:00.000000"
        },
        {
         "Close": 235.97000122070312,
         "macd": 3.421359415105627,
         "signal": 0.6584268487507008,
         "macd_signal": 0,
         "macd_position": 1,
         "_deepnote_index_column": "2021-06-22T00:00:00.000000"
        },
        {
         "Close": 238.6999969482422,
         "macd": 4.028848426112688,
         "signal": 1.3325111642230985,
         "macd_signal": 0,
         "macd_position": 1,
         "_deepnote_index_column": "2021-06-23T00:00:00.000000"
        },
        {
         "Close": 244.14999389648438,
         "macd": 4.89364614370038,
         "signal": 2.044738160118555,
         "macd_signal": 0,
         "macd_position": 1,
         "_deepnote_index_column": "2021-06-24T00:00:00.000000"
        },
        {
         "Close": 239.94000244140625,
         "macd": 5.1795863916195515,
         "signal": 2.6717078064187545,
         "macd_signal": 0,
         "macd_position": 1,
         "_deepnote_index_column": "2021-06-25T00:00:00.000000"
        },
        {
         "Close": 246.60000610351562,
         "macd": 5.875869369255867,
         "signal": 3.3125401189861767,
         "macd_signal": 0,
         "macd_position": 1,
         "_deepnote_index_column": "2021-06-28T00:00:00.000000"
        },
        {
         "Close": 248.8699951171875,
         "macd": 6.535510491067214,
         "signal": 3.9571341934023847,
         "macd_signal": 0,
         "macd_position": 1,
         "_deepnote_index_column": "2021-06-29T00:00:00.000000"
        },
        {
         "Close": 243.8000030517578,
         "macd": 6.573400772268968,
         "signal": 4.480387509175702,
         "macd_signal": 0,
         "macd_position": 1,
         "_deepnote_index_column": "2021-06-30T00:00:00.000000"
        },
        {
         "Close": 241.85000610351562,
         "macd": 6.3726210277978055,
         "signal": 4.858834212900123,
         "macd_signal": 0,
         "macd_position": 1,
         "_deepnote_index_column": "2021-07-01T00:00:00.000000"
        },
        {
         "Close": 241.0800018310547,
         "macd": 6.081267656089352,
         "signal": 5.10332090153797,
         "macd_signal": 0,
         "macd_position": 1,
         "_deepnote_index_column": "2021-07-02T00:00:00.000000"
        },
        {
         "Close": 246.6999969482422,
         "macd": 6.23201584821777,
         "signal": 5.32905989087393,
         "macd_signal": 0,
         "macd_position": 1,
         "_deepnote_index_column": "2021-07-06T00:00:00.000000"
        },
        {
         "Close": 244.63999938964844,
         "macd": 6.114772992952311,
         "signal": 5.486202511289607,
         "macd_signal": 0,
         "macd_position": 1,
         "_deepnote_index_column": "2021-07-07T00:00:00.000000"
        },
        {
         "Close": 235.89999389648438,
         "macd": 5.25602361694547,
         "signal": 5.44016673242078,
         "macd_signal": -1,
         "macd_position": 0,
         "_deepnote_index_column": "2021-07-08T00:00:00.000000"
        },
        {
         "Close": 241.88999938964844,
         "macd": 5.001151767768619,
         "signal": 5.3523637394903485,
         "macd_signal": 0,
         "macd_position": 0,
         "_deepnote_index_column": "2021-07-09T00:00:00.000000"
        },
        {
         "Close": 243.35000610351562,
         "macd": 4.860940435556586,
         "signal": 5.2540790787035965,
         "macd_signal": 0,
         "macd_position": 0,
         "_deepnote_index_column": "2021-07-12T00:00:00.000000"
        },
        {
         "Close": 241.42999267578125,
         "macd": 4.542529455279947,
         "signal": 5.111769154018867,
         "macd_signal": 0,
         "macd_position": 0,
         "_deepnote_index_column": "2021-07-13T00:00:00.000000"
        },
        {
         "Close": 239,
         "macd": 4.047449876023364,
         "signal": 4.898905298419766,
         "macd_signal": 0,
         "macd_position": 0,
         "_deepnote_index_column": "2021-07-14T00:00:00.000000"
        },
        {
         "Close": 235.16000366210938,
         "macd": 3.3071177356797534,
         "signal": 4.580547785871764,
         "macd_signal": 0,
         "macd_position": 0,
         "_deepnote_index_column": "2021-07-15T00:00:00.000000"
        },
        {
         "Close": 237.52000427246094,
         "macd": 2.877659637539125,
         "signal": 4.239970156205237,
         "macd_signal": 0,
         "macd_position": 0,
         "_deepnote_index_column": "2021-07-16T00:00:00.000000"
        },
        {
         "Close": 233.69000244140625,
         "macd": 2.202868564011027,
         "signal": 3.832549837766395,
         "macd_signal": 0,
         "macd_position": 0,
         "_deepnote_index_column": "2021-07-19T00:00:00.000000"
        },
        {
         "Close": 246.47000122070312,
         "macd": 2.6685692658459175,
         "signal": 3.5997537233822996,
         "macd_signal": 0,
         "macd_position": 0,
         "_deepnote_index_column": "2021-07-20T00:00:00.000000"
        },
        {
         "Close": 257.25,
         "macd": 3.862966364881572,
         "signal": 3.652396251682154,
         "macd_signal": 1,
         "macd_position": 1,
         "_deepnote_index_column": "2021-07-21T00:00:00.000000"
        },
        {
         "Close": 260.5899963378906,
         "macd": 5.021163613417826,
         "signal": 3.9261497240292886,
         "macd_signal": 0,
         "macd_position": 1,
         "_deepnote_index_column": "2021-07-22T00:00:00.000000"
        },
        {
         "Close": 264,
         "macd": 6.143384956531406,
         "signal": 4.3695967705297125,
         "macd_signal": 0,
         "macd_position": 1,
         "_deepnote_index_column": "2021-07-23T00:00:00.000000"
        },
        {
         "Close": 261.989990234375,
         "macd": 6.792265458219731,
         "signal": 4.854130508067716,
         "macd_signal": 0,
         "macd_position": 1,
         "_deepnote_index_column": "2021-07-26T00:00:00.000000"
        },
        {
         "Close": 251.72999572753906,
         "macd": 6.40478178283513,
         "signal": 5.1642607630212,
         "macd_signal": 0,
         "macd_position": 1,
         "_deepnote_index_column": "2021-07-27T00:00:00.000000"
        },
        {
         "Close": 258.6099853515625,
         "macd": 6.577039821611635,
         "signal": 5.446816574739287,
         "macd_signal": 0,
         "macd_position": 1,
         "_deepnote_index_column": "2021-07-28T00:00:00.000000"
        },
        {
         "Close": 255.27999877929688,
         "macd": 6.371407848260219,
         "signal": 5.631734829443474,
         "macd_signal": 0,
         "macd_position": 1,
         "_deepnote_index_column": "2021-07-29T00:00:00.000000"
        },
        {
         "Close": 247.25999450683594,
         "macd": 5.497919119788463,
         "signal": 5.604971687512473,
         "macd_signal": -1,
         "macd_position": 0,
         "_deepnote_index_column": "2021-07-30T00:00:00.000000"
        },
        {
         "Close": 272.3800048828125,
         "macd": 6.754782976536205,
         "signal": 5.8349339453172195,
         "macd_signal": 1,
         "macd_position": 1,
         "_deepnote_index_column": "2021-08-02T00:00:00.000000"
        },
        {
         "Close": 269.489990234375,
         "macd": 7.431985308568244,
         "signal": 6.154344217967425,
         "macd_signal": 0,
         "macd_position": 1,
         "_deepnote_index_column": "2021-08-03T00:00:00.000000"
        },
        {
         "Close": 266.4200134277344,
         "macd": 7.632963512239485,
         "signal": 6.450068076821837,
         "macd_signal": 0,
         "macd_position": 1,
         "_deepnote_index_column": "2021-08-04T00:00:00.000000"
        },
        {
         "Close": 281.80999755859375,
         "macd": 8.931130770429434,
         "signal": 6.9462806155433565,
         "macd_signal": 0,
         "macd_position": 1,
         "_deepnote_index_column": "2021-08-05T00:00:00.000000"
        },
        {
         "Close": 275.1000061035156,
         "macd": 9.31116413845885,
         "signal": 7.419257320126455,
         "macd_signal": 0,
         "macd_position": 1,
         "_deepnote_index_column": "2021-08-06T00:00:00.000000"
        },
        {
         "Close": 279.7300109863281,
         "macd": 9.87214606544751,
         "signal": 7.909835069190667,
         "macd_signal": 0,
         "macd_position": 1,
         "_deepnote_index_column": "2021-08-09T00:00:00.000000"
        },
        {
         "Close": 273.0799865722656,
         "macd": 9.668672453100896,
         "signal": 8.261602545972714,
         "macd_signal": 0,
         "macd_position": 1,
         "_deepnote_index_column": "2021-08-10T00:00:00.000000"
        }
       ]
      },
      "text/plain": "                 Close      macd    signal  macd_signal  macd_position\nDate                                                                  \n2019-09-03   61.130001  0.000000  0.000000            0              1\n2019-09-04   61.169998  0.003191  0.000638            1              1\n2019-09-05   63.020000  0.153233  0.031157            0              1\n2019-09-06   62.000000  0.187673  0.062460            0              1\n2019-09-09   61.470001  0.170238  0.084016            0              1\n...                ...       ...       ...          ...            ...\n2021-08-04  266.420013  7.632964  6.450068            0              1\n2021-08-05  281.809998  8.931131  6.946281            0              1\n2021-08-06  275.100006  9.311164  7.419257            0              1\n2021-08-09  279.730011  9.872146  7.909835            0              1\n2021-08-10  273.079987  9.668672  8.261603            0              1\n\n[489 rows x 5 columns]",
      "text/html": "<div>\n<style scoped>\n    .dataframe tbody tr th:only-of-type {\n        vertical-align: middle;\n    }\n\n    .dataframe tbody tr th {\n        vertical-align: top;\n    }\n\n    .dataframe thead th {\n        text-align: right;\n    }\n</style>\n<table border=\"1\" class=\"dataframe\">\n  <thead>\n    <tr style=\"text-align: right;\">\n      <th></th>\n      <th>Close</th>\n      <th>macd</th>\n      <th>signal</th>\n      <th>macd_signal</th>\n      <th>macd_position</th>\n    </tr>\n    <tr>\n      <th>Date</th>\n      <th></th>\n      <th></th>\n      <th></th>\n      <th></th>\n      <th></th>\n    </tr>\n  </thead>\n  <tbody>\n    <tr>\n      <th>2019-09-03</th>\n      <td>61.130001</td>\n      <td>0.000000</td>\n      <td>0.000000</td>\n      <td>0</td>\n      <td>1</td>\n    </tr>\n    <tr>\n      <th>2019-09-04</th>\n      <td>61.169998</td>\n      <td>0.003191</td>\n      <td>0.000638</td>\n      <td>1</td>\n      <td>1</td>\n    </tr>\n    <tr>\n      <th>2019-09-05</th>\n      <td>63.020000</td>\n      <td>0.153233</td>\n      <td>0.031157</td>\n      <td>0</td>\n      <td>1</td>\n    </tr>\n    <tr>\n      <th>2019-09-06</th>\n      <td>62.000000</td>\n      <td>0.187673</td>\n      <td>0.062460</td>\n      <td>0</td>\n      <td>1</td>\n    </tr>\n    <tr>\n      <th>2019-09-09</th>\n      <td>61.470001</td>\n      <td>0.170238</td>\n      <td>0.084016</td>\n      <td>0</td>\n      <td>1</td>\n    </tr>\n    <tr>\n      <th>...</th>\n      <td>...</td>\n      <td>...</td>\n      <td>...</td>\n      <td>...</td>\n      <td>...</td>\n    </tr>\n    <tr>\n      <th>2021-08-04</th>\n      <td>266.420013</td>\n      <td>7.632964</td>\n      <td>6.450068</td>\n      <td>0</td>\n      <td>1</td>\n    </tr>\n    <tr>\n      <th>2021-08-05</th>\n      <td>281.809998</td>\n      <td>8.931131</td>\n      <td>6.946281</td>\n      <td>0</td>\n      <td>1</td>\n    </tr>\n    <tr>\n      <th>2021-08-06</th>\n      <td>275.100006</td>\n      <td>9.311164</td>\n      <td>7.419257</td>\n      <td>0</td>\n      <td>1</td>\n    </tr>\n    <tr>\n      <th>2021-08-09</th>\n      <td>279.730011</td>\n      <td>9.872146</td>\n      <td>7.909835</td>\n      <td>0</td>\n      <td>1</td>\n    </tr>\n    <tr>\n      <th>2021-08-10</th>\n      <td>273.079987</td>\n      <td>9.668672</td>\n      <td>8.261603</td>\n      <td>0</td>\n      <td>1</td>\n    </tr>\n  </tbody>\n</table>\n<p>489 rows × 5 columns</p>\n</div>"
     },
     "metadata": {}
    }
   ],
   "execution_count": null
  },
  {
   "cell_type": "code",
   "metadata": {
    "tags": [],
    "deepnote_to_be_reexecuted": false,
    "source_hash": "6bae6dee",
    "execution_start": 1629328267638,
    "execution_millis": 32,
    "cell_id": "00008-7711c929-a84e-438e-a391-212e5173bb73",
    "deepnote_cell_type": "code"
   },
   "source": "\nsq_ret = pd.DataFrame(np.diff(sq_daily['Close'])).rename(columns = {0:'returns'})\nmacd_strategy_ret = []\n\nfor i in range(len(sq_ret)):\n    try:\n        returns = sq_ret['returns'][i]*strategy['macd_position'][i]\n        macd_strategy_ret.append(returns)\n    except:\n        pass\n    \nmacd_strategy_ret_df = pd.DataFrame(macd_strategy_ret).rename(columns = {0:'macd_returns'})\n\ninvestment_value = 100000\nnumber_of_stocks = floor(investment_value/sq_daily['Close'][-1])\nmacd_investment_ret = []\n\nfor i in range(len(macd_strategy_ret_df['macd_returns'])):\n    returns = number_of_stocks*macd_strategy_ret_df['macd_returns'][i]\n    macd_investment_ret.append(returns)\n\nmacd_investment_ret_df = pd.DataFrame(macd_investment_ret).rename(columns = {0:'investment_returns'})\ntotal_investment_ret = round(sum(macd_investment_ret_df['investment_returns']), 2)\nprofit_percentage = floor((total_investment_ret/investment_value)*100)\nprint(cl('Profit gained from the MACD strategy by investing $100k in SQ : {}'.format(total_investment_ret), attrs = ['bold']))\nprint(cl('Profit percentage of the MACD strategy : {}%'.format(profit_percentage), attrs = ['bold']))",
   "outputs": [
    {
     "name": "stdout",
     "text": "\u001b[1mProfit gained from the MACD strategy by investing $100k in SQ : 21381.72\u001b[0m\n\u001b[1mProfit percentage of the MACD strategy : 21%\u001b[0m\n",
     "output_type": "stream"
    }
   ],
   "execution_count": null
  },
  {
   "cell_type": "code",
   "metadata": {
    "tags": [],
    "deepnote_to_be_reexecuted": false,
    "source_hash": "7a6cf514",
    "execution_start": 1629328267681,
    "execution_millis": 17,
    "cell_id": "00009-9b2b6a5f-39ce-4713-bbac-b6fcddaece25",
    "deepnote_cell_type": "code"
   },
   "source": "strategy.to_csv('SQ 1D MACD TRADE STRATEGY.csv')",
   "outputs": [],
   "execution_count": null
  },
  {
   "cell_type": "markdown",
   "source": "<a style='text-decoration:none;line-height:16px;display:flex;color:#5B5B62;padding:10px;justify-content:end;' href='https://deepnote.com?utm_source=created-in-deepnote-cell&projectId=d12c285c-6789-4c45-9ad7-1be9b4d60622' target=\"_blank\">\n<img alt='Created in deepnote.com' style='display:inline;max-height:16px;margin:0px;margin-right:7.5px;' src='data:image/svg+xml;base64,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' > </img>\nCreated in <span style='font-weight:600;margin-left:4px;'>Deepnote</span></a>",
   "metadata": {
    "tags": [],
    "created_in_deepnote_cell": true,
    "deepnote_cell_type": "markdown"
   }
  }
 ],
 "nbformat": 4,
 "nbformat_minor": 2,
 "metadata": {
  "orig_nbformat": 2,
  "deepnote": {
   "is_reactive": false
  },
  "deepnote_notebook_id": "ebb8f04f-d6fa-4f5e-a8de-55ef5e057fbe",
  "deepnote_execution_queue": []
 }
}