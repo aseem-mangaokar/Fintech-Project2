{
 "cells": [
  {
   "cell_type": "code",
   "metadata": {
    "tags": [],
    "deepnote_to_be_reexecuted": false,
    "source_hash": "d7395ec9",
    "execution_start": 1629252684655,
    "execution_millis": 320,
    "cell_id": "00000-89cc1e59-bd18-48b1-b1a2-b91af723e43c",
    "deepnote_cell_type": "code"
   },
   "source": "import requests\nimport pandas as pd\nimport numpy as np\nfrom math import floor\nfrom termcolor import colored as cl\nimport matplotlib.pyplot as plt\nimport yfinance as yf\nplt.rcParams['figure.figsize'] = (20, 10)\nplt.style.use('fivethirtyeight')",
   "outputs": [],
   "execution_count": null
  },
  {
   "cell_type": "code",
   "metadata": {
    "tags": [],
    "deepnote_to_be_reexecuted": false,
    "source_hash": "8ceebffa",
    "execution_start": 1629252684990,
    "execution_millis": 1089,
    "cell_id": "00001-14c5cb64-4fc9-43c9-8293-24430d9cbf70",
    "deepnote_cell_type": "code"
   },
   "source": "sq_daily = yf.download(tickers='SQ', start='2015-11-29', end = '2021-08-11', interval='1d')\nsq_daily.drop(columns = ['Open','High','Low','Adj Close','Volume'], inplace = True)\n# sq_1hr.reset_index(inplace = True)\n# sq_1hr.rename(columns = {'index' : 'DateTime'}, inplace = True)\n# sq_1hr.set_index(pd.to_datetime(sq_1hr['DateTime'], infer_datetime_format = True), inplace = True)\n# sq_1hr.drop(columns = 'DateTime', inplace = True)\nsq_daily",
   "outputs": [
    {
     "name": "stdout",
     "text": "[*********************100%***********************]  1 of 1 completed\n",
     "output_type": "stream"
    },
    {
     "output_type": "execute_result",
     "execution_count": 2,
     "data": {
      "application/vnd.deepnote.dataframe.v2+json": {
       "row_count": 1434,
       "column_count": 1,
       "columns": [
        {
         "name": "Close",
         "dtype": "float64",
         "stats": {
          "unique_count": 1294,
          "nan_count": 0,
          "min": "8.369999885559082",
          "max": "281.80999755859375",
          "histogram": [
           {
            "bin_start": 8.369999885559082,
            "bin_end": 35.71399965286255,
            "count": 488
           },
           {
            "bin_start": 35.71399965286255,
            "bin_end": 63.05799942016601,
            "count": 279
           },
           {
            "bin_start": 63.05799942016601,
            "bin_end": 90.40199918746947,
            "count": 360
           },
           {
            "bin_start": 90.40199918746947,
            "bin_end": 117.74599895477294,
            "count": 29
           },
           {
            "bin_start": 117.74599895477294,
            "bin_end": 145.08999872207642,
            "count": 33
           },
           {
            "bin_start": 145.08999872207642,
            "bin_end": 172.43399848937986,
            "count": 40
           },
           {
            "bin_start": 172.43399848937986,
            "bin_end": 199.77799825668333,
            "count": 27
           },
           {
            "bin_start": 199.77799825668333,
            "bin_end": 227.1219980239868,
            "count": 74
           },
           {
            "bin_start": 227.1219980239868,
            "bin_end": 254.46599779129028,
            "count": 72
           },
           {
            "bin_start": 254.46599779129028,
            "bin_end": 281.80999755859375,
            "count": 32
           }
          ]
         }
        },
        {
         "name": "_deepnote_index_column",
         "dtype": "datetime64[ns]"
        }
       ],
       "rows_top": [
        {
         "Close": 12.039999961853027,
         "_deepnote_index_column": "2015-11-30T00:00:00.000000"
        },
        {
         "Close": 11.90999984741211,
         "_deepnote_index_column": "2015-12-01T00:00:00.000000"
        },
        {
         "Close": 11.930000305175781,
         "_deepnote_index_column": "2015-12-02T00:00:00.000000"
        },
        {
         "Close": 11.920000076293945,
         "_deepnote_index_column": "2015-12-03T00:00:00.000000"
        },
        {
         "Close": 12.039999961853027,
         "_deepnote_index_column": "2015-12-04T00:00:00.000000"
        },
        {
         "Close": 12.359999656677246,
         "_deepnote_index_column": "2015-12-07T00:00:00.000000"
        },
        {
         "Close": 12.119999885559082,
         "_deepnote_index_column": "2015-12-08T00:00:00.000000"
        },
        {
         "Close": 11.989999771118164,
         "_deepnote_index_column": "2015-12-09T00:00:00.000000"
        },
        {
         "Close": 12.050000190734863,
         "_deepnote_index_column": "2015-12-10T00:00:00.000000"
        },
        {
         "Close": 11.949999809265137,
         "_deepnote_index_column": "2015-12-11T00:00:00.000000"
        },
        {
         "Close": 12.329999923706055,
         "_deepnote_index_column": "2015-12-14T00:00:00.000000"
        },
        {
         "Close": 12.470000267028809,
         "_deepnote_index_column": "2015-12-15T00:00:00.000000"
        },
        {
         "Close": 12.270000457763672,
         "_deepnote_index_column": "2015-12-16T00:00:00.000000"
        },
        {
         "Close": 12.319999694824219,
         "_deepnote_index_column": "2015-12-17T00:00:00.000000"
        },
        {
         "Close": 12.34000015258789,
         "_deepnote_index_column": "2015-12-18T00:00:00.000000"
        },
        {
         "Close": 12.239999771118164,
         "_deepnote_index_column": "2015-12-21T00:00:00.000000"
        },
        {
         "Close": 12.460000038146973,
         "_deepnote_index_column": "2015-12-22T00:00:00.000000"
        },
        {
         "Close": 12.5,
         "_deepnote_index_column": "2015-12-23T00:00:00.000000"
        },
        {
         "Close": 12.600000381469727,
         "_deepnote_index_column": "2015-12-24T00:00:00.000000"
        },
        {
         "Close": 12.829999923706055,
         "_deepnote_index_column": "2015-12-28T00:00:00.000000"
        },
        {
         "Close": 12.739999771118164,
         "_deepnote_index_column": "2015-12-29T00:00:00.000000"
        },
        {
         "Close": 12.779999732971191,
         "_deepnote_index_column": "2015-12-30T00:00:00.000000"
        },
        {
         "Close": 13.09000015258789,
         "_deepnote_index_column": "2015-12-31T00:00:00.000000"
        },
        {
         "Close": 12.15999984741211,
         "_deepnote_index_column": "2016-01-04T00:00:00.000000"
        },
        {
         "Close": 11.510000228881836,
         "_deepnote_index_column": "2016-01-05T00:00:00.000000"
        },
        {
         "Close": 11.520000457763672,
         "_deepnote_index_column": "2016-01-06T00:00:00.000000"
        },
        {
         "Close": 11.15999984741211,
         "_deepnote_index_column": "2016-01-07T00:00:00.000000"
        },
        {
         "Close": 11.3100004196167,
         "_deepnote_index_column": "2016-01-08T00:00:00.000000"
        },
        {
         "Close": 11.84000015258789,
         "_deepnote_index_column": "2016-01-11T00:00:00.000000"
        },
        {
         "Close": 12.09000015258789,
         "_deepnote_index_column": "2016-01-12T00:00:00.000000"
        },
        {
         "Close": 11.609999656677246,
         "_deepnote_index_column": "2016-01-13T00:00:00.000000"
        },
        {
         "Close": 10.819999694824219,
         "_deepnote_index_column": "2016-01-14T00:00:00.000000"
        },
        {
         "Close": 10.270000457763672,
         "_deepnote_index_column": "2016-01-15T00:00:00.000000"
        },
        {
         "Close": 9.470000267028809,
         "_deepnote_index_column": "2016-01-19T00:00:00.000000"
        },
        {
         "Close": 9.489999771118164,
         "_deepnote_index_column": "2016-01-20T00:00:00.000000"
        },
        {
         "Close": 10.020000457763672,
         "_deepnote_index_column": "2016-01-21T00:00:00.000000"
        },
        {
         "Close": 9.850000381469727,
         "_deepnote_index_column": "2016-01-22T00:00:00.000000"
        },
        {
         "Close": 9.8100004196167,
         "_deepnote_index_column": "2016-01-25T00:00:00.000000"
        },
        {
         "Close": 9.539999961853027,
         "_deepnote_index_column": "2016-01-26T00:00:00.000000"
        },
        {
         "Close": 9.050000190734863,
         "_deepnote_index_column": "2016-01-27T00:00:00.000000"
        },
        {
         "Close": 8.739999771118164,
         "_deepnote_index_column": "2016-01-28T00:00:00.000000"
        },
        {
         "Close": 8.770000457763672,
         "_deepnote_index_column": "2016-01-29T00:00:00.000000"
        },
        {
         "Close": 8.760000228881836,
         "_deepnote_index_column": "2016-02-01T00:00:00.000000"
        },
        {
         "Close": 8.470000267028809,
         "_deepnote_index_column": "2016-02-02T00:00:00.000000"
        },
        {
         "Close": 8.430000305175781,
         "_deepnote_index_column": "2016-02-03T00:00:00.000000"
        },
        {
         "Close": 8.899999618530273,
         "_deepnote_index_column": "2016-02-04T00:00:00.000000"
        },
        {
         "Close": 8.630000114440918,
         "_deepnote_index_column": "2016-02-05T00:00:00.000000"
        },
        {
         "Close": 8.369999885559082,
         "_deepnote_index_column": "2016-02-08T00:00:00.000000"
        },
        {
         "Close": 8.619999885559082,
         "_deepnote_index_column": "2016-02-09T00:00:00.000000"
        },
        {
         "Close": 8.880000114440918,
         "_deepnote_index_column": "2016-02-10T00:00:00.000000"
        },
        {
         "Close": 8.619999885559082,
         "_deepnote_index_column": "2016-02-11T00:00:00.000000"
        },
        {
         "Close": 9.300000190734863,
         "_deepnote_index_column": "2016-02-12T00:00:00.000000"
        },
        {
         "Close": 9.930000305175781,
         "_deepnote_index_column": "2016-02-16T00:00:00.000000"
        },
        {
         "Close": 9.84000015258789,
         "_deepnote_index_column": "2016-02-17T00:00:00.000000"
        },
        {
         "Close": 9.979999542236328,
         "_deepnote_index_column": "2016-02-18T00:00:00.000000"
        },
        {
         "Close": 9.970000267028809,
         "_deepnote_index_column": "2016-02-19T00:00:00.000000"
        },
        {
         "Close": 10.380000114440918,
         "_deepnote_index_column": "2016-02-22T00:00:00.000000"
        },
        {
         "Close": 9.710000038146973,
         "_deepnote_index_column": "2016-02-23T00:00:00.000000"
        },
        {
         "Close": 9.890000343322754,
         "_deepnote_index_column": "2016-02-24T00:00:00.000000"
        },
        {
         "Close": 10.260000228881836,
         "_deepnote_index_column": "2016-02-25T00:00:00.000000"
        },
        {
         "Close": 10.319999694824219,
         "_deepnote_index_column": "2016-02-26T00:00:00.000000"
        },
        {
         "Close": 10.4399995803833,
         "_deepnote_index_column": "2016-02-29T00:00:00.000000"
        },
        {
         "Close": 10.720000267028809,
         "_deepnote_index_column": "2016-03-01T00:00:00.000000"
        },
        {
         "Close": 11.970000267028809,
         "_deepnote_index_column": "2016-03-02T00:00:00.000000"
        },
        {
         "Close": 12.25,
         "_deepnote_index_column": "2016-03-03T00:00:00.000000"
        },
        {
         "Close": 12.010000228881836,
         "_deepnote_index_column": "2016-03-04T00:00:00.000000"
        },
        {
         "Close": 12.260000228881836,
         "_deepnote_index_column": "2016-03-07T00:00:00.000000"
        },
        {
         "Close": 11.479999542236328,
         "_deepnote_index_column": "2016-03-08T00:00:00.000000"
        },
        {
         "Close": 12.029999732971191,
         "_deepnote_index_column": "2016-03-09T00:00:00.000000"
        },
        {
         "Close": 11.300000190734863,
         "_deepnote_index_column": "2016-03-10T00:00:00.000000"
        },
        {
         "Close": 11.100000381469727,
         "_deepnote_index_column": "2016-03-11T00:00:00.000000"
        },
        {
         "Close": 11.609999656677246,
         "_deepnote_index_column": "2016-03-14T00:00:00.000000"
        },
        {
         "Close": 11.949999809265137,
         "_deepnote_index_column": "2016-03-15T00:00:00.000000"
        },
        {
         "Close": 11.869999885559082,
         "_deepnote_index_column": "2016-03-16T00:00:00.000000"
        },
        {
         "Close": 11.949999809265137,
         "_deepnote_index_column": "2016-03-17T00:00:00.000000"
        },
        {
         "Close": 12.039999961853027,
         "_deepnote_index_column": "2016-03-18T00:00:00.000000"
        },
        {
         "Close": 13.399999618530273,
         "_deepnote_index_column": "2016-03-21T00:00:00.000000"
        },
        {
         "Close": 13.0600004196167,
         "_deepnote_index_column": "2016-03-22T00:00:00.000000"
        },
        {
         "Close": 12.59000015258789,
         "_deepnote_index_column": "2016-03-23T00:00:00.000000"
        },
        {
         "Close": 12.880000114440918,
         "_deepnote_index_column": "2016-03-24T00:00:00.000000"
        },
        {
         "Close": 13.399999618530273,
         "_deepnote_index_column": "2016-03-28T00:00:00.000000"
        },
        {
         "Close": 13.739999771118164,
         "_deepnote_index_column": "2016-03-29T00:00:00.000000"
        },
        {
         "Close": 15.020000457763672,
         "_deepnote_index_column": "2016-03-30T00:00:00.000000"
        },
        {
         "Close": 15.279999732971191,
         "_deepnote_index_column": "2016-03-31T00:00:00.000000"
        },
        {
         "Close": 14.220000267028809,
         "_deepnote_index_column": "2016-04-01T00:00:00.000000"
        },
        {
         "Close": 14.279999732971191,
         "_deepnote_index_column": "2016-04-04T00:00:00.000000"
        },
        {
         "Close": 14.260000228881836,
         "_deepnote_index_column": "2016-04-05T00:00:00.000000"
        },
        {
         "Close": 14.970000267028809,
         "_deepnote_index_column": "2016-04-06T00:00:00.000000"
        },
        {
         "Close": 14.8100004196167,
         "_deepnote_index_column": "2016-04-07T00:00:00.000000"
        },
        {
         "Close": 15.130000114440918,
         "_deepnote_index_column": "2016-04-08T00:00:00.000000"
        },
        {
         "Close": 15.359999656677246,
         "_deepnote_index_column": "2016-04-11T00:00:00.000000"
        },
        {
         "Close": 15.479999542236328,
         "_deepnote_index_column": "2016-04-12T00:00:00.000000"
        },
        {
         "Close": 15.010000228881836,
         "_deepnote_index_column": "2016-04-13T00:00:00.000000"
        },
        {
         "Close": 14.819999694824219,
         "_deepnote_index_column": "2016-04-14T00:00:00.000000"
        },
        {
         "Close": 14.329999923706055,
         "_deepnote_index_column": "2016-04-15T00:00:00.000000"
        },
        {
         "Close": 14.510000228881836,
         "_deepnote_index_column": "2016-04-18T00:00:00.000000"
        },
        {
         "Close": 14.09000015258789,
         "_deepnote_index_column": "2016-04-19T00:00:00.000000"
        },
        {
         "Close": 13.630000114440918,
         "_deepnote_index_column": "2016-04-20T00:00:00.000000"
        },
        {
         "Close": 13.239999771118164,
         "_deepnote_index_column": "2016-04-21T00:00:00.000000"
        },
        {
         "Close": 13.34000015258789,
         "_deepnote_index_column": "2016-04-22T00:00:00.000000"
        },
        {
         "Close": 13.59000015258789,
         "_deepnote_index_column": "2016-04-25T00:00:00.000000"
        },
        {
         "Close": 14.180000305175781,
         "_deepnote_index_column": "2016-04-26T00:00:00.000000"
        },
        {
         "Close": 14.6899995803833,
         "_deepnote_index_column": "2016-04-27T00:00:00.000000"
        },
        {
         "Close": 15.350000381469727,
         "_deepnote_index_column": "2016-04-28T00:00:00.000000"
        },
        {
         "Close": 14.890000343322754,
         "_deepnote_index_column": "2016-04-29T00:00:00.000000"
        },
        {
         "Close": 14,
         "_deepnote_index_column": "2016-05-02T00:00:00.000000"
        },
        {
         "Close": 13.449999809265137,
         "_deepnote_index_column": "2016-05-03T00:00:00.000000"
        },
        {
         "Close": 13.390000343322754,
         "_deepnote_index_column": "2016-05-04T00:00:00.000000"
        },
        {
         "Close": 13.050000190734863,
         "_deepnote_index_column": "2016-05-05T00:00:00.000000"
        },
        {
         "Close": 10.220000267028809,
         "_deepnote_index_column": "2016-05-06T00:00:00.000000"
        },
        {
         "Close": 9.850000381469727,
         "_deepnote_index_column": "2016-05-09T00:00:00.000000"
        },
        {
         "Close": 10,
         "_deepnote_index_column": "2016-05-10T00:00:00.000000"
        },
        {
         "Close": 9.680000305175781,
         "_deepnote_index_column": "2016-05-11T00:00:00.000000"
        },
        {
         "Close": 9.279999732971191,
         "_deepnote_index_column": "2016-05-12T00:00:00.000000"
        },
        {
         "Close": 9.359999656677246,
         "_deepnote_index_column": "2016-05-13T00:00:00.000000"
        },
        {
         "Close": 9.15999984741211,
         "_deepnote_index_column": "2016-05-16T00:00:00.000000"
        },
        {
         "Close": 9.180000305175781,
         "_deepnote_index_column": "2016-05-17T00:00:00.000000"
        },
        {
         "Close": 9.399999618530273,
         "_deepnote_index_column": "2016-05-18T00:00:00.000000"
        },
        {
         "Close": 9.600000381469727,
         "_deepnote_index_column": "2016-05-19T00:00:00.000000"
        },
        {
         "Close": 9.390000343322754,
         "_deepnote_index_column": "2016-05-20T00:00:00.000000"
        },
        {
         "Close": 9.460000038146973,
         "_deepnote_index_column": "2016-05-23T00:00:00.000000"
        },
        {
         "Close": 10.140000343322754,
         "_deepnote_index_column": "2016-05-24T00:00:00.000000"
        },
        {
         "Close": 10,
         "_deepnote_index_column": "2016-05-25T00:00:00.000000"
        },
        {
         "Close": 9.75,
         "_deepnote_index_column": "2016-05-26T00:00:00.000000"
        },
        {
         "Close": 9.630000114440918,
         "_deepnote_index_column": "2016-05-27T00:00:00.000000"
        },
        {
         "Close": 9.529999732971191,
         "_deepnote_index_column": "2016-05-31T00:00:00.000000"
        },
        {
         "Close": 9.600000381469727,
         "_deepnote_index_column": "2016-06-01T00:00:00.000000"
        },
        {
         "Close": 9.649999618530273,
         "_deepnote_index_column": "2016-06-02T00:00:00.000000"
        },
        {
         "Close": 9.460000038146973,
         "_deepnote_index_column": "2016-06-03T00:00:00.000000"
        },
        {
         "Close": 9.510000228881836,
         "_deepnote_index_column": "2016-06-06T00:00:00.000000"
        },
        {
         "Close": 9.569999694824219,
         "_deepnote_index_column": "2016-06-07T00:00:00.000000"
        },
        {
         "Close": 9.550000190734863,
         "_deepnote_index_column": "2016-06-08T00:00:00.000000"
        },
        {
         "Close": 9.34000015258789,
         "_deepnote_index_column": "2016-06-09T00:00:00.000000"
        },
        {
         "Close": 9.140000343322754,
         "_deepnote_index_column": "2016-06-10T00:00:00.000000"
        },
        {
         "Close": 8.920000076293945,
         "_deepnote_index_column": "2016-06-13T00:00:00.000000"
        },
        {
         "Close": 8.890000343322754,
         "_deepnote_index_column": "2016-06-14T00:00:00.000000"
        },
        {
         "Close": 9.0600004196167,
         "_deepnote_index_column": "2016-06-15T00:00:00.000000"
        },
        {
         "Close": 9.050000190734863,
         "_deepnote_index_column": "2016-06-16T00:00:00.000000"
        },
        {
         "Close": 9.039999961853027,
         "_deepnote_index_column": "2016-06-17T00:00:00.000000"
        },
        {
         "Close": 9.199999809265137,
         "_deepnote_index_column": "2016-06-20T00:00:00.000000"
        },
        {
         "Close": 9.350000381469727,
         "_deepnote_index_column": "2016-06-21T00:00:00.000000"
        },
        {
         "Close": 8.779999732971191,
         "_deepnote_index_column": "2016-06-22T00:00:00.000000"
        },
        {
         "Close": 9.130000114440918,
         "_deepnote_index_column": "2016-06-23T00:00:00.000000"
        },
        {
         "Close": 8.770000457763672,
         "_deepnote_index_column": "2016-06-24T00:00:00.000000"
        },
        {
         "Close": 8.619999885559082,
         "_deepnote_index_column": "2016-06-27T00:00:00.000000"
        },
        {
         "Close": 8.899999618530273,
         "_deepnote_index_column": "2016-06-28T00:00:00.000000"
        },
        {
         "Close": 9.300000190734863,
         "_deepnote_index_column": "2016-06-29T00:00:00.000000"
        },
        {
         "Close": 9.050000190734863,
         "_deepnote_index_column": "2016-06-30T00:00:00.000000"
        },
        {
         "Close": 9.270000457763672,
         "_deepnote_index_column": "2016-07-01T00:00:00.000000"
        },
        {
         "Close": 8.9399995803833,
         "_deepnote_index_column": "2016-07-05T00:00:00.000000"
        },
        {
         "Close": 9,
         "_deepnote_index_column": "2016-07-06T00:00:00.000000"
        },
        {
         "Close": 9.079999923706055,
         "_deepnote_index_column": "2016-07-07T00:00:00.000000"
        },
        {
         "Close": 9.300000190734863,
         "_deepnote_index_column": "2016-07-08T00:00:00.000000"
        },
        {
         "Close": 9.239999771118164,
         "_deepnote_index_column": "2016-07-11T00:00:00.000000"
        },
        {
         "Close": 9.399999618530273,
         "_deepnote_index_column": "2016-07-12T00:00:00.000000"
        },
        {
         "Close": 9.289999961853027,
         "_deepnote_index_column": "2016-07-13T00:00:00.000000"
        },
        {
         "Close": 9.369999885559082,
         "_deepnote_index_column": "2016-07-14T00:00:00.000000"
        },
        {
         "Close": 9.170000076293945,
         "_deepnote_index_column": "2016-07-15T00:00:00.000000"
        },
        {
         "Close": 9.270000457763672,
         "_deepnote_index_column": "2016-07-18T00:00:00.000000"
        },
        {
         "Close": 9.350000381469727,
         "_deepnote_index_column": "2016-07-19T00:00:00.000000"
        },
        {
         "Close": 9.579999923706055,
         "_deepnote_index_column": "2016-07-20T00:00:00.000000"
        },
        {
         "Close": 9.460000038146973,
         "_deepnote_index_column": "2016-07-21T00:00:00.000000"
        },
        {
         "Close": 9.729999542236328,
         "_deepnote_index_column": "2016-07-22T00:00:00.000000"
        },
        {
         "Close": 9.850000381469727,
         "_deepnote_index_column": "2016-07-25T00:00:00.000000"
        },
        {
         "Close": 10.100000381469727,
         "_deepnote_index_column": "2016-07-26T00:00:00.000000"
        },
        {
         "Close": 10.130000114440918,
         "_deepnote_index_column": "2016-07-27T00:00:00.000000"
        },
        {
         "Close": 10.119999885559082,
         "_deepnote_index_column": "2016-07-28T00:00:00.000000"
        },
        {
         "Close": 10.069999694824219,
         "_deepnote_index_column": "2016-07-29T00:00:00.000000"
        },
        {
         "Close": 10.1899995803833,
         "_deepnote_index_column": "2016-08-01T00:00:00.000000"
        },
        {
         "Close": 10.050000190734863,
         "_deepnote_index_column": "2016-08-02T00:00:00.000000"
        },
        {
         "Close": 10.4399995803833,
         "_deepnote_index_column": "2016-08-03T00:00:00.000000"
        },
        {
         "Close": 11.319999694824219,
         "_deepnote_index_column": "2016-08-04T00:00:00.000000"
        },
        {
         "Close": 11.149999618530273,
         "_deepnote_index_column": "2016-08-05T00:00:00.000000"
        },
        {
         "Close": 11.260000228881836,
         "_deepnote_index_column": "2016-08-08T00:00:00.000000"
        },
        {
         "Close": 11.300000190734863,
         "_deepnote_index_column": "2016-08-09T00:00:00.000000"
        },
        {
         "Close": 11.069999694824219,
         "_deepnote_index_column": "2016-08-10T00:00:00.000000"
        },
        {
         "Close": 11.369999885559082,
         "_deepnote_index_column": "2016-08-11T00:00:00.000000"
        },
        {
         "Close": 11.65999984741211,
         "_deepnote_index_column": "2016-08-12T00:00:00.000000"
        },
        {
         "Close": 11.479999542236328,
         "_deepnote_index_column": "2016-08-15T00:00:00.000000"
        },
        {
         "Close": 11.640000343322754,
         "_deepnote_index_column": "2016-08-16T00:00:00.000000"
        },
        {
         "Close": 11.399999618530273,
         "_deepnote_index_column": "2016-08-17T00:00:00.000000"
        },
        {
         "Close": 11.75,
         "_deepnote_index_column": "2016-08-18T00:00:00.000000"
        },
        {
         "Close": 11.800000190734863,
         "_deepnote_index_column": "2016-08-19T00:00:00.000000"
        },
        {
         "Close": 11.819999694824219,
         "_deepnote_index_column": "2016-08-22T00:00:00.000000"
        },
        {
         "Close": 12.390000343322754,
         "_deepnote_index_column": "2016-08-23T00:00:00.000000"
        },
        {
         "Close": 12.15999984741211,
         "_deepnote_index_column": "2016-08-24T00:00:00.000000"
        },
        {
         "Close": 12.3100004196167,
         "_deepnote_index_column": "2016-08-25T00:00:00.000000"
        },
        {
         "Close": 12.039999961853027,
         "_deepnote_index_column": "2016-08-26T00:00:00.000000"
        },
        {
         "Close": 12.010000228881836,
         "_deepnote_index_column": "2016-08-29T00:00:00.000000"
        },
        {
         "Close": 12.069999694824219,
         "_deepnote_index_column": "2016-08-30T00:00:00.000000"
        },
        {
         "Close": 12.1899995803833,
         "_deepnote_index_column": "2016-08-31T00:00:00.000000"
        },
        {
         "Close": 12,
         "_deepnote_index_column": "2016-09-01T00:00:00.000000"
        },
        {
         "Close": 12.050000190734863,
         "_deepnote_index_column": "2016-09-02T00:00:00.000000"
        },
        {
         "Close": 11.829999923706055,
         "_deepnote_index_column": "2016-09-06T00:00:00.000000"
        },
        {
         "Close": 11.930000305175781,
         "_deepnote_index_column": "2016-09-07T00:00:00.000000"
        },
        {
         "Close": 11.779999732971191,
         "_deepnote_index_column": "2016-09-08T00:00:00.000000"
        },
        {
         "Close": 11.270000457763672,
         "_deepnote_index_column": "2016-09-09T00:00:00.000000"
        },
        {
         "Close": 11.329999923706055,
         "_deepnote_index_column": "2016-09-12T00:00:00.000000"
        },
        {
         "Close": 11.229999542236328,
         "_deepnote_index_column": "2016-09-13T00:00:00.000000"
        },
        {
         "Close": 11.279999732971191,
         "_deepnote_index_column": "2016-09-14T00:00:00.000000"
        },
        {
         "Close": 11.380000114440918,
         "_deepnote_index_column": "2016-09-15T00:00:00.000000"
        },
        {
         "Close": 11.369999885559082,
         "_deepnote_index_column": "2016-09-16T00:00:00.000000"
        },
        {
         "Close": 11.550000190734863,
         "_deepnote_index_column": "2016-09-19T00:00:00.000000"
        },
        {
         "Close": 11.65999984741211,
         "_deepnote_index_column": "2016-09-20T00:00:00.000000"
        },
        {
         "Close": 11.899999618530273,
         "_deepnote_index_column": "2016-09-21T00:00:00.000000"
        },
        {
         "Close": 11.680000305175781,
         "_deepnote_index_column": "2016-09-22T00:00:00.000000"
        },
        {
         "Close": 11.829999923706055,
         "_deepnote_index_column": "2016-09-23T00:00:00.000000"
        },
        {
         "Close": 11.550000190734863,
         "_deepnote_index_column": "2016-09-26T00:00:00.000000"
        },
        {
         "Close": 11.779999732971191,
         "_deepnote_index_column": "2016-09-27T00:00:00.000000"
        },
        {
         "Close": 11.829999923706055,
         "_deepnote_index_column": "2016-09-28T00:00:00.000000"
        },
        {
         "Close": 11.640000343322754,
         "_deepnote_index_column": "2016-09-29T00:00:00.000000"
        },
        {
         "Close": 11.65999984741211,
         "_deepnote_index_column": "2016-09-30T00:00:00.000000"
        },
        {
         "Close": 11.670000076293945,
         "_deepnote_index_column": "2016-10-03T00:00:00.000000"
        },
        {
         "Close": 11.630000114440918,
         "_deepnote_index_column": "2016-10-04T00:00:00.000000"
        },
        {
         "Close": 11.6899995803833,
         "_deepnote_index_column": "2016-10-05T00:00:00.000000"
        },
        {
         "Close": 11.520000457763672,
         "_deepnote_index_column": "2016-10-06T00:00:00.000000"
        },
        {
         "Close": 11.479999542236328,
         "_deepnote_index_column": "2016-10-07T00:00:00.000000"
        },
        {
         "Close": 11.470000267028809,
         "_deepnote_index_column": "2016-10-10T00:00:00.000000"
        },
        {
         "Close": 11.180000305175781,
         "_deepnote_index_column": "2016-10-11T00:00:00.000000"
        },
        {
         "Close": 11.270000457763672,
         "_deepnote_index_column": "2016-10-12T00:00:00.000000"
        },
        {
         "Close": 11.1899995803833,
         "_deepnote_index_column": "2016-10-13T00:00:00.000000"
        },
        {
         "Close": 11.119999885559082,
         "_deepnote_index_column": "2016-10-14T00:00:00.000000"
        },
        {
         "Close": 10.930000305175781,
         "_deepnote_index_column": "2016-10-17T00:00:00.000000"
        },
        {
         "Close": 11.34000015258789,
         "_deepnote_index_column": "2016-10-18T00:00:00.000000"
        },
        {
         "Close": 11.300000190734863,
         "_deepnote_index_column": "2016-10-19T00:00:00.000000"
        },
        {
         "Close": 11.1899995803833,
         "_deepnote_index_column": "2016-10-20T00:00:00.000000"
        },
        {
         "Close": 11.319999694824219,
         "_deepnote_index_column": "2016-10-21T00:00:00.000000"
        },
        {
         "Close": 11.350000381469727,
         "_deepnote_index_column": "2016-10-24T00:00:00.000000"
        },
        {
         "Close": 11.069999694824219,
         "_deepnote_index_column": "2016-10-25T00:00:00.000000"
        },
        {
         "Close": 11.210000038146973,
         "_deepnote_index_column": "2016-10-26T00:00:00.000000"
        },
        {
         "Close": 11.149999618530273,
         "_deepnote_index_column": "2016-10-27T00:00:00.000000"
        },
        {
         "Close": 11.140000343322754,
         "_deepnote_index_column": "2016-10-28T00:00:00.000000"
        },
        {
         "Close": 11.199999809265137,
         "_deepnote_index_column": "2016-10-31T00:00:00.000000"
        },
        {
         "Close": 11.069999694824219,
         "_deepnote_index_column": "2016-11-01T00:00:00.000000"
        },
        {
         "Close": 11.779999732971191,
         "_deepnote_index_column": "2016-11-02T00:00:00.000000"
        },
        {
         "Close": 11.989999771118164,
         "_deepnote_index_column": "2016-11-03T00:00:00.000000"
        },
        {
         "Close": 12.180000305175781,
         "_deepnote_index_column": "2016-11-04T00:00:00.000000"
        },
        {
         "Close": 12.220000267028809,
         "_deepnote_index_column": "2016-11-07T00:00:00.000000"
        },
        {
         "Close": 12.34000015258789,
         "_deepnote_index_column": "2016-11-08T00:00:00.000000"
        },
        {
         "Close": 12,
         "_deepnote_index_column": "2016-11-09T00:00:00.000000"
        },
        {
         "Close": 11.649999618530273,
         "_deepnote_index_column": "2016-11-10T00:00:00.000000"
        },
        {
         "Close": 11.880000114440918,
         "_deepnote_index_column": "2016-11-11T00:00:00.000000"
        },
        {
         "Close": 12.350000381469727,
         "_deepnote_index_column": "2016-11-14T00:00:00.000000"
        },
        {
         "Close": 12.029999732971191,
         "_deepnote_index_column": "2016-11-15T00:00:00.000000"
        },
        {
         "Close": 12.039999961853027,
         "_deepnote_index_column": "2016-11-16T00:00:00.000000"
        },
        {
         "Close": 12.220000267028809,
         "_deepnote_index_column": "2016-11-17T00:00:00.000000"
        },
        {
         "Close": 12.15999984741211,
         "_deepnote_index_column": "2016-11-18T00:00:00.000000"
        },
        {
         "Close": 12.220000267028809,
         "_deepnote_index_column": "2016-11-21T00:00:00.000000"
        },
        {
         "Close": 12.460000038146973,
         "_deepnote_index_column": "2016-11-22T00:00:00.000000"
        },
        {
         "Close": 12.430000305175781,
         "_deepnote_index_column": "2016-11-23T00:00:00.000000"
        },
        {
         "Close": 12.75,
         "_deepnote_index_column": "2016-11-25T00:00:00.000000"
        },
        {
         "Close": 12.529999732971191,
         "_deepnote_index_column": "2016-11-28T00:00:00.000000"
        },
        {
         "Close": 12.460000038146973,
         "_deepnote_index_column": "2016-11-29T00:00:00.000000"
        },
        {
         "Close": 12.9399995803833,
         "_deepnote_index_column": "2016-11-30T00:00:00.000000"
        },
        {
         "Close": 12.710000038146973,
         "_deepnote_index_column": "2016-12-01T00:00:00.000000"
        },
        {
         "Close": 13.0600004196167,
         "_deepnote_index_column": "2016-12-02T00:00:00.000000"
        },
        {
         "Close": 13.199999809265137,
         "_deepnote_index_column": "2016-12-05T00:00:00.000000"
        },
        {
         "Close": 13.270000457763672,
         "_deepnote_index_column": "2016-12-06T00:00:00.000000"
        },
        {
         "Close": 14.119999885559082,
         "_deepnote_index_column": "2016-12-07T00:00:00.000000"
        },
        {
         "Close": 13.9399995803833,
         "_deepnote_index_column": "2016-12-08T00:00:00.000000"
        },
        {
         "Close": 13.890000343322754,
         "_deepnote_index_column": "2016-12-09T00:00:00.000000"
        },
        {
         "Close": 13.850000381469727,
         "_deepnote_index_column": "2016-12-12T00:00:00.000000"
        },
        {
         "Close": 14.069999694824219,
         "_deepnote_index_column": "2016-12-13T00:00:00.000000"
        },
        {
         "Close": 13.829999923706055,
         "_deepnote_index_column": "2016-12-14T00:00:00.000000"
        },
        {
         "Close": 14.130000114440918,
         "_deepnote_index_column": "2016-12-15T00:00:00.000000"
        },
        {
         "Close": 14.380000114440918,
         "_deepnote_index_column": "2016-12-16T00:00:00.000000"
        },
        {
         "Close": 14.359999656677246,
         "_deepnote_index_column": "2016-12-19T00:00:00.000000"
        },
        {
         "Close": 14.479999542236328,
         "_deepnote_index_column": "2016-12-20T00:00:00.000000"
        },
        {
         "Close": 14.380000114440918,
         "_deepnote_index_column": "2016-12-21T00:00:00.000000"
        },
        {
         "Close": 14.050000190734863,
         "_deepnote_index_column": "2016-12-22T00:00:00.000000"
        },
        {
         "Close": 14.069999694824219,
         "_deepnote_index_column": "2016-12-23T00:00:00.000000"
        },
        {
         "Close": 14,
         "_deepnote_index_column": "2016-12-27T00:00:00.000000"
        },
        {
         "Close": 13.949999809265137,
         "_deepnote_index_column": "2016-12-28T00:00:00.000000"
        },
        {
         "Close": 13.729999542236328,
         "_deepnote_index_column": "2016-12-29T00:00:00.000000"
        },
        {
         "Close": 13.630000114440918,
         "_deepnote_index_column": "2016-12-30T00:00:00.000000"
        },
        {
         "Close": 13.8100004196167,
         "_deepnote_index_column": "2017-01-03T00:00:00.000000"
        },
        {
         "Close": 14.25,
         "_deepnote_index_column": "2017-01-04T00:00:00.000000"
        },
        {
         "Close": 14.5600004196167,
         "_deepnote_index_column": "2017-01-05T00:00:00.000000"
        },
        {
         "Close": 15,
         "_deepnote_index_column": "2017-01-06T00:00:00.000000"
        },
        {
         "Close": 15.0600004196167,
         "_deepnote_index_column": "2017-01-09T00:00:00.000000"
        },
        {
         "Close": 14.90999984741211,
         "_deepnote_index_column": "2017-01-10T00:00:00.000000"
        },
        {
         "Close": 14.899999618530273,
         "_deepnote_index_column": "2017-01-11T00:00:00.000000"
        },
        {
         "Close": 14.739999771118164,
         "_deepnote_index_column": "2017-01-12T00:00:00.000000"
        },
        {
         "Close": 14.75,
         "_deepnote_index_column": "2017-01-13T00:00:00.000000"
        },
        {
         "Close": 14.6899995803833,
         "_deepnote_index_column": "2017-01-17T00:00:00.000000"
        },
        {
         "Close": 14.640000343322754,
         "_deepnote_index_column": "2017-01-18T00:00:00.000000"
        },
        {
         "Close": 14.729999542236328,
         "_deepnote_index_column": "2017-01-19T00:00:00.000000"
        },
        {
         "Close": 14.890000343322754,
         "_deepnote_index_column": "2017-01-20T00:00:00.000000"
        },
        {
         "Close": 14.609999656677246,
         "_deepnote_index_column": "2017-01-23T00:00:00.000000"
        },
        {
         "Close": 14.65999984741211,
         "_deepnote_index_column": "2017-01-24T00:00:00.000000"
        },
        {
         "Close": 14.600000381469727,
         "_deepnote_index_column": "2017-01-25T00:00:00.000000"
        },
        {
         "Close": 14.40999984741211,
         "_deepnote_index_column": "2017-01-26T00:00:00.000000"
        },
        {
         "Close": 14.529999732971191,
         "_deepnote_index_column": "2017-01-27T00:00:00.000000"
        },
        {
         "Close": 14.449999809265137,
         "_deepnote_index_column": "2017-01-30T00:00:00.000000"
        },
        {
         "Close": 14.619999885559082,
         "_deepnote_index_column": "2017-01-31T00:00:00.000000"
        },
        {
         "Close": 14.359999656677246,
         "_deepnote_index_column": "2017-02-01T00:00:00.000000"
        },
        {
         "Close": 14.359999656677246,
         "_deepnote_index_column": "2017-02-02T00:00:00.000000"
        },
        {
         "Close": 14.279999732971191,
         "_deepnote_index_column": "2017-02-03T00:00:00.000000"
        },
        {
         "Close": 14.399999618530273,
         "_deepnote_index_column": "2017-02-06T00:00:00.000000"
        },
        {
         "Close": 14.399999618530273,
         "_deepnote_index_column": "2017-02-07T00:00:00.000000"
        },
        {
         "Close": 14.470000267028809,
         "_deepnote_index_column": "2017-02-08T00:00:00.000000"
        },
        {
         "Close": 14.729999542236328,
         "_deepnote_index_column": "2017-02-09T00:00:00.000000"
        },
        {
         "Close": 14.609999656677246,
         "_deepnote_index_column": "2017-02-10T00:00:00.000000"
        },
        {
         "Close": 14.5,
         "_deepnote_index_column": "2017-02-13T00:00:00.000000"
        },
        {
         "Close": 14.329999923706055,
         "_deepnote_index_column": "2017-02-14T00:00:00.000000"
        },
        {
         "Close": 14.3100004196167,
         "_deepnote_index_column": "2017-02-15T00:00:00.000000"
        },
        {
         "Close": 13.890000343322754,
         "_deepnote_index_column": "2017-02-16T00:00:00.000000"
        },
        {
         "Close": 14.470000267028809,
         "_deepnote_index_column": "2017-02-17T00:00:00.000000"
        },
        {
         "Close": 14.630000114440918,
         "_deepnote_index_column": "2017-02-21T00:00:00.000000"
        },
        {
         "Close": 15.039999961853027,
         "_deepnote_index_column": "2017-02-22T00:00:00.000000"
        },
        {
         "Close": 17.149999618530273,
         "_deepnote_index_column": "2017-02-23T00:00:00.000000"
        },
        {
         "Close": 17.43000030517578,
         "_deepnote_index_column": "2017-02-24T00:00:00.000000"
        },
        {
         "Close": 17.93000030517578,
         "_deepnote_index_column": "2017-02-27T00:00:00.000000"
        },
        {
         "Close": 17.31999969482422,
         "_deepnote_index_column": "2017-02-28T00:00:00.000000"
        },
        {
         "Close": 17.219999313354492,
         "_deepnote_index_column": "2017-03-01T00:00:00.000000"
        },
        {
         "Close": 16.989999771118164,
         "_deepnote_index_column": "2017-03-02T00:00:00.000000"
        },
        {
         "Close": 16.889999389648438,
         "_deepnote_index_column": "2017-03-03T00:00:00.000000"
        },
        {
         "Close": 16.860000610351562,
         "_deepnote_index_column": "2017-03-06T00:00:00.000000"
        },
        {
         "Close": 16.760000228881836,
         "_deepnote_index_column": "2017-03-07T00:00:00.000000"
        },
        {
         "Close": 16.829999923706055,
         "_deepnote_index_column": "2017-03-08T00:00:00.000000"
        },
        {
         "Close": 17.06999969482422,
         "_deepnote_index_column": "2017-03-09T00:00:00.000000"
        },
        {
         "Close": 16.90999984741211,
         "_deepnote_index_column": "2017-03-10T00:00:00.000000"
        },
        {
         "Close": 16.93000030517578,
         "_deepnote_index_column": "2017-03-13T00:00:00.000000"
        },
        {
         "Close": 16.770000457763672,
         "_deepnote_index_column": "2017-03-14T00:00:00.000000"
        },
        {
         "Close": 16.950000762939453,
         "_deepnote_index_column": "2017-03-15T00:00:00.000000"
        },
        {
         "Close": 17.209999084472656,
         "_deepnote_index_column": "2017-03-16T00:00:00.000000"
        },
        {
         "Close": 17.280000686645508,
         "_deepnote_index_column": "2017-03-17T00:00:00.000000"
        },
        {
         "Close": 17.239999771118164,
         "_deepnote_index_column": "2017-03-20T00:00:00.000000"
        },
        {
         "Close": 16.510000228881836,
         "_deepnote_index_column": "2017-03-21T00:00:00.000000"
        },
        {
         "Close": 16.40999984741211,
         "_deepnote_index_column": "2017-03-22T00:00:00.000000"
        },
        {
         "Close": 16.610000610351562,
         "_deepnote_index_column": "2017-03-23T00:00:00.000000"
        },
        {
         "Close": 16.59000015258789,
         "_deepnote_index_column": "2017-03-24T00:00:00.000000"
        },
        {
         "Close": 17.25,
         "_deepnote_index_column": "2017-03-27T00:00:00.000000"
        },
        {
         "Close": 17.229999542236328,
         "_deepnote_index_column": "2017-03-28T00:00:00.000000"
        },
        {
         "Close": 17.219999313354492,
         "_deepnote_index_column": "2017-03-29T00:00:00.000000"
        },
        {
         "Close": 17.31999969482422,
         "_deepnote_index_column": "2017-03-30T00:00:00.000000"
        },
        {
         "Close": 17.280000686645508,
         "_deepnote_index_column": "2017-03-31T00:00:00.000000"
        },
        {
         "Close": 17.030000686645508,
         "_deepnote_index_column": "2017-04-03T00:00:00.000000"
        },
        {
         "Close": 17.040000915527344,
         "_deepnote_index_column": "2017-04-04T00:00:00.000000"
        },
        {
         "Close": 16.75,
         "_deepnote_index_column": "2017-04-05T00:00:00.000000"
        },
        {
         "Close": 17,
         "_deepnote_index_column": "2017-04-06T00:00:00.000000"
        },
        {
         "Close": 16.690000534057617,
         "_deepnote_index_column": "2017-04-07T00:00:00.000000"
        },
        {
         "Close": 16.989999771118164,
         "_deepnote_index_column": "2017-04-10T00:00:00.000000"
        },
        {
         "Close": 16.920000076293945,
         "_deepnote_index_column": "2017-04-11T00:00:00.000000"
        },
        {
         "Close": 17.299999237060547,
         "_deepnote_index_column": "2017-04-12T00:00:00.000000"
        },
        {
         "Close": 16.920000076293945,
         "_deepnote_index_column": "2017-04-13T00:00:00.000000"
        },
        {
         "Close": 17.079999923706055,
         "_deepnote_index_column": "2017-04-17T00:00:00.000000"
        },
        {
         "Close": 16.979999542236328,
         "_deepnote_index_column": "2017-04-18T00:00:00.000000"
        },
        {
         "Close": 17.200000762939453,
         "_deepnote_index_column": "2017-04-19T00:00:00.000000"
        },
        {
         "Close": 17.709999084472656,
         "_deepnote_index_column": "2017-04-20T00:00:00.000000"
        },
        {
         "Close": 17.489999771118164,
         "_deepnote_index_column": "2017-04-21T00:00:00.000000"
        },
        {
         "Close": 17.850000381469727,
         "_deepnote_index_column": "2017-04-24T00:00:00.000000"
        },
        {
         "Close": 18.219999313354492,
         "_deepnote_index_column": "2017-04-25T00:00:00.000000"
        },
        {
         "Close": 18.079999923706055,
         "_deepnote_index_column": "2017-04-26T00:00:00.000000"
        },
        {
         "Close": 18.229999542236328,
         "_deepnote_index_column": "2017-04-27T00:00:00.000000"
        },
        {
         "Close": 18.239999771118164,
         "_deepnote_index_column": "2017-04-28T00:00:00.000000"
        },
        {
         "Close": 18.610000610351562,
         "_deepnote_index_column": "2017-05-01T00:00:00.000000"
        },
        {
         "Close": 18.809999465942383,
         "_deepnote_index_column": "2017-05-02T00:00:00.000000"
        },
        {
         "Close": 18.280000686645508,
         "_deepnote_index_column": "2017-05-03T00:00:00.000000"
        },
        {
         "Close": 19.899999618530273,
         "_deepnote_index_column": "2017-05-04T00:00:00.000000"
        },
        {
         "Close": 19.780000686645508,
         "_deepnote_index_column": "2017-05-05T00:00:00.000000"
        },
        {
         "Close": 19.559999465942383,
         "_deepnote_index_column": "2017-05-08T00:00:00.000000"
        },
        {
         "Close": 19.799999237060547,
         "_deepnote_index_column": "2017-05-09T00:00:00.000000"
        },
        {
         "Close": 19.950000762939453,
         "_deepnote_index_column": "2017-05-10T00:00:00.000000"
        },
        {
         "Close": 19.709999084472656,
         "_deepnote_index_column": "2017-05-11T00:00:00.000000"
        },
        {
         "Close": 20.079999923706055,
         "_deepnote_index_column": "2017-05-12T00:00:00.000000"
        },
        {
         "Close": 20.25,
         "_deepnote_index_column": "2017-05-15T00:00:00.000000"
        },
        {
         "Close": 20.34000015258789,
         "_deepnote_index_column": "2017-05-16T00:00:00.000000"
        },
        {
         "Close": 19.559999465942383,
         "_deepnote_index_column": "2017-05-17T00:00:00.000000"
        },
        {
         "Close": 19.68000030517578,
         "_deepnote_index_column": "2017-05-18T00:00:00.000000"
        },
        {
         "Close": 19.90999984741211,
         "_deepnote_index_column": "2017-05-19T00:00:00.000000"
        },
        {
         "Close": 20.950000762939453,
         "_deepnote_index_column": "2017-05-22T00:00:00.000000"
        },
        {
         "Close": 21.639999389648438,
         "_deepnote_index_column": "2017-05-23T00:00:00.000000"
        },
        {
         "Close": 21.920000076293945,
         "_deepnote_index_column": "2017-05-24T00:00:00.000000"
        },
        {
         "Close": 22.329999923706055,
         "_deepnote_index_column": "2017-05-25T00:00:00.000000"
        },
        {
         "Close": 22.329999923706055,
         "_deepnote_index_column": "2017-05-26T00:00:00.000000"
        },
        {
         "Close": 22.739999771118164,
         "_deepnote_index_column": "2017-05-30T00:00:00.000000"
        },
        {
         "Close": 22.989999771118164,
         "_deepnote_index_column": "2017-05-31T00:00:00.000000"
        },
        {
         "Close": 23.229999542236328,
         "_deepnote_index_column": "2017-06-01T00:00:00.000000"
        },
        {
         "Close": 23.200000762939453,
         "_deepnote_index_column": "2017-06-02T00:00:00.000000"
        },
        {
         "Close": 23.389999389648438,
         "_deepnote_index_column": "2017-06-05T00:00:00.000000"
        },
        {
         "Close": 24.209999084472656,
         "_deepnote_index_column": "2017-06-06T00:00:00.000000"
        },
        {
         "Close": 24.290000915527344,
         "_deepnote_index_column": "2017-06-07T00:00:00.000000"
        },
        {
         "Close": 24.780000686645508,
         "_deepnote_index_column": "2017-06-08T00:00:00.000000"
        },
        {
         "Close": 23.030000686645508,
         "_deepnote_index_column": "2017-06-09T00:00:00.000000"
        },
        {
         "Close": 23.600000381469727,
         "_deepnote_index_column": "2017-06-12T00:00:00.000000"
        },
        {
         "Close": 23.479999542236328,
         "_deepnote_index_column": "2017-06-13T00:00:00.000000"
        },
        {
         "Close": 23.469999313354492,
         "_deepnote_index_column": "2017-06-14T00:00:00.000000"
        },
        {
         "Close": 23.989999771118164,
         "_deepnote_index_column": "2017-06-15T00:00:00.000000"
        },
        {
         "Close": 23.559999465942383,
         "_deepnote_index_column": "2017-06-16T00:00:00.000000"
        },
        {
         "Close": 24.200000762939453,
         "_deepnote_index_column": "2017-06-19T00:00:00.000000"
        },
        {
         "Close": 23.850000381469727,
         "_deepnote_index_column": "2017-06-20T00:00:00.000000"
        },
        {
         "Close": 24.15999984741211,
         "_deepnote_index_column": "2017-06-21T00:00:00.000000"
        },
        {
         "Close": 24.280000686645508,
         "_deepnote_index_column": "2017-06-22T00:00:00.000000"
        },
        {
         "Close": 24.170000076293945,
         "_deepnote_index_column": "2017-06-23T00:00:00.000000"
        },
        {
         "Close": 23.93000030517578,
         "_deepnote_index_column": "2017-06-26T00:00:00.000000"
        },
        {
         "Close": 23.31999969482422,
         "_deepnote_index_column": "2017-06-27T00:00:00.000000"
        },
        {
         "Close": 24.299999237060547,
         "_deepnote_index_column": "2017-06-28T00:00:00.000000"
        },
        {
         "Close": 23.399999618530273,
         "_deepnote_index_column": "2017-06-29T00:00:00.000000"
        },
        {
         "Close": 23.459999084472656,
         "_deepnote_index_column": "2017-06-30T00:00:00.000000"
        },
        {
         "Close": 22.829999923706055,
         "_deepnote_index_column": "2017-07-03T00:00:00.000000"
        },
        {
         "Close": 23.760000228881836,
         "_deepnote_index_column": "2017-07-05T00:00:00.000000"
        },
        {
         "Close": 23.219999313354492,
         "_deepnote_index_column": "2017-07-06T00:00:00.000000"
        },
        {
         "Close": 23.59000015258789,
         "_deepnote_index_column": "2017-07-07T00:00:00.000000"
        },
        {
         "Close": 23.940000534057617,
         "_deepnote_index_column": "2017-07-10T00:00:00.000000"
        },
        {
         "Close": 25.440000534057617,
         "_deepnote_index_column": "2017-07-11T00:00:00.000000"
        },
        {
         "Close": 26.209999084472656,
         "_deepnote_index_column": "2017-07-12T00:00:00.000000"
        },
        {
         "Close": 25.979999542236328,
         "_deepnote_index_column": "2017-07-13T00:00:00.000000"
        },
        {
         "Close": 26.329999923706055,
         "_deepnote_index_column": "2017-07-14T00:00:00.000000"
        },
        {
         "Close": 26.190000534057617,
         "_deepnote_index_column": "2017-07-17T00:00:00.000000"
        },
        {
         "Close": 26.59000015258789,
         "_deepnote_index_column": "2017-07-18T00:00:00.000000"
        },
        {
         "Close": 26.360000610351562,
         "_deepnote_index_column": "2017-07-19T00:00:00.000000"
        },
        {
         "Close": 26.389999389648438,
         "_deepnote_index_column": "2017-07-20T00:00:00.000000"
        },
        {
         "Close": 26.850000381469727,
         "_deepnote_index_column": "2017-07-21T00:00:00.000000"
        },
        {
         "Close": 26.75,
         "_deepnote_index_column": "2017-07-24T00:00:00.000000"
        },
        {
         "Close": 26.889999389648438,
         "_deepnote_index_column": "2017-07-25T00:00:00.000000"
        },
        {
         "Close": 27.309999465942383,
         "_deepnote_index_column": "2017-07-26T00:00:00.000000"
        },
        {
         "Close": 25.920000076293945,
         "_deepnote_index_column": "2017-07-27T00:00:00.000000"
        },
        {
         "Close": 26.200000762939453,
         "_deepnote_index_column": "2017-07-28T00:00:00.000000"
        },
        {
         "Close": 26.350000381469727,
         "_deepnote_index_column": "2017-07-31T00:00:00.000000"
        },
        {
         "Close": 26.809999465942383,
         "_deepnote_index_column": "2017-08-01T00:00:00.000000"
        },
        {
         "Close": 26.459999084472656,
         "_deepnote_index_column": "2017-08-02T00:00:00.000000"
        },
        {
         "Close": 25.219999313354492,
         "_deepnote_index_column": "2017-08-03T00:00:00.000000"
        },
        {
         "Close": 25.209999084472656,
         "_deepnote_index_column": "2017-08-04T00:00:00.000000"
        },
        {
         "Close": 25.68000030517578,
         "_deepnote_index_column": "2017-08-07T00:00:00.000000"
        },
        {
         "Close": 26.020000457763672,
         "_deepnote_index_column": "2017-08-08T00:00:00.000000"
        },
        {
         "Close": 25.59000015258789,
         "_deepnote_index_column": "2017-08-09T00:00:00.000000"
        },
        {
         "Close": 24.649999618530273,
         "_deepnote_index_column": "2017-08-10T00:00:00.000000"
        },
        {
         "Close": 24.81999969482422,
         "_deepnote_index_column": "2017-08-11T00:00:00.000000"
        },
        {
         "Close": 25.200000762939453,
         "_deepnote_index_column": "2017-08-14T00:00:00.000000"
        },
        {
         "Close": 24.829999923706055,
         "_deepnote_index_column": "2017-08-15T00:00:00.000000"
        },
        {
         "Close": 24.989999771118164,
         "_deepnote_index_column": "2017-08-16T00:00:00.000000"
        },
        {
         "Close": 24.540000915527344,
         "_deepnote_index_column": "2017-08-17T00:00:00.000000"
        },
        {
         "Close": 24.829999923706055,
         "_deepnote_index_column": "2017-08-18T00:00:00.000000"
        },
        {
         "Close": 24.459999084472656,
         "_deepnote_index_column": "2017-08-21T00:00:00.000000"
        },
        {
         "Close": 25.34000015258789,
         "_deepnote_index_column": "2017-08-22T00:00:00.000000"
        },
        {
         "Close": 25.479999542236328,
         "_deepnote_index_column": "2017-08-23T00:00:00.000000"
        },
        {
         "Close": 25.65999984741211,
         "_deepnote_index_column": "2017-08-24T00:00:00.000000"
        },
        {
         "Close": 24.989999771118164,
         "_deepnote_index_column": "2017-08-25T00:00:00.000000"
        },
        {
         "Close": 24.90999984741211,
         "_deepnote_index_column": "2017-08-28T00:00:00.000000"
        },
        {
         "Close": 25.040000915527344,
         "_deepnote_index_column": "2017-08-29T00:00:00.000000"
        },
        {
         "Close": 25.760000228881836,
         "_deepnote_index_column": "2017-08-30T00:00:00.000000"
        },
        {
         "Close": 26.110000610351562,
         "_deepnote_index_column": "2017-08-31T00:00:00.000000"
        },
        {
         "Close": 25.93000030517578,
         "_deepnote_index_column": "2017-09-01T00:00:00.000000"
        },
        {
         "Close": 25.770000457763672,
         "_deepnote_index_column": "2017-09-05T00:00:00.000000"
        },
        {
         "Close": 26.049999237060547,
         "_deepnote_index_column": "2017-09-06T00:00:00.000000"
        },
        {
         "Close": 26.299999237060547,
         "_deepnote_index_column": "2017-09-07T00:00:00.000000"
        },
        {
         "Close": 26.530000686645508,
         "_deepnote_index_column": "2017-09-08T00:00:00.000000"
        },
        {
         "Close": 27.56999969482422,
         "_deepnote_index_column": "2017-09-11T00:00:00.000000"
        },
        {
         "Close": 27.270000457763672,
         "_deepnote_index_column": "2017-09-12T00:00:00.000000"
        },
        {
         "Close": 27.489999771118164,
         "_deepnote_index_column": "2017-09-13T00:00:00.000000"
        },
        {
         "Close": 28.639999389648438,
         "_deepnote_index_column": "2017-09-14T00:00:00.000000"
        },
        {
         "Close": 28.5,
         "_deepnote_index_column": "2017-09-15T00:00:00.000000"
        },
        {
         "Close": 28.690000534057617,
         "_deepnote_index_column": "2017-09-18T00:00:00.000000"
        },
        {
         "Close": 28.559999465942383,
         "_deepnote_index_column": "2017-09-19T00:00:00.000000"
        },
        {
         "Close": 28.469999313354492,
         "_deepnote_index_column": "2017-09-20T00:00:00.000000"
        },
        {
         "Close": 28.399999618530273,
         "_deepnote_index_column": "2017-09-21T00:00:00.000000"
        },
        {
         "Close": 28.75,
         "_deepnote_index_column": "2017-09-22T00:00:00.000000"
        },
        {
         "Close": 27.450000762939453,
         "_deepnote_index_column": "2017-09-25T00:00:00.000000"
        },
        {
         "Close": 27.610000610351562,
         "_deepnote_index_column": "2017-09-26T00:00:00.000000"
        },
        {
         "Close": 28.06999969482422,
         "_deepnote_index_column": "2017-09-27T00:00:00.000000"
        },
        {
         "Close": 28.489999771118164,
         "_deepnote_index_column": "2017-09-28T00:00:00.000000"
        },
        {
         "Close": 28.809999465942383,
         "_deepnote_index_column": "2017-09-29T00:00:00.000000"
        },
        {
         "Close": 29.389999389648438,
         "_deepnote_index_column": "2017-10-02T00:00:00.000000"
        },
        {
         "Close": 29.940000534057617,
         "_deepnote_index_column": "2017-10-03T00:00:00.000000"
        },
        {
         "Close": 30.149999618530273,
         "_deepnote_index_column": "2017-10-04T00:00:00.000000"
        },
        {
         "Close": 30.760000228881836,
         "_deepnote_index_column": "2017-10-05T00:00:00.000000"
        },
        {
         "Close": 30.760000228881836,
         "_deepnote_index_column": "2017-10-06T00:00:00.000000"
        },
        {
         "Close": 31.06999969482422,
         "_deepnote_index_column": "2017-10-09T00:00:00.000000"
        },
        {
         "Close": 31.31999969482422,
         "_deepnote_index_column": "2017-10-10T00:00:00.000000"
        },
        {
         "Close": 32,
         "_deepnote_index_column": "2017-10-11T00:00:00.000000"
        },
        {
         "Close": 32.810001373291016,
         "_deepnote_index_column": "2017-10-12T00:00:00.000000"
        },
        {
         "Close": 32.810001373291016,
         "_deepnote_index_column": "2017-10-13T00:00:00.000000"
        },
        {
         "Close": 33.220001220703125,
         "_deepnote_index_column": "2017-10-16T00:00:00.000000"
        },
        {
         "Close": 32.689998626708984,
         "_deepnote_index_column": "2017-10-17T00:00:00.000000"
        },
        {
         "Close": 32.52000045776367,
         "_deepnote_index_column": "2017-10-18T00:00:00.000000"
        },
        {
         "Close": 32.119998931884766,
         "_deepnote_index_column": "2017-10-19T00:00:00.000000"
        },
        {
         "Close": 32.5,
         "_deepnote_index_column": "2017-10-20T00:00:00.000000"
        },
        {
         "Close": 32.529998779296875,
         "_deepnote_index_column": "2017-10-23T00:00:00.000000"
        },
        {
         "Close": 32.709999084472656,
         "_deepnote_index_column": "2017-10-24T00:00:00.000000"
        },
        {
         "Close": 32.900001525878906,
         "_deepnote_index_column": "2017-10-25T00:00:00.000000"
        },
        {
         "Close": 34.11000061035156,
         "_deepnote_index_column": "2017-10-26T00:00:00.000000"
        },
        {
         "Close": 35.20000076293945,
         "_deepnote_index_column": "2017-10-27T00:00:00.000000"
        },
        {
         "Close": 35.75,
         "_deepnote_index_column": "2017-10-30T00:00:00.000000"
        },
        {
         "Close": 37.189998626708984,
         "_deepnote_index_column": "2017-10-31T00:00:00.000000"
        },
        {
         "Close": 36.470001220703125,
         "_deepnote_index_column": "2017-11-01T00:00:00.000000"
        },
        {
         "Close": 36.06999969482422,
         "_deepnote_index_column": "2017-11-02T00:00:00.000000"
        },
        {
         "Close": 36.88999938964844,
         "_deepnote_index_column": "2017-11-03T00:00:00.000000"
        },
        {
         "Close": 37.18000030517578,
         "_deepnote_index_column": "2017-11-06T00:00:00.000000"
        },
        {
         "Close": 36.7599983215332,
         "_deepnote_index_column": "2017-11-07T00:00:00.000000"
        },
        {
         "Close": 36.709999084472656,
         "_deepnote_index_column": "2017-11-08T00:00:00.000000"
        },
        {
         "Close": 37.959999084472656,
         "_deepnote_index_column": "2017-11-09T00:00:00.000000"
        },
        {
         "Close": 39.209999084472656,
         "_deepnote_index_column": "2017-11-10T00:00:00.000000"
        },
        {
         "Close": 39.97999954223633,
         "_deepnote_index_column": "2017-11-13T00:00:00.000000"
        },
        {
         "Close": 39.7400016784668,
         "_deepnote_index_column": "2017-11-14T00:00:00.000000"
        },
        {
         "Close": 40.65999984741211,
         "_deepnote_index_column": "2017-11-15T00:00:00.000000"
        },
        {
         "Close": 41.900001525878906,
         "_deepnote_index_column": "2017-11-16T00:00:00.000000"
        },
        {
         "Close": 44.18000030517578,
         "_deepnote_index_column": "2017-11-17T00:00:00.000000"
        },
        {
         "Close": 45.209999084472656,
         "_deepnote_index_column": "2017-11-20T00:00:00.000000"
        },
        {
         "Close": 48.060001373291016,
         "_deepnote_index_column": "2017-11-21T00:00:00.000000"
        }
       ],
       "rows_bottom": [
        {
         "Close": 62.869998931884766,
         "_deepnote_index_column": "2019-08-16T00:00:00.000000"
        },
        {
         "Close": 64.08000183105469,
         "_deepnote_index_column": "2019-08-19T00:00:00.000000"
        },
        {
         "Close": 64.37000274658203,
         "_deepnote_index_column": "2019-08-20T00:00:00.000000"
        },
        {
         "Close": 65.41000366210938,
         "_deepnote_index_column": "2019-08-21T00:00:00.000000"
        },
        {
         "Close": 64.68000030517578,
         "_deepnote_index_column": "2019-08-22T00:00:00.000000"
        },
        {
         "Close": 61.779998779296875,
         "_deepnote_index_column": "2019-08-23T00:00:00.000000"
        },
        {
         "Close": 62.79999923706055,
         "_deepnote_index_column": "2019-08-26T00:00:00.000000"
        },
        {
         "Close": 61.75,
         "_deepnote_index_column": "2019-08-27T00:00:00.000000"
        },
        {
         "Close": 62.150001525878906,
         "_deepnote_index_column": "2019-08-28T00:00:00.000000"
        },
        {
         "Close": 62.84000015258789,
         "_deepnote_index_column": "2019-08-29T00:00:00.000000"
        },
        {
         "Close": 61.84000015258789,
         "_deepnote_index_column": "2019-08-30T00:00:00.000000"
        },
        {
         "Close": 61.130001068115234,
         "_deepnote_index_column": "2019-09-03T00:00:00.000000"
        },
        {
         "Close": 61.16999816894531,
         "_deepnote_index_column": "2019-09-04T00:00:00.000000"
        },
        {
         "Close": 63.02000045776367,
         "_deepnote_index_column": "2019-09-05T00:00:00.000000"
        },
        {
         "Close": 62,
         "_deepnote_index_column": "2019-09-06T00:00:00.000000"
        },
        {
         "Close": 61.470001220703125,
         "_deepnote_index_column": "2019-09-09T00:00:00.000000"
        },
        {
         "Close": 60.54999923706055,
         "_deepnote_index_column": "2019-09-10T00:00:00.000000"
        },
        {
         "Close": 59.20000076293945,
         "_deepnote_index_column": "2019-09-11T00:00:00.000000"
        },
        {
         "Close": 57.790000915527344,
         "_deepnote_index_column": "2019-09-12T00:00:00.000000"
        },
        {
         "Close": 58.290000915527344,
         "_deepnote_index_column": "2019-09-13T00:00:00.000000"
        },
        {
         "Close": 59.25,
         "_deepnote_index_column": "2019-09-16T00:00:00.000000"
        },
        {
         "Close": 59.599998474121094,
         "_deepnote_index_column": "2019-09-17T00:00:00.000000"
        },
        {
         "Close": 59.75,
         "_deepnote_index_column": "2019-09-18T00:00:00.000000"
        },
        {
         "Close": 59.029998779296875,
         "_deepnote_index_column": "2019-09-19T00:00:00.000000"
        },
        {
         "Close": 57.849998474121094,
         "_deepnote_index_column": "2019-09-20T00:00:00.000000"
        },
        {
         "Close": 56.7599983215332,
         "_deepnote_index_column": "2019-09-23T00:00:00.000000"
        },
        {
         "Close": 57.5,
         "_deepnote_index_column": "2019-09-24T00:00:00.000000"
        },
        {
         "Close": 58.5099983215332,
         "_deepnote_index_column": "2019-09-25T00:00:00.000000"
        },
        {
         "Close": 60.79999923706055,
         "_deepnote_index_column": "2019-09-26T00:00:00.000000"
        },
        {
         "Close": 60.75,
         "_deepnote_index_column": "2019-09-27T00:00:00.000000"
        },
        {
         "Close": 61.95000076293945,
         "_deepnote_index_column": "2019-09-30T00:00:00.000000"
        },
        {
         "Close": 61.630001068115234,
         "_deepnote_index_column": "2019-10-01T00:00:00.000000"
        },
        {
         "Close": 60.08000183105469,
         "_deepnote_index_column": "2019-10-02T00:00:00.000000"
        },
        {
         "Close": 62.04999923706055,
         "_deepnote_index_column": "2019-10-03T00:00:00.000000"
        },
        {
         "Close": 62.650001525878906,
         "_deepnote_index_column": "2019-10-04T00:00:00.000000"
        },
        {
         "Close": 62.25,
         "_deepnote_index_column": "2019-10-07T00:00:00.000000"
        },
        {
         "Close": 60.79999923706055,
         "_deepnote_index_column": "2019-10-08T00:00:00.000000"
        },
        {
         "Close": 62.220001220703125,
         "_deepnote_index_column": "2019-10-09T00:00:00.000000"
        },
        {
         "Close": 62.029998779296875,
         "_deepnote_index_column": "2019-10-10T00:00:00.000000"
        },
        {
         "Close": 61.540000915527344,
         "_deepnote_index_column": "2019-10-11T00:00:00.000000"
        },
        {
         "Close": 61.83000183105469,
         "_deepnote_index_column": "2019-10-14T00:00:00.000000"
        },
        {
         "Close": 64.29000091552734,
         "_deepnote_index_column": "2019-10-15T00:00:00.000000"
        },
        {
         "Close": 63,
         "_deepnote_index_column": "2019-10-16T00:00:00.000000"
        },
        {
         "Close": 63.400001525878906,
         "_deepnote_index_column": "2019-10-17T00:00:00.000000"
        },
        {
         "Close": 60.45000076293945,
         "_deepnote_index_column": "2019-10-18T00:00:00.000000"
        },
        {
         "Close": 61.150001525878906,
         "_deepnote_index_column": "2019-10-21T00:00:00.000000"
        },
        {
         "Close": 58.83000183105469,
         "_deepnote_index_column": "2019-10-22T00:00:00.000000"
        },
        {
         "Close": 58.36000061035156,
         "_deepnote_index_column": "2019-10-23T00:00:00.000000"
        },
        {
         "Close": 61.720001220703125,
         "_deepnote_index_column": "2019-10-24T00:00:00.000000"
        },
        {
         "Close": 62.88999938964844,
         "_deepnote_index_column": "2019-10-25T00:00:00.000000"
        },
        {
         "Close": 62.79999923706055,
         "_deepnote_index_column": "2019-10-28T00:00:00.000000"
        },
        {
         "Close": 62.40999984741211,
         "_deepnote_index_column": "2019-10-29T00:00:00.000000"
        },
        {
         "Close": 62.15999984741211,
         "_deepnote_index_column": "2019-10-30T00:00:00.000000"
        },
        {
         "Close": 61.43000030517578,
         "_deepnote_index_column": "2019-10-31T00:00:00.000000"
        },
        {
         "Close": 62.599998474121094,
         "_deepnote_index_column": "2019-11-01T00:00:00.000000"
        },
        {
         "Close": 62.380001068115234,
         "_deepnote_index_column": "2019-11-04T00:00:00.000000"
        },
        {
         "Close": 61.060001373291016,
         "_deepnote_index_column": "2019-11-05T00:00:00.000000"
        },
        {
         "Close": 61.34000015258789,
         "_deepnote_index_column": "2019-11-06T00:00:00.000000"
        },
        {
         "Close": 64.41000366210938,
         "_deepnote_index_column": "2019-11-07T00:00:00.000000"
        },
        {
         "Close": 62.45000076293945,
         "_deepnote_index_column": "2019-11-08T00:00:00.000000"
        },
        {
         "Close": 63.790000915527344,
         "_deepnote_index_column": "2019-11-11T00:00:00.000000"
        },
        {
         "Close": 61.540000915527344,
         "_deepnote_index_column": "2019-11-12T00:00:00.000000"
        },
        {
         "Close": 61.5099983215332,
         "_deepnote_index_column": "2019-11-13T00:00:00.000000"
        },
        {
         "Close": 62.9900016784668,
         "_deepnote_index_column": "2019-11-14T00:00:00.000000"
        },
        {
         "Close": 64.69999694824219,
         "_deepnote_index_column": "2019-11-15T00:00:00.000000"
        },
        {
         "Close": 65.73999786376953,
         "_deepnote_index_column": "2019-11-18T00:00:00.000000"
        },
        {
         "Close": 66.37000274658203,
         "_deepnote_index_column": "2019-11-19T00:00:00.000000"
        },
        {
         "Close": 67.16999816894531,
         "_deepnote_index_column": "2019-11-20T00:00:00.000000"
        },
        {
         "Close": 67.41999816894531,
         "_deepnote_index_column": "2019-11-21T00:00:00.000000"
        },
        {
         "Close": 67.75,
         "_deepnote_index_column": "2019-11-22T00:00:00.000000"
        },
        {
         "Close": 68.25,
         "_deepnote_index_column": "2019-11-25T00:00:00.000000"
        },
        {
         "Close": 68.94000244140625,
         "_deepnote_index_column": "2019-11-26T00:00:00.000000"
        },
        {
         "Close": 69.6500015258789,
         "_deepnote_index_column": "2019-11-27T00:00:00.000000"
        },
        {
         "Close": 69.12000274658203,
         "_deepnote_index_column": "2019-11-29T00:00:00.000000"
        },
        {
         "Close": 66.87999725341797,
         "_deepnote_index_column": "2019-12-02T00:00:00.000000"
        },
        {
         "Close": 67.04000091552734,
         "_deepnote_index_column": "2019-12-03T00:00:00.000000"
        },
        {
         "Close": 67.77999877929688,
         "_deepnote_index_column": "2019-12-04T00:00:00.000000"
        },
        {
         "Close": 67.13999938964844,
         "_deepnote_index_column": "2019-12-05T00:00:00.000000"
        },
        {
         "Close": 67.9800033569336,
         "_deepnote_index_column": "2019-12-06T00:00:00.000000"
        },
        {
         "Close": 67.05999755859375,
         "_deepnote_index_column": "2019-12-09T00:00:00.000000"
        },
        {
         "Close": 65.83999633789062,
         "_deepnote_index_column": "2019-12-10T00:00:00.000000"
        },
        {
         "Close": 65.75,
         "_deepnote_index_column": "2019-12-11T00:00:00.000000"
        },
        {
         "Close": 65.86000061035156,
         "_deepnote_index_column": "2019-12-12T00:00:00.000000"
        },
        {
         "Close": 64.80000305175781,
         "_deepnote_index_column": "2019-12-13T00:00:00.000000"
        },
        {
         "Close": 66.52999877929688,
         "_deepnote_index_column": "2019-12-16T00:00:00.000000"
        },
        {
         "Close": 65.55000305175781,
         "_deepnote_index_column": "2019-12-17T00:00:00.000000"
        },
        {
         "Close": 65.13999938964844,
         "_deepnote_index_column": "2019-12-18T00:00:00.000000"
        },
        {
         "Close": 64.55000305175781,
         "_deepnote_index_column": "2019-12-19T00:00:00.000000"
        },
        {
         "Close": 63.630001068115234,
         "_deepnote_index_column": "2019-12-20T00:00:00.000000"
        },
        {
         "Close": 62.79999923706055,
         "_deepnote_index_column": "2019-12-23T00:00:00.000000"
        },
        {
         "Close": 63.959999084472656,
         "_deepnote_index_column": "2019-12-24T00:00:00.000000"
        },
        {
         "Close": 64.02999877929688,
         "_deepnote_index_column": "2019-12-26T00:00:00.000000"
        },
        {
         "Close": 63.79999923706055,
         "_deepnote_index_column": "2019-12-27T00:00:00.000000"
        },
        {
         "Close": 61.79999923706055,
         "_deepnote_index_column": "2019-12-30T00:00:00.000000"
        },
        {
         "Close": 62.560001373291016,
         "_deepnote_index_column": "2019-12-31T00:00:00.000000"
        },
        {
         "Close": 63.83000183105469,
         "_deepnote_index_column": "2020-01-02T00:00:00.000000"
        },
        {
         "Close": 63,
         "_deepnote_index_column": "2020-01-03T00:00:00.000000"
        },
        {
         "Close": 62.56999969482422,
         "_deepnote_index_column": "2020-01-06T00:00:00.000000"
        },
        {
         "Close": 64.58999633789062,
         "_deepnote_index_column": "2020-01-07T00:00:00.000000"
        },
        {
         "Close": 67.5999984741211,
         "_deepnote_index_column": "2020-01-08T00:00:00.000000"
        },
        {
         "Close": 67.93000030517578,
         "_deepnote_index_column": "2020-01-09T00:00:00.000000"
        },
        {
         "Close": 67.98999786376953,
         "_deepnote_index_column": "2020-01-10T00:00:00.000000"
        },
        {
         "Close": 68.66000366210938,
         "_deepnote_index_column": "2020-01-13T00:00:00.000000"
        },
        {
         "Close": 68.16999816894531,
         "_deepnote_index_column": "2020-01-14T00:00:00.000000"
        },
        {
         "Close": 70.36000061035156,
         "_deepnote_index_column": "2020-01-15T00:00:00.000000"
        },
        {
         "Close": 69.5199966430664,
         "_deepnote_index_column": "2020-01-16T00:00:00.000000"
        },
        {
         "Close": 69.37999725341797,
         "_deepnote_index_column": "2020-01-17T00:00:00.000000"
        },
        {
         "Close": 68.30999755859375,
         "_deepnote_index_column": "2020-01-21T00:00:00.000000"
        },
        {
         "Close": 68.69000244140625,
         "_deepnote_index_column": "2020-01-22T00:00:00.000000"
        },
        {
         "Close": 69.29000091552734,
         "_deepnote_index_column": "2020-01-23T00:00:00.000000"
        },
        {
         "Close": 71.13999938964844,
         "_deepnote_index_column": "2020-01-24T00:00:00.000000"
        },
        {
         "Close": 71.05000305175781,
         "_deepnote_index_column": "2020-01-27T00:00:00.000000"
        },
        {
         "Close": 74.80000305175781,
         "_deepnote_index_column": "2020-01-28T00:00:00.000000"
        },
        {
         "Close": 76.16000366210938,
         "_deepnote_index_column": "2020-01-29T00:00:00.000000"
        },
        {
         "Close": 76.0999984741211,
         "_deepnote_index_column": "2020-01-30T00:00:00.000000"
        },
        {
         "Close": 74.69000244140625,
         "_deepnote_index_column": "2020-01-31T00:00:00.000000"
        },
        {
         "Close": 79.80000305175781,
         "_deepnote_index_column": "2020-02-03T00:00:00.000000"
        },
        {
         "Close": 80.9000015258789,
         "_deepnote_index_column": "2020-02-04T00:00:00.000000"
        },
        {
         "Close": 78.25,
         "_deepnote_index_column": "2020-02-05T00:00:00.000000"
        },
        {
         "Close": 78.51000213623047,
         "_deepnote_index_column": "2020-02-06T00:00:00.000000"
        },
        {
         "Close": 78.86000061035156,
         "_deepnote_index_column": "2020-02-07T00:00:00.000000"
        },
        {
         "Close": 80.16999816894531,
         "_deepnote_index_column": "2020-02-10T00:00:00.000000"
        },
        {
         "Close": 79.87999725341797,
         "_deepnote_index_column": "2020-02-11T00:00:00.000000"
        },
        {
         "Close": 80,
         "_deepnote_index_column": "2020-02-12T00:00:00.000000"
        },
        {
         "Close": 80.98999786376953,
         "_deepnote_index_column": "2020-02-13T00:00:00.000000"
        },
        {
         "Close": 81.86000061035156,
         "_deepnote_index_column": "2020-02-14T00:00:00.000000"
        },
        {
         "Close": 82.41999816894531,
         "_deepnote_index_column": "2020-02-18T00:00:00.000000"
        },
        {
         "Close": 85.23999786376953,
         "_deepnote_index_column": "2020-02-19T00:00:00.000000"
        },
        {
         "Close": 85.69999694824219,
         "_deepnote_index_column": "2020-02-20T00:00:00.000000"
        },
        {
         "Close": 83.48999786376953,
         "_deepnote_index_column": "2020-02-21T00:00:00.000000"
        },
        {
         "Close": 80.20999908447266,
         "_deepnote_index_column": "2020-02-24T00:00:00.000000"
        },
        {
         "Close": 77.05000305175781,
         "_deepnote_index_column": "2020-02-25T00:00:00.000000"
        },
        {
         "Close": 76.58999633789062,
         "_deepnote_index_column": "2020-02-26T00:00:00.000000"
        },
        {
         "Close": 79.30999755859375,
         "_deepnote_index_column": "2020-02-27T00:00:00.000000"
        },
        {
         "Close": 83.33000183105469,
         "_deepnote_index_column": "2020-02-28T00:00:00.000000"
        },
        {
         "Close": 80.66999816894531,
         "_deepnote_index_column": "2020-03-02T00:00:00.000000"
        },
        {
         "Close": 78.83999633789062,
         "_deepnote_index_column": "2020-03-03T00:00:00.000000"
        },
        {
         "Close": 79.26000213623047,
         "_deepnote_index_column": "2020-03-04T00:00:00.000000"
        },
        {
         "Close": 76.31999969482422,
         "_deepnote_index_column": "2020-03-05T00:00:00.000000"
        },
        {
         "Close": 73.08999633789062,
         "_deepnote_index_column": "2020-03-06T00:00:00.000000"
        },
        {
         "Close": 65.7300033569336,
         "_deepnote_index_column": "2020-03-09T00:00:00.000000"
        },
        {
         "Close": 67.23999786376953,
         "_deepnote_index_column": "2020-03-10T00:00:00.000000"
        },
        {
         "Close": 62.439998626708984,
         "_deepnote_index_column": "2020-03-11T00:00:00.000000"
        },
        {
         "Close": 53.56999969482422,
         "_deepnote_index_column": "2020-03-12T00:00:00.000000"
        },
        {
         "Close": 57.77000045776367,
         "_deepnote_index_column": "2020-03-13T00:00:00.000000"
        },
        {
         "Close": 41.27000045776367,
         "_deepnote_index_column": "2020-03-16T00:00:00.000000"
        },
        {
         "Close": 44.72999954223633,
         "_deepnote_index_column": "2020-03-17T00:00:00.000000"
        },
        {
         "Close": 39.5,
         "_deepnote_index_column": "2020-03-18T00:00:00.000000"
        },
        {
         "Close": 40,
         "_deepnote_index_column": "2020-03-19T00:00:00.000000"
        },
        {
         "Close": 38.09000015258789,
         "_deepnote_index_column": "2020-03-20T00:00:00.000000"
        },
        {
         "Close": 40.0099983215332,
         "_deepnote_index_column": "2020-03-23T00:00:00.000000"
        },
        {
         "Close": 46.310001373291016,
         "_deepnote_index_column": "2020-03-24T00:00:00.000000"
        },
        {
         "Close": 52.38999938964844,
         "_deepnote_index_column": "2020-03-25T00:00:00.000000"
        },
        {
         "Close": 56.029998779296875,
         "_deepnote_index_column": "2020-03-26T00:00:00.000000"
        },
        {
         "Close": 53.34000015258789,
         "_deepnote_index_column": "2020-03-27T00:00:00.000000"
        },
        {
         "Close": 55,
         "_deepnote_index_column": "2020-03-30T00:00:00.000000"
        },
        {
         "Close": 52.380001068115234,
         "_deepnote_index_column": "2020-03-31T00:00:00.000000"
        },
        {
         "Close": 46.810001373291016,
         "_deepnote_index_column": "2020-04-01T00:00:00.000000"
        },
        {
         "Close": 45.880001068115234,
         "_deepnote_index_column": "2020-04-02T00:00:00.000000"
        },
        {
         "Close": 43.720001220703125,
         "_deepnote_index_column": "2020-04-03T00:00:00.000000"
        },
        {
         "Close": 50.41999816894531,
         "_deepnote_index_column": "2020-04-06T00:00:00.000000"
        },
        {
         "Close": 50.310001373291016,
         "_deepnote_index_column": "2020-04-07T00:00:00.000000"
        },
        {
         "Close": 57.040000915527344,
         "_deepnote_index_column": "2020-04-08T00:00:00.000000"
        },
        {
         "Close": 59.209999084472656,
         "_deepnote_index_column": "2020-04-09T00:00:00.000000"
        },
        {
         "Close": 59.41999816894531,
         "_deepnote_index_column": "2020-04-13T00:00:00.000000"
        },
        {
         "Close": 62.40999984741211,
         "_deepnote_index_column": "2020-04-14T00:00:00.000000"
        },
        {
         "Close": 61.380001068115234,
         "_deepnote_index_column": "2020-04-15T00:00:00.000000"
        },
        {
         "Close": 57.31999969482422,
         "_deepnote_index_column": "2020-04-16T00:00:00.000000"
        },
        {
         "Close": 61.09000015258789,
         "_deepnote_index_column": "2020-04-17T00:00:00.000000"
        },
        {
         "Close": 61.060001373291016,
         "_deepnote_index_column": "2020-04-20T00:00:00.000000"
        },
        {
         "Close": 57.400001525878906,
         "_deepnote_index_column": "2020-04-21T00:00:00.000000"
        },
        {
         "Close": 60.959999084472656,
         "_deepnote_index_column": "2020-04-22T00:00:00.000000"
        },
        {
         "Close": 61.81999969482422,
         "_deepnote_index_column": "2020-04-23T00:00:00.000000"
        },
        {
         "Close": 62.0099983215332,
         "_deepnote_index_column": "2020-04-24T00:00:00.000000"
        },
        {
         "Close": 63.54999923706055,
         "_deepnote_index_column": "2020-04-27T00:00:00.000000"
        },
        {
         "Close": 61.75,
         "_deepnote_index_column": "2020-04-28T00:00:00.000000"
        },
        {
         "Close": 65.7699966430664,
         "_deepnote_index_column": "2020-04-29T00:00:00.000000"
        },
        {
         "Close": 65.13999938964844,
         "_deepnote_index_column": "2020-04-30T00:00:00.000000"
        },
        {
         "Close": 63,
         "_deepnote_index_column": "2020-05-01T00:00:00.000000"
        },
        {
         "Close": 63.689998626708984,
         "_deepnote_index_column": "2020-05-04T00:00:00.000000"
        },
        {
         "Close": 66.69000244140625,
         "_deepnote_index_column": "2020-05-05T00:00:00.000000"
        },
        {
         "Close": 68.0999984741211,
         "_deepnote_index_column": "2020-05-06T00:00:00.000000"
        },
        {
         "Close": 74.62000274658203,
         "_deepnote_index_column": "2020-05-07T00:00:00.000000"
        },
        {
         "Close": 76.05000305175781,
         "_deepnote_index_column": "2020-05-08T00:00:00.000000"
        },
        {
         "Close": 74.9000015258789,
         "_deepnote_index_column": "2020-05-11T00:00:00.000000"
        },
        {
         "Close": 75.20999908447266,
         "_deepnote_index_column": "2020-05-12T00:00:00.000000"
        },
        {
         "Close": 73.79000091552734,
         "_deepnote_index_column": "2020-05-13T00:00:00.000000"
        },
        {
         "Close": 78.19999694824219,
         "_deepnote_index_column": "2020-05-14T00:00:00.000000"
        },
        {
         "Close": 80.26000213623047,
         "_deepnote_index_column": "2020-05-15T00:00:00.000000"
        },
        {
         "Close": 76.62999725341797,
         "_deepnote_index_column": "2020-05-18T00:00:00.000000"
        },
        {
         "Close": 79.25,
         "_deepnote_index_column": "2020-05-19T00:00:00.000000"
        },
        {
         "Close": 82.04000091552734,
         "_deepnote_index_column": "2020-05-20T00:00:00.000000"
        },
        {
         "Close": 81.48999786376953,
         "_deepnote_index_column": "2020-05-21T00:00:00.000000"
        },
        {
         "Close": 81.48999786376953,
         "_deepnote_index_column": "2020-05-22T00:00:00.000000"
        },
        {
         "Close": 80.79000091552734,
         "_deepnote_index_column": "2020-05-26T00:00:00.000000"
        },
        {
         "Close": 81.0199966430664,
         "_deepnote_index_column": "2020-05-27T00:00:00.000000"
        },
        {
         "Close": 79.62000274658203,
         "_deepnote_index_column": "2020-05-28T00:00:00.000000"
        },
        {
         "Close": 81.08000183105469,
         "_deepnote_index_column": "2020-05-29T00:00:00.000000"
        },
        {
         "Close": 82.72000122070312,
         "_deepnote_index_column": "2020-06-01T00:00:00.000000"
        },
        {
         "Close": 88,
         "_deepnote_index_column": "2020-06-02T00:00:00.000000"
        },
        {
         "Close": 91.97000122070312,
         "_deepnote_index_column": "2020-06-03T00:00:00.000000"
        },
        {
         "Close": 87.72000122070312,
         "_deepnote_index_column": "2020-06-04T00:00:00.000000"
        },
        {
         "Close": 89.93000030517578,
         "_deepnote_index_column": "2020-06-05T00:00:00.000000"
        },
        {
         "Close": 89.62000274658203,
         "_deepnote_index_column": "2020-06-08T00:00:00.000000"
        },
        {
         "Close": 89.52999877929688,
         "_deepnote_index_column": "2020-06-09T00:00:00.000000"
        },
        {
         "Close": 91.91000366210938,
         "_deepnote_index_column": "2020-06-10T00:00:00.000000"
        },
        {
         "Close": 86.08999633789062,
         "_deepnote_index_column": "2020-06-11T00:00:00.000000"
        },
        {
         "Close": 86.72000122070312,
         "_deepnote_index_column": "2020-06-12T00:00:00.000000"
        },
        {
         "Close": 91,
         "_deepnote_index_column": "2020-06-15T00:00:00.000000"
        },
        {
         "Close": 94.73999786376953,
         "_deepnote_index_column": "2020-06-16T00:00:00.000000"
        },
        {
         "Close": 97.02999877929688,
         "_deepnote_index_column": "2020-06-17T00:00:00.000000"
        },
        {
         "Close": 98.2699966430664,
         "_deepnote_index_column": "2020-06-18T00:00:00.000000"
        },
        {
         "Close": 97.9800033569336,
         "_deepnote_index_column": "2020-06-19T00:00:00.000000"
        },
        {
         "Close": 104.22000122070312,
         "_deepnote_index_column": "2020-06-22T00:00:00.000000"
        },
        {
         "Close": 104.75,
         "_deepnote_index_column": "2020-06-23T00:00:00.000000"
        },
        {
         "Close": 100.87999725341797,
         "_deepnote_index_column": "2020-06-24T00:00:00.000000"
        },
        {
         "Close": 104.77999877929688,
         "_deepnote_index_column": "2020-06-25T00:00:00.000000"
        },
        {
         "Close": 104.30000305175781,
         "_deepnote_index_column": "2020-06-26T00:00:00.000000"
        },
        {
         "Close": 103.68000030517578,
         "_deepnote_index_column": "2020-06-29T00:00:00.000000"
        },
        {
         "Close": 104.94000244140625,
         "_deepnote_index_column": "2020-06-30T00:00:00.000000"
        },
        {
         "Close": 115.9000015258789,
         "_deepnote_index_column": "2020-07-01T00:00:00.000000"
        },
        {
         "Close": 113.38999938964844,
         "_deepnote_index_column": "2020-07-02T00:00:00.000000"
        },
        {
         "Close": 118.97000122070312,
         "_deepnote_index_column": "2020-07-06T00:00:00.000000"
        },
        {
         "Close": 125.5999984741211,
         "_deepnote_index_column": "2020-07-07T00:00:00.000000"
        },
        {
         "Close": 133.35000610351562,
         "_deepnote_index_column": "2020-07-08T00:00:00.000000"
        },
        {
         "Close": 129.38999938964844,
         "_deepnote_index_column": "2020-07-09T00:00:00.000000"
        },
        {
         "Close": 128.0500030517578,
         "_deepnote_index_column": "2020-07-10T00:00:00.000000"
        },
        {
         "Close": 118.6500015258789,
         "_deepnote_index_column": "2020-07-13T00:00:00.000000"
        },
        {
         "Close": 121.23999786376953,
         "_deepnote_index_column": "2020-07-14T00:00:00.000000"
        },
        {
         "Close": 122.19999694824219,
         "_deepnote_index_column": "2020-07-15T00:00:00.000000"
        },
        {
         "Close": 119.94999694824219,
         "_deepnote_index_column": "2020-07-16T00:00:00.000000"
        },
        {
         "Close": 120.7300033569336,
         "_deepnote_index_column": "2020-07-17T00:00:00.000000"
        },
        {
         "Close": 128.38999938964844,
         "_deepnote_index_column": "2020-07-20T00:00:00.000000"
        },
        {
         "Close": 126.98999786376953,
         "_deepnote_index_column": "2020-07-21T00:00:00.000000"
        },
        {
         "Close": 129.17999267578125,
         "_deepnote_index_column": "2020-07-22T00:00:00.000000"
        },
        {
         "Close": 122.93000030517578,
         "_deepnote_index_column": "2020-07-23T00:00:00.000000"
        },
        {
         "Close": 121.41000366210938,
         "_deepnote_index_column": "2020-07-24T00:00:00.000000"
        },
        {
         "Close": 125.75,
         "_deepnote_index_column": "2020-07-27T00:00:00.000000"
        },
        {
         "Close": 123.51000213623047,
         "_deepnote_index_column": "2020-07-28T00:00:00.000000"
        },
        {
         "Close": 128.5500030517578,
         "_deepnote_index_column": "2020-07-29T00:00:00.000000"
        },
        {
         "Close": 129.1300048828125,
         "_deepnote_index_column": "2020-07-30T00:00:00.000000"
        },
        {
         "Close": 129.85000610351562,
         "_deepnote_index_column": "2020-07-31T00:00:00.000000"
        },
        {
         "Close": 134.8000030517578,
         "_deepnote_index_column": "2020-08-03T00:00:00.000000"
        },
        {
         "Close": 136.8300018310547,
         "_deepnote_index_column": "2020-08-04T00:00:00.000000"
        },
        {
         "Close": 146.5500030517578,
         "_deepnote_index_column": "2020-08-05T00:00:00.000000"
        },
        {
         "Close": 154,
         "_deepnote_index_column": "2020-08-06T00:00:00.000000"
        },
        {
         "Close": 147.22000122070312,
         "_deepnote_index_column": "2020-08-07T00:00:00.000000"
        },
        {
         "Close": 139.33999633789062,
         "_deepnote_index_column": "2020-08-10T00:00:00.000000"
        },
        {
         "Close": 138.25,
         "_deepnote_index_column": "2020-08-11T00:00:00.000000"
        },
        {
         "Close": 139.02000427246094,
         "_deepnote_index_column": "2020-08-12T00:00:00.000000"
        },
        {
         "Close": 143.19000244140625,
         "_deepnote_index_column": "2020-08-13T00:00:00.000000"
        },
        {
         "Close": 141.9600067138672,
         "_deepnote_index_column": "2020-08-14T00:00:00.000000"
        },
        {
         "Close": 152.47999572753906,
         "_deepnote_index_column": "2020-08-17T00:00:00.000000"
        },
        {
         "Close": 151.0399932861328,
         "_deepnote_index_column": "2020-08-18T00:00:00.000000"
        },
        {
         "Close": 150.3699951171875,
         "_deepnote_index_column": "2020-08-19T00:00:00.000000"
        },
        {
         "Close": 155.86000061035156,
         "_deepnote_index_column": "2020-08-20T00:00:00.000000"
        },
        {
         "Close": 155.10000610351562,
         "_deepnote_index_column": "2020-08-21T00:00:00.000000"
        },
        {
         "Close": 151.7899932861328,
         "_deepnote_index_column": "2020-08-24T00:00:00.000000"
        },
        {
         "Close": 155,
         "_deepnote_index_column": "2020-08-25T00:00:00.000000"
        },
        {
         "Close": 153.74000549316406,
         "_deepnote_index_column": "2020-08-26T00:00:00.000000"
        },
        {
         "Close": 155.61000061035156,
         "_deepnote_index_column": "2020-08-27T00:00:00.000000"
        },
        {
         "Close": 155.92999267578125,
         "_deepnote_index_column": "2020-08-28T00:00:00.000000"
        },
        {
         "Close": 159.55999755859375,
         "_deepnote_index_column": "2020-08-31T00:00:00.000000"
        },
        {
         "Close": 166.66000366210938,
         "_deepnote_index_column": "2020-09-01T00:00:00.000000"
        },
        {
         "Close": 162.8800048828125,
         "_deepnote_index_column": "2020-09-02T00:00:00.000000"
        },
        {
         "Close": 152.86000061035156,
         "_deepnote_index_column": "2020-09-03T00:00:00.000000"
        },
        {
         "Close": 146.38999938964844,
         "_deepnote_index_column": "2020-09-04T00:00:00.000000"
        },
        {
         "Close": 139.11000061035156,
         "_deepnote_index_column": "2020-09-08T00:00:00.000000"
        },
        {
         "Close": 144.2100067138672,
         "_deepnote_index_column": "2020-09-09T00:00:00.000000"
        },
        {
         "Close": 141.07000732421875,
         "_deepnote_index_column": "2020-09-10T00:00:00.000000"
        },
        {
         "Close": 137.4499969482422,
         "_deepnote_index_column": "2020-09-11T00:00:00.000000"
        },
        {
         "Close": 144.39999389648438,
         "_deepnote_index_column": "2020-09-14T00:00:00.000000"
        },
        {
         "Close": 154.5,
         "_deepnote_index_column": "2020-09-15T00:00:00.000000"
        },
        {
         "Close": 151.0500030517578,
         "_deepnote_index_column": "2020-09-16T00:00:00.000000"
        },
        {
         "Close": 145.63999938964844,
         "_deepnote_index_column": "2020-09-17T00:00:00.000000"
        },
        {
         "Close": 145.00999450683594,
         "_deepnote_index_column": "2020-09-18T00:00:00.000000"
        },
        {
         "Close": 151.1199951171875,
         "_deepnote_index_column": "2020-09-21T00:00:00.000000"
        },
        {
         "Close": 155.58999633789062,
         "_deepnote_index_column": "2020-09-22T00:00:00.000000"
        },
        {
         "Close": 149.58999633789062,
         "_deepnote_index_column": "2020-09-23T00:00:00.000000"
        },
        {
         "Close": 152.30999755859375,
         "_deepnote_index_column": "2020-09-24T00:00:00.000000"
        },
        {
         "Close": 157.72000122070312,
         "_deepnote_index_column": "2020-09-25T00:00:00.000000"
        },
        {
         "Close": 160.75999450683594,
         "_deepnote_index_column": "2020-09-28T00:00:00.000000"
        },
        {
         "Close": 164.80999755859375,
         "_deepnote_index_column": "2020-09-29T00:00:00.000000"
        },
        {
         "Close": 162.5500030517578,
         "_deepnote_index_column": "2020-09-30T00:00:00.000000"
        },
        {
         "Close": 168.49000549316406,
         "_deepnote_index_column": "2020-10-01T00:00:00.000000"
        },
        {
         "Close": 169.61000061035156,
         "_deepnote_index_column": "2020-10-02T00:00:00.000000"
        },
        {
         "Close": 180.9199981689453,
         "_deepnote_index_column": "2020-10-05T00:00:00.000000"
        },
        {
         "Close": 175.33999633789062,
         "_deepnote_index_column": "2020-10-06T00:00:00.000000"
        },
        {
         "Close": 180.17999267578125,
         "_deepnote_index_column": "2020-10-07T00:00:00.000000"
        },
        {
         "Close": 183.5,
         "_deepnote_index_column": "2020-10-08T00:00:00.000000"
        },
        {
         "Close": 187.27999877929688,
         "_deepnote_index_column": "2020-10-09T00:00:00.000000"
        },
        {
         "Close": 185.1699981689453,
         "_deepnote_index_column": "2020-10-12T00:00:00.000000"
        },
        {
         "Close": 190.47000122070312,
         "_deepnote_index_column": "2020-10-13T00:00:00.000000"
        },
        {
         "Close": 187.49000549316406,
         "_deepnote_index_column": "2020-10-14T00:00:00.000000"
        },
        {
         "Close": 188.60000610351562,
         "_deepnote_index_column": "2020-10-15T00:00:00.000000"
        },
        {
         "Close": 186.35000610351562,
         "_deepnote_index_column": "2020-10-16T00:00:00.000000"
        },
        {
         "Close": 186.9600067138672,
         "_deepnote_index_column": "2020-10-19T00:00:00.000000"
        },
        {
         "Close": 185.74000549316406,
         "_deepnote_index_column": "2020-10-20T00:00:00.000000"
        },
        {
         "Close": 177.82000732421875,
         "_deepnote_index_column": "2020-10-21T00:00:00.000000"
        },
        {
         "Close": 175.92999267578125,
         "_deepnote_index_column": "2020-10-22T00:00:00.000000"
        },
        {
         "Close": 176.77000427246094,
         "_deepnote_index_column": "2020-10-23T00:00:00.000000"
        },
        {
         "Close": 169.88999938964844,
         "_deepnote_index_column": "2020-10-26T00:00:00.000000"
        },
        {
         "Close": 171.02000427246094,
         "_deepnote_index_column": "2020-10-27T00:00:00.000000"
        },
        {
         "Close": 167.1300048828125,
         "_deepnote_index_column": "2020-10-28T00:00:00.000000"
        },
        {
         "Close": 169.86000061035156,
         "_deepnote_index_column": "2020-10-29T00:00:00.000000"
        },
        {
         "Close": 154.8800048828125,
         "_deepnote_index_column": "2020-10-30T00:00:00.000000"
        },
        {
         "Close": 155.22999572753906,
         "_deepnote_index_column": "2020-11-02T00:00:00.000000"
        },
        {
         "Close": 158.2100067138672,
         "_deepnote_index_column": "2020-11-03T00:00:00.000000"
        },
        {
         "Close": 171.2899932861328,
         "_deepnote_index_column": "2020-11-04T00:00:00.000000"
        },
        {
         "Close": 175.22999572753906,
         "_deepnote_index_column": "2020-11-05T00:00:00.000000"
        },
        {
         "Close": 198.0800018310547,
         "_deepnote_index_column": "2020-11-06T00:00:00.000000"
        },
        {
         "Close": 184.0800018310547,
         "_deepnote_index_column": "2020-11-09T00:00:00.000000"
        },
        {
         "Close": 172,
         "_deepnote_index_column": "2020-11-10T00:00:00.000000"
        },
        {
         "Close": 183.4199981689453,
         "_deepnote_index_column": "2020-11-11T00:00:00.000000"
        },
        {
         "Close": 178.50999450683594,
         "_deepnote_index_column": "2020-11-12T00:00:00.000000"
        },
        {
         "Close": 177.19000244140625,
         "_deepnote_index_column": "2020-11-13T00:00:00.000000"
        },
        {
         "Close": 179.16000366210938,
         "_deepnote_index_column": "2020-11-16T00:00:00.000000"
        },
        {
         "Close": 187.89999389648438,
         "_deepnote_index_column": "2020-11-17T00:00:00.000000"
        },
        {
         "Close": 185.5399932861328,
         "_deepnote_index_column": "2020-11-18T00:00:00.000000"
        },
        {
         "Close": 191.66000366210938,
         "_deepnote_index_column": "2020-11-19T00:00:00.000000"
        },
        {
         "Close": 195.97000122070312,
         "_deepnote_index_column": "2020-11-20T00:00:00.000000"
        },
        {
         "Close": 207.77999877929688,
         "_deepnote_index_column": "2020-11-23T00:00:00.000000"
        },
        {
         "Close": 202.89999389648438,
         "_deepnote_index_column": "2020-11-24T00:00:00.000000"
        },
        {
         "Close": 212.9199981689453,
         "_deepnote_index_column": "2020-11-25T00:00:00.000000"
        },
        {
         "Close": 212.52000427246094,
         "_deepnote_index_column": "2020-11-27T00:00:00.000000"
        },
        {
         "Close": 210.9600067138672,
         "_deepnote_index_column": "2020-11-30T00:00:00.000000"
        },
        {
         "Close": 203,
         "_deepnote_index_column": "2020-12-01T00:00:00.000000"
        },
        {
         "Close": 202,
         "_deepnote_index_column": "2020-12-02T00:00:00.000000"
        },
        {
         "Close": 205.52999877929688,
         "_deepnote_index_column": "2020-12-03T00:00:00.000000"
        },
        {
         "Close": 208.14999389648438,
         "_deepnote_index_column": "2020-12-04T00:00:00.000000"
        },
        {
         "Close": 212.5800018310547,
         "_deepnote_index_column": "2020-12-07T00:00:00.000000"
        },
        {
         "Close": 213.00999450683594,
         "_deepnote_index_column": "2020-12-08T00:00:00.000000"
        },
        {
         "Close": 207.0399932861328,
         "_deepnote_index_column": "2020-12-09T00:00:00.000000"
        },
        {
         "Close": 217.25,
         "_deepnote_index_column": "2020-12-10T00:00:00.000000"
        },
        {
         "Close": 216.58999633789062,
         "_deepnote_index_column": "2020-12-11T00:00:00.000000"
        },
        {
         "Close": 215.86000061035156,
         "_deepnote_index_column": "2020-12-14T00:00:00.000000"
        },
        {
         "Close": 219.99000549316406,
         "_deepnote_index_column": "2020-12-15T00:00:00.000000"
        },
        {
         "Close": 227.0800018310547,
         "_deepnote_index_column": "2020-12-16T00:00:00.000000"
        },
        {
         "Close": 230.74000549316406,
         "_deepnote_index_column": "2020-12-17T00:00:00.000000"
        },
        {
         "Close": 235.4499969482422,
         "_deepnote_index_column": "2020-12-18T00:00:00.000000"
        },
        {
         "Close": 233.5,
         "_deepnote_index_column": "2020-12-21T00:00:00.000000"
        },
        {
         "Close": 241.5800018310547,
         "_deepnote_index_column": "2020-12-22T00:00:00.000000"
        },
        {
         "Close": 230.67999267578125,
         "_deepnote_index_column": "2020-12-23T00:00:00.000000"
        },
        {
         "Close": 228.27999877929688,
         "_deepnote_index_column": "2020-12-24T00:00:00.000000"
        },
        {
         "Close": 223.33999633789062,
         "_deepnote_index_column": "2020-12-28T00:00:00.000000"
        },
        {
         "Close": 214,
         "_deepnote_index_column": "2020-12-29T00:00:00.000000"
        },
        {
         "Close": 221.0399932861328,
         "_deepnote_index_column": "2020-12-30T00:00:00.000000"
        },
        {
         "Close": 217.63999938964844,
         "_deepnote_index_column": "2020-12-31T00:00:00.000000"
        },
        {
         "Close": 221.16000366210938,
         "_deepnote_index_column": "2021-01-04T00:00:00.000000"
        },
        {
         "Close": 229.75,
         "_deepnote_index_column": "2021-01-05T00:00:00.000000"
        },
        {
         "Close": 226.88999938964844,
         "_deepnote_index_column": "2021-01-06T00:00:00.000000"
        },
        {
         "Close": 239.47999572753906,
         "_deepnote_index_column": "2021-01-07T00:00:00.000000"
        },
        {
         "Close": 241.4499969482422,
         "_deepnote_index_column": "2021-01-08T00:00:00.000000"
        },
        {
         "Close": 225.5,
         "_deepnote_index_column": "2021-01-11T00:00:00.000000"
        },
        {
         "Close": 227.52000427246094,
         "_deepnote_index_column": "2021-01-12T00:00:00.000000"
        },
        {
         "Close": 230.9199981689453,
         "_deepnote_index_column": "2021-01-13T00:00:00.000000"
        },
        {
         "Close": 232.7899932861328,
         "_deepnote_index_column": "2021-01-14T00:00:00.000000"
        },
        {
         "Close": 227.75,
         "_deepnote_index_column": "2021-01-15T00:00:00.000000"
        },
        {
         "Close": 227.25999450683594,
         "_deepnote_index_column": "2021-01-19T00:00:00.000000"
        },
        {
         "Close": 226.64999389648438,
         "_deepnote_index_column": "2021-01-20T00:00:00.000000"
        },
        {
         "Close": 219.6199951171875,
         "_deepnote_index_column": "2021-01-21T00:00:00.000000"
        },
        {
         "Close": 222.8800048828125,
         "_deepnote_index_column": "2021-01-22T00:00:00.000000"
        },
        {
         "Close": 216.63999938964844,
         "_deepnote_index_column": "2021-01-25T00:00:00.000000"
        },
        {
         "Close": 209.1699981689453,
         "_deepnote_index_column": "2021-01-26T00:00:00.000000"
        },
        {
         "Close": 202.4600067138672,
         "_deepnote_index_column": "2021-01-27T00:00:00.000000"
        },
        {
         "Close": 219.91000366210938,
         "_deepnote_index_column": "2021-01-28T00:00:00.000000"
        },
        {
         "Close": 215.9600067138672,
         "_deepnote_index_column": "2021-01-29T00:00:00.000000"
        },
        {
         "Close": 221.94000244140625,
         "_deepnote_index_column": "2021-02-01T00:00:00.000000"
        },
        {
         "Close": 227.6300048828125,
         "_deepnote_index_column": "2021-02-02T00:00:00.000000"
        },
        {
         "Close": 227.94000244140625,
         "_deepnote_index_column": "2021-02-03T00:00:00.000000"
        },
        {
         "Close": 237.72000122070312,
         "_deepnote_index_column": "2021-02-04T00:00:00.000000"
        },
        {
         "Close": 240.3800048828125,
         "_deepnote_index_column": "2021-02-05T00:00:00.000000"
        },
        {
         "Close": 259.9700012207031,
         "_deepnote_index_column": "2021-02-08T00:00:00.000000"
        },
        {
         "Close": 258.1199951171875,
         "_deepnote_index_column": "2021-02-09T00:00:00.000000"
        },
        {
         "Close": 257.489990234375,
         "_deepnote_index_column": "2021-02-10T00:00:00.000000"
        },
        {
         "Close": 265.92999267578125,
         "_deepnote_index_column": "2021-02-11T00:00:00.000000"
        },
        {
         "Close": 272.75,
         "_deepnote_index_column": "2021-02-12T00:00:00.000000"
        },
        {
         "Close": 276.0199890136719,
         "_deepnote_index_column": "2021-02-16T00:00:00.000000"
        },
        {
         "Close": 270.94000244140625,
         "_deepnote_index_column": "2021-02-17T00:00:00.000000"
        },
        {
         "Close": 270.8500061035156,
         "_deepnote_index_column": "2021-02-18T00:00:00.000000"
        },
        {
         "Close": 276.57000732421875,
         "_deepnote_index_column": "2021-02-19T00:00:00.000000"
        },
        {
         "Close": 268.0799865722656,
         "_deepnote_index_column": "2021-02-22T00:00:00.000000"
        },
        {
         "Close": 256.5899963378906,
         "_deepnote_index_column": "2021-02-23T00:00:00.000000"
        },
        {
         "Close": 237.32000732421875,
         "_deepnote_index_column": "2021-02-24T00:00:00.000000"
        },
        {
         "Close": 227.11000061035156,
         "_deepnote_index_column": "2021-02-25T00:00:00.000000"
        },
        {
         "Close": 230.02999877929688,
         "_deepnote_index_column": "2021-02-26T00:00:00.000000"
        },
        {
         "Close": 241,
         "_deepnote_index_column": "2021-03-01T00:00:00.000000"
        },
        {
         "Close": 252.1999969482422,
         "_deepnote_index_column": "2021-03-02T00:00:00.000000"
        },
        {
         "Close": 234.1999969482422,
         "_deepnote_index_column": "2021-03-03T00:00:00.000000"
        },
        {
         "Close": 218.41000366210938,
         "_deepnote_index_column": "2021-03-04T00:00:00.000000"
        },
        {
         "Close": 216.44000244140625,
         "_deepnote_index_column": "2021-03-05T00:00:00.000000"
        },
        {
         "Close": 201.8699951171875,
         "_deepnote_index_column": "2021-03-08T00:00:00.000000"
        },
        {
         "Close": 225.08999633789062,
         "_deepnote_index_column": "2021-03-09T00:00:00.000000"
        },
        {
         "Close": 226.72999572753906,
         "_deepnote_index_column": "2021-03-10T00:00:00.000000"
        },
        {
         "Close": 241.72000122070312,
         "_deepnote_index_column": "2021-03-11T00:00:00.000000"
        },
        {
         "Close": 242.11000061035156,
         "_deepnote_index_column": "2021-03-12T00:00:00.000000"
        },
        {
         "Close": 251.22999572753906,
         "_deepnote_index_column": "2021-03-15T00:00:00.000000"
        },
        {
         "Close": 243.36000061035156,
         "_deepnote_index_column": "2021-03-16T00:00:00.000000"
        },
        {
         "Close": 246.47000122070312,
         "_deepnote_index_column": "2021-03-17T00:00:00.000000"
        },
        {
         "Close": 224.3000030517578,
         "_deepnote_index_column": "2021-03-18T00:00:00.000000"
        },
        {
         "Close": 224.83999633789062,
         "_deepnote_index_column": "2021-03-19T00:00:00.000000"
        },
        {
         "Close": 226.1300048828125,
         "_deepnote_index_column": "2021-03-22T00:00:00.000000"
        },
        {
         "Close": 223.1999969482422,
         "_deepnote_index_column": "2021-03-23T00:00:00.000000"
        },
        {
         "Close": 213.50999450683594,
         "_deepnote_index_column": "2021-03-24T00:00:00.000000"
        },
        {
         "Close": 208.47000122070312,
         "_deepnote_index_column": "2021-03-25T00:00:00.000000"
        },
        {
         "Close": 213.60000610351562,
         "_deepnote_index_column": "2021-03-26T00:00:00.000000"
        },
        {
         "Close": 207.17999267578125,
         "_deepnote_index_column": "2021-03-29T00:00:00.000000"
        },
        {
         "Close": 212.8300018310547,
         "_deepnote_index_column": "2021-03-30T00:00:00.000000"
        },
        {
         "Close": 227.0500030517578,
         "_deepnote_index_column": "2021-03-31T00:00:00.000000"
        },
        {
         "Close": 229.50999450683594,
         "_deepnote_index_column": "2021-04-01T00:00:00.000000"
        },
        {
         "Close": 229.9499969482422,
         "_deepnote_index_column": "2021-04-05T00:00:00.000000"
        },
        {
         "Close": 236.5,
         "_deepnote_index_column": "2021-04-06T00:00:00.000000"
        },
        {
         "Close": 245.1199951171875,
         "_deepnote_index_column": "2021-04-07T00:00:00.000000"
        },
        {
         "Close": 258.3699951171875,
         "_deepnote_index_column": "2021-04-08T00:00:00.000000"
        },
        {
         "Close": 261.6499938964844,
         "_deepnote_index_column": "2021-04-09T00:00:00.000000"
        },
        {
         "Close": 265.20001220703125,
         "_deepnote_index_column": "2021-04-12T00:00:00.000000"
        },
        {
         "Close": 273.2300109863281,
         "_deepnote_index_column": "2021-04-13T00:00:00.000000"
        },
        {
         "Close": 258.3999938964844,
         "_deepnote_index_column": "2021-04-14T00:00:00.000000"
        },
        {
         "Close": 263.0799865722656,
         "_deepnote_index_column": "2021-04-15T00:00:00.000000"
        },
        {
         "Close": 256.1000061035156,
         "_deepnote_index_column": "2021-04-16T00:00:00.000000"
        },
        {
         "Close": 245.3300018310547,
         "_deepnote_index_column": "2021-04-19T00:00:00.000000"
        },
        {
         "Close": 245.5,
         "_deepnote_index_column": "2021-04-20T00:00:00.000000"
        },
        {
         "Close": 245.25,
         "_deepnote_index_column": "2021-04-21T00:00:00.000000"
        },
        {
         "Close": 245.11000061035156,
         "_deepnote_index_column": "2021-04-22T00:00:00.000000"
        },
        {
         "Close": 246.42999267578125,
         "_deepnote_index_column": "2021-04-23T00:00:00.000000"
        },
        {
         "Close": 255.77000427246094,
         "_deepnote_index_column": "2021-04-26T00:00:00.000000"
        },
        {
         "Close": 253.7899932861328,
         "_deepnote_index_column": "2021-04-27T00:00:00.000000"
        },
        {
         "Close": 254.1999969482422,
         "_deepnote_index_column": "2021-04-28T00:00:00.000000"
        },
        {
         "Close": 247.75999450683594,
         "_deepnote_index_column": "2021-04-29T00:00:00.000000"
        },
        {
         "Close": 244.82000732421875,
         "_deepnote_index_column": "2021-04-30T00:00:00.000000"
        },
        {
         "Close": 243.67999267578125,
         "_deepnote_index_column": "2021-05-03T00:00:00.000000"
        },
        {
         "Close": 231.19000244140625,
         "_deepnote_index_column": "2021-05-04T00:00:00.000000"
        },
        {
         "Close": 231.8699951171875,
         "_deepnote_index_column": "2021-05-05T00:00:00.000000"
        },
        {
         "Close": 223.9600067138672,
         "_deepnote_index_column": "2021-05-06T00:00:00.000000"
        },
        {
         "Close": 233.35000610351562,
         "_deepnote_index_column": "2021-05-07T00:00:00.000000"
        },
        {
         "Close": 216.42999267578125,
         "_deepnote_index_column": "2021-05-10T00:00:00.000000"
        },
        {
         "Close": 220.64999389648438,
         "_deepnote_index_column": "2021-05-11T00:00:00.000000"
        },
        {
         "Close": 206.6699981689453,
         "_deepnote_index_column": "2021-05-12T00:00:00.000000"
        },
        {
         "Close": 197.1300048828125,
         "_deepnote_index_column": "2021-05-13T00:00:00.000000"
        },
        {
         "Close": 207.85000610351562,
         "_deepnote_index_column": "2021-05-14T00:00:00.000000"
        },
        {
         "Close": 202.9199981689453,
         "_deepnote_index_column": "2021-05-17T00:00:00.000000"
        },
        {
         "Close": 203.16000366210938,
         "_deepnote_index_column": "2021-05-18T00:00:00.000000"
        },
        {
         "Close": 200.11000061035156,
         "_deepnote_index_column": "2021-05-19T00:00:00.000000"
        },
        {
         "Close": 204.91000366210938,
         "_deepnote_index_column": "2021-05-20T00:00:00.000000"
        },
        {
         "Close": 200.00999450683594,
         "_deepnote_index_column": "2021-05-21T00:00:00.000000"
        },
        {
         "Close": 210.9499969482422,
         "_deepnote_index_column": "2021-05-24T00:00:00.000000"
        },
        {
         "Close": 216.1999969482422,
         "_deepnote_index_column": "2021-05-25T00:00:00.000000"
        },
        {
         "Close": 222.33999633789062,
         "_deepnote_index_column": "2021-05-26T00:00:00.000000"
        },
        {
         "Close": 220.89999389648438,
         "_deepnote_index_column": "2021-05-27T00:00:00.000000"
        },
        {
         "Close": 222.52000427246094,
         "_deepnote_index_column": "2021-05-28T00:00:00.000000"
        },
        {
         "Close": 221.9499969482422,
         "_deepnote_index_column": "2021-06-01T00:00:00.000000"
        },
        {
         "Close": 220.41000366210938,
         "_deepnote_index_column": "2021-06-02T00:00:00.000000"
        },
        {
         "Close": 211.42999267578125,
         "_deepnote_index_column": "2021-06-03T00:00:00.000000"
        },
        {
         "Close": 213.69000244140625,
         "_deepnote_index_column": "2021-06-04T00:00:00.000000"
        },
        {
         "Close": 216.9499969482422,
         "_deepnote_index_column": "2021-06-07T00:00:00.000000"
        },
        {
         "Close": 214.1199951171875,
         "_deepnote_index_column": "2021-06-08T00:00:00.000000"
        },
        {
         "Close": 210.2100067138672,
         "_deepnote_index_column": "2021-06-09T00:00:00.000000"
        },
        {
         "Close": 217.13999938964844,
         "_deepnote_index_column": "2021-06-10T00:00:00.000000"
        },
        {
         "Close": 219.33999633789062,
         "_deepnote_index_column": "2021-06-11T00:00:00.000000"
        },
        {
         "Close": 230.9499969482422,
         "_deepnote_index_column": "2021-06-14T00:00:00.000000"
        },
        {
         "Close": 227.75,
         "_deepnote_index_column": "2021-06-15T00:00:00.000000"
        },
        {
         "Close": 225.11000061035156,
         "_deepnote_index_column": "2021-06-16T00:00:00.000000"
        },
        {
         "Close": 236.1300048828125,
         "_deepnote_index_column": "2021-06-17T00:00:00.000000"
        },
        {
         "Close": 237.0500030517578,
         "_deepnote_index_column": "2021-06-18T00:00:00.000000"
        },
        {
         "Close": 233.88999938964844,
         "_deepnote_index_column": "2021-06-21T00:00:00.000000"
        },
        {
         "Close": 235.97000122070312,
         "_deepnote_index_column": "2021-06-22T00:00:00.000000"
        },
        {
         "Close": 238.6999969482422,
         "_deepnote_index_column": "2021-06-23T00:00:00.000000"
        },
        {
         "Close": 244.14999389648438,
         "_deepnote_index_column": "2021-06-24T00:00:00.000000"
        },
        {
         "Close": 239.94000244140625,
         "_deepnote_index_column": "2021-06-25T00:00:00.000000"
        },
        {
         "Close": 246.60000610351562,
         "_deepnote_index_column": "2021-06-28T00:00:00.000000"
        },
        {
         "Close": 248.8699951171875,
         "_deepnote_index_column": "2021-06-29T00:00:00.000000"
        },
        {
         "Close": 243.8000030517578,
         "_deepnote_index_column": "2021-06-30T00:00:00.000000"
        },
        {
         "Close": 241.85000610351562,
         "_deepnote_index_column": "2021-07-01T00:00:00.000000"
        },
        {
         "Close": 241.0800018310547,
         "_deepnote_index_column": "2021-07-02T00:00:00.000000"
        },
        {
         "Close": 246.6999969482422,
         "_deepnote_index_column": "2021-07-06T00:00:00.000000"
        },
        {
         "Close": 244.63999938964844,
         "_deepnote_index_column": "2021-07-07T00:00:00.000000"
        },
        {
         "Close": 235.89999389648438,
         "_deepnote_index_column": "2021-07-08T00:00:00.000000"
        },
        {
         "Close": 241.88999938964844,
         "_deepnote_index_column": "2021-07-09T00:00:00.000000"
        },
        {
         "Close": 243.35000610351562,
         "_deepnote_index_column": "2021-07-12T00:00:00.000000"
        },
        {
         "Close": 241.42999267578125,
         "_deepnote_index_column": "2021-07-13T00:00:00.000000"
        },
        {
         "Close": 239,
         "_deepnote_index_column": "2021-07-14T00:00:00.000000"
        },
        {
         "Close": 235.16000366210938,
         "_deepnote_index_column": "2021-07-15T00:00:00.000000"
        },
        {
         "Close": 237.52000427246094,
         "_deepnote_index_column": "2021-07-16T00:00:00.000000"
        },
        {
         "Close": 233.69000244140625,
         "_deepnote_index_column": "2021-07-19T00:00:00.000000"
        },
        {
         "Close": 246.47000122070312,
         "_deepnote_index_column": "2021-07-20T00:00:00.000000"
        },
        {
         "Close": 257.25,
         "_deepnote_index_column": "2021-07-21T00:00:00.000000"
        },
        {
         "Close": 260.5899963378906,
         "_deepnote_index_column": "2021-07-22T00:00:00.000000"
        },
        {
         "Close": 264,
         "_deepnote_index_column": "2021-07-23T00:00:00.000000"
        },
        {
         "Close": 261.989990234375,
         "_deepnote_index_column": "2021-07-26T00:00:00.000000"
        },
        {
         "Close": 251.72999572753906,
         "_deepnote_index_column": "2021-07-27T00:00:00.000000"
        },
        {
         "Close": 258.6099853515625,
         "_deepnote_index_column": "2021-07-28T00:00:00.000000"
        },
        {
         "Close": 255.27999877929688,
         "_deepnote_index_column": "2021-07-29T00:00:00.000000"
        },
        {
         "Close": 247.25999450683594,
         "_deepnote_index_column": "2021-07-30T00:00:00.000000"
        },
        {
         "Close": 272.3800048828125,
         "_deepnote_index_column": "2021-08-02T00:00:00.000000"
        },
        {
         "Close": 269.489990234375,
         "_deepnote_index_column": "2021-08-03T00:00:00.000000"
        },
        {
         "Close": 266.4200134277344,
         "_deepnote_index_column": "2021-08-04T00:00:00.000000"
        },
        {
         "Close": 281.80999755859375,
         "_deepnote_index_column": "2021-08-05T00:00:00.000000"
        },
        {
         "Close": 275.1000061035156,
         "_deepnote_index_column": "2021-08-06T00:00:00.000000"
        },
        {
         "Close": 279.7300109863281,
         "_deepnote_index_column": "2021-08-09T00:00:00.000000"
        },
        {
         "Close": 273.0799865722656,
         "_deepnote_index_column": "2021-08-10T00:00:00.000000"
        }
       ]
      },
      "text/plain": "                 Close\nDate                  \n2015-11-30   12.040000\n2015-12-01   11.910000\n2015-12-02   11.930000\n2015-12-03   11.920000\n2015-12-04   12.040000\n...                ...\n2021-08-04  266.420013\n2021-08-05  281.809998\n2021-08-06  275.100006\n2021-08-09  279.730011\n2021-08-10  273.079987\n\n[1434 rows x 1 columns]",
      "text/html": "<div>\n<style scoped>\n    .dataframe tbody tr th:only-of-type {\n        vertical-align: middle;\n    }\n\n    .dataframe tbody tr th {\n        vertical-align: top;\n    }\n\n    .dataframe thead th {\n        text-align: right;\n    }\n</style>\n<table border=\"1\" class=\"dataframe\">\n  <thead>\n    <tr style=\"text-align: right;\">\n      <th></th>\n      <th>Close</th>\n    </tr>\n    <tr>\n      <th>Date</th>\n      <th></th>\n    </tr>\n  </thead>\n  <tbody>\n    <tr>\n      <th>2015-11-30</th>\n      <td>12.040000</td>\n    </tr>\n    <tr>\n      <th>2015-12-01</th>\n      <td>11.910000</td>\n    </tr>\n    <tr>\n      <th>2015-12-02</th>\n      <td>11.930000</td>\n    </tr>\n    <tr>\n      <th>2015-12-03</th>\n      <td>11.920000</td>\n    </tr>\n    <tr>\n      <th>2015-12-04</th>\n      <td>12.040000</td>\n    </tr>\n    <tr>\n      <th>...</th>\n      <td>...</td>\n    </tr>\n    <tr>\n      <th>2021-08-04</th>\n      <td>266.420013</td>\n    </tr>\n    <tr>\n      <th>2021-08-05</th>\n      <td>281.809998</td>\n    </tr>\n    <tr>\n      <th>2021-08-06</th>\n      <td>275.100006</td>\n    </tr>\n    <tr>\n      <th>2021-08-09</th>\n      <td>279.730011</td>\n    </tr>\n    <tr>\n      <th>2021-08-10</th>\n      <td>273.079987</td>\n    </tr>\n  </tbody>\n</table>\n<p>1434 rows × 1 columns</p>\n</div>"
     },
     "metadata": {}
    }
   ],
   "execution_count": null
  },
  {
   "cell_type": "code",
   "metadata": {
    "tags": [],
    "deepnote_to_be_reexecuted": false,
    "source_hash": "a6920270",
    "execution_start": 1629252686072,
    "execution_millis": 1976129,
    "cell_id": "00002-e8bd17be-1cb2-4b0c-8b91-f72ac560cd2f",
    "deepnote_cell_type": "code"
   },
   "source": "# sq_1hr.to_csv('SQ Hourly Close.csv')",
   "outputs": [],
   "execution_count": null
  },
  {
   "cell_type": "code",
   "metadata": {
    "tags": [],
    "deepnote_to_be_reexecuted": false,
    "source_hash": "55ebf91e",
    "execution_start": 1629252686094,
    "execution_millis": 48,
    "cell_id": "00003-09d53a95-5bdc-4070-b8bb-b77abd06662a",
    "deepnote_cell_type": "code"
   },
   "source": "\ndef get_macd(price, slow, fast, smooth):\n    exp1 = price.ewm(span = fast, adjust = False).mean()\n    exp2 = price.ewm(span = slow, adjust = False).mean()\n    macd = pd.DataFrame(exp1 - exp2).rename(columns = {'Close':'macd'})\n    signal = pd.DataFrame(macd.ewm(span = smooth, adjust = False).mean()).rename(columns = {'macd':'signal'})\n    hist = pd.DataFrame(macd['macd'] - signal['signal']).rename(columns = {0:'hist'})\n    frames =  [macd, signal, hist]\n    df = pd.concat(frames, join = 'inner', axis = 1)\n    return df\n\nsq_macd = get_macd(sq_daily['Close'], 26, 12, 9)\nsq_macd.tail()",
   "outputs": [
    {
     "output_type": "execute_result",
     "execution_count": 4,
     "data": {
      "application/vnd.deepnote.dataframe.v2+json": {
       "row_count": 5,
       "column_count": 3,
       "columns": [
        {
         "name": "macd",
         "dtype": "float64",
         "stats": {
          "unique_count": 5,
          "nan_count": 0,
          "min": "7.632963512239485",
          "max": "9.87214606544751",
          "histogram": [
           {
            "bin_start": 7.632963512239485,
            "bin_end": 7.856881767560287,
            "count": 1
           },
           {
            "bin_start": 7.856881767560287,
            "bin_end": 8.080800022881089,
            "count": 0
           },
           {
            "bin_start": 8.080800022881089,
            "bin_end": 8.304718278201893,
            "count": 0
           },
           {
            "bin_start": 8.304718278201893,
            "bin_end": 8.528636533522695,
            "count": 0
           },
           {
            "bin_start": 8.528636533522695,
            "bin_end": 8.752554788843497,
            "count": 0
           },
           {
            "bin_start": 8.752554788843497,
            "bin_end": 8.9764730441643,
            "count": 1
           },
           {
            "bin_start": 8.9764730441643,
            "bin_end": 9.200391299485101,
            "count": 0
           },
           {
            "bin_start": 9.200391299485101,
            "bin_end": 9.424309554805905,
            "count": 1
           },
           {
            "bin_start": 9.424309554805905,
            "bin_end": 9.648227810126707,
            "count": 0
           },
           {
            "bin_start": 9.648227810126707,
            "bin_end": 9.87214606544751,
            "count": 2
           }
          ]
         }
        },
        {
         "name": "signal",
         "dtype": "float64",
         "stats": {
          "unique_count": 5,
          "nan_count": 0,
          "min": "6.450068076821837",
          "max": "8.261602545972714",
          "histogram": [
           {
            "bin_start": 6.450068076821837,
            "bin_end": 6.631221523736924,
            "count": 1
           },
           {
            "bin_start": 6.631221523736924,
            "bin_end": 6.812374970652012,
            "count": 0
           },
           {
            "bin_start": 6.812374970652012,
            "bin_end": 6.9935284175671,
            "count": 1
           },
           {
            "bin_start": 6.9935284175671,
            "bin_end": 7.174681864482188,
            "count": 0
           },
           {
            "bin_start": 7.174681864482188,
            "bin_end": 7.355835311397275,
            "count": 0
           },
           {
            "bin_start": 7.355835311397275,
            "bin_end": 7.536988758312363,
            "count": 1
           },
           {
            "bin_start": 7.536988758312363,
            "bin_end": 7.718142205227451,
            "count": 0
           },
           {
            "bin_start": 7.718142205227451,
            "bin_end": 7.899295652142539,
            "count": 0
           },
           {
            "bin_start": 7.899295652142539,
            "bin_end": 8.080449099057626,
            "count": 1
           },
           {
            "bin_start": 8.080449099057626,
            "bin_end": 8.261602545972714,
            "count": 1
           }
          ]
         }
        },
        {
         "name": "hist",
         "dtype": "float64",
         "stats": {
          "unique_count": 5,
          "nan_count": 0,
          "min": "1.182895435417648",
          "max": "1.984850154886077",
          "histogram": [
           {
            "bin_start": 1.182895435417648,
            "bin_end": 1.263090907364491,
            "count": 1
           },
           {
            "bin_start": 1.263090907364491,
            "bin_end": 1.3432863793113339,
            "count": 0
           },
           {
            "bin_start": 1.3432863793113339,
            "bin_end": 1.4234818512581766,
            "count": 1
           },
           {
            "bin_start": 1.4234818512581766,
            "bin_end": 1.5036773232050196,
            "count": 0
           },
           {
            "bin_start": 1.5036773232050196,
            "bin_end": 1.5838727951518625,
            "count": 0
           },
           {
            "bin_start": 1.5838727951518625,
            "bin_end": 1.6640682670987055,
            "count": 0
           },
           {
            "bin_start": 1.6640682670987055,
            "bin_end": 1.7442637390455484,
            "count": 0
           },
           {
            "bin_start": 1.7442637390455484,
            "bin_end": 1.8244592109923912,
            "count": 0
           },
           {
            "bin_start": 1.8244592109923912,
            "bin_end": 1.9046546829392343,
            "count": 1
           },
           {
            "bin_start": 1.9046546829392343,
            "bin_end": 1.984850154886077,
            "count": 2
           }
          ]
         }
        },
        {
         "name": "_deepnote_index_column",
         "dtype": "datetime64[ns]"
        }
       ],
       "rows_top": [
        {
         "macd": 7.632963512239485,
         "signal": 6.450068076821837,
         "hist": 1.182895435417648,
         "_deepnote_index_column": "2021-08-04T00:00:00.000000"
        },
        {
         "macd": 8.931130770429434,
         "signal": 6.9462806155433565,
         "hist": 1.984850154886077,
         "_deepnote_index_column": "2021-08-05T00:00:00.000000"
        },
        {
         "macd": 9.31116413845885,
         "signal": 7.419257320126455,
         "hist": 1.8919068183323944,
         "_deepnote_index_column": "2021-08-06T00:00:00.000000"
        },
        {
         "macd": 9.87214606544751,
         "signal": 7.909835069190667,
         "hist": 1.9623109962568428,
         "_deepnote_index_column": "2021-08-09T00:00:00.000000"
        },
        {
         "macd": 9.668672453100896,
         "signal": 8.261602545972714,
         "hist": 1.4070699071281823,
         "_deepnote_index_column": "2021-08-10T00:00:00.000000"
        }
       ],
       "rows_bottom": null
      },
      "text/plain": "                macd    signal      hist\nDate                                    \n2021-08-04  7.632964  6.450068  1.182895\n2021-08-05  8.931131  6.946281  1.984850\n2021-08-06  9.311164  7.419257  1.891907\n2021-08-09  9.872146  7.909835  1.962311\n2021-08-10  9.668672  8.261603  1.407070",
      "text/html": "<div>\n<style scoped>\n    .dataframe tbody tr th:only-of-type {\n        vertical-align: middle;\n    }\n\n    .dataframe tbody tr th {\n        vertical-align: top;\n    }\n\n    .dataframe thead th {\n        text-align: right;\n    }\n</style>\n<table border=\"1\" class=\"dataframe\">\n  <thead>\n    <tr style=\"text-align: right;\">\n      <th></th>\n      <th>macd</th>\n      <th>signal</th>\n      <th>hist</th>\n    </tr>\n    <tr>\n      <th>Date</th>\n      <th></th>\n      <th></th>\n      <th></th>\n    </tr>\n  </thead>\n  <tbody>\n    <tr>\n      <th>2021-08-04</th>\n      <td>7.632964</td>\n      <td>6.450068</td>\n      <td>1.182895</td>\n    </tr>\n    <tr>\n      <th>2021-08-05</th>\n      <td>8.931131</td>\n      <td>6.946281</td>\n      <td>1.984850</td>\n    </tr>\n    <tr>\n      <th>2021-08-06</th>\n      <td>9.311164</td>\n      <td>7.419257</td>\n      <td>1.891907</td>\n    </tr>\n    <tr>\n      <th>2021-08-09</th>\n      <td>9.872146</td>\n      <td>7.909835</td>\n      <td>1.962311</td>\n    </tr>\n    <tr>\n      <th>2021-08-10</th>\n      <td>9.668672</td>\n      <td>8.261603</td>\n      <td>1.407070</td>\n    </tr>\n  </tbody>\n</table>\n</div>"
     },
     "metadata": {}
    }
   ],
   "execution_count": null
  },
  {
   "cell_type": "code",
   "metadata": {
    "tags": [],
    "deepnote_to_be_reexecuted": false,
    "source_hash": "e3215ea0",
    "execution_start": 1629252686216,
    "execution_millis": 4920,
    "cell_id": "00004-43e483ed-f04f-4f68-a4d5-bdd7fbe1a8cd",
    "deepnote_cell_type": "code"
   },
   "source": "def plot_macd(prices, macd, signal, hist):\n    ax1 = plt.subplot2grid((8,1), (0,0), rowspan = 5, colspan = 1)\n    ax2 = plt.subplot2grid((8,1), (5,0), rowspan = 3, colspan = 1)\n\n    ax1.plot(prices)\n    ax2.plot(macd, color = 'grey', linewidth = 1.5, label = 'MACD')\n    ax2.plot(signal, color = 'skyblue', linewidth = 1.5, label = 'SIGNAL')\n\n    for i in range(len(prices)):\n        if str(hist[i])[0] == '-':\n            ax2.bar(prices.index[i], hist[i], color = '#ef5350')\n        else:\n            ax2.bar(prices.index[i], hist[i], color = '#26a69a')\n\n    plt.legend(loc = 'lower right')\n\nplot_macd(sq_daily['Close'], sq_macd['macd'], sq_macd['signal'], sq_macd['hist'])",
   "outputs": [
    {
     "data": {
      "text/plain": "<Figure size 1440x720 with 2 Axes>",
      "image/png": "[encoded data removed]"
     },
     "metadata": {
      "image/png": {
       "width": 1300,
       "height": 615
      }
     },
     "output_type": "display_data"
    }
   ],
   "execution_count": null
  },
  {
   "cell_type": "code",
   "metadata": {
    "tags": [],
    "deepnote_to_be_reexecuted": false,
    "source_hash": "17e10c5c",
    "execution_start": 1629252691133,
    "execution_millis": 31,
    "cell_id": "00005-a5ad39ab-75f0-451b-94d6-26671ab5d871",
    "deepnote_cell_type": "code"
   },
   "source": "def implement_macd_strategy(prices, data):    \n    buy_price = []\n    sell_price = []\n    macd_signal = []\n    signal = 0\n\n    for i in range(len(data)):\n        if data['macd'][i] > data['signal'][i]:\n            if signal != 1:\n                buy_price.append(prices[i])\n                sell_price.append(np.nan)\n                signal = 1\n                macd_signal.append(signal)\n            else:\n                buy_price.append(np.nan)\n                sell_price.append(np.nan)\n                macd_signal.append(0)\n        elif data['macd'][i] < data['signal'][i]:\n            if signal != -1:\n                buy_price.append(np.nan)\n                sell_price.append(prices[i])\n                signal = -1\n                macd_signal.append(signal)\n            else:\n                buy_price.append(np.nan)\n                sell_price.append(np.nan)\n                macd_signal.append(0)\n        else:\n            buy_price.append(np.nan)\n            sell_price.append(np.nan)\n            macd_signal.append(0)\n            \n    return buy_price, sell_price, macd_signal\n            \nbuy_price, sell_price, macd_signal = implement_macd_strategy(sq_daily['Close'], sq_macd)",
   "outputs": [],
   "execution_count": null
  },
  {
   "cell_type": "code",
   "metadata": {
    "tags": [],
    "deepnote_to_be_reexecuted": false,
    "source_hash": "60b14915",
    "execution_start": 1629252691185,
    "execution_millis": 5167,
    "cell_id": "00006-9ae42dfa-557a-4737-bb35-b8f648c58f0c",
    "deepnote_cell_type": "code"
   },
   "source": "ax1 = plt.subplot2grid((8,1), (0,0), rowspan = 5, colspan = 1)\nax2 = plt.subplot2grid((8,1), (5,0), rowspan = 3, colspan = 1)\n\nax1.plot(sq_daily['Close'], color = 'skyblue', linewidth = 2, label = 'SQ')\nax1.plot(sq_daily.index, buy_price, marker = '^', color = 'green', markersize = 10, label = 'BUY SIGNAL', linewidth = 0)\nax1.plot(sq_daily.index, sell_price, marker = 'v', color = 'r', markersize = 10, label = 'SELL SIGNAL', linewidth = 0)\nax1.legend()\nax1.set_title('SQ MACD SIGNALS')\nax2.plot(sq_macd['macd'], color = 'grey', linewidth = 1.5, label = 'MACD')\nax2.plot(sq_macd['signal'], color = 'skyblue', linewidth = 1.5, label = 'SIGNAL')\n\nfor i in range(len(sq_macd)):\n    if str(sq_macd['hist'][i])[0] == '-':\n        ax2.bar(sq_macd.index[i], sq_macd['hist'][i], color = '#ef5350')\n    else:\n        ax2.bar(sq_macd.index[i], sq_macd['hist'][i], color = '#26a69a')\n        \nplt.legend(loc = 'lower right')\nplt.show()",
   "outputs": [
    {
     "data": {
      "text/plain": "<Figure size 1440x720 with 2 Axes>",
      "image/png": "[encoded data removed]"
     },
     "metadata": {
      "image/png": {
       "width": 1300,
       "height": 636
      }
     },
     "output_type": "display_data"
    }
   ],
   "execution_count": null
  },
  {
   "cell_type": "code",
   "metadata": {
    "tags": [],
    "deepnote_to_be_reexecuted": false,
    "source_hash": "43d6f376",
    "execution_start": 1629252696364,
    "execution_millis": 80,
    "cell_id": "00007-bff94435-7c74-48b0-b91c-501b73088062",
    "deepnote_cell_type": "code"
   },
   "source": "position = []\nfor i in range(len(macd_signal)):\n    if macd_signal[i] > 1:\n        position.append(0)\n    else:\n        position.append(1)\n        \nfor i in range(len(sq_daily['Close'])):\n    if macd_signal[i] == 1:\n        position[i] = 1\n    elif macd_signal[i] == -1:\n        position[i] = 0\n    else:\n        position[i] = position[i-1]\n        \nmacd = sq_macd['macd']\nsignal = sq_macd['signal']\nclose_price = sq_daily['Close']\nmacd_signal = pd.DataFrame(macd_signal).rename(columns = {0:'macd_signal'}).set_index(sq_daily.index)\nposition = pd.DataFrame(position).rename(columns = {0:'macd_position'}).set_index(sq_daily.index)\n\nframes = [close_price, macd, signal, macd_signal, position]\nstrategy = pd.concat(frames, join = 'inner', axis = 1)\n\nstrategy",
   "outputs": [
    {
     "output_type": "execute_result",
     "execution_count": 8,
     "data": {
      "application/vnd.deepnote.dataframe.v2+json": {
       "row_count": 1434,
       "column_count": 5,
       "columns": [
        {
         "name": "Close",
         "dtype": "float64",
         "stats": {
          "unique_count": 1294,
          "nan_count": 0,
          "min": "8.369999885559082",
          "max": "281.80999755859375",
          "histogram": [
           {
            "bin_start": 8.369999885559082,
            "bin_end": 35.71399965286255,
            "count": 488
           },
           {
            "bin_start": 35.71399965286255,
            "bin_end": 63.05799942016601,
            "count": 279
           },
           {
            "bin_start": 63.05799942016601,
            "bin_end": 90.40199918746947,
            "count": 360
           },
           {
            "bin_start": 90.40199918746947,
            "bin_end": 117.74599895477294,
            "count": 29
           },
           {
            "bin_start": 117.74599895477294,
            "bin_end": 145.08999872207642,
            "count": 33
           },
           {
            "bin_start": 145.08999872207642,
            "bin_end": 172.43399848937986,
            "count": 40
           },
           {
            "bin_start": 172.43399848937986,
            "bin_end": 199.77799825668333,
            "count": 27
           },
           {
            "bin_start": 199.77799825668333,
            "bin_end": 227.1219980239868,
            "count": 74
           },
           {
            "bin_start": 227.1219980239868,
            "bin_end": 254.46599779129028,
            "count": 72
           },
           {
            "bin_start": 254.46599779129028,
            "bin_end": 281.80999755859375,
            "count": 32
           }
          ]
         }
        },
        {
         "name": "macd",
         "dtype": "float64",
         "stats": {
          "unique_count": 1434,
          "nan_count": 0,
          "min": "-11.3208256883035",
          "max": "14.034281906040661",
          "histogram": [
           {
            "bin_start": -11.3208256883035,
            "bin_end": -8.785314928869084,
            "count": 12
           },
           {
            "bin_start": -8.785314928869084,
            "bin_end": -6.249804169434668,
            "count": 13
           },
           {
            "bin_start": -6.249804169434668,
            "bin_end": -3.714293410000252,
            "count": 43
           },
           {
            "bin_start": -3.714293410000252,
            "bin_end": -1.1787826505658359,
            "count": 136
           },
           {
            "bin_start": -1.1787826505658359,
            "bin_end": 1.3567281088685803,
            "count": 719
           },
           {
            "bin_start": 1.3567281088685803,
            "bin_end": 3.8922388683029965,
            "count": 289
           },
           {
            "bin_start": 3.8922388683029965,
            "bin_end": 6.427749627737413,
            "count": 104
           },
           {
            "bin_start": 6.427749627737413,
            "bin_end": 8.963260387171829,
            "count": 74
           },
           {
            "bin_start": 8.963260387171829,
            "bin_end": 11.498771146606245,
            "count": 36
           },
           {
            "bin_start": 11.498771146606245,
            "bin_end": 14.034281906040661,
            "count": 8
           }
          ]
         }
        },
        {
         "name": "signal",
         "dtype": "float64",
         "stats": {
          "unique_count": 1434,
          "nan_count": 0,
          "min": "-9.239979756177966",
          "max": "11.363714371434058",
          "histogram": [
           {
            "bin_start": -9.239979756177966,
            "bin_end": -7.179610343416764,
            "count": 13
           },
           {
            "bin_start": -7.179610343416764,
            "bin_end": -5.119240930655562,
            "count": 19
           },
           {
            "bin_start": -5.119240930655562,
            "bin_end": -3.05887151789436,
            "count": 49
           },
           {
            "bin_start": -3.05887151789436,
            "bin_end": -0.9985021051331575,
            "count": 126
           },
           {
            "bin_start": -0.9985021051331575,
            "bin_end": 1.0618673076280452,
            "count": 666
           },
           {
            "bin_start": 1.0618673076280452,
            "bin_end": 3.122236720389246,
            "count": 307
           },
           {
            "bin_start": 3.122236720389246,
            "bin_end": 5.182606133150449,
            "count": 99
           },
           {
            "bin_start": 5.182606133150449,
            "bin_end": 7.242975545911651,
            "count": 64
           },
           {
            "bin_start": 7.242975545911651,
            "bin_end": 9.303344958672852,
            "count": 73
           },
           {
            "bin_start": 9.303344958672852,
            "bin_end": 11.363714371434058,
            "count": 18
           }
          ]
         }
        },
        {
         "name": "macd_signal",
         "dtype": "int64",
         "stats": {
          "unique_count": 3,
          "nan_count": 0,
          "min": "-1",
          "max": "1",
          "histogram": [
           {
            "bin_start": -1,
            "bin_end": -0.8,
            "count": 49
           },
           {
            "bin_start": -0.8,
            "bin_end": -0.6,
            "count": 0
           },
           {
            "bin_start": -0.6,
            "bin_end": -0.3999999999999999,
            "count": 0
           },
           {
            "bin_start": -0.3999999999999999,
            "bin_end": -0.19999999999999996,
            "count": 0
           },
           {
            "bin_start": -0.19999999999999996,
            "bin_end": 0,
            "count": 0
           },
           {
            "bin_start": 0,
            "bin_end": 0.20000000000000018,
            "count": 1336
           },
           {
            "bin_start": 0.20000000000000018,
            "bin_end": 0.40000000000000013,
            "count": 0
           },
           {
            "bin_start": 0.40000000000000013,
            "bin_end": 0.6000000000000001,
            "count": 0
           },
           {
            "bin_start": 0.6000000000000001,
            "bin_end": 0.8,
            "count": 0
           },
           {
            "bin_start": 0.8,
            "bin_end": 1,
            "count": 49
           }
          ]
         }
        },
        {
         "name": "macd_position",
         "dtype": "int64",
         "stats": {
          "unique_count": 2,
          "nan_count": 0,
          "min": "0",
          "max": "1",
          "histogram": [
           {
            "bin_start": 0,
            "bin_end": 0.1,
            "count": 630
           },
           {
            "bin_start": 0.1,
            "bin_end": 0.2,
            "count": 0
           },
           {
            "bin_start": 0.2,
            "bin_end": 0.30000000000000004,
            "count": 0
           },
           {
            "bin_start": 0.30000000000000004,
            "bin_end": 0.4,
            "count": 0
           },
           {
            "bin_start": 0.4,
            "bin_end": 0.5,
            "count": 0
           },
           {
            "bin_start": 0.5,
            "bin_end": 0.6000000000000001,
            "count": 0
           },
           {
            "bin_start": 0.6000000000000001,
            "bin_end": 0.7000000000000001,
            "count": 0
           },
           {
            "bin_start": 0.7000000000000001,
            "bin_end": 0.8,
            "count": 0
           },
           {
            "bin_start": 0.8,
            "bin_end": 0.9,
            "count": 0
           },
           {
            "bin_start": 0.9,
            "bin_end": 1,
            "count": 804
           }
          ]
         }
        },
        {
         "name": "_deepnote_index_column",
         "dtype": "datetime64[ns]"
        }
       ],
       "rows_top": [
        {
         "Close": 12.039999961853027,
         "macd": 0,
         "signal": 0,
         "macd_signal": 0,
         "macd_position": 1,
         "_deepnote_index_column": "2015-11-30T00:00:00.000000"
        },
        {
         "Close": 11.90999984741211,
         "macd": -0.010370379499560656,
         "signal": -0.0020740758999121312,
         "macd_signal": -1,
         "macd_position": 0,
         "_deepnote_index_column": "2015-12-01T00:00:00.000000"
        },
        {
         "Close": 11.930000305175781,
         "macd": -0.016781661627760514,
         "signal": -0.005015593045481808,
         "macd_signal": 0,
         "macd_position": 0,
         "_deepnote_index_column": "2015-12-02T00:00:00.000000"
        },
        {
         "Close": 11.920000076293945,
         "macd": -0.02241124096518554,
         "signal": -0.008494722629422555,
         "macd_signal": 0,
         "macd_position": 0,
         "_deepnote_index_column": "2015-12-03T00:00:00.000000"
        },
        {
         "Close": 12.039999961853027,
         "macd": -0.016993840846314612,
         "signal": -0.010194546272800968,
         "macd_signal": 0,
         "macd_position": 0,
         "_deepnote_index_column": "2015-12-04T00:00:00.000000"
        },
        {
         "Close": 12.359999656677246,
         "macd": 0.012971264142725758,
         "signal": -0.005561384189695624,
         "macd_signal": 1,
         "macd_position": 1,
         "_deepnote_index_column": "2015-12-07T00:00:00.000000"
        },
        {
         "Close": 12.119999885559082,
         "macd": 0.017155096690038008,
         "signal": -0.0010180880137488973,
         "macd_signal": 0,
         "macd_position": 1,
         "_deepnote_index_column": "2015-12-08T00:00:00.000000"
        },
        {
         "Close": 11.989999771118164,
         "macd": 0.009867148996033137,
         "signal": 0.0011589593882075097,
         "macd_signal": 0,
         "macd_position": 1,
         "_deepnote_index_column": "2015-12-09T00:00:00.000000"
        },
        {
         "Close": 12.050000190734863,
         "macd": 0.00883113058416285,
         "signal": 0.002693393627398578,
         "macd_signal": 0,
         "macd_position": 1,
         "_deepnote_index_column": "2015-12-10T00:00:00.000000"
        },
        {
         "Close": 11.949999809265137,
         "macd": -0.000058442825393356657,
         "signal": 0.002143026336840191,
         "macd_signal": -1,
         "macd_position": 0,
         "_deepnote_index_column": "2015-12-11T00:00:00.000000"
        },
        {
         "Close": 12.329999923706055,
         "macd": 0.023290857140475296,
         "signal": 0.006372592497567212,
         "macd_signal": 1,
         "macd_position": 1,
         "_deepnote_index_column": "2015-12-14T00:00:00.000000"
        },
        {
         "Close": 12.470000267028809,
         "macd": 0.05248716390711117,
         "signal": 0.015595506779476003,
         "macd_signal": 0,
         "macd_position": 1,
         "_deepnote_index_column": "2015-12-15T00:00:00.000000"
        },
        {
         "Close": 12.270000457763672,
         "macd": 0.05880921816857132,
         "signal": 0.024238249057295068,
         "macd_signal": 0,
         "macd_position": 1,
         "_deepnote_index_column": "2015-12-16T00:00:00.000000"
        },
        {
         "Close": 12.319999694824219,
         "macd": 0.06708074719114343,
         "signal": 0.03280674868406474,
         "macd_signal": 0,
         "macd_position": 1,
         "_deepnote_index_column": "2015-12-17T00:00:00.000000"
        },
        {
         "Close": 12.34000015258789,
         "macd": 0.07439231502540267,
         "signal": 0.04112386195233233,
         "macd_signal": 0,
         "macd_position": 1,
         "_deepnote_index_column": "2015-12-18T00:00:00.000000"
        },
        {
         "Close": 12.239999771118164,
         "macd": 0.0712957372851406,
         "signal": 0.04715823701889399,
         "macd_signal": 0,
         "macd_position": 1,
         "_deepnote_index_column": "2015-12-21T00:00:00.000000"
        },
        {
         "Close": 12.460000038146973,
         "macd": 0.08560703543070503,
         "signal": 0.0548479967012562,
         "macd_signal": 0,
         "macd_position": 1,
         "_deepnote_index_column": "2015-12-22T00:00:00.000000"
        },
        {
         "Close": 12.5,
         "macd": 0.0990348923543305,
         "signal": 0.06368537583187106,
         "macd_signal": 0,
         "macd_position": 1,
         "_deepnote_index_column": "2015-12-23T00:00:00.000000"
        },
        {
         "Close": 12.600000381469727,
         "macd": 0.11640392872393868,
         "signal": 0.07422908641028458,
         "macd_signal": 0,
         "macd_position": 1,
         "_deepnote_index_column": "2015-12-24T00:00:00.000000"
        },
        {
         "Close": 12.829999923706055,
         "macd": 0.14703314943437462,
         "signal": 0.08878989901510259,
         "macd_signal": 0,
         "macd_position": 1,
         "_deepnote_index_column": "2015-12-28T00:00:00.000000"
        },
        {
         "Close": 12.739999771118164,
         "macd": 0.16217531132945062,
         "signal": 0.1034669814779722,
         "macd_signal": 0,
         "macd_position": 1,
         "_deepnote_index_column": "2015-12-29T00:00:00.000000"
        },
        {
         "Close": 12.779999732971191,
         "macd": 0.17538155693546997,
         "signal": 0.11784989656947176,
         "macd_signal": 0,
         "macd_position": 1,
         "_deepnote_index_column": "2015-12-30T00:00:00.000000"
        },
        {
         "Close": 13.09000015258789,
         "macd": 0.20845905853997593,
         "signal": 0.1359717289635726,
         "macd_signal": 0,
         "macd_position": 1,
         "_deepnote_index_column": "2015-12-31T00:00:00.000000"
        },
        {
         "Close": 12.15999984741211,
         "macd": 0.15781081968571975,
         "signal": 0.14033954710800203,
         "macd_signal": 0,
         "macd_position": 1,
         "_deepnote_index_column": "2016-01-04T00:00:00.000000"
        },
        {
         "Close": 11.510000228881836,
         "macd": 0.06447891574694431,
         "signal": 0.1251674208357905,
         "macd_signal": -1,
         "macd_position": 0,
         "_deepnote_index_column": "2016-01-05T00:00:00.000000"
        },
        {
         "Close": 11.520000457763672,
         "macd": -0.008581434217328265,
         "signal": 0.09841764982516675,
         "macd_signal": 0,
         "macd_position": 0,
         "_deepnote_index_column": "2016-01-06T00:00:00.000000"
        },
        {
         "Close": 11.15999984741211,
         "macd": -0.09444265243143057,
         "signal": 0.059845589373847284,
         "macd_signal": 0,
         "macd_position": 0,
         "_deepnote_index_column": "2016-01-07T00:00:00.000000"
        },
        {
         "Close": 11.3100004196167,
         "macd": -0.14867071048676728,
         "signal": 0.018142329401724375,
         "macd_signal": 0,
         "macd_position": 0,
         "_deepnote_index_column": "2016-01-08T00:00:00.000000"
        },
        {
         "Close": 11.84000015258789,
         "macd": -0.14718364666932438,
         "signal": -0.014922865812485375,
         "macd_signal": 0,
         "macd_position": 0,
         "_deepnote_index_column": "2016-01-11T00:00:00.000000"
        },
        {
         "Close": 12.09000015258789,
         "macd": -0.12439824172210656,
         "signal": -0.03681794099440962,
         "macd_signal": 0,
         "macd_position": 0,
         "_deepnote_index_column": "2016-01-12T00:00:00.000000"
        },
        {
         "Close": 11.609999656677246,
         "macd": -0.14341942279938458,
         "signal": -0.05813823735540461,
         "macd_signal": 0,
         "macd_position": 0,
         "_deepnote_index_column": "2016-01-13T00:00:00.000000"
        },
        {
         "Close": 10.819999694824219,
         "macd": -0.21970758814678604,
         "signal": -0.09045210751368091,
         "macd_signal": 0,
         "macd_position": 0,
         "_deepnote_index_column": "2016-01-14T00:00:00.000000"
        },
        {
         "Close": 10.270000457763672,
         "macd": -0.3208483110973379,
         "signal": -0.1365313482304123,
         "macd_signal": 0,
         "macd_position": 0,
         "_deepnote_index_column": "2016-01-15T00:00:00.000000"
        },
        {
         "Close": 9.470000267028809,
         "macd": -0.4602509062756521,
         "signal": -0.20127525983946026,
         "macd_signal": 0,
         "macd_position": 0,
         "_deepnote_index_column": "2016-01-19T00:00:00.000000"
        },
        {
         "Close": 9.489999771118164,
         "macd": -0.5626290371429814,
         "signal": -0.27354601530016454,
         "macd_signal": 0,
         "macd_position": 0,
         "_deepnote_index_column": "2016-01-20T00:00:00.000000"
        },
        {
         "Close": 10.020000457763672,
         "macd": -0.5941488394616954,
         "signal": -0.3376665801324707,
         "macd_signal": 0,
         "macd_position": 0,
         "_deepnote_index_column": "2016-01-21T00:00:00.000000"
        },
        {
         "Close": 9.850000381469727,
         "macd": -0.6256341739803002,
         "signal": -0.3952600989020366,
         "macd_signal": 0,
         "macd_position": 0,
         "_deepnote_index_column": "2016-01-22T00:00:00.000000"
        },
        {
         "Close": 9.8100004196167,
         "macd": -0.6463633170816685,
         "signal": -0.445480742537963,
         "macd_signal": 0,
         "macd_position": 0,
         "_deepnote_index_column": "2016-01-25T00:00:00.000000"
        },
        {
         "Close": 9.539999961853027,
         "macd": -0.6767766330415892,
         "signal": -0.49173992063868827,
         "macd_signal": 0,
         "macd_position": 0,
         "_deepnote_index_column": "2016-01-26T00:00:00.000000"
        },
        {
         "Close": 9.050000190734863,
         "macd": -0.7319804761986273,
         "signal": -0.539788031750676,
         "macd_signal": 0,
         "macd_position": 0,
         "_deepnote_index_column": "2016-01-27T00:00:00.000000"
        },
        {
         "Close": 8.739999771118164,
         "macd": -0.7916190708215876,
         "signal": -0.5901542395648584,
         "macd_signal": 0,
         "macd_position": 0,
         "_deepnote_index_column": "2016-01-28T00:00:00.000000"
        },
        {
         "Close": 8.770000457763672,
         "macd": -0.8269299483485195,
         "signal": -0.6375093813215906,
         "macd_signal": 0,
         "macd_position": 0,
         "_deepnote_index_column": "2016-01-29T00:00:00.000000"
        },
        {
         "Close": 8.760000228881836,
         "macd": -0.8459692017251683,
         "signal": -0.6792013454023063,
         "macd_signal": 0,
         "macd_position": 0,
         "_deepnote_index_column": "2016-02-01T00:00:00.000000"
        },
        {
         "Close": 8.470000267028809,
         "macd": -0.874379221108537,
         "signal": -0.7182369205435525,
         "macd_signal": 0,
         "macd_position": 0,
         "_deepnote_index_column": "2016-02-02T00:00:00.000000"
        },
        {
         "Close": 8.430000305175781,
         "macd": -0.8898642278831161,
         "signal": -0.7525623820114653,
         "macd_signal": 0,
         "macd_position": 0,
         "_deepnote_index_column": "2016-02-03T00:00:00.000000"
        },
        {
         "Close": 8.899999618530273,
         "macd": -0.8543626300983593,
         "signal": -0.7729224316288441,
         "macd_signal": 0,
         "macd_position": 0,
         "_deepnote_index_column": "2016-02-04T00:00:00.000000"
        },
        {
         "Close": 8.630000114440918,
         "macd": -0.8383500836690168,
         "signal": -0.7860079620368786,
         "macd_signal": 0,
         "macd_position": 0,
         "_deepnote_index_column": "2016-02-05T00:00:00.000000"
        },
        {
         "Close": 8.369999885559082,
         "macd": -0.8369915532016279,
         "signal": -0.7962046802698286,
         "macd_signal": 0,
         "macd_position": 0,
         "_deepnote_index_column": "2016-02-08T00:00:00.000000"
        },
        {
         "Close": 8.619999885559082,
         "macd": -0.8064457922576427,
         "signal": -0.7982529026673915,
         "macd_signal": 0,
         "macd_position": 0,
         "_deepnote_index_column": "2016-02-09T00:00:00.000000"
        },
        {
         "Close": 8.880000114440918,
         "macd": -0.752582903832236,
         "signal": -0.7891189029003605,
         "macd_signal": 1,
         "macd_position": 1,
         "_deepnote_index_column": "2016-02-10T00:00:00.000000"
        },
        {
         "Close": 8.619999885559082,
         "macd": -0.7225469507734754,
         "signal": -0.7758045124749835,
         "macd_signal": 0,
         "macd_position": 1,
         "_deepnote_index_column": "2016-02-11T00:00:00.000000"
        },
        {
         "Close": 9.300000190734863,
         "macd": -0.6365353170436343,
         "signal": -0.7479506733887137,
         "macd_signal": 0,
         "macd_position": 1,
         "_deepnote_index_column": "2016-02-12T00:00:00.000000"
        },
        {
         "Close": 9.930000305175781,
         "macd": -0.5116369018065203,
         "signal": -0.700687919072275,
         "macd_signal": 0,
         "macd_position": 1,
         "_deepnote_index_column": "2016-02-16T00:00:00.000000"
        },
        {
         "Close": 9.84000015258789,
         "macd": -0.4151308974618715,
         "signal": -0.6435765147501944,
         "macd_signal": 0,
         "macd_position": 1,
         "_deepnote_index_column": "2016-02-17T00:00:00.000000"
        },
        {
         "Close": 9.979999542236328,
         "macd": -0.32362190118044154,
         "signal": -0.5795855920362438,
         "macd_signal": 0,
         "macd_position": 1,
         "_deepnote_index_column": "2016-02-18T00:00:00.000000"
        },
        {
         "Close": 9.970000267028809,
         "macd": -0.24903648272943357,
         "signal": -0.5134757701748818,
         "macd_signal": 0,
         "macd_position": 1,
         "_deepnote_index_column": "2016-02-19T00:00:00.000000"
        },
        {
         "Close": 10.380000114440918,
         "macd": -0.15505605044315196,
         "signal": -0.44179182622853586,
         "macd_signal": 0,
         "macd_position": 1,
         "_deepnote_index_column": "2016-02-22T00:00:00.000000"
        },
        {
         "Close": 9.710000038146973,
         "macd": -0.133104936641816,
         "signal": -0.3800544483111919,
         "macd_signal": 0,
         "macd_position": 1,
         "_deepnote_index_column": "2016-02-23T00:00:00.000000"
        },
        {
         "Close": 9.890000343322754,
         "macd": -0.10003090647983015,
         "signal": -0.3240497399449196,
         "macd_signal": 0,
         "macd_position": 1,
         "_deepnote_index_column": "2016-02-24T00:00:00.000000"
        },
        {
         "Close": 10.260000228881836,
         "macd": -0.0434625910492894,
         "signal": -0.26793231016579355,
         "macd_signal": 0,
         "macd_position": 1,
         "_deepnote_index_column": "2016-02-25T00:00:00.000000"
        },
        {
         "Close": 10.319999694824219,
         "macd": 0.006138896568891994,
         "signal": -0.21311806881885645,
         "macd_signal": 0,
         "macd_position": 1,
         "_deepnote_index_column": "2016-02-26T00:00:00.000000"
        },
        {
         "Close": 10.4399995803833,
         "macd": 0.05450314245031329,
         "signal": -0.15959382656502252,
         "macd_signal": 0,
         "macd_position": 1,
         "_deepnote_index_column": "2016-02-29T00:00:00.000000"
        },
        {
         "Close": 10.720000267028809,
         "macd": 0.11411047656331696,
         "signal": -0.10485296593935463,
         "macd_signal": 0,
         "macd_position": 1,
         "_deepnote_index_column": "2016-03-01T00:00:00.000000"
        },
        {
         "Close": 11.970000267028809,
         "macd": 0.25922607478218396,
         "signal": -0.032037157795046914,
         "macd_signal": 0,
         "macd_position": 1,
         "_deepnote_index_column": "2016-03-02T00:00:00.000000"
        },
        {
         "Close": 12.25,
         "macd": 0.39230264952364635,
         "signal": 0.05283080366869175,
         "macd_signal": 0,
         "macd_position": 1,
         "_deepnote_index_column": "2016-03-03T00:00:00.000000"
        },
        {
         "Close": 12.010000228881836,
         "macd": 0.4729489568299101,
         "signal": 0.13685443430093544,
         "macd_signal": 0,
         "macd_position": 1,
         "_deepnote_index_column": "2016-03-04T00:00:00.000000"
        },
        {
         "Close": 12.260000228881836,
         "macd": 0.5506866738723701,
         "signal": 0.21962088221522238,
         "macd_signal": 0,
         "macd_position": 1,
         "_deepnote_index_column": "2016-03-07T00:00:00.000000"
        },
        {
         "Close": 11.479999542236328,
         "macd": 0.543094384029386,
         "signal": 0.2843155825780551,
         "macd_signal": 0,
         "macd_position": 1,
         "_deepnote_index_column": "2016-03-08T00:00:00.000000"
        },
        {
         "Close": 12.029999732971191,
         "macd": 0.5748315580967311,
         "signal": 0.3424187776817903,
         "macd_signal": 0,
         "macd_position": 1,
         "_deepnote_index_column": "2016-03-09T00:00:00.000000"
        },
        {
         "Close": 11.300000190734863,
         "macd": 0.534912496710735,
         "signal": 0.3809175214875793,
         "macd_signal": 0,
         "macd_position": 1,
         "_deepnote_index_column": "2016-03-10T00:00:00.000000"
        },
        {
         "Close": 11.100000381469727,
         "macd": 0.48158660916824125,
         "signal": 0.4010513390237117,
         "macd_signal": 0,
         "macd_position": 1,
         "_deepnote_index_column": "2016-03-11T00:00:00.000000"
        },
        {
         "Close": 11.609999656677246,
         "macd": 0.4750026040256543,
         "signal": 0.41584159202410026,
         "macd_signal": 0,
         "macd_position": 1,
         "_deepnote_index_column": "2016-03-14T00:00:00.000000"
        },
        {
         "Close": 11.949999809265137,
         "macd": 0.49155357964430735,
         "signal": 0.4309839895481417,
         "macd_signal": 0,
         "macd_position": 1,
         "_deepnote_index_column": "2016-03-15T00:00:00.000000"
        },
        {
         "Close": 11.869999885559082,
         "macd": 0.49253735774340157,
         "signal": 0.44329466318719374,
         "macd_signal": 0,
         "macd_position": 1,
         "_deepnote_index_column": "2016-03-16T00:00:00.000000"
        },
        {
         "Close": 11.949999809265137,
         "macd": 0.4940769230141928,
         "signal": 0.45345111515259356,
         "macd_signal": 0,
         "macd_position": 1,
         "_deepnote_index_column": "2016-03-17T00:00:00.000000"
        },
        {
         "Close": 12.039999961853027,
         "macd": 0.496832128227501,
         "signal": 0.46212731776757504,
         "macd_signal": 0,
         "macd_position": 1,
         "_deepnote_index_column": "2016-03-18T00:00:00.000000"
        },
        {
         "Close": 13.399999618530273,
         "macd": 0.6018188612979074,
         "signal": 0.49006562647364155,
         "macd_signal": 0,
         "macd_position": 1,
         "_deepnote_index_column": "2016-03-21T00:00:00.000000"
        },
        {
         "Close": 13.0600004196167,
         "macd": 0.6500926464249446,
         "signal": 0.5220710304639022,
         "macd_signal": 0,
         "macd_position": 1,
         "_deepnote_index_column": "2016-03-22T00:00:00.000000"
        },
        {
         "Close": 12.59000015258789,
         "macd": 0.6430126260472484,
         "signal": 0.5462593495805715,
         "macd_signal": 0,
         "macd_position": 1,
         "_deepnote_index_column": "2016-03-23T00:00:00.000000"
        },
        {
         "Close": 12.880000114440918,
         "macd": 0.6532717224114357,
         "signal": 0.5676618241467444,
         "macd_signal": 0,
         "macd_position": 1,
         "_deepnote_index_column": "2016-03-24T00:00:00.000000"
        },
        {
         "Close": 13.399999618530273,
         "macd": 0.6953462259014849,
         "signal": 0.5931987044976925,
         "macd_signal": 0,
         "macd_position": 1,
         "_deepnote_index_column": "2016-03-28T00:00:00.000000"
        },
        {
         "Close": 13.739999771118164,
         "macd": 0.7475089262679209,
         "signal": 0.6240607488517382,
         "macd_signal": 0,
         "macd_position": 1,
         "_deepnote_index_column": "2016-03-29T00:00:00.000000"
        },
        {
         "Close": 15.020000457763672,
         "macd": 0.8819668354467591,
         "signal": 0.6756419661707425,
         "macd_signal": 0,
         "macd_position": 1,
         "_deepnote_index_column": "2016-03-30T00:00:00.000000"
        },
        {
         "Close": 15.279999732971191,
         "macd": 0.9980011300000484,
         "signal": 0.7401137989366037,
         "macd_signal": 0,
         "macd_position": 1,
         "_deepnote_index_column": "2016-03-31T00:00:00.000000"
        },
        {
         "Close": 14.220000267028809,
         "macd": 0.9929795956290146,
         "signal": 0.790686958275086,
         "macd_signal": 0,
         "macd_position": 1,
         "_deepnote_index_column": "2016-04-01T00:00:00.000000"
        },
        {
         "Close": 14.279999732971191,
         "macd": 0.9825156204490622,
         "signal": 0.8290526907098812,
         "macd_signal": 0,
         "macd_position": 1,
         "_deepnote_index_column": "2016-04-04T00:00:00.000000"
        },
        {
         "Close": 14.260000228881836,
         "macd": 0.9615251880536615,
         "signal": 0.8555471901786373,
         "macd_signal": 0,
         "macd_position": 1,
         "_deepnote_index_column": "2016-04-05T00:00:00.000000"
        },
        {
         "Close": 14.970000267028809,
         "macd": 0.9907603202678068,
         "signal": 0.8825898161964713,
         "macd_signal": 0,
         "macd_position": 1,
         "_deepnote_index_column": "2016-04-06T00:00:00.000000"
        },
        {
         "Close": 14.8100004196167,
         "macd": 0.9896111018925371,
         "signal": 0.9039940733356844,
         "macd_signal": 0,
         "macd_position": 1,
         "_deepnote_index_column": "2016-04-07T00:00:00.000000"
        },
        {
         "Close": 15.130000114440918,
         "macd": 1.0029601389133607,
         "signal": 0.9237872864512197,
         "macd_signal": 0,
         "macd_position": 1,
         "_deepnote_index_column": "2016-04-08T00:00:00.000000"
        },
        {
         "Close": 15.359999656677246,
         "macd": 1.0203365828099127,
         "signal": 0.9430971457229583,
         "macd_signal": 0,
         "macd_position": 1,
         "_deepnote_index_column": "2016-04-11T00:00:00.000000"
        },
        {
         "Close": 15.479999542236328,
         "macd": 1.0318954789237758,
         "signal": 0.9608568123631218,
         "macd_signal": 0,
         "macd_position": 1,
         "_deepnote_index_column": "2016-04-12T00:00:00.000000"
        },
        {
         "Close": 15.010000228881836,
         "macd": 0.9916992787576557,
         "signal": 0.9670253056420286,
         "macd_signal": 0,
         "macd_position": 1,
         "_deepnote_index_column": "2016-04-13T00:00:00.000000"
        },
        {
         "Close": 14.819999694824219,
         "macd": 0.9337483752980358,
         "signal": 0.96036991957323,
         "macd_signal": -1,
         "macd_position": 0,
         "_deepnote_index_column": "2016-04-14T00:00:00.000000"
        },
        {
         "Close": 14.329999923706055,
         "macd": 0.8386159378510385,
         "signal": 0.9360191232287918,
         "macd_signal": 0,
         "macd_position": 0,
         "_deepnote_index_column": "2016-04-15T00:00:00.000000"
        },
        {
         "Close": 14.510000228881836,
         "macd": 0.7688840988071437,
         "signal": 0.9025921183444622,
         "macd_signal": 0,
         "macd_position": 0,
         "_deepnote_index_column": "2016-04-18T00:00:00.000000"
        },
        {
         "Close": 14.09000015258789,
         "macd": 0.6719844000364041,
         "signal": 0.8564705746828507,
         "macd_signal": 0,
         "macd_position": 0,
         "_deepnote_index_column": "2016-04-19T00:00:00.000000"
        },
        {
         "Close": 13.630000114440918,
         "macd": 0.5517127310044554,
         "signal": 0.7955190059471717,
         "macd_signal": 0,
         "macd_position": 0,
         "_deepnote_index_column": "2016-04-20T00:00:00.000000"
        },
        {
         "Close": 13.239999771118164,
         "macd": 0.4200843278111748,
         "signal": 0.7204320703199724,
         "macd_signal": 0,
         "macd_position": 0,
         "_deepnote_index_column": "2016-04-21T00:00:00.000000"
        },
        {
         "Close": 13.34000015258789,
         "macd": 0.320146614112474,
         "signal": 0.6403749790784727,
         "macd_signal": 0,
         "macd_position": 0,
         "_deepnote_index_column": "2016-04-22T00:00:00.000000"
        }
       ],
       "rows_bottom": [
        {
         "Close": 224.83999633789062,
         "macd": -2.038496252291992,
         "signal": -1.4236251892683527,
         "macd_signal": -1,
         "macd_position": 0,
         "_deepnote_index_column": "2021-03-19T00:00:00.000000"
        },
        {
         "Close": 226.1300048828125,
         "macd": -2.5850089548361836,
         "signal": -1.6559019423819188,
         "macd_signal": 0,
         "macd_position": 0,
         "_deepnote_index_column": "2021-03-22T00:00:00.000000"
        },
        {
         "Close": 223.1999969482422,
         "macd": -3.2174624578227053,
         "signal": -1.9682140454700763,
         "macd_signal": 0,
         "macd_position": 0,
         "_deepnote_index_column": "2021-03-23T00:00:00.000000"
        },
        {
         "Close": 213.50999450683594,
         "macd": -4.449299870498976,
         "signal": -2.4644312104758566,
         "macd_signal": 0,
         "macd_position": 0,
         "_deepnote_index_column": "2021-03-24T00:00:00.000000"
        },
        {
         "Close": 208.47000122070312,
         "macd": -5.765761126953947,
         "signal": -3.1246971937714747,
         "macd_signal": 0,
         "macd_position": 0,
         "_deepnote_index_column": "2021-03-25T00:00:00.000000"
        },
        {
         "Close": 213.60000610351562,
         "macd": -6.322238803018223,
         "signal": -3.7642055156208247,
         "macd_signal": 0,
         "macd_position": 0,
         "_deepnote_index_column": "2021-03-26T00:00:00.000000"
        },
        {
         "Close": 207.17999267578125,
         "macd": -7.198315104106996,
         "signal": -4.451027433318059,
         "macd_signal": 0,
         "macd_position": 0,
         "_deepnote_index_column": "2021-03-29T00:00:00.000000"
        },
        {
         "Close": 212.8300018310547,
         "macd": -7.351954608481151,
         "signal": -5.031212868350678,
         "macd_signal": 0,
         "macd_position": 0,
         "_deepnote_index_column": "2021-03-30T00:00:00.000000"
        },
        {
         "Close": 227.0500030517578,
         "macd": -6.2541854093053075,
         "signal": -5.275807376541604,
         "macd_signal": 0,
         "macd_position": 0,
         "_deepnote_index_column": "2021-03-31T00:00:00.000000"
        },
        {
         "Close": 229.50999450683594,
         "macd": -5.1265984231151265,
         "signal": -5.245965585856308,
         "macd_signal": 1,
         "macd_position": 1,
         "_deepnote_index_column": "2021-04-01T00:00:00.000000"
        },
        {
         "Close": 229.9499969482422,
         "macd": -4.149638641764284,
         "signal": -5.026700197037903,
         "macd_signal": 0,
         "macd_position": 1,
         "_deepnote_index_column": "2021-04-05T00:00:00.000000"
        },
        {
         "Close": 236.5,
         "macd": -2.8144176164430235,
         "signal": -4.584243680918927,
         "macd_signal": 0,
         "macd_position": 1,
         "_deepnote_index_column": "2021-04-06T00:00:00.000000"
        },
        {
         "Close": 245.1199951171875,
         "macd": -1.0485962041627772,
         "signal": -3.8771141855676974,
         "macd_signal": 0,
         "macd_position": 1,
         "_deepnote_index_column": "2021-04-07T00:00:00.000000"
        },
        {
         "Close": 258.3699951171875,
         "macd": 1.4038119815743073,
         "signal": -2.8209289521392966,
         "macd_signal": 0,
         "macd_position": 1,
         "_deepnote_index_column": "2021-04-08T00:00:00.000000"
        },
        {
         "Close": 261.6499938964844,
         "macd": 3.5708688732316034,
         "signal": -1.5425693870651167,
         "macd_signal": 0,
         "macd_position": 1,
         "_deepnote_index_column": "2021-04-09T00:00:00.000000"
        },
        {
         "Close": 265.20001220703125,
         "macd": 5.511204150747687,
         "signal": -0.1318146795025561,
         "macd_signal": 0,
         "macd_position": 1,
         "_deepnote_index_column": "2021-04-12T00:00:00.000000"
        },
        {
         "Close": 273.2300109863281,
         "macd": 7.6091738103894215,
         "signal": 1.4163830184758397,
         "macd_signal": 0,
         "macd_position": 1,
         "_deepnote_index_column": "2021-04-13T00:00:00.000000"
        },
        {
         "Close": 258.3999938964844,
         "macd": 7.983146695415883,
         "signal": 2.7297357538638485,
         "macd_signal": 0,
         "macd_position": 1,
         "_deepnote_index_column": "2021-04-14T00:00:00.000000"
        },
        {
         "Close": 263.0799865722656,
         "macd": 8.55850211285886,
         "signal": 3.895489025662851,
         "macd_signal": 0,
         "macd_position": 1,
         "_deepnote_index_column": "2021-04-15T00:00:00.000000"
        },
        {
         "Close": 256.1000061035156,
         "macd": 8.35493880294544,
         "signal": 4.787378981119369,
         "macd_signal": 0,
         "macd_position": 1,
         "_deepnote_index_column": "2021-04-16T00:00:00.000000"
        },
        {
         "Close": 245.3300018310547,
         "macd": 7.241093261444348,
         "signal": 5.278121837184365,
         "macd_signal": 0,
         "macd_position": 1,
         "_deepnote_index_column": "2021-04-19T00:00:00.000000"
        },
        {
         "Close": 245.5,
         "macd": 6.299463779312987,
         "signal": 5.482390225610089,
         "macd_signal": 0,
         "macd_position": 1,
         "_deepnote_index_column": "2021-04-20T00:00:00.000000"
        },
        {
         "Close": 245.25,
         "macd": 5.469988102095385,
         "signal": 5.479909800907149,
         "macd_signal": -1,
         "macd_position": 0,
         "_deepnote_index_column": "2021-04-21T00:00:00.000000"
        },
        {
         "Close": 245.11000061035156,
         "macd": 4.746609906786631,
         "signal": 5.3332498220830455,
         "macd_signal": 0,
         "macd_position": 0,
         "_deepnote_index_column": "2021-04-22T00:00:00.000000"
        },
        {
         "Close": 246.42999267578125,
         "macd": 4.231066700219628,
         "signal": 5.112813197710363,
         "macd_signal": 0,
         "macd_position": 0,
         "_deepnote_index_column": "2021-04-23T00:00:00.000000"
        },
        {
         "Close": 255.77000427246094,
         "macd": 4.524005948368398,
         "signal": 4.99505174784197,
         "macd_signal": 0,
         "macd_position": 0,
         "_deepnote_index_column": "2021-04-26T00:00:00.000000"
        },
        {
         "Close": 253.7899932861328,
         "macd": 4.544011537628393,
         "signal": 4.904843705799254,
         "macd_signal": 0,
         "macd_position": 0,
         "_deepnote_index_column": "2021-04-27T00:00:00.000000"
        },
        {
         "Close": 254.1999969482422,
         "macd": 4.540608669921937,
         "signal": 4.831996698623791,
         "macd_signal": 0,
         "macd_position": 0,
         "_deepnote_index_column": "2021-04-28T00:00:00.000000"
        },
        {
         "Close": 247.75999450683594,
         "macd": 3.972465388844057,
         "signal": 4.660090436667844,
         "macd_signal": 0,
         "macd_position": 0,
         "_deepnote_index_column": "2021-04-29T00:00:00.000000"
        },
        {
         "Close": 244.82000732421875,
         "macd": 3.247539733672909,
         "signal": 4.3775802960688575,
         "macd_signal": 0,
         "macd_position": 0,
         "_deepnote_index_column": "2021-04-30T00:00:00.000000"
        },
        {
         "Close": 243.67999267578125,
         "macd": 2.551627698735558,
         "signal": 4.012389776602197,
         "macd_signal": 0,
         "macd_position": 0,
         "_deepnote_index_column": "2021-05-03T00:00:00.000000"
        },
        {
         "Close": 231.19000244140625,
         "macd": 0.9809665962706049,
         "signal": 3.406105140535879,
         "macd_signal": 0,
         "macd_position": 0,
         "_deepnote_index_column": "2021-05-04T00:00:00.000000"
        },
        {
         "Close": 231.8699951171875,
         "macd": -0.2065430180914234,
         "signal": 2.683575508810419,
         "macd_signal": 0,
         "macd_position": 0,
         "_deepnote_index_column": "2021-05-05T00:00:00.000000"
        },
        {
         "Close": 223.9600067138672,
         "macd": -1.7655705029067121,
         "signal": 1.7937463064669927,
         "macd_signal": 0,
         "macd_position": 0,
         "_deepnote_index_column": "2021-05-06T00:00:00.000000"
        },
        {
         "Close": 233.35000610351562,
         "macd": -2.217850541090229,
         "signal": 0.9914269369555484,
         "macd_signal": 0,
         "macd_position": 0,
         "_deepnote_index_column": "2021-05-07T00:00:00.000000"
        },
        {
         "Close": 216.42999267578125,
         "macd": -3.8966710092175276,
         "signal": 0.013807347720933172,
         "macd_signal": 0,
         "macd_position": 0,
         "_deepnote_index_column": "2021-05-10T00:00:00.000000"
        },
        {
         "Close": 220.64999389648438,
         "macd": -4.830941409554981,
         "signal": -0.9551424037342497,
         "macd_signal": 0,
         "macd_position": 0,
         "_deepnote_index_column": "2021-05-11T00:00:00.000000"
        },
        {
         "Close": 206.6699981689453,
         "macd": -6.623079514471442,
         "signal": -2.088729825881688,
         "macd_signal": 0,
         "macd_position": 0,
         "_deepnote_index_column": "2021-05-12T00:00:00.000000"
        },
        {
         "Close": 197.1300048828125,
         "macd": -8.71272473614053,
         "signal": -3.4135288079334565,
         "macd_signal": 0,
         "macd_position": 0,
         "_deepnote_index_column": "2021-05-13T00:00:00.000000"
        },
        {
         "Close": 207.85000610351562,
         "macd": -9.395464060456078,
         "signal": -4.609915858437981,
         "macd_signal": 0,
         "macd_position": 0,
         "_deepnote_index_column": "2021-05-14T00:00:00.000000"
        },
        {
         "Close": 202.9199981689453,
         "macd": -10.216579958213686,
         "signal": -5.731248678393122,
         "macd_signal": 0,
         "macd_position": 0,
         "_deepnote_index_column": "2021-05-17T00:00:00.000000"
        },
        {
         "Close": 203.16000366210938,
         "macd": -10.724330380555244,
         "signal": -6.7298650188255476,
         "macd_signal": 0,
         "macd_position": 0,
         "_deepnote_index_column": "2021-05-18T00:00:00.000000"
        },
        {
         "Close": 200.11000061035156,
         "macd": -11.243231036027964,
         "signal": -7.632538222266032,
         "macd_signal": 0,
         "macd_position": 0,
         "_deepnote_index_column": "2021-05-19T00:00:00.000000"
        },
        {
         "Close": 204.91000366210938,
         "macd": -11.138742918254906,
         "signal": -8.333779161463807,
         "macd_signal": 0,
         "macd_position": 0,
         "_deepnote_index_column": "2021-05-20T00:00:00.000000"
        },
        {
         "Close": 200.00999450683594,
         "macd": -11.3208256883035,
         "signal": -8.931188466831747,
         "macd_signal": 0,
         "macd_position": 0,
         "_deepnote_index_column": "2021-05-21T00:00:00.000000"
        },
        {
         "Close": 210.9499969482422,
         "macd": -10.461764123205995,
         "signal": -9.237303598106598,
         "macd_signal": 0,
         "macd_position": 0,
         "_deepnote_index_column": "2021-05-24T00:00:00.000000"
        },
        {
         "Close": 216.1999969482422,
         "macd": -9.25068438846344,
         "signal": -9.239979756177966,
         "macd_signal": 0,
         "macd_position": 0,
         "_deepnote_index_column": "2021-05-25T00:00:00.000000"
        },
        {
         "Close": 222.33999633789062,
         "macd": -7.706611318610982,
         "signal": -8.93330606866457,
         "macd_signal": 1,
         "macd_position": 1,
         "_deepnote_index_column": "2021-05-26T00:00:00.000000"
        },
        {
         "Close": 220.89999389648438,
         "macd": -6.523914819680812,
         "signal": -8.45142781886782,
         "macd_signal": 0,
         "macd_position": 1,
         "_deepnote_index_column": "2021-05-27T00:00:00.000000"
        },
        {
         "Close": 222.52000427246094,
         "macd": -5.393722548991747,
         "signal": -7.839886764892606,
         "macd_signal": 0,
         "macd_position": 1,
         "_deepnote_index_column": "2021-05-28T00:00:00.000000"
        },
        {
         "Close": 221.9499969482422,
         "macd": -4.492248020338366,
         "signal": -7.1703590159817585,
         "macd_signal": 0,
         "macd_position": 1,
         "_deepnote_index_column": "2021-06-01T00:00:00.000000"
        },
        {
         "Close": 220.41000366210938,
         "macd": -3.8576193153545546,
         "signal": -6.507811075856318,
         "macd_signal": 0,
         "macd_position": 1,
         "_deepnote_index_column": "2021-06-02T00:00:00.000000"
        },
        {
         "Close": 211.42999267578125,
         "macd": -4.032795772577401,
         "signal": -6.012808015200535,
         "macd_signal": 0,
         "macd_position": 1,
         "_deepnote_index_column": "2021-06-03T00:00:00.000000"
        },
        {
         "Close": 213.69000244140625,
         "macd": -3.943798818755397,
         "signal": -5.599006175911507,
         "macd_signal": 0,
         "macd_position": 1,
         "_deepnote_index_column": "2021-06-04T00:00:00.000000"
        },
        {
         "Close": 216.9499969482422,
         "macd": -3.5690717424947707,
         "signal": -5.19301928922816,
         "macd_signal": 0,
         "macd_position": 1,
         "_deepnote_index_column": "2021-06-07T00:00:00.000000"
        },
        {
         "Close": 214.1199951171875,
         "macd": -3.4605641024032536,
         "signal": -4.8465282518631785,
         "macd_signal": 0,
         "macd_position": 1,
         "_deepnote_index_column": "2021-06-08T00:00:00.000000"
        },
        {
         "Close": 210.2100067138672,
         "macd": -3.6480222729394143,
         "signal": -4.6068270560784255,
         "macd_signal": 0,
         "macd_position": 1,
         "_deepnote_index_column": "2021-06-09T00:00:00.000000"
        },
        {
         "Close": 217.13999938964844,
         "macd": -3.2004983780214786,
         "signal": -4.3255613204670365,
         "macd_signal": 0,
         "macd_position": 1,
         "_deepnote_index_column": "2021-06-10T00:00:00.000000"
        },
        {
         "Close": 219.33999633789062,
         "macd": -2.6379029957841738,
         "signal": -3.988029655530464,
         "macd_signal": 0,
         "macd_position": 1,
         "_deepnote_index_column": "2021-06-11T00:00:00.000000"
        },
        {
         "Close": 230.9499969482422,
         "macd": -1.240907670461553,
         "signal": -3.438605258516682,
         "macd_signal": 0,
         "macd_position": 1,
         "_deepnote_index_column": "2021-06-14T00:00:00.000000"
        },
        {
         "Close": 227.75,
         "macd": -0.3875246773140191,
         "signal": -2.82838914227615,
         "macd_signal": 0,
         "macd_position": 1,
         "_deepnote_index_column": "2021-06-15T00:00:00.000000"
        },
        {
         "Close": 225.11000061035156,
         "macd": 0.07489822557678849,
         "signal": -2.2477316687055624,
         "macd_signal": 0,
         "macd_position": 1,
         "_deepnote_index_column": "2021-06-16T00:00:00.000000"
        },
        {
         "Close": 236.1300048828125,
         "macd": 1.315430490595503,
         "signal": -1.5350992368453495,
         "macd_signal": 0,
         "macd_position": 1,
         "_deepnote_index_column": "2021-06-17T00:00:00.000000"
        },
        {
         "Close": 237.0500030517578,
         "macd": 2.3457569853198095,
         "signal": -0.7589279924123179,
         "macd_signal": 0,
         "macd_position": 1,
         "_deepnote_index_column": "2021-06-18T00:00:00.000000"
        },
        {
         "Close": 233.88999938964844,
         "macd": 2.8741805054589804,
         "signal": -0.032306292838058304,
         "macd_signal": 0,
         "macd_position": 1,
         "_deepnote_index_column": "2021-06-21T00:00:00.000000"
        },
        {
         "Close": 235.97000122070312,
         "macd": 3.421359415105627,
         "signal": 0.6584268487506788,
         "macd_signal": 0,
         "macd_position": 1,
         "_deepnote_index_column": "2021-06-22T00:00:00.000000"
        },
        {
         "Close": 238.6999969482422,
         "macd": 4.028848426112688,
         "signal": 1.3325111642230807,
         "macd_signal": 0,
         "macd_position": 1,
         "_deepnote_index_column": "2021-06-23T00:00:00.000000"
        },
        {
         "Close": 244.14999389648438,
         "macd": 4.89364614370038,
         "signal": 2.044738160118541,
         "macd_signal": 0,
         "macd_position": 1,
         "_deepnote_index_column": "2021-06-24T00:00:00.000000"
        },
        {
         "Close": 239.94000244140625,
         "macd": 5.1795863916195515,
         "signal": 2.671707806418743,
         "macd_signal": 0,
         "macd_position": 1,
         "_deepnote_index_column": "2021-06-25T00:00:00.000000"
        },
        {
         "Close": 246.60000610351562,
         "macd": 5.875869369255867,
         "signal": 3.312540118986168,
         "macd_signal": 0,
         "macd_position": 1,
         "_deepnote_index_column": "2021-06-28T00:00:00.000000"
        },
        {
         "Close": 248.8699951171875,
         "macd": 6.535510491067214,
         "signal": 3.9571341934023776,
         "macd_signal": 0,
         "macd_position": 1,
         "_deepnote_index_column": "2021-06-29T00:00:00.000000"
        },
        {
         "Close": 243.8000030517578,
         "macd": 6.573400772268968,
         "signal": 4.480387509175696,
         "macd_signal": 0,
         "macd_position": 1,
         "_deepnote_index_column": "2021-06-30T00:00:00.000000"
        },
        {
         "Close": 241.85000610351562,
         "macd": 6.3726210277978055,
         "signal": 4.858834212900118,
         "macd_signal": 0,
         "macd_position": 1,
         "_deepnote_index_column": "2021-07-01T00:00:00.000000"
        },
        {
         "Close": 241.0800018310547,
         "macd": 6.081267656089352,
         "signal": 5.103320901537965,
         "macd_signal": 0,
         "macd_position": 1,
         "_deepnote_index_column": "2021-07-02T00:00:00.000000"
        },
        {
         "Close": 246.6999969482422,
         "macd": 6.23201584821777,
         "signal": 5.329059890873927,
         "macd_signal": 0,
         "macd_position": 1,
         "_deepnote_index_column": "2021-07-06T00:00:00.000000"
        },
        {
         "Close": 244.63999938964844,
         "macd": 6.114772992952311,
         "signal": 5.486202511289604,
         "macd_signal": 0,
         "macd_position": 1,
         "_deepnote_index_column": "2021-07-07T00:00:00.000000"
        },
        {
         "Close": 235.89999389648438,
         "macd": 5.25602361694547,
         "signal": 5.440166732420777,
         "macd_signal": -1,
         "macd_position": 0,
         "_deepnote_index_column": "2021-07-08T00:00:00.000000"
        },
        {
         "Close": 241.88999938964844,
         "macd": 5.001151767768619,
         "signal": 5.352363739490345,
         "macd_signal": 0,
         "macd_position": 0,
         "_deepnote_index_column": "2021-07-09T00:00:00.000000"
        },
        {
         "Close": 243.35000610351562,
         "macd": 4.860940435556586,
         "signal": 5.254079078703594,
         "macd_signal": 0,
         "macd_position": 0,
         "_deepnote_index_column": "2021-07-12T00:00:00.000000"
        },
        {
         "Close": 241.42999267578125,
         "macd": 4.542529455279947,
         "signal": 5.111769154018865,
         "macd_signal": 0,
         "macd_position": 0,
         "_deepnote_index_column": "2021-07-13T00:00:00.000000"
        },
        {
         "Close": 239,
         "macd": 4.047449876023364,
         "signal": 4.8989052984197645,
         "macd_signal": 0,
         "macd_position": 0,
         "_deepnote_index_column": "2021-07-14T00:00:00.000000"
        },
        {
         "Close": 235.16000366210938,
         "macd": 3.3071177356797534,
         "signal": 4.5805477858717625,
         "macd_signal": 0,
         "macd_position": 0,
         "_deepnote_index_column": "2021-07-15T00:00:00.000000"
        },
        {
         "Close": 237.52000427246094,
         "macd": 2.877659637539125,
         "signal": 4.239970156205235,
         "macd_signal": 0,
         "macd_position": 0,
         "_deepnote_index_column": "2021-07-16T00:00:00.000000"
        },
        {
         "Close": 233.69000244140625,
         "macd": 2.202868564011027,
         "signal": 3.8325498377663934,
         "macd_signal": 0,
         "macd_position": 0,
         "_deepnote_index_column": "2021-07-19T00:00:00.000000"
        },
        {
         "Close": 246.47000122070312,
         "macd": 2.6685692658459175,
         "signal": 3.5997537233822983,
         "macd_signal": 0,
         "macd_position": 0,
         "_deepnote_index_column": "2021-07-20T00:00:00.000000"
        },
        {
         "Close": 257.25,
         "macd": 3.862966364881572,
         "signal": 3.6523962516821533,
         "macd_signal": 1,
         "macd_position": 1,
         "_deepnote_index_column": "2021-07-21T00:00:00.000000"
        },
        {
         "Close": 260.5899963378906,
         "macd": 5.021163613417826,
         "signal": 3.9261497240292877,
         "macd_signal": 0,
         "macd_position": 1,
         "_deepnote_index_column": "2021-07-22T00:00:00.000000"
        },
        {
         "Close": 264,
         "macd": 6.143384956531406,
         "signal": 4.369596770529712,
         "macd_signal": 0,
         "macd_position": 1,
         "_deepnote_index_column": "2021-07-23T00:00:00.000000"
        },
        {
         "Close": 261.989990234375,
         "macd": 6.792265458219731,
         "signal": 4.8541305080677155,
         "macd_signal": 0,
         "macd_position": 1,
         "_deepnote_index_column": "2021-07-26T00:00:00.000000"
        },
        {
         "Close": 251.72999572753906,
         "macd": 6.40478178283513,
         "signal": 5.164260763021199,
         "macd_signal": 0,
         "macd_position": 1,
         "_deepnote_index_column": "2021-07-27T00:00:00.000000"
        },
        {
         "Close": 258.6099853515625,
         "macd": 6.577039821611635,
         "signal": 5.4468165747392865,
         "macd_signal": 0,
         "macd_position": 1,
         "_deepnote_index_column": "2021-07-28T00:00:00.000000"
        },
        {
         "Close": 255.27999877929688,
         "macd": 6.371407848260219,
         "signal": 5.631734829443474,
         "macd_signal": 0,
         "macd_position": 1,
         "_deepnote_index_column": "2021-07-29T00:00:00.000000"
        },
        {
         "Close": 247.25999450683594,
         "macd": 5.497919119788463,
         "signal": 5.604971687512473,
         "macd_signal": -1,
         "macd_position": 0,
         "_deepnote_index_column": "2021-07-30T00:00:00.000000"
        },
        {
         "Close": 272.3800048828125,
         "macd": 6.754782976536205,
         "signal": 5.8349339453172195,
         "macd_signal": 1,
         "macd_position": 1,
         "_deepnote_index_column": "2021-08-02T00:00:00.000000"
        },
        {
         "Close": 269.489990234375,
         "macd": 7.431985308568244,
         "signal": 6.154344217967425,
         "macd_signal": 0,
         "macd_position": 1,
         "_deepnote_index_column": "2021-08-03T00:00:00.000000"
        },
        {
         "Close": 266.4200134277344,
         "macd": 7.632963512239485,
         "signal": 6.450068076821837,
         "macd_signal": 0,
         "macd_position": 1,
         "_deepnote_index_column": "2021-08-04T00:00:00.000000"
        },
        {
         "Close": 281.80999755859375,
         "macd": 8.931130770429434,
         "signal": 6.9462806155433565,
         "macd_signal": 0,
         "macd_position": 1,
         "_deepnote_index_column": "2021-08-05T00:00:00.000000"
        },
        {
         "Close": 275.1000061035156,
         "macd": 9.31116413845885,
         "signal": 7.419257320126455,
         "macd_signal": 0,
         "macd_position": 1,
         "_deepnote_index_column": "2021-08-06T00:00:00.000000"
        },
        {
         "Close": 279.7300109863281,
         "macd": 9.87214606544751,
         "signal": 7.909835069190667,
         "macd_signal": 0,
         "macd_position": 1,
         "_deepnote_index_column": "2021-08-09T00:00:00.000000"
        },
        {
         "Close": 273.0799865722656,
         "macd": 9.668672453100896,
         "signal": 8.261602545972714,
         "macd_signal": 0,
         "macd_position": 1,
         "_deepnote_index_column": "2021-08-10T00:00:00.000000"
        }
       ]
      },
      "text/plain": "                 Close      macd    signal  macd_signal  macd_position\nDate                                                                  \n2015-11-30   12.040000  0.000000  0.000000            0              1\n2015-12-01   11.910000 -0.010370 -0.002074           -1              0\n2015-12-02   11.930000 -0.016782 -0.005016            0              0\n2015-12-03   11.920000 -0.022411 -0.008495            0              0\n2015-12-04   12.040000 -0.016994 -0.010195            0              0\n...                ...       ...       ...          ...            ...\n2021-08-04  266.420013  7.632964  6.450068            0              1\n2021-08-05  281.809998  8.931131  6.946281            0              1\n2021-08-06  275.100006  9.311164  7.419257            0              1\n2021-08-09  279.730011  9.872146  7.909835            0              1\n2021-08-10  273.079987  9.668672  8.261603            0              1\n\n[1434 rows x 5 columns]",
      "text/html": "<div>\n<style scoped>\n    .dataframe tbody tr th:only-of-type {\n        vertical-align: middle;\n    }\n\n    .dataframe tbody tr th {\n        vertical-align: top;\n    }\n\n    .dataframe thead th {\n        text-align: right;\n    }\n</style>\n<table border=\"1\" class=\"dataframe\">\n  <thead>\n    <tr style=\"text-align: right;\">\n      <th></th>\n      <th>Close</th>\n      <th>macd</th>\n      <th>signal</th>\n      <th>macd_signal</th>\n      <th>macd_position</th>\n    </tr>\n    <tr>\n      <th>Date</th>\n      <th></th>\n      <th></th>\n      <th></th>\n      <th></th>\n      <th></th>\n    </tr>\n  </thead>\n  <tbody>\n    <tr>\n      <th>2015-11-30</th>\n      <td>12.040000</td>\n      <td>0.000000</td>\n      <td>0.000000</td>\n      <td>0</td>\n      <td>1</td>\n    </tr>\n    <tr>\n      <th>2015-12-01</th>\n      <td>11.910000</td>\n      <td>-0.010370</td>\n      <td>-0.002074</td>\n      <td>-1</td>\n      <td>0</td>\n    </tr>\n    <tr>\n      <th>2015-12-02</th>\n      <td>11.930000</td>\n      <td>-0.016782</td>\n      <td>-0.005016</td>\n      <td>0</td>\n      <td>0</td>\n    </tr>\n    <tr>\n      <th>2015-12-03</th>\n      <td>11.920000</td>\n      <td>-0.022411</td>\n      <td>-0.008495</td>\n      <td>0</td>\n      <td>0</td>\n    </tr>\n    <tr>\n      <th>2015-12-04</th>\n      <td>12.040000</td>\n      <td>-0.016994</td>\n      <td>-0.010195</td>\n      <td>0</td>\n      <td>0</td>\n    </tr>\n    <tr>\n      <th>...</th>\n      <td>...</td>\n      <td>...</td>\n      <td>...</td>\n      <td>...</td>\n      <td>...</td>\n    </tr>\n    <tr>\n      <th>2021-08-04</th>\n      <td>266.420013</td>\n      <td>7.632964</td>\n      <td>6.450068</td>\n      <td>0</td>\n      <td>1</td>\n    </tr>\n    <tr>\n      <th>2021-08-05</th>\n      <td>281.809998</td>\n      <td>8.931131</td>\n      <td>6.946281</td>\n      <td>0</td>\n      <td>1</td>\n    </tr>\n    <tr>\n      <th>2021-08-06</th>\n      <td>275.100006</td>\n      <td>9.311164</td>\n      <td>7.419257</td>\n      <td>0</td>\n      <td>1</td>\n    </tr>\n    <tr>\n      <th>2021-08-09</th>\n      <td>279.730011</td>\n      <td>9.872146</td>\n      <td>7.909835</td>\n      <td>0</td>\n      <td>1</td>\n    </tr>\n    <tr>\n      <th>2021-08-10</th>\n      <td>273.079987</td>\n      <td>9.668672</td>\n      <td>8.261603</td>\n      <td>0</td>\n      <td>1</td>\n    </tr>\n  </tbody>\n</table>\n<p>1434 rows × 5 columns</p>\n</div>"
     },
     "metadata": {}
    }
   ],
   "execution_count": null
  },
  {
   "cell_type": "code",
   "metadata": {
    "tags": [],
    "deepnote_to_be_reexecuted": false,
    "source_hash": "6bae6dee",
    "execution_start": 1629252696471,
    "execution_millis": 40,
    "cell_id": "00008-7711c929-a84e-438e-a391-212e5173bb73",
    "deepnote_cell_type": "code"
   },
   "source": "\nsq_ret = pd.DataFrame(np.diff(sq_daily['Close'])).rename(columns = {0:'returns'})\nmacd_strategy_ret = []\n\nfor i in range(len(sq_ret)):\n    try:\n        returns = sq_ret['returns'][i]*strategy['macd_position'][i]\n        macd_strategy_ret.append(returns)\n    except:\n        pass\n    \nmacd_strategy_ret_df = pd.DataFrame(macd_strategy_ret).rename(columns = {0:'macd_returns'})\n\ninvestment_value = 100000\nnumber_of_stocks = floor(investment_value/sq_daily['Close'][-1])\nmacd_investment_ret = []\n\nfor i in range(len(macd_strategy_ret_df['macd_returns'])):\n    returns = number_of_stocks*macd_strategy_ret_df['macd_returns'][i]\n    macd_investment_ret.append(returns)\n\nmacd_investment_ret_df = pd.DataFrame(macd_investment_ret).rename(columns = {0:'investment_returns'})\ntotal_investment_ret = round(sum(macd_investment_ret_df['investment_returns']), 2)\nprofit_percentage = floor((total_investment_ret/investment_value)*100)\nprint(cl('Profit gained from the MACD strategy by investing $100k in SQ : {}'.format(total_investment_ret), attrs = ['bold']))\nprint(cl('Profit percentage of the MACD strategy : {}%'.format(profit_percentage), attrs = ['bold']))",
   "outputs": [
    {
     "name": "stdout",
     "text": "\u001b[1mProfit gained from the MACD strategy by investing $100k in SQ : 34674.84\u001b[0m\n\u001b[1mProfit percentage of the MACD strategy : 34%\u001b[0m\n",
     "output_type": "stream"
    }
   ],
   "execution_count": null
  },
  {
   "cell_type": "code",
   "metadata": {
    "tags": [],
    "deepnote_to_be_reexecuted": false,
    "source_hash": "7a6cf514",
    "execution_start": 1629252696509,
    "execution_millis": 35,
    "cell_id": "00009-9b2b6a5f-39ce-4713-bbac-b6fcddaece25",
    "deepnote_cell_type": "code"
   },
   "source": "strategy.to_csv('SQ 1D MACD TRADE STRATEGY.csv')",
   "outputs": [],
   "execution_count": null
  },
  {
   "cell_type": "markdown",
   "source": "<a style='text-decoration:none;line-height:16px;display:flex;color:#5B5B62;padding:10px;justify-content:end;' href='https://deepnote.com?utm_source=created-in-deepnote-cell&projectId=d12c285c-6789-4c45-9ad7-1be9b4d60622' target=\"_blank\">\n<img alt='Created in deepnote.com' style='display:inline;max-height:16px;margin:0px;margin-right:7.5px;' src='data:image/svg+xml;base64,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' > </img>\nCreated in <span style='font-weight:600;margin-left:4px;'>Deepnote</span></a>",
   "metadata": {
    "tags": [],
    "created_in_deepnote_cell": true,
    "deepnote_cell_type": "markdown"
   }
  }
 ],
 "nbformat": 4,
 "nbformat_minor": 2,
 "metadata": {
  "orig_nbformat": 2,
  "deepnote": {
   "is_reactive": false
  },
  "deepnote_notebook_id": "ebb8f04f-d6fa-4f5e-a8de-55ef5e057fbe",
  "deepnote_execution_queue": []
 }
}