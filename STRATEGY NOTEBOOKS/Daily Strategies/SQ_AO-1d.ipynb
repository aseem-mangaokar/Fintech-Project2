{
 "cells": [
  {
   "cell_type": "code",
   "metadata": {
    "tags": [],
    "deepnote_to_be_reexecuted": false,
    "source_hash": "a5a01c72",
    "execution_start": 1629328328344,
    "execution_millis": 442,
    "cell_id": "00000-44482bb8-9662-4086-b9a5-012b8f65dd66",
    "deepnote_cell_type": "code"
   },
   "source": "import pandas as pd\nimport requests\nimport numpy as np\nimport matplotlib.pyplot as plt\nimport yfinance as yf\nfrom math import floor\nfrom termcolor import colored as cl\n\nplt.rcParams['figure.figsize'] = (20, 10)\nplt.style.use('fivethirtyeight')",
   "outputs": [],
   "execution_count": null
  },
  {
   "cell_type": "code",
   "metadata": {
    "tags": [],
    "deepnote_to_be_reexecuted": false,
    "source_hash": "8ceb62c8",
    "execution_start": 1629328328791,
    "execution_millis": 304,
    "cell_id": "00001-641c1eea-dfd0-46dc-947d-e6c125905153",
    "deepnote_cell_type": "code"
   },
   "source": "sq_1d = yf.download(tickers='SQ', start='2019-09-01', end = '2021-08-11', interval='1d')\nsq_1d .drop(columns = ['Adj Close'], inplace = True)\nsq_1d .reset_index(inplace = True)\nsq_1d .rename(columns = {'index' : \"Date\"}, inplace = True)\nsq_1d .set_index(pd.to_datetime(sq_1d ['Date'], infer_datetime_format=True), inplace=True)\nsq_1d .drop(columns = 'Date', inplace = True)\nsq_1d ",
   "outputs": [],
   "execution_count": null
  },
  {
   "cell_type": "code",
   "metadata": {
    "tags": [],
    "deepnote_to_be_reexecuted": false,
    "source_hash": "e7016d15",
    "execution_start": 1629328329103,
    "execution_millis": 55,
    "cell_id": "00002-914d0e41-d61c-4be6-b6e4-28cdda874e4b",
    "deepnote_cell_type": "code"
   },
   "source": "def sma(price, period):\n    sma = price.rolling(period).mean()\n    return sma\n\ndef ao(price, period1, period2):\n    median = price.rolling(2).median()\n    short = sma(median, period1)\n    long = sma(median, period2)\n    ao = short - long\n    ao_df = pd.DataFrame(ao).rename(columns = {'Close':'ao'})\n    return ao_df\n\nsq_1d['ao'] = ao(sq_1d['Close'], 5, 34)\nsq_1d = sq_1d.dropna()\nsq_1d.tail()",
   "outputs": [
    {
     "output_type": "execute_result",
     "execution_count": 3,
     "data": {
      "application/vnd.deepnote.dataframe.v2+json": {
       "row_count": 5,
       "column_count": 6,
       "columns": [
        {
         "name": "Open",
         "dtype": "float64",
         "stats": {
          "unique_count": 5,
          "nan_count": 0,
          "min": "265.6000061035156",
          "max": "280.010009765625",
          "histogram": [
           {
            "bin_start": 265.6000061035156,
            "bin_end": 267.04100646972654,
            "count": 1
           },
           {
            "bin_start": 267.04100646972654,
            "bin_end": 268.4820068359375,
            "count": 1
           },
           {
            "bin_start": 268.4820068359375,
            "bin_end": 269.9230072021484,
            "count": 0
           },
           {
            "bin_start": 269.9230072021484,
            "bin_end": 271.3640075683594,
            "count": 0
           },
           {
            "bin_start": 271.3640075683594,
            "bin_end": 272.8050079345703,
            "count": 0
           },
           {
            "bin_start": 272.8050079345703,
            "bin_end": 274.2460083007812,
            "count": 1
           },
           {
            "bin_start": 274.2460083007812,
            "bin_end": 275.6870086669922,
            "count": 0
           },
           {
            "bin_start": 275.6870086669922,
            "bin_end": 277.1280090332031,
            "count": 0
           },
           {
            "bin_start": 277.1280090332031,
            "bin_end": 278.5690093994141,
            "count": 0
           },
           {
            "bin_start": 278.5690093994141,
            "bin_end": 280.010009765625,
            "count": 2
           }
          ]
         }
        },
        {
         "name": "High",
         "dtype": "float64",
         "stats": {
          "unique_count": 5,
          "nan_count": 0,
          "min": "268.3900146484375",
          "max": "289.2300109863281",
          "histogram": [
           {
            "bin_start": 268.3900146484375,
            "bin_end": 270.47401428222656,
            "count": 1
           },
           {
            "bin_start": 270.47401428222656,
            "bin_end": 272.5580139160156,
            "count": 0
           },
           {
            "bin_start": 272.5580139160156,
            "bin_end": 274.6420135498047,
            "count": 0
           },
           {
            "bin_start": 274.6420135498047,
            "bin_end": 276.72601318359375,
            "count": 0
           },
           {
            "bin_start": 276.72601318359375,
            "bin_end": 278.8100128173828,
            "count": 0
           },
           {
            "bin_start": 278.8100128173828,
            "bin_end": 280.8940124511719,
            "count": 0
           },
           {
            "bin_start": 280.8940124511719,
            "bin_end": 282.97801208496094,
            "count": 0
           },
           {
            "bin_start": 282.97801208496094,
            "bin_end": 285.06201171875,
            "count": 1
           },
           {
            "bin_start": 285.06201171875,
            "bin_end": 287.14601135253906,
            "count": 2
           },
           {
            "bin_start": 287.14601135253906,
            "bin_end": 289.2300109863281,
            "count": 1
           }
          ]
         }
        },
        {
         "name": "Low",
         "dtype": "float64",
         "stats": {
          "unique_count": 5,
          "nan_count": 0,
          "min": "261.0",
          "max": "273.1000061035156",
          "histogram": [
           {
            "bin_start": 261,
            "bin_end": 262.2100006103516,
            "count": 1
           },
           {
            "bin_start": 262.2100006103516,
            "bin_end": 263.4200012207031,
            "count": 0
           },
           {
            "bin_start": 263.4200012207031,
            "bin_end": 264.6300018310547,
            "count": 0
           },
           {
            "bin_start": 264.6300018310547,
            "bin_end": 265.8400024414062,
            "count": 1
           },
           {
            "bin_start": 265.8400024414062,
            "bin_end": 267.0500030517578,
            "count": 0
           },
           {
            "bin_start": 267.0500030517578,
            "bin_end": 268.2600036621094,
            "count": 0
           },
           {
            "bin_start": 268.2600036621094,
            "bin_end": 269.4700042724609,
            "count": 0
           },
           {
            "bin_start": 269.4700042724609,
            "bin_end": 270.6800048828125,
            "count": 1
           },
           {
            "bin_start": 270.6800048828125,
            "bin_end": 271.89000549316404,
            "count": 0
           },
           {
            "bin_start": 271.89000549316404,
            "bin_end": 273.1000061035156,
            "count": 2
           }
          ]
         }
        },
        {
         "name": "Close",
         "dtype": "float64",
         "stats": {
          "unique_count": 5,
          "nan_count": 0,
          "min": "266.4200134277344",
          "max": "281.80999755859375",
          "histogram": [
           {
            "bin_start": 266.4200134277344,
            "bin_end": 267.9590118408203,
            "count": 1
           },
           {
            "bin_start": 267.9590118408203,
            "bin_end": 269.4980102539063,
            "count": 0
           },
           {
            "bin_start": 269.4980102539063,
            "bin_end": 271.03700866699216,
            "count": 0
           },
           {
            "bin_start": 271.03700866699216,
            "bin_end": 272.5760070800781,
            "count": 0
           },
           {
            "bin_start": 272.5760070800781,
            "bin_end": 274.11500549316406,
            "count": 1
           },
           {
            "bin_start": 274.11500549316406,
            "bin_end": 275.65400390625,
            "count": 1
           },
           {
            "bin_start": 275.65400390625,
            "bin_end": 277.19300231933596,
            "count": 0
           },
           {
            "bin_start": 277.19300231933596,
            "bin_end": 278.73200073242185,
            "count": 0
           },
           {
            "bin_start": 278.73200073242185,
            "bin_end": 280.2709991455078,
            "count": 1
           },
           {
            "bin_start": 280.2709991455078,
            "bin_end": 281.80999755859375,
            "count": 1
           }
          ]
         }
        },
        {
         "name": "Volume",
         "dtype": "int64",
         "stats": {
          "unique_count": 5,
          "nan_count": 0,
          "min": "6694800",
          "max": "19413700",
          "histogram": [
           {
            "bin_start": 6694800,
            "bin_end": 7966690,
            "count": 1
           },
           {
            "bin_start": 7966690,
            "bin_end": 9238580,
            "count": 0
           },
           {
            "bin_start": 9238580,
            "bin_end": 10510470,
            "count": 2
           },
           {
            "bin_start": 10510470,
            "bin_end": 11782360,
            "count": 1
           },
           {
            "bin_start": 11782360,
            "bin_end": 13054250,
            "count": 0
           },
           {
            "bin_start": 13054250,
            "bin_end": 14326140,
            "count": 0
           },
           {
            "bin_start": 14326140,
            "bin_end": 15598030,
            "count": 0
           },
           {
            "bin_start": 15598030,
            "bin_end": 16869920,
            "count": 0
           },
           {
            "bin_start": 16869920,
            "bin_end": 18141810,
            "count": 0
           },
           {
            "bin_start": 18141810,
            "bin_end": 19413700,
            "count": 1
           }
          ]
         }
        },
        {
         "name": "ao",
         "dtype": "float64",
         "stats": {
          "unique_count": 5,
          "nan_count": 0,
          "min": "14.969557055305017",
          "max": "23.615297609217038",
          "histogram": [
           {
            "bin_start": 14.969557055305017,
            "bin_end": 15.83413111069622,
            "count": 1
           },
           {
            "bin_start": 15.83413111069622,
            "bin_end": 16.69870516608742,
            "count": 0
           },
           {
            "bin_start": 16.69870516608742,
            "bin_end": 17.563279221478624,
            "count": 1
           },
           {
            "bin_start": 17.563279221478624,
            "bin_end": 18.427853276869826,
            "count": 0
           },
           {
            "bin_start": 18.427853276869826,
            "bin_end": 19.292427332261028,
            "count": 0
           },
           {
            "bin_start": 19.292427332261028,
            "bin_end": 20.15700138765223,
            "count": 0
           },
           {
            "bin_start": 20.15700138765223,
            "bin_end": 21.02157544304343,
            "count": 0
           },
           {
            "bin_start": 21.02157544304343,
            "bin_end": 21.886149498434634,
            "count": 1
           },
           {
            "bin_start": 21.886149498434634,
            "bin_end": 22.750723553825836,
            "count": 0
           },
           {
            "bin_start": 22.750723553825836,
            "bin_end": 23.615297609217038,
            "count": 2
           }
          ]
         }
        },
        {
         "name": "_deepnote_index_column",
         "dtype": "datetime64[ns]"
        }
       ],
       "rows_top": [
        {
         "Open": 268,
         "High": 268.3900146484375,
         "Low": 261,
         "Close": 266.4200134277344,
         "Volume": 10241400,
         "ao": 14.969557055305017,
         "_deepnote_index_column": "2021-08-04T00:00:00.000000"
        },
        {
         "Open": 265.6000061035156,
         "High": 289.2300109863281,
         "Low": 264.7699890136719,
         "Close": 281.80999755859375,
         "Volume": 19413700,
         "ao": 17.124294954187718,
         "_deepnote_index_column": "2021-08-05T00:00:00.000000"
        },
        {
         "Open": 279.510009765625,
         "High": 285.8599853515625,
         "Low": 273.1000061035156,
         "Close": 275.1000061035156,
         "Volume": 9482100,
         "ao": 21.329972525203942,
         "_deepnote_index_column": "2021-08-06T00:00:00.000000"
        },
        {
         "Open": 272.989990234375,
         "High": 286.5199890136719,
         "Low": 270.6300048828125,
         "Close": 279.7300109863281,
         "Volume": 10561700,
         "ao": 23.615297609217038,
         "_deepnote_index_column": "2021-08-09T00:00:00.000000"
        },
        {
         "Open": 280.010009765625,
         "High": 283.5899963378906,
         "Low": 272.6400146484375,
         "Close": 273.0799865722656,
         "Volume": 6694800,
         "ao": 23.48944495705996,
         "_deepnote_index_column": "2021-08-10T00:00:00.000000"
        }
       ],
       "rows_bottom": null
      },
      "text/plain": "                  Open        High         Low       Close    Volume  \\\nDate                                                                   \n2021-08-04  268.000000  268.390015  261.000000  266.420013  10241400   \n2021-08-05  265.600006  289.230011  264.769989  281.809998  19413700   \n2021-08-06  279.510010  285.859985  273.100006  275.100006   9482100   \n2021-08-09  272.989990  286.519989  270.630005  279.730011  10561700   \n2021-08-10  280.010010  283.589996  272.640015  273.079987   6694800   \n\n                   ao  \nDate                   \n2021-08-04  14.969557  \n2021-08-05  17.124295  \n2021-08-06  21.329973  \n2021-08-09  23.615298  \n2021-08-10  23.489445  ",
      "text/html": "<div>\n<style scoped>\n    .dataframe tbody tr th:only-of-type {\n        vertical-align: middle;\n    }\n\n    .dataframe tbody tr th {\n        vertical-align: top;\n    }\n\n    .dataframe thead th {\n        text-align: right;\n    }\n</style>\n<table border=\"1\" class=\"dataframe\">\n  <thead>\n    <tr style=\"text-align: right;\">\n      <th></th>\n      <th>Open</th>\n      <th>High</th>\n      <th>Low</th>\n      <th>Close</th>\n      <th>Volume</th>\n      <th>ao</th>\n    </tr>\n    <tr>\n      <th>Date</th>\n      <th></th>\n      <th></th>\n      <th></th>\n      <th></th>\n      <th></th>\n      <th></th>\n    </tr>\n  </thead>\n  <tbody>\n    <tr>\n      <th>2021-08-04</th>\n      <td>268.000000</td>\n      <td>268.390015</td>\n      <td>261.000000</td>\n      <td>266.420013</td>\n      <td>10241400</td>\n      <td>14.969557</td>\n    </tr>\n    <tr>\n      <th>2021-08-05</th>\n      <td>265.600006</td>\n      <td>289.230011</td>\n      <td>264.769989</td>\n      <td>281.809998</td>\n      <td>19413700</td>\n      <td>17.124295</td>\n    </tr>\n    <tr>\n      <th>2021-08-06</th>\n      <td>279.510010</td>\n      <td>285.859985</td>\n      <td>273.100006</td>\n      <td>275.100006</td>\n      <td>9482100</td>\n      <td>21.329973</td>\n    </tr>\n    <tr>\n      <th>2021-08-09</th>\n      <td>272.989990</td>\n      <td>286.519989</td>\n      <td>270.630005</td>\n      <td>279.730011</td>\n      <td>10561700</td>\n      <td>23.615298</td>\n    </tr>\n    <tr>\n      <th>2021-08-10</th>\n      <td>280.010010</td>\n      <td>283.589996</td>\n      <td>272.640015</td>\n      <td>273.079987</td>\n      <td>6694800</td>\n      <td>23.489445</td>\n    </tr>\n  </tbody>\n</table>\n</div>"
     },
     "metadata": {}
    }
   ],
   "execution_count": null
  },
  {
   "cell_type": "code",
   "metadata": {
    "tags": [],
    "deepnote_to_be_reexecuted": false,
    "source_hash": "d42c9b4b",
    "execution_start": 1629328329261,
    "execution_millis": 2182,
    "cell_id": "00003-9636202a-db77-417b-a70d-0830fb2469b7",
    "deepnote_cell_type": "code"
   },
   "source": "ax1 = plt.subplot2grid((10,1), (0,0), rowspan = 5, colspan = 1)\nax2 = plt.subplot2grid((10,1), (6,0), rowspan = 4, colspan = 1)\nax1.plot(sq_1d['Close'])\nax1.set_title('SQUARE CLOSING PRICE')\nfor i in range(len(sq_1d)):\n    if sq_1d['ao'][i-1] > sq_1d['ao'][i]:\n        ax2.bar(sq_1d.index[i], sq_1d['ao'][i], color = '#f44336')\n    else:\n        ax2.bar(sq_1d.index[i], sq_1d['ao'][i], color = '#26a69a')\nax2.set_title('SQUARE AWESOME OSCILLATOR 5,34')\nplt.show()",
   "outputs": [
    {
     "data": {
      "text/plain": "<Figure size 1440x720 with 2 Axes>",
      "image/png": "[encoded data removed]"
     },
     "metadata": {
      "image/png": {
       "width": 1300,
       "height": 636
      }
     },
     "output_type": "display_data"
    }
   ],
   "execution_count": null
  },
  {
   "cell_type": "code",
   "metadata": {
    "tags": [],
    "deepnote_to_be_reexecuted": false,
    "source_hash": "563e4431",
    "execution_start": 1629328331412,
    "execution_millis": 14,
    "cell_id": "00004-248e120b-c0ac-4c94-9257-465eacd78c70",
    "deepnote_cell_type": "code"
   },
   "source": "def implement_ao_crossover(price, ao):\n    buy_price = []\n    sell_price = []\n    ao_signal = []\n    signal = 0\n    \n    for i in range(len(ao)):\n        if ao[i] > 0 and ao[i-1] < 0:\n            if signal != 1:\n                buy_price.append(price[i])\n                sell_price.append(np.nan)\n                signal = 1\n                ao_signal.append(signal)\n            else:\n                buy_price.append(np.nan)\n                sell_price.append(np.nan)\n                ao_signal.append(0)\n        elif ao[i] < 0 and ao[i-1] > 0:\n            if signal != -1:\n                buy_price.append(np.nan)\n                sell_price.append(price[i])\n                signal = -1\n                ao_signal.append(signal)\n            else:\n                buy_price.append(np.nan)\n                sell_price.append(np.nan)\n                ao_signal.append(0)\n        else:\n            buy_price.append(np.nan)\n            sell_price.append(np.nan)\n            ao_signal.append(0)\n    return buy_price, sell_price, ao_signal\n\nbuy_price, sell_price, ao_signal = implement_ao_crossover(sq_1d['Close'], sq_1d['ao'])",
   "outputs": [],
   "execution_count": null
  },
  {
   "cell_type": "code",
   "metadata": {
    "tags": [],
    "deepnote_to_be_reexecuted": false,
    "source_hash": "8ba82377",
    "execution_start": 1629330916762,
    "execution_millis": 2249,
    "cell_id": "00005-8570d4bf-36f8-4ddd-a6a4-e371a6777bde",
    "deepnote_cell_type": "code"
   },
   "source": "ax1 = plt.subplot2grid((10,1), (0,0), rowspan = 5, colspan = 1)\nax2 = plt.subplot2grid((10,1), (6,0), rowspan = 4, colspan = 1)\nax1.plot(sq_1d['Close'], label = 'XRP', color = 'skyblue')\nax1.plot(sq_1d.index, buy_price, marker = '^', markersize = 12, color = '#26a69a', linewidth = 0, label = 'BUY SIGNAL')\nax1.plot(sq_1d.index, sell_price, marker = 'v', markersize = 12, color = '#f44336', linewidth = 0, label = 'SELL SIGNAL')\nax1.legend()\nax1.set_title('SQUARE CLOSING PRICE')\nfor i in range(len(sq_1d)):\n    if sq_1d['ao'][i-1] > sq_1d['ao'][i]:\n        ax2.bar(sq_1d.index[i], sq_1d['ao'][i], color = '#f44336')\n    else:\n        ax2.bar(sq_1d.index[i], sq_1d['ao'][i], color = '#26a69a')\nax2.set_title('SQUARE AWESOME OSCILLATOR 5,34')\nplt.show()",
   "outputs": [
    {
     "data": {
      "text/plain": "<Figure size 1440x720 with 2 Axes>",
      "image/png": "[encoded data removed]"
     },
     "metadata": {
      "image/png": {
       "width": 1300,
       "height": 636
      }
     },
     "output_type": "display_data"
    }
   ],
   "execution_count": null
  },
  {
   "cell_type": "code",
   "metadata": {
    "tags": [],
    "deepnote_to_be_reexecuted": false,
    "source_hash": "bb301b17",
    "execution_start": 1629328333568,
    "execution_millis": 93,
    "cell_id": "00006-0b707a66-4a15-4b0e-9eb5-d4cf87a97fec",
    "deepnote_cell_type": "code"
   },
   "source": "position = []\nfor i in range(len(ao_signal)):\n    if ao_signal[i] > 1:\n        position.append(0)\n    else:\n        position.append(1)\n        \nfor i in range(len(sq_1d['Close'])):\n    if ao_signal[i] == 1:\n        position[i] = 1\n    elif ao_signal[i] == -1:\n        position[i] = 0\n    else:\n        position[i] = position[i-1]\n        \nao = sq_1d['ao']\nclose_price = sq_1d['Close']\nao_signal = pd.DataFrame(ao_signal).rename(columns = {0:'ao_signal'}).set_index(sq_1d.index)\nposition = pd.DataFrame(position).rename(columns = {0:'ao_position'}).set_index(sq_1d.index)\n\nframes = [close_price, ao, ao_signal, position]\nstrategy = pd.concat(frames, join = 'inner', axis = 1)\n\nstrategy",
   "outputs": [
    {
     "output_type": "execute_result",
     "execution_count": 7,
     "data": {
      "application/vnd.deepnote.dataframe.v2+json": {
       "row_count": 455,
       "column_count": 4,
       "columns": [
        {
         "name": "Close",
         "dtype": "float64",
         "stats": {
          "unique_count": 447,
          "nan_count": 0,
          "min": "38.09000015258789",
          "max": "281.80999755859375",
          "histogram": [
           {
            "bin_start": 38.09000015258789,
            "bin_end": 62.46199989318848,
            "count": 47
           },
           {
            "bin_start": 62.46199989318848,
            "bin_end": 86.83399963378906,
            "count": 109
           },
           {
            "bin_start": 86.83399963378906,
            "bin_end": 111.20599937438965,
            "count": 19
           },
           {
            "bin_start": 111.20599937438965,
            "bin_end": 135.57799911499023,
            "count": 23
           },
           {
            "bin_start": 135.57799911499023,
            "bin_end": 159.94999885559082,
            "count": 39
           },
           {
            "bin_start": 159.94999885559082,
            "bin_end": 184.3219985961914,
            "count": 26
           },
           {
            "bin_start": 184.3219985961914,
            "bin_end": 208.693998336792,
            "count": 32
           },
           {
            "bin_start": 208.693998336792,
            "bin_end": 233.06599807739258,
            "count": 74
           },
           {
            "bin_start": 233.06599807739258,
            "bin_end": 257.43799781799316,
            "count": 59
           },
           {
            "bin_start": 257.43799781799316,
            "bin_end": 281.80999755859375,
            "count": 27
           }
          ]
         }
        },
        {
         "name": "ao",
         "dtype": "float64",
         "stats": {
          "unique_count": 455,
          "nan_count": 0,
          "min": "-35.15440871294808",
          "max": "36.54185283885283",
          "histogram": [
           {
            "bin_start": -35.15440871294808,
            "bin_end": -27.984782557767993,
            "count": 10
           },
           {
            "bin_start": -27.984782557767993,
            "bin_end": -20.8151564025879,
            "count": 14
           },
           {
            "bin_start": -20.8151564025879,
            "bin_end": -13.645530247407805,
            "count": 14
           },
           {
            "bin_start": -13.645530247407805,
            "bin_end": -6.475904092227715,
            "count": 33
           },
           {
            "bin_start": -6.475904092227715,
            "bin_end": 0.693722062952375,
            "count": 58
           },
           {
            "bin_start": 0.693722062952375,
            "bin_end": 7.863348218132472,
            "count": 100
           },
           {
            "bin_start": 7.863348218132472,
            "bin_end": 15.032974373312562,
            "count": 111
           },
           {
            "bin_start": 15.032974373312562,
            "bin_end": 22.202600528492653,
            "count": 67
           },
           {
            "bin_start": 22.202600528492653,
            "bin_end": 29.37222668367275,
            "count": 39
           },
           {
            "bin_start": 29.37222668367275,
            "bin_end": 36.54185283885283,
            "count": 9
           }
          ]
         }
        },
        {
         "name": "ao_signal",
         "dtype": "int64",
         "stats": {
          "unique_count": 3,
          "nan_count": 0,
          "min": "-1",
          "max": "1",
          "histogram": [
           {
            "bin_start": -1,
            "bin_end": -0.8,
            "count": 10
           },
           {
            "bin_start": -0.8,
            "bin_end": -0.6,
            "count": 0
           },
           {
            "bin_start": -0.6,
            "bin_end": -0.3999999999999999,
            "count": 0
           },
           {
            "bin_start": -0.3999999999999999,
            "bin_end": -0.19999999999999996,
            "count": 0
           },
           {
            "bin_start": -0.19999999999999996,
            "bin_end": 0,
            "count": 0
           },
           {
            "bin_start": 0,
            "bin_end": 0.20000000000000018,
            "count": 435
           },
           {
            "bin_start": 0.20000000000000018,
            "bin_end": 0.40000000000000013,
            "count": 0
           },
           {
            "bin_start": 0.40000000000000013,
            "bin_end": 0.6000000000000001,
            "count": 0
           },
           {
            "bin_start": 0.6000000000000001,
            "bin_end": 0.8,
            "count": 0
           },
           {
            "bin_start": 0.8,
            "bin_end": 1,
            "count": 10
           }
          ]
         }
        },
        {
         "name": "ao_position",
         "dtype": "int64",
         "stats": {
          "unique_count": 2,
          "nan_count": 0,
          "min": "0",
          "max": "1",
          "histogram": [
           {
            "bin_start": 0,
            "bin_end": 0.1,
            "count": 117
           },
           {
            "bin_start": 0.1,
            "bin_end": 0.2,
            "count": 0
           },
           {
            "bin_start": 0.2,
            "bin_end": 0.30000000000000004,
            "count": 0
           },
           {
            "bin_start": 0.30000000000000004,
            "bin_end": 0.4,
            "count": 0
           },
           {
            "bin_start": 0.4,
            "bin_end": 0.5,
            "count": 0
           },
           {
            "bin_start": 0.5,
            "bin_end": 0.6000000000000001,
            "count": 0
           },
           {
            "bin_start": 0.6000000000000001,
            "bin_end": 0.7000000000000001,
            "count": 0
           },
           {
            "bin_start": 0.7000000000000001,
            "bin_end": 0.8,
            "count": 0
           },
           {
            "bin_start": 0.8,
            "bin_end": 0.9,
            "count": 0
           },
           {
            "bin_start": 0.9,
            "bin_end": 1,
            "count": 338
           }
          ]
         }
        },
        {
         "name": "_deepnote_index_column",
         "dtype": "datetime64[ns]"
        }
       ],
       "rows_top": [
        {
         "Close": 61.150001525878906,
         "ao": 1.8024714413811154,
         "ao_signal": 0,
         "ao_position": 1,
         "_deepnote_index_column": "2019-10-21T00:00:00.000000"
        },
        {
         "Close": 58.83000183105469,
         "ao": 1.222589088888725,
         "ao_signal": 0,
         "ao_position": 1,
         "_deepnote_index_column": "2019-10-22T00:00:00.000000"
        },
        {
         "Close": 58.36000061035156,
         "ao": 0.3155303618487153,
         "ao_signal": 0,
         "ao_position": 1,
         "_deepnote_index_column": "2019-10-23T00:00:00.000000"
        },
        {
         "Close": 61.720001220703125,
         "ao": -0.24382256900562993,
         "ao_signal": -1,
         "ao_position": 0,
         "_deepnote_index_column": "2019-10-24T00:00:00.000000"
        },
        {
         "Close": 62.88999938964844,
         "ao": -0.18458743375890663,
         "ao_signal": 0,
         "ao_position": 0,
         "_deepnote_index_column": "2019-10-25T00:00:00.000000"
        },
        {
         "Close": 62.79999923706055,
         "ao": 0.17044163872213858,
         "ao_signal": 1,
         "ao_position": 1,
         "_deepnote_index_column": "2019-10-28T00:00:00.000000"
        },
        {
         "Close": 62.40999984741211,
         "ao": 0.613147107292626,
         "ao_signal": 0,
         "ao_position": 1,
         "_deepnote_index_column": "2019-10-29T00:00:00.000000"
        },
        {
         "Close": 62.15999984741211,
         "ao": 1.2396762735703462,
         "ao_signal": 0,
         "ao_position": 1,
         "_deepnote_index_column": "2019-10-30T00:00:00.000000"
        },
        {
         "Close": 61.43000030517578,
         "ao": 1.4802349539364101,
         "ao_signal": 0,
         "ao_position": 1,
         "_deepnote_index_column": "2019-10-31T00:00:00.000000"
        },
        {
         "Close": 62.599998474121094,
         "ao": 1.3267936257755082,
         "ao_signal": 0,
         "ao_position": 1,
         "_deepnote_index_column": "2019-11-01T00:00:00.000000"
        },
        {
         "Close": 62.380001068115234,
         "ao": 1.1656466427971282,
         "ao_signal": 0,
         "ao_position": 1,
         "_deepnote_index_column": "2019-11-04T00:00:00.000000"
        },
        {
         "Close": 61.060001373291016,
         "ao": 0.9284998613245392,
         "ao_signal": 0,
         "ao_position": 1,
         "_deepnote_index_column": "2019-11-05T00:00:00.000000"
        },
        {
         "Close": 61.34000015258789,
         "ao": 0.6582647099214398,
         "ao_signal": 0,
         "ao_position": 1,
         "_deepnote_index_column": "2019-11-06T00:00:00.000000"
        },
        {
         "Close": 64.41000366210938,
         "ao": 0.7438238031723969,
         "ao_signal": 0,
         "ao_position": 1,
         "_deepnote_index_column": "2019-11-07T00:00:00.000000"
        },
        {
         "Close": 62.45000076293945,
         "ao": 0.8466771967270788,
         "ao_signal": 0,
         "ao_position": 1,
         "_deepnote_index_column": "2019-11-08T00:00:00.000000"
        },
        {
         "Close": 63.790000915527344,
         "ao": 0.7965008903952224,
         "ao_signal": 0,
         "ao_position": 1,
         "_deepnote_index_column": "2019-11-11T00:00:00.000000"
        },
        {
         "Close": 61.540000915527344,
         "ao": 0.8484419542200428,
         "ao_signal": 0,
         "ao_position": 1,
         "_deepnote_index_column": "2019-11-12T00:00:00.000000"
        },
        {
         "Close": 61.5099983215332,
         "ao": 0.8584417006548719,
         "ao_signal": 0,
         "ao_position": 1,
         "_deepnote_index_column": "2019-11-13T00:00:00.000000"
        },
        {
         "Close": 62.9900016784668,
         "ao": 0.69005895502427,
         "ao_signal": 0,
         "ao_position": 1,
         "_deepnote_index_column": "2019-11-14T00:00:00.000000"
        },
        {
         "Close": 64.69999694824219,
         "ao": 0.6996760536642626,
         "ao_signal": 0,
         "ao_position": 1,
         "_deepnote_index_column": "2019-11-15T00:00:00.000000"
        },
        {
         "Close": 65.73999786376953,
         "ao": 1.0187931172987987,
         "ao_signal": 0,
         "ao_position": 1,
         "_deepnote_index_column": "2019-11-18T00:00:00.000000"
        },
        {
         "Close": 66.37000274658203,
         "ao": 1.5438518524169922,
         "ao_signal": 0,
         "ao_position": 1,
         "_deepnote_index_column": "2019-11-19T00:00:00.000000"
        },
        {
         "Close": 67.16999816894531,
         "ao": 2.4250579048605587,
         "ao_signal": 0,
         "ao_position": 1,
         "_deepnote_index_column": "2019-11-20T00:00:00.000000"
        },
        {
         "Close": 67.41999816894531,
         "ao": 3.288616427253274,
         "ao_signal": 0,
         "ao_position": 1,
         "_deepnote_index_column": "2019-11-21T00:00:00.000000"
        },
        {
         "Close": 67.75,
         "ao": 3.8855870190788693,
         "ao_signal": 0,
         "ao_position": 1,
         "_deepnote_index_column": "2019-11-22T00:00:00.000000"
        },
        {
         "Close": 68.25,
         "ao": 4.251146350187412,
         "ao_signal": 0,
         "ao_position": 1,
         "_deepnote_index_column": "2019-11-25T00:00:00.000000"
        },
        {
         "Close": 68.94000244140625,
         "ao": 4.550764151180488,
         "ao_signal": 0,
         "ao_position": 1,
         "_deepnote_index_column": "2019-11-26T00:00:00.000000"
        },
        {
         "Close": 69.6500015258789,
         "ao": 4.844882045072666,
         "ao_signal": 0,
         "ao_position": 1,
         "_deepnote_index_column": "2019-11-27T00:00:00.000000"
        },
        {
         "Close": 69.12000274658203,
         "ao": 5.039353359446814,
         "ao_signal": 0,
         "ao_position": 1,
         "_deepnote_index_column": "2019-11-29T00:00:00.000000"
        },
        {
         "Close": 66.87999725341797,
         "ao": 4.936618288825542,
         "ao_signal": 0,
         "ao_position": 1,
         "_deepnote_index_column": "2019-12-02T00:00:00.000000"
        },
        {
         "Close": 67.04000091552734,
         "ao": 4.61391229068532,
         "ao_signal": 0,
         "ao_position": 1,
         "_deepnote_index_column": "2019-12-03T00:00:00.000000"
        },
        {
         "Close": 67.77999877929688,
         "ao": 4.266176739860981,
         "ao_signal": 0,
         "ao_position": 1,
         "_deepnote_index_column": "2019-12-04T00:00:00.000000"
        },
        {
         "Close": 67.13999938964844,
         "ao": 3.7738820917466,
         "ao_signal": 0,
         "ao_position": 1,
         "_deepnote_index_column": "2019-12-05T00:00:00.000000"
        },
        {
         "Close": 67.9800033569336,
         "ao": 3.2431466383092555,
         "ao_signal": 0,
         "ao_position": 1,
         "_deepnote_index_column": "2019-12-06T00:00:00.000000"
        },
        {
         "Close": 67.05999755859375,
         "ao": 2.9494996912339104,
         "ao_signal": 0,
         "ao_position": 1,
         "_deepnote_index_column": "2019-12-09T00:00:00.000000"
        },
        {
         "Close": 65.83999633789062,
         "ao": 2.6574994031120696,
         "ao_signal": 0,
         "ao_position": 1,
         "_deepnote_index_column": "2019-12-10T00:00:00.000000"
        },
        {
         "Close": 65.75,
         "ao": 2.122734451293951,
         "ao_signal": 0,
         "ao_position": 1,
         "_deepnote_index_column": "2019-12-11T00:00:00.000000"
        },
        {
         "Close": 65.86000061035156,
         "ao": 1.6221758898566776,
         "ao_signal": 0,
         "ao_position": 1,
         "_deepnote_index_column": "2019-12-12T00:00:00.000000"
        },
        {
         "Close": 64.80000305175781,
         "ao": 1.0872053482953277,
         "ao_signal": 0,
         "ao_position": 1,
         "_deepnote_index_column": "2019-12-13T00:00:00.000000"
        },
        {
         "Close": 66.52999877929688,
         "ao": 0.6332642162547302,
         "ao_signal": 0,
         "ao_position": 1,
         "_deepnote_index_column": "2019-12-16T00:00:00.000000"
        },
        {
         "Close": 65.55000305175781,
         "ao": 0.4502355575561552,
         "ao_signal": 0,
         "ao_position": 1,
         "_deepnote_index_column": "2019-12-17T00:00:00.000000"
        },
        {
         "Close": 65.13999938964844,
         "ao": 0.27023612751679593,
         "ao_signal": 0,
         "ao_position": 1,
         "_deepnote_index_column": "2019-12-18T00:00:00.000000"
        },
        {
         "Close": 64.55000305175781,
         "ao": -0.01146960538976316,
         "ao_signal": -1,
         "ao_position": 0,
         "_deepnote_index_column": "2019-12-19T00:00:00.000000"
        },
        {
         "Close": 63.630001068115234,
         "ao": -0.32049904991599476,
         "ao_signal": 0,
         "ao_position": 0,
         "_deepnote_index_column": "2019-12-20T00:00:00.000000"
        },
        {
         "Close": 62.79999923706055,
         "ao": -0.8318227431353336,
         "ao_signal": 0,
         "ao_position": 0,
         "_deepnote_index_column": "2019-12-23T00:00:00.000000"
        },
        {
         "Close": 63.959999084472656,
         "ao": -1.4126465629128973,
         "ao_signal": 0,
         "ao_position": 0,
         "_deepnote_index_column": "2019-12-24T00:00:00.000000"
        },
        {
         "Close": 64.02999877929688,
         "ao": -1.7648528491749502,
         "ao_signal": 0,
         "ao_position": 0,
         "_deepnote_index_column": "2019-12-26T00:00:00.000000"
        },
        {
         "Close": 63.79999923706055,
         "ao": -1.9814414417042485,
         "ao_signal": 0,
         "ao_position": 0,
         "_deepnote_index_column": "2019-12-27T00:00:00.000000"
        },
        {
         "Close": 61.79999923706055,
         "ao": -2.2209125070010884,
         "ao_signal": 0,
         "ao_position": 0,
         "_deepnote_index_column": "2019-12-30T00:00:00.000000"
        },
        {
         "Close": 62.560001373291016,
         "ao": -2.400265401952403,
         "ao_signal": 0,
         "ao_position": 0,
         "_deepnote_index_column": "2019-12-31T00:00:00.000000"
        },
        {
         "Close": 63.83000183105469,
         "ao": -2.4528531691607327,
         "ao_signal": 0,
         "ao_position": 0,
         "_deepnote_index_column": "2020-01-02T00:00:00.000000"
        },
        {
         "Close": 63,
         "ao": -2.6244410458733043,
         "ao_signal": 0,
         "ao_position": 0,
         "_deepnote_index_column": "2020-01-03T00:00:00.000000"
        },
        {
         "Close": 62.56999969482422,
         "ao": -2.8661761676563984,
         "ao_signal": 0,
         "ao_position": 0,
         "_deepnote_index_column": "2020-01-06T00:00:00.000000"
        },
        {
         "Close": 64.58999633789062,
         "ao": -2.7023822560029913,
         "ao_signal": 0,
         "ao_position": 0,
         "_deepnote_index_column": "2020-01-07T00:00:00.000000"
        },
        {
         "Close": 67.5999984741211,
         "ao": -1.945118129954615,
         "ao_signal": 0,
         "ao_position": 0,
         "_deepnote_index_column": "2020-01-08T00:00:00.000000"
        },
        {
         "Close": 67.93000030517578,
         "ao": -1.0814126631792789,
         "ao_signal": 0,
         "ao_position": 0,
         "_deepnote_index_column": "2020-01-09T00:00:00.000000"
        },
        {
         "Close": 67.98999786376953,
         "ao": -0.20741298899932303,
         "ao_signal": 0,
         "ao_position": 0,
         "_deepnote_index_column": "2020-01-10T00:00:00.000000"
        },
        {
         "Close": 68.66000366210938,
         "ao": 0.8702930001651481,
         "ao_signal": 1,
         "ao_position": 1,
         "_deepnote_index_column": "2020-01-13T00:00:00.000000"
        },
        {
         "Close": 68.16999816894531,
         "ao": 1.8128817614387032,
         "ao_signal": 0,
         "ao_position": 1,
         "_deepnote_index_column": "2020-01-14T00:00:00.000000"
        },
        {
         "Close": 70.36000061035156,
         "ao": 2.4096762937657985,
         "ao_signal": 0,
         "ao_position": 1,
         "_deepnote_index_column": "2020-01-15T00:00:00.000000"
        },
        {
         "Close": 69.5199966430664,
         "ao": 2.8051173939424388,
         "ao_signal": 0,
         "ao_position": 1,
         "_deepnote_index_column": "2020-01-16T00:00:00.000000"
        },
        {
         "Close": 69.37999725341797,
         "ao": 3.09855829126694,
         "ao_signal": 0,
         "ao_position": 1,
         "_deepnote_index_column": "2020-01-17T00:00:00.000000"
        },
        {
         "Close": 68.30999755859375,
         "ao": 3.218440111945654,
         "ao_signal": 0,
         "ao_position": 1,
         "_deepnote_index_column": "2020-01-21T00:00:00.000000"
        },
        {
         "Close": 68.69000244140625,
         "ao": 3.2207340464872374,
         "ao_signal": 0,
         "ao_position": 1,
         "_deepnote_index_column": "2020-01-22T00:00:00.000000"
        },
        {
         "Close": 69.29000091552734,
         "ao": 3.1060285456040333,
         "ao_signal": 0,
         "ao_position": 1,
         "_deepnote_index_column": "2020-01-23T00:00:00.000000"
        },
        {
         "Close": 71.13999938964844,
         "ao": 3.078528841804058,
         "ao_signal": 0,
         "ao_position": 1,
         "_deepnote_index_column": "2020-01-24T00:00:00.000000"
        },
        {
         "Close": 71.05000305175781,
         "ao": 3.3006178687600567,
         "ao_signal": 0,
         "ao_position": 1,
         "_deepnote_index_column": "2020-01-27T00:00:00.000000"
        },
        {
         "Close": 74.80000305175781,
         "ao": 3.9588248308967167,
         "ao_signal": 0,
         "ao_position": 1,
         "_deepnote_index_column": "2020-01-28T00:00:00.000000"
        },
        {
         "Close": 76.16000366210938,
         "ao": 5.120707769954905,
         "ao_signal": 0,
         "ao_position": 1,
         "_deepnote_index_column": "2020-01-29T00:00:00.000000"
        },
        {
         "Close": 76.0999984741211,
         "ao": 6.264001644358913,
         "ao_signal": 0,
         "ao_position": 1,
         "_deepnote_index_column": "2020-01-30T00:00:00.000000"
        },
        {
         "Close": 74.69000244140625,
         "ao": 7.017648696899414,
         "ao_signal": 0,
         "ao_position": 1,
         "_deepnote_index_column": "2020-01-31T00:00:00.000000"
        },
        {
         "Close": 79.80000305175781,
         "ao": 7.9111783420338355,
         "ao_signal": 0,
         "ao_position": 1,
         "_deepnote_index_column": "2020-02-03T00:00:00.000000"
        },
        {
         "Close": 80.9000015258789,
         "ao": 8.95441347009995,
         "ao_signal": 0,
         "ao_position": 1,
         "_deepnote_index_column": "2020-02-04T00:00:00.000000"
        },
        {
         "Close": 78.25,
         "ao": 9.364295308730178,
         "ao_signal": 0,
         "ao_position": 1,
         "_deepnote_index_column": "2020-02-05T00:00:00.000000"
        },
        {
         "Close": 78.51000213623047,
         "ao": 9.451354127771722,
         "ao_signal": 0,
         "ao_position": 1,
         "_deepnote_index_column": "2020-02-06T00:00:00.000000"
        },
        {
         "Close": 78.86000061035156,
         "ao": 9.717001365212823,
         "ao_signal": 0,
         "ao_position": 1,
         "_deepnote_index_column": "2020-02-07T00:00:00.000000"
        },
        {
         "Close": 80.16999816894531,
         "ao": 9.73953015944538,
         "ao_signal": 0,
         "ao_position": 1,
         "_deepnote_index_column": "2020-02-10T00:00:00.000000"
        },
        {
         "Close": 79.87999725341797,
         "ao": 9.205852901234351,
         "ao_signal": 0,
         "ao_position": 1,
         "_deepnote_index_column": "2020-02-11T00:00:00.000000"
        },
        {
         "Close": 80,
         "ao": 8.78694075416115,
         "ao_signal": 0,
         "ao_position": 1,
         "_deepnote_index_column": "2020-02-12T00:00:00.000000"
        },
        {
         "Close": 80.98999786376953,
         "ao": 8.70655798070571,
         "ao_signal": 0,
         "ao_position": 1,
         "_deepnote_index_column": "2020-02-13T00:00:00.000000"
        },
        {
         "Close": 81.86000061035156,
         "ao": 8.741910485660327,
         "ao_signal": 0,
         "ao_position": 1,
         "_deepnote_index_column": "2020-02-14T00:00:00.000000"
        },
        {
         "Close": 82.41999816894531,
         "ao": 8.730881062675934,
         "ao_signal": 0,
         "ao_position": 1,
         "_deepnote_index_column": "2020-02-18T00:00:00.000000"
        },
        {
         "Close": 85.23999786376953,
         "ao": 8.873351747849412,
         "ao_signal": 0,
         "ao_position": 1,
         "_deepnote_index_column": "2020-02-19T00:00:00.000000"
        },
        {
         "Close": 85.69999694824219,
         "ao": 9.294351588978486,
         "ao_signal": 0,
         "ao_position": 1,
         "_deepnote_index_column": "2020-02-20T00:00:00.000000"
        },
        {
         "Close": 83.48999786376953,
         "ao": 9.484939642513496,
         "ao_signal": 0,
         "ao_position": 1,
         "_deepnote_index_column": "2020-02-21T00:00:00.000000"
        },
        {
         "Close": 80.20999908447266,
         "ao": 9.027733679378741,
         "ao_signal": 0,
         "ao_position": 1,
         "_deepnote_index_column": "2020-02-24T00:00:00.000000"
        },
        {
         "Close": 77.05000305175781,
         "ao": 7.859704567404364,
         "ao_signal": 0,
         "ao_position": 1,
         "_deepnote_index_column": "2020-02-25T00:00:00.000000"
        },
        {
         "Close": 76.58999633789062,
         "ao": 6.068293089025161,
         "ao_signal": 0,
         "ao_position": 1,
         "_deepnote_index_column": "2020-02-26T00:00:00.000000"
        },
        {
         "Close": 79.30999755859375,
         "ao": 4.215616540347824,
         "ao_signal": 0,
         "ao_position": 1,
         "_deepnote_index_column": "2020-02-27T00:00:00.000000"
        },
        {
         "Close": 83.33000183105469,
         "ao": 3.1619405185475102,
         "ao_signal": 0,
         "ao_position": 1,
         "_deepnote_index_column": "2020-02-28T00:00:00.000000"
        },
        {
         "Close": 80.66999816894531,
         "ao": 2.778999620325422,
         "ao_signal": 0,
         "ao_position": 1,
         "_deepnote_index_column": "2020-03-02T00:00:00.000000"
        },
        {
         "Close": 78.83999633789062,
         "ao": 2.6678224900189633,
         "ao_signal": 0,
         "ao_position": 1,
         "_deepnote_index_column": "2020-03-03T00:00:00.000000"
        },
        {
         "Close": 79.26000213623047,
         "ao": 2.8010283301858436,
         "ao_signal": 0,
         "ao_position": 1,
         "_deepnote_index_column": "2020-03-04T00:00:00.000000"
        },
        {
         "Close": 76.31999969482422,
         "ao": 2.518293784646417,
         "ao_signal": 0,
         "ao_position": 1,
         "_deepnote_index_column": "2020-03-05T00:00:00.000000"
        },
        {
         "Close": 73.08999633789062,
         "ao": 1.0551464080810575,
         "ao_signal": 0,
         "ao_position": 1,
         "_deepnote_index_column": "2020-03-06T00:00:00.000000"
        },
        {
         "Close": 65.7300033569336,
         "ao": -1.4616772371179962,
         "ao_signal": -1,
         "ao_position": 0,
         "_deepnote_index_column": "2020-03-09T00:00:00.000000"
        },
        {
         "Close": 67.23999786376953,
         "ao": -4.046264895270852,
         "ao_signal": 0,
         "ao_position": 0,
         "_deepnote_index_column": "2020-03-10T00:00:00.000000"
        },
        {
         "Close": 62.439998626708984,
         "ao": -6.780617983200983,
         "ao_signal": 0,
         "ao_position": 0,
         "_deepnote_index_column": "2020-03-11T00:00:00.000000"
        },
        {
         "Close": 53.56999969482422,
         "ao": -10.414530024808997,
         "ao_signal": 0,
         "ao_position": 0,
         "_deepnote_index_column": "2020-03-12T00:00:00.000000"
        },
        {
         "Close": 57.77000045776367,
         "ao": -13.793735492930686,
         "ao_signal": 0,
         "ao_position": 0,
         "_deepnote_index_column": "2020-03-13T00:00:00.000000"
        },
        {
         "Close": 41.27000045776367,
         "ao": -17.13717652489158,
         "ao_signal": 0,
         "ao_position": 0,
         "_deepnote_index_column": "2020-03-16T00:00:00.000000"
        },
        {
         "Close": 44.72999954223633,
         "ao": -20.954029498380777,
         "ao_signal": 0,
         "ao_position": 0,
         "_deepnote_index_column": "2020-03-17T00:00:00.000000"
        },
        {
         "Close": 39.5,
         "ao": -24.51770555832806,
         "ao_signal": 0,
         "ao_position": 0,
         "_deepnote_index_column": "2020-03-18T00:00:00.000000"
        },
        {
         "Close": 40,
         "ao": -27.098705359066237,
         "ao_signal": 0,
         "ao_position": 0,
         "_deepnote_index_column": "2020-03-19T00:00:00.000000"
        },
        {
         "Close": 38.09000015258789,
         "ao": -29.354587700787704,
         "ao_signal": 0,
         "ao_position": 0,
         "_deepnote_index_column": "2020-03-20T00:00:00.000000"
        },
        {
         "Close": 40.0099983215332,
         "ao": -30.325205488765945,
         "ao_signal": 0,
         "ao_position": 0,
         "_deepnote_index_column": "2020-03-23T00:00:00.000000"
        },
        {
         "Close": 46.310001373291016,
         "ao": -29.199381918065683,
         "ao_signal": 0,
         "ao_position": 0,
         "_deepnote_index_column": "2020-03-24T00:00:00.000000"
        },
        {
         "Close": 52.38999938964844,
         "ao": -26.863411196540383,
         "ao_signal": 0,
         "ao_position": 0,
         "_deepnote_index_column": "2020-03-25T00:00:00.000000"
        },
        {
         "Close": 56.029998779296875,
         "ao": -23.260528968362244,
         "ao_signal": 0,
         "ao_position": 0,
         "_deepnote_index_column": "2020-03-26T00:00:00.000000"
        },
        {
         "Close": 53.34000015258789,
         "ao": -19.426646681392896,
         "ao_signal": 0,
         "ao_position": 0,
         "_deepnote_index_column": "2020-03-27T00:00:00.000000"
        },
        {
         "Close": 55,
         "ao": -15.657205357271081,
         "ao_signal": 0,
         "ao_position": 0,
         "_deepnote_index_column": "2020-03-30T00:00:00.000000"
        },
        {
         "Close": 52.380001068115234,
         "ao": -12.776646479438327,
         "ao_signal": 0,
         "ao_position": 0,
         "_deepnote_index_column": "2020-03-31T00:00:00.000000"
        },
        {
         "Close": 46.810001373291016,
         "ao": -11.835146387885594,
         "ao_signal": 0,
         "ao_position": 0,
         "_deepnote_index_column": "2020-04-01T00:00:00.000000"
        },
        {
         "Close": 45.880001068115234,
         "ao": -12.403734263251806,
         "ao_signal": 0,
         "ao_position": 0,
         "_deepnote_index_column": "2020-04-02T00:00:00.000000"
        },
        {
         "Close": 43.720001220703125,
         "ao": -13.303528101303996,
         "ao_signal": 0,
         "ao_position": 0,
         "_deepnote_index_column": "2020-04-03T00:00:00.000000"
        },
        {
         "Close": 50.41999816894531,
         "ao": -13.692057598338408,
         "ao_signal": 0,
         "ao_position": 0,
         "_deepnote_index_column": "2020-04-06T00:00:00.000000"
        },
        {
         "Close": 50.310001373291016,
         "ao": -13.372793096654554,
         "ao_signal": 0,
         "ao_position": 0,
         "_deepnote_index_column": "2020-04-07T00:00:00.000000"
        },
        {
         "Close": 57.040000915527344,
         "ao": -11.621646163042854,
         "ao_signal": 0,
         "ao_position": 0,
         "_deepnote_index_column": "2020-04-08T00:00:00.000000"
        },
        {
         "Close": 59.209999084472656,
         "ao": -8.487117071712717,
         "ao_signal": 0,
         "ao_position": 0,
         "_deepnote_index_column": "2020-04-09T00:00:00.000000"
        },
        {
         "Close": 59.41999816894531,
         "ao": -4.921323462093582,
         "ao_signal": 0,
         "ao_position": 0,
         "_deepnote_index_column": "2020-04-13T00:00:00.000000"
        },
        {
         "Close": 62.40999984741211,
         "ao": -1.6312941270716053,
         "ao_signal": 0,
         "ao_position": 0,
         "_deepnote_index_column": "2020-04-14T00:00:00.000000"
        },
        {
         "Close": 61.380001068115234,
         "ao": 1.1136765760533933,
         "ao_signal": 1,
         "ao_position": 1,
         "_deepnote_index_column": "2020-04-15T00:00:00.000000"
        },
        {
         "Close": 57.31999969482422,
         "ao": 2.795735146017634,
         "ao_signal": 0,
         "ao_position": 1,
         "_deepnote_index_column": "2020-04-16T00:00:00.000000"
        },
        {
         "Close": 61.09000015258789,
         "ao": 3.662176300497613,
         "ao_signal": 0,
         "ao_position": 1,
         "_deepnote_index_column": "2020-04-17T00:00:00.000000"
        },
        {
         "Close": 61.060001373291016,
         "ao": 4.629617881774905,
         "ao_signal": 0,
         "ao_position": 1,
         "_deepnote_index_column": "2020-04-20T00:00:00.000000"
        }
       ],
       "rows_bottom": [
        {
         "Close": 265.92999267578125,
         "ao": 24.625086660946124,
         "ao_signal": 0,
         "ao_position": 1,
         "_deepnote_index_column": "2021-02-11T00:00:00.000000"
        },
        {
         "Close": 272.75,
         "ao": 29.70632063921758,
         "ao_signal": 0,
         "ao_position": 1,
         "_deepnote_index_column": "2021-02-12T00:00:00.000000"
        },
        {
         "Close": 276.0199890136719,
         "ao": 33.227583672018625,
         "ao_signal": 0,
         "ao_position": 1,
         "_deepnote_index_column": "2021-02-16T00:00:00.000000"
        },
        {
         "Close": 270.94000244140625,
         "ao": 34.7125244140625,
         "ao_signal": 0,
         "ao_position": 1,
         "_deepnote_index_column": "2021-02-17T00:00:00.000000"
        },
        {
         "Close": 270.8500061035156,
         "ao": 35.79449714211853,
         "ao_signal": 0,
         "ao_position": 1,
         "_deepnote_index_column": "2021-02-18T00:00:00.000000"
        },
        {
         "Close": 276.57000732421875,
         "ao": 36.54185283885283,
         "ao_signal": 0,
         "ao_position": 1,
         "_deepnote_index_column": "2021-02-19T00:00:00.000000"
        },
        {
         "Close": 268.0799865722656,
         "ao": 35.580470590030444,
         "ao_signal": 0,
         "ao_position": 1,
         "_deepnote_index_column": "2021-02-22T00:00:00.000000"
        },
        {
         "Close": 256.5899963378906,
         "ao": 31.907676158231823,
         "ao_signal": 0,
         "ao_position": 1,
         "_deepnote_index_column": "2021-02-23T00:00:00.000000"
        },
        {
         "Close": 237.32000732421875,
         "ao": 25.970324437758507,
         "ao_signal": 0,
         "ao_position": 1,
         "_deepnote_index_column": "2021-02-24T00:00:00.000000"
        },
        {
         "Close": 227.11000061035156,
         "ao": 18.119765427533338,
         "ao_signal": 0,
         "ao_position": 1,
         "_deepnote_index_column": "2021-02-25T00:00:00.000000"
        },
        {
         "Close": 230.02999877929688,
         "ao": 9.227499255012049,
         "ao_signal": 0,
         "ao_position": 1,
         "_deepnote_index_column": "2021-02-26T00:00:00.000000"
        },
        {
         "Close": 241,
         "ao": 2.0110878888298487,
         "ao_signal": 0,
         "ao_position": 1,
         "_deepnote_index_column": "2021-03-01T00:00:00.000000"
        },
        {
         "Close": 252.1999969482422,
         "ao": -1.5219401191262705,
         "ao_signal": -1,
         "ao_position": 0,
         "_deepnote_index_column": "2021-03-02T00:00:00.000000"
        },
        {
         "Close": 234.1999969482422,
         "ao": -2.763823296042034,
         "ao_signal": 0,
         "ao_position": 0,
         "_deepnote_index_column": "2021-03-03T00:00:00.000000"
        },
        {
         "Close": 218.41000366210938,
         "ao": -3.8600887074189814,
         "ao_signal": 0,
         "ao_position": 0,
         "_deepnote_index_column": "2021-03-04T00:00:00.000000"
        },
        {
         "Close": 216.44000244140625,
         "ao": -5.664676486744611,
         "ao_signal": 0,
         "ao_position": 0,
         "_deepnote_index_column": "2021-03-05T00:00:00.000000"
        },
        {
         "Close": 201.8699951171875,
         "ao": -10.315647259880507,
         "ao_signal": 0,
         "ao_position": 0,
         "_deepnote_index_column": "2021-03-08T00:00:00.000000"
        },
        {
         "Close": 225.08999633789062,
         "ao": -16.52714776431813,
         "ao_signal": 0,
         "ao_position": 0,
         "_deepnote_index_column": "2021-03-09T00:00:00.000000"
        },
        {
         "Close": 226.72999572753906,
         "ao": -19.954412707160486,
         "ao_signal": 0,
         "ao_position": 0,
         "_deepnote_index_column": "2021-03-10T00:00:00.000000"
        },
        {
         "Close": 241.72000122070312,
         "ao": -18.69658966064452,
         "ao_signal": 0,
         "ao_position": 0,
         "_deepnote_index_column": "2021-03-11T00:00:00.000000"
        },
        {
         "Close": 242.11000061035156,
         "ao": -14.406384232464973,
         "ao_signal": 0,
         "ao_position": 0,
         "_deepnote_index_column": "2021-03-12T00:00:00.000000"
        },
        {
         "Close": 251.22999572753906,
         "ao": -7.694854826085731,
         "ao_signal": 0,
         "ao_position": 0,
         "_deepnote_index_column": "2021-03-15T00:00:00.000000"
        },
        {
         "Close": 243.36000061035156,
         "ao": -1.9433249080882433,
         "ao_signal": 0,
         "ao_position": 0,
         "_deepnote_index_column": "2021-03-16T00:00:00.000000"
        },
        {
         "Close": 246.47000122070312,
         "ao": 0.7076761133530454,
         "ao_signal": 1,
         "ao_position": 1,
         "_deepnote_index_column": "2021-03-17T00:00:00.000000"
        },
        {
         "Close": 224.3000030517578,
         "ao": 0.22791222965017255,
         "ao_signal": 0,
         "ao_position": 1,
         "_deepnote_index_column": "2021-03-18T00:00:00.000000"
        },
        {
         "Close": 224.83999633789062,
         "ao": -3.436234911750347,
         "ao_signal": -1,
         "ao_position": 0,
         "_deepnote_index_column": "2021-03-19T00:00:00.000000"
        },
        {
         "Close": 226.1300048828125,
         "ao": -7.865440189137189,
         "ao_signal": 0,
         "ao_position": 0,
         "_deepnote_index_column": "2021-03-22T00:00:00.000000"
        },
        {
         "Close": 223.1999969482422,
         "ao": -12.387910147274255,
         "ao_signal": 0,
         "ao_position": 0,
         "_deepnote_index_column": "2021-03-23T00:00:00.000000"
        },
        {
         "Close": 213.50999450683594,
         "ao": -17.4225580103257,
         "ao_signal": 0,
         "ao_position": 0,
         "_deepnote_index_column": "2021-03-24T00:00:00.000000"
        },
        {
         "Close": 208.47000122070312,
         "ao": -21.659205806956578,
         "ao_signal": 0,
         "ao_position": 0,
         "_deepnote_index_column": "2021-03-25T00:00:00.000000"
        },
        {
         "Close": 213.60000610351562,
         "ao": -23.54223444321576,
         "ao_signal": 0,
         "ao_position": 0,
         "_deepnote_index_column": "2021-03-26T00:00:00.000000"
        },
        {
         "Close": 207.17999267578125,
         "ao": -25.39108752082376,
         "ao_signal": 0,
         "ao_position": 0,
         "_deepnote_index_column": "2021-03-29T00:00:00.000000"
        },
        {
         "Close": 212.8300018310547,
         "ao": -26.880735285141895,
         "ao_signal": 0,
         "ao_position": 0,
         "_deepnote_index_column": "2021-03-30T00:00:00.000000"
        },
        {
         "Close": 227.0500030517578,
         "ao": -25.450057759004494,
         "ao_signal": 0,
         "ao_position": 0,
         "_deepnote_index_column": "2021-03-31T00:00:00.000000"
        },
        {
         "Close": 229.50999450683594,
         "ao": -21.00882249719956,
         "ao_signal": 0,
         "ao_position": 0,
         "_deepnote_index_column": "2021-04-01T00:00:00.000000"
        },
        {
         "Close": 229.9499969482422,
         "ao": -16.10482406616211,
         "ao_signal": 0,
         "ao_position": 0,
         "_deepnote_index_column": "2021-04-05T00:00:00.000000"
        },
        {
         "Close": 236.5,
         "ao": -10.32723613065832,
         "ao_signal": 0,
         "ao_position": 0,
         "_deepnote_index_column": "2021-04-06T00:00:00.000000"
        },
        {
         "Close": 245.1199951171875,
         "ao": -3.205353770536533,
         "ao_signal": 0,
         "ao_position": 0,
         "_deepnote_index_column": "2021-04-07T00:00:00.000000"
        },
        {
         "Close": 258.3699951171875,
         "ao": 3.7188803280101013,
         "ao_signal": 1,
         "ao_position": 1,
         "_deepnote_index_column": "2021-04-08T00:00:00.000000"
        },
        {
         "Close": 261.6499938964844,
         "ao": 10.467821009018849,
         "ao_signal": 0,
         "ao_position": 1,
         "_deepnote_index_column": "2021-04-09T00:00:00.000000"
        },
        {
         "Close": 265.20001220703125,
         "ao": 17.468587000229775,
         "ao_signal": 0,
         "ao_position": 1,
         "_deepnote_index_column": "2021-04-12T00:00:00.000000"
        },
        {
         "Close": 273.2300109863281,
         "ao": 24.46423609116499,
         "ao_signal": 0,
         "ao_position": 1,
         "_deepnote_index_column": "2021-04-13T00:00:00.000000"
        },
        {
         "Close": 258.3999938964844,
         "ao": 28.910531167423045,
         "ao_signal": 0,
         "ao_position": 1,
         "_deepnote_index_column": "2021-04-14T00:00:00.000000"
        },
        {
         "Close": 263.0799865722656,
         "ao": 29.87056000653436,
         "ao_signal": 0,
         "ao_position": 1,
         "_deepnote_index_column": "2021-04-15T00:00:00.000000"
        },
        {
         "Close": 256.1000061035156,
         "ao": 28.874207530302158,
         "ao_signal": 0,
         "ao_position": 1,
         "_deepnote_index_column": "2021-04-16T00:00:00.000000"
        },
        {
         "Close": 245.3300018310547,
         "ao": 25.885148755241858,
         "ao_signal": 0,
         "ao_position": 1,
         "_deepnote_index_column": "2021-04-19T00:00:00.000000"
        },
        {
         "Close": 245.5,
         "ao": 21.1599994883818,
         "ao_signal": 0,
         "ao_position": 1,
         "_deepnote_index_column": "2021-04-20T00:00:00.000000"
        },
        {
         "Close": 245.25,
         "ao": 17.008028322107634,
         "ao_signal": 0,
         "ao_position": 1,
         "_deepnote_index_column": "2021-04-21T00:00:00.000000"
        },
        {
         "Close": 245.11000061035156,
         "ao": 13.340883277444277,
         "ao_signal": 0,
         "ao_position": 1,
         "_deepnote_index_column": "2021-04-22T00:00:00.000000"
        },
        {
         "Close": 246.42999267578125,
         "ao": 9.743207056382118,
         "ao_signal": 0,
         "ao_position": 1,
         "_deepnote_index_column": "2021-04-23T00:00:00.000000"
        },
        {
         "Close": 255.77000427246094,
         "ao": 8.586529496136848,
         "ao_signal": 0,
         "ao_position": 1,
         "_deepnote_index_column": "2021-04-26T00:00:00.000000"
        },
        {
         "Close": 253.7899932861328,
         "ao": 9.244823096780237,
         "ao_signal": 0,
         "ao_position": 1,
         "_deepnote_index_column": "2021-04-27T00:00:00.000000"
        },
        {
         "Close": 254.1999969482422,
         "ao": 10.142792735380283,
         "ao_signal": 0,
         "ao_position": 1,
         "_deepnote_index_column": "2021-04-28T00:00:00.000000"
        },
        {
         "Close": 247.75999450683594,
         "ao": 10.809997782987693,
         "ao_signal": 0,
         "ao_position": 1,
         "_deepnote_index_column": "2021-04-29T00:00:00.000000"
        },
        {
         "Close": 244.82000732421875,
         "ao": 10.78532216689166,
         "ao_signal": 0,
         "ao_position": 1,
         "_deepnote_index_column": "2021-04-30T00:00:00.000000"
        },
        {
         "Close": 243.67999267578125,
         "ao": 9.486498888801123,
         "ao_signal": 0,
         "ao_position": 1,
         "_deepnote_index_column": "2021-05-03T00:00:00.000000"
        },
        {
         "Close": 231.19000244140625,
         "ao": 6.307498662612005,
         "ao_signal": 0,
         "ao_position": 1,
         "_deepnote_index_column": "2021-05-04T00:00:00.000000"
        },
        {
         "Close": 231.8699951171875,
         "ao": 2.208175928452448,
         "ao_signal": 0,
         "ao_position": 1,
         "_deepnote_index_column": "2021-05-05T00:00:00.000000"
        },
        {
         "Close": 223.9600067138672,
         "ao": -2.1851171156939415,
         "ao_signal": -1,
         "ao_position": 0,
         "_deepnote_index_column": "2021-05-06T00:00:00.000000"
        },
        {
         "Close": 233.35000610351562,
         "ao": -5.832263273351344,
         "ao_signal": 0,
         "ao_position": 0,
         "_deepnote_index_column": "2021-05-07T00:00:00.000000"
        },
        {
         "Close": 216.42999267578125,
         "ao": -9.686763359518608,
         "ao_signal": 0,
         "ao_position": 0,
         "_deepnote_index_column": "2021-05-10T00:00:00.000000"
        },
        {
         "Close": 220.64999389648438,
         "ao": -13.28561693079331,
         "ao_signal": 0,
         "ao_position": 0,
         "_deepnote_index_column": "2021-05-11T00:00:00.000000"
        },
        {
         "Close": 206.6699981689453,
         "ao": -16.721529253791346,
         "ao_signal": 0,
         "ao_position": 0,
         "_deepnote_index_column": "2021-05-12T00:00:00.000000"
        },
        {
         "Close": 197.1300048828125,
         "ao": -21.657176298253688,
         "ao_signal": 0,
         "ao_position": 0,
         "_deepnote_index_column": "2021-05-13T00:00:00.000000"
        },
        {
         "Close": 207.85000610351562,
         "ao": -26.638853005801934,
         "ao_signal": 0,
         "ao_position": 0,
         "_deepnote_index_column": "2021-05-14T00:00:00.000000"
        },
        {
         "Close": 202.9199981689453,
         "ao": -30.392646654914415,
         "ao_signal": 0,
         "ao_position": 0,
         "_deepnote_index_column": "2021-05-17T00:00:00.000000"
        },
        {
         "Close": 203.16000366210938,
         "ao": -33.28779229556815,
         "ao_signal": 0,
         "ao_position": 0,
         "_deepnote_index_column": "2021-05-18T00:00:00.000000"
        },
        {
         "Close": 200.11000061035156,
         "ao": -35.15440871294808,
         "ao_signal": 0,
         "ao_position": 0,
         "_deepnote_index_column": "2021-05-19T00:00:00.000000"
        },
        {
         "Close": 204.91000366210938,
         "ao": -34.27446751314051,
         "ao_signal": 0,
         "ao_position": 0,
         "_deepnote_index_column": "2021-05-20T00:00:00.000000"
        },
        {
         "Close": 200.00999450683594,
         "ao": -33.4784100700827,
         "ao_signal": 0,
         "ao_position": 0,
         "_deepnote_index_column": "2021-05-21T00:00:00.000000"
        },
        {
         "Close": 210.9499969482422,
         "ao": -32.643381859274456,
         "ao_signal": 0,
         "ao_position": 0,
         "_deepnote_index_column": "2021-05-24T00:00:00.000000"
        },
        {
         "Close": 216.1999969482422,
         "ao": -29.735353223015295,
         "ao_signal": 0,
         "ao_position": 0,
         "_deepnote_index_column": "2021-05-25T00:00:00.000000"
        },
        {
         "Close": 222.33999633789062,
         "ao": -25.25320730770335,
         "ao_signal": 0,
         "ao_position": 0,
         "_deepnote_index_column": "2021-05-26T00:00:00.000000"
        },
        {
         "Close": 220.89999389648438,
         "ao": -20.302091082404644,
         "ao_signal": 0,
         "ao_position": 0,
         "_deepnote_index_column": "2021-05-27T00:00:00.000000"
        },
        {
         "Close": 222.52000427246094,
         "ao": -15.225179201013901,
         "ao_signal": 0,
         "ao_position": 0,
         "_deepnote_index_column": "2021-05-28T00:00:00.000000"
        },
        {
         "Close": 221.9499969482422,
         "ao": -10.492413195441742,
         "ao_signal": 0,
         "ao_position": 0,
         "_deepnote_index_column": "2021-06-01T00:00:00.000000"
        },
        {
         "Close": 220.41000366210938,
         "ao": -7.658618343577672,
         "ao_signal": 0,
         "ao_position": 0,
         "_deepnote_index_column": "2021-06-02T00:00:00.000000"
        },
        {
         "Close": 211.42999267578125,
         "ao": -7.010382977653961,
         "ao_signal": 0,
         "ao_position": 0,
         "_deepnote_index_column": "2021-06-03T00:00:00.000000"
        },
        {
         "Close": 213.69000244140625,
         "ao": -7.439147231158074,
         "ao_signal": 0,
         "ao_position": 0,
         "_deepnote_index_column": "2021-06-04T00:00:00.000000"
        },
        {
         "Close": 216.9499969482422,
         "ao": -7.676117571662445,
         "ao_signal": 0,
         "ao_position": 0,
         "_deepnote_index_column": "2021-06-07T00:00:00.000000"
        },
        {
         "Close": 214.1199951171875,
         "ao": -8.137294814165898,
         "ao_signal": 0,
         "ao_position": 0,
         "_deepnote_index_column": "2021-06-08T00:00:00.000000"
        },
        {
         "Close": 210.2100067138672,
         "ao": -8.963530013140513,
         "ao_signal": 0,
         "ao_position": 0,
         "_deepnote_index_column": "2021-06-09T00:00:00.000000"
        },
        {
         "Close": 217.13999938964844,
         "ao": -8.485911470301005,
         "ao_signal": 0,
         "ao_position": 0,
         "_deepnote_index_column": "2021-06-10T00:00:00.000000"
        },
        {
         "Close": 219.33999633789062,
         "ao": -6.540205562815942,
         "ao_signal": 0,
         "ao_position": 0,
         "_deepnote_index_column": "2021-06-11T00:00:00.000000"
        },
        {
         "Close": 230.9499969482422,
         "ao": -3.8118237663717878,
         "ao_signal": 0,
         "ao_position": 0,
         "_deepnote_index_column": "2021-06-14T00:00:00.000000"
        },
        {
         "Close": 227.75,
         "ao": -0.3008820926442013,
         "ao_signal": 0,
         "ao_position": 0,
         "_deepnote_index_column": "2021-06-15T00:00:00.000000"
        },
        {
         "Close": 225.11000061035156,
         "ao": 3.3628529268152647,
         "ao_signal": 1,
         "ao_position": 1,
         "_deepnote_index_column": "2021-06-16T00:00:00.000000"
        },
        {
         "Close": 236.1300048828125,
         "ao": 7.350676188749418,
         "ao_signal": 0,
         "ao_position": 1,
         "_deepnote_index_column": "2021-06-17T00:00:00.000000"
        },
        {
         "Close": 237.0500030517578,
         "ao": 11.30597143734201,
         "ao_signal": 0,
         "ao_position": 1,
         "_deepnote_index_column": "2021-06-18T00:00:00.000000"
        },
        {
         "Close": 233.88999938964844,
         "ao": 13.629207611083984,
         "ao_signal": 0,
         "ao_position": 1,
         "_deepnote_index_column": "2021-06-21T00:00:00.000000"
        },
        {
         "Close": 235.97000122070312,
         "ao": 14.818884367101333,
         "ao_signal": 0,
         "ao_position": 1,
         "_deepnote_index_column": "2021-06-22T00:00:00.000000"
        },
        {
         "Close": 238.6999969482422,
         "ao": 16.8291488198673,
         "ao_signal": 0,
         "ao_position": 1,
         "_deepnote_index_column": "2021-06-23T00:00:00.000000"
        },
        {
         "Close": 244.14999389648438,
         "ao": 18.59279457541075,
         "ao_signal": 0,
         "ao_position": 1,
         "_deepnote_index_column": "2021-06-24T00:00:00.000000"
        },
        {
         "Close": 239.94000244140625,
         "ao": 19.289970128676458,
         "ao_signal": 0,
         "ao_position": 1,
         "_deepnote_index_column": "2021-06-25T00:00:00.000000"
        },
        {
         "Close": 246.60000610351562,
         "ao": 20.309382360121788,
         "ao_signal": 0,
         "ao_position": 1,
         "_deepnote_index_column": "2021-06-28T00:00:00.000000"
        },
        {
         "Close": 248.8699951171875,
         "ao": 22.011705735150514,
         "ao_signal": 0,
         "ao_position": 1,
         "_deepnote_index_column": "2021-06-29T00:00:00.000000"
        },
        {
         "Close": 243.8000030517578,
         "ao": 22.850676233628235,
         "ao_signal": 0,
         "ao_position": 1,
         "_deepnote_index_column": "2021-06-30T00:00:00.000000"
        },
        {
         "Close": 241.85000610351562,
         "ao": 21.927001504337085,
         "ao_signal": 0,
         "ao_position": 1,
         "_deepnote_index_column": "2021-07-01T00:00:00.000000"
        },
        {
         "Close": 241.0800018310547,
         "ao": 20.664679179472074,
         "ao_signal": 0,
         "ao_position": 1,
         "_deepnote_index_column": "2021-07-02T00:00:00.000000"
        },
        {
         "Close": 246.6999969482422,
         "ao": 19.656178283691418,
         "ao_signal": 0,
         "ao_position": 1,
         "_deepnote_index_column": "2021-07-06T00:00:00.000000"
        },
        {
         "Close": 244.63999938964844,
         "ao": 17.98935434678023,
         "ao_signal": 0,
         "ao_position": 1,
         "_deepnote_index_column": "2021-07-07T00:00:00.000000"
        },
        {
         "Close": 235.89999389648438,
         "ao": 15.640030490650844,
         "ao_signal": 0,
         "ao_position": 1,
         "_deepnote_index_column": "2021-07-08T00:00:00.000000"
        },
        {
         "Close": 241.88999938964844,
         "ao": 13.783882006476915,
         "ao_signal": 0,
         "ao_position": 1,
         "_deepnote_index_column": "2021-07-09T00:00:00.000000"
        },
        {
         "Close": 243.35000610351562,
         "ao": 12.833705184038934,
         "ao_signal": 0,
         "ao_position": 1,
         "_deepnote_index_column": "2021-07-12T00:00:00.000000"
        },
        {
         "Close": 241.42999267578125,
         "ao": 11.448116841035755,
         "ao_signal": 0,
         "ao_position": 1,
         "_deepnote_index_column": "2021-07-13T00:00:00.000000"
        },
        {
         "Close": 239,
         "ao": 9.573587081011596,
         "ao_signal": 0,
         "ao_position": 1,
         "_deepnote_index_column": "2021-07-14T00:00:00.000000"
        },
        {
         "Close": 235.16000366210938,
         "ao": 8.411764436609587,
         "ao_signal": 0,
         "ao_position": 1,
         "_deepnote_index_column": "2021-07-15T00:00:00.000000"
        },
        {
         "Close": 237.52000427246094,
         "ao": 7.467824464685776,
         "ao_signal": 0,
         "ao_position": 1,
         "_deepnote_index_column": "2021-07-16T00:00:00.000000"
        },
        {
         "Close": 233.69000244140625,
         "ao": 5.656147990507236,
         "ao_signal": 0,
         "ao_position": 1,
         "_deepnote_index_column": "2021-07-19T00:00:00.000000"
        },
        {
         "Close": 246.47000122070312,
         "ao": 4.669295501708973,
         "ao_signal": 0,
         "ao_position": 1,
         "_deepnote_index_column": "2021-07-20T00:00:00.000000"
        },
        {
         "Close": 257.25,
         "ao": 6.095943406048946,
         "ao_signal": 0,
         "ao_position": 1,
         "_deepnote_index_column": "2021-07-21T00:00:00.000000"
        },
        {
         "Close": 260.5899963378906,
         "ao": 9.199236791274132,
         "ao_signal": 0,
         "ao_position": 1,
         "_deepnote_index_column": "2021-07-22T00:00:00.000000"
        },
        {
         "Close": 264,
         "ao": 12.927441496007589,
         "ao_signal": 0,
         "ao_position": 1,
         "_deepnote_index_column": "2021-07-23T00:00:00.000000"
        },
        {
         "Close": 261.989990234375,
         "ao": 17.003234100341786,
         "ao_signal": 0,
         "ao_position": 1,
         "_deepnote_index_column": "2021-07-26T00:00:00.000000"
        },
        {
         "Close": 251.72999572753906,
         "ao": 19.14379124360923,
         "ao_signal": 0,
         "ao_position": 1,
         "_deepnote_index_column": "2021-07-27T00:00:00.000000"
        },
        {
         "Close": 258.6099853515625,
         "ao": 18.540936593448436,
         "ao_signal": 0,
         "ao_position": 1,
         "_deepnote_index_column": "2021-07-28T00:00:00.000000"
        },
        {
         "Close": 255.27999877929688,
         "ao": 16.873288637049058,
         "ao_signal": 0,
         "ao_position": 1,
         "_deepnote_index_column": "2021-07-29T00:00:00.000000"
        },
        {
         "Close": 247.25999450683594,
         "ao": 13.696817779540993,
         "ao_signal": 0,
         "ao_position": 1,
         "_deepnote_index_column": "2021-07-30T00:00:00.000000"
        },
        {
         "Close": 272.3800048828125,
         "ao": 12.041965664134324,
         "ao_signal": 0,
         "ao_position": 1,
         "_deepnote_index_column": "2021-08-02T00:00:00.000000"
        },
        {
         "Close": 269.489990234375,
         "ao": 13.633878371294799,
         "ao_signal": 0,
         "ao_position": 1,
         "_deepnote_index_column": "2021-08-03T00:00:00.000000"
        },
        {
         "Close": 266.4200134277344,
         "ao": 14.969557055305017,
         "ao_signal": 0,
         "ao_position": 1,
         "_deepnote_index_column": "2021-08-04T00:00:00.000000"
        },
        {
         "Close": 281.80999755859375,
         "ao": 17.124294954187718,
         "ao_signal": 0,
         "ao_position": 1,
         "_deepnote_index_column": "2021-08-05T00:00:00.000000"
        },
        {
         "Close": 275.1000061035156,
         "ao": 21.329972525203942,
         "ao_signal": 0,
         "ao_position": 1,
         "_deepnote_index_column": "2021-08-06T00:00:00.000000"
        },
        {
         "Close": 279.7300109863281,
         "ao": 23.615297609217038,
         "ao_signal": 0,
         "ao_position": 1,
         "_deepnote_index_column": "2021-08-09T00:00:00.000000"
        },
        {
         "Close": 273.0799865722656,
         "ao": 23.48944495705996,
         "ao_signal": 0,
         "ao_position": 1,
         "_deepnote_index_column": "2021-08-10T00:00:00.000000"
        }
       ]
      },
      "text/plain": "                 Close         ao  ao_signal  ao_position\nDate                                                     \n2019-10-21   61.150002   1.802471          0            1\n2019-10-22   58.830002   1.222589          0            1\n2019-10-23   58.360001   0.315530          0            1\n2019-10-24   61.720001  -0.243823         -1            0\n2019-10-25   62.889999  -0.184587          0            0\n...                ...        ...        ...          ...\n2021-08-04  266.420013  14.969557          0            1\n2021-08-05  281.809998  17.124295          0            1\n2021-08-06  275.100006  21.329973          0            1\n2021-08-09  279.730011  23.615298          0            1\n2021-08-10  273.079987  23.489445          0            1\n\n[455 rows x 4 columns]",
      "text/html": "<div>\n<style scoped>\n    .dataframe tbody tr th:only-of-type {\n        vertical-align: middle;\n    }\n\n    .dataframe tbody tr th {\n        vertical-align: top;\n    }\n\n    .dataframe thead th {\n        text-align: right;\n    }\n</style>\n<table border=\"1\" class=\"dataframe\">\n  <thead>\n    <tr style=\"text-align: right;\">\n      <th></th>\n      <th>Close</th>\n      <th>ao</th>\n      <th>ao_signal</th>\n      <th>ao_position</th>\n    </tr>\n    <tr>\n      <th>Date</th>\n      <th></th>\n      <th></th>\n      <th></th>\n      <th></th>\n    </tr>\n  </thead>\n  <tbody>\n    <tr>\n      <th>2019-10-21</th>\n      <td>61.150002</td>\n      <td>1.802471</td>\n      <td>0</td>\n      <td>1</td>\n    </tr>\n    <tr>\n      <th>2019-10-22</th>\n      <td>58.830002</td>\n      <td>1.222589</td>\n      <td>0</td>\n      <td>1</td>\n    </tr>\n    <tr>\n      <th>2019-10-23</th>\n      <td>58.360001</td>\n      <td>0.315530</td>\n      <td>0</td>\n      <td>1</td>\n    </tr>\n    <tr>\n      <th>2019-10-24</th>\n      <td>61.720001</td>\n      <td>-0.243823</td>\n      <td>-1</td>\n      <td>0</td>\n    </tr>\n    <tr>\n      <th>2019-10-25</th>\n      <td>62.889999</td>\n      <td>-0.184587</td>\n      <td>0</td>\n      <td>0</td>\n    </tr>\n    <tr>\n      <th>...</th>\n      <td>...</td>\n      <td>...</td>\n      <td>...</td>\n      <td>...</td>\n    </tr>\n    <tr>\n      <th>2021-08-04</th>\n      <td>266.420013</td>\n      <td>14.969557</td>\n      <td>0</td>\n      <td>1</td>\n    </tr>\n    <tr>\n      <th>2021-08-05</th>\n      <td>281.809998</td>\n      <td>17.124295</td>\n      <td>0</td>\n      <td>1</td>\n    </tr>\n    <tr>\n      <th>2021-08-06</th>\n      <td>275.100006</td>\n      <td>21.329973</td>\n      <td>0</td>\n      <td>1</td>\n    </tr>\n    <tr>\n      <th>2021-08-09</th>\n      <td>279.730011</td>\n      <td>23.615298</td>\n      <td>0</td>\n      <td>1</td>\n    </tr>\n    <tr>\n      <th>2021-08-10</th>\n      <td>273.079987</td>\n      <td>23.489445</td>\n      <td>0</td>\n      <td>1</td>\n    </tr>\n  </tbody>\n</table>\n<p>455 rows × 4 columns</p>\n</div>"
     },
     "metadata": {}
    }
   ],
   "execution_count": null
  },
  {
   "cell_type": "code",
   "metadata": {
    "tags": [],
    "deepnote_to_be_reexecuted": false,
    "source_hash": "76b3977a",
    "execution_start": 1629328333666,
    "execution_millis": 24,
    "cell_id": "00007-1ea68df1-7b3d-4968-9d48-49bcd18b1018",
    "deepnote_cell_type": "code"
   },
   "source": "sq_ret = pd.DataFrame(np.diff(sq_1d['Close'])).rename(columns = {0:'returns'})\nao_strategy_ret = []\n\nfor i in range(len(sq_ret)):\n    returns = sq_ret['returns'][i]*strategy['ao_position'][i]\n    ao_strategy_ret.append(returns)\n    \nao_strategy_ret_df = pd.DataFrame(ao_strategy_ret).rename(columns = {0:'ao_returns'})\ninvestment_value = 100000\nnumber_of_stocks = floor(investment_value/sq_1d['Close'][-1])\nao_investment_ret = []\n\nfor i in range(len(ao_strategy_ret_df['ao_returns'])):\n    returns = number_of_stocks*ao_strategy_ret_df['ao_returns'][i]\n    ao_investment_ret.append(returns)\n\nao_investment_ret_df = pd.DataFrame(ao_investment_ret).rename(columns = {0:'investment_returns'})\ntotal_investment_ret = round(sum(ao_investment_ret_df['investment_returns']), 2)\nprofit_percentage = round((total_investment_ret/investment_value)*100, 2)\nprint(cl('Profit gained from the AO strategy by investing $100k in SQ : {}'.format(total_investment_ret), attrs = ['bold']))\nprint(cl('Profit percentage of the AO strategy : {}%'.format(profit_percentage), attrs = ['bold']))",
   "outputs": [
    {
     "name": "stdout",
     "text": "\u001b[1mProfit gained from the AO strategy by investing $100k in SQ : 41288.46\u001b[0m\n\u001b[1mProfit percentage of the AO strategy : 41.29%\u001b[0m\n",
     "output_type": "stream"
    }
   ],
   "execution_count": null
  },
  {
   "cell_type": "code",
   "metadata": {
    "tags": [],
    "cell_id": "00008-a9262e98-79ab-4a2e-8f51-7159ce21fea9",
    "deepnote_to_be_reexecuted": false,
    "source_hash": "976232b",
    "execution_start": 1629328333693,
    "execution_millis": 13,
    "deepnote_cell_type": "code"
   },
   "source": "strategy.to_csv('SQ 1D AO TRADE STRATEGY.csv')",
   "outputs": [],
   "execution_count": null
  },
  {
   "cell_type": "markdown",
   "source": "<a style='text-decoration:none;line-height:16px;display:flex;color:#5B5B62;padding:10px;justify-content:end;' href='https://deepnote.com?utm_source=created-in-deepnote-cell&projectId=d12c285c-6789-4c45-9ad7-1be9b4d60622' target=\"_blank\">\n<img alt='Created in deepnote.com' style='display:inline;max-height:16px;margin:0px;margin-right:7.5px;' src='data:image/svg+xml;base64,PD94bWwgdmVyc2lvbj0iMS4wIiBlbmNvZGluZz0iVVRGLTgiPz4KPHN2ZyB3aWR0aD0iODBweCIgaGVpZ2h0PSI4MHB4IiB2aWV3Qm94PSIwIDAgODAgODAiIHZlcnNpb249IjEuMSIgeG1sbnM9Imh0dHA6Ly93d3cudzMub3JnLzIwMDAvc3ZnIiB4bWxuczp4bGluaz0iaHR0cDovL3d3dy53My5vcmcvMTk5OS94bGluayI+CiAgICA8IS0tIEdlbmVyYXRvcjogU2tldGNoIDU0LjEgKDc2NDkwKSAtIGh0dHBzOi8vc2tldGNoYXBwLmNvbSAtLT4KICAgIDx0aXRsZT5Hcm91cCAzPC90aXRsZT4KICAgIDxkZXNjPkNyZWF0ZWQgd2l0aCBTa2V0Y2guPC9kZXNjPgogICAgPGcgaWQ9IkxhbmRpbmciIHN0cm9rZT0ibm9uZSIgc3Ryb2tlLXdpZHRoPSIxIiBmaWxsPSJub25lIiBmaWxsLXJ1bGU9ImV2ZW5vZGQiPgogICAgICAgIDxnIGlkPSJBcnRib2FyZCIgdHJhbnNmb3JtPSJ0cmFuc2xhdGUoLTEyMzUuMDAwMDAwLCAtNzkuMDAwMDAwKSI+CiAgICAgICAgICAgIDxnIGlkPSJHcm91cC0zIiB0cmFuc2Zvcm09InRyYW5zbGF0ZSgxMjM1LjAwMDAwMCwgNzkuMDAwMDAwKSI+CiAgICAgICAgICAgICAgICA8cG9seWdvbiBpZD0iUGF0aC0yMCIgZmlsbD0iIzAyNjVCNCIgcG9pbnRzPSIyLjM3NjIzNzYyIDgwIDM4LjA0NzY2NjcgODAgNTcuODIxNzgyMiA3My44MDU3NTkyIDU3LjgyMTc4MjIgMzIuNzU5MjczOSAzOS4xNDAyMjc4IDMxLjY4MzE2ODMiPjwvcG9seWdvbj4KICAgICAgICAgICAgICAgIDxwYXRoIGQ9Ik0zNS4wMDc3MTgsODAgQzQyLjkwNjIwMDcsNzYuNDU0OTM1OCA0Ny41NjQ5MTY3LDcxLjU0MjI2NzEgNDguOTgzODY2LDY1LjI2MTk5MzkgQzUxLjExMjI4OTksNTUuODQxNTg0MiA0MS42NzcxNzk1LDQ5LjIxMjIyODQgMjUuNjIzOTg0Niw0OS4yMTIyMjg0IEMyNS40ODQ5Mjg5LDQ5LjEyNjg0NDggMjkuODI2MTI5Niw0My4yODM4MjQ4IDM4LjY0NzU4NjksMzEuNjgzMTY4MyBMNzIuODcxMjg3MSwzMi41NTQ0MjUgTDY1LjI4MDk3Myw2Ny42NzYzNDIxIEw1MS4xMTIyODk5LDc3LjM3NjE0NCBMMzUuMDA3NzE4LDgwIFoiIGlkPSJQYXRoLTIyIiBmaWxsPSIjMDAyODY4Ij48L3BhdGg+CiAgICAgICAgICAgICAgICA8cGF0aCBkPSJNMCwzNy43MzA0NDA1IEwyNy4xMTQ1MzcsMC4yNTcxMTE0MzYgQzYyLjM3MTUxMjMsLTEuOTkwNzE3MDEgODAsMTAuNTAwMzkyNyA4MCwzNy43MzA0NDA1IEM4MCw2NC45NjA0ODgyIDY0Ljc3NjUwMzgsNzkuMDUwMzQxNCAzNC4zMjk1MTEzLDgwIEM0Ny4wNTUzNDg5LDc3LjU2NzA4MDggNTMuNDE4MjY3Nyw3MC4zMTM2MTAzIDUzLjQxODI2NzcsNTguMjM5NTg4NSBDNTMuNDE4MjY3Nyw0MC4xMjg1NTU3IDM2LjMwMzk1NDQsMzcuNzMwNDQwNSAyNS4yMjc0MTcsMzcuNzMwNDQwNSBDMTcuODQzMDU4NiwzNy43MzA0NDA1IDkuNDMzOTE5NjYsMzcuNzMwNDQwNSAwLDM3LjczMDQ0MDUgWiIgaWQ9IlBhdGgtMTkiIGZpbGw9IiMzNzkzRUYiPjwvcGF0aD4KICAgICAgICAgICAgPC9nPgogICAgICAgIDwvZz4KICAgIDwvZz4KPC9zdmc+' > </img>\nCreated in <span style='font-weight:600;margin-left:4px;'>Deepnote</span></a>",
   "metadata": {
    "tags": [],
    "created_in_deepnote_cell": true,
    "deepnote_cell_type": "markdown"
   }
  }
 ],
 "nbformat": 4,
 "nbformat_minor": 2,
 "metadata": {
  "orig_nbformat": 2,
  "deepnote": {
   "is_reactive": false
  },
  "deepnote_notebook_id": "5279a0e5-13aa-45c6-85bb-c77be5fb78c1",
  "deepnote_execution_queue": []
 }
}