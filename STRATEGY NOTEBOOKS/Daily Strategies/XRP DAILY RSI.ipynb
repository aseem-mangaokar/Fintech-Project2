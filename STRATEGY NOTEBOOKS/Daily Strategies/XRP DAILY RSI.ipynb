{
 "cells": [
  {
   "cell_type": "code",
   "metadata": {
    "deepnote_to_be_reexecuted": false,
    "source_hash": "dc4b376a",
    "execution_start": 1629247138238,
    "execution_millis": 6192,
    "cell_id": "00000-bd540d3f-dff0-47e2-8cf8-71523f70bac0",
    "deepnote_cell_type": "code"
   },
   "source": "pip install yfinance",
   "outputs": [
    {
     "name": "stdout",
     "text": "Requirement already satisfied: yfinance in /root/venv/lib/python3.7/site-packages (0.1.63)\nRequirement already satisfied: pandas>=0.24 in /shared-libs/python3.7/py/lib/python3.7/site-packages (from yfinance) (1.2.5)\nRequirement already satisfied: lxml>=4.5.1 in /shared-libs/python3.7/py/lib/python3.7/site-packages (from yfinance) (4.6.3)\nRequirement already satisfied: multitasking>=0.0.7 in /root/venv/lib/python3.7/site-packages (from yfinance) (0.0.9)\nRequirement already satisfied: requests>=2.20 in /shared-libs/python3.7/py/lib/python3.7/site-packages (from yfinance) (2.26.0)\nRequirement already satisfied: numpy>=1.15 in /shared-libs/python3.7/py/lib/python3.7/site-packages (from yfinance) (1.19.5)\nRequirement already satisfied: pytz>=2017.3 in /shared-libs/python3.7/py/lib/python3.7/site-packages (from pandas>=0.24->yfinance) (2021.1)\nRequirement already satisfied: python-dateutil>=2.7.3 in /shared-libs/python3.7/py-core/lib/python3.7/site-packages (from pandas>=0.24->yfinance) (2.8.2)\nRequirement already satisfied: six>=1.5 in /shared-libs/python3.7/py-core/lib/python3.7/site-packages (from python-dateutil>=2.7.3->pandas>=0.24->yfinance) (1.16.0)\nRequirement already satisfied: charset-normalizer~=2.0.0 in /shared-libs/python3.7/py/lib/python3.7/site-packages (from requests>=2.20->yfinance) (2.0.4)\nRequirement already satisfied: certifi>=2017.4.17 in /shared-libs/python3.7/py/lib/python3.7/site-packages (from requests>=2.20->yfinance) (2021.5.30)\nRequirement already satisfied: idna<4,>=2.5 in /shared-libs/python3.7/py-core/lib/python3.7/site-packages (from requests>=2.20->yfinance) (3.2)\nRequirement already satisfied: urllib3<1.27,>=1.21.1 in /shared-libs/python3.7/py/lib/python3.7/site-packages (from requests>=2.20->yfinance) (1.26.6)\n\u001b[33mWARNING: Running pip as the 'root' user can result in broken permissions and conflicting behaviour with the system package manager. It is recommended to use a virtual environment instead: https://pip.pypa.io/warnings/venv\u001b[0m\n\u001b[33mWARNING: You are using pip version 21.2.2; however, version 21.2.4 is available.\nYou should consider upgrading via the '/usr/local/bin/python -m pip install --upgrade pip' command.\u001b[0m\nNote: you may need to restart the kernel to use updated packages.\n",
     "output_type": "stream"
    }
   ],
   "execution_count": null
  },
  {
   "cell_type": "code",
   "metadata": {
    "deepnote_to_be_reexecuted": false,
    "source_hash": "32367b8d",
    "execution_start": 1629247144441,
    "execution_millis": 468,
    "cell_id": "00001-5e727f8b-49a2-4029-bcfb-baadd57ff63a",
    "deepnote_cell_type": "code"
   },
   "source": "import datetime as dt\nfrom pathlib import Path\nimport requests\nimport pandas as pd\nimport numpy as np\nfrom math import floor\nfrom termcolor import colored as cl\nimport matplotlib.pyplot as plt\nplt.close('all')\nimport yfinance as yf\nplt.rcParams['figure.figsize'] = (20, 10)\nplt.style.use('fivethirtyeight')",
   "outputs": [],
   "execution_count": null
  },
  {
   "cell_type": "code",
   "metadata": {
    "deepnote_to_be_reexecuted": false,
    "source_hash": "5947be7c",
    "execution_start": 1629247144917,
    "execution_millis": 523,
    "cell_id": "00002-3354f433-ddb1-42f9-9416-56d1c20c8521",
    "deepnote_cell_type": "code"
   },
   "source": "xrp_1d = yf.download(tickers='XRP-USD', start='2019-09-01', end = '2021-08-11', interval='1d')\nxrp_1d.drop(columns = ['Open','High','Low','Adj Close','Volume'], inplace = True)\n#xrp_1hr.reset_index(inplace=True)\n#xrp_1hr.rename(columns = {'index':'Datetime'}, inplace = True)\n#xrp_1hr.set_index(pd.to_datetime(xrp_1hr['Datetime'],infer_datetime_format=True),inplace=True)\nxrp_1d.head()",
   "outputs": [
    {
     "name": "stdout",
     "text": "[*********************100%***********************]  1 of 1 completed\n",
     "output_type": "stream"
    },
    {
     "output_type": "execute_result",
     "execution_count": 3,
     "data": {
      "application/vnd.deepnote.dataframe.v2+json": {
       "row_count": 5,
       "column_count": 1,
       "columns": [
        {
         "name": "Close",
         "dtype": "float64",
         "stats": {
          "unique_count": 5,
          "nan_count": 0,
          "min": "0.2563459873199463",
          "max": "0.263139009475708",
          "histogram": [
           {
            "bin_start": 0.2563459873199463,
            "bin_end": 0.25702528953552245,
            "count": 1
           },
           {
            "bin_start": 0.25702528953552245,
            "bin_end": 0.2577045917510986,
            "count": 0
           },
           {
            "bin_start": 0.2577045917510986,
            "bin_end": 0.2583838939666748,
            "count": 1
           },
           {
            "bin_start": 0.2583838939666748,
            "bin_end": 0.259063196182251,
            "count": 0
           },
           {
            "bin_start": 0.259063196182251,
            "bin_end": 0.25974249839782715,
            "count": 0
           },
           {
            "bin_start": 0.25974249839782715,
            "bin_end": 0.2604218006134033,
            "count": 1
           },
           {
            "bin_start": 0.2604218006134033,
            "bin_end": 0.26110110282897947,
            "count": 1
           },
           {
            "bin_start": 0.26110110282897947,
            "bin_end": 0.2617804050445557,
            "count": 0
           },
           {
            "bin_start": 0.2617804050445557,
            "bin_end": 0.26245970726013185,
            "count": 0
           },
           {
            "bin_start": 0.26245970726013185,
            "bin_end": 0.263139009475708,
            "count": 1
           }
          ]
         }
        },
        {
         "name": "_deepnote_index_column",
         "dtype": "datetime64[ns]"
        }
       ],
       "rows_top": [
        {
         "Close": 0.2580539882183075,
         "_deepnote_index_column": "2019-09-01T00:00:00.000000"
        },
        {
         "Close": 0.2608200013637543,
         "_deepnote_index_column": "2019-09-02T00:00:00.000000"
        },
        {
         "Close": 0.263139009475708,
         "_deepnote_index_column": "2019-09-03T00:00:00.000000"
        },
        {
         "Close": 0.25990501046180725,
         "_deepnote_index_column": "2019-09-04T00:00:00.000000"
        },
        {
         "Close": 0.2563459873199463,
         "_deepnote_index_column": "2019-09-05T00:00:00.000000"
        }
       ],
       "rows_bottom": null
      },
      "text/plain": "               Close\nDate                \n2019-09-01  0.258054\n2019-09-02  0.260820\n2019-09-03  0.263139\n2019-09-04  0.259905\n2019-09-05  0.256346",
      "text/html": "<div>\n<style scoped>\n    .dataframe tbody tr th:only-of-type {\n        vertical-align: middle;\n    }\n\n    .dataframe tbody tr th {\n        vertical-align: top;\n    }\n\n    .dataframe thead th {\n        text-align: right;\n    }\n</style>\n<table border=\"1\" class=\"dataframe\">\n  <thead>\n    <tr style=\"text-align: right;\">\n      <th></th>\n      <th>Close</th>\n    </tr>\n    <tr>\n      <th>Date</th>\n      <th></th>\n    </tr>\n  </thead>\n  <tbody>\n    <tr>\n      <th>2019-09-01</th>\n      <td>0.258054</td>\n    </tr>\n    <tr>\n      <th>2019-09-02</th>\n      <td>0.260820</td>\n    </tr>\n    <tr>\n      <th>2019-09-03</th>\n      <td>0.263139</td>\n    </tr>\n    <tr>\n      <th>2019-09-04</th>\n      <td>0.259905</td>\n    </tr>\n    <tr>\n      <th>2019-09-05</th>\n      <td>0.256346</td>\n    </tr>\n  </tbody>\n</table>\n</div>"
     },
     "metadata": {}
    }
   ],
   "execution_count": null
  },
  {
   "cell_type": "code",
   "metadata": {
    "deepnote_to_be_reexecuted": false,
    "source_hash": "13b9e29f",
    "execution_start": 1629247145430,
    "execution_millis": 603504567,
    "cell_id": "00003-342be39e-819e-4a0a-9ecd-3af37b8ce75a",
    "deepnote_cell_type": "code"
   },
   "source": "import datetime as dt\nimport matplotlib.pyplot as plt\nplt.close(\"all\")",
   "outputs": [],
   "execution_count": null
  },
  {
   "cell_type": "code",
   "metadata": {
    "deepnote_to_be_reexecuted": false,
    "source_hash": "19f388b8",
    "execution_start": 1629247145435,
    "execution_millis": 45,
    "cell_id": "00004-866c9e50-0f33-483f-9d3d-24a453db35c4",
    "deepnote_cell_type": "code"
   },
   "source": "xrp_diff = xrp_1d['Close'].diff()\nxrp_diff",
   "outputs": [
    {
     "output_type": "execute_result",
     "execution_count": 5,
     "data": {
      "text/plain": "Date\n2019-09-01         NaN\n2019-09-02    0.002766\n2019-09-03    0.002319\n2019-09-04   -0.003234\n2019-09-05   -0.003559\n                ...   \n2021-08-07    0.069768\n2021-08-08   -0.037542\n2021-08-09    0.039814\n2021-08-10    0.032694\n2021-08-11    0.161277\nName: Close, Length: 707, dtype: float64"
     },
     "metadata": {}
    }
   ],
   "execution_count": null
  },
  {
   "cell_type": "code",
   "metadata": {
    "deepnote_to_be_reexecuted": false,
    "source_hash": "6f5a1506",
    "execution_start": 1629247145498,
    "execution_millis": 46,
    "cell_id": "00005-6d5b5738-bb84-4a8f-92c2-11d43be1b9e0",
    "deepnote_cell_type": "code"
   },
   "source": "up = xrp_diff.clip(lower=0)\ndown = -1*xrp_diff.clip(upper=0)\nema_up = up.ewm(com=13, adjust=False).mean()\nema_down = down.ewm(com=13, adjust=False).mean()\nrs = ema_up/ema_down\nrs",
   "outputs": [
    {
     "output_type": "execute_result",
     "execution_count": 6,
     "data": {
      "text/plain": "Date\n2019-09-01          NaN\n2019-09-02         -inf\n2019-09-03         -inf\n2019-09-04    10.990447\n2019-09-05     5.029593\n                ...    \n2021-08-07     2.342294\n2021-08-08     1.651061\n2021-08-09     1.988104\n2021-08-10     2.286164\n2021-08-11     3.869569\nName: Close, Length: 707, dtype: float64"
     },
     "metadata": {}
    }
   ],
   "execution_count": null
  },
  {
   "cell_type": "code",
   "metadata": {
    "deepnote_to_be_reexecuted": false,
    "source_hash": "c779b12",
    "execution_start": 1629247145540,
    "execution_millis": 92,
    "cell_id": "00006-4eb9899b-1271-49f6-9f62-b506a377500c",
    "deepnote_cell_type": "code"
   },
   "source": "xrp_1d['RSI'] = 100 - (100/(1 + rs))\nxrp_1d['RSI']\nxrp_1d",
   "outputs": [
    {
     "output_type": "execute_result",
     "execution_count": 7,
     "data": {
      "application/vnd.deepnote.dataframe.v2+json": {
       "row_count": 707,
       "column_count": 2,
       "columns": [
        {
         "name": "Close",
         "dtype": "float64",
         "stats": {
          "unique_count": 706,
          "nan_count": 0,
          "min": "0.13963499665260315",
          "max": "1.8392360210418701",
          "histogram": [
           {
            "bin_start": 0.13963499665260315,
            "bin_end": 0.3095950990915298,
            "count": 468
           },
           {
            "bin_start": 0.3095950990915298,
            "bin_end": 0.47955520153045655,
            "count": 50
           },
           {
            "bin_start": 0.47955520153045655,
            "bin_end": 0.6495153039693833,
            "count": 85
           },
           {
            "bin_start": 0.6495153039693833,
            "bin_end": 0.81947540640831,
            "count": 29
           },
           {
            "bin_start": 0.81947540640831,
            "bin_end": 0.9894355088472366,
            "count": 23
           },
           {
            "bin_start": 0.9894355088472366,
            "bin_end": 1.1593956112861634,
            "count": 14
           },
           {
            "bin_start": 1.1593956112861634,
            "bin_end": 1.32935571372509,
            "count": 6
           },
           {
            "bin_start": 1.32935571372509,
            "bin_end": 1.4993158161640168,
            "count": 17
           },
           {
            "bin_start": 1.4993158161640168,
            "bin_end": 1.6692759186029436,
            "count": 12
           },
           {
            "bin_start": 1.6692759186029436,
            "bin_end": 1.8392360210418701,
            "count": 3
           }
          ]
         }
        },
        {
         "name": "RSI",
         "dtype": "float64",
         "stats": {
          "unique_count": 705,
          "nan_count": 1,
          "min": "19.736161317244907",
          "max": "100.0",
          "histogram": [
           {
            "bin_start": 19.736161317244907,
            "bin_end": 27.762545185520416,
            "count": 9
           },
           {
            "bin_start": 27.762545185520416,
            "bin_end": 35.788929053795925,
            "count": 67
           },
           {
            "bin_start": 35.788929053795925,
            "bin_end": 43.815312922071435,
            "count": 156
           },
           {
            "bin_start": 43.815312922071435,
            "bin_end": 51.841696790346944,
            "count": 151
           },
           {
            "bin_start": 51.841696790346944,
            "bin_end": 59.86808065862245,
            "count": 140
           },
           {
            "bin_start": 59.86808065862245,
            "bin_end": 67.89446452689796,
            "count": 96
           },
           {
            "bin_start": 67.89446452689796,
            "bin_end": 75.92084839517346,
            "count": 46
           },
           {
            "bin_start": 75.92084839517346,
            "bin_end": 83.94723226344898,
            "count": 26
           },
           {
            "bin_start": 83.94723226344898,
            "bin_end": 91.97361613172448,
            "count": 11
           },
           {
            "bin_start": 91.97361613172448,
            "bin_end": 100,
            "count": 4
           }
          ]
         }
        },
        {
         "name": "_deepnote_index_column",
         "dtype": "datetime64[ns]"
        }
       ],
       "rows_top": [
        {
         "Close": 0.2580539882183075,
         "RSI": "nan",
         "_deepnote_index_column": "2019-09-01T00:00:00.000000"
        },
        {
         "Close": 0.2608200013637543,
         "RSI": 100,
         "_deepnote_index_column": "2019-09-02T00:00:00.000000"
        },
        {
         "Close": 0.263139009475708,
         "RSI": 100,
         "_deepnote_index_column": "2019-09-03T00:00:00.000000"
        },
        {
         "Close": 0.25990501046180725,
         "RSI": 91.6600273594537,
         "_deepnote_index_column": "2019-09-04T00:00:00.000000"
        },
        {
         "Close": 0.2563459873199463,
         "RSI": 83.41513318658549,
         "_deepnote_index_column": "2019-09-05T00:00:00.000000"
        },
        {
         "Close": 0.2523399889469147,
         "RSI": 75.21409255984764,
         "_deepnote_index_column": "2019-09-06T00:00:00.000000"
        },
        {
         "Close": 0.260686993598938,
         "RSI": 79.69386501390242,
         "_deepnote_index_column": "2019-09-07T00:00:00.000000"
        },
        {
         "Close": 0.2630839943885803,
         "RSI": 80.76879419279699,
         "_deepnote_index_column": "2019-09-08T00:00:00.000000"
        },
        {
         "Close": 0.2595619857311249,
         "RSI": 74.52615514181606,
         "_deepnote_index_column": "2019-09-09T00:00:00.000000"
        },
        {
         "Close": 0.25867098569869995,
         "RSI": 72.98922072330507,
         "_deepnote_index_column": "2019-09-10T00:00:00.000000"
        },
        {
         "Close": 0.2559559941291809,
         "RSI": 68.36283206118983,
         "_deepnote_index_column": "2019-09-11T00:00:00.000000"
        },
        {
         "Close": 0.25481098890304565,
         "RSI": 66.44989211947659,
         "_deepnote_index_column": "2019-09-12T00:00:00.000000"
        },
        {
         "Close": 0.2555510103702545,
         "RSI": 67.0908355173548,
         "_deepnote_index_column": "2019-09-13T00:00:00.000000"
        },
        {
         "Close": 0.2611669898033142,
         "RSI": 71.53511236703054,
         "_deepnote_index_column": "2019-09-14T00:00:00.000000"
        },
        {
         "Close": 0.26162800192832947,
         "RSI": 71.87093584468487,
         "_deepnote_index_column": "2019-09-15T00:00:00.000000"
        },
        {
         "Close": 0.2609519958496094,
         "RSI": 70.55643417620718,
         "_deepnote_index_column": "2019-09-16T00:00:00.000000"
        },
        {
         "Close": 0.28501299023628235,
         "RSI": 82.69105308478736,
         "_deepnote_index_column": "2019-09-17T00:00:00.000000"
        },
        {
         "Close": 0.3137759864330292,
         "RSI": 88.69116038550192,
         "_deepnote_index_column": "2019-09-18T00:00:00.000000"
        },
        {
         "Close": 0.3024410009384155,
         "RSI": 77.31664506450898,
         "_deepnote_index_column": "2019-09-19T00:00:00.000000"
        },
        {
         "Close": 0.29447001218795776,
         "RSI": 70.4720841998419,
         "_deepnote_index_column": "2019-09-20T00:00:00.000000"
        },
        {
         "Close": 0.2894429862499237,
         "RSI": 66.4752495775524,
         "_deepnote_index_column": "2019-09-21T00:00:00.000000"
        },
        {
         "Close": 0.27893099188804626,
         "RSI": 58.94660896934293,
         "_deepnote_index_column": "2019-09-22T00:00:00.000000"
        },
        {
         "Close": 0.2686749994754791,
         "RSI": 52.67810393294463,
         "_deepnote_index_column": "2019-09-23T00:00:00.000000"
        },
        {
         "Close": 0.23522600531578064,
         "RSI": 38.3530776464903,
         "_deepnote_index_column": "2019-09-24T00:00:00.000000"
        },
        {
         "Close": 0.24644100666046143,
         "RSI": 43.86496393547011,
         "_deepnote_index_column": "2019-09-25T00:00:00.000000"
        },
        {
         "Close": 0.24378399550914764,
         "RSI": 42.88662475163519,
         "_deepnote_index_column": "2019-09-26T00:00:00.000000"
        },
        {
         "Close": 0.2440209984779358,
         "RSI": 43.008727409758535,
         "_deepnote_index_column": "2019-09-27T00:00:00.000000"
        },
        {
         "Close": 0.24257099628448486,
         "RSI": 42.41132266832807,
         "_deepnote_index_column": "2019-09-28T00:00:00.000000"
        },
        {
         "Close": 0.2413879930973053,
         "RSI": 41.899961627944826,
         "_deepnote_index_column": "2019-09-29T00:00:00.000000"
        },
        {
         "Close": 0.2559329867362976,
         "RSI": 49.89847173408671,
         "_deepnote_index_column": "2019-09-30T00:00:00.000000"
        },
        {
         "Close": 0.2495650053024292,
         "RSI": 46.85702426788792,
         "_deepnote_index_column": "2019-10-01T00:00:00.000000"
        },
        {
         "Close": 0.25353899598121643,
         "RSI": 48.948307977978025,
         "_deepnote_index_column": "2019-10-02T00:00:00.000000"
        },
        {
         "Close": 0.24785999953746796,
         "RSI": 46.153201519232454,
         "_deepnote_index_column": "2019-10-03T00:00:00.000000"
        },
        {
         "Close": 0.2539350092411041,
         "RSI": 49.47682176020148,
         "_deepnote_index_column": "2019-10-04T00:00:00.000000"
        },
        {
         "Close": 0.2534570097923279,
         "RSI": 49.219395476735876,
         "_deepnote_index_column": "2019-10-05T00:00:00.000000"
        },
        {
         "Close": 0.2577050030231476,
         "RSI": 51.62810958579941,
         "_deepnote_index_column": "2019-10-06T00:00:00.000000"
        },
        {
         "Close": 0.27568501234054565,
         "RSI": 60.227392445304304,
         "_deepnote_index_column": "2019-10-07T00:00:00.000000"
        },
        {
         "Close": 0.27845901250839233,
         "RSI": 61.36846278833018,
         "_deepnote_index_column": "2019-10-08T00:00:00.000000"
        },
        {
         "Close": 0.28162699937820435,
         "RSI": 62.68511781373108,
         "_deepnote_index_column": "2019-10-09T00:00:00.000000"
        },
        {
         "Close": 0.27207300066947937,
         "RSI": 56.437890966313994,
         "_deepnote_index_column": "2019-10-10T00:00:00.000000"
        },
        {
         "Close": 0.2710990011692047,
         "RSI": 55.82705334881956,
         "_deepnote_index_column": "2019-10-11T00:00:00.000000"
        },
        {
         "Close": 0.27319100499153137,
         "RSI": 56.905903680458565,
         "_deepnote_index_column": "2019-10-12T00:00:00.000000"
        },
        {
         "Close": 0.2777650058269501,
         "RSI": 59.24936433092301,
         "_deepnote_index_column": "2019-10-13T00:00:00.000000"
        },
        {
         "Close": 0.29652300477027893,
         "RSI": 67.141031556596,
         "_deepnote_index_column": "2019-10-14T00:00:00.000000"
        },
        {
         "Close": 0.28870201110839844,
         "RSI": 61.76983634210978,
         "_deepnote_index_column": "2019-10-15T00:00:00.000000"
        },
        {
         "Close": 0.28464001417160034,
         "RSI": 59.12431429342719,
         "_deepnote_index_column": "2019-10-16T00:00:00.000000"
        },
        {
         "Close": 0.30231499671936035,
         "RSI": 65.95667768249179,
         "_deepnote_index_column": "2019-10-17T00:00:00.000000"
        },
        {
         "Close": 0.2950049936771393,
         "RSI": 61.38660831780669,
         "_deepnote_index_column": "2019-10-18T00:00:00.000000"
        },
        {
         "Close": 0.2930220067501068,
         "RSI": 60.168680679859925,
         "_deepnote_index_column": "2019-10-19T00:00:00.000000"
        },
        {
         "Close": 0.2941789925098419,
         "RSI": 60.659119421720625,
         "_deepnote_index_column": "2019-10-20T00:00:00.000000"
        },
        {
         "Close": 0.29297900199890137,
         "RSI": 59.83619765901763,
         "_deepnote_index_column": "2019-10-21T00:00:00.000000"
        },
        {
         "Close": 0.29160699248313904,
         "RSI": 58.853101952785885,
         "_deepnote_index_column": "2019-10-22T00:00:00.000000"
        },
        {
         "Close": 0.2741430103778839,
         "RSI": 48.03480942296768,
         "_deepnote_index_column": "2019-10-23T00:00:00.000000"
        },
        {
         "Close": 0.27849099040031433,
         "RSI": 50.47563756310637,
         "_deepnote_index_column": "2019-10-24T00:00:00.000000"
        },
        {
         "Close": 0.2981649935245514,
         "RSI": 59.6997104005041,
         "_deepnote_index_column": "2019-10-25T00:00:00.000000"
        },
        {
         "Close": 0.2936989963054657,
         "RSI": 57.099854784998946,
         "_deepnote_index_column": "2019-10-26T00:00:00.000000"
        },
        {
         "Close": 0.29809999465942383,
         "RSI": 58.99495315894893,
         "_deepnote_index_column": "2019-10-27T00:00:00.000000"
        },
        {
         "Close": 0.2960070073604584,
         "RSI": 57.6897687863099,
         "_deepnote_index_column": "2019-10-28T00:00:00.000000"
        },
        {
         "Close": 0.3019559979438782,
         "RSI": 60.373297872519636,
         "_deepnote_index_column": "2019-10-29T00:00:00.000000"
        },
        {
         "Close": 0.2965550124645233,
         "RSI": 56.848040577775386,
         "_deepnote_index_column": "2019-10-30T00:00:00.000000"
        },
        {
         "Close": 0.29635798931121826,
         "RSI": 56.7179351929655,
         "_deepnote_index_column": "2019-10-31T00:00:00.000000"
        },
        {
         "Close": 0.2926419973373413,
         "RSI": 54.19846656065891,
         "_deepnote_index_column": "2019-11-01T00:00:00.000000"
        },
        {
         "Close": 0.2962630093097687,
         "RSI": 56.23842520223071,
         "_deepnote_index_column": "2019-11-02T00:00:00.000000"
        },
        {
         "Close": 0.2912609875202179,
         "RSI": 52.74370598787762,
         "_deepnote_index_column": "2019-11-03T00:00:00.000000"
        },
        {
         "Close": 0.29993700981140137,
         "RSI": 57.65849816447659,
         "_deepnote_index_column": "2019-11-04T00:00:00.000000"
        },
        {
         "Close": 0.3012549877166748,
         "RSI": 58.366862669728384,
         "_deepnote_index_column": "2019-11-05T00:00:00.000000"
        },
        {
         "Close": 0.3100860118865967,
         "RSI": 62.85142734725767,
         "_deepnote_index_column": "2019-11-06T00:00:00.000000"
        },
        {
         "Close": 0.2924309968948364,
         "RSI": 51.01942132767098,
         "_deepnote_index_column": "2019-11-07T00:00:00.000000"
        },
        {
         "Close": 0.2769530117511749,
         "RSI": 43.319930493223495,
         "_deepnote_index_column": "2019-11-08T00:00:00.000000"
        },
        {
         "Close": 0.28019601106643677,
         "RSI": 45.1864458012203,
         "_deepnote_index_column": "2019-11-09T00:00:00.000000"
        },
        {
         "Close": 0.28020399808883667,
         "RSI": 45.191232917134705,
         "_deepnote_index_column": "2019-11-10T00:00:00.000000"
        },
        {
         "Close": 0.275085985660553,
         "RSI": 42.622460583457084,
         "_deepnote_index_column": "2019-11-11T00:00:00.000000"
        },
        {
         "Close": 0.27241799235343933,
         "RSI": 41.30439866685059,
         "_deepnote_index_column": "2019-11-12T00:00:00.000000"
        },
        {
         "Close": 0.27303600311279297,
         "RSI": 41.75372455090799,
         "_deepnote_index_column": "2019-11-13T00:00:00.000000"
        },
        {
         "Close": 0.27039098739624023,
         "RSI": 40.330712177340246,
         "_deepnote_index_column": "2019-11-14T00:00:00.000000"
        },
        {
         "Close": 0.26165398955345154,
         "RSI": 35.96986455270893,
         "_deepnote_index_column": "2019-11-15T00:00:00.000000"
        },
        {
         "Close": 0.2638860046863556,
         "RSI": 37.8195938075684,
         "_deepnote_index_column": "2019-11-16T00:00:00.000000"
        },
        {
         "Close": 0.2652530074119568,
         "RSI": 38.98221205023861,
         "_deepnote_index_column": "2019-11-17T00:00:00.000000"
        },
        {
         "Close": 0.2556529939174652,
         "RSI": 34.15277293206127,
         "_deepnote_index_column": "2019-11-18T00:00:00.000000"
        },
        {
         "Close": 0.2565000057220459,
         "RSI": 34.91887663158913,
         "_deepnote_index_column": "2019-11-19T00:00:00.000000"
        },
        {
         "Close": 0.25136399269104004,
         "RSI": 32.45323792190237,
         "_deepnote_index_column": "2019-11-20T00:00:00.000000"
        },
        {
         "Close": 0.24376599490642548,
         "RSI": 29.171623818055465,
         "_deepnote_index_column": "2019-11-21T00:00:00.000000"
        },
        {
         "Close": 0.23160000145435333,
         "RSI": 24.840310547831066,
         "_deepnote_index_column": "2019-11-22T00:00:00.000000"
        },
        {
         "Close": 0.23618799448013306,
         "RSI": 29.114708705137247,
         "_deepnote_index_column": "2019-11-23T00:00:00.000000"
        },
        {
         "Close": 0.2231840044260025,
         "RSI": 24.808212801119794,
         "_deepnote_index_column": "2019-11-24T00:00:00.000000"
        },
        {
         "Close": 0.21862199902534485,
         "RSI": 23.495241159537642,
         "_deepnote_index_column": "2019-11-25T00:00:00.000000"
        },
        {
         "Close": 0.22214500606060028,
         "RSI": 26.720643616542702,
         "_deepnote_index_column": "2019-11-26T00:00:00.000000"
        },
        {
         "Close": 0.22508099675178528,
         "RSI": 29.39225716656712,
         "_deepnote_index_column": "2019-11-27T00:00:00.000000"
        },
        {
         "Close": 0.22457000613212585,
         "RSI": 29.1927721570313,
         "_deepnote_index_column": "2019-11-28T00:00:00.000000"
        },
        {
         "Close": 0.23021699488162994,
         "RSI": 34.48464165844797,
         "_deepnote_index_column": "2019-11-29T00:00:00.000000"
        },
        {
         "Close": 0.22647400200366974,
         "RSI": 32.738127420596754,
         "_deepnote_index_column": "2019-11-30T00:00:00.000000"
        },
        {
         "Close": 0.22533300518989563,
         "RSI": 32.20271430405268,
         "_deepnote_index_column": "2019-12-01T00:00:00.000000"
        },
        {
         "Close": 0.2195809930562973,
         "RSI": 29.576656428176847,
         "_deepnote_index_column": "2019-12-02T00:00:00.000000"
        },
        {
         "Close": 0.21987000107765198,
         "RSI": 29.88603563688089,
         "_deepnote_index_column": "2019-12-03T00:00:00.000000"
        },
        {
         "Close": 0.21634800732135773,
         "RSI": 28.256881830528584,
         "_deepnote_index_column": "2019-12-04T00:00:00.000000"
        },
        {
         "Close": 0.2229280024766922,
         "RSI": 35.347745370303755,
         "_deepnote_index_column": "2019-12-05T00:00:00.000000"
        },
        {
         "Close": 0.22550499439239502,
         "RSI": 37.934992175307606,
         "_deepnote_index_column": "2019-12-06T00:00:00.000000"
        },
        {
         "Close": 0.22844499349594116,
         "RSI": 40.84353347605783,
         "_deepnote_index_column": "2019-12-07T00:00:00.000000"
        },
        {
         "Close": 0.23043499886989594,
         "RSI": 42.79757851188822,
         "_deepnote_index_column": "2019-12-08T00:00:00.000000"
        },
        {
         "Close": 0.2254520058631897,
         "RSI": 39.29720256421986,
         "_deepnote_index_column": "2019-12-09T00:00:00.000000"
        },
        {
         "Close": 0.2243019938468933,
         "RSI": 38.51428839025458,
         "_deepnote_index_column": "2019-12-10T00:00:00.000000"
        },
        {
         "Close": 0.22205300629138947,
         "RSI": 36.96335460637845,
         "_deepnote_index_column": "2019-12-11T00:00:00.000000"
        },
        {
         "Close": 0.21985900402069092,
         "RSI": 35.46304097261009,
         "_deepnote_index_column": "2019-12-12T00:00:00.000000"
        },
        {
         "Close": 0.22075499594211578,
         "RSI": 36.59488523771157,
         "_deepnote_index_column": "2019-12-13T00:00:00.000000"
        },
        {
         "Close": 0.21735599637031555,
         "RSI": 34.148202149849155,
         "_deepnote_index_column": "2019-12-14T00:00:00.000000"
        },
        {
         "Close": 0.21860100328922272,
         "RSI": 35.84029817728643,
         "_deepnote_index_column": "2019-12-15T00:00:00.000000"
        },
        {
         "Close": 0.2072249948978424,
         "RSI": 28.607051323181423,
         "_deepnote_index_column": "2019-12-16T00:00:00.000000"
        },
        {
         "Close": 0.18369899690151215,
         "RSI": 19.736161317244907,
         "_deepnote_index_column": "2019-12-17T00:00:00.000000"
        },
        {
         "Close": 0.19617600739002228,
         "RSI": 31.81275396251708,
         "_deepnote_index_column": "2019-12-18T00:00:00.000000"
        },
        {
         "Close": 0.19081899523735046,
         "RSI": 29.743502039740164,
         "_deepnote_index_column": "2019-12-19T00:00:00.000000"
        },
        {
         "Close": 0.19531600177288055,
         "RSI": 33.64533889573519,
         "_deepnote_index_column": "2019-12-20T00:00:00.000000"
        },
        {
         "Close": 0.19408200681209564,
         "RSI": 33.10207311175064,
         "_deepnote_index_column": "2019-12-21T00:00:00.000000"
        },
        {
         "Close": 0.19697800278663635,
         "RSI": 35.72507309865959,
         "_deepnote_index_column": "2019-12-22T00:00:00.000000"
        },
        {
         "Close": 0.19094300270080566,
         "RSI": 32.835747126708156,
         "_deepnote_index_column": "2019-12-23T00:00:00.000000"
        },
        {
         "Close": 0.1921979933977127,
         "RSI": 34.03059845004107,
         "_deepnote_index_column": "2019-12-24T00:00:00.000000"
        },
        {
         "Close": 0.19071899354457855,
         "RSI": 33.27921595252282,
         "_deepnote_index_column": "2019-12-25T00:00:00.000000"
        },
        {
         "Close": 0.19039399921894073,
         "RSI": 33.10623685115158,
         "_deepnote_index_column": "2019-12-26T00:00:00.000000"
        },
        {
         "Close": 0.19110199809074402,
         "RSI": 33.91214157278037,
         "_deepnote_index_column": "2019-12-27T00:00:00.000000"
        },
        {
         "Close": 0.19322200119495392,
         "RSI": 36.383613509873165,
         "_deepnote_index_column": "2019-12-28T00:00:00.000000"
        },
        {
         "Close": 0.197051003575325,
         "RSI": 40.697241817478755,
         "_deepnote_index_column": "2019-12-29T00:00:00.000000"
        },
        {
         "Close": 0.194473996758461,
         "RSI": 38.7908271178894,
         "_deepnote_index_column": "2019-12-30T00:00:00.000000"
        },
        {
         "Close": 0.19289399683475494,
         "RSI": 37.62702676215761,
         "_deepnote_index_column": "2019-12-31T00:00:00.000000"
        },
        {
         "Close": 0.19266700744628906,
         "RSI": 37.45317812362722,
         "_deepnote_index_column": "2020-01-01T00:00:00.000000"
        },
        {
         "Close": 0.1880429983139038,
         "RSI": 34.00628084974528,
         "_deepnote_index_column": "2020-01-02T00:00:00.000000"
        },
        {
         "Close": 0.19352099299430847,
         "RSI": 40.940778264250895,
         "_deepnote_index_column": "2020-01-03T00:00:00.000000"
        },
        {
         "Close": 0.19435499608516693,
         "RSI": 41.94103710257338,
         "_deepnote_index_column": "2020-01-04T00:00:00.000000"
        },
        {
         "Close": 0.1955370008945465,
         "RSI": 43.404043905805935,
         "_deepnote_index_column": "2020-01-05T00:00:00.000000"
        },
        {
         "Close": 0.22150999307632446,
         "RSI": 64.54552945719851,
         "_deepnote_index_column": "2020-01-06T00:00:00.000000"
        },
        {
         "Close": 0.21391700208187103,
         "RSI": 57.75343799584575,
         "_deepnote_index_column": "2020-01-07T00:00:00.000000"
        },
        {
         "Close": 0.20902599394321442,
         "RSI": 53.82439569582323,
         "_deepnote_index_column": "2020-01-08T00:00:00.000000"
        },
        {
         "Close": 0.20489899814128876,
         "RSI": 50.69069555237348,
         "_deepnote_index_column": "2020-01-09T00:00:00.000000"
        },
        {
         "Close": 0.21230599284172058,
         "RSI": 55.67825222015356,
         "_deepnote_index_column": "2020-01-10T00:00:00.000000"
        },
        {
         "Close": 0.21185100078582764,
         "RSI": 55.308172964074544,
         "_deepnote_index_column": "2020-01-11T00:00:00.000000"
        },
        {
         "Close": 0.21563300490379333,
         "RSI": 57.81797485089929,
         "_deepnote_index_column": "2020-01-12T00:00:00.000000"
        },
        {
         "Close": 0.21261699497699738,
         "RSI": 55.15777933060763,
         "_deepnote_index_column": "2020-01-13T00:00:00.000000"
        },
        {
         "Close": 0.23468700051307678,
         "RSI": 67.09023484466043,
         "_deepnote_index_column": "2020-01-14T00:00:00.000000"
        },
        {
         "Close": 0.23289500176906586,
         "RSI": 65.56466360775812,
         "_deepnote_index_column": "2020-01-15T00:00:00.000000"
        },
        {
         "Close": 0.2285739928483963,
         "RSI": 61.90905652001321,
         "_deepnote_index_column": "2020-01-16T00:00:00.000000"
        },
        {
         "Close": 0.23877599835395813,
         "RSI": 66.63859801958563,
         "_deepnote_index_column": "2020-01-17T00:00:00.000000"
        },
        {
         "Close": 0.24328599870204926,
         "RSI": 68.5005804020832,
         "_deepnote_index_column": "2020-01-18T00:00:00.000000"
        },
        {
         "Close": 0.23558500409126282,
         "RSI": 62.1245622690392,
         "_deepnote_index_column": "2020-01-19T00:00:00.000000"
        },
        {
         "Close": 0.2332960069179535,
         "RSI": 60.32713585585236,
         "_deepnote_index_column": "2020-01-20T00:00:00.000000"
        },
        {
         "Close": 0.23716600239276886,
         "RSI": 62.31247749248098,
         "_deepnote_index_column": "2020-01-21T00:00:00.000000"
        },
        {
         "Close": 0.23605599999427795,
         "RSI": 61.36394306734421,
         "_deepnote_index_column": "2020-01-22T00:00:00.000000"
        },
        {
         "Close": 0.2261040061712265,
         "RSI": 53.500594138338556,
         "_deepnote_index_column": "2020-01-23T00:00:00.000000"
        },
        {
         "Close": 0.22304099798202515,
         "RSI": 51.32082421790823,
         "_deepnote_index_column": "2020-01-24T00:00:00.000000"
        },
        {
         "Close": 0.220427006483078,
         "RSI": 49.46848156761172,
         "_deepnote_index_column": "2020-01-25T00:00:00.000000"
        },
        {
         "Close": 0.2306859940290451,
         "RSI": 56.156773568513536,
         "_deepnote_index_column": "2020-01-26T00:00:00.000000"
        },
        {
         "Close": 0.231222003698349,
         "RSI": 56.48087862038258,
         "_deepnote_index_column": "2020-01-27T00:00:00.000000"
        },
        {
         "Close": 0.23848800361156464,
         "RSI": 60.71987990763982,
         "_deepnote_index_column": "2020-01-28T00:00:00.000000"
        },
        {
         "Close": 0.23573000729084015,
         "RSI": 58.39478610143784,
         "_deepnote_index_column": "2020-01-29T00:00:00.000000"
        },
        {
         "Close": 0.24364200234413147,
         "RSI": 62.79603392168404,
         "_deepnote_index_column": "2020-01-30T00:00:00.000000"
        },
        {
         "Close": 0.23923300206661224,
         "RSI": 59.047443707245364,
         "_deepnote_index_column": "2020-01-31T00:00:00.000000"
        },
        {
         "Close": 0.24145500361919403,
         "RSI": 60.33260703827985,
         "_deepnote_index_column": "2020-02-01T00:00:00.000000"
        },
        {
         "Close": 0.25073400139808655,
         "RSI": 65.23849154359868,
         "_deepnote_index_column": "2020-02-02T00:00:00.000000"
        },
        {
         "Close": 0.254626989364624,
         "RSI": 67.0781394325155,
         "_deepnote_index_column": "2020-02-03T00:00:00.000000"
        },
        {
         "Close": 0.26680800318717957,
         "RSI": 72.06054504369429,
         "_deepnote_index_column": "2020-02-04T00:00:00.000000"
        },
        {
         "Close": 0.2774679958820343,
         "RSI": 75.548131023893,
         "_deepnote_index_column": "2020-02-05T00:00:00.000000"
        },
        {
         "Close": 0.2822139859199524,
         "RSI": 76.92892661813671,
         "_deepnote_index_column": "2020-02-06T00:00:00.000000"
        },
        {
         "Close": 0.2792840003967285,
         "RSI": 74.1452177482266,
         "_deepnote_index_column": "2020-02-07T00:00:00.000000"
        },
        {
         "Close": 0.2772429883480072,
         "RSI": 72.1856960965614,
         "_deepnote_index_column": "2020-02-08T00:00:00.000000"
        },
        {
         "Close": 0.28245699405670166,
         "RSI": 74.07092691491424,
         "_deepnote_index_column": "2020-02-09T00:00:00.000000"
        },
        {
         "Close": 0.2740800082683563,
         "RSI": 66.29618738419049,
         "_deepnote_index_column": "2020-02-10T00:00:00.000000"
        },
        {
         "Close": 0.2801409959793091,
         "RSI": 68.84428520565781,
         "_deepnote_index_column": "2020-02-11T00:00:00.000000"
        },
        {
         "Close": 0.3043929934501648,
         "RSI": 76.50010604618431,
         "_deepnote_index_column": "2020-02-12T00:00:00.000000"
        },
        {
         "Close": 0.3267059922218323,
         "RSI": 81.10138983226169,
         "_deepnote_index_column": "2020-02-13T00:00:00.000000"
        },
        {
         "Close": 0.33482199907302856,
         "RSI": 82.44761699968531,
         "_deepnote_index_column": "2020-02-14T00:00:00.000000"
        },
        {
         "Close": 0.30623599886894226,
         "RSI": 64.90919938111469,
         "_deepnote_index_column": "2020-02-15T00:00:00.000000"
        },
        {
         "Close": 0.2950339913368225,
         "RSI": 59.56219946408259,
         "_deepnote_index_column": "2020-02-16T00:00:00.000000"
        },
        {
         "Close": 0.28657200932502747,
         "RSI": 55.82139077376783,
         "_deepnote_index_column": "2020-02-17T00:00:00.000000"
        },
        {
         "Close": 0.2979130148887634,
         "RSI": 59.49325230860736,
         "_deepnote_index_column": "2020-02-18T00:00:00.000000"
        },
        {
         "Close": 0.2776019871234894,
         "RSI": 51.27393210920882,
         "_deepnote_index_column": "2020-02-19T00:00:00.000000"
        },
        {
         "Close": 0.2723959982395172,
         "RSI": 49.390426220194506,
         "_deepnote_index_column": "2020-02-20T00:00:00.000000"
        },
        {
         "Close": 0.2749379873275757,
         "RSI": 50.34949370782937,
         "_deepnote_index_column": "2020-02-21T00:00:00.000000"
        },
        {
         "Close": 0.2759009897708893,
         "RSI": 50.730413724576515,
         "_deepnote_index_column": "2020-02-22T00:00:00.000000"
        },
        {
         "Close": 0.282710999250412,
         "RSI": 53.45018914635901,
         "_deepnote_index_column": "2020-02-23T00:00:00.000000"
        },
        {
         "Close": 0.2706269919872284,
         "RSI": 48.349869657671334,
         "_deepnote_index_column": "2020-02-24T00:00:00.000000"
        },
        {
         "Close": 0.25341200828552246,
         "RSI": 42.175548741314294,
         "_deepnote_index_column": "2020-02-25T00:00:00.000000"
        },
        {
         "Close": 0.23085099458694458,
         "RSI": 35.73498136746994,
         "_deepnote_index_column": "2020-02-26T00:00:00.000000"
        },
        {
         "Close": 0.2371159940958023,
         "RSI": 38.54165158629719,
         "_deepnote_index_column": "2020-02-27T00:00:00.000000"
        },
        {
         "Close": 0.23629599809646606,
         "RSI": 38.30584433080113,
         "_deepnote_index_column": "2020-02-28T00:00:00.000000"
        },
        {
         "Close": 0.23119300603866577,
         "RSI": 36.797024488981904,
         "_deepnote_index_column": "2020-02-29T00:00:00.000000"
        },
        {
         "Close": 0.2288459986448288,
         "RSI": 36.09286990304262,
         "_deepnote_index_column": "2020-03-01T00:00:00.000000"
        },
        {
         "Close": 0.2387470006942749,
         "RSI": 41.20438473847137,
         "_deepnote_index_column": "2020-03-02T00:00:00.000000"
        },
        {
         "Close": 0.23438100516796112,
         "RSI": 39.69658963781337,
         "_deepnote_index_column": "2020-03-03T00:00:00.000000"
        },
        {
         "Close": 0.2345300018787384,
         "RSI": 39.77758034165552,
         "_deepnote_index_column": "2020-03-04T00:00:00.000000"
        },
        {
         "Close": 0.23958200216293335,
         "RSI": 42.592915842094634,
         "_deepnote_index_column": "2020-03-05T00:00:00.000000"
        },
        {
         "Close": 0.24408799409866333,
         "RSI": 45.05993679287924,
         "_deepnote_index_column": "2020-03-06T00:00:00.000000"
        },
        {
         "Close": 0.2370709925889969,
         "RSI": 42.030787232009416,
         "_deepnote_index_column": "2020-03-07T00:00:00.000000"
        },
        {
         "Close": 0.20690399408340454,
         "RSI": 32.05422992667411,
         "_deepnote_index_column": "2020-03-08T00:00:00.000000"
        },
        {
         "Close": 0.20918099582195282,
         "RSI": 33.34038089394264,
         "_deepnote_index_column": "2020-03-09T00:00:00.000000"
        },
        {
         "Close": 0.2122350037097931,
         "RSI": 35.1144438618978,
         "_deepnote_index_column": "2020-03-10T00:00:00.000000"
        },
        {
         "Close": 0.2080959975719452,
         "RSI": 33.80148074009682,
         "_deepnote_index_column": "2020-03-11T00:00:00.000000"
        },
        {
         "Close": 0.13963499665260315,
         "RSI": 20.288549075912215,
         "_deepnote_index_column": "2020-03-12T00:00:00.000000"
        },
        {
         "Close": 0.15935200452804565,
         "RSI": 29.081881806692266,
         "_deepnote_index_column": "2020-03-13T00:00:00.000000"
        },
        {
         "Close": 0.14729200303554535,
         "RSI": 27.111808799921178,
         "_deepnote_index_column": "2020-03-14T00:00:00.000000"
        },
        {
         "Close": 0.15390199422836304,
         "RSI": 29.91419561030372,
         "_deepnote_index_column": "2020-03-15T00:00:00.000000"
        },
        {
         "Close": 0.14106300473213196,
         "RSI": 27.687459928031515,
         "_deepnote_index_column": "2020-03-16T00:00:00.000000"
        },
        {
         "Close": 0.1445239931344986,
         "RSI": 29.21704629627466,
         "_deepnote_index_column": "2020-03-17T00:00:00.000000"
        },
        {
         "Close": 0.14309999346733093,
         "RSI": 28.945752626075247,
         "_deepnote_index_column": "2020-03-18T00:00:00.000000"
        },
        {
         "Close": 0.16503700613975525,
         "RSI": 38.430414703983935,
         "_deepnote_index_column": "2020-03-19T00:00:00.000000"
        },
        {
         "Close": 0.15686799585819244,
         "RSI": 36.47771233665451,
         "_deepnote_index_column": "2020-03-20T00:00:00.000000"
        },
        {
         "Close": 0.15817900002002716,
         "RSI": 37.0306920678646,
         "_deepnote_index_column": "2020-03-21T00:00:00.000000"
        },
        {
         "Close": 0.15021400153636932,
         "RSI": 35.03518266087865,
         "_deepnote_index_column": "2020-03-22T00:00:00.000000"
        },
        {
         "Close": 0.15741899609565735,
         "RSI": 38.27546193065339,
         "_deepnote_index_column": "2020-03-23T00:00:00.000000"
        },
        {
         "Close": 0.16225500404834747,
         "RSI": 40.423381919652904,
         "_deepnote_index_column": "2020-03-24T00:00:00.000000"
        },
        {
         "Close": 0.16163299977779388,
         "RSI": 40.229473954749224,
         "_deepnote_index_column": "2020-03-25T00:00:00.000000"
        },
        {
         "Close": 0.17501899600028992,
         "RSI": 46.209593240266955,
         "_deepnote_index_column": "2020-03-26T00:00:00.000000"
        },
        {
         "Close": 0.17619499564170837,
         "RSI": 46.713995588575,
         "_deepnote_index_column": "2020-03-27T00:00:00.000000"
        },
        {
         "Close": 0.17578299343585968,
         "RSI": 46.549307370693256,
         "_deepnote_index_column": "2020-03-28T00:00:00.000000"
        },
        {
         "Close": 0.1638289988040924,
         "RSI": 41.93036679705602,
         "_deepnote_index_column": "2020-03-29T00:00:00.000000"
        },
        {
         "Close": 0.1721709966659546,
         "RSI": 45.960178539792345,
         "_deepnote_index_column": "2020-03-30T00:00:00.000000"
        },
        {
         "Close": 0.17456300556659698,
         "RSI": 47.09393183640883,
         "_deepnote_index_column": "2020-03-31T00:00:00.000000"
        },
        {
         "Close": 0.1753229945898056,
         "RSI": 47.471011324313025,
         "_deepnote_index_column": "2020-04-01T00:00:00.000000"
        },
        {
         "Close": 0.1786399930715561,
         "RSI": 49.17371254078729,
         "_deepnote_index_column": "2020-04-02T00:00:00.000000"
        },
        {
         "Close": 0.17946699261665344,
         "RSI": 49.61225236041628,
         "_deepnote_index_column": "2020-04-03T00:00:00.000000"
        },
        {
         "Close": 0.18173199892044067,
         "RSI": 50.86274282284128,
         "_deepnote_index_column": "2020-04-04T00:00:00.000000"
        },
        {
         "Close": 0.17940600216388702,
         "RSI": 49.5040522514224,
         "_deepnote_index_column": "2020-04-05T00:00:00.000000"
        },
        {
         "Close": 0.1955060064792633,
         "RSI": 57.8892825850652,
         "_deepnote_index_column": "2020-04-06T00:00:00.000000"
        },
        {
         "Close": 0.19209299981594086,
         "RSI": 55.77485532875109,
         "_deepnote_index_column": "2020-04-07T00:00:00.000000"
        },
        {
         "Close": 0.20086899399757385,
         "RSI": 59.83707826390247,
         "_deepnote_index_column": "2020-04-08T00:00:00.000000"
        },
        {
         "Close": 0.19825699925422668,
         "RSI": 58.125786771434505,
         "_deepnote_index_column": "2020-04-09T00:00:00.000000"
        },
        {
         "Close": 0.18746399879455566,
         "RSI": 51.563561988312614,
         "_deepnote_index_column": "2020-04-10T00:00:00.000000"
        },
        {
         "Close": 0.18806299567222595,
         "RSI": 51.8882011436763,
         "_deepnote_index_column": "2020-04-11T00:00:00.000000"
        },
        {
         "Close": 0.19013500213623047,
         "RSI": 53.0601841489274,
         "_deepnote_index_column": "2020-04-12T00:00:00.000000"
        },
        {
         "Close": 0.18773199617862701,
         "RSI": 51.49353813759149,
         "_deepnote_index_column": "2020-04-13T00:00:00.000000"
        },
        {
         "Close": 0.18533499538898468,
         "RSI": 49.91049759662563,
         "_deepnote_index_column": "2020-04-14T00:00:00.000000"
        },
        {
         "Close": 0.18127000331878662,
         "RSI": 47.25721425857464,
         "_deepnote_index_column": "2020-04-15T00:00:00.000000"
        },
        {
         "Close": 0.19010399281978607,
         "RSI": 53.09314231959407,
         "_deepnote_index_column": "2020-04-16T00:00:00.000000"
        },
        {
         "Close": 0.194924995303154,
         "RSI": 55.95723211360063,
         "_deepnote_index_column": "2020-04-18T00:00:00.000000"
        },
        {
         "Close": 0.19085900485515594,
         "RSI": 53.0170160088196,
         "_deepnote_index_column": "2020-04-19T00:00:00.000000"
        },
        {
         "Close": 0.18348999321460724,
         "RSI": 48.08566180855425,
         "_deepnote_index_column": "2020-04-20T00:00:00.000000"
        },
        {
         "Close": 0.18432800471782684,
         "RSI": 48.67037704667808,
         "_deepnote_index_column": "2020-04-21T00:00:00.000000"
        },
        {
         "Close": 0.18796999752521515,
         "RSI": 51.24070362433513,
         "_deepnote_index_column": "2020-04-22T00:00:00.000000"
        },
        {
         "Close": 0.19171099364757538,
         "RSI": 53.79985753250615,
         "_deepnote_index_column": "2020-04-23T00:00:00.000000"
        },
        {
         "Close": 0.19366499781608582,
         "RSI": 55.1247148470688,
         "_deepnote_index_column": "2020-04-24T00:00:00.000000"
        },
        {
         "Close": 0.19505399465560913,
         "RSI": 56.08868305370147,
         "_deepnote_index_column": "2020-04-25T00:00:00.000000"
        },
        {
         "Close": 0.19680500030517578,
         "RSI": 57.332965352093275,
         "_deepnote_index_column": "2020-04-26T00:00:00.000000"
        },
        {
         "Close": 0.19797800481319427,
         "RSI": 58.18772319531204,
         "_deepnote_index_column": "2020-04-27T00:00:00.000000"
        },
        {
         "Close": 0.21548399329185486,
         "RSI": 68.37135806040806,
         "_deepnote_index_column": "2020-04-28T00:00:00.000000"
        },
        {
         "Close": 0.2274319976568222,
         "RSI": 73.17370110063416,
         "_deepnote_index_column": "2020-04-29T00:00:00.000000"
        },
        {
         "Close": 0.21276099979877472,
         "RSI": 60.93844728129854,
         "_deepnote_index_column": "2020-04-30T00:00:00.000000"
        },
        {
         "Close": 0.2192479968070984,
         "RSI": 63.81919307835658,
         "_deepnote_index_column": "2020-05-01T00:00:00.000000"
        },
        {
         "Close": 0.2239139974117279,
         "RSI": 65.77439810490833,
         "_deepnote_index_column": "2020-05-02T00:00:00.000000"
        },
        {
         "Close": 0.21941399574279785,
         "RSI": 62.278911535714855,
         "_deepnote_index_column": "2020-05-03T00:00:00.000000"
        },
        {
         "Close": 0.21896299719810486,
         "RSI": 61.92372623348651,
         "_deepnote_index_column": "2020-05-04T00:00:00.000000"
        },
        {
         "Close": 0.21646299958229065,
         "RSI": 59.88489897620765,
         "_deepnote_index_column": "2020-05-05T00:00:00.000000"
        },
        {
         "Close": 0.21521000564098358,
         "RSI": 58.83925326276623,
         "_deepnote_index_column": "2020-05-06T00:00:00.000000"
        },
        {
         "Close": 0.21891699731349945,
         "RSI": 61.00843164227565,
         "_deepnote_index_column": "2020-05-07T00:00:00.000000"
        },
        {
         "Close": 0.21982699632644653,
         "RSI": 61.54420098053127,
         "_deepnote_index_column": "2020-05-08T00:00:00.000000"
        }
       ],
       "rows_bottom": [
        {
         "Close": 0.5844209790229797,
         "RSI": 59.810738739733296,
         "_deepnote_index_column": "2020-12-05T00:00:00.000000"
        },
        {
         "Close": 0.6198509931564331,
         "RSI": 62.525184352302325,
         "_deepnote_index_column": "2020-12-06T00:00:00.000000"
        },
        {
         "Close": 0.6089339852333069,
         "RSI": 61.15456461020197,
         "_deepnote_index_column": "2020-12-07T00:00:00.000000"
        },
        {
         "Close": 0.5588359832763672,
         "RSI": 55.177033898232914,
         "_deepnote_index_column": "2020-12-08T00:00:00.000000"
        },
        {
         "Close": 0.5835899710655212,
         "RSI": 57.39309812904521,
         "_deepnote_index_column": "2020-12-09T00:00:00.000000"
        },
        {
         "Close": 0.572953999042511,
         "RSI": 56.1094833205136,
         "_deepnote_index_column": "2020-12-10T00:00:00.000000"
        },
        {
         "Close": 0.5464829802513123,
         "RSI": 52.93621987635287,
         "_deepnote_index_column": "2020-12-11T00:00:00.000000"
        },
        {
         "Close": 0.506401002407074,
         "RSI": 48.466552937228144,
         "_deepnote_index_column": "2020-12-12T00:00:00.000000"
        },
        {
         "Close": 0.51146399974823,
         "RSI": 49.051740154862934,
         "_deepnote_index_column": "2020-12-13T00:00:00.000000"
        },
        {
         "Close": 0.49771198630332947,
         "RSI": 47.47481109838285,
         "_deepnote_index_column": "2020-12-14T00:00:00.000000"
        },
        {
         "Close": 0.46970999240875244,
         "RSI": 44.34842043981139,
         "_deepnote_index_column": "2020-12-15T00:00:00.000000"
        },
        {
         "Close": 0.5686280131340027,
         "RSI": 55.497428928914935,
         "_deepnote_index_column": "2020-12-16T00:00:00.000000"
        },
        {
         "Close": 0.5766770243644714,
         "RSI": 56.26521033754389,
         "_deepnote_index_column": "2020-12-17T00:00:00.000000"
        },
        {
         "Close": 0.5842800140380859,
         "RSI": 57.0195210759432,
         "_deepnote_index_column": "2020-12-18T00:00:00.000000"
        },
        {
         "Close": 0.5791630148887634,
         "RSI": 56.31553016399802,
         "_deepnote_index_column": "2020-12-19T00:00:00.000000"
        },
        {
         "Close": 0.5560579895973206,
         "RSI": 53.126002226896496,
         "_deepnote_index_column": "2020-12-20T00:00:00.000000"
        },
        {
         "Close": 0.5169439911842346,
         "RSI": 48.15389896468049,
         "_deepnote_index_column": "2020-12-21T00:00:00.000000"
        },
        {
         "Close": 0.4484480023384094,
         "RSI": 40.92970741294271,
         "_deepnote_index_column": "2020-12-22T00:00:00.000000"
        },
        {
         "Close": 0.25860199332237244,
         "RSI": 28.27038352575144,
         "_deepnote_index_column": "2020-12-23T00:00:00.000000"
        },
        {
         "Close": 0.33781901001930237,
         "RSI": 37.02331205662473,
         "_deepnote_index_column": "2020-12-24T00:00:00.000000"
        },
        {
         "Close": 0.3180910050868988,
         "RSI": 35.85005266331096,
         "_deepnote_index_column": "2020-12-25T00:00:00.000000"
        },
        {
         "Close": 0.29471299052238464,
         "RSI": 34.45657497734567,
         "_deepnote_index_column": "2020-12-26T00:00:00.000000"
        },
        {
         "Close": 0.28303900361061096,
         "RSI": 33.75107963495677,
         "_deepnote_index_column": "2020-12-27T00:00:00.000000"
        },
        {
         "Close": 0.2479580044746399,
         "RSI": 31.653668677646408,
         "_deepnote_index_column": "2020-12-28T00:00:00.000000"
        },
        {
         "Close": 0.22096200287342072,
         "RSI": 30.103343596396527,
         "_deepnote_index_column": "2020-12-29T00:00:00.000000"
        },
        {
         "Close": 0.21182799339294434,
         "RSI": 29.575533128688875,
         "_deepnote_index_column": "2020-12-30T00:00:00.000000"
        },
        {
         "Close": 0.2198459953069687,
         "RSI": 30.723784047738704,
         "_deepnote_index_column": "2020-12-31T00:00:00.000000"
        },
        {
         "Close": 0.23744399845600128,
         "RSI": 33.294515411302854,
         "_deepnote_index_column": "2021-01-01T00:00:00.000000"
        },
        {
         "Close": 0.2216549962759018,
         "RSI": 32.14206488856496,
         "_deepnote_index_column": "2021-01-02T00:00:00.000000"
        },
        {
         "Close": 0.2258480042219162,
         "RSI": 32.80722751002874,
         "_deepnote_index_column": "2021-01-03T00:00:00.000000"
        },
        {
         "Close": 0.23667700588703156,
         "RSI": 34.590490942510044,
         "_deepnote_index_column": "2021-01-04T00:00:00.000000"
        },
        {
         "Close": 0.22675000131130219,
         "RSI": 33.70734599883518,
         "_deepnote_index_column": "2021-01-05T00:00:00.000000"
        },
        {
         "Close": 0.2508949935436249,
         "RSI": 37.86281786745969,
         "_deepnote_index_column": "2021-01-06T00:00:00.000000"
        },
        {
         "Close": 0.32600200176239014,
         "RSI": 48.646417650793445,
         "_deepnote_index_column": "2021-01-07T00:00:00.000000"
        },
        {
         "Close": 0.32322999835014343,
         "RSI": 48.313163426739244,
         "_deepnote_index_column": "2021-01-08T00:00:00.000000"
        },
        {
         "Close": 0.32691600918769836,
         "RSI": 48.81528927977086,
         "_deepnote_index_column": "2021-01-09T00:00:00.000000"
        },
        {
         "Close": 0.31833600997924805,
         "RSI": 47.65476485735372,
         "_deepnote_index_column": "2021-01-10T00:00:00.000000"
        },
        {
         "Close": 0.28890499472618103,
         "RSI": 43.80752051702354,
         "_deepnote_index_column": "2021-01-11T00:00:00.000000"
        },
        {
         "Close": 0.2921229898929596,
         "RSI": 44.336668881660295,
         "_deepnote_index_column": "2021-01-12T00:00:00.000000"
        },
        {
         "Close": 0.3055799901485443,
         "RSI": 46.60120011823934,
         "_deepnote_index_column": "2021-01-13T00:00:00.000000"
        },
        {
         "Close": 0.2954379916191101,
         "RSI": 45.11164109959479,
         "_deepnote_index_column": "2021-01-14T00:00:00.000000"
        },
        {
         "Close": 0.28040599822998047,
         "RSI": 42.921782467683755,
         "_deepnote_index_column": "2021-01-15T00:00:00.000000"
        },
        {
         "Close": 0.2801879942417145,
         "RSI": 42.88926560708973,
         "_deepnote_index_column": "2021-01-16T00:00:00.000000"
        },
        {
         "Close": 0.2773840129375458,
         "RSI": 42.443874806158675,
         "_deepnote_index_column": "2021-01-17T00:00:00.000000"
        },
        {
         "Close": 0.2847689986228943,
         "RSI": 44.09065732044644,
         "_deepnote_index_column": "2021-01-18T00:00:00.000000"
        },
        {
         "Close": 0.2943139970302582,
         "RSI": 46.231968199377754,
         "_deepnote_index_column": "2021-01-19T00:00:00.000000"
        },
        {
         "Close": 0.2965179979801178,
         "RSI": 46.739219840995716,
         "_deepnote_index_column": "2021-01-20T00:00:00.000000"
        },
        {
         "Close": 0.26894599199295044,
         "RSI": 41.46861859374985,
         "_deepnote_index_column": "2021-01-21T00:00:00.000000"
        },
        {
         "Close": 0.27279898524284363,
         "RSI": 42.445346757295304,
         "_deepnote_index_column": "2021-01-22T00:00:00.000000"
        },
        {
         "Close": 0.271820992231369,
         "RSI": 42.252611715721,
         "_deepnote_index_column": "2021-01-23T00:00:00.000000"
        },
        {
         "Close": 0.2735089957714081,
         "RSI": 42.73593206123341,
         "_deepnote_index_column": "2021-01-24T00:00:00.000000"
        },
        {
         "Close": 0.269089013338089,
         "RSI": 41.750567394028444,
         "_deepnote_index_column": "2021-01-25T00:00:00.000000"
        },
        {
         "Close": 0.26882699131965637,
         "RSI": 41.68920118335705,
         "_deepnote_index_column": "2021-01-26T00:00:00.000000"
        },
        {
         "Close": 0.2519429922103882,
         "RSI": 37.830580029202416,
         "_deepnote_index_column": "2021-01-27T00:00:00.000000"
        },
        {
         "Close": 0.2572779953479767,
         "RSI": 39.72886741519725,
         "_deepnote_index_column": "2021-01-28T00:00:00.000000"
        },
        {
         "Close": 0.2821879982948303,
         "RSI": 47.75095319221395,
         "_deepnote_index_column": "2021-01-29T00:00:00.000000"
        },
        {
         "Close": 0.44024398922920227,
         "RSI": 72.63722843179698,
         "_deepnote_index_column": "2021-01-30T00:00:00.000000"
        },
        {
         "Close": 0.49231401085853577,
         "RSI": 76.59266931685157,
         "_deepnote_index_column": "2021-01-31T00:00:00.000000"
        },
        {
         "Close": 0.37150898575782776,
         "RSI": 56.2695564034574,
         "_deepnote_index_column": "2021-02-01T00:00:00.000000"
        },
        {
         "Close": 0.369269996881485,
         "RSI": 55.97311821819059,
         "_deepnote_index_column": "2021-02-02T00:00:00.000000"
        },
        {
         "Close": 0.3934899866580963,
         "RSI": 58.518880381004436,
         "_deepnote_index_column": "2021-02-03T00:00:00.000000"
        },
        {
         "Close": 0.44644901156425476,
         "RSI": 63.49008288766681,
         "_deepnote_index_column": "2021-02-04T00:00:00.000000"
        },
        {
         "Close": 0.45004698634147644,
         "RSI": 63.80742904010211,
         "_deepnote_index_column": "2021-02-05T00:00:00.000000"
        },
        {
         "Close": 0.43909600377082825,
         "RSI": 62.039873969375456,
         "_deepnote_index_column": "2021-02-06T00:00:00.000000"
        },
        {
         "Close": 0.41795799136161804,
         "RSI": 58.66192001630625,
         "_deepnote_index_column": "2021-02-07T00:00:00.000000"
        },
        {
         "Close": 0.44770199060440063,
         "RSI": 61.81272405813045,
         "_deepnote_index_column": "2021-02-08T00:00:00.000000"
        },
        {
         "Close": 0.47199100255966187,
         "RSI": 64.2116039191472,
         "_deepnote_index_column": "2021-02-09T00:00:00.000000"
        },
        {
         "Close": 0.503445029258728,
         "RSI": 67.09438044561576,
         "_deepnote_index_column": "2021-02-10T00:00:00.000000"
        },
        {
         "Close": 0.5247870087623596,
         "RSI": 68.92350747939608,
         "_deepnote_index_column": "2021-02-11T00:00:00.000000"
        },
        {
         "Close": 0.6085919737815857,
         "RSI": 74.8382337854377,
         "_deepnote_index_column": "2021-02-12T00:00:00.000000"
        },
        {
         "Close": 0.6289960145950317,
         "RSI": 76.0342178219696,
         "_deepnote_index_column": "2021-02-13T00:00:00.000000"
        },
        {
         "Close": 0.5941929817199707,
         "RSI": 69.92866375903367,
         "_deepnote_index_column": "2021-02-14T00:00:00.000000"
        },
        {
         "Close": 0.5489150285720825,
         "RSI": 62.85696454306478,
         "_deepnote_index_column": "2021-02-15T00:00:00.000000"
        },
        {
         "Close": 0.5208460092544556,
         "RSI": 58.881631463684464,
         "_deepnote_index_column": "2021-02-16T00:00:00.000000"
        },
        {
         "Close": 0.5355370044708252,
         "RSI": 60.29694513965421,
         "_deepnote_index_column": "2021-02-17T00:00:00.000000"
        },
        {
         "Close": 0.5324329733848572,
         "RSI": 59.8283654137295,
         "_deepnote_index_column": "2021-02-18T00:00:00.000000"
        },
        {
         "Close": 0.567018985748291,
         "RSI": 63.25483946432779,
         "_deepnote_index_column": "2021-02-19T00:00:00.000000"
        },
        {
         "Close": 0.5175120234489441,
         "RSI": 55.904233971808836,
         "_deepnote_index_column": "2021-02-20T00:00:00.000000"
        },
        {
         "Close": 0.5485600233078003,
         "RSI": 59.11319582905713,
         "_deepnote_index_column": "2021-02-21T00:00:00.000000"
        },
        {
         "Close": 0.571740984916687,
         "RSI": 61.37334580458749,
         "_deepnote_index_column": "2021-02-22T00:00:00.000000"
        },
        {
         "Close": 0.47356298565864563,
         "RSI": 49.01522341808491,
         "_deepnote_index_column": "2021-02-23T00:00:00.000000"
        },
        {
         "Close": 0.4718320071697235,
         "RSI": 48.82853877371303,
         "_deepnote_index_column": "2021-02-24T00:00:00.000000"
        },
        {
         "Close": 0.4345239996910095,
         "RSI": 44.86250676695031,
         "_deepnote_index_column": "2021-02-25T00:00:00.000000"
        },
        {
         "Close": 0.4278999865055084,
         "RSI": 44.176423455416256,
         "_deepnote_index_column": "2021-02-26T00:00:00.000000"
        },
        {
         "Close": 0.4378089904785156,
         "RSI": 45.518676704691586,
         "_deepnote_index_column": "2021-02-27T00:00:00.000000"
        },
        {
         "Close": 0.41495299339294434,
         "RSI": 42.95320497366845,
         "_deepnote_index_column": "2021-02-28T00:00:00.000000"
        },
        {
         "Close": 0.44724398851394653,
         "RSI": 47.45871763266427,
         "_deepnote_index_column": "2021-03-01T00:00:00.000000"
        },
        {
         "Close": 0.43683698773384094,
         "RSI": 46.19248604906537,
         "_deepnote_index_column": "2021-03-02T00:00:00.000000"
        },
        {
         "Close": 0.45027899742126465,
         "RSI": 48.11795931490109,
         "_deepnote_index_column": "2021-03-03T00:00:00.000000"
        },
        {
         "Close": 0.4866049885749817,
         "RSI": 53.01150914610523,
         "_deepnote_index_column": "2021-03-04T00:00:00.000000"
        },
        {
         "Close": 0.4581190049648285,
         "RSI": 49.100479323629315,
         "_deepnote_index_column": "2021-03-05T00:00:00.000000"
        },
        {
         "Close": 0.4651060104370117,
         "RSI": 50.07344409159409,
         "_deepnote_index_column": "2021-03-06T00:00:00.000000"
        },
        {
         "Close": 0.46686699986457825,
         "RSI": 50.33114616252226,
         "_deepnote_index_column": "2021-03-07T00:00:00.000000"
        },
        {
         "Close": 0.47359699010849,
         "RSI": 51.364343905597906,
         "_deepnote_index_column": "2021-03-08T00:00:00.000000"
        },
        {
         "Close": 0.48598799109458923,
         "RSI": 53.29088207026481,
         "_deepnote_index_column": "2021-03-09T00:00:00.000000"
        },
        {
         "Close": 0.4631659984588623,
         "RSI": 49.408847368671246,
         "_deepnote_index_column": "2021-03-10T00:00:00.000000"
        },
        {
         "Close": 0.4529600143432617,
         "RSI": 47.73420449993998,
         "_deepnote_index_column": "2021-03-11T00:00:00.000000"
        },
        {
         "Close": 0.44113099575042725,
         "RSI": 45.796753687428286,
         "_deepnote_index_column": "2021-03-12T00:00:00.000000"
        },
        {
         "Close": 0.45992401242256165,
         "RSI": 49.31641436286425,
         "_deepnote_index_column": "2021-03-13T00:00:00.000000"
        },
        {
         "Close": 0.442111998796463,
         "RSI": 46.25094280415151,
         "_deepnote_index_column": "2021-03-14T00:00:00.000000"
        },
        {
         "Close": 0.4375549852848053,
         "RSI": 45.47218290132718,
         "_deepnote_index_column": "2021-03-15T00:00:00.000000"
        },
        {
         "Close": 0.4625999927520752,
         "RSI": 50.41380270578197,
         "_deepnote_index_column": "2021-03-16T00:00:00.000000"
        },
        {
         "Close": 0.4724169969558716,
         "RSI": 52.24085207040157,
         "_deepnote_index_column": "2021-03-17T00:00:00.000000"
        },
        {
         "Close": 0.4729189872741699,
         "RSI": 52.337561046924485,
         "_deepnote_index_column": "2021-03-18T00:00:00.000000"
        },
        {
         "Close": 0.47117099165916443,
         "RSI": 51.94313277454835,
         "_deepnote_index_column": "2021-03-19T00:00:00.000000"
        },
        {
         "Close": 0.5269910097122192,
         "RSI": 61.83456339252888,
         "_deepnote_index_column": "2021-03-20T00:00:00.000000"
        },
        {
         "Close": 0.5198349952697754,
         "RSI": 60.125996987387026,
         "_deepnote_index_column": "2021-03-21T00:00:00.000000"
        },
        {
         "Close": 0.5499420166015625,
         "RSI": 64.56253744893999,
         "_deepnote_index_column": "2021-03-22T00:00:00.000000"
        },
        {
         "Close": 0.5565950274467468,
         "RSI": 65.47665613728398,
         "_deepnote_index_column": "2021-03-23T00:00:00.000000"
        },
        {
         "Close": 0.48883700370788574,
         "RSI": 51.0371181712122,
         "_deepnote_index_column": "2021-03-24T00:00:00.000000"
        },
        {
         "Close": 0.5174980163574219,
         "RSI": 55.506793648979645,
         "_deepnote_index_column": "2021-03-25T00:00:00.000000"
        },
        {
         "Close": 0.5670549869537354,
         "RSI": 61.97108418794895,
         "_deepnote_index_column": "2021-03-26T00:00:00.000000"
        },
        {
         "Close": 0.5504429936408997,
         "RSI": 58.88279972828485,
         "_deepnote_index_column": "2021-03-27T00:00:00.000000"
        },
        {
         "Close": 0.5507559776306152,
         "RSI": 58.92433316633388,
         "_deepnote_index_column": "2021-03-28T00:00:00.000000"
        },
        {
         "Close": 0.5678709745407104,
         "RSI": 61.23056621677646,
         "_deepnote_index_column": "2021-03-29T00:00:00.000000"
        },
        {
         "Close": 0.5668590068817139,
         "RSI": 61.01243820466614,
         "_deepnote_index_column": "2021-03-30T00:00:00.000000"
        },
        {
         "Close": 0.573868989944458,
         "RSI": 62.02172234732921,
         "_deepnote_index_column": "2021-03-31T00:00:00.000000"
        },
        {
         "Close": 0.5792919993400574,
         "RSI": 62.82351806942454,
         "_deepnote_index_column": "2021-04-01T00:00:00.000000"
        },
        {
         "Close": 0.6165689826011658,
         "RSI": 67.848302771574,
         "_deepnote_index_column": "2021-04-02T00:00:00.000000"
        },
        {
         "Close": 0.5909150242805481,
         "RSI": 61.67061754737799,
         "_deepnote_index_column": "2021-04-03T00:00:00.000000"
        },
        {
         "Close": 0.6467289924621582,
         "RSI": 68.40986583284531,
         "_deepnote_index_column": "2021-04-04T00:00:00.000000"
        },
        {
         "Close": 0.9204729795455933,
         "RSI": 83.62085094374038,
         "_deepnote_index_column": "2021-04-05T00:00:00.000000"
        },
        {
         "Close": 1.0962660312652588,
         "RSI": 87.71259064647995,
         "_deepnote_index_column": "2021-04-06T00:00:00.000000"
        },
        {
         "Close": 0.917576014995575,
         "RSI": 68.8771733944058,
         "_deepnote_index_column": "2021-04-07T00:00:00.000000"
        },
        {
         "Close": 1.0527559518814087,
         "RSI": 73.51132444246461,
         "_deepnote_index_column": "2021-04-08T00:00:00.000000"
        },
        {
         "Close": 1.0208369493484497,
         "RSI": 70.82951940377444,
         "_deepnote_index_column": "2021-04-09T00:00:00.000000"
        },
        {
         "Close": 1.3744159936904907,
         "RSI": 79.67505626761434,
         "_deepnote_index_column": "2021-04-10T00:00:00.000000"
        },
        {
         "Close": 1.3605300188064575,
         "RSI": 78.6661678231265,
         "_deepnote_index_column": "2021-04-11T00:00:00.000000"
        },
        {
         "Close": 1.4677350521087646,
         "RSI": 80.69824861358401,
         "_deepnote_index_column": "2021-04-12T00:00:00.000000"
        },
        {
         "Close": 1.7940009832382202,
         "RSI": 85.29038385602657,
         "_deepnote_index_column": "2021-04-13T00:00:00.000000"
        },
        {
         "Close": 1.8392360210418701,
         "RSI": 85.79498425100765,
         "_deepnote_index_column": "2021-04-14T00:00:00.000000"
        },
        {
         "Close": 1.7660670280456543,
         "RSI": 80.95728374279838,
         "_deepnote_index_column": "2021-04-15T00:00:00.000000"
        },
        {
         "Close": 1.55752694606781,
         "RSI": 69.01311675717182,
         "_deepnote_index_column": "2021-04-16T00:00:00.000000"
        },
        {
         "Close": 1.5600550174713135,
         "RSI": 69.07268662171127,
         "_deepnote_index_column": "2021-04-17T00:00:00.000000"
        },
        {
         "Close": 1.4059979915618896,
         "RSI": 61.334639176142446,
         "_deepnote_index_column": "2021-04-18T00:00:00.000000"
        },
        {
         "Close": 1.3150440454483032,
         "RSI": 57.25639030702176,
         "_deepnote_index_column": "2021-04-19T00:00:00.000000"
        },
        {
         "Close": 1.3832989931106567,
         "RSI": 59.43612968790441,
         "_deepnote_index_column": "2021-04-20T00:00:00.000000"
        },
        {
         "Close": 1.2964979410171509,
         "RSI": 55.556053134481154,
         "_deepnote_index_column": "2021-04-21T00:00:00.000000"
        },
        {
         "Close": 1.159682035446167,
         "RSI": 50.01392003524481,
         "_deepnote_index_column": "2021-04-22T00:00:00.000000"
        },
        {
         "Close": 1.169659972190857,
         "RSI": 50.40251224174455,
         "_deepnote_index_column": "2021-04-23T00:00:00.000000"
        },
        {
         "Close": 1.0487060546875,
         "RSI": 45.75862322894189,
         "_deepnote_index_column": "2021-04-24T00:00:00.000000"
        },
        {
         "Close": 1.032256007194519,
         "RSI": 45.14934867835314,
         "_deepnote_index_column": "2021-04-25T00:00:00.000000"
        },
        {
         "Close": 1.3685059547424316,
         "RSI": 57.582138927075015,
         "_deepnote_index_column": "2021-04-26T00:00:00.000000"
        },
        {
         "Close": 1.4009549617767334,
         "RSI": 58.558358776933005,
         "_deepnote_index_column": "2021-04-27T00:00:00.000000"
        },
        {
         "Close": 1.3586009740829468,
         "RSI": 56.72334929395829,
         "_deepnote_index_column": "2021-04-28T00:00:00.000000"
        },
        {
         "Close": 1.399359941482544,
         "RSI": 58.084595336814395,
         "_deepnote_index_column": "2021-04-29T00:00:00.000000"
        },
        {
         "Close": 1.5916739702224731,
         "RSI": 63.86070168094969,
         "_deepnote_index_column": "2021-04-30T00:00:00.000000"
        },
        {
         "Close": 1.6510250568389893,
         "RSI": 65.4433887585089,
         "_deepnote_index_column": "2021-05-01T00:00:00.000000"
        },
        {
         "Close": 1.5626410245895386,
         "RSI": 61.14869359392458,
         "_deepnote_index_column": "2021-05-02T00:00:00.000000"
        },
        {
         "Close": 1.555994987487793,
         "RSI": 60.82545325668227,
         "_deepnote_index_column": "2021-05-03T00:00:00.000000"
        },
        {
         "Close": 1.3923759460449219,
         "RSI": 53.34862560939783,
         "_deepnote_index_column": "2021-05-04T00:00:00.000000"
        },
        {
         "Close": 1.6145119667053223,
         "RSI": 60.455628889612754,
         "_deepnote_index_column": "2021-05-05T00:00:00.000000"
        },
        {
         "Close": 1.6005810499191284,
         "RSI": 59.8399437894823,
         "_deepnote_index_column": "2021-05-06T00:00:00.000000"
        },
        {
         "Close": 1.5817550420761108,
         "RSI": 58.96599347900132,
         "_deepnote_index_column": "2021-05-07T00:00:00.000000"
        },
        {
         "Close": 1.5625979900360107,
         "RSI": 58.0371200397213,
         "_deepnote_index_column": "2021-05-08T00:00:00.000000"
        },
        {
         "Close": 1.5352929830551147,
         "RSI": 56.666923532635494,
         "_deepnote_index_column": "2021-05-09T00:00:00.000000"
        },
        {
         "Close": 1.3890060186386108,
         "RSI": 49.873414948283525,
         "_deepnote_index_column": "2021-05-10T00:00:00.000000"
        },
        {
         "Close": 1.4776819944381714,
         "RSI": 53.51167255658129,
         "_deepnote_index_column": "2021-05-11T00:00:00.000000"
        },
        {
         "Close": 1.247864007949829,
         "RSI": 44.497538068226845,
         "_deepnote_index_column": "2021-05-12T00:00:00.000000"
        },
        {
         "Close": 1.3589099645614624,
         "RSI": 48.97054769380935,
         "_deepnote_index_column": "2021-05-13T00:00:00.000000"
        },
        {
         "Close": 1.4029170274734497,
         "RSI": 50.66733150066447,
         "_deepnote_index_column": "2021-05-14T00:00:00.000000"
        },
        {
         "Close": 1.4858800172805786,
         "RSI": 53.787053916374376,
         "_deepnote_index_column": "2021-05-15T00:00:00.000000"
        },
        {
         "Close": 1.452605962753296,
         "RSI": 52.35696890716519,
         "_deepnote_index_column": "2021-05-16T00:00:00.000000"
        },
        {
         "Close": 1.4962999820709229,
         "RSI": 54.083421171049274,
         "_deepnote_index_column": "2021-05-17T00:00:00.000000"
        },
        {
         "Close": 1.5907340049743652,
         "RSI": 57.6549110093275,
         "_deepnote_index_column": "2021-05-18T00:00:00.000000"
        },
        {
         "Close": 1.0703129768371582,
         "RSI": 39.445715367956055,
         "_deepnote_index_column": "2021-05-19T00:00:00.000000"
        },
        {
         "Close": 1.1855369806289673,
         "RSI": 43.686441591596676,
         "_deepnote_index_column": "2021-05-20T00:00:00.000000"
        },
        {
         "Close": 1.0069760084152222,
         "RSI": 39.11487012151562,
         "_deepnote_index_column": "2021-05-21T00:00:00.000000"
        },
        {
         "Close": 0.9063169956207275,
         "RSI": 36.778388614294656,
         "_deepnote_index_column": "2021-05-22T00:00:00.000000"
        },
        {
         "Close": 0.7970150113105774,
         "RSI": 34.37707212141008,
         "_deepnote_index_column": "2021-05-23T00:00:00.000000"
        },
        {
         "Close": 0.9928349852561951,
         "RSI": 41.718808012556295,
         "_deepnote_index_column": "2021-05-24T00:00:00.000000"
        },
        {
         "Close": 0.976186990737915,
         "RSI": 41.29580958028669,
         "_deepnote_index_column": "2021-05-25T00:00:00.000000"
        },
        {
         "Close": 1.0337250232696533,
         "RSI": 43.43065191760401,
         "_deepnote_index_column": "2021-05-26T00:00:00.000000"
        },
        {
         "Close": 0.9702349901199341,
         "RSI": 41.631554972881624,
         "_deepnote_index_column": "2021-05-27T00:00:00.000000"
        },
        {
         "Close": 0.9001479744911194,
         "RSI": 39.67757530891716,
         "_deepnote_index_column": "2021-05-28T00:00:00.000000"
        },
        {
         "Close": 0.8317880034446716,
         "RSI": 37.81337803179907,
         "_deepnote_index_column": "2021-05-29T00:00:00.000000"
        },
        {
         "Close": 0.9066089987754822,
         "RSI": 41.07655886163079,
         "_deepnote_index_column": "2021-05-30T00:00:00.000000"
        },
        {
         "Close": 1.0465840101242065,
         "RSI": 46.71032669791641,
         "_deepnote_index_column": "2021-05-31T00:00:00.000000"
        },
        {
         "Close": 1.0110009908676147,
         "RSI": 45.51886727019665,
         "_deepnote_index_column": "2021-06-01T00:00:00.000000"
        },
        {
         "Close": 1.024399995803833,
         "RSI": 46.076640580153594,
         "_deepnote_index_column": "2021-06-02T00:00:00.000000"
        },
        {
         "Close": 1.045320987701416,
         "RSI": 46.98921903318596,
         "_deepnote_index_column": "2021-06-03T00:00:00.000000"
        },
        {
         "Close": 0.970196008682251,
         "RSI": 44.10288216195107,
         "_deepnote_index_column": "2021-06-04T00:00:00.000000"
        },
        {
         "Close": 0.9232860207557678,
         "RSI": 42.353426335965686,
         "_deepnote_index_column": "2021-06-05T00:00:00.000000"
        },
        {
         "Close": 0.945285975933075,
         "RSI": 43.48565939668808,
         "_deepnote_index_column": "2021-06-06T00:00:00.000000"
        },
        {
         "Close": 0.8611549735069275,
         "RSI": 40.231439779441736,
         "_deepnote_index_column": "2021-06-07T00:00:00.000000"
        },
        {
         "Close": 0.8757879734039307,
         "RSI": 41.057649384772034,
         "_deepnote_index_column": "2021-06-08T00:00:00.000000"
        },
        {
         "Close": 0.9200339913368225,
         "RSI": 43.59656632747178,
         "_deepnote_index_column": "2021-06-09T00:00:00.000000"
        },
        {
         "Close": 0.8691819906234741,
         "RSI": 41.38991308139031,
         "_deepnote_index_column": "2021-06-10T00:00:00.000000"
        },
        {
         "Close": 0.8484500050544739,
         "RSI": 40.49010832733303,
         "_deepnote_index_column": "2021-06-11T00:00:00.000000"
        },
        {
         "Close": 0.8326830267906189,
         "RSI": 39.781787011660946,
         "_deepnote_index_column": "2021-06-12T00:00:00.000000"
        },
        {
         "Close": 0.8831599950790405,
         "RSI": 43.20713446984699,
         "_deepnote_index_column": "2021-06-13T00:00:00.000000"
        },
        {
         "Close": 0.8928970098495483,
         "RSI": 43.870397792401626,
         "_deepnote_index_column": "2021-06-14T00:00:00.000000"
        },
        {
         "Close": 0.8898000121116638,
         "RSI": 43.695602522871546,
         "_deepnote_index_column": "2021-06-15T00:00:00.000000"
        },
        {
         "Close": 0.8319079875946045,
         "RSI": 40.45108025308173,
         "_deepnote_index_column": "2021-06-16T00:00:00.000000"
        },
        {
         "Close": 0.8414379954338074,
         "RSI": 41.22476951963107,
         "_deepnote_index_column": "2021-06-17T00:00:00.000000"
        },
        {
         "Close": 0.797648012638092,
         "RSI": 38.73444350536231,
         "_deepnote_index_column": "2021-06-18T00:00:00.000000"
        },
        {
         "Close": 0.7616729736328125,
         "RSI": 36.76929895643216,
         "_deepnote_index_column": "2021-06-19T00:00:00.000000"
        },
        {
         "Close": 0.7763770222663879,
         "RSI": 38.150490094352804,
         "_deepnote_index_column": "2021-06-20T00:00:00.000000"
        },
        {
         "Close": 0.6103879809379578,
         "RSI": 30.145286647715082,
         "_deepnote_index_column": "2021-06-21T00:00:00.000000"
        },
        {
         "Close": 0.5450670123100281,
         "RSI": 27.68349625192168,
         "_deepnote_index_column": "2021-06-22T00:00:00.000000"
        },
        {
         "Close": 0.6265349984169006,
         "RSI": 34.83155423096578,
         "_deepnote_index_column": "2021-06-23T00:00:00.000000"
        },
        {
         "Close": 0.671999990940094,
         "RSI": 38.48582461654451,
         "_deepnote_index_column": "2021-06-24T00:00:00.000000"
        },
        {
         "Close": 0.6133229732513428,
         "RSI": 35.703250959840446,
         "_deepnote_index_column": "2021-06-25T00:00:00.000000"
        },
        {
         "Close": 0.615435004234314,
         "RSI": 35.88294611477555,
         "_deepnote_index_column": "2021-06-26T00:00:00.000000"
        },
        {
         "Close": 0.6469230055809021,
         "RSI": 38.636459886923205,
         "_deepnote_index_column": "2021-06-27T00:00:00.000000"
        },
        {
         "Close": 0.643746018409729,
         "RSI": 38.457009560082135,
         "_deepnote_index_column": "2021-06-28T00:00:00.000000"
        },
        {
         "Close": 0.7017250061035156,
         "RSI": 43.60488754248246,
         "_deepnote_index_column": "2021-06-29T00:00:00.000000"
        },
        {
         "Close": 0.7063739895820618,
         "RSI": 44.009312091956076,
         "_deepnote_index_column": "2021-06-30T00:00:00.000000"
        },
        {
         "Close": 0.6611800193786621,
         "RSI": 40.935987110815496,
         "_deepnote_index_column": "2021-07-01T00:00:00.000000"
        },
        {
         "Close": 0.6567630171775818,
         "RSI": 40.63729721913144,
         "_deepnote_index_column": "2021-07-02T00:00:00.000000"
        },
        {
         "Close": 0.6728879809379578,
         "RSI": 42.29269313677763,
         "_deepnote_index_column": "2021-07-03T00:00:00.000000"
        },
        {
         "Close": 0.6949449777603149,
         "RSI": 44.56971722311709,
         "_deepnote_index_column": "2021-07-04T00:00:00.000000"
        },
        {
         "Close": 0.6542999744415283,
         "RSI": 41.3331765640654,
         "_deepnote_index_column": "2021-07-05T00:00:00.000000"
        },
        {
         "Close": 0.6654019951820374,
         "RSI": 42.56014690107028,
         "_deepnote_index_column": "2021-07-06T00:00:00.000000"
        },
        {
         "Close": 0.6515750288963318,
         "RSI": 41.39886026656329,
         "_deepnote_index_column": "2021-07-07T00:00:00.000000"
        },
        {
         "Close": 0.623058021068573,
         "RSI": 39.03330361416408,
         "_deepnote_index_column": "2021-07-08T00:00:00.000000"
        },
        {
         "Close": 0.6368039846420288,
         "RSI": 40.789604214474906,
         "_deepnote_index_column": "2021-07-09T00:00:00.000000"
        },
        {
         "Close": 0.6254630088806152,
         "RSI": 39.771623789579664,
         "_deepnote_index_column": "2021-07-10T00:00:00.000000"
        },
        {
         "Close": 0.6359350085258484,
         "RSI": 41.23013086130265,
         "_deepnote_index_column": "2021-07-11T00:00:00.000000"
        },
        {
         "Close": 0.6301779747009277,
         "RSI": 40.64736562838258,
         "_deepnote_index_column": "2021-07-12T00:00:00.000000"
        },
        {
         "Close": 0.6195229887962341,
         "RSI": 39.533624304920274,
         "_deepnote_index_column": "2021-07-13T00:00:00.000000"
        },
        {
         "Close": 0.6203240156173706,
         "RSI": 39.667463210874715,
         "_deepnote_index_column": "2021-07-14T00:00:00.000000"
        },
        {
         "Close": 0.5969409942626953,
         "RSI": 37.08682931698142,
         "_deepnote_index_column": "2021-07-15T00:00:00.000000"
        },
        {
         "Close": 0.5907739996910095,
         "RSI": 36.41398011250698,
         "_deepnote_index_column": "2021-07-16T00:00:00.000000"
        },
        {
         "Close": 0.582427978515625,
         "RSI": 35.47593760362872,
         "_deepnote_index_column": "2021-07-17T00:00:00.000000"
        },
        {
         "Close": 0.5879219770431519,
         "RSI": 36.63314254229383,
         "_deepnote_index_column": "2021-07-18T00:00:00.000000"
        },
        {
         "Close": 0.5575559735298157,
         "RSI": 33.09971189051301,
         "_deepnote_index_column": "2021-07-19T00:00:00.000000"
        },
        {
         "Close": 0.5293359756469727,
         "RSI": 30.185783520847053,
         "_deepnote_index_column": "2021-07-20T00:00:00.000000"
        },
        {
         "Close": 0.569998025894165,
         "RSI": 38.57662154393162,
         "_deepnote_index_column": "2021-07-21T00:00:00.000000"
        },
        {
         "Close": 0.5922060012817383,
         "RSI": 42.63203634352656,
         "_deepnote_index_column": "2021-07-22T00:00:00.000000"
        },
        {
         "Close": 0.6092240214347839,
         "RSI": 45.59628665855893,
         "_deepnote_index_column": "2021-07-23T00:00:00.000000"
        },
        {
         "Close": 0.6098269820213318,
         "RSI": 45.70333579389182,
         "_deepnote_index_column": "2021-07-24T00:00:00.000000"
        },
        {
         "Close": 0.6063569784164429,
         "RSI": 45.152700512883406,
         "_deepnote_index_column": "2021-07-25T00:00:00.000000"
        },
        {
         "Close": 0.6256179809570312,
         "RSI": 48.83740248236278,
         "_deepnote_index_column": "2021-07-26T00:00:00.000000"
        },
        {
         "Close": 0.6446040272712708,
         "RSI": 52.24322812579659,
         "_deepnote_index_column": "2021-07-27T00:00:00.000000"
        },
        {
         "Close": 0.7254449725151062,
         "RSI": 63.411696699854744,
         "_deepnote_index_column": "2021-07-28T00:00:00.000000"
        },
        {
         "Close": 0.7480170130729675,
         "RSI": 65.81556769865404,
         "_deepnote_index_column": "2021-07-29T00:00:00.000000"
        },
        {
         "Close": 0.7521190047264099,
         "RSI": 66.24953527085631,
         "_deepnote_index_column": "2021-07-30T00:00:00.000000"
        },
        {
         "Close": 0.7477859854698181,
         "RSI": 65.30641885109303,
         "_deepnote_index_column": "2021-07-31T00:00:00.000000"
        },
        {
         "Close": 0.7259219884872437,
         "RSI": 60.61718534291026,
         "_deepnote_index_column": "2021-08-01T00:00:00.000000"
        },
        {
         "Close": 0.7392200231552124,
         "RSI": 62.386216944399266,
         "_deepnote_index_column": "2021-08-02T00:00:00.000000"
        },
        {
         "Close": 0.7127289772033691,
         "RSI": 56.90271321918297,
         "_deepnote_index_column": "2021-08-03T00:00:00.000000"
        },
        {
         "Close": 0.7304880023002625,
         "RSI": 59.4743196585096,
         "_deepnote_index_column": "2021-08-04T00:00:00.000000"
        },
        {
         "Close": 0.7331510186195374,
         "RSI": 59.86109562407568,
         "_deepnote_index_column": "2021-08-05T00:00:00.000000"
        },
        {
         "Close": 0.7465130090713501,
         "RSI": 61.82960648126735,
         "_deepnote_index_column": "2021-08-06T00:00:00.000000"
        },
        {
         "Close": 0.8162810206413269,
         "RSI": 70.0804333076614,
         "_deepnote_index_column": "2021-08-07T00:00:00.000000"
        },
        {
         "Close": 0.7787389755249023,
         "RSI": 62.27925014580746,
         "_deepnote_index_column": "2021-08-08T00:00:00.000000"
        },
        {
         "Close": 0.8185529708862305,
         "RSI": 66.53396513307055,
         "_deepnote_index_column": "2021-08-09T00:00:00.000000"
        },
        {
         "Close": 0.8512470126152039,
         "RSI": 69.56938275808882,
         "_deepnote_index_column": "2021-08-10T00:00:00.000000"
        },
        {
         "Close": 1.0125240087509155,
         "RSI": 79.46430052214608,
         "_deepnote_index_column": "2021-08-11T00:00:00.000000"
        }
       ]
      },
      "text/plain": "               Close         RSI\nDate                            \n2019-09-01  0.258054         NaN\n2019-09-02  0.260820  100.000000\n2019-09-03  0.263139  100.000000\n2019-09-04  0.259905   91.660027\n2019-09-05  0.256346   83.415133\n...              ...         ...\n2021-08-07  0.816281   70.080433\n2021-08-08  0.778739   62.279250\n2021-08-09  0.818553   66.533965\n2021-08-10  0.851247   69.569383\n2021-08-11  1.012524   79.464301\n\n[707 rows x 2 columns]",
      "text/html": "<div>\n<style scoped>\n    .dataframe tbody tr th:only-of-type {\n        vertical-align: middle;\n    }\n\n    .dataframe tbody tr th {\n        vertical-align: top;\n    }\n\n    .dataframe thead th {\n        text-align: right;\n    }\n</style>\n<table border=\"1\" class=\"dataframe\">\n  <thead>\n    <tr style=\"text-align: right;\">\n      <th></th>\n      <th>Close</th>\n      <th>RSI</th>\n    </tr>\n    <tr>\n      <th>Date</th>\n      <th></th>\n      <th></th>\n    </tr>\n  </thead>\n  <tbody>\n    <tr>\n      <th>2019-09-01</th>\n      <td>0.258054</td>\n      <td>NaN</td>\n    </tr>\n    <tr>\n      <th>2019-09-02</th>\n      <td>0.260820</td>\n      <td>100.000000</td>\n    </tr>\n    <tr>\n      <th>2019-09-03</th>\n      <td>0.263139</td>\n      <td>100.000000</td>\n    </tr>\n    <tr>\n      <th>2019-09-04</th>\n      <td>0.259905</td>\n      <td>91.660027</td>\n    </tr>\n    <tr>\n      <th>2019-09-05</th>\n      <td>0.256346</td>\n      <td>83.415133</td>\n    </tr>\n    <tr>\n      <th>...</th>\n      <td>...</td>\n      <td>...</td>\n    </tr>\n    <tr>\n      <th>2021-08-07</th>\n      <td>0.816281</td>\n      <td>70.080433</td>\n    </tr>\n    <tr>\n      <th>2021-08-08</th>\n      <td>0.778739</td>\n      <td>62.279250</td>\n    </tr>\n    <tr>\n      <th>2021-08-09</th>\n      <td>0.818553</td>\n      <td>66.533965</td>\n    </tr>\n    <tr>\n      <th>2021-08-10</th>\n      <td>0.851247</td>\n      <td>69.569383</td>\n    </tr>\n    <tr>\n      <th>2021-08-11</th>\n      <td>1.012524</td>\n      <td>79.464301</td>\n    </tr>\n  </tbody>\n</table>\n<p>707 rows × 2 columns</p>\n</div>"
     },
     "metadata": {}
    }
   ],
   "execution_count": null
  },
  {
   "cell_type": "code",
   "metadata": {
    "deepnote_to_be_reexecuted": false,
    "source_hash": "92b1c37a",
    "execution_start": 1629247145667,
    "execution_millis": 0,
    "cell_id": "00007-6a0188c9-9f30-4a7c-9276-540035850fef",
    "deepnote_cell_type": "code"
   },
   "source": "#xrp_1d_rsi=xrp_1d.iloc[: , 1:]\n#print(xrp_1d_rsi)",
   "outputs": [],
   "execution_count": null
  },
  {
   "cell_type": "code",
   "metadata": {
    "deepnote_to_be_reexecuted": false,
    "source_hash": "2b02cb43",
    "execution_start": 1629247145727,
    "execution_millis": 970,
    "cell_id": "00008-7ae5b4ec-f30d-49e8-8e24-61832a6f57c2",
    "deepnote_cell_type": "code"
   },
   "source": "fig, (ax1, ax2) = plt.subplots(2)\nax1.get_xaxis().set_visible(False)\nfig.suptitle('XRP-1d')\nxrp_1d['Close'].plot(ax=ax1)\nax1.set_ylabel('Price ($)')\nxrp_1d['RSI'].plot(ax=ax2)\nax2.set_ylim(0,100)\nax2.axhline(30, color='r', linestyle='--')\nax2.axhline(70, color='r', linestyle='--')\nax2.set_ylabel('RSI')\n\nplt.show()",
   "outputs": [
    {
     "data": {
      "text/plain": "<Figure size 1440x720 with 2 Axes>",
      "image/png": "[encoded data removed]"
     },
     "metadata": {
      "image/png": {
       "width": 1319,
       "height": 642
      }
     },
     "output_type": "display_data"
    }
   ],
   "execution_count": null
  },
  {
   "cell_type": "code",
   "metadata": {
    "deepnote_to_be_reexecuted": false,
    "source_hash": "9806487c",
    "execution_start": 1629247146705,
    "execution_millis": 2,
    "cell_id": "00009-a06ad72a-cc61-4c24-87ce-7a11e673abd6",
    "deepnote_cell_type": "code"
   },
   "source": "# TRADE STRATEGY BASED ON RSI\ndef implement_rsi_strategy(prices, rsi):\n    buy_price = []\n    sell_price = []\n    rsi_signal = []\n    signal = 0\n    \n    for i in range(len(prices)):\n        if rsi[i] >= 70 :\n            if signal != 1:\n                buy_price.append(prices[i])\n                sell_price.append(np.nan)\n                signal = 1\n                rsi_signal.append(signal)\n            else:\n                buy_price.append(np.nan)\n                sell_price.append(np.nan)\n                rsi_signal.append(0)\n        elif rsi[i] <= 30:\n            if signal != -1:\n                buy_price.append(np.nan)\n                sell_price.append(prices[i])\n                signal = -1\n                rsi_signal.append(signal)\n            else:\n                buy_price.append(np.nan)\n                sell_price.append(np.nan)\n                rsi_signal.append(0)\n        else:\n            buy_price.append(np.nan)\n            sell_price.append(np.nan)\n            rsi_signal.append(0)\n            \n    return buy_price, sell_price, rsi_signal\n\nbuy_price, sell_price, rsi_signal = implement_rsi_strategy(xrp_1d['Close'], xrp_1d['RSI'])",
   "outputs": [],
   "execution_count": null
  },
  {
   "cell_type": "code",
   "metadata": {
    "deepnote_to_be_reexecuted": false,
    "source_hash": "69c5177e",
    "execution_start": 1629247146717,
    "execution_millis": 928,
    "cell_id": "00010-d6195e3e-52fd-4907-b211-6f61d0440a1a",
    "deepnote_cell_type": "code"
   },
   "source": "# PLOTTING TRADE SIGNALS FOR SQ AROON 25 STRATEGY\ndf = xrp_1d\nax1 = plt.subplot2grid((11,1), (0,0), rowspan = 5, colspan = 1)\nax2 = plt.subplot2grid((11,1), (6,0), rowspan = 4, colspan = 1)\nax1.plot(df['Close'], linewidth = 2.5, color = '#2196f3')\nax1.plot(df.index, buy_price, marker = '^', color = '#26a69a', markersize = 12)\nax1.plot(df.index, sell_price, marker = 'v', color = '#ef5350', markersize = 12)\nax1.set_title('XRP DAILY CLOSE PRICES')\nax2.plot(df['RSI'], color = '#26a69a', linewidth = 2, label = 'RSI')\nax2.legend()\nax2.set_title('XRP RSI')\nplt.show()",
   "outputs": [
    {
     "data": {
      "text/plain": "<Figure size 1440x720 with 2 Axes>",
      "image/png": "[encoded data removed]"
     },
     "metadata": {
      "image/png": {
       "width": 1301,
       "height": 582
      }
     },
     "output_type": "display_data"
    }
   ],
   "execution_count": null
  },
  {
   "cell_type": "code",
   "metadata": {
    "tags": [],
    "deepnote_to_be_reexecuted": false,
    "source_hash": "66d851b5",
    "execution_start": 1629247147673,
    "execution_millis": 100,
    "cell_id": "00011-0630b12c-425e-4d9a-a443-0a188e919aa1",
    "deepnote_cell_type": "code"
   },
   "source": "# CREATING POSITION FOR SQ BASED ON AROON 25 SIGNALS\nposition = []\n\nfor i in range(len(rsi_signal)):\n    if rsi_signal[i] > 1:\n        position.append(0)\n    else:\n        position.append(1)\n        \nfor i in range(len(df['Close'])):\n    if rsi_signal[i] == 1:\n        position[i] = 1\n    elif rsi_signal[i] == -1:\n        position[i] = 0\n    else:\n        position[i] = position[i-1]\n        \nrsi = df['RSI']\nclose_price = df['Close']\nrsi_signal = pd.DataFrame(rsi_signal).rename(columns = {0:'rsi_signal'}).set_index(df.index)\nposition = pd.DataFrame(position).rename(columns = {0:'rsi_position'}).set_index(df.index)\n\nframes = [close_price, rsi, rsi_signal, position]\nstrategy = pd.concat(frames, join = 'inner', axis = 1)\n\nstrategy",
   "outputs": [
    {
     "output_type": "execute_result",
     "execution_count": 12,
     "data": {
      "application/vnd.deepnote.dataframe.v2+json": {
       "row_count": 707,
       "column_count": 4,
       "columns": [
        {
         "name": "Close",
         "dtype": "float64",
         "stats": {
          "unique_count": 706,
          "nan_count": 0,
          "min": "0.13963499665260315",
          "max": "1.8392360210418701",
          "histogram": [
           {
            "bin_start": 0.13963499665260315,
            "bin_end": 0.3095950990915298,
            "count": 468
           },
           {
            "bin_start": 0.3095950990915298,
            "bin_end": 0.47955520153045655,
            "count": 50
           },
           {
            "bin_start": 0.47955520153045655,
            "bin_end": 0.6495153039693833,
            "count": 85
           },
           {
            "bin_start": 0.6495153039693833,
            "bin_end": 0.81947540640831,
            "count": 29
           },
           {
            "bin_start": 0.81947540640831,
            "bin_end": 0.9894355088472366,
            "count": 23
           },
           {
            "bin_start": 0.9894355088472366,
            "bin_end": 1.1593956112861634,
            "count": 14
           },
           {
            "bin_start": 1.1593956112861634,
            "bin_end": 1.32935571372509,
            "count": 6
           },
           {
            "bin_start": 1.32935571372509,
            "bin_end": 1.4993158161640168,
            "count": 17
           },
           {
            "bin_start": 1.4993158161640168,
            "bin_end": 1.6692759186029436,
            "count": 12
           },
           {
            "bin_start": 1.6692759186029436,
            "bin_end": 1.8392360210418701,
            "count": 3
           }
          ]
         }
        },
        {
         "name": "RSI",
         "dtype": "float64",
         "stats": {
          "unique_count": 705,
          "nan_count": 1,
          "min": "19.736161317244907",
          "max": "100.0",
          "histogram": [
           {
            "bin_start": 19.736161317244907,
            "bin_end": 27.762545185520416,
            "count": 9
           },
           {
            "bin_start": 27.762545185520416,
            "bin_end": 35.788929053795925,
            "count": 67
           },
           {
            "bin_start": 35.788929053795925,
            "bin_end": 43.815312922071435,
            "count": 156
           },
           {
            "bin_start": 43.815312922071435,
            "bin_end": 51.841696790346944,
            "count": 151
           },
           {
            "bin_start": 51.841696790346944,
            "bin_end": 59.86808065862245,
            "count": 140
           },
           {
            "bin_start": 59.86808065862245,
            "bin_end": 67.89446452689796,
            "count": 96
           },
           {
            "bin_start": 67.89446452689796,
            "bin_end": 75.92084839517346,
            "count": 46
           },
           {
            "bin_start": 75.92084839517346,
            "bin_end": 83.94723226344898,
            "count": 26
           },
           {
            "bin_start": 83.94723226344898,
            "bin_end": 91.97361613172448,
            "count": 11
           },
           {
            "bin_start": 91.97361613172448,
            "bin_end": 100,
            "count": 4
           }
          ]
         }
        },
        {
         "name": "rsi_signal",
         "dtype": "int64",
         "stats": {
          "unique_count": 3,
          "nan_count": 0,
          "min": "-1",
          "max": "1",
          "histogram": [
           {
            "bin_start": -1,
            "bin_end": -0.8,
            "count": 4
           },
           {
            "bin_start": -0.8,
            "bin_end": -0.6,
            "count": 0
           },
           {
            "bin_start": -0.6,
            "bin_end": -0.3999999999999999,
            "count": 0
           },
           {
            "bin_start": -0.3999999999999999,
            "bin_end": -0.19999999999999996,
            "count": 0
           },
           {
            "bin_start": -0.19999999999999996,
            "bin_end": 0,
            "count": 0
           },
           {
            "bin_start": 0,
            "bin_end": 0.20000000000000018,
            "count": 698
           },
           {
            "bin_start": 0.20000000000000018,
            "bin_end": 0.40000000000000013,
            "count": 0
           },
           {
            "bin_start": 0.40000000000000013,
            "bin_end": 0.6000000000000001,
            "count": 0
           },
           {
            "bin_start": 0.6000000000000001,
            "bin_end": 0.8,
            "count": 0
           },
           {
            "bin_start": 0.8,
            "bin_end": 1,
            "count": 5
           }
          ]
         }
        },
        {
         "name": "rsi_position",
         "dtype": "int64",
         "stats": {
          "unique_count": 2,
          "nan_count": 0,
          "min": "0",
          "max": "1",
          "histogram": [
           {
            "bin_start": 0,
            "bin_end": 0.1,
            "count": 206
           },
           {
            "bin_start": 0.1,
            "bin_end": 0.2,
            "count": 0
           },
           {
            "bin_start": 0.2,
            "bin_end": 0.30000000000000004,
            "count": 0
           },
           {
            "bin_start": 0.30000000000000004,
            "bin_end": 0.4,
            "count": 0
           },
           {
            "bin_start": 0.4,
            "bin_end": 0.5,
            "count": 0
           },
           {
            "bin_start": 0.5,
            "bin_end": 0.6000000000000001,
            "count": 0
           },
           {
            "bin_start": 0.6000000000000001,
            "bin_end": 0.7000000000000001,
            "count": 0
           },
           {
            "bin_start": 0.7000000000000001,
            "bin_end": 0.8,
            "count": 0
           },
           {
            "bin_start": 0.8,
            "bin_end": 0.9,
            "count": 0
           },
           {
            "bin_start": 0.9,
            "bin_end": 1,
            "count": 501
           }
          ]
         }
        },
        {
         "name": "_deepnote_index_column",
         "dtype": "datetime64[ns]"
        }
       ],
       "rows_top": [
        {
         "Close": 0.2580539882183075,
         "RSI": "nan",
         "rsi_signal": 0,
         "rsi_position": 1,
         "_deepnote_index_column": "2019-09-01T00:00:00.000000"
        },
        {
         "Close": 0.2608200013637543,
         "RSI": 100,
         "rsi_signal": 1,
         "rsi_position": 1,
         "_deepnote_index_column": "2019-09-02T00:00:00.000000"
        },
        {
         "Close": 0.263139009475708,
         "RSI": 100,
         "rsi_signal": 0,
         "rsi_position": 1,
         "_deepnote_index_column": "2019-09-03T00:00:00.000000"
        },
        {
         "Close": 0.25990501046180725,
         "RSI": 91.6600273594537,
         "rsi_signal": 0,
         "rsi_position": 1,
         "_deepnote_index_column": "2019-09-04T00:00:00.000000"
        },
        {
         "Close": 0.2563459873199463,
         "RSI": 83.41513318658549,
         "rsi_signal": 0,
         "rsi_position": 1,
         "_deepnote_index_column": "2019-09-05T00:00:00.000000"
        },
        {
         "Close": 0.2523399889469147,
         "RSI": 75.21409255984764,
         "rsi_signal": 0,
         "rsi_position": 1,
         "_deepnote_index_column": "2019-09-06T00:00:00.000000"
        },
        {
         "Close": 0.260686993598938,
         "RSI": 79.69386501390242,
         "rsi_signal": 0,
         "rsi_position": 1,
         "_deepnote_index_column": "2019-09-07T00:00:00.000000"
        },
        {
         "Close": 0.2630839943885803,
         "RSI": 80.76879419279699,
         "rsi_signal": 0,
         "rsi_position": 1,
         "_deepnote_index_column": "2019-09-08T00:00:00.000000"
        },
        {
         "Close": 0.2595619857311249,
         "RSI": 74.52615514181606,
         "rsi_signal": 0,
         "rsi_position": 1,
         "_deepnote_index_column": "2019-09-09T00:00:00.000000"
        },
        {
         "Close": 0.25867098569869995,
         "RSI": 72.98922072330507,
         "rsi_signal": 0,
         "rsi_position": 1,
         "_deepnote_index_column": "2019-09-10T00:00:00.000000"
        },
        {
         "Close": 0.2559559941291809,
         "RSI": 68.36283206118983,
         "rsi_signal": 0,
         "rsi_position": 1,
         "_deepnote_index_column": "2019-09-11T00:00:00.000000"
        },
        {
         "Close": 0.25481098890304565,
         "RSI": 66.44989211947659,
         "rsi_signal": 0,
         "rsi_position": 1,
         "_deepnote_index_column": "2019-09-12T00:00:00.000000"
        },
        {
         "Close": 0.2555510103702545,
         "RSI": 67.0908355173548,
         "rsi_signal": 0,
         "rsi_position": 1,
         "_deepnote_index_column": "2019-09-13T00:00:00.000000"
        },
        {
         "Close": 0.2611669898033142,
         "RSI": 71.53511236703054,
         "rsi_signal": 0,
         "rsi_position": 1,
         "_deepnote_index_column": "2019-09-14T00:00:00.000000"
        },
        {
         "Close": 0.26162800192832947,
         "RSI": 71.87093584468487,
         "rsi_signal": 0,
         "rsi_position": 1,
         "_deepnote_index_column": "2019-09-15T00:00:00.000000"
        },
        {
         "Close": 0.2609519958496094,
         "RSI": 70.55643417620718,
         "rsi_signal": 0,
         "rsi_position": 1,
         "_deepnote_index_column": "2019-09-16T00:00:00.000000"
        },
        {
         "Close": 0.28501299023628235,
         "RSI": 82.69105308478736,
         "rsi_signal": 0,
         "rsi_position": 1,
         "_deepnote_index_column": "2019-09-17T00:00:00.000000"
        },
        {
         "Close": 0.3137759864330292,
         "RSI": 88.69116038550192,
         "rsi_signal": 0,
         "rsi_position": 1,
         "_deepnote_index_column": "2019-09-18T00:00:00.000000"
        },
        {
         "Close": 0.3024410009384155,
         "RSI": 77.31664506450898,
         "rsi_signal": 0,
         "rsi_position": 1,
         "_deepnote_index_column": "2019-09-19T00:00:00.000000"
        },
        {
         "Close": 0.29447001218795776,
         "RSI": 70.4720841998419,
         "rsi_signal": 0,
         "rsi_position": 1,
         "_deepnote_index_column": "2019-09-20T00:00:00.000000"
        },
        {
         "Close": 0.2894429862499237,
         "RSI": 66.4752495775524,
         "rsi_signal": 0,
         "rsi_position": 1,
         "_deepnote_index_column": "2019-09-21T00:00:00.000000"
        },
        {
         "Close": 0.27893099188804626,
         "RSI": 58.94660896934293,
         "rsi_signal": 0,
         "rsi_position": 1,
         "_deepnote_index_column": "2019-09-22T00:00:00.000000"
        },
        {
         "Close": 0.2686749994754791,
         "RSI": 52.67810393294463,
         "rsi_signal": 0,
         "rsi_position": 1,
         "_deepnote_index_column": "2019-09-23T00:00:00.000000"
        },
        {
         "Close": 0.23522600531578064,
         "RSI": 38.3530776464903,
         "rsi_signal": 0,
         "rsi_position": 1,
         "_deepnote_index_column": "2019-09-24T00:00:00.000000"
        },
        {
         "Close": 0.24644100666046143,
         "RSI": 43.86496393547011,
         "rsi_signal": 0,
         "rsi_position": 1,
         "_deepnote_index_column": "2019-09-25T00:00:00.000000"
        },
        {
         "Close": 0.24378399550914764,
         "RSI": 42.88662475163519,
         "rsi_signal": 0,
         "rsi_position": 1,
         "_deepnote_index_column": "2019-09-26T00:00:00.000000"
        },
        {
         "Close": 0.2440209984779358,
         "RSI": 43.008727409758535,
         "rsi_signal": 0,
         "rsi_position": 1,
         "_deepnote_index_column": "2019-09-27T00:00:00.000000"
        },
        {
         "Close": 0.24257099628448486,
         "RSI": 42.41132266832807,
         "rsi_signal": 0,
         "rsi_position": 1,
         "_deepnote_index_column": "2019-09-28T00:00:00.000000"
        },
        {
         "Close": 0.2413879930973053,
         "RSI": 41.899961627944826,
         "rsi_signal": 0,
         "rsi_position": 1,
         "_deepnote_index_column": "2019-09-29T00:00:00.000000"
        },
        {
         "Close": 0.2559329867362976,
         "RSI": 49.89847173408671,
         "rsi_signal": 0,
         "rsi_position": 1,
         "_deepnote_index_column": "2019-09-30T00:00:00.000000"
        },
        {
         "Close": 0.2495650053024292,
         "RSI": 46.85702426788792,
         "rsi_signal": 0,
         "rsi_position": 1,
         "_deepnote_index_column": "2019-10-01T00:00:00.000000"
        },
        {
         "Close": 0.25353899598121643,
         "RSI": 48.948307977978025,
         "rsi_signal": 0,
         "rsi_position": 1,
         "_deepnote_index_column": "2019-10-02T00:00:00.000000"
        },
        {
         "Close": 0.24785999953746796,
         "RSI": 46.153201519232454,
         "rsi_signal": 0,
         "rsi_position": 1,
         "_deepnote_index_column": "2019-10-03T00:00:00.000000"
        },
        {
         "Close": 0.2539350092411041,
         "RSI": 49.47682176020148,
         "rsi_signal": 0,
         "rsi_position": 1,
         "_deepnote_index_column": "2019-10-04T00:00:00.000000"
        },
        {
         "Close": 0.2534570097923279,
         "RSI": 49.219395476735876,
         "rsi_signal": 0,
         "rsi_position": 1,
         "_deepnote_index_column": "2019-10-05T00:00:00.000000"
        },
        {
         "Close": 0.2577050030231476,
         "RSI": 51.62810958579941,
         "rsi_signal": 0,
         "rsi_position": 1,
         "_deepnote_index_column": "2019-10-06T00:00:00.000000"
        },
        {
         "Close": 0.27568501234054565,
         "RSI": 60.227392445304304,
         "rsi_signal": 0,
         "rsi_position": 1,
         "_deepnote_index_column": "2019-10-07T00:00:00.000000"
        },
        {
         "Close": 0.27845901250839233,
         "RSI": 61.36846278833018,
         "rsi_signal": 0,
         "rsi_position": 1,
         "_deepnote_index_column": "2019-10-08T00:00:00.000000"
        },
        {
         "Close": 0.28162699937820435,
         "RSI": 62.68511781373108,
         "rsi_signal": 0,
         "rsi_position": 1,
         "_deepnote_index_column": "2019-10-09T00:00:00.000000"
        },
        {
         "Close": 0.27207300066947937,
         "RSI": 56.437890966313994,
         "rsi_signal": 0,
         "rsi_position": 1,
         "_deepnote_index_column": "2019-10-10T00:00:00.000000"
        },
        {
         "Close": 0.2710990011692047,
         "RSI": 55.82705334881956,
         "rsi_signal": 0,
         "rsi_position": 1,
         "_deepnote_index_column": "2019-10-11T00:00:00.000000"
        },
        {
         "Close": 0.27319100499153137,
         "RSI": 56.905903680458565,
         "rsi_signal": 0,
         "rsi_position": 1,
         "_deepnote_index_column": "2019-10-12T00:00:00.000000"
        },
        {
         "Close": 0.2777650058269501,
         "RSI": 59.24936433092301,
         "rsi_signal": 0,
         "rsi_position": 1,
         "_deepnote_index_column": "2019-10-13T00:00:00.000000"
        },
        {
         "Close": 0.29652300477027893,
         "RSI": 67.141031556596,
         "rsi_signal": 0,
         "rsi_position": 1,
         "_deepnote_index_column": "2019-10-14T00:00:00.000000"
        },
        {
         "Close": 0.28870201110839844,
         "RSI": 61.76983634210978,
         "rsi_signal": 0,
         "rsi_position": 1,
         "_deepnote_index_column": "2019-10-15T00:00:00.000000"
        },
        {
         "Close": 0.28464001417160034,
         "RSI": 59.12431429342719,
         "rsi_signal": 0,
         "rsi_position": 1,
         "_deepnote_index_column": "2019-10-16T00:00:00.000000"
        },
        {
         "Close": 0.30231499671936035,
         "RSI": 65.95667768249179,
         "rsi_signal": 0,
         "rsi_position": 1,
         "_deepnote_index_column": "2019-10-17T00:00:00.000000"
        },
        {
         "Close": 0.2950049936771393,
         "RSI": 61.38660831780669,
         "rsi_signal": 0,
         "rsi_position": 1,
         "_deepnote_index_column": "2019-10-18T00:00:00.000000"
        },
        {
         "Close": 0.2930220067501068,
         "RSI": 60.168680679859925,
         "rsi_signal": 0,
         "rsi_position": 1,
         "_deepnote_index_column": "2019-10-19T00:00:00.000000"
        },
        {
         "Close": 0.2941789925098419,
         "RSI": 60.659119421720625,
         "rsi_signal": 0,
         "rsi_position": 1,
         "_deepnote_index_column": "2019-10-20T00:00:00.000000"
        },
        {
         "Close": 0.29297900199890137,
         "RSI": 59.83619765901763,
         "rsi_signal": 0,
         "rsi_position": 1,
         "_deepnote_index_column": "2019-10-21T00:00:00.000000"
        },
        {
         "Close": 0.29160699248313904,
         "RSI": 58.853101952785885,
         "rsi_signal": 0,
         "rsi_position": 1,
         "_deepnote_index_column": "2019-10-22T00:00:00.000000"
        },
        {
         "Close": 0.2741430103778839,
         "RSI": 48.03480942296768,
         "rsi_signal": 0,
         "rsi_position": 1,
         "_deepnote_index_column": "2019-10-23T00:00:00.000000"
        },
        {
         "Close": 0.27849099040031433,
         "RSI": 50.47563756310637,
         "rsi_signal": 0,
         "rsi_position": 1,
         "_deepnote_index_column": "2019-10-24T00:00:00.000000"
        },
        {
         "Close": 0.2981649935245514,
         "RSI": 59.6997104005041,
         "rsi_signal": 0,
         "rsi_position": 1,
         "_deepnote_index_column": "2019-10-25T00:00:00.000000"
        },
        {
         "Close": 0.2936989963054657,
         "RSI": 57.099854784998946,
         "rsi_signal": 0,
         "rsi_position": 1,
         "_deepnote_index_column": "2019-10-26T00:00:00.000000"
        },
        {
         "Close": 0.29809999465942383,
         "RSI": 58.99495315894893,
         "rsi_signal": 0,
         "rsi_position": 1,
         "_deepnote_index_column": "2019-10-27T00:00:00.000000"
        },
        {
         "Close": 0.2960070073604584,
         "RSI": 57.6897687863099,
         "rsi_signal": 0,
         "rsi_position": 1,
         "_deepnote_index_column": "2019-10-28T00:00:00.000000"
        },
        {
         "Close": 0.3019559979438782,
         "RSI": 60.373297872519636,
         "rsi_signal": 0,
         "rsi_position": 1,
         "_deepnote_index_column": "2019-10-29T00:00:00.000000"
        },
        {
         "Close": 0.2965550124645233,
         "RSI": 56.848040577775386,
         "rsi_signal": 0,
         "rsi_position": 1,
         "_deepnote_index_column": "2019-10-30T00:00:00.000000"
        },
        {
         "Close": 0.29635798931121826,
         "RSI": 56.7179351929655,
         "rsi_signal": 0,
         "rsi_position": 1,
         "_deepnote_index_column": "2019-10-31T00:00:00.000000"
        },
        {
         "Close": 0.2926419973373413,
         "RSI": 54.19846656065891,
         "rsi_signal": 0,
         "rsi_position": 1,
         "_deepnote_index_column": "2019-11-01T00:00:00.000000"
        },
        {
         "Close": 0.2962630093097687,
         "RSI": 56.23842520223071,
         "rsi_signal": 0,
         "rsi_position": 1,
         "_deepnote_index_column": "2019-11-02T00:00:00.000000"
        },
        {
         "Close": 0.2912609875202179,
         "RSI": 52.74370598787762,
         "rsi_signal": 0,
         "rsi_position": 1,
         "_deepnote_index_column": "2019-11-03T00:00:00.000000"
        },
        {
         "Close": 0.29993700981140137,
         "RSI": 57.65849816447659,
         "rsi_signal": 0,
         "rsi_position": 1,
         "_deepnote_index_column": "2019-11-04T00:00:00.000000"
        },
        {
         "Close": 0.3012549877166748,
         "RSI": 58.366862669728384,
         "rsi_signal": 0,
         "rsi_position": 1,
         "_deepnote_index_column": "2019-11-05T00:00:00.000000"
        },
        {
         "Close": 0.3100860118865967,
         "RSI": 62.85142734725767,
         "rsi_signal": 0,
         "rsi_position": 1,
         "_deepnote_index_column": "2019-11-06T00:00:00.000000"
        },
        {
         "Close": 0.2924309968948364,
         "RSI": 51.01942132767098,
         "rsi_signal": 0,
         "rsi_position": 1,
         "_deepnote_index_column": "2019-11-07T00:00:00.000000"
        },
        {
         "Close": 0.2769530117511749,
         "RSI": 43.319930493223495,
         "rsi_signal": 0,
         "rsi_position": 1,
         "_deepnote_index_column": "2019-11-08T00:00:00.000000"
        },
        {
         "Close": 0.28019601106643677,
         "RSI": 45.1864458012203,
         "rsi_signal": 0,
         "rsi_position": 1,
         "_deepnote_index_column": "2019-11-09T00:00:00.000000"
        },
        {
         "Close": 0.28020399808883667,
         "RSI": 45.191232917134705,
         "rsi_signal": 0,
         "rsi_position": 1,
         "_deepnote_index_column": "2019-11-10T00:00:00.000000"
        },
        {
         "Close": 0.275085985660553,
         "RSI": 42.622460583457084,
         "rsi_signal": 0,
         "rsi_position": 1,
         "_deepnote_index_column": "2019-11-11T00:00:00.000000"
        },
        {
         "Close": 0.27241799235343933,
         "RSI": 41.30439866685059,
         "rsi_signal": 0,
         "rsi_position": 1,
         "_deepnote_index_column": "2019-11-12T00:00:00.000000"
        },
        {
         "Close": 0.27303600311279297,
         "RSI": 41.75372455090799,
         "rsi_signal": 0,
         "rsi_position": 1,
         "_deepnote_index_column": "2019-11-13T00:00:00.000000"
        },
        {
         "Close": 0.27039098739624023,
         "RSI": 40.330712177340246,
         "rsi_signal": 0,
         "rsi_position": 1,
         "_deepnote_index_column": "2019-11-14T00:00:00.000000"
        },
        {
         "Close": 0.26165398955345154,
         "RSI": 35.96986455270893,
         "rsi_signal": 0,
         "rsi_position": 1,
         "_deepnote_index_column": "2019-11-15T00:00:00.000000"
        },
        {
         "Close": 0.2638860046863556,
         "RSI": 37.8195938075684,
         "rsi_signal": 0,
         "rsi_position": 1,
         "_deepnote_index_column": "2019-11-16T00:00:00.000000"
        },
        {
         "Close": 0.2652530074119568,
         "RSI": 38.98221205023861,
         "rsi_signal": 0,
         "rsi_position": 1,
         "_deepnote_index_column": "2019-11-17T00:00:00.000000"
        },
        {
         "Close": 0.2556529939174652,
         "RSI": 34.15277293206127,
         "rsi_signal": 0,
         "rsi_position": 1,
         "_deepnote_index_column": "2019-11-18T00:00:00.000000"
        },
        {
         "Close": 0.2565000057220459,
         "RSI": 34.91887663158913,
         "rsi_signal": 0,
         "rsi_position": 1,
         "_deepnote_index_column": "2019-11-19T00:00:00.000000"
        },
        {
         "Close": 0.25136399269104004,
         "RSI": 32.45323792190237,
         "rsi_signal": 0,
         "rsi_position": 1,
         "_deepnote_index_column": "2019-11-20T00:00:00.000000"
        },
        {
         "Close": 0.24376599490642548,
         "RSI": 29.171623818055465,
         "rsi_signal": -1,
         "rsi_position": 0,
         "_deepnote_index_column": "2019-11-21T00:00:00.000000"
        },
        {
         "Close": 0.23160000145435333,
         "RSI": 24.840310547831066,
         "rsi_signal": 0,
         "rsi_position": 0,
         "_deepnote_index_column": "2019-11-22T00:00:00.000000"
        },
        {
         "Close": 0.23618799448013306,
         "RSI": 29.114708705137247,
         "rsi_signal": 0,
         "rsi_position": 0,
         "_deepnote_index_column": "2019-11-23T00:00:00.000000"
        },
        {
         "Close": 0.2231840044260025,
         "RSI": 24.808212801119794,
         "rsi_signal": 0,
         "rsi_position": 0,
         "_deepnote_index_column": "2019-11-24T00:00:00.000000"
        },
        {
         "Close": 0.21862199902534485,
         "RSI": 23.495241159537642,
         "rsi_signal": 0,
         "rsi_position": 0,
         "_deepnote_index_column": "2019-11-25T00:00:00.000000"
        },
        {
         "Close": 0.22214500606060028,
         "RSI": 26.720643616542702,
         "rsi_signal": 0,
         "rsi_position": 0,
         "_deepnote_index_column": "2019-11-26T00:00:00.000000"
        },
        {
         "Close": 0.22508099675178528,
         "RSI": 29.39225716656712,
         "rsi_signal": 0,
         "rsi_position": 0,
         "_deepnote_index_column": "2019-11-27T00:00:00.000000"
        },
        {
         "Close": 0.22457000613212585,
         "RSI": 29.1927721570313,
         "rsi_signal": 0,
         "rsi_position": 0,
         "_deepnote_index_column": "2019-11-28T00:00:00.000000"
        },
        {
         "Close": 0.23021699488162994,
         "RSI": 34.48464165844797,
         "rsi_signal": 0,
         "rsi_position": 0,
         "_deepnote_index_column": "2019-11-29T00:00:00.000000"
        },
        {
         "Close": 0.22647400200366974,
         "RSI": 32.738127420596754,
         "rsi_signal": 0,
         "rsi_position": 0,
         "_deepnote_index_column": "2019-11-30T00:00:00.000000"
        },
        {
         "Close": 0.22533300518989563,
         "RSI": 32.20271430405268,
         "rsi_signal": 0,
         "rsi_position": 0,
         "_deepnote_index_column": "2019-12-01T00:00:00.000000"
        },
        {
         "Close": 0.2195809930562973,
         "RSI": 29.576656428176847,
         "rsi_signal": 0,
         "rsi_position": 0,
         "_deepnote_index_column": "2019-12-02T00:00:00.000000"
        },
        {
         "Close": 0.21987000107765198,
         "RSI": 29.88603563688089,
         "rsi_signal": 0,
         "rsi_position": 0,
         "_deepnote_index_column": "2019-12-03T00:00:00.000000"
        },
        {
         "Close": 0.21634800732135773,
         "RSI": 28.256881830528584,
         "rsi_signal": 0,
         "rsi_position": 0,
         "_deepnote_index_column": "2019-12-04T00:00:00.000000"
        },
        {
         "Close": 0.2229280024766922,
         "RSI": 35.347745370303755,
         "rsi_signal": 0,
         "rsi_position": 0,
         "_deepnote_index_column": "2019-12-05T00:00:00.000000"
        },
        {
         "Close": 0.22550499439239502,
         "RSI": 37.934992175307606,
         "rsi_signal": 0,
         "rsi_position": 0,
         "_deepnote_index_column": "2019-12-06T00:00:00.000000"
        },
        {
         "Close": 0.22844499349594116,
         "RSI": 40.84353347605783,
         "rsi_signal": 0,
         "rsi_position": 0,
         "_deepnote_index_column": "2019-12-07T00:00:00.000000"
        },
        {
         "Close": 0.23043499886989594,
         "RSI": 42.79757851188822,
         "rsi_signal": 0,
         "rsi_position": 0,
         "_deepnote_index_column": "2019-12-08T00:00:00.000000"
        },
        {
         "Close": 0.2254520058631897,
         "RSI": 39.29720256421986,
         "rsi_signal": 0,
         "rsi_position": 0,
         "_deepnote_index_column": "2019-12-09T00:00:00.000000"
        },
        {
         "Close": 0.2243019938468933,
         "RSI": 38.51428839025458,
         "rsi_signal": 0,
         "rsi_position": 0,
         "_deepnote_index_column": "2019-12-10T00:00:00.000000"
        },
        {
         "Close": 0.22205300629138947,
         "RSI": 36.96335460637845,
         "rsi_signal": 0,
         "rsi_position": 0,
         "_deepnote_index_column": "2019-12-11T00:00:00.000000"
        },
        {
         "Close": 0.21985900402069092,
         "RSI": 35.46304097261009,
         "rsi_signal": 0,
         "rsi_position": 0,
         "_deepnote_index_column": "2019-12-12T00:00:00.000000"
        },
        {
         "Close": 0.22075499594211578,
         "RSI": 36.59488523771157,
         "rsi_signal": 0,
         "rsi_position": 0,
         "_deepnote_index_column": "2019-12-13T00:00:00.000000"
        },
        {
         "Close": 0.21735599637031555,
         "RSI": 34.148202149849155,
         "rsi_signal": 0,
         "rsi_position": 0,
         "_deepnote_index_column": "2019-12-14T00:00:00.000000"
        },
        {
         "Close": 0.21860100328922272,
         "RSI": 35.84029817728643,
         "rsi_signal": 0,
         "rsi_position": 0,
         "_deepnote_index_column": "2019-12-15T00:00:00.000000"
        },
        {
         "Close": 0.2072249948978424,
         "RSI": 28.607051323181423,
         "rsi_signal": 0,
         "rsi_position": 0,
         "_deepnote_index_column": "2019-12-16T00:00:00.000000"
        },
        {
         "Close": 0.18369899690151215,
         "RSI": 19.736161317244907,
         "rsi_signal": 0,
         "rsi_position": 0,
         "_deepnote_index_column": "2019-12-17T00:00:00.000000"
        },
        {
         "Close": 0.19617600739002228,
         "RSI": 31.81275396251708,
         "rsi_signal": 0,
         "rsi_position": 0,
         "_deepnote_index_column": "2019-12-18T00:00:00.000000"
        },
        {
         "Close": 0.19081899523735046,
         "RSI": 29.743502039740164,
         "rsi_signal": 0,
         "rsi_position": 0,
         "_deepnote_index_column": "2019-12-19T00:00:00.000000"
        },
        {
         "Close": 0.19531600177288055,
         "RSI": 33.64533889573519,
         "rsi_signal": 0,
         "rsi_position": 0,
         "_deepnote_index_column": "2019-12-20T00:00:00.000000"
        },
        {
         "Close": 0.19408200681209564,
         "RSI": 33.10207311175064,
         "rsi_signal": 0,
         "rsi_position": 0,
         "_deepnote_index_column": "2019-12-21T00:00:00.000000"
        },
        {
         "Close": 0.19697800278663635,
         "RSI": 35.72507309865959,
         "rsi_signal": 0,
         "rsi_position": 0,
         "_deepnote_index_column": "2019-12-22T00:00:00.000000"
        },
        {
         "Close": 0.19094300270080566,
         "RSI": 32.835747126708156,
         "rsi_signal": 0,
         "rsi_position": 0,
         "_deepnote_index_column": "2019-12-23T00:00:00.000000"
        },
        {
         "Close": 0.1921979933977127,
         "RSI": 34.03059845004107,
         "rsi_signal": 0,
         "rsi_position": 0,
         "_deepnote_index_column": "2019-12-24T00:00:00.000000"
        },
        {
         "Close": 0.19071899354457855,
         "RSI": 33.27921595252282,
         "rsi_signal": 0,
         "rsi_position": 0,
         "_deepnote_index_column": "2019-12-25T00:00:00.000000"
        },
        {
         "Close": 0.19039399921894073,
         "RSI": 33.10623685115158,
         "rsi_signal": 0,
         "rsi_position": 0,
         "_deepnote_index_column": "2019-12-26T00:00:00.000000"
        },
        {
         "Close": 0.19110199809074402,
         "RSI": 33.91214157278037,
         "rsi_signal": 0,
         "rsi_position": 0,
         "_deepnote_index_column": "2019-12-27T00:00:00.000000"
        },
        {
         "Close": 0.19322200119495392,
         "RSI": 36.383613509873165,
         "rsi_signal": 0,
         "rsi_position": 0,
         "_deepnote_index_column": "2019-12-28T00:00:00.000000"
        },
        {
         "Close": 0.197051003575325,
         "RSI": 40.697241817478755,
         "rsi_signal": 0,
         "rsi_position": 0,
         "_deepnote_index_column": "2019-12-29T00:00:00.000000"
        },
        {
         "Close": 0.194473996758461,
         "RSI": 38.7908271178894,
         "rsi_signal": 0,
         "rsi_position": 0,
         "_deepnote_index_column": "2019-12-30T00:00:00.000000"
        },
        {
         "Close": 0.19289399683475494,
         "RSI": 37.62702676215761,
         "rsi_signal": 0,
         "rsi_position": 0,
         "_deepnote_index_column": "2019-12-31T00:00:00.000000"
        },
        {
         "Close": 0.19266700744628906,
         "RSI": 37.45317812362722,
         "rsi_signal": 0,
         "rsi_position": 0,
         "_deepnote_index_column": "2020-01-01T00:00:00.000000"
        },
        {
         "Close": 0.1880429983139038,
         "RSI": 34.00628084974528,
         "rsi_signal": 0,
         "rsi_position": 0,
         "_deepnote_index_column": "2020-01-02T00:00:00.000000"
        },
        {
         "Close": 0.19352099299430847,
         "RSI": 40.940778264250895,
         "rsi_signal": 0,
         "rsi_position": 0,
         "_deepnote_index_column": "2020-01-03T00:00:00.000000"
        }
       ],
       "rows_bottom": [
        {
         "Close": 1.0208369493484497,
         "RSI": 70.82951940377444,
         "rsi_signal": 0,
         "rsi_position": 1,
         "_deepnote_index_column": "2021-04-09T00:00:00.000000"
        },
        {
         "Close": 1.3744159936904907,
         "RSI": 79.67505626761434,
         "rsi_signal": 0,
         "rsi_position": 1,
         "_deepnote_index_column": "2021-04-10T00:00:00.000000"
        },
        {
         "Close": 1.3605300188064575,
         "RSI": 78.6661678231265,
         "rsi_signal": 0,
         "rsi_position": 1,
         "_deepnote_index_column": "2021-04-11T00:00:00.000000"
        },
        {
         "Close": 1.4677350521087646,
         "RSI": 80.69824861358401,
         "rsi_signal": 0,
         "rsi_position": 1,
         "_deepnote_index_column": "2021-04-12T00:00:00.000000"
        },
        {
         "Close": 1.7940009832382202,
         "RSI": 85.29038385602657,
         "rsi_signal": 0,
         "rsi_position": 1,
         "_deepnote_index_column": "2021-04-13T00:00:00.000000"
        },
        {
         "Close": 1.8392360210418701,
         "RSI": 85.79498425100765,
         "rsi_signal": 0,
         "rsi_position": 1,
         "_deepnote_index_column": "2021-04-14T00:00:00.000000"
        },
        {
         "Close": 1.7660670280456543,
         "RSI": 80.95728374279838,
         "rsi_signal": 0,
         "rsi_position": 1,
         "_deepnote_index_column": "2021-04-15T00:00:00.000000"
        },
        {
         "Close": 1.55752694606781,
         "RSI": 69.01311675717182,
         "rsi_signal": 0,
         "rsi_position": 1,
         "_deepnote_index_column": "2021-04-16T00:00:00.000000"
        },
        {
         "Close": 1.5600550174713135,
         "RSI": 69.07268662171127,
         "rsi_signal": 0,
         "rsi_position": 1,
         "_deepnote_index_column": "2021-04-17T00:00:00.000000"
        },
        {
         "Close": 1.4059979915618896,
         "RSI": 61.334639176142446,
         "rsi_signal": 0,
         "rsi_position": 1,
         "_deepnote_index_column": "2021-04-18T00:00:00.000000"
        },
        {
         "Close": 1.3150440454483032,
         "RSI": 57.25639030702176,
         "rsi_signal": 0,
         "rsi_position": 1,
         "_deepnote_index_column": "2021-04-19T00:00:00.000000"
        },
        {
         "Close": 1.3832989931106567,
         "RSI": 59.43612968790441,
         "rsi_signal": 0,
         "rsi_position": 1,
         "_deepnote_index_column": "2021-04-20T00:00:00.000000"
        },
        {
         "Close": 1.2964979410171509,
         "RSI": 55.556053134481154,
         "rsi_signal": 0,
         "rsi_position": 1,
         "_deepnote_index_column": "2021-04-21T00:00:00.000000"
        },
        {
         "Close": 1.159682035446167,
         "RSI": 50.01392003524481,
         "rsi_signal": 0,
         "rsi_position": 1,
         "_deepnote_index_column": "2021-04-22T00:00:00.000000"
        },
        {
         "Close": 1.169659972190857,
         "RSI": 50.40251224174455,
         "rsi_signal": 0,
         "rsi_position": 1,
         "_deepnote_index_column": "2021-04-23T00:00:00.000000"
        },
        {
         "Close": 1.0487060546875,
         "RSI": 45.75862322894189,
         "rsi_signal": 0,
         "rsi_position": 1,
         "_deepnote_index_column": "2021-04-24T00:00:00.000000"
        },
        {
         "Close": 1.032256007194519,
         "RSI": 45.14934867835314,
         "rsi_signal": 0,
         "rsi_position": 1,
         "_deepnote_index_column": "2021-04-25T00:00:00.000000"
        },
        {
         "Close": 1.3685059547424316,
         "RSI": 57.582138927075015,
         "rsi_signal": 0,
         "rsi_position": 1,
         "_deepnote_index_column": "2021-04-26T00:00:00.000000"
        },
        {
         "Close": 1.4009549617767334,
         "RSI": 58.558358776933005,
         "rsi_signal": 0,
         "rsi_position": 1,
         "_deepnote_index_column": "2021-04-27T00:00:00.000000"
        },
        {
         "Close": 1.3586009740829468,
         "RSI": 56.72334929395829,
         "rsi_signal": 0,
         "rsi_position": 1,
         "_deepnote_index_column": "2021-04-28T00:00:00.000000"
        },
        {
         "Close": 1.399359941482544,
         "RSI": 58.084595336814395,
         "rsi_signal": 0,
         "rsi_position": 1,
         "_deepnote_index_column": "2021-04-29T00:00:00.000000"
        },
        {
         "Close": 1.5916739702224731,
         "RSI": 63.86070168094969,
         "rsi_signal": 0,
         "rsi_position": 1,
         "_deepnote_index_column": "2021-04-30T00:00:00.000000"
        },
        {
         "Close": 1.6510250568389893,
         "RSI": 65.4433887585089,
         "rsi_signal": 0,
         "rsi_position": 1,
         "_deepnote_index_column": "2021-05-01T00:00:00.000000"
        },
        {
         "Close": 1.5626410245895386,
         "RSI": 61.14869359392458,
         "rsi_signal": 0,
         "rsi_position": 1,
         "_deepnote_index_column": "2021-05-02T00:00:00.000000"
        },
        {
         "Close": 1.555994987487793,
         "RSI": 60.82545325668227,
         "rsi_signal": 0,
         "rsi_position": 1,
         "_deepnote_index_column": "2021-05-03T00:00:00.000000"
        },
        {
         "Close": 1.3923759460449219,
         "RSI": 53.34862560939783,
         "rsi_signal": 0,
         "rsi_position": 1,
         "_deepnote_index_column": "2021-05-04T00:00:00.000000"
        },
        {
         "Close": 1.6145119667053223,
         "RSI": 60.455628889612754,
         "rsi_signal": 0,
         "rsi_position": 1,
         "_deepnote_index_column": "2021-05-05T00:00:00.000000"
        },
        {
         "Close": 1.6005810499191284,
         "RSI": 59.8399437894823,
         "rsi_signal": 0,
         "rsi_position": 1,
         "_deepnote_index_column": "2021-05-06T00:00:00.000000"
        },
        {
         "Close": 1.5817550420761108,
         "RSI": 58.96599347900132,
         "rsi_signal": 0,
         "rsi_position": 1,
         "_deepnote_index_column": "2021-05-07T00:00:00.000000"
        },
        {
         "Close": 1.5625979900360107,
         "RSI": 58.0371200397213,
         "rsi_signal": 0,
         "rsi_position": 1,
         "_deepnote_index_column": "2021-05-08T00:00:00.000000"
        },
        {
         "Close": 1.5352929830551147,
         "RSI": 56.666923532635494,
         "rsi_signal": 0,
         "rsi_position": 1,
         "_deepnote_index_column": "2021-05-09T00:00:00.000000"
        },
        {
         "Close": 1.3890060186386108,
         "RSI": 49.873414948283525,
         "rsi_signal": 0,
         "rsi_position": 1,
         "_deepnote_index_column": "2021-05-10T00:00:00.000000"
        },
        {
         "Close": 1.4776819944381714,
         "RSI": 53.51167255658129,
         "rsi_signal": 0,
         "rsi_position": 1,
         "_deepnote_index_column": "2021-05-11T00:00:00.000000"
        },
        {
         "Close": 1.247864007949829,
         "RSI": 44.497538068226845,
         "rsi_signal": 0,
         "rsi_position": 1,
         "_deepnote_index_column": "2021-05-12T00:00:00.000000"
        },
        {
         "Close": 1.3589099645614624,
         "RSI": 48.97054769380935,
         "rsi_signal": 0,
         "rsi_position": 1,
         "_deepnote_index_column": "2021-05-13T00:00:00.000000"
        },
        {
         "Close": 1.4029170274734497,
         "RSI": 50.66733150066447,
         "rsi_signal": 0,
         "rsi_position": 1,
         "_deepnote_index_column": "2021-05-14T00:00:00.000000"
        },
        {
         "Close": 1.4858800172805786,
         "RSI": 53.787053916374376,
         "rsi_signal": 0,
         "rsi_position": 1,
         "_deepnote_index_column": "2021-05-15T00:00:00.000000"
        },
        {
         "Close": 1.452605962753296,
         "RSI": 52.35696890716519,
         "rsi_signal": 0,
         "rsi_position": 1,
         "_deepnote_index_column": "2021-05-16T00:00:00.000000"
        },
        {
         "Close": 1.4962999820709229,
         "RSI": 54.083421171049274,
         "rsi_signal": 0,
         "rsi_position": 1,
         "_deepnote_index_column": "2021-05-17T00:00:00.000000"
        },
        {
         "Close": 1.5907340049743652,
         "RSI": 57.6549110093275,
         "rsi_signal": 0,
         "rsi_position": 1,
         "_deepnote_index_column": "2021-05-18T00:00:00.000000"
        },
        {
         "Close": 1.0703129768371582,
         "RSI": 39.445715367956055,
         "rsi_signal": 0,
         "rsi_position": 1,
         "_deepnote_index_column": "2021-05-19T00:00:00.000000"
        },
        {
         "Close": 1.1855369806289673,
         "RSI": 43.686441591596676,
         "rsi_signal": 0,
         "rsi_position": 1,
         "_deepnote_index_column": "2021-05-20T00:00:00.000000"
        },
        {
         "Close": 1.0069760084152222,
         "RSI": 39.11487012151562,
         "rsi_signal": 0,
         "rsi_position": 1,
         "_deepnote_index_column": "2021-05-21T00:00:00.000000"
        },
        {
         "Close": 0.9063169956207275,
         "RSI": 36.778388614294656,
         "rsi_signal": 0,
         "rsi_position": 1,
         "_deepnote_index_column": "2021-05-22T00:00:00.000000"
        },
        {
         "Close": 0.7970150113105774,
         "RSI": 34.37707212141008,
         "rsi_signal": 0,
         "rsi_position": 1,
         "_deepnote_index_column": "2021-05-23T00:00:00.000000"
        },
        {
         "Close": 0.9928349852561951,
         "RSI": 41.718808012556295,
         "rsi_signal": 0,
         "rsi_position": 1,
         "_deepnote_index_column": "2021-05-24T00:00:00.000000"
        },
        {
         "Close": 0.976186990737915,
         "RSI": 41.29580958028669,
         "rsi_signal": 0,
         "rsi_position": 1,
         "_deepnote_index_column": "2021-05-25T00:00:00.000000"
        },
        {
         "Close": 1.0337250232696533,
         "RSI": 43.43065191760401,
         "rsi_signal": 0,
         "rsi_position": 1,
         "_deepnote_index_column": "2021-05-26T00:00:00.000000"
        },
        {
         "Close": 0.9702349901199341,
         "RSI": 41.631554972881624,
         "rsi_signal": 0,
         "rsi_position": 1,
         "_deepnote_index_column": "2021-05-27T00:00:00.000000"
        },
        {
         "Close": 0.9001479744911194,
         "RSI": 39.67757530891716,
         "rsi_signal": 0,
         "rsi_position": 1,
         "_deepnote_index_column": "2021-05-28T00:00:00.000000"
        },
        {
         "Close": 0.8317880034446716,
         "RSI": 37.81337803179907,
         "rsi_signal": 0,
         "rsi_position": 1,
         "_deepnote_index_column": "2021-05-29T00:00:00.000000"
        },
        {
         "Close": 0.9066089987754822,
         "RSI": 41.07655886163079,
         "rsi_signal": 0,
         "rsi_position": 1,
         "_deepnote_index_column": "2021-05-30T00:00:00.000000"
        },
        {
         "Close": 1.0465840101242065,
         "RSI": 46.71032669791641,
         "rsi_signal": 0,
         "rsi_position": 1,
         "_deepnote_index_column": "2021-05-31T00:00:00.000000"
        },
        {
         "Close": 1.0110009908676147,
         "RSI": 45.51886727019665,
         "rsi_signal": 0,
         "rsi_position": 1,
         "_deepnote_index_column": "2021-06-01T00:00:00.000000"
        },
        {
         "Close": 1.024399995803833,
         "RSI": 46.076640580153594,
         "rsi_signal": 0,
         "rsi_position": 1,
         "_deepnote_index_column": "2021-06-02T00:00:00.000000"
        },
        {
         "Close": 1.045320987701416,
         "RSI": 46.98921903318596,
         "rsi_signal": 0,
         "rsi_position": 1,
         "_deepnote_index_column": "2021-06-03T00:00:00.000000"
        },
        {
         "Close": 0.970196008682251,
         "RSI": 44.10288216195107,
         "rsi_signal": 0,
         "rsi_position": 1,
         "_deepnote_index_column": "2021-06-04T00:00:00.000000"
        },
        {
         "Close": 0.9232860207557678,
         "RSI": 42.353426335965686,
         "rsi_signal": 0,
         "rsi_position": 1,
         "_deepnote_index_column": "2021-06-05T00:00:00.000000"
        },
        {
         "Close": 0.945285975933075,
         "RSI": 43.48565939668808,
         "rsi_signal": 0,
         "rsi_position": 1,
         "_deepnote_index_column": "2021-06-06T00:00:00.000000"
        },
        {
         "Close": 0.8611549735069275,
         "RSI": 40.231439779441736,
         "rsi_signal": 0,
         "rsi_position": 1,
         "_deepnote_index_column": "2021-06-07T00:00:00.000000"
        },
        {
         "Close": 0.8757879734039307,
         "RSI": 41.057649384772034,
         "rsi_signal": 0,
         "rsi_position": 1,
         "_deepnote_index_column": "2021-06-08T00:00:00.000000"
        },
        {
         "Close": 0.9200339913368225,
         "RSI": 43.59656632747178,
         "rsi_signal": 0,
         "rsi_position": 1,
         "_deepnote_index_column": "2021-06-09T00:00:00.000000"
        },
        {
         "Close": 0.8691819906234741,
         "RSI": 41.38991308139031,
         "rsi_signal": 0,
         "rsi_position": 1,
         "_deepnote_index_column": "2021-06-10T00:00:00.000000"
        },
        {
         "Close": 0.8484500050544739,
         "RSI": 40.49010832733303,
         "rsi_signal": 0,
         "rsi_position": 1,
         "_deepnote_index_column": "2021-06-11T00:00:00.000000"
        },
        {
         "Close": 0.8326830267906189,
         "RSI": 39.781787011660946,
         "rsi_signal": 0,
         "rsi_position": 1,
         "_deepnote_index_column": "2021-06-12T00:00:00.000000"
        },
        {
         "Close": 0.8831599950790405,
         "RSI": 43.20713446984699,
         "rsi_signal": 0,
         "rsi_position": 1,
         "_deepnote_index_column": "2021-06-13T00:00:00.000000"
        },
        {
         "Close": 0.8928970098495483,
         "RSI": 43.870397792401626,
         "rsi_signal": 0,
         "rsi_position": 1,
         "_deepnote_index_column": "2021-06-14T00:00:00.000000"
        },
        {
         "Close": 0.8898000121116638,
         "RSI": 43.695602522871546,
         "rsi_signal": 0,
         "rsi_position": 1,
         "_deepnote_index_column": "2021-06-15T00:00:00.000000"
        },
        {
         "Close": 0.8319079875946045,
         "RSI": 40.45108025308173,
         "rsi_signal": 0,
         "rsi_position": 1,
         "_deepnote_index_column": "2021-06-16T00:00:00.000000"
        },
        {
         "Close": 0.8414379954338074,
         "RSI": 41.22476951963107,
         "rsi_signal": 0,
         "rsi_position": 1,
         "_deepnote_index_column": "2021-06-17T00:00:00.000000"
        },
        {
         "Close": 0.797648012638092,
         "RSI": 38.73444350536231,
         "rsi_signal": 0,
         "rsi_position": 1,
         "_deepnote_index_column": "2021-06-18T00:00:00.000000"
        },
        {
         "Close": 0.7616729736328125,
         "RSI": 36.76929895643216,
         "rsi_signal": 0,
         "rsi_position": 1,
         "_deepnote_index_column": "2021-06-19T00:00:00.000000"
        },
        {
         "Close": 0.7763770222663879,
         "RSI": 38.150490094352804,
         "rsi_signal": 0,
         "rsi_position": 1,
         "_deepnote_index_column": "2021-06-20T00:00:00.000000"
        },
        {
         "Close": 0.6103879809379578,
         "RSI": 30.145286647715082,
         "rsi_signal": 0,
         "rsi_position": 1,
         "_deepnote_index_column": "2021-06-21T00:00:00.000000"
        },
        {
         "Close": 0.5450670123100281,
         "RSI": 27.68349625192168,
         "rsi_signal": -1,
         "rsi_position": 0,
         "_deepnote_index_column": "2021-06-22T00:00:00.000000"
        },
        {
         "Close": 0.6265349984169006,
         "RSI": 34.83155423096578,
         "rsi_signal": 0,
         "rsi_position": 0,
         "_deepnote_index_column": "2021-06-23T00:00:00.000000"
        },
        {
         "Close": 0.671999990940094,
         "RSI": 38.48582461654451,
         "rsi_signal": 0,
         "rsi_position": 0,
         "_deepnote_index_column": "2021-06-24T00:00:00.000000"
        },
        {
         "Close": 0.6133229732513428,
         "RSI": 35.703250959840446,
         "rsi_signal": 0,
         "rsi_position": 0,
         "_deepnote_index_column": "2021-06-25T00:00:00.000000"
        },
        {
         "Close": 0.615435004234314,
         "RSI": 35.88294611477555,
         "rsi_signal": 0,
         "rsi_position": 0,
         "_deepnote_index_column": "2021-06-26T00:00:00.000000"
        },
        {
         "Close": 0.6469230055809021,
         "RSI": 38.636459886923205,
         "rsi_signal": 0,
         "rsi_position": 0,
         "_deepnote_index_column": "2021-06-27T00:00:00.000000"
        },
        {
         "Close": 0.643746018409729,
         "RSI": 38.457009560082135,
         "rsi_signal": 0,
         "rsi_position": 0,
         "_deepnote_index_column": "2021-06-28T00:00:00.000000"
        },
        {
         "Close": 0.7017250061035156,
         "RSI": 43.60488754248246,
         "rsi_signal": 0,
         "rsi_position": 0,
         "_deepnote_index_column": "2021-06-29T00:00:00.000000"
        },
        {
         "Close": 0.7063739895820618,
         "RSI": 44.009312091956076,
         "rsi_signal": 0,
         "rsi_position": 0,
         "_deepnote_index_column": "2021-06-30T00:00:00.000000"
        },
        {
         "Close": 0.6611800193786621,
         "RSI": 40.935987110815496,
         "rsi_signal": 0,
         "rsi_position": 0,
         "_deepnote_index_column": "2021-07-01T00:00:00.000000"
        },
        {
         "Close": 0.6567630171775818,
         "RSI": 40.63729721913144,
         "rsi_signal": 0,
         "rsi_position": 0,
         "_deepnote_index_column": "2021-07-02T00:00:00.000000"
        },
        {
         "Close": 0.6728879809379578,
         "RSI": 42.29269313677763,
         "rsi_signal": 0,
         "rsi_position": 0,
         "_deepnote_index_column": "2021-07-03T00:00:00.000000"
        },
        {
         "Close": 0.6949449777603149,
         "RSI": 44.56971722311709,
         "rsi_signal": 0,
         "rsi_position": 0,
         "_deepnote_index_column": "2021-07-04T00:00:00.000000"
        },
        {
         "Close": 0.6542999744415283,
         "RSI": 41.3331765640654,
         "rsi_signal": 0,
         "rsi_position": 0,
         "_deepnote_index_column": "2021-07-05T00:00:00.000000"
        },
        {
         "Close": 0.6654019951820374,
         "RSI": 42.56014690107028,
         "rsi_signal": 0,
         "rsi_position": 0,
         "_deepnote_index_column": "2021-07-06T00:00:00.000000"
        },
        {
         "Close": 0.6515750288963318,
         "RSI": 41.39886026656329,
         "rsi_signal": 0,
         "rsi_position": 0,
         "_deepnote_index_column": "2021-07-07T00:00:00.000000"
        },
        {
         "Close": 0.623058021068573,
         "RSI": 39.03330361416408,
         "rsi_signal": 0,
         "rsi_position": 0,
         "_deepnote_index_column": "2021-07-08T00:00:00.000000"
        },
        {
         "Close": 0.6368039846420288,
         "RSI": 40.789604214474906,
         "rsi_signal": 0,
         "rsi_position": 0,
         "_deepnote_index_column": "2021-07-09T00:00:00.000000"
        },
        {
         "Close": 0.6254630088806152,
         "RSI": 39.771623789579664,
         "rsi_signal": 0,
         "rsi_position": 0,
         "_deepnote_index_column": "2021-07-10T00:00:00.000000"
        },
        {
         "Close": 0.6359350085258484,
         "RSI": 41.23013086130265,
         "rsi_signal": 0,
         "rsi_position": 0,
         "_deepnote_index_column": "2021-07-11T00:00:00.000000"
        },
        {
         "Close": 0.6301779747009277,
         "RSI": 40.64736562838258,
         "rsi_signal": 0,
         "rsi_position": 0,
         "_deepnote_index_column": "2021-07-12T00:00:00.000000"
        },
        {
         "Close": 0.6195229887962341,
         "RSI": 39.533624304920274,
         "rsi_signal": 0,
         "rsi_position": 0,
         "_deepnote_index_column": "2021-07-13T00:00:00.000000"
        },
        {
         "Close": 0.6203240156173706,
         "RSI": 39.667463210874715,
         "rsi_signal": 0,
         "rsi_position": 0,
         "_deepnote_index_column": "2021-07-14T00:00:00.000000"
        },
        {
         "Close": 0.5969409942626953,
         "RSI": 37.08682931698142,
         "rsi_signal": 0,
         "rsi_position": 0,
         "_deepnote_index_column": "2021-07-15T00:00:00.000000"
        },
        {
         "Close": 0.5907739996910095,
         "RSI": 36.41398011250698,
         "rsi_signal": 0,
         "rsi_position": 0,
         "_deepnote_index_column": "2021-07-16T00:00:00.000000"
        },
        {
         "Close": 0.582427978515625,
         "RSI": 35.47593760362872,
         "rsi_signal": 0,
         "rsi_position": 0,
         "_deepnote_index_column": "2021-07-17T00:00:00.000000"
        },
        {
         "Close": 0.5879219770431519,
         "RSI": 36.63314254229383,
         "rsi_signal": 0,
         "rsi_position": 0,
         "_deepnote_index_column": "2021-07-18T00:00:00.000000"
        },
        {
         "Close": 0.5575559735298157,
         "RSI": 33.09971189051301,
         "rsi_signal": 0,
         "rsi_position": 0,
         "_deepnote_index_column": "2021-07-19T00:00:00.000000"
        },
        {
         "Close": 0.5293359756469727,
         "RSI": 30.185783520847053,
         "rsi_signal": 0,
         "rsi_position": 0,
         "_deepnote_index_column": "2021-07-20T00:00:00.000000"
        },
        {
         "Close": 0.569998025894165,
         "RSI": 38.57662154393162,
         "rsi_signal": 0,
         "rsi_position": 0,
         "_deepnote_index_column": "2021-07-21T00:00:00.000000"
        },
        {
         "Close": 0.5922060012817383,
         "RSI": 42.63203634352656,
         "rsi_signal": 0,
         "rsi_position": 0,
         "_deepnote_index_column": "2021-07-22T00:00:00.000000"
        },
        {
         "Close": 0.6092240214347839,
         "RSI": 45.59628665855893,
         "rsi_signal": 0,
         "rsi_position": 0,
         "_deepnote_index_column": "2021-07-23T00:00:00.000000"
        },
        {
         "Close": 0.6098269820213318,
         "RSI": 45.70333579389182,
         "rsi_signal": 0,
         "rsi_position": 0,
         "_deepnote_index_column": "2021-07-24T00:00:00.000000"
        },
        {
         "Close": 0.6063569784164429,
         "RSI": 45.152700512883406,
         "rsi_signal": 0,
         "rsi_position": 0,
         "_deepnote_index_column": "2021-07-25T00:00:00.000000"
        },
        {
         "Close": 0.6256179809570312,
         "RSI": 48.83740248236278,
         "rsi_signal": 0,
         "rsi_position": 0,
         "_deepnote_index_column": "2021-07-26T00:00:00.000000"
        },
        {
         "Close": 0.6446040272712708,
         "RSI": 52.24322812579659,
         "rsi_signal": 0,
         "rsi_position": 0,
         "_deepnote_index_column": "2021-07-27T00:00:00.000000"
        },
        {
         "Close": 0.7254449725151062,
         "RSI": 63.411696699854744,
         "rsi_signal": 0,
         "rsi_position": 0,
         "_deepnote_index_column": "2021-07-28T00:00:00.000000"
        },
        {
         "Close": 0.7480170130729675,
         "RSI": 65.81556769865404,
         "rsi_signal": 0,
         "rsi_position": 0,
         "_deepnote_index_column": "2021-07-29T00:00:00.000000"
        },
        {
         "Close": 0.7521190047264099,
         "RSI": 66.24953527085631,
         "rsi_signal": 0,
         "rsi_position": 0,
         "_deepnote_index_column": "2021-07-30T00:00:00.000000"
        },
        {
         "Close": 0.7477859854698181,
         "RSI": 65.30641885109303,
         "rsi_signal": 0,
         "rsi_position": 0,
         "_deepnote_index_column": "2021-07-31T00:00:00.000000"
        },
        {
         "Close": 0.7259219884872437,
         "RSI": 60.61718534291026,
         "rsi_signal": 0,
         "rsi_position": 0,
         "_deepnote_index_column": "2021-08-01T00:00:00.000000"
        },
        {
         "Close": 0.7392200231552124,
         "RSI": 62.386216944399266,
         "rsi_signal": 0,
         "rsi_position": 0,
         "_deepnote_index_column": "2021-08-02T00:00:00.000000"
        },
        {
         "Close": 0.7127289772033691,
         "RSI": 56.90271321918297,
         "rsi_signal": 0,
         "rsi_position": 0,
         "_deepnote_index_column": "2021-08-03T00:00:00.000000"
        },
        {
         "Close": 0.7304880023002625,
         "RSI": 59.4743196585096,
         "rsi_signal": 0,
         "rsi_position": 0,
         "_deepnote_index_column": "2021-08-04T00:00:00.000000"
        },
        {
         "Close": 0.7331510186195374,
         "RSI": 59.86109562407568,
         "rsi_signal": 0,
         "rsi_position": 0,
         "_deepnote_index_column": "2021-08-05T00:00:00.000000"
        },
        {
         "Close": 0.7465130090713501,
         "RSI": 61.82960648126735,
         "rsi_signal": 0,
         "rsi_position": 0,
         "_deepnote_index_column": "2021-08-06T00:00:00.000000"
        },
        {
         "Close": 0.8162810206413269,
         "RSI": 70.0804333076614,
         "rsi_signal": 1,
         "rsi_position": 1,
         "_deepnote_index_column": "2021-08-07T00:00:00.000000"
        },
        {
         "Close": 0.7787389755249023,
         "RSI": 62.27925014580746,
         "rsi_signal": 0,
         "rsi_position": 1,
         "_deepnote_index_column": "2021-08-08T00:00:00.000000"
        },
        {
         "Close": 0.8185529708862305,
         "RSI": 66.53396513307055,
         "rsi_signal": 0,
         "rsi_position": 1,
         "_deepnote_index_column": "2021-08-09T00:00:00.000000"
        },
        {
         "Close": 0.8512470126152039,
         "RSI": 69.56938275808882,
         "rsi_signal": 0,
         "rsi_position": 1,
         "_deepnote_index_column": "2021-08-10T00:00:00.000000"
        },
        {
         "Close": 1.0125240087509155,
         "RSI": 79.46430052214608,
         "rsi_signal": 0,
         "rsi_position": 1,
         "_deepnote_index_column": "2021-08-11T00:00:00.000000"
        }
       ]
      },
      "text/plain": "               Close         RSI  rsi_signal  rsi_position\nDate                                                      \n2019-09-01  0.258054         NaN           0             1\n2019-09-02  0.260820  100.000000           1             1\n2019-09-03  0.263139  100.000000           0             1\n2019-09-04  0.259905   91.660027           0             1\n2019-09-05  0.256346   83.415133           0             1\n...              ...         ...         ...           ...\n2021-08-07  0.816281   70.080433           1             1\n2021-08-08  0.778739   62.279250           0             1\n2021-08-09  0.818553   66.533965           0             1\n2021-08-10  0.851247   69.569383           0             1\n2021-08-11  1.012524   79.464301           0             1\n\n[707 rows x 4 columns]",
      "text/html": "<div>\n<style scoped>\n    .dataframe tbody tr th:only-of-type {\n        vertical-align: middle;\n    }\n\n    .dataframe tbody tr th {\n        vertical-align: top;\n    }\n\n    .dataframe thead th {\n        text-align: right;\n    }\n</style>\n<table border=\"1\" class=\"dataframe\">\n  <thead>\n    <tr style=\"text-align: right;\">\n      <th></th>\n      <th>Close</th>\n      <th>RSI</th>\n      <th>rsi_signal</th>\n      <th>rsi_position</th>\n    </tr>\n    <tr>\n      <th>Date</th>\n      <th></th>\n      <th></th>\n      <th></th>\n      <th></th>\n    </tr>\n  </thead>\n  <tbody>\n    <tr>\n      <th>2019-09-01</th>\n      <td>0.258054</td>\n      <td>NaN</td>\n      <td>0</td>\n      <td>1</td>\n    </tr>\n    <tr>\n      <th>2019-09-02</th>\n      <td>0.260820</td>\n      <td>100.000000</td>\n      <td>1</td>\n      <td>1</td>\n    </tr>\n    <tr>\n      <th>2019-09-03</th>\n      <td>0.263139</td>\n      <td>100.000000</td>\n      <td>0</td>\n      <td>1</td>\n    </tr>\n    <tr>\n      <th>2019-09-04</th>\n      <td>0.259905</td>\n      <td>91.660027</td>\n      <td>0</td>\n      <td>1</td>\n    </tr>\n    <tr>\n      <th>2019-09-05</th>\n      <td>0.256346</td>\n      <td>83.415133</td>\n      <td>0</td>\n      <td>1</td>\n    </tr>\n    <tr>\n      <th>...</th>\n      <td>...</td>\n      <td>...</td>\n      <td>...</td>\n      <td>...</td>\n    </tr>\n    <tr>\n      <th>2021-08-07</th>\n      <td>0.816281</td>\n      <td>70.080433</td>\n      <td>1</td>\n      <td>1</td>\n    </tr>\n    <tr>\n      <th>2021-08-08</th>\n      <td>0.778739</td>\n      <td>62.279250</td>\n      <td>0</td>\n      <td>1</td>\n    </tr>\n    <tr>\n      <th>2021-08-09</th>\n      <td>0.818553</td>\n      <td>66.533965</td>\n      <td>0</td>\n      <td>1</td>\n    </tr>\n    <tr>\n      <th>2021-08-10</th>\n      <td>0.851247</td>\n      <td>69.569383</td>\n      <td>0</td>\n      <td>1</td>\n    </tr>\n    <tr>\n      <th>2021-08-11</th>\n      <td>1.012524</td>\n      <td>79.464301</td>\n      <td>0</td>\n      <td>1</td>\n    </tr>\n  </tbody>\n</table>\n<p>707 rows × 4 columns</p>\n</div>"
     },
     "metadata": {}
    }
   ],
   "execution_count": null
  },
  {
   "cell_type": "code",
   "metadata": {
    "tags": [],
    "deepnote_to_be_reexecuted": false,
    "source_hash": "b19d6a0c",
    "execution_start": 1629247147796,
    "execution_millis": 5,
    "cell_id": "00012-2db25e4e-d6d4-4f1f-bc04-ea97836e6913",
    "deepnote_cell_type": "code"
   },
   "source": "# BACKTESTING THE SQ AROON TRADE STRATEGY\ndf_ret = pd.DataFrame(np.diff(df['Close'])).rename(columns = {0:'returns'})\nrsi_strategy_ret = []\n\nfor i in range(len(df_ret)):\n    returns = df_ret['returns'][i]*strategy['rsi_position'][i]\n    rsi_strategy_ret.append(returns)\n    \nrsi_strategy_ret_df = pd.DataFrame(rsi_strategy_ret).rename(columns = {0:'rsi_returns'})\ninvestment_value = 100000\nnumber_of_stocks = floor(investment_value/df['Close'][-1])\nrsi_investment_ret = []\n\nfor i in range(len(rsi_strategy_ret_df['rsi_returns'])):\n    returns = number_of_stocks*rsi_strategy_ret_df['rsi_returns'][i]\n    rsi_investment_ret.append(returns)\n\nrsi_investment_ret_df = pd.DataFrame(rsi_investment_ret).rename(columns = {0:'investment_returns'})\ntotal_investment_ret = round(sum(rsi_investment_ret_df['investment_returns']), 2)\nprofit_percentage = floor((total_investment_ret/investment_value)*100)\nprint(cl('Profit gained from the RSI strategy by investing $100k in XRP : {}'.format(total_investment_ret), attrs = ['bold']))\nprint(cl('Profit percentage of the RSI strategy : {}%'.format(profit_percentage), attrs = ['bold']))",
   "outputs": [
    {
     "name": "stdout",
     "text": "\u001b[1mProfit gained from the RSI strategy by investing $100k in XRP : 18841.51\u001b[0m\n\u001b[1mProfit percentage of the RSI strategy : 18%\u001b[0m\n",
     "output_type": "stream"
    }
   ],
   "execution_count": null
  },
  {
   "cell_type": "code",
   "metadata": {
    "tags": [],
    "deepnote_to_be_reexecuted": false,
    "source_hash": "c3bd5586",
    "execution_start": 1629247147797,
    "execution_millis": 12,
    "cell_id": "00013-c81026dd-c6e8-41d0-8139-cf87cf5d9050",
    "deepnote_cell_type": "code"
   },
   "source": "strategy.to_csv('XRP_DAILY_RSI_TRADE_STRATEGY.CSV')",
   "outputs": [],
   "execution_count": null
  },
  {
   "cell_type": "code",
   "metadata": {
    "tags": [],
    "cell_id": "00014-49e46830-50fc-4ad4-a19c-6e8a0b3a0c01",
    "deepnote_to_be_reexecuted": false,
    "source_hash": "b623e53d",
    "execution_start": 1629247147860,
    "execution_millis": 0,
    "deepnote_cell_type": "code"
   },
   "source": "",
   "outputs": [],
   "execution_count": null
  },
  {
   "cell_type": "markdown",
   "source": "<a style='text-decoration:none;line-height:16px;display:flex;color:#5B5B62;padding:10px;justify-content:end;' href='https://deepnote.com?utm_source=created-in-deepnote-cell&projectId=d12c285c-6789-4c45-9ad7-1be9b4d60622' target=\"_blank\">\n<img alt='Created in deepnote.com' style='display:inline;max-height:16px;margin:0px;margin-right:7.5px;' src='data:image/svg+xml;base64,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' > </img>\nCreated in <span style='font-weight:600;margin-left:4px;'>Deepnote</span></a>",
   "metadata": {
    "tags": [],
    "created_in_deepnote_cell": true,
    "deepnote_cell_type": "markdown"
   }
  }
 ],
 "nbformat": 4,
 "nbformat_minor": 5,
 "metadata": {
  "kernelspec": {
   "display_name": "Python 3",
   "language": "python",
   "name": "python3"
  },
  "language_info": {
   "codemirror_mode": {
    "name": "ipython",
    "version": 3
   },
   "file_extension": ".py",
   "mimetype": "text/x-python",
   "name": "python",
   "nbconvert_exporter": "python",
   "pygments_lexer": "ipython3",
   "version": "3.8.2"
  },
  "deepnote_notebook_id": "d9a064a8-9e9f-49d8-976c-e9832c28036d",
  "deepnote": {},
  "deepnote_execution_queue": []
 }
}