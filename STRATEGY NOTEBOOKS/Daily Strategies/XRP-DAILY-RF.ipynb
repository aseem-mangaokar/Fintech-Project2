{
 "cells": [
  {
   "cell_type": "code",
   "metadata": {
    "tags": [],
    "deepnote_to_be_reexecuted": false,
    "source_hash": "a09f78e3",
    "execution_start": 1629320750807,
    "execution_millis": 8880,
    "cell_id": "00000-d40a001f-f15a-4335-9a92-6f14a86ed19d",
    "deepnote_cell_type": "code"
   },
   "source": "# Initial imports\nimport numpy as np\nimport pandas as pd\nfrom pathlib import Path\nfrom sklearn.ensemble import RandomForestClassifier\nfrom sklearn.preprocessing import StandardScaler\nfrom sklearn.model_selection import train_test_split\nfrom sklearn.metrics import confusion_matrix, accuracy_score, classification_report\nfrom sklearn.ensemble import GradientBoostingClassifier\n%matplotlib inline\nfrom sklearn import *\nfrom tensorflow.keras.models import Sequential\nfrom tensorflow.keras.layers import Dense\nimport matplotlib.pyplot as plt\n\n# Needed for decision tree visualization\nimport pydotplus\nfrom IPython.display import Image",
   "execution_count": null,
   "outputs": [
    {
     "name": "stderr",
     "text": "2021-08-18 21:05:53.832720: W tensorflow/stream_executor/platform/default/dso_loader.cc:60] Could not load dynamic library 'libcudart.so.11.0'; dlerror: libcudart.so.11.0: cannot open shared object file: No such file or directory\n2021-08-18 21:05:53.832782: I tensorflow/stream_executor/cuda/cudart_stub.cc:29] Ignore above cudart dlerror if you do not have a GPU set up on your machine.\n",
     "output_type": "stream"
    }
   ]
  },
  {
   "cell_type": "code",
   "metadata": {
    "tags": [],
    "deepnote_to_be_reexecuted": false,
    "source_hash": "bd57c2c0",
    "execution_start": 1629320759694,
    "execution_millis": 114,
    "cell_id": "00001-32752f74-88c4-4c74-a06f-5bf62d0588e3",
    "deepnote_cell_type": "code"
   },
   "source": "# Set path to CSV and read in CSV\ndf1=pd.read_csv(Path('/work/Fintech-Project2/STRATEGY NOTEBOOKS/Daily Strategies/XRP_DAILY_MACD_TRADE_STRATEGY.CSV'), infer_datetime_format=True, index_col='Date')\ndf1.drop(columns = ['macd','signal','macd_position'], inplace = True)\ndf2=pd.read_csv(Path('/work/Fintech-Project2/STRATEGY NOTEBOOKS/Daily Strategies/XRP DAILY AROON 25 TRADE STRATEGY.CSV'), infer_datetime_format=True, index_col='Date')\ndf2.drop(columns =['trend_aroon_up','trend_aroon_down', 'aroon_position', 'Close'],inplace = True)\ndf3=pd.read_csv(Path('/work/Fintech-Project2/STRATEGY NOTEBOOKS/Daily Strategies/XRP_DAILY_RSI_TRADE_STRATEGY.CSV'), infer_datetime_format=True, index_col='Date')\ndf3.drop(columns = ['RSI','rsi_position','Close'], inplace = True)\ndf4=pd.read_csv(Path('/work/Fintech-Project2/STRATEGY NOTEBOOKS/Daily Strategies/XRP_AO_1d_TRADE_STRATEGY'), infer_datetime_format=True, index_col='Date')\ndf4.drop(columns = ['ao','ao_position','Close'], inplace = True)\ndf5=pd.read_csv(Path('/work/Fintech-Project2/STRATEGY NOTEBOOKS/Daily Strategies/XRP 1D BOLLINGER BANDS TRADE STRATEGY.CSV'), infer_datetime_format=True, index_col='Date')\ndf5.drop(columns = ['bollinger_upper_band','bollinger_lower_band','bb_position','Close'], inplace = True)\ncombined_signals_df = pd.concat([df1,df2,df3,df4,df5], axis = 1).fillna(0)\ncombined_signals_df",
   "execution_count": null,
   "outputs": [
    {
     "output_type": "execute_result",
     "execution_count": 2,
     "data": {
      "application/vnd.deepnote.dataframe.v2+json": {
       "row_count": 707,
       "column_count": 6,
       "columns": [
        {
         "name": "Close",
         "dtype": "float64",
         "stats": {
          "unique_count": 706,
          "nan_count": 0,
          "min": "0.1396349966526031",
          "max": "1.83923602104187",
          "histogram": [
           {
            "bin_start": 0.1396349966526031,
            "bin_end": 0.30959509909152977,
            "count": 468
           },
           {
            "bin_start": 0.30959509909152977,
            "bin_end": 0.47955520153045644,
            "count": 50
           },
           {
            "bin_start": 0.47955520153045644,
            "bin_end": 0.6495153039693831,
            "count": 85
           },
           {
            "bin_start": 0.6495153039693831,
            "bin_end": 0.8194754064083098,
            "count": 29
           },
           {
            "bin_start": 0.8194754064083098,
            "bin_end": 0.9894355088472364,
            "count": 23
           },
           {
            "bin_start": 0.9894355088472364,
            "bin_end": 1.1593956112861632,
            "count": 14
           },
           {
            "bin_start": 1.1593956112861632,
            "bin_end": 1.3293557137250898,
            "count": 6
           },
           {
            "bin_start": 1.3293557137250898,
            "bin_end": 1.4993158161640165,
            "count": 17
           },
           {
            "bin_start": 1.4993158161640165,
            "bin_end": 1.6692759186029433,
            "count": 12
           },
           {
            "bin_start": 1.6692759186029433,
            "bin_end": 1.83923602104187,
            "count": 3
           }
          ]
         }
        },
        {
         "name": "macd_signal",
         "dtype": "int64",
         "stats": {
          "unique_count": 3,
          "nan_count": 0,
          "min": "-1",
          "max": "1",
          "histogram": [
           {
            "bin_start": -1,
            "bin_end": -0.8,
            "count": 23
           },
           {
            "bin_start": -0.8,
            "bin_end": -0.6,
            "count": 0
           },
           {
            "bin_start": -0.6,
            "bin_end": -0.3999999999999999,
            "count": 0
           },
           {
            "bin_start": -0.3999999999999999,
            "bin_end": -0.19999999999999996,
            "count": 0
           },
           {
            "bin_start": -0.19999999999999996,
            "bin_end": 0,
            "count": 0
           },
           {
            "bin_start": 0,
            "bin_end": 0.20000000000000018,
            "count": 660
           },
           {
            "bin_start": 0.20000000000000018,
            "bin_end": 0.40000000000000013,
            "count": 0
           },
           {
            "bin_start": 0.40000000000000013,
            "bin_end": 0.6000000000000001,
            "count": 0
           },
           {
            "bin_start": 0.6000000000000001,
            "bin_end": 0.8,
            "count": 0
           },
           {
            "bin_start": 0.8,
            "bin_end": 1,
            "count": 24
           }
          ]
         }
        },
        {
         "name": "aroon_signal",
         "dtype": "int64",
         "stats": {
          "unique_count": 3,
          "nan_count": 0,
          "min": "-1",
          "max": "1",
          "histogram": [
           {
            "bin_start": -1,
            "bin_end": -0.8,
            "count": 7
           },
           {
            "bin_start": -0.8,
            "bin_end": -0.6,
            "count": 0
           },
           {
            "bin_start": -0.6,
            "bin_end": -0.3999999999999999,
            "count": 0
           },
           {
            "bin_start": -0.3999999999999999,
            "bin_end": -0.19999999999999996,
            "count": 0
           },
           {
            "bin_start": -0.19999999999999996,
            "bin_end": 0,
            "count": 0
           },
           {
            "bin_start": 0,
            "bin_end": 0.20000000000000018,
            "count": 692
           },
           {
            "bin_start": 0.20000000000000018,
            "bin_end": 0.40000000000000013,
            "count": 0
           },
           {
            "bin_start": 0.40000000000000013,
            "bin_end": 0.6000000000000001,
            "count": 0
           },
           {
            "bin_start": 0.6000000000000001,
            "bin_end": 0.8,
            "count": 0
           },
           {
            "bin_start": 0.8,
            "bin_end": 1,
            "count": 8
           }
          ]
         }
        },
        {
         "name": "rsi_signal",
         "dtype": "int64",
         "stats": {
          "unique_count": 3,
          "nan_count": 0,
          "min": "-1",
          "max": "1",
          "histogram": [
           {
            "bin_start": -1,
            "bin_end": -0.8,
            "count": 4
           },
           {
            "bin_start": -0.8,
            "bin_end": -0.6,
            "count": 0
           },
           {
            "bin_start": -0.6,
            "bin_end": -0.3999999999999999,
            "count": 0
           },
           {
            "bin_start": -0.3999999999999999,
            "bin_end": -0.19999999999999996,
            "count": 0
           },
           {
            "bin_start": -0.19999999999999996,
            "bin_end": 0,
            "count": 0
           },
           {
            "bin_start": 0,
            "bin_end": 0.20000000000000018,
            "count": 698
           },
           {
            "bin_start": 0.20000000000000018,
            "bin_end": 0.40000000000000013,
            "count": 0
           },
           {
            "bin_start": 0.40000000000000013,
            "bin_end": 0.6000000000000001,
            "count": 0
           },
           {
            "bin_start": 0.6000000000000001,
            "bin_end": 0.8,
            "count": 0
           },
           {
            "bin_start": 0.8,
            "bin_end": 1,
            "count": 5
           }
          ]
         }
        },
        {
         "name": "ao_signal",
         "dtype": "float64",
         "stats": {
          "unique_count": 3,
          "nan_count": 0,
          "min": "-1.0",
          "max": "1.0",
          "histogram": [
           {
            "bin_start": -1,
            "bin_end": -0.8,
            "count": 12
           },
           {
            "bin_start": -0.8,
            "bin_end": -0.6,
            "count": 0
           },
           {
            "bin_start": -0.6,
            "bin_end": -0.3999999999999999,
            "count": 0
           },
           {
            "bin_start": -0.3999999999999999,
            "bin_end": -0.19999999999999996,
            "count": 0
           },
           {
            "bin_start": -0.19999999999999996,
            "bin_end": 0,
            "count": 0
           },
           {
            "bin_start": 0,
            "bin_end": 0.20000000000000018,
            "count": 683
           },
           {
            "bin_start": 0.20000000000000018,
            "bin_end": 0.40000000000000013,
            "count": 0
           },
           {
            "bin_start": 0.40000000000000013,
            "bin_end": 0.6000000000000001,
            "count": 0
           },
           {
            "bin_start": 0.6000000000000001,
            "bin_end": 0.8,
            "count": 0
           },
           {
            "bin_start": 0.8,
            "bin_end": 1,
            "count": 12
           }
          ]
         }
        },
        {
         "name": "bollinger_signal",
         "dtype": "float64",
         "stats": {
          "unique_count": 3,
          "nan_count": 0,
          "min": "-1.0",
          "max": "1.0",
          "histogram": [
           {
            "bin_start": -1,
            "bin_end": -0.8,
            "count": 183
           },
           {
            "bin_start": -0.8,
            "bin_end": -0.6,
            "count": 0
           },
           {
            "bin_start": -0.6,
            "bin_end": -0.3999999999999999,
            "count": 0
           },
           {
            "bin_start": -0.3999999999999999,
            "bin_end": -0.19999999999999996,
            "count": 0
           },
           {
            "bin_start": -0.19999999999999996,
            "bin_end": 0,
            "count": 0
           },
           {
            "bin_start": 0,
            "bin_end": 0.20000000000000018,
            "count": 349
           },
           {
            "bin_start": 0.20000000000000018,
            "bin_end": 0.40000000000000013,
            "count": 0
           },
           {
            "bin_start": 0.40000000000000013,
            "bin_end": 0.6000000000000001,
            "count": 0
           },
           {
            "bin_start": 0.6000000000000001,
            "bin_end": 0.8,
            "count": 0
           },
           {
            "bin_start": 0.8,
            "bin_end": 1,
            "count": 175
           }
          ]
         }
        },
        {
         "name": "_deepnote_index_column",
         "dtype": "object"
        }
       ],
       "rows_top": [
        {
         "Close": 0.2580539882183075,
         "macd_signal": 0,
         "aroon_signal": 0,
         "rsi_signal": 0,
         "ao_signal": 0,
         "bollinger_signal": 0,
         "_deepnote_index_column": "2019-09-01"
        },
        {
         "Close": 0.2608200013637543,
         "macd_signal": 1,
         "aroon_signal": 0,
         "rsi_signal": 1,
         "ao_signal": 0,
         "bollinger_signal": 0,
         "_deepnote_index_column": "2019-09-02"
        },
        {
         "Close": 0.263139009475708,
         "macd_signal": 0,
         "aroon_signal": 0,
         "rsi_signal": 0,
         "ao_signal": 0,
         "bollinger_signal": 0,
         "_deepnote_index_column": "2019-09-03"
        },
        {
         "Close": 0.2599050104618072,
         "macd_signal": 0,
         "aroon_signal": 0,
         "rsi_signal": 0,
         "ao_signal": 0,
         "bollinger_signal": 0,
         "_deepnote_index_column": "2019-09-04"
        },
        {
         "Close": 0.2563459873199463,
         "macd_signal": 0,
         "aroon_signal": 0,
         "rsi_signal": 0,
         "ao_signal": 0,
         "bollinger_signal": 0,
         "_deepnote_index_column": "2019-09-05"
        },
        {
         "Close": 0.2523399889469147,
         "macd_signal": -1,
         "aroon_signal": 0,
         "rsi_signal": 0,
         "ao_signal": 0,
         "bollinger_signal": 0,
         "_deepnote_index_column": "2019-09-06"
        },
        {
         "Close": 0.260686993598938,
         "macd_signal": 0,
         "aroon_signal": 0,
         "rsi_signal": 0,
         "ao_signal": 0,
         "bollinger_signal": 0,
         "_deepnote_index_column": "2019-09-07"
        },
        {
         "Close": 0.2630839943885803,
         "macd_signal": 1,
         "aroon_signal": 0,
         "rsi_signal": 0,
         "ao_signal": 0,
         "bollinger_signal": 0,
         "_deepnote_index_column": "2019-09-08"
        },
        {
         "Close": 0.2595619857311249,
         "macd_signal": 0,
         "aroon_signal": 0,
         "rsi_signal": 0,
         "ao_signal": 0,
         "bollinger_signal": 0,
         "_deepnote_index_column": "2019-09-09"
        },
        {
         "Close": 0.2586709856986999,
         "macd_signal": 0,
         "aroon_signal": 0,
         "rsi_signal": 0,
         "ao_signal": 0,
         "bollinger_signal": 0,
         "_deepnote_index_column": "2019-09-10"
        },
        {
         "Close": 0.2559559941291809,
         "macd_signal": -1,
         "aroon_signal": 0,
         "rsi_signal": 0,
         "ao_signal": 0,
         "bollinger_signal": 0,
         "_deepnote_index_column": "2019-09-11"
        },
        {
         "Close": 0.2548109889030456,
         "macd_signal": 0,
         "aroon_signal": 0,
         "rsi_signal": 0,
         "ao_signal": 0,
         "bollinger_signal": 0,
         "_deepnote_index_column": "2019-09-12"
        },
        {
         "Close": 0.2555510103702545,
         "macd_signal": 0,
         "aroon_signal": 0,
         "rsi_signal": 0,
         "ao_signal": 0,
         "bollinger_signal": 0,
         "_deepnote_index_column": "2019-09-13"
        },
        {
         "Close": 0.2611669898033142,
         "macd_signal": 0,
         "aroon_signal": 0,
         "rsi_signal": 0,
         "ao_signal": 0,
         "bollinger_signal": 0,
         "_deepnote_index_column": "2019-09-14"
        },
        {
         "Close": 0.2616280019283294,
         "macd_signal": 1,
         "aroon_signal": 0,
         "rsi_signal": 0,
         "ao_signal": 0,
         "bollinger_signal": 0,
         "_deepnote_index_column": "2019-09-15"
        },
        {
         "Close": 0.2609519958496094,
         "macd_signal": 0,
         "aroon_signal": 0,
         "rsi_signal": 0,
         "ao_signal": 0,
         "bollinger_signal": 0,
         "_deepnote_index_column": "2019-09-16"
        },
        {
         "Close": 0.2850129902362823,
         "macd_signal": 0,
         "aroon_signal": 0,
         "rsi_signal": 0,
         "ao_signal": 0,
         "bollinger_signal": 0,
         "_deepnote_index_column": "2019-09-17"
        },
        {
         "Close": 0.3137759864330292,
         "macd_signal": 0,
         "aroon_signal": 0,
         "rsi_signal": 0,
         "ao_signal": 0,
         "bollinger_signal": 0,
         "_deepnote_index_column": "2019-09-18"
        },
        {
         "Close": 0.3024410009384155,
         "macd_signal": 0,
         "aroon_signal": 0,
         "rsi_signal": 0,
         "ao_signal": 0,
         "bollinger_signal": 0,
         "_deepnote_index_column": "2019-09-19"
        },
        {
         "Close": 0.2944700121879577,
         "macd_signal": 0,
         "aroon_signal": 0,
         "rsi_signal": 0,
         "ao_signal": 0,
         "bollinger_signal": -1,
         "_deepnote_index_column": "2019-09-20"
        },
        {
         "Close": 0.2894429862499237,
         "macd_signal": 0,
         "aroon_signal": 0,
         "rsi_signal": 0,
         "ao_signal": 0,
         "bollinger_signal": -1,
         "_deepnote_index_column": "2019-09-21"
        },
        {
         "Close": 0.2789309918880462,
         "macd_signal": 0,
         "aroon_signal": 0,
         "rsi_signal": 0,
         "ao_signal": 0,
         "bollinger_signal": 0,
         "_deepnote_index_column": "2019-09-22"
        },
        {
         "Close": 0.2686749994754791,
         "macd_signal": 0,
         "aroon_signal": 0,
         "rsi_signal": 0,
         "ao_signal": 0,
         "bollinger_signal": 0,
         "_deepnote_index_column": "2019-09-23"
        },
        {
         "Close": 0.2352260053157806,
         "macd_signal": -1,
         "aroon_signal": 0,
         "rsi_signal": 0,
         "ao_signal": 0,
         "bollinger_signal": 1,
         "_deepnote_index_column": "2019-09-24"
        },
        {
         "Close": 0.2464410066604614,
         "macd_signal": 0,
         "aroon_signal": 0,
         "rsi_signal": 0,
         "ao_signal": 0,
         "bollinger_signal": 1,
         "_deepnote_index_column": "2019-09-25"
        },
        {
         "Close": 0.2437839955091476,
         "macd_signal": 0,
         "aroon_signal": 0,
         "rsi_signal": 0,
         "ao_signal": 0,
         "bollinger_signal": 1,
         "_deepnote_index_column": "2019-09-26"
        },
        {
         "Close": 0.2440209984779358,
         "macd_signal": 0,
         "aroon_signal": 0,
         "rsi_signal": 0,
         "ao_signal": 0,
         "bollinger_signal": 1,
         "_deepnote_index_column": "2019-09-27"
        },
        {
         "Close": 0.2425709962844848,
         "macd_signal": 0,
         "aroon_signal": 0,
         "rsi_signal": 0,
         "ao_signal": 0,
         "bollinger_signal": 1,
         "_deepnote_index_column": "2019-09-28"
        },
        {
         "Close": 0.2413879930973053,
         "macd_signal": 0,
         "aroon_signal": 0,
         "rsi_signal": 0,
         "ao_signal": 0,
         "bollinger_signal": 1,
         "_deepnote_index_column": "2019-09-29"
        },
        {
         "Close": 0.2559329867362976,
         "macd_signal": 0,
         "aroon_signal": 0,
         "rsi_signal": 0,
         "ao_signal": 0,
         "bollinger_signal": 0,
         "_deepnote_index_column": "2019-09-30"
        },
        {
         "Close": 0.2495650053024292,
         "macd_signal": 0,
         "aroon_signal": 0,
         "rsi_signal": 0,
         "ao_signal": 0,
         "bollinger_signal": 0,
         "_deepnote_index_column": "2019-10-01"
        },
        {
         "Close": 0.2535389959812164,
         "macd_signal": 0,
         "aroon_signal": 0,
         "rsi_signal": 0,
         "ao_signal": 0,
         "bollinger_signal": 0,
         "_deepnote_index_column": "2019-10-02"
        },
        {
         "Close": 0.2478599995374679,
         "macd_signal": 0,
         "aroon_signal": 0,
         "rsi_signal": 0,
         "ao_signal": 0,
         "bollinger_signal": 0,
         "_deepnote_index_column": "2019-10-03"
        },
        {
         "Close": 0.2539350092411041,
         "macd_signal": 0,
         "aroon_signal": 0,
         "rsi_signal": 0,
         "ao_signal": 0,
         "bollinger_signal": 0,
         "_deepnote_index_column": "2019-10-04"
        },
        {
         "Close": 0.2534570097923279,
         "macd_signal": 0,
         "aroon_signal": 0,
         "rsi_signal": 0,
         "ao_signal": -1,
         "bollinger_signal": 0,
         "_deepnote_index_column": "2019-10-05"
        },
        {
         "Close": 0.2577050030231476,
         "macd_signal": 0,
         "aroon_signal": 0,
         "rsi_signal": 0,
         "ao_signal": 0,
         "bollinger_signal": 0,
         "_deepnote_index_column": "2019-10-06"
        },
        {
         "Close": 0.2756850123405456,
         "macd_signal": 1,
         "aroon_signal": 0,
         "rsi_signal": 0,
         "ao_signal": 0,
         "bollinger_signal": 0,
         "_deepnote_index_column": "2019-10-07"
        },
        {
         "Close": 0.2784590125083923,
         "macd_signal": 0,
         "aroon_signal": 0,
         "rsi_signal": 0,
         "ao_signal": 0,
         "bollinger_signal": 0,
         "_deepnote_index_column": "2019-10-08"
        },
        {
         "Close": 0.2816269993782043,
         "macd_signal": 0,
         "aroon_signal": 0,
         "rsi_signal": 0,
         "ao_signal": 1,
         "bollinger_signal": -1,
         "_deepnote_index_column": "2019-10-09"
        },
        {
         "Close": 0.2720730006694793,
         "macd_signal": 0,
         "aroon_signal": 0,
         "rsi_signal": 0,
         "ao_signal": 0,
         "bollinger_signal": 0,
         "_deepnote_index_column": "2019-10-10"
        },
        {
         "Close": 0.2710990011692047,
         "macd_signal": 0,
         "aroon_signal": 0,
         "rsi_signal": 0,
         "ao_signal": 0,
         "bollinger_signal": 0,
         "_deepnote_index_column": "2019-10-11"
        },
        {
         "Close": 0.2731910049915313,
         "macd_signal": 0,
         "aroon_signal": 0,
         "rsi_signal": 0,
         "ao_signal": 0,
         "bollinger_signal": -1,
         "_deepnote_index_column": "2019-10-12"
        },
        {
         "Close": 0.2777650058269501,
         "macd_signal": 0,
         "aroon_signal": 0,
         "rsi_signal": 0,
         "ao_signal": 0,
         "bollinger_signal": -1,
         "_deepnote_index_column": "2019-10-13"
        },
        {
         "Close": 0.2965230047702789,
         "macd_signal": 0,
         "aroon_signal": 1,
         "rsi_signal": 0,
         "ao_signal": 0,
         "bollinger_signal": -1,
         "_deepnote_index_column": "2019-10-14"
        },
        {
         "Close": 0.2887020111083984,
         "macd_signal": 0,
         "aroon_signal": 0,
         "rsi_signal": 0,
         "ao_signal": 0,
         "bollinger_signal": -1,
         "_deepnote_index_column": "2019-10-15"
        },
        {
         "Close": 0.2846400141716003,
         "macd_signal": 0,
         "aroon_signal": 0,
         "rsi_signal": 0,
         "ao_signal": 0,
         "bollinger_signal": -1,
         "_deepnote_index_column": "2019-10-16"
        },
        {
         "Close": 0.3023149967193603,
         "macd_signal": 0,
         "aroon_signal": 0,
         "rsi_signal": 0,
         "ao_signal": 0,
         "bollinger_signal": -1,
         "_deepnote_index_column": "2019-10-17"
        },
        {
         "Close": 0.2950049936771393,
         "macd_signal": 0,
         "aroon_signal": 0,
         "rsi_signal": 0,
         "ao_signal": 0,
         "bollinger_signal": -1,
         "_deepnote_index_column": "2019-10-18"
        },
        {
         "Close": 0.2930220067501068,
         "macd_signal": 0,
         "aroon_signal": 0,
         "rsi_signal": 0,
         "ao_signal": 0,
         "bollinger_signal": -1,
         "_deepnote_index_column": "2019-10-19"
        },
        {
         "Close": 0.2941789925098419,
         "macd_signal": 0,
         "aroon_signal": 0,
         "rsi_signal": 0,
         "ao_signal": 0,
         "bollinger_signal": -1,
         "_deepnote_index_column": "2019-10-20"
        },
        {
         "Close": 0.2929790019989013,
         "macd_signal": 0,
         "aroon_signal": 0,
         "rsi_signal": 0,
         "ao_signal": 0,
         "bollinger_signal": 0,
         "_deepnote_index_column": "2019-10-21"
        },
        {
         "Close": 0.291606992483139,
         "macd_signal": 0,
         "aroon_signal": 0,
         "rsi_signal": 0,
         "ao_signal": 0,
         "bollinger_signal": 0,
         "_deepnote_index_column": "2019-10-22"
        },
        {
         "Close": 0.2741430103778839,
         "macd_signal": -1,
         "aroon_signal": 0,
         "rsi_signal": 0,
         "ao_signal": 0,
         "bollinger_signal": 0,
         "_deepnote_index_column": "2019-10-23"
        },
        {
         "Close": 0.2784909904003143,
         "macd_signal": 0,
         "aroon_signal": 0,
         "rsi_signal": 0,
         "ao_signal": 0,
         "bollinger_signal": 0,
         "_deepnote_index_column": "2019-10-24"
        },
        {
         "Close": 0.2981649935245514,
         "macd_signal": 0,
         "aroon_signal": 0,
         "rsi_signal": 0,
         "ao_signal": 0,
         "bollinger_signal": -1,
         "_deepnote_index_column": "2019-10-25"
        },
        {
         "Close": 0.2936989963054657,
         "macd_signal": 0,
         "aroon_signal": 0,
         "rsi_signal": 0,
         "ao_signal": 0,
         "bollinger_signal": 0,
         "_deepnote_index_column": "2019-10-26"
        },
        {
         "Close": 0.2980999946594238,
         "macd_signal": 1,
         "aroon_signal": 0,
         "rsi_signal": 0,
         "ao_signal": 0,
         "bollinger_signal": -1,
         "_deepnote_index_column": "2019-10-27"
        },
        {
         "Close": 0.2960070073604584,
         "macd_signal": 0,
         "aroon_signal": 0,
         "rsi_signal": 0,
         "ao_signal": 0,
         "bollinger_signal": 0,
         "_deepnote_index_column": "2019-10-28"
        },
        {
         "Close": 0.3019559979438782,
         "macd_signal": 0,
         "aroon_signal": 0,
         "rsi_signal": 0,
         "ao_signal": 0,
         "bollinger_signal": -1,
         "_deepnote_index_column": "2019-10-29"
        },
        {
         "Close": 0.2965550124645233,
         "macd_signal": 0,
         "aroon_signal": 0,
         "rsi_signal": 0,
         "ao_signal": 0,
         "bollinger_signal": 0,
         "_deepnote_index_column": "2019-10-30"
        },
        {
         "Close": 0.2963579893112182,
         "macd_signal": -1,
         "aroon_signal": 0,
         "rsi_signal": 0,
         "ao_signal": 0,
         "bollinger_signal": 0,
         "_deepnote_index_column": "2019-10-31"
        },
        {
         "Close": 0.2926419973373413,
         "macd_signal": 0,
         "aroon_signal": 0,
         "rsi_signal": 0,
         "ao_signal": 0,
         "bollinger_signal": 0,
         "_deepnote_index_column": "2019-11-01"
        },
        {
         "Close": 0.2962630093097687,
         "macd_signal": 0,
         "aroon_signal": 0,
         "rsi_signal": 0,
         "ao_signal": 0,
         "bollinger_signal": 0,
         "_deepnote_index_column": "2019-11-02"
        },
        {
         "Close": 0.2912609875202179,
         "macd_signal": 0,
         "aroon_signal": 0,
         "rsi_signal": 0,
         "ao_signal": 0,
         "bollinger_signal": 0,
         "_deepnote_index_column": "2019-11-03"
        },
        {
         "Close": 0.2999370098114013,
         "macd_signal": 0,
         "aroon_signal": 0,
         "rsi_signal": 0,
         "ao_signal": 0,
         "bollinger_signal": 0,
         "_deepnote_index_column": "2019-11-04"
        },
        {
         "Close": 0.3012549877166748,
         "macd_signal": 0,
         "aroon_signal": 0,
         "rsi_signal": 0,
         "ao_signal": 0,
         "bollinger_signal": -1,
         "_deepnote_index_column": "2019-11-05"
        },
        {
         "Close": 0.3100860118865967,
         "macd_signal": 1,
         "aroon_signal": 0,
         "rsi_signal": 0,
         "ao_signal": 0,
         "bollinger_signal": -1,
         "_deepnote_index_column": "2019-11-06"
        },
        {
         "Close": 0.2924309968948364,
         "macd_signal": -1,
         "aroon_signal": 0,
         "rsi_signal": 0,
         "ao_signal": 0,
         "bollinger_signal": 0,
         "_deepnote_index_column": "2019-11-07"
        },
        {
         "Close": 0.2769530117511749,
         "macd_signal": 0,
         "aroon_signal": 0,
         "rsi_signal": 0,
         "ao_signal": 0,
         "bollinger_signal": 1,
         "_deepnote_index_column": "2019-11-08"
        },
        {
         "Close": 0.2801960110664367,
         "macd_signal": 0,
         "aroon_signal": 0,
         "rsi_signal": 0,
         "ao_signal": 0,
         "bollinger_signal": 1,
         "_deepnote_index_column": "2019-11-09"
        },
        {
         "Close": 0.2802039980888366,
         "macd_signal": 0,
         "aroon_signal": 0,
         "rsi_signal": 0,
         "ao_signal": 0,
         "bollinger_signal": 1,
         "_deepnote_index_column": "2019-11-10"
        },
        {
         "Close": 0.275085985660553,
         "macd_signal": 0,
         "aroon_signal": 0,
         "rsi_signal": 0,
         "ao_signal": -1,
         "bollinger_signal": 1,
         "_deepnote_index_column": "2019-11-11"
        },
        {
         "Close": 0.2724179923534393,
         "macd_signal": 0,
         "aroon_signal": 0,
         "rsi_signal": 0,
         "ao_signal": 0,
         "bollinger_signal": 1,
         "_deepnote_index_column": "2019-11-12"
        },
        {
         "Close": 0.2730360031127929,
         "macd_signal": 0,
         "aroon_signal": 0,
         "rsi_signal": 0,
         "ao_signal": 0,
         "bollinger_signal": 1,
         "_deepnote_index_column": "2019-11-13"
        },
        {
         "Close": 0.2703909873962402,
         "macd_signal": 0,
         "aroon_signal": 0,
         "rsi_signal": 0,
         "ao_signal": 0,
         "bollinger_signal": 1,
         "_deepnote_index_column": "2019-11-14"
        },
        {
         "Close": 0.2616539895534515,
         "macd_signal": 0,
         "aroon_signal": 0,
         "rsi_signal": 0,
         "ao_signal": 0,
         "bollinger_signal": 1,
         "_deepnote_index_column": "2019-11-15"
        },
        {
         "Close": 0.2638860046863556,
         "macd_signal": 0,
         "aroon_signal": 0,
         "rsi_signal": 0,
         "ao_signal": 0,
         "bollinger_signal": 1,
         "_deepnote_index_column": "2019-11-16"
        },
        {
         "Close": 0.2652530074119568,
         "macd_signal": 0,
         "aroon_signal": 0,
         "rsi_signal": 0,
         "ao_signal": 0,
         "bollinger_signal": 1,
         "_deepnote_index_column": "2019-11-17"
        },
        {
         "Close": 0.2556529939174652,
         "macd_signal": 0,
         "aroon_signal": 0,
         "rsi_signal": 0,
         "ao_signal": 0,
         "bollinger_signal": 1,
         "_deepnote_index_column": "2019-11-18"
        },
        {
         "Close": 0.2565000057220459,
         "macd_signal": 0,
         "aroon_signal": 0,
         "rsi_signal": 0,
         "ao_signal": 0,
         "bollinger_signal": 1,
         "_deepnote_index_column": "2019-11-19"
        },
        {
         "Close": 0.25136399269104,
         "macd_signal": 0,
         "aroon_signal": 0,
         "rsi_signal": 0,
         "ao_signal": 0,
         "bollinger_signal": 1,
         "_deepnote_index_column": "2019-11-20"
        },
        {
         "Close": 0.2437659949064254,
         "macd_signal": 0,
         "aroon_signal": 0,
         "rsi_signal": -1,
         "ao_signal": 0,
         "bollinger_signal": 1,
         "_deepnote_index_column": "2019-11-21"
        },
        {
         "Close": 0.2316000014543533,
         "macd_signal": 0,
         "aroon_signal": 0,
         "rsi_signal": 0,
         "ao_signal": 0,
         "bollinger_signal": 1,
         "_deepnote_index_column": "2019-11-22"
        }
       ],
       "rows_bottom": [
        {
         "Close": 1.0069760084152222,
         "macd_signal": 0,
         "aroon_signal": 0,
         "rsi_signal": 0,
         "ao_signal": 0,
         "bollinger_signal": 1,
         "_deepnote_index_column": "2021-05-21"
        },
        {
         "Close": 0.9063169956207277,
         "macd_signal": 0,
         "aroon_signal": 0,
         "rsi_signal": 0,
         "ao_signal": 0,
         "bollinger_signal": 1,
         "_deepnote_index_column": "2021-05-22"
        },
        {
         "Close": 0.7970150113105774,
         "macd_signal": 0,
         "aroon_signal": 0,
         "rsi_signal": 0,
         "ao_signal": 0,
         "bollinger_signal": 1,
         "_deepnote_index_column": "2021-05-23"
        },
        {
         "Close": 0.9928349852561952,
         "macd_signal": 0,
         "aroon_signal": 0,
         "rsi_signal": 0,
         "ao_signal": 0,
         "bollinger_signal": 1,
         "_deepnote_index_column": "2021-05-24"
        },
        {
         "Close": 0.976186990737915,
         "macd_signal": 0,
         "aroon_signal": 0,
         "rsi_signal": 0,
         "ao_signal": 0,
         "bollinger_signal": 1,
         "_deepnote_index_column": "2021-05-25"
        },
        {
         "Close": 1.033725023269653,
         "macd_signal": 0,
         "aroon_signal": 0,
         "rsi_signal": 0,
         "ao_signal": 0,
         "bollinger_signal": 0,
         "_deepnote_index_column": "2021-05-26"
        },
        {
         "Close": 0.970234990119934,
         "macd_signal": 0,
         "aroon_signal": 0,
         "rsi_signal": 0,
         "ao_signal": 0,
         "bollinger_signal": 1,
         "_deepnote_index_column": "2021-05-27"
        },
        {
         "Close": 0.9001479744911194,
         "macd_signal": 0,
         "aroon_signal": 0,
         "rsi_signal": 0,
         "ao_signal": 0,
         "bollinger_signal": 1,
         "_deepnote_index_column": "2021-05-28"
        },
        {
         "Close": 0.8317880034446716,
         "macd_signal": 0,
         "aroon_signal": 0,
         "rsi_signal": 0,
         "ao_signal": 0,
         "bollinger_signal": 1,
         "_deepnote_index_column": "2021-05-29"
        },
        {
         "Close": 0.9066089987754822,
         "macd_signal": 0,
         "aroon_signal": 0,
         "rsi_signal": 0,
         "ao_signal": 0,
         "bollinger_signal": 0,
         "_deepnote_index_column": "2021-05-30"
        },
        {
         "Close": 1.0465840101242063,
         "macd_signal": 0,
         "aroon_signal": 0,
         "rsi_signal": 0,
         "ao_signal": 0,
         "bollinger_signal": 0,
         "_deepnote_index_column": "2021-05-31"
        },
        {
         "Close": 1.0110009908676147,
         "macd_signal": 0,
         "aroon_signal": 0,
         "rsi_signal": 0,
         "ao_signal": 0,
         "bollinger_signal": 0,
         "_deepnote_index_column": "2021-06-01"
        },
        {
         "Close": 1.024399995803833,
         "macd_signal": 1,
         "aroon_signal": 0,
         "rsi_signal": 0,
         "ao_signal": 0,
         "bollinger_signal": 0,
         "_deepnote_index_column": "2021-06-02"
        },
        {
         "Close": 1.045320987701416,
         "macd_signal": 0,
         "aroon_signal": 0,
         "rsi_signal": 0,
         "ao_signal": 0,
         "bollinger_signal": 0,
         "_deepnote_index_column": "2021-06-03"
        },
        {
         "Close": 0.970196008682251,
         "macd_signal": 0,
         "aroon_signal": 0,
         "rsi_signal": 0,
         "ao_signal": 0,
         "bollinger_signal": 0,
         "_deepnote_index_column": "2021-06-04"
        },
        {
         "Close": 0.9232860207557678,
         "macd_signal": 0,
         "aroon_signal": 0,
         "rsi_signal": 0,
         "ao_signal": 0,
         "bollinger_signal": 0,
         "_deepnote_index_column": "2021-06-05"
        },
        {
         "Close": 0.945285975933075,
         "macd_signal": 0,
         "aroon_signal": 0,
         "rsi_signal": 0,
         "ao_signal": 0,
         "bollinger_signal": 0,
         "_deepnote_index_column": "2021-06-06"
        },
        {
         "Close": 0.8611549735069275,
         "macd_signal": 0,
         "aroon_signal": 0,
         "rsi_signal": 0,
         "ao_signal": 0,
         "bollinger_signal": 1,
         "_deepnote_index_column": "2021-06-07"
        },
        {
         "Close": 0.8757879734039307,
         "macd_signal": 0,
         "aroon_signal": 0,
         "rsi_signal": 0,
         "ao_signal": 0,
         "bollinger_signal": 0,
         "_deepnote_index_column": "2021-06-08"
        },
        {
         "Close": 0.9200339913368224,
         "macd_signal": 0,
         "aroon_signal": 0,
         "rsi_signal": 0,
         "ao_signal": 0,
         "bollinger_signal": 0,
         "_deepnote_index_column": "2021-06-09"
        },
        {
         "Close": 0.8691819906234741,
         "macd_signal": 0,
         "aroon_signal": 0,
         "rsi_signal": 0,
         "ao_signal": 0,
         "bollinger_signal": 0,
         "_deepnote_index_column": "2021-06-10"
        },
        {
         "Close": 0.8484500050544739,
         "macd_signal": 0,
         "aroon_signal": 0,
         "rsi_signal": 0,
         "ao_signal": 0,
         "bollinger_signal": 1,
         "_deepnote_index_column": "2021-06-11"
        },
        {
         "Close": 0.8326830267906189,
         "macd_signal": 0,
         "aroon_signal": 0,
         "rsi_signal": 0,
         "ao_signal": 0,
         "bollinger_signal": 1,
         "_deepnote_index_column": "2021-06-12"
        },
        {
         "Close": 0.8831599950790405,
         "macd_signal": 0,
         "aroon_signal": 0,
         "rsi_signal": 0,
         "ao_signal": 0,
         "bollinger_signal": 0,
         "_deepnote_index_column": "2021-06-13"
        },
        {
         "Close": 0.8928970098495483,
         "macd_signal": 0,
         "aroon_signal": 0,
         "rsi_signal": 0,
         "ao_signal": 0,
         "bollinger_signal": 0,
         "_deepnote_index_column": "2021-06-14"
        },
        {
         "Close": 0.8898000121116638,
         "macd_signal": 0,
         "aroon_signal": 0,
         "rsi_signal": 0,
         "ao_signal": 0,
         "bollinger_signal": 0,
         "_deepnote_index_column": "2021-06-15"
        },
        {
         "Close": 0.8319079875946045,
         "macd_signal": 0,
         "aroon_signal": 0,
         "rsi_signal": 0,
         "ao_signal": 0,
         "bollinger_signal": 1,
         "_deepnote_index_column": "2021-06-16"
        },
        {
         "Close": 0.8414379954338074,
         "macd_signal": 0,
         "aroon_signal": 0,
         "rsi_signal": 0,
         "ao_signal": 0,
         "bollinger_signal": 0,
         "_deepnote_index_column": "2021-06-17"
        },
        {
         "Close": 0.797648012638092,
         "macd_signal": 0,
         "aroon_signal": 0,
         "rsi_signal": 0,
         "ao_signal": 0,
         "bollinger_signal": 1,
         "_deepnote_index_column": "2021-06-18"
        },
        {
         "Close": 0.7616729736328125,
         "macd_signal": 0,
         "aroon_signal": 0,
         "rsi_signal": 0,
         "ao_signal": 0,
         "bollinger_signal": 1,
         "_deepnote_index_column": "2021-06-19"
        },
        {
         "Close": 0.7763770222663879,
         "macd_signal": 0,
         "aroon_signal": 0,
         "rsi_signal": 0,
         "ao_signal": 0,
         "bollinger_signal": 1,
         "_deepnote_index_column": "2021-06-20"
        },
        {
         "Close": 0.6103879809379578,
         "macd_signal": -1,
         "aroon_signal": 0,
         "rsi_signal": 0,
         "ao_signal": 0,
         "bollinger_signal": 1,
         "_deepnote_index_column": "2021-06-21"
        },
        {
         "Close": 0.5450670123100281,
         "macd_signal": 0,
         "aroon_signal": 0,
         "rsi_signal": -1,
         "ao_signal": 0,
         "bollinger_signal": 1,
         "_deepnote_index_column": "2021-06-22"
        },
        {
         "Close": 0.6265349984169006,
         "macd_signal": 0,
         "aroon_signal": 0,
         "rsi_signal": 0,
         "ao_signal": 0,
         "bollinger_signal": 1,
         "_deepnote_index_column": "2021-06-23"
        },
        {
         "Close": 0.671999990940094,
         "macd_signal": 0,
         "aroon_signal": 0,
         "rsi_signal": 0,
         "ao_signal": 0,
         "bollinger_signal": 1,
         "_deepnote_index_column": "2021-06-24"
        },
        {
         "Close": 0.6133229732513428,
         "macd_signal": 0,
         "aroon_signal": 0,
         "rsi_signal": 0,
         "ao_signal": 0,
         "bollinger_signal": 1,
         "_deepnote_index_column": "2021-06-25"
        },
        {
         "Close": 0.615435004234314,
         "macd_signal": 0,
         "aroon_signal": 0,
         "rsi_signal": 0,
         "ao_signal": 0,
         "bollinger_signal": 1,
         "_deepnote_index_column": "2021-06-26"
        },
        {
         "Close": 0.6469230055809021,
         "macd_signal": 0,
         "aroon_signal": 0,
         "rsi_signal": 0,
         "ao_signal": 0,
         "bollinger_signal": 1,
         "_deepnote_index_column": "2021-06-27"
        },
        {
         "Close": 0.643746018409729,
         "macd_signal": 0,
         "aroon_signal": 0,
         "rsi_signal": 0,
         "ao_signal": 0,
         "bollinger_signal": 0,
         "_deepnote_index_column": "2021-06-28"
        },
        {
         "Close": 0.7017250061035156,
         "macd_signal": 1,
         "aroon_signal": 0,
         "rsi_signal": 0,
         "ao_signal": 0,
         "bollinger_signal": 0,
         "_deepnote_index_column": "2021-06-29"
        },
        {
         "Close": 0.7063739895820618,
         "macd_signal": 0,
         "aroon_signal": 0,
         "rsi_signal": 0,
         "ao_signal": 0,
         "bollinger_signal": 0,
         "_deepnote_index_column": "2021-06-30"
        },
        {
         "Close": 0.6611800193786621,
         "macd_signal": 0,
         "aroon_signal": 0,
         "rsi_signal": 0,
         "ao_signal": 0,
         "bollinger_signal": 0,
         "_deepnote_index_column": "2021-07-01"
        },
        {
         "Close": 0.6567630171775818,
         "macd_signal": 0,
         "aroon_signal": 0,
         "rsi_signal": 0,
         "ao_signal": 0,
         "bollinger_signal": 0,
         "_deepnote_index_column": "2021-07-02"
        },
        {
         "Close": 0.6728879809379578,
         "macd_signal": 0,
         "aroon_signal": 0,
         "rsi_signal": 0,
         "ao_signal": 0,
         "bollinger_signal": 0,
         "_deepnote_index_column": "2021-07-03"
        },
        {
         "Close": 0.6949449777603149,
         "macd_signal": 0,
         "aroon_signal": 0,
         "rsi_signal": 0,
         "ao_signal": 0,
         "bollinger_signal": 0,
         "_deepnote_index_column": "2021-07-04"
        },
        {
         "Close": 0.6542999744415283,
         "macd_signal": 0,
         "aroon_signal": 0,
         "rsi_signal": 0,
         "ao_signal": 0,
         "bollinger_signal": 0,
         "_deepnote_index_column": "2021-07-05"
        },
        {
         "Close": 0.6654019951820374,
         "macd_signal": 0,
         "aroon_signal": 0,
         "rsi_signal": 0,
         "ao_signal": 0,
         "bollinger_signal": 0,
         "_deepnote_index_column": "2021-07-06"
        },
        {
         "Close": 0.6515750288963318,
         "macd_signal": 0,
         "aroon_signal": 0,
         "rsi_signal": 0,
         "ao_signal": 0,
         "bollinger_signal": 0,
         "_deepnote_index_column": "2021-07-07"
        },
        {
         "Close": 0.623058021068573,
         "macd_signal": 0,
         "aroon_signal": 0,
         "rsi_signal": 0,
         "ao_signal": 0,
         "bollinger_signal": 0,
         "_deepnote_index_column": "2021-07-08"
        },
        {
         "Close": 0.6368039846420288,
         "macd_signal": 0,
         "aroon_signal": 0,
         "rsi_signal": 0,
         "ao_signal": 0,
         "bollinger_signal": 0,
         "_deepnote_index_column": "2021-07-09"
        },
        {
         "Close": 0.6254630088806152,
         "macd_signal": 0,
         "aroon_signal": 0,
         "rsi_signal": 0,
         "ao_signal": 0,
         "bollinger_signal": 0,
         "_deepnote_index_column": "2021-07-10"
        },
        {
         "Close": 0.6359350085258484,
         "macd_signal": 0,
         "aroon_signal": 0,
         "rsi_signal": 0,
         "ao_signal": 0,
         "bollinger_signal": 0,
         "_deepnote_index_column": "2021-07-11"
        },
        {
         "Close": 0.6301779747009277,
         "macd_signal": 0,
         "aroon_signal": 0,
         "rsi_signal": 0,
         "ao_signal": 0,
         "bollinger_signal": 0,
         "_deepnote_index_column": "2021-07-12"
        },
        {
         "Close": 0.6195229887962341,
         "macd_signal": 0,
         "aroon_signal": 0,
         "rsi_signal": 0,
         "ao_signal": 0,
         "bollinger_signal": 1,
         "_deepnote_index_column": "2021-07-13"
        },
        {
         "Close": 0.6203240156173706,
         "macd_signal": 0,
         "aroon_signal": 0,
         "rsi_signal": 0,
         "ao_signal": 0,
         "bollinger_signal": 1,
         "_deepnote_index_column": "2021-07-14"
        },
        {
         "Close": 0.5969409942626953,
         "macd_signal": 0,
         "aroon_signal": 0,
         "rsi_signal": 0,
         "ao_signal": 0,
         "bollinger_signal": 1,
         "_deepnote_index_column": "2021-07-15"
        },
        {
         "Close": 0.5907739996910095,
         "macd_signal": 0,
         "aroon_signal": 0,
         "rsi_signal": 0,
         "ao_signal": 0,
         "bollinger_signal": 1,
         "_deepnote_index_column": "2021-07-16"
        },
        {
         "Close": 0.582427978515625,
         "macd_signal": 0,
         "aroon_signal": 0,
         "rsi_signal": 0,
         "ao_signal": 0,
         "bollinger_signal": 1,
         "_deepnote_index_column": "2021-07-17"
        },
        {
         "Close": 0.5879219770431519,
         "macd_signal": 0,
         "aroon_signal": 0,
         "rsi_signal": 0,
         "ao_signal": 0,
         "bollinger_signal": 1,
         "_deepnote_index_column": "2021-07-18"
        },
        {
         "Close": 0.5575559735298157,
         "macd_signal": 0,
         "aroon_signal": 0,
         "rsi_signal": 0,
         "ao_signal": 0,
         "bollinger_signal": 1,
         "_deepnote_index_column": "2021-07-19"
        },
        {
         "Close": 0.5293359756469727,
         "macd_signal": -1,
         "aroon_signal": 0,
         "rsi_signal": 0,
         "ao_signal": 0,
         "bollinger_signal": 1,
         "_deepnote_index_column": "2021-07-20"
        },
        {
         "Close": 0.569998025894165,
         "macd_signal": 1,
         "aroon_signal": 0,
         "rsi_signal": 0,
         "ao_signal": 0,
         "bollinger_signal": 1,
         "_deepnote_index_column": "2021-07-21"
        },
        {
         "Close": 0.5922060012817383,
         "macd_signal": 0,
         "aroon_signal": 0,
         "rsi_signal": 0,
         "ao_signal": 0,
         "bollinger_signal": 0,
         "_deepnote_index_column": "2021-07-22"
        },
        {
         "Close": 0.6092240214347839,
         "macd_signal": 0,
         "aroon_signal": 0,
         "rsi_signal": 0,
         "ao_signal": 0,
         "bollinger_signal": 0,
         "_deepnote_index_column": "2021-07-23"
        },
        {
         "Close": 0.6098269820213318,
         "macd_signal": 0,
         "aroon_signal": 0,
         "rsi_signal": 0,
         "ao_signal": 0,
         "bollinger_signal": 0,
         "_deepnote_index_column": "2021-07-24"
        },
        {
         "Close": 0.6063569784164429,
         "macd_signal": 0,
         "aroon_signal": 0,
         "rsi_signal": 0,
         "ao_signal": 0,
         "bollinger_signal": 0,
         "_deepnote_index_column": "2021-07-25"
        },
        {
         "Close": 0.6256179809570312,
         "macd_signal": 0,
         "aroon_signal": 0,
         "rsi_signal": 0,
         "ao_signal": 0,
         "bollinger_signal": 0,
         "_deepnote_index_column": "2021-07-26"
        },
        {
         "Close": 0.6446040272712708,
         "macd_signal": 0,
         "aroon_signal": 0,
         "rsi_signal": 0,
         "ao_signal": 0,
         "bollinger_signal": -1,
         "_deepnote_index_column": "2021-07-27"
        },
        {
         "Close": 0.7254449725151062,
         "macd_signal": 0,
         "aroon_signal": 0,
         "rsi_signal": 0,
         "ao_signal": 1,
         "bollinger_signal": -1,
         "_deepnote_index_column": "2021-07-28"
        },
        {
         "Close": 0.7480170130729675,
         "macd_signal": 0,
         "aroon_signal": 0,
         "rsi_signal": 0,
         "ao_signal": 0,
         "bollinger_signal": -1,
         "_deepnote_index_column": "2021-07-29"
        },
        {
         "Close": 0.7521190047264099,
         "macd_signal": 0,
         "aroon_signal": 0,
         "rsi_signal": 0,
         "ao_signal": 0,
         "bollinger_signal": -1,
         "_deepnote_index_column": "2021-07-30"
        },
        {
         "Close": 0.7477859854698181,
         "macd_signal": 0,
         "aroon_signal": 0,
         "rsi_signal": 0,
         "ao_signal": 0,
         "bollinger_signal": -1,
         "_deepnote_index_column": "2021-07-31"
        },
        {
         "Close": 0.7259219884872437,
         "macd_signal": 0,
         "aroon_signal": 0,
         "rsi_signal": 0,
         "ao_signal": 0,
         "bollinger_signal": -1,
         "_deepnote_index_column": "2021-08-01"
        },
        {
         "Close": 0.7392200231552124,
         "macd_signal": 0,
         "aroon_signal": 0,
         "rsi_signal": 0,
         "ao_signal": 0,
         "bollinger_signal": -1,
         "_deepnote_index_column": "2021-08-02"
        },
        {
         "Close": 0.7127289772033691,
         "macd_signal": 0,
         "aroon_signal": 0,
         "rsi_signal": 0,
         "ao_signal": 0,
         "bollinger_signal": 0,
         "_deepnote_index_column": "2021-08-03"
        },
        {
         "Close": 0.7304880023002625,
         "macd_signal": 0,
         "aroon_signal": 0,
         "rsi_signal": 0,
         "ao_signal": 0,
         "bollinger_signal": -1,
         "_deepnote_index_column": "2021-08-04"
        },
        {
         "Close": 0.7331510186195374,
         "macd_signal": 0,
         "aroon_signal": 0,
         "rsi_signal": 0,
         "ao_signal": 0,
         "bollinger_signal": 0,
         "_deepnote_index_column": "2021-08-05"
        },
        {
         "Close": 0.7465130090713501,
         "macd_signal": 0,
         "aroon_signal": 0,
         "rsi_signal": 0,
         "ao_signal": 0,
         "bollinger_signal": -1,
         "_deepnote_index_column": "2021-08-06"
        },
        {
         "Close": 0.8162810206413269,
         "macd_signal": 0,
         "aroon_signal": 1,
         "rsi_signal": 1,
         "ao_signal": 0,
         "bollinger_signal": -1,
         "_deepnote_index_column": "2021-08-07"
        },
        {
         "Close": 0.7787389755249023,
         "macd_signal": 0,
         "aroon_signal": 0,
         "rsi_signal": 0,
         "ao_signal": 0,
         "bollinger_signal": -1,
         "_deepnote_index_column": "2021-08-08"
        },
        {
         "Close": 0.8185529708862305,
         "macd_signal": 0,
         "aroon_signal": 0,
         "rsi_signal": 0,
         "ao_signal": 0,
         "bollinger_signal": -1,
         "_deepnote_index_column": "2021-08-09"
        },
        {
         "Close": 0.8512470126152039,
         "macd_signal": 0,
         "aroon_signal": 0,
         "rsi_signal": 0,
         "ao_signal": 0,
         "bollinger_signal": -1,
         "_deepnote_index_column": "2021-08-10"
        },
        {
         "Close": 1.0125240087509155,
         "macd_signal": 0,
         "aroon_signal": 0,
         "rsi_signal": 0,
         "ao_signal": 0,
         "bollinger_signal": -1,
         "_deepnote_index_column": "2021-08-11"
        }
       ]
      },
      "text/plain": "               Close  macd_signal  aroon_signal  rsi_signal  ao_signal  \\\nDate                                                                     \n2019-09-01  0.258054            0             0           0        0.0   \n2019-09-02  0.260820            1             0           1        0.0   \n2019-09-03  0.263139            0             0           0        0.0   \n2019-09-04  0.259905            0             0           0        0.0   \n2019-09-05  0.256346            0             0           0        0.0   \n...              ...          ...           ...         ...        ...   \n2021-08-07  0.816281            0             1           1        0.0   \n2021-08-08  0.778739            0             0           0        0.0   \n2021-08-09  0.818553            0             0           0        0.0   \n2021-08-10  0.851247            0             0           0        0.0   \n2021-08-11  1.012524            0             0           0        0.0   \n\n            bollinger_signal  \nDate                          \n2019-09-01               0.0  \n2019-09-02               0.0  \n2019-09-03               0.0  \n2019-09-04               0.0  \n2019-09-05               0.0  \n...                      ...  \n2021-08-07              -1.0  \n2021-08-08              -1.0  \n2021-08-09              -1.0  \n2021-08-10              -1.0  \n2021-08-11              -1.0  \n\n[707 rows x 6 columns]",
      "text/html": "<div>\n<style scoped>\n    .dataframe tbody tr th:only-of-type {\n        vertical-align: middle;\n    }\n\n    .dataframe tbody tr th {\n        vertical-align: top;\n    }\n\n    .dataframe thead th {\n        text-align: right;\n    }\n</style>\n<table border=\"1\" class=\"dataframe\">\n  <thead>\n    <tr style=\"text-align: right;\">\n      <th></th>\n      <th>Close</th>\n      <th>macd_signal</th>\n      <th>aroon_signal</th>\n      <th>rsi_signal</th>\n      <th>ao_signal</th>\n      <th>bollinger_signal</th>\n    </tr>\n    <tr>\n      <th>Date</th>\n      <th></th>\n      <th></th>\n      <th></th>\n      <th></th>\n      <th></th>\n      <th></th>\n    </tr>\n  </thead>\n  <tbody>\n    <tr>\n      <th>2019-09-01</th>\n      <td>0.258054</td>\n      <td>0</td>\n      <td>0</td>\n      <td>0</td>\n      <td>0.0</td>\n      <td>0.0</td>\n    </tr>\n    <tr>\n      <th>2019-09-02</th>\n      <td>0.260820</td>\n      <td>1</td>\n      <td>0</td>\n      <td>1</td>\n      <td>0.0</td>\n      <td>0.0</td>\n    </tr>\n    <tr>\n      <th>2019-09-03</th>\n      <td>0.263139</td>\n      <td>0</td>\n      <td>0</td>\n      <td>0</td>\n      <td>0.0</td>\n      <td>0.0</td>\n    </tr>\n    <tr>\n      <th>2019-09-04</th>\n      <td>0.259905</td>\n      <td>0</td>\n      <td>0</td>\n      <td>0</td>\n      <td>0.0</td>\n      <td>0.0</td>\n    </tr>\n    <tr>\n      <th>2019-09-05</th>\n      <td>0.256346</td>\n      <td>0</td>\n      <td>0</td>\n      <td>0</td>\n      <td>0.0</td>\n      <td>0.0</td>\n    </tr>\n    <tr>\n      <th>...</th>\n      <td>...</td>\n      <td>...</td>\n      <td>...</td>\n      <td>...</td>\n      <td>...</td>\n      <td>...</td>\n    </tr>\n    <tr>\n      <th>2021-08-07</th>\n      <td>0.816281</td>\n      <td>0</td>\n      <td>1</td>\n      <td>1</td>\n      <td>0.0</td>\n      <td>-1.0</td>\n    </tr>\n    <tr>\n      <th>2021-08-08</th>\n      <td>0.778739</td>\n      <td>0</td>\n      <td>0</td>\n      <td>0</td>\n      <td>0.0</td>\n      <td>-1.0</td>\n    </tr>\n    <tr>\n      <th>2021-08-09</th>\n      <td>0.818553</td>\n      <td>0</td>\n      <td>0</td>\n      <td>0</td>\n      <td>0.0</td>\n      <td>-1.0</td>\n    </tr>\n    <tr>\n      <th>2021-08-10</th>\n      <td>0.851247</td>\n      <td>0</td>\n      <td>0</td>\n      <td>0</td>\n      <td>0.0</td>\n      <td>-1.0</td>\n    </tr>\n    <tr>\n      <th>2021-08-11</th>\n      <td>1.012524</td>\n      <td>0</td>\n      <td>0</td>\n      <td>0</td>\n      <td>0.0</td>\n      <td>-1.0</td>\n    </tr>\n  </tbody>\n</table>\n<p>707 rows × 6 columns</p>\n</div>"
     },
     "metadata": {}
    }
   ]
  },
  {
   "cell_type": "code",
   "metadata": {
    "tags": [],
    "deepnote_to_be_reexecuted": false,
    "source_hash": "286f7088",
    "execution_start": 1629320759810,
    "execution_millis": 67382259,
    "cell_id": "00002-61b5f63f-9021-4566-bc3c-d596ad78d51f",
    "deepnote_cell_type": "code"
   },
   "source": "#df1=pd.read_csv(Path('/work/Fintech-Project2/TRADE_STRATS/XRP_MACD_TRADE_STRATEGY'), infer_datetime_format=True, index_col='Datetime')\n#df1",
   "execution_count": null,
   "outputs": []
  },
  {
   "cell_type": "code",
   "metadata": {
    "tags": [],
    "deepnote_to_be_reexecuted": false,
    "source_hash": "4706167c",
    "execution_start": 1629320759827,
    "execution_millis": 1,
    "cell_id": "00003-9a0ab5fa-5412-43c0-9efe-7c707e6fd775",
    "deepnote_cell_type": "code"
   },
   "source": "#df2=pd.read_csv(Path('/work/Fintech-Project2/TRADE_STRATS/XRP AROON 25 TRADE STRATEGY.CSV'), infer_datetime_format=True, index_col='Unnamed: 0')\n#df2",
   "execution_count": null,
   "outputs": []
  },
  {
   "cell_type": "code",
   "metadata": {
    "tags": [],
    "deepnote_to_be_reexecuted": false,
    "source_hash": "bb6a6eb4",
    "execution_start": 1629320759878,
    "execution_millis": 67382317,
    "cell_id": "00004-597413ff-8c75-4ed9-814a-b4e5d2634bc3",
    "deepnote_cell_type": "code"
   },
   "source": "#df3=pd.read_csv(Path('/work/Fintech-Project2/TRADE_STRATS/XRP_RSI_TRADE_STRATEGY'), infer_datetime_format=True, index_col='Datetime')\n#df3",
   "execution_count": null,
   "outputs": []
  },
  {
   "cell_type": "code",
   "metadata": {
    "tags": [],
    "deepnote_to_be_reexecuted": false,
    "source_hash": "b03e0edc",
    "execution_start": 1629320759879,
    "execution_millis": 45,
    "cell_id": "00005-633a249d-b7d4-4b03-96b6-2bade88a81b3",
    "deepnote_cell_type": "code"
   },
   "source": "combined_signals_df['Returns'] = combined_signals_df.Close.pct_change()\ncombined_signals_df",
   "execution_count": null,
   "outputs": [
    {
     "output_type": "execute_result",
     "execution_count": 6,
     "data": {
      "application/vnd.deepnote.dataframe.v2+json": {
       "row_count": 707,
       "column_count": 7,
       "columns": [
        {
         "name": "Close",
         "dtype": "float64",
         "stats": {
          "unique_count": 706,
          "nan_count": 0,
          "min": "0.1396349966526031",
          "max": "1.83923602104187",
          "histogram": [
           {
            "bin_start": 0.1396349966526031,
            "bin_end": 0.30959509909152977,
            "count": 468
           },
           {
            "bin_start": 0.30959509909152977,
            "bin_end": 0.47955520153045644,
            "count": 50
           },
           {
            "bin_start": 0.47955520153045644,
            "bin_end": 0.6495153039693831,
            "count": 85
           },
           {
            "bin_start": 0.6495153039693831,
            "bin_end": 0.8194754064083098,
            "count": 29
           },
           {
            "bin_start": 0.8194754064083098,
            "bin_end": 0.9894355088472364,
            "count": 23
           },
           {
            "bin_start": 0.9894355088472364,
            "bin_end": 1.1593956112861632,
            "count": 14
           },
           {
            "bin_start": 1.1593956112861632,
            "bin_end": 1.3293557137250898,
            "count": 6
           },
           {
            "bin_start": 1.3293557137250898,
            "bin_end": 1.4993158161640165,
            "count": 17
           },
           {
            "bin_start": 1.4993158161640165,
            "bin_end": 1.6692759186029433,
            "count": 12
           },
           {
            "bin_start": 1.6692759186029433,
            "bin_end": 1.83923602104187,
            "count": 3
           }
          ]
         }
        },
        {
         "name": "macd_signal",
         "dtype": "int64",
         "stats": {
          "unique_count": 3,
          "nan_count": 0,
          "min": "-1",
          "max": "1",
          "histogram": [
           {
            "bin_start": -1,
            "bin_end": -0.8,
            "count": 23
           },
           {
            "bin_start": -0.8,
            "bin_end": -0.6,
            "count": 0
           },
           {
            "bin_start": -0.6,
            "bin_end": -0.3999999999999999,
            "count": 0
           },
           {
            "bin_start": -0.3999999999999999,
            "bin_end": -0.19999999999999996,
            "count": 0
           },
           {
            "bin_start": -0.19999999999999996,
            "bin_end": 0,
            "count": 0
           },
           {
            "bin_start": 0,
            "bin_end": 0.20000000000000018,
            "count": 660
           },
           {
            "bin_start": 0.20000000000000018,
            "bin_end": 0.40000000000000013,
            "count": 0
           },
           {
            "bin_start": 0.40000000000000013,
            "bin_end": 0.6000000000000001,
            "count": 0
           },
           {
            "bin_start": 0.6000000000000001,
            "bin_end": 0.8,
            "count": 0
           },
           {
            "bin_start": 0.8,
            "bin_end": 1,
            "count": 24
           }
          ]
         }
        },
        {
         "name": "aroon_signal",
         "dtype": "int64",
         "stats": {
          "unique_count": 3,
          "nan_count": 0,
          "min": "-1",
          "max": "1",
          "histogram": [
           {
            "bin_start": -1,
            "bin_end": -0.8,
            "count": 7
           },
           {
            "bin_start": -0.8,
            "bin_end": -0.6,
            "count": 0
           },
           {
            "bin_start": -0.6,
            "bin_end": -0.3999999999999999,
            "count": 0
           },
           {
            "bin_start": -0.3999999999999999,
            "bin_end": -0.19999999999999996,
            "count": 0
           },
           {
            "bin_start": -0.19999999999999996,
            "bin_end": 0,
            "count": 0
           },
           {
            "bin_start": 0,
            "bin_end": 0.20000000000000018,
            "count": 692
           },
           {
            "bin_start": 0.20000000000000018,
            "bin_end": 0.40000000000000013,
            "count": 0
           },
           {
            "bin_start": 0.40000000000000013,
            "bin_end": 0.6000000000000001,
            "count": 0
           },
           {
            "bin_start": 0.6000000000000001,
            "bin_end": 0.8,
            "count": 0
           },
           {
            "bin_start": 0.8,
            "bin_end": 1,
            "count": 8
           }
          ]
         }
        },
        {
         "name": "rsi_signal",
         "dtype": "int64",
         "stats": {
          "unique_count": 3,
          "nan_count": 0,
          "min": "-1",
          "max": "1",
          "histogram": [
           {
            "bin_start": -1,
            "bin_end": -0.8,
            "count": 4
           },
           {
            "bin_start": -0.8,
            "bin_end": -0.6,
            "count": 0
           },
           {
            "bin_start": -0.6,
            "bin_end": -0.3999999999999999,
            "count": 0
           },
           {
            "bin_start": -0.3999999999999999,
            "bin_end": -0.19999999999999996,
            "count": 0
           },
           {
            "bin_start": -0.19999999999999996,
            "bin_end": 0,
            "count": 0
           },
           {
            "bin_start": 0,
            "bin_end": 0.20000000000000018,
            "count": 698
           },
           {
            "bin_start": 0.20000000000000018,
            "bin_end": 0.40000000000000013,
            "count": 0
           },
           {
            "bin_start": 0.40000000000000013,
            "bin_end": 0.6000000000000001,
            "count": 0
           },
           {
            "bin_start": 0.6000000000000001,
            "bin_end": 0.8,
            "count": 0
           },
           {
            "bin_start": 0.8,
            "bin_end": 1,
            "count": 5
           }
          ]
         }
        },
        {
         "name": "ao_signal",
         "dtype": "float64",
         "stats": {
          "unique_count": 3,
          "nan_count": 0,
          "min": "-1.0",
          "max": "1.0",
          "histogram": [
           {
            "bin_start": -1,
            "bin_end": -0.8,
            "count": 12
           },
           {
            "bin_start": -0.8,
            "bin_end": -0.6,
            "count": 0
           },
           {
            "bin_start": -0.6,
            "bin_end": -0.3999999999999999,
            "count": 0
           },
           {
            "bin_start": -0.3999999999999999,
            "bin_end": -0.19999999999999996,
            "count": 0
           },
           {
            "bin_start": -0.19999999999999996,
            "bin_end": 0,
            "count": 0
           },
           {
            "bin_start": 0,
            "bin_end": 0.20000000000000018,
            "count": 683
           },
           {
            "bin_start": 0.20000000000000018,
            "bin_end": 0.40000000000000013,
            "count": 0
           },
           {
            "bin_start": 0.40000000000000013,
            "bin_end": 0.6000000000000001,
            "count": 0
           },
           {
            "bin_start": 0.6000000000000001,
            "bin_end": 0.8,
            "count": 0
           },
           {
            "bin_start": 0.8,
            "bin_end": 1,
            "count": 12
           }
          ]
         }
        },
        {
         "name": "bollinger_signal",
         "dtype": "float64",
         "stats": {
          "unique_count": 3,
          "nan_count": 0,
          "min": "-1.0",
          "max": "1.0",
          "histogram": [
           {
            "bin_start": -1,
            "bin_end": -0.8,
            "count": 183
           },
           {
            "bin_start": -0.8,
            "bin_end": -0.6,
            "count": 0
           },
           {
            "bin_start": -0.6,
            "bin_end": -0.3999999999999999,
            "count": 0
           },
           {
            "bin_start": -0.3999999999999999,
            "bin_end": -0.19999999999999996,
            "count": 0
           },
           {
            "bin_start": -0.19999999999999996,
            "bin_end": 0,
            "count": 0
           },
           {
            "bin_start": 0,
            "bin_end": 0.20000000000000018,
            "count": 349
           },
           {
            "bin_start": 0.20000000000000018,
            "bin_end": 0.40000000000000013,
            "count": 0
           },
           {
            "bin_start": 0.40000000000000013,
            "bin_end": 0.6000000000000001,
            "count": 0
           },
           {
            "bin_start": 0.6000000000000001,
            "bin_end": 0.8,
            "count": 0
           },
           {
            "bin_start": 0.8,
            "bin_end": 1,
            "count": 175
           }
          ]
         }
        },
        {
         "name": "Returns",
         "dtype": "float64",
         "stats": {
          "unique_count": 706,
          "nan_count": 1,
          "min": "-0.4233400707018309",
          "max": "0.5601088348528374",
          "histogram": [
           {
            "bin_start": -0.4233400707018309,
            "bin_end": -0.3249951801463641,
            "count": 3
           },
           {
            "bin_start": -0.3249951801463641,
            "bin_end": -0.22665028959089722,
            "count": 1
           },
           {
            "bin_start": -0.22665028959089722,
            "bin_end": -0.12830539903543037,
            "count": 7
           },
           {
            "bin_start": -0.12830539903543037,
            "bin_end": -0.029960508479963566,
            "count": 123
           },
           {
            "bin_start": -0.029960508479963566,
            "bin_end": 0.06838438207550324,
            "count": 513
           },
           {
            "bin_start": 0.06838438207550324,
            "bin_end": 0.16672927263097015,
            "count": 46
           },
           {
            "bin_start": 0.16672927263097015,
            "bin_end": 0.26507416318643695,
            "count": 5
           },
           {
            "bin_start": 0.26507416318643695,
            "bin_end": 0.36341905374190375,
            "count": 4
           },
           {
            "bin_start": 0.36341905374190375,
            "bin_end": 0.46176394429737055,
            "count": 3
           },
           {
            "bin_start": 0.46176394429737055,
            "bin_end": 0.5601088348528374,
            "count": 1
           }
          ]
         }
        },
        {
         "name": "_deepnote_index_column",
         "dtype": "object"
        }
       ],
       "rows_top": [
        {
         "Close": 0.2580539882183075,
         "macd_signal": 0,
         "aroon_signal": 0,
         "rsi_signal": 0,
         "ao_signal": 0,
         "bollinger_signal": 0,
         "Returns": "nan",
         "_deepnote_index_column": "2019-09-01"
        },
        {
         "Close": 0.2608200013637543,
         "macd_signal": 1,
         "aroon_signal": 0,
         "rsi_signal": 1,
         "ao_signal": 0,
         "bollinger_signal": 0,
         "Returns": 0.010718738216542567,
         "_deepnote_index_column": "2019-09-02"
        },
        {
         "Close": 0.263139009475708,
         "macd_signal": 0,
         "aroon_signal": 0,
         "rsi_signal": 0,
         "ao_signal": 0,
         "bollinger_signal": 0,
         "Returns": 0.008891220381214149,
         "_deepnote_index_column": "2019-09-03"
        },
        {
         "Close": 0.2599050104618072,
         "macd_signal": 0,
         "aroon_signal": 0,
         "rsi_signal": 0,
         "ao_signal": 0,
         "bollinger_signal": 0,
         "Returns": -0.01229007823790329,
         "_deepnote_index_column": "2019-09-04"
        },
        {
         "Close": 0.2563459873199463,
         "macd_signal": 0,
         "aroon_signal": 0,
         "rsi_signal": 0,
         "ao_signal": 0,
         "bollinger_signal": 0,
         "Returns": -0.013693553408366865,
         "_deepnote_index_column": "2019-09-05"
        },
        {
         "Close": 0.2523399889469147,
         "macd_signal": -1,
         "aroon_signal": 0,
         "rsi_signal": 0,
         "ao_signal": 0,
         "bollinger_signal": 0,
         "Returns": -0.015627310631672664,
         "_deepnote_index_column": "2019-09-06"
        },
        {
         "Close": 0.260686993598938,
         "macd_signal": 0,
         "aroon_signal": 0,
         "rsi_signal": 0,
         "ao_signal": 0,
         "bollinger_signal": 0,
         "Returns": 0.03307840618864133,
         "_deepnote_index_column": "2019-09-07"
        },
        {
         "Close": 0.2630839943885803,
         "macd_signal": 1,
         "aroon_signal": 0,
         "rsi_signal": 0,
         "ao_signal": 0,
         "bollinger_signal": 0,
         "Returns": 0.00919493817681638,
         "_deepnote_index_column": "2019-09-08"
        },
        {
         "Close": 0.2595619857311249,
         "macd_signal": 0,
         "aroon_signal": 0,
         "rsi_signal": 0,
         "ao_signal": 0,
         "bollinger_signal": 0,
         "Returns": -0.013387392363571005,
         "_deepnote_index_column": "2019-09-09"
        },
        {
         "Close": 0.2586709856986999,
         "macd_signal": 0,
         "aroon_signal": 0,
         "rsi_signal": 0,
         "ao_signal": 0,
         "bollinger_signal": 0,
         "Returns": -0.003432706179663625,
         "_deepnote_index_column": "2019-09-10"
        },
        {
         "Close": 0.2559559941291809,
         "macd_signal": -1,
         "aroon_signal": 0,
         "rsi_signal": 0,
         "ao_signal": 0,
         "bollinger_signal": 0,
         "Returns": -0.010495926175042358,
         "_deepnote_index_column": "2019-09-11"
        },
        {
         "Close": 0.2548109889030456,
         "macd_signal": 0,
         "aroon_signal": 0,
         "rsi_signal": 0,
         "ao_signal": 0,
         "bollinger_signal": 0,
         "Returns": -0.004473445640649554,
         "_deepnote_index_column": "2019-09-12"
        },
        {
         "Close": 0.2555510103702545,
         "macd_signal": 0,
         "aroon_signal": 0,
         "rsi_signal": 0,
         "ao_signal": 0,
         "bollinger_signal": 0,
         "Returns": 0.0029041976187711427,
         "_deepnote_index_column": "2019-09-13"
        },
        {
         "Close": 0.2611669898033142,
         "macd_signal": 0,
         "aroon_signal": 0,
         "rsi_signal": 0,
         "ao_signal": 0,
         "bollinger_signal": 0,
         "Returns": 0.02197596254823253,
         "_deepnote_index_column": "2019-09-14"
        },
        {
         "Close": 0.2616280019283294,
         "macd_signal": 1,
         "aroon_signal": 0,
         "rsi_signal": 0,
         "ao_signal": 0,
         "bollinger_signal": 0,
         "Returns": 0.0017652005920134606,
         "_deepnote_index_column": "2019-09-15"
        },
        {
         "Close": 0.2609519958496094,
         "macd_signal": 0,
         "aroon_signal": 0,
         "rsi_signal": 0,
         "ao_signal": 0,
         "bollinger_signal": 0,
         "Returns": -0.002583844518696532,
         "_deepnote_index_column": "2019-09-16"
        },
        {
         "Close": 0.2850129902362823,
         "macd_signal": 0,
         "aroon_signal": 0,
         "rsi_signal": 0,
         "ao_signal": 0,
         "bollinger_signal": 0,
         "Returns": 0.0922046766047333,
         "_deepnote_index_column": "2019-09-17"
        },
        {
         "Close": 0.3137759864330292,
         "macd_signal": 0,
         "aroon_signal": 0,
         "rsi_signal": 0,
         "ao_signal": 0,
         "bollinger_signal": 0,
         "Returns": 0.10091819384408307,
         "_deepnote_index_column": "2019-09-18"
        },
        {
         "Close": 0.3024410009384155,
         "macd_signal": 0,
         "aroon_signal": 0,
         "rsi_signal": 0,
         "ao_signal": 0,
         "bollinger_signal": 0,
         "Returns": -0.03612445178953472,
         "_deepnote_index_column": "2019-09-19"
        },
        {
         "Close": 0.2944700121879577,
         "macd_signal": 0,
         "aroon_signal": 0,
         "rsi_signal": 0,
         "ao_signal": 0,
         "bollinger_signal": -1,
         "Returns": -0.026355516367573828,
         "_deepnote_index_column": "2019-09-20"
        },
        {
         "Close": 0.2894429862499237,
         "macd_signal": 0,
         "aroon_signal": 0,
         "rsi_signal": 0,
         "ao_signal": 0,
         "bollinger_signal": -1,
         "Returns": -0.017071435901681253,
         "_deepnote_index_column": "2019-09-21"
        },
        {
         "Close": 0.2789309918880462,
         "macd_signal": 0,
         "aroon_signal": 0,
         "rsi_signal": 0,
         "ao_signal": 0,
         "bollinger_signal": 0,
         "Returns": -0.03631801377560684,
         "_deepnote_index_column": "2019-09-22"
        },
        {
         "Close": 0.2686749994754791,
         "macd_signal": 0,
         "aroon_signal": 0,
         "rsi_signal": 0,
         "ao_signal": 0,
         "bollinger_signal": 0,
         "Returns": -0.03676892389456499,
         "_deepnote_index_column": "2019-09-23"
        },
        {
         "Close": 0.2352260053157806,
         "macd_signal": -1,
         "aroon_signal": 0,
         "rsi_signal": 0,
         "ao_signal": 0,
         "bollinger_signal": 1,
         "Returns": -0.12449611696287088,
         "_deepnote_index_column": "2019-09-24"
        },
        {
         "Close": 0.2464410066604614,
         "macd_signal": 0,
         "aroon_signal": 0,
         "rsi_signal": 0,
         "ao_signal": 0,
         "bollinger_signal": 1,
         "Returns": 0.04767755729059431,
         "_deepnote_index_column": "2019-09-25"
        },
        {
         "Close": 0.2437839955091476,
         "macd_signal": 0,
         "aroon_signal": 0,
         "rsi_signal": 0,
         "ao_signal": 0,
         "bollinger_signal": 1,
         "Returns": -0.01078153018168182,
         "_deepnote_index_column": "2019-09-26"
        },
        {
         "Close": 0.2440209984779358,
         "macd_signal": 0,
         "aroon_signal": 0,
         "rsi_signal": 0,
         "ao_signal": 0,
         "bollinger_signal": 1,
         "Returns": 0.0009721842826195815,
         "_deepnote_index_column": "2019-09-27"
        },
        {
         "Close": 0.2425709962844848,
         "macd_signal": 0,
         "aroon_signal": 0,
         "rsi_signal": 0,
         "ao_signal": 0,
         "bollinger_signal": 1,
         "Returns": -0.0059421205654237585,
         "_deepnote_index_column": "2019-09-28"
        },
        {
         "Close": 0.2413879930973053,
         "macd_signal": 0,
         "aroon_signal": 0,
         "rsi_signal": 0,
         "ao_signal": 0,
         "bollinger_signal": 1,
         "Returns": -0.004876935846823582,
         "_deepnote_index_column": "2019-09-29"
        },
        {
         "Close": 0.2559329867362976,
         "macd_signal": 0,
         "aroon_signal": 0,
         "rsi_signal": 0,
         "ao_signal": 0,
         "bollinger_signal": 0,
         "Returns": 0.06025566330935561,
         "_deepnote_index_column": "2019-09-30"
        },
        {
         "Close": 0.2495650053024292,
         "macd_signal": 0,
         "aroon_signal": 0,
         "rsi_signal": 0,
         "ao_signal": 0,
         "bollinger_signal": 0,
         "Returns": -0.024881440704748625,
         "_deepnote_index_column": "2019-10-01"
        },
        {
         "Close": 0.2535389959812164,
         "macd_signal": 0,
         "aroon_signal": 0,
         "rsi_signal": 0,
         "ao_signal": 0,
         "bollinger_signal": 0,
         "Returns": 0.01592366956245095,
         "_deepnote_index_column": "2019-10-02"
        },
        {
         "Close": 0.2478599995374679,
         "macd_signal": 0,
         "aroon_signal": 0,
         "rsi_signal": 0,
         "ao_signal": 0,
         "bollinger_signal": 0,
         "Returns": -0.022398907204670082,
         "_deepnote_index_column": "2019-10-03"
        },
        {
         "Close": 0.2539350092411041,
         "macd_signal": 0,
         "aroon_signal": 0,
         "rsi_signal": 0,
         "ao_signal": 0,
         "bollinger_signal": 0,
         "Returns": 0.024509843116972574,
         "_deepnote_index_column": "2019-10-04"
        },
        {
         "Close": 0.2534570097923279,
         "macd_signal": 0,
         "aroon_signal": 0,
         "rsi_signal": 0,
         "ao_signal": -1,
         "bollinger_signal": 0,
         "Returns": -0.0018823692337844866,
         "_deepnote_index_column": "2019-10-05"
        },
        {
         "Close": 0.2577050030231476,
         "macd_signal": 0,
         "aroon_signal": 0,
         "rsi_signal": 0,
         "ao_signal": 0,
         "bollinger_signal": 0,
         "Returns": 0.016760212054503176,
         "_deepnote_index_column": "2019-10-06"
        },
        {
         "Close": 0.2756850123405456,
         "macd_signal": 1,
         "aroon_signal": 0,
         "rsi_signal": 0,
         "ao_signal": 0,
         "bollinger_signal": 0,
         "Returns": 0.06976973324721603,
         "_deepnote_index_column": "2019-10-07"
        },
        {
         "Close": 0.2784590125083923,
         "macd_signal": 0,
         "aroon_signal": 0,
         "rsi_signal": 0,
         "ao_signal": 0,
         "bollinger_signal": 0,
         "Returns": 0.010062208838614861,
         "_deepnote_index_column": "2019-10-08"
        },
        {
         "Close": 0.2816269993782043,
         "macd_signal": 0,
         "aroon_signal": 0,
         "rsi_signal": 0,
         "ao_signal": 1,
         "bollinger_signal": -1,
         "Returns": 0.011376851628088547,
         "_deepnote_index_column": "2019-10-09"
        },
        {
         "Close": 0.2720730006694793,
         "macd_signal": 0,
         "aroon_signal": 0,
         "rsi_signal": 0,
         "ao_signal": 0,
         "bollinger_signal": 0,
         "Returns": -0.03392429962261767,
         "_deepnote_index_column": "2019-10-10"
        },
        {
         "Close": 0.2710990011692047,
         "macd_signal": 0,
         "aroon_signal": 0,
         "rsi_signal": 0,
         "ao_signal": 0,
         "bollinger_signal": 0,
         "Returns": -0.0035799197196264565,
         "_deepnote_index_column": "2019-10-11"
        },
        {
         "Close": 0.2731910049915313,
         "macd_signal": 0,
         "aroon_signal": 0,
         "rsi_signal": 0,
         "ao_signal": 0,
         "bollinger_signal": -1,
         "Returns": 0.00771675223185686,
         "_deepnote_index_column": "2019-10-12"
        },
        {
         "Close": 0.2777650058269501,
         "macd_signal": 0,
         "aroon_signal": 0,
         "rsi_signal": 0,
         "ao_signal": 0,
         "bollinger_signal": -1,
         "Returns": 0.016742867634168768,
         "_deepnote_index_column": "2019-10-13"
        },
        {
         "Close": 0.2965230047702789,
         "macd_signal": 0,
         "aroon_signal": 1,
         "rsi_signal": 0,
         "ao_signal": 0,
         "bollinger_signal": -1,
         "Returns": 0.06753190124682296,
         "_deepnote_index_column": "2019-10-14"
        },
        {
         "Close": 0.2887020111083984,
         "macd_signal": 0,
         "aroon_signal": 0,
         "rsi_signal": 0,
         "ao_signal": 0,
         "bollinger_signal": -1,
         "Returns": -0.026375672497786606,
         "_deepnote_index_column": "2019-10-15"
        },
        {
         "Close": 0.2846400141716003,
         "macd_signal": 0,
         "aroon_signal": 0,
         "rsi_signal": 0,
         "ao_signal": 0,
         "bollinger_signal": -1,
         "Returns": -0.014069860203616447,
         "_deepnote_index_column": "2019-10-16"
        },
        {
         "Close": 0.3023149967193603,
         "macd_signal": 0,
         "aroon_signal": 0,
         "rsi_signal": 0,
         "ao_signal": 0,
         "bollinger_signal": -1,
         "Returns": 0.06209591648314183,
         "_deepnote_index_column": "2019-10-17"
        },
        {
         "Close": 0.2950049936771393,
         "macd_signal": 0,
         "aroon_signal": 0,
         "rsi_signal": 0,
         "ao_signal": 0,
         "bollinger_signal": -1,
         "Returns": -0.02418008739740729,
         "_deepnote_index_column": "2019-10-18"
        },
        {
         "Close": 0.2930220067501068,
         "macd_signal": 0,
         "aroon_signal": 0,
         "rsi_signal": 0,
         "ao_signal": 0,
         "bollinger_signal": -1,
         "Returns": -0.006721875797135457,
         "_deepnote_index_column": "2019-10-19"
        },
        {
         "Close": 0.2941789925098419,
         "macd_signal": 0,
         "aroon_signal": 0,
         "rsi_signal": 0,
         "ao_signal": 0,
         "bollinger_signal": -1,
         "Returns": 0.003948460296778311,
         "_deepnote_index_column": "2019-10-20"
        },
        {
         "Close": 0.2929790019989013,
         "macd_signal": 0,
         "aroon_signal": 0,
         "rsi_signal": 0,
         "ao_signal": 0,
         "bollinger_signal": 0,
         "Returns": -0.004079116937285909,
         "_deepnote_index_column": "2019-10-21"
        },
        {
         "Close": 0.291606992483139,
         "macd_signal": 0,
         "aroon_signal": 0,
         "rsi_signal": 0,
         "ao_signal": 0,
         "bollinger_signal": 0,
         "Returns": -0.004682961940622232,
         "_deepnote_index_column": "2019-10-22"
        },
        {
         "Close": 0.2741430103778839,
         "macd_signal": -1,
         "aroon_signal": 0,
         "rsi_signal": 0,
         "ao_signal": 0,
         "bollinger_signal": 0,
         "Returns": -0.05988876314845182,
         "_deepnote_index_column": "2019-10-23"
        },
        {
         "Close": 0.2784909904003143,
         "macd_signal": 0,
         "aroon_signal": 0,
         "rsi_signal": 0,
         "ao_signal": 0,
         "bollinger_signal": 0,
         "Returns": 0.015860262191025765,
         "_deepnote_index_column": "2019-10-24"
        },
        {
         "Close": 0.2981649935245514,
         "macd_signal": 0,
         "aroon_signal": 0,
         "rsi_signal": 0,
         "ao_signal": 0,
         "bollinger_signal": -1,
         "Returns": 0.07064502552113772,
         "_deepnote_index_column": "2019-10-25"
        },
        {
         "Close": 0.2936989963054657,
         "macd_signal": 0,
         "aroon_signal": 0,
         "rsi_signal": 0,
         "ao_signal": 0,
         "bollinger_signal": 0,
         "Returns": -0.014978274834661187,
         "_deepnote_index_column": "2019-10-26"
        },
        {
         "Close": 0.2980999946594238,
         "macd_signal": 1,
         "aroon_signal": 0,
         "rsi_signal": 0,
         "ao_signal": 0,
         "bollinger_signal": -1,
         "Returns": 0.014984723847611514,
         "_deepnote_index_column": "2019-10-27"
        },
        {
         "Close": 0.2960070073604584,
         "macd_signal": 0,
         "aroon_signal": 0,
         "rsi_signal": 0,
         "ao_signal": 0,
         "bollinger_signal": 0,
         "Returns": -0.007021091366863685,
         "_deepnote_index_column": "2019-10-28"
        },
        {
         "Close": 0.3019559979438782,
         "macd_signal": 0,
         "aroon_signal": 0,
         "rsi_signal": 0,
         "ao_signal": 0,
         "bollinger_signal": -1,
         "Returns": 0.020097465382552526,
         "_deepnote_index_column": "2019-10-29"
        },
        {
         "Close": 0.2965550124645233,
         "macd_signal": 0,
         "aroon_signal": 0,
         "rsi_signal": 0,
         "ao_signal": 0,
         "bollinger_signal": 0,
         "Returns": -0.01788666400446426,
         "_deepnote_index_column": "2019-10-30"
        },
        {
         "Close": 0.2963579893112182,
         "macd_signal": -1,
         "aroon_signal": 0,
         "rsi_signal": 0,
         "ao_signal": 0,
         "bollinger_signal": 0,
         "Returns": -0.0006643730337509979,
         "_deepnote_index_column": "2019-10-31"
        },
        {
         "Close": 0.2926419973373413,
         "macd_signal": 0,
         "aroon_signal": 0,
         "rsi_signal": 0,
         "ao_signal": 0,
         "bollinger_signal": 0,
         "Returns": -0.012538862146127538,
         "_deepnote_index_column": "2019-11-01"
        },
        {
         "Close": 0.2962630093097687,
         "macd_signal": 0,
         "aroon_signal": 0,
         "rsi_signal": 0,
         "ao_signal": 0,
         "bollinger_signal": 0,
         "Returns": 0.012373521249081865,
         "_deepnote_index_column": "2019-11-02"
        },
        {
         "Close": 0.2912609875202179,
         "macd_signal": 0,
         "aroon_signal": 0,
         "rsi_signal": 0,
         "ao_signal": 0,
         "bollinger_signal": 0,
         "Returns": -0.016883720317310114,
         "_deepnote_index_column": "2019-11-03"
        },
        {
         "Close": 0.2999370098114013,
         "macd_signal": 0,
         "aroon_signal": 0,
         "rsi_signal": 0,
         "ao_signal": 0,
         "bollinger_signal": 0,
         "Returns": 0.02978779398178477,
         "_deepnote_index_column": "2019-11-04"
        },
        {
         "Close": 0.3012549877166748,
         "macd_signal": 0,
         "aroon_signal": 0,
         "rsi_signal": 0,
         "ao_signal": 0,
         "bollinger_signal": -1,
         "Returns": 0.0043941823188216045,
         "_deepnote_index_column": "2019-11-05"
        },
        {
         "Close": 0.3100860118865967,
         "macd_signal": 1,
         "aroon_signal": 0,
         "rsi_signal": 0,
         "ao_signal": 0,
         "bollinger_signal": -1,
         "Returns": 0.02931411770757908,
         "_deepnote_index_column": "2019-11-06"
        },
        {
         "Close": 0.2924309968948364,
         "macd_signal": -1,
         "aroon_signal": 0,
         "rsi_signal": 0,
         "ao_signal": 0,
         "bollinger_signal": 0,
         "Returns": -0.056935863969952205,
         "_deepnote_index_column": "2019-11-07"
        },
        {
         "Close": 0.2769530117511749,
         "macd_signal": 0,
         "aroon_signal": 0,
         "rsi_signal": 0,
         "ao_signal": 0,
         "bollinger_signal": 1,
         "Returns": -0.05292867482590313,
         "_deepnote_index_column": "2019-11-08"
        },
        {
         "Close": 0.2801960110664367,
         "macd_signal": 0,
         "aroon_signal": 0,
         "rsi_signal": 0,
         "ao_signal": 0,
         "bollinger_signal": 1,
         "Returns": 0.011709565080214368,
         "_deepnote_index_column": "2019-11-09"
        },
        {
         "Close": 0.2802039980888366,
         "macd_signal": 0,
         "aroon_signal": 0,
         "rsi_signal": 0,
         "ao_signal": 0,
         "bollinger_signal": 1,
         "Returns": 0.00002850512528529414,
         "_deepnote_index_column": "2019-11-10"
        }
       ],
       "rows_bottom": [
        {
         "Close": 1.024399995803833,
         "macd_signal": 1,
         "aroon_signal": 0,
         "rsi_signal": 0,
         "ao_signal": 0,
         "bollinger_signal": 0,
         "Returns": 0.013253206532191086,
         "_deepnote_index_column": "2021-06-02"
        },
        {
         "Close": 1.045320987701416,
         "macd_signal": 0,
         "aroon_signal": 0,
         "rsi_signal": 0,
         "ao_signal": 0,
         "bollinger_signal": 0,
         "Returns": 0.020422678624834045,
         "_deepnote_index_column": "2021-06-03"
        },
        {
         "Close": 0.970196008682251,
         "macd_signal": 0,
         "aroon_signal": 0,
         "rsi_signal": 0,
         "ao_signal": 0,
         "bollinger_signal": 0,
         "Returns": -0.0718678567665223,
         "_deepnote_index_column": "2021-06-04"
        },
        {
         "Close": 0.9232860207557678,
         "macd_signal": 0,
         "aroon_signal": 0,
         "rsi_signal": 0,
         "ao_signal": 0,
         "bollinger_signal": 0,
         "Returns": -0.04835104196130191,
         "_deepnote_index_column": "2021-06-05"
        },
        {
         "Close": 0.945285975933075,
         "macd_signal": 0,
         "aroon_signal": 0,
         "rsi_signal": 0,
         "ao_signal": 0,
         "bollinger_signal": 0,
         "Returns": 0.023827887223180078,
         "_deepnote_index_column": "2021-06-06"
        },
        {
         "Close": 0.8611549735069275,
         "macd_signal": 0,
         "aroon_signal": 0,
         "rsi_signal": 0,
         "ao_signal": 0,
         "bollinger_signal": 1,
         "Returns": -0.08900058243549336,
         "_deepnote_index_column": "2021-06-07"
        },
        {
         "Close": 0.8757879734039307,
         "macd_signal": 0,
         "aroon_signal": 0,
         "rsi_signal": 0,
         "ao_signal": 0,
         "bollinger_signal": 0,
         "Returns": 0.01699229563456206,
         "_deepnote_index_column": "2021-06-08"
        },
        {
         "Close": 0.9200339913368224,
         "macd_signal": 0,
         "aroon_signal": 0,
         "rsi_signal": 0,
         "ao_signal": 0,
         "bollinger_signal": 0,
         "Returns": 0.05052138106089821,
         "_deepnote_index_column": "2021-06-09"
        },
        {
         "Close": 0.8691819906234741,
         "macd_signal": 0,
         "aroon_signal": 0,
         "rsi_signal": 0,
         "ao_signal": 0,
         "bollinger_signal": 0,
         "Returns": -0.055271871683196805,
         "_deepnote_index_column": "2021-06-10"
        },
        {
         "Close": 0.8484500050544739,
         "macd_signal": 0,
         "aroon_signal": 0,
         "rsi_signal": 0,
         "ao_signal": 0,
         "bollinger_signal": 1,
         "Returns": -0.023852295368118392,
         "_deepnote_index_column": "2021-06-11"
        },
        {
         "Close": 0.8326830267906189,
         "macd_signal": 0,
         "aroon_signal": 0,
         "rsi_signal": 0,
         "ao_signal": 0,
         "bollinger_signal": 1,
         "Returns": -0.01858327322756359,
         "_deepnote_index_column": "2021-06-12"
        },
        {
         "Close": 0.8831599950790405,
         "macd_signal": 0,
         "aroon_signal": 0,
         "rsi_signal": 0,
         "ao_signal": 0,
         "bollinger_signal": 0,
         "Returns": 0.06061966758584392,
         "_deepnote_index_column": "2021-06-13"
        },
        {
         "Close": 0.8928970098495483,
         "macd_signal": 0,
         "aroon_signal": 0,
         "rsi_signal": 0,
         "ao_signal": 0,
         "bollinger_signal": 0,
         "Returns": 0.011025199085966664,
         "_deepnote_index_column": "2021-06-14"
        },
        {
         "Close": 0.8898000121116638,
         "macd_signal": 0,
         "aroon_signal": 0,
         "rsi_signal": 0,
         "ao_signal": 0,
         "bollinger_signal": 0,
         "Returns": -0.003468482595105127,
         "_deepnote_index_column": "2021-06-15"
        },
        {
         "Close": 0.8319079875946045,
         "macd_signal": 0,
         "aroon_signal": 0,
         "rsi_signal": 0,
         "ao_signal": 0,
         "bollinger_signal": 1,
         "Returns": -0.06506183831091505,
         "_deepnote_index_column": "2021-06-16"
        },
        {
         "Close": 0.8414379954338074,
         "macd_signal": 0,
         "aroon_signal": 0,
         "rsi_signal": 0,
         "ao_signal": 0,
         "bollinger_signal": 0,
         "Returns": 0.011455603241361079,
         "_deepnote_index_column": "2021-06-17"
        },
        {
         "Close": 0.797648012638092,
         "macd_signal": 0,
         "aroon_signal": 0,
         "rsi_signal": 0,
         "ao_signal": 0,
         "bollinger_signal": 1,
         "Returns": -0.052041841506264785,
         "_deepnote_index_column": "2021-06-18"
        },
        {
         "Close": 0.7616729736328125,
         "macd_signal": 0,
         "aroon_signal": 0,
         "rsi_signal": 0,
         "ao_signal": 0,
         "bollinger_signal": 1,
         "Returns": -0.04510139614878239,
         "_deepnote_index_column": "2021-06-19"
        },
        {
         "Close": 0.7763770222663879,
         "macd_signal": 0,
         "aroon_signal": 0,
         "rsi_signal": 0,
         "ao_signal": 0,
         "bollinger_signal": 1,
         "Returns": 0.019304936820121466,
         "_deepnote_index_column": "2021-06-20"
        },
        {
         "Close": 0.6103879809379578,
         "macd_signal": -1,
         "aroon_signal": 0,
         "rsi_signal": 0,
         "ao_signal": 0,
         "bollinger_signal": 1,
         "Returns": -0.21379952853818052,
         "_deepnote_index_column": "2021-06-21"
        },
        {
         "Close": 0.5450670123100281,
         "macd_signal": 0,
         "aroon_signal": 0,
         "rsi_signal": -1,
         "ao_signal": 0,
         "bollinger_signal": 1,
         "Returns": -0.10701548960311058,
         "_deepnote_index_column": "2021-06-22"
        },
        {
         "Close": 0.6265349984169006,
         "macd_signal": 0,
         "aroon_signal": 0,
         "rsi_signal": 0,
         "ao_signal": 0,
         "bollinger_signal": 1,
         "Returns": 0.14946416544565078,
         "_deepnote_index_column": "2021-06-23"
        },
        {
         "Close": 0.671999990940094,
         "macd_signal": 0,
         "aroon_signal": 0,
         "rsi_signal": 0,
         "ao_signal": 0,
         "bollinger_signal": 1,
         "Returns": 0.07256576669790538,
         "_deepnote_index_column": "2021-06-24"
        },
        {
         "Close": 0.6133229732513428,
         "macd_signal": 0,
         "aroon_signal": 0,
         "rsi_signal": 0,
         "ao_signal": 0,
         "bollinger_signal": 1,
         "Returns": -0.0873169917854687,
         "_deepnote_index_column": "2021-06-25"
        },
        {
         "Close": 0.615435004234314,
         "macd_signal": 0,
         "aroon_signal": 0,
         "rsi_signal": 0,
         "ao_signal": 0,
         "bollinger_signal": 1,
         "Returns": 0.003443586943718824,
         "_deepnote_index_column": "2021-06-26"
        },
        {
         "Close": 0.6469230055809021,
         "macd_signal": 0,
         "aroon_signal": 0,
         "rsi_signal": 0,
         "ao_signal": 0,
         "bollinger_signal": 1,
         "Returns": 0.05116381279898685,
         "_deepnote_index_column": "2021-06-27"
        },
        {
         "Close": 0.643746018409729,
         "macd_signal": 0,
         "aroon_signal": 0,
         "rsi_signal": 0,
         "ao_signal": 0,
         "bollinger_signal": 0,
         "Returns": -0.004910920068950553,
         "_deepnote_index_column": "2021-06-28"
        },
        {
         "Close": 0.7017250061035156,
         "macd_signal": 1,
         "aroon_signal": 0,
         "rsi_signal": 0,
         "ao_signal": 0,
         "bollinger_signal": 0,
         "Returns": 0.09006500395453232,
         "_deepnote_index_column": "2021-06-29"
        },
        {
         "Close": 0.7063739895820618,
         "macd_signal": 0,
         "aroon_signal": 0,
         "rsi_signal": 0,
         "ao_signal": 0,
         "bollinger_signal": 0,
         "Returns": 0.006625078824482378,
         "_deepnote_index_column": "2021-06-30"
        },
        {
         "Close": 0.6611800193786621,
         "macd_signal": 0,
         "aroon_signal": 0,
         "rsi_signal": 0,
         "ao_signal": 0,
         "bollinger_signal": 0,
         "Returns": -0.06398022983567031,
         "_deepnote_index_column": "2021-07-01"
        },
        {
         "Close": 0.6567630171775818,
         "macd_signal": 0,
         "aroon_signal": 0,
         "rsi_signal": 0,
         "ao_signal": 0,
         "bollinger_signal": 0,
         "Returns": -0.00668048348652639,
         "_deepnote_index_column": "2021-07-02"
        },
        {
         "Close": 0.6728879809379578,
         "macd_signal": 0,
         "aroon_signal": 0,
         "rsi_signal": 0,
         "ao_signal": 0,
         "bollinger_signal": 0,
         "Returns": 0.024552179916695893,
         "_deepnote_index_column": "2021-07-03"
        },
        {
         "Close": 0.6949449777603149,
         "macd_signal": 0,
         "aroon_signal": 0,
         "rsi_signal": 0,
         "ao_signal": 0,
         "bollinger_signal": 0,
         "Returns": 0.03277959697186339,
         "_deepnote_index_column": "2021-07-04"
        },
        {
         "Close": 0.6542999744415283,
         "macd_signal": 0,
         "aroon_signal": 0,
         "rsi_signal": 0,
         "ao_signal": 0,
         "bollinger_signal": 0,
         "Returns": -0.058486649475154584,
         "_deepnote_index_column": "2021-07-05"
        },
        {
         "Close": 0.6654019951820374,
         "macd_signal": 0,
         "aroon_signal": 0,
         "rsi_signal": 0,
         "ao_signal": 0,
         "bollinger_signal": 0,
         "Returns": 0.016967784157388976,
         "_deepnote_index_column": "2021-07-06"
        },
        {
         "Close": 0.6515750288963318,
         "macd_signal": 0,
         "aroon_signal": 0,
         "rsi_signal": 0,
         "ao_signal": 0,
         "bollinger_signal": 0,
         "Returns": -0.020779868990207673,
         "_deepnote_index_column": "2021-07-07"
        },
        {
         "Close": 0.623058021068573,
         "macd_signal": 0,
         "aroon_signal": 0,
         "rsi_signal": 0,
         "ao_signal": 0,
         "bollinger_signal": 0,
         "Returns": -0.04376626875351908,
         "_deepnote_index_column": "2021-07-08"
        },
        {
         "Close": 0.6368039846420288,
         "macd_signal": 0,
         "aroon_signal": 0,
         "rsi_signal": 0,
         "ao_signal": 0,
         "bollinger_signal": 0,
         "Returns": 0.022062092307038927,
         "_deepnote_index_column": "2021-07-09"
        },
        {
         "Close": 0.6254630088806152,
         "macd_signal": 0,
         "aroon_signal": 0,
         "rsi_signal": 0,
         "ao_signal": 0,
         "bollinger_signal": 0,
         "Returns": -0.017809209795991987,
         "_deepnote_index_column": "2021-07-10"
        },
        {
         "Close": 0.6359350085258484,
         "macd_signal": 0,
         "aroon_signal": 0,
         "rsi_signal": 0,
         "ao_signal": 0,
         "bollinger_signal": 0,
         "Returns": 0.01674279613110108,
         "_deepnote_index_column": "2021-07-11"
        },
        {
         "Close": 0.6301779747009277,
         "macd_signal": 0,
         "aroon_signal": 0,
         "rsi_signal": 0,
         "ao_signal": 0,
         "bollinger_signal": 0,
         "Returns": -0.009052865069130167,
         "_deepnote_index_column": "2021-07-12"
        },
        {
         "Close": 0.6195229887962341,
         "macd_signal": 0,
         "aroon_signal": 0,
         "rsi_signal": 0,
         "ao_signal": 0,
         "bollinger_signal": 1,
         "Returns": -0.016907899565595352,
         "_deepnote_index_column": "2021-07-13"
        },
        {
         "Close": 0.6203240156173706,
         "macd_signal": 0,
         "aroon_signal": 0,
         "rsi_signal": 0,
         "ao_signal": 0,
         "bollinger_signal": 1,
         "Returns": 0.0012929735225692962,
         "_deepnote_index_column": "2021-07-14"
        },
        {
         "Close": 0.5969409942626953,
         "macd_signal": 0,
         "aroon_signal": 0,
         "rsi_signal": 0,
         "ao_signal": 0,
         "bollinger_signal": 1,
         "Returns": -0.03769485102298287,
         "_deepnote_index_column": "2021-07-15"
        },
        {
         "Close": 0.5907739996910095,
         "macd_signal": 0,
         "aroon_signal": 0,
         "rsi_signal": 0,
         "ao_signal": 0,
         "bollinger_signal": 1,
         "Returns": -0.010330995242340268,
         "_deepnote_index_column": "2021-07-16"
        },
        {
         "Close": 0.582427978515625,
         "macd_signal": 0,
         "aroon_signal": 0,
         "rsi_signal": 0,
         "ao_signal": 0,
         "bollinger_signal": 1,
         "Returns": -0.014127265552901336,
         "_deepnote_index_column": "2021-07-17"
        },
        {
         "Close": 0.5879219770431519,
         "macd_signal": 0,
         "aroon_signal": 0,
         "rsi_signal": 0,
         "ao_signal": 0,
         "bollinger_signal": 1,
         "Returns": 0.009432923434634422,
         "_deepnote_index_column": "2021-07-18"
        },
        {
         "Close": 0.5575559735298157,
         "macd_signal": 0,
         "aroon_signal": 0,
         "rsi_signal": 0,
         "ao_signal": 0,
         "bollinger_signal": 1,
         "Returns": -0.051649716627462317,
         "_deepnote_index_column": "2021-07-19"
        },
        {
         "Close": 0.5293359756469727,
         "macd_signal": -1,
         "aroon_signal": 0,
         "rsi_signal": 0,
         "ao_signal": 0,
         "bollinger_signal": 1,
         "Returns": -0.050613748614665166,
         "_deepnote_index_column": "2021-07-20"
        },
        {
         "Close": 0.569998025894165,
         "macd_signal": 1,
         "aroon_signal": 0,
         "rsi_signal": 0,
         "ao_signal": 0,
         "bollinger_signal": 1,
         "Returns": 0.07681709182432539,
         "_deepnote_index_column": "2021-07-21"
        },
        {
         "Close": 0.5922060012817383,
         "macd_signal": 0,
         "aroon_signal": 0,
         "rsi_signal": 0,
         "ao_signal": 0,
         "bollinger_signal": 0,
         "Returns": 0.03896149526611992,
         "_deepnote_index_column": "2021-07-22"
        },
        {
         "Close": 0.6092240214347839,
         "macd_signal": 0,
         "aroon_signal": 0,
         "rsi_signal": 0,
         "ao_signal": 0,
         "bollinger_signal": 0,
         "Returns": 0.02873665602208142,
         "_deepnote_index_column": "2021-07-23"
        },
        {
         "Close": 0.6098269820213318,
         "macd_signal": 0,
         "aroon_signal": 0,
         "rsi_signal": 0,
         "ao_signal": 0,
         "bollinger_signal": 0,
         "Returns": 0.0009897189955310193,
         "_deepnote_index_column": "2021-07-24"
        },
        {
         "Close": 0.6063569784164429,
         "macd_signal": 0,
         "aroon_signal": 0,
         "rsi_signal": 0,
         "ao_signal": 0,
         "bollinger_signal": 0,
         "Returns": -0.005690144429797539,
         "_deepnote_index_column": "2021-07-25"
        },
        {
         "Close": 0.6256179809570312,
         "macd_signal": 0,
         "aroon_signal": 0,
         "rsi_signal": 0,
         "ao_signal": 0,
         "bollinger_signal": 0,
         "Returns": 0.03176512059099279,
         "_deepnote_index_column": "2021-07-26"
        },
        {
         "Close": 0.6446040272712708,
         "macd_signal": 0,
         "aroon_signal": 0,
         "rsi_signal": 0,
         "ao_signal": 0,
         "bollinger_signal": -1,
         "Returns": 0.03034766725405791,
         "_deepnote_index_column": "2021-07-27"
        },
        {
         "Close": 0.7254449725151062,
         "macd_signal": 0,
         "aroon_signal": 0,
         "rsi_signal": 0,
         "ao_signal": 1,
         "bollinger_signal": -1,
         "Returns": 0.12541179053139073,
         "_deepnote_index_column": "2021-07-28"
        },
        {
         "Close": 0.7480170130729675,
         "macd_signal": 0,
         "aroon_signal": 0,
         "rsi_signal": 0,
         "ao_signal": 0,
         "bollinger_signal": -1,
         "Returns": 0.031114752204573826,
         "_deepnote_index_column": "2021-07-29"
        },
        {
         "Close": 0.7521190047264099,
         "macd_signal": 0,
         "aroon_signal": 0,
         "rsi_signal": 0,
         "ao_signal": 0,
         "bollinger_signal": -1,
         "Returns": 0.005483821332606942,
         "_deepnote_index_column": "2021-07-30"
        },
        {
         "Close": 0.7477859854698181,
         "macd_signal": 0,
         "aroon_signal": 0,
         "rsi_signal": 0,
         "ao_signal": 0,
         "bollinger_signal": -1,
         "Returns": -0.005761081995485529,
         "_deepnote_index_column": "2021-07-31"
        },
        {
         "Close": 0.7259219884872437,
         "macd_signal": 0,
         "aroon_signal": 0,
         "rsi_signal": 0,
         "ao_signal": 0,
         "bollinger_signal": -1,
         "Returns": -0.02923830802851668,
         "_deepnote_index_column": "2021-08-01"
        },
        {
         "Close": 0.7392200231552124,
         "macd_signal": 0,
         "aroon_signal": 0,
         "rsi_signal": 0,
         "ao_signal": 0,
         "bollinger_signal": -1,
         "Returns": 0.01831882058798162,
         "_deepnote_index_column": "2021-08-02"
        },
        {
         "Close": 0.7127289772033691,
         "macd_signal": 0,
         "aroon_signal": 0,
         "rsi_signal": 0,
         "ao_signal": 0,
         "bollinger_signal": 0,
         "Returns": -0.03583648321479649,
         "_deepnote_index_column": "2021-08-03"
        },
        {
         "Close": 0.7304880023002625,
         "macd_signal": 0,
         "aroon_signal": 0,
         "rsi_signal": 0,
         "ao_signal": 0,
         "bollinger_signal": -1,
         "Returns": 0.024916939909721103,
         "_deepnote_index_column": "2021-08-04"
        },
        {
         "Close": 0.7331510186195374,
         "macd_signal": 0,
         "aroon_signal": 0,
         "rsi_signal": 0,
         "ao_signal": 0,
         "bollinger_signal": 0,
         "Returns": 0.0036455305369686997,
         "_deepnote_index_column": "2021-08-05"
        },
        {
         "Close": 0.7465130090713501,
         "macd_signal": 0,
         "aroon_signal": 0,
         "rsi_signal": 0,
         "ao_signal": 0,
         "bollinger_signal": -1,
         "Returns": 0.01822542711182784,
         "_deepnote_index_column": "2021-08-06"
        },
        {
         "Close": 0.8162810206413269,
         "macd_signal": 0,
         "aroon_signal": 1,
         "rsi_signal": 1,
         "ao_signal": 0,
         "bollinger_signal": -1,
         "Returns": 0.09345853417446404,
         "_deepnote_index_column": "2021-08-07"
        },
        {
         "Close": 0.7787389755249023,
         "macd_signal": 0,
         "aroon_signal": 0,
         "rsi_signal": 0,
         "ao_signal": 0,
         "bollinger_signal": -1,
         "Returns": -0.045991569284471345,
         "_deepnote_index_column": "2021-08-08"
        },
        {
         "Close": 0.8185529708862305,
         "macd_signal": 0,
         "aroon_signal": 0,
         "rsi_signal": 0,
         "ao_signal": 0,
         "bollinger_signal": -1,
         "Returns": 0.05112623948800277,
         "_deepnote_index_column": "2021-08-09"
        },
        {
         "Close": 0.8512470126152039,
         "macd_signal": 0,
         "aroon_signal": 0,
         "rsi_signal": 0,
         "ao_signal": 0,
         "bollinger_signal": -1,
         "Returns": 0.039941265735772946,
         "_deepnote_index_column": "2021-08-10"
        },
        {
         "Close": 1.0125240087509155,
         "macd_signal": 0,
         "aroon_signal": 0,
         "rsi_signal": 0,
         "ao_signal": 0,
         "bollinger_signal": -1,
         "Returns": 0.18945969118908979,
         "_deepnote_index_column": "2021-08-11"
        }
       ]
      },
      "text/plain": "               Close  macd_signal  aroon_signal  rsi_signal  ao_signal  \\\nDate                                                                     \n2019-09-01  0.258054            0             0           0        0.0   \n2019-09-02  0.260820            1             0           1        0.0   \n2019-09-03  0.263139            0             0           0        0.0   \n2019-09-04  0.259905            0             0           0        0.0   \n2019-09-05  0.256346            0             0           0        0.0   \n...              ...          ...           ...         ...        ...   \n2021-08-07  0.816281            0             1           1        0.0   \n2021-08-08  0.778739            0             0           0        0.0   \n2021-08-09  0.818553            0             0           0        0.0   \n2021-08-10  0.851247            0             0           0        0.0   \n2021-08-11  1.012524            0             0           0        0.0   \n\n            bollinger_signal   Returns  \nDate                                    \n2019-09-01               0.0       NaN  \n2019-09-02               0.0  0.010719  \n2019-09-03               0.0  0.008891  \n2019-09-04               0.0 -0.012290  \n2019-09-05               0.0 -0.013694  \n...                      ...       ...  \n2021-08-07              -1.0  0.093459  \n2021-08-08              -1.0 -0.045992  \n2021-08-09              -1.0  0.051126  \n2021-08-10              -1.0  0.039941  \n2021-08-11              -1.0  0.189460  \n\n[707 rows x 7 columns]",
      "text/html": "<div>\n<style scoped>\n    .dataframe tbody tr th:only-of-type {\n        vertical-align: middle;\n    }\n\n    .dataframe tbody tr th {\n        vertical-align: top;\n    }\n\n    .dataframe thead th {\n        text-align: right;\n    }\n</style>\n<table border=\"1\" class=\"dataframe\">\n  <thead>\n    <tr style=\"text-align: right;\">\n      <th></th>\n      <th>Close</th>\n      <th>macd_signal</th>\n      <th>aroon_signal</th>\n      <th>rsi_signal</th>\n      <th>ao_signal</th>\n      <th>bollinger_signal</th>\n      <th>Returns</th>\n    </tr>\n    <tr>\n      <th>Date</th>\n      <th></th>\n      <th></th>\n      <th></th>\n      <th></th>\n      <th></th>\n      <th></th>\n      <th></th>\n    </tr>\n  </thead>\n  <tbody>\n    <tr>\n      <th>2019-09-01</th>\n      <td>0.258054</td>\n      <td>0</td>\n      <td>0</td>\n      <td>0</td>\n      <td>0.0</td>\n      <td>0.0</td>\n      <td>NaN</td>\n    </tr>\n    <tr>\n      <th>2019-09-02</th>\n      <td>0.260820</td>\n      <td>1</td>\n      <td>0</td>\n      <td>1</td>\n      <td>0.0</td>\n      <td>0.0</td>\n      <td>0.010719</td>\n    </tr>\n    <tr>\n      <th>2019-09-03</th>\n      <td>0.263139</td>\n      <td>0</td>\n      <td>0</td>\n      <td>0</td>\n      <td>0.0</td>\n      <td>0.0</td>\n      <td>0.008891</td>\n    </tr>\n    <tr>\n      <th>2019-09-04</th>\n      <td>0.259905</td>\n      <td>0</td>\n      <td>0</td>\n      <td>0</td>\n      <td>0.0</td>\n      <td>0.0</td>\n      <td>-0.012290</td>\n    </tr>\n    <tr>\n      <th>2019-09-05</th>\n      <td>0.256346</td>\n      <td>0</td>\n      <td>0</td>\n      <td>0</td>\n      <td>0.0</td>\n      <td>0.0</td>\n      <td>-0.013694</td>\n    </tr>\n    <tr>\n      <th>...</th>\n      <td>...</td>\n      <td>...</td>\n      <td>...</td>\n      <td>...</td>\n      <td>...</td>\n      <td>...</td>\n      <td>...</td>\n    </tr>\n    <tr>\n      <th>2021-08-07</th>\n      <td>0.816281</td>\n      <td>0</td>\n      <td>1</td>\n      <td>1</td>\n      <td>0.0</td>\n      <td>-1.0</td>\n      <td>0.093459</td>\n    </tr>\n    <tr>\n      <th>2021-08-08</th>\n      <td>0.778739</td>\n      <td>0</td>\n      <td>0</td>\n      <td>0</td>\n      <td>0.0</td>\n      <td>-1.0</td>\n      <td>-0.045992</td>\n    </tr>\n    <tr>\n      <th>2021-08-09</th>\n      <td>0.818553</td>\n      <td>0</td>\n      <td>0</td>\n      <td>0</td>\n      <td>0.0</td>\n      <td>-1.0</td>\n      <td>0.051126</td>\n    </tr>\n    <tr>\n      <th>2021-08-10</th>\n      <td>0.851247</td>\n      <td>0</td>\n      <td>0</td>\n      <td>0</td>\n      <td>0.0</td>\n      <td>-1.0</td>\n      <td>0.039941</td>\n    </tr>\n    <tr>\n      <th>2021-08-11</th>\n      <td>1.012524</td>\n      <td>0</td>\n      <td>0</td>\n      <td>0</td>\n      <td>0.0</td>\n      <td>-1.0</td>\n      <td>0.189460</td>\n    </tr>\n  </tbody>\n</table>\n<p>707 rows × 7 columns</p>\n</div>"
     },
     "metadata": {}
    }
   ]
  },
  {
   "cell_type": "code",
   "metadata": {
    "tags": [],
    "deepnote_to_be_reexecuted": false,
    "source_hash": "8fa2ff2b",
    "execution_start": 1629320759917,
    "execution_millis": 67382216,
    "cell_id": "00006-05256728-8fb1-4382-a2a9-be4aec2e6e69",
    "deepnote_cell_type": "code"
   },
   "source": "# Construct the dependent variable where if daily return is greater than 0, then 1, else, 0.\ncombined_signals_df['Binary Return'] = np.where(combined_signals_df['Returns'] > 0.0, 1.0, 0.0)",
   "execution_count": null,
   "outputs": []
  },
  {
   "cell_type": "code",
   "metadata": {
    "tags": [],
    "deepnote_to_be_reexecuted": false,
    "source_hash": "1e00392c",
    "execution_start": 1629320759965,
    "execution_millis": 5,
    "cell_id": "00007-d00fbb6f-c801-4b74-b3fa-b9d2a181407a",
    "deepnote_cell_type": "code"
   },
   "source": "# Shift DataFrame values by 1\ncombined_signals_df[['aroon_signal','macd_signal','rsi_signal', 'ao_signal','bollinger_signal']] = combined_signals_df[['aroon_signal','macd_signal','rsi_signal','ao_signal','bollinger_signal']].shift(1)\ncombined_signals_df[['aroon_signal','macd_signal','rsi_signal','ao_signal','bollinger_signal']].tail()",
   "execution_count": null,
   "outputs": [
    {
     "output_type": "execute_result",
     "execution_count": 8,
     "data": {
      "application/vnd.deepnote.dataframe.v2+json": {
       "row_count": 5,
       "column_count": 5,
       "columns": [
        {
         "name": "aroon_signal",
         "dtype": "float64",
         "stats": {
          "unique_count": 2,
          "nan_count": 0,
          "min": "0.0",
          "max": "1.0",
          "histogram": [
           {
            "bin_start": 0,
            "bin_end": 0.1,
            "count": 4
           },
           {
            "bin_start": 0.1,
            "bin_end": 0.2,
            "count": 0
           },
           {
            "bin_start": 0.2,
            "bin_end": 0.30000000000000004,
            "count": 0
           },
           {
            "bin_start": 0.30000000000000004,
            "bin_end": 0.4,
            "count": 0
           },
           {
            "bin_start": 0.4,
            "bin_end": 0.5,
            "count": 0
           },
           {
            "bin_start": 0.5,
            "bin_end": 0.6000000000000001,
            "count": 0
           },
           {
            "bin_start": 0.6000000000000001,
            "bin_end": 0.7000000000000001,
            "count": 0
           },
           {
            "bin_start": 0.7000000000000001,
            "bin_end": 0.8,
            "count": 0
           },
           {
            "bin_start": 0.8,
            "bin_end": 0.9,
            "count": 0
           },
           {
            "bin_start": 0.9,
            "bin_end": 1,
            "count": 1
           }
          ]
         }
        },
        {
         "name": "macd_signal",
         "dtype": "float64",
         "stats": {
          "unique_count": 1,
          "nan_count": 0,
          "min": "0.0",
          "max": "0.0",
          "histogram": [
           {
            "bin_start": -0.5,
            "bin_end": -0.4,
            "count": 0
           },
           {
            "bin_start": -0.4,
            "bin_end": -0.3,
            "count": 0
           },
           {
            "bin_start": -0.3,
            "bin_end": -0.19999999999999996,
            "count": 0
           },
           {
            "bin_start": -0.19999999999999996,
            "bin_end": -0.09999999999999998,
            "count": 0
           },
           {
            "bin_start": -0.09999999999999998,
            "bin_end": 0,
            "count": 0
           },
           {
            "bin_start": 0,
            "bin_end": 0.10000000000000009,
            "count": 5
           },
           {
            "bin_start": 0.10000000000000009,
            "bin_end": 0.20000000000000007,
            "count": 0
           },
           {
            "bin_start": 0.20000000000000007,
            "bin_end": 0.30000000000000004,
            "count": 0
           },
           {
            "bin_start": 0.30000000000000004,
            "bin_end": 0.4,
            "count": 0
           },
           {
            "bin_start": 0.4,
            "bin_end": 0.5,
            "count": 0
           }
          ]
         }
        },
        {
         "name": "rsi_signal",
         "dtype": "float64",
         "stats": {
          "unique_count": 2,
          "nan_count": 0,
          "min": "0.0",
          "max": "1.0",
          "histogram": [
           {
            "bin_start": 0,
            "bin_end": 0.1,
            "count": 4
           },
           {
            "bin_start": 0.1,
            "bin_end": 0.2,
            "count": 0
           },
           {
            "bin_start": 0.2,
            "bin_end": 0.30000000000000004,
            "count": 0
           },
           {
            "bin_start": 0.30000000000000004,
            "bin_end": 0.4,
            "count": 0
           },
           {
            "bin_start": 0.4,
            "bin_end": 0.5,
            "count": 0
           },
           {
            "bin_start": 0.5,
            "bin_end": 0.6000000000000001,
            "count": 0
           },
           {
            "bin_start": 0.6000000000000001,
            "bin_end": 0.7000000000000001,
            "count": 0
           },
           {
            "bin_start": 0.7000000000000001,
            "bin_end": 0.8,
            "count": 0
           },
           {
            "bin_start": 0.8,
            "bin_end": 0.9,
            "count": 0
           },
           {
            "bin_start": 0.9,
            "bin_end": 1,
            "count": 1
           }
          ]
         }
        },
        {
         "name": "ao_signal",
         "dtype": "float64",
         "stats": {
          "unique_count": 1,
          "nan_count": 0,
          "min": "0.0",
          "max": "0.0",
          "histogram": [
           {
            "bin_start": -0.5,
            "bin_end": -0.4,
            "count": 0
           },
           {
            "bin_start": -0.4,
            "bin_end": -0.3,
            "count": 0
           },
           {
            "bin_start": -0.3,
            "bin_end": -0.19999999999999996,
            "count": 0
           },
           {
            "bin_start": -0.19999999999999996,
            "bin_end": -0.09999999999999998,
            "count": 0
           },
           {
            "bin_start": -0.09999999999999998,
            "bin_end": 0,
            "count": 0
           },
           {
            "bin_start": 0,
            "bin_end": 0.10000000000000009,
            "count": 5
           },
           {
            "bin_start": 0.10000000000000009,
            "bin_end": 0.20000000000000007,
            "count": 0
           },
           {
            "bin_start": 0.20000000000000007,
            "bin_end": 0.30000000000000004,
            "count": 0
           },
           {
            "bin_start": 0.30000000000000004,
            "bin_end": 0.4,
            "count": 0
           },
           {
            "bin_start": 0.4,
            "bin_end": 0.5,
            "count": 0
           }
          ]
         }
        },
        {
         "name": "bollinger_signal",
         "dtype": "float64",
         "stats": {
          "unique_count": 1,
          "nan_count": 0,
          "min": "-1.0",
          "max": "-1.0",
          "histogram": [
           {
            "bin_start": -1.5,
            "bin_end": -1.4,
            "count": 0
           },
           {
            "bin_start": -1.4,
            "bin_end": -1.3,
            "count": 0
           },
           {
            "bin_start": -1.3,
            "bin_end": -1.2,
            "count": 0
           },
           {
            "bin_start": -1.2,
            "bin_end": -1.1,
            "count": 0
           },
           {
            "bin_start": -1.1,
            "bin_end": -1,
            "count": 0
           },
           {
            "bin_start": -1,
            "bin_end": -0.8999999999999999,
            "count": 5
           },
           {
            "bin_start": -0.8999999999999999,
            "bin_end": -0.7999999999999999,
            "count": 0
           },
           {
            "bin_start": -0.7999999999999999,
            "bin_end": -0.7,
            "count": 0
           },
           {
            "bin_start": -0.7,
            "bin_end": -0.6,
            "count": 0
           },
           {
            "bin_start": -0.6,
            "bin_end": -0.5,
            "count": 0
           }
          ]
         }
        },
        {
         "name": "_deepnote_index_column",
         "dtype": "object"
        }
       ],
       "rows_top": [
        {
         "aroon_signal": 0,
         "macd_signal": 0,
         "rsi_signal": 0,
         "ao_signal": 0,
         "bollinger_signal": -1,
         "_deepnote_index_column": "2021-08-07"
        },
        {
         "aroon_signal": 1,
         "macd_signal": 0,
         "rsi_signal": 1,
         "ao_signal": 0,
         "bollinger_signal": -1,
         "_deepnote_index_column": "2021-08-08"
        },
        {
         "aroon_signal": 0,
         "macd_signal": 0,
         "rsi_signal": 0,
         "ao_signal": 0,
         "bollinger_signal": -1,
         "_deepnote_index_column": "2021-08-09"
        },
        {
         "aroon_signal": 0,
         "macd_signal": 0,
         "rsi_signal": 0,
         "ao_signal": 0,
         "bollinger_signal": -1,
         "_deepnote_index_column": "2021-08-10"
        },
        {
         "aroon_signal": 0,
         "macd_signal": 0,
         "rsi_signal": 0,
         "ao_signal": 0,
         "bollinger_signal": -1,
         "_deepnote_index_column": "2021-08-11"
        }
       ],
       "rows_bottom": null
      },
      "text/plain": "            aroon_signal  macd_signal  rsi_signal  ao_signal  bollinger_signal\nDate                                                                          \n2021-08-07           0.0          0.0         0.0        0.0              -1.0\n2021-08-08           1.0          0.0         1.0        0.0              -1.0\n2021-08-09           0.0          0.0         0.0        0.0              -1.0\n2021-08-10           0.0          0.0         0.0        0.0              -1.0\n2021-08-11           0.0          0.0         0.0        0.0              -1.0",
      "text/html": "<div>\n<style scoped>\n    .dataframe tbody tr th:only-of-type {\n        vertical-align: middle;\n    }\n\n    .dataframe tbody tr th {\n        vertical-align: top;\n    }\n\n    .dataframe thead th {\n        text-align: right;\n    }\n</style>\n<table border=\"1\" class=\"dataframe\">\n  <thead>\n    <tr style=\"text-align: right;\">\n      <th></th>\n      <th>aroon_signal</th>\n      <th>macd_signal</th>\n      <th>rsi_signal</th>\n      <th>ao_signal</th>\n      <th>bollinger_signal</th>\n    </tr>\n    <tr>\n      <th>Date</th>\n      <th></th>\n      <th></th>\n      <th></th>\n      <th></th>\n      <th></th>\n    </tr>\n  </thead>\n  <tbody>\n    <tr>\n      <th>2021-08-07</th>\n      <td>0.0</td>\n      <td>0.0</td>\n      <td>0.0</td>\n      <td>0.0</td>\n      <td>-1.0</td>\n    </tr>\n    <tr>\n      <th>2021-08-08</th>\n      <td>1.0</td>\n      <td>0.0</td>\n      <td>1.0</td>\n      <td>0.0</td>\n      <td>-1.0</td>\n    </tr>\n    <tr>\n      <th>2021-08-09</th>\n      <td>0.0</td>\n      <td>0.0</td>\n      <td>0.0</td>\n      <td>0.0</td>\n      <td>-1.0</td>\n    </tr>\n    <tr>\n      <th>2021-08-10</th>\n      <td>0.0</td>\n      <td>0.0</td>\n      <td>0.0</td>\n      <td>0.0</td>\n      <td>-1.0</td>\n    </tr>\n    <tr>\n      <th>2021-08-11</th>\n      <td>0.0</td>\n      <td>0.0</td>\n      <td>0.0</td>\n      <td>0.0</td>\n      <td>-1.0</td>\n    </tr>\n  </tbody>\n</table>\n</div>"
     },
     "metadata": {}
    }
   ]
  },
  {
   "cell_type": "code",
   "metadata": {
    "tags": [],
    "deepnote_to_be_reexecuted": false,
    "source_hash": "a8ff05a8",
    "execution_start": 1629320760017,
    "execution_millis": 39,
    "cell_id": "00008-21c44a1a-6d9d-4dc3-960f-c98af42e28ae",
    "deepnote_cell_type": "code"
   },
   "source": "# Drop NAs and replace positive/negative infinity values\n# combined_signals_df.dropna(subset=combined_signals_df[['aroon_signal','macd_signal','rsi_signal']], inplace=True)\n# combined_signals_df.dropna(subset=combined_signals_df['Returns'], inplace=True)\n# combined_signals_df = combined_signals_df.replace([np.inf, -np.inf], np.nan)\n# combined_signals_df.head()\n\ncombined_signals_df[['aroon_signal', 'macd_signal', 'rsi_signal','ao_signal','bollinger_signal']].dropna( inplace = True)\ncombined_signals_df = combined_signals_df.replace([np.inf, -np.inf], np.nan)\ncombined_signals_df.dropna(inplace = True)\n# combined_signals_df[['aroon_signal', 'macd_signal', 'rsi_signal']].astype('int64')\ncombined_signals_df[['aroon_signal', 'macd_signal', 'rsi_signal','ao_signal','bollinger_signal', 'Binary Return']]=combined_signals_df[['aroon_signal', 'macd_signal', 'rsi_signal','ao_signal','bollinger_signal', 'Binary Return']].astype(int)\ncombined_signals_df.dropna(inplace = True)\ncombined_signals_df",
   "execution_count": null,
   "outputs": [
    {
     "name": "stderr",
     "text": "/shared-libs/python3.7/py-core/lib/python3.7/site-packages/ipykernel_launcher.py:7: SettingWithCopyWarning: \nA value is trying to be set on a copy of a slice from a DataFrame\n\nSee the caveats in the documentation: https://pandas.pydata.org/pandas-docs/stable/user_guide/indexing.html#returning-a-view-versus-a-copy\n  import sys\n",
     "output_type": "stream"
    },
    {
     "output_type": "execute_result",
     "execution_count": 9,
     "data": {
      "application/vnd.deepnote.dataframe.v2+json": {
       "row_count": 706,
       "column_count": 8,
       "columns": [
        {
         "name": "Close",
         "dtype": "float64",
         "stats": {
          "unique_count": 705,
          "nan_count": 0,
          "min": "0.1396349966526031",
          "max": "1.83923602104187",
          "histogram": [
           {
            "bin_start": 0.1396349966526031,
            "bin_end": 0.30959509909152977,
            "count": 467
           },
           {
            "bin_start": 0.30959509909152977,
            "bin_end": 0.47955520153045644,
            "count": 50
           },
           {
            "bin_start": 0.47955520153045644,
            "bin_end": 0.6495153039693831,
            "count": 85
           },
           {
            "bin_start": 0.6495153039693831,
            "bin_end": 0.8194754064083098,
            "count": 29
           },
           {
            "bin_start": 0.8194754064083098,
            "bin_end": 0.9894355088472364,
            "count": 23
           },
           {
            "bin_start": 0.9894355088472364,
            "bin_end": 1.1593956112861632,
            "count": 14
           },
           {
            "bin_start": 1.1593956112861632,
            "bin_end": 1.3293557137250898,
            "count": 6
           },
           {
            "bin_start": 1.3293557137250898,
            "bin_end": 1.4993158161640165,
            "count": 17
           },
           {
            "bin_start": 1.4993158161640165,
            "bin_end": 1.6692759186029433,
            "count": 12
           },
           {
            "bin_start": 1.6692759186029433,
            "bin_end": 1.83923602104187,
            "count": 3
           }
          ]
         }
        },
        {
         "name": "macd_signal",
         "dtype": "int64",
         "stats": {
          "unique_count": 3,
          "nan_count": 0,
          "min": "-1",
          "max": "1",
          "histogram": [
           {
            "bin_start": -1,
            "bin_end": -0.8,
            "count": 23
           },
           {
            "bin_start": -0.8,
            "bin_end": -0.6,
            "count": 0
           },
           {
            "bin_start": -0.6,
            "bin_end": -0.3999999999999999,
            "count": 0
           },
           {
            "bin_start": -0.3999999999999999,
            "bin_end": -0.19999999999999996,
            "count": 0
           },
           {
            "bin_start": -0.19999999999999996,
            "bin_end": 0,
            "count": 0
           },
           {
            "bin_start": 0,
            "bin_end": 0.20000000000000018,
            "count": 659
           },
           {
            "bin_start": 0.20000000000000018,
            "bin_end": 0.40000000000000013,
            "count": 0
           },
           {
            "bin_start": 0.40000000000000013,
            "bin_end": 0.6000000000000001,
            "count": 0
           },
           {
            "bin_start": 0.6000000000000001,
            "bin_end": 0.8,
            "count": 0
           },
           {
            "bin_start": 0.8,
            "bin_end": 1,
            "count": 24
           }
          ]
         }
        },
        {
         "name": "aroon_signal",
         "dtype": "int64",
         "stats": {
          "unique_count": 3,
          "nan_count": 0,
          "min": "-1",
          "max": "1",
          "histogram": [
           {
            "bin_start": -1,
            "bin_end": -0.8,
            "count": 7
           },
           {
            "bin_start": -0.8,
            "bin_end": -0.6,
            "count": 0
           },
           {
            "bin_start": -0.6,
            "bin_end": -0.3999999999999999,
            "count": 0
           },
           {
            "bin_start": -0.3999999999999999,
            "bin_end": -0.19999999999999996,
            "count": 0
           },
           {
            "bin_start": -0.19999999999999996,
            "bin_end": 0,
            "count": 0
           },
           {
            "bin_start": 0,
            "bin_end": 0.20000000000000018,
            "count": 691
           },
           {
            "bin_start": 0.20000000000000018,
            "bin_end": 0.40000000000000013,
            "count": 0
           },
           {
            "bin_start": 0.40000000000000013,
            "bin_end": 0.6000000000000001,
            "count": 0
           },
           {
            "bin_start": 0.6000000000000001,
            "bin_end": 0.8,
            "count": 0
           },
           {
            "bin_start": 0.8,
            "bin_end": 1,
            "count": 8
           }
          ]
         }
        },
        {
         "name": "rsi_signal",
         "dtype": "int64",
         "stats": {
          "unique_count": 3,
          "nan_count": 0,
          "min": "-1",
          "max": "1",
          "histogram": [
           {
            "bin_start": -1,
            "bin_end": -0.8,
            "count": 4
           },
           {
            "bin_start": -0.8,
            "bin_end": -0.6,
            "count": 0
           },
           {
            "bin_start": -0.6,
            "bin_end": -0.3999999999999999,
            "count": 0
           },
           {
            "bin_start": -0.3999999999999999,
            "bin_end": -0.19999999999999996,
            "count": 0
           },
           {
            "bin_start": -0.19999999999999996,
            "bin_end": 0,
            "count": 0
           },
           {
            "bin_start": 0,
            "bin_end": 0.20000000000000018,
            "count": 697
           },
           {
            "bin_start": 0.20000000000000018,
            "bin_end": 0.40000000000000013,
            "count": 0
           },
           {
            "bin_start": 0.40000000000000013,
            "bin_end": 0.6000000000000001,
            "count": 0
           },
           {
            "bin_start": 0.6000000000000001,
            "bin_end": 0.8,
            "count": 0
           },
           {
            "bin_start": 0.8,
            "bin_end": 1,
            "count": 5
           }
          ]
         }
        },
        {
         "name": "ao_signal",
         "dtype": "int64",
         "stats": {
          "unique_count": 3,
          "nan_count": 0,
          "min": "-1",
          "max": "1",
          "histogram": [
           {
            "bin_start": -1,
            "bin_end": -0.8,
            "count": 12
           },
           {
            "bin_start": -0.8,
            "bin_end": -0.6,
            "count": 0
           },
           {
            "bin_start": -0.6,
            "bin_end": -0.3999999999999999,
            "count": 0
           },
           {
            "bin_start": -0.3999999999999999,
            "bin_end": -0.19999999999999996,
            "count": 0
           },
           {
            "bin_start": -0.19999999999999996,
            "bin_end": 0,
            "count": 0
           },
           {
            "bin_start": 0,
            "bin_end": 0.20000000000000018,
            "count": 682
           },
           {
            "bin_start": 0.20000000000000018,
            "bin_end": 0.40000000000000013,
            "count": 0
           },
           {
            "bin_start": 0.40000000000000013,
            "bin_end": 0.6000000000000001,
            "count": 0
           },
           {
            "bin_start": 0.6000000000000001,
            "bin_end": 0.8,
            "count": 0
           },
           {
            "bin_start": 0.8,
            "bin_end": 1,
            "count": 12
           }
          ]
         }
        },
        {
         "name": "bollinger_signal",
         "dtype": "int64",
         "stats": {
          "unique_count": 3,
          "nan_count": 0,
          "min": "-1",
          "max": "1",
          "histogram": [
           {
            "bin_start": -1,
            "bin_end": -0.8,
            "count": 182
           },
           {
            "bin_start": -0.8,
            "bin_end": -0.6,
            "count": 0
           },
           {
            "bin_start": -0.6,
            "bin_end": -0.3999999999999999,
            "count": 0
           },
           {
            "bin_start": -0.3999999999999999,
            "bin_end": -0.19999999999999996,
            "count": 0
           },
           {
            "bin_start": -0.19999999999999996,
            "bin_end": 0,
            "count": 0
           },
           {
            "bin_start": 0,
            "bin_end": 0.20000000000000018,
            "count": 349
           },
           {
            "bin_start": 0.20000000000000018,
            "bin_end": 0.40000000000000013,
            "count": 0
           },
           {
            "bin_start": 0.40000000000000013,
            "bin_end": 0.6000000000000001,
            "count": 0
           },
           {
            "bin_start": 0.6000000000000001,
            "bin_end": 0.8,
            "count": 0
           },
           {
            "bin_start": 0.8,
            "bin_end": 1,
            "count": 175
           }
          ]
         }
        },
        {
         "name": "Returns",
         "dtype": "float64",
         "stats": {
          "unique_count": 706,
          "nan_count": 0,
          "min": "-0.4233400707018309",
          "max": "0.5601088348528374",
          "histogram": [
           {
            "bin_start": -0.4233400707018309,
            "bin_end": -0.3249951801463641,
            "count": 3
           },
           {
            "bin_start": -0.3249951801463641,
            "bin_end": -0.22665028959089722,
            "count": 1
           },
           {
            "bin_start": -0.22665028959089722,
            "bin_end": -0.12830539903543037,
            "count": 7
           },
           {
            "bin_start": -0.12830539903543037,
            "bin_end": -0.029960508479963566,
            "count": 123
           },
           {
            "bin_start": -0.029960508479963566,
            "bin_end": 0.06838438207550324,
            "count": 513
           },
           {
            "bin_start": 0.06838438207550324,
            "bin_end": 0.16672927263097015,
            "count": 46
           },
           {
            "bin_start": 0.16672927263097015,
            "bin_end": 0.26507416318643695,
            "count": 5
           },
           {
            "bin_start": 0.26507416318643695,
            "bin_end": 0.36341905374190375,
            "count": 4
           },
           {
            "bin_start": 0.36341905374190375,
            "bin_end": 0.46176394429737055,
            "count": 3
           },
           {
            "bin_start": 0.46176394429737055,
            "bin_end": 0.5601088348528374,
            "count": 1
           }
          ]
         }
        },
        {
         "name": "Binary Return",
         "dtype": "int64",
         "stats": {
          "unique_count": 2,
          "nan_count": 0,
          "min": "0",
          "max": "1",
          "histogram": [
           {
            "bin_start": 0,
            "bin_end": 0.1,
            "count": 341
           },
           {
            "bin_start": 0.1,
            "bin_end": 0.2,
            "count": 0
           },
           {
            "bin_start": 0.2,
            "bin_end": 0.30000000000000004,
            "count": 0
           },
           {
            "bin_start": 0.30000000000000004,
            "bin_end": 0.4,
            "count": 0
           },
           {
            "bin_start": 0.4,
            "bin_end": 0.5,
            "count": 0
           },
           {
            "bin_start": 0.5,
            "bin_end": 0.6000000000000001,
            "count": 0
           },
           {
            "bin_start": 0.6000000000000001,
            "bin_end": 0.7000000000000001,
            "count": 0
           },
           {
            "bin_start": 0.7000000000000001,
            "bin_end": 0.8,
            "count": 0
           },
           {
            "bin_start": 0.8,
            "bin_end": 0.9,
            "count": 0
           },
           {
            "bin_start": 0.9,
            "bin_end": 1,
            "count": 365
           }
          ]
         }
        },
        {
         "name": "_deepnote_index_column",
         "dtype": "object"
        }
       ],
       "rows_top": [
        {
         "Close": 0.2608200013637543,
         "macd_signal": 0,
         "aroon_signal": 0,
         "rsi_signal": 0,
         "ao_signal": 0,
         "bollinger_signal": 0,
         "Returns": 0.010718738216542567,
         "Binary Return": 1,
         "_deepnote_index_column": "2019-09-02"
        },
        {
         "Close": 0.263139009475708,
         "macd_signal": 1,
         "aroon_signal": 0,
         "rsi_signal": 1,
         "ao_signal": 0,
         "bollinger_signal": 0,
         "Returns": 0.008891220381214149,
         "Binary Return": 1,
         "_deepnote_index_column": "2019-09-03"
        },
        {
         "Close": 0.2599050104618072,
         "macd_signal": 0,
         "aroon_signal": 0,
         "rsi_signal": 0,
         "ao_signal": 0,
         "bollinger_signal": 0,
         "Returns": -0.01229007823790329,
         "Binary Return": 0,
         "_deepnote_index_column": "2019-09-04"
        },
        {
         "Close": 0.2563459873199463,
         "macd_signal": 0,
         "aroon_signal": 0,
         "rsi_signal": 0,
         "ao_signal": 0,
         "bollinger_signal": 0,
         "Returns": -0.013693553408366865,
         "Binary Return": 0,
         "_deepnote_index_column": "2019-09-05"
        },
        {
         "Close": 0.2523399889469147,
         "macd_signal": 0,
         "aroon_signal": 0,
         "rsi_signal": 0,
         "ao_signal": 0,
         "bollinger_signal": 0,
         "Returns": -0.015627310631672664,
         "Binary Return": 0,
         "_deepnote_index_column": "2019-09-06"
        },
        {
         "Close": 0.260686993598938,
         "macd_signal": -1,
         "aroon_signal": 0,
         "rsi_signal": 0,
         "ao_signal": 0,
         "bollinger_signal": 0,
         "Returns": 0.03307840618864133,
         "Binary Return": 1,
         "_deepnote_index_column": "2019-09-07"
        },
        {
         "Close": 0.2630839943885803,
         "macd_signal": 0,
         "aroon_signal": 0,
         "rsi_signal": 0,
         "ao_signal": 0,
         "bollinger_signal": 0,
         "Returns": 0.00919493817681638,
         "Binary Return": 1,
         "_deepnote_index_column": "2019-09-08"
        },
        {
         "Close": 0.2595619857311249,
         "macd_signal": 1,
         "aroon_signal": 0,
         "rsi_signal": 0,
         "ao_signal": 0,
         "bollinger_signal": 0,
         "Returns": -0.013387392363571005,
         "Binary Return": 0,
         "_deepnote_index_column": "2019-09-09"
        },
        {
         "Close": 0.2586709856986999,
         "macd_signal": 0,
         "aroon_signal": 0,
         "rsi_signal": 0,
         "ao_signal": 0,
         "bollinger_signal": 0,
         "Returns": -0.003432706179663625,
         "Binary Return": 0,
         "_deepnote_index_column": "2019-09-10"
        },
        {
         "Close": 0.2559559941291809,
         "macd_signal": 0,
         "aroon_signal": 0,
         "rsi_signal": 0,
         "ao_signal": 0,
         "bollinger_signal": 0,
         "Returns": -0.010495926175042358,
         "Binary Return": 0,
         "_deepnote_index_column": "2019-09-11"
        },
        {
         "Close": 0.2548109889030456,
         "macd_signal": -1,
         "aroon_signal": 0,
         "rsi_signal": 0,
         "ao_signal": 0,
         "bollinger_signal": 0,
         "Returns": -0.004473445640649554,
         "Binary Return": 0,
         "_deepnote_index_column": "2019-09-12"
        },
        {
         "Close": 0.2555510103702545,
         "macd_signal": 0,
         "aroon_signal": 0,
         "rsi_signal": 0,
         "ao_signal": 0,
         "bollinger_signal": 0,
         "Returns": 0.0029041976187711427,
         "Binary Return": 1,
         "_deepnote_index_column": "2019-09-13"
        },
        {
         "Close": 0.2611669898033142,
         "macd_signal": 0,
         "aroon_signal": 0,
         "rsi_signal": 0,
         "ao_signal": 0,
         "bollinger_signal": 0,
         "Returns": 0.02197596254823253,
         "Binary Return": 1,
         "_deepnote_index_column": "2019-09-14"
        },
        {
         "Close": 0.2616280019283294,
         "macd_signal": 0,
         "aroon_signal": 0,
         "rsi_signal": 0,
         "ao_signal": 0,
         "bollinger_signal": 0,
         "Returns": 0.0017652005920134606,
         "Binary Return": 1,
         "_deepnote_index_column": "2019-09-15"
        },
        {
         "Close": 0.2609519958496094,
         "macd_signal": 1,
         "aroon_signal": 0,
         "rsi_signal": 0,
         "ao_signal": 0,
         "bollinger_signal": 0,
         "Returns": -0.002583844518696532,
         "Binary Return": 0,
         "_deepnote_index_column": "2019-09-16"
        },
        {
         "Close": 0.2850129902362823,
         "macd_signal": 0,
         "aroon_signal": 0,
         "rsi_signal": 0,
         "ao_signal": 0,
         "bollinger_signal": 0,
         "Returns": 0.0922046766047333,
         "Binary Return": 1,
         "_deepnote_index_column": "2019-09-17"
        },
        {
         "Close": 0.3137759864330292,
         "macd_signal": 0,
         "aroon_signal": 0,
         "rsi_signal": 0,
         "ao_signal": 0,
         "bollinger_signal": 0,
         "Returns": 0.10091819384408307,
         "Binary Return": 1,
         "_deepnote_index_column": "2019-09-18"
        },
        {
         "Close": 0.3024410009384155,
         "macd_signal": 0,
         "aroon_signal": 0,
         "rsi_signal": 0,
         "ao_signal": 0,
         "bollinger_signal": 0,
         "Returns": -0.03612445178953472,
         "Binary Return": 0,
         "_deepnote_index_column": "2019-09-19"
        },
        {
         "Close": 0.2944700121879577,
         "macd_signal": 0,
         "aroon_signal": 0,
         "rsi_signal": 0,
         "ao_signal": 0,
         "bollinger_signal": 0,
         "Returns": -0.026355516367573828,
         "Binary Return": 0,
         "_deepnote_index_column": "2019-09-20"
        },
        {
         "Close": 0.2894429862499237,
         "macd_signal": 0,
         "aroon_signal": 0,
         "rsi_signal": 0,
         "ao_signal": 0,
         "bollinger_signal": -1,
         "Returns": -0.017071435901681253,
         "Binary Return": 0,
         "_deepnote_index_column": "2019-09-21"
        },
        {
         "Close": 0.2789309918880462,
         "macd_signal": 0,
         "aroon_signal": 0,
         "rsi_signal": 0,
         "ao_signal": 0,
         "bollinger_signal": -1,
         "Returns": -0.03631801377560684,
         "Binary Return": 0,
         "_deepnote_index_column": "2019-09-22"
        },
        {
         "Close": 0.2686749994754791,
         "macd_signal": 0,
         "aroon_signal": 0,
         "rsi_signal": 0,
         "ao_signal": 0,
         "bollinger_signal": 0,
         "Returns": -0.03676892389456499,
         "Binary Return": 0,
         "_deepnote_index_column": "2019-09-23"
        },
        {
         "Close": 0.2352260053157806,
         "macd_signal": 0,
         "aroon_signal": 0,
         "rsi_signal": 0,
         "ao_signal": 0,
         "bollinger_signal": 0,
         "Returns": -0.12449611696287088,
         "Binary Return": 0,
         "_deepnote_index_column": "2019-09-24"
        },
        {
         "Close": 0.2464410066604614,
         "macd_signal": -1,
         "aroon_signal": 0,
         "rsi_signal": 0,
         "ao_signal": 0,
         "bollinger_signal": 1,
         "Returns": 0.04767755729059431,
         "Binary Return": 1,
         "_deepnote_index_column": "2019-09-25"
        },
        {
         "Close": 0.2437839955091476,
         "macd_signal": 0,
         "aroon_signal": 0,
         "rsi_signal": 0,
         "ao_signal": 0,
         "bollinger_signal": 1,
         "Returns": -0.01078153018168182,
         "Binary Return": 0,
         "_deepnote_index_column": "2019-09-26"
        },
        {
         "Close": 0.2440209984779358,
         "macd_signal": 0,
         "aroon_signal": 0,
         "rsi_signal": 0,
         "ao_signal": 0,
         "bollinger_signal": 1,
         "Returns": 0.0009721842826195815,
         "Binary Return": 1,
         "_deepnote_index_column": "2019-09-27"
        },
        {
         "Close": 0.2425709962844848,
         "macd_signal": 0,
         "aroon_signal": 0,
         "rsi_signal": 0,
         "ao_signal": 0,
         "bollinger_signal": 1,
         "Returns": -0.0059421205654237585,
         "Binary Return": 0,
         "_deepnote_index_column": "2019-09-28"
        },
        {
         "Close": 0.2413879930973053,
         "macd_signal": 0,
         "aroon_signal": 0,
         "rsi_signal": 0,
         "ao_signal": 0,
         "bollinger_signal": 1,
         "Returns": -0.004876935846823582,
         "Binary Return": 0,
         "_deepnote_index_column": "2019-09-29"
        },
        {
         "Close": 0.2559329867362976,
         "macd_signal": 0,
         "aroon_signal": 0,
         "rsi_signal": 0,
         "ao_signal": 0,
         "bollinger_signal": 1,
         "Returns": 0.06025566330935561,
         "Binary Return": 1,
         "_deepnote_index_column": "2019-09-30"
        },
        {
         "Close": 0.2495650053024292,
         "macd_signal": 0,
         "aroon_signal": 0,
         "rsi_signal": 0,
         "ao_signal": 0,
         "bollinger_signal": 0,
         "Returns": -0.024881440704748625,
         "Binary Return": 0,
         "_deepnote_index_column": "2019-10-01"
        },
        {
         "Close": 0.2535389959812164,
         "macd_signal": 0,
         "aroon_signal": 0,
         "rsi_signal": 0,
         "ao_signal": 0,
         "bollinger_signal": 0,
         "Returns": 0.01592366956245095,
         "Binary Return": 1,
         "_deepnote_index_column": "2019-10-02"
        },
        {
         "Close": 0.2478599995374679,
         "macd_signal": 0,
         "aroon_signal": 0,
         "rsi_signal": 0,
         "ao_signal": 0,
         "bollinger_signal": 0,
         "Returns": -0.022398907204670082,
         "Binary Return": 0,
         "_deepnote_index_column": "2019-10-03"
        },
        {
         "Close": 0.2539350092411041,
         "macd_signal": 0,
         "aroon_signal": 0,
         "rsi_signal": 0,
         "ao_signal": 0,
         "bollinger_signal": 0,
         "Returns": 0.024509843116972574,
         "Binary Return": 1,
         "_deepnote_index_column": "2019-10-04"
        },
        {
         "Close": 0.2534570097923279,
         "macd_signal": 0,
         "aroon_signal": 0,
         "rsi_signal": 0,
         "ao_signal": 0,
         "bollinger_signal": 0,
         "Returns": -0.0018823692337844866,
         "Binary Return": 0,
         "_deepnote_index_column": "2019-10-05"
        },
        {
         "Close": 0.2577050030231476,
         "macd_signal": 0,
         "aroon_signal": 0,
         "rsi_signal": 0,
         "ao_signal": -1,
         "bollinger_signal": 0,
         "Returns": 0.016760212054503176,
         "Binary Return": 1,
         "_deepnote_index_column": "2019-10-06"
        },
        {
         "Close": 0.2756850123405456,
         "macd_signal": 0,
         "aroon_signal": 0,
         "rsi_signal": 0,
         "ao_signal": 0,
         "bollinger_signal": 0,
         "Returns": 0.06976973324721603,
         "Binary Return": 1,
         "_deepnote_index_column": "2019-10-07"
        },
        {
         "Close": 0.2784590125083923,
         "macd_signal": 1,
         "aroon_signal": 0,
         "rsi_signal": 0,
         "ao_signal": 0,
         "bollinger_signal": 0,
         "Returns": 0.010062208838614861,
         "Binary Return": 1,
         "_deepnote_index_column": "2019-10-08"
        },
        {
         "Close": 0.2816269993782043,
         "macd_signal": 0,
         "aroon_signal": 0,
         "rsi_signal": 0,
         "ao_signal": 0,
         "bollinger_signal": 0,
         "Returns": 0.011376851628088547,
         "Binary Return": 1,
         "_deepnote_index_column": "2019-10-09"
        },
        {
         "Close": 0.2720730006694793,
         "macd_signal": 0,
         "aroon_signal": 0,
         "rsi_signal": 0,
         "ao_signal": 1,
         "bollinger_signal": -1,
         "Returns": -0.03392429962261767,
         "Binary Return": 0,
         "_deepnote_index_column": "2019-10-10"
        },
        {
         "Close": 0.2710990011692047,
         "macd_signal": 0,
         "aroon_signal": 0,
         "rsi_signal": 0,
         "ao_signal": 0,
         "bollinger_signal": 0,
         "Returns": -0.0035799197196264565,
         "Binary Return": 0,
         "_deepnote_index_column": "2019-10-11"
        },
        {
         "Close": 0.2731910049915313,
         "macd_signal": 0,
         "aroon_signal": 0,
         "rsi_signal": 0,
         "ao_signal": 0,
         "bollinger_signal": 0,
         "Returns": 0.00771675223185686,
         "Binary Return": 1,
         "_deepnote_index_column": "2019-10-12"
        },
        {
         "Close": 0.2777650058269501,
         "macd_signal": 0,
         "aroon_signal": 0,
         "rsi_signal": 0,
         "ao_signal": 0,
         "bollinger_signal": -1,
         "Returns": 0.016742867634168768,
         "Binary Return": 1,
         "_deepnote_index_column": "2019-10-13"
        },
        {
         "Close": 0.2965230047702789,
         "macd_signal": 0,
         "aroon_signal": 0,
         "rsi_signal": 0,
         "ao_signal": 0,
         "bollinger_signal": -1,
         "Returns": 0.06753190124682296,
         "Binary Return": 1,
         "_deepnote_index_column": "2019-10-14"
        },
        {
         "Close": 0.2887020111083984,
         "macd_signal": 0,
         "aroon_signal": 1,
         "rsi_signal": 0,
         "ao_signal": 0,
         "bollinger_signal": -1,
         "Returns": -0.026375672497786606,
         "Binary Return": 0,
         "_deepnote_index_column": "2019-10-15"
        },
        {
         "Close": 0.2846400141716003,
         "macd_signal": 0,
         "aroon_signal": 0,
         "rsi_signal": 0,
         "ao_signal": 0,
         "bollinger_signal": -1,
         "Returns": -0.014069860203616447,
         "Binary Return": 0,
         "_deepnote_index_column": "2019-10-16"
        },
        {
         "Close": 0.3023149967193603,
         "macd_signal": 0,
         "aroon_signal": 0,
         "rsi_signal": 0,
         "ao_signal": 0,
         "bollinger_signal": -1,
         "Returns": 0.06209591648314183,
         "Binary Return": 1,
         "_deepnote_index_column": "2019-10-17"
        },
        {
         "Close": 0.2950049936771393,
         "macd_signal": 0,
         "aroon_signal": 0,
         "rsi_signal": 0,
         "ao_signal": 0,
         "bollinger_signal": -1,
         "Returns": -0.02418008739740729,
         "Binary Return": 0,
         "_deepnote_index_column": "2019-10-18"
        },
        {
         "Close": 0.2930220067501068,
         "macd_signal": 0,
         "aroon_signal": 0,
         "rsi_signal": 0,
         "ao_signal": 0,
         "bollinger_signal": -1,
         "Returns": -0.006721875797135457,
         "Binary Return": 0,
         "_deepnote_index_column": "2019-10-19"
        },
        {
         "Close": 0.2941789925098419,
         "macd_signal": 0,
         "aroon_signal": 0,
         "rsi_signal": 0,
         "ao_signal": 0,
         "bollinger_signal": -1,
         "Returns": 0.003948460296778311,
         "Binary Return": 1,
         "_deepnote_index_column": "2019-10-20"
        },
        {
         "Close": 0.2929790019989013,
         "macd_signal": 0,
         "aroon_signal": 0,
         "rsi_signal": 0,
         "ao_signal": 0,
         "bollinger_signal": -1,
         "Returns": -0.004079116937285909,
         "Binary Return": 0,
         "_deepnote_index_column": "2019-10-21"
        },
        {
         "Close": 0.291606992483139,
         "macd_signal": 0,
         "aroon_signal": 0,
         "rsi_signal": 0,
         "ao_signal": 0,
         "bollinger_signal": 0,
         "Returns": -0.004682961940622232,
         "Binary Return": 0,
         "_deepnote_index_column": "2019-10-22"
        },
        {
         "Close": 0.2741430103778839,
         "macd_signal": 0,
         "aroon_signal": 0,
         "rsi_signal": 0,
         "ao_signal": 0,
         "bollinger_signal": 0,
         "Returns": -0.05988876314845182,
         "Binary Return": 0,
         "_deepnote_index_column": "2019-10-23"
        },
        {
         "Close": 0.2784909904003143,
         "macd_signal": -1,
         "aroon_signal": 0,
         "rsi_signal": 0,
         "ao_signal": 0,
         "bollinger_signal": 0,
         "Returns": 0.015860262191025765,
         "Binary Return": 1,
         "_deepnote_index_column": "2019-10-24"
        },
        {
         "Close": 0.2981649935245514,
         "macd_signal": 0,
         "aroon_signal": 0,
         "rsi_signal": 0,
         "ao_signal": 0,
         "bollinger_signal": 0,
         "Returns": 0.07064502552113772,
         "Binary Return": 1,
         "_deepnote_index_column": "2019-10-25"
        },
        {
         "Close": 0.2936989963054657,
         "macd_signal": 0,
         "aroon_signal": 0,
         "rsi_signal": 0,
         "ao_signal": 0,
         "bollinger_signal": -1,
         "Returns": -0.014978274834661187,
         "Binary Return": 0,
         "_deepnote_index_column": "2019-10-26"
        },
        {
         "Close": 0.2980999946594238,
         "macd_signal": 0,
         "aroon_signal": 0,
         "rsi_signal": 0,
         "ao_signal": 0,
         "bollinger_signal": 0,
         "Returns": 0.014984723847611514,
         "Binary Return": 1,
         "_deepnote_index_column": "2019-10-27"
        },
        {
         "Close": 0.2960070073604584,
         "macd_signal": 1,
         "aroon_signal": 0,
         "rsi_signal": 0,
         "ao_signal": 0,
         "bollinger_signal": -1,
         "Returns": -0.007021091366863685,
         "Binary Return": 0,
         "_deepnote_index_column": "2019-10-28"
        },
        {
         "Close": 0.3019559979438782,
         "macd_signal": 0,
         "aroon_signal": 0,
         "rsi_signal": 0,
         "ao_signal": 0,
         "bollinger_signal": 0,
         "Returns": 0.020097465382552526,
         "Binary Return": 1,
         "_deepnote_index_column": "2019-10-29"
        },
        {
         "Close": 0.2965550124645233,
         "macd_signal": 0,
         "aroon_signal": 0,
         "rsi_signal": 0,
         "ao_signal": 0,
         "bollinger_signal": -1,
         "Returns": -0.01788666400446426,
         "Binary Return": 0,
         "_deepnote_index_column": "2019-10-30"
        },
        {
         "Close": 0.2963579893112182,
         "macd_signal": 0,
         "aroon_signal": 0,
         "rsi_signal": 0,
         "ao_signal": 0,
         "bollinger_signal": 0,
         "Returns": -0.0006643730337509979,
         "Binary Return": 0,
         "_deepnote_index_column": "2019-10-31"
        },
        {
         "Close": 0.2926419973373413,
         "macd_signal": -1,
         "aroon_signal": 0,
         "rsi_signal": 0,
         "ao_signal": 0,
         "bollinger_signal": 0,
         "Returns": -0.012538862146127538,
         "Binary Return": 0,
         "_deepnote_index_column": "2019-11-01"
        },
        {
         "Close": 0.2962630093097687,
         "macd_signal": 0,
         "aroon_signal": 0,
         "rsi_signal": 0,
         "ao_signal": 0,
         "bollinger_signal": 0,
         "Returns": 0.012373521249081865,
         "Binary Return": 1,
         "_deepnote_index_column": "2019-11-02"
        }
       ],
       "rows_bottom": [
        {
         "Close": 0.8691819906234741,
         "macd_signal": 0,
         "aroon_signal": 0,
         "rsi_signal": 0,
         "ao_signal": 0,
         "bollinger_signal": 0,
         "Returns": -0.055271871683196805,
         "Binary Return": 0,
         "_deepnote_index_column": "2021-06-10"
        },
        {
         "Close": 0.8484500050544739,
         "macd_signal": 0,
         "aroon_signal": 0,
         "rsi_signal": 0,
         "ao_signal": 0,
         "bollinger_signal": 0,
         "Returns": -0.023852295368118392,
         "Binary Return": 0,
         "_deepnote_index_column": "2021-06-11"
        },
        {
         "Close": 0.8326830267906189,
         "macd_signal": 0,
         "aroon_signal": 0,
         "rsi_signal": 0,
         "ao_signal": 0,
         "bollinger_signal": 1,
         "Returns": -0.01858327322756359,
         "Binary Return": 0,
         "_deepnote_index_column": "2021-06-12"
        },
        {
         "Close": 0.8831599950790405,
         "macd_signal": 0,
         "aroon_signal": 0,
         "rsi_signal": 0,
         "ao_signal": 0,
         "bollinger_signal": 1,
         "Returns": 0.06061966758584392,
         "Binary Return": 1,
         "_deepnote_index_column": "2021-06-13"
        },
        {
         "Close": 0.8928970098495483,
         "macd_signal": 0,
         "aroon_signal": 0,
         "rsi_signal": 0,
         "ao_signal": 0,
         "bollinger_signal": 0,
         "Returns": 0.011025199085966664,
         "Binary Return": 1,
         "_deepnote_index_column": "2021-06-14"
        },
        {
         "Close": 0.8898000121116638,
         "macd_signal": 0,
         "aroon_signal": 0,
         "rsi_signal": 0,
         "ao_signal": 0,
         "bollinger_signal": 0,
         "Returns": -0.003468482595105127,
         "Binary Return": 0,
         "_deepnote_index_column": "2021-06-15"
        },
        {
         "Close": 0.8319079875946045,
         "macd_signal": 0,
         "aroon_signal": 0,
         "rsi_signal": 0,
         "ao_signal": 0,
         "bollinger_signal": 0,
         "Returns": -0.06506183831091505,
         "Binary Return": 0,
         "_deepnote_index_column": "2021-06-16"
        },
        {
         "Close": 0.8414379954338074,
         "macd_signal": 0,
         "aroon_signal": 0,
         "rsi_signal": 0,
         "ao_signal": 0,
         "bollinger_signal": 1,
         "Returns": 0.011455603241361079,
         "Binary Return": 1,
         "_deepnote_index_column": "2021-06-17"
        },
        {
         "Close": 0.797648012638092,
         "macd_signal": 0,
         "aroon_signal": 0,
         "rsi_signal": 0,
         "ao_signal": 0,
         "bollinger_signal": 0,
         "Returns": -0.052041841506264785,
         "Binary Return": 0,
         "_deepnote_index_column": "2021-06-18"
        },
        {
         "Close": 0.7616729736328125,
         "macd_signal": 0,
         "aroon_signal": 0,
         "rsi_signal": 0,
         "ao_signal": 0,
         "bollinger_signal": 1,
         "Returns": -0.04510139614878239,
         "Binary Return": 0,
         "_deepnote_index_column": "2021-06-19"
        },
        {
         "Close": 0.7763770222663879,
         "macd_signal": 0,
         "aroon_signal": 0,
         "rsi_signal": 0,
         "ao_signal": 0,
         "bollinger_signal": 1,
         "Returns": 0.019304936820121466,
         "Binary Return": 1,
         "_deepnote_index_column": "2021-06-20"
        },
        {
         "Close": 0.6103879809379578,
         "macd_signal": 0,
         "aroon_signal": 0,
         "rsi_signal": 0,
         "ao_signal": 0,
         "bollinger_signal": 1,
         "Returns": -0.21379952853818052,
         "Binary Return": 0,
         "_deepnote_index_column": "2021-06-21"
        },
        {
         "Close": 0.5450670123100281,
         "macd_signal": -1,
         "aroon_signal": 0,
         "rsi_signal": 0,
         "ao_signal": 0,
         "bollinger_signal": 1,
         "Returns": -0.10701548960311058,
         "Binary Return": 0,
         "_deepnote_index_column": "2021-06-22"
        },
        {
         "Close": 0.6265349984169006,
         "macd_signal": 0,
         "aroon_signal": 0,
         "rsi_signal": -1,
         "ao_signal": 0,
         "bollinger_signal": 1,
         "Returns": 0.14946416544565078,
         "Binary Return": 1,
         "_deepnote_index_column": "2021-06-23"
        },
        {
         "Close": 0.671999990940094,
         "macd_signal": 0,
         "aroon_signal": 0,
         "rsi_signal": 0,
         "ao_signal": 0,
         "bollinger_signal": 1,
         "Returns": 0.07256576669790538,
         "Binary Return": 1,
         "_deepnote_index_column": "2021-06-24"
        },
        {
         "Close": 0.6133229732513428,
         "macd_signal": 0,
         "aroon_signal": 0,
         "rsi_signal": 0,
         "ao_signal": 0,
         "bollinger_signal": 1,
         "Returns": -0.0873169917854687,
         "Binary Return": 0,
         "_deepnote_index_column": "2021-06-25"
        },
        {
         "Close": 0.615435004234314,
         "macd_signal": 0,
         "aroon_signal": 0,
         "rsi_signal": 0,
         "ao_signal": 0,
         "bollinger_signal": 1,
         "Returns": 0.003443586943718824,
         "Binary Return": 1,
         "_deepnote_index_column": "2021-06-26"
        },
        {
         "Close": 0.6469230055809021,
         "macd_signal": 0,
         "aroon_signal": 0,
         "rsi_signal": 0,
         "ao_signal": 0,
         "bollinger_signal": 1,
         "Returns": 0.05116381279898685,
         "Binary Return": 1,
         "_deepnote_index_column": "2021-06-27"
        },
        {
         "Close": 0.643746018409729,
         "macd_signal": 0,
         "aroon_signal": 0,
         "rsi_signal": 0,
         "ao_signal": 0,
         "bollinger_signal": 1,
         "Returns": -0.004910920068950553,
         "Binary Return": 0,
         "_deepnote_index_column": "2021-06-28"
        },
        {
         "Close": 0.7017250061035156,
         "macd_signal": 0,
         "aroon_signal": 0,
         "rsi_signal": 0,
         "ao_signal": 0,
         "bollinger_signal": 0,
         "Returns": 0.09006500395453232,
         "Binary Return": 1,
         "_deepnote_index_column": "2021-06-29"
        },
        {
         "Close": 0.7063739895820618,
         "macd_signal": 1,
         "aroon_signal": 0,
         "rsi_signal": 0,
         "ao_signal": 0,
         "bollinger_signal": 0,
         "Returns": 0.006625078824482378,
         "Binary Return": 1,
         "_deepnote_index_column": "2021-06-30"
        },
        {
         "Close": 0.6611800193786621,
         "macd_signal": 0,
         "aroon_signal": 0,
         "rsi_signal": 0,
         "ao_signal": 0,
         "bollinger_signal": 0,
         "Returns": -0.06398022983567031,
         "Binary Return": 0,
         "_deepnote_index_column": "2021-07-01"
        },
        {
         "Close": 0.6567630171775818,
         "macd_signal": 0,
         "aroon_signal": 0,
         "rsi_signal": 0,
         "ao_signal": 0,
         "bollinger_signal": 0,
         "Returns": -0.00668048348652639,
         "Binary Return": 0,
         "_deepnote_index_column": "2021-07-02"
        },
        {
         "Close": 0.6728879809379578,
         "macd_signal": 0,
         "aroon_signal": 0,
         "rsi_signal": 0,
         "ao_signal": 0,
         "bollinger_signal": 0,
         "Returns": 0.024552179916695893,
         "Binary Return": 1,
         "_deepnote_index_column": "2021-07-03"
        },
        {
         "Close": 0.6949449777603149,
         "macd_signal": 0,
         "aroon_signal": 0,
         "rsi_signal": 0,
         "ao_signal": 0,
         "bollinger_signal": 0,
         "Returns": 0.03277959697186339,
         "Binary Return": 1,
         "_deepnote_index_column": "2021-07-04"
        },
        {
         "Close": 0.6542999744415283,
         "macd_signal": 0,
         "aroon_signal": 0,
         "rsi_signal": 0,
         "ao_signal": 0,
         "bollinger_signal": 0,
         "Returns": -0.058486649475154584,
         "Binary Return": 0,
         "_deepnote_index_column": "2021-07-05"
        },
        {
         "Close": 0.6654019951820374,
         "macd_signal": 0,
         "aroon_signal": 0,
         "rsi_signal": 0,
         "ao_signal": 0,
         "bollinger_signal": 0,
         "Returns": 0.016967784157388976,
         "Binary Return": 1,
         "_deepnote_index_column": "2021-07-06"
        },
        {
         "Close": 0.6515750288963318,
         "macd_signal": 0,
         "aroon_signal": 0,
         "rsi_signal": 0,
         "ao_signal": 0,
         "bollinger_signal": 0,
         "Returns": -0.020779868990207673,
         "Binary Return": 0,
         "_deepnote_index_column": "2021-07-07"
        },
        {
         "Close": 0.623058021068573,
         "macd_signal": 0,
         "aroon_signal": 0,
         "rsi_signal": 0,
         "ao_signal": 0,
         "bollinger_signal": 0,
         "Returns": -0.04376626875351908,
         "Binary Return": 0,
         "_deepnote_index_column": "2021-07-08"
        },
        {
         "Close": 0.6368039846420288,
         "macd_signal": 0,
         "aroon_signal": 0,
         "rsi_signal": 0,
         "ao_signal": 0,
         "bollinger_signal": 0,
         "Returns": 0.022062092307038927,
         "Binary Return": 1,
         "_deepnote_index_column": "2021-07-09"
        },
        {
         "Close": 0.6254630088806152,
         "macd_signal": 0,
         "aroon_signal": 0,
         "rsi_signal": 0,
         "ao_signal": 0,
         "bollinger_signal": 0,
         "Returns": -0.017809209795991987,
         "Binary Return": 0,
         "_deepnote_index_column": "2021-07-10"
        },
        {
         "Close": 0.6359350085258484,
         "macd_signal": 0,
         "aroon_signal": 0,
         "rsi_signal": 0,
         "ao_signal": 0,
         "bollinger_signal": 0,
         "Returns": 0.01674279613110108,
         "Binary Return": 1,
         "_deepnote_index_column": "2021-07-11"
        },
        {
         "Close": 0.6301779747009277,
         "macd_signal": 0,
         "aroon_signal": 0,
         "rsi_signal": 0,
         "ao_signal": 0,
         "bollinger_signal": 0,
         "Returns": -0.009052865069130167,
         "Binary Return": 0,
         "_deepnote_index_column": "2021-07-12"
        },
        {
         "Close": 0.6195229887962341,
         "macd_signal": 0,
         "aroon_signal": 0,
         "rsi_signal": 0,
         "ao_signal": 0,
         "bollinger_signal": 0,
         "Returns": -0.016907899565595352,
         "Binary Return": 0,
         "_deepnote_index_column": "2021-07-13"
        },
        {
         "Close": 0.6203240156173706,
         "macd_signal": 0,
         "aroon_signal": 0,
         "rsi_signal": 0,
         "ao_signal": 0,
         "bollinger_signal": 1,
         "Returns": 0.0012929735225692962,
         "Binary Return": 1,
         "_deepnote_index_column": "2021-07-14"
        },
        {
         "Close": 0.5969409942626953,
         "macd_signal": 0,
         "aroon_signal": 0,
         "rsi_signal": 0,
         "ao_signal": 0,
         "bollinger_signal": 1,
         "Returns": -0.03769485102298287,
         "Binary Return": 0,
         "_deepnote_index_column": "2021-07-15"
        },
        {
         "Close": 0.5907739996910095,
         "macd_signal": 0,
         "aroon_signal": 0,
         "rsi_signal": 0,
         "ao_signal": 0,
         "bollinger_signal": 1,
         "Returns": -0.010330995242340268,
         "Binary Return": 0,
         "_deepnote_index_column": "2021-07-16"
        },
        {
         "Close": 0.582427978515625,
         "macd_signal": 0,
         "aroon_signal": 0,
         "rsi_signal": 0,
         "ao_signal": 0,
         "bollinger_signal": 1,
         "Returns": -0.014127265552901336,
         "Binary Return": 0,
         "_deepnote_index_column": "2021-07-17"
        },
        {
         "Close": 0.5879219770431519,
         "macd_signal": 0,
         "aroon_signal": 0,
         "rsi_signal": 0,
         "ao_signal": 0,
         "bollinger_signal": 1,
         "Returns": 0.009432923434634422,
         "Binary Return": 1,
         "_deepnote_index_column": "2021-07-18"
        },
        {
         "Close": 0.5575559735298157,
         "macd_signal": 0,
         "aroon_signal": 0,
         "rsi_signal": 0,
         "ao_signal": 0,
         "bollinger_signal": 1,
         "Returns": -0.051649716627462317,
         "Binary Return": 0,
         "_deepnote_index_column": "2021-07-19"
        },
        {
         "Close": 0.5293359756469727,
         "macd_signal": 0,
         "aroon_signal": 0,
         "rsi_signal": 0,
         "ao_signal": 0,
         "bollinger_signal": 1,
         "Returns": -0.050613748614665166,
         "Binary Return": 0,
         "_deepnote_index_column": "2021-07-20"
        },
        {
         "Close": 0.569998025894165,
         "macd_signal": -1,
         "aroon_signal": 0,
         "rsi_signal": 0,
         "ao_signal": 0,
         "bollinger_signal": 1,
         "Returns": 0.07681709182432539,
         "Binary Return": 1,
         "_deepnote_index_column": "2021-07-21"
        },
        {
         "Close": 0.5922060012817383,
         "macd_signal": 1,
         "aroon_signal": 0,
         "rsi_signal": 0,
         "ao_signal": 0,
         "bollinger_signal": 1,
         "Returns": 0.03896149526611992,
         "Binary Return": 1,
         "_deepnote_index_column": "2021-07-22"
        },
        {
         "Close": 0.6092240214347839,
         "macd_signal": 0,
         "aroon_signal": 0,
         "rsi_signal": 0,
         "ao_signal": 0,
         "bollinger_signal": 0,
         "Returns": 0.02873665602208142,
         "Binary Return": 1,
         "_deepnote_index_column": "2021-07-23"
        },
        {
         "Close": 0.6098269820213318,
         "macd_signal": 0,
         "aroon_signal": 0,
         "rsi_signal": 0,
         "ao_signal": 0,
         "bollinger_signal": 0,
         "Returns": 0.0009897189955310193,
         "Binary Return": 1,
         "_deepnote_index_column": "2021-07-24"
        },
        {
         "Close": 0.6063569784164429,
         "macd_signal": 0,
         "aroon_signal": 0,
         "rsi_signal": 0,
         "ao_signal": 0,
         "bollinger_signal": 0,
         "Returns": -0.005690144429797539,
         "Binary Return": 0,
         "_deepnote_index_column": "2021-07-25"
        },
        {
         "Close": 0.6256179809570312,
         "macd_signal": 0,
         "aroon_signal": 0,
         "rsi_signal": 0,
         "ao_signal": 0,
         "bollinger_signal": 0,
         "Returns": 0.03176512059099279,
         "Binary Return": 1,
         "_deepnote_index_column": "2021-07-26"
        },
        {
         "Close": 0.6446040272712708,
         "macd_signal": 0,
         "aroon_signal": 0,
         "rsi_signal": 0,
         "ao_signal": 0,
         "bollinger_signal": 0,
         "Returns": 0.03034766725405791,
         "Binary Return": 1,
         "_deepnote_index_column": "2021-07-27"
        },
        {
         "Close": 0.7254449725151062,
         "macd_signal": 0,
         "aroon_signal": 0,
         "rsi_signal": 0,
         "ao_signal": 0,
         "bollinger_signal": -1,
         "Returns": 0.12541179053139073,
         "Binary Return": 1,
         "_deepnote_index_column": "2021-07-28"
        },
        {
         "Close": 0.7480170130729675,
         "macd_signal": 0,
         "aroon_signal": 0,
         "rsi_signal": 0,
         "ao_signal": 1,
         "bollinger_signal": -1,
         "Returns": 0.031114752204573826,
         "Binary Return": 1,
         "_deepnote_index_column": "2021-07-29"
        },
        {
         "Close": 0.7521190047264099,
         "macd_signal": 0,
         "aroon_signal": 0,
         "rsi_signal": 0,
         "ao_signal": 0,
         "bollinger_signal": -1,
         "Returns": 0.005483821332606942,
         "Binary Return": 1,
         "_deepnote_index_column": "2021-07-30"
        },
        {
         "Close": 0.7477859854698181,
         "macd_signal": 0,
         "aroon_signal": 0,
         "rsi_signal": 0,
         "ao_signal": 0,
         "bollinger_signal": -1,
         "Returns": -0.005761081995485529,
         "Binary Return": 0,
         "_deepnote_index_column": "2021-07-31"
        },
        {
         "Close": 0.7259219884872437,
         "macd_signal": 0,
         "aroon_signal": 0,
         "rsi_signal": 0,
         "ao_signal": 0,
         "bollinger_signal": -1,
         "Returns": -0.02923830802851668,
         "Binary Return": 0,
         "_deepnote_index_column": "2021-08-01"
        },
        {
         "Close": 0.7392200231552124,
         "macd_signal": 0,
         "aroon_signal": 0,
         "rsi_signal": 0,
         "ao_signal": 0,
         "bollinger_signal": -1,
         "Returns": 0.01831882058798162,
         "Binary Return": 1,
         "_deepnote_index_column": "2021-08-02"
        },
        {
         "Close": 0.7127289772033691,
         "macd_signal": 0,
         "aroon_signal": 0,
         "rsi_signal": 0,
         "ao_signal": 0,
         "bollinger_signal": -1,
         "Returns": -0.03583648321479649,
         "Binary Return": 0,
         "_deepnote_index_column": "2021-08-03"
        },
        {
         "Close": 0.7304880023002625,
         "macd_signal": 0,
         "aroon_signal": 0,
         "rsi_signal": 0,
         "ao_signal": 0,
         "bollinger_signal": 0,
         "Returns": 0.024916939909721103,
         "Binary Return": 1,
         "_deepnote_index_column": "2021-08-04"
        },
        {
         "Close": 0.7331510186195374,
         "macd_signal": 0,
         "aroon_signal": 0,
         "rsi_signal": 0,
         "ao_signal": 0,
         "bollinger_signal": -1,
         "Returns": 0.0036455305369686997,
         "Binary Return": 1,
         "_deepnote_index_column": "2021-08-05"
        },
        {
         "Close": 0.7465130090713501,
         "macd_signal": 0,
         "aroon_signal": 0,
         "rsi_signal": 0,
         "ao_signal": 0,
         "bollinger_signal": 0,
         "Returns": 0.01822542711182784,
         "Binary Return": 1,
         "_deepnote_index_column": "2021-08-06"
        },
        {
         "Close": 0.8162810206413269,
         "macd_signal": 0,
         "aroon_signal": 0,
         "rsi_signal": 0,
         "ao_signal": 0,
         "bollinger_signal": -1,
         "Returns": 0.09345853417446404,
         "Binary Return": 1,
         "_deepnote_index_column": "2021-08-07"
        },
        {
         "Close": 0.7787389755249023,
         "macd_signal": 0,
         "aroon_signal": 1,
         "rsi_signal": 1,
         "ao_signal": 0,
         "bollinger_signal": -1,
         "Returns": -0.045991569284471345,
         "Binary Return": 0,
         "_deepnote_index_column": "2021-08-08"
        },
        {
         "Close": 0.8185529708862305,
         "macd_signal": 0,
         "aroon_signal": 0,
         "rsi_signal": 0,
         "ao_signal": 0,
         "bollinger_signal": -1,
         "Returns": 0.05112623948800277,
         "Binary Return": 1,
         "_deepnote_index_column": "2021-08-09"
        },
        {
         "Close": 0.8512470126152039,
         "macd_signal": 0,
         "aroon_signal": 0,
         "rsi_signal": 0,
         "ao_signal": 0,
         "bollinger_signal": -1,
         "Returns": 0.039941265735772946,
         "Binary Return": 1,
         "_deepnote_index_column": "2021-08-10"
        },
        {
         "Close": 1.0125240087509155,
         "macd_signal": 0,
         "aroon_signal": 0,
         "rsi_signal": 0,
         "ao_signal": 0,
         "bollinger_signal": -1,
         "Returns": 0.18945969118908979,
         "Binary Return": 1,
         "_deepnote_index_column": "2021-08-11"
        }
       ]
      },
      "text/plain": "               Close  macd_signal  aroon_signal  rsi_signal  ao_signal  \\\nDate                                                                     \n2019-09-02  0.260820            0             0           0          0   \n2019-09-03  0.263139            1             0           1          0   \n2019-09-04  0.259905            0             0           0          0   \n2019-09-05  0.256346            0             0           0          0   \n2019-09-06  0.252340            0             0           0          0   \n...              ...          ...           ...         ...        ...   \n2021-08-07  0.816281            0             0           0          0   \n2021-08-08  0.778739            0             1           1          0   \n2021-08-09  0.818553            0             0           0          0   \n2021-08-10  0.851247            0             0           0          0   \n2021-08-11  1.012524            0             0           0          0   \n\n            bollinger_signal   Returns  Binary Return  \nDate                                                   \n2019-09-02                 0  0.010719              1  \n2019-09-03                 0  0.008891              1  \n2019-09-04                 0 -0.012290              0  \n2019-09-05                 0 -0.013694              0  \n2019-09-06                 0 -0.015627              0  \n...                      ...       ...            ...  \n2021-08-07                -1  0.093459              1  \n2021-08-08                -1 -0.045992              0  \n2021-08-09                -1  0.051126              1  \n2021-08-10                -1  0.039941              1  \n2021-08-11                -1  0.189460              1  \n\n[706 rows x 8 columns]",
      "text/html": "<div>\n<style scoped>\n    .dataframe tbody tr th:only-of-type {\n        vertical-align: middle;\n    }\n\n    .dataframe tbody tr th {\n        vertical-align: top;\n    }\n\n    .dataframe thead th {\n        text-align: right;\n    }\n</style>\n<table border=\"1\" class=\"dataframe\">\n  <thead>\n    <tr style=\"text-align: right;\">\n      <th></th>\n      <th>Close</th>\n      <th>macd_signal</th>\n      <th>aroon_signal</th>\n      <th>rsi_signal</th>\n      <th>ao_signal</th>\n      <th>bollinger_signal</th>\n      <th>Returns</th>\n      <th>Binary Return</th>\n    </tr>\n    <tr>\n      <th>Date</th>\n      <th></th>\n      <th></th>\n      <th></th>\n      <th></th>\n      <th></th>\n      <th></th>\n      <th></th>\n      <th></th>\n    </tr>\n  </thead>\n  <tbody>\n    <tr>\n      <th>2019-09-02</th>\n      <td>0.260820</td>\n      <td>0</td>\n      <td>0</td>\n      <td>0</td>\n      <td>0</td>\n      <td>0</td>\n      <td>0.010719</td>\n      <td>1</td>\n    </tr>\n    <tr>\n      <th>2019-09-03</th>\n      <td>0.263139</td>\n      <td>1</td>\n      <td>0</td>\n      <td>1</td>\n      <td>0</td>\n      <td>0</td>\n      <td>0.008891</td>\n      <td>1</td>\n    </tr>\n    <tr>\n      <th>2019-09-04</th>\n      <td>0.259905</td>\n      <td>0</td>\n      <td>0</td>\n      <td>0</td>\n      <td>0</td>\n      <td>0</td>\n      <td>-0.012290</td>\n      <td>0</td>\n    </tr>\n    <tr>\n      <th>2019-09-05</th>\n      <td>0.256346</td>\n      <td>0</td>\n      <td>0</td>\n      <td>0</td>\n      <td>0</td>\n      <td>0</td>\n      <td>-0.013694</td>\n      <td>0</td>\n    </tr>\n    <tr>\n      <th>2019-09-06</th>\n      <td>0.252340</td>\n      <td>0</td>\n      <td>0</td>\n      <td>0</td>\n      <td>0</td>\n      <td>0</td>\n      <td>-0.015627</td>\n      <td>0</td>\n    </tr>\n    <tr>\n      <th>...</th>\n      <td>...</td>\n      <td>...</td>\n      <td>...</td>\n      <td>...</td>\n      <td>...</td>\n      <td>...</td>\n      <td>...</td>\n      <td>...</td>\n    </tr>\n    <tr>\n      <th>2021-08-07</th>\n      <td>0.816281</td>\n      <td>0</td>\n      <td>0</td>\n      <td>0</td>\n      <td>0</td>\n      <td>-1</td>\n      <td>0.093459</td>\n      <td>1</td>\n    </tr>\n    <tr>\n      <th>2021-08-08</th>\n      <td>0.778739</td>\n      <td>0</td>\n      <td>1</td>\n      <td>1</td>\n      <td>0</td>\n      <td>-1</td>\n      <td>-0.045992</td>\n      <td>0</td>\n    </tr>\n    <tr>\n      <th>2021-08-09</th>\n      <td>0.818553</td>\n      <td>0</td>\n      <td>0</td>\n      <td>0</td>\n      <td>0</td>\n      <td>-1</td>\n      <td>0.051126</td>\n      <td>1</td>\n    </tr>\n    <tr>\n      <th>2021-08-10</th>\n      <td>0.851247</td>\n      <td>0</td>\n      <td>0</td>\n      <td>0</td>\n      <td>0</td>\n      <td>-1</td>\n      <td>0.039941</td>\n      <td>1</td>\n    </tr>\n    <tr>\n      <th>2021-08-11</th>\n      <td>1.012524</td>\n      <td>0</td>\n      <td>0</td>\n      <td>0</td>\n      <td>0</td>\n      <td>-1</td>\n      <td>0.189460</td>\n      <td>1</td>\n    </tr>\n  </tbody>\n</table>\n<p>706 rows × 8 columns</p>\n</div>"
     },
     "metadata": {}
    }
   ]
  },
  {
   "cell_type": "code",
   "metadata": {
    "tags": [],
    "cell_id": "00009-3226bfaa-872d-42ad-a186-e8f30f67a053",
    "deepnote_to_be_reexecuted": false,
    "source_hash": "c1eb6bc7",
    "execution_start": 1629331301198,
    "execution_millis": 9,
    "deepnote_cell_type": "code"
   },
   "source": "combined_signals_df.to_csv('XRP_Daily_signals_df')",
   "execution_count": null,
   "outputs": []
  },
  {
   "cell_type": "code",
   "metadata": {
    "tags": [],
    "deepnote_to_be_reexecuted": false,
    "source_hash": "1c95b88f",
    "execution_start": 1629320760094,
    "execution_millis": 1,
    "cell_id": "00009-ad9a3a65-b748-4d51-a300-ee4e0e3c8fce",
    "deepnote_cell_type": "code"
   },
   "source": "# Construct training start and end dates\ntraining_start = combined_signals_df.index.min()\ntraining_end = '2021-08-10'\n\n# Construct testing start and end dates\ntesting_start =  '2019-09-01'\ntesting_end = combined_signals_df.index[-2]\n\n# Print training and testing start/end dates\nprint(f\"Training Start: {training_start}\")\nprint(f\"Training End: {training_end}\")\nprint(f\"Testing Start: {testing_start}\")\nprint(f\"Testing End: {testing_end}\")",
   "execution_count": null,
   "outputs": [
    {
     "name": "stdout",
     "text": "Training Start: 2019-09-02\nTraining End: 2021-08-10\nTesting Start: 2019-09-01\nTesting End: 2021-08-10\n",
     "output_type": "stream"
    }
   ]
  },
  {
   "cell_type": "code",
   "metadata": {
    "tags": [],
    "deepnote_to_be_reexecuted": false,
    "source_hash": "dfa781a7",
    "execution_start": 1629320760095,
    "execution_millis": 10,
    "cell_id": "00010-ff264a7f-e629-409e-94cc-00406bfa45a0",
    "deepnote_cell_type": "code"
   },
   "source": "# Construct the X_train and y_train datasets\nX_train = combined_signals_df[['aroon_signal','macd_signal','rsi_signal','ao_signal','bollinger_signal']][training_start:training_end]\ny_train = combined_signals_df['Binary Return'][training_start:training_end]\n\nX_train.tail()",
   "execution_count": null,
   "outputs": [
    {
     "output_type": "execute_result",
     "execution_count": 11,
     "data": {
      "application/vnd.deepnote.dataframe.v2+json": {
       "row_count": 5,
       "column_count": 5,
       "columns": [
        {
         "name": "aroon_signal",
         "dtype": "int64",
         "stats": {
          "unique_count": 2,
          "nan_count": 0,
          "min": "0",
          "max": "1",
          "histogram": [
           {
            "bin_start": 0,
            "bin_end": 0.1,
            "count": 4
           },
           {
            "bin_start": 0.1,
            "bin_end": 0.2,
            "count": 0
           },
           {
            "bin_start": 0.2,
            "bin_end": 0.30000000000000004,
            "count": 0
           },
           {
            "bin_start": 0.30000000000000004,
            "bin_end": 0.4,
            "count": 0
           },
           {
            "bin_start": 0.4,
            "bin_end": 0.5,
            "count": 0
           },
           {
            "bin_start": 0.5,
            "bin_end": 0.6000000000000001,
            "count": 0
           },
           {
            "bin_start": 0.6000000000000001,
            "bin_end": 0.7000000000000001,
            "count": 0
           },
           {
            "bin_start": 0.7000000000000001,
            "bin_end": 0.8,
            "count": 0
           },
           {
            "bin_start": 0.8,
            "bin_end": 0.9,
            "count": 0
           },
           {
            "bin_start": 0.9,
            "bin_end": 1,
            "count": 1
           }
          ]
         }
        },
        {
         "name": "macd_signal",
         "dtype": "int64",
         "stats": {
          "unique_count": 1,
          "nan_count": 0,
          "min": "0",
          "max": "0",
          "histogram": [
           {
            "bin_start": -0.5,
            "bin_end": -0.4,
            "count": 0
           },
           {
            "bin_start": -0.4,
            "bin_end": -0.3,
            "count": 0
           },
           {
            "bin_start": -0.3,
            "bin_end": -0.19999999999999996,
            "count": 0
           },
           {
            "bin_start": -0.19999999999999996,
            "bin_end": -0.09999999999999998,
            "count": 0
           },
           {
            "bin_start": -0.09999999999999998,
            "bin_end": 0,
            "count": 0
           },
           {
            "bin_start": 0,
            "bin_end": 0.10000000000000009,
            "count": 5
           },
           {
            "bin_start": 0.10000000000000009,
            "bin_end": 0.20000000000000007,
            "count": 0
           },
           {
            "bin_start": 0.20000000000000007,
            "bin_end": 0.30000000000000004,
            "count": 0
           },
           {
            "bin_start": 0.30000000000000004,
            "bin_end": 0.4,
            "count": 0
           },
           {
            "bin_start": 0.4,
            "bin_end": 0.5,
            "count": 0
           }
          ]
         }
        },
        {
         "name": "rsi_signal",
         "dtype": "int64",
         "stats": {
          "unique_count": 2,
          "nan_count": 0,
          "min": "0",
          "max": "1",
          "histogram": [
           {
            "bin_start": 0,
            "bin_end": 0.1,
            "count": 4
           },
           {
            "bin_start": 0.1,
            "bin_end": 0.2,
            "count": 0
           },
           {
            "bin_start": 0.2,
            "bin_end": 0.30000000000000004,
            "count": 0
           },
           {
            "bin_start": 0.30000000000000004,
            "bin_end": 0.4,
            "count": 0
           },
           {
            "bin_start": 0.4,
            "bin_end": 0.5,
            "count": 0
           },
           {
            "bin_start": 0.5,
            "bin_end": 0.6000000000000001,
            "count": 0
           },
           {
            "bin_start": 0.6000000000000001,
            "bin_end": 0.7000000000000001,
            "count": 0
           },
           {
            "bin_start": 0.7000000000000001,
            "bin_end": 0.8,
            "count": 0
           },
           {
            "bin_start": 0.8,
            "bin_end": 0.9,
            "count": 0
           },
           {
            "bin_start": 0.9,
            "bin_end": 1,
            "count": 1
           }
          ]
         }
        },
        {
         "name": "ao_signal",
         "dtype": "int64",
         "stats": {
          "unique_count": 1,
          "nan_count": 0,
          "min": "0",
          "max": "0",
          "histogram": [
           {
            "bin_start": -0.5,
            "bin_end": -0.4,
            "count": 0
           },
           {
            "bin_start": -0.4,
            "bin_end": -0.3,
            "count": 0
           },
           {
            "bin_start": -0.3,
            "bin_end": -0.19999999999999996,
            "count": 0
           },
           {
            "bin_start": -0.19999999999999996,
            "bin_end": -0.09999999999999998,
            "count": 0
           },
           {
            "bin_start": -0.09999999999999998,
            "bin_end": 0,
            "count": 0
           },
           {
            "bin_start": 0,
            "bin_end": 0.10000000000000009,
            "count": 5
           },
           {
            "bin_start": 0.10000000000000009,
            "bin_end": 0.20000000000000007,
            "count": 0
           },
           {
            "bin_start": 0.20000000000000007,
            "bin_end": 0.30000000000000004,
            "count": 0
           },
           {
            "bin_start": 0.30000000000000004,
            "bin_end": 0.4,
            "count": 0
           },
           {
            "bin_start": 0.4,
            "bin_end": 0.5,
            "count": 0
           }
          ]
         }
        },
        {
         "name": "bollinger_signal",
         "dtype": "int64",
         "stats": {
          "unique_count": 2,
          "nan_count": 0,
          "min": "-1",
          "max": "0",
          "histogram": [
           {
            "bin_start": -1,
            "bin_end": -0.9,
            "count": 4
           },
           {
            "bin_start": -0.9,
            "bin_end": -0.8,
            "count": 0
           },
           {
            "bin_start": -0.8,
            "bin_end": -0.7,
            "count": 0
           },
           {
            "bin_start": -0.7,
            "bin_end": -0.6,
            "count": 0
           },
           {
            "bin_start": -0.6,
            "bin_end": -0.5,
            "count": 0
           },
           {
            "bin_start": -0.5,
            "bin_end": -0.3999999999999999,
            "count": 0
           },
           {
            "bin_start": -0.3999999999999999,
            "bin_end": -0.29999999999999993,
            "count": 0
           },
           {
            "bin_start": -0.29999999999999993,
            "bin_end": -0.19999999999999996,
            "count": 0
           },
           {
            "bin_start": -0.19999999999999996,
            "bin_end": -0.09999999999999998,
            "count": 0
           },
           {
            "bin_start": -0.09999999999999998,
            "bin_end": 0,
            "count": 1
           }
          ]
         }
        },
        {
         "name": "_deepnote_index_column",
         "dtype": "object"
        }
       ],
       "rows_top": [
        {
         "aroon_signal": 0,
         "macd_signal": 0,
         "rsi_signal": 0,
         "ao_signal": 0,
         "bollinger_signal": 0,
         "_deepnote_index_column": "2021-08-06"
        },
        {
         "aroon_signal": 0,
         "macd_signal": 0,
         "rsi_signal": 0,
         "ao_signal": 0,
         "bollinger_signal": -1,
         "_deepnote_index_column": "2021-08-07"
        },
        {
         "aroon_signal": 1,
         "macd_signal": 0,
         "rsi_signal": 1,
         "ao_signal": 0,
         "bollinger_signal": -1,
         "_deepnote_index_column": "2021-08-08"
        },
        {
         "aroon_signal": 0,
         "macd_signal": 0,
         "rsi_signal": 0,
         "ao_signal": 0,
         "bollinger_signal": -1,
         "_deepnote_index_column": "2021-08-09"
        },
        {
         "aroon_signal": 0,
         "macd_signal": 0,
         "rsi_signal": 0,
         "ao_signal": 0,
         "bollinger_signal": -1,
         "_deepnote_index_column": "2021-08-10"
        }
       ],
       "rows_bottom": null
      },
      "text/plain": "            aroon_signal  macd_signal  rsi_signal  ao_signal  bollinger_signal\nDate                                                                          \n2021-08-06             0            0           0          0                 0\n2021-08-07             0            0           0          0                -1\n2021-08-08             1            0           1          0                -1\n2021-08-09             0            0           0          0                -1\n2021-08-10             0            0           0          0                -1",
      "text/html": "<div>\n<style scoped>\n    .dataframe tbody tr th:only-of-type {\n        vertical-align: middle;\n    }\n\n    .dataframe tbody tr th {\n        vertical-align: top;\n    }\n\n    .dataframe thead th {\n        text-align: right;\n    }\n</style>\n<table border=\"1\" class=\"dataframe\">\n  <thead>\n    <tr style=\"text-align: right;\">\n      <th></th>\n      <th>aroon_signal</th>\n      <th>macd_signal</th>\n      <th>rsi_signal</th>\n      <th>ao_signal</th>\n      <th>bollinger_signal</th>\n    </tr>\n    <tr>\n      <th>Date</th>\n      <th></th>\n      <th></th>\n      <th></th>\n      <th></th>\n      <th></th>\n    </tr>\n  </thead>\n  <tbody>\n    <tr>\n      <th>2021-08-06</th>\n      <td>0</td>\n      <td>0</td>\n      <td>0</td>\n      <td>0</td>\n      <td>0</td>\n    </tr>\n    <tr>\n      <th>2021-08-07</th>\n      <td>0</td>\n      <td>0</td>\n      <td>0</td>\n      <td>0</td>\n      <td>-1</td>\n    </tr>\n    <tr>\n      <th>2021-08-08</th>\n      <td>1</td>\n      <td>0</td>\n      <td>1</td>\n      <td>0</td>\n      <td>-1</td>\n    </tr>\n    <tr>\n      <th>2021-08-09</th>\n      <td>0</td>\n      <td>0</td>\n      <td>0</td>\n      <td>0</td>\n      <td>-1</td>\n    </tr>\n    <tr>\n      <th>2021-08-10</th>\n      <td>0</td>\n      <td>0</td>\n      <td>0</td>\n      <td>0</td>\n      <td>-1</td>\n    </tr>\n  </tbody>\n</table>\n</div>"
     },
     "metadata": {}
    }
   ]
  },
  {
   "cell_type": "code",
   "metadata": {
    "tags": [],
    "deepnote_to_be_reexecuted": false,
    "source_hash": "3e6db44",
    "execution_start": 1629320760114,
    "execution_millis": 43,
    "cell_id": "00011-5dd17f2f-daca-47eb-b8a7-ddb235f10ee7",
    "deepnote_cell_type": "code"
   },
   "source": "# Construct the X test and y test datasets\nX_test = combined_signals_df[['aroon_signal','macd_signal','rsi_signal','ao_signal','bollinger_signal']][testing_start:testing_end]\ny_test = combined_signals_df['Binary Return'][testing_start:testing_end]\n\nX_test.tail()",
   "execution_count": null,
   "outputs": [
    {
     "output_type": "execute_result",
     "execution_count": 12,
     "data": {
      "application/vnd.deepnote.dataframe.v2+json": {
       "row_count": 5,
       "column_count": 5,
       "columns": [
        {
         "name": "aroon_signal",
         "dtype": "int64",
         "stats": {
          "unique_count": 2,
          "nan_count": 0,
          "min": "0",
          "max": "1",
          "histogram": [
           {
            "bin_start": 0,
            "bin_end": 0.1,
            "count": 4
           },
           {
            "bin_start": 0.1,
            "bin_end": 0.2,
            "count": 0
           },
           {
            "bin_start": 0.2,
            "bin_end": 0.30000000000000004,
            "count": 0
           },
           {
            "bin_start": 0.30000000000000004,
            "bin_end": 0.4,
            "count": 0
           },
           {
            "bin_start": 0.4,
            "bin_end": 0.5,
            "count": 0
           },
           {
            "bin_start": 0.5,
            "bin_end": 0.6000000000000001,
            "count": 0
           },
           {
            "bin_start": 0.6000000000000001,
            "bin_end": 0.7000000000000001,
            "count": 0
           },
           {
            "bin_start": 0.7000000000000001,
            "bin_end": 0.8,
            "count": 0
           },
           {
            "bin_start": 0.8,
            "bin_end": 0.9,
            "count": 0
           },
           {
            "bin_start": 0.9,
            "bin_end": 1,
            "count": 1
           }
          ]
         }
        },
        {
         "name": "macd_signal",
         "dtype": "int64",
         "stats": {
          "unique_count": 1,
          "nan_count": 0,
          "min": "0",
          "max": "0",
          "histogram": [
           {
            "bin_start": -0.5,
            "bin_end": -0.4,
            "count": 0
           },
           {
            "bin_start": -0.4,
            "bin_end": -0.3,
            "count": 0
           },
           {
            "bin_start": -0.3,
            "bin_end": -0.19999999999999996,
            "count": 0
           },
           {
            "bin_start": -0.19999999999999996,
            "bin_end": -0.09999999999999998,
            "count": 0
           },
           {
            "bin_start": -0.09999999999999998,
            "bin_end": 0,
            "count": 0
           },
           {
            "bin_start": 0,
            "bin_end": 0.10000000000000009,
            "count": 5
           },
           {
            "bin_start": 0.10000000000000009,
            "bin_end": 0.20000000000000007,
            "count": 0
           },
           {
            "bin_start": 0.20000000000000007,
            "bin_end": 0.30000000000000004,
            "count": 0
           },
           {
            "bin_start": 0.30000000000000004,
            "bin_end": 0.4,
            "count": 0
           },
           {
            "bin_start": 0.4,
            "bin_end": 0.5,
            "count": 0
           }
          ]
         }
        },
        {
         "name": "rsi_signal",
         "dtype": "int64",
         "stats": {
          "unique_count": 2,
          "nan_count": 0,
          "min": "0",
          "max": "1",
          "histogram": [
           {
            "bin_start": 0,
            "bin_end": 0.1,
            "count": 4
           },
           {
            "bin_start": 0.1,
            "bin_end": 0.2,
            "count": 0
           },
           {
            "bin_start": 0.2,
            "bin_end": 0.30000000000000004,
            "count": 0
           },
           {
            "bin_start": 0.30000000000000004,
            "bin_end": 0.4,
            "count": 0
           },
           {
            "bin_start": 0.4,
            "bin_end": 0.5,
            "count": 0
           },
           {
            "bin_start": 0.5,
            "bin_end": 0.6000000000000001,
            "count": 0
           },
           {
            "bin_start": 0.6000000000000001,
            "bin_end": 0.7000000000000001,
            "count": 0
           },
           {
            "bin_start": 0.7000000000000001,
            "bin_end": 0.8,
            "count": 0
           },
           {
            "bin_start": 0.8,
            "bin_end": 0.9,
            "count": 0
           },
           {
            "bin_start": 0.9,
            "bin_end": 1,
            "count": 1
           }
          ]
         }
        },
        {
         "name": "ao_signal",
         "dtype": "int64",
         "stats": {
          "unique_count": 1,
          "nan_count": 0,
          "min": "0",
          "max": "0",
          "histogram": [
           {
            "bin_start": -0.5,
            "bin_end": -0.4,
            "count": 0
           },
           {
            "bin_start": -0.4,
            "bin_end": -0.3,
            "count": 0
           },
           {
            "bin_start": -0.3,
            "bin_end": -0.19999999999999996,
            "count": 0
           },
           {
            "bin_start": -0.19999999999999996,
            "bin_end": -0.09999999999999998,
            "count": 0
           },
           {
            "bin_start": -0.09999999999999998,
            "bin_end": 0,
            "count": 0
           },
           {
            "bin_start": 0,
            "bin_end": 0.10000000000000009,
            "count": 5
           },
           {
            "bin_start": 0.10000000000000009,
            "bin_end": 0.20000000000000007,
            "count": 0
           },
           {
            "bin_start": 0.20000000000000007,
            "bin_end": 0.30000000000000004,
            "count": 0
           },
           {
            "bin_start": 0.30000000000000004,
            "bin_end": 0.4,
            "count": 0
           },
           {
            "bin_start": 0.4,
            "bin_end": 0.5,
            "count": 0
           }
          ]
         }
        },
        {
         "name": "bollinger_signal",
         "dtype": "int64",
         "stats": {
          "unique_count": 2,
          "nan_count": 0,
          "min": "-1",
          "max": "0",
          "histogram": [
           {
            "bin_start": -1,
            "bin_end": -0.9,
            "count": 4
           },
           {
            "bin_start": -0.9,
            "bin_end": -0.8,
            "count": 0
           },
           {
            "bin_start": -0.8,
            "bin_end": -0.7,
            "count": 0
           },
           {
            "bin_start": -0.7,
            "bin_end": -0.6,
            "count": 0
           },
           {
            "bin_start": -0.6,
            "bin_end": -0.5,
            "count": 0
           },
           {
            "bin_start": -0.5,
            "bin_end": -0.3999999999999999,
            "count": 0
           },
           {
            "bin_start": -0.3999999999999999,
            "bin_end": -0.29999999999999993,
            "count": 0
           },
           {
            "bin_start": -0.29999999999999993,
            "bin_end": -0.19999999999999996,
            "count": 0
           },
           {
            "bin_start": -0.19999999999999996,
            "bin_end": -0.09999999999999998,
            "count": 0
           },
           {
            "bin_start": -0.09999999999999998,
            "bin_end": 0,
            "count": 1
           }
          ]
         }
        },
        {
         "name": "_deepnote_index_column",
         "dtype": "object"
        }
       ],
       "rows_top": [
        {
         "aroon_signal": 0,
         "macd_signal": 0,
         "rsi_signal": 0,
         "ao_signal": 0,
         "bollinger_signal": 0,
         "_deepnote_index_column": "2021-08-06"
        },
        {
         "aroon_signal": 0,
         "macd_signal": 0,
         "rsi_signal": 0,
         "ao_signal": 0,
         "bollinger_signal": -1,
         "_deepnote_index_column": "2021-08-07"
        },
        {
         "aroon_signal": 1,
         "macd_signal": 0,
         "rsi_signal": 1,
         "ao_signal": 0,
         "bollinger_signal": -1,
         "_deepnote_index_column": "2021-08-08"
        },
        {
         "aroon_signal": 0,
         "macd_signal": 0,
         "rsi_signal": 0,
         "ao_signal": 0,
         "bollinger_signal": -1,
         "_deepnote_index_column": "2021-08-09"
        },
        {
         "aroon_signal": 0,
         "macd_signal": 0,
         "rsi_signal": 0,
         "ao_signal": 0,
         "bollinger_signal": -1,
         "_deepnote_index_column": "2021-08-10"
        }
       ],
       "rows_bottom": null
      },
      "text/plain": "            aroon_signal  macd_signal  rsi_signal  ao_signal  bollinger_signal\nDate                                                                          \n2021-08-06             0            0           0          0                 0\n2021-08-07             0            0           0          0                -1\n2021-08-08             1            0           1          0                -1\n2021-08-09             0            0           0          0                -1\n2021-08-10             0            0           0          0                -1",
      "text/html": "<div>\n<style scoped>\n    .dataframe tbody tr th:only-of-type {\n        vertical-align: middle;\n    }\n\n    .dataframe tbody tr th {\n        vertical-align: top;\n    }\n\n    .dataframe thead th {\n        text-align: right;\n    }\n</style>\n<table border=\"1\" class=\"dataframe\">\n  <thead>\n    <tr style=\"text-align: right;\">\n      <th></th>\n      <th>aroon_signal</th>\n      <th>macd_signal</th>\n      <th>rsi_signal</th>\n      <th>ao_signal</th>\n      <th>bollinger_signal</th>\n    </tr>\n    <tr>\n      <th>Date</th>\n      <th></th>\n      <th></th>\n      <th></th>\n      <th></th>\n      <th></th>\n    </tr>\n  </thead>\n  <tbody>\n    <tr>\n      <th>2021-08-06</th>\n      <td>0</td>\n      <td>0</td>\n      <td>0</td>\n      <td>0</td>\n      <td>0</td>\n    </tr>\n    <tr>\n      <th>2021-08-07</th>\n      <td>0</td>\n      <td>0</td>\n      <td>0</td>\n      <td>0</td>\n      <td>-1</td>\n    </tr>\n    <tr>\n      <th>2021-08-08</th>\n      <td>1</td>\n      <td>0</td>\n      <td>1</td>\n      <td>0</td>\n      <td>-1</td>\n    </tr>\n    <tr>\n      <th>2021-08-09</th>\n      <td>0</td>\n      <td>0</td>\n      <td>0</td>\n      <td>0</td>\n      <td>-1</td>\n    </tr>\n    <tr>\n      <th>2021-08-10</th>\n      <td>0</td>\n      <td>0</td>\n      <td>0</td>\n      <td>0</td>\n      <td>-1</td>\n    </tr>\n  </tbody>\n</table>\n</div>"
     },
     "metadata": {}
    }
   ]
  },
  {
   "cell_type": "code",
   "metadata": {
    "tags": [],
    "deepnote_to_be_reexecuted": false,
    "source_hash": "c6082dc1",
    "execution_start": 1629320760141,
    "execution_millis": 253,
    "cell_id": "00012-831345be-ee6e-480a-8b33-98947b5d9d89",
    "deepnote_cell_type": "code"
   },
   "source": "# Fit a SKLearn linear regression using just the training set (X_train, Y_train):\nmodel = RandomForestClassifier(n_estimators=100, max_depth=3, random_state=0)\nmodel.fit(X_train, y_train)\n\n# Make a prediction of \"y\" values from the X_test dataset\npredictions = model.predict(X_test)\n\n# Assemble actual y data (Y_test) with predicted y data (from just above) into two columns in a dataframe:\nResults = y_test.to_frame()\nResults[\"Predicted Value\"] = predictions\nResults",
   "execution_count": null,
   "outputs": []
  },
  {
   "cell_type": "code",
   "metadata": {
    "tags": [],
    "deepnote_to_be_reexecuted": false,
    "source_hash": "c899529d",
    "execution_start": 1629320760405,
    "execution_millis": 26,
    "cell_id": "00013-003dc9e5-c891-4228-8fa0-65f9fec7f558",
    "deepnote_cell_type": "code"
   },
   "source": "predictions = model.predict(X_test)\npredictions",
   "execution_count": null,
   "outputs": [
    {
     "output_type": "execute_result",
     "execution_count": 14,
     "data": {
      "text/plain": "array([1, 1, 1, 1, 1, 1, 1, 0, 1, 1, 1, 1, 1, 1, 0, 1, 1, 1, 1, 1, 1, 1,\n       1, 1, 1, 1, 1, 1, 1, 1, 1, 1, 1, 1, 1, 1, 0, 1, 0, 1, 1, 1, 1, 0,\n       1, 1, 1, 1, 1, 1, 1, 1, 1, 1, 1, 1, 0, 1, 1, 1, 1, 1, 1, 1, 1, 1,\n       0, 1, 1, 1, 1, 1, 1, 1, 1, 1, 1, 1, 1, 1, 1, 1, 1, 1, 1, 1, 1, 1,\n       1, 1, 1, 1, 1, 1, 1, 0, 1, 1, 1, 1, 1, 1, 1, 1, 1, 1, 1, 1, 1, 1,\n       1, 1, 1, 1, 1, 1, 1, 1, 1, 1, 1, 1, 1, 1, 1, 1, 1, 0, 1, 0, 1, 1,\n       1, 1, 1, 1, 1, 1, 1, 1, 1, 1, 1, 1, 1, 1, 1, 1, 1, 1, 1, 0, 1, 1,\n       1, 1, 1, 1, 1, 1, 1, 1, 1, 1, 1, 1, 1, 1, 1, 1, 1, 1, 1, 1, 1, 1,\n       1, 1, 1, 1, 1, 1, 1, 1, 1, 1, 1, 1, 1, 1, 1, 1, 1, 1, 1, 1, 1, 1,\n       1, 1, 1, 1, 1, 0, 1, 1, 1, 1, 1, 1, 1, 1, 1, 1, 1, 1, 1, 0, 0, 1,\n       1, 1, 1, 1, 1, 1, 1, 1, 1, 1, 1, 1, 1, 1, 1, 1, 1, 1, 1, 1, 1, 1,\n       1, 1, 1, 1, 1, 1, 1, 1, 1, 1, 1, 1, 1, 1, 1, 1, 1, 1, 1, 1, 1, 1,\n       1, 1, 1, 1, 1, 1, 1, 0, 1, 1, 1, 1, 1, 0, 1, 1, 1, 1, 1, 1, 1, 1,\n       1, 1, 1, 1, 1, 1, 1, 1, 1, 1, 1, 1, 1, 1, 1, 1, 1, 1, 1, 1, 1, 1,\n       0, 1, 1, 0, 1, 1, 1, 1, 1, 1, 1, 1, 1, 1, 1, 1, 1, 0, 1, 1, 1, 1,\n       1, 1, 1, 1, 1, 1, 1, 1, 1, 1, 1, 1, 1, 1, 1, 1, 1, 1, 1, 1, 1, 1,\n       1, 1, 1, 1, 1, 1, 1, 1, 1, 1, 1, 1, 1, 1, 1, 1, 1, 1, 1, 1, 1, 1,\n       1, 1, 1, 1, 1, 1, 1, 0, 1, 1, 1, 1, 1, 1, 1, 1, 0, 1, 1, 1, 1, 1,\n       1, 1, 1, 1, 1, 0, 1, 1, 1, 0, 1, 1, 1, 1, 0, 1, 0, 0, 1, 1, 1, 1,\n       1, 1, 1, 1, 1, 1, 1, 1, 1, 1, 0, 1, 0, 1, 1, 1, 1, 1, 1, 1, 1, 1,\n       1, 1, 1, 1, 1, 1, 1, 1, 1, 1, 1, 1, 1, 1, 1, 1, 1, 1, 1, 1, 1, 1,\n       1, 1, 1, 1, 1, 1, 1, 1, 1, 1, 1, 1, 1, 1, 1, 1, 1, 1, 1, 1, 1, 1,\n       1, 1, 1, 1, 1, 1, 0, 1, 1, 1, 1, 1, 1, 1, 1, 1, 1, 1, 1, 1, 1, 1,\n       1, 1, 1, 1, 1, 1, 1, 0, 1, 1, 1, 1, 1, 1, 1, 1, 1, 1, 1, 1, 1, 1,\n       1, 1, 1, 1, 1, 1, 1, 1, 1, 1, 1, 1, 1, 1, 1, 1, 1, 1, 1, 1, 1, 1,\n       1, 1, 1, 1, 1, 1, 1, 1, 1, 1, 0, 1, 0, 0, 1, 1, 1, 1, 1, 1, 1, 1,\n       1, 1, 1, 1, 1, 1, 1, 1, 1, 1, 1, 1, 1, 1, 1, 1, 1, 1, 1, 1, 1, 1,\n       1, 1, 1, 1, 1, 1, 1, 1, 1, 1, 0, 1, 1, 1, 1, 0, 0, 1, 1, 1, 1, 1,\n       1, 1, 1, 1, 1, 0, 1, 0, 1, 1, 1, 1, 1, 1, 1, 1, 1, 1, 1, 1, 0, 1,\n       1, 1, 1, 1, 1, 1, 1, 1, 1, 1, 1, 1, 1, 1, 1, 1, 1, 1, 1, 1, 1, 1,\n       1, 1, 1, 0, 1, 1, 1, 1, 1, 1, 1, 1, 1, 1, 1, 1, 1, 1, 1, 1, 1, 1,\n       1, 1, 1, 1, 1, 1, 1, 1, 1, 1, 0, 1, 1, 1, 1, 1, 1, 1, 1, 1, 0, 1,\n       1])"
     },
     "metadata": {}
    }
   ]
  },
  {
   "cell_type": "code",
   "metadata": {
    "tags": [],
    "deepnote_to_be_reexecuted": false,
    "source_hash": "5ab665ff",
    "execution_start": 1629320760435,
    "execution_millis": 849,
    "cell_id": "00014-2a69f191-c28e-4707-afc1-21b58a58f22b",
    "deepnote_cell_type": "code"
   },
   "source": "# Plot predicted results vs. actual results\nResults[['Binary Return', 'Predicted Value']].plot(figsize=(20,10))",
   "execution_count": null,
   "outputs": [
    {
     "output_type": "execute_result",
     "execution_count": 15,
     "data": {
      "text/plain": "<AxesSubplot:xlabel='Date'>"
     },
     "metadata": {}
    },
    {
     "data": {
      "text/plain": "<Figure size 1440x720 with 1 Axes>",
      "image/png": "[encoded data removed]"
     },
     "metadata": {
      "needs_background": "light",
      "image/png": {
       "width": 1153,
       "height": 589
      }
     },
     "output_type": "display_data"
    }
   ]
  },
  {
   "cell_type": "code",
   "metadata": {
    "tags": [],
    "deepnote_to_be_reexecuted": false,
    "source_hash": "7dab8804",
    "execution_start": 1629320761355,
    "execution_millis": 229,
    "cell_id": "00015-97a90232-c810-4186-9082-823293ee5ac2",
    "deepnote_cell_type": "code"
   },
   "source": "# Plot last 10 records of predicted vs. actual results\nResults[['Binary Return', 'Predicted Value']].tail(10).plot()",
   "execution_count": null,
   "outputs": [
    {
     "output_type": "execute_result",
     "execution_count": 16,
     "data": {
      "text/plain": "<AxesSubplot:xlabel='Date'>"
     },
     "metadata": {}
    },
    {
     "data": {
      "text/plain": "<Figure size 432x288 with 1 Axes>",
      "image/png": "[encoded data removed]"
     },
     "metadata": {
      "needs_background": "light",
      "image/png": {
       "width": 372,
       "height": 262
      }
     },
     "output_type": "display_data"
    }
   ]
  },
  {
   "cell_type": "code",
   "metadata": {
    "tags": [],
    "deepnote_to_be_reexecuted": false,
    "source_hash": "24719521",
    "execution_start": 1629320761590,
    "execution_millis": 51,
    "cell_id": "00016-30917f0f-da91-4068-941a-6e58fcb5db5f",
    "deepnote_cell_type": "code"
   },
   "source": "# Replace predicted values 0 to -1 to account for shorting\nResults['Predicted Value'].replace(0, -1, inplace=True)\nResults",
   "execution_count": null,
   "outputs": [
    {
     "output_type": "execute_result",
     "execution_count": 17,
     "data": {
      "application/vnd.deepnote.dataframe.v2+json": {
       "row_count": 705,
       "column_count": 2,
       "columns": [
        {
         "name": "Binary Return",
         "dtype": "int64",
         "stats": {
          "unique_count": 2,
          "nan_count": 0,
          "min": "0",
          "max": "1",
          "histogram": [
           {
            "bin_start": 0,
            "bin_end": 0.1,
            "count": 341
           },
           {
            "bin_start": 0.1,
            "bin_end": 0.2,
            "count": 0
           },
           {
            "bin_start": 0.2,
            "bin_end": 0.30000000000000004,
            "count": 0
           },
           {
            "bin_start": 0.30000000000000004,
            "bin_end": 0.4,
            "count": 0
           },
           {
            "bin_start": 0.4,
            "bin_end": 0.5,
            "count": 0
           },
           {
            "bin_start": 0.5,
            "bin_end": 0.6000000000000001,
            "count": 0
           },
           {
            "bin_start": 0.6000000000000001,
            "bin_end": 0.7000000000000001,
            "count": 0
           },
           {
            "bin_start": 0.7000000000000001,
            "bin_end": 0.8,
            "count": 0
           },
           {
            "bin_start": 0.8,
            "bin_end": 0.9,
            "count": 0
           },
           {
            "bin_start": 0.9,
            "bin_end": 1,
            "count": 364
           }
          ]
         }
        },
        {
         "name": "Predicted Value",
         "dtype": "int64",
         "stats": {
          "unique_count": 2,
          "nan_count": 0,
          "min": "-1",
          "max": "1",
          "histogram": [
           {
            "bin_start": -1,
            "bin_end": -0.8,
            "count": 42
           },
           {
            "bin_start": -0.8,
            "bin_end": -0.6,
            "count": 0
           },
           {
            "bin_start": -0.6,
            "bin_end": -0.3999999999999999,
            "count": 0
           },
           {
            "bin_start": -0.3999999999999999,
            "bin_end": -0.19999999999999996,
            "count": 0
           },
           {
            "bin_start": -0.19999999999999996,
            "bin_end": 0,
            "count": 0
           },
           {
            "bin_start": 0,
            "bin_end": 0.20000000000000018,
            "count": 0
           },
           {
            "bin_start": 0.20000000000000018,
            "bin_end": 0.40000000000000013,
            "count": 0
           },
           {
            "bin_start": 0.40000000000000013,
            "bin_end": 0.6000000000000001,
            "count": 0
           },
           {
            "bin_start": 0.6000000000000001,
            "bin_end": 0.8,
            "count": 0
           },
           {
            "bin_start": 0.8,
            "bin_end": 1,
            "count": 663
           }
          ]
         }
        },
        {
         "name": "_deepnote_index_column",
         "dtype": "object"
        }
       ],
       "rows_top": [
        {
         "Binary Return": 1,
         "Predicted Value": 1,
         "_deepnote_index_column": "2019-09-02"
        },
        {
         "Binary Return": 1,
         "Predicted Value": 1,
         "_deepnote_index_column": "2019-09-03"
        },
        {
         "Binary Return": 0,
         "Predicted Value": 1,
         "_deepnote_index_column": "2019-09-04"
        },
        {
         "Binary Return": 0,
         "Predicted Value": 1,
         "_deepnote_index_column": "2019-09-05"
        },
        {
         "Binary Return": 0,
         "Predicted Value": 1,
         "_deepnote_index_column": "2019-09-06"
        },
        {
         "Binary Return": 1,
         "Predicted Value": 1,
         "_deepnote_index_column": "2019-09-07"
        },
        {
         "Binary Return": 1,
         "Predicted Value": 1,
         "_deepnote_index_column": "2019-09-08"
        },
        {
         "Binary Return": 0,
         "Predicted Value": -1,
         "_deepnote_index_column": "2019-09-09"
        },
        {
         "Binary Return": 0,
         "Predicted Value": 1,
         "_deepnote_index_column": "2019-09-10"
        },
        {
         "Binary Return": 0,
         "Predicted Value": 1,
         "_deepnote_index_column": "2019-09-11"
        },
        {
         "Binary Return": 0,
         "Predicted Value": 1,
         "_deepnote_index_column": "2019-09-12"
        },
        {
         "Binary Return": 1,
         "Predicted Value": 1,
         "_deepnote_index_column": "2019-09-13"
        },
        {
         "Binary Return": 1,
         "Predicted Value": 1,
         "_deepnote_index_column": "2019-09-14"
        },
        {
         "Binary Return": 1,
         "Predicted Value": 1,
         "_deepnote_index_column": "2019-09-15"
        },
        {
         "Binary Return": 0,
         "Predicted Value": -1,
         "_deepnote_index_column": "2019-09-16"
        },
        {
         "Binary Return": 1,
         "Predicted Value": 1,
         "_deepnote_index_column": "2019-09-17"
        },
        {
         "Binary Return": 1,
         "Predicted Value": 1,
         "_deepnote_index_column": "2019-09-18"
        },
        {
         "Binary Return": 0,
         "Predicted Value": 1,
         "_deepnote_index_column": "2019-09-19"
        },
        {
         "Binary Return": 0,
         "Predicted Value": 1,
         "_deepnote_index_column": "2019-09-20"
        },
        {
         "Binary Return": 0,
         "Predicted Value": 1,
         "_deepnote_index_column": "2019-09-21"
        },
        {
         "Binary Return": 0,
         "Predicted Value": 1,
         "_deepnote_index_column": "2019-09-22"
        },
        {
         "Binary Return": 0,
         "Predicted Value": 1,
         "_deepnote_index_column": "2019-09-23"
        },
        {
         "Binary Return": 0,
         "Predicted Value": 1,
         "_deepnote_index_column": "2019-09-24"
        },
        {
         "Binary Return": 1,
         "Predicted Value": 1,
         "_deepnote_index_column": "2019-09-25"
        },
        {
         "Binary Return": 0,
         "Predicted Value": 1,
         "_deepnote_index_column": "2019-09-26"
        },
        {
         "Binary Return": 1,
         "Predicted Value": 1,
         "_deepnote_index_column": "2019-09-27"
        },
        {
         "Binary Return": 0,
         "Predicted Value": 1,
         "_deepnote_index_column": "2019-09-28"
        },
        {
         "Binary Return": 0,
         "Predicted Value": 1,
         "_deepnote_index_column": "2019-09-29"
        },
        {
         "Binary Return": 1,
         "Predicted Value": 1,
         "_deepnote_index_column": "2019-09-30"
        },
        {
         "Binary Return": 0,
         "Predicted Value": 1,
         "_deepnote_index_column": "2019-10-01"
        },
        {
         "Binary Return": 1,
         "Predicted Value": 1,
         "_deepnote_index_column": "2019-10-02"
        },
        {
         "Binary Return": 0,
         "Predicted Value": 1,
         "_deepnote_index_column": "2019-10-03"
        },
        {
         "Binary Return": 1,
         "Predicted Value": 1,
         "_deepnote_index_column": "2019-10-04"
        },
        {
         "Binary Return": 0,
         "Predicted Value": 1,
         "_deepnote_index_column": "2019-10-05"
        },
        {
         "Binary Return": 1,
         "Predicted Value": 1,
         "_deepnote_index_column": "2019-10-06"
        },
        {
         "Binary Return": 1,
         "Predicted Value": 1,
         "_deepnote_index_column": "2019-10-07"
        },
        {
         "Binary Return": 1,
         "Predicted Value": -1,
         "_deepnote_index_column": "2019-10-08"
        },
        {
         "Binary Return": 1,
         "Predicted Value": 1,
         "_deepnote_index_column": "2019-10-09"
        },
        {
         "Binary Return": 0,
         "Predicted Value": -1,
         "_deepnote_index_column": "2019-10-10"
        },
        {
         "Binary Return": 0,
         "Predicted Value": 1,
         "_deepnote_index_column": "2019-10-11"
        },
        {
         "Binary Return": 1,
         "Predicted Value": 1,
         "_deepnote_index_column": "2019-10-12"
        },
        {
         "Binary Return": 1,
         "Predicted Value": 1,
         "_deepnote_index_column": "2019-10-13"
        },
        {
         "Binary Return": 1,
         "Predicted Value": 1,
         "_deepnote_index_column": "2019-10-14"
        },
        {
         "Binary Return": 0,
         "Predicted Value": -1,
         "_deepnote_index_column": "2019-10-15"
        },
        {
         "Binary Return": 0,
         "Predicted Value": 1,
         "_deepnote_index_column": "2019-10-16"
        },
        {
         "Binary Return": 1,
         "Predicted Value": 1,
         "_deepnote_index_column": "2019-10-17"
        },
        {
         "Binary Return": 0,
         "Predicted Value": 1,
         "_deepnote_index_column": "2019-10-18"
        },
        {
         "Binary Return": 0,
         "Predicted Value": 1,
         "_deepnote_index_column": "2019-10-19"
        },
        {
         "Binary Return": 1,
         "Predicted Value": 1,
         "_deepnote_index_column": "2019-10-20"
        },
        {
         "Binary Return": 0,
         "Predicted Value": 1,
         "_deepnote_index_column": "2019-10-21"
        },
        {
         "Binary Return": 0,
         "Predicted Value": 1,
         "_deepnote_index_column": "2019-10-22"
        },
        {
         "Binary Return": 0,
         "Predicted Value": 1,
         "_deepnote_index_column": "2019-10-23"
        },
        {
         "Binary Return": 1,
         "Predicted Value": 1,
         "_deepnote_index_column": "2019-10-24"
        },
        {
         "Binary Return": 1,
         "Predicted Value": 1,
         "_deepnote_index_column": "2019-10-25"
        },
        {
         "Binary Return": 0,
         "Predicted Value": 1,
         "_deepnote_index_column": "2019-10-26"
        },
        {
         "Binary Return": 1,
         "Predicted Value": 1,
         "_deepnote_index_column": "2019-10-27"
        },
        {
         "Binary Return": 0,
         "Predicted Value": -1,
         "_deepnote_index_column": "2019-10-28"
        },
        {
         "Binary Return": 1,
         "Predicted Value": 1,
         "_deepnote_index_column": "2019-10-29"
        },
        {
         "Binary Return": 0,
         "Predicted Value": 1,
         "_deepnote_index_column": "2019-10-30"
        },
        {
         "Binary Return": 0,
         "Predicted Value": 1,
         "_deepnote_index_column": "2019-10-31"
        },
        {
         "Binary Return": 0,
         "Predicted Value": 1,
         "_deepnote_index_column": "2019-11-01"
        },
        {
         "Binary Return": 1,
         "Predicted Value": 1,
         "_deepnote_index_column": "2019-11-02"
        },
        {
         "Binary Return": 0,
         "Predicted Value": 1,
         "_deepnote_index_column": "2019-11-03"
        },
        {
         "Binary Return": 1,
         "Predicted Value": 1,
         "_deepnote_index_column": "2019-11-04"
        },
        {
         "Binary Return": 1,
         "Predicted Value": 1,
         "_deepnote_index_column": "2019-11-05"
        },
        {
         "Binary Return": 1,
         "Predicted Value": 1,
         "_deepnote_index_column": "2019-11-06"
        },
        {
         "Binary Return": 0,
         "Predicted Value": -1,
         "_deepnote_index_column": "2019-11-07"
        },
        {
         "Binary Return": 0,
         "Predicted Value": 1,
         "_deepnote_index_column": "2019-11-08"
        },
        {
         "Binary Return": 1,
         "Predicted Value": 1,
         "_deepnote_index_column": "2019-11-09"
        },
        {
         "Binary Return": 1,
         "Predicted Value": 1,
         "_deepnote_index_column": "2019-11-10"
        },
        {
         "Binary Return": 0,
         "Predicted Value": 1,
         "_deepnote_index_column": "2019-11-11"
        },
        {
         "Binary Return": 0,
         "Predicted Value": 1,
         "_deepnote_index_column": "2019-11-12"
        },
        {
         "Binary Return": 1,
         "Predicted Value": 1,
         "_deepnote_index_column": "2019-11-13"
        },
        {
         "Binary Return": 0,
         "Predicted Value": 1,
         "_deepnote_index_column": "2019-11-14"
        },
        {
         "Binary Return": 0,
         "Predicted Value": 1,
         "_deepnote_index_column": "2019-11-15"
        },
        {
         "Binary Return": 1,
         "Predicted Value": 1,
         "_deepnote_index_column": "2019-11-16"
        },
        {
         "Binary Return": 1,
         "Predicted Value": 1,
         "_deepnote_index_column": "2019-11-17"
        },
        {
         "Binary Return": 0,
         "Predicted Value": 1,
         "_deepnote_index_column": "2019-11-18"
        },
        {
         "Binary Return": 1,
         "Predicted Value": 1,
         "_deepnote_index_column": "2019-11-19"
        },
        {
         "Binary Return": 0,
         "Predicted Value": 1,
         "_deepnote_index_column": "2019-11-20"
        },
        {
         "Binary Return": 0,
         "Predicted Value": 1,
         "_deepnote_index_column": "2019-11-21"
        },
        {
         "Binary Return": 0,
         "Predicted Value": 1,
         "_deepnote_index_column": "2019-11-22"
        },
        {
         "Binary Return": 1,
         "Predicted Value": 1,
         "_deepnote_index_column": "2019-11-23"
        },
        {
         "Binary Return": 0,
         "Predicted Value": 1,
         "_deepnote_index_column": "2019-11-24"
        },
        {
         "Binary Return": 0,
         "Predicted Value": 1,
         "_deepnote_index_column": "2019-11-25"
        },
        {
         "Binary Return": 1,
         "Predicted Value": 1,
         "_deepnote_index_column": "2019-11-26"
        },
        {
         "Binary Return": 1,
         "Predicted Value": 1,
         "_deepnote_index_column": "2019-11-27"
        },
        {
         "Binary Return": 0,
         "Predicted Value": 1,
         "_deepnote_index_column": "2019-11-28"
        },
        {
         "Binary Return": 1,
         "Predicted Value": 1,
         "_deepnote_index_column": "2019-11-29"
        },
        {
         "Binary Return": 0,
         "Predicted Value": 1,
         "_deepnote_index_column": "2019-11-30"
        },
        {
         "Binary Return": 0,
         "Predicted Value": 1,
         "_deepnote_index_column": "2019-12-01"
        },
        {
         "Binary Return": 0,
         "Predicted Value": 1,
         "_deepnote_index_column": "2019-12-02"
        },
        {
         "Binary Return": 1,
         "Predicted Value": 1,
         "_deepnote_index_column": "2019-12-03"
        },
        {
         "Binary Return": 0,
         "Predicted Value": 1,
         "_deepnote_index_column": "2019-12-04"
        },
        {
         "Binary Return": 1,
         "Predicted Value": 1,
         "_deepnote_index_column": "2019-12-05"
        },
        {
         "Binary Return": 1,
         "Predicted Value": -1,
         "_deepnote_index_column": "2019-12-06"
        },
        {
         "Binary Return": 1,
         "Predicted Value": 1,
         "_deepnote_index_column": "2019-12-07"
        },
        {
         "Binary Return": 1,
         "Predicted Value": 1,
         "_deepnote_index_column": "2019-12-08"
        },
        {
         "Binary Return": 0,
         "Predicted Value": 1,
         "_deepnote_index_column": "2019-12-09"
        },
        {
         "Binary Return": 0,
         "Predicted Value": 1,
         "_deepnote_index_column": "2019-12-10"
        },
        {
         "Binary Return": 0,
         "Predicted Value": 1,
         "_deepnote_index_column": "2019-12-11"
        },
        {
         "Binary Return": 0,
         "Predicted Value": 1,
         "_deepnote_index_column": "2019-12-12"
        },
        {
         "Binary Return": 1,
         "Predicted Value": 1,
         "_deepnote_index_column": "2019-12-13"
        },
        {
         "Binary Return": 0,
         "Predicted Value": 1,
         "_deepnote_index_column": "2019-12-14"
        },
        {
         "Binary Return": 1,
         "Predicted Value": 1,
         "_deepnote_index_column": "2019-12-15"
        },
        {
         "Binary Return": 0,
         "Predicted Value": 1,
         "_deepnote_index_column": "2019-12-16"
        },
        {
         "Binary Return": 0,
         "Predicted Value": 1,
         "_deepnote_index_column": "2019-12-17"
        },
        {
         "Binary Return": 1,
         "Predicted Value": 1,
         "_deepnote_index_column": "2019-12-18"
        },
        {
         "Binary Return": 0,
         "Predicted Value": 1,
         "_deepnote_index_column": "2019-12-19"
        },
        {
         "Binary Return": 1,
         "Predicted Value": 1,
         "_deepnote_index_column": "2019-12-20"
        },
        {
         "Binary Return": 0,
         "Predicted Value": 1,
         "_deepnote_index_column": "2019-12-21"
        },
        {
         "Binary Return": 1,
         "Predicted Value": 1,
         "_deepnote_index_column": "2019-12-22"
        },
        {
         "Binary Return": 0,
         "Predicted Value": 1,
         "_deepnote_index_column": "2019-12-23"
        },
        {
         "Binary Return": 1,
         "Predicted Value": 1,
         "_deepnote_index_column": "2019-12-24"
        },
        {
         "Binary Return": 0,
         "Predicted Value": 1,
         "_deepnote_index_column": "2019-12-25"
        },
        {
         "Binary Return": 0,
         "Predicted Value": 1,
         "_deepnote_index_column": "2019-12-26"
        },
        {
         "Binary Return": 1,
         "Predicted Value": 1,
         "_deepnote_index_column": "2019-12-27"
        },
        {
         "Binary Return": 1,
         "Predicted Value": 1,
         "_deepnote_index_column": "2019-12-28"
        },
        {
         "Binary Return": 1,
         "Predicted Value": 1,
         "_deepnote_index_column": "2019-12-29"
        },
        {
         "Binary Return": 0,
         "Predicted Value": 1,
         "_deepnote_index_column": "2019-12-30"
        },
        {
         "Binary Return": 0,
         "Predicted Value": 1,
         "_deepnote_index_column": "2019-12-31"
        },
        {
         "Binary Return": 0,
         "Predicted Value": 1,
         "_deepnote_index_column": "2020-01-01"
        },
        {
         "Binary Return": 0,
         "Predicted Value": 1,
         "_deepnote_index_column": "2020-01-02"
        },
        {
         "Binary Return": 1,
         "Predicted Value": 1,
         "_deepnote_index_column": "2020-01-03"
        },
        {
         "Binary Return": 1,
         "Predicted Value": 1,
         "_deepnote_index_column": "2020-01-04"
        },
        {
         "Binary Return": 1,
         "Predicted Value": 1,
         "_deepnote_index_column": "2020-01-05"
        },
        {
         "Binary Return": 1,
         "Predicted Value": 1,
         "_deepnote_index_column": "2020-01-06"
        },
        {
         "Binary Return": 0,
         "Predicted Value": -1,
         "_deepnote_index_column": "2020-01-07"
        },
        {
         "Binary Return": 0,
         "Predicted Value": 1,
         "_deepnote_index_column": "2020-01-08"
        },
        {
         "Binary Return": 0,
         "Predicted Value": -1,
         "_deepnote_index_column": "2020-01-09"
        },
        {
         "Binary Return": 1,
         "Predicted Value": 1,
         "_deepnote_index_column": "2020-01-10"
        },
        {
         "Binary Return": 0,
         "Predicted Value": 1,
         "_deepnote_index_column": "2020-01-11"
        },
        {
         "Binary Return": 1,
         "Predicted Value": 1,
         "_deepnote_index_column": "2020-01-12"
        },
        {
         "Binary Return": 0,
         "Predicted Value": 1,
         "_deepnote_index_column": "2020-01-13"
        },
        {
         "Binary Return": 1,
         "Predicted Value": 1,
         "_deepnote_index_column": "2020-01-14"
        },
        {
         "Binary Return": 0,
         "Predicted Value": 1,
         "_deepnote_index_column": "2020-01-15"
        },
        {
         "Binary Return": 0,
         "Predicted Value": 1,
         "_deepnote_index_column": "2020-01-16"
        },
        {
         "Binary Return": 1,
         "Predicted Value": 1,
         "_deepnote_index_column": "2020-01-17"
        },
        {
         "Binary Return": 1,
         "Predicted Value": 1,
         "_deepnote_index_column": "2020-01-18"
        },
        {
         "Binary Return": 0,
         "Predicted Value": 1,
         "_deepnote_index_column": "2020-01-19"
        },
        {
         "Binary Return": 0,
         "Predicted Value": 1,
         "_deepnote_index_column": "2020-01-20"
        },
        {
         "Binary Return": 1,
         "Predicted Value": 1,
         "_deepnote_index_column": "2020-01-21"
        },
        {
         "Binary Return": 0,
         "Predicted Value": 1,
         "_deepnote_index_column": "2020-01-22"
        },
        {
         "Binary Return": 0,
         "Predicted Value": 1,
         "_deepnote_index_column": "2020-01-23"
        },
        {
         "Binary Return": 0,
         "Predicted Value": 1,
         "_deepnote_index_column": "2020-01-24"
        },
        {
         "Binary Return": 0,
         "Predicted Value": 1,
         "_deepnote_index_column": "2020-01-25"
        },
        {
         "Binary Return": 1,
         "Predicted Value": 1,
         "_deepnote_index_column": "2020-01-26"
        },
        {
         "Binary Return": 1,
         "Predicted Value": 1,
         "_deepnote_index_column": "2020-01-27"
        },
        {
         "Binary Return": 1,
         "Predicted Value": 1,
         "_deepnote_index_column": "2020-01-28"
        },
        {
         "Binary Return": 0,
         "Predicted Value": 1,
         "_deepnote_index_column": "2020-01-29"
        },
        {
         "Binary Return": 1,
         "Predicted Value": 1,
         "_deepnote_index_column": "2020-01-30"
        },
        {
         "Binary Return": 0,
         "Predicted Value": -1,
         "_deepnote_index_column": "2020-01-31"
        },
        {
         "Binary Return": 1,
         "Predicted Value": 1,
         "_deepnote_index_column": "2020-02-01"
        },
        {
         "Binary Return": 1,
         "Predicted Value": 1,
         "_deepnote_index_column": "2020-02-02"
        },
        {
         "Binary Return": 1,
         "Predicted Value": 1,
         "_deepnote_index_column": "2020-02-03"
        },
        {
         "Binary Return": 1,
         "Predicted Value": 1,
         "_deepnote_index_column": "2020-02-04"
        },
        {
         "Binary Return": 1,
         "Predicted Value": 1,
         "_deepnote_index_column": "2020-02-05"
        },
        {
         "Binary Return": 1,
         "Predicted Value": 1,
         "_deepnote_index_column": "2020-02-06"
        },
        {
         "Binary Return": 0,
         "Predicted Value": 1,
         "_deepnote_index_column": "2020-02-07"
        },
        {
         "Binary Return": 0,
         "Predicted Value": 1,
         "_deepnote_index_column": "2020-02-08"
        },
        {
         "Binary Return": 1,
         "Predicted Value": 1,
         "_deepnote_index_column": "2020-02-09"
        },
        {
         "Binary Return": 0,
         "Predicted Value": 1,
         "_deepnote_index_column": "2020-02-10"
        },
        {
         "Binary Return": 1,
         "Predicted Value": 1,
         "_deepnote_index_column": "2020-02-11"
        },
        {
         "Binary Return": 1,
         "Predicted Value": 1,
         "_deepnote_index_column": "2020-02-12"
        },
        {
         "Binary Return": 1,
         "Predicted Value": 1,
         "_deepnote_index_column": "2020-02-13"
        },
        {
         "Binary Return": 1,
         "Predicted Value": 1,
         "_deepnote_index_column": "2020-02-14"
        },
        {
         "Binary Return": 0,
         "Predicted Value": 1,
         "_deepnote_index_column": "2020-02-15"
        },
        {
         "Binary Return": 0,
         "Predicted Value": 1,
         "_deepnote_index_column": "2020-02-16"
        },
        {
         "Binary Return": 0,
         "Predicted Value": 1,
         "_deepnote_index_column": "2020-02-17"
        },
        {
         "Binary Return": 1,
         "Predicted Value": 1,
         "_deepnote_index_column": "2020-02-18"
        },
        {
         "Binary Return": 0,
         "Predicted Value": 1,
         "_deepnote_index_column": "2020-02-19"
        },
        {
         "Binary Return": 0,
         "Predicted Value": 1,
         "_deepnote_index_column": "2020-02-20"
        },
        {
         "Binary Return": 1,
         "Predicted Value": 1,
         "_deepnote_index_column": "2020-02-21"
        },
        {
         "Binary Return": 1,
         "Predicted Value": 1,
         "_deepnote_index_column": "2020-02-22"
        },
        {
         "Binary Return": 1,
         "Predicted Value": 1,
         "_deepnote_index_column": "2020-02-23"
        },
        {
         "Binary Return": 0,
         "Predicted Value": 1,
         "_deepnote_index_column": "2020-02-24"
        },
        {
         "Binary Return": 0,
         "Predicted Value": 1,
         "_deepnote_index_column": "2020-02-25"
        },
        {
         "Binary Return": 0,
         "Predicted Value": 1,
         "_deepnote_index_column": "2020-02-26"
        },
        {
         "Binary Return": 1,
         "Predicted Value": 1,
         "_deepnote_index_column": "2020-02-27"
        },
        {
         "Binary Return": 0,
         "Predicted Value": 1,
         "_deepnote_index_column": "2020-02-28"
        },
        {
         "Binary Return": 0,
         "Predicted Value": 1,
         "_deepnote_index_column": "2020-02-29"
        },
        {
         "Binary Return": 0,
         "Predicted Value": 1,
         "_deepnote_index_column": "2020-03-01"
        },
        {
         "Binary Return": 1,
         "Predicted Value": 1,
         "_deepnote_index_column": "2020-03-02"
        },
        {
         "Binary Return": 0,
         "Predicted Value": 1,
         "_deepnote_index_column": "2020-03-03"
        },
        {
         "Binary Return": 1,
         "Predicted Value": 1,
         "_deepnote_index_column": "2020-03-04"
        },
        {
         "Binary Return": 1,
         "Predicted Value": 1,
         "_deepnote_index_column": "2020-03-05"
        },
        {
         "Binary Return": 1,
         "Predicted Value": 1,
         "_deepnote_index_column": "2020-03-06"
        },
        {
         "Binary Return": 0,
         "Predicted Value": 1,
         "_deepnote_index_column": "2020-03-07"
        },
        {
         "Binary Return": 0,
         "Predicted Value": 1,
         "_deepnote_index_column": "2020-03-08"
        },
        {
         "Binary Return": 1,
         "Predicted Value": 1,
         "_deepnote_index_column": "2020-03-09"
        },
        {
         "Binary Return": 1,
         "Predicted Value": 1,
         "_deepnote_index_column": "2020-03-10"
        },
        {
         "Binary Return": 0,
         "Predicted Value": 1,
         "_deepnote_index_column": "2020-03-11"
        },
        {
         "Binary Return": 0,
         "Predicted Value": 1,
         "_deepnote_index_column": "2020-03-12"
        },
        {
         "Binary Return": 1,
         "Predicted Value": 1,
         "_deepnote_index_column": "2020-03-13"
        },
        {
         "Binary Return": 0,
         "Predicted Value": 1,
         "_deepnote_index_column": "2020-03-14"
        },
        {
         "Binary Return": 1,
         "Predicted Value": 1,
         "_deepnote_index_column": "2020-03-15"
        },
        {
         "Binary Return": 0,
         "Predicted Value": 1,
         "_deepnote_index_column": "2020-03-16"
        },
        {
         "Binary Return": 1,
         "Predicted Value": 1,
         "_deepnote_index_column": "2020-03-17"
        },
        {
         "Binary Return": 0,
         "Predicted Value": 1,
         "_deepnote_index_column": "2020-03-18"
        },
        {
         "Binary Return": 1,
         "Predicted Value": 1,
         "_deepnote_index_column": "2020-03-19"
        },
        {
         "Binary Return": 0,
         "Predicted Value": 1,
         "_deepnote_index_column": "2020-03-20"
        },
        {
         "Binary Return": 1,
         "Predicted Value": 1,
         "_deepnote_index_column": "2020-03-21"
        },
        {
         "Binary Return": 0,
         "Predicted Value": 1,
         "_deepnote_index_column": "2020-03-22"
        },
        {
         "Binary Return": 1,
         "Predicted Value": -1,
         "_deepnote_index_column": "2020-03-23"
        },
        {
         "Binary Return": 1,
         "Predicted Value": 1,
         "_deepnote_index_column": "2020-03-24"
        },
        {
         "Binary Return": 0,
         "Predicted Value": 1,
         "_deepnote_index_column": "2020-03-25"
        },
        {
         "Binary Return": 1,
         "Predicted Value": 1,
         "_deepnote_index_column": "2020-03-26"
        },
        {
         "Binary Return": 1,
         "Predicted Value": 1,
         "_deepnote_index_column": "2020-03-27"
        },
        {
         "Binary Return": 0,
         "Predicted Value": 1,
         "_deepnote_index_column": "2020-03-28"
        },
        {
         "Binary Return": 0,
         "Predicted Value": 1,
         "_deepnote_index_column": "2020-03-29"
        },
        {
         "Binary Return": 1,
         "Predicted Value": 1,
         "_deepnote_index_column": "2020-03-30"
        },
        {
         "Binary Return": 1,
         "Predicted Value": 1,
         "_deepnote_index_column": "2020-03-31"
        },
        {
         "Binary Return": 1,
         "Predicted Value": 1,
         "_deepnote_index_column": "2020-04-01"
        },
        {
         "Binary Return": 1,
         "Predicted Value": 1,
         "_deepnote_index_column": "2020-04-02"
        },
        {
         "Binary Return": 1,
         "Predicted Value": 1,
         "_deepnote_index_column": "2020-04-03"
        },
        {
         "Binary Return": 1,
         "Predicted Value": 1,
         "_deepnote_index_column": "2020-04-04"
        },
        {
         "Binary Return": 0,
         "Predicted Value": 1,
         "_deepnote_index_column": "2020-04-05"
        },
        {
         "Binary Return": 1,
         "Predicted Value": -1,
         "_deepnote_index_column": "2020-04-06"
        },
        {
         "Binary Return": 0,
         "Predicted Value": -1,
         "_deepnote_index_column": "2020-04-07"
        },
        {
         "Binary Return": 1,
         "Predicted Value": 1,
         "_deepnote_index_column": "2020-04-08"
        },
        {
         "Binary Return": 0,
         "Predicted Value": 1,
         "_deepnote_index_column": "2020-04-09"
        },
        {
         "Binary Return": 0,
         "Predicted Value": 1,
         "_deepnote_index_column": "2020-04-10"
        },
        {
         "Binary Return": 1,
         "Predicted Value": 1,
         "_deepnote_index_column": "2020-04-11"
        },
        {
         "Binary Return": 1,
         "Predicted Value": 1,
         "_deepnote_index_column": "2020-04-12"
        },
        {
         "Binary Return": 0,
         "Predicted Value": 1,
         "_deepnote_index_column": "2020-04-13"
        },
        {
         "Binary Return": 0,
         "Predicted Value": 1,
         "_deepnote_index_column": "2020-04-14"
        },
        {
         "Binary Return": 0,
         "Predicted Value": 1,
         "_deepnote_index_column": "2020-04-15"
        },
        {
         "Binary Return": 1,
         "Predicted Value": 1,
         "_deepnote_index_column": "2020-04-16"
        },
        {
         "Binary Return": 1,
         "Predicted Value": 1,
         "_deepnote_index_column": "2020-04-18"
        },
        {
         "Binary Return": 0,
         "Predicted Value": 1,
         "_deepnote_index_column": "2020-04-19"
        },
        {
         "Binary Return": 0,
         "Predicted Value": 1,
         "_deepnote_index_column": "2020-04-20"
        },
        {
         "Binary Return": 1,
         "Predicted Value": 1,
         "_deepnote_index_column": "2020-04-21"
        },
        {
         "Binary Return": 1,
         "Predicted Value": 1,
         "_deepnote_index_column": "2020-04-22"
        },
        {
         "Binary Return": 1,
         "Predicted Value": 1,
         "_deepnote_index_column": "2020-04-23"
        },
        {
         "Binary Return": 1,
         "Predicted Value": 1,
         "_deepnote_index_column": "2020-04-24"
        },
        {
         "Binary Return": 1,
         "Predicted Value": 1,
         "_deepnote_index_column": "2020-04-25"
        },
        {
         "Binary Return": 1,
         "Predicted Value": 1,
         "_deepnote_index_column": "2020-04-26"
        },
        {
         "Binary Return": 1,
         "Predicted Value": 1,
         "_deepnote_index_column": "2020-04-27"
        },
        {
         "Binary Return": 1,
         "Predicted Value": 1,
         "_deepnote_index_column": "2020-04-28"
        },
        {
         "Binary Return": 1,
         "Predicted Value": 1,
         "_deepnote_index_column": "2020-04-29"
        },
        {
         "Binary Return": 0,
         "Predicted Value": 1,
         "_deepnote_index_column": "2020-04-30"
        },
        {
         "Binary Return": 1,
         "Predicted Value": 1,
         "_deepnote_index_column": "2020-05-01"
        },
        {
         "Binary Return": 1,
         "Predicted Value": 1,
         "_deepnote_index_column": "2020-05-02"
        },
        {
         "Binary Return": 0,
         "Predicted Value": 1,
         "_deepnote_index_column": "2020-05-03"
        },
        {
         "Binary Return": 0,
         "Predicted Value": 1,
         "_deepnote_index_column": "2020-05-04"
        },
        {
         "Binary Return": 0,
         "Predicted Value": 1,
         "_deepnote_index_column": "2020-05-05"
        },
        {
         "Binary Return": 0,
         "Predicted Value": 1,
         "_deepnote_index_column": "2020-05-06"
        },
        {
         "Binary Return": 1,
         "Predicted Value": 1,
         "_deepnote_index_column": "2020-05-07"
        },
        {
         "Binary Return": 1,
         "Predicted Value": 1,
         "_deepnote_index_column": "2020-05-08"
        },
        {
         "Binary Return": 0,
         "Predicted Value": 1,
         "_deepnote_index_column": "2020-05-09"
        }
       ],
       "rows_bottom": [
        {
         "Binary Return": 0,
         "Predicted Value": 1,
         "_deepnote_index_column": "2020-12-04"
        },
        {
         "Binary Return": 1,
         "Predicted Value": 1,
         "_deepnote_index_column": "2020-12-05"
        },
        {
         "Binary Return": 1,
         "Predicted Value": 1,
         "_deepnote_index_column": "2020-12-06"
        },
        {
         "Binary Return": 0,
         "Predicted Value": 1,
         "_deepnote_index_column": "2020-12-07"
        },
        {
         "Binary Return": 0,
         "Predicted Value": 1,
         "_deepnote_index_column": "2020-12-08"
        },
        {
         "Binary Return": 1,
         "Predicted Value": 1,
         "_deepnote_index_column": "2020-12-09"
        },
        {
         "Binary Return": 0,
         "Predicted Value": 1,
         "_deepnote_index_column": "2020-12-10"
        },
        {
         "Binary Return": 0,
         "Predicted Value": 1,
         "_deepnote_index_column": "2020-12-11"
        },
        {
         "Binary Return": 0,
         "Predicted Value": 1,
         "_deepnote_index_column": "2020-12-12"
        },
        {
         "Binary Return": 1,
         "Predicted Value": 1,
         "_deepnote_index_column": "2020-12-13"
        },
        {
         "Binary Return": 0,
         "Predicted Value": 1,
         "_deepnote_index_column": "2020-12-14"
        },
        {
         "Binary Return": 0,
         "Predicted Value": 1,
         "_deepnote_index_column": "2020-12-15"
        },
        {
         "Binary Return": 1,
         "Predicted Value": 1,
         "_deepnote_index_column": "2020-12-16"
        },
        {
         "Binary Return": 1,
         "Predicted Value": 1,
         "_deepnote_index_column": "2020-12-17"
        },
        {
         "Binary Return": 1,
         "Predicted Value": 1,
         "_deepnote_index_column": "2020-12-18"
        },
        {
         "Binary Return": 0,
         "Predicted Value": 1,
         "_deepnote_index_column": "2020-12-19"
        },
        {
         "Binary Return": 0,
         "Predicted Value": 1,
         "_deepnote_index_column": "2020-12-20"
        },
        {
         "Binary Return": 0,
         "Predicted Value": 1,
         "_deepnote_index_column": "2020-12-21"
        },
        {
         "Binary Return": 0,
         "Predicted Value": 1,
         "_deepnote_index_column": "2020-12-22"
        },
        {
         "Binary Return": 0,
         "Predicted Value": 1,
         "_deepnote_index_column": "2020-12-23"
        },
        {
         "Binary Return": 1,
         "Predicted Value": 1,
         "_deepnote_index_column": "2020-12-24"
        },
        {
         "Binary Return": 0,
         "Predicted Value": 1,
         "_deepnote_index_column": "2020-12-25"
        },
        {
         "Binary Return": 0,
         "Predicted Value": 1,
         "_deepnote_index_column": "2020-12-26"
        },
        {
         "Binary Return": 0,
         "Predicted Value": 1,
         "_deepnote_index_column": "2020-12-27"
        },
        {
         "Binary Return": 0,
         "Predicted Value": 1,
         "_deepnote_index_column": "2020-12-28"
        },
        {
         "Binary Return": 0,
         "Predicted Value": 1,
         "_deepnote_index_column": "2020-12-29"
        },
        {
         "Binary Return": 0,
         "Predicted Value": 1,
         "_deepnote_index_column": "2020-12-30"
        },
        {
         "Binary Return": 1,
         "Predicted Value": 1,
         "_deepnote_index_column": "2020-12-31"
        },
        {
         "Binary Return": 1,
         "Predicted Value": 1,
         "_deepnote_index_column": "2021-01-01"
        },
        {
         "Binary Return": 0,
         "Predicted Value": 1,
         "_deepnote_index_column": "2021-01-02"
        },
        {
         "Binary Return": 1,
         "Predicted Value": 1,
         "_deepnote_index_column": "2021-01-03"
        },
        {
         "Binary Return": 1,
         "Predicted Value": 1,
         "_deepnote_index_column": "2021-01-04"
        },
        {
         "Binary Return": 0,
         "Predicted Value": 1,
         "_deepnote_index_column": "2021-01-05"
        },
        {
         "Binary Return": 1,
         "Predicted Value": 1,
         "_deepnote_index_column": "2021-01-06"
        },
        {
         "Binary Return": 1,
         "Predicted Value": 1,
         "_deepnote_index_column": "2021-01-07"
        },
        {
         "Binary Return": 0,
         "Predicted Value": -1,
         "_deepnote_index_column": "2021-01-08"
        },
        {
         "Binary Return": 1,
         "Predicted Value": 1,
         "_deepnote_index_column": "2021-01-09"
        },
        {
         "Binary Return": 0,
         "Predicted Value": 1,
         "_deepnote_index_column": "2021-01-10"
        },
        {
         "Binary Return": 0,
         "Predicted Value": 1,
         "_deepnote_index_column": "2021-01-11"
        },
        {
         "Binary Return": 1,
         "Predicted Value": 1,
         "_deepnote_index_column": "2021-01-12"
        },
        {
         "Binary Return": 1,
         "Predicted Value": 1,
         "_deepnote_index_column": "2021-01-13"
        },
        {
         "Binary Return": 0,
         "Predicted Value": 1,
         "_deepnote_index_column": "2021-01-14"
        },
        {
         "Binary Return": 0,
         "Predicted Value": 1,
         "_deepnote_index_column": "2021-01-15"
        },
        {
         "Binary Return": 0,
         "Predicted Value": 1,
         "_deepnote_index_column": "2021-01-16"
        },
        {
         "Binary Return": 0,
         "Predicted Value": 1,
         "_deepnote_index_column": "2021-01-17"
        },
        {
         "Binary Return": 1,
         "Predicted Value": 1,
         "_deepnote_index_column": "2021-01-18"
        },
        {
         "Binary Return": 1,
         "Predicted Value": 1,
         "_deepnote_index_column": "2021-01-19"
        },
        {
         "Binary Return": 1,
         "Predicted Value": 1,
         "_deepnote_index_column": "2021-01-20"
        },
        {
         "Binary Return": 0,
         "Predicted Value": 1,
         "_deepnote_index_column": "2021-01-21"
        },
        {
         "Binary Return": 1,
         "Predicted Value": 1,
         "_deepnote_index_column": "2021-01-22"
        },
        {
         "Binary Return": 0,
         "Predicted Value": 1,
         "_deepnote_index_column": "2021-01-23"
        },
        {
         "Binary Return": 1,
         "Predicted Value": 1,
         "_deepnote_index_column": "2021-01-24"
        },
        {
         "Binary Return": 0,
         "Predicted Value": 1,
         "_deepnote_index_column": "2021-01-25"
        },
        {
         "Binary Return": 0,
         "Predicted Value": 1,
         "_deepnote_index_column": "2021-01-26"
        },
        {
         "Binary Return": 0,
         "Predicted Value": 1,
         "_deepnote_index_column": "2021-01-27"
        },
        {
         "Binary Return": 1,
         "Predicted Value": 1,
         "_deepnote_index_column": "2021-01-28"
        },
        {
         "Binary Return": 1,
         "Predicted Value": 1,
         "_deepnote_index_column": "2021-01-29"
        },
        {
         "Binary Return": 1,
         "Predicted Value": 1,
         "_deepnote_index_column": "2021-01-30"
        },
        {
         "Binary Return": 1,
         "Predicted Value": -1,
         "_deepnote_index_column": "2021-01-31"
        },
        {
         "Binary Return": 0,
         "Predicted Value": 1,
         "_deepnote_index_column": "2021-02-01"
        },
        {
         "Binary Return": 0,
         "Predicted Value": 1,
         "_deepnote_index_column": "2021-02-02"
        },
        {
         "Binary Return": 1,
         "Predicted Value": 1,
         "_deepnote_index_column": "2021-02-03"
        },
        {
         "Binary Return": 1,
         "Predicted Value": 1,
         "_deepnote_index_column": "2021-02-04"
        },
        {
         "Binary Return": 1,
         "Predicted Value": 1,
         "_deepnote_index_column": "2021-02-05"
        },
        {
         "Binary Return": 0,
         "Predicted Value": 1,
         "_deepnote_index_column": "2021-02-06"
        },
        {
         "Binary Return": 0,
         "Predicted Value": 1,
         "_deepnote_index_column": "2021-02-07"
        },
        {
         "Binary Return": 1,
         "Predicted Value": 1,
         "_deepnote_index_column": "2021-02-08"
        },
        {
         "Binary Return": 1,
         "Predicted Value": 1,
         "_deepnote_index_column": "2021-02-09"
        },
        {
         "Binary Return": 1,
         "Predicted Value": 1,
         "_deepnote_index_column": "2021-02-10"
        },
        {
         "Binary Return": 1,
         "Predicted Value": 1,
         "_deepnote_index_column": "2021-02-11"
        },
        {
         "Binary Return": 1,
         "Predicted Value": 1,
         "_deepnote_index_column": "2021-02-12"
        },
        {
         "Binary Return": 1,
         "Predicted Value": 1,
         "_deepnote_index_column": "2021-02-13"
        },
        {
         "Binary Return": 0,
         "Predicted Value": 1,
         "_deepnote_index_column": "2021-02-14"
        },
        {
         "Binary Return": 0,
         "Predicted Value": 1,
         "_deepnote_index_column": "2021-02-15"
        },
        {
         "Binary Return": 0,
         "Predicted Value": 1,
         "_deepnote_index_column": "2021-02-16"
        },
        {
         "Binary Return": 1,
         "Predicted Value": 1,
         "_deepnote_index_column": "2021-02-17"
        },
        {
         "Binary Return": 0,
         "Predicted Value": 1,
         "_deepnote_index_column": "2021-02-18"
        },
        {
         "Binary Return": 1,
         "Predicted Value": 1,
         "_deepnote_index_column": "2021-02-19"
        },
        {
         "Binary Return": 0,
         "Predicted Value": 1,
         "_deepnote_index_column": "2021-02-20"
        },
        {
         "Binary Return": 1,
         "Predicted Value": 1,
         "_deepnote_index_column": "2021-02-21"
        },
        {
         "Binary Return": 1,
         "Predicted Value": 1,
         "_deepnote_index_column": "2021-02-22"
        },
        {
         "Binary Return": 0,
         "Predicted Value": 1,
         "_deepnote_index_column": "2021-02-23"
        },
        {
         "Binary Return": 0,
         "Predicted Value": 1,
         "_deepnote_index_column": "2021-02-24"
        },
        {
         "Binary Return": 0,
         "Predicted Value": 1,
         "_deepnote_index_column": "2021-02-25"
        },
        {
         "Binary Return": 0,
         "Predicted Value": 1,
         "_deepnote_index_column": "2021-02-26"
        },
        {
         "Binary Return": 1,
         "Predicted Value": 1,
         "_deepnote_index_column": "2021-02-27"
        },
        {
         "Binary Return": 0,
         "Predicted Value": 1,
         "_deepnote_index_column": "2021-02-28"
        },
        {
         "Binary Return": 1,
         "Predicted Value": 1,
         "_deepnote_index_column": "2021-03-01"
        },
        {
         "Binary Return": 0,
         "Predicted Value": 1,
         "_deepnote_index_column": "2021-03-02"
        },
        {
         "Binary Return": 1,
         "Predicted Value": 1,
         "_deepnote_index_column": "2021-03-03"
        },
        {
         "Binary Return": 1,
         "Predicted Value": 1,
         "_deepnote_index_column": "2021-03-04"
        },
        {
         "Binary Return": 0,
         "Predicted Value": 1,
         "_deepnote_index_column": "2021-03-05"
        },
        {
         "Binary Return": 1,
         "Predicted Value": 1,
         "_deepnote_index_column": "2021-03-06"
        },
        {
         "Binary Return": 1,
         "Predicted Value": 1,
         "_deepnote_index_column": "2021-03-07"
        },
        {
         "Binary Return": 1,
         "Predicted Value": 1,
         "_deepnote_index_column": "2021-03-08"
        },
        {
         "Binary Return": 1,
         "Predicted Value": 1,
         "_deepnote_index_column": "2021-03-09"
        },
        {
         "Binary Return": 0,
         "Predicted Value": 1,
         "_deepnote_index_column": "2021-03-10"
        },
        {
         "Binary Return": 0,
         "Predicted Value": 1,
         "_deepnote_index_column": "2021-03-11"
        },
        {
         "Binary Return": 0,
         "Predicted Value": 1,
         "_deepnote_index_column": "2021-03-12"
        },
        {
         "Binary Return": 1,
         "Predicted Value": 1,
         "_deepnote_index_column": "2021-03-13"
        },
        {
         "Binary Return": 0,
         "Predicted Value": 1,
         "_deepnote_index_column": "2021-03-14"
        },
        {
         "Binary Return": 0,
         "Predicted Value": 1,
         "_deepnote_index_column": "2021-03-15"
        },
        {
         "Binary Return": 1,
         "Predicted Value": 1,
         "_deepnote_index_column": "2021-03-16"
        },
        {
         "Binary Return": 1,
         "Predicted Value": 1,
         "_deepnote_index_column": "2021-03-17"
        },
        {
         "Binary Return": 1,
         "Predicted Value": 1,
         "_deepnote_index_column": "2021-03-18"
        },
        {
         "Binary Return": 0,
         "Predicted Value": -1,
         "_deepnote_index_column": "2021-03-19"
        },
        {
         "Binary Return": 1,
         "Predicted Value": 1,
         "_deepnote_index_column": "2021-03-20"
        },
        {
         "Binary Return": 0,
         "Predicted Value": -1,
         "_deepnote_index_column": "2021-03-21"
        },
        {
         "Binary Return": 1,
         "Predicted Value": -1,
         "_deepnote_index_column": "2021-03-22"
        },
        {
         "Binary Return": 1,
         "Predicted Value": 1,
         "_deepnote_index_column": "2021-03-23"
        },
        {
         "Binary Return": 0,
         "Predicted Value": 1,
         "_deepnote_index_column": "2021-03-24"
        },
        {
         "Binary Return": 1,
         "Predicted Value": 1,
         "_deepnote_index_column": "2021-03-25"
        },
        {
         "Binary Return": 1,
         "Predicted Value": 1,
         "_deepnote_index_column": "2021-03-26"
        },
        {
         "Binary Return": 0,
         "Predicted Value": 1,
         "_deepnote_index_column": "2021-03-27"
        },
        {
         "Binary Return": 1,
         "Predicted Value": 1,
         "_deepnote_index_column": "2021-03-28"
        },
        {
         "Binary Return": 1,
         "Predicted Value": 1,
         "_deepnote_index_column": "2021-03-29"
        },
        {
         "Binary Return": 0,
         "Predicted Value": 1,
         "_deepnote_index_column": "2021-03-30"
        },
        {
         "Binary Return": 1,
         "Predicted Value": 1,
         "_deepnote_index_column": "2021-03-31"
        },
        {
         "Binary Return": 1,
         "Predicted Value": 1,
         "_deepnote_index_column": "2021-04-01"
        },
        {
         "Binary Return": 1,
         "Predicted Value": 1,
         "_deepnote_index_column": "2021-04-02"
        },
        {
         "Binary Return": 0,
         "Predicted Value": 1,
         "_deepnote_index_column": "2021-04-03"
        },
        {
         "Binary Return": 1,
         "Predicted Value": 1,
         "_deepnote_index_column": "2021-04-04"
        },
        {
         "Binary Return": 1,
         "Predicted Value": 1,
         "_deepnote_index_column": "2021-04-05"
        },
        {
         "Binary Return": 1,
         "Predicted Value": 1,
         "_deepnote_index_column": "2021-04-06"
        },
        {
         "Binary Return": 0,
         "Predicted Value": 1,
         "_deepnote_index_column": "2021-04-07"
        },
        {
         "Binary Return": 1,
         "Predicted Value": 1,
         "_deepnote_index_column": "2021-04-08"
        },
        {
         "Binary Return": 0,
         "Predicted Value": 1,
         "_deepnote_index_column": "2021-04-09"
        },
        {
         "Binary Return": 1,
         "Predicted Value": 1,
         "_deepnote_index_column": "2021-04-10"
        },
        {
         "Binary Return": 0,
         "Predicted Value": 1,
         "_deepnote_index_column": "2021-04-11"
        },
        {
         "Binary Return": 1,
         "Predicted Value": 1,
         "_deepnote_index_column": "2021-04-12"
        },
        {
         "Binary Return": 1,
         "Predicted Value": 1,
         "_deepnote_index_column": "2021-04-13"
        },
        {
         "Binary Return": 1,
         "Predicted Value": 1,
         "_deepnote_index_column": "2021-04-14"
        },
        {
         "Binary Return": 0,
         "Predicted Value": 1,
         "_deepnote_index_column": "2021-04-15"
        },
        {
         "Binary Return": 0,
         "Predicted Value": 1,
         "_deepnote_index_column": "2021-04-16"
        },
        {
         "Binary Return": 1,
         "Predicted Value": 1,
         "_deepnote_index_column": "2021-04-17"
        },
        {
         "Binary Return": 0,
         "Predicted Value": 1,
         "_deepnote_index_column": "2021-04-18"
        },
        {
         "Binary Return": 0,
         "Predicted Value": 1,
         "_deepnote_index_column": "2021-04-19"
        },
        {
         "Binary Return": 1,
         "Predicted Value": 1,
         "_deepnote_index_column": "2021-04-20"
        },
        {
         "Binary Return": 0,
         "Predicted Value": 1,
         "_deepnote_index_column": "2021-04-21"
        },
        {
         "Binary Return": 0,
         "Predicted Value": 1,
         "_deepnote_index_column": "2021-04-22"
        },
        {
         "Binary Return": 1,
         "Predicted Value": 1,
         "_deepnote_index_column": "2021-04-23"
        },
        {
         "Binary Return": 0,
         "Predicted Value": 1,
         "_deepnote_index_column": "2021-04-24"
        },
        {
         "Binary Return": 0,
         "Predicted Value": 1,
         "_deepnote_index_column": "2021-04-25"
        },
        {
         "Binary Return": 1,
         "Predicted Value": 1,
         "_deepnote_index_column": "2021-04-26"
        },
        {
         "Binary Return": 1,
         "Predicted Value": 1,
         "_deepnote_index_column": "2021-04-27"
        },
        {
         "Binary Return": 0,
         "Predicted Value": 1,
         "_deepnote_index_column": "2021-04-28"
        },
        {
         "Binary Return": 1,
         "Predicted Value": 1,
         "_deepnote_index_column": "2021-04-29"
        },
        {
         "Binary Return": 1,
         "Predicted Value": 1,
         "_deepnote_index_column": "2021-04-30"
        },
        {
         "Binary Return": 1,
         "Predicted Value": 1,
         "_deepnote_index_column": "2021-05-01"
        },
        {
         "Binary Return": 0,
         "Predicted Value": -1,
         "_deepnote_index_column": "2021-05-02"
        },
        {
         "Binary Return": 0,
         "Predicted Value": 1,
         "_deepnote_index_column": "2021-05-03"
        },
        {
         "Binary Return": 0,
         "Predicted Value": 1,
         "_deepnote_index_column": "2021-05-04"
        },
        {
         "Binary Return": 1,
         "Predicted Value": 1,
         "_deepnote_index_column": "2021-05-05"
        },
        {
         "Binary Return": 0,
         "Predicted Value": 1,
         "_deepnote_index_column": "2021-05-06"
        },
        {
         "Binary Return": 0,
         "Predicted Value": -1,
         "_deepnote_index_column": "2021-05-07"
        },
        {
         "Binary Return": 0,
         "Predicted Value": -1,
         "_deepnote_index_column": "2021-05-08"
        },
        {
         "Binary Return": 0,
         "Predicted Value": 1,
         "_deepnote_index_column": "2021-05-09"
        },
        {
         "Binary Return": 0,
         "Predicted Value": 1,
         "_deepnote_index_column": "2021-05-10"
        },
        {
         "Binary Return": 1,
         "Predicted Value": 1,
         "_deepnote_index_column": "2021-05-11"
        },
        {
         "Binary Return": 0,
         "Predicted Value": 1,
         "_deepnote_index_column": "2021-05-12"
        },
        {
         "Binary Return": 1,
         "Predicted Value": 1,
         "_deepnote_index_column": "2021-05-13"
        },
        {
         "Binary Return": 1,
         "Predicted Value": 1,
         "_deepnote_index_column": "2021-05-14"
        },
        {
         "Binary Return": 1,
         "Predicted Value": 1,
         "_deepnote_index_column": "2021-05-15"
        },
        {
         "Binary Return": 0,
         "Predicted Value": 1,
         "_deepnote_index_column": "2021-05-16"
        },
        {
         "Binary Return": 1,
         "Predicted Value": 1,
         "_deepnote_index_column": "2021-05-17"
        },
        {
         "Binary Return": 1,
         "Predicted Value": 1,
         "_deepnote_index_column": "2021-05-18"
        },
        {
         "Binary Return": 0,
         "Predicted Value": -1,
         "_deepnote_index_column": "2021-05-19"
        },
        {
         "Binary Return": 1,
         "Predicted Value": 1,
         "_deepnote_index_column": "2021-05-20"
        },
        {
         "Binary Return": 0,
         "Predicted Value": -1,
         "_deepnote_index_column": "2021-05-21"
        },
        {
         "Binary Return": 0,
         "Predicted Value": 1,
         "_deepnote_index_column": "2021-05-22"
        },
        {
         "Binary Return": 0,
         "Predicted Value": 1,
         "_deepnote_index_column": "2021-05-23"
        },
        {
         "Binary Return": 1,
         "Predicted Value": 1,
         "_deepnote_index_column": "2021-05-24"
        },
        {
         "Binary Return": 0,
         "Predicted Value": 1,
         "_deepnote_index_column": "2021-05-25"
        },
        {
         "Binary Return": 1,
         "Predicted Value": 1,
         "_deepnote_index_column": "2021-05-26"
        },
        {
         "Binary Return": 0,
         "Predicted Value": 1,
         "_deepnote_index_column": "2021-05-27"
        },
        {
         "Binary Return": 0,
         "Predicted Value": 1,
         "_deepnote_index_column": "2021-05-28"
        },
        {
         "Binary Return": 0,
         "Predicted Value": 1,
         "_deepnote_index_column": "2021-05-29"
        },
        {
         "Binary Return": 1,
         "Predicted Value": 1,
         "_deepnote_index_column": "2021-05-30"
        },
        {
         "Binary Return": 1,
         "Predicted Value": 1,
         "_deepnote_index_column": "2021-05-31"
        },
        {
         "Binary Return": 0,
         "Predicted Value": 1,
         "_deepnote_index_column": "2021-06-01"
        },
        {
         "Binary Return": 1,
         "Predicted Value": 1,
         "_deepnote_index_column": "2021-06-02"
        },
        {
         "Binary Return": 1,
         "Predicted Value": -1,
         "_deepnote_index_column": "2021-06-03"
        },
        {
         "Binary Return": 0,
         "Predicted Value": 1,
         "_deepnote_index_column": "2021-06-04"
        },
        {
         "Binary Return": 0,
         "Predicted Value": 1,
         "_deepnote_index_column": "2021-06-05"
        },
        {
         "Binary Return": 1,
         "Predicted Value": 1,
         "_deepnote_index_column": "2021-06-06"
        },
        {
         "Binary Return": 0,
         "Predicted Value": 1,
         "_deepnote_index_column": "2021-06-07"
        },
        {
         "Binary Return": 1,
         "Predicted Value": 1,
         "_deepnote_index_column": "2021-06-08"
        },
        {
         "Binary Return": 1,
         "Predicted Value": 1,
         "_deepnote_index_column": "2021-06-09"
        },
        {
         "Binary Return": 0,
         "Predicted Value": 1,
         "_deepnote_index_column": "2021-06-10"
        },
        {
         "Binary Return": 0,
         "Predicted Value": 1,
         "_deepnote_index_column": "2021-06-11"
        },
        {
         "Binary Return": 0,
         "Predicted Value": 1,
         "_deepnote_index_column": "2021-06-12"
        },
        {
         "Binary Return": 1,
         "Predicted Value": 1,
         "_deepnote_index_column": "2021-06-13"
        },
        {
         "Binary Return": 1,
         "Predicted Value": 1,
         "_deepnote_index_column": "2021-06-14"
        },
        {
         "Binary Return": 0,
         "Predicted Value": 1,
         "_deepnote_index_column": "2021-06-15"
        },
        {
         "Binary Return": 0,
         "Predicted Value": 1,
         "_deepnote_index_column": "2021-06-16"
        },
        {
         "Binary Return": 1,
         "Predicted Value": 1,
         "_deepnote_index_column": "2021-06-17"
        },
        {
         "Binary Return": 0,
         "Predicted Value": 1,
         "_deepnote_index_column": "2021-06-18"
        },
        {
         "Binary Return": 0,
         "Predicted Value": 1,
         "_deepnote_index_column": "2021-06-19"
        },
        {
         "Binary Return": 1,
         "Predicted Value": 1,
         "_deepnote_index_column": "2021-06-20"
        },
        {
         "Binary Return": 0,
         "Predicted Value": 1,
         "_deepnote_index_column": "2021-06-21"
        },
        {
         "Binary Return": 0,
         "Predicted Value": 1,
         "_deepnote_index_column": "2021-06-22"
        },
        {
         "Binary Return": 1,
         "Predicted Value": 1,
         "_deepnote_index_column": "2021-06-23"
        },
        {
         "Binary Return": 1,
         "Predicted Value": 1,
         "_deepnote_index_column": "2021-06-24"
        },
        {
         "Binary Return": 0,
         "Predicted Value": 1,
         "_deepnote_index_column": "2021-06-25"
        },
        {
         "Binary Return": 1,
         "Predicted Value": 1,
         "_deepnote_index_column": "2021-06-26"
        },
        {
         "Binary Return": 1,
         "Predicted Value": 1,
         "_deepnote_index_column": "2021-06-27"
        },
        {
         "Binary Return": 0,
         "Predicted Value": 1,
         "_deepnote_index_column": "2021-06-28"
        },
        {
         "Binary Return": 1,
         "Predicted Value": 1,
         "_deepnote_index_column": "2021-06-29"
        },
        {
         "Binary Return": 1,
         "Predicted Value": -1,
         "_deepnote_index_column": "2021-06-30"
        },
        {
         "Binary Return": 0,
         "Predicted Value": 1,
         "_deepnote_index_column": "2021-07-01"
        },
        {
         "Binary Return": 0,
         "Predicted Value": 1,
         "_deepnote_index_column": "2021-07-02"
        },
        {
         "Binary Return": 1,
         "Predicted Value": 1,
         "_deepnote_index_column": "2021-07-03"
        },
        {
         "Binary Return": 1,
         "Predicted Value": 1,
         "_deepnote_index_column": "2021-07-04"
        },
        {
         "Binary Return": 0,
         "Predicted Value": 1,
         "_deepnote_index_column": "2021-07-05"
        },
        {
         "Binary Return": 1,
         "Predicted Value": 1,
         "_deepnote_index_column": "2021-07-06"
        },
        {
         "Binary Return": 0,
         "Predicted Value": 1,
         "_deepnote_index_column": "2021-07-07"
        },
        {
         "Binary Return": 0,
         "Predicted Value": 1,
         "_deepnote_index_column": "2021-07-08"
        },
        {
         "Binary Return": 1,
         "Predicted Value": 1,
         "_deepnote_index_column": "2021-07-09"
        },
        {
         "Binary Return": 0,
         "Predicted Value": 1,
         "_deepnote_index_column": "2021-07-10"
        },
        {
         "Binary Return": 1,
         "Predicted Value": 1,
         "_deepnote_index_column": "2021-07-11"
        },
        {
         "Binary Return": 0,
         "Predicted Value": 1,
         "_deepnote_index_column": "2021-07-12"
        },
        {
         "Binary Return": 0,
         "Predicted Value": 1,
         "_deepnote_index_column": "2021-07-13"
        },
        {
         "Binary Return": 1,
         "Predicted Value": 1,
         "_deepnote_index_column": "2021-07-14"
        },
        {
         "Binary Return": 0,
         "Predicted Value": 1,
         "_deepnote_index_column": "2021-07-15"
        },
        {
         "Binary Return": 0,
         "Predicted Value": 1,
         "_deepnote_index_column": "2021-07-16"
        },
        {
         "Binary Return": 0,
         "Predicted Value": 1,
         "_deepnote_index_column": "2021-07-17"
        },
        {
         "Binary Return": 1,
         "Predicted Value": 1,
         "_deepnote_index_column": "2021-07-18"
        },
        {
         "Binary Return": 0,
         "Predicted Value": 1,
         "_deepnote_index_column": "2021-07-19"
        },
        {
         "Binary Return": 0,
         "Predicted Value": 1,
         "_deepnote_index_column": "2021-07-20"
        },
        {
         "Binary Return": 1,
         "Predicted Value": 1,
         "_deepnote_index_column": "2021-07-21"
        },
        {
         "Binary Return": 1,
         "Predicted Value": 1,
         "_deepnote_index_column": "2021-07-22"
        },
        {
         "Binary Return": 1,
         "Predicted Value": 1,
         "_deepnote_index_column": "2021-07-23"
        },
        {
         "Binary Return": 1,
         "Predicted Value": 1,
         "_deepnote_index_column": "2021-07-24"
        },
        {
         "Binary Return": 0,
         "Predicted Value": 1,
         "_deepnote_index_column": "2021-07-25"
        },
        {
         "Binary Return": 1,
         "Predicted Value": 1,
         "_deepnote_index_column": "2021-07-26"
        },
        {
         "Binary Return": 1,
         "Predicted Value": 1,
         "_deepnote_index_column": "2021-07-27"
        },
        {
         "Binary Return": 1,
         "Predicted Value": 1,
         "_deepnote_index_column": "2021-07-28"
        },
        {
         "Binary Return": 1,
         "Predicted Value": -1,
         "_deepnote_index_column": "2021-07-29"
        },
        {
         "Binary Return": 1,
         "Predicted Value": 1,
         "_deepnote_index_column": "2021-07-30"
        },
        {
         "Binary Return": 0,
         "Predicted Value": 1,
         "_deepnote_index_column": "2021-07-31"
        },
        {
         "Binary Return": 0,
         "Predicted Value": 1,
         "_deepnote_index_column": "2021-08-01"
        },
        {
         "Binary Return": 1,
         "Predicted Value": 1,
         "_deepnote_index_column": "2021-08-02"
        },
        {
         "Binary Return": 0,
         "Predicted Value": 1,
         "_deepnote_index_column": "2021-08-03"
        },
        {
         "Binary Return": 1,
         "Predicted Value": 1,
         "_deepnote_index_column": "2021-08-04"
        },
        {
         "Binary Return": 1,
         "Predicted Value": 1,
         "_deepnote_index_column": "2021-08-05"
        },
        {
         "Binary Return": 1,
         "Predicted Value": 1,
         "_deepnote_index_column": "2021-08-06"
        },
        {
         "Binary Return": 1,
         "Predicted Value": 1,
         "_deepnote_index_column": "2021-08-07"
        },
        {
         "Binary Return": 0,
         "Predicted Value": -1,
         "_deepnote_index_column": "2021-08-08"
        },
        {
         "Binary Return": 1,
         "Predicted Value": 1,
         "_deepnote_index_column": "2021-08-09"
        },
        {
         "Binary Return": 1,
         "Predicted Value": 1,
         "_deepnote_index_column": "2021-08-10"
        }
       ]
      },
      "text/plain": "            Binary Return  Predicted Value\nDate                                      \n2019-09-02              1                1\n2019-09-03              1                1\n2019-09-04              0                1\n2019-09-05              0                1\n2019-09-06              0                1\n...                   ...              ...\n2021-08-06              1                1\n2021-08-07              1                1\n2021-08-08              0               -1\n2021-08-09              1                1\n2021-08-10              1                1\n\n[705 rows x 2 columns]",
      "text/html": "<div>\n<style scoped>\n    .dataframe tbody tr th:only-of-type {\n        vertical-align: middle;\n    }\n\n    .dataframe tbody tr th {\n        vertical-align: top;\n    }\n\n    .dataframe thead th {\n        text-align: right;\n    }\n</style>\n<table border=\"1\" class=\"dataframe\">\n  <thead>\n    <tr style=\"text-align: right;\">\n      <th></th>\n      <th>Binary Return</th>\n      <th>Predicted Value</th>\n    </tr>\n    <tr>\n      <th>Date</th>\n      <th></th>\n      <th></th>\n    </tr>\n  </thead>\n  <tbody>\n    <tr>\n      <th>2019-09-02</th>\n      <td>1</td>\n      <td>1</td>\n    </tr>\n    <tr>\n      <th>2019-09-03</th>\n      <td>1</td>\n      <td>1</td>\n    </tr>\n    <tr>\n      <th>2019-09-04</th>\n      <td>0</td>\n      <td>1</td>\n    </tr>\n    <tr>\n      <th>2019-09-05</th>\n      <td>0</td>\n      <td>1</td>\n    </tr>\n    <tr>\n      <th>2019-09-06</th>\n      <td>0</td>\n      <td>1</td>\n    </tr>\n    <tr>\n      <th>...</th>\n      <td>...</td>\n      <td>...</td>\n    </tr>\n    <tr>\n      <th>2021-08-06</th>\n      <td>1</td>\n      <td>1</td>\n    </tr>\n    <tr>\n      <th>2021-08-07</th>\n      <td>1</td>\n      <td>1</td>\n    </tr>\n    <tr>\n      <th>2021-08-08</th>\n      <td>0</td>\n      <td>-1</td>\n    </tr>\n    <tr>\n      <th>2021-08-09</th>\n      <td>1</td>\n      <td>1</td>\n    </tr>\n    <tr>\n      <th>2021-08-10</th>\n      <td>1</td>\n      <td>1</td>\n    </tr>\n  </tbody>\n</table>\n<p>705 rows × 2 columns</p>\n</div>"
     },
     "metadata": {}
    }
   ]
  },
  {
   "cell_type": "code",
   "metadata": {
    "tags": [],
    "deepnote_to_be_reexecuted": false,
    "source_hash": "7a08b73a",
    "execution_start": 1629320761626,
    "execution_millis": 233,
    "cell_id": "00017-46adb209-e952-4a50-983c-c4290acf0e78",
    "deepnote_cell_type": "code"
   },
   "source": "# Calculate cumulative return of model and plot the result\n(1 + (combined_signals_df['Returns'] * Results['Predicted Value'])).cumprod().plot()",
   "execution_count": null,
   "outputs": [
    {
     "output_type": "execute_result",
     "execution_count": 18,
     "data": {
      "text/plain": "<AxesSubplot:xlabel='Date'>"
     },
     "metadata": {}
    },
    {
     "data": {
      "text/plain": "<Figure size 432x288 with 1 Axes>",
      "image/png": "[encoded data removed]"
     },
     "metadata": {
      "needs_background": "light",
      "image/png": {
       "width": 380,
       "height": 262
      }
     },
     "output_type": "display_data"
    }
   ]
  },
  {
   "cell_type": "code",
   "metadata": {
    "tags": [],
    "deepnote_to_be_reexecuted": false,
    "source_hash": "a341481b",
    "execution_start": 1629320761906,
    "execution_millis": 7,
    "cell_id": "00018-1ac123ee-f465-438f-8467-405371c21402",
    "deepnote_cell_type": "code"
   },
   "source": "initial_capital = 100000\n\ninitial_buy_amount = initial_capital / combined_signals_df['Close'].iloc[0]\n# initial_buy_amount\n\nhold_value = initial_buy_amount * combined_signals_df['Close'].iloc[-2]\n# hold_value\n\nbuy_hold_profit = (hold_value - initial_capital)/(initial_capital)*100\nbuy_hold_profit",
   "execution_count": null,
   "outputs": [
    {
     "output_type": "execute_result",
     "execution_count": 19,
     "data": {
      "text/plain": "226.37336406881113"
     },
     "metadata": {}
    }
   ]
  },
  {
   "cell_type": "code",
   "metadata": {
    "tags": [],
    "deepnote_to_be_reexecuted": false,
    "source_hash": "d7e87964",
    "execution_start": 1629320761907,
    "execution_millis": 6,
    "cell_id": "00019-5c30bb31-def5-4128-9031-1644733bed99",
    "deepnote_cell_type": "code"
   },
   "source": "hold_value",
   "execution_count": null,
   "outputs": [
    {
     "output_type": "execute_result",
     "execution_count": 20,
     "data": {
      "text/plain": "326373.3640688111"
     },
     "metadata": {}
    }
   ]
  },
  {
   "cell_type": "code",
   "metadata": {
    "tags": [],
    "deepnote_to_be_reexecuted": false,
    "source_hash": "feac87ef",
    "execution_start": 1629320761907,
    "execution_millis": 6,
    "cell_id": "00020-eedda75e-10d8-4c3c-a159-810b427fe87f",
    "deepnote_cell_type": "code"
   },
   "source": "combined_signals_df['Close'].iloc[0]\ncombined_signals_df['Close'].iloc[-2]",
   "execution_count": null,
   "outputs": [
    {
     "output_type": "execute_result",
     "execution_count": 21,
     "data": {
      "text/plain": "0.8512470126152039"
     },
     "metadata": {}
    }
   ]
  },
  {
   "cell_type": "code",
   "metadata": {
    "tags": [],
    "deepnote_to_be_reexecuted": false,
    "source_hash": "b61ced46",
    "execution_start": 1629320761956,
    "execution_millis": 11,
    "cell_id": "00021-eb49d652-ad7b-40be-8a37-a34358dd2ebb",
    "deepnote_cell_type": "code"
   },
   "source": "# Set initial capital allocation\ninitial_capital = 100000\n\n# Plot cumulative return of model in terms of capital\ncumulative_return_capital = initial_capital * (1 + (combined_signals_df['Returns'] * Results['Predicted Value'])).cumprod().to_frame()\ncumulative_return_capital",
   "execution_count": null,
   "outputs": [
    {
     "output_type": "execute_result",
     "execution_count": 22,
     "data": {
      "application/vnd.deepnote.dataframe.v2+json": {
       "row_count": 706,
       "column_count": 1,
       "columns": [
        {
         "name": 0,
         "dtype": "float64",
         "stats": {
          "unique_count": 705,
          "nan_count": 1,
          "min": "79255.772590946",
          "max": "1391284.0792476798",
          "histogram": [
           {
            "bin_start": 79255.772590946,
            "bin_end": 210458.6032566194,
            "count": 500
           },
           {
            "bin_start": 210458.6032566194,
            "bin_end": 341661.4339222928,
            "count": 66
           },
           {
            "bin_start": 341661.4339222928,
            "bin_end": 472864.2645879662,
            "count": 18
           },
           {
            "bin_start": 472864.2645879662,
            "bin_end": 604067.0952536396,
            "count": 12
           },
           {
            "bin_start": 604067.0952536396,
            "bin_end": 735269.925919313,
            "count": 17
           },
           {
            "bin_start": 735269.925919313,
            "bin_end": 866472.7565849863,
            "count": 45
           },
           {
            "bin_start": 866472.7565849863,
            "bin_end": 997675.5872506597,
            "count": 13
           },
           {
            "bin_start": 997675.5872506597,
            "bin_end": 1128878.417916333,
            "count": 15
           },
           {
            "bin_start": 1128878.417916333,
            "bin_end": 1260081.2485820064,
            "count": 10
           },
           {
            "bin_start": 1260081.2485820064,
            "bin_end": 1391284.0792476798,
            "count": 9
           }
          ]
         }
        },
        {
         "name": "_deepnote_index_column",
         "dtype": "object"
        }
       ],
       "rows_top": [
        {
         "0": 101071.87382165426,
         "_deepnote_index_column": "2019-09-02"
        },
        {
         "0": 101970.52612614486,
         "_deepnote_index_column": "2019-09-03"
        },
        {
         "0": 100717.30038209437,
         "_deepnote_index_column": "2019-09-04"
        },
        {
         "0": 99338.12265016563,
         "_deepnote_index_column": "2019-09-05"
        },
        {
         "0": 97785.7349499443,
         "_deepnote_index_column": "2019-09-06"
        },
        {
         "0": 101020.33121007336,
         "_deepnote_index_column": "2019-09-07"
        },
        {
         "0": 101949.20691015151,
         "_deepnote_index_column": "2019-09-08"
        },
        {
         "0": 103314.0409442126,
         "_deepnote_index_column": "2019-09-09"
        },
        {
         "0": 102959.39419741738,
         "_deepnote_index_column": "2019-09-10"
        },
        {
         "0": 101878.7399968942,
         "_deepnote_index_column": "2019-09-11"
        },
        {
         "0": 101422.99099158023,
         "_deepnote_index_column": "2019-09-12"
        },
        {
         "0": 101717.54340050662,
         "_deepnote_index_column": "2019-09-13"
        },
        {
         "0": 103952.88432477438,
         "_deepnote_index_column": "2019-09-14"
        },
        {
         "0": 104136.38201772599,
         "_deepnote_index_column": "2019-09-15"
        },
        {
         "0": 104405.45423759938,
         "_deepnote_index_column": "2019-09-16"
        },
        {
         "0": 114032.1253813475,
         "_deepnote_index_column": "2019-09-17"
        },
        {
         "0": 125540.04151503513,
         "_deepnote_index_column": "2019-09-18"
        },
        {
         "0": 121004.97633766904,
         "_deepnote_index_column": "2019-09-19"
        },
        {
         "0": 117815.82770324372,
         "_deepnote_index_column": "2019-09-20"
        },
        {
         "0": 115804.54235240427,
         "_deepnote_index_column": "2019-09-21"
        },
        {
         "0": 111598.75138797182,
         "_deepnote_index_column": "2019-09-22"
        },
        {
         "0": 107495.385391459,
         "_deepnote_index_column": "2019-09-23"
        },
        {
         "0": 94112.62731879504,
         "_deepnote_index_column": "2019-09-24"
        },
        {
         "0": 98599.68749955525,
         "_deepnote_index_column": "2019-09-25"
        },
        {
         "0": 97536.63199287439,
         "_deepnote_index_column": "2019-09-26"
        },
        {
         "0": 97631.4555734775,
         "_deepnote_index_column": "2019-09-27"
        },
        {
         "0": 97051.3176934821,
         "_deepnote_index_column": "2019-09-28"
        },
        {
         "0": 96578.0046432413,
         "_deepnote_index_column": "2019-09-29"
        },
        {
         "0": 102397.37637411381,
         "_deepnote_index_column": "2019-09-30"
        },
        {
         "0": 99849.58212553947,
         "_deepnote_index_column": "2019-10-01"
        },
        {
         "0": 101439.55387725536,
         "_deepnote_index_column": "2019-10-02"
        },
        {
         "0": 99167.41872307558,
         "_deepnote_index_column": "2019-10-03"
        },
        {
         "0": 101597.99659829329,
         "_deepnote_index_column": "2019-10-04"
        },
        {
         "0": 101406.75165528253,
         "_deepnote_index_column": "2019-10-05"
        },
        {
         "0": 103106.35031678338,
         "_deepnote_index_column": "2019-10-06"
        },
        {
         "0": 110300.05287447937,
         "_deepnote_index_column": "2019-10-07"
        },
        {
         "0": 109190.19070754609,
         "_deepnote_index_column": "2019-10-08"
        },
        {
         "0": 110432.43130646854,
         "_deepnote_index_column": "2019-10-09"
        },
        {
         "0": 114178.77419416331,
         "_deepnote_index_column": "2019-10-10"
        },
        {
         "0": 113770.02334886286,
         "_deepnote_index_column": "2019-10-11"
        },
        {
         "0": 114647.9584304586,
         "_deepnote_index_column": "2019-10-12"
        },
        {
         "0": 116567.49402298745,
         "_deepnote_index_column": "2019-10-13"
        },
        {
         "0": 124439.51851793747,
         "_deepnote_index_column": "2019-10-14"
        },
        {
         "0": 127721.69450414884,
         "_deepnote_index_column": "2019-10-15"
        },
        {
         "0": 125924.66811750644,
         "_deepnote_index_column": "2019-10-16"
        },
        {
         "0": 133744.07579209848,
         "_deepnote_index_column": "2019-10-17"
        },
        {
         "0": 130510.13235056009,
         "_deepnote_index_column": "2019-10-18"
        },
        {
         "0": 129632.8594506319,
         "_deepnote_index_column": "2019-10-19"
        },
        {
         "0": 130144.70964933056,
         "_deepnote_index_column": "2019-10-20"
        },
        {
         "0": 129613.83415990182,
         "_deepnote_index_column": "2019-10-21"
        },
        {
         "0": 129006.85750755288,
         "_deepnote_index_column": "2019-10-22"
        },
        {
         "0": 121280.79637375697,
         "_deepnote_index_column": "2019-10-23"
        },
        {
         "0": 123204.34160298118,
         "_deepnote_index_column": "2019-10-24"
        },
        {
         "0": 131908.11545983874,
         "_deepnote_index_column": "2019-10-25"
        },
        {
         "0": 129932.35945355905,
         "_deepnote_index_column": "2019-10-26"
        },
        {
         "0": 131879.35997883923,
         "_deepnote_index_column": "2019-10-27"
        },
        {
         "0": 132805.2970146542,
         "_deepnote_index_column": "2019-10-28"
        },
        {
         "0": 135474.34687402582,
         "_deepnote_index_column": "2019-10-29"
        },
        {
         "0": 133051.16275026588,
         "_deepnote_index_column": "2019-10-30"
        },
        {
         "0": 132962.76714562537,
         "_deepnote_index_column": "2019-10-31"
        },
        {
         "0": 131295.56533781873,
         "_deepnote_index_column": "2019-11-01"
        },
        {
         "0": 132920.15380543645,
         "_deepnote_index_column": "2019-11-02"
        },
        {
         "0": 130675.96710405161,
         "_deepnote_index_column": "2019-11-03"
        },
        {
         "0": 134568.51589051756,
         "_deepnote_index_column": "2019-11-04"
        },
        {
         "0": 135159.83448371373,
         "_deepnote_index_column": "2019-11-05"
        },
        {
         "0": 139121.92578110623,
         "_deepnote_index_column": "2019-11-06"
        },
        {
         "0": 147042.95282261708,
         "_deepnote_index_column": "2019-11-07"
        },
        {
         "0": 139260.16418722816,
         "_deepnote_index_column": "2019-11-08"
        },
        {
         "0": 140890.84014285987,
         "_deepnote_index_column": "2019-11-09"
        },
        {
         "0": 140894.8562539097,
         "_deepnote_index_column": "2019-11-10"
        },
        {
         "0": 138321.36825835254,
         "_deepnote_index_column": "2019-11-11"
        },
        {
         "0": 136979.8223273305,
         "_deepnote_index_column": "2019-11-12"
        },
        {
         "0": 137290.5764125556,
         "_deepnote_index_column": "2019-11-13"
        },
        {
         "0": 135960.58429354633,
         "_deepnote_index_column": "2019-11-14"
        },
        {
         "0": 131567.36341323558,
         "_deepnote_index_column": "2019-11-15"
        },
        {
         "0": 132689.68662579506,
         "_deepnote_index_column": "2019-11-16"
        },
        {
         "0": 133377.05602036457,
         "_deepnote_index_column": "2019-11-17"
        },
        {
         "0": 128549.88534982635,
         "_deepnote_index_column": "2019-11-18"
        },
        {
         "0": 128975.78793246517,
         "_deepnote_index_column": "2019-11-19"
        },
        {
         "0": 126393.24870155683,
         "_deepnote_index_column": "2019-11-20"
        },
        {
         "0": 122572.75073228304,
         "_deepnote_index_column": "2019-11-21"
        },
        {
         "0": 116455.32945954213,
         "_deepnote_index_column": "2019-11-22"
        },
        {
         "0": 118762.30802612286,
         "_deepnote_index_column": "2019-11-23"
        },
        {
         "0": 112223.51728116318,
         "_deepnote_index_column": "2019-11-24"
        },
        {
         "0": 109929.60606098337,
         "_deepnote_index_column": "2019-11-25"
        },
        {
         "0": 111701.07817843849,
         "_deepnote_index_column": "2019-11-26"
        },
        {
         "0": 113177.38111922014,
         "_deepnote_index_column": "2019-11-27"
        },
        {
         "0": 112920.43992496502,
         "_deepnote_index_column": "2019-11-28"
        },
        {
         "0": 115759.91285738398,
         "_deepnote_index_column": "2019-11-29"
        },
        {
         "0": 113877.82535293514,
         "_deepnote_index_column": "2019-11-30"
        },
        {
         "0": 113304.09841413569,
         "_deepnote_index_column": "2019-12-01"
        },
        {
         "0": 110411.8166185093,
         "_deepnote_index_column": "2019-12-02"
        },
        {
         "0": 110557.1383980082,
         "_deepnote_index_column": "2019-12-03"
        },
        {
         "0": 108786.17578717881,
         "_deepnote_index_column": "2019-12-04"
        },
        {
         "0": 112094.79193072274,
         "_deepnote_index_column": "2019-12-05"
        },
        {
         "0": 110799.00419033752,
         "_deepnote_index_column": "2019-12-06"
        },
        {
         "0": 112243.53526988678,
         "_deepnote_index_column": "2019-12-07"
        },
        {
         "0": 113221.29904120238,
         "_deepnote_index_column": "2019-12-08"
        },
        {
         "0": 110772.96895202593,
         "_deepnote_index_column": "2019-12-09"
        },
        {
         "0": 110207.92520851201,
         "_deepnote_index_column": "2019-12-10"
        },
        {
         "0": 109102.91384387371,
         "_deepnote_index_column": "2019-12-11"
        },
        {
         "0": 108024.91879795586,
         "_deepnote_index_column": "2019-12-12"
        },
        {
         "0": 108465.15300617792,
         "_deepnote_index_column": "2019-12-13"
        },
        {
         "0": 106795.09789802575,
         "_deepnote_index_column": "2019-12-14"
        },
        {
         "0": 107406.81617591434,
         "_deepnote_index_column": "2019-12-15"
        },
        {
         "0": 101817.35947752927,
         "_deepnote_index_column": "2019-12-16"
        },
        {
         "0": 90258.1602784131,
         "_deepnote_index_column": "2019-12-17"
        },
        {
         "0": 96388.58032132252,
         "_deepnote_index_column": "2019-12-18"
        },
        {
         "0": 93756.4806928826,
         "_deepnote_index_column": "2019-12-19"
        },
        {
         "0": 95966.02752494592,
         "_deepnote_index_column": "2019-12-20"
        },
        {
         "0": 95359.71983229698,
         "_deepnote_index_column": "2019-12-21"
        },
        {
         "0": 96782.63053537434,
         "_deepnote_index_column": "2019-12-22"
        },
        {
         "0": 93817.41017916748,
         "_deepnote_index_column": "2019-12-23"
        },
        {
         "0": 94434.0338591002,
         "_deepnote_index_column": "2019-12-24"
        },
        {
         "0": 93707.34613599027,
         "_deepnote_index_column": "2019-12-25"
        },
        {
         "0": 93547.66431721192,
         "_deepnote_index_column": "2019-12-26"
        },
        {
         "0": 93895.53053709344,
         "_deepnote_index_column": "2019-12-27"
        },
        {
         "0": 94937.16703592037,
         "_deepnote_index_column": "2019-12-28"
        },
        {
         "0": 96818.49854226087,
         "_deepnote_index_column": "2019-12-29"
        },
        {
         "0": 95552.31909523984,
         "_deepnote_index_column": "2019-12-30"
        },
        {
         "0": 94776.00627503319,
         "_deepnote_index_column": "2019-12-31"
        },
        {
         "0": 94664.47793273833,
         "_deepnote_index_column": "2020-01-01"
        },
        {
         "0": 92392.52999377692,
         "_deepnote_index_column": "2020-01-02"
        },
        {
         "0": 95084.0728448973,
         "_deepnote_index_column": "2020-01-03"
        },
        {
         "0": 95493.84963147255,
         "_deepnote_index_column": "2020-01-04"
        },
        {
         "0": 96074.6126260143,
         "_deepnote_index_column": "2020-01-05"
        },
        {
         "0": 108836.11122314454,
         "_deepnote_index_column": "2020-01-06"
        },
        {
         "0": 112566.83055057426,
         "_deepnote_index_column": "2020-01-07"
        },
        {
         "0": 109993.09737832774,
         "_deepnote_index_column": "2020-01-08"
        },
        {
         "0": 112164.79402981926,
         "_deepnote_index_column": "2020-01-09"
        },
        {
         "0": 116219.49435773893,
         "_deepnote_index_column": "2020-01-10"
        },
        {
         "0": 115970.42486156091,
         "_deepnote_index_column": "2020-01-11"
        },
        {
         "0": 118040.75081122239,
         "_deepnote_index_column": "2020-01-12"
        },
        {
         "0": 116389.74160522473,
         "_deepnote_index_column": "2020-01-13"
        },
        {
         "0": 128471.19465110221,
         "_deepnote_index_column": "2020-01-14"
        },
        {
         "0": 127490.22758026727,
         "_deepnote_index_column": "2020-01-15"
        },
        {
         "0": 125124.84229295755,
         "_deepnote_index_column": "2020-01-16"
        },
        {
         "0": 130709.57358302156,
         "_deepnote_index_column": "2020-01-17"
        },
        {
         "0": 133178.41562083978,
         "_deepnote_index_column": "2020-01-18"
        },
        {
         "0": 128962.77531913375,
         "_deepnote_index_column": "2020-01-19"
        },
        {
         "0": 127709.74383138564,
         "_deepnote_index_column": "2020-01-20"
        },
        {
         "0": 129828.23757350573,
         "_deepnote_index_column": "2020-01-21"
        },
        {
         "0": 129220.60556198418,
         "_deepnote_index_column": "2020-01-22"
        },
        {
         "0": 123772.73442803716,
         "_deepnote_index_column": "2020-01-23"
        },
        {
         "0": 122095.99766616915,
         "_deepnote_index_column": "2020-01-24"
        },
        {
         "0": 120665.05939543675,
         "_deepnote_index_column": "2020-01-25"
        },
        {
         "0": 126280.98351164164,
         "_deepnote_index_column": "2020-01-26"
        },
        {
         "0": 126574.40326820874,
         "_deepnote_index_column": "2020-01-27"
        },
        {
         "0": 130551.92092851736,
         "_deepnote_index_column": "2020-01-28"
        },
        {
         "0": 129042.15225197286,
         "_deepnote_index_column": "2020-01-29"
        },
        {
         "0": 133373.2973701419,
         "_deepnote_index_column": "2020-01-30"
        },
        {
         "0": 135786.85044991024,
         "_deepnote_index_column": "2020-01-31"
        },
        {
         "0": 137048.04179856824,
         "_deepnote_index_column": "2020-02-01"
        },
        {
         "0": 142314.73106319027,
         "_deepnote_index_column": "2020-02-02"
        },
        {
         "0": 144524.36171719318,
         "_deepnote_index_column": "2020-02-03"
        },
        {
         "0": 151438.21343482155,
         "_deepnote_index_column": "2020-02-04"
        },
        {
         "0": 157488.7450142829,
         "_deepnote_index_column": "2020-02-05"
        },
        {
         "0": 160182.53322054428,
         "_deepnote_index_column": "2020-02-06"
        },
        {
         "0": 158519.49550156092,
         "_deepnote_index_column": "2020-02-07"
        },
        {
         "0": 157361.03243236858,
         "_deepnote_index_column": "2020-02-08"
        },
        {
         "0": 160320.46280901172,
         "_deepnote_index_column": "2020-02-09"
        },
        {
         "0": 155565.74875770227,
         "_deepnote_index_column": "2020-02-10"
        },
        {
         "0": 159005.9197407037,
         "_deepnote_index_column": "2020-02-11"
        },
        {
         "0": 172771.17087762567,
         "_deepnote_index_column": "2020-02-12"
        },
        {
         "0": 185435.86095434768,
         "_deepnote_index_column": "2020-02-13"
        },
        {
         "0": 190042.44532621026,
         "_deepnote_index_column": "2020-02-14"
        },
        {
         "0": 173817.24687473333,
         "_deepnote_index_column": "2020-02-15"
        },
        {
         "0": 167459.07175523552,
         "_deepnote_index_column": "2020-02-16"
        },
        {
         "0": 162656.11448755255,
         "_deepnote_index_column": "2020-02-17"
        },
        {
         "0": 169093.18384308333,
         "_deepnote_index_column": "2020-02-18"
        },
        {
         "0": 157564.7974339235,
         "_deepnote_index_column": "2020-02-19"
        },
        {
         "0": 154609.91734662268,
         "_deepnote_index_column": "2020-02-20"
        },
        {
         "0": 156052.73121077922,
         "_deepnote_index_column": "2020-02-21"
        },
        {
         "0": 156599.32414579875,
         "_deepnote_index_column": "2020-02-22"
        },
        {
         "0": 160464.63424419792,
         "_deepnote_index_column": "2020-02-23"
        },
        {
         "0": 153605.8427191697,
         "_deepnote_index_column": "2020-02-24"
        },
        {
         "0": 143834.74760600334,
         "_deepnote_index_column": "2020-02-25"
        },
        {
         "0": 131029.28612442157,
         "_deepnote_index_column": "2020-02-26"
        },
        {
         "0": 134585.252667621,
         "_deepnote_index_column": "2020-02-27"
        },
        {
         "0": 134119.82911330555,
         "_deepnote_index_column": "2020-02-28"
        },
        {
         "0": 131223.40924893133,
         "_deepnote_index_column": "2020-02-29"
        },
        {
         "0": 129891.26552612243,
         "_deepnote_index_column": "2020-03-01"
        },
        {
         "0": 135510.99973076218,
         "_deepnote_index_column": "2020-03-02"
        },
        {
         "0": 133032.8935477721,
         "_deepnote_index_column": "2020-03-03"
        },
        {
         "0": 133117.46295880267,
         "_deepnote_index_column": "2020-03-04"
        },
        {
         "0": 135984.94027646753,
         "_deepnote_index_column": "2020-03-05"
        },
        {
         "0": 138542.50736721157,
         "_deepnote_index_column": "2020-03-06"
        },
        {
         "0": 134559.71015123816,
         "_deepnote_index_column": "2020-03-07"
        },
        {
         "0": 117437.14896939517,
         "_deepnote_index_column": "2020-03-08"
        },
        {
         "0": 118729.55800943366,
         "_deepnote_index_column": "2020-03-09"
        },
        {
         "0": 120462.9898886338,
         "_deepnote_index_column": "2020-03-10"
        },
        {
         "0": 118113.72117321333,
         "_deepnote_index_column": "2020-03-11"
        },
        {
         "0": 79255.772590946,
         "_deepnote_index_column": "2020-03-12"
        },
        {
         "0": 90446.99778385203,
         "_deepnote_index_column": "2020-03-13"
        },
        {
         "0": 83601.8317534903,
         "_deepnote_index_column": "2020-03-14"
        },
        {
         "0": 87353.61297857582,
         "_deepnote_index_column": "2020-03-15"
        },
        {
         "0": 80066.29922339719,
         "_deepnote_index_column": "2020-03-16"
        },
        {
         "0": 82030.7301779115,
         "_deepnote_index_column": "2020-03-17"
        },
        {
         "0": 81222.47869013147,
         "_deepnote_index_column": "2020-03-18"
        },
        {
         "0": 93673.76188825333,
         "_deepnote_index_column": "2020-03-19"
        },
        {
         "0": 89037.09316845232,
         "_deepnote_index_column": "2020-03-20"
        },
        {
         "0": 89781.20925830808,
         "_deepnote_index_column": "2020-03-21"
        },
        {
         "0": 85260.33609870505,
         "_deepnote_index_column": "2020-03-22"
        },
        {
         "0": 81170.83544343157,
         "_deepnote_index_column": "2020-03-23"
        },
        {
         "0": 83664.45321172429,
         "_deepnote_index_column": "2020-03-24"
        },
        {
         "0": 83343.72567856472,
         "_deepnote_index_column": "2020-03-25"
        },
        {
         "0": 90246.02161216584,
         "_deepnote_index_column": "2020-03-26"
        },
        {
         "0": 90852.40887001052,
         "_deepnote_index_column": "2020-03-27"
        },
        {
         "0": 90639.96587340448,
         "_deepnote_index_column": "2020-03-28"
        },
        {
         "0": 84476.06091140602,
         "_deepnote_index_column": "2020-03-29"
        },
        {
         "0": 88777.49182196279,
         "_deepnote_index_column": "2020-03-30"
        },
        {
         "0": 90010.89672015738,
         "_deepnote_index_column": "2020-03-31"
        },
        {
         "0": 90402.77410136112,
         "_deepnote_index_column": "2020-04-01"
        },
        {
         "0": 92113.13653922518,
         "_deepnote_index_column": "2020-04-02"
        },
        {
         "0": 92539.56692978677,
         "_deepnote_index_column": "2020-04-03"
        },
        {
         "0": 93707.48477021897,
         "_deepnote_index_column": "2020-04-04"
        },
        {
         "0": 92508.11808226576,
         "_deepnote_index_column": "2020-04-05"
        },
        {
         "0": 84206.38301003962,
         "_deepnote_index_column": "2020-04-06"
        },
        {
         "0": 85676.39895217404,
         "_deepnote_index_column": "2020-04-07"
        },
        {
         "0": 89590.62580806154,
         "_deepnote_index_column": "2020-04-08"
        },
        {
         "0": 88425.6364336105,
         "_deepnote_index_column": "2020-04-09"
        },
        {
         "0": 83611.79410640545,
         "_deepnote_index_column": "2020-04-10"
        },
        {
         "0": 83878.9558224053,
         "_deepnote_index_column": "2020-04-11"
        },
        {
         "0": 84803.10221301627,
         "_deepnote_index_column": "2020-04-12"
        },
        {
         "0": 83731.32501496453,
         "_deepnote_index_column": "2020-04-13"
        },
        {
         "0": 82662.22621314014,
         "_deepnote_index_column": "2020-04-14"
        },
        {
         "0": 80849.17793612111,
         "_deepnote_index_column": "2020-04-15"
        },
        {
         "0": 84789.27158634341,
         "_deepnote_index_column": "2020-04-16"
        },
        {
         "0": 86939.51200379865,
         "_deepnote_index_column": "2020-04-18"
        },
        {
         "0": 85126.01843509909,
         "_deepnote_index_column": "2020-04-19"
        },
        {
         "0": 81839.32718761059,
         "_deepnote_index_column": "2020-04-20"
        },
        {
         "0": 82213.09306114657,
         "_deepnote_index_column": "2020-04-21"
        },
        {
         "0": 83837.4772346757,
         "_deepnote_index_column": "2020-04-22"
        },
        {
         "0": 85506.01839216182,
         "_deepnote_index_column": "2020-04-23"
        },
        {
         "0": 86377.5339645977,
         "_deepnote_index_column": "2020-04-24"
        },
        {
         "0": 86997.04767660353,
         "_deepnote_index_column": "2020-04-25"
        },
        {
         "0": 87778.02282272297,
         "_deepnote_index_column": "2020-04-26"
        },
        {
         "0": 88301.20067042166,
         "_deepnote_index_column": "2020-04-27"
        },
        {
         "0": 96109.1377341721,
         "_deepnote_index_column": "2020-04-28"
        },
        {
         "0": 101438.12936653827,
         "_deepnote_index_column": "2020-04-29"
        },
        {
         "0": 94894.64122945385,
         "_deepnote_index_column": "2020-04-30"
        },
        {
         "0": 97787.94053874278,
         "_deepnote_index_column": "2020-05-01"
        },
        {
         "0": 99869.04776126714,
         "_deepnote_index_column": "2020-05-02"
        },
        {
         "0": 97861.97858830339,
         "_deepnote_index_column": "2020-05-03"
        },
        {
         "0": 97660.82637932654,
         "_deepnote_index_column": "2020-05-04"
        },
        {
         "0": 96545.78942682325,
         "_deepnote_index_column": "2020-05-05"
        },
        {
         "0": 95986.93507553014,
         "_deepnote_index_column": "2020-05-06"
        },
        {
         "0": 97640.30973130197,
         "_deepnote_index_column": "2020-05-07"
        },
        {
         "0": 98046.18312884402,
         "_deepnote_index_column": "2020-05-08"
        },
        {
         "0": 96741.59148948985,
         "_deepnote_index_column": "2020-05-09"
        },
        {
         "0": 88389.50799219118,
         "_deepnote_index_column": "2020-05-10"
        },
        {
         "0": 86555.49777546705,
         "_deepnote_index_column": "2020-05-11"
        },
        {
         "0": 88149.11030003159,
         "_deepnote_index_column": "2020-05-12"
        },
        {
         "0": 89863.14431651615,
         "_deepnote_index_column": "2020-05-13"
        },
        {
         "0": 90598.61995749272,
         "_deepnote_index_column": "2020-05-14"
        },
        {
         "0": 88717.32906890377,
         "_deepnote_index_column": "2020-05-15"
        },
        {
         "0": 89217.31187235056,
         "_deepnote_index_column": "2020-05-16"
        },
        {
         "0": 89762.78753479573,
         "_deepnote_index_column": "2020-05-17"
        },
        {
         "0": 91511.61411765823,
         "_deepnote_index_column": "2020-05-18"
        },
        {
         "0": 90999.58850040498,
         "_deepnote_index_column": "2020-05-19"
        },
        {
         "0": 89964.39168159755,
         "_deepnote_index_column": "2020-05-20"
        },
        {
         "0": 87199.98769844678,
         "_deepnote_index_column": "2020-05-21"
        },
        {
         "0": 89356.02355389274,
         "_deepnote_index_column": "2020-05-22"
        },
        {
         "0": 88692.79814961039,
         "_deepnote_index_column": "2020-05-23"
        },
        {
         "0": 87165.19513206887,
         "_deepnote_index_column": "2020-05-24"
        },
        {
         "0": 88010.8439101699,
         "_deepnote_index_column": "2020-05-25"
        },
        {
         "0": 86515.80035445941,
         "_deepnote_index_column": "2020-05-26"
        },
        {
         "0": 88247.23397720518,
         "_deepnote_index_column": "2020-05-27"
        },
        {
         "0": 89468.42314941961,
         "_deepnote_index_column": "2020-05-28"
        },
        {
         "0": 88466.22443797924,
         "_deepnote_index_column": "2020-05-29"
        },
        {
         "0": 91977.25629255205,
         "_deepnote_index_column": "2020-05-30"
        },
        {
         "0": 93455.35217982631,
         "_deepnote_index_column": "2020-05-31"
        },
        {
         "0": 96837.42816986881,
         "_deepnote_index_column": "2020-06-01"
        },
        {
         "0": 93389.95233261402,
         "_deepnote_index_column": "2020-06-02"
        },
        {
         "0": 93804.01867558432,
         "_deepnote_index_column": "2020-06-03"
        },
        {
         "0": 94411.52553630872,
         "_deepnote_index_column": "2020-06-04"
        },
        {
         "0": 94001.60459240609,
         "_deepnote_index_column": "2020-06-05"
        },
        {
         "0": 94439.1569545978,
         "_deepnote_index_column": "2020-06-06"
        },
        {
         "0": 94581.87597904853,
         "_deepnote_index_column": "2020-06-07"
        },
        {
         "0": 94731.57093096364,
         "_deepnote_index_column": "2020-06-08"
        },
        {
         "0": 93914.2928828313,
         "_deepnote_index_column": "2020-06-09"
        },
        {
         "0": 94344.32036374595,
         "_deepnote_index_column": "2020-06-10"
        },
        {
         "0": 88413.2233460245,
         "_deepnote_index_column": "2020-06-11"
        },
        {
         "0": 90162.60861175311,
         "_deepnote_index_column": "2020-06-12"
        },
        {
         "0": 89773.49456440833,
         "_deepnote_index_column": "2020-06-13"
        },
        {
         "0": 89081.27058041464,
         "_deepnote_index_column": "2020-06-14"
        },
        {
         "0": 89758.62136056913,
         "_deepnote_index_column": "2020-06-15"
        },
        {
         "0": 88937.15221400975,
         "_deepnote_index_column": "2020-06-16"
        },
        {
         "0": 89930.16544378788,
         "_deepnote_index_column": "2020-06-17"
        },
        {
         "0": 88774.44061094706,
         "_deepnote_index_column": "2020-06-18"
        },
        {
         "0": 86837.2387162063,
         "_deepnote_index_column": "2020-06-19"
        },
        {
         "0": 87632.20349486211,
         "_deepnote_index_column": "2020-06-20"
        },
        {
         "0": 86288.66203300912,
         "_deepnote_index_column": "2020-06-21"
        },
        {
         "0": 87991.1000689201,
         "_deepnote_index_column": "2020-06-22"
        },
        {
         "0": 87715.87998725803,
         "_deepnote_index_column": "2020-06-23"
        },
        {
         "0": 85666.6406795262,
         "_deepnote_index_column": "2020-06-24"
        },
        {
         "0": 85340.28226961952,
         "_deepnote_index_column": "2020-06-25"
        },
        {
         "0": 84922.34316350665,
         "_deepnote_index_column": "2020-06-26"
        },
        {
         "0": 82216.67393057824,
         "_deepnote_index_column": "2020-06-27"
        },
        {
         "0": 82607.64453061465,
         "_deepnote_index_column": "2020-06-28"
        },
        {
         "0": 82731.77031840745,
         "_deepnote_index_column": "2020-06-29"
        },
        {
         "0": 81760.61314736839,
         "_deepnote_index_column": "2020-06-30"
        },
        {
         "0": 82274.78125885183,
         "_deepnote_index_column": "2020-07-01"
        },
        {
         "0": 82399.37118481756,
         "_deepnote_index_column": "2020-07-02"
        },
        {
         "0": 81977.25483514859,
         "_deepnote_index_column": "2020-07-03"
        },
        {
         "0": 82743.39455503636,
         "_deepnote_index_column": "2020-07-04"
        },
        {
         "0": 82293.84556111805,
         "_deepnote_index_column": "2020-07-05"
        },
        {
         "0": 87663.34924449469,
         "_deepnote_index_column": "2020-07-06"
        },
        {
         "0": 89420.63871403351,
         "_deepnote_index_column": "2020-07-07"
        },
        {
         "0": 99052.90638637486,
         "_deepnote_index_column": "2020-07-08"
        },
        {
         "0": 98190.57527263198,
         "_deepnote_index_column": "2020-07-09"
        },
        {
         "0": 100251.07562176419,
         "_deepnote_index_column": "2020-07-10"
        },
        {
         "0": 101535.42665010216,
         "_deepnote_index_column": "2020-07-11"
        },
        {
         "0": 101202.85589603728,
         "_deepnote_index_column": "2020-07-12"
        },
        {
         "0": 100212.21992733222,
         "_deepnote_index_column": "2020-07-13"
        },
        {
         "0": 100330.30604493718,
         "_deepnote_index_column": "2020-07-14"
        },
        {
         "0": 99473.39773523802,
         "_deepnote_index_column": "2020-07-15"
        },
        {
         "0": 97927.63744623745,
         "_deepnote_index_column": "2020-07-16"
        },
        {
         "0": 98045.21972573001,
         "_deepnote_index_column": "2020-07-17"
        },
        {
         "0": 100598.78407911753,
         "_deepnote_index_column": "2020-07-18"
        },
        {
         "0": 100494.82798857611,
         "_deepnote_index_column": "2020-07-19"
        },
        {
         "0": 98440.87552345458,
         "_deepnote_index_column": "2020-07-20"
        },
        {
         "0": 100420.64346649924,
         "_deepnote_index_column": "2020-07-21"
        },
        {
         "0": 102617.91907467839,
         "_deepnote_index_column": "2020-07-22"
        },
        {
         "0": 104755.64402595664,
         "_deepnote_index_column": "2020-07-23"
        },
        {
         "0": 106536.57639391413,
         "_deepnote_index_column": "2020-07-24"
        },
        {
         "0": 111785.37212383411,
         "_deepnote_index_column": "2020-07-25"
        },
        {
         "0": 112244.83284855032,
         "_deepnote_index_column": "2020-07-26"
        },
        {
         "0": 116781.99194495186,
         "_deepnote_index_column": "2020-07-27"
        },
        {
         "0": 120230.54592885442,
         "_deepnote_index_column": "2020-07-28"
        },
        {
         "0": 126925.07603242631,
         "_deepnote_index_column": "2020-07-29"
        },
        {
         "0": 127668.0430699415,
         "_deepnote_index_column": "2020-07-30"
        },
        {
         "0": 135177.0703164038,
         "_deepnote_index_column": "2020-07-31"
        },
        {
         "0": 151166.76411758433,
         "_deepnote_index_column": "2020-08-01"
        },
        {
         "0": 149878.70873519193,
         "_deepnote_index_column": "2020-08-02"
        },
        {
         "0": 161823.6139260246,
         "_deepnote_index_column": "2020-08-03"
        },
        {
         "0": 156891.21092998493,
         "_deepnote_index_column": "2020-08-04"
        },
        {
         "0": 158362.51844442083,
         "_deepnote_index_column": "2020-08-05"
        },
        {
         "0": 158505.06516953345,
         "_deepnote_index_column": "2020-08-06"
        },
        {
         "0": 153847.8126745489,
         "_deepnote_index_column": "2020-08-07"
        },
        {
         "0": 153512.6154742022,
         "_deepnote_index_column": "2020-08-08"
        },
        {
         "0": 150709.3884557614,
         "_deepnote_index_column": "2020-08-09"
        },
        {
         "0": 153845.19856584686,
         "_deepnote_index_column": "2020-08-10"
        },
        {
         "0": 148514.43963599994,
         "_deepnote_index_column": "2020-08-11"
        },
        {
         "0": 148765.56523327014,
         "_deepnote_index_column": "2020-08-12"
        },
        {
         "0": 155488.81941222222,
         "_deepnote_index_column": "2020-08-13"
        },
        {
         "0": 156827.5075905448,
         "_deepnote_index_column": "2020-08-14"
        },
        {
         "0": 156456.8176405003,
         "_deepnote_index_column": "2020-08-15"
        },
        {
         "0": 158457.03092213438,
         "_deepnote_index_column": "2020-08-16"
        },
        {
         "0": 164343.84811730433,
         "_deepnote_index_column": "2020-08-17"
        },
        {
         "0": 158360.43338152757,
         "_deepnote_index_column": "2020-08-18"
        },
        {
         "0": 151541.12626794825,
         "_deepnote_index_column": "2020-08-19"
        },
        {
         "0": 152756.07996771001,
         "_deepnote_index_column": "2020-08-20"
        },
        {
         "0": 146547.63404117042,
         "_deepnote_index_column": "2020-08-21"
        },
        {
         "0": 149609.29993717867,
         "_deepnote_index_column": "2020-08-22"
        },
        {
         "0": 149003.65140737206,
         "_deepnote_index_column": "2020-08-23"
        },
        {
         "0": 151002.82215755957,
         "_deepnote_index_column": "2020-08-24"
        },
        {
         "0": 145109.22072790115,
         "_deepnote_index_column": "2020-08-25"
        },
        {
         "0": 144881.5754284363,
         "_deepnote_index_column": "2020-08-26"
        },
        {
         "0": 138104.5452990433,
         "_deepnote_index_column": "2020-08-27"
        },
        {
         "0": 142038.6699743403,
         "_deepnote_index_column": "2020-08-28"
        },
        {
         "0": 143318.36954498876,
         "_deepnote_index_column": "2020-08-29"
        },
        {
         "0": 147775.6427242712,
         "_deepnote_index_column": "2020-08-30"
        },
        {
         "0": 147113.60413532172,
         "_deepnote_index_column": "2020-08-31"
        },
        {
         "0": 154386.63027057538,
         "_deepnote_index_column": "2020-09-01"
        },
        {
         "0": 144343.8003638563,
         "_deepnote_index_column": "2020-09-02"
        },
        {
         "0": 128742.5506676547,
         "_deepnote_index_column": "2020-09-03"
        },
        {
         "0": 133599.76691817056,
         "_deepnote_index_column": "2020-09-04"
        },
        {
         "0": 124102.00979615786,
         "_deepnote_index_column": "2020-09-05"
        },
        {
         "0": 125688.71153758156,
         "_deepnote_index_column": "2020-09-06"
        },
        {
         "0": 126442.11944973384,
         "_deepnote_index_column": "2020-09-07"
        },
        {
         "0": 123611.74771325363,
         "_deepnote_index_column": "2020-09-08"
        },
        {
         "0": 125102.90222560261,
         "_deepnote_index_column": "2020-09-09"
        },
        {
         "0": 127150.10722318913,
         "_deepnote_index_column": "2020-09-10"
        },
        {
         "0": 127025.84369881958,
         "_deepnote_index_column": "2020-09-11"
        },
        {
         "0": 129386.83510166981,
         "_deepnote_index_column": "2020-09-12"
        },
        {
         "0": 126247.36835143568,
         "_deepnote_index_column": "2020-09-13"
        },
        {
         "0": 128610.45259726465,
         "_deepnote_index_column": "2020-09-14"
        },
        {
         "0": 127317.17677755372,
         "_deepnote_index_column": "2020-09-15"
        },
        {
         "0": 129404.06799088084,
         "_deepnote_index_column": "2020-09-16"
        },
        {
         "0": 131673.6822904428,
         "_deepnote_index_column": "2020-09-17"
        },
        {
         "0": 132450.05701476254,
         "_deepnote_index_column": "2020-09-18"
        },
        {
         "0": 132983.1113049815,
         "_deepnote_index_column": "2020-09-19"
        },
        {
         "0": 130355.84768282661,
         "_deepnote_index_column": "2020-09-20"
        },
        {
         "0": 122639.9356406356,
         "_deepnote_index_column": "2020-09-21"
        },
        {
         "0": 123315.64524738716,
         "_deepnote_index_column": "2020-09-22"
        },
        {
         "0": 117102.75862618144,
         "_deepnote_index_column": "2020-09-23"
        },
        {
         "0": 123104.84664848009,
         "_deepnote_index_column": "2020-09-24"
        },
        {
         "0": 127747.07627073387,
         "_deepnote_index_column": "2020-09-25"
        },
        {
         "0": 128045.03781123624,
         "_deepnote_index_column": "2020-09-26"
        },
        {
         "0": 127578.54445591508,
         "_deepnote_index_column": "2020-09-27"
        },
        {
         "0": 126948.6609690221,
         "_deepnote_index_column": "2020-09-28"
        },
        {
         "0": 127519.28162378597,
         "_deepnote_index_column": "2020-09-29"
        },
        {
         "0": 127085.02097099874,
         "_deepnote_index_column": "2020-09-30"
        },
        {
         "0": 125013.36179378882,
         "_deepnote_index_column": "2020-10-01"
        },
        {
         "0": 122832.08630595746,
         "_deepnote_index_column": "2020-10-02"
        },
        {
         "0": 122466.52927406522,
         "_deepnote_index_column": "2020-10-03"
        },
        {
         "0": 130332.019273453,
         "_deepnote_index_column": "2020-10-04"
        },
        {
         "0": 131587.6051032076,
         "_deepnote_index_column": "2020-10-05"
        },
        {
         "0": 128946.36469582486,
         "_deepnote_index_column": "2020-10-06"
        },
        {
         "0": 130614.71150130131,
         "_deepnote_index_column": "2020-10-07"
        },
        {
         "0": 129264.73341433243,
         "_deepnote_index_column": "2020-10-08"
        },
        {
         "0": 130639.00213502631,
         "_deepnote_index_column": "2020-10-10"
        },
        {
         "0": 131373.13253853517,
         "_deepnote_index_column": "2020-10-11"
        },
        {
         "0": 128151.46536077686,
         "_deepnote_index_column": "2020-10-14"
        },
        {
         "0": 129953.66677616877,
         "_deepnote_index_column": "2020-10-15"
        },
        {
         "0": 127049.07832772972,
         "_deepnote_index_column": "2020-10-16"
        },
        {
         "0": 127306.93449651917,
         "_deepnote_index_column": "2020-10-17"
        },
        {
         "0": 127990.67970527396,
         "_deepnote_index_column": "2020-10-18"
        },
        {
         "0": 129966.35132494644,
         "_deepnote_index_column": "2020-10-19"
        },
        {
         "0": 131229.7512801091,
         "_deepnote_index_column": "2020-10-20"
        },
        {
         "0": 135562.53337893123,
         "_deepnote_index_column": "2020-10-21"
        },
        {
         "0": 132765.23481125137,
         "_deepnote_index_column": "2020-10-22"
        },
        {
         "0": 133761.98175078182,
         "_deepnote_index_column": "2020-10-23"
        },
        {
         "0": 134576.4885423466,
         "_deepnote_index_column": "2020-10-24"
        },
        {
         "0": 132887.65030576658,
         "_deepnote_index_column": "2020-10-25"
        },
        {
         "0": 130512.9087319998,
         "_deepnote_index_column": "2020-10-26"
        },
        {
         "0": 132722.86271132133,
         "_deepnote_index_column": "2020-10-27"
        },
        {
         "0": 129031.38442521976,
         "_deepnote_index_column": "2020-10-28"
        },
        {
         "0": 127157.82486326052,
         "_deepnote_index_column": "2020-10-29"
        },
        {
         "0": 125525.15923919478,
         "_deepnote_index_column": "2020-10-30"
        },
        {
         "0": 125819.04296163471,
         "_deepnote_index_column": "2020-10-31"
        },
        {
         "0": 125846.85947043508,
         "_deepnote_index_column": "2020-11-01"
        },
        {
         "0": 123550.31223782522,
         "_deepnote_index_column": "2020-11-02"
        },
        {
         "0": 125696.24210763059,
         "_deepnote_index_column": "2020-11-03"
        },
        {
         "0": 124795.1498829936,
         "_deepnote_index_column": "2020-11-04"
        },
        {
         "0": 128984.67427423169,
         "_deepnote_index_column": "2020-11-05"
        },
        {
         "0": 135633.4376746001,
         "_deepnote_index_column": "2020-11-06"
        },
        {
         "0": 140284.79275004283,
         "_deepnote_index_column": "2020-11-07"
        },
        {
         "0": 142733.77657343587,
         "_deepnote_index_column": "2020-11-08"
        },
        {
         "0": 144527.36738541102,
         "_deepnote_index_column": "2020-11-09"
        },
        {
         "0": 146350.4613623404,
         "_deepnote_index_column": "2020-11-10"
        },
        {
         "0": 147703.81644908484,
         "_deepnote_index_column": "2020-11-11"
        },
        {
         "0": 146922.23524878436,
         "_deepnote_index_column": "2020-11-12"
        },
        {
         "0": 152852.08322665942,
         "_deepnote_index_column": "2020-11-13"
        },
        {
         "0": 154668.27180485206,
         "_deepnote_index_column": "2020-11-14"
        },
        {
         "0": 155417.57627822142,
         "_deepnote_index_column": "2020-11-15"
        },
        {
         "0": 164569.4111606932,
         "_deepnote_index_column": "2020-11-16"
        },
        {
         "0": 174303.41238293162,
         "_deepnote_index_column": "2020-11-17"
        },
        {
         "0": 169585.11833117504,
         "_deepnote_index_column": "2020-11-18"
        },
        {
         "0": 175086.14448302152,
         "_deepnote_index_column": "2020-11-19"
        },
        {
         "0": 189093.4366235004,
         "_deepnote_index_column": "2020-11-20"
        },
        {
         "0": 264182.57071050967,
         "_deepnote_index_column": "2020-11-21"
        },
        {
         "0": 255741.9747203112,
         "_deepnote_index_column": "2020-11-22"
        },
        {
         "0": 353888.8020503201,
         "_deepnote_index_column": "2020-11-23"
        },
        {
         "0": 398917.73913507536,
         "_deepnote_index_column": "2020-11-24"
        },
        {
         "0": 366282.8247053349,
         "_deepnote_index_column": "2020-11-25"
        },
        {
         "0": 307224.1099901845,
         "_deepnote_index_column": "2020-11-26"
        },
        {
         "0": 322353.6324910332,
         "_deepnote_index_column": "2020-11-27"
        },
        {
         "0": 360599.06315109733,
         "_deepnote_index_column": "2020-11-28"
        },
        {
         "0": 349431.04079119995,
         "_deepnote_index_column": "2020-11-29"
        },
        {
         "0": 382913.80763598275,
         "_deepnote_index_column": "2020-11-30"
        },
        {
         "0": 353279.58097669686,
         "_deepnote_index_column": "2020-12-01"
        },
        {
         "0": 363060.8206231293,
         "_deepnote_index_column": "2020-12-02"
        },
        {
         "0": 363977.2804077102,
         "_deepnote_index_column": "2020-12-03"
        },
        {
         "0": 321197.4076428525,
         "_deepnote_index_column": "2020-12-04"
        },
        {
         "0": 336851.4312507336,
         "_deepnote_index_column": "2020-12-05"
        },
        {
         "0": 357272.7566282715,
         "_deepnote_index_column": "2020-12-06"
        },
        {
         "0": 350980.35803910985,
         "_deepnote_index_column": "2020-12-07"
        },
        {
         "0": 322104.62587390014,
         "_deepnote_index_column": "2020-12-08"
        },
        {
         "0": 336372.45080701547,
         "_deepnote_index_column": "2020-12-09"
        },
        {
         "0": 330242.0370688172,
         "_deepnote_index_column": "2020-12-10"
        },
        {
         "0": 314984.5413824247,
         "_deepnote_index_column": "2020-12-11"
        },
        {
         "0": 291881.89433720126,
         "_deepnote_index_column": "2020-12-12"
        },
        {
         "0": 294800.12958542636,
         "_deepnote_index_column": "2020-12-13"
        },
        {
         "0": 286873.6766041552,
         "_deepnote_index_column": "2020-12-14"
        },
        {
         "0": 270733.7499762104,
         "_deepnote_index_column": "2020-12-15"
        },
        {
         "0": 327748.6040861621,
         "_deepnote_index_column": "2020-12-16"
        },
        {
         "0": 332387.93267027516,
         "_deepnote_index_column": "2020-12-17"
        },
        {
         "0": 336770.18116112007,
         "_deepnote_index_column": "2020-12-18"
        },
        {
         "0": 333820.82008575334,
         "_deepnote_index_column": "2020-12-19"
        },
        {
         "0": 320503.432247421,
         "_deepnote_index_column": "2020-12-20"
        },
        {
         "0": 297958.7139359504,
         "_deepnote_index_column": "2020-12-21"
        },
        {
         "0": 258478.65982115237,
         "_deepnote_index_column": "2020-12-22"
        },
        {
         "0": 149054.28569755124,
         "_deepnote_index_column": "2020-12-23"
        },
        {
         "0": 194713.77844605656,
         "_deepnote_index_column": "2020-12-24"
        },
        {
         "0": 183342.85417103945,
         "_deepnote_index_column": "2020-12-25"
        },
        {
         "0": 169868.11943611907,
         "_deepnote_index_column": "2020-12-26"
        },
        {
         "0": 163139.40958349302,
         "_deepnote_index_column": "2020-12-27"
        },
        {
         "0": 142919.25118258636,
         "_deepnote_index_column": "2020-12-28"
        },
        {
         "0": 127359.16332841606,
         "_deepnote_index_column": "2020-12-29"
        },
        {
         "0": 122094.45812960548,
         "_deepnote_index_column": "2020-12-30"
        },
        {
         "0": 126715.91341176438,
         "_deepnote_index_column": "2020-12-31"
        },
        {
         "0": 136859.13680839306,
         "_deepnote_index_column": "2021-01-01"
        },
        {
         "0": 127758.59426579157,
         "_deepnote_index_column": "2021-01-02"
        },
        {
         "0": 130175.3807579909,
         "_deepnote_index_column": "2021-01-03"
        },
        {
         "0": 136417.0538683726,
         "_deepnote_index_column": "2021-01-04"
        },
        {
         "0": 130695.27826586545,
         "_deepnote_index_column": "2021-01-05"
        },
        {
         "0": 144612.08735200192,
         "_deepnote_index_column": "2021-01-06"
        },
        {
         "0": 187902.63324880978,
         "_deepnote_index_column": "2021-01-07"
        },
        {
         "0": 189500.37417592068,
         "_deepnote_index_column": "2021-01-08"
        },
        {
         "0": 191661.37543353444,
         "_deepnote_index_column": "2021-01-09"
        },
        {
         "0": 186631.170722556,
         "_deepnote_index_column": "2021-01-10"
        },
        {
         "0": 169376.61999613533,
         "_deepnote_index_column": "2021-01-11"
        },
        {
         "0": 171263.2372386979,
         "_deepnote_index_column": "2021-01-12"
        },
        {
         "0": 179152.6862277621,
         "_deepnote_index_column": "2021-01-13"
        },
        {
         "0": 173206.72661377394,
         "_deepnote_index_column": "2021-01-14"
        },
        {
         "0": 164393.90482622347,
         "_deepnote_index_column": "2021-01-15"
        },
        {
         "0": 164266.0954101448,
         "_deepnote_index_column": "2021-01-16"
        },
        {
         "0": 162622.20248858913,
         "_deepnote_index_column": "2021-01-17"
        },
        {
         "0": 166951.80542705578,
         "_deepnote_index_column": "2021-01-18"
        },
        {
         "0": 172547.76118282272,
         "_deepnote_index_column": "2021-01-19"
        },
        {
         "0": 173839.90302242406,
         "_deepnote_index_column": "2021-01-20"
        },
        {
         "0": 157675.23551625712,
         "_deepnote_index_column": "2021-01-21"
        },
        {
         "0": 159934.13371963837,
         "_deepnote_index_column": "2021-01-22"
        },
        {
         "0": 159360.76477937342,
         "_deepnote_index_column": "2021-01-23"
        },
        {
         "0": 160350.39230182007,
         "_deepnote_index_column": "2021-01-24"
        },
        {
         "0": 157759.08478321024,
         "_deepnote_index_column": "2021-01-25"
        },
        {
         "0": 157605.46887259313,
         "_deepnote_index_column": "2021-01-26"
        },
        {
         "0": 147706.86984056182,
         "_deepnote_index_column": "2021-01-27"
        },
        {
         "0": 150834.6274619555,
         "_deepnote_index_column": "2021-01-28"
        },
        {
         "0": 165438.6397852132,
         "_deepnote_index_column": "2021-01-29"
        },
        {
         "0": 258102.2835549472,
         "_deepnote_index_column": "2021-01-30"
        },
        {
         "0": 227575.13993439102,
         "_deepnote_index_column": "2021-01-31"
        },
        {
         "0": 171732.2837781582,
         "_deepnote_index_column": "2021-02-01"
        },
        {
         "0": 170697.29757909253,
         "_deepnote_index_column": "2021-02-02"
        },
        {
         "0": 181893.13487206295,
         "_deepnote_index_column": "2021-02-03"
        },
        {
         "0": 206373.7656036369,
         "_deepnote_index_column": "2021-02-04"
        },
        {
         "0": 208036.9512846187,
         "_deepnote_index_column": "2021-02-05"
        },
        {
         "0": 202974.79311733783,
         "_deepnote_index_column": "2021-02-06"
        },
        {
         "0": 193203.61857048306,
         "_deepnote_index_column": "2021-02-07"
        },
        {
         "0": 206952.9627707027,
         "_deepnote_index_column": "2021-02-08"
        },
        {
         "0": 218180.70598472832,
         "_deepnote_index_column": "2021-02-09"
        },
        {
         "0": 232720.52075672135,
         "_deepnote_index_column": "2021-02-10"
        },
        {
         "0": 242585.9803310812,
         "_deepnote_index_column": "2021-02-11"
        },
        {
         "0": 281325.33411909954,
         "_deepnote_index_column": "2021-02-12"
        },
        {
         "0": 290757.2258405019,
         "_deepnote_index_column": "2021-02-13"
        },
        {
         "0": 274669.3126347185,
         "_deepnote_index_column": "2021-02-14"
        },
        {
         "0": 253739.30394858686,
         "_deepnote_index_column": "2021-02-15"
        },
        {
         "0": 240764.22938613326,
         "_deepnote_index_column": "2021-02-16"
        },
        {
         "0": 247555.23110129972,
         "_deepnote_index_column": "2021-02-17"
        },
        {
         "0": 246120.37388990732,
         "_deepnote_index_column": "2021-02-18"
        },
        {
         "0": 262107.9680468461,
         "_deepnote_index_column": "2021-02-19"
        },
        {
         "0": 239223.07420977452,
         "_deepnote_index_column": "2021-02-20"
        },
        {
         "0": 253575.2006102406,
         "_deepnote_index_column": "2021-02-21"
        },
        {
         "0": 264290.74082563375,
         "_deepnote_index_column": "2021-02-22"
        },
        {
         "0": 218907.36471439118,
         "_deepnote_index_column": "2021-02-23"
        },
        {
         "0": 218107.20940060494,
         "_deepnote_index_column": "2021-02-24"
        },
        {
         "0": 200861.35647873612,
         "_deepnote_index_column": "2021-02-25"
        },
        {
         "0": 197799.36617505,
         "_deepnote_index_column": "2021-02-26"
        },
        {
         "0": 202379.86341061522,
         "_deepnote_index_column": "2021-02-27"
        },
        {
         "0": 191814.5400187048,
         "_deepnote_index_column": "2021-02-28"
        },
        {
         "0": 206741.24852425331,
         "_deepnote_index_column": "2021-03-01"
        },
        {
         "0": 201930.54924169646,
         "_deepnote_index_column": "2021-03-02"
        },
        {
         "0": 208144.19981459045,
         "_deepnote_index_column": "2021-03-03"
        },
        {
         "0": 224936.10972925273,
         "_deepnote_index_column": "2021-03-04"
        },
        {
         "0": 211768.2908915472,
         "_deepnote_index_column": "2021-03-05"
        },
        {
         "0": 214998.0765831662,
         "_deepnote_index_column": "2021-03-06"
        },
        {
         "0": 215812.10463551138,
         "_deepnote_index_column": "2021-03-07"
        },
        {
         "0": 218923.08347774346,
         "_deepnote_index_column": "2021-03-08"
        },
        {
         "0": 224650.89889868014,
         "_deepnote_index_column": "2021-03-09"
        },
        {
         "0": 214101.2942701221,
         "_deepnote_index_column": "2021-03-10"
        },
        {
         "0": 209383.516160932,
         "_deepnote_index_column": "2021-03-11"
        },
        {
         "0": 203915.4805125938,
         "_deepnote_index_column": "2021-03-12"
        },
        {
         "0": 212602.6665455325,
         "_deepnote_index_column": "2021-03-13"
        },
        {
         "0": 204368.95512544978,
         "_deepnote_index_column": "2021-03-14"
        },
        {
         "0": 202262.4479679754,
         "_deepnote_index_column": "2021-03-15"
        },
        {
         "0": 213839.6546964257,
         "_deepnote_index_column": "2021-03-16"
        },
        {
         "0": 218377.6244802217,
         "_deepnote_index_column": "2021-03-17"
        },
        {
         "0": 218609.67255200667,
         "_deepnote_index_column": "2021-03-18"
        },
        {
         "0": 219417.69413562128,
         "_deepnote_index_column": "2021-03-19"
        },
        {
         "0": 245412.2902899404,
         "_deepnote_index_column": "2021-03-20"
        },
        {
         "0": 248744.74541972918,
         "_deepnote_index_column": "2021-03-21"
        },
        {
         "0": 234338.32141082757,
         "_deepnote_index_column": "2021-03-22"
        },
        {
         "0": 237173.2664536212,
         "_deepnote_index_column": "2021-03-23"
        },
        {
         "0": 208300.58339659323,
         "_deepnote_index_column": "2021-03-24"
        },
        {
         "0": 220513.4592843668,
         "_deepnote_index_column": "2021-03-25"
        },
        {
         "0": 241630.40789562307,
         "_deepnote_index_column": "2021-03-26"
        },
        {
         "0": 234551.79504062785,
         "_deepnote_index_column": "2021-03-27"
        },
        {
         "0": 234685.1620876334,
         "_deepnote_index_column": "2021-03-28"
        },
        {
         "0": 241978.11211834362,
         "_deepnote_index_column": "2021-03-29"
        },
        {
         "0": 241546.89792598793,
         "_deepnote_index_column": "2021-03-30"
        },
        {
         "0": 244533.95404181827,
         "_deepnote_index_column": "2021-03-31"
        },
        {
         "0": 246844.7775111962,
         "_deepnote_index_column": "2021-04-01"
        },
        {
         "0": 262729.0442538055,
         "_deepnote_index_column": "2021-04-02"
        },
        {
         "0": 251797.51811301886,
         "_deepnote_index_column": "2021-04-03"
        },
        {
         "0": 275580.664735969,
         "_deepnote_index_column": "2021-04-04"
        },
        {
         "0": 392226.9737884298,
         "_deepnote_index_column": "2021-04-05"
        },
        {
         "0": 467134.95937978965,
         "_deepnote_index_column": "2021-04-06"
        },
        {
         "0": 390992.5349033395,
         "_deepnote_index_column": "2021-04-07"
        },
        {
         "0": 448594.6793875983,
         "_deepnote_index_column": "2021-04-08"
        },
        {
         "0": 434993.5264498682,
         "_deepnote_index_column": "2021-04-09"
        },
        {
         "0": 585658.7188444858,
         "_deepnote_index_column": "2021-04-10"
        },
        {
         "0": 579741.7022368335,
         "_deepnote_index_column": "2021-04-11"
        },
        {
         "0": 625423.3319222697,
         "_deepnote_index_column": "2021-04-12"
        },
        {
         "0": 764450.0080560388,
         "_deepnote_index_column": "2021-04-13"
        },
        {
         "0": 783725.318012111,
         "_deepnote_index_column": "2021-04-14"
        },
        {
         "0": 752546.9419643751,
         "_deepnote_index_column": "2021-04-15"
        },
        {
         "0": 663684.9687338949,
         "_deepnote_index_column": "2021-04-16"
        },
        {
         "0": 664762.2168640972,
         "_deepnote_index_column": "2021-04-17"
        },
        {
         "0": 599116.2691762801,
         "_deepnote_index_column": "2021-04-18"
        },
        {
         "0": 560359.4649777915,
         "_deepnote_index_column": "2021-04-19"
        },
        {
         "0": 589443.8945727904,
         "_deepnote_index_column": "2021-04-20"
        },
        {
         "0": 552456.6991408344,
         "_deepnote_index_column": "2021-04-21"
        },
        {
         "0": 494157.4445177143,
         "_deepnote_index_column": "2021-04-22"
        },
        {
         "0": 498409.18902405945,
         "_deepnote_index_column": "2021-04-23"
        },
        {
         "0": 446868.9590722609,
         "_deepnote_index_column": "2021-04-24"
        },
        {
         "0": 439859.35369521537,
         "_deepnote_index_column": "2021-04-25"
        },
        {
         "0": 583140.3649730737,
         "_deepnote_index_column": "2021-04-26"
        },
        {
         "0": 596967.3605659121,
         "_deepnote_index_column": "2021-04-27"
        },
        {
         "0": 578919.7081196585,
         "_deepnote_index_column": "2021-04-28"
        },
        {
         "0": 596287.69913421,
         "_deepnote_index_column": "2021-04-29"
        },
        {
         "0": 678235.5142096303,
         "_deepnote_index_column": "2021-04-30"
        },
        {
         "0": 703525.8786330849,
         "_deepnote_index_column": "2021-05-01"
        },
        {
         "0": 741187.6050180731,
         "_deepnote_index_column": "2021-05-02"
        },
        {
         "0": 738035.274927675,
         "_deepnote_index_column": "2021-05-03"
        },
        {
         "0": 660427.9399389823,
         "_deepnote_index_column": "2021-05-04"
        },
        {
         "0": 765790.8880189962,
         "_deepnote_index_column": "2021-05-05"
        },
        {
         "0": 759183.213776489,
         "_deepnote_index_column": "2021-05-06"
        },
        {
         "0": 768112.7141835854,
         "_deepnote_index_column": "2021-05-07"
        },
        {
         "0": 777415.5296302576,
         "_deepnote_index_column": "2021-05-08"
        },
        {
         "0": 763830.8862357517,
         "_deepnote_index_column": "2021-05-09"
        },
        {
         "0": 691050.9654595588,
         "_deepnote_index_column": "2021-05-10"
        },
        {
         "0": 735168.5703274023,
         "_deepnote_index_column": "2021-05-11"
        },
        {
         "0": 620830.7349892956,
         "_deepnote_index_column": "2021-05-12"
        },
        {
         "0": 676077.7350001825,
         "_deepnote_index_column": "2021-05-13"
        },
        {
         "0": 697971.897375501,
         "_deepnote_index_column": "2021-05-14"
        },
        {
         "0": 739247.2075140559,
         "_deepnote_index_column": "2021-05-15"
        },
        {
         "0": 722692.8749933304,
         "_deepnote_index_column": "2021-05-16"
        },
        {
         "0": 744431.2935668144,
         "_deepnote_index_column": "2021-05-17"
        },
        {
         "0": 791413.6117310043,
         "_deepnote_index_column": "2021-05-18"
        },
        {
         "0": 1050330.7432004274,
         "_deepnote_index_column": "2021-05-19"
        },
        {
         "0": 1163403.5697065687,
         "_deepnote_index_column": "2021-05-20"
        },
        {
         "0": 1338630.8935927744,
         "_deepnote_index_column": "2021-05-21"
        },
        {
         "0": 1204819.101534965,
         "_deepnote_index_column": "2021-05-22"
        },
        {
         "0": 1059517.71232031,
         "_deepnote_index_column": "2021-05-23"
        },
        {
         "0": 1319832.4214251249,
         "_deepnote_index_column": "2021-05-24"
        },
        {
         "0": 1297701.2886153117,
         "_deepnote_index_column": "2021-05-25"
        },
        {
         "0": 1374189.8913822717,
         "_deepnote_index_column": "2021-05-26"
        },
        {
         "0": 1289788.9532276476,
         "_deepnote_index_column": "2021-05-27"
        },
        {
         "0": 1196618.2683489625,
         "_deepnote_index_column": "2021-05-28"
        },
        {
         "0": 1105743.4427690574,
         "_deepnote_index_column": "2021-05-29"
        },
        {
         "0": 1205207.2780562674,
         "_deepnote_index_column": "2021-05-30"
        },
        {
         "0": 1391284.0792476798,
         "_deepnote_index_column": "2021-05-31"
        },
        {
         "0": 1343981.5333418006,
         "_deepnote_index_column": "2021-06-01"
        },
        {
         "0": 1361793.5981786302,
         "_deepnote_index_column": "2021-06-02"
        },
        {
         "0": 1333982.1251696718,
         "_deepnote_index_column": "2021-06-03"
        },
        {
         "0": 1238111.6888688768,
         "_deepnote_index_column": "2021-06-04"
        },
        {
         "0": 1178247.6986475994,
         "_deepnote_index_column": "2021-06-05"
        },
        {
         "0": 1206322.8519319457,
         "_deepnote_index_column": "2021-06-06"
        },
        {
         "0": 1098959.415504757,
         "_deepnote_index_column": "2021-06-07"
        },
        {
         "0": 1117633.2587833996,
         "_deepnote_index_column": "2021-06-08"
        },
        {
         "0": 1174097.634536729,
         "_deepnote_index_column": "2021-06-09"
        },
        {
         "0": 1109203.0607370702,
         "_deepnote_index_column": "2021-06-10"
        },
        {
         "0": 1082746.0217091485,
         "_deepnote_index_column": "2021-06-11"
        },
        {
         "0": 1062625.05655167,
         "_deepnote_index_column": "2021-06-12"
        },
        {
         "0": 1127041.0342482207,
         "_deepnote_index_column": "2021-06-13"
        },
        {
         "0": 1139466.8860288612,
         "_deepnote_index_column": "2021-06-14"
        },
        {
         "0": 1135514.6649669714,
         "_deepnote_index_column": "2021-06-15"
        },
        {
         "0": 1061635.9934352173,
         "_deepnote_index_column": "2021-06-16"
        },
        {
         "0": 1073797.6741627594,
         "_deepnote_index_column": "2021-06-17"
        },
        {
         "0": 1017915.2657941855,
         "_deepnote_index_column": "2021-06-18"
        },
        {
         "0": 972005.8661457088,
         "_deepnote_index_column": "2021-06-19"
        },
        {
         "0": 990770.3779804391,
         "_deepnote_index_column": "2021-06-20"
        },
        {
         "0": 778944.1382786264,
         "_deepnote_index_column": "2021-06-21"
        },
        {
         "0": 695585.049947266,
         "_deepnote_index_column": "2021-06-22"
        },
        {
         "0": 799550.0889341055,
         "_deepnote_index_column": "2021-06-23"
        },
        {
         "0": 857570.0541509873,
         "_deepnote_index_column": "2021-06-24"
        },
        {
         "0": 782689.6167772217,
         "_deepnote_index_column": "2021-06-25"
        },
        {
         "0": 785384.87652254,
         "_deepnote_index_column": "2021-06-26"
        },
        {
         "0": 825568.1613200945,
         "_deepnote_index_column": "2021-06-27"
        },
        {
         "0": 821513.8620683809,
         "_deepnote_index_column": "2021-06-28"
        },
        {
         "0": 895503.5113042728,
         "_deepnote_index_column": "2021-06-29"
        },
        {
         "0": 889570.7299542811,
         "_deepnote_index_column": "2021-06-30"
        },
        {
         "0": 832655.7901967213,
         "_deepnote_index_column": "2021-07-01"
        },
        {
         "0": 827093.2469403516,
         "_deepnote_index_column": "2021-07-02"
        },
        {
         "0": 847400.1891471152,
         "_deepnote_index_column": "2021-07-03"
        },
        {
         "0": 875177.6258212384,
         "_deepnote_index_column": "2021-07-04"
        },
        {
         "0": 823991.4187913337,
         "_deepnote_index_column": "2021-07-05"
        },
        {
         "0": 837972.7273329257,
         "_deepnote_index_column": "2021-07-06"
        },
        {
         "0": 820559.7638415805,
         "_deepnote_index_column": "2021-07-07"
        },
        {
         "0": 784646.9246889657,
         "_deepnote_index_column": "2021-07-08"
        },
        {
         "0": 801957.8775698879,
         "_deepnote_index_column": "2021-07-09"
        },
        {
         "0": 787675.6414806973,
         "_deepnote_index_column": "2021-07-10"
        },
        {
         "0": 800863.5341634429,
         "_deepnote_index_column": "2021-07-11"
        },
        {
         "0": 793613.4246498746,
         "_deepnote_index_column": "2021-07-12"
        },
        {
         "0": 780195.0885719863,
         "_deepnote_index_column": "2021-07-13"
        },
        {
         "0": 781203.8601639485,
         "_deepnote_index_column": "2021-07-14"
        },
        {
         "0": 751756.4970364893,
         "_deepnote_index_column": "2021-07-15"
        },
        {
         "0": 743990.104242207,
         "_deepnote_index_column": "2021-07-16"
        },
        {
         "0": 733479.5584708466,
         "_deepnote_index_column": "2021-07-17"
        },
        {
         "0": 740398.4149867716,
         "_deepnote_index_column": "2021-07-18"
        },
        {
         "0": 702157.0466612827,
         "_deepnote_index_column": "2021-07-19"
        },
        {
         "0": 666618.2464135528,
         "_deepnote_index_column": "2021-07-20"
        },
        {
         "0": 717825.9214600734,
         "_deepnote_index_column": "2021-07-21"
        },
        {
         "0": 745793.4927009383,
         "_deepnote_index_column": "2021-07-22"
        },
        {
         "0": 767225.1037641917,
         "_deepnote_index_column": "2021-07-23"
        },
        {
         "0": 767984.4410232354,
         "_deepnote_index_column": "2021-07-24"
        },
        {
         "0": 763614.4986339759,
         "_deepnote_index_column": "2021-07-25"
        },
        {
         "0": 787870.8052681147,
         "_deepnote_index_column": "2021-07-26"
        },
        {
         "0": 811780.846305578,
         "_deepnote_index_column": "2021-07-27"
        },
        {
         "0": 913587.7357598483,
         "_deepnote_index_column": "2021-07-28"
        },
        {
         "0": 885161.6797445429,
         "_deepnote_index_column": "2021-07-29"
        },
        {
         "0": 890015.7482467322,
         "_deepnote_index_column": "2021-07-30"
        },
        {
         "0": 884888.2945438094,
         "_deepnote_index_column": "2021-07-31"
        },
        {
         "0": 859015.6580171087,
         "_deepnote_index_column": "2021-08-01"
        },
        {
         "0": 874751.8117385911,
         "_deepnote_index_column": "2021-08-02"
        },
        {
         "0": 843403.7831201082,
         "_deepnote_index_column": "2021-08-03"
        },
        {
         "0": 864418.8245037433,
         "_deepnote_index_column": "2021-08-04"
        },
        {
         "0": 867570.0897252023,
         "_deepnote_index_column": "2021-08-05"
        },
        {
         "0": 883381.9251598909,
         "_deepnote_index_column": "2021-08-06"
        },
        {
         "0": 965941.5050015504,
         "_deepnote_index_column": "2021-08-07"
        },
        {
         "0": 1010366.6706535758,
         "_deepnote_index_column": "2021-08-08"
        },
        {
         "0": 1062022.9190281066,
         "_deepnote_index_column": "2021-08-09"
        },
        {
         "0": 1104441.4586544894,
         "_deepnote_index_column": "2021-08-10"
        },
        {
         "0": "nan",
         "_deepnote_index_column": "2021-08-11"
        }
       ],
       "rows_bottom": null
      },
      "text/plain": "                       0\nDate                    \n2019-09-02  1.010719e+05\n2019-09-03  1.019705e+05\n2019-09-04  1.007173e+05\n2019-09-05  9.933812e+04\n2019-09-06  9.778573e+04\n...                  ...\n2021-08-07  9.659415e+05\n2021-08-08  1.010367e+06\n2021-08-09  1.062023e+06\n2021-08-10  1.104441e+06\n2021-08-11           NaN\n\n[706 rows x 1 columns]",
      "text/html": "<div>\n<style scoped>\n    .dataframe tbody tr th:only-of-type {\n        vertical-align: middle;\n    }\n\n    .dataframe tbody tr th {\n        vertical-align: top;\n    }\n\n    .dataframe thead th {\n        text-align: right;\n    }\n</style>\n<table border=\"1\" class=\"dataframe\">\n  <thead>\n    <tr style=\"text-align: right;\">\n      <th></th>\n      <th>0</th>\n    </tr>\n    <tr>\n      <th>Date</th>\n      <th></th>\n    </tr>\n  </thead>\n  <tbody>\n    <tr>\n      <th>2019-09-02</th>\n      <td>1.010719e+05</td>\n    </tr>\n    <tr>\n      <th>2019-09-03</th>\n      <td>1.019705e+05</td>\n    </tr>\n    <tr>\n      <th>2019-09-04</th>\n      <td>1.007173e+05</td>\n    </tr>\n    <tr>\n      <th>2019-09-05</th>\n      <td>9.933812e+04</td>\n    </tr>\n    <tr>\n      <th>2019-09-06</th>\n      <td>9.778573e+04</td>\n    </tr>\n    <tr>\n      <th>...</th>\n      <td>...</td>\n    </tr>\n    <tr>\n      <th>2021-08-07</th>\n      <td>9.659415e+05</td>\n    </tr>\n    <tr>\n      <th>2021-08-08</th>\n      <td>1.010367e+06</td>\n    </tr>\n    <tr>\n      <th>2021-08-09</th>\n      <td>1.062023e+06</td>\n    </tr>\n    <tr>\n      <th>2021-08-10</th>\n      <td>1.104441e+06</td>\n    </tr>\n    <tr>\n      <th>2021-08-11</th>\n      <td>NaN</td>\n    </tr>\n  </tbody>\n</table>\n<p>706 rows × 1 columns</p>\n</div>"
     },
     "metadata": {}
    }
   ]
  },
  {
   "cell_type": "code",
   "metadata": {
    "tags": [],
    "deepnote_to_be_reexecuted": false,
    "source_hash": "fe67d415",
    "execution_start": 1629320761999,
    "execution_millis": 381,
    "cell_id": "00022-7b6a92e4-7de0-41e8-98fa-c702f3b80225",
    "deepnote_cell_type": "code"
   },
   "source": "# Set initial capital allocation\ninitial_capital = 100000\n\n# Plot cumulative return of model in terms of capital\ncumulative_return_capital = initial_capital * (1 + (combined_signals_df['Returns'] * Results['Predicted Value'])).cumprod().to_frame()\nreturns_plot = cumulative_return_capital.plot(figsize = (20,10), title = 'Cumulative Return on XRP Stock Linear Regression Model')\ncumulative_return_capital.to_csv('cumulative return on xrp.csv')",
   "execution_count": null,
   "outputs": [
    {
     "data": {
      "text/plain": "<Figure size 1440x720 with 1 Axes>",
      "image/png": "[encoded data removed]"
     },
     "metadata": {
      "needs_background": "light",
      "image/png": {
       "width": 1153,
       "height": 604
      }
     },
     "output_type": "display_data"
    }
   ]
  },
  {
   "cell_type": "code",
   "metadata": {
    "tags": [],
    "deepnote_to_be_reexecuted": false,
    "source_hash": "520291de",
    "execution_start": 1629320762387,
    "execution_millis": 21,
    "cell_id": "00023-04dfca25-73d0-4b23-ae45-85c65e1c2102",
    "deepnote_cell_type": "code"
   },
   "source": "# Calculating the confusion matrix\ncm = confusion_matrix(y_test, predictions)\ncm_df = pd.DataFrame(\n    cm, index=[\"Actual 0\", \"Actual 1\"], columns=[\"Predicted 0\", \"Predicted 1\"]\n)\n\n# Calculating the accuracy score\nacc_score = accuracy_score(y_test, predictions)\nacc_score",
   "execution_count": null,
   "outputs": [
    {
     "output_type": "execute_result",
     "execution_count": 24,
     "data": {
      "text/plain": "0.5418439716312057"
     },
     "metadata": {}
    }
   ]
  },
  {
   "cell_type": "code",
   "metadata": {
    "tags": [],
    "cell_id": "00024-274e5c3d-0f4b-4324-9399-54a05c06e35e",
    "deepnote_to_be_reexecuted": false,
    "source_hash": "6d256e7f",
    "execution_start": 1629330669781,
    "execution_millis": 12,
    "deepnote_cell_type": "code"
   },
   "source": "cumulative_profit = (cumulative_return_capital.iloc[-2] - initial_capital)/(initial_capital)*100\ncumulative_profit",
   "execution_count": null,
   "outputs": [
    {
     "output_type": "execute_result",
     "execution_count": 26,
     "data": {
      "text/plain": "0    1004.441459\nName: 2021-08-10, dtype: float64"
     },
     "metadata": {}
    }
   ]
  },
  {
   "cell_type": "code",
   "metadata": {
    "tags": [],
    "cell_id": "00025-d10ec048-f2a8-4428-b791-a4bad15b161b",
    "deepnote_cell_type": "code"
   },
   "source": "",
   "execution_count": null,
   "outputs": []
  },
  {
   "cell_type": "markdown",
   "source": "<a style='text-decoration:none;line-height:16px;display:flex;color:#5B5B62;padding:10px;justify-content:end;' href='https://deepnote.com?utm_source=created-in-deepnote-cell&projectId=d12c285c-6789-4c45-9ad7-1be9b4d60622' target=\"_blank\">\n<img alt='Created in deepnote.com' style='display:inline;max-height:16px;margin:0px;margin-right:7.5px;' src='data:image/svg+xml;base64,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' > </img>\nCreated in <span style='font-weight:600;margin-left:4px;'>Deepnote</span></a>",
   "metadata": {
    "tags": [],
    "created_in_deepnote_cell": true,
    "deepnote_cell_type": "markdown"
   }
  }
 ],
 "nbformat": 4,
 "nbformat_minor": 2,
 "metadata": {
  "orig_nbformat": 2,
  "deepnote": {
   "is_reactive": false
  },
  "deepnote_notebook_id": "f602d713-82ba-4a0b-acbb-12ae203a23ae",
  "deepnote_execution_queue": []
 }
}