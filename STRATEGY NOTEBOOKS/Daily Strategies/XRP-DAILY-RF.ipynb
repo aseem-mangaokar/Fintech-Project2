{
 "cells": [
  {
   "cell_type": "code",
   "metadata": {
    "tags": [],
    "deepnote_to_be_reexecuted": false,
    "source_hash": "a09f78e3",
    "execution_start": 1629253369208,
    "execution_millis": 8201,
    "cell_id": "00000-d40a001f-f15a-4335-9a92-6f14a86ed19d",
    "deepnote_cell_type": "code"
   },
   "source": "# Initial imports\nimport numpy as np\nimport pandas as pd\nfrom pathlib import Path\nfrom sklearn.ensemble import RandomForestClassifier\nfrom sklearn.preprocessing import StandardScaler\nfrom sklearn.model_selection import train_test_split\nfrom sklearn.metrics import confusion_matrix, accuracy_score, classification_report\nfrom sklearn.ensemble import GradientBoostingClassifier\n%matplotlib inline\nfrom sklearn import *\nfrom tensorflow.keras.models import Sequential\nfrom tensorflow.keras.layers import Dense\nimport matplotlib.pyplot as plt\n\n# Needed for decision tree visualization\nimport pydotplus\nfrom IPython.display import Image",
   "outputs": [
    {
     "name": "stderr",
     "text": "2021-08-18 02:22:52.046335: W tensorflow/stream_executor/platform/default/dso_loader.cc:60] Could not load dynamic library 'libcudart.so.11.0'; dlerror: libcudart.so.11.0: cannot open shared object file: No such file or directory\n2021-08-18 02:22:52.046396: I tensorflow/stream_executor/cuda/cudart_stub.cc:29] Ignore above cudart dlerror if you do not have a GPU set up on your machine.\n",
     "output_type": "stream"
    }
   ],
   "execution_count": null
  },
  {
   "cell_type": "code",
   "metadata": {
    "tags": [],
    "deepnote_to_be_reexecuted": false,
    "source_hash": "96c0ac6a",
    "execution_start": 1629253377420,
    "execution_millis": 151,
    "cell_id": "00001-32752f74-88c4-4c74-a06f-5bf62d0588e3",
    "deepnote_cell_type": "code"
   },
   "source": "# Set path to CSV and read in CSV\ndf1=pd.read_csv(Path('/work/Fintech-Project2/STRATEGY NOTEBOOKS/Daily Strategies/XRP_DAILY_MACD_TRADE_STRATEGY.CSV'), infer_datetime_format=True, index_col='Date')\ndf1.drop(columns = ['macd','signal','macd_position'], inplace = True)\ndf2=pd.read_csv(Path('/work/Fintech-Project2/STRATEGY NOTEBOOKS/Daily Strategies/XRP DAILY AROON 25 TRADE STRATEGY.CSV'), infer_datetime_format=True, index_col='Date')\ndf2.drop(columns =['trend_aroon_up','trend_aroon_down', 'aroon_position', 'Close'],inplace = True)\ndf3=pd.read_csv(Path('/work/Fintech-Project2/STRATEGY NOTEBOOKS/Daily Strategies/XRP_DAILY_RSI_TRADE_STRATEGY.CSV'), infer_datetime_format=True, index_col='Date')\ndf3.drop(columns = ['RSI','rsi_position','Close'], inplace = True)\ndf4=pd.read_csv(Path('/work/Fintech-Project2/STRATEGY NOTEBOOKS/Daily Strategies/XRP_AO_1d_TRADE_STRATEGY'), infer_datetime_format=True, index_col='Date')\ndf4.drop(columns = ['ao','ao_position','Close'], inplace = True)\ncombined_signals_df = pd.concat([df1,df2,df3,df4], axis = 1).fillna(0)\ncombined_signals_df",
   "outputs": [
    {
     "output_type": "execute_result",
     "execution_count": 2,
     "data": {
      "application/vnd.deepnote.dataframe.v2+json": {
       "row_count": 707,
       "column_count": 5,
       "columns": [
        {
         "name": "Close",
         "dtype": "float64",
         "stats": {
          "unique_count": 706,
          "nan_count": 0,
          "min": "0.1396349966526031",
          "max": "1.83923602104187",
          "histogram": [
           {
            "bin_start": 0.1396349966526031,
            "bin_end": 0.30959509909152977,
            "count": 468
           },
           {
            "bin_start": 0.30959509909152977,
            "bin_end": 0.47955520153045644,
            "count": 50
           },
           {
            "bin_start": 0.47955520153045644,
            "bin_end": 0.6495153039693831,
            "count": 85
           },
           {
            "bin_start": 0.6495153039693831,
            "bin_end": 0.8194754064083098,
            "count": 29
           },
           {
            "bin_start": 0.8194754064083098,
            "bin_end": 0.9894355088472364,
            "count": 23
           },
           {
            "bin_start": 0.9894355088472364,
            "bin_end": 1.1593956112861632,
            "count": 14
           },
           {
            "bin_start": 1.1593956112861632,
            "bin_end": 1.3293557137250898,
            "count": 6
           },
           {
            "bin_start": 1.3293557137250898,
            "bin_end": 1.4993158161640165,
            "count": 17
           },
           {
            "bin_start": 1.4993158161640165,
            "bin_end": 1.6692759186029433,
            "count": 12
           },
           {
            "bin_start": 1.6692759186029433,
            "bin_end": 1.83923602104187,
            "count": 3
           }
          ]
         }
        },
        {
         "name": "macd_signal",
         "dtype": "int64",
         "stats": {
          "unique_count": 3,
          "nan_count": 0,
          "min": "-1",
          "max": "1",
          "histogram": [
           {
            "bin_start": -1,
            "bin_end": -0.8,
            "count": 23
           },
           {
            "bin_start": -0.8,
            "bin_end": -0.6,
            "count": 0
           },
           {
            "bin_start": -0.6,
            "bin_end": -0.3999999999999999,
            "count": 0
           },
           {
            "bin_start": -0.3999999999999999,
            "bin_end": -0.19999999999999996,
            "count": 0
           },
           {
            "bin_start": -0.19999999999999996,
            "bin_end": 0,
            "count": 0
           },
           {
            "bin_start": 0,
            "bin_end": 0.20000000000000018,
            "count": 660
           },
           {
            "bin_start": 0.20000000000000018,
            "bin_end": 0.40000000000000013,
            "count": 0
           },
           {
            "bin_start": 0.40000000000000013,
            "bin_end": 0.6000000000000001,
            "count": 0
           },
           {
            "bin_start": 0.6000000000000001,
            "bin_end": 0.8,
            "count": 0
           },
           {
            "bin_start": 0.8,
            "bin_end": 1,
            "count": 24
           }
          ]
         }
        },
        {
         "name": "aroon_signal",
         "dtype": "int64",
         "stats": {
          "unique_count": 3,
          "nan_count": 0,
          "min": "-1",
          "max": "1",
          "histogram": [
           {
            "bin_start": -1,
            "bin_end": -0.8,
            "count": 7
           },
           {
            "bin_start": -0.8,
            "bin_end": -0.6,
            "count": 0
           },
           {
            "bin_start": -0.6,
            "bin_end": -0.3999999999999999,
            "count": 0
           },
           {
            "bin_start": -0.3999999999999999,
            "bin_end": -0.19999999999999996,
            "count": 0
           },
           {
            "bin_start": -0.19999999999999996,
            "bin_end": 0,
            "count": 0
           },
           {
            "bin_start": 0,
            "bin_end": 0.20000000000000018,
            "count": 692
           },
           {
            "bin_start": 0.20000000000000018,
            "bin_end": 0.40000000000000013,
            "count": 0
           },
           {
            "bin_start": 0.40000000000000013,
            "bin_end": 0.6000000000000001,
            "count": 0
           },
           {
            "bin_start": 0.6000000000000001,
            "bin_end": 0.8,
            "count": 0
           },
           {
            "bin_start": 0.8,
            "bin_end": 1,
            "count": 8
           }
          ]
         }
        },
        {
         "name": "rsi_signal",
         "dtype": "int64",
         "stats": {
          "unique_count": 3,
          "nan_count": 0,
          "min": "-1",
          "max": "1",
          "histogram": [
           {
            "bin_start": -1,
            "bin_end": -0.8,
            "count": 4
           },
           {
            "bin_start": -0.8,
            "bin_end": -0.6,
            "count": 0
           },
           {
            "bin_start": -0.6,
            "bin_end": -0.3999999999999999,
            "count": 0
           },
           {
            "bin_start": -0.3999999999999999,
            "bin_end": -0.19999999999999996,
            "count": 0
           },
           {
            "bin_start": -0.19999999999999996,
            "bin_end": 0,
            "count": 0
           },
           {
            "bin_start": 0,
            "bin_end": 0.20000000000000018,
            "count": 698
           },
           {
            "bin_start": 0.20000000000000018,
            "bin_end": 0.40000000000000013,
            "count": 0
           },
           {
            "bin_start": 0.40000000000000013,
            "bin_end": 0.6000000000000001,
            "count": 0
           },
           {
            "bin_start": 0.6000000000000001,
            "bin_end": 0.8,
            "count": 0
           },
           {
            "bin_start": 0.8,
            "bin_end": 1,
            "count": 5
           }
          ]
         }
        },
        {
         "name": "ao_signal",
         "dtype": "float64",
         "stats": {
          "unique_count": 3,
          "nan_count": 0,
          "min": "-1.0",
          "max": "1.0",
          "histogram": [
           {
            "bin_start": -1,
            "bin_end": -0.8,
            "count": 12
           },
           {
            "bin_start": -0.8,
            "bin_end": -0.6,
            "count": 0
           },
           {
            "bin_start": -0.6,
            "bin_end": -0.3999999999999999,
            "count": 0
           },
           {
            "bin_start": -0.3999999999999999,
            "bin_end": -0.19999999999999996,
            "count": 0
           },
           {
            "bin_start": -0.19999999999999996,
            "bin_end": 0,
            "count": 0
           },
           {
            "bin_start": 0,
            "bin_end": 0.20000000000000018,
            "count": 683
           },
           {
            "bin_start": 0.20000000000000018,
            "bin_end": 0.40000000000000013,
            "count": 0
           },
           {
            "bin_start": 0.40000000000000013,
            "bin_end": 0.6000000000000001,
            "count": 0
           },
           {
            "bin_start": 0.6000000000000001,
            "bin_end": 0.8,
            "count": 0
           },
           {
            "bin_start": 0.8,
            "bin_end": 1,
            "count": 12
           }
          ]
         }
        },
        {
         "name": "_deepnote_index_column",
         "dtype": "object"
        }
       ],
       "rows_top": [
        {
         "Close": 0.2580539882183075,
         "macd_signal": 0,
         "aroon_signal": 0,
         "rsi_signal": 0,
         "ao_signal": 0,
         "_deepnote_index_column": "2019-09-01"
        },
        {
         "Close": 0.2608200013637543,
         "macd_signal": 1,
         "aroon_signal": 0,
         "rsi_signal": 1,
         "ao_signal": 0,
         "_deepnote_index_column": "2019-09-02"
        },
        {
         "Close": 0.263139009475708,
         "macd_signal": 0,
         "aroon_signal": 0,
         "rsi_signal": 0,
         "ao_signal": 0,
         "_deepnote_index_column": "2019-09-03"
        },
        {
         "Close": 0.2599050104618072,
         "macd_signal": 0,
         "aroon_signal": 0,
         "rsi_signal": 0,
         "ao_signal": 0,
         "_deepnote_index_column": "2019-09-04"
        },
        {
         "Close": 0.2563459873199463,
         "macd_signal": 0,
         "aroon_signal": 0,
         "rsi_signal": 0,
         "ao_signal": 0,
         "_deepnote_index_column": "2019-09-05"
        },
        {
         "Close": 0.2523399889469147,
         "macd_signal": -1,
         "aroon_signal": 0,
         "rsi_signal": 0,
         "ao_signal": 0,
         "_deepnote_index_column": "2019-09-06"
        },
        {
         "Close": 0.260686993598938,
         "macd_signal": 0,
         "aroon_signal": 0,
         "rsi_signal": 0,
         "ao_signal": 0,
         "_deepnote_index_column": "2019-09-07"
        },
        {
         "Close": 0.2630839943885803,
         "macd_signal": 1,
         "aroon_signal": 0,
         "rsi_signal": 0,
         "ao_signal": 0,
         "_deepnote_index_column": "2019-09-08"
        },
        {
         "Close": 0.2595619857311249,
         "macd_signal": 0,
         "aroon_signal": 0,
         "rsi_signal": 0,
         "ao_signal": 0,
         "_deepnote_index_column": "2019-09-09"
        },
        {
         "Close": 0.2586709856986999,
         "macd_signal": 0,
         "aroon_signal": 0,
         "rsi_signal": 0,
         "ao_signal": 0,
         "_deepnote_index_column": "2019-09-10"
        },
        {
         "Close": 0.2559559941291809,
         "macd_signal": -1,
         "aroon_signal": 0,
         "rsi_signal": 0,
         "ao_signal": 0,
         "_deepnote_index_column": "2019-09-11"
        },
        {
         "Close": 0.2548109889030456,
         "macd_signal": 0,
         "aroon_signal": 0,
         "rsi_signal": 0,
         "ao_signal": 0,
         "_deepnote_index_column": "2019-09-12"
        },
        {
         "Close": 0.2555510103702545,
         "macd_signal": 0,
         "aroon_signal": 0,
         "rsi_signal": 0,
         "ao_signal": 0,
         "_deepnote_index_column": "2019-09-13"
        },
        {
         "Close": 0.2611669898033142,
         "macd_signal": 0,
         "aroon_signal": 0,
         "rsi_signal": 0,
         "ao_signal": 0,
         "_deepnote_index_column": "2019-09-14"
        },
        {
         "Close": 0.2616280019283294,
         "macd_signal": 1,
         "aroon_signal": 0,
         "rsi_signal": 0,
         "ao_signal": 0,
         "_deepnote_index_column": "2019-09-15"
        },
        {
         "Close": 0.2609519958496094,
         "macd_signal": 0,
         "aroon_signal": 0,
         "rsi_signal": 0,
         "ao_signal": 0,
         "_deepnote_index_column": "2019-09-16"
        },
        {
         "Close": 0.2850129902362823,
         "macd_signal": 0,
         "aroon_signal": 0,
         "rsi_signal": 0,
         "ao_signal": 0,
         "_deepnote_index_column": "2019-09-17"
        },
        {
         "Close": 0.3137759864330292,
         "macd_signal": 0,
         "aroon_signal": 0,
         "rsi_signal": 0,
         "ao_signal": 0,
         "_deepnote_index_column": "2019-09-18"
        },
        {
         "Close": 0.3024410009384155,
         "macd_signal": 0,
         "aroon_signal": 0,
         "rsi_signal": 0,
         "ao_signal": 0,
         "_deepnote_index_column": "2019-09-19"
        },
        {
         "Close": 0.2944700121879577,
         "macd_signal": 0,
         "aroon_signal": 0,
         "rsi_signal": 0,
         "ao_signal": 0,
         "_deepnote_index_column": "2019-09-20"
        },
        {
         "Close": 0.2894429862499237,
         "macd_signal": 0,
         "aroon_signal": 0,
         "rsi_signal": 0,
         "ao_signal": 0,
         "_deepnote_index_column": "2019-09-21"
        },
        {
         "Close": 0.2789309918880462,
         "macd_signal": 0,
         "aroon_signal": 0,
         "rsi_signal": 0,
         "ao_signal": 0,
         "_deepnote_index_column": "2019-09-22"
        },
        {
         "Close": 0.2686749994754791,
         "macd_signal": 0,
         "aroon_signal": 0,
         "rsi_signal": 0,
         "ao_signal": 0,
         "_deepnote_index_column": "2019-09-23"
        },
        {
         "Close": 0.2352260053157806,
         "macd_signal": -1,
         "aroon_signal": 0,
         "rsi_signal": 0,
         "ao_signal": 0,
         "_deepnote_index_column": "2019-09-24"
        },
        {
         "Close": 0.2464410066604614,
         "macd_signal": 0,
         "aroon_signal": 0,
         "rsi_signal": 0,
         "ao_signal": 0,
         "_deepnote_index_column": "2019-09-25"
        },
        {
         "Close": 0.2437839955091476,
         "macd_signal": 0,
         "aroon_signal": 0,
         "rsi_signal": 0,
         "ao_signal": 0,
         "_deepnote_index_column": "2019-09-26"
        },
        {
         "Close": 0.2440209984779358,
         "macd_signal": 0,
         "aroon_signal": 0,
         "rsi_signal": 0,
         "ao_signal": 0,
         "_deepnote_index_column": "2019-09-27"
        },
        {
         "Close": 0.2425709962844848,
         "macd_signal": 0,
         "aroon_signal": 0,
         "rsi_signal": 0,
         "ao_signal": 0,
         "_deepnote_index_column": "2019-09-28"
        },
        {
         "Close": 0.2413879930973053,
         "macd_signal": 0,
         "aroon_signal": 0,
         "rsi_signal": 0,
         "ao_signal": 0,
         "_deepnote_index_column": "2019-09-29"
        },
        {
         "Close": 0.2559329867362976,
         "macd_signal": 0,
         "aroon_signal": 0,
         "rsi_signal": 0,
         "ao_signal": 0,
         "_deepnote_index_column": "2019-09-30"
        },
        {
         "Close": 0.2495650053024292,
         "macd_signal": 0,
         "aroon_signal": 0,
         "rsi_signal": 0,
         "ao_signal": 0,
         "_deepnote_index_column": "2019-10-01"
        },
        {
         "Close": 0.2535389959812164,
         "macd_signal": 0,
         "aroon_signal": 0,
         "rsi_signal": 0,
         "ao_signal": 0,
         "_deepnote_index_column": "2019-10-02"
        },
        {
         "Close": 0.2478599995374679,
         "macd_signal": 0,
         "aroon_signal": 0,
         "rsi_signal": 0,
         "ao_signal": 0,
         "_deepnote_index_column": "2019-10-03"
        },
        {
         "Close": 0.2539350092411041,
         "macd_signal": 0,
         "aroon_signal": 0,
         "rsi_signal": 0,
         "ao_signal": 0,
         "_deepnote_index_column": "2019-10-04"
        },
        {
         "Close": 0.2534570097923279,
         "macd_signal": 0,
         "aroon_signal": 0,
         "rsi_signal": 0,
         "ao_signal": -1,
         "_deepnote_index_column": "2019-10-05"
        },
        {
         "Close": 0.2577050030231476,
         "macd_signal": 0,
         "aroon_signal": 0,
         "rsi_signal": 0,
         "ao_signal": 0,
         "_deepnote_index_column": "2019-10-06"
        },
        {
         "Close": 0.2756850123405456,
         "macd_signal": 1,
         "aroon_signal": 0,
         "rsi_signal": 0,
         "ao_signal": 0,
         "_deepnote_index_column": "2019-10-07"
        },
        {
         "Close": 0.2784590125083923,
         "macd_signal": 0,
         "aroon_signal": 0,
         "rsi_signal": 0,
         "ao_signal": 0,
         "_deepnote_index_column": "2019-10-08"
        },
        {
         "Close": 0.2816269993782043,
         "macd_signal": 0,
         "aroon_signal": 0,
         "rsi_signal": 0,
         "ao_signal": 1,
         "_deepnote_index_column": "2019-10-09"
        },
        {
         "Close": 0.2720730006694793,
         "macd_signal": 0,
         "aroon_signal": 0,
         "rsi_signal": 0,
         "ao_signal": 0,
         "_deepnote_index_column": "2019-10-10"
        },
        {
         "Close": 0.2710990011692047,
         "macd_signal": 0,
         "aroon_signal": 0,
         "rsi_signal": 0,
         "ao_signal": 0,
         "_deepnote_index_column": "2019-10-11"
        },
        {
         "Close": 0.2731910049915313,
         "macd_signal": 0,
         "aroon_signal": 0,
         "rsi_signal": 0,
         "ao_signal": 0,
         "_deepnote_index_column": "2019-10-12"
        },
        {
         "Close": 0.2777650058269501,
         "macd_signal": 0,
         "aroon_signal": 0,
         "rsi_signal": 0,
         "ao_signal": 0,
         "_deepnote_index_column": "2019-10-13"
        },
        {
         "Close": 0.2965230047702789,
         "macd_signal": 0,
         "aroon_signal": 1,
         "rsi_signal": 0,
         "ao_signal": 0,
         "_deepnote_index_column": "2019-10-14"
        },
        {
         "Close": 0.2887020111083984,
         "macd_signal": 0,
         "aroon_signal": 0,
         "rsi_signal": 0,
         "ao_signal": 0,
         "_deepnote_index_column": "2019-10-15"
        },
        {
         "Close": 0.2846400141716003,
         "macd_signal": 0,
         "aroon_signal": 0,
         "rsi_signal": 0,
         "ao_signal": 0,
         "_deepnote_index_column": "2019-10-16"
        },
        {
         "Close": 0.3023149967193603,
         "macd_signal": 0,
         "aroon_signal": 0,
         "rsi_signal": 0,
         "ao_signal": 0,
         "_deepnote_index_column": "2019-10-17"
        },
        {
         "Close": 0.2950049936771393,
         "macd_signal": 0,
         "aroon_signal": 0,
         "rsi_signal": 0,
         "ao_signal": 0,
         "_deepnote_index_column": "2019-10-18"
        },
        {
         "Close": 0.2930220067501068,
         "macd_signal": 0,
         "aroon_signal": 0,
         "rsi_signal": 0,
         "ao_signal": 0,
         "_deepnote_index_column": "2019-10-19"
        },
        {
         "Close": 0.2941789925098419,
         "macd_signal": 0,
         "aroon_signal": 0,
         "rsi_signal": 0,
         "ao_signal": 0,
         "_deepnote_index_column": "2019-10-20"
        },
        {
         "Close": 0.2929790019989013,
         "macd_signal": 0,
         "aroon_signal": 0,
         "rsi_signal": 0,
         "ao_signal": 0,
         "_deepnote_index_column": "2019-10-21"
        },
        {
         "Close": 0.291606992483139,
         "macd_signal": 0,
         "aroon_signal": 0,
         "rsi_signal": 0,
         "ao_signal": 0,
         "_deepnote_index_column": "2019-10-22"
        },
        {
         "Close": 0.2741430103778839,
         "macd_signal": -1,
         "aroon_signal": 0,
         "rsi_signal": 0,
         "ao_signal": 0,
         "_deepnote_index_column": "2019-10-23"
        },
        {
         "Close": 0.2784909904003143,
         "macd_signal": 0,
         "aroon_signal": 0,
         "rsi_signal": 0,
         "ao_signal": 0,
         "_deepnote_index_column": "2019-10-24"
        },
        {
         "Close": 0.2981649935245514,
         "macd_signal": 0,
         "aroon_signal": 0,
         "rsi_signal": 0,
         "ao_signal": 0,
         "_deepnote_index_column": "2019-10-25"
        },
        {
         "Close": 0.2936989963054657,
         "macd_signal": 0,
         "aroon_signal": 0,
         "rsi_signal": 0,
         "ao_signal": 0,
         "_deepnote_index_column": "2019-10-26"
        },
        {
         "Close": 0.2980999946594238,
         "macd_signal": 1,
         "aroon_signal": 0,
         "rsi_signal": 0,
         "ao_signal": 0,
         "_deepnote_index_column": "2019-10-27"
        },
        {
         "Close": 0.2960070073604584,
         "macd_signal": 0,
         "aroon_signal": 0,
         "rsi_signal": 0,
         "ao_signal": 0,
         "_deepnote_index_column": "2019-10-28"
        },
        {
         "Close": 0.3019559979438782,
         "macd_signal": 0,
         "aroon_signal": 0,
         "rsi_signal": 0,
         "ao_signal": 0,
         "_deepnote_index_column": "2019-10-29"
        },
        {
         "Close": 0.2965550124645233,
         "macd_signal": 0,
         "aroon_signal": 0,
         "rsi_signal": 0,
         "ao_signal": 0,
         "_deepnote_index_column": "2019-10-30"
        },
        {
         "Close": 0.2963579893112182,
         "macd_signal": -1,
         "aroon_signal": 0,
         "rsi_signal": 0,
         "ao_signal": 0,
         "_deepnote_index_column": "2019-10-31"
        },
        {
         "Close": 0.2926419973373413,
         "macd_signal": 0,
         "aroon_signal": 0,
         "rsi_signal": 0,
         "ao_signal": 0,
         "_deepnote_index_column": "2019-11-01"
        },
        {
         "Close": 0.2962630093097687,
         "macd_signal": 0,
         "aroon_signal": 0,
         "rsi_signal": 0,
         "ao_signal": 0,
         "_deepnote_index_column": "2019-11-02"
        },
        {
         "Close": 0.2912609875202179,
         "macd_signal": 0,
         "aroon_signal": 0,
         "rsi_signal": 0,
         "ao_signal": 0,
         "_deepnote_index_column": "2019-11-03"
        },
        {
         "Close": 0.2999370098114013,
         "macd_signal": 0,
         "aroon_signal": 0,
         "rsi_signal": 0,
         "ao_signal": 0,
         "_deepnote_index_column": "2019-11-04"
        },
        {
         "Close": 0.3012549877166748,
         "macd_signal": 0,
         "aroon_signal": 0,
         "rsi_signal": 0,
         "ao_signal": 0,
         "_deepnote_index_column": "2019-11-05"
        },
        {
         "Close": 0.3100860118865967,
         "macd_signal": 1,
         "aroon_signal": 0,
         "rsi_signal": 0,
         "ao_signal": 0,
         "_deepnote_index_column": "2019-11-06"
        },
        {
         "Close": 0.2924309968948364,
         "macd_signal": -1,
         "aroon_signal": 0,
         "rsi_signal": 0,
         "ao_signal": 0,
         "_deepnote_index_column": "2019-11-07"
        },
        {
         "Close": 0.2769530117511749,
         "macd_signal": 0,
         "aroon_signal": 0,
         "rsi_signal": 0,
         "ao_signal": 0,
         "_deepnote_index_column": "2019-11-08"
        },
        {
         "Close": 0.2801960110664367,
         "macd_signal": 0,
         "aroon_signal": 0,
         "rsi_signal": 0,
         "ao_signal": 0,
         "_deepnote_index_column": "2019-11-09"
        },
        {
         "Close": 0.2802039980888366,
         "macd_signal": 0,
         "aroon_signal": 0,
         "rsi_signal": 0,
         "ao_signal": 0,
         "_deepnote_index_column": "2019-11-10"
        },
        {
         "Close": 0.275085985660553,
         "macd_signal": 0,
         "aroon_signal": 0,
         "rsi_signal": 0,
         "ao_signal": -1,
         "_deepnote_index_column": "2019-11-11"
        },
        {
         "Close": 0.2724179923534393,
         "macd_signal": 0,
         "aroon_signal": 0,
         "rsi_signal": 0,
         "ao_signal": 0,
         "_deepnote_index_column": "2019-11-12"
        },
        {
         "Close": 0.2730360031127929,
         "macd_signal": 0,
         "aroon_signal": 0,
         "rsi_signal": 0,
         "ao_signal": 0,
         "_deepnote_index_column": "2019-11-13"
        },
        {
         "Close": 0.2703909873962402,
         "macd_signal": 0,
         "aroon_signal": 0,
         "rsi_signal": 0,
         "ao_signal": 0,
         "_deepnote_index_column": "2019-11-14"
        },
        {
         "Close": 0.2616539895534515,
         "macd_signal": 0,
         "aroon_signal": 0,
         "rsi_signal": 0,
         "ao_signal": 0,
         "_deepnote_index_column": "2019-11-15"
        },
        {
         "Close": 0.2638860046863556,
         "macd_signal": 0,
         "aroon_signal": 0,
         "rsi_signal": 0,
         "ao_signal": 0,
         "_deepnote_index_column": "2019-11-16"
        },
        {
         "Close": 0.2652530074119568,
         "macd_signal": 0,
         "aroon_signal": 0,
         "rsi_signal": 0,
         "ao_signal": 0,
         "_deepnote_index_column": "2019-11-17"
        },
        {
         "Close": 0.2556529939174652,
         "macd_signal": 0,
         "aroon_signal": 0,
         "rsi_signal": 0,
         "ao_signal": 0,
         "_deepnote_index_column": "2019-11-18"
        },
        {
         "Close": 0.2565000057220459,
         "macd_signal": 0,
         "aroon_signal": 0,
         "rsi_signal": 0,
         "ao_signal": 0,
         "_deepnote_index_column": "2019-11-19"
        },
        {
         "Close": 0.25136399269104,
         "macd_signal": 0,
         "aroon_signal": 0,
         "rsi_signal": 0,
         "ao_signal": 0,
         "_deepnote_index_column": "2019-11-20"
        },
        {
         "Close": 0.2437659949064254,
         "macd_signal": 0,
         "aroon_signal": 0,
         "rsi_signal": -1,
         "ao_signal": 0,
         "_deepnote_index_column": "2019-11-21"
        },
        {
         "Close": 0.2316000014543533,
         "macd_signal": 0,
         "aroon_signal": 0,
         "rsi_signal": 0,
         "ao_signal": 0,
         "_deepnote_index_column": "2019-11-22"
        },
        {
         "Close": 0.236187994480133,
         "macd_signal": 0,
         "aroon_signal": 0,
         "rsi_signal": 0,
         "ao_signal": 0,
         "_deepnote_index_column": "2019-11-23"
        },
        {
         "Close": 0.2231840044260025,
         "macd_signal": 0,
         "aroon_signal": -1,
         "rsi_signal": 0,
         "ao_signal": 0,
         "_deepnote_index_column": "2019-11-24"
        },
        {
         "Close": 0.2186219990253448,
         "macd_signal": 0,
         "aroon_signal": 0,
         "rsi_signal": 0,
         "ao_signal": 0,
         "_deepnote_index_column": "2019-11-25"
        },
        {
         "Close": 0.2221450060606002,
         "macd_signal": 0,
         "aroon_signal": 0,
         "rsi_signal": 0,
         "ao_signal": 0,
         "_deepnote_index_column": "2019-11-26"
        },
        {
         "Close": 0.2250809967517852,
         "macd_signal": 0,
         "aroon_signal": 0,
         "rsi_signal": 0,
         "ao_signal": 0,
         "_deepnote_index_column": "2019-11-27"
        },
        {
         "Close": 0.2245700061321258,
         "macd_signal": 0,
         "aroon_signal": 0,
         "rsi_signal": 0,
         "ao_signal": 0,
         "_deepnote_index_column": "2019-11-28"
        },
        {
         "Close": 0.2302169948816299,
         "macd_signal": 0,
         "aroon_signal": 0,
         "rsi_signal": 0,
         "ao_signal": 0,
         "_deepnote_index_column": "2019-11-29"
        },
        {
         "Close": 0.2264740020036697,
         "macd_signal": 0,
         "aroon_signal": 0,
         "rsi_signal": 0,
         "ao_signal": 0,
         "_deepnote_index_column": "2019-11-30"
        },
        {
         "Close": 0.2253330051898956,
         "macd_signal": 0,
         "aroon_signal": 0,
         "rsi_signal": 0,
         "ao_signal": 0,
         "_deepnote_index_column": "2019-12-01"
        },
        {
         "Close": 0.2195809930562973,
         "macd_signal": 0,
         "aroon_signal": 0,
         "rsi_signal": 0,
         "ao_signal": 0,
         "_deepnote_index_column": "2019-12-02"
        },
        {
         "Close": 0.2198700010776519,
         "macd_signal": 0,
         "aroon_signal": 0,
         "rsi_signal": 0,
         "ao_signal": 0,
         "_deepnote_index_column": "2019-12-03"
        },
        {
         "Close": 0.2163480073213577,
         "macd_signal": 0,
         "aroon_signal": 0,
         "rsi_signal": 0,
         "ao_signal": 0,
         "_deepnote_index_column": "2019-12-04"
        },
        {
         "Close": 0.2229280024766922,
         "macd_signal": 1,
         "aroon_signal": 0,
         "rsi_signal": 0,
         "ao_signal": 0,
         "_deepnote_index_column": "2019-12-05"
        },
        {
         "Close": 0.225504994392395,
         "macd_signal": 0,
         "aroon_signal": 0,
         "rsi_signal": 0,
         "ao_signal": 0,
         "_deepnote_index_column": "2019-12-06"
        },
        {
         "Close": 0.2284449934959411,
         "macd_signal": 0,
         "aroon_signal": 0,
         "rsi_signal": 0,
         "ao_signal": 0,
         "_deepnote_index_column": "2019-12-07"
        },
        {
         "Close": 0.2304349988698959,
         "macd_signal": 0,
         "aroon_signal": 0,
         "rsi_signal": 0,
         "ao_signal": 0,
         "_deepnote_index_column": "2019-12-08"
        },
        {
         "Close": 0.2254520058631897,
         "macd_signal": 0,
         "aroon_signal": 0,
         "rsi_signal": 0,
         "ao_signal": 0,
         "_deepnote_index_column": "2019-12-09"
        }
       ],
       "rows_bottom": [
        {
         "Close": 1.392375946044922,
         "macd_signal": -1,
         "aroon_signal": 0,
         "rsi_signal": 0,
         "ao_signal": 0,
         "_deepnote_index_column": "2021-05-04"
        },
        {
         "Close": 1.6145119667053225,
         "macd_signal": 0,
         "aroon_signal": 0,
         "rsi_signal": 0,
         "ao_signal": 0,
         "_deepnote_index_column": "2021-05-05"
        },
        {
         "Close": 1.6005810499191284,
         "macd_signal": 1,
         "aroon_signal": 0,
         "rsi_signal": 0,
         "ao_signal": 0,
         "_deepnote_index_column": "2021-05-06"
        },
        {
         "Close": 1.5817550420761108,
         "macd_signal": -1,
         "aroon_signal": 0,
         "rsi_signal": 0,
         "ao_signal": 0,
         "_deepnote_index_column": "2021-05-07"
        },
        {
         "Close": 1.5625979900360107,
         "macd_signal": 0,
         "aroon_signal": 0,
         "rsi_signal": 0,
         "ao_signal": 0,
         "_deepnote_index_column": "2021-05-08"
        },
        {
         "Close": 1.5352929830551147,
         "macd_signal": 0,
         "aroon_signal": 0,
         "rsi_signal": 0,
         "ao_signal": 0,
         "_deepnote_index_column": "2021-05-09"
        },
        {
         "Close": 1.3890060186386108,
         "macd_signal": 0,
         "aroon_signal": 0,
         "rsi_signal": 0,
         "ao_signal": 0,
         "_deepnote_index_column": "2021-05-10"
        },
        {
         "Close": 1.4776819944381714,
         "macd_signal": 0,
         "aroon_signal": 0,
         "rsi_signal": 0,
         "ao_signal": 0,
         "_deepnote_index_column": "2021-05-11"
        },
        {
         "Close": 1.247864007949829,
         "macd_signal": 0,
         "aroon_signal": 0,
         "rsi_signal": 0,
         "ao_signal": 0,
         "_deepnote_index_column": "2021-05-12"
        },
        {
         "Close": 1.3589099645614624,
         "macd_signal": 0,
         "aroon_signal": 0,
         "rsi_signal": 0,
         "ao_signal": -1,
         "_deepnote_index_column": "2021-05-13"
        },
        {
         "Close": 1.4029170274734497,
         "macd_signal": 0,
         "aroon_signal": 0,
         "rsi_signal": 0,
         "ao_signal": 0,
         "_deepnote_index_column": "2021-05-14"
        },
        {
         "Close": 1.4858800172805786,
         "macd_signal": 0,
         "aroon_signal": 0,
         "rsi_signal": 0,
         "ao_signal": 0,
         "_deepnote_index_column": "2021-05-15"
        },
        {
         "Close": 1.452605962753296,
         "macd_signal": 0,
         "aroon_signal": 0,
         "rsi_signal": 0,
         "ao_signal": 0,
         "_deepnote_index_column": "2021-05-16"
        },
        {
         "Close": 1.4962999820709229,
         "macd_signal": 0,
         "aroon_signal": 0,
         "rsi_signal": 0,
         "ao_signal": 0,
         "_deepnote_index_column": "2021-05-17"
        },
        {
         "Close": 1.5907340049743652,
         "macd_signal": 0,
         "aroon_signal": 0,
         "rsi_signal": 0,
         "ao_signal": 1,
         "_deepnote_index_column": "2021-05-18"
        },
        {
         "Close": 1.0703129768371582,
         "macd_signal": 0,
         "aroon_signal": 0,
         "rsi_signal": 0,
         "ao_signal": 0,
         "_deepnote_index_column": "2021-05-19"
        },
        {
         "Close": 1.1855369806289673,
         "macd_signal": 0,
         "aroon_signal": -1,
         "rsi_signal": 0,
         "ao_signal": -1,
         "_deepnote_index_column": "2021-05-20"
        },
        {
         "Close": 1.0069760084152222,
         "macd_signal": 0,
         "aroon_signal": 0,
         "rsi_signal": 0,
         "ao_signal": 0,
         "_deepnote_index_column": "2021-05-21"
        },
        {
         "Close": 0.9063169956207277,
         "macd_signal": 0,
         "aroon_signal": 0,
         "rsi_signal": 0,
         "ao_signal": 0,
         "_deepnote_index_column": "2021-05-22"
        },
        {
         "Close": 0.7970150113105774,
         "macd_signal": 0,
         "aroon_signal": 0,
         "rsi_signal": 0,
         "ao_signal": 0,
         "_deepnote_index_column": "2021-05-23"
        },
        {
         "Close": 0.9928349852561952,
         "macd_signal": 0,
         "aroon_signal": 0,
         "rsi_signal": 0,
         "ao_signal": 0,
         "_deepnote_index_column": "2021-05-24"
        },
        {
         "Close": 0.976186990737915,
         "macd_signal": 0,
         "aroon_signal": 0,
         "rsi_signal": 0,
         "ao_signal": 0,
         "_deepnote_index_column": "2021-05-25"
        },
        {
         "Close": 1.033725023269653,
         "macd_signal": 0,
         "aroon_signal": 0,
         "rsi_signal": 0,
         "ao_signal": 0,
         "_deepnote_index_column": "2021-05-26"
        },
        {
         "Close": 0.970234990119934,
         "macd_signal": 0,
         "aroon_signal": 0,
         "rsi_signal": 0,
         "ao_signal": 0,
         "_deepnote_index_column": "2021-05-27"
        },
        {
         "Close": 0.9001479744911194,
         "macd_signal": 0,
         "aroon_signal": 0,
         "rsi_signal": 0,
         "ao_signal": 0,
         "_deepnote_index_column": "2021-05-28"
        },
        {
         "Close": 0.8317880034446716,
         "macd_signal": 0,
         "aroon_signal": 0,
         "rsi_signal": 0,
         "ao_signal": 0,
         "_deepnote_index_column": "2021-05-29"
        },
        {
         "Close": 0.9066089987754822,
         "macd_signal": 0,
         "aroon_signal": 0,
         "rsi_signal": 0,
         "ao_signal": 0,
         "_deepnote_index_column": "2021-05-30"
        },
        {
         "Close": 1.0465840101242063,
         "macd_signal": 0,
         "aroon_signal": 0,
         "rsi_signal": 0,
         "ao_signal": 0,
         "_deepnote_index_column": "2021-05-31"
        },
        {
         "Close": 1.0110009908676147,
         "macd_signal": 0,
         "aroon_signal": 0,
         "rsi_signal": 0,
         "ao_signal": 0,
         "_deepnote_index_column": "2021-06-01"
        },
        {
         "Close": 1.024399995803833,
         "macd_signal": 1,
         "aroon_signal": 0,
         "rsi_signal": 0,
         "ao_signal": 0,
         "_deepnote_index_column": "2021-06-02"
        },
        {
         "Close": 1.045320987701416,
         "macd_signal": 0,
         "aroon_signal": 0,
         "rsi_signal": 0,
         "ao_signal": 0,
         "_deepnote_index_column": "2021-06-03"
        },
        {
         "Close": 0.970196008682251,
         "macd_signal": 0,
         "aroon_signal": 0,
         "rsi_signal": 0,
         "ao_signal": 0,
         "_deepnote_index_column": "2021-06-04"
        },
        {
         "Close": 0.9232860207557678,
         "macd_signal": 0,
         "aroon_signal": 0,
         "rsi_signal": 0,
         "ao_signal": 0,
         "_deepnote_index_column": "2021-06-05"
        },
        {
         "Close": 0.945285975933075,
         "macd_signal": 0,
         "aroon_signal": 0,
         "rsi_signal": 0,
         "ao_signal": 0,
         "_deepnote_index_column": "2021-06-06"
        },
        {
         "Close": 0.8611549735069275,
         "macd_signal": 0,
         "aroon_signal": 0,
         "rsi_signal": 0,
         "ao_signal": 0,
         "_deepnote_index_column": "2021-06-07"
        },
        {
         "Close": 0.8757879734039307,
         "macd_signal": 0,
         "aroon_signal": 0,
         "rsi_signal": 0,
         "ao_signal": 0,
         "_deepnote_index_column": "2021-06-08"
        },
        {
         "Close": 0.9200339913368224,
         "macd_signal": 0,
         "aroon_signal": 0,
         "rsi_signal": 0,
         "ao_signal": 0,
         "_deepnote_index_column": "2021-06-09"
        },
        {
         "Close": 0.8691819906234741,
         "macd_signal": 0,
         "aroon_signal": 0,
         "rsi_signal": 0,
         "ao_signal": 0,
         "_deepnote_index_column": "2021-06-10"
        },
        {
         "Close": 0.8484500050544739,
         "macd_signal": 0,
         "aroon_signal": 0,
         "rsi_signal": 0,
         "ao_signal": 0,
         "_deepnote_index_column": "2021-06-11"
        },
        {
         "Close": 0.8326830267906189,
         "macd_signal": 0,
         "aroon_signal": 0,
         "rsi_signal": 0,
         "ao_signal": 0,
         "_deepnote_index_column": "2021-06-12"
        },
        {
         "Close": 0.8831599950790405,
         "macd_signal": 0,
         "aroon_signal": 0,
         "rsi_signal": 0,
         "ao_signal": 0,
         "_deepnote_index_column": "2021-06-13"
        },
        {
         "Close": 0.8928970098495483,
         "macd_signal": 0,
         "aroon_signal": 0,
         "rsi_signal": 0,
         "ao_signal": 0,
         "_deepnote_index_column": "2021-06-14"
        },
        {
         "Close": 0.8898000121116638,
         "macd_signal": 0,
         "aroon_signal": 0,
         "rsi_signal": 0,
         "ao_signal": 0,
         "_deepnote_index_column": "2021-06-15"
        },
        {
         "Close": 0.8319079875946045,
         "macd_signal": 0,
         "aroon_signal": 0,
         "rsi_signal": 0,
         "ao_signal": 0,
         "_deepnote_index_column": "2021-06-16"
        },
        {
         "Close": 0.8414379954338074,
         "macd_signal": 0,
         "aroon_signal": 0,
         "rsi_signal": 0,
         "ao_signal": 0,
         "_deepnote_index_column": "2021-06-17"
        },
        {
         "Close": 0.797648012638092,
         "macd_signal": 0,
         "aroon_signal": 0,
         "rsi_signal": 0,
         "ao_signal": 0,
         "_deepnote_index_column": "2021-06-18"
        },
        {
         "Close": 0.7616729736328125,
         "macd_signal": 0,
         "aroon_signal": 0,
         "rsi_signal": 0,
         "ao_signal": 0,
         "_deepnote_index_column": "2021-06-19"
        },
        {
         "Close": 0.7763770222663879,
         "macd_signal": 0,
         "aroon_signal": 0,
         "rsi_signal": 0,
         "ao_signal": 0,
         "_deepnote_index_column": "2021-06-20"
        },
        {
         "Close": 0.6103879809379578,
         "macd_signal": -1,
         "aroon_signal": 0,
         "rsi_signal": 0,
         "ao_signal": 0,
         "_deepnote_index_column": "2021-06-21"
        },
        {
         "Close": 0.5450670123100281,
         "macd_signal": 0,
         "aroon_signal": 0,
         "rsi_signal": -1,
         "ao_signal": 0,
         "_deepnote_index_column": "2021-06-22"
        },
        {
         "Close": 0.6265349984169006,
         "macd_signal": 0,
         "aroon_signal": 0,
         "rsi_signal": 0,
         "ao_signal": 0,
         "_deepnote_index_column": "2021-06-23"
        },
        {
         "Close": 0.671999990940094,
         "macd_signal": 0,
         "aroon_signal": 0,
         "rsi_signal": 0,
         "ao_signal": 0,
         "_deepnote_index_column": "2021-06-24"
        },
        {
         "Close": 0.6133229732513428,
         "macd_signal": 0,
         "aroon_signal": 0,
         "rsi_signal": 0,
         "ao_signal": 0,
         "_deepnote_index_column": "2021-06-25"
        },
        {
         "Close": 0.615435004234314,
         "macd_signal": 0,
         "aroon_signal": 0,
         "rsi_signal": 0,
         "ao_signal": 0,
         "_deepnote_index_column": "2021-06-26"
        },
        {
         "Close": 0.6469230055809021,
         "macd_signal": 0,
         "aroon_signal": 0,
         "rsi_signal": 0,
         "ao_signal": 0,
         "_deepnote_index_column": "2021-06-27"
        },
        {
         "Close": 0.643746018409729,
         "macd_signal": 0,
         "aroon_signal": 0,
         "rsi_signal": 0,
         "ao_signal": 0,
         "_deepnote_index_column": "2021-06-28"
        },
        {
         "Close": 0.7017250061035156,
         "macd_signal": 1,
         "aroon_signal": 0,
         "rsi_signal": 0,
         "ao_signal": 0,
         "_deepnote_index_column": "2021-06-29"
        },
        {
         "Close": 0.7063739895820618,
         "macd_signal": 0,
         "aroon_signal": 0,
         "rsi_signal": 0,
         "ao_signal": 0,
         "_deepnote_index_column": "2021-06-30"
        },
        {
         "Close": 0.6611800193786621,
         "macd_signal": 0,
         "aroon_signal": 0,
         "rsi_signal": 0,
         "ao_signal": 0,
         "_deepnote_index_column": "2021-07-01"
        },
        {
         "Close": 0.6567630171775818,
         "macd_signal": 0,
         "aroon_signal": 0,
         "rsi_signal": 0,
         "ao_signal": 0,
         "_deepnote_index_column": "2021-07-02"
        },
        {
         "Close": 0.6728879809379578,
         "macd_signal": 0,
         "aroon_signal": 0,
         "rsi_signal": 0,
         "ao_signal": 0,
         "_deepnote_index_column": "2021-07-03"
        },
        {
         "Close": 0.6949449777603149,
         "macd_signal": 0,
         "aroon_signal": 0,
         "rsi_signal": 0,
         "ao_signal": 0,
         "_deepnote_index_column": "2021-07-04"
        },
        {
         "Close": 0.6542999744415283,
         "macd_signal": 0,
         "aroon_signal": 0,
         "rsi_signal": 0,
         "ao_signal": 0,
         "_deepnote_index_column": "2021-07-05"
        },
        {
         "Close": 0.6654019951820374,
         "macd_signal": 0,
         "aroon_signal": 0,
         "rsi_signal": 0,
         "ao_signal": 0,
         "_deepnote_index_column": "2021-07-06"
        },
        {
         "Close": 0.6515750288963318,
         "macd_signal": 0,
         "aroon_signal": 0,
         "rsi_signal": 0,
         "ao_signal": 0,
         "_deepnote_index_column": "2021-07-07"
        },
        {
         "Close": 0.623058021068573,
         "macd_signal": 0,
         "aroon_signal": 0,
         "rsi_signal": 0,
         "ao_signal": 0,
         "_deepnote_index_column": "2021-07-08"
        },
        {
         "Close": 0.6368039846420288,
         "macd_signal": 0,
         "aroon_signal": 0,
         "rsi_signal": 0,
         "ao_signal": 0,
         "_deepnote_index_column": "2021-07-09"
        },
        {
         "Close": 0.6254630088806152,
         "macd_signal": 0,
         "aroon_signal": 0,
         "rsi_signal": 0,
         "ao_signal": 0,
         "_deepnote_index_column": "2021-07-10"
        },
        {
         "Close": 0.6359350085258484,
         "macd_signal": 0,
         "aroon_signal": 0,
         "rsi_signal": 0,
         "ao_signal": 0,
         "_deepnote_index_column": "2021-07-11"
        },
        {
         "Close": 0.6301779747009277,
         "macd_signal": 0,
         "aroon_signal": 0,
         "rsi_signal": 0,
         "ao_signal": 0,
         "_deepnote_index_column": "2021-07-12"
        },
        {
         "Close": 0.6195229887962341,
         "macd_signal": 0,
         "aroon_signal": 0,
         "rsi_signal": 0,
         "ao_signal": 0,
         "_deepnote_index_column": "2021-07-13"
        },
        {
         "Close": 0.6203240156173706,
         "macd_signal": 0,
         "aroon_signal": 0,
         "rsi_signal": 0,
         "ao_signal": 0,
         "_deepnote_index_column": "2021-07-14"
        },
        {
         "Close": 0.5969409942626953,
         "macd_signal": 0,
         "aroon_signal": 0,
         "rsi_signal": 0,
         "ao_signal": 0,
         "_deepnote_index_column": "2021-07-15"
        },
        {
         "Close": 0.5907739996910095,
         "macd_signal": 0,
         "aroon_signal": 0,
         "rsi_signal": 0,
         "ao_signal": 0,
         "_deepnote_index_column": "2021-07-16"
        },
        {
         "Close": 0.582427978515625,
         "macd_signal": 0,
         "aroon_signal": 0,
         "rsi_signal": 0,
         "ao_signal": 0,
         "_deepnote_index_column": "2021-07-17"
        },
        {
         "Close": 0.5879219770431519,
         "macd_signal": 0,
         "aroon_signal": 0,
         "rsi_signal": 0,
         "ao_signal": 0,
         "_deepnote_index_column": "2021-07-18"
        },
        {
         "Close": 0.5575559735298157,
         "macd_signal": 0,
         "aroon_signal": 0,
         "rsi_signal": 0,
         "ao_signal": 0,
         "_deepnote_index_column": "2021-07-19"
        },
        {
         "Close": 0.5293359756469727,
         "macd_signal": -1,
         "aroon_signal": 0,
         "rsi_signal": 0,
         "ao_signal": 0,
         "_deepnote_index_column": "2021-07-20"
        },
        {
         "Close": 0.569998025894165,
         "macd_signal": 1,
         "aroon_signal": 0,
         "rsi_signal": 0,
         "ao_signal": 0,
         "_deepnote_index_column": "2021-07-21"
        },
        {
         "Close": 0.5922060012817383,
         "macd_signal": 0,
         "aroon_signal": 0,
         "rsi_signal": 0,
         "ao_signal": 0,
         "_deepnote_index_column": "2021-07-22"
        },
        {
         "Close": 0.6092240214347839,
         "macd_signal": 0,
         "aroon_signal": 0,
         "rsi_signal": 0,
         "ao_signal": 0,
         "_deepnote_index_column": "2021-07-23"
        },
        {
         "Close": 0.6098269820213318,
         "macd_signal": 0,
         "aroon_signal": 0,
         "rsi_signal": 0,
         "ao_signal": 0,
         "_deepnote_index_column": "2021-07-24"
        },
        {
         "Close": 0.6063569784164429,
         "macd_signal": 0,
         "aroon_signal": 0,
         "rsi_signal": 0,
         "ao_signal": 0,
         "_deepnote_index_column": "2021-07-25"
        },
        {
         "Close": 0.6256179809570312,
         "macd_signal": 0,
         "aroon_signal": 0,
         "rsi_signal": 0,
         "ao_signal": 0,
         "_deepnote_index_column": "2021-07-26"
        },
        {
         "Close": 0.6446040272712708,
         "macd_signal": 0,
         "aroon_signal": 0,
         "rsi_signal": 0,
         "ao_signal": 0,
         "_deepnote_index_column": "2021-07-27"
        },
        {
         "Close": 0.7254449725151062,
         "macd_signal": 0,
         "aroon_signal": 0,
         "rsi_signal": 0,
         "ao_signal": 1,
         "_deepnote_index_column": "2021-07-28"
        },
        {
         "Close": 0.7480170130729675,
         "macd_signal": 0,
         "aroon_signal": 0,
         "rsi_signal": 0,
         "ao_signal": 0,
         "_deepnote_index_column": "2021-07-29"
        },
        {
         "Close": 0.7521190047264099,
         "macd_signal": 0,
         "aroon_signal": 0,
         "rsi_signal": 0,
         "ao_signal": 0,
         "_deepnote_index_column": "2021-07-30"
        },
        {
         "Close": 0.7477859854698181,
         "macd_signal": 0,
         "aroon_signal": 0,
         "rsi_signal": 0,
         "ao_signal": 0,
         "_deepnote_index_column": "2021-07-31"
        },
        {
         "Close": 0.7259219884872437,
         "macd_signal": 0,
         "aroon_signal": 0,
         "rsi_signal": 0,
         "ao_signal": 0,
         "_deepnote_index_column": "2021-08-01"
        },
        {
         "Close": 0.7392200231552124,
         "macd_signal": 0,
         "aroon_signal": 0,
         "rsi_signal": 0,
         "ao_signal": 0,
         "_deepnote_index_column": "2021-08-02"
        },
        {
         "Close": 0.7127289772033691,
         "macd_signal": 0,
         "aroon_signal": 0,
         "rsi_signal": 0,
         "ao_signal": 0,
         "_deepnote_index_column": "2021-08-03"
        },
        {
         "Close": 0.7304880023002625,
         "macd_signal": 0,
         "aroon_signal": 0,
         "rsi_signal": 0,
         "ao_signal": 0,
         "_deepnote_index_column": "2021-08-04"
        },
        {
         "Close": 0.7331510186195374,
         "macd_signal": 0,
         "aroon_signal": 0,
         "rsi_signal": 0,
         "ao_signal": 0,
         "_deepnote_index_column": "2021-08-05"
        },
        {
         "Close": 0.7465130090713501,
         "macd_signal": 0,
         "aroon_signal": 0,
         "rsi_signal": 0,
         "ao_signal": 0,
         "_deepnote_index_column": "2021-08-06"
        },
        {
         "Close": 0.8162810206413269,
         "macd_signal": 0,
         "aroon_signal": 1,
         "rsi_signal": 1,
         "ao_signal": 0,
         "_deepnote_index_column": "2021-08-07"
        },
        {
         "Close": 0.7787389755249023,
         "macd_signal": 0,
         "aroon_signal": 0,
         "rsi_signal": 0,
         "ao_signal": 0,
         "_deepnote_index_column": "2021-08-08"
        },
        {
         "Close": 0.8185529708862305,
         "macd_signal": 0,
         "aroon_signal": 0,
         "rsi_signal": 0,
         "ao_signal": 0,
         "_deepnote_index_column": "2021-08-09"
        },
        {
         "Close": 0.8512470126152039,
         "macd_signal": 0,
         "aroon_signal": 0,
         "rsi_signal": 0,
         "ao_signal": 0,
         "_deepnote_index_column": "2021-08-10"
        },
        {
         "Close": 1.0125240087509155,
         "macd_signal": 0,
         "aroon_signal": 0,
         "rsi_signal": 0,
         "ao_signal": 0,
         "_deepnote_index_column": "2021-08-11"
        }
       ]
      },
      "text/plain": "               Close  macd_signal  aroon_signal  rsi_signal  ao_signal\nDate                                                                  \n2019-09-01  0.258054            0             0           0        0.0\n2019-09-02  0.260820            1             0           1        0.0\n2019-09-03  0.263139            0             0           0        0.0\n2019-09-04  0.259905            0             0           0        0.0\n2019-09-05  0.256346            0             0           0        0.0\n...              ...          ...           ...         ...        ...\n2021-08-07  0.816281            0             1           1        0.0\n2021-08-08  0.778739            0             0           0        0.0\n2021-08-09  0.818553            0             0           0        0.0\n2021-08-10  0.851247            0             0           0        0.0\n2021-08-11  1.012524            0             0           0        0.0\n\n[707 rows x 5 columns]",
      "text/html": "<div>\n<style scoped>\n    .dataframe tbody tr th:only-of-type {\n        vertical-align: middle;\n    }\n\n    .dataframe tbody tr th {\n        vertical-align: top;\n    }\n\n    .dataframe thead th {\n        text-align: right;\n    }\n</style>\n<table border=\"1\" class=\"dataframe\">\n  <thead>\n    <tr style=\"text-align: right;\">\n      <th></th>\n      <th>Close</th>\n      <th>macd_signal</th>\n      <th>aroon_signal</th>\n      <th>rsi_signal</th>\n      <th>ao_signal</th>\n    </tr>\n    <tr>\n      <th>Date</th>\n      <th></th>\n      <th></th>\n      <th></th>\n      <th></th>\n      <th></th>\n    </tr>\n  </thead>\n  <tbody>\n    <tr>\n      <th>2019-09-01</th>\n      <td>0.258054</td>\n      <td>0</td>\n      <td>0</td>\n      <td>0</td>\n      <td>0.0</td>\n    </tr>\n    <tr>\n      <th>2019-09-02</th>\n      <td>0.260820</td>\n      <td>1</td>\n      <td>0</td>\n      <td>1</td>\n      <td>0.0</td>\n    </tr>\n    <tr>\n      <th>2019-09-03</th>\n      <td>0.263139</td>\n      <td>0</td>\n      <td>0</td>\n      <td>0</td>\n      <td>0.0</td>\n    </tr>\n    <tr>\n      <th>2019-09-04</th>\n      <td>0.259905</td>\n      <td>0</td>\n      <td>0</td>\n      <td>0</td>\n      <td>0.0</td>\n    </tr>\n    <tr>\n      <th>2019-09-05</th>\n      <td>0.256346</td>\n      <td>0</td>\n      <td>0</td>\n      <td>0</td>\n      <td>0.0</td>\n    </tr>\n    <tr>\n      <th>...</th>\n      <td>...</td>\n      <td>...</td>\n      <td>...</td>\n      <td>...</td>\n      <td>...</td>\n    </tr>\n    <tr>\n      <th>2021-08-07</th>\n      <td>0.816281</td>\n      <td>0</td>\n      <td>1</td>\n      <td>1</td>\n      <td>0.0</td>\n    </tr>\n    <tr>\n      <th>2021-08-08</th>\n      <td>0.778739</td>\n      <td>0</td>\n      <td>0</td>\n      <td>0</td>\n      <td>0.0</td>\n    </tr>\n    <tr>\n      <th>2021-08-09</th>\n      <td>0.818553</td>\n      <td>0</td>\n      <td>0</td>\n      <td>0</td>\n      <td>0.0</td>\n    </tr>\n    <tr>\n      <th>2021-08-10</th>\n      <td>0.851247</td>\n      <td>0</td>\n      <td>0</td>\n      <td>0</td>\n      <td>0.0</td>\n    </tr>\n    <tr>\n      <th>2021-08-11</th>\n      <td>1.012524</td>\n      <td>0</td>\n      <td>0</td>\n      <td>0</td>\n      <td>0.0</td>\n    </tr>\n  </tbody>\n</table>\n<p>707 rows × 5 columns</p>\n</div>"
     },
     "metadata": {}
    }
   ],
   "execution_count": null
  },
  {
   "cell_type": "code",
   "metadata": {
    "tags": [],
    "deepnote_to_be_reexecuted": false,
    "source_hash": "286f7088",
    "execution_start": 1629253377549,
    "execution_millis": 1,
    "cell_id": "00002-61b5f63f-9021-4566-bc3c-d596ad78d51f",
    "deepnote_cell_type": "code"
   },
   "source": "#df1=pd.read_csv(Path('/work/Fintech-Project2/TRADE_STRATS/XRP_MACD_TRADE_STRATEGY'), infer_datetime_format=True, index_col='Datetime')\n#df1",
   "outputs": [],
   "execution_count": null
  },
  {
   "cell_type": "code",
   "metadata": {
    "tags": [],
    "deepnote_to_be_reexecuted": false,
    "source_hash": "4706167c",
    "execution_start": 1629253377554,
    "execution_millis": 1,
    "cell_id": "00003-9a0ab5fa-5412-43c0-9efe-7c707e6fd775",
    "deepnote_cell_type": "code"
   },
   "source": "#df2=pd.read_csv(Path('/work/Fintech-Project2/TRADE_STRATS/XRP AROON 25 TRADE STRATEGY.CSV'), infer_datetime_format=True, index_col='Unnamed: 0')\n#df2",
   "outputs": [],
   "execution_count": null
  },
  {
   "cell_type": "code",
   "metadata": {
    "tags": [],
    "deepnote_to_be_reexecuted": false,
    "source_hash": "bb6a6eb4",
    "execution_start": 1629253377561,
    "execution_millis": 3,
    "cell_id": "00004-597413ff-8c75-4ed9-814a-b4e5d2634bc3",
    "deepnote_cell_type": "code"
   },
   "source": "#df3=pd.read_csv(Path('/work/Fintech-Project2/TRADE_STRATS/XRP_RSI_TRADE_STRATEGY'), infer_datetime_format=True, index_col='Datetime')\n#df3",
   "outputs": [],
   "execution_count": null
  },
  {
   "cell_type": "code",
   "metadata": {
    "tags": [],
    "deepnote_to_be_reexecuted": false,
    "source_hash": "b03e0edc",
    "execution_start": 1629253377604,
    "execution_millis": 49,
    "cell_id": "00005-633a249d-b7d4-4b03-96b6-2bade88a81b3",
    "deepnote_cell_type": "code"
   },
   "source": "combined_signals_df['Returns'] = combined_signals_df.Close.pct_change()\ncombined_signals_df",
   "outputs": [
    {
     "output_type": "execute_result",
     "execution_count": 6,
     "data": {
      "application/vnd.deepnote.dataframe.v2+json": {
       "row_count": 707,
       "column_count": 6,
       "columns": [
        {
         "name": "Close",
         "dtype": "float64",
         "stats": {
          "unique_count": 706,
          "nan_count": 0,
          "min": "0.1396349966526031",
          "max": "1.83923602104187",
          "histogram": [
           {
            "bin_start": 0.1396349966526031,
            "bin_end": 0.30959509909152977,
            "count": 468
           },
           {
            "bin_start": 0.30959509909152977,
            "bin_end": 0.47955520153045644,
            "count": 50
           },
           {
            "bin_start": 0.47955520153045644,
            "bin_end": 0.6495153039693831,
            "count": 85
           },
           {
            "bin_start": 0.6495153039693831,
            "bin_end": 0.8194754064083098,
            "count": 29
           },
           {
            "bin_start": 0.8194754064083098,
            "bin_end": 0.9894355088472364,
            "count": 23
           },
           {
            "bin_start": 0.9894355088472364,
            "bin_end": 1.1593956112861632,
            "count": 14
           },
           {
            "bin_start": 1.1593956112861632,
            "bin_end": 1.3293557137250898,
            "count": 6
           },
           {
            "bin_start": 1.3293557137250898,
            "bin_end": 1.4993158161640165,
            "count": 17
           },
           {
            "bin_start": 1.4993158161640165,
            "bin_end": 1.6692759186029433,
            "count": 12
           },
           {
            "bin_start": 1.6692759186029433,
            "bin_end": 1.83923602104187,
            "count": 3
           }
          ]
         }
        },
        {
         "name": "macd_signal",
         "dtype": "int64",
         "stats": {
          "unique_count": 3,
          "nan_count": 0,
          "min": "-1",
          "max": "1",
          "histogram": [
           {
            "bin_start": -1,
            "bin_end": -0.8,
            "count": 23
           },
           {
            "bin_start": -0.8,
            "bin_end": -0.6,
            "count": 0
           },
           {
            "bin_start": -0.6,
            "bin_end": -0.3999999999999999,
            "count": 0
           },
           {
            "bin_start": -0.3999999999999999,
            "bin_end": -0.19999999999999996,
            "count": 0
           },
           {
            "bin_start": -0.19999999999999996,
            "bin_end": 0,
            "count": 0
           },
           {
            "bin_start": 0,
            "bin_end": 0.20000000000000018,
            "count": 660
           },
           {
            "bin_start": 0.20000000000000018,
            "bin_end": 0.40000000000000013,
            "count": 0
           },
           {
            "bin_start": 0.40000000000000013,
            "bin_end": 0.6000000000000001,
            "count": 0
           },
           {
            "bin_start": 0.6000000000000001,
            "bin_end": 0.8,
            "count": 0
           },
           {
            "bin_start": 0.8,
            "bin_end": 1,
            "count": 24
           }
          ]
         }
        },
        {
         "name": "aroon_signal",
         "dtype": "int64",
         "stats": {
          "unique_count": 3,
          "nan_count": 0,
          "min": "-1",
          "max": "1",
          "histogram": [
           {
            "bin_start": -1,
            "bin_end": -0.8,
            "count": 7
           },
           {
            "bin_start": -0.8,
            "bin_end": -0.6,
            "count": 0
           },
           {
            "bin_start": -0.6,
            "bin_end": -0.3999999999999999,
            "count": 0
           },
           {
            "bin_start": -0.3999999999999999,
            "bin_end": -0.19999999999999996,
            "count": 0
           },
           {
            "bin_start": -0.19999999999999996,
            "bin_end": 0,
            "count": 0
           },
           {
            "bin_start": 0,
            "bin_end": 0.20000000000000018,
            "count": 692
           },
           {
            "bin_start": 0.20000000000000018,
            "bin_end": 0.40000000000000013,
            "count": 0
           },
           {
            "bin_start": 0.40000000000000013,
            "bin_end": 0.6000000000000001,
            "count": 0
           },
           {
            "bin_start": 0.6000000000000001,
            "bin_end": 0.8,
            "count": 0
           },
           {
            "bin_start": 0.8,
            "bin_end": 1,
            "count": 8
           }
          ]
         }
        },
        {
         "name": "rsi_signal",
         "dtype": "int64",
         "stats": {
          "unique_count": 3,
          "nan_count": 0,
          "min": "-1",
          "max": "1",
          "histogram": [
           {
            "bin_start": -1,
            "bin_end": -0.8,
            "count": 4
           },
           {
            "bin_start": -0.8,
            "bin_end": -0.6,
            "count": 0
           },
           {
            "bin_start": -0.6,
            "bin_end": -0.3999999999999999,
            "count": 0
           },
           {
            "bin_start": -0.3999999999999999,
            "bin_end": -0.19999999999999996,
            "count": 0
           },
           {
            "bin_start": -0.19999999999999996,
            "bin_end": 0,
            "count": 0
           },
           {
            "bin_start": 0,
            "bin_end": 0.20000000000000018,
            "count": 698
           },
           {
            "bin_start": 0.20000000000000018,
            "bin_end": 0.40000000000000013,
            "count": 0
           },
           {
            "bin_start": 0.40000000000000013,
            "bin_end": 0.6000000000000001,
            "count": 0
           },
           {
            "bin_start": 0.6000000000000001,
            "bin_end": 0.8,
            "count": 0
           },
           {
            "bin_start": 0.8,
            "bin_end": 1,
            "count": 5
           }
          ]
         }
        },
        {
         "name": "ao_signal",
         "dtype": "float64",
         "stats": {
          "unique_count": 3,
          "nan_count": 0,
          "min": "-1.0",
          "max": "1.0",
          "histogram": [
           {
            "bin_start": -1,
            "bin_end": -0.8,
            "count": 12
           },
           {
            "bin_start": -0.8,
            "bin_end": -0.6,
            "count": 0
           },
           {
            "bin_start": -0.6,
            "bin_end": -0.3999999999999999,
            "count": 0
           },
           {
            "bin_start": -0.3999999999999999,
            "bin_end": -0.19999999999999996,
            "count": 0
           },
           {
            "bin_start": -0.19999999999999996,
            "bin_end": 0,
            "count": 0
           },
           {
            "bin_start": 0,
            "bin_end": 0.20000000000000018,
            "count": 683
           },
           {
            "bin_start": 0.20000000000000018,
            "bin_end": 0.40000000000000013,
            "count": 0
           },
           {
            "bin_start": 0.40000000000000013,
            "bin_end": 0.6000000000000001,
            "count": 0
           },
           {
            "bin_start": 0.6000000000000001,
            "bin_end": 0.8,
            "count": 0
           },
           {
            "bin_start": 0.8,
            "bin_end": 1,
            "count": 12
           }
          ]
         }
        },
        {
         "name": "Returns",
         "dtype": "float64",
         "stats": {
          "unique_count": 706,
          "nan_count": 1,
          "min": "-0.4233400707018309",
          "max": "0.5601088348528374",
          "histogram": [
           {
            "bin_start": -0.4233400707018309,
            "bin_end": -0.3249951801463641,
            "count": 3
           },
           {
            "bin_start": -0.3249951801463641,
            "bin_end": -0.22665028959089722,
            "count": 1
           },
           {
            "bin_start": -0.22665028959089722,
            "bin_end": -0.12830539903543037,
            "count": 7
           },
           {
            "bin_start": -0.12830539903543037,
            "bin_end": -0.029960508479963566,
            "count": 123
           },
           {
            "bin_start": -0.029960508479963566,
            "bin_end": 0.06838438207550324,
            "count": 513
           },
           {
            "bin_start": 0.06838438207550324,
            "bin_end": 0.16672927263097015,
            "count": 46
           },
           {
            "bin_start": 0.16672927263097015,
            "bin_end": 0.26507416318643695,
            "count": 5
           },
           {
            "bin_start": 0.26507416318643695,
            "bin_end": 0.36341905374190375,
            "count": 4
           },
           {
            "bin_start": 0.36341905374190375,
            "bin_end": 0.46176394429737055,
            "count": 3
           },
           {
            "bin_start": 0.46176394429737055,
            "bin_end": 0.5601088348528374,
            "count": 1
           }
          ]
         }
        },
        {
         "name": "_deepnote_index_column",
         "dtype": "object"
        }
       ],
       "rows_top": [
        {
         "Close": 0.2580539882183075,
         "macd_signal": 0,
         "aroon_signal": 0,
         "rsi_signal": 0,
         "ao_signal": 0,
         "Returns": "nan",
         "_deepnote_index_column": "2019-09-01"
        },
        {
         "Close": 0.2608200013637543,
         "macd_signal": 1,
         "aroon_signal": 0,
         "rsi_signal": 1,
         "ao_signal": 0,
         "Returns": 0.010718738216542567,
         "_deepnote_index_column": "2019-09-02"
        },
        {
         "Close": 0.263139009475708,
         "macd_signal": 0,
         "aroon_signal": 0,
         "rsi_signal": 0,
         "ao_signal": 0,
         "Returns": 0.008891220381214149,
         "_deepnote_index_column": "2019-09-03"
        },
        {
         "Close": 0.2599050104618072,
         "macd_signal": 0,
         "aroon_signal": 0,
         "rsi_signal": 0,
         "ao_signal": 0,
         "Returns": -0.01229007823790329,
         "_deepnote_index_column": "2019-09-04"
        },
        {
         "Close": 0.2563459873199463,
         "macd_signal": 0,
         "aroon_signal": 0,
         "rsi_signal": 0,
         "ao_signal": 0,
         "Returns": -0.013693553408366865,
         "_deepnote_index_column": "2019-09-05"
        },
        {
         "Close": 0.2523399889469147,
         "macd_signal": -1,
         "aroon_signal": 0,
         "rsi_signal": 0,
         "ao_signal": 0,
         "Returns": -0.015627310631672664,
         "_deepnote_index_column": "2019-09-06"
        },
        {
         "Close": 0.260686993598938,
         "macd_signal": 0,
         "aroon_signal": 0,
         "rsi_signal": 0,
         "ao_signal": 0,
         "Returns": 0.03307840618864133,
         "_deepnote_index_column": "2019-09-07"
        },
        {
         "Close": 0.2630839943885803,
         "macd_signal": 1,
         "aroon_signal": 0,
         "rsi_signal": 0,
         "ao_signal": 0,
         "Returns": 0.00919493817681638,
         "_deepnote_index_column": "2019-09-08"
        },
        {
         "Close": 0.2595619857311249,
         "macd_signal": 0,
         "aroon_signal": 0,
         "rsi_signal": 0,
         "ao_signal": 0,
         "Returns": -0.013387392363571005,
         "_deepnote_index_column": "2019-09-09"
        },
        {
         "Close": 0.2586709856986999,
         "macd_signal": 0,
         "aroon_signal": 0,
         "rsi_signal": 0,
         "ao_signal": 0,
         "Returns": -0.003432706179663625,
         "_deepnote_index_column": "2019-09-10"
        },
        {
         "Close": 0.2559559941291809,
         "macd_signal": -1,
         "aroon_signal": 0,
         "rsi_signal": 0,
         "ao_signal": 0,
         "Returns": -0.010495926175042358,
         "_deepnote_index_column": "2019-09-11"
        },
        {
         "Close": 0.2548109889030456,
         "macd_signal": 0,
         "aroon_signal": 0,
         "rsi_signal": 0,
         "ao_signal": 0,
         "Returns": -0.004473445640649554,
         "_deepnote_index_column": "2019-09-12"
        },
        {
         "Close": 0.2555510103702545,
         "macd_signal": 0,
         "aroon_signal": 0,
         "rsi_signal": 0,
         "ao_signal": 0,
         "Returns": 0.0029041976187711427,
         "_deepnote_index_column": "2019-09-13"
        },
        {
         "Close": 0.2611669898033142,
         "macd_signal": 0,
         "aroon_signal": 0,
         "rsi_signal": 0,
         "ao_signal": 0,
         "Returns": 0.02197596254823253,
         "_deepnote_index_column": "2019-09-14"
        },
        {
         "Close": 0.2616280019283294,
         "macd_signal": 1,
         "aroon_signal": 0,
         "rsi_signal": 0,
         "ao_signal": 0,
         "Returns": 0.0017652005920134606,
         "_deepnote_index_column": "2019-09-15"
        },
        {
         "Close": 0.2609519958496094,
         "macd_signal": 0,
         "aroon_signal": 0,
         "rsi_signal": 0,
         "ao_signal": 0,
         "Returns": -0.002583844518696532,
         "_deepnote_index_column": "2019-09-16"
        },
        {
         "Close": 0.2850129902362823,
         "macd_signal": 0,
         "aroon_signal": 0,
         "rsi_signal": 0,
         "ao_signal": 0,
         "Returns": 0.0922046766047333,
         "_deepnote_index_column": "2019-09-17"
        },
        {
         "Close": 0.3137759864330292,
         "macd_signal": 0,
         "aroon_signal": 0,
         "rsi_signal": 0,
         "ao_signal": 0,
         "Returns": 0.10091819384408307,
         "_deepnote_index_column": "2019-09-18"
        },
        {
         "Close": 0.3024410009384155,
         "macd_signal": 0,
         "aroon_signal": 0,
         "rsi_signal": 0,
         "ao_signal": 0,
         "Returns": -0.03612445178953472,
         "_deepnote_index_column": "2019-09-19"
        },
        {
         "Close": 0.2944700121879577,
         "macd_signal": 0,
         "aroon_signal": 0,
         "rsi_signal": 0,
         "ao_signal": 0,
         "Returns": -0.026355516367573828,
         "_deepnote_index_column": "2019-09-20"
        },
        {
         "Close": 0.2894429862499237,
         "macd_signal": 0,
         "aroon_signal": 0,
         "rsi_signal": 0,
         "ao_signal": 0,
         "Returns": -0.017071435901681253,
         "_deepnote_index_column": "2019-09-21"
        },
        {
         "Close": 0.2789309918880462,
         "macd_signal": 0,
         "aroon_signal": 0,
         "rsi_signal": 0,
         "ao_signal": 0,
         "Returns": -0.03631801377560684,
         "_deepnote_index_column": "2019-09-22"
        },
        {
         "Close": 0.2686749994754791,
         "macd_signal": 0,
         "aroon_signal": 0,
         "rsi_signal": 0,
         "ao_signal": 0,
         "Returns": -0.03676892389456499,
         "_deepnote_index_column": "2019-09-23"
        },
        {
         "Close": 0.2352260053157806,
         "macd_signal": -1,
         "aroon_signal": 0,
         "rsi_signal": 0,
         "ao_signal": 0,
         "Returns": -0.12449611696287088,
         "_deepnote_index_column": "2019-09-24"
        },
        {
         "Close": 0.2464410066604614,
         "macd_signal": 0,
         "aroon_signal": 0,
         "rsi_signal": 0,
         "ao_signal": 0,
         "Returns": 0.04767755729059431,
         "_deepnote_index_column": "2019-09-25"
        },
        {
         "Close": 0.2437839955091476,
         "macd_signal": 0,
         "aroon_signal": 0,
         "rsi_signal": 0,
         "ao_signal": 0,
         "Returns": -0.01078153018168182,
         "_deepnote_index_column": "2019-09-26"
        },
        {
         "Close": 0.2440209984779358,
         "macd_signal": 0,
         "aroon_signal": 0,
         "rsi_signal": 0,
         "ao_signal": 0,
         "Returns": 0.0009721842826195815,
         "_deepnote_index_column": "2019-09-27"
        },
        {
         "Close": 0.2425709962844848,
         "macd_signal": 0,
         "aroon_signal": 0,
         "rsi_signal": 0,
         "ao_signal": 0,
         "Returns": -0.0059421205654237585,
         "_deepnote_index_column": "2019-09-28"
        },
        {
         "Close": 0.2413879930973053,
         "macd_signal": 0,
         "aroon_signal": 0,
         "rsi_signal": 0,
         "ao_signal": 0,
         "Returns": -0.004876935846823582,
         "_deepnote_index_column": "2019-09-29"
        },
        {
         "Close": 0.2559329867362976,
         "macd_signal": 0,
         "aroon_signal": 0,
         "rsi_signal": 0,
         "ao_signal": 0,
         "Returns": 0.06025566330935561,
         "_deepnote_index_column": "2019-09-30"
        },
        {
         "Close": 0.2495650053024292,
         "macd_signal": 0,
         "aroon_signal": 0,
         "rsi_signal": 0,
         "ao_signal": 0,
         "Returns": -0.024881440704748625,
         "_deepnote_index_column": "2019-10-01"
        },
        {
         "Close": 0.2535389959812164,
         "macd_signal": 0,
         "aroon_signal": 0,
         "rsi_signal": 0,
         "ao_signal": 0,
         "Returns": 0.01592366956245095,
         "_deepnote_index_column": "2019-10-02"
        },
        {
         "Close": 0.2478599995374679,
         "macd_signal": 0,
         "aroon_signal": 0,
         "rsi_signal": 0,
         "ao_signal": 0,
         "Returns": -0.022398907204670082,
         "_deepnote_index_column": "2019-10-03"
        },
        {
         "Close": 0.2539350092411041,
         "macd_signal": 0,
         "aroon_signal": 0,
         "rsi_signal": 0,
         "ao_signal": 0,
         "Returns": 0.024509843116972574,
         "_deepnote_index_column": "2019-10-04"
        },
        {
         "Close": 0.2534570097923279,
         "macd_signal": 0,
         "aroon_signal": 0,
         "rsi_signal": 0,
         "ao_signal": -1,
         "Returns": -0.0018823692337844866,
         "_deepnote_index_column": "2019-10-05"
        },
        {
         "Close": 0.2577050030231476,
         "macd_signal": 0,
         "aroon_signal": 0,
         "rsi_signal": 0,
         "ao_signal": 0,
         "Returns": 0.016760212054503176,
         "_deepnote_index_column": "2019-10-06"
        },
        {
         "Close": 0.2756850123405456,
         "macd_signal": 1,
         "aroon_signal": 0,
         "rsi_signal": 0,
         "ao_signal": 0,
         "Returns": 0.06976973324721603,
         "_deepnote_index_column": "2019-10-07"
        },
        {
         "Close": 0.2784590125083923,
         "macd_signal": 0,
         "aroon_signal": 0,
         "rsi_signal": 0,
         "ao_signal": 0,
         "Returns": 0.010062208838614861,
         "_deepnote_index_column": "2019-10-08"
        },
        {
         "Close": 0.2816269993782043,
         "macd_signal": 0,
         "aroon_signal": 0,
         "rsi_signal": 0,
         "ao_signal": 1,
         "Returns": 0.011376851628088547,
         "_deepnote_index_column": "2019-10-09"
        },
        {
         "Close": 0.2720730006694793,
         "macd_signal": 0,
         "aroon_signal": 0,
         "rsi_signal": 0,
         "ao_signal": 0,
         "Returns": -0.03392429962261767,
         "_deepnote_index_column": "2019-10-10"
        },
        {
         "Close": 0.2710990011692047,
         "macd_signal": 0,
         "aroon_signal": 0,
         "rsi_signal": 0,
         "ao_signal": 0,
         "Returns": -0.0035799197196264565,
         "_deepnote_index_column": "2019-10-11"
        },
        {
         "Close": 0.2731910049915313,
         "macd_signal": 0,
         "aroon_signal": 0,
         "rsi_signal": 0,
         "ao_signal": 0,
         "Returns": 0.00771675223185686,
         "_deepnote_index_column": "2019-10-12"
        },
        {
         "Close": 0.2777650058269501,
         "macd_signal": 0,
         "aroon_signal": 0,
         "rsi_signal": 0,
         "ao_signal": 0,
         "Returns": 0.016742867634168768,
         "_deepnote_index_column": "2019-10-13"
        },
        {
         "Close": 0.2965230047702789,
         "macd_signal": 0,
         "aroon_signal": 1,
         "rsi_signal": 0,
         "ao_signal": 0,
         "Returns": 0.06753190124682296,
         "_deepnote_index_column": "2019-10-14"
        },
        {
         "Close": 0.2887020111083984,
         "macd_signal": 0,
         "aroon_signal": 0,
         "rsi_signal": 0,
         "ao_signal": 0,
         "Returns": -0.026375672497786606,
         "_deepnote_index_column": "2019-10-15"
        },
        {
         "Close": 0.2846400141716003,
         "macd_signal": 0,
         "aroon_signal": 0,
         "rsi_signal": 0,
         "ao_signal": 0,
         "Returns": -0.014069860203616447,
         "_deepnote_index_column": "2019-10-16"
        },
        {
         "Close": 0.3023149967193603,
         "macd_signal": 0,
         "aroon_signal": 0,
         "rsi_signal": 0,
         "ao_signal": 0,
         "Returns": 0.06209591648314183,
         "_deepnote_index_column": "2019-10-17"
        },
        {
         "Close": 0.2950049936771393,
         "macd_signal": 0,
         "aroon_signal": 0,
         "rsi_signal": 0,
         "ao_signal": 0,
         "Returns": -0.02418008739740729,
         "_deepnote_index_column": "2019-10-18"
        },
        {
         "Close": 0.2930220067501068,
         "macd_signal": 0,
         "aroon_signal": 0,
         "rsi_signal": 0,
         "ao_signal": 0,
         "Returns": -0.006721875797135457,
         "_deepnote_index_column": "2019-10-19"
        },
        {
         "Close": 0.2941789925098419,
         "macd_signal": 0,
         "aroon_signal": 0,
         "rsi_signal": 0,
         "ao_signal": 0,
         "Returns": 0.003948460296778311,
         "_deepnote_index_column": "2019-10-20"
        },
        {
         "Close": 0.2929790019989013,
         "macd_signal": 0,
         "aroon_signal": 0,
         "rsi_signal": 0,
         "ao_signal": 0,
         "Returns": -0.004079116937285909,
         "_deepnote_index_column": "2019-10-21"
        },
        {
         "Close": 0.291606992483139,
         "macd_signal": 0,
         "aroon_signal": 0,
         "rsi_signal": 0,
         "ao_signal": 0,
         "Returns": -0.004682961940622232,
         "_deepnote_index_column": "2019-10-22"
        },
        {
         "Close": 0.2741430103778839,
         "macd_signal": -1,
         "aroon_signal": 0,
         "rsi_signal": 0,
         "ao_signal": 0,
         "Returns": -0.05988876314845182,
         "_deepnote_index_column": "2019-10-23"
        },
        {
         "Close": 0.2784909904003143,
         "macd_signal": 0,
         "aroon_signal": 0,
         "rsi_signal": 0,
         "ao_signal": 0,
         "Returns": 0.015860262191025765,
         "_deepnote_index_column": "2019-10-24"
        },
        {
         "Close": 0.2981649935245514,
         "macd_signal": 0,
         "aroon_signal": 0,
         "rsi_signal": 0,
         "ao_signal": 0,
         "Returns": 0.07064502552113772,
         "_deepnote_index_column": "2019-10-25"
        },
        {
         "Close": 0.2936989963054657,
         "macd_signal": 0,
         "aroon_signal": 0,
         "rsi_signal": 0,
         "ao_signal": 0,
         "Returns": -0.014978274834661187,
         "_deepnote_index_column": "2019-10-26"
        },
        {
         "Close": 0.2980999946594238,
         "macd_signal": 1,
         "aroon_signal": 0,
         "rsi_signal": 0,
         "ao_signal": 0,
         "Returns": 0.014984723847611514,
         "_deepnote_index_column": "2019-10-27"
        },
        {
         "Close": 0.2960070073604584,
         "macd_signal": 0,
         "aroon_signal": 0,
         "rsi_signal": 0,
         "ao_signal": 0,
         "Returns": -0.007021091366863685,
         "_deepnote_index_column": "2019-10-28"
        },
        {
         "Close": 0.3019559979438782,
         "macd_signal": 0,
         "aroon_signal": 0,
         "rsi_signal": 0,
         "ao_signal": 0,
         "Returns": 0.020097465382552526,
         "_deepnote_index_column": "2019-10-29"
        },
        {
         "Close": 0.2965550124645233,
         "macd_signal": 0,
         "aroon_signal": 0,
         "rsi_signal": 0,
         "ao_signal": 0,
         "Returns": -0.01788666400446426,
         "_deepnote_index_column": "2019-10-30"
        },
        {
         "Close": 0.2963579893112182,
         "macd_signal": -1,
         "aroon_signal": 0,
         "rsi_signal": 0,
         "ao_signal": 0,
         "Returns": -0.0006643730337509979,
         "_deepnote_index_column": "2019-10-31"
        },
        {
         "Close": 0.2926419973373413,
         "macd_signal": 0,
         "aroon_signal": 0,
         "rsi_signal": 0,
         "ao_signal": 0,
         "Returns": -0.012538862146127538,
         "_deepnote_index_column": "2019-11-01"
        },
        {
         "Close": 0.2962630093097687,
         "macd_signal": 0,
         "aroon_signal": 0,
         "rsi_signal": 0,
         "ao_signal": 0,
         "Returns": 0.012373521249081865,
         "_deepnote_index_column": "2019-11-02"
        },
        {
         "Close": 0.2912609875202179,
         "macd_signal": 0,
         "aroon_signal": 0,
         "rsi_signal": 0,
         "ao_signal": 0,
         "Returns": -0.016883720317310114,
         "_deepnote_index_column": "2019-11-03"
        },
        {
         "Close": 0.2999370098114013,
         "macd_signal": 0,
         "aroon_signal": 0,
         "rsi_signal": 0,
         "ao_signal": 0,
         "Returns": 0.02978779398178477,
         "_deepnote_index_column": "2019-11-04"
        },
        {
         "Close": 0.3012549877166748,
         "macd_signal": 0,
         "aroon_signal": 0,
         "rsi_signal": 0,
         "ao_signal": 0,
         "Returns": 0.0043941823188216045,
         "_deepnote_index_column": "2019-11-05"
        },
        {
         "Close": 0.3100860118865967,
         "macd_signal": 1,
         "aroon_signal": 0,
         "rsi_signal": 0,
         "ao_signal": 0,
         "Returns": 0.02931411770757908,
         "_deepnote_index_column": "2019-11-06"
        },
        {
         "Close": 0.2924309968948364,
         "macd_signal": -1,
         "aroon_signal": 0,
         "rsi_signal": 0,
         "ao_signal": 0,
         "Returns": -0.056935863969952205,
         "_deepnote_index_column": "2019-11-07"
        },
        {
         "Close": 0.2769530117511749,
         "macd_signal": 0,
         "aroon_signal": 0,
         "rsi_signal": 0,
         "ao_signal": 0,
         "Returns": -0.05292867482590313,
         "_deepnote_index_column": "2019-11-08"
        },
        {
         "Close": 0.2801960110664367,
         "macd_signal": 0,
         "aroon_signal": 0,
         "rsi_signal": 0,
         "ao_signal": 0,
         "Returns": 0.011709565080214368,
         "_deepnote_index_column": "2019-11-09"
        },
        {
         "Close": 0.2802039980888366,
         "macd_signal": 0,
         "aroon_signal": 0,
         "rsi_signal": 0,
         "ao_signal": 0,
         "Returns": 0.00002850512528529414,
         "_deepnote_index_column": "2019-11-10"
        },
        {
         "Close": 0.275085985660553,
         "macd_signal": 0,
         "aroon_signal": 0,
         "rsi_signal": 0,
         "ao_signal": -1,
         "Returns": -0.01826530835816631,
         "_deepnote_index_column": "2019-11-11"
        },
        {
         "Close": 0.2724179923534393,
         "macd_signal": 0,
         "aroon_signal": 0,
         "rsi_signal": 0,
         "ao_signal": 0,
         "Returns": -0.009698761282611934,
         "_deepnote_index_column": "2019-11-12"
        },
        {
         "Close": 0.2730360031127929,
         "macd_signal": 0,
         "aroon_signal": 0,
         "rsi_signal": 0,
         "ao_signal": 0,
         "Returns": 0.002268612120714275,
         "_deepnote_index_column": "2019-11-13"
        },
        {
         "Close": 0.2703909873962402,
         "macd_signal": 0,
         "aroon_signal": 0,
         "rsi_signal": 0,
         "ao_signal": 0,
         "Returns": -0.009687424685381418,
         "_deepnote_index_column": "2019-11-14"
        },
        {
         "Close": 0.2616539895534515,
         "macd_signal": 0,
         "aroon_signal": 0,
         "rsi_signal": 0,
         "ao_signal": 0,
         "Returns": -0.0323124595494938,
         "_deepnote_index_column": "2019-11-15"
        },
        {
         "Close": 0.2638860046863556,
         "macd_signal": 0,
         "aroon_signal": 0,
         "rsi_signal": 0,
         "ao_signal": 0,
         "Returns": 0.00853040741596689,
         "_deepnote_index_column": "2019-11-16"
        },
        {
         "Close": 0.2652530074119568,
         "macd_signal": 0,
         "aroon_signal": 0,
         "rsi_signal": 0,
         "ao_signal": 0,
         "Returns": 0.005180277473320283,
         "_deepnote_index_column": "2019-11-17"
        },
        {
         "Close": 0.2556529939174652,
         "macd_signal": 0,
         "aroon_signal": 0,
         "rsi_signal": 0,
         "ao_signal": 0,
         "Returns": -0.03619191197173521,
         "_deepnote_index_column": "2019-11-18"
        },
        {
         "Close": 0.2565000057220459,
         "macd_signal": 0,
         "aroon_signal": 0,
         "rsi_signal": 0,
         "ao_signal": 0,
         "Returns": 0.0033131307856075765,
         "_deepnote_index_column": "2019-11-19"
        },
        {
         "Close": 0.25136399269104,
         "macd_signal": 0,
         "aroon_signal": 0,
         "rsi_signal": 0,
         "ao_signal": 0,
         "Returns": -0.02002344216932106,
         "_deepnote_index_column": "2019-11-20"
        },
        {
         "Close": 0.2437659949064254,
         "macd_signal": 0,
         "aroon_signal": 0,
         "rsi_signal": -1,
         "ao_signal": 0,
         "Returns": -0.030227073111277147,
         "_deepnote_index_column": "2019-11-21"
        },
        {
         "Close": 0.2316000014543533,
         "macd_signal": 0,
         "aroon_signal": 0,
         "rsi_signal": 0,
         "ao_signal": 0,
         "Returns": -0.04990849300675537,
         "_deepnote_index_column": "2019-11-22"
        }
       ],
       "rows_bottom": [
        {
         "Close": 1.0069760084152222,
         "macd_signal": 0,
         "aroon_signal": 0,
         "rsi_signal": 0,
         "ao_signal": 0,
         "Returns": -0.15061611331517677,
         "_deepnote_index_column": "2021-05-21"
        },
        {
         "Close": 0.9063169956207277,
         "macd_signal": 0,
         "aroon_signal": 0,
         "rsi_signal": 0,
         "ao_signal": 0,
         "Returns": -0.09996167927864696,
         "_deepnote_index_column": "2021-05-22"
        },
        {
         "Close": 0.7970150113105774,
         "macd_signal": 0,
         "aroon_signal": 0,
         "rsi_signal": 0,
         "ao_signal": 0,
         "Returns": -0.12060017062274153,
         "_deepnote_index_column": "2021-05-23"
        },
        {
         "Close": 0.9928349852561952,
         "macd_signal": 0,
         "aroon_signal": 0,
         "rsi_signal": 0,
         "ao_signal": 0,
         "Returns": 0.24569170111817562,
         "_deepnote_index_column": "2021-05-24"
        },
        {
         "Close": 0.976186990737915,
         "macd_signal": 0,
         "aroon_signal": 0,
         "rsi_signal": 0,
         "ao_signal": 0,
         "Returns": -0.01676813847769898,
         "_deepnote_index_column": "2021-05-25"
        },
        {
         "Close": 1.033725023269653,
         "macd_signal": 0,
         "aroon_signal": 0,
         "rsi_signal": 0,
         "ao_signal": 0,
         "Returns": 0.05894160962772532,
         "_deepnote_index_column": "2021-05-26"
        },
        {
         "Close": 0.970234990119934,
         "macd_signal": 0,
         "aroon_signal": 0,
         "rsi_signal": 0,
         "ao_signal": 0,
         "Returns": -0.061418686517717536,
         "_deepnote_index_column": "2021-05-27"
        },
        {
         "Close": 0.9001479744911194,
         "macd_signal": 0,
         "aroon_signal": 0,
         "rsi_signal": 0,
         "ao_signal": 0,
         "Returns": -0.07223715526910746,
         "_deepnote_index_column": "2021-05-28"
        },
        {
         "Close": 0.8317880034446716,
         "macd_signal": 0,
         "aroon_signal": 0,
         "rsi_signal": 0,
         "ao_signal": 0,
         "Returns": -0.0759430371268609,
         "_deepnote_index_column": "2021-05-29"
        },
        {
         "Close": 0.9066089987754822,
         "macd_signal": 0,
         "aroon_signal": 0,
         "rsi_signal": 0,
         "ao_signal": 0,
         "Returns": 0.08995200101583034,
         "_deepnote_index_column": "2021-05-30"
        },
        {
         "Close": 1.0465840101242063,
         "macd_signal": 0,
         "aroon_signal": 0,
         "rsi_signal": 0,
         "ao_signal": 0,
         "Returns": 0.15439402381598066,
         "_deepnote_index_column": "2021-05-31"
        },
        {
         "Close": 1.0110009908676147,
         "macd_signal": 0,
         "aroon_signal": 0,
         "rsi_signal": 0,
         "ao_signal": 0,
         "Returns": -0.03399920017158364,
         "_deepnote_index_column": "2021-06-01"
        },
        {
         "Close": 1.024399995803833,
         "macd_signal": 1,
         "aroon_signal": 0,
         "rsi_signal": 0,
         "ao_signal": 0,
         "Returns": 0.013253206532191086,
         "_deepnote_index_column": "2021-06-02"
        },
        {
         "Close": 1.045320987701416,
         "macd_signal": 0,
         "aroon_signal": 0,
         "rsi_signal": 0,
         "ao_signal": 0,
         "Returns": 0.020422678624834045,
         "_deepnote_index_column": "2021-06-03"
        },
        {
         "Close": 0.970196008682251,
         "macd_signal": 0,
         "aroon_signal": 0,
         "rsi_signal": 0,
         "ao_signal": 0,
         "Returns": -0.0718678567665223,
         "_deepnote_index_column": "2021-06-04"
        },
        {
         "Close": 0.9232860207557678,
         "macd_signal": 0,
         "aroon_signal": 0,
         "rsi_signal": 0,
         "ao_signal": 0,
         "Returns": -0.04835104196130191,
         "_deepnote_index_column": "2021-06-05"
        },
        {
         "Close": 0.945285975933075,
         "macd_signal": 0,
         "aroon_signal": 0,
         "rsi_signal": 0,
         "ao_signal": 0,
         "Returns": 0.023827887223180078,
         "_deepnote_index_column": "2021-06-06"
        },
        {
         "Close": 0.8611549735069275,
         "macd_signal": 0,
         "aroon_signal": 0,
         "rsi_signal": 0,
         "ao_signal": 0,
         "Returns": -0.08900058243549336,
         "_deepnote_index_column": "2021-06-07"
        },
        {
         "Close": 0.8757879734039307,
         "macd_signal": 0,
         "aroon_signal": 0,
         "rsi_signal": 0,
         "ao_signal": 0,
         "Returns": 0.01699229563456206,
         "_deepnote_index_column": "2021-06-08"
        },
        {
         "Close": 0.9200339913368224,
         "macd_signal": 0,
         "aroon_signal": 0,
         "rsi_signal": 0,
         "ao_signal": 0,
         "Returns": 0.05052138106089821,
         "_deepnote_index_column": "2021-06-09"
        },
        {
         "Close": 0.8691819906234741,
         "macd_signal": 0,
         "aroon_signal": 0,
         "rsi_signal": 0,
         "ao_signal": 0,
         "Returns": -0.055271871683196805,
         "_deepnote_index_column": "2021-06-10"
        },
        {
         "Close": 0.8484500050544739,
         "macd_signal": 0,
         "aroon_signal": 0,
         "rsi_signal": 0,
         "ao_signal": 0,
         "Returns": -0.023852295368118392,
         "_deepnote_index_column": "2021-06-11"
        },
        {
         "Close": 0.8326830267906189,
         "macd_signal": 0,
         "aroon_signal": 0,
         "rsi_signal": 0,
         "ao_signal": 0,
         "Returns": -0.01858327322756359,
         "_deepnote_index_column": "2021-06-12"
        },
        {
         "Close": 0.8831599950790405,
         "macd_signal": 0,
         "aroon_signal": 0,
         "rsi_signal": 0,
         "ao_signal": 0,
         "Returns": 0.06061966758584392,
         "_deepnote_index_column": "2021-06-13"
        },
        {
         "Close": 0.8928970098495483,
         "macd_signal": 0,
         "aroon_signal": 0,
         "rsi_signal": 0,
         "ao_signal": 0,
         "Returns": 0.011025199085966664,
         "_deepnote_index_column": "2021-06-14"
        },
        {
         "Close": 0.8898000121116638,
         "macd_signal": 0,
         "aroon_signal": 0,
         "rsi_signal": 0,
         "ao_signal": 0,
         "Returns": -0.003468482595105127,
         "_deepnote_index_column": "2021-06-15"
        },
        {
         "Close": 0.8319079875946045,
         "macd_signal": 0,
         "aroon_signal": 0,
         "rsi_signal": 0,
         "ao_signal": 0,
         "Returns": -0.06506183831091505,
         "_deepnote_index_column": "2021-06-16"
        },
        {
         "Close": 0.8414379954338074,
         "macd_signal": 0,
         "aroon_signal": 0,
         "rsi_signal": 0,
         "ao_signal": 0,
         "Returns": 0.011455603241361079,
         "_deepnote_index_column": "2021-06-17"
        },
        {
         "Close": 0.797648012638092,
         "macd_signal": 0,
         "aroon_signal": 0,
         "rsi_signal": 0,
         "ao_signal": 0,
         "Returns": -0.052041841506264785,
         "_deepnote_index_column": "2021-06-18"
        },
        {
         "Close": 0.7616729736328125,
         "macd_signal": 0,
         "aroon_signal": 0,
         "rsi_signal": 0,
         "ao_signal": 0,
         "Returns": -0.04510139614878239,
         "_deepnote_index_column": "2021-06-19"
        },
        {
         "Close": 0.7763770222663879,
         "macd_signal": 0,
         "aroon_signal": 0,
         "rsi_signal": 0,
         "ao_signal": 0,
         "Returns": 0.019304936820121466,
         "_deepnote_index_column": "2021-06-20"
        },
        {
         "Close": 0.6103879809379578,
         "macd_signal": -1,
         "aroon_signal": 0,
         "rsi_signal": 0,
         "ao_signal": 0,
         "Returns": -0.21379952853818052,
         "_deepnote_index_column": "2021-06-21"
        },
        {
         "Close": 0.5450670123100281,
         "macd_signal": 0,
         "aroon_signal": 0,
         "rsi_signal": -1,
         "ao_signal": 0,
         "Returns": -0.10701548960311058,
         "_deepnote_index_column": "2021-06-22"
        },
        {
         "Close": 0.6265349984169006,
         "macd_signal": 0,
         "aroon_signal": 0,
         "rsi_signal": 0,
         "ao_signal": 0,
         "Returns": 0.14946416544565078,
         "_deepnote_index_column": "2021-06-23"
        },
        {
         "Close": 0.671999990940094,
         "macd_signal": 0,
         "aroon_signal": 0,
         "rsi_signal": 0,
         "ao_signal": 0,
         "Returns": 0.07256576669790538,
         "_deepnote_index_column": "2021-06-24"
        },
        {
         "Close": 0.6133229732513428,
         "macd_signal": 0,
         "aroon_signal": 0,
         "rsi_signal": 0,
         "ao_signal": 0,
         "Returns": -0.0873169917854687,
         "_deepnote_index_column": "2021-06-25"
        },
        {
         "Close": 0.615435004234314,
         "macd_signal": 0,
         "aroon_signal": 0,
         "rsi_signal": 0,
         "ao_signal": 0,
         "Returns": 0.003443586943718824,
         "_deepnote_index_column": "2021-06-26"
        },
        {
         "Close": 0.6469230055809021,
         "macd_signal": 0,
         "aroon_signal": 0,
         "rsi_signal": 0,
         "ao_signal": 0,
         "Returns": 0.05116381279898685,
         "_deepnote_index_column": "2021-06-27"
        },
        {
         "Close": 0.643746018409729,
         "macd_signal": 0,
         "aroon_signal": 0,
         "rsi_signal": 0,
         "ao_signal": 0,
         "Returns": -0.004910920068950553,
         "_deepnote_index_column": "2021-06-28"
        },
        {
         "Close": 0.7017250061035156,
         "macd_signal": 1,
         "aroon_signal": 0,
         "rsi_signal": 0,
         "ao_signal": 0,
         "Returns": 0.09006500395453232,
         "_deepnote_index_column": "2021-06-29"
        },
        {
         "Close": 0.7063739895820618,
         "macd_signal": 0,
         "aroon_signal": 0,
         "rsi_signal": 0,
         "ao_signal": 0,
         "Returns": 0.006625078824482378,
         "_deepnote_index_column": "2021-06-30"
        },
        {
         "Close": 0.6611800193786621,
         "macd_signal": 0,
         "aroon_signal": 0,
         "rsi_signal": 0,
         "ao_signal": 0,
         "Returns": -0.06398022983567031,
         "_deepnote_index_column": "2021-07-01"
        },
        {
         "Close": 0.6567630171775818,
         "macd_signal": 0,
         "aroon_signal": 0,
         "rsi_signal": 0,
         "ao_signal": 0,
         "Returns": -0.00668048348652639,
         "_deepnote_index_column": "2021-07-02"
        },
        {
         "Close": 0.6728879809379578,
         "macd_signal": 0,
         "aroon_signal": 0,
         "rsi_signal": 0,
         "ao_signal": 0,
         "Returns": 0.024552179916695893,
         "_deepnote_index_column": "2021-07-03"
        },
        {
         "Close": 0.6949449777603149,
         "macd_signal": 0,
         "aroon_signal": 0,
         "rsi_signal": 0,
         "ao_signal": 0,
         "Returns": 0.03277959697186339,
         "_deepnote_index_column": "2021-07-04"
        },
        {
         "Close": 0.6542999744415283,
         "macd_signal": 0,
         "aroon_signal": 0,
         "rsi_signal": 0,
         "ao_signal": 0,
         "Returns": -0.058486649475154584,
         "_deepnote_index_column": "2021-07-05"
        },
        {
         "Close": 0.6654019951820374,
         "macd_signal": 0,
         "aroon_signal": 0,
         "rsi_signal": 0,
         "ao_signal": 0,
         "Returns": 0.016967784157388976,
         "_deepnote_index_column": "2021-07-06"
        },
        {
         "Close": 0.6515750288963318,
         "macd_signal": 0,
         "aroon_signal": 0,
         "rsi_signal": 0,
         "ao_signal": 0,
         "Returns": -0.020779868990207673,
         "_deepnote_index_column": "2021-07-07"
        },
        {
         "Close": 0.623058021068573,
         "macd_signal": 0,
         "aroon_signal": 0,
         "rsi_signal": 0,
         "ao_signal": 0,
         "Returns": -0.04376626875351908,
         "_deepnote_index_column": "2021-07-08"
        },
        {
         "Close": 0.6368039846420288,
         "macd_signal": 0,
         "aroon_signal": 0,
         "rsi_signal": 0,
         "ao_signal": 0,
         "Returns": 0.022062092307038927,
         "_deepnote_index_column": "2021-07-09"
        },
        {
         "Close": 0.6254630088806152,
         "macd_signal": 0,
         "aroon_signal": 0,
         "rsi_signal": 0,
         "ao_signal": 0,
         "Returns": -0.017809209795991987,
         "_deepnote_index_column": "2021-07-10"
        },
        {
         "Close": 0.6359350085258484,
         "macd_signal": 0,
         "aroon_signal": 0,
         "rsi_signal": 0,
         "ao_signal": 0,
         "Returns": 0.01674279613110108,
         "_deepnote_index_column": "2021-07-11"
        },
        {
         "Close": 0.6301779747009277,
         "macd_signal": 0,
         "aroon_signal": 0,
         "rsi_signal": 0,
         "ao_signal": 0,
         "Returns": -0.009052865069130167,
         "_deepnote_index_column": "2021-07-12"
        },
        {
         "Close": 0.6195229887962341,
         "macd_signal": 0,
         "aroon_signal": 0,
         "rsi_signal": 0,
         "ao_signal": 0,
         "Returns": -0.016907899565595352,
         "_deepnote_index_column": "2021-07-13"
        },
        {
         "Close": 0.6203240156173706,
         "macd_signal": 0,
         "aroon_signal": 0,
         "rsi_signal": 0,
         "ao_signal": 0,
         "Returns": 0.0012929735225692962,
         "_deepnote_index_column": "2021-07-14"
        },
        {
         "Close": 0.5969409942626953,
         "macd_signal": 0,
         "aroon_signal": 0,
         "rsi_signal": 0,
         "ao_signal": 0,
         "Returns": -0.03769485102298287,
         "_deepnote_index_column": "2021-07-15"
        },
        {
         "Close": 0.5907739996910095,
         "macd_signal": 0,
         "aroon_signal": 0,
         "rsi_signal": 0,
         "ao_signal": 0,
         "Returns": -0.010330995242340268,
         "_deepnote_index_column": "2021-07-16"
        },
        {
         "Close": 0.582427978515625,
         "macd_signal": 0,
         "aroon_signal": 0,
         "rsi_signal": 0,
         "ao_signal": 0,
         "Returns": -0.014127265552901336,
         "_deepnote_index_column": "2021-07-17"
        },
        {
         "Close": 0.5879219770431519,
         "macd_signal": 0,
         "aroon_signal": 0,
         "rsi_signal": 0,
         "ao_signal": 0,
         "Returns": 0.009432923434634422,
         "_deepnote_index_column": "2021-07-18"
        },
        {
         "Close": 0.5575559735298157,
         "macd_signal": 0,
         "aroon_signal": 0,
         "rsi_signal": 0,
         "ao_signal": 0,
         "Returns": -0.051649716627462317,
         "_deepnote_index_column": "2021-07-19"
        },
        {
         "Close": 0.5293359756469727,
         "macd_signal": -1,
         "aroon_signal": 0,
         "rsi_signal": 0,
         "ao_signal": 0,
         "Returns": -0.050613748614665166,
         "_deepnote_index_column": "2021-07-20"
        },
        {
         "Close": 0.569998025894165,
         "macd_signal": 1,
         "aroon_signal": 0,
         "rsi_signal": 0,
         "ao_signal": 0,
         "Returns": 0.07681709182432539,
         "_deepnote_index_column": "2021-07-21"
        },
        {
         "Close": 0.5922060012817383,
         "macd_signal": 0,
         "aroon_signal": 0,
         "rsi_signal": 0,
         "ao_signal": 0,
         "Returns": 0.03896149526611992,
         "_deepnote_index_column": "2021-07-22"
        },
        {
         "Close": 0.6092240214347839,
         "macd_signal": 0,
         "aroon_signal": 0,
         "rsi_signal": 0,
         "ao_signal": 0,
         "Returns": 0.02873665602208142,
         "_deepnote_index_column": "2021-07-23"
        },
        {
         "Close": 0.6098269820213318,
         "macd_signal": 0,
         "aroon_signal": 0,
         "rsi_signal": 0,
         "ao_signal": 0,
         "Returns": 0.0009897189955310193,
         "_deepnote_index_column": "2021-07-24"
        },
        {
         "Close": 0.6063569784164429,
         "macd_signal": 0,
         "aroon_signal": 0,
         "rsi_signal": 0,
         "ao_signal": 0,
         "Returns": -0.005690144429797539,
         "_deepnote_index_column": "2021-07-25"
        },
        {
         "Close": 0.6256179809570312,
         "macd_signal": 0,
         "aroon_signal": 0,
         "rsi_signal": 0,
         "ao_signal": 0,
         "Returns": 0.03176512059099279,
         "_deepnote_index_column": "2021-07-26"
        },
        {
         "Close": 0.6446040272712708,
         "macd_signal": 0,
         "aroon_signal": 0,
         "rsi_signal": 0,
         "ao_signal": 0,
         "Returns": 0.03034766725405791,
         "_deepnote_index_column": "2021-07-27"
        },
        {
         "Close": 0.7254449725151062,
         "macd_signal": 0,
         "aroon_signal": 0,
         "rsi_signal": 0,
         "ao_signal": 1,
         "Returns": 0.12541179053139073,
         "_deepnote_index_column": "2021-07-28"
        },
        {
         "Close": 0.7480170130729675,
         "macd_signal": 0,
         "aroon_signal": 0,
         "rsi_signal": 0,
         "ao_signal": 0,
         "Returns": 0.031114752204573826,
         "_deepnote_index_column": "2021-07-29"
        },
        {
         "Close": 0.7521190047264099,
         "macd_signal": 0,
         "aroon_signal": 0,
         "rsi_signal": 0,
         "ao_signal": 0,
         "Returns": 0.005483821332606942,
         "_deepnote_index_column": "2021-07-30"
        },
        {
         "Close": 0.7477859854698181,
         "macd_signal": 0,
         "aroon_signal": 0,
         "rsi_signal": 0,
         "ao_signal": 0,
         "Returns": -0.005761081995485529,
         "_deepnote_index_column": "2021-07-31"
        },
        {
         "Close": 0.7259219884872437,
         "macd_signal": 0,
         "aroon_signal": 0,
         "rsi_signal": 0,
         "ao_signal": 0,
         "Returns": -0.02923830802851668,
         "_deepnote_index_column": "2021-08-01"
        },
        {
         "Close": 0.7392200231552124,
         "macd_signal": 0,
         "aroon_signal": 0,
         "rsi_signal": 0,
         "ao_signal": 0,
         "Returns": 0.01831882058798162,
         "_deepnote_index_column": "2021-08-02"
        },
        {
         "Close": 0.7127289772033691,
         "macd_signal": 0,
         "aroon_signal": 0,
         "rsi_signal": 0,
         "ao_signal": 0,
         "Returns": -0.03583648321479649,
         "_deepnote_index_column": "2021-08-03"
        },
        {
         "Close": 0.7304880023002625,
         "macd_signal": 0,
         "aroon_signal": 0,
         "rsi_signal": 0,
         "ao_signal": 0,
         "Returns": 0.024916939909721103,
         "_deepnote_index_column": "2021-08-04"
        },
        {
         "Close": 0.7331510186195374,
         "macd_signal": 0,
         "aroon_signal": 0,
         "rsi_signal": 0,
         "ao_signal": 0,
         "Returns": 0.0036455305369686997,
         "_deepnote_index_column": "2021-08-05"
        },
        {
         "Close": 0.7465130090713501,
         "macd_signal": 0,
         "aroon_signal": 0,
         "rsi_signal": 0,
         "ao_signal": 0,
         "Returns": 0.01822542711182784,
         "_deepnote_index_column": "2021-08-06"
        },
        {
         "Close": 0.8162810206413269,
         "macd_signal": 0,
         "aroon_signal": 1,
         "rsi_signal": 1,
         "ao_signal": 0,
         "Returns": 0.09345853417446404,
         "_deepnote_index_column": "2021-08-07"
        },
        {
         "Close": 0.7787389755249023,
         "macd_signal": 0,
         "aroon_signal": 0,
         "rsi_signal": 0,
         "ao_signal": 0,
         "Returns": -0.045991569284471345,
         "_deepnote_index_column": "2021-08-08"
        },
        {
         "Close": 0.8185529708862305,
         "macd_signal": 0,
         "aroon_signal": 0,
         "rsi_signal": 0,
         "ao_signal": 0,
         "Returns": 0.05112623948800277,
         "_deepnote_index_column": "2021-08-09"
        },
        {
         "Close": 0.8512470126152039,
         "macd_signal": 0,
         "aroon_signal": 0,
         "rsi_signal": 0,
         "ao_signal": 0,
         "Returns": 0.039941265735772946,
         "_deepnote_index_column": "2021-08-10"
        },
        {
         "Close": 1.0125240087509155,
         "macd_signal": 0,
         "aroon_signal": 0,
         "rsi_signal": 0,
         "ao_signal": 0,
         "Returns": 0.18945969118908979,
         "_deepnote_index_column": "2021-08-11"
        }
       ]
      },
      "text/plain": "               Close  macd_signal  aroon_signal  rsi_signal  ao_signal  \\\nDate                                                                     \n2019-09-01  0.258054            0             0           0        0.0   \n2019-09-02  0.260820            1             0           1        0.0   \n2019-09-03  0.263139            0             0           0        0.0   \n2019-09-04  0.259905            0             0           0        0.0   \n2019-09-05  0.256346            0             0           0        0.0   \n...              ...          ...           ...         ...        ...   \n2021-08-07  0.816281            0             1           1        0.0   \n2021-08-08  0.778739            0             0           0        0.0   \n2021-08-09  0.818553            0             0           0        0.0   \n2021-08-10  0.851247            0             0           0        0.0   \n2021-08-11  1.012524            0             0           0        0.0   \n\n             Returns  \nDate                  \n2019-09-01       NaN  \n2019-09-02  0.010719  \n2019-09-03  0.008891  \n2019-09-04 -0.012290  \n2019-09-05 -0.013694  \n...              ...  \n2021-08-07  0.093459  \n2021-08-08 -0.045992  \n2021-08-09  0.051126  \n2021-08-10  0.039941  \n2021-08-11  0.189460  \n\n[707 rows x 6 columns]",
      "text/html": "<div>\n<style scoped>\n    .dataframe tbody tr th:only-of-type {\n        vertical-align: middle;\n    }\n\n    .dataframe tbody tr th {\n        vertical-align: top;\n    }\n\n    .dataframe thead th {\n        text-align: right;\n    }\n</style>\n<table border=\"1\" class=\"dataframe\">\n  <thead>\n    <tr style=\"text-align: right;\">\n      <th></th>\n      <th>Close</th>\n      <th>macd_signal</th>\n      <th>aroon_signal</th>\n      <th>rsi_signal</th>\n      <th>ao_signal</th>\n      <th>Returns</th>\n    </tr>\n    <tr>\n      <th>Date</th>\n      <th></th>\n      <th></th>\n      <th></th>\n      <th></th>\n      <th></th>\n      <th></th>\n    </tr>\n  </thead>\n  <tbody>\n    <tr>\n      <th>2019-09-01</th>\n      <td>0.258054</td>\n      <td>0</td>\n      <td>0</td>\n      <td>0</td>\n      <td>0.0</td>\n      <td>NaN</td>\n    </tr>\n    <tr>\n      <th>2019-09-02</th>\n      <td>0.260820</td>\n      <td>1</td>\n      <td>0</td>\n      <td>1</td>\n      <td>0.0</td>\n      <td>0.010719</td>\n    </tr>\n    <tr>\n      <th>2019-09-03</th>\n      <td>0.263139</td>\n      <td>0</td>\n      <td>0</td>\n      <td>0</td>\n      <td>0.0</td>\n      <td>0.008891</td>\n    </tr>\n    <tr>\n      <th>2019-09-04</th>\n      <td>0.259905</td>\n      <td>0</td>\n      <td>0</td>\n      <td>0</td>\n      <td>0.0</td>\n      <td>-0.012290</td>\n    </tr>\n    <tr>\n      <th>2019-09-05</th>\n      <td>0.256346</td>\n      <td>0</td>\n      <td>0</td>\n      <td>0</td>\n      <td>0.0</td>\n      <td>-0.013694</td>\n    </tr>\n    <tr>\n      <th>...</th>\n      <td>...</td>\n      <td>...</td>\n      <td>...</td>\n      <td>...</td>\n      <td>...</td>\n      <td>...</td>\n    </tr>\n    <tr>\n      <th>2021-08-07</th>\n      <td>0.816281</td>\n      <td>0</td>\n      <td>1</td>\n      <td>1</td>\n      <td>0.0</td>\n      <td>0.093459</td>\n    </tr>\n    <tr>\n      <th>2021-08-08</th>\n      <td>0.778739</td>\n      <td>0</td>\n      <td>0</td>\n      <td>0</td>\n      <td>0.0</td>\n      <td>-0.045992</td>\n    </tr>\n    <tr>\n      <th>2021-08-09</th>\n      <td>0.818553</td>\n      <td>0</td>\n      <td>0</td>\n      <td>0</td>\n      <td>0.0</td>\n      <td>0.051126</td>\n    </tr>\n    <tr>\n      <th>2021-08-10</th>\n      <td>0.851247</td>\n      <td>0</td>\n      <td>0</td>\n      <td>0</td>\n      <td>0.0</td>\n      <td>0.039941</td>\n    </tr>\n    <tr>\n      <th>2021-08-11</th>\n      <td>1.012524</td>\n      <td>0</td>\n      <td>0</td>\n      <td>0</td>\n      <td>0.0</td>\n      <td>0.189460</td>\n    </tr>\n  </tbody>\n</table>\n<p>707 rows × 6 columns</p>\n</div>"
     },
     "metadata": {}
    }
   ],
   "execution_count": null
  },
  {
   "cell_type": "code",
   "metadata": {
    "tags": [],
    "deepnote_to_be_reexecuted": false,
    "source_hash": "8fa2ff2b",
    "execution_start": 1629253377699,
    "execution_millis": 0,
    "cell_id": "00006-05256728-8fb1-4382-a2a9-be4aec2e6e69",
    "deepnote_cell_type": "code"
   },
   "source": "# Construct the dependent variable where if daily return is greater than 0, then 1, else, 0.\ncombined_signals_df['Binary Return'] = np.where(combined_signals_df['Returns'] > 0.0, 1.0, 0.0)",
   "outputs": [],
   "execution_count": null
  },
  {
   "cell_type": "code",
   "metadata": {
    "tags": [],
    "deepnote_to_be_reexecuted": false,
    "source_hash": "55e98081",
    "execution_start": 1629253377700,
    "execution_millis": 6,
    "cell_id": "00007-d00fbb6f-c801-4b74-b3fa-b9d2a181407a",
    "deepnote_cell_type": "code"
   },
   "source": "# Shift DataFrame values by 1\ncombined_signals_df[['aroon_signal','macd_signal','rsi_signal']] = combined_signals_df[['aroon_signal','macd_signal','rsi_signal']].shift(1)\ncombined_signals_df[['aroon_signal','macd_signal','rsi_signal']].tail()",
   "outputs": [
    {
     "output_type": "execute_result",
     "execution_count": 8,
     "data": {
      "application/vnd.deepnote.dataframe.v2+json": {
       "row_count": 5,
       "column_count": 3,
       "columns": [
        {
         "name": "aroon_signal",
         "dtype": "float64",
         "stats": {
          "unique_count": 2,
          "nan_count": 0,
          "min": "0.0",
          "max": "1.0",
          "histogram": [
           {
            "bin_start": 0,
            "bin_end": 0.1,
            "count": 4
           },
           {
            "bin_start": 0.1,
            "bin_end": 0.2,
            "count": 0
           },
           {
            "bin_start": 0.2,
            "bin_end": 0.30000000000000004,
            "count": 0
           },
           {
            "bin_start": 0.30000000000000004,
            "bin_end": 0.4,
            "count": 0
           },
           {
            "bin_start": 0.4,
            "bin_end": 0.5,
            "count": 0
           },
           {
            "bin_start": 0.5,
            "bin_end": 0.6000000000000001,
            "count": 0
           },
           {
            "bin_start": 0.6000000000000001,
            "bin_end": 0.7000000000000001,
            "count": 0
           },
           {
            "bin_start": 0.7000000000000001,
            "bin_end": 0.8,
            "count": 0
           },
           {
            "bin_start": 0.8,
            "bin_end": 0.9,
            "count": 0
           },
           {
            "bin_start": 0.9,
            "bin_end": 1,
            "count": 1
           }
          ]
         }
        },
        {
         "name": "macd_signal",
         "dtype": "float64",
         "stats": {
          "unique_count": 1,
          "nan_count": 0,
          "min": "0.0",
          "max": "0.0",
          "histogram": [
           {
            "bin_start": -0.5,
            "bin_end": -0.4,
            "count": 0
           },
           {
            "bin_start": -0.4,
            "bin_end": -0.3,
            "count": 0
           },
           {
            "bin_start": -0.3,
            "bin_end": -0.19999999999999996,
            "count": 0
           },
           {
            "bin_start": -0.19999999999999996,
            "bin_end": -0.09999999999999998,
            "count": 0
           },
           {
            "bin_start": -0.09999999999999998,
            "bin_end": 0,
            "count": 0
           },
           {
            "bin_start": 0,
            "bin_end": 0.10000000000000009,
            "count": 5
           },
           {
            "bin_start": 0.10000000000000009,
            "bin_end": 0.20000000000000007,
            "count": 0
           },
           {
            "bin_start": 0.20000000000000007,
            "bin_end": 0.30000000000000004,
            "count": 0
           },
           {
            "bin_start": 0.30000000000000004,
            "bin_end": 0.4,
            "count": 0
           },
           {
            "bin_start": 0.4,
            "bin_end": 0.5,
            "count": 0
           }
          ]
         }
        },
        {
         "name": "rsi_signal",
         "dtype": "float64",
         "stats": {
          "unique_count": 2,
          "nan_count": 0,
          "min": "0.0",
          "max": "1.0",
          "histogram": [
           {
            "bin_start": 0,
            "bin_end": 0.1,
            "count": 4
           },
           {
            "bin_start": 0.1,
            "bin_end": 0.2,
            "count": 0
           },
           {
            "bin_start": 0.2,
            "bin_end": 0.30000000000000004,
            "count": 0
           },
           {
            "bin_start": 0.30000000000000004,
            "bin_end": 0.4,
            "count": 0
           },
           {
            "bin_start": 0.4,
            "bin_end": 0.5,
            "count": 0
           },
           {
            "bin_start": 0.5,
            "bin_end": 0.6000000000000001,
            "count": 0
           },
           {
            "bin_start": 0.6000000000000001,
            "bin_end": 0.7000000000000001,
            "count": 0
           },
           {
            "bin_start": 0.7000000000000001,
            "bin_end": 0.8,
            "count": 0
           },
           {
            "bin_start": 0.8,
            "bin_end": 0.9,
            "count": 0
           },
           {
            "bin_start": 0.9,
            "bin_end": 1,
            "count": 1
           }
          ]
         }
        },
        {
         "name": "_deepnote_index_column",
         "dtype": "object"
        }
       ],
       "rows_top": [
        {
         "aroon_signal": 0,
         "macd_signal": 0,
         "rsi_signal": 0,
         "_deepnote_index_column": "2021-08-07"
        },
        {
         "aroon_signal": 1,
         "macd_signal": 0,
         "rsi_signal": 1,
         "_deepnote_index_column": "2021-08-08"
        },
        {
         "aroon_signal": 0,
         "macd_signal": 0,
         "rsi_signal": 0,
         "_deepnote_index_column": "2021-08-09"
        },
        {
         "aroon_signal": 0,
         "macd_signal": 0,
         "rsi_signal": 0,
         "_deepnote_index_column": "2021-08-10"
        },
        {
         "aroon_signal": 0,
         "macd_signal": 0,
         "rsi_signal": 0,
         "_deepnote_index_column": "2021-08-11"
        }
       ],
       "rows_bottom": null
      },
      "text/plain": "            aroon_signal  macd_signal  rsi_signal\nDate                                             \n2021-08-07           0.0          0.0         0.0\n2021-08-08           1.0          0.0         1.0\n2021-08-09           0.0          0.0         0.0\n2021-08-10           0.0          0.0         0.0\n2021-08-11           0.0          0.0         0.0",
      "text/html": "<div>\n<style scoped>\n    .dataframe tbody tr th:only-of-type {\n        vertical-align: middle;\n    }\n\n    .dataframe tbody tr th {\n        vertical-align: top;\n    }\n\n    .dataframe thead th {\n        text-align: right;\n    }\n</style>\n<table border=\"1\" class=\"dataframe\">\n  <thead>\n    <tr style=\"text-align: right;\">\n      <th></th>\n      <th>aroon_signal</th>\n      <th>macd_signal</th>\n      <th>rsi_signal</th>\n    </tr>\n    <tr>\n      <th>Date</th>\n      <th></th>\n      <th></th>\n      <th></th>\n    </tr>\n  </thead>\n  <tbody>\n    <tr>\n      <th>2021-08-07</th>\n      <td>0.0</td>\n      <td>0.0</td>\n      <td>0.0</td>\n    </tr>\n    <tr>\n      <th>2021-08-08</th>\n      <td>1.0</td>\n      <td>0.0</td>\n      <td>1.0</td>\n    </tr>\n    <tr>\n      <th>2021-08-09</th>\n      <td>0.0</td>\n      <td>0.0</td>\n      <td>0.0</td>\n    </tr>\n    <tr>\n      <th>2021-08-10</th>\n      <td>0.0</td>\n      <td>0.0</td>\n      <td>0.0</td>\n    </tr>\n    <tr>\n      <th>2021-08-11</th>\n      <td>0.0</td>\n      <td>0.0</td>\n      <td>0.0</td>\n    </tr>\n  </tbody>\n</table>\n</div>"
     },
     "metadata": {}
    }
   ],
   "execution_count": null
  },
  {
   "cell_type": "code",
   "metadata": {
    "tags": [],
    "deepnote_to_be_reexecuted": false,
    "source_hash": "a1b84412",
    "execution_start": 1629253377711,
    "execution_millis": 107,
    "cell_id": "00008-21c44a1a-6d9d-4dc3-960f-c98af42e28ae",
    "deepnote_cell_type": "code"
   },
   "source": "# Drop NAs and replace positive/negative infinity values\n# combined_signals_df.dropna(subset=combined_signals_df[['aroon_signal','macd_signal','rsi_signal']], inplace=True)\n# combined_signals_df.dropna(subset=combined_signals_df['Returns'], inplace=True)\n# combined_signals_df = combined_signals_df.replace([np.inf, -np.inf], np.nan)\n# combined_signals_df.head()\n\ncombined_signals_df[['aroon_signal', 'macd_signal', 'rsi_signal']].dropna( inplace = True)\ncombined_signals_df = combined_signals_df.replace([np.inf, -np.inf], np.nan)\ncombined_signals_df.dropna(inplace = True)\n# combined_signals_df[['aroon_signal', 'macd_signal', 'rsi_signal']].astype('int64')\ncombined_signals_df[['aroon_signal', 'macd_signal', 'rsi_signal', 'Binary Return']]=combined_signals_df[['aroon_signal', 'macd_signal', 'rsi_signal', 'Binary Return']].astype(int)\ncombined_signals_df.dropna(inplace = True)\ncombined_signals_df",
   "outputs": [
    {
     "name": "stderr",
     "text": "/shared-libs/python3.7/py-core/lib/python3.7/site-packages/ipykernel_launcher.py:7: SettingWithCopyWarning: \nA value is trying to be set on a copy of a slice from a DataFrame\n\nSee the caveats in the documentation: https://pandas.pydata.org/pandas-docs/stable/user_guide/indexing.html#returning-a-view-versus-a-copy\n  import sys\n",
     "output_type": "stream"
    },
    {
     "output_type": "execute_result",
     "execution_count": 9,
     "data": {
      "application/vnd.deepnote.dataframe.v2+json": {
       "row_count": 706,
       "column_count": 7,
       "columns": [
        {
         "name": "Close",
         "dtype": "float64",
         "stats": {
          "unique_count": 705,
          "nan_count": 0,
          "min": "0.1396349966526031",
          "max": "1.83923602104187",
          "histogram": [
           {
            "bin_start": 0.1396349966526031,
            "bin_end": 0.30959509909152977,
            "count": 467
           },
           {
            "bin_start": 0.30959509909152977,
            "bin_end": 0.47955520153045644,
            "count": 50
           },
           {
            "bin_start": 0.47955520153045644,
            "bin_end": 0.6495153039693831,
            "count": 85
           },
           {
            "bin_start": 0.6495153039693831,
            "bin_end": 0.8194754064083098,
            "count": 29
           },
           {
            "bin_start": 0.8194754064083098,
            "bin_end": 0.9894355088472364,
            "count": 23
           },
           {
            "bin_start": 0.9894355088472364,
            "bin_end": 1.1593956112861632,
            "count": 14
           },
           {
            "bin_start": 1.1593956112861632,
            "bin_end": 1.3293557137250898,
            "count": 6
           },
           {
            "bin_start": 1.3293557137250898,
            "bin_end": 1.4993158161640165,
            "count": 17
           },
           {
            "bin_start": 1.4993158161640165,
            "bin_end": 1.6692759186029433,
            "count": 12
           },
           {
            "bin_start": 1.6692759186029433,
            "bin_end": 1.83923602104187,
            "count": 3
           }
          ]
         }
        },
        {
         "name": "macd_signal",
         "dtype": "int64",
         "stats": {
          "unique_count": 3,
          "nan_count": 0,
          "min": "-1",
          "max": "1",
          "histogram": [
           {
            "bin_start": -1,
            "bin_end": -0.8,
            "count": 23
           },
           {
            "bin_start": -0.8,
            "bin_end": -0.6,
            "count": 0
           },
           {
            "bin_start": -0.6,
            "bin_end": -0.3999999999999999,
            "count": 0
           },
           {
            "bin_start": -0.3999999999999999,
            "bin_end": -0.19999999999999996,
            "count": 0
           },
           {
            "bin_start": -0.19999999999999996,
            "bin_end": 0,
            "count": 0
           },
           {
            "bin_start": 0,
            "bin_end": 0.20000000000000018,
            "count": 659
           },
           {
            "bin_start": 0.20000000000000018,
            "bin_end": 0.40000000000000013,
            "count": 0
           },
           {
            "bin_start": 0.40000000000000013,
            "bin_end": 0.6000000000000001,
            "count": 0
           },
           {
            "bin_start": 0.6000000000000001,
            "bin_end": 0.8,
            "count": 0
           },
           {
            "bin_start": 0.8,
            "bin_end": 1,
            "count": 24
           }
          ]
         }
        },
        {
         "name": "aroon_signal",
         "dtype": "int64",
         "stats": {
          "unique_count": 3,
          "nan_count": 0,
          "min": "-1",
          "max": "1",
          "histogram": [
           {
            "bin_start": -1,
            "bin_end": -0.8,
            "count": 7
           },
           {
            "bin_start": -0.8,
            "bin_end": -0.6,
            "count": 0
           },
           {
            "bin_start": -0.6,
            "bin_end": -0.3999999999999999,
            "count": 0
           },
           {
            "bin_start": -0.3999999999999999,
            "bin_end": -0.19999999999999996,
            "count": 0
           },
           {
            "bin_start": -0.19999999999999996,
            "bin_end": 0,
            "count": 0
           },
           {
            "bin_start": 0,
            "bin_end": 0.20000000000000018,
            "count": 691
           },
           {
            "bin_start": 0.20000000000000018,
            "bin_end": 0.40000000000000013,
            "count": 0
           },
           {
            "bin_start": 0.40000000000000013,
            "bin_end": 0.6000000000000001,
            "count": 0
           },
           {
            "bin_start": 0.6000000000000001,
            "bin_end": 0.8,
            "count": 0
           },
           {
            "bin_start": 0.8,
            "bin_end": 1,
            "count": 8
           }
          ]
         }
        },
        {
         "name": "rsi_signal",
         "dtype": "int64",
         "stats": {
          "unique_count": 3,
          "nan_count": 0,
          "min": "-1",
          "max": "1",
          "histogram": [
           {
            "bin_start": -1,
            "bin_end": -0.8,
            "count": 4
           },
           {
            "bin_start": -0.8,
            "bin_end": -0.6,
            "count": 0
           },
           {
            "bin_start": -0.6,
            "bin_end": -0.3999999999999999,
            "count": 0
           },
           {
            "bin_start": -0.3999999999999999,
            "bin_end": -0.19999999999999996,
            "count": 0
           },
           {
            "bin_start": -0.19999999999999996,
            "bin_end": 0,
            "count": 0
           },
           {
            "bin_start": 0,
            "bin_end": 0.20000000000000018,
            "count": 697
           },
           {
            "bin_start": 0.20000000000000018,
            "bin_end": 0.40000000000000013,
            "count": 0
           },
           {
            "bin_start": 0.40000000000000013,
            "bin_end": 0.6000000000000001,
            "count": 0
           },
           {
            "bin_start": 0.6000000000000001,
            "bin_end": 0.8,
            "count": 0
           },
           {
            "bin_start": 0.8,
            "bin_end": 1,
            "count": 5
           }
          ]
         }
        },
        {
         "name": "ao_signal",
         "dtype": "float64",
         "stats": {
          "unique_count": 3,
          "nan_count": 0,
          "min": "-1.0",
          "max": "1.0",
          "histogram": [
           {
            "bin_start": -1,
            "bin_end": -0.8,
            "count": 12
           },
           {
            "bin_start": -0.8,
            "bin_end": -0.6,
            "count": 0
           },
           {
            "bin_start": -0.6,
            "bin_end": -0.3999999999999999,
            "count": 0
           },
           {
            "bin_start": -0.3999999999999999,
            "bin_end": -0.19999999999999996,
            "count": 0
           },
           {
            "bin_start": -0.19999999999999996,
            "bin_end": 0,
            "count": 0
           },
           {
            "bin_start": 0,
            "bin_end": 0.20000000000000018,
            "count": 682
           },
           {
            "bin_start": 0.20000000000000018,
            "bin_end": 0.40000000000000013,
            "count": 0
           },
           {
            "bin_start": 0.40000000000000013,
            "bin_end": 0.6000000000000001,
            "count": 0
           },
           {
            "bin_start": 0.6000000000000001,
            "bin_end": 0.8,
            "count": 0
           },
           {
            "bin_start": 0.8,
            "bin_end": 1,
            "count": 12
           }
          ]
         }
        },
        {
         "name": "Returns",
         "dtype": "float64",
         "stats": {
          "unique_count": 706,
          "nan_count": 0,
          "min": "-0.4233400707018309",
          "max": "0.5601088348528374",
          "histogram": [
           {
            "bin_start": -0.4233400707018309,
            "bin_end": -0.3249951801463641,
            "count": 3
           },
           {
            "bin_start": -0.3249951801463641,
            "bin_end": -0.22665028959089722,
            "count": 1
           },
           {
            "bin_start": -0.22665028959089722,
            "bin_end": -0.12830539903543037,
            "count": 7
           },
           {
            "bin_start": -0.12830539903543037,
            "bin_end": -0.029960508479963566,
            "count": 123
           },
           {
            "bin_start": -0.029960508479963566,
            "bin_end": 0.06838438207550324,
            "count": 513
           },
           {
            "bin_start": 0.06838438207550324,
            "bin_end": 0.16672927263097015,
            "count": 46
           },
           {
            "bin_start": 0.16672927263097015,
            "bin_end": 0.26507416318643695,
            "count": 5
           },
           {
            "bin_start": 0.26507416318643695,
            "bin_end": 0.36341905374190375,
            "count": 4
           },
           {
            "bin_start": 0.36341905374190375,
            "bin_end": 0.46176394429737055,
            "count": 3
           },
           {
            "bin_start": 0.46176394429737055,
            "bin_end": 0.5601088348528374,
            "count": 1
           }
          ]
         }
        },
        {
         "name": "Binary Return",
         "dtype": "int64",
         "stats": {
          "unique_count": 2,
          "nan_count": 0,
          "min": "0",
          "max": "1",
          "histogram": [
           {
            "bin_start": 0,
            "bin_end": 0.1,
            "count": 341
           },
           {
            "bin_start": 0.1,
            "bin_end": 0.2,
            "count": 0
           },
           {
            "bin_start": 0.2,
            "bin_end": 0.30000000000000004,
            "count": 0
           },
           {
            "bin_start": 0.30000000000000004,
            "bin_end": 0.4,
            "count": 0
           },
           {
            "bin_start": 0.4,
            "bin_end": 0.5,
            "count": 0
           },
           {
            "bin_start": 0.5,
            "bin_end": 0.6000000000000001,
            "count": 0
           },
           {
            "bin_start": 0.6000000000000001,
            "bin_end": 0.7000000000000001,
            "count": 0
           },
           {
            "bin_start": 0.7000000000000001,
            "bin_end": 0.8,
            "count": 0
           },
           {
            "bin_start": 0.8,
            "bin_end": 0.9,
            "count": 0
           },
           {
            "bin_start": 0.9,
            "bin_end": 1,
            "count": 365
           }
          ]
         }
        },
        {
         "name": "_deepnote_index_column",
         "dtype": "object"
        }
       ],
       "rows_top": [
        {
         "Close": 0.2608200013637543,
         "macd_signal": 0,
         "aroon_signal": 0,
         "rsi_signal": 0,
         "ao_signal": 0,
         "Returns": 0.010718738216542567,
         "Binary Return": 1,
         "_deepnote_index_column": "2019-09-02"
        },
        {
         "Close": 0.263139009475708,
         "macd_signal": 1,
         "aroon_signal": 0,
         "rsi_signal": 1,
         "ao_signal": 0,
         "Returns": 0.008891220381214149,
         "Binary Return": 1,
         "_deepnote_index_column": "2019-09-03"
        },
        {
         "Close": 0.2599050104618072,
         "macd_signal": 0,
         "aroon_signal": 0,
         "rsi_signal": 0,
         "ao_signal": 0,
         "Returns": -0.01229007823790329,
         "Binary Return": 0,
         "_deepnote_index_column": "2019-09-04"
        },
        {
         "Close": 0.2563459873199463,
         "macd_signal": 0,
         "aroon_signal": 0,
         "rsi_signal": 0,
         "ao_signal": 0,
         "Returns": -0.013693553408366865,
         "Binary Return": 0,
         "_deepnote_index_column": "2019-09-05"
        },
        {
         "Close": 0.2523399889469147,
         "macd_signal": 0,
         "aroon_signal": 0,
         "rsi_signal": 0,
         "ao_signal": 0,
         "Returns": -0.015627310631672664,
         "Binary Return": 0,
         "_deepnote_index_column": "2019-09-06"
        },
        {
         "Close": 0.260686993598938,
         "macd_signal": -1,
         "aroon_signal": 0,
         "rsi_signal": 0,
         "ao_signal": 0,
         "Returns": 0.03307840618864133,
         "Binary Return": 1,
         "_deepnote_index_column": "2019-09-07"
        },
        {
         "Close": 0.2630839943885803,
         "macd_signal": 0,
         "aroon_signal": 0,
         "rsi_signal": 0,
         "ao_signal": 0,
         "Returns": 0.00919493817681638,
         "Binary Return": 1,
         "_deepnote_index_column": "2019-09-08"
        },
        {
         "Close": 0.2595619857311249,
         "macd_signal": 1,
         "aroon_signal": 0,
         "rsi_signal": 0,
         "ao_signal": 0,
         "Returns": -0.013387392363571005,
         "Binary Return": 0,
         "_deepnote_index_column": "2019-09-09"
        },
        {
         "Close": 0.2586709856986999,
         "macd_signal": 0,
         "aroon_signal": 0,
         "rsi_signal": 0,
         "ao_signal": 0,
         "Returns": -0.003432706179663625,
         "Binary Return": 0,
         "_deepnote_index_column": "2019-09-10"
        },
        {
         "Close": 0.2559559941291809,
         "macd_signal": 0,
         "aroon_signal": 0,
         "rsi_signal": 0,
         "ao_signal": 0,
         "Returns": -0.010495926175042358,
         "Binary Return": 0,
         "_deepnote_index_column": "2019-09-11"
        },
        {
         "Close": 0.2548109889030456,
         "macd_signal": -1,
         "aroon_signal": 0,
         "rsi_signal": 0,
         "ao_signal": 0,
         "Returns": -0.004473445640649554,
         "Binary Return": 0,
         "_deepnote_index_column": "2019-09-12"
        },
        {
         "Close": 0.2555510103702545,
         "macd_signal": 0,
         "aroon_signal": 0,
         "rsi_signal": 0,
         "ao_signal": 0,
         "Returns": 0.0029041976187711427,
         "Binary Return": 1,
         "_deepnote_index_column": "2019-09-13"
        },
        {
         "Close": 0.2611669898033142,
         "macd_signal": 0,
         "aroon_signal": 0,
         "rsi_signal": 0,
         "ao_signal": 0,
         "Returns": 0.02197596254823253,
         "Binary Return": 1,
         "_deepnote_index_column": "2019-09-14"
        },
        {
         "Close": 0.2616280019283294,
         "macd_signal": 0,
         "aroon_signal": 0,
         "rsi_signal": 0,
         "ao_signal": 0,
         "Returns": 0.0017652005920134606,
         "Binary Return": 1,
         "_deepnote_index_column": "2019-09-15"
        },
        {
         "Close": 0.2609519958496094,
         "macd_signal": 1,
         "aroon_signal": 0,
         "rsi_signal": 0,
         "ao_signal": 0,
         "Returns": -0.002583844518696532,
         "Binary Return": 0,
         "_deepnote_index_column": "2019-09-16"
        },
        {
         "Close": 0.2850129902362823,
         "macd_signal": 0,
         "aroon_signal": 0,
         "rsi_signal": 0,
         "ao_signal": 0,
         "Returns": 0.0922046766047333,
         "Binary Return": 1,
         "_deepnote_index_column": "2019-09-17"
        },
        {
         "Close": 0.3137759864330292,
         "macd_signal": 0,
         "aroon_signal": 0,
         "rsi_signal": 0,
         "ao_signal": 0,
         "Returns": 0.10091819384408307,
         "Binary Return": 1,
         "_deepnote_index_column": "2019-09-18"
        },
        {
         "Close": 0.3024410009384155,
         "macd_signal": 0,
         "aroon_signal": 0,
         "rsi_signal": 0,
         "ao_signal": 0,
         "Returns": -0.03612445178953472,
         "Binary Return": 0,
         "_deepnote_index_column": "2019-09-19"
        },
        {
         "Close": 0.2944700121879577,
         "macd_signal": 0,
         "aroon_signal": 0,
         "rsi_signal": 0,
         "ao_signal": 0,
         "Returns": -0.026355516367573828,
         "Binary Return": 0,
         "_deepnote_index_column": "2019-09-20"
        },
        {
         "Close": 0.2894429862499237,
         "macd_signal": 0,
         "aroon_signal": 0,
         "rsi_signal": 0,
         "ao_signal": 0,
         "Returns": -0.017071435901681253,
         "Binary Return": 0,
         "_deepnote_index_column": "2019-09-21"
        },
        {
         "Close": 0.2789309918880462,
         "macd_signal": 0,
         "aroon_signal": 0,
         "rsi_signal": 0,
         "ao_signal": 0,
         "Returns": -0.03631801377560684,
         "Binary Return": 0,
         "_deepnote_index_column": "2019-09-22"
        },
        {
         "Close": 0.2686749994754791,
         "macd_signal": 0,
         "aroon_signal": 0,
         "rsi_signal": 0,
         "ao_signal": 0,
         "Returns": -0.03676892389456499,
         "Binary Return": 0,
         "_deepnote_index_column": "2019-09-23"
        },
        {
         "Close": 0.2352260053157806,
         "macd_signal": 0,
         "aroon_signal": 0,
         "rsi_signal": 0,
         "ao_signal": 0,
         "Returns": -0.12449611696287088,
         "Binary Return": 0,
         "_deepnote_index_column": "2019-09-24"
        },
        {
         "Close": 0.2464410066604614,
         "macd_signal": -1,
         "aroon_signal": 0,
         "rsi_signal": 0,
         "ao_signal": 0,
         "Returns": 0.04767755729059431,
         "Binary Return": 1,
         "_deepnote_index_column": "2019-09-25"
        },
        {
         "Close": 0.2437839955091476,
         "macd_signal": 0,
         "aroon_signal": 0,
         "rsi_signal": 0,
         "ao_signal": 0,
         "Returns": -0.01078153018168182,
         "Binary Return": 0,
         "_deepnote_index_column": "2019-09-26"
        },
        {
         "Close": 0.2440209984779358,
         "macd_signal": 0,
         "aroon_signal": 0,
         "rsi_signal": 0,
         "ao_signal": 0,
         "Returns": 0.0009721842826195815,
         "Binary Return": 1,
         "_deepnote_index_column": "2019-09-27"
        },
        {
         "Close": 0.2425709962844848,
         "macd_signal": 0,
         "aroon_signal": 0,
         "rsi_signal": 0,
         "ao_signal": 0,
         "Returns": -0.0059421205654237585,
         "Binary Return": 0,
         "_deepnote_index_column": "2019-09-28"
        },
        {
         "Close": 0.2413879930973053,
         "macd_signal": 0,
         "aroon_signal": 0,
         "rsi_signal": 0,
         "ao_signal": 0,
         "Returns": -0.004876935846823582,
         "Binary Return": 0,
         "_deepnote_index_column": "2019-09-29"
        },
        {
         "Close": 0.2559329867362976,
         "macd_signal": 0,
         "aroon_signal": 0,
         "rsi_signal": 0,
         "ao_signal": 0,
         "Returns": 0.06025566330935561,
         "Binary Return": 1,
         "_deepnote_index_column": "2019-09-30"
        },
        {
         "Close": 0.2495650053024292,
         "macd_signal": 0,
         "aroon_signal": 0,
         "rsi_signal": 0,
         "ao_signal": 0,
         "Returns": -0.024881440704748625,
         "Binary Return": 0,
         "_deepnote_index_column": "2019-10-01"
        },
        {
         "Close": 0.2535389959812164,
         "macd_signal": 0,
         "aroon_signal": 0,
         "rsi_signal": 0,
         "ao_signal": 0,
         "Returns": 0.01592366956245095,
         "Binary Return": 1,
         "_deepnote_index_column": "2019-10-02"
        },
        {
         "Close": 0.2478599995374679,
         "macd_signal": 0,
         "aroon_signal": 0,
         "rsi_signal": 0,
         "ao_signal": 0,
         "Returns": -0.022398907204670082,
         "Binary Return": 0,
         "_deepnote_index_column": "2019-10-03"
        },
        {
         "Close": 0.2539350092411041,
         "macd_signal": 0,
         "aroon_signal": 0,
         "rsi_signal": 0,
         "ao_signal": 0,
         "Returns": 0.024509843116972574,
         "Binary Return": 1,
         "_deepnote_index_column": "2019-10-04"
        },
        {
         "Close": 0.2534570097923279,
         "macd_signal": 0,
         "aroon_signal": 0,
         "rsi_signal": 0,
         "ao_signal": -1,
         "Returns": -0.0018823692337844866,
         "Binary Return": 0,
         "_deepnote_index_column": "2019-10-05"
        },
        {
         "Close": 0.2577050030231476,
         "macd_signal": 0,
         "aroon_signal": 0,
         "rsi_signal": 0,
         "ao_signal": 0,
         "Returns": 0.016760212054503176,
         "Binary Return": 1,
         "_deepnote_index_column": "2019-10-06"
        },
        {
         "Close": 0.2756850123405456,
         "macd_signal": 0,
         "aroon_signal": 0,
         "rsi_signal": 0,
         "ao_signal": 0,
         "Returns": 0.06976973324721603,
         "Binary Return": 1,
         "_deepnote_index_column": "2019-10-07"
        },
        {
         "Close": 0.2784590125083923,
         "macd_signal": 1,
         "aroon_signal": 0,
         "rsi_signal": 0,
         "ao_signal": 0,
         "Returns": 0.010062208838614861,
         "Binary Return": 1,
         "_deepnote_index_column": "2019-10-08"
        },
        {
         "Close": 0.2816269993782043,
         "macd_signal": 0,
         "aroon_signal": 0,
         "rsi_signal": 0,
         "ao_signal": 1,
         "Returns": 0.011376851628088547,
         "Binary Return": 1,
         "_deepnote_index_column": "2019-10-09"
        },
        {
         "Close": 0.2720730006694793,
         "macd_signal": 0,
         "aroon_signal": 0,
         "rsi_signal": 0,
         "ao_signal": 0,
         "Returns": -0.03392429962261767,
         "Binary Return": 0,
         "_deepnote_index_column": "2019-10-10"
        },
        {
         "Close": 0.2710990011692047,
         "macd_signal": 0,
         "aroon_signal": 0,
         "rsi_signal": 0,
         "ao_signal": 0,
         "Returns": -0.0035799197196264565,
         "Binary Return": 0,
         "_deepnote_index_column": "2019-10-11"
        },
        {
         "Close": 0.2731910049915313,
         "macd_signal": 0,
         "aroon_signal": 0,
         "rsi_signal": 0,
         "ao_signal": 0,
         "Returns": 0.00771675223185686,
         "Binary Return": 1,
         "_deepnote_index_column": "2019-10-12"
        },
        {
         "Close": 0.2777650058269501,
         "macd_signal": 0,
         "aroon_signal": 0,
         "rsi_signal": 0,
         "ao_signal": 0,
         "Returns": 0.016742867634168768,
         "Binary Return": 1,
         "_deepnote_index_column": "2019-10-13"
        },
        {
         "Close": 0.2965230047702789,
         "macd_signal": 0,
         "aroon_signal": 0,
         "rsi_signal": 0,
         "ao_signal": 0,
         "Returns": 0.06753190124682296,
         "Binary Return": 1,
         "_deepnote_index_column": "2019-10-14"
        },
        {
         "Close": 0.2887020111083984,
         "macd_signal": 0,
         "aroon_signal": 1,
         "rsi_signal": 0,
         "ao_signal": 0,
         "Returns": -0.026375672497786606,
         "Binary Return": 0,
         "_deepnote_index_column": "2019-10-15"
        },
        {
         "Close": 0.2846400141716003,
         "macd_signal": 0,
         "aroon_signal": 0,
         "rsi_signal": 0,
         "ao_signal": 0,
         "Returns": -0.014069860203616447,
         "Binary Return": 0,
         "_deepnote_index_column": "2019-10-16"
        },
        {
         "Close": 0.3023149967193603,
         "macd_signal": 0,
         "aroon_signal": 0,
         "rsi_signal": 0,
         "ao_signal": 0,
         "Returns": 0.06209591648314183,
         "Binary Return": 1,
         "_deepnote_index_column": "2019-10-17"
        },
        {
         "Close": 0.2950049936771393,
         "macd_signal": 0,
         "aroon_signal": 0,
         "rsi_signal": 0,
         "ao_signal": 0,
         "Returns": -0.02418008739740729,
         "Binary Return": 0,
         "_deepnote_index_column": "2019-10-18"
        },
        {
         "Close": 0.2930220067501068,
         "macd_signal": 0,
         "aroon_signal": 0,
         "rsi_signal": 0,
         "ao_signal": 0,
         "Returns": -0.006721875797135457,
         "Binary Return": 0,
         "_deepnote_index_column": "2019-10-19"
        },
        {
         "Close": 0.2941789925098419,
         "macd_signal": 0,
         "aroon_signal": 0,
         "rsi_signal": 0,
         "ao_signal": 0,
         "Returns": 0.003948460296778311,
         "Binary Return": 1,
         "_deepnote_index_column": "2019-10-20"
        },
        {
         "Close": 0.2929790019989013,
         "macd_signal": 0,
         "aroon_signal": 0,
         "rsi_signal": 0,
         "ao_signal": 0,
         "Returns": -0.004079116937285909,
         "Binary Return": 0,
         "_deepnote_index_column": "2019-10-21"
        },
        {
         "Close": 0.291606992483139,
         "macd_signal": 0,
         "aroon_signal": 0,
         "rsi_signal": 0,
         "ao_signal": 0,
         "Returns": -0.004682961940622232,
         "Binary Return": 0,
         "_deepnote_index_column": "2019-10-22"
        },
        {
         "Close": 0.2741430103778839,
         "macd_signal": 0,
         "aroon_signal": 0,
         "rsi_signal": 0,
         "ao_signal": 0,
         "Returns": -0.05988876314845182,
         "Binary Return": 0,
         "_deepnote_index_column": "2019-10-23"
        },
        {
         "Close": 0.2784909904003143,
         "macd_signal": -1,
         "aroon_signal": 0,
         "rsi_signal": 0,
         "ao_signal": 0,
         "Returns": 0.015860262191025765,
         "Binary Return": 1,
         "_deepnote_index_column": "2019-10-24"
        },
        {
         "Close": 0.2981649935245514,
         "macd_signal": 0,
         "aroon_signal": 0,
         "rsi_signal": 0,
         "ao_signal": 0,
         "Returns": 0.07064502552113772,
         "Binary Return": 1,
         "_deepnote_index_column": "2019-10-25"
        },
        {
         "Close": 0.2936989963054657,
         "macd_signal": 0,
         "aroon_signal": 0,
         "rsi_signal": 0,
         "ao_signal": 0,
         "Returns": -0.014978274834661187,
         "Binary Return": 0,
         "_deepnote_index_column": "2019-10-26"
        },
        {
         "Close": 0.2980999946594238,
         "macd_signal": 0,
         "aroon_signal": 0,
         "rsi_signal": 0,
         "ao_signal": 0,
         "Returns": 0.014984723847611514,
         "Binary Return": 1,
         "_deepnote_index_column": "2019-10-27"
        },
        {
         "Close": 0.2960070073604584,
         "macd_signal": 1,
         "aroon_signal": 0,
         "rsi_signal": 0,
         "ao_signal": 0,
         "Returns": -0.007021091366863685,
         "Binary Return": 0,
         "_deepnote_index_column": "2019-10-28"
        },
        {
         "Close": 0.3019559979438782,
         "macd_signal": 0,
         "aroon_signal": 0,
         "rsi_signal": 0,
         "ao_signal": 0,
         "Returns": 0.020097465382552526,
         "Binary Return": 1,
         "_deepnote_index_column": "2019-10-29"
        },
        {
         "Close": 0.2965550124645233,
         "macd_signal": 0,
         "aroon_signal": 0,
         "rsi_signal": 0,
         "ao_signal": 0,
         "Returns": -0.01788666400446426,
         "Binary Return": 0,
         "_deepnote_index_column": "2019-10-30"
        },
        {
         "Close": 0.2963579893112182,
         "macd_signal": 0,
         "aroon_signal": 0,
         "rsi_signal": 0,
         "ao_signal": 0,
         "Returns": -0.0006643730337509979,
         "Binary Return": 0,
         "_deepnote_index_column": "2019-10-31"
        },
        {
         "Close": 0.2926419973373413,
         "macd_signal": -1,
         "aroon_signal": 0,
         "rsi_signal": 0,
         "ao_signal": 0,
         "Returns": -0.012538862146127538,
         "Binary Return": 0,
         "_deepnote_index_column": "2019-11-01"
        },
        {
         "Close": 0.2962630093097687,
         "macd_signal": 0,
         "aroon_signal": 0,
         "rsi_signal": 0,
         "ao_signal": 0,
         "Returns": 0.012373521249081865,
         "Binary Return": 1,
         "_deepnote_index_column": "2019-11-02"
        },
        {
         "Close": 0.2912609875202179,
         "macd_signal": 0,
         "aroon_signal": 0,
         "rsi_signal": 0,
         "ao_signal": 0,
         "Returns": -0.016883720317310114,
         "Binary Return": 0,
         "_deepnote_index_column": "2019-11-03"
        },
        {
         "Close": 0.2999370098114013,
         "macd_signal": 0,
         "aroon_signal": 0,
         "rsi_signal": 0,
         "ao_signal": 0,
         "Returns": 0.02978779398178477,
         "Binary Return": 1,
         "_deepnote_index_column": "2019-11-04"
        },
        {
         "Close": 0.3012549877166748,
         "macd_signal": 0,
         "aroon_signal": 0,
         "rsi_signal": 0,
         "ao_signal": 0,
         "Returns": 0.0043941823188216045,
         "Binary Return": 1,
         "_deepnote_index_column": "2019-11-05"
        },
        {
         "Close": 0.3100860118865967,
         "macd_signal": 0,
         "aroon_signal": 0,
         "rsi_signal": 0,
         "ao_signal": 0,
         "Returns": 0.02931411770757908,
         "Binary Return": 1,
         "_deepnote_index_column": "2019-11-06"
        },
        {
         "Close": 0.2924309968948364,
         "macd_signal": 1,
         "aroon_signal": 0,
         "rsi_signal": 0,
         "ao_signal": 0,
         "Returns": -0.056935863969952205,
         "Binary Return": 0,
         "_deepnote_index_column": "2019-11-07"
        },
        {
         "Close": 0.2769530117511749,
         "macd_signal": -1,
         "aroon_signal": 0,
         "rsi_signal": 0,
         "ao_signal": 0,
         "Returns": -0.05292867482590313,
         "Binary Return": 0,
         "_deepnote_index_column": "2019-11-08"
        },
        {
         "Close": 0.2801960110664367,
         "macd_signal": 0,
         "aroon_signal": 0,
         "rsi_signal": 0,
         "ao_signal": 0,
         "Returns": 0.011709565080214368,
         "Binary Return": 1,
         "_deepnote_index_column": "2019-11-09"
        },
        {
         "Close": 0.2802039980888366,
         "macd_signal": 0,
         "aroon_signal": 0,
         "rsi_signal": 0,
         "ao_signal": 0,
         "Returns": 0.00002850512528529414,
         "Binary Return": 1,
         "_deepnote_index_column": "2019-11-10"
        },
        {
         "Close": 0.275085985660553,
         "macd_signal": 0,
         "aroon_signal": 0,
         "rsi_signal": 0,
         "ao_signal": -1,
         "Returns": -0.01826530835816631,
         "Binary Return": 0,
         "_deepnote_index_column": "2019-11-11"
        }
       ],
       "rows_bottom": [
        {
         "Close": 1.024399995803833,
         "macd_signal": 0,
         "aroon_signal": 0,
         "rsi_signal": 0,
         "ao_signal": 0,
         "Returns": 0.013253206532191086,
         "Binary Return": 1,
         "_deepnote_index_column": "2021-06-02"
        },
        {
         "Close": 1.045320987701416,
         "macd_signal": 1,
         "aroon_signal": 0,
         "rsi_signal": 0,
         "ao_signal": 0,
         "Returns": 0.020422678624834045,
         "Binary Return": 1,
         "_deepnote_index_column": "2021-06-03"
        },
        {
         "Close": 0.970196008682251,
         "macd_signal": 0,
         "aroon_signal": 0,
         "rsi_signal": 0,
         "ao_signal": 0,
         "Returns": -0.0718678567665223,
         "Binary Return": 0,
         "_deepnote_index_column": "2021-06-04"
        },
        {
         "Close": 0.9232860207557678,
         "macd_signal": 0,
         "aroon_signal": 0,
         "rsi_signal": 0,
         "ao_signal": 0,
         "Returns": -0.04835104196130191,
         "Binary Return": 0,
         "_deepnote_index_column": "2021-06-05"
        },
        {
         "Close": 0.945285975933075,
         "macd_signal": 0,
         "aroon_signal": 0,
         "rsi_signal": 0,
         "ao_signal": 0,
         "Returns": 0.023827887223180078,
         "Binary Return": 1,
         "_deepnote_index_column": "2021-06-06"
        },
        {
         "Close": 0.8611549735069275,
         "macd_signal": 0,
         "aroon_signal": 0,
         "rsi_signal": 0,
         "ao_signal": 0,
         "Returns": -0.08900058243549336,
         "Binary Return": 0,
         "_deepnote_index_column": "2021-06-07"
        },
        {
         "Close": 0.8757879734039307,
         "macd_signal": 0,
         "aroon_signal": 0,
         "rsi_signal": 0,
         "ao_signal": 0,
         "Returns": 0.01699229563456206,
         "Binary Return": 1,
         "_deepnote_index_column": "2021-06-08"
        },
        {
         "Close": 0.9200339913368224,
         "macd_signal": 0,
         "aroon_signal": 0,
         "rsi_signal": 0,
         "ao_signal": 0,
         "Returns": 0.05052138106089821,
         "Binary Return": 1,
         "_deepnote_index_column": "2021-06-09"
        },
        {
         "Close": 0.8691819906234741,
         "macd_signal": 0,
         "aroon_signal": 0,
         "rsi_signal": 0,
         "ao_signal": 0,
         "Returns": -0.055271871683196805,
         "Binary Return": 0,
         "_deepnote_index_column": "2021-06-10"
        },
        {
         "Close": 0.8484500050544739,
         "macd_signal": 0,
         "aroon_signal": 0,
         "rsi_signal": 0,
         "ao_signal": 0,
         "Returns": -0.023852295368118392,
         "Binary Return": 0,
         "_deepnote_index_column": "2021-06-11"
        },
        {
         "Close": 0.8326830267906189,
         "macd_signal": 0,
         "aroon_signal": 0,
         "rsi_signal": 0,
         "ao_signal": 0,
         "Returns": -0.01858327322756359,
         "Binary Return": 0,
         "_deepnote_index_column": "2021-06-12"
        },
        {
         "Close": 0.8831599950790405,
         "macd_signal": 0,
         "aroon_signal": 0,
         "rsi_signal": 0,
         "ao_signal": 0,
         "Returns": 0.06061966758584392,
         "Binary Return": 1,
         "_deepnote_index_column": "2021-06-13"
        },
        {
         "Close": 0.8928970098495483,
         "macd_signal": 0,
         "aroon_signal": 0,
         "rsi_signal": 0,
         "ao_signal": 0,
         "Returns": 0.011025199085966664,
         "Binary Return": 1,
         "_deepnote_index_column": "2021-06-14"
        },
        {
         "Close": 0.8898000121116638,
         "macd_signal": 0,
         "aroon_signal": 0,
         "rsi_signal": 0,
         "ao_signal": 0,
         "Returns": -0.003468482595105127,
         "Binary Return": 0,
         "_deepnote_index_column": "2021-06-15"
        },
        {
         "Close": 0.8319079875946045,
         "macd_signal": 0,
         "aroon_signal": 0,
         "rsi_signal": 0,
         "ao_signal": 0,
         "Returns": -0.06506183831091505,
         "Binary Return": 0,
         "_deepnote_index_column": "2021-06-16"
        },
        {
         "Close": 0.8414379954338074,
         "macd_signal": 0,
         "aroon_signal": 0,
         "rsi_signal": 0,
         "ao_signal": 0,
         "Returns": 0.011455603241361079,
         "Binary Return": 1,
         "_deepnote_index_column": "2021-06-17"
        },
        {
         "Close": 0.797648012638092,
         "macd_signal": 0,
         "aroon_signal": 0,
         "rsi_signal": 0,
         "ao_signal": 0,
         "Returns": -0.052041841506264785,
         "Binary Return": 0,
         "_deepnote_index_column": "2021-06-18"
        },
        {
         "Close": 0.7616729736328125,
         "macd_signal": 0,
         "aroon_signal": 0,
         "rsi_signal": 0,
         "ao_signal": 0,
         "Returns": -0.04510139614878239,
         "Binary Return": 0,
         "_deepnote_index_column": "2021-06-19"
        },
        {
         "Close": 0.7763770222663879,
         "macd_signal": 0,
         "aroon_signal": 0,
         "rsi_signal": 0,
         "ao_signal": 0,
         "Returns": 0.019304936820121466,
         "Binary Return": 1,
         "_deepnote_index_column": "2021-06-20"
        },
        {
         "Close": 0.6103879809379578,
         "macd_signal": 0,
         "aroon_signal": 0,
         "rsi_signal": 0,
         "ao_signal": 0,
         "Returns": -0.21379952853818052,
         "Binary Return": 0,
         "_deepnote_index_column": "2021-06-21"
        },
        {
         "Close": 0.5450670123100281,
         "macd_signal": -1,
         "aroon_signal": 0,
         "rsi_signal": 0,
         "ao_signal": 0,
         "Returns": -0.10701548960311058,
         "Binary Return": 0,
         "_deepnote_index_column": "2021-06-22"
        },
        {
         "Close": 0.6265349984169006,
         "macd_signal": 0,
         "aroon_signal": 0,
         "rsi_signal": -1,
         "ao_signal": 0,
         "Returns": 0.14946416544565078,
         "Binary Return": 1,
         "_deepnote_index_column": "2021-06-23"
        },
        {
         "Close": 0.671999990940094,
         "macd_signal": 0,
         "aroon_signal": 0,
         "rsi_signal": 0,
         "ao_signal": 0,
         "Returns": 0.07256576669790538,
         "Binary Return": 1,
         "_deepnote_index_column": "2021-06-24"
        },
        {
         "Close": 0.6133229732513428,
         "macd_signal": 0,
         "aroon_signal": 0,
         "rsi_signal": 0,
         "ao_signal": 0,
         "Returns": -0.0873169917854687,
         "Binary Return": 0,
         "_deepnote_index_column": "2021-06-25"
        },
        {
         "Close": 0.615435004234314,
         "macd_signal": 0,
         "aroon_signal": 0,
         "rsi_signal": 0,
         "ao_signal": 0,
         "Returns": 0.003443586943718824,
         "Binary Return": 1,
         "_deepnote_index_column": "2021-06-26"
        },
        {
         "Close": 0.6469230055809021,
         "macd_signal": 0,
         "aroon_signal": 0,
         "rsi_signal": 0,
         "ao_signal": 0,
         "Returns": 0.05116381279898685,
         "Binary Return": 1,
         "_deepnote_index_column": "2021-06-27"
        },
        {
         "Close": 0.643746018409729,
         "macd_signal": 0,
         "aroon_signal": 0,
         "rsi_signal": 0,
         "ao_signal": 0,
         "Returns": -0.004910920068950553,
         "Binary Return": 0,
         "_deepnote_index_column": "2021-06-28"
        },
        {
         "Close": 0.7017250061035156,
         "macd_signal": 0,
         "aroon_signal": 0,
         "rsi_signal": 0,
         "ao_signal": 0,
         "Returns": 0.09006500395453232,
         "Binary Return": 1,
         "_deepnote_index_column": "2021-06-29"
        },
        {
         "Close": 0.7063739895820618,
         "macd_signal": 1,
         "aroon_signal": 0,
         "rsi_signal": 0,
         "ao_signal": 0,
         "Returns": 0.006625078824482378,
         "Binary Return": 1,
         "_deepnote_index_column": "2021-06-30"
        },
        {
         "Close": 0.6611800193786621,
         "macd_signal": 0,
         "aroon_signal": 0,
         "rsi_signal": 0,
         "ao_signal": 0,
         "Returns": -0.06398022983567031,
         "Binary Return": 0,
         "_deepnote_index_column": "2021-07-01"
        },
        {
         "Close": 0.6567630171775818,
         "macd_signal": 0,
         "aroon_signal": 0,
         "rsi_signal": 0,
         "ao_signal": 0,
         "Returns": -0.00668048348652639,
         "Binary Return": 0,
         "_deepnote_index_column": "2021-07-02"
        },
        {
         "Close": 0.6728879809379578,
         "macd_signal": 0,
         "aroon_signal": 0,
         "rsi_signal": 0,
         "ao_signal": 0,
         "Returns": 0.024552179916695893,
         "Binary Return": 1,
         "_deepnote_index_column": "2021-07-03"
        },
        {
         "Close": 0.6949449777603149,
         "macd_signal": 0,
         "aroon_signal": 0,
         "rsi_signal": 0,
         "ao_signal": 0,
         "Returns": 0.03277959697186339,
         "Binary Return": 1,
         "_deepnote_index_column": "2021-07-04"
        },
        {
         "Close": 0.6542999744415283,
         "macd_signal": 0,
         "aroon_signal": 0,
         "rsi_signal": 0,
         "ao_signal": 0,
         "Returns": -0.058486649475154584,
         "Binary Return": 0,
         "_deepnote_index_column": "2021-07-05"
        },
        {
         "Close": 0.6654019951820374,
         "macd_signal": 0,
         "aroon_signal": 0,
         "rsi_signal": 0,
         "ao_signal": 0,
         "Returns": 0.016967784157388976,
         "Binary Return": 1,
         "_deepnote_index_column": "2021-07-06"
        },
        {
         "Close": 0.6515750288963318,
         "macd_signal": 0,
         "aroon_signal": 0,
         "rsi_signal": 0,
         "ao_signal": 0,
         "Returns": -0.020779868990207673,
         "Binary Return": 0,
         "_deepnote_index_column": "2021-07-07"
        },
        {
         "Close": 0.623058021068573,
         "macd_signal": 0,
         "aroon_signal": 0,
         "rsi_signal": 0,
         "ao_signal": 0,
         "Returns": -0.04376626875351908,
         "Binary Return": 0,
         "_deepnote_index_column": "2021-07-08"
        },
        {
         "Close": 0.6368039846420288,
         "macd_signal": 0,
         "aroon_signal": 0,
         "rsi_signal": 0,
         "ao_signal": 0,
         "Returns": 0.022062092307038927,
         "Binary Return": 1,
         "_deepnote_index_column": "2021-07-09"
        },
        {
         "Close": 0.6254630088806152,
         "macd_signal": 0,
         "aroon_signal": 0,
         "rsi_signal": 0,
         "ao_signal": 0,
         "Returns": -0.017809209795991987,
         "Binary Return": 0,
         "_deepnote_index_column": "2021-07-10"
        },
        {
         "Close": 0.6359350085258484,
         "macd_signal": 0,
         "aroon_signal": 0,
         "rsi_signal": 0,
         "ao_signal": 0,
         "Returns": 0.01674279613110108,
         "Binary Return": 1,
         "_deepnote_index_column": "2021-07-11"
        },
        {
         "Close": 0.6301779747009277,
         "macd_signal": 0,
         "aroon_signal": 0,
         "rsi_signal": 0,
         "ao_signal": 0,
         "Returns": -0.009052865069130167,
         "Binary Return": 0,
         "_deepnote_index_column": "2021-07-12"
        },
        {
         "Close": 0.6195229887962341,
         "macd_signal": 0,
         "aroon_signal": 0,
         "rsi_signal": 0,
         "ao_signal": 0,
         "Returns": -0.016907899565595352,
         "Binary Return": 0,
         "_deepnote_index_column": "2021-07-13"
        },
        {
         "Close": 0.6203240156173706,
         "macd_signal": 0,
         "aroon_signal": 0,
         "rsi_signal": 0,
         "ao_signal": 0,
         "Returns": 0.0012929735225692962,
         "Binary Return": 1,
         "_deepnote_index_column": "2021-07-14"
        },
        {
         "Close": 0.5969409942626953,
         "macd_signal": 0,
         "aroon_signal": 0,
         "rsi_signal": 0,
         "ao_signal": 0,
         "Returns": -0.03769485102298287,
         "Binary Return": 0,
         "_deepnote_index_column": "2021-07-15"
        },
        {
         "Close": 0.5907739996910095,
         "macd_signal": 0,
         "aroon_signal": 0,
         "rsi_signal": 0,
         "ao_signal": 0,
         "Returns": -0.010330995242340268,
         "Binary Return": 0,
         "_deepnote_index_column": "2021-07-16"
        },
        {
         "Close": 0.582427978515625,
         "macd_signal": 0,
         "aroon_signal": 0,
         "rsi_signal": 0,
         "ao_signal": 0,
         "Returns": -0.014127265552901336,
         "Binary Return": 0,
         "_deepnote_index_column": "2021-07-17"
        },
        {
         "Close": 0.5879219770431519,
         "macd_signal": 0,
         "aroon_signal": 0,
         "rsi_signal": 0,
         "ao_signal": 0,
         "Returns": 0.009432923434634422,
         "Binary Return": 1,
         "_deepnote_index_column": "2021-07-18"
        },
        {
         "Close": 0.5575559735298157,
         "macd_signal": 0,
         "aroon_signal": 0,
         "rsi_signal": 0,
         "ao_signal": 0,
         "Returns": -0.051649716627462317,
         "Binary Return": 0,
         "_deepnote_index_column": "2021-07-19"
        },
        {
         "Close": 0.5293359756469727,
         "macd_signal": 0,
         "aroon_signal": 0,
         "rsi_signal": 0,
         "ao_signal": 0,
         "Returns": -0.050613748614665166,
         "Binary Return": 0,
         "_deepnote_index_column": "2021-07-20"
        },
        {
         "Close": 0.569998025894165,
         "macd_signal": -1,
         "aroon_signal": 0,
         "rsi_signal": 0,
         "ao_signal": 0,
         "Returns": 0.07681709182432539,
         "Binary Return": 1,
         "_deepnote_index_column": "2021-07-21"
        },
        {
         "Close": 0.5922060012817383,
         "macd_signal": 1,
         "aroon_signal": 0,
         "rsi_signal": 0,
         "ao_signal": 0,
         "Returns": 0.03896149526611992,
         "Binary Return": 1,
         "_deepnote_index_column": "2021-07-22"
        },
        {
         "Close": 0.6092240214347839,
         "macd_signal": 0,
         "aroon_signal": 0,
         "rsi_signal": 0,
         "ao_signal": 0,
         "Returns": 0.02873665602208142,
         "Binary Return": 1,
         "_deepnote_index_column": "2021-07-23"
        },
        {
         "Close": 0.6098269820213318,
         "macd_signal": 0,
         "aroon_signal": 0,
         "rsi_signal": 0,
         "ao_signal": 0,
         "Returns": 0.0009897189955310193,
         "Binary Return": 1,
         "_deepnote_index_column": "2021-07-24"
        },
        {
         "Close": 0.6063569784164429,
         "macd_signal": 0,
         "aroon_signal": 0,
         "rsi_signal": 0,
         "ao_signal": 0,
         "Returns": -0.005690144429797539,
         "Binary Return": 0,
         "_deepnote_index_column": "2021-07-25"
        },
        {
         "Close": 0.6256179809570312,
         "macd_signal": 0,
         "aroon_signal": 0,
         "rsi_signal": 0,
         "ao_signal": 0,
         "Returns": 0.03176512059099279,
         "Binary Return": 1,
         "_deepnote_index_column": "2021-07-26"
        },
        {
         "Close": 0.6446040272712708,
         "macd_signal": 0,
         "aroon_signal": 0,
         "rsi_signal": 0,
         "ao_signal": 0,
         "Returns": 0.03034766725405791,
         "Binary Return": 1,
         "_deepnote_index_column": "2021-07-27"
        },
        {
         "Close": 0.7254449725151062,
         "macd_signal": 0,
         "aroon_signal": 0,
         "rsi_signal": 0,
         "ao_signal": 1,
         "Returns": 0.12541179053139073,
         "Binary Return": 1,
         "_deepnote_index_column": "2021-07-28"
        },
        {
         "Close": 0.7480170130729675,
         "macd_signal": 0,
         "aroon_signal": 0,
         "rsi_signal": 0,
         "ao_signal": 0,
         "Returns": 0.031114752204573826,
         "Binary Return": 1,
         "_deepnote_index_column": "2021-07-29"
        },
        {
         "Close": 0.7521190047264099,
         "macd_signal": 0,
         "aroon_signal": 0,
         "rsi_signal": 0,
         "ao_signal": 0,
         "Returns": 0.005483821332606942,
         "Binary Return": 1,
         "_deepnote_index_column": "2021-07-30"
        },
        {
         "Close": 0.7477859854698181,
         "macd_signal": 0,
         "aroon_signal": 0,
         "rsi_signal": 0,
         "ao_signal": 0,
         "Returns": -0.005761081995485529,
         "Binary Return": 0,
         "_deepnote_index_column": "2021-07-31"
        },
        {
         "Close": 0.7259219884872437,
         "macd_signal": 0,
         "aroon_signal": 0,
         "rsi_signal": 0,
         "ao_signal": 0,
         "Returns": -0.02923830802851668,
         "Binary Return": 0,
         "_deepnote_index_column": "2021-08-01"
        },
        {
         "Close": 0.7392200231552124,
         "macd_signal": 0,
         "aroon_signal": 0,
         "rsi_signal": 0,
         "ao_signal": 0,
         "Returns": 0.01831882058798162,
         "Binary Return": 1,
         "_deepnote_index_column": "2021-08-02"
        },
        {
         "Close": 0.7127289772033691,
         "macd_signal": 0,
         "aroon_signal": 0,
         "rsi_signal": 0,
         "ao_signal": 0,
         "Returns": -0.03583648321479649,
         "Binary Return": 0,
         "_deepnote_index_column": "2021-08-03"
        },
        {
         "Close": 0.7304880023002625,
         "macd_signal": 0,
         "aroon_signal": 0,
         "rsi_signal": 0,
         "ao_signal": 0,
         "Returns": 0.024916939909721103,
         "Binary Return": 1,
         "_deepnote_index_column": "2021-08-04"
        },
        {
         "Close": 0.7331510186195374,
         "macd_signal": 0,
         "aroon_signal": 0,
         "rsi_signal": 0,
         "ao_signal": 0,
         "Returns": 0.0036455305369686997,
         "Binary Return": 1,
         "_deepnote_index_column": "2021-08-05"
        },
        {
         "Close": 0.7465130090713501,
         "macd_signal": 0,
         "aroon_signal": 0,
         "rsi_signal": 0,
         "ao_signal": 0,
         "Returns": 0.01822542711182784,
         "Binary Return": 1,
         "_deepnote_index_column": "2021-08-06"
        },
        {
         "Close": 0.8162810206413269,
         "macd_signal": 0,
         "aroon_signal": 0,
         "rsi_signal": 0,
         "ao_signal": 0,
         "Returns": 0.09345853417446404,
         "Binary Return": 1,
         "_deepnote_index_column": "2021-08-07"
        },
        {
         "Close": 0.7787389755249023,
         "macd_signal": 0,
         "aroon_signal": 1,
         "rsi_signal": 1,
         "ao_signal": 0,
         "Returns": -0.045991569284471345,
         "Binary Return": 0,
         "_deepnote_index_column": "2021-08-08"
        },
        {
         "Close": 0.8185529708862305,
         "macd_signal": 0,
         "aroon_signal": 0,
         "rsi_signal": 0,
         "ao_signal": 0,
         "Returns": 0.05112623948800277,
         "Binary Return": 1,
         "_deepnote_index_column": "2021-08-09"
        },
        {
         "Close": 0.8512470126152039,
         "macd_signal": 0,
         "aroon_signal": 0,
         "rsi_signal": 0,
         "ao_signal": 0,
         "Returns": 0.039941265735772946,
         "Binary Return": 1,
         "_deepnote_index_column": "2021-08-10"
        },
        {
         "Close": 1.0125240087509155,
         "macd_signal": 0,
         "aroon_signal": 0,
         "rsi_signal": 0,
         "ao_signal": 0,
         "Returns": 0.18945969118908979,
         "Binary Return": 1,
         "_deepnote_index_column": "2021-08-11"
        }
       ]
      },
      "text/plain": "               Close  macd_signal  aroon_signal  rsi_signal  ao_signal  \\\nDate                                                                     \n2019-09-02  0.260820            0             0           0        0.0   \n2019-09-03  0.263139            1             0           1        0.0   \n2019-09-04  0.259905            0             0           0        0.0   \n2019-09-05  0.256346            0             0           0        0.0   \n2019-09-06  0.252340            0             0           0        0.0   \n...              ...          ...           ...         ...        ...   \n2021-08-07  0.816281            0             0           0        0.0   \n2021-08-08  0.778739            0             1           1        0.0   \n2021-08-09  0.818553            0             0           0        0.0   \n2021-08-10  0.851247            0             0           0        0.0   \n2021-08-11  1.012524            0             0           0        0.0   \n\n             Returns  Binary Return  \nDate                                 \n2019-09-02  0.010719              1  \n2019-09-03  0.008891              1  \n2019-09-04 -0.012290              0  \n2019-09-05 -0.013694              0  \n2019-09-06 -0.015627              0  \n...              ...            ...  \n2021-08-07  0.093459              1  \n2021-08-08 -0.045992              0  \n2021-08-09  0.051126              1  \n2021-08-10  0.039941              1  \n2021-08-11  0.189460              1  \n\n[706 rows x 7 columns]",
      "text/html": "<div>\n<style scoped>\n    .dataframe tbody tr th:only-of-type {\n        vertical-align: middle;\n    }\n\n    .dataframe tbody tr th {\n        vertical-align: top;\n    }\n\n    .dataframe thead th {\n        text-align: right;\n    }\n</style>\n<table border=\"1\" class=\"dataframe\">\n  <thead>\n    <tr style=\"text-align: right;\">\n      <th></th>\n      <th>Close</th>\n      <th>macd_signal</th>\n      <th>aroon_signal</th>\n      <th>rsi_signal</th>\n      <th>ao_signal</th>\n      <th>Returns</th>\n      <th>Binary Return</th>\n    </tr>\n    <tr>\n      <th>Date</th>\n      <th></th>\n      <th></th>\n      <th></th>\n      <th></th>\n      <th></th>\n      <th></th>\n      <th></th>\n    </tr>\n  </thead>\n  <tbody>\n    <tr>\n      <th>2019-09-02</th>\n      <td>0.260820</td>\n      <td>0</td>\n      <td>0</td>\n      <td>0</td>\n      <td>0.0</td>\n      <td>0.010719</td>\n      <td>1</td>\n    </tr>\n    <tr>\n      <th>2019-09-03</th>\n      <td>0.263139</td>\n      <td>1</td>\n      <td>0</td>\n      <td>1</td>\n      <td>0.0</td>\n      <td>0.008891</td>\n      <td>1</td>\n    </tr>\n    <tr>\n      <th>2019-09-04</th>\n      <td>0.259905</td>\n      <td>0</td>\n      <td>0</td>\n      <td>0</td>\n      <td>0.0</td>\n      <td>-0.012290</td>\n      <td>0</td>\n    </tr>\n    <tr>\n      <th>2019-09-05</th>\n      <td>0.256346</td>\n      <td>0</td>\n      <td>0</td>\n      <td>0</td>\n      <td>0.0</td>\n      <td>-0.013694</td>\n      <td>0</td>\n    </tr>\n    <tr>\n      <th>2019-09-06</th>\n      <td>0.252340</td>\n      <td>0</td>\n      <td>0</td>\n      <td>0</td>\n      <td>0.0</td>\n      <td>-0.015627</td>\n      <td>0</td>\n    </tr>\n    <tr>\n      <th>...</th>\n      <td>...</td>\n      <td>...</td>\n      <td>...</td>\n      <td>...</td>\n      <td>...</td>\n      <td>...</td>\n      <td>...</td>\n    </tr>\n    <tr>\n      <th>2021-08-07</th>\n      <td>0.816281</td>\n      <td>0</td>\n      <td>0</td>\n      <td>0</td>\n      <td>0.0</td>\n      <td>0.093459</td>\n      <td>1</td>\n    </tr>\n    <tr>\n      <th>2021-08-08</th>\n      <td>0.778739</td>\n      <td>0</td>\n      <td>1</td>\n      <td>1</td>\n      <td>0.0</td>\n      <td>-0.045992</td>\n      <td>0</td>\n    </tr>\n    <tr>\n      <th>2021-08-09</th>\n      <td>0.818553</td>\n      <td>0</td>\n      <td>0</td>\n      <td>0</td>\n      <td>0.0</td>\n      <td>0.051126</td>\n      <td>1</td>\n    </tr>\n    <tr>\n      <th>2021-08-10</th>\n      <td>0.851247</td>\n      <td>0</td>\n      <td>0</td>\n      <td>0</td>\n      <td>0.0</td>\n      <td>0.039941</td>\n      <td>1</td>\n    </tr>\n    <tr>\n      <th>2021-08-11</th>\n      <td>1.012524</td>\n      <td>0</td>\n      <td>0</td>\n      <td>0</td>\n      <td>0.0</td>\n      <td>0.189460</td>\n      <td>1</td>\n    </tr>\n  </tbody>\n</table>\n<p>706 rows × 7 columns</p>\n</div>"
     },
     "metadata": {}
    }
   ],
   "execution_count": null
  },
  {
   "cell_type": "code",
   "metadata": {
    "tags": [],
    "deepnote_to_be_reexecuted": false,
    "source_hash": "1c95b88f",
    "execution_start": 1629253377811,
    "execution_millis": 11,
    "cell_id": "00009-ad9a3a65-b748-4d51-a300-ee4e0e3c8fce",
    "deepnote_cell_type": "code"
   },
   "source": "# Construct training start and end dates\ntraining_start = combined_signals_df.index.min()\ntraining_end = '2021-08-10'\n\n# Construct testing start and end dates\ntesting_start =  '2019-09-01'\ntesting_end = combined_signals_df.index[-2]\n\n# Print training and testing start/end dates\nprint(f\"Training Start: {training_start}\")\nprint(f\"Training End: {training_end}\")\nprint(f\"Testing Start: {testing_start}\")\nprint(f\"Testing End: {testing_end}\")",
   "outputs": [
    {
     "name": "stdout",
     "text": "Training Start: 2019-09-02\nTraining End: 2021-08-10\nTesting Start: 2019-09-01\nTesting End: 2021-08-10\n",
     "output_type": "stream"
    }
   ],
   "execution_count": null
  },
  {
   "cell_type": "code",
   "metadata": {
    "tags": [],
    "deepnote_to_be_reexecuted": false,
    "source_hash": "759f3b0a",
    "execution_start": 1629253377865,
    "execution_millis": 15,
    "cell_id": "00010-ff264a7f-e629-409e-94cc-00406bfa45a0",
    "deepnote_cell_type": "code"
   },
   "source": "# Construct the X_train and y_train datasets\nX_train = combined_signals_df[['aroon_signal','macd_signal','rsi_signal']][training_start:training_end]\ny_train = combined_signals_df['Binary Return'][training_start:training_end]\n\nX_train.tail()",
   "outputs": [
    {
     "output_type": "execute_result",
     "execution_count": 11,
     "data": {
      "application/vnd.deepnote.dataframe.v2+json": {
       "row_count": 5,
       "column_count": 3,
       "columns": [
        {
         "name": "aroon_signal",
         "dtype": "int64",
         "stats": {
          "unique_count": 2,
          "nan_count": 0,
          "min": "0",
          "max": "1",
          "histogram": [
           {
            "bin_start": 0,
            "bin_end": 0.1,
            "count": 4
           },
           {
            "bin_start": 0.1,
            "bin_end": 0.2,
            "count": 0
           },
           {
            "bin_start": 0.2,
            "bin_end": 0.30000000000000004,
            "count": 0
           },
           {
            "bin_start": 0.30000000000000004,
            "bin_end": 0.4,
            "count": 0
           },
           {
            "bin_start": 0.4,
            "bin_end": 0.5,
            "count": 0
           },
           {
            "bin_start": 0.5,
            "bin_end": 0.6000000000000001,
            "count": 0
           },
           {
            "bin_start": 0.6000000000000001,
            "bin_end": 0.7000000000000001,
            "count": 0
           },
           {
            "bin_start": 0.7000000000000001,
            "bin_end": 0.8,
            "count": 0
           },
           {
            "bin_start": 0.8,
            "bin_end": 0.9,
            "count": 0
           },
           {
            "bin_start": 0.9,
            "bin_end": 1,
            "count": 1
           }
          ]
         }
        },
        {
         "name": "macd_signal",
         "dtype": "int64",
         "stats": {
          "unique_count": 1,
          "nan_count": 0,
          "min": "0",
          "max": "0",
          "histogram": [
           {
            "bin_start": -0.5,
            "bin_end": -0.4,
            "count": 0
           },
           {
            "bin_start": -0.4,
            "bin_end": -0.3,
            "count": 0
           },
           {
            "bin_start": -0.3,
            "bin_end": -0.19999999999999996,
            "count": 0
           },
           {
            "bin_start": -0.19999999999999996,
            "bin_end": -0.09999999999999998,
            "count": 0
           },
           {
            "bin_start": -0.09999999999999998,
            "bin_end": 0,
            "count": 0
           },
           {
            "bin_start": 0,
            "bin_end": 0.10000000000000009,
            "count": 5
           },
           {
            "bin_start": 0.10000000000000009,
            "bin_end": 0.20000000000000007,
            "count": 0
           },
           {
            "bin_start": 0.20000000000000007,
            "bin_end": 0.30000000000000004,
            "count": 0
           },
           {
            "bin_start": 0.30000000000000004,
            "bin_end": 0.4,
            "count": 0
           },
           {
            "bin_start": 0.4,
            "bin_end": 0.5,
            "count": 0
           }
          ]
         }
        },
        {
         "name": "rsi_signal",
         "dtype": "int64",
         "stats": {
          "unique_count": 2,
          "nan_count": 0,
          "min": "0",
          "max": "1",
          "histogram": [
           {
            "bin_start": 0,
            "bin_end": 0.1,
            "count": 4
           },
           {
            "bin_start": 0.1,
            "bin_end": 0.2,
            "count": 0
           },
           {
            "bin_start": 0.2,
            "bin_end": 0.30000000000000004,
            "count": 0
           },
           {
            "bin_start": 0.30000000000000004,
            "bin_end": 0.4,
            "count": 0
           },
           {
            "bin_start": 0.4,
            "bin_end": 0.5,
            "count": 0
           },
           {
            "bin_start": 0.5,
            "bin_end": 0.6000000000000001,
            "count": 0
           },
           {
            "bin_start": 0.6000000000000001,
            "bin_end": 0.7000000000000001,
            "count": 0
           },
           {
            "bin_start": 0.7000000000000001,
            "bin_end": 0.8,
            "count": 0
           },
           {
            "bin_start": 0.8,
            "bin_end": 0.9,
            "count": 0
           },
           {
            "bin_start": 0.9,
            "bin_end": 1,
            "count": 1
           }
          ]
         }
        },
        {
         "name": "_deepnote_index_column",
         "dtype": "object"
        }
       ],
       "rows_top": [
        {
         "aroon_signal": 0,
         "macd_signal": 0,
         "rsi_signal": 0,
         "_deepnote_index_column": "2021-08-06"
        },
        {
         "aroon_signal": 0,
         "macd_signal": 0,
         "rsi_signal": 0,
         "_deepnote_index_column": "2021-08-07"
        },
        {
         "aroon_signal": 1,
         "macd_signal": 0,
         "rsi_signal": 1,
         "_deepnote_index_column": "2021-08-08"
        },
        {
         "aroon_signal": 0,
         "macd_signal": 0,
         "rsi_signal": 0,
         "_deepnote_index_column": "2021-08-09"
        },
        {
         "aroon_signal": 0,
         "macd_signal": 0,
         "rsi_signal": 0,
         "_deepnote_index_column": "2021-08-10"
        }
       ],
       "rows_bottom": null
      },
      "text/plain": "            aroon_signal  macd_signal  rsi_signal\nDate                                             \n2021-08-06             0            0           0\n2021-08-07             0            0           0\n2021-08-08             1            0           1\n2021-08-09             0            0           0\n2021-08-10             0            0           0",
      "text/html": "<div>\n<style scoped>\n    .dataframe tbody tr th:only-of-type {\n        vertical-align: middle;\n    }\n\n    .dataframe tbody tr th {\n        vertical-align: top;\n    }\n\n    .dataframe thead th {\n        text-align: right;\n    }\n</style>\n<table border=\"1\" class=\"dataframe\">\n  <thead>\n    <tr style=\"text-align: right;\">\n      <th></th>\n      <th>aroon_signal</th>\n      <th>macd_signal</th>\n      <th>rsi_signal</th>\n    </tr>\n    <tr>\n      <th>Date</th>\n      <th></th>\n      <th></th>\n      <th></th>\n    </tr>\n  </thead>\n  <tbody>\n    <tr>\n      <th>2021-08-06</th>\n      <td>0</td>\n      <td>0</td>\n      <td>0</td>\n    </tr>\n    <tr>\n      <th>2021-08-07</th>\n      <td>0</td>\n      <td>0</td>\n      <td>0</td>\n    </tr>\n    <tr>\n      <th>2021-08-08</th>\n      <td>1</td>\n      <td>0</td>\n      <td>1</td>\n    </tr>\n    <tr>\n      <th>2021-08-09</th>\n      <td>0</td>\n      <td>0</td>\n      <td>0</td>\n    </tr>\n    <tr>\n      <th>2021-08-10</th>\n      <td>0</td>\n      <td>0</td>\n      <td>0</td>\n    </tr>\n  </tbody>\n</table>\n</div>"
     },
     "metadata": {}
    }
   ],
   "execution_count": null
  },
  {
   "cell_type": "code",
   "metadata": {
    "tags": [],
    "deepnote_to_be_reexecuted": false,
    "source_hash": "e1d39214",
    "execution_start": 1629253377866,
    "execution_millis": 14,
    "cell_id": "00011-5dd17f2f-daca-47eb-b8a7-ddb235f10ee7",
    "deepnote_cell_type": "code"
   },
   "source": "# Construct the X test and y test datasets\nX_test = combined_signals_df[['aroon_signal','macd_signal','rsi_signal']][testing_start:testing_end]\ny_test = combined_signals_df['Binary Return'][testing_start:testing_end]\n\nX_test.tail()",
   "outputs": [
    {
     "output_type": "execute_result",
     "execution_count": 12,
     "data": {
      "application/vnd.deepnote.dataframe.v2+json": {
       "row_count": 5,
       "column_count": 3,
       "columns": [
        {
         "name": "aroon_signal",
         "dtype": "int64",
         "stats": {
          "unique_count": 2,
          "nan_count": 0,
          "min": "0",
          "max": "1",
          "histogram": [
           {
            "bin_start": 0,
            "bin_end": 0.1,
            "count": 4
           },
           {
            "bin_start": 0.1,
            "bin_end": 0.2,
            "count": 0
           },
           {
            "bin_start": 0.2,
            "bin_end": 0.30000000000000004,
            "count": 0
           },
           {
            "bin_start": 0.30000000000000004,
            "bin_end": 0.4,
            "count": 0
           },
           {
            "bin_start": 0.4,
            "bin_end": 0.5,
            "count": 0
           },
           {
            "bin_start": 0.5,
            "bin_end": 0.6000000000000001,
            "count": 0
           },
           {
            "bin_start": 0.6000000000000001,
            "bin_end": 0.7000000000000001,
            "count": 0
           },
           {
            "bin_start": 0.7000000000000001,
            "bin_end": 0.8,
            "count": 0
           },
           {
            "bin_start": 0.8,
            "bin_end": 0.9,
            "count": 0
           },
           {
            "bin_start": 0.9,
            "bin_end": 1,
            "count": 1
           }
          ]
         }
        },
        {
         "name": "macd_signal",
         "dtype": "int64",
         "stats": {
          "unique_count": 1,
          "nan_count": 0,
          "min": "0",
          "max": "0",
          "histogram": [
           {
            "bin_start": -0.5,
            "bin_end": -0.4,
            "count": 0
           },
           {
            "bin_start": -0.4,
            "bin_end": -0.3,
            "count": 0
           },
           {
            "bin_start": -0.3,
            "bin_end": -0.19999999999999996,
            "count": 0
           },
           {
            "bin_start": -0.19999999999999996,
            "bin_end": -0.09999999999999998,
            "count": 0
           },
           {
            "bin_start": -0.09999999999999998,
            "bin_end": 0,
            "count": 0
           },
           {
            "bin_start": 0,
            "bin_end": 0.10000000000000009,
            "count": 5
           },
           {
            "bin_start": 0.10000000000000009,
            "bin_end": 0.20000000000000007,
            "count": 0
           },
           {
            "bin_start": 0.20000000000000007,
            "bin_end": 0.30000000000000004,
            "count": 0
           },
           {
            "bin_start": 0.30000000000000004,
            "bin_end": 0.4,
            "count": 0
           },
           {
            "bin_start": 0.4,
            "bin_end": 0.5,
            "count": 0
           }
          ]
         }
        },
        {
         "name": "rsi_signal",
         "dtype": "int64",
         "stats": {
          "unique_count": 2,
          "nan_count": 0,
          "min": "0",
          "max": "1",
          "histogram": [
           {
            "bin_start": 0,
            "bin_end": 0.1,
            "count": 4
           },
           {
            "bin_start": 0.1,
            "bin_end": 0.2,
            "count": 0
           },
           {
            "bin_start": 0.2,
            "bin_end": 0.30000000000000004,
            "count": 0
           },
           {
            "bin_start": 0.30000000000000004,
            "bin_end": 0.4,
            "count": 0
           },
           {
            "bin_start": 0.4,
            "bin_end": 0.5,
            "count": 0
           },
           {
            "bin_start": 0.5,
            "bin_end": 0.6000000000000001,
            "count": 0
           },
           {
            "bin_start": 0.6000000000000001,
            "bin_end": 0.7000000000000001,
            "count": 0
           },
           {
            "bin_start": 0.7000000000000001,
            "bin_end": 0.8,
            "count": 0
           },
           {
            "bin_start": 0.8,
            "bin_end": 0.9,
            "count": 0
           },
           {
            "bin_start": 0.9,
            "bin_end": 1,
            "count": 1
           }
          ]
         }
        },
        {
         "name": "_deepnote_index_column",
         "dtype": "object"
        }
       ],
       "rows_top": [
        {
         "aroon_signal": 0,
         "macd_signal": 0,
         "rsi_signal": 0,
         "_deepnote_index_column": "2021-08-06"
        },
        {
         "aroon_signal": 0,
         "macd_signal": 0,
         "rsi_signal": 0,
         "_deepnote_index_column": "2021-08-07"
        },
        {
         "aroon_signal": 1,
         "macd_signal": 0,
         "rsi_signal": 1,
         "_deepnote_index_column": "2021-08-08"
        },
        {
         "aroon_signal": 0,
         "macd_signal": 0,
         "rsi_signal": 0,
         "_deepnote_index_column": "2021-08-09"
        },
        {
         "aroon_signal": 0,
         "macd_signal": 0,
         "rsi_signal": 0,
         "_deepnote_index_column": "2021-08-10"
        }
       ],
       "rows_bottom": null
      },
      "text/plain": "            aroon_signal  macd_signal  rsi_signal\nDate                                             \n2021-08-06             0            0           0\n2021-08-07             0            0           0\n2021-08-08             1            0           1\n2021-08-09             0            0           0\n2021-08-10             0            0           0",
      "text/html": "<div>\n<style scoped>\n    .dataframe tbody tr th:only-of-type {\n        vertical-align: middle;\n    }\n\n    .dataframe tbody tr th {\n        vertical-align: top;\n    }\n\n    .dataframe thead th {\n        text-align: right;\n    }\n</style>\n<table border=\"1\" class=\"dataframe\">\n  <thead>\n    <tr style=\"text-align: right;\">\n      <th></th>\n      <th>aroon_signal</th>\n      <th>macd_signal</th>\n      <th>rsi_signal</th>\n    </tr>\n    <tr>\n      <th>Date</th>\n      <th></th>\n      <th></th>\n      <th></th>\n    </tr>\n  </thead>\n  <tbody>\n    <tr>\n      <th>2021-08-06</th>\n      <td>0</td>\n      <td>0</td>\n      <td>0</td>\n    </tr>\n    <tr>\n      <th>2021-08-07</th>\n      <td>0</td>\n      <td>0</td>\n      <td>0</td>\n    </tr>\n    <tr>\n      <th>2021-08-08</th>\n      <td>1</td>\n      <td>0</td>\n      <td>1</td>\n    </tr>\n    <tr>\n      <th>2021-08-09</th>\n      <td>0</td>\n      <td>0</td>\n      <td>0</td>\n    </tr>\n    <tr>\n      <th>2021-08-10</th>\n      <td>0</td>\n      <td>0</td>\n      <td>0</td>\n    </tr>\n  </tbody>\n</table>\n</div>"
     },
     "metadata": {}
    }
   ],
   "execution_count": null
  },
  {
   "cell_type": "code",
   "metadata": {
    "tags": [],
    "deepnote_to_be_reexecuted": false,
    "source_hash": "c6082dc1",
    "execution_start": 1629253377875,
    "execution_millis": 261,
    "cell_id": "00012-831345be-ee6e-480a-8b33-98947b5d9d89",
    "deepnote_cell_type": "code"
   },
   "source": "# Fit a SKLearn linear regression using just the training set (X_train, Y_train):\nmodel = RandomForestClassifier(n_estimators=100, max_depth=3, random_state=0)\nmodel.fit(X_train, y_train)\n\n# Make a prediction of \"y\" values from the X_test dataset\npredictions = model.predict(X_test)\n\n# Assemble actual y data (Y_test) with predicted y data (from just above) into two columns in a dataframe:\nResults = y_test.to_frame()\nResults[\"Predicted Value\"] = predictions\nResults",
   "outputs": [
    {
     "output_type": "execute_result",
     "execution_count": 13,
     "data": {
      "application/vnd.deepnote.dataframe.v2+json": {
       "row_count": 705,
       "column_count": 2,
       "columns": [
        {
         "name": "Binary Return",
         "dtype": "int64",
         "stats": {
          "unique_count": 2,
          "nan_count": 0,
          "min": "0",
          "max": "1",
          "histogram": [
           {
            "bin_start": 0,
            "bin_end": 0.1,
            "count": 341
           },
           {
            "bin_start": 0.1,
            "bin_end": 0.2,
            "count": 0
           },
           {
            "bin_start": 0.2,
            "bin_end": 0.30000000000000004,
            "count": 0
           },
           {
            "bin_start": 0.30000000000000004,
            "bin_end": 0.4,
            "count": 0
           },
           {
            "bin_start": 0.4,
            "bin_end": 0.5,
            "count": 0
           },
           {
            "bin_start": 0.5,
            "bin_end": 0.6000000000000001,
            "count": 0
           },
           {
            "bin_start": 0.6000000000000001,
            "bin_end": 0.7000000000000001,
            "count": 0
           },
           {
            "bin_start": 0.7000000000000001,
            "bin_end": 0.8,
            "count": 0
           },
           {
            "bin_start": 0.8,
            "bin_end": 0.9,
            "count": 0
           },
           {
            "bin_start": 0.9,
            "bin_end": 1,
            "count": 364
           }
          ]
         }
        },
        {
         "name": "Predicted Value",
         "dtype": "int64",
         "stats": {
          "unique_count": 2,
          "nan_count": 0,
          "min": "0",
          "max": "1",
          "histogram": [
           {
            "bin_start": 0,
            "bin_end": 0.1,
            "count": 31
           },
           {
            "bin_start": 0.1,
            "bin_end": 0.2,
            "count": 0
           },
           {
            "bin_start": 0.2,
            "bin_end": 0.30000000000000004,
            "count": 0
           },
           {
            "bin_start": 0.30000000000000004,
            "bin_end": 0.4,
            "count": 0
           },
           {
            "bin_start": 0.4,
            "bin_end": 0.5,
            "count": 0
           },
           {
            "bin_start": 0.5,
            "bin_end": 0.6000000000000001,
            "count": 0
           },
           {
            "bin_start": 0.6000000000000001,
            "bin_end": 0.7000000000000001,
            "count": 0
           },
           {
            "bin_start": 0.7000000000000001,
            "bin_end": 0.8,
            "count": 0
           },
           {
            "bin_start": 0.8,
            "bin_end": 0.9,
            "count": 0
           },
           {
            "bin_start": 0.9,
            "bin_end": 1,
            "count": 674
           }
          ]
         }
        },
        {
         "name": "_deepnote_index_column",
         "dtype": "object"
        }
       ],
       "rows_top": [
        {
         "Binary Return": 1,
         "Predicted Value": 1,
         "_deepnote_index_column": "2019-09-02"
        },
        {
         "Binary Return": 1,
         "Predicted Value": 1,
         "_deepnote_index_column": "2019-09-03"
        },
        {
         "Binary Return": 0,
         "Predicted Value": 1,
         "_deepnote_index_column": "2019-09-04"
        },
        {
         "Binary Return": 0,
         "Predicted Value": 1,
         "_deepnote_index_column": "2019-09-05"
        },
        {
         "Binary Return": 0,
         "Predicted Value": 1,
         "_deepnote_index_column": "2019-09-06"
        },
        {
         "Binary Return": 1,
         "Predicted Value": 1,
         "_deepnote_index_column": "2019-09-07"
        },
        {
         "Binary Return": 1,
         "Predicted Value": 1,
         "_deepnote_index_column": "2019-09-08"
        },
        {
         "Binary Return": 0,
         "Predicted Value": 0,
         "_deepnote_index_column": "2019-09-09"
        },
        {
         "Binary Return": 0,
         "Predicted Value": 1,
         "_deepnote_index_column": "2019-09-10"
        },
        {
         "Binary Return": 0,
         "Predicted Value": 1,
         "_deepnote_index_column": "2019-09-11"
        },
        {
         "Binary Return": 0,
         "Predicted Value": 1,
         "_deepnote_index_column": "2019-09-12"
        },
        {
         "Binary Return": 1,
         "Predicted Value": 1,
         "_deepnote_index_column": "2019-09-13"
        },
        {
         "Binary Return": 1,
         "Predicted Value": 1,
         "_deepnote_index_column": "2019-09-14"
        },
        {
         "Binary Return": 1,
         "Predicted Value": 1,
         "_deepnote_index_column": "2019-09-15"
        },
        {
         "Binary Return": 0,
         "Predicted Value": 0,
         "_deepnote_index_column": "2019-09-16"
        },
        {
         "Binary Return": 1,
         "Predicted Value": 1,
         "_deepnote_index_column": "2019-09-17"
        },
        {
         "Binary Return": 1,
         "Predicted Value": 1,
         "_deepnote_index_column": "2019-09-18"
        },
        {
         "Binary Return": 0,
         "Predicted Value": 1,
         "_deepnote_index_column": "2019-09-19"
        },
        {
         "Binary Return": 0,
         "Predicted Value": 1,
         "_deepnote_index_column": "2019-09-20"
        },
        {
         "Binary Return": 0,
         "Predicted Value": 1,
         "_deepnote_index_column": "2019-09-21"
        },
        {
         "Binary Return": 0,
         "Predicted Value": 1,
         "_deepnote_index_column": "2019-09-22"
        },
        {
         "Binary Return": 0,
         "Predicted Value": 1,
         "_deepnote_index_column": "2019-09-23"
        },
        {
         "Binary Return": 0,
         "Predicted Value": 1,
         "_deepnote_index_column": "2019-09-24"
        },
        {
         "Binary Return": 1,
         "Predicted Value": 1,
         "_deepnote_index_column": "2019-09-25"
        },
        {
         "Binary Return": 0,
         "Predicted Value": 1,
         "_deepnote_index_column": "2019-09-26"
        },
        {
         "Binary Return": 1,
         "Predicted Value": 1,
         "_deepnote_index_column": "2019-09-27"
        },
        {
         "Binary Return": 0,
         "Predicted Value": 1,
         "_deepnote_index_column": "2019-09-28"
        },
        {
         "Binary Return": 0,
         "Predicted Value": 1,
         "_deepnote_index_column": "2019-09-29"
        },
        {
         "Binary Return": 1,
         "Predicted Value": 1,
         "_deepnote_index_column": "2019-09-30"
        },
        {
         "Binary Return": 0,
         "Predicted Value": 1,
         "_deepnote_index_column": "2019-10-01"
        },
        {
         "Binary Return": 1,
         "Predicted Value": 1,
         "_deepnote_index_column": "2019-10-02"
        },
        {
         "Binary Return": 0,
         "Predicted Value": 1,
         "_deepnote_index_column": "2019-10-03"
        },
        {
         "Binary Return": 1,
         "Predicted Value": 1,
         "_deepnote_index_column": "2019-10-04"
        },
        {
         "Binary Return": 0,
         "Predicted Value": 1,
         "_deepnote_index_column": "2019-10-05"
        },
        {
         "Binary Return": 1,
         "Predicted Value": 1,
         "_deepnote_index_column": "2019-10-06"
        },
        {
         "Binary Return": 1,
         "Predicted Value": 1,
         "_deepnote_index_column": "2019-10-07"
        },
        {
         "Binary Return": 1,
         "Predicted Value": 0,
         "_deepnote_index_column": "2019-10-08"
        },
        {
         "Binary Return": 1,
         "Predicted Value": 1,
         "_deepnote_index_column": "2019-10-09"
        },
        {
         "Binary Return": 0,
         "Predicted Value": 1,
         "_deepnote_index_column": "2019-10-10"
        },
        {
         "Binary Return": 0,
         "Predicted Value": 1,
         "_deepnote_index_column": "2019-10-11"
        },
        {
         "Binary Return": 1,
         "Predicted Value": 1,
         "_deepnote_index_column": "2019-10-12"
        },
        {
         "Binary Return": 1,
         "Predicted Value": 1,
         "_deepnote_index_column": "2019-10-13"
        },
        {
         "Binary Return": 1,
         "Predicted Value": 1,
         "_deepnote_index_column": "2019-10-14"
        },
        {
         "Binary Return": 0,
         "Predicted Value": 0,
         "_deepnote_index_column": "2019-10-15"
        },
        {
         "Binary Return": 0,
         "Predicted Value": 1,
         "_deepnote_index_column": "2019-10-16"
        },
        {
         "Binary Return": 1,
         "Predicted Value": 1,
         "_deepnote_index_column": "2019-10-17"
        },
        {
         "Binary Return": 0,
         "Predicted Value": 1,
         "_deepnote_index_column": "2019-10-18"
        },
        {
         "Binary Return": 0,
         "Predicted Value": 1,
         "_deepnote_index_column": "2019-10-19"
        },
        {
         "Binary Return": 1,
         "Predicted Value": 1,
         "_deepnote_index_column": "2019-10-20"
        },
        {
         "Binary Return": 0,
         "Predicted Value": 1,
         "_deepnote_index_column": "2019-10-21"
        },
        {
         "Binary Return": 0,
         "Predicted Value": 1,
         "_deepnote_index_column": "2019-10-22"
        },
        {
         "Binary Return": 0,
         "Predicted Value": 1,
         "_deepnote_index_column": "2019-10-23"
        },
        {
         "Binary Return": 1,
         "Predicted Value": 1,
         "_deepnote_index_column": "2019-10-24"
        },
        {
         "Binary Return": 1,
         "Predicted Value": 1,
         "_deepnote_index_column": "2019-10-25"
        },
        {
         "Binary Return": 0,
         "Predicted Value": 1,
         "_deepnote_index_column": "2019-10-26"
        },
        {
         "Binary Return": 1,
         "Predicted Value": 1,
         "_deepnote_index_column": "2019-10-27"
        },
        {
         "Binary Return": 0,
         "Predicted Value": 0,
         "_deepnote_index_column": "2019-10-28"
        },
        {
         "Binary Return": 1,
         "Predicted Value": 1,
         "_deepnote_index_column": "2019-10-29"
        },
        {
         "Binary Return": 0,
         "Predicted Value": 1,
         "_deepnote_index_column": "2019-10-30"
        },
        {
         "Binary Return": 0,
         "Predicted Value": 1,
         "_deepnote_index_column": "2019-10-31"
        },
        {
         "Binary Return": 0,
         "Predicted Value": 1,
         "_deepnote_index_column": "2019-11-01"
        },
        {
         "Binary Return": 1,
         "Predicted Value": 1,
         "_deepnote_index_column": "2019-11-02"
        },
        {
         "Binary Return": 0,
         "Predicted Value": 1,
         "_deepnote_index_column": "2019-11-03"
        },
        {
         "Binary Return": 1,
         "Predicted Value": 1,
         "_deepnote_index_column": "2019-11-04"
        },
        {
         "Binary Return": 1,
         "Predicted Value": 1,
         "_deepnote_index_column": "2019-11-05"
        },
        {
         "Binary Return": 1,
         "Predicted Value": 1,
         "_deepnote_index_column": "2019-11-06"
        },
        {
         "Binary Return": 0,
         "Predicted Value": 0,
         "_deepnote_index_column": "2019-11-07"
        },
        {
         "Binary Return": 0,
         "Predicted Value": 1,
         "_deepnote_index_column": "2019-11-08"
        },
        {
         "Binary Return": 1,
         "Predicted Value": 1,
         "_deepnote_index_column": "2019-11-09"
        },
        {
         "Binary Return": 1,
         "Predicted Value": 1,
         "_deepnote_index_column": "2019-11-10"
        },
        {
         "Binary Return": 0,
         "Predicted Value": 1,
         "_deepnote_index_column": "2019-11-11"
        },
        {
         "Binary Return": 0,
         "Predicted Value": 1,
         "_deepnote_index_column": "2019-11-12"
        },
        {
         "Binary Return": 1,
         "Predicted Value": 1,
         "_deepnote_index_column": "2019-11-13"
        },
        {
         "Binary Return": 0,
         "Predicted Value": 1,
         "_deepnote_index_column": "2019-11-14"
        },
        {
         "Binary Return": 0,
         "Predicted Value": 1,
         "_deepnote_index_column": "2019-11-15"
        },
        {
         "Binary Return": 1,
         "Predicted Value": 1,
         "_deepnote_index_column": "2019-11-16"
        },
        {
         "Binary Return": 1,
         "Predicted Value": 1,
         "_deepnote_index_column": "2019-11-17"
        },
        {
         "Binary Return": 0,
         "Predicted Value": 1,
         "_deepnote_index_column": "2019-11-18"
        },
        {
         "Binary Return": 1,
         "Predicted Value": 1,
         "_deepnote_index_column": "2019-11-19"
        },
        {
         "Binary Return": 0,
         "Predicted Value": 1,
         "_deepnote_index_column": "2019-11-20"
        },
        {
         "Binary Return": 0,
         "Predicted Value": 1,
         "_deepnote_index_column": "2019-11-21"
        },
        {
         "Binary Return": 0,
         "Predicted Value": 1,
         "_deepnote_index_column": "2019-11-22"
        },
        {
         "Binary Return": 1,
         "Predicted Value": 1,
         "_deepnote_index_column": "2019-11-23"
        },
        {
         "Binary Return": 0,
         "Predicted Value": 1,
         "_deepnote_index_column": "2019-11-24"
        },
        {
         "Binary Return": 0,
         "Predicted Value": 1,
         "_deepnote_index_column": "2019-11-25"
        },
        {
         "Binary Return": 1,
         "Predicted Value": 1,
         "_deepnote_index_column": "2019-11-26"
        },
        {
         "Binary Return": 1,
         "Predicted Value": 1,
         "_deepnote_index_column": "2019-11-27"
        },
        {
         "Binary Return": 0,
         "Predicted Value": 1,
         "_deepnote_index_column": "2019-11-28"
        },
        {
         "Binary Return": 1,
         "Predicted Value": 1,
         "_deepnote_index_column": "2019-11-29"
        },
        {
         "Binary Return": 0,
         "Predicted Value": 1,
         "_deepnote_index_column": "2019-11-30"
        },
        {
         "Binary Return": 0,
         "Predicted Value": 1,
         "_deepnote_index_column": "2019-12-01"
        },
        {
         "Binary Return": 0,
         "Predicted Value": 1,
         "_deepnote_index_column": "2019-12-02"
        },
        {
         "Binary Return": 1,
         "Predicted Value": 1,
         "_deepnote_index_column": "2019-12-03"
        },
        {
         "Binary Return": 0,
         "Predicted Value": 1,
         "_deepnote_index_column": "2019-12-04"
        },
        {
         "Binary Return": 1,
         "Predicted Value": 1,
         "_deepnote_index_column": "2019-12-05"
        },
        {
         "Binary Return": 1,
         "Predicted Value": 0,
         "_deepnote_index_column": "2019-12-06"
        },
        {
         "Binary Return": 1,
         "Predicted Value": 1,
         "_deepnote_index_column": "2019-12-07"
        },
        {
         "Binary Return": 1,
         "Predicted Value": 1,
         "_deepnote_index_column": "2019-12-08"
        },
        {
         "Binary Return": 0,
         "Predicted Value": 1,
         "_deepnote_index_column": "2019-12-09"
        },
        {
         "Binary Return": 0,
         "Predicted Value": 1,
         "_deepnote_index_column": "2019-12-10"
        },
        {
         "Binary Return": 0,
         "Predicted Value": 1,
         "_deepnote_index_column": "2019-12-11"
        },
        {
         "Binary Return": 0,
         "Predicted Value": 1,
         "_deepnote_index_column": "2019-12-12"
        },
        {
         "Binary Return": 1,
         "Predicted Value": 1,
         "_deepnote_index_column": "2019-12-13"
        },
        {
         "Binary Return": 0,
         "Predicted Value": 1,
         "_deepnote_index_column": "2019-12-14"
        },
        {
         "Binary Return": 1,
         "Predicted Value": 1,
         "_deepnote_index_column": "2019-12-15"
        },
        {
         "Binary Return": 0,
         "Predicted Value": 1,
         "_deepnote_index_column": "2019-12-16"
        },
        {
         "Binary Return": 0,
         "Predicted Value": 1,
         "_deepnote_index_column": "2019-12-17"
        },
        {
         "Binary Return": 1,
         "Predicted Value": 1,
         "_deepnote_index_column": "2019-12-18"
        },
        {
         "Binary Return": 0,
         "Predicted Value": 1,
         "_deepnote_index_column": "2019-12-19"
        },
        {
         "Binary Return": 1,
         "Predicted Value": 1,
         "_deepnote_index_column": "2019-12-20"
        },
        {
         "Binary Return": 0,
         "Predicted Value": 1,
         "_deepnote_index_column": "2019-12-21"
        },
        {
         "Binary Return": 1,
         "Predicted Value": 1,
         "_deepnote_index_column": "2019-12-22"
        },
        {
         "Binary Return": 0,
         "Predicted Value": 1,
         "_deepnote_index_column": "2019-12-23"
        },
        {
         "Binary Return": 1,
         "Predicted Value": 1,
         "_deepnote_index_column": "2019-12-24"
        },
        {
         "Binary Return": 0,
         "Predicted Value": 1,
         "_deepnote_index_column": "2019-12-25"
        },
        {
         "Binary Return": 0,
         "Predicted Value": 1,
         "_deepnote_index_column": "2019-12-26"
        },
        {
         "Binary Return": 1,
         "Predicted Value": 0,
         "_deepnote_index_column": "2019-12-27"
        },
        {
         "Binary Return": 1,
         "Predicted Value": 1,
         "_deepnote_index_column": "2019-12-28"
        },
        {
         "Binary Return": 1,
         "Predicted Value": 1,
         "_deepnote_index_column": "2019-12-29"
        },
        {
         "Binary Return": 0,
         "Predicted Value": 1,
         "_deepnote_index_column": "2019-12-30"
        },
        {
         "Binary Return": 0,
         "Predicted Value": 1,
         "_deepnote_index_column": "2019-12-31"
        },
        {
         "Binary Return": 0,
         "Predicted Value": 1,
         "_deepnote_index_column": "2020-01-01"
        },
        {
         "Binary Return": 0,
         "Predicted Value": 1,
         "_deepnote_index_column": "2020-01-02"
        },
        {
         "Binary Return": 1,
         "Predicted Value": 1,
         "_deepnote_index_column": "2020-01-03"
        },
        {
         "Binary Return": 1,
         "Predicted Value": 1,
         "_deepnote_index_column": "2020-01-04"
        },
        {
         "Binary Return": 1,
         "Predicted Value": 1,
         "_deepnote_index_column": "2020-01-05"
        },
        {
         "Binary Return": 1,
         "Predicted Value": 1,
         "_deepnote_index_column": "2020-01-06"
        },
        {
         "Binary Return": 0,
         "Predicted Value": 0,
         "_deepnote_index_column": "2020-01-07"
        },
        {
         "Binary Return": 0,
         "Predicted Value": 1,
         "_deepnote_index_column": "2020-01-08"
        },
        {
         "Binary Return": 0,
         "Predicted Value": 1,
         "_deepnote_index_column": "2020-01-09"
        },
        {
         "Binary Return": 1,
         "Predicted Value": 1,
         "_deepnote_index_column": "2020-01-10"
        },
        {
         "Binary Return": 0,
         "Predicted Value": 1,
         "_deepnote_index_column": "2020-01-11"
        },
        {
         "Binary Return": 1,
         "Predicted Value": 1,
         "_deepnote_index_column": "2020-01-12"
        },
        {
         "Binary Return": 0,
         "Predicted Value": 1,
         "_deepnote_index_column": "2020-01-13"
        },
        {
         "Binary Return": 1,
         "Predicted Value": 1,
         "_deepnote_index_column": "2020-01-14"
        },
        {
         "Binary Return": 0,
         "Predicted Value": 1,
         "_deepnote_index_column": "2020-01-15"
        },
        {
         "Binary Return": 0,
         "Predicted Value": 1,
         "_deepnote_index_column": "2020-01-16"
        },
        {
         "Binary Return": 1,
         "Predicted Value": 1,
         "_deepnote_index_column": "2020-01-17"
        },
        {
         "Binary Return": 1,
         "Predicted Value": 1,
         "_deepnote_index_column": "2020-01-18"
        },
        {
         "Binary Return": 0,
         "Predicted Value": 1,
         "_deepnote_index_column": "2020-01-19"
        },
        {
         "Binary Return": 0,
         "Predicted Value": 1,
         "_deepnote_index_column": "2020-01-20"
        },
        {
         "Binary Return": 1,
         "Predicted Value": 1,
         "_deepnote_index_column": "2020-01-21"
        },
        {
         "Binary Return": 0,
         "Predicted Value": 1,
         "_deepnote_index_column": "2020-01-22"
        },
        {
         "Binary Return": 0,
         "Predicted Value": 1,
         "_deepnote_index_column": "2020-01-23"
        },
        {
         "Binary Return": 0,
         "Predicted Value": 1,
         "_deepnote_index_column": "2020-01-24"
        },
        {
         "Binary Return": 0,
         "Predicted Value": 1,
         "_deepnote_index_column": "2020-01-25"
        },
        {
         "Binary Return": 1,
         "Predicted Value": 1,
         "_deepnote_index_column": "2020-01-26"
        },
        {
         "Binary Return": 1,
         "Predicted Value": 1,
         "_deepnote_index_column": "2020-01-27"
        },
        {
         "Binary Return": 1,
         "Predicted Value": 1,
         "_deepnote_index_column": "2020-01-28"
        },
        {
         "Binary Return": 0,
         "Predicted Value": 1,
         "_deepnote_index_column": "2020-01-29"
        },
        {
         "Binary Return": 1,
         "Predicted Value": 1,
         "_deepnote_index_column": "2020-01-30"
        },
        {
         "Binary Return": 0,
         "Predicted Value": 0,
         "_deepnote_index_column": "2020-01-31"
        },
        {
         "Binary Return": 1,
         "Predicted Value": 1,
         "_deepnote_index_column": "2020-02-01"
        },
        {
         "Binary Return": 1,
         "Predicted Value": 1,
         "_deepnote_index_column": "2020-02-02"
        },
        {
         "Binary Return": 1,
         "Predicted Value": 1,
         "_deepnote_index_column": "2020-02-03"
        },
        {
         "Binary Return": 1,
         "Predicted Value": 1,
         "_deepnote_index_column": "2020-02-04"
        },
        {
         "Binary Return": 1,
         "Predicted Value": 1,
         "_deepnote_index_column": "2020-02-05"
        },
        {
         "Binary Return": 1,
         "Predicted Value": 1,
         "_deepnote_index_column": "2020-02-06"
        },
        {
         "Binary Return": 0,
         "Predicted Value": 1,
         "_deepnote_index_column": "2020-02-07"
        },
        {
         "Binary Return": 0,
         "Predicted Value": 1,
         "_deepnote_index_column": "2020-02-08"
        },
        {
         "Binary Return": 1,
         "Predicted Value": 1,
         "_deepnote_index_column": "2020-02-09"
        },
        {
         "Binary Return": 0,
         "Predicted Value": 1,
         "_deepnote_index_column": "2020-02-10"
        },
        {
         "Binary Return": 1,
         "Predicted Value": 1,
         "_deepnote_index_column": "2020-02-11"
        },
        {
         "Binary Return": 1,
         "Predicted Value": 1,
         "_deepnote_index_column": "2020-02-12"
        },
        {
         "Binary Return": 1,
         "Predicted Value": 1,
         "_deepnote_index_column": "2020-02-13"
        },
        {
         "Binary Return": 1,
         "Predicted Value": 1,
         "_deepnote_index_column": "2020-02-14"
        },
        {
         "Binary Return": 0,
         "Predicted Value": 1,
         "_deepnote_index_column": "2020-02-15"
        },
        {
         "Binary Return": 0,
         "Predicted Value": 1,
         "_deepnote_index_column": "2020-02-16"
        },
        {
         "Binary Return": 0,
         "Predicted Value": 1,
         "_deepnote_index_column": "2020-02-17"
        },
        {
         "Binary Return": 1,
         "Predicted Value": 1,
         "_deepnote_index_column": "2020-02-18"
        },
        {
         "Binary Return": 0,
         "Predicted Value": 1,
         "_deepnote_index_column": "2020-02-19"
        },
        {
         "Binary Return": 0,
         "Predicted Value": 1,
         "_deepnote_index_column": "2020-02-20"
        },
        {
         "Binary Return": 1,
         "Predicted Value": 1,
         "_deepnote_index_column": "2020-02-21"
        },
        {
         "Binary Return": 1,
         "Predicted Value": 1,
         "_deepnote_index_column": "2020-02-22"
        },
        {
         "Binary Return": 1,
         "Predicted Value": 1,
         "_deepnote_index_column": "2020-02-23"
        },
        {
         "Binary Return": 0,
         "Predicted Value": 1,
         "_deepnote_index_column": "2020-02-24"
        },
        {
         "Binary Return": 0,
         "Predicted Value": 1,
         "_deepnote_index_column": "2020-02-25"
        },
        {
         "Binary Return": 0,
         "Predicted Value": 1,
         "_deepnote_index_column": "2020-02-26"
        },
        {
         "Binary Return": 1,
         "Predicted Value": 1,
         "_deepnote_index_column": "2020-02-27"
        },
        {
         "Binary Return": 0,
         "Predicted Value": 1,
         "_deepnote_index_column": "2020-02-28"
        },
        {
         "Binary Return": 0,
         "Predicted Value": 1,
         "_deepnote_index_column": "2020-02-29"
        },
        {
         "Binary Return": 0,
         "Predicted Value": 1,
         "_deepnote_index_column": "2020-03-01"
        },
        {
         "Binary Return": 1,
         "Predicted Value": 1,
         "_deepnote_index_column": "2020-03-02"
        },
        {
         "Binary Return": 0,
         "Predicted Value": 1,
         "_deepnote_index_column": "2020-03-03"
        },
        {
         "Binary Return": 1,
         "Predicted Value": 1,
         "_deepnote_index_column": "2020-03-04"
        },
        {
         "Binary Return": 1,
         "Predicted Value": 1,
         "_deepnote_index_column": "2020-03-05"
        },
        {
         "Binary Return": 1,
         "Predicted Value": 1,
         "_deepnote_index_column": "2020-03-06"
        },
        {
         "Binary Return": 0,
         "Predicted Value": 1,
         "_deepnote_index_column": "2020-03-07"
        },
        {
         "Binary Return": 0,
         "Predicted Value": 1,
         "_deepnote_index_column": "2020-03-08"
        },
        {
         "Binary Return": 1,
         "Predicted Value": 1,
         "_deepnote_index_column": "2020-03-09"
        },
        {
         "Binary Return": 1,
         "Predicted Value": 1,
         "_deepnote_index_column": "2020-03-10"
        },
        {
         "Binary Return": 0,
         "Predicted Value": 1,
         "_deepnote_index_column": "2020-03-11"
        },
        {
         "Binary Return": 0,
         "Predicted Value": 1,
         "_deepnote_index_column": "2020-03-12"
        },
        {
         "Binary Return": 1,
         "Predicted Value": 1,
         "_deepnote_index_column": "2020-03-13"
        },
        {
         "Binary Return": 0,
         "Predicted Value": 1,
         "_deepnote_index_column": "2020-03-14"
        },
        {
         "Binary Return": 1,
         "Predicted Value": 1,
         "_deepnote_index_column": "2020-03-15"
        },
        {
         "Binary Return": 0,
         "Predicted Value": 1,
         "_deepnote_index_column": "2020-03-16"
        },
        {
         "Binary Return": 1,
         "Predicted Value": 1,
         "_deepnote_index_column": "2020-03-17"
        },
        {
         "Binary Return": 0,
         "Predicted Value": 1,
         "_deepnote_index_column": "2020-03-18"
        },
        {
         "Binary Return": 1,
         "Predicted Value": 1,
         "_deepnote_index_column": "2020-03-19"
        },
        {
         "Binary Return": 0,
         "Predicted Value": 1,
         "_deepnote_index_column": "2020-03-20"
        },
        {
         "Binary Return": 1,
         "Predicted Value": 1,
         "_deepnote_index_column": "2020-03-21"
        },
        {
         "Binary Return": 0,
         "Predicted Value": 1,
         "_deepnote_index_column": "2020-03-22"
        },
        {
         "Binary Return": 1,
         "Predicted Value": 0,
         "_deepnote_index_column": "2020-03-23"
        },
        {
         "Binary Return": 1,
         "Predicted Value": 1,
         "_deepnote_index_column": "2020-03-24"
        },
        {
         "Binary Return": 0,
         "Predicted Value": 1,
         "_deepnote_index_column": "2020-03-25"
        },
        {
         "Binary Return": 1,
         "Predicted Value": 1,
         "_deepnote_index_column": "2020-03-26"
        },
        {
         "Binary Return": 1,
         "Predicted Value": 1,
         "_deepnote_index_column": "2020-03-27"
        },
        {
         "Binary Return": 0,
         "Predicted Value": 1,
         "_deepnote_index_column": "2020-03-28"
        },
        {
         "Binary Return": 0,
         "Predicted Value": 1,
         "_deepnote_index_column": "2020-03-29"
        },
        {
         "Binary Return": 1,
         "Predicted Value": 1,
         "_deepnote_index_column": "2020-03-30"
        },
        {
         "Binary Return": 1,
         "Predicted Value": 1,
         "_deepnote_index_column": "2020-03-31"
        },
        {
         "Binary Return": 1,
         "Predicted Value": 1,
         "_deepnote_index_column": "2020-04-01"
        },
        {
         "Binary Return": 1,
         "Predicted Value": 1,
         "_deepnote_index_column": "2020-04-02"
        },
        {
         "Binary Return": 1,
         "Predicted Value": 1,
         "_deepnote_index_column": "2020-04-03"
        },
        {
         "Binary Return": 1,
         "Predicted Value": 1,
         "_deepnote_index_column": "2020-04-04"
        },
        {
         "Binary Return": 0,
         "Predicted Value": 1,
         "_deepnote_index_column": "2020-04-05"
        },
        {
         "Binary Return": 1,
         "Predicted Value": 0,
         "_deepnote_index_column": "2020-04-06"
        },
        {
         "Binary Return": 0,
         "Predicted Value": 1,
         "_deepnote_index_column": "2020-04-07"
        },
        {
         "Binary Return": 1,
         "Predicted Value": 1,
         "_deepnote_index_column": "2020-04-08"
        },
        {
         "Binary Return": 0,
         "Predicted Value": 1,
         "_deepnote_index_column": "2020-04-09"
        },
        {
         "Binary Return": 0,
         "Predicted Value": 1,
         "_deepnote_index_column": "2020-04-10"
        },
        {
         "Binary Return": 1,
         "Predicted Value": 1,
         "_deepnote_index_column": "2020-04-11"
        },
        {
         "Binary Return": 1,
         "Predicted Value": 1,
         "_deepnote_index_column": "2020-04-12"
        },
        {
         "Binary Return": 0,
         "Predicted Value": 1,
         "_deepnote_index_column": "2020-04-13"
        },
        {
         "Binary Return": 0,
         "Predicted Value": 1,
         "_deepnote_index_column": "2020-04-14"
        },
        {
         "Binary Return": 0,
         "Predicted Value": 1,
         "_deepnote_index_column": "2020-04-15"
        },
        {
         "Binary Return": 1,
         "Predicted Value": 1,
         "_deepnote_index_column": "2020-04-16"
        },
        {
         "Binary Return": 1,
         "Predicted Value": 1,
         "_deepnote_index_column": "2020-04-18"
        },
        {
         "Binary Return": 0,
         "Predicted Value": 1,
         "_deepnote_index_column": "2020-04-19"
        },
        {
         "Binary Return": 0,
         "Predicted Value": 1,
         "_deepnote_index_column": "2020-04-20"
        },
        {
         "Binary Return": 1,
         "Predicted Value": 1,
         "_deepnote_index_column": "2020-04-21"
        },
        {
         "Binary Return": 1,
         "Predicted Value": 1,
         "_deepnote_index_column": "2020-04-22"
        },
        {
         "Binary Return": 1,
         "Predicted Value": 1,
         "_deepnote_index_column": "2020-04-23"
        },
        {
         "Binary Return": 1,
         "Predicted Value": 1,
         "_deepnote_index_column": "2020-04-24"
        },
        {
         "Binary Return": 1,
         "Predicted Value": 1,
         "_deepnote_index_column": "2020-04-25"
        },
        {
         "Binary Return": 1,
         "Predicted Value": 1,
         "_deepnote_index_column": "2020-04-26"
        },
        {
         "Binary Return": 1,
         "Predicted Value": 1,
         "_deepnote_index_column": "2020-04-27"
        },
        {
         "Binary Return": 1,
         "Predicted Value": 1,
         "_deepnote_index_column": "2020-04-28"
        },
        {
         "Binary Return": 1,
         "Predicted Value": 1,
         "_deepnote_index_column": "2020-04-29"
        },
        {
         "Binary Return": 0,
         "Predicted Value": 1,
         "_deepnote_index_column": "2020-04-30"
        },
        {
         "Binary Return": 1,
         "Predicted Value": 1,
         "_deepnote_index_column": "2020-05-01"
        },
        {
         "Binary Return": 1,
         "Predicted Value": 1,
         "_deepnote_index_column": "2020-05-02"
        },
        {
         "Binary Return": 0,
         "Predicted Value": 1,
         "_deepnote_index_column": "2020-05-03"
        },
        {
         "Binary Return": 0,
         "Predicted Value": 1,
         "_deepnote_index_column": "2020-05-04"
        },
        {
         "Binary Return": 0,
         "Predicted Value": 1,
         "_deepnote_index_column": "2020-05-05"
        },
        {
         "Binary Return": 0,
         "Predicted Value": 1,
         "_deepnote_index_column": "2020-05-06"
        },
        {
         "Binary Return": 1,
         "Predicted Value": 1,
         "_deepnote_index_column": "2020-05-07"
        },
        {
         "Binary Return": 1,
         "Predicted Value": 1,
         "_deepnote_index_column": "2020-05-08"
        },
        {
         "Binary Return": 0,
         "Predicted Value": 1,
         "_deepnote_index_column": "2020-05-09"
        }
       ],
       "rows_bottom": [
        {
         "Binary Return": 0,
         "Predicted Value": 1,
         "_deepnote_index_column": "2020-12-04"
        },
        {
         "Binary Return": 1,
         "Predicted Value": 1,
         "_deepnote_index_column": "2020-12-05"
        },
        {
         "Binary Return": 1,
         "Predicted Value": 1,
         "_deepnote_index_column": "2020-12-06"
        },
        {
         "Binary Return": 0,
         "Predicted Value": 1,
         "_deepnote_index_column": "2020-12-07"
        },
        {
         "Binary Return": 0,
         "Predicted Value": 1,
         "_deepnote_index_column": "2020-12-08"
        },
        {
         "Binary Return": 1,
         "Predicted Value": 1,
         "_deepnote_index_column": "2020-12-09"
        },
        {
         "Binary Return": 0,
         "Predicted Value": 1,
         "_deepnote_index_column": "2020-12-10"
        },
        {
         "Binary Return": 0,
         "Predicted Value": 1,
         "_deepnote_index_column": "2020-12-11"
        },
        {
         "Binary Return": 0,
         "Predicted Value": 1,
         "_deepnote_index_column": "2020-12-12"
        },
        {
         "Binary Return": 1,
         "Predicted Value": 1,
         "_deepnote_index_column": "2020-12-13"
        },
        {
         "Binary Return": 0,
         "Predicted Value": 1,
         "_deepnote_index_column": "2020-12-14"
        },
        {
         "Binary Return": 0,
         "Predicted Value": 1,
         "_deepnote_index_column": "2020-12-15"
        },
        {
         "Binary Return": 1,
         "Predicted Value": 1,
         "_deepnote_index_column": "2020-12-16"
        },
        {
         "Binary Return": 1,
         "Predicted Value": 1,
         "_deepnote_index_column": "2020-12-17"
        },
        {
         "Binary Return": 1,
         "Predicted Value": 1,
         "_deepnote_index_column": "2020-12-18"
        },
        {
         "Binary Return": 0,
         "Predicted Value": 1,
         "_deepnote_index_column": "2020-12-19"
        },
        {
         "Binary Return": 0,
         "Predicted Value": 1,
         "_deepnote_index_column": "2020-12-20"
        },
        {
         "Binary Return": 0,
         "Predicted Value": 1,
         "_deepnote_index_column": "2020-12-21"
        },
        {
         "Binary Return": 0,
         "Predicted Value": 1,
         "_deepnote_index_column": "2020-12-22"
        },
        {
         "Binary Return": 0,
         "Predicted Value": 1,
         "_deepnote_index_column": "2020-12-23"
        },
        {
         "Binary Return": 1,
         "Predicted Value": 1,
         "_deepnote_index_column": "2020-12-24"
        },
        {
         "Binary Return": 0,
         "Predicted Value": 1,
         "_deepnote_index_column": "2020-12-25"
        },
        {
         "Binary Return": 0,
         "Predicted Value": 1,
         "_deepnote_index_column": "2020-12-26"
        },
        {
         "Binary Return": 0,
         "Predicted Value": 1,
         "_deepnote_index_column": "2020-12-27"
        },
        {
         "Binary Return": 0,
         "Predicted Value": 1,
         "_deepnote_index_column": "2020-12-28"
        },
        {
         "Binary Return": 0,
         "Predicted Value": 1,
         "_deepnote_index_column": "2020-12-29"
        },
        {
         "Binary Return": 0,
         "Predicted Value": 1,
         "_deepnote_index_column": "2020-12-30"
        },
        {
         "Binary Return": 1,
         "Predicted Value": 1,
         "_deepnote_index_column": "2020-12-31"
        },
        {
         "Binary Return": 1,
         "Predicted Value": 1,
         "_deepnote_index_column": "2021-01-01"
        },
        {
         "Binary Return": 0,
         "Predicted Value": 1,
         "_deepnote_index_column": "2021-01-02"
        },
        {
         "Binary Return": 1,
         "Predicted Value": 1,
         "_deepnote_index_column": "2021-01-03"
        },
        {
         "Binary Return": 1,
         "Predicted Value": 1,
         "_deepnote_index_column": "2021-01-04"
        },
        {
         "Binary Return": 0,
         "Predicted Value": 1,
         "_deepnote_index_column": "2021-01-05"
        },
        {
         "Binary Return": 1,
         "Predicted Value": 1,
         "_deepnote_index_column": "2021-01-06"
        },
        {
         "Binary Return": 1,
         "Predicted Value": 1,
         "_deepnote_index_column": "2021-01-07"
        },
        {
         "Binary Return": 0,
         "Predicted Value": 0,
         "_deepnote_index_column": "2021-01-08"
        },
        {
         "Binary Return": 1,
         "Predicted Value": 1,
         "_deepnote_index_column": "2021-01-09"
        },
        {
         "Binary Return": 0,
         "Predicted Value": 1,
         "_deepnote_index_column": "2021-01-10"
        },
        {
         "Binary Return": 0,
         "Predicted Value": 1,
         "_deepnote_index_column": "2021-01-11"
        },
        {
         "Binary Return": 1,
         "Predicted Value": 1,
         "_deepnote_index_column": "2021-01-12"
        },
        {
         "Binary Return": 1,
         "Predicted Value": 1,
         "_deepnote_index_column": "2021-01-13"
        },
        {
         "Binary Return": 0,
         "Predicted Value": 1,
         "_deepnote_index_column": "2021-01-14"
        },
        {
         "Binary Return": 0,
         "Predicted Value": 1,
         "_deepnote_index_column": "2021-01-15"
        },
        {
         "Binary Return": 0,
         "Predicted Value": 1,
         "_deepnote_index_column": "2021-01-16"
        },
        {
         "Binary Return": 0,
         "Predicted Value": 1,
         "_deepnote_index_column": "2021-01-17"
        },
        {
         "Binary Return": 1,
         "Predicted Value": 1,
         "_deepnote_index_column": "2021-01-18"
        },
        {
         "Binary Return": 1,
         "Predicted Value": 1,
         "_deepnote_index_column": "2021-01-19"
        },
        {
         "Binary Return": 1,
         "Predicted Value": 1,
         "_deepnote_index_column": "2021-01-20"
        },
        {
         "Binary Return": 0,
         "Predicted Value": 1,
         "_deepnote_index_column": "2021-01-21"
        },
        {
         "Binary Return": 1,
         "Predicted Value": 1,
         "_deepnote_index_column": "2021-01-22"
        },
        {
         "Binary Return": 0,
         "Predicted Value": 1,
         "_deepnote_index_column": "2021-01-23"
        },
        {
         "Binary Return": 1,
         "Predicted Value": 1,
         "_deepnote_index_column": "2021-01-24"
        },
        {
         "Binary Return": 0,
         "Predicted Value": 1,
         "_deepnote_index_column": "2021-01-25"
        },
        {
         "Binary Return": 0,
         "Predicted Value": 1,
         "_deepnote_index_column": "2021-01-26"
        },
        {
         "Binary Return": 0,
         "Predicted Value": 1,
         "_deepnote_index_column": "2021-01-27"
        },
        {
         "Binary Return": 1,
         "Predicted Value": 1,
         "_deepnote_index_column": "2021-01-28"
        },
        {
         "Binary Return": 1,
         "Predicted Value": 1,
         "_deepnote_index_column": "2021-01-29"
        },
        {
         "Binary Return": 1,
         "Predicted Value": 1,
         "_deepnote_index_column": "2021-01-30"
        },
        {
         "Binary Return": 1,
         "Predicted Value": 0,
         "_deepnote_index_column": "2021-01-31"
        },
        {
         "Binary Return": 0,
         "Predicted Value": 1,
         "_deepnote_index_column": "2021-02-01"
        },
        {
         "Binary Return": 0,
         "Predicted Value": 1,
         "_deepnote_index_column": "2021-02-02"
        },
        {
         "Binary Return": 1,
         "Predicted Value": 1,
         "_deepnote_index_column": "2021-02-03"
        },
        {
         "Binary Return": 1,
         "Predicted Value": 1,
         "_deepnote_index_column": "2021-02-04"
        },
        {
         "Binary Return": 1,
         "Predicted Value": 1,
         "_deepnote_index_column": "2021-02-05"
        },
        {
         "Binary Return": 0,
         "Predicted Value": 1,
         "_deepnote_index_column": "2021-02-06"
        },
        {
         "Binary Return": 0,
         "Predicted Value": 1,
         "_deepnote_index_column": "2021-02-07"
        },
        {
         "Binary Return": 1,
         "Predicted Value": 1,
         "_deepnote_index_column": "2021-02-08"
        },
        {
         "Binary Return": 1,
         "Predicted Value": 1,
         "_deepnote_index_column": "2021-02-09"
        },
        {
         "Binary Return": 1,
         "Predicted Value": 1,
         "_deepnote_index_column": "2021-02-10"
        },
        {
         "Binary Return": 1,
         "Predicted Value": 1,
         "_deepnote_index_column": "2021-02-11"
        },
        {
         "Binary Return": 1,
         "Predicted Value": 1,
         "_deepnote_index_column": "2021-02-12"
        },
        {
         "Binary Return": 1,
         "Predicted Value": 1,
         "_deepnote_index_column": "2021-02-13"
        },
        {
         "Binary Return": 0,
         "Predicted Value": 1,
         "_deepnote_index_column": "2021-02-14"
        },
        {
         "Binary Return": 0,
         "Predicted Value": 1,
         "_deepnote_index_column": "2021-02-15"
        },
        {
         "Binary Return": 0,
         "Predicted Value": 1,
         "_deepnote_index_column": "2021-02-16"
        },
        {
         "Binary Return": 1,
         "Predicted Value": 1,
         "_deepnote_index_column": "2021-02-17"
        },
        {
         "Binary Return": 0,
         "Predicted Value": 1,
         "_deepnote_index_column": "2021-02-18"
        },
        {
         "Binary Return": 1,
         "Predicted Value": 1,
         "_deepnote_index_column": "2021-02-19"
        },
        {
         "Binary Return": 0,
         "Predicted Value": 1,
         "_deepnote_index_column": "2021-02-20"
        },
        {
         "Binary Return": 1,
         "Predicted Value": 1,
         "_deepnote_index_column": "2021-02-21"
        },
        {
         "Binary Return": 1,
         "Predicted Value": 1,
         "_deepnote_index_column": "2021-02-22"
        },
        {
         "Binary Return": 0,
         "Predicted Value": 1,
         "_deepnote_index_column": "2021-02-23"
        },
        {
         "Binary Return": 0,
         "Predicted Value": 1,
         "_deepnote_index_column": "2021-02-24"
        },
        {
         "Binary Return": 0,
         "Predicted Value": 1,
         "_deepnote_index_column": "2021-02-25"
        },
        {
         "Binary Return": 0,
         "Predicted Value": 1,
         "_deepnote_index_column": "2021-02-26"
        },
        {
         "Binary Return": 1,
         "Predicted Value": 1,
         "_deepnote_index_column": "2021-02-27"
        },
        {
         "Binary Return": 0,
         "Predicted Value": 1,
         "_deepnote_index_column": "2021-02-28"
        },
        {
         "Binary Return": 1,
         "Predicted Value": 1,
         "_deepnote_index_column": "2021-03-01"
        },
        {
         "Binary Return": 0,
         "Predicted Value": 1,
         "_deepnote_index_column": "2021-03-02"
        },
        {
         "Binary Return": 1,
         "Predicted Value": 1,
         "_deepnote_index_column": "2021-03-03"
        },
        {
         "Binary Return": 1,
         "Predicted Value": 1,
         "_deepnote_index_column": "2021-03-04"
        },
        {
         "Binary Return": 0,
         "Predicted Value": 1,
         "_deepnote_index_column": "2021-03-05"
        },
        {
         "Binary Return": 1,
         "Predicted Value": 1,
         "_deepnote_index_column": "2021-03-06"
        },
        {
         "Binary Return": 1,
         "Predicted Value": 1,
         "_deepnote_index_column": "2021-03-07"
        },
        {
         "Binary Return": 1,
         "Predicted Value": 1,
         "_deepnote_index_column": "2021-03-08"
        },
        {
         "Binary Return": 1,
         "Predicted Value": 1,
         "_deepnote_index_column": "2021-03-09"
        },
        {
         "Binary Return": 0,
         "Predicted Value": 1,
         "_deepnote_index_column": "2021-03-10"
        },
        {
         "Binary Return": 0,
         "Predicted Value": 1,
         "_deepnote_index_column": "2021-03-11"
        },
        {
         "Binary Return": 0,
         "Predicted Value": 1,
         "_deepnote_index_column": "2021-03-12"
        },
        {
         "Binary Return": 1,
         "Predicted Value": 1,
         "_deepnote_index_column": "2021-03-13"
        },
        {
         "Binary Return": 0,
         "Predicted Value": 1,
         "_deepnote_index_column": "2021-03-14"
        },
        {
         "Binary Return": 0,
         "Predicted Value": 1,
         "_deepnote_index_column": "2021-03-15"
        },
        {
         "Binary Return": 1,
         "Predicted Value": 1,
         "_deepnote_index_column": "2021-03-16"
        },
        {
         "Binary Return": 1,
         "Predicted Value": 1,
         "_deepnote_index_column": "2021-03-17"
        },
        {
         "Binary Return": 1,
         "Predicted Value": 1,
         "_deepnote_index_column": "2021-03-18"
        },
        {
         "Binary Return": 0,
         "Predicted Value": 0,
         "_deepnote_index_column": "2021-03-19"
        },
        {
         "Binary Return": 1,
         "Predicted Value": 1,
         "_deepnote_index_column": "2021-03-20"
        },
        {
         "Binary Return": 0,
         "Predicted Value": 0,
         "_deepnote_index_column": "2021-03-21"
        },
        {
         "Binary Return": 1,
         "Predicted Value": 1,
         "_deepnote_index_column": "2021-03-22"
        },
        {
         "Binary Return": 1,
         "Predicted Value": 1,
         "_deepnote_index_column": "2021-03-23"
        },
        {
         "Binary Return": 0,
         "Predicted Value": 1,
         "_deepnote_index_column": "2021-03-24"
        },
        {
         "Binary Return": 1,
         "Predicted Value": 1,
         "_deepnote_index_column": "2021-03-25"
        },
        {
         "Binary Return": 1,
         "Predicted Value": 1,
         "_deepnote_index_column": "2021-03-26"
        },
        {
         "Binary Return": 0,
         "Predicted Value": 1,
         "_deepnote_index_column": "2021-03-27"
        },
        {
         "Binary Return": 1,
         "Predicted Value": 1,
         "_deepnote_index_column": "2021-03-28"
        },
        {
         "Binary Return": 1,
         "Predicted Value": 1,
         "_deepnote_index_column": "2021-03-29"
        },
        {
         "Binary Return": 0,
         "Predicted Value": 1,
         "_deepnote_index_column": "2021-03-30"
        },
        {
         "Binary Return": 1,
         "Predicted Value": 1,
         "_deepnote_index_column": "2021-03-31"
        },
        {
         "Binary Return": 1,
         "Predicted Value": 1,
         "_deepnote_index_column": "2021-04-01"
        },
        {
         "Binary Return": 1,
         "Predicted Value": 1,
         "_deepnote_index_column": "2021-04-02"
        },
        {
         "Binary Return": 0,
         "Predicted Value": 1,
         "_deepnote_index_column": "2021-04-03"
        },
        {
         "Binary Return": 1,
         "Predicted Value": 1,
         "_deepnote_index_column": "2021-04-04"
        },
        {
         "Binary Return": 1,
         "Predicted Value": 1,
         "_deepnote_index_column": "2021-04-05"
        },
        {
         "Binary Return": 1,
         "Predicted Value": 1,
         "_deepnote_index_column": "2021-04-06"
        },
        {
         "Binary Return": 0,
         "Predicted Value": 1,
         "_deepnote_index_column": "2021-04-07"
        },
        {
         "Binary Return": 1,
         "Predicted Value": 1,
         "_deepnote_index_column": "2021-04-08"
        },
        {
         "Binary Return": 0,
         "Predicted Value": 1,
         "_deepnote_index_column": "2021-04-09"
        },
        {
         "Binary Return": 1,
         "Predicted Value": 1,
         "_deepnote_index_column": "2021-04-10"
        },
        {
         "Binary Return": 0,
         "Predicted Value": 1,
         "_deepnote_index_column": "2021-04-11"
        },
        {
         "Binary Return": 1,
         "Predicted Value": 1,
         "_deepnote_index_column": "2021-04-12"
        },
        {
         "Binary Return": 1,
         "Predicted Value": 1,
         "_deepnote_index_column": "2021-04-13"
        },
        {
         "Binary Return": 1,
         "Predicted Value": 1,
         "_deepnote_index_column": "2021-04-14"
        },
        {
         "Binary Return": 0,
         "Predicted Value": 1,
         "_deepnote_index_column": "2021-04-15"
        },
        {
         "Binary Return": 0,
         "Predicted Value": 1,
         "_deepnote_index_column": "2021-04-16"
        },
        {
         "Binary Return": 1,
         "Predicted Value": 1,
         "_deepnote_index_column": "2021-04-17"
        },
        {
         "Binary Return": 0,
         "Predicted Value": 1,
         "_deepnote_index_column": "2021-04-18"
        },
        {
         "Binary Return": 0,
         "Predicted Value": 1,
         "_deepnote_index_column": "2021-04-19"
        },
        {
         "Binary Return": 1,
         "Predicted Value": 1,
         "_deepnote_index_column": "2021-04-20"
        },
        {
         "Binary Return": 0,
         "Predicted Value": 1,
         "_deepnote_index_column": "2021-04-21"
        },
        {
         "Binary Return": 0,
         "Predicted Value": 1,
         "_deepnote_index_column": "2021-04-22"
        },
        {
         "Binary Return": 1,
         "Predicted Value": 1,
         "_deepnote_index_column": "2021-04-23"
        },
        {
         "Binary Return": 0,
         "Predicted Value": 1,
         "_deepnote_index_column": "2021-04-24"
        },
        {
         "Binary Return": 0,
         "Predicted Value": 1,
         "_deepnote_index_column": "2021-04-25"
        },
        {
         "Binary Return": 1,
         "Predicted Value": 1,
         "_deepnote_index_column": "2021-04-26"
        },
        {
         "Binary Return": 1,
         "Predicted Value": 1,
         "_deepnote_index_column": "2021-04-27"
        },
        {
         "Binary Return": 0,
         "Predicted Value": 1,
         "_deepnote_index_column": "2021-04-28"
        },
        {
         "Binary Return": 1,
         "Predicted Value": 1,
         "_deepnote_index_column": "2021-04-29"
        },
        {
         "Binary Return": 1,
         "Predicted Value": 1,
         "_deepnote_index_column": "2021-04-30"
        },
        {
         "Binary Return": 1,
         "Predicted Value": 1,
         "_deepnote_index_column": "2021-05-01"
        },
        {
         "Binary Return": 0,
         "Predicted Value": 0,
         "_deepnote_index_column": "2021-05-02"
        },
        {
         "Binary Return": 0,
         "Predicted Value": 1,
         "_deepnote_index_column": "2021-05-03"
        },
        {
         "Binary Return": 0,
         "Predicted Value": 1,
         "_deepnote_index_column": "2021-05-04"
        },
        {
         "Binary Return": 1,
         "Predicted Value": 1,
         "_deepnote_index_column": "2021-05-05"
        },
        {
         "Binary Return": 0,
         "Predicted Value": 1,
         "_deepnote_index_column": "2021-05-06"
        },
        {
         "Binary Return": 0,
         "Predicted Value": 0,
         "_deepnote_index_column": "2021-05-07"
        },
        {
         "Binary Return": 0,
         "Predicted Value": 1,
         "_deepnote_index_column": "2021-05-08"
        },
        {
         "Binary Return": 0,
         "Predicted Value": 1,
         "_deepnote_index_column": "2021-05-09"
        },
        {
         "Binary Return": 0,
         "Predicted Value": 1,
         "_deepnote_index_column": "2021-05-10"
        },
        {
         "Binary Return": 1,
         "Predicted Value": 1,
         "_deepnote_index_column": "2021-05-11"
        },
        {
         "Binary Return": 0,
         "Predicted Value": 1,
         "_deepnote_index_column": "2021-05-12"
        },
        {
         "Binary Return": 1,
         "Predicted Value": 1,
         "_deepnote_index_column": "2021-05-13"
        },
        {
         "Binary Return": 1,
         "Predicted Value": 1,
         "_deepnote_index_column": "2021-05-14"
        },
        {
         "Binary Return": 1,
         "Predicted Value": 1,
         "_deepnote_index_column": "2021-05-15"
        },
        {
         "Binary Return": 0,
         "Predicted Value": 1,
         "_deepnote_index_column": "2021-05-16"
        },
        {
         "Binary Return": 1,
         "Predicted Value": 1,
         "_deepnote_index_column": "2021-05-17"
        },
        {
         "Binary Return": 1,
         "Predicted Value": 1,
         "_deepnote_index_column": "2021-05-18"
        },
        {
         "Binary Return": 0,
         "Predicted Value": 1,
         "_deepnote_index_column": "2021-05-19"
        },
        {
         "Binary Return": 1,
         "Predicted Value": 1,
         "_deepnote_index_column": "2021-05-20"
        },
        {
         "Binary Return": 0,
         "Predicted Value": 1,
         "_deepnote_index_column": "2021-05-21"
        },
        {
         "Binary Return": 0,
         "Predicted Value": 1,
         "_deepnote_index_column": "2021-05-22"
        },
        {
         "Binary Return": 0,
         "Predicted Value": 1,
         "_deepnote_index_column": "2021-05-23"
        },
        {
         "Binary Return": 1,
         "Predicted Value": 1,
         "_deepnote_index_column": "2021-05-24"
        },
        {
         "Binary Return": 0,
         "Predicted Value": 1,
         "_deepnote_index_column": "2021-05-25"
        },
        {
         "Binary Return": 1,
         "Predicted Value": 1,
         "_deepnote_index_column": "2021-05-26"
        },
        {
         "Binary Return": 0,
         "Predicted Value": 1,
         "_deepnote_index_column": "2021-05-27"
        },
        {
         "Binary Return": 0,
         "Predicted Value": 1,
         "_deepnote_index_column": "2021-05-28"
        },
        {
         "Binary Return": 0,
         "Predicted Value": 1,
         "_deepnote_index_column": "2021-05-29"
        },
        {
         "Binary Return": 1,
         "Predicted Value": 1,
         "_deepnote_index_column": "2021-05-30"
        },
        {
         "Binary Return": 1,
         "Predicted Value": 1,
         "_deepnote_index_column": "2021-05-31"
        },
        {
         "Binary Return": 0,
         "Predicted Value": 1,
         "_deepnote_index_column": "2021-06-01"
        },
        {
         "Binary Return": 1,
         "Predicted Value": 1,
         "_deepnote_index_column": "2021-06-02"
        },
        {
         "Binary Return": 1,
         "Predicted Value": 0,
         "_deepnote_index_column": "2021-06-03"
        },
        {
         "Binary Return": 0,
         "Predicted Value": 1,
         "_deepnote_index_column": "2021-06-04"
        },
        {
         "Binary Return": 0,
         "Predicted Value": 1,
         "_deepnote_index_column": "2021-06-05"
        },
        {
         "Binary Return": 1,
         "Predicted Value": 1,
         "_deepnote_index_column": "2021-06-06"
        },
        {
         "Binary Return": 0,
         "Predicted Value": 1,
         "_deepnote_index_column": "2021-06-07"
        },
        {
         "Binary Return": 1,
         "Predicted Value": 1,
         "_deepnote_index_column": "2021-06-08"
        },
        {
         "Binary Return": 1,
         "Predicted Value": 1,
         "_deepnote_index_column": "2021-06-09"
        },
        {
         "Binary Return": 0,
         "Predicted Value": 1,
         "_deepnote_index_column": "2021-06-10"
        },
        {
         "Binary Return": 0,
         "Predicted Value": 1,
         "_deepnote_index_column": "2021-06-11"
        },
        {
         "Binary Return": 0,
         "Predicted Value": 1,
         "_deepnote_index_column": "2021-06-12"
        },
        {
         "Binary Return": 1,
         "Predicted Value": 1,
         "_deepnote_index_column": "2021-06-13"
        },
        {
         "Binary Return": 1,
         "Predicted Value": 1,
         "_deepnote_index_column": "2021-06-14"
        },
        {
         "Binary Return": 0,
         "Predicted Value": 1,
         "_deepnote_index_column": "2021-06-15"
        },
        {
         "Binary Return": 0,
         "Predicted Value": 1,
         "_deepnote_index_column": "2021-06-16"
        },
        {
         "Binary Return": 1,
         "Predicted Value": 1,
         "_deepnote_index_column": "2021-06-17"
        },
        {
         "Binary Return": 0,
         "Predicted Value": 1,
         "_deepnote_index_column": "2021-06-18"
        },
        {
         "Binary Return": 0,
         "Predicted Value": 1,
         "_deepnote_index_column": "2021-06-19"
        },
        {
         "Binary Return": 1,
         "Predicted Value": 1,
         "_deepnote_index_column": "2021-06-20"
        },
        {
         "Binary Return": 0,
         "Predicted Value": 1,
         "_deepnote_index_column": "2021-06-21"
        },
        {
         "Binary Return": 0,
         "Predicted Value": 1,
         "_deepnote_index_column": "2021-06-22"
        },
        {
         "Binary Return": 1,
         "Predicted Value": 1,
         "_deepnote_index_column": "2021-06-23"
        },
        {
         "Binary Return": 1,
         "Predicted Value": 1,
         "_deepnote_index_column": "2021-06-24"
        },
        {
         "Binary Return": 0,
         "Predicted Value": 1,
         "_deepnote_index_column": "2021-06-25"
        },
        {
         "Binary Return": 1,
         "Predicted Value": 1,
         "_deepnote_index_column": "2021-06-26"
        },
        {
         "Binary Return": 1,
         "Predicted Value": 1,
         "_deepnote_index_column": "2021-06-27"
        },
        {
         "Binary Return": 0,
         "Predicted Value": 1,
         "_deepnote_index_column": "2021-06-28"
        },
        {
         "Binary Return": 1,
         "Predicted Value": 1,
         "_deepnote_index_column": "2021-06-29"
        },
        {
         "Binary Return": 1,
         "Predicted Value": 0,
         "_deepnote_index_column": "2021-06-30"
        },
        {
         "Binary Return": 0,
         "Predicted Value": 1,
         "_deepnote_index_column": "2021-07-01"
        },
        {
         "Binary Return": 0,
         "Predicted Value": 1,
         "_deepnote_index_column": "2021-07-02"
        },
        {
         "Binary Return": 1,
         "Predicted Value": 1,
         "_deepnote_index_column": "2021-07-03"
        },
        {
         "Binary Return": 1,
         "Predicted Value": 1,
         "_deepnote_index_column": "2021-07-04"
        },
        {
         "Binary Return": 0,
         "Predicted Value": 1,
         "_deepnote_index_column": "2021-07-05"
        },
        {
         "Binary Return": 1,
         "Predicted Value": 1,
         "_deepnote_index_column": "2021-07-06"
        },
        {
         "Binary Return": 0,
         "Predicted Value": 1,
         "_deepnote_index_column": "2021-07-07"
        },
        {
         "Binary Return": 0,
         "Predicted Value": 1,
         "_deepnote_index_column": "2021-07-08"
        },
        {
         "Binary Return": 1,
         "Predicted Value": 1,
         "_deepnote_index_column": "2021-07-09"
        },
        {
         "Binary Return": 0,
         "Predicted Value": 1,
         "_deepnote_index_column": "2021-07-10"
        },
        {
         "Binary Return": 1,
         "Predicted Value": 1,
         "_deepnote_index_column": "2021-07-11"
        },
        {
         "Binary Return": 0,
         "Predicted Value": 1,
         "_deepnote_index_column": "2021-07-12"
        },
        {
         "Binary Return": 0,
         "Predicted Value": 1,
         "_deepnote_index_column": "2021-07-13"
        },
        {
         "Binary Return": 1,
         "Predicted Value": 1,
         "_deepnote_index_column": "2021-07-14"
        },
        {
         "Binary Return": 0,
         "Predicted Value": 1,
         "_deepnote_index_column": "2021-07-15"
        },
        {
         "Binary Return": 0,
         "Predicted Value": 1,
         "_deepnote_index_column": "2021-07-16"
        },
        {
         "Binary Return": 0,
         "Predicted Value": 1,
         "_deepnote_index_column": "2021-07-17"
        },
        {
         "Binary Return": 1,
         "Predicted Value": 1,
         "_deepnote_index_column": "2021-07-18"
        },
        {
         "Binary Return": 0,
         "Predicted Value": 1,
         "_deepnote_index_column": "2021-07-19"
        },
        {
         "Binary Return": 0,
         "Predicted Value": 1,
         "_deepnote_index_column": "2021-07-20"
        },
        {
         "Binary Return": 1,
         "Predicted Value": 1,
         "_deepnote_index_column": "2021-07-21"
        },
        {
         "Binary Return": 1,
         "Predicted Value": 0,
         "_deepnote_index_column": "2021-07-22"
        },
        {
         "Binary Return": 1,
         "Predicted Value": 1,
         "_deepnote_index_column": "2021-07-23"
        },
        {
         "Binary Return": 1,
         "Predicted Value": 1,
         "_deepnote_index_column": "2021-07-24"
        },
        {
         "Binary Return": 0,
         "Predicted Value": 1,
         "_deepnote_index_column": "2021-07-25"
        },
        {
         "Binary Return": 1,
         "Predicted Value": 1,
         "_deepnote_index_column": "2021-07-26"
        },
        {
         "Binary Return": 1,
         "Predicted Value": 1,
         "_deepnote_index_column": "2021-07-27"
        },
        {
         "Binary Return": 1,
         "Predicted Value": 1,
         "_deepnote_index_column": "2021-07-28"
        },
        {
         "Binary Return": 1,
         "Predicted Value": 1,
         "_deepnote_index_column": "2021-07-29"
        },
        {
         "Binary Return": 1,
         "Predicted Value": 1,
         "_deepnote_index_column": "2021-07-30"
        },
        {
         "Binary Return": 0,
         "Predicted Value": 1,
         "_deepnote_index_column": "2021-07-31"
        },
        {
         "Binary Return": 0,
         "Predicted Value": 1,
         "_deepnote_index_column": "2021-08-01"
        },
        {
         "Binary Return": 1,
         "Predicted Value": 1,
         "_deepnote_index_column": "2021-08-02"
        },
        {
         "Binary Return": 0,
         "Predicted Value": 1,
         "_deepnote_index_column": "2021-08-03"
        },
        {
         "Binary Return": 1,
         "Predicted Value": 1,
         "_deepnote_index_column": "2021-08-04"
        },
        {
         "Binary Return": 1,
         "Predicted Value": 1,
         "_deepnote_index_column": "2021-08-05"
        },
        {
         "Binary Return": 1,
         "Predicted Value": 1,
         "_deepnote_index_column": "2021-08-06"
        },
        {
         "Binary Return": 1,
         "Predicted Value": 1,
         "_deepnote_index_column": "2021-08-07"
        },
        {
         "Binary Return": 0,
         "Predicted Value": 0,
         "_deepnote_index_column": "2021-08-08"
        },
        {
         "Binary Return": 1,
         "Predicted Value": 1,
         "_deepnote_index_column": "2021-08-09"
        },
        {
         "Binary Return": 1,
         "Predicted Value": 1,
         "_deepnote_index_column": "2021-08-10"
        }
       ]
      },
      "text/plain": "            Binary Return  Predicted Value\nDate                                      \n2019-09-02              1                1\n2019-09-03              1                1\n2019-09-04              0                1\n2019-09-05              0                1\n2019-09-06              0                1\n...                   ...              ...\n2021-08-06              1                1\n2021-08-07              1                1\n2021-08-08              0                0\n2021-08-09              1                1\n2021-08-10              1                1\n\n[705 rows x 2 columns]",
      "text/html": "<div>\n<style scoped>\n    .dataframe tbody tr th:only-of-type {\n        vertical-align: middle;\n    }\n\n    .dataframe tbody tr th {\n        vertical-align: top;\n    }\n\n    .dataframe thead th {\n        text-align: right;\n    }\n</style>\n<table border=\"1\" class=\"dataframe\">\n  <thead>\n    <tr style=\"text-align: right;\">\n      <th></th>\n      <th>Binary Return</th>\n      <th>Predicted Value</th>\n    </tr>\n    <tr>\n      <th>Date</th>\n      <th></th>\n      <th></th>\n    </tr>\n  </thead>\n  <tbody>\n    <tr>\n      <th>2019-09-02</th>\n      <td>1</td>\n      <td>1</td>\n    </tr>\n    <tr>\n      <th>2019-09-03</th>\n      <td>1</td>\n      <td>1</td>\n    </tr>\n    <tr>\n      <th>2019-09-04</th>\n      <td>0</td>\n      <td>1</td>\n    </tr>\n    <tr>\n      <th>2019-09-05</th>\n      <td>0</td>\n      <td>1</td>\n    </tr>\n    <tr>\n      <th>2019-09-06</th>\n      <td>0</td>\n      <td>1</td>\n    </tr>\n    <tr>\n      <th>...</th>\n      <td>...</td>\n      <td>...</td>\n    </tr>\n    <tr>\n      <th>2021-08-06</th>\n      <td>1</td>\n      <td>1</td>\n    </tr>\n    <tr>\n      <th>2021-08-07</th>\n      <td>1</td>\n      <td>1</td>\n    </tr>\n    <tr>\n      <th>2021-08-08</th>\n      <td>0</td>\n      <td>0</td>\n    </tr>\n    <tr>\n      <th>2021-08-09</th>\n      <td>1</td>\n      <td>1</td>\n    </tr>\n    <tr>\n      <th>2021-08-10</th>\n      <td>1</td>\n      <td>1</td>\n    </tr>\n  </tbody>\n</table>\n<p>705 rows × 2 columns</p>\n</div>"
     },
     "metadata": {}
    }
   ],
   "execution_count": null
  },
  {
   "cell_type": "code",
   "metadata": {
    "tags": [],
    "deepnote_to_be_reexecuted": false,
    "source_hash": "c899529d",
    "execution_start": 1629253378129,
    "execution_millis": 41,
    "cell_id": "00013-003dc9e5-c891-4228-8fa0-65f9fec7f558",
    "deepnote_cell_type": "code"
   },
   "source": "predictions = model.predict(X_test)\npredictions",
   "outputs": [
    {
     "output_type": "execute_result",
     "execution_count": 14,
     "data": {
      "text/plain": "array([1, 1, 1, 1, 1, 1, 1, 0, 1, 1, 1, 1, 1, 1, 0, 1, 1, 1, 1, 1, 1, 1,\n       1, 1, 1, 1, 1, 1, 1, 1, 1, 1, 1, 1, 1, 1, 0, 1, 1, 1, 1, 1, 1, 0,\n       1, 1, 1, 1, 1, 1, 1, 1, 1, 1, 1, 1, 0, 1, 1, 1, 1, 1, 1, 1, 1, 1,\n       0, 1, 1, 1, 1, 1, 1, 1, 1, 1, 1, 1, 1, 1, 1, 1, 1, 1, 1, 1, 1, 1,\n       1, 1, 1, 1, 1, 1, 1, 0, 1, 1, 1, 1, 1, 1, 1, 1, 1, 1, 1, 1, 1, 1,\n       1, 1, 1, 1, 1, 1, 0, 1, 1, 1, 1, 1, 1, 1, 1, 1, 1, 0, 1, 1, 1, 1,\n       1, 1, 1, 1, 1, 1, 1, 1, 1, 1, 1, 1, 1, 1, 1, 1, 1, 1, 1, 0, 1, 1,\n       1, 1, 1, 1, 1, 1, 1, 1, 1, 1, 1, 1, 1, 1, 1, 1, 1, 1, 1, 1, 1, 1,\n       1, 1, 1, 1, 1, 1, 1, 1, 1, 1, 1, 1, 1, 1, 1, 1, 1, 1, 1, 1, 1, 1,\n       1, 1, 1, 1, 1, 0, 1, 1, 1, 1, 1, 1, 1, 1, 1, 1, 1, 1, 1, 0, 1, 1,\n       1, 1, 1, 1, 1, 1, 1, 1, 1, 1, 1, 1, 1, 1, 1, 1, 1, 1, 1, 1, 1, 1,\n       1, 1, 1, 1, 1, 1, 1, 1, 1, 1, 1, 1, 1, 1, 1, 1, 1, 1, 1, 1, 1, 1,\n       1, 1, 1, 1, 1, 1, 1, 0, 1, 1, 1, 1, 1, 1, 1, 1, 1, 1, 1, 1, 1, 1,\n       1, 1, 1, 1, 1, 1, 1, 1, 1, 1, 1, 1, 1, 1, 1, 1, 1, 1, 1, 1, 1, 1,\n       0, 1, 1, 1, 1, 1, 1, 1, 1, 1, 1, 1, 1, 1, 1, 1, 1, 0, 1, 1, 1, 1,\n       1, 1, 1, 1, 1, 1, 1, 1, 1, 1, 1, 1, 1, 1, 1, 1, 1, 1, 1, 1, 1, 1,\n       1, 1, 1, 1, 1, 1, 1, 1, 1, 1, 1, 1, 1, 1, 1, 1, 1, 1, 1, 1, 1, 1,\n       1, 1, 1, 1, 1, 1, 1, 0, 1, 1, 1, 1, 1, 1, 1, 1, 0, 1, 1, 1, 1, 1,\n       1, 1, 1, 1, 1, 1, 1, 1, 1, 0, 1, 1, 1, 1, 0, 1, 0, 1, 1, 1, 1, 1,\n       1, 1, 1, 1, 1, 1, 1, 1, 1, 1, 0, 1, 1, 1, 1, 1, 1, 1, 1, 1, 1, 1,\n       1, 1, 1, 1, 1, 1, 1, 1, 1, 1, 1, 1, 1, 1, 1, 1, 1, 1, 1, 1, 1, 1,\n       1, 1, 1, 1, 1, 1, 1, 1, 1, 1, 1, 1, 1, 1, 1, 1, 1, 1, 1, 1, 1, 1,\n       1, 1, 1, 1, 1, 1, 0, 1, 1, 1, 1, 1, 1, 1, 1, 1, 1, 1, 1, 1, 1, 1,\n       1, 1, 1, 1, 1, 1, 1, 0, 1, 1, 1, 1, 1, 1, 1, 1, 1, 1, 1, 1, 1, 1,\n       1, 1, 1, 1, 1, 1, 1, 1, 1, 1, 1, 1, 1, 1, 1, 1, 1, 1, 1, 1, 1, 1,\n       1, 1, 1, 1, 1, 1, 1, 1, 1, 1, 0, 1, 0, 1, 1, 1, 1, 1, 1, 1, 1, 1,\n       1, 1, 1, 1, 1, 1, 1, 1, 1, 1, 1, 1, 1, 1, 1, 1, 1, 1, 1, 1, 1, 1,\n       1, 1, 1, 1, 1, 1, 1, 1, 1, 1, 0, 1, 1, 1, 1, 0, 1, 1, 1, 1, 1, 1,\n       1, 1, 1, 1, 1, 1, 1, 1, 1, 1, 1, 1, 1, 1, 1, 1, 1, 1, 1, 1, 0, 1,\n       1, 1, 1, 1, 1, 1, 1, 1, 1, 1, 1, 1, 1, 1, 1, 1, 1, 1, 1, 1, 1, 1,\n       1, 1, 1, 0, 1, 1, 1, 1, 1, 1, 1, 1, 1, 1, 1, 1, 1, 1, 1, 1, 1, 1,\n       1, 1, 1, 0, 1, 1, 1, 1, 1, 1, 1, 1, 1, 1, 1, 1, 1, 1, 1, 1, 0, 1,\n       1])"
     },
     "metadata": {}
    }
   ],
   "execution_count": null
  },
  {
   "cell_type": "code",
   "metadata": {
    "tags": [],
    "deepnote_to_be_reexecuted": false,
    "source_hash": "5ab665ff",
    "execution_start": 1629253378165,
    "execution_millis": 832,
    "cell_id": "00014-2a69f191-c28e-4707-afc1-21b58a58f22b",
    "deepnote_cell_type": "code"
   },
   "source": "# Plot predicted results vs. actual results\nResults[['Binary Return', 'Predicted Value']].plot(figsize=(20,10))",
   "outputs": [
    {
     "output_type": "execute_result",
     "execution_count": 15,
     "data": {
      "text/plain": "<AxesSubplot:xlabel='Date'>"
     },
     "metadata": {}
    },
    {
     "data": {
      "text/plain": "<Figure size 1440x720 with 1 Axes>",
      "image/png": "[encoded data removed]"
     },
     "metadata": {
      "needs_background": "light",
      "image/png": {
       "width": 1153,
       "height": 589
      }
     },
     "output_type": "display_data"
    }
   ],
   "execution_count": null
  },
  {
   "cell_type": "code",
   "metadata": {
    "tags": [],
    "deepnote_to_be_reexecuted": false,
    "source_hash": "7dab8804",
    "execution_start": 1629253379037,
    "execution_millis": 248,
    "cell_id": "00015-97a90232-c810-4186-9082-823293ee5ac2",
    "deepnote_cell_type": "code"
   },
   "source": "# Plot last 10 records of predicted vs. actual results\nResults[['Binary Return', 'Predicted Value']].tail(10).plot()",
   "outputs": [
    {
     "output_type": "execute_result",
     "execution_count": 16,
     "data": {
      "text/plain": "<AxesSubplot:xlabel='Date'>"
     },
     "metadata": {}
    },
    {
     "data": {
      "text/plain": "<Figure size 432x288 with 1 Axes>",
      "image/png": "[encoded data removed]"
     },
     "metadata": {
      "needs_background": "light",
      "image/png": {
       "width": 372,
       "height": 262
      }
     },
     "output_type": "display_data"
    }
   ],
   "execution_count": null
  },
  {
   "cell_type": "code",
   "metadata": {
    "tags": [],
    "deepnote_to_be_reexecuted": false,
    "source_hash": "24719521",
    "execution_start": 1629253379313,
    "execution_millis": 13,
    "cell_id": "00016-30917f0f-da91-4068-941a-6e58fcb5db5f",
    "deepnote_cell_type": "code"
   },
   "source": "# Replace predicted values 0 to -1 to account for shorting\nResults['Predicted Value'].replace(0, -1, inplace=True)\nResults",
   "outputs": [
    {
     "output_type": "execute_result",
     "execution_count": 17,
     "data": {
      "application/vnd.deepnote.dataframe.v2+json": {
       "row_count": 705,
       "column_count": 2,
       "columns": [
        {
         "name": "Binary Return",
         "dtype": "int64",
         "stats": {
          "unique_count": 2,
          "nan_count": 0,
          "min": "0",
          "max": "1",
          "histogram": [
           {
            "bin_start": 0,
            "bin_end": 0.1,
            "count": 341
           },
           {
            "bin_start": 0.1,
            "bin_end": 0.2,
            "count": 0
           },
           {
            "bin_start": 0.2,
            "bin_end": 0.30000000000000004,
            "count": 0
           },
           {
            "bin_start": 0.30000000000000004,
            "bin_end": 0.4,
            "count": 0
           },
           {
            "bin_start": 0.4,
            "bin_end": 0.5,
            "count": 0
           },
           {
            "bin_start": 0.5,
            "bin_end": 0.6000000000000001,
            "count": 0
           },
           {
            "bin_start": 0.6000000000000001,
            "bin_end": 0.7000000000000001,
            "count": 0
           },
           {
            "bin_start": 0.7000000000000001,
            "bin_end": 0.8,
            "count": 0
           },
           {
            "bin_start": 0.8,
            "bin_end": 0.9,
            "count": 0
           },
           {
            "bin_start": 0.9,
            "bin_end": 1,
            "count": 364
           }
          ]
         }
        },
        {
         "name": "Predicted Value",
         "dtype": "int64",
         "stats": {
          "unique_count": 2,
          "nan_count": 0,
          "min": "-1",
          "max": "1",
          "histogram": [
           {
            "bin_start": -1,
            "bin_end": -0.8,
            "count": 31
           },
           {
            "bin_start": -0.8,
            "bin_end": -0.6,
            "count": 0
           },
           {
            "bin_start": -0.6,
            "bin_end": -0.3999999999999999,
            "count": 0
           },
           {
            "bin_start": -0.3999999999999999,
            "bin_end": -0.19999999999999996,
            "count": 0
           },
           {
            "bin_start": -0.19999999999999996,
            "bin_end": 0,
            "count": 0
           },
           {
            "bin_start": 0,
            "bin_end": 0.20000000000000018,
            "count": 0
           },
           {
            "bin_start": 0.20000000000000018,
            "bin_end": 0.40000000000000013,
            "count": 0
           },
           {
            "bin_start": 0.40000000000000013,
            "bin_end": 0.6000000000000001,
            "count": 0
           },
           {
            "bin_start": 0.6000000000000001,
            "bin_end": 0.8,
            "count": 0
           },
           {
            "bin_start": 0.8,
            "bin_end": 1,
            "count": 674
           }
          ]
         }
        },
        {
         "name": "_deepnote_index_column",
         "dtype": "object"
        }
       ],
       "rows_top": [
        {
         "Binary Return": 1,
         "Predicted Value": 1,
         "_deepnote_index_column": "2019-09-02"
        },
        {
         "Binary Return": 1,
         "Predicted Value": 1,
         "_deepnote_index_column": "2019-09-03"
        },
        {
         "Binary Return": 0,
         "Predicted Value": 1,
         "_deepnote_index_column": "2019-09-04"
        },
        {
         "Binary Return": 0,
         "Predicted Value": 1,
         "_deepnote_index_column": "2019-09-05"
        },
        {
         "Binary Return": 0,
         "Predicted Value": 1,
         "_deepnote_index_column": "2019-09-06"
        },
        {
         "Binary Return": 1,
         "Predicted Value": 1,
         "_deepnote_index_column": "2019-09-07"
        },
        {
         "Binary Return": 1,
         "Predicted Value": 1,
         "_deepnote_index_column": "2019-09-08"
        },
        {
         "Binary Return": 0,
         "Predicted Value": -1,
         "_deepnote_index_column": "2019-09-09"
        },
        {
         "Binary Return": 0,
         "Predicted Value": 1,
         "_deepnote_index_column": "2019-09-10"
        },
        {
         "Binary Return": 0,
         "Predicted Value": 1,
         "_deepnote_index_column": "2019-09-11"
        },
        {
         "Binary Return": 0,
         "Predicted Value": 1,
         "_deepnote_index_column": "2019-09-12"
        },
        {
         "Binary Return": 1,
         "Predicted Value": 1,
         "_deepnote_index_column": "2019-09-13"
        },
        {
         "Binary Return": 1,
         "Predicted Value": 1,
         "_deepnote_index_column": "2019-09-14"
        },
        {
         "Binary Return": 1,
         "Predicted Value": 1,
         "_deepnote_index_column": "2019-09-15"
        },
        {
         "Binary Return": 0,
         "Predicted Value": -1,
         "_deepnote_index_column": "2019-09-16"
        },
        {
         "Binary Return": 1,
         "Predicted Value": 1,
         "_deepnote_index_column": "2019-09-17"
        },
        {
         "Binary Return": 1,
         "Predicted Value": 1,
         "_deepnote_index_column": "2019-09-18"
        },
        {
         "Binary Return": 0,
         "Predicted Value": 1,
         "_deepnote_index_column": "2019-09-19"
        },
        {
         "Binary Return": 0,
         "Predicted Value": 1,
         "_deepnote_index_column": "2019-09-20"
        },
        {
         "Binary Return": 0,
         "Predicted Value": 1,
         "_deepnote_index_column": "2019-09-21"
        },
        {
         "Binary Return": 0,
         "Predicted Value": 1,
         "_deepnote_index_column": "2019-09-22"
        },
        {
         "Binary Return": 0,
         "Predicted Value": 1,
         "_deepnote_index_column": "2019-09-23"
        },
        {
         "Binary Return": 0,
         "Predicted Value": 1,
         "_deepnote_index_column": "2019-09-24"
        },
        {
         "Binary Return": 1,
         "Predicted Value": 1,
         "_deepnote_index_column": "2019-09-25"
        },
        {
         "Binary Return": 0,
         "Predicted Value": 1,
         "_deepnote_index_column": "2019-09-26"
        },
        {
         "Binary Return": 1,
         "Predicted Value": 1,
         "_deepnote_index_column": "2019-09-27"
        },
        {
         "Binary Return": 0,
         "Predicted Value": 1,
         "_deepnote_index_column": "2019-09-28"
        },
        {
         "Binary Return": 0,
         "Predicted Value": 1,
         "_deepnote_index_column": "2019-09-29"
        },
        {
         "Binary Return": 1,
         "Predicted Value": 1,
         "_deepnote_index_column": "2019-09-30"
        },
        {
         "Binary Return": 0,
         "Predicted Value": 1,
         "_deepnote_index_column": "2019-10-01"
        },
        {
         "Binary Return": 1,
         "Predicted Value": 1,
         "_deepnote_index_column": "2019-10-02"
        },
        {
         "Binary Return": 0,
         "Predicted Value": 1,
         "_deepnote_index_column": "2019-10-03"
        },
        {
         "Binary Return": 1,
         "Predicted Value": 1,
         "_deepnote_index_column": "2019-10-04"
        },
        {
         "Binary Return": 0,
         "Predicted Value": 1,
         "_deepnote_index_column": "2019-10-05"
        },
        {
         "Binary Return": 1,
         "Predicted Value": 1,
         "_deepnote_index_column": "2019-10-06"
        },
        {
         "Binary Return": 1,
         "Predicted Value": 1,
         "_deepnote_index_column": "2019-10-07"
        },
        {
         "Binary Return": 1,
         "Predicted Value": -1,
         "_deepnote_index_column": "2019-10-08"
        },
        {
         "Binary Return": 1,
         "Predicted Value": 1,
         "_deepnote_index_column": "2019-10-09"
        },
        {
         "Binary Return": 0,
         "Predicted Value": 1,
         "_deepnote_index_column": "2019-10-10"
        },
        {
         "Binary Return": 0,
         "Predicted Value": 1,
         "_deepnote_index_column": "2019-10-11"
        },
        {
         "Binary Return": 1,
         "Predicted Value": 1,
         "_deepnote_index_column": "2019-10-12"
        },
        {
         "Binary Return": 1,
         "Predicted Value": 1,
         "_deepnote_index_column": "2019-10-13"
        },
        {
         "Binary Return": 1,
         "Predicted Value": 1,
         "_deepnote_index_column": "2019-10-14"
        },
        {
         "Binary Return": 0,
         "Predicted Value": -1,
         "_deepnote_index_column": "2019-10-15"
        },
        {
         "Binary Return": 0,
         "Predicted Value": 1,
         "_deepnote_index_column": "2019-10-16"
        },
        {
         "Binary Return": 1,
         "Predicted Value": 1,
         "_deepnote_index_column": "2019-10-17"
        },
        {
         "Binary Return": 0,
         "Predicted Value": 1,
         "_deepnote_index_column": "2019-10-18"
        },
        {
         "Binary Return": 0,
         "Predicted Value": 1,
         "_deepnote_index_column": "2019-10-19"
        },
        {
         "Binary Return": 1,
         "Predicted Value": 1,
         "_deepnote_index_column": "2019-10-20"
        },
        {
         "Binary Return": 0,
         "Predicted Value": 1,
         "_deepnote_index_column": "2019-10-21"
        },
        {
         "Binary Return": 0,
         "Predicted Value": 1,
         "_deepnote_index_column": "2019-10-22"
        },
        {
         "Binary Return": 0,
         "Predicted Value": 1,
         "_deepnote_index_column": "2019-10-23"
        },
        {
         "Binary Return": 1,
         "Predicted Value": 1,
         "_deepnote_index_column": "2019-10-24"
        },
        {
         "Binary Return": 1,
         "Predicted Value": 1,
         "_deepnote_index_column": "2019-10-25"
        },
        {
         "Binary Return": 0,
         "Predicted Value": 1,
         "_deepnote_index_column": "2019-10-26"
        },
        {
         "Binary Return": 1,
         "Predicted Value": 1,
         "_deepnote_index_column": "2019-10-27"
        },
        {
         "Binary Return": 0,
         "Predicted Value": -1,
         "_deepnote_index_column": "2019-10-28"
        },
        {
         "Binary Return": 1,
         "Predicted Value": 1,
         "_deepnote_index_column": "2019-10-29"
        },
        {
         "Binary Return": 0,
         "Predicted Value": 1,
         "_deepnote_index_column": "2019-10-30"
        },
        {
         "Binary Return": 0,
         "Predicted Value": 1,
         "_deepnote_index_column": "2019-10-31"
        },
        {
         "Binary Return": 0,
         "Predicted Value": 1,
         "_deepnote_index_column": "2019-11-01"
        },
        {
         "Binary Return": 1,
         "Predicted Value": 1,
         "_deepnote_index_column": "2019-11-02"
        },
        {
         "Binary Return": 0,
         "Predicted Value": 1,
         "_deepnote_index_column": "2019-11-03"
        },
        {
         "Binary Return": 1,
         "Predicted Value": 1,
         "_deepnote_index_column": "2019-11-04"
        },
        {
         "Binary Return": 1,
         "Predicted Value": 1,
         "_deepnote_index_column": "2019-11-05"
        },
        {
         "Binary Return": 1,
         "Predicted Value": 1,
         "_deepnote_index_column": "2019-11-06"
        },
        {
         "Binary Return": 0,
         "Predicted Value": -1,
         "_deepnote_index_column": "2019-11-07"
        },
        {
         "Binary Return": 0,
         "Predicted Value": 1,
         "_deepnote_index_column": "2019-11-08"
        },
        {
         "Binary Return": 1,
         "Predicted Value": 1,
         "_deepnote_index_column": "2019-11-09"
        },
        {
         "Binary Return": 1,
         "Predicted Value": 1,
         "_deepnote_index_column": "2019-11-10"
        },
        {
         "Binary Return": 0,
         "Predicted Value": 1,
         "_deepnote_index_column": "2019-11-11"
        },
        {
         "Binary Return": 0,
         "Predicted Value": 1,
         "_deepnote_index_column": "2019-11-12"
        },
        {
         "Binary Return": 1,
         "Predicted Value": 1,
         "_deepnote_index_column": "2019-11-13"
        },
        {
         "Binary Return": 0,
         "Predicted Value": 1,
         "_deepnote_index_column": "2019-11-14"
        },
        {
         "Binary Return": 0,
         "Predicted Value": 1,
         "_deepnote_index_column": "2019-11-15"
        },
        {
         "Binary Return": 1,
         "Predicted Value": 1,
         "_deepnote_index_column": "2019-11-16"
        },
        {
         "Binary Return": 1,
         "Predicted Value": 1,
         "_deepnote_index_column": "2019-11-17"
        },
        {
         "Binary Return": 0,
         "Predicted Value": 1,
         "_deepnote_index_column": "2019-11-18"
        },
        {
         "Binary Return": 1,
         "Predicted Value": 1,
         "_deepnote_index_column": "2019-11-19"
        },
        {
         "Binary Return": 0,
         "Predicted Value": 1,
         "_deepnote_index_column": "2019-11-20"
        },
        {
         "Binary Return": 0,
         "Predicted Value": 1,
         "_deepnote_index_column": "2019-11-21"
        },
        {
         "Binary Return": 0,
         "Predicted Value": 1,
         "_deepnote_index_column": "2019-11-22"
        },
        {
         "Binary Return": 1,
         "Predicted Value": 1,
         "_deepnote_index_column": "2019-11-23"
        },
        {
         "Binary Return": 0,
         "Predicted Value": 1,
         "_deepnote_index_column": "2019-11-24"
        },
        {
         "Binary Return": 0,
         "Predicted Value": 1,
         "_deepnote_index_column": "2019-11-25"
        },
        {
         "Binary Return": 1,
         "Predicted Value": 1,
         "_deepnote_index_column": "2019-11-26"
        },
        {
         "Binary Return": 1,
         "Predicted Value": 1,
         "_deepnote_index_column": "2019-11-27"
        },
        {
         "Binary Return": 0,
         "Predicted Value": 1,
         "_deepnote_index_column": "2019-11-28"
        },
        {
         "Binary Return": 1,
         "Predicted Value": 1,
         "_deepnote_index_column": "2019-11-29"
        },
        {
         "Binary Return": 0,
         "Predicted Value": 1,
         "_deepnote_index_column": "2019-11-30"
        },
        {
         "Binary Return": 0,
         "Predicted Value": 1,
         "_deepnote_index_column": "2019-12-01"
        },
        {
         "Binary Return": 0,
         "Predicted Value": 1,
         "_deepnote_index_column": "2019-12-02"
        },
        {
         "Binary Return": 1,
         "Predicted Value": 1,
         "_deepnote_index_column": "2019-12-03"
        },
        {
         "Binary Return": 0,
         "Predicted Value": 1,
         "_deepnote_index_column": "2019-12-04"
        },
        {
         "Binary Return": 1,
         "Predicted Value": 1,
         "_deepnote_index_column": "2019-12-05"
        },
        {
         "Binary Return": 1,
         "Predicted Value": -1,
         "_deepnote_index_column": "2019-12-06"
        },
        {
         "Binary Return": 1,
         "Predicted Value": 1,
         "_deepnote_index_column": "2019-12-07"
        },
        {
         "Binary Return": 1,
         "Predicted Value": 1,
         "_deepnote_index_column": "2019-12-08"
        },
        {
         "Binary Return": 0,
         "Predicted Value": 1,
         "_deepnote_index_column": "2019-12-09"
        },
        {
         "Binary Return": 0,
         "Predicted Value": 1,
         "_deepnote_index_column": "2019-12-10"
        },
        {
         "Binary Return": 0,
         "Predicted Value": 1,
         "_deepnote_index_column": "2019-12-11"
        },
        {
         "Binary Return": 0,
         "Predicted Value": 1,
         "_deepnote_index_column": "2019-12-12"
        },
        {
         "Binary Return": 1,
         "Predicted Value": 1,
         "_deepnote_index_column": "2019-12-13"
        },
        {
         "Binary Return": 0,
         "Predicted Value": 1,
         "_deepnote_index_column": "2019-12-14"
        },
        {
         "Binary Return": 1,
         "Predicted Value": 1,
         "_deepnote_index_column": "2019-12-15"
        },
        {
         "Binary Return": 0,
         "Predicted Value": 1,
         "_deepnote_index_column": "2019-12-16"
        },
        {
         "Binary Return": 0,
         "Predicted Value": 1,
         "_deepnote_index_column": "2019-12-17"
        },
        {
         "Binary Return": 1,
         "Predicted Value": 1,
         "_deepnote_index_column": "2019-12-18"
        },
        {
         "Binary Return": 0,
         "Predicted Value": 1,
         "_deepnote_index_column": "2019-12-19"
        },
        {
         "Binary Return": 1,
         "Predicted Value": 1,
         "_deepnote_index_column": "2019-12-20"
        },
        {
         "Binary Return": 0,
         "Predicted Value": 1,
         "_deepnote_index_column": "2019-12-21"
        },
        {
         "Binary Return": 1,
         "Predicted Value": 1,
         "_deepnote_index_column": "2019-12-22"
        },
        {
         "Binary Return": 0,
         "Predicted Value": 1,
         "_deepnote_index_column": "2019-12-23"
        },
        {
         "Binary Return": 1,
         "Predicted Value": 1,
         "_deepnote_index_column": "2019-12-24"
        },
        {
         "Binary Return": 0,
         "Predicted Value": 1,
         "_deepnote_index_column": "2019-12-25"
        },
        {
         "Binary Return": 0,
         "Predicted Value": 1,
         "_deepnote_index_column": "2019-12-26"
        },
        {
         "Binary Return": 1,
         "Predicted Value": -1,
         "_deepnote_index_column": "2019-12-27"
        },
        {
         "Binary Return": 1,
         "Predicted Value": 1,
         "_deepnote_index_column": "2019-12-28"
        },
        {
         "Binary Return": 1,
         "Predicted Value": 1,
         "_deepnote_index_column": "2019-12-29"
        },
        {
         "Binary Return": 0,
         "Predicted Value": 1,
         "_deepnote_index_column": "2019-12-30"
        },
        {
         "Binary Return": 0,
         "Predicted Value": 1,
         "_deepnote_index_column": "2019-12-31"
        },
        {
         "Binary Return": 0,
         "Predicted Value": 1,
         "_deepnote_index_column": "2020-01-01"
        },
        {
         "Binary Return": 0,
         "Predicted Value": 1,
         "_deepnote_index_column": "2020-01-02"
        },
        {
         "Binary Return": 1,
         "Predicted Value": 1,
         "_deepnote_index_column": "2020-01-03"
        },
        {
         "Binary Return": 1,
         "Predicted Value": 1,
         "_deepnote_index_column": "2020-01-04"
        },
        {
         "Binary Return": 1,
         "Predicted Value": 1,
         "_deepnote_index_column": "2020-01-05"
        },
        {
         "Binary Return": 1,
         "Predicted Value": 1,
         "_deepnote_index_column": "2020-01-06"
        },
        {
         "Binary Return": 0,
         "Predicted Value": -1,
         "_deepnote_index_column": "2020-01-07"
        },
        {
         "Binary Return": 0,
         "Predicted Value": 1,
         "_deepnote_index_column": "2020-01-08"
        },
        {
         "Binary Return": 0,
         "Predicted Value": 1,
         "_deepnote_index_column": "2020-01-09"
        },
        {
         "Binary Return": 1,
         "Predicted Value": 1,
         "_deepnote_index_column": "2020-01-10"
        },
        {
         "Binary Return": 0,
         "Predicted Value": 1,
         "_deepnote_index_column": "2020-01-11"
        },
        {
         "Binary Return": 1,
         "Predicted Value": 1,
         "_deepnote_index_column": "2020-01-12"
        },
        {
         "Binary Return": 0,
         "Predicted Value": 1,
         "_deepnote_index_column": "2020-01-13"
        },
        {
         "Binary Return": 1,
         "Predicted Value": 1,
         "_deepnote_index_column": "2020-01-14"
        },
        {
         "Binary Return": 0,
         "Predicted Value": 1,
         "_deepnote_index_column": "2020-01-15"
        },
        {
         "Binary Return": 0,
         "Predicted Value": 1,
         "_deepnote_index_column": "2020-01-16"
        },
        {
         "Binary Return": 1,
         "Predicted Value": 1,
         "_deepnote_index_column": "2020-01-17"
        },
        {
         "Binary Return": 1,
         "Predicted Value": 1,
         "_deepnote_index_column": "2020-01-18"
        },
        {
         "Binary Return": 0,
         "Predicted Value": 1,
         "_deepnote_index_column": "2020-01-19"
        },
        {
         "Binary Return": 0,
         "Predicted Value": 1,
         "_deepnote_index_column": "2020-01-20"
        },
        {
         "Binary Return": 1,
         "Predicted Value": 1,
         "_deepnote_index_column": "2020-01-21"
        },
        {
         "Binary Return": 0,
         "Predicted Value": 1,
         "_deepnote_index_column": "2020-01-22"
        },
        {
         "Binary Return": 0,
         "Predicted Value": 1,
         "_deepnote_index_column": "2020-01-23"
        },
        {
         "Binary Return": 0,
         "Predicted Value": 1,
         "_deepnote_index_column": "2020-01-24"
        },
        {
         "Binary Return": 0,
         "Predicted Value": 1,
         "_deepnote_index_column": "2020-01-25"
        },
        {
         "Binary Return": 1,
         "Predicted Value": 1,
         "_deepnote_index_column": "2020-01-26"
        },
        {
         "Binary Return": 1,
         "Predicted Value": 1,
         "_deepnote_index_column": "2020-01-27"
        },
        {
         "Binary Return": 1,
         "Predicted Value": 1,
         "_deepnote_index_column": "2020-01-28"
        },
        {
         "Binary Return": 0,
         "Predicted Value": 1,
         "_deepnote_index_column": "2020-01-29"
        },
        {
         "Binary Return": 1,
         "Predicted Value": 1,
         "_deepnote_index_column": "2020-01-30"
        },
        {
         "Binary Return": 0,
         "Predicted Value": -1,
         "_deepnote_index_column": "2020-01-31"
        },
        {
         "Binary Return": 1,
         "Predicted Value": 1,
         "_deepnote_index_column": "2020-02-01"
        },
        {
         "Binary Return": 1,
         "Predicted Value": 1,
         "_deepnote_index_column": "2020-02-02"
        },
        {
         "Binary Return": 1,
         "Predicted Value": 1,
         "_deepnote_index_column": "2020-02-03"
        },
        {
         "Binary Return": 1,
         "Predicted Value": 1,
         "_deepnote_index_column": "2020-02-04"
        },
        {
         "Binary Return": 1,
         "Predicted Value": 1,
         "_deepnote_index_column": "2020-02-05"
        },
        {
         "Binary Return": 1,
         "Predicted Value": 1,
         "_deepnote_index_column": "2020-02-06"
        },
        {
         "Binary Return": 0,
         "Predicted Value": 1,
         "_deepnote_index_column": "2020-02-07"
        },
        {
         "Binary Return": 0,
         "Predicted Value": 1,
         "_deepnote_index_column": "2020-02-08"
        },
        {
         "Binary Return": 1,
         "Predicted Value": 1,
         "_deepnote_index_column": "2020-02-09"
        },
        {
         "Binary Return": 0,
         "Predicted Value": 1,
         "_deepnote_index_column": "2020-02-10"
        },
        {
         "Binary Return": 1,
         "Predicted Value": 1,
         "_deepnote_index_column": "2020-02-11"
        },
        {
         "Binary Return": 1,
         "Predicted Value": 1,
         "_deepnote_index_column": "2020-02-12"
        },
        {
         "Binary Return": 1,
         "Predicted Value": 1,
         "_deepnote_index_column": "2020-02-13"
        },
        {
         "Binary Return": 1,
         "Predicted Value": 1,
         "_deepnote_index_column": "2020-02-14"
        },
        {
         "Binary Return": 0,
         "Predicted Value": 1,
         "_deepnote_index_column": "2020-02-15"
        },
        {
         "Binary Return": 0,
         "Predicted Value": 1,
         "_deepnote_index_column": "2020-02-16"
        },
        {
         "Binary Return": 0,
         "Predicted Value": 1,
         "_deepnote_index_column": "2020-02-17"
        },
        {
         "Binary Return": 1,
         "Predicted Value": 1,
         "_deepnote_index_column": "2020-02-18"
        },
        {
         "Binary Return": 0,
         "Predicted Value": 1,
         "_deepnote_index_column": "2020-02-19"
        },
        {
         "Binary Return": 0,
         "Predicted Value": 1,
         "_deepnote_index_column": "2020-02-20"
        },
        {
         "Binary Return": 1,
         "Predicted Value": 1,
         "_deepnote_index_column": "2020-02-21"
        },
        {
         "Binary Return": 1,
         "Predicted Value": 1,
         "_deepnote_index_column": "2020-02-22"
        },
        {
         "Binary Return": 1,
         "Predicted Value": 1,
         "_deepnote_index_column": "2020-02-23"
        },
        {
         "Binary Return": 0,
         "Predicted Value": 1,
         "_deepnote_index_column": "2020-02-24"
        },
        {
         "Binary Return": 0,
         "Predicted Value": 1,
         "_deepnote_index_column": "2020-02-25"
        },
        {
         "Binary Return": 0,
         "Predicted Value": 1,
         "_deepnote_index_column": "2020-02-26"
        },
        {
         "Binary Return": 1,
         "Predicted Value": 1,
         "_deepnote_index_column": "2020-02-27"
        },
        {
         "Binary Return": 0,
         "Predicted Value": 1,
         "_deepnote_index_column": "2020-02-28"
        },
        {
         "Binary Return": 0,
         "Predicted Value": 1,
         "_deepnote_index_column": "2020-02-29"
        },
        {
         "Binary Return": 0,
         "Predicted Value": 1,
         "_deepnote_index_column": "2020-03-01"
        },
        {
         "Binary Return": 1,
         "Predicted Value": 1,
         "_deepnote_index_column": "2020-03-02"
        },
        {
         "Binary Return": 0,
         "Predicted Value": 1,
         "_deepnote_index_column": "2020-03-03"
        },
        {
         "Binary Return": 1,
         "Predicted Value": 1,
         "_deepnote_index_column": "2020-03-04"
        },
        {
         "Binary Return": 1,
         "Predicted Value": 1,
         "_deepnote_index_column": "2020-03-05"
        },
        {
         "Binary Return": 1,
         "Predicted Value": 1,
         "_deepnote_index_column": "2020-03-06"
        },
        {
         "Binary Return": 0,
         "Predicted Value": 1,
         "_deepnote_index_column": "2020-03-07"
        },
        {
         "Binary Return": 0,
         "Predicted Value": 1,
         "_deepnote_index_column": "2020-03-08"
        },
        {
         "Binary Return": 1,
         "Predicted Value": 1,
         "_deepnote_index_column": "2020-03-09"
        },
        {
         "Binary Return": 1,
         "Predicted Value": 1,
         "_deepnote_index_column": "2020-03-10"
        },
        {
         "Binary Return": 0,
         "Predicted Value": 1,
         "_deepnote_index_column": "2020-03-11"
        },
        {
         "Binary Return": 0,
         "Predicted Value": 1,
         "_deepnote_index_column": "2020-03-12"
        },
        {
         "Binary Return": 1,
         "Predicted Value": 1,
         "_deepnote_index_column": "2020-03-13"
        },
        {
         "Binary Return": 0,
         "Predicted Value": 1,
         "_deepnote_index_column": "2020-03-14"
        },
        {
         "Binary Return": 1,
         "Predicted Value": 1,
         "_deepnote_index_column": "2020-03-15"
        },
        {
         "Binary Return": 0,
         "Predicted Value": 1,
         "_deepnote_index_column": "2020-03-16"
        },
        {
         "Binary Return": 1,
         "Predicted Value": 1,
         "_deepnote_index_column": "2020-03-17"
        },
        {
         "Binary Return": 0,
         "Predicted Value": 1,
         "_deepnote_index_column": "2020-03-18"
        },
        {
         "Binary Return": 1,
         "Predicted Value": 1,
         "_deepnote_index_column": "2020-03-19"
        },
        {
         "Binary Return": 0,
         "Predicted Value": 1,
         "_deepnote_index_column": "2020-03-20"
        },
        {
         "Binary Return": 1,
         "Predicted Value": 1,
         "_deepnote_index_column": "2020-03-21"
        },
        {
         "Binary Return": 0,
         "Predicted Value": 1,
         "_deepnote_index_column": "2020-03-22"
        },
        {
         "Binary Return": 1,
         "Predicted Value": -1,
         "_deepnote_index_column": "2020-03-23"
        },
        {
         "Binary Return": 1,
         "Predicted Value": 1,
         "_deepnote_index_column": "2020-03-24"
        },
        {
         "Binary Return": 0,
         "Predicted Value": 1,
         "_deepnote_index_column": "2020-03-25"
        },
        {
         "Binary Return": 1,
         "Predicted Value": 1,
         "_deepnote_index_column": "2020-03-26"
        },
        {
         "Binary Return": 1,
         "Predicted Value": 1,
         "_deepnote_index_column": "2020-03-27"
        },
        {
         "Binary Return": 0,
         "Predicted Value": 1,
         "_deepnote_index_column": "2020-03-28"
        },
        {
         "Binary Return": 0,
         "Predicted Value": 1,
         "_deepnote_index_column": "2020-03-29"
        },
        {
         "Binary Return": 1,
         "Predicted Value": 1,
         "_deepnote_index_column": "2020-03-30"
        },
        {
         "Binary Return": 1,
         "Predicted Value": 1,
         "_deepnote_index_column": "2020-03-31"
        },
        {
         "Binary Return": 1,
         "Predicted Value": 1,
         "_deepnote_index_column": "2020-04-01"
        },
        {
         "Binary Return": 1,
         "Predicted Value": 1,
         "_deepnote_index_column": "2020-04-02"
        },
        {
         "Binary Return": 1,
         "Predicted Value": 1,
         "_deepnote_index_column": "2020-04-03"
        },
        {
         "Binary Return": 1,
         "Predicted Value": 1,
         "_deepnote_index_column": "2020-04-04"
        },
        {
         "Binary Return": 0,
         "Predicted Value": 1,
         "_deepnote_index_column": "2020-04-05"
        },
        {
         "Binary Return": 1,
         "Predicted Value": -1,
         "_deepnote_index_column": "2020-04-06"
        },
        {
         "Binary Return": 0,
         "Predicted Value": 1,
         "_deepnote_index_column": "2020-04-07"
        },
        {
         "Binary Return": 1,
         "Predicted Value": 1,
         "_deepnote_index_column": "2020-04-08"
        },
        {
         "Binary Return": 0,
         "Predicted Value": 1,
         "_deepnote_index_column": "2020-04-09"
        },
        {
         "Binary Return": 0,
         "Predicted Value": 1,
         "_deepnote_index_column": "2020-04-10"
        },
        {
         "Binary Return": 1,
         "Predicted Value": 1,
         "_deepnote_index_column": "2020-04-11"
        },
        {
         "Binary Return": 1,
         "Predicted Value": 1,
         "_deepnote_index_column": "2020-04-12"
        },
        {
         "Binary Return": 0,
         "Predicted Value": 1,
         "_deepnote_index_column": "2020-04-13"
        },
        {
         "Binary Return": 0,
         "Predicted Value": 1,
         "_deepnote_index_column": "2020-04-14"
        },
        {
         "Binary Return": 0,
         "Predicted Value": 1,
         "_deepnote_index_column": "2020-04-15"
        },
        {
         "Binary Return": 1,
         "Predicted Value": 1,
         "_deepnote_index_column": "2020-04-16"
        },
        {
         "Binary Return": 1,
         "Predicted Value": 1,
         "_deepnote_index_column": "2020-04-18"
        },
        {
         "Binary Return": 0,
         "Predicted Value": 1,
         "_deepnote_index_column": "2020-04-19"
        },
        {
         "Binary Return": 0,
         "Predicted Value": 1,
         "_deepnote_index_column": "2020-04-20"
        },
        {
         "Binary Return": 1,
         "Predicted Value": 1,
         "_deepnote_index_column": "2020-04-21"
        },
        {
         "Binary Return": 1,
         "Predicted Value": 1,
         "_deepnote_index_column": "2020-04-22"
        },
        {
         "Binary Return": 1,
         "Predicted Value": 1,
         "_deepnote_index_column": "2020-04-23"
        },
        {
         "Binary Return": 1,
         "Predicted Value": 1,
         "_deepnote_index_column": "2020-04-24"
        },
        {
         "Binary Return": 1,
         "Predicted Value": 1,
         "_deepnote_index_column": "2020-04-25"
        },
        {
         "Binary Return": 1,
         "Predicted Value": 1,
         "_deepnote_index_column": "2020-04-26"
        },
        {
         "Binary Return": 1,
         "Predicted Value": 1,
         "_deepnote_index_column": "2020-04-27"
        },
        {
         "Binary Return": 1,
         "Predicted Value": 1,
         "_deepnote_index_column": "2020-04-28"
        },
        {
         "Binary Return": 1,
         "Predicted Value": 1,
         "_deepnote_index_column": "2020-04-29"
        },
        {
         "Binary Return": 0,
         "Predicted Value": 1,
         "_deepnote_index_column": "2020-04-30"
        },
        {
         "Binary Return": 1,
         "Predicted Value": 1,
         "_deepnote_index_column": "2020-05-01"
        },
        {
         "Binary Return": 1,
         "Predicted Value": 1,
         "_deepnote_index_column": "2020-05-02"
        },
        {
         "Binary Return": 0,
         "Predicted Value": 1,
         "_deepnote_index_column": "2020-05-03"
        },
        {
         "Binary Return": 0,
         "Predicted Value": 1,
         "_deepnote_index_column": "2020-05-04"
        },
        {
         "Binary Return": 0,
         "Predicted Value": 1,
         "_deepnote_index_column": "2020-05-05"
        },
        {
         "Binary Return": 0,
         "Predicted Value": 1,
         "_deepnote_index_column": "2020-05-06"
        },
        {
         "Binary Return": 1,
         "Predicted Value": 1,
         "_deepnote_index_column": "2020-05-07"
        },
        {
         "Binary Return": 1,
         "Predicted Value": 1,
         "_deepnote_index_column": "2020-05-08"
        },
        {
         "Binary Return": 0,
         "Predicted Value": 1,
         "_deepnote_index_column": "2020-05-09"
        }
       ],
       "rows_bottom": [
        {
         "Binary Return": 0,
         "Predicted Value": 1,
         "_deepnote_index_column": "2020-12-04"
        },
        {
         "Binary Return": 1,
         "Predicted Value": 1,
         "_deepnote_index_column": "2020-12-05"
        },
        {
         "Binary Return": 1,
         "Predicted Value": 1,
         "_deepnote_index_column": "2020-12-06"
        },
        {
         "Binary Return": 0,
         "Predicted Value": 1,
         "_deepnote_index_column": "2020-12-07"
        },
        {
         "Binary Return": 0,
         "Predicted Value": 1,
         "_deepnote_index_column": "2020-12-08"
        },
        {
         "Binary Return": 1,
         "Predicted Value": 1,
         "_deepnote_index_column": "2020-12-09"
        },
        {
         "Binary Return": 0,
         "Predicted Value": 1,
         "_deepnote_index_column": "2020-12-10"
        },
        {
         "Binary Return": 0,
         "Predicted Value": 1,
         "_deepnote_index_column": "2020-12-11"
        },
        {
         "Binary Return": 0,
         "Predicted Value": 1,
         "_deepnote_index_column": "2020-12-12"
        },
        {
         "Binary Return": 1,
         "Predicted Value": 1,
         "_deepnote_index_column": "2020-12-13"
        },
        {
         "Binary Return": 0,
         "Predicted Value": 1,
         "_deepnote_index_column": "2020-12-14"
        },
        {
         "Binary Return": 0,
         "Predicted Value": 1,
         "_deepnote_index_column": "2020-12-15"
        },
        {
         "Binary Return": 1,
         "Predicted Value": 1,
         "_deepnote_index_column": "2020-12-16"
        },
        {
         "Binary Return": 1,
         "Predicted Value": 1,
         "_deepnote_index_column": "2020-12-17"
        },
        {
         "Binary Return": 1,
         "Predicted Value": 1,
         "_deepnote_index_column": "2020-12-18"
        },
        {
         "Binary Return": 0,
         "Predicted Value": 1,
         "_deepnote_index_column": "2020-12-19"
        },
        {
         "Binary Return": 0,
         "Predicted Value": 1,
         "_deepnote_index_column": "2020-12-20"
        },
        {
         "Binary Return": 0,
         "Predicted Value": 1,
         "_deepnote_index_column": "2020-12-21"
        },
        {
         "Binary Return": 0,
         "Predicted Value": 1,
         "_deepnote_index_column": "2020-12-22"
        },
        {
         "Binary Return": 0,
         "Predicted Value": 1,
         "_deepnote_index_column": "2020-12-23"
        },
        {
         "Binary Return": 1,
         "Predicted Value": 1,
         "_deepnote_index_column": "2020-12-24"
        },
        {
         "Binary Return": 0,
         "Predicted Value": 1,
         "_deepnote_index_column": "2020-12-25"
        },
        {
         "Binary Return": 0,
         "Predicted Value": 1,
         "_deepnote_index_column": "2020-12-26"
        },
        {
         "Binary Return": 0,
         "Predicted Value": 1,
         "_deepnote_index_column": "2020-12-27"
        },
        {
         "Binary Return": 0,
         "Predicted Value": 1,
         "_deepnote_index_column": "2020-12-28"
        },
        {
         "Binary Return": 0,
         "Predicted Value": 1,
         "_deepnote_index_column": "2020-12-29"
        },
        {
         "Binary Return": 0,
         "Predicted Value": 1,
         "_deepnote_index_column": "2020-12-30"
        },
        {
         "Binary Return": 1,
         "Predicted Value": 1,
         "_deepnote_index_column": "2020-12-31"
        },
        {
         "Binary Return": 1,
         "Predicted Value": 1,
         "_deepnote_index_column": "2021-01-01"
        },
        {
         "Binary Return": 0,
         "Predicted Value": 1,
         "_deepnote_index_column": "2021-01-02"
        },
        {
         "Binary Return": 1,
         "Predicted Value": 1,
         "_deepnote_index_column": "2021-01-03"
        },
        {
         "Binary Return": 1,
         "Predicted Value": 1,
         "_deepnote_index_column": "2021-01-04"
        },
        {
         "Binary Return": 0,
         "Predicted Value": 1,
         "_deepnote_index_column": "2021-01-05"
        },
        {
         "Binary Return": 1,
         "Predicted Value": 1,
         "_deepnote_index_column": "2021-01-06"
        },
        {
         "Binary Return": 1,
         "Predicted Value": 1,
         "_deepnote_index_column": "2021-01-07"
        },
        {
         "Binary Return": 0,
         "Predicted Value": -1,
         "_deepnote_index_column": "2021-01-08"
        },
        {
         "Binary Return": 1,
         "Predicted Value": 1,
         "_deepnote_index_column": "2021-01-09"
        },
        {
         "Binary Return": 0,
         "Predicted Value": 1,
         "_deepnote_index_column": "2021-01-10"
        },
        {
         "Binary Return": 0,
         "Predicted Value": 1,
         "_deepnote_index_column": "2021-01-11"
        },
        {
         "Binary Return": 1,
         "Predicted Value": 1,
         "_deepnote_index_column": "2021-01-12"
        },
        {
         "Binary Return": 1,
         "Predicted Value": 1,
         "_deepnote_index_column": "2021-01-13"
        },
        {
         "Binary Return": 0,
         "Predicted Value": 1,
         "_deepnote_index_column": "2021-01-14"
        },
        {
         "Binary Return": 0,
         "Predicted Value": 1,
         "_deepnote_index_column": "2021-01-15"
        },
        {
         "Binary Return": 0,
         "Predicted Value": 1,
         "_deepnote_index_column": "2021-01-16"
        },
        {
         "Binary Return": 0,
         "Predicted Value": 1,
         "_deepnote_index_column": "2021-01-17"
        },
        {
         "Binary Return": 1,
         "Predicted Value": 1,
         "_deepnote_index_column": "2021-01-18"
        },
        {
         "Binary Return": 1,
         "Predicted Value": 1,
         "_deepnote_index_column": "2021-01-19"
        },
        {
         "Binary Return": 1,
         "Predicted Value": 1,
         "_deepnote_index_column": "2021-01-20"
        },
        {
         "Binary Return": 0,
         "Predicted Value": 1,
         "_deepnote_index_column": "2021-01-21"
        },
        {
         "Binary Return": 1,
         "Predicted Value": 1,
         "_deepnote_index_column": "2021-01-22"
        },
        {
         "Binary Return": 0,
         "Predicted Value": 1,
         "_deepnote_index_column": "2021-01-23"
        },
        {
         "Binary Return": 1,
         "Predicted Value": 1,
         "_deepnote_index_column": "2021-01-24"
        },
        {
         "Binary Return": 0,
         "Predicted Value": 1,
         "_deepnote_index_column": "2021-01-25"
        },
        {
         "Binary Return": 0,
         "Predicted Value": 1,
         "_deepnote_index_column": "2021-01-26"
        },
        {
         "Binary Return": 0,
         "Predicted Value": 1,
         "_deepnote_index_column": "2021-01-27"
        },
        {
         "Binary Return": 1,
         "Predicted Value": 1,
         "_deepnote_index_column": "2021-01-28"
        },
        {
         "Binary Return": 1,
         "Predicted Value": 1,
         "_deepnote_index_column": "2021-01-29"
        },
        {
         "Binary Return": 1,
         "Predicted Value": 1,
         "_deepnote_index_column": "2021-01-30"
        },
        {
         "Binary Return": 1,
         "Predicted Value": -1,
         "_deepnote_index_column": "2021-01-31"
        },
        {
         "Binary Return": 0,
         "Predicted Value": 1,
         "_deepnote_index_column": "2021-02-01"
        },
        {
         "Binary Return": 0,
         "Predicted Value": 1,
         "_deepnote_index_column": "2021-02-02"
        },
        {
         "Binary Return": 1,
         "Predicted Value": 1,
         "_deepnote_index_column": "2021-02-03"
        },
        {
         "Binary Return": 1,
         "Predicted Value": 1,
         "_deepnote_index_column": "2021-02-04"
        },
        {
         "Binary Return": 1,
         "Predicted Value": 1,
         "_deepnote_index_column": "2021-02-05"
        },
        {
         "Binary Return": 0,
         "Predicted Value": 1,
         "_deepnote_index_column": "2021-02-06"
        },
        {
         "Binary Return": 0,
         "Predicted Value": 1,
         "_deepnote_index_column": "2021-02-07"
        },
        {
         "Binary Return": 1,
         "Predicted Value": 1,
         "_deepnote_index_column": "2021-02-08"
        },
        {
         "Binary Return": 1,
         "Predicted Value": 1,
         "_deepnote_index_column": "2021-02-09"
        },
        {
         "Binary Return": 1,
         "Predicted Value": 1,
         "_deepnote_index_column": "2021-02-10"
        },
        {
         "Binary Return": 1,
         "Predicted Value": 1,
         "_deepnote_index_column": "2021-02-11"
        },
        {
         "Binary Return": 1,
         "Predicted Value": 1,
         "_deepnote_index_column": "2021-02-12"
        },
        {
         "Binary Return": 1,
         "Predicted Value": 1,
         "_deepnote_index_column": "2021-02-13"
        },
        {
         "Binary Return": 0,
         "Predicted Value": 1,
         "_deepnote_index_column": "2021-02-14"
        },
        {
         "Binary Return": 0,
         "Predicted Value": 1,
         "_deepnote_index_column": "2021-02-15"
        },
        {
         "Binary Return": 0,
         "Predicted Value": 1,
         "_deepnote_index_column": "2021-02-16"
        },
        {
         "Binary Return": 1,
         "Predicted Value": 1,
         "_deepnote_index_column": "2021-02-17"
        },
        {
         "Binary Return": 0,
         "Predicted Value": 1,
         "_deepnote_index_column": "2021-02-18"
        },
        {
         "Binary Return": 1,
         "Predicted Value": 1,
         "_deepnote_index_column": "2021-02-19"
        },
        {
         "Binary Return": 0,
         "Predicted Value": 1,
         "_deepnote_index_column": "2021-02-20"
        },
        {
         "Binary Return": 1,
         "Predicted Value": 1,
         "_deepnote_index_column": "2021-02-21"
        },
        {
         "Binary Return": 1,
         "Predicted Value": 1,
         "_deepnote_index_column": "2021-02-22"
        },
        {
         "Binary Return": 0,
         "Predicted Value": 1,
         "_deepnote_index_column": "2021-02-23"
        },
        {
         "Binary Return": 0,
         "Predicted Value": 1,
         "_deepnote_index_column": "2021-02-24"
        },
        {
         "Binary Return": 0,
         "Predicted Value": 1,
         "_deepnote_index_column": "2021-02-25"
        },
        {
         "Binary Return": 0,
         "Predicted Value": 1,
         "_deepnote_index_column": "2021-02-26"
        },
        {
         "Binary Return": 1,
         "Predicted Value": 1,
         "_deepnote_index_column": "2021-02-27"
        },
        {
         "Binary Return": 0,
         "Predicted Value": 1,
         "_deepnote_index_column": "2021-02-28"
        },
        {
         "Binary Return": 1,
         "Predicted Value": 1,
         "_deepnote_index_column": "2021-03-01"
        },
        {
         "Binary Return": 0,
         "Predicted Value": 1,
         "_deepnote_index_column": "2021-03-02"
        },
        {
         "Binary Return": 1,
         "Predicted Value": 1,
         "_deepnote_index_column": "2021-03-03"
        },
        {
         "Binary Return": 1,
         "Predicted Value": 1,
         "_deepnote_index_column": "2021-03-04"
        },
        {
         "Binary Return": 0,
         "Predicted Value": 1,
         "_deepnote_index_column": "2021-03-05"
        },
        {
         "Binary Return": 1,
         "Predicted Value": 1,
         "_deepnote_index_column": "2021-03-06"
        },
        {
         "Binary Return": 1,
         "Predicted Value": 1,
         "_deepnote_index_column": "2021-03-07"
        },
        {
         "Binary Return": 1,
         "Predicted Value": 1,
         "_deepnote_index_column": "2021-03-08"
        },
        {
         "Binary Return": 1,
         "Predicted Value": 1,
         "_deepnote_index_column": "2021-03-09"
        },
        {
         "Binary Return": 0,
         "Predicted Value": 1,
         "_deepnote_index_column": "2021-03-10"
        },
        {
         "Binary Return": 0,
         "Predicted Value": 1,
         "_deepnote_index_column": "2021-03-11"
        },
        {
         "Binary Return": 0,
         "Predicted Value": 1,
         "_deepnote_index_column": "2021-03-12"
        },
        {
         "Binary Return": 1,
         "Predicted Value": 1,
         "_deepnote_index_column": "2021-03-13"
        },
        {
         "Binary Return": 0,
         "Predicted Value": 1,
         "_deepnote_index_column": "2021-03-14"
        },
        {
         "Binary Return": 0,
         "Predicted Value": 1,
         "_deepnote_index_column": "2021-03-15"
        },
        {
         "Binary Return": 1,
         "Predicted Value": 1,
         "_deepnote_index_column": "2021-03-16"
        },
        {
         "Binary Return": 1,
         "Predicted Value": 1,
         "_deepnote_index_column": "2021-03-17"
        },
        {
         "Binary Return": 1,
         "Predicted Value": 1,
         "_deepnote_index_column": "2021-03-18"
        },
        {
         "Binary Return": 0,
         "Predicted Value": -1,
         "_deepnote_index_column": "2021-03-19"
        },
        {
         "Binary Return": 1,
         "Predicted Value": 1,
         "_deepnote_index_column": "2021-03-20"
        },
        {
         "Binary Return": 0,
         "Predicted Value": -1,
         "_deepnote_index_column": "2021-03-21"
        },
        {
         "Binary Return": 1,
         "Predicted Value": 1,
         "_deepnote_index_column": "2021-03-22"
        },
        {
         "Binary Return": 1,
         "Predicted Value": 1,
         "_deepnote_index_column": "2021-03-23"
        },
        {
         "Binary Return": 0,
         "Predicted Value": 1,
         "_deepnote_index_column": "2021-03-24"
        },
        {
         "Binary Return": 1,
         "Predicted Value": 1,
         "_deepnote_index_column": "2021-03-25"
        },
        {
         "Binary Return": 1,
         "Predicted Value": 1,
         "_deepnote_index_column": "2021-03-26"
        },
        {
         "Binary Return": 0,
         "Predicted Value": 1,
         "_deepnote_index_column": "2021-03-27"
        },
        {
         "Binary Return": 1,
         "Predicted Value": 1,
         "_deepnote_index_column": "2021-03-28"
        },
        {
         "Binary Return": 1,
         "Predicted Value": 1,
         "_deepnote_index_column": "2021-03-29"
        },
        {
         "Binary Return": 0,
         "Predicted Value": 1,
         "_deepnote_index_column": "2021-03-30"
        },
        {
         "Binary Return": 1,
         "Predicted Value": 1,
         "_deepnote_index_column": "2021-03-31"
        },
        {
         "Binary Return": 1,
         "Predicted Value": 1,
         "_deepnote_index_column": "2021-04-01"
        },
        {
         "Binary Return": 1,
         "Predicted Value": 1,
         "_deepnote_index_column": "2021-04-02"
        },
        {
         "Binary Return": 0,
         "Predicted Value": 1,
         "_deepnote_index_column": "2021-04-03"
        },
        {
         "Binary Return": 1,
         "Predicted Value": 1,
         "_deepnote_index_column": "2021-04-04"
        },
        {
         "Binary Return": 1,
         "Predicted Value": 1,
         "_deepnote_index_column": "2021-04-05"
        },
        {
         "Binary Return": 1,
         "Predicted Value": 1,
         "_deepnote_index_column": "2021-04-06"
        },
        {
         "Binary Return": 0,
         "Predicted Value": 1,
         "_deepnote_index_column": "2021-04-07"
        },
        {
         "Binary Return": 1,
         "Predicted Value": 1,
         "_deepnote_index_column": "2021-04-08"
        },
        {
         "Binary Return": 0,
         "Predicted Value": 1,
         "_deepnote_index_column": "2021-04-09"
        },
        {
         "Binary Return": 1,
         "Predicted Value": 1,
         "_deepnote_index_column": "2021-04-10"
        },
        {
         "Binary Return": 0,
         "Predicted Value": 1,
         "_deepnote_index_column": "2021-04-11"
        },
        {
         "Binary Return": 1,
         "Predicted Value": 1,
         "_deepnote_index_column": "2021-04-12"
        },
        {
         "Binary Return": 1,
         "Predicted Value": 1,
         "_deepnote_index_column": "2021-04-13"
        },
        {
         "Binary Return": 1,
         "Predicted Value": 1,
         "_deepnote_index_column": "2021-04-14"
        },
        {
         "Binary Return": 0,
         "Predicted Value": 1,
         "_deepnote_index_column": "2021-04-15"
        },
        {
         "Binary Return": 0,
         "Predicted Value": 1,
         "_deepnote_index_column": "2021-04-16"
        },
        {
         "Binary Return": 1,
         "Predicted Value": 1,
         "_deepnote_index_column": "2021-04-17"
        },
        {
         "Binary Return": 0,
         "Predicted Value": 1,
         "_deepnote_index_column": "2021-04-18"
        },
        {
         "Binary Return": 0,
         "Predicted Value": 1,
         "_deepnote_index_column": "2021-04-19"
        },
        {
         "Binary Return": 1,
         "Predicted Value": 1,
         "_deepnote_index_column": "2021-04-20"
        },
        {
         "Binary Return": 0,
         "Predicted Value": 1,
         "_deepnote_index_column": "2021-04-21"
        },
        {
         "Binary Return": 0,
         "Predicted Value": 1,
         "_deepnote_index_column": "2021-04-22"
        },
        {
         "Binary Return": 1,
         "Predicted Value": 1,
         "_deepnote_index_column": "2021-04-23"
        },
        {
         "Binary Return": 0,
         "Predicted Value": 1,
         "_deepnote_index_column": "2021-04-24"
        },
        {
         "Binary Return": 0,
         "Predicted Value": 1,
         "_deepnote_index_column": "2021-04-25"
        },
        {
         "Binary Return": 1,
         "Predicted Value": 1,
         "_deepnote_index_column": "2021-04-26"
        },
        {
         "Binary Return": 1,
         "Predicted Value": 1,
         "_deepnote_index_column": "2021-04-27"
        },
        {
         "Binary Return": 0,
         "Predicted Value": 1,
         "_deepnote_index_column": "2021-04-28"
        },
        {
         "Binary Return": 1,
         "Predicted Value": 1,
         "_deepnote_index_column": "2021-04-29"
        },
        {
         "Binary Return": 1,
         "Predicted Value": 1,
         "_deepnote_index_column": "2021-04-30"
        },
        {
         "Binary Return": 1,
         "Predicted Value": 1,
         "_deepnote_index_column": "2021-05-01"
        },
        {
         "Binary Return": 0,
         "Predicted Value": -1,
         "_deepnote_index_column": "2021-05-02"
        },
        {
         "Binary Return": 0,
         "Predicted Value": 1,
         "_deepnote_index_column": "2021-05-03"
        },
        {
         "Binary Return": 0,
         "Predicted Value": 1,
         "_deepnote_index_column": "2021-05-04"
        },
        {
         "Binary Return": 1,
         "Predicted Value": 1,
         "_deepnote_index_column": "2021-05-05"
        },
        {
         "Binary Return": 0,
         "Predicted Value": 1,
         "_deepnote_index_column": "2021-05-06"
        },
        {
         "Binary Return": 0,
         "Predicted Value": -1,
         "_deepnote_index_column": "2021-05-07"
        },
        {
         "Binary Return": 0,
         "Predicted Value": 1,
         "_deepnote_index_column": "2021-05-08"
        },
        {
         "Binary Return": 0,
         "Predicted Value": 1,
         "_deepnote_index_column": "2021-05-09"
        },
        {
         "Binary Return": 0,
         "Predicted Value": 1,
         "_deepnote_index_column": "2021-05-10"
        },
        {
         "Binary Return": 1,
         "Predicted Value": 1,
         "_deepnote_index_column": "2021-05-11"
        },
        {
         "Binary Return": 0,
         "Predicted Value": 1,
         "_deepnote_index_column": "2021-05-12"
        },
        {
         "Binary Return": 1,
         "Predicted Value": 1,
         "_deepnote_index_column": "2021-05-13"
        },
        {
         "Binary Return": 1,
         "Predicted Value": 1,
         "_deepnote_index_column": "2021-05-14"
        },
        {
         "Binary Return": 1,
         "Predicted Value": 1,
         "_deepnote_index_column": "2021-05-15"
        },
        {
         "Binary Return": 0,
         "Predicted Value": 1,
         "_deepnote_index_column": "2021-05-16"
        },
        {
         "Binary Return": 1,
         "Predicted Value": 1,
         "_deepnote_index_column": "2021-05-17"
        },
        {
         "Binary Return": 1,
         "Predicted Value": 1,
         "_deepnote_index_column": "2021-05-18"
        },
        {
         "Binary Return": 0,
         "Predicted Value": 1,
         "_deepnote_index_column": "2021-05-19"
        },
        {
         "Binary Return": 1,
         "Predicted Value": 1,
         "_deepnote_index_column": "2021-05-20"
        },
        {
         "Binary Return": 0,
         "Predicted Value": 1,
         "_deepnote_index_column": "2021-05-21"
        },
        {
         "Binary Return": 0,
         "Predicted Value": 1,
         "_deepnote_index_column": "2021-05-22"
        },
        {
         "Binary Return": 0,
         "Predicted Value": 1,
         "_deepnote_index_column": "2021-05-23"
        },
        {
         "Binary Return": 1,
         "Predicted Value": 1,
         "_deepnote_index_column": "2021-05-24"
        },
        {
         "Binary Return": 0,
         "Predicted Value": 1,
         "_deepnote_index_column": "2021-05-25"
        },
        {
         "Binary Return": 1,
         "Predicted Value": 1,
         "_deepnote_index_column": "2021-05-26"
        },
        {
         "Binary Return": 0,
         "Predicted Value": 1,
         "_deepnote_index_column": "2021-05-27"
        },
        {
         "Binary Return": 0,
         "Predicted Value": 1,
         "_deepnote_index_column": "2021-05-28"
        },
        {
         "Binary Return": 0,
         "Predicted Value": 1,
         "_deepnote_index_column": "2021-05-29"
        },
        {
         "Binary Return": 1,
         "Predicted Value": 1,
         "_deepnote_index_column": "2021-05-30"
        },
        {
         "Binary Return": 1,
         "Predicted Value": 1,
         "_deepnote_index_column": "2021-05-31"
        },
        {
         "Binary Return": 0,
         "Predicted Value": 1,
         "_deepnote_index_column": "2021-06-01"
        },
        {
         "Binary Return": 1,
         "Predicted Value": 1,
         "_deepnote_index_column": "2021-06-02"
        },
        {
         "Binary Return": 1,
         "Predicted Value": -1,
         "_deepnote_index_column": "2021-06-03"
        },
        {
         "Binary Return": 0,
         "Predicted Value": 1,
         "_deepnote_index_column": "2021-06-04"
        },
        {
         "Binary Return": 0,
         "Predicted Value": 1,
         "_deepnote_index_column": "2021-06-05"
        },
        {
         "Binary Return": 1,
         "Predicted Value": 1,
         "_deepnote_index_column": "2021-06-06"
        },
        {
         "Binary Return": 0,
         "Predicted Value": 1,
         "_deepnote_index_column": "2021-06-07"
        },
        {
         "Binary Return": 1,
         "Predicted Value": 1,
         "_deepnote_index_column": "2021-06-08"
        },
        {
         "Binary Return": 1,
         "Predicted Value": 1,
         "_deepnote_index_column": "2021-06-09"
        },
        {
         "Binary Return": 0,
         "Predicted Value": 1,
         "_deepnote_index_column": "2021-06-10"
        },
        {
         "Binary Return": 0,
         "Predicted Value": 1,
         "_deepnote_index_column": "2021-06-11"
        },
        {
         "Binary Return": 0,
         "Predicted Value": 1,
         "_deepnote_index_column": "2021-06-12"
        },
        {
         "Binary Return": 1,
         "Predicted Value": 1,
         "_deepnote_index_column": "2021-06-13"
        },
        {
         "Binary Return": 1,
         "Predicted Value": 1,
         "_deepnote_index_column": "2021-06-14"
        },
        {
         "Binary Return": 0,
         "Predicted Value": 1,
         "_deepnote_index_column": "2021-06-15"
        },
        {
         "Binary Return": 0,
         "Predicted Value": 1,
         "_deepnote_index_column": "2021-06-16"
        },
        {
         "Binary Return": 1,
         "Predicted Value": 1,
         "_deepnote_index_column": "2021-06-17"
        },
        {
         "Binary Return": 0,
         "Predicted Value": 1,
         "_deepnote_index_column": "2021-06-18"
        },
        {
         "Binary Return": 0,
         "Predicted Value": 1,
         "_deepnote_index_column": "2021-06-19"
        },
        {
         "Binary Return": 1,
         "Predicted Value": 1,
         "_deepnote_index_column": "2021-06-20"
        },
        {
         "Binary Return": 0,
         "Predicted Value": 1,
         "_deepnote_index_column": "2021-06-21"
        },
        {
         "Binary Return": 0,
         "Predicted Value": 1,
         "_deepnote_index_column": "2021-06-22"
        },
        {
         "Binary Return": 1,
         "Predicted Value": 1,
         "_deepnote_index_column": "2021-06-23"
        },
        {
         "Binary Return": 1,
         "Predicted Value": 1,
         "_deepnote_index_column": "2021-06-24"
        },
        {
         "Binary Return": 0,
         "Predicted Value": 1,
         "_deepnote_index_column": "2021-06-25"
        },
        {
         "Binary Return": 1,
         "Predicted Value": 1,
         "_deepnote_index_column": "2021-06-26"
        },
        {
         "Binary Return": 1,
         "Predicted Value": 1,
         "_deepnote_index_column": "2021-06-27"
        },
        {
         "Binary Return": 0,
         "Predicted Value": 1,
         "_deepnote_index_column": "2021-06-28"
        },
        {
         "Binary Return": 1,
         "Predicted Value": 1,
         "_deepnote_index_column": "2021-06-29"
        },
        {
         "Binary Return": 1,
         "Predicted Value": -1,
         "_deepnote_index_column": "2021-06-30"
        },
        {
         "Binary Return": 0,
         "Predicted Value": 1,
         "_deepnote_index_column": "2021-07-01"
        },
        {
         "Binary Return": 0,
         "Predicted Value": 1,
         "_deepnote_index_column": "2021-07-02"
        },
        {
         "Binary Return": 1,
         "Predicted Value": 1,
         "_deepnote_index_column": "2021-07-03"
        },
        {
         "Binary Return": 1,
         "Predicted Value": 1,
         "_deepnote_index_column": "2021-07-04"
        },
        {
         "Binary Return": 0,
         "Predicted Value": 1,
         "_deepnote_index_column": "2021-07-05"
        },
        {
         "Binary Return": 1,
         "Predicted Value": 1,
         "_deepnote_index_column": "2021-07-06"
        },
        {
         "Binary Return": 0,
         "Predicted Value": 1,
         "_deepnote_index_column": "2021-07-07"
        },
        {
         "Binary Return": 0,
         "Predicted Value": 1,
         "_deepnote_index_column": "2021-07-08"
        },
        {
         "Binary Return": 1,
         "Predicted Value": 1,
         "_deepnote_index_column": "2021-07-09"
        },
        {
         "Binary Return": 0,
         "Predicted Value": 1,
         "_deepnote_index_column": "2021-07-10"
        },
        {
         "Binary Return": 1,
         "Predicted Value": 1,
         "_deepnote_index_column": "2021-07-11"
        },
        {
         "Binary Return": 0,
         "Predicted Value": 1,
         "_deepnote_index_column": "2021-07-12"
        },
        {
         "Binary Return": 0,
         "Predicted Value": 1,
         "_deepnote_index_column": "2021-07-13"
        },
        {
         "Binary Return": 1,
         "Predicted Value": 1,
         "_deepnote_index_column": "2021-07-14"
        },
        {
         "Binary Return": 0,
         "Predicted Value": 1,
         "_deepnote_index_column": "2021-07-15"
        },
        {
         "Binary Return": 0,
         "Predicted Value": 1,
         "_deepnote_index_column": "2021-07-16"
        },
        {
         "Binary Return": 0,
         "Predicted Value": 1,
         "_deepnote_index_column": "2021-07-17"
        },
        {
         "Binary Return": 1,
         "Predicted Value": 1,
         "_deepnote_index_column": "2021-07-18"
        },
        {
         "Binary Return": 0,
         "Predicted Value": 1,
         "_deepnote_index_column": "2021-07-19"
        },
        {
         "Binary Return": 0,
         "Predicted Value": 1,
         "_deepnote_index_column": "2021-07-20"
        },
        {
         "Binary Return": 1,
         "Predicted Value": 1,
         "_deepnote_index_column": "2021-07-21"
        },
        {
         "Binary Return": 1,
         "Predicted Value": -1,
         "_deepnote_index_column": "2021-07-22"
        },
        {
         "Binary Return": 1,
         "Predicted Value": 1,
         "_deepnote_index_column": "2021-07-23"
        },
        {
         "Binary Return": 1,
         "Predicted Value": 1,
         "_deepnote_index_column": "2021-07-24"
        },
        {
         "Binary Return": 0,
         "Predicted Value": 1,
         "_deepnote_index_column": "2021-07-25"
        },
        {
         "Binary Return": 1,
         "Predicted Value": 1,
         "_deepnote_index_column": "2021-07-26"
        },
        {
         "Binary Return": 1,
         "Predicted Value": 1,
         "_deepnote_index_column": "2021-07-27"
        },
        {
         "Binary Return": 1,
         "Predicted Value": 1,
         "_deepnote_index_column": "2021-07-28"
        },
        {
         "Binary Return": 1,
         "Predicted Value": 1,
         "_deepnote_index_column": "2021-07-29"
        },
        {
         "Binary Return": 1,
         "Predicted Value": 1,
         "_deepnote_index_column": "2021-07-30"
        },
        {
         "Binary Return": 0,
         "Predicted Value": 1,
         "_deepnote_index_column": "2021-07-31"
        },
        {
         "Binary Return": 0,
         "Predicted Value": 1,
         "_deepnote_index_column": "2021-08-01"
        },
        {
         "Binary Return": 1,
         "Predicted Value": 1,
         "_deepnote_index_column": "2021-08-02"
        },
        {
         "Binary Return": 0,
         "Predicted Value": 1,
         "_deepnote_index_column": "2021-08-03"
        },
        {
         "Binary Return": 1,
         "Predicted Value": 1,
         "_deepnote_index_column": "2021-08-04"
        },
        {
         "Binary Return": 1,
         "Predicted Value": 1,
         "_deepnote_index_column": "2021-08-05"
        },
        {
         "Binary Return": 1,
         "Predicted Value": 1,
         "_deepnote_index_column": "2021-08-06"
        },
        {
         "Binary Return": 1,
         "Predicted Value": 1,
         "_deepnote_index_column": "2021-08-07"
        },
        {
         "Binary Return": 0,
         "Predicted Value": -1,
         "_deepnote_index_column": "2021-08-08"
        },
        {
         "Binary Return": 1,
         "Predicted Value": 1,
         "_deepnote_index_column": "2021-08-09"
        },
        {
         "Binary Return": 1,
         "Predicted Value": 1,
         "_deepnote_index_column": "2021-08-10"
        }
       ]
      },
      "text/plain": "            Binary Return  Predicted Value\nDate                                      \n2019-09-02              1                1\n2019-09-03              1                1\n2019-09-04              0                1\n2019-09-05              0                1\n2019-09-06              0                1\n...                   ...              ...\n2021-08-06              1                1\n2021-08-07              1                1\n2021-08-08              0               -1\n2021-08-09              1                1\n2021-08-10              1                1\n\n[705 rows x 2 columns]",
      "text/html": "<div>\n<style scoped>\n    .dataframe tbody tr th:only-of-type {\n        vertical-align: middle;\n    }\n\n    .dataframe tbody tr th {\n        vertical-align: top;\n    }\n\n    .dataframe thead th {\n        text-align: right;\n    }\n</style>\n<table border=\"1\" class=\"dataframe\">\n  <thead>\n    <tr style=\"text-align: right;\">\n      <th></th>\n      <th>Binary Return</th>\n      <th>Predicted Value</th>\n    </tr>\n    <tr>\n      <th>Date</th>\n      <th></th>\n      <th></th>\n    </tr>\n  </thead>\n  <tbody>\n    <tr>\n      <th>2019-09-02</th>\n      <td>1</td>\n      <td>1</td>\n    </tr>\n    <tr>\n      <th>2019-09-03</th>\n      <td>1</td>\n      <td>1</td>\n    </tr>\n    <tr>\n      <th>2019-09-04</th>\n      <td>0</td>\n      <td>1</td>\n    </tr>\n    <tr>\n      <th>2019-09-05</th>\n      <td>0</td>\n      <td>1</td>\n    </tr>\n    <tr>\n      <th>2019-09-06</th>\n      <td>0</td>\n      <td>1</td>\n    </tr>\n    <tr>\n      <th>...</th>\n      <td>...</td>\n      <td>...</td>\n    </tr>\n    <tr>\n      <th>2021-08-06</th>\n      <td>1</td>\n      <td>1</td>\n    </tr>\n    <tr>\n      <th>2021-08-07</th>\n      <td>1</td>\n      <td>1</td>\n    </tr>\n    <tr>\n      <th>2021-08-08</th>\n      <td>0</td>\n      <td>-1</td>\n    </tr>\n    <tr>\n      <th>2021-08-09</th>\n      <td>1</td>\n      <td>1</td>\n    </tr>\n    <tr>\n      <th>2021-08-10</th>\n      <td>1</td>\n      <td>1</td>\n    </tr>\n  </tbody>\n</table>\n<p>705 rows × 2 columns</p>\n</div>"
     },
     "metadata": {}
    }
   ],
   "execution_count": null
  },
  {
   "cell_type": "code",
   "metadata": {
    "tags": [],
    "deepnote_to_be_reexecuted": false,
    "source_hash": "7a08b73a",
    "execution_start": 1629253379388,
    "execution_millis": 206,
    "cell_id": "00017-46adb209-e952-4a50-983c-c4290acf0e78",
    "deepnote_cell_type": "code"
   },
   "source": "# Calculate cumulative return of model and plot the result\n(1 + (combined_signals_df['Returns'] * Results['Predicted Value'])).cumprod().plot()",
   "outputs": [
    {
     "output_type": "execute_result",
     "execution_count": 18,
     "data": {
      "text/plain": "<AxesSubplot:xlabel='Date'>"
     },
     "metadata": {}
    },
    {
     "data": {
      "text/plain": "<Figure size 432x288 with 1 Axes>",
      "image/png": "[encoded data removed]"
     },
     "metadata": {
      "needs_background": "light",
      "image/png": {
       "width": 374,
       "height": 262
      }
     },
     "output_type": "display_data"
    }
   ],
   "execution_count": null
  },
  {
   "cell_type": "code",
   "metadata": {
    "tags": [],
    "deepnote_to_be_reexecuted": false,
    "source_hash": "a341481b",
    "execution_start": 1629253379617,
    "execution_millis": 45,
    "cell_id": "00018-1ac123ee-f465-438f-8467-405371c21402",
    "deepnote_cell_type": "code"
   },
   "source": "initial_capital = 100000\n\ninitial_buy_amount = initial_capital / combined_signals_df['Close'].iloc[0]\n# initial_buy_amount\n\nhold_value = initial_buy_amount * combined_signals_df['Close'].iloc[-2]\n# hold_value\n\nbuy_hold_profit = (hold_value - initial_capital)/(initial_capital)*100\nbuy_hold_profit",
   "outputs": [
    {
     "output_type": "execute_result",
     "execution_count": 19,
     "data": {
      "text/plain": "226.37336406881113"
     },
     "metadata": {}
    }
   ],
   "execution_count": null
  },
  {
   "cell_type": "code",
   "metadata": {
    "tags": [],
    "deepnote_to_be_reexecuted": false,
    "source_hash": "d7e87964",
    "execution_start": 1629253379618,
    "execution_millis": 44,
    "cell_id": "00019-5c30bb31-def5-4128-9031-1644733bed99",
    "deepnote_cell_type": "code"
   },
   "source": "hold_value",
   "outputs": [
    {
     "output_type": "execute_result",
     "execution_count": 20,
     "data": {
      "text/plain": "326373.3640688111"
     },
     "metadata": {}
    }
   ],
   "execution_count": null
  },
  {
   "cell_type": "code",
   "metadata": {
    "tags": [],
    "deepnote_to_be_reexecuted": false,
    "source_hash": "feac87ef",
    "execution_start": 1629253379654,
    "execution_millis": 10,
    "cell_id": "00020-eedda75e-10d8-4c3c-a159-810b427fe87f",
    "deepnote_cell_type": "code"
   },
   "source": "combined_signals_df['Close'].iloc[0]\ncombined_signals_df['Close'].iloc[-2]",
   "outputs": [
    {
     "output_type": "execute_result",
     "execution_count": 21,
     "data": {
      "text/plain": "0.8512470126152039"
     },
     "metadata": {}
    }
   ],
   "execution_count": null
  },
  {
   "cell_type": "code",
   "metadata": {
    "tags": [],
    "deepnote_to_be_reexecuted": false,
    "source_hash": "b61ced46",
    "execution_start": 1629253379658,
    "execution_millis": 38,
    "cell_id": "00021-eb49d652-ad7b-40be-8a37-a34358dd2ebb",
    "deepnote_cell_type": "code"
   },
   "source": "# Set initial capital allocation\ninitial_capital = 100000\n\n# Plot cumulative return of model in terms of capital\ncumulative_return_capital = initial_capital * (1 + (combined_signals_df['Returns'] * Results['Predicted Value'])).cumprod().to_frame()\ncumulative_return_capital",
   "outputs": [
    {
     "output_type": "execute_result",
     "execution_count": 22,
     "data": {
      "application/vnd.deepnote.dataframe.v2+json": {
       "row_count": 706,
       "column_count": 1,
       "columns": [
        {
         "name": 0,
         "dtype": "float64",
         "stats": {
          "unique_count": 705,
          "nan_count": 1,
          "min": "69606.80903344482",
          "max": "705944.3146218028",
          "histogram": [
           {
            "bin_start": 69606.80903344482,
            "bin_end": 133240.5595922806,
            "count": 439
           },
           {
            "bin_start": 133240.5595922806,
            "bin_end": 196874.3101511164,
            "count": 82
           },
           {
            "bin_start": 196874.3101511164,
            "bin_end": 260508.06070995217,
            "count": 59
           },
           {
            "bin_start": 260508.06070995217,
            "bin_end": 324141.81126878795,
            "count": 46
           },
           {
            "bin_start": 324141.81126878795,
            "bin_end": 387775.56182762375,
            "count": 21
           },
           {
            "bin_start": 387775.56182762375,
            "bin_end": 451409.31238645955,
            "count": 19
           },
           {
            "bin_start": 451409.31238645955,
            "bin_end": 515043.06294529536,
            "count": 5
           },
           {
            "bin_start": 515043.06294529536,
            "bin_end": 578676.8135041312,
            "count": 11
           },
           {
            "bin_start": 578676.8135041312,
            "bin_end": 642310.564062967,
            "count": 9
           },
           {
            "bin_start": 642310.564062967,
            "bin_end": 705944.3146218028,
            "count": 14
           }
          ]
         }
        },
        {
         "name": "_deepnote_index_column",
         "dtype": "object"
        }
       ],
       "rows_top": [
        {
         "0": 101071.87382165426,
         "_deepnote_index_column": "2019-09-02"
        },
        {
         "0": 101970.52612614486,
         "_deepnote_index_column": "2019-09-03"
        },
        {
         "0": 100717.30038209437,
         "_deepnote_index_column": "2019-09-04"
        },
        {
         "0": 99338.12265016563,
         "_deepnote_index_column": "2019-09-05"
        },
        {
         "0": 97785.7349499443,
         "_deepnote_index_column": "2019-09-06"
        },
        {
         "0": 101020.33121007336,
         "_deepnote_index_column": "2019-09-07"
        },
        {
         "0": 101949.20691015151,
         "_deepnote_index_column": "2019-09-08"
        },
        {
         "0": 103314.0409442126,
         "_deepnote_index_column": "2019-09-09"
        },
        {
         "0": 102959.39419741738,
         "_deepnote_index_column": "2019-09-10"
        },
        {
         "0": 101878.7399968942,
         "_deepnote_index_column": "2019-09-11"
        },
        {
         "0": 101422.99099158023,
         "_deepnote_index_column": "2019-09-12"
        },
        {
         "0": 101717.54340050662,
         "_deepnote_index_column": "2019-09-13"
        },
        {
         "0": 103952.88432477438,
         "_deepnote_index_column": "2019-09-14"
        },
        {
         "0": 104136.38201772599,
         "_deepnote_index_column": "2019-09-15"
        },
        {
         "0": 104405.45423759938,
         "_deepnote_index_column": "2019-09-16"
        },
        {
         "0": 114032.1253813475,
         "_deepnote_index_column": "2019-09-17"
        },
        {
         "0": 125540.04151503513,
         "_deepnote_index_column": "2019-09-18"
        },
        {
         "0": 121004.97633766904,
         "_deepnote_index_column": "2019-09-19"
        },
        {
         "0": 117815.82770324372,
         "_deepnote_index_column": "2019-09-20"
        },
        {
         "0": 115804.54235240427,
         "_deepnote_index_column": "2019-09-21"
        },
        {
         "0": 111598.75138797182,
         "_deepnote_index_column": "2019-09-22"
        },
        {
         "0": 107495.385391459,
         "_deepnote_index_column": "2019-09-23"
        },
        {
         "0": 94112.62731879504,
         "_deepnote_index_column": "2019-09-24"
        },
        {
         "0": 98599.68749955525,
         "_deepnote_index_column": "2019-09-25"
        },
        {
         "0": 97536.63199287439,
         "_deepnote_index_column": "2019-09-26"
        },
        {
         "0": 97631.4555734775,
         "_deepnote_index_column": "2019-09-27"
        },
        {
         "0": 97051.3176934821,
         "_deepnote_index_column": "2019-09-28"
        },
        {
         "0": 96578.0046432413,
         "_deepnote_index_column": "2019-09-29"
        },
        {
         "0": 102397.37637411381,
         "_deepnote_index_column": "2019-09-30"
        },
        {
         "0": 99849.58212553947,
         "_deepnote_index_column": "2019-10-01"
        },
        {
         "0": 101439.55387725536,
         "_deepnote_index_column": "2019-10-02"
        },
        {
         "0": 99167.41872307558,
         "_deepnote_index_column": "2019-10-03"
        },
        {
         "0": 101597.99659829329,
         "_deepnote_index_column": "2019-10-04"
        },
        {
         "0": 101406.75165528253,
         "_deepnote_index_column": "2019-10-05"
        },
        {
         "0": 103106.35031678338,
         "_deepnote_index_column": "2019-10-06"
        },
        {
         "0": 110300.05287447937,
         "_deepnote_index_column": "2019-10-07"
        },
        {
         "0": 109190.19070754609,
         "_deepnote_index_column": "2019-10-08"
        },
        {
         "0": 110432.43130646854,
         "_deepnote_index_column": "2019-10-09"
        },
        {
         "0": 106686.08841877377,
         "_deepnote_index_column": "2019-10-10"
        },
        {
         "0": 106304.16078703357,
         "_deepnote_index_column": "2019-10-11"
        },
        {
         "0": 107124.4836570426,
         "_deepnote_index_column": "2019-10-12"
        },
        {
         "0": 108918.05470729113,
         "_deepnote_index_column": "2019-10-13"
        },
        {
         "0": 116273.49802177997,
         "_deepnote_index_column": "2019-10-14"
        },
        {
         "0": 119340.28972577448,
         "_deepnote_index_column": "2019-10-15"
        },
        {
         "0": 117661.18853267375,
         "_deepnote_index_column": "2019-10-16"
        },
        {
         "0": 124967.46786910587,
         "_deepnote_index_column": "2019-10-17"
        },
        {
         "0": 121945.7435741982,
         "_deepnote_index_column": "2019-10-18"
        },
        {
         "0": 121126.03943190312,
         "_deepnote_index_column": "2019-10-19"
        },
        {
         "0": 121604.30078950599,
         "_deepnote_index_column": "2019-10-20"
        },
        {
         "0": 121108.26262650872,
         "_deepnote_index_column": "2019-10-21"
        },
        {
         "0": 120541.11724193388,
         "_deepnote_index_column": "2019-10-22"
        },
        {
         "0": 113322.05882178195,
         "_deepnote_index_column": "2019-10-23"
        },
        {
         "0": 115119.37638672224,
         "_deepnote_index_column": "2019-10-24"
        },
        {
         "0": 123251.98766953971,
         "_deepnote_index_column": "2019-10-25"
        },
        {
         "0": 121405.88552430707,
         "_deepnote_index_column": "2019-10-26"
        },
        {
         "0": 123225.11919236353,
         "_deepnote_index_column": "2019-10-27"
        },
        {
         "0": 124090.29401290581,
         "_deepnote_index_column": "2019-10-28"
        },
        {
         "0": 126584.19440114095,
         "_deepnote_index_column": "2019-10-29"
        },
        {
         "0": 124320.02544761196,
         "_deepnote_index_column": "2019-10-30"
        },
        {
         "0": 124237.43057514934,
         "_deepnote_index_column": "2019-10-31"
        },
        {
         "0": 122679.63455977844,
         "_deepnote_index_column": "2019-11-01"
        },
        {
         "0": 124197.61362483345,
         "_deepnote_index_column": "2019-11-02"
        },
        {
         "0": 122100.69585231443,
         "_deepnote_index_column": "2019-11-03"
        },
        {
         "0": 125737.80622539572,
         "_deepnote_index_column": "2019-11-04"
        },
        {
         "0": 126290.32107031877,
         "_deepnote_index_column": "2019-11-05"
        },
        {
         "0": 129992.41040750204,
         "_deepnote_index_column": "2019-11-06"
        },
        {
         "0": 137393.6406035898,
         "_deepnote_index_column": "2019-11-07"
        },
        {
         "0": 130121.57727693538,
         "_deepnote_index_column": "2019-11-08"
        },
        {
         "0": 131645.2443543998,
         "_deepnote_index_column": "2019-11-09"
        },
        {
         "0": 131648.99691858335,
         "_deepnote_index_column": "2019-11-10"
        },
        {
         "0": 129244.38739482213,
         "_deepnote_index_column": "2019-11-11"
        },
        {
         "0": 127990.87693436233,
         "_deepnote_index_column": "2019-11-12"
        },
        {
         "0": 128281.23858911646,
         "_deepnote_index_column": "2019-11-13"
        },
        {
         "0": 127038.52375173697,
         "_deepnote_index_column": "2019-11-14"
        },
        {
         "0": 122933.59659178156,
         "_deepnote_index_column": "2019-11-15"
        },
        {
         "0": 123982.27025581959,
         "_deepnote_index_column": "2019-11-16"
        },
        {
         "0": 124624.53281751691,
         "_deepnote_index_column": "2019-11-17"
        },
        {
         "0": 120114.13269626672,
         "_deepnote_index_column": "2019-11-18"
        },
        {
         "0": 120512.08652708927,
         "_deepnote_index_column": "2019-11-19"
        },
        {
         "0": 118099.01973180988,
         "_deepnote_index_column": "2019-11-20"
        },
        {
         "0": 114529.23202800628,
         "_deepnote_index_column": "2019-11-21"
        },
        {
         "0": 108813.25065226748,
         "_deepnote_index_column": "2019-11-22"
        },
        {
         "0": 110968.83973676676,
         "_deepnote_index_column": "2019-11-23"
        },
        {
         "0": 104859.14016701705,
         "_deepnote_index_column": "2019-11-24"
        },
        {
         "0": 102715.76091821941,
         "_deepnote_index_column": "2019-11-25"
        },
        {
         "0": 104370.98477473782,
         "_deepnote_index_column": "2019-11-26"
        },
        {
         "0": 105750.40916587111,
         "_deepnote_index_column": "2019-11-27"
        },
        {
         "0": 105510.32907075541,
         "_deepnote_index_column": "2019-11-28"
        },
        {
         "0": 108163.46896009792,
         "_deepnote_index_column": "2019-11-29"
        },
        {
         "0": 106404.88856432271,
         "_deepnote_index_column": "2019-11-30"
        },
        {
         "0": 105868.81096712497,
         "_deepnote_index_column": "2019-12-01"
        },
        {
         "0": 103166.32765918996,
         "_deepnote_index_column": "2019-12-02"
        },
        {
         "0": 103302.11307400296,
         "_deepnote_index_column": "2019-12-03"
        },
        {
         "0": 101647.3652890601,
         "_deepnote_index_column": "2019-12-04"
        },
        {
         "0": 104738.86208367144,
         "_deepnote_index_column": "2019-12-05"
        },
        {
         "0": 103528.10705132529,
         "_deepnote_index_column": "2019-12-06"
        },
        {
         "0": 104877.84452717513,
         "_deepnote_index_column": "2019-12-07"
        },
        {
         "0": 105791.44508818538,
         "_deepnote_index_column": "2019-12-08"
        },
        {
         "0": 103503.78030796941,
         "_deepnote_index_column": "2019-12-09"
        },
        {
         "0": 102975.8160938985,
         "_deepnote_index_column": "2019-12-10"
        },
        {
         "0": 101943.31823268412,
         "_deepnote_index_column": "2019-12-11"
        },
        {
         "0": 100936.06381437849,
         "_deepnote_index_column": "2019-12-12"
        },
        {
         "0": 101347.40879504434,
         "_deepnote_index_column": "2019-12-13"
        },
        {
         "0": 99786.9467197591,
         "_deepnote_index_column": "2019-12-14"
        },
        {
         "0": 100358.52257300152,
         "_deepnote_index_column": "2019-12-15"
        },
        {
         "0": 95135.85946643529,
         "_deepnote_index_column": "2019-12-16"
        },
        {
         "0": 84335.20271993669,
         "_deepnote_index_column": "2019-12-17"
        },
        {
         "0": 90063.32985528205,
         "_deepnote_index_column": "2019-12-18"
        },
        {
         "0": 87603.95493495541,
         "_deepnote_index_column": "2019-12-19"
        },
        {
         "0": 89668.50598969059,
         "_deepnote_index_column": "2019-12-20"
        },
        {
         "0": 89101.98566607134,
         "_deepnote_index_column": "2019-12-21"
        },
        {
         "0": 90431.5215465528,
         "_deepnote_index_column": "2019-12-22"
        },
        {
         "0": 87660.88608180804,
         "_deepnote_index_column": "2019-12-23"
        },
        {
         "0": 88237.0454328144,
         "_deepnote_index_column": "2019-12-24"
        },
        {
         "0": 87558.04470586049,
         "_deepnote_index_column": "2019-12-25"
        },
        {
         "0": 87408.84159208309,
         "_deepnote_index_column": "2019-12-26"
        },
        {
         "0": 87083.80319020752,
         "_deepnote_index_column": "2019-12-27"
        },
        {
         "0": 88049.87332518319,
         "_deepnote_index_column": "2019-12-28"
        },
        {
         "0": 89794.7221129428,
         "_deepnote_index_column": "2019-12-29"
        },
        {
         "0": 88620.39867989818,
         "_deepnote_index_column": "2019-12-30"
        },
        {
         "0": 87900.40410228402,
         "_deepnote_index_column": "2019-12-31"
        },
        {
         "0": 87796.966673953,
         "_deepnote_index_column": "2020-01-01"
        },
        {
         "0": 85689.83903919563,
         "_deepnote_index_column": "2020-01-02"
        },
        {
         "0": 88186.1217332093,
         "_deepnote_index_column": "2020-01-03"
        },
        {
         "0": 88566.17093075802,
         "_deepnote_index_column": "2020-01-04"
        },
        {
         "0": 89104.80200326524,
         "_deepnote_index_column": "2020-01-05"
        },
        {
         "0": 100940.50734395313,
         "_deepnote_index_column": "2020-01-06"
        },
        {
         "0": 104400.57861475176,
         "_deepnote_index_column": "2020-01-07"
        },
        {
         "0": 102013.55900099622,
         "_deepnote_index_column": "2020-01-08"
        },
        {
         "0": 99999.40984282509,
         "_deepnote_index_column": "2020-01-09"
        },
        {
         "0": 103614.33771202515,
         "_deepnote_index_column": "2020-01-10"
        },
        {
         "0": 103392.28227258817,
         "_deepnote_index_column": "2020-01-11"
        },
        {
         "0": 105238.06084276408,
         "_deepnote_index_column": "2020-01-12"
        },
        {
         "0": 103766.11995727602,
         "_deepnote_index_column": "2020-01-13"
        },
        {
         "0": 114537.21961543048,
         "_deepnote_index_column": "2020-01-14"
        },
        {
         "0": 113662.64815112001,
         "_deepnote_index_column": "2020-01-15"
        },
        {
         "0": 111553.81235439944,
         "_deepnote_index_column": "2020-01-16"
        },
        {
         "0": 116532.82415545254,
         "_deepnote_index_column": "2020-01-17"
        },
        {
         "0": 118733.89579216724,
         "_deepnote_index_column": "2020-01-18"
        },
        {
         "0": 114975.48348528815,
         "_deepnote_index_column": "2020-01-19"
        },
        {
         "0": 113858.35568798681,
         "_deepnote_index_column": "2020-01-20"
        },
        {
         "0": 115747.07777587658,
         "_deepnote_index_column": "2020-01-21"
        },
        {
         "0": 115205.34948154558,
         "_deepnote_index_column": "2020-01-22"
        },
        {
         "0": 110348.35399551423,
         "_deepnote_index_column": "2020-01-23"
        },
        {
         "0": 108853.4759627155,
         "_deepnote_index_column": "2020-01-24"
        },
        {
         "0": 107577.7371372449,
         "_deepnote_index_column": "2020-01-25"
        },
        {
         "0": 112584.55859312238,
         "_deepnote_index_column": "2020-01-26"
        },
        {
         "0": 112846.15406741296,
         "_deepnote_index_column": "2020-01-27"
        },
        {
         "0": 116392.27049468097,
         "_deepnote_index_column": "2020-01-28"
        },
        {
         "0": 115046.2512026249,
         "_deepnote_index_column": "2020-01-29"
        },
        {
         "0": 118907.64068322604,
         "_deepnote_index_column": "2020-01-30"
        },
        {
         "0": 121059.4199976605,
         "_deepnote_index_column": "2020-01-31"
        },
        {
         "0": 122183.82263803933,
         "_deepnote_index_column": "2020-02-01"
        },
        {
         "0": 126879.28722515148,
         "_deepnote_index_column": "2020-02-02"
        },
        {
         "0": 128849.2615230775,
         "_deepnote_index_column": "2020-02-03"
        },
        {
         "0": 135013.23746119434,
         "_deepnote_index_column": "2020-02-04"
        },
        {
         "0": 140407.52889118314,
         "_deepnote_index_column": "2020-02-05"
        },
        {
         "0": 142809.1490537101,
         "_deepnote_index_column": "2020-02-06"
        },
        {
         "0": 141326.48426674958,
         "_deepnote_index_column": "2020-02-07"
        },
        {
         "0": 140293.66800523043,
         "_deepnote_index_column": "2020-02-08"
        },
        {
         "0": 142932.118810539,
         "_deepnote_index_column": "2020-02-09"
        },
        {
         "0": 138693.1006478887,
         "_deepnote_index_column": "2020-02-10"
        },
        {
         "0": 141760.15097356486,
         "_deepnote_index_column": "2020-02-11"
        },
        {
         "0": 154032.42412252215,
         "_deepnote_index_column": "2020-02-12"
        },
        {
         "0": 165323.50297189615,
         "_deepnote_index_column": "2020-02-13"
        },
        {
         "0": 169430.45758775336,
         "_deepnote_index_column": "2020-02-14"
        },
        {
         "0": 154965.04280440285,
         "_deepnote_index_column": "2020-02-15"
        },
        {
         "0": 149296.47482702055,
         "_deepnote_index_column": "2020-02-16"
        },
        {
         "0": 145014.44590321297,
         "_deepnote_index_column": "2020-02-17"
        },
        {
         "0": 150753.3512543812,
         "_deepnote_index_column": "2020-02-18"
        },
        {
         "0": 140475.33267174513,
         "_deepnote_index_column": "2020-02-19"
        },
        {
         "0": 137840.9386317771,
         "_deepnote_index_column": "2020-02-20"
        },
        {
         "0": 139127.2650248015,
         "_deepnote_index_column": "2020-02-21"
        },
        {
         "0": 139614.57453576697,
         "_deepnote_index_column": "2020-02-22"
        },
        {
         "0": 143060.65342391317,
         "_deepnote_index_column": "2020-02-23"
        },
        {
         "0": 136945.76585450835,
         "_deepnote_index_column": "2020-02-24"
        },
        {
         "0": 128234.44290075707,
         "_deepnote_index_column": "2020-02-25"
        },
        {
         "0": 116817.86070133028,
         "_deepnote_index_column": "2020-02-26"
        },
        {
         "0": 119988.14741042226,
         "_deepnote_index_column": "2020-02-27"
        },
        {
         "0": 119573.20365591293,
         "_deepnote_index_column": "2020-02-28"
        },
        {
         "0": 116990.92924797836,
         "_deepnote_index_column": "2020-02-29"
        },
        {
         "0": 115803.26972201961,
         "_deepnote_index_column": "2020-03-01"
        },
        {
         "0": 120813.48802445873,
         "_deepnote_index_column": "2020-03-02"
        },
        {
         "0": 118604.15703098332,
         "_deepnote_index_column": "2020-03-03"
        },
        {
         "0": 118679.5540507609,
         "_deepnote_index_column": "2020-03-04"
        },
        {
         "0": 121236.02501818351,
         "_deepnote_index_column": "2020-03-05"
        },
        {
         "0": 123516.19859599834,
         "_deepnote_index_column": "2020-03-06"
        },
        {
         "0": 119965.37523323172,
         "_deepnote_index_column": "2020-03-07"
        },
        {
         "0": 104699.92560625912,
         "_deepnote_index_column": "2020-03-08"
        },
        {
         "0": 105852.16006982015,
         "_deepnote_index_column": "2020-03-09"
        },
        {
         "0": 107397.5840722631,
         "_deepnote_index_column": "2020-03-10"
        },
        {
         "0": 105303.11684539152,
         "_deepnote_index_column": "2020-03-11"
        },
        {
         "0": 70659.6981190438,
         "_deepnote_index_column": "2020-03-12"
        },
        {
         "0": 80637.12396276479,
         "_deepnote_index_column": "2020-03-13"
        },
        {
         "0": 74534.3840680136,
         "_deepnote_index_column": "2020-03-14"
        },
        {
         "0": 77879.24741495831,
         "_deepnote_index_column": "2020-03-15"
        },
        {
         "0": 71382.3151006741,
         "_deepnote_index_column": "2020-03-16"
        },
        {
         "0": 73133.68403802697,
         "_deepnote_index_column": "2020-03-17"
        },
        {
         "0": 72413.09543906695,
         "_deepnote_index_column": "2020-03-18"
        },
        {
         "0": 83513.91350205961,
         "_deepnote_index_column": "2020-03-19"
        },
        {
         "0": 79380.13748412728,
         "_deepnote_index_column": "2020-03-20"
        },
        {
         "0": 80043.54680506219,
         "_deepnote_index_column": "2020-03-21"
        },
        {
         "0": 76013.00717054564,
         "_deepnote_index_column": "2020-03-22"
        },
        {
         "0": 72367.05341458834,
         "_deepnote_index_column": "2020-03-23"
        },
        {
         "0": 74590.21360812074,
         "_deepnote_index_column": "2020-03-24"
        },
        {
         "0": 74304.27215640484,
         "_deepnote_index_column": "2020-03-25"
        },
        {
         "0": 80457.94564986436,
         "_deepnote_index_column": "2020-03-26"
        },
        {
         "0": 80998.56419639826,
         "_deepnote_index_column": "2020-03-27"
        },
        {
         "0": 80809.16274945051,
         "_deepnote_index_column": "2020-03-28"
        },
        {
         "0": 75313.7944045201,
         "_deepnote_index_column": "2020-03-29"
        },
        {
         "0": 79148.6924779834,
         "_deepnote_index_column": "2020-03-30"
        },
        {
         "0": 80248.322383994,
         "_deepnote_index_column": "2020-03-31"
        },
        {
         "0": 80597.69677718112,
         "_deepnote_index_column": "2020-04-01"
        },
        {
         "0": 82122.55344796742,
         "_deepnote_index_column": "2020-04-02"
        },
        {
         "0": 82502.73323400499,
         "_deepnote_index_column": "2020-04-03"
        },
        {
         "0": 83543.97880306545,
         "_deepnote_index_column": "2020-04-04"
        },
        {
         "0": 82474.69532585797,
         "_deepnote_index_column": "2020-04-05"
        },
        {
         "0": 75073.36574579922,
         "_deepnote_index_column": "2020-04-06"
        },
        {
         "0": 73762.7876099012,
         "_deepnote_index_column": "2020-04-07"
        },
        {
         "0": 77132.72714703057,
         "_deepnote_index_column": "2020-04-08"
        },
        {
         "0": 76129.73373406754,
         "_deepnote_index_column": "2020-04-09"
        },
        {
         "0": 71985.2734916688,
         "_deepnote_index_column": "2020-04-10"
        },
        {
         "0": 72215.2854104213,
         "_deepnote_index_column": "2020-04-11"
        },
        {
         "0": 73010.92592245011,
         "_deepnote_index_column": "2020-04-12"
        },
        {
         "0": 72088.18319759356,
         "_deepnote_index_column": "2020-04-13"
        },
        {
         "0": 71167.7464283382,
         "_deepnote_index_column": "2020-04-14"
        },
        {
         "0": 69606.80903344482,
         "_deepnote_index_column": "2020-04-15"
        },
        {
         "0": 72999.0184941471,
         "_deepnote_index_column": "2020-04-16"
        },
        {
         "0": 74850.26024990196,
         "_deepnote_index_column": "2020-04-18"
        },
        {
         "0": 73288.93948273738,
         "_deepnote_index_column": "2020-04-19"
        },
        {
         "0": 70459.27447121948,
         "_deepnote_index_column": "2020-04-20"
        },
        {
         "0": 70781.06685608446,
         "_deepnote_index_column": "2020-04-21"
        },
        {
         "0": 72179.57456946069,
         "_deepnote_index_column": "2020-04-22"
        },
        {
         "0": 73616.09907939873,
         "_deepnote_index_column": "2020-04-23"
        },
        {
         "0": 74366.42727776516,
         "_deepnote_index_column": "2020-04-24"
        },
        {
         "0": 74899.7953805214,
         "_deepnote_index_column": "2020-04-25"
        },
        {
         "0": 75572.17312440835,
         "_deepnote_index_column": "2020-04-26"
        },
        {
         "0": 76022.60121118574,
         "_deepnote_index_column": "2020-04-27"
        },
        {
         "0": 82744.81655109976,
         "_deepnote_index_column": "2020-04-28"
        },
        {
         "0": 87332.79273544654,
         "_deepnote_index_column": "2020-04-29"
        },
        {
         "0": 81699.20015234673,
         "_deepnote_index_column": "2020-04-30"
        },
        {
         "0": 84190.17578919728,
         "_deepnote_index_column": "2020-05-01"
        },
        {
         "0": 85981.89756935972,
         "_deepnote_index_column": "2020-05-02"
        },
        {
         "0": 84253.91858174671,
         "_deepnote_index_column": "2020-05-03"
        },
        {
         "0": 84080.73731071425,
         "_deepnote_index_column": "2020-05-04"
        },
        {
         "0": 83120.75025581241,
         "_deepnote_index_column": "2020-05-05"
        },
        {
         "0": 82639.60661154798,
         "_deepnote_index_column": "2020-05-06"
        },
        {
         "0": 84063.07357636951,
         "_deepnote_index_column": "2020-05-07"
        },
        {
         "0": 84412.50881857799,
         "_deepnote_index_column": "2020-05-08"
        },
        {
         "0": 83289.32533761667,
         "_deepnote_index_column": "2020-05-09"
        },
        {
         "0": 76098.62908233517,
         "_deepnote_index_column": "2020-05-10"
        },
        {
         "0": 74519.64458082587,
         "_deepnote_index_column": "2020-05-11"
        },
        {
         "0": 75891.65955367213,
         "_deepnote_index_column": "2020-05-12"
        },
        {
         "0": 77367.35097698547,
         "_deepnote_index_column": "2020-05-13"
        },
        {
         "0": 78000.55608552294,
         "_deepnote_index_column": "2020-05-14"
        },
        {
         "0": 76380.86545957947,
         "_deepnote_index_column": "2020-05-15"
        },
        {
         "0": 76811.32385641096,
         "_deepnote_index_column": "2020-05-16"
        },
        {
         "0": 77280.94916661773,
         "_deepnote_index_column": "2020-05-17"
        },
        {
         "0": 78786.59512484999,
         "_deepnote_index_column": "2020-05-18"
        },
        {
         "0": 78345.76851077435,
         "_deepnote_index_column": "2020-05-19"
        },
        {
         "0": 77454.51953189557,
         "_deepnote_index_column": "2020-05-20"
        },
        {
         "0": 75074.51586261271,
         "_deepnote_index_column": "2020-05-21"
        },
        {
         "0": 76930.74717986693,
         "_deepnote_index_column": "2020-05-22"
        },
        {
         "0": 76359.74565282004,
         "_deepnote_index_column": "2020-05-23"
        },
        {
         "0": 75044.56132769382,
         "_deepnote_index_column": "2020-05-24"
        },
        {
         "0": 75772.61960248734,
         "_deepnote_index_column": "2020-05-25"
        },
        {
         "0": 74485.46722894996,
         "_deepnote_index_column": "2020-05-26"
        },
        {
         "0": 75976.13878070985,
         "_deepnote_index_column": "2020-05-27"
        },
        {
         "0": 77027.5172074788,
         "_deepnote_index_column": "2020-05-28"
        },
        {
         "0": 76164.67783048585,
         "_deepnote_index_column": "2020-05-29"
        },
        {
         "0": 79187.48808100793,
         "_deepnote_index_column": "2020-05-30"
        },
        {
         "0": 80460.04942034412,
         "_deepnote_index_column": "2020-05-31"
        },
        {
         "0": 83371.83558298746,
         "_deepnote_index_column": "2020-06-01"
        },
        {
         "0": 80403.74365704595,
         "_deepnote_index_column": "2020-06-02"
        },
        {
         "0": 80760.2325861614,
         "_deepnote_index_column": "2020-06-03"
        },
        {
         "0": 81283.2634334801,
         "_deepnote_index_column": "2020-06-04"
        },
        {
         "0": 80930.3434707863,
         "_deepnote_index_column": "2020-06-05"
        },
        {
         "0": 80553.63433787126,
         "_deepnote_index_column": "2020-06-06"
        },
        {
         "0": 80675.3691826051,
         "_deepnote_index_column": "2020-06-07"
        },
        {
         "0": 80803.05427433661,
         "_deepnote_index_column": "2020-06-08"
        },
        {
         "0": 80105.94177180473,
         "_deepnote_index_column": "2020-06-09"
        },
        {
         "0": 80472.74170490332,
         "_deepnote_index_column": "2020-06-10"
        },
        {
         "0": 75413.70225776316,
         "_deepnote_index_column": "2020-06-11"
        },
        {
         "0": 76905.87293733953,
         "_deepnote_index_column": "2020-06-12"
        },
        {
         "0": 76573.97087789391,
         "_deepnote_index_column": "2020-06-13"
        },
        {
         "0": 75983.52556384543,
         "_deepnote_index_column": "2020-06-14"
        },
        {
         "0": 76561.28450221955,
         "_deepnote_index_column": "2020-06-15"
        },
        {
         "0": 75860.59712438115,
         "_deepnote_index_column": "2020-06-16"
        },
        {
         "0": 76707.60621662317,
         "_deepnote_index_column": "2020-06-17"
        },
        {
         "0": 75721.80923810277,
         "_deepnote_index_column": "2020-06-18"
        },
        {
         "0": 74069.43687371795,
         "_deepnote_index_column": "2020-06-19"
        },
        {
         "0": 74747.51685829589,
         "_deepnote_index_column": "2020-06-20"
        },
        {
         "0": 73601.51819496701,
         "_deepnote_index_column": "2020-06-21"
        },
        {
         "0": 75053.64436222607,
         "_deepnote_index_column": "2020-06-22"
        },
        {
         "0": 74818.89027784449,
         "_deepnote_index_column": "2020-06-23"
        },
        {
         "0": 73070.95351952313,
         "_deepnote_index_column": "2020-06-24"
        },
        {
         "0": 72792.58004751775,
         "_deepnote_index_column": "2020-06-25"
        },
        {
         "0": 72436.09111840228,
         "_deepnote_index_column": "2020-06-26"
        },
        {
         "0": 70128.24025381518,
         "_deepnote_index_column": "2020-06-27"
        },
        {
         "0": 70461.72589438832,
         "_deepnote_index_column": "2020-06-28"
        },
        {
         "0": 70567.60129230794,
         "_deepnote_index_column": "2020-06-29"
        },
        {
         "0": 69739.23473162281,
         "_deepnote_index_column": "2020-06-30"
        },
        {
         "0": 70177.80397955186,
         "_deepnote_index_column": "2020-07-01"
        },
        {
         "0": 70284.07527275337,
         "_deepnote_index_column": "2020-07-02"
        },
        {
         "0": 69924.02328610107,
         "_deepnote_index_column": "2020-07-03"
        },
        {
         "0": 70577.51640100921,
         "_deepnote_index_column": "2020-07-04"
        },
        {
         "0": 70194.06523053272,
         "_deepnote_index_column": "2020-07-05"
        },
        {
         "0": 74774.08320437506,
         "_deepnote_index_column": "2020-07-06"
        },
        {
         "0": 76272.99592151289,
         "_deepnote_index_column": "2020-07-07"
        },
        {
         "0": 84489.0176750246,
         "_deepnote_index_column": "2020-07-08"
        },
        {
         "0": 83753.47632274411,
         "_deepnote_index_column": "2020-07-09"
        },
        {
         "0": 81995.93424984263,
         "_deepnote_index_column": "2020-07-10"
        },
        {
         "0": 83046.41238007882,
         "_deepnote_index_column": "2020-07-11"
        },
        {
         "0": 82774.40083791234,
         "_deepnote_index_column": "2020-07-12"
        },
        {
         "0": 81964.15395276237,
         "_deepnote_index_column": "2020-07-13"
        },
        {
         "0": 82060.73727094528,
         "_deepnote_index_column": "2020-07-14"
        },
        {
         "0": 81359.86701110557,
         "_deepnote_index_column": "2020-07-15"
        },
        {
         "0": 80095.58073550383,
         "_deepnote_index_column": "2020-07-16"
        },
        {
         "0": 80191.75196158218,
         "_deepnote_index_column": "2020-07-17"
        },
        {
         "0": 82280.32700703185,
         "_deepnote_index_column": "2020-07-18"
        },
        {
         "0": 82195.3007196625,
         "_deepnote_index_column": "2020-07-19"
        },
        {
         "0": 80515.36112561943,
         "_deepnote_index_column": "2020-07-20"
        },
        {
         "0": 82134.62477023406,
         "_deepnote_index_column": "2020-07-21"
        },
        {
         "0": 83931.78919145976,
         "_deepnote_index_column": "2020-07-22"
        },
        {
         "0": 85680.24678617514,
         "_deepnote_index_column": "2020-07-23"
        },
        {
         "0": 87136.88166456198,
         "_deepnote_index_column": "2020-07-24"
        },
        {
         "0": 91429.9020325942,
         "_deepnote_index_column": "2020-07-25"
        },
        {
         "0": 91805.69761524066,
         "_deepnote_index_column": "2020-07-26"
        },
        {
         "0": 95516.66626712064,
         "_deepnote_index_column": "2020-07-27"
        },
        {
         "0": 98337.25850483344,
         "_deepnote_index_column": "2020-07-28"
        },
        {
         "0": 103812.7533741065,
         "_deepnote_index_column": "2020-07-29"
        },
        {
         "0": 104420.4304087923,
         "_deepnote_index_column": "2020-07-30"
        },
        {
         "0": 110562.1071994155,
         "_deepnote_index_column": "2020-07-31"
        },
        {
         "0": 123640.1701874208,
         "_deepnote_index_column": "2020-08-01"
        },
        {
         "0": 122586.66224459057,
         "_deepnote_index_column": "2020-08-02"
        },
        {
         "0": 132356.4692473943,
         "_deepnote_index_column": "2020-08-03"
        },
        {
         "0": 128322.22832530293,
         "_deepnote_index_column": "2020-08-04"
        },
        {
         "0": 129525.61924621584,
         "_deepnote_index_column": "2020-08-05"
        },
        {
         "0": 129642.2090366732,
         "_deepnote_index_column": "2020-08-06"
        },
        {
         "0": 125833.01529989533,
         "_deepnote_index_column": "2020-08-07"
        },
        {
         "0": 125558.85557213284,
         "_deepnote_index_column": "2020-08-08"
        },
        {
         "0": 123266.07998976737,
         "_deepnote_index_column": "2020-08-09"
        },
        {
         "0": 125830.87720527712,
         "_deepnote_index_column": "2020-08-10"
        },
        {
         "0": 121470.81866223845,
         "_deepnote_index_column": "2020-08-11"
        },
        {
         "0": 121676.21573987088,
         "_deepnote_index_column": "2020-08-12"
        },
        {
         "0": 127175.20419643616,
         "_deepnote_index_column": "2020-08-13"
        },
        {
         "0": 128270.12499573927,
         "_deepnote_index_column": "2020-08-14"
        },
        {
         "0": 127966.935542834,
         "_deepnote_index_column": "2020-08-15"
        },
        {
         "0": 129602.92154806473,
         "_deepnote_index_column": "2020-08-16"
        },
        {
         "0": 134417.7833605918,
         "_deepnote_index_column": "2020-08-17"
        },
        {
         "0": 129523.91386122277,
         "_deepnote_index_column": "2020-08-18"
        },
        {
         "0": 123946.36315419429,
         "_deepnote_index_column": "2020-08-19"
        },
        {
         "0": 124940.0808082385,
         "_deepnote_index_column": "2020-08-20"
        },
        {
         "0": 119862.15699715745,
         "_deepnote_index_column": "2020-08-21"
        },
        {
         "0": 122366.31123138471,
         "_deepnote_index_column": "2020-08-22"
        },
        {
         "0": 121870.94779791991,
         "_deepnote_index_column": "2020-08-23"
        },
        {
         "0": 123506.08111065414,
         "_deepnote_index_column": "2020-08-24"
        },
        {
         "0": 118685.67043352284,
         "_deepnote_index_column": "2020-08-25"
        },
        {
         "0": 118499.47802719267,
         "_deepnote_index_column": "2020-08-26"
        },
        {
         "0": 112956.50590991124,
         "_deepnote_index_column": "2020-08-27"
        },
        {
         "0": 116174.24922294462,
         "_deepnote_index_column": "2020-08-28"
        },
        {
         "0": 117220.92289904894,
         "_deepnote_index_column": "2020-08-29"
        },
        {
         "0": 120866.55239753867,
         "_deepnote_index_column": "2020-08-30"
        },
        {
         "0": 120325.06720873961,
         "_deepnote_index_column": "2020-08-31"
        },
        {
         "0": 126273.71732630681,
         "_deepnote_index_column": "2020-09-01"
        },
        {
         "0": 118059.62869327757,
         "_deepnote_index_column": "2020-09-02"
        },
        {
         "0": 105299.27638412581,
         "_deepnote_index_column": "2020-09-03"
        },
        {
         "0": 109272.02163243815,
         "_deepnote_index_column": "2020-09-04"
        },
        {
         "0": 101503.75118079966,
         "_deepnote_index_column": "2020-09-05"
        },
        {
         "0": 102801.52370699932,
         "_deepnote_index_column": "2020-09-06"
        },
        {
         "0": 103417.74039340399,
         "_deepnote_index_column": "2020-09-07"
        },
        {
         "0": 101102.76298924471,
         "_deepnote_index_column": "2020-09-08"
        },
        {
         "0": 102322.38688447581,
         "_deepnote_index_column": "2020-09-09"
        },
        {
         "0": 103996.80768581842,
         "_deepnote_index_column": "2020-09-10"
        },
        {
         "0": 103895.1718309344,
         "_deepnote_index_column": "2020-09-11"
        },
        {
         "0": 105826.24034697658,
         "_deepnote_index_column": "2020-09-12"
        },
        {
         "0": 103258.45234435212,
         "_deepnote_index_column": "2020-09-13"
        },
        {
         "0": 105191.23260876421,
         "_deepnote_index_column": "2020-09-14"
        },
        {
         "0": 104133.45484007457,
         "_deepnote_index_column": "2020-09-15"
        },
        {
         "0": 105840.33522667657,
         "_deepnote_index_column": "2020-09-16"
        },
        {
         "0": 107696.66588173623,
         "_deepnote_index_column": "2020-09-17"
        },
        {
         "0": 108331.66725657175,
         "_deepnote_index_column": "2020-09-18"
        },
        {
         "0": 108767.65544184863,
         "_deepnote_index_column": "2020-09-19"
        },
        {
         "0": 106618.8013384574,
         "_deepnote_index_column": "2020-09-20"
        },
        {
         "0": 100307.91227751538,
         "_deepnote_index_column": "2020-09-21"
        },
        {
         "0": 100860.57907079975,
         "_deepnote_index_column": "2020-09-22"
        },
        {
         "0": 95779.02318988196,
         "_deepnote_index_column": "2020-09-23"
        },
        {
         "0": 100688.16567823771,
         "_deepnote_index_column": "2020-09-24"
        },
        {
         "0": 104485.07212056975,
         "_deepnote_index_column": "2020-09-25"
        },
        {
         "0": 104728.77658690576,
         "_deepnote_index_column": "2020-09-26"
        },
        {
         "0": 104347.22897503557,
         "_deepnote_index_column": "2020-09-27"
        },
        {
         "0": 103832.04363008025,
         "_deepnote_index_column": "2020-09-28"
        },
        {
         "0": 104298.75756206985,
         "_deepnote_index_column": "2020-09-29"
        },
        {
         "0": 103943.57326392249,
         "_deepnote_index_column": "2020-09-30"
        },
        {
         "0": 102249.15124770913,
         "_deepnote_index_column": "2020-10-01"
        },
        {
         "0": 100465.07341740419,
         "_deepnote_index_column": "2020-10-02"
        },
        {
         "0": 100166.08220792637,
         "_deepnote_index_column": "2020-10-03"
        },
        {
         "0": 106599.31194469122,
         "_deepnote_index_column": "2020-10-04"
        },
        {
         "0": 107626.26285272957,
         "_deepnote_index_column": "2020-10-05"
        },
        {
         "0": 105465.97705590799,
         "_deepnote_index_column": "2020-10-06"
        },
        {
         "0": 106830.5275519436,
         "_deepnote_index_column": "2020-10-07"
        },
        {
         "0": 107934.68243278956,
         "_deepnote_index_column": "2020-10-08"
        },
        {
         "0": 109082.18224985075,
         "_deepnote_index_column": "2020-10-10"
        },
        {
         "0": 109695.17335635005,
         "_deepnote_index_column": "2020-10-11"
        },
        {
         "0": 107005.11540666236,
         "_deepnote_index_column": "2020-10-14"
        },
        {
         "0": 108509.93448849773,
         "_deepnote_index_column": "2020-10-15"
        },
        {
         "0": 106084.63391734089,
         "_deepnote_index_column": "2020-10-16"
        },
        {
         "0": 106299.94108547944,
         "_deepnote_index_column": "2020-10-17"
        },
        {
         "0": 106870.86108834935,
         "_deepnote_index_column": "2020-10-18"
        },
        {
         "0": 108520.52595229422,
         "_deepnote_index_column": "2020-10-19"
        },
        {
         "0": 109575.45152514162,
         "_deepnote_index_column": "2020-10-20"
        },
        {
         "0": 113193.27865814515,
         "_deepnote_index_column": "2020-10-21"
        },
        {
         "0": 110857.56400034703,
         "_deepnote_index_column": "2020-10-22"
        },
        {
         "0": 110025.2908695215,
         "_deepnote_index_column": "2020-10-23"
        },
        {
         "0": 110695.25961164202,
         "_deepnote_index_column": "2020-10-24"
        },
        {
         "0": 109306.1136392275,
         "_deepnote_index_column": "2020-10-25"
        },
        {
         "0": 107352.78109306021,
         "_deepnote_index_column": "2020-10-26"
        },
        {
         "0": 109170.56837611747,
         "_deepnote_index_column": "2020-10-27"
        },
        {
         "0": 106134.16022149264,
         "_deepnote_index_column": "2020-10-28"
        },
        {
         "0": 104593.07258905905,
         "_deepnote_index_column": "2020-10-29"
        },
        {
         "0": 103250.1311356707,
         "_deepnote_index_column": "2020-10-30"
        },
        {
         "0": 103491.86381352166,
         "_deepnote_index_column": "2020-10-31"
        },
        {
         "0": 103514.74415240178,
         "_deepnote_index_column": "2020-11-01"
        },
        {
         "0": 101625.72999489421,
         "_deepnote_index_column": "2020-11-02"
        },
        {
         "0": 103390.85454688262,
         "_deepnote_index_column": "2020-11-03"
        },
        {
         "0": 102649.66536279392,
         "_deepnote_index_column": "2020-11-04"
        },
        {
         "0": 106095.73900582462,
         "_deepnote_index_column": "2020-11-05"
        },
        {
         "0": 111564.64816426634,
         "_deepnote_index_column": "2020-11-06"
        },
        {
         "0": 115390.5984710322,
         "_deepnote_index_column": "2020-11-07"
        },
        {
         "0": 117404.99863150227,
         "_deepnote_index_column": "2020-11-08"
        },
        {
         "0": 115929.68891938882,
         "_deepnote_index_column": "2020-11-09"
        },
        {
         "0": 117392.04668207208,
         "_deepnote_index_column": "2020-11-10"
        },
        {
         "0": 118477.61294569443,
         "_deepnote_index_column": "2020-11-11"
        },
        {
         "0": 117850.683478596,
         "_deepnote_index_column": "2020-11-12"
        },
        {
         "0": 122607.19045613689,
         "_deepnote_index_column": "2020-11-13"
        },
        {
         "0": 124064.00919363831,
         "_deepnote_index_column": "2020-11-14"
        },
        {
         "0": 124665.048540546,
         "_deepnote_index_column": "2020-11-15"
        },
        {
         "0": 132006.00679751945,
         "_deepnote_index_column": "2020-11-16"
        },
        {
         "0": 139813.93794612875,
         "_deepnote_index_column": "2020-11-17"
        },
        {
         "0": 136029.25431460806,
         "_deepnote_index_column": "2020-11-18"
        },
        {
         "0": 140441.7905840908,
         "_deepnote_index_column": "2020-11-19"
        },
        {
         "0": 151677.4551493933,
         "_deepnote_index_column": "2020-11-20"
        },
        {
         "0": 211908.6771899877,
         "_deepnote_index_column": "2020-11-21"
        },
        {
         "0": 205138.2247480738,
         "_deepnote_index_column": "2020-11-22"
        },
        {
         "0": 283864.7065669174,
         "_deepnote_index_column": "2020-11-23"
        },
        {
         "0": 319983.7528281403,
         "_deepnote_index_column": "2020-11-24"
        },
        {
         "0": 293806.3198187808,
         "_deepnote_index_column": "2020-11-25"
        },
        {
         "0": 246433.57271374052,
         "_deepnote_index_column": "2020-11-26"
        },
        {
         "0": 258569.41154310908,
         "_deepnote_index_column": "2020-11-27"
        },
        {
         "0": 289247.20606202347,
         "_deepnote_index_column": "2020-11-28"
        },
        {
         "0": 280289.0040173194,
         "_deepnote_index_column": "2020-11-29"
        },
        {
         "0": 307146.52460111945,
         "_deepnote_index_column": "2020-11-30"
        },
        {
         "0": 283376.03227065125,
         "_deepnote_index_column": "2020-12-01"
        },
        {
         "0": 291221.8547606786,
         "_deepnote_index_column": "2020-12-02"
        },
        {
         "0": 291956.97434152773,
         "_deepnote_index_column": "2020-12-03"
        },
        {
         "0": 257641.96929189164,
         "_deepnote_index_column": "2020-12-04"
        },
        {
         "0": 270198.5260190269,
         "_deepnote_index_column": "2020-12-05"
        },
        {
         "0": 286579.0769220703,
         "_deepnote_index_column": "2020-12-06"
        },
        {
         "0": 281531.7573438134,
         "_deepnote_index_column": "2020-12-07"
        },
        {
         "0": 258369.67594849246,
         "_deepnote_index_column": "2020-12-08"
        },
        {
         "0": 269814.3215957176,
         "_deepnote_index_column": "2020-12-09"
        },
        {
         "0": 264896.9348718506,
         "_deepnote_index_column": "2020-12-10"
        },
        {
         "0": 252658.44495391313,
         "_deepnote_index_column": "2020-12-11"
        },
        {
         "0": 234127.12639730357,
         "_deepnote_index_column": "2020-12-12"
        },
        {
         "0": 236467.9294620834,
         "_deepnote_index_column": "2020-12-13"
        },
        {
         "0": 230109.88638016343,
         "_deepnote_index_column": "2020-12-14"
        },
        {
         "0": 217163.5724258675,
         "_deepnote_index_column": "2020-12-15"
        },
        {
         "0": 262896.87830644107,
         "_deepnote_index_column": "2020-12-16"
        },
        {
         "0": 266618.2213937804,
         "_deepnote_index_column": "2020-12-17"
        },
        {
         "0": 270133.352911788,
         "_deepnote_index_column": "2020-12-18"
        },
        {
         "0": 267767.5828976811,
         "_deepnote_index_column": "2020-12-19"
        },
        {
         "0": 257085.31103978681,
         "_deepnote_index_column": "2020-12-20"
        },
        {
         "0": 239001.52367199826,
         "_deepnote_index_column": "2020-12-21"
        },
        {
         "0": 207333.40105378203,
         "_deepnote_index_column": "2020-12-22"
        },
        {
         "0": 119560.8643928229,
         "_deepnote_index_column": "2020-12-23"
        },
        {
         "0": 156185.69805796325,
         "_deepnote_index_column": "2020-12-24"
        },
        {
         "0": 147064.74236786657,
         "_deepnote_index_column": "2020-12-25"
        },
        {
         "0": 136256.2578963762,
         "_deepnote_index_column": "2020-12-26"
        },
        {
         "0": 130858.9601101127,
         "_deepnote_index_column": "2020-12-27"
        },
        {
         "0": 114639.7712068317,
         "_deepnote_index_column": "2020-12-28"
        },
        {
         "0": 102158.56313443994,
         "_deepnote_index_column": "2020-12-29"
        },
        {
         "0": 97935.58691206943,
         "_deepnote_index_column": "2020-12-30"
        },
        {
         "0": 101642.59329368315,
         "_deepnote_index_column": "2020-12-31"
        },
        {
         "0": 109778.77368832947,
         "_deepnote_index_column": "2021-01-01"
        },
        {
         "0": 102478.95853880125,
         "_deepnote_index_column": "2021-01-02"
        },
        {
         "0": 104417.53468042641,
         "_deepnote_index_column": "2021-01-03"
        },
        {
         "0": 109424.1658473351,
         "_deepnote_index_column": "2021-01-04"
        },
        {
         "0": 104834.55989473847,
         "_deepnote_index_column": "2021-01-05"
        },
        {
         "0": 115997.64531788845,
         "_deepnote_index_column": "2021-01-06"
        },
        {
         "0": 150722.2764362579,
         "_deepnote_index_column": "2021-01-07"
        },
        {
         "0": 152003.87183237277,
         "_deepnote_index_column": "2021-01-08"
        },
        {
         "0": 153737.27504922857,
         "_deepnote_index_column": "2021-01-09"
        },
        {
         "0": 149702.39862482456,
         "_deepnote_index_column": "2021-01-10"
        },
        {
         "0": 135862.01161477456,
         "_deepnote_index_column": "2021-01-11"
        },
        {
         "0": 137375.32327329932,
         "_deepnote_index_column": "2021-01-12"
        },
        {
         "0": 143703.6843553121,
         "_deepnote_index_column": "2021-01-13"
        },
        {
         "0": 138934.25375647814,
         "_deepnote_index_column": "2021-01-14"
        },
        {
         "0": 131865.22796008168,
         "_deepnote_index_column": "2021-01-15"
        },
        {
         "0": 131762.7082358591,
         "_deepnote_index_column": "2021-01-16"
        },
        {
         "0": 130444.09295585801,
         "_deepnote_index_column": "2021-01-17"
        },
        {
         "0": 133916.9959145234,
         "_deepnote_index_column": "2021-01-18"
        },
        {
         "0": 138405.67803548626,
         "_deepnote_index_column": "2021-01-19"
        },
        {
         "0": 139442.14333762688,
         "_deepnote_index_column": "2021-01-20"
        },
        {
         "0": 126475.9839909477,
         "_deepnote_index_column": "2021-01-21"
        },
        {
         "0": 128287.91325220805,
         "_deepnote_index_column": "2021-01-22"
        },
        {
         "0": 127827.99701569558,
         "_deepnote_index_column": "2021-01-23"
        },
        {
         "0": 128621.80660967623,
         "_deepnote_index_column": "2021-01-24"
        },
        {
         "0": 126543.24197543773,
         "_deepnote_index_column": "2021-01-25"
        },
        {
         "0": 126420.02209637206,
         "_deepnote_index_column": "2021-01-26"
        },
        {
         "0": 118480.06216157984,
         "_deepnote_index_column": "2021-01-27"
        },
        {
         "0": 120988.92933755543,
         "_deepnote_index_column": "2021-01-28"
        },
        {
         "0": 132703.2408637272,
         "_deepnote_index_column": "2021-01-29"
        },
        {
         "0": 207031.49848510488,
         "_deepnote_index_column": "2021-01-30"
        },
        {
         "0": 182544.77097078483,
         "_deepnote_index_column": "2021-01-31"
        },
        {
         "0": 137751.5594173048,
         "_deepnote_index_column": "2021-02-01"
        },
        {
         "0": 136921.36628320048,
         "_deepnote_index_column": "2021-02-02"
        },
        {
         "0": 145901.8795108784,
         "_deepnote_index_column": "2021-02-03"
        },
        {
         "0": 165538.51966148475,
         "_deepnote_index_column": "2021-02-04"
        },
        {
         "0": 166872.61023615932,
         "_deepnote_index_column": "2021-02-05"
        },
        {
         "0": 162812.10299652594,
         "_deepnote_index_column": "2021-02-06"
        },
        {
         "0": 154974.3540214604,
         "_deepnote_index_column": "2021-02-07"
        },
        {
         "0": 166003.110891614,
         "_deepnote_index_column": "2021-02-08"
        },
        {
         "0": 175009.21680508932,
         "_deepnote_index_column": "2021-02-09"
        },
        {
         "0": 186672.0335709113,
         "_deepnote_index_column": "2021-02-10"
        },
        {
         "0": 194585.41136359223,
         "_deepnote_index_column": "2021-02-11"
        },
        {
         "0": 225659.3962761303,
         "_deepnote_index_column": "2021-02-12"
        },
        {
         "0": 233224.99643175805,
         "_deepnote_index_column": "2021-02-13"
        },
        {
         "0": 220320.40398640462,
         "_deepnote_index_column": "2021-02-14"
        },
        {
         "0": 203531.82311097192,
         "_deepnote_index_column": "2021-02-15"
        },
        {
         "0": 193124.13088670356,
         "_deepnote_index_column": "2021-02-16"
        },
        {
         "0": 198571.39482385703,
         "_deepnote_index_column": "2021-02-17"
        },
        {
         "0": 197420.45328821783,
         "_deepnote_index_column": "2021-02-18"
        },
        {
         "0": 210244.57684843458,
         "_deepnote_index_column": "2021-02-19"
        },
        {
         "0": 191887.92459993626,
         "_deepnote_index_column": "2021-02-20"
        },
        {
         "0": 203400.19095500544,
         "_deepnote_index_column": "2021-02-21"
        },
        {
         "0": 211995.44364829655,
         "_deepnote_index_column": "2021-02-22"
        },
        {
         "0": 175592.09132916294,
         "_deepnote_index_column": "2021-02-23"
        },
        {
         "0": 174950.26301461912,
         "_deepnote_index_column": "2021-02-24"
        },
        {
         "0": 161116.8527716287,
         "_deepnote_index_column": "2021-02-25"
        },
        {
         "0": 158660.7395122354,
         "_deepnote_index_column": "2021-02-26"
        },
        {
         "0": 162334.89222961754,
         "_deepnote_index_column": "2021-02-27"
        },
        {
         "0": 153860.1329067645,
         "_deepnote_index_column": "2021-02-28"
        },
        {
         "0": 165833.28861383587,
         "_deepnote_index_column": "2021-03-01"
        },
        {
         "0": 161974.48400540263,
         "_deepnote_index_column": "2021-03-02"
        },
        {
         "0": 166958.63746367767,
         "_deepnote_index_column": "2021-03-03"
        },
        {
         "0": 180427.9265539438,
         "_deepnote_index_column": "2021-03-04"
        },
        {
         "0": 169865.62842855667,
         "_deepnote_index_column": "2021-03-05"
        },
        {
         "0": 172456.33534641805,
         "_deepnote_index_column": "2021-03-06"
        },
        {
         "0": 173109.2913961078,
         "_deepnote_index_column": "2021-03-07"
        },
        {
         "0": 175604.69981555964,
         "_deepnote_index_column": "2021-03-08"
        },
        {
         "0": 180199.15048569546,
         "_deepnote_index_column": "2021-03-09"
        },
        {
         "0": 171736.99964923918,
         "_deepnote_index_column": "2021-03-10"
        },
        {
         "0": 167952.72987055697,
         "_deepnote_index_column": "2021-03-11"
        },
        {
         "0": 163566.65626263237,
         "_deepnote_index_column": "2021-03-12"
        },
        {
         "0": 170534.90589315258,
         "_deepnote_index_column": "2021-03-13"
        },
        {
         "0": 163930.40170235277,
         "_deepnote_index_column": "2021-03-14"
        },
        {
         "0": 162240.7098198372,
         "_deepnote_index_column": "2021-03-15"
        },
        {
         "0": 171527.13078539466,
         "_deepnote_index_column": "2021-03-16"
        },
        {
         "0": 175167.1709720961,
         "_deepnote_index_column": "2021-03-17"
        },
        {
         "0": 175353.3036143979,
         "_deepnote_index_column": "2021-03-18"
        },
        {
         "0": 176001.44169733135,
         "_deepnote_index_column": "2021-03-19"
        },
        {
         "0": 196852.4784267221,
         "_deepnote_index_column": "2021-03-20"
        },
        {
         "0": 199525.53954672444,
         "_deepnote_index_column": "2021-03-21"
        },
        {
         "0": 211081.35962430903,
         "_deepnote_index_column": "2021-03-22"
        },
        {
         "0": 213634.94988001452,
         "_deepnote_index_column": "2021-03-23"
        },
        {
         "0": 187627.74303912083,
         "_deepnote_index_column": "2021-03-24"
        },
        {
         "0": 198628.54918893854,
         "_deepnote_index_column": "2021-03-25"
        },
        {
         "0": 217649.74127201323,
         "_deepnote_index_column": "2021-03-26"
        },
        {
         "0": 211273.64701354568,
         "_deepnote_index_column": "2021-03-27"
        },
        {
         "0": 211393.77801662497,
         "_deepnote_index_column": "2021-03-28"
        },
        {
         "0": 217962.9375074266,
         "_deepnote_index_column": "2021-03-29"
        },
        {
         "0": 217574.51926894241,
         "_deepnote_index_column": "2021-03-30"
        },
        {
         "0": 220265.12429848942,
         "_deepnote_index_column": "2021-03-31"
        },
        {
         "0": 222346.60954952065,
         "_deepnote_index_column": "2021-04-01"
        },
        {
         "0": 236654.43850587436,
         "_deepnote_index_column": "2021-04-02"
        },
        {
         "0": 226807.81424623975,
         "_deepnote_index_column": "2021-04-03"
        },
        {
         "0": 248230.59689268342,
         "_deepnote_index_column": "2021-04-04"
        },
        {
         "0": 353300.3155870716,
         "_deepnote_index_column": "2021-04-05"
        },
        {
         "0": 420774.04054229276,
         "_deepnote_index_column": "2021-04-06"
        },
        {
         "0": 352188.3888792705,
         "_deepnote_index_column": "2021-04-07"
        },
        {
         "0": 404073.7949955723,
         "_deepnote_index_column": "2021-04-08"
        },
        {
         "0": 391822.491677917,
         "_deepnote_index_column": "2021-04-09"
        },
        {
         "0": 527534.8816414843,
         "_deepnote_index_column": "2021-04-10"
        },
        {
         "0": 522205.1007377744,
         "_deepnote_index_column": "2021-04-11"
        },
        {
         "0": 563353.0463482209,
         "_deepnote_index_column": "2021-04-12"
        },
        {
         "0": 688581.9873327258,
         "_deepnote_index_column": "2021-04-13"
        },
        {
         "0": 705944.3146218028,
         "_deepnote_index_column": "2021-04-14"
        },
        {
         "0": 677860.2438329865,
         "_deepnote_index_column": "2021-04-15"
        },
        {
         "0": 597817.3980215882,
         "_deepnote_index_column": "2021-04-16"
        },
        {
         "0": 598787.7344079159,
         "_deepnote_index_column": "2021-04-17"
        },
        {
         "0": 539656.8342275817,
         "_deepnote_index_column": "2021-04-18"
        },
        {
         "0": 504746.45817104273,
         "_deepnote_index_column": "2021-04-19"
        },
        {
         "0": 530944.396714978,
         "_deepnote_index_column": "2021-04-20"
        },
        {
         "0": 497628.0041870142,
         "_deepnote_index_column": "2021-04-21"
        },
        {
         "0": 445114.67279142886,
         "_deepnote_index_column": "2021-04-22"
        },
        {
         "0": 448944.4519149258,
         "_deepnote_index_column": "2021-04-23"
        },
        {
         "0": 402519.34419853805,
         "_deepnote_index_column": "2021-04-24"
        },
        {
         "0": 396205.40875465184,
         "_deepnote_index_column": "2021-04-25"
        },
        {
         "0": 525266.462391946,
         "_deepnote_index_column": "2021-04-26"
        },
        {
         "0": 537721.194557322,
         "_deepnote_index_column": "2021-04-27"
        },
        {
         "0": 521464.68561995716,
         "_deepnote_index_column": "2021-04-28"
        },
        {
         "0": 537108.9862841546,
         "_deepnote_index_column": "2021-04-29"
        },
        {
         "0": 610923.8711916725,
         "_deepnote_index_column": "2021-04-30"
        },
        {
         "0": 633704.2874537581,
         "_deepnote_index_column": "2021-05-01"
        },
        {
         "0": 667628.266951781,
         "_deepnote_index_column": "2021-05-02"
        },
        {
         "0": 664788.7906021177,
         "_deepnote_index_column": "2021-05-03"
        },
        {
         "0": 594883.613814948,
         "_deepnote_index_column": "2021-05-04"
        },
        {
         "0": 689789.7913486036,
         "_deepnote_index_column": "2021-05-05"
        },
        {
         "0": 683837.8972893398,
         "_deepnote_index_column": "2021-05-06"
        },
        {
         "0": 691881.1873297738,
         "_deepnote_index_column": "2021-05-07"
        },
        {
         "0": 683501.6319886093,
         "_deepnote_index_column": "2021-05-08"
        },
        {
         "0": 671558.0502408352,
         "_deepnote_index_column": "2021-05-09"
        },
        {
         "0": 607570.1406473793,
         "_deepnote_index_column": "2021-05-10"
        },
        {
         "0": 646358.2195798149,
         "_deepnote_index_column": "2021-05-11"
        },
        {
         "0": 545832.7038510394,
         "_deepnote_index_column": "2021-05-12"
        },
        {
         "0": 594405.7169060726,
         "_deepnote_index_column": "2021-05-13"
        },
        {
         "0": 613655.0052778537,
         "_deepnote_index_column": "2021-05-14"
        },
        {
         "0": 649944.146368148,
         "_deepnote_index_column": "2021-05-15"
        },
        {
         "0": 635389.6219688483,
         "_deepnote_index_column": "2021-05-16"
        },
        {
         "0": 654501.9808110938,
         "_deepnote_index_column": "2021-05-17"
        },
        {
         "0": 695808.7079292217,
         "_deepnote_index_column": "2021-05-18"
        },
        {
         "0": 468169.46589693567,
         "_deepnote_index_column": "2021-05-19"
        },
        {
         "0": 518570.01366299816,
         "_deepnote_index_column": "2021-05-20"
        },
        {
         "0": 440465.01372327923,
         "_deepnote_index_column": "2021-05-21"
        },
        {
         "0": 396435.39128800796,
         "_deepnote_index_column": "2021-05-22"
        },
        {
         "0": 348625.2154577809,
         "_deepnote_index_column": "2021-05-23"
        },
        {
         "0": 434279.5376962936,
         "_deepnote_index_column": "2021-05-24"
        },
        {
         "0": 426997.4782701711,
         "_deepnote_index_column": "2021-05-25"
        },
        {
         "0": 452165.39694639464,
         "_deepnote_index_column": "2021-05-26"
        },
        {
         "0": 424393.9921771847,
         "_deepnote_index_column": "2021-05-27"
        },
        {
         "0": 393736.977469005,
         "_deepnote_index_column": "2021-05-28"
        },
        {
         "0": 363835.3955708583,
         "_deepnote_index_column": "2021-05-29"
        },
        {
         "0": 396563.1174428432,
         "_deepnote_index_column": "2021-05-30"
        },
        {
         "0": 457790.0928418531,
         "_deepnote_index_column": "2021-05-31"
        },
        {
         "0": 442225.595838755,
         "_deepnote_index_column": "2021-06-01"
        },
        {
         "0": 448086.50299422734,
         "_deepnote_index_column": "2021-06-02"
        },
        {
         "0": 438935.3763474505,
         "_deepnote_index_column": "2021-06-03"
        },
        {
         "0": 407390.03159035236,
         "_deepnote_index_column": "2021-06-04"
        },
        {
         "0": 387692.29907831113,
         "_deepnote_index_column": "2021-06-05"
        },
        {
         "0": 396930.18745804456,
         "_deepnote_index_column": "2021-06-06"
        },
        {
         "0": 361603.169588049,
         "_deepnote_index_column": "2021-06-07"
        },
        {
         "0": 367747.63754808385,
         "_deepnote_index_column": "2021-06-08"
        },
        {
         "0": 386326.75607889565,
         "_deepnote_index_column": "2021-06-09"
        },
        {
         "0": 364973.7531891173,
         "_deepnote_index_column": "2021-06-10"
        },
        {
         "0": 356268.2914264397,
         "_deepnote_index_column": "2021-06-11"
        },
        {
         "0": 349647.66042454494,
         "_deepnote_index_column": "2021-06-12"
        },
        {
         "0": 370843.1853716489,
         "_deepnote_index_column": "2021-06-13"
        },
        {
         "0": 374931.8053200454,
         "_deepnote_index_column": "2021-06-14"
        },
        {
         "0": 373631.3608789415,
         "_deepnote_index_column": "2021-06-15"
        },
        {
         "0": 349322.2176895487,
         "_deepnote_index_column": "2021-06-16"
        },
        {
         "0": 353323.91441879247,
         "_deepnote_index_column": "2021-06-17"
        },
        {
         "0": 334936.2872642366,
         "_deepnote_index_column": "2021-06-18"
        },
        {
         "0": 319830.1930877299,
         "_deepnote_index_column": "2021-06-19"
        },
        {
         "0": 326004.4947584558,
         "_deepnote_index_column": "2021-06-20"
        },
        {
         "0": 256304.88747777016,
         "_deepnote_index_column": "2021-06-21"
        },
        {
         "0": 228876.29445666642,
         "_deepnote_index_column": "2021-06-22"
        },
        {
         "0": 263085.0987979251,
         "_deepnote_index_column": "2021-06-23"
        },
        {
         "0": 282176.0706989907,
         "_deepnote_index_column": "2021-06-24"
        },
        {
         "0": 257537.30505171113,
         "_deepnote_index_column": "2021-06-25"
        },
        {
         "0": 258424.15715290775,
         "_deepnote_index_column": "2021-06-26"
        },
        {
         "0": 271646.12235221505,
         "_deepnote_index_column": "2021-06-27"
        },
        {
         "0": 270312.089958303,
         "_deepnote_index_column": "2021-06-28"
        },
        {
         "0": 294657.74940935546,
         "_deepnote_index_column": "2021-06-29"
        },
        {
         "0": 292705.61859327386,
         "_deepnote_index_column": "2021-06-30"
        },
        {
         "0": 273978.24584148417,
         "_deepnote_index_column": "2021-07-01"
        },
        {
         "0": 272147.93869447266,
         "_deepnote_index_column": "2021-07-02"
        },
        {
         "0": 278829.76384925726,
         "_deepnote_index_column": "2021-07-03"
        },
        {
         "0": 287969.69113199576,
         "_deepnote_index_column": "2021-07-04"
        },
        {
         "0": 271127.3087472902,
         "_deepnote_index_column": "2021-07-05"
        },
        {
         "0": 275727.738401288,
         "_deepnote_index_column": "2021-07-06"
        },
        {
         "0": 269998.152120343,
         "_deepnote_index_column": "2021-07-07"
        },
        {
         "0": 258181.3404316905,
         "_deepnote_index_column": "2021-07-08"
        },
        {
         "0": 263877.36099624954,
         "_deepnote_index_column": "2021-07-09"
        },
        {
         "0": 259177.91371385462,
         "_deepnote_index_column": "2021-07-10"
        },
        {
         "0": 263517.2766848498,
         "_deepnote_index_column": "2021-07-11"
        },
        {
         "0": 261131.6903356372,
         "_deepnote_index_column": "2021-07-12"
        },
        {
         "0": 256716.50194204808,
         "_deepnote_index_column": "2021-07-13"
        },
        {
         "0": 257048.42958186576,
         "_deepnote_index_column": "2021-07-14"
        },
        {
         "0": 247359.02732308564,
         "_deepnote_index_column": "2021-07-15"
        },
        {
         "0": 244803.5623886609,
         "_deepnote_index_column": "2021-07-16"
        },
        {
         "0": 241345.15745450003,
         "_deepnote_index_column": "2021-07-17"
        },
        {
         "0": 243621.7478460881,
         "_deepnote_index_column": "2021-07-18"
        },
        {
         "0": 231038.75360555056,
         "_deepnote_index_column": "2021-07-19"
        },
        {
         "0": 219345.01621031365,
         "_deepnote_index_column": "2021-07-20"
        },
        {
         "0": 236194.46246174944,
         "_deepnote_index_column": "2021-07-21"
        },
        {
         "0": 226991.97303066225,
         "_deepnote_index_column": "2021-07-22"
        },
        {
         "0": 233514.96327941798,
         "_deepnote_index_column": "2021-07-23"
        },
        {
         "0": 233746.07747431635,
         "_deepnote_index_column": "2021-07-24"
        },
        {
         "0": 232416.02853358883,
         "_deepnote_index_column": "2021-07-25"
        },
        {
         "0": 239798.75170723788,
         "_deepnote_index_column": "2021-07-26"
        },
        {
         "0": 247076.08443198758,
         "_deepnote_index_column": "2021-07-27"
        },
        {
         "0": 278062.3385780882,
         "_deepnote_index_column": "2021-07-28"
        },
        {
         "0": 286714.17934036977,
         "_deepnote_index_column": "2021-07-29"
        },
        {
         "0": 288286.4686733974,
         "_deepnote_index_column": "2021-07-30"
        },
        {
         "0": 286625.62668918096,
         "_deepnote_index_column": "2021-07-31"
        },
        {
         "0": 278245.178327176,
         "_deepnote_index_column": "2021-08-01"
        },
        {
         "0": 283342.3018284225,
         "_deepnote_index_column": "2021-08-02"
        },
        {
         "0": 273188.31018490647,
         "_deepnote_index_column": "2021-08-03"
        },
        {
         "0": 279995.326893822,
         "_deepnote_index_column": "2021-08-04"
        },
        {
         "0": 281016.058408222,
         "_deepnote_index_column": "2021-08-05"
        },
        {
         "0": 286137.69609799417,
         "_deepnote_index_column": "2021-08-06"
        },
        {
         "0": 312879.70574737096,
         "_deepnote_index_column": "2021-08-07"
        },
        {
         "0": 327269.5344119562,
         "_deepnote_index_column": "2021-08-08"
        },
        {
         "0": 344001.59500542906,
         "_deepnote_index_column": "2021-08-09"
        },
        {
         "0": 357741.45412507065,
         "_deepnote_index_column": "2021-08-10"
        },
        {
         "0": "nan",
         "_deepnote_index_column": "2021-08-11"
        }
       ],
       "rows_bottom": null
      },
      "text/plain": "                        0\nDate                     \n2019-09-02  101071.873822\n2019-09-03  101970.526126\n2019-09-04  100717.300382\n2019-09-05   99338.122650\n2019-09-06   97785.734950\n...                   ...\n2021-08-07  312879.705747\n2021-08-08  327269.534412\n2021-08-09  344001.595005\n2021-08-10  357741.454125\n2021-08-11            NaN\n\n[706 rows x 1 columns]",
      "text/html": "<div>\n<style scoped>\n    .dataframe tbody tr th:only-of-type {\n        vertical-align: middle;\n    }\n\n    .dataframe tbody tr th {\n        vertical-align: top;\n    }\n\n    .dataframe thead th {\n        text-align: right;\n    }\n</style>\n<table border=\"1\" class=\"dataframe\">\n  <thead>\n    <tr style=\"text-align: right;\">\n      <th></th>\n      <th>0</th>\n    </tr>\n    <tr>\n      <th>Date</th>\n      <th></th>\n    </tr>\n  </thead>\n  <tbody>\n    <tr>\n      <th>2019-09-02</th>\n      <td>101071.873822</td>\n    </tr>\n    <tr>\n      <th>2019-09-03</th>\n      <td>101970.526126</td>\n    </tr>\n    <tr>\n      <th>2019-09-04</th>\n      <td>100717.300382</td>\n    </tr>\n    <tr>\n      <th>2019-09-05</th>\n      <td>99338.122650</td>\n    </tr>\n    <tr>\n      <th>2019-09-06</th>\n      <td>97785.734950</td>\n    </tr>\n    <tr>\n      <th>...</th>\n      <td>...</td>\n    </tr>\n    <tr>\n      <th>2021-08-07</th>\n      <td>312879.705747</td>\n    </tr>\n    <tr>\n      <th>2021-08-08</th>\n      <td>327269.534412</td>\n    </tr>\n    <tr>\n      <th>2021-08-09</th>\n      <td>344001.595005</td>\n    </tr>\n    <tr>\n      <th>2021-08-10</th>\n      <td>357741.454125</td>\n    </tr>\n    <tr>\n      <th>2021-08-11</th>\n      <td>NaN</td>\n    </tr>\n  </tbody>\n</table>\n<p>706 rows × 1 columns</p>\n</div>"
     },
     "metadata": {}
    }
   ],
   "execution_count": null
  },
  {
   "cell_type": "code",
   "metadata": {
    "tags": [],
    "deepnote_to_be_reexecuted": false,
    "source_hash": "fe67d415",
    "execution_start": 1629253379700,
    "execution_millis": 483,
    "cell_id": "00022-7b6a92e4-7de0-41e8-98fa-c702f3b80225",
    "deepnote_cell_type": "code"
   },
   "source": "# Set initial capital allocation\ninitial_capital = 100000\n\n# Plot cumulative return of model in terms of capital\ncumulative_return_capital = initial_capital * (1 + (combined_signals_df['Returns'] * Results['Predicted Value'])).cumprod().to_frame()\nreturns_plot = cumulative_return_capital.plot(figsize = (20,10), title = 'Cumulative Return on XRP Stock Linear Regression Model')\ncumulative_return_capital.to_csv('cumulative return on xrp.csv')",
   "outputs": [
    {
     "data": {
      "text/plain": "<Figure size 1440x720 with 1 Axes>",
      "image/png": "[encoded data removed]"
     },
     "metadata": {
      "needs_background": "light",
      "image/png": {
       "width": 1175,
       "height": 604
      }
     },
     "output_type": "display_data"
    }
   ],
   "execution_count": null
  },
  {
   "cell_type": "code",
   "metadata": {
    "tags": [],
    "deepnote_to_be_reexecuted": false,
    "source_hash": "520291de",
    "execution_start": 1629253380157,
    "execution_millis": 38,
    "cell_id": "00023-04dfca25-73d0-4b23-ae45-85c65e1c2102",
    "deepnote_cell_type": "code"
   },
   "source": "# Calculating the confusion matrix\ncm = confusion_matrix(y_test, predictions)\ncm_df = pd.DataFrame(\n    cm, index=[\"Actual 0\", \"Actual 1\"], columns=[\"Predicted 0\", \"Predicted 1\"]\n)\n\n# Calculating the accuracy score\nacc_score = accuracy_score(y_test, predictions)\nacc_score",
   "outputs": [
    {
     "output_type": "execute_result",
     "execution_count": 24,
     "data": {
      "text/plain": "0.5290780141843971"
     },
     "metadata": {}
    }
   ],
   "execution_count": null
  },
  {
   "cell_type": "code",
   "metadata": {
    "tags": [],
    "cell_id": "00024-274e5c3d-0f4b-4324-9399-54a05c06e35e",
    "deepnote_to_be_reexecuted": false,
    "source_hash": "b623e53d",
    "execution_start": 1629253380165,
    "execution_millis": 0,
    "deepnote_cell_type": "code"
   },
   "source": "",
   "outputs": [],
   "execution_count": null
  },
  {
   "cell_type": "markdown",
   "source": "<a style='text-decoration:none;line-height:16px;display:flex;color:#5B5B62;padding:10px;justify-content:end;' href='https://deepnote.com?utm_source=created-in-deepnote-cell&projectId=d12c285c-6789-4c45-9ad7-1be9b4d60622' target=\"_blank\">\n<img alt='Created in deepnote.com' style='display:inline;max-height:16px;margin:0px;margin-right:7.5px;' src='data:image/svg+xml;base64,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' > </img>\nCreated in <span style='font-weight:600;margin-left:4px;'>Deepnote</span></a>",
   "metadata": {
    "tags": [],
    "created_in_deepnote_cell": true,
    "deepnote_cell_type": "markdown"
   }
  }
 ],
 "nbformat": 4,
 "nbformat_minor": 2,
 "metadata": {
  "orig_nbformat": 2,
  "deepnote": {
   "is_reactive": false
  },
  "deepnote_notebook_id": "f602d713-82ba-4a0b-acbb-12ae203a23ae",
  "deepnote_execution_queue": []
 }
}