{
 "cells": [
  {
   "cell_type": "code",
   "metadata": {
    "tags": [],
    "cell_id": "00000-bf171897-c3c9-4e81-bdba-7cf02992bf47",
    "deepnote_to_be_reexecuted": false,
    "source_hash": "939c885c",
    "execution_start": 1628647914698,
    "execution_millis": 2,
    "deepnote_cell_type": "code"
   },
   "source": "# Initial imports\nimport pandas as pd\nfrom pathlib import Path\nfrom sklearn.ensemble import RandomForestClassifier\nfrom sklearn.preprocessing import StandardScaler\nfrom sklearn.model_selection import train_test_split\nfrom sklearn.metrics import confusion_matrix, accuracy_score, classification_report\n%matplotlib inline\n\n# Needed for decision tree visualization\nimport pydotplus\nfrom IPython.display import Image",
   "execution_count": 4,
   "outputs": []
  },
  {
   "cell_type": "code",
   "source": "sq_aroon_df = pd.read_csv(Path('../TRADE_STRATS/SQ AROON 25 TRADE STRATEGY.csv'), index_col = 'Unnamed: 0', infer_datetime_format= True)\nsq_aroon_df",
   "metadata": {
    "tags": [],
    "cell_id": "00002-04a2773d-7a52-4f65-b55f-7858a74eb27a",
    "deepnote_to_be_reexecuted": false,
    "source_hash": "4c0fb9c5",
    "execution_start": 1628648350716,
    "execution_millis": 53,
    "deepnote_cell_type": "code"
   },
   "outputs": [
    {
     "output_type": "execute_result",
     "execution_count": 14,
     "data": {
      "application/vnd.deepnote.dataframe.v2+json": {
       "row_count": 3411,
       "column_count": 5,
       "columns": [
        {
         "name": "Close",
         "dtype": "float64",
         "stats": {
          "unique_count": 3152,
          "nan_count": 0,
          "min": "33.119998931884766",
          "max": "287.32000732421875",
          "histogram": [
           {
            "bin_start": 33.119998931884766,
            "bin_end": 58.53999977111816,
            "count": 199
           },
           {
            "bin_start": 58.53999977111816,
            "bin_end": 83.96000061035156,
            "count": 1097
           },
           {
            "bin_start": 83.96000061035156,
            "bin_end": 109.38000144958497,
            "count": 161
           },
           {
            "bin_start": 109.38000144958497,
            "bin_end": 134.80000228881835,
            "count": 158
           },
           {
            "bin_start": 134.80000228881835,
            "bin_end": 160.22000312805176,
            "count": 277
           },
           {
            "bin_start": 160.22000312805176,
            "bin_end": 185.64000396728517,
            "count": 186
           },
           {
            "bin_start": 185.64000396728517,
            "bin_end": 211.06000480651855,
            "count": 245
           },
           {
            "bin_start": 211.06000480651855,
            "bin_end": 236.48000564575196,
            "count": 548
           },
           {
            "bin_start": 236.48000564575196,
            "bin_end": 261.9000064849854,
            "count": 401
           },
           {
            "bin_start": 261.9000064849854,
            "bin_end": 287.32000732421875,
            "count": 139
           }
          ]
         }
        },
        {
         "name": "trend_aroon_up",
         "dtype": "float64",
         "stats": {
          "unique_count": 25,
          "nan_count": 24,
          "min": "4.0",
          "max": "100.0",
          "histogram": [
           {
            "bin_start": 4,
            "bin_end": 13.6,
            "count": 615
           },
           {
            "bin_start": 13.6,
            "bin_end": 23.2,
            "count": 204
           },
           {
            "bin_start": 23.2,
            "bin_end": 32.8,
            "count": 266
           },
           {
            "bin_start": 32.8,
            "bin_end": 42.4,
            "count": 169
           },
           {
            "bin_start": 42.4,
            "bin_end": 52,
            "count": 176
           },
           {
            "bin_start": 52,
            "bin_end": 61.599999999999994,
            "count": 289
           },
           {
            "bin_start": 61.599999999999994,
            "bin_end": 71.2,
            "count": 190
           },
           {
            "bin_start": 71.2,
            "bin_end": 80.8,
            "count": 331
           },
           {
            "bin_start": 80.8,
            "bin_end": 90.39999999999999,
            "count": 291
           },
           {
            "bin_start": 90.39999999999999,
            "bin_end": 100,
            "count": 856
           }
          ]
         }
        },
        {
         "name": "trend_aroon_down",
         "dtype": "float64",
         "stats": {
          "unique_count": 25,
          "nan_count": 24,
          "min": "4.0",
          "max": "100.0",
          "histogram": [
           {
            "bin_start": 4,
            "bin_end": 13.6,
            "count": 958
           },
           {
            "bin_start": 13.6,
            "bin_end": 23.2,
            "count": 310
           },
           {
            "bin_start": 23.2,
            "bin_end": 32.8,
            "count": 370
           },
           {
            "bin_start": 32.8,
            "bin_end": 42.4,
            "count": 199
           },
           {
            "bin_start": 42.4,
            "bin_end": 52,
            "count": 177
           },
           {
            "bin_start": 52,
            "bin_end": 61.599999999999994,
            "count": 246
           },
           {
            "bin_start": 61.599999999999994,
            "bin_end": 71.2,
            "count": 154
           },
           {
            "bin_start": 71.2,
            "bin_end": 80.8,
            "count": 241
           },
           {
            "bin_start": 80.8,
            "bin_end": 90.39999999999999,
            "count": 194
           },
           {
            "bin_start": 90.39999999999999,
            "bin_end": 100,
            "count": 538
           }
          ]
         }
        },
        {
         "name": "aroon_signal",
         "dtype": "int64",
         "stats": {
          "unique_count": 3,
          "nan_count": 0,
          "min": "-1",
          "max": "1",
          "histogram": [
           {
            "bin_start": -1,
            "bin_end": -0.8,
            "count": 39
           },
           {
            "bin_start": -0.8,
            "bin_end": -0.6,
            "count": 0
           },
           {
            "bin_start": -0.6,
            "bin_end": -0.3999999999999999,
            "count": 0
           },
           {
            "bin_start": -0.3999999999999999,
            "bin_end": -0.19999999999999996,
            "count": 0
           },
           {
            "bin_start": -0.19999999999999996,
            "bin_end": 0,
            "count": 0
           },
           {
            "bin_start": 0,
            "bin_end": 0.20000000000000018,
            "count": 3334
           },
           {
            "bin_start": 0.20000000000000018,
            "bin_end": 0.40000000000000013,
            "count": 0
           },
           {
            "bin_start": 0.40000000000000013,
            "bin_end": 0.6000000000000001,
            "count": 0
           },
           {
            "bin_start": 0.6000000000000001,
            "bin_end": 0.8,
            "count": 0
           },
           {
            "bin_start": 0.8,
            "bin_end": 1,
            "count": 38
           }
          ]
         }
        },
        {
         "name": "aroon_position",
         "dtype": "int64",
         "stats": {
          "unique_count": 2,
          "nan_count": 0,
          "min": "0",
          "max": "1",
          "histogram": [
           {
            "bin_start": 0,
            "bin_end": 0.1,
            "count": 1282
           },
           {
            "bin_start": 0.1,
            "bin_end": 0.2,
            "count": 0
           },
           {
            "bin_start": 0.2,
            "bin_end": 0.30000000000000004,
            "count": 0
           },
           {
            "bin_start": 0.30000000000000004,
            "bin_end": 0.4,
            "count": 0
           },
           {
            "bin_start": 0.4,
            "bin_end": 0.5,
            "count": 0
           },
           {
            "bin_start": 0.5,
            "bin_end": 0.6000000000000001,
            "count": 0
           },
           {
            "bin_start": 0.6000000000000001,
            "bin_end": 0.7000000000000001,
            "count": 0
           },
           {
            "bin_start": 0.7000000000000001,
            "bin_end": 0.8,
            "count": 0
           },
           {
            "bin_start": 0.8,
            "bin_end": 0.9,
            "count": 0
           },
           {
            "bin_start": 0.9,
            "bin_end": 1,
            "count": 2129
           }
          ]
         }
        },
        {
         "name": "_deepnote_index_column",
         "dtype": "object"
        }
       ],
       "rows_top": [
        {
         "Close": 62.959999084472656,
         "trend_aroon_up": "nan",
         "trend_aroon_down": "nan",
         "aroon_signal": 0,
         "aroon_position": 1,
         "_deepnote_index_column": "2019-09-03 09:30:00-04:00"
        },
        {
         "Close": 62.31999969482422,
         "trend_aroon_up": "nan",
         "trend_aroon_down": "nan",
         "aroon_signal": 0,
         "aroon_position": 1,
         "_deepnote_index_column": "2019-09-03 10:30:00-04:00"
        },
        {
         "Close": 62,
         "trend_aroon_up": "nan",
         "trend_aroon_down": "nan",
         "aroon_signal": 0,
         "aroon_position": 1,
         "_deepnote_index_column": "2019-09-03 11:30:00-04:00"
        },
        {
         "Close": 61.774898529052734,
         "trend_aroon_up": "nan",
         "trend_aroon_down": "nan",
         "aroon_signal": 0,
         "aroon_position": 1,
         "_deepnote_index_column": "2019-09-03 12:30:00-04:00"
        },
        {
         "Close": 61.36000061035156,
         "trend_aroon_up": "nan",
         "trend_aroon_down": "nan",
         "aroon_signal": 0,
         "aroon_position": 1,
         "_deepnote_index_column": "2019-09-03 13:30:00-04:00"
        },
        {
         "Close": 61.125,
         "trend_aroon_up": "nan",
         "trend_aroon_down": "nan",
         "aroon_signal": 0,
         "aroon_position": 1,
         "_deepnote_index_column": "2019-09-03 14:30:00-04:00"
        },
        {
         "Close": 61.13999938964844,
         "trend_aroon_up": "nan",
         "trend_aroon_down": "nan",
         "aroon_signal": 0,
         "aroon_position": 1,
         "_deepnote_index_column": "2019-09-03 15:30:00-04:00"
        },
        {
         "Close": 61.93000030517578,
         "trend_aroon_up": "nan",
         "trend_aroon_down": "nan",
         "aroon_signal": 0,
         "aroon_position": 1,
         "_deepnote_index_column": "2019-09-04 09:30:00-04:00"
        },
        {
         "Close": 62.02000045776367,
         "trend_aroon_up": "nan",
         "trend_aroon_down": "nan",
         "aroon_signal": 0,
         "aroon_position": 1,
         "_deepnote_index_column": "2019-09-04 10:30:00-04:00"
        },
        {
         "Close": 61.41999816894531,
         "trend_aroon_up": "nan",
         "trend_aroon_down": "nan",
         "aroon_signal": 0,
         "aroon_position": 1,
         "_deepnote_index_column": "2019-09-04 11:30:00-04:00"
        },
        {
         "Close": 61.07500076293945,
         "trend_aroon_up": "nan",
         "trend_aroon_down": "nan",
         "aroon_signal": 0,
         "aroon_position": 1,
         "_deepnote_index_column": "2019-09-04 12:30:00-04:00"
        },
        {
         "Close": 61.11000061035156,
         "trend_aroon_up": "nan",
         "trend_aroon_down": "nan",
         "aroon_signal": 0,
         "aroon_position": 1,
         "_deepnote_index_column": "2019-09-04 13:30:00-04:00"
        },
        {
         "Close": 61.040000915527344,
         "trend_aroon_up": "nan",
         "trend_aroon_down": "nan",
         "aroon_signal": 0,
         "aroon_position": 1,
         "_deepnote_index_column": "2019-09-04 14:30:00-04:00"
        },
        {
         "Close": 61.08000183105469,
         "trend_aroon_up": "nan",
         "trend_aroon_down": "nan",
         "aroon_signal": 0,
         "aroon_position": 1,
         "_deepnote_index_column": "2019-09-04 15:30:00-04:00"
        },
        {
         "Close": 63.08250045776367,
         "trend_aroon_up": "nan",
         "trend_aroon_down": "nan",
         "aroon_signal": 0,
         "aroon_position": 1,
         "_deepnote_index_column": "2019-09-05 09:30:00-04:00"
        },
        {
         "Close": 62.67900085449219,
         "trend_aroon_up": "nan",
         "trend_aroon_down": "nan",
         "aroon_signal": 0,
         "aroon_position": 1,
         "_deepnote_index_column": "2019-09-05 10:30:00-04:00"
        },
        {
         "Close": 62.45280075073242,
         "trend_aroon_up": "nan",
         "trend_aroon_down": "nan",
         "aroon_signal": 0,
         "aroon_position": 1,
         "_deepnote_index_column": "2019-09-05 11:30:00-04:00"
        },
        {
         "Close": 62.83000183105469,
         "trend_aroon_up": "nan",
         "trend_aroon_down": "nan",
         "aroon_signal": 0,
         "aroon_position": 1,
         "_deepnote_index_column": "2019-09-05 12:30:00-04:00"
        },
        {
         "Close": 62.95500183105469,
         "trend_aroon_up": "nan",
         "trend_aroon_down": "nan",
         "aroon_signal": 0,
         "aroon_position": 1,
         "_deepnote_index_column": "2019-09-05 13:30:00-04:00"
        },
        {
         "Close": 63.150001525878906,
         "trend_aroon_up": "nan",
         "trend_aroon_down": "nan",
         "aroon_signal": 0,
         "aroon_position": 1,
         "_deepnote_index_column": "2019-09-05 14:30:00-04:00"
        },
        {
         "Close": 63.04499816894531,
         "trend_aroon_up": "nan",
         "trend_aroon_down": "nan",
         "aroon_signal": 0,
         "aroon_position": 1,
         "_deepnote_index_column": "2019-09-05 15:30:00-04:00"
        },
        {
         "Close": 63.31999969482422,
         "trend_aroon_up": "nan",
         "trend_aroon_down": "nan",
         "aroon_signal": 0,
         "aroon_position": 1,
         "_deepnote_index_column": "2019-09-06 09:30:00-04:00"
        },
        {
         "Close": 62.97610092163086,
         "trend_aroon_up": "nan",
         "trend_aroon_down": "nan",
         "aroon_signal": 0,
         "aroon_position": 1,
         "_deepnote_index_column": "2019-09-06 10:30:00-04:00"
        },
        {
         "Close": 63.27999877929688,
         "trend_aroon_up": "nan",
         "trend_aroon_down": "nan",
         "aroon_signal": 0,
         "aroon_position": 1,
         "_deepnote_index_column": "2019-09-06 11:30:00-04:00"
        },
        {
         "Close": 62.97600173950195,
         "trend_aroon_up": 88,
         "trend_aroon_down": 52,
         "aroon_signal": 0,
         "aroon_position": 1,
         "_deepnote_index_column": "2019-09-06 12:30:00-04:00"
        },
        {
         "Close": 62.650001525878906,
         "trend_aroon_up": 84,
         "trend_aroon_down": 48,
         "aroon_signal": 0,
         "aroon_position": 1,
         "_deepnote_index_column": "2019-09-06 13:30:00-04:00"
        },
        {
         "Close": 62.30500030517578,
         "trend_aroon_up": 80,
         "trend_aroon_down": 44,
         "aroon_signal": 0,
         "aroon_position": 1,
         "_deepnote_index_column": "2019-09-06 14:30:00-04:00"
        },
        {
         "Close": 61.97999954223633,
         "trend_aroon_up": 76,
         "trend_aroon_down": 40,
         "aroon_signal": 0,
         "aroon_position": 1,
         "_deepnote_index_column": "2019-09-06 15:30:00-04:00"
        },
        {
         "Close": 61.70000076293945,
         "trend_aroon_up": 72,
         "trend_aroon_down": 36,
         "aroon_signal": 0,
         "aroon_position": 1,
         "_deepnote_index_column": "2019-09-09 09:30:00-04:00"
        },
        {
         "Close": 61.68000030517578,
         "trend_aroon_up": 68,
         "trend_aroon_down": 32,
         "aroon_signal": 0,
         "aroon_position": 1,
         "_deepnote_index_column": "2019-09-09 10:30:00-04:00"
        },
        {
         "Close": 60.95000076293945,
         "trend_aroon_up": 64,
         "trend_aroon_down": 100,
         "aroon_signal": 0,
         "aroon_position": 1,
         "_deepnote_index_column": "2019-09-09 11:30:00-04:00"
        },
        {
         "Close": 59.92499923706055,
         "trend_aroon_up": 60,
         "trend_aroon_down": 100,
         "aroon_signal": 0,
         "aroon_position": 1,
         "_deepnote_index_column": "2019-09-09 12:30:00-04:00"
        },
        {
         "Close": 59.752201080322266,
         "trend_aroon_up": 56.00000000000001,
         "trend_aroon_down": 100,
         "aroon_signal": 0,
         "aroon_position": 1,
         "_deepnote_index_column": "2019-09-09 13:30:00-04:00"
        },
        {
         "Close": 60.86000061035156,
         "trend_aroon_up": 52,
         "trend_aroon_down": 96,
         "aroon_signal": 0,
         "aroon_position": 1,
         "_deepnote_index_column": "2019-09-09 14:30:00-04:00"
        },
        {
         "Close": 61.45000076293945,
         "trend_aroon_up": 48,
         "trend_aroon_down": 92,
         "aroon_signal": 0,
         "aroon_position": 1,
         "_deepnote_index_column": "2019-09-09 15:30:00-04:00"
        },
        {
         "Close": 61.380001068115234,
         "trend_aroon_up": 44,
         "trend_aroon_down": 88,
         "aroon_signal": 0,
         "aroon_position": 1,
         "_deepnote_index_column": "2019-09-10 09:30:00-04:00"
        },
        {
         "Close": 61.207298278808594,
         "trend_aroon_up": 40,
         "trend_aroon_down": 84,
         "aroon_signal": 0,
         "aroon_position": 1,
         "_deepnote_index_column": "2019-09-10 10:30:00-04:00"
        },
        {
         "Close": 61.38999938964844,
         "trend_aroon_up": 36,
         "trend_aroon_down": 80,
         "aroon_signal": 0,
         "aroon_position": 1,
         "_deepnote_index_column": "2019-09-10 11:30:00-04:00"
        },
        {
         "Close": 61.15800094604492,
         "trend_aroon_up": 32,
         "trend_aroon_down": 76,
         "aroon_signal": 0,
         "aroon_position": 1,
         "_deepnote_index_column": "2019-09-10 12:30:00-04:00"
        },
        {
         "Close": 60.58000183105469,
         "trend_aroon_up": 28.000000000000004,
         "trend_aroon_down": 72,
         "aroon_signal": -1,
         "aroon_position": 0,
         "_deepnote_index_column": "2019-09-10 13:30:00-04:00"
        },
        {
         "Close": 60.4900016784668,
         "trend_aroon_up": 24,
         "trend_aroon_down": 68,
         "aroon_signal": 0,
         "aroon_position": 0,
         "_deepnote_index_column": "2019-09-10 14:30:00-04:00"
        },
        {
         "Close": 60.5,
         "trend_aroon_up": 20,
         "trend_aroon_down": 64,
         "aroon_signal": 0,
         "aroon_position": 0,
         "_deepnote_index_column": "2019-09-10 15:30:00-04:00"
        },
        {
         "Close": 60.45000076293945,
         "trend_aroon_up": 16,
         "trend_aroon_down": 60,
         "aroon_signal": 0,
         "aroon_position": 0,
         "_deepnote_index_column": "2019-09-11 09:30:00-04:00"
        },
        {
         "Close": 59.97999954223633,
         "trend_aroon_up": 12,
         "trend_aroon_down": 56.00000000000001,
         "aroon_signal": 0,
         "aroon_position": 0,
         "_deepnote_index_column": "2019-09-11 10:30:00-04:00"
        },
        {
         "Close": 60.22999954223633,
         "trend_aroon_up": 8,
         "trend_aroon_down": 52,
         "aroon_signal": 0,
         "aroon_position": 0,
         "_deepnote_index_column": "2019-09-11 11:30:00-04:00"
        },
        {
         "Close": 60.20149993896485,
         "trend_aroon_up": 4,
         "trend_aroon_down": 48,
         "aroon_signal": 0,
         "aroon_position": 0,
         "_deepnote_index_column": "2019-09-11 12:30:00-04:00"
        },
        {
         "Close": 59.69340133666992,
         "trend_aroon_up": 8,
         "trend_aroon_down": 100,
         "aroon_signal": 0,
         "aroon_position": 0,
         "_deepnote_index_column": "2019-09-11 13:30:00-04:00"
        },
        {
         "Close": 59.014198303222656,
         "trend_aroon_up": 4,
         "trend_aroon_down": 100,
         "aroon_signal": 0,
         "aroon_position": 0,
         "_deepnote_index_column": "2019-09-11 14:30:00-04:00"
        },
        {
         "Close": 59.18000030517578,
         "trend_aroon_up": 4,
         "trend_aroon_down": 96,
         "aroon_signal": 0,
         "aroon_position": 0,
         "_deepnote_index_column": "2019-09-11 15:30:00-04:00"
        },
        {
         "Close": 58.959598541259766,
         "trend_aroon_up": 4,
         "trend_aroon_down": 100,
         "aroon_signal": 0,
         "aroon_position": 0,
         "_deepnote_index_column": "2019-09-12 09:30:00-04:00"
        },
        {
         "Close": 58.560001373291016,
         "trend_aroon_up": 4,
         "trend_aroon_down": 100,
         "aroon_signal": 0,
         "aroon_position": 0,
         "_deepnote_index_column": "2019-09-12 10:30:00-04:00"
        },
        {
         "Close": 58.310001373291016,
         "trend_aroon_up": 4,
         "trend_aroon_down": 100,
         "aroon_signal": 0,
         "aroon_position": 0,
         "_deepnote_index_column": "2019-09-12 11:30:00-04:00"
        },
        {
         "Close": 58.2400016784668,
         "trend_aroon_up": 4,
         "trend_aroon_down": 100,
         "aroon_signal": 0,
         "aroon_position": 0,
         "_deepnote_index_column": "2019-09-12 12:30:00-04:00"
        },
        {
         "Close": 58,
         "trend_aroon_up": 4,
         "trend_aroon_down": 100,
         "aroon_signal": 0,
         "aroon_position": 0,
         "_deepnote_index_column": "2019-09-12 13:30:00-04:00"
        },
        {
         "Close": 58.095001220703125,
         "trend_aroon_up": 20,
         "trend_aroon_down": 96,
         "aroon_signal": 0,
         "aroon_position": 0,
         "_deepnote_index_column": "2019-09-12 14:30:00-04:00"
        },
        {
         "Close": 57.790000915527344,
         "trend_aroon_up": 16,
         "trend_aroon_down": 100,
         "aroon_signal": 0,
         "aroon_position": 0,
         "_deepnote_index_column": "2019-09-12 15:30:00-04:00"
        },
        {
         "Close": 58.22999954223633,
         "trend_aroon_up": 12,
         "trend_aroon_down": 96,
         "aroon_signal": 0,
         "aroon_position": 0,
         "_deepnote_index_column": "2019-09-13 09:30:00-04:00"
        },
        {
         "Close": 58.27999877929688,
         "trend_aroon_up": 8,
         "trend_aroon_down": 92,
         "aroon_signal": 0,
         "aroon_position": 0,
         "_deepnote_index_column": "2019-09-13 10:30:00-04:00"
        },
        {
         "Close": 58.7599983215332,
         "trend_aroon_up": 4,
         "trend_aroon_down": 88,
         "aroon_signal": 0,
         "aroon_position": 0,
         "_deepnote_index_column": "2019-09-13 11:30:00-04:00"
        },
        {
         "Close": 58.483699798583984,
         "trend_aroon_up": 12,
         "trend_aroon_down": 84,
         "aroon_signal": 0,
         "aroon_position": 0,
         "_deepnote_index_column": "2019-09-13 12:30:00-04:00"
        },
        {
         "Close": 58.1349983215332,
         "trend_aroon_up": 8,
         "trend_aroon_down": 80,
         "aroon_signal": 0,
         "aroon_position": 0,
         "_deepnote_index_column": "2019-09-13 13:30:00-04:00"
        },
        {
         "Close": 58.290000915527344,
         "trend_aroon_up": 4,
         "trend_aroon_down": 76,
         "aroon_signal": 0,
         "aroon_position": 0,
         "_deepnote_index_column": "2019-09-13 14:30:00-04:00"
        },
        {
         "Close": 58.31999969482422,
         "trend_aroon_up": 4,
         "trend_aroon_down": 72,
         "aroon_signal": 0,
         "aroon_position": 0,
         "_deepnote_index_column": "2019-09-13 15:30:00-04:00"
        },
        {
         "Close": 57.52999877929688,
         "trend_aroon_up": 4,
         "trend_aroon_down": 100,
         "aroon_signal": 0,
         "aroon_position": 0,
         "_deepnote_index_column": "2019-09-16 09:30:00-04:00"
        },
        {
         "Close": 58.02510070800781,
         "trend_aroon_up": 8,
         "trend_aroon_down": 96,
         "aroon_signal": 0,
         "aroon_position": 0,
         "_deepnote_index_column": "2019-09-16 10:30:00-04:00"
        },
        {
         "Close": 58.14889907836914,
         "trend_aroon_up": 4,
         "trend_aroon_down": 92,
         "aroon_signal": 0,
         "aroon_position": 0,
         "_deepnote_index_column": "2019-09-16 11:30:00-04:00"
        },
        {
         "Close": 59.494998931884766,
         "trend_aroon_up": 4,
         "trend_aroon_down": 88,
         "aroon_signal": 0,
         "aroon_position": 0,
         "_deepnote_index_column": "2019-09-16 12:30:00-04:00"
        },
        {
         "Close": 59.470001220703125,
         "trend_aroon_up": 8,
         "trend_aroon_down": 84,
         "aroon_signal": 0,
         "aroon_position": 0,
         "_deepnote_index_column": "2019-09-16 13:30:00-04:00"
        },
        {
         "Close": 59.31999969482422,
         "trend_aroon_up": 4,
         "trend_aroon_down": 80,
         "aroon_signal": 0,
         "aroon_position": 0,
         "_deepnote_index_column": "2019-09-16 14:30:00-04:00"
        },
        {
         "Close": 59.25,
         "trend_aroon_up": 4,
         "trend_aroon_down": 76,
         "aroon_signal": 0,
         "aroon_position": 0,
         "_deepnote_index_column": "2019-09-16 15:30:00-04:00"
        },
        {
         "Close": 59.65999984741211,
         "trend_aroon_up": 4,
         "trend_aroon_down": 72,
         "aroon_signal": 0,
         "aroon_position": 0,
         "_deepnote_index_column": "2019-09-17 09:30:00-04:00"
        },
        {
         "Close": 59.52999877929688,
         "trend_aroon_up": 96,
         "trend_aroon_down": 68,
         "aroon_signal": 0,
         "aroon_position": 0,
         "_deepnote_index_column": "2019-09-17 10:30:00-04:00"
        },
        {
         "Close": 59.63999938964844,
         "trend_aroon_up": 92,
         "trend_aroon_down": 64,
         "aroon_signal": 0,
         "aroon_position": 0,
         "_deepnote_index_column": "2019-09-17 11:30:00-04:00"
        },
        {
         "Close": 59.40999984741211,
         "trend_aroon_up": 88,
         "trend_aroon_down": 60,
         "aroon_signal": 0,
         "aroon_position": 0,
         "_deepnote_index_column": "2019-09-17 12:30:00-04:00"
        },
        {
         "Close": 59.34999847412109,
         "trend_aroon_up": 84,
         "trend_aroon_down": 56.00000000000001,
         "aroon_signal": 0,
         "aroon_position": 0,
         "_deepnote_index_column": "2019-09-17 13:30:00-04:00"
        },
        {
         "Close": 59.54999923706055,
         "trend_aroon_up": 80,
         "trend_aroon_down": 52,
         "aroon_signal": 0,
         "aroon_position": 0,
         "_deepnote_index_column": "2019-09-17 14:30:00-04:00"
        },
        {
         "Close": 59.540000915527344,
         "trend_aroon_up": 76,
         "trend_aroon_down": 48,
         "aroon_signal": 0,
         "aroon_position": 0,
         "_deepnote_index_column": "2019-09-17 15:30:00-04:00"
        },
        {
         "Close": 59.77000045776367,
         "trend_aroon_up": 100,
         "trend_aroon_down": 44,
         "aroon_signal": 0,
         "aroon_position": 0,
         "_deepnote_index_column": "2019-09-18 09:30:00-04:00"
        },
        {
         "Close": 59.41999816894531,
         "trend_aroon_up": 96,
         "trend_aroon_down": 40,
         "aroon_signal": 0,
         "aroon_position": 0,
         "_deepnote_index_column": "2019-09-18 10:30:00-04:00"
        },
        {
         "Close": 59.27000045776367,
         "trend_aroon_up": 92,
         "trend_aroon_down": 36,
         "aroon_signal": 0,
         "aroon_position": 0,
         "_deepnote_index_column": "2019-09-18 11:30:00-04:00"
        },
        {
         "Close": 59.165000915527344,
         "trend_aroon_up": 88,
         "trend_aroon_down": 32,
         "aroon_signal": 0,
         "aroon_position": 0,
         "_deepnote_index_column": "2019-09-18 12:30:00-04:00"
        },
        {
         "Close": 58.9900016784668,
         "trend_aroon_up": 84,
         "trend_aroon_down": 28.000000000000004,
         "aroon_signal": 1,
         "aroon_position": 1,
         "_deepnote_index_column": "2019-09-18 13:30:00-04:00"
        },
        {
         "Close": 59.540000915527344,
         "trend_aroon_up": 80,
         "trend_aroon_down": 24,
         "aroon_signal": 0,
         "aroon_position": 1,
         "_deepnote_index_column": "2019-09-18 14:30:00-04:00"
        },
        {
         "Close": 59.72999954223633,
         "trend_aroon_up": 76,
         "trend_aroon_down": 20,
         "aroon_signal": 0,
         "aroon_position": 1,
         "_deepnote_index_column": "2019-09-18 15:30:00-04:00"
        },
        {
         "Close": 59.75,
         "trend_aroon_up": 72,
         "trend_aroon_down": 16,
         "aroon_signal": 0,
         "aroon_position": 1,
         "_deepnote_index_column": "2019-09-19 09:30:00-04:00"
        },
        {
         "Close": 59.709999084472656,
         "trend_aroon_up": 68,
         "trend_aroon_down": 12,
         "aroon_signal": 0,
         "aroon_position": 1,
         "_deepnote_index_column": "2019-09-19 10:30:00-04:00"
        },
        {
         "Close": 58.77109909057617,
         "trend_aroon_up": 64,
         "trend_aroon_down": 8,
         "aroon_signal": 0,
         "aroon_position": 1,
         "_deepnote_index_column": "2019-09-19 11:30:00-04:00"
        },
        {
         "Close": 58.7599983215332,
         "trend_aroon_up": 60,
         "trend_aroon_down": 4,
         "aroon_signal": 0,
         "aroon_position": 1,
         "_deepnote_index_column": "2019-09-19 12:30:00-04:00"
        },
        {
         "Close": 58.86009979248047,
         "trend_aroon_up": 56.00000000000001,
         "trend_aroon_down": 4,
         "aroon_signal": 0,
         "aroon_position": 1,
         "_deepnote_index_column": "2019-09-19 13:30:00-04:00"
        },
        {
         "Close": 58.900001525878906,
         "trend_aroon_up": 52,
         "trend_aroon_down": 4,
         "aroon_signal": 0,
         "aroon_position": 1,
         "_deepnote_index_column": "2019-09-19 14:30:00-04:00"
        },
        {
         "Close": 59.02999877929688,
         "trend_aroon_up": 48,
         "trend_aroon_down": 88,
         "aroon_signal": 0,
         "aroon_position": 1,
         "_deepnote_index_column": "2019-09-19 15:30:00-04:00"
        },
        {
         "Close": 58.27999877929688,
         "trend_aroon_up": 44,
         "trend_aroon_down": 100,
         "aroon_signal": 0,
         "aroon_position": 1,
         "_deepnote_index_column": "2019-09-20 09:30:00-04:00"
        },
        {
         "Close": 57.685001373291016,
         "trend_aroon_up": 40,
         "trend_aroon_down": 100,
         "aroon_signal": 0,
         "aroon_position": 1,
         "_deepnote_index_column": "2019-09-20 10:30:00-04:00"
        },
        {
         "Close": 57.41999816894531,
         "trend_aroon_up": 36,
         "trend_aroon_down": 100,
         "aroon_signal": 0,
         "aroon_position": 1,
         "_deepnote_index_column": "2019-09-20 11:30:00-04:00"
        },
        {
         "Close": 57.34000015258789,
         "trend_aroon_up": 32,
         "trend_aroon_down": 100,
         "aroon_signal": 0,
         "aroon_position": 1,
         "_deepnote_index_column": "2019-09-20 12:30:00-04:00"
        },
        {
         "Close": 57.45000076293945,
         "trend_aroon_up": 28.000000000000004,
         "trend_aroon_down": 96,
         "aroon_signal": -1,
         "aroon_position": 0,
         "_deepnote_index_column": "2019-09-20 13:30:00-04:00"
        },
        {
         "Close": 57.88010025024414,
         "trend_aroon_up": 24,
         "trend_aroon_down": 92,
         "aroon_signal": 0,
         "aroon_position": 0,
         "_deepnote_index_column": "2019-09-20 14:30:00-04:00"
        },
        {
         "Close": 57.83000183105469,
         "trend_aroon_up": 20,
         "trend_aroon_down": 88,
         "aroon_signal": 0,
         "aroon_position": 0,
         "_deepnote_index_column": "2019-09-20 15:30:00-04:00"
        },
        {
         "Close": 56.650001525878906,
         "trend_aroon_up": 16,
         "trend_aroon_down": 100,
         "aroon_signal": 0,
         "aroon_position": 0,
         "_deepnote_index_column": "2019-09-23 09:30:00-04:00"
        },
        {
         "Close": 56.790000915527344,
         "trend_aroon_up": 12,
         "trend_aroon_down": 96,
         "aroon_signal": 0,
         "aroon_position": 0,
         "_deepnote_index_column": "2019-09-23 10:30:00-04:00"
        }
       ],
       "rows_bottom": [
        {
         "Close": 256.864990234375,
         "trend_aroon_up": 96,
         "trend_aroon_down": 24,
         "aroon_signal": 0,
         "aroon_position": 1,
         "_deepnote_index_column": "2021-07-21 14:30:00-04:00"
        },
        {
         "Close": 257.25,
         "trend_aroon_up": 92,
         "trend_aroon_down": 20,
         "aroon_signal": 0,
         "aroon_position": 1,
         "_deepnote_index_column": "2021-07-21 15:30:00-04:00"
        },
        {
         "Close": 261.4700012207031,
         "trend_aroon_up": 100,
         "trend_aroon_down": 16,
         "aroon_signal": 0,
         "aroon_position": 1,
         "_deepnote_index_column": "2021-07-22 09:30:00-04:00"
        },
        {
         "Close": 259.3299865722656,
         "trend_aroon_up": 96,
         "trend_aroon_down": 12,
         "aroon_signal": 0,
         "aroon_position": 1,
         "_deepnote_index_column": "2021-07-22 10:30:00-04:00"
        },
        {
         "Close": 259.5599975585937,
         "trend_aroon_up": 92,
         "trend_aroon_down": 8,
         "aroon_signal": 0,
         "aroon_position": 1,
         "_deepnote_index_column": "2021-07-22 11:30:00-04:00"
        },
        {
         "Close": 260.5299987792969,
         "trend_aroon_up": 88,
         "trend_aroon_down": 4,
         "aroon_signal": 0,
         "aroon_position": 1,
         "_deepnote_index_column": "2021-07-22 12:30:00-04:00"
        },
        {
         "Close": 260.9700012207031,
         "trend_aroon_up": 84,
         "trend_aroon_down": 12,
         "aroon_signal": 0,
         "aroon_position": 1,
         "_deepnote_index_column": "2021-07-22 13:30:00-04:00"
        },
        {
         "Close": 260.25,
         "trend_aroon_up": 80,
         "trend_aroon_down": 8,
         "aroon_signal": 0,
         "aroon_position": 1,
         "_deepnote_index_column": "2021-07-22 14:30:00-04:00"
        },
        {
         "Close": 260.6000061035156,
         "trend_aroon_up": 76,
         "trend_aroon_down": 4,
         "aroon_signal": 0,
         "aroon_position": 1,
         "_deepnote_index_column": "2021-07-22 15:30:00-04:00"
        },
        {
         "Close": 265.1700134277344,
         "trend_aroon_up": 100,
         "trend_aroon_down": 8,
         "aroon_signal": 0,
         "aroon_position": 1,
         "_deepnote_index_column": "2021-07-23 09:30:00-04:00"
        },
        {
         "Close": 264.2900085449219,
         "trend_aroon_up": 96,
         "trend_aroon_down": 4,
         "aroon_signal": 0,
         "aroon_position": 1,
         "_deepnote_index_column": "2021-07-23 10:30:00-04:00"
        },
        {
         "Close": 263.6000061035156,
         "trend_aroon_up": 92,
         "trend_aroon_down": 4,
         "aroon_signal": 0,
         "aroon_position": 1,
         "_deepnote_index_column": "2021-07-23 11:30:00-04:00"
        },
        {
         "Close": 263.1000061035156,
         "trend_aroon_up": 88,
         "trend_aroon_down": 4,
         "aroon_signal": 0,
         "aroon_position": 1,
         "_deepnote_index_column": "2021-07-23 12:30:00-04:00"
        },
        {
         "Close": 263.8299865722656,
         "trend_aroon_up": 84,
         "trend_aroon_down": 8,
         "aroon_signal": 0,
         "aroon_position": 1,
         "_deepnote_index_column": "2021-07-23 13:30:00-04:00"
        },
        {
         "Close": 263.8399963378906,
         "trend_aroon_up": 80,
         "trend_aroon_down": 4,
         "aroon_signal": 0,
         "aroon_position": 1,
         "_deepnote_index_column": "2021-07-23 14:30:00-04:00"
        },
        {
         "Close": 264.07000732421875,
         "trend_aroon_up": 76,
         "trend_aroon_down": 4,
         "aroon_signal": 0,
         "aroon_position": 1,
         "_deepnote_index_column": "2021-07-23 15:30:00-04:00"
        },
        {
         "Close": 263.79998779296875,
         "trend_aroon_up": 72,
         "trend_aroon_down": 4,
         "aroon_signal": 0,
         "aroon_position": 1,
         "_deepnote_index_column": "2021-07-26 09:30:00-04:00"
        },
        {
         "Close": 261.90008544921875,
         "trend_aroon_up": 68,
         "trend_aroon_down": 8,
         "aroon_signal": 0,
         "aroon_position": 1,
         "_deepnote_index_column": "2021-07-26 10:30:00-04:00"
        },
        {
         "Close": 262.4599914550781,
         "trend_aroon_up": 64,
         "trend_aroon_down": 4,
         "aroon_signal": 0,
         "aroon_position": 1,
         "_deepnote_index_column": "2021-07-26 11:30:00-04:00"
        },
        {
         "Close": 262.6000061035156,
         "trend_aroon_up": 60,
         "trend_aroon_down": 8,
         "aroon_signal": 0,
         "aroon_position": 1,
         "_deepnote_index_column": "2021-07-26 12:30:00-04:00"
        },
        {
         "Close": 261.5639953613281,
         "trend_aroon_up": 56.00000000000001,
         "trend_aroon_down": 4,
         "aroon_signal": 0,
         "aroon_position": 1,
         "_deepnote_index_column": "2021-07-26 13:30:00-04:00"
        },
        {
         "Close": 262.54998779296875,
         "trend_aroon_up": 52,
         "trend_aroon_down": 4,
         "aroon_signal": 0,
         "aroon_position": 1,
         "_deepnote_index_column": "2021-07-26 14:30:00-04:00"
        },
        {
         "Close": 262.04998779296875,
         "trend_aroon_up": 48,
         "trend_aroon_down": 4,
         "aroon_signal": 0,
         "aroon_position": 1,
         "_deepnote_index_column": "2021-07-26 15:30:00-04:00"
        },
        {
         "Close": 253.86720275878903,
         "trend_aroon_up": 44,
         "trend_aroon_down": 100,
         "aroon_signal": 0,
         "aroon_position": 1,
         "_deepnote_index_column": "2021-07-27 09:30:00-04:00"
        },
        {
         "Close": 246.5540008544922,
         "trend_aroon_up": 40,
         "trend_aroon_down": 100,
         "aroon_signal": 0,
         "aroon_position": 1,
         "_deepnote_index_column": "2021-07-27 10:30:00-04:00"
        },
        {
         "Close": 248.9900054931641,
         "trend_aroon_up": 36,
         "trend_aroon_down": 96,
         "aroon_signal": 0,
         "aroon_position": 1,
         "_deepnote_index_column": "2021-07-27 11:30:00-04:00"
        },
        {
         "Close": 247.6300048828125,
         "trend_aroon_up": 32,
         "trend_aroon_down": 92,
         "aroon_signal": 0,
         "aroon_position": 1,
         "_deepnote_index_column": "2021-07-27 12:30:00-04:00"
        },
        {
         "Close": 250.6100006103516,
         "trend_aroon_up": 28.000000000000004,
         "trend_aroon_down": 88,
         "aroon_signal": -1,
         "aroon_position": 0,
         "_deepnote_index_column": "2021-07-27 13:30:00-04:00"
        },
        {
         "Close": 252.2700042724609,
         "trend_aroon_up": 24,
         "trend_aroon_down": 84,
         "aroon_signal": 0,
         "aroon_position": 0,
         "_deepnote_index_column": "2021-07-27 14:30:00-04:00"
        },
        {
         "Close": 251.72999572753903,
         "trend_aroon_up": 20,
         "trend_aroon_down": 80,
         "aroon_signal": 0,
         "aroon_position": 0,
         "_deepnote_index_column": "2021-07-27 15:30:00-04:00"
        },
        {
         "Close": 256.29998779296875,
         "trend_aroon_up": 16,
         "trend_aroon_down": 76,
         "aroon_signal": 0,
         "aroon_position": 0,
         "_deepnote_index_column": "2021-07-28 09:30:00-04:00"
        },
        {
         "Close": 258.4150085449219,
         "trend_aroon_up": 12,
         "trend_aroon_down": 72,
         "aroon_signal": 0,
         "aroon_position": 0,
         "_deepnote_index_column": "2021-07-28 10:30:00-04:00"
        },
        {
         "Close": 258.95001220703125,
         "trend_aroon_up": 8,
         "trend_aroon_down": 68,
         "aroon_signal": 0,
         "aroon_position": 0,
         "_deepnote_index_column": "2021-07-28 11:30:00-04:00"
        },
        {
         "Close": 257.0400085449219,
         "trend_aroon_up": 4,
         "trend_aroon_down": 64,
         "aroon_signal": 0,
         "aroon_position": 0,
         "_deepnote_index_column": "2021-07-28 12:30:00-04:00"
        },
        {
         "Close": 258.4800109863281,
         "trend_aroon_up": 4,
         "trend_aroon_down": 60,
         "aroon_signal": 0,
         "aroon_position": 0,
         "_deepnote_index_column": "2021-07-28 13:30:00-04:00"
        },
        {
         "Close": 259.7099914550781,
         "trend_aroon_up": 20,
         "trend_aroon_down": 56.00000000000001,
         "aroon_signal": 0,
         "aroon_position": 0,
         "_deepnote_index_column": "2021-07-28 14:30:00-04:00"
        },
        {
         "Close": 258.4700012207031,
         "trend_aroon_up": 16,
         "trend_aroon_down": 52,
         "aroon_signal": 0,
         "aroon_position": 0,
         "_deepnote_index_column": "2021-07-28 15:30:00-04:00"
        },
        {
         "Close": 259.70001220703125,
         "trend_aroon_up": 12,
         "trend_aroon_down": 48,
         "aroon_signal": 0,
         "aroon_position": 0,
         "_deepnote_index_column": "2021-07-29 09:30:00-04:00"
        },
        {
         "Close": 260.1900939941406,
         "trend_aroon_up": 8,
         "trend_aroon_down": 44,
         "aroon_signal": 0,
         "aroon_position": 0,
         "_deepnote_index_column": "2021-07-29 10:30:00-04:00"
        },
        {
         "Close": 260.2200012207031,
         "trend_aroon_up": 4,
         "trend_aroon_down": 40,
         "aroon_signal": 0,
         "aroon_position": 0,
         "_deepnote_index_column": "2021-07-29 11:30:00-04:00"
        },
        {
         "Close": 257.864990234375,
         "trend_aroon_up": 4,
         "trend_aroon_down": 36,
         "aroon_signal": 0,
         "aroon_position": 0,
         "_deepnote_index_column": "2021-07-29 12:30:00-04:00"
        },
        {
         "Close": 255.4700927734375,
         "trend_aroon_up": 12,
         "trend_aroon_down": 32,
         "aroon_signal": 0,
         "aroon_position": 0,
         "_deepnote_index_column": "2021-07-29 13:30:00-04:00"
        },
        {
         "Close": 254.93499755859372,
         "trend_aroon_up": 8,
         "trend_aroon_down": 28.000000000000004,
         "aroon_signal": 0,
         "aroon_position": 0,
         "_deepnote_index_column": "2021-07-29 14:30:00-04:00"
        },
        {
         "Close": 255.2700042724609,
         "trend_aroon_up": 4,
         "trend_aroon_down": 24,
         "aroon_signal": 0,
         "aroon_position": 0,
         "_deepnote_index_column": "2021-07-29 15:30:00-04:00"
        },
        {
         "Close": 251.60499572753903,
         "trend_aroon_up": 8,
         "trend_aroon_down": 20,
         "aroon_signal": 0,
         "aroon_position": 0,
         "_deepnote_index_column": "2021-07-30 09:30:00-04:00"
        },
        {
         "Close": 248.32000732421875,
         "trend_aroon_up": 4,
         "trend_aroon_down": 16,
         "aroon_signal": 0,
         "aroon_position": 0,
         "_deepnote_index_column": "2021-07-30 10:30:00-04:00"
        },
        {
         "Close": 247.17999267578125,
         "trend_aroon_up": 4,
         "trend_aroon_down": 12,
         "aroon_signal": 0,
         "aroon_position": 0,
         "_deepnote_index_column": "2021-07-30 11:30:00-04:00"
        },
        {
         "Close": 247.5984039306641,
         "trend_aroon_up": 68,
         "trend_aroon_down": 8,
         "aroon_signal": 0,
         "aroon_position": 0,
         "_deepnote_index_column": "2021-07-30 12:30:00-04:00"
        },
        {
         "Close": 245.7700042724609,
         "trend_aroon_up": 64,
         "trend_aroon_down": 100,
         "aroon_signal": 0,
         "aroon_position": 0,
         "_deepnote_index_column": "2021-07-30 13:30:00-04:00"
        },
        {
         "Close": 245.9199981689453,
         "trend_aroon_up": 60,
         "trend_aroon_down": 96,
         "aroon_signal": 0,
         "aroon_position": 0,
         "_deepnote_index_column": "2021-07-30 14:30:00-04:00"
        },
        {
         "Close": 247.25,
         "trend_aroon_up": 56.00000000000001,
         "trend_aroon_down": 92,
         "aroon_signal": 0,
         "aroon_position": 0,
         "_deepnote_index_column": "2021-07-30 15:30:00-04:00"
        },
        {
         "Close": 269.95001220703125,
         "trend_aroon_up": 100,
         "trend_aroon_down": 88,
         "aroon_signal": 0,
         "aroon_position": 0,
         "_deepnote_index_column": "2021-08-02 09:30:00-04:00"
        },
        {
         "Close": 275.239990234375,
         "trend_aroon_up": 100,
         "trend_aroon_down": 84,
         "aroon_signal": 0,
         "aroon_position": 0,
         "_deepnote_index_column": "2021-08-02 10:30:00-04:00"
        },
        {
         "Close": 275.19000244140625,
         "trend_aroon_up": 96,
         "trend_aroon_down": 80,
         "aroon_signal": 0,
         "aroon_position": 0,
         "_deepnote_index_column": "2021-08-02 11:30:00-04:00"
        },
        {
         "Close": 276.32000732421875,
         "trend_aroon_up": 100,
         "trend_aroon_down": 76,
         "aroon_signal": 0,
         "aroon_position": 0,
         "_deepnote_index_column": "2021-08-02 12:30:00-04:00"
        },
        {
         "Close": 279.6247863769531,
         "trend_aroon_up": 100,
         "trend_aroon_down": 72,
         "aroon_signal": 0,
         "aroon_position": 0,
         "_deepnote_index_column": "2021-08-02 13:30:00-04:00"
        },
        {
         "Close": 273.1388854980469,
         "trend_aroon_up": 96,
         "trend_aroon_down": 68,
         "aroon_signal": 0,
         "aroon_position": 0,
         "_deepnote_index_column": "2021-08-02 14:30:00-04:00"
        },
        {
         "Close": 272.3999938964844,
         "trend_aroon_up": 92,
         "trend_aroon_down": 64,
         "aroon_signal": 0,
         "aroon_position": 0,
         "_deepnote_index_column": "2021-08-02 15:30:00-04:00"
        },
        {
         "Close": 266.0799865722656,
         "trend_aroon_up": 88,
         "trend_aroon_down": 60,
         "aroon_signal": 0,
         "aroon_position": 0,
         "_deepnote_index_column": "2021-08-03 09:30:00-04:00"
        },
        {
         "Close": 263.3099975585937,
         "trend_aroon_up": 84,
         "trend_aroon_down": 56.00000000000001,
         "aroon_signal": 0,
         "aroon_position": 0,
         "_deepnote_index_column": "2021-08-03 10:30:00-04:00"
        },
        {
         "Close": 271.67999267578125,
         "trend_aroon_up": 80,
         "trend_aroon_down": 52,
         "aroon_signal": 0,
         "aroon_position": 0,
         "_deepnote_index_column": "2021-08-03 11:30:00-04:00"
        },
        {
         "Close": 268.8900146484375,
         "trend_aroon_up": 76,
         "trend_aroon_down": 48,
         "aroon_signal": 0,
         "aroon_position": 0,
         "_deepnote_index_column": "2021-08-03 12:30:00-04:00"
        },
        {
         "Close": 266.9849853515625,
         "trend_aroon_up": 72,
         "trend_aroon_down": 44,
         "aroon_signal": 0,
         "aroon_position": 0,
         "_deepnote_index_column": "2021-08-03 13:30:00-04:00"
        },
        {
         "Close": 269.6798095703125,
         "trend_aroon_up": 68,
         "trend_aroon_down": 40,
         "aroon_signal": 0,
         "aroon_position": 0,
         "_deepnote_index_column": "2021-08-03 14:30:00-04:00"
        },
        {
         "Close": 269.3999938964844,
         "trend_aroon_up": 64,
         "trend_aroon_down": 36,
         "aroon_signal": 0,
         "aroon_position": 0,
         "_deepnote_index_column": "2021-08-03 15:30:00-04:00"
        },
        {
         "Close": 263.5899963378906,
         "trend_aroon_up": 60,
         "trend_aroon_down": 32,
         "aroon_signal": 0,
         "aroon_position": 0,
         "_deepnote_index_column": "2021-08-04 09:30:00-04:00"
        },
        {
         "Close": 265.6600036621094,
         "trend_aroon_up": 56.00000000000001,
         "trend_aroon_down": 28.000000000000004,
         "aroon_signal": 0,
         "aroon_position": 0,
         "_deepnote_index_column": "2021-08-04 10:30:00-04:00"
        },
        {
         "Close": 265.4100036621094,
         "trend_aroon_up": 52,
         "trend_aroon_down": 24,
         "aroon_signal": 0,
         "aroon_position": 0,
         "_deepnote_index_column": "2021-08-04 11:30:00-04:00"
        },
        {
         "Close": 266.4849853515625,
         "trend_aroon_up": 48,
         "trend_aroon_down": 20,
         "aroon_signal": 0,
         "aroon_position": 0,
         "_deepnote_index_column": "2021-08-04 12:30:00-04:00"
        },
        {
         "Close": 265.9200134277344,
         "trend_aroon_up": 44,
         "trend_aroon_down": 16,
         "aroon_signal": 0,
         "aroon_position": 0,
         "_deepnote_index_column": "2021-08-04 13:30:00-04:00"
        },
        {
         "Close": 265.5,
         "trend_aroon_up": 40,
         "trend_aroon_down": 12,
         "aroon_signal": 0,
         "aroon_position": 0,
         "_deepnote_index_column": "2021-08-04 14:30:00-04:00"
        },
        {
         "Close": 266.45001220703125,
         "trend_aroon_up": 36,
         "trend_aroon_down": 8,
         "aroon_signal": 0,
         "aroon_position": 0,
         "_deepnote_index_column": "2021-08-04 15:30:00-04:00"
        },
        {
         "Close": 278.2344970703125,
         "trend_aroon_up": 32,
         "trend_aroon_down": 4,
         "aroon_signal": 0,
         "aroon_position": 0,
         "_deepnote_index_column": "2021-08-05 09:30:00-04:00"
        },
        {
         "Close": 287.25,
         "trend_aroon_up": 100,
         "trend_aroon_down": 4,
         "aroon_signal": 1,
         "aroon_position": 1,
         "_deepnote_index_column": "2021-08-05 10:30:00-04:00"
        },
        {
         "Close": 287.32000732421875,
         "trend_aroon_up": 100,
         "trend_aroon_down": 4,
         "aroon_signal": 0,
         "aroon_position": 1,
         "_deepnote_index_column": "2021-08-05 11:30:00-04:00"
        },
        {
         "Close": 283.7300109863281,
         "trend_aroon_up": 96,
         "trend_aroon_down": 36,
         "aroon_signal": 0,
         "aroon_position": 1,
         "_deepnote_index_column": "2021-08-05 12:30:00-04:00"
        },
        {
         "Close": 283.8900146484375,
         "trend_aroon_up": 92,
         "trend_aroon_down": 32,
         "aroon_signal": 0,
         "aroon_position": 1,
         "_deepnote_index_column": "2021-08-05 13:30:00-04:00"
        },
        {
         "Close": 282.4599914550781,
         "trend_aroon_up": 88,
         "trend_aroon_down": 28.000000000000004,
         "aroon_signal": 0,
         "aroon_position": 1,
         "_deepnote_index_column": "2021-08-05 14:30:00-04:00"
        },
        {
         "Close": 281.79998779296875,
         "trend_aroon_up": 84,
         "trend_aroon_down": 24,
         "aroon_signal": 0,
         "aroon_position": 1,
         "_deepnote_index_column": "2021-08-05 15:30:00-04:00"
        },
        {
         "Close": 279.1000061035156,
         "trend_aroon_up": 80,
         "trend_aroon_down": 20,
         "aroon_signal": 0,
         "aroon_position": 1,
         "_deepnote_index_column": "2021-08-06 09:30:00-04:00"
        },
        {
         "Close": 277.2200012207031,
         "trend_aroon_up": 76,
         "trend_aroon_down": 16,
         "aroon_signal": 0,
         "aroon_position": 1,
         "_deepnote_index_column": "2021-08-06 10:30:00-04:00"
        },
        {
         "Close": 278.6400146484375,
         "trend_aroon_up": 72,
         "trend_aroon_down": 12,
         "aroon_signal": 0,
         "aroon_position": 1,
         "_deepnote_index_column": "2021-08-06 11:30:00-04:00"
        },
        {
         "Close": 276.6119079589844,
         "trend_aroon_up": 68,
         "trend_aroon_down": 8,
         "aroon_signal": 0,
         "aroon_position": 1,
         "_deepnote_index_column": "2021-08-06 12:30:00-04:00"
        },
        {
         "Close": 276.2349853515625,
         "trend_aroon_up": 64,
         "trend_aroon_down": 4,
         "aroon_signal": 0,
         "aroon_position": 1,
         "_deepnote_index_column": "2021-08-06 13:30:00-04:00"
        },
        {
         "Close": 276.0409851074219,
         "trend_aroon_up": 60,
         "trend_aroon_down": 24,
         "aroon_signal": 0,
         "aroon_position": 1,
         "_deepnote_index_column": "2021-08-06 14:30:00-04:00"
        },
        {
         "Close": 275.06500244140625,
         "trend_aroon_up": 56.00000000000001,
         "trend_aroon_down": 20,
         "aroon_signal": 0,
         "aroon_position": 1,
         "_deepnote_index_column": "2021-08-06 15:30:00-04:00"
        },
        {
         "Close": 281.2298889160156,
         "trend_aroon_up": 52,
         "trend_aroon_down": 16,
         "aroon_signal": 0,
         "aroon_position": 1,
         "_deepnote_index_column": "2021-08-09 09:30:00-04:00"
        },
        {
         "Close": 280.7699890136719,
         "trend_aroon_up": 48,
         "trend_aroon_down": 12,
         "aroon_signal": 0,
         "aroon_position": 1,
         "_deepnote_index_column": "2021-08-09 10:30:00-04:00"
        },
        {
         "Close": 282.9848022460937,
         "trend_aroon_up": 44,
         "trend_aroon_down": 8,
         "aroon_signal": 0,
         "aroon_position": 1,
         "_deepnote_index_column": "2021-08-09 11:30:00-04:00"
        },
        {
         "Close": 284.364990234375,
         "trend_aroon_up": 40,
         "trend_aroon_down": 4,
         "aroon_signal": 0,
         "aroon_position": 1,
         "_deepnote_index_column": "2021-08-09 12:30:00-04:00"
        },
        {
         "Close": 282.67999267578125,
         "trend_aroon_up": 36,
         "trend_aroon_down": 8,
         "aroon_signal": 0,
         "aroon_position": 1,
         "_deepnote_index_column": "2021-08-09 13:30:00-04:00"
        },
        {
         "Close": 280.5799865722656,
         "trend_aroon_up": 32,
         "trend_aroon_down": 4,
         "aroon_signal": 0,
         "aroon_position": 1,
         "_deepnote_index_column": "2021-08-09 14:30:00-04:00"
        },
        {
         "Close": 279.7099914550781,
         "trend_aroon_up": 28.000000000000004,
         "trend_aroon_down": 12,
         "aroon_signal": 0,
         "aroon_position": 1,
         "_deepnote_index_column": "2021-08-09 15:30:00-04:00"
        },
        {
         "Close": 278.1571960449219,
         "trend_aroon_up": 24,
         "trend_aroon_down": 8,
         "aroon_signal": 0,
         "aroon_position": 1,
         "_deepnote_index_column": "2021-08-10 09:30:00-04:00"
        },
        {
         "Close": 277.5,
         "trend_aroon_up": 20,
         "trend_aroon_down": 4,
         "aroon_signal": 0,
         "aroon_position": 1,
         "_deepnote_index_column": "2021-08-10 10:30:00-04:00"
        },
        {
         "Close": 277.697998046875,
         "trend_aroon_up": 16,
         "trend_aroon_down": 4,
         "aroon_signal": 0,
         "aroon_position": 1,
         "_deepnote_index_column": "2021-08-10 11:30:00-04:00"
        },
        {
         "Close": 276.7699890136719,
         "trend_aroon_up": 12,
         "trend_aroon_down": 56.00000000000001,
         "aroon_signal": 0,
         "aroon_position": 1,
         "_deepnote_index_column": "2021-08-10 12:30:00-04:00"
        },
        {
         "Close": 275.375,
         "trend_aroon_up": 8,
         "trend_aroon_down": 52,
         "aroon_signal": 0,
         "aroon_position": 1,
         "_deepnote_index_column": "2021-08-10 13:30:00-04:00"
        },
        {
         "Close": 274.04998779296875,
         "trend_aroon_up": 4,
         "trend_aroon_down": 100,
         "aroon_signal": -1,
         "aroon_position": 0,
         "_deepnote_index_column": "2021-08-10 14:30:00-04:00"
        },
        {
         "Close": 272.92999267578125,
         "trend_aroon_up": 60,
         "trend_aroon_down": 100,
         "aroon_signal": 0,
         "aroon_position": 0,
         "_deepnote_index_column": "2021-08-10 15:30:00-04:00"
        }
       ]
      },
      "text/plain": "                                Close  trend_aroon_up  trend_aroon_down  \\\n2019-09-03 09:30:00-04:00   62.959999             NaN               NaN   \n2019-09-03 10:30:00-04:00   62.320000             NaN               NaN   \n2019-09-03 11:30:00-04:00   62.000000             NaN               NaN   \n2019-09-03 12:30:00-04:00   61.774899             NaN               NaN   \n2019-09-03 13:30:00-04:00   61.360001             NaN               NaN   \n...                               ...             ...               ...   \n2021-08-10 11:30:00-04:00  277.697998            16.0               4.0   \n2021-08-10 12:30:00-04:00  276.769989            12.0              56.0   \n2021-08-10 13:30:00-04:00  275.375000             8.0              52.0   \n2021-08-10 14:30:00-04:00  274.049988             4.0             100.0   \n2021-08-10 15:30:00-04:00  272.929993            60.0             100.0   \n\n                           aroon_signal  aroon_position  \n2019-09-03 09:30:00-04:00             0               1  \n2019-09-03 10:30:00-04:00             0               1  \n2019-09-03 11:30:00-04:00             0               1  \n2019-09-03 12:30:00-04:00             0               1  \n2019-09-03 13:30:00-04:00             0               1  \n...                                 ...             ...  \n2021-08-10 11:30:00-04:00             0               1  \n2021-08-10 12:30:00-04:00             0               1  \n2021-08-10 13:30:00-04:00             0               1  \n2021-08-10 14:30:00-04:00            -1               0  \n2021-08-10 15:30:00-04:00             0               0  \n\n[3411 rows x 5 columns]",
      "text/html": "<div>\n<style scoped>\n    .dataframe tbody tr th:only-of-type {\n        vertical-align: middle;\n    }\n\n    .dataframe tbody tr th {\n        vertical-align: top;\n    }\n\n    .dataframe thead th {\n        text-align: right;\n    }\n</style>\n<table border=\"1\" class=\"dataframe\">\n  <thead>\n    <tr style=\"text-align: right;\">\n      <th></th>\n      <th>Close</th>\n      <th>trend_aroon_up</th>\n      <th>trend_aroon_down</th>\n      <th>aroon_signal</th>\n      <th>aroon_position</th>\n    </tr>\n  </thead>\n  <tbody>\n    <tr>\n      <th>2019-09-03 09:30:00-04:00</th>\n      <td>62.959999</td>\n      <td>NaN</td>\n      <td>NaN</td>\n      <td>0</td>\n      <td>1</td>\n    </tr>\n    <tr>\n      <th>2019-09-03 10:30:00-04:00</th>\n      <td>62.320000</td>\n      <td>NaN</td>\n      <td>NaN</td>\n      <td>0</td>\n      <td>1</td>\n    </tr>\n    <tr>\n      <th>2019-09-03 11:30:00-04:00</th>\n      <td>62.000000</td>\n      <td>NaN</td>\n      <td>NaN</td>\n      <td>0</td>\n      <td>1</td>\n    </tr>\n    <tr>\n      <th>2019-09-03 12:30:00-04:00</th>\n      <td>61.774899</td>\n      <td>NaN</td>\n      <td>NaN</td>\n      <td>0</td>\n      <td>1</td>\n    </tr>\n    <tr>\n      <th>2019-09-03 13:30:00-04:00</th>\n      <td>61.360001</td>\n      <td>NaN</td>\n      <td>NaN</td>\n      <td>0</td>\n      <td>1</td>\n    </tr>\n    <tr>\n      <th>...</th>\n      <td>...</td>\n      <td>...</td>\n      <td>...</td>\n      <td>...</td>\n      <td>...</td>\n    </tr>\n    <tr>\n      <th>2021-08-10 11:30:00-04:00</th>\n      <td>277.697998</td>\n      <td>16.0</td>\n      <td>4.0</td>\n      <td>0</td>\n      <td>1</td>\n    </tr>\n    <tr>\n      <th>2021-08-10 12:30:00-04:00</th>\n      <td>276.769989</td>\n      <td>12.0</td>\n      <td>56.0</td>\n      <td>0</td>\n      <td>1</td>\n    </tr>\n    <tr>\n      <th>2021-08-10 13:30:00-04:00</th>\n      <td>275.375000</td>\n      <td>8.0</td>\n      <td>52.0</td>\n      <td>0</td>\n      <td>1</td>\n    </tr>\n    <tr>\n      <th>2021-08-10 14:30:00-04:00</th>\n      <td>274.049988</td>\n      <td>4.0</td>\n      <td>100.0</td>\n      <td>-1</td>\n      <td>0</td>\n    </tr>\n    <tr>\n      <th>2021-08-10 15:30:00-04:00</th>\n      <td>272.929993</td>\n      <td>60.0</td>\n      <td>100.0</td>\n      <td>0</td>\n      <td>0</td>\n    </tr>\n  </tbody>\n</table>\n<p>3411 rows × 5 columns</p>\n</div>"
     },
     "metadata": {}
    }
   ],
   "execution_count": 14
  },
  {
   "cell_type": "code",
   "source": "sq_macd_df = pd.read_csv(Path('../TRADE_STRATS/SQ MACD TRADE STRATEGY.csv'), infer_datetime_format = True, index_col = 'Unnamed: 0')\nsq_macd_df",
   "metadata": {
    "tags": [],
    "cell_id": "00002-beca537b-e9ca-40fe-af3a-5c8416a44273",
    "deepnote_to_be_reexecuted": false,
    "source_hash": "6ce31aba",
    "execution_start": 1628648180909,
    "execution_millis": 1505,
    "deepnote_cell_type": "code"
   },
   "outputs": [
    {
     "output_type": "execute_result",
     "execution_count": 10,
     "data": {
      "application/vnd.deepnote.dataframe.v2+json": {
       "row_count": 3411,
       "column_count": 5,
       "columns": [
        {
         "name": "Close",
         "dtype": "float64",
         "stats": {
          "unique_count": 3152,
          "nan_count": 0,
          "min": "33.119998931884766",
          "max": "287.32000732421875",
          "histogram": [
           {
            "bin_start": 33.119998931884766,
            "bin_end": 58.53999977111816,
            "count": 199
           },
           {
            "bin_start": 58.53999977111816,
            "bin_end": 83.96000061035156,
            "count": 1097
           },
           {
            "bin_start": 83.96000061035156,
            "bin_end": 109.38000144958497,
            "count": 161
           },
           {
            "bin_start": 109.38000144958497,
            "bin_end": 134.80000228881835,
            "count": 158
           },
           {
            "bin_start": 134.80000228881835,
            "bin_end": 160.22000312805176,
            "count": 277
           },
           {
            "bin_start": 160.22000312805176,
            "bin_end": 185.64000396728517,
            "count": 186
           },
           {
            "bin_start": 185.64000396728517,
            "bin_end": 211.06000480651855,
            "count": 245
           },
           {
            "bin_start": 211.06000480651855,
            "bin_end": 236.48000564575196,
            "count": 548
           },
           {
            "bin_start": 236.48000564575196,
            "bin_end": 261.9000064849854,
            "count": 401
           },
           {
            "bin_start": 261.9000064849854,
            "bin_end": 287.32000732421875,
            "count": 139
           }
          ]
         }
        },
        {
         "name": "macd",
         "dtype": "float64",
         "stats": {
          "unique_count": 3411,
          "nan_count": 0,
          "min": "-9.97544630560472",
          "max": "9.279604005968451",
          "histogram": [
           {
            "bin_start": -9.97544630560472,
            "bin_end": -8.049941274447402,
            "count": 20
           },
           {
            "bin_start": -8.049941274447402,
            "bin_end": -6.124436243290086,
            "count": 22
           },
           {
            "bin_start": -6.124436243290086,
            "bin_end": -4.198931212132768,
            "count": 94
           },
           {
            "bin_start": -4.198931212132768,
            "bin_end": -2.2734261809754512,
            "count": 243
           },
           {
            "bin_start": -2.2734261809754512,
            "bin_end": -0.34792114981813427,
            "count": 662
           },
           {
            "bin_start": -0.34792114981813427,
            "bin_end": 1.5775838813391836,
            "count": 1459
           },
           {
            "bin_start": 1.5775838813391836,
            "bin_end": 3.5030889124964997,
            "count": 582
           },
           {
            "bin_start": 3.5030889124964997,
            "bin_end": 5.4285939436538175,
            "count": 243
           },
           {
            "bin_start": 5.4285939436538175,
            "bin_end": 7.354098974811134,
            "count": 62
           },
           {
            "bin_start": 7.354098974811134,
            "bin_end": 9.279604005968451,
            "count": 24
           }
          ]
         }
        },
        {
         "name": "signal",
         "dtype": "float64",
         "stats": {
          "unique_count": 3411,
          "nan_count": 0,
          "min": "-8.933063939632522",
          "max": "7.726500700529528",
          "histogram": [
           {
            "bin_start": -8.933063939632522,
            "bin_end": -7.267107475616317,
            "count": 20
           },
           {
            "bin_start": -7.267107475616317,
            "bin_end": -5.601151011600112,
            "count": 23
           },
           {
            "bin_start": -5.601151011600112,
            "bin_end": -3.9351945475839063,
            "count": 87
           },
           {
            "bin_start": -3.9351945475839063,
            "bin_end": -2.2692380835677017,
            "count": 252
           },
           {
            "bin_start": -2.2692380835677017,
            "bin_end": -0.6032816195514972,
            "count": 424
           },
           {
            "bin_start": -0.6032816195514972,
            "bin_end": 1.0626748444647092,
            "count": 1474
           },
           {
            "bin_start": 1.0626748444647092,
            "bin_end": 2.7286313084809137,
            "count": 675
           },
           {
            "bin_start": 2.7286313084809137,
            "bin_end": 4.394587772497118,
            "count": 300
           },
           {
            "bin_start": 4.394587772497118,
            "bin_end": 6.060544236513323,
            "count": 112
           },
           {
            "bin_start": 6.060544236513323,
            "bin_end": 7.726500700529528,
            "count": 44
           }
          ]
         }
        },
        {
         "name": "macd_signal",
         "dtype": "int64",
         "stats": {
          "unique_count": 3,
          "nan_count": 0,
          "min": "-1",
          "max": "1",
          "histogram": [
           {
            "bin_start": -1,
            "bin_end": -0.8,
            "count": 130
           },
           {
            "bin_start": -0.8,
            "bin_end": -0.6,
            "count": 0
           },
           {
            "bin_start": -0.6,
            "bin_end": -0.3999999999999999,
            "count": 0
           },
           {
            "bin_start": -0.3999999999999999,
            "bin_end": -0.19999999999999996,
            "count": 0
           },
           {
            "bin_start": -0.19999999999999996,
            "bin_end": 0,
            "count": 0
           },
           {
            "bin_start": 0,
            "bin_end": 0.20000000000000018,
            "count": 3152
           },
           {
            "bin_start": 0.20000000000000018,
            "bin_end": 0.40000000000000013,
            "count": 0
           },
           {
            "bin_start": 0.40000000000000013,
            "bin_end": 0.6000000000000001,
            "count": 0
           },
           {
            "bin_start": 0.6000000000000001,
            "bin_end": 0.8,
            "count": 0
           },
           {
            "bin_start": 0.8,
            "bin_end": 1,
            "count": 129
           }
          ]
         }
        },
        {
         "name": "macd_position",
         "dtype": "int64",
         "stats": {
          "unique_count": 2,
          "nan_count": 0,
          "min": "0",
          "max": "1",
          "histogram": [
           {
            "bin_start": 0,
            "bin_end": 0.1,
            "count": 1726
           },
           {
            "bin_start": 0.1,
            "bin_end": 0.2,
            "count": 0
           },
           {
            "bin_start": 0.2,
            "bin_end": 0.30000000000000004,
            "count": 0
           },
           {
            "bin_start": 0.30000000000000004,
            "bin_end": 0.4,
            "count": 0
           },
           {
            "bin_start": 0.4,
            "bin_end": 0.5,
            "count": 0
           },
           {
            "bin_start": 0.5,
            "bin_end": 0.6000000000000001,
            "count": 0
           },
           {
            "bin_start": 0.6000000000000001,
            "bin_end": 0.7000000000000001,
            "count": 0
           },
           {
            "bin_start": 0.7000000000000001,
            "bin_end": 0.8,
            "count": 0
           },
           {
            "bin_start": 0.8,
            "bin_end": 0.9,
            "count": 0
           },
           {
            "bin_start": 0.9,
            "bin_end": 1,
            "count": 1685
           }
          ]
         }
        },
        {
         "name": "_deepnote_index_column",
         "dtype": "object"
        }
       ],
       "rows_top": [
        {
         "Close": 62.959999084472656,
         "macd": 0,
         "signal": 0,
         "macd_signal": 0,
         "macd_position": 1,
         "_deepnote_index_column": "2019-09-03 09:30:00-04:00"
        },
        {
         "Close": 62.31999969482422,
         "macd": -0.0510540823651197,
         "signal": -0.0102108164730239,
         "macd_signal": -1,
         "macd_position": 0,
         "_deepnote_index_column": "2019-09-03 10:30:00-04:00"
        },
        {
         "Close": 62,
         "macd": -0.1159989478238827,
         "signal": -0.0313684427431957,
         "macd_signal": 0,
         "macd_position": 0,
         "_deepnote_index_column": "2019-09-03 11:30:00-04:00"
        },
        {
         "Close": 61.774898529052734,
         "macd": -0.1835165643378076,
         "signal": -0.0617980670621181,
         "macd_signal": 0,
         "macd_position": 0,
         "_deepnote_index_column": "2019-09-03 12:30:00-04:00"
        },
        {
         "Close": 61.36000061035156,
         "macd": -0.2674208948438235,
         "signal": -0.1029226326184591,
         "macd_signal": 0,
         "macd_position": 0,
         "_deepnote_index_column": "2019-09-03 13:30:00-04:00"
        },
        {
         "Close": 61.125,
         "macd": -0.3488568617943173,
         "signal": -0.1521094784536308,
         "macd_signal": 0,
         "macd_position": 0,
         "_deepnote_index_column": "2019-09-03 14:30:00-04:00"
        },
        {
         "Close": 61.13999938964844,
         "macd": -0.4074878605238083,
         "signal": -0.2031851548676663,
         "macd_signal": 0,
         "macd_position": 0,
         "_deepnote_index_column": "2019-09-03 15:30:00-04:00"
        },
        {
         "Close": 61.93000030517578,
         "macd": -0.3857600758336375,
         "signal": -0.2397001390608605,
         "macd_signal": 0,
         "macd_position": 0,
         "_deepnote_index_column": "2019-09-04 09:30:00-04:00"
        },
        {
         "Close": 62.02000045776367,
         "macd": -0.357161257128233,
         "signal": -0.2631923626743351,
         "macd_signal": 0,
         "macd_position": 0,
         "_deepnote_index_column": "2019-09-04 10:30:00-04:00"
        },
        {
         "Close": 61.41999816894531,
         "macd": -0.3785479919271495,
         "signal": -0.286263488524898,
         "macd_signal": 0,
         "macd_position": 0,
         "_deepnote_index_column": "2019-09-04 11:30:00-04:00"
        },
        {
         "Close": 61.07500076293945,
         "macd": -0.4185112040928231,
         "signal": -0.3127130316384831,
         "macd_signal": 0,
         "macd_position": 0,
         "_deepnote_index_column": "2019-09-04 12:30:00-04:00"
        },
        {
         "Close": 61.11000061035156,
         "macd": -0.4422600439835804,
         "signal": -0.3386224341075026,
         "macd_signal": 0,
         "macd_position": 0,
         "_deepnote_index_column": "2019-09-04 13:30:00-04:00"
        },
        {
         "Close": 61.040000915527344,
         "macd": -0.4614107056619261,
         "signal": -0.3631800884183873,
         "macd_signal": 0,
         "macd_position": 0,
         "_deepnote_index_column": "2019-09-04 14:30:00-04:00"
        },
        {
         "Close": 61.08000183105469,
         "macd": -0.4679655874400765,
         "signal": -0.3841371882227252,
         "macd_signal": 0,
         "macd_position": 0,
         "_deepnote_index_column": "2019-09-04 15:30:00-04:00"
        },
        {
         "Close": 63.08250045776367,
         "macd": -0.3080247572160886,
         "signal": -0.3689147020213978,
         "macd_signal": 1,
         "macd_position": 1,
         "_deepnote_index_column": "2019-09-05 09:30:00-04:00"
        },
        {
         "Close": 62.67900085449219,
         "macd": -0.2113927388432728,
         "signal": -0.3374103093857729,
         "macd_signal": 0,
         "macd_position": 1,
         "_deepnote_index_column": "2019-09-05 10:30:00-04:00"
        },
        {
         "Close": 62.45280075073242,
         "macd": -0.1513193112004671,
         "signal": -0.3001921097487117,
         "macd_signal": 0,
         "macd_position": 1,
         "_deepnote_index_column": "2019-09-05 11:30:00-04:00"
        },
        {
         "Close": 62.83000183105469,
         "macd": -0.0724386841474853,
         "signal": -0.2546414246284664,
         "macd_signal": 0,
         "macd_position": 1,
         "_deepnote_index_column": "2019-09-05 12:30:00-04:00"
        },
        {
         "Close": 62.95500183105469,
         "macd": 0.0001593989754766,
         "signal": -0.2036812599076778,
         "macd_signal": 0,
         "macd_position": 1,
         "_deepnote_index_column": "2019-09-05 13:30:00-04:00"
        },
        {
         "Close": 63.150001525878906,
         "macd": 0.0725919537275885,
         "signal": -0.1484266171806245,
         "macd_signal": 0,
         "macd_position": 1,
         "_deepnote_index_column": "2019-09-05 14:30:00-04:00"
        },
        {
         "Close": 63.04499816894531,
         "macd": 0.1201375114135743,
         "signal": -0.0947137914617848,
         "macd_signal": 0,
         "macd_position": 1,
         "_deepnote_index_column": "2019-09-05 15:30:00-04:00"
        },
        {
         "Close": 63.31999969482422,
         "macd": 0.1779566596830832,
         "signal": -0.0401797012328111,
         "macd_signal": 0,
         "macd_position": 1,
         "_deepnote_index_column": "2019-09-06 09:30:00-04:00"
        },
        {
         "Close": 62.97610092163086,
         "macd": 0.1937950456829966,
         "signal": 0.0066152481503503,
         "macd_signal": 0,
         "macd_position": 1,
         "_deepnote_index_column": "2019-09-06 10:30:00-04:00"
        },
        {
         "Close": 63.27999877929688,
         "macd": 0.2282381111584754,
         "signal": 0.0509398207519754,
         "macd_signal": 0,
         "macd_position": 1,
         "_deepnote_index_column": "2019-09-06 11:30:00-04:00"
        },
        {
         "Close": 62.97600173950195,
         "macd": 0.2283719386424252,
         "signal": 0.0864262443300653,
         "macd_signal": 0,
         "macd_position": 1,
         "_deepnote_index_column": "2019-09-06 12:30:00-04:00"
        },
        {
         "Close": 62.650001525878906,
         "macd": 0.1998685449731141,
         "signal": 0.1091147044586751,
         "macd_signal": 0,
         "macd_position": 1,
         "_deepnote_index_column": "2019-09-06 13:30:00-04:00"
        },
        {
         "Close": 62.30500030517578,
         "macd": 0.1477376571707225,
         "signal": 0.1168392950010846,
         "macd_signal": 0,
         "macd_position": 1,
         "_deepnote_index_column": "2019-09-06 14:30:00-04:00"
        },
        {
         "Close": 61.97999954223633,
         "macd": 0.0792847621945185,
         "signal": 0.1093283884397714,
         "macd_signal": -1,
         "macd_position": 0,
         "_deepnote_index_column": "2019-09-06 15:30:00-04:00"
        },
        {
         "Close": 61.70000076293945,
         "macd": 0.0024139616601956,
         "signal": 0.0879455030838562,
         "macd_signal": 0,
         "macd_position": 0,
         "_deepnote_index_column": "2019-09-09 09:30:00-04:00"
        },
        {
         "Close": 61.68000030517578,
         "macd": -0.05943543666163,
         "signal": 0.058469315134759,
         "macd_signal": 0,
         "macd_position": 0,
         "_deepnote_index_column": "2019-09-09 10:30:00-04:00"
        },
        {
         "Close": 60.95000076293945,
         "macd": -0.1654491972726717,
         "signal": 0.0136856126532728,
         "macd_signal": 0,
         "macd_position": 0,
         "_deepnote_index_column": "2019-09-09 11:30:00-04:00"
        },
        {
         "Close": 59.92499923706055,
         "macd": -0.3283894539779552,
         "signal": -0.0547294006729727,
         "macd_signal": 0,
         "macd_position": 0,
         "_deepnote_index_column": "2019-09-09 12:30:00-04:00"
        },
        {
         "Close": 59.752201080322266,
         "macd": -0.4660913376438031,
         "signal": -0.1370017880671388,
         "macd_signal": 0,
         "macd_position": 0,
         "_deepnote_index_column": "2019-09-09 13:30:00-04:00"
        },
        {
         "Close": 60.86000061035156,
         "macd": -0.480294374158646,
         "signal": -0.2056603052854403,
         "macd_signal": 0,
         "macd_position": 0,
         "_deepnote_index_column": "2019-09-09 14:30:00-04:00"
        },
        {
         "Close": 61.45000076293945,
         "macd": -0.4388831299207254,
         "signal": -0.2523048702124973,
         "macd_signal": 0,
         "macd_position": 0,
         "_deepnote_index_column": "2019-09-09 15:30:00-04:00"
        },
        {
         "Close": 61.380001068115234,
         "macd": -0.4070209269861564,
         "signal": -0.2832480815672292,
         "macd_signal": 0,
         "macd_position": 0,
         "_deepnote_index_column": "2019-09-10 09:30:00-04:00"
        },
        {
         "Close": 61.207298278808594,
         "macd": -0.3911961081417985,
         "signal": -0.3048376868821431,
         "macd_signal": 0,
         "macd_position": 0,
         "_deepnote_index_column": "2019-09-10 10:30:00-04:00"
        },
        {
         "Close": 61.38999938964844,
         "macd": -0.3597652229045422,
         "signal": -0.3158231940866229,
         "macd_signal": 0,
         "macd_position": 0,
         "_deepnote_index_column": "2019-09-10 11:30:00-04:00"
        },
        {
         "Close": 61.15800094604492,
         "macd": -0.3495469952379721,
         "signal": -0.3225679543168928,
         "macd_signal": 0,
         "macd_position": 0,
         "_deepnote_index_column": "2019-09-10 12:30:00-04:00"
        },
        {
         "Close": 60.58000183105469,
         "macd": -0.383666011279189,
         "signal": -0.334787565709352,
         "macd_signal": 0,
         "macd_position": 0,
         "_deepnote_index_column": "2019-09-10 13:30:00-04:00"
        },
        {
         "Close": 60.4900016784668,
         "macd": -0.4132046712184447,
         "signal": -0.3504709868111706,
         "macd_signal": 0,
         "macd_position": 0,
         "_deepnote_index_column": "2019-09-10 14:30:00-04:00"
        },
        {
         "Close": 60.5,
         "macd": -0.4308410239121585,
         "signal": -0.3665449942313682,
         "macd_signal": 0,
         "macd_position": 0,
         "_deepnote_index_column": "2019-09-10 15:30:00-04:00"
        },
        {
         "Close": 60.45000076293945,
         "macd": -0.4437373530654867,
         "signal": -0.3819834659981919,
         "macd_signal": 0,
         "macd_position": 0,
         "_deepnote_index_column": "2019-09-11 09:30:00-04:00"
        },
        {
         "Close": 59.97999954223633,
         "macd": -0.4862774535913914,
         "signal": -0.4028422635168318,
         "macd_signal": 0,
         "macd_position": 0,
         "_deepnote_index_column": "2019-09-11 10:30:00-04:00"
        },
        {
         "Close": 60.22999954223633,
         "macd": -0.4941219488342909,
         "signal": -0.4210982005803237,
         "macd_signal": 0,
         "macd_position": 0,
         "_deepnote_index_column": "2019-09-11 11:30:00-04:00"
        },
        {
         "Close": 60.20149993896485,
         "macd": -0.4969103741563927,
         "signal": -0.4362606352955375,
         "macd_signal": 0,
         "macd_position": 0,
         "_deepnote_index_column": "2019-09-11 12:30:00-04:00"
        },
        {
         "Close": 59.69340133666992,
         "macd": -0.5339643238179619,
         "signal": -0.4558013730000224,
         "macd_signal": 0,
         "macd_position": 0,
         "_deepnote_index_column": "2019-09-11 13:30:00-04:00"
        },
        {
         "Close": 59.014198303222656,
         "macd": -0.6110915711062432,
         "signal": -0.4868594126212666,
         "macd_signal": 0,
         "macd_position": 0,
         "_deepnote_index_column": "2019-09-11 14:30:00-04:00"
        },
        {
         "Close": 59.18000030517578,
         "macd": -0.6513285245682425,
         "signal": -0.5197532350106618,
         "macd_signal": 0,
         "macd_position": 0,
         "_deepnote_index_column": "2019-09-11 15:30:00-04:00"
        },
        {
         "Close": 58.959598541259766,
         "macd": -0.6930125630110595,
         "signal": -0.5544051006107413,
         "macd_signal": 0,
         "macd_position": 0,
         "_deepnote_index_column": "2019-09-12 09:30:00-04:00"
        },
        {
         "Close": 58.560001373291016,
         "macd": -0.7496501157827211,
         "signal": -0.5934541036451373,
         "macd_signal": 0,
         "macd_position": 0,
         "_deepnote_index_column": "2019-09-12 10:30:00-04:00"
        },
        {
         "Close": 58.310001373291016,
         "macd": -0.8054242654951906,
         "signal": -0.635848136015148,
         "macd_signal": 0,
         "macd_position": 0,
         "_deepnote_index_column": "2019-09-12 11:30:00-04:00"
        },
        {
         "Close": 58.2400016784668,
         "macd": -0.8455273582701892,
         "signal": -0.6777839804661563,
         "macd_signal": 0,
         "macd_position": 0,
         "_deepnote_index_column": "2019-09-12 12:30:00-04:00"
        },
        {
         "Close": 58,
         "macd": -0.8864569539314857,
         "signal": -0.7195185751592222,
         "macd_signal": 0,
         "macd_position": 0,
         "_deepnote_index_column": "2019-09-12 13:30:00-04:00"
        },
        {
         "Close": 58.095001220703125,
         "macd": -0.9008437824541105,
         "signal": -0.7557836166181999,
         "macd_signal": 0,
         "macd_position": 0,
         "_deepnote_index_column": "2019-09-12 14:30:00-04:00"
        },
        {
         "Close": 57.790000915527344,
         "macd": -0.926179996866729,
         "signal": -0.7898628926679058,
         "macd_signal": 0,
         "macd_position": 0,
         "_deepnote_index_column": "2019-09-12 15:30:00-04:00"
        },
        {
         "Close": 58.22999954223633,
         "macd": -0.9003759439554813,
         "signal": -0.8119655029254209,
         "macd_signal": 0,
         "macd_position": 0,
         "_deepnote_index_column": "2019-09-13 09:30:00-04:00"
        },
        {
         "Close": 58.27999877929688,
         "macd": -0.8659098557386358,
         "signal": -0.8227543734880639,
         "macd_signal": 0,
         "macd_position": 0,
         "_deepnote_index_column": "2019-09-13 10:30:00-04:00"
        },
        {
         "Close": 58.7599983215332,
         "macd": -0.7907480299118461,
         "signal": -0.8163531047728204,
         "macd_signal": 1,
         "macd_position": 1,
         "_deepnote_index_column": "2019-09-13 11:30:00-04:00"
        },
        {
         "Close": 58.483699798583984,
         "macd": -0.7448900937881007,
         "signal": -0.8020605025758766,
         "macd_signal": 0,
         "macd_position": 1,
         "_deepnote_index_column": "2019-09-13 12:30:00-04:00"
        },
        {
         "Close": 58.1349983215332,
         "macd": -0.7282893774013175,
         "signal": -0.7873062775409648,
         "macd_signal": 0,
         "macd_position": 1,
         "_deepnote_index_column": "2019-09-13 13:30:00-04:00"
        },
        {
         "Close": 58.290000915527344,
         "macd": -0.6946186447864804,
         "signal": -0.768768750990068,
         "macd_signal": 0,
         "macd_position": 1,
         "_deepnote_index_column": "2019-09-13 14:30:00-04:00"
        },
        {
         "Close": 58.31999969482422,
         "macd": -0.6579294941638665,
         "signal": -0.7466008996248278,
         "macd_signal": 0,
         "macd_position": 1,
         "_deepnote_index_column": "2019-09-13 15:30:00-04:00"
        },
        {
         "Close": 57.52999877929688,
         "macd": -0.6847066771749581,
         "signal": -0.734222055134854,
         "macd_signal": 0,
         "macd_position": 1,
         "_deepnote_index_column": "2019-09-16 09:30:00-04:00"
        },
        {
         "Close": 58.02510070800781,
         "macd": -0.6583877159653966,
         "signal": -0.7190551873009625,
         "macd_signal": 0,
         "macd_position": 1,
         "_deepnote_index_column": "2019-09-16 10:30:00-04:00"
        },
        {
         "Close": 58.14889907836914,
         "macd": -0.6203887998212068,
         "signal": -0.6993219098050114,
         "macd_signal": 0,
         "macd_position": 1,
         "_deepnote_index_column": "2019-09-16 11:30:00-04:00"
        },
        {
         "Close": 59.494998931884766,
         "macd": -0.4761664264953609,
         "signal": -0.6546908131430813,
         "macd_signal": 0,
         "macd_position": 1,
         "_deepnote_index_column": "2019-09-16 12:30:00-04:00"
        },
        {
         "Close": 59.470001220703125,
         "macd": -0.3597394109469078,
         "signal": -0.5957005327038466,
         "macd_signal": 0,
         "macd_position": 1,
         "_deepnote_index_column": "2019-09-16 13:30:00-04:00"
        },
        {
         "Close": 59.31999969482422,
         "macd": -0.2763880029839356,
         "signal": -0.5318380267598645,
         "macd_signal": 0,
         "macd_position": 1,
         "_deepnote_index_column": "2019-09-16 14:30:00-04:00"
        },
        {
         "Close": 59.25,
         "macd": -0.2135184937341563,
         "signal": -0.4681741201547229,
         "macd_signal": 0,
         "macd_position": 1,
         "_deepnote_index_column": "2019-09-16 15:30:00-04:00"
        },
        {
         "Close": 59.65999984741211,
         "macd": -0.1291219559957923,
         "signal": -0.4003636873229368,
         "macd_signal": 0,
         "macd_position": 1,
         "_deepnote_index_column": "2019-09-17 09:30:00-04:00"
        },
        {
         "Close": 59.52999877929688,
         "macd": -0.0718982927627251,
         "signal": -0.3346706084108945,
         "macd_signal": 0,
         "macd_position": 1,
         "_deepnote_index_column": "2019-09-17 10:30:00-04:00"
        },
        {
         "Close": 59.63999938964844,
         "macd": -0.0174706071502228,
         "signal": -0.2712306081587602,
         "macd_signal": 0,
         "macd_position": 1,
         "_deepnote_index_column": "2019-09-17 11:30:00-04:00"
        },
        {
         "Close": 59.40999984741211,
         "macd": 0.0070237198851685,
         "signal": -0.2155797425499744,
         "macd_signal": 0,
         "macd_position": 1,
         "_deepnote_index_column": "2019-09-17 12:30:00-04:00"
        },
        {
         "Close": 59.34999847412109,
         "macd": 0.0213479552214792,
         "signal": -0.1681942029956837,
         "macd_signal": 0,
         "macd_position": 1,
         "_deepnote_index_column": "2019-09-17 13:30:00-04:00"
        },
        {
         "Close": 59.54999923706055,
         "macd": 0.0482818419989783,
         "signal": -0.1248989939967513,
         "macd_signal": 0,
         "macd_position": 1,
         "_deepnote_index_column": "2019-09-17 14:30:00-04:00"
        },
        {
         "Close": 59.540000915527344,
         "macd": 0.068036082719459,
         "signal": -0.0863119786535092,
         "macd_signal": 0,
         "macd_position": 1,
         "_deepnote_index_column": "2019-09-17 15:30:00-04:00"
        },
        {
         "Close": 59.77000045776367,
         "macd": 0.1010852538017061,
         "signal": -0.0488325321624661,
         "macd_signal": 0,
         "macd_position": 1,
         "_deepnote_index_column": "2019-09-18 09:30:00-04:00"
        },
        {
         "Close": 59.41999816894531,
         "macd": 0.0979060998002694,
         "signal": -0.019484805769919,
         "macd_signal": 0,
         "macd_position": 1,
         "_deepnote_index_column": "2019-09-18 10:30:00-04:00"
        },
        {
         "Close": 59.27000045776367,
         "macd": 0.0823339412171293,
         "signal": 0.0008789436274906,
         "macd_signal": 0,
         "macd_position": 1,
         "_deepnote_index_column": "2019-09-18 11:30:00-04:00"
        },
        {
         "Close": 59.165000915527344,
         "macd": 0.060819221679111,
         "signal": 0.0128669992378147,
         "macd_signal": 0,
         "macd_position": 1,
         "_deepnote_index_column": "2019-09-18 12:30:00-04:00"
        },
        {
         "Close": 58.9900016784668,
         "macd": 0.0293098102905986,
         "signal": 0.0161555614483715,
         "macd_signal": 0,
         "macd_position": 1,
         "_deepnote_index_column": "2019-09-18 13:30:00-04:00"
        },
        {
         "Close": 59.540000915527344,
         "macd": 0.0481635175974091,
         "signal": 0.022557152678179,
         "macd_signal": 0,
         "macd_position": 1,
         "_deepnote_index_column": "2019-09-18 14:30:00-04:00"
        },
        {
         "Close": 59.72999954223633,
         "macd": 0.0775426543120403,
         "signal": 0.0335542530049512,
         "macd_signal": 0,
         "macd_position": 1,
         "_deepnote_index_column": "2019-09-18 15:30:00-04:00"
        },
        {
         "Close": 59.75,
         "macd": 0.101272297607359,
         "signal": 0.0470978619254328,
         "macd_signal": 0,
         "macd_position": 1,
         "_deepnote_index_column": "2019-09-19 09:30:00-04:00"
        },
        {
         "Close": 59.709999084472656,
         "macd": 0.1155188419977193,
         "signal": 0.0607820579398901,
         "macd_signal": 0,
         "macd_position": 1,
         "_deepnote_index_column": "2019-09-19 10:30:00-04:00"
        },
        {
         "Close": 58.77109909057617,
         "macd": 0.0504662052748088,
         "signal": 0.0587188874068738,
         "macd_signal": -1,
         "macd_position": 0,
         "_deepnote_index_column": "2019-09-19 11:30:00-04:00"
        },
        {
         "Close": 58.7599983215332,
         "macd": -0.001961605132891,
         "signal": 0.0465827888989209,
         "macd_signal": 0,
         "macd_position": 0,
         "_deepnote_index_column": "2019-09-19 12:30:00-04:00"
        },
        {
         "Close": 58.86009979248047,
         "macd": -0.0350298679678289,
         "signal": 0.0302602575255709,
         "macd_signal": 0,
         "macd_position": 0,
         "_deepnote_index_column": "2019-09-19 13:30:00-04:00"
        },
        {
         "Close": 58.900001525878906,
         "macd": -0.0573558060663472,
         "signal": 0.0127370448071873,
         "macd_signal": 0,
         "macd_position": 0,
         "_deepnote_index_column": "2019-09-19 14:30:00-04:00"
        },
        {
         "Close": 59.02999877929688,
         "macd": -0.0638238592205411,
         "signal": -0.0025751359983583,
         "macd_signal": 0,
         "macd_position": 0,
         "_deepnote_index_column": "2019-09-19 15:30:00-04:00"
        },
        {
         "Close": 58.27999877929688,
         "macd": -0.1279931446351341,
         "signal": -0.0276587377257135,
         "macd_signal": 0,
         "macd_position": 0,
         "_deepnote_index_column": "2019-09-20 09:30:00-04:00"
        },
        {
         "Close": 57.685001373291016,
         "macd": -0.224273795001622,
         "signal": -0.0669817491808952,
         "macd_signal": 0,
         "macd_position": 0,
         "_deepnote_index_column": "2019-09-20 10:30:00-04:00"
        },
        {
         "Close": 57.41999816894531,
         "macd": -0.3182913830143263,
         "signal": -0.1172436759475814,
         "macd_signal": 0,
         "macd_position": 0,
         "_deepnote_index_column": "2019-09-20 11:30:00-04:00"
        },
        {
         "Close": 57.34000015258789,
         "macd": -0.3947062423574579,
         "signal": -0.1727361892295567,
         "macd_signal": 0,
         "macd_position": 0,
         "_deepnote_index_column": "2019-09-20 12:30:00-04:00"
        },
        {
         "Close": 57.45000076293945,
         "macd": -0.4413023798505975,
         "signal": -0.2264494273537649,
         "macd_signal": 0,
         "macd_position": 0,
         "_deepnote_index_column": "2019-09-20 13:30:00-04:00"
        },
        {
         "Close": 57.88010025024414,
         "macd": -0.438470307618914,
         "signal": -0.2688536034067947,
         "macd_signal": 0,
         "macd_position": 0,
         "_deepnote_index_column": "2019-09-20 14:30:00-04:00"
        },
        {
         "Close": 57.83000183105469,
         "macd": -0.4352510900779336,
         "signal": -0.3021331007410225,
         "macd_signal": 0,
         "macd_position": 0,
         "_deepnote_index_column": "2019-09-20 15:30:00-04:00"
        },
        {
         "Close": 56.650001525878906,
         "macd": -0.5218998631857374,
         "signal": -0.3460864532299655,
         "macd_signal": 0,
         "macd_position": 0,
         "_deepnote_index_column": "2019-09-23 09:30:00-04:00"
        },
        {
         "Close": 56.790000915527344,
         "macd": -0.5726714593160764,
         "signal": -0.3914034544471877,
         "macd_signal": 0,
         "macd_position": 0,
         "_deepnote_index_column": "2019-09-23 10:30:00-04:00"
        }
       ],
       "rows_bottom": [
        {
         "Close": 256.864990234375,
         "macd": 5.146191205901118,
         "signal": 3.2571469884737416,
         "macd_signal": 0,
         "macd_position": 1,
         "_deepnote_index_column": "2021-07-21 14:30:00-04:00"
        },
        {
         "Close": 257.25,
         "macd": 5.32369470766065,
         "signal": 3.670456532311124,
         "macd_signal": 0,
         "macd_position": 1,
         "_deepnote_index_column": "2021-07-21 15:30:00-04:00"
        },
        {
         "Close": 261.4700012207031,
         "macd": 5.738733791230203,
         "signal": 4.08411198409494,
         "macd_signal": 0,
         "macd_position": 1,
         "_deepnote_index_column": "2021-07-22 09:30:00-04:00"
        },
        {
         "Close": 259.3299865722656,
         "macd": 5.827794767470834,
         "signal": 4.432848540770119,
         "macd_signal": 0,
         "macd_position": 1,
         "_deepnote_index_column": "2021-07-22 10:30:00-04:00"
        },
        {
         "Close": 259.5599975585937,
         "macd": 5.849506724774187,
         "signal": 4.7161801775709336,
         "macd_signal": 0,
         "macd_position": 1,
         "_deepnote_index_column": "2021-07-22 11:30:00-04:00"
        },
        {
         "Close": 260.5299987792969,
         "macd": 5.877235486993584,
         "signal": 4.948391239455464,
         "macd_signal": 0,
         "macd_position": 1,
         "_deepnote_index_column": "2021-07-22 12:30:00-04:00"
        },
        {
         "Close": 260.9700012207031,
         "macd": 5.867083167967223,
         "signal": 5.132129625157816,
         "macd_signal": 0,
         "macd_position": 1,
         "_deepnote_index_column": "2021-07-22 13:30:00-04:00"
        },
        {
         "Close": 260.25,
         "macd": 5.734831730406484,
         "signal": 5.25267004620755,
         "macd_signal": 0,
         "macd_position": 1,
         "_deepnote_index_column": "2021-07-22 14:30:00-04:00"
        },
        {
         "Close": 260.6000061035156,
         "macd": 5.593782438804254,
         "signal": 5.320892524726891,
         "macd_signal": 0,
         "macd_position": 1,
         "_deepnote_index_column": "2021-07-22 15:30:00-04:00"
        },
        {
         "Close": 265.1700134277344,
         "macd": 5.7840859149646064,
         "signal": 5.413531202774434,
         "macd_signal": 0,
         "macd_position": 1,
         "_deepnote_index_column": "2021-07-23 09:30:00-04:00"
        },
        {
         "Close": 264.2900085449219,
         "macd": 5.797068751333541,
         "signal": 5.490238712486256,
         "macd_signal": 0,
         "macd_position": 1,
         "_deepnote_index_column": "2021-07-23 10:30:00-04:00"
        },
        {
         "Close": 263.6000061035156,
         "macd": 5.686134097876959,
         "signal": 5.529417789564397,
         "macd_signal": 0,
         "macd_position": 1,
         "_deepnote_index_column": "2021-07-23 11:30:00-04:00"
        },
        {
         "Close": 263.1000061035156,
         "macd": 5.494534194480764,
         "signal": 5.522441070547671,
         "macd_signal": -1,
         "macd_position": 0,
         "_deepnote_index_column": "2021-07-23 12:30:00-04:00"
        },
        {
         "Close": 263.8299865722656,
         "macd": 5.340036595942678,
         "signal": 5.485960175626673,
         "macd_signal": 0,
         "macd_position": 0,
         "_deepnote_index_column": "2021-07-23 13:30:00-04:00"
        },
        {
         "Close": 263.8399963378906,
         "macd": 5.158934850802382,
         "signal": 5.420555110661815,
         "macd_signal": 0,
         "macd_position": 0,
         "_deepnote_index_column": "2021-07-23 14:30:00-04:00"
        },
        {
         "Close": 264.07000732421875,
         "macd": 4.976603193538551,
         "signal": 5.331764727237163,
         "macd_signal": 0,
         "macd_position": 0,
         "_deepnote_index_column": "2021-07-23 15:30:00-04:00"
        },
        {
         "Close": 263.79998779296875,
         "macd": 4.755497309217446,
         "signal": 5.216511243633219,
         "macd_signal": 0,
         "macd_position": 0,
         "_deepnote_index_column": "2021-07-26 09:30:00-04:00"
        },
        {
         "Close": 261.90008544921875,
         "macd": 4.376513340413567,
         "signal": 5.048511662989289,
         "macd_signal": 0,
         "macd_position": 0,
         "_deepnote_index_column": "2021-07-26 10:30:00-04:00"
        },
        {
         "Close": 262.4599914550781,
         "macd": 4.074378649192283,
         "signal": 4.853685060229888,
         "macd_signal": 0,
         "macd_position": 0,
         "_deepnote_index_column": "2021-07-26 11:30:00-04:00"
        },
        {
         "Close": 262.6000061035156,
         "macd": 3.80240102945902,
         "signal": 4.643428254075715,
         "macd_signal": 0,
         "macd_position": 0,
         "_deepnote_index_column": "2021-07-26 12:30:00-04:00"
        },
        {
         "Close": 261.5639953613281,
         "macd": 3.463336213716218,
         "signal": 4.407409846003816,
         "macd_signal": 0,
         "macd_position": 0,
         "_deepnote_index_column": "2021-07-26 13:30:00-04:00"
        },
        {
         "Close": 262.54998779296875,
         "macd": 3.236873589504853,
         "signal": 4.173302594704023,
         "macd_signal": 0,
         "macd_position": 0,
         "_deepnote_index_column": "2021-07-26 14:30:00-04:00"
        },
        {
         "Close": 262.04998779296875,
         "macd": 2.982672119373376,
         "signal": 3.935176499637894,
         "macd_signal": 0,
         "macd_position": 0,
         "_deepnote_index_column": "2021-07-26 15:30:00-04:00"
        },
        {
         "Close": 253.86720275878903,
         "macd": 2.0967630774341046,
         "signal": 3.5674938151971363,
         "macd_signal": 0,
         "macd_position": 0,
         "_deepnote_index_column": "2021-07-27 09:30:00-04:00"
        },
        {
         "Close": 246.5540008544922,
         "macd": 0.7953907350883469,
         "signal": 3.0130731991753783,
         "macd_signal": 0,
         "macd_position": 0,
         "_deepnote_index_column": "2021-07-27 10:30:00-04:00"
        },
        {
         "Close": 248.9900054931641,
         "macd": -0.0389421059447272,
         "signal": 2.402670138151357,
         "macd_signal": 0,
         "macd_position": 0,
         "_deepnote_index_column": "2021-07-27 11:30:00-04:00"
        },
        {
         "Close": 247.6300048828125,
         "macd": -0.8006679747486487,
         "signal": 1.762002515571356,
         "macd_signal": 0,
         "macd_position": 0,
         "_deepnote_index_column": "2021-07-27 12:30:00-04:00"
        },
        {
         "Close": 250.6100006103516,
         "macd": -1.1506168683411886,
         "signal": 1.179478638788847,
         "macd_signal": 0,
         "macd_position": 0,
         "_deepnote_index_column": "2021-07-27 13:30:00-04:00"
        },
        {
         "Close": 252.2700042724609,
         "macd": -1.2792589644252814,
         "signal": 0.6877311181460213,
         "macd_signal": 0,
         "macd_position": 0,
         "_deepnote_index_column": "2021-07-27 14:30:00-04:00"
        },
        {
         "Close": 251.72999572753903,
         "macd": -1.4085460864287995,
         "signal": 0.2684756772310571,
         "macd_signal": 0,
         "macd_position": 0,
         "_deepnote_index_column": "2021-07-27 15:30:00-04:00"
        },
        {
         "Close": 256.29998779296875,
         "macd": -1.1292298367798708,
         "signal": -0.0110654255711284,
         "macd_signal": 0,
         "macd_position": 0,
         "_deepnote_index_column": "2021-07-28 09:30:00-04:00"
        },
        {
         "Close": 258.4150085449219,
         "macd": -0.7288039990155823,
         "signal": -0.1546131402600192,
         "macd_signal": 0,
         "macd_position": 0,
         "_deepnote_index_column": "2021-07-28 10:30:00-04:00"
        },
        {
         "Close": 258.95001220703125,
         "macd": -0.3640962385589148,
         "signal": -0.1965097599197983,
         "macd_signal": 0,
         "macd_position": 0,
         "_deepnote_index_column": "2021-07-28 11:30:00-04:00"
        },
        {
         "Close": 257.0400085449219,
         "macd": -0.2265722598102968,
         "signal": -0.202522259897898,
         "macd_signal": 0,
         "macd_position": 0,
         "_deepnote_index_column": "2021-07-28 12:30:00-04:00"
        },
        {
         "Close": 258.4800109863281,
         "macd": -0.0013715431308582,
         "signal": -0.1622921165444901,
         "macd_signal": 1,
         "macd_position": 1,
         "_deepnote_index_column": "2021-07-28 13:30:00-04:00"
        },
        {
         "Close": 259.7099914550781,
         "macd": 0.273201495001274,
         "signal": -0.0751933942353373,
         "macd_signal": 0,
         "macd_position": 1,
         "_deepnote_index_column": "2021-07-28 14:30:00-04:00"
        },
        {
         "Close": 258.4700012207031,
         "macd": 0.3862928139295718,
         "signal": 0.0171038473976445,
         "macd_signal": 0,
         "macd_position": 1,
         "_deepnote_index_column": "2021-07-28 15:30:00-04:00"
        },
        {
         "Close": 259.70001220703125,
         "macd": 0.5686154608433753,
         "signal": 0.1274061700867907,
         "macd_signal": 0,
         "macd_position": 1,
         "_deepnote_index_column": "2021-07-29 09:30:00-04:00"
        },
        {
         "Close": 260.1900939941406,
         "macd": 0.7440757346239479,
         "signal": 0.2507400829942221,
         "macd_signal": 0,
         "macd_position": 1,
         "_deepnote_index_column": "2021-07-29 10:30:00-04:00"
        },
        {
         "Close": 260.2200012207031,
         "macd": 0.8754508762049227,
         "signal": 0.3756822416363622,
         "macd_signal": 0,
         "macd_position": 1,
         "_deepnote_index_column": "2021-07-29 11:30:00-04:00"
        },
        {
         "Close": 257.864990234375,
         "macd": 0.7805393457569494,
         "signal": 0.4566536624604796,
         "macd_signal": 0,
         "macd_position": 1,
         "_deepnote_index_column": "2021-07-29 12:30:00-04:00"
        },
        {
         "Close": 255.4700927734375,
         "macd": 0.5062374734991977,
         "signal": 0.4665704246682233,
         "macd_signal": 0,
         "macd_position": 1,
         "_deepnote_index_column": "2021-07-29 13:30:00-04:00"
        },
        {
         "Close": 254.93499755859372,
         "macd": 0.2428738530419423,
         "signal": 0.4218311103429671,
         "macd_signal": -1,
         "macd_position": 0,
         "_deepnote_index_column": "2021-07-29 14:30:00-04:00"
        },
        {
         "Close": 255.2700042724609,
         "macd": 0.0604912232709011,
         "signal": 0.349563132928554,
         "macd_signal": 0,
         "macd_position": 0,
         "_deepnote_index_column": "2021-07-29 15:30:00-04:00"
        },
        {
         "Close": 251.60499572753903,
         "macd": -0.3754558631619602,
         "signal": 0.2045593337104511,
         "macd_signal": 0,
         "macd_position": 0,
         "_deepnote_index_column": "2021-07-30 09:30:00-04:00"
        },
        {
         "Close": 248.32000732421875,
         "macd": -0.9747815059236872,
         "signal": -0.0313088342163764,
         "macd_signal": 0,
         "macd_position": 0,
         "_deepnote_index_column": "2021-07-30 10:30:00-04:00"
        },
        {
         "Close": 247.17999267578125,
         "macd": -1.524171351769894,
         "signal": -0.32988133772708,
         "macd_signal": 0,
         "macd_position": 0,
         "_deepnote_index_column": "2021-07-30 11:30:00-04:00"
        },
        {
         "Close": 247.5984039306641,
         "macd": -1.9038579815816088,
         "signal": -0.6446766664979859,
         "macd_signal": 0,
         "macd_position": 0,
         "_deepnote_index_column": "2021-07-30 12:30:00-04:00"
        },
        {
         "Close": 245.7700042724609,
         "macd": -2.325492117483549,
         "signal": -0.9808397566950986,
         "macd_signal": 0,
         "macd_position": 0,
         "_deepnote_index_column": "2021-07-30 13:30:00-04:00"
        },
        {
         "Close": 245.9199981689453,
         "macd": -2.617365592701645,
         "signal": -1.308144923896408,
         "macd_signal": 0,
         "macd_position": 0,
         "_deepnote_index_column": "2021-07-30 14:30:00-04:00"
        },
        {
         "Close": 247.25,
         "macd": -2.710116852088049,
         "signal": -1.5885393095347362,
         "macd_signal": 0,
         "macd_position": 0,
         "_deepnote_index_column": "2021-07-30 15:30:00-04:00"
        },
        {
         "Close": 269.95001220703125,
         "macd": -0.9410735105667812,
         "signal": -1.459046149741145,
         "macd_signal": 1,
         "macd_position": 1,
         "_deepnote_index_column": "2021-08-02 09:30:00-04:00"
        },
        {
         "Close": 275.239990234375,
         "macd": 0.8776461410749334,
         "signal": -0.9917076915779296,
         "macd_signal": 0,
         "macd_position": 1,
         "_deepnote_index_column": "2021-08-02 10:30:00-04:00"
        },
        {
         "Close": 275.19000244140625,
         "macd": 2.288579649434041,
         "signal": -0.3356502233755353,
         "macd_signal": 0,
         "macd_position": 1,
         "_deepnote_index_column": "2021-08-02 11:30:00-04:00"
        },
        {
         "Close": 276.32000732421875,
         "macd": 3.458074045216847,
         "signal": 0.4230946303429412,
         "macd_signal": 0,
         "macd_position": 1,
         "_deepnote_index_column": "2021-08-02 12:30:00-04:00"
        },
        {
         "Close": 279.6247863769531,
         "macd": 4.598565430219594,
         "signal": 1.2581887903182718,
         "macd_signal": 0,
         "macd_position": 1,
         "_deepnote_index_column": "2021-08-02 13:30:00-04:00"
        },
        {
         "Close": 273.1388854980469,
         "macd": 4.922313705278043,
         "signal": 1.991013773310226,
         "macd_signal": 0,
         "macd_position": 1,
         "_deepnote_index_column": "2021-08-02 14:30:00-04:00"
        },
        {
         "Close": 272.3999938964844,
         "macd": 5.060924975865476,
         "signal": 2.6049960138212764,
         "macd_signal": 0,
         "macd_position": 1,
         "_deepnote_index_column": "2021-08-02 15:30:00-04:00"
        },
        {
         "Close": 266.0799865722656,
         "macd": 4.607689062560553,
         "signal": 3.005534623569132,
         "macd_signal": 0,
         "macd_position": 1,
         "_deepnote_index_column": "2021-08-03 09:30:00-04:00"
        },
        {
         "Close": 263.3099975585937,
         "macd": 3.9791126386519977,
         "signal": 3.2002502265857053,
         "macd_signal": 0,
         "macd_position": 1,
         "_deepnote_index_column": "2021-08-03 10:30:00-04:00"
        },
        {
         "Close": 271.67999267578125,
         "macd": 4.108984137659945,
         "signal": 3.3819970088005538,
         "macd_signal": 0,
         "macd_position": 1,
         "_deepnote_index_column": "2021-08-03 11:30:00-04:00"
        },
        {
         "Close": 268.8900146484375,
         "macd": 3.941346932277952,
         "signal": 3.4938669934960336,
         "macd_signal": 0,
         "macd_position": 1,
         "_deepnote_index_column": "2021-08-03 12:30:00-04:00"
        },
        {
         "Close": 266.9849853515625,
         "macd": 3.613123457857228,
         "signal": 3.517718286368273,
         "macd_signal": 0,
         "macd_position": 1,
         "_deepnote_index_column": "2021-08-03 13:30:00-04:00"
        },
        {
         "Close": 269.6798095703125,
         "macd": 3.5297648505292614,
         "signal": 3.5201275992004706,
         "macd_signal": 0,
         "macd_position": 1,
         "_deepnote_index_column": "2021-08-03 14:30:00-04:00"
        },
        {
         "Close": 269.3999938964844,
         "macd": 3.401908681627617,
         "signal": 3.4964838156859,
         "macd_signal": -1,
         "macd_position": 0,
         "_deepnote_index_column": "2021-08-03 15:30:00-04:00"
        },
        {
         "Close": 263.5899963378906,
         "macd": 2.7994926907014133,
         "signal": 3.3570855906890027,
         "macd_signal": 0,
         "macd_position": 0,
         "_deepnote_index_column": "2021-08-04 09:30:00-04:00"
        },
        {
         "Close": 265.6600036621094,
         "macd": 2.460740089022238,
         "signal": 3.17781649035565,
         "macd_signal": 0,
         "macd_position": 0,
         "_deepnote_index_column": "2021-08-04 10:30:00-04:00"
        },
        {
         "Close": 265.4100036621094,
         "macd": 2.147349986977076,
         "signal": 2.971723189679935,
         "macd_signal": 0,
         "macd_position": 0,
         "_deepnote_index_column": "2021-08-04 11:30:00-04:00"
        },
        {
         "Close": 266.4849853515625,
         "macd": 1.9630987314054096,
         "signal": 2.76999829802503,
         "macd_signal": 0,
         "macd_position": 0,
         "_deepnote_index_column": "2021-08-04 12:30:00-04:00"
        },
        {
         "Close": 265.9200134277344,
         "macd": 1.7513018536988056,
         "signal": 2.566259009159785,
         "macd_signal": 0,
         "macd_position": 0,
         "_deepnote_index_column": "2021-08-04 13:30:00-04:00"
        },
        {
         "Close": 265.5,
         "macd": 1.5319009284547178,
         "signal": 2.359387393018772,
         "macd_signal": 0,
         "macd_position": 0,
         "_deepnote_index_column": "2021-08-04 14:30:00-04:00"
        },
        {
         "Close": 266.45001220703125,
         "macd": 1.41833250577929,
         "signal": 2.171176415570876,
         "macd_signal": 0,
         "macd_position": 0,
         "_deepnote_index_column": "2021-08-04 15:30:00-04:00"
        },
        {
         "Close": 278.2344970703125,
         "macd": 2.253263930032915,
         "signal": 2.187593918463284,
         "macd_signal": 1,
         "macd_position": 1,
         "_deepnote_index_column": "2021-08-05 09:30:00-04:00"
        },
        {
         "Close": 287.25,
         "macd": 3.6009196792661555,
         "signal": 2.4702590706238583,
         "macd_signal": 0,
         "macd_position": 1,
         "_deepnote_index_column": "2021-08-05 10:30:00-04:00"
        },
        {
         "Close": 287.32000732421875,
         "macd": 4.621323831403458,
         "signal": 2.9004720227797787,
         "macd_signal": 0,
         "macd_position": 1,
         "_deepnote_index_column": "2021-08-05 11:30:00-04:00"
        },
        {
         "Close": 283.7300109863281,
         "macd": 5.081739640666172,
         "signal": 3.3367255463570573,
         "macd_signal": 0,
         "macd_position": 1,
         "_deepnote_index_column": "2021-08-05 12:30:00-04:00"
        },
        {
         "Close": 283.8900146484375,
         "macd": 5.39731653959393,
         "signal": 3.748843745004432,
         "macd_signal": 0,
         "macd_position": 1,
         "_deepnote_index_column": "2021-08-05 13:30:00-04:00"
        },
        {
         "Close": 282.4599914550781,
         "macd": 5.468979592678522,
         "signal": 4.092870914539251,
         "macd_signal": 0,
         "macd_position": 1,
         "_deepnote_index_column": "2021-08-05 14:30:00-04:00"
        },
        {
         "Close": 281.79998779296875,
         "macd": 5.410151440793868,
         "signal": 4.356327019790174,
         "macd_signal": 0,
         "macd_position": 1,
         "_deepnote_index_column": "2021-08-05 15:30:00-04:00"
        },
        {
         "Close": 279.1000061035156,
         "macd": 5.087023706217963,
         "signal": 4.502466357075732,
         "macd_signal": 0,
         "macd_position": 1,
         "_deepnote_index_column": "2021-08-06 09:30:00-04:00"
        },
        {
         "Close": 277.2200012207031,
         "macd": 4.625917271596848,
         "signal": 4.527156539979955,
         "macd_signal": 0,
         "macd_position": 1,
         "_deepnote_index_column": "2021-08-06 10:30:00-04:00"
        },
        {
         "Close": 278.6400146484375,
         "macd": 4.325211964956964,
         "signal": 4.486767624975357,
         "macd_signal": -1,
         "macd_position": 0,
         "_deepnote_index_column": "2021-08-06 11:30:00-04:00"
        },
        {
         "Close": 276.6119079589844,
         "macd": 3.8785401857817874,
         "signal": 4.365122137136644,
         "macd_signal": 0,
         "macd_position": 0,
         "_deepnote_index_column": "2021-08-06 12:30:00-04:00"
        },
        {
         "Close": 276.2349853515625,
         "macd": 3.454315875171801,
         "signal": 4.182960884743675,
         "macd_signal": 0,
         "macd_position": 0,
         "_deepnote_index_column": "2021-08-06 13:30:00-04:00"
        },
        {
         "Close": 276.0409851074219,
         "macd": 3.067105175016877,
         "signal": 3.959789742798316,
         "macd_signal": 0,
         "macd_position": 0,
         "_deepnote_index_column": "2021-08-06 14:30:00-04:00"
        },
        {
         "Close": 275.06500244140625,
         "macd": 2.650926035725945,
         "signal": 3.698017001383842,
         "macd_signal": 0,
         "macd_position": 0,
         "_deepnote_index_column": "2021-08-06 15:30:00-04:00"
        },
        {
         "Close": 281.2298889160156,
         "macd": 2.786435590828944,
         "signal": 3.5157007192728624,
         "macd_signal": 0,
         "macd_position": 0,
         "_deepnote_index_column": "2021-08-09 09:30:00-04:00"
        },
        {
         "Close": 280.7699890136719,
         "macd": 2.824162622237452,
         "signal": 3.3773930998657806,
         "macd_signal": 0,
         "macd_position": 0,
         "_deepnote_index_column": "2021-08-09 10:30:00-04:00"
        },
        {
         "Close": 282.9848022460937,
         "macd": 2.998216906158234,
         "signal": 3.3015578611242717,
         "macd_signal": 0,
         "macd_position": 0,
         "_deepnote_index_column": "2021-08-09 11:30:00-04:00"
        },
        {
         "Close": 284.364990234375,
         "macd": 3.2105169748917888,
         "signal": 3.2833496838777747,
         "macd_signal": 0,
         "macd_position": 0,
         "_deepnote_index_column": "2021-08-09 12:30:00-04:00"
        },
        {
         "Close": 282.67999267578125,
         "macd": 3.205846089881902,
         "signal": 3.2678489650786005,
         "macd_signal": 0,
         "macd_position": 0,
         "_deepnote_index_column": "2021-08-09 13:30:00-04:00"
        },
        {
         "Close": 280.5799865722656,
         "macd": 2.9981308516035483,
         "signal": 3.2139053423835904,
         "macd_signal": 0,
         "macd_position": 0,
         "_deepnote_index_column": "2021-08-09 14:30:00-04:00"
        },
        {
         "Close": 279.7099914550781,
         "macd": 2.7318229393123943,
         "signal": 3.1174888617693512,
         "macd_signal": 0,
         "macd_position": 0,
         "_deepnote_index_column": "2021-08-09 15:30:00-04:00"
        },
        {
         "Close": 278.1571960449219,
         "macd": 2.3681755344072712,
         "signal": 2.9676261962969352,
         "macd_signal": 0,
         "macd_position": 0,
         "_deepnote_index_column": "2021-08-10 09:30:00-04:00"
        },
        {
         "Close": 277.5,
         "macd": 2.00385294824099,
         "signal": 2.774871546685746,
         "macd_signal": 0,
         "macd_position": 0,
         "_deepnote_index_column": "2021-08-10 10:30:00-04:00"
        },
        {
         "Close": 277.697998046875,
         "macd": 1.7113738095624171,
         "signal": 2.5621719992610803,
         "macd_signal": 0,
         "macd_position": 0,
         "_deepnote_index_column": "2021-08-10 11:30:00-04:00"
        },
        {
         "Close": 276.7699890136719,
         "macd": 1.3886914411733642,
         "signal": 2.327475887643537,
         "macd_signal": 0,
         "macd_position": 0,
         "_deepnote_index_column": "2021-08-10 12:30:00-04:00"
        },
        {
         "Close": 275.375,
         "macd": 1.0087709014169943,
         "signal": 2.0637348903982287,
         "macd_signal": 0,
         "macd_position": 0,
         "_deepnote_index_column": "2021-08-10 13:30:00-04:00"
        },
        {
         "Close": 274.04998779296875,
         "macd": 0.5939174147059703,
         "signal": 1.7697713952597771,
         "macd_signal": 0,
         "macd_position": 0,
         "_deepnote_index_column": "2021-08-10 14:30:00-04:00"
        },
        {
         "Close": 272.92999267578125,
         "macd": 0.1727771247185501,
         "signal": 1.4503725411515318,
         "macd_signal": 0,
         "macd_position": 0,
         "_deepnote_index_column": "2021-08-10 15:30:00-04:00"
        }
       ]
      },
      "text/plain": "                                Close      macd    signal  macd_signal  \\\n2019-09-03 09:30:00-04:00   62.959999  0.000000  0.000000            0   \n2019-09-03 10:30:00-04:00   62.320000 -0.051054 -0.010211           -1   \n2019-09-03 11:30:00-04:00   62.000000 -0.115999 -0.031368            0   \n2019-09-03 12:30:00-04:00   61.774899 -0.183517 -0.061798            0   \n2019-09-03 13:30:00-04:00   61.360001 -0.267421 -0.102923            0   \n...                               ...       ...       ...          ...   \n2021-08-10 11:30:00-04:00  277.697998  1.711374  2.562172            0   \n2021-08-10 12:30:00-04:00  276.769989  1.388691  2.327476            0   \n2021-08-10 13:30:00-04:00  275.375000  1.008771  2.063735            0   \n2021-08-10 14:30:00-04:00  274.049988  0.593917  1.769771            0   \n2021-08-10 15:30:00-04:00  272.929993  0.172777  1.450373            0   \n\n                           macd_position  \n2019-09-03 09:30:00-04:00              1  \n2019-09-03 10:30:00-04:00              0  \n2019-09-03 11:30:00-04:00              0  \n2019-09-03 12:30:00-04:00              0  \n2019-09-03 13:30:00-04:00              0  \n...                                  ...  \n2021-08-10 11:30:00-04:00              0  \n2021-08-10 12:30:00-04:00              0  \n2021-08-10 13:30:00-04:00              0  \n2021-08-10 14:30:00-04:00              0  \n2021-08-10 15:30:00-04:00              0  \n\n[3411 rows x 5 columns]",
      "text/html": "<div>\n<style scoped>\n    .dataframe tbody tr th:only-of-type {\n        vertical-align: middle;\n    }\n\n    .dataframe tbody tr th {\n        vertical-align: top;\n    }\n\n    .dataframe thead th {\n        text-align: right;\n    }\n</style>\n<table border=\"1\" class=\"dataframe\">\n  <thead>\n    <tr style=\"text-align: right;\">\n      <th></th>\n      <th>Close</th>\n      <th>macd</th>\n      <th>signal</th>\n      <th>macd_signal</th>\n      <th>macd_position</th>\n    </tr>\n  </thead>\n  <tbody>\n    <tr>\n      <th>2019-09-03 09:30:00-04:00</th>\n      <td>62.959999</td>\n      <td>0.000000</td>\n      <td>0.000000</td>\n      <td>0</td>\n      <td>1</td>\n    </tr>\n    <tr>\n      <th>2019-09-03 10:30:00-04:00</th>\n      <td>62.320000</td>\n      <td>-0.051054</td>\n      <td>-0.010211</td>\n      <td>-1</td>\n      <td>0</td>\n    </tr>\n    <tr>\n      <th>2019-09-03 11:30:00-04:00</th>\n      <td>62.000000</td>\n      <td>-0.115999</td>\n      <td>-0.031368</td>\n      <td>0</td>\n      <td>0</td>\n    </tr>\n    <tr>\n      <th>2019-09-03 12:30:00-04:00</th>\n      <td>61.774899</td>\n      <td>-0.183517</td>\n      <td>-0.061798</td>\n      <td>0</td>\n      <td>0</td>\n    </tr>\n    <tr>\n      <th>2019-09-03 13:30:00-04:00</th>\n      <td>61.360001</td>\n      <td>-0.267421</td>\n      <td>-0.102923</td>\n      <td>0</td>\n      <td>0</td>\n    </tr>\n    <tr>\n      <th>...</th>\n      <td>...</td>\n      <td>...</td>\n      <td>...</td>\n      <td>...</td>\n      <td>...</td>\n    </tr>\n    <tr>\n      <th>2021-08-10 11:30:00-04:00</th>\n      <td>277.697998</td>\n      <td>1.711374</td>\n      <td>2.562172</td>\n      <td>0</td>\n      <td>0</td>\n    </tr>\n    <tr>\n      <th>2021-08-10 12:30:00-04:00</th>\n      <td>276.769989</td>\n      <td>1.388691</td>\n      <td>2.327476</td>\n      <td>0</td>\n      <td>0</td>\n    </tr>\n    <tr>\n      <th>2021-08-10 13:30:00-04:00</th>\n      <td>275.375000</td>\n      <td>1.008771</td>\n      <td>2.063735</td>\n      <td>0</td>\n      <td>0</td>\n    </tr>\n    <tr>\n      <th>2021-08-10 14:30:00-04:00</th>\n      <td>274.049988</td>\n      <td>0.593917</td>\n      <td>1.769771</td>\n      <td>0</td>\n      <td>0</td>\n    </tr>\n    <tr>\n      <th>2021-08-10 15:30:00-04:00</th>\n      <td>272.929993</td>\n      <td>0.172777</td>\n      <td>1.450373</td>\n      <td>0</td>\n      <td>0</td>\n    </tr>\n  </tbody>\n</table>\n<p>3411 rows × 5 columns</p>\n</div>"
     },
     "metadata": {}
    }
   ],
   "execution_count": 10
  },
  {
   "cell_type": "code",
   "source": "sq_rsi_df = pd.read_csv(Path('../TRADE_STRATS/SQ RSI TRADE STRATEGY.csv'), infer_datetime_format= True, index_col= 'Datetime')\nsq_rsi_df",
   "metadata": {
    "tags": [],
    "cell_id": "00003-b583cc6f-259b-4ae9-b96e-b18cfef5d570",
    "deepnote_to_be_reexecuted": false,
    "source_hash": "fda10feb",
    "execution_start": 1628648778005,
    "execution_millis": 1866,
    "deepnote_cell_type": "code"
   },
   "outputs": [
    {
     "output_type": "execute_result",
     "execution_count": 17,
     "data": {
      "application/vnd.deepnote.dataframe.v2+json": {
       "row_count": 3411,
       "column_count": 4,
       "columns": [
        {
         "name": "Close",
         "dtype": "float64",
         "stats": {
          "unique_count": 3152,
          "nan_count": 0,
          "min": "33.119998931884766",
          "max": "287.32000732421875",
          "histogram": [
           {
            "bin_start": 33.119998931884766,
            "bin_end": 58.53999977111816,
            "count": 199
           },
           {
            "bin_start": 58.53999977111816,
            "bin_end": 83.96000061035156,
            "count": 1097
           },
           {
            "bin_start": 83.96000061035156,
            "bin_end": 109.38000144958497,
            "count": 161
           },
           {
            "bin_start": 109.38000144958497,
            "bin_end": 134.80000228881835,
            "count": 158
           },
           {
            "bin_start": 134.80000228881835,
            "bin_end": 160.22000312805176,
            "count": 277
           },
           {
            "bin_start": 160.22000312805176,
            "bin_end": 185.64000396728517,
            "count": 186
           },
           {
            "bin_start": 185.64000396728517,
            "bin_end": 211.06000480651855,
            "count": 245
           },
           {
            "bin_start": 211.06000480651855,
            "bin_end": 236.48000564575196,
            "count": 548
           },
           {
            "bin_start": 236.48000564575196,
            "bin_end": 261.9000064849854,
            "count": 401
           },
           {
            "bin_start": 261.9000064849854,
            "bin_end": 287.32000732421875,
            "count": 139
           }
          ]
         }
        },
        {
         "name": "RSI",
         "dtype": "float64",
         "stats": {
          "unique_count": 3398,
          "nan_count": 1,
          "min": "0.0",
          "max": "90.06377701880119",
          "histogram": [
           {
            "bin_start": 0,
            "bin_end": 9.006377701880119,
            "count": 6
           },
           {
            "bin_start": 9.006377701880119,
            "bin_end": 18.012755403760238,
            "count": 7
           },
           {
            "bin_start": 18.012755403760238,
            "bin_end": 27.019133105640357,
            "count": 73
           },
           {
            "bin_start": 27.019133105640357,
            "bin_end": 36.025510807520476,
            "count": 338
           },
           {
            "bin_start": 36.025510807520476,
            "bin_end": 45.031888509400595,
            "count": 585
           },
           {
            "bin_start": 45.031888509400595,
            "bin_end": 54.038266211280714,
            "count": 723
           },
           {
            "bin_start": 54.038266211280714,
            "bin_end": 63.04464391316083,
            "count": 772
           },
           {
            "bin_start": 63.04464391316083,
            "bin_end": 72.05102161504095,
            "count": 634
           },
           {
            "bin_start": 72.05102161504095,
            "bin_end": 81.05739931692108,
            "count": 249
           },
           {
            "bin_start": 81.05739931692108,
            "bin_end": 90.06377701880119,
            "count": 23
           }
          ]
         }
        },
        {
         "name": "rsi_signal",
         "dtype": "int64",
         "stats": {
          "unique_count": 3,
          "nan_count": 0,
          "min": "-1",
          "max": "1",
          "histogram": [
           {
            "bin_start": -1,
            "bin_end": -0.8,
            "count": 17
           },
           {
            "bin_start": -0.8,
            "bin_end": -0.6,
            "count": 0
           },
           {
            "bin_start": -0.6,
            "bin_end": -0.3999999999999999,
            "count": 0
           },
           {
            "bin_start": -0.3999999999999999,
            "bin_end": -0.19999999999999996,
            "count": 0
           },
           {
            "bin_start": -0.19999999999999996,
            "bin_end": 0,
            "count": 0
           },
           {
            "bin_start": 0,
            "bin_end": 0.20000000000000018,
            "count": 3377
           },
           {
            "bin_start": 0.20000000000000018,
            "bin_end": 0.40000000000000013,
            "count": 0
           },
           {
            "bin_start": 0.40000000000000013,
            "bin_end": 0.6000000000000001,
            "count": 0
           },
           {
            "bin_start": 0.6000000000000001,
            "bin_end": 0.8,
            "count": 0
           },
           {
            "bin_start": 0.8,
            "bin_end": 1,
            "count": 17
           }
          ]
         }
        },
        {
         "name": "rsi_position",
         "dtype": "int64",
         "stats": {
          "unique_count": 2,
          "nan_count": 0,
          "min": "0",
          "max": "1",
          "histogram": [
           {
            "bin_start": 0,
            "bin_end": 0.1,
            "count": 2284
           },
           {
            "bin_start": 0.1,
            "bin_end": 0.2,
            "count": 0
           },
           {
            "bin_start": 0.2,
            "bin_end": 0.30000000000000004,
            "count": 0
           },
           {
            "bin_start": 0.30000000000000004,
            "bin_end": 0.4,
            "count": 0
           },
           {
            "bin_start": 0.4,
            "bin_end": 0.5,
            "count": 0
           },
           {
            "bin_start": 0.5,
            "bin_end": 0.6000000000000001,
            "count": 0
           },
           {
            "bin_start": 0.6000000000000001,
            "bin_end": 0.7000000000000001,
            "count": 0
           },
           {
            "bin_start": 0.7000000000000001,
            "bin_end": 0.8,
            "count": 0
           },
           {
            "bin_start": 0.8,
            "bin_end": 0.9,
            "count": 0
           },
           {
            "bin_start": 0.9,
            "bin_end": 1,
            "count": 1127
           }
          ]
         }
        },
        {
         "name": "_deepnote_index_column",
         "dtype": "object"
        }
       ],
       "rows_top": [
        {
         "Close": 62.959999084472656,
         "RSI": "nan",
         "rsi_signal": 0,
         "rsi_position": 1,
         "_deepnote_index_column": "2019-09-03 09:30:00-04:00"
        },
        {
         "Close": 62.31999969482422,
         "RSI": 0,
         "rsi_signal": 0,
         "rsi_position": 1,
         "_deepnote_index_column": "2019-09-03 10:30:00-04:00"
        },
        {
         "Close": 62,
         "RSI": 0,
         "rsi_signal": 0,
         "rsi_position": 1,
         "_deepnote_index_column": "2019-09-03 11:30:00-04:00"
        },
        {
         "Close": 61.774898529052734,
         "RSI": 0,
         "rsi_signal": 0,
         "rsi_position": 1,
         "_deepnote_index_column": "2019-09-03 12:30:00-04:00"
        },
        {
         "Close": 61.36000061035156,
         "RSI": 0,
         "rsi_signal": 0,
         "rsi_position": 1,
         "_deepnote_index_column": "2019-09-03 13:30:00-04:00"
        },
        {
         "Close": 61.125,
         "RSI": 0,
         "rsi_signal": 0,
         "rsi_position": 1,
         "_deepnote_index_column": "2019-09-03 14:30:00-04:00"
        },
        {
         "Close": 61.13999938964844,
         "RSI": 0.2084774765302768,
         "rsi_signal": 0,
         "rsi_position": 1,
         "_deepnote_index_column": "2019-09-03 15:30:00-04:00"
        },
        {
         "Close": 61.93000030517578,
         "RSI": 10.760918290411212,
         "rsi_signal": 0,
         "rsi_position": 1,
         "_deepnote_index_column": "2019-09-04 09:30:00-04:00"
        },
        {
         "Close": 62.02000045776367,
         "RSI": 11.903840278305168,
         "rsi_signal": 0,
         "rsi_position": 1,
         "_deepnote_index_column": "2019-09-04 10:30:00-04:00"
        },
        {
         "Close": 61.41999816894531,
         "RSI": 10.901443106745134,
         "rsi_signal": 0,
         "rsi_position": 1,
         "_deepnote_index_column": "2019-09-04 11:30:00-04:00"
        },
        {
         "Close": 61.07500076293945,
         "RSI": 10.36117496976172,
         "rsi_signal": 0,
         "rsi_position": 1,
         "_deepnote_index_column": "2019-09-04 12:30:00-04:00"
        },
        {
         "Close": 61.11000061035156,
         "RSI": 10.843912837046275,
         "rsi_signal": 0,
         "rsi_position": 1,
         "_deepnote_index_column": "2019-09-04 13:30:00-04:00"
        },
        {
         "Close": 61.040000915527344,
         "RSI": 10.719573825429933,
         "rsi_signal": 0,
         "rsi_position": 1,
         "_deepnote_index_column": "2019-09-04 14:30:00-04:00"
        },
        {
         "Close": 61.08000183105469,
         "RSI": 11.34515308984723,
         "rsi_signal": 0,
         "rsi_position": 1,
         "_deepnote_index_column": "2019-09-04 15:30:00-04:00"
        },
        {
         "Close": 63.08250045776367,
         "RSI": 35.65279203114369,
         "rsi_signal": 0,
         "rsi_position": 1,
         "_deepnote_index_column": "2019-09-05 09:30:00-04:00"
        },
        {
         "Close": 62.67900085449219,
         "RSI": 33.65067421108655,
         "rsi_signal": 0,
         "rsi_position": 1,
         "_deepnote_index_column": "2019-09-05 10:30:00-04:00"
        },
        {
         "Close": 62.45280075073242,
         "RSI": 32.54724447747819,
         "rsi_signal": 0,
         "rsi_position": 1,
         "_deepnote_index_column": "2019-09-05 11:30:00-04:00"
        },
        {
         "Close": 62.83000183105469,
         "RSI": 36.298408111009934,
         "rsi_signal": 0,
         "rsi_position": 1,
         "_deepnote_index_column": "2019-09-05 12:30:00-04:00"
        },
        {
         "Close": 62.95500183105469,
         "RSI": 37.538070647903616,
         "rsi_signal": 0,
         "rsi_position": 1,
         "_deepnote_index_column": "2019-09-05 13:30:00-04:00"
        },
        {
         "Close": 63.150001525878906,
         "RSI": 39.51552165750285,
         "rsi_signal": 0,
         "rsi_position": 1,
         "_deepnote_index_column": "2019-09-05 14:30:00-04:00"
        },
        {
         "Close": 63.04499816894531,
         "RSI": 38.80314255243087,
         "rsi_signal": 0,
         "rsi_position": 1,
         "_deepnote_index_column": "2019-09-05 15:30:00-04:00"
        },
        {
         "Close": 63.31999969482422,
         "RSI": 41.76422121002339,
         "rsi_signal": 0,
         "rsi_position": 1,
         "_deepnote_index_column": "2019-09-06 09:30:00-04:00"
        },
        {
         "Close": 62.97610092163086,
         "RSI": 39.20923037211833,
         "rsi_signal": 0,
         "rsi_position": 1,
         "_deepnote_index_column": "2019-09-06 10:30:00-04:00"
        },
        {
         "Close": 63.27999877929688,
         "RSI": 42.553710629230906,
         "rsi_signal": 0,
         "rsi_position": 1,
         "_deepnote_index_column": "2019-09-06 11:30:00-04:00"
        },
        {
         "Close": 62.97600173950195,
         "RSI": 40.17276686020396,
         "rsi_signal": 0,
         "rsi_position": 1,
         "_deepnote_index_column": "2019-09-06 12:30:00-04:00"
        },
        {
         "Close": 62.650001525878906,
         "RSI": 37.73448797662451,
         "rsi_signal": 0,
         "rsi_position": 1,
         "_deepnote_index_column": "2019-09-06 13:30:00-04:00"
        },
        {
         "Close": 62.30500030517578,
         "RSI": 35.29314170013784,
         "rsi_signal": 0,
         "rsi_position": 1,
         "_deepnote_index_column": "2019-09-06 14:30:00-04:00"
        },
        {
         "Close": 61.97999954223633,
         "RSI": 33.11933481595288,
         "rsi_signal": 0,
         "rsi_position": 1,
         "_deepnote_index_column": "2019-09-06 15:30:00-04:00"
        },
        {
         "Close": 61.70000076293945,
         "RSI": 31.32900251036142,
         "rsi_signal": 0,
         "rsi_position": 1,
         "_deepnote_index_column": "2019-09-09 09:30:00-04:00"
        },
        {
         "Close": 61.68000030517578,
         "RSI": 31.19926520016409,
         "rsi_signal": 0,
         "rsi_position": 1,
         "_deepnote_index_column": "2019-09-09 10:30:00-04:00"
        },
        {
         "Close": 60.95000076293945,
         "RSI": 26.831748000691743,
         "rsi_signal": 1,
         "rsi_position": 1,
         "_deepnote_index_column": "2019-09-09 11:30:00-04:00"
        },
        {
         "Close": 59.92499923706055,
         "RSI": 22.144278985487503,
         "rsi_signal": 0,
         "rsi_position": 1,
         "_deepnote_index_column": "2019-09-09 12:30:00-04:00"
        },
        {
         "Close": 59.752201080322266,
         "RSI": 21.4635256434661,
         "rsi_signal": 0,
         "rsi_position": 1,
         "_deepnote_index_column": "2019-09-09 13:30:00-04:00"
        },
        {
         "Close": 60.86000061035156,
         "RSI": 35.21396026007723,
         "rsi_signal": 0,
         "rsi_position": 1,
         "_deepnote_index_column": "2019-09-09 14:30:00-04:00"
        },
        {
         "Close": 61.45000076293945,
         "RSI": 41.126084787633815,
         "rsi_signal": 0,
         "rsi_position": 1,
         "_deepnote_index_column": "2019-09-09 15:30:00-04:00"
        },
        {
         "Close": 61.380001068115234,
         "RSI": 40.65208982897858,
         "rsi_signal": 0,
         "rsi_position": 1,
         "_deepnote_index_column": "2019-09-10 09:30:00-04:00"
        },
        {
         "Close": 61.207298278808594,
         "RSI": 39.44419980419026,
         "rsi_signal": 0,
         "rsi_position": 1,
         "_deepnote_index_column": "2019-09-10 10:30:00-04:00"
        },
        {
         "Close": 61.38999938964844,
         "RSI": 41.4269538648436,
         "rsi_signal": 0,
         "rsi_position": 1,
         "_deepnote_index_column": "2019-09-10 11:30:00-04:00"
        },
        {
         "Close": 61.15800094604492,
         "RSI": 39.65153170633635,
         "rsi_signal": 0,
         "rsi_position": 1,
         "_deepnote_index_column": "2019-09-10 12:30:00-04:00"
        },
        {
         "Close": 60.58000183105469,
         "RSI": 35.56235453208265,
         "rsi_signal": 0,
         "rsi_position": 1,
         "_deepnote_index_column": "2019-09-10 13:30:00-04:00"
        },
        {
         "Close": 60.4900016784668,
         "RSI": 34.95782007743476,
         "rsi_signal": 0,
         "rsi_position": 1,
         "_deepnote_index_column": "2019-09-10 14:30:00-04:00"
        },
        {
         "Close": 60.5,
         "RSI": 35.08983159487137,
         "rsi_signal": 0,
         "rsi_position": 1,
         "_deepnote_index_column": "2019-09-10 15:30:00-04:00"
        },
        {
         "Close": 60.45000076293945,
         "RSI": 34.71043126317564,
         "rsi_signal": 0,
         "rsi_position": 1,
         "_deepnote_index_column": "2019-09-11 09:30:00-04:00"
        },
        {
         "Close": 59.97999954223633,
         "RSI": 31.286012069255374,
         "rsi_signal": 0,
         "rsi_position": 1,
         "_deepnote_index_column": "2019-09-11 10:30:00-04:00"
        },
        {
         "Close": 60.22999954223633,
         "RSI": 34.96156516206143,
         "rsi_signal": 0,
         "rsi_position": 1,
         "_deepnote_index_column": "2019-09-11 11:30:00-04:00"
        },
        {
         "Close": 60.20149993896485,
         "RSI": 34.733473582269085,
         "rsi_signal": 0,
         "rsi_position": 1,
         "_deepnote_index_column": "2019-09-11 12:30:00-04:00"
        },
        {
         "Close": 59.69340133666992,
         "RSI": 30.867066220279145,
         "rsi_signal": 0,
         "rsi_position": 1,
         "_deepnote_index_column": "2019-09-11 13:30:00-04:00"
        },
        {
         "Close": 59.014198303222656,
         "RSI": 26.60382612309201,
         "rsi_signal": 0,
         "rsi_position": 1,
         "_deepnote_index_column": "2019-09-11 14:30:00-04:00"
        },
        {
         "Close": 59.18000030517578,
         "RSI": 29.175425140218564,
         "rsi_signal": 0,
         "rsi_position": 1,
         "_deepnote_index_column": "2019-09-11 15:30:00-04:00"
        },
        {
         "Close": 58.959598541259766,
         "RSI": 27.78193988799366,
         "rsi_signal": 0,
         "rsi_position": 1,
         "_deepnote_index_column": "2019-09-12 09:30:00-04:00"
        },
        {
         "Close": 58.560001373291016,
         "RSI": 25.41210622296323,
         "rsi_signal": 0,
         "rsi_position": 1,
         "_deepnote_index_column": "2019-09-12 10:30:00-04:00"
        },
        {
         "Close": 58.310001373291016,
         "RSI": 24.030992935645894,
         "rsi_signal": 0,
         "rsi_position": 1,
         "_deepnote_index_column": "2019-09-12 11:30:00-04:00"
        },
        {
         "Close": 58.2400016784668,
         "RSI": 23.643519803717467,
         "rsi_signal": 0,
         "rsi_position": 1,
         "_deepnote_index_column": "2019-09-12 12:30:00-04:00"
        },
        {
         "Close": 58,
         "RSI": 22.314995520248036,
         "rsi_signal": 0,
         "rsi_position": 1,
         "_deepnote_index_column": "2019-09-12 13:30:00-04:00"
        },
        {
         "Close": 58.095001220703125,
         "RSI": 24.132243515548826,
         "rsi_signal": 0,
         "rsi_position": 1,
         "_deepnote_index_column": "2019-09-12 14:30:00-04:00"
        },
        {
         "Close": 57.790000915527344,
         "RSI": 22.32651016547817,
         "rsi_signal": 0,
         "rsi_position": 1,
         "_deepnote_index_column": "2019-09-12 15:30:00-04:00"
        },
        {
         "Close": 58.22999954223633,
         "RSI": 30.41566472174182,
         "rsi_signal": 0,
         "rsi_position": 1,
         "_deepnote_index_column": "2019-09-13 09:30:00-04:00"
        },
        {
         "Close": 58.27999877929688,
         "RSI": 31.291330930679308,
         "rsi_signal": 0,
         "rsi_position": 1,
         "_deepnote_index_column": "2019-09-13 10:30:00-04:00"
        },
        {
         "Close": 58.7599983215332,
         "RSI": 39.20144094501431,
         "rsi_signal": 0,
         "rsi_position": 1,
         "_deepnote_index_column": "2019-09-13 11:30:00-04:00"
        },
        {
         "Close": 58.483699798583984,
         "RSI": 36.59013687760708,
         "rsi_signal": 0,
         "rsi_position": 1,
         "_deepnote_index_column": "2019-09-13 12:30:00-04:00"
        },
        {
         "Close": 58.1349983215332,
         "RSI": 33.552472100782325,
         "rsi_signal": 0,
         "rsi_position": 1,
         "_deepnote_index_column": "2019-09-13 13:30:00-04:00"
        },
        {
         "Close": 58.290000915527344,
         "RSI": 36.09226947083766,
         "rsi_signal": 0,
         "rsi_position": 1,
         "_deepnote_index_column": "2019-09-13 14:30:00-04:00"
        },
        {
         "Close": 58.31999969482422,
         "RSI": 36.59736883542182,
         "rsi_signal": 0,
         "rsi_position": 1,
         "_deepnote_index_column": "2019-09-13 15:30:00-04:00"
        },
        {
         "Close": 57.52999877929688,
         "RSI": 29.89623085528524,
         "rsi_signal": 0,
         "rsi_position": 1,
         "_deepnote_index_column": "2019-09-16 09:30:00-04:00"
        },
        {
         "Close": 58.02510070800781,
         "RSI": 37.60681941149551,
         "rsi_signal": 0,
         "rsi_position": 1,
         "_deepnote_index_column": "2019-09-16 10:30:00-04:00"
        },
        {
         "Close": 58.14889907836914,
         "RSI": 39.40160380356417,
         "rsi_signal": 0,
         "rsi_position": 1,
         "_deepnote_index_column": "2019-09-16 11:30:00-04:00"
        },
        {
         "Close": 59.494998931884766,
         "RSI": 54.67038106742983,
         "rsi_signal": 0,
         "rsi_position": 1,
         "_deepnote_index_column": "2019-09-16 12:30:00-04:00"
        },
        {
         "Close": 59.470001220703125,
         "RSI": 54.39627418755417,
         "rsi_signal": 0,
         "rsi_position": 1,
         "_deepnote_index_column": "2019-09-16 13:30:00-04:00"
        },
        {
         "Close": 59.31999969482422,
         "RSI": 52.68913467093467,
         "rsi_signal": 0,
         "rsi_position": 1,
         "_deepnote_index_column": "2019-09-16 14:30:00-04:00"
        },
        {
         "Close": 59.25,
         "RSI": 51.87102811965024,
         "rsi_signal": 0,
         "rsi_position": 1,
         "_deepnote_index_column": "2019-09-16 15:30:00-04:00"
        },
        {
         "Close": 59.65999984741211,
         "RSI": 56.16430531501044,
         "rsi_signal": 0,
         "rsi_position": 1,
         "_deepnote_index_column": "2019-09-17 09:30:00-04:00"
        },
        {
         "Close": 59.52999877929688,
         "RSI": 54.50410880387385,
         "rsi_signal": 0,
         "rsi_position": 1,
         "_deepnote_index_column": "2019-09-17 10:30:00-04:00"
        },
        {
         "Close": 59.63999938964844,
         "RSI": 55.697439441628845,
         "rsi_signal": 0,
         "rsi_position": 1,
         "_deepnote_index_column": "2019-09-17 11:30:00-04:00"
        },
        {
         "Close": 59.40999984741211,
         "RSI": 52.59131261275412,
         "rsi_signal": 0,
         "rsi_position": 1,
         "_deepnote_index_column": "2019-09-17 12:30:00-04:00"
        },
        {
         "Close": 59.34999847412109,
         "RSI": 51.78004289955512,
         "rsi_signal": 0,
         "rsi_position": 1,
         "_deepnote_index_column": "2019-09-17 13:30:00-04:00"
        },
        {
         "Close": 59.54999923706055,
         "RSI": 54.31007947961101,
         "rsi_signal": 0,
         "rsi_position": 1,
         "_deepnote_index_column": "2019-09-17 14:30:00-04:00"
        },
        {
         "Close": 59.540000915527344,
         "RSI": 54.15709918079666,
         "rsi_signal": 0,
         "rsi_position": 1,
         "_deepnote_index_column": "2019-09-17 15:30:00-04:00"
        },
        {
         "Close": 59.77000045776367,
         "RSI": 57.14741235638968,
         "rsi_signal": 0,
         "rsi_position": 1,
         "_deepnote_index_column": "2019-09-18 09:30:00-04:00"
        },
        {
         "Close": 59.41999816894531,
         "RSI": 51.62839449588508,
         "rsi_signal": 0,
         "rsi_position": 1,
         "_deepnote_index_column": "2019-09-18 10:30:00-04:00"
        },
        {
         "Close": 59.27000045776367,
         "RSI": 49.42539785796577,
         "rsi_signal": 0,
         "rsi_position": 1,
         "_deepnote_index_column": "2019-09-18 11:30:00-04:00"
        },
        {
         "Close": 59.165000915527344,
         "RSI": 47.88507127842775,
         "rsi_signal": 0,
         "rsi_position": 1,
         "_deepnote_index_column": "2019-09-18 12:30:00-04:00"
        },
        {
         "Close": 58.9900016784668,
         "RSI": 45.34843404198368,
         "rsi_signal": 0,
         "rsi_position": 1,
         "_deepnote_index_column": "2019-09-18 13:30:00-04:00"
        },
        {
         "Close": 59.540000915527344,
         "RSI": 53.65743660572476,
         "rsi_signal": 0,
         "rsi_position": 1,
         "_deepnote_index_column": "2019-09-18 14:30:00-04:00"
        },
        {
         "Close": 59.72999954223633,
         "RSI": 56.13831054179055,
         "rsi_signal": 0,
         "rsi_position": 1,
         "_deepnote_index_column": "2019-09-18 15:30:00-04:00"
        },
        {
         "Close": 59.75,
         "RSI": 56.40289022981858,
         "rsi_signal": 0,
         "rsi_position": 1,
         "_deepnote_index_column": "2019-09-19 09:30:00-04:00"
        },
        {
         "Close": 59.709999084472656,
         "RSI": 55.67948600495384,
         "rsi_signal": 0,
         "rsi_position": 1,
         "_deepnote_index_column": "2019-09-19 10:30:00-04:00"
        },
        {
         "Close": 58.77109909057617,
         "RSI": 42.04762283889513,
         "rsi_signal": 0,
         "rsi_position": 1,
         "_deepnote_index_column": "2019-09-19 11:30:00-04:00"
        },
        {
         "Close": 58.7599983215332,
         "RSI": 41.91695517014483,
         "rsi_signal": 0,
         "rsi_position": 1,
         "_deepnote_index_column": "2019-09-19 12:30:00-04:00"
        },
        {
         "Close": 58.86009979248047,
         "RSI": 43.61846957729375,
         "rsi_signal": 0,
         "rsi_position": 1,
         "_deepnote_index_column": "2019-09-19 13:30:00-04:00"
        },
        {
         "Close": 58.900001525878906,
         "RSI": 44.31868508535832,
         "rsi_signal": 0,
         "rsi_position": 1,
         "_deepnote_index_column": "2019-09-19 14:30:00-04:00"
        },
        {
         "Close": 59.02999877929688,
         "RSI": 46.64360727636816,
         "rsi_signal": 0,
         "rsi_position": 1,
         "_deepnote_index_column": "2019-09-19 15:30:00-04:00"
        },
        {
         "Close": 58.27999877929688,
         "RSI": 37.03565670482214,
         "rsi_signal": 0,
         "rsi_position": 1,
         "_deepnote_index_column": "2019-09-20 09:30:00-04:00"
        },
        {
         "Close": 57.685001373291016,
         "RSI": 31.49329111023046,
         "rsi_signal": 0,
         "rsi_position": 1,
         "_deepnote_index_column": "2019-09-20 10:30:00-04:00"
        },
        {
         "Close": 57.41999816894531,
         "RSI": 29.384134810865675,
         "rsi_signal": 0,
         "rsi_position": 1,
         "_deepnote_index_column": "2019-09-20 11:30:00-04:00"
        },
        {
         "Close": 57.34000015258789,
         "RSI": 28.75800801053704,
         "rsi_signal": 0,
         "rsi_position": 1,
         "_deepnote_index_column": "2019-09-20 12:30:00-04:00"
        },
        {
         "Close": 57.45000076293945,
         "RSI": 30.937193353802755,
         "rsi_signal": 0,
         "rsi_position": 1,
         "_deepnote_index_column": "2019-09-20 13:30:00-04:00"
        },
        {
         "Close": 57.88010025024414,
         "RSI": 38.817511730381696,
         "rsi_signal": 0,
         "rsi_position": 1,
         "_deepnote_index_column": "2019-09-20 14:30:00-04:00"
        },
        {
         "Close": 57.83000183105469,
         "RSI": 38.269745946893046,
         "rsi_signal": 0,
         "rsi_position": 1,
         "_deepnote_index_column": "2019-09-20 15:30:00-04:00"
        },
        {
         "Close": 56.650001525878906,
         "RSI": 28.182211035507574,
         "rsi_signal": 0,
         "rsi_position": 1,
         "_deepnote_index_column": "2019-09-23 09:30:00-04:00"
        },
        {
         "Close": 56.790000915527344,
         "RSI": 30.52215009902648,
         "rsi_signal": 0,
         "rsi_position": 1,
         "_deepnote_index_column": "2019-09-23 10:30:00-04:00"
        },
        {
         "Close": 57,
         "RSI": 33.99605825253943,
         "rsi_signal": 0,
         "rsi_position": 1,
         "_deepnote_index_column": "2019-09-23 11:30:00-04:00"
        },
        {
         "Close": 56.68999862670898,
         "RSI": 31.492754719211646,
         "rsi_signal": 0,
         "rsi_position": 1,
         "_deepnote_index_column": "2019-09-23 12:30:00-04:00"
        },
        {
         "Close": 56.6599006652832,
         "RSI": 31.25213963460942,
         "rsi_signal": 0,
         "rsi_position": 1,
         "_deepnote_index_column": "2019-09-23 13:30:00-04:00"
        },
        {
         "Close": 56.7598991394043,
         "RSI": 33.081500439459674,
         "rsi_signal": 0,
         "rsi_position": 1,
         "_deepnote_index_column": "2019-09-23 14:30:00-04:00"
        },
        {
         "Close": 56.75,
         "RSI": 32.987920260755985,
         "rsi_signal": 0,
         "rsi_position": 1,
         "_deepnote_index_column": "2019-09-23 15:30:00-04:00"
        },
        {
         "Close": 56.790000915527344,
         "RSI": 33.802803606727224,
         "rsi_signal": 0,
         "rsi_position": 1,
         "_deepnote_index_column": "2019-09-24 09:30:00-04:00"
        },
        {
         "Close": 57.70000076293945,
         "RSI": 48.99744216880438,
         "rsi_signal": 0,
         "rsi_position": 1,
         "_deepnote_index_column": "2019-09-24 10:30:00-04:00"
        },
        {
         "Close": 56.25,
         "RSI": 35.151872336709914,
         "rsi_signal": 0,
         "rsi_position": 1,
         "_deepnote_index_column": "2019-09-24 11:30:00-04:00"
        },
        {
         "Close": 56.20000076293945,
         "RSI": 34.78683925415463,
         "rsi_signal": 0,
         "rsi_position": 1,
         "_deepnote_index_column": "2019-09-24 12:30:00-04:00"
        },
        {
         "Close": 57.09000015258789,
         "RSI": 45.61332039064736,
         "rsi_signal": 0,
         "rsi_position": 1,
         "_deepnote_index_column": "2019-09-24 13:30:00-04:00"
        },
        {
         "Close": 56.86000061035156,
         "RSI": 43.59890246955579,
         "rsi_signal": 0,
         "rsi_position": 1,
         "_deepnote_index_column": "2019-09-24 14:30:00-04:00"
        },
        {
         "Close": 57.52999877929688,
         "RSI": 50.46210430259836,
         "rsi_signal": 0,
         "rsi_position": 1,
         "_deepnote_index_column": "2019-09-24 15:30:00-04:00"
        },
        {
         "Close": 57.25,
         "RSI": 47.84201620067012,
         "rsi_signal": 0,
         "rsi_position": 1,
         "_deepnote_index_column": "2019-09-25 09:30:00-04:00"
        },
        {
         "Close": 57.900001525878906,
         "RSI": 53.83455049563226,
         "rsi_signal": 0,
         "rsi_position": 1,
         "_deepnote_index_column": "2019-09-25 10:30:00-04:00"
        },
        {
         "Close": 57.95000076293945,
         "RSI": 54.269788318720536,
         "rsi_signal": 0,
         "rsi_position": 1,
         "_deepnote_index_column": "2019-09-25 11:30:00-04:00"
        },
        {
         "Close": 57.9900016784668,
         "RSI": 54.63824854365595,
         "rsi_signal": 0,
         "rsi_position": 1,
         "_deepnote_index_column": "2019-09-25 12:30:00-04:00"
        },
        {
         "Close": 58.35639953613281,
         "RSI": 57.978125733979965,
         "rsi_signal": 0,
         "rsi_position": 1,
         "_deepnote_index_column": "2019-09-25 13:30:00-04:00"
        },
        {
         "Close": 58.80500030517578,
         "RSI": 61.69663902323026,
         "rsi_signal": 0,
         "rsi_position": 1,
         "_deepnote_index_column": "2019-09-25 14:30:00-04:00"
        },
        {
         "Close": 58.540000915527344,
         "RSI": 58.40857637776815,
         "rsi_signal": 0,
         "rsi_position": 1,
         "_deepnote_index_column": "2019-09-25 15:30:00-04:00"
        },
        {
         "Close": 60.994998931884766,
         "RSI": 72.84629617973096,
         "rsi_signal": -1,
         "rsi_position": 0,
         "_deepnote_index_column": "2019-09-26 09:30:00-04:00"
        },
        {
         "Close": 60.23500061035156,
         "RSI": 65.29033230233631,
         "rsi_signal": 0,
         "rsi_position": 0,
         "_deepnote_index_column": "2019-09-26 10:30:00-04:00"
        },
        {
         "Close": 60.43220138549805,
         "RSI": 66.26803039083875,
         "rsi_signal": 0,
         "rsi_position": 0,
         "_deepnote_index_column": "2019-09-26 11:30:00-04:00"
        },
        {
         "Close": 60.18000030517578,
         "RSI": 63.79316562759563,
         "rsi_signal": 0,
         "rsi_position": 0,
         "_deepnote_index_column": "2019-09-26 12:30:00-04:00"
        },
        {
         "Close": 60.79499816894531,
         "RSI": 67.02699625221422,
         "rsi_signal": 0,
         "rsi_position": 0,
         "_deepnote_index_column": "2019-09-26 13:30:00-04:00"
        },
        {
         "Close": 60.685001373291016,
         "RSI": 65.89339656209,
         "rsi_signal": 0,
         "rsi_position": 0,
         "_deepnote_index_column": "2019-09-26 14:30:00-04:00"
        }
       ],
       "rows_bottom": [
        {
         "Close": 236.7400054931641,
         "RSI": 40.95622476819152,
         "rsi_signal": 0,
         "rsi_position": 1,
         "_deepnote_index_column": "2021-07-16 10:30:00-04:00"
        },
        {
         "Close": 239.3300018310547,
         "RSI": 51.42058225906689,
         "rsi_signal": 0,
         "rsi_position": 1,
         "_deepnote_index_column": "2021-07-16 11:30:00-04:00"
        },
        {
         "Close": 238.49400329589844,
         "RSI": 48.43655525778603,
         "rsi_signal": 0,
         "rsi_position": 1,
         "_deepnote_index_column": "2021-07-16 12:30:00-04:00"
        },
        {
         "Close": 237.6909942626953,
         "RSI": 45.693588034749794,
         "rsi_signal": 0,
         "rsi_position": 1,
         "_deepnote_index_column": "2021-07-16 13:30:00-04:00"
        },
        {
         "Close": 237.264892578125,
         "RSI": 44.261240342174936,
         "rsi_signal": 0,
         "rsi_position": 1,
         "_deepnote_index_column": "2021-07-16 14:30:00-04:00"
        },
        {
         "Close": 237.55999755859372,
         "RSI": 45.53463086590183,
         "rsi_signal": 0,
         "rsi_position": 1,
         "_deepnote_index_column": "2021-07-16 15:30:00-04:00"
        },
        {
         "Close": 228.5399932861328,
         "RSI": 25.99005116903301,
         "rsi_signal": 0,
         "rsi_position": 1,
         "_deepnote_index_column": "2021-07-19 09:30:00-04:00"
        },
        {
         "Close": 231.9199981689453,
         "RSI": 36.91685443384272,
         "rsi_signal": 0,
         "rsi_position": 1,
         "_deepnote_index_column": "2021-07-19 10:30:00-04:00"
        },
        {
         "Close": 231.6100006103516,
         "RSI": 36.386255932548906,
         "rsi_signal": 0,
         "rsi_position": 1,
         "_deepnote_index_column": "2021-07-19 11:30:00-04:00"
        },
        {
         "Close": 230.59500122070312,
         "RSI": 34.63116115425707,
         "rsi_signal": 0,
         "rsi_position": 1,
         "_deepnote_index_column": "2021-07-19 12:30:00-04:00"
        },
        {
         "Close": 232.83450317382807,
         "RSI": 41.352878597817295,
         "rsi_signal": 0,
         "rsi_position": 1,
         "_deepnote_index_column": "2021-07-19 13:30:00-04:00"
        },
        {
         "Close": 232,
         "RSI": 39.71411756179195,
         "rsi_signal": 0,
         "rsi_position": 1,
         "_deepnote_index_column": "2021-07-19 14:30:00-04:00"
        },
        {
         "Close": 233.69000244140625,
         "RSI": 44.5100010342109,
         "rsi_signal": 0,
         "rsi_position": 1,
         "_deepnote_index_column": "2021-07-19 15:30:00-04:00"
        },
        {
         "Close": 236.32000732421875,
         "RSI": 51.03781403975066,
         "rsi_signal": 0,
         "rsi_position": 1,
         "_deepnote_index_column": "2021-07-20 09:30:00-04:00"
        },
        {
         "Close": 242.1000061035156,
         "RSI": 61.701178905109536,
         "rsi_signal": 0,
         "rsi_position": 1,
         "_deepnote_index_column": "2021-07-20 10:30:00-04:00"
        },
        {
         "Close": 241.9544982910156,
         "RSI": 61.33900807572947,
         "rsi_signal": 0,
         "rsi_position": 1,
         "_deepnote_index_column": "2021-07-20 11:30:00-04:00"
        },
        {
         "Close": 244.2050018310547,
         "RSI": 64.78219327888951,
         "rsi_signal": 0,
         "rsi_position": 1,
         "_deepnote_index_column": "2021-07-20 12:30:00-04:00"
        },
        {
         "Close": 246.2899932861328,
         "RSI": 67.65619949308126,
         "rsi_signal": 0,
         "rsi_position": 1,
         "_deepnote_index_column": "2021-07-20 13:30:00-04:00"
        },
        {
         "Close": 246.75,
         "RSI": 68.27140583133979,
         "rsi_signal": 0,
         "rsi_position": 1,
         "_deepnote_index_column": "2021-07-20 14:30:00-04:00"
        },
        {
         "Close": 246.5399932861328,
         "RSI": 67.63887771225083,
         "rsi_signal": 0,
         "rsi_position": 1,
         "_deepnote_index_column": "2021-07-20 15:30:00-04:00"
        },
        {
         "Close": 252.5,
         "RSI": 74.7802288214044,
         "rsi_signal": -1,
         "rsi_position": 0,
         "_deepnote_index_column": "2021-07-21 09:30:00-04:00"
        },
        {
         "Close": 252.33999633789065,
         "RSI": 74.30615122133098,
         "rsi_signal": 0,
         "rsi_position": 0,
         "_deepnote_index_column": "2021-07-21 10:30:00-04:00"
        },
        {
         "Close": 253.4499969482422,
         "RSI": 75.4680612387204,
         "rsi_signal": 0,
         "rsi_position": 0,
         "_deepnote_index_column": "2021-07-21 11:30:00-04:00"
        },
        {
         "Close": 256.31298828125,
         "RSI": 78.20565304134706,
         "rsi_signal": 0,
         "rsi_position": 0,
         "_deepnote_index_column": "2021-07-21 12:30:00-04:00"
        },
        {
         "Close": 258.3500061035156,
         "RSI": 79.92240659002385,
         "rsi_signal": 0,
         "rsi_position": 0,
         "_deepnote_index_column": "2021-07-21 13:30:00-04:00"
        },
        {
         "Close": 256.864990234375,
         "RSI": 75.26768609627354,
         "rsi_signal": 0,
         "rsi_position": 0,
         "_deepnote_index_column": "2021-07-21 14:30:00-04:00"
        },
        {
         "Close": 257.25,
         "RSI": 75.66342598681543,
         "rsi_signal": 0,
         "rsi_position": 0,
         "_deepnote_index_column": "2021-07-21 15:30:00-04:00"
        },
        {
         "Close": 261.4700012207031,
         "RSI": 79.52971625695363,
         "rsi_signal": 0,
         "rsi_position": 0,
         "_deepnote_index_column": "2021-07-22 09:30:00-04:00"
        },
        {
         "Close": 259.3299865722656,
         "RSI": 73.18051181140534,
         "rsi_signal": 0,
         "rsi_position": 0,
         "_deepnote_index_column": "2021-07-22 10:30:00-04:00"
        },
        {
         "Close": 259.5599975585937,
         "RSI": 73.42607434854312,
         "rsi_signal": 0,
         "rsi_position": 0,
         "_deepnote_index_column": "2021-07-22 11:30:00-04:00"
        },
        {
         "Close": 260.5299987792969,
         "RSI": 74.48699199999051,
         "rsi_signal": 0,
         "rsi_position": 0,
         "_deepnote_index_column": "2021-07-22 12:30:00-04:00"
        },
        {
         "Close": 260.9700012207031,
         "RSI": 74.97504474309639,
         "rsi_signal": 0,
         "rsi_position": 0,
         "_deepnote_index_column": "2021-07-22 13:30:00-04:00"
        },
        {
         "Close": 260.25,
         "RSI": 72.5300065939112,
         "rsi_signal": 0,
         "rsi_position": 0,
         "_deepnote_index_column": "2021-07-22 14:30:00-04:00"
        },
        {
         "Close": 260.6000061035156,
         "RSI": 72.99111457264463,
         "rsi_signal": 0,
         "rsi_position": 0,
         "_deepnote_index_column": "2021-07-22 15:30:00-04:00"
        },
        {
         "Close": 265.1700134277344,
         "RSI": 78.1487085802193,
         "rsi_signal": 0,
         "rsi_position": 0,
         "_deepnote_index_column": "2021-07-23 09:30:00-04:00"
        },
        {
         "Close": 264.2900085449219,
         "RSI": 75.17191333323245,
         "rsi_signal": 0,
         "rsi_position": 0,
         "_deepnote_index_column": "2021-07-23 10:30:00-04:00"
        },
        {
         "Close": 263.6000061035156,
         "RSI": 72.82938930089827,
         "rsi_signal": 0,
         "rsi_position": 0,
         "_deepnote_index_column": "2021-07-23 11:30:00-04:00"
        },
        {
         "Close": 263.1000061035156,
         "RSI": 71.10035239126836,
         "rsi_signal": 0,
         "rsi_position": 0,
         "_deepnote_index_column": "2021-07-23 12:30:00-04:00"
        },
        {
         "Close": 263.8299865722656,
         "RSI": 72.14027343121472,
         "rsi_signal": 0,
         "rsi_position": 0,
         "_deepnote_index_column": "2021-07-23 13:30:00-04:00"
        },
        {
         "Close": 263.8399963378906,
         "RSI": 72.15506966910759,
         "rsi_signal": 0,
         "rsi_position": 0,
         "_deepnote_index_column": "2021-07-23 14:30:00-04:00"
        },
        {
         "Close": 264.07000732421875,
         "RSI": 72.51627931278662,
         "rsi_signal": 0,
         "rsi_position": 0,
         "_deepnote_index_column": "2021-07-23 15:30:00-04:00"
        },
        {
         "Close": 263.79998779296875,
         "RSI": 71.34619992290044,
         "rsi_signal": 0,
         "rsi_position": 0,
         "_deepnote_index_column": "2021-07-26 09:30:00-04:00"
        },
        {
         "Close": 261.90008544921875,
         "RSI": 63.57342313426679,
         "rsi_signal": 0,
         "rsi_position": 0,
         "_deepnote_index_column": "2021-07-26 10:30:00-04:00"
        },
        {
         "Close": 262.4599914550781,
         "RSI": 64.79081352999135,
         "rsi_signal": 0,
         "rsi_position": 0,
         "_deepnote_index_column": "2021-07-26 11:30:00-04:00"
        },
        {
         "Close": 262.6000061035156,
         "RSI": 65.10487832630281,
         "rsi_signal": 0,
         "rsi_position": 0,
         "_deepnote_index_column": "2021-07-26 12:30:00-04:00"
        },
        {
         "Close": 261.5639953613281,
         "RSI": 60.78440892352515,
         "rsi_signal": 0,
         "rsi_position": 0,
         "_deepnote_index_column": "2021-07-26 13:30:00-04:00"
        },
        {
         "Close": 262.54998779296875,
         "RSI": 63.281833575893735,
         "rsi_signal": 0,
         "rsi_position": 0,
         "_deepnote_index_column": "2021-07-26 14:30:00-04:00"
        },
        {
         "Close": 262.04998779296875,
         "RSI": 61.15493753736774,
         "rsi_signal": 0,
         "rsi_position": 0,
         "_deepnote_index_column": "2021-07-26 15:30:00-04:00"
        },
        {
         "Close": 253.86720275878903,
         "RSI": 38.40530955063534,
         "rsi_signal": 0,
         "rsi_position": 0,
         "_deepnote_index_column": "2021-07-27 09:30:00-04:00"
        },
        {
         "Close": 246.5540008544922,
         "RSI": 28.279914625214246,
         "rsi_signal": 1,
         "rsi_position": 1,
         "_deepnote_index_column": "2021-07-27 10:30:00-04:00"
        },
        {
         "Close": 248.9900054931641,
         "RSI": 34.47676829855696,
         "rsi_signal": 0,
         "rsi_position": 1,
         "_deepnote_index_column": "2021-07-27 11:30:00-04:00"
        },
        {
         "Close": 247.6300048828125,
         "RSI": 32.774186300491564,
         "rsi_signal": 0,
         "rsi_position": 1,
         "_deepnote_index_column": "2021-07-27 12:30:00-04:00"
        },
        {
         "Close": 250.6100006103516,
         "RSI": 39.790481639076006,
         "rsi_signal": 0,
         "rsi_position": 1,
         "_deepnote_index_column": "2021-07-27 13:30:00-04:00"
        },
        {
         "Close": 252.2700042724609,
         "RSI": 43.33813168298872,
         "rsi_signal": 0,
         "rsi_position": 1,
         "_deepnote_index_column": "2021-07-27 14:30:00-04:00"
        },
        {
         "Close": 251.72999572753903,
         "RSI": 42.461638312988526,
         "rsi_signal": 0,
         "rsi_position": 1,
         "_deepnote_index_column": "2021-07-27 15:30:00-04:00"
        },
        {
         "Close": 256.29998779296875,
         "RSI": 51.416636917771534,
         "rsi_signal": 0,
         "rsi_position": 1,
         "_deepnote_index_column": "2021-07-28 09:30:00-04:00"
        },
        {
         "Close": 258.4150085449219,
         "RSI": 54.913946837065645,
         "rsi_signal": 0,
         "rsi_position": 1,
         "_deepnote_index_column": "2021-07-28 10:30:00-04:00"
        },
        {
         "Close": 258.95001220703125,
         "RSI": 55.781071551426656,
         "rsi_signal": 0,
         "rsi_position": 1,
         "_deepnote_index_column": "2021-07-28 11:30:00-04:00"
        },
        {
         "Close": 257.0400085449219,
         "RSI": 51.94040333078087,
         "rsi_signal": 0,
         "rsi_position": 1,
         "_deepnote_index_column": "2021-07-28 12:30:00-04:00"
        },
        {
         "Close": 258.4800109863281,
         "RSI": 54.48482934063475,
         "rsi_signal": 0,
         "rsi_position": 1,
         "_deepnote_index_column": "2021-07-28 13:30:00-04:00"
        },
        {
         "Close": 259.7099914550781,
         "RSI": 56.59848512786056,
         "rsi_signal": 0,
         "rsi_position": 1,
         "_deepnote_index_column": "2021-07-28 14:30:00-04:00"
        },
        {
         "Close": 258.4700012207031,
         "RSI": 53.8818856878521,
         "rsi_signal": 0,
         "rsi_position": 1,
         "_deepnote_index_column": "2021-07-28 15:30:00-04:00"
        },
        {
         "Close": 259.70001220703125,
         "RSI": 56.13120894995631,
         "rsi_signal": 0,
         "rsi_position": 1,
         "_deepnote_index_column": "2021-07-29 09:30:00-04:00"
        },
        {
         "Close": 260.1900939941406,
         "RSI": 57.03046880237724,
         "rsi_signal": 0,
         "rsi_position": 1,
         "_deepnote_index_column": "2021-07-29 10:30:00-04:00"
        },
        {
         "Close": 260.2200012207031,
         "RSI": 57.08827810643131,
         "rsi_signal": 0,
         "rsi_position": 1,
         "_deepnote_index_column": "2021-07-29 11:30:00-04:00"
        },
        {
         "Close": 257.864990234375,
         "RSI": 51.24217874108189,
         "rsi_signal": 0,
         "rsi_position": 1,
         "_deepnote_index_column": "2021-07-29 12:30:00-04:00"
        },
        {
         "Close": 255.4700927734375,
         "RSI": 46.074895400881125,
         "rsi_signal": 0,
         "rsi_position": 1,
         "_deepnote_index_column": "2021-07-29 13:30:00-04:00"
        },
        {
         "Close": 254.93499755859372,
         "RSI": 44.98341500725757,
         "rsi_signal": 0,
         "rsi_position": 1,
         "_deepnote_index_column": "2021-07-29 14:30:00-04:00"
        },
        {
         "Close": 255.2700042724609,
         "RSI": 45.84832438774067,
         "rsi_signal": 0,
         "rsi_position": 1,
         "_deepnote_index_column": "2021-07-29 15:30:00-04:00"
        },
        {
         "Close": 251.60499572753903,
         "RSI": 38.6834533242956,
         "rsi_signal": 0,
         "rsi_position": 1,
         "_deepnote_index_column": "2021-07-30 09:30:00-04:00"
        },
        {
         "Close": 248.32000732421875,
         "RSI": 33.613112301369256,
         "rsi_signal": 0,
         "rsi_position": 1,
         "_deepnote_index_column": "2021-07-30 10:30:00-04:00"
        },
        {
         "Close": 247.17999267578125,
         "RSI": 32.043428471219855,
         "rsi_signal": 0,
         "rsi_position": 1,
         "_deepnote_index_column": "2021-07-30 11:30:00-04:00"
        },
        {
         "Close": 247.5984039306641,
         "RSI": 33.275027871629675,
         "rsi_signal": 0,
         "rsi_position": 1,
         "_deepnote_index_column": "2021-07-30 12:30:00-04:00"
        },
        {
         "Close": 245.7700042724609,
         "RSI": 30.660076042982357,
         "rsi_signal": 0,
         "rsi_position": 1,
         "_deepnote_index_column": "2021-07-30 13:30:00-04:00"
        },
        {
         "Close": 245.9199981689453,
         "RSI": 31.138167496070835,
         "rsi_signal": 0,
         "rsi_position": 1,
         "_deepnote_index_column": "2021-07-30 14:30:00-04:00"
        },
        {
         "Close": 247.25,
         "RSI": 35.39197119630708,
         "rsi_signal": 0,
         "rsi_position": 1,
         "_deepnote_index_column": "2021-07-30 15:30:00-04:00"
        },
        {
         "Close": 269.95001220703125,
         "RSI": 69.7446120985707,
         "rsi_signal": 0,
         "rsi_position": 1,
         "_deepnote_index_column": "2021-08-02 09:30:00-04:00"
        },
        {
         "Close": 275.239990234375,
         "RSI": 73.30658229953023,
         "rsi_signal": -1,
         "rsi_position": 0,
         "_deepnote_index_column": "2021-08-02 10:30:00-04:00"
        },
        {
         "Close": 275.19000244140625,
         "RSI": 73.21886095035569,
         "rsi_signal": 0,
         "rsi_position": 0,
         "_deepnote_index_column": "2021-08-02 11:30:00-04:00"
        },
        {
         "Close": 276.32000732421875,
         "RSI": 73.97695227970584,
         "rsi_signal": 0,
         "rsi_position": 0,
         "_deepnote_index_column": "2021-08-02 12:30:00-04:00"
        },
        {
         "Close": 279.6247863769531,
         "RSI": 76.10709289042006,
         "rsi_signal": 0,
         "rsi_position": 0,
         "_deepnote_index_column": "2021-08-02 13:30:00-04:00"
        },
        {
         "Close": 273.1388854980469,
         "RSI": 64.88206697336383,
         "rsi_signal": 0,
         "rsi_position": 0,
         "_deepnote_index_column": "2021-08-02 14:30:00-04:00"
        },
        {
         "Close": 272.3999938964844,
         "RSI": 63.72889595179554,
         "rsi_signal": 0,
         "rsi_position": 0,
         "_deepnote_index_column": "2021-08-02 15:30:00-04:00"
        },
        {
         "Close": 266.0799865722656,
         "RSI": 54.76328180258665,
         "rsi_signal": 0,
         "rsi_position": 0,
         "_deepnote_index_column": "2021-08-03 09:30:00-04:00"
        },
        {
         "Close": 263.3099975585937,
         "RSI": 51.35326249759508,
         "rsi_signal": 0,
         "rsi_position": 0,
         "_deepnote_index_column": "2021-08-03 10:30:00-04:00"
        },
        {
         "Close": 271.67999267578125,
         "RSI": 59.54963452890933,
         "rsi_signal": 0,
         "rsi_position": 0,
         "_deepnote_index_column": "2021-08-03 11:30:00-04:00"
        },
        {
         "Close": 268.8900146484375,
         "RSI": 56.15335141160018,
         "rsi_signal": 0,
         "rsi_position": 0,
         "_deepnote_index_column": "2021-08-03 12:30:00-04:00"
        },
        {
         "Close": 266.9849853515625,
         "RSI": 53.89316612449326,
         "rsi_signal": 0,
         "rsi_position": 0,
         "_deepnote_index_column": "2021-08-03 13:30:00-04:00"
        },
        {
         "Close": 269.6798095703125,
         "RSI": 56.55696820831437,
         "rsi_signal": 0,
         "rsi_position": 0,
         "_deepnote_index_column": "2021-08-03 14:30:00-04:00"
        },
        {
         "Close": 269.3999938964844,
         "RSI": 56.19392999658841,
         "rsi_signal": 0,
         "rsi_position": 0,
         "_deepnote_index_column": "2021-08-03 15:30:00-04:00"
        },
        {
         "Close": 263.5899963378906,
         "RSI": 49.14058486305854,
         "rsi_signal": 0,
         "rsi_position": 0,
         "_deepnote_index_column": "2021-08-04 09:30:00-04:00"
        },
        {
         "Close": 265.6600036621094,
         "RSI": 51.47743106430032,
         "rsi_signal": 0,
         "rsi_position": 0,
         "_deepnote_index_column": "2021-08-04 10:30:00-04:00"
        },
        {
         "Close": 265.4100036621094,
         "RSI": 51.171628714108415,
         "rsi_signal": 0,
         "rsi_position": 0,
         "_deepnote_index_column": "2021-08-04 11:30:00-04:00"
        },
        {
         "Close": 266.4849853515625,
         "RSI": 52.4788720455278,
         "rsi_signal": 0,
         "rsi_position": 0,
         "_deepnote_index_column": "2021-08-04 12:30:00-04:00"
        },
        {
         "Close": 265.9200134277344,
         "RSI": 51.69553669129783,
         "rsi_signal": 0,
         "rsi_position": 0,
         "_deepnote_index_column": "2021-08-04 13:30:00-04:00"
        },
        {
         "Close": 265.5,
         "RSI": 51.08504742986717,
         "rsi_signal": 0,
         "rsi_position": 0,
         "_deepnote_index_column": "2021-08-04 14:30:00-04:00"
        },
        {
         "Close": 266.45001220703125,
         "RSI": 52.45277882267458,
         "rsi_signal": 0,
         "rsi_position": 0,
         "_deepnote_index_column": "2021-08-04 15:30:00-04:00"
        },
        {
         "Close": 278.2344970703125,
         "RSI": 65.38318974009778,
         "rsi_signal": 0,
         "rsi_position": 0,
         "_deepnote_index_column": "2021-08-05 09:30:00-04:00"
        },
        {
         "Close": 287.25,
         "RSI": 71.71952234395063,
         "rsi_signal": 0,
         "rsi_position": 0,
         "_deepnote_index_column": "2021-08-05 10:30:00-04:00"
        },
        {
         "Close": 287.32000732421875,
         "RSI": 71.76274501453973,
         "rsi_signal": 0,
         "rsi_position": 0,
         "_deepnote_index_column": "2021-08-05 11:30:00-04:00"
        },
        {
         "Close": 283.7300109863281,
         "RSI": 66.17716562091542,
         "rsi_signal": 0,
         "rsi_position": 0,
         "_deepnote_index_column": "2021-08-05 12:30:00-04:00"
        },
        {
         "Close": 283.8900146484375,
         "RSI": 66.30305246579766,
         "rsi_signal": 0,
         "rsi_position": 0,
         "_deepnote_index_column": "2021-08-05 13:30:00-04:00"
        },
        {
         "Close": 282.4599914550781,
         "RSI": 64.00998966578655,
         "rsi_signal": 0,
         "rsi_position": 0,
         "_deepnote_index_column": "2021-08-05 14:30:00-04:00"
        },
        {
         "Close": 281.79998779296875,
         "RSI": 62.9282664727926,
         "rsi_signal": 0,
         "rsi_position": 0,
         "_deepnote_index_column": "2021-08-05 15:30:00-04:00"
        },
        {
         "Close": 279.1000061035156,
         "RSI": 58.56786073461764,
         "rsi_signal": 0,
         "rsi_position": 0,
         "_deepnote_index_column": "2021-08-06 09:30:00-04:00"
        },
        {
         "Close": 277.2200012207031,
         "RSI": 55.67502105377608,
         "rsi_signal": 0,
         "rsi_position": 0,
         "_deepnote_index_column": "2021-08-06 10:30:00-04:00"
        },
        {
         "Close": 278.6400146484375,
         "RSI": 57.38710176734185,
         "rsi_signal": 0,
         "rsi_position": 0,
         "_deepnote_index_column": "2021-08-06 11:30:00-04:00"
        },
        {
         "Close": 276.6119079589844,
         "RSI": 54.16893165539531,
         "rsi_signal": 0,
         "rsi_position": 0,
         "_deepnote_index_column": "2021-08-06 12:30:00-04:00"
        },
        {
         "Close": 276.2349853515625,
         "RSI": 53.567697345559125,
         "rsi_signal": 0,
         "rsi_position": 0,
         "_deepnote_index_column": "2021-08-06 13:30:00-04:00"
        },
        {
         "Close": 276.0409851074219,
         "RSI": 53.240154913681685,
         "rsi_signal": 0,
         "rsi_position": 0,
         "_deepnote_index_column": "2021-08-06 14:30:00-04:00"
        },
        {
         "Close": 275.06500244140625,
         "RSI": 51.532993929250736,
         "rsi_signal": 0,
         "rsi_position": 0,
         "_deepnote_index_column": "2021-08-06 15:30:00-04:00"
        },
        {
         "Close": 281.2298889160156,
         "RSI": 60.21175303200712,
         "rsi_signal": 0,
         "rsi_position": 0,
         "_deepnote_index_column": "2021-08-09 09:30:00-04:00"
        },
        {
         "Close": 280.7699890136719,
         "RSI": 59.35784231611696,
         "rsi_signal": 0,
         "rsi_position": 0,
         "_deepnote_index_column": "2021-08-09 10:30:00-04:00"
        },
        {
         "Close": 282.9848022460937,
         "RSI": 62.142319533602425,
         "rsi_signal": 0,
         "rsi_position": 0,
         "_deepnote_index_column": "2021-08-09 11:30:00-04:00"
        },
        {
         "Close": 284.364990234375,
         "RSI": 63.8064373265033,
         "rsi_signal": 0,
         "rsi_position": 0,
         "_deepnote_index_column": "2021-08-09 12:30:00-04:00"
        },
        {
         "Close": 282.67999267578125,
         "RSI": 60.320339607273134,
         "rsi_signal": 0,
         "rsi_position": 0,
         "_deepnote_index_column": "2021-08-09 13:30:00-04:00"
        },
        {
         "Close": 280.5799865722656,
         "RSI": 56.199254535762,
         "rsi_signal": 0,
         "rsi_position": 0,
         "_deepnote_index_column": "2021-08-09 14:30:00-04:00"
        },
        {
         "Close": 279.7099914550781,
         "RSI": 54.5369165715866,
         "rsi_signal": 0,
         "rsi_position": 0,
         "_deepnote_index_column": "2021-08-09 15:30:00-04:00"
        },
        {
         "Close": 278.1571960449219,
         "RSI": 51.603012363740206,
         "rsi_signal": 0,
         "rsi_position": 0,
         "_deepnote_index_column": "2021-08-10 09:30:00-04:00"
        },
        {
         "Close": 277.5,
         "RSI": 50.36798851749482,
         "rsi_signal": 0,
         "rsi_position": 0,
         "_deepnote_index_column": "2021-08-10 10:30:00-04:00"
        },
        {
         "Close": 277.697998046875,
         "RSI": 50.75041985247875,
         "rsi_signal": 0,
         "rsi_position": 0,
         "_deepnote_index_column": "2021-08-10 11:30:00-04:00"
        },
        {
         "Close": 276.7699890136719,
         "RSI": 48.85049449992493,
         "rsi_signal": 0,
         "rsi_position": 0,
         "_deepnote_index_column": "2021-08-10 12:30:00-04:00"
        },
        {
         "Close": 275.375,
         "RSI": 46.05913396894148,
         "rsi_signal": 0,
         "rsi_position": 0,
         "_deepnote_index_column": "2021-08-10 13:30:00-04:00"
        },
        {
         "Close": 274.04998779296875,
         "RSI": 43.51566541082736,
         "rsi_signal": 0,
         "rsi_position": 0,
         "_deepnote_index_column": "2021-08-10 14:30:00-04:00"
        },
        {
         "Close": 272.92999267578125,
         "RSI": 41.4329159176754,
         "rsi_signal": 0,
         "rsi_position": 0,
         "_deepnote_index_column": "2021-08-10 15:30:00-04:00"
        }
       ]
      },
      "text/plain": "                                Close        RSI  rsi_signal  rsi_position\nDatetime                                                                  \n2019-09-03 09:30:00-04:00   62.959999        NaN           0             1\n2019-09-03 10:30:00-04:00   62.320000   0.000000           0             1\n2019-09-03 11:30:00-04:00   62.000000   0.000000           0             1\n2019-09-03 12:30:00-04:00   61.774899   0.000000           0             1\n2019-09-03 13:30:00-04:00   61.360001   0.000000           0             1\n...                               ...        ...         ...           ...\n2021-08-10 11:30:00-04:00  277.697998  50.750420           0             0\n2021-08-10 12:30:00-04:00  276.769989  48.850494           0             0\n2021-08-10 13:30:00-04:00  275.375000  46.059134           0             0\n2021-08-10 14:30:00-04:00  274.049988  43.515665           0             0\n2021-08-10 15:30:00-04:00  272.929993  41.432916           0             0\n\n[3411 rows x 4 columns]",
      "text/html": "<div>\n<style scoped>\n    .dataframe tbody tr th:only-of-type {\n        vertical-align: middle;\n    }\n\n    .dataframe tbody tr th {\n        vertical-align: top;\n    }\n\n    .dataframe thead th {\n        text-align: right;\n    }\n</style>\n<table border=\"1\" class=\"dataframe\">\n  <thead>\n    <tr style=\"text-align: right;\">\n      <th></th>\n      <th>Close</th>\n      <th>RSI</th>\n      <th>rsi_signal</th>\n      <th>rsi_position</th>\n    </tr>\n    <tr>\n      <th>Datetime</th>\n      <th></th>\n      <th></th>\n      <th></th>\n      <th></th>\n    </tr>\n  </thead>\n  <tbody>\n    <tr>\n      <th>2019-09-03 09:30:00-04:00</th>\n      <td>62.959999</td>\n      <td>NaN</td>\n      <td>0</td>\n      <td>1</td>\n    </tr>\n    <tr>\n      <th>2019-09-03 10:30:00-04:00</th>\n      <td>62.320000</td>\n      <td>0.000000</td>\n      <td>0</td>\n      <td>1</td>\n    </tr>\n    <tr>\n      <th>2019-09-03 11:30:00-04:00</th>\n      <td>62.000000</td>\n      <td>0.000000</td>\n      <td>0</td>\n      <td>1</td>\n    </tr>\n    <tr>\n      <th>2019-09-03 12:30:00-04:00</th>\n      <td>61.774899</td>\n      <td>0.000000</td>\n      <td>0</td>\n      <td>1</td>\n    </tr>\n    <tr>\n      <th>2019-09-03 13:30:00-04:00</th>\n      <td>61.360001</td>\n      <td>0.000000</td>\n      <td>0</td>\n      <td>1</td>\n    </tr>\n    <tr>\n      <th>...</th>\n      <td>...</td>\n      <td>...</td>\n      <td>...</td>\n      <td>...</td>\n    </tr>\n    <tr>\n      <th>2021-08-10 11:30:00-04:00</th>\n      <td>277.697998</td>\n      <td>50.750420</td>\n      <td>0</td>\n      <td>0</td>\n    </tr>\n    <tr>\n      <th>2021-08-10 12:30:00-04:00</th>\n      <td>276.769989</td>\n      <td>48.850494</td>\n      <td>0</td>\n      <td>0</td>\n    </tr>\n    <tr>\n      <th>2021-08-10 13:30:00-04:00</th>\n      <td>275.375000</td>\n      <td>46.059134</td>\n      <td>0</td>\n      <td>0</td>\n    </tr>\n    <tr>\n      <th>2021-08-10 14:30:00-04:00</th>\n      <td>274.049988</td>\n      <td>43.515665</td>\n      <td>0</td>\n      <td>0</td>\n    </tr>\n    <tr>\n      <th>2021-08-10 15:30:00-04:00</th>\n      <td>272.929993</td>\n      <td>41.432916</td>\n      <td>0</td>\n      <td>0</td>\n    </tr>\n  </tbody>\n</table>\n<p>3411 rows × 4 columns</p>\n</div>"
     },
     "metadata": {}
    }
   ],
   "execution_count": 17
  },
  {
   "cell_type": "markdown",
   "source": "<a style='text-decoration:none;line-height:16px;display:flex;color:#5B5B62;padding:10px;justify-content:end;' href='https://deepnote.com?utm_source=created-in-deepnote-cell&projectId=d12c285c-6789-4c45-9ad7-1be9b4d60622' target=\"_blank\">\n<img alt='Created in deepnote.com' style='display:inline;max-height:16px;margin:0px;margin-right:7.5px;' src='data:image/svg+xml;base64,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' > </img>\nCreated in <span style='font-weight:600;margin-left:4px;'>Deepnote</span></a>",
   "metadata": {
    "tags": [],
    "created_in_deepnote_cell": true,
    "deepnote_cell_type": "markdown"
   }
  }
 ],
 "nbformat": 4,
 "nbformat_minor": 2,
 "metadata": {
  "orig_nbformat": 2,
  "deepnote": {
   "is_reactive": false
  },
  "deepnote_notebook_id": "91c30c21-1310-4f82-8685-2b304f79c10c",
  "deepnote_execution_queue": []
 }
}