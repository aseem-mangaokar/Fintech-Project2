{
 "cells": [
  {
   "cell_type": "code",
   "metadata": {
    "tags": [],
    "cell_id": "00000-7fd4b80c-6000-48ad-a223-1ac5f1ef5fa2",
    "deepnote_to_be_reexecuted": false,
    "source_hash": "32367b8d",
    "execution_start": 1628362633055,
    "execution_millis": 7,
    "deepnote_cell_type": "code"
   },
   "source": "import datetime as dt\nfrom pathlib import Path\nimport requests\nimport pandas as pd\nimport numpy as np\nfrom math import floor\nfrom termcolor import colored as cl\nimport matplotlib.pyplot as plt\nplt.close('all')\nimport yfinance as yf\nplt.rcParams['figure.figsize'] = (20, 10)\nplt.style.use('fivethirtyeight')",
   "execution_count": 34,
   "outputs": []
  },
  {
   "cell_type": "code",
   "source": "csv_path = Path(\"Resources/SQ Hourly Close.csv\")\nsq_1hr = pd.read_csv(csv_path, index_col=0, infer_datetime_format=True)\nsq_1hr.reset_index(inplace=True)\nsq_1hr.rename(columns = {'index':'Datetime'}, inplace = True)\nsq_1hr.set_index(pd.to_datetime(sq_1hr['Datetime'],infer_datetime_format=True),inplace=True)\nsq_1hr.head()",
   "metadata": {
    "tags": [],
    "cell_id": "00001-a0576c84-3e23-482f-b52b-41161e3e68b2",
    "deepnote_to_be_reexecuted": false,
    "source_hash": "e7101364",
    "execution_start": 1628362633733,
    "execution_millis": 499,
    "deepnote_cell_type": "code"
   },
   "outputs": [
    {
     "output_type": "execute_result",
     "execution_count": 35,
     "data": {
      "application/vnd.deepnote.dataframe.v2+json": {
       "row_count": 5,
       "column_count": 2,
       "columns": [
        {
         "name": "Datetime",
         "dtype": "object",
         "stats": {
          "unique_count": 5,
          "nan_count": 0,
          "categories": [
           {
            "name": "2019-09-03 09:30:00-04:00",
            "count": 1
           },
           {
            "name": "2019-09-03 10:30:00-04:00",
            "count": 1
           },
           {
            "name": "3 others",
            "count": 3
           }
          ]
         }
        },
        {
         "name": "Close",
         "dtype": "float64",
         "stats": {
          "unique_count": 5,
          "nan_count": 0,
          "min": "61.36000061035156",
          "max": "62.959999084472656",
          "histogram": [
           {
            "bin_start": 61.36000061035156,
            "bin_end": 61.52000045776367,
            "count": 1
           },
           {
            "bin_start": 61.52000045776367,
            "bin_end": 61.68000030517578,
            "count": 0
           },
           {
            "bin_start": 61.68000030517578,
            "bin_end": 61.84000015258789,
            "count": 1
           },
           {
            "bin_start": 61.84000015258789,
            "bin_end": 62,
            "count": 0
           },
           {
            "bin_start": 62,
            "bin_end": 62.15999984741211,
            "count": 1
           },
           {
            "bin_start": 62.15999984741211,
            "bin_end": 62.31999969482422,
            "count": 0
           },
           {
            "bin_start": 62.31999969482422,
            "bin_end": 62.47999954223633,
            "count": 1
           },
           {
            "bin_start": 62.47999954223633,
            "bin_end": 62.63999938964844,
            "count": 0
           },
           {
            "bin_start": 62.63999938964844,
            "bin_end": 62.79999923706055,
            "count": 0
           },
           {
            "bin_start": 62.79999923706055,
            "bin_end": 62.959999084472656,
            "count": 1
           }
          ]
         }
        },
        {
         "name": "_deepnote_index_column",
         "dtype": "datetime64[ns, tzoffset(None, -14400)]"
        }
       ],
       "rows_top": [
        {
         "Datetime": "2019-09-03 09:30:00-04:00",
         "Close": 62.959999084472656,
         "_deepnote_index_column": "2019-09-03T09:30:00.000000"
        },
        {
         "Datetime": "2019-09-03 10:30:00-04:00",
         "Close": 62.31999969482422,
         "_deepnote_index_column": "2019-09-03T10:30:00.000000"
        },
        {
         "Datetime": "2019-09-03 11:30:00-04:00",
         "Close": 62,
         "_deepnote_index_column": "2019-09-03T11:30:00.000000"
        },
        {
         "Datetime": "2019-09-03 12:30:00-04:00",
         "Close": 61.774898529052734,
         "_deepnote_index_column": "2019-09-03T12:30:00.000000"
        },
        {
         "Datetime": "2019-09-03 13:30:00-04:00",
         "Close": 61.36000061035156,
         "_deepnote_index_column": "2019-09-03T13:30:00.000000"
        }
       ],
       "rows_bottom": null
      },
      "text/plain": "                                            Datetime      Close\nDatetime                                                       \n2019-09-03 09:30:00-04:00  2019-09-03 09:30:00-04:00  62.959999\n2019-09-03 10:30:00-04:00  2019-09-03 10:30:00-04:00  62.320000\n2019-09-03 11:30:00-04:00  2019-09-03 11:30:00-04:00  62.000000\n2019-09-03 12:30:00-04:00  2019-09-03 12:30:00-04:00  61.774899\n2019-09-03 13:30:00-04:00  2019-09-03 13:30:00-04:00  61.360001",
      "text/html": "<div>\n<style scoped>\n    .dataframe tbody tr th:only-of-type {\n        vertical-align: middle;\n    }\n\n    .dataframe tbody tr th {\n        vertical-align: top;\n    }\n\n    .dataframe thead th {\n        text-align: right;\n    }\n</style>\n<table border=\"1\" class=\"dataframe\">\n  <thead>\n    <tr style=\"text-align: right;\">\n      <th></th>\n      <th>Datetime</th>\n      <th>Close</th>\n    </tr>\n    <tr>\n      <th>Datetime</th>\n      <th></th>\n      <th></th>\n    </tr>\n  </thead>\n  <tbody>\n    <tr>\n      <th>2019-09-03 09:30:00-04:00</th>\n      <td>2019-09-03 09:30:00-04:00</td>\n      <td>62.959999</td>\n    </tr>\n    <tr>\n      <th>2019-09-03 10:30:00-04:00</th>\n      <td>2019-09-03 10:30:00-04:00</td>\n      <td>62.320000</td>\n    </tr>\n    <tr>\n      <th>2019-09-03 11:30:00-04:00</th>\n      <td>2019-09-03 11:30:00-04:00</td>\n      <td>62.000000</td>\n    </tr>\n    <tr>\n      <th>2019-09-03 12:30:00-04:00</th>\n      <td>2019-09-03 12:30:00-04:00</td>\n      <td>61.774899</td>\n    </tr>\n    <tr>\n      <th>2019-09-03 13:30:00-04:00</th>\n      <td>2019-09-03 13:30:00-04:00</td>\n      <td>61.360001</td>\n    </tr>\n  </tbody>\n</table>\n</div>"
     },
     "metadata": {}
    }
   ],
   "execution_count": 35
  },
  {
   "cell_type": "code",
   "source": "sq_diff = sq_1hr['Close'].diff()\nup = sq_diff.clip(lower=0)\ndown = -1*sq_diff.clip(upper=0)\nema_up = up.ewm(com=20, adjust=False).mean()\nema_down = down.ewm(com=20, adjust=False).mean()\nrs = ema_up/ema_down\nrs",
   "metadata": {
    "tags": [],
    "cell_id": "00003-8b7a3c79-056f-4ddd-92bc-d2b90d870a64",
    "deepnote_to_be_reexecuted": false,
    "source_hash": "68138a5e",
    "execution_start": 1628362634754,
    "execution_millis": 17,
    "deepnote_cell_type": "code"
   },
   "outputs": [
    {
     "output_type": "execute_result",
     "execution_count": 36,
     "data": {
      "text/plain": "Datetime\n2019-09-03 09:30:00-04:00         NaN\n2019-09-03 10:30:00-04:00    0.000000\n2019-09-03 11:30:00-04:00    0.000000\n2019-09-03 12:30:00-04:00    0.000000\n2019-09-03 13:30:00-04:00    0.000000\n                               ...   \n2021-08-06 11:30:00-04:00    1.373840\n2021-08-06 12:30:00-04:00    1.259652\n2021-08-06 13:30:00-04:00    1.239547\n2021-08-06 14:30:00-04:00    1.228946\n2021-08-06 15:30:00-04:00    1.175830\nName: Close, Length: 3397, dtype: float64"
     },
     "metadata": {}
    }
   ],
   "execution_count": 36
  },
  {
   "cell_type": "code",
   "source": "sq_1hr['RSI'] = 100 - (100/(1 + rs))\nsq_1hr['RSI'] ",
   "metadata": {
    "tags": [],
    "cell_id": "00003-eec64713-d6a6-451a-98fa-4457acca66e9",
    "deepnote_to_be_reexecuted": false,
    "source_hash": "e098346",
    "execution_start": 1628362635514,
    "execution_millis": 18,
    "deepnote_cell_type": "code"
   },
   "outputs": [
    {
     "output_type": "execute_result",
     "execution_count": 37,
     "data": {
      "text/plain": "Datetime\n2019-09-03 09:30:00-04:00          NaN\n2019-09-03 10:30:00-04:00     0.000000\n2019-09-03 11:30:00-04:00     0.000000\n2019-09-03 12:30:00-04:00     0.000000\n2019-09-03 13:30:00-04:00     0.000000\n                               ...    \n2021-08-06 11:30:00-04:00    57.874170\n2021-08-06 12:30:00-04:00    55.745393\n2021-08-06 13:30:00-04:00    55.348111\n2021-08-06 14:30:00-04:00    55.135756\n2021-08-06 15:30:00-04:00    54.040518\nName: RSI, Length: 3397, dtype: float64"
     },
     "metadata": {}
    }
   ],
   "execution_count": 37
  },
  {
   "cell_type": "code",
   "source": "# sq_1hr['RSI’]\nsq_1hr_rsi= sq_1hr.iloc[14:]\nsq_1hr_rsi= sq_1hr.iloc[: , 1:]\nsq_1hr_rsi",
   "metadata": {
    "tags": [],
    "cell_id": "00004-b0e2cd23-0294-4f7e-96ca-b83ef8493e99",
    "deepnote_to_be_reexecuted": false,
    "source_hash": "20a5e79f",
    "execution_start": 1628362636779,
    "execution_millis": 78,
    "deepnote_cell_type": "code"
   },
   "outputs": [
    {
     "output_type": "execute_result",
     "execution_count": 38,
     "data": {
      "application/vnd.deepnote.dataframe.v2+json": {
       "row_count": 3397,
       "column_count": 2,
       "columns": [
        {
         "name": "Close",
         "dtype": "float64",
         "stats": {
          "unique_count": 3139,
          "nan_count": 0,
          "min": "33.119998931884766",
          "max": "287.32000732421875",
          "histogram": [
           {
            "bin_start": 33.119998931884766,
            "bin_end": 58.53999977111816,
            "count": 199
           },
           {
            "bin_start": 58.53999977111816,
            "bin_end": 83.96000061035156,
            "count": 1097
           },
           {
            "bin_start": 83.96000061035156,
            "bin_end": 109.38000144958497,
            "count": 161
           },
           {
            "bin_start": 109.38000144958497,
            "bin_end": 134.80000228881835,
            "count": 158
           },
           {
            "bin_start": 134.80000228881835,
            "bin_end": 160.22000312805176,
            "count": 277
           },
           {
            "bin_start": 160.22000312805176,
            "bin_end": 185.64000396728517,
            "count": 186
           },
           {
            "bin_start": 185.64000396728517,
            "bin_end": 211.06000480651855,
            "count": 245
           },
           {
            "bin_start": 211.06000480651855,
            "bin_end": 236.48000564575196,
            "count": 548
           },
           {
            "bin_start": 236.48000564575196,
            "bin_end": 261.9000064849854,
            "count": 401
           },
           {
            "bin_start": 261.9000064849854,
            "bin_end": 287.32000732421875,
            "count": 125
           }
          ]
         }
        },
        {
         "name": "RSI",
         "dtype": "float64",
         "stats": {
          "unique_count": 3385,
          "nan_count": 1,
          "min": "0.0",
          "max": "84.71332250861056",
          "histogram": [
           {
            "bin_start": 0,
            "bin_end": 8.471332250861057,
            "count": 13
           },
           {
            "bin_start": 8.471332250861057,
            "bin_end": 16.942664501722113,
            "count": 0
           },
           {
            "bin_start": 16.942664501722113,
            "bin_end": 25.41399675258317,
            "count": 13
           },
           {
            "bin_start": 25.41399675258317,
            "bin_end": 33.88532900344423,
            "count": 158
           },
           {
            "bin_start": 33.88532900344423,
            "bin_end": 42.35666125430528,
            "count": 468
           },
           {
            "bin_start": 42.35666125430528,
            "bin_end": 50.82799350516634,
            "count": 724
           },
           {
            "bin_start": 50.82799350516634,
            "bin_end": 59.2993257560274,
            "count": 935
           },
           {
            "bin_start": 59.2993257560274,
            "bin_end": 67.77065800688845,
            "count": 777
           },
           {
            "bin_start": 67.77065800688845,
            "bin_end": 76.2419902577495,
            "count": 283
           },
           {
            "bin_start": 76.2419902577495,
            "bin_end": 84.71332250861056,
            "count": 25
           }
          ]
         }
        },
        {
         "name": "_deepnote_index_column",
         "dtype": "object"
        }
       ],
       "rows_top": [
        {
         "Close": 62.959999084472656,
         "RSI": "nan",
         "_deepnote_index_column": "2019-09-03 09:30:00-04:00"
        },
        {
         "Close": 62.31999969482422,
         "RSI": 0,
         "_deepnote_index_column": "2019-09-03 10:30:00-04:00"
        },
        {
         "Close": 62,
         "RSI": 0,
         "_deepnote_index_column": "2019-09-03 11:30:00-04:00"
        },
        {
         "Close": 61.774898529052734,
         "RSI": 0,
         "_deepnote_index_column": "2019-09-03 12:30:00-04:00"
        },
        {
         "Close": 61.36000061035156,
         "RSI": 0,
         "_deepnote_index_column": "2019-09-03 13:30:00-04:00"
        },
        {
         "Close": 61.125,
         "RSI": 0,
         "_deepnote_index_column": "2019-09-03 14:30:00-04:00"
        },
        {
         "Close": 61.13999938964844,
         "RSI": 0.12926684440445513,
         "_deepnote_index_column": "2019-09-03 15:30:00-04:00"
        },
        {
         "Close": 61.93000030517578,
         "RSI": 6.792447063737825,
         "_deepnote_index_column": "2019-09-04 09:30:00-04:00"
        },
        {
         "Close": 62.02000045776367,
         "RSI": 7.530431331685833,
         "_deepnote_index_column": "2019-09-04 10:30:00-04:00"
        },
        {
         "Close": 61.41999816894531,
         "RSI": 7.13498459345162,
         "_deepnote_index_column": "2019-09-04 11:30:00-04:00"
        },
        {
         "Close": 61.07500076293945,
         "RSI": 6.915725255599398,
         "_deepnote_index_column": "2019-09-04 12:30:00-04:00"
        },
        {
         "Close": 61.11000061035156,
         "RSI": 7.219437067071752,
         "_deepnote_index_column": "2019-09-04 13:30:00-04:00"
        },
        {
         "Close": 61.040000915527344,
         "RSI": 7.170307556039518,
         "_deepnote_index_column": "2019-09-04 14:30:00-04:00"
        },
        {
         "Close": 61.08000183105469,
         "RSI": 7.547809676443734,
         "_deepnote_index_column": "2019-09-04 15:30:00-04:00"
        },
        {
         "Close": 63.08250045776367,
         "RSI": 23.829851953005928,
         "_deepnote_index_column": "2019-09-05 09:30:00-04:00"
        },
        {
         "Close": 62.67900085449219,
         "RSI": 22.973829319311434,
         "_deepnote_index_column": "2019-09-05 10:30:00-04:00"
        },
        {
         "Close": 62.45280075073242,
         "RSI": 22.49811199795934,
         "_deepnote_index_column": "2019-09-05 11:30:00-04:00"
        },
        {
         "Close": 62.83000183105469,
         "RSI": 25.209739606567155,
         "_deepnote_index_column": "2019-09-05 12:30:00-04:00"
        },
        {
         "Close": 62.95500183105469,
         "RSI": 26.109307375242693,
         "_deepnote_index_column": "2019-09-05 13:30:00-04:00"
        },
        {
         "Close": 63.150001525878906,
         "RSI": 27.536947299946632,
         "_deepnote_index_column": "2019-09-05 14:30:00-04:00"
        },
        {
         "Close": 63.04499816894531,
         "RSI": 27.239380330624613,
         "_deepnote_index_column": "2019-09-05 15:30:00-04:00"
        },
        {
         "Close": 63.31999969482422,
         "RSI": 29.339137541467878,
         "_deepnote_index_column": "2019-09-06 09:30:00-04:00"
        },
        {
         "Close": 62.97610092163086,
         "RSI": 28.267982519216133,
         "_deepnote_index_column": "2019-09-06 10:30:00-04:00"
        },
        {
         "Close": 63.27999877929688,
         "RSI": 30.618350787610552,
         "_deepnote_index_column": "2019-09-06 11:30:00-04:00"
        },
        {
         "Close": 62.97600173950195,
         "RSI": 29.599664016866598,
         "_deepnote_index_column": "2019-09-06 12:30:00-04:00"
        },
        {
         "Close": 62.650001525878906,
         "RSI": 28.530828008051827,
         "_deepnote_index_column": "2019-09-06 13:30:00-04:00"
        },
        {
         "Close": 62.30500030517578,
         "RSI": 27.430188413676646,
         "_deepnote_index_column": "2019-09-06 14:30:00-04:00"
        },
        {
         "Close": 61.97999954223633,
         "RSI": 26.421982579925583,
         "_deepnote_index_column": "2019-09-06 15:30:00-04:00"
        },
        {
         "Close": 61.70000076293945,
         "RSI": 25.57174208145686,
         "_deepnote_index_column": "2019-09-09 09:30:00-04:00"
        },
        {
         "Close": 61.68000030517578,
         "RSI": 25.510172970058676,
         "_deepnote_index_column": "2019-09-09 10:30:00-04:00"
        },
        {
         "Close": 60.95000076293945,
         "RSI": 23.355126019536016,
         "_deepnote_index_column": "2019-09-09 11:30:00-04:00"
        },
        {
         "Close": 59.92499923706055,
         "RSI": 20.768467983427286,
         "_deepnote_index_column": "2019-09-09 12:30:00-04:00"
        },
        {
         "Close": 59.752201080322266,
         "RSI": 20.369136714443755,
         "_deepnote_index_column": "2019-09-09 13:30:00-04:00"
        },
        {
         "Close": 60.86000061035156,
         "RSI": 29.4947429880755,
         "_deepnote_index_column": "2019-09-09 14:30:00-04:00"
        },
        {
         "Close": 61.45000076293945,
         "RSI": 33.74099218657271,
         "_deepnote_index_column": "2019-09-09 15:30:00-04:00"
        },
        {
         "Close": 61.380001068115234,
         "RSI": 33.48972896007079,
         "_deepnote_index_column": "2019-09-10 09:30:00-04:00"
        },
        {
         "Close": 61.207298278808594,
         "RSI": 32.85589301719422,
         "_deepnote_index_column": "2019-09-10 10:30:00-04:00"
        },
        {
         "Close": 61.38999938964844,
         "RSI": 34.2384043745739,
         "_deepnote_index_column": "2019-09-10 11:30:00-04:00"
        },
        {
         "Close": 61.15800094604492,
         "RSI": 33.323563777054744,
         "_deepnote_index_column": "2019-09-10 12:30:00-04:00"
        },
        {
         "Close": 60.58000183105469,
         "RSI": 31.146493382460676,
         "_deepnote_index_column": "2019-09-10 13:30:00-04:00"
        },
        {
         "Close": 60.4900016784668,
         "RSI": 30.817322579386158,
         "_deepnote_index_column": "2019-09-10 14:30:00-04:00"
        },
        {
         "Close": 60.5,
         "RSI": 30.902504535023283,
         "_deepnote_index_column": "2019-09-10 15:30:00-04:00"
        },
        {
         "Close": 60.45000076293945,
         "RSI": 30.703999844284752,
         "_deepnote_index_column": "2019-09-11 09:30:00-04:00"
        },
        {
         "Close": 59.97999954223633,
         "RSI": 28.87337420035567,
         "_deepnote_index_column": "2019-09-11 10:30:00-04:00"
        },
        {
         "Close": 60.22999954223633,
         "RSI": 31.16551338776509,
         "_deepnote_index_column": "2019-09-11 11:30:00-04:00"
        },
        {
         "Close": 60.20149993896485,
         "RSI": 31.045756876260725,
         "_deepnote_index_column": "2019-09-11 12:30:00-04:00"
        },
        {
         "Close": 59.69340133666992,
         "RSI": 28.96242589817477,
         "_deepnote_index_column": "2019-09-11 13:30:00-04:00"
        },
        {
         "Close": 59.014198303222656,
         "RSI": 26.469325280908336,
         "_deepnote_index_column": "2019-09-11 14:30:00-04:00"
        },
        {
         "Close": 59.18000030517578,
         "RSI": 28.0566829000021,
         "_deepnote_index_column": "2019-09-11 15:30:00-04:00"
        },
        {
         "Close": 58.959598541259766,
         "RSI": 27.23602060794441,
         "_deepnote_index_column": "2019-09-12 09:30:00-04:00"
        },
        {
         "Close": 58.560001373291016,
         "RSI": 25.799424115333963,
         "_deepnote_index_column": "2019-09-12 10:30:00-04:00"
        },
        {
         "Close": 58.310001373291016,
         "RSI": 24.93542205668213,
         "_deepnote_index_column": "2019-09-12 11:30:00-04:00"
        },
        {
         "Close": 58.2400016784668,
         "RSI": 24.692306992371755,
         "_deepnote_index_column": "2019-09-12 12:30:00-04:00"
        },
        {
         "Close": 58,
         "RSI": 23.855005064412794,
         "_deepnote_index_column": "2019-09-12 13:30:00-04:00"
        },
        {
         "Close": 58.095001220703125,
         "RSI": 24.91325417497231,
         "_deepnote_index_column": "2019-09-12 14:30:00-04:00"
        },
        {
         "Close": 57.790000915527344,
         "RSI": 23.798310167367532,
         "_deepnote_index_column": "2019-09-12 15:30:00-04:00"
        },
        {
         "Close": 58.22999954223633,
         "RSI": 28.63604286857739,
         "_deepnote_index_column": "2019-09-13 09:30:00-04:00"
        },
        {
         "Close": 58.27999877929688,
         "RSI": 29.172555798089974,
         "_deepnote_index_column": "2019-09-13 10:30:00-04:00"
        },
        {
         "Close": 58.7599983215332,
         "RSI": 34.16191961852296,
         "_deepnote_index_column": "2019-09-13 11:30:00-04:00"
        },
        {
         "Close": 58.483699798583984,
         "RSI": 32.76682087059905,
         "_deepnote_index_column": "2019-09-13 12:30:00-04:00"
        },
        {
         "Close": 58.1349983215332,
         "RSI": 31.08463868686843,
         "_deepnote_index_column": "2019-09-13 13:30:00-04:00"
        },
        {
         "Close": 58.290000915527344,
         "RSI": 32.69730913862598,
         "_deepnote_index_column": "2019-09-13 14:30:00-04:00"
        },
        {
         "Close": 58.31999969482422,
         "RSI": 33.01584299762102,
         "_deepnote_index_column": "2019-09-13 15:30:00-04:00"
        },
        {
         "Close": 57.52999877929688,
         "RSI": 29.195110682437218,
         "_deepnote_index_column": "2019-09-16 09:30:00-04:00"
        },
        {
         "Close": 58.02510070800781,
         "RSI": 34.20548565307348,
         "_deepnote_index_column": "2019-09-16 10:30:00-04:00"
        },
        {
         "Close": 58.14889907836914,
         "RSI": 35.40556969825158,
         "_deepnote_index_column": "2019-09-16 11:30:00-04:00"
        },
        {
         "Close": 59.494998931884766,
         "RSI": 46.538611901723,
         "_deepnote_index_column": "2019-09-16 12:30:00-04:00"
        },
        {
         "Close": 59.470001220703125,
         "RSI": 46.382732982509815,
         "_deepnote_index_column": "2019-09-16 13:30:00-04:00"
        },
        {
         "Close": 59.31999969482422,
         "RSI": 45.42411587870233,
         "_deepnote_index_column": "2019-09-16 14:30:00-04:00"
        },
        {
         "Close": 59.25,
         "RSI": 44.968719961106004,
         "_deepnote_index_column": "2019-09-16 15:30:00-04:00"
        },
        {
         "Close": 59.65999984741211,
         "RSI": 48.1647073177306,
         "_deepnote_index_column": "2019-09-17 09:30:00-04:00"
        },
        {
         "Close": 59.52999877929688,
         "RSI": 47.25109934741341,
         "_deepnote_index_column": "2019-09-17 10:30:00-04:00"
        },
        {
         "Close": 59.63999938964844,
         "RSI": 48.12532553537082,
         "_deepnote_index_column": "2019-09-17 11:30:00-04:00"
        },
        {
         "Close": 59.40999984741211,
         "RSI": 46.435725874850284,
         "_deepnote_index_column": "2019-09-17 12:30:00-04:00"
        },
        {
         "Close": 59.34999847412109,
         "RSI": 45.993413294152816,
         "_deepnote_index_column": "2019-09-17 13:30:00-04:00"
        },
        {
         "Close": 59.54999923706055,
         "RSI": 47.73578669323804,
         "_deepnote_index_column": "2019-09-17 14:30:00-04:00"
        },
        {
         "Close": 59.540000915527344,
         "RSI": 47.65508391491263,
         "_deepnote_index_column": "2019-09-17 15:30:00-04:00"
        },
        {
         "Close": 59.77000045776367,
         "RSI": 49.70873261298515,
         "_deepnote_index_column": "2019-09-18 09:30:00-04:00"
        },
        {
         "Close": 59.41999816894531,
         "RSI": 46.77641002498161,
         "_deepnote_index_column": "2019-09-18 10:30:00-04:00"
        },
        {
         "Close": 59.27000045776367,
         "RSI": 45.5668400044545,
         "_deepnote_index_column": "2019-09-18 11:30:00-04:00"
        },
        {
         "Close": 59.165000915527344,
         "RSI": 44.71693914641367,
         "_deepnote_index_column": "2019-09-18 12:30:00-04:00"
        },
        {
         "Close": 58.9900016784668,
         "RSI": 43.303489634921384,
         "_deepnote_index_column": "2019-09-18 13:30:00-04:00"
        },
        {
         "Close": 59.540000915527344,
         "RSI": 48.65885395826689,
         "_deepnote_index_column": "2019-09-18 14:30:00-04:00"
        },
        {
         "Close": 59.72999954223633,
         "RSI": 50.35962335962943,
         "_deepnote_index_column": "2019-09-18 15:30:00-04:00"
        },
        {
         "Close": 59.75,
         "RSI": 50.54071835651722,
         "_deepnote_index_column": "2019-09-19 09:30:00-04:00"
        },
        {
         "Close": 59.709999084472656,
         "RSI": 50.15646506216185,
         "_deepnote_index_column": "2019-09-19 10:30:00-04:00"
        },
        {
         "Close": 58.77109909057617,
         "RSI": 42.24141984026114,
         "_deepnote_index_column": "2019-09-19 11:30:00-04:00"
        },
        {
         "Close": 58.7599983215332,
         "RSI": 42.15882782993448,
         "_deepnote_index_column": "2019-09-19 12:30:00-04:00"
        },
        {
         "Close": 58.86009979248047,
         "RSI": 43.210176429283194,
         "_deepnote_index_column": "2019-09-19 13:30:00-04:00"
        },
        {
         "Close": 58.900001525878906,
         "RSI": 43.63895129805058,
         "_deepnote_index_column": "2019-09-19 14:30:00-04:00"
        },
        {
         "Close": 59.02999877929688,
         "RSI": 45.057992610816015,
         "_deepnote_index_column": "2019-09-19 15:30:00-04:00"
        },
        {
         "Close": 58.27999877929688,
         "RSI": 39.095127398001345,
         "_deepnote_index_column": "2019-09-20 09:30:00-04:00"
        },
        {
         "Close": 57.685001373291016,
         "RSI": 35.21332602971178,
         "_deepnote_index_column": "2019-09-20 10:30:00-04:00"
        },
        {
         "Close": 57.41999816894531,
         "RSI": 33.65078569464667,
         "_deepnote_index_column": "2019-09-20 11:30:00-04:00"
        },
        {
         "Close": 57.34000015258789,
         "RSI": 33.18405004819472,
         "_deepnote_index_column": "2019-09-20 12:30:00-04:00"
        },
        {
         "Close": 57.45000076293945,
         "RSI": 34.495797121497816,
         "_deepnote_index_column": "2019-09-20 13:30:00-04:00"
        },
        {
         "Close": 57.88010025024414,
         "RSI": 39.38161679984631,
         "_deepnote_index_column": "2019-09-20 14:30:00-04:00"
        },
        {
         "Close": 57.83000183105469,
         "RSI": 39.02560669240972,
         "_deepnote_index_column": "2019-09-20 15:30:00-04:00"
        },
        {
         "Close": 56.650001525878906,
         "RSI": 31.894834858379184,
         "_deepnote_index_column": "2019-09-23 09:30:00-04:00"
        },
        {
         "Close": 56.790000915527344,
         "RSI": 33.41057742731077,
         "_deepnote_index_column": "2019-09-23 10:30:00-04:00"
        },
        {
         "Close": 57,
         "RSI": 35.665691889734774,
         "_deepnote_index_column": "2019-09-23 11:30:00-04:00"
        },
        {
         "Close": 56.68999862670898,
         "RSI": 33.886878374179105,
         "_deepnote_index_column": "2019-09-23 12:30:00-04:00"
        },
        {
         "Close": 56.6599006652832,
         "RSI": 33.71545440482875,
         "_deepnote_index_column": "2019-09-23 13:30:00-04:00"
        },
        {
         "Close": 56.7598991394043,
         "RSI": 34.86493182901086,
         "_deepnote_index_column": "2019-09-23 14:30:00-04:00"
        },
        {
         "Close": 56.75,
         "RSI": 34.802199960010256,
         "_deepnote_index_column": "2019-09-23 15:30:00-04:00"
        },
        {
         "Close": 56.790000915527344,
         "RSI": 35.29615936258756,
         "_deepnote_index_column": "2019-09-24 09:30:00-04:00"
        },
        {
         "Close": 57.70000076293945,
         "RSI": 45.21151496066725,
         "_deepnote_index_column": "2019-09-24 10:30:00-04:00"
        },
        {
         "Close": 56.25,
         "RSI": 35.98536758238481,
         "_deepnote_index_column": "2019-09-24 11:30:00-04:00"
        },
        {
         "Close": 56.20000076293945,
         "RSI": 35.72144002893609,
         "_deepnote_index_column": "2019-09-24 12:30:00-04:00"
        },
        {
         "Close": 57.09000015258789,
         "RSI": 43.47050849395224,
         "_deepnote_index_column": "2019-09-24 13:30:00-04:00"
        },
        {
         "Close": 56.86000061035156,
         "RSI": 42.093535798287874,
         "_deepnote_index_column": "2019-09-24 14:30:00-04:00"
        },
        {
         "Close": 57.52999877929688,
         "RSI": 47.208370670730524,
         "_deepnote_index_column": "2019-09-24 15:30:00-04:00"
        },
        {
         "Close": 57.25,
         "RSI": 45.44687954159198,
         "_deepnote_index_column": "2019-09-25 09:30:00-04:00"
        },
        {
         "Close": 57.900001525878906,
         "RSI": 49.99490841402956,
         "_deepnote_index_column": "2019-09-25 10:30:00-04:00"
        },
        {
         "Close": 57.95000076293945,
         "RSI": 50.32936643497608,
         "_deepnote_index_column": "2019-09-25 11:30:00-04:00"
        },
        {
         "Close": 57.9900016784668,
         "RSI": 50.60688348537281,
         "_deepnote_index_column": "2019-09-25 12:30:00-04:00"
        },
        {
         "Close": 58.35639953613281,
         "RSI": 53.12570290498748,
         "_deepnote_index_column": "2019-09-25 13:30:00-04:00"
        },
        {
         "Close": 58.80500030517578,
         "RSI": 56.009632045870866,
         "_deepnote_index_column": "2019-09-25 14:30:00-04:00"
        },
        {
         "Close": 58.540000915527344,
         "RSI": 53.950795682277075,
         "_deepnote_index_column": "2019-09-25 15:30:00-04:00"
        },
        {
         "Close": 60.994998931884766,
         "RSI": 66.07955180487929,
         "_deepnote_index_column": "2019-09-26 09:30:00-04:00"
        },
        {
         "Close": 60.23500061035156,
         "RSI": 60.86836594500801,
         "_deepnote_index_column": "2019-09-26 10:30:00-04:00"
        },
        {
         "Close": 60.43220138549805,
         "RSI": 61.691461657847704,
         "_deepnote_index_column": "2019-09-26 11:30:00-04:00"
        },
        {
         "Close": 60.18000030517578,
         "RSI": 59.99681873191339,
         "_deepnote_index_column": "2019-09-26 12:30:00-04:00"
        },
        {
         "Close": 60.79499816894531,
         "RSI": 62.62553714024721,
         "_deepnote_index_column": "2019-09-26 13:30:00-04:00"
        },
        {
         "Close": 60.685001373291016,
         "RSI": 61.86210584035188,
         "_deepnote_index_column": "2019-09-26 14:30:00-04:00"
        },
        {
         "Close": 60.79999923706055,
         "RSI": 62.365723679383635,
         "_deepnote_index_column": "2019-09-26 15:30:00-04:00"
        },
        {
         "Close": 60.9922981262207,
         "RSI": 63.218528789772584,
         "_deepnote_index_column": "2019-09-27 09:30:00-04:00"
        },
        {
         "Close": 61.52999877929688,
         "RSI": 65.51296094923536,
         "_deepnote_index_column": "2019-09-27 10:30:00-04:00"
        },
        {
         "Close": 61.02999877929688,
         "RSI": 61.7518606746548,
         "_deepnote_index_column": "2019-09-27 11:30:00-04:00"
        },
        {
         "Close": 60.52999877929688,
         "RSI": 58.24105938676577,
         "_deepnote_index_column": "2019-09-27 12:30:00-04:00"
        },
        {
         "Close": 60.68000030517578,
         "RSI": 58.975762184562434,
         "_deepnote_index_column": "2019-09-27 13:30:00-04:00"
        },
        {
         "Close": 60.494998931884766,
         "RSI": 57.66198893702812,
         "_deepnote_index_column": "2019-09-27 14:30:00-04:00"
        },
        {
         "Close": 60.7599983215332,
         "RSI": 59.03452592641079,
         "_deepnote_index_column": "2019-09-27 15:30:00-04:00"
        },
        {
         "Close": 61.72999954223633,
         "RSI": 63.57322170821942,
         "_deepnote_index_column": "2019-09-30 09:30:00-04:00"
        },
        {
         "Close": 62.22999954223633,
         "RSI": 65.63399026942406,
         "_deepnote_index_column": "2019-09-30 10:30:00-04:00"
        },
        {
         "Close": 62.02000045776367,
         "RSI": 64.03637611147099,
         "_deepnote_index_column": "2019-09-30 11:30:00-04:00"
        },
        {
         "Close": 61.9900016784668,
         "RSI": 63.80342618730726,
         "_deepnote_index_column": "2019-09-30 12:30:00-04:00"
        },
        {
         "Close": 62.244998931884766,
         "RSI": 64.94170292960058,
         "_deepnote_index_column": "2019-09-30 13:30:00-04:00"
        },
        {
         "Close": 61.970001220703125,
         "RSI": 62.70869117091326,
         "_deepnote_index_column": "2019-09-30 14:30:00-04:00"
        },
        {
         "Close": 62,
         "RSI": 62.854986902769696,
         "_deepnote_index_column": "2019-09-30 15:30:00-04:00"
        },
        {
         "Close": 62.59640121459961,
         "RSI": 65.66665697145604,
         "_deepnote_index_column": "2019-10-01 09:30:00-04:00"
        },
        {
         "Close": 62.65999984741211,
         "RSI": 65.95520171472225,
         "_deepnote_index_column": "2019-10-01 10:30:00-04:00"
        },
        {
         "Close": 61.77999877929688,
         "RSI": 58.77827326774692,
         "_deepnote_index_column": "2019-10-01 11:30:00-04:00"
        },
        {
         "Close": 61.45000076293945,
         "RSI": 56.36334757667624,
         "_deepnote_index_column": "2019-10-01 12:30:00-04:00"
        },
        {
         "Close": 61.47999954223633,
         "RSI": 56.53380664419617,
         "_deepnote_index_column": "2019-10-01 13:30:00-04:00"
        },
        {
         "Close": 61.54999923706055,
         "RSI": 56.945871285245374,
         "_deepnote_index_column": "2019-10-01 14:30:00-04:00"
        },
        {
         "Close": 61.630001068115234,
         "RSI": 57.430164951157366,
         "_deepnote_index_column": "2019-10-01 15:30:00-04:00"
        },
        {
         "Close": 60.459999084472656,
         "RSI": 48.97130837399203,
         "_deepnote_index_column": "2019-10-02 09:30:00-04:00"
        },
        {
         "Close": 59.47999954223633,
         "RSI": 43.35513261577989,
         "_deepnote_index_column": "2019-10-02 10:30:00-04:00"
        },
        {
         "Close": 59.47999954223633,
         "RSI": 43.35513261577989,
         "_deepnote_index_column": "2019-10-02 11:30:00-04:00"
        },
        {
         "Close": 59.43999862670898,
         "RSI": 43.1325318817828,
         "_deepnote_index_column": "2019-10-02 12:30:00-04:00"
        },
        {
         "Close": 59.23799896240234,
         "RSI": 41.989401486252476,
         "_deepnote_index_column": "2019-10-02 13:30:00-04:00"
        },
        {
         "Close": 59.880001068115234,
         "RSI": 46.703160548055905,
         "_deepnote_index_column": "2019-10-02 14:30:00-04:00"
        },
        {
         "Close": 60.060001373291016,
         "RSI": 47.9483085296715,
         "_deepnote_index_column": "2019-10-02 15:30:00-04:00"
        },
        {
         "Close": 59.91999816894531,
         "RSI": 47.050593182844146,
         "_deepnote_index_column": "2019-10-03 09:30:00-04:00"
        },
        {
         "Close": 60.79999923706055,
         "RSI": 52.873801053968776,
         "_deepnote_index_column": "2019-10-03 10:30:00-04:00"
        },
        {
         "Close": 60.59999847412109,
         "RSI": 51.52163938641542,
         "_deepnote_index_column": "2019-10-03 11:30:00-04:00"
        },
        {
         "Close": 60.615699768066406,
         "RSI": 51.62361927935414,
         "_deepnote_index_column": "2019-10-03 12:30:00-04:00"
        },
        {
         "Close": 62.119998931884766,
         "RSI": 60.072943737665426,
         "_deepnote_index_column": "2019-10-03 13:30:00-04:00"
        },
        {
         "Close": 62.11000061035156,
         "RSI": 59.99980951164557,
         "_deepnote_index_column": "2019-10-03 14:30:00-04:00"
        },
        {
         "Close": 62.060001373291016,
         "RSI": 59.61869995896874,
         "_deepnote_index_column": "2019-10-03 15:30:00-04:00"
        },
        {
         "Close": 62.040000915527344,
         "RSI": 59.46006780525994,
         "_deepnote_index_column": "2019-10-04 09:30:00-04:00"
        },
        {
         "Close": 62.169700622558594,
         "RSI": 60.18147789836508,
         "_deepnote_index_column": "2019-10-04 10:30:00-04:00"
        },
        {
         "Close": 62.11330032348633,
         "RSI": 59.69643593827455,
         "_deepnote_index_column": "2019-10-04 11:30:00-04:00"
        },
        {
         "Close": 62.3650016784668,
         "RSI": 61.163177496807606,
         "_deepnote_index_column": "2019-10-04 12:30:00-04:00"
        },
        {
         "Close": 62.38999938964844,
         "RSI": 61.31000681749602,
         "_deepnote_index_column": "2019-10-04 13:30:00-04:00"
        },
        {
         "Close": 62.47159957885742,
         "RSI": 61.80495118640566,
         "_deepnote_index_column": "2019-10-04 14:30:00-04:00"
        },
        {
         "Close": 62.65999984741211,
         "RSI": 62.95384662607399,
         "_deepnote_index_column": "2019-10-04 15:30:00-04:00"
        },
        {
         "Close": 62.5099983215332,
         "RSI": 61.409612132717044,
         "_deepnote_index_column": "2019-10-07 09:30:00-04:00"
        },
        {
         "Close": 62.51499938964844,
         "RSI": 61.44272171786128,
         "_deepnote_index_column": "2019-10-07 10:30:00-04:00"
        },
        {
         "Close": 62.34999847412109,
         "RSI": 59.669195308558415,
         "_deepnote_index_column": "2019-10-07 11:30:00-04:00"
        },
        {
         "Close": 62.2599983215332,
         "RSI": 58.69881332009535,
         "_deepnote_index_column": "2019-10-07 12:30:00-04:00"
        },
        {
         "Close": 62.470001220703125,
         "RSI": 60.28136606198589,
         "_deepnote_index_column": "2019-10-07 13:30:00-04:00"
        },
        {
         "Close": 62.47999954223633,
         "RSI": 60.357302455875036,
         "_deepnote_index_column": "2019-10-07 14:30:00-04:00"
        },
        {
         "Close": 62.25,
         "RSI": 57.693091269613255,
         "_deepnote_index_column": "2019-10-07 15:30:00-04:00"
        },
        {
         "Close": 61.310001373291016,
         "RSI": 48.505185327654914,
         "_deepnote_index_column": "2019-10-08 09:30:00-04:00"
        },
        {
         "Close": 61.209999084472656,
         "RSI": 47.65738235407765,
         "_deepnote_index_column": "2019-10-08 10:30:00-04:00"
        },
        {
         "Close": 61.52000045776367,
         "RSI": 50.474951933217525,
         "_deepnote_index_column": "2019-10-08 11:30:00-04:00"
        },
        {
         "Close": 61.540000915527344,
         "RSI": 50.65489243569042,
         "_deepnote_index_column": "2019-10-08 12:30:00-04:00"
        },
        {
         "Close": 61.41999816894531,
         "RSI": 49.52135187568764,
         "_deepnote_index_column": "2019-10-08 13:30:00-04:00"
        },
        {
         "Close": 61.27000045776367,
         "RSI": 48.108425426383214,
         "_deepnote_index_column": "2019-10-08 14:30:00-04:00"
        },
        {
         "Close": 60.810001373291016,
         "RSI": 44.06045206377177,
         "_deepnote_index_column": "2019-10-08 15:30:00-04:00"
        },
        {
         "Close": 61.650001525878906,
         "RSI": 51.83168080021758,
         "_deepnote_index_column": "2019-10-09 09:30:00-04:00"
        },
        {
         "Close": 61.46609878540039,
         "RSI": 50.2276534685107,
         "_deepnote_index_column": "2019-10-09 10:30:00-04:00"
        },
        {
         "Close": 61.77000045776367,
         "RSI": 52.764084161641534,
         "_deepnote_index_column": "2019-10-09 11:30:00-04:00"
        },
        {
         "Close": 61.970001220703125,
         "RSI": 54.370894796249054,
         "_deepnote_index_column": "2019-10-09 12:30:00-04:00"
        },
        {
         "Close": 62.1693000793457,
         "RSI": 55.939118441390306,
         "_deepnote_index_column": "2019-10-09 13:30:00-04:00"
        },
        {
         "Close": 62.380001068115234,
         "RSI": 57.558351460343445,
         "_deepnote_index_column": "2019-10-09 14:30:00-04:00"
        },
        {
         "Close": 62.23329925537109,
         "RSI": 56.05240805910696,
         "_deepnote_index_column": "2019-10-09 15:30:00-04:00"
        },
        {
         "Close": 62.209999084472656,
         "RSI": 55.808898128831586,
         "_deepnote_index_column": "2019-10-10 09:30:00-04:00"
        },
        {
         "Close": 62.09999847412109,
         "RSI": 54.632382159155604,
         "_deepnote_index_column": "2019-10-10 10:30:00-04:00"
        },
        {
         "Close": 61.86000061035156,
         "RSI": 52.11550008176596,
         "_deepnote_index_column": "2019-10-10 11:30:00-04:00"
        },
        {
         "Close": 61.709999084472656,
         "RSI": 50.586098565786756,
         "_deepnote_index_column": "2019-10-10 12:30:00-04:00"
        },
        {
         "Close": 61.79999923706055,
         "RSI": 51.48308252160775,
         "_deepnote_index_column": "2019-10-10 13:30:00-04:00"
        },
        {
         "Close": 61.9900016784668,
         "RSI": 53.359809431682635,
         "_deepnote_index_column": "2019-10-10 14:30:00-04:00"
        },
        {
         "Close": 62.0099983215332,
         "RSI": 53.55832882196993,
         "_deepnote_index_column": "2019-10-10 15:30:00-04:00"
        },
        {
         "Close": 62.8119010925293,
         "RSI": 60.61675714016509,
         "_deepnote_index_column": "2019-10-11 09:30:00-04:00"
        },
        {
         "Close": 62.6776008605957,
         "RSI": 59.038846585253204,
         "_deepnote_index_column": "2019-10-11 10:30:00-04:00"
        },
        {
         "Close": 62.65800094604492,
         "RSI": 58.80428043682646,
         "_deepnote_index_column": "2019-10-11 11:30:00-04:00"
        },
        {
         "Close": 62.181400299072266,
         "RSI": 53.38845594517667,
         "_deepnote_index_column": "2019-10-11 12:30:00-04:00"
        },
        {
         "Close": 62.14500045776367,
         "RSI": 52.997037401889486,
         "_deepnote_index_column": "2019-10-11 13:30:00-04:00"
        },
        {
         "Close": 62.34000015258789,
         "RSI": 54.85866239039691,
         "_deepnote_index_column": "2019-10-11 14:30:00-04:00"
        },
        {
         "Close": 61.52999877929688,
         "RSI": 46.77795593749722,
         "_deepnote_index_column": "2019-10-11 15:30:00-04:00"
        },
        {
         "Close": 61.880001068115234,
         "RSI": 50.112023768931095,
         "_deepnote_index_column": "2019-10-14 09:30:00-04:00"
        },
        {
         "Close": 62.08000183105469,
         "RSI": 51.91921655267079,
         "_deepnote_index_column": "2019-10-14 10:30:00-04:00"
        },
        {
         "Close": 62.16400146484375,
         "RSI": 52.67523450297693,
         "_deepnote_index_column": "2019-10-14 11:30:00-04:00"
        },
        {
         "Close": 62.17179870605469,
         "RSI": 52.747650889681054,
         "_deepnote_index_column": "2019-10-14 12:30:00-04:00"
        },
        {
         "Close": 62.025001525878906,
         "RSI": 51.19892255061719,
         "_deepnote_index_column": "2019-10-14 13:30:00-04:00"
        },
        {
         "Close": 62.13100051879883,
         "RSI": 52.26162834421399,
         "_deepnote_index_column": "2019-10-14 14:30:00-04:00"
        },
        {
         "Close": 61.83000183105469,
         "RSI": 49.07524325743912,
         "_deepnote_index_column": "2019-10-14 15:30:00-04:00"
        },
        {
         "Close": 63.720001220703125,
         "RSI": 63.67647927606801,
         "_deepnote_index_column": "2019-10-15 09:30:00-04:00"
        },
        {
         "Close": 63.70000076293945,
         "RSI": 63.474258457166556,
         "_deepnote_index_column": "2019-10-15 10:30:00-04:00"
        },
        {
         "Close": 63.900001525878906,
         "RSI": 64.65289968940772,
         "_deepnote_index_column": "2019-10-15 11:30:00-04:00"
        },
        {
         "Close": 64.13999938964844,
         "RSI": 66.03389852892869,
         "_deepnote_index_column": "2019-10-15 12:30:00-04:00"
        },
        {
         "Close": 64.25,
         "RSI": 66.66076093096066,
         "_deepnote_index_column": "2019-10-15 13:30:00-04:00"
        },
        {
         "Close": 64.05999755859375,
         "RSI": 64.50176653836036,
         "_deepnote_index_column": "2019-10-15 14:30:00-04:00"
        },
        {
         "Close": 64.29000091552734,
         "RSI": 65.90532992955269,
         "_deepnote_index_column": "2019-10-15 15:30:00-04:00"
        },
        {
         "Close": 63.04999923706055,
         "RSI": 53.85205712801223,
         "_deepnote_index_column": "2019-10-16 09:30:00-04:00"
        },
        {
         "Close": 62.93830108642578,
         "RSI": 52.93636066471047,
         "_deepnote_index_column": "2019-10-16 10:30:00-04:00"
        },
        {
         "Close": 62.97999954223633,
         "RSI": 53.247971810951725,
         "_deepnote_index_column": "2019-10-16 11:30:00-04:00"
        },
        {
         "Close": 62.869998931884766,
         "RSI": 52.289007820646304,
         "_deepnote_index_column": "2019-10-16 12:30:00-04:00"
        },
        {
         "Close": 62.875,
         "RSI": 52.32999060308188,
         "_deepnote_index_column": "2019-10-16 13:30:00-04:00"
        },
        {
         "Close": 62.755001068115234,
         "RSI": 51.22148206492735,
         "_deepnote_index_column": "2019-10-16 14:30:00-04:00"
        },
        {
         "Close": 63.0099983215332,
         "RSI": 53.42292783907044,
         "_deepnote_index_column": "2019-10-16 15:30:00-04:00"
        },
        {
         "Close": 64.19999694824219,
         "RSI": 61.857909465560425,
         "_deepnote_index_column": "2019-10-17 09:30:00-04:00"
        },
        {
         "Close": 63.560001373291016,
         "RSI": 56.1188523524407,
         "_deepnote_index_column": "2019-10-17 10:30:00-04:00"
        },
        {
         "Close": 63.43000030517578,
         "RSI": 55.029913762208,
         "_deepnote_index_column": "2019-10-17 11:30:00-04:00"
        },
        {
         "Close": 63.42100143432617,
         "RSI": 54.95241196663705,
         "_deepnote_index_column": "2019-10-17 12:30:00-04:00"
        },
        {
         "Close": 63.59000015258789,
         "RSI": 56.169641949957196,
         "_deepnote_index_column": "2019-10-17 13:30:00-04:00"
        },
        {
         "Close": 63.41510009765625,
         "RSI": 54.567392487825906,
         "_deepnote_index_column": "2019-10-17 14:30:00-04:00"
        },
        {
         "Close": 63.380001068115234,
         "RSI": 54.24136549737477,
         "_deepnote_index_column": "2019-10-17 15:30:00-04:00"
        },
        {
         "Close": 61.90999984741211,
         "RSI": 42.955167681062456,
         "_deepnote_index_column": "2019-10-18 09:30:00-04:00"
        },
        {
         "Close": 61.993900299072266,
         "RSI": 43.65773388835199,
         "_deepnote_index_column": "2019-10-18 10:30:00-04:00"
        },
        {
         "Close": 60.02730178833008,
         "RSI": 33.5025190054981,
         "_deepnote_index_column": "2019-10-18 11:30:00-04:00"
        },
        {
         "Close": 60.54999923706055,
         "RSI": 37.556126873249084,
         "_deepnote_index_column": "2019-10-18 12:30:00-04:00"
        },
        {
         "Close": 60.56999969482422,
         "RSI": 37.70868764444792,
         "_deepnote_index_column": "2019-10-18 13:30:00-04:00"
        },
        {
         "Close": 60.6245002746582,
         "RSI": 38.141107541285045,
         "_deepnote_index_column": "2019-10-18 14:30:00-04:00"
        },
        {
         "Close": 60.459999084472656,
         "RSI": 37.32004254237343,
         "_deepnote_index_column": "2019-10-18 15:30:00-04:00"
        },
        {
         "Close": 60.284400939941406,
         "RSI": 36.44079283281315,
         "_deepnote_index_column": "2019-10-21 09:30:00-04:00"
        },
        {
         "Close": 60.95000076293945,
         "RSI": 41.88965854727374,
         "_deepnote_index_column": "2019-10-21 10:30:00-04:00"
        },
        {
         "Close": 61.09999847412109,
         "RSI": 43.04502572909976,
         "_deepnote_index_column": "2019-10-21 11:30:00-04:00"
        },
        {
         "Close": 61.35499954223633,
         "RSI": 44.9971109260918,
         "_deepnote_index_column": "2019-10-21 12:30:00-04:00"
        },
        {
         "Close": 61.290000915527344,
         "RSI": 44.58809753123138,
         "_deepnote_index_column": "2019-10-21 13:30:00-04:00"
        },
        {
         "Close": 61.35480117797852,
         "RSI": 45.1103794751126,
         "_deepnote_index_column": "2019-10-21 14:30:00-04:00"
        },
        {
         "Close": 61.150001525878906,
         "RSI": 43.74219618020712,
         "_deepnote_index_column": "2019-10-21 15:30:00-04:00"
        },
        {
         "Close": 60.209999084472656,
         "RSI": 38.16380979955994,
         "_deepnote_index_column": "2019-10-22 09:30:00-04:00"
        },
        {
         "Close": 59.77999877929688,
         "RSI": 35.96103895472466,
         "_deepnote_index_column": "2019-10-22 10:30:00-04:00"
        },
        {
         "Close": 59.83000183105469,
         "RSI": 36.40919469938389,
         "_deepnote_index_column": "2019-10-22 11:30:00-04:00"
        },
        {
         "Close": 59.88999938964844,
         "RSI": 36.9649621082801,
         "_deepnote_index_column": "2019-10-22 12:30:00-04:00"
        },
        {
         "Close": 59.02999877929688,
         "RSI": 32.66787536550315,
         "_deepnote_index_column": "2019-10-22 13:30:00-04:00"
        }
       ],
       "rows_bottom": [
        {
         "Close": 232.3300018310547,
         "RSI": 62.52429706615905,
         "_deepnote_index_column": "2021-06-17 11:30:00-04:00"
        },
        {
         "Close": 236.19000244140625,
         "RSI": 66.68303577570367,
         "_deepnote_index_column": "2021-06-17 12:30:00-04:00"
        },
        {
         "Close": 237.4199981689453,
         "RSI": 67.87578700421085,
         "_deepnote_index_column": "2021-06-17 13:30:00-04:00"
        },
        {
         "Close": 236.4911956787109,
         "RSI": 66.0022920203545,
         "_deepnote_index_column": "2021-06-17 14:30:00-04:00"
        },
        {
         "Close": 236.25,
         "RSI": 65.50925923953626,
         "_deepnote_index_column": "2021-06-17 15:30:00-04:00"
        },
        {
         "Close": 236.27999877929688,
         "RSI": 65.54287316240533,
         "_deepnote_index_column": "2021-06-18 09:30:00-04:00"
        },
        {
         "Close": 234.01739501953125,
         "RSI": 60.8466616015124,
         "_deepnote_index_column": "2021-06-18 10:30:00-04:00"
        },
        {
         "Close": 238.2700042724609,
         "RSI": 65.6971811796225,
         "_deepnote_index_column": "2021-06-18 11:30:00-04:00"
        },
        {
         "Close": 238.4900054931641,
         "RSI": 65.92647661958978,
         "_deepnote_index_column": "2021-06-18 12:30:00-04:00"
        },
        {
         "Close": 238.16000366210935,
         "RSI": 65.23963330106957,
         "_deepnote_index_column": "2021-06-18 13:30:00-04:00"
        },
        {
         "Close": 237.3500061035156,
         "RSI": 63.53371311217305,
         "_deepnote_index_column": "2021-06-18 14:30:00-04:00"
        },
        {
         "Close": 237.1699981689453,
         "RSI": 63.14840617402778,
         "_deepnote_index_column": "2021-06-18 15:30:00-04:00"
        },
        {
         "Close": 230.5,
         "RSI": 51.09287618089888,
         "_deepnote_index_column": "2021-06-21 09:30:00-04:00"
        },
        {
         "Close": 233.33999633789065,
         "RSI": 54.93886000460682,
         "_deepnote_index_column": "2021-06-21 10:30:00-04:00"
        },
        {
         "Close": 234.3300018310547,
         "RSI": 56.1995915337984,
         "_deepnote_index_column": "2021-06-21 11:30:00-04:00"
        },
        {
         "Close": 234.5500030517578,
         "RSI": 56.483677260306955,
         "_deepnote_index_column": "2021-06-21 12:30:00-04:00"
        },
        {
         "Close": 234.24220275878903,
         "RSI": 55.950576798683,
         "_deepnote_index_column": "2021-06-21 13:30:00-04:00"
        },
        {
         "Close": 233.6750030517578,
         "RSI": 54.94714582606065,
         "_deepnote_index_column": "2021-06-21 14:30:00-04:00"
        },
        {
         "Close": 233.91000366210935,
         "RSI": 55.29592642947442,
         "_deepnote_index_column": "2021-06-21 15:30:00-04:00"
        },
        {
         "Close": 232.5800018310547,
         "RSI": 52.86393494578462,
         "_deepnote_index_column": "2021-06-22 09:30:00-04:00"
        },
        {
         "Close": 233.88890075683597,
         "RSI": 54.91303463831715,
         "_deepnote_index_column": "2021-06-22 10:30:00-04:00"
        },
        {
         "Close": 234.27999877929688,
         "RSI": 55.51969597600809,
         "_deepnote_index_column": "2021-06-22 11:30:00-04:00"
        },
        {
         "Close": 233.44000244140625,
         "RSI": 53.884608045464915,
         "_deepnote_index_column": "2021-06-22 12:30:00-04:00"
        },
        {
         "Close": 233.91000366210935,
         "RSI": 54.668941582340594,
         "_deepnote_index_column": "2021-06-22 13:30:00-04:00"
        },
        {
         "Close": 236,
         "RSI": 58.00396585691445,
         "_deepnote_index_column": "2021-06-22 14:30:00-04:00"
        },
        {
         "Close": 235.97999572753903,
         "RSI": 57.96111037612311,
         "_deepnote_index_column": "2021-06-22 15:30:00-04:00"
        },
        {
         "Close": 241.4900054931641,
         "RSI": 65.36251210360163,
         "_deepnote_index_column": "2021-06-23 09:30:00-04:00"
        },
        {
         "Close": 239.5249938964844,
         "RSI": 61.31986371596272,
         "_deepnote_index_column": "2021-06-23 10:30:00-04:00"
        },
        {
         "Close": 240.22000122070312,
         "RSI": 62.188376317729436,
         "_deepnote_index_column": "2021-06-23 11:30:00-04:00"
        },
        {
         "Close": 240.23800659179688,
         "RSI": 62.21145708645964,
         "_deepnote_index_column": "2021-06-23 12:30:00-04:00"
        },
        {
         "Close": 238.61019897460935,
         "RSI": 58.80406144224077,
         "_deepnote_index_column": "2021-06-23 13:30:00-04:00"
        },
        {
         "Close": 239.2700042724609,
         "RSI": 59.74248980063308,
         "_deepnote_index_column": "2021-06-23 14:30:00-04:00"
        },
        {
         "Close": 238.69000244140625,
         "RSI": 58.51223165484105,
         "_deepnote_index_column": "2021-06-23 15:30:00-04:00"
        },
        {
         "Close": 245.1999969482422,
         "RSI": 66.61457130721249,
         "_deepnote_index_column": "2021-06-24 09:30:00-04:00"
        },
        {
         "Close": 246.50999450683597,
         "RSI": 67.93758917145098,
         "_deepnote_index_column": "2021-06-24 10:30:00-04:00"
        },
        {
         "Close": 248.32000732421875,
         "RSI": 69.68071284237469,
         "_deepnote_index_column": "2021-06-24 11:30:00-04:00"
        },
        {
         "Close": 245.02999877929688,
         "RSI": 63.13021963202683,
         "_deepnote_index_column": "2021-06-24 12:30:00-04:00"
        },
        {
         "Close": 244.94900512695312,
         "RSI": 62.97718563507024,
         "_deepnote_index_column": "2021-06-24 13:30:00-04:00"
        },
        {
         "Close": 243.6499938964844,
         "RSI": 60.507120924798265,
         "_deepnote_index_column": "2021-06-24 14:30:00-04:00"
        },
        {
         "Close": 244.27999877929688,
         "RSI": 61.28046982099638,
         "_deepnote_index_column": "2021-06-24 15:30:00-04:00"
        },
        {
         "Close": 240.6300048828125,
         "RSI": 54.757601474762346,
         "_deepnote_index_column": "2021-06-25 09:30:00-04:00"
        },
        {
         "Close": 240.1074981689453,
         "RSI": 53.89530522232819,
         "_deepnote_index_column": "2021-06-25 10:30:00-04:00"
        },
        {
         "Close": 237.66000366210935,
         "RSI": 50.02108470509759,
         "_deepnote_index_column": "2021-06-25 11:30:00-04:00"
        },
        {
         "Close": 238.6743011474609,
         "RSI": 51.53700569629932,
         "_deepnote_index_column": "2021-06-25 12:30:00-04:00"
        },
        {
         "Close": 237.6100006103516,
         "RSI": 49.870444702075964,
         "_deepnote_index_column": "2021-06-25 13:30:00-04:00"
        },
        {
         "Close": 238.72999572753903,
         "RSI": 51.59982347205875,
         "_deepnote_index_column": "2021-06-25 14:30:00-04:00"
        },
        {
         "Close": 240.2400054931641,
         "RSI": 53.85348210372542,
         "_deepnote_index_column": "2021-06-25 15:30:00-04:00"
        },
        {
         "Close": 243.7303924560547,
         "RSI": 58.539062810862696,
         "_deepnote_index_column": "2021-06-28 09:30:00-04:00"
        },
        {
         "Close": 244.6999969482422,
         "RSI": 59.73167272899153,
         "_deepnote_index_column": "2021-06-28 10:30:00-04:00"
        },
        {
         "Close": 246.4900054931641,
         "RSI": 61.858382344577855,
         "_deepnote_index_column": "2021-06-28 11:30:00-04:00"
        },
        {
         "Close": 245.44000244140625,
         "RSI": 59.90958937489762,
         "_deepnote_index_column": "2021-06-28 12:30:00-04:00"
        },
        {
         "Close": 246.9199981689453,
         "RSI": 61.695564522430665,
         "_deepnote_index_column": "2021-06-28 13:30:00-04:00"
        },
        {
         "Close": 246.84500122070312,
         "RSI": 61.54967198478292,
         "_deepnote_index_column": "2021-06-28 14:30:00-04:00"
        },
        {
         "Close": 246.6000061035156,
         "RSI": 61.05445036275322,
         "_deepnote_index_column": "2021-06-28 15:30:00-04:00"
        },
        {
         "Close": 248.5399932861328,
         "RSI": 63.49641886935193,
         "_deepnote_index_column": "2021-06-29 09:30:00-04:00"
        },
        {
         "Close": 247.0449981689453,
         "RSI": 60.430446497177854,
         "_deepnote_index_column": "2021-06-29 10:30:00-04:00"
        },
        {
         "Close": 248.69500732421875,
         "RSI": 62.527308140625045,
         "_deepnote_index_column": "2021-06-29 11:30:00-04:00"
        },
        {
         "Close": 249.4600067138672,
         "RSI": 63.469688095609186,
         "_deepnote_index_column": "2021-06-29 12:30:00-04:00"
        },
        {
         "Close": 248.9398956298828,
         "RSI": 62.35031688630777,
         "_deepnote_index_column": "2021-06-29 13:30:00-04:00"
        },
        {
         "Close": 248.28570556640625,
         "RSI": 60.9311154869552,
         "_deepnote_index_column": "2021-06-29 14:30:00-04:00"
        },
        {
         "Close": 248.8800048828125,
         "RSI": 61.76134573446544,
         "_deepnote_index_column": "2021-06-29 15:30:00-04:00"
        },
        {
         "Close": 245.94000244140625,
         "RSI": 55.62169687344205,
         "_deepnote_index_column": "2021-06-30 09:30:00-04:00"
        },
        {
         "Close": 245.2700042724609,
         "RSI": 54.32935749969861,
         "_deepnote_index_column": "2021-06-30 10:30:00-04:00"
        },
        {
         "Close": 243.9900054931641,
         "RSI": 51.90995442315542,
         "_deepnote_index_column": "2021-06-30 11:30:00-04:00"
        },
        {
         "Close": 244.33999633789065,
         "RSI": 52.51703717920139,
         "_deepnote_index_column": "2021-06-30 12:30:00-04:00"
        },
        {
         "Close": 244.0800018310547,
         "RSI": 52.004961353698086,
         "_deepnote_index_column": "2021-06-30 13:30:00-04:00"
        },
        {
         "Close": 244.07000732421875,
         "RSI": 51.984501880831345,
         "_deepnote_index_column": "2021-06-30 14:30:00-04:00"
        },
        {
         "Close": 243.72999572753903,
         "RSI": 51.26408393522638,
         "_deepnote_index_column": "2021-06-30 15:30:00-04:00"
        },
        {
         "Close": 242.2899932861328,
         "RSI": 48.28823574842113,
         "_deepnote_index_column": "2021-07-01 09:30:00-04:00"
        },
        {
         "Close": 238.9718017578125,
         "RSI": 42.34134762876609,
         "_deepnote_index_column": "2021-07-01 10:30:00-04:00"
        },
        {
         "Close": 241.07000732421875,
         "RSI": 46.699622325163446,
         "_deepnote_index_column": "2021-07-01 11:30:00-04:00"
        },
        {
         "Close": 241.2550048828125,
         "RSI": 47.07001225190191,
         "_deepnote_index_column": "2021-07-01 12:30:00-04:00"
        },
        {
         "Close": 241.63499450683597,
         "RSI": 47.85157724388338,
         "_deepnote_index_column": "2021-07-01 13:30:00-04:00"
        },
        {
         "Close": 241.8199005126953,
         "RSI": 48.24206625221813,
         "_deepnote_index_column": "2021-07-01 14:30:00-04:00"
        },
        {
         "Close": 241.9600067138672,
         "RSI": 48.54858749479397,
         "_deepnote_index_column": "2021-07-01 15:30:00-04:00"
        },
        {
         "Close": 241.0200042724609,
         "RSI": 46.60425669590062,
         "_deepnote_index_column": "2021-07-02 09:30:00-04:00"
        },
        {
         "Close": 239.92999267578125,
         "RSI": 44.43738361957115,
         "_deepnote_index_column": "2021-07-02 10:30:00-04:00"
        },
        {
         "Close": 239.7250061035156,
         "RSI": 44.033114207010016,
         "_deepnote_index_column": "2021-07-02 11:30:00-04:00"
        },
        {
         "Close": 240.2400054931641,
         "RSI": 45.344784297010634,
         "_deepnote_index_column": "2021-07-02 12:30:00-04:00"
        },
        {
         "Close": 240.9122009277344,
         "RSI": 47.04566227336954,
         "_deepnote_index_column": "2021-07-02 13:30:00-04:00"
        },
        {
         "Close": 240.97999572753903,
         "RSI": 47.21960421391559,
         "_deepnote_index_column": "2021-07-02 14:30:00-04:00"
        },
        {
         "Close": 241.1000061035156,
         "RSI": 47.539894408396876,
         "_deepnote_index_column": "2021-07-02 15:30:00-04:00"
        },
        {
         "Close": 248.19000244140625,
         "RSI": 61.8869125043023,
         "_deepnote_index_column": "2021-07-06 09:30:00-04:00"
        },
        {
         "Close": 245.9600067138672,
         "RSI": 56.76036501767237,
         "_deepnote_index_column": "2021-07-06 10:30:00-04:00"
        },
        {
         "Close": 244.1450042724609,
         "RSI": 53.007798354696085,
         "_deepnote_index_column": "2021-07-06 11:30:00-04:00"
        },
        {
         "Close": 245.0800018310547,
         "RSI": 54.63025152491885,
         "_deepnote_index_column": "2021-07-06 12:30:00-04:00"
        },
        {
         "Close": 245.51040649414065,
         "RSI": 55.37495070652272,
         "_deepnote_index_column": "2021-07-06 13:30:00-04:00"
        },
        {
         "Close": 246.4900054931641,
         "RSI": 57.05934526912806,
         "_deepnote_index_column": "2021-07-06 14:30:00-04:00"
        },
        {
         "Close": 246.7899932861328,
         "RSI": 57.57426442900767,
         "_deepnote_index_column": "2021-07-06 15:30:00-04:00"
        },
        {
         "Close": 248.6000061035156,
         "RSI": 60.56975035366179,
         "_deepnote_index_column": "2021-07-07 09:30:00-04:00"
        },
        {
         "Close": 247.22579956054688,
         "RSI": 57.34220782450934,
         "_deepnote_index_column": "2021-07-07 10:30:00-04:00"
        },
        {
         "Close": 247.1000061035156,
         "RSI": 57.050016508834105,
         "_deepnote_index_column": "2021-07-07 11:30:00-04:00"
        },
        {
         "Close": 245.8300018310547,
         "RSI": 54.126284655245115,
         "_deepnote_index_column": "2021-07-07 12:30:00-04:00"
        },
        {
         "Close": 246.4850006103516,
         "RSI": 55.365028846631134,
         "_deepnote_index_column": "2021-07-07 13:30:00-04:00"
        },
        {
         "Close": 245.69000244140625,
         "RSI": 53.523095644076314,
         "_deepnote_index_column": "2021-07-07 14:30:00-04:00"
        },
        {
         "Close": 244.63999938964844,
         "RSI": 51.16259230460466,
         "_deepnote_index_column": "2021-07-07 15:30:00-04:00"
        },
        {
         "Close": 235.33999633789065,
         "RSI": 36.28160576216629,
         "_deepnote_index_column": "2021-07-08 09:30:00-04:00"
        },
        {
         "Close": 233.2899932861328,
         "RSI": 33.993205355810275,
         "_deepnote_index_column": "2021-07-08 10:30:00-04:00"
        },
        {
         "Close": 235.55999755859372,
         "RSI": 38.50304011160957,
         "_deepnote_index_column": "2021-07-08 11:30:00-04:00"
        },
        {
         "Close": 237.1199951171875,
         "RSI": 41.39246864699072,
         "_deepnote_index_column": "2021-07-08 12:30:00-04:00"
        },
        {
         "Close": 236.86019897460935,
         "RSI": 41.05516257002324,
         "_deepnote_index_column": "2021-07-08 13:30:00-04:00"
        },
        {
         "Close": 236.3699951171875,
         "RSI": 40.40286121036301,
         "_deepnote_index_column": "2021-07-08 14:30:00-04:00"
        },
        {
         "Close": 235.83999633789065,
         "RSI": 39.68702041305834,
         "_deepnote_index_column": "2021-07-08 15:30:00-04:00"
        },
        {
         "Close": 237.875,
         "RSI": 43.70798928450825,
         "_deepnote_index_column": "2021-07-09 09:30:00-04:00"
        },
        {
         "Close": 240.1499938964844,
         "RSI": 47.79352173537061,
         "_deepnote_index_column": "2021-07-09 10:30:00-04:00"
        },
        {
         "Close": 240.5500030517578,
         "RSI": 48.48380081456599,
         "_deepnote_index_column": "2021-07-09 11:30:00-04:00"
        },
        {
         "Close": 240.8800048828125,
         "RSI": 49.067157188784314,
         "_deepnote_index_column": "2021-07-09 12:30:00-04:00"
        },
        {
         "Close": 241.91000366210935,
         "RSI": 50.88967831921538,
         "_deepnote_index_column": "2021-07-09 13:30:00-04:00"
        },
        {
         "Close": 240.67999267578125,
         "RSI": 48.70441119437122,
         "_deepnote_index_column": "2021-07-09 14:30:00-04:00"
        },
        {
         "Close": 241.8999938964844,
         "RSI": 50.90022205308024,
         "_deepnote_index_column": "2021-07-09 15:30:00-04:00"
        },
        {
         "Close": 243.3500061035156,
         "RSI": 53.39018552305446,
         "_deepnote_index_column": "2021-07-12 09:30:00-04:00"
        },
        {
         "Close": 243.1999969482422,
         "RSI": 53.09768647796444,
         "_deepnote_index_column": "2021-07-12 10:30:00-04:00"
        },
        {
         "Close": 243.1499938964844,
         "RSI": 52.99606752595014,
         "_deepnote_index_column": "2021-07-12 11:30:00-04:00"
        },
        {
         "Close": 243.0500030517578,
         "RSI": 52.78396095860491,
         "_deepnote_index_column": "2021-07-12 12:30:00-04:00"
        },
        {
         "Close": 242.97000122070312,
         "RSI": 52.6070789555868,
         "_deepnote_index_column": "2021-07-12 13:30:00-04:00"
        },
        {
         "Close": 243.4010009765625,
         "RSI": 53.4887490040146,
         "_deepnote_index_column": "2021-07-12 14:30:00-04:00"
        },
        {
         "Close": 243.27999877929688,
         "RSI": 53.19701610029521,
         "_deepnote_index_column": "2021-07-12 15:30:00-04:00"
        },
        {
         "Close": 244.2700042724609,
         "RSI": 55.29182109553925,
         "_deepnote_index_column": "2021-07-13 09:30:00-04:00"
        },
        {
         "Close": 244.7100067138672,
         "RSI": 56.206536789483266,
         "_deepnote_index_column": "2021-07-13 10:30:00-04:00"
        },
        {
         "Close": 244.8374938964844,
         "RSI": 56.47744010380289,
         "_deepnote_index_column": "2021-07-13 11:30:00-04:00"
        },
        {
         "Close": 242.72999572753903,
         "RSI": 51.00128059201063,
         "_deepnote_index_column": "2021-07-13 12:30:00-04:00"
        },
        {
         "Close": 242.3500061035156,
         "RSI": 50.08194077989488,
         "_deepnote_index_column": "2021-07-13 13:30:00-04:00"
        },
        {
         "Close": 241.46499633789065,
         "RSI": 47.96744325433468,
         "_deepnote_index_column": "2021-07-13 14:30:00-04:00"
        },
        {
         "Close": 241.42999267578125,
         "RSI": 47.883484401547236,
         "_deepnote_index_column": "2021-07-13 15:30:00-04:00"
        },
        {
         "Close": 244.05239868164065,
         "RSI": 54.190848731643584,
         "_deepnote_index_column": "2021-07-14 09:30:00-04:00"
        },
        {
         "Close": 241.38999938964844,
         "RSI": 47.99840702130102,
         "_deepnote_index_column": "2021-07-14 10:30:00-04:00"
        },
        {
         "Close": 241.75,
         "RSI": 48.82860670474158,
         "_deepnote_index_column": "2021-07-14 11:30:00-04:00"
        },
        {
         "Close": 239.96499633789065,
         "RSI": 45.08155268126643,
         "_deepnote_index_column": "2021-07-14 12:30:00-04:00"
        },
        {
         "Close": 240.1407928466797,
         "RSI": 45.51392865279793,
         "_deepnote_index_column": "2021-07-14 13:30:00-04:00"
        },
        {
         "Close": 238.8497009277344,
         "RSI": 42.90881860450926,
         "_deepnote_index_column": "2021-07-14 14:30:00-04:00"
        },
        {
         "Close": 238.97000122070312,
         "RSI": 43.22674338325032,
         "_deepnote_index_column": "2021-07-14 15:30:00-04:00"
        },
        {
         "Close": 239.2400054931641,
         "RSI": 43.962154227744335,
         "_deepnote_index_column": "2021-07-15 09:30:00-04:00"
        },
        {
         "Close": 239.3500061035156,
         "RSI": 44.27095726534621,
         "_deepnote_index_column": "2021-07-15 10:30:00-04:00"
        },
        {
         "Close": 235.58999633789065,
         "RSI": 36.960828783639734,
         "_deepnote_index_column": "2021-07-15 11:30:00-04:00"
        },
        {
         "Close": 235.3600006103516,
         "RSI": 36.57295869665911,
         "_deepnote_index_column": "2021-07-15 12:30:00-04:00"
        },
        {
         "Close": 234.4499969482422,
         "RSI": 35.04509538100362,
         "_deepnote_index_column": "2021-07-15 13:30:00-04:00"
        },
        {
         "Close": 235.3699951171875,
         "RSI": 37.803290217024475,
         "_deepnote_index_column": "2021-07-15 14:30:00-04:00"
        },
        {
         "Close": 235.16000366210935,
         "RSI": 37.42244447595063,
         "_deepnote_index_column": "2021-07-15 15:30:00-04:00"
        },
        {
         "Close": 235.2400054931641,
         "RSI": 37.673620974868605,
         "_deepnote_index_column": "2021-07-16 09:30:00-04:00"
        },
        {
         "Close": 236.7400054931641,
         "RSI": 42.23801520114124,
         "_deepnote_index_column": "2021-07-16 10:30:00-04:00"
        },
        {
         "Close": 239.3300018310547,
         "RSI": 49.00831367779955,
         "_deepnote_index_column": "2021-07-16 11:30:00-04:00"
        },
        {
         "Close": 238.49400329589844,
         "RSI": 47.135852843648934,
         "_deepnote_index_column": "2021-07-16 12:30:00-04:00"
        },
        {
         "Close": 237.6909942626953,
         "RSI": 45.38690148347848,
         "_deepnote_index_column": "2021-07-16 13:30:00-04:00"
        },
        {
         "Close": 237.264892578125,
         "RSI": 44.467612005389725,
         "_deepnote_index_column": "2021-07-16 14:30:00-04:00"
        },
        {
         "Close": 237.55999755859372,
         "RSI": 45.273678005225385,
         "_deepnote_index_column": "2021-07-16 15:30:00-04:00"
        },
        {
         "Close": 228.5399932861328,
         "RSI": 30.885667450449716,
         "_deepnote_index_column": "2021-07-19 09:30:00-04:00"
        },
        {
         "Close": 231.9199981689453,
         "RSI": 38.5673145869781,
         "_deepnote_index_column": "2021-07-19 10:30:00-04:00"
        },
        {
         "Close": 231.6100006103516,
         "RSI": 38.15888968854166,
         "_deepnote_index_column": "2021-07-19 11:30:00-04:00"
        },
        {
         "Close": 230.59500122070312,
         "RSI": 36.818426654080525,
         "_deepnote_index_column": "2021-07-19 12:30:00-04:00"
        },
        {
         "Close": 232.83450317382807,
         "RSI": 41.573365611665295,
         "_deepnote_index_column": "2021-07-19 13:30:00-04:00"
        },
        {
         "Close": 232,
         "RSI": 40.38422793314813,
         "_deepnote_index_column": "2021-07-19 14:30:00-04:00"
        },
        {
         "Close": 233.69000244140625,
         "RSI": 43.802321666085206,
         "_deepnote_index_column": "2021-07-19 15:30:00-04:00"
        },
        {
         "Close": 236.32000732421875,
         "RSI": 48.61632593789675,
         "_deepnote_index_column": "2021-07-20 09:30:00-04:00"
        },
        {
         "Close": 242.1000061035156,
         "RSI": 57.097095825943406,
         "_deepnote_index_column": "2021-07-20 10:30:00-04:00"
        },
        {
         "Close": 241.9544982910156,
         "RSI": 56.849078842268185,
         "_deepnote_index_column": "2021-07-20 11:30:00-04:00"
        },
        {
         "Close": 244.2050018310547,
         "RSI": 59.69246796672588,
         "_deepnote_index_column": "2021-07-20 12:30:00-04:00"
        },
        {
         "Close": 246.2899932861328,
         "RSI": 62.120552175349644,
         "_deepnote_index_column": "2021-07-20 13:30:00-04:00"
        },
        {
         "Close": 246.75,
         "RSI": 62.641880987848104,
         "_deepnote_index_column": "2021-07-20 14:30:00-04:00"
        },
        {
         "Close": 246.5399932861328,
         "RSI": 62.231322132188126,
         "_deepnote_index_column": "2021-07-20 15:30:00-04:00"
        },
        {
         "Close": 252.5,
         "RSI": 68.4024781434195,
         "_deepnote_index_column": "2021-07-21 09:30:00-04:00"
        },
        {
         "Close": 252.33999633789065,
         "RSI": 68.08887286669574,
         "_deepnote_index_column": "2021-07-21 10:30:00-04:00"
        },
        {
         "Close": 253.4499969482422,
         "RSI": 69.12013601374987,
         "_deepnote_index_column": "2021-07-21 11:30:00-04:00"
        },
        {
         "Close": 256.31298828125,
         "RSI": 71.60527738473036,
         "_deepnote_index_column": "2021-07-21 12:30:00-04:00"
        },
        {
         "Close": 258.3500061035156,
         "RSI": 73.21563093662981,
         "_deepnote_index_column": "2021-07-21 13:30:00-04:00"
        },
        {
         "Close": 256.864990234375,
         "RSI": 70.16943960368548,
         "_deepnote_index_column": "2021-07-21 14:30:00-04:00"
        },
        {
         "Close": 257.25,
         "RSI": 70.50352191563965,
         "_deepnote_index_column": "2021-07-21 15:30:00-04:00"
        },
        {
         "Close": 261.4700012207031,
         "RSI": 73.87127620991448,
         "_deepnote_index_column": "2021-07-22 09:30:00-04:00"
        },
        {
         "Close": 259.3299865722656,
         "RSI": 69.63769319869108,
         "_deepnote_index_column": "2021-07-22 10:30:00-04:00"
        },
        {
         "Close": 259.5599975585937,
         "RSI": 69.83280723328956,
         "_deepnote_index_column": "2021-07-22 11:30:00-04:00"
        },
        {
         "Close": 260.5299987792969,
         "RSI": 70.66747976884484,
         "_deepnote_index_column": "2021-07-22 12:30:00-04:00"
        },
        {
         "Close": 260.9700012207031,
         "RSI": 71.04899941592447,
         "_deepnote_index_column": "2021-07-22 13:30:00-04:00"
        },
        {
         "Close": 260.25,
         "RSI": 69.49591783396934,
         "_deepnote_index_column": "2021-07-22 14:30:00-04:00"
        },
        {
         "Close": 260.6000061035156,
         "RSI": 69.8325124228601,
         "_deepnote_index_column": "2021-07-22 15:30:00-04:00"
        },
        {
         "Close": 265.1700134277344,
         "RSI": 73.79655362888312,
         "_deepnote_index_column": "2021-07-23 09:30:00-04:00"
        },
        {
         "Close": 264.2900085449219,
         "RSI": 71.88667872689012,
         "_deepnote_index_column": "2021-07-23 10:30:00-04:00"
        },
        {
         "Close": 263.6000061035156,
         "RSI": 70.38693944272453,
         "_deepnote_index_column": "2021-07-23 11:30:00-04:00"
        },
        {
         "Close": 263.1000061035156,
         "RSI": 69.28710219743908,
         "_deepnote_index_column": "2021-07-23 12:30:00-04:00"
        },
        {
         "Close": 263.8299865722656,
         "RSI": 70.0055702890809,
         "_deepnote_index_column": "2021-07-23 13:30:00-04:00"
        },
        {
         "Close": 263.8399963378906,
         "RSI": 70.01566939706038,
         "_deepnote_index_column": "2021-07-23 14:30:00-04:00"
        },
        {
         "Close": 264.07000732421875,
         "RSI": 70.25729162811932,
         "_deepnote_index_column": "2021-07-23 15:30:00-04:00"
        },
        {
         "Close": 263.79998779296875,
         "RSI": 69.56629283198839,
         "_deepnote_index_column": "2021-07-26 09:30:00-04:00"
        },
        {
         "Close": 261.90008544921875,
         "RSI": 64.85384035611719,
         "_deepnote_index_column": "2021-07-26 10:30:00-04:00"
        },
        {
         "Close": 262.4599914550781,
         "RSI": 65.5754291895187,
         "_deepnote_index_column": "2021-07-26 11:30:00-04:00"
        },
        {
         "Close": 262.6000061035156,
         "RSI": 65.76001281305298,
         "_deepnote_index_column": "2021-07-26 12:30:00-04:00"
        },
        {
         "Close": 261.5639953613281,
         "RSI": 63.130100915328384,
         "_deepnote_index_column": "2021-07-26 13:30:00-04:00"
        },
        {
         "Close": 262.54998779296875,
         "RSI": 64.54697491396317,
         "_deepnote_index_column": "2021-07-26 14:30:00-04:00"
        },
        {
         "Close": 262.04998779296875,
         "RSI": 63.252707188463255,
         "_deepnote_index_column": "2021-07-26 15:30:00-04:00"
        },
        {
         "Close": 253.86720275878903,
         "RSI": 47.04331909250401,
         "_deepnote_index_column": "2021-07-27 09:30:00-04:00"
        },
        {
         "Close": 246.5540008544922,
         "RSI": 37.923408386803835,
         "_deepnote_index_column": "2021-07-27 10:30:00-04:00"
        },
        {
         "Close": 248.9900054931641,
         "RSI": 41.86515748918984,
         "_deepnote_index_column": "2021-07-27 11:30:00-04:00"
        },
        {
         "Close": 247.6300048828125,
         "RSI": 40.36273527966398,
         "_deepnote_index_column": "2021-07-27 12:30:00-04:00"
        },
        {
         "Close": 250.6100006103516,
         "RSI": 44.911234678965414,
         "_deepnote_index_column": "2021-07-27 13:30:00-04:00"
        },
        {
         "Close": 252.2700042724609,
         "RSI": 47.26380140617035,
         "_deepnote_index_column": "2021-07-27 14:30:00-04:00"
        },
        {
         "Close": 251.72999572753903,
         "RSI": 46.584286104375174,
         "_deepnote_index_column": "2021-07-27 15:30:00-04:00"
        },
        {
         "Close": 256.29998779296875,
         "RSI": 52.6353166275117,
         "_deepnote_index_column": "2021-07-28 09:30:00-04:00"
        },
        {
         "Close": 258.4150085449219,
         "RSI": 55.10664715697084,
         "_deepnote_index_column": "2021-07-28 10:30:00-04:00"
        },
        {
         "Close": 258.95001220703125,
         "RSI": 55.720285416698175,
         "_deepnote_index_column": "2021-07-28 11:30:00-04:00"
        },
        {
         "Close": 257.0400085449219,
         "RSI": 53.004414207113776,
         "_deepnote_index_column": "2021-07-28 12:30:00-04:00"
        },
        {
         "Close": 258.4800109863281,
         "RSI": 54.750354344520105,
         "_deepnote_index_column": "2021-07-28 13:30:00-04:00"
        },
        {
         "Close": 259.7099914550781,
         "RSI": 56.20942790100338,
         "_deepnote_index_column": "2021-07-28 14:30:00-04:00"
        },
        {
         "Close": 258.4700012207031,
         "RSI": 54.35417028402265,
         "_deepnote_index_column": "2021-07-28 15:30:00-04:00"
        },
        {
         "Close": 259.70001220703125,
         "RSI": 55.871210512017264,
         "_deepnote_index_column": "2021-07-29 09:30:00-04:00"
        },
        {
         "Close": 260.1900939941406,
         "RSI": 56.476370173328654,
         "_deepnote_index_column": "2021-07-29 10:30:00-04:00"
        },
        {
         "Close": 260.2200012207031,
         "RSI": 56.5145811809988,
         "_deepnote_index_column": "2021-07-29 11:30:00-04:00"
        },
        {
         "Close": 257.864990234375,
         "RSI": 52.689886747972196,
         "_deepnote_index_column": "2021-07-29 12:30:00-04:00"
        },
        {
         "Close": 255.4700927734375,
         "RSI": 49.13893130852322,
         "_deepnote_index_column": "2021-07-29 13:30:00-04:00"
        },
        {
         "Close": 254.93499755859372,
         "RSI": 48.37410235677659,
         "_deepnote_index_column": "2021-07-29 14:30:00-04:00"
        },
        {
         "Close": 255.2700042724609,
         "RSI": 48.896976243495935,
         "_deepnote_index_column": "2021-07-29 15:30:00-04:00"
        },
        {
         "Close": 251.60499572753903,
         "RSI": 43.8010341844533,
         "_deepnote_index_column": "2021-07-30 09:30:00-04:00"
        },
        {
         "Close": 248.32000732421875,
         "RSI": 39.88866255357517,
         "_deepnote_index_column": "2021-07-30 10:30:00-04:00"
        },
        {
         "Close": 247.17999267578125,
         "RSI": 38.63129880175894,
         "_deepnote_index_column": "2021-07-30 11:30:00-04:00"
        },
        {
         "Close": 247.5984039306641,
         "RSI": 39.36783946833151,
         "_deepnote_index_column": "2021-07-30 12:30:00-04:00"
        },
        {
         "Close": 245.7700042724609,
         "RSI": 37.31304870027881,
         "_deepnote_index_column": "2021-07-30 13:30:00-04:00"
        },
        {
         "Close": 245.9199981689453,
         "RSI": 37.593622268278615,
         "_deepnote_index_column": "2021-07-30 14:30:00-04:00"
        },
        {
         "Close": 247.25,
         "RSI": 40.09014665790516,
         "_deepnote_index_column": "2021-07-30 15:30:00-04:00"
        },
        {
         "Close": 269.95001220703125,
         "RSI": 65.10618194763956,
         "_deepnote_index_column": "2021-08-02 09:30:00-04:00"
        },
        {
         "Close": 275.239990234375,
         "RSI": 68.34089617036646,
         "_deepnote_index_column": "2021-08-02 10:30:00-04:00"
        },
        {
         "Close": 275.19000244140625,
         "RSI": 68.27809493101711,
         "_deepnote_index_column": "2021-08-02 11:30:00-04:00"
        },
        {
         "Close": 276.32000732421875,
         "RSI": 68.95523967666672,
         "_deepnote_index_column": "2021-08-02 12:30:00-04:00"
        },
        {
         "Close": 279.6247863769531,
         "RSI": 70.86504051002328,
         "_deepnote_index_column": "2021-08-02 13:30:00-04:00"
        },
        {
         "Close": 273.1388854980469,
         "RSI": 62.89218933331186,
         "_deepnote_index_column": "2021-08-02 14:30:00-04:00"
        },
        {
         "Close": 272.3999938964844,
         "RSI": 62.05702433083398,
         "_deepnote_index_column": "2021-08-02 15:30:00-04:00"
        },
        {
         "Close": 266.0799865722656,
         "RSI": 55.44459641443315,
         "_deepnote_index_column": "2021-08-03 09:30:00-04:00"
        },
        {
         "Close": 263.3099975585937,
         "RSI": 52.85287461979143,
         "_deepnote_index_column": "2021-08-03 10:30:00-04:00"
        },
        {
         "Close": 271.67999267578125,
         "RSI": 58.94210360433681,
         "_deepnote_index_column": "2021-08-03 11:30:00-04:00"
        },
        {
         "Close": 268.8900146484375,
         "RSI": 56.392945657932316,
         "_deepnote_index_column": "2021-08-03 12:30:00-04:00"
        },
        {
         "Close": 266.9849853515625,
         "RSI": 54.6969512772767,
         "_deepnote_index_column": "2021-08-03 13:30:00-04:00"
        },
        {
         "Close": 269.6798095703125,
         "RSI": 56.634113278819854,
         "_deepnote_index_column": "2021-08-03 14:30:00-04:00"
        },
        {
         "Close": 269.3999938964844,
         "RSI": 56.37131195430996,
         "_deepnote_index_column": "2021-08-03 15:30:00-04:00"
        },
        {
         "Close": 263.5899963378906,
         "RSI": 51.19229583547236,
         "_deepnote_index_column": "2021-08-04 09:30:00-04:00"
        },
        {
         "Close": 265.6600036621094,
         "RSI": 52.8140573388757,
         "_deepnote_index_column": "2021-08-04 10:30:00-04:00"
        },
        {
         "Close": 265.4100036621094,
         "RSI": 52.592452389597035,
         "_deepnote_index_column": "2021-08-04 11:30:00-04:00"
        },
        {
         "Close": 266.4849853515625,
         "RSI": 53.473861010499284,
         "_deepnote_index_column": "2021-08-04 12:30:00-04:00"
        },
        {
         "Close": 265.9200134277344,
         "RSI": 52.93079413663289,
         "_deepnote_index_column": "2021-08-04 13:30:00-04:00"
        },
        {
         "Close": 265.5,
         "RSI": 52.514484480959794,
         "_deepnote_index_column": "2021-08-04 14:30:00-04:00"
        },
        {
         "Close": 266.45001220703125,
         "RSI": 53.385221500004434,
         "_deepnote_index_column": "2021-08-04 15:30:00-04:00"
        },
        {
         "Close": 278.2344970703125,
         "RSI": 62.37206122636597,
         "_deepnote_index_column": "2021-08-05 09:30:00-04:00"
        },
        {
         "Close": 287.25,
         "RSI": 67.41787715397143,
         "_deepnote_index_column": "2021-08-05 10:30:00-04:00"
        },
        {
         "Close": 287.32000732421875,
         "RSI": 67.4534622865956,
         "_deepnote_index_column": "2021-08-05 11:30:00-04:00"
        },
        {
         "Close": 283.7300109863281,
         "RSI": 63.70704214468197,
         "_deepnote_index_column": "2021-08-05 12:30:00-04:00"
        },
        {
         "Close": 283.8900146484375,
         "RSI": 63.80112976104416,
         "_deepnote_index_column": "2021-08-05 13:30:00-04:00"
        },
        {
         "Close": 282.4599914550781,
         "RSI": 62.28581889323232,
         "_deepnote_index_column": "2021-08-05 14:30:00-04:00"
        },
        {
         "Close": 281.79998779296875,
         "RSI": 61.5770820059739,
         "_deepnote_index_column": "2021-08-05 15:30:00-04:00"
        },
        {
         "Close": 279.1000061035156,
         "RSI": 58.70766014715524,
         "_deepnote_index_column": "2021-08-06 09:30:00-04:00"
        },
        {
         "Close": 277.2200012207031,
         "RSI": 56.77343111932224,
         "_deepnote_index_column": "2021-08-06 10:30:00-04:00"
        },
        {
         "Close": 278.6400146484375,
         "RSI": 57.87417015289243,
         "_deepnote_index_column": "2021-08-06 11:30:00-04:00"
        },
        {
         "Close": 276.6119079589844,
         "RSI": 55.745392862101596,
         "_deepnote_index_column": "2021-08-06 12:30:00-04:00"
        },
        {
         "Close": 276.2349853515625,
         "RSI": 55.34811081327603,
         "_deepnote_index_column": "2021-08-06 13:30:00-04:00"
        },
        {
         "Close": 276.0409851074219,
         "RSI": 55.13575572001216,
         "_deepnote_index_column": "2021-08-06 14:30:00-04:00"
        },
        {
         "Close": 275.06500244140625,
         "RSI": 54.04051770865431,
         "_deepnote_index_column": "2021-08-06 15:30:00-04:00"
        }
       ]
      },
      "text/plain": "                                Close        RSI\nDatetime                                        \n2019-09-03 09:30:00-04:00   62.959999        NaN\n2019-09-03 10:30:00-04:00   62.320000   0.000000\n2019-09-03 11:30:00-04:00   62.000000   0.000000\n2019-09-03 12:30:00-04:00   61.774899   0.000000\n2019-09-03 13:30:00-04:00   61.360001   0.000000\n...                               ...        ...\n2021-08-06 11:30:00-04:00  278.640015  57.874170\n2021-08-06 12:30:00-04:00  276.611908  55.745393\n2021-08-06 13:30:00-04:00  276.234985  55.348111\n2021-08-06 14:30:00-04:00  276.040985  55.135756\n2021-08-06 15:30:00-04:00  275.065002  54.040518\n\n[3397 rows x 2 columns]",
      "text/html": "<div>\n<style scoped>\n    .dataframe tbody tr th:only-of-type {\n        vertical-align: middle;\n    }\n\n    .dataframe tbody tr th {\n        vertical-align: top;\n    }\n\n    .dataframe thead th {\n        text-align: right;\n    }\n</style>\n<table border=\"1\" class=\"dataframe\">\n  <thead>\n    <tr style=\"text-align: right;\">\n      <th></th>\n      <th>Close</th>\n      <th>RSI</th>\n    </tr>\n    <tr>\n      <th>Datetime</th>\n      <th></th>\n      <th></th>\n    </tr>\n  </thead>\n  <tbody>\n    <tr>\n      <th>2019-09-03 09:30:00-04:00</th>\n      <td>62.959999</td>\n      <td>NaN</td>\n    </tr>\n    <tr>\n      <th>2019-09-03 10:30:00-04:00</th>\n      <td>62.320000</td>\n      <td>0.000000</td>\n    </tr>\n    <tr>\n      <th>2019-09-03 11:30:00-04:00</th>\n      <td>62.000000</td>\n      <td>0.000000</td>\n    </tr>\n    <tr>\n      <th>2019-09-03 12:30:00-04:00</th>\n      <td>61.774899</td>\n      <td>0.000000</td>\n    </tr>\n    <tr>\n      <th>2019-09-03 13:30:00-04:00</th>\n      <td>61.360001</td>\n      <td>0.000000</td>\n    </tr>\n    <tr>\n      <th>...</th>\n      <td>...</td>\n      <td>...</td>\n    </tr>\n    <tr>\n      <th>2021-08-06 11:30:00-04:00</th>\n      <td>278.640015</td>\n      <td>57.874170</td>\n    </tr>\n    <tr>\n      <th>2021-08-06 12:30:00-04:00</th>\n      <td>276.611908</td>\n      <td>55.745393</td>\n    </tr>\n    <tr>\n      <th>2021-08-06 13:30:00-04:00</th>\n      <td>276.234985</td>\n      <td>55.348111</td>\n    </tr>\n    <tr>\n      <th>2021-08-06 14:30:00-04:00</th>\n      <td>276.040985</td>\n      <td>55.135756</td>\n    </tr>\n    <tr>\n      <th>2021-08-06 15:30:00-04:00</th>\n      <td>275.065002</td>\n      <td>54.040518</td>\n    </tr>\n  </tbody>\n</table>\n<p>3397 rows × 2 columns</p>\n</div>"
     },
     "metadata": {}
    }
   ],
   "execution_count": 38
  },
  {
   "cell_type": "code",
   "source": "fig, (ax1, ax2) = plt.subplots(2)\nax1.get_xaxis().set_visible(False)\nfig.suptitle('SQ-1hr')\nsq_1hr_rsi['Close'].plot(ax=ax1)\n\nax1.set_ylabel('Price ($)')\nsq_1hr_rsi['RSI'].plot(ax=ax2)\nax2.set_ylim(0,100)\nax2.axhline(30, color= 'r', linestyle= '--')\nax2.axhline(70, color= 'r', linestyle= '--')\nax2.set_ylabel('RSI')\nplt.show()",
   "metadata": {
    "tags": [],
    "cell_id": "00005-d42a41ab-3ba3-4bce-8b8a-1bf9fb24e65f",
    "deepnote_to_be_reexecuted": false,
    "source_hash": "77d6859a",
    "execution_start": 1628362646335,
    "execution_millis": 530,
    "deepnote_cell_type": "code"
   },
   "outputs": [
    {
     "data": {
      "text/plain": "<Figure size 1440x720 with 2 Axes>",
      "image/png": "[encoded data removed]"
     },
     "metadata": {
      "image/png": {
       "width": 1319,
       "height": 642
      }
     },
     "output_type": "display_data"
    }
   ],
   "execution_count": 39
  },
  {
   "cell_type": "code",
   "source": "",
   "metadata": {
    "tags": [],
    "cell_id": "00006-239476b7-d8ed-4658-99d7-16b4e716915c",
    "deepnote_cell_type": "code"
   },
   "outputs": [],
   "execution_count": null
  },
  {
   "cell_type": "markdown",
   "source": "<a style='text-decoration:none;line-height:16px;display:flex;color:#5B5B62;padding:10px;justify-content:end;' href='https://deepnote.com?utm_source=created-in-deepnote-cell&projectId=d12c285c-6789-4c45-9ad7-1be9b4d60622' target=\"_blank\">\n<img alt='Created in deepnote.com' style='display:inline;max-height:16px;margin:0px;margin-right:7.5px;' src='data:image/svg+xml;base64,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' > </img>\nCreated in <span style='font-weight:600;margin-left:4px;'>Deepnote</span></a>",
   "metadata": {
    "tags": [],
    "created_in_deepnote_cell": true,
    "deepnote_cell_type": "markdown"
   }
  }
 ],
 "nbformat": 4,
 "nbformat_minor": 2,
 "metadata": {
  "orig_nbformat": 2,
  "deepnote": {
   "is_reactive": false
  },
  "deepnote_notebook_id": "2dea5e50-e359-4e3a-b23d-2cc3dc17d137",
  "deepnote_execution_queue": []
 }
}