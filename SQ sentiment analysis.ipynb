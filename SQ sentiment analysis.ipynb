{
 "cells": [
  {
   "cell_type": "code",
   "metadata": {
    "cell_id": "00000-505ea567-6106-4c5f-803d-89705b0ae78b",
    "deepnote_to_be_reexecuted": false,
    "source_hash": "1431050b",
    "execution_start": 1628358661828,
    "execution_millis": 8,
    "deepnote_cell_type": "code"
   },
   "source": "# !pip install yfinance",
   "execution_count": 1,
   "outputs": []
  },
  {
   "cell_type": "code",
   "metadata": {
    "cell_id": "00001-447ba2fa-8832-47aa-810d-d1640bcf9fed",
    "deepnote_to_be_reexecuted": false,
    "source_hash": "f8407a23",
    "execution_start": 1628358661843,
    "execution_millis": 165,
    "deepnote_cell_type": "code"
   },
   "source": "import yfinance as yf\nimport pandas as pd\nimport os\nimport pandas as pd\nfrom dotenv import load_dotenv\nimport nltk as nltk\nnltk.download('vader_lexicon')\nfrom nltk.sentiment.vader import SentimentIntensityAnalyzer\nfrom datetime import datetime, timedelta\nanalyzer = SentimentIntensityAnalyzer()\nfrom newsapi import NewsApiClient\n%matplotlib inline\nimport hvplot.pandas",
   "execution_count": 2,
   "outputs": [
    {
     "output_type": "error",
     "ename": "ModuleNotFoundError",
     "evalue": "No module named 'dotenv'",
     "traceback": [
      "\u001b[0;31m---------------------------------------------------------------------------\u001b[0m",
      "\u001b[0;31mModuleNotFoundError\u001b[0m                       Traceback (most recent call last)",
      "\u001b[0;32m/tmp/ipykernel_295/553260135.py\u001b[0m in \u001b[0;36m<module>\u001b[0;34m\u001b[0m\n\u001b[1;32m      3\u001b[0m \u001b[0;32mimport\u001b[0m \u001b[0mos\u001b[0m\u001b[0;34m\u001b[0m\u001b[0;34m\u001b[0m\u001b[0m\n\u001b[1;32m      4\u001b[0m \u001b[0;32mimport\u001b[0m \u001b[0mpandas\u001b[0m \u001b[0;32mas\u001b[0m \u001b[0mpd\u001b[0m\u001b[0;34m\u001b[0m\u001b[0;34m\u001b[0m\u001b[0m\n\u001b[0;32m----> 5\u001b[0;31m \u001b[0;32mfrom\u001b[0m \u001b[0mdotenv\u001b[0m \u001b[0;32mimport\u001b[0m \u001b[0mload_dotenv\u001b[0m\u001b[0;34m\u001b[0m\u001b[0;34m\u001b[0m\u001b[0m\n\u001b[0m\u001b[1;32m      6\u001b[0m \u001b[0;32mimport\u001b[0m \u001b[0mnltk\u001b[0m \u001b[0;32mas\u001b[0m \u001b[0mnltk\u001b[0m\u001b[0;34m\u001b[0m\u001b[0;34m\u001b[0m\u001b[0m\n\u001b[1;32m      7\u001b[0m \u001b[0mnltk\u001b[0m\u001b[0;34m.\u001b[0m\u001b[0mdownload\u001b[0m\u001b[0;34m(\u001b[0m\u001b[0;34m'vader_lexicon'\u001b[0m\u001b[0;34m)\u001b[0m\u001b[0;34m\u001b[0m\u001b[0;34m\u001b[0m\u001b[0m\n",
      "\u001b[0;31mModuleNotFoundError\u001b[0m: No module named 'dotenv'"
     ]
    }
   ]
  },
  {
   "cell_type": "code",
   "metadata": {
    "scrolled": true,
    "tags": [],
    "cell_id": "00002-52f5a50a-28c8-4968-a6df-369634f56899",
    "deepnote_to_be_reexecuted": true,
    "source_hash": "31c7da51",
    "deepnote_cell_type": "code"
   },
   "source": "# # Obtain DataFrame of hourly close price of Square stock\n# sq_1hr = yf.download(tickers='SQ', start='2019-09-01', interval='1h')\n# sq_1hr.drop(columns = ['Open','High','Low','Adj Close','Volume'], inplace = True)\n# sq_1hr.reset_index(inplace = True)\n# sq_1hr.rename(columns = {'index' : 'DateTime'}, inplace = True)\n# sq_1hr.set_index(pd.to_datetime(sq_1hr['DateTime'], infer_datetime_format = True), inplace = True)\n# sq_1hr.drop(columns = 'DateTime', inplace = True)\n# sq_1hr",
   "outputs": [],
   "execution_count": null
  },
  {
   "cell_type": "code",
   "metadata": {
    "scrolled": true,
    "tags": [],
    "cell_id": "00003-315463d2-a4ec-44e4-9c0d-971af1e7d73b",
    "deepnote_to_be_reexecuted": true,
    "source_hash": "8af081a6",
    "deepnote_cell_type": "code"
   },
   "source": "# Obtain DataFrame of daily close price of Square stock\nsq_daily = yf.download(tickers='SQ', start='2019-09-01', interval='1d')\nsq_daily.drop(columns = ['Open','High','Low','Adj Close','Volume'], inplace = True)\nsq_daily.reset_index(inplace = True)\nsq_daily.rename(columns = {'index' : 'Date'}, inplace = True)\nsq_daily.set_index(pd.to_datetime(sq_daily['Date'], infer_datetime_format = True), inplace = True)\nsq_daily.drop(columns = 'Date', inplace = True)\nsq_daily",
   "outputs": [
    {
     "name": "stdout",
     "output_type": "stream",
     "text": "[*********************100%***********************]  1 of 1 completed\n"
    },
    {
     "data": {
      "text/html": "<div>\n<style scoped>\n    .dataframe tbody tr th:only-of-type {\n        vertical-align: middle;\n    }\n\n    .dataframe tbody tr th {\n        vertical-align: top;\n    }\n\n    .dataframe thead th {\n        text-align: right;\n    }\n</style>\n<table border=\"1\" class=\"dataframe\">\n  <thead>\n    <tr style=\"text-align: right;\">\n      <th></th>\n      <th>Close</th>\n    </tr>\n    <tr>\n      <th>Date</th>\n      <th></th>\n    </tr>\n  </thead>\n  <tbody>\n    <tr>\n      <th>2019-09-03</th>\n      <td>61.130001</td>\n    </tr>\n    <tr>\n      <th>2019-09-04</th>\n      <td>61.169998</td>\n    </tr>\n    <tr>\n      <th>2019-09-05</th>\n      <td>63.020000</td>\n    </tr>\n    <tr>\n      <th>2019-09-06</th>\n      <td>62.000000</td>\n    </tr>\n    <tr>\n      <th>2019-09-09</th>\n      <td>61.470001</td>\n    </tr>\n    <tr>\n      <th>2019-09-10</th>\n      <td>60.549999</td>\n    </tr>\n    <tr>\n      <th>2019-09-11</th>\n      <td>59.200001</td>\n    </tr>\n    <tr>\n      <th>2019-09-12</th>\n      <td>57.790001</td>\n    </tr>\n    <tr>\n      <th>2019-09-13</th>\n      <td>58.290001</td>\n    </tr>\n    <tr>\n      <th>2019-09-16</th>\n      <td>59.250000</td>\n    </tr>\n    <tr>\n      <th>2019-09-17</th>\n      <td>59.599998</td>\n    </tr>\n    <tr>\n      <th>2019-09-18</th>\n      <td>59.750000</td>\n    </tr>\n    <tr>\n      <th>2019-09-19</th>\n      <td>59.029999</td>\n    </tr>\n    <tr>\n      <th>2019-09-20</th>\n      <td>57.849998</td>\n    </tr>\n    <tr>\n      <th>2019-09-23</th>\n      <td>56.759998</td>\n    </tr>\n    <tr>\n      <th>2019-09-24</th>\n      <td>57.500000</td>\n    </tr>\n    <tr>\n      <th>2019-09-25</th>\n      <td>58.509998</td>\n    </tr>\n    <tr>\n      <th>2019-09-26</th>\n      <td>60.799999</td>\n    </tr>\n    <tr>\n      <th>2019-09-27</th>\n      <td>60.750000</td>\n    </tr>\n    <tr>\n      <th>2019-09-30</th>\n      <td>61.950001</td>\n    </tr>\n    <tr>\n      <th>2019-10-01</th>\n      <td>61.630001</td>\n    </tr>\n    <tr>\n      <th>2019-10-02</th>\n      <td>60.080002</td>\n    </tr>\n    <tr>\n      <th>2019-10-03</th>\n      <td>62.049999</td>\n    </tr>\n    <tr>\n      <th>2019-10-04</th>\n      <td>62.650002</td>\n    </tr>\n    <tr>\n      <th>2019-10-07</th>\n      <td>62.250000</td>\n    </tr>\n    <tr>\n      <th>2019-10-08</th>\n      <td>60.799999</td>\n    </tr>\n    <tr>\n      <th>2019-10-09</th>\n      <td>62.220001</td>\n    </tr>\n    <tr>\n      <th>2019-10-10</th>\n      <td>62.029999</td>\n    </tr>\n    <tr>\n      <th>2019-10-11</th>\n      <td>61.540001</td>\n    </tr>\n    <tr>\n      <th>2019-10-14</th>\n      <td>61.830002</td>\n    </tr>\n    <tr>\n      <th>...</th>\n      <td>...</td>\n    </tr>\n    <tr>\n      <th>2021-06-25</th>\n      <td>239.940002</td>\n    </tr>\n    <tr>\n      <th>2021-06-28</th>\n      <td>246.600006</td>\n    </tr>\n    <tr>\n      <th>2021-06-29</th>\n      <td>248.869995</td>\n    </tr>\n    <tr>\n      <th>2021-06-30</th>\n      <td>243.800003</td>\n    </tr>\n    <tr>\n      <th>2021-07-01</th>\n      <td>241.850006</td>\n    </tr>\n    <tr>\n      <th>2021-07-02</th>\n      <td>241.080002</td>\n    </tr>\n    <tr>\n      <th>2021-07-06</th>\n      <td>246.699997</td>\n    </tr>\n    <tr>\n      <th>2021-07-07</th>\n      <td>244.639999</td>\n    </tr>\n    <tr>\n      <th>2021-07-08</th>\n      <td>235.899994</td>\n    </tr>\n    <tr>\n      <th>2021-07-09</th>\n      <td>241.889999</td>\n    </tr>\n    <tr>\n      <th>2021-07-12</th>\n      <td>243.350006</td>\n    </tr>\n    <tr>\n      <th>2021-07-13</th>\n      <td>241.429993</td>\n    </tr>\n    <tr>\n      <th>2021-07-14</th>\n      <td>239.000000</td>\n    </tr>\n    <tr>\n      <th>2021-07-15</th>\n      <td>235.160004</td>\n    </tr>\n    <tr>\n      <th>2021-07-16</th>\n      <td>237.520004</td>\n    </tr>\n    <tr>\n      <th>2021-07-19</th>\n      <td>233.690002</td>\n    </tr>\n    <tr>\n      <th>2021-07-20</th>\n      <td>246.470001</td>\n    </tr>\n    <tr>\n      <th>2021-07-21</th>\n      <td>257.250000</td>\n    </tr>\n    <tr>\n      <th>2021-07-22</th>\n      <td>260.589996</td>\n    </tr>\n    <tr>\n      <th>2021-07-23</th>\n      <td>264.000000</td>\n    </tr>\n    <tr>\n      <th>2021-07-26</th>\n      <td>261.989990</td>\n    </tr>\n    <tr>\n      <th>2021-07-27</th>\n      <td>251.729996</td>\n    </tr>\n    <tr>\n      <th>2021-07-28</th>\n      <td>258.609985</td>\n    </tr>\n    <tr>\n      <th>2021-07-29</th>\n      <td>255.279999</td>\n    </tr>\n    <tr>\n      <th>2021-07-30</th>\n      <td>247.259995</td>\n    </tr>\n    <tr>\n      <th>2021-08-02</th>\n      <td>272.380005</td>\n    </tr>\n    <tr>\n      <th>2021-08-03</th>\n      <td>269.489990</td>\n    </tr>\n    <tr>\n      <th>2021-08-04</th>\n      <td>266.420013</td>\n    </tr>\n    <tr>\n      <th>2021-08-05</th>\n      <td>281.809998</td>\n    </tr>\n    <tr>\n      <th>2021-08-06</th>\n      <td>275.100006</td>\n    </tr>\n  </tbody>\n</table>\n<p>487 rows × 1 columns</p>\n</div>",
      "text/plain": "                 Close\nDate                  \n2019-09-03   61.130001\n2019-09-04   61.169998\n2019-09-05   63.020000\n2019-09-06   62.000000\n2019-09-09   61.470001\n2019-09-10   60.549999\n2019-09-11   59.200001\n2019-09-12   57.790001\n2019-09-13   58.290001\n2019-09-16   59.250000\n2019-09-17   59.599998\n2019-09-18   59.750000\n2019-09-19   59.029999\n2019-09-20   57.849998\n2019-09-23   56.759998\n2019-09-24   57.500000\n2019-09-25   58.509998\n2019-09-26   60.799999\n2019-09-27   60.750000\n2019-09-30   61.950001\n2019-10-01   61.630001\n2019-10-02   60.080002\n2019-10-03   62.049999\n2019-10-04   62.650002\n2019-10-07   62.250000\n2019-10-08   60.799999\n2019-10-09   62.220001\n2019-10-10   62.029999\n2019-10-11   61.540001\n2019-10-14   61.830002\n...                ...\n2021-06-25  239.940002\n2021-06-28  246.600006\n2021-06-29  248.869995\n2021-06-30  243.800003\n2021-07-01  241.850006\n2021-07-02  241.080002\n2021-07-06  246.699997\n2021-07-07  244.639999\n2021-07-08  235.899994\n2021-07-09  241.889999\n2021-07-12  243.350006\n2021-07-13  241.429993\n2021-07-14  239.000000\n2021-07-15  235.160004\n2021-07-16  237.520004\n2021-07-19  233.690002\n2021-07-20  246.470001\n2021-07-21  257.250000\n2021-07-22  260.589996\n2021-07-23  264.000000\n2021-07-26  261.989990\n2021-07-27  251.729996\n2021-07-28  258.609985\n2021-07-29  255.279999\n2021-07-30  247.259995\n2021-08-02  272.380005\n2021-08-03  269.489990\n2021-08-04  266.420013\n2021-08-05  281.809998\n2021-08-06  275.100006\n\n[487 rows x 1 columns]"
     },
     "execution_count": 29,
     "metadata": {},
     "output_type": "execute_result"
    }
   ],
   "execution_count": null
  },
  {
   "cell_type": "code",
   "metadata": {
    "scrolled": true,
    "tags": [],
    "cell_id": "00004-6f55396d-5a3d-42f6-bde3-42b52b839fb1",
    "deepnote_to_be_reexecuted": true,
    "source_hash": "e73f6daf",
    "deepnote_cell_type": "code"
   },
   "source": "# Use the `pct_change` function to calculate hourly returns of SQ\nsq_returns_1d = sq_daily.pct_change().dropna()\n\n# Display sample data\nsq_returns_1d.head()",
   "outputs": [
    {
     "data": {
      "text/html": "<div>\n<style scoped>\n    .dataframe tbody tr th:only-of-type {\n        vertical-align: middle;\n    }\n\n    .dataframe tbody tr th {\n        vertical-align: top;\n    }\n\n    .dataframe thead th {\n        text-align: right;\n    }\n</style>\n<table border=\"1\" class=\"dataframe\">\n  <thead>\n    <tr style=\"text-align: right;\">\n      <th></th>\n      <th>Close</th>\n    </tr>\n    <tr>\n      <th>Date</th>\n      <th></th>\n    </tr>\n  </thead>\n  <tbody>\n    <tr>\n      <th>2019-09-04</th>\n      <td>0.000654</td>\n    </tr>\n    <tr>\n      <th>2019-09-05</th>\n      <td>0.030244</td>\n    </tr>\n    <tr>\n      <th>2019-09-06</th>\n      <td>-0.016185</td>\n    </tr>\n    <tr>\n      <th>2019-09-09</th>\n      <td>-0.008548</td>\n    </tr>\n    <tr>\n      <th>2019-09-10</th>\n      <td>-0.014967</td>\n    </tr>\n  </tbody>\n</table>\n</div>",
      "text/plain": "               Close\nDate                \n2019-09-04  0.000654\n2019-09-05  0.030244\n2019-09-06 -0.016185\n2019-09-09 -0.008548\n2019-09-10 -0.014967"
     },
     "execution_count": 30,
     "metadata": {},
     "output_type": "execute_result"
    }
   ],
   "execution_count": null
  },
  {
   "cell_type": "code",
   "metadata": {
    "cell_id": "00005-f4f9be67-4492-438d-b547-4b09a9b79169",
    "deepnote_to_be_reexecuted": true,
    "source_hash": "63c50dd0",
    "deepnote_cell_type": "code"
   },
   "source": "current_date = pd.Timestamp(datetime.now(), tz=\"America/New_York\").isoformat()\npast_date = pd.Timestamp(datetime.now()- timedelta(30), tz=\"America/New_York\").isoformat()",
   "outputs": [],
   "execution_count": null
  },
  {
   "cell_type": "code",
   "metadata": {
    "cell_id": "00006-e6b19351-8f77-4f70-a09a-879acdb566f5",
    "deepnote_to_be_reexecuted": true,
    "source_hash": "3d1fc9c9",
    "deepnote_cell_type": "code"
   },
   "source": "# Use newsapi client to get most relevant 20 headlines per day in the past month\ndef get_headlines(keyword):\n    all_headlines = []\n    all_dates = []    \n    date = datetime.strptime(current_date[:10], \"%Y-%m-%d\")\n    end_date = datetime.strptime(past_date[:10], \"%Y-%m-%d\")\n    print(f\"Fetching news about '{keyword}'\")\n    print(\"*\" * 30)\n    while date > end_date:\n        print(f\"retrieving news from: {date}\")\n        articles = newsapi.get_everything(\n            q=keyword,\n            from_param=str(date)[:10],\n            to=str(date)[:10],\n            language=\"en\",\n            sort_by=\"relevancy\",\n            page=1,\n        )\n        headlines = []\n        for i in range(0, len(articles[\"articles\"])):\n            headlines.append(articles[\"articles\"][i][\"title\"])\n        all_headlines.append(headlines)\n        all_dates.append(date)\n        date = date - timedelta(days=1)\n    return all_headlines, all_dates",
   "outputs": [],
   "execution_count": null
  },
  {
   "cell_type": "code",
   "metadata": {
    "scrolled": true,
    "tags": [],
    "cell_id": "00007-1b3b8c78-b85a-441c-9ec8-127edb2cbc61",
    "deepnote_to_be_reexecuted": true,
    "source_hash": "9ee20b7d",
    "deepnote_cell_type": "code"
   },
   "source": "sq_headlines, dates = get_headlines(\"square\")",
   "outputs": [
    {
     "name": "stdout",
     "output_type": "stream",
     "text": "Fetching news about 'square'\n******************************\nretrieving news from: 2021-08-07 00:00:00\nretrieving news from: 2021-08-06 00:00:00\nretrieving news from: 2021-08-05 00:00:00\nretrieving news from: 2021-08-04 00:00:00\nretrieving news from: 2021-08-03 00:00:00\nretrieving news from: 2021-08-02 00:00:00\nretrieving news from: 2021-08-01 00:00:00\nretrieving news from: 2021-07-31 00:00:00\nretrieving news from: 2021-07-30 00:00:00\nretrieving news from: 2021-07-29 00:00:00\nretrieving news from: 2021-07-28 00:00:00\nretrieving news from: 2021-07-27 00:00:00\nretrieving news from: 2021-07-26 00:00:00\nretrieving news from: 2021-07-25 00:00:00\nretrieving news from: 2021-07-24 00:00:00\nretrieving news from: 2021-07-23 00:00:00\nretrieving news from: 2021-07-22 00:00:00\nretrieving news from: 2021-07-21 00:00:00\nretrieving news from: 2021-07-20 00:00:00\nretrieving news from: 2021-07-19 00:00:00\nretrieving news from: 2021-07-18 00:00:00\nretrieving news from: 2021-07-17 00:00:00\nretrieving news from: 2021-07-16 00:00:00\nretrieving news from: 2021-07-15 00:00:00\nretrieving news from: 2021-07-14 00:00:00\nretrieving news from: 2021-07-13 00:00:00\nretrieving news from: 2021-07-12 00:00:00\nretrieving news from: 2021-07-11 00:00:00\nretrieving news from: 2021-07-10 00:00:00\nretrieving news from: 2021-07-09 00:00:00\n"
    }
   ],
   "execution_count": null
  },
  {
   "cell_type": "code",
   "metadata": {
    "cell_id": "00008-66695965-3ad0-4d21-986e-d758494f3ecd",
    "deepnote_to_be_reexecuted": true,
    "source_hash": "6b113bd8",
    "deepnote_cell_type": "code"
   },
   "source": "# Instantiate SentimentIntensityAnalyzer\nsid = SentimentIntensityAnalyzer()\n\ndef headline_sentiment_summarizer_avg(headlines):\n    sentiment = []\n    for day in headlines:\n        day_score = []\n        for h in day:\n            if h == None:\n                continue\n            else:\n                day_score.append(sid.polarity_scores(h)[\"compound\"])\n        sentiment.append(sum(day_score) / len(day_score))\n    return sentiment",
   "outputs": [],
   "execution_count": null
  },
  {
   "cell_type": "code",
   "metadata": {
    "cell_id": "00009-dc14ed59-a9f2-47d6-80f7-c3f3b1597407",
    "deepnote_to_be_reexecuted": true,
    "source_hash": "601fb11d",
    "deepnote_cell_type": "code"
   },
   "source": "# Get averages of each topics sentiment\nsq_avg_sentiment = headline_sentiment_summarizer_avg(sq_headlines)",
   "outputs": [],
   "execution_count": null
  },
  {
   "cell_type": "code",
   "metadata": {
    "cell_id": "00010-593b0b5e-9074-4e75-bde8-9b2be0549a26",
    "deepnote_to_be_reexecuted": true,
    "source_hash": "b9427d6d",
    "deepnote_cell_type": "code"
   },
   "source": "\n# Combine Sentiment Averages into DataFrame\ntopic_sentiments = pd.DataFrame(\n    {\n        \"sq_avg_sentiment\": sq_avg_sentiment,\n    }\n)\n# Set the index value of the sentiment averages DataFrame to be the series of dates.\ntopic_sentiments.index = pd.to_datetime(dates)\n\n# Merge with SQ daily returns\ntopic_sentiments = sq_returns_1d.join(topic_sentiments).dropna(how=\"any\")\n\ntopic_sentiments.rename(columns = {'Close' : 'Daily Return'}, inplace = True)\n\ndisplay(topic_sentiments)",
   "outputs": [
    {
     "data": {
      "text/html": "<div>\n<style scoped>\n    .dataframe tbody tr th:only-of-type {\n        vertical-align: middle;\n    }\n\n    .dataframe tbody tr th {\n        vertical-align: top;\n    }\n\n    .dataframe thead th {\n        text-align: right;\n    }\n</style>\n<table border=\"1\" class=\"dataframe\">\n  <thead>\n    <tr style=\"text-align: right;\">\n      <th></th>\n      <th>Daily Return</th>\n      <th>sq_avg_sentiment</th>\n    </tr>\n    <tr>\n      <th>Date</th>\n      <th></th>\n      <th></th>\n    </tr>\n  </thead>\n  <tbody>\n    <tr>\n      <th>2021-07-09</th>\n      <td>0.025392</td>\n      <td>0.074360</td>\n    </tr>\n    <tr>\n      <th>2021-07-12</th>\n      <td>0.006036</td>\n      <td>0.036140</td>\n    </tr>\n    <tr>\n      <th>2021-07-13</th>\n      <td>-0.007890</td>\n      <td>0.004490</td>\n    </tr>\n    <tr>\n      <th>2021-07-14</th>\n      <td>-0.010065</td>\n      <td>0.085575</td>\n    </tr>\n    <tr>\n      <th>2021-07-15</th>\n      <td>-0.016067</td>\n      <td>-0.153820</td>\n    </tr>\n    <tr>\n      <th>2021-07-16</th>\n      <td>0.010036</td>\n      <td>-0.013570</td>\n    </tr>\n    <tr>\n      <th>2021-07-19</th>\n      <td>-0.016125</td>\n      <td>-0.116490</td>\n    </tr>\n    <tr>\n      <th>2021-07-20</th>\n      <td>0.054688</td>\n      <td>0.016330</td>\n    </tr>\n    <tr>\n      <th>2021-07-21</th>\n      <td>0.043738</td>\n      <td>-0.029480</td>\n    </tr>\n    <tr>\n      <th>2021-07-22</th>\n      <td>0.012983</td>\n      <td>0.104455</td>\n    </tr>\n    <tr>\n      <th>2021-07-23</th>\n      <td>0.013086</td>\n      <td>-0.009155</td>\n    </tr>\n    <tr>\n      <th>2021-07-26</th>\n      <td>-0.007614</td>\n      <td>0.056135</td>\n    </tr>\n    <tr>\n      <th>2021-07-27</th>\n      <td>-0.039162</td>\n      <td>0.064135</td>\n    </tr>\n    <tr>\n      <th>2021-07-28</th>\n      <td>0.027331</td>\n      <td>0.065305</td>\n    </tr>\n    <tr>\n      <th>2021-07-29</th>\n      <td>-0.012876</td>\n      <td>-0.114600</td>\n    </tr>\n    <tr>\n      <th>2021-07-30</th>\n      <td>-0.031417</td>\n      <td>0.045440</td>\n    </tr>\n    <tr>\n      <th>2021-08-02</th>\n      <td>0.101594</td>\n      <td>0.064525</td>\n    </tr>\n    <tr>\n      <th>2021-08-03</th>\n      <td>-0.010610</td>\n      <td>-0.083765</td>\n    </tr>\n    <tr>\n      <th>2021-08-04</th>\n      <td>-0.011392</td>\n      <td>0.064220</td>\n    </tr>\n    <tr>\n      <th>2021-08-05</th>\n      <td>0.057766</td>\n      <td>-0.162145</td>\n    </tr>\n    <tr>\n      <th>2021-08-06</th>\n      <td>-0.023810</td>\n      <td>-0.030255</td>\n    </tr>\n  </tbody>\n</table>\n</div>",
      "text/plain": "            Daily Return  sq_avg_sentiment\nDate                                      \n2021-07-09      0.025392          0.074360\n2021-07-12      0.006036          0.036140\n2021-07-13     -0.007890          0.004490\n2021-07-14     -0.010065          0.085575\n2021-07-15     -0.016067         -0.153820\n2021-07-16      0.010036         -0.013570\n2021-07-19     -0.016125         -0.116490\n2021-07-20      0.054688          0.016330\n2021-07-21      0.043738         -0.029480\n2021-07-22      0.012983          0.104455\n2021-07-23      0.013086         -0.009155\n2021-07-26     -0.007614          0.056135\n2021-07-27     -0.039162          0.064135\n2021-07-28      0.027331          0.065305\n2021-07-29     -0.012876         -0.114600\n2021-07-30     -0.031417          0.045440\n2021-08-02      0.101594          0.064525\n2021-08-03     -0.010610         -0.083765\n2021-08-04     -0.011392          0.064220\n2021-08-05      0.057766         -0.162145\n2021-08-06     -0.023810         -0.030255"
     },
     "metadata": {},
     "output_type": "display_data"
    }
   ],
   "execution_count": null
  },
  {
   "cell_type": "code",
   "metadata": {
    "cell_id": "00011-be4a5bb6-2ef3-4d34-82c1-85b7af205797",
    "deepnote_to_be_reexecuted": true,
    "source_hash": "7cc19c9c",
    "deepnote_cell_type": "code"
   },
   "source": "topic_sentiments.corr().style.background_gradient()",
   "outputs": [
    {
     "data": {
      "text/html": "<style  type=\"text/css\" >\n    #T_239b084c_f79b_11eb_9e33_2cf05d0aa6f5row0_col0 {\n            background-color:  #023858;\n            color:  #f1f1f1;\n        }    #T_239b084c_f79b_11eb_9e33_2cf05d0aa6f5row0_col1 {\n            background-color:  #fff7fb;\n            color:  #000000;\n        }    #T_239b084c_f79b_11eb_9e33_2cf05d0aa6f5row1_col0 {\n            background-color:  #fff7fb;\n            color:  #000000;\n        }    #T_239b084c_f79b_11eb_9e33_2cf05d0aa6f5row1_col1 {\n            background-color:  #023858;\n            color:  #f1f1f1;\n        }</style><table id=\"T_239b084c_f79b_11eb_9e33_2cf05d0aa6f5\" ><thead>    <tr>        <th class=\"blank level0\" ></th>        <th class=\"col_heading level0 col0\" >Daily Return</th>        <th class=\"col_heading level0 col1\" >sq_avg_sentiment</th>    </tr></thead><tbody>\n                <tr>\n                        <th id=\"T_239b084c_f79b_11eb_9e33_2cf05d0aa6f5level0_row0\" class=\"row_heading level0 row0\" >Daily Return</th>\n                        <td id=\"T_239b084c_f79b_11eb_9e33_2cf05d0aa6f5row0_col0\" class=\"data row0 col0\" >1</td>\n                        <td id=\"T_239b084c_f79b_11eb_9e33_2cf05d0aa6f5row0_col1\" class=\"data row0 col1\" >0.0624055</td>\n            </tr>\n            <tr>\n                        <th id=\"T_239b084c_f79b_11eb_9e33_2cf05d0aa6f5level0_row1\" class=\"row_heading level0 row1\" >sq_avg_sentiment</th>\n                        <td id=\"T_239b084c_f79b_11eb_9e33_2cf05d0aa6f5row1_col0\" class=\"data row1 col0\" >0.0624055</td>\n                        <td id=\"T_239b084c_f79b_11eb_9e33_2cf05d0aa6f5row1_col1\" class=\"data row1 col1\" >1</td>\n            </tr>\n    </tbody></table>",
      "text/plain": "<pandas.io.formats.style.Styler at 0x1da5952de88>"
     },
     "execution_count": 51,
     "metadata": {},
     "output_type": "execute_result"
    }
   ],
   "execution_count": null
  },
  {
   "cell_type": "code",
   "metadata": {
    "cell_id": "00012-8c76bab8-2e2e-427e-87de-7225e207c8ee",
    "deepnote_to_be_reexecuted": true,
    "source_hash": "1677eb9a",
    "deepnote_cell_type": "code"
   },
   "source": "import numpy as np\nfrom sklearn.model_selection import train_test_split\nfrom sklearn.preprocessing import StandardScaler\nfrom tensorflow.keras.models import Sequential\nfrom tensorflow.keras.layers import Dense",
   "outputs": [],
   "execution_count": null
  },
  {
   "cell_type": "code",
   "metadata": {
    "cell_id": "00013-cf737de0-79a6-48a0-ae74-d857de0b772f",
    "deepnote_to_be_reexecuted": true,
    "source_hash": "a4d12bab",
    "deepnote_cell_type": "code"
   },
   "source": "X = topic_sentiments['sq_avg_sentiment'].values.reshape(-1,1)\ny = topic_sentiments['Daily Return'].values.reshape(-1,1)",
   "outputs": [],
   "execution_count": null
  },
  {
   "cell_type": "code",
   "metadata": {
    "cell_id": "00014-1011cc15-5f97-4781-88b2-a9500792335f",
    "deepnote_to_be_reexecuted": true,
    "source_hash": "4e6530e4",
    "deepnote_cell_type": "code"
   },
   "source": "# X.\n# y",
   "outputs": [
    {
     "data": {
      "text/plain": "array([[ 0.02539214],\n       [ 0.00603583],\n       [-0.00788993],\n       [-0.010065  ],\n       [-0.01606693],\n       [ 0.01003572],\n       [-0.01612497],\n       [ 0.05468783],\n       [ 0.04373757],\n       [ 0.01298346],\n       [ 0.0130857 ],\n       [-0.00761367],\n       [-0.03916178],\n       [ 0.02733083],\n       [-0.01287648],\n       [-0.0314165 ],\n       [ 0.10159351],\n       [-0.01061023],\n       [-0.0113918 ],\n       [ 0.05776587],\n       [-0.02381034]])"
     },
     "execution_count": 71,
     "metadata": {},
     "output_type": "execute_result"
    }
   ],
   "execution_count": null
  },
  {
   "cell_type": "code",
   "metadata": {
    "cell_id": "00015-bfd9d774-870d-4e79-89c8-8a116377dc4c",
    "deepnote_to_be_reexecuted": true,
    "source_hash": "47a6c6a5",
    "deepnote_cell_type": "code"
   },
   "source": "# Create training and testing datasets\nX_train, X_test, y_train, y_test = train_test_split(X, y, random_state=78)",
   "outputs": [],
   "execution_count": null
  },
  {
   "cell_type": "code",
   "metadata": {
    "cell_id": "00016-cdb327ba-9200-4bba-ab5d-7acc3d3bb354",
    "deepnote_to_be_reexecuted": true,
    "source_hash": "4d03acf0",
    "deepnote_cell_type": "code"
   },
   "source": "# Create scaler instance\nX_scaler = StandardScaler()\ny_scaler = StandardScaler()\n\n# Fit the scaler\nX_scaler.fit(X_train)\nX_scaler.fit(X_test)\n\ny_scaler.fit(y_test)\ny_scaler.fit(y_train)",
   "outputs": [
    {
     "data": {
      "text/plain": "StandardScaler()"
     },
     "execution_count": 76,
     "metadata": {},
     "output_type": "execute_result"
    }
   ],
   "execution_count": null
  },
  {
   "cell_type": "code",
   "metadata": {
    "cell_id": "00017-24522f43-2125-41ae-889d-0e0c5afad589",
    "deepnote_to_be_reexecuted": true,
    "source_hash": "1ed6ff6b",
    "deepnote_cell_type": "code"
   },
   "source": "# Scale the data\nX_train_scaled = X_scaler.transform(X_train)\nX_test_scaled = X_scaler.transform(X_test)\n\ny_train_scaled = y_scaler.transform(y_train)\ny_test_scaled = y_scaler.transform(y_test)",
   "outputs": [],
   "execution_count": null
  },
  {
   "cell_type": "code",
   "metadata": {
    "cell_id": "00018-e84df8d7-4070-49e0-ae66-60eb1d757c75",
    "deepnote_to_be_reexecuted": true,
    "source_hash": "c098522f",
    "deepnote_cell_type": "code"
   },
   "source": "# Create a sequential model\nneuron = Sequential()",
   "outputs": [],
   "execution_count": null
  },
  {
   "cell_type": "code",
   "metadata": {
    "cell_id": "00019-cf28d86b-6ff3-433d-9e47-4f63bea6a43e",
    "deepnote_to_be_reexecuted": true,
    "source_hash": "f50f134b",
    "deepnote_cell_type": "code"
   },
   "source": "# First layer\nnumber_inputs = 1\nnumber_hidden_nodes = 1\n\nneuron.add(Dense(units=number_hidden_nodes, activation=\"relu\", input_dim=number_inputs))",
   "outputs": [],
   "execution_count": null
  },
  {
   "cell_type": "code",
   "metadata": {
    "cell_id": "00020-2c097714-7bbd-4758-bd3d-55bbb19ae98b",
    "deepnote_to_be_reexecuted": true,
    "source_hash": "fc00167f",
    "deepnote_cell_type": "code"
   },
   "source": "# Output layer\nnumber_classes = 1\n\nneuron.add(Dense(units=number_classes, activation=\"sigmoid\"))",
   "outputs": [],
   "execution_count": null
  },
  {
   "cell_type": "code",
   "metadata": {
    "cell_id": "00021-f140e72c-279f-49b1-8ef8-9dab94509630",
    "deepnote_to_be_reexecuted": true,
    "source_hash": "1e5caeef",
    "deepnote_cell_type": "code"
   },
   "source": "# Model summary\nneuron.summary()",
   "outputs": [
    {
     "name": "stdout",
     "output_type": "stream",
     "text": "Model: \"sequential_1\"\n_________________________________________________________________\nLayer (type)                 Output Shape              Param #   \n=================================================================\ndense (Dense)                (None, 1)                 2         \n_________________________________________________________________\ndense_1 (Dense)              (None, 1)                 2         \n=================================================================\nTotal params: 4\nTrainable params: 4\nNon-trainable params: 0\n_________________________________________________________________\n"
    }
   ],
   "execution_count": null
  },
  {
   "cell_type": "code",
   "metadata": {
    "cell_id": "00022-13bda9a5-16da-4c6d-821f-64b2d6a8656f",
    "deepnote_to_be_reexecuted": true,
    "source_hash": "3fe2145d",
    "deepnote_cell_type": "code"
   },
   "source": "# Compile model\nneuron.compile(loss=\"binary_crossentropy\", optimizer=\"adam\", metrics=[\"accuracy\"])",
   "outputs": [],
   "execution_count": null
  },
  {
   "cell_type": "code",
   "metadata": {
    "scrolled": true,
    "tags": [],
    "cell_id": "00023-c55ff01a-873c-4a9b-86ad-c9cbed243d24",
    "deepnote_to_be_reexecuted": true,
    "source_hash": "dec708e1",
    "deepnote_cell_type": "code"
   },
   "source": "# Fitting the model with linear dummy data\nmodel = neuron.fit(X_train_scaled, y_train_scaled, epochs=100)",
   "outputs": [
    {
     "name": "stdout",
     "output_type": "stream",
     "text": "Epoch 1/100\n1/1 [==============================] - 0s 226ms/step - loss: 0.4530 - accuracy: 0.0000e+00\nEpoch 2/100\n1/1 [==============================] - 0s 1ms/step - loss: 0.4522 - accuracy: 0.0000e+00\nEpoch 3/100\n1/1 [==============================] - 0s 503us/step - loss: 0.4513 - accuracy: 0.0000e+00\nEpoch 4/100\n1/1 [==============================] - 0s 502us/step - loss: 0.4505 - accuracy: 0.0000e+00\nEpoch 5/100\n1/1 [==============================] - 0s 1ms/step - loss: 0.4496 - accuracy: 0.0000e+00\nEpoch 6/100\n1/1 [==============================] - 0s 1ms/step - loss: 0.4487 - accuracy: 0.0000e+00\nEpoch 7/100\n1/1 [==============================] - 0s 2ms/step - loss: 0.4479 - accuracy: 0.0000e+00\nEpoch 8/100\n1/1 [==============================] - 0s 1ms/step - loss: 0.4470 - accuracy: 0.0000e+00\nEpoch 9/100\n1/1 [==============================] - 0s 503us/step - loss: 0.4462 - accuracy: 0.0000e+00\nEpoch 10/100\n1/1 [==============================] - 0s 1ms/step - loss: 0.4453 - accuracy: 0.0000e+00\nEpoch 11/100\n1/1 [==============================] - 0s 1ms/step - loss: 0.4444 - accuracy: 0.0000e+00\nEpoch 12/100\n1/1 [==============================] - 0s 1ms/step - loss: 0.4436 - accuracy: 0.0000e+00\nEpoch 13/100\n1/1 [==============================] - 0s 1ms/step - loss: 0.4427 - accuracy: 0.0000e+00\nEpoch 14/100\n1/1 [==============================] - 0s 502us/step - loss: 0.4419 - accuracy: 0.0000e+00\nEpoch 15/100\n1/1 [==============================] - 0s 503us/step - loss: 0.4410 - accuracy: 0.0000e+00\nEpoch 16/100\n1/1 [==============================] - 0s 502us/step - loss: 0.4402 - accuracy: 0.0000e+00\nEpoch 17/100\n1/1 [==============================] - 0s 502us/step - loss: 0.4393 - accuracy: 0.0000e+00\nEpoch 18/100\n1/1 [==============================] - 0s 1ms/step - loss: 0.4385 - accuracy: 0.0000e+00\nEpoch 19/100\n1/1 [==============================] - 0s 1ms/step - loss: 0.4376 - accuracy: 0.0000e+00\nEpoch 20/100\n1/1 [==============================] - 0s 1ms/step - loss: 0.4368 - accuracy: 0.0000e+00\nEpoch 21/100\n1/1 [==============================] - 0s 1ms/step - loss: 0.4360 - accuracy: 0.0000e+00\nEpoch 22/100\n1/1 [==============================] - 0s 503us/step - loss: 0.4351 - accuracy: 0.0000e+00\nEpoch 23/100\n1/1 [==============================] - 0s 503us/step - loss: 0.4343 - accuracy: 0.0000e+00\nEpoch 24/100\n1/1 [==============================] - 0s 502us/step - loss: 0.4334 - accuracy: 0.0000e+00\nEpoch 25/100\n1/1 [==============================] - 0s 1ms/step - loss: 0.4326 - accuracy: 0.0000e+00\nEpoch 26/100\n1/1 [==============================] - 0s 1ms/step - loss: 0.4318 - accuracy: 0.0000e+00\nEpoch 27/100\n1/1 [==============================] - 0s 1ms/step - loss: 0.4309 - accuracy: 0.0000e+00\nEpoch 28/100\n1/1 [==============================] - 0s 1ms/step - loss: 0.4301 - accuracy: 0.0000e+00\nEpoch 29/100\n1/1 [==============================] - 0s 1ms/step - loss: 0.4293 - accuracy: 0.0000e+00\nEpoch 30/100\n1/1 [==============================] - 0s 1ms/step - loss: 0.4284 - accuracy: 0.0000e+00\nEpoch 31/100\n1/1 [==============================] - 0s 1ms/step - loss: 0.4276 - accuracy: 0.0000e+00\nEpoch 32/100\n1/1 [==============================] - 0s 1ms/step - loss: 0.4268 - accuracy: 0.0000e+00\nEpoch 33/100\n1/1 [==============================] - 0s 504us/step - loss: 0.4260 - accuracy: 0.0000e+00\nEpoch 34/100\n1/1 [==============================] - 0s 504us/step - loss: 0.4251 - accuracy: 0.0000e+00\nEpoch 35/100\n1/1 [==============================] - 0s 1ms/step - loss: 0.4243 - accuracy: 0.0000e+00\nEpoch 36/100\n1/1 [==============================] - 0s 1ms/step - loss: 0.4235 - accuracy: 0.0000e+00\nEpoch 37/100\n1/1 [==============================] - 0s 1ms/step - loss: 0.4227 - accuracy: 0.0000e+00\nEpoch 38/100\n1/1 [==============================] - 0s 1ms/step - loss: 0.4219 - accuracy: 0.0000e+00\nEpoch 39/100\n1/1 [==============================] - 0s 1ms/step - loss: 0.4210 - accuracy: 0.0000e+00\nEpoch 40/100\n1/1 [==============================] - 0s 2ms/step - loss: 0.4202 - accuracy: 0.0000e+00\nEpoch 41/100\n1/1 [==============================] - 0s 1ms/step - loss: 0.4194 - accuracy: 0.0000e+00\nEpoch 42/100\n1/1 [==============================] - 0s 1ms/step - loss: 0.4186 - accuracy: 0.0000e+00\nEpoch 43/100\n1/1 [==============================] - 0s 1ms/step - loss: 0.4178 - accuracy: 0.0000e+00\nEpoch 44/100\n1/1 [==============================] - 0s 503us/step - loss: 0.4170 - accuracy: 0.0000e+00\nEpoch 45/100\n1/1 [==============================] - 0s 503us/step - loss: 0.4162 - accuracy: 0.0000e+00\nEpoch 46/100\n1/1 [==============================] - 0s 503us/step - loss: 0.4154 - accuracy: 0.0000e+00\nEpoch 47/100\n1/1 [==============================] - 0s 502us/step - loss: 0.4146 - accuracy: 0.0000e+00\nEpoch 48/100\n1/1 [==============================] - 0s 1ms/step - loss: 0.4138 - accuracy: 0.0000e+00\nEpoch 49/100\n1/1 [==============================] - 0s 1ms/step - loss: 0.4129 - accuracy: 0.0000e+00\nEpoch 50/100\n1/1 [==============================] - 0s 503us/step - loss: 0.4121 - accuracy: 0.0000e+00\nEpoch 51/100\n1/1 [==============================] - 0s 1ms/step - loss: 0.4113 - accuracy: 0.0000e+00\nEpoch 52/100\n1/1 [==============================] - 0s 1ms/step - loss: 0.4106 - accuracy: 0.0000e+00\nEpoch 53/100\n1/1 [==============================] - 0s 1ms/step - loss: 0.4098 - accuracy: 0.0000e+00\nEpoch 54/100\n1/1 [==============================] - 0s 1ms/step - loss: 0.4090 - accuracy: 0.0000e+00\nEpoch 55/100\n1/1 [==============================] - 0s 503us/step - loss: 0.4082 - accuracy: 0.0000e+00\nEpoch 56/100\n1/1 [==============================] - 0s 504us/step - loss: 0.4074 - accuracy: 0.0000e+00\nEpoch 57/100\n1/1 [==============================] - 0s 1ms/step - loss: 0.4066 - accuracy: 0.0000e+00\nEpoch 58/100\n1/1 [==============================] - 0s 502us/step - loss: 0.4058 - accuracy: 0.0000e+00\nEpoch 59/100\n1/1 [==============================] - 0s 503us/step - loss: 0.4050 - accuracy: 0.0000e+00\nEpoch 60/100\n1/1 [==============================] - 0s 1ms/step - loss: 0.4042 - accuracy: 0.0000e+00\nEpoch 61/100\n1/1 [==============================] - 0s 1ms/step - loss: 0.4034 - accuracy: 0.0000e+00\nEpoch 62/100\n1/1 [==============================] - 0s 1ms/step - loss: 0.4027 - accuracy: 0.0000e+00\nEpoch 63/100\n1/1 [==============================] - 0s 1ms/step - loss: 0.4019 - accuracy: 0.0000e+00\nEpoch 64/100\n1/1 [==============================] - 0s 1ms/step - loss: 0.4011 - accuracy: 0.0000e+00\nEpoch 65/100\n1/1 [==============================] - 0s 504us/step - loss: 0.4003 - accuracy: 0.0000e+00\nEpoch 66/100\n1/1 [==============================] - 0s 503us/step - loss: 0.3995 - accuracy: 0.0000e+00\nEpoch 67/100\n1/1 [==============================] - 0s 1ms/step - loss: 0.3988 - accuracy: 0.0000e+00\nEpoch 68/100\n1/1 [==============================] - 0s 1ms/step - loss: 0.3980 - accuracy: 0.0000e+00\nEpoch 69/100\n1/1 [==============================] - 0s 1ms/step - loss: 0.3972 - accuracy: 0.0000e+00\nEpoch 70/100\n1/1 [==============================] - 0s 1ms/step - loss: 0.3964 - accuracy: 0.0000e+00\nEpoch 71/100\n1/1 [==============================] - 0s 1ms/step - loss: 0.3957 - accuracy: 0.0000e+00\nEpoch 72/100\n1/1 [==============================] - 0s 502us/step - loss: 0.3949 - accuracy: 0.0000e+00\nEpoch 73/100\n1/1 [==============================] - 0s 1ms/step - loss: 0.3941 - accuracy: 0.0000e+00\nEpoch 74/100\n1/1 [==============================] - 0s 503us/step - loss: 0.3934 - accuracy: 0.0000e+00\nEpoch 75/100\n1/1 [==============================] - 0s 503us/step - loss: 0.3926 - accuracy: 0.0000e+00\nEpoch 76/100\n1/1 [==============================] - 0s 504us/step - loss: 0.3918 - accuracy: 0.0000e+00\nEpoch 77/100\n1/1 [==============================] - 0s 502us/step - loss: 0.3911 - accuracy: 0.0000e+00\nEpoch 78/100\n1/1 [==============================] - 0s 1ms/step - loss: 0.3903 - accuracy: 0.0000e+00\nEpoch 79/100\n1/1 [==============================] - 0s 503us/step - loss: 0.3896 - accuracy: 0.0000e+00\nEpoch 80/100\n1/1 [==============================] - 0s 1ms/step - loss: 0.3888 - accuracy: 0.0000e+00\nEpoch 81/100\n1/1 [==============================] - 0s 502us/step - loss: 0.3880 - accuracy: 0.0000e+00\nEpoch 82/100\n1/1 [==============================] - 0s 503us/step - loss: 0.3873 - accuracy: 0.0000e+00\nEpoch 83/100\n1/1 [==============================] - 0s 503us/step - loss: 0.3865 - accuracy: 0.0000e+00\nEpoch 84/100\n1/1 [==============================] - 0s 502us/step - loss: 0.3858 - accuracy: 0.0000e+00\nEpoch 85/100\n1/1 [==============================] - 0s 1ms/step - loss: 0.3850 - accuracy: 0.0000e+00\nEpoch 86/100\n1/1 [==============================] - 0s 1ms/step - loss: 0.3843 - accuracy: 0.0000e+00\nEpoch 87/100\n1/1 [==============================] - 0s 504us/step - loss: 0.3835 - accuracy: 0.0000e+00\nEpoch 88/100\n1/1 [==============================] - 0s 502us/step - loss: 0.3828 - accuracy: 0.0000e+00\nEpoch 89/100\n1/1 [==============================] - 0s 1ms/step - loss: 0.3820 - accuracy: 0.0000e+00\nEpoch 90/100\n1/1 [==============================] - 0s 2ms/step - loss: 0.3813 - accuracy: 0.0000e+00\nEpoch 91/100\n1/1 [==============================] - 0s 1ms/step - loss: 0.3805 - accuracy: 0.0000e+00\nEpoch 92/100\n1/1 [==============================] - 0s 502us/step - loss: 0.3798 - accuracy: 0.0000e+00\nEpoch 93/100\n1/1 [==============================] - 0s 1ms/step - loss: 0.3791 - accuracy: 0.0000e+00\nEpoch 94/100\n1/1 [==============================] - 0s 1ms/step - loss: 0.3783 - accuracy: 0.0000e+00\nEpoch 95/100\n1/1 [==============================] - 0s 1ms/step - loss: 0.3776 - accuracy: 0.0000e+00\nEpoch 96/100\n1/1 [==============================] - 0s 503us/step - loss: 0.3768 - accuracy: 0.0000e+00\nEpoch 97/100\n1/1 [==============================] - 0s 503us/step - loss: 0.3761 - accuracy: 0.0000e+00\nEpoch 98/100\n1/1 [==============================] - 0s 503us/step - loss: 0.3754 - accuracy: 0.0000e+00\nEpoch 99/100\n1/1 [==============================] - 0s 502us/step - loss: 0.3746 - accuracy: 0.0000e+00\nEpoch 100/100\n1/1 [==============================] - 0s 1ms/step - loss: 0.3739 - accuracy: 0.0000e+00\n"
    }
   ],
   "execution_count": null
  },
  {
   "cell_type": "code",
   "metadata": {
    "cell_id": "00024-0aa7f176-aa7a-4db8-9dd1-7a8a25dbdaf2",
    "deepnote_to_be_reexecuted": true,
    "source_hash": "f1889272",
    "deepnote_cell_type": "code"
   },
   "source": "# Create a DataFrame with the history dictionary\ndf = pd.DataFrame(model.history, index=range(1, len(model.history[\"loss\"]) + 1))\n\n# Plot the loss\ndf.plot(y=\"loss\")",
   "outputs": [
    {
     "data": {
      "text/plain": "<matplotlib.axes._subplots.AxesSubplot at 0x1da61f4e188>"
     },
     "execution_count": 87,
     "metadata": {},
     "output_type": "execute_result"
    },
    {
     "data": {
      "image/png": "[encoded data removed]",
      "text/plain": "<Figure size 432x288 with 1 Axes>"
     },
     "metadata": {
      "needs_background": "light",
      "image/png": {
       "width": 388,
       "height": 252
      }
     },
     "output_type": "display_data"
    }
   ],
   "execution_count": null
  },
  {
   "cell_type": "code",
   "metadata": {
    "cell_id": "00025-243bab89-ecf1-45ae-9420-cd53b8ed93f6",
    "deepnote_to_be_reexecuted": true,
    "source_hash": "a991ff65",
    "deepnote_cell_type": "code"
   },
   "source": "# Plot the accuracy\ndf.plot(y=\"accuracy\")",
   "outputs": [
    {
     "data": {
      "text/plain": "<matplotlib.axes._subplots.AxesSubplot at 0x1da61ffe488>"
     },
     "execution_count": 89,
     "metadata": {},
     "output_type": "execute_result"
    },
    {
     "data": {
      "image/png": "[encoded data removed]",
      "text/plain": "<Figure size 432x288 with 1 Axes>"
     },
     "metadata": {
      "needs_background": "light",
      "image/png": {
       "width": 396,
       "height": 252
      }
     },
     "output_type": "display_data"
    }
   ],
   "execution_count": null
  },
  {
   "cell_type": "markdown",
   "source": "<a style='text-decoration:none;line-height:16px;display:flex;color:#5B5B62;padding:10px;justify-content:end;' href='https://deepnote.com?utm_source=created-in-deepnote-cell&projectId=d12c285c-6789-4c45-9ad7-1be9b4d60622' target=\"_blank\">\n<img alt='Created in deepnote.com' style='display:inline;max-height:16px;margin:0px;margin-right:7.5px;' src='data:image/svg+xml;base64,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' > </img>\nCreated in <span style='font-weight:600;margin-left:4px;'>Deepnote</span></a>",
   "metadata": {
    "tags": [],
    "created_in_deepnote_cell": true,
    "deepnote_cell_type": "markdown"
   }
  }
 ],
 "nbformat": 4,
 "nbformat_minor": 5,
 "metadata": {
  "kernelspec": {
   "display_name": "Python 3",
   "language": "python",
   "name": "python3"
  },
  "language_info": {
   "codemirror_mode": {
    "name": "ipython",
    "version": 3
   },
   "file_extension": ".py",
   "mimetype": "text/x-python",
   "name": "python",
   "nbconvert_exporter": "python",
   "pygments_lexer": "ipython3",
   "version": "3.7.10"
  },
  "deepnote_notebook_id": "90397af9-e247-4186-8d19-fe8ce521a225",
  "deepnote": {},
  "deepnote_execution_queue": []
 }
}