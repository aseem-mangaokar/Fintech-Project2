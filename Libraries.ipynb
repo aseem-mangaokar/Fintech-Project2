{
 "cells": [
  {
   "cell_type": "code",
   "metadata": {
    "tags": [],
    "cell_id": "00000-1a14bdf8-f2f9-46da-956f-6efc30fbea86",
    "deepnote_to_be_reexecuted": false,
    "source_hash": "c0e46464",
    "execution_start": 1628640417336,
    "execution_millis": 8816,
    "deepnote_cell_type": "code"
   },
   "source": "!pip install yfinance\n\n!pip install nltk",
   "execution_count": 1,
   "outputs": [
    {
     "name": "stdout",
     "text": "Collecting yfinance\n  Downloading yfinance-0.1.63.tar.gz (26 kB)\nRequirement already satisfied: pandas>=0.24 in /shared-libs/python3.7/py/lib/python3.7/site-packages (from yfinance) (1.2.5)\nRequirement already satisfied: numpy>=1.15 in /shared-libs/python3.7/py/lib/python3.7/site-packages (from yfinance) (1.19.5)\nRequirement already satisfied: requests>=2.20 in /shared-libs/python3.7/py/lib/python3.7/site-packages (from yfinance) (2.26.0)\nCollecting multitasking>=0.0.7\n  Downloading multitasking-0.0.9.tar.gz (8.1 kB)\nRequirement already satisfied: lxml>=4.5.1 in /shared-libs/python3.7/py/lib/python3.7/site-packages (from yfinance) (4.6.3)\nRequirement already satisfied: pytz>=2017.3 in /shared-libs/python3.7/py/lib/python3.7/site-packages (from pandas>=0.24->yfinance) (2021.1)\nRequirement already satisfied: python-dateutil>=2.7.3 in /shared-libs/python3.7/py-core/lib/python3.7/site-packages (from pandas>=0.24->yfinance) (2.8.2)\nRequirement already satisfied: six>=1.5 in /shared-libs/python3.7/py-core/lib/python3.7/site-packages (from python-dateutil>=2.7.3->pandas>=0.24->yfinance) (1.16.0)\nRequirement already satisfied: certifi>=2017.4.17 in /shared-libs/python3.7/py/lib/python3.7/site-packages (from requests>=2.20->yfinance) (2021.5.30)\nRequirement already satisfied: charset-normalizer~=2.0.0 in /shared-libs/python3.7/py/lib/python3.7/site-packages (from requests>=2.20->yfinance) (2.0.4)\nRequirement already satisfied: urllib3<1.27,>=1.21.1 in /shared-libs/python3.7/py/lib/python3.7/site-packages (from requests>=2.20->yfinance) (1.26.6)\nRequirement already satisfied: idna<4,>=2.5 in /shared-libs/python3.7/py-core/lib/python3.7/site-packages (from requests>=2.20->yfinance) (3.2)\nBuilding wheels for collected packages: yfinance, multitasking\n  Building wheel for yfinance (setup.py) ... \u001b[?25ldone\n\u001b[?25h  Created wheel for yfinance: filename=yfinance-0.1.63-py2.py3-none-any.whl size=23919 sha256=930715e437441abed1a4a65aeeacc68e9774a11654bc9278c980f51bea763070\n  Stored in directory: /root/.cache/pip/wheels/fe/87/8b/7ec24486e001d3926537f5f7801f57a74d181be25b11157983\n  Building wheel for multitasking (setup.py) ... \u001b[?25ldone\n\u001b[?25h  Created wheel for multitasking: filename=multitasking-0.0.9-py3-none-any.whl size=8375 sha256=0bb2ccb148385730022173435600d7022f46e7ce21cbb0de8f11584365d6d2ce\n  Stored in directory: /root/.cache/pip/wheels/ae/25/47/4d68431a7ec1b6c4b5233365934b74c1d4e665bf5f968d363a\nSuccessfully built yfinance multitasking\nInstalling collected packages: multitasking, yfinance\nSuccessfully installed multitasking-0.0.9 yfinance-0.1.63\n\u001b[33mWARNING: You are using pip version 21.2.2; however, version 21.2.3 is available.\nYou should consider upgrading via the '/root/venv/bin/python -m pip install --upgrade pip' command.\u001b[0m\nRequirement already satisfied: nltk in /shared-libs/python3.7/py/lib/python3.7/site-packages (3.6.2)\nRequirement already satisfied: regex in /shared-libs/python3.7/py/lib/python3.7/site-packages (from nltk) (2021.8.3)\nRequirement already satisfied: joblib in /shared-libs/python3.7/py/lib/python3.7/site-packages (from nltk) (1.0.1)\nRequirement already satisfied: tqdm in /shared-libs/python3.7/py/lib/python3.7/site-packages (from nltk) (4.62.0)\nRequirement already satisfied: click in /shared-libs/python3.7/py/lib/python3.7/site-packages (from nltk) (7.1.2)\n\u001b[33mWARNING: You are using pip version 21.2.2; however, version 21.2.3 is available.\nYou should consider upgrading via the '/root/venv/bin/python -m pip install --upgrade pip' command.\u001b[0m\n",
     "output_type": "stream"
    }
   ]
  },
  {
   "cell_type": "code",
   "metadata": {
    "tags": [],
    "cell_id": "00001-9eb603d9-eed7-45b6-83f9-0af0f3224a46",
    "deepnote_to_be_reexecuted": false,
    "source_hash": "62de06b7",
    "execution_start": 1628358688200,
    "execution_millis": 4947,
    "deepnote_cell_type": "code"
   },
   "source": "!pip install python-dotenv",
   "execution_count": null,
   "outputs": [
    {
     "name": "stdout",
     "text": "Collecting python-dotenv\n  Downloading python_dotenv-0.19.0-py2.py3-none-any.whl (17 kB)\nInstalling collected packages: python-dotenv\nSuccessfully installed python-dotenv-0.19.0\n\u001b[33mWARNING: You are using pip version 21.2.2; however, version 21.2.3 is available.\nYou should consider upgrading via the '/root/venv/bin/python -m pip install --upgrade pip' command.\u001b[0m\n",
     "output_type": "stream"
    }
   ]
  },
  {
   "cell_type": "code",
   "metadata": {
    "tags": [],
    "cell_id": "00002-5a027e34-e6b3-4c96-b816-d43dc1721a12",
    "deepnote_to_be_reexecuted": false,
    "source_hash": "1b9541f2",
    "execution_start": 1628362565640,
    "execution_millis": 20668,
    "deepnote_cell_type": "code"
   },
   "source": "!pip install hvplot",
   "execution_count": null,
   "outputs": [
    {
     "name": "stdout",
     "text": "Collecting hvplot\n  Downloading hvplot-0.7.3-py2.py3-none-any.whl (3.1 MB)\n\u001b[K     |████████████████████████████████| 3.1 MB 6.7 MB/s \n\u001b[?25hCollecting colorcet>=2\n  Downloading colorcet-2.0.6-py2.py3-none-any.whl (1.6 MB)\n\u001b[K     |████████████████████████████████| 1.6 MB 8.3 MB/s \n\u001b[?25hRequirement already satisfied: bokeh>=1.0.0 in /shared-libs/python3.7/py/lib/python3.7/site-packages (from hvplot) (2.3.3)\nCollecting holoviews>=1.11.0\n  Downloading holoviews-1.14.5-py3-none-any.whl (4.3 MB)\n\u001b[K     |████████████████████████████████| 4.3 MB 39.4 MB/s \n\u001b[?25hRequirement already satisfied: numpy>=1.15 in /shared-libs/python3.7/py/lib/python3.7/site-packages (from hvplot) (1.19.5)\nRequirement already satisfied: pandas in /shared-libs/python3.7/py/lib/python3.7/site-packages (from hvplot) (1.2.5)\nRequirement already satisfied: python-dateutil>=2.1 in /shared-libs/python3.7/py-core/lib/python3.7/site-packages (from bokeh>=1.0.0->hvplot) (2.8.2)\nRequirement already satisfied: Jinja2>=2.9 in /shared-libs/python3.7/py-core/lib/python3.7/site-packages (from bokeh>=1.0.0->hvplot) (3.0.1)\nRequirement already satisfied: typing-extensions>=3.7.4 in /shared-libs/python3.7/py-core/lib/python3.7/site-packages (from bokeh>=1.0.0->hvplot) (3.10.0.0)\nRequirement already satisfied: packaging>=16.8 in /shared-libs/python3.7/py-core/lib/python3.7/site-packages (from bokeh>=1.0.0->hvplot) (21.0)\nRequirement already satisfied: pillow>=7.1.0 in /shared-libs/python3.7/py/lib/python3.7/site-packages (from bokeh>=1.0.0->hvplot) (8.3.1)\nRequirement already satisfied: PyYAML>=3.10 in /shared-libs/python3.7/py/lib/python3.7/site-packages (from bokeh>=1.0.0->hvplot) (5.4.1)\nRequirement already satisfied: tornado>=5.1 in /shared-libs/python3.7/py-core/lib/python3.7/site-packages (from bokeh>=1.0.0->hvplot) (6.1)\nCollecting pyct>=0.4.4\n  Downloading pyct-0.4.8-py2.py3-none-any.whl (15 kB)\nCollecting param>=1.7.0\n  Downloading param-1.11.1-py2.py3-none-any.whl (79 kB)\n\u001b[K     |████████████████████████████████| 79 kB 7.3 MB/s \n\u001b[?25hCollecting panel>=0.8.0\n  Downloading panel-0.12.0-py2.py3-none-any.whl (9.9 MB)\n\u001b[K     |████████████████████████████████| 9.9 MB 27.0 MB/s \n\u001b[?25hCollecting pyviz-comms>=0.7.4\n  Downloading pyviz_comms-2.1.0-py2.py3-none-any.whl (40 kB)\n\u001b[K     |████████████████████████████████| 40 kB 10.9 MB/s \n\u001b[?25hRequirement already satisfied: MarkupSafe>=2.0 in /shared-libs/python3.7/py-core/lib/python3.7/site-packages (from Jinja2>=2.9->bokeh>=1.0.0->hvplot) (2.0.1)\nRequirement already satisfied: pyparsing>=2.0.2 in /shared-libs/python3.7/py-core/lib/python3.7/site-packages (from packaging>=16.8->bokeh>=1.0.0->hvplot) (2.4.7)\nRequirement already satisfied: pytz>=2017.3 in /shared-libs/python3.7/py/lib/python3.7/site-packages (from pandas->hvplot) (2021.1)\nRequirement already satisfied: tqdm in /shared-libs/python3.7/py/lib/python3.7/site-packages (from panel>=0.8.0->holoviews>=1.11.0->hvplot) (4.62.0)\nRequirement already satisfied: bleach in /shared-libs/python3.7/py-core/lib/python3.7/site-packages (from panel>=0.8.0->holoviews>=1.11.0->hvplot) (4.0.0)\nRequirement already satisfied: requests in /shared-libs/python3.7/py/lib/python3.7/site-packages (from panel>=0.8.0->holoviews>=1.11.0->hvplot) (2.26.0)\nRequirement already satisfied: markdown in /shared-libs/python3.7/py/lib/python3.7/site-packages (from panel>=0.8.0->holoviews>=1.11.0->hvplot) (3.3.4)\nRequirement already satisfied: six>=1.5 in /shared-libs/python3.7/py-core/lib/python3.7/site-packages (from python-dateutil>=2.1->bokeh>=1.0.0->hvplot) (1.16.0)\nRequirement already satisfied: webencodings in /shared-libs/python3.7/py-core/lib/python3.7/site-packages (from bleach->panel>=0.8.0->holoviews>=1.11.0->hvplot) (0.5.1)\nRequirement already satisfied: importlib-metadata in /shared-libs/python3.7/py-core/lib/python3.7/site-packages (from markdown->panel>=0.8.0->holoviews>=1.11.0->hvplot) (3.10.1)\nRequirement already satisfied: zipp>=0.5 in /shared-libs/python3.7/py-core/lib/python3.7/site-packages (from importlib-metadata->markdown->panel>=0.8.0->holoviews>=1.11.0->hvplot) (3.5.0)\nRequirement already satisfied: urllib3<1.27,>=1.21.1 in /shared-libs/python3.7/py/lib/python3.7/site-packages (from requests->panel>=0.8.0->holoviews>=1.11.0->hvplot) (1.26.6)\nRequirement already satisfied: idna<4,>=2.5 in /shared-libs/python3.7/py-core/lib/python3.7/site-packages (from requests->panel>=0.8.0->holoviews>=1.11.0->hvplot) (3.2)\nRequirement already satisfied: certifi>=2017.4.17 in /shared-libs/python3.7/py/lib/python3.7/site-packages (from requests->panel>=0.8.0->holoviews>=1.11.0->hvplot) (2021.5.30)\nRequirement already satisfied: charset-normalizer~=2.0.0 in /shared-libs/python3.7/py/lib/python3.7/site-packages (from requests->panel>=0.8.0->holoviews>=1.11.0->hvplot) (2.0.4)\nInstalling collected packages: param, pyviz-comms, pyct, panel, colorcet, holoviews, hvplot\nSuccessfully installed colorcet-2.0.6 holoviews-1.14.5 hvplot-0.7.3 panel-0.12.0 param-1.11.1 pyct-0.4.8 pyviz-comms-2.1.0\n\u001b[33mWARNING: You are using pip version 21.2.2; however, version 21.2.3 is available.\nYou should consider upgrading via the '/root/venv/bin/python -m pip install --upgrade pip' command.\u001b[0m\n",
     "output_type": "stream"
    }
   ]
  },
  {
   "cell_type": "code",
   "source": "!pip install --upgrade ta",
   "metadata": {
    "tags": [],
    "cell_id": "00003-a45e4fe6-f458-4e86-8238-e82bb7aa0954",
    "deepnote_to_be_reexecuted": false,
    "source_hash": "8c73471f",
    "execution_start": 1628640492112,
    "execution_millis": 2610,
    "deepnote_cell_type": "code"
   },
   "outputs": [
    {
     "name": "stdout",
     "text": "Requirement already satisfied: ta in /root/venv/lib/python3.7/site-packages (0.7.0)\nRequirement already satisfied: numpy in /shared-libs/python3.7/py/lib/python3.7/site-packages (from ta) (1.19.5)\nRequirement already satisfied: pandas in /shared-libs/python3.7/py/lib/python3.7/site-packages (from ta) (1.2.5)\nRequirement already satisfied: pytz>=2017.3 in /shared-libs/python3.7/py/lib/python3.7/site-packages (from pandas->ta) (2021.1)\nRequirement already satisfied: python-dateutil>=2.7.3 in /shared-libs/python3.7/py-core/lib/python3.7/site-packages (from pandas->ta) (2.8.2)\nRequirement already satisfied: six>=1.5 in /shared-libs/python3.7/py-core/lib/python3.7/site-packages (from python-dateutil>=2.7.3->pandas->ta) (1.16.0)\n\u001b[33mWARNING: You are using pip version 21.2.2; however, version 21.2.3 is available.\nYou should consider upgrading via the '/root/venv/bin/python -m pip install --upgrade pip' command.\u001b[0m\n",
     "output_type": "stream"
    }
   ],
   "execution_count": 3
  },
  {
   "cell_type": "markdown",
   "source": "<a style='text-decoration:none;line-height:16px;display:flex;color:#5B5B62;padding:10px;justify-content:end;' href='https://deepnote.com?utm_source=created-in-deepnote-cell&projectId=d12c285c-6789-4c45-9ad7-1be9b4d60622' target=\"_blank\">\n<img alt='Created in deepnote.com' style='display:inline;max-height:16px;margin:0px;margin-right:7.5px;' src='data:image/svg+xml;base64,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' > </img>\nCreated in <span style='font-weight:600;margin-left:4px;'>Deepnote</span></a>",
   "metadata": {
    "tags": [],
    "created_in_deepnote_cell": true,
    "deepnote_cell_type": "markdown"
   }
  }
 ],
 "nbformat": 4,
 "nbformat_minor": 2,
 "metadata": {
  "orig_nbformat": 2,
  "deepnote": {
   "is_reactive": false
  },
  "deepnote_notebook_id": "d93a0f72-780a-48d1-ba08-86d448ecb4e4",
  "deepnote_execution_queue": []
 }
}